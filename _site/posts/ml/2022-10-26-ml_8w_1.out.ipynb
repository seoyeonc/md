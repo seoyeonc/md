{
  "cells": [
    {
      "cell_type": "markdown",
      "metadata": {},
      "source": [
        "# CNN (8주차) 1\n",
        "\n",
        "SEOYEON CHOI  \n",
        "2022-10-26\n",
        "\n",
        "기계학습 특강 (8주차) 10월26일–(1) \\[이미지자료분석 - CNN 다중클래스\n",
        "분류, fastai metric 사용\\]\n",
        "\n",
        "## imports"
      ],
      "id": "233e8c3c-0bb9-4921-afc2-2fc777065c76"
    },
    {
      "cell_type": "code",
      "execution_count": 1,
      "metadata": {},
      "outputs": [],
      "source": [
        "import torch \n",
        "import torchvision\n",
        "import numpy as np\n",
        "from fastai.vision.all import * "
      ],
      "id": "2bcc3320-8bfa-4696-b964-b348d83bd325"
    },
    {
      "cell_type": "code",
      "execution_count": 2,
      "metadata": {},
      "outputs": [],
      "source": [
        "import graphviz\n",
        "def gv(s): return graphviz.Source('digraph G{ rankdir=\"LR\"'+s + '; }');"
      ],
      "id": "a8c4db6d-99af-41bc-8f25-26dc24ba825d"
    },
    {
      "cell_type": "code",
      "execution_count": 3,
      "metadata": {
        "outputId": "17f7d33d-23ec-44e0-d141-187b72972dad"
      },
      "outputs": [
        {
          "output_type": "display_data",
          "metadata": {},
          "data": {
            "text/plain": [
              "'svg'"
            ]
          }
        }
      ],
      "source": [
        "#hide\n",
        "graphviz.set_jupyter_format('png')"
      ],
      "id": "1f5e1460-f01d-4dd3-82f5-98af639a3dbc"
    },
    {
      "cell_type": "markdown",
      "metadata": {},
      "source": [
        "## CNN 다중클래스 분류\n",
        "\n",
        "### 결론 (그냥 외우세요)\n",
        "\n",
        "`-` 2개의 class를 구분하는 문제가 아니라 $k$개의 class를 구분해야\n",
        "한다면?\n",
        "\n",
        "***일반적인 개념***\n",
        "\n",
        "-   손실함수: BCE loss $\\to$ Cross Entropy loss\n",
        "-   마지막층의 선형변환: torch.nn.Linear(?,1) $\\to$ torch.nn.Linear(?,k)\n",
        "-   마지막층의 활성화: sig $\\to$ softmax\n",
        "\n",
        "***파이토치 한정*** - **y의형태: (n,) vector + int형 // (n,k) one-hot\n",
        "encoded vector + float형** - 손실함수: torch.nn.BCEWithLogitsLoss, $\\to$\n",
        "torch.nn.CrossEntropyLoss - 마지막층의 선형변환: torch.nn.Linear(?,1)\n",
        "$\\to$ torch.nn.Linear(?,k) - 마지막층의 활성화: None $\\to$ None\n",
        "(손실함수에 이미 마지막층의 활성화가 포함)\n",
        "\n",
        "### 실습: 3개의 클래스를 구분"
      ],
      "id": "2eaeb646-6d85-4888-a9c8-f679cd98d0c5"
    },
    {
      "cell_type": "code",
      "execution_count": 4,
      "metadata": {},
      "outputs": [],
      "source": [
        "path = untar_data(URLs.MNIST)"
      ],
      "id": "5d9d64c1-44d5-4033-8027-5f7674b503a6"
    },
    {
      "cell_type": "markdown",
      "metadata": {},
      "source": [
        "training set"
      ],
      "id": "f6386294-7dba-4e5d-811b-c326f6920609"
    },
    {
      "cell_type": "code",
      "execution_count": 5,
      "metadata": {},
      "outputs": [],
      "source": [
        "X0 = torch.stack([torchvision.io.read_image(str(fname)) for fname in (path/'training/0').ls()])\n",
        "X1 = torch.stack([torchvision.io.read_image(str(fname)) for fname in (path/'training/1').ls()])\n",
        "X2 = torch.stack([torchvision.io.read_image(str(fname)) for fname in (path/'training/2').ls()])\n",
        "X = torch.concat([X0,X1,X2])/255\n",
        "y = torch.tensor([0]*len(X0) + [1]*len(X1)+ [2]*len(X2))#.reshape(-1,1)"
      ],
      "id": "9075cc8f-75e9-40d7-92ac-fe2b81e17fc4"
    },
    {
      "cell_type": "markdown",
      "metadata": {},
      "source": [
        "**다중일때 int가 아닌float으로서 y를 정의해준 모습**\n",
        "\n",
        "test set"
      ],
      "id": "fda2e883-ff46-425b-9dc5-50f64f09ee59"
    },
    {
      "cell_type": "code",
      "execution_count": 6,
      "metadata": {},
      "outputs": [],
      "source": [
        "X0 = torch.stack([torchvision.io.read_image(str(fname)) for fname in (path/'testing/0').ls()])\n",
        "X1 = torch.stack([torchvision.io.read_image(str(fname)) for fname in (path/'testing/1').ls()])\n",
        "X2 = torch.stack([torchvision.io.read_image(str(fname)) for fname in (path/'testing/2').ls()])\n",
        "XX = torch.concat([X0,X1,X2])/255\n",
        "yy = torch.tensor([0]*len(X0) + [1]*len(X1)+ [2]*len(X2))#.reshape(-1,1)"
      ],
      "id": "1c1c704d-192b-4e2a-be27-76a6f47785e1"
    },
    {
      "cell_type": "markdown",
      "metadata": {},
      "source": [
        "1.  dls"
      ],
      "id": "91bea3d8-110d-4ca9-85cc-f23538b0a8f3"
    },
    {
      "cell_type": "code",
      "execution_count": 9,
      "metadata": {
        "outputId": "ad03d0a5-1658-46e3-bf52-591bfb8108db"
      },
      "outputs": [
        {
          "output_type": "display_data",
          "metadata": {},
          "data": {
            "text/plain": [
              "18623"
            ]
          }
        }
      ],
      "source": [
        "len(X)"
      ],
      "id": "fb8607d3-cbb2-4a65-8348-f1fce0515afc"
    },
    {
      "cell_type": "code",
      "execution_count": 10,
      "metadata": {},
      "outputs": [],
      "source": [
        "ds1 = torch.utils.data.TensorDataset(X,y) \n",
        "ds2 = torch.utils.data.TensorDataset(XX,yy) \n",
        "dl1 = torch.utils.data.DataLoader(ds1,batch_size=1862) # 에폭당 11번 iter\n",
        "dl2 = torch.utils.data.DataLoader(ds2,batch_size=3147) # \n",
        "dls = DataLoaders(dl1,dl2) "
      ],
      "id": "59b1004a-ca4b-41c5-93c6-53965e81f26c"
    },
    {
      "cell_type": "markdown",
      "metadata": {},
      "source": [
        "1.  lrnr"
      ],
      "id": "3dbaff44-a375-465f-9357-0ca2000a235c"
    },
    {
      "cell_type": "code",
      "execution_count": 14,
      "metadata": {},
      "outputs": [],
      "source": [
        "net1 = torch.nn.Sequential(\n",
        "    torch.nn.Conv2d(1,16,(5,5)),\n",
        "    torch.nn.ReLU(),\n",
        "    torch.nn.MaxPool2d((2,2)),\n",
        "    torch.nn.Flatten()\n",
        ")"
      ],
      "id": "8a06cf51-7057-4be3-89be-26cea6ecb3f2"
    },
    {
      "cell_type": "code",
      "execution_count": 15,
      "metadata": {
        "outputId": "79c0150e-ad6a-417d-9cce-cae07ff7de00"
      },
      "outputs": [
        {
          "output_type": "display_data",
          "metadata": {},
          "data": {
            "text/plain": [
              "torch.Size([18623, 2304])"
            ]
          }
        }
      ],
      "source": [
        "net1(X).shape"
      ],
      "id": "5a1cb5f3-2f9c-407e-96c4-b6e0cef07abc"
    },
    {
      "cell_type": "code",
      "execution_count": 16,
      "metadata": {},
      "outputs": [],
      "source": [
        "net = torch.nn.Sequential(\n",
        "    net1,\n",
        "    torch.nn.Linear(2304,3) # 0,1,2 3개를 구분하는 문제이므로 out_features=3 \n",
        ")\n",
        "loss_fn = torch.nn.CrossEntropyLoss() "
      ],
      "id": "2f6c35e9-c3f5-40f0-9e73-e889b65cd163"
    },
    {
      "cell_type": "code",
      "execution_count": 17,
      "metadata": {},
      "outputs": [],
      "source": [
        "lrnr = Learner(dls,net,loss_fn) "
      ],
      "id": "5ca3a152-c2e5-4497-ac0b-18a1933d0084"
    },
    {
      "cell_type": "markdown",
      "metadata": {},
      "source": [
        "adam기본인 learner\n",
        "\n",
        "1.  학습\n",
        "\n",
        "지금은 epoch당 11번 도는 설정, 18623/1862 = 11.xx"
      ],
      "id": "227dc51b-7793-4d33-bd83-1ae25c0a7e42"
    },
    {
      "cell_type": "code",
      "execution_count": 18,
      "metadata": {
        "outputId": "8e5f743b-2521-4747-d7ef-1b3138e872f5"
      },
      "outputs": [
        {
          "output_type": "display_data",
          "metadata": {},
          "data": {}
        }
      ],
      "source": [
        "lrnr.fit(10) "
      ],
      "id": "6b97c6a5-1f2e-4467-ad9f-a44277363792"
    },
    {
      "cell_type": "markdown",
      "metadata": {},
      "source": [
        "1.  예측"
      ],
      "id": "5645f663-4c28-42c8-abd4-412e3a475078"
    },
    {
      "cell_type": "code",
      "execution_count": 19,
      "metadata": {
        "outputId": "083e5922-9223-4d00-b76c-2c97b7d35dd6"
      },
      "outputs": [
        {
          "output_type": "display_data",
          "metadata": {},
          "data": {
            "text/plain": [
              "Sequential(\n",
              "  (0): Sequential(\n",
              "    (0): Conv2d(1, 16, kernel_size=(5, 5), stride=(1, 1))\n",
              "    (1): ReLU()\n",
              "    (2): MaxPool2d(kernel_size=(2, 2), stride=(2, 2), padding=0, dilation=1, ceil_mode=False)\n",
              "    (3): Flatten(start_dim=1, end_dim=-1)\n",
              "  )\n",
              "  (1): Linear(in_features=2304, out_features=3, bias=True)\n",
              ")"
            ]
          }
        }
      ],
      "source": [
        "lrnr.model.to(\"cpu\")"
      ],
      "id": "b6a9a62e-14bb-4424-aab2-edd55aa4d73a"
    },
    {
      "cell_type": "code",
      "execution_count": 20,
      "metadata": {
        "outputId": "3fea976e-fed1-4bdc-cffe-db4f2105e056"
      },
      "outputs": [
        {
          "output_type": "display_data",
          "metadata": {},
          "data": {
            "text/html": [
              "\n",
              "<p>3147 rows × 4 columns</p>\n",
              "</div>"
            ]
          }
        }
      ],
      "source": [
        "pd.DataFrame(lrnr.model(XX)).assign(y=yy) "
      ],
      "id": "5a373c87-ae50-4026-8fdc-cc6f84179c06"
    },
    {
      "cell_type": "code",
      "execution_count": 21,
      "metadata": {
        "outputId": "f8dc139f-30ca-4a83-afa1-ec77383f83a1"
      },
      "outputs": [
        {
          "output_type": "display_data",
          "metadata": {},
          "data": {
            "text/html": [
              "\n",
              "<p>980 rows × 4 columns</p>\n",
              "</div>"
            ]
          }
        }
      ],
      "source": [
        "pd.DataFrame(lrnr.model(XX)).assign(y=yy).query('y==0')"
      ],
      "id": "2d10b166-f338-441b-87cf-a16b085c060f"
    },
    {
      "cell_type": "markdown",
      "metadata": {},
      "source": [
        "-   대체적으로 첫번째 칼럼의 숫자들이 다른칼럼보다 크다."
      ],
      "id": "b2a118f1-a513-41a7-a610-4bbab36fd7ad"
    },
    {
      "cell_type": "code",
      "execution_count": 22,
      "metadata": {
        "outputId": "858575f5-cd54-49c8-fb6f-6dd3ab8e722c"
      },
      "outputs": [
        {
          "output_type": "display_data",
          "metadata": {},
          "data": {
            "text/html": [
              "\n",
              "<p>1135 rows × 4 columns</p>\n",
              "</div>"
            ]
          }
        }
      ],
      "source": [
        "pd.DataFrame(lrnr.model(XX)).assign(y=yy).query('y==1')"
      ],
      "id": "462a91a9-0f94-49e5-ad1b-74ee57574e09"
    },
    {
      "cell_type": "markdown",
      "metadata": {},
      "source": [
        "-   대체적으로 두번째 칼럼의 숫자들이 다른칼럼보다 크다."
      ],
      "id": "b83e6582-e17a-494a-9f43-0eac5a7ca6b5"
    },
    {
      "cell_type": "code",
      "execution_count": 23,
      "metadata": {
        "outputId": "f691cfb3-05eb-4a4a-a792-cee95b03eb1d"
      },
      "outputs": [
        {
          "output_type": "display_data",
          "metadata": {},
          "data": {
            "text/html": [
              "\n",
              "<p>1032 rows × 4 columns</p>\n",
              "</div>"
            ]
          }
        }
      ],
      "source": [
        "pd.DataFrame(lrnr.model(XX)).assign(y=yy).query('y==2')"
      ],
      "id": "71bd24c1-d4d6-495e-94bf-3870a536e257"
    },
    {
      "cell_type": "markdown",
      "metadata": {},
      "source": [
        "-   대체적으로 세번째 칼럼의 숫자들이 다른칼럼보다 크다.\n",
        "\n",
        "`-` 예측하는방법? - 칼럼0의 숫자가 크다 -\\> y=0일 확률이 큼 - 칼럼1의\n",
        "숫자가 크다 -\\> y=1일 확률이 큼 - 칼럼2의 숫자가 크다 -\\> y=2일 확률이\n",
        "큼\n",
        "\n",
        "### 공부: Softmax\n",
        "\n",
        "`-` 눈치: softmax를 쓰기 직전의 숫자들은 (n,k)꼴로 되어있음. 각\n",
        "observation 마다 k개의 숫자가 있는데, 그중에서 유난히 큰 하나의 숫자가\n",
        "있음.\n",
        "\n",
        "`-` torch.nn.Softmax() 손계산\n",
        "\n",
        "(예시1) – 잘못계산"
      ],
      "id": "a7027ded-2fb2-43e5-a02e-67521f403a26"
    },
    {
      "cell_type": "code",
      "execution_count": 24,
      "metadata": {},
      "outputs": [
        {
          "output_type": "display_data",
          "metadata": {},
          "data": {
            "text/html": [
              "<pre><span class=\"ansi-red-fg\">Init signature:</span> torch<span class=\"ansi-blue-fg\">.</span>nn<span class=\"ansi-blue-fg\">.</span>Softmax<span class=\"ansi-blue-fg\">(</span>dim<span class=\"ansi-blue-fg\">:</span> Union<span class=\"ansi-blue-fg\">[</span>int<span class=\"ansi-blue-fg\">,</span> NoneType<span class=\"ansi-blue-fg\">]</span> <span class=\"ansi-blue-fg\">=</span> <span class=\"ansi-green-fg\">None</span><span class=\"ansi-blue-fg\">)</span> <span class=\"ansi-blue-fg\">-&gt;</span> <span class=\"ansi-green-fg\">None</span>\n",
              "<span class=\"ansi-red-fg\">Docstring:</span>     \n",
              "Applies the Softmax function to an n-dimensional input Tensor\n",
              "rescaling them so that the elements of the n-dimensional output Tensor\n",
              "lie in the range [0,1] and sum to 1.\n",
              "Softmax is defined as:\n",
              ".. math::\n",
              "    \\text{Softmax}(x_{i}) = \\frac{\\exp(x_i)}{\\sum_j \\exp(x_j)}\n",
              "When the input Tensor is a sparse tensor then the unspecifed\n",
              "values are treated as ``-inf``.\n",
              "Shape:\n",
              "    - Input: :math:`(*)` where `*` means, any number of additional\n",
              "      dimensions\n",
              "    - Output: :math:`(*)`, same shape as the input\n",
              "Returns:\n",
              "    a Tensor of the same dimension and shape as the input with\n",
              "    values in the range [0, 1]\n",
              "Args:\n",
              "    dim (int): A dimension along which Softmax will be computed (so every slice\n",
              "        along dim will sum to 1).\n",
              ".. note::\n",
              "    This module doesn't work directly with NLLLoss,\n",
              "    which expects the Log to be computed between the Softmax and itself.\n",
              "    Use `LogSoftmax` instead (it's faster and has better numerical properties).\n",
              "Examples::\n",
              "    &gt;&gt;&gt; m = nn.Softmax(dim=1)\n",
              "    &gt;&gt;&gt; input = torch.randn(2, 3)\n",
              "    &gt;&gt;&gt; output = m(input)\n",
              "<span class=\"ansi-red-fg\">Init docstring:</span> Initializes internal Module state, shared by both nn.Module and ScriptModule.\n",
              "<span class=\"ansi-red-fg\">File:</span>           ~/anaconda3/envs/csy/lib/python3.8/site-packages/torch/nn/modules/activation.py\n",
              "<span class=\"ansi-red-fg\">Type:</span>           type\n",
              "<span class=\"ansi-red-fg\">Subclasses:</span>     \n",
              "</pre>"
            ]
          }
        }
      ],
      "source": [
        "torch.nn.Softmax?"
      ],
      "id": "55ddb3f2-617f-4087-bfee-56b95dc7b244"
    },
    {
      "cell_type": "code",
      "execution_count": 31,
      "metadata": {},
      "outputs": [],
      "source": [
        "sftmax = torch.nn.Softmax(dim=0) # columns"
      ],
      "id": "72af0ecb-53bc-40f5-a344-6fb3836f458e"
    },
    {
      "cell_type": "code",
      "execution_count": 32,
      "metadata": {
        "outputId": "c9c26c54-2e1f-430d-b56e-c024caf9669d"
      },
      "outputs": [
        {
          "output_type": "display_data",
          "metadata": {},
          "data": {
            "text/plain": [
              "tensor([[-2.0000, -2.0000,  0.0000],\n",
              "        [ 3.1400,  3.1400,  3.1400],\n",
              "        [ 0.0000,  0.0000,  2.0000],\n",
              "        [ 2.0000,  2.0000,  4.0000],\n",
              "        [ 0.0000,  0.0000,  0.0000]])"
            ]
          }
        }
      ],
      "source": [
        "_netout = torch.tensor([[-2.0,-2.0,0.0],\n",
        "                        [3.14,3.14,3.14],\n",
        "                        [0.0,0.0,2.0],\n",
        "                        [2.0,2.0,4.0],\n",
        "                        [0.0,0.0,0.0]])\n",
        "_netout"
      ],
      "id": "bfd273eb-c99d-4f8b-8825-452c7b418ef3"
    },
    {
      "cell_type": "code",
      "execution_count": 33,
      "metadata": {
        "outputId": "6bd08e77-8314-42d0-9cbe-a29920c06562"
      },
      "outputs": [
        {
          "output_type": "display_data",
          "metadata": {},
          "data": {
            "text/plain": [
              "tensor([[0.0041, 0.0041, 0.0115],\n",
              "        [0.7081, 0.7081, 0.2653],\n",
              "        [0.0306, 0.0306, 0.0848],\n",
              "        [0.2265, 0.2265, 0.6269],\n",
              "        [0.0306, 0.0306, 0.0115]])"
            ]
          }
        }
      ],
      "source": [
        "sftmax(_netout) "
      ],
      "id": "f778b833-8d35-4e26-89d4-e8dd16f8ddfa"
    },
    {
      "cell_type": "markdown",
      "metadata": {},
      "source": [
        "(예시2) – 이게 맞게 계산되는 것임"
      ],
      "id": "8a8dfe0f-4cc3-418e-bf54-85eb9baf65d6"
    },
    {
      "cell_type": "code",
      "execution_count": 34,
      "metadata": {},
      "outputs": [],
      "source": [
        "sftmax = torch.nn.Softmax(dim=1) # rows"
      ],
      "id": "2cbdfb8b-049d-46bf-8707-37dab346d088"
    },
    {
      "cell_type": "code",
      "execution_count": 35,
      "metadata": {
        "outputId": "59a18352-e47f-4a7e-b929-bc5b6085a329"
      },
      "outputs": [
        {
          "output_type": "display_data",
          "metadata": {},
          "data": {
            "text/plain": [
              "tensor([[-2.0000, -2.0000,  0.0000],\n",
              "        [ 3.1400,  3.1400,  3.1400],\n",
              "        [ 0.0000,  0.0000,  2.0000],\n",
              "        [ 2.0000,  2.0000,  4.0000],\n",
              "        [ 0.0000,  0.0000,  0.0000]])"
            ]
          }
        }
      ],
      "source": [
        "_netout"
      ],
      "id": "9c8b7430-2a01-4975-aa92-f4f29a5630a5"
    },
    {
      "cell_type": "code",
      "execution_count": 36,
      "metadata": {
        "outputId": "7f534fb9-4a4a-4dc1-e432-ac7e663db610"
      },
      "outputs": [
        {
          "output_type": "display_data",
          "metadata": {},
          "data": {
            "text/plain": [
              "tensor([[0.1065, 0.1065, 0.7870],\n",
              "        [0.3333, 0.3333, 0.3333],\n",
              "        [0.1065, 0.1065, 0.7870],\n",
              "        [0.1065, 0.1065, 0.7870],\n",
              "        [0.3333, 0.3333, 0.3333]])"
            ]
          }
        }
      ],
      "source": [
        "sftmax(_netout)"
      ],
      "id": "3ceeb181-dab4-4214-a0b7-dc3978fa8b8e"
    },
    {
      "cell_type": "markdown",
      "metadata": {},
      "source": [
        "(예시3) – 차원을 명시안하면 맞게 계산해주고 경고 줌"
      ],
      "id": "ba008298-4cd8-44d6-9fdf-33cae68f17a6"
    },
    {
      "cell_type": "code",
      "execution_count": 37,
      "metadata": {},
      "outputs": [],
      "source": [
        "sftmax = torch.nn.Softmax()"
      ],
      "id": "47d2a564-902a-4f05-bbc8-68cad148f718"
    },
    {
      "cell_type": "code",
      "execution_count": 38,
      "metadata": {
        "outputId": "465e670c-d4e5-43b2-b06b-99c6efb0e4a2"
      },
      "outputs": [
        {
          "output_type": "display_data",
          "metadata": {},
          "data": {
            "text/plain": [
              "tensor([[-2.0000, -2.0000,  0.0000],\n",
              "        [ 3.1400,  3.1400,  3.1400],\n",
              "        [ 0.0000,  0.0000,  2.0000],\n",
              "        [ 2.0000,  2.0000,  4.0000],\n",
              "        [ 0.0000,  0.0000,  0.0000]])"
            ]
          }
        }
      ],
      "source": [
        "_netout"
      ],
      "id": "b53cea7c-83f5-4bfd-8403-928cc1e76146"
    },
    {
      "cell_type": "code",
      "execution_count": 40,
      "metadata": {
        "outputId": "61e59513-bda8-4d1a-e821-f266452ce1ea"
      },
      "outputs": [
        {
          "output_type": "stream",
          "name": "stderr",
          "text": [
            "/tmp/ipykernel_2380807/3715462293.py:1: UserWarning: Implicit dimension choice for softmax has been deprecated. Change the call to include dim=X as an argument.\n",
            "  sftmax(_netout)"
          ]
        },
        {
          "output_type": "display_data",
          "metadata": {},
          "data": {
            "text/plain": [
              "tensor([[0.1065, 0.1065, 0.7870],\n",
              "        [0.3333, 0.3333, 0.3333],\n",
              "        [0.1065, 0.1065, 0.7870],\n",
              "        [0.1065, 0.1065, 0.7870],\n",
              "        [0.3333, 0.3333, 0.3333]])"
            ]
          }
        }
      ],
      "source": [
        "sftmax(_netout)"
      ],
      "id": "d1f8b716-24b2-4ec9-8b25-275e1d9a5dc3"
    },
    {
      "cell_type": "markdown",
      "metadata": {},
      "source": [
        "(예시4) – 진짜 손계산"
      ],
      "id": "3a903205-3bb0-4073-aa6c-392986415f1f"
    },
    {
      "cell_type": "code",
      "execution_count": 41,
      "metadata": {
        "outputId": "c8e19811-974d-430d-a716-e4b6aaab9095"
      },
      "outputs": [
        {
          "output_type": "display_data",
          "metadata": {},
          "data": {
            "text/plain": [
              "tensor([[-2.0000, -2.0000,  0.0000],\n",
              "        [ 3.1400,  3.1400,  3.1400],\n",
              "        [ 0.0000,  0.0000,  2.0000],\n",
              "        [ 2.0000,  2.0000,  4.0000],\n",
              "        [ 0.0000,  0.0000,  0.0000]])"
            ]
          }
        }
      ],
      "source": [
        "_netout "
      ],
      "id": "f77bc8e3-82d3-4ace-89c0-eeeca757ebf9"
    },
    {
      "cell_type": "code",
      "execution_count": 42,
      "metadata": {
        "outputId": "a65de163-7d4f-46de-f9aa-5139c58e4b45"
      },
      "outputs": [
        {
          "output_type": "display_data",
          "metadata": {},
          "data": {
            "text/plain": [
              "tensor([[ 0.1353,  0.1353,  1.0000],\n",
              "        [23.1039, 23.1039, 23.1039],\n",
              "        [ 1.0000,  1.0000,  7.3891],\n",
              "        [ 7.3891,  7.3891, 54.5981],\n",
              "        [ 1.0000,  1.0000,  1.0000]])"
            ]
          }
        }
      ],
      "source": [
        "torch.exp(_netout)"
      ],
      "id": "4c3145f6-ae88-46f4-8ee0-63495a80eaba"
    },
    {
      "cell_type": "code",
      "execution_count": 43,
      "metadata": {
        "outputId": "5bcade08-d231-4d8f-9b79-e2bdb0a18116"
      },
      "outputs": [
        {
          "output_type": "display_data",
          "metadata": {},
          "data": {
            "text/plain": [
              "(0.10648512513773022, 0.10648512513773022, 0.7870297497245397)"
            ]
          }
        }
      ],
      "source": [
        "0.1353/(0.1353 + 0.1353 + 1.0000), 0.1353/(0.1353 + 0.1353 + 1.0000), 1.0000/(0.1353 + 0.1353 + 1.0000) # 첫 obs"
      ],
      "id": "5875293e-bec3-4a3d-a09b-7e04905c873e"
    },
    {
      "cell_type": "code",
      "execution_count": 44,
      "metadata": {
        "outputId": "7c21acd8-ebf2-4a5f-9665-983d7791fdc6"
      },
      "outputs": [
        {
          "output_type": "display_data",
          "metadata": {},
          "data": {
            "text/plain": [
              "tensor([0.3333, 0.3333, 0.3333])"
            ]
          }
        }
      ],
      "source": [
        "np.exp(_netout[1])/np.exp(_netout[1]).sum() # 두번째 obs "
      ],
      "id": "a3f495e6-eb56-444d-861e-91ff2377e2cc"
    },
    {
      "cell_type": "code",
      "execution_count": 45,
      "metadata": {
        "outputId": "212e60a1-f1ae-4c19-ae44-41715ea79465"
      },
      "outputs": [
        {
          "output_type": "display_data",
          "metadata": {},
          "data": {
            "text/plain": [
              "array([[0.10650698, 0.10650698, 0.78698605],\n",
              "       [0.33333334, 0.33333334, 0.33333334],\n",
              "       [0.10650699, 0.10650699, 0.78698605],\n",
              "       [0.10650698, 0.10650698, 0.78698605],\n",
              "       [0.33333334, 0.33333334, 0.33333334]], dtype=float32)"
            ]
          }
        }
      ],
      "source": [
        "np.apply_along_axis(lambda x: np.exp(x) / np.exp(x).sum(),1,_netout)"
      ],
      "id": "03fdbe55-2545-4e56-819a-0fd9d70bab8e"
    },
    {
      "cell_type": "markdown",
      "metadata": {},
      "source": [
        "위에서 1은 축방향을 의미\n",
        "\n",
        "### 공부: CrossEntropyLoss\n",
        "\n",
        "#### `#` ***torch.nn.CrossEntropyLoss() 손계산: one-hot version***"
      ],
      "id": "9e1e9461-0349-4e69-a89f-74b4877273d5"
    },
    {
      "cell_type": "code",
      "execution_count": 50,
      "metadata": {},
      "outputs": [],
      "source": [
        "loss_fn = torch.nn.CrossEntropyLoss()"
      ],
      "id": "c0107313-9323-47f4-a0f1-48d27d25d89f"
    },
    {
      "cell_type": "code",
      "execution_count": 51,
      "metadata": {
        "outputId": "ae9ca45f-ed08-412b-dd96-68289300dc5b"
      },
      "outputs": [
        {
          "output_type": "display_data",
          "metadata": {},
          "data": {
            "text/plain": [
              "tensor([[-2.0000, -2.0000,  0.0000],\n",
              "        [ 3.1400,  3.1400,  3.1400],\n",
              "        [ 0.0000,  0.0000,  2.0000],\n",
              "        [ 2.0000,  2.0000,  4.0000],\n",
              "        [ 0.0000,  0.0000,  0.0000]])"
            ]
          }
        }
      ],
      "source": [
        "_netout"
      ],
      "id": "9827f1a4-e5d2-4026-b8b0-96d91457e6e5"
    },
    {
      "cell_type": "code",
      "execution_count": 52,
      "metadata": {
        "outputId": "3c0d997c-e3f8-4152-d915-9a9d06af5b48"
      },
      "outputs": [
        {
          "output_type": "display_data",
          "metadata": {},
          "data": {
            "text/plain": [
              "tensor([[0., 0., 1.],\n",
              "        [0., 1., 0.],\n",
              "        [0., 0., 1.],\n",
              "        [0., 0., 1.],\n",
              "        [1., 0., 0.]])"
            ]
          }
        }
      ],
      "source": [
        "_y_onehot = torch.tensor([[0,0,1],\n",
        "                          [0,1,0],\n",
        "                          [0,0,1],\n",
        "                          [0,0,1],\n",
        "                          [1,0,0]])*1.0\n",
        "_y_onehot"
      ],
      "id": "9ccf2824-f948-4477-9b91-f8c0133cbf5b"
    },
    {
      "cell_type": "markdown",
      "metadata": {},
      "source": [
        "**위에서 꼭 1.0 곱해줌으로써 int가 아닌 float으로 만들어주기**"
      ],
      "id": "81c9e0bb-810d-4577-ab00-0a1b1cd304a0"
    },
    {
      "cell_type": "code",
      "execution_count": 53,
      "metadata": {
        "outputId": "94a1aefe-39d6-4ff7-c1c7-0dcfa38ad3c6"
      },
      "outputs": [
        {
          "output_type": "display_data",
          "metadata": {},
          "data": {
            "text/plain": [
              "(tensor([[0.1065, 0.1065, 0.7870],\n",
              "         [0.3333, 0.3333, 0.3333],\n",
              "         [0.1065, 0.1065, 0.7870],\n",
              "         [0.1065, 0.1065, 0.7870],\n",
              "         [0.3333, 0.3333, 0.3333]]),\n",
              " tensor([[0., 0., 1.],\n",
              "         [0., 1., 0.],\n",
              "         [0., 0., 1.],\n",
              "         [0., 0., 1.],\n",
              "         [1., 0., 0.]]))"
            ]
          }
        }
      ],
      "source": [
        "sftmax = torch.nn.Softmax(dim=1) \n",
        "sftmax(_netout), _y_onehot"
      ],
      "id": "b214cdd3-abe4-4e7a-9075-49b07b7125f3"
    },
    {
      "cell_type": "markdown",
      "metadata": {},
      "source": [
        "`-` 계산결과"
      ],
      "id": "05e21e77-0f86-4e77-95fd-6fd911dca444"
    },
    {
      "cell_type": "code",
      "execution_count": 54,
      "metadata": {
        "outputId": "a1d0809e-7a2e-40ee-910b-b9dacfa9abff"
      },
      "outputs": [
        {
          "output_type": "display_data",
          "metadata": {},
          "data": {
            "text/plain": [
              "tensor(0.5832)"
            ]
          }
        }
      ],
      "source": [
        "loss_fn(_netout,_y_onehot)"
      ],
      "id": "0a32cacf-43f9-402e-abd6-bf63caadf282"
    },
    {
      "cell_type": "code",
      "execution_count": 55,
      "metadata": {
        "outputId": "946d7b09-5201-4101-9f5e-d4a5664d2e2a"
      },
      "outputs": [
        {
          "output_type": "display_data",
          "metadata": {},
          "data": {
            "text/plain": [
              "tensor(0.5832)"
            ]
          }
        }
      ],
      "source": [
        "- torch.sum(torch.log(sftmax(_netout)) * _y_onehot)/5 "
      ],
      "id": "798b3d1b-b8c9-46ca-b29b-3d0dc98d33e4"
    },
    {
      "cell_type": "markdown",
      "metadata": {},
      "source": [
        "`-` 계산하는 방법도 중요한데 torch.nn.CrossEntropyLoss() 에는 **softmax\n",
        "활성화함수가 이미 포함**되어 있다는 것을 확인하는 것이 더 중요함.\n",
        "\n",
        "`-` 따라서 torch.nn.CrossEntropyLoss() 는 사실\n",
        "torch.nn.CEWithSoftmaxLoss() 정도로 바꾸는 것이 더 말이 되는 것 같다.\n",
        "\n",
        "#### `#` ***torch.nn.CrossEntropyLoss() 손계산: lenght $n$ vertor version***"
      ],
      "id": "76dd7a77-9ecb-432d-a6ec-80ece41c8f89"
    },
    {
      "cell_type": "code",
      "execution_count": 56,
      "metadata": {
        "outputId": "313f77b5-2461-491e-ad69-6d5af6c1bc14"
      },
      "outputs": [
        {
          "output_type": "display_data",
          "metadata": {},
          "data": {
            "text/plain": [
              "tensor([[-2.0000, -2.0000,  0.0000],\n",
              "        [ 3.1400,  3.1400,  3.1400],\n",
              "        [ 0.0000,  0.0000,  2.0000],\n",
              "        [ 2.0000,  2.0000,  4.0000],\n",
              "        [ 0.0000,  0.0000,  0.0000]])"
            ]
          }
        }
      ],
      "source": [
        "_netout "
      ],
      "id": "efc28a60-3165-4270-b510-867ad3debef1"
    },
    {
      "cell_type": "code",
      "execution_count": 57,
      "metadata": {},
      "outputs": [],
      "source": [
        "_y = torch.tensor([2,1,2,2,0])"
      ],
      "id": "fd6d1245-8b10-47e3-add9-fef5331bad6c"
    },
    {
      "cell_type": "markdown",
      "metadata": {},
      "source": [
        "원핫인코딩 안하면 int로 만든 다음에 넣기, float은 또 계산되지 않음!"
      ],
      "id": "7a7dd16a-8d29-441f-a4e4-07e1e54d6410"
    },
    {
      "cell_type": "code",
      "execution_count": 58,
      "metadata": {
        "outputId": "75256124-5ec1-42f6-f6ff-367ec5b7f061"
      },
      "outputs": [
        {
          "output_type": "display_data",
          "metadata": {},
          "data": {
            "text/plain": [
              "tensor(0.5832)"
            ]
          }
        }
      ],
      "source": [
        "loss_fn(_netout,_y)"
      ],
      "id": "ee47f0d1-94cc-419c-b971-3b7bcd63904f"
    },
    {
      "cell_type": "markdown",
      "metadata": {},
      "source": [
        "### 실습: $k=2$로 두면 이진분류도 가능\n",
        "\n",
        "`-` download data"
      ],
      "id": "d1b79fbf-b164-4b02-9be4-52db03b37363"
    },
    {
      "cell_type": "code",
      "execution_count": 59,
      "metadata": {},
      "outputs": [],
      "source": [
        "path = untar_data(URLs.MNIST) "
      ],
      "id": "5a1afb86-1e56-4618-9379-d7156a8d5ed4"
    },
    {
      "cell_type": "markdown",
      "metadata": {},
      "source": [
        "training"
      ],
      "id": "579c5aab-6b10-49fd-a4f5-350099856f38"
    },
    {
      "cell_type": "code",
      "execution_count": 60,
      "metadata": {
        "tags": []
      },
      "outputs": [],
      "source": [
        "X0 = torch.stack([torchvision.io.read_image(str(fname)) for fname in (path/'training/0').ls()])\n",
        "X1 = torch.stack([torchvision.io.read_image(str(fname)) for fname in (path/'training/1').ls()])\n",
        "X = torch.concat([X0,X1])/255\n",
        "y = torch.tensor([0]*len(X0) + [1]*len(X1))#.reshape(-1,1)"
      ],
      "id": "efe098d8-7a3a-4f83-8241-a4fa6cc4e14e"
    },
    {
      "cell_type": "code",
      "execution_count": 61,
      "metadata": {},
      "outputs": [],
      "source": [
        "y_onehot = torch.nn.functional.one_hot(y).float()\n",
        "#y_onehot = torch.tensor(list(map(lambda x: [1,0] if x==0 else [0,1],y))).float()"
      ],
      "id": "3ebfed2c-1c94-4a88-8dd2-283df0b5c744"
    },
    {
      "cell_type": "markdown",
      "metadata": {},
      "source": [
        "**float**만들어주기 원핫인코딩이기\n",
        "\n",
        "test"
      ],
      "id": "b4dfb37c-e774-4063-b6f2-b927e112753d"
    },
    {
      "cell_type": "code",
      "execution_count": 62,
      "metadata": {
        "tags": []
      },
      "outputs": [],
      "source": [
        "X0 = torch.stack([torchvision.io.read_image(str(fname)) for fname in (path/'testing/0').ls()])\n",
        "X1 = torch.stack([torchvision.io.read_image(str(fname)) for fname in (path/'testing/1').ls()])\n",
        "XX = torch.concat([X0,X1])/255\n",
        "yy = torch.tensor([0]*len(X0) + [1]*len(X1))#.reshape(-1,1)"
      ],
      "id": "43772bc8-f339-441b-ab21-d03ec24aa0b7"
    },
    {
      "cell_type": "code",
      "execution_count": 63,
      "metadata": {},
      "outputs": [],
      "source": [
        "yy_onehot = torch.nn.functional.one_hot(yy).float()\n",
        "#yy_onehot = torch.tensor(list(map(lambda x: [1,0] if x==0 else [0,1],yy))).float()"
      ],
      "id": "0fde2cda-ea48-45f7-a5e7-814a212078c1"
    },
    {
      "cell_type": "markdown",
      "metadata": {},
      "source": [
        "1.  dls"
      ],
      "id": "bd24c7e8-b811-4603-af81-18cb753bef75"
    },
    {
      "cell_type": "code",
      "execution_count": 64,
      "metadata": {},
      "outputs": [],
      "source": [
        "ds1 = torch.utils.data.TensorDataset(X,y_onehot) \n",
        "ds2 = torch.utils.data.TensorDataset(XX,yy_onehot) \n",
        "dl1 = torch.utils.data.DataLoader(ds1,batch_size=1862) # 에폭당 11번 iter\n",
        "dl2 = torch.utils.data.DataLoader(ds2,batch_size=3147) # \n",
        "dls = DataLoaders(dl1,dl2) "
      ],
      "id": "9ce8cf2a-7bac-41cb-8593-a30feed7bbb0"
    },
    {
      "cell_type": "markdown",
      "metadata": {},
      "source": [
        "1.  lrnr"
      ],
      "id": "4ca31570-5ab4-43b5-a97b-d3847fc784f9"
    },
    {
      "cell_type": "code",
      "execution_count": 65,
      "metadata": {},
      "outputs": [],
      "source": [
        "net = torch.nn.Sequential(\n",
        "    torch.nn.Conv2d(1,16,(5,5)),\n",
        "    torch.nn.ReLU(),\n",
        "    torch.nn.MaxPool2d((2,2)),\n",
        "    torch.nn.Flatten(),\n",
        "    torch.nn.Linear(2304,2)\n",
        "    #torch.nn.Softmax()\n",
        ")\n",
        "loss_fn = torch.nn.CrossEntropyLoss()\n",
        "lrnr = Learner(dls,net,loss_fn) "
      ],
      "id": "3a1ffbaf-fce3-41c0-8c4c-e415b4d4b07b"
    },
    {
      "cell_type": "markdown",
      "metadata": {},
      "source": [
        "1.  학습"
      ],
      "id": "620b6f2b-f2fe-417b-aa5d-03eff07ffcea"
    },
    {
      "cell_type": "code",
      "execution_count": 66,
      "metadata": {
        "outputId": "20ea789c-506b-403e-95ad-9d35f31fa358"
      },
      "outputs": [
        {
          "output_type": "display_data",
          "metadata": {},
          "data": {}
        }
      ],
      "source": [
        "lrnr.fit(10) "
      ],
      "id": "9408185d-f96f-4879-b848-7f6f6a85b3e1"
    },
    {
      "cell_type": "markdown",
      "metadata": {},
      "source": [
        "1.  예측 및 시각화"
      ],
      "id": "4d8e5556-b27e-4837-9a8c-6269c729e125"
    },
    {
      "cell_type": "code",
      "execution_count": 67,
      "metadata": {
        "outputId": "94e4e448-eb94-4ced-b597-032983cdbd75"
      },
      "outputs": [
        {
          "output_type": "display_data",
          "metadata": {},
          "data": {
            "text/plain": [
              "Sequential(\n",
              "  (0): Conv2d(1, 16, kernel_size=(5, 5), stride=(1, 1))\n",
              "  (1): ReLU()\n",
              "  (2): MaxPool2d(kernel_size=(2, 2), stride=(2, 2), padding=0, dilation=1, ceil_mode=False)\n",
              "  (3): Flatten(start_dim=1, end_dim=-1)\n",
              "  (4): Linear(in_features=2304, out_features=2, bias=True)\n",
              ")"
            ]
          }
        }
      ],
      "source": [
        "lrnr.model.to(\"cpu\")"
      ],
      "id": "78883d9a-3add-4a32-ab47-8e44fe47291a"
    },
    {
      "cell_type": "code",
      "execution_count": 70,
      "metadata": {
        "outputId": "83095449-d402-45f8-b1dc-5c58d13bbaea"
      },
      "outputs": [
        {
          "output_type": "display_data",
          "metadata": {},
          "data": {
            "text/plain": [
              "Text(0.5, 0.98, 'Training Set')"
            ]
          }
        },
        {
          "output_type": "display_data",
          "metadata": {},
          "data": {
            "image/png": "[encoded data removed]"
          }
        }
      ],
      "source": [
        "sftmax = torch.nn.Softmax(dim=1) \n",
        "sig = torch.nn.Sigmoid()\n",
        "fig,ax = plt.subplots(1,2,figsize=(8,4))\n",
        "ax[0].plot(net(X).diff(axis=1).data,',',color=\"C1\") # u2-u1\n",
        "ax[1].plot(y)\n",
        "ax[1].plot(sftmax(net(X))[:,1].data,',')\n",
        "#ax[1].plot(sig(net(X).diff(axis=1)).data,',')\n",
        "fig.suptitle(\"Training Set\",size=15)"
      ],
      "id": "db465521-8f39-4d38-8c23-380f3ef2f455"
    },
    {
      "cell_type": "code",
      "execution_count": 71,
      "metadata": {
        "outputId": "6563156d-b0d3-442d-b4eb-c8122a647b32"
      },
      "outputs": [
        {
          "output_type": "display_data",
          "metadata": {},
          "data": {
            "text/plain": [
              "Text(0.5, 0.98, 'Test Set')"
            ]
          }
        },
        {
          "output_type": "display_data",
          "metadata": {},
          "data": {
            "image/png": "[encoded data removed]"
          }
        }
      ],
      "source": [
        "fig,ax = plt.subplots(1,2,figsize=(8,4))\n",
        "ax[0].plot(net(XX).diff(axis=1).data,',',color=\"C1\")\n",
        "ax[1].plot(yy)\n",
        "ax[1].plot(sftmax(net(XX))[:,1].data,',')\n",
        "#ax[1].plot(sig(net(XX).diff(axis=1)).data,',')\n",
        "fig.suptitle(\"Test Set\",size=15)"
      ],
      "id": "92cd2812-943d-4f0c-bbbf-f36387528058"
    },
    {
      "cell_type": "markdown",
      "metadata": {},
      "source": [
        "`-` note: softmax(u1,u2)=\\[sig(u1-u2),\n",
        "sig(u2-u1)\\]=\\[1-sig(u2-u1),sig(u2-u1)\\]\n",
        "\n",
        "$\\frac{1}{e^{u_1}+e^{u_2}} \\to \\frac{e^{u_1-u_2}}{e^{u_1-u_2}+e^{u_2-u_2}} \\to \\frac{e^{u_1-u_2}}{e^{u_1-u_2}+1} \\to sig(u_2-u_1)$\n",
        "\n",
        "### 공부: 이진분류에서 소프트맥스 vs 시그모이드\n",
        "\n",
        "`-` 이진분류문제 = “y=0 or y=1” 을 맞추는 문제 = 성공과 실패를 맞추는\n",
        "문제 = 성공확률과 실패확률을 추정하는 문제\n",
        "\n",
        "`-` softmax, sigmoid - softmax: (실패확률, 성공확률) 꼴로 결과가 나옴 //\n",
        "softmax는 실패확률과 성공확률을 둘다 추정한다. - sigmoid: (성공확률)\n",
        "꼴로 결과가 나옴 // sigmoid는 성공확률만 추정한다.\n",
        "\n",
        "`-` 그런데 “실패확률=1-성공확률” 이므로 사실상 둘은 같은걸 추정하는\n",
        "셈이다. (성공확률만 추정하면 실패확률은 저절로 추정되니까)\n",
        "\n",
        "`-` 아래는 사실상 같은 모형이다."
      ],
      "id": "182f2eb1-1928-49c0-8892-fdf02347aabd"
    },
    {
      "cell_type": "code",
      "execution_count": 72,
      "metadata": {
        "outputId": "2ec896a1-d571-49a6-95ed-9154f4a9af39"
      },
      "outputs": [
        {
          "output_type": "display_data",
          "metadata": {},
          "data": {
            "image/png": "[encoded data removed]"
          }
        }
      ],
      "source": [
        "#collapse\n",
        "gv('''\n",
        "splines=line\n",
        "subgraph cluster_1{\n",
        "    style=filled;\n",
        "    color=lightgrey;\n",
        "    \"?\"\n",
        "    \"??\"\n",
        "    \"..\"\n",
        "    \"???\"\n",
        "    label = \"Layer ?\"\n",
        "}\n",
        "subgraph cluster_2{\n",
        "    style=filled;\n",
        "    color=lightgrey;\n",
        "    \"?\" -> \"node1\"\n",
        "    \"??\" -> \"node1\"\n",
        "    \"..\" -> \"node1\"\n",
        "    \"???\" -> \"node1\"\n",
        "    \n",
        "    \"?\" -> \"node2\"\n",
        "    \"??\" -> \"node2\"\n",
        "    \"..\" -> \"node2\"\n",
        "    \"???\" -> \"node2\"\n",
        "    \n",
        "    \"?\" -> \"...\"\n",
        "    \"??\" -> \"...\"\n",
        "    \"..\" -> \"...\"\n",
        "    \"???\" -> \"...\"\n",
        "    \n",
        "    \"?\" -> \"node2304\"\n",
        "    \"??\" -> \"node2304\"\n",
        "    \"..\" -> \"node2304\"\n",
        "    \"???\" -> \"node2304\"\n",
        "\n",
        "    label = \"Layer: ReLU\"\n",
        "}\n",
        "subgraph cluster_3{\n",
        "    style=filled;\n",
        "    color=lightgrey;\n",
        "    \"node1\" -> \"y1\"\n",
        "    \"node2\" -> \"y1\"\n",
        "    \"...\" -> \"y1\"\n",
        "    \"node2304\" -> \"y1\"\n",
        "    \n",
        "    \"node1\" -> \"y2\"\n",
        "    \"node2\" -> \"y2\"\n",
        "    \"...\" -> \"y2\"\n",
        "    \"node2304\" -> \"y2\"    \n",
        "    label = \"Layer: Softmax\"\n",
        "}\n",
        "''')"
      ],
      "id": "a75cb232-1f02-4d03-96ea-0834337ef0e7"
    },
    {
      "cell_type": "code",
      "execution_count": 73,
      "metadata": {
        "outputId": "614a6e4b-6f44-47fa-a822-41c03facccde"
      },
      "outputs": [
        {
          "output_type": "display_data",
          "metadata": {},
          "data": {
            "image/png": "[encoded data removed]"
          }
        }
      ],
      "source": [
        "#collapse\n",
        "gv('''\n",
        "splines=line\n",
        "subgraph cluster_1{\n",
        "    style=filled;\n",
        "    color=lightgrey;\n",
        "    \"?\"\n",
        "    \"??\"\n",
        "    \"..\"\n",
        "    \"???\"\n",
        "    label = \"Layer ?\"\n",
        "}\n",
        "subgraph cluster_2{\n",
        "    style=filled;\n",
        "    color=lightgrey;\n",
        "    \"?\" -> \"node1\"\n",
        "    \"??\" -> \"node1\"\n",
        "    \"..\" -> \"node1\"\n",
        "    \"???\" -> \"node1\"\n",
        "    \n",
        "    \"?\" -> \"node2\"\n",
        "    \"??\" -> \"node2\"\n",
        "    \"..\" -> \"node2\"\n",
        "    \"???\" -> \"node2\"\n",
        "    \n",
        "    \"?\" -> \"...\"\n",
        "    \"??\" -> \"...\"\n",
        "    \"..\" -> \"...\"\n",
        "    \"???\" -> \"...\"\n",
        "    \n",
        "    \"?\" -> \"node2304\"\n",
        "    \"??\" -> \"node2304\"\n",
        "    \"..\" -> \"node2304\"\n",
        "    \"???\" -> \"node2304\"\n",
        "\n",
        "    label = \"Layer: ReLU\"\n",
        "}\n",
        "subgraph cluster_3{\n",
        "    style=filled;\n",
        "    color=lightgrey;\n",
        "    \"node1\" -> \"y\"\n",
        "    \"node2\" -> \"y\"\n",
        "    \"...\" -> \"y\"\n",
        "    \"node2304\" -> \"y\"\n",
        "    label = \"Layer: Sigmoid\"\n",
        "}\n",
        "''')"
      ],
      "id": "777fd535-4590-41c2-81b7-a7b37aa52fc1"
    },
    {
      "cell_type": "markdown",
      "metadata": {},
      "source": [
        "`-` 둘은 사실상 같은 효과를 주는 모형인데 학습할 파라메터는 sigmoid의\n",
        "경우가 더 적다. $\\to$ sigmoid를 사용하는 모형이 비용은 싸고(학습할\n",
        "파라메터가 적음) 효과는 동일하다는 말 $\\to$ 이진분류 한정해서는\n",
        "softmax를 쓰지말고 sigmoid를 써야함. - softmax가 갑자기 너무\n",
        "안좋아보이는데 sigmoid는 k개의 클래스로 확장이 불가능한 반면 softmax는\n",
        "확장이 용이하다는 장점이 있음\n",
        "\n",
        "### 소프트맥스 vs 시그모이드 정리\n",
        "\n",
        "`-` 결론 1. 소프트맥스는 시그모이드의 확장이다. 2. 클래스의 수가 2개일\n",
        "경우에는 (Sigmoid, BCEloss) 조합을 사용해야 하고 클래스의 수가 2개보다\n",
        "클 경우에는 (Softmax, CrossEntropyLoss) 를 사용해야 한다.\n",
        "\n",
        "`-` 그런데 사실.. 클래스의 수가 2개일 경우일때 (Softmax,\n",
        "CrossEntropyLoss)를 사용해도 그렇게 큰일나는것은 아니다. (흑백이미지를\n",
        "칼라잉크로 출력하는 느낌)\n",
        "\n",
        "***참고***\n",
        "\n",
        "|               $y$               |            분포가정             | 마지막층의 활성화함수 |   손실함수    |\n",
        "|:-------------------------------:|:-------------------------------:|:---------------------:|:-------------:|\n",
        "|     3.45, 4.43, … (연속형)      |            정규분포             |  None (or Identity)   |      MSE      |\n",
        "|             0 or 1              | 이항분포 with $n=1$ (=베르누이) |        Sigmoid        |      BCE      |\n",
        "| \\[0,0,1\\], \\[0,1,0\\], \\[1,0,0\\] |       다항분포 with $n=1$       |        Softmax        | Cross Entropy |\n",
        "\n",
        "## fastai metric 사용\n",
        "\n",
        "### 데이터준비\n",
        "\n",
        "`-` download data"
      ],
      "id": "333ee423-9105-48ae-8fbc-0bbb821dd8b3"
    },
    {
      "cell_type": "code",
      "execution_count": 74,
      "metadata": {},
      "outputs": [],
      "source": [
        "path = untar_data(URLs.MNIST)"
      ],
      "id": "9149dbbb-84ee-41c1-bc95-c194873ff0cc"
    },
    {
      "cell_type": "markdown",
      "metadata": {},
      "source": [
        "`-` training set"
      ],
      "id": "4e00ee5e-5b0f-4446-a643-8997852ad5a4"
    },
    {
      "cell_type": "code",
      "execution_count": 75,
      "metadata": {},
      "outputs": [],
      "source": [
        "X0 = torch.stack([torchvision.io.read_image(str(fname)) for fname in (path/'training/0').ls()])\n",
        "X1 = torch.stack([torchvision.io.read_image(str(fname)) for fname in (path/'training/1').ls()])\n",
        "X = torch.concat([X0,X1])/255\n",
        "y = torch.tensor([0.0]*len(X0) + [1.0]*len(X1)).reshape(-1,1)"
      ],
      "id": "bf21c291-cc90-4fad-adaf-907c29c7162c"
    },
    {
      "cell_type": "markdown",
      "metadata": {},
      "source": [
        "`-` test set"
      ],
      "id": "3fabbb8c-af69-4058-86f3-433fe01ba4d7"
    },
    {
      "cell_type": "code",
      "execution_count": 76,
      "metadata": {},
      "outputs": [],
      "source": [
        "X0 = torch.stack([torchvision.io.read_image(str(fname)) for fname in (path/'testing/0').ls()])\n",
        "X1 = torch.stack([torchvision.io.read_image(str(fname)) for fname in (path/'testing/1').ls()])\n",
        "XX = torch.concat([X0,X1])/255\n",
        "yy = torch.tensor([0.0]*len(X0) + [1.0]*len(X1)).reshape(-1,1)"
      ],
      "id": "d1e57ed8-d3e1-4a4d-89d0-9028cf5c0346"
    },
    {
      "cell_type": "code",
      "execution_count": 77,
      "metadata": {
        "outputId": "a9ff591c-ffca-47f0-a631-6279af398b1c"
      },
      "outputs": [
        {
          "output_type": "display_data",
          "metadata": {},
          "data": {
            "text/plain": [
              "(torch.Size([12665, 1, 28, 28]),\n",
              " torch.Size([2115, 1, 28, 28]),\n",
              " torch.Size([12665, 1]),\n",
              " torch.Size([2115, 1]))"
            ]
          }
        }
      ],
      "source": [
        "X.shape,XX.shape,y.shape,yy.shape"
      ],
      "id": "2767367b-4861-41de-a4d6-e08b728e47cf"
    },
    {
      "cell_type": "markdown",
      "metadata": {},
      "source": [
        "### 사용자정의 메트릭이용\n",
        "\n",
        "1.  dls 만들기"
      ],
      "id": "68e4bc85-db61-4340-9139-f13b9a927270"
    },
    {
      "cell_type": "code",
      "execution_count": 78,
      "metadata": {},
      "outputs": [],
      "source": [
        "ds1 = torch.utils.data.TensorDataset(X,y)\n",
        "ds2 = torch.utils.data.TensorDataset(XX,yy)\n",
        "dl1 = torch.utils.data.DataLoader(ds1,batch_size=1266) \n",
        "dl2 = torch.utils.data.DataLoader(ds2,batch_size=2115) \n",
        "dls = DataLoaders(dl1,dl2) "
      ],
      "id": "bfe0f20d-8980-4937-99bc-47ae571548e9"
    },
    {
      "cell_type": "markdown",
      "metadata": {},
      "source": [
        "1.  lrnr 생성"
      ],
      "id": "0cda1860-4f07-4806-a4f7-cf0fe76a6da7"
    },
    {
      "cell_type": "code",
      "execution_count": 79,
      "metadata": {},
      "outputs": [],
      "source": [
        "net = torch.nn.Sequential(\n",
        "    torch.nn.Conv2d(1,16,(5,5)),\n",
        "    torch.nn.ReLU(),\n",
        "    torch.nn.MaxPool2d((2,2)),\n",
        "    torch.nn.Flatten(),\n",
        "    torch.nn.Linear(2304,1),\n",
        "    torch.nn.Sigmoid()\n",
        ")\n",
        "loss_fn = torch.nn.BCELoss() "
      ],
      "id": "b309d1a1-6aa5-47a1-beee-d03e3d1d3134"
    },
    {
      "cell_type": "code",
      "execution_count": 80,
      "metadata": {},
      "outputs": [],
      "source": [
        "def acc(yhat,y) : \n",
        "    return ((yhat>0.5)==y).float().mean()"
      ],
      "id": "54709edc-2ba4-4a47-a441-05923bdc439f"
    },
    {
      "cell_type": "code",
      "execution_count": 81,
      "metadata": {},
      "outputs": [],
      "source": [
        "def err(yhat,y):\n",
        "    return 1-((yhat>0.5)==y).float().mean()"
      ],
      "id": "12b7f206-7ee7-4b44-9e39-41ffb0e1c584"
    },
    {
      "cell_type": "code",
      "execution_count": 82,
      "metadata": {},
      "outputs": [],
      "source": [
        "lrnr = Learner(dls,net,loss_fn,metrics=[acc,err])"
      ],
      "id": "9cbbfc1a-6c88-4e2f-b564-c00307743872"
    },
    {
      "cell_type": "markdown",
      "metadata": {},
      "source": [
        "1.  학습"
      ],
      "id": "e41333cf-5806-4351-ab23-44d022c07ff2"
    },
    {
      "cell_type": "code",
      "execution_count": 83,
      "metadata": {
        "outputId": "65970089-cdc4-44ce-fe4e-e337766907d0"
      },
      "outputs": [
        {
          "output_type": "display_data",
          "metadata": {},
          "data": {}
        }
      ],
      "source": [
        "lrnr.fit(10)"
      ],
      "id": "0b6b130b-bdec-4d28-8ca1-fba498a3ad93"
    },
    {
      "cell_type": "markdown",
      "metadata": {},
      "source": [
        "1.  예측\n",
        "\n",
        "-   생략\n",
        "\n",
        "### fastai지원 메트릭이용– 잘못된사용\n",
        "\n",
        "1.  dls 만들기"
      ],
      "id": "0f1d0f50-5b4a-4a6f-b7df-ce8ca94b2207"
    },
    {
      "cell_type": "code",
      "execution_count": 84,
      "metadata": {},
      "outputs": [],
      "source": [
        "ds1 = torch.utils.data.TensorDataset(X,y)\n",
        "ds2 = torch.utils.data.TensorDataset(XX,yy)\n",
        "dl1 = torch.utils.data.DataLoader(ds1,batch_size=1266) \n",
        "dl2 = torch.utils.data.DataLoader(ds2,batch_size=2115) \n",
        "dls = DataLoaders(dl1,dl2) "
      ],
      "id": "d1d2cfe0-bca6-417b-82df-f110d7eac22e"
    },
    {
      "cell_type": "markdown",
      "metadata": {},
      "source": [
        "1.  lrnr 생성"
      ],
      "id": "dade458c-4fbb-4b7e-923a-0f8d77c648f6"
    },
    {
      "cell_type": "code",
      "execution_count": 85,
      "metadata": {},
      "outputs": [],
      "source": [
        "net = torch.nn.Sequential(\n",
        "    torch.nn.Conv2d(1,16,(5,5)),\n",
        "    torch.nn.ReLU(),\n",
        "    torch.nn.MaxPool2d((2,2)),\n",
        "    torch.nn.Flatten(),\n",
        "    torch.nn.Linear(2304,1),\n",
        "    torch.nn.Sigmoid()\n",
        ")\n",
        "loss_fn = torch.nn.BCELoss()\n",
        "lrnr = Learner(dls,net,loss_fn,metrics=[accuracy,error_rate])"
      ],
      "id": "f65b5074-dd5d-4043-a2c9-947f2a383aca"
    },
    {
      "cell_type": "code",
      "execution_count": 86,
      "metadata": {
        "outputId": "0e6a2bbf-368e-4860-a964-14ca1a4b26c1"
      },
      "outputs": [
        {
          "output_type": "display_data",
          "metadata": {},
          "data": {
            "text/html": [
              "<pre><span class=\"ansi-red-fg\">Signature:</span> accuracy<span class=\"ansi-blue-fg\">(</span>inp<span class=\"ansi-blue-fg\">,</span> targ<span class=\"ansi-blue-fg\">,</span> axis<span class=\"ansi-blue-fg\">=</span><span class=\"ansi-blue-fg\">-</span><span class=\"ansi-cyan-fg\">1</span><span class=\"ansi-blue-fg\">)</span>\n",
              "<span class=\"ansi-red-fg\">Source:</span>   \n",
              "<span class=\"ansi-green-fg\">def</span> accuracy<span class=\"ansi-blue-fg\">(</span>inp<span class=\"ansi-blue-fg\">,</span> targ<span class=\"ansi-blue-fg\">,</span> axis<span class=\"ansi-blue-fg\">=</span><span class=\"ansi-blue-fg\">-</span><span class=\"ansi-cyan-fg\">1</span><span class=\"ansi-blue-fg\">)</span><span class=\"ansi-blue-fg\">:</span>\n",
              "    <span class=\"ansi-blue-fg\">\"Compute accuracy with `targ` when `pred` is bs * n_classes\"</span>\n",
              "    pred<span class=\"ansi-blue-fg\">,</span>targ <span class=\"ansi-blue-fg\">=</span> flatten_check<span class=\"ansi-blue-fg\">(</span>inp<span class=\"ansi-blue-fg\">.</span>argmax<span class=\"ansi-blue-fg\">(</span>dim<span class=\"ansi-blue-fg\">=</span>axis<span class=\"ansi-blue-fg\">)</span><span class=\"ansi-blue-fg\">,</span> targ<span class=\"ansi-blue-fg\">)</span>\n",
              "    <span class=\"ansi-green-fg\">return</span> <span class=\"ansi-blue-fg\">(</span>pred <span class=\"ansi-blue-fg\">==</span> targ<span class=\"ansi-blue-fg\">)</span><span class=\"ansi-blue-fg\">.</span>float<span class=\"ansi-blue-fg\">(</span><span class=\"ansi-blue-fg\">)</span><span class=\"ansi-blue-fg\">.</span>mean<span class=\"ansi-blue-fg\">(</span><span class=\"ansi-blue-fg\">)</span>\n",
              "<span class=\"ansi-red-fg\">File:</span>      ~/anaconda3/envs/csy/lib/python3.8/site-packages/fastai/metrics.py\n",
              "<span class=\"ansi-red-fg\">Type:</span>      function\n",
              "</pre>"
            ]
          }
        }
      ],
      "source": [
        "accuracy??"
      ],
      "id": "b2905aa8-d964-49f6-9ec4-65bb51715e45"
    },
    {
      "cell_type": "code",
      "execution_count": 87,
      "metadata": {
        "outputId": "826f490d-c082-439f-b2b0-3c9f2ea69b9b"
      },
      "outputs": [
        {
          "output_type": "display_data",
          "metadata": {},
          "data": {
            "text/html": [
              "<pre><span class=\"ansi-red-fg\">Signature:</span> error_rate<span class=\"ansi-blue-fg\">(</span>inp<span class=\"ansi-blue-fg\">,</span> targ<span class=\"ansi-blue-fg\">,</span> axis<span class=\"ansi-blue-fg\">=</span><span class=\"ansi-blue-fg\">-</span><span class=\"ansi-cyan-fg\">1</span><span class=\"ansi-blue-fg\">)</span>\n",
              "<span class=\"ansi-red-fg\">Source:</span>   \n",
              "<span class=\"ansi-green-fg\">def</span> error_rate<span class=\"ansi-blue-fg\">(</span>inp<span class=\"ansi-blue-fg\">,</span> targ<span class=\"ansi-blue-fg\">,</span> axis<span class=\"ansi-blue-fg\">=</span><span class=\"ansi-blue-fg\">-</span><span class=\"ansi-cyan-fg\">1</span><span class=\"ansi-blue-fg\">)</span><span class=\"ansi-blue-fg\">:</span>\n",
              "    <span class=\"ansi-blue-fg\">\"1 - `accuracy`\"</span>\n",
              "    <span class=\"ansi-green-fg\">return</span> <span class=\"ansi-cyan-fg\">1</span> <span class=\"ansi-blue-fg\">-</span> accuracy<span class=\"ansi-blue-fg\">(</span>inp<span class=\"ansi-blue-fg\">,</span> targ<span class=\"ansi-blue-fg\">,</span> axis<span class=\"ansi-blue-fg\">=</span>axis<span class=\"ansi-blue-fg\">)</span>\n",
              "<span class=\"ansi-red-fg\">File:</span>      ~/anaconda3/envs/csy/lib/python3.8/site-packages/fastai/metrics.py\n",
              "<span class=\"ansi-red-fg\">Type:</span>      function\n",
              "</pre>"
            ]
          }
        }
      ],
      "source": [
        "error_rate??"
      ],
      "id": "486b648a-705b-4db8-9a40-916acb4830cb"
    },
    {
      "cell_type": "markdown",
      "metadata": {},
      "source": [
        "1.  학습"
      ],
      "id": "ff862076-0875-41fe-b05d-36a8378ebdbd"
    },
    {
      "cell_type": "code",
      "execution_count": 88,
      "metadata": {
        "outputId": "1600647e-f651-41d9-c17e-0613d9c3a0bf"
      },
      "outputs": [
        {
          "output_type": "display_data",
          "metadata": {},
          "data": {}
        }
      ],
      "source": [
        "lrnr.fit(10)"
      ],
      "id": "942bef4d-3e70-4f97-989e-7e832d626137"
    },
    {
      "cell_type": "markdown",
      "metadata": {},
      "source": [
        "-   이상하다..?\n",
        "\n",
        "1.  예측"
      ],
      "id": "c31fb214-56a3-4aa4-ad6c-ddff7417bfc2"
    },
    {
      "cell_type": "code",
      "execution_count": 89,
      "metadata": {
        "outputId": "174eab24-7fb9-4b62-c701-a68b49357020"
      },
      "outputs": [
        {
          "output_type": "display_data",
          "metadata": {},
          "data": {
            "text/plain": [
              "Sequential(\n",
              "  (0): Conv2d(1, 16, kernel_size=(5, 5), stride=(1, 1))\n",
              "  (1): ReLU()\n",
              "  (2): MaxPool2d(kernel_size=(2, 2), stride=(2, 2), padding=0, dilation=1, ceil_mode=False)\n",
              "  (3): Flatten(start_dim=1, end_dim=-1)\n",
              "  (4): Linear(in_features=2304, out_features=1, bias=True)\n",
              "  (5): Sigmoid()\n",
              ")"
            ]
          }
        }
      ],
      "source": [
        "lrnr.model.to(\"cpu\")"
      ],
      "id": "a072dbca-449b-4d58-905a-f9475befa5e4"
    },
    {
      "cell_type": "code",
      "execution_count": 90,
      "metadata": {
        "outputId": "3f6e775a-d287-4bf5-a57f-ce5a0c277b9b"
      },
      "outputs": [
        {
          "output_type": "display_data",
          "metadata": {},
          "data": {
            "image/png": "[encoded data removed]"
          }
        }
      ],
      "source": [
        "plt.plot(yy)\n",
        "plt.plot(lrnr.model(XX).data,'.')"
      ],
      "id": "dd9f238c-186e-4dc6-9c95-8700f86b07ba"
    },
    {
      "cell_type": "markdown",
      "metadata": {},
      "source": [
        "-   맞추는건 잘 맞추는데?\n",
        "\n",
        "### fastai지원 메트릭이용– 올바른 사용(1)\n",
        "\n",
        "`-` 가정 - X의 형태는 (n,채널,픽셀,픽셀)로 가정한다. - y의 형태는 (n,)\n",
        "벡터이다. 즉 $n\\times 1$ 이 아니라 그냥 길이가 $n$인 벡터로 가정한다. -\n",
        "y의 각 원소는 0,1,2,3,… 와 같이 카테고리를 의미하는 숫자이어야 하며 이\n",
        "숫자는 int형으로 저장되어야 한다. - loss function은 CrossEntropyLoss()를\n",
        "쓴다고 가정한다. (따라서 네트워크의 최종레이어는\n",
        "torch.nn.Linear(?,클래스의수) 꼴이 되어야 한다.)\n",
        "\n",
        "1.  dls 만들기\n",
        "\n",
        "지원하는 함수로 바꿔주기"
      ],
      "id": "44456ad1-957d-4555-bbd0-30928952f173"
    },
    {
      "cell_type": "code",
      "execution_count": 91,
      "metadata": {
        "outputId": "f6402d0c-9b9d-4e1f-f331-45499dd031e7"
      },
      "outputs": [
        {
          "output_type": "display_data",
          "metadata": {},
          "data": {
            "text/plain": [
              "(tensor([0, 0, 0,  ..., 1, 1, 1]), tensor([0, 0, 0,  ..., 1, 1, 1]))"
            ]
          }
        }
      ],
      "source": [
        "y.to(torch.int64).reshape(-1),yy.to(torch.int64).reshape(-1)"
      ],
      "id": "2068e939-357c-40ea-b97e-d68acff113d3"
    },
    {
      "cell_type": "code",
      "execution_count": 92,
      "metadata": {},
      "outputs": [],
      "source": [
        "ds1 = torch.utils.data.TensorDataset(X,y.to(torch.int64).reshape(-1))\n",
        "ds2 = torch.utils.data.TensorDataset(XX,yy.to(torch.int64).reshape(-1))\n",
        "dl1 = torch.utils.data.DataLoader(ds1,batch_size=1266) \n",
        "dl2 = torch.utils.data.DataLoader(ds2,batch_size=2115) \n",
        "dls = DataLoaders(dl1,dl2) "
      ],
      "id": "b7c30bee-ed7e-471c-be52-2ee8004a74d5"
    },
    {
      "cell_type": "markdown",
      "metadata": {},
      "source": [
        "1.  lrnr 생성"
      ],
      "id": "b7592402-79d6-46bc-bd18-68e40f13df8a"
    },
    {
      "cell_type": "code",
      "execution_count": 93,
      "metadata": {},
      "outputs": [],
      "source": [
        "net = torch.nn.Sequential(\n",
        "    torch.nn.Conv2d(1,16,(5,5)),\n",
        "    torch.nn.ReLU(),\n",
        "    torch.nn.MaxPool2d((2,2)),\n",
        "    torch.nn.Flatten(),\n",
        "    torch.nn.Linear(2304,2),\n",
        ")\n",
        "loss_fn = torch.nn.CrossEntropyLoss()\n",
        "lrnr = Learner(dls,net,loss_fn,metrics=[accuracy,error_rate])"
      ],
      "id": "f6d910a3-c6be-4e02-af68-8e9b0f0c1d23"
    },
    {
      "cell_type": "markdown",
      "metadata": {},
      "source": [
        "1.  학습"
      ],
      "id": "2f68a096-bd1f-4d35-8e38-a16d8f8b7898"
    },
    {
      "cell_type": "code",
      "execution_count": 94,
      "metadata": {
        "outputId": "8e38600d-2027-43c6-c145-94b861326df9"
      },
      "outputs": [
        {
          "output_type": "display_data",
          "metadata": {},
          "data": {}
        }
      ],
      "source": [
        "lrnr.fit(10)"
      ],
      "id": "6e1258a1-ad26-470a-b5c1-42cdeea76d69"
    },
    {
      "cell_type": "markdown",
      "metadata": {},
      "source": [
        "### fastai지원 메트릭이용– 올바른 사용(2)\n",
        "\n",
        "`-` 가정 - X의 형태는 (n,채널,픽셀,픽셀)로 가정한다. - y의 형태는\n",
        "(n,클래스의수)로 가정한다. 즉 y가 one_hot 인코딩된 형태로 가정한다. -\n",
        "y의 각 원소는 0 혹은 1이다. - loss function은 CrossEntropyLoss()를\n",
        "쓴다고 가정한다. (따라서 네트워크의 최종레이어는\n",
        "torch.nn.Linear(?,클래스의수) 꼴이 되어야 한다.)\n",
        "\n",
        "1.  dls 만들기"
      ],
      "id": "52528ff7-49f9-4d1b-9438-2a69e46ec5ed"
    },
    {
      "cell_type": "code",
      "execution_count": 95,
      "metadata": {},
      "outputs": [],
      "source": [
        "y_onehot = torch.tensor(list(map(lambda x: [1.0,0.0] if x==0 else [0.0,1.0], y)))\n",
        "yy_onehot = torch.tensor(list(map(lambda x: [1.0,0.0] if x==0 else [0.0,1.0], yy)))\n",
        "# y_onehot = torch.nn.functional.one_hot(y.reshape(-1).to(torch.int64)).to(torch.float32)\n",
        "# yy_onehot = torch.nn.functional.one_hot(yy.reshape(-1).to(torch.int64)).to(torch.float32)"
      ],
      "id": "f83ce93e-96b6-4037-9c88-ceef3cc0350d"
    },
    {
      "cell_type": "code",
      "execution_count": 98,
      "metadata": {},
      "outputs": [],
      "source": [
        "ds1 = torch.utils.data.TensorDataset(X,y_onehot)\n",
        "ds2 = torch.utils.data.TensorDataset(XX,yy_onehot)\n",
        "dl1 = torch.utils.data.DataLoader(ds1,batch_size=1266) \n",
        "dl2 = torch.utils.data.DataLoader(ds2,batch_size=2115) \n",
        "dls = DataLoaders(dl1,dl2) "
      ],
      "id": "bef13ba4-6a21-40de-80fa-a6da21be160f"
    },
    {
      "cell_type": "markdown",
      "metadata": {},
      "source": [
        "1.  lrnr 생성"
      ],
      "id": "f63277e3-dc3a-4f5a-938d-2b99e9928ecd"
    },
    {
      "cell_type": "code",
      "execution_count": 100,
      "metadata": {},
      "outputs": [],
      "source": [
        "net = torch.nn.Sequential(\n",
        "    torch.nn.Conv2d(1,16,(5,5)),\n",
        "    torch.nn.ReLU(),\n",
        "    torch.nn.MaxPool2d((2,2)),\n",
        "    torch.nn.Flatten(),\n",
        "    torch.nn.Linear(2304,2),\n",
        "    #torch.nn.Softmax()\n",
        ")\n",
        "loss_fn = torch.nn.CrossEntropyLoss() \n",
        "lrnr = Learner(dls,net,loss_fn,metrics=[accuracy_multi])"
      ],
      "id": "cbf958b9-93e6-482a-ab02-4744e5b36985"
    },
    {
      "cell_type": "markdown",
      "metadata": {},
      "source": [
        "`accuracy_multi`\n",
        "\n",
        "1.  학습"
      ],
      "id": "81c606a3-f04e-41c1-8a09-dd8c2a410524"
    },
    {
      "cell_type": "code",
      "execution_count": 101,
      "metadata": {
        "outputId": "6a03c491-62ec-465a-962c-333a3c7e7edd"
      },
      "outputs": [
        {
          "output_type": "display_data",
          "metadata": {},
          "data": {}
        }
      ],
      "source": [
        "lrnr.fit(10)"
      ],
      "id": "56cc9b09-4374-434f-8e8e-7d48e19821ae"
    }
  ],
  "nbformat": 4,
  "nbformat_minor": 5,
  "metadata": {
    "colab": {
      "provenance": []
    },
    "kernelspec": {
      "name": "python3",
      "display_name": "Python 3 (ipykernel)",
      "language": "python"
    },
    "language_info": {
      "name": "python",
      "codemirror_mode": {
        "name": "ipython",
        "version": "3"
      },
      "file_extension": ".py",
      "mimetype": "text/x-python",
      "nbconvert_exporter": "python",
      "pygments_lexer": "ipython3",
      "version": "3.8.12"
    }
  }
}