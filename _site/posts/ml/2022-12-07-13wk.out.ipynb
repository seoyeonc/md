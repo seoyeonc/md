{
  "cells": [
    {
      "cell_type": "markdown",
      "metadata": {},
      "source": [
        "# A1: 깊은복사와 얕은복사 (12주차)\n",
        "\n",
        "SEOYEON CHOI  \n",
        "12/7/22\n",
        "\n",
        "> copy\n",
        "\n",
        "# Introduction\n",
        "\n",
        "# 비상식적인 append\n",
        "\n",
        "`-` 아래의 코드를 관찰하자."
      ],
      "id": "c29db0ef-640b-4127-a3c2-d3bf5e4437d7"
    },
    {
      "cell_type": "code",
      "execution_count": 1,
      "metadata": {},
      "outputs": [],
      "source": [
        "a=[1,2,3]\n",
        "b=a\n",
        "a=a+[4]"
      ],
      "id": "aef8372a-8465-4740-8614-4e1fc2d2ae05"
    },
    {
      "cell_type": "markdown",
      "metadata": {},
      "source": [
        "현재 a,b의 출력결과는?"
      ],
      "id": "c82083a6-66f9-4229-8db0-1482f3ce3b89"
    },
    {
      "cell_type": "code",
      "execution_count": 2,
      "metadata": {},
      "outputs": [
        {
          "output_type": "display_data",
          "metadata": {},
          "data": {
            "text/plain": [
              "([1, 2, 3, 4], [1, 2, 3])"
            ]
          }
        }
      ],
      "source": [
        "a,b"
      ],
      "id": "618526e6-3fa8-4e4d-bcff-886b9abf2885"
    },
    {
      "cell_type": "markdown",
      "metadata": {},
      "source": [
        "`-` 이제 다시 아래의 코드를 관찰하자."
      ],
      "id": "39508f36-2fc6-4223-9828-2bc2c38a5c62"
    },
    {
      "cell_type": "code",
      "execution_count": 3,
      "metadata": {},
      "outputs": [],
      "source": [
        "a=[1,2,3]\n",
        "b=a\n",
        "a.append(4) "
      ],
      "id": "0d10883b-5a1f-4b4d-815b-044d95d7872f"
    },
    {
      "cell_type": "code",
      "execution_count": 4,
      "metadata": {},
      "outputs": [
        {
          "output_type": "display_data",
          "metadata": {},
          "data": {
            "text/plain": [
              "([1, 2, 3, 4], [1, 2, 3, 4])"
            ]
          }
        }
      ],
      "source": [
        "a,b"
      ],
      "id": "4cc8bdfc-a588-4432-b0ec-1c6512eba92e"
    },
    {
      "cell_type": "markdown",
      "metadata": {},
      "source": [
        "# append의 동작원리: 틀린상상\n",
        "\n",
        "`-` 아래의 코드를 다시 살펴보자."
      ],
      "id": "fc837c1f-5567-440b-b2de-b6b168529c16"
    },
    {
      "cell_type": "code",
      "execution_count": 5,
      "metadata": {},
      "outputs": [],
      "source": [
        "a=[1,2,3]\n",
        "b=a\n",
        "a.append(4)"
      ],
      "id": "2d6c744e-95ad-4faa-84bf-3e9996496f04"
    },
    {
      "cell_type": "markdown",
      "metadata": {},
      "source": [
        "a,b라는 변수들은 메모리에 어떻게 저장이 되어있을까?\n",
        "\n",
        "상상력을 조금 발휘하면 아래와 같이 여길 수 있다.\n",
        "\n",
        "1.  메모리는 변수를 담을 방이 여러개 있는 호텔이라고 생각하자.\n",
        "\n",
        "2.  아래를 실행하였을 경우"
      ],
      "id": "fa9556b1-77d3-4e22-8614-c1ab454eae13"
    },
    {
      "cell_type": "code",
      "execution_count": 6,
      "metadata": {},
      "outputs": [],
      "source": [
        "a=[1,2,3]"
      ],
      "id": "17def8e2-4326-46e4-984d-c6e441e066a7"
    },
    {
      "cell_type": "markdown",
      "metadata": {},
      "source": [
        "-   메모리주소1에 존재하는 방을 a라고 하고, 그 방에 \\[1,2,3\\]을 넣는다.\n",
        "\n",
        "1.  아래를 실행하였을 경우"
      ],
      "id": "b7fee1a3-f4ed-4e19-b9da-134f1d6f3da8"
    },
    {
      "cell_type": "code",
      "execution_count": 7,
      "metadata": {},
      "outputs": [],
      "source": [
        "b=a"
      ],
      "id": "bbaf8535-05ed-48d2-bd20-85b399e6fb67"
    },
    {
      "cell_type": "markdown",
      "metadata": {},
      "source": [
        "-   메모리주소2에 존재하는 방을 b라고 하고, 그 방에 a를 넣어야하는데,\n",
        "    a는 \\[1,2,3\\]이니까 \\[1,2,3\\]을 넣는다.\n",
        "\n",
        "1.  아래를 실행하면"
      ],
      "id": "f9496765-68de-498d-b229-3465fbc0707c"
    },
    {
      "cell_type": "code",
      "execution_count": 8,
      "metadata": {},
      "outputs": [],
      "source": [
        "a.append(4)"
      ],
      "id": "01b37fee-51f8-43e2-ad32-d0d00b3cd2c2"
    },
    {
      "cell_type": "markdown",
      "metadata": {},
      "source": [
        "-   방 a로가서 \\[1,2,3\\]을 \\[1,2,3,4\\]로 바꾼다.\n",
        "\n",
        "-   그리고 방 b에는 아무것도 하지 않는다.\n",
        "\n",
        "`-` R에서는 맞는 비유인데, 파이썬은 적절하지 않은 비유이다.\n",
        "\n",
        "## 틀린이유"
      ],
      "id": "4561701d-6503-43f7-97bb-7bad008819c6"
    },
    {
      "cell_type": "code",
      "execution_count": 9,
      "metadata": {},
      "outputs": [
        {
          "output_type": "display_data",
          "metadata": {},
          "data": {
            "text/plain": [
              "139660748276272"
            ]
          }
        }
      ],
      "source": [
        "id(a)"
      ],
      "id": "3c1f040f-315c-4343-bcfe-da7aa3eb6b72"
    },
    {
      "cell_type": "code",
      "execution_count": 10,
      "metadata": {},
      "outputs": [
        {
          "output_type": "display_data",
          "metadata": {},
          "data": {
            "text/plain": [
              "139660748276272"
            ]
          }
        }
      ],
      "source": [
        "id(b)"
      ],
      "id": "087fff48-8154-4807-a194-ee6140a654d8"
    },
    {
      "cell_type": "markdown",
      "metadata": {},
      "source": [
        "실제로는 a,b가 저장된 메모리 주소가 동일함\n",
        "\n",
        "# append의 동작원리: 올바른 상상\n",
        "\n",
        "`-` 파이썬에서는 아래가 더 적절한 비유이다.\n",
        "\n",
        "1.  메모리는 변수를 담을 방이 여러개 있는 호텔이라고 생각하자.\n",
        "\n",
        "2.  아래를 실행하였을 경우"
      ],
      "id": "323a3009-b355-4b7b-a696-3cf85c129c52"
    },
    {
      "cell_type": "code",
      "execution_count": 11,
      "metadata": {},
      "outputs": [],
      "source": [
        "a=[1,2,3]"
      ],
      "id": "a1a21678-5400-4075-965d-716319bacd63"
    },
    {
      "cell_type": "markdown",
      "metadata": {},
      "source": [
        "-   메모리주소 `139753545242336`에서 \\[1,2,3\\]을 생성\n",
        "-   방 `139753545242336`의 방문에 a라는 포스트잇을 붙인다.\n",
        "-   앞으로 \\[1,2,3\\]에 접근하기 위해서는 여러 메모리방중에서 a라는\n",
        "    포스트잇이 붙은 방을 찾아가면 된다.\n",
        "\n",
        "1.  아래를 실행하였을 경우"
      ],
      "id": "20daeb7a-736b-4fe9-a9c2-4dee8e769ec8"
    },
    {
      "cell_type": "code",
      "execution_count": 12,
      "metadata": {},
      "outputs": [],
      "source": [
        "b=a"
      ],
      "id": "54ffeaaf-57be-403d-8238-2761c17071bc"
    },
    {
      "cell_type": "markdown",
      "metadata": {},
      "source": [
        "-   a라는 포스트잇이 있는데, `a`라는 포스트잇이랑 b라는 포스트잇과 같은\n",
        "    효과를 주도록 한다.\n",
        "-   쉽게말하면 b라는 포스트잇을 방 `139753545242336`의 방문에 붙인다는\n",
        "    이야기.\n",
        "-   앞으로 \\[1,2,3\\]에 접근하기 위해서는 여러 메모리방중에서 a라는\n",
        "    포스트잇이 붙어 있거나 b라는 포스트잇이 붙어있는 방을 찾아가면 된다.\n",
        "\n",
        "1.  아래를 실행하면"
      ],
      "id": "098d6873-83ec-4f3d-bd32-93330f9d9a94"
    },
    {
      "cell_type": "code",
      "execution_count": 13,
      "metadata": {},
      "outputs": [],
      "source": [
        "a.append(4)"
      ],
      "id": "d289a09e-19c1-4826-954e-362842c298f4"
    },
    {
      "cell_type": "markdown",
      "metadata": {},
      "source": [
        "-   `a`라는 포스트잇이 붙어있는 방으로 가서, 그 내용물에 append함수를\n",
        "    적용하여 4를 추가하라. 즉 내용물 \\[1,2,3\\]을 \\[1,2,3,4\\]로 바꾸라.\n",
        "-   같은방(`139753545242336`)에 a,b라는 포스트잇이 모두 붙어있음. 따라서\n",
        "    b라는 포스트잇이 붙은 방을 찾아가서 내용물을 열어보면 \\[1,2,3,4\\]가\n",
        "    나온다.\n",
        "\n",
        "# 할당문(=)의 이해\n",
        "\n",
        "`-` 파이썬에서 할당문을 이해하기 위해서는 언제나 오른쪽을 먼저 읽어야\n",
        "한다.\n",
        "\n",
        "`-` 할당문의 오른쪽에서는 객체를 생성하거나 가져옴 - 그 후에 라벨을\n",
        "붙이듯이 할당문 왼쪽의 변수가 할당문 오른쪽의 객체에 바인딩 된다. (참조)\n",
        "\n",
        "`-` `b=a`는\n",
        "\n",
        "> 나는 이미 a가 의미하는게 무엇인지 알고있어. 그런데 그 실체를 b라고도\n",
        "> 부르고 싶어. $\\to$ 참조\n",
        "\n",
        "라는 것과 같다. 즉 이미 a라고 부르고 있는것을 내가 b라고도 부르고 싶다는\n",
        "의미인데 이는 마치 별명과 같다. (b는 a의 별명, alias) 그리고 이처럼\n",
        "하나의 오브젝트에 여러개의 이름을 붙이는 것을 에일리어싱이라고 부른다.\n",
        "\n",
        "# id, value\n",
        "\n",
        "## 예제1"
      ],
      "id": "c2f930aa-a3c2-4a74-8b1d-d40d76c94207"
    },
    {
      "cell_type": "code",
      "execution_count": 14,
      "metadata": {},
      "outputs": [],
      "source": [
        "a=[1,2,3]\n",
        "b=a\n",
        "a.append(4)\n",
        "c=[1,2,3,4]"
      ],
      "id": "55c266e3-6304-4f7f-907a-78a359acce6a"
    },
    {
      "cell_type": "markdown",
      "metadata": {},
      "source": [
        "여기에서 a,b,c는 모두 같은 value를 가진다."
      ],
      "id": "dc5990fc-5ab4-46e1-ad02-b8ddd3900f75"
    },
    {
      "cell_type": "code",
      "execution_count": 15,
      "metadata": {},
      "outputs": [
        {
          "output_type": "display_data",
          "metadata": {},
          "data": {
            "text/plain": [
              "[1, 2, 3, 4]"
            ]
          }
        }
      ],
      "source": [
        "a"
      ],
      "id": "ac04c9f6-4f8f-42b4-948a-847b60c987f6"
    },
    {
      "cell_type": "code",
      "execution_count": 16,
      "metadata": {},
      "outputs": [
        {
          "output_type": "display_data",
          "metadata": {},
          "data": {
            "text/plain": [
              "[1, 2, 3, 4]"
            ]
          }
        }
      ],
      "source": [
        "b"
      ],
      "id": "64de86a1-c100-45c3-a15d-a5240bf8fd2f"
    },
    {
      "cell_type": "code",
      "execution_count": 17,
      "metadata": {},
      "outputs": [
        {
          "output_type": "display_data",
          "metadata": {},
          "data": {
            "text/plain": [
              "[1, 2, 3, 4]"
            ]
          }
        }
      ],
      "source": [
        "c"
      ],
      "id": "4b7029e7-a1cb-4378-80c0-2d2018b3edb9"
    },
    {
      "cell_type": "markdown",
      "metadata": {},
      "source": [
        "하지만 그 id까지 같은 것은 아니다."
      ],
      "id": "3d9eb69c-5f74-4f8c-a580-479b7ddd20cc"
    },
    {
      "cell_type": "code",
      "execution_count": 18,
      "metadata": {},
      "outputs": [
        {
          "output_type": "display_data",
          "metadata": {},
          "data": {
            "text/plain": [
              "(139660748305984, 139660748305984, 139660748286224)"
            ]
          }
        }
      ],
      "source": [
        "id(a), id(b), id(c)"
      ],
      "id": "0db93efc-d039-46e3-bc1f-82da174ac9a8"
    },
    {
      "cell_type": "markdown",
      "metadata": {},
      "source": [
        "## 예제2"
      ],
      "id": "08ddd867-b33a-4161-92ca-3a8b38eaa117"
    },
    {
      "cell_type": "code",
      "execution_count": 19,
      "metadata": {},
      "outputs": [],
      "source": [
        "a=[1,2,3] \n",
        "b=a \n",
        "a=[1,2,3]+[4] "
      ],
      "id": "04110b66-a085-46e9-b981-65f6e9ba02d4"
    },
    {
      "cell_type": "markdown",
      "metadata": {},
      "source": [
        "`a`를 다시 정의한 것이라 보면 될 듯"
      ],
      "id": "939bce7a-81dc-46f5-95bc-fd134cf57b46"
    },
    {
      "cell_type": "code",
      "execution_count": 20,
      "metadata": {},
      "outputs": [
        {
          "output_type": "display_data",
          "metadata": {},
          "data": {
            "text/plain": [
              "([1, 2, 3, 4], [1, 2, 3])"
            ]
          }
        }
      ],
      "source": [
        "a,b"
      ],
      "id": "75d80bcf-954b-4e9c-858d-e046d7efef0e"
    },
    {
      "cell_type": "code",
      "execution_count": 21,
      "metadata": {},
      "outputs": [
        {
          "output_type": "display_data",
          "metadata": {},
          "data": {
            "text/plain": [
              "(139660748313296, 139660748290960)"
            ]
          }
        }
      ],
      "source": [
        "id(a), id(b)"
      ],
      "id": "5c36c9e2-a3cc-43d3-aedc-9a59f9bdae95"
    },
    {
      "cell_type": "markdown",
      "metadata": {},
      "source": [
        "# 이터닝\n",
        "\n",
        "## 예제1"
      ],
      "id": "d6ead332-3328-4f0b-b56b-bd4ece5352a2"
    },
    {
      "cell_type": "code",
      "execution_count": 22,
      "metadata": {},
      "outputs": [
        {
          "output_type": "display_data",
          "metadata": {},
          "data": {
            "text/plain": [
              "139660748450224"
            ]
          }
        }
      ],
      "source": [
        "a=1+2021\n",
        "id(a)"
      ],
      "id": "864873a1-630c-453f-9d81-5a3d7f082451"
    },
    {
      "cell_type": "markdown",
      "metadata": {},
      "source": [
        "일단 할당"
      ],
      "id": "015ec367-24b8-4613-82dd-96fca8bd6bb9"
    },
    {
      "cell_type": "code",
      "execution_count": 23,
      "metadata": {},
      "outputs": [
        {
          "output_type": "display_data",
          "metadata": {},
          "data": {
            "text/plain": [
              "139660748450768"
            ]
          }
        }
      ],
      "source": [
        "b=2023-1\n",
        "id(b)"
      ],
      "id": "932fb056-bc8e-4604-8ca8-418d649e86f4"
    },
    {
      "cell_type": "markdown",
      "metadata": {},
      "source": [
        "독립적으로 오브젝트 만들었으니 id가 다르지"
      ],
      "id": "b5ca266d-111a-40e3-8d64-b03338c43840"
    },
    {
      "cell_type": "code",
      "execution_count": 24,
      "metadata": {},
      "outputs": [
        {
          "output_type": "display_data",
          "metadata": {},
          "data": {
            "text/plain": [
              "139660748450832"
            ]
          }
        }
      ],
      "source": [
        "id(2022)"
      ],
      "id": "b20c5098-424b-40b4-8acb-5be1818ffda6"
    },
    {
      "cell_type": "markdown",
      "metadata": {},
      "source": [
        "## 예제2: 이제 다 이해했다고 생각했는데.."
      ],
      "id": "17014874-83c4-4d37-9869-b45de266d40c"
    },
    {
      "cell_type": "code",
      "execution_count": 25,
      "metadata": {},
      "outputs": [
        {
          "output_type": "display_data",
          "metadata": {},
          "data": {
            "text/plain": [
              "7402432"
            ]
          }
        }
      ],
      "source": [
        "a=1+2 \n",
        "id(a)"
      ],
      "id": "f7984e97-ade3-49b8-bbd0-cf4962f1e2f8"
    },
    {
      "cell_type": "code",
      "execution_count": 26,
      "metadata": {},
      "outputs": [
        {
          "output_type": "display_data",
          "metadata": {},
          "data": {
            "text/plain": [
              "7402432"
            ]
          }
        }
      ],
      "source": [
        "b=4-1\n",
        "id(b)"
      ],
      "id": "ef24774d-255c-4ac9-b1ea-0ff2efc0beca"
    },
    {
      "cell_type": "markdown",
      "metadata": {},
      "source": [
        "이게 왜 똑같지..?\n",
        "\n",
        "(해설) 파이썬의 경우 효율성을 위해서 -5\\~256까지의 정수를 미리 저장해둠."
      ],
      "id": "621e9bc2-ad9c-4baf-8fc8-715f979561f1"
    },
    {
      "cell_type": "code",
      "execution_count": 27,
      "metadata": {},
      "outputs": [
        {
          "output_type": "display_data",
          "metadata": {},
          "data": {
            "text/plain": [
              "7402432"
            ]
          }
        }
      ],
      "source": [
        "id(3)"
      ],
      "id": "53acc465-6f3b-48ac-8bee-db5d9c21234c"
    },
    {
      "cell_type": "markdown",
      "metadata": {},
      "source": [
        "# `.copy()`의 사용 (shallow copy의 사용)\n",
        "\n",
        "## 예제1\n",
        "\n",
        "-   아래의 예제를 살펴보자. (참조를 제대로 이해했다면 아래의 예제는\n",
        "    자연스럽게 이해가능)"
      ],
      "id": "4a9f37a1-c92a-4159-8d84-33d098fe42eb"
    },
    {
      "cell_type": "code",
      "execution_count": 28,
      "metadata": {},
      "outputs": [],
      "source": [
        "l1 = [3, [66,55,44]]\n",
        "l2 = l1"
      ],
      "id": "aabd432e-49b7-466a-93e0-83d48d5c1861"
    },
    {
      "cell_type": "code",
      "execution_count": 29,
      "metadata": {},
      "outputs": [
        {
          "output_type": "display_data",
          "metadata": {},
          "data": {
            "text/plain": [
              "(139660748249920, 139660748249920)"
            ]
          }
        }
      ],
      "source": [
        "id(l1),id(l2)"
      ],
      "id": "afe88634-9b13-40bc-8d35-bdca752cbfc4"
    },
    {
      "cell_type": "code",
      "execution_count": 30,
      "metadata": {},
      "outputs": [],
      "source": [
        "l1[0]=4"
      ],
      "id": "8f464b4b-75f2-43bd-8e44-88933f7b2dd3"
    },
    {
      "cell_type": "code",
      "execution_count": 31,
      "metadata": {},
      "outputs": [
        {
          "output_type": "display_data",
          "metadata": {},
          "data": {
            "text/plain": [
              "[4, [66, 55, 44]]"
            ]
          }
        }
      ],
      "source": [
        "l1"
      ],
      "id": "0823e711-0175-468f-a92c-165365b9a8b7"
    },
    {
      "cell_type": "code",
      "execution_count": 32,
      "metadata": {},
      "outputs": [
        {
          "output_type": "display_data",
          "metadata": {},
          "data": {
            "text/plain": [
              "[4, [66, 55, 44]]"
            ]
          }
        }
      ],
      "source": [
        "l2"
      ],
      "id": "53892133-3426-4f20-9f7d-c9bb22d381f9"
    },
    {
      "cell_type": "code",
      "execution_count": 33,
      "metadata": {},
      "outputs": [
        {
          "output_type": "display_data",
          "metadata": {},
          "data": {
            "text/plain": [
              "[4, [66, 55, 44], 5]"
            ]
          }
        }
      ],
      "source": [
        "l2.append(5)\n",
        "l2"
      ],
      "id": "d2652aa3-28a3-4307-a81d-b66311c4471c"
    },
    {
      "cell_type": "code",
      "execution_count": 34,
      "metadata": {},
      "outputs": [
        {
          "output_type": "display_data",
          "metadata": {},
          "data": {
            "text/plain": [
              "[4, [66, 55, 44], 5]"
            ]
          }
        }
      ],
      "source": [
        "l1"
      ],
      "id": "f838d506-f524-4921-8c72-fd535d9d7fd2"
    },
    {
      "cell_type": "markdown",
      "metadata": {},
      "source": [
        "## 예제2: R과 같이 = 를 쓰고 싶다면?"
      ],
      "id": "8754d466-826c-457a-8d6b-f5e476848e15"
    },
    {
      "cell_type": "code",
      "execution_count": 35,
      "metadata": {
        "tags": []
      },
      "outputs": [],
      "source": [
        "l1 = [3, [66,55,44]]\n",
        "l2 = l1.copy()"
      ],
      "id": "64d35846-4027-4e86-a8fb-fdf8861b613a"
    },
    {
      "cell_type": "code",
      "execution_count": 36,
      "metadata": {},
      "outputs": [
        {
          "output_type": "display_data",
          "metadata": {},
          "data": {
            "text/plain": [
              "(139660748530944, 139660748530784)"
            ]
          }
        }
      ],
      "source": [
        "id(l1),id(l2) ## 드디어 주소가 달라졌다."
      ],
      "id": "c6f06f63-a4c2-4a79-bb71-9b294da74538"
    },
    {
      "cell_type": "markdown",
      "metadata": {},
      "source": [
        "주소 달라짐!!"
      ],
      "id": "58e23f96-f05a-446d-a062-1a17c61515d8"
    },
    {
      "cell_type": "code",
      "execution_count": 37,
      "metadata": {},
      "outputs": [],
      "source": [
        "l1[0]=100"
      ],
      "id": "f54e94a6-b897-46b2-a26f-f4788732f220"
    },
    {
      "cell_type": "code",
      "execution_count": 38,
      "metadata": {},
      "outputs": [
        {
          "output_type": "display_data",
          "metadata": {},
          "data": {
            "text/plain": [
              "[100, [66, 55, 44]]"
            ]
          }
        }
      ],
      "source": [
        "l1"
      ],
      "id": "e280a6b4-726a-4011-87d4-4eb7324e89b2"
    },
    {
      "cell_type": "code",
      "execution_count": 39,
      "metadata": {},
      "outputs": [
        {
          "output_type": "display_data",
          "metadata": {},
          "data": {
            "text/plain": [
              "[3, [66, 55, 44]]"
            ]
          }
        }
      ],
      "source": [
        "l2"
      ],
      "id": "5b931002-098c-4175-b567-3c38da50b8bf"
    },
    {
      "cell_type": "markdown",
      "metadata": {},
      "source": [
        "## 예제3: 이제 다 이해했다고 생각했는데..\n",
        "\n",
        "-   이제 다 이해했다고 생각했는데.."
      ],
      "id": "b11e74c1-2aea-4159-adc5-cc6a37566643"
    },
    {
      "cell_type": "code",
      "execution_count": 40,
      "metadata": {},
      "outputs": [],
      "source": [
        "l1 = [3,[66,55,44]]\n",
        "l2 = l1.copy()"
      ],
      "id": "6b60d20d-40b4-4aec-9dc4-37ff90cfc8c4"
    },
    {
      "cell_type": "code",
      "execution_count": 41,
      "metadata": {},
      "outputs": [
        {
          "output_type": "display_data",
          "metadata": {},
          "data": {
            "text/plain": [
              "(139660807804960, 139660807804560)"
            ]
          }
        }
      ],
      "source": [
        "id(l1),id(l2)"
      ],
      "id": "368cd8e6-239d-4130-96ff-3faf1ed5260c"
    },
    {
      "cell_type": "code",
      "execution_count": 42,
      "metadata": {},
      "outputs": [],
      "source": [
        "l1[1].append(33)"
      ],
      "id": "57b85d9f-32f0-4069-8e5b-77e4e0c1c5e8"
    },
    {
      "cell_type": "code",
      "execution_count": 43,
      "metadata": {},
      "outputs": [
        {
          "output_type": "display_data",
          "metadata": {},
          "data": {
            "text/plain": [
              "[3, [66, 55, 44, 33]]"
            ]
          }
        }
      ],
      "source": [
        "l1"
      ],
      "id": "a149bc9e-aeb7-4220-ab2c-6ad29ef0ec20"
    },
    {
      "cell_type": "code",
      "execution_count": 44,
      "metadata": {},
      "outputs": [
        {
          "output_type": "display_data",
          "metadata": {},
          "data": {
            "text/plain": [
              "[3, [66, 55, 44, 33]]"
            ]
          }
        }
      ],
      "source": [
        "l2"
      ],
      "id": "fb800fe2-7d1c-438b-b600-05029023c661"
    },
    {
      "cell_type": "markdown",
      "metadata": {},
      "source": [
        "왜 또 참조한것마냥 l1과 l2가 같이 바뀌고 있지?\n",
        "\n",
        "# Shallow copy의 이해\n",
        "\n",
        "-   방금 살펴본 예제3을 이해하기 위해서는 shallow copy를 이해해야 한다.\n",
        "\n",
        "## 예제1"
      ],
      "id": "7c0f090c-0681-41f0-9d16-67a742ac6cd8"
    },
    {
      "cell_type": "code",
      "execution_count": 45,
      "metadata": {},
      "outputs": [],
      "source": [
        "a=2222\n",
        "b=2222"
      ],
      "id": "f8b2a1b4-e500-4804-9786-0ff5d2be33c3"
    },
    {
      "cell_type": "code",
      "execution_count": 46,
      "metadata": {},
      "outputs": [
        {
          "output_type": "display_data",
          "metadata": {},
          "data": {
            "text/plain": [
              "(139660739479536, 139660739478192)"
            ]
          }
        }
      ],
      "source": [
        "id(a),id(b)"
      ],
      "id": "47d26147-95bd-4ec7-8dcd-895f93ea005e"
    },
    {
      "cell_type": "markdown",
      "metadata": {},
      "source": [
        "메모리 상황\n",
        "\n",
        "1.  2222라는 오브젝트가 어떤공간(id(a): `139753545300880`)에 생성되고 그\n",
        "    공간에 `a`라는 라벨이 붙음\n",
        "2.  2222라는 오브젝트가 어떤공간(id(b): `139753545300880`)에 생성되고 그\n",
        "    공간에 `b`라는 라벨이 붙음\n",
        "\n",
        "즉 -5\\~256 이외의 2개의 메모리 공간을 추가적으로 사용\n",
        "\n",
        "## 예제2"
      ],
      "id": "470f97ba-5066-47c8-8cf4-9529090b8de7"
    },
    {
      "cell_type": "code",
      "execution_count": 48,
      "metadata": {},
      "outputs": [],
      "source": [
        "a=[1,2,2222]\n",
        "b=[1,2,2222]"
      ],
      "id": "2655324e-4254-4a88-89f4-e0cbc0eae0a2"
    },
    {
      "cell_type": "markdown",
      "metadata": {},
      "source": [
        "메모리 공간에 1,2는 이미 저장되어 있어서 생성할 필요 없고 2022만 메모리\n",
        "공간에 생성하면 된다."
      ],
      "id": "3f0de5d9-d0cc-4d1f-b461-cf5150516aff"
    },
    {
      "cell_type": "code",
      "execution_count": 49,
      "metadata": {},
      "outputs": [
        {
          "output_type": "display_data",
          "metadata": {},
          "data": {
            "text/plain": [
              "(139660739560064, [7402368, 7402400, 139660739480272])"
            ]
          }
        }
      ],
      "source": [
        "id(a), [id(a[0]),id(a[1]),id(a[2])] # a=[1,2,2222]"
      ],
      "id": "bf1db209-ba43-4a23-8b46-f8a4ecc9ff16"
    },
    {
      "cell_type": "code",
      "execution_count": 50,
      "metadata": {},
      "outputs": [
        {
          "output_type": "display_data",
          "metadata": {},
          "data": {
            "text/plain": [
              "(139660739560864, [7402368, 7402400, 139660739479312])"
            ]
          }
        }
      ],
      "source": [
        "id(b), [id(b[0]),id(b[1]),id(b[2])] # b=[1,2,2222] "
      ],
      "id": "db9056aa-7ff1-482a-8fda-9facb7114cc2"
    },
    {
      "cell_type": "code",
      "execution_count": 51,
      "metadata": {},
      "outputs": [],
      "source": [
        "a.append(4)"
      ],
      "id": "46c0b0d9-54ff-418c-a336-6cfd3313bf5c"
    },
    {
      "cell_type": "code",
      "execution_count": 52,
      "metadata": {},
      "outputs": [
        {
          "output_type": "display_data",
          "metadata": {},
          "data": {
            "text/plain": [
              "[1, 2, 2222, 4]"
            ]
          }
        }
      ],
      "source": [
        "a"
      ],
      "id": "181c3c43-e1aa-4dde-aaf1-dabe9e6a1ffa"
    },
    {
      "cell_type": "code",
      "execution_count": 53,
      "metadata": {},
      "outputs": [
        {
          "output_type": "display_data",
          "metadata": {},
          "data": {
            "text/plain": [
              "[1, 2, 2222]"
            ]
          }
        }
      ],
      "source": [
        "b"
      ],
      "id": "c07aff46-ce9c-4e74-978b-3491d6d2448c"
    },
    {
      "cell_type": "markdown",
      "metadata": {},
      "source": [
        "메모리상황\n",
        "\n",
        "1.  -5\\~256까지의 숫자는 미리 메모리에 저장되어 있다.(`이터닝`) 이중에서\n",
        "    1은 id(a\\[0\\]): `7394656`, 2는 id(a\\[1\\]): `7394688`에 저장되어있음.\n",
        "2.  2222가 공간 id(a\\[2\\]): `139753178093776`에서 만들어진다.\n",
        "3.  어떠한 리스트오브젝트가 공간 id(a): `139753182327904`에서 만들어지고\n",
        "    원소로 \\[1,2,2222\\]를 가진다. 이 공간에 a라는 포스트잇을 붙인다.\n",
        "4.  2222가 공간 id(a)\\[2\\]: `139753178095568`에서 만들어진다.\n",
        "5.  어떠한 리스트오브젝트가 공간 id(b): `139753173818656`에서 만들어지고\n",
        "    원소로 \\[1,2,2222\\]를 가진다. 이 공간에 b라는 포스트잇을 붙인다.\n",
        "6.  a라는 포스트잇이 붙은 공간으로 이동하여 원소에 4를 추가시킨다.\n",
        "\n",
        "즉 -5\\~256이외에 4개의 메모리 공간을 추가사용 (a,b,a의 2222,b의 2222)\n",
        "\n",
        "## 예제3"
      ],
      "id": "a963c5a2-c7d7-4ed6-a278-7082403911cf"
    },
    {
      "cell_type": "code",
      "execution_count": 54,
      "metadata": {},
      "outputs": [],
      "source": [
        "l1 = [3,[66,55,44]]\n",
        "l2 = l1.copy()"
      ],
      "id": "02a3a936-254d-467b-b503-66df5fb8f17a"
    },
    {
      "cell_type": "code",
      "execution_count": 55,
      "metadata": {},
      "outputs": [
        {
          "output_type": "display_data",
          "metadata": {},
          "data": {
            "text/plain": [
              "(139660748288960, [7402432, 139660739562784])"
            ]
          }
        }
      ],
      "source": [
        "id(l1), [id(l1[0]), id(l1[1])]"
      ],
      "id": "4a98a24c-0e9e-45b5-be52-dd2a566b749f"
    },
    {
      "cell_type": "code",
      "execution_count": 56,
      "metadata": {},
      "outputs": [
        {
          "output_type": "display_data",
          "metadata": {},
          "data": {
            "text/plain": [
              "(139660739539504, [7402432, 139660739562784])"
            ]
          }
        }
      ],
      "source": [
        "id(l2), [id(l2[0]), id(l2[1])]"
      ],
      "id": "64980b1c-2a57-4455-8a7b-292fdc05f25a"
    },
    {
      "cell_type": "markdown",
      "metadata": {},
      "source": [
        "메모리상황\n",
        "\n",
        "1.  -5\\~256까지의 숫자가 메모리에 저장되어 있다.\n",
        "2.  저장된 숫자중 66,55,44를 묶어서 리스트로 구성하고 이 리스트를 공간\n",
        "    id(l1\\[1\\]): `139753183707216`에 저장.\n",
        "3.  숫자 3과 공간 id(l1\\[1\\]): `139753183707216`에 저장된 리스트\n",
        "    \\[66,55,44\\]를 하나로 묶어서 새로운 리스트를 구성하고 이를 공간\n",
        "    id(l1): `139753183437040`에 저장. 공간 id(l1): `139753183437040`에\n",
        "    `l1`이라는 포스트잇 생성.\n",
        "4.  공간 id(l2): `139753182311120`에 `l1`의 원소들을 모아서 새로운\n",
        "    리스트를 구성함. 공간 id(l2): `139753182311120`에 `l2`라는 포스트잇\n",
        "    생성."
      ],
      "id": "4826fcf4-6a13-4f6b-80d3-00cdf03c5340"
    },
    {
      "cell_type": "code",
      "execution_count": 57,
      "metadata": {},
      "outputs": [
        {
          "output_type": "display_data",
          "metadata": {},
          "data": {
            "text/plain": [
              "([7777, [66, 55, 44]], [3, [66, 55, 44]])"
            ]
          }
        }
      ],
      "source": [
        "l1[0] = 7777\n",
        "l1,l2"
      ],
      "id": "3b97b001-7f2e-4769-8a09-41559cee6971"
    },
    {
      "cell_type": "code",
      "execution_count": 58,
      "metadata": {},
      "outputs": [
        {
          "output_type": "display_data",
          "metadata": {},
          "data": {
            "text/plain": [
              "(139660748288960, [139660739478544, 139660739562784])"
            ]
          }
        }
      ],
      "source": [
        "id(l1), [id(l1[0]), id(l1[1])]"
      ],
      "id": "92222e40-0be3-4e1c-a69e-1bfa48723891"
    },
    {
      "cell_type": "code",
      "execution_count": 59,
      "metadata": {},
      "outputs": [
        {
          "output_type": "display_data",
          "metadata": {},
          "data": {
            "text/plain": [
              "(139660739539504, [7402432, 139660739562784])"
            ]
          }
        }
      ],
      "source": [
        "id(l2), [id(l2[0]), id(l2[1])]"
      ],
      "id": "e2aac494-a44f-491e-872a-9b26accb0d40"
    },
    {
      "cell_type": "markdown",
      "metadata": {},
      "source": [
        "1.  l1\\[0\\]은 원래 공간 `7394720`와 binding 되어 있었음.  \n",
        "2.  그런데 7777이라는 새로운 오브젝트가 공간 id(l1): `139753178092080`에\n",
        "    생성되고 l1\\[0\\]이 공간 `139753178092080`와 다시 binding 됨.\n",
        "\n",
        "## 예제4"
      ],
      "id": "6869e1b9-ec5f-4aaa-9db6-6f99daca9221"
    },
    {
      "cell_type": "code",
      "execution_count": 60,
      "metadata": {},
      "outputs": [],
      "source": [
        "l1 = [3,[66,55,44]]\n",
        "l2 = l1.copy()\n",
        "l1.append(7777)"
      ],
      "id": "5f2f0e8a-f1ee-45a5-b6ac-bedf95e0e41e"
    },
    {
      "cell_type": "code",
      "execution_count": 61,
      "metadata": {},
      "outputs": [
        {
          "output_type": "display_data",
          "metadata": {},
          "data": {
            "text/plain": [
              "([3, [66, 55, 44], 7777], [3, [66, 55, 44]])"
            ]
          }
        }
      ],
      "source": [
        "l1,l2"
      ],
      "id": "b17c940f-e8b0-4835-b9fa-55d1f8fb8b39"
    },
    {
      "cell_type": "code",
      "execution_count": 62,
      "metadata": {},
      "outputs": [
        {
          "output_type": "display_data",
          "metadata": {},
          "data": {
            "text/plain": [
              "(139660739540064, [7402432, 139660748258672, 139660739477968])"
            ]
          }
        }
      ],
      "source": [
        "id(l1), [id(l1[0]), id(l1[1]), id(l1[2])]"
      ],
      "id": "38cf2234-d8c8-4025-940c-f8789b2a231f"
    },
    {
      "cell_type": "code",
      "execution_count": 63,
      "metadata": {},
      "outputs": [
        {
          "output_type": "display_data",
          "metadata": {},
          "data": {
            "text/plain": [
              "(139660748282608, [7402432, 139660748258672])"
            ]
          }
        }
      ],
      "source": [
        "id(l2), [id(l2[0]), id(l2[1])]"
      ],
      "id": "c3a959e1-6b98-4227-badb-79b909d5e192"
    },
    {
      "cell_type": "markdown",
      "metadata": {},
      "source": [
        "> 예제3, 예제4를 통하여 리스트가 가변형객체라는 것을 확인할 수 있다.\n",
        "> 예제3의 경우 l1이 저장되어있던 메모리공간의 내용물이\n",
        "> \\[3,\\[66,55,44\\]\\] 에서 \\[7777,\\[66,55,44\\]\\] 로 바뀌었다. 예제4의\n",
        "> 경우 l1이 저장되어있던 메모리공간의 내용물이 \\[3,\\[66,55,44\\]\\] 에서\n",
        "> \\[3,\\[66,55,44\\],7777\\] 로 바뀌었다.\n",
        "\n",
        "## 예제5: 우리를 힘들게 했던 그 예제.\n",
        "\n",
        "(시점1)"
      ],
      "id": "fd199c58-cd6a-49c0-88c7-a8634ef37427"
    },
    {
      "cell_type": "code",
      "execution_count": 64,
      "metadata": {},
      "outputs": [],
      "source": [
        "l1 = [3,[66,55,44]]\n",
        "l2 = l1.copy()"
      ],
      "id": "847a9c54-81e4-4485-815a-0db5eb5ee32d"
    },
    {
      "cell_type": "code",
      "execution_count": 65,
      "metadata": {},
      "outputs": [
        {
          "output_type": "display_data",
          "metadata": {},
          "data": {
            "text/plain": [
              "([3, [66, 55, 44]], [3, [66, 55, 44]])"
            ]
          }
        }
      ],
      "source": [
        "l1,l2"
      ],
      "id": "0a6c3f47-035f-48a1-b9c2-79fa5f5c3c46"
    },
    {
      "cell_type": "code",
      "execution_count": 66,
      "metadata": {},
      "outputs": [
        {
          "output_type": "display_data",
          "metadata": {},
          "data": {
            "text/plain": [
              "(139660748600336, [7402432, 139660748255792])"
            ]
          }
        }
      ],
      "source": [
        "id(l1), [id(l1[0]), id(l1[1])]"
      ],
      "id": "ef07825c-26bc-42f6-abb0-1c7b2f492e21"
    },
    {
      "cell_type": "code",
      "execution_count": 67,
      "metadata": {},
      "outputs": [
        {
          "output_type": "display_data",
          "metadata": {},
          "data": {
            "text/plain": [
              "(139660748237712, [7402432, 139660748255792])"
            ]
          }
        }
      ],
      "source": [
        "id(l2), [id(l2[0]), id(l2[1])]"
      ],
      "id": "a7acfc66-c4a5-43f1-9265-ecfd6cd69a8b"
    },
    {
      "cell_type": "markdown",
      "metadata": {},
      "source": [
        "(시점2)"
      ],
      "id": "bc4854c9-a38a-43e4-b3df-1922c23cbcdf"
    },
    {
      "cell_type": "code",
      "execution_count": 68,
      "metadata": {},
      "outputs": [],
      "source": [
        "l1[1].append(7777)"
      ],
      "id": "18d49021-b253-430d-85cb-769d1b4bb0a4"
    },
    {
      "cell_type": "markdown",
      "metadata": {},
      "source": [
        "l1\\[1\\]의 묶음방식이 저장된 공간에 7777 추가할 거야"
      ],
      "id": "66d33394-6c70-4939-aabf-df7feaa35051"
    },
    {
      "cell_type": "code",
      "execution_count": 69,
      "metadata": {},
      "outputs": [
        {
          "output_type": "display_data",
          "metadata": {},
          "data": {
            "text/plain": [
              "([3, [66, 55, 44, 7777]], [3, [66, 55, 44, 7777]])"
            ]
          }
        }
      ],
      "source": [
        "l1,l2"
      ],
      "id": "f64f4119-111e-43fb-8600-1c7d56fd58e9"
    },
    {
      "cell_type": "code",
      "execution_count": 70,
      "metadata": {},
      "outputs": [
        {
          "output_type": "display_data",
          "metadata": {},
          "data": {
            "text/plain": [
              "(139660748600336, [7402432, 139660748255792])"
            ]
          }
        }
      ],
      "source": [
        "id(l1), [id(l1[0]), id(l1[1])]"
      ],
      "id": "c52a90c0-d6e8-43a6-a363-5029f3676d26"
    },
    {
      "cell_type": "code",
      "execution_count": 71,
      "metadata": {},
      "outputs": [
        {
          "output_type": "display_data",
          "metadata": {},
          "data": {
            "text/plain": [
              "(139660748237712, [7402432, 139660748255792])"
            ]
          }
        }
      ],
      "source": [
        "id(l2), [id(l2[0]), id(l2[1])]"
      ],
      "id": "c78b65bd-8081-4485-8fcc-9597de5560fa"
    },
    {
      "cell_type": "markdown",
      "metadata": {},
      "source": [
        "해설: 사실 시점1에서 메모리 주소상황을 잘 이해했다면 신기한 일이 아니다.\n",
        "`.copy()`는 l1과 l2의 주소만 다르게 만들 뿐 내용물인 `l1[0]`,`l1[1]`는\n",
        "동일하니까.\n",
        "\n",
        "## 예제6: 신임교수=\\[‘최규빈’,‘이영미’\\]\n",
        "\n",
        "`-` 최규빈, 이영미는 신임교수임"
      ],
      "id": "120995cd-a8ff-473e-b986-f95128622f6c"
    },
    {
      "cell_type": "code",
      "execution_count": 72,
      "metadata": {},
      "outputs": [],
      "source": [
        "신임교수 = ['최규빈','이영미']"
      ],
      "id": "d39254db-8fcf-4623-bb10-d4ac59b01600"
    },
    {
      "cell_type": "code",
      "execution_count": 73,
      "metadata": {},
      "outputs": [
        {
          "output_type": "display_data",
          "metadata": {},
          "data": {
            "text/plain": [
              "(139660748511984, 139660748209680, 139660748209200)"
            ]
          }
        }
      ],
      "source": [
        "id(신임교수), id('최규빈'), id('이영미')"
      ],
      "id": "9f3a57ba-0b35-4876-8f83-6ef5b2d4880b"
    },
    {
      "cell_type": "markdown",
      "metadata": {},
      "source": [
        "`-` 신임교수를 누군가는 막내들이라고 부르기도 함."
      ],
      "id": "198698cd-5251-4777-921d-06748fdf6c18"
    },
    {
      "cell_type": "code",
      "execution_count": 74,
      "metadata": {},
      "outputs": [],
      "source": [
        "막내들 = 신임교수 "
      ],
      "id": "4dd42afc-6d37-4a2e-9a68-b550a67afd7a"
    },
    {
      "cell_type": "markdown",
      "metadata": {},
      "source": [
        "참조"
      ],
      "id": "88b77682-3d2b-42d8-9408-f681b7a04f64"
    },
    {
      "cell_type": "code",
      "execution_count": 75,
      "metadata": {},
      "outputs": [
        {
          "output_type": "display_data",
          "metadata": {},
          "data": {
            "text/plain": [
              "(139660748511984, 139660748511984)"
            ]
          }
        }
      ],
      "source": [
        "id(막내들), id(신임교수)"
      ],
      "id": "03f1f99f-c7a6-40ca-bb87-53524534bccb"
    },
    {
      "cell_type": "markdown",
      "metadata": {},
      "source": [
        "“막내들”이라는 단어와 “신임교수”라는 단어는 사실 같은 말임\n",
        "\n",
        "여기까지 참조 설명\n",
        "\n",
        "`-` 새로운 교수 “박혜원”이 뽑혔음."
      ],
      "id": "fe3613d9-0b26-47fd-bad3-201b618ebc8b"
    },
    {
      "cell_type": "code",
      "execution_count": 76,
      "metadata": {},
      "outputs": [],
      "source": [
        "신임교수.append(\"박혜원\")"
      ],
      "id": "e2791478-24b1-457f-ad79-a16349645d49"
    },
    {
      "cell_type": "code",
      "execution_count": 77,
      "metadata": {},
      "outputs": [
        {
          "output_type": "display_data",
          "metadata": {},
          "data": {
            "text/plain": [
              "(['최규빈', '이영미', '박혜원'], ['최규빈', '이영미', '박혜원'])"
            ]
          }
        }
      ],
      "source": [
        "신임교수, 막내들"
      ],
      "id": "c35927bc-8a23-4410-8f11-f3c499e86c57"
    },
    {
      "cell_type": "markdown",
      "metadata": {},
      "source": [
        "`-` 전북대 통계학과에서 R특강팀을 구성하여 방학중 R교육을 실시하고자함.\n",
        "특강팀은 우선 신임교수들로 구성."
      ],
      "id": "5474a243-02f4-4eef-a48b-aca2154ec4a2"
    },
    {
      "cell_type": "code",
      "execution_count": 78,
      "metadata": {},
      "outputs": [
        {
          "output_type": "display_data",
          "metadata": {},
          "data": {
            "text/plain": [
              "['최규빈', '이영미', '박혜원']"
            ]
          }
        }
      ],
      "source": [
        "R특강팀 = 신임교수.copy()\n",
        "R특강팀 "
      ],
      "id": "b053a286-6fe1-4dc5-a9f2-d25476093a0c"
    },
    {
      "cell_type": "markdown",
      "metadata": {},
      "source": [
        "`-` R특강팀에 `최혜미`교수님 추가. (그렇지만 최혜미교수님이 막내는\n",
        "아니야.. // 참조와 shallow copy의 차이점)"
      ],
      "id": "f4af4bc1-90aa-4375-af7f-7d834601b98f"
    },
    {
      "cell_type": "code",
      "execution_count": 79,
      "metadata": {},
      "outputs": [],
      "source": [
        "R특강팀.append(\"최혜미\") "
      ],
      "id": "27b10e6b-7294-4210-828a-a2d86b7c06dd"
    },
    {
      "cell_type": "code",
      "execution_count": 80,
      "metadata": {},
      "outputs": [
        {
          "output_type": "display_data",
          "metadata": {},
          "data": {
            "text/plain": [
              "(['최규빈', '이영미', '박혜원', '최혜미'], ['최규빈', '이영미', '박혜원'], ['최규빈', '이영미', '박혜원'])"
            ]
          }
        }
      ],
      "source": [
        "R특강팀, 신임교수, 막내들"
      ],
      "id": "f5437bf8-0499-4463-b0f6-0a615beda311"
    },
    {
      "cell_type": "markdown",
      "metadata": {},
      "source": [
        "`-` R특강팀에서 양성준 교수를 추가하여 파이썬 특강팀을 구성"
      ],
      "id": "7635bfe4-aeff-4713-85f4-771ee7ad3025"
    },
    {
      "cell_type": "code",
      "execution_count": 81,
      "metadata": {},
      "outputs": [
        {
          "output_type": "display_data",
          "metadata": {},
          "data": {
            "text/plain": [
              "[['최규빈', '이영미', '박혜원', '최혜미'], '양성준']"
            ]
          }
        }
      ],
      "source": [
        "파이썬특강팀 = [R특강팀, \"양성준\"]\n",
        "파이썬특강팀"
      ],
      "id": "0bb91c46-4997-47e4-99a6-d716d9711c4a"
    },
    {
      "cell_type": "markdown",
      "metadata": {},
      "source": [
        "`-` 이영미교수는 다른 일이 많아서 R특강 팀에서 제외됨. (그럼 자연히\n",
        "파이썬에서도 제외됨!!)"
      ],
      "id": "fac313f7-8e8e-479a-be8e-3c4b036aecfe"
    },
    {
      "cell_type": "code",
      "execution_count": 82,
      "metadata": {},
      "outputs": [],
      "source": [
        "R특강팀.remove(\"이영미\")"
      ],
      "id": "956a6cc6-86f4-4d90-8b50-61617d93a178"
    },
    {
      "cell_type": "code",
      "execution_count": 83,
      "metadata": {},
      "outputs": [
        {
          "output_type": "display_data",
          "metadata": {},
          "data": {
            "text/plain": [
              "(['최규빈', '박혜원', '최혜미'], [['최규빈', '박혜원', '최혜미'], '양성준'])"
            ]
          }
        }
      ],
      "source": [
        "R특강팀, 파이썬특강팀"
      ],
      "id": "0845e9f9-813e-4e65-863f-c0a1c158f89f"
    },
    {
      "cell_type": "markdown",
      "metadata": {},
      "source": [
        "하지만 이영미교수는 여전히 신임교수이면서 막내들임"
      ],
      "id": "eebffdd9-15fc-4dfc-bcc6-461e00cf3e9a"
    },
    {
      "cell_type": "code",
      "execution_count": 84,
      "metadata": {},
      "outputs": [
        {
          "output_type": "display_data",
          "metadata": {},
          "data": {
            "text/plain": [
              "(['최규빈', '이영미', '박혜원'], ['최규빈', '이영미', '박혜원'])"
            ]
          }
        }
      ],
      "source": [
        "신임교수, 막내들"
      ],
      "id": "98be17df-67a6-4fd9-9947-e55a5dd77496"
    },
    {
      "cell_type": "markdown",
      "metadata": {},
      "source": [
        "`-` 새로운 교수로 “손흥민”이 임용됨."
      ],
      "id": "972d2fad-1f2b-497e-9382-877669e38d93"
    },
    {
      "cell_type": "code",
      "execution_count": 85,
      "metadata": {},
      "outputs": [],
      "source": [
        "막내들.append(\"손흥민\")"
      ],
      "id": "8c280020-3229-4265-b844-081c2f057535"
    },
    {
      "cell_type": "code",
      "execution_count": 86,
      "metadata": {},
      "outputs": [
        {
          "output_type": "display_data",
          "metadata": {},
          "data": {
            "text/plain": [
              "(['최규빈', '이영미', '박혜원', '손흥민'], ['최규빈', '이영미', '박혜원', '손흥민'])"
            ]
          }
        }
      ],
      "source": [
        "막내들, 신임교수"
      ],
      "id": "5f1d7de0-ce80-4674-b974-8fb70e5ad2c9"
    },
    {
      "cell_type": "markdown",
      "metadata": {},
      "source": [
        "`-` 그렇다고 해서 손흥민 교수가 바로 R이나 파이썬 특강팀에\n",
        "자동소속되는건 아님\n",
        "\n",
        "shallow copy로 id 주소가 각각 할당되었기 때문"
      ],
      "id": "33466529-2b40-4578-9d35-025df740b059"
    },
    {
      "cell_type": "code",
      "execution_count": 87,
      "metadata": {},
      "outputs": [
        {
          "output_type": "display_data",
          "metadata": {},
          "data": {
            "text/plain": [
              "(['최규빈', '박혜원', '최혜미'], [['최규빈', '박혜원', '최혜미'], '양성준'])"
            ]
          }
        }
      ],
      "source": [
        "R특강팀, 파이썬특강팀"
      ],
      "id": "e12b31a5-6675-48de-ac7f-49eeb218bf7a"
    },
    {
      "cell_type": "markdown",
      "metadata": {},
      "source": [
        "# Deep copy\n",
        "\n",
        "## 예제1: Motivation example\n",
        "\n",
        "`-` 아래의 상황을 다시 생각해보자."
      ],
      "id": "f4ea8795-ed18-4e0d-8b14-e986fdece471"
    },
    {
      "cell_type": "code",
      "execution_count": 88,
      "metadata": {},
      "outputs": [],
      "source": [
        "파이썬특강팀 = [\"양성준\",[\"최규빈\",\"이영미\",\"최혜미\"]]\n",
        "ADSP특강팀 = 파이썬특강팀.copy()\n",
        "파이썬특강팀[-1].remove(\"이영미\")"
      ],
      "id": "88d6e0fc-9683-42be-8d7e-ca02c5ec6491"
    },
    {
      "cell_type": "code",
      "execution_count": 89,
      "metadata": {},
      "outputs": [
        {
          "output_type": "display_data",
          "metadata": {},
          "data": {
            "text/plain": [
              "(['양성준', ['최규빈', '최혜미']], ['양성준', ['최규빈', '최혜미']])"
            ]
          }
        }
      ],
      "source": [
        "파이썬특강팀, ADSP특강팀"
      ],
      "id": "8a2eeeac-67ec-4601-8ff7-304274613efc"
    },
    {
      "cell_type": "markdown",
      "metadata": {},
      "source": [
        "**이슈:** 이영미교수가 파이썬특강에서 제외되면서 ADSP특강팀에서도\n",
        "제외되었음. 그런데 사실 이영미교수가 파이썬특강팀에서만 제외되길 원한\n",
        "것이지 ADSP특강팀에서 제외되길 원한게 아닐수도 있음.\n",
        "\n",
        "**해결**: Deep copy의 사용"
      ],
      "id": "0f9bbb51-e5d7-4ef9-b304-0dfe8b3b711f"
    },
    {
      "cell_type": "code",
      "execution_count": 90,
      "metadata": {},
      "outputs": [],
      "source": [
        "import copy"
      ],
      "id": "6b2fc511-4e87-47f4-867f-c98b6e8a124f"
    },
    {
      "cell_type": "markdown",
      "metadata": {},
      "source": [
        "패키지 필요"
      ],
      "id": "6022649a-14fa-4646-9e8a-24ffd896ff22"
    },
    {
      "cell_type": "code",
      "execution_count": 91,
      "metadata": {},
      "outputs": [],
      "source": [
        "파이썬특강팀 = [\"양성준\",[\"최규빈\",\"이영미\",\"최혜미\"]]\n",
        "ADSP특강팀 = copy.deepcopy(파이썬특강팀)\n",
        "파이썬특강팀[-1].remove(\"이영미\")"
      ],
      "id": "c90b232b-8340-4d55-bcce-7dc0c7cb2823"
    },
    {
      "cell_type": "code",
      "execution_count": 92,
      "metadata": {},
      "outputs": [
        {
          "output_type": "display_data",
          "metadata": {},
          "data": {
            "text/plain": [
              "(['양성준', ['최규빈', '최혜미']], ['양성준', ['최규빈', '이영미', '최혜미']])"
            ]
          }
        }
      ],
      "source": [
        "파이썬특강팀, ADSP특강팀"
      ],
      "id": "5e698a04-66fd-43c0-b65d-81418d729c3d"
    },
    {
      "cell_type": "code",
      "execution_count": 93,
      "metadata": {},
      "outputs": [
        {
          "output_type": "display_data",
          "metadata": {},
          "data": {
            "text/html": [
              "<pre><span class=\"ansi-red-fg\">Type:</span>        module\n",
              "<span class=\"ansi-red-fg\">String form:</span> &lt;module 'copy' from '/home/csy/anaconda3/envs/py37/lib/python3.7/copy.py'&gt;\n",
              "<span class=\"ansi-red-fg\">File:</span>        ~/anaconda3/envs/py37/lib/python3.7/copy.py\n",
              "<span class=\"ansi-red-fg\">Docstring:</span>  \n",
              "Generic (shallow and deep) copying operations.\n",
              "Interface summary:\n",
              "        import copy\n",
              "        x = copy.copy(y)        # make a shallow copy of y\n",
              "        x = copy.deepcopy(y)    # make a deep copy of y\n",
              "For module specific errors, copy.Error is raised.\n",
              "The difference between shallow and deep copying is only relevant for\n",
              "compound objects (objects that contain other objects, like lists or\n",
              "class instances).\n",
              "- A shallow copy constructs a new compound object and then (to the\n",
              "  extent possible) inserts *the same objects* into it that the\n",
              "  original contains.\n",
              "- A deep copy constructs a new compound object and then, recursively,\n",
              "  inserts *copies* into it of the objects found in the original.\n",
              "Two problems often exist with deep copy operations that don't exist\n",
              "with shallow copy operations:\n",
              " a) recursive objects (compound objects that, directly or indirectly,\n",
              "    contain a reference to themselves) may cause a recursive loop\n",
              " b) because deep copy copies *everything* it may copy too much, e.g.\n",
              "    administrative data structures that should be shared even between\n",
              "    copies\n",
              "Python's deep copy operation avoids these problems by:\n",
              " a) keeping a table of objects already copied during the current\n",
              "    copying pass\n",
              " b) letting user-defined classes override the copying operation or the\n",
              "    set of components copied\n",
              "This version does not copy types like module, class, function, method,\n",
              "nor stack trace, stack frame, nor file, socket, window, nor array, nor\n",
              "any similar types.\n",
              "Classes can use the same interfaces to control copying that they use\n",
              "to control pickling: they can define methods called __getinitargs__(),\n",
              "__getstate__() and __setstate__().  See the documentation for module\n",
              "\"pickle\" for information on these methods.\n",
              "</pre>"
            ]
          }
        }
      ],
      "source": [
        "copy?"
      ],
      "id": "d10ba2a1-d980-4c8e-a41b-5c19fce06feb"
    },
    {
      "cell_type": "markdown",
      "metadata": {},
      "source": [
        "## 예제2\n",
        "\n",
        "`-` deepcopy"
      ],
      "id": "6d8207a2-2527-45d8-8efa-2591ec942f12"
    },
    {
      "cell_type": "code",
      "execution_count": 94,
      "metadata": {},
      "outputs": [],
      "source": [
        "l1 = [3,[66,[55,44]]] \n",
        "l2 = copy.deepcopy(l1)"
      ],
      "id": "2fe9fd8e-6a49-4a56-8ad8-1b24531d851e"
    },
    {
      "cell_type": "code",
      "execution_count": 95,
      "metadata": {},
      "outputs": [],
      "source": [
        "l2[1][1].append(33)"
      ],
      "id": "04a9cbc5-f636-4b12-96e7-de6e7ed9e7f2"
    },
    {
      "cell_type": "code",
      "execution_count": 96,
      "metadata": {},
      "outputs": [
        {
          "output_type": "display_data",
          "metadata": {},
          "data": {
            "text/plain": [
              "([3, [66, [55, 44]]], [3, [66, [55, 44, 33]]])"
            ]
          }
        }
      ],
      "source": [
        "l1,l2"
      ],
      "id": "24d82577-e94e-46f7-8866-77bc7db26ac6"
    },
    {
      "cell_type": "code",
      "execution_count": 97,
      "metadata": {},
      "outputs": [
        {
          "output_type": "stream",
          "name": "stdout",
          "text": [
            "level 1\n",
            "l1: 139660748278352\n",
            "l2: 139660748540176"
          ]
        }
      ],
      "source": [
        "print('level 1')\n",
        "print('l1:', id(l1))\n",
        "print('l2:', id(l2))"
      ],
      "id": "d65b4b9f-4a52-4a9b-8f7a-7354486e1761"
    },
    {
      "cell_type": "code",
      "execution_count": 98,
      "metadata": {},
      "outputs": [
        {
          "output_type": "stream",
          "name": "stdout",
          "text": [
            "level 2\n",
            "l1: 139660748278352 [7402432, 139660739509776]\n",
            "l2: 139660748540176 [7402432, 139660739569056]"
          ]
        }
      ],
      "source": [
        "print('level 2')\n",
        "print('l1:', id(l1), [id(l1[0]),id(l1[1])])\n",
        "print('l2:', id(l2), [id(l2[0]),id(l2[1])])"
      ],
      "id": "dac8ffd9-0c52-4fc7-bd51-0d272831b795"
    },
    {
      "cell_type": "code",
      "execution_count": 99,
      "metadata": {},
      "outputs": [
        {
          "output_type": "stream",
          "name": "stdout",
          "text": [
            "level 3\n",
            "l1: 139660748278352 [7402432, [7404448, 139660748244224]]\n",
            "l2: 139660748540176 [7402432, [7404448, 139660739567776]]"
          ]
        }
      ],
      "source": [
        "print('level 3')\n",
        "print('l1:', id(l1), [id(l1[0]),[id(l1[1][0]),id(l1[1][1])]])\n",
        "print('l2:', id(l2), [id(l2[0]),[id(l2[1][0]),id(l2[1][1])]])"
      ],
      "id": "5dc4460d-32a5-4f53-9b80-1d64a5f612b1"
    },
    {
      "cell_type": "markdown",
      "metadata": {},
      "source": [
        "묶음 방식이 달라지면서 다른 주소가 할당된 모습\n",
        "\n",
        "`-` 비교를 위한 shallow copy"
      ],
      "id": "bb4803d0-f44c-4a35-aef5-0120d768539f"
    },
    {
      "cell_type": "code",
      "execution_count": 100,
      "metadata": {},
      "outputs": [],
      "source": [
        "l1 = [3,[66,[55,44]]] \n",
        "l2 = l1.copy()"
      ],
      "id": "bb83232d-af89-44c0-95e6-403c9dc68319"
    },
    {
      "cell_type": "code",
      "execution_count": 101,
      "metadata": {},
      "outputs": [],
      "source": [
        "l2[1][1].append(33)"
      ],
      "id": "b5456fdc-6433-4c4c-ab36-72cff472b2de"
    },
    {
      "cell_type": "code",
      "execution_count": 102,
      "metadata": {},
      "outputs": [
        {
          "output_type": "display_data",
          "metadata": {},
          "data": {
            "text/plain": [
              "([3, [66, [55, 44, 33]]], [3, [66, [55, 44, 33]]])"
            ]
          }
        }
      ],
      "source": [
        "l1,l2"
      ],
      "id": "b3a80dcf-b2ef-4d05-b901-af009df5a696"
    },
    {
      "cell_type": "code",
      "execution_count": 103,
      "metadata": {},
      "outputs": [
        {
          "output_type": "stream",
          "name": "stdout",
          "text": [
            "level 1\n",
            "l1: 139660739568976\n",
            "l2: 139660748318112"
          ]
        }
      ],
      "source": [
        "print('level 1')\n",
        "print('l1:', id(l1))\n",
        "print('l2:', id(l2))"
      ],
      "id": "cb22ee49-93c6-424a-9d78-89fc81a44928"
    },
    {
      "cell_type": "code",
      "execution_count": 104,
      "metadata": {},
      "outputs": [
        {
          "output_type": "stream",
          "name": "stdout",
          "text": [
            "level 2\n",
            "l1: 139660739568976 [7402432, 139660807428768]\n",
            "l2: 139660748318112 [7402432, 139660807428768]"
          ]
        }
      ],
      "source": [
        "print('level 2')\n",
        "print('l1:', id(l1), [id(l1[0]),id(l1[1])])\n",
        "print('l2:', id(l2), [id(l2[0]),id(l2[1])])"
      ],
      "id": "f1acc226-e488-44dc-b270-64597af4850e"
    },
    {
      "cell_type": "code",
      "execution_count": 105,
      "metadata": {},
      "outputs": [
        {
          "output_type": "stream",
          "name": "stdout",
          "text": [
            "level 3\n",
            "l1: 139660739568976 [7402432, [7404448, 139660748313776]]\n",
            "l2: 139660748318112 [7402432, [7404448, 139660748313776]]"
          ]
        }
      ],
      "source": [
        "print('level 3')\n",
        "print('l1:', id(l1), [id(l1[0]),[id(l1[1][0]),id(l1[1][1])]])\n",
        "print('l2:', id(l2), [id(l2[0]),[id(l2[1][0]),id(l2[1][1])]])"
      ],
      "id": "a6979afd-8c1a-458b-8a4e-cbd5ac040dad"
    },
    {
      "cell_type": "markdown",
      "metadata": {},
      "source": [
        "`-` 비교를 위한 참조"
      ],
      "id": "b81755ac-628d-4a8d-8e7d-56079aba5025"
    },
    {
      "cell_type": "code",
      "execution_count": 106,
      "metadata": {},
      "outputs": [],
      "source": [
        "l1 = [3,[66,[55,44]]] \n",
        "l2 = l1"
      ],
      "id": "72b411b6-16a8-4545-9fef-798ab353fed3"
    },
    {
      "cell_type": "code",
      "execution_count": 107,
      "metadata": {},
      "outputs": [],
      "source": [
        "l2[1][1].append(33)"
      ],
      "id": "636d8f2a-a5e6-4b9d-a961-1034597c6f71"
    },
    {
      "cell_type": "code",
      "execution_count": 108,
      "metadata": {},
      "outputs": [
        {
          "output_type": "display_data",
          "metadata": {},
          "data": {
            "text/plain": [
              "([3, [66, [55, 44, 33]]], [3, [66, [55, 44, 33]]])"
            ]
          }
        }
      ],
      "source": [
        "l1,l2"
      ],
      "id": "88bc52bc-7917-4308-b0a6-3856871394bb"
    },
    {
      "cell_type": "code",
      "execution_count": 109,
      "metadata": {},
      "outputs": [
        {
          "output_type": "stream",
          "name": "stdout",
          "text": [
            "level 1\n",
            "l1: 139660748238432\n",
            "l2: 139660748238432"
          ]
        }
      ],
      "source": [
        "print('level 1')\n",
        "print('l1:', id(l1))\n",
        "print('l2:', id(l2))"
      ],
      "id": "7f154f8f-ca78-4bce-be8c-93ca38b6b8c6"
    },
    {
      "cell_type": "code",
      "execution_count": 110,
      "metadata": {},
      "outputs": [
        {
          "output_type": "stream",
          "name": "stdout",
          "text": [
            "level 2\n",
            "l1: 139660748238432 [7402432, 139660748240128]\n",
            "l2: 139660748238432 [7402432, 139660748240128]"
          ]
        }
      ],
      "source": [
        "print('level 2')\n",
        "print('l1:', id(l1), [id(l1[0]),id(l1[1])])\n",
        "print('l2:', id(l2), [id(l2[0]),id(l2[1])])"
      ],
      "id": "6a0e4294-c16c-4799-9542-454b7d0048f4"
    },
    {
      "cell_type": "code",
      "execution_count": 111,
      "metadata": {},
      "outputs": [
        {
          "output_type": "stream",
          "name": "stdout",
          "text": [
            "level 3\n",
            "l1: 139660748238432 [7402432, [7404448, 139660748531664]]\n",
            "l2: 139660748238432 [7402432, [7404448, 139660748531664]]"
          ]
        }
      ],
      "source": [
        "print('level 3')\n",
        "print('l1:', id(l1), [id(l1[0]),[id(l1[1][0]),id(l1[1][1])]])\n",
        "print('l2:', id(l2), [id(l2[0]),[id(l2[1][0]),id(l2[1][1])]])"
      ],
      "id": "ba575b8d-d896-45d7-959f-927c728df2a6"
    },
    {
      "cell_type": "markdown",
      "metadata": {},
      "source": [
        "주소 다 똑같아\n",
        "\n",
        "# Shallow copy 연습문제\n",
        "\n",
        "## 예제1\n",
        "\n",
        "`-` 아래의 코드결과를 예측하라. 결과가 나오는 이유를 설명하라."
      ],
      "id": "310d3a24-3898-4c6a-9e50-c8d70a3294f5"
    },
    {
      "cell_type": "code",
      "execution_count": 112,
      "metadata": {},
      "outputs": [],
      "source": [
        "l1= [3,[66,55,44]]\n",
        "l2= l1.copy() \n",
        "l1[-1].append(33)"
      ],
      "id": "e796f183-a4b5-4178-9035-d47d5c11156d"
    },
    {
      "cell_type": "code",
      "execution_count": 113,
      "metadata": {},
      "outputs": [
        {
          "output_type": "display_data",
          "metadata": {},
          "data": {
            "text/plain": [
              "([3, [66, 55, 44, 33]], [3, [66, 55, 44, 33]])"
            ]
          }
        }
      ],
      "source": [
        "l1,l2"
      ],
      "id": "4c0ceb25-8185-4a9a-ba85-3297bdaa8eaa"
    },
    {
      "cell_type": "markdown",
      "metadata": {},
      "source": [
        "shallow copy 썼으니까 같이 추가된 모습\n",
        "\n",
        "## 예제2\n",
        "\n",
        "`-` 아래의 코드결과를 예측하라. 결과가 나오는 이유를 설명하라."
      ],
      "id": "3b759fc8-0442-47ed-a6ac-23080f127510"
    },
    {
      "cell_type": "code",
      "execution_count": 114,
      "metadata": {},
      "outputs": [],
      "source": [
        "l1= [3,[66,55,44]] \n",
        "l2= l1.copy() \n",
        "l1[-1] = l1[-1]+[33] "
      ],
      "id": "5ac4a153-ab98-45aa-b924-8a53104c1cf6"
    },
    {
      "cell_type": "code",
      "execution_count": 115,
      "metadata": {},
      "outputs": [
        {
          "output_type": "display_data",
          "metadata": {},
          "data": {
            "text/plain": [
              "([3, [66, 55, 44, 33]], [3, [66, 55, 44]])"
            ]
          }
        }
      ],
      "source": [
        "l1,l2"
      ],
      "id": "d7b21986-4175-4750-b9e1-a6dbc309d5c5"
    },
    {
      "cell_type": "code",
      "execution_count": 116,
      "metadata": {},
      "outputs": [
        {
          "output_type": "display_data",
          "metadata": {},
          "data": {
            "text/plain": [
              "(139660748276032, 139660748245744)"
            ]
          }
        }
      ],
      "source": [
        "id(l1),id(l2)"
      ],
      "id": "c223023c-1662-478f-adc1-6ffe3e41c95a"
    },
    {
      "cell_type": "markdown",
      "metadata": {},
      "source": [
        "l1에 재할당한 것이라 생각하면 된다.\n",
        "\n",
        "## 예제3"
      ],
      "id": "e9966c45-3fca-4d42-b358-c118508ba04a"
    },
    {
      "cell_type": "code",
      "execution_count": 117,
      "metadata": {},
      "outputs": [],
      "source": [
        "l1= [3,[66,55,44]] \n",
        "l2= l1.copy() \n",
        "l1[-1] = l1[-1]+[33] \n",
        "l1[-1].remove(33)"
      ],
      "id": "bb399b1b-5ba2-471b-b737-9bbdeecd418f"
    },
    {
      "cell_type": "code",
      "execution_count": 118,
      "metadata": {},
      "outputs": [
        {
          "output_type": "display_data",
          "metadata": {},
          "data": {
            "text/plain": [
              "([3, [66, 55, 44]], [3, [66, 55, 44]])"
            ]
          }
        }
      ],
      "source": [
        "l1,l2"
      ],
      "id": "203b409f-16a4-4ef4-89e2-a1e85a04a422"
    },
    {
      "cell_type": "code",
      "execution_count": 119,
      "metadata": {},
      "outputs": [
        {
          "output_type": "display_data",
          "metadata": {},
          "data": {
            "text/plain": [
              "(139660807804240, 139660748282048)"
            ]
          }
        }
      ],
      "source": [
        "id(l1),id(l2)"
      ],
      "id": "590f98a5-e00e-493e-a325-462823413590"
    },
    {
      "cell_type": "markdown",
      "metadata": {},
      "source": [
        "## 예제4"
      ],
      "id": "9f4f2455-20c8-436b-aefb-503450ce3bfa"
    },
    {
      "cell_type": "code",
      "execution_count": 120,
      "metadata": {},
      "outputs": [],
      "source": [
        "l1= [3,[66,55,44]] \n",
        "l2= l1.copy() \n",
        "l1[-1] = l1[-1]+[33] \n",
        "l1[-1].remove(33)\n",
        "l1[-1].append(33)"
      ],
      "id": "c39bd1ff-4db0-44e0-886f-e498ee174374"
    },
    {
      "cell_type": "markdown",
      "metadata": {},
      "source": [
        "(잘못된 상상) 아래의 코드와 결과가 같을거야!!"
      ],
      "id": "5635b8f0-1ed7-48cc-9368-24693c2e50a5"
    },
    {
      "cell_type": "code",
      "execution_count": 121,
      "metadata": {},
      "outputs": [],
      "source": [
        "l1= [3,[66,55,44]] \n",
        "l2= l1.copy() \n",
        "# l1[-1] = l1[-1]+[33] \n",
        "# l1[-1].remove(33)\n",
        "l1[-1].append(33)"
      ],
      "id": "31969090-dbad-4a34-9359-860943af3aa1"
    },
    {
      "cell_type": "code",
      "execution_count": 122,
      "metadata": {},
      "outputs": [
        {
          "output_type": "display_data",
          "metadata": {},
          "data": {
            "text/plain": [
              "([3, [66, 55, 44, 33]], [3, [66, 55, 44, 33]])"
            ]
          }
        }
      ],
      "source": [
        "l1,l2 "
      ],
      "id": "ff27df27-4a40-4c85-a07d-559948b2da22"
    },
    {
      "cell_type": "markdown",
      "metadata": {},
      "source": [
        "(하지만 현실은)"
      ],
      "id": "48acd15e-3cc1-4901-9772-eca31f1753c4"
    },
    {
      "cell_type": "code",
      "execution_count": 123,
      "metadata": {},
      "outputs": [],
      "source": [
        "l1= [3,[66,55,44]] \n",
        "l2= l1.copy() \n",
        "l1[-1] = l1[-1]+[33] \n",
        "l1[-1].remove(33)\n",
        "l1[-1].append(33)"
      ],
      "id": "3733c0c0-b473-4bb2-a73b-3a7859c11a46"
    },
    {
      "cell_type": "code",
      "execution_count": 124,
      "metadata": {},
      "outputs": [
        {
          "output_type": "display_data",
          "metadata": {},
          "data": {
            "text/plain": [
              "([3, [66, 55, 44, 33]], [3, [66, 55, 44]])"
            ]
          }
        }
      ],
      "source": [
        "l1,l2"
      ],
      "id": "f898b2f2-5fed-4f61-a62d-520ab1089bf3"
    },
    {
      "cell_type": "markdown",
      "metadata": {},
      "source": [
        "재할당의 개념이 있었기 때문에 주소가 다른게 할당된 것이고, 결국 다른\n",
        "결과가 나온다.\n",
        "\n",
        "## 예제5"
      ],
      "id": "71b360ce-c941-48bc-9eaa-6891f0b4cd58"
    },
    {
      "cell_type": "code",
      "execution_count": 125,
      "metadata": {},
      "outputs": [],
      "source": [
        "l1= [3,[66,55,44]] \n",
        "l2= l1.copy() \n",
        "l1[-1] += [33] # l1[-1] = l1[-1]+[33] \n",
        "l1[-1].remove(33)\n",
        "l1[-1].append(33)"
      ],
      "id": "f3fb25b2-8d47-4692-a13d-1c94eca99c9b"
    },
    {
      "cell_type": "code",
      "execution_count": 126,
      "metadata": {},
      "outputs": [
        {
          "output_type": "display_data",
          "metadata": {},
          "data": {
            "text/plain": [
              "([3, [66, 55, 44, 33]], [3, [66, 55, 44, 33]])"
            ]
          }
        }
      ],
      "source": [
        "l1,l2"
      ],
      "id": "fa813f60-998e-41d3-8f71-7c9140e48476"
    },
    {
      "cell_type": "code",
      "execution_count": 127,
      "metadata": {},
      "outputs": [
        {
          "output_type": "display_data",
          "metadata": {},
          "data": {
            "text/plain": [
              "(139660739562464, 139660739561344)"
            ]
          }
        }
      ],
      "source": [
        "id(l1),id(l2)"
      ],
      "id": "ceed6f30-b656-48f6-b6e2-fe14317477f2"
    },
    {
      "cell_type": "markdown",
      "metadata": {},
      "source": [
        "주소는 다르지만 재할당의 개념이 없어!\n",
        "\n",
        "l1에 append 하는 식으로 되어서 묶음 방식이 같이 움직인다.\n",
        "\n",
        "> ??? 예제4랑 예제5는 같은코드가 아니었음!!! `a += [1]` 는 새로운\n",
        "> 오브젝트를 만드는게 아니고, 기존의 오브젝트를 변형하는 스타일의\n",
        "> 코드였음! (마치 append 메소드처럼)\n",
        "\n",
        "# 불변형 객체\n",
        "\n",
        "## Motivation example\n",
        "\n",
        "`-` 우리는 이제 아래의 내용은 마스터함"
      ],
      "id": "0fe64e87-747e-4617-9480-e2d61d98001a"
    },
    {
      "cell_type": "code",
      "execution_count": 128,
      "metadata": {},
      "outputs": [],
      "source": [
        "l1= [3,[66,55,44]] \n",
        "l2= l1.copy() \n",
        "l1[-1] += [33] # l1[-1].append(33)이랑 같은거.."
      ],
      "id": "eb4bb695-ceec-4c07-9f8d-e13d41fad120"
    },
    {
      "cell_type": "code",
      "execution_count": 129,
      "metadata": {},
      "outputs": [
        {
          "output_type": "display_data",
          "metadata": {},
          "data": {
            "text/plain": [
              "([3, [66, 55, 44, 33]], [3, [66, 55, 44, 33]])"
            ]
          }
        }
      ],
      "source": [
        "l1,l2"
      ],
      "id": "616c543c-6a80-4d75-b1d7-c50ddbf9ab69"
    },
    {
      "cell_type": "markdown",
      "metadata": {},
      "source": [
        "`-` 아래의 결과를 한번 예측해볼까?"
      ],
      "id": "e4286af4-5766-4dc3-b6f7-f395d43e53fb"
    },
    {
      "cell_type": "code",
      "execution_count": 130,
      "metadata": {},
      "outputs": [],
      "source": [
        "l1=[3,(66,55,44)]\n",
        "l2=l1.copy()\n",
        "l2[1] += (33,)"
      ],
      "id": "cded4d15-da18-4dae-8a09-2fcb8087e2ab"
    },
    {
      "cell_type": "markdown",
      "metadata": {},
      "source": [
        "이번엔 튜플로"
      ],
      "id": "edd61c82-2018-4860-b677-ad7fcfbc2315"
    },
    {
      "cell_type": "code",
      "execution_count": 131,
      "metadata": {},
      "outputs": [
        {
          "output_type": "display_data",
          "metadata": {},
          "data": {
            "text/plain": [
              "([3, (66, 55, 44)], [3, (66, 55, 44, 33)])"
            ]
          }
        }
      ],
      "source": [
        "l1,l2"
      ],
      "id": "3a3dea52-1006-4bd0-bc21-811b43c7c909"
    },
    {
      "cell_type": "markdown",
      "metadata": {},
      "source": [
        "## 해설\n",
        "\n",
        "(시점1)"
      ],
      "id": "4cc42dc4-4676-481f-91dc-c4cfc3ff6345"
    },
    {
      "cell_type": "code",
      "execution_count": 132,
      "metadata": {},
      "outputs": [],
      "source": [
        "l1=[3,(66,55,44)]\n",
        "l2=l1.copy()"
      ],
      "id": "eb9f52b1-fb6e-4b38-8d7d-aba33649bcf0"
    },
    {
      "cell_type": "markdown",
      "metadata": {},
      "source": [
        "이번엔 리스트 안에 튜플을 넣어봄"
      ],
      "id": "82844746-6abb-4d4d-b974-40fa75f900e0"
    },
    {
      "cell_type": "code",
      "execution_count": 133,
      "metadata": {},
      "outputs": [
        {
          "output_type": "display_data",
          "metadata": {},
          "data": {
            "text/plain": [
              "([3, (66, 55, 44)], [3, (66, 55, 44)])"
            ]
          }
        }
      ],
      "source": [
        "l1,l2"
      ],
      "id": "221fc3b5-4bcd-485f-8c74-72c61b8843ef"
    },
    {
      "cell_type": "code",
      "execution_count": 134,
      "metadata": {},
      "outputs": [
        {
          "output_type": "stream",
          "name": "stdout",
          "text": [
            "level 1\n",
            "l1: 139660739586080\n",
            "l2: 139660807832512"
          ]
        }
      ],
      "source": [
        "print('level 1')\n",
        "print('l1:', id(l1))\n",
        "print('l2:', id(l2))"
      ],
      "id": "8d57a06f-a881-4a2d-8c8e-37e053166cc1"
    },
    {
      "cell_type": "code",
      "execution_count": 135,
      "metadata": {},
      "outputs": [
        {
          "output_type": "stream",
          "name": "stdout",
          "text": [
            "level 2\n",
            "l1: 139660739586080 [7402432, 139660748091792]\n",
            "l2: 139660807832512 [7402432, 139660748091792]"
          ]
        }
      ],
      "source": [
        "print('level 2')\n",
        "print('l1:', id(l1), [id(l1[0]),id(l1[1])])\n",
        "print('l2:', id(l2), [id(l2[0]),id(l2[1])])"
      ],
      "id": "544017c6-05c2-47d1-89fd-d6635a694700"
    },
    {
      "cell_type": "markdown",
      "metadata": {},
      "source": [
        "(시점2)"
      ],
      "id": "e4737c2a-e71d-4a58-9155-e9dff8eb0ab0"
    },
    {
      "cell_type": "code",
      "execution_count": 136,
      "metadata": {},
      "outputs": [],
      "source": [
        "l2[1] += (33,)"
      ],
      "id": "c83a4775-be60-4b3b-9768-dd56df1dabfe"
    },
    {
      "cell_type": "code",
      "execution_count": 137,
      "metadata": {},
      "outputs": [
        {
          "output_type": "display_data",
          "metadata": {},
          "data": {
            "text/plain": [
              "([3, (66, 55, 44)], [3, (66, 55, 44, 33)])"
            ]
          }
        }
      ],
      "source": [
        "l1,l2"
      ],
      "id": "db360f10-a694-41de-9523-23f6fa10785d"
    },
    {
      "cell_type": "code",
      "execution_count": 138,
      "metadata": {},
      "outputs": [
        {
          "output_type": "stream",
          "name": "stdout",
          "text": [
            "level 1\n",
            "l1: 139660739586080\n",
            "l2: 139660807832512"
          ]
        }
      ],
      "source": [
        "print('level 1')\n",
        "print('l1:', id(l1))\n",
        "print('l2:', id(l2))"
      ],
      "id": "2bed1b4d-8463-4488-8a84-267cc9d56c5c"
    },
    {
      "cell_type": "code",
      "execution_count": 139,
      "metadata": {},
      "outputs": [
        {
          "output_type": "stream",
          "name": "stdout",
          "text": [
            "level 2\n",
            "l1: 139660739586080 [7402432, 139660748091792]\n",
            "l2: 139660807832512 [7402432, 139660739627824]"
          ]
        }
      ],
      "source": [
        "print('level 2')\n",
        "print('l1:', id(l1), [id(l1[0]),id(l1[1])])\n",
        "print('l2:', id(l2), [id(l2[0]),id(l2[1])])"
      ],
      "id": "a23e6151-b558-43f1-bbcf-1c9cd453c9b5"
    },
    {
      "cell_type": "markdown",
      "metadata": {},
      "source": [
        "주소 `139753182280032`에 있는 값을 바꾸고 싶지만 불변형이라 못바꿈 $\\to$\n",
        "그냥 새로 만들자. 그래서 그걸 `139753174874064`에 저장하자.\n",
        "\n",
        "튜플의 묶음 방식은 불변형! 정의: 값을 변환할 수 없는 오브젝트다\\~ 새로\n",
        "오브젝트 만들어 저장함.\n",
        "\n",
        "리스트 : 값을 바꿀 수 있는 오브젝트다, 묶음 방식을 바꿀 수 있다.\n",
        "\n",
        "# Shallow copy vs Deep copy\n",
        "\n",
        "`-` 암기용문구: “shallow copy는 껍데기만 복사한다. deep copy는 내부까지\n",
        "복사한다.”\n",
        "\n",
        "`-` 일부교재에서는 경우에 따라 shallow copy가 선호될 수 있다는 식으로\n",
        "설명되어있으나 솔직히 대부분 코드에서 shallow copy의 동작을 의도하고\n",
        "코드를 사용하진 않는다. 대부분의 경우에서 shallow copy는 불필요한 side\n",
        "effect을 유발하는 쓸모없는 개념이라 생각한다.\n",
        "\n",
        "`-` 그럼 shallow copy의 장점은 무엇인가? shallow copy가 deep copy보다\n",
        "메모리를 더 적게 사용한다.\n",
        "\n",
        "``` python\n",
        "## 예제1\n",
        "lst1 = ['양성준',['최규빈','이영미','최혜미']]\n",
        "lst2 = lst1.copy()\n",
        "## 예제2 \n",
        "lst1 = ['양성준',['최규빈','이영미','최혜미']]\n",
        "lst2 = copy.deepcopy(lst1)\n",
        "```\n",
        "\n",
        "-   예제1: 4+1+2 = 7개의 공간 사용\n",
        "-   예제2: 4+2+2 = 8개의 공간 사용\n",
        "\n",
        "`-` 분노: 참조인지 카피인지 구분하는것도 힘든데, 카피도 shallow 인지\n",
        "deep 인지 구분해서 사용해야해? 겨우 저 메모리때문에?\n",
        "\n",
        "**요약**\n",
        "\n",
        "`-` 파이썬은 메모리를 아끼기 위해서 shallow copy라는 이상한 행동을 한다.\n",
        "\n",
        "`-` 통찰1: 그런데 오묘하게도 \\[1,2,3,4,5,6\\]와 같이 중첩된 리스트가\n",
        "아니라면 문제가 되지 않음. (***메모리는 아끼면서 문제가 되지 않는다??\n",
        "천재인데??***)\n",
        "\n",
        "-   중첩된 리스트가 아닐 경우는 `shallow copy = deep copy` 임.\n",
        "\n",
        "1차원이면 이런 문제 생기지 않지, 하지만 모든 데이터가 1차원?\n",
        "\n",
        "`-` 통찰2: 생각해보니까 모든 자료형이 불변형인 경우에도 문제가 되지\n",
        "않음. (R은 모든 자료형이 불변형이다)\n",
        "\n",
        "`-` 문제상황요약: \\[\\[1,2\\],\\[3,4\\]\\] 와 같이 리스트에 리스트가 포함된\n",
        "형태라면 문제가 생긴다. (이건 개선이 필요함) - 개선1: 깊은복사(import\n",
        "copy) - 개선2: 넘파이\n",
        "\n",
        "# numpy"
      ],
      "id": "021ba171-f9e5-479a-b930-b12f61838609"
    },
    {
      "cell_type": "code",
      "execution_count": 140,
      "metadata": {},
      "outputs": [],
      "source": [
        "import numpy as np"
      ],
      "id": "35e7798a-adc7-4937-bb3f-c93c0148dba6"
    },
    {
      "cell_type": "markdown",
      "metadata": {},
      "source": [
        "## 2차원의 실체\n",
        "\n",
        "`-` 2차원 array a,b를 선언하자."
      ],
      "id": "e4a1e062-ce14-4127-b5bb-e54b2ecea82c"
    },
    {
      "cell_type": "code",
      "execution_count": 141,
      "metadata": {},
      "outputs": [],
      "source": [
        "a = np.array([[11,22,33,44]]).reshape(2,2)\n",
        "b = np.array([[11,22,33,44,55,66]]).reshape(2,3)\n",
        "c = np.array([11,22,33,44]).reshape(4,1)\n",
        "d = np.array([11,22,33,44])"
      ],
      "id": "a37b6b98-7eea-43fd-ae4a-a1547be1467b"
    },
    {
      "cell_type": "markdown",
      "metadata": {},
      "source": [
        "`-` a,b,c,d 속성비교"
      ],
      "id": "dcc1f268-6d13-4071-89b0-50ab1ce6dcd7"
    },
    {
      "cell_type": "code",
      "execution_count": 142,
      "metadata": {},
      "outputs": [
        {
          "output_type": "display_data",
          "metadata": {},
          "data": {
            "text/plain": [
              "((2, 2), (2, 3), (4, 1), (4,))"
            ]
          }
        }
      ],
      "source": [
        "a.shape, b.shape, c.shape, d.shape ## 차원 "
      ],
      "id": "f0c4da59-a8c5-4452-b303-2e5dd1a692ad"
    },
    {
      "cell_type": "code",
      "execution_count": 143,
      "metadata": {},
      "outputs": [
        {
          "output_type": "display_data",
          "metadata": {},
          "data": {
            "text/plain": [
              "((16, 8), (24, 8), (8, 8), (8,))"
            ]
          }
        }
      ],
      "source": [
        "a.strides, b.strides, c.strides, d.strides ## 차원이랑 관련이 있어보임.. + 8의 배수 "
      ],
      "id": "a8517058-064d-4086-a2d5-e699d8ab62ea"
    },
    {
      "cell_type": "markdown",
      "metadata": {},
      "source": [
        "`-` strides는 무엇?\n",
        "\n",
        "-   strides: (다음 행으로 가기위해서 JUMP해야하는 메모리 공간수, 다음\n",
        "    열로 가기위해서 JUMP해야하는 메모리 공간수)\n",
        "\n",
        "`-` 사실 a,b,c,d 는 모두 1차원으로 저장되어있음. (중첩된 리스트꼴이\n",
        "아니라)\n",
        "\n",
        "shape이나 strides 등의 옵션으로 1차원이 아니게 보여지는 것 뿐\n",
        "\n",
        "## 참조\n",
        "\n",
        "`-` a를 선언, b는 a의 참조"
      ],
      "id": "5f73a8f1-b0ed-4cc8-896d-168024dedd65"
    },
    {
      "cell_type": "code",
      "execution_count": 144,
      "metadata": {},
      "outputs": [],
      "source": [
        "a=np.array([[1,2],[3,4]])\n",
        "b=a ## 참조 "
      ],
      "id": "845ee031-fa0f-4cd9-9714-1b9f666f024f"
    },
    {
      "cell_type": "code",
      "execution_count": 145,
      "metadata": {},
      "outputs": [
        {
          "output_type": "display_data",
          "metadata": {},
          "data": {
            "text/plain": [
              "array([[1, 2],\n",
              "       [3, 4]])"
            ]
          }
        }
      ],
      "source": [
        "a"
      ],
      "id": "73df8e5f-6caa-4b29-a952-77700541ea9d"
    },
    {
      "cell_type": "code",
      "execution_count": 146,
      "metadata": {},
      "outputs": [
        {
          "output_type": "display_data",
          "metadata": {},
          "data": {
            "text/plain": [
              "array([[1, 2],\n",
              "       [3, 4]])"
            ]
          }
        }
      ],
      "source": [
        "b"
      ],
      "id": "5e5c53e1-19d6-4d4c-81d6-36f7c2ac066f"
    },
    {
      "cell_type": "code",
      "execution_count": 147,
      "metadata": {},
      "outputs": [
        {
          "output_type": "display_data",
          "metadata": {},
          "data": {
            "text/plain": [
              "(2, 2)"
            ]
          }
        }
      ],
      "source": [
        "a.shape"
      ],
      "id": "94f54581-85ca-4f36-b707-e672c4980641"
    },
    {
      "cell_type": "code",
      "execution_count": 148,
      "metadata": {},
      "outputs": [
        {
          "output_type": "display_data",
          "metadata": {},
          "data": {
            "text/plain": [
              "(2, 2)"
            ]
          }
        }
      ],
      "source": [
        "b.shape"
      ],
      "id": "ccf11e6e-0887-410d-9d5a-3de1a11d30b6"
    },
    {
      "cell_type": "markdown",
      "metadata": {},
      "source": [
        "`-` a의 shape을 바꾸어보자 $\\to$ b도 같이 바뀐다"
      ],
      "id": "aa9c31a9-2238-47b8-aacf-1a58ac321e2a"
    },
    {
      "cell_type": "code",
      "execution_count": 149,
      "metadata": {},
      "outputs": [],
      "source": [
        "a.shape = (4,)"
      ],
      "id": "bbde842c-640f-4cc8-be93-123af4c19693"
    },
    {
      "cell_type": "code",
      "execution_count": 150,
      "metadata": {},
      "outputs": [
        {
          "output_type": "display_data",
          "metadata": {},
          "data": {
            "text/plain": [
              "array([1, 2, 3, 4])"
            ]
          }
        }
      ],
      "source": [
        "a"
      ],
      "id": "5724c88b-54b9-4950-9a86-e2ca888fe9ce"
    },
    {
      "cell_type": "code",
      "execution_count": 151,
      "metadata": {},
      "outputs": [
        {
          "output_type": "display_data",
          "metadata": {},
          "data": {
            "text/plain": [
              "array([1, 2, 3, 4])"
            ]
          }
        }
      ],
      "source": [
        "b"
      ],
      "id": "c1f563b1-8a5e-4ce5-9087-f404041ff748"
    },
    {
      "cell_type": "code",
      "execution_count": 152,
      "metadata": {},
      "outputs": [
        {
          "output_type": "display_data",
          "metadata": {},
          "data": {
            "text/plain": [
              "(139660739644368, 139660739644368)"
            ]
          }
        }
      ],
      "source": [
        "id(a),id(b)"
      ],
      "id": "604be651-ad8d-41e2-9aac-9b918eb94ff8"
    },
    {
      "cell_type": "markdown",
      "metadata": {},
      "source": [
        "## view\n",
        "\n",
        "`-` a를 선언, b는 a의 view"
      ],
      "id": "15c1729b-cf47-4df6-926b-9eecb26b5a48"
    },
    {
      "cell_type": "code",
      "execution_count": 153,
      "metadata": {},
      "outputs": [],
      "source": [
        "a=np.array([[1,2],[3,4]]) \n",
        "b=a.view() ## shallow copy 라고 부르기도 한다. "
      ],
      "id": "25c88484-0f39-4f0a-a3cb-e5d653e4d4ec"
    },
    {
      "cell_type": "code",
      "execution_count": 154,
      "metadata": {},
      "outputs": [
        {
          "output_type": "display_data",
          "metadata": {},
          "data": {
            "text/plain": [
              "array([[1, 2],\n",
              "       [3, 4]])"
            ]
          }
        }
      ],
      "source": [
        "a"
      ],
      "id": "8307eb0f-525a-4b19-9575-d8af32367f19"
    },
    {
      "cell_type": "code",
      "execution_count": 155,
      "metadata": {},
      "outputs": [
        {
          "output_type": "display_data",
          "metadata": {},
          "data": {
            "text/plain": [
              "array([[1, 2],\n",
              "       [3, 4]])"
            ]
          }
        }
      ],
      "source": [
        "b"
      ],
      "id": "c2958992-eed6-4647-9d0a-cb2df92ba8ee"
    },
    {
      "cell_type": "code",
      "execution_count": 156,
      "metadata": {},
      "outputs": [
        {
          "output_type": "display_data",
          "metadata": {},
          "data": {
            "text/plain": [
              "(2, 2)"
            ]
          }
        }
      ],
      "source": [
        "a.shape"
      ],
      "id": "d47dc820-6cbf-42f7-a7a1-9da34dc0f567"
    },
    {
      "cell_type": "code",
      "execution_count": 157,
      "metadata": {},
      "outputs": [
        {
          "output_type": "display_data",
          "metadata": {},
          "data": {
            "text/plain": [
              "(2, 2)"
            ]
          }
        }
      ],
      "source": [
        "b.shape"
      ],
      "id": "9553b795-35b8-421b-9f61-b7faa892f2a1"
    },
    {
      "cell_type": "code",
      "execution_count": 158,
      "metadata": {},
      "outputs": [],
      "source": [
        "a.shape= (4,1)"
      ],
      "id": "203af5f7-840a-43d9-b451-5436325cde36"
    },
    {
      "cell_type": "code",
      "execution_count": 159,
      "metadata": {},
      "outputs": [
        {
          "output_type": "display_data",
          "metadata": {},
          "data": {
            "text/plain": [
              "array([[1],\n",
              "       [2],\n",
              "       [3],\n",
              "       [4]])"
            ]
          }
        }
      ],
      "source": [
        "a"
      ],
      "id": "0d781877-e110-4d27-a23f-75cf8b9cc70a"
    },
    {
      "cell_type": "code",
      "execution_count": 160,
      "metadata": {},
      "outputs": [
        {
          "output_type": "display_data",
          "metadata": {},
          "data": {
            "text/plain": [
              "array([[1, 2],\n",
              "       [3, 4]])"
            ]
          }
        }
      ],
      "source": [
        "b"
      ],
      "id": "71fc49e3-d8c4-43d4-bed1-f080b2ff348e"
    },
    {
      "cell_type": "code",
      "execution_count": 161,
      "metadata": {},
      "outputs": [
        {
          "output_type": "display_data",
          "metadata": {},
          "data": {
            "text/plain": [
              "(139660382911248, 139660382911344)"
            ]
          }
        }
      ],
      "source": [
        "id(a), id(b)"
      ],
      "id": "8ccd2a29-4e71-4e45-9f0d-6293556b234c"
    },
    {
      "cell_type": "markdown",
      "metadata": {},
      "source": [
        "view가 shallow copy 같은 이유 껍데기 주소만 복사해옴, 공간에 대한 주소는\n",
        "같지 않음\n",
        "\n",
        "`-` 그런데.."
      ],
      "id": "c5dac016-e9b6-4a17-b98d-0c7f26d6462b"
    },
    {
      "cell_type": "code",
      "execution_count": 162,
      "metadata": {},
      "outputs": [],
      "source": [
        "a[0]=100"
      ],
      "id": "b546a920-f55f-472c-bbc9-d209df17396a"
    },
    {
      "cell_type": "code",
      "execution_count": 163,
      "metadata": {},
      "outputs": [
        {
          "output_type": "display_data",
          "metadata": {},
          "data": {
            "text/plain": [
              "array([[100],\n",
              "       [  2],\n",
              "       [  3],\n",
              "       [  4]])"
            ]
          }
        }
      ],
      "source": [
        "a"
      ],
      "id": "4c412ee2-943e-49f0-87db-a29989484165"
    },
    {
      "cell_type": "code",
      "execution_count": 164,
      "metadata": {},
      "outputs": [
        {
          "output_type": "display_data",
          "metadata": {},
          "data": {
            "text/plain": [
              "array([[100,   2],\n",
              "       [  3,   4]])"
            ]
          }
        }
      ],
      "source": [
        "b"
      ],
      "id": "e73af4f7-8d19-4543-a04a-0a2e33941f0d"
    },
    {
      "cell_type": "markdown",
      "metadata": {},
      "source": [
        "`-` 출생의 비밀"
      ],
      "id": "47395034-caea-475f-a8ea-ff7731c1dd57"
    },
    {
      "cell_type": "code",
      "execution_count": 165,
      "metadata": {},
      "outputs": [
        {
          "output_type": "display_data",
          "metadata": {},
          "data": {
            "text/plain": [
              "array([[100,   2],\n",
              "       [  3,   4]])"
            ]
          }
        }
      ],
      "source": [
        "b"
      ],
      "id": "789da8d2-35a6-42d0-86c4-ba386538a07a"
    },
    {
      "cell_type": "code",
      "execution_count": 166,
      "metadata": {},
      "outputs": [
        {
          "output_type": "display_data",
          "metadata": {},
          "data": {
            "text/plain": [
              "array([[100],\n",
              "       [  2],\n",
              "       [  3],\n",
              "       [  4]])"
            ]
          }
        }
      ],
      "source": [
        "b.base"
      ],
      "id": "46bb6711-3ddc-411e-bc5b-d96b2e581889"
    },
    {
      "cell_type": "markdown",
      "metadata": {},
      "source": [
        "-   ? 이거 바뀐 a아니야?"
      ],
      "id": "7f58b642-498e-4295-92f5-0a1bcbff59f3"
    },
    {
      "cell_type": "code",
      "execution_count": 167,
      "metadata": {},
      "outputs": [
        {
          "output_type": "display_data",
          "metadata": {},
          "data": {
            "text/plain": [
              "(139660382911248, 139660382911248)"
            ]
          }
        }
      ],
      "source": [
        "id(b.base), id(a)"
      ],
      "id": "df3c6b9f-bc8e-4efa-91c9-187fd2d77329"
    },
    {
      "cell_type": "markdown",
      "metadata": {},
      "source": [
        "`-` View - b가 a의 뷰라는 의미는, b가 a를 소스로하여 만들어진 오브젝트란\n",
        "의미이다. - 따라서 이때 b.base는 a가 된다. - b는 자체적으로 데이터를\n",
        "가지고 있지 않으며 a와 공유한다. - 이러한 의미에서 view를 shallow copy\n",
        "라고 부른다. (stride, shape과 같은 껍데기만 새로 생성, base는 유지)\n",
        "\n",
        "`note1` 원본 ndarray의 일 경우는 .base가 None으로 나온다."
      ],
      "id": "e765c769-9ad6-4c84-b399-eed42c46d1f6"
    },
    {
      "cell_type": "code",
      "execution_count": 168,
      "metadata": {},
      "outputs": [],
      "source": [
        "a.base"
      ],
      "id": "642703ff-6cb3-480b-9eaa-4f5264fc9cef"
    },
    {
      "cell_type": "code",
      "execution_count": 169,
      "metadata": {},
      "outputs": [
        {
          "output_type": "stream",
          "name": "stdout",
          "text": [
            "None"
          ]
        }
      ],
      "source": [
        "print(a.base)"
      ],
      "id": "cfa291ab-aaac-4207-8102-1d9838187ac4"
    },
    {
      "cell_type": "markdown",
      "metadata": {},
      "source": [
        "`note2` b.base의 shpae과 b의 shape은 아무 관련없다."
      ],
      "id": "5c9ffd69-5d31-496a-b1c5-14f08ff61e4f"
    },
    {
      "cell_type": "code",
      "execution_count": 170,
      "metadata": {},
      "outputs": [
        {
          "output_type": "display_data",
          "metadata": {},
          "data": {
            "text/plain": [
              "(2, 2)"
            ]
          }
        }
      ],
      "source": [
        "b.shape"
      ],
      "id": "a3181a12-898b-4baa-9861-2993d0aee91f"
    },
    {
      "cell_type": "code",
      "execution_count": 171,
      "metadata": {},
      "outputs": [
        {
          "output_type": "display_data",
          "metadata": {},
          "data": {
            "text/plain": [
              "(4, 1)"
            ]
          }
        }
      ],
      "source": [
        "b.base.shape"
      ],
      "id": "6ada5161-87b3-4a2a-99d7-68db32f5b1b1"
    },
    {
      "cell_type": "markdown",
      "metadata": {},
      "source": [
        "## copy\n",
        "\n",
        "`-` a를 선언, b는 a의 copy"
      ],
      "id": "6b9c29c1-5a41-486b-b938-2e4b1e42a936"
    },
    {
      "cell_type": "code",
      "execution_count": 172,
      "metadata": {},
      "outputs": [],
      "source": [
        "a=np.array([[1,2],[3,4]])\n",
        "b=a.copy() # 껍데기를 새로 생성 (strides, shape) + base도 새로생성 "
      ],
      "id": "efa3301a-7b41-4acc-ad00-49ef1e3384ab"
    },
    {
      "cell_type": "code",
      "execution_count": 173,
      "metadata": {},
      "outputs": [
        {
          "output_type": "display_data",
          "metadata": {},
          "data": {
            "text/plain": [
              "(139660382910288, 139660382910000)"
            ]
          }
        }
      ],
      "source": [
        "id(a),id(b)"
      ],
      "id": "e66d647b-0859-4b31-901b-5f4a8ec221b5"
    },
    {
      "cell_type": "markdown",
      "metadata": {},
      "source": [
        "`-` a의 shape을 바꿔도 b에는 적용되지 않음"
      ],
      "id": "f21bb4fa-e526-4b94-96a8-ee65c1b811d7"
    },
    {
      "cell_type": "code",
      "execution_count": 174,
      "metadata": {},
      "outputs": [
        {
          "output_type": "display_data",
          "metadata": {},
          "data": {
            "text/plain": [
              "array([[1],\n",
              "       [2],\n",
              "       [3],\n",
              "       [4]])"
            ]
          }
        }
      ],
      "source": [
        "a.shape = (4,1)\n",
        "a"
      ],
      "id": "8c8668a8-7ab6-4d89-b18b-81191c1df01d"
    },
    {
      "cell_type": "code",
      "execution_count": 175,
      "metadata": {},
      "outputs": [
        {
          "output_type": "display_data",
          "metadata": {},
          "data": {
            "text/plain": [
              "array([[1, 2],\n",
              "       [3, 4]])"
            ]
          }
        }
      ],
      "source": [
        "b"
      ],
      "id": "3738828a-512d-4cb2-becb-a304bc14bd4a"
    },
    {
      "cell_type": "markdown",
      "metadata": {},
      "source": [
        "`-` 그리고 a\\[0\\]의 값을 바꿔도 b에는 적용되지 않음."
      ],
      "id": "93b11d03-72e8-4331-a240-34160cbb1aaf"
    },
    {
      "cell_type": "code",
      "execution_count": 176,
      "metadata": {},
      "outputs": [],
      "source": [
        "a[0]=100"
      ],
      "id": "f09c1ba4-3868-4240-ba23-b1178ffb1c33"
    },
    {
      "cell_type": "code",
      "execution_count": 177,
      "metadata": {},
      "outputs": [
        {
          "output_type": "display_data",
          "metadata": {},
          "data": {
            "text/plain": [
              "array([[100],\n",
              "       [  2],\n",
              "       [  3],\n",
              "       [  4]])"
            ]
          }
        }
      ],
      "source": [
        "a"
      ],
      "id": "8734dc59-69d8-4625-835d-454fe0fa3931"
    },
    {
      "cell_type": "code",
      "execution_count": 178,
      "metadata": {},
      "outputs": [
        {
          "output_type": "display_data",
          "metadata": {},
          "data": {
            "text/plain": [
              "array([[1, 2],\n",
              "       [3, 4]])"
            ]
          }
        }
      ],
      "source": [
        "b"
      ],
      "id": "4082e792-9b69-4520-8043-b8b3b10ace2a"
    },
    {
      "cell_type": "markdown",
      "metadata": {},
      "source": [
        "`-` b의 출생을 조사해보니.."
      ],
      "id": "866d6652-e78d-4c4b-85b7-fc672ecfb1ee"
    },
    {
      "cell_type": "code",
      "execution_count": 179,
      "metadata": {},
      "outputs": [
        {
          "output_type": "display_data",
          "metadata": {},
          "data": {
            "text/plain": [
              "(None, None)"
            ]
          }
        }
      ],
      "source": [
        "a.base,b.base"
      ],
      "id": "f18762c8-ee14-4346-a4a6-bef99d835d68"
    },
    {
      "cell_type": "markdown",
      "metadata": {},
      "source": [
        "출생의 비밀은 없었다. 둘다 원본.\n",
        "\n",
        "`-` `.view()` 는 껍데기만, `.copy()` 는 껍데기 + base 까지 새로생성\n",
        "\n",
        "### ***Appendix: .copy의 한계(?)***"
      ],
      "id": "bebc40e8-1885-46f6-98fe-9f95ba012c14"
    },
    {
      "cell_type": "code",
      "execution_count": 180,
      "metadata": {},
      "outputs": [
        {
          "output_type": "display_data",
          "metadata": {},
          "data": {
            "text/plain": [
              "array([1, list([1, 2])], dtype=object)"
            ]
          }
        }
      ],
      "source": [
        "a=np.array([1,[1,2]],dtype='O')\n",
        "a"
      ],
      "id": "a7dfe664-04a2-4d90-8749-bc7d9a2b4549"
    },
    {
      "cell_type": "code",
      "execution_count": 181,
      "metadata": {},
      "outputs": [],
      "source": [
        "b=a.copy()"
      ],
      "id": "d62c1691-dec8-4d17-bb0a-e80d9caec11c"
    },
    {
      "cell_type": "code",
      "execution_count": 182,
      "metadata": {},
      "outputs": [
        {
          "output_type": "display_data",
          "metadata": {},
          "data": {
            "text/plain": [
              "array([1, list([1, 2])], dtype=object)"
            ]
          }
        }
      ],
      "source": [
        "b"
      ],
      "id": "8df6df90-f68c-47d1-9413-89eac1349d25"
    },
    {
      "cell_type": "code",
      "execution_count": 183,
      "metadata": {},
      "outputs": [],
      "source": [
        "a[0]=222"
      ],
      "id": "e909cd09-1adc-4040-afc9-ee73a3b9a806"
    },
    {
      "cell_type": "code",
      "execution_count": 184,
      "metadata": {},
      "outputs": [
        {
          "output_type": "display_data",
          "metadata": {},
          "data": {
            "text/plain": [
              "array([222, list([1, 2])], dtype=object)"
            ]
          }
        }
      ],
      "source": [
        "a"
      ],
      "id": "ffa5f613-9426-40eb-8620-456f5bf566a3"
    },
    {
      "cell_type": "code",
      "execution_count": 185,
      "metadata": {},
      "outputs": [
        {
          "output_type": "display_data",
          "metadata": {},
          "data": {
            "text/plain": [
              "array([1, list([1, 2])], dtype=object)"
            ]
          }
        }
      ],
      "source": [
        "b"
      ],
      "id": "355664f2-3c39-44ea-9255-69a5a2d043ba"
    },
    {
      "cell_type": "code",
      "execution_count": 186,
      "metadata": {},
      "outputs": [],
      "source": [
        "a[1][0]=333"
      ],
      "id": "14785fc5-1469-467f-9768-812e321483d9"
    },
    {
      "cell_type": "code",
      "execution_count": 187,
      "metadata": {},
      "outputs": [
        {
          "output_type": "display_data",
          "metadata": {},
          "data": {
            "text/plain": [
              "array([222, list([333, 2])], dtype=object)"
            ]
          }
        }
      ],
      "source": [
        "a"
      ],
      "id": "a2f6060e-4952-4316-a1ec-bbe4bfe93e9c"
    },
    {
      "cell_type": "code",
      "execution_count": 188,
      "metadata": {},
      "outputs": [
        {
          "output_type": "display_data",
          "metadata": {},
          "data": {
            "text/plain": [
              "array([1, list([333, 2])], dtype=object)"
            ]
          }
        }
      ],
      "source": [
        "b"
      ],
      "id": "7b90dfc8-a726-47d4-ad9a-2f3c1a5a4ced"
    },
    {
      "cell_type": "markdown",
      "metadata": {},
      "source": [
        "***해결책: 더 깊은 복사***"
      ],
      "id": "03513bd7-62c1-4367-b547-d76d3ba812eb"
    },
    {
      "cell_type": "code",
      "execution_count": 189,
      "metadata": {},
      "outputs": [],
      "source": [
        "import copy "
      ],
      "id": "67696525-9c28-44a1-9d84-fefc15aec74d"
    },
    {
      "cell_type": "code",
      "execution_count": 190,
      "metadata": {},
      "outputs": [],
      "source": [
        "a=np.array([1,[1,2]],dtype='O')\n",
        "b=copy.deepcopy(a)"
      ],
      "id": "4716ccc1-6b08-45db-99a0-c9b1d527557b"
    },
    {
      "cell_type": "code",
      "execution_count": 191,
      "metadata": {},
      "outputs": [
        {
          "output_type": "display_data",
          "metadata": {},
          "data": {
            "text/plain": [
              "array([1, list([1, 2])], dtype=object)"
            ]
          }
        }
      ],
      "source": [
        "a"
      ],
      "id": "8c1b4119-c389-4200-933d-2c379878e28e"
    },
    {
      "cell_type": "code",
      "execution_count": 192,
      "metadata": {},
      "outputs": [
        {
          "output_type": "display_data",
          "metadata": {},
          "data": {
            "text/plain": [
              "array([1, list([1, 2])], dtype=object)"
            ]
          }
        }
      ],
      "source": [
        "b"
      ],
      "id": "dbe14985-4afa-4896-8ba6-aaf149673a13"
    },
    {
      "cell_type": "code",
      "execution_count": 193,
      "metadata": {},
      "outputs": [],
      "source": [
        "a[0]=100"
      ],
      "id": "a0b63a20-0c92-4da1-9aa3-05fcf3dcd52d"
    },
    {
      "cell_type": "code",
      "execution_count": 194,
      "metadata": {},
      "outputs": [
        {
          "output_type": "display_data",
          "metadata": {},
          "data": {
            "text/plain": [
              "(array([100, list([1, 2])], dtype=object),\n",
              " array([1, list([1, 2])], dtype=object))"
            ]
          }
        }
      ],
      "source": [
        "a,b"
      ],
      "id": "7230a0ca-ec7a-4c3a-bca9-a9d6b519d145"
    },
    {
      "cell_type": "code",
      "execution_count": 195,
      "metadata": {},
      "outputs": [],
      "source": [
        "a[1][0]=200"
      ],
      "id": "3aec3c74-fc68-43cb-a3db-afd3fe81e415"
    },
    {
      "cell_type": "code",
      "execution_count": 196,
      "metadata": {},
      "outputs": [
        {
          "output_type": "display_data",
          "metadata": {},
          "data": {
            "text/plain": [
              "(array([100, list([200, 2])], dtype=object),\n",
              " array([1, list([1, 2])], dtype=object))"
            ]
          }
        }
      ],
      "source": [
        "a,b"
      ],
      "id": "3906bae5-5f26-4a00-8a53-80e7ea30c28e"
    },
    {
      "cell_type": "markdown",
      "metadata": {},
      "source": [
        "`-` 중간요약\n",
        "\n",
        "-   사실 `.copy()`는 온전한 deep copy 가 아니라 level 2 deep copy 이다.\n",
        "-   따라서 `.copy()`는 base의 정보를 shallow copy 한다 (level 1 deep\n",
        "    copy 한다.)\n",
        "-   그래서 base가 다시 중첩구조를 가지는 경우는 온전한 deep-copy가\n",
        "    수행되지 않는다.\n",
        "-   그런데 일반적으로 넘파이를 이용할때 자주 사용하는 데이터 구조인\n",
        "    행렬, 텐서등은 base가 중첩구조를 가지지 않는다. (1차원 array로만\n",
        "    저장되어 있음)\n",
        "-   따라서 행렬, 텐서에 한정하면 `.copy()`는 온전한 deep copy라고\n",
        "    이해해도 무방하다.\n",
        "\n",
        "행/열 같지 않으면 numpy쓰면 힘들걸..\n",
        "\n",
        "모든 데이터 구조가 2차원까지로 정리 된다.\n",
        "\n",
        "## 별명, 뷰, 카피\n",
        "\n",
        "`-` test 함수 작성"
      ],
      "id": "81c7bf71-4b1d-4407-88e2-6da65bb66064"
    },
    {
      "cell_type": "code",
      "execution_count": 197,
      "metadata": {},
      "outputs": [],
      "source": [
        "def test(a,b): \n",
        "    if id(a) == id(b): \n",
        "        print(\"별명\")\n",
        "    elif id(a) == id(b.base) or id(a.base)==id(b): \n",
        "        print(\"뷰\")\n",
        "    elif (id(a.base)!=id(None) and id(b.base)!=id(None)) and id(a.base) == id(b.base):\n",
        "        print(\"공통의 base를 가짐\")\n",
        "    else: \n",
        "        print(\"카피, 혹은 아무 관련없는 오브젝트\") "
      ],
      "id": "e9263d22-3107-4ac9-835e-12125e784cde"
    },
    {
      "cell_type": "markdown",
      "metadata": {},
      "source": [
        "`-` 잘 동작하나?\n",
        "\n",
        "(테스트1)"
      ],
      "id": "e6331b3c-2295-4dec-99dd-ad4faca3ca90"
    },
    {
      "cell_type": "code",
      "execution_count": 198,
      "metadata": {},
      "outputs": [],
      "source": [
        "a=np.array([1,2,3,4])\n",
        "b=a"
      ],
      "id": "6fec1ca6-d4f8-42a7-aa91-0ecbb972de5a"
    },
    {
      "cell_type": "code",
      "execution_count": 199,
      "metadata": {},
      "outputs": [
        {
          "output_type": "stream",
          "name": "stdout",
          "text": [
            "별명"
          ]
        }
      ],
      "source": [
        "test(a,b)"
      ],
      "id": "6ddcba32-fa83-498e-b221-2763a04d3c52"
    },
    {
      "cell_type": "markdown",
      "metadata": {},
      "source": [
        "참조\n",
        "\n",
        "(테스트2)"
      ],
      "id": "ab113079-fdb0-4b0c-a5ca-09679f8b7b5a"
    },
    {
      "cell_type": "code",
      "execution_count": 200,
      "metadata": {},
      "outputs": [],
      "source": [
        "a=np.array([1,2,3,4])\n",
        "b=a.view()"
      ],
      "id": "0c62692b-e67c-4ad3-8f7f-44e0de7c36e3"
    },
    {
      "cell_type": "code",
      "execution_count": 201,
      "metadata": {},
      "outputs": [
        {
          "output_type": "stream",
          "name": "stdout",
          "text": [
            "뷰"
          ]
        }
      ],
      "source": [
        "test(a,b)"
      ],
      "id": "a3e52b98-aea9-480b-901e-5e7f9ddca267"
    },
    {
      "cell_type": "markdown",
      "metadata": {},
      "source": [
        "(테스트3)"
      ],
      "id": "0baf57ce-5ff8-490a-818b-91675587dc36"
    },
    {
      "cell_type": "code",
      "execution_count": 202,
      "metadata": {},
      "outputs": [],
      "source": [
        "a=np.array([1,2,3,4])\n",
        "b=a.view()\n",
        "c=a.view()"
      ],
      "id": "d6580c39-92ef-4c0f-b217-0abf57d03125"
    },
    {
      "cell_type": "code",
      "execution_count": 203,
      "metadata": {},
      "outputs": [
        {
          "output_type": "stream",
          "name": "stdout",
          "text": [
            "공통의 base를 가짐"
          ]
        }
      ],
      "source": [
        "test(b,c)"
      ],
      "id": "d406ae4b-2b13-4a26-befb-f048de3eb207"
    },
    {
      "cell_type": "code",
      "execution_count": 204,
      "metadata": {},
      "outputs": [
        {
          "output_type": "stream",
          "name": "stdout",
          "text": [
            "뷰"
          ]
        }
      ],
      "source": [
        "test(a,b)"
      ],
      "id": "1a5c6f07-a4b1-472c-8b1c-bef70911e67e"
    },
    {
      "cell_type": "code",
      "execution_count": 205,
      "metadata": {},
      "outputs": [
        {
          "output_type": "stream",
          "name": "stdout",
          "text": [
            "뷰"
          ]
        }
      ],
      "source": [
        "test(a,c)"
      ],
      "id": "2cd73aff-d398-44f0-af3e-d1112fe85e84"
    },
    {
      "cell_type": "markdown",
      "metadata": {},
      "source": [
        "(테스트4)"
      ],
      "id": "27350c55-c48b-4f7d-ba90-726f1602c40b"
    },
    {
      "cell_type": "code",
      "execution_count": 206,
      "metadata": {},
      "outputs": [],
      "source": [
        "a=np.array([1,2,3,4])\n",
        "b=a.copy()"
      ],
      "id": "2c4b8d19-d5dd-436f-8ef6-ea0c4416fa2a"
    },
    {
      "cell_type": "code",
      "execution_count": 207,
      "metadata": {},
      "outputs": [
        {
          "output_type": "stream",
          "name": "stdout",
          "text": [
            "카피, 혹은 아무 관련없는 오브젝트"
          ]
        }
      ],
      "source": [
        "test(a,b)"
      ],
      "id": "f9038a5f-a285-49b8-88d5-2a22a7f1de2b"
    },
    {
      "cell_type": "markdown",
      "metadata": {},
      "source": [
        "## 결론\n",
        "\n",
        "`-` 우리가 사용했던 어떠한 것들이 뷰가 나올지 카피가 나올지 사실 잘\n",
        "모른다. (그래서 원리를 이해해도 대응할 방법이 사실없음)\n",
        "\n",
        "### 예시1"
      ],
      "id": "ef236c2b-2f24-4e1f-826f-091fd4a67cfd"
    },
    {
      "cell_type": "code",
      "execution_count": 208,
      "metadata": {},
      "outputs": [],
      "source": [
        "a=np.array([1,2,3,4])\n",
        "b=a[:3]"
      ],
      "id": "3b6662ee-4beb-48d1-afbf-12aa13ed3e87"
    },
    {
      "cell_type": "code",
      "execution_count": 209,
      "metadata": {},
      "outputs": [
        {
          "output_type": "display_data",
          "metadata": {},
          "data": {
            "text/plain": [
              "array([1, 2, 3, 4])"
            ]
          }
        }
      ],
      "source": [
        "a"
      ],
      "id": "f554547a-c67a-46bf-8c81-b3b5b29b8858"
    },
    {
      "cell_type": "code",
      "execution_count": 210,
      "metadata": {},
      "outputs": [
        {
          "output_type": "display_data",
          "metadata": {},
          "data": {
            "text/plain": [
              "array([1, 2, 3])"
            ]
          }
        }
      ],
      "source": [
        "b"
      ],
      "id": "d3d2c0a3-a73c-4022-914e-ee86772f9bed"
    },
    {
      "cell_type": "code",
      "execution_count": 211,
      "metadata": {},
      "outputs": [
        {
          "output_type": "stream",
          "name": "stdout",
          "text": [
            "뷰"
          ]
        }
      ],
      "source": [
        "test(a,b)"
      ],
      "id": "2de54692-c435-405d-bcdb-0e709aaf3f59"
    },
    {
      "cell_type": "code",
      "execution_count": 212,
      "metadata": {},
      "outputs": [
        {
          "output_type": "display_data",
          "metadata": {},
          "data": {
            "text/plain": [
              "array([1, 2, 3])"
            ]
          }
        }
      ],
      "source": [
        "c=a[[0,1,2]]\n",
        "c"
      ],
      "id": "5f025265-a6e0-46cd-8499-7214a8fbb080"
    },
    {
      "cell_type": "code",
      "execution_count": 213,
      "metadata": {},
      "outputs": [
        {
          "output_type": "stream",
          "name": "stdout",
          "text": [
            "카피, 혹은 아무 관련없는 오브젝트"
          ]
        }
      ],
      "source": [
        "test(a,c)"
      ],
      "id": "a187c8ab-3ffc-4d76-a7c9-e0f4aa1792f0"
    },
    {
      "cell_type": "code",
      "execution_count": 214,
      "metadata": {},
      "outputs": [],
      "source": [
        "d = a[3]"
      ],
      "id": "30befed0-9b9a-46c7-a2de-1a2643996799"
    },
    {
      "cell_type": "code",
      "execution_count": 215,
      "metadata": {},
      "outputs": [
        {
          "output_type": "stream",
          "name": "stdout",
          "text": [
            "카피, 혹은 아무 관련없는 오브젝트"
          ]
        }
      ],
      "source": [
        "test(a,d)"
      ],
      "id": "d8087756-a3c4-4a5b-abff-2b0819bd364a"
    },
    {
      "cell_type": "markdown",
      "metadata": {},
      "source": [
        "### 예시2"
      ],
      "id": "48c06ad7-90c4-4e65-8cb6-08b36e5a13b2"
    },
    {
      "cell_type": "code",
      "execution_count": 216,
      "metadata": {},
      "outputs": [
        {
          "output_type": "display_data",
          "metadata": {},
          "data": {
            "text/plain": [
              "array([[1, 2],\n",
              "       [3, 4]])"
            ]
          }
        }
      ],
      "source": [
        "a=np.array([[1,2],[3,4]])\n",
        "a"
      ],
      "id": "0e51cdbf-ae97-4905-88a9-5a31e93ab6cc"
    },
    {
      "cell_type": "code",
      "execution_count": 217,
      "metadata": {},
      "outputs": [],
      "source": [
        "b=a.flatten()\n",
        "c=a.ravel()\n",
        "d=a.reshape(-1)"
      ],
      "id": "eb4b0580-2e7c-424f-af16-af467e8343ab"
    },
    {
      "cell_type": "code",
      "execution_count": 218,
      "metadata": {},
      "outputs": [
        {
          "output_type": "stream",
          "name": "stdout",
          "text": [
            "카피, 혹은 아무 관련없는 오브젝트"
          ]
        }
      ],
      "source": [
        "test(a,b)"
      ],
      "id": "a85c3a94-33a6-4750-bea2-b37ab98fa038"
    },
    {
      "cell_type": "code",
      "execution_count": 219,
      "metadata": {},
      "outputs": [
        {
          "output_type": "stream",
          "name": "stdout",
          "text": [
            "뷰"
          ]
        }
      ],
      "source": [
        "test(a,c)"
      ],
      "id": "e123aaf7-346d-46e9-a323-1a3796915609"
    },
    {
      "cell_type": "code",
      "execution_count": 220,
      "metadata": {},
      "outputs": [
        {
          "output_type": "stream",
          "name": "stdout",
          "text": [
            "뷰"
          ]
        }
      ],
      "source": [
        "test(a,d)"
      ],
      "id": "ebd56852-6842-4ebc-b9e7-0edb95f3a748"
    },
    {
      "cell_type": "code",
      "execution_count": 221,
      "metadata": {},
      "outputs": [
        {
          "output_type": "stream",
          "name": "stdout",
          "text": [
            "공통의 base를 가짐"
          ]
        }
      ],
      "source": [
        "test(c,d)"
      ],
      "id": "7e787dad-feab-4753-9bf1-e821969d4f91"
    },
    {
      "cell_type": "code",
      "execution_count": 222,
      "metadata": {},
      "outputs": [
        {
          "output_type": "stream",
          "name": "stdout",
          "text": [
            "카피, 혹은 아무 관련없는 오브젝트"
          ]
        }
      ],
      "source": [
        "test(b,c)"
      ],
      "id": "4e70b181-5947-471d-9274-455bfede3e1d"
    }
  ],
  "nbformat": 4,
  "nbformat_minor": 5,
  "metadata": {
    "kernelspec": {
      "name": "python3",
      "display_name": "Python 3",
      "language": "python"
    },
    "language_info": {
      "name": "python",
      "codemirror_mode": {
        "name": "ipython",
        "version": "3"
      },
      "file_extension": ".py",
      "mimetype": "text/x-python",
      "nbconvert_exporter": "python",
      "pygments_lexer": "ipython3",
      "version": "3.7.13"
    }
  }
}