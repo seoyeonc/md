{
  "cells": [
    {
      "cell_type": "markdown",
      "metadata": {},
      "source": [
        "# Extra-1: 추천시스템\n",
        "\n",
        "SEOYEON CHOI  \n",
        "12/21/22\n",
        "\n",
        "> 추천시스템\n",
        "\n",
        "# imports"
      ],
      "id": "589387f1-0aa3-46c8-b88d-1b7e4c6449b8"
    },
    {
      "cell_type": "code",
      "execution_count": 1,
      "metadata": {},
      "outputs": [
        {
          "output_type": "stream",
          "name": "stderr",
          "text": [
            "/home/csy/anaconda3/envs/py37/lib/python3.7/site-packages/tqdm/auto.py:22: TqdmWarning: IProgress not found. Please update jupyter and ipywidgets. See https://ipywidgets.readthedocs.io/en/stable/user_install.html\n",
            "  from .autonotebook import tqdm as notebook_tqdm"
          ]
        }
      ],
      "source": [
        "import torch\n",
        "import numpy as np \n",
        "import pandas as pd\n",
        "from fastai.collab import * "
      ],
      "id": "8b138002-82b2-4112-bf76-dda6c5ed6b5a"
    },
    {
      "cell_type": "markdown",
      "metadata": {},
      "source": [
        "# 나는 솔로\n",
        "\n",
        "## 주절주절 intro\n",
        "\n",
        "`-` Data"
      ],
      "id": "c9c9e72b-fb45-4de1-9d22-c7478d84fca6"
    },
    {
      "cell_type": "code",
      "execution_count": 2,
      "metadata": {},
      "outputs": [
        {
          "output_type": "display_data",
          "metadata": {},
          "data": {
            "text/html": [
              "<div>\n",
              "<style scoped>\n",
              "    .dataframe tbody tr th:only-of-type {\n",
              "        vertical-align: middle;\n",
              "    }\n",
              "\n",
              "    .dataframe tbody tr th {\n",
              "        vertical-align: top;\n",
              "    }\n",
              "\n",
              "    .dataframe thead th {\n",
              "        text-align: right;\n",
              "    }\n",
              "</style>\n",
              "<table border=\"1\" class=\"dataframe\">\n",
              "  <thead>\n",
              "    <tr style=\"text-align: right;\">\n",
              "      <th></th>\n",
              "      <th>영식</th>\n",
              "      <th>영철</th>\n",
              "      <th>영호</th>\n",
              "      <th>광수</th>\n",
              "      <th>상철</th>\n",
              "      <th>영수</th>\n",
              "    </tr>\n",
              "  </thead>\n",
              "  <tbody>\n",
              "    <tr>\n",
              "      <th>옥순</th>\n",
              "      <td>3.9</td>\n",
              "      <td>4.1</td>\n",
              "      <td>NaN</td>\n",
              "      <td>0.5</td>\n",
              "      <td>0.3</td>\n",
              "      <td>NaN</td>\n",
              "    </tr>\n",
              "    <tr>\n",
              "      <th>영자</th>\n",
              "      <td>4.5</td>\n",
              "      <td>NaN</td>\n",
              "      <td>3.7</td>\n",
              "      <td>0.5</td>\n",
              "      <td>NaN</td>\n",
              "      <td>0.2</td>\n",
              "    </tr>\n",
              "    <tr>\n",
              "      <th>정숙</th>\n",
              "      <td>NaN</td>\n",
              "      <td>4.9</td>\n",
              "      <td>4.7</td>\n",
              "      <td>NaN</td>\n",
              "      <td>1.2</td>\n",
              "      <td>1.3</td>\n",
              "    </tr>\n",
              "    <tr>\n",
              "      <th>영숙</th>\n",
              "      <td>0.6</td>\n",
              "      <td>0.2</td>\n",
              "      <td>NaN</td>\n",
              "      <td>4.1</td>\n",
              "      <td>4.3</td>\n",
              "      <td>NaN</td>\n",
              "    </tr>\n",
              "    <tr>\n",
              "      <th>순자</th>\n",
              "      <td>0.7</td>\n",
              "      <td>0.9</td>\n",
              "      <td>NaN</td>\n",
              "      <td>4.2</td>\n",
              "      <td>NaN</td>\n",
              "      <td>3.9</td>\n",
              "    </tr>\n",
              "    <tr>\n",
              "      <th>현숙</th>\n",
              "      <td>NaN</td>\n",
              "      <td>0.2</td>\n",
              "      <td>0.3</td>\n",
              "      <td>NaN</td>\n",
              "      <td>3.5</td>\n",
              "      <td>3.4</td>\n",
              "    </tr>\n",
              "  </tbody>\n",
              "</table>\n",
              "</div>"
            ]
          }
        }
      ],
      "source": [
        "df_view = pd.read_csv('2022-12-21-rcmdsolo.csv',index_col=0)\n",
        "df_view "
      ],
      "id": "10fd9e6f-f235-4cd8-9201-36dafe4d2208"
    },
    {
      "cell_type": "markdown",
      "metadata": {},
      "source": [
        "`-` 데이터를 이해할때 필요한 가정들 – 내맘대로 한 설정임.\n",
        "\n",
        "-   (옥순,영자,정숙)은 (영식,영철,영호)와 성격이 잘 맞고\n",
        "    (영숙,순자,현숙)은 (광수,상철,영수)와 성격이 잘맞음\n",
        "-   ((옥순,영자,정숙),(영식,영철,영호))은 MBTI가 I로 시작하고\n",
        "    ((영숙,순자,현숙),(광수,상철,영수))는 MBTI가 E로 시작한다.\n",
        "\n",
        "`-` 목표: NaN 을 추론\n",
        "\n",
        "`-` 수동추론:\n",
        "\n",
        "-   (옥순,영호)이 만난다면? $\\to$ 둘다 I성향이니까 잘 맞지 않을까? $\\to$\n",
        "    4.0 정도?\n",
        "-   (정숙,영식)조합은? $\\to$ 둘다 I성향이니까 잘 맞지 않을까? + 정숙은\n",
        "    다 잘맞던데..? $\\to$ 4.8 정도?\n",
        "-   (현숙,영식)조합은? $\\to$ 현숙은 E성향인데 영식은 I성향이므로 잘\n",
        "    안맞을 것임 + 현숙은 원래 좀 눈이 높음 $\\to$ 0.25 정도?\n",
        "\n",
        "`-` 좀 더 체계적인 추론\n",
        "\n",
        "사람들이 가지고 있는 성향들을 두 개의 숫자로 표현하자.\n",
        "\n",
        "-   옥순의 성향 = (I성향,E성향) = (1.9, 0.0)\n",
        "-   영식의 성향 = (I성향,E성향) = (2.0, 0.1)\n",
        "-   현숙의 성향 = (I성향,E성향) = (0.0, 1.5)\n",
        "\n",
        "**(1)** 옥순과 영식의 궁합 $\\approx$ 옥순의I성향$\\times$영식의I성향 $+$\n",
        "옥순의E성향$\\times$영식의E성향 // 적합"
      ],
      "id": "d2615075-7a10-4110-ac19-f91308b79eb6"
    },
    {
      "cell_type": "code",
      "execution_count": 3,
      "metadata": {},
      "outputs": [
        {
          "output_type": "display_data",
          "metadata": {},
          "data": {
            "text/plain": [
              "3.8"
            ]
          }
        }
      ],
      "source": [
        "a1= np.array([1.9,0.0]).reshape(2,1) # a1은 옥순의 성향, col-vec으로 선언하자. \n",
        "b1= np.array([2.0,0.1]).reshape(2,1) # b1은 영식의 성향, col-vec으로 선언하자.\n",
        "(a1*b1).sum()"
      ],
      "id": "75164003-5493-41d9-9dea-e5c4fa173993"
    },
    {
      "cell_type": "markdown",
      "metadata": {},
      "source": [
        "**(2)** 현숙과 영식의 궁합 $\\approx$ 현숙의I성향$\\times$영식의I성향 $+$\n",
        "현숙의E성향$\\times$영식의E성향 // 예측"
      ],
      "id": "bab777a1-6f62-4978-99fb-eab4d3a03429"
    },
    {
      "cell_type": "code",
      "execution_count": 4,
      "metadata": {},
      "outputs": [
        {
          "output_type": "display_data",
          "metadata": {},
          "data": {
            "text/plain": [
              "0.15000000000000002"
            ]
          }
        }
      ],
      "source": [
        "a6= np.array([0.0,1.5]).reshape(2,1)\n",
        "(a6*b1).sum()"
      ],
      "id": "230ea2fc-6279-4d1c-bd2d-05fd3663f578"
    },
    {
      "cell_type": "markdown",
      "metadata": {},
      "source": [
        "-   그럴듯함..\n",
        "\n",
        "`-` 모델링\n",
        "\n",
        "아래가 같음을 관찰하라. (차원만 다름)"
      ],
      "id": "86165dc0-c542-48d6-a385-fe15702e8f08"
    },
    {
      "cell_type": "code",
      "execution_count": 5,
      "metadata": {},
      "outputs": [
        {
          "output_type": "display_data",
          "metadata": {},
          "data": {
            "text/plain": [
              "(3.8, array([[3.8]]))"
            ]
          }
        }
      ],
      "source": [
        "(a1*b1).sum(), a1.T@b1"
      ],
      "id": "79d346fd-56e0-4c6d-aae9-70c5d146ce9b"
    },
    {
      "cell_type": "code",
      "execution_count": 6,
      "metadata": {},
      "outputs": [
        {
          "output_type": "display_data",
          "metadata": {},
          "data": {
            "text/plain": [
              "(0.15000000000000002, array([[0.15]]))"
            ]
          }
        }
      ],
      "source": [
        "(a6*b1).sum(), a6.T@b1"
      ],
      "id": "7494bca2-b922-4eeb-a12f-68c17322b20d"
    },
    {
      "cell_type": "markdown",
      "metadata": {},
      "source": [
        "만약에 여자의성향, 남자의성향을 적당한 매트릭스로 정리할 수 있다면\n",
        "궁합매트릭스를 만들 수 있음"
      ],
      "id": "ded1788c-75cd-4199-aa4a-4fe3592a97d6"
    },
    {
      "cell_type": "code",
      "execution_count": 7,
      "metadata": {},
      "outputs": [
        {
          "output_type": "display_data",
          "metadata": {},
          "data": {
            "text/plain": [
              "array([[1.9, 2. , 2.5, 0.1, 0.2, 0. ],\n",
              "       [0. , 0.1, 1. , 1.9, 2.1, 1.5]])"
            ]
          }
        }
      ],
      "source": [
        "a1= np.array([1.9,0.0]).reshape(2,1)\n",
        "a2= np.array([2.0,0.1]).reshape(2,1)\n",
        "a3= np.array([2.5,1.0]).reshape(2,1)\n",
        "a4= np.array([0.1,1.9]).reshape(2,1)\n",
        "a5= np.array([0.2,2.1]).reshape(2,1)\n",
        "a6= np.array([0.0,1.5]).reshape(2,1)\n",
        "A = np.concatenate([a1,a2,a3,a4,a5,a6],axis=1)\n",
        "A"
      ],
      "id": "d77a1fb5-6f4a-4caf-841e-3649470a7046"
    },
    {
      "cell_type": "code",
      "execution_count": 8,
      "metadata": {},
      "outputs": [
        {
          "output_type": "display_data",
          "metadata": {},
          "data": {
            "text/plain": [
              "array([[2. , 1.9, 1.8, 0.3, 0.2, 0.1],\n",
              "       [0.1, 0.2, 0.3, 2.1, 2. , 1.9]])"
            ]
          }
        }
      ],
      "source": [
        "b1= np.array([2.0,0.1]).reshape(2,1)\n",
        "b2= np.array([1.9,0.2]).reshape(2,1)\n",
        "b3= np.array([1.8,0.3]).reshape(2,1)\n",
        "b4= np.array([0.3,2.1]).reshape(2,1)\n",
        "b5= np.array([0.2,2.0]).reshape(2,1)\n",
        "b6= np.array([0.1,1.9]).reshape(2,1)\n",
        "B = np.concatenate([b1,b2,b3,b4,b5,b6],axis=1)\n",
        "B"
      ],
      "id": "d1a50e0e-0346-4c81-9c6f-0f7c01ee51c1"
    },
    {
      "cell_type": "code",
      "execution_count": 9,
      "metadata": {},
      "outputs": [
        {
          "output_type": "display_data",
          "metadata": {},
          "data": {
            "text/plain": [
              "array([[3.8 , 3.61, 3.42, 0.57, 0.38, 0.19],\n",
              "       [4.01, 3.82, 3.63, 0.81, 0.6 , 0.39],\n",
              "       [5.1 , 4.95, 4.8 , 2.85, 2.5 , 2.15],\n",
              "       [0.39, 0.57, 0.75, 4.02, 3.82, 3.62],\n",
              "       [0.61, 0.8 , 0.99, 4.47, 4.24, 4.01],\n",
              "       [0.15, 0.3 , 0.45, 3.15, 3.  , 2.85]])"
            ]
          }
        }
      ],
      "source": [
        "A.T@B"
      ],
      "id": "7380a185-fc0c-4d0d-8a07-644430a9fcde"
    },
    {
      "cell_type": "code",
      "execution_count": 10,
      "metadata": {},
      "outputs": [
        {
          "output_type": "display_data",
          "metadata": {},
          "data": {
            "text/plain": [
              "(array([[3.8]]), array([[3.82]]), array([[5.1]]))"
            ]
          }
        }
      ],
      "source": [
        "a1.T@b1, a2.T@b2, a3.T@b1"
      ],
      "id": "b935da6d-1772-4b38-b13e-93b77a33ab80"
    },
    {
      "cell_type": "markdown",
      "metadata": {},
      "source": [
        "결국 모형은 아래와 같다.\n",
        "\n",
        "$$\\text{궁합매트릭스} = {\\bf A}^\\top {\\bf B} + \\text{오차}$$\n",
        "\n",
        "`-` 학습전략: 아래의 매트릭스중에서 어떤값은 관측하였고 어떤값은\n",
        "관측하지 못함 $\\to$ 관측한 값들만 대충 비슷하게 하면 되는거 아니야?"
      ],
      "id": "8d460928-d209-4983-a0e5-5956427ace3c"
    },
    {
      "cell_type": "code",
      "execution_count": 11,
      "metadata": {},
      "outputs": [
        {
          "output_type": "display_data",
          "metadata": {},
          "data": {
            "text/plain": [
              "array([[3.8 , 3.61, 3.42, 0.57, 0.38, 0.19],\n",
              "       [4.01, 3.82, 3.63, 0.81, 0.6 , 0.39],\n",
              "       [5.1 , 4.95, 4.8 , 2.85, 2.5 , 2.15],\n",
              "       [0.39, 0.57, 0.75, 4.02, 3.82, 3.62],\n",
              "       [0.61, 0.8 , 0.99, 4.47, 4.24, 4.01],\n",
              "       [0.15, 0.3 , 0.45, 3.15, 3.  , 2.85]])"
            ]
          }
        }
      ],
      "source": [
        "A.T@B "
      ],
      "id": "bd192946-6f74-4cff-9690-fb88df00ef92"
    },
    {
      "cell_type": "code",
      "execution_count": 12,
      "metadata": {},
      "outputs": [
        {
          "output_type": "display_data",
          "metadata": {},
          "data": {
            "text/html": [
              "<div>\n",
              "<style scoped>\n",
              "    .dataframe tbody tr th:only-of-type {\n",
              "        vertical-align: middle;\n",
              "    }\n",
              "\n",
              "    .dataframe tbody tr th {\n",
              "        vertical-align: top;\n",
              "    }\n",
              "\n",
              "    .dataframe thead th {\n",
              "        text-align: right;\n",
              "    }\n",
              "</style>\n",
              "<table border=\"1\" class=\"dataframe\">\n",
              "  <thead>\n",
              "    <tr style=\"text-align: right;\">\n",
              "      <th></th>\n",
              "      <th>영식</th>\n",
              "      <th>영철</th>\n",
              "      <th>영호</th>\n",
              "      <th>광수</th>\n",
              "      <th>상철</th>\n",
              "      <th>영수</th>\n",
              "    </tr>\n",
              "  </thead>\n",
              "  <tbody>\n",
              "    <tr>\n",
              "      <th>옥순</th>\n",
              "      <td>3.9</td>\n",
              "      <td>4.1</td>\n",
              "      <td>NaN</td>\n",
              "      <td>0.5</td>\n",
              "      <td>0.3</td>\n",
              "      <td>NaN</td>\n",
              "    </tr>\n",
              "    <tr>\n",
              "      <th>영자</th>\n",
              "      <td>4.5</td>\n",
              "      <td>NaN</td>\n",
              "      <td>3.7</td>\n",
              "      <td>0.5</td>\n",
              "      <td>NaN</td>\n",
              "      <td>0.2</td>\n",
              "    </tr>\n",
              "    <tr>\n",
              "      <th>정숙</th>\n",
              "      <td>NaN</td>\n",
              "      <td>4.9</td>\n",
              "      <td>4.7</td>\n",
              "      <td>NaN</td>\n",
              "      <td>1.2</td>\n",
              "      <td>1.3</td>\n",
              "    </tr>\n",
              "    <tr>\n",
              "      <th>영숙</th>\n",
              "      <td>0.6</td>\n",
              "      <td>0.2</td>\n",
              "      <td>NaN</td>\n",
              "      <td>4.1</td>\n",
              "      <td>4.3</td>\n",
              "      <td>NaN</td>\n",
              "    </tr>\n",
              "    <tr>\n",
              "      <th>순자</th>\n",
              "      <td>0.7</td>\n",
              "      <td>0.9</td>\n",
              "      <td>NaN</td>\n",
              "      <td>4.2</td>\n",
              "      <td>NaN</td>\n",
              "      <td>3.9</td>\n",
              "    </tr>\n",
              "    <tr>\n",
              "      <th>현숙</th>\n",
              "      <td>NaN</td>\n",
              "      <td>0.2</td>\n",
              "      <td>0.3</td>\n",
              "      <td>NaN</td>\n",
              "      <td>3.5</td>\n",
              "      <td>3.4</td>\n",
              "    </tr>\n",
              "  </tbody>\n",
              "</table>\n",
              "</div>"
            ]
          }
        }
      ],
      "source": [
        "df_view"
      ],
      "id": "51212540-4543-4111-ac70-2072b6509e1e"
    },
    {
      "cell_type": "markdown",
      "metadata": {},
      "source": [
        "`-` 자료를 아래와 같이 정리한다면?"
      ],
      "id": "f495b297-ab04-44a2-abb2-cff0ba3589e1"
    },
    {
      "cell_type": "code",
      "execution_count": 13,
      "metadata": {},
      "outputs": [
        {
          "output_type": "display_data",
          "metadata": {},
          "data": {
            "text/html": [
              "<div>\n",
              "<style scoped>\n",
              "    .dataframe tbody tr th:only-of-type {\n",
              "        vertical-align: middle;\n",
              "    }\n",
              "\n",
              "    .dataframe tbody tr th {\n",
              "        vertical-align: top;\n",
              "    }\n",
              "\n",
              "    .dataframe thead th {\n",
              "        text-align: right;\n",
              "    }\n",
              "</style>\n",
              "<table border=\"1\" class=\"dataframe\">\n",
              "  <thead>\n",
              "    <tr style=\"text-align: right;\">\n",
              "      <th></th>\n",
              "      <th>X1</th>\n",
              "      <th>X2</th>\n",
              "      <th>y</th>\n",
              "    </tr>\n",
              "  </thead>\n",
              "  <tbody>\n",
              "    <tr>\n",
              "      <th>0</th>\n",
              "      <td>옥순</td>\n",
              "      <td>영식</td>\n",
              "      <td>3.9</td>\n",
              "    </tr>\n",
              "    <tr>\n",
              "      <th>1</th>\n",
              "      <td>옥순</td>\n",
              "      <td>영철</td>\n",
              "      <td>4.1</td>\n",
              "    </tr>\n",
              "    <tr>\n",
              "      <th>2</th>\n",
              "      <td>옥순</td>\n",
              "      <td>광수</td>\n",
              "      <td>0.5</td>\n",
              "    </tr>\n",
              "    <tr>\n",
              "      <th>3</th>\n",
              "      <td>옥순</td>\n",
              "      <td>상철</td>\n",
              "      <td>0.3</td>\n",
              "    </tr>\n",
              "    <tr>\n",
              "      <th>4</th>\n",
              "      <td>영자</td>\n",
              "      <td>영식</td>\n",
              "      <td>4.5</td>\n",
              "    </tr>\n",
              "    <tr>\n",
              "      <th>5</th>\n",
              "      <td>영자</td>\n",
              "      <td>영호</td>\n",
              "      <td>3.7</td>\n",
              "    </tr>\n",
              "    <tr>\n",
              "      <th>6</th>\n",
              "      <td>영자</td>\n",
              "      <td>광수</td>\n",
              "      <td>0.5</td>\n",
              "    </tr>\n",
              "    <tr>\n",
              "      <th>7</th>\n",
              "      <td>영자</td>\n",
              "      <td>영수</td>\n",
              "      <td>0.2</td>\n",
              "    </tr>\n",
              "    <tr>\n",
              "      <th>8</th>\n",
              "      <td>정숙</td>\n",
              "      <td>영철</td>\n",
              "      <td>4.9</td>\n",
              "    </tr>\n",
              "    <tr>\n",
              "      <th>9</th>\n",
              "      <td>정숙</td>\n",
              "      <td>영호</td>\n",
              "      <td>4.7</td>\n",
              "    </tr>\n",
              "    <tr>\n",
              "      <th>10</th>\n",
              "      <td>정숙</td>\n",
              "      <td>상철</td>\n",
              "      <td>1.2</td>\n",
              "    </tr>\n",
              "    <tr>\n",
              "      <th>11</th>\n",
              "      <td>정숙</td>\n",
              "      <td>영수</td>\n",
              "      <td>1.3</td>\n",
              "    </tr>\n",
              "    <tr>\n",
              "      <th>12</th>\n",
              "      <td>영숙</td>\n",
              "      <td>영식</td>\n",
              "      <td>0.6</td>\n",
              "    </tr>\n",
              "    <tr>\n",
              "      <th>13</th>\n",
              "      <td>영숙</td>\n",
              "      <td>영철</td>\n",
              "      <td>0.2</td>\n",
              "    </tr>\n",
              "    <tr>\n",
              "      <th>14</th>\n",
              "      <td>영숙</td>\n",
              "      <td>광수</td>\n",
              "      <td>4.1</td>\n",
              "    </tr>\n",
              "    <tr>\n",
              "      <th>15</th>\n",
              "      <td>영숙</td>\n",
              "      <td>상철</td>\n",
              "      <td>4.3</td>\n",
              "    </tr>\n",
              "    <tr>\n",
              "      <th>16</th>\n",
              "      <td>순자</td>\n",
              "      <td>영식</td>\n",
              "      <td>0.7</td>\n",
              "    </tr>\n",
              "    <tr>\n",
              "      <th>17</th>\n",
              "      <td>순자</td>\n",
              "      <td>영철</td>\n",
              "      <td>0.9</td>\n",
              "    </tr>\n",
              "    <tr>\n",
              "      <th>18</th>\n",
              "      <td>순자</td>\n",
              "      <td>광수</td>\n",
              "      <td>4.2</td>\n",
              "    </tr>\n",
              "    <tr>\n",
              "      <th>19</th>\n",
              "      <td>순자</td>\n",
              "      <td>영수</td>\n",
              "      <td>3.9</td>\n",
              "    </tr>\n",
              "    <tr>\n",
              "      <th>20</th>\n",
              "      <td>현숙</td>\n",
              "      <td>영철</td>\n",
              "      <td>0.2</td>\n",
              "    </tr>\n",
              "    <tr>\n",
              "      <th>21</th>\n",
              "      <td>현숙</td>\n",
              "      <td>영호</td>\n",
              "      <td>0.3</td>\n",
              "    </tr>\n",
              "    <tr>\n",
              "      <th>22</th>\n",
              "      <td>현숙</td>\n",
              "      <td>상철</td>\n",
              "      <td>3.5</td>\n",
              "    </tr>\n",
              "    <tr>\n",
              "      <th>23</th>\n",
              "      <td>현숙</td>\n",
              "      <td>영수</td>\n",
              "      <td>3.4</td>\n",
              "    </tr>\n",
              "  </tbody>\n",
              "</table>\n",
              "</div>"
            ]
          }
        }
      ],
      "source": [
        "df = pd.DataFrame([(f,m,df_view.loc[f,m]) for f in df_view.index for m in df_view.columns if not np.isnan(df_view.loc[f,m])])\n",
        "df.columns = ['X1','X2','y']\n",
        "df"
      ],
      "id": "cd66bfe8-88d8-44f3-9004-6d9bc50b8ae3"
    },
    {
      "cell_type": "code",
      "execution_count": 14,
      "metadata": {},
      "outputs": [
        {
          "output_type": "display_data",
          "metadata": {},
          "data": {
            "text/plain": [
              "({'옥순': 0, '영자': 1, '정숙': 2, '영숙': 3, '순자': 4, '현숙': 5},\n",
              " {'영식': 0, '영철': 1, '광수': 2, '상철': 3, '영호': 4, '영수': 5})"
            ]
          }
        }
      ],
      "source": [
        "mapp1 = {k[1]:k[0] for k in enumerate(df.X1.unique())}\n",
        "mapp2 = {k[1]:k[0] for k in enumerate(df.X2.unique())}\n",
        "mapp1,mapp2"
      ],
      "id": "7c140cb1-8774-41e2-b95f-3dd42d94601b"
    },
    {
      "cell_type": "code",
      "execution_count": 15,
      "metadata": {},
      "outputs": [],
      "source": [
        "X1 = torch.tensor(list(map(lambda name: mapp1[name], df.X1)))\n",
        "X2 = torch.tensor(list(map(lambda name: mapp2[name], df.X2)))\n",
        "X1 = torch.nn.functional.one_hot(X1).float()\n",
        "X2 = torch.nn.functional.one_hot(X2).float()\n",
        "y = torch.tensor(df.y).float()"
      ],
      "id": "7e287c6d-5aaa-449c-b0ba-58f7402acbce"
    },
    {
      "cell_type": "markdown",
      "metadata": {},
      "source": [
        "`-` yhat을 구하는 과정.."
      ],
      "id": "4d0cc624-b944-453b-8361-a55bca8e630d"
    },
    {
      "cell_type": "code",
      "execution_count": 16,
      "metadata": {},
      "outputs": [],
      "source": [
        "l1 = torch.nn.Linear(in_features=6,out_features=2) \n",
        "l2 = torch.nn.Linear(in_features=6,out_features=2)"
      ],
      "id": "b9b223e8-c800-4e92-8dc0-a2beeccc1b8d"
    },
    {
      "cell_type": "code",
      "execution_count": 17,
      "metadata": {},
      "outputs": [
        {
          "output_type": "display_data",
          "metadata": {},
          "data": {
            "text/plain": [
              "tensor([[ 0.5101,  0.1558],\n",
              "        [ 0.5101,  0.1558],\n",
              "        [ 0.5101,  0.1558],\n",
              "        [ 0.5101,  0.1558],\n",
              "        [ 0.1860, -0.1332],\n",
              "        [ 0.1860, -0.1332],\n",
              "        [ 0.1860, -0.1332],\n",
              "        [ 0.1860, -0.1332],\n",
              "        [ 0.5840, -0.5035],\n",
              "        [ 0.5840, -0.5035],\n",
              "        [ 0.5840, -0.5035],\n",
              "        [ 0.5840, -0.5035],\n",
              "        [ 0.0356, -0.3052],\n",
              "        [ 0.0356, -0.3052],\n",
              "        [ 0.0356, -0.3052],\n",
              "        [ 0.0356, -0.3052],\n",
              "        [ 0.5411, -0.3360],\n",
              "        [ 0.5411, -0.3360],\n",
              "        [ 0.5411, -0.3360],\n",
              "        [ 0.5411, -0.3360],\n",
              "        [ 0.0738,  0.1614],\n",
              "        [ 0.0738,  0.1614],\n",
              "        [ 0.0738,  0.1614],\n",
              "        [ 0.0738,  0.1614]], grad_fn=<AddmmBackward0>)"
            ]
          }
        }
      ],
      "source": [
        "l1(X1) # 옥순~현숙의 성향들 "
      ],
      "id": "eea8aa72-064e-4876-ac6a-d582938e5e1f"
    },
    {
      "cell_type": "code",
      "execution_count": 18,
      "metadata": {},
      "outputs": [
        {
          "output_type": "display_data",
          "metadata": {},
          "data": {
            "text/plain": [
              "tensor([[ 0.1939,  0.0405],\n",
              "        [ 0.1073, -0.2484],\n",
              "        [-0.0011, -0.2328],\n",
              "        [-0.1622, -0.1059],\n",
              "        [ 0.1939,  0.0405],\n",
              "        [-0.1635, -0.0460],\n",
              "        [-0.0011, -0.2328],\n",
              "        [-0.1319,  0.1783],\n",
              "        [ 0.1073, -0.2484],\n",
              "        [-0.1635, -0.0460],\n",
              "        [-0.1622, -0.1059],\n",
              "        [-0.1319,  0.1783],\n",
              "        [ 0.1939,  0.0405],\n",
              "        [ 0.1073, -0.2484],\n",
              "        [-0.0011, -0.2328],\n",
              "        [-0.1622, -0.1059],\n",
              "        [ 0.1939,  0.0405],\n",
              "        [ 0.1073, -0.2484],\n",
              "        [-0.0011, -0.2328],\n",
              "        [-0.1319,  0.1783],\n",
              "        [ 0.1073, -0.2484],\n",
              "        [-0.1635, -0.0460],\n",
              "        [-0.1622, -0.1059],\n",
              "        [-0.1319,  0.1783]], grad_fn=<AddmmBackward0>)"
            ]
          }
        }
      ],
      "source": [
        "l2(X2) # 영식~영수의 성향들 "
      ],
      "id": "3eb58eda-f544-47dc-b9b6-2c470f5c0339"
    },
    {
      "cell_type": "markdown",
      "metadata": {},
      "source": [
        "`-` 몇개의 관측치만 생각해보자.."
      ],
      "id": "a628a73e-5861-4a82-9620-e99422ee1bdb"
    },
    {
      "cell_type": "code",
      "execution_count": 19,
      "metadata": {},
      "outputs": [
        {
          "output_type": "display_data",
          "metadata": {},
          "data": {
            "text/html": [
              "<div>\n",
              "<style scoped>\n",
              "    .dataframe tbody tr th:only-of-type {\n",
              "        vertical-align: middle;\n",
              "    }\n",
              "\n",
              "    .dataframe tbody tr th {\n",
              "        vertical-align: top;\n",
              "    }\n",
              "\n",
              "    .dataframe thead th {\n",
              "        text-align: right;\n",
              "    }\n",
              "</style>\n",
              "<table border=\"1\" class=\"dataframe\">\n",
              "  <thead>\n",
              "    <tr style=\"text-align: right;\">\n",
              "      <th></th>\n",
              "      <th>X1</th>\n",
              "      <th>X2</th>\n",
              "      <th>y</th>\n",
              "    </tr>\n",
              "  </thead>\n",
              "  <tbody>\n",
              "    <tr>\n",
              "      <th>0</th>\n",
              "      <td>옥순</td>\n",
              "      <td>영식</td>\n",
              "      <td>3.9</td>\n",
              "    </tr>\n",
              "    <tr>\n",
              "      <th>1</th>\n",
              "      <td>옥순</td>\n",
              "      <td>영철</td>\n",
              "      <td>4.1</td>\n",
              "    </tr>\n",
              "    <tr>\n",
              "      <th>2</th>\n",
              "      <td>옥순</td>\n",
              "      <td>광수</td>\n",
              "      <td>0.5</td>\n",
              "    </tr>\n",
              "    <tr>\n",
              "      <th>3</th>\n",
              "      <td>옥순</td>\n",
              "      <td>상철</td>\n",
              "      <td>0.3</td>\n",
              "    </tr>\n",
              "    <tr>\n",
              "      <th>4</th>\n",
              "      <td>영자</td>\n",
              "      <td>영식</td>\n",
              "      <td>4.5</td>\n",
              "    </tr>\n",
              "  </tbody>\n",
              "</table>\n",
              "</div>"
            ]
          }
        }
      ],
      "source": [
        "df.head()"
      ],
      "id": "c35579e3-d133-46ea-b23c-39cc4ce13b9b"
    },
    {
      "cell_type": "code",
      "execution_count": 20,
      "metadata": {},
      "outputs": [
        {
          "output_type": "display_data",
          "metadata": {},
          "data": {
            "text/plain": [
              "tensor(0.1052, grad_fn=<SumBackward0>)"
            ]
          }
        }
      ],
      "source": [
        "(l1(X1)[0]*l2(X2)[0]).sum() # (옥순의성향 * 영식의성향).sum()"
      ],
      "id": "9ceda6b4-0065-421e-8066-80c70bea685f"
    },
    {
      "cell_type": "markdown",
      "metadata": {},
      "source": [
        "-   이 값이 실제로는 3.9 이어야 한다."
      ],
      "id": "a899848e-3646-436c-b3f2-908ac090f4ad"
    },
    {
      "cell_type": "code",
      "execution_count": 21,
      "metadata": {},
      "outputs": [
        {
          "output_type": "display_data",
          "metadata": {},
          "data": {
            "text/plain": [
              "tensor(0.0160, grad_fn=<SumBackward0>)"
            ]
          }
        }
      ],
      "source": [
        "(l1(X1)[1]*l2(X2)[1]).sum() # (옥순의성향 * 영철의성향).sum()"
      ],
      "id": "b2c74807-80a7-400e-8a2d-19a3a63230c7"
    },
    {
      "cell_type": "markdown",
      "metadata": {},
      "source": [
        "-   이 값이 실제로는 4.1 이어야 한다.\n",
        "\n",
        "`-` yhat을 구하면!"
      ],
      "id": "0b95d39c-2eb1-43ee-a359-987a75138728"
    },
    {
      "cell_type": "code",
      "execution_count": 22,
      "metadata": {},
      "outputs": [
        {
          "output_type": "display_data",
          "metadata": {},
          "data": {
            "text/plain": [
              "tensor([ 0.1052,  0.0160, -0.0369, -0.0992,  0.0307, -0.0243,  0.0308, -0.0483,\n",
              "         0.1877, -0.0724, -0.0414, -0.1668, -0.0054,  0.0796,  0.0710,  0.0265,\n",
              "         0.0913,  0.1415,  0.0776, -0.1313, -0.0322, -0.0195, -0.0291,  0.0190],\n",
              "       grad_fn=<SumBackward1>)"
            ]
          }
        }
      ],
      "source": [
        "yhat = (l1(X1) * l2(X2)).sum(axis=1) # (l1(X1) * l2(X2)).sum(1)와 결과가 같음 \n",
        "yhat"
      ],
      "id": "db6a77d1-3c57-41e0-a13e-1e686f5c4e34"
    },
    {
      "cell_type": "code",
      "execution_count": 23,
      "metadata": {},
      "outputs": [
        {
          "output_type": "display_data",
          "metadata": {},
          "data": {
            "text/plain": [
              "(tensor([0.1052, 0.0160], grad_fn=<SliceBackward0>), tensor([3.9000, 4.1000]))"
            ]
          }
        }
      ],
      "source": [
        "yhat[:2],y[:2] # 이 값들이 비슷해야 하는데.."
      ],
      "id": "877a9d13-d37a-404c-b92b-7618c8d31de4"
    },
    {
      "cell_type": "markdown",
      "metadata": {},
      "source": [
        "`-` 0\\~5 까지의 범위로 고정되어 있으니까 아래와 같이 해도 되겠음.."
      ],
      "id": "add4a68b-b706-4c8c-b3e9-271dc1ee4bdb"
    },
    {
      "cell_type": "code",
      "execution_count": 24,
      "metadata": {},
      "outputs": [],
      "source": [
        "sig = torch.nn.Sigmoid()"
      ],
      "id": "0d83f855-bf5a-46b0-8ac9-68e4d4555af7"
    },
    {
      "cell_type": "code",
      "execution_count": 25,
      "metadata": {},
      "outputs": [
        {
          "output_type": "display_data",
          "metadata": {},
          "data": {
            "text/plain": [
              "tensor([2.6314, 2.5200, 2.4539, 2.3760, 2.5383, 2.4696, 2.5385, 2.4397, 2.7340,\n",
              "        2.4096, 2.4482, 2.2920, 2.4932, 2.5995, 2.5887, 2.5332, 2.6140, 2.6766,\n",
              "        2.5970, 2.3361, 2.4598, 2.4756, 2.4637, 2.5238],\n",
              "       grad_fn=<MulBackward0>)"
            ]
          }
        }
      ],
      "source": [
        "yhat = sig((l1(X1) * l2(X2)).sum(axis=1))*5 # (l1(X1) * l2(X2)).sum(1)와 결과가 같음 \n",
        "yhat"
      ],
      "id": "9a3d3a2a-2d76-48ee-98d7-55ca257e9793"
    },
    {
      "cell_type": "code",
      "execution_count": 26,
      "metadata": {},
      "outputs": [
        {
          "output_type": "display_data",
          "metadata": {},
          "data": {
            "text/plain": [
              "tensor(3.2296, grad_fn=<MeanBackward0>)"
            ]
          }
        }
      ],
      "source": [
        "loss = torch.mean((y-yhat)**2)\n",
        "loss"
      ],
      "id": "f62c5d83-adf2-4d2c-8252-90ab10a26c5a"
    },
    {
      "cell_type": "markdown",
      "metadata": {},
      "source": [
        "## torch를 이용한 학습"
      ],
      "id": "90c29705-3365-4633-81d4-b4140f8db7b1"
    },
    {
      "cell_type": "code",
      "execution_count": 27,
      "metadata": {},
      "outputs": [],
      "source": [
        "torch.manual_seed(43052)\n",
        "l1 = torch.nn.Linear(6,2) \n",
        "l2 = torch.nn.Linear(6,2)\n",
        "sig = torch.nn.Sigmoid() "
      ],
      "id": "17a6e727-7f77-48e7-8d6d-7ed98097a292"
    },
    {
      "cell_type": "code",
      "execution_count": 28,
      "metadata": {},
      "outputs": [],
      "source": [
        "loss_fn = torch.nn.MSELoss() \n",
        "optimizr = torch.optim.Adam(list(l1.parameters())+list(l2.parameters()))"
      ],
      "id": "f0ef00a0-b869-459e-9da5-8ebbcb23184f"
    },
    {
      "cell_type": "code",
      "execution_count": 29,
      "metadata": {},
      "outputs": [],
      "source": [
        "for epoc in range(5000):\n",
        "    ## 1 \n",
        "    feature1 = l1(X1)\n",
        "    feature2 = l2(X2) \n",
        "    matching_score = (feature1*feature2).sum(axis=1) \n",
        "    yhat = sig(matching_score)*5 # 만약에 1~3점이라면 \"1+sig(matching_score)*2\" 와 같이 하면 되었을듯 \n",
        "    ## 2 \n",
        "    loss = loss_fn(yhat,y)    \n",
        "    ## 3 \n",
        "    loss.backward()    \n",
        "    ## 4 \n",
        "    optimizr.step()\n",
        "    optimizr.zero_grad()"
      ],
      "id": "72e35213-de7f-4ffe-94c3-4f3ec1873095"
    },
    {
      "cell_type": "code",
      "execution_count": 30,
      "metadata": {},
      "outputs": [
        {
          "output_type": "display_data",
          "metadata": {},
          "data": {
            "text/plain": [
              "tensor([3.9382, 4.0624, 0.4665, 0.3353, 4.5038, 3.6975, 0.3562, 0.3558, 4.8614,\n",
              "        4.7208, 1.1813, 1.3158, 0.4606, 0.3573, 4.1288, 4.2734, 0.8611, 0.7347,\n",
              "        4.0493, 4.0464, 0.1810, 0.3124, 3.5031, 3.3948],\n",
              "       grad_fn=<MulBackward0>)"
            ]
          }
        }
      ],
      "source": [
        "yhat"
      ],
      "id": "db272389-cdc7-49e0-a629-d656264a474d"
    },
    {
      "cell_type": "code",
      "execution_count": 31,
      "metadata": {},
      "outputs": [
        {
          "output_type": "display_data",
          "metadata": {},
          "data": {
            "text/plain": [
              "tensor([3.9000, 4.1000, 0.5000, 0.3000, 4.5000, 3.7000, 0.5000, 0.2000, 4.9000,\n",
              "        4.7000, 1.2000, 1.3000, 0.6000, 0.2000, 4.1000, 4.3000, 0.7000, 0.9000,\n",
              "        4.2000, 3.9000, 0.2000, 0.3000, 3.5000, 3.4000])"
            ]
          }
        }
      ],
      "source": [
        "y"
      ],
      "id": "394b69e5-e81d-4607-b8d9-dfcb4ed2b965"
    },
    {
      "cell_type": "code",
      "execution_count": 32,
      "metadata": {},
      "outputs": [
        {
          "output_type": "display_data",
          "metadata": {},
          "data": {
            "text/plain": [
              "tensor([[-1.4663,  0.2938],\n",
              "        [-1.4663,  0.2938],\n",
              "        [-1.4663,  0.2938],\n",
              "        [-1.4663,  0.2938],\n",
              "        [-1.7086,  0.6597],\n",
              "        [-1.7086,  0.6597],\n",
              "        [-1.7086,  0.6597],\n",
              "        [-1.7086,  0.6597],\n",
              "        [-0.8705,  1.2945],\n",
              "        [-0.8705,  1.2945],\n",
              "        [-0.8705,  1.2945],\n",
              "        [-0.8705,  1.2945],\n",
              "        [ 1.1046, -0.8298],\n",
              "        [ 1.1046, -0.8298],\n",
              "        [ 1.1046, -0.8298],\n",
              "        [ 1.1046, -0.8298],\n",
              "        [ 0.9880, -0.5193],\n",
              "        [ 0.9880, -0.5193],\n",
              "        [ 0.9880, -0.5193],\n",
              "        [ 0.9880, -0.5193],\n",
              "        [ 0.6834, -1.2201],\n",
              "        [ 0.6834, -1.2201],\n",
              "        [ 0.6834, -1.2201],\n",
              "        [ 0.6834, -1.2201]], grad_fn=<AddmmBackward0>)"
            ]
          }
        }
      ],
      "source": [
        "l1(X1) # 두번째 칼럼이 I 성향 점수로 \"해석\"된다"
      ],
      "id": "4e0bf873-e131-41e5-9455-6a1e97a2a03f"
    },
    {
      "cell_type": "markdown",
      "metadata": {},
      "source": [
        "-   포인트: 여성출연자중, 정숙은 대체로 잘 맞춰주고 현숙은 그렇지\n",
        "    않았음.. $\\to$ 그러한 가중치가 잘 드러남!!\n",
        "\n",
        "## fastai를 이용한 학습\n",
        "\n",
        "`(1)` dls"
      ],
      "id": "a7272264-48a8-4680-8763-afa354f6b114"
    },
    {
      "cell_type": "code",
      "execution_count": 33,
      "metadata": {},
      "outputs": [
        {
          "output_type": "display_data",
          "metadata": {},
          "data": {
            "text/html": [
              "<div>\n",
              "<style scoped>\n",
              "    .dataframe tbody tr th:only-of-type {\n",
              "        vertical-align: middle;\n",
              "    }\n",
              "\n",
              "    .dataframe tbody tr th {\n",
              "        vertical-align: top;\n",
              "    }\n",
              "\n",
              "    .dataframe thead th {\n",
              "        text-align: right;\n",
              "    }\n",
              "</style>\n",
              "<table border=\"1\" class=\"dataframe\">\n",
              "  <thead>\n",
              "    <tr style=\"text-align: right;\">\n",
              "      <th></th>\n",
              "      <th>X1</th>\n",
              "      <th>X2</th>\n",
              "      <th>y</th>\n",
              "    </tr>\n",
              "  </thead>\n",
              "  <tbody>\n",
              "    <tr>\n",
              "      <th>0</th>\n",
              "      <td>옥순</td>\n",
              "      <td>영식</td>\n",
              "      <td>3.9</td>\n",
              "    </tr>\n",
              "    <tr>\n",
              "      <th>1</th>\n",
              "      <td>옥순</td>\n",
              "      <td>영철</td>\n",
              "      <td>4.1</td>\n",
              "    </tr>\n",
              "    <tr>\n",
              "      <th>2</th>\n",
              "      <td>옥순</td>\n",
              "      <td>광수</td>\n",
              "      <td>0.5</td>\n",
              "    </tr>\n",
              "    <tr>\n",
              "      <th>3</th>\n",
              "      <td>옥순</td>\n",
              "      <td>상철</td>\n",
              "      <td>0.3</td>\n",
              "    </tr>\n",
              "    <tr>\n",
              "      <th>4</th>\n",
              "      <td>영자</td>\n",
              "      <td>영식</td>\n",
              "      <td>4.5</td>\n",
              "    </tr>\n",
              "  </tbody>\n",
              "</table>\n",
              "</div>"
            ]
          }
        }
      ],
      "source": [
        "df.head() # 앞단계 전처리의 산물"
      ],
      "id": "852c7e86-321a-4f25-a934-5a1109f04d92"
    },
    {
      "cell_type": "code",
      "execution_count": 34,
      "metadata": {},
      "outputs": [],
      "source": [
        "dls = CollabDataLoaders.from_df(df,bs=2,valid_pct=2/24)"
      ],
      "id": "ac23be3f-4954-4a4b-aff3-3e2655e81d41"
    },
    {
      "cell_type": "markdown",
      "metadata": {},
      "source": [
        "`(2)` lrnr 생성"
      ],
      "id": "b5673e09-b712-4c8c-8a04-43a9d8353b0b"
    },
    {
      "cell_type": "code",
      "execution_count": 35,
      "metadata": {},
      "outputs": [],
      "source": [
        "lrnr = collab_learner(dls,n_factors=2,y_range=(0,5))"
      ],
      "id": "0139fa89-f9a9-4fe9-a244-699d5b439b53"
    },
    {
      "cell_type": "markdown",
      "metadata": {},
      "source": [
        "`(3)` 학습"
      ],
      "id": "1676f1ed-00f9-40d1-8912-2f5c259fb2db"
    },
    {
      "cell_type": "code",
      "execution_count": 36,
      "metadata": {},
      "outputs": [
        {
          "output_type": "display_data",
          "metadata": {},
          "data": {
            "text/html": [
              "\n",
              "<style>\n",
              "    /* Turns off some styling */\n",
              "    progress {\n",
              "        /* gets rid of default border in Firefox and Opera. */\n",
              "        border: none;\n",
              "        /* Needs to be in here for Safari polyfill so background images work as expected. */\n",
              "        background-size: auto;\n",
              "    }\n",
              "    progress:not([value]), progress:not([value])::-webkit-progress-bar {\n",
              "        background: repeating-linear-gradient(45deg, #7e7e7e, #7e7e7e 10px, #5c5c5c 10px, #5c5c5c 20px);\n",
              "    }\n",
              "    .progress-bar-interrupted, .progress-bar-interrupted::-webkit-progress-bar {\n",
              "        background: #F44336;\n",
              "    }\n",
              "</style>"
            ]
          }
        },
        {
          "output_type": "display_data",
          "metadata": {},
          "data": {
            "text/html": [
              "<table border=\"1\" class=\"dataframe\">\n",
              "  <thead>\n",
              "    <tr style=\"text-align: left;\">\n",
              "      <th>epoch</th>\n",
              "      <th>train_loss</th>\n",
              "      <th>valid_loss</th>\n",
              "      <th>time</th>\n",
              "    </tr>\n",
              "  </thead>\n",
              "  <tbody>\n",
              "    <tr>\n",
              "      <td>0</td>\n",
              "      <td>3.591074</td>\n",
              "      <td>3.904783</td>\n",
              "      <td>00:00</td>\n",
              "    </tr>\n",
              "    <tr>\n",
              "      <td>1</td>\n",
              "      <td>3.101654</td>\n",
              "      <td>3.466946</td>\n",
              "      <td>00:00</td>\n",
              "    </tr>\n",
              "    <tr>\n",
              "      <td>2</td>\n",
              "      <td>2.374579</td>\n",
              "      <td>1.997278</td>\n",
              "      <td>00:00</td>\n",
              "    </tr>\n",
              "    <tr>\n",
              "      <td>3</td>\n",
              "      <td>1.698134</td>\n",
              "      <td>0.770927</td>\n",
              "      <td>00:00</td>\n",
              "    </tr>\n",
              "    <tr>\n",
              "      <td>4</td>\n",
              "      <td>1.231943</td>\n",
              "      <td>0.426845</td>\n",
              "      <td>00:00</td>\n",
              "    </tr>\n",
              "    <tr>\n",
              "      <td>5</td>\n",
              "      <td>0.926442</td>\n",
              "      <td>0.370695</td>\n",
              "      <td>00:00</td>\n",
              "    </tr>\n",
              "    <tr>\n",
              "      <td>6</td>\n",
              "      <td>0.712243</td>\n",
              "      <td>0.409414</td>\n",
              "      <td>00:00</td>\n",
              "    </tr>\n",
              "    <tr>\n",
              "      <td>7</td>\n",
              "      <td>0.555685</td>\n",
              "      <td>0.388226</td>\n",
              "      <td>00:00</td>\n",
              "    </tr>\n",
              "    <tr>\n",
              "      <td>8</td>\n",
              "      <td>0.438495</td>\n",
              "      <td>0.432698</td>\n",
              "      <td>00:00</td>\n",
              "    </tr>\n",
              "    <tr>\n",
              "      <td>9</td>\n",
              "      <td>0.349056</td>\n",
              "      <td>0.497208</td>\n",
              "      <td>00:00</td>\n",
              "    </tr>\n",
              "    <tr>\n",
              "      <td>10</td>\n",
              "      <td>0.280163</td>\n",
              "      <td>0.439011</td>\n",
              "      <td>00:00</td>\n",
              "    </tr>\n",
              "    <tr>\n",
              "      <td>11</td>\n",
              "      <td>0.225661</td>\n",
              "      <td>0.401682</td>\n",
              "      <td>00:00</td>\n",
              "    </tr>\n",
              "    <tr>\n",
              "      <td>12</td>\n",
              "      <td>0.182180</td>\n",
              "      <td>0.352246</td>\n",
              "      <td>00:00</td>\n",
              "    </tr>\n",
              "    <tr>\n",
              "      <td>13</td>\n",
              "      <td>0.147650</td>\n",
              "      <td>0.385491</td>\n",
              "      <td>00:00</td>\n",
              "    </tr>\n",
              "    <tr>\n",
              "      <td>14</td>\n",
              "      <td>0.119871</td>\n",
              "      <td>0.335851</td>\n",
              "      <td>00:00</td>\n",
              "    </tr>\n",
              "    <tr>\n",
              "      <td>15</td>\n",
              "      <td>0.097699</td>\n",
              "      <td>0.352764</td>\n",
              "      <td>00:00</td>\n",
              "    </tr>\n",
              "    <tr>\n",
              "      <td>16</td>\n",
              "      <td>0.079746</td>\n",
              "      <td>0.317207</td>\n",
              "      <td>00:00</td>\n",
              "    </tr>\n",
              "    <tr>\n",
              "      <td>17</td>\n",
              "      <td>0.065122</td>\n",
              "      <td>0.334073</td>\n",
              "      <td>00:00</td>\n",
              "    </tr>\n",
              "    <tr>\n",
              "      <td>18</td>\n",
              "      <td>0.053214</td>\n",
              "      <td>0.318105</td>\n",
              "      <td>00:00</td>\n",
              "    </tr>\n",
              "    <tr>\n",
              "      <td>19</td>\n",
              "      <td>0.043502</td>\n",
              "      <td>0.307008</td>\n",
              "      <td>00:00</td>\n",
              "    </tr>\n",
              "    <tr>\n",
              "      <td>20</td>\n",
              "      <td>0.035621</td>\n",
              "      <td>0.297896</td>\n",
              "      <td>00:00</td>\n",
              "    </tr>\n",
              "    <tr>\n",
              "      <td>21</td>\n",
              "      <td>0.029218</td>\n",
              "      <td>0.296005</td>\n",
              "      <td>00:00</td>\n",
              "    </tr>\n",
              "    <tr>\n",
              "      <td>22</td>\n",
              "      <td>0.024133</td>\n",
              "      <td>0.273959</td>\n",
              "      <td>00:00</td>\n",
              "    </tr>\n",
              "    <tr>\n",
              "      <td>23</td>\n",
              "      <td>0.019993</td>\n",
              "      <td>0.212600</td>\n",
              "      <td>00:00</td>\n",
              "    </tr>\n",
              "    <tr>\n",
              "      <td>24</td>\n",
              "      <td>0.016710</td>\n",
              "      <td>0.216026</td>\n",
              "      <td>00:00</td>\n",
              "    </tr>\n",
              "    <tr>\n",
              "      <td>25</td>\n",
              "      <td>0.014002</td>\n",
              "      <td>0.240446</td>\n",
              "      <td>00:00</td>\n",
              "    </tr>\n",
              "    <tr>\n",
              "      <td>26</td>\n",
              "      <td>0.012028</td>\n",
              "      <td>0.239832</td>\n",
              "      <td>00:00</td>\n",
              "    </tr>\n",
              "    <tr>\n",
              "      <td>27</td>\n",
              "      <td>0.011325</td>\n",
              "      <td>0.132652</td>\n",
              "      <td>00:00</td>\n",
              "    </tr>\n",
              "    <tr>\n",
              "      <td>28</td>\n",
              "      <td>0.011786</td>\n",
              "      <td>0.154043</td>\n",
              "      <td>00:00</td>\n",
              "    </tr>\n",
              "    <tr>\n",
              "      <td>29</td>\n",
              "      <td>0.010474</td>\n",
              "      <td>0.395495</td>\n",
              "      <td>00:00</td>\n",
              "    </tr>\n",
              "  </tbody>\n",
              "</table>"
            ]
          }
        }
      ],
      "source": [
        "lrnr.fit(30,lr=0.05)"
      ],
      "id": "ae04692b-5124-4ccb-9fe4-a9ef34f79c2e"
    },
    {
      "cell_type": "markdown",
      "metadata": {},
      "source": [
        "`(4)` 예측\n",
        "\n",
        "**적합값 확인**"
      ],
      "id": "91c756cc-addb-46ab-9561-d08ffef4ca83"
    },
    {
      "cell_type": "code",
      "execution_count": 37,
      "metadata": {},
      "outputs": [
        {
          "output_type": "display_data",
          "metadata": {},
          "data": {
            "text/html": [
              "\n",
              "<style>\n",
              "    /* Turns off some styling */\n",
              "    progress {\n",
              "        /* gets rid of default border in Firefox and Opera. */\n",
              "        border: none;\n",
              "        /* Needs to be in here for Safari polyfill so background images work as expected. */\n",
              "        background-size: auto;\n",
              "    }\n",
              "    progress:not([value]), progress:not([value])::-webkit-progress-bar {\n",
              "        background: repeating-linear-gradient(45deg, #7e7e7e, #7e7e7e 10px, #5c5c5c 10px, #5c5c5c 20px);\n",
              "    }\n",
              "    .progress-bar-interrupted, .progress-bar-interrupted::-webkit-progress-bar {\n",
              "        background: #F44336;\n",
              "    }\n",
              "</style>"
            ]
          }
        },
        {
          "output_type": "display_data",
          "metadata": {},
          "data": {
            "text/html": []
          }
        },
        {
          "output_type": "display_data",
          "metadata": {},
          "data": {
            "text/html": [
              "<table border=\"1\" class=\"dataframe\">\n",
              "  <thead>\n",
              "    <tr style=\"text-align: right;\">\n",
              "      <th></th>\n",
              "      <th>X1</th>\n",
              "      <th>X2</th>\n",
              "      <th>y</th>\n",
              "      <th>y_pred</th>\n",
              "    </tr>\n",
              "  </thead>\n",
              "  <tbody>\n",
              "    <tr>\n",
              "      <th>0</th>\n",
              "      <td>2.0</td>\n",
              "      <td>2.0</td>\n",
              "      <td>4.3</td>\n",
              "      <td>3.425303</td>\n",
              "    </tr>\n",
              "    <tr>\n",
              "      <th>1</th>\n",
              "      <td>4.0</td>\n",
              "      <td>1.0</td>\n",
              "      <td>0.5</td>\n",
              "      <td>0.660918</td>\n",
              "    </tr>\n",
              "  </tbody>\n",
              "</table>"
            ]
          }
        }
      ],
      "source": [
        "lrnr.show_results()"
      ],
      "id": "5b894bbc-10d6-4588-b022-628841968d19"
    },
    {
      "cell_type": "markdown",
      "metadata": {},
      "source": [
        "**(옥순의 궁합)**"
      ],
      "id": "89fa4d02-5165-45c5-9c0d-4514751c9ac1"
    },
    {
      "cell_type": "code",
      "execution_count": 38,
      "metadata": {},
      "outputs": [
        {
          "output_type": "display_data",
          "metadata": {},
          "data": {
            "text/html": [
              "<div>\n",
              "<style scoped>\n",
              "    .dataframe tbody tr th:only-of-type {\n",
              "        vertical-align: middle;\n",
              "    }\n",
              "\n",
              "    .dataframe tbody tr th {\n",
              "        vertical-align: top;\n",
              "    }\n",
              "\n",
              "    .dataframe thead th {\n",
              "        text-align: right;\n",
              "    }\n",
              "</style>\n",
              "<table border=\"1\" class=\"dataframe\">\n",
              "  <thead>\n",
              "    <tr style=\"text-align: right;\">\n",
              "      <th></th>\n",
              "      <th>X1</th>\n",
              "      <th>X2</th>\n",
              "    </tr>\n",
              "  </thead>\n",
              "  <tbody>\n",
              "    <tr>\n",
              "      <th>0</th>\n",
              "      <td>옥순</td>\n",
              "      <td>영식</td>\n",
              "    </tr>\n",
              "    <tr>\n",
              "      <th>1</th>\n",
              "      <td>옥순</td>\n",
              "      <td>영철</td>\n",
              "    </tr>\n",
              "    <tr>\n",
              "      <th>2</th>\n",
              "      <td>옥순</td>\n",
              "      <td>영호</td>\n",
              "    </tr>\n",
              "    <tr>\n",
              "      <th>3</th>\n",
              "      <td>옥순</td>\n",
              "      <td>광수</td>\n",
              "    </tr>\n",
              "    <tr>\n",
              "      <th>4</th>\n",
              "      <td>옥순</td>\n",
              "      <td>상철</td>\n",
              "    </tr>\n",
              "    <tr>\n",
              "      <th>5</th>\n",
              "      <td>옥순</td>\n",
              "      <td>영수</td>\n",
              "    </tr>\n",
              "  </tbody>\n",
              "</table>\n",
              "</div>"
            ]
          }
        }
      ],
      "source": [
        "df_new = pd.DataFrame({'X1':['옥순']*6, 'X2':['영식','영철','영호','광수','상철','영수']})\n",
        "df_new"
      ],
      "id": "f81b6bb4-9668-4453-a583-b10d79e0dd91"
    },
    {
      "cell_type": "code",
      "execution_count": 39,
      "metadata": {},
      "outputs": [
        {
          "output_type": "display_data",
          "metadata": {},
          "data": {
            "text/html": [
              "\n",
              "<style>\n",
              "    /* Turns off some styling */\n",
              "    progress {\n",
              "        /* gets rid of default border in Firefox and Opera. */\n",
              "        border: none;\n",
              "        /* Needs to be in here for Safari polyfill so background images work as expected. */\n",
              "        background-size: auto;\n",
              "    }\n",
              "    progress:not([value]), progress:not([value])::-webkit-progress-bar {\n",
              "        background: repeating-linear-gradient(45deg, #7e7e7e, #7e7e7e 10px, #5c5c5c 10px, #5c5c5c 20px);\n",
              "    }\n",
              "    .progress-bar-interrupted, .progress-bar-interrupted::-webkit-progress-bar {\n",
              "        background: #F44336;\n",
              "    }\n",
              "</style>"
            ]
          }
        },
        {
          "output_type": "display_data",
          "metadata": {},
          "data": {
            "text/html": []
          }
        },
        {
          "output_type": "display_data",
          "metadata": {},
          "data": {
            "text/plain": [
              "(tensor([3.9011, 4.1288, 3.6021, 0.6609, 0.3678, 0.5451]), None)"
            ]
          }
        }
      ],
      "source": [
        "lrnr.get_preds(dl=dls.test_dl(df_new))"
      ],
      "id": "38184283-2fd8-48c4-a179-cc2a205b02b0"
    },
    {
      "cell_type": "markdown",
      "metadata": {},
      "source": [
        "비교를 위해서"
      ],
      "id": "c0a13f3c-4aac-4830-8d97-ca20050dee5c"
    },
    {
      "cell_type": "code",
      "execution_count": 40,
      "metadata": {},
      "outputs": [
        {
          "output_type": "display_data",
          "metadata": {},
          "data": {
            "text/html": [
              "<div>\n",
              "<style scoped>\n",
              "    .dataframe tbody tr th:only-of-type {\n",
              "        vertical-align: middle;\n",
              "    }\n",
              "\n",
              "    .dataframe tbody tr th {\n",
              "        vertical-align: top;\n",
              "    }\n",
              "\n",
              "    .dataframe thead th {\n",
              "        text-align: right;\n",
              "    }\n",
              "</style>\n",
              "<table border=\"1\" class=\"dataframe\">\n",
              "  <thead>\n",
              "    <tr style=\"text-align: right;\">\n",
              "      <th></th>\n",
              "      <th>영식</th>\n",
              "      <th>영철</th>\n",
              "      <th>영호</th>\n",
              "      <th>광수</th>\n",
              "      <th>상철</th>\n",
              "      <th>영수</th>\n",
              "    </tr>\n",
              "  </thead>\n",
              "  <tbody>\n",
              "    <tr>\n",
              "      <th>옥순</th>\n",
              "      <td>3.9</td>\n",
              "      <td>4.1</td>\n",
              "      <td>NaN</td>\n",
              "      <td>0.5</td>\n",
              "      <td>0.3</td>\n",
              "      <td>NaN</td>\n",
              "    </tr>\n",
              "    <tr>\n",
              "      <th>영자</th>\n",
              "      <td>4.5</td>\n",
              "      <td>NaN</td>\n",
              "      <td>3.7</td>\n",
              "      <td>0.5</td>\n",
              "      <td>NaN</td>\n",
              "      <td>0.2</td>\n",
              "    </tr>\n",
              "    <tr>\n",
              "      <th>정숙</th>\n",
              "      <td>NaN</td>\n",
              "      <td>4.9</td>\n",
              "      <td>4.7</td>\n",
              "      <td>NaN</td>\n",
              "      <td>1.2</td>\n",
              "      <td>1.3</td>\n",
              "    </tr>\n",
              "    <tr>\n",
              "      <th>영숙</th>\n",
              "      <td>0.6</td>\n",
              "      <td>0.2</td>\n",
              "      <td>NaN</td>\n",
              "      <td>4.1</td>\n",
              "      <td>4.3</td>\n",
              "      <td>NaN</td>\n",
              "    </tr>\n",
              "    <tr>\n",
              "      <th>순자</th>\n",
              "      <td>0.7</td>\n",
              "      <td>0.9</td>\n",
              "      <td>NaN</td>\n",
              "      <td>4.2</td>\n",
              "      <td>NaN</td>\n",
              "      <td>3.9</td>\n",
              "    </tr>\n",
              "    <tr>\n",
              "      <th>현숙</th>\n",
              "      <td>NaN</td>\n",
              "      <td>0.2</td>\n",
              "      <td>0.3</td>\n",
              "      <td>NaN</td>\n",
              "      <td>3.5</td>\n",
              "      <td>3.4</td>\n",
              "    </tr>\n",
              "  </tbody>\n",
              "</table>\n",
              "</div>"
            ]
          }
        }
      ],
      "source": [
        "df_view"
      ],
      "id": "0cbb03ba-ed12-4297-89e9-8599bb3cc163"
    },
    {
      "cell_type": "markdown",
      "metadata": {},
      "source": [
        "**(정숙의 궁합)**"
      ],
      "id": "a7df761a-8ed5-4a72-a5a2-b7afa81dcac5"
    },
    {
      "cell_type": "code",
      "execution_count": 41,
      "metadata": {},
      "outputs": [
        {
          "output_type": "display_data",
          "metadata": {},
          "data": {
            "text/html": [
              "<div>\n",
              "<style scoped>\n",
              "    .dataframe tbody tr th:only-of-type {\n",
              "        vertical-align: middle;\n",
              "    }\n",
              "\n",
              "    .dataframe tbody tr th {\n",
              "        vertical-align: top;\n",
              "    }\n",
              "\n",
              "    .dataframe thead th {\n",
              "        text-align: right;\n",
              "    }\n",
              "</style>\n",
              "<table border=\"1\" class=\"dataframe\">\n",
              "  <thead>\n",
              "    <tr style=\"text-align: right;\">\n",
              "      <th></th>\n",
              "      <th>X1</th>\n",
              "      <th>X2</th>\n",
              "    </tr>\n",
              "  </thead>\n",
              "  <tbody>\n",
              "    <tr>\n",
              "      <th>0</th>\n",
              "      <td>정숙</td>\n",
              "      <td>영식</td>\n",
              "    </tr>\n",
              "    <tr>\n",
              "      <th>1</th>\n",
              "      <td>정숙</td>\n",
              "      <td>영철</td>\n",
              "    </tr>\n",
              "    <tr>\n",
              "      <th>2</th>\n",
              "      <td>정숙</td>\n",
              "      <td>영호</td>\n",
              "    </tr>\n",
              "    <tr>\n",
              "      <th>3</th>\n",
              "      <td>정숙</td>\n",
              "      <td>광수</td>\n",
              "    </tr>\n",
              "    <tr>\n",
              "      <th>4</th>\n",
              "      <td>정숙</td>\n",
              "      <td>상철</td>\n",
              "    </tr>\n",
              "    <tr>\n",
              "      <th>5</th>\n",
              "      <td>정숙</td>\n",
              "      <td>영수</td>\n",
              "    </tr>\n",
              "  </tbody>\n",
              "</table>\n",
              "</div>"
            ]
          }
        }
      ],
      "source": [
        "df_new = pd.DataFrame({'X1':['정숙']*6, 'X2':['영식','영철','영호','광수','상철','영수']})\n",
        "df_new"
      ],
      "id": "4793cccb-f4a2-4060-a7ca-4096e277eed2"
    },
    {
      "cell_type": "code",
      "execution_count": 42,
      "metadata": {},
      "outputs": [
        {
          "output_type": "display_data",
          "metadata": {},
          "data": {
            "text/html": [
              "\n",
              "<style>\n",
              "    /* Turns off some styling */\n",
              "    progress {\n",
              "        /* gets rid of default border in Firefox and Opera. */\n",
              "        border: none;\n",
              "        /* Needs to be in here for Safari polyfill so background images work as expected. */\n",
              "        background-size: auto;\n",
              "    }\n",
              "    progress:not([value]), progress:not([value])::-webkit-progress-bar {\n",
              "        background: repeating-linear-gradient(45deg, #7e7e7e, #7e7e7e 10px, #5c5c5c 10px, #5c5c5c 20px);\n",
              "    }\n",
              "    .progress-bar-interrupted, .progress-bar-interrupted::-webkit-progress-bar {\n",
              "        background: #F44336;\n",
              "    }\n",
              "</style>"
            ]
          }
        },
        {
          "output_type": "display_data",
          "metadata": {},
          "data": {
            "text/html": []
          }
        },
        {
          "output_type": "display_data",
          "metadata": {},
          "data": {
            "text/plain": [
              "(tensor([4.8320, 4.8423, 4.6991, 1.5996, 1.1552, 1.2886]), None)"
            ]
          }
        }
      ],
      "source": [
        "lrnr.get_preds(dl=dls.test_dl(df_new))"
      ],
      "id": "dd1229cf-e7e1-4f34-9777-66c9396798bf"
    },
    {
      "cell_type": "markdown",
      "metadata": {},
      "source": [
        "높으면 잘 맞는다,\n",
        "\n",
        "비교를 위해서"
      ],
      "id": "52728fe1-bc9f-4208-b12f-559f4c1eec29"
    },
    {
      "cell_type": "code",
      "execution_count": 43,
      "metadata": {},
      "outputs": [
        {
          "output_type": "display_data",
          "metadata": {},
          "data": {
            "text/html": [
              "<div>\n",
              "<style scoped>\n",
              "    .dataframe tbody tr th:only-of-type {\n",
              "        vertical-align: middle;\n",
              "    }\n",
              "\n",
              "    .dataframe tbody tr th {\n",
              "        vertical-align: top;\n",
              "    }\n",
              "\n",
              "    .dataframe thead th {\n",
              "        text-align: right;\n",
              "    }\n",
              "</style>\n",
              "<table border=\"1\" class=\"dataframe\">\n",
              "  <thead>\n",
              "    <tr style=\"text-align: right;\">\n",
              "      <th></th>\n",
              "      <th>영식</th>\n",
              "      <th>영철</th>\n",
              "      <th>영호</th>\n",
              "      <th>광수</th>\n",
              "      <th>상철</th>\n",
              "      <th>영수</th>\n",
              "    </tr>\n",
              "  </thead>\n",
              "  <tbody>\n",
              "    <tr>\n",
              "      <th>옥순</th>\n",
              "      <td>3.9</td>\n",
              "      <td>4.1</td>\n",
              "      <td>NaN</td>\n",
              "      <td>0.5</td>\n",
              "      <td>0.3</td>\n",
              "      <td>NaN</td>\n",
              "    </tr>\n",
              "    <tr>\n",
              "      <th>영자</th>\n",
              "      <td>4.5</td>\n",
              "      <td>NaN</td>\n",
              "      <td>3.7</td>\n",
              "      <td>0.5</td>\n",
              "      <td>NaN</td>\n",
              "      <td>0.2</td>\n",
              "    </tr>\n",
              "    <tr>\n",
              "      <th>정숙</th>\n",
              "      <td>NaN</td>\n",
              "      <td>4.9</td>\n",
              "      <td>4.7</td>\n",
              "      <td>NaN</td>\n",
              "      <td>1.2</td>\n",
              "      <td>1.3</td>\n",
              "    </tr>\n",
              "    <tr>\n",
              "      <th>영숙</th>\n",
              "      <td>0.6</td>\n",
              "      <td>0.2</td>\n",
              "      <td>NaN</td>\n",
              "      <td>4.1</td>\n",
              "      <td>4.3</td>\n",
              "      <td>NaN</td>\n",
              "    </tr>\n",
              "    <tr>\n",
              "      <th>순자</th>\n",
              "      <td>0.7</td>\n",
              "      <td>0.9</td>\n",
              "      <td>NaN</td>\n",
              "      <td>4.2</td>\n",
              "      <td>NaN</td>\n",
              "      <td>3.9</td>\n",
              "    </tr>\n",
              "    <tr>\n",
              "      <th>현숙</th>\n",
              "      <td>NaN</td>\n",
              "      <td>0.2</td>\n",
              "      <td>0.3</td>\n",
              "      <td>NaN</td>\n",
              "      <td>3.5</td>\n",
              "      <td>3.4</td>\n",
              "    </tr>\n",
              "  </tbody>\n",
              "</table>\n",
              "</div>"
            ]
          }
        }
      ],
      "source": [
        "df_view"
      ],
      "id": "4b08e262-a0cd-4a18-94ce-15961db3b6b1"
    },
    {
      "cell_type": "markdown",
      "metadata": {},
      "source": [
        "`-` Appedix: fastai 구조공부.."
      ],
      "id": "2672a2fc-e9ea-4840-8a6a-d917571fc4e8"
    },
    {
      "cell_type": "code",
      "execution_count": 44,
      "metadata": {},
      "outputs": [
        {
          "output_type": "display_data",
          "metadata": {},
          "data": {
            "text/plain": [
              "EmbeddingDotBias(\n",
              "  (u_weight): Embedding(7, 2)\n",
              "  (i_weight): Embedding(7, 2)\n",
              "  (u_bias): Embedding(7, 1)\n",
              "  (i_bias): Embedding(7, 1)\n",
              ")"
            ]
          }
        }
      ],
      "source": [
        "lrnr.model"
      ],
      "id": "82bfe8f6-8d5f-4465-9fae-78c59eaea879"
    },
    {
      "cell_type": "code",
      "execution_count": 45,
      "metadata": {},
      "outputs": [
        {
          "output_type": "display_data",
          "metadata": {},
          "data": {
            "text/html": [
              "<pre><span class=\"ansi-red-fg\">Signature:</span> lrnr<span class=\"ansi-blue-fg\">.</span>model<span class=\"ansi-blue-fg\">.</span>forward<span class=\"ansi-blue-fg\">(</span>x<span class=\"ansi-blue-fg\">)</span>\n",
              "<span class=\"ansi-red-fg\">Docstring:</span>\n",
              "Defines the computation performed at every call.\n",
              "Should be overridden by all subclasses.\n",
              ".. note::\n",
              "    Although the recipe for forward pass needs to be defined within\n",
              "    this function, one should call the :class:`Module` instance afterwards\n",
              "    instead of this since the former takes care of running the\n",
              "    registered hooks while the latter silently ignores them.\n",
              "<span class=\"ansi-red-fg\">Source:</span>   \n",
              "    <span class=\"ansi-green-fg\">def</span> forward<span class=\"ansi-blue-fg\">(</span>self<span class=\"ansi-blue-fg\">,</span> x<span class=\"ansi-blue-fg\">)</span><span class=\"ansi-blue-fg\">:</span>\n",
              "        users<span class=\"ansi-blue-fg\">,</span>items <span class=\"ansi-blue-fg\">=</span> x<span class=\"ansi-blue-fg\">[</span><span class=\"ansi-blue-fg\">:</span><span class=\"ansi-blue-fg\">,</span><span class=\"ansi-cyan-fg\">0</span><span class=\"ansi-blue-fg\">]</span><span class=\"ansi-blue-fg\">,</span>x<span class=\"ansi-blue-fg\">[</span><span class=\"ansi-blue-fg\">:</span><span class=\"ansi-blue-fg\">,</span><span class=\"ansi-cyan-fg\">1</span><span class=\"ansi-blue-fg\">]</span>\n",
              "        dot <span class=\"ansi-blue-fg\">=</span> self<span class=\"ansi-blue-fg\">.</span>u_weight<span class=\"ansi-blue-fg\">(</span>users<span class=\"ansi-blue-fg\">)</span><span class=\"ansi-blue-fg\">*</span> self<span class=\"ansi-blue-fg\">.</span>i_weight<span class=\"ansi-blue-fg\">(</span>items<span class=\"ansi-blue-fg\">)</span>\n",
              "        res <span class=\"ansi-blue-fg\">=</span> dot<span class=\"ansi-blue-fg\">.</span>sum<span class=\"ansi-blue-fg\">(</span><span class=\"ansi-cyan-fg\">1</span><span class=\"ansi-blue-fg\">)</span> <span class=\"ansi-blue-fg\">+</span> self<span class=\"ansi-blue-fg\">.</span>u_bias<span class=\"ansi-blue-fg\">(</span>users<span class=\"ansi-blue-fg\">)</span><span class=\"ansi-blue-fg\">.</span>squeeze<span class=\"ansi-blue-fg\">(</span><span class=\"ansi-blue-fg\">)</span> <span class=\"ansi-blue-fg\">+</span> self<span class=\"ansi-blue-fg\">.</span>i_bias<span class=\"ansi-blue-fg\">(</span>items<span class=\"ansi-blue-fg\">)</span><span class=\"ansi-blue-fg\">.</span>squeeze<span class=\"ansi-blue-fg\">(</span><span class=\"ansi-blue-fg\">)</span>\n",
              "        <span class=\"ansi-green-fg\">if</span> self<span class=\"ansi-blue-fg\">.</span>y_range <span class=\"ansi-green-fg\">is</span> <span class=\"ansi-green-fg\">None</span><span class=\"ansi-blue-fg\">:</span> <span class=\"ansi-green-fg\">return</span> res\n",
              "        <span class=\"ansi-green-fg\">return</span> torch<span class=\"ansi-blue-fg\">.</span>sigmoid<span class=\"ansi-blue-fg\">(</span>res<span class=\"ansi-blue-fg\">)</span> <span class=\"ansi-blue-fg\">*</span> <span class=\"ansi-blue-fg\">(</span>self<span class=\"ansi-blue-fg\">.</span>y_range<span class=\"ansi-blue-fg\">[</span><span class=\"ansi-cyan-fg\">1</span><span class=\"ansi-blue-fg\">]</span><span class=\"ansi-blue-fg\">-</span>self<span class=\"ansi-blue-fg\">.</span>y_range<span class=\"ansi-blue-fg\">[</span><span class=\"ansi-cyan-fg\">0</span><span class=\"ansi-blue-fg\">]</span><span class=\"ansi-blue-fg\">)</span> <span class=\"ansi-blue-fg\">+</span> self<span class=\"ansi-blue-fg\">.</span>y_range<span class=\"ansi-blue-fg\">[</span><span class=\"ansi-cyan-fg\">0</span><span class=\"ansi-blue-fg\">]</span>\n",
              "<span class=\"ansi-red-fg\">File:</span>      ~/anaconda3/envs/py37/lib/python3.7/site-packages/fastai/collab.py\n",
              "<span class=\"ansi-red-fg\">Type:</span>      method\n",
              "</pre>"
            ]
          }
        }
      ],
      "source": [
        "lrnr.model.forward??"
      ],
      "id": "26cd3311-a481-4473-9ce0-175bd158d405"
    },
    {
      "cell_type": "markdown",
      "metadata": {},
      "source": [
        "-   bias를 제외하면 우리가 짠 모형과 같음!\n",
        "\n",
        "# 커피 or 홍차\n",
        "\n",
        "## data\n",
        "\n",
        "`-` 예전에 살펴본 예제"
      ],
      "id": "412e200a-a3ab-4324-92cd-6943e62ccf71"
    },
    {
      "cell_type": "code",
      "execution_count": 46,
      "metadata": {},
      "outputs": [
        {
          "output_type": "display_data",
          "metadata": {},
          "data": {
            "text/html": [
              "<div>\n",
              "<style scoped>\n",
              "    .dataframe tbody tr th:only-of-type {\n",
              "        vertical-align: middle;\n",
              "    }\n",
              "\n",
              "    .dataframe tbody tr th {\n",
              "        vertical-align: top;\n",
              "    }\n",
              "\n",
              "    .dataframe thead th {\n",
              "        text-align: right;\n",
              "    }\n",
              "</style>\n",
              "<table border=\"1\" class=\"dataframe\">\n",
              "  <thead>\n",
              "    <tr style=\"text-align: right;\">\n",
              "      <th></th>\n",
              "      <th>user</th>\n",
              "      <th>item</th>\n",
              "      <th>rating</th>\n",
              "      <th>item_name</th>\n",
              "    </tr>\n",
              "  </thead>\n",
              "  <tbody>\n",
              "    <tr>\n",
              "      <th>0</th>\n",
              "      <td>1</td>\n",
              "      <td>15</td>\n",
              "      <td>1.084308</td>\n",
              "      <td>홍차5</td>\n",
              "    </tr>\n",
              "    <tr>\n",
              "      <th>1</th>\n",
              "      <td>1</td>\n",
              "      <td>1</td>\n",
              "      <td>4.149209</td>\n",
              "      <td>커피1</td>\n",
              "    </tr>\n",
              "    <tr>\n",
              "      <th>2</th>\n",
              "      <td>1</td>\n",
              "      <td>11</td>\n",
              "      <td>1.142659</td>\n",
              "      <td>홍차1</td>\n",
              "    </tr>\n",
              "    <tr>\n",
              "      <th>3</th>\n",
              "      <td>1</td>\n",
              "      <td>5</td>\n",
              "      <td>4.033415</td>\n",
              "      <td>커피5</td>\n",
              "    </tr>\n",
              "    <tr>\n",
              "      <th>4</th>\n",
              "      <td>1</td>\n",
              "      <td>4</td>\n",
              "      <td>4.078139</td>\n",
              "      <td>커피4</td>\n",
              "    </tr>\n",
              "    <tr>\n",
              "      <th>...</th>\n",
              "      <td>...</td>\n",
              "      <td>...</td>\n",
              "      <td>...</td>\n",
              "      <td>...</td>\n",
              "    </tr>\n",
              "    <tr>\n",
              "      <th>995</th>\n",
              "      <td>100</td>\n",
              "      <td>18</td>\n",
              "      <td>4.104276</td>\n",
              "      <td>홍차8</td>\n",
              "    </tr>\n",
              "    <tr>\n",
              "      <th>996</th>\n",
              "      <td>100</td>\n",
              "      <td>17</td>\n",
              "      <td>4.164773</td>\n",
              "      <td>홍차7</td>\n",
              "    </tr>\n",
              "    <tr>\n",
              "      <th>997</th>\n",
              "      <td>100</td>\n",
              "      <td>14</td>\n",
              "      <td>4.026915</td>\n",
              "      <td>홍차4</td>\n",
              "    </tr>\n",
              "    <tr>\n",
              "      <th>998</th>\n",
              "      <td>100</td>\n",
              "      <td>4</td>\n",
              "      <td>0.838720</td>\n",
              "      <td>커피4</td>\n",
              "    </tr>\n",
              "    <tr>\n",
              "      <th>999</th>\n",
              "      <td>100</td>\n",
              "      <td>7</td>\n",
              "      <td>1.094826</td>\n",
              "      <td>커피7</td>\n",
              "    </tr>\n",
              "  </tbody>\n",
              "</table>\n",
              "<p>1000 rows × 4 columns</p>\n",
              "</div>"
            ]
          }
        }
      ],
      "source": [
        "df = pd.read_csv('https://raw.githubusercontent.com/guebin/DL2022/main/posts/I.%20Overview/2022-09-08-rcmd_anal.csv')\n",
        "df"
      ],
      "id": "b489f45f-f41a-4b5d-9d3d-683c2d374849"
    },
    {
      "cell_type": "markdown",
      "metadata": {},
      "source": [
        "`-` 기억을 살리기 위해서.."
      ],
      "id": "1a6262f5-c112-4aff-a48f-5b8d7200b156"
    },
    {
      "cell_type": "code",
      "execution_count": 47,
      "metadata": {},
      "outputs": [
        {
          "output_type": "display_data",
          "metadata": {},
          "data": {
            "text/html": [
              "<div>\n",
              "<style scoped>\n",
              "    .dataframe tbody tr th:only-of-type {\n",
              "        vertical-align: middle;\n",
              "    }\n",
              "\n",
              "    .dataframe tbody tr th {\n",
              "        vertical-align: top;\n",
              "    }\n",
              "\n",
              "    .dataframe thead th {\n",
              "        text-align: right;\n",
              "    }\n",
              "</style>\n",
              "<table border=\"1\" class=\"dataframe\">\n",
              "  <thead>\n",
              "    <tr style=\"text-align: right;\">\n",
              "      <th></th>\n",
              "      <th>커피1</th>\n",
              "      <th>커피2</th>\n",
              "      <th>커피3</th>\n",
              "      <th>커피4</th>\n",
              "      <th>커피5</th>\n",
              "      <th>커피6</th>\n",
              "      <th>커피7</th>\n",
              "      <th>커피8</th>\n",
              "      <th>커피9</th>\n",
              "      <th>커피10</th>\n",
              "      <th>홍차1</th>\n",
              "      <th>홍차2</th>\n",
              "      <th>홍차3</th>\n",
              "      <th>홍차4</th>\n",
              "      <th>홍차5</th>\n",
              "      <th>홍차6</th>\n",
              "      <th>홍차7</th>\n",
              "      <th>홍차8</th>\n",
              "      <th>홍차9</th>\n",
              "      <th>홍차10</th>\n",
              "    </tr>\n",
              "  </thead>\n",
              "  <tbody>\n",
              "    <tr>\n",
              "      <th>0</th>\n",
              "      <td>4.149209</td>\n",
              "      <td>NaN</td>\n",
              "      <td>NaN</td>\n",
              "      <td>4.078139</td>\n",
              "      <td>4.033415</td>\n",
              "      <td>4.071871</td>\n",
              "      <td>NaN</td>\n",
              "      <td>NaN</td>\n",
              "      <td>NaN</td>\n",
              "      <td>NaN</td>\n",
              "      <td>1.142659</td>\n",
              "      <td>1.109452</td>\n",
              "      <td>NaN</td>\n",
              "      <td>0.603118</td>\n",
              "      <td>1.084308</td>\n",
              "      <td>NaN</td>\n",
              "      <td>0.906524</td>\n",
              "      <td>NaN</td>\n",
              "      <td>NaN</td>\n",
              "      <td>0.903826</td>\n",
              "    </tr>\n",
              "    <tr>\n",
              "      <th>1</th>\n",
              "      <td>4.031811</td>\n",
              "      <td>NaN</td>\n",
              "      <td>NaN</td>\n",
              "      <td>3.822704</td>\n",
              "      <td>NaN</td>\n",
              "      <td>NaN</td>\n",
              "      <td>NaN</td>\n",
              "      <td>4.071410</td>\n",
              "      <td>3.996206</td>\n",
              "      <td>NaN</td>\n",
              "      <td>NaN</td>\n",
              "      <td>0.839565</td>\n",
              "      <td>1.011315</td>\n",
              "      <td>NaN</td>\n",
              "      <td>1.120552</td>\n",
              "      <td>0.911340</td>\n",
              "      <td>NaN</td>\n",
              "      <td>0.860954</td>\n",
              "      <td>0.871482</td>\n",
              "      <td>NaN</td>\n",
              "    </tr>\n",
              "    <tr>\n",
              "      <th>2</th>\n",
              "      <td>4.082178</td>\n",
              "      <td>4.196436</td>\n",
              "      <td>NaN</td>\n",
              "      <td>3.956876</td>\n",
              "      <td>NaN</td>\n",
              "      <td>NaN</td>\n",
              "      <td>NaN</td>\n",
              "      <td>4.450931</td>\n",
              "      <td>3.972090</td>\n",
              "      <td>NaN</td>\n",
              "      <td>NaN</td>\n",
              "      <td>NaN</td>\n",
              "      <td>NaN</td>\n",
              "      <td>0.983838</td>\n",
              "      <td>NaN</td>\n",
              "      <td>0.918576</td>\n",
              "      <td>1.206796</td>\n",
              "      <td>0.913116</td>\n",
              "      <td>NaN</td>\n",
              "      <td>0.956194</td>\n",
              "    </tr>\n",
              "    <tr>\n",
              "      <th>3</th>\n",
              "      <td>NaN</td>\n",
              "      <td>4.000621</td>\n",
              "      <td>3.895570</td>\n",
              "      <td>NaN</td>\n",
              "      <td>3.838781</td>\n",
              "      <td>3.967183</td>\n",
              "      <td>NaN</td>\n",
              "      <td>NaN</td>\n",
              "      <td>NaN</td>\n",
              "      <td>4.105741</td>\n",
              "      <td>1.147554</td>\n",
              "      <td>NaN</td>\n",
              "      <td>1.346860</td>\n",
              "      <td>NaN</td>\n",
              "      <td>0.614099</td>\n",
              "      <td>1.297301</td>\n",
              "      <td>NaN</td>\n",
              "      <td>NaN</td>\n",
              "      <td>NaN</td>\n",
              "      <td>1.147545</td>\n",
              "    </tr>\n",
              "    <tr>\n",
              "      <th>4</th>\n",
              "      <td>NaN</td>\n",
              "      <td>NaN</td>\n",
              "      <td>NaN</td>\n",
              "      <td>NaN</td>\n",
              "      <td>3.888208</td>\n",
              "      <td>NaN</td>\n",
              "      <td>3.970330</td>\n",
              "      <td>3.979490</td>\n",
              "      <td>NaN</td>\n",
              "      <td>4.010982</td>\n",
              "      <td>NaN</td>\n",
              "      <td>0.920995</td>\n",
              "      <td>1.081111</td>\n",
              "      <td>0.999345</td>\n",
              "      <td>NaN</td>\n",
              "      <td>1.195183</td>\n",
              "      <td>NaN</td>\n",
              "      <td>0.818332</td>\n",
              "      <td>1.236331</td>\n",
              "      <td>NaN</td>\n",
              "    </tr>\n",
              "    <tr>\n",
              "      <th>...</th>\n",
              "      <td>...</td>\n",
              "      <td>...</td>\n",
              "      <td>...</td>\n",
              "      <td>...</td>\n",
              "      <td>...</td>\n",
              "      <td>...</td>\n",
              "      <td>...</td>\n",
              "      <td>...</td>\n",
              "      <td>...</td>\n",
              "      <td>...</td>\n",
              "      <td>...</td>\n",
              "      <td>...</td>\n",
              "      <td>...</td>\n",
              "      <td>...</td>\n",
              "      <td>...</td>\n",
              "      <td>...</td>\n",
              "      <td>...</td>\n",
              "      <td>...</td>\n",
              "      <td>...</td>\n",
              "      <td>...</td>\n",
              "    </tr>\n",
              "    <tr>\n",
              "      <th>95</th>\n",
              "      <td>0.511905</td>\n",
              "      <td>1.066144</td>\n",
              "      <td>NaN</td>\n",
              "      <td>1.315430</td>\n",
              "      <td>NaN</td>\n",
              "      <td>1.285778</td>\n",
              "      <td>NaN</td>\n",
              "      <td>0.678400</td>\n",
              "      <td>1.023020</td>\n",
              "      <td>0.886803</td>\n",
              "      <td>NaN</td>\n",
              "      <td>4.055996</td>\n",
              "      <td>NaN</td>\n",
              "      <td>NaN</td>\n",
              "      <td>4.156489</td>\n",
              "      <td>4.127622</td>\n",
              "      <td>NaN</td>\n",
              "      <td>NaN</td>\n",
              "      <td>NaN</td>\n",
              "      <td>NaN</td>\n",
              "    </tr>\n",
              "    <tr>\n",
              "      <th>96</th>\n",
              "      <td>NaN</td>\n",
              "      <td>1.035022</td>\n",
              "      <td>NaN</td>\n",
              "      <td>1.085834</td>\n",
              "      <td>NaN</td>\n",
              "      <td>0.812558</td>\n",
              "      <td>NaN</td>\n",
              "      <td>1.074543</td>\n",
              "      <td>NaN</td>\n",
              "      <td>0.852806</td>\n",
              "      <td>3.894772</td>\n",
              "      <td>NaN</td>\n",
              "      <td>4.071385</td>\n",
              "      <td>3.935935</td>\n",
              "      <td>NaN</td>\n",
              "      <td>NaN</td>\n",
              "      <td>3.989815</td>\n",
              "      <td>NaN</td>\n",
              "      <td>NaN</td>\n",
              "      <td>4.267142</td>\n",
              "    </tr>\n",
              "    <tr>\n",
              "      <th>97</th>\n",
              "      <td>NaN</td>\n",
              "      <td>1.115511</td>\n",
              "      <td>NaN</td>\n",
              "      <td>1.101395</td>\n",
              "      <td>0.878614</td>\n",
              "      <td>NaN</td>\n",
              "      <td>NaN</td>\n",
              "      <td>NaN</td>\n",
              "      <td>1.329319</td>\n",
              "      <td>NaN</td>\n",
              "      <td>4.125190</td>\n",
              "      <td>NaN</td>\n",
              "      <td>4.354638</td>\n",
              "      <td>3.811209</td>\n",
              "      <td>4.144648</td>\n",
              "      <td>NaN</td>\n",
              "      <td>NaN</td>\n",
              "      <td>4.116915</td>\n",
              "      <td>3.887823</td>\n",
              "      <td>NaN</td>\n",
              "    </tr>\n",
              "    <tr>\n",
              "      <th>98</th>\n",
              "      <td>NaN</td>\n",
              "      <td>0.850794</td>\n",
              "      <td>NaN</td>\n",
              "      <td>NaN</td>\n",
              "      <td>0.927884</td>\n",
              "      <td>0.669895</td>\n",
              "      <td>NaN</td>\n",
              "      <td>NaN</td>\n",
              "      <td>0.665429</td>\n",
              "      <td>1.387329</td>\n",
              "      <td>NaN</td>\n",
              "      <td>NaN</td>\n",
              "      <td>4.329404</td>\n",
              "      <td>4.111706</td>\n",
              "      <td>3.960197</td>\n",
              "      <td>NaN</td>\n",
              "      <td>NaN</td>\n",
              "      <td>NaN</td>\n",
              "      <td>3.725288</td>\n",
              "      <td>4.122072</td>\n",
              "    </tr>\n",
              "    <tr>\n",
              "      <th>99</th>\n",
              "      <td>NaN</td>\n",
              "      <td>NaN</td>\n",
              "      <td>1.413968</td>\n",
              "      <td>0.838720</td>\n",
              "      <td>NaN</td>\n",
              "      <td>NaN</td>\n",
              "      <td>1.094826</td>\n",
              "      <td>0.987888</td>\n",
              "      <td>NaN</td>\n",
              "      <td>1.177387</td>\n",
              "      <td>3.957383</td>\n",
              "      <td>4.136731</td>\n",
              "      <td>NaN</td>\n",
              "      <td>4.026915</td>\n",
              "      <td>NaN</td>\n",
              "      <td>NaN</td>\n",
              "      <td>4.164773</td>\n",
              "      <td>4.104276</td>\n",
              "      <td>NaN</td>\n",
              "      <td>NaN</td>\n",
              "    </tr>\n",
              "  </tbody>\n",
              "</table>\n",
              "<p>100 rows × 20 columns</p>\n",
              "</div>"
            ]
          }
        }
      ],
      "source": [
        "df_view = pd.read_csv('https://raw.githubusercontent.com/guebin/DL2022/main/posts/I.%20Overview/2022-09-08-rcmd_view.csv')\n",
        "df_view"
      ],
      "id": "d405a330-e539-4f05-828f-09c63f5995f8"
    },
    {
      "cell_type": "markdown",
      "metadata": {},
      "source": [
        "## 모형\n",
        "\n",
        "(편의상 바이어스를 제외하면)\n",
        "\n",
        "`-` 특징벡터:\n",
        "\n",
        "-   유저1의 취향 = \\[커피를 좋아하는 정도, 홍차를 좋아하는 정도\\]\n",
        "-   아이템1의 특징 = \\[커피의 특징, 홍차인 특징\\]\n",
        "\n",
        "`-` 평점\n",
        "\n",
        "-   유저1이 아이템1을 먹었을경우 평점: 유저1의 취향과 아이템1의 특징의\n",
        "    내적 = (유저1의 취향 $\\odot$ 아이템1의 특징).sum()\n",
        "\n",
        "## 학습\n",
        "\n",
        "`(1)` dls"
      ],
      "id": "53d2f796-c4fd-43e2-9159-5d5583a81e59"
    },
    {
      "cell_type": "code",
      "execution_count": 48,
      "metadata": {},
      "outputs": [],
      "source": [
        "dls = CollabDataLoaders.from_df(df)"
      ],
      "id": "a6814e65-730b-4506-9c32-08727c15e357"
    },
    {
      "cell_type": "code",
      "execution_count": 49,
      "metadata": {},
      "outputs": [
        {
          "output_type": "display_data",
          "metadata": {},
          "data": {
            "text/html": [
              "<div>\n",
              "<style scoped>\n",
              "    .dataframe tbody tr th:only-of-type {\n",
              "        vertical-align: middle;\n",
              "    }\n",
              "\n",
              "    .dataframe tbody tr th {\n",
              "        vertical-align: top;\n",
              "    }\n",
              "\n",
              "    .dataframe thead th {\n",
              "        text-align: right;\n",
              "    }\n",
              "</style>\n",
              "<table border=\"1\" class=\"dataframe\">\n",
              "  <thead>\n",
              "    <tr style=\"text-align: right;\">\n",
              "      <th></th>\n",
              "      <th>user</th>\n",
              "      <th>item</th>\n",
              "      <th>rating</th>\n",
              "      <th>item_name</th>\n",
              "    </tr>\n",
              "  </thead>\n",
              "  <tbody>\n",
              "    <tr>\n",
              "      <th>961</th>\n",
              "      <td>97</td>\n",
              "      <td>4</td>\n",
              "      <td>1.085834</td>\n",
              "      <td>커피4</td>\n",
              "    </tr>\n",
              "    <tr>\n",
              "      <th>320</th>\n",
              "      <td>33</td>\n",
              "      <td>4</td>\n",
              "      <td>3.994618</td>\n",
              "      <td>커피4</td>\n",
              "    </tr>\n",
              "    <tr>\n",
              "      <th>50</th>\n",
              "      <td>6</td>\n",
              "      <td>20</td>\n",
              "      <td>1.018980</td>\n",
              "      <td>홍차10</td>\n",
              "    </tr>\n",
              "    <tr>\n",
              "      <th>743</th>\n",
              "      <td>75</td>\n",
              "      <td>13</td>\n",
              "      <td>3.745429</td>\n",
              "      <td>홍차3</td>\n",
              "    </tr>\n",
              "    <tr>\n",
              "      <th>369</th>\n",
              "      <td>37</td>\n",
              "      <td>3</td>\n",
              "      <td>4.010463</td>\n",
              "      <td>커피3</td>\n",
              "    </tr>\n",
              "    <tr>\n",
              "      <th>...</th>\n",
              "      <td>...</td>\n",
              "      <td>...</td>\n",
              "      <td>...</td>\n",
              "      <td>...</td>\n",
              "    </tr>\n",
              "    <tr>\n",
              "      <th>132</th>\n",
              "      <td>14</td>\n",
              "      <td>4</td>\n",
              "      <td>3.826174</td>\n",
              "      <td>커피4</td>\n",
              "    </tr>\n",
              "    <tr>\n",
              "      <th>613</th>\n",
              "      <td>62</td>\n",
              "      <td>5</td>\n",
              "      <td>1.257438</td>\n",
              "      <td>커피5</td>\n",
              "    </tr>\n",
              "    <tr>\n",
              "      <th>543</th>\n",
              "      <td>55</td>\n",
              "      <td>20</td>\n",
              "      <td>4.140480</td>\n",
              "      <td>홍차10</td>\n",
              "    </tr>\n",
              "    <tr>\n",
              "      <th>351</th>\n",
              "      <td>36</td>\n",
              "      <td>9</td>\n",
              "      <td>4.057546</td>\n",
              "      <td>커피9</td>\n",
              "    </tr>\n",
              "    <tr>\n",
              "      <th>432</th>\n",
              "      <td>44</td>\n",
              "      <td>11</td>\n",
              "      <td>1.374712</td>\n",
              "      <td>홍차1</td>\n",
              "    </tr>\n",
              "  </tbody>\n",
              "</table>\n",
              "<p>800 rows × 4 columns</p>\n",
              "</div>"
            ]
          }
        }
      ],
      "source": [
        "dls.items"
      ],
      "id": "d640beac-f1b1-4395-9a10-bcc98fd2bca2"
    },
    {
      "cell_type": "markdown",
      "metadata": {},
      "source": [
        "`(2)` lrnr"
      ],
      "id": "fd7247bd-1c82-490a-9984-3c283e8a3c16"
    },
    {
      "cell_type": "code",
      "execution_count": 50,
      "metadata": {},
      "outputs": [],
      "source": [
        "lrnr = collab_learner(dls,n_factors=2) # 교재에는 y_range 를 설정하도록 되어있지만 설정 안해도 적합에는 크게 상관없음.."
      ],
      "id": "eaf7a447-e2ca-45b6-aab6-c21fc849a4c4"
    },
    {
      "cell_type": "markdown",
      "metadata": {},
      "source": [
        "`(3)` fit"
      ],
      "id": "ffbbfa23-b542-4c89-954b-0eb1931c6656"
    },
    {
      "cell_type": "code",
      "execution_count": 51,
      "metadata": {},
      "outputs": [
        {
          "output_type": "display_data",
          "metadata": {},
          "data": {
            "text/html": [
              "\n",
              "<style>\n",
              "    /* Turns off some styling */\n",
              "    progress {\n",
              "        /* gets rid of default border in Firefox and Opera. */\n",
              "        border: none;\n",
              "        /* Needs to be in here for Safari polyfill so background images work as expected. */\n",
              "        background-size: auto;\n",
              "    }\n",
              "    progress:not([value]), progress:not([value])::-webkit-progress-bar {\n",
              "        background: repeating-linear-gradient(45deg, #7e7e7e, #7e7e7e 10px, #5c5c5c 10px, #5c5c5c 20px);\n",
              "    }\n",
              "    .progress-bar-interrupted, .progress-bar-interrupted::-webkit-progress-bar {\n",
              "        background: #F44336;\n",
              "    }\n",
              "</style>"
            ]
          }
        },
        {
          "output_type": "display_data",
          "metadata": {},
          "data": {
            "text/html": [
              "<table border=\"1\" class=\"dataframe\">\n",
              "  <thead>\n",
              "    <tr style=\"text-align: left;\">\n",
              "      <th>epoch</th>\n",
              "      <th>train_loss</th>\n",
              "      <th>valid_loss</th>\n",
              "      <th>time</th>\n",
              "    </tr>\n",
              "  </thead>\n",
              "  <tbody>\n",
              "    <tr>\n",
              "      <td>0</td>\n",
              "      <td>5.737049</td>\n",
              "      <td>2.797844</td>\n",
              "      <td>00:00</td>\n",
              "    </tr>\n",
              "    <tr>\n",
              "      <td>1</td>\n",
              "      <td>3.731511</td>\n",
              "      <td>2.010181</td>\n",
              "      <td>00:00</td>\n",
              "    </tr>\n",
              "    <tr>\n",
              "      <td>2</td>\n",
              "      <td>2.508080</td>\n",
              "      <td>0.507782</td>\n",
              "      <td>00:00</td>\n",
              "    </tr>\n",
              "    <tr>\n",
              "      <td>3</td>\n",
              "      <td>1.719157</td>\n",
              "      <td>0.202478</td>\n",
              "      <td>00:00</td>\n",
              "    </tr>\n",
              "    <tr>\n",
              "      <td>4</td>\n",
              "      <td>1.232710</td>\n",
              "      <td>0.094146</td>\n",
              "      <td>00:00</td>\n",
              "    </tr>\n",
              "    <tr>\n",
              "      <td>5</td>\n",
              "      <td>0.906034</td>\n",
              "      <td>0.071345</td>\n",
              "      <td>00:00</td>\n",
              "    </tr>\n",
              "    <tr>\n",
              "      <td>6</td>\n",
              "      <td>0.680708</td>\n",
              "      <td>0.064701</td>\n",
              "      <td>00:00</td>\n",
              "    </tr>\n",
              "    <tr>\n",
              "      <td>7</td>\n",
              "      <td>0.520706</td>\n",
              "      <td>0.060424</td>\n",
              "      <td>00:00</td>\n",
              "    </tr>\n",
              "    <tr>\n",
              "      <td>8</td>\n",
              "      <td>0.404349</td>\n",
              "      <td>0.059761</td>\n",
              "      <td>00:00</td>\n",
              "    </tr>\n",
              "    <tr>\n",
              "      <td>9</td>\n",
              "      <td>0.318644</td>\n",
              "      <td>0.064408</td>\n",
              "      <td>00:00</td>\n",
              "    </tr>\n",
              "  </tbody>\n",
              "</table>"
            ]
          }
        }
      ],
      "source": [
        "lrnr.fit(10,0.1)"
      ],
      "id": "ab40769e-754c-4fff-a8bc-5bafb19092dc"
    },
    {
      "cell_type": "markdown",
      "metadata": {},
      "source": [
        "`(4)` predict\n",
        "\n",
        "(적합된 값 확인)"
      ],
      "id": "2cd1a688-3d17-4646-9740-d1483fd8a6d7"
    },
    {
      "cell_type": "code",
      "execution_count": 52,
      "metadata": {},
      "outputs": [
        {
          "output_type": "display_data",
          "metadata": {},
          "data": {
            "text/html": [
              "\n",
              "<style>\n",
              "    /* Turns off some styling */\n",
              "    progress {\n",
              "        /* gets rid of default border in Firefox and Opera. */\n",
              "        border: none;\n",
              "        /* Needs to be in here for Safari polyfill so background images work as expected. */\n",
              "        background-size: auto;\n",
              "    }\n",
              "    progress:not([value]), progress:not([value])::-webkit-progress-bar {\n",
              "        background: repeating-linear-gradient(45deg, #7e7e7e, #7e7e7e 10px, #5c5c5c 10px, #5c5c5c 20px);\n",
              "    }\n",
              "    .progress-bar-interrupted, .progress-bar-interrupted::-webkit-progress-bar {\n",
              "        background: #F44336;\n",
              "    }\n",
              "</style>"
            ]
          }
        },
        {
          "output_type": "display_data",
          "metadata": {},
          "data": {
            "text/html": []
          }
        },
        {
          "output_type": "display_data",
          "metadata": {},
          "data": {
            "text/html": [
              "<table border=\"1\" class=\"dataframe\">\n",
              "  <thead>\n",
              "    <tr style=\"text-align: right;\">\n",
              "      <th></th>\n",
              "      <th>user</th>\n",
              "      <th>item</th>\n",
              "      <th>rating</th>\n",
              "      <th>rating_pred</th>\n",
              "    </tr>\n",
              "  </thead>\n",
              "  <tbody>\n",
              "    <tr>\n",
              "      <th>0</th>\n",
              "      <td>60.0</td>\n",
              "      <td>14.0</td>\n",
              "      <td>4.000825</td>\n",
              "      <td>3.871396</td>\n",
              "    </tr>\n",
              "    <tr>\n",
              "      <th>1</th>\n",
              "      <td>44.0</td>\n",
              "      <td>1.0</td>\n",
              "      <td>3.906349</td>\n",
              "      <td>3.825386</td>\n",
              "    </tr>\n",
              "    <tr>\n",
              "      <th>2</th>\n",
              "      <td>67.0</td>\n",
              "      <td>20.0</td>\n",
              "      <td>4.144467</td>\n",
              "      <td>3.897682</td>\n",
              "    </tr>\n",
              "    <tr>\n",
              "      <th>3</th>\n",
              "      <td>22.0</td>\n",
              "      <td>4.0</td>\n",
              "      <td>4.192549</td>\n",
              "      <td>3.861295</td>\n",
              "    </tr>\n",
              "    <tr>\n",
              "      <th>4</th>\n",
              "      <td>22.0</td>\n",
              "      <td>5.0</td>\n",
              "      <td>3.576439</td>\n",
              "      <td>3.764175</td>\n",
              "    </tr>\n",
              "    <tr>\n",
              "      <th>5</th>\n",
              "      <td>20.0</td>\n",
              "      <td>5.0</td>\n",
              "      <td>4.457733</td>\n",
              "      <td>3.844410</td>\n",
              "    </tr>\n",
              "    <tr>\n",
              "      <th>6</th>\n",
              "      <td>96.0</td>\n",
              "      <td>2.0</td>\n",
              "      <td>1.066144</td>\n",
              "      <td>1.056824</td>\n",
              "    </tr>\n",
              "    <tr>\n",
              "      <th>7</th>\n",
              "      <td>28.0</td>\n",
              "      <td>7.0</td>\n",
              "      <td>3.968184</td>\n",
              "      <td>4.046108</td>\n",
              "    </tr>\n",
              "    <tr>\n",
              "      <th>8</th>\n",
              "      <td>14.0</td>\n",
              "      <td>11.0</td>\n",
              "      <td>0.829723</td>\n",
              "      <td>0.991227</td>\n",
              "    </tr>\n",
              "  </tbody>\n",
              "</table>"
            ]
          }
        }
      ],
      "source": [
        "lrnr.show_results() # 누를때마다 결과다름"
      ],
      "id": "dd2a97c5-f16d-418f-ab18-4f7340a7554c"
    },
    {
      "cell_type": "markdown",
      "metadata": {},
      "source": [
        "(예측값)"
      ],
      "id": "ed9e3351-8c09-48f6-962c-28361d381587"
    },
    {
      "cell_type": "code",
      "execution_count": 53,
      "metadata": {},
      "outputs": [
        {
          "output_type": "display_data",
          "metadata": {},
          "data": {
            "text/html": [
              "<div>\n",
              "<style scoped>\n",
              "    .dataframe tbody tr th:only-of-type {\n",
              "        vertical-align: middle;\n",
              "    }\n",
              "\n",
              "    .dataframe tbody tr th {\n",
              "        vertical-align: top;\n",
              "    }\n",
              "\n",
              "    .dataframe thead th {\n",
              "        text-align: right;\n",
              "    }\n",
              "</style>\n",
              "<table border=\"1\" class=\"dataframe\">\n",
              "  <thead>\n",
              "    <tr style=\"text-align: right;\">\n",
              "      <th></th>\n",
              "      <th>user</th>\n",
              "      <th>item</th>\n",
              "    </tr>\n",
              "  </thead>\n",
              "  <tbody>\n",
              "    <tr>\n",
              "      <th>0</th>\n",
              "      <td>1</td>\n",
              "      <td>9</td>\n",
              "    </tr>\n",
              "    <tr>\n",
              "      <th>1</th>\n",
              "      <td>1</td>\n",
              "      <td>10</td>\n",
              "    </tr>\n",
              "    <tr>\n",
              "      <th>2</th>\n",
              "      <td>1</td>\n",
              "      <td>11</td>\n",
              "    </tr>\n",
              "    <tr>\n",
              "      <th>3</th>\n",
              "      <td>1</td>\n",
              "      <td>12</td>\n",
              "    </tr>\n",
              "  </tbody>\n",
              "</table>\n",
              "</div>"
            ]
          }
        }
      ],
      "source": [
        "df_new = pd.DataFrame({'user':[1,1,1,1], 'item':[9,10,11,12]})\n",
        "df_new"
      ],
      "id": "43978bfa-0470-4c1d-bc7d-1fbafc82d5dd"
    },
    {
      "cell_type": "code",
      "execution_count": 54,
      "metadata": {},
      "outputs": [
        {
          "output_type": "display_data",
          "metadata": {},
          "data": {
            "text/html": [
              "\n",
              "<style>\n",
              "    /* Turns off some styling */\n",
              "    progress {\n",
              "        /* gets rid of default border in Firefox and Opera. */\n",
              "        border: none;\n",
              "        /* Needs to be in here for Safari polyfill so background images work as expected. */\n",
              "        background-size: auto;\n",
              "    }\n",
              "    progress:not([value]), progress:not([value])::-webkit-progress-bar {\n",
              "        background: repeating-linear-gradient(45deg, #7e7e7e, #7e7e7e 10px, #5c5c5c 10px, #5c5c5c 20px);\n",
              "    }\n",
              "    .progress-bar-interrupted, .progress-bar-interrupted::-webkit-progress-bar {\n",
              "        background: #F44336;\n",
              "    }\n",
              "</style>"
            ]
          }
        },
        {
          "output_type": "display_data",
          "metadata": {},
          "data": {
            "text/html": []
          }
        },
        {
          "output_type": "display_data",
          "metadata": {},
          "data": {
            "text/plain": [
              "(tensor([3.9138, 3.9825, 0.9447, 0.8223]), None)"
            ]
          }
        }
      ],
      "source": [
        "lrnr.get_preds(dl=dls.test_dl(df_new))"
      ],
      "id": "36c758c1-7bcd-4829-8db0-fca06ca6857b"
    }
  ],
  "nbformat": 4,
  "nbformat_minor": 5,
  "metadata": {
    "kernelspec": {
      "name": "python3",
      "display_name": "Python 3",
      "language": "python"
    },
    "language_info": {
      "name": "python",
      "codemirror_mode": {
        "name": "ipython",
        "version": "3"
      },
      "file_extension": ".py",
      "mimetype": "text/x-python",
      "nbconvert_exporter": "python",
      "pygments_lexer": "ipython3",
      "version": "3.7.13"
    }
  }
}