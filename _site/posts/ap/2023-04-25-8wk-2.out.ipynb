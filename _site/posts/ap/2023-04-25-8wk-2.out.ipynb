{
  "cells": [
    {
      "cell_type": "markdown",
      "metadata": {},
      "source": [
        "# 08wk-2: 마코프체인 (5)\n",
        "\n",
        "최규빈  \n",
        "4/25/23\n",
        "\n",
        "# 강의영상\n",
        "\n",
        "> youtube:\n",
        "> <https://youtube.com/playlist?list=PLQqh36zP38-zHbA2xrF58wfGjzkhNzxnL>\n",
        "\n",
        "# import"
      ],
      "id": "00d88b78-5226-4779-9f0c-b6b06b501869"
    },
    {
      "cell_type": "code",
      "execution_count": 1,
      "metadata": {},
      "outputs": [],
      "source": [
        "import numpy as np"
      ],
      "id": "a76962ed-030e-410c-841a-ed84ce579289"
    },
    {
      "cell_type": "markdown",
      "metadata": {},
      "source": [
        "# review\n",
        "\n",
        "`-` 지난시간 복습\n",
        "\n",
        "|                 | 특징1(수렴) | 특징2(동일row) | 특징3(정상분포) | 특징4(정상과정) |\n",
        "|:---------------:|:-----------:|:--------------:|:---------------:|:---------------:|\n",
        "|  예시1(나이스)  |      O      |       O        |  존재O, 유일O   |        O        |\n",
        "|  예시2(나이스)  |      O      |       O        |  존재O, 유일O   |        O        |\n",
        "|   예시3(흡수)   |      O      |       O        |  존재O, 유일O   |        O        |\n",
        "| 예시4(단위행렬) |      O      |       X        |  존재O, 유일X   |        O        |\n",
        "|   예시5(주기)   |      X      |       NA       |  존재O, 유일O   |        O        |\n",
        "\n",
        "`-` 목표: 예시4와 예시5를 좀 더 공부해보자.\n",
        "\n",
        "# irreducible\n",
        "\n",
        "## Motivating Examples\n",
        "\n",
        "### 예제1\n",
        "\n",
        "`-` 아래의 전이확률을 고려하자."
      ],
      "id": "5b9db23c-8556-4689-ba3f-2c5af76f85a8"
    },
    {
      "cell_type": "code",
      "execution_count": 2,
      "metadata": {},
      "outputs": [
        {
          "output_type": "display_data",
          "metadata": {},
          "data": {
            "text/plain": [
              "array([[0.5, 0.5, 0. , 0. ],\n",
              "       [0.5, 0.5, 0. , 0. ],\n",
              "       [0. , 0. , 0.5, 0.5],\n",
              "       [0. , 0. , 0.5, 0.5]])"
            ]
          }
        }
      ],
      "source": [
        "P =np.array([0.5, 0.5, 0.0, 0.0, \n",
        "             0.5, 0.5, 0.0, 0.0,\n",
        "             0.0, 0.0, 0.5, 0.5,\n",
        "             0.0, 0.0, 0.5, 0.5]).reshape(4,4)\n",
        "P"
      ],
      "id": "52a1707b-8e39-4d3f-ae90-32b617045598"
    },
    {
      "cell_type": "markdown",
      "metadata": {},
      "source": [
        "`-` 특징1: ${\\bf P}$는 수렴함"
      ],
      "id": "ead215c7-4ba6-44af-8a48-d0b97cc7603d"
    },
    {
      "cell_type": "code",
      "execution_count": 5,
      "metadata": {},
      "outputs": [
        {
          "output_type": "display_data",
          "metadata": {},
          "data": {
            "text/plain": [
              "array([[0.5, 0.5, 0. , 0. ],\n",
              "       [0.5, 0.5, 0. , 0. ],\n",
              "       [0. , 0. , 0.5, 0.5],\n",
              "       [0. , 0. , 0.5, 0.5]])"
            ]
          }
        }
      ],
      "source": [
        "P@P@P"
      ],
      "id": "1f4fb7ba-b223-472f-b86e-4ceef10a7182"
    },
    {
      "cell_type": "markdown",
      "metadata": {},
      "source": [
        "`-` 특징2: 모든 row가 같은건 아님\n",
        "\n",
        "`-` 특징3: 정상분포는 유일하게 존재하지 않음"
      ],
      "id": "0b4433bd-3e77-49f0-a5b7-3b3c0ca8a16f"
    },
    {
      "cell_type": "code",
      "execution_count": 8,
      "metadata": {},
      "outputs": [
        {
          "output_type": "display_data",
          "metadata": {},
          "data": {
            "text/plain": [
              "array([[0.25],\n",
              "       [0.25],\n",
              "       [0.25],\n",
              "       [0.25]])"
            ]
          }
        }
      ],
      "source": [
        "π = np.array([1/4, 1/4, 1/4, 1/4]).reshape(4,1)\n",
        "π"
      ],
      "id": "7d401a19-15fc-4f97-bda1-2fb741e4a0bc"
    },
    {
      "cell_type": "code",
      "execution_count": 10,
      "metadata": {},
      "outputs": [
        {
          "output_type": "display_data",
          "metadata": {},
          "data": {
            "text/plain": [
              "(array([[0.25, 0.25, 0.25, 0.25]]), array([[0.25, 0.25, 0.25, 0.25]]))"
            ]
          }
        }
      ],
      "source": [
        "π.T @ P, π.T "
      ],
      "id": "aa27097a-3223-4915-8f90-8263538d6f6c"
    },
    {
      "cell_type": "code",
      "execution_count": 11,
      "metadata": {},
      "outputs": [
        {
          "output_type": "display_data",
          "metadata": {},
          "data": {
            "text/plain": [
              "array([[0.5],\n",
              "       [0.5],\n",
              "       [0. ],\n",
              "       [0. ]])"
            ]
          }
        }
      ],
      "source": [
        "π = np.array([1/2, 1/2, 0, 0]).reshape(4,1)\n",
        "π"
      ],
      "id": "22d31b72-ff61-4d44-a518-43e235f568f7"
    },
    {
      "cell_type": "code",
      "execution_count": 13,
      "metadata": {},
      "outputs": [
        {
          "output_type": "display_data",
          "metadata": {},
          "data": {
            "text/plain": [
              "(array([[0.5, 0.5, 0. , 0. ]]), array([[0.5, 0.5, 0. , 0. ]]))"
            ]
          }
        }
      ],
      "source": [
        "π.T @ P, π.T "
      ],
      "id": "9821cd67-e77e-4b2b-ba71-a304be4d8228"
    },
    {
      "cell_type": "code",
      "execution_count": 14,
      "metadata": {},
      "outputs": [
        {
          "output_type": "display_data",
          "metadata": {},
          "data": {
            "text/plain": [
              "array([[0.16666667],\n",
              "       [0.16666667],\n",
              "       [0.33333333],\n",
              "       [0.33333333]])"
            ]
          }
        }
      ],
      "source": [
        "π = np.array([1/6, 1/6, 2/6, 2/6]).reshape(4,1)\n",
        "π"
      ],
      "id": "901a4a0c-37c0-4c45-9af6-5e9e78bb14d7"
    },
    {
      "cell_type": "code",
      "execution_count": 15,
      "metadata": {},
      "outputs": [
        {
          "output_type": "display_data",
          "metadata": {},
          "data": {
            "text/plain": [
              "(array([[0.16666667, 0.16666667, 0.33333333, 0.33333333]]),\n",
              " array([[0.16666667, 0.16666667, 0.33333333, 0.33333333]]))"
            ]
          }
        }
      ],
      "source": [
        "π.T @ P, π.T "
      ],
      "id": "7cc7b999-6a45-4513-bb85-a59c7f21f379"
    },
    {
      "cell_type": "markdown",
      "metadata": {},
      "source": [
        "`-` 특징4: 초기분포가 정상분포라면 정상확률과정\n",
        "\n",
        "`-` 특징5: 상태공간 $E$ 에 equivalence class 가 2개 있는 느낌\n",
        "\n",
        "### 예제2\n",
        "\n",
        "`-` 아래의 전이확률을 고려하자."
      ],
      "id": "ea81bea6-7c15-495b-b300-215b525cee03"
    },
    {
      "cell_type": "code",
      "execution_count": 18,
      "metadata": {},
      "outputs": [
        {
          "output_type": "display_data",
          "metadata": {},
          "data": {
            "text/plain": [
              "array([[0.25, 0.25, 0.  , 0.5 ],\n",
              "       [0.25, 0.25, 0.  , 0.5 ],\n",
              "       [0.  , 0.  , 1.  , 0.  ],\n",
              "       [0.5 , 0.25, 0.  , 0.25]])"
            ]
          }
        }
      ],
      "source": [
        "P =np.array([1/4, 1/4, 0.0, 1/2, \n",
        "             1/4, 1/4, 0.0, 1/2,\n",
        "             0.0, 0.0, 1.0, 0.0,\n",
        "             1/2, 1/4, 0.0, 1/4]).reshape(4,4)\n",
        "P"
      ],
      "id": "15d76b38-5c0a-4b62-b312-1fd28f757325"
    },
    {
      "cell_type": "markdown",
      "metadata": {},
      "source": [
        "`-` 특징1: ${\\bf P}$는 수렴함"
      ],
      "id": "d020cf64-9193-4570-af51-e6a4eb137d47"
    },
    {
      "cell_type": "code",
      "execution_count": 23,
      "metadata": {},
      "outputs": [
        {
          "output_type": "display_data",
          "metadata": {},
          "data": {
            "text/plain": [
              "matrix([[0.35, 0.25, 0.  , 0.4 ],\n",
              "        [0.35, 0.25, 0.  , 0.4 ],\n",
              "        [0.  , 0.  , 1.  , 0.  ],\n",
              "        [0.35, 0.25, 0.  , 0.4 ]])"
            ]
          }
        }
      ],
      "source": [
        "np.matrix(P)**500"
      ],
      "id": "68e2291c-76c8-49b8-839a-0728e116d493"
    },
    {
      "cell_type": "markdown",
      "metadata": {},
      "source": [
        "`-` 특징2: 모든 row가 같지는 않음\n",
        "\n",
        "`-` 특징3: 유일한 정상분포를 가지는건 아님"
      ],
      "id": "e7cc9ff4-b8fd-4597-9206-9c234b64bb86"
    },
    {
      "cell_type": "code",
      "execution_count": 31,
      "metadata": {},
      "outputs": [
        {
          "output_type": "display_data",
          "metadata": {},
          "data": {
            "text/plain": [
              "array([[0.07],\n",
              "       [0.05],\n",
              "       [0.8 ],\n",
              "       [0.08]])"
            ]
          }
        }
      ],
      "source": [
        "c1 = 0.2 # 상태 0,1,3 \n",
        "c2 = 0.8 # 상태 2 \n",
        "π = np.array([0.35*c1, 0.25*c1, 1.0*c2 ,0.4*c1]).reshape(4,1)\n",
        "π"
      ],
      "id": "ba17b4f3-ef90-4c19-972f-0fc36e3e4ec5"
    },
    {
      "cell_type": "code",
      "execution_count": 32,
      "metadata": {},
      "outputs": [
        {
          "output_type": "display_data",
          "metadata": {},
          "data": {
            "text/plain": [
              "(array([[0.07, 0.05, 0.8 , 0.08]]), array([[0.07, 0.05, 0.8 , 0.08]]))"
            ]
          }
        }
      ],
      "source": [
        "π.T @ P, π.T "
      ],
      "id": "33ff8062-4087-41e7-b88c-25ca67e3583f"
    },
    {
      "cell_type": "markdown",
      "metadata": {},
      "source": [
        "`-` 특징4: 초기분포가 정상분포라면 정상확률과정\n",
        "\n",
        "`-` 특징5: 상태공간 $E$에 equivalence class 가 2개 있는 느낌\n",
        "\n",
        "## 정의 및 이론\n",
        "\n",
        "`-` **용어**\n",
        "\n",
        "-   irreducible (기약) // reducible (비기약)\n",
        "-   (strongly) connected\n",
        "\n",
        "`-` **정의**\n",
        "\n",
        "`-` **느낌**\n",
        "\n",
        "-   연결되어있는 느낌. 즉 모든 $x,y \\in E$에 대하여 $x\\to \\cdots \\to y$\n",
        "    인 path 나 $y \\to \\cdots \\to x$ 인 path 가 존재함\n",
        "-   겉도는 그룹이 없음 (상태공간 $E$에 단 하나의 equivalence class가\n",
        "    존재함)\n",
        "\n",
        "`-` **Thm**: HMC $\\{X_t\\}$ 가 (1) finite state space 를 가지고 (2)\n",
        "irreducible 이라면 $\\{X_t\\}$의 유일한 정상분포 ${\\boldsymbol \\pi}$가\n",
        "존재하며 모든 state에 대한 확률은 양수이다.\n",
        "\n",
        "# aperiodic\n",
        "\n",
        "## Motivating Examples\n",
        "\n",
        "### 예제1\n",
        "\n",
        "`-` 아래와 같은 전이확률을 고려하자."
      ],
      "id": "1c4b35a9-7400-4a24-b368-a04b6ad8db0f"
    },
    {
      "cell_type": "code",
      "execution_count": 33,
      "metadata": {},
      "outputs": [
        {
          "output_type": "display_data",
          "metadata": {},
          "data": {
            "text/plain": [
              "array([[0., 1., 0.],\n",
              "       [0., 0., 1.],\n",
              "       [1., 0., 0.]])"
            ]
          }
        }
      ],
      "source": [
        "P = np.array([0.0, 1.0, 0.0,\n",
        "              0.0, 0.0, 1.0,\n",
        "              1.0, 0.0, 0.0]).reshape(3,3)\n",
        "P"
      ],
      "id": "4d72151e-ff3d-471d-aad0-9e8acd4d8d11"
    },
    {
      "cell_type": "markdown",
      "metadata": {},
      "source": [
        "`-` 다이어그램"
      ],
      "id": "69ceb311-341a-4307-847e-3cf2fb4a7ec0"
    },
    {
      "cell_type": "code",
      "execution_count": null,
      "metadata": {},
      "outputs": [
        {
          "output_type": "display_data",
          "metadata": {},
          "data": {
            "text/html": [
              "</p>"
            ]
          }
        }
      ],
      "source": [],
      "id": "5c728b51-a412-4141-8b96-9bc4d570d0d3"
    },
    {
      "cell_type": "markdown",
      "metadata": {},
      "source": [
        "`-` 특징1: ${\\bf P}$는 수렴안함"
      ],
      "id": "122b5391-2df4-44d1-b76d-795410907722"
    },
    {
      "cell_type": "code",
      "execution_count": 40,
      "metadata": {},
      "outputs": [
        {
          "output_type": "display_data",
          "metadata": {},
          "data": {
            "text/plain": [
              "array([[1., 0., 0.],\n",
              "       [0., 1., 0.],\n",
              "       [0., 0., 1.]])"
            ]
          }
        }
      ],
      "source": [
        "P@P@P"
      ],
      "id": "86e8cfe2-f1f8-4c78-8675-819e4d50b753"
    },
    {
      "cell_type": "markdown",
      "metadata": {},
      "source": [
        "`-` 특징2:\n",
        "\n",
        "`-` 특징3: 정상분포는 유일하게 존재함."
      ],
      "id": "249978c1-77e2-4211-bcbc-833948527f44"
    },
    {
      "cell_type": "code",
      "execution_count": 41,
      "metadata": {},
      "outputs": [
        {
          "output_type": "display_data",
          "metadata": {},
          "data": {
            "text/plain": [
              "array([[0.33333333],\n",
              "       [0.33333333],\n",
              "       [0.33333333]])"
            ]
          }
        }
      ],
      "source": [
        "π = np.array([1/3,1/3,1/3]).reshape(3,1)\n",
        "π"
      ],
      "id": "788c0624-3f9c-4dde-8099-4b395958fcf6"
    },
    {
      "cell_type": "code",
      "execution_count": 42,
      "metadata": {},
      "outputs": [
        {
          "output_type": "display_data",
          "metadata": {},
          "data": {
            "text/plain": [
              "(array([[0.33333333, 0.33333333, 0.33333333]]),\n",
              " array([[0.33333333, 0.33333333, 0.33333333]]))"
            ]
          }
        }
      ],
      "source": [
        "π.T @ P, π.T"
      ],
      "id": "88c09181-c7da-4b84-95c2-5ad99d242610"
    },
    {
      "cell_type": "markdown",
      "metadata": {},
      "source": [
        "`-` 특징4: 초기분포가 정상분포라면 정상확률과정\n",
        "\n",
        "`-` 특징5: 상태공간 $E$에 equivalence class 가 1개\n",
        "\n",
        "`-` 특징6: 주기성을 가짐 (주기는 3)\n",
        "\n",
        "-   관찰: 어떠한 상태 $x \\in E$ 에 있더라도 반드시 3번 안에는 원래\n",
        "    상태로 되돌아옴.\n",
        "\n",
        "### 예제2\n",
        "\n",
        "`-` 아래와 같은 전이확률을 고려하자."
      ],
      "id": "3dd64ffb-01ca-4375-8c1c-6a3b5391820d"
    },
    {
      "cell_type": "code",
      "execution_count": 44,
      "metadata": {},
      "outputs": [
        {
          "output_type": "display_data",
          "metadata": {},
          "data": {
            "text/plain": [
              "array([[0.        , 1.        , 0.        , 0.        ],\n",
              "       [0.        , 0.        , 0.        , 1.        ],\n",
              "       [0.        , 1.        , 0.        , 0.        ],\n",
              "       [0.33333333, 0.        , 0.66666667, 0.        ]])"
            ]
          }
        }
      ],
      "source": [
        "P = np.array([0.0, 1.0, 0.0, 0.0,\n",
        "              0.0, 0.0, 0.0, 1.0,\n",
        "              0.0, 1.0, 0.0, 0.0,\n",
        "              1/3, 0.0, 2/3, 0.0]).reshape(4,4)\n",
        "P"
      ],
      "id": "1537c1a3-d2c9-42dc-9578-9c723e5ae698"
    },
    {
      "cell_type": "markdown",
      "metadata": {},
      "source": [
        "`-` 다이어그램"
      ],
      "id": "78aa5c71-6f77-4733-94bf-90c8f01d2609"
    },
    {
      "cell_type": "code",
      "execution_count": null,
      "metadata": {},
      "outputs": [
        {
          "output_type": "display_data",
          "metadata": {},
          "data": {
            "text/html": [
              "</p>"
            ]
          }
        }
      ],
      "source": [],
      "id": "9495db63-6ac2-46c6-83c5-536f1de2a335"
    },
    {
      "cell_type": "markdown",
      "metadata": {},
      "source": [
        "`-` 특징1: ${\\bf P}$는 수렴안함"
      ],
      "id": "35b16e92-d6d8-44b0-93cc-0db09ceb621c"
    },
    {
      "cell_type": "code",
      "execution_count": 52,
      "metadata": {},
      "outputs": [
        {
          "output_type": "display_data",
          "metadata": {},
          "data": {
            "text/plain": [
              "array([[0.        , 1.        , 0.        , 0.        ],\n",
              "       [0.        , 0.        , 0.        , 1.        ],\n",
              "       [0.        , 1.        , 0.        , 0.        ],\n",
              "       [0.33333333, 0.        , 0.66666667, 0.        ]])"
            ]
          }
        }
      ],
      "source": [
        "P@P@P@P"
      ],
      "id": "91379565-bc31-4ca9-b48c-6c4fb90fa13d"
    },
    {
      "cell_type": "markdown",
      "metadata": {},
      "source": [
        "`-` 특징2: Pass\n",
        "\n",
        "`-` 특징3: 정상분포는 유일하게 존재함."
      ],
      "id": "fc1e72bd-3f7d-4e17-a21d-46d02799048e"
    },
    {
      "cell_type": "code",
      "execution_count": 54,
      "metadata": {},
      "outputs": [
        {
          "output_type": "display_data",
          "metadata": {},
          "data": {
            "text/plain": [
              "array([[0.11111111],\n",
              "       [0.33333333],\n",
              "       [0.22222222],\n",
              "       [0.33333333]])"
            ]
          }
        }
      ],
      "source": [
        "π = (np.array([1,3,2,3])/9).reshape(4,1)\n",
        "π"
      ],
      "id": "35e6bbb2-fc94-415d-9280-744b1ad3bfaa"
    },
    {
      "cell_type": "code",
      "execution_count": 56,
      "metadata": {},
      "outputs": [
        {
          "output_type": "display_data",
          "metadata": {},
          "data": {
            "text/plain": [
              "(array([[0.11111111, 0.33333333, 0.22222222, 0.33333333]]),\n",
              " array([[0.11111111, 0.33333333, 0.22222222, 0.33333333]]))"
            ]
          }
        }
      ],
      "source": [
        "π.T @ P, π.T "
      ],
      "id": "65d43702-0a48-4e79-b392-2bbac26febcf"
    },
    {
      "cell_type": "markdown",
      "metadata": {},
      "source": [
        "**어떻게 찾음?**"
      ],
      "id": "fb6cbb17-9beb-4207-aeb4-468e8bb9315a"
    },
    {
      "cell_type": "code",
      "execution_count": 60,
      "metadata": {},
      "outputs": [],
      "source": [
        "eig_value, eig_vector_matrix = np.linalg.eig(P.T)"
      ],
      "id": "9b02c53f-7237-4135-8972-86b01ccdb4bf"
    },
    {
      "cell_type": "code",
      "execution_count": 64,
      "metadata": {},
      "outputs": [
        {
          "output_type": "display_data",
          "metadata": {},
          "data": {
            "text/plain": [
              "(1.000000000000001+0j)"
            ]
          }
        }
      ],
      "source": [
        "eig_value[2]"
      ],
      "id": "3518d6a6-bb2d-4228-b661-6e5ae863ac30"
    },
    {
      "cell_type": "code",
      "execution_count": 69,
      "metadata": {},
      "outputs": [
        {
          "output_type": "display_data",
          "metadata": {},
          "data": {
            "text/plain": [
              "array([0.11111111, 0.33333333, 0.22222222, 0.33333333])"
            ]
          }
        }
      ],
      "source": [
        "π = abs(eig_vector_matrix[:,2])\n",
        "π = π/π.sum()\n",
        "π"
      ],
      "id": "6aa9fda3-372e-477f-9cb4-a6a99072cf11"
    },
    {
      "cell_type": "markdown",
      "metadata": {},
      "source": [
        "`-` 특징4: 초기분포가 정상분포라면 정상확률과정\n",
        "\n",
        "`-` 특징5: irr\n",
        "\n",
        "`-` 특징6: 주기성을 가짐 (주기는3)"
      ],
      "id": "626eca37-8af2-4f67-bebd-b190d334eb74"
    },
    {
      "cell_type": "code",
      "execution_count": null,
      "metadata": {},
      "outputs": [
        {
          "output_type": "display_data",
          "metadata": {},
          "data": {
            "text/html": [
              "</p>"
            ]
          }
        }
      ],
      "source": [],
      "id": "ca23e7ef-5299-4220-8c19-08d8a124b387"
    },
    {
      "cell_type": "markdown",
      "metadata": {},
      "source": [
        "**0에서 시작한다면?**\n",
        "\n",
        "-   $0 \\to 1 \\to 3 \\to 0$\n",
        "-   $0 \\to 1 \\to 3 \\to 2 \\to 1 \\to 3 \\to 0$\n",
        "-   $0 \\to 1 \\to 3 \\to 2 \\to 1 \\to 3 \\to 2 \\to \\cdots$\n",
        "\n",
        "> 3번만에 되돌아오거나, 6번만에 되돌아오거나, 9번만에 되돌아오거나 …\n",
        "> $\\Rightarrow$ 주기는 3 (3,6,9의 최대공약수는 3)\n",
        "\n",
        "**1에서 시작한다면?**\n",
        "\n",
        "-   $1 \\to 3 \\to 0 \\to 1$\n",
        "-   $1 \\to 3 \\to 2 \\to 1 \\to 3 \\to 0 \\to 1$\n",
        "-   $\\dots$\n",
        "\n",
        "**2에서 시작한다면?**\n",
        "\n",
        "**3에서 시작한다면?**\n",
        "\n",
        "> 꿀팁: HMC $\\{X_t\\}$가 irreducible 이라면 모든 $x \\in E$ 는 같은 주기를\n",
        "> 가진다."
      ],
      "id": "3c609433-db96-4d0e-be5e-061b1a2ba35a"
    }
  ],
  "nbformat": 4,
  "nbformat_minor": 5,
  "metadata": {
    "kernelspec": {
      "name": "python3",
      "display_name": "Python 3",
      "language": "python"
    },
    "language_info": {
      "name": "python",
      "codemirror_mode": {
        "name": "ipython",
        "version": "3"
      },
      "file_extension": ".py",
      "mimetype": "text/x-python",
      "nbconvert_exporter": "python",
      "pygments_lexer": "ipython3",
      "version": "3.8.16"
    }
  }
}