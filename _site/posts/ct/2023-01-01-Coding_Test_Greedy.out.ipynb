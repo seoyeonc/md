{
  "cells": [
    {
      "cell_type": "markdown",
      "metadata": {},
      "source": [
        "# Chapter 03 Greedy\n",
        "\n",
        "SEOYEON CHOI  \n",
        "1/1/23\n",
        "\n",
        "> 그리디; 현재 상황에서 가장 좋아 보이는 것만을 선택하는 알고리즘 \\~\n",
        "> 탐욕법\n",
        "\n",
        "## Example 거스름돈\n",
        "\n",
        "당신은 음식점의 계산을 도와주는 점원이다. 카운터에는 거스름돈으로 사용할\n",
        "500원, 100원, 50원, 10원짜리 동전이 무한히 존재한다고 가정한다. 손님에게\n",
        "거슬러 줘야 할 돈이 N원일 때 거슬러 줘야 할 동전의 최소 개수를 구하라.\n",
        "단, 거슬러 줘야 할 돈 N은 항상 10의 배수이다.\n",
        "\n",
        "**해설**\n",
        "\n",
        "-   최소 동전 개수 $\\to$ ‘가장 큰 화폐 단위부터’ 돈을 거슬러 주는 것\n",
        "\n",
        "이 예제가 그리디 알고리즘이 가능한 이유\n",
        "\n",
        "-   가지고 있는 동전 중에서 큰 단위가 항상 작은 단위의 배수이므로 작은\n",
        "    단위의 동전들을 종합해 다른 해가 나올 수 없기 때문이다.\n",
        "\n",
        "-   대부분의 그리디 알고리즘 문제에서는 이처럼 문제 풀이를 위한 최소한의\n",
        "    아이디어를 떠올리고 이것이 정당한지 검토할 수 있어야 답을 도출할 수\n",
        "    있다.\n",
        "\n",
        "### Answer"
      ],
      "id": "b91f565b-9366-406f-bcfe-9ba601faedf0"
    },
    {
      "cell_type": "code",
      "execution_count": 38,
      "metadata": {},
      "outputs": [
        {
          "output_type": "stream",
          "name": "stdout",
          "text": [
            "6"
          ]
        }
      ],
      "source": [
        "n = 1260\n",
        "count = 0\n",
        "\n",
        "# 큰 단위 화폐부터 차례대로 확인\n",
        "coin_types = [500, 100, 50, 10]\n",
        "\n",
        "for coin in coin_types:\n",
        "    count += n // coin # 해당 화폐로 거슬러 줄 수 있는 동전의 개수 세기\n",
        "    n %= coin\n",
        "    \n",
        "print(count)"
      ],
      "id": "38cf779d-397e-4e45-964e-e930bdcd2a2a"
    },
    {
      "cell_type": "markdown",
      "metadata": {},
      "source": [
        "### step"
      ],
      "id": "9f96221e-2033-4d67-bd07-b888ec820e27"
    },
    {
      "cell_type": "code",
      "execution_count": 28,
      "metadata": {},
      "outputs": [
        {
          "output_type": "display_data",
          "metadata": {},
          "data": {
            "text/plain": [
              "0"
            ]
          }
        }
      ],
      "source": [
        "count = 0;count"
      ],
      "id": "f02eeb77-5b45-4efb-99a2-17e3e0f12dc1"
    },
    {
      "cell_type": "code",
      "execution_count": 29,
      "metadata": {},
      "outputs": [
        {
          "output_type": "display_data",
          "metadata": {},
          "data": {
            "text/plain": [
              "1260"
            ]
          }
        }
      ],
      "source": [
        "n = 1260;n"
      ],
      "id": "6a90f3a5-10b7-4699-9d91-2b3b010846bb"
    },
    {
      "cell_type": "code",
      "execution_count": 30,
      "metadata": {},
      "outputs": [
        {
          "output_type": "display_data",
          "metadata": {},
          "data": {
            "text/plain": [
              "2"
            ]
          }
        }
      ],
      "source": [
        "count = count + n//500;count"
      ],
      "id": "0ea7206c-8d98-46d3-a53e-d5cd012d076c"
    },
    {
      "cell_type": "code",
      "execution_count": 31,
      "metadata": {},
      "outputs": [
        {
          "output_type": "display_data",
          "metadata": {},
          "data": {
            "text/plain": [
              "260"
            ]
          }
        }
      ],
      "source": [
        "n %= 500;n"
      ],
      "id": "efd1c77e-f643-4574-8d00-6be1c60ee4d6"
    },
    {
      "cell_type": "code",
      "execution_count": 32,
      "metadata": {},
      "outputs": [
        {
          "output_type": "display_data",
          "metadata": {},
          "data": {
            "text/plain": [
              "4"
            ]
          }
        }
      ],
      "source": [
        "count = count + n//100;count"
      ],
      "id": "538aa16f-b12e-443a-b52c-e25827663f3c"
    },
    {
      "cell_type": "code",
      "execution_count": 33,
      "metadata": {},
      "outputs": [
        {
          "output_type": "display_data",
          "metadata": {},
          "data": {
            "text/plain": [
              "60"
            ]
          }
        }
      ],
      "source": [
        "n %= 100 ; n"
      ],
      "id": "7ec173e1-6bef-4749-bdfa-b024a388b31b"
    },
    {
      "cell_type": "code",
      "execution_count": 34,
      "metadata": {},
      "outputs": [
        {
          "output_type": "display_data",
          "metadata": {},
          "data": {
            "text/plain": [
              "5"
            ]
          }
        }
      ],
      "source": [
        "count = count + n//50;count"
      ],
      "id": "4267e7d7-4eb7-4c2b-9164-92998f42a793"
    },
    {
      "cell_type": "code",
      "execution_count": 35,
      "metadata": {},
      "outputs": [
        {
          "output_type": "display_data",
          "metadata": {},
          "data": {
            "text/plain": [
              "10"
            ]
          }
        }
      ],
      "source": [
        "n %= 50 ; n"
      ],
      "id": "33120396-d136-45d0-a75d-2473106923cb"
    },
    {
      "cell_type": "code",
      "execution_count": 36,
      "metadata": {},
      "outputs": [
        {
          "output_type": "display_data",
          "metadata": {},
          "data": {
            "text/plain": [
              "6"
            ]
          }
        }
      ],
      "source": [
        "count = count + n//10;count"
      ],
      "id": "e848b8fe-d0a6-4319-b5c5-0023a5d8fe67"
    },
    {
      "cell_type": "code",
      "execution_count": 37,
      "metadata": {},
      "outputs": [
        {
          "output_type": "display_data",
          "metadata": {},
          "data": {
            "text/plain": [
              "0"
            ]
          }
        }
      ],
      "source": [
        "n %= 10;n"
      ],
      "id": "a62111fc-7242-408b-a1f6-fbe366a5f375"
    },
    {
      "cell_type": "markdown",
      "metadata": {},
      "source": [
        "## 큰 수의 법칙\n",
        "\n",
        "’큰 수의 법칙’은 일반적으로 통계 분야에서 다루어지는 내용이지만 동빈이는\n",
        "본인만의 방식으로 다르게 사용하고 있다. 동빈이의 큰 수의 법칙은 다양한\n",
        "수로 이루어진 배열이 있을 때 주어진 수들을 M번 더하여 가장 큰 수를\n",
        "만드는 법칙이다. 단 배열의 특정한 인덱스(번호)에 해당하는 수가 연속해서\n",
        "K번 초과하여 더해질 수 없는 것이 이 법칙의 특징이다.\n",
        "\n",
        "배열의 크기 N, 숫자가 더해지는 횟수 M, 그리고 K가 주어질 떄 동빈이의 큰\n",
        "수의 법칙에 따른 결과를 출력하시오.\n",
        "\n",
        "입력 조건\n",
        "\n",
        "-   첫쨰 줄에\n",
        "    $N(2\\le N \\le 1,000), M(1 \\le M \\le 10,000), K(1 \\le K \\le 10,000)$의\n",
        "    자연수가 주어지며, 각 자연수는 공백으로 구분한다.\n",
        "\n",
        "-   둘째 줄에 N개의 자연수가 주어진다. 각 자연수는 공백으로 구분한다.\n",
        "    단, 각각의 자연수는 1 이상 10,000 이하의 수로 주어진다.\n",
        "\n",
        "-   입력으로 주어지는 K는 항상 M보다 작거나 같다.\n",
        "\n",
        "출력 조건\n",
        "\n",
        "-   첫째 줄에 동빈이의 큰 수의 법칙에 따라 더해진 답을 출력한다.\n",
        "\n",
        "**해설**\n",
        "\n",
        "-   ’가장 큰 수를 K번 더하고 두 번째로 큰 수를 한 번 더하는 연산’을 반복\n",
        "\n",
        "-   반복되는 수열에 대해서 파악하기\n",
        "\n",
        "가장 큰 수가 더해지는 횟수 $$int(M / (K + 1)) * K + M \\% (K + 1)$$\n",
        "\n",
        "### Answer 1"
      ],
      "id": "2b525554-d8fa-4896-8234-74fd023ac249"
    },
    {
      "cell_type": "code",
      "execution_count": 43,
      "metadata": {},
      "outputs": [
        {
          "output_type": "stream",
          "name": "stdout",
          "text": [
            "46"
          ]
        }
      ],
      "source": [
        "# N, M, K를 공백으로 구분하여 입력받기\n",
        "n, m, k = map(int, input().split())\n",
        "# N개의 수를 공백으로 구분하여 입력받기\n",
        "data = list(map(int, input().split()))\n",
        "\n",
        "data.sort() # 입력받은 수들 정렬하기\n",
        "first = data[n - 1] # 가장 큰 수\n",
        "second = data[n - 2] # 두 번째로 큰 수\n",
        "\n",
        "result = 0\n",
        "\n",
        "while True:\n",
        "    for i in range(k): # 가장 큰 수를  K번 더하기\n",
        "        if m == 0: # m이 0이라면 반복문 탈출\n",
        "            break\n",
        "        result += first\n",
        "        m -= 1 # 더할 때마다 1씩 빼기\n",
        "    if m == 0: # m이 0이라면 반복문 탈출\n",
        "        break\n",
        "    result += second # 두 번째로 큰 수를 한 번 더하기\n",
        "    m -= 1 # 더할 떄마다 1씩 빼기\n",
        "    \n",
        "print(result)"
      ],
      "id": "da11dd19-c968-4510-a9e2-f6ec736927c7"
    },
    {
      "cell_type": "markdown",
      "metadata": {},
      "source": [
        "### step"
      ],
      "id": "efbb0df5-afee-40c5-a232-7e61f86fd47d"
    },
    {
      "cell_type": "code",
      "execution_count": 63,
      "metadata": {},
      "outputs": [],
      "source": [
        "n, m, k = map(int, input().split())"
      ],
      "id": "4c7fe11c-7fb0-45d3-8cf6-0161571538d2"
    },
    {
      "cell_type": "code",
      "execution_count": 64,
      "metadata": {},
      "outputs": [],
      "source": [
        "data = list(map(int, input().split()))"
      ],
      "id": "680dc422-4253-4921-a978-2d97eb63f8e2"
    },
    {
      "cell_type": "code",
      "execution_count": 65,
      "metadata": {},
      "outputs": [
        {
          "output_type": "display_data",
          "metadata": {},
          "data": {
            "text/plain": [
              "[2, 4, 4, 5, 6]"
            ]
          }
        }
      ],
      "source": [
        "data.sort();data"
      ],
      "id": "79ea5c06-4c10-40d4-9a0b-e67114ccd085"
    },
    {
      "cell_type": "code",
      "execution_count": 66,
      "metadata": {},
      "outputs": [
        {
          "output_type": "display_data",
          "metadata": {},
          "data": {
            "text/plain": [
              "range(0, 3)"
            ]
          }
        }
      ],
      "source": [
        "range(k)"
      ],
      "id": "7fc8f7ab-45c1-4be2-918f-529533f52d76"
    },
    {
      "cell_type": "code",
      "execution_count": 67,
      "metadata": {},
      "outputs": [
        {
          "output_type": "display_data",
          "metadata": {},
          "data": {
            "text/plain": [
              "6"
            ]
          }
        }
      ],
      "source": [
        "first = data[n-1];first"
      ],
      "id": "28cb0a03-d145-4651-a85b-f40157d1c5cc"
    },
    {
      "cell_type": "code",
      "execution_count": 68,
      "metadata": {},
      "outputs": [
        {
          "output_type": "display_data",
          "metadata": {},
          "data": {
            "text/plain": [
              "5"
            ]
          }
        }
      ],
      "source": [
        "second = data[n-2];second"
      ],
      "id": "42264d3d-aad2-4287-874d-c5d2fe82c0a2"
    },
    {
      "cell_type": "code",
      "execution_count": 69,
      "metadata": {},
      "outputs": [
        {
          "output_type": "display_data",
          "metadata": {},
          "data": {
            "text/plain": [
              "0"
            ]
          }
        }
      ],
      "source": [
        "result = 0; result"
      ],
      "id": "d22be832-bb09-45df-870f-9e779c55f5f3"
    },
    {
      "cell_type": "code",
      "execution_count": 70,
      "metadata": {},
      "outputs": [
        {
          "output_type": "display_data",
          "metadata": {},
          "data": {
            "text/plain": [
              "18"
            ]
          }
        }
      ],
      "source": [
        "result = result + first*3; result"
      ],
      "id": "dd8b860f-7cb9-4b37-be53-c14c42411be5"
    },
    {
      "cell_type": "code",
      "execution_count": 71,
      "metadata": {},
      "outputs": [
        {
          "output_type": "display_data",
          "metadata": {},
          "data": {
            "text/plain": [
              "5"
            ]
          }
        }
      ],
      "source": [
        "m = m - 3 ;m"
      ],
      "id": "b6a01e9e-da9c-464c-86b0-c7038936cc41"
    },
    {
      "cell_type": "code",
      "execution_count": 72,
      "metadata": {},
      "outputs": [
        {
          "output_type": "display_data",
          "metadata": {},
          "data": {
            "text/plain": [
              "23"
            ]
          }
        }
      ],
      "source": [
        "result = result + second; result"
      ],
      "id": "e031b399-1317-47cb-a7f2-46a277cf40d1"
    },
    {
      "cell_type": "code",
      "execution_count": 73,
      "metadata": {},
      "outputs": [
        {
          "output_type": "display_data",
          "metadata": {},
          "data": {
            "text/plain": [
              "4"
            ]
          }
        }
      ],
      "source": [
        "m = m - 1 ;m"
      ],
      "id": "070b89dc-1e0d-43c4-bbfb-79d75823066b"
    },
    {
      "cell_type": "code",
      "execution_count": 74,
      "metadata": {},
      "outputs": [
        {
          "output_type": "display_data",
          "metadata": {},
          "data": {
            "text/plain": [
              "41"
            ]
          }
        }
      ],
      "source": [
        "result = result + first*3; result"
      ],
      "id": "1672d89b-36f9-412d-b2ee-8a2062f2eb71"
    },
    {
      "cell_type": "code",
      "execution_count": 75,
      "metadata": {},
      "outputs": [
        {
          "output_type": "display_data",
          "metadata": {},
          "data": {
            "text/plain": [
              "1"
            ]
          }
        }
      ],
      "source": [
        "m = m - 3 ;m"
      ],
      "id": "658b93b3-2516-409b-95ac-e5fac9eb7ddb"
    },
    {
      "cell_type": "code",
      "execution_count": 76,
      "metadata": {},
      "outputs": [
        {
          "output_type": "display_data",
          "metadata": {},
          "data": {
            "text/plain": [
              "46"
            ]
          }
        }
      ],
      "source": [
        "result = result + second; result"
      ],
      "id": "36160ad6-7871-4659-aed2-92988bc08c6a"
    },
    {
      "cell_type": "code",
      "execution_count": 77,
      "metadata": {},
      "outputs": [
        {
          "output_type": "display_data",
          "metadata": {},
          "data": {
            "text/plain": [
              "0"
            ]
          }
        }
      ],
      "source": [
        "m = m - 1 ;m"
      ],
      "id": "4eb7bc02-e378-4a3e-84d3-843bcdade924"
    },
    {
      "cell_type": "code",
      "execution_count": 78,
      "metadata": {},
      "outputs": [
        {
          "output_type": "display_data",
          "metadata": {},
          "data": {
            "text/plain": [
              "4"
            ]
          }
        }
      ],
      "source": [
        "int(8 / (6 + 1)) * 3 + 8 % (6 + 1)"
      ],
      "id": "b1c6205d-cb06-4926-b57c-eddd04168f64"
    },
    {
      "cell_type": "markdown",
      "metadata": {},
      "source": [
        "### Answer 2"
      ],
      "id": "d08a79d6-f26f-4030-bc20-d4dd5a587907"
    },
    {
      "cell_type": "code",
      "execution_count": 217,
      "metadata": {},
      "outputs": [
        {
          "output_type": "stream",
          "name": "stdout",
          "text": [
            "46"
          ]
        }
      ],
      "source": [
        "# N, M, K를 공백으로 구분하여 입력받기\n",
        "n, m, k = map(int, input().split())\n",
        "# N개의 수를 공백으로 구분하여 입력받기\n",
        "data = list(map(int, input().split()))\n",
        "\n",
        "data.sort() # 입력받은 수 정렬\n",
        "first = data[n - 1] # 가장 큰 수\n",
        "second = data[n - 2] # 두 번째로 큰 수\n",
        "\n",
        "# 가장 큰 수가 더해지는 횟수 계산\n",
        "count = int(m / (k + 1)) * k\n",
        "count += m % (k+1)\n",
        "\n",
        "result = 0\n",
        "result += count * first # 가장 큰 수 더하기\n",
        "result += (m - count) * second # 두 번재로 큰 수 더하기\n",
        "\n",
        "print(result)"
      ],
      "id": "36972bbb-074b-4a2d-9b56-8dcaf4c9fd1c"
    },
    {
      "cell_type": "code",
      "execution_count": 96,
      "metadata": {},
      "outputs": [],
      "source": [
        "n, m, k = map(int, input().split())"
      ],
      "id": "45e5ec06-79e2-4af8-8166-e512be5236ec"
    },
    {
      "cell_type": "code",
      "execution_count": 97,
      "metadata": {},
      "outputs": [],
      "source": [
        "data = list(map(int, input().split()))"
      ],
      "id": "84e23c29-8aea-44a3-8c6e-637689896ce6"
    },
    {
      "cell_type": "code",
      "execution_count": 98,
      "metadata": {},
      "outputs": [
        {
          "output_type": "display_data",
          "metadata": {},
          "data": {
            "text/plain": [
              "[2, 4, 4, 5, 6]"
            ]
          }
        }
      ],
      "source": [
        "data.sort();data"
      ],
      "id": "58b04b06-4179-4f45-a21e-addc4f623ab7"
    },
    {
      "cell_type": "code",
      "execution_count": 99,
      "metadata": {},
      "outputs": [
        {
          "output_type": "display_data",
          "metadata": {},
          "data": {
            "text/plain": [
              "6"
            ]
          }
        }
      ],
      "source": [
        "first = data[n-1];first"
      ],
      "id": "dbd8ddd0-e783-4aa8-b159-b921eb12fbab"
    },
    {
      "cell_type": "code",
      "execution_count": 100,
      "metadata": {},
      "outputs": [
        {
          "output_type": "display_data",
          "metadata": {},
          "data": {
            "text/plain": [
              "5"
            ]
          }
        }
      ],
      "source": [
        "second = data[n-2];second"
      ],
      "id": "792d78c6-f0a3-495f-bfbc-31ac40368717"
    },
    {
      "cell_type": "code",
      "execution_count": 101,
      "metadata": {},
      "outputs": [
        {
          "output_type": "display_data",
          "metadata": {},
          "data": {
            "text/plain": [
              "6"
            ]
          }
        }
      ],
      "source": [
        "count = int(m / (k + 1)) * k ; count"
      ],
      "id": "ccd2efdc-fad2-4f2c-83af-5d5f13fd9a76"
    },
    {
      "cell_type": "code",
      "execution_count": 114,
      "metadata": {},
      "outputs": [
        {
          "output_type": "display_data",
          "metadata": {},
          "data": {
            "text/plain": [
              "1"
            ]
          }
        }
      ],
      "source": [
        "m % (k+1)"
      ],
      "id": "0786e184-1655-487c-8318-a81561624894"
    },
    {
      "cell_type": "code",
      "execution_count": 103,
      "metadata": {},
      "outputs": [
        {
          "output_type": "display_data",
          "metadata": {},
          "data": {
            "text/plain": [
              "0"
            ]
          }
        }
      ],
      "source": [
        "result = 0;result"
      ],
      "id": "bc8f3393-d53e-43d3-896e-f092218e2adf"
    },
    {
      "cell_type": "code",
      "execution_count": 104,
      "metadata": {},
      "outputs": [
        {
          "output_type": "display_data",
          "metadata": {},
          "data": {
            "text/plain": [
              "36"
            ]
          }
        }
      ],
      "source": [
        "result += count * first;result"
      ],
      "id": "1377540a-fdc8-4fe7-94d6-921f83a18c66"
    },
    {
      "cell_type": "code",
      "execution_count": 105,
      "metadata": {},
      "outputs": [
        {
          "output_type": "display_data",
          "metadata": {},
          "data": {
            "text/plain": [
              "46"
            ]
          }
        }
      ],
      "source": [
        "result += (m - count) * second; result"
      ],
      "id": "2f1f9851-2356-412d-974d-be94071c2ab2"
    },
    {
      "cell_type": "markdown",
      "metadata": {},
      "source": [
        "## 숫자 카드 게임\n",
        "\n",
        "숫자 카드 게임은 여러 개의 숫자 카드 중에서 가장 높은 숫자가 쓰인 카드\n",
        "한 장을 뽑는 게임이다. 단, 게임의 룰을 지키며 카드를 뽑아야 하고 룰은\n",
        "다음과 같다. 1. 숫자가 쓰인 카드들이 $N \\times M$ 형태로 놓여 있다. 이때\n",
        "N은 행의 개수를 의미하며, M은 열의 개수를 의미한다. 2. 먼저 뽑고자 하는\n",
        "카드가 포함되어 있는 행을 선택한다. 3. 그다음 선택된 행에 초함된 카드들\n",
        "중 가장 숫자가 낮은 카드를 뽑아야 한다. 4. 따라서 처음에 카드를 골라낼\n",
        "행을 선택할 때, 이후에 해당 행에서 가장 숫자가 낮은 카드를 뽑을 것을\n",
        "고려하여 최종적으로 가장 높은 숫자의 카드를 뽑을 수 있도록 정략을 세워야\n",
        "한다.\n",
        "\n",
        "입력 조건\n",
        "\n",
        "-   첫째 줄에 숫자 카드들이 놓인 행의 개수 N과 열의 개수 M이 공백을\n",
        "    기준으로 하여 각각 자연수로 주어진다.($1 \\le N, M \\le 100$)\n",
        "\n",
        "-   둘째 줄부터 N개의 줄에 걸쳐 각 카드에 적힌 숫자가 주어진다. 각\n",
        "    숫자는 1 이상 10,000 이햐의 자연수이다.\n",
        "\n",
        "출력 조건\n",
        "\n",
        "-   첫째 줄에 게임의 룰에 맞게 선택한 카드에 적힌 숫자를 출력한다.\n",
        "\n",
        "**문제 해설**\n",
        "\n",
        "-   ’각 행마다 가장 작을 수를 찾은 뒤에 그 수 중에서 가장 큰 수’를 찾는\n",
        "    것\n",
        "\n",
        "### Answer 1\n",
        "\n",
        "-   min() 함수를 이용하는 답안 예시"
      ],
      "id": "a14c7621-f2cb-4e86-835e-20b8a3853d42"
    },
    {
      "cell_type": "code",
      "execution_count": 118,
      "metadata": {},
      "outputs": [
        {
          "output_type": "stream",
          "name": "stdout",
          "text": [
            "2"
          ]
        }
      ],
      "source": [
        "# N, M을 공백으로 구분하여 입력받기\n",
        "n, m = map(int, input().split())\n",
        "\n",
        "result = 0\n",
        "# 한 줄씩 입력받아 확인\n",
        "for i in range(n): \n",
        "    data = list(map(int, input().split()))\n",
        "    # 현재 줄에서 '가장 작은 수' 찾기\n",
        "    min_value = min(data)\n",
        "    # '가장 작은 수'들 중에서 가장 큰 수 찾기\n",
        "    result = max(result, min_value)\n",
        "    \n",
        "print(result)"
      ],
      "id": "8a846ecb-a267-4e52-9cc9-1e2cf217510b"
    },
    {
      "cell_type": "code",
      "execution_count": 129,
      "metadata": {},
      "outputs": [],
      "source": [
        "n, m = map(int, input().split())"
      ],
      "id": "6af076bb-99ce-4ab6-b7ec-9bfc407be4c7"
    },
    {
      "cell_type": "code",
      "execution_count": 130,
      "metadata": {},
      "outputs": [
        {
          "output_type": "display_data",
          "metadata": {},
          "data": {
            "text/plain": [
              "0"
            ]
          }
        }
      ],
      "source": [
        "result = 0; result"
      ],
      "id": "4905e630-c1d3-467c-ad50-e46b9e79c3e7"
    },
    {
      "cell_type": "code",
      "execution_count": 131,
      "metadata": {},
      "outputs": [
        {
          "output_type": "display_data",
          "metadata": {},
          "data": {
            "text/plain": [
              "range(0, 3)"
            ]
          }
        }
      ],
      "source": [
        "range(3)"
      ],
      "id": "ee6ad985-18dd-4a19-8d49-69564e0f97c7"
    },
    {
      "cell_type": "code",
      "execution_count": 132,
      "metadata": {},
      "outputs": [],
      "source": [
        "data = list(map(int, input().split()))"
      ],
      "id": "26aa42cb-b9a1-452e-8263-061566180fdb"
    },
    {
      "cell_type": "code",
      "execution_count": 133,
      "metadata": {},
      "outputs": [
        {
          "output_type": "display_data",
          "metadata": {},
          "data": {
            "text/plain": [
              "1"
            ]
          }
        }
      ],
      "source": [
        "min_value = min(data);min_value"
      ],
      "id": "c2da1262-7607-4d73-8fef-4d1c2dd8ce9b"
    },
    {
      "cell_type": "code",
      "execution_count": 134,
      "metadata": {},
      "outputs": [
        {
          "output_type": "display_data",
          "metadata": {},
          "data": {
            "text/plain": [
              "1"
            ]
          }
        }
      ],
      "source": [
        "result = max(result, min_value);result"
      ],
      "id": "03762212-e00f-4b79-9db5-28b0f00a9c43"
    },
    {
      "cell_type": "code",
      "execution_count": 135,
      "metadata": {},
      "outputs": [],
      "source": [
        "data = list(map(int, input().split()))"
      ],
      "id": "dfcc8bf0-216a-42c9-bf19-d9334466a90d"
    },
    {
      "cell_type": "code",
      "execution_count": 136,
      "metadata": {},
      "outputs": [
        {
          "output_type": "display_data",
          "metadata": {},
          "data": {
            "text/plain": [
              "1"
            ]
          }
        }
      ],
      "source": [
        "min_value = min(data);min_value"
      ],
      "id": "28fc1bee-797d-4fdd-82bc-61567056527e"
    },
    {
      "cell_type": "code",
      "execution_count": 137,
      "metadata": {},
      "outputs": [
        {
          "output_type": "display_data",
          "metadata": {},
          "data": {
            "text/plain": [
              "1"
            ]
          }
        }
      ],
      "source": [
        "result = max(result, min_value);result"
      ],
      "id": "ba4155f3-1c43-4b84-a733-51f4cb651da3"
    },
    {
      "cell_type": "code",
      "execution_count": 138,
      "metadata": {},
      "outputs": [],
      "source": [
        "data = list(map(int, input().split()))"
      ],
      "id": "1dbb2ae1-01fc-434e-a090-51b07a4f98c3"
    },
    {
      "cell_type": "code",
      "execution_count": 139,
      "metadata": {},
      "outputs": [
        {
          "output_type": "display_data",
          "metadata": {},
          "data": {
            "text/plain": [
              "2"
            ]
          }
        }
      ],
      "source": [
        "min_value = min(data);min_value"
      ],
      "id": "a6e23ecb-1a89-49c8-b680-d184dd02c745"
    },
    {
      "cell_type": "code",
      "execution_count": 140,
      "metadata": {},
      "outputs": [
        {
          "output_type": "display_data",
          "metadata": {},
          "data": {
            "text/plain": [
              "2"
            ]
          }
        }
      ],
      "source": [
        "result = max(result, min_value);result"
      ],
      "id": "85b29cb3-1b91-41b4-893c-080606b6c5fa"
    },
    {
      "cell_type": "markdown",
      "metadata": {},
      "source": [
        "### Answer 2\n",
        "\n",
        "-   2중 반복문 구조를 이용하는 답안 예시"
      ],
      "id": "22440a22-2837-4c56-9951-9be59e629d97"
    },
    {
      "cell_type": "code",
      "execution_count": 144,
      "metadata": {},
      "outputs": [
        {
          "output_type": "stream",
          "name": "stdout",
          "text": [
            "3"
          ]
        }
      ],
      "source": [
        "# N, M을 공백으로 구분하여 입력받기\n",
        "n, m = map(int, input().split())\n",
        "\n",
        "result = 0\n",
        "# 한 줄씩 입력받아 확인\n",
        "for i in range(n):\n",
        "    data = list(map(int, input().split()))\n",
        "    # 현재 줄에서 '가장 작은 수'찾기\n",
        "    min_value = 10001\n",
        "    for a in data:\n",
        "        min_value = min(min_value,a)\n",
        "    # '가장 작은 수'들 중에서 가장 큰 수 찾기\n",
        "    result = max(result, min_value)\n",
        "    \n",
        "print(result)"
      ],
      "id": "968745ea-bb00-41fb-a220-629d3bd96f75"
    },
    {
      "cell_type": "code",
      "execution_count": 175,
      "metadata": {},
      "outputs": [],
      "source": [
        "n, m = map(int, input().split())"
      ],
      "id": "032b130c-9fdd-494b-81b5-59757b638a1c"
    },
    {
      "cell_type": "code",
      "execution_count": 176,
      "metadata": {},
      "outputs": [],
      "source": [
        "result = 0"
      ],
      "id": "bf030744-5849-41b0-bcf9-b4c0bfde7388"
    },
    {
      "cell_type": "code",
      "execution_count": 177,
      "metadata": {},
      "outputs": [
        {
          "output_type": "display_data",
          "metadata": {},
          "data": {
            "text/plain": [
              "range(0, 2)"
            ]
          }
        }
      ],
      "source": [
        "range(2)"
      ],
      "id": "da08e62d-e077-42cf-ae3e-7eb380ddd968"
    },
    {
      "cell_type": "code",
      "execution_count": 178,
      "metadata": {},
      "outputs": [],
      "source": [
        "data = list(map(int, input().split()))"
      ],
      "id": "00a891be-837f-4048-ae6e-766be6f6af66"
    },
    {
      "cell_type": "code",
      "execution_count": 179,
      "metadata": {},
      "outputs": [
        {
          "output_type": "display_data",
          "metadata": {},
          "data": {
            "text/plain": [
              "10001"
            ]
          }
        }
      ],
      "source": [
        "min_value = 10001;min_value"
      ],
      "id": "1d494baf-883d-48af-a1b2-ae2223d01641"
    },
    {
      "cell_type": "code",
      "execution_count": 180,
      "metadata": {},
      "outputs": [
        {
          "output_type": "display_data",
          "metadata": {},
          "data": {
            "text/plain": [
              "1"
            ]
          }
        }
      ],
      "source": [
        "min_value = min(min_value,7,3,1,8);min_value"
      ],
      "id": "f1f0059f-ccaf-4ff2-bc40-a9d1d38bec5d"
    },
    {
      "cell_type": "code",
      "execution_count": 181,
      "metadata": {},
      "outputs": [
        {
          "output_type": "display_data",
          "metadata": {},
          "data": {
            "text/plain": [
              "1"
            ]
          }
        }
      ],
      "source": [
        "result = max(result, min_value);result"
      ],
      "id": "01c2bd59-7f3f-4a93-97aa-1f25004db1fb"
    },
    {
      "cell_type": "code",
      "execution_count": 182,
      "metadata": {},
      "outputs": [],
      "source": [
        "data = list(map(int, input().split()))"
      ],
      "id": "509523e2-3c15-4b47-929a-cbd179f02610"
    },
    {
      "cell_type": "code",
      "execution_count": 183,
      "metadata": {},
      "outputs": [
        {
          "output_type": "display_data",
          "metadata": {},
          "data": {
            "text/plain": [
              "10001"
            ]
          }
        }
      ],
      "source": [
        "min_value = 10001;min_value"
      ],
      "id": "86d8586d-d652-4fcd-ace8-cb6ccc4ddd05"
    },
    {
      "cell_type": "code",
      "execution_count": 184,
      "metadata": {},
      "outputs": [
        {
          "output_type": "display_data",
          "metadata": {},
          "data": {
            "text/plain": [
              "3"
            ]
          }
        }
      ],
      "source": [
        "min_value = min(min_value,3,3,3,4);min_value"
      ],
      "id": "adad9b00-d769-4f23-9d0c-07d1cee45c0b"
    },
    {
      "cell_type": "code",
      "execution_count": 185,
      "metadata": {},
      "outputs": [
        {
          "output_type": "display_data",
          "metadata": {},
          "data": {
            "text/plain": [
              "3"
            ]
          }
        }
      ],
      "source": [
        "result = max(result, min_value);result"
      ],
      "id": "552f349e-831c-4e6f-852b-5a8ffc3ef681"
    },
    {
      "cell_type": "markdown",
      "metadata": {},
      "source": [
        "## 1이 될 때까지\n",
        "\n",
        "어떠한 수 N이 1이 될 떄까지 다음의 두 과정 중 하나를 반복적으로 선택하여\n",
        "수행하려고 한다. 단, 두 번째 연산은 N이 K로 나누어 쩔어질 때만 선택할 수\n",
        "있다. 1. N에서 1을 뺀다. 2. N을 K로 나눈다.\n",
        "\n",
        "N과 K가 주어질 때 N이 1이 될 때까지 1번 혹은 2번의 과정을 수행해야 하는\n",
        "최소 횟수를 구하는 프로그램을 작성하시오.\n",
        "\n",
        "입력 조건\n",
        "\n",
        "-   첫째 줄에 $N(2 \\le N \\le 100,000)$과 $K(2 \\le K \\le 100,000)$가\n",
        "    공백으로 구분되며 각각 자연수로 주어진다. 이때 입력으로 주어지는 N은\n",
        "    항상 K보다 크거나 같다.\n",
        "\n",
        "출력 조건\n",
        "\n",
        "-   첫째 줄에 N이 1이 될 때까지 1번 혹은 2번의 과정을 수행해야 하는\n",
        "    횟수의 최솟값을 출력한다.\n",
        "\n",
        "**문제 해설**\n",
        "\n",
        "-   ‘최대한 많이 나누기’\n",
        "\n",
        "### Answer 1\n",
        "\n",
        "-   단순하기 푸는 답안 예시"
      ],
      "id": "a992f4d1-045f-4921-a091-aecbab60f76b"
    },
    {
      "cell_type": "code",
      "execution_count": 190,
      "metadata": {},
      "outputs": [
        {
          "output_type": "stream",
          "name": "stdout",
          "text": [
            "2"
          ]
        }
      ],
      "source": [
        "n, k = map(int, input().split())\n",
        "result = 0\n",
        "\n",
        "# N이 K 이상이라면 K로 계속 나누기\n",
        "while n >= k:\n",
        "    # N이 K로 나누어 떨어지지 않는다면 N에서 1씩 빼기\n",
        "    while n % k != 0:\n",
        "        n -= 1\n",
        "        result += 1\n",
        "    # K 로 나누기\n",
        "    n //= k\n",
        "    result += 1\n",
        "    \n",
        "# 마지막으로 남은 수에 대하여 1씩 빼기\n",
        "while n > 1:\n",
        "    n -= 1\n",
        "    result += 1\n",
        "\n",
        "print(result)"
      ],
      "id": "b2a017c7-1b58-42c4-88d2-87f87a8b9277"
    },
    {
      "cell_type": "code",
      "execution_count": 196,
      "metadata": {},
      "outputs": [],
      "source": [
        "n, k = map(int, input().split())"
      ],
      "id": "6d5f3983-48e9-40f2-b76a-31d09aeacf16"
    },
    {
      "cell_type": "code",
      "execution_count": 197,
      "metadata": {},
      "outputs": [
        {
          "output_type": "display_data",
          "metadata": {},
          "data": {
            "text/plain": [
              "0"
            ]
          }
        }
      ],
      "source": [
        "result = 0; result"
      ],
      "id": "e2e81cca-b15d-4217-bbf1-841274c4ba5e"
    },
    {
      "cell_type": "code",
      "execution_count": 198,
      "metadata": {},
      "outputs": [
        {
          "output_type": "display_data",
          "metadata": {},
          "data": {
            "text/plain": [
              "0"
            ]
          }
        }
      ],
      "source": [
        "n%k"
      ],
      "id": "0217d802-f253-4e81-874c-8fda12758e07"
    },
    {
      "cell_type": "code",
      "execution_count": 199,
      "metadata": {},
      "outputs": [
        {
          "output_type": "display_data",
          "metadata": {},
          "data": {
            "text/plain": [
              "5"
            ]
          }
        }
      ],
      "source": [
        "n //= k;n"
      ],
      "id": "dd694f17-1fe4-448f-92f5-af2036f5ca9d"
    },
    {
      "cell_type": "code",
      "execution_count": 200,
      "metadata": {},
      "outputs": [
        {
          "output_type": "display_data",
          "metadata": {},
          "data": {
            "text/plain": [
              "1"
            ]
          }
        }
      ],
      "source": [
        "result += 1 ;result"
      ],
      "id": "9130707d-9e0f-4824-84df-74118bcc1352"
    },
    {
      "cell_type": "code",
      "execution_count": 201,
      "metadata": {},
      "outputs": [
        {
          "output_type": "display_data",
          "metadata": {},
          "data": {
            "text/plain": [
              "0"
            ]
          }
        }
      ],
      "source": [
        "n%k"
      ],
      "id": "f0041569-4cf7-4e60-8231-12932b7276aa"
    },
    {
      "cell_type": "code",
      "execution_count": 202,
      "metadata": {},
      "outputs": [
        {
          "output_type": "display_data",
          "metadata": {},
          "data": {
            "text/plain": [
              "5"
            ]
          }
        }
      ],
      "source": [
        "n // k ; n"
      ],
      "id": "301942a4-8ff2-464d-b64c-9ae1d2a58ff2"
    },
    {
      "cell_type": "code",
      "execution_count": 204,
      "metadata": {},
      "outputs": [
        {
          "output_type": "display_data",
          "metadata": {},
          "data": {
            "text/plain": [
              "2"
            ]
          }
        }
      ],
      "source": [
        "result += 1 ; result"
      ],
      "id": "6664a4f9-ea0a-427b-9ca8-f8e88b79b730"
    },
    {
      "cell_type": "markdown",
      "metadata": {},
      "source": [
        "### Answer 2\n",
        "\n",
        "-   답안 예시"
      ],
      "id": "ebbaea5d-a4fc-4499-a396-107ce9b847cf"
    },
    {
      "cell_type": "code",
      "execution_count": 205,
      "metadata": {},
      "outputs": [
        {
          "output_type": "stream",
          "name": "stdout",
          "text": [
            "2"
          ]
        }
      ],
      "source": [
        "# N, K를 공백으로 구분하여 입력받기\n",
        "n, k = map(int, input().split())\n",
        "result = 0\n",
        "\n",
        "while True:\n",
        "    # (N == K로 나누어 쩔어지는 수)가 될 때까지 1씩 빼기\n",
        "    target = (n // k) * k\n",
        "    result += (n - target)\n",
        "    n = target\n",
        "    # N이 K보다 작을 때(더 이상 나눌 수 없을 떄) 반복문 탈출\n",
        "    if n < k:\n",
        "        break\n",
        "    # K로 나누기\n",
        "    result += 1\n",
        "    n //= k\n",
        "    \n",
        "# 마지막으로 남은 수에 대하여 1씩 빼기\n",
        "result += ( n - 1 )\n",
        "print(result)"
      ],
      "id": "97b5d9df-873e-4acb-90c5-43745367475a"
    },
    {
      "cell_type": "code",
      "execution_count": 206,
      "metadata": {},
      "outputs": [],
      "source": [
        "n, k = map(int, input().split())"
      ],
      "id": "707e88d7-eda4-4077-bf00-adc5047b8d71"
    },
    {
      "cell_type": "code",
      "execution_count": 207,
      "metadata": {},
      "outputs": [],
      "source": [
        "result = 0"
      ],
      "id": "fdc32ce3-65c7-4a1b-bef2-274671e71576"
    },
    {
      "cell_type": "code",
      "execution_count": 209,
      "metadata": {},
      "outputs": [
        {
          "output_type": "display_data",
          "metadata": {},
          "data": {
            "text/plain": [
              "25"
            ]
          }
        }
      ],
      "source": [
        "target = (n // k) * k; target"
      ],
      "id": "01f5b643-aac7-4bc4-949b-366c01d5314b"
    },
    {
      "cell_type": "code",
      "execution_count": 210,
      "metadata": {},
      "outputs": [
        {
          "output_type": "display_data",
          "metadata": {},
          "data": {
            "text/plain": [
              "25"
            ]
          }
        }
      ],
      "source": [
        "n = target ; n"
      ],
      "id": "8c843d3d-3c80-424d-85c3-efd5170ac00e"
    },
    {
      "cell_type": "code",
      "execution_count": 211,
      "metadata": {},
      "outputs": [
        {
          "output_type": "display_data",
          "metadata": {},
          "data": {
            "text/plain": [
              "1"
            ]
          }
        }
      ],
      "source": [
        "result += 1;result"
      ],
      "id": "da83f2cf-dc5f-4b1f-a4ee-fe6d2b79a64f"
    },
    {
      "cell_type": "code",
      "execution_count": 212,
      "metadata": {},
      "outputs": [
        {
          "output_type": "display_data",
          "metadata": {},
          "data": {
            "text/plain": [
              "5"
            ]
          }
        }
      ],
      "source": [
        "n //= k ;n"
      ],
      "id": "02ee1ee0-63ae-441a-9a3e-d54e29a5fc18"
    },
    {
      "cell_type": "code",
      "execution_count": 213,
      "metadata": {},
      "outputs": [
        {
          "output_type": "display_data",
          "metadata": {},
          "data": {
            "text/plain": [
              "5"
            ]
          }
        }
      ],
      "source": [
        "target = (n // k) * k; target"
      ],
      "id": "914e12fe-947c-42fc-9aef-c6ce02b7bbe9"
    },
    {
      "cell_type": "code",
      "execution_count": 214,
      "metadata": {},
      "outputs": [
        {
          "output_type": "display_data",
          "metadata": {},
          "data": {
            "text/plain": [
              "5"
            ]
          }
        }
      ],
      "source": [
        "n = target ; n"
      ],
      "id": "a3f329bf-a9a8-42e9-8481-77457d2d3dfb"
    },
    {
      "cell_type": "code",
      "execution_count": 215,
      "metadata": {},
      "outputs": [
        {
          "output_type": "display_data",
          "metadata": {},
          "data": {
            "text/plain": [
              "2"
            ]
          }
        }
      ],
      "source": [
        "result += 1;result"
      ],
      "id": "530ebb59-0c94-4132-a6eb-a602a12d42ef"
    },
    {
      "cell_type": "code",
      "execution_count": 216,
      "metadata": {},
      "outputs": [
        {
          "output_type": "display_data",
          "metadata": {},
          "data": {
            "text/plain": [
              "1"
            ]
          }
        }
      ],
      "source": [
        "n //= k ;n"
      ],
      "id": "6ccaa31c-894d-4ef4-ae79-e7f344e8e80e"
    }
  ],
  "nbformat": 4,
  "nbformat_minor": 5,
  "metadata": {
    "kernelspec": {
      "name": "python3",
      "display_name": "Python 3 (ipykernel)",
      "language": "python"
    },
    "language_info": {
      "name": "python",
      "codemirror_mode": {
        "name": "ipython",
        "version": "3"
      },
      "file_extension": ".py",
      "mimetype": "text/x-python",
      "nbconvert_exporter": "python",
      "pygments_lexer": "ipython3",
      "version": "3.8.12"
    }
  }
}