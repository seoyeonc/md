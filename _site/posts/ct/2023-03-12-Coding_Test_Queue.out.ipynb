{
  "cells": [
    {
      "cell_type": "markdown",
      "metadata": {},
      "source": [
        "# Queue\n",
        "\n",
        "SEOYEON CHOI  \n",
        "3/19/23\n",
        "\n",
        "> Queue\n",
        "\n",
        "# Queue\n",
        "\n",
        "## Queue을 통해 사용하는 기능\n",
        "\n",
        "1.  `push`: 데이터를 큐에 추가한다.(큐의 전단부터 후단으로 차곡차곡\n",
        "    쌓는다.\n",
        "2.  `pop`: 큐의 가장 앞(전단) 데이터를 삭제한다.\n",
        "3.  `size`: 큐에 데이터가 몇 개 들어있는지 확인한다.\n",
        "4.  `empty`: 큐가 비어 있는지 확인한다.(데이터가 없는지 확인)\n",
        "5.  `front`: 큐의 가장 앞(전단) 데이터가 무엇인지 확인한다.\n",
        "6.  `back`: 큐의 가장 뒤(후단) 데이터가 무엇인지 확인한다.\n",
        "\n",
        "$\\star$ 파이썬에서 queue를 사용하기 위해 deque라는 라이브러리를\n",
        "이용한다. $\\to$ stack과 queue의 기능을 합친 것이다.\n",
        "\n",
        "# [카드 2](https://www.acmicpc.net/problem/2164)\n",
        "\n",
        "$N$장의 카드가 있다. 각각의 카드는 차례로 $1$부터 $N$까지의 번호가 붙어\n",
        "있으며, $1$번 카드가 제일 위에, $N$번 카드가 제일 아래인 상태로 순서대로\n",
        "카드가 놓여 있다.\n",
        "\n",
        "이제 다음과 같은 동작을 카드가 한 장 남을 때까지 반복하게 된다. 우선,\n",
        "제일 위에 있는 카드를 바닥에 버린다. 그 다음, 제일 위에 있는 카드를 제일\n",
        "아래에 있는 카드 밑으로 옮긴다.\n",
        "\n",
        "예를 들어 $N=4$인 경우를 생각해 보자. 카드는 제일 위에서부터 $1234$ 의\n",
        "순서로 놓여있다. $1$을 버리면 $234$가 남는다. 여기서 $2$를 제일 아래로\n",
        "옮기면 $342$가 된다. $3$을 버리면 $42$가 되고, $4$를 밑으로 옮기면\n",
        "$24$가 된다. 마지막으로 $2$를 버리고 나면, 남는 카드는 $4$가 된다.\n",
        "\n",
        "$N$이 주어졌을 때, 제일 마지막에 남게 되는 카드를 구하는 프로그램을\n",
        "작성하시오."
      ],
      "id": "1683f517-f3b6-4343-85fb-3288f2704167"
    },
    {
      "cell_type": "code",
      "execution_count": 5,
      "metadata": {},
      "outputs": [
        {
          "output_type": "stream",
          "name": "stdout",
          "text": [
            "<built-in method popleft of collections.deque object at 0x7ff9ee947880>"
          ]
        }
      ],
      "source": [
        "import sys\n",
        "from collections import deque\n",
        "\n",
        "# N = int(sys.stdin.readline())\n",
        "N=6\n",
        "queue = deque()\n",
        "for i in range(N):\n",
        "    queue.append(N-i)\n",
        "\n",
        "while len(queue) > 1:\n",
        "    queue.pop()\n",
        "    queue.appendleft(queue.pop())\n",
        "    \n",
        "print (queue.popleft) "
      ],
      "id": "2bd1e988-1edc-4642-ab06-814d1c9122c8"
    },
    {
      "cell_type": "code",
      "execution_count": 6,
      "metadata": {},
      "outputs": [
        {
          "output_type": "display_data",
          "metadata": {},
          "data": {
            "text/plain": [
              "deque([4])"
            ]
          }
        }
      ],
      "source": [
        "queue"
      ],
      "id": "50c71554-c672-4ee7-9a18-23974e694889"
    },
    {
      "cell_type": "markdown",
      "metadata": {},
      "source": [
        "-   `queue.popleft()` $\\to$ dequeue의 전단을 삭제한다.\n",
        "-   `queue.pop()` $\\to$ dequeue의 후단을 삭제한다.\n",
        "-   `queue.append(데이터)` $\\to$ dequeue의 후단에 데이터를 삽입한다.\n",
        "-   `queue.appendleft()` $\\to$ dequeue의 전단에 데이터를 삽입한다."
      ],
      "id": "16924444-d187-4dc7-bb74-c44981677b28"
    },
    {
      "cell_type": "code",
      "execution_count": 35,
      "metadata": {},
      "outputs": [],
      "source": [
        "_queue = deque()"
      ],
      "id": "89e5761d-7014-4169-b904-ee6f7b0b9632"
    },
    {
      "cell_type": "code",
      "execution_count": 36,
      "metadata": {},
      "outputs": [],
      "source": [
        "_queue.appendleft(3)\n",
        "_queue.appendleft(2)\n",
        "_queue.appendleft(1)"
      ],
      "id": "f6c85ec5-c645-4e09-8868-339ecfac2816"
    },
    {
      "cell_type": "code",
      "execution_count": 37,
      "metadata": {},
      "outputs": [
        {
          "output_type": "display_data",
          "metadata": {},
          "data": {
            "text/plain": [
              "deque([1, 2, 3])"
            ]
          }
        }
      ],
      "source": [
        "_queue"
      ],
      "id": "a014f428-a6f6-45a8-aec0-ec6b139cf012"
    },
    {
      "cell_type": "code",
      "execution_count": 38,
      "metadata": {},
      "outputs": [],
      "source": [
        "_queue.append(4)\n",
        "_queue.append(5)"
      ],
      "id": "981e0d0b-1b38-4b4c-9f91-96a1a87699fa"
    },
    {
      "cell_type": "code",
      "execution_count": 39,
      "metadata": {},
      "outputs": [
        {
          "output_type": "display_data",
          "metadata": {},
          "data": {
            "text/plain": [
              "deque([1, 2, 3, 4, 5])"
            ]
          }
        }
      ],
      "source": [
        "_queue"
      ],
      "id": "740e8d85-bf82-4f0f-af3d-81c04e9ee200"
    },
    {
      "cell_type": "code",
      "execution_count": 40,
      "metadata": {},
      "outputs": [
        {
          "output_type": "display_data",
          "metadata": {},
          "data": {
            "text/plain": [
              "deque([2, 3, 4, 5])"
            ]
          }
        }
      ],
      "source": [
        "_queue.popleft()\n",
        "_queue"
      ],
      "id": "31ff2c21-fc35-41f1-8975-27cdeb95cd86"
    },
    {
      "cell_type": "code",
      "execution_count": 41,
      "metadata": {},
      "outputs": [
        {
          "output_type": "display_data",
          "metadata": {},
          "data": {
            "text/plain": [
              "deque([2, 3, 4])"
            ]
          }
        }
      ],
      "source": [
        "_queue.pop()\n",
        "_queue"
      ],
      "id": "76d2bd7d-f950-4600-8be5-f5cdd7c87ce8"
    },
    {
      "cell_type": "markdown",
      "metadata": {},
      "source": [
        "------------------------------------------------------------------------\n",
        "\n",
        "# [Dummy](https://www.acmicpc.net/problem/3190)"
      ],
      "id": "834a1d92-4e54-4e1f-bf31-8483170f3c80"
    },
    {
      "cell_type": "code",
      "execution_count": null,
      "metadata": {},
      "outputs": [],
      "source": [
        " "
      ],
      "id": "6420a70d-163d-4ac9-b39a-d218d4229b97"
    }
  ],
  "nbformat": 4,
  "nbformat_minor": 5,
  "metadata": {
    "kernelspec": {
      "name": "python3",
      "display_name": "Python 3 (ipykernel)",
      "language": "python"
    },
    "language_info": {
      "name": "python",
      "codemirror_mode": {
        "name": "ipython",
        "version": "3"
      },
      "file_extension": ".py",
      "mimetype": "text/x-python",
      "nbconvert_exporter": "python",
      "pygments_lexer": "ipython3",
      "version": "3.8.12"
    }
  }
}