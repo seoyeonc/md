{
 "cells": [
  {
   "cell_type": "raw",
   "id": "1b780fac-d94a-4d0d-ac26-7422b110fe48",
   "metadata": {
    "id": "cac470df-29e7-4148-9bbd-d8b9a32fa570",
    "tags": []
   },
   "source": [
    "---\n",
    "title: \"ECG Heartbeat Categorization Dataset\"\n",
    "author: \"SEOYEON CHOI\"\n",
    "date: \"2025-08-18\"\n",
    "---"
   ]
  },
  {
   "cell_type": "markdown",
   "id": "727908d3-26b4-427f-ae91-c32408a55cb3",
   "metadata": {},
   "source": [
    "[ECG Heartbeat Categorization Dataset](https://www.kaggle.com/datasets/shayanfazeli/heartbeat?resource=download)\n",
    "\n",
    "Abstract\n",
    "- This dataset is composed of two collections of heartbeat signals derived from two famous datasets in heartbeat classification, the MIT-BIH Arrhythmia Dataset and The PTB Diagnostic ECG Database. The number of samples in both collections is large enough for training a deep neural network.\n",
    "- This dataset has been used in exploring heartbeat classification using deep neural network architectures, and observing some of the capabilities of transfer learning on it. The signals correspond to electrocardiogram (ECG) shapes of heartbeats for the normal case and the cases affected by different arrhythmias and myocardial infarction. These signals are preprocessed and segmented, with each segment corresponding to a heartbeat.\n",
    "\n",
    "Content\n",
    "\n",
    "- Arrhythmia Dataset\n",
    "- Number of Samples: 109446\n",
    "- Number of Categories: 5\n",
    "- Sampling Frequency: 125Hz\n",
    "- Data Source: Physionet's MIT-BIH Arrhythmia Dataset\n",
    "- Classes: ['N': 0, 'S': 1, 'V': 2, 'F': 3, 'Q': 4]\n",
    "\n",
    "The PTB Diagnostic ECG Database\n",
    "- Number of Samples: 14552\n",
    "- Number of Categories: 2\n",
    "- Sampling Frequency: 125Hz\n",
    "- Data Source: Physionet's PTB Diagnostic Database\n",
    "- Remark: All the samples are cropped, downsampled and padded with zeroes if necessary to the fixed dimension of 188.\n",
    "\n",
    "Data Files\n",
    "- This dataset consists of a series of CSV files. Each of these CSV files contain a matrix, with each row representing an example in that portion of the dataset. The final element of each row denotes the class to which that example belongs.\n",
    "\n",
    "Acknowledgements\n",
    "- Mohammad Kachuee, Shayan Fazeli, and Majid Sarrafzadeh. \"ECG Heartbeat Classification: A Deep Transferable Representation.\" arXiv preprint arXiv:1805.00794 (2018).\n",
    "\n",
    "Inspiration\n",
    "- Can you identify myocardial infarction?"
   ]
  },
  {
   "cell_type": "markdown",
   "id": "b993f2d1-86b6-4621-80a4-6047a98e6729",
   "metadata": {},
   "source": [
    "# Import"
   ]
  },
  {
   "cell_type": "code",
   "execution_count": 1,
   "id": "b32b531a-a021-4a50-a10f-21c5d28b091d",
   "metadata": {},
   "outputs": [],
   "source": [
    "import pandas as pd\n",
    "import numpy as np\n",
    "\n",
    "import seaborn as sns\n",
    "import matplotlib.pyplot as plt\n",
    "\n",
    "from sklearn.preprocessing import StandardScaler\n",
    "\n",
    "from sklearn.model_selection import train_test_split\n",
    "\n",
    "import pywt\n",
    "\n",
    "from scipy.stats import f_oneway\n",
    "\n",
    "import scikit_posthocs as sp\n",
    "\n",
    "from scipy.stats import kruskal\n",
    "\n",
    "from scipy.stats import skew, kurtosis\n",
    "from scipy.fft import rfft, rfftfreq"
   ]
  },
  {
   "cell_type": "markdown",
   "id": "45f320fa-8ba3-44b8-b8d3-7825ccd1cf1c",
   "metadata": {},
   "source": [
    "# 데이터 이해 & 전처리"
   ]
  },
  {
   "cell_type": "markdown",
   "id": "80122cf7-4d0e-4e0b-bc41-5c6aae0fe9d2",
   "metadata": {},
   "source": [
    "데이터셋 구성 확인"
   ]
  },
  {
   "cell_type": "code",
   "execution_count": 2,
   "id": "a09056e3-6aa1-42b8-b8d1-16f4cad3239b",
   "metadata": {},
   "outputs": [],
   "source": [
    "df = pd.read_csv('../../../delete/mitbih_test.csv',header=None)"
   ]
  },
  {
   "cell_type": "code",
   "execution_count": 3,
   "id": "8a43666a-e733-4f3b-8cbf-37e7e80936ef",
   "metadata": {},
   "outputs": [
    {
     "data": {
      "text/html": [
       "<div>\n",
       "<style scoped>\n",
       "    .dataframe tbody tr th:only-of-type {\n",
       "        vertical-align: middle;\n",
       "    }\n",
       "\n",
       "    .dataframe tbody tr th {\n",
       "        vertical-align: top;\n",
       "    }\n",
       "\n",
       "    .dataframe thead th {\n",
       "        text-align: right;\n",
       "    }\n",
       "</style>\n",
       "<table border=\"1\" class=\"dataframe\">\n",
       "  <thead>\n",
       "    <tr style=\"text-align: right;\">\n",
       "      <th></th>\n",
       "      <th>0</th>\n",
       "      <th>1</th>\n",
       "      <th>2</th>\n",
       "      <th>3</th>\n",
       "      <th>4</th>\n",
       "      <th>5</th>\n",
       "      <th>6</th>\n",
       "      <th>7</th>\n",
       "      <th>8</th>\n",
       "      <th>9</th>\n",
       "      <th>...</th>\n",
       "      <th>178</th>\n",
       "      <th>179</th>\n",
       "      <th>180</th>\n",
       "      <th>181</th>\n",
       "      <th>182</th>\n",
       "      <th>183</th>\n",
       "      <th>184</th>\n",
       "      <th>185</th>\n",
       "      <th>186</th>\n",
       "      <th>187</th>\n",
       "    </tr>\n",
       "  </thead>\n",
       "  <tbody>\n",
       "    <tr>\n",
       "      <th>0</th>\n",
       "      <td>1.000000</td>\n",
       "      <td>0.758264</td>\n",
       "      <td>0.111570</td>\n",
       "      <td>0.000000</td>\n",
       "      <td>0.080579</td>\n",
       "      <td>0.078512</td>\n",
       "      <td>0.066116</td>\n",
       "      <td>0.049587</td>\n",
       "      <td>0.047521</td>\n",
       "      <td>0.035124</td>\n",
       "      <td>...</td>\n",
       "      <td>0.0</td>\n",
       "      <td>0.0</td>\n",
       "      <td>0.0</td>\n",
       "      <td>0.0</td>\n",
       "      <td>0.0</td>\n",
       "      <td>0.0</td>\n",
       "      <td>0.0</td>\n",
       "      <td>0.0</td>\n",
       "      <td>0.0</td>\n",
       "      <td>0.0</td>\n",
       "    </tr>\n",
       "    <tr>\n",
       "      <th>1</th>\n",
       "      <td>0.908425</td>\n",
       "      <td>0.783883</td>\n",
       "      <td>0.531136</td>\n",
       "      <td>0.362637</td>\n",
       "      <td>0.366300</td>\n",
       "      <td>0.344322</td>\n",
       "      <td>0.333333</td>\n",
       "      <td>0.307692</td>\n",
       "      <td>0.296703</td>\n",
       "      <td>0.300366</td>\n",
       "      <td>...</td>\n",
       "      <td>0.0</td>\n",
       "      <td>0.0</td>\n",
       "      <td>0.0</td>\n",
       "      <td>0.0</td>\n",
       "      <td>0.0</td>\n",
       "      <td>0.0</td>\n",
       "      <td>0.0</td>\n",
       "      <td>0.0</td>\n",
       "      <td>0.0</td>\n",
       "      <td>0.0</td>\n",
       "    </tr>\n",
       "    <tr>\n",
       "      <th>2</th>\n",
       "      <td>0.730088</td>\n",
       "      <td>0.212389</td>\n",
       "      <td>0.000000</td>\n",
       "      <td>0.119469</td>\n",
       "      <td>0.101770</td>\n",
       "      <td>0.101770</td>\n",
       "      <td>0.110619</td>\n",
       "      <td>0.123894</td>\n",
       "      <td>0.115044</td>\n",
       "      <td>0.132743</td>\n",
       "      <td>...</td>\n",
       "      <td>0.0</td>\n",
       "      <td>0.0</td>\n",
       "      <td>0.0</td>\n",
       "      <td>0.0</td>\n",
       "      <td>0.0</td>\n",
       "      <td>0.0</td>\n",
       "      <td>0.0</td>\n",
       "      <td>0.0</td>\n",
       "      <td>0.0</td>\n",
       "      <td>0.0</td>\n",
       "    </tr>\n",
       "    <tr>\n",
       "      <th>3</th>\n",
       "      <td>1.000000</td>\n",
       "      <td>0.910417</td>\n",
       "      <td>0.681250</td>\n",
       "      <td>0.472917</td>\n",
       "      <td>0.229167</td>\n",
       "      <td>0.068750</td>\n",
       "      <td>0.000000</td>\n",
       "      <td>0.004167</td>\n",
       "      <td>0.014583</td>\n",
       "      <td>0.054167</td>\n",
       "      <td>...</td>\n",
       "      <td>0.0</td>\n",
       "      <td>0.0</td>\n",
       "      <td>0.0</td>\n",
       "      <td>0.0</td>\n",
       "      <td>0.0</td>\n",
       "      <td>0.0</td>\n",
       "      <td>0.0</td>\n",
       "      <td>0.0</td>\n",
       "      <td>0.0</td>\n",
       "      <td>0.0</td>\n",
       "    </tr>\n",
       "    <tr>\n",
       "      <th>4</th>\n",
       "      <td>0.570470</td>\n",
       "      <td>0.399329</td>\n",
       "      <td>0.238255</td>\n",
       "      <td>0.147651</td>\n",
       "      <td>0.000000</td>\n",
       "      <td>0.003356</td>\n",
       "      <td>0.040268</td>\n",
       "      <td>0.080537</td>\n",
       "      <td>0.070470</td>\n",
       "      <td>0.090604</td>\n",
       "      <td>...</td>\n",
       "      <td>0.0</td>\n",
       "      <td>0.0</td>\n",
       "      <td>0.0</td>\n",
       "      <td>0.0</td>\n",
       "      <td>0.0</td>\n",
       "      <td>0.0</td>\n",
       "      <td>0.0</td>\n",
       "      <td>0.0</td>\n",
       "      <td>0.0</td>\n",
       "      <td>0.0</td>\n",
       "    </tr>\n",
       "  </tbody>\n",
       "</table>\n",
       "<p>5 rows × 188 columns</p>\n",
       "</div>"
      ],
      "text/plain": [
       "        0         1         2         3         4         5         6    \\\n",
       "0  1.000000  0.758264  0.111570  0.000000  0.080579  0.078512  0.066116   \n",
       "1  0.908425  0.783883  0.531136  0.362637  0.366300  0.344322  0.333333   \n",
       "2  0.730088  0.212389  0.000000  0.119469  0.101770  0.101770  0.110619   \n",
       "3  1.000000  0.910417  0.681250  0.472917  0.229167  0.068750  0.000000   \n",
       "4  0.570470  0.399329  0.238255  0.147651  0.000000  0.003356  0.040268   \n",
       "\n",
       "        7         8         9    ...  178  179  180  181  182  183  184  185  \\\n",
       "0  0.049587  0.047521  0.035124  ...  0.0  0.0  0.0  0.0  0.0  0.0  0.0  0.0   \n",
       "1  0.307692  0.296703  0.300366  ...  0.0  0.0  0.0  0.0  0.0  0.0  0.0  0.0   \n",
       "2  0.123894  0.115044  0.132743  ...  0.0  0.0  0.0  0.0  0.0  0.0  0.0  0.0   \n",
       "3  0.004167  0.014583  0.054167  ...  0.0  0.0  0.0  0.0  0.0  0.0  0.0  0.0   \n",
       "4  0.080537  0.070470  0.090604  ...  0.0  0.0  0.0  0.0  0.0  0.0  0.0  0.0   \n",
       "\n",
       "   186  187  \n",
       "0  0.0  0.0  \n",
       "1  0.0  0.0  \n",
       "2  0.0  0.0  \n",
       "3  0.0  0.0  \n",
       "4  0.0  0.0  \n",
       "\n",
       "[5 rows x 188 columns]"
      ]
     },
     "execution_count": 3,
     "metadata": {},
     "output_type": "execute_result"
    }
   ],
   "source": [
    "df.head(5)"
   ]
  },
  {
   "cell_type": "code",
   "execution_count": 4,
   "id": "211c564f-c5ff-4bbe-9acf-2190100229bd",
   "metadata": {},
   "outputs": [
    {
     "data": {
      "text/plain": [
       "(21892, 188)"
      ]
     },
     "execution_count": 4,
     "metadata": {},
     "output_type": "execute_result"
    }
   ],
   "source": [
    "df.shape"
   ]
  },
  {
   "cell_type": "code",
   "execution_count": 5,
   "id": "7252c5b4-e0a6-437c-8072-0389bdc22608",
   "metadata": {},
   "outputs": [
    {
     "data": {
      "image/png": "[encoded data removed]",
      "text/plain": [
       "<Figure size 864x720 with 9 Axes>"
      ]
     },
     "metadata": {
      "needs_background": "light"
     },
     "output_type": "display_data"
    }
   ],
   "source": [
    "sample_idx = np.random.choice(df.shape[0], 9, replace=False)\n",
    "\n",
    "plt.figure(figsize=(12, 10))\n",
    "\n",
    "for i, idx in enumerate(sample_idx, 1):\n",
    "    ecg = df.iloc[idx, :-1].values if df.shape[1] > 188 else df.iloc[idx, :].values\n",
    "    \n",
    "    plt.subplot(3, 3, i)\n",
    "    plt.plot(ecg, color=\"blue\")\n",
    "    plt.title(f\"Sample {idx}\")\n",
    "    plt.xlabel(\"Time index (0-187)\")\n",
    "    plt.ylabel(\"Amplitude\")\n",
    "\n",
    "plt.tight_layout()\n",
    "plt.show()"
   ]
  },
  {
   "cell_type": "code",
   "execution_count": 6,
   "id": "7b29f28e-e287-4075-bcc0-f60a1583ab60",
   "metadata": {},
   "outputs": [
    {
     "data": {
      "text/plain": [
       "array([0., 1., 2., 3., 4.])"
      ]
     },
     "execution_count": 6,
     "metadata": {},
     "output_type": "execute_result"
    }
   ],
   "source": [
    "df[187].unique()"
   ]
  },
  {
   "cell_type": "markdown",
   "id": "89fdcaa7-282b-42ca-9910-25f88548f041",
   "metadata": {},
   "source": [
    "- MIT-BIH (부정맥 → 5 classes)"
   ]
  },
  {
   "cell_type": "markdown",
   "id": "36cfc1d4-e535-4a9b-b91e-7d89736d97db",
   "metadata": {},
   "source": [
    "전처리\n",
    "\n",
    "- Normalization (z-score scaling)"
   ]
  },
  {
   "cell_type": "code",
   "execution_count": 7,
   "id": "5d720e07-f497-4c05-bc2f-8f7f77559d54",
   "metadata": {},
   "outputs": [],
   "source": [
    "X = df.iloc[:, :-1].values\n",
    "y = df.iloc[:, -1].values"
   ]
  },
  {
   "cell_type": "markdown",
   "id": "16fc24f4-3fc4-4766-bf23-51bd4b78082a",
   "metadata": {},
   "source": [
    "# 탐색적 데이터 분석 (EDA)"
   ]
  },
  {
   "cell_type": "markdown",
   "id": "89b59f17-5b10-4392-8f17-7c2f677e818c",
   "metadata": {},
   "source": [
    "평균 파형 시각화"
   ]
  },
  {
   "cell_type": "code",
   "execution_count": 8,
   "id": "98fdcb1e-937b-4cd1-a023-0cc26944bd29",
   "metadata": {},
   "outputs": [],
   "source": [
    "label_col = df.columns[-1]\n",
    "feature_cols = df.columns[:-1]\n",
    "n_points = len(feature_cols)"
   ]
  },
  {
   "cell_type": "code",
   "execution_count": 9,
   "id": "5b69d008-aa5b-466b-bf7a-295bd917a309",
   "metadata": {},
   "outputs": [],
   "source": [
    "fs = 125.0\n",
    "t = np.arange(n_points) / fs"
   ]
  },
  {
   "cell_type": "code",
   "execution_count": 10,
   "id": "08725358-ab35-4faf-a4f0-54254abe10f8",
   "metadata": {},
   "outputs": [],
   "source": [
    "label_map = {0:'N', 1:'S', 2:'V', 3:'F', 4:'Q'}"
   ]
  },
  {
   "cell_type": "code",
   "execution_count": 11,
   "id": "7e863327-0c58-4317-ba04-47ebde643b48",
   "metadata": {},
   "outputs": [
    {
     "data": {
      "image/png": "[encoded data removed]",
      "text/plain": [
       "<Figure size 864x432 with 1 Axes>"
      ]
     },
     "metadata": {
      "needs_background": "light"
     },
     "output_type": "display_data"
    }
   ],
   "source": [
    "# 라벨별 평균 파형 계산\n",
    "means = []\n",
    "labels_present = sorted(df[label_col].unique())\n",
    "for y in labels_present:\n",
    "    m = df.loc[df[label_col] == y, feature_cols].mean(axis=0).values\n",
    "    means.append((y, m))\n",
    "\n",
    "# 한 그래프에 라벨별 평균 파형 그리기\n",
    "plt.figure(figsize=(12,6))\n",
    "for y, m in means:\n",
    "    plt.plot(t, m, label=f\"{label_map.get(int(y), y)} ({int(y)})\")\n",
    "plt.title(\"Average ECG Waveform by Class\")\n",
    "plt.xlabel(\"Time (s)\")\n",
    "plt.ylabel(\"Amplitude\")\n",
    "plt.legend()\n",
    "plt.grid(True, alpha=0.3)\n",
    "plt.tight_layout()\n",
    "plt.show()"
   ]
  },
  {
   "cell_type": "markdown",
   "id": "880610a5-f068-43c4-9ca2-94bffa1af86f",
   "metadata": {},
   "source": [
    "스펙트럼 분석\n",
    "- FFT or Wavelet 변환을 통한 frequency 특징 비교."
   ]
  },
  {
   "cell_type": "markdown",
   "id": "5db6f54b-07d3-4df0-b008-e34a12df544a",
   "metadata": {},
   "source": [
    "FFT"
   ]
  },
  {
   "cell_type": "code",
   "execution_count": 12,
   "id": "00ae4fac-fc40-4dee-b7ba-58c1b64c467e",
   "metadata": {},
   "outputs": [
    {
     "data": {
      "image/png": "[encoded data removed]",
      "text/plain": [
       "<Figure size 864x432 with 1 Axes>"
      ]
     },
     "metadata": {
      "needs_background": "light"
     },
     "output_type": "display_data"
    }
   ],
   "source": [
    "# ----- 기본 설정 -----\n",
    "fs = 125.0\n",
    "label_col = df.columns[-1]\n",
    "feature_cols = df.columns[:-1]\n",
    "N = len(feature_cols)               # 188\n",
    "t = np.arange(N) / fs\n",
    "freqs = np.fft.rfftfreq(N, d=1/fs)  # 0 ~ Nyquist(62.5 Hz)\n",
    "window = np.hanning(N)              # 한닝 윈도우(누설 감소)\n",
    "\n",
    "# 라벨 매핑(가독성)\n",
    "label_map = {0:'N', 1:'S', 2:'V', 3:'F', 4:'Q'}\n",
    "\n",
    "# ----- 클래스별 평균 파워 스펙트럼 -----\n",
    "plt.figure(figsize=(12,6))\n",
    "for y in sorted(df[label_col].unique()):\n",
    "    X = df.loc[df[label_col] == y, feature_cols].values    # (n_class_samples, N)\n",
    "    # detrend(평균 제거) + windowing + FFT\n",
    "    X_detrended = X - X.mean(axis=1, keepdims=True)\n",
    "    Xw = X_detrended * window\n",
    "    F = np.fft.rfft(Xw, axis=1)\n",
    "    P = (np.abs(F)**2) / (window**2).sum()                 # 파워 정규화\n",
    "    P_mean = P.mean(axis=0)\n",
    "\n",
    "    plt.plot(freqs, P_mean, label=f\"{label_map.get(int(y), y)} ({int(y)})\")\n",
    "\n",
    "plt.title(\"Average Power Spectrum by Class (FFT)\")\n",
    "plt.xlabel(\"Frequency (Hz)\")\n",
    "plt.ylabel(\"Power\")\n",
    "plt.legend()\n",
    "plt.grid(alpha=0.3)\n",
    "plt.tight_layout()\n",
    "plt.show()"
   ]
  },
  {
   "cell_type": "markdown",
   "id": "bb9ce70a-29f8-44e3-bc60-64cc9604c483",
   "metadata": {},
   "source": [
    "Wavelet"
   ]
  },
  {
   "cell_type": "code",
   "execution_count": 13,
   "id": "d954b848-c06d-4d27-83ee-9f2e72354084",
   "metadata": {},
   "outputs": [
    {
     "data": {
      "image/png": "[encoded data removed]",
      "text/plain": [
       "<Figure size 864x432 with 1 Axes>"
      ]
     },
     "metadata": {
      "needs_background": "light"
     },
     "output_type": "display_data"
    }
   ],
   "source": [
    "# ----- DWT 파라미터 -----\n",
    "wavelet = 'db4'\n",
    "level = 4 # 188 포인트면 4~5레벨 적당\n",
    "\n",
    "# 한 샘플에서 서브밴드 에너지 벡터 추출\n",
    "def wavelet_band_energy(x):\n",
    "    # 평균 제거(기저선 영향 완화)\n",
    "    x = x - x.mean()\n",
    "    coeffs = pywt.wavedec(x, wavelet=wavelet, level=level)\n",
    "    # coeffs = [cA_L, cD_L, cD_{L-1}, ..., cD_1]\n",
    "    energies = [np.sum(c**2) for c in coeffs]\n",
    "    total = np.sum(energies) + 1e-12\n",
    "    # 상대 에너지(합=1)로 반환하면 샘플 간 진폭 차이 영향 완화\n",
    "    return np.array(energies) / total\n",
    "\n",
    "# 전체 샘플 처리\n",
    "feat_list = []\n",
    "labels = []\n",
    "for _, row in df.iterrows():\n",
    "    x = row[feature_cols].values.astype(float)\n",
    "    e = wavelet_band_energy(x)\n",
    "    feat_list.append(e)\n",
    "    labels.append(int(row[label_col]))\n",
    "\n",
    "E = np.vstack(feat_list)   # shape: (n_samples, 1 + level)\n",
    "y = np.array(labels)\n",
    "\n",
    "# 클래스별 평균 상대 에너지\n",
    "classes = sorted(np.unique(y))\n",
    "E_mean = {c: E[y==c].mean(axis=0) for c in classes}\n",
    "\n",
    "# 플롯: 각 클래스의 subband 에너지 비교 (막대그래프)\n",
    "bands = [f\"cA_{level}\"] + [f\"cD_{i}\" for i in range(level, 0, -1)]  # 상위 스케일→하위 스케일\n",
    "x_pos = np.arange(len(bands))\n",
    "\n",
    "plt.figure(figsize=(12,6))\n",
    "bar_width = 0.14\n",
    "for i, c in enumerate(classes):\n",
    "    plt.bar(x_pos + i*bar_width, E_mean[c], width=bar_width, label=f\"{c}\")\n",
    "\n",
    "plt.xticks(x_pos + bar_width*(len(classes)-1)/2, bands)\n",
    "plt.ylabel(\"Relative Energy\")\n",
    "plt.title(f\"Wavelet Subband Energy by Class (wavelet={wavelet}, level={level})\")\n",
    "plt.legend(title=\"Class (0=N,1=S,2=V,3=F,4=Q)\")\n",
    "plt.tight_layout()\n",
    "plt.show()"
   ]
  },
  {
   "cell_type": "markdown",
   "id": "b6332cf7-0abd-440d-9503-47fa5331f8f5",
   "metadata": {},
   "source": [
    "통계적 비교\n",
    "- Classes: ['N': 0, 'S': 1, 'V': 2, 'F': 3, 'Q': 4] 간에 amplitude, variance, QRS duration 등 특징 차이 통계 검정 (t-test, Mann-Whitney)."
   ]
  },
  {
   "cell_type": "code",
   "execution_count": 14,
   "id": "cd49e2c8-29bd-4e4f-993c-b8df4eb09351",
   "metadata": {},
   "outputs": [],
   "source": [
    "df['amp_mean'] = df.iloc[:, :-1].mean(axis=1)\n",
    "df['amp_max']  = df.iloc[:, :-1].max(axis=1)\n",
    "df['amp_min']  = df.iloc[:, :-1].min(axis=1)\n",
    "df['amp_range'] = df['amp_max'] - df['amp_min']"
   ]
  },
  {
   "cell_type": "code",
   "execution_count": 15,
   "id": "86534471-51ac-483a-a9ca-4fa047bd2037",
   "metadata": {},
   "outputs": [],
   "source": [
    "df['variance'] = df.iloc[:, :-1].var(axis=1)"
   ]
  },
  {
   "cell_type": "code",
   "execution_count": 16,
   "id": "30b5046c-fc20-48f7-9d9e-13cb5e4d2527",
   "metadata": {},
   "outputs": [],
   "source": [
    "def qrs_duration(signal, threshold_ratio=0.5):\n",
    "    # R peak amplitude 추정\n",
    "    peak = np.max(signal)\n",
    "    threshold = peak * threshold_ratio\n",
    "    above = np.where(signal >= threshold)[0]\n",
    "    if len(above) == 0:\n",
    "        return 0\n",
    "    return above[-1] - above[0]   # index 차이 (포인트 수)\n",
    "\n",
    "df['qrs_dur'] = df.iloc[:, :-1].apply(lambda row: qrs_duration(row.values), axis=1)"
   ]
  },
  {
   "cell_type": "code",
   "execution_count": 17,
   "id": "43fabf14-ee3b-409a-8d01-bd19f2e2ac11",
   "metadata": {},
   "outputs": [],
   "source": [
    "label_map = {0:'N', 1:'S', 2:'V', 3:'F', 4:'Q'}\n",
    "\n",
    "desc = df.groupby(df.iloc[:, -1])[['amp_mean','variance','qrs_dur']].describe()"
   ]
  },
  {
   "cell_type": "code",
   "execution_count": 18,
   "id": "dc639ac5-a193-4142-9020-db7704d265c8",
   "metadata": {},
   "outputs": [
    {
     "name": "stdout",
     "output_type": "stream",
     "text": [
      "ANOVA amp_mean: F_onewayResult(statistic=97.23061517562662, pvalue=0.0)\n",
      "ANOVA variance: F_onewayResult(statistic=673.9205351617329, pvalue=0.0)\n",
      "ANOVA qrs_dur: F_onewayResult(statistic=inf, pvalue=0.0)\n"
     ]
    },
    {
     "name": "stderr",
     "output_type": "stream",
     "text": [
      "/home/csy/anaconda3/envs/temp_csy/lib/python3.8/site-packages/scipy/stats/_stats_py.py:3903: ConstantInputWarning: Each of the input arrays is constant;the F statistic is not defined or infinite\n",
      "  warnings.warn(stats.ConstantInputWarning(msg))\n"
     ]
    }
   ],
   "source": [
    "groups = [df.loc[df.iloc[:, -1] == c, 'amp_mean'] for c in sorted(df.iloc[:, -1].unique())]\n",
    "anova_amp = f_oneway(*groups)\n",
    "\n",
    "groups = [df.loc[df.iloc[:, -1] == c, 'variance'] for c in sorted(df.iloc[:, -1].unique())]\n",
    "anova_var = f_oneway(*groups)\n",
    "\n",
    "groups = [df.loc[df.iloc[:, -1] == c, 'qrs_dur'] for c in sorted(df.iloc[:, -1].unique())]\n",
    "anova_qrs = f_oneway(*groups)\n",
    "\n",
    "print(\"ANOVA amp_mean:\", anova_amp)\n",
    "print(\"ANOVA variance:\", anova_var)\n",
    "print(\"ANOVA qrs_dur:\", anova_qrs)"
   ]
  },
  {
   "cell_type": "code",
   "execution_count": 19,
   "id": "52352f60-7091-4de4-81f1-fd2cc8c54f14",
   "metadata": {},
   "outputs": [
    {
     "name": "stdout",
     "output_type": "stream",
     "text": [
      "Kruskal amp_mean: KruskalResult(statistic=4731.5315295296, pvalue=0.0)\n",
      "Kruskal variance: KruskalResult(statistic=8376.756741998353, pvalue=0.0)\n",
      "Kruskal qrs_dur: KruskalResult(statistic=21891.0, pvalue=0.0)\n"
     ]
    }
   ],
   "source": [
    "groups = [df.loc[df.iloc[:, -1] == c, 'amp_mean'] for c in sorted(df.iloc[:, -1].unique())]\n",
    "kw_amp = kruskal(*groups)\n",
    "\n",
    "groups = [df.loc[df.iloc[:, -1] == c, 'variance'] for c in sorted(df.iloc[:, -1].unique())]\n",
    "kw_var = kruskal(*groups)\n",
    "\n",
    "groups = [df.loc[df.iloc[:, -1] == c, 'qrs_dur'] for c in sorted(df.iloc[:, -1].unique())]\n",
    "kw_qrs = kruskal(*groups)\n",
    "\n",
    "print(\"Kruskal amp_mean:\", kw_amp)\n",
    "print(\"Kruskal variance:\", kw_var)\n",
    "print(\"Kruskal qrs_dur:\", kw_qrs)"
   ]
  },
  {
   "cell_type": "code",
   "execution_count": 20,
   "id": "d32333b5-570a-4380-9c37-5e6ea1d50723",
   "metadata": {},
   "outputs": [
    {
     "name": "stdout",
     "output_type": "stream",
     "text": [
      "               4    5    6    7    9    10   12   14   15   16   ...  182  \\\n",
      "4     1.000000e+00  1.0  1.0  1.0  1.0  1.0  1.0  1.0  1.0  1.0  ...  1.0   \n",
      "5     1.000000e+00  1.0  1.0  1.0  1.0  1.0  1.0  1.0  1.0  1.0  ...  1.0   \n",
      "6     1.000000e+00  1.0  1.0  1.0  1.0  1.0  1.0  1.0  1.0  1.0  ...  1.0   \n",
      "7     1.000000e+00  1.0  1.0  1.0  1.0  1.0  1.0  1.0  1.0  1.0  ...  1.0   \n",
      "9     1.000000e+00  1.0  1.0  1.0  1.0  1.0  1.0  1.0  1.0  1.0  ...  1.0   \n",
      "..             ...  ...  ...  ...  ...  ...  ...  ...  ...  ...  ...  ...   \n",
      "187   1.353411e-35  1.0  1.0  1.0  1.0  1.0  1.0  1.0  1.0  1.0  ...  1.0   \n",
      "188   3.901249e-05  1.0  1.0  1.0  1.0  1.0  1.0  1.0  1.0  1.0  ...  1.0   \n",
      "189   1.318389e-12  1.0  1.0  1.0  1.0  1.0  1.0  1.0  1.0  1.0  ...  1.0   \n",
      "190   2.638355e-03  1.0  1.0  1.0  1.0  1.0  1.0  1.0  1.0  1.0  ...  1.0   \n",
      "191  4.113517e-283  1.0  1.0  1.0  1.0  1.0  1.0  1.0  1.0  1.0  ...  1.0   \n",
      "\n",
      "     183       184           185            186            187           188  \\\n",
      "4    1.0  1.000000  1.000000e+00   7.231955e-26   1.353411e-35  3.901249e-05   \n",
      "5    1.0  1.000000  1.000000e+00   1.000000e+00   1.000000e+00  1.000000e+00   \n",
      "6    1.0  1.000000  1.000000e+00   1.000000e+00   1.000000e+00  1.000000e+00   \n",
      "7    1.0  1.000000  1.000000e+00   1.000000e+00   1.000000e+00  1.000000e+00   \n",
      "9    1.0  1.000000  1.000000e+00   1.000000e+00   1.000000e+00  1.000000e+00   \n",
      "..   ...       ...           ...            ...            ...           ...   \n",
      "187  1.0  1.000000  1.000000e+00   1.000000e+00   1.000000e+00  1.000000e+00   \n",
      "188  1.0  1.000000  1.000000e+00   1.000000e+00   1.000000e+00  1.000000e+00   \n",
      "189  1.0  1.000000  1.000000e+00   1.000000e+00   1.000000e+00  1.000000e+00   \n",
      "190  1.0  1.000000  1.000000e+00   3.018640e-04   6.368383e-07  1.000000e+00   \n",
      "191  1.0  0.000027  4.575056e-07  8.248003e-126  8.271528e-161  2.793909e-34   \n",
      "\n",
      "              189           190            191  \n",
      "4    1.318389e-12  2.638355e-03  4.113517e-283  \n",
      "5    1.000000e+00  1.000000e+00   1.000000e+00  \n",
      "6    1.000000e+00  1.000000e+00   1.000000e+00  \n",
      "7    1.000000e+00  1.000000e+00   1.000000e+00  \n",
      "9    1.000000e+00  1.000000e+00   1.000000e+00  \n",
      "..            ...           ...            ...  \n",
      "187  1.000000e+00  6.368383e-07  8.271528e-161  \n",
      "188  1.000000e+00  1.000000e+00   2.793909e-34  \n",
      "189  1.000000e+00  3.952042e-01   1.699180e-68  \n",
      "190  3.952042e-01  1.000000e+00   2.442212e-88  \n",
      "191  1.699180e-68  2.442212e-88   1.000000e+00  \n",
      "\n",
      "[181 rows x 181 columns]\n"
     ]
    }
   ],
   "source": [
    "posthoc_amp = sp.posthoc_dunn(df, val_col='amp_mean', group_col=df.columns[-1], p_adjust='bonferroni')\n",
    "print(posthoc_amp)"
   ]
  },
  {
   "cell_type": "code",
   "execution_count": 21,
   "id": "605cf788-0bb7-442a-83ca-3b03f8f895b5",
   "metadata": {},
   "outputs": [
    {
     "name": "stdout",
     "output_type": "stream",
     "text": [
      "Dunn post-hoc test (amp_mean):\n",
      "               4    5    6    7    9    10   12   14   15   16   ...  182  \\\n",
      "4     1.000000e+00  1.0  1.0  1.0  1.0  1.0  1.0  1.0  1.0  1.0  ...  1.0   \n",
      "5     1.000000e+00  1.0  1.0  1.0  1.0  1.0  1.0  1.0  1.0  1.0  ...  1.0   \n",
      "6     1.000000e+00  1.0  1.0  1.0  1.0  1.0  1.0  1.0  1.0  1.0  ...  1.0   \n",
      "7     1.000000e+00  1.0  1.0  1.0  1.0  1.0  1.0  1.0  1.0  1.0  ...  1.0   \n",
      "9     1.000000e+00  1.0  1.0  1.0  1.0  1.0  1.0  1.0  1.0  1.0  ...  1.0   \n",
      "..             ...  ...  ...  ...  ...  ...  ...  ...  ...  ...  ...  ...   \n",
      "187   1.353411e-35  1.0  1.0  1.0  1.0  1.0  1.0  1.0  1.0  1.0  ...  1.0   \n",
      "188   3.901249e-05  1.0  1.0  1.0  1.0  1.0  1.0  1.0  1.0  1.0  ...  1.0   \n",
      "189   1.318389e-12  1.0  1.0  1.0  1.0  1.0  1.0  1.0  1.0  1.0  ...  1.0   \n",
      "190   2.638355e-03  1.0  1.0  1.0  1.0  1.0  1.0  1.0  1.0  1.0  ...  1.0   \n",
      "191  4.113517e-283  1.0  1.0  1.0  1.0  1.0  1.0  1.0  1.0  1.0  ...  1.0   \n",
      "\n",
      "     183       184           185            186            187           188  \\\n",
      "4    1.0  1.000000  1.000000e+00   7.231955e-26   1.353411e-35  3.901249e-05   \n",
      "5    1.0  1.000000  1.000000e+00   1.000000e+00   1.000000e+00  1.000000e+00   \n",
      "6    1.0  1.000000  1.000000e+00   1.000000e+00   1.000000e+00  1.000000e+00   \n",
      "7    1.0  1.000000  1.000000e+00   1.000000e+00   1.000000e+00  1.000000e+00   \n",
      "9    1.0  1.000000  1.000000e+00   1.000000e+00   1.000000e+00  1.000000e+00   \n",
      "..   ...       ...           ...            ...            ...           ...   \n",
      "187  1.0  1.000000  1.000000e+00   1.000000e+00   1.000000e+00  1.000000e+00   \n",
      "188  1.0  1.000000  1.000000e+00   1.000000e+00   1.000000e+00  1.000000e+00   \n",
      "189  1.0  1.000000  1.000000e+00   1.000000e+00   1.000000e+00  1.000000e+00   \n",
      "190  1.0  1.000000  1.000000e+00   3.018640e-04   6.368383e-07  1.000000e+00   \n",
      "191  1.0  0.000027  4.575056e-07  8.248003e-126  8.271528e-161  2.793909e-34   \n",
      "\n",
      "              189           190            191  \n",
      "4    1.318389e-12  2.638355e-03  4.113517e-283  \n",
      "5    1.000000e+00  1.000000e+00   1.000000e+00  \n",
      "6    1.000000e+00  1.000000e+00   1.000000e+00  \n",
      "7    1.000000e+00  1.000000e+00   1.000000e+00  \n",
      "9    1.000000e+00  1.000000e+00   1.000000e+00  \n",
      "..            ...           ...            ...  \n",
      "187  1.000000e+00  6.368383e-07  8.271528e-161  \n",
      "188  1.000000e+00  1.000000e+00   2.793909e-34  \n",
      "189  1.000000e+00  3.952042e-01   1.699180e-68  \n",
      "190  3.952042e-01  1.000000e+00   2.442212e-88  \n",
      "191  1.699180e-68  2.442212e-88   1.000000e+00  \n",
      "\n",
      "[181 rows x 181 columns]\n"
     ]
    }
   ],
   "source": [
    "# 예: amp_mean 특징을 클래스별 비교\n",
    "posthoc_amp = sp.posthoc_dunn(\n",
    "    df, \n",
    "    val_col='amp_mean', \n",
    "    group_col=df.columns[-1],  # 마지막 열이 라벨\n",
    "    p_adjust='bonferroni'\n",
    ")\n",
    "\n",
    "print(\"Dunn post-hoc test (amp_mean):\")\n",
    "print(posthoc_amp)"
   ]
  },
  {
   "cell_type": "code",
   "execution_count": 22,
   "id": "108ed0dd-2d18-48c5-83df-531a33137117",
   "metadata": {},
   "outputs": [
    {
     "data": {
      "image/png": "[encoded data removed]",
      "text/plain": [
       "<Figure size 576x432 with 1 Axes>"
      ]
     },
     "metadata": {
      "needs_background": "light"
     },
     "output_type": "display_data"
    }
   ],
   "source": [
    "# Boxplot\n",
    "plt.figure(figsize=(8,6))\n",
    "sns.boxplot(x=df.iloc[:, -1], y=df['amp_mean'])\n",
    "plt.title(\"Amplitude Mean by Class\")\n",
    "plt.xlabel(\"Class (0=N,1=S,2=V,3=F,4=Q)\")\n",
    "plt.ylabel(\"amp_mean\")\n",
    "plt.show()"
   ]
  },
  {
   "cell_type": "code",
   "execution_count": 23,
   "id": "5cc60c8f-aa76-4bdb-9d66-180996b4c73f",
   "metadata": {},
   "outputs": [
    {
     "data": {
      "image/png": "[encoded data removed]",
      "text/plain": [
       "<Figure size 432x360 with 2 Axes>"
      ]
     },
     "metadata": {
      "needs_background": "light"
     },
     "output_type": "display_data"
    }
   ],
   "source": [
    "# Posthoc heatmap\n",
    "plt.figure(figsize=(6,5))\n",
    "sns.heatmap(posthoc_amp, annot=True, cmap=\"coolwarm\", cbar=True, fmt=\".3f\")\n",
    "plt.title(\"Post-hoc Dunn Test (p-values)\")\n",
    "plt.show()"
   ]
  },
  {
   "cell_type": "markdown",
   "id": "f06d2fa5-08fa-43f6-8080-83a88bb1fc1f",
   "metadata": {},
   "source": [
    "# 특징 기반 머신러닝 접근"
   ]
  },
  {
   "cell_type": "markdown",
   "id": "2c562c25-163a-4eb4-b00c-59a5b2c8ec62",
   "metadata": {},
   "source": [
    "특징 추출\n",
    "- 시간영역: mean, std, skewness, kurtosis, peak-to-peak\n",
    "- 주파수영역: dominant frequency, power spectrum\n",
    "- Wavelet: ST segment 관련 coefficient"
   ]
  },
  {
   "cell_type": "code",
   "execution_count": 24,
   "id": "1c080d1d-2799-4862-8a2d-d3f7fc8a0cca",
   "metadata": {},
   "outputs": [],
   "source": [
    "def extract_time_features(x):\n",
    "    return {\n",
    "        'mean': float(np.mean(x)),\n",
    "        'std': float(np.std(x)),\n",
    "        'skew': float(skew(x)),\n",
    "        'kurtosis': float(kurtosis(x)),\n",
    "        'ptp': float(np.ptp(x)),  # peak-to-peak\n",
    "    }\n",
    "\n",
    "def extract_freq_features(x, fs=125):\n",
    "    N = len(x)\n",
    "    freqs = rfftfreq(N, d=1/fs)\n",
    "    spectrum = np.abs(rfft(x))**2\n",
    "    dom_freq = float(freqs[np.argmax(spectrum)])\n",
    "    power = float(np.sum(spectrum))\n",
    "    return {'dom_freq': dom_freq, 'power': power}\n",
    "\n",
    "def extract_wavelet_features(x, wavelet='db4', level=4):\n",
    "    x = x - x.mean()\n",
    "    coeffs = pywt.wavedec(x, wavelet=wavelet, level=level)\n",
    "    energies = [np.sum(c**2) for c in coeffs]\n",
    "    total = np.sum(energies) + 1e-12\n",
    "    rel = [float(e/total) for e in energies]\n",
    "    # cA_L, cD_L, ..., cD_1\n",
    "    names = [f'wavelet_energy_cA_{level}'] + [f'wavelet_energy_cD_{i}' for i in range(level, 0, -1)]\n",
    "    return dict(zip(names, rel))\n",
    "\n",
    "def extract_features(x, fs=125):\n",
    "    feats = {}\n",
    "    feats.update(extract_time_features(x))\n",
    "    feats.update(extract_freq_features(x, fs=fs))\n",
    "    feats.update(extract_wavelet_features(x))\n",
    "    return feats"
   ]
  },
  {
   "cell_type": "code",
   "execution_count": 25,
   "id": "ee185ae5-8a9c-45b1-8f44-dd0eb1bd5663",
   "metadata": {},
   "outputs": [
    {
     "name": "stdout",
     "output_type": "stream",
     "text": [
      "       mean       std      skew   kurtosis  ptp  dom_freq        power  \\\n",
      "0  0.088813  0.165259  4.148272  18.524207  1.0       0.0   802.459636   \n",
      "1  0.201932  0.247202  1.129980   0.747387  1.0       0.0  2657.005592   \n",
      "2  0.119641  0.163150  2.984116  12.369159  1.0       0.0  1028.928658   \n",
      "3  0.168079  0.222119  1.874741   3.945423  1.0       0.0  1971.182895   \n",
      "4  0.207004  0.219523  1.185874   1.866668  1.0       0.0  2493.665686   \n",
      "\n",
      "   wavelet_energy_cA_4  wavelet_energy_cD_4  wavelet_energy_cD_3  \\\n",
      "0             0.581605             0.070714             0.143888   \n",
      "1             0.781645             0.074139             0.056645   \n",
      "2             0.494606             0.057453             0.107020   \n",
      "3             0.792486             0.068899             0.062562   \n",
      "4             0.613792             0.090211             0.101761   \n",
      "\n",
      "   wavelet_energy_cD_2  wavelet_energy_cD_1  label  \n",
      "0             0.068162             0.135632    191  \n",
      "1             0.009751             0.077819    191  \n",
      "2             0.097060             0.243862    191  \n",
      "3             0.008464             0.067589    191  \n",
      "4             0.025589             0.168648    191  \n",
      "(21892, 13)\n"
     ]
    }
   ],
   "source": [
    "# ---- 라벨/피처 컬럼 안전하게 정의 ----\n",
    "label_col = df.columns[-1]              # 마지막 열을 라벨로 사용\n",
    "feature_cols = df.columns[:-1]          # 나머지는 ECG 시계열\n",
    "\n",
    "# ---- 넘파이로 뽑아서 루프 (빠르고 안전) ----\n",
    "X = df.loc[:, feature_cols].to_numpy(dtype=float)\n",
    "y = df.loc[:, label_col].to_numpy()\n",
    "\n",
    "feature_list = []\n",
    "labels = []\n",
    "\n",
    "for xi, yi in zip(X, y):\n",
    "    feats = extract_features(xi, fs=125)\n",
    "    feature_list.append(feats)\n",
    "    labels.append(int(yi))\n",
    "\n",
    "feature_df = pd.DataFrame(feature_list)\n",
    "feature_df['label'] = labels\n",
    "\n",
    "print(feature_df.head())\n",
    "print(feature_df.shape)"
   ]
  },
  {
   "cell_type": "markdown",
   "id": "12ffc836-b0c7-432a-a596-21f53c5bbf59",
   "metadata": {},
   "source": [
    "ML 모델링\n",
    "- Logistic Regression, Random Forest, XGBoost\n",
    "- 목표: baseline accuracy/ROC-AUC 확인"
   ]
  },
  {
   "cell_type": "markdown",
   "id": "a2d8ce0b-9040-4d01-ab0e-6d1cfb1cb8a3",
   "metadata": {},
   "source": [
    "# 딥러닝 접근 (Raw Signal 사용)"
   ]
  },
  {
   "cell_type": "markdown",
   "id": "6b128b61-5568-4d05-98b6-b172882fdb0a",
   "metadata": {},
   "source": [
    "## 1D CNN\n",
    "- Local ECG pattern (QRS, ST-segment)을 자동으로 학습."
   ]
  },
  {
   "cell_type": "code",
   "execution_count": 43,
   "id": "655c248f-18d7-4edd-a2da-944db14f89f0",
   "metadata": {},
   "outputs": [],
   "source": [
    "from sklearn.utils.class_weight import compute_class_weight\n",
    "import tensorflow as tf\n",
    "from tensorflow.keras import layers, models"
   ]
  },
  {
   "cell_type": "code",
   "execution_count": 44,
   "id": "81a57f41-9fc6-4f18-873f-6a3bcf62b376",
   "metadata": {},
   "outputs": [],
   "source": [
    "# --- 라벨/피처 분리 ---\n",
    "label_col = df.columns[187]\n",
    "feature_cols = df.columns[:186]\n",
    "\n",
    "X = df[feature_cols].to_numpy(dtype=np.float32)   # (N, L)\n",
    "y = df[label_col].to_numpy(dtype=np.int64)        # (N, )\n",
    "\n",
    "# # --- 샘플별 Z-score 표준화(파형 모양만 남기기) ---\n",
    "eps = 1e-8\n",
    "mu = X.mean(axis=1, keepdims=True)\n",
    "sd = X.std(axis=1, keepdims=True)\n",
    "X = (X - mu) / (sd + eps)\n",
    "\n",
    "# # --- 80:20 split → train에서 20%를 val (최종 64/16/20) ---\n",
    "X_tr, X_te, y_tr, y_te = train_test_split(X, y, test_size=0.20, random_state=42, stratify=y)\n",
    "X_tr, X_va, y_tr, y_va = train_test_split(X_tr, y_tr, test_size=0.20, random_state=42, stratify=y_tr)\n"
   ]
  },
  {
   "cell_type": "code",
   "execution_count": 45,
   "id": "773a80c8-0b44-43aa-9b54-994156d5b299",
   "metadata": {},
   "outputs": [
    {
     "name": "stdout",
     "output_type": "stream",
     "text": [
      "class_weight: {0: 0.24165588615782665, 1: 7.870786516853933, 2: 3.025917926565875, 3: 26.942307692307693, 4: 2.7230320699708455}\n"
     ]
    }
   ],
   "source": [
    "classes = np.unique(y)\n",
    "class_weights = compute_class_weight('balanced', classes=classes, y=y_tr)\n",
    "class_weight = {int(c): float(w) for c, w in zip(classes, class_weights)}\n",
    "print(\"class_weight:\", class_weight)"
   ]
  },
  {
   "cell_type": "code",
   "execution_count": 47,
   "id": "ec796ab7-266a-4c9d-818b-8cb2bdd70939",
   "metadata": {},
   "outputs": [
    {
     "name": "stdout",
     "output_type": "stream",
     "text": [
      "Model: \"model_2\"\n",
      "_________________________________________________________________\n",
      " Layer (type)                Output Shape              Param #   \n",
      "=================================================================\n",
      " input_3 (InputLayer)        [(None, 186, 1)]          0         \n",
      "                                                                 \n",
      " conv1d_6 (Conv1D)           (None, 186, 32)           256       \n",
      "                                                                 \n",
      " batch_normalization_6 (Batc  (None, 186, 32)          128       \n",
      " hNormalization)                                                 \n",
      "                                                                 \n",
      " re_lu_6 (ReLU)              (None, 186, 32)           0         \n",
      "                                                                 \n",
      " max_pooling1d_4 (MaxPooling  (None, 93, 32)           0         \n",
      " 1D)                                                             \n",
      "                                                                 \n",
      " dropout_6 (Dropout)         (None, 93, 32)            0         \n",
      "                                                                 \n",
      " conv1d_7 (Conv1D)           (None, 93, 64)            10304     \n",
      "                                                                 \n",
      " batch_normalization_7 (Batc  (None, 93, 64)           256       \n",
      " hNormalization)                                                 \n",
      "                                                                 \n",
      " re_lu_7 (ReLU)              (None, 93, 64)            0         \n",
      "                                                                 \n",
      " max_pooling1d_5 (MaxPooling  (None, 46, 64)           0         \n",
      " 1D)                                                             \n",
      "                                                                 \n",
      " dropout_7 (Dropout)         (None, 46, 64)            0         \n",
      "                                                                 \n",
      " conv1d_8 (Conv1D)           (None, 46, 128)           24704     \n",
      "                                                                 \n",
      " batch_normalization_8 (Batc  (None, 46, 128)          512       \n",
      " hNormalization)                                                 \n",
      "                                                                 \n",
      " re_lu_8 (ReLU)              (None, 46, 128)           0         \n",
      "                                                                 \n",
      " global_average_pooling1d_2   (None, 128)              0         \n",
      " (GlobalAveragePooling1D)                                        \n",
      "                                                                 \n",
      " dense_4 (Dense)             (None, 128)               16512     \n",
      "                                                                 \n",
      " dropout_8 (Dropout)         (None, 128)               0         \n",
      "                                                                 \n",
      " dense_5 (Dense)             (None, 5)                 645       \n",
      "                                                                 \n",
      "=================================================================\n",
      "Total params: 53,317\n",
      "Trainable params: 52,869\n",
      "Non-trainable params: 448\n",
      "_________________________________________________________________\n"
     ]
    }
   ],
   "source": [
    "# 2) 모델: 1D CNN (QRS, ST 등 로컬 패턴 자동 학습)\n",
    "L = X_tr.shape[1]  # 시퀀스 길이\n",
    "n_classes = len(np.unique(y))\n",
    "\n",
    "def build_1d_cnn(input_length=L, n_classes=n_classes):\n",
    "    inp = layers.Input(shape=(input_length, 1))\n",
    "    x = layers.Conv1D(32, kernel_size=7, padding='same')(inp)\n",
    "    x = layers.BatchNormalization()(x)\n",
    "    x = layers.ReLU()(x)\n",
    "    x = layers.MaxPool1D(2)(x)\n",
    "    x = layers.Dropout(0.2)(x)\n",
    "\n",
    "    x = layers.Conv1D(64, kernel_size=5, padding='same')(x)\n",
    "    x = layers.BatchNormalization()(x)\n",
    "    x = layers.ReLU()(x)\n",
    "    x = layers.MaxPool1D(2)(x)\n",
    "    x = layers.Dropout(0.3)(x)\n",
    "\n",
    "    x = layers.Conv1D(128, kernel_size=3, padding='same')(x)\n",
    "    x = layers.BatchNormalization()(x)\n",
    "    x = layers.ReLU()(x)\n",
    "    x = layers.GlobalAveragePooling1D()(x)\n",
    "\n",
    "    x = layers.Dense(128, activation='relu')(x)\n",
    "    x = layers.Dropout(0.4)(x)\n",
    "    out = layers.Dense(n_classes, activation='softmax')(x)\n",
    "\n",
    "    model = models.Model(inp, out)\n",
    "    model.compile(\n",
    "        optimizer=tf.keras.optimizers.Adam(1e-3),\n",
    "        loss=tf.keras.losses.SparseCategoricalCrossentropy(),\n",
    "        metrics=['accuracy']\n",
    "    )\n",
    "    return model\n",
    "\n",
    "model = build_1d_cnn()\n",
    "model.summary()\n"
   ]
  },
  {
   "cell_type": "markdown",
   "id": "69f6d2b4-9851-4313-9210-b8e98fc5d26a",
   "metadata": {},
   "source": [
    "- 성능 높이기\n",
    "    - 한 층 더 추가한다.\n",
    "    - 23->64->128... 채널 수를 늘린다."
   ]
  },
  {
   "cell_type": "code",
   "execution_count": 48,
   "id": "7198986b-412b-4975-82f3-8cdeacc6d5ce",
   "metadata": {},
   "outputs": [
    {
     "name": "stdout",
     "output_type": "stream",
     "text": [
      "Epoch 1/50\n",
      "55/55 [==============================] - 4s 41ms/step - loss: 1.3983 - accuracy: 0.2974 - val_loss: 1.6888 - val_accuracy: 0.0234 - lr: 0.0010\n",
      "Epoch 2/50\n",
      "55/55 [==============================] - 2s 36ms/step - loss: 1.0734 - accuracy: 0.4141 - val_loss: 2.2370 - val_accuracy: 0.0305 - lr: 0.0010\n",
      "Epoch 3/50\n",
      "55/55 [==============================] - 2s 36ms/step - loss: 0.9189 - accuracy: 0.4235 - val_loss: 2.7122 - val_accuracy: 0.0311 - lr: 0.0010\n",
      "Epoch 4/50\n",
      "55/55 [==============================] - 2s 37ms/step - loss: 0.8343 - accuracy: 0.4803 - val_loss: 2.9398 - val_accuracy: 0.0400 - lr: 0.0010\n",
      "Epoch 5/50\n",
      "55/55 [==============================] - 2s 37ms/step - loss: 0.7863 - accuracy: 0.4909 - val_loss: 2.7439 - val_accuracy: 0.0403 - lr: 5.0000e-04\n",
      "Epoch 6/50\n",
      "55/55 [==============================] - 11s 200ms/step - loss: 0.7505 - accuracy: 0.5074 - val_loss: 2.6304 - val_accuracy: 0.0514 - lr: 5.0000e-04\n",
      "Epoch 7/50\n",
      "55/55 [==============================] - 12s 220ms/step - loss: 0.7204 - accuracy: 0.5488 - val_loss: 2.3196 - val_accuracy: 0.1048 - lr: 5.0000e-04\n",
      "Epoch 8/50\n",
      "55/55 [==============================] - 2s 34ms/step - loss: 0.7089 - accuracy: 0.5453 - val_loss: 1.8006 - val_accuracy: 0.2643 - lr: 2.5000e-04\n",
      "Epoch 9/50\n",
      "55/55 [==============================] - 2s 36ms/step - loss: 0.6870 - accuracy: 0.5555 - val_loss: 1.5701 - val_accuracy: 0.3394 - lr: 2.5000e-04\n",
      "Epoch 10/50\n",
      "55/55 [==============================] - 2s 36ms/step - loss: 0.6709 - accuracy: 0.5479 - val_loss: 1.3493 - val_accuracy: 0.4099 - lr: 2.5000e-04\n",
      "Epoch 11/50\n",
      "55/55 [==============================] - 2s 35ms/step - loss: 0.6614 - accuracy: 0.5671 - val_loss: 1.4117 - val_accuracy: 0.3954 - lr: 2.5000e-04\n",
      "Epoch 12/50\n",
      "55/55 [==============================] - 2s 36ms/step - loss: 0.6540 - accuracy: 0.5715 - val_loss: 1.3136 - val_accuracy: 0.4116 - lr: 2.5000e-04\n",
      "Epoch 13/50\n",
      "55/55 [==============================] - 2s 37ms/step - loss: 0.6511 - accuracy: 0.5828 - val_loss: 1.1824 - val_accuracy: 0.4382 - lr: 2.5000e-04\n",
      "Epoch 14/50\n",
      "55/55 [==============================] - 14s 258ms/step - loss: 0.6341 - accuracy: 0.6059 - val_loss: 1.1752 - val_accuracy: 0.4599 - lr: 2.5000e-04\n",
      "Epoch 15/50\n",
      "55/55 [==============================] - 8s 138ms/step - loss: 0.6238 - accuracy: 0.5824 - val_loss: 1.1429 - val_accuracy: 0.4950 - lr: 2.5000e-04\n",
      "Epoch 16/50\n",
      "55/55 [==============================] - 2s 36ms/step - loss: 0.6284 - accuracy: 0.5942 - val_loss: 1.0967 - val_accuracy: 0.4747 - lr: 2.5000e-04\n",
      "Epoch 17/50\n",
      "55/55 [==============================] - 2s 35ms/step - loss: 0.6149 - accuracy: 0.6060 - val_loss: 1.1215 - val_accuracy: 0.4967 - lr: 2.5000e-04\n",
      "Epoch 18/50\n",
      "55/55 [==============================] - 2s 35ms/step - loss: 0.6041 - accuracy: 0.6247 - val_loss: 1.2169 - val_accuracy: 0.4459 - lr: 2.5000e-04\n",
      "Epoch 19/50\n",
      "55/55 [==============================] - 2s 36ms/step - loss: 0.5890 - accuracy: 0.6167 - val_loss: 1.1233 - val_accuracy: 0.4425 - lr: 2.5000e-04\n",
      "Epoch 20/50\n",
      "55/55 [==============================] - 2s 37ms/step - loss: 0.5924 - accuracy: 0.6163 - val_loss: 1.1555 - val_accuracy: 0.4371 - lr: 1.2500e-04\n",
      "Epoch 21/50\n",
      "55/55 [==============================] - 5s 88ms/step - loss: 0.5795 - accuracy: 0.6340 - val_loss: 1.1013 - val_accuracy: 0.4804 - lr: 1.2500e-04\n",
      "Epoch 22/50\n",
      "55/55 [==============================] - 15s 269ms/step - loss: 0.5854 - accuracy: 0.6367 - val_loss: 1.1438 - val_accuracy: 0.4459 - lr: 1.2500e-04\n",
      "Epoch 23/50\n",
      "55/55 [==============================] - 4s 75ms/step - loss: 0.5819 - accuracy: 0.6288 - val_loss: 1.1051 - val_accuracy: 0.4859 - lr: 6.2500e-05\n",
      "Epoch 24/50\n",
      "55/55 [==============================] - 2s 36ms/step - loss: 0.5769 - accuracy: 0.6416 - val_loss: 1.0771 - val_accuracy: 0.4990 - lr: 6.2500e-05\n",
      "Epoch 25/50\n",
      "55/55 [==============================] - 2s 35ms/step - loss: 0.5672 - accuracy: 0.6254 - val_loss: 1.0909 - val_accuracy: 0.4927 - lr: 6.2500e-05\n",
      "Epoch 26/50\n",
      "55/55 [==============================] - 2s 35ms/step - loss: 0.5637 - accuracy: 0.6376 - val_loss: 1.0779 - val_accuracy: 0.4921 - lr: 6.2500e-05\n",
      "Epoch 27/50\n",
      "55/55 [==============================] - 2s 36ms/step - loss: 0.5760 - accuracy: 0.6438 - val_loss: 1.0539 - val_accuracy: 0.5090 - lr: 6.2500e-05\n",
      "Epoch 28/50\n",
      "55/55 [==============================] - 2s 37ms/step - loss: 0.5686 - accuracy: 0.6291 - val_loss: 1.0418 - val_accuracy: 0.5136 - lr: 6.2500e-05\n",
      "Epoch 29/50\n",
      "55/55 [==============================] - 9s 164ms/step - loss: 0.5743 - accuracy: 0.6503 - val_loss: 1.0573 - val_accuracy: 0.5104 - lr: 6.2500e-05\n",
      "Epoch 30/50\n",
      "55/55 [==============================] - 14s 251ms/step - loss: 0.5613 - accuracy: 0.6415 - val_loss: 1.0678 - val_accuracy: 0.5090 - lr: 6.2500e-05\n",
      "Epoch 31/50\n",
      "55/55 [==============================] - 2s 35ms/step - loss: 0.5497 - accuracy: 0.6428 - val_loss: 1.0438 - val_accuracy: 0.5201 - lr: 6.2500e-05\n",
      "Epoch 32/50\n",
      "55/55 [==============================] - 2s 35ms/step - loss: 0.5624 - accuracy: 0.6422 - val_loss: 1.0511 - val_accuracy: 0.5161 - lr: 3.1250e-05\n",
      "Epoch 33/50\n",
      "55/55 [==============================] - 2s 36ms/step - loss: 0.5558 - accuracy: 0.6507 - val_loss: 1.0276 - val_accuracy: 0.5233 - lr: 3.1250e-05\n",
      "Epoch 34/50\n",
      "55/55 [==============================] - 2s 35ms/step - loss: 0.5521 - accuracy: 0.6499 - val_loss: 1.0458 - val_accuracy: 0.5144 - lr: 3.1250e-05\n",
      "Epoch 35/50\n",
      "55/55 [==============================] - 2s 36ms/step - loss: 0.5578 - accuracy: 0.6471 - val_loss: 1.0451 - val_accuracy: 0.5101 - lr: 3.1250e-05\n",
      "Epoch 36/50\n",
      "55/55 [==============================] - 2s 39ms/step - loss: 0.5499 - accuracy: 0.6488 - val_loss: 1.0554 - val_accuracy: 0.5059 - lr: 3.1250e-05\n",
      "Epoch 37/50\n",
      "55/55 [==============================] - 14s 258ms/step - loss: 0.5488 - accuracy: 0.6470 - val_loss: 1.0474 - val_accuracy: 0.5107 - lr: 1.5625e-05\n",
      "Epoch 38/50\n",
      "55/55 [==============================] - 8s 154ms/step - loss: 0.5546 - accuracy: 0.6442 - val_loss: 1.0524 - val_accuracy: 0.5081 - lr: 1.5625e-05\n",
      "Epoch 39/50\n",
      "55/55 [==============================] - 2s 36ms/step - loss: 0.5499 - accuracy: 0.6490 - val_loss: 1.0415 - val_accuracy: 0.5158 - lr: 1.5625e-05\n",
      "Epoch 40/50\n",
      "55/55 [==============================] - 2s 35ms/step - loss: 0.5419 - accuracy: 0.6495 - val_loss: 1.0420 - val_accuracy: 0.5161 - lr: 7.8125e-06\n",
      "Epoch 41/50\n",
      "55/55 [==============================] - 2s 36ms/step - loss: 0.5347 - accuracy: 0.6526 - val_loss: 1.0405 - val_accuracy: 0.5178 - lr: 7.8125e-06\n"
     ]
    }
   ],
   "source": [
    "# 3) 학습\n",
    "cb = [\n",
    "    tf.keras.callbacks.ReduceLROnPlateau(monitor='val_loss', factor=0.5, patience=3),\n",
    "    tf.keras.callbacks.EarlyStopping(monitor='val_loss', patience=8, restore_best_weights=True)\n",
    "]\n",
    "hist = model.fit(\n",
    "    X_tr, y_tr,\n",
    "    validation_data=(X_va, y_va),\n",
    "    epochs=50,\n",
    "    batch_size=256,\n",
    "    class_weight=class_weight,\n",
    "    callbacks=cb,\n",
    "    verbose=1\n",
    ")"
   ]
  },
  {
   "cell_type": "code",
   "execution_count": 49,
   "id": "41f73da1-58f7-4692-a2bc-f18bbe96f334",
   "metadata": {},
   "outputs": [
    {
     "name": "stdout",
     "output_type": "stream",
     "text": [
      "137/137 [==============================] - 1s 4ms/step\n",
      "Test Accuracy: 0.5181548298698333\n",
      "Test ROC-AUC (macro OvR): 0.9432353917756396\n",
      "              precision    recall  f1-score   support\n",
      "\n",
      "           0      0.987     0.445     0.614      3624\n",
      "           1      0.078     0.829     0.143       111\n",
      "           2      0.446     0.807     0.574       290\n",
      "           3      0.041     0.938     0.079        32\n",
      "           4      0.949     0.929     0.939       322\n",
      "\n",
      "    accuracy                          0.518      4379\n",
      "   macro avg      0.500     0.789     0.470      4379\n",
      "weighted avg      0.918     0.518     0.619      4379\n",
      "\n",
      "[[1614 1080  276  640   14]\n",
      " [   9   92    4    6    0]\n",
      " [   2    6  234   46    2]\n",
      " [   0    1    1   30    0]\n",
      " [  11    0   10    2  299]]\n"
     ]
    }
   ],
   "source": [
    "# 4) 평가: Accuracy / ROC-AUC(One-vs-Rest)\n",
    "from sklearn.metrics import accuracy_score, roc_auc_score, classification_report, confusion_matrix\n",
    "from sklearn.preprocessing import label_binarize\n",
    "\n",
    "# 예측\n",
    "proba_te = model.predict(X_te)\n",
    "pred_te  = proba_te.argmax(axis=1)\n",
    "\n",
    "# Accuracy\n",
    "acc = accuracy_score(y_te, pred_te)\n",
    "print(\"Test Accuracy:\", acc)\n",
    "\n",
    "# ROC-AUC (다중클래스 → OvR)\n",
    "y_te_bin = label_binarize(y_te, classes=np.arange(n_classes))\n",
    "auc = roc_auc_score(y_te_bin, proba_te, average='macro', multi_class='ovr')\n",
    "print(\"Test ROC-AUC (macro OvR):\", auc)\n",
    "\n",
    "# 추가 리포트/매트릭스\n",
    "print(classification_report(y_te, pred_te, digits=3))\n",
    "print(confusion_matrix(y_te, pred_te))"
   ]
  },
  {
   "cell_type": "markdown",
   "id": "e9788222-f991-4193-91b9-ce7d9bf3f5cf",
   "metadata": {},
   "source": [
    "## LSTM/GRU\n",
    "- ECG 신호의 순차적 dependency 반영."
   ]
  },
  {
   "cell_type": "markdown",
   "id": "301b1809-493a-40d2-aef7-c82759d60276",
   "metadata": {},
   "source": [
    "### LSTM"
   ]
  },
  {
   "cell_type": "code",
   "execution_count": 63,
   "id": "22bee789-44ba-496e-b53c-4a01429994e9",
   "metadata": {},
   "outputs": [
    {
     "name": "stdout",
     "output_type": "stream",
     "text": [
      "Model: \"model_3\"\n",
      "_________________________________________________________________\n",
      " Layer (type)                Output Shape              Param #   \n",
      "=================================================================\n",
      " input_4 (InputLayer)        [(None, 186, 1)]          0         \n",
      "                                                                 \n",
      " bidirectional (Bidirectiona  (None, 186, 128)         33792     \n",
      " l)                                                              \n",
      "                                                                 \n",
      " dropout_9 (Dropout)         (None, 186, 128)          0         \n",
      "                                                                 \n",
      " bidirectional_1 (Bidirectio  (None, 128)              98816     \n",
      " nal)                                                            \n",
      "                                                                 \n",
      " dropout_10 (Dropout)        (None, 128)               0         \n",
      "                                                                 \n",
      " dense_6 (Dense)             (None, 128)               16512     \n",
      "                                                                 \n",
      " dropout_11 (Dropout)        (None, 128)               0         \n",
      "                                                                 \n",
      " dense_7 (Dense)             (None, 5)                 645       \n",
      "                                                                 \n",
      "=================================================================\n",
      "Total params: 149,765\n",
      "Trainable params: 149,765\n",
      "Non-trainable params: 0\n",
      "_________________________________________________________________\n"
     ]
    }
   ],
   "source": [
    "# import tensorflow as tf\n",
    "# from tensorflow.keras import layers, models\n",
    "\n",
    "L = X_tr.shape[1]              # 188\n",
    "n_classes = len(np.unique(y))  # 5\n",
    "\n",
    "def build_bilstm(input_len=L, n_classes=n_classes):\n",
    "    inp = layers.Input(shape=(input_len, 1))\n",
    "    x = layers.Bidirectional(layers.LSTM(64, return_sequences=True))(inp)\n",
    "    x = layers.Dropout(0.3)(x)\n",
    "    x = layers.Bidirectional(layers.LSTM(64))(x)\n",
    "    x = layers.Dropout(0.3)(x)\n",
    "    x = layers.Dense(128, activation='relu')(x)\n",
    "    x = layers.Dropout(0.4)(x)\n",
    "    out = layers.Dense(n_classes, activation='softmax')(x)\n",
    "    model = models.Model(inp, out)\n",
    "    model.compile(\n",
    "        optimizer=tf.keras.optimizers.Adam(1e-3),\n",
    "        loss=tf.keras.losses.SparseCategoricalCrossentropy(),\n",
    "        metrics=['accuracy']\n",
    "    )\n",
    "    return model\n",
    "\n",
    "lstm_model = build_bilstm()\n",
    "lstm_model.summary()\n"
   ]
  },
  {
   "cell_type": "markdown",
   "id": "938ac642-9465-4a2c-b182-07fadf7f41b6",
   "metadata": {},
   "source": [
    "- GRU"
   ]
  },
  {
   "cell_type": "code",
   "execution_count": 64,
   "id": "002f2785-a58c-41d6-857b-7695fa1c2a72",
   "metadata": {},
   "outputs": [
    {
     "name": "stdout",
     "output_type": "stream",
     "text": [
      "Model: \"model_4\"\n",
      "_________________________________________________________________\n",
      " Layer (type)                Output Shape              Param #   \n",
      "=================================================================\n",
      " input_5 (InputLayer)        [(None, 186, 1)]          0         \n",
      "                                                                 \n",
      " bidirectional_2 (Bidirectio  (None, 186, 128)         25728     \n",
      " nal)                                                            \n",
      "                                                                 \n",
      " dropout_12 (Dropout)        (None, 186, 128)          0         \n",
      "                                                                 \n",
      " bidirectional_3 (Bidirectio  (None, 128)              74496     \n",
      " nal)                                                            \n",
      "                                                                 \n",
      " dropout_13 (Dropout)        (None, 128)               0         \n",
      "                                                                 \n",
      " dense_8 (Dense)             (None, 128)               16512     \n",
      "                                                                 \n",
      " dropout_14 (Dropout)        (None, 128)               0         \n",
      "                                                                 \n",
      " dense_9 (Dense)             (None, 5)                 645       \n",
      "                                                                 \n",
      "=================================================================\n",
      "Total params: 117,381\n",
      "Trainable params: 117,381\n",
      "Non-trainable params: 0\n",
      "_________________________________________________________________\n"
     ]
    }
   ],
   "source": [
    "def build_bigru(input_len=L, n_classes=n_classes):\n",
    "    inp = layers.Input(shape=(input_len, 1))\n",
    "    x = layers.Bidirectional(layers.GRU(64, return_sequences=True))(inp)\n",
    "    x = layers.Dropout(0.3)(x)\n",
    "    x = layers.Bidirectional(layers.GRU(64))(x)\n",
    "    x = layers.Dropout(0.3)(x)\n",
    "    x = layers.Dense(128, activation='relu')(x)\n",
    "    x = layers.Dropout(0.4)(x)\n",
    "    out = layers.Dense(n_classes, activation='softmax')(x)\n",
    "    model = models.Model(inp, out)\n",
    "    model.compile(\n",
    "        optimizer=tf.keras.optimizers.Adam(1e-3),\n",
    "        loss=tf.keras.losses.SparseCategoricalCrossentropy(),\n",
    "        metrics=['accuracy']\n",
    "    )\n",
    "    return model\n",
    "\n",
    "gru_model = build_bigru()\n",
    "gru_model.summary()\n"
   ]
  },
  {
   "cell_type": "code",
   "execution_count": null,
   "id": "22af2995-6cf0-4ec5-8e04-637555794f5e",
   "metadata": {},
   "outputs": [
    {
     "name": "stdout",
     "output_type": "stream",
     "text": [
      "Epoch 1/50\n",
      "55/55 [==============================] - 53s 860ms/step - loss: 1.4447 - accuracy: 0.2344 - val_loss: 1.3851 - val_accuracy: 0.2281 - lr: 0.0010\n",
      "Epoch 2/50\n",
      "55/55 [==============================] - 55s 985ms/step - loss: 1.0811 - accuracy: 0.3211 - val_loss: 1.1173 - val_accuracy: 0.4059 - lr: 0.0010\n",
      "Epoch 3/50\n",
      "55/55 [==============================] - 62s 1s/step - loss: 0.8547 - accuracy: 0.4879 - val_loss: 0.7796 - val_accuracy: 0.7025 - lr: 0.0010\n",
      "Epoch 4/50\n",
      "55/55 [==============================] - 50s 921ms/step - loss: 0.7357 - accuracy: 0.6732 - val_loss: 0.7299 - val_accuracy: 0.8007 - lr: 0.0010\n",
      "Epoch 5/50\n",
      "55/55 [==============================] - 55s 969ms/step - loss: 0.7025 - accuracy: 0.6655 - val_loss: 0.8919 - val_accuracy: 0.6691 - lr: 0.0010\n",
      "Epoch 6/50\n",
      "55/55 [==============================] - 59s 1s/step - loss: 0.6482 - accuracy: 0.7323 - val_loss: 0.8052 - val_accuracy: 0.7439 - lr: 0.0010\n",
      "Epoch 7/50\n",
      "55/55 [==============================] - 55s 1s/step - loss: 0.6159 - accuracy: 0.7287 - val_loss: 0.7832 - val_accuracy: 0.7973 - lr: 0.0010\n",
      "Epoch 8/50\n",
      "55/55 [==============================] - 46s 823ms/step - loss: 0.5925 - accuracy: 0.7509 - val_loss: 0.6506 - val_accuracy: 0.8356 - lr: 5.0000e-04\n",
      "Epoch 9/50\n",
      "55/55 [==============================] - 49s 899ms/step - loss: 0.5229 - accuracy: 0.7952 - val_loss: 0.6809 - val_accuracy: 0.8139 - lr: 5.0000e-04\n",
      "Epoch 12/50\n",
      "55/55 [==============================] - 50s 896ms/step - loss: 0.4991 - accuracy: 0.7887 - val_loss: 0.6454 - val_accuracy: 0.8233 - lr: 2.5000e-04\n",
      "Epoch 13/50\n",
      "55/55 [==============================] - 59s 1s/step - loss: 0.4935 - accuracy: 0.7840 - val_loss: 0.6209 - val_accuracy: 0.8441 - lr: 2.5000e-04\n",
      "Epoch 14/50\n",
      "55/55 [==============================] - 58s 1s/step - loss: 0.4958 - accuracy: 0.8033 - val_loss: 0.6542 - val_accuracy: 0.8367 - lr: 2.5000e-04\n",
      "Epoch 15/50\n",
      "55/55 [==============================] - 46s 836ms/step - loss: 0.4884 - accuracy: 0.8053 - val_loss: 0.6998 - val_accuracy: 0.8139 - lr: 2.5000e-04\n",
      "Epoch 16/50\n",
      "55/55 [==============================] - 56s 1s/step - loss: 0.4653 - accuracy: 0.8044 - val_loss: 0.6575 - val_accuracy: 0.8167 - lr: 2.5000e-04\n",
      "Epoch 17/50\n",
      "55/55 [==============================] - 60s 1s/step - loss: 0.4719 - accuracy: 0.8073 - val_loss: 0.6300 - val_accuracy: 0.8390 - lr: 1.2500e-04\n",
      "Epoch 18/50\n",
      "55/55 [==============================] - 52s 957ms/step - loss: 0.4520 - accuracy: 0.8132 - val_loss: 0.5995 - val_accuracy: 0.8396 - lr: 1.2500e-04\n",
      "Epoch 19/50\n",
      "55/55 [==============================] - 49s 873ms/step - loss: 0.4573 - accuracy: 0.8223 - val_loss: 0.6010 - val_accuracy: 0.8410 - lr: 1.2500e-04\n",
      "Epoch 20/50\n",
      "55/55 [==============================] - 61s 1s/step - loss: 0.4486 - accuracy: 0.8178 - val_loss: 0.5740 - val_accuracy: 0.8567 - lr: 1.2500e-04\n",
      "Epoch 21/50\n",
      "55/55 [==============================] - 58s 1s/step - loss: 0.4543 - accuracy: 0.8139 - val_loss: 0.5989 - val_accuracy: 0.8393 - lr: 1.2500e-04\n",
      "Epoch 22/50\n",
      "55/55 [==============================] - 45s 821ms/step - loss: 0.4522 - accuracy: 0.8105 - val_loss: 0.5704 - val_accuracy: 0.8567 - lr: 1.2500e-04\n",
      "Epoch 23/50\n",
      "55/55 [==============================] - 57s 1s/step - loss: 0.4456 - accuracy: 0.8170 - val_loss: 0.5845 - val_accuracy: 0.8464 - lr: 1.2500e-04\n",
      "Epoch 24/50\n",
      "55/55 [==============================] - 60s 1s/step - loss: 0.4436 - accuracy: 0.8166 - val_loss: 0.5719 - val_accuracy: 0.8464 - lr: 1.2500e-04\n",
      "Epoch 25/50\n",
      "55/55 [==============================] - 48s 873ms/step - loss: 0.4467 - accuracy: 0.8261 - val_loss: 0.6169 - val_accuracy: 0.8333 - lr: 1.2500e-04\n",
      "Epoch 26/50\n",
      "55/55 [==============================] - 58s 1s/step - loss: 0.4420 - accuracy: 0.8108 - val_loss: 0.5781 - val_accuracy: 0.8527 - lr: 6.2500e-05\n",
      "Epoch 27/50\n",
      "55/55 [==============================] - 57s 1s/step - loss: 0.4332 - accuracy: 0.8208 - val_loss: 0.5613 - val_accuracy: 0.8536 - lr: 6.2500e-05\n",
      "Epoch 28/50\n",
      "55/55 [==============================] - 47s 854ms/step - loss: 0.4198 - accuracy: 0.8161 - val_loss: 0.5954 - val_accuracy: 0.8461 - lr: 6.2500e-05\n",
      "Epoch 29/50\n",
      "55/55 [==============================] - 53s 953ms/step - loss: 0.4212 - accuracy: 0.8185 - val_loss: 0.5794 - val_accuracy: 0.8461 - lr: 6.2500e-05\n",
      "Epoch 30/50\n",
      "55/55 [==============================] - 59s 1s/step - loss: 0.4263 - accuracy: 0.8286 - val_loss: 0.5395 - val_accuracy: 0.8578 - lr: 6.2500e-05\n",
      "Epoch 31/50\n",
      "55/55 [==============================] - 44s 812ms/step - loss: 0.4313 - accuracy: 0.8131 - val_loss: 0.5670 - val_accuracy: 0.8470 - lr: 6.2500e-05\n",
      "Epoch 32/50\n",
      "55/55 [==============================] - 54s 996ms/step - loss: 0.4285 - accuracy: 0.8227 - val_loss: 0.5752 - val_accuracy: 0.8484 - lr: 6.2500e-05\n",
      "Epoch 33/50\n",
      "55/55 [==============================] - 48s 853ms/step - loss: 0.4234 - accuracy: 0.8249 - val_loss: 0.5688 - val_accuracy: 0.8501 - lr: 6.2500e-05\n",
      "Epoch 34/50\n",
      "55/55 [==============================] - 49s 891ms/step - loss: 0.4210 - accuracy: 0.8283 - val_loss: 0.5749 - val_accuracy: 0.8470 - lr: 3.1250e-05\n",
      "Epoch 35/50\n",
      "49/55 [=========================>....] - ETA: 5s - loss: 0.4190 - accuracy: 0.8267"
     ]
    }
   ],
   "source": [
    "cbs = [\n",
    "    tf.keras.callbacks.ReduceLROnPlateau(monitor='val_loss', factor=0.5, patience=3),\n",
    "    tf.keras.callbacks.EarlyStopping(monitor='val_loss', patience=8, restore_best_weights=True)\n",
    "]\n",
    "\n",
    "hist_lstm = lstm_model.fit(\n",
    "    X_tr, y_tr,\n",
    "    validation_data=(X_va, y_va),\n",
    "    epochs=50, batch_size=256,\n",
    "    class_weight=class_weight,\n",
    "    callbacks=cbs, verbose=1\n",
    ")\n",
    "\n",
    "hist_gru = gru_model.fit(\n",
    "    X_tr, y_tr,\n",
    "    validation_data=(X_va, y_va),\n",
    "    epochs=50, batch_size=256,\n",
    "    class_weight=class_weight,\n",
    "    callbacks=cbs, verbose=1\n",
    ")"
   ]
  },
  {
   "cell_type": "code",
   "execution_count": null,
   "id": "0bc519c7-cfcd-4489-a34a-24465dac1a41",
   "metadata": {},
   "outputs": [],
   "source": [
    "# from sklearn.metrics import accuracy_score, roc_auc_score, classification_report, confusion_matrix\n",
    "# from sklearn.preprocessing import label_binarize\n",
    "\n",
    "def evaluate(model, X_te, y_te, n_classes):\n",
    "    proba = model.predict(X_te)\n",
    "    pred = proba.argmax(axis=1)\n",
    "    acc = accuracy_score(y_te, pred)\n",
    "    y_bin = label_binarize(y_te, classes=np.arange(n_classes))\n",
    "    auc = roc_auc_score(y_bin, proba, average='macro', multi_class='ovr')\n",
    "    print(\"Accuracy:\", acc)\n",
    "    print(\"ROC-AUC (macro OvR):\", auc)\n",
    "    print(classification_report(y_te, pred, digits=3))\n",
    "    print(confusion_matrix(y_te, pred))\n",
    "    return acc, auc\n",
    "\n",
    "print(\"=== LSTM ===\")\n",
    "acc_lstm, auc_lstm = evaluate(lstm_model, X_te, y_te, n_classes)\n",
    "\n",
    "print(\"\\n=== GRU ===\")\n",
    "acc_gru, auc_gru = evaluate(gru_model, X_te, y_te, n_classes)\n"
   ]
  },
  {
   "cell_type": "markdown",
   "id": "82312684-ef67-4309-bba7-174d0436d4c5",
   "metadata": {
    "tags": []
   },
   "source": [
    "CNN+LSTM 하이브리드\n",
    "\n",
    "CNN → local features 추출 → LSTM → temporal dependency 반영.\n",
    "\n",
    "Output: Binary classification (Normal=0, MI=1)."
   ]
  },
  {
   "cell_type": "markdown",
   "id": "aebef528-41ac-4cd0-ab32-3aa2180a6b38",
   "metadata": {},
   "source": [
    "Transfer Learning (핵심 부분)\n",
    "\n",
    "Step 1: MIT-BIH arrhythmia dataset으로 CNN 모델 사전학습 (heartbeat classification).\n",
    "\n",
    "Step 2: Feature extractor 부분을 PTB 데이터로 fine-tuning → 심근경색 탐지.\n",
    "\n",
    "Expected Outcome: 작은 PTB 데이터셋에서도 높은 accuracy 달성 가능."
   ]
  },
  {
   "cell_type": "markdown",
   "id": "070d7be6-7258-4491-87d4-8fc2a70bfea1",
   "metadata": {},
   "source": [
    "모델 평가\n",
    "\n",
    "Metrics: Accuracy, Precision, Recall, F1, ROC-AUC\n",
    "\n",
    "임상적 중요성: Sensitivity (Recall, true positive rate) 특히 중요 → MI 놓치면 위험.\n",
    "\n",
    "Cross-validation: 환자 단위 cross-validation으로 generalization 검증."
   ]
  },
  {
   "cell_type": "markdown",
   "id": "078b6b3d-ef15-40ea-b95e-52e3c8d64fbf",
   "metadata": {},
   "source": [
    "Explainability & Interpretability\n",
    "\n",
    "Grad-CAM / Saliency maps: 모델이 ECG 파형 중 어느 부분(QRS, ST elevation)에 주목하는지 확인.\n",
    "\n",
    "SHAP / LIME: 특징 기반 모델에서 MI 판별에 기여한 변수 확인.\n",
    "\n",
    "의학적 해석 연결: ST segment elevation → MI의 전형적 패턴임을 보여주면 신뢰성 강화."
   ]
  },
  {
   "cell_type": "code",
   "execution_count": null,
   "id": "856fd20d-b989-4c97-9df9-49e0f4db5463",
   "metadata": {},
   "outputs": [],
   "source": []
  }
 ],
 "metadata": {
  "kernelspec": {
   "display_name": "Python 3",
   "language": "python",
   "name": "python3"
  },
  "language_info": {
   "codemirror_mode": {
    "name": "ipython",
    "version": 3
   },
   "file_extension": ".py",
   "mimetype": "text/x-python",
   "name": "python",
   "nbconvert_exporter": "python",
   "pygments_lexer": "ipython3",
   "version": "3.8.0"
  }
 },
 "nbformat": 4,
 "nbformat_minor": 5
}
