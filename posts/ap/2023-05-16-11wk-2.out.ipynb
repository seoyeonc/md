{
  "cells": [
    {
      "cell_type": "markdown",
      "metadata": {},
      "source": [
        "# 11wk-2: 마코프체인 (9)\n",
        "\n",
        "최규빈  \n",
        "5/16/23\n",
        "\n",
        "# 강의영상\n",
        "\n",
        "`-` 수업시간 중 잘못 설명한 부분이 있어서 정정하고 촬영하였습니다.\n",
        "(두번째 영상이 재촬영한 부분임)\n",
        "\n",
        "> youtube:\n",
        "> <https://youtube.com/playlist?list=PLQqh36zP38-wygptXg6WEfudbDb-ZjvRm>\n",
        "\n",
        "# imports"
      ],
      "id": "0d00cac1-bf13-47b1-8664-5d410f29e2ec"
    },
    {
      "cell_type": "code",
      "execution_count": 8,
      "metadata": {},
      "outputs": [],
      "source": [
        "import numpy as np"
      ],
      "id": "d00ea3d9-4945-47e6-b44e-c7a7a0021e40"
    },
    {
      "cell_type": "markdown",
      "metadata": {},
      "source": [
        "# 예비학습 (동치류)\n",
        "\n",
        "## intro\n",
        "\n",
        "`-` 같다(=) 라는 개념의 추상화\n",
        "\n",
        "`-` 예시1: 아래의 리스트에서 같은 원소끼리 묶어라."
      ],
      "id": "3c142154-6e37-4bad-9f1d-9514eaa8e70d"
    },
    {
      "cell_type": "code",
      "execution_count": 18,
      "metadata": {},
      "outputs": [
        {
          "output_type": "display_data",
          "metadata": {},
          "data": {
            "text/plain": [
              "[1, 1, 2, 2, 3, 3, 3]"
            ]
          }
        }
      ],
      "source": [
        "[1,1,2,2,3,3,3]"
      ],
      "id": "a6dda7d0-4111-4eb8-bfe7-8269f4fe95cc"
    },
    {
      "cell_type": "code",
      "execution_count": 19,
      "metadata": {},
      "outputs": [
        {
          "output_type": "display_data",
          "metadata": {},
          "data": {
            "text/plain": [
              "[[1, 1], [2, 2], [3, 3, 3]]"
            ]
          }
        }
      ],
      "source": [
        "[[1,1], [2,2], [3,3,3]]"
      ],
      "id": "20f616fd-c804-493e-bbfc-12e48f287825"
    },
    {
      "cell_type": "markdown",
      "metadata": {},
      "source": [
        "> 같은 원소들의 모임을 동치류 (equivalence class) 라고 한다. 이\n",
        "> 예제에서는 3개의 동치류가 있는 셈.\n",
        "\n",
        "`-` 예시2: 아래의 리스트에서 같은 원소끼리 묶어라."
      ],
      "id": "f0281bb5-d373-4ace-bb60-209bea76e298"
    },
    {
      "cell_type": "code",
      "execution_count": 43,
      "metadata": {},
      "outputs": [
        {
          "output_type": "display_data",
          "metadata": {},
          "data": {
            "text/plain": [
              "[1, 1.0, 2, 2, 3, 3, 3]"
            ]
          }
        }
      ],
      "source": [
        "lst = [1, 1.0, 2, 2, 3, 3, 3]\n",
        "lst "
      ],
      "id": "33c8b03d-9aa8-498d-8539-0ada1a6d8e41"
    },
    {
      "cell_type": "markdown",
      "metadata": {},
      "source": [
        "-   어떻게 할까? (수학적으로 볼까? 프로그래밍적으로 볼까?)\n",
        "-   같다라는건 뭐지?\n",
        "\n",
        "## “같다”의 개념을 추상화\n",
        "\n",
        "`-` “같다”라는 개념을 좀 일반화 해보자.\n",
        "\n",
        "-   같다라는 것은 “어떠한 기준으로 판단하였을 경우” 그 결과가 같은\n",
        "    집합으로 묶인다는 것을 의미\n",
        "\n",
        "`-` 아래의 예시를 다시 관찰하자."
      ],
      "id": "6c91d640-b8b9-41cb-a5da-f520d8699062"
    },
    {
      "cell_type": "code",
      "execution_count": 44,
      "metadata": {},
      "outputs": [
        {
          "output_type": "display_data",
          "metadata": {},
          "data": {
            "text/plain": [
              "[1, 1.0, 2, 2, 3, 3, 3]"
            ]
          }
        }
      ],
      "source": [
        "lst = [1, 1.0, 2, 2, 3, 3, 3]\n",
        "lst "
      ],
      "id": "dbc9a1bc-ecf3-4a5b-a9ad-ed2cc75bebcb"
    },
    {
      "cell_type": "markdown",
      "metadata": {},
      "source": [
        "(경우1)\n",
        "\n",
        "판단기준을 “수학적인 값이 같음”으로 설정한다면 `lst[0]`과 `lst[1]`은\n",
        "같다."
      ],
      "id": "13251bff-d35e-41d5-bb72-3c8ed425f074"
    },
    {
      "cell_type": "code",
      "execution_count": 47,
      "metadata": {},
      "outputs": [
        {
          "output_type": "display_data",
          "metadata": {},
          "data": {
            "text/plain": [
              "True"
            ]
          }
        }
      ],
      "source": [
        "lst[0] == lst[1]"
      ],
      "id": "bc0cb172-972f-4a21-9133-af739a3e685a"
    },
    {
      "cell_type": "markdown",
      "metadata": {},
      "source": [
        "따라서 아래와 같은 분류가 합리적이다."
      ],
      "id": "ef7523df-5807-4fb2-b2fc-dc8b8c78c532"
    },
    {
      "cell_type": "code",
      "execution_count": 37,
      "metadata": {},
      "outputs": [
        {
          "output_type": "display_data",
          "metadata": {},
          "data": {
            "text/plain": [
              "[[1, 1.0], [2, 2], [3, 3, 3]]"
            ]
          }
        }
      ],
      "source": [
        "[[1, 1.0], [2,2], [3,3,3]]"
      ],
      "id": "9eea789b-6e7b-4cfd-95c8-c3b6b4c52b37"
    },
    {
      "cell_type": "markdown",
      "metadata": {},
      "source": [
        "(경우2)\n",
        "\n",
        "판단기준을 “수학적인 값이 같음 & 파이썬에서의 자료형이 일치” 로\n",
        "설정한다면 `lst[0]`과 `lst[1]`은 다르다."
      ],
      "id": "afb88292-faed-4be3-af5c-7d41cddbc319"
    },
    {
      "cell_type": "code",
      "execution_count": 48,
      "metadata": {},
      "outputs": [
        {
          "output_type": "display_data",
          "metadata": {},
          "data": {
            "text/plain": [
              "False"
            ]
          }
        }
      ],
      "source": [
        "type(lst[0]) == type(lst[1])"
      ],
      "id": "90137996-7474-4b87-9adf-aed7adafb20d"
    },
    {
      "cell_type": "markdown",
      "metadata": {},
      "source": [
        "따라서 아래와 같은 분류가 합리적이다."
      ],
      "id": "b3d80c96-9d49-45b8-89ca-55024a9d940f"
    },
    {
      "cell_type": "code",
      "execution_count": 40,
      "metadata": {},
      "outputs": [
        {
          "output_type": "display_data",
          "metadata": {},
          "data": {
            "text/plain": [
              "[[1], [1.0], [2, 2], [3, 3, 3]]"
            ]
          }
        }
      ],
      "source": [
        "[[1], [1.0], [2,2], [3,3,3]]"
      ],
      "id": "651f6451-4f3b-42a2-a4c3-c7178ec4def9"
    },
    {
      "cell_type": "markdown",
      "metadata": {},
      "source": [
        "(경우3)\n",
        "\n",
        "판단기준을 “파이썬에서의 자료형이 일치” 로 설정한다면? 아래와 같은\n",
        "분류도 합리적이다."
      ],
      "id": "875c284e-2fe8-40b1-8b36-fea483cb12d7"
    },
    {
      "cell_type": "code",
      "execution_count": 41,
      "metadata": {},
      "outputs": [
        {
          "output_type": "display_data",
          "metadata": {},
          "data": {
            "text/plain": [
              "[[1, 2, 2, 3, 3, 3], [1.0]]"
            ]
          }
        }
      ],
      "source": [
        "[[1,2,2,3,3,3], [1.0]]"
      ],
      "id": "ad2f246f-c577-426f-8211-1cf5b767d1c1"
    },
    {
      "cell_type": "markdown",
      "metadata": {},
      "source": [
        "이것도 어떠한 의미에서는 같은원소들을 모아놓은 것임\n",
        "\n",
        "> “같다”라는 것을 올바르게 지칭하려면 “어떠한 의미에서 같다”라는 것인지\n",
        "> 명확하게 설명할 필요가 있다.\n",
        "\n",
        "`-` 예시2: $a$와 $b$가 “어떠한 의미에서 같다”라는 것을 기호로\n",
        "$a \\sim b$라고 하자. `~`의 의미를\n",
        "\n",
        "-   $a \\sim b$ $\\overset{def}{\\Leftrightarrow}$ a == b\n",
        "\n",
        "로 해석한다면, 아래와 같이 원소를 묶을 수 있다."
      ],
      "id": "5bfceb12-d3db-43bc-b5d7-07b19757bc5f"
    },
    {
      "cell_type": "code",
      "execution_count": 37,
      "metadata": {},
      "outputs": [
        {
          "output_type": "display_data",
          "metadata": {},
          "data": {
            "text/plain": [
              "[[1, 1.0], [2, 2], [3, 3, 3]]"
            ]
          }
        }
      ],
      "source": [
        "[[1, 1.0], [2,2], [3,3,3]]"
      ],
      "id": "91fdb03f-425f-433e-9359-387916f097c8"
    },
    {
      "cell_type": "markdown",
      "metadata": {},
      "source": [
        "만약에 `~`의 의미를\n",
        "\n",
        "-   $a \\sim b$ $\\overset{def}{\\Leftrightarrow}$ (a == b) &\n",
        "    (type(a)==type(b))\n",
        "\n",
        "로 해석한다면, 아래와 같이 원소를 묶을 수 있다."
      ],
      "id": "b7e7d8fb-1629-45ee-bdfc-f458a6b6717e"
    },
    {
      "cell_type": "code",
      "execution_count": 40,
      "metadata": {},
      "outputs": [
        {
          "output_type": "display_data",
          "metadata": {},
          "data": {
            "text/plain": [
              "[[1], [1.0], [2, 2], [3, 3, 3]]"
            ]
          }
        }
      ],
      "source": [
        "[[1], [1.0], [2,2], [3,3,3]]"
      ],
      "id": "f75218c7-f96d-43d9-91d7-74b113b3fcb9"
    },
    {
      "cell_type": "markdown",
      "metadata": {},
      "source": [
        "만약에 `~`의 의미를\n",
        "\n",
        "-   $a \\sim b$ $\\overset{def}{\\Leftrightarrow}$ (type(a)==type(b))\n",
        "\n",
        "로 해석한다면, 아래와 같이 원소를 묶을 수 있다."
      ],
      "id": "a50cc577-9a81-486c-bbe8-b42eff8737f3"
    },
    {
      "cell_type": "code",
      "execution_count": 41,
      "metadata": {},
      "outputs": [
        {
          "output_type": "display_data",
          "metadata": {},
          "data": {
            "text/plain": [
              "[[1, 2, 2, 3, 3, 3], [1.0]]"
            ]
          }
        }
      ],
      "source": [
        "[[1,2,2,3,3,3], [1.0]]"
      ],
      "id": "d5a763bd-1377-4bf9-a613-0a0f9f1be86c"
    },
    {
      "cell_type": "markdown",
      "metadata": {},
      "source": [
        "`-` “같음(=)”이라는 기호가 가지는 당연한 성질\n",
        "\n",
        "1.  $a=a$\n",
        "2.  $a=b \\Rightarrow b=a$\n",
        "3.  $a=b, b=c \\Rightarrow a=c$\n",
        "\n",
        "성질 1,2,3은 원래 `=`라는 기호가 “두 원소의 같음”을 의미할때 가지는\n",
        "당연한 성질이다.\n",
        "\n",
        "`-` 역으로 생각해보면 어떠한 기호 $\\sim$이 성질 1,2,3을 가진다면 기호\n",
        "$\\sim$를 같음을 의미하는 기호로 “해석”할 수 있다.\n",
        "\n",
        "-   예시1: 합동\n",
        "-   예시2: 닮음\n",
        "\n",
        "`-` **정의:** 어떠한 집합 $\\Omega$의 임의의 원소 $a,b,c$ 에 대하여\n",
        "$\\sim$이 아래와 같은 성질이 성립한다면 $\\sim$를 equivalence relation\n",
        "이라고 부른다.\n",
        "\n",
        "1.  $a\\sim~a$\n",
        "2.  $a \\sim b \\Rightarrow b\\sim a$\n",
        "3.  $a \\sim b, b \\sim c \\Rightarrow a \\sim c$\n",
        "\n",
        "여기에서 $\\sim$은 “같음”을 의미하는 기호 $=$의 일반화된 버전이다.\n",
        "\n",
        "`-` **정의:** 어떠한 집합 $\\Omega$가 equivalence relation $\\sim$를\n",
        "가진다면 그 집합은 $\\sim$를 기준으로 나눌 수 있다.\n",
        "\n",
        "(예시1) 아래와 같이 5명의 학생이 있다고 치자.\n",
        "\n",
        "-   23학번: 20살, 20살, 20살\n",
        "-   22학번: 21살, 21살\n",
        "\n",
        "구성원들의 나이나 학번이 같으면 반말을 한다고 치자. (그렇지 않으면\n",
        "존대말을 한다고 가정하자) 이제 아래와 같은 기호를 정의하자.\n",
        "\n",
        "-   $a \\sim b$ $\\overset{def}{\\Leftrightarrow}$ $a$가 $b$에게 반말함\n",
        "\n",
        "그렇다면 $\\sim$ equivalence relation 이다. 따라서 학생들을 $\\sim$를\n",
        "기준으로 두개의 그룹으로 나눌 수 있다.\n",
        "\n",
        "(예시2) 아래와 같이 5명의 학생이 있다고 치자.\n",
        "\n",
        "-   23학번: 20살, 20살, 21살\n",
        "-   20학번: 23살, 23살\n",
        "\n",
        "여전히 $\\sim$는 equivalence relation 이다. 따라서 학생들을 $\\sim$를\n",
        "기준으로 두개의 그룹으로 나눌 수 있다.\n",
        "\n",
        "(예시3) 아래와 같이 5명의 학생이 있다고 치자.\n",
        "\n",
        "-   23학번: 20살, 20살, 21살\n",
        "-   22학번: 21살, 21살\n",
        "\n",
        "이제 $\\sim$는 equivalence relation 이 아니다. 따라서 학생들을 $\\sim$를\n",
        "기준으로 나눌 수 없다.\n",
        "\n",
        "# Irreducible (IRR)\n",
        "\n",
        "## intro\n",
        "\n",
        "`-` 질문: “오른쪽으로만 갈래요” 예제는 IRR HMC 인가?\n",
        "\n",
        "`-` **가짜정의**: 어떠한 HMC $\\{X_t\\}$가 IRR이라는 것은 모든 상태공간이\n",
        "“연결”되어있다는 의미이다.\n",
        "\n",
        "`-` 가짜정의의 보충설명 (1)\n",
        "\n",
        "-   여기에서 모든 상태공간이 연결되어있다는 의미는 상태공간 $E$에서\n",
        "    임의의 두 상태 $i,j$를 뽑았을때 $i \\to j$ 이고, $j \\to i$ 라는\n",
        "    의미이다.\n",
        "-   여기에서 $i\\to j$ 라는 의미는 **언젠가는** 상태 $i$에서 출발한\n",
        "    체인이 상태 $j$에 도달할 수 있다는 의미이다.\n",
        "\n",
        "`-` 의문: **언젠가는**에 대한 의미??"
      ],
      "id": "2f5438ce-6767-4539-8fcf-6e22a0026cb0"
    },
    {
      "cell_type": "code",
      "execution_count": null,
      "metadata": {},
      "outputs": [
        {
          "output_type": "display_data",
          "metadata": {},
          "data": {
            "text/html": [
              "</p>"
            ]
          }
        }
      ],
      "source": [],
      "id": "d2d09475-4aad-4147-9fda-c008e6cbe51e"
    },
    {
      "cell_type": "markdown",
      "metadata": {},
      "source": [
        "상태0에서 시작하면 3회 이후에는 상태3에 갈 확률이 있다. (3회시점에 꼭\n",
        "상태3에 있겠다는 의미는 아님) 따라서 이 경우\n",
        "\n",
        "$$0 \\to 3$$\n",
        "\n",
        "이라고 쓸 수 있다. 이 예제의 경우\n",
        "\n",
        "-   $0 \\to 1$, $0 \\to 2$, $0 \\to 3$, $0 \\to 4$, $0\\to 0$[1]\n",
        "-   $1 \\to 1$, $1 \\to 2$, $1 \\to 3$\n",
        "-   $2 \\to 1$, $2 \\to 2$, $2 \\to 3$\n",
        "-   $3 \\to 1$, $3 \\to 2$, $3 \\to 3$\n",
        "\n",
        "와 같다.\n",
        "\n",
        "> 여기서 제가 설명잘못했는데요, 0회도 포함시킨다고 하면 $0 \\to 0$\n",
        "> 입니다.\n",
        "\n",
        "`-` 다시 가짜정의의 보충설명 (2) – (1)을 이어서\n",
        "\n",
        "-   여기에서 모든 상태공간이 연결되어있다는 의미는 상태공간 $E$에서\n",
        "    임의의 두 상태 $i,j$를 뽑았을때 $i \\to j$ 이고, $j \\to i$ 라는\n",
        "    의미이다.\n",
        "-   여기에서 $i\\to j$ 라는 의미는 언젠가는 상태 $i$에서 출발한 체인이\n",
        "    상태 $j$에 도달할 수 있다는 의미이다.\n",
        "-   즉 $i \\to j$라는 의미는 **“($i$에서 출발한다면 $T_0$ 이후에 $j$에\n",
        "    도달해 있을 확률) \\> $0$”** 이라는 뜻이다.\n",
        "\n",
        "`-` 다시의문: $i$에서 출발했다고 가정할때 $T_0$이후에 $j$에 도달해 있을\n",
        "확률을 어떻게 구체적으로 쓰지?\n",
        "\n",
        "`-` (예시)\n",
        "\n",
        "[1] 0회도 포함시키면 $0\\to 0$ 라고 볼 수 있음."
      ],
      "id": "d10756e2-8718-42e4-986f-6dcb288f0114"
    },
    {
      "cell_type": "code",
      "execution_count": null,
      "metadata": {},
      "outputs": [
        {
          "output_type": "display_data",
          "metadata": {},
          "data": {
            "text/html": [
              "</p>"
            ]
          }
        }
      ],
      "source": [],
      "id": "37aa8841-5131-4e4b-8375-dc287d580d74"
    },
    {
      "cell_type": "markdown",
      "metadata": {},
      "source": [
        "질문: $p_{ij}^{(T_0)}$를 “$i$에서 출발했다고 가정할때 $T_0$이후에 $j$에\n",
        "도달해 있을 확률이라고 하자.” $T_0=2$일 경우 아래를 구하라.\n",
        "\n",
        "-   $p_{00}^{(2)}=0$\n",
        "-   $p_{01}^{(2)}=0.5$\n",
        "-   $p_{02}^{(2)}=0.5$\n",
        "-   $p_{10}^{(2)}=0$\n",
        "-   $p_{11}^{(2)}=?$\n",
        "-   $p_{12}^{(2)}=?$\n",
        "-   $p_{20}^{(2)}=0$\n",
        "-   $p_{21}^{(2)}=0.5$\n",
        "-   $p_{22}^{(2)}=0.5$"
      ],
      "id": "75e2a3c1-b802-462e-8b1f-ef8c64350abb"
    },
    {
      "cell_type": "code",
      "execution_count": 11,
      "metadata": {},
      "outputs": [
        {
          "output_type": "display_data",
          "metadata": {},
          "data": {
            "text/plain": [
              "array([[0.  , 0.5 , 0.5 ],\n",
              "       [0.  , 0.75, 0.25],\n",
              "       [0.  , 0.5 , 0.5 ]])"
            ]
          }
        }
      ],
      "source": [
        "P = np.array([[0,1,0],\n",
        "              [0,1/2,1/2],\n",
        "              [0,1,0]])\n",
        "P@P"
      ],
      "id": "8d1af7b3-fc0b-4205-8701-e863062cca86"
    },
    {
      "cell_type": "markdown",
      "metadata": {},
      "source": [
        "`-` 다시 가짜정의의 보충설명 (3) – (2)를 이어서\n",
        "\n",
        "-   여기에서 모든 상태공간이 연결되어있다는 의미는 상태공간 $E$에서\n",
        "    임의의 두 상태 $i,j$를 뽑았을때 $i \\to j$ 이고, $j \\to i$ 라는\n",
        "    의미이다.\n",
        "-   여기에서 $i\\to j$ 라는 의미는 언젠가는 상태 $i$에서 출발한 체인이\n",
        "    상태 $j$에 도달할 수 있다는 의미이다.\n",
        "-   즉 $i \\to j$라는 의미는 **“($i$에서 출발한다면 $T_0$ 이후에 $j$에\n",
        "    도달해 있을 확률) \\> $0$”** 이라는 뜻이다.  \n",
        "-   즉 $i \\to j$라는 의미는 “$\\exists T_0 \\in \\mathbb{N}_0$ such that\n",
        "    $p_{ij}^{(T_0)}>0$” 이라는 뜻이다.\n",
        "\n",
        "> 이 부분도 제가 설명을 잘못했는데 여기에서 $T_0=0$ 인 경우는\n",
        "> ${\\bf P}^{0}={\\bf I}$ 와 같이 해석합니다. 따라서 모든\n",
        "> $\\forall x \\in E:~ x\\leftrightarrow x$ 입니다.\n",
        "\n",
        "## 정의: irreducible (IRR)\n",
        "\n",
        "`-` **정의**: $\\{X_t\\}$를 상태공간 $E$에 정의된 HMC라고 하고 ${\\bf P}$를\n",
        "$\\{X_t\\}$의 transition matrix (혹은 그 비슷한 것) 라고 하자. 임의의\n",
        "$i,j \\in S$에 대하여 상태 $i$에서 상태 $j$로 도달가능(accessible)하다는\n",
        "의미는\n",
        "\n",
        "-   $\\exists T_0 \\in \\mathbb{N}_0$ such that $p_{ij}^{(T_0)}>0$\n",
        "\n",
        "를 의미하며 이를 기호로는 $i\\to j$와 같이 표현한다. 참고로 여기에서\n",
        "$p_{ij}^{(T_0)}$는 ${\\bf P}^{T_0}$의 $(i,j)$-th element이다.\n",
        "\n",
        "`-` 따라서 아래는 모두 같은 의미임\n",
        "\n",
        "-   $\\exists T_0 \\in \\mathbb{N}_0 \\textsf{ such that } p_{ij}^{(T_0)}>0$\n",
        "-   $i \\to j$\n",
        "-   $j$ is accessible from $i$\n",
        "\n",
        "`-` **정의**: $\\{X_t\\}$를 상태공간 $E$에 정의된 HMC라고 하고 ${\\bf P}$를\n",
        "$\\{X_t\\}$의 transition matrix (혹은 그 비슷한 것) 라고 하자. 임의의\n",
        "$i,j \\in S$에 대하여 상태 $i,j$가 상호도달가능 (communicate) 하다는\n",
        "의미는\n",
        "\n",
        "-   $i \\to j$ and $j \\to i$\n",
        "\n",
        "임을 의미한다. $i,j$가 상호도달할 경우 기호로는 $i \\leftrightarrow j$ 와\n",
        "같이 표현한다.\n",
        "\n",
        "`-` 이론: 아래가 성립한다. (굳이 증명할 필요없음. 결과만 기억해도 OK)\n",
        "\n",
        "-   $i \\leftrightarrow i$\n",
        "-   $i \\leftrightarrow j$ $\\Rightarrow$ $j \\leftrightarrow i$\n",
        "-   $i \\leftrightarrow j$, $j \\leftrightarrow k$ $\\Rightarrow$\n",
        "    $i \\leftrightarrow k$\n",
        "\n",
        "따라서 $\\leftrightarrow$ 는 equivalence relation 이다. 따라서 상태공간\n",
        "$E$는 $\\leftrightarrow$를 기준으로 “나눌 수” 있다.\n",
        "\n",
        "`-` **정의:** $\\{X_t\\}$를 상태공간 $E$에 정의된 HMC라고 하자. 상태공간\n",
        "$E$는 equivalence relation $\\leftrightarrow$를 기준으로\n",
        "\n",
        "$$E = E_1 \\uplus E_2 \\uplus \\dots$$\n",
        "\n",
        "와 같이 “나눌 수” 있는데 이때 나누어진 집합 $E_1,E_2,\\dots$ 를\n",
        "communication class라고 부른다.\n",
        "\n",
        "`-` 예시1: 상태공간을 $\\{0\\}$와 $\\{1,2\\}$로 나눌 수 있다. 따라서 $E$는\n",
        "2개의 communication class 를 가진다."
      ],
      "id": "3a3b6b38-3256-4959-b994-f65445f482db"
    },
    {
      "cell_type": "code",
      "execution_count": null,
      "metadata": {},
      "outputs": [
        {
          "output_type": "display_data",
          "metadata": {},
          "data": {
            "text/html": [
              "</p>"
            ]
          }
        }
      ],
      "source": [],
      "id": "b02700b7-6d75-441a-b930-19e96881d00f"
    },
    {
      "cell_type": "markdown",
      "metadata": {},
      "source": [
        "`-` 예시2: 아래와 같은 transition matrix를 가지는 마코프체인의 경우"
      ],
      "id": "a1eaba59-76f9-4e0d-8b3f-fa3c31a907a0"
    },
    {
      "cell_type": "code",
      "execution_count": 49,
      "metadata": {},
      "outputs": [
        {
          "output_type": "display_data",
          "metadata": {},
          "data": {
            "text/plain": [
              "array([[1, 0],\n",
              "       [0, 1]])"
            ]
          }
        }
      ],
      "source": [
        "P = np.array([[1,0],\n",
        "              [0,1]])\n",
        "P"
      ],
      "id": "5104109a-61ac-4705-b075-daa40bd90d9f"
    },
    {
      "cell_type": "markdown",
      "metadata": {},
      "source": [
        "상태공간을 $\\{0\\},\\{1\\}$로 나눌 수 있다. 따라서 $E$는 2개의\n",
        "communication class 를 가진다.\n",
        "\n",
        "`-` **정의** $\\{X_t\\}$를 상태공간 $E$에 정의된 HMC라고 하고 ${\\bf P}$를\n",
        "$\\{X_t\\}$의 transition matrix (혹은 그 비슷한 것) 라고 하자. 상태공간\n",
        "$E$가 오직 하나의 communication class를 가지는 경우 아래와 같이 말한다.\n",
        "\n",
        "-   $\\{X_t\\}$ 가 irreducible 한 마코프체인이다.\n",
        "-   ${\\bf P}$ 가 irreducible 한 transition matrix 이다."
      ],
      "id": "1df7ae1c-10a2-4823-88c9-334d94be3267"
    }
  ],
  "nbformat": 4,
  "nbformat_minor": 5,
  "metadata": {
    "kernelspec": {
      "name": "python3",
      "display_name": "Python 3",
      "language": "python"
    },
    "language_info": {
      "name": "python",
      "codemirror_mode": {
        "name": "ipython",
        "version": "3"
      },
      "file_extension": ".py",
      "mimetype": "text/x-python",
      "nbconvert_exporter": "python",
      "pygments_lexer": "ipython3",
      "version": "3.8.16"
    }
  }
}