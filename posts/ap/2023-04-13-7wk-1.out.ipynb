{
  "cells": [
    {
      "cell_type": "markdown",
      "metadata": {},
      "source": [
        "# 07wk-1: 마코프체인 (2)\n",
        "\n",
        "최규빈  \n",
        "4/13/23\n",
        "\n",
        "# 강의영상\n",
        "\n",
        "> youtube:\n",
        "> <https://youtube.com/playlist?list=PLQqh36zP38-wi47mCKi03xoqvwIzkxG0H>\n",
        "\n",
        "# import"
      ],
      "id": "fd0be349-0fd9-42ce-8b0a-e557ed4215bb"
    },
    {
      "cell_type": "code",
      "execution_count": 32,
      "metadata": {},
      "outputs": [],
      "source": [
        "import numpy as np"
      ],
      "id": "71aa2a86-74d2-4799-9163-a5d55a3209ae"
    },
    {
      "cell_type": "markdown",
      "metadata": {},
      "source": [
        "# 확률과정\n",
        "\n",
        "`-` 동전을 무한히 던지는 시행을 생각하자. 동전을 10번 던져서 결과를\n",
        "관찰했다고 하자. 동전을 30번째 던져서 앞면이 나올지 뒷면이 나올지 알고\n",
        "싶다면?\n",
        "\n",
        "`-` 현재 삼성전자 주가는 66000이다. 20일뒤의 삼성전자 주가가 얼마일지\n",
        "알고 싶다면?\n",
        "\n",
        "`-` 원래 미래를 예측하기 위해서 해야하는 과정\n",
        "\n",
        "![그림1: 1400만개의 미래를 탐색중인 Doctor\n",
        "Strange](https://i.redd.it/dkfg72px80y21.jpg)\n",
        "\n",
        "`-` 하지만 현실적으로는 이게 너무 힘들지 않을까?\n",
        "\n",
        "# 날씨예측\n",
        "\n",
        "`-` 아래와 같이 세상의 법칙이 있다고 하자.\n",
        "\n",
        "-   어제 맑음 $\\to$ 오늘도 맑음: 40% // 오늘은 비: 60%\n",
        "-   어제 비 $\\to$ 오늘은 맑음: 70% // 오늘도 비 30%\n",
        "\n",
        "`-` 모든 $t$에 대하여 확률변수 $X_t$를 아래와 같이 정의하자.\n",
        "\n",
        "-   $X_t=\\begin{cases} 0 & \\text{맑음} \\\\ 1 & \\text{비} \\end{cases}$\n",
        "\n",
        "`-` 오늘 (2023년4월13일) 비가 왔다고 치자. 10000일 뒤에도 비가 올 확률은\n",
        "얼마일까?\n",
        "\n",
        "# 풀이1\n",
        "\n",
        "`-` $X_t=0$ 이라면? ($t$시점에 비가 오지 않았다면?)"
      ],
      "id": "4b83fe22-5aac-4b62-8f1a-d3d82a09edcf"
    },
    {
      "cell_type": "code",
      "execution_count": 289,
      "metadata": {},
      "outputs": [
        {
          "output_type": "display_data",
          "metadata": {},
          "data": {
            "text/plain": [
              "False"
            ]
          }
        }
      ],
      "source": [
        "np.random.rand() < 0.6 "
      ],
      "id": "db105161-8c13-403e-a934-029519aa3986"
    },
    {
      "cell_type": "markdown",
      "metadata": {},
      "source": [
        "`-` $X_t=1$ 이라면? ($t$시점에 비가 왔다면?)"
      ],
      "id": "7fc87d03-26ab-4bcc-af0f-075b54780bcf"
    },
    {
      "cell_type": "code",
      "execution_count": 290,
      "metadata": {},
      "outputs": [
        {
          "output_type": "display_data",
          "metadata": {},
          "data": {
            "text/plain": [
              "array([], dtype=bool)"
            ]
          }
        }
      ],
      "source": [
        "np.random.rand(0) < 0.3"
      ],
      "id": "4ad06729-e708-4c4c-b3c7-4f357015003f"
    },
    {
      "cell_type": "markdown",
      "metadata": {},
      "source": [
        "`-` 두 코드를 합쳐보자."
      ],
      "id": "ebe0cf77-515e-4dba-a7a7-a0d7c15a5cf0"
    },
    {
      "cell_type": "code",
      "execution_count": 291,
      "metadata": {},
      "outputs": [],
      "source": [
        "def rain(before):\n",
        "    if before == True: # 비가 왔음 \n",
        "        after = np.random.rand() < 0.3\n",
        "    else: # 비가 안왔음 \n",
        "        after = np.random.rand() < 0.6 \n",
        "    return after "
      ],
      "id": "a0b39d4f-fd49-4065-951e-6dfe2d745fb9"
    },
    {
      "cell_type": "markdown",
      "metadata": {},
      "source": [
        "`-` 테스트"
      ],
      "id": "c5631edf-ca5b-474a-8688-c61f956f6440"
    },
    {
      "cell_type": "code",
      "execution_count": 292,
      "metadata": {},
      "outputs": [
        {
          "output_type": "display_data",
          "metadata": {},
          "data": {
            "text/plain": [
              "30"
            ]
          }
        }
      ],
      "source": [
        "# 비가 왔음, Xt = 1 \n",
        "sum([rain(1) for i in range(100)])"
      ],
      "id": "bfd573c5-efc8-4358-a00c-805f0645f047"
    },
    {
      "cell_type": "code",
      "execution_count": 293,
      "metadata": {},
      "outputs": [
        {
          "output_type": "display_data",
          "metadata": {},
          "data": {
            "text/plain": [
              "60"
            ]
          }
        }
      ],
      "source": [
        "# 비가 안왔음, Xt = 0 \n",
        "sum([rain(0) for i in range(100)])"
      ],
      "id": "658a0e08-0f45-416d-9565-cc24bcc1075a"
    },
    {
      "cell_type": "markdown",
      "metadata": {},
      "source": [
        "`-` 하나의 $\\omega$에 대응하는 길이가 10000인 확률과정을 관찰"
      ],
      "id": "88106930-03ba-447f-9b66-0730737bb2b6"
    },
    {
      "cell_type": "code",
      "execution_count": 294,
      "metadata": {},
      "outputs": [],
      "source": [
        "def doctor_strange(today):\n",
        "    lst = [today]\n",
        "    for i in range(10000): \n",
        "        lst.append(rain(lst[i]))\n",
        "    return lst "
      ],
      "id": "10ff1c3a-c09c-4922-8dbd-fa5ded5447a0"
    },
    {
      "cell_type": "code",
      "execution_count": 295,
      "metadata": {},
      "outputs": [],
      "source": [
        "today = True # 오늘 비가 왔다는 뜻 \n",
        "arr = doctor_strange(today)"
      ],
      "id": "cb0fa89a-604e-4e2b-8080-528b922c9d4c"
    },
    {
      "cell_type": "code",
      "execution_count": 296,
      "metadata": {},
      "outputs": [
        {
          "output_type": "display_data",
          "metadata": {},
          "data": {
            "text/plain": [
              "10001"
            ]
          }
        }
      ],
      "source": [
        "len(arr)"
      ],
      "id": "0cc5d7ab-a472-40a9-a526-230cd8937f7f"
    },
    {
      "cell_type": "markdown",
      "metadata": {},
      "source": [
        "`-` 4305개의 $\\omega$에 대응하는 길이가 10000인 확률과정을 관찰"
      ],
      "id": "828808c7-1073-4169-8822-432a5e33f5b2"
    },
    {
      "cell_type": "code",
      "execution_count": 297,
      "metadata": {},
      "outputs": [],
      "source": [
        "today = True # 오늘 비가 왔다는 뜻 \n",
        "arr = np.array([doctor_strange(today) for ω in range(4305)])"
      ],
      "id": "23a07225-bf36-4d2c-92af-cb05ba45ee17"
    },
    {
      "cell_type": "code",
      "execution_count": 310,
      "metadata": {},
      "outputs": [
        {
          "output_type": "display_data",
          "metadata": {},
          "data": {
            "text/plain": [
              "0.4662020905923345"
            ]
          }
        }
      ],
      "source": [
        "arr[:,-1].mean()"
      ],
      "id": "ef903af7-095c-4d73-b4df-5a238482b19b"
    },
    {
      "cell_type": "markdown",
      "metadata": {},
      "source": [
        "`-` 10000일 뒤에도 비가 올 확률은 약 46% 정도 인듯\n",
        "\n",
        "# 풀이2\n",
        "\n",
        "`-` 세상의 법칙을 다시 정리해보자.\n",
        "\n",
        "-   $X_{t-1}=0 \\Rightarrow X_t \\sim Ber(0.6)$\n",
        "-   $X_{t-1}=1 \\Rightarrow X_t \\sim Ber(0.3)$\n",
        "\n",
        "`-` 정리하면\n",
        "\n",
        "-   $P(X_t=0)= P(X_{t-1}=0) \\times 0.4 + P(X_{t-1}=1) \\times 0.7$\n",
        "-   $P(X_t=1)= P(X_{t-1}=0) \\times 0.6 + P(X_{t-1}=1) \\times 0.3$\n",
        "\n",
        "`-` 매트릭스형태로 표현하면\n",
        "\n",
        "-   $\\begin{bmatrix} P(X_t=0) \\\\ P(X_t=1) \\end{bmatrix}= \\begin{bmatrix} 0.4 & 0.7 \\\\ 0.6 & 0.3 \\end{bmatrix} \\begin{bmatrix} P(X_{t-1}=0) \\\\ P(X_{t-1}=1) \\end{bmatrix}$\n",
        "-   ${\\boldsymbol \\mu}_t = {\\bf P} {\\boldsymbol \\mu}_{t-1}$\n",
        "\n",
        "`-` 이렇게 놓고 보니까\n",
        "\n",
        "-   ${\\boldsymbol \\mu}_1 ={\\bf P}{\\boldsymbol \\mu}_0$\n",
        "-   ${\\boldsymbol \\mu}_2 ={\\bf P}{\\boldsymbol \\mu}_1={\\bf P}^2{\\boldsymbol \\mu}_0$\n",
        "-   $\\dots$\n",
        "-   ${\\boldsymbol \\mu}_{10000} ={\\bf P}^{10000}{\\boldsymbol \\mu}_0$\n",
        "\n",
        "`-` 이제 계산을 해보자."
      ],
      "id": "d948d704-b2a5-485a-9e77-1fcb2d6c8863"
    },
    {
      "cell_type": "code",
      "execution_count": 312,
      "metadata": {},
      "outputs": [
        {
          "output_type": "display_data",
          "metadata": {},
          "data": {
            "text/plain": [
              "array([[0],\n",
              "       [1]])"
            ]
          }
        }
      ],
      "source": [
        "μ0 = np.array([[0],[1]])\n",
        "μ0"
      ],
      "id": "e664293d-c869-467b-aeb2-0e668752be62"
    },
    {
      "cell_type": "code",
      "execution_count": 314,
      "metadata": {},
      "outputs": [
        {
          "output_type": "display_data",
          "metadata": {},
          "data": {
            "text/plain": [
              "array([[0.4, 0.7],\n",
              "       [0.6, 0.3]])"
            ]
          }
        }
      ],
      "source": [
        "P = np.array([[0.4,0.7],[0.6,0.3]])\n",
        "P"
      ],
      "id": "06c27a74-2b7c-4576-9300-58dfe70e46fd"
    },
    {
      "cell_type": "code",
      "execution_count": 316,
      "metadata": {},
      "outputs": [
        {
          "output_type": "display_data",
          "metadata": {},
          "data": {
            "text/plain": [
              "array([[0.58, 0.49],\n",
              "       [0.42, 0.51]])"
            ]
          }
        }
      ],
      "source": [
        "P@P # P의 제곱"
      ],
      "id": "868b7371-4ac9-4eac-864f-98a448da2021"
    },
    {
      "cell_type": "code",
      "execution_count": 317,
      "metadata": {},
      "outputs": [
        {
          "output_type": "display_data",
          "metadata": {},
          "data": {
            "text/plain": [
              "array([[0.5422, 0.5341],\n",
              "       [0.4578, 0.4659]])"
            ]
          }
        }
      ],
      "source": [
        "P@P@P@P # P의 4제곱"
      ],
      "id": "89ce69b1-a740-4a32-80e7-9daf9a6e2d27"
    },
    {
      "cell_type": "code",
      "execution_count": 318,
      "metadata": {},
      "outputs": [
        {
          "output_type": "display_data",
          "metadata": {},
          "data": {
            "text/plain": [
              "array([[0.53849182, 0.53842621],\n",
              "       [0.46150818, 0.46157379]])"
            ]
          }
        }
      ],
      "source": [
        "P@P@P@P @ P@P@P@P # P의 8제곱 "
      ],
      "id": "0e1b9adf-fa01-40d9-998a-c46b55019c42"
    },
    {
      "cell_type": "code",
      "execution_count": 319,
      "metadata": {},
      "outputs": [
        {
          "output_type": "display_data",
          "metadata": {},
          "data": {
            "text/plain": [
              "array([[0.53846154, 0.53846154],\n",
              "       [0.46153846, 0.46153846]])"
            ]
          }
        }
      ],
      "source": [
        "P@P@P@P@P@P@P@P @ P@P@P@P@P@P@P@P # P의 16제곱 "
      ],
      "id": "ea954214-ffd3-4877-a82a-d7d4dfe25abb"
    },
    {
      "cell_type": "markdown",
      "metadata": {},
      "source": [
        "${\\bf P}$가 수렴하는거 같지 않어?"
      ],
      "id": "8042a736-2f37-4608-9650-78a626772c4d"
    },
    {
      "cell_type": "code",
      "execution_count": 320,
      "metadata": {},
      "outputs": [
        {
          "output_type": "display_data",
          "metadata": {},
          "data": {
            "text/plain": [
              "array([[0.53846154, 0.53846154],\n",
              "       [0.46153846, 0.46153846]])"
            ]
          }
        }
      ],
      "source": [
        "P@P@P@P@P@P@P@P@P@P@P@P@P@P@P@P @ P@P@P@P@P@P@P@P@P@P@P@P@P@P@P@P "
      ],
      "id": "961de829-e5e6-4a33-a0aa-bf8ad1dfe6f8"
    },
    {
      "cell_type": "markdown",
      "metadata": {},
      "source": [
        "대충 ${\\bf P}^{10000} \\approx {\\bf P}^{32}$"
      ],
      "id": "38631797-6fab-4c72-bf08-4c12de28c23e"
    },
    {
      "cell_type": "code",
      "execution_count": 324,
      "metadata": {},
      "outputs": [
        {
          "output_type": "display_data",
          "metadata": {},
          "data": {
            "text/plain": [
              "array([[0.53846154, 0.53846154],\n",
              "       [0.46153846, 0.46153846]])"
            ]
          }
        }
      ],
      "source": [
        "Plim = P@P@P@P@P@P@P@P@P@P@P@P@P@P@P@P @ P@P@P@P@P@P@P@P@P@P@P@P@P@P@P@P \n",
        "Plim "
      ],
      "id": "ce8060a9-fe9d-4519-a543-073da4e7aa07"
    },
    {
      "cell_type": "code",
      "execution_count": 325,
      "metadata": {},
      "outputs": [
        {
          "output_type": "display_data",
          "metadata": {},
          "data": {
            "text/plain": [
              "array([[0.53846154],\n",
              "       [0.46153846]])"
            ]
          }
        }
      ],
      "source": [
        "Plim @ μ0"
      ],
      "id": "64fe0f89-510e-4d0c-961e-38af463501c5"
    },
    {
      "cell_type": "markdown",
      "metadata": {},
      "source": [
        "`-` 이 풀이에 따르면 10000일 뒤에 비가 올 확률은 46% 정도이다.\n",
        "\n",
        "# 풀이3\n",
        "\n",
        "`-` 세상의 법칙을 다시 정리해보자.\n",
        "\n",
        "-   $X_{t-1}=0 \\Rightarrow X_t \\sim Ber(0.6)$\n",
        "-   $X_{t-1}=1 \\Rightarrow X_t \\sim Ber(0.3)$\n",
        "\n",
        "`-` 추측: 10000일 뒤에 비가 올 확률이 $p$라고 치자. 그렇다면 9999일 뒤에\n",
        "비가 올 확률도 $p$ 아닐까?\n",
        "\n",
        "***이걸 가정하고 계산해보자***\n",
        "\n",
        "`1`. 9999일 뒤에 비가 안 올 확률 $1-p$\n",
        "\n",
        "-   9999일 뒤에 비가 안오고, 10000일 뒤에는 비가 올 확률: $0.6(1-p)$\n",
        "-   9999일 뒤에 비가 안오고, 10000일 뒤에는 비가 안 올 확률: $0.4(1-p)$\n",
        "\n",
        "`2`. 9999일 뒤에 비가 올 확률 $p$\n",
        "\n",
        "-   9999일 뒤에 비가 오고, 10000일 뒤에도 비가 올 확률: $0.3p$\n",
        "-   9999일 뒤에 비가 오고, 10000일 뒤에는 비가 안 올 확률: $0.7p$\n",
        "\n",
        "따라서 $0.6(1-p) + 0.3p = p$\n",
        "\n",
        "풀어보면 $0.6/1.3 =p$"
      ],
      "id": "7aa6c073-b107-46f0-9fb8-485f93110c09"
    },
    {
      "cell_type": "code",
      "execution_count": 336,
      "metadata": {},
      "outputs": [
        {
          "output_type": "display_data",
          "metadata": {},
          "data": {
            "text/plain": [
              "0.4615384615384615"
            ]
          }
        }
      ],
      "source": [
        "0.6/1.3"
      ],
      "id": "c0533e1a-90e2-4e60-92f2-1bebd8389788"
    },
    {
      "cell_type": "markdown",
      "metadata": {},
      "source": [
        "# 풀이4"
      ],
      "id": "07985b93-cd2f-4b02-8113-24ca353bd250"
    },
    {
      "cell_type": "code",
      "execution_count": 335,
      "metadata": {},
      "outputs": [
        {
          "output_type": "display_data",
          "metadata": {},
          "data": {
            "text/plain": [
              "0.462"
            ]
          }
        }
      ],
      "source": [
        "np.mean(doctor_strange(True)[1:])"
      ],
      "id": "06a499b2-22f3-4e8b-8cce-5dfaa2adf56b"
    }
  ],
  "nbformat": 4,
  "nbformat_minor": 5,
  "metadata": {
    "kernelspec": {
      "name": "python3",
      "display_name": "Python 3",
      "language": "python"
    },
    "language_info": {
      "name": "python",
      "codemirror_mode": {
        "name": "ipython",
        "version": "3"
      },
      "file_extension": ".py",
      "mimetype": "text/x-python",
      "nbconvert_exporter": "python",
      "pygments_lexer": "ipython3",
      "version": "3.8.16"
    }
  }
}