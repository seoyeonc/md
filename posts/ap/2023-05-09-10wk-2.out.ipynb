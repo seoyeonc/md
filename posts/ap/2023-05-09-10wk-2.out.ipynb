{
  "cells": [
    {
      "cell_type": "markdown",
      "metadata": {},
      "source": [
        "# 10wk-2: 마코프체인 (7)\n",
        "\n",
        "최규빈  \n",
        "5/9/23\n",
        "\n",
        "# 강의영상\n",
        "\n",
        "> youtube:\n",
        "> <https://youtube.com/playlist?list=PLQqh36zP38-yMXZ2TSGxoh-rIjn8vp6cV>\n",
        "\n",
        "# imports"
      ],
      "id": "d933279e-c9bc-4b23-902f-0f1717eca41f"
    },
    {
      "cell_type": "code",
      "execution_count": 6,
      "metadata": {},
      "outputs": [],
      "source": [
        "import numpy as np"
      ],
      "id": "37f384ed-1837-4c08-8aa7-df563200760d"
    },
    {
      "cell_type": "markdown",
      "metadata": {},
      "source": [
        "# LLN의 확장 – 정상분포 관련내용\n",
        "\n",
        "`-` 유일한 정상분포를 가진다는 것을 알고 있다고 하자. 이를 쉽고 편하게\n",
        "구하는 방법?\n",
        "\n",
        "-   배운것1: 문제를 잘 이해하고\n",
        "    ${\\boldsymbol \\pi}^\\top = {\\boldsymbol \\pi}^\\top {\\bf P}$ 에 맞는\n",
        "    분포를 때려맞춤.\n",
        "-   배운것2: 고유값, 고유벡터의 개념을 이용하여 찾아냄\n",
        "\n",
        "`-` **정리(큰 수의 법칙)**: 확률변수열 $\\{X_t\\}_{t \\in \\mathbb{N}_0}$ 이\n",
        "서로 독립이고 동일한 분포를 가진다고 하자. 또한\n",
        "$\\mathbb{E}[|X_0|]<\\infty$ 이라고 가정하자. 그러면 아래가 성립한다.\n",
        "\n",
        "$$\\lim_{T\\to\\infty} \\frac{1}{T}\\sum_{t=0}^{T-1}X_t = \\mathbb{E}_{\\pi}[X_0]$$\n",
        "\n",
        "단, 여기에서 $\\pi$는 $X_0$의 분포이다.\n",
        "\n",
        "`-` **Thm** (에르고딕정리): 확률변수열 $\\{X_t\\}_{t \\in \\mathbb{N}_0}$이\n",
        "finite and irreducible HMC 라고 하자. 그러면 임의의 함수\n",
        "$f:S \\to \\mathbb{R}$에 대하여 아래가 성립한다.\n",
        "\n",
        "$$\\lim_{T\\to\\infty} \\frac{1}{T}\\sum_{t=0}^{T-1}f(X_t) = \\mathbb{E}_{\\boldsymbol \\pi}[f(X_0)]$$\n",
        "\n",
        "여기에서 $\\boldsymbol \\pi$는\n",
        "${\\boldsymbol \\pi}^\\top = {\\boldsymbol \\pi}^\\top{\\bf P}$를 만족하는\n",
        "**유일한** 정상분포이고 ${\\bf P}$는 $\\{X_t\\}$의 transition matrix 이다.\n",
        "\n",
        "`-` ($f$의 해석) 만약에\n",
        "$$f(i)= I(i=0)=\\begin{cases} 1 & i = 0 \\\\ 0 & o.w\\end{cases}$$ 이라고\n",
        "하자. 그러면 위의 이론은 아래와 같이 변경된다.\n",
        "\n",
        "$$\\lim_{T\\to\\infty} \\frac{1}{T}\\sum_{t=0}^{T-1}I(X_t=0) =\\mathbb{E}_{\\pi}[I(X_0=0)] = \\mathbb{P}_{\\pi}[X_0=0]=\\pi_0$$\n",
        "\n",
        "> 이 이론의 의미: 우리가 만약에 어떠한 마코프체인이 유일한 정상분포를\n",
        "> 가진다는 사실을 알고 있다고 가정하자. 그럴때 에르고딕 정리를 이용하면\n",
        "> 정상분포의 값을 시간평균으로 근사할 수 있다는 의미이다.\n",
        "\n",
        "## 예제1: 단위행렬\n",
        "\n",
        "HMC $\\{X_t\\}$의 전이행렬이 아래와 같다고 하자."
      ],
      "id": "e48fddbe-2483-4cce-88ee-cd88b0f4c86a"
    },
    {
      "cell_type": "code",
      "execution_count": 7,
      "metadata": {},
      "outputs": [
        {
          "output_type": "display_data",
          "metadata": {},
          "data": {
            "text/plain": [
              "array([[1, 0],\n",
              "       [0, 1]])"
            ]
          }
        }
      ],
      "source": [
        "P = np.array([[1,0],\n",
        "              [0,1]])\n",
        "P"
      ],
      "id": "c4e35010-acf5-4b61-a025-b740f37226fc"
    },
    {
      "cell_type": "markdown",
      "metadata": {},
      "source": [
        "$\\{X_t\\}$는 유일한 정상분포를 가지는가? 가진다면 시간평균을 이용하여\n",
        "정상분포를 근사하라.\n",
        "\n",
        "(풀이)\n",
        "\n",
        "이 경우는 IRR 조건이 만족되지 않으므로 유일한 정상분포가 존재하지 않음.\n",
        "그래서 에르고딕정리를 이용할 수 없다.\n",
        "\n",
        "## 예제2: 순환이동\n",
        "\n",
        "HMC $\\{X_t\\}$의 전이행렬이 아래와 같다고 하자."
      ],
      "id": "fddea3be-6449-4361-b571-e49a6c732f21"
    },
    {
      "cell_type": "code",
      "execution_count": 8,
      "metadata": {},
      "outputs": [
        {
          "output_type": "display_data",
          "metadata": {},
          "data": {
            "text/plain": [
              "array([[0, 1],\n",
              "       [1, 0]])"
            ]
          }
        }
      ],
      "source": [
        "P = np.array([[0,1],\n",
        "              [1,0]])\n",
        "P"
      ],
      "id": "3af60f68-d749-4277-a7b8-ba14e8442cf3"
    },
    {
      "cell_type": "markdown",
      "metadata": {},
      "source": [
        "$\\{X_t\\}$는 유일한 정상분포를 가지는가? 가진다면 시간평균을 이용하여\n",
        "정상분포를 구하여라.\n",
        "\n",
        "(풀이)\n",
        "\n",
        "$\\{X_t\\}$는 finite and irreducible HMC 이므로 유일한 정상분포를 가진다.\n",
        "시뮬레이션을 한다면\n",
        "\n",
        "-   $0,1,0,1,0,1,0, \\dots$\n",
        "-   $1,0,1,0,1,0,1, \\dots$\n",
        "\n",
        "중 하나의 열(array)이 관찰 될 것이고 두 경우 모두\n",
        "\n",
        "-   $\\big(\\frac{1}{T}\\sum_{t=0}^{T-1}I(X_t=0),\\frac{1}{T}\\sum_{t=0}^{T-1}I(X_t=1)\\big)=(\\hat{\\pi}_0,\\hat{\\pi}_1)\\approx (1/2,1/2)$\n",
        "\n",
        "와 같이 구할 수 있음\n",
        "\n",
        "## 예제3: 비가 온다, 안온다\n",
        "\n",
        "HMC $\\{X_t\\}$의 전이행렬이 아래와 같다고 하자."
      ],
      "id": "d422e6f2-c46b-474e-8e04-ee8dbab4d87e"
    },
    {
      "cell_type": "code",
      "execution_count": 9,
      "metadata": {},
      "outputs": [
        {
          "output_type": "display_data",
          "metadata": {},
          "data": {
            "text/plain": [
              "array([[0.4, 0.6],\n",
              "       [0.7, 0.3]])"
            ]
          }
        }
      ],
      "source": [
        "P = np.array([[0.4,0.6],\n",
        "              [0.7,0.3]])\n",
        "P"
      ],
      "id": "22324a5f-be4c-4db0-91be-f1c022c7fcbb"
    },
    {
      "cell_type": "markdown",
      "metadata": {},
      "source": [
        "$\\{X_t\\}$는 유일한 정상분포를 가지는가? 가진다면 시간평균을 이용하여\n",
        "정상분포를 구하여라.\n",
        "\n",
        "(풀이) 이 강의노트의\n",
        "[풀이4](https://guebin.github.io/SP2023/posts/2.%20마코프체인/2023-04-13-7wk-1.html)"
      ],
      "id": "d650063c-cc6f-48e3-9b20-8c8b931360c7"
    },
    {
      "cell_type": "code",
      "execution_count": 10,
      "metadata": {},
      "outputs": [],
      "source": [
        "def rain(before):\n",
        "    if before == True: # 비가 왔음 \n",
        "        after = np.random.rand() < 0.3\n",
        "    else: # 비가 안왔음 \n",
        "        after = np.random.rand() < 0.6 \n",
        "    return after "
      ],
      "id": "ca915318-60d9-44b1-ba69-cf6b49aeb7a9"
    },
    {
      "cell_type": "code",
      "execution_count": 11,
      "metadata": {},
      "outputs": [],
      "source": [
        "def doctor_strange(today):\n",
        "    lst = [today]\n",
        "    for i in range(10000): \n",
        "        lst.append(rain(lst[i]))\n",
        "    return lst "
      ],
      "id": "c0e73bcb-bfdb-4260-84aa-e1426628a7cd"
    },
    {
      "cell_type": "code",
      "execution_count": 12,
      "metadata": {},
      "outputs": [
        {
          "output_type": "display_data",
          "metadata": {},
          "data": {
            "text/plain": [
              "0.4616"
            ]
          }
        }
      ],
      "source": [
        "np.mean(doctor_strange(True)[1:])"
      ],
      "id": "7bcbb804-19e9-4308-b448-2e2beed0f852"
    },
    {
      "cell_type": "markdown",
      "metadata": {},
      "source": [
        "# 정리\n",
        "\n",
        "$\\{X_t\\}$는 HMC 라고 하자.\n",
        "\n",
        "| CaseNO | 대표예제 | FINITE | IRR(연결) | AP(비주기) | ${\\bf P}$의 수렴 | 동일한 row | 정상분포존재 | 정상분포유일 | 에르고딕정리를 만족 | 에르고딕 |\n",
        "|:-----:|:-----:|:-----:|:-----:|:-----:|:-----:|:-----:|:-----:|:-----:|:-----:|:-----:|\n",
        "|   1    |          |   O    |     X     |     X      |        X         |     X      |      O       |      X       |          X          |    X     |\n",
        "|   2    | 단위행렬 |   O    |     X     |     O      |        O         |     X      |      O       |      X       |          X          |    X     |\n",
        "|   3    | 순환이동 |   O    |     O     |     X      |        X         |     X      |      O       |      O       |          O          |    X     |\n",
        "|   4    |  나이스  |   O    |     O     |     O      |        O         |     O      |      O       |      O       |          O          |    O     |"
      ],
      "id": "f4e5769c-23e1-4aa8-80ed-241f68b559c4"
    }
  ],
  "nbformat": 4,
  "nbformat_minor": 5,
  "metadata": {
    "kernelspec": {
      "name": "python3",
      "display_name": "Python 3",
      "language": "python"
    },
    "language_info": {
      "name": "python",
      "codemirror_mode": {
        "name": "ipython",
        "version": "3"
      },
      "file_extension": ".py",
      "mimetype": "text/x-python",
      "nbconvert_exporter": "python",
      "pygments_lexer": "ipython3",
      "version": "3.8.16"
    }
  }
}