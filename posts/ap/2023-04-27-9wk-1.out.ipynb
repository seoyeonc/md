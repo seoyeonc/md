{
  "cells": [
    {
      "cell_type": "markdown",
      "metadata": {},
      "source": [
        "# 09wk-1: 마코프체인 (6)\n",
        "\n",
        "최규빈  \n",
        "4/27/23\n",
        "\n",
        "# 강의영상\n",
        "\n",
        "> youtube:\n",
        "> <https://youtube.com/playlist?list=PLQqh36zP38-xbWjXgaQNqqqZDzuV1QsgL>\n",
        "\n",
        "# imports"
      ],
      "id": "62a4a2a4-be07-4069-8b7a-50e7d7007357"
    },
    {
      "cell_type": "code",
      "execution_count": 1,
      "metadata": {},
      "outputs": [],
      "source": [
        "import numpy as np "
      ],
      "id": "68a4490e-15e8-42b2-953a-f53b31f78365"
    },
    {
      "cell_type": "markdown",
      "metadata": {},
      "source": [
        "# aperiodic\n",
        "\n",
        "## Motivating Examples (cont)\n",
        "\n",
        "### 예제3\n",
        "\n",
        "`-` 아래의 전이확률을 고려하자."
      ],
      "id": "1c1fcc19-b684-491c-b13d-1efed4b79254"
    },
    {
      "cell_type": "code",
      "execution_count": 316,
      "metadata": {},
      "outputs": [
        {
          "output_type": "display_data",
          "metadata": {},
          "data": {
            "text/plain": [
              "array([[0. , 1. , 0. , 0. ],\n",
              "       [0.5, 0. , 0.5, 0. ],\n",
              "       [0. , 0. , 0. , 1. ],\n",
              "       [0. , 1. , 0. , 0. ]])"
            ]
          }
        }
      ],
      "source": [
        "P =np.array([0.0, 1.0, 0.0, 0.0, \n",
        "             1/2, 0.0, 1/2, 0.0,\n",
        "             0.0, 0.0, 0.0, 1.0,\n",
        "             0.0, 1.0, 0.0, 0.0]).reshape(4,4)\n",
        "P"
      ],
      "id": "99ed7c7e-4f81-43b0-9cec-0a98b0598ce4"
    },
    {
      "cell_type": "markdown",
      "metadata": {},
      "source": [
        "`-` 다이어그램"
      ],
      "id": "d92511de-5e24-4507-9110-4dc8e5a36e27"
    },
    {
      "cell_type": "code",
      "execution_count": null,
      "metadata": {},
      "outputs": [
        {
          "output_type": "display_data",
          "metadata": {},
          "data": {
            "text/html": [
              "</p>"
            ]
          }
        }
      ],
      "source": [],
      "id": "49635aa1-0db7-4483-a510-42db21647990"
    },
    {
      "cell_type": "markdown",
      "metadata": {},
      "source": [
        "`-` 특징1,2:"
      ],
      "id": "b1109b9a-3e49-455d-9692-477ff7d1fc48"
    },
    {
      "cell_type": "code",
      "execution_count": 323,
      "metadata": {},
      "outputs": [
        {
          "output_type": "display_data",
          "metadata": {},
          "data": {
            "text/plain": [
              "matrix([[0.2, 0.4, 0.2, 0.2],\n",
              "        [0.2, 0.4, 0.2, 0.2],\n",
              "        [0.2, 0.4, 0.2, 0.2],\n",
              "        [0.2, 0.4, 0.2, 0.2]])"
            ]
          }
        }
      ],
      "source": [
        "np.matrix(P)**500"
      ],
      "id": "f689834f-f327-4406-bfba-1c9bce62f465"
    },
    {
      "cell_type": "markdown",
      "metadata": {},
      "source": [
        "`-` 특징3: 정상분포를 가짐\n",
        "\n",
        "`-` 특징4: 초기분포가 정상분포라면 정상확률과정\n",
        "\n",
        "`-` 특징5: irr\n",
        "\n",
        "`-` 특징6: 주기가 없음"
      ],
      "id": "aac9f432-a437-42c1-b345-1854b3f667a5"
    },
    {
      "cell_type": "code",
      "execution_count": null,
      "metadata": {},
      "outputs": [
        {
          "output_type": "display_data",
          "metadata": {},
          "data": {
            "text/html": [
              "</p>"
            ]
          }
        }
      ],
      "source": [],
      "id": "760a40b5-ec41-4be5-b1ac-51c9692c2e95"
    },
    {
      "cell_type": "markdown",
      "metadata": {},
      "source": [
        "**1에서 시작한다면?**\n",
        "\n",
        "-   $1 \\to 0 \\to 1$, 2번만에 리턴\n",
        "-   $1 \\to 2 \\to 3 \\to 1$, 3번만에 리턴\n",
        "\n",
        "이 경우 2와 3의 최대공약수는 1이므로 주기는 1이다. 그리고 finite state\n",
        "space를 가지는 HMC는 모든 state가 항상 같은 주기를 가지므로 이\n",
        "마코프체인의 모든 주기는 1이다.\n",
        "\n",
        "> 주기가 1인 경우는 aperiodic 하다고 표현한다. (언제 올지 몰라)\n",
        "\n",
        "> 꿀팁: 자기자신으로 1턴만에 되돌아올 확률이 있다면 항상 aperiodic 하다.\n",
        "\n",
        "## 정의 및 이론\n",
        "\n",
        "`-` 정의:\n",
        "\n",
        "`-` 느낌: 상태 $i$에서 $i$로 되돌아오는 횟수들의 최대공약수를 HMC\n",
        "$\\{X_t\\}$의 period라고 하고, period=1인 경우를 aperiodic 이라고 한다.\n",
        "\n",
        "`-` **이론**: HMC $\\{X_t\\}$이 IRR이면, 모든 상태가 항상 같은 주기를\n",
        "가진다.\n",
        "\n",
        "# 에르고딕 마코프체인\n",
        "\n",
        "## 정의 및 이론\n",
        "\n",
        "`-` **Thm**: HMC $\\{X_t\\}$가 (1) finite state space를 가지고 (2)\n",
        "irreduciable 하고 (3) aperiodic 이라면, ${\\bf P}$가 수렴하고 수렴한\n",
        "matrix의 모든 row는 같다. 따라서 임의의 초기분포 ${\\boldsymbol \\mu}$ 에\n",
        "대하여\n",
        "\n",
        "$$\\lim_{t\\to \\infty}{\\boldsymbol \\mu}^\\top{\\bf P}^t = {\\boldsymbol \\pi}^\\top $$\n",
        "\n",
        "이 성립한다. 여기에서 ${\\boldsymbol \\pi}$는 $\\{X_t\\}$의 정상분포이다.\n",
        "\n",
        "`-` 정의: 아래의 식을 만족하는 HMC $\\{X_t\\}$을 에르고딕하다고 말한다.\n",
        "\n",
        "$$\\lim_{t\\to \\infty}{\\boldsymbol \\mu}^\\top{\\bf P}^t = {\\boldsymbol \\pi}^\\top $$\n",
        "\n",
        "# 구글의 페이지랭크\n",
        "\n",
        "## intro\n",
        "\n",
        "`-` Google\n",
        "\n",
        "-   Google은 사용자의 검색어와 일치하는 검색 결과를 제공\n",
        "-   Google은 웹사이트들 사이에서 “더 나은” 또는 “더 중요한” 웹사이트가\n",
        "    검색 결과 상위에 나타나도록 순위를 유지\n",
        "-   이 순위는 전체 문제를 한 번에 해결하는 것이 아니라 먼저 전체적으로\n",
        "    수립되고(검색어와는 독립적으로), 그 후에 검색어와 일치하는\n",
        "    웹사이트들만 해당 순위에 따라 정렬된다고 함\n",
        "\n",
        "`-` 이 강의에서는 순위 매기기에 초점을 맞추어 생각해보자. (이는\n",
        "마코프체인과 관련이 있음)\n",
        "\n",
        "-   ref: <https://en.wikipedia.org/wiki/PageRank>\n",
        "\n",
        "`-` 페이지랭크\n",
        "\n",
        "-   페이지랭크(PageRank)는 구글 검색에서 웹 페이지의 순위를 결정하는\n",
        "    알고리즘으로 이는 “웹 페이지”와 구글 공동 창업자인 라리 페이지(Larry\n",
        "    Page)의 이름을 따서 지어졌음\n",
        "-   페이지랭크는 웹사이트 페이지의 중요성을 측정하는 방법이며 기본적으로\n",
        "    더 중요한 웹사이일수록 다른 웹사이트에서 더 많은 링크를 받을\n",
        "    가능성이 높다는 점에 착안함\n",
        "-   페이지랭크는 구글이 검색 결과를 정렬하는 데 사용하는 유일한\n",
        "    알고리즘이 아니지만, 구글에서 사용한 최초의 알고리즘이며, 가장 잘\n",
        "    알려진 알고리즘임\n",
        "\n",
        "## toy example\n",
        "\n",
        "`-` 아래는 7개의 website에 대한 web graph이다."
      ],
      "id": "96d97824-370d-4b75-9af8-bf32251e361b"
    },
    {
      "cell_type": "code",
      "execution_count": null,
      "metadata": {},
      "outputs": [
        {
          "output_type": "display_data",
          "metadata": {},
          "data": {
            "text/html": [
              "</p>"
            ]
          }
        }
      ],
      "source": [],
      "id": "bcd6ceb3-89bc-4599-9529-07c50802793a"
    },
    {
      "cell_type": "markdown",
      "metadata": {},
      "source": [
        "`-` 여기에서 가장 중요한 웹사이트는 무엇일까?\n",
        "\n",
        "-   구글의 아이디어는 기본적으로 **더 많은 화살표를 받는 쪽이 더 중요한\n",
        "    웹사이트이다** 라는 것이었다.\n",
        "-   이 논리대로라면 노드 2,3,5가 똑같이 중요해보인다.\n",
        "-   좀 더 생각해보니까 노드2보다 노드3과 노드5가 더 중요해보인다.\n",
        "    왜냐하면 노드2는 확률 1/2 짜리 화살표 2개이지만 노드3과 노드5는 확률\n",
        "    1짜리 화살표가 2개임\n",
        "-   그렇지만 또 노드3보다는 노드5가 더 중요해보인다. 왜냐하면 노드3을\n",
        "    방문한 사람은 결국은 노드5로 갈테니까 노드3보다 노드5가 더 중요한\n",
        "    사이트라고 볼 수 있다.\n",
        "-   그럼 노드3의 중요도가 1일때 노드5의 중요도는 얼마정도 될까?\n",
        "\n",
        "`-` 구글의 아이디어: **random surfer**\n",
        "\n",
        "-   무작위로 웹사이트를 방문하는 가상의 유저를 만들자.\n",
        "-   그리고 이 유저가 많이 방문하게 되는 웹사이트를 기록하자.\n",
        "\n",
        "`-` 구글의 아이디어는 결국 위의 다이어그램을 토대로 transition matrix\n",
        "${\\bf P}$를 만들고 임의의 초기상태 ${\\boldsymbol \\mu}$에 대하여\n",
        "\n",
        "$$\\lim_{t\\to\\infty}{\\boldsymbol \\mu}^\\top{\\bf P}^{t}$$\n",
        "\n",
        "를 계산하겠다는 의미이다.\n",
        "\n",
        "`-` 문제점1: 이 상황은 transition matrix를 만들 수 없는걸?"
      ],
      "id": "0efd6092-2f7e-4e33-8129-de177798b3c7"
    },
    {
      "cell_type": "code",
      "execution_count": 232,
      "metadata": {},
      "outputs": [
        {
          "output_type": "display_data",
          "metadata": {},
          "data": {
            "text/plain": [
              "array([[0. , 0.5, 0.5, 0. , 0. , 0. , 0. ],\n",
              "       [0.5, 0. , 0.5, 0. , 0. , 0. , 0. ],\n",
              "       [0. , 0. , 0. , 1. , 0. , 0. , 0. ],\n",
              "       [0. , 0. , 0. , 0. , 0. , 1. , 0. ],\n",
              "       [0. , 0. , 0. , 1. , 0. , 0. , 0. ],\n",
              "       [0. , 0. , 0. , 0. , 0. , 0. , 0. ],\n",
              "       [0. , 0. , 0. , 0. , 0. , 1. , 0. ]])"
            ]
          }
        }
      ],
      "source": [
        "P = np.array([0.0, 1/2, 1/2, 0.0, 0.0, 0.0, 0.0,\n",
        "              1/2, 0.0, 1/2, 0.0, 0.0, 0.0, 0.0,\n",
        "              0.0, 0.0, 0.0, 1.0, 0.0, 0.0, 0.0,\n",
        "              0.0, 0.0, 0.0, 0.0, 0.0, 1.0, 0.0,\n",
        "              0.0, 0.0, 0.0, 1.0, 0.0, 0.0, 0.0,\n",
        "              0.0, 0.0, 0.0, 0.0, 0.0, 0.0, 0.0, ### 이 부분은 다 0이다. \n",
        "              0.0, 0.0, 0.0, 0.0, 0.0, 1.0, 0.0]).reshape(7,7)\n",
        "P"
      ],
      "id": "36dacfe9-bc12-4d32-9654-59ab95f6e7af"
    },
    {
      "cell_type": "markdown",
      "metadata": {},
      "source": [
        "`-` 문제점1의 해결: 이러한 경우 상태5에서 다른상태로 갈 확률은 랜덤으로\n",
        "다시 뿌린다."
      ],
      "id": "9bb35cb6-bb83-4aef-8869-d2f117291b6e"
    },
    {
      "cell_type": "code",
      "execution_count": 236,
      "metadata": {},
      "outputs": [
        {
          "output_type": "display_data",
          "metadata": {},
          "data": {
            "text/plain": [
              "array([[0.        , 0.5       , 0.5       , 0.        , 0.        ,\n",
              "        0.        , 0.        ],\n",
              "       [0.5       , 0.        , 0.5       , 0.        , 0.        ,\n",
              "        0.        , 0.        ],\n",
              "       [0.        , 0.        , 0.        , 1.        , 0.        ,\n",
              "        0.        , 0.        ],\n",
              "       [0.        , 0.        , 0.        , 0.        , 0.        ,\n",
              "        1.        , 0.        ],\n",
              "       [0.        , 0.        , 0.        , 1.        , 0.        ,\n",
              "        0.        , 0.        ],\n",
              "       [0.14285714, 0.14285714, 0.14285714, 0.14285714, 0.14285714,\n",
              "        0.14285714, 0.14285714],\n",
              "       [0.        , 0.        , 0.        , 0.        , 0.        ,\n",
              "        1.        , 0.        ]])"
            ]
          }
        }
      ],
      "source": [
        "P = np.array([0.0, 1/2, 1/2, 0.0, 0.0, 0.0, 0.0,\n",
        "              1/2, 0.0, 1/2, 0.0, 0.0, 0.0, 0.0,\n",
        "              0.0, 0.0, 0.0, 1.0, 0.0, 0.0, 0.0,\n",
        "              0.0, 0.0, 0.0, 0.0, 0.0, 1.0, 0.0,\n",
        "              0.0, 0.0, 0.0, 1.0, 0.0, 0.0, 0.0,\n",
        "              1/7, 1/7, 1/7, 1/7, 1/7, 1/7, 1/7, ### 이렇게 고쳐버리자~\n",
        "              0.0, 0.0, 0.0, 0.0, 0.0, 1.0, 0.0]).reshape(7,7)\n",
        "P"
      ],
      "id": "8e2c7672-c787-4336-b4c0-a0aa089ad972"
    },
    {
      "cell_type": "markdown",
      "metadata": {},
      "source": [
        "`-` 문제점2: $\\lim_{t\\to\\infty}{\\boldsymbol \\mu}^\\top{\\bf P}^{t}$이게\n",
        "수렴한다는 보장이 어디있지?\n",
        "\n",
        "## 수렴의 트릭\n",
        "\n",
        "`-` 생각: HMC $\\{X_t\\}$가 에르고딕이려면 (1) finite state space를 가지고\n",
        "(2) irreducible (3) aperiodic 해야한다.\n",
        "\n",
        "`-` 그런데 (N,N) 차원을 가지는 임의의 transition matrix ${\\bf P}$를\n",
        "아래와 같이 $\\tilde{\\bf P}$로 변형한다면 이 transition matrix는\n",
        "aperiodic하고 irreducible하게 된다.\n",
        "\n",
        "$$\\tilde{\\bf P} = 0.99 \\cdot {\\bf P} + 0.01 \\cdot \\frac{1}{N}{\\bf J}$$\n",
        "\n",
        "여기에서 ${\\bf J}$는 ${\\bf P}$와 차원이 같고 모든 원소가 1인\n",
        "매트릭스이다. 즉\n",
        "\n",
        "$${\\bf J} = \\begin{bmatrix} 1 & 1 & \\dots & 1 \\\\ 1 & 1 & \\dots & 1 \\\\ \\dots & \\dots & \\dots & \\dots \\\\ 1 & 1 & \\dots & 1 \\end{bmatrix}$$\n",
        "\n",
        "이다.\n",
        "\n",
        "`-` 위의 수식에서 $\\tilde{\\bf P}$는 ${\\bf P}$와 매우 비슷하지만\n",
        "에르고딕한 마코프체인이다.\n",
        "\n",
        "`-` 이러한 $\\tilde{\\bf P}$를 구글매트릭스라고 부르자. 위의 식을 좀 더\n",
        "간결하게 쓰면\n",
        "\n",
        "$${\\bf GoogleMatrix}:= \\alpha\\cdot {\\bf P} + (1-\\alpha)\\cdot\\frac{1}{N}{\\bf J}$$\n",
        "\n",
        "와 같이 된다. 여기에서 $\\alpha \\in (0,1)$ 이다.\n",
        "\n",
        "`-` 여기에서 $\\alpha$는 수렴의 속도를 결정한다.\n",
        "\n",
        "-   ${\\bf P}$가 원래 수렴안하는 조건이었다면 $\\alpha \\approx 1$ 일수록\n",
        "    구글매트릭스는 매우 느리게 수렴할 것이다.\n",
        "-   $\\alpha=0$ 이라면 구글매트릭스는 이미 수렴되어 있다.\n",
        "\n",
        "## 구현"
      ],
      "id": "bffb9683-ac99-4802-8854-438361198783"
    },
    {
      "cell_type": "code",
      "execution_count": 326,
      "metadata": {},
      "outputs": [
        {
          "output_type": "display_data",
          "metadata": {},
          "data": {
            "text/plain": [
              "array([[0.        , 0.5       , 0.5       , 0.        , 0.        ,\n",
              "        0.        , 0.        ],\n",
              "       [0.5       , 0.        , 0.5       , 0.        , 0.        ,\n",
              "        0.        , 0.        ],\n",
              "       [0.        , 0.        , 0.        , 1.        , 0.        ,\n",
              "        0.        , 0.        ],\n",
              "       [0.        , 0.        , 0.        , 0.        , 0.        ,\n",
              "        1.        , 0.        ],\n",
              "       [0.        , 0.        , 0.        , 1.        , 0.        ,\n",
              "        0.        , 0.        ],\n",
              "       [0.14285714, 0.14285714, 0.14285714, 0.14285714, 0.14285714,\n",
              "        0.14285714, 0.14285714],\n",
              "       [0.        , 0.        , 0.        , 0.        , 0.        ,\n",
              "        1.        , 0.        ]])"
            ]
          }
        }
      ],
      "source": [
        "P = np.array([0.0, 1/2, 1/2, 0.0, 0.0, 0.0, 0.0,\n",
        "              1/2, 0.0, 1/2, 0.0, 0.0, 0.0, 0.0,\n",
        "              0.0, 0.0, 0.0, 1.0, 0.0, 0.0, 0.0,\n",
        "              0.0, 0.0, 0.0, 0.0, 0.0, 1.0, 0.0,\n",
        "              0.0, 0.0, 0.0, 1.0, 0.0, 0.0, 0.0,\n",
        "              1/7, 1/7, 1/7, 1/7, 1/7, 1/7, 1/7,\n",
        "              0.0, 0.0, 0.0, 0.0, 0.0, 1.0, 0.0]).reshape(7,7)\n",
        "P"
      ],
      "id": "65f4af51-a11f-4664-b42e-7677afaacd84"
    },
    {
      "cell_type": "code",
      "execution_count": 338,
      "metadata": {},
      "outputs": [],
      "source": [
        "alpha= 0.85 \n",
        "J = np.ones(49).reshape(7,7)\n",
        "GoogleMatrix = alpha*P + (1-alpha)/7 "
      ],
      "id": "e2dc5599-38cd-428d-b5d1-9ef8ea102853"
    },
    {
      "cell_type": "code",
      "execution_count": 344,
      "metadata": {},
      "outputs": [
        {
          "output_type": "display_data",
          "metadata": {},
          "data": {
            "text/plain": [
              "[0.102, 0.102, 0.145, 0.231, 0.058, 0.304, 0.058]"
            ]
          }
        }
      ],
      "source": [
        "np.linalg.matrix_power(GoogleMatrix,100)[0].round(3).tolist()"
      ],
      "id": "550201e0-fa26-4305-a326-427ad1bd7c46"
    },
    {
      "cell_type": "code",
      "execution_count": 348,
      "metadata": {},
      "outputs": [
        {
          "output_type": "display_data",
          "metadata": {},
          "data": {
            "text/html": [
              "<div>\n",
              "<style scoped>\n",
              "    .dataframe tbody tr th:only-of-type {\n",
              "        vertical-align: middle;\n",
              "    }\n",
              "\n",
              "    .dataframe tbody tr th {\n",
              "        vertical-align: top;\n",
              "    }\n",
              "\n",
              "    .dataframe thead th {\n",
              "        text-align: right;\n",
              "    }\n",
              "</style>\n",
              "<table border=\"1\" class=\"dataframe\">\n",
              "  <thead>\n",
              "    <tr style=\"text-align: right;\">\n",
              "      <th></th>\n",
              "      <th>website</th>\n",
              "      <th>pagerank</th>\n",
              "    </tr>\n",
              "  </thead>\n",
              "  <tbody>\n",
              "    <tr>\n",
              "      <th>0</th>\n",
              "      <td>state0</td>\n",
              "      <td>0.102</td>\n",
              "    </tr>\n",
              "    <tr>\n",
              "      <th>1</th>\n",
              "      <td>state1</td>\n",
              "      <td>0.102</td>\n",
              "    </tr>\n",
              "    <tr>\n",
              "      <th>2</th>\n",
              "      <td>state2</td>\n",
              "      <td>0.145</td>\n",
              "    </tr>\n",
              "    <tr>\n",
              "      <th>3</th>\n",
              "      <td>state3</td>\n",
              "      <td>0.231</td>\n",
              "    </tr>\n",
              "    <tr>\n",
              "      <th>4</th>\n",
              "      <td>state4</td>\n",
              "      <td>0.058</td>\n",
              "    </tr>\n",
              "    <tr>\n",
              "      <th>5</th>\n",
              "      <td>state5</td>\n",
              "      <td>0.304</td>\n",
              "    </tr>\n",
              "    <tr>\n",
              "      <th>6</th>\n",
              "      <td>state6</td>\n",
              "      <td>0.058</td>\n",
              "    </tr>\n",
              "  </tbody>\n",
              "</table>\n",
              "</div>"
            ]
          }
        }
      ],
      "source": [
        "import pandas as pd \n",
        "pd.DataFrame({'website':['state'+i for i in '0123456'], \n",
        "             'pagerank': np.linalg.matrix_power(GoogleMatrix,100)[0].round(3).tolist()})"
      ],
      "id": "87da206d-ad2f-4991-902f-2805b8fbcda5"
    },
    {
      "cell_type": "markdown",
      "metadata": {},
      "source": [
        "## 다른풀이"
      ],
      "id": "30164c23-8b11-4d52-acd8-7e12481b8ab9"
    },
    {
      "cell_type": "code",
      "execution_count": 352,
      "metadata": {},
      "outputs": [],
      "source": [
        "_, eigen_vector_matrix = np.linalg.eig(GoogleMatrix.T)"
      ],
      "id": "d6833e34-ab54-43f6-a5bf-a72a90b61026"
    },
    {
      "cell_type": "code",
      "execution_count": 358,
      "metadata": {},
      "outputs": [
        {
          "output_type": "display_data",
          "metadata": {},
          "data": {
            "text/plain": [
              "array([0.10154862, 0.10154862, 0.14470678, 0.2310231 , 0.05839045,\n",
              "       0.30439198, 0.05839045])"
            ]
          }
        }
      ],
      "source": [
        "abs(eigen_vector_matrix[:,0])/ abs(eigen_vector_matrix[:,0]).sum()"
      ],
      "id": "4459fb42-9e2f-4d95-bdec-7e4737686c3e"
    },
    {
      "cell_type": "markdown",
      "metadata": {},
      "source": [
        "## 페이지랭크의 약점\n",
        "\n",
        "`-` 아래와 같은 상황을 고려하자."
      ],
      "id": "237e2215-46b5-43ef-86c2-8061e2259afd"
    },
    {
      "cell_type": "code",
      "execution_count": null,
      "metadata": {},
      "outputs": [
        {
          "output_type": "display_data",
          "metadata": {},
          "data": {
            "text/html": [
              "</p>"
            ]
          }
        }
      ],
      "source": [],
      "id": "239f79f3-3c3f-4985-8fda-0ca535a4e812"
    },
    {
      "cell_type": "code",
      "execution_count": 360,
      "metadata": {},
      "outputs": [
        {
          "output_type": "display_data",
          "metadata": {},
          "data": {
            "text/plain": [
              "array([[0. , 0.5, 0.5, 0. , 0. ],\n",
              "       [0.5, 0. , 0.5, 0. , 0. ],\n",
              "       [0. , 0. , 0. , 1. , 0. ],\n",
              "       [0.2, 0.2, 0.2, 0.2, 0.2],\n",
              "       [0. , 0. , 0. , 1. , 0. ]])"
            ]
          }
        }
      ],
      "source": [
        "P = np.arrfffq/5, 1/5,\n",
        "              0.0, 0.0, 0.0, 1.0, 0.0]).reshape(5,5)\n",
        "P"
      ],
      "id": "b45f5ea4-0c0c-4108-a747-86624438c2d8"
    },
    {
      "cell_type": "code",
      "execution_count": 362,
      "metadata": {},
      "outputs": [],
      "source": [
        "GoogleMatrix = P*0.85 + 0.15/5 "
      ],
      "id": "2d7a90b6-4582-4448-bc77-9a854557bb96"
    },
    {
      "cell_type": "code",
      "execution_count": 364,
      "metadata": {},
      "outputs": [
        {
          "output_type": "display_data",
          "metadata": {},
          "data": {
            "text/plain": [
              "array([[0.15936255, 0.15936255, 0.22709163, 0.3625498 , 0.09163347],\n",
              "       [0.15936255, 0.15936255, 0.22709163, 0.3625498 , 0.09163347],\n",
              "       [0.15936255, 0.15936255, 0.22709163, 0.3625498 , 0.09163347],\n",
              "       [0.15936255, 0.15936255, 0.22709163, 0.3625498 , 0.09163347],\n",
              "       [0.15936255, 0.15936255, 0.22709163, 0.3625498 , 0.09163347]])"
            ]
          }
        }
      ],
      "source": [
        "np.linalg.matrix_power(GoogleMatrix,100)"
      ],
      "id": "0c8e0a04-5516-4d12-904c-ecb832388afc"
    },
    {
      "cell_type": "markdown",
      "metadata": {},
      "source": [
        "`-` 우리는 여기에서 1번네트워크의 page rank를 올리고 싶다고 가정하자.\n",
        "(현재는 5개중 0.15936255)"
      ],
      "id": "49d7fda2-dc7e-4255-a4c3-f0e2d78a059e"
    },
    {
      "cell_type": "code",
      "execution_count": null,
      "metadata": {},
      "outputs": [
        {
          "output_type": "display_data",
          "metadata": {},
          "data": {
            "text/html": [
              "</p>"
            ]
          }
        }
      ],
      "source": [],
      "id": "ed6dd53d-142c-46f7-b49b-e32996b23460"
    },
    {
      "cell_type": "markdown",
      "metadata": {},
      "source": [
        "**Step1:** 먼저 1번에서 다른쪽으로 가는 모든 링크를 끊는다. (다른\n",
        "웹사이트의 page rank를 올려줄 이유가 없음)"
      ],
      "id": "c92f9e02-0856-4758-a6e8-82b900af1eb0"
    },
    {
      "cell_type": "code",
      "execution_count": null,
      "metadata": {},
      "outputs": [
        {
          "output_type": "display_data",
          "metadata": {},
          "data": {
            "text/html": [
              "</p>"
            ]
          }
        }
      ],
      "source": [],
      "id": "a3efce4a-baa1-4bcc-93b1-081b34cc9f76"
    },
    {
      "cell_type": "code",
      "execution_count": 365,
      "metadata": {},
      "outputs": [],
      "source": [
        "P = np.array([0.0, 1/2, 1/2, 0.0, 0.0,\n",
        "              1/5, 1/5, 1/5, 1/5, 1/5,\n",
        "              0.0, 0.0, 0.0, 1.0, 0.0,\n",
        "              1/5, 1/5, 1/5, 1/5, 1/5,\n",
        "              0.0, 0.0, 0.0, 1.0, 0.0]).reshape(5,5)"
      ],
      "id": "0417615d-2eb0-4b14-aa4a-52d7c7b7edb3"
    },
    {
      "cell_type": "code",
      "execution_count": 367,
      "metadata": {},
      "outputs": [
        {
          "output_type": "display_data",
          "metadata": {},
          "data": {
            "text/plain": [
              "array([[0.12640228, 0.18012324, 0.18012324, 0.38694897, 0.12640228],\n",
              "       [0.12640228, 0.18012324, 0.18012324, 0.38694897, 0.12640228],\n",
              "       [0.12640228, 0.18012324, 0.18012324, 0.38694897, 0.12640228],\n",
              "       [0.12640228, 0.18012324, 0.18012324, 0.38694897, 0.12640228],\n",
              "       [0.12640228, 0.18012324, 0.18012324, 0.38694897, 0.12640228]])"
            ]
          }
        }
      ],
      "source": [
        "GoogleMatrix = P*0.85 + 0.15/5 \n",
        "np.linalg.matrix_power(GoogleMatrix,100)"
      ],
      "id": "84c1c9b3-d7db-4fba-a230-cf510b336aa8"
    },
    {
      "cell_type": "markdown",
      "metadata": {},
      "source": [
        "**Step2:** 3개의 더미사이트 5,6,7을 만들어서 1번네트워크와 서로\n",
        "연결시킨다."
      ],
      "id": "2ba67484-f927-4e0a-b446-65c48df5bcf5"
    },
    {
      "cell_type": "code",
      "execution_count": null,
      "metadata": {},
      "outputs": [
        {
          "output_type": "display_data",
          "metadata": {},
          "data": {
            "text/html": [
              "</p>"
            ]
          }
        }
      ],
      "source": [],
      "id": "3b4e4b68-2cfe-4391-9c61-f88bf09b113b"
    },
    {
      "cell_type": "code",
      "execution_count": 368,
      "metadata": {},
      "outputs": [],
      "source": [
        "P = np.array([0.0, 1/2, 1/2, 0.0, 0.0, 0.0, 0.0, 0.0,\n",
        "              0.0, 0.0, 0.0, 0.0, 0.0, 1/3, 1/3, 1/3,\n",
        "              0.0, 0.0, 0.0, 1.0, 0.0, 0.0, 0.0, 0.0,\n",
        "              1/8, 1/8, 1/8, 1/8, 1/8, 1/8, 1/8, 1/8,\n",
        "              0.0, 0.0, 0.0, 1.0, 0.0, 0.0, 0.0, 0.0,\n",
        "              0.0, 1.0, 0.0, 0.0, 0.0, 0.0, 0.0, 0.0,\n",
        "              0.0, 1.0, 0.0, 0.0, 0.0, 0.0, 0.0, 0.0,\n",
        "              0.0, 1.0, 0.0, 0.0, 0.0, 0.0, 0.0, 0.0]).reshape(8,8)"
      ],
      "id": "6ae78c43-7955-4927-9f90-13ebdd6a0643"
    },
    {
      "cell_type": "code",
      "execution_count": 374,
      "metadata": {},
      "outputs": [
        {
          "output_type": "display_data",
          "metadata": {},
          "data": {
            "text/plain": [
              "array([0.02778839, 0.39804992, 0.03959846, 0.08506721, 0.02778839,\n",
              "       0.14056921, 0.14056921, 0.14056921])"
            ]
          }
        }
      ],
      "source": [
        "GoogleMatrix = P*0.85 + 0.15/8\n",
        "pagerank =np.linalg.matrix_power(GoogleMatrix,100)[0]\n",
        "pagerank"
      ],
      "id": "ce9f2c94-6da7-4227-97dc-b0d98136238f"
    },
    {
      "cell_type": "code",
      "execution_count": 373,
      "metadata": {},
      "outputs": [
        {
          "output_type": "display_data",
          "metadata": {},
          "data": {
            "text/plain": [
              "['state0',\n",
              " 'state1',\n",
              " 'state2',\n",
              " 'state3',\n",
              " 'state4',\n",
              " 'state5',\n",
              " 'state6',\n",
              " 'state7']"
            ]
          }
        }
      ],
      "source": [
        "website = ['state'+i for i in '01234567']\n",
        "website"
      ],
      "id": "0384ddf3-5e84-47c3-8edf-8ddf56e37208"
    },
    {
      "cell_type": "code",
      "execution_count": 375,
      "metadata": {},
      "outputs": [
        {
          "output_type": "display_data",
          "metadata": {},
          "data": {
            "text/html": [
              "<div>\n",
              "<style scoped>\n",
              "    .dataframe tbody tr th:only-of-type {\n",
              "        vertical-align: middle;\n",
              "    }\n",
              "\n",
              "    .dataframe tbody tr th {\n",
              "        vertical-align: top;\n",
              "    }\n",
              "\n",
              "    .dataframe thead th {\n",
              "        text-align: right;\n",
              "    }\n",
              "</style>\n",
              "<table border=\"1\" class=\"dataframe\">\n",
              "  <thead>\n",
              "    <tr style=\"text-align: right;\">\n",
              "      <th></th>\n",
              "      <th>pagerank</th>\n",
              "      <th>website</th>\n",
              "    </tr>\n",
              "  </thead>\n",
              "  <tbody>\n",
              "    <tr>\n",
              "      <th>0</th>\n",
              "      <td>0.027788</td>\n",
              "      <td>state0</td>\n",
              "    </tr>\n",
              "    <tr>\n",
              "      <th>1</th>\n",
              "      <td>0.398050</td>\n",
              "      <td>state1</td>\n",
              "    </tr>\n",
              "    <tr>\n",
              "      <th>2</th>\n",
              "      <td>0.039598</td>\n",
              "      <td>state2</td>\n",
              "    </tr>\n",
              "    <tr>\n",
              "      <th>3</th>\n",
              "      <td>0.085067</td>\n",
              "      <td>state3</td>\n",
              "    </tr>\n",
              "    <tr>\n",
              "      <th>4</th>\n",
              "      <td>0.027788</td>\n",
              "      <td>state4</td>\n",
              "    </tr>\n",
              "    <tr>\n",
              "      <th>5</th>\n",
              "      <td>0.140569</td>\n",
              "      <td>state5</td>\n",
              "    </tr>\n",
              "    <tr>\n",
              "      <th>6</th>\n",
              "      <td>0.140569</td>\n",
              "      <td>state6</td>\n",
              "    </tr>\n",
              "    <tr>\n",
              "      <th>7</th>\n",
              "      <td>0.140569</td>\n",
              "      <td>state7</td>\n",
              "    </tr>\n",
              "  </tbody>\n",
              "</table>\n",
              "</div>"
            ]
          }
        }
      ],
      "source": [
        "pd.DataFrame({'pagerank':pagerank,'website':website})"
      ],
      "id": "853169aa-0a41-4865-90b3-da10e312f5ca"
    },
    {
      "cell_type": "markdown",
      "metadata": {},
      "source": [
        "`-` 약점을 극복한 구글의 아이디어: 저도 몰라용.."
      ],
      "id": "d410f61c-3531-4c7a-9023-f8f6413cce84"
    }
  ],
  "nbformat": 4,
  "nbformat_minor": 5,
  "metadata": {
    "kernelspec": {
      "name": "python3",
      "display_name": "Python 3",
      "language": "python"
    },
    "language_info": {
      "name": "python",
      "codemirror_mode": {
        "name": "ipython",
        "version": "3"
      },
      "file_extension": ".py",
      "mimetype": "text/x-python",
      "nbconvert_exporter": "python",
      "pygments_lexer": "ipython3",
      "version": "3.8.16"
    }
  }
}