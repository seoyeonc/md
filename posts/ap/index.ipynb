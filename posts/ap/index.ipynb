{
  "cells": [
    {
      "cell_type": "markdown",
      "metadata": {},
      "source": [
        "# Advanced Probability Theory\n",
        "\n",
        "SEOYEON CHOI  \n",
        "2023-03-07\n",
        "\n",
        "Advanced Probability Theory\n",
        "\n",
        "마코프 체인(기본: finite한 공간에 있다.)\n",
        "\n",
        "1.  P로 수렵\n",
        "2.  행값이 같음"
      ],
      "id": "ae5c2fd8-c7a3-4754-9bf8-0032f5c94e3d"
    }
  ],
  "nbformat": 4,
  "nbformat_minor": 5,
  "metadata": {
    "kernelspec": {
      "display_name": "Python 3",
      "language": "python",
      "name": "python3"
    }
  }
}