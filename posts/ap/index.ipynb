{
  "cells": [
    {
      "cell_type": "markdown",
      "metadata": {},
      "source": [
        "# Advanced Probability Theory\n",
        "\n",
        "SEOYEON CHOI  \n",
        "2023-03-07\n",
        "\n",
        "Advanced Probability Theory\n",
        "\n",
        "마코프 체인(기본: finite한 공간에 있다.)\n",
        "\n",
        "1.  P로 수렵\n",
        "2.  행값이 같음"
      ],
      "id": "6b49dd8e-ec2a-4e8a-ba3d-d43384e31a92"
    }
  ],
  "nbformat": 4,
  "nbformat_minor": 5,
  "metadata": {
    "kernelspec": {
      "display_name": "Python 3",
      "language": "python",
      "name": "python3"
    }
  }
}