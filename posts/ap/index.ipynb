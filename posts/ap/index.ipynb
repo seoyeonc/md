{
  "cells": [
    {
      "cell_type": "markdown",
      "metadata": {},
      "source": [
        "# Advanced Probability Theory\n",
        "\n",
        "SEOYEON CHOI  \n",
        "2023-03-07\n",
        "\n",
        "Advanced Probability Theory\n",
        "\n",
        "마코프 체인(기본: finite한 공간에 있다.)\n",
        "\n",
        "1.  P로 수렵\n",
        "2.  행값이 같음"
      ],
      "id": "0a0d6ab0-9c1a-4807-8986-98353a5307fb"
    }
  ],
  "nbformat": 4,
  "nbformat_minor": 5,
  "metadata": {
    "kernelspec": {
      "display_name": "Python 3",
      "language": "python",
      "name": "python3"
    }
  }
}