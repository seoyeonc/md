{
 "cells": [
  {
   "cell_type": "raw",
   "id": "030984ea-486d-45f2-bdad-c9d27a99591c",
   "metadata": {
    "id": "cac470df-29e7-4148-9bbd-d8b9a32fa570",
    "tags": []
   },
   "source": [
    "---\n",
    "title: \"1주차: 측도론\"\n",
    "author: \"SEOYEON CHOI\"\n",
    "date: \"2023-03-07\"\n",
    "categories:\n",
    "  - Advanced Probability Theory\n",
    "---"
   ]
  },
  {
   "cell_type": "markdown",
   "id": "bdf0b3e1-4e8b-4885-a377-1646587512d1",
   "metadata": {},
   "source": [
    "> 측도론"
   ]
  },
  {
   "cell_type": "markdown",
   "id": "dc1cb215-99bf-4d9d-a4f5-6c49be55504d",
   "metadata": {},
   "source": [
    "[교재](https://services.math.duke.edu/~rtd/PTE/PTE5_011119.pdf)\n",
    "\n",
    "- 1,2,3 장 진도나갈 예정!"
   ]
  },
  {
   "cell_type": "markdown",
   "id": "839d2d84-748c-4d68-a494-92005aa9faa3",
   "metadata": {},
   "source": [
    "[교수님 lecture note](https://guebin.github.io/AP2023/posts/I.%20Measure%20Theory/2023-03-07-1wk.html)"
   ]
  },
  {
   "cell_type": "markdown",
   "id": "a51524f5-fab8-4450-b373-c19275c5809a",
   "metadata": {},
   "source": [
    "---"
   ]
  },
  {
   "cell_type": "markdown",
   "id": "548b57ac-3039-44ed-83c3-b08dc6368ef6",
   "metadata": {},
   "source": [
    "[확률의 공리](https://en.wikipedia.org/wiki/Probability_axioms), 확률이라면 지켜져야 할, 위배되서는 안 될,"
   ]
  },
  {
   "cell_type": "markdown",
   "id": "cf34d718-b04a-4b24-ba9b-be3683943b15",
   "metadata": {},
   "source": [
    "확률의 공리 3개\n",
    "\n",
    "1. $P(\\Omega) = 1$\n",
    "\n",
    "- 어떤 실험의 결과는 표본공간 $\\Omega$에서 항상 일어난다.\n",
    "\n",
    "2. 사건 $A \\in  \\Omega$에 대해, $0 \\le P(A) \\le 1$\n",
    "\n",
    "- 어느 사건도 확률이 음수가 될 수 없고 1보다 클 수도 없다.\n",
    "\n",
    "3. 서로 배반인 사건 $A$와 $B$에 대해, $P(A \\cup B) = P(A) + P(B)$\n",
    "\n",
    "- 서로 배반인 두 사건 $A$와 $B$에 대해 합사건의 확률은 각각의 확률의 합과 같다."
   ]
  },
  {
   "cell_type": "markdown",
   "id": "71fef39e-6f01-42f0-839d-bc4ceb23d97e",
   "metadata": {},
   "source": [
    "---"
   ]
  },
  {
   "cell_type": "markdown",
   "id": "6a04ce36-a95f-4d2e-92cd-bd68c8dcc303",
   "metadata": {},
   "source": [
    "확률로서 가능한 정의\n",
    "\n",
    "- 경우의 수\n",
    "- 면적/길이의 개념"
   ]
  },
  {
   "cell_type": "markdown",
   "id": "6fd283ba-9ea1-4a85-928e-8f2f522ddb6f",
   "metadata": {},
   "source": [
    "---"
   ]
  },
  {
   "cell_type": "markdown",
   "id": "663b409c-4a32-4b7d-9601-7cc9b090b4ce",
   "metadata": {
    "slideshow": {
     "slide_type": "slide"
    }
   },
   "source": [
    "# 예제1: 동전 "
   ]
  },
  {
   "cell_type": "markdown",
   "id": "77f8ef8e-7a2e-401f-a0a4-a338e093b935",
   "metadata": {
    "slideshow": {
     "slide_type": "fragment"
    }
   },
   "source": [
    "`-` $\\Omega =\\{H,T\\}$: sample space "
   ]
  },
  {
   "cell_type": "markdown",
   "id": "c7862548-64fa-4e92-8f4d-8fb907bbb382",
   "metadata": {
    "slideshow": {
     "slide_type": "fragment"
    }
   },
   "source": [
    "`-` $P(\\{H\\})=P(\\{T\\})=\\frac{1}{2}$: prob"
   ]
  },
  {
   "cell_type": "markdown",
   "id": "cfd4d16a-c95c-4644-8c18-09b3c555c4cf",
   "metadata": {
    "slideshow": {
     "slide_type": "fragment"
    }
   },
   "source": [
    "`-` 질문: $\\Omega$의 임의의(=모든) 부분 집합 $\\Omega^*$에 대하여 $P(\\Omega^*)$를 **모순없이** 정의할 수 있을까? "
   ]
  },
  {
   "cell_type": "markdown",
   "id": "a02288d2-e010-4889-98d8-d182d41b9185",
   "metadata": {
    "slideshow": {
     "slide_type": "fragment"
    }
   },
   "source": [
    "- 당연한거 아냐?\n",
    "- 이게 왜 안돼?"
   ]
  },
  {
   "cell_type": "markdown",
   "id": "03cb8ce3-ad34-4a03-aedf-5b1ff98146f9",
   "metadata": {
    "slideshow": {
     "slide_type": "slide"
    }
   },
   "source": [
    "`-` 질문에 대한 대답"
   ]
  },
  {
   "cell_type": "markdown",
   "id": "07b78618-b2c8-422b-8682-c8048bc46763",
   "metadata": {
    "slideshow": {
     "slide_type": "fragment"
    }
   },
   "source": [
    "1. $\\Omega$의 부분집합: $\\emptyset, \\Omega, \\{H\\},\\{T\\}$ \n",
    "2. $P(\\{H\\})=\\frac{1}{2}$, $P(\\{T\\})=\\frac{1}{2}$, $P(\\Omega)=P(\\{H,T\\})=1$, $P(\\emptyset)=0$"
   ]
  },
  {
   "cell_type": "markdown",
   "id": "456ec1a4-e6b0-4a24-86ce-ffb706c50d9c",
   "metadata": {
    "slideshow": {
     "slide_type": "fragment"
    }
   },
   "source": [
    "`-` **모순없이**의 의미? "
   ]
  },
  {
   "cell_type": "markdown",
   "id": "6aa11664-308b-4f98-b371-6b065c99c9ae",
   "metadata": {
    "slideshow": {
     "slide_type": "fragment"
    }
   },
   "source": [
    "- 우리가 상식적으로 확률에 적용가능한 어떠한 연산들이 있음. (확률의 공리 + 기본성질) // [네이버검색](https://deep-learning-study.tistory.com/40#:~:text=%EA%B3%B5%EB%A6%AC%201%EC%9D%80%20%EC%96%B4%EB%96%A4%20%EC%8B%A4%ED%97%98,%EA%B3%BC%20%EA%B0%99%EC%9D%8C%EC%9D%84%20%EC%9D%98%EB%AF%B8%ED%95%A9%EB%8B%88%EB%8B%A4.)\n",
    "- 이러한 연산을 적용해도 상식적인 수준에서 납득이 가야함 "
   ]
  },
  {
   "cell_type": "markdown",
   "id": "57d968bb-f379-4540-86a3-c05ce03bacc1",
   "metadata": {
    "slideshow": {
     "slide_type": "slide"
    }
   },
   "source": [
    "**(상식적인 연산 적용 예시1)**\n",
    "\n",
    "$\\{H\\} \\subset \\Omega \\Rightarrow P(\\{H\\})<P(\\Omega)$"
   ]
  },
  {
   "cell_type": "markdown",
   "id": "52e08b1d-d661-40ab-ab49-cfa969f2c58e",
   "metadata": {
    "slideshow": {
     "slide_type": "fragment"
    }
   },
   "source": [
    "- 집합 $\\{H\\}$은 집합 $\\Omega$보다 작은 집합임 \n",
    "- 상식적으로 작은집합이 일어날 확률이 큰 집합이 일어날 확률보다 클 수 없음\n",
    "- 동전 예제의 경우 모든 $A,B \\subset \\Omega$ 에 대하여, $A\\subset B$ 이라면 $P(A) < P(B)$ 가 성립함 "
   ]
  },
  {
   "cell_type": "markdown",
   "id": "6efb90b5-2165-4173-a2e4-2d57d7ed088d",
   "metadata": {
    "slideshow": {
     "slide_type": "slide"
    }
   },
   "source": [
    "**(상식적인 연산 적용 예시2)**\n",
    "\n",
    "$\\{H\\} \\cap \\{T\\} = \\emptyset \\Rightarrow P(\\{H\\} \\cup \\{T\\})=P(\\{H\\}) + P(\\{T\\}) =1$ "
   ]
  },
  {
   "cell_type": "markdown",
   "id": "11142d1b-8e47-4806-8b6e-75f83b2b6788",
   "metadata": {
    "slideshow": {
     "slide_type": "fragment"
    }
   },
   "source": [
    "- 우리의 상식에 따르면 $A,B$가 서로소인 사건이라면 $P(A)+P(B)$이어야 함.^[확률의 공리]\n",
    "- 이 예제는 실제로 그러함. \n",
    "- 사실 이 예제의 경우 $P(\\{H\\} \\cup \\{T\\})=P(\\Omega)=1$ 와 같이 계산할 수도 있음. \n",
    "- 하지만 어떠한 방식으로 계산해도 **모순이 없음**. "
   ]
  },
  {
   "cell_type": "markdown",
   "id": "2ec2932e-5e73-4cf3-a02f-ffd84fb507d6",
   "metadata": {
    "slideshow": {
     "slide_type": "slide"
    }
   },
   "source": [
    "# 예제2: 바늘이 하나만 있는 시계"
   ]
  },
  {
   "cell_type": "markdown",
   "id": "b1a54d02-0156-4ca8-9162-817c3a6b6b55",
   "metadata": {
    "slideshow": {
     "slide_type": "fragment"
    }
   },
   "source": [
    "`-` $\\Omega  = [0,2\\pi)$\n",
    "\n",
    "- 시계바늘을 돌려서 나오는 각도를 재는일 $\\Leftrightarrow$ $[0,2\\pi)$사이의 숫자중에 하나를 뽑는 일 "
   ]
  },
  {
   "cell_type": "markdown",
   "id": "58708256-85c0-413a-83ca-78410fb3a412",
   "metadata": {
    "slideshow": {
     "slide_type": "fragment"
    }
   },
   "source": [
    "`-` 질문: 바늘을 랜덤으로 돌렸을때 12시-6시 사이에 바늘이 있을 확률? $\\frac{1}{2}$\n",
    "\n",
    "- $\\Omega^* = [0,\\pi)$\n",
    "- $P(\\Omega^*)= \\frac{1}{2}$"
   ]
  },
  {
   "cell_type": "markdown",
   "id": "773e4e77-7b79-44d1-89e1-d0d20cee3051",
   "metadata": {
    "slideshow": {
     "slide_type": "slide"
    }
   },
   "source": [
    "`-` 계산하는 방법? 아래와 같이 계산하면 가능!!\n",
    "\n",
    "$$\\forall \\Omega^* \\subset \\Omega, \\quad P(\\Omega^*)=\\frac{m(\\Omega^*)}{m(\\Omega)}$$\n",
    "\n",
    "단 여기에서 $m$은 구간의 길이를 재는 함수라고 하자. "
   ]
  },
  {
   "cell_type": "markdown",
   "id": "c3ca2c8a-0d38-4722-b069-c8503e617d62",
   "metadata": {
    "slideshow": {
     "slide_type": "fragment"
    }
   },
   "source": [
    "**연습:** $m$의 사용 \n",
    "\n",
    "- $m(\\Omega)=m\\big([0,2\\pi)\\big)=2\\pi$\n",
    "- $m(\\Omega^*) = m\\big([0,\\pi)\\big)= \\pi$"
   ]
  },
  {
   "cell_type": "markdown",
   "id": "c39c58a9-6b9e-4407-8add-4da07565f543",
   "metadata": {
    "slideshow": {
     "slide_type": "slide"
    }
   },
   "source": [
    "`-` 위와 같은 방식으로 확률을 정의하면 잘 정의될까? 이게 쉽지 않음. 왜냐하면 확률을 잘 정의하기 위해서는 \n",
    "\n",
    "> $\\Omega$의 모든 부분집합 $\\Omega^*$에 대하여 $P(\\Omega^*)$를 모순없이\n",
    "\n",
    "정의할 수 있어야 하는데, 이게 쉬운일이 아님. "
   ]
  },
  {
   "cell_type": "markdown",
   "id": "5cc9e19a-b216-4985-b490-34e62f6545d8",
   "metadata": {
    "slideshow": {
     "slide_type": "slide"
    }
   },
   "source": [
    "`(질문0)` 그냥 몸풀기 용 질문 \n",
    "\n",
    "> $\\Omega^*=\\emptyset$ 일 확률이 얼마인가? "
   ]
  },
  {
   "cell_type": "markdown",
   "id": "6bf92b99-0a97-41f0-a044-da9a6fcf3b91",
   "metadata": {
    "slideshow": {
     "slide_type": "fragment"
    }
   },
   "source": [
    "(답변)\n",
    "\n",
    "- 0 이야^[이걸 좀 더 엄밀하게 따질수도 있는데 일단 직관적으로 0이라 생각하고 넘어가자]"
   ]
  },
  {
   "cell_type": "markdown",
   "id": "58d87afa-7550-4f83-899c-cc485d3a8af8",
   "metadata": {
    "slideshow": {
     "slide_type": "slide"
    }
   },
   "source": [
    "`(질문1)` 첫번째 도전적인 질문\n",
    "\n",
    "> $\\Omega^* =\\{0\\}$일 확률이 얼마인가?"
   ]
  },
  {
   "cell_type": "markdown",
   "id": "0539130c-9c20-4ab9-b21d-8932f2c1ee02",
   "metadata": {
    "slideshow": {
     "slide_type": "fragment"
    }
   },
   "source": [
    "(답변)\n",
    "\n",
    "- 즉 바늘침이 정확하게 12시를 가르킬 확률이 얼마냐는 것\n",
    "- 한 점으로 이루어진 집합 $\\{0\\}$은 분명히 $\\Omega=[0,2\\pi)$의 부분집합 이므로 앞서 논의한대로라면 이러한 집합에 대한 확률을 **명확하게, 모순없이** 정의할 수 있어야 함\n",
    "- 많은 사람들이 이 질문에 대한 답은 $0$ 이라고 알고 있고 그 이유를 \"점의 길이는 0 이니까\" 라고 이해하고 있음.^[이해 안되면 약속이라고 생각하자.] \n",
    "\n",
    "*답변이 사실 좀 찝찝해. 바늘침이 정확하게 12시를 가르키는 것은 우리가 분명 하루에 한번씩은 경험하는 사건임. 그런데 그 사건이 일어날 확률은 0이다?*^[자연어에서는 \"확률=0\" 와 \"불가능\" 은 동일하지만 여기서는 아니다.]"
   ]
  },
  {
   "cell_type": "markdown",
   "id": "ef0df2bd-ab2f-436f-9c3d-56a94d7b1a96",
   "metadata": {
    "slideshow": {
     "slide_type": "slide"
    }
   },
   "source": [
    "`(참견질문)` 생각해보니까 이런게 있었잖아?\n",
    "\n",
    "$$A \\subset B \\Rightarrow P(A)<P(B)$$\n",
    "\n",
    "그런데 $\\emptyset \\subset \\{0\\}$ 인데 $P(\\emptyset)=P(\\{0\\})$ 이다..? "
   ]
  },
  {
   "cell_type": "markdown",
   "id": "e3ece907-2ffc-4c50-b010-3dcada846b3a",
   "metadata": {
    "slideshow": {
     "slide_type": "fragment"
    }
   },
   "source": [
    "(답변)\n",
    "\n",
    "- 원래식 $A \\subset B \\Rightarrow P(A)\\leq P(B)$ 이 성립함\n",
    "- 즉 $A$가 $B$의 진 부분집합이더라도 $P(A)=P(B)$인 경우가 존재함. \n"
   ]
  },
  {
   "cell_type": "markdown",
   "id": "50ae2246-a190-4ce3-9c00-c03da2b79daa",
   "metadata": {
    "slideshow": {
     "slide_type": "slide"
    }
   },
   "source": [
    "`(질문2)` 두번째 질문은 아래와 같다. \n",
    "\n",
    "> 그렇다면 사건 $\\{0,\\pi\\}$가 일어날 확률은 얼마인가?"
   ]
  },
  {
   "cell_type": "markdown",
   "id": "30a76e75-2e21-412c-a562-2f8213a33eb5",
   "metadata": {
    "slideshow": {
     "slide_type": "fragment"
    }
   },
   "source": [
    "(답변)\n",
    "\n",
    "- 질문을 다시 풀어쓰면 바늘침이 정확하게 12시를 가르키거나 혹은 정확하게 6시를 가르킬 확률이 얼마냐는 것\n",
    "- 따라서 이 질문에 대한 대답은 $0+0=0$ 이므로 $0$이라고 주장할 수 있음."
   ]
  },
  {
   "cell_type": "markdown",
   "id": "30819792-ba21-4dbf-8dcc-7a1486f085f6",
   "metadata": {
    "slideshow": {
     "slide_type": "slide"
    }
   },
   "source": [
    "`(질문3)` 세번째 질문은 아래와 같다.\n",
    "\n",
    "> 구간 $[0,2\\pi)$는 무수히 많은 점들이 모여서 만들어지는 집합이다. 그런데 점 하나의 길이는 0이다. 0을 무수히 더해도 0이다. 그러므로 구간 $[0,2\\pi)$의 길이도 0이 되어야 한다. 이것은 모순아닌가?"
   ]
  },
  {
   "cell_type": "markdown",
   "id": "aabcc39b-37cd-48ac-bcbe-92495a63ce6a",
   "metadata": {
    "slideshow": {
     "slide_type": "fragment"
    }
   },
   "source": [
    "(답변)\n",
    "\n",
    "- 까다롭다. \n",
    "- $m([0,2\\pi))=0$ 임을 인정하면 전체확률은 1이어야 한다는 기본상식^[심지어 이건 확률의 공리]에 어긋나 모순이 생김.\n",
    "- 질문의 논리는 타당해보임. 이 논리의 약점은 딱히 없어보임. 굳이 약점이 있다면 \"무한\"이라는 개념?\n",
    "- 어쩔수없이 직관에 근거한 약간의 약속을 또 다시 해야할 것 같음. 예를들면 \"점들을 유한번 합치면 그냥 많은 점들이지만 무한히 합치면 이것은 선분이 된다. 따라서 길이가 생긴다.\" 와 같이.\n",
    "- 우리는 이 약속을 \"무한번의 기적\"이라고 칭하자."
   ]
  },
  {
   "cell_type": "markdown",
   "id": "05a258ce-439e-499c-9f00-a0cc38be5528",
   "metadata": {
    "slideshow": {
     "slide_type": "slide"
    }
   },
   "source": [
    "`(질문4)` 그렇다면 아래의 질문은 어떻게 대답할 수 있을까? \n",
    "\n",
    "> $[0,\\pi)$ 에서 유리수만 뽑아낸 집합이 있다고 생각하자. 편의상 이 집합을 $\\mathbb{Q}$ 라고 하자. 이 집합은 분명히 무한개의 점을 포함하고 있다. 그렇다면 이 집합도 길이가 있는가? 있다면 얼마인가?"
   ]
  },
  {
   "cell_type": "markdown",
   "id": "c0c12fcf-d16a-4263-baa1-0cd5e2fc446b",
   "metadata": {
    "slideshow": {
     "slide_type": "fragment"
    }
   },
   "source": [
    "(답변)\n",
    "\n",
    "- 이미 점들의 길이를 무한번 더하면 길이가 생긴다고 주장한 상태이므로 (무한번의 기적) 길이가 0이라고 주장할 수 없다. 따라서 길이가 있다고 주장해야 한다. \n",
    "- $\\pi$말고 딱히 떠오르는 수가 없는데 단순히 길이가 $\\pi$라고 주장한다면 바로 모순에 빠짐을 알 수 있다.^[왜 모순에 빠지냐면 $[0,\\pi)$에서 무리수만 뽑아낸 집합의 길이가 뭐냐고 물을경우 0이라고 말해야함]\n",
    "- 길이는 일단 0보다 커야하고 $\\pi$보다 작아야함은 자명하므로 그 사이에 있는 어떤 값이 길이라고 주장하자.^[구체적으로 어떤값인지는 모른다고 하자.]\n",
    "- 따라서 (질문4)에 대한 답은 ''구체적으로 얼마인지는 모르겠지만 길이가 분명 존재하고 그 길이는 0 보다 크고 $\\pi$ 보다는 작은 어떠한 값 $a$이다.'' 정도로 정리할 수 있다. \n",
    "- 즉 $m(\\mathbb{Q})=a$."
   ]
  },
  {
   "cell_type": "markdown",
   "id": "483f2a9e-8d22-4bd8-839f-23e0dd486e69",
   "metadata": {},
   "source": [
    "$[0,\\pi] = [0,\\pi) \\cup \\{ \\pi \\}$ \n",
    "\n",
    "둘이 서로소니까"
   ]
  },
  {
   "cell_type": "markdown",
   "id": "ef600a73-fbfd-45ef-b533-18ef308ed8b2",
   "metadata": {
    "slideshow": {
     "slide_type": "slide"
    }
   },
   "source": [
    "`(질문5)` -- 외통수"
   ]
  },
  {
   "cell_type": "markdown",
   "id": "5dc6c0c4-a4c1-4cd2-b88d-8412d13cada2",
   "metadata": {
    "slideshow": {
     "slide_type": "fragment"
    }
   },
   "source": [
    "질문4로부터 만들어지는 논리는 빌드업1-3으로 이어지는 콤보질문을 적절하게 대답하지 못한다. (질문이 좀 길어서 나누어서 설명합니다)"
   ]
  },
  {
   "cell_type": "markdown",
   "id": "e7771582-92af-45c0-9351-6d431aad5f72",
   "metadata": {
    "slideshow": {
     "slide_type": "slide"
    }
   },
   "source": [
    "*`(빌드업1)`* -- *평행이동은 길이를 변화시키지 않아, 그렇지?*"
   ]
  },
  {
   "cell_type": "markdown",
   "id": "9afa1ba9-b4c2-416c-9fd3-fb9cab1cde75",
   "metadata": {
    "slideshow": {
     "slide_type": "fragment"
    }
   },
   "source": [
    "- $\\mathbb{Q}$의 모든점에 $\\sqrt{2}$를 더한다. 이 점들로 집합을 만들어 $\\mathbb{Q}_{\\sqrt{2}}$를 만든다. \n",
    "- 여기에서 $\\mathbb{Q}_{\\sqrt{2}}$는 $\\Omega$의 부분집합 $\\Rightarrow$ $\\mathbb{Q}_{\\sqrt{2}}$는 길이를 **명확하고 모순없이** 정의할 수 있어야 함\n",
    "- $\\mathbb{Q}_{\\sqrt{2}}$의 길이는 사실 쉽게 $a$라고 정의할 수 있음^[평행이동은 길이를 변화시킬 수 없으니까]. 즉, $m(\\mathbb{Q}_{\\sqrt{2}})=a$.\n"
   ]
  },
  {
   "cell_type": "markdown",
   "id": "e4561dc7-9693-4d25-a147-696d8025d980",
   "metadata": {
    "slideshow": {
     "slide_type": "slide"
    }
   },
   "source": [
    "*`(빌드업2)`* -- *겹치지 않게 평행이동 시킨다음에 길이를 더한다면?*"
   ]
  },
  {
   "cell_type": "markdown",
   "id": "96593801-3aef-4878-807e-64da606e6f6b",
   "metadata": {
    "slideshow": {
     "slide_type": "fragment"
    }
   },
   "source": [
    "이제 $\\mathbb{Q}_{\\sqrt{2}},\\mathbb{Q}_{\\sqrt{2}/2},\\mathbb{Q}_{\\sqrt{2}/3}$를 생각하자. 아래의 성질을 관찰할 수 있다. \n",
    "\n",
    "1. $\\mathbb{Q}_{\\sqrt{2}},\\mathbb{Q}_{\\sqrt{2}/2},\\mathbb{Q}_{\\sqrt{2}/3}$는 모두 $\\Omega$의 부분집합 $\\Rightarrow$ 따라서 길이를 **명확하고 모순없이** 정의할 수 있어야 함\n",
    "2. $\\mathbb{Q}_{\\sqrt{2}},\\mathbb{Q}_{\\sqrt{2}/2},\\mathbb{Q}_{\\sqrt{2}/3}$의 길이는 각각 $a$로 정의할 수 있다.^[평행이동은 길이를 변화시키지 않으니까]\n",
    "3. $P(\\mathbb{Q}_{\\sqrt{2}} \\cup \\mathbb{Q}_{\\sqrt{2}/2} \\cup \\mathbb{Q}_{\\sqrt{2}/3})=P(\\mathbb{Q}_{\\sqrt{2}}) + P(\\mathbb{Q}_{\\sqrt{2}/2})+ P(\\mathbb{Q}_{\\sqrt{2}/3})$^[$\\mathbb{Q}_{\\sqrt{2}},\\mathbb{Q}_{\\sqrt{2}/2},\\mathbb{Q}_{\\sqrt{2}/3}$는 모두 서로소 임을 이용]"
   ]
  },
  {
   "cell_type": "markdown",
   "id": "20e775c5-35eb-4e64-b317-4eb9f049ade5",
   "metadata": {
    "slideshow": {
     "slide_type": "fragment"
    }
   },
   "source": [
    "굳이 $P(\\mathbb{Q}_{\\sqrt{2}}) + P(\\mathbb{Q}_{\\sqrt{2}/2})+ P(\\mathbb{Q}_{\\sqrt{2}/3})$를 계산하면 아래와 같이 계산할 수 있겠다. \n",
    "\n",
    "$$P(\\mathbb{Q}_{\\sqrt{2}}) + P(\\mathbb{Q}_{\\sqrt{2}/2})+ P(\\mathbb{Q}_{\\sqrt{2}/3})=\\frac{a}{2\\pi}+\\frac{a}{2\\pi}+\\frac{a}{2\\pi}=3 \\times \\frac{a}{2\\pi}$$"
   ]
  },
  {
   "cell_type": "markdown",
   "id": "6dc3ac99-926c-4338-80ca-ffb04fb5e070",
   "metadata": {
    "slideshow": {
     "slide_type": "slide"
    }
   },
   "source": [
    "*`(빌드업3)`* -- *그런데 난 겹치지않게 평행이동시킬 방법을 무한대로 알고 있는데?*"
   ]
  },
  {
   "cell_type": "markdown",
   "id": "afbc7773-f8af-40a7-ab46-cb2136747590",
   "metadata": {
    "slideshow": {
     "slide_type": "fragment"
    }
   },
   "source": [
    "눈 여겨볼 점은 아래 식이 성립해야 한다는 것이다. ($\\because$ 확률의 공리)^[첫 등호는 서로소인 사건에 대한 공리, 그다음 부등호는 확률의 총합은 1보다 같거나 작다라는 공리]\n",
    "\n",
    "$$P\\big(\\mathbb{Q}_{\\sqrt{2}} \\cup \\mathbb{Q}_{\\sqrt{2}/2} \\cup \\mathbb{Q}_{\\sqrt{2}/3}\\big) = 3 \\times \\frac{a}{2\\pi} \\leq 1 \\quad \\cdots (\\star)$$"
   ]
  },
  {
   "cell_type": "markdown",
   "id": "2637e9cd-b026-40ca-bd95-3834ffa06445",
   "metadata": {
    "slideshow": {
     "slide_type": "fragment"
    }
   },
   "source": [
    "- 그런데 $(\\star)$에서 좌변의 값은 편의에 따라서 값을 임의로 키울 수 있다. \n",
    "- 이렇게 임의로 키워진 좌변의 값이라도 항상 그 값은 1보다 작아야 하는데 (확률의 공리), 이게 가능하려면 $\\alpha=0$인 경우 말고 없다. \n",
    "- 그런데 $\\alpha=0$ 이 된다면 \"무한번 더해서 일어나는 기적\"은 허구가 되므로 `질문3` 의 대답에 모순이 된다. "
   ]
  },
  {
   "cell_type": "markdown",
   "id": "2625889e-91d0-4004-bf63-be3fa682aba6",
   "metadata": {
    "slideshow": {
     "slide_type": "fragment"
    }
   },
   "source": [
    "그런데 임의로 좌변의 값을 키워도 항상 그 값은 1보다 작아야 하는데 이러한 $\\alpha$는 0이외에 불가능하다. \n",
    "\n",
    "그런데 $\\alpha=0$ 이 된다면 \"무한번 더해서 일어나는 기적\"은 허구가 되므로 `질문3` 의 대답에 모순이 된다. "
   ]
  },
  {
   "cell_type": "markdown",
   "id": "407802ca-783a-4b89-ad34-2241d6852f2f",
   "metadata": {},
   "source": [
    "모순을 막기 위한 부등호 $<$ $\\le$"
   ]
  },
  {
   "cell_type": "markdown",
   "id": "9558b1d1-6fab-4477-85ed-50fb0f9de38b",
   "metadata": {
    "slideshow": {
     "slide_type": "slide"
    }
   },
   "source": [
    "# 르벡메져"
   ]
  },
  {
   "cell_type": "markdown",
   "id": "7a26a204-a0f4-441d-8e2e-a306af1bc70b",
   "metadata": {},
   "source": [
    "[르벡메져](https://ko.wikipedia.org/wiki/%EB%A5%B4%EB%B2%A0%EA%B7%B8_%EC%B8%A1%EB%8F%84)"
   ]
  },
  {
   "cell_type": "markdown",
   "id": "42cec7ee-ec3b-446f-ac1c-2081db9404a3",
   "metadata": {
    "slideshow": {
     "slide_type": "fragment"
    }
   },
   "source": [
    "`-` 예제2에서의 마지막 질문은 지금까지 제시한 논리로 방어가 불가능. 이처럼 논리적인 모순없는 체계를 만드는 것은 매우 어려운 일임. \n",
    "\n",
    "`-` 결론적으로 말하면 길이를 재는 함수 $m$을 아래와 가정하면 위의 모든 질문에 대한 대답을 논리적 모순없이 설계할 수 있다. \n",
    "\n",
    "1. 한 점에 대한 길이는 $0$ 이다. \n",
    "\n",
    "2. $[0,2\\pi)$ 사이의 모든 유리수를 더한 집합은 그 길이가 $0$이다. \n",
    "       \n",
    "3. $[0,2\\pi)$ 사이의 모든 무리수를 더한 집합은 그 길이가 $2\\pi$이다. \n",
    "\n",
    "참고로 르벡측도(Lebesgue measure)를 사용하면 위의 성질을 만족한다.^[물론 르벡측도의 정의가 위와 같지는 않다] 따라서 르벡측도를 활용하여 확률을 정의하는 것이 모순을 최대한 피할 수 있다. \n"
   ]
  },
  {
   "cell_type": "code",
   "execution_count": null,
   "id": "4f15d293-a2a6-473f-92fc-157ade7c0d26",
   "metadata": {},
   "outputs": [],
   "source": []
  }
 ],
 "metadata": {
  "kernelspec": {
   "display_name": "Python 3 (ipykernel)",
   "language": "python",
   "name": "python3"
  },
  "language_info": {
   "codemirror_mode": {
    "name": "ipython",
    "version": 3
   },
   "file_extension": ".py",
   "mimetype": "text/x-python",
   "name": "python",
   "nbconvert_exporter": "python",
   "pygments_lexer": "ipython3",
   "version": "3.8.12"
  }
 },
 "nbformat": 4,
 "nbformat_minor": 5
}
