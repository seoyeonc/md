{
 "cells": [
  {
   "cell_type": "raw",
   "id": "17d11bd2-6949-4a25-90bf-7ae768cb89a5",
   "metadata": {
    "id": "cac470df-29e7-4148-9bbd-d8b9a32fa570",
    "tags": []
   },
   "source": [
    "---\n",
    "title: \"Principal Component Analysis\"\n",
    "author: \"SEOYEON CHOI\"\n",
    "date: \"2023-03-27\"\n",
    "categories:\n",
    "  - Machine learning basic\n",
    "---"
   ]
  },
  {
   "cell_type": "markdown",
   "id": "b0d5fc2a-7283-46c5-a814-cfc395b365fd",
   "metadata": {},
   "source": [
    "> Principal Component Analysis"
   ]
  },
  {
   "cell_type": "code",
   "execution_count": null,
   "id": "7e069785-ced3-4b4c-a806-b019c0897230",
   "metadata": {},
   "outputs": [],
   "source": []
  }
 ],
 "metadata": {
  "kernelspec": {
   "display_name": "Python 3 (ipykernel)",
   "language": "python",
   "name": "python3"
  },
  "language_info": {
   "name": ""
  }
 },
 "nbformat": 4,
 "nbformat_minor": 5
}
