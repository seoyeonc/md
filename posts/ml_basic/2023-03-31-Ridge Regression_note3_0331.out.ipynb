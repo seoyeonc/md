{
  "cells": [
    {
      "cell_type": "markdown",
      "metadata": {},
      "source": [
        "# Ridge Regression\n",
        "\n",
        "GUEBINCHOI  \n",
        "3/31/21\n",
        "\n",
        "> Lasso and Ridge\n",
        "\n",
        "# 능형회귀\n",
        "\n",
        "### 다중공선성이 $\\hat{\\beta}$에 대한 분산과 공분산을 모두 크게한다.\n",
        "\n",
        "ref: Montgomery, D. C., Peck, E. A., & Vining, G. G. (2021).\n",
        "Introduction to linear regression analysis. John Wiley & Sons.\n",
        "\n",
        "아래와 같이 2개의 regressor가 존재하는 모형을 생각하자.\n",
        "\n",
        "$y_i=\\beta_0+\\beta_1x_{i1}+\\beta_2 x_{i2}+\\epsilon_i, \\quad \\epsilon_i ~ \\sim iid N(0,\\sigma^2)$\n",
        "\n",
        "편의상 아래를 가정하자.\n",
        "\n",
        "$s_y^2=\\sum_{i=1}^{n}(y_i-\\bar{y})^2=1$\n",
        "\n",
        "$s_1^2=\\sum_{i=1}^{n}(x_{i1}-\\bar{x}_1)^2=1$\n",
        "\n",
        "$s_2^2=\\sum_{i=1}^{n}(x_{i2}-\\bar{x}_2)^2=1$\n",
        "\n",
        "최소제곱추정법으로 $\\hat{\\beta}_1$, $\\hat{\\beta}_2$를 구하면 아래와\n",
        "같다.\n",
        "\n",
        "$\\hat{\\beta_1}=\\frac{r_{1y}-r_{12}r_{2y}}{1-r_{12}^2}$.\n",
        "\n",
        "$\\hat{\\beta_2}=\\frac{r_{2y}-r_{12}r_{1y}}{1-r_{12}^2}$.\n",
        "\n",
        "단,\n",
        "\n",
        "$r_{1y}=\\frac{s_{1y}}{\\sqrt{s_1^2s_y^2}}=s_{1y}$,\n",
        "$\\quad s_{1y}=\\sum_{i=1}^{n}(y_i-\\bar{y})(x_{i1}-\\bar{x}_1)$\n",
        "\n",
        "$r_{2y}=\\frac{s_{2y}}{\\sqrt{s_2^2s_y^2}}=s_{2y}$,\n",
        "$\\quad s_{2y}=\\sum_{i=1}^{n}(y_i-\\bar{y})(x_{i2}-\\bar{x}_2)$\n",
        "\n",
        "$r_{12}=\\frac{s_{12}}{\\sqrt{s_1^2s_2^2}}=s_{12}$.\n",
        "$\\quad s_{12}=\\sum_{i=1}^{n}(x_{i1}-\\bar{x}_1)(x_{i2}-\\bar{x}_2)$\n",
        "\n",
        "(관찰1)\n",
        "\n",
        "만약에 $x_1$과 $x_2$사이에 강한 선형관계가 있다면 $r_{12}\\approx 1$ or\n",
        "$r_{12}\\approx -1$\n",
        "\n",
        "$\\hat{\\beta}_1$의 분모 = $1-r_{12}^2 \\approx 0$\n",
        "\n",
        "$\\hat{\\beta}_1$의 분자 $\\approx 0$\n",
        "\n",
        "$\\to$ $\\hat{\\beta}_1$와 $\\hat{\\beta}_2$의 값이 불안정할것 같다.\n",
        "\n",
        "(관찰2)\n",
        "\n",
        "$\\hat{\\beta}_1$, $\\hat{\\beta}_2$의 분산과 공분산을 구해보자.\n",
        "\n",
        "$\\mbox{V}(\\hat{\\beta_1})=\\frac{1}{1-r_{12}^2}\\sigma^2$\n",
        "\n",
        "$\\mbox{V}(\\hat{\\beta_2})=\\frac{1}{1-r_{12}^2}\\sigma^2$\n",
        "\n",
        "$\\mbox{cov}\\big(\\hat{\\beta}_1,\\hat{\\beta}_2\\big)=\\frac{-r_{12}}{1-r_{12}^2}\\sigma^2$\n",
        "\n",
        "(관찰3)\n",
        "\n",
        "$\\mbox{cor}\\big(\\hat{\\beta}_1,\\hat{\\beta}_2\\big)=-r_{12}$"
      ],
      "id": "e4c14760-295c-4cee-8b3e-bcc64846f9be"
    },
    {
      "cell_type": "code",
      "execution_count": 1,
      "metadata": {},
      "outputs": [],
      "source": [
        "import rpy2 \n",
        "%load_ext rpy2.ipython"
      ],
      "id": "6bcb6620-b8bd-422e-b6b1-4766b3ce9ba9"
    },
    {
      "cell_type": "code",
      "execution_count": 2,
      "metadata": {},
      "outputs": [],
      "source": [
        "%%R \n",
        "set.seed(999)\n",
        "n<-20000\n",
        "toeic<-750+rnorm(n,sd=80)\n",
        "toeic[toeic>990]<-990\n",
        "toeic<-round(toeic)\n",
        "teps<-toeic + rnorm(n,sd=0.01)\n",
        "gpa<-3.5+rnorm(n,sd=0.3)\n",
        "gpa[gpa>4.5]<-4.5 \n",
        "gpa<-round(gpa,1)\n",
        "sal<-gpa*600+toeic*5+rnorm(n,sd=300)\n",
        "sal<-round(sal)"
      ],
      "id": "16332eea-0bde-4c62-b96f-1c804be356b6"
    },
    {
      "cell_type": "code",
      "execution_count": 3,
      "metadata": {
        "outputId": "f3c3649a-a66f-4eb9-f551-d4d36c145e08"
      },
      "outputs": [
        {
          "output_type": "stream",
          "name": "stdout",
          "text": [
            "[1] 1"
          ]
        }
      ],
      "source": [
        "%%R \n",
        "cor(toeic,teps)"
      ],
      "id": "e5f7ef7a-449a-4ec5-b48a-2f85fac52c44"
    },
    {
      "cell_type": "markdown",
      "metadata": {},
      "source": [
        "(직관)\n",
        "\n",
        "토익이나 텝스점수나 그게 그거이다. (강한 상관관계)\n",
        "\n",
        "원래모형은 `연봉=학점*600+토익*5+오차`인데, 토익이나 텝스나 그게\n",
        "그거이므로, 아래와 같은 모형들도 거의 참모형이라고 생각할 수 있다.\n",
        "\n",
        "1.  `연봉=학점*600+토익*2+텝스*3+오차`\n",
        "\n",
        "2.  `연봉=학점*600+토익*1+텝스*4+오차`\n",
        "\n",
        "3.  `연봉=학점*600+토익*(-5)+텝스*10+오차`\n",
        "\n",
        "4.  `연봉=학점*600+토익*(-1000)+텝스*(1005)+오차`\n",
        "\n",
        "5.  `연봉=학점*600+토익*(-10000)+텝스*(10005)+오차`\n",
        "\n",
        "…\n",
        "\n",
        "결국에는 토익의 계수와 텝스의 계수를 더해서 5만되면 참모형"
      ],
      "id": "7f804c48-489e-46d4-825f-068c3611f652"
    },
    {
      "cell_type": "code",
      "execution_count": 4,
      "metadata": {
        "outputId": "842044a2-0c1b-4831-db33-7d557ac34971"
      },
      "outputs": [
        {
          "output_type": "stream",
          "name": "stdout",
          "text": [
            "\n",
            "Call:\n",
            "lm(formula = sal ~ toeic + teps + gpa)\n",
            "\n",
            "Coefficients:\n",
            "(Intercept)        toeic         teps          gpa  \n",
            "      50.38       194.70      -189.72       590.53  \n"
          ]
        }
      ],
      "source": [
        "%%R \n",
        "lm1<-lm(sal~toeic+teps+gpa)\n",
        "lm1"
      ],
      "id": "5950372e-983c-4d20-9448-706eff5913f0"
    },
    {
      "cell_type": "markdown",
      "metadata": {},
      "source": [
        "토익의 계수는 194.70, 텝스의 계수는 -189.72 로 추정되었다. 두개더하면\n",
        "대략 5.\n",
        "\n",
        "몇번 더 시도를 해보자.\n",
        "\n",
        "(시도2)"
      ],
      "id": "8de147b8-998b-4e27-be35-0ded952930d8"
    },
    {
      "cell_type": "code",
      "execution_count": 5,
      "metadata": {},
      "outputs": [],
      "source": [
        "%%R \n",
        "set.seed(1)\n",
        "n<-20000\n",
        "toeic<-750+rnorm(n,sd=80)\n",
        "toeic[toeic>990]<-990\n",
        "toeic<-round(toeic)\n",
        "teps<-toeic + rnorm(n,sd=0.01)\n",
        "gpa<-3.5+rnorm(n,sd=0.3)\n",
        "gpa[gpa>4.5]<-4.5 \n",
        "gpa<-round(gpa,1)\n",
        "sal<-gpa*600+toeic*5+rnorm(n,sd=300)\n",
        "sal<-round(sal)"
      ],
      "id": "c4dc50ac-c2fd-4e9b-8508-93e21d219422"
    },
    {
      "cell_type": "code",
      "execution_count": 6,
      "metadata": {
        "outputId": "718c30e3-e5f2-4ee3-b30c-6b7a1ca5cede"
      },
      "outputs": [
        {
          "output_type": "stream",
          "name": "stdout",
          "text": [
            "\n",
            "Call:\n",
            "lm(formula = sal ~ toeic + teps + gpa)\n",
            "\n",
            "Coefficients:\n",
            "(Intercept)        toeic         teps          gpa  \n",
            "     -45.82       -64.47        69.50       606.31  \n"
          ]
        }
      ],
      "source": [
        "%%R \n",
        "lm1<-lm(sal~toeic+teps+gpa)\n",
        "lm1"
      ],
      "id": "3ee4a18d-201e-4fe8-9685-2aa40043665e"
    },
    {
      "cell_type": "markdown",
      "metadata": {},
      "source": [
        "이번에는 토익의 계수는 -64.49, 텝스의 계수는 69.50 두개 더하면 대충 5\n",
        "\n",
        "(시도3)"
      ],
      "id": "f97151ad-4eb9-4472-b3af-d7702c5e9649"
    },
    {
      "cell_type": "code",
      "execution_count": 7,
      "metadata": {},
      "outputs": [],
      "source": [
        "%%R \n",
        "set.seed(2)\n",
        "n<-20000\n",
        "toeic<-750+rnorm(n,sd=80)\n",
        "toeic[toeic>990]<-990\n",
        "toeic<-round(toeic)\n",
        "teps<-toeic + rnorm(n,sd=0.01)\n",
        "gpa<-3.5+rnorm(n,sd=0.3)\n",
        "gpa[gpa>4.5]<-4.5 \n",
        "gpa<-round(gpa,1)\n",
        "sal<-gpa*600+toeic*5+rnorm(n,sd=300)\n",
        "sal<-round(sal)"
      ],
      "id": "364990c1-6ee5-4688-bead-49114e307390"
    },
    {
      "cell_type": "code",
      "execution_count": 8,
      "metadata": {
        "outputId": "021c1d59-66d2-4246-daeb-8846ec96fff7"
      },
      "outputs": [
        {
          "output_type": "stream",
          "name": "stdout",
          "text": [
            "\n",
            "Call:\n",
            "lm(formula = sal ~ toeic + teps + gpa)\n",
            "\n",
            "Coefficients:\n",
            "(Intercept)        toeic         teps          gpa  \n",
            "      19.54       217.27      -212.31       603.10  \n"
          ]
        }
      ],
      "source": [
        "%%R \n",
        "lm1<-lm(sal~toeic+teps+gpa)\n",
        "lm1"
      ],
      "id": "55699872-223a-4f8e-a4ee-26cc0586adc1"
    },
    {
      "cell_type": "markdown",
      "metadata": {},
      "source": [
        "토익의 계수는 217.27, 텝스의 계수는 -212.31 두개더하면 대충 5\n",
        "\n",
        "(시도4)"
      ],
      "id": "e2f2dd4b-565e-4540-a153-c875704954e8"
    },
    {
      "cell_type": "code",
      "execution_count": 9,
      "metadata": {},
      "outputs": [],
      "source": [
        "%%R \n",
        "set.seed(3)\n",
        "n<-20000\n",
        "toeic<-750+rnorm(n,sd=80)\n",
        "toeic[toeic>990]<-990\n",
        "toeic<-round(toeic)\n",
        "teps<-toeic + rnorm(n,sd=0.01)\n",
        "gpa<-3.5+rnorm(n,sd=0.3)\n",
        "gpa[gpa>4.5]<-4.5 \n",
        "gpa<-round(gpa,1)\n",
        "sal<-gpa*600+toeic*5+rnorm(n,sd=300)\n",
        "sal<-round(sal)"
      ],
      "id": "12770fcd-db90-434b-a282-187a3dc2d3e6"
    },
    {
      "cell_type": "code",
      "execution_count": 10,
      "metadata": {
        "outputId": "2fec3205-cc4d-445c-df9c-02a96a26cda7"
      },
      "outputs": [
        {
          "output_type": "stream",
          "name": "stdout",
          "text": [
            "\n",
            "Call:\n",
            "lm(formula = sal ~ toeic + teps + gpa)\n",
            "\n",
            "Coefficients:\n",
            "(Intercept)        toeic         teps          gpa  \n",
            "     -32.02      -152.82       157.85       600.85  \n"
          ]
        }
      ],
      "source": [
        "%%R \n",
        "lm1<-lm(sal~toeic+teps+gpa)\n",
        "lm1"
      ],
      "id": "60ad5ac8-0b8d-412d-88a4-e1ee855a8365"
    },
    {
      "cell_type": "markdown",
      "metadata": {},
      "source": [
        "토익의 계수는 -152.82, 텝스의 계수는 157.85 두개더하면 대충 5.\n",
        "\n",
        "*\\[다중공선성의 특징\\]*\n",
        "\n",
        "1.  추정하는 $\\hat{\\beta_1}$, $\\hat{\\beta_2}$가 어떤값일지 거의\n",
        "    예측안된다.\n",
        "\n",
        "-   5근처의 값이 나올때도 있고, 30근처의 값이 나오기도 하고, 100근처의\n",
        "    값이 나오기도 한다.\n",
        "-   $\\hat{\\beta}_1$, $\\hat{\\beta}_2$의 분산이 크다.\n",
        "\n",
        "1.  그래도 $\\hat{\\beta}_1+\\hat{\\beta}_2\\approx 5$라는 공통점은 있음.\n",
        "\n",
        "### 수식적으로 그럴듯해 보여도, 모두 바람직한 모형은 아니다.\n",
        "\n",
        "아래는 모두 참모형이라고 생각되어지는 상황이다.\n",
        "\n",
        "1.  $\\hat{\\beta}_1=2$, $\\hat{\\beta}_2=3$\n",
        "\n",
        "2.  $\\hat{\\beta}_1=5$, $\\hat{\\beta}_2=0$\n",
        "\n",
        "3.  $\\hat{\\beta}_1=10$, $\\hat{\\beta}_2=-5$\n",
        "\n",
        "모두 참모형에 가깝지만 상식적으로 (3)은 용납할 수 잆음.\n",
        "\n",
        "이유1: (3)번과 같은 형태를 허용하면\n",
        "$\\hat{\\beta}_1=10000, ~ \\hat{\\beta}_2=-9995$ 와 같은식으로도 만들수\n",
        "있음.\n",
        "\n",
        "이유2: (해석불가능한 모델)\n",
        "\n",
        "$\\hat{\\beta}_2$가 의미하는 것은 텝스점수가 얼마나 연봉에 영향을\n",
        "주는지이다.\n",
        "\n",
        "즉 텝스점수 1점을 올리면 연봉이 5만원 깍임.\n",
        "\n",
        "상식적으로 말이 안된다.\n",
        "\n",
        "### 해결책\n",
        "\n",
        "논의를 간단하게 하기 위해서 모형을 좀 더 단순화 하자.\n",
        "\n",
        "`gpa`에 대응하는 계수 600을 우리가 이미 알고있다고 가정하자. (혹은\n",
        "적절하게 추정했다고 가정하자.)\n",
        "\n",
        "그리고 오로지 연봉을 토익과 텝스만으로 추정한다고 하자.\n",
        "\n",
        "단순화된 모형은\n",
        "\n",
        "`sal-600*gpa = toeic * β1 + teps * β2`\n",
        "\n",
        "이제 아래와 같이 계수를 추정하였을 경우\n",
        "\n",
        "1.  $\\hat{\\beta}_1=2$, $\\hat{\\beta}_2=3$\n",
        "\n",
        "2.  $\\hat{\\beta}_1=5$, $\\hat{\\beta}_2=0$\n",
        "\n",
        "3.  $\\hat{\\beta}_1=10$, $\\hat{\\beta}_2=-5$\n",
        "\n",
        "(3)과 같은 상황이 발생하지 않도록 하여보자."
      ],
      "id": "b3d7f78d-547b-4167-a2cc-15f15f1ea27a"
    },
    {
      "cell_type": "code",
      "execution_count": 11,
      "metadata": {},
      "outputs": [],
      "source": [
        "%%R \n",
        "set.seed(2)\n",
        "n<-20000\n",
        "toeic<-750+rnorm(n,sd=80)\n",
        "toeic[toeic>990]<-990\n",
        "toeic<-round(toeic)\n",
        "teps<-toeic + rnorm(n,sd=0.01)\n",
        "gpa<-3.5+rnorm(n,sd=0.3)\n",
        "gpa[gpa>4.5]<-4.5 \n",
        "gpa<-round(gpa,1)\n",
        "sal<-gpa*600+toeic*5+rnorm(n,sd=300)\n",
        "sal<-round(sal)"
      ],
      "id": "1b810235-d9f0-49db-afb6-f40ecd56e2d2"
    },
    {
      "cell_type": "code",
      "execution_count": 12,
      "metadata": {
        "outputId": "89475b6f-6062-4016-c8b2-22c5c5e43292"
      },
      "outputs": [
        {
          "output_type": "stream",
          "name": "stdout",
          "text": [
            "\n",
            "Call:\n",
            "lm(formula = y ~ toeic + teps - 1)\n",
            "\n",
            "Coefficients:\n",
            " toeic    teps  \n",
            " 216.9  -211.9  \n"
          ]
        }
      ],
      "source": [
        "%%R\n",
        "y<-sal-600*gpa\n",
        "lm(y~toeic+teps-1)"
      ],
      "id": "256a59a5-b83d-4793-a17f-7d9f82f3deef"
    },
    {
      "cell_type": "markdown",
      "metadata": {},
      "source": [
        "$\\hat{\\beta}_1=216.9$\n",
        "\n",
        "$\\hat{\\beta}_2=-211.9$\n",
        "\n",
        "위의 결과는 $L(\\beta)$를 최소화하는 $\\beta$를 구한 결과임"
      ],
      "id": "d5ac90d2-cdb2-4531-8b7f-007500297c4c"
    },
    {
      "cell_type": "code",
      "execution_count": 13,
      "metadata": {},
      "outputs": [],
      "source": [
        "%%R \n",
        "X<-cbind(toeic,teps)\n",
        "L<-function(beta){\n",
        "    t(y-X%*%beta)%*%(y-X%*%beta)\n",
        "}"
      ],
      "id": "d8ea67b8-7321-45c2-84ca-cdcb88458d3b"
    },
    {
      "cell_type": "code",
      "execution_count": 14,
      "metadata": {},
      "outputs": [],
      "source": [
        "%%R\n",
        "beta<-c(216.9,-211.9)\n",
        "c<-L(beta)"
      ],
      "id": "ba03bf77-9704-4f7d-b811-6434524613dc"
    },
    {
      "cell_type": "markdown",
      "metadata": {},
      "source": [
        "즉 $c=1798374986$이 $L$이 가질수 있는 최소값."
      ],
      "id": "3dad3344-9645-4555-95bc-7859efac0a9a"
    },
    {
      "cell_type": "code",
      "execution_count": 15,
      "metadata": {
        "outputId": "064c7030-6a43-47e6-d7e9-c3303b730d26"
      },
      "outputs": [
        {
          "output_type": "stream",
          "name": "stdout",
          "text": [
            "[1] 1.000052 1.000050 1.000048 7.321030"
          ]
        }
      ],
      "source": [
        "%%R\n",
        "beta1<-c(2,3)\n",
        "L1<-L(beta1)/c\n",
        "beta2<-c(5,0)\n",
        "L2<-L(beta2)/c\n",
        "beta3<-c(10,-5)\n",
        "L3<-L(beta3)/c\n",
        "beta4<-c(104,-100)\n",
        "L4<-L(beta4)/c\n",
        "c(L1,L2,L3,L4)"
      ],
      "id": "31695a64-e0b1-49c9-8d07-a3758a8d0b14"
    },
    {
      "cell_type": "markdown",
      "metadata": {},
      "source": [
        "1.  $\\hat{\\beta}_1=2$, $\\hat{\\beta}_2=3$ $\\longrightarrow$\n",
        "    $L(\\boldsymbol{\\beta})=1.000052$\n",
        "\n",
        "2.  $\\hat{\\beta}_1=5$, $\\hat{\\beta}_2=0$ $\\longrightarrow$\n",
        "    $L(\\boldsymbol{\\beta})=1.000050$\n",
        "\n",
        "3.  $\\hat{\\beta}_1=10$, $\\hat{\\beta}_2=-5$ $\\longrightarrow$\n",
        "    $L(\\boldsymbol{\\beta})=1.000048$\n",
        "\n",
        "4.  $\\hat{\\beta}_1=104$, $\\hat{\\beta}_2=-100$ $\\longrightarrow$\n",
        "    $L(\\boldsymbol{\\beta})=7.321030$\n",
        "\n",
        "이대로라면 위의 (1)-(4) 중에서 가장 적절한 해는 (3)이다.\n",
        "\n",
        "`아이디어:` $L(\\beta)$을 조금 바꾸자. 위의 손실함수에서 각각\n",
        "$\\frac{1}{100000}\\big(\\beta_1^2+\\beta_2^2\\big)$를 더한다면?"
      ],
      "id": "6aba04f8-7d8d-41b3-b737-adae859f0e1b"
    },
    {
      "cell_type": "code",
      "execution_count": 16,
      "metadata": {
        "outputId": "a671e7c0-cf57-45df-d074-7bca8c243834"
      },
      "outputs": [
        {
          "output_type": "stream",
          "name": "stdout",
          "text": [
            "[1] 1.000182 1.000300 1.001298 7.529190"
          ]
        }
      ],
      "source": [
        "%%R\n",
        "beta1<-c(2,3)\n",
        "beta2<-c(5,0)\n",
        "beta3<-c(10,-5)\n",
        "beta4<-c(104,-100)\n",
        "p1<-(beta1[1]^2+beta1[2]^2)/100000\n",
        "p2<-(beta2[1]^2+beta2[2]^2)/100000\n",
        "p3<-(beta3[1]^2+beta3[2]^2)/100000\n",
        "p4<-(beta4[1]^2+beta4[2]^2)/100000\n",
        "\n",
        "L1<-L(beta1)/c+p1\n",
        "L2<-L(beta2)/c+p2\n",
        "L3<-L(beta3)/c+p3\n",
        "L4<-L(beta4)/c+p4\n",
        "c(L1,L2,L3,L4)"
      ],
      "id": "019618d4-d4a4-41b4-be97-8f7b18fc929a"
    },
    {
      "cell_type": "markdown",
      "metadata": {},
      "source": [
        "1.  $\\hat{\\beta}_1=2$, $\\hat{\\beta}_2=3$ $\\longrightarrow$\n",
        "    $L(\\boldsymbol{\\beta})=1.000182$\n",
        "\n",
        "2.  $\\hat{\\beta}_1=5$, $\\hat{\\beta}_2=0$ $\\longrightarrow$\n",
        "    $L(\\boldsymbol{\\beta})=1.000300$\n",
        "\n",
        "3.  $\\hat{\\beta}_1=10$, $\\hat{\\beta}_2=-5$ $\\longrightarrow$\n",
        "    $L(\\boldsymbol{\\beta})=1.001298$\n",
        "\n",
        "4.  $\\hat{\\beta}_1=104$, $\\hat{\\beta}_2=-100$ $\\longrightarrow$\n",
        "    $L(\\boldsymbol{\\beta})=7.529190$\n",
        "\n",
        "이렇게하면 이제 (수정된) $L$을 최소화하는 해는 (1)이다.\n",
        "\n",
        "### 해결책의 시각적 이해"
      ],
      "id": "ae5984eb-18c2-42d1-89c6-df81cdefd288"
    },
    {
      "cell_type": "code",
      "execution_count": 19,
      "metadata": {
        "outputId": "15a1f2b1-29fa-4183-aa90-f42098fc2af4"
      },
      "outputs": [
        {
          "output_type": "display_data",
          "metadata": {},
          "data": {
            "image/png": "[encoded data removed]"
          }
        }
      ],
      "source": [
        "%%R\n",
        "β1 = seq(-10,15,length=50)\n",
        "β2 = seq(-10,15,length=50)\n",
        "L_ <- function(β1,β2){\n",
        "    rtn<-c()\n",
        "    for(k in 1:length(β2)){\n",
        "        rtn[k]<-sum((y-β1[k]*toeic-β2[k]*teps)^2)/c\n",
        "    }\n",
        "    rtn\n",
        "}\n",
        "z_=outer(β1,β2,L_)\n",
        "#install.packages(\"plot3D\")\n",
        "library(plot3D) \n",
        "ribbon3D(z=z_,contour=TRUE,xlab=\"β1\",ylab=\"β2\",zlab=\"L(β1,β2)\",main=\"original loss function\")"
      ],
      "id": "b2dc6064-dc21-41b4-85db-6bb5c7e52a5d"
    },
    {
      "cell_type": "code",
      "execution_count": null,
      "metadata": {
        "outputId": "31ad5558-85f6-4c4e-94a6-29e5131e8b06"
      },
      "outputs": [],
      "source": [
        "%%R\n",
        "β1 = seq(-10,15,length=50)\n",
        "β2 = seq(-10,15,length=50)\n",
        "panelty_<-function(β1,β2){\n",
        "    λ<-1.5 # 1/100000\n",
        "    rtn<-c()\n",
        "    for(k in 1:length(β2)){\n",
        "        rtn[k]<-λ*sum(β1[k]^2+β2[k]^2)\n",
        "    }\n",
        "    rtn    \n",
        "}\n",
        "\n",
        "L_ <- function(β1,β2){\n",
        "    rtn<-c()\n",
        "    for(k in 1:length(β2)){\n",
        "        rtn[k]<-sum((y-β1[k]*toeic-β2[k]*teps)^2)/c\n",
        "    }\n",
        "    rtn\n",
        "}\n",
        "z_=outer(β1,β2,L_)\n",
        "z__=outer(β1,β2,panelty_)\n",
        "#install.packages(\"plot3D\")\n",
        "library(plot3D) \n",
        "ribbon3D(z=z_,contour=TRUE,xlab=\"β1\",ylab=\"β2\",main=\"그림1: L(β1,β2)\")\n",
        "ribbon3D(z=z__,contour=TRUE,xlab=\"β1\",ylab=\"β2\",main=\"그림2: λ(β1^2+β2^2)\")\n",
        "ribbon3D(z=z_+z__,contour=TRUE,xlab=\"β1\",ylab=\"β2\",main=\"그림3: L(β1,β2)+λ(β1^2+β2^2)\")"
      ],
      "id": "a0828d24-7d5f-4120-b30f-b726c3ccba11"
    },
    {
      "cell_type": "markdown",
      "metadata": {},
      "source": [
        "### $\\lambda$의 역할 $(\\lambda>0)$\n",
        "\n",
        "\\[그림1\\]이랑 \\[그림2\\]을 섞어서 \\[그림3\\]을 만드는데, 각각을 얼만큼의\n",
        "비율로 섞을지 결정한다.\n",
        "\n",
        "람다가 크면 그림2를 많이 반영한다. $\\to$ 람다가 너무 크면 결국\n",
        "$\\hat{\\beta}_1$와 $\\hat{\\beta}_2$의 추정값이 거의 0에 가깝게 된다.\n",
        "\n",
        "람다가 작으면 그림1을 많이 반영한다. $\\to$ 람다가 너무 작게되면, 우리는\n",
        "손실함수 $L(\\beta_1,\\beta_2)$에 아무런 수정도 하지않은 셈이된다.\n",
        "\n",
        "### $\\lambda(\\beta_1^2+\\beta_2^2)$의 역할\n",
        "\n",
        "원래 $\\beta_1+\\beta_2=5$를 만족하는 어떠한 해도 솔루션이 되었음. 즉\n",
        "\\[그림1\\]과 같은 상황\n",
        "\n",
        "\\[그림1\\]과 같은 상황에서 약간의 경사를 주어서 \\[그림3\\]과 같은 상황을\n",
        "만듬\n",
        "\n",
        "$\\hat{\\beta}_1$ 와 $\\hat{\\beta}_2$ 의 값을 안정적으로 만들어 준다.\n",
        "\n",
        "그러면서도 딱히 원래 $L(\\beta_1,\\beta_2)$의 모양을 크게 해치지 않는다.\n",
        "\n",
        "(!) 그럴듯함. 우리가 원하는것 같다.\n",
        "\n",
        "이렇게 하면 다중공선성이 발생하는 상황에서 적절한 해를 구할 수 있을 것\n",
        "같다.\n",
        "\n",
        "(관찰)\n",
        "\n",
        "$\\lambda\\big(\\beta_1^2+\\beta_2^2\\big)$은 아래와 같이 표현가능함.\n",
        "\n",
        "$\\lambda [\\beta_1,\\beta_2]\\begin{bmatrix}\\beta_1 \\\\ \\beta_2 \\end{bmatrix}=\\lambda\\beta^\\top \\beta$\n",
        "\n",
        "단, $\\beta=\\begin{bmatrix}\\beta_1 \\\\ \\beta_2 \\end{bmatrix}$.\n",
        "\n",
        "### 릿지에 대한 책의 설명들..\n",
        "\n",
        "Step 1.\n",
        "$\\hat{\\beta}^R=\\bf\\big(X^\\top X+\\lambda I \\big)^{-1}{\\bf X}^\\top y$.\n",
        "\n",
        "일반적인 회귀분석과 다르게 아래와 같은 손실함수를 생각하자.\n",
        "\n",
        "$L={\\bf (y-X\\beta)^\\top}{\\bf (y-X\\beta)}+\\lambda \\beta^\\top \\beta=\\mbox{goodness of fit} + \\mbox{panalty}$\n",
        "\n",
        "$L$를 최소화하는 $\\hat{\\beta}$을 구하면 아래와 같다. 구분을 위해서\n",
        "$\\hat{\\beta}^R$이라는 기호를쓰자.\n",
        "\n",
        "$\\hat{\\beta}^R=\\bf\\big(X^\\top X+\\lambda I \\big)^{-1}{\\bf X}^\\top y$\n",
        "\n",
        "Step 2 : $\\hat{\\beta}^R$이 $\\hat{\\beta}^{OLS}$보다 왜 좋은가?\n",
        "\n",
        "$\\hat{\\beta}^{OLS}={\\bf (X^\\top X)^{-1}X^\\top y}$\n",
        "\n",
        "$\\hat{\\beta}^{R}={\\bf (X^\\top X+\\lambda I)^{-1}X^\\top y}$\n",
        "\n",
        "1.  $\\hat{\\beta}^{OLS}$는 $\\beta$에 대한 불편추정량 이지만,\n",
        "    $\\hat{\\beta}^{R}$은 아니다.\n",
        "\n",
        "2.  하지만 분산은 $\\hat{\\beta}^{OLS}$보다 $\\hat{\\beta}^R$이 더 작다.\n",
        "\n",
        "3.  좋은 추정량은 bias와 분산이 모두 작아야하는데, $\\hat{\\beta}^{R}$은\n",
        "    바이어스는 $\\hat{\\beta}^{OLS}$보다 큰 상황이고, 분산은\n",
        "    $\\hat{\\beta}^{OLS}$보다 작은 상황이다.\n",
        "\n",
        "4.  따라서 두 추정치중에서 뭐가 더 좋다고 말하기 애매한데, 이를 명확하게\n",
        "    말하기 위해서는 MSE($=\\mbox{bias}^2 + \\mbox{variance}$)를\n",
        "    비교해봐야한다.\n",
        "\n",
        "5.  Hoerl 과 Kennard는 $\\hat{\\beta}^{R}$이 $\\hat{\\beta}^{OLS}$보다 MSE가\n",
        "    작게되는 $\\lambda$값이 항상 존재한다고 한다고 밝혔다. (1970년)\n",
        "\n",
        "6.  따라서 이러한 $\\lambda$를 잘 찾으면 항상 Ridge Regression이 Linear\n",
        "    Regression 보다 좋다고 주장할 수 있다.\n",
        "\n",
        "(참고)\n",
        "\n",
        "1.  일반적인 손실함수 $L={\\bf (y-X\\beta)^\\top (y-X\\beta)}$와 수정된\n",
        "    손실함수를 구분하기 위해서 아래와 같이 $\\tilde{L}$와 같은 기호를\n",
        "    쓰기도 한다.\n",
        "\n",
        "$\\tilde{L}={\\bf(y-X\\beta)^\\top(y-X\\beta)+\\lambda \\beta^\\top \\beta }$\n",
        "\n",
        "1.  일반적인 손실함수 $L$을 최소화하는 $\\beta$와 수정된 손실함수\n",
        "    $\\tilde{L}$을 최소화하는 $\\beta$를 구분하기 위해서 아래와 같은\n",
        "    기호를 쓰기도 한다.\n",
        "\n",
        "$\\hat{\\beta}^{OLS}={\\bf (X^\\top X)^{-1}X^\\top y}$\n",
        "\n",
        "$\\hat{\\beta}^{R}={\\bf (X^\\top X+\\lambda I)^{-1}X^\\top y}$\n",
        "\n",
        "1.  $\\lambda \\beta^\\top \\beta$를 패널티항(=벌점항), $L_2$-패널티,\n",
        "    regularization term (정규화항) 이라고 부른다.\n",
        "\n",
        "2.  $\\lambda \\beta^\\top \\beta$를 $\\lambda \\|\\beta\\|_2^2$로 표현하기도\n",
        "    한다. $\\| \\cdot \\|_2$는 벡터의 $L_2$-노름 이라고 한다.\n",
        "\n",
        "-   ${\\bf x}=(x_1,x_2)$ $\\to$ $\\|{\\bf x}\\|_2^2:=x_1^2+x_2^2$,\n",
        "    $\\|{\\bf x}\\|_2:=\\sqrt{x_1^2+x_2^2}$\n",
        "-   $\\lambda \\beta^\\top \\beta = \\lambda(\\beta_1^2+\\beta_2^2)$\n",
        "\n",
        "1.  (4)에서 유리하여 $\\lambda \\beta^\\top \\beta$를 $L_2$-패널티항이라고\n",
        "    부르기도 한다.\n",
        "\n",
        "2.  참고로 $L_1$-패널티항도 있다. 그리고 $L_1$과 $L_2$패널티를 섞어서\n",
        "    쓰는 방법도 있다.\n",
        "\n",
        "-   $Loss=SSE+L_2\\mbox{-}panalty$: Ridge\n",
        "-   $Loss=SSE+L_1\\mbox{-}panalty$: Lasso\n",
        "-   $Loss=SSE+L_1\\mbox{-}panalty+L_2\\mbox{-}panalty$: Elastic-net\n",
        "\n",
        "1.  $L_2$-패널티항은 너무 큰 $\\beta_1,\\beta_2$를 구할때 패널티를\n",
        "    부여하여 되도록이면 작은 $\\beta_1,\\beta_2$을 선택하게끔 `제약`을\n",
        "    건다.\n",
        "\n",
        "2.  일반적인 손실함수 $L$이지만 우리는 $\\tilde{L}$을 최소화해야\n",
        "    하므로 (i) 되도록이면 $\\beta_1,\\beta_2$의 값이 작을수록 좋다는\n",
        "    제약하에서 (ii) $L$를 최소화하는 2가지 역할을 수행해야 한다.\n",
        "\n",
        "3.  $\\tilde{L}$를 최소화하는 문제를 `제약된 조건하에서의 최소화문제`라고\n",
        "    표현한다.\n",
        "\n",
        "4.  (8)에서 (i)-(ii)의 역할중에서 어떤것을 더 중시할지 조율하는 역할을\n",
        "    $\\lambda$가 하는데, 이와 같은 이유로 $\\lambda$를 조율모수 (tuning\n",
        "    parameter)라고 부르기도 한다.\n",
        "\n",
        "5.  $\\lambda$를 하이퍼파라메터라고 부르기도 한다.\n",
        "\n",
        "6.  $\\hat{\\beta}^{R}$의 값은 대체적으로 $\\hat{\\beta}^{OLS}$보다 작은값을\n",
        "    가진다. 이러한 이유로 $\\beta^{R}$ shrinkage esitmator라고 부른다.\n",
        "\n",
        "7.  biased regression, shrinkage method, regularization method, panalty\n",
        "    method.. 등 ridge를 표현하는 방법들은 다양하다.\n",
        "\n",
        "8.  능형회귀를 수행함에 있어서 (이론적인 부분에서는 언급되지 않았으나)\n",
        "    변수의 표준화를 먼저 시행해야 한다."
      ],
      "id": "5fd783a3-bb6d-416b-bf48-23fc081fc9f0"
    }
  ],
  "nbformat": 4,
  "nbformat_minor": 5,
  "metadata": {
    "colab": {
      "provenance": []
    },
    "kernelspec": {
      "name": "python3",
      "display_name": "Python 3 (ipykernel)",
      "language": "python"
    },
    "language_info": {
      "name": "python",
      "codemirror_mode": {
        "name": "ipython",
        "version": "3"
      },
      "file_extension": ".py",
      "mimetype": "text/x-python",
      "nbconvert_exporter": "python",
      "pygments_lexer": "ipython3",
      "version": "3.8.12"
    }
  }
}