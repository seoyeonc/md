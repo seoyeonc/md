{
 "cells": [
  {
   "cell_type": "raw",
   "id": "0e38dbb7-cf22-436d-b098-fd5ac1889d5a",
   "metadata": {
    "id": "cac470df-29e7-4148-9bbd-d8b9a32fa570",
    "tags": []
   },
   "source": [
    "---\n",
    "title: \"Transformers\"\n",
    "author: \"SEOYEON CHOI\"\n",
    "date: \"2023-05-24\"\n",
    "categories:\n",
    "  - Transformers\n",
    "---"
   ]
  },
  {
   "cell_type": "markdown",
   "id": "dd4296be-9d8f-4664-9c84-b0ea0ad1d6e7",
   "metadata": {},
   "source": [
    "> Attention is all you need"
   ]
  },
  {
   "cell_type": "markdown",
   "id": "10edc928-aabd-41f9-bd3d-5b1ddc0e9cb4",
   "metadata": {},
   "source": [
    "ref: [딥 러닝을 이용한 자연어 처리 입문](https://wikidocs.net/31379), [Attention is all you need](https://proceedings.neurips.cc/paper_files/paper/2017/file/3f5ee243547dee91fbd053c1c4a845aa-Paper.pdf)"
   ]
  },
  {
   "cell_type": "markdown",
   "id": "a3a00176-ec1b-445c-96fb-d44ba975e4df",
   "metadata": {},
   "source": [
    "$\\star$ seq2seq 구조인 인코더-디코더를 따르면서 어텐션만으로 구현한 모델, RNN을 사용하지 않고 인코더-디코더 구조로 설계하였지만 RNN보다 우수한 성능을 보임"
   ]
  },
  {
   "cell_type": "code",
   "execution_count": null,
   "id": "d9754537-002f-4b78-847b-d63138917d01",
   "metadata": {},
   "outputs": [],
   "source": [
    "https://github.com/huggingface/transformers"
   ]
  },
  {
   "cell_type": "code",
   "execution_count": null,
   "id": "b8b38772-5044-4190-9128-af31b3235006",
   "metadata": {},
   "outputs": [],
   "source": [
    "https://github.com/huggingface/transformers/blob/main/README_ko.md"
   ]
  },
  {
   "cell_type": "markdown",
   "id": "e4e26d23-5ebf-4f51-95f4-dca89f886860",
   "metadata": {},
   "source": [
    "# seq2seq 의 한계"
   ]
  },
  {
   "cell_type": "markdown",
   "id": "830e2f05-ce18-4420-bbaa-40c11fb3c130",
   "metadata": {},
   "source": [
    "- 인코더, 디코더로 구성되어 있는 seq2seq\n",
    "- 인코더는 입력 시퀀스를 하나의 벡터 표현으로 압축\n",
    "    - $\\to$ 입력 시퀀스의 정보가 일부 손실된다는 단점 존재\n",
    "    - $\\to$ 이를 위해 어텐션 메카니즘 등장\n",
    "- 디코더는 이 벡터 표현을 통해 출력 시퀀스를 만듦\n",
    "\n",
    "\n",
    "- $\\star$ 어텐션을 RNN의 보정을 위한 용도로 사용하는 것이 아니라 어텐션만으로 인코더와 디코더를 만든다면??"
   ]
  },
  {
   "cell_type": "markdown",
   "id": "ef67fbb0-8aeb-4641-a17b-cdb4a083e27c",
   "metadata": {},
   "source": [
    "# 트랜스포머의 주요 하이퍼파라미터"
   ]
  },
  {
   "cell_type": "markdown",
   "id": "6a8d509c-2f64-4a53-a642-8bdfb3041628",
   "metadata": {},
   "source": [
    "각 값은 논문의 설정으로서, 바뀔 수 있음\n",
    "\n",
    "$d_{model} = 512$\n",
    "\n",
    "- 인코더와 디코더에서의 정해진 입력 및 출력의 크기\n",
    "- 임베딩 벡터의 차원도 이와 같음\n",
    "- 각 인코더와 디코더가 다음 층의 인코더와 디코더로 값을 보낼 때도 유지\n",
    "\n",
    "$num_layers = 6$\n",
    "\n",
    "- 하나의 인코더와 디코더를 층으로 생각하였을때, 모델에서 인코더와 디코더가 몇 층으로 구성되어 있는지를 의미\n",
    "\n",
    "$num_heads = 8$\n",
    "\n",
    "- 어텐션을 병렬로 수행하고 결과값을 다시 합치는 방식을 수행하기 위함, 즉 병렬의 개수\n",
    "\n",
    "$d_{ff} = 2048$\n",
    "\n",
    "- 트랜스포머 내부에 피드 포워드 신경망이 존재, 그 신경망의 은닉층의 크기를 의미\n",
    "- 단, 피드 포워드 신경망의 입력층과 출력층의 크기는 $d_{model}$"
   ]
  },
  {
   "cell_type": "markdown",
   "id": "ea6b65fb-4f75-45c6-b7b2-7ba95951e6a2",
   "metadata": {},
   "source": [
    "# Transformer"
   ]
  },
  {
   "cell_type": "markdown",
   "id": "8e274d43-ff5a-46df-b4e3-e81684e74d19",
   "metadata": {},
   "source": [
    "```{mermaid}\n",
    "flowchart LR\n",
    "  subgraph _\n",
    "    direction LR\n",
    "    subgraph Transformer\n",
    "        direction LR\n",
    "        Encoders -->Decoders\n",
    "    end\n",
    "  end\n",
    "  Text1(\"'I am a student`\") --> _ --> Text2(\"'je suis étudiant`\")\n",
    "```"
   ]
  },
  {
   "cell_type": "markdown",
   "id": "2f4e8f30-0510-4cf9-b40a-028ea49ba45e",
   "metadata": {},
   "source": [
    "- 인코더-디코더 구조를 가진 트랜스포머\n",
    "- 인코더와 디코더라는 단위가 N개로 구성되는 구조 $\\to$ Encoders, Decoders로 표현\n",
    "    - seq2seq에서는 인코더와 디코더에서 각각 하나의 RNN이 t개의 시점time step을 가지는 구조"
   ]
  },
  {
   "cell_type": "markdown",
   "id": "1bb4ac8e-1c1f-4322-b6d2-0e3232b640ae",
   "metadata": {},
   "source": [
    "```{mermaid}\n",
    "flowchart LR\n",
    "    _-->__\n",
    "    __-->out\n",
    "    subgraph _\n",
    "    direction BT\n",
    "    Embedding1-->Encoders\n",
    "        subgraph Encoders\n",
    "        Encoder\n",
    "        end\n",
    "        subgraph Embedding1\n",
    "        Text1(\"'I|am|a|student'\")\n",
    "        end\n",
    "    end\n",
    "    subgraph __\n",
    "    direction BT\n",
    "    Embedding2-->Decoders\n",
    "        subgraph Decoders\n",
    "        Decoder\n",
    "        end\n",
    "        subgraph Embedding2\n",
    "        Text2(\"'<\\br>sos|je|suis|étudiant'\")\n",
    "        end\n",
    "    end\n",
    "    out(\"'je|suis|étudiant|eos'\")\n",
    "```"
   ]
  },
  {
   "cell_type": "markdown",
   "id": "0213eeea-c3ed-4838-951f-0f5321b8dac3",
   "metadata": {},
   "source": [
    "- symbol인 sos를 입력받아 eos symbol 나올때까지 연산을 진행하는, RNN을 사용하지 않지만 인코더 디코더 구조 유지되는 모습을 보임"
   ]
  },
  {
   "cell_type": "markdown",
   "id": "1d6b073a-b419-4840-affc-cba56233b88e",
   "metadata": {},
   "source": [
    "## Positional Encoding"
   ]
  },
  {
   "cell_type": "markdown",
   "id": "acba1a09-9a63-4f5a-af93-9e5862c9aa6a",
   "metadata": {},
   "source": [
    "::: {.callout-note}\n",
    "\n",
    "RNN이 자연어 처리에서 유용했던 이유\n",
    "\n",
    "- 단어의 위치에 따라 단어를 순차적으로 입력받아서 처리하는 RNN의 특성으로 인해 각 단어의 위치 정보 position information을 가질 수 있어서\n",
    "\n",
    ":::\n"
   ]
  },
  {
   "cell_type": "markdown",
   "id": "606849fe-c847-48b7-b7cd-7490385c22ed",
   "metadata": {},
   "source": [
    "**포지셔널 인코딩**\n",
    "\n",
    "- 트랜스포머는 단어의 위치 정보를 얻기 위해서 각 단어의 임베딩 벡터에 위치 정보들을 더하여 모델의 입력으로 사용"
   ]
  },
  {
   "cell_type": "markdown",
   "id": "f49df96f-a7dc-42f5-bb77-d84113d448e4",
   "metadata": {},
   "source": [
    "```{mermaid}\n",
    "flowchart LR\n",
    "    _-->__\n",
    "    __-->out\n",
    "    subgraph _\n",
    "    direction BT\n",
    "    Embedding_en-->Positional\\nEncoding_en\n",
    "    Positional\\nEncoding_en-->Encoders\n",
    "        subgraph Encoders\n",
    "        Encoder\n",
    "        end\n",
    "        subgraph Embedding_en\n",
    "        Text1(\"'I|am|a|student'\")\n",
    "        end\n",
    "    end\n",
    "    subgraph __\n",
    "    direction BT\n",
    "    Embedding_de-->Positional\\nEncoding_de\n",
    "    Positional\\nEncoding_de-->Decoders\n",
    "        subgraph Decoders\n",
    "        Decoder\n",
    "        end\n",
    "        subgraph Embedding_de\n",
    "        Text2(\"'<\\br>sos|je|suis|étudiant'\")\n",
    "        end\n",
    "    end\n",
    "    out(\"'je|suis|étudiant|eos'\")\n",
    "```"
   ]
  },
  {
   "cell_type": "markdown",
   "id": "723a0e35-fb96-4196-b52b-db3af39ac9c4",
   "metadata": {},
   "source": [
    "- 입력으로 사용되는 임베딩 벡터들이 트랜스포머의 입력으로 사용되기 전에 포지셔널 인코딩 값이 더해지는 과정"
   ]
  },
  {
   "cell_type": "markdown",
   "id": "dd295342-94fd-4943-bd50-7c8023edc7a3",
   "metadata": {},
   "source": [
    "$$PE_{(pos, 2i)} = \\sin(pos/10000^{2i/d_{model}})$$\n",
    "\n",
    "$$PE_{(pos, 2i+1)} = \\cos(pos/10000^{2i/d_{model}})$$"
   ]
  },
  {
   "cell_type": "markdown",
   "id": "0ba547ee-ea78-43f0-b7de-9e70df6702e5",
   "metadata": {},
   "source": [
    "- 트랜스포머가 위치 정보를 가진 값을 만들기 위해 사용하는 두 개의 함수"
   ]
  },
  {
   "cell_type": "code",
   "execution_count": 44,
   "id": "055e6853-785e-47d8-8bb7-e698e1c44a54",
   "metadata": {},
   "outputs": [],
   "source": [
    "import numpy as np\n",
    "import pandas as pd"
   ]
  },
  {
   "cell_type": "code",
   "execution_count": 47,
   "id": "69cd8f4f-b618-42e7-9976-4fcc173b068d",
   "metadata": {},
   "outputs": [],
   "source": [
    "d_model = pd.DataFrame(np.empty((4, 4), dtype=str), index=['I', 'am', 'a', 'student'])\n",
    "\n",
    "values = ['pos1,i1', 'pos1,i2', 'pos1,i3', 'pos1,i4',\n",
    "          'pos2,i1', 'pos2,i2', 'pos2,i3', 'pos2,i4',\n",
    "          'pos3,i1', 'pos3,i2', 'pos3,i3', 'pos3,i4',\n",
    "          'pos4,i1', 'pos4,i2', 'pos4,i3', 'pos4,i4']\n",
    "\n",
    "for i in range(4):\n",
    "    for j in range(4):\n",
    "        d_model.iloc[i, j] = values[i * 4 + j]"
   ]
  },
  {
   "cell_type": "code",
   "execution_count": 48,
   "id": "587f7559-dc79-498b-a00b-8f3fd2544dac",
   "metadata": {},
   "outputs": [
    {
     "data": {
      "text/html": [
       "<div>\n",
       "<style scoped>\n",
       "    .dataframe tbody tr th:only-of-type {\n",
       "        vertical-align: middle;\n",
       "    }\n",
       "\n",
       "    .dataframe tbody tr th {\n",
       "        vertical-align: top;\n",
       "    }\n",
       "\n",
       "    .dataframe thead th {\n",
       "        text-align: right;\n",
       "    }\n",
       "</style>\n",
       "<table border=\"1\" class=\"dataframe\">\n",
       "  <thead>\n",
       "    <tr style=\"text-align: right;\">\n",
       "      <th></th>\n",
       "      <th>0</th>\n",
       "      <th>1</th>\n",
       "      <th>2</th>\n",
       "      <th>3</th>\n",
       "    </tr>\n",
       "  </thead>\n",
       "  <tbody>\n",
       "    <tr>\n",
       "      <th>I</th>\n",
       "      <td>pos1,i1</td>\n",
       "      <td>pos1,i2</td>\n",
       "      <td>pos1,i3</td>\n",
       "      <td>pos1,i4</td>\n",
       "    </tr>\n",
       "    <tr>\n",
       "      <th>am</th>\n",
       "      <td>pos2,i1</td>\n",
       "      <td>pos2,i2</td>\n",
       "      <td>pos2,i3</td>\n",
       "      <td>pos2,i4</td>\n",
       "    </tr>\n",
       "    <tr>\n",
       "      <th>a</th>\n",
       "      <td>pos3,i1</td>\n",
       "      <td>pos3,i2</td>\n",
       "      <td>pos3,i3</td>\n",
       "      <td>pos3,i4</td>\n",
       "    </tr>\n",
       "    <tr>\n",
       "      <th>student</th>\n",
       "      <td>pos4,i1</td>\n",
       "      <td>pos4,i2</td>\n",
       "      <td>pos4,i3</td>\n",
       "      <td>pos4,i4</td>\n",
       "    </tr>\n",
       "  </tbody>\n",
       "</table>\n",
       "</div>"
      ],
      "text/plain": [
       "               0        1        2        3\n",
       "I        pos1,i1  pos1,i2  pos1,i3  pos1,i4\n",
       "am       pos2,i1  pos2,i2  pos2,i3  pos2,i4\n",
       "a        pos3,i1  pos3,i2  pos3,i3  pos3,i4\n",
       "student  pos4,i1  pos4,i2  pos4,i3  pos4,i4"
      ]
     },
     "execution_count": 48,
     "metadata": {},
     "output_type": "execute_result"
    }
   ],
   "source": [
    "d_model"
   ]
  },
  {
   "cell_type": "markdown",
   "id": "8335c4ee-f0c5-46a2-827c-5e16338f18ca",
   "metadata": {},
   "source": [
    "- pos는 입력 문장에서 임베딩 벡터의 위치\n",
    "- i는 임베딩 벡터 내의 차원의 인덱스를 의미\n",
    "- 위 식에 따르면\n",
    "    - **짝수**면 *sin*함수 사용 $\\to$ (pos,2i)\n",
    "    - **홀수**면 *cos*함수 사용 $\\to$ (pos,2i+1)"
   ]
  },
  {
   "cell_type": "markdown",
   "id": "7864e8e5-649c-4401-9ec5-2c028094108a",
   "metadata": {},
   "source": [
    "- 여기서 $d_{model}$은 트랜스포머의 모든 층의 출력 차원을 의미하는 하이퍼파라미터\n",
    "- 임베딩 벡터도 같은 차원임\n",
    "- 이와 깉은 포지셔널 인코딩 방법을 사용하면 순서 정보가 보존됨.\n",
    "    - **각 임베딩 멕터에 포지셔널 인코딩의 값을 더하면(차원 같음!) 같은 단어라도 문장 내의 위치에 따라 트랜스포머의 입력으로 들어가는 임베딩 벡터의 값이 달라짐**"
   ]
  },
  {
   "cell_type": "code",
   "execution_count": 57,
   "id": "978989a7-1b82-4862-9fc1-643863211881",
   "metadata": {},
   "outputs": [],
   "source": [
    "import matplotlib.pyplot as plt\n",
    "import tensorflow as tf"
   ]
  },
  {
   "cell_type": "code",
   "execution_count": 58,
   "id": "53ed6687-1698-425f-ba60-6b25b50bbcf2",
   "metadata": {},
   "outputs": [],
   "source": [
    "class PositionalEncoding(tf.keras.layers.Layer):\n",
    "    def __init__(self, position, d_model):\n",
    "        super(PositionalEncoding, self).__init__()\n",
    "        self.pos_encoding = self.positional_encoding(position, d_model)\n",
    "\n",
    "    def get_angles(self, position, i, d_model):\n",
    "        angles = 1 / tf.pow(10000, (2 * (i // 2)) / tf.cast(d_model, tf.float32))\n",
    "        return position * angles\n",
    "\n",
    "    def positional_encoding(self, position, d_model):\n",
    "        angle_rads = self.get_angles(\n",
    "            position=tf.range(position, dtype=tf.float32)[:, tf.newaxis],\n",
    "            i=tf.range(d_model, dtype=tf.float32)[tf.newaxis, :],\n",
    "            d_model=d_model)\n",
    "\n",
    "        # 배열의 짝수 인덱스(2i)에는 사인 함수 적용\n",
    "        sines = tf.math.sin(angle_rads[:, 0::2])\n",
    "\n",
    "        # 배열의 홀수 인덱스(2i+1)에는 코사인 함수 적용\n",
    "        cosines = tf.math.cos(angle_rads[:, 1::2])\n",
    "\n",
    "        angle_rads = np.zeros(angle_rads.shape)\n",
    "        angle_rads[:, 0::2] = sines\n",
    "        angle_rads[:, 1::2] = cosines\n",
    "        pos_encoding = tf.constant(angle_rads)\n",
    "        pos_encoding = pos_encoding[tf.newaxis, ...]\n",
    "\n",
    "        print(pos_encoding.shape)\n",
    "        return tf.cast(pos_encoding, tf.float32)\n",
    "\n",
    "    def call(self, inputs):\n",
    "        return inputs + self.pos_encoding[:, :tf.shape(inputs)[1], :]"
   ]
  },
  {
   "cell_type": "markdown",
   "id": "3e97f9d1-db54-444c-9a8a-14e408172cae",
   "metadata": {},
   "source": [
    "포지셔널 인코딩 행렬 시각화"
   ]
  },
  {
   "cell_type": "code",
   "execution_count": 60,
   "id": "be497287-1f0b-4fb2-918e-383c75db8e43",
   "metadata": {},
   "outputs": [
    {
     "name": "stdout",
     "output_type": "stream",
     "text": [
      "(1, 50, 128)\n"
     ]
    },
    {
     "data": {
      "image/png": "[encoded data removed]",
      "text/plain": [
       "<Figure size 432x288 with 2 Axes>"
      ]
     },
     "metadata": {
      "needs_background": "light"
     },
     "output_type": "display_data"
    }
   ],
   "source": [
    "# 문장의 길이 50, 임베딩 벡터의 차원 128\n",
    "sample_pos_encoding = PositionalEncoding(50, 128)\n",
    "\n",
    "plt.pcolormesh(sample_pos_encoding.pos_encoding.numpy()[0], cmap='RdBu')\n",
    "plt.xlabel('Depth')\n",
    "plt.xlim((0, 128))\n",
    "plt.ylabel('Position')\n",
    "plt.colorbar()\n",
    "plt.show()"
   ]
  },
  {
   "cell_type": "markdown",
   "id": "c9db6253-03d8-4455-b156-5aff3da1545e",
   "metadata": {},
   "source": [
    "# Attention"
   ]
  },
  {
   "cell_type": "markdown",
   "id": "cf3f2181-6b97-4b43-898b-39a4cbb817cc",
   "metadata": {},
   "source": [
    "**Encoder Self-Attention**\n",
    "\n",
    "- 인코더에서 이루어짐\n",
    "- Query = Key = Value(값이 같다는 말이 아님)"
   ]
  },
  {
   "cell_type": "markdown",
   "id": "9b133cfb-8ef3-48b6-934b-274060ee75d1",
   "metadata": {},
   "source": [
    "```{mermaid}\n",
    "flowchart LR\n",
    "    Encoder1 --> Encoder2 \n",
    "    Encoder2 --> Encoder1\n",
    "    Encoder2 --> Encoder3\n",
    "    Encoder3 --> Encoder2\n",
    "    Encoder1 --> Encoder3\n",
    "    Encoder3 --> Encoder1\n",
    "```"
   ]
  },
  {
   "cell_type": "markdown",
   "id": "503e20da-793b-4724-8c01-79b6084aa7d1",
   "metadata": {},
   "source": [
    "**Masked Decoder Self-Attention**\n",
    "\n",
    "- 디코더에서 이루어짐\n",
    "- Query = Key = Value(값이 같다는 말이 아님)"
   ]
  },
  {
   "cell_type": "markdown",
   "id": "3ca3cfe5-de6a-419f-b2b2-c5f180780c2c",
   "metadata": {},
   "source": [
    "```{mermaid}\n",
    "flowchart RL\n",
    "    Decoder1\n",
    "    Decoder2 --> Decoder1\n",
    "    Decoder3 --> Decoder1\n",
    "    Decoder3 --> Decoder2\n",
    "```"
   ]
  },
  {
   "cell_type": "markdown",
   "id": "f291c789-7050-475f-94f1-d0626e2fa9f1",
   "metadata": {},
   "source": [
    "**Encoder-Decoder Attention**\n",
    "\n",
    "- 디코더에서 이루어짐\n",
    "- Query = 디코더 벡터, Key = Value = 인코더 벡터"
   ]
  },
  {
   "cell_type": "markdown",
   "id": "a524d030-a53c-47bc-912b-33575bebdf7f",
   "metadata": {},
   "source": [
    "```{mermaid}\n",
    "flowchart RL\n",
    "    Encoder1\n",
    "    Encoder2\n",
    "    Encoder3\n",
    "    Decoder --> Encoder1\n",
    "    Decoder --> Encoder2\n",
    "    Decoder --> Encoder3\n",
    "```"
   ]
  },
  {
   "cell_type": "markdown",
   "id": "a3c6d9fd-340a-4735-9efc-e0058f1b8bc7",
   "metadata": {},
   "source": [
    "::: {.callout-important}\n",
    "\n",
    "셀프 어텐션은 Query, Key, Value가 동일한 경우를 말함\n",
    "\n",
    "Encoder-Decoder Attention의 경우 Query가 디코더의 벡터인 반면에 Key와 Value가 인코더의 벡터이므로 셀프 어텐션이라고 부르지 않음\n",
    "\n",
    "**여기서 Query, Key 등이 같다는 것은 벡터의 값이 같다는 것이 아닌 벡터의 출처가 같다는 의미**\n",
    "\n",
    ":::\n"
   ]
  },
  {
   "cell_type": "markdown",
   "id": "b46a33c3-cc26-48d2-a4cc-5588f4e6eea6",
   "metadata": {},
   "source": [
    "```{mermaid}\n",
    "flowchart BT\n",
    "  subgraph Encoders\n",
    "    direction BT\n",
    "        direction BT\n",
    "        Multi-head\\nSelf-Attention -->Position-wise\\nFFNN_en\n",
    "    end\n",
    "    subgraph Decoders\n",
    "    direction BT\n",
    "        direction BT\n",
    "        Masked\\nMulti-head\\nSelf-Attention -->Multi-head\\nAttention --> Position-wise\\nFFNN_de\n",
    "    end\n",
    "  Position-wise\\nFFNN_en --> Multi-head\\nAttention\n",
    "  embedding_en-->Positional\\nencoding_en-->Multi-head\\nSelf-Attention\n",
    "  embedding_de-->Positional\\nencoding_de-->Masked\\nMulti-head\\nSelf-Attention \n",
    "```"
   ]
  },
  {
   "cell_type": "markdown",
   "id": "32a574c5-da1c-4c82-aeaa-b56ef8af33ce",
   "metadata": {},
   "source": [
    "위(각각 하나의 층으로 봄)의 인코더, 디코더가 num_layer지정한 수만큼 있음"
   ]
  },
  {
   "cell_type": "markdown",
   "id": "77d5dd57-8039-4a00-9d85-b09f4b6938f3",
   "metadata": {},
   "source": [
    "# Encoder"
   ]
  },
  {
   "cell_type": "markdown",
   "id": "5a8557ee-29d4-4956-9acf-aaf56576d39c",
   "metadata": {},
   "source": [
    "- 하나의 인코더 층은 크게 두 개의 서브층sublayer로 나뉨\n",
    "    - 셀프 어텐션 Self Attention\n",
    "    - 피드 포워드 신경망 Feed Forward Neural Network"
   ]
  },
  {
   "cell_type": "markdown",
   "id": "dcba1394-c1d2-41ca-aa70-73a50a0e2896",
   "metadata": {},
   "source": [
    "::: {.callout-tip}\n",
    "\n",
    "**Multi-head Self Attention**\n",
    "\n",
    "- 셀프 어텐션을 병렬적으로 사용하였다는 의미\n",
    "\n",
    "**Position-wise FFNN**\n",
    "\n",
    "- 순방향신경망\n",
    "\n",
    ":::"
   ]
  },
  {
   "cell_type": "markdown",
   "id": "e553e82b-08be-47b1-9cdd-78f4b3a7c9c6",
   "metadata": {},
   "source": [
    "# Self Attention of Encoder"
   ]
  },
  {
   "cell_type": "markdown",
   "id": "26f80a94-2685-4532-b7eb-fac2704f651d",
   "metadata": {},
   "source": [
    "::: {.callout-note}\n",
    "\n",
    "Remind\n",
    "\n",
    "- 어텐션 함수는 주어진 Query에 대해 모든 Key와의 유사도를 구함\n",
    "- 유사도를 가중치로 하여 Key와 맴핑되어 있는 각각의 Value에 반영해 좀\n",
    "- 이 유사도가 반영된 Value를 모두 가중합하여 Return\n",
    "\n",
    ":::"
   ]
  },
  {
   "cell_type": "markdown",
   "id": "9db55743-77df-46b9-bb03-d72216d03a06",
   "metadata": {},
   "source": [
    "- seq2seq에서의 Q,K,V의 정의\n",
    "    - Q = Query, t 시점의 디코더 셀에서의 은닉상태\n",
    "    - K = Key, 모든 시점의 인코더 셀의 은닉상태들\n",
    "    - V = Value, 모든 시점의 인코더 셀의 은닉상태들\n",
    "    \n",
    "$\\to$ t 시점의~의 의미는 변하면서 반복적으로 쿼리 수행하니까 결국은 전체 시점에 대해서 일반화 가능\n",
    "\n",
    "- seq2seq에서의 Q,K,V의 정의\n",
    "    - Q = Query, 모든 시점의 디코더 셀에서의 은닉상태들\n",
    "    - K = Key, 모든 시점의 인코더 셀의 은닉상태들\n",
    "    - V = Value, 모든 시점의 인코더 셀의 은닉상태들"
   ]
  },
  {
   "cell_type": "markdown",
   "id": "eab0de5e-f623-4998-8f22-23868796ef01",
   "metadata": {},
   "source": [
    "## 1. Self Attention"
   ]
  },
  {
   "cell_type": "markdown",
   "id": "b49644d7-e403-42d5-b7df-726eda7c40f0",
   "metadata": {},
   "source": [
    "- *셀프 어텐션*\n",
    "    - Q = 입력 문장의 모든 단어 벡터들\n",
    "    - K = 입력 문장의 모든 단어 벡터들\n",
    "    - V = 입력 문장의 모든 단어 벡터들\n",
    "    \n",
    "- **연속된 문장들에 대하여 지칭하는 단어가 다르지만 의미는 같을 수 있는데, 셀프 어텐션은 이 유사도를 구하여서 연관 가능성을 찾아낸다.**"
   ]
  },
  {
   "cell_type": "markdown",
   "id": "9da320dc-e4ec-4b8d-9177-4c8c0ada292d",
   "metadata": {},
   "source": [
    "## 2. Q, K, V"
   ]
  },
  {
   "cell_type": "markdown",
   "id": "368cec24-01d6-4df4-8b93-73f5bf2b1195",
   "metadata": {},
   "source": [
    "- 셀프 어텐션은 일단 문장의 각 단어 벡터로부터 Q벡터, K벡터, V벡터를 얻음.\n",
    "    - Q벡터, K벡터, V벡터는 $d_{model}$ 차원을 가지는 단어 벡터들보다 더 작은 차원을 가짐\n",
    "    - 논문을 예로 들면 $d_{model}$의 차원은 512, Q벡터, K벡터, V벡터의 차원은 각각 64\n",
    "    - 이 64는 또 다른 하이퍼파라미터인 num_heads로 결정되는데, 트랜스포머는 $d_{model}$을 num_heads로 나눈 값을 Q벡터, K벡터, V벡터의 차원으로 결정.\n",
    "    - 논문의 num_heads = 8이었으니까 $512/8 = 64$로 결정된 것\n",
    "    - 이 Q벡터, K벡터, V벡터는 단어마다, 벡터마다 서로 다른 가중치 행렬을 곱하여 얻음\n",
    "    - 각 단어마다 Q벡터, K벡터, V벡터 각각의 가중치, Q벡터, K벡터, V벡터 각각이 존재하는 것"
   ]
  },
  {
   "cell_type": "markdown",
   "id": "00fc9720-1082-4b82-9092-31c7cb9752cd",
   "metadata": {},
   "source": [
    "## 3. Scaled dot-product Attention"
   ]
  },
  {
   "cell_type": "markdown",
   "id": "1b3f0df7-525b-48f0-b971-dc97df76af50",
   "metadata": {},
   "source": [
    "각 단어 별로 Q벡터, K벡터, V벡터를 구한 후 각 Q벡터는 모든 K벡터에 대해서 어텐션 스코어를 구하고, 어텐션 분포를 구한 뒤 이를 사용하여 모든 V벡터를 가중합하여 어텐션 값 또는 컨텍스트 벡터를 구함-> 모든 Q벡터에 대해 반복\n",
    "\n",
    "- 내적한 후 특정값을 나눔으로써 값을 조정하는 과정 추가한 스케일드 갓-프로덕트 어텐션"
   ]
  },
  {
   "cell_type": "markdown",
   "id": "c7012c46-38df-4f15-8559-b25eca06cfda",
   "metadata": {},
   "source": [
    "$$score(q,k) = \\frac{q k}{\\sqrt{n}}$$"
   ]
  },
  {
   "cell_type": "markdown",
   "id": "4d2c7d15-316e-4b7d-9466-dd64e2a9df6f",
   "metadata": {},
   "source": [
    "$\\sqrt{n}$이 결정되는 과정\n",
    "\n",
    "- 논문을 예로 들면 $d_{model}$의 차원이 512, num_heads가 8, Q,K,V의 차원 $d_k$가 64(512/8) 이었음, 여기서 64에 root 취한 8으로 결정되는 것"
   ]
  },
  {
   "cell_type": "markdown",
   "id": "b744b945-b7c4-4868-9dd6-2857ca10964b",
   "metadata": {},
   "source": [
    "## 4. 행렬 연산으로 일괄 처리"
   ]
  },
  {
   "cell_type": "markdown",
   "id": "aafb1573-e616-44b6-b8a3-39ef2adea3eb",
   "metadata": {},
   "source": [
    "Q 벡터마다 3을 연산하는 것을 피하기 위함"
   ]
  },
  {
   "cell_type": "markdown",
   "id": "c0cbe995-32fd-40c4-87da-a40dbf1c0324",
   "metadata": {},
   "source": [
    "1. 문장 행렬에 가중치 행렬을 곱하여 Q행렬, K행렬, V행렬을 구한다(단지 벡터를 행렬화한 것 뿐).\n",
    "2. 각 단어의 Q벡터와 전치한 K벡터의 내적이 각 행렬의 원소가 되는 행렬을 결과로 추출.\n",
    "3. 2번의 결과에 $\\sqrt{d_k}$를 나누어 softmax취한 후 V행렬을 곱하여 각 행과 열이 어텐션 스코어 값을 가지는 행렬을 구함."
   ]
  },
  {
   "cell_type": "markdown",
   "id": "81d5eba6-9468-4e00-b1e9-287210dd5801",
   "metadata": {},
   "source": [
    "\n",
    "$$Attention(Q,K,V) = softmax(\\frac{QK^\\top}{\\sqrt{d_k}})V$$"
   ]
  },
  {
   "cell_type": "markdown",
   "id": "a29a9f77-0774-4660-8755-055e774b8a93",
   "metadata": {},
   "source": [
    "입력 문장의 길이가 seq_len이라면, 문장 행렬의 크기는 (seq_len,$d_{model}$)"
   ]
  },
  {
   "cell_type": "markdown",
   "id": "990b90f9-4644-4433-9b9b-4dab09f775d7",
   "metadata": {},
   "source": [
    "*차원 정리*\n",
    "\n",
    "- $Q$ = (seq_len, $d_k)$\n",
    "    - $W^Q = (d_{model},d_k)$\n",
    "- $K^\\top$ = ($d_k$, seq_len)\n",
    "    - $W^K = (d_{model},d_k)$\n",
    "- $V$ = (seq_len, $d_v)$\n",
    "    - $W^V = (d_{model},d_v)$\n",
    "- 논문에서는 $d_k,d_v$의 차원이 $d_{model}$/num_heads로 같게 설정함\n",
    "- attention score matrix = (seq_len, $d_v$)"
   ]
  },
  {
   "cell_type": "markdown",
   "id": "68673f9b-1533-42b8-b79e-1ed71bf7f2a7",
   "metadata": {},
   "source": [
    "## 5. Scaled dot-product attention 구현"
   ]
  },
  {
   "cell_type": "code",
   "execution_count": 65,
   "id": "e0d50db6-25a1-4707-ae41-729459cf12b4",
   "metadata": {},
   "outputs": [],
   "source": [
    "def scaled_dot_product_attention(query, key, value, mask):\n",
    "    # query 크기 : (batch_size, num_heads, query의 문장 길이, d_model/num_heads)\n",
    "    # key 크기 : (batch_size, num_heads, key의 문장 길이, d_model/num_heads)\n",
    "    # value 크기 : (batch_size, num_heads, value의 문장 길이, d_model/num_heads)\n",
    "    # padding_mask : (batch_size, 1, 1, key의 문장 길이)\n",
    "\n",
    "    # Q와 K의 곱. 어텐션 스코어 행렬.\n",
    "    matmul_qk = tf.matmul(query, key, transpose_b=True)\n",
    "\n",
    "    # 스케일링\n",
    "    # dk의 루트값으로 나눠준다.\n",
    "    depth = tf.cast(tf.shape(key)[-1], tf.float32)\n",
    "    logits = matmul_qk / tf.math.sqrt(depth)\n",
    "\n",
    "    # 마스킹. 어텐션 스코어 행렬의 마스킹 할 위치에 매우 작은 음수값을 넣는다.\n",
    "    # 매우 작은 값이므로 소프트맥스 함수를 지나면 행렬의 해당 위치의 값은 0이 된다.\n",
    "    if mask is not None:\n",
    "        logits += (mask * -1e9)\n",
    "\n",
    "    # 소프트맥스 함수는 마지막 차원인 key의 문장 길이 방향으로 수행된다.\n",
    "    # attention weight : (batch_size, num_heads, query의 문장 길이, key의 문장 길이)\n",
    "    attention_weights = tf.nn.softmax(logits, axis=-1)\n",
    "\n",
    "    # output : (batch_size, num_heads, query의 문장 길이, d_model/num_heads)\n",
    "    output = tf.matmul(attention_weights, value)\n",
    "\n",
    "    return output, attention_weights"
   ]
  },
  {
   "cell_type": "markdown",
   "id": "77945268-c7eb-455a-aba7-aa6724c280b0",
   "metadata": {},
   "source": [
    "scaled_dot_product_attention 실행"
   ]
  },
  {
   "cell_type": "code",
   "execution_count": 67,
   "id": "6934d835-610a-4e83-9e25-7e6f73446d99",
   "metadata": {},
   "outputs": [],
   "source": [
    "# 임의의 Query, Key, Value인 Q, K, V 행렬 생성\n",
    "np.set_printoptions(suppress=True)\n",
    "temp_k = tf.constant([[10,0,0],\n",
    "                      [0,10,0],\n",
    "                      [0,0,10],\n",
    "                      [0,0,10]], dtype=tf.float32)  # (4, 3)\n",
    "\n",
    "temp_v = tf.constant([[   1,0],\n",
    "                      [  10,0],\n",
    "                      [ 100,5],\n",
    "                      [1000,6]], dtype=tf.float32)  # (4, 2)\n",
    "temp_q = tf.constant([[0, 10, 0]], dtype=tf.float32)  # (1, 3)"
   ]
  },
  {
   "cell_type": "markdown",
   "id": "2ff90d7f-beac-4cea-b610-66f618e59fc7",
   "metadata": {},
   "source": [
    "query에 해당하는 [0,10,0]은 key에 해당하는 두 번째 값과 일치해야 함."
   ]
  },
  {
   "cell_type": "code",
   "execution_count": 68,
   "id": "fcb9498f-f1f5-467e-9ae9-ae571ae68ddc",
   "metadata": {},
   "outputs": [
    {
     "name": "stdout",
     "output_type": "stream",
     "text": [
      "tf.Tensor([[0. 1. 0. 0.]], shape=(1, 4), dtype=float32)\n",
      "tf.Tensor([[10.  0.]], shape=(1, 2), dtype=float32)\n"
     ]
    }
   ],
   "source": [
    "# 함수 실행\n",
    "temp_out, temp_attn = scaled_dot_product_attention(temp_q, temp_k, temp_v, None)\n",
    "print(temp_attn) # 어텐션 분포(어텐션 가중치의 나열)\n",
    "print(temp_out) # 어텐션 값"
   ]
  },
  {
   "cell_type": "markdown",
   "id": "05776046-9204-453d-8c38-e3c456f5409d",
   "metadata": {},
   "source": [
    "두 번째 값과 일치했어서 두 번째가 1인 값을 반환, 결과적으로 [10,0]의 어텐션 값 반환"
   ]
  },
  {
   "cell_type": "code",
   "execution_count": 71,
   "id": "35a9a9ee-70b4-4042-a45c-d637135d3300",
   "metadata": {},
   "outputs": [
    {
     "name": "stdout",
     "output_type": "stream",
     "text": [
      "tf.Tensor([[0.  0.  0.5 0.5]], shape=(1, 4), dtype=float32)\n",
      "tf.Tensor([[550.    5.5]], shape=(1, 2), dtype=float32)\n"
     ]
    }
   ],
   "source": [
    "temp_q = tf.constant([[0, 0, 10]], dtype=tf.float32)\n",
    "temp_out, temp_attn = scaled_dot_product_attention(temp_q, temp_k, temp_v, None)\n",
    "print(temp_attn) # 어텐션 분포(어텐션 가중치의 나열)\n",
    "print(temp_out) # 어텐션 값"
   ]
  },
  {
   "cell_type": "markdown",
   "id": "858e8148-9c11-4494-84e7-8b9c69454dd0",
   "metadata": {},
   "source": [
    "세 번째 값과 네 번째 값이 같이 일치하다면? 합이 1이되게 나눠서 0.5,0.5씩 나눠짐\n",
    "\n",
    "- [100,5] * 0.5 + [1000,6] * 0.5 = [550,5.5]"
   ]
  },
  {
   "cell_type": "code",
   "execution_count": 74,
   "id": "9109bb59-034d-4977-8982-e2334b2874d6",
   "metadata": {},
   "outputs": [
    {
     "data": {
      "text/plain": [
       "[550.0, 5.5]"
      ]
     },
     "execution_count": 74,
     "metadata": {},
     "output_type": "execute_result"
    }
   ],
   "source": [
    "[100*0.5 + 1000*0.5,5*0.5 + 6*0.5]"
   ]
  },
  {
   "cell_type": "code",
   "execution_count": 75,
   "id": "56ab8cb8-b474-466f-aaf0-566fcdbff102",
   "metadata": {},
   "outputs": [
    {
     "name": "stdout",
     "output_type": "stream",
     "text": [
      "tf.Tensor(\n",
      "[[0.  0.  0.5 0.5]\n",
      " [0.  1.  0.  0. ]\n",
      " [0.5 0.5 0.  0. ]], shape=(3, 4), dtype=float32)\n",
      "tf.Tensor(\n",
      "[[550.    5.5]\n",
      " [ 10.    0. ]\n",
      " [  5.5   0. ]], shape=(3, 2), dtype=float32)\n"
     ]
    }
   ],
   "source": [
    "temp_q = tf.constant([[0, 0, 10], [0, 10, 0], [10, 10, 0]], dtype=tf.float32)  # (3, 3)\n",
    "temp_out, temp_attn = scaled_dot_product_attention(temp_q, temp_k, temp_v, None)\n",
    "print(temp_attn) # 어텐션 분포(어텐션 가중치의 나열)\n",
    "print(temp_out) # 어텐션 값"
   ]
  },
  {
   "cell_type": "markdown",
   "id": "12b881d2-a1b1-41dd-9335-0fae8c7249a7",
   "metadata": {},
   "source": [
    "## 6. Multi-head Attention"
   ]
  },
  {
   "cell_type": "markdown",
   "id": "33154ca2-7fed-493b-a6c6-b01b6956bba6",
   "metadata": {},
   "source": [
    "왜 스케일링하여 어텐션 스코어를 구했을까?\n",
    "\n",
    "- 논문에서는 한 번의 어텐션보다 여러번의 어텐션을 병렬로 사용하는 것이 더 효과적이라고 판단\n",
    "- 그래서 $d_{model}$의 차원을 num_heads로 나누어 $d_{model}$/num_heads의 차원을 가지는 Q,K,V에 대해서 num_heads 개의 병렬 어텐션 수행\n",
    "- num_heads만큼 병렬이 이뤄지는데, 이 때 나오는 각각의 **어텐션 값 행렬을 어텐션 헤드**라고 함.\n",
    "    - 이 때 가중치 행렬의 값$W^Q,W^K,W^V$은 num_heads의 어텐션 해드마다 전부 다름\n",
    "    \n",
    "병렬로 수행한 효과?\n",
    "\n",
    "- 어텐션을 병렬로 수행하여 다른 시각으로 정보를 수집할 수 있음"
   ]
  },
  {
   "cell_type": "markdown",
   "id": "4582be89-9210-492c-af86-c18b2ac89039",
   "metadata": {},
   "source": [
    "## 7. Multi-head Attention 구현"
   ]
  },
  {
   "cell_type": "markdown",
   "id": "57494d02-4c16-4a01-b83a-d1c33e4827b4",
   "metadata": {},
   "source": [
    "가중치 행렬\n",
    "\n",
    "- Q, K, V 행렬을 만들기 위한 가중치 행렬 $W^Q,W^K,W^V$\n",
    "- 어텐션 헤드들을 연결concatenation 후에 곱해주는 행렬 $W^O$\n",
    "\n",
    "가중치 행렬을 곱하는 것은 Dense layer 지나게 하여 구현"
   ]
  },
  {
   "cell_type": "markdown",
   "id": "f3b87461-f81a-4b7d-8c7e-e3a3376daa7e",
   "metadata": {},
   "source": [
    "1. $W^Q,W^K,W^V$에 해당하는 $d_{model}$의 크기의 밀집층(Dense layer)을 지나게 한다.\n",
    "2. 지정된 헤드수 num_heads 만큼 나눈다(split).\n",
    "3. scaled dot-product attention\n",
    "4. 나눠졌던 헤드들을 연결concatenatetion한다.\n",
    "5. $W^O$에 해당하는 밀집층을 지나게 한다."
   ]
  },
  {
   "cell_type": "code",
   "execution_count": 77,
   "id": "72364367-2de9-4bdf-8b4e-a5584f8638a3",
   "metadata": {},
   "outputs": [],
   "source": [
    "class MultiHeadAttention(tf.keras.layers.Layer):\n",
    "\n",
    "    def __init__(self, d_model, num_heads, name=\"multi_head_attention\"):\n",
    "        super(MultiHeadAttention, self).__init__(name=name)\n",
    "        self.num_heads = num_heads\n",
    "        self.d_model = d_model\n",
    "\n",
    "        assert d_model % self.num_heads == 0\n",
    "\n",
    "        # d_model을 num_heads로 나눈 값.\n",
    "        # 논문 기준 : 64\n",
    "        self.depth = d_model // self.num_heads\n",
    "\n",
    "        # WQ, WK, WV에 해당하는 밀집층 정의\n",
    "        self.query_dense = tf.keras.layers.Dense(units=d_model)\n",
    "        self.key_dense = tf.keras.layers.Dense(units=d_model)\n",
    "        self.value_dense = tf.keras.layers.Dense(units=d_model)\n",
    "\n",
    "        # WO에 해당하는 밀집층 정의\n",
    "        self.dense = tf.keras.layers.Dense(units=d_model)\n",
    "\n",
    "    # num_heads 개수만큼 q, k, v를 split하는 함수\n",
    "    def split_heads(self, inputs, batch_size):\n",
    "        inputs = tf.reshape(\n",
    "            inputs, shape=(batch_size, -1, self.num_heads, self.depth))\n",
    "        return tf.transpose(inputs, perm=[0, 2, 1, 3])\n",
    "\n",
    "    def call(self, inputs):\n",
    "        query, key, value, mask = inputs['query'], inputs['key'], inputs[\n",
    "            'value'], inputs['mask']\n",
    "        batch_size = tf.shape(query)[0]\n",
    "\n",
    "        # 1. WQ, WK, WV에 해당하는 밀집층 지나기\n",
    "        # q : (batch_size, query의 문장 길이, d_model)\n",
    "        # k : (batch_size, key의 문장 길이, d_model)\n",
    "        # v : (batch_size, value의 문장 길이, d_model)\n",
    "        # 참고) 인코더(k, v)-디코더(q) 어텐션에서는 query 길이와 key, value의 길이는 다를 수 있다.\n",
    "        query = self.query_dense(query)\n",
    "        key = self.key_dense(key)\n",
    "        value = self.value_dense(value)\n",
    "\n",
    "        # 2. 헤드 나누기\n",
    "        # q : (batch_size, num_heads, query의 문장 길이, d_model/num_heads)\n",
    "        # k : (batch_size, num_heads, key의 문장 길이, d_model/num_heads)\n",
    "        # v : (batch_size, num_heads, value의 문장 길이, d_model/num_heads)\n",
    "        query = self.split_heads(query, batch_size)\n",
    "        key = self.split_heads(key, batch_size)\n",
    "        value = self.split_heads(value, batch_size)\n",
    "\n",
    "        # 3. 스케일드 닷 프로덕트 어텐션. 앞서 구현한 함수 사용.\n",
    "        # (batch_size, num_heads, query의 문장 길이, d_model/num_heads)\n",
    "        scaled_attention, _ = scaled_dot_product_attention(query, key, value, mask)\n",
    "        # (batch_size, query의 문장 길이, num_heads, d_model/num_heads)\n",
    "        scaled_attention = tf.transpose(scaled_attention, perm=[0, 2, 1, 3])\n",
    "\n",
    "        # 4. 헤드 연결(concatenate)하기\n",
    "        # (batch_size, query의 문장 길이, d_model)\n",
    "        concat_attention = tf.reshape(scaled_attention,\n",
    "                                      (batch_size, -1, self.d_model))\n",
    "\n",
    "        # 5. WO에 해당하는 밀집층 지나기\n",
    "        # (batch_size, query의 문장 길이, d_model)\n",
    "        outputs = self.dense(concat_attention)\n",
    "\n",
    "        return outputs"
   ]
  },
  {
   "cell_type": "markdown",
   "id": "335095f6-086b-4953-97ca-12c981cab4a5",
   "metadata": {},
   "source": [
    "## 8. Padding Mask"
   ]
  },
  {
   "cell_type": "markdown",
   "id": "df5b341b-2353-4f70-a321-af972f22bffb",
   "metadata": {},
   "source": [
    "어텐션에서 제외하기 위해 값을 가리는 역할\n",
    "\n",
    "- 방법: 어텐션 스코어 행렬의 마스킹 위치에 매우 작은 음수값을 넣어주기\n",
    "    - 소프트맥스 함수를 지나면 값이 0이 되어 유사도 구할때 반영되지 않름."
   ]
  },
  {
   "cell_type": "code",
   "execution_count": 79,
   "id": "c61087ec-60de-4d62-a4c6-14e993ca662a",
   "metadata": {},
   "outputs": [],
   "source": [
    "def create_padding_mask(x):\n",
    "    mask = tf.cast(tf.math.equal(x, 0), tf.float32)\n",
    "    # (batch_size, 1, 1, key의 문장 길이)\n",
    "    return mask[:, tf.newaxis, tf.newaxis, :]"
   ]
  },
  {
   "cell_type": "code",
   "execution_count": 80,
   "id": "19ae654c-aab8-4379-b26d-0bb09747ddef",
   "metadata": {},
   "outputs": [
    {
     "name": "stdout",
     "output_type": "stream",
     "text": [
      "tf.Tensor([[[[0. 0. 0. 1. 1.]]]], shape=(1, 1, 1, 5), dtype=float32)\n"
     ]
    }
   ],
   "source": [
    "print(create_padding_mask(tf.constant([[1, 21, 777, 0, 0]])))"
   ]
  },
  {
   "cell_type": "markdown",
   "id": "ac122ce4-931a-40cc-b9ef-f465597e89ac",
   "metadata": {},
   "source": [
    "# Position-wise Feed Forward Neural Network"
   ]
  },
  {
   "cell_type": "markdown",
   "id": "4d24c44f-4ce1-4cdb-8e4d-4c17833d5220",
   "metadata": {},
   "source": [
    "인코더와 디코더에서 공통적으로 가지고 있는 서브층\n",
    "\n",
    "= FFNN(Fully Connected FFNN)"
   ]
  },
  {
   "cell_type": "markdown",
   "id": "f8bbc414-3e83-4152-aebd-655eac7b7316",
   "metadata": {},
   "source": [
    "$$FFNN(x) = MAX(0,xW-1 + b_1)W_2 + b_2$$"
   ]
  },
  {
   "cell_type": "markdown",
   "id": "84f84083-b102-4d3a-a3a4-2023d9b0b8eb",
   "metadata": {},
   "source": [
    "$x$ -> $F_1 = xW_1 + b_1$ -> 활성화 함수:ReLU $F_2 = max(0,F_1)$ -> $F_3 = F_2W_2 + b_2$"
   ]
  },
  {
   "cell_type": "markdown",
   "id": "ba83cf05-eb9c-4740-93a9-ce513c5d0419",
   "metadata": {},
   "source": [
    "- 여기서 $x$는 멀티 헤드 어텐션의 결과로 나온 (seq_len, $d_{model}$)의 차원을 가지는 행렬\n",
    "- 가중치 행렬 $W_1$ = ($d_{model}, d_{ff}$)\n",
    "- 가중치 행렬 $W_2$ = ($d_{ff},d_{model}$)\n",
    "- 논문은 $d_{ff}$를 2048로 정의\n",
    "- 매개변수 $W_1,W_2,b_1,b_2$는 각 인코더 층마다 동일하게 계산되지만 값은 층마다 다 다르다."
   ]
  },
  {
   "cell_type": "markdown",
   "id": "a0331bd4-ac3f-475f-96c3-8a7864349788",
   "metadata": {},
   "source": [
    "```python\n",
    "# 다음의 코드는 인코더와 디코더 내부에서 사용할 예정입니다.\n",
    "outputs = tf.keras.layers.Dense(units=dff, activation='relu')(attention)\n",
    "outputs = tf.keras.layers.Dense(units=d_model)(outputs)\n",
    "```"
   ]
  },
  {
   "cell_type": "markdown",
   "id": "4c88fdf8-98bd-48e5-9760-f7f2ae5efebe",
   "metadata": {},
   "source": [
    "# Residual connection and Layer Normalization"
   ]
  },
  {
   "cell_type": "markdown",
   "id": "d76b6768-0c42-4b80-a3da-921b416ef0a1",
   "metadata": {},
   "source": [
    "## 1. 잔차 연결"
   ]
  },
  {
   "cell_type": "markdown",
   "id": "5db5156a-ba51-4d2f-9ae7-b28759fc473e",
   "metadata": {},
   "source": [
    "$$H(x) = x + F(x)$$"
   ]
  },
  {
   "cell_type": "markdown",
   "id": "baa59a1d-e3d4-4553-99ca-df3a9043296d",
   "metadata": {},
   "source": [
    "- $F(x)$는 트랜스포머에서 서브층에 해당\n",
    "- 즉, 장차 연결은 서브층의 입력과 출력을 더하는 것\n",
    "- 서브층의 입력과 출력은 동일한 차원을 갖고 있어서 가능\n",
    "- 그래서 재귀하는 것처럼 다이어그램 그려보면 화살표가 출력층에서 나와 입력층으로 들어가는 모습\n",
    "- *잔차 연결은 컴퓨터 비전 분야에서 주로 사용되는 모델의 학습을 돕는 기법*"
   ]
  },
  {
   "cell_type": "markdown",
   "id": "88d34f16-c9c8-412d-bf2b-7c6dda8aa59a",
   "metadata": {},
   "source": [
    "식으로 표현 -> $x + Sublayer(x)$"
   ]
  },
  {
   "cell_type": "markdown",
   "id": "1aaeefbc-7216-4761-9e7f-f4e1be7c7195",
   "metadata": {},
   "source": [
    "서브층이 멀티 헤드 어텐션이었다면 $H(x) - x + Multi - head Attention(x)"
   ]
  },
  {
   "cell_type": "markdown",
   "id": "936f1883-06a9-4809-8c7c-b7fe2c287f93",
   "metadata": {},
   "source": [
    "참고 : [잔차연결 관련 논문](https://arxiv.org/pdf/1512.03385.pdf)"
   ]
  },
  {
   "cell_type": "markdown",
   "id": "068ce422-c340-48ad-b185-75c8361ac388",
   "metadata": {},
   "source": [
    "## 2. 층 정규화"
   ]
  },
  {
   "cell_type": "markdown",
   "id": "01c297ec-094e-4b8d-8a1b-999c3df48755",
   "metadata": {},
   "source": [
    "잔차연결과 층 정규화 모두 수행한 함수"
   ]
  },
  {
   "cell_type": "markdown",
   "id": "12ff96dd-e95b-4bbc-a3f5-367d1f03209a",
   "metadata": {},
   "source": [
    "$$LN = LayerNorm(x+Sublayer(x))$$"
   ]
  },
  {
   "cell_type": "markdown",
   "id": "d9cfc545-5af9-44c4-bb19-1fc7364800d9",
   "metadata": {},
   "source": [
    "텐서의 마지막 차원에 대하여 평균과 분산을 구하고, 이를 가지고 어떤 수식을 통해 값을 정규화하여 학습을 도움\n",
    "\n",
    "- 텐서의 마지막 차원 = 트랜스포머에서는 $d_{model}$ 차원을 의미"
   ]
  },
  {
   "cell_type": "markdown",
   "id": "e0eb17f3-69aa-4539-b99b-874ac9df2e72",
   "metadata": {},
   "source": [
    "1. 평균과 분산을 통한 벡터 $x_i$ 정규화\n",
    "\n",
    "    - 스칼라인 평균과 분산 도출\n",
    "    - $\\epsilon$은 분모가 0이 되는 것을 방지\n",
    "    \n",
    "$$\\hat{x}_{i,k} = \\frac{x_{i,k} - \\mu_i}{\\sqrt{\\sigma^2_i + \\epsilon}}$$\n",
    "    \n",
    "2. 감마와 베타 도입\n",
    "\n",
    "- LayerNormalization(케라스에 내장되어 있음)\n",
    "\n",
    "$$ln_i = \\gamma \\hat{x}_i + \\beta = LayerNorm(x_i)$$"
   ]
  },
  {
   "cell_type": "markdown",
   "id": "2b9b94f2-d3dd-4f22-94ac-5eac522b8fe4",
   "metadata": {},
   "source": [
    "참고: [층 정규화 관련 논문](https://arxiv.org/pdf/1607.06450.pdf)"
   ]
  },
  {
   "cell_type": "markdown",
   "id": "4706d23f-36b1-4d1b-88c6-0757a58e20ee",
   "metadata": {},
   "source": [
    "# Encoder 구현"
   ]
  },
  {
   "cell_type": "markdown",
   "id": "8c607a51-c064-4b54-ba11-0a3127a61ee3",
   "metadata": {},
   "source": [
    "인코더 입력으로 들어가는 문장에는 패딩이 있을 수 있으므로 어텐션 시 패딩 토큰을 제외하도록 패딩 마스크를 사용\n",
    "\n",
    "- multiheadattention 함수의 mask 인자값으로 padding_mask가 사용되는 이유\n",
    "- 인코더는 두 개의 서브층으로 이루어짐\n",
    "    - 멀티 헤드 어텐션\n",
    "    - 피드 포워드 신경망\n",
    "- 서브층 이후 드롭 아웃, 잔차 연결, 층 정규화 수행"
   ]
  },
  {
   "cell_type": "code",
   "execution_count": 86,
   "id": "3ae96cd5-114b-4be9-8e7d-4ef4e89ea339",
   "metadata": {},
   "outputs": [],
   "source": [
    "def encoder_layer(dff, d_model, num_heads, dropout, name=\"encoder_layer\"):\n",
    "    inputs = tf.keras.Input(shape=(None, d_model), name=\"inputs\")\n",
    "\n",
    "    # 인코더는 패딩 마스크 사용\n",
    "    padding_mask = tf.keras.Input(shape=(1, 1, None), name=\"padding_mask\")\n",
    "\n",
    "    # 멀티-헤드 어텐션 (첫번째 서브층 / 셀프 어텐션)\n",
    "    attention = MultiHeadAttention(\n",
    "      d_model, num_heads, name=\"attention\")({\n",
    "          'query': inputs, 'key': inputs, 'value': inputs, # Q = K = V\n",
    "          'mask': padding_mask # 패딩 마스크 사용\n",
    "      })\n",
    "\n",
    "    # 드롭아웃 + 잔차 연결과 층 정규화\n",
    "    attention = tf.keras.layers.Dropout(rate=dropout)(attention)\n",
    "    attention = tf.keras.layers.LayerNormalization(\n",
    "      epsilon=1e-6)(inputs + attention)\n",
    "\n",
    "    # 포지션 와이즈 피드 포워드 신경망 (두번째 서브층)\n",
    "    outputs = tf.keras.layers.Dense(units=dff, activation='relu')(attention)\n",
    "    outputs = tf.keras.layers.Dense(units=d_model)(outputs)\n",
    "\n",
    "    # 드롭아웃 + 잔차 연결과 층 정규화\n",
    "    outputs = tf.keras.layers.Dropout(rate=dropout)(outputs)\n",
    "    outputs = tf.keras.layers.LayerNormalization(\n",
    "      epsilon=1e-6)(attention + outputs)\n",
    "\n",
    "    return tf.keras.Model(\n",
    "        inputs=[inputs, padding_mask], outputs=outputs, name=name)"
   ]
  },
  {
   "cell_type": "markdown",
   "id": "a7ef6304-8a12-473c-9d1f-23b19f7677d3",
   "metadata": {},
   "source": [
    "# Encoder 쌓기"
   ]
  },
  {
   "cell_type": "code",
   "execution_count": 89,
   "id": "7f3d13e3-1bb1-49df-855f-d450527e6f0a",
   "metadata": {},
   "outputs": [],
   "source": [
    "def encoder(vocab_size, num_layers, dff,\n",
    "            d_model, num_heads, dropout,\n",
    "            name=\"encoder\"):\n",
    "    inputs = tf.keras.Input(shape=(None,), name=\"inputs\")\n",
    "\n",
    "    # 인코더는 패딩 마스크 사용\n",
    "    padding_mask = tf.keras.Input(shape=(1, 1, None), name=\"padding_mask\")\n",
    "\n",
    "    # 포지셔널 인코딩 + 드롭아웃\n",
    "    embeddings = tf.keras.layers.Embedding(vocab_size, d_model)(inputs)\n",
    "    embeddings *= tf.math.sqrt(tf.cast(d_model, tf.float32))\n",
    "    embeddings = PositionalEncoding(vocab_size, d_model)(embeddings)\n",
    "    outputs = tf.keras.layers.Dropout(rate=dropout)(embeddings)\n",
    "\n",
    "    # 인코더를 num_layers개 쌓기\n",
    "    for i in range(num_layers):\n",
    "        outputs = encoder_layer(dff=dff, d_model=d_model, num_heads=num_heads,\n",
    "            dropout=dropout, name=\"encoder_layer_{}\".format(i),\n",
    "        )([outputs, padding_mask])\n",
    "\n",
    "    return tf.keras.Model(\n",
    "      inputs=[inputs, padding_mask], outputs=outputs, name=name)"
   ]
  },
  {
   "cell_type": "markdown",
   "id": "3f7d7052-1254-4831-90bb-cc87eaffa764",
   "metadata": {},
   "source": [
    "인코더 층을 num_layers 만큼 쌓는 클래스"
   ]
  },
  {
   "cell_type": "markdown",
   "id": "ad1f8597-fdf1-49d3-a0b5-49b245feeea6",
   "metadata": {},
   "source": [
    "# Encoder에서 Decoder로"
   ]
  },
  {
   "cell_type": "markdown",
   "id": "7ca3bc94-f6e6-41a0-bd4b-f5348918cee8",
   "metadata": {},
   "source": [
    "인코더에서 num_layers만큼 총 연산을 순차적으로 한 후 마지막 층의 인코더의 출력을 디코더로 전달"
   ]
  },
  {
   "cell_type": "markdown",
   "id": "e081a73a-9854-45e5-9341-c54aee574e64",
   "metadata": {},
   "source": [
    "# Decoder: Self-Attention and Look-ahead Mask"
   ]
  },
  {
   "cell_type": "markdown",
   "id": "d76eb2f0-c989-48f3-97f1-0931066e1bb9",
   "metadata": {},
   "source": [
    "트랜스포머는 문장 행렬로 입력을 한 번에 받기 때문에 현재 시점의 단어를 예측하고자 할 때 입력 문장 행렬로부터 미래 시점의 단어까지 참고하느 현상이 발생\n",
    "\n",
    "이를 위해 디코더에서 현재 시점의 예측에서 현재 시점보다 미래에 있는 단어들을 참고하지 못하도록 룩-어헤드 마스크 도입\n",
    "\n",
    "**디코더의 첫번때 서브층에서 이루어짐**"
   ]
  },
  {
   "cell_type": "markdown",
   "id": "6fe62c26-d1e7-4818-b118-c3b1cd0a420f",
   "metadata": {},
   "source": [
    "**디코더의 셀프 어텐션은 인코더의 멀티 헤드 셀프 어텐션과 동일한 연산을 수행하나, 어텐션 스코어 행렬에서 마스킹을 적용하는 점이 다름**\n",
    "\n",
    "-> 미리보기 방지를 위함"
   ]
  },
  {
   "cell_type": "markdown",
   "id": "275945dc-b62b-4a4e-99e3-aa68b35c95bc",
   "metadata": {},
   "source": [
    "트랜스포머 마스킹의 종류\n",
    "\n",
    "1. 인코더의 셀프 어텐션 = 패딩 마스크를 전달\n",
    "2. 디코더의 첫번째 서브층인 마스크드 셀프 어텐션 = 룩-어헤드 마스크를 전달\n",
    "3. 디코더의 두번째 서브층인 인코더-디코더 어텐션 = 패딩 마스크를 전달"
   ]
  },
  {
   "cell_type": "code",
   "execution_count": 90,
   "id": "1319658c-8e9c-4d32-adcd-62faa5d79c5b",
   "metadata": {},
   "outputs": [],
   "source": [
    "# 디코더의 첫번째 서브층(sublayer)에서 미래 토큰을 Mask하는 함수\n",
    "def create_look_ahead_mask(x):\n",
    "    seq_len = tf.shape(x)[1]\n",
    "    look_ahead_mask = 1 - tf.linalg.band_part(tf.ones((seq_len, seq_len)), -1, 0)\n",
    "    padding_mask = create_padding_mask(x) # 패딩 마스크도 포함\n",
    "    return tf.maximum(look_ahead_mask, padding_mask)"
   ]
  },
  {
   "cell_type": "markdown",
   "id": "bd4264cf-6779-4f9e-8358-24d66cdd5a60",
   "metadata": {},
   "source": [
    "마스킹을 하고자 하는 위치에 1, 마스킹을 하지 않고자 하는 위이에 0을 리턴"
   ]
  },
  {
   "cell_type": "code",
   "execution_count": 92,
   "id": "9af79fef-0b4b-4ac1-9cf2-28a3641ff4bb",
   "metadata": {},
   "outputs": [
    {
     "name": "stdout",
     "output_type": "stream",
     "text": [
      "tf.Tensor(\n",
      "[[[[0. 1. 1. 1. 1.]\n",
      "   [0. 0. 1. 1. 1.]\n",
      "   [0. 0. 1. 1. 1.]\n",
      "   [0. 0. 1. 0. 1.]\n",
      "   [0. 0. 1. 0. 0.]]]], shape=(1, 1, 5, 5), dtype=float32)\n"
     ]
    }
   ],
   "source": [
    "print(create_look_ahead_mask(tf.constant([[1, 2, 0, 4, 5]])))"
   ]
  },
  {
   "cell_type": "markdown",
   "id": "20ffdb3c-8c81-407e-8774-b6297288ed46",
   "metadata": {},
   "source": [
    "## 2nd Decoder sublayer : Encoder-Decoder Attention"
   ]
  },
  {
   "cell_type": "markdown",
   "id": "6b47e72a-6182-47e4-a9a6-5ad6b7f36521",
   "metadata": {},
   "source": [
    "디코더 두번째 서브층은 멀티 헤드 어텐션을 수행한다는 점에서 이전의 어텐션들(인코더와 디코더의 첫번째 서브층)과는 공통점이 있으나 이건 **셀프 어텐션이 아님!**\n",
    "\n",
    "- **셀프 어텐션은 Query, Key, Value가 출처가 같은 경우를 말하는데, 인코더-디코더 어텐션은 Query가 디코더인 행렬인 반면, Key, Value가 인코더 행렬이기 때문**"
   ]
  },
  {
   "cell_type": "markdown",
   "id": "c91dd001-6a70-413b-a1b1-7ec50683260f",
   "metadata": {},
   "source": [
    "- 인코더의 첫번째 서브층 = Query = Key = Value\n",
    "- 디코더의 첫번째 서브층 = Query = Key = Value\n",
    "- 디코더의 두번째 서브층 = Query = 디코더 행렬(의 첫번째 서브층 결과), Key = Value = 인코더 행렬(의 마지막 층에서 얻은 값)"
   ]
  },
  {
   "cell_type": "markdown",
   "id": "4616f481-f4b5-466a-9aad-ccfd529e5e4a",
   "metadata": {},
   "source": [
    "# Decoder 구현"
   ]
  },
  {
   "cell_type": "markdown",
   "id": "b64de39f-0a92-4be8-940c-c5de32adff0b",
   "metadata": {},
   "source": [
    "첫번째 서브층은 mask 인자값으로 look_ahead_mask가 들어가고, 두 번째 서브층은 mask의 인자값으로 padding_mask가 들어가있음\n",
    "\n",
    "세 개의 서브층 모두 서브층 연산 후에는 드롭 아웃, 잔차 연결, 층 정규화가 수행"
   ]
  },
  {
   "cell_type": "code",
   "execution_count": 93,
   "id": "ba3ac2e9-e459-4533-8964-29a2438f96d6",
   "metadata": {},
   "outputs": [],
   "source": [
    "def decoder_layer(dff, d_model, num_heads, dropout, name=\"decoder_layer\"):\n",
    "    inputs = tf.keras.Input(shape=(None, d_model), name=\"inputs\")\n",
    "    enc_outputs = tf.keras.Input(shape=(None, d_model), name=\"encoder_outputs\")\n",
    "\n",
    "    # 룩어헤드 마스크(첫번째 서브층)\n",
    "    look_ahead_mask = tf.keras.Input(\n",
    "      shape=(1, None, None), name=\"look_ahead_mask\")\n",
    "\n",
    "    # 패딩 마스크(두번째 서브층)\n",
    "    padding_mask = tf.keras.Input(shape=(1, 1, None), name='padding_mask')\n",
    "\n",
    "    # 멀티-헤드 어텐션 (첫번째 서브층 / 마스크드 셀프 어텐션)\n",
    "    attention1 = MultiHeadAttention(\n",
    "      d_model, num_heads, name=\"attention_1\")(inputs={\n",
    "          'query': inputs, 'key': inputs, 'value': inputs, # Q = K = V\n",
    "          'mask': look_ahead_mask # 룩어헤드 마스크\n",
    "      })\n",
    "\n",
    "    # 잔차 연결과 층 정규화\n",
    "    attention1 = tf.keras.layers.LayerNormalization(\n",
    "      epsilon=1e-6)(attention1 + inputs)\n",
    "\n",
    "    # 멀티-헤드 어텐션 (두번째 서브층 / 디코더-인코더 어텐션)\n",
    "    attention2 = MultiHeadAttention(\n",
    "      d_model, num_heads, name=\"attention_2\")(inputs={\n",
    "          'query': attention1, 'key': enc_outputs, 'value': enc_outputs, # Q != K = V\n",
    "          'mask': padding_mask # 패딩 마스크\n",
    "      })\n",
    "\n",
    "    # 드롭아웃 + 잔차 연결과 층 정규화\n",
    "    attention2 = tf.keras.layers.Dropout(rate=dropout)(attention2)\n",
    "    attention2 = tf.keras.layers.LayerNormalization(\n",
    "      epsilon=1e-6)(attention2 + attention1)\n",
    "\n",
    "    # 포지션 와이즈 피드 포워드 신경망 (세번째 서브층)\n",
    "    outputs = tf.keras.layers.Dense(units=dff, activation='relu')(attention2)\n",
    "    outputs = tf.keras.layers.Dense(units=d_model)(outputs)\n",
    "\n",
    "    # 드롭아웃 + 잔차 연결과 층 정규화\n",
    "    outputs = tf.keras.layers.Dropout(rate=dropout)(outputs)\n",
    "    outputs = tf.keras.layers.LayerNormalization(\n",
    "      epsilon=1e-6)(outputs + attention2)\n",
    "\n",
    "    return tf.keras.Model(\n",
    "      inputs=[inputs, enc_outputs, look_ahead_mask, padding_mask],\n",
    "      outputs=outputs,\n",
    "      name=name)"
   ]
  },
  {
   "cell_type": "markdown",
   "id": "c2f14b84-4c0f-4030-9031-7cb5b741eece",
   "metadata": {},
   "source": [
    "# Decoder 쌓기"
   ]
  },
  {
   "cell_type": "markdown",
   "id": "07498b49-a6b7-403a-9852-15145ff4ed97",
   "metadata": {},
   "source": [
    "num_layers 개수만큼 쌓기"
   ]
  },
  {
   "cell_type": "code",
   "execution_count": 95,
   "id": "9ac2fec8-f01b-4e52-87b9-c21b330c0de1",
   "metadata": {},
   "outputs": [],
   "source": [
    "def decoder(vocab_size, num_layers, dff,\n",
    "            d_model, num_heads, dropout,\n",
    "            name='decoder'):\n",
    "    inputs = tf.keras.Input(shape=(None,), name='inputs')\n",
    "    enc_outputs = tf.keras.Input(shape=(None, d_model), name='encoder_outputs')\n",
    "\n",
    "    # 디코더는 룩어헤드 마스크(첫번째 서브층)와 패딩 마스크(두번째 서브층) 둘 다 사용.\n",
    "    look_ahead_mask = tf.keras.Input(\n",
    "      shape=(1, None, None), name='look_ahead_mask')\n",
    "    padding_mask = tf.keras.Input(shape=(1, 1, None), name='padding_mask')\n",
    "\n",
    "    # 포지셔널 인코딩 + 드롭아웃\n",
    "    embeddings = tf.keras.layers.Embedding(vocab_size, d_model)(inputs)\n",
    "    embeddings *= tf.math.sqrt(tf.cast(d_model, tf.float32))\n",
    "    embeddings = PositionalEncoding(vocab_size, d_model)(embeddings)\n",
    "    outputs = tf.keras.layers.Dropout(rate=dropout)(embeddings)\n",
    "\n",
    "    # 디코더를 num_layers개 쌓기\n",
    "    for i in range(num_layers):\n",
    "        outputs = decoder_layer(dff=dff, d_model=d_model, num_heads=num_heads,\n",
    "            dropout=dropout, name='decoder_layer_{}'.format(i),\n",
    "        )(inputs=[outputs, enc_outputs, look_ahead_mask, padding_mask])\n",
    "\n",
    "    return tf.keras.Model(\n",
    "      inputs=[inputs, enc_outputs, look_ahead_mask, padding_mask],\n",
    "      outputs=outputs,\n",
    "      name=name)"
   ]
  },
  {
   "cell_type": "markdown",
   "id": "b1304a96-2279-46fc-9125-8036c0938736",
   "metadata": {},
   "source": [
    "# Transformer 구현"
   ]
  },
  {
   "cell_type": "markdown",
   "id": "a95320f8-7866-4d63-ac98-fd929c4ea4f2",
   "metadata": {},
   "source": [
    "vocab_size는 다중 클래스 분류 문제를 풀 수 있도록 추가"
   ]
  },
  {
   "cell_type": "code",
   "execution_count": 96,
   "id": "d0705418-7667-416b-83f2-85e3547721cd",
   "metadata": {},
   "outputs": [],
   "source": [
    "def transformer(vocab_size, num_layers, dff,\n",
    "                d_model, num_heads, dropout,\n",
    "                name=\"transformer\"):\n",
    "\n",
    "    # 인코더의 입력\n",
    "    inputs = tf.keras.Input(shape=(None,), name=\"inputs\")\n",
    "\n",
    "    # 디코더의 입력\n",
    "    dec_inputs = tf.keras.Input(shape=(None,), name=\"dec_inputs\")\n",
    "\n",
    "    # 인코더의 패딩 마스크\n",
    "    enc_padding_mask = tf.keras.layers.Lambda(\n",
    "      create_padding_mask, output_shape=(1, 1, None),\n",
    "      name='enc_padding_mask')(inputs)\n",
    "\n",
    "    # 디코더의 룩어헤드 마스크(첫번째 서브층)\n",
    "    look_ahead_mask = tf.keras.layers.Lambda(\n",
    "      create_look_ahead_mask, output_shape=(1, None, None),\n",
    "      name='look_ahead_mask')(dec_inputs)\n",
    "\n",
    "    # 디코더의 패딩 마스크(두번째 서브층)\n",
    "    dec_padding_mask = tf.keras.layers.Lambda(\n",
    "      create_padding_mask, output_shape=(1, 1, None),\n",
    "      name='dec_padding_mask')(inputs)\n",
    "\n",
    "    # 인코더의 출력은 enc_outputs. 디코더로 전달된다.\n",
    "    enc_outputs = encoder(vocab_size=vocab_size, num_layers=num_layers, dff=dff,\n",
    "      d_model=d_model, num_heads=num_heads, dropout=dropout,\n",
    "    )(inputs=[inputs, enc_padding_mask]) # 인코더의 입력은 입력 문장과 패딩 마스크\n",
    "\n",
    "    # 디코더의 출력은 dec_outputs. 출력층으로 전달된다.\n",
    "    dec_outputs = decoder(vocab_size=vocab_size, num_layers=num_layers, dff=dff,\n",
    "      d_model=d_model, num_heads=num_heads, dropout=dropout,\n",
    "    )(inputs=[dec_inputs, enc_outputs, look_ahead_mask, dec_padding_mask])\n",
    "\n",
    "    # 다음 단어 예측을 위한 출력층\n",
    "    outputs = tf.keras.layers.Dense(units=vocab_size, name=\"outputs\")(dec_outputs)\n",
    "\n",
    "    return tf.keras.Model(inputs=[inputs, dec_inputs], outputs=outputs, name=name)"
   ]
  },
  {
   "cell_type": "markdown",
   "id": "39136775-dba7-4064-9f18-420f5843c01f",
   "metadata": {},
   "source": [
    "# Transformer hyperparameter 정하기"
   ]
  },
  {
   "cell_type": "markdown",
   "id": "6315520c-95c1-4f74-984c-631a8f1af336",
   "metadata": {},
   "source": [
    "예제\n",
    "- num_layers = 4 # 인코더,디코더 층의 개수\n",
    "- $d_{ff}$ = 128 # 포지션 와이즈 피드 포워드 신경망의 은닉층\n",
    "- $d_{model}$ = 128 # 인코더와 디코더의 입, 출력의 차원\n",
    "- num_heads = 4 # 멀티-헤드 어텐션에서 병렬적으로 사용할 헤드의 수\n",
    "    - $d_v$ = 128 / 4 = 32"
   ]
  },
  {
   "cell_type": "code",
   "execution_count": 97,
   "id": "66dcc913-8656-49a9-9850-3855d84810ea",
   "metadata": {},
   "outputs": [
    {
     "name": "stdout",
     "output_type": "stream",
     "text": [
      "(1, 9000, 128)\n",
      "(1, 9000, 128)\n",
      "You must install pydot (`pip install pydot`) and install graphviz (see instructions at https://graphviz.gitlab.io/download/) for plot_model to work.\n"
     ]
    }
   ],
   "source": [
    "small_transformer = transformer(\n",
    "    vocab_size = 9000,\n",
    "    num_layers = 4,\n",
    "    dff = 512,\n",
    "    d_model = 128,\n",
    "    num_heads = 4,\n",
    "    dropout = 0.3,\n",
    "    name=\"small_transformer\")\n",
    "\n",
    "tf.keras.utils.plot_model(\n",
    "    small_transformer, to_file='small_transformer.png', show_shapes=True)"
   ]
  },
  {
   "cell_type": "markdown",
   "id": "0ee94c0a-e627-4cc8-920c-d63a8c7e1e17",
   "metadata": {},
   "source": [
    "# Loss Function 정의"
   ]
  },
  {
   "cell_type": "markdown",
   "id": "692f90a9-b98c-4bdd-a3e4-553a4c1abef1",
   "metadata": {},
   "source": [
    "예제가 다중 클래스라 크로스 엔트로피 함수를 손실 함수로 정의함"
   ]
  },
  {
   "cell_type": "code",
   "execution_count": 99,
   "id": "b8cf5176-d8fe-42cf-84f9-7c031f227ee7",
   "metadata": {},
   "outputs": [],
   "source": [
    "def loss_function(y_true, y_pred):\n",
    "    y_true = tf.reshape(y_true, shape=(-1, MAX_LENGTH - 1))\n",
    "\n",
    "    loss = tf.keras.losses.SparseCategoricalCrossentropy(\n",
    "      from_logits=True, reduction='none')(y_true, y_pred)\n",
    "\n",
    "    mask = tf.cast(tf.not_equal(y_true, 0), tf.float32)\n",
    "    loss = tf.multiply(loss, mask)\n",
    "\n",
    "    return tf.reduce_mean(loss)"
   ]
  },
  {
   "cell_type": "markdown",
   "id": "9b703f40-1b0c-4992-b696-a47fcbe289e1",
   "metadata": {},
   "source": [
    "# 학습률"
   ]
  },
  {
   "cell_type": "markdown",
   "id": "c2a994a0-0b2c-4316-bf22-fd60be9a084a",
   "metadata": {},
   "source": [
    "$$lrate = d^{-0.5}_{model} \\times min(step_num^{-0.5} , step_num \\times warmup_steps^{-1/4})$$"
   ]
  },
  {
   "cell_type": "code",
   "execution_count": 100,
   "id": "8a9f37fc-bfa3-4aa6-8188-b3118a4930f9",
   "metadata": {},
   "outputs": [],
   "source": [
    "class CustomSchedule(tf.keras.optimizers.schedules.LearningRateSchedule):\n",
    "\n",
    "    def __init__(self, d_model, warmup_steps=4000):\n",
    "        super(CustomSchedule, self).__init__()\n",
    "        self.d_model = d_model\n",
    "        self.d_model = tf.cast(self.d_model, tf.float32)\n",
    "        self.warmup_steps = warmup_steps\n",
    "\n",
    "    def __call__(self, step):\n",
    "        arg1 = tf.math.rsqrt(step)\n",
    "        arg2 = step * (self.warmup_steps**-1.5)\n",
    "\n",
    "        return tf.math.rsqrt(self.d_model) * tf.math.minimum(arg1, arg2)"
   ]
  },
  {
   "cell_type": "code",
   "execution_count": 101,
   "id": "e00e59c8-a11e-4bc6-8c40-859ac9eb7981",
   "metadata": {},
   "outputs": [
    {
     "data": {
      "text/plain": [
       "Text(0.5, 0, 'Train Step')"
      ]
     },
     "execution_count": 101,
     "metadata": {},
     "output_type": "execute_result"
    },
    {
     "data": {
      "image/png": "[encoded data removed]",
      "text/plain": [
       "<Figure size 432x288 with 1 Axes>"
      ]
     },
     "metadata": {
      "needs_background": "light"
     },
     "output_type": "display_data"
    }
   ],
   "source": [
    "sample_learning_rate = CustomSchedule(d_model=128)\n",
    "\n",
    "plt.plot(sample_learning_rate(tf.range(200000, dtype=tf.float32)))\n",
    "plt.ylabel(\"Learning Rate\")\n",
    "plt.xlabel(\"Train Step\")"
   ]
  },
  {
   "cell_type": "code",
   "execution_count": null,
   "id": "d196b998-c240-4e5f-844f-cc4091738923",
   "metadata": {},
   "outputs": [],
   "source": []
  }
 ],
 "metadata": {
  "kernelspec": {
   "display_name": "Python 3",
   "language": "python",
   "name": "python3"
  },
  "language_info": {
   "codemirror_mode": {
    "name": "ipython",
    "version": 3
   },
   "file_extension": ".py",
   "mimetype": "text/x-python",
   "name": "python",
   "nbconvert_exporter": "python",
   "pygments_lexer": "ipython3",
   "version": "3.8.0"
  }
 },
 "nbformat": 4,
 "nbformat_minor": 5
}
