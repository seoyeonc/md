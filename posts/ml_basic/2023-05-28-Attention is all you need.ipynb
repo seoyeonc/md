{
 "cells": [
  {
   "cell_type": "raw",
   "id": "0e38dbb7-cf22-436d-b098-fd5ac1889d5a",
   "metadata": {
    "id": "cac470df-29e7-4148-9bbd-d8b9a32fa570",
    "tags": []
   },
   "source": [
    "---\n",
    "title: \"Transformers\"\n",
    "author: \"SEOYEON CHOI\"\n",
    "date: \"2023-05-24\"\n",
    "categories:\n",
    "  - Transformers\n",
    "---"
   ]
  },
  {
   "cell_type": "markdown",
   "id": "dd4296be-9d8f-4664-9c84-b0ea0ad1d6e7",
   "metadata": {},
   "source": [
    "> Attention is all you need"
   ]
  },
  {
   "cell_type": "markdown",
   "id": "10edc928-aabd-41f9-bd3d-5b1ddc0e9cb4",
   "metadata": {},
   "source": [
    "ref: [딥 러닝을 이용한 자연어 처리 입문](https://wikidocs.net/31379), [Attention is all you need](https://proceedings.neurips.cc/paper_files/paper/2017/file/3f5ee243547dee91fbd053c1c4a845aa-Paper.pdf)"
   ]
  },
  {
   "cell_type": "code",
   "execution_count": null,
   "id": "3b70caf0-8c13-4ef9-901d-3b00c5ab24da",
   "metadata": {},
   "outputs": [],
   "source": []
  },
  {
   "cell_type": "code",
   "execution_count": null,
   "id": "d9754537-002f-4b78-847b-d63138917d01",
   "metadata": {},
   "outputs": [],
   "source": [
    "https://github.com/huggingface/transformers"
   ]
  },
  {
   "cell_type": "code",
   "execution_count": null,
   "id": "e29f3551-76f2-42dc-a86e-028b6dc07e03",
   "metadata": {},
   "outputs": [],
   "source": []
  },
  {
   "cell_type": "code",
   "execution_count": null,
   "id": "b8b38772-5044-4190-9128-af31b3235006",
   "metadata": {},
   "outputs": [],
   "source": [
    "https://github.com/huggingface/transformers/blob/main/README_ko.md"
   ]
  },
  {
   "cell_type": "code",
   "execution_count": null,
   "id": "62ab3d27-8ac5-47cf-b6ec-5112dbaac476",
   "metadata": {},
   "outputs": [],
   "source": []
  }
 ],
 "metadata": {
  "kernelspec": {
   "display_name": "Python 3",
   "language": "python",
   "name": "python3"
  },
  "language_info": {
   "codemirror_mode": {
    "name": "ipython",
    "version": 3
   },
   "file_extension": ".py",
   "mimetype": "text/x-python",
   "name": "python",
   "nbconvert_exporter": "python",
   "pygments_lexer": "ipython3",
   "version": "3.8.0"
  }
 },
 "nbformat": 4,
 "nbformat_minor": 5
}
