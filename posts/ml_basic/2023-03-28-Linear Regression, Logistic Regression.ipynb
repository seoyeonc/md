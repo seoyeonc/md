{
 "cells": [
  {
   "cell_type": "raw",
   "id": "e1917fce-c22f-4a57-a9e9-9502b8aee180",
   "metadata": {
    "id": "cac470df-29e7-4148-9bbd-d8b9a32fa570",
    "tags": []
   },
   "source": [
    "---\n",
    "title: \"Linear Regression, Logistic Regression\"\n",
    "author: \"SEOYEON CHOI\"\n",
    "date: \"2023-04-01\"\n",
    "categories:\n",
    "  - Machine learning basic\n",
    "  - 지도학습\n",
    "---"
   ]
  },
  {
   "cell_type": "markdown",
   "id": "3154d7b6-7b9d-47dc-848c-108ce9b8fb4e",
   "metadata": {},
   "source": [
    "> Linear Regression, Logistic Regression"
   ]
  },
  {
   "cell_type": "markdown",
   "id": "af3c1a89-57d3-4f32-b6cd-dd3a7a9fe28f",
   "metadata": {},
   "source": [
    "로지스틱 함수는 샘플이 어느 카테고리에 속할 확률을 추정하여 분류하는 회귀 알고리즘이다."
   ]
  },
  {
   "cell_type": "markdown",
   "id": "5ca2953d-2185-400c-96d8-720e4006af17",
   "metadata": {},
   "source": [
    "Refernece: [핸즈 온 머신러닝](https://www.oreilly.com/library/view/hands-on-machine-learning/9781492032632/)"
   ]
  },
  {
   "cell_type": "markdown",
   "id": "d5d7c350-7fad-4435-baa2-40ffecfc2ee5",
   "metadata": {},
   "source": [
    "# 로지스틱 회귀"
   ]
  },
  {
   "cell_type": "code",
   "execution_count": null,
   "id": "82836ebd-ab45-4a94-a4c3-2047124ce6e0",
   "metadata": {},
   "outputs": [],
   "source": [
    "\n"
   ]
  }
 ],
 "metadata": {
  "kernelspec": {
   "display_name": "Python 3 (ipykernel)",
   "language": "python",
   "name": "python3"
  },
  "language_info": {
   "codemirror_mode": {
    "name": "ipython",
    "version": 3
   },
   "file_extension": ".py",
   "mimetype": "text/x-python",
   "name": "python",
   "nbconvert_exporter": "python",
   "pygments_lexer": "ipython3",
   "version": "3.8.12"
  }
 },
 "nbformat": 4,
 "nbformat_minor": 5
}
