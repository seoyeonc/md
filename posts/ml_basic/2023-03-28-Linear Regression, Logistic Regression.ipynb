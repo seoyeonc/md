{
 "cells": [
  {
   "cell_type": "raw",
   "id": "e1917fce-c22f-4a57-a9e9-9502b8aee180",
   "metadata": {
    "id": "cac470df-29e7-4148-9bbd-d8b9a32fa570",
    "tags": []
   },
   "source": [
    "---\n",
    "title: \"Linear Regression, Logistic Regression\"\n",
    "author: \"SEOYEON CHOI\"\n",
    "date: \"2023-03-28\"\n",
    "categories:\n",
    "  - Machine learning basic\n",
    "  - 지도학습\n",
    "---"
   ]
  },
  {
   "cell_type": "markdown",
   "id": "3154d7b6-7b9d-47dc-848c-108ce9b8fb4e",
   "metadata": {},
   "source": [
    "> Linear Regression, Logistic Regression"
   ]
  },
  {
   "cell_type": "markdown",
   "id": "5ca2953d-2185-400c-96d8-720e4006af17",
   "metadata": {},
   "source": [
    "Refernece: [핸즈 온 머신러닝](https://www.oreilly.com/library/view/hands-on-machine-learning/9781492032632/), [최규빈교수님 통계전산강의노트](https://guebin.github.io/SC2022/) [사이킷런 홈페이지](https://scikit-learn.org/stable/modules/generated/sklearn.decomposition.PCA.html)"
   ]
  },
  {
   "cell_type": "code",
   "execution_count": null,
   "id": "cf1e68a0-02b8-4ed0-999c-7dd8484ef063",
   "metadata": {},
   "outputs": [],
   "source": []
  }
 ],
 "metadata": {
  "kernelspec": {
   "display_name": "Python 3 (ipykernel)",
   "language": "python",
   "name": "python3"
  },
  "language_info": {
   "codemirror_mode": {
    "name": "ipython",
    "version": 3
   },
   "file_extension": ".py",
   "mimetype": "text/x-python",
   "name": "python",
   "nbconvert_exporter": "python",
   "pygments_lexer": "ipython3",
   "version": "3.8.12"
  }
 },
 "nbformat": 4,
 "nbformat_minor": 5
}
