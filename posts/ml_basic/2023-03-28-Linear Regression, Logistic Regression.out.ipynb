{
  "cells": [
    {
      "cell_type": "markdown",
      "metadata": {},
      "source": [
        "# Logistic Regression\n",
        "\n",
        "SEOYEON CHOI  \n",
        "2023-04-09\n",
        "\n",
        "> Logistic Regression\n",
        "\n",
        "로지스틱 함수는 샘플이 어느 카테고리에 속할 확률을 추정하여 분류하는\n",
        "회귀 알고리즘이다.\n",
        "\n",
        "Refernece: [핸즈 온\n",
        "머신러닝](https://www.oreilly.com/library/view/hands-on-machine-learning/9781492032632/)\n",
        "\n",
        "# 로지스틱 회귀"
      ],
      "id": "17345bcd-d9a1-4154-8d62-859ec11bded0"
    },
    {
      "cell_type": "code",
      "execution_count": null,
      "metadata": {},
      "outputs": [],
      "source": [
        "\n"
      ],
      "id": "82836ebd-ab45-4a94-a4c3-2047124ce6e0"
    }
  ],
  "nbformat": 4,
  "nbformat_minor": 5,
  "metadata": {
    "kernelspec": {
      "name": "python3",
      "display_name": "Python 3 (ipykernel)",
      "language": "python"
    },
    "language_info": {
      "name": "python",
      "codemirror_mode": {
        "name": "ipython",
        "version": "3"
      },
      "file_extension": ".py",
      "mimetype": "text/x-python",
      "nbconvert_exporter": "python",
      "pygments_lexer": "ipython3",
      "version": "3.8.12"
    }
  }
}