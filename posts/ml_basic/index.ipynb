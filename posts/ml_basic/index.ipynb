{
  "cells": [
    {
      "cell_type": "markdown",
      "metadata": {},
      "source": [
        "# Machine Learning basic\n",
        "\n",
        "SEOYEON CHOI  \n",
        "2023-03-23\n",
        "\n",
        "Let’s study Machine Learning from begining."
      ],
      "id": "31ff1be1-71e2-4b13-83b4-c3b9aad4c234"
    }
  ],
  "nbformat": 4,
  "nbformat_minor": 5,
  "metadata": {
    "kernelspec": {
      "display_name": "Python 3",
      "language": "python",
      "name": "python3"
    }
  }
}