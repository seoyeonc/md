{
  "cells": [
    {
      "cell_type": "markdown",
      "metadata": {},
      "source": [
        "# Machine Learning basic\n",
        "\n",
        "SEOYEON CHOI  \n",
        "2023-03-23\n",
        "\n",
        "Let’s study Machine Learning from begining."
      ],
      "id": "0f748fc8-d4c3-47a1-b44e-0530f423856a"
    }
  ],
  "nbformat": 4,
  "nbformat_minor": 5,
  "metadata": {
    "kernelspec": {
      "display_name": "Python 3",
      "language": "python",
      "name": "python3"
    }
  }
}