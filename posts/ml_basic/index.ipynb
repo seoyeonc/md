{
  "cells": [
    {
      "cell_type": "markdown",
      "metadata": {},
      "source": [
        "# Machine Learning basic\n",
        "\n",
        "SEOYEON CHOI  \n",
        "2023-03-23\n",
        "\n",
        "Let’s study Machine Learning from begining."
      ],
      "id": "c813d0b0-1f34-4cff-86e2-6158f497513e"
    }
  ],
  "nbformat": 4,
  "nbformat_minor": 5,
  "metadata": {
    "kernelspec": {
      "display_name": "Python 3",
      "language": "python",
      "name": "python3"
    }
  }
}