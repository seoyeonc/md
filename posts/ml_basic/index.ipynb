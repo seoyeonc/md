{
  "cells": [
    {
      "cell_type": "markdown",
      "metadata": {},
      "source": [
        "# Machine Learning basic\n",
        "\n",
        "SEOYEON CHOI  \n",
        "2023-03-23\n",
        "\n",
        "Let’s study Machine Learning from begining."
      ],
      "id": "b1c32ba9-c0e8-40d2-99d4-360fa7699013"
    }
  ],
  "nbformat": 4,
  "nbformat_minor": 5,
  "metadata": {
    "kernelspec": {
      "display_name": "Python 3",
      "language": "python",
      "name": "python3"
    }
  }
}