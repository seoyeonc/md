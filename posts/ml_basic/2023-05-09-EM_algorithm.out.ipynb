{
  "cells": [
    {
      "cell_type": "markdown",
      "metadata": {},
      "source": [
        "# Expectation Maximization(EM algorithm)\n",
        "\n",
        "SEOYEON CHOI  \n",
        "2023-05-09\n",
        "\n",
        "> Expectation Maximization"
      ],
      "id": "364cf989-d7f6-41e0-8f4e-b41295f152b3"
    },
    {
      "cell_type": "code",
      "execution_count": 2,
      "metadata": {},
      "outputs": [],
      "source": [
        "import random"
      ],
      "id": "df6e0bfe-7ad0-4c0d-98e2-c71a523c98b4"
    },
    {
      "cell_type": "markdown",
      "metadata": {},
      "source": [
        "# 동전 던지기\n",
        "\n",
        "## 어떤 동전인지 알 때 Expactation\n",
        "\n",
        "어떤 동전에서 어떤 면이 나올 기댓값을 직접 구할 수 있다.\n",
        "\n",
        "-   1: 앞 면\n",
        "-   2: 뒷 면\n",
        "\n",
        "**A 동전**"
      ],
      "id": "8df57755-ef79-44db-b152-23df50f51d73"
    },
    {
      "cell_type": "code",
      "execution_count": 19,
      "metadata": {},
      "outputs": [
        {
          "output_type": "stream",
          "name": "stdout",
          "text": [
            "Number of ones: 37\n",
            "Probability of one: 0.4625"
          ]
        }
      ],
      "source": [
        "N = 80\n",
        "outcomes = []\n",
        "for i in range(N):\n",
        "    outcome = random.choice([1, 2])\n",
        "    outcomes.append(outcome)\n",
        "num_of_ones = outcomes.count(1)\n",
        "probability_of_one = num_of_ones / N\n",
        "print(\"Number of ones:\", num_of_ones)\n",
        "print(\"Probability of one:\", probability_of_one)"
      ],
      "id": "64b2ca1e-15ee-4e23-9555-82e84493cf8e"
    },
    {
      "cell_type": "markdown",
      "metadata": {},
      "source": [
        "**B 동전**"
      ],
      "id": "0d9e72d4-5b57-4bf0-9951-369c112ee941"
    },
    {
      "cell_type": "code",
      "execution_count": 20,
      "metadata": {},
      "outputs": [
        {
          "output_type": "stream",
          "name": "stdout",
          "text": [
            "Number of ones: 45\n",
            "Probability of one: 0.5625"
          ]
        }
      ],
      "source": [
        "N = 80\n",
        "outcomes = []\n",
        "for i in range(N):\n",
        "    outcome = random.choice([1, 2])\n",
        "    outcomes.append(outcome)\n",
        "num_of_ones = outcomes.count(1)\n",
        "probability_of_one = num_of_ones / N\n",
        "print(\"Number of ones:\", num_of_ones)\n",
        "print(\"Probability of one:\", probability_of_one)"
      ],
      "id": "ff42967b-26f9-4a53-855f-07f588fde118"
    },
    {
      "cell_type": "markdown",
      "metadata": {},
      "source": [
        "## 어떤 동전인지 모를 때 Expactation\n",
        "\n",
        "값이 어떤 동전에서 나오는지 모르는 경우\n",
        "\n",
        "-   10번 시도한 1 sequence: 앞/뒤/앞/뒤/뒤/앞/뒤/앞/앞/뒤\n",
        "\n",
        "-   사용되는 동전의 수 = hidden variable/latent variable\n",
        "\n",
        "임의의 초기값(랜덤 부여 가능)\n",
        "\n",
        "-   $\\theta_A = 0.4$\n",
        "-   $\\theta_B = 0.3$\n",
        "\n",
        "### E step\n",
        "\n",
        "1 sequence에서 Hidden variable의 responsibility를 구한다.\n",
        "\n",
        "**A 동전**"
      ],
      "id": "11def0a8-613e-4067-bd39-91b4f63c14ae"
    },
    {
      "cell_type": "code",
      "execution_count": 32,
      "metadata": {},
      "outputs": [
        {
          "output_type": "display_data",
          "metadata": {},
          "data": {
            "text/plain": [
              "0.0007962624"
            ]
          }
        }
      ],
      "source": [
        "(0.4)**5*(0.6)**5"
      ],
      "id": "da98f1e0-0bb1-4ea0-85f7-2987a333ab08"
    },
    {
      "cell_type": "markdown",
      "metadata": {},
      "source": [
        "**B 동전**"
      ],
      "id": "5e87400b-1562-454b-ad57-79a988909487"
    },
    {
      "cell_type": "code",
      "execution_count": 27,
      "metadata": {},
      "outputs": [
        {
          "output_type": "display_data",
          "metadata": {},
          "data": {
            "text/plain": [
              "0.00040841009999999976"
            ]
          }
        }
      ],
      "source": [
        "(0.3)**5*(0.7)**5"
      ],
      "id": "9c325bdb-82c2-46b8-b265-4f28851e238b"
    },
    {
      "cell_type": "markdown",
      "metadata": {},
      "source": [
        "**1 sequence에서 A 동전을 사용했을 비율(responsibility)**"
      ],
      "id": "9960ec4a-17dd-4b0c-964f-201563178e3a"
    },
    {
      "cell_type": "code",
      "execution_count": 34,
      "metadata": {},
      "outputs": [
        {
          "output_type": "display_data",
          "metadata": {},
          "data": {
            "text/plain": [
              "0.66"
            ]
          }
        }
      ],
      "source": [
        "round(((0.4)**5*(0.6)**5)/((0.4)**5*(0.6)**5 + (0.3)**5*(0.7)**5),2)"
      ],
      "id": "19e6e2f1-7722-4dcc-84a1-77fbfed4e474"
    },
    {
      "cell_type": "markdown",
      "metadata": {},
      "source": [
        "**1 sequence에서 B 동전을 사용했을 비율(responsibility)**"
      ],
      "id": "8b3ff351-b7c5-4656-8a43-8cfa4ad4c7af"
    },
    {
      "cell_type": "code",
      "execution_count": 35,
      "metadata": {},
      "outputs": [
        {
          "output_type": "display_data",
          "metadata": {},
          "data": {
            "text/plain": [
              "0.34"
            ]
          }
        }
      ],
      "source": [
        "round(((0.3)**5*(0.7)**5)/((0.4)**5*(0.6)**5 + (0.3)**5*(0.7)**5),2)"
      ],
      "id": "9922d196-89ff-4e19-9a2a-58c38cf6a646"
    },
    {
      "cell_type": "markdown",
      "metadata": {},
      "source": [
        "### M step\n",
        "\n",
        "**1 sequence에서 A 동전 앞면**"
      ],
      "id": "38a8bff1-65f2-4fa4-8aad-0b5a51879338"
    },
    {
      "cell_type": "code",
      "execution_count": 41,
      "metadata": {},
      "outputs": [
        {
          "output_type": "display_data",
          "metadata": {},
          "data": {
            "text/plain": [
              "3.3"
            ]
          }
        }
      ],
      "source": [
        "round((0.66)*5,2)"
      ],
      "id": "a9808462-bb12-4ceb-bfb0-14803a859e74"
    },
    {
      "cell_type": "markdown",
      "metadata": {},
      "source": [
        "**1 sequence에서 A 동전 뒷면**"
      ],
      "id": "aba1e0a5-a3d3-450f-ad54-9699293c3acb"
    },
    {
      "cell_type": "code",
      "execution_count": 42,
      "metadata": {},
      "outputs": [
        {
          "output_type": "display_data",
          "metadata": {},
          "data": {
            "text/plain": [
              "2.2"
            ]
          }
        }
      ],
      "source": [
        "round((0.44)*5,2)"
      ],
      "id": "dc2d7db2-0916-423f-9a9b-399271e2ba27"
    },
    {
      "cell_type": "markdown",
      "metadata": {},
      "source": [
        "**1 sequence에서 B 동전 앞면**"
      ],
      "id": "4f8fd523-bb33-4090-a169-b83d34b75f53"
    },
    {
      "cell_type": "code",
      "execution_count": 43,
      "metadata": {},
      "outputs": [
        {
          "output_type": "display_data",
          "metadata": {},
          "data": {
            "text/plain": [
              "1.7"
            ]
          }
        }
      ],
      "source": [
        "round((0.34)*5,2)"
      ],
      "id": "897af2b0-2022-41b7-b73a-3f998038d8c9"
    },
    {
      "cell_type": "markdown",
      "metadata": {},
      "source": [
        "**1 sequence에서 B 동전 뒷면**"
      ],
      "id": "702fbda1-307e-47b5-8b0d-1e20a126dfcf"
    },
    {
      "cell_type": "code",
      "execution_count": 44,
      "metadata": {},
      "outputs": [
        {
          "output_type": "display_data",
          "metadata": {},
          "data": {
            "text/plain": [
              "3.3"
            ]
          }
        }
      ],
      "source": [
        "round((0.66)*5,2)"
      ],
      "id": "23bbc59c-49ab-48d4-937c-598f7fa7c5b2"
    },
    {
      "cell_type": "markdown",
      "metadata": {},
      "source": [
        "$\\dots$\n",
        "\n",
        "이런 식으로 모든 sequence의 동전의 앞 뒷명면의 reponsibility를 사용하여\n",
        "probability를 계산한다.\n",
        "\n",
        "### Update\n",
        "\n",
        "$\\hat{\\theta}^{(1)}_A \\sim \\frac{14}{14+16} \\sim 0.47$\n",
        "\n",
        "$\\hat{\\theta}^{(1)}_B \\sim \\frac{14}{14+16} \\sim 0.38$\n",
        "\n",
        "### …E/M step and Update Repeat\n",
        "\n",
        "Local maximum으로 답 찾을 수 있음."
      ],
      "id": "b24b9271-4f3d-47f7-9651-cdd86b2cb26d"
    }
  ],
  "nbformat": 4,
  "nbformat_minor": 5,
  "metadata": {
    "kernelspec": {
      "name": "python3",
      "display_name": "Python 3 (ipykernel)",
      "language": "python"
    },
    "language_info": {
      "name": "python",
      "codemirror_mode": {
        "name": "ipython",
        "version": "3"
      },
      "file_extension": ".py",
      "mimetype": "text/x-python",
      "nbconvert_exporter": "python",
      "pygments_lexer": "ipython3",
      "version": "3.8.12"
    }
  }
}