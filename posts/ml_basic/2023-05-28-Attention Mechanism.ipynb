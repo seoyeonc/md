{
 "cells": [
  {
   "cell_type": "raw",
   "id": "c8bda806-4682-4200-a93b-bcf0fc5dab2a",
   "metadata": {
    "id": "cac470df-29e7-4148-9bbd-d8b9a32fa570",
    "tags": []
   },
   "source": [
    "---\n",
    "title: \"Attention Mechanism\"\n",
    "author: \"SEOYEON CHOI\"\n",
    "date: \"2023-05-28\"\n",
    "categories:\n",
    "  - Attention Mechanism\n",
    "---"
   ]
  },
  {
   "cell_type": "markdown",
   "id": "94ad4ba3-4c80-4ab5-a734-62f31a7deee3",
   "metadata": {},
   "source": [
    "> Attention Mechanism"
   ]
  },
  {
   "cell_type": "markdown",
   "id": "538bc2a4-5ad7-4d4c-b634-bd768992009b",
   "metadata": {},
   "source": [
    "Ref: [딥 러닝을 위한 자연어 처리 입문](https://wikidocs.net/22893)"
   ]
  },
  {
   "cell_type": "markdown",
   "id": "bbb50875-9d17-4b8f-adac-9341cd47a89f",
   "metadata": {},
   "source": [
    "::: {.callout-note}\n",
    "\n",
    "**my own summary**\n",
    "\n",
    "현재 디코더의 시점 t에서 단어를 예측하기 위해 인코더의 모든 은닉 상태 각각이 디코더의 현 시점의 은닉 상태와 얼마나 유사한지를 판단하는 스코어 값인 어텐션 스코어를 이용하여 인코더의 문맥context를 포함한 값을 입력으로 넣어 정확도를 높이는 방법\n",
    "\n",
    ":::"
   ]
  },
  {
   "cell_type": "markdown",
   "id": "cff975e4-9e64-410f-9e16-84fcb0aaaf49",
   "metadata": {},
   "source": [
    "RNN에 기반한 seq2seq 모델의 문제점\n",
    "\n",
    "1. 하나의 고정된 크기의 벡터에 모든 정보를 압축하려고 하니까 정보 손실이 발생\n",
    "2. RNN의 고질적인 문제인 기울기 소실 문제 존재\n",
    "\n",
    "$\\to$ 기계 번역 동안 입력 문장이 길면 품질이 떨어지는 현상 발생, 이의 대안으로 입력 시퀀스가 길어지면 출력 시퀀스의 정확도가 떨어지는 것을 보정해주기 위해 들장한 어텐션."
   ]
  },
  {
   "cell_type": "markdown",
   "id": "f2f4d5a8-6a59-4bbd-8c8b-1a8b897a5652",
   "metadata": {},
   "source": [
    "::: {.callout-note}\n",
    "\n",
    "- 그레디언트 기반의 학습에서 역전파할때 발생하는 문제로 0 근처의 숫자를 계속 곱하여 터지거나 0으로 가는 상황\n",
    "\n",
    "- 그레디언트 기반의 학습\n",
    "    - 소실함수의 기울기를 통하여 업데이트하는 방식\n",
    "- 역전파\n",
    "    - 손실함수를 여러 단계로 쪼갠다(여러 합성 함수로 표현한다).\n",
    "    - 각 단계의 미분값을 구한다,\n",
    "    - 그것들을 모두 곱하여 기울기를 계산한다.\n",
    "\n",
    "참고: [빅데이터 분석 12주차](https://seoyeonc.github.io/chch/big%20data%20analysis/%EA%B8%B0%EC%9A%B8%EA%B8%B0%EC%86%8C%EB%A9%B8/%EC%B6%94%EC%B2%9C%EC%8B%9C%EC%8A%A4%ED%85%9C/2022/01/23/bd-12%EC%A3%BC%EC%B0%A8.html)\n",
    "\n",
    ":::"
   ]
  },
  {
   "cell_type": "markdown",
   "id": "7774af60-e573-474b-a2fb-40c723effa53",
   "metadata": {},
   "source": [
    "# Attention Function"
   ]
  },
  {
   "cell_type": "markdown",
   "id": "d5eaf8e7-2624-468e-ae74-4876f1ef98e4",
   "metadata": {},
   "source": [
    "```{mermaid}\n",
    "flowchart LR\n",
    "    subgraph \"Source\"\n",
    "        subgraph B2\n",
    "            direction BT\n",
    "            Key1 --> Value1\n",
    "            Key2 --> Value2\n",
    "            Key3 --> Value3\n",
    "        end\n",
    "    end\n",
    "  Query --> Source --> Attention\\nValue\n",
    "```"
   ]
  },
  {
   "cell_type": "markdown",
   "id": "7d6be37d-8265-4f4f-8f91-1866973e0040",
   "metadata": {},
   "source": [
    "$$Attention(Q, K, V) = \\text{Attention Value}$$"
   ]
  },
  {
   "cell_type": "markdown",
   "id": "86d66668-9bda-4d02-8eec-ba7a7e04cc18",
   "metadata": {},
   "source": [
    "1. 주어진 쿼리에 대해서 모든 키와의 유사도를 각각 구한다.\n",
    "2. 구한 유사도를 키와 맵핑되어 있는 각각의 값value에 반영한다.\n",
    "3. 유사도가 반영된 값을 모두 더해서 리턴한다. 여기서 값 = **어텐션 값 attention value**"
   ]
  },
  {
   "cell_type": "markdown",
   "id": "c9c5a5cd-c9b8-493c-9449-51e285a1e6b6",
   "metadata": {},
   "source": [
    "### 어텐션 모델의 요소"
   ]
  },
  {
   "cell_type": "markdown",
   "id": "98c4a0d2-52b4-423b-b1ec-a28f6c263080",
   "metadata": {},
   "source": [
    "- `Q`= Query \n",
    "    - t 시점의 디코더 셀에서의 은닉 상태\n",
    "- `K` = Keys\n",
    "    - 모든 시점의 인코더 셀의 은닉 상태들\n",
    "- `V` = Values\n",
    "    - 모든 시점의 인코더 셀의 은닉 상태들"
   ]
  },
  {
   "cell_type": "markdown",
   "id": "5b85e1ee-1fa9-4e1e-ac3e-4139331c10b8",
   "metadata": {},
   "source": [
    "## Dot-Product Attention"
   ]
  },
  {
   "cell_type": "markdown",
   "id": "04668a1a-9887-4a93-a399-0592cf17346d",
   "metadata": {},
   "source": [
    "- 디코더의 마지막 LSTM 셀이 출력단어를 예측하기 위해 인코더의 모든 입력 단어들의 정보를 다시 참고하고자 함\n",
    "- 이 때, 소프트 맥스를 이용\n",
    "    - 인코더에 입력된 값들이 출력 단어를 예측할 때 얼마나 도움이 되었는지 수치화한 결과\n",
    "    - 다시 디코더로 전달\n",
    "    - 디코더가 출력 단어를 더 정확하게 예측하게 도와줌"
   ]
  },
  {
   "cell_type": "markdown",
   "id": "d9336866-5285-4ca9-8336-5b860f3306aa",
   "metadata": {},
   "source": [
    "### 1. 어텐션 스코어를 구한다."
   ]
  },
  {
   "cell_type": "markdown",
   "id": "883a0be9-3626-4084-bb43-f4f06e5ec377",
   "metadata": {},
   "source": [
    "- 인코더의 은닉 시점 time stamp = $1,2, \\dots, N$\n",
    "- 인코더의 은닉 상태 hidden state = $s_t$\n",
    "    - 단, 인코더와 디코더의 은닉 상태는 차원이 같음"
   ]
  },
  {
   "cell_type": "markdown",
   "id": "33b24e4c-84b3-4297-abd1-4db9161dc1fd",
   "metadata": {},
   "source": [
    "::: {.callout-important}\n",
    "\n",
    "디코더의 현재시점 t에서 필요한 입력값\n",
    "\n",
    "seq2seq\n",
    "\n",
    "- 이전 시점인 t-1의 은닉 상태\n",
    "- 이전 시점 t-1에서 나온 출력 단어\n",
    "\n",
    "attention\n",
    "\n",
    "- 이전 시점인 t-1의 은닉 상태\n",
    "- 이전 시점 t-1에서 나온 출력 단어\n",
    "- 어텐션 값 $a_t$\n",
    "\n",
    ":::\n"
   ]
  },
  {
   "cell_type": "markdown",
   "id": "08b44401-aa84-4ace-ab89-5ae24811b761",
   "metadata": {},
   "source": [
    "**attention score 어텐션 값**\n",
    "\n",
    "- 현재 디코더의 시점 t에서 단어를 예측하기 위해 인코더의 모든 은닉 상태 각각이 디코더의 현 시점의 은닉 상태 $s_t$와 얼마나 유사한지를 판단하는 스코어 값"
   ]
  },
  {
   "cell_type": "markdown",
   "id": "aef61b58-5289-453d-8106-4c057aa4eabb",
   "metadata": {},
   "source": [
    "닷 프로덕트 어텐션은 은닉 상태 $s_t$를 전치(transpose)하고, 각 은닉 상태와 내적(dot product)를 수행하여 스칼라 결과 어텐션 스코어 score 추출\n",
    "\n",
    "- **닷 프러덕트 어텐션이라고 부르는 이유**"
   ]
  },
  {
   "cell_type": "markdown",
   "id": "46d95c73-6d1d-4454-9676-1fa4d3c544e6",
   "metadata": {},
   "source": [
    "$$score(s_t, h_i) = s_t^\\top h_i$$\n",
    "\n",
    "$$e^t = [s_t^\\top h_1, \\dots, s_t^\\top h_N]$$"
   ]
  },
  {
   "cell_type": "markdown",
   "id": "39f640b2-d960-4622-b6be-8c810dde07cb",
   "metadata": {},
   "source": [
    "$e^t$는 $s_t$와 인코더의 모든 은닉 상태의 어텐션 스코어의 모음값"
   ]
  },
  {
   "cell_type": "markdown",
   "id": "8c907974-b833-4986-9546-17d3b7ea9c54",
   "metadata": {},
   "source": [
    "### 2. 소프트맥스 함수를 통해 어텐션 분포를 구한다."
   ]
  },
  {
   "cell_type": "markdown",
   "id": "3e0f11d7-b305-4fb9-9f5d-7ed547dc5c9c",
   "metadata": {},
   "source": [
    "- $e^t$에 소프트맥스 함수 적용해서 합이 1이 되는 확률 분포 도출\n",
    "    - 각각 값은 어텐션 가중치 Attention weight\n",
    "    - 분포는 어텐션 분포 Attention Distribution $\\alpha^t$"
   ]
  },
  {
   "cell_type": "markdown",
   "id": "ddd9beae-0e34-4423-8521-308b8101fec9",
   "metadata": {},
   "source": [
    "$$\\alpha^t = softmax(e^t)$$"
   ]
  },
  {
   "cell_type": "markdown",
   "id": "609c6056-138a-44e6-9cea-abe27ff3fe45",
   "metadata": {},
   "source": [
    "### 3. 각 인코더의 어텐션 가중치와 은닉 상태를 가중합하여 어텐션 값을 구한다."
   ]
  },
  {
   "cell_type": "markdown",
   "id": "726d243a-7ba7-4728-b415-52b69ee9ad19",
   "metadata": {},
   "source": [
    "- 어텐션의 최종 결과값을 얻기 위해 각 인코더의 은닉상태 $s_t$와 어텐션 가중치 값attention weight를 곱하고 가중합weighted sum인 어텐션 값attention value $a_t$을 구한다."
   ]
  },
  {
   "cell_type": "markdown",
   "id": "37e7c626-5dcd-47ad-bd69-a9d22fcce881",
   "metadata": {},
   "source": [
    "$$a_t = \\sum^N_{i=1} \\alpha_i^t h_i$$"
   ]
  },
  {
   "cell_type": "markdown",
   "id": "5f038d08-37ab-4d01-bfec-b33b9a7b1b42",
   "metadata": {},
   "source": [
    "::: {.callout-tip}\n",
    "\n",
    "어텐션 값 attention value $a_t$는 인코더의 문맥을 포함하고 있다고 하여 컨텐스트 벡터 context vector라고도 부른다.\n",
    "\n",
    "단, seq2seq에서는 인코더의 마지막 은닉 상태를 컨텍스트 벡터context vector라고 불렀음.\n",
    "\n",
    ":::"
   ]
  },
  {
   "cell_type": "markdown",
   "id": "05c89165-3570-471e-92b9-f237e63f71e5",
   "metadata": {},
   "source": [
    "### 4. 어텐션 값과 디코더의 t 시점의 은닉 상태를 연결한다."
   ]
  },
  {
   "cell_type": "markdown",
   "id": "ee302f65-6647-46ad-89b7-b427b1f4c498",
   "metadata": {},
   "source": [
    "- 어텐션 값$a_t$와 디코더의 은닉 상태 $s_t$를 결합concatenate하여 하나의 벡터로 만드는 작업을 수행한다. $\\to$ $v_t$\n",
    "- 아 $v_t$를 예측 연산의 입력으로 사용함으로써 인코더로부터 얻은 정보를 활용하여 $\\hat{y}$를 더 잘 예측할 수 있게 됨 $\\to$ 어텐션 메커니즘의 핵심"
   ]
  },
  {
   "cell_type": "markdown",
   "id": "43e4c457-590e-46ad-96ab-ee917a9921bd",
   "metadata": {},
   "source": [
    "### 5. 출력층 연산의 입력이 되는 $\\tilde{s}_t$를 계산한다."
   ]
  },
  {
   "cell_type": "markdown",
   "id": "6f4f0509-152a-4e0b-a354-3980ef60712a",
   "metadata": {},
   "source": [
    "- 어텐션 값과 디코더의 t시점의 은닉 상태를 연결하고$a_t s_t$ tanh하이퍼볼릭탄젠트 함수를 통과하도록 해서 출력층 연산을 위한 새로운 벡터 $\\tilde{s}_t$를 얻는다."
   ]
  },
  {
   "cell_type": "markdown",
   "id": "795fced0-3a92-4f61-b896-6a0a8c823e2a",
   "metadata": {},
   "source": [
    "::: {.callout-note}\n",
    "\n",
    "seq2seq\n",
    "\n",
    "- 출력층의 입력이 t시점의 은닉 상태인 $s_t$\n",
    "\n",
    "attention\n",
    "\n",
    "- 출력층의 입력이 $\\tilde{s}_t$\n",
    "\n",
    ":::\n"
   ]
  },
  {
   "cell_type": "markdown",
   "id": "ccd143ed-0c76-40fe-997a-a4ee44e6b213",
   "metadata": {},
   "source": [
    "$$\\tilde{s}_t = tanh(W_c[a_t;s_t] + b_c$$"
   ]
  },
  {
   "cell_type": "markdown",
   "id": "3665cbab-c5be-4abf-b00b-8d2b85adcacd",
   "metadata": {},
   "source": [
    "$b_c$는 편향"
   ]
  },
  {
   "cell_type": "markdown",
   "id": "39badea5-ff48-4b21-a368-767c756f77c5",
   "metadata": {},
   "source": [
    "참고: [기계학습 특강 9주차 tanh](https://seoyeonc.github.io/chch/special%20topics%20in%20machine%20learning/%EC%88%9C%ED%99%98%EC%8B%A0%EA%B2%BD%EB%A7%9D/embedding%20layer/2022/11/02/ml_(9%EC%A3%BC%EC%B0%A8)_10%EC%9B%9431%EC%9D%BC.html)"
   ]
  },
  {
   "cell_type": "code",
   "execution_count": 1,
   "id": "3f9c1f24-cd07-4e1d-aeb3-9323d2f70639",
   "metadata": {},
   "outputs": [],
   "source": [
    "import torch\n",
    "import pandas as pd\n",
    "import matplotlib.pyplot as plt"
   ]
  },
  {
   "cell_type": "code",
   "execution_count": 2,
   "id": "672b967d-7325-4b97-b2ee-9314d046bd6a",
   "metadata": {},
   "outputs": [],
   "source": [
    "tanh = torch.nn.Tanh()"
   ]
  },
  {
   "cell_type": "code",
   "execution_count": 3,
   "id": "b9e81c34-f188-4a5e-bed7-0d798d9245f5",
   "metadata": {},
   "outputs": [
    {
     "data": {
      "text/plain": [
       "Text(0.5, 1.0, 'tanh(x)')"
      ]
     },
     "execution_count": 3,
     "metadata": {},
     "output_type": "execute_result"
    },
    {
     "data": {
      "image/png": "[encoded data removed]",
      "text/plain": [
       "<Figure size 432x288 with 1 Axes>"
      ]
     },
     "metadata": {
      "needs_background": "light"
     },
     "output_type": "display_data"
    }
   ],
   "source": [
    "_x = torch.linspace(-5,5,100)\n",
    "plt.plot(_x,tanh(_x))\n",
    "plt.title(\"tanh(x)\", size=15)"
   ]
  },
  {
   "cell_type": "markdown",
   "id": "52004fa9-58f5-4fa7-b1c9-796131065f17",
   "metadata": {},
   "source": [
    "### 6. $\\tilde{s}_t$를 출력층의 입력으로 사용한다."
   ]
  },
  {
   "cell_type": "markdown",
   "id": "69921c29-a078-456d-8c0f-1d9d4a020e1e",
   "metadata": {},
   "source": [
    "$$\\hat{y}_t = Softmax(W_y \\tilde{s}_t + b_y)$$"
   ]
  },
  {
   "cell_type": "markdown",
   "id": "d74d3dbf-0172-44de-b393-16ae1d494e71",
   "metadata": {},
   "source": [
    "# 다양한 종류의 어텐션"
   ]
  },
  {
   "cell_type": "markdown",
   "id": "096116b2-dee5-4110-84f1-a2f06d536d07",
   "metadata": {},
   "source": [
    "$s_t$는 query, $h_i$는 keys, $W_a$, $W_b$는 학습 가능한 가중치 행렬"
   ]
  },
  {
   "cell_type": "markdown",
   "id": "c17ba1d4-2e0c-4eba-84d5-72d2863a0367",
   "metadata": {},
   "source": [
    "| 이름 | 스코어 함수 | defined by | \n",
    "|---------|:-----|:------|\n",
    "| dot      | $score(s_t,h_i) = s_t^\\top h_i$   |    Luong et al. (2015) |  \n",
    "| scaled dot     | $score(s_t,h_i) = \\frac{s_t^\\top h_i}{\\sqrt{n}}$  |   Vaswani et al. (2017) |  \n",
    "| general       | $score(s_t,h_i) = s_t^\\top W_a h_i$ 단, $W_a$는 학습 가능한 가중치 행렬    | Luong et al. (2015)|  \n",
    "| concat| $score(s_t, h_i) = W_a^\\top tanh(W_b[s_t;h_i]),score(s_t,h_i) = W_a^\\top tanh(W_b s_t + W_c h_i)$| Bahdanau et al. (2015) |  \n",
    "| location-base       | $\\alpha_t = softmax(W_a s_t)$ $\\alpha_t$ 산출 시에 $s_t$만 사용하는 방법    |    Luong et al. (2015) |  "
   ]
  },
  {
   "cell_type": "code",
   "execution_count": null,
   "id": "3e89d82a-c241-42aa-8521-12bc479074e6",
   "metadata": {},
   "outputs": [],
   "source": []
  }
 ],
 "metadata": {
  "kernelspec": {
   "display_name": "Python 3",
   "language": "python",
   "name": "python3"
  },
  "language_info": {
   "codemirror_mode": {
    "name": "ipython",
    "version": 3
   },
   "file_extension": ".py",
   "mimetype": "text/x-python",
   "name": "python",
   "nbconvert_exporter": "python",
   "pygments_lexer": "ipython3",
   "version": "3.8.0"
  }
 },
 "nbformat": 4,
 "nbformat_minor": 5
}
