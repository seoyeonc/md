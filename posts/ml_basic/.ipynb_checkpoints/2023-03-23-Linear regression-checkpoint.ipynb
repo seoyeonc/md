{
 "cells": [
  {
   "cell_type": "raw",
   "id": "4b4795be-e643-4712-8e4c-d7f715e220b7",
   "metadata": {
    "id": "cac470df-29e7-4148-9bbd-d8b9a32fa570",
    "tags": []
   },
   "source": [
    "---\n",
    "title: \"Support Vector Machine\"\n",
    "author: \"SEOYEON CHOI\"\n",
    "date: \"2023-03-25\"\n",
    "categories:\n",
    "  - Machine learning basic\n",
    "---"
   ]
  },
  {
   "cell_type": "markdown",
   "id": "526bb752-3d24-469a-a722-2f40fa0a55d7",
   "metadata": {},
   "source": [
    "> Support Vector Machine"
   ]
  },
  {
   "cell_type": "markdown",
   "id": "be186fbc-188b-4a4d-ba56-a099daa8cce5",
   "metadata": {},
   "source": [
    "- Support Vector Machine은 모델이다."
   ]
  },
  {
   "cell_type": "markdown",
   "id": "0d7a9e12-54e6-449b-817b-0752be621661",
   "metadata": {},
   "source": [
    "# 1. 선형 SVM 분류"
   ]
  },
  {
   "cell_type": "markdown",
   "id": "99bff42e-64a9-43b4-98d7-4c6f1097cf70",
   "metadata": {},
   "source": [
    "- 클래스가 선형으로 분류될 때\n",
    "- 클래스 분류의 경계에 있는 샘플 = 서포트 벡터\n"
   ]
  },
  {
   "cell_type": "markdown",
   "id": "60074991-fd56-4197-bae0-9ba9add76df6",
   "metadata": {},
   "source": [
    "## 1) 소프트 마진 분류"
   ]
  },
  {
   "cell_type": "markdown",
   "id": "1ade0399-fb71-412b-823a-076f034f2efe",
   "metadata": {},
   "source": [
    "- 클래스 분류의 경계에 샘플이 없을 때 하드 마진 분류\n",
    "\n",
    "    - 선형적으로 구분되어야 함\n",
    "    - 이상치에 민감함\n",
    "\n",
    "이 떄 생기는 이상치를 마진 오류로 보는데, 하드 마진 분류"
   ]
  },
  {
   "cell_type": "code",
   "execution_count": null,
   "id": "9061ba40-82da-4d8b-8822-d267d3e59b15",
   "metadata": {},
   "outputs": [],
   "source": []
  }
 ],
 "metadata": {
  "kernelspec": {
   "display_name": "Python 3 (ipykernel)",
   "language": "python",
   "name": "python3"
  },
  "language_info": {
   "codemirror_mode": {
    "name": "ipython",
    "version": 3
   },
   "file_extension": ".py",
   "mimetype": "text/x-python",
   "name": "python",
   "nbconvert_exporter": "python",
   "pygments_lexer": "ipython3",
   "version": "3.8.12"
  }
 },
 "nbformat": 4,
 "nbformat_minor": 5
}
