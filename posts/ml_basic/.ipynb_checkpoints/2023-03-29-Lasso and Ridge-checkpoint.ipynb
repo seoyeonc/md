{
 "cells": [
  {
   "cell_type": "raw",
   "id": "ca48752e-0091-4a7b-b90e-b062c0d7402f",
   "metadata": {
    "id": "cac470df-29e7-4148-9bbd-d8b9a32fa570",
    "tags": []
   },
   "source": [
    "---\n",
    "title: \"Lasso and Ridge\"\n",
    "author: \"SEOYEON CHOI\"\n",
    "date: \"2023-03-29\"\n",
    "categories:\n",
    "  - Machine learning basic\n",
    "---"
   ]
  },
  {
   "cell_type": "markdown",
   "id": "c1cb70e0-899e-4bff-9b89-67c36ee4c0fb",
   "metadata": {},
   "source": [
    "> Lasso and Ridge"
   ]
  },
  {
   "cell_type": "markdown",
   "id": "773b9888-d378-482c-a97a-31dbf867a898",
   "metadata": {},
   "source": [
    "Refernece: [책_The Elements of Statistical Learning](https://hastie.su.domains/Papers/ESLII.pdf)\n",
    "\n",
    "[핸즈 온 머신러닝](https://www.oreilly.com/library/view/hands-on-machine-learning/9781492032632/), [최규빈교수님 통계전산강의노트](https://guebin.github.io/SC2022/) [사이킷런 홈페이지](https://scikit-learn.org/stable/modules/generated/sklearn.decomposition.PCA.html)"
   ]
  },
  {
   "cell_type": "markdown",
   "id": "49a48180-5655-48fb-863b-6faa961b57f2",
   "metadata": {},
   "source": [
    "기본 가정 : $\\bf{y= X\\beta + \\epsilon}$ 의 회귀식이 있을때, $\\bf{\\hat{\\beta} = (X'X)^{-1} X' y}$로 정의할 수 있음.\n",
    "\n",
    "- 의문 : $\\bf{(X'X)^{-1}}$을 구할 수 없을 때는?\n",
    "    - (1) $\\bf{(X'X)^{-1}}$가 full-rank 일 때\n",
    "    - (2) $\\bf{(X'X)^{-1}}$가 full rank 라면 rank = $p$\n",
    "        - $\\to$ $\\bf{(X'X)^{-1}}$가 존재하지 않는다는 의미는 $rank(\\bf{X'X})<p$\n",
    "        - 이유 1) 공선성 때문\n",
    "        - 이유 2) $n<p$, 데이터가 부족할 때 이러한 현상이 발생한다.\n",
    "        \n",
    "해결 방법\n",
    "\n",
    "1. 리지 Ridge\n",
    "\n",
    "- idea : $\\bf{(X'X+\\lambda I)^{-1}}$을 대신 계산한다.\n",
    "\n",
    "2. PCA를 이용하여 $\\bf{(X'X)} = \\Psi \\Lambda \\Psi$로 대신 구함\n",
    "\n",
    "- idea : $\\bf{(X'X)}$ $\\to$ 대칭이고 실수면 $\\to$ 고유 분해 가능\n",
    "- $\\bf{(X'X) = \\Psi \\lambda \\Psi^\\top}$는 $\\bf{(X'X)^{-1} = \\Psi \\lambda^{-1} \\Psi^\\top}$을 의미하니까\n",
    "    - $\\bf{(X'X)(X'X)^{-1}} = I$"
   ]
  },
  {
   "cell_type": "markdown",
   "id": "271b940a-caae-4872-91e3-4750fbc7d683",
   "metadata": {},
   "source": [
    "## 예제)"
   ]
  },
  {
   "cell_type": "markdown",
   "id": "cded2840-f058-4164-9db4-f238d0107d51",
   "metadata": {},
   "source": [
    "$y = \\beta_1 x_{i1} +  \\beta_2 x_{i2} + \\epsilon, \\epsilon \\sim N(0,\\sigma^2)_{idd}$임 모형이 있다고 할 때,\n",
    "\n",
    "원래 모형은 $y = 5 x_{i1} +  600 x_{i2}$이다.\n",
    "\n",
    "이 때, $x_{i3}$이 $x_{i1}$과 거의 $1$의 상관관계를 가지고 있다면? $\\to$ 다중공선성을 가지고 있다면?\n",
    "\n",
    "$\\beta_1 + \\beta_3 = 5$만 된다면 원래 모형에 근사하다고 나올 터, 심지어 음수가 나올 때 조차도.\n",
    "\n",
    "- 다중공선성의 특징\n",
    "    - 추정하는 $\\beta$가 어떤 값인지 거의 예측이 안 된다.\n",
    "        - $\\beta$들의 분산이 크다. (다양한 값 나오고 그러니..)\n",
    "    - $\\beta$는 그래도 더하면 원래 값에 근사함."
   ]
  },
  {
   "cell_type": "markdown",
   "id": "b73efc27-9721-4e61-a47f-327ab6d97863",
   "metadata": {},
   "source": [
    "모두 참이라고 생각되는 모형 $\\to$ 합은 일단 원히던 5임\n",
    "\n",
    "- 조건) 다중공선성 없는 $x_{i2}$는 $y$쪽으로 옮긴 상황. 즉 신경 안 써도 됌\n",
    "\n",
    "1. $\\beta_1=2,\\beta_2=3$\n",
    "2. $\\beta_1=5,\\beta_2=0$\n",
    "3. $\\beta_1=10,\\beta_2=-5$\n",
    "4. $\\beta_1=10000,\\beta_2=-9995$\n",
    "\n",
    "$\\dots$\n",
    "\n",
    "-> 음수 있는 해석 불가한 이상한 모형들 다 가능하겠다. 해석 불가능."
   ]
  },
  {
   "cell_type": "markdown",
   "id": "5bc0362c-3cdc-4197-8cb6-2c11132ca971",
   "metadata": {},
   "source": [
    "## Ridge와 Lasso"
   ]
  },
  {
   "cell_type": "markdown",
   "id": "7a52ec82-b6dd-49ad-9341-162e18598912",
   "metadata": {},
   "source": [
    "$loss = \\sum(y-X_1\\beta_1 - X_2\\beta_2)^2$\n",
    "\n",
    "$loss = (y-XB)^\\top (y-XB) + \\lambda B^\\top B$, $\\bf{\\hat{B} = X'X + \\lambda I}$$\n",
    "\n",
    "- $(X'X)$가 양정치 행렬이라는 조건이 필요하지만, 저절로 만족되어 고려하지 않아도 됌.\n",
    "\n",
    "벌점화를 주자. = 패널티를 주자 $loss + \\lambda(\\beta^2_1 + \\beta^2_2)$\n",
    "\n",
    "1. $\\lambda(2^2 + 3^2)$\n",
    "2. $\\lambda(5^2_)$\n",
    "3. $\\lambda(10^2+(-5)^2)$\n",
    "4. $\\lambda((10000)^2 + (-9995)^2)$"
   ]
  },
  {
   "cell_type": "markdown",
   "id": "c2a658fd-46a0-477f-8639-b617fdc61034",
   "metadata": {},
   "source": [
    "![image](https://miro.medium.com/v2/resize:fit:761/1*nrWncnoJ4V_BkzEf1pd4MA.png)"
   ]
  },
  {
   "cell_type": "markdown",
   "id": "2ef6ca90-f88f-45e6-867b-aa50172dcf66",
   "metadata": {},
   "source": [
    "[Ridge](https://en.wikipedia.org/wiki/Ridge_regression) = L2 norm = Regularization = 정규화\n",
    "\n",
    "- $(\\lambda(\\beta_1^2 +\\beta^2_2)$이니까 원 모형이 나오지\n",
    "    - $(\\lambda(\\beta_1^2 +\\beta^2_2) = k$\n",
    "    - $\\beta_1^2 +\\beta^2_2 = \\frac{k}{\\lambda}$\n",
    "- $\\lambda$ 가 0이면 loss와 ridge 함수가 만나는 면,\n",
    "- $\\lambda$ 가 $\\infty$이면 중심(0,0)에 있을터.\n",
    "\n",
    "[Lasso](https://en.wikipedia.org/wiki/Lasso_(statistics)) = L1Norm\n",
    "\n",
    "- $(\\lambda(|\\beta_1| +|\\beta^2|)$이니까 마름모 모형이 나오지\n",
    "\n",
    "합쳐쓰기도 함 = elastic-net"
   ]
  },
  {
   "cell_type": "code",
   "execution_count": null,
   "id": "eb7e56c0-8590-4b6c-b8ca-3430a36baba2",
   "metadata": {},
   "outputs": [],
   "source": []
  }
 ],
 "metadata": {
  "kernelspec": {
   "display_name": "Python 3 (ipykernel)",
   "language": "python",
   "name": "python3"
  },
  "language_info": {
   "codemirror_mode": {
    "name": "ipython",
    "version": 3
   },
   "file_extension": ".py",
   "mimetype": "text/x-python",
   "name": "python",
   "nbconvert_exporter": "python",
   "pygments_lexer": "ipython3",
   "version": "3.8.12"
  }
 },
 "nbformat": 4,
 "nbformat_minor": 5
}
