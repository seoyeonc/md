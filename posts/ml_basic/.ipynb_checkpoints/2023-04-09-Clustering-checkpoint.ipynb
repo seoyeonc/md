{
 "cells": [
  {
   "cell_type": "raw",
   "id": "2a70f647-7cc0-4a28-b4c4-bb1fd4b1ba3f",
   "metadata": {
    "id": "cac470df-29e7-4148-9bbd-d8b9a32fa570",
    "tags": []
   },
   "source": [
    "---\n",
    "title: \"Clustering\"\n",
    "author: \"SEOYEON CHOI\"\n",
    "date: \"2023-04-09\"\n",
    "categories:\n",
    "  - Machine learning basic\n",
    "  - 비지도학습\n",
    "---"
   ]
  },
  {
   "cell_type": "markdown",
   "id": "78ae84d3-cd0d-4a88-8c95-84ff34cc2c69",
   "metadata": {},
   "source": [
    "> Clustering"
   ]
  },
  {
   "cell_type": "markdown",
   "id": "65c8b646-7ed7-490c-9fb5-9ee57bae9c8f",
   "metadata": {},
   "source": [
    "Reference: [Pattern](https://darmanto.akakom.ac.id/pengenalanpola/Pattern%20Recognition%204th%20Ed.%20(2009).pdf)"
   ]
  },
  {
   "cell_type": "markdown",
   "id": "557cb7f5-1842-48dd-966f-b35f3bfa445b",
   "metadata": {},
   "source": [
    "경성 군집화 hard clustering = 한 셈플이 하나의 군집에 속하도록 강제하는 방식\n",
    "\n",
    "연성 군집화 soft clustering = 샘플마다 군집에 속하는 정도를 다르게 할 수 있음"
   ]
  },
  {
   "cell_type": "markdown",
   "id": "f6a1479a-302b-4a03-bb8d-3f8916076b3c",
   "metadata": {},
   "source": [
    "# k-평균 알고리즘"
   ]
  },
  {
   "cell_type": "markdown",
   "id": "ca39f315-87e7-45c4-a8cc-951396faf695",
   "metadata": {},
   "source": [
    "입력: 훈련집합 $X = \\{x_1,x_2,\\dots,x_n\\}$ 군집의 개수 k\n",
    "\n",
    "출력: 군집집합 $C = \\{c_1,c_2,\\dots,c_k\\}$\n",
    "\n",
    "k개의 군집 중심 $Z = \\{z_1,z_2,\\dots,z_n\\}$를 초기화한다.\n",
    "\n",
    "```python\n",
    "while (true)\n",
    "\n",
    "    for (i=1 to n)\n",
    "```    "
   ]
  },
  {
   "cell_type": "markdown",
   "id": "75c1ad91-8bc9-434d-8a3c-83c14dfc842a",
   "metadata": {},
   "source": [
    "$x_i$를 가장 가까운 군집 중심에 배정한다."
   ]
  },
  {
   "cell_type": "markdown",
   "id": "c50ac05c-01c8-418f-807d-fe4781c43f4e",
   "metadata": {},
   "source": [
    "```python        \n",
    "    if (위에서 이루어진 배정이 이전 루프에서의 배정과 같으면) break\n",
    "   \n",
    "    for (j=1 to k)\n",
    "```            "
   ]
  },
  {
   "cell_type": "markdown",
   "id": "5d3bd59b-c27f-4770-9b8f-9623c7d2ee8e",
   "metadata": {},
   "source": [
    "$z_j$에 배정된 샘플의 평균으로 $z_j$를 대치한다."
   ]
  },
  {
   "cell_type": "markdown",
   "id": "f6f846a6-8359-4d13-be85-7672e863a0b1",
   "metadata": {},
   "source": [
    "```python        \n",
    "for (j=1 to k)\n",
    "```\n",
    "\n"
   ]
  },
  {
   "cell_type": "markdown",
   "id": "813272da-f77d-4cd8-973c-c9b2c896f61a",
   "metadata": {},
   "source": [
    "$z_j$에 배정된 샘플을 $c_j$에 대입한다."
   ]
  },
  {
   "cell_type": "markdown",
   "id": "863af282-7069-4291-9de6-8219b4681c90",
   "metadata": {},
   "source": [
    "or"
   ]
  },
  {
   "cell_type": "markdown",
   "id": "6e13054e-e07a-43d5-96aa-6048251822d4",
   "metadata": {},
   "source": [
    "1. 데이터 포인트 중 적당한 점을 집단 개수만큼 선택해 중심으로 정함\n",
    "2. 데이터 포인트와 각 중심 사이의 거리를 계산해 가장 가까운 중심을 해당 데이터 포인트가 속한 집단으로 정함\n",
    "3. 집단마다 데이터 포인트의 평균을 계산하고 이를 새로운 중심으로 정함\n",
    "4. 데이터 포인트 모두가 속한 집단이 변하지 않거나 더는 계산할 수 없을 때까지 과정 2,3을 반복함"
   ]
  },
  {
   "cell_type": "markdown",
   "id": "312621a6-9b4c-43f1-b26a-89e234cfa821",
   "metadata": {},
   "source": [
    "## 최적화 문제로 해석"
   ]
  },
  {
   "cell_type": "markdown",
   "id": "457a1bae-9895-45bd-8803-ce47ad282f07",
   "metadata": {},
   "source": [
    "k평균은 직관에 기초한 휴리스틱한 알고리즘으로 보이는데, 이면에는 이론적인 토대를 갖추고 있다.\n",
    "\n",
    "k평균의 목적함수\n",
    "\n",
    "$J(Z,A) = \\sum^n_{i=1} \\sum^k_{j=1} a_{ji} dist(x_i, z_j)$\n",
    "\n",
    "Z는 군집 중심으로 A는 샘플의 배정 정보를 나타내는 k*n 행렬이다. i번째 샘플이 j번째 군집에 배정되었다면 $a_{ji}$는 1이고, 그렇지 않으면 0이다.\n",
    "\n",
    "k-평균은 최적화 문제를 푸는 알고리즘으로 볼 수 있다.\n",
    "\n",
    "- 루프를 반복하면서 목적함수의 값이 작아지는 방향으로 해를 갱신한다. \n",
    "- 어떤 초기 군집 중심을 가지고 출발하더라도 수렴한다는 것은 증명되었으나\n",
    "- 초기 군집 중심이 달라지면 최종 결과가 달라지는 문제가 있다."
   ]
  },
  {
   "cell_type": "markdown",
   "id": "0cd42306-9407-4b24-806e-7bd9edd8da56",
   "metadata": {},
   "source": [
    "## EM 기초"
   ]
  },
  {
   "cell_type": "markdown",
   "id": "a83a938c-8c07-43fc-82c7-5b74e70b6673",
   "metadata": {},
   "source": [
    "Z는 입출력단계에서 보이지 않는 은닉변수 latent variable\n",
    "\n",
    "EM 알고리즘 Expectation Maximazation algorithm\n",
    "\n",
    "E단계\n",
    "\n",
    "- 은닉변수를 추정하는 단계\n",
    "\n",
    "M단계\n",
    "\n",
    "- 매개변수를 추정하는 단계"
   ]
  },
  {
   "cell_type": "markdown",
   "id": "8fcf04c9-c3b5-478f-816c-3b96fd84fe26",
   "metadata": {},
   "source": [
    "## 친밀도 전파 알고리즘"
   ]
  },
  {
   "cell_type": "markdown",
   "id": "abea193b-4b7d-4f64-99d4-99f09fee1edc",
   "metadata": {},
   "source": [
    "소셜네트워크 자료에서 사용?"
   ]
  },
  {
   "cell_type": "markdown",
   "id": "193134cb-5c00-413c-ab18-5373de2f1ace",
   "metadata": {},
   "source": [
    "## 커널 클러스터링"
   ]
  },
  {
   "cell_type": "markdown",
   "id": "0a65649e-d6d2-4eca-af55-d47fae5d410a",
   "metadata": {},
   "source": [
    "유클리드 거리로 표현되는 거리를 내적으로 표현해서 커널로 보내어 비선형으로 분리한 클러스터링 결과 얻기\n",
    "\n",
    "초기값의 영향을 많이 받아 결과가 바뀌기도"
   ]
  },
  {
   "cell_type": "markdown",
   "id": "754a7603-5fa8-4b85-a77f-f98764034966",
   "metadata": {},
   "source": [
    "## 스펙트럴 클러스터링"
   ]
  },
  {
   "cell_type": "markdown",
   "id": "be38ed57-1aa4-454a-9590-44edab0fff1c",
   "metadata": {},
   "source": [
    "차원축소를 통래 초기값에 대한 의존성을 줄이려는 시도"
   ]
  },
  {
   "cell_type": "markdown",
   "id": "4923dd52-8f12-49ff-9509-1fb97dc535de",
   "metadata": {},
   "source": [
    "## 파라미터의 자동 결정"
   ]
  },
  {
   "cell_type": "markdown",
   "id": "672e53bd-22e1-4643-bfd3-3911705a6c5b",
   "metadata": {},
   "source": [
    "직접 초기값 입력하면 거기에 의존하여 결과가 바뀌기도 하니 객관적으로 결정되게끔 파라미터 선택되게 하는 기법\n",
    "\n",
    "제곱 손실 상호정보량mutual information 사용 상호정보량보다 이상값에 민감하게 반응하지 않는디."
   ]
  },
  {
   "cell_type": "code",
   "execution_count": null,
   "id": "9293165a-88cc-4dcb-aa22-8803d3b3e1e2",
   "metadata": {},
   "outputs": [],
   "source": []
  }
 ],
 "metadata": {
  "kernelspec": {
   "display_name": "Python 3 (ipykernel)",
   "language": "python",
   "name": "python3"
  },
  "language_info": {
   "codemirror_mode": {
    "name": "ipython",
    "version": 3
   },
   "file_extension": ".py",
   "mimetype": "text/x-python",
   "name": "python",
   "nbconvert_exporter": "python",
   "pygments_lexer": "ipython3",
   "version": "3.8.12"
  }
 },
 "nbformat": 4,
 "nbformat_minor": 5
}
