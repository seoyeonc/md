{
 "cells": [
  {
   "cell_type": "raw",
   "id": "a2bf6400-49c5-4e4f-ac27-0c0bc902910f",
   "metadata": {
    "id": "cac470df-29e7-4148-9bbd-d8b9a32fa570",
    "tags": []
   },
   "source": [
    "---\n",
    "title: \"Lasso and Ridge\"\n",
    "author: \"GUEBINCHOI\"\n",
    "date: \"2021-03-31\"\n",
    "categories:\n",
    "  - Machine learning basic\n",
    "  - 능형회귀\n",
    "---"
   ]
  },
  {
   "cell_type": "markdown",
   "id": "140cf06f-be18-4dcc-bd82-48d18d207ba9",
   "metadata": {},
   "source": [
    "> Lasso and Ridge"
   ]
  },
  {
   "cell_type": "markdown",
   "id": "320ff696",
   "metadata": {
    "id": "320ff696",
    "tags": []
   },
   "source": [
    "# 능형회귀"
   ]
  },
  {
   "cell_type": "markdown",
   "id": "16a8fb4c",
   "metadata": {
    "id": "16a8fb4c"
   },
   "source": [
    "### 다중공선성이 $\\hat{\\beta}$에 대한 분산과 공분산을 모두 크게한다. "
   ]
  },
  {
   "cell_type": "markdown",
   "id": "a30214cb",
   "metadata": {
    "id": "a30214cb"
   },
   "source": [
    "ref: Montgomery, D. C., Peck, E. A., \\& Vining, G. G. (2021). Introduction to linear regression analysis. John Wiley & Sons."
   ]
  },
  {
   "cell_type": "markdown",
   "id": "a0271070",
   "metadata": {
    "id": "a0271070"
   },
   "source": [
    "아래와 같이 2개의 regressor가 존재하는 모형을 생각하자. "
   ]
  },
  {
   "cell_type": "markdown",
   "id": "d227627b",
   "metadata": {
    "id": "d227627b"
   },
   "source": [
    "$y_i=\\beta_0+\\beta_1x_{i1}+\\beta_2 x_{i2}+\\epsilon_i, \\quad \\epsilon_i ~ \\sim iid N(0,\\sigma^2)$"
   ]
  },
  {
   "cell_type": "markdown",
   "id": "74973726",
   "metadata": {
    "id": "74973726"
   },
   "source": [
    "편의상 아래를 가정하자. "
   ]
  },
  {
   "cell_type": "markdown",
   "id": "5ebc2d74",
   "metadata": {
    "id": "5ebc2d74"
   },
   "source": [
    "$s_y^2=\\sum_{i=1}^{n}(y_i-\\bar{y})^2=1$\n",
    "\n",
    "$s_1^2=\\sum_{i=1}^{n}(x_{i1}-\\bar{x}_1)^2=1$\n",
    "\n",
    "$s_2^2=\\sum_{i=1}^{n}(x_{i2}-\\bar{x}_2)^2=1$"
   ]
  },
  {
   "cell_type": "markdown",
   "id": "78e0f856",
   "metadata": {
    "id": "78e0f856"
   },
   "source": [
    "최소제곱추정법으로 $\\hat{\\beta}_1$, $\\hat{\\beta}_2$를 구하면 아래와 같다. "
   ]
  },
  {
   "cell_type": "markdown",
   "id": "c1afd7ac",
   "metadata": {
    "id": "c1afd7ac"
   },
   "source": [
    "$\\hat{\\beta_1}=\\frac{r_{1y}-r_{12}r_{2y}}{1-r_{12}^2}$."
   ]
  },
  {
   "cell_type": "markdown",
   "id": "42c47748",
   "metadata": {
    "id": "42c47748"
   },
   "source": [
    "$\\hat{\\beta_2}=\\frac{r_{2y}-r_{12}r_{1y}}{1-r_{12}^2}$."
   ]
  },
  {
   "cell_type": "markdown",
   "id": "fa9e022b",
   "metadata": {
    "id": "fa9e022b"
   },
   "source": [
    "단, \n",
    "\n",
    "$r_{1y}=\\frac{s_{1y}}{\\sqrt{s_1^2s_y^2}}=s_{1y}$, $\\quad s_{1y}=\\sum_{i=1}^{n}(y_i-\\bar{y})(x_{i1}-\\bar{x}_1)$\n",
    "\n",
    "$r_{2y}=\\frac{s_{2y}}{\\sqrt{s_2^2s_y^2}}=s_{2y}$, $\\quad s_{2y}=\\sum_{i=1}^{n}(y_i-\\bar{y})(x_{i2}-\\bar{x}_2)$\n",
    "\n",
    "$r_{12}=\\frac{s_{12}}{\\sqrt{s_1^2s_2^2}}=s_{12}$. $\\quad s_{12}=\\sum_{i=1}^{n}(x_{i1}-\\bar{x}_1)(x_{i2}-\\bar{x}_2)$"
   ]
  },
  {
   "cell_type": "markdown",
   "id": "f4d90df3",
   "metadata": {
    "id": "f4d90df3"
   },
   "source": [
    "(관찰1)"
   ]
  },
  {
   "cell_type": "markdown",
   "id": "d151f0a9",
   "metadata": {
    "id": "d151f0a9"
   },
   "source": [
    "만약에 $x_1$과 $x_2$사이에 강한 선형관계가 있다면 $r_{12}\\approx 1$ or $r_{12}\\approx -1$"
   ]
  },
  {
   "cell_type": "markdown",
   "id": "7567d411",
   "metadata": {
    "id": "7567d411"
   },
   "source": [
    "$\\hat{\\beta}_1$의 분모 = $1-r_{12}^2 \\approx 0$"
   ]
  },
  {
   "cell_type": "markdown",
   "id": "495c83fe",
   "metadata": {
    "id": "495c83fe"
   },
   "source": [
    "$\\hat{\\beta}_1$의 분자 $\\approx 0$"
   ]
  },
  {
   "cell_type": "markdown",
   "id": "0b76ca35",
   "metadata": {
    "id": "0b76ca35"
   },
   "source": [
    "$\\to$ $\\hat{\\beta}_1$와 $\\hat{\\beta}_2$의 값이 불안정할것 같다. "
   ]
  },
  {
   "cell_type": "markdown",
   "id": "728c21b7",
   "metadata": {
    "id": "728c21b7"
   },
   "source": [
    "(관찰2)"
   ]
  },
  {
   "cell_type": "markdown",
   "id": "3c851c34",
   "metadata": {
    "id": "3c851c34"
   },
   "source": [
    "$\\hat{\\beta}_1$, $\\hat{\\beta}_2$의 분산과 공분산을 구해보자. "
   ]
  },
  {
   "cell_type": "markdown",
   "id": "0596cb2d",
   "metadata": {
    "id": "0596cb2d"
   },
   "source": [
    "$\\mbox{V}(\\hat{\\beta_1})=\\frac{1}{1-r_{12}^2}\\sigma^2$"
   ]
  },
  {
   "cell_type": "markdown",
   "id": "df22ae19",
   "metadata": {
    "id": "df22ae19"
   },
   "source": [
    "$\\mbox{V}(\\hat{\\beta_2})=\\frac{1}{1-r_{12}^2}\\sigma^2$"
   ]
  },
  {
   "cell_type": "markdown",
   "id": "cec3be1c",
   "metadata": {
    "id": "cec3be1c"
   },
   "source": [
    "$\\mbox{cov}\\big(\\hat{\\beta}_1,\\hat{\\beta}_2\\big)=\\frac{-r_{12}}{1-r_{12}^2}\\sigma^2$"
   ]
  },
  {
   "cell_type": "markdown",
   "id": "d4c100fd",
   "metadata": {
    "id": "d4c100fd"
   },
   "source": [
    "(관찰3)"
   ]
  },
  {
   "cell_type": "markdown",
   "id": "2c86157f",
   "metadata": {
    "id": "2c86157f"
   },
   "source": [
    "$\\mbox{cor}\\big(\\hat{\\beta}_1,\\hat{\\beta}_2\\big)=-r_{12}$ "
   ]
  },
  {
   "cell_type": "code",
   "execution_count": 1,
   "id": "95a7fb8b",
   "metadata": {
    "id": "95a7fb8b"
   },
   "outputs": [],
   "source": [
    "import rpy2 \n",
    "%load_ext rpy2.ipython"
   ]
  },
  {
   "cell_type": "code",
   "execution_count": 2,
   "id": "6a46a5e9",
   "metadata": {
    "id": "6a46a5e9"
   },
   "outputs": [],
   "source": [
    "%%R \n",
    "set.seed(999)\n",
    "n<-20000\n",
    "toeic<-750+rnorm(n,sd=80)\n",
    "toeic[toeic>990]<-990\n",
    "toeic<-round(toeic)\n",
    "teps<-toeic + rnorm(n,sd=0.01)\n",
    "gpa<-3.5+rnorm(n,sd=0.3)\n",
    "gpa[gpa>4.5]<-4.5 \n",
    "gpa<-round(gpa,1)\n",
    "sal<-gpa*600+toeic*5+rnorm(n,sd=300)\n",
    "sal<-round(sal)"
   ]
  },
  {
   "cell_type": "code",
   "execution_count": 3,
   "id": "13ebb202",
   "metadata": {
    "id": "13ebb202",
    "outputId": "f3c3649a-a66f-4eb9-f551-d4d36c145e08"
   },
   "outputs": [
    {
     "name": "stdout",
     "output_type": "stream",
     "text": [
      "[1] 1\n"
     ]
    }
   ],
   "source": [
    "%%R \n",
    "cor(toeic,teps)"
   ]
  },
  {
   "cell_type": "markdown",
   "id": "0c44eaa1",
   "metadata": {
    "id": "0c44eaa1"
   },
   "source": [
    "(직관) \n",
    "\n",
    "토익이나 텝스점수나 그게 그거이다. (강한 상관관계)"
   ]
  },
  {
   "cell_type": "markdown",
   "id": "ac6a3a63",
   "metadata": {
    "id": "ac6a3a63"
   },
   "source": [
    "원래모형은 `연봉=학점*600+토익*5+오차`인데, 토익이나 텝스나 그게 그거이므로, 아래와 같은 모형들도 거의 참모형이라고 생각할 수 있다. \n",
    "\n",
    "(1) `연봉=학점*600+토익*2+텝스*3+오차`\n",
    "\n",
    "(2) `연봉=학점*600+토익*1+텝스*4+오차`\n",
    "\n",
    "(3) `연봉=학점*600+토익*(-5)+텝스*10+오차`\n",
    "\n",
    "(4) `연봉=학점*600+토익*(-1000)+텝스*(1005)+오차`\n",
    "\n",
    "(5) `연봉=학점*600+토익*(-10000)+텝스*(10005)+오차`\n",
    "\n",
    "..."
   ]
  },
  {
   "cell_type": "markdown",
   "id": "b55a0853",
   "metadata": {
    "id": "b55a0853"
   },
   "source": [
    "결국에는 토익의 계수와 텝스의 계수를 더해서 5만되면 참모형"
   ]
  },
  {
   "cell_type": "code",
   "execution_count": 4,
   "id": "b03bb2af",
   "metadata": {
    "id": "b03bb2af",
    "outputId": "842044a2-0c1b-4831-db33-7d557ac34971"
   },
   "outputs": [
    {
     "name": "stdout",
     "output_type": "stream",
     "text": [
      "\n",
      "Call:\n",
      "lm(formula = sal ~ toeic + teps + gpa)\n",
      "\n",
      "Coefficients:\n",
      "(Intercept)        toeic         teps          gpa  \n",
      "      50.38       194.70      -189.72       590.53  \n",
      "\n"
     ]
    }
   ],
   "source": [
    "%%R \n",
    "lm1<-lm(sal~toeic+teps+gpa)\n",
    "lm1"
   ]
  },
  {
   "cell_type": "markdown",
   "id": "836941f4",
   "metadata": {
    "id": "836941f4"
   },
   "source": [
    "토익의 계수는 194.70, 텝스의 계수는 -189.72 로 추정되었다. 두개더하면 대략 5.  "
   ]
  },
  {
   "cell_type": "markdown",
   "id": "6b891ca2",
   "metadata": {
    "id": "6b891ca2"
   },
   "source": [
    "몇번 더 시도를 해보자. "
   ]
  },
  {
   "cell_type": "markdown",
   "id": "f7f173b6",
   "metadata": {
    "id": "f7f173b6"
   },
   "source": [
    "(시도2)"
   ]
  },
  {
   "cell_type": "code",
   "execution_count": 5,
   "id": "4303100e",
   "metadata": {
    "id": "4303100e"
   },
   "outputs": [],
   "source": [
    "%%R \n",
    "set.seed(1)\n",
    "n<-20000\n",
    "toeic<-750+rnorm(n,sd=80)\n",
    "toeic[toeic>990]<-990\n",
    "toeic<-round(toeic)\n",
    "teps<-toeic + rnorm(n,sd=0.01)\n",
    "gpa<-3.5+rnorm(n,sd=0.3)\n",
    "gpa[gpa>4.5]<-4.5 \n",
    "gpa<-round(gpa,1)\n",
    "sal<-gpa*600+toeic*5+rnorm(n,sd=300)\n",
    "sal<-round(sal)"
   ]
  },
  {
   "cell_type": "code",
   "execution_count": 6,
   "id": "dafd7e78",
   "metadata": {
    "id": "dafd7e78",
    "outputId": "718c30e3-e5f2-4ee3-b30c-6b7a1ca5cede"
   },
   "outputs": [
    {
     "name": "stdout",
     "output_type": "stream",
     "text": [
      "\n",
      "Call:\n",
      "lm(formula = sal ~ toeic + teps + gpa)\n",
      "\n",
      "Coefficients:\n",
      "(Intercept)        toeic         teps          gpa  \n",
      "     -45.82       -64.47        69.50       606.31  \n",
      "\n"
     ]
    }
   ],
   "source": [
    "%%R \n",
    "lm1<-lm(sal~toeic+teps+gpa)\n",
    "lm1"
   ]
  },
  {
   "cell_type": "markdown",
   "id": "41e62330",
   "metadata": {
    "id": "41e62330"
   },
   "source": [
    "이번에는 토익의 계수는 -64.49, 텝스의 계수는 69.50 두개 더하면 대충 5"
   ]
  },
  {
   "cell_type": "markdown",
   "id": "b6edcc62",
   "metadata": {
    "id": "b6edcc62"
   },
   "source": [
    "(시도3)"
   ]
  },
  {
   "cell_type": "code",
   "execution_count": 7,
   "id": "9a4d2091",
   "metadata": {
    "id": "9a4d2091"
   },
   "outputs": [],
   "source": [
    "%%R \n",
    "set.seed(2)\n",
    "n<-20000\n",
    "toeic<-750+rnorm(n,sd=80)\n",
    "toeic[toeic>990]<-990\n",
    "toeic<-round(toeic)\n",
    "teps<-toeic + rnorm(n,sd=0.01)\n",
    "gpa<-3.5+rnorm(n,sd=0.3)\n",
    "gpa[gpa>4.5]<-4.5 \n",
    "gpa<-round(gpa,1)\n",
    "sal<-gpa*600+toeic*5+rnorm(n,sd=300)\n",
    "sal<-round(sal)"
   ]
  },
  {
   "cell_type": "code",
   "execution_count": 8,
   "id": "6abb43fc",
   "metadata": {
    "id": "6abb43fc",
    "outputId": "021c1d59-66d2-4246-daeb-8846ec96fff7"
   },
   "outputs": [
    {
     "name": "stdout",
     "output_type": "stream",
     "text": [
      "\n",
      "Call:\n",
      "lm(formula = sal ~ toeic + teps + gpa)\n",
      "\n",
      "Coefficients:\n",
      "(Intercept)        toeic         teps          gpa  \n",
      "      19.54       217.27      -212.31       603.10  \n",
      "\n"
     ]
    }
   ],
   "source": [
    "%%R \n",
    "lm1<-lm(sal~toeic+teps+gpa)\n",
    "lm1"
   ]
  },
  {
   "cell_type": "markdown",
   "id": "a7ad10c9",
   "metadata": {
    "id": "a7ad10c9"
   },
   "source": [
    "토익의 계수는 217.27, 텝스의 계수는 -212.31 두개더하면 대충 5"
   ]
  },
  {
   "cell_type": "markdown",
   "id": "63e45cb0",
   "metadata": {
    "id": "63e45cb0"
   },
   "source": [
    "(시도4)"
   ]
  },
  {
   "cell_type": "code",
   "execution_count": 9,
   "id": "a6bc29f4",
   "metadata": {
    "id": "a6bc29f4"
   },
   "outputs": [],
   "source": [
    "%%R \n",
    "set.seed(3)\n",
    "n<-20000\n",
    "toeic<-750+rnorm(n,sd=80)\n",
    "toeic[toeic>990]<-990\n",
    "toeic<-round(toeic)\n",
    "teps<-toeic + rnorm(n,sd=0.01)\n",
    "gpa<-3.5+rnorm(n,sd=0.3)\n",
    "gpa[gpa>4.5]<-4.5 \n",
    "gpa<-round(gpa,1)\n",
    "sal<-gpa*600+toeic*5+rnorm(n,sd=300)\n",
    "sal<-round(sal)"
   ]
  },
  {
   "cell_type": "code",
   "execution_count": 10,
   "id": "76862661",
   "metadata": {
    "id": "76862661",
    "outputId": "2fec3205-cc4d-445c-df9c-02a96a26cda7"
   },
   "outputs": [
    {
     "name": "stdout",
     "output_type": "stream",
     "text": [
      "\n",
      "Call:\n",
      "lm(formula = sal ~ toeic + teps + gpa)\n",
      "\n",
      "Coefficients:\n",
      "(Intercept)        toeic         teps          gpa  \n",
      "     -32.02      -152.82       157.85       600.85  \n",
      "\n"
     ]
    }
   ],
   "source": [
    "%%R \n",
    "lm1<-lm(sal~toeic+teps+gpa)\n",
    "lm1"
   ]
  },
  {
   "cell_type": "markdown",
   "id": "ba1d78fe",
   "metadata": {
    "id": "ba1d78fe"
   },
   "source": [
    "토익의 계수는 -152.82, 텝스의 계수는 157.85 두개더하면 대충 5. "
   ]
  },
  {
   "cell_type": "markdown",
   "id": "90e24cee",
   "metadata": {
    "id": "90e24cee"
   },
   "source": [
    "*[다중공선성의 특징]*"
   ]
  },
  {
   "cell_type": "markdown",
   "id": "79d88d1e",
   "metadata": {
    "id": "79d88d1e"
   },
   "source": [
    "(1) 추정하는 $\\hat{\\beta_1}$, $\\hat{\\beta_2}$가 어떤값일지 거의 예측안된다. \n",
    "- 5근처의 값이 나올때도 있고, 30근처의 값이 나오기도 하고, 100근처의 값이 나오기도 한다. \n",
    "- $\\hat{\\beta}_1$, $\\hat{\\beta}_2$의 분산이 크다. "
   ]
  },
  {
   "cell_type": "markdown",
   "id": "8e9846af",
   "metadata": {
    "id": "8e9846af"
   },
   "source": [
    "(2) 그래도 $\\hat{\\beta}_1+\\hat{\\beta}_2\\approx 5$라는 공통점은 있음.  "
   ]
  },
  {
   "cell_type": "markdown",
   "id": "b90651e6",
   "metadata": {
    "id": "b90651e6"
   },
   "source": [
    "### 수식적으로 그럴듯해 보여도, 모두 바람직한 모형은 아니다. "
   ]
  },
  {
   "cell_type": "markdown",
   "id": "0eb04a19",
   "metadata": {
    "id": "0eb04a19"
   },
   "source": [
    "아래는 모두 참모형이라고 생각되어지는 상황이다. \n",
    "\n",
    "(1) $\\hat{\\beta}_1=2$, $\\hat{\\beta}_2=3$\n",
    "\n",
    "(2) $\\hat{\\beta}_1=5$, $\\hat{\\beta}_2=0$\n",
    "\n",
    "(3) $\\hat{\\beta}_1=10$, $\\hat{\\beta}_2=-5$"
   ]
  },
  {
   "cell_type": "markdown",
   "id": "ed374421",
   "metadata": {
    "id": "ed374421"
   },
   "source": [
    "모두 참모형에 가깝지만 상식적으로 (3)은 용납할 수 잆음. "
   ]
  },
  {
   "cell_type": "markdown",
   "id": "a35a122a",
   "metadata": {
    "id": "a35a122a"
   },
   "source": [
    "이유1: (3)번과 같은 형태를 허용하면 $\\hat{\\beta}_1=10000, ~ \\hat{\\beta}_2=-9995$ 와 같은식으로도 만들수 있음. "
   ]
  },
  {
   "cell_type": "markdown",
   "id": "20e141c6",
   "metadata": {
    "id": "20e141c6"
   },
   "source": [
    "이유2: (해석불가능한 모델)"
   ]
  },
  {
   "cell_type": "markdown",
   "id": "d40118fe",
   "metadata": {
    "id": "d40118fe"
   },
   "source": [
    "$\\hat{\\beta}_2$가 의미하는 것은 텝스점수가 얼마나 연봉에 영향을 주는지이다. "
   ]
  },
  {
   "cell_type": "markdown",
   "id": "25ee210b",
   "metadata": {
    "id": "25ee210b"
   },
   "source": [
    "즉 텝스점수 1점을 올리면 연봉이 5만원 깍임. "
   ]
  },
  {
   "cell_type": "markdown",
   "id": "e5531e68",
   "metadata": {
    "id": "e5531e68"
   },
   "source": [
    "상식적으로 말이 안된다. "
   ]
  },
  {
   "cell_type": "markdown",
   "id": "215de518",
   "metadata": {
    "id": "215de518"
   },
   "source": [
    "### 해결책 "
   ]
  },
  {
   "cell_type": "markdown",
   "id": "144285d9",
   "metadata": {
    "id": "144285d9"
   },
   "source": [
    "논의를 간단하게 하기 위해서 모형을 좀 더 단순화 하자."
   ]
  },
  {
   "cell_type": "markdown",
   "id": "286e6dd9",
   "metadata": {
    "id": "286e6dd9"
   },
   "source": [
    "`gpa`에 대응하는 계수 600을 우리가 이미 알고있다고 가정하자. (혹은 적절하게 추정했다고 가정하자.)"
   ]
  },
  {
   "cell_type": "markdown",
   "id": "24df224e",
   "metadata": {
    "id": "24df224e"
   },
   "source": [
    "그리고 오로지 연봉을 토익과 텝스만으로 추정한다고 하자."
   ]
  },
  {
   "cell_type": "markdown",
   "id": "41cbaceb",
   "metadata": {
    "id": "41cbaceb"
   },
   "source": [
    "단순화된 모형은"
   ]
  },
  {
   "cell_type": "markdown",
   "id": "24bc2f2b",
   "metadata": {
    "id": "24bc2f2b"
   },
   "source": [
    "`sal-600*gpa = toeic * β1 + teps * β2`"
   ]
  },
  {
   "cell_type": "markdown",
   "id": "9fb637b4",
   "metadata": {
    "id": "9fb637b4"
   },
   "source": [
    "이제 아래와 같이 계수를 추정하였을 경우"
   ]
  },
  {
   "cell_type": "markdown",
   "id": "07608d8d",
   "metadata": {
    "id": "07608d8d"
   },
   "source": [
    "(1) $\\hat{\\beta}_1=2$, $\\hat{\\beta}_2=3$\n",
    "\n",
    "(2) $\\hat{\\beta}_1=5$, $\\hat{\\beta}_2=0$ \n",
    "\n",
    "(3) $\\hat{\\beta}_1=10$, $\\hat{\\beta}_2=-5$"
   ]
  },
  {
   "cell_type": "markdown",
   "id": "eb61db32",
   "metadata": {
    "id": "eb61db32"
   },
   "source": [
    "(3)과 같은 상황이 발생하지 않도록 하여보자. "
   ]
  },
  {
   "cell_type": "code",
   "execution_count": 11,
   "id": "b55636a6",
   "metadata": {
    "id": "b55636a6"
   },
   "outputs": [],
   "source": [
    "%%R \n",
    "set.seed(2)\n",
    "n<-20000\n",
    "toeic<-750+rnorm(n,sd=80)\n",
    "toeic[toeic>990]<-990\n",
    "toeic<-round(toeic)\n",
    "teps<-toeic + rnorm(n,sd=0.01)\n",
    "gpa<-3.5+rnorm(n,sd=0.3)\n",
    "gpa[gpa>4.5]<-4.5 \n",
    "gpa<-round(gpa,1)\n",
    "sal<-gpa*600+toeic*5+rnorm(n,sd=300)\n",
    "sal<-round(sal)"
   ]
  },
  {
   "cell_type": "code",
   "execution_count": 12,
   "id": "b6ac240e",
   "metadata": {
    "id": "b6ac240e",
    "outputId": "89475b6f-6062-4016-c8b2-22c5c5e43292"
   },
   "outputs": [
    {
     "name": "stdout",
     "output_type": "stream",
     "text": [
      "\n",
      "Call:\n",
      "lm(formula = y ~ toeic + teps - 1)\n",
      "\n",
      "Coefficients:\n",
      " toeic    teps  \n",
      " 216.9  -211.9  \n",
      "\n"
     ]
    }
   ],
   "source": [
    "%%R\n",
    "y<-sal-600*gpa\n",
    "lm(y~toeic+teps-1)"
   ]
  },
  {
   "cell_type": "markdown",
   "id": "a09f687f",
   "metadata": {
    "id": "a09f687f"
   },
   "source": [
    "$\\hat{\\beta}_1=216.9$"
   ]
  },
  {
   "cell_type": "markdown",
   "id": "86cea545",
   "metadata": {
    "id": "86cea545"
   },
   "source": [
    "$\\hat{\\beta}_2=-211.9$"
   ]
  },
  {
   "cell_type": "markdown",
   "id": "91e2ee9a",
   "metadata": {
    "id": "91e2ee9a"
   },
   "source": [
    "위의 결과는 $L(\\beta)$를 최소화하는 $\\beta$를 구한 결과임 "
   ]
  },
  {
   "cell_type": "code",
   "execution_count": 13,
   "id": "1532f570",
   "metadata": {
    "id": "1532f570"
   },
   "outputs": [],
   "source": [
    "%%R \n",
    "X<-cbind(toeic,teps)\n",
    "L<-function(beta){\n",
    "    t(y-X%*%beta)%*%(y-X%*%beta)\n",
    "}"
   ]
  },
  {
   "cell_type": "code",
   "execution_count": 14,
   "id": "f8bbb59e",
   "metadata": {
    "id": "f8bbb59e"
   },
   "outputs": [],
   "source": [
    "%%R\n",
    "beta<-c(216.9,-211.9)\n",
    "c<-L(beta)"
   ]
  },
  {
   "cell_type": "markdown",
   "id": "3ca2e018",
   "metadata": {
    "id": "3ca2e018"
   },
   "source": [
    "즉 $c=1798374986$이 $L$이 가질수 있는 최소값."
   ]
  },
  {
   "cell_type": "code",
   "execution_count": 15,
   "id": "edd96f4d",
   "metadata": {
    "id": "edd96f4d",
    "outputId": "064c7030-6a43-47e6-d7e9-c3303b730d26"
   },
   "outputs": [
    {
     "name": "stdout",
     "output_type": "stream",
     "text": [
      "[1] 1.000052 1.000050 1.000048 7.321030\n"
     ]
    }
   ],
   "source": [
    "%%R\n",
    "beta1<-c(2,3)\n",
    "L1<-L(beta1)/c\n",
    "beta2<-c(5,0)\n",
    "L2<-L(beta2)/c\n",
    "beta3<-c(10,-5)\n",
    "L3<-L(beta3)/c\n",
    "beta4<-c(104,-100)\n",
    "L4<-L(beta4)/c\n",
    "c(L1,L2,L3,L4)"
   ]
  },
  {
   "cell_type": "markdown",
   "id": "a4d806c5",
   "metadata": {
    "id": "a4d806c5"
   },
   "source": [
    "(1) $\\hat{\\beta}_1=2$, $\\hat{\\beta}_2=3$ $\\longrightarrow$ $L(\\boldsymbol{\\beta})=1.000052$ \n",
    "\n",
    "(2) $\\hat{\\beta}_1=5$, $\\hat{\\beta}_2=0$  $\\longrightarrow$ $L(\\boldsymbol{\\beta})=1.000050$ \n",
    "\n",
    "(3) $\\hat{\\beta}_1=10$, $\\hat{\\beta}_2=-5$ $\\longrightarrow$ $L(\\boldsymbol{\\beta})=1.000048$ \n",
    "\n",
    "(4) $\\hat{\\beta}_1=104$, $\\hat{\\beta}_2=-100$ $\\longrightarrow$ $L(\\boldsymbol{\\beta})=7.321030$ "
   ]
  },
  {
   "cell_type": "markdown",
   "id": "3a78d77f",
   "metadata": {
    "id": "3a78d77f"
   },
   "source": [
    "이대로라면 위의 (1)-(4) 중에서 가장 적절한 해는 (3)이다. "
   ]
  },
  {
   "cell_type": "markdown",
   "id": "77d7358d",
   "metadata": {
    "id": "77d7358d"
   },
   "source": [
    "`아이디어:` $L(\\beta)$을 조금 바꾸자. 위의 손실함수에서 각각 $\\frac{1}{100000}\\big(\\beta_1^2+\\beta_2^2\\big)$를 더한다면?"
   ]
  },
  {
   "cell_type": "code",
   "execution_count": 16,
   "id": "3498af9f",
   "metadata": {
    "id": "3498af9f",
    "outputId": "a671e7c0-cf57-45df-d074-7bca8c243834"
   },
   "outputs": [
    {
     "name": "stdout",
     "output_type": "stream",
     "text": [
      "[1] 1.000182 1.000300 1.001298 7.529190\n"
     ]
    }
   ],
   "source": [
    "%%R\n",
    "beta1<-c(2,3)\n",
    "beta2<-c(5,0)\n",
    "beta3<-c(10,-5)\n",
    "beta4<-c(104,-100)\n",
    "p1<-(beta1[1]^2+beta1[2]^2)/100000\n",
    "p2<-(beta2[1]^2+beta2[2]^2)/100000\n",
    "p3<-(beta3[1]^2+beta3[2]^2)/100000\n",
    "p4<-(beta4[1]^2+beta4[2]^2)/100000\n",
    "\n",
    "L1<-L(beta1)/c+p1\n",
    "L2<-L(beta2)/c+p2\n",
    "L3<-L(beta3)/c+p3\n",
    "L4<-L(beta4)/c+p4\n",
    "c(L1,L2,L3,L4)"
   ]
  },
  {
   "cell_type": "markdown",
   "id": "dad6d0ba",
   "metadata": {
    "id": "dad6d0ba"
   },
   "source": [
    "(1) $\\hat{\\beta}_1=2$, $\\hat{\\beta}_2=3$ $\\longrightarrow$ $L(\\boldsymbol{\\beta})=1.000182$ \n",
    "\n",
    "(2) $\\hat{\\beta}_1=5$, $\\hat{\\beta}_2=0$  $\\longrightarrow$ $L(\\boldsymbol{\\beta})=1.000300$ \n",
    "\n",
    "(3) $\\hat{\\beta}_1=10$, $\\hat{\\beta}_2=-5$ $\\longrightarrow$ $L(\\boldsymbol{\\beta})=1.001298$ \n",
    "\n",
    "(4) $\\hat{\\beta}_1=104$, $\\hat{\\beta}_2=-100$ $\\longrightarrow$ $L(\\boldsymbol{\\beta})=7.529190$ "
   ]
  },
  {
   "cell_type": "markdown",
   "id": "0aa0c9e7",
   "metadata": {
    "id": "0aa0c9e7"
   },
   "source": [
    "이렇게하면 이제 (수정된) $L$을 최소화하는 해는 (1)이다."
   ]
  },
  {
   "cell_type": "markdown",
   "id": "7bf47e8d",
   "metadata": {
    "id": "7bf47e8d"
   },
   "source": [
    "### 해결책의 시각적 이해"
   ]
  },
  {
   "cell_type": "code",
   "execution_count": 19,
   "id": "c5cffc33",
   "metadata": {
    "id": "c5cffc33",
    "outputId": "15a1f2b1-29fa-4183-aa90-f42098fc2af4"
   },
   "outputs": [
    {
     "data": {
      "image/png": "[encoded data removed]"
     },
     "metadata": {},
     "output_type": "display_data"
    }
   ],
   "source": [
    "%%R\n",
    "β1 = seq(-10,15,length=50)\n",
    "β2 = seq(-10,15,length=50)\n",
    "L_ <- function(β1,β2){\n",
    "    rtn<-c()\n",
    "    for(k in 1:length(β2)){\n",
    "        rtn[k]<-sum((y-β1[k]*toeic-β2[k]*teps)^2)/c\n",
    "    }\n",
    "    rtn\n",
    "}\n",
    "z_=outer(β1,β2,L_)\n",
    "#install.packages(\"plot3D\")\n",
    "library(plot3D) \n",
    "ribbon3D(z=z_,contour=TRUE,xlab=\"β1\",ylab=\"β2\",zlab=\"L(β1,β2)\",main=\"original loss function\")"
   ]
  },
  {
   "cell_type": "code",
   "execution_count": null,
   "id": "beccdf15",
   "metadata": {
    "id": "beccdf15",
    "outputId": "31ad5558-85f6-4c4e-94a6-29e5131e8b06"
   },
   "outputs": [],
   "source": [
    "%%R\n",
    "β1 = seq(-10,15,length=50)\n",
    "β2 = seq(-10,15,length=50)\n",
    "panelty_<-function(β1,β2){\n",
    "    λ<-1.5 # 1/100000\n",
    "    rtn<-c()\n",
    "    for(k in 1:length(β2)){\n",
    "        rtn[k]<-λ*sum(β1[k]^2+β2[k]^2)\n",
    "    }\n",
    "    rtn    \n",
    "}\n",
    "\n",
    "L_ <- function(β1,β2){\n",
    "    rtn<-c()\n",
    "    for(k in 1:length(β2)){\n",
    "        rtn[k]<-sum((y-β1[k]*toeic-β2[k]*teps)^2)/c\n",
    "    }\n",
    "    rtn\n",
    "}\n",
    "z_=outer(β1,β2,L_)\n",
    "z__=outer(β1,β2,panelty_)\n",
    "#install.packages(\"plot3D\")\n",
    "library(plot3D) \n",
    "ribbon3D(z=z_,contour=TRUE,xlab=\"β1\",ylab=\"β2\",main=\"그림1: L(β1,β2)\")\n",
    "ribbon3D(z=z__,contour=TRUE,xlab=\"β1\",ylab=\"β2\",main=\"그림2: λ(β1^2+β2^2)\")\n",
    "ribbon3D(z=z_+z__,contour=TRUE,xlab=\"β1\",ylab=\"β2\",main=\"그림3: L(β1,β2)+λ(β1^2+β2^2)\")"
   ]
  },
  {
   "cell_type": "markdown",
   "id": "68d43638",
   "metadata": {
    "id": "68d43638"
   },
   "source": [
    "### $\\lambda$의 역할 $(\\lambda>0)$"
   ]
  },
  {
   "cell_type": "markdown",
   "id": "a937d9bf",
   "metadata": {
    "id": "a937d9bf"
   },
   "source": [
    "[그림1]이랑 [그림2]을 섞어서 [그림3]을 만드는데, 각각을 얼만큼의 비율로 섞을지 결정한다. "
   ]
  },
  {
   "cell_type": "markdown",
   "id": "901119ff",
   "metadata": {
    "id": "901119ff"
   },
   "source": [
    "람다가 크면 그림2를 많이 반영한다. $\\to$ 람다가 너무 크면 결국 $\\hat{\\beta}_1$와 $\\hat{\\beta}_2$의 추정값이 거의 0에 가깝게 된다. "
   ]
  },
  {
   "cell_type": "markdown",
   "id": "ae31fd6c",
   "metadata": {
    "id": "ae31fd6c"
   },
   "source": [
    "람다가 작으면 그림1을 많이 반영한다. $\\to$ 람다가 너무 작게되면, 우리는 손실함수 $L(\\beta_1,\\beta_2)$에 아무런 수정도 하지않은 셈이된다. "
   ]
  },
  {
   "cell_type": "markdown",
   "id": "b3796461",
   "metadata": {
    "id": "b3796461"
   },
   "source": [
    "### $\\lambda(\\beta_1^2+\\beta_2^2)$의 역할"
   ]
  },
  {
   "cell_type": "markdown",
   "id": "5eddb584",
   "metadata": {
    "id": "5eddb584"
   },
   "source": [
    "원래 $\\beta_1+\\beta_2=5$를 만족하는 어떠한 해도 솔루션이 되었음. 즉 [그림1]과 같은 상황"
   ]
  },
  {
   "cell_type": "markdown",
   "id": "ce719bba",
   "metadata": {
    "id": "ce719bba"
   },
   "source": [
    "[그림1]과 같은 상황에서 약간의 경사를 주어서 [그림3]과 같은 상황을 만듬 "
   ]
  },
  {
   "cell_type": "markdown",
   "id": "2c515d07",
   "metadata": {
    "id": "2c515d07"
   },
   "source": [
    "$\\hat{\\beta}_1$ 와 $\\hat{\\beta}_2$ 의 값을 안정적으로 만들어 준다. "
   ]
  },
  {
   "cell_type": "markdown",
   "id": "d3b54f0f",
   "metadata": {
    "id": "d3b54f0f"
   },
   "source": [
    "그러면서도 딱히 원래 $L(\\beta_1,\\beta_2)$의 모양을 크게 해치지 않는다. "
   ]
  },
  {
   "cell_type": "markdown",
   "id": "e79bfb42",
   "metadata": {
    "id": "e79bfb42"
   },
   "source": [
    "(!) 그럴듯함. 우리가 원하는것 같다. "
   ]
  },
  {
   "cell_type": "markdown",
   "id": "6c79817c",
   "metadata": {
    "id": "6c79817c"
   },
   "source": [
    "이렇게 하면 다중공선성이 발생하는 상황에서 적절한 해를 구할 수 있을 것 같다. "
   ]
  },
  {
   "cell_type": "markdown",
   "id": "0eaab3d9",
   "metadata": {
    "id": "0eaab3d9"
   },
   "source": [
    "(관찰)"
   ]
  },
  {
   "cell_type": "markdown",
   "id": "b06a7d70",
   "metadata": {
    "id": "b06a7d70"
   },
   "source": [
    "$\\lambda\\big(\\beta_1^2+\\beta_2^2\\big)$은 아래와 같이 표현가능함. "
   ]
  },
  {
   "cell_type": "markdown",
   "id": "7ad72603",
   "metadata": {
    "id": "7ad72603"
   },
   "source": [
    "$\\lambda [\\beta_1,\\beta_2]\\begin{bmatrix}\\beta_1 \\\\ \\beta_2 \\end{bmatrix}=\\lambda\\beta^\\top \\beta$"
   ]
  },
  {
   "cell_type": "markdown",
   "id": "e9e27b8e",
   "metadata": {
    "id": "e9e27b8e"
   },
   "source": [
    "단, $\\beta=\\begin{bmatrix}\\beta_1 \\\\ \\beta_2 \\end{bmatrix}$."
   ]
  },
  {
   "cell_type": "markdown",
   "id": "308d7fc6",
   "metadata": {
    "id": "308d7fc6"
   },
   "source": [
    "### 릿지에 대한 책의 설명들.. "
   ]
  },
  {
   "cell_type": "markdown",
   "id": "046d81a4",
   "metadata": {
    "id": "046d81a4"
   },
   "source": [
    "Step 1. $\\hat{\\beta}^R=\\bf\\big(X^\\top X+\\lambda I \\big)^{-1}{\\bf X}^\\top y$. \n",
    "\n",
    "일반적인 회귀분석과 다르게 아래와 같은 손실함수를 생각하자. "
   ]
  },
  {
   "cell_type": "markdown",
   "id": "c1359c4c",
   "metadata": {
    "id": "c1359c4c"
   },
   "source": [
    "$L={\\bf (y-X\\beta)^\\top}{\\bf (y-X\\beta)}+\\lambda \\beta^\\top \\beta=\\mbox{goodness of fit} + \\mbox{panalty}$"
   ]
  },
  {
   "cell_type": "markdown",
   "id": "7ea5e45e",
   "metadata": {
    "id": "7ea5e45e"
   },
   "source": [
    "$L$를 최소화하는 $\\hat{\\beta}$을 구하면 아래와 같다. 구분을 위해서 $\\hat{\\beta}^R$이라는 기호를쓰자."
   ]
  },
  {
   "cell_type": "markdown",
   "id": "4c300c19",
   "metadata": {
    "id": "4c300c19"
   },
   "source": [
    "$\\hat{\\beta}^R=\\bf\\big(X^\\top X+\\lambda I \\big)^{-1}{\\bf X}^\\top y$"
   ]
  },
  {
   "cell_type": "markdown",
   "id": "6f17c263",
   "metadata": {
    "id": "6f17c263"
   },
   "source": [
    "Step 2 : $\\hat{\\beta}^R$이 $\\hat{\\beta}^{OLS}$보다 왜 좋은가?"
   ]
  },
  {
   "cell_type": "markdown",
   "id": "dacc3b52",
   "metadata": {
    "id": "dacc3b52"
   },
   "source": [
    "$\\hat{\\beta}^{OLS}={\\bf (X^\\top X)^{-1}X^\\top y}$"
   ]
  },
  {
   "cell_type": "markdown",
   "id": "a39f56d2",
   "metadata": {
    "id": "a39f56d2"
   },
   "source": [
    "$\\hat{\\beta}^{R}={\\bf (X^\\top X+\\lambda I)^{-1}X^\\top y}$"
   ]
  },
  {
   "cell_type": "markdown",
   "id": "81adacb4",
   "metadata": {
    "id": "81adacb4"
   },
   "source": [
    "(1) $\\hat{\\beta}^{OLS}$는 $\\beta$에 대한 불편추정량 이지만, $\\hat{\\beta}^{R}$은 아니다.  "
   ]
  },
  {
   "cell_type": "markdown",
   "id": "c736bf20",
   "metadata": {
    "id": "c736bf20"
   },
   "source": [
    "(2) 하지만 분산은 $\\hat{\\beta}^{OLS}$보다 $\\hat{\\beta}^R$이 더 작다."
   ]
  },
  {
   "cell_type": "markdown",
   "id": "fcd79b24",
   "metadata": {
    "id": "fcd79b24"
   },
   "source": [
    "(3) 좋은 추정량은 bias와 분산이 모두 작아야하는데, $\\hat{\\beta}^{R}$은 바이어스는 $\\hat{\\beta}^{OLS}$보다 큰 상황이고, 분산은 $\\hat{\\beta}^{OLS}$보다 작은 상황이다. "
   ]
  },
  {
   "cell_type": "markdown",
   "id": "88cde2d6",
   "metadata": {
    "id": "88cde2d6"
   },
   "source": [
    "(4) 따라서 두 추정치중에서 뭐가 더 좋다고 말하기 애매한데, 이를 명확하게 말하기 위해서는 MSE($=\\mbox{bias}^2 + \\mbox{variance}$)를 비교해봐야한다. "
   ]
  },
  {
   "cell_type": "markdown",
   "id": "8f550dee",
   "metadata": {
    "id": "8f550dee"
   },
   "source": [
    "\n",
    "(5) Hoerl 과 Kennard는 $\\hat{\\beta}^{R}$이 $\\hat{\\beta}^{OLS}$보다 MSE가 작게되는 $\\lambda$값이 항상 존재한다고 한다고 밝혔다. (1970년)"
   ]
  },
  {
   "cell_type": "markdown",
   "id": "cd125bc1",
   "metadata": {
    "id": "cd125bc1"
   },
   "source": [
    "\n",
    "(6) 따라서 이러한 $\\lambda$를 잘 찾으면 항상 Ridge Regression이 Linear Regression 보다 좋다고 주장할 수 있다.  "
   ]
  },
  {
   "cell_type": "markdown",
   "id": "81140a58",
   "metadata": {
    "id": "81140a58"
   },
   "source": [
    "(참고)"
   ]
  },
  {
   "cell_type": "markdown",
   "id": "ddcb6b6d",
   "metadata": {
    "id": "ddcb6b6d"
   },
   "source": [
    "(1) 일반적인 손실함수 $L={\\bf (y-X\\beta)^\\top (y-X\\beta)}$와 수정된 손실함수를 구분하기 위해서 아래와 같이 $\\tilde{L}$와 같은 기호를 쓰기도 한다. "
   ]
  },
  {
   "cell_type": "markdown",
   "id": "93d54af7",
   "metadata": {
    "id": "93d54af7"
   },
   "source": [
    "$\\tilde{L}={\\bf(y-X\\beta)^\\top(y-X\\beta)+\\lambda \\beta^\\top \\beta }$"
   ]
  },
  {
   "cell_type": "markdown",
   "id": "2f8c8640",
   "metadata": {
    "id": "2f8c8640"
   },
   "source": [
    "(2) 일반적인 손실함수 $L$을 최소화하는 $\\beta$와 수정된 손실함수 $\\tilde{L}$을 최소화하는 $\\beta$를 구분하기 위해서 아래와 같은 기호를 쓰기도 한다. "
   ]
  },
  {
   "cell_type": "markdown",
   "id": "979b15f3",
   "metadata": {
    "id": "979b15f3"
   },
   "source": [
    "$\\hat{\\beta}^{OLS}={\\bf (X^\\top X)^{-1}X^\\top y}$"
   ]
  },
  {
   "cell_type": "markdown",
   "id": "3a38b036",
   "metadata": {
    "id": "3a38b036"
   },
   "source": [
    "$\\hat{\\beta}^{R}={\\bf (X^\\top X+\\lambda I)^{-1}X^\\top y}$"
   ]
  },
  {
   "cell_type": "markdown",
   "id": "30780acf",
   "metadata": {
    "id": "30780acf"
   },
   "source": [
    "(3) $\\lambda \\beta^\\top \\beta$를 패널티항(=벌점항), $L_2$-패널티, regularization term (정규화항) 이라고 부른다. "
   ]
  },
  {
   "cell_type": "markdown",
   "id": "3d8b552f",
   "metadata": {
    "id": "3d8b552f"
   },
   "source": [
    "(4) $\\lambda \\beta^\\top \\beta$를 $\\lambda \\|\\beta\\|_2^2$로 표현하기도 한다. $\\| \\cdot \\|_2$는 벡터의 $L_2$-노름 이라고 한다. "
   ]
  },
  {
   "cell_type": "markdown",
   "id": "4d5b9253",
   "metadata": {
    "id": "4d5b9253"
   },
   "source": [
    "- ${\\bf x}=(x_1,x_2)$ $\\to$ $\\|{\\bf x}\\|_2^2:=x_1^2+x_2^2$,  $\\|{\\bf x}\\|_2:=\\sqrt{x_1^2+x_2^2}$\n",
    "- $\\lambda \\beta^\\top \\beta = \\lambda(\\beta_1^2+\\beta_2^2)$"
   ]
  },
  {
   "cell_type": "markdown",
   "id": "d81fccb9",
   "metadata": {
    "id": "d81fccb9"
   },
   "source": [
    "(5) (4)에서 유리하여 $\\lambda \\beta^\\top \\beta$를 $L_2$-패널티항이라고 부르기도 한다. "
   ]
  },
  {
   "cell_type": "markdown",
   "id": "203a29b6",
   "metadata": {
    "id": "203a29b6"
   },
   "source": [
    "(6) 참고로 $L_1$-패널티항도 있다. 그리고 $L_1$과 $L_2$패널티를 섞어서 쓰는 방법도 있다. \n",
    "- $Loss=SSE+L_2\\mbox{-}panalty$: Ridge\n",
    "- $Loss=SSE+L_1\\mbox{-}panalty$: Lasso\n",
    "- $Loss=SSE+L_1\\mbox{-}panalty+L_2\\mbox{-}panalty$: Elastic-net "
   ]
  },
  {
   "cell_type": "markdown",
   "id": "0a06f66c",
   "metadata": {
    "id": "0a06f66c"
   },
   "source": [
    "(7) $L_2$-패널티항은 너무 큰 $\\beta_1,\\beta_2$를 구할때 패널티를 부여하여 되도록이면 작은 $\\beta_1,\\beta_2$을 선택하게끔 `제약`을 건다. "
   ]
  },
  {
   "cell_type": "markdown",
   "id": "4f3e6866",
   "metadata": {
    "id": "4f3e6866"
   },
   "source": [
    "(8) 일반적인 손실함수 $L$이지만 우리는  $\\tilde{L}$을 최소화해야 하므로 (i) 되도록이면 $\\beta_1,\\beta_2$의 값이 작을수록 좋다는 제약하에서 (ii) $L$를 최소화하는 2가지 역할을 수행해야 한다. "
   ]
  },
  {
   "cell_type": "markdown",
   "id": "f5f5317f",
   "metadata": {
    "id": "f5f5317f"
   },
   "source": [
    "(9) $\\tilde{L}$를 최소화하는 문제를 `제약된 조건하에서의 최소화문제`라고 표현한다. "
   ]
  },
  {
   "cell_type": "markdown",
   "id": "81599e0d",
   "metadata": {
    "id": "81599e0d"
   },
   "source": [
    "(10) (8)에서 (i)-(ii)의 역할중에서 어떤것을 더 중시할지 조율하는 역할을 $\\lambda$가 하는데, 이와 같은 이유로 $\\lambda$를 조율모수 (tuning parameter)라고 부르기도 한다. "
   ]
  },
  {
   "cell_type": "markdown",
   "id": "72285173",
   "metadata": {
    "id": "72285173"
   },
   "source": [
    "(11) $\\lambda$를 하이퍼파라메터라고 부르기도 한다. "
   ]
  },
  {
   "cell_type": "markdown",
   "id": "b9654a66",
   "metadata": {
    "id": "b9654a66"
   },
   "source": [
    "(12) $\\hat{\\beta}^{R}$의 값은 대체적으로 $\\hat{\\beta}^{OLS}$보다 작은값을 가진다. 이러한 이유로 $\\beta^{R}$ shrinkage esitmator라고 부른다. "
   ]
  },
  {
   "cell_type": "markdown",
   "id": "28d01728",
   "metadata": {
    "id": "28d01728"
   },
   "source": [
    "(13) biased regression, shrinkage method, regularization method, panalty method.. 등 ridge를 표현하는 방법들은 다양하다. "
   ]
  },
  {
   "cell_type": "markdown",
   "id": "755d98fd",
   "metadata": {
    "id": "755d98fd"
   },
   "source": [
    "(14) 능형회귀를 수행함에 있어서 (이론적인 부분에서는 언급되지 않았으나) 변수의 표준화를 먼저 시행해야 한다. "
   ]
  },
  {
   "cell_type": "code",
   "execution_count": null,
   "id": "9b1c9649",
   "metadata": {
    "id": "9b1c9649"
   },
   "outputs": [],
   "source": []
  }
 ],
 "metadata": {
  "colab": {
   "provenance": []
  },
  "kernelspec": {
   "display_name": "Python 3 (ipykernel)",
   "language": "python",
   "name": "python3"
  },
  "language_info": {
   "codemirror_mode": {
    "name": "ipython",
    "version": 3
   },
   "file_extension": ".py",
   "mimetype": "text/x-python",
   "name": "python",
   "nbconvert_exporter": "python",
   "pygments_lexer": "ipython3",
   "version": "3.8.12"
  }
 },
 "nbformat": 4,
 "nbformat_minor": 5
}
