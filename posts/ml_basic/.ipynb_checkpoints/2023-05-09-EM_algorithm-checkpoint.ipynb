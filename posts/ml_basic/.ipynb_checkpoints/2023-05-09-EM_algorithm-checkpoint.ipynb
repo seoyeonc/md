{
 "cells": [
  {
   "cell_type": "raw",
   "id": "90b7ce98-589b-4b66-b45c-166e60040ad2",
   "metadata": {
    "id": "cac470df-29e7-4148-9bbd-d8b9a32fa570",
    "tags": []
   },
   "source": [
    "---\n",
    "title: \"Expectation Maximization(EM algorithm)\"\n",
    "author: \"SEOYEON CHOI\"\n",
    "date: \"2023-05-09\"\n",
    "categories:\n",
    "  - EM algorithm\n",
    "---"
   ]
  },
  {
   "cell_type": "markdown",
   "id": "af6f2830-15d1-454a-a918-46833ea40520",
   "metadata": {},
   "source": [
    "> Expectation Maximization"
   ]
  },
  {
   "cell_type": "code",
   "execution_count": 2,
   "id": "df6e0bfe-7ad0-4c0d-98e2-c71a523c98b4",
   "metadata": {},
   "outputs": [],
   "source": [
    "import random"
   ]
  },
  {
   "cell_type": "markdown",
   "id": "82cff1fb-bd58-4248-b286-2ebeadd47999",
   "metadata": {},
   "source": [
    "# 동전 던지기"
   ]
  },
  {
   "cell_type": "markdown",
   "id": "79b16ddd-1c92-4a5e-89ea-553c71e722ad",
   "metadata": {},
   "source": [
    "## 어떤 동전인지 알 때 Expactation"
   ]
  },
  {
   "cell_type": "markdown",
   "id": "5a80e49e-0bd3-4ca7-85aa-da0732c93fe2",
   "metadata": {},
   "source": [
    "어떤 동전에서 어떤 면이 나올 기댓값을 직접 구할 수 있다."
   ]
  },
  {
   "cell_type": "markdown",
   "id": "55eb1609-a5c5-4782-98d9-8a51f7601668",
   "metadata": {},
   "source": [
    "- 1: 앞 면\n",
    "- 2: 뒷 면"
   ]
  },
  {
   "cell_type": "markdown",
   "id": "62c005c8-3496-455f-98dd-27202d9b3612",
   "metadata": {},
   "source": [
    "**A 동전**"
   ]
  },
  {
   "cell_type": "code",
   "execution_count": 19,
   "id": "64b2ca1e-15ee-4e23-9555-82e84493cf8e",
   "metadata": {},
   "outputs": [
    {
     "name": "stdout",
     "output_type": "stream",
     "text": [
      "Number of ones: 37\n",
      "Probability of one: 0.4625\n"
     ]
    }
   ],
   "source": [
    "N = 80\n",
    "outcomes = []\n",
    "for i in range(N):\n",
    "    outcome = random.choice([1, 2])\n",
    "    outcomes.append(outcome)\n",
    "num_of_ones = outcomes.count(1)\n",
    "probability_of_one = num_of_ones / N\n",
    "print(\"Number of ones:\", num_of_ones)\n",
    "print(\"Probability of one:\", probability_of_one)"
   ]
  },
  {
   "cell_type": "markdown",
   "id": "7474733f-7f5e-4127-b32a-7af2e01d3f36",
   "metadata": {},
   "source": [
    "**B 동전**"
   ]
  },
  {
   "cell_type": "code",
   "execution_count": 20,
   "id": "ff42967b-26f9-4a53-855f-07f588fde118",
   "metadata": {},
   "outputs": [
    {
     "name": "stdout",
     "output_type": "stream",
     "text": [
      "Number of ones: 45\n",
      "Probability of one: 0.5625\n"
     ]
    }
   ],
   "source": [
    "N = 80\n",
    "outcomes = []\n",
    "for i in range(N):\n",
    "    outcome = random.choice([1, 2])\n",
    "    outcomes.append(outcome)\n",
    "num_of_ones = outcomes.count(1)\n",
    "probability_of_one = num_of_ones / N\n",
    "print(\"Number of ones:\", num_of_ones)\n",
    "print(\"Probability of one:\", probability_of_one)"
   ]
  },
  {
   "cell_type": "markdown",
   "id": "24dff745-9495-4fbf-b73e-042e47d0dd4d",
   "metadata": {},
   "source": [
    "## 어떤 동전인지 모를 때 Expactation"
   ]
  },
  {
   "cell_type": "markdown",
   "id": "2ead01d7-f7c5-4578-af9d-f0ec29235005",
   "metadata": {},
   "source": [
    "값이 어떤 동전에서 나오는지 모르는 경우"
   ]
  },
  {
   "cell_type": "markdown",
   "id": "8b75e3d4-e601-4f26-8bde-30cb4823c637",
   "metadata": {},
   "source": [
    "- 10번 시도한 1 sequence: 앞/뒤/앞/뒤/뒤/앞/뒤/앞/앞/뒤"
   ]
  },
  {
   "cell_type": "markdown",
   "id": "81f048ad-1aab-46f3-b1af-956b255381b7",
   "metadata": {},
   "source": [
    "- 사용되는 동전의 수 = hidden variable/latent variable"
   ]
  },
  {
   "cell_type": "markdown",
   "id": "d5351f83-f62e-4c7a-a428-57b57b04ca3f",
   "metadata": {},
   "source": [
    "임의의 초기값(랜덤 부여 가능)"
   ]
  },
  {
   "cell_type": "markdown",
   "id": "37e34afe-4863-462b-b9ec-1e65d43714ff",
   "metadata": {},
   "source": [
    "- $\\theta_A = 0.4$\n",
    "- $\\theta_B = 0.3$"
   ]
  },
  {
   "cell_type": "markdown",
   "id": "b219def0-aab5-48e7-8737-d0b5aa5c55e5",
   "metadata": {},
   "source": [
    "### E step"
   ]
  },
  {
   "cell_type": "markdown",
   "id": "5276d6b0-0a05-4669-a1f0-d8345e310da4",
   "metadata": {},
   "source": [
    "1 sequence에서 Hidden variable의 responsibility를 구한다."
   ]
  },
  {
   "cell_type": "markdown",
   "id": "751e9b13-7c0a-4f5a-98f5-396d5d4c9fcc",
   "metadata": {},
   "source": [
    "**A 동전**"
   ]
  },
  {
   "cell_type": "code",
   "execution_count": 32,
   "id": "da98f1e0-0bb1-4ea0-85f7-2987a333ab08",
   "metadata": {},
   "outputs": [
    {
     "data": {
      "text/plain": [
       "0.0007962624"
      ]
     },
     "execution_count": 32,
     "metadata": {},
     "output_type": "execute_result"
    }
   ],
   "source": [
    "(0.4)**5*(0.6)**5"
   ]
  },
  {
   "cell_type": "markdown",
   "id": "bcd8ecd0-b9b7-476b-a103-db4048337fd1",
   "metadata": {},
   "source": [
    "**B 동전**"
   ]
  },
  {
   "cell_type": "code",
   "execution_count": 27,
   "id": "9c325bdb-82c2-46b8-b265-4f28851e238b",
   "metadata": {},
   "outputs": [
    {
     "data": {
      "text/plain": [
       "0.00040841009999999976"
      ]
     },
     "execution_count": 27,
     "metadata": {},
     "output_type": "execute_result"
    }
   ],
   "source": [
    "(0.3)**5*(0.7)**5"
   ]
  },
  {
   "cell_type": "markdown",
   "id": "d58c1f2a-06a3-4d45-beef-421ed9aae445",
   "metadata": {},
   "source": [
    "**1 sequence에서 A 동전을 사용했을 비율(responsibility)**"
   ]
  },
  {
   "cell_type": "code",
   "execution_count": 34,
   "id": "19e6e2f1-7722-4dcc-84a1-77fbfed4e474",
   "metadata": {},
   "outputs": [
    {
     "data": {
      "text/plain": [
       "0.66"
      ]
     },
     "execution_count": 34,
     "metadata": {},
     "output_type": "execute_result"
    }
   ],
   "source": [
    "round(((0.4)**5*(0.6)**5)/((0.4)**5*(0.6)**5 + (0.3)**5*(0.7)**5),2)"
   ]
  },
  {
   "cell_type": "markdown",
   "id": "ed1cf150-db91-463f-8929-b68d633f1e2c",
   "metadata": {},
   "source": [
    "**1 sequence에서 B 동전을 사용했을 비율(responsibility)**"
   ]
  },
  {
   "cell_type": "code",
   "execution_count": 35,
   "id": "9922d196-89ff-4e19-9a2a-58c38cf6a646",
   "metadata": {},
   "outputs": [
    {
     "data": {
      "text/plain": [
       "0.34"
      ]
     },
     "execution_count": 35,
     "metadata": {},
     "output_type": "execute_result"
    }
   ],
   "source": [
    "round(((0.3)**5*(0.7)**5)/((0.4)**5*(0.6)**5 + (0.3)**5*(0.7)**5),2)"
   ]
  },
  {
   "cell_type": "markdown",
   "id": "18ccda91-f609-421e-8555-85a9dc27ca0d",
   "metadata": {},
   "source": [
    "### M step"
   ]
  },
  {
   "cell_type": "markdown",
   "id": "1772c5b0-efb1-4e2c-a6ec-90182ca60a03",
   "metadata": {},
   "source": [
    "**1 sequence에서 A 동전 앞면**"
   ]
  },
  {
   "cell_type": "code",
   "execution_count": 41,
   "id": "a9808462-bb12-4ceb-bfb0-14803a859e74",
   "metadata": {},
   "outputs": [
    {
     "data": {
      "text/plain": [
       "3.3"
      ]
     },
     "execution_count": 41,
     "metadata": {},
     "output_type": "execute_result"
    }
   ],
   "source": [
    "round((0.66)*5,2)"
   ]
  },
  {
   "cell_type": "markdown",
   "id": "e316339f-3dfe-4e4b-9439-3515d5284adb",
   "metadata": {},
   "source": [
    "**1 sequence에서 A 동전 뒷면**"
   ]
  },
  {
   "cell_type": "code",
   "execution_count": 42,
   "id": "dc2d7db2-0916-423f-9a9b-399271e2ba27",
   "metadata": {},
   "outputs": [
    {
     "data": {
      "text/plain": [
       "2.2"
      ]
     },
     "execution_count": 42,
     "metadata": {},
     "output_type": "execute_result"
    }
   ],
   "source": [
    "round((0.44)*5,2)"
   ]
  },
  {
   "cell_type": "markdown",
   "id": "5ee36b6d-f57e-44bc-bf5a-2be57b36f586",
   "metadata": {},
   "source": [
    "**1 sequence에서 B 동전 앞면**"
   ]
  },
  {
   "cell_type": "code",
   "execution_count": 43,
   "id": "897af2b0-2022-41b7-b73a-3f998038d8c9",
   "metadata": {},
   "outputs": [
    {
     "data": {
      "text/plain": [
       "1.7"
      ]
     },
     "execution_count": 43,
     "metadata": {},
     "output_type": "execute_result"
    }
   ],
   "source": [
    "round((0.34)*5,2)"
   ]
  },
  {
   "cell_type": "markdown",
   "id": "aa553b07-59a3-4fc4-9de1-5ee6a4ccfddb",
   "metadata": {},
   "source": [
    "**1 sequence에서 B 동전 뒷면**"
   ]
  },
  {
   "cell_type": "code",
   "execution_count": 44,
   "id": "23bbc59c-49ab-48d4-937c-598f7fa7c5b2",
   "metadata": {},
   "outputs": [
    {
     "data": {
      "text/plain": [
       "3.3"
      ]
     },
     "execution_count": 44,
     "metadata": {},
     "output_type": "execute_result"
    }
   ],
   "source": [
    "round((0.66)*5,2)"
   ]
  },
  {
   "cell_type": "markdown",
   "id": "aafab63d-ae85-4ccf-ae11-7b5315274610",
   "metadata": {},
   "source": [
    "$\\dots$"
   ]
  },
  {
   "cell_type": "markdown",
   "id": "66aa62ec-ebe1-47ff-ada1-183f2bf4423f",
   "metadata": {},
   "source": [
    "이런 식으로 모든 sequence의 동전의 앞 뒷명면의 reponsibility를 사용하여 probability를 계산한다."
   ]
  },
  {
   "cell_type": "markdown",
   "id": "7c90a580-0517-491f-b669-011c87d445ca",
   "metadata": {},
   "source": [
    "### Update"
   ]
  },
  {
   "cell_type": "markdown",
   "id": "a3093e22-4993-4ef8-9242-dc53c5f9b2b2",
   "metadata": {},
   "source": [
    "$\\hat{\\theta}^{(1)}_A \\sim \\frac{14}{14+16} \\sim 0.47$"
   ]
  },
  {
   "cell_type": "markdown",
   "id": "9b10d834-c36a-408a-9f8e-10c83463ca47",
   "metadata": {},
   "source": [
    "$\\hat{\\theta}^{(1)}_B \\sim \\frac{14}{14+16} \\sim 0.38$"
   ]
  },
  {
   "cell_type": "markdown",
   "id": "ff54e0dc-eba8-49cb-8b42-27ea6605af3e",
   "metadata": {},
   "source": [
    "### ...E/M step and Update Repeat"
   ]
  },
  {
   "cell_type": "markdown",
   "id": "0489bf43-80a8-46a6-a808-47aff210525a",
   "metadata": {},
   "source": [
    "Local maximum으로 답 찾을 수 있음."
   ]
  },
  {
   "cell_type": "code",
   "execution_count": null,
   "id": "20a1d30f-a051-4686-8d55-a3b9a60f638d",
   "metadata": {},
   "outputs": [],
   "source": []
  }
 ],
 "metadata": {
  "kernelspec": {
   "display_name": "Python 3 (ipykernel)",
   "language": "python",
   "name": "python3"
  },
  "language_info": {
   "codemirror_mode": {
    "name": "ipython",
    "version": 3
   },
   "file_extension": ".py",
   "mimetype": "text/x-python",
   "name": "python",
   "nbconvert_exporter": "python",
   "pygments_lexer": "ipython3",
   "version": "3.8.12"
  }
 },
 "nbformat": 4,
 "nbformat_minor": 5
}
