{
 "cells": [
  {
   "cell_type": "raw",
   "id": "bb883056-f8a5-4744-9965-8b3a8fe6abc0",
   "metadata": {
    "id": "cac470df-29e7-4148-9bbd-d8b9a32fa570",
    "tags": []
   },
   "source": [
    "---\n",
    "title: \"Transformer Chatbpt Tutprial\"\n",
    "author: \"SEOYEON CHOI\"\n",
    "date: \"2023-05-28\"\n",
    "categories:\n",
    "  - Transformer\n",
    "---"
   ]
  },
  {
   "cell_type": "markdown",
   "id": "4921b008-f68a-4c74-b712-04b1cac640f7",
   "metadata": {},
   "source": [
    "> Transformer Chatbpt Tutprial"
   ]
  },
  {
   "cell_type": "code",
   "execution_count": null,
   "id": "6050771b-78bd-4ee5-bf8f-f2906f6292ff",
   "metadata": {},
   "outputs": [],
   "source": []
  }
 ],
 "metadata": {
  "kernelspec": {
   "display_name": "Python 3",
   "language": "python",
   "name": "python3"
  },
  "language_info": {
   "codemirror_mode": {
    "name": "ipython",
    "version": 3
   },
   "file_extension": ".py",
   "mimetype": "text/x-python",
   "name": "python",
   "nbconvert_exporter": "python",
   "pygments_lexer": "ipython3",
   "version": "3.8.0"
  }
 },
 "nbformat": 4,
 "nbformat_minor": 5
}
