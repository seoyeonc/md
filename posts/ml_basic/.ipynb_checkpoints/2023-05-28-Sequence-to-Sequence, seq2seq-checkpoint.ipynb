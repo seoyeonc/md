{
 "cells": [
  {
   "cell_type": "raw",
   "id": "2947993f-78f6-4c0c-92d9-14d0f69c071c",
   "metadata": {
    "id": "cac470df-29e7-4148-9bbd-d8b9a32fa570",
    "tags": []
   },
   "source": [
    "---\n",
    "title: \"Sequence-to-Sequence, seq2seq\"\n",
    "author: \"SEOYEON CHOI\"\n",
    "date: \"2023-05-28\"\n",
    "categories:\n",
    "  - seq2seq\n",
    "---"
   ]
  },
  {
   "cell_type": "markdown",
   "id": "b8dc6073-149f-47f4-9ee5-8f19a89e7a1d",
   "metadata": {},
   "source": [
    "> Sequence-to-Sequence, seq2seq"
   ]
  },
  {
   "cell_type": "markdown",
   "id": "5f4825fe-1323-4110-a169-c237e2cc20f2",
   "metadata": {},
   "source": [
    "Ref: [딥러닝을 이용한 자연어 처리 입문](https://wikidocs.net/24996), [keras](https://blog.keras.io/a-ten-minute-introduction-to-sequence-to-sequence-learning-in-keras.html)"
   ]
  },
  {
   "cell_type": "markdown",
   "id": "0b571dd3-c15d-4503-aca5-1b0a8e176bb8",
   "metadata": {},
   "source": [
    "# Seq2seq"
   ]
  },
  {
   "cell_type": "markdown",
   "id": "39774f06-7c53-4462-b22d-556b01529bbc",
   "metadata": {},
   "source": [
    "```{mermaid}\n",
    "%%| fig-width: 6.5\n",
    "flowchart LR\n",
    "  A[I am a student] --> B(Encoder)\n",
    "  B --> C{Context}\n",
    "  C --> D[Decoder]\n",
    "  D --> E[je suis étudiant]\n",
    "```"
   ]
  },
  {
   "cell_type": "code",
   "execution_count": null,
   "id": "8f8fc77c-526c-4aac-b5a3-8af2be3b2aad",
   "metadata": {},
   "outputs": [],
   "source": []
  }
 ],
 "metadata": {
  "kernelspec": {
   "display_name": "Python 3",
   "language": "python",
   "name": "python3"
  },
  "language_info": {
   "codemirror_mode": {
    "name": "ipython",
    "version": 3
   },
   "file_extension": ".py",
   "mimetype": "text/x-python",
   "name": "python",
   "nbconvert_exporter": "python",
   "pygments_lexer": "ipython3",
   "version": "3.8.0"
  }
 },
 "nbformat": 4,
 "nbformat_minor": 5
}
