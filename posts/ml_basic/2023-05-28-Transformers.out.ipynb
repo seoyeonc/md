{
  "cells": [
    {
      "cell_type": "markdown",
      "metadata": {},
      "source": [
        "# Transformers\n",
        "\n",
        "SEOYEON CHOI  \n",
        "5/28/23\n",
        "\n",
        "> Attention is all you need\n",
        "\n",
        "ref: [딥 러닝을 이용한 자연어 처리 입문](https://wikidocs.net/31379),\n",
        "[Attention is all you\n",
        "need](https://proceedings.neurips.cc/paper_files/paper/2017/file/3f5ee243547dee91fbd053c1c4a845aa-Paper.pdf)\n",
        "\n",
        "$\\star$ seq2seq 구조인 인코더-디코더를 따르면서 어텐션만으로 구현한\n",
        "모델, RNN을 사용하지 않고 인코더-디코더 구조로 설계하였지만 RNN보다\n",
        "우수한 성능을 보임"
      ],
      "id": "1e8fba7a-863e-4f8e-ae97-76c7d41dc037"
    },
    {
      "cell_type": "code",
      "execution_count": null,
      "metadata": {},
      "outputs": [],
      "source": [
        "https://github.com/huggingface/transformers"
      ],
      "id": "6ea559a3-3fa5-464f-b66b-08fc38aa2667"
    },
    {
      "cell_type": "code",
      "execution_count": null,
      "metadata": {},
      "outputs": [],
      "source": [
        "https://github.com/huggingface/transformers/blob/main/README_ko.md"
      ],
      "id": "12f5f23a-9a0f-42f4-aced-935d4defdb1e"
    },
    {
      "cell_type": "markdown",
      "metadata": {},
      "source": [
        "# seq2seq 의 한계\n",
        "\n",
        "-   인코더, 디코더로 구성되어 있는 seq2seq\n",
        "\n",
        "-   인코더는 입력 시퀀스를 하나의 벡터 표현으로 압축\n",
        "\n",
        "    -   $\\to$ 입력 시퀀스의 정보가 일부 손실된다는 단점 존재\n",
        "    -   $\\to$ 이를 위해 어텐션 메카니즘 등장\n",
        "\n",
        "-   디코더는 이 벡터 표현을 통해 출력 시퀀스를 만듦\n",
        "\n",
        "-   $\\star$ 어텐션을 RNN의 보정을 위한 용도로 사용하는 것이 아니라\n",
        "    어텐션만으로 인코더와 디코더를 만든다면??\n",
        "\n",
        "# 트랜스포머의 주요 하이퍼파라미터\n",
        "\n",
        "각 값은 논문의 설정으로서, 바뀔 수 있음\n",
        "\n",
        "$d_{model} = 512$\n",
        "\n",
        "-   인코더와 디코더에서의 정해진 입력 및 출력의 크기\n",
        "-   임베딩 벡터의 차원도 이와 같음\n",
        "-   각 인코더와 디코더가 다음 층의 인코더와 디코더로 값을 보낼 때도 유지\n",
        "\n",
        "$num_layers = 6$\n",
        "\n",
        "-   하나의 인코더와 디코더를 층으로 생각하였을때, 모델에서 인코더와\n",
        "    디코더가 몇 층으로 구성되어 있는지를 의미\n",
        "\n",
        "$num_heads = 8$\n",
        "\n",
        "-   어텐션을 병렬로 수행하고 결과값을 다시 합치는 방식을 수행하기 위함,\n",
        "    즉 병렬의 개수\n",
        "\n",
        "$d_{ff} = 2048$\n",
        "\n",
        "-   트랜스포머 내부에 피드 포워드 신경망이 존재, 그 신경망의 은닉층의\n",
        "    크기를 의미\n",
        "-   단, 피드 포워드 신경망의 입력층과 출력층의 크기는 $d_{model}$\n",
        "\n",
        "# Transformer"
      ],
      "id": "613a075f-bbb4-440a-8d94-1d79b2d6d899"
    },
    {
      "cell_type": "code",
      "execution_count": null,
      "metadata": {},
      "outputs": [
        {
          "output_type": "display_data",
          "metadata": {},
          "data": {
            "text/html": [
              "</p>"
            ]
          }
        }
      ],
      "source": [],
      "id": "4599bf53-7394-4ebc-a98c-414ebb4d370b"
    },
    {
      "cell_type": "markdown",
      "metadata": {},
      "source": [
        "-   인코더-디코더 구조를 가진 트랜스포머\n",
        "-   인코더와 디코더라는 단위가 N개로 구성되는 구조 $\\to$ Encoders,\n",
        "    Decoders로 표현\n",
        "    -   seq2seq에서는 인코더와 디코더에서 각각 하나의 RNN이 t개의\n",
        "        시점time step을 가지는 구조"
      ],
      "id": "eda217aa-787c-453f-a9a4-8377884850d6"
    },
    {
      "cell_type": "code",
      "execution_count": null,
      "metadata": {},
      "outputs": [
        {
          "output_type": "display_data",
          "metadata": {},
          "data": {
            "text/html": [
              "</p>"
            ]
          }
        }
      ],
      "source": [],
      "id": "c681a9c4-0e8a-417b-b01a-79f8f2dd8862"
    },
    {
      "cell_type": "markdown",
      "metadata": {},
      "source": [
        "-   symbol인 sos를 입력받아 eos symbol 나올때까지 연산을 진행하는, RNN을\n",
        "    사용하지 않지만 인코더 디코더 구조 유지되는 모습을 보임\n",
        "\n",
        "## Positional Encoding\n",
        "\n",
        "> **Note**\n",
        ">\n",
        "> RNN이 자연어 처리에서 유용했던 이유\n",
        ">\n",
        "> -   단어의 위치에 따라 단어를 순차적으로 입력받아서 처리하는 RNN의\n",
        ">     특성으로 인해 각 단어의 위치 정보 position information을 가질 수\n",
        ">     있어서\n",
        "\n",
        "**포지셔널 인코딩**\n",
        "\n",
        "-   트랜스포머는 단어의 위치 정보를 얻기 위해서 각 단어의 임베딩 벡터에\n",
        "    위치 정보들을 더하여 모델의 입력으로 사용"
      ],
      "id": "e50d0421-ad76-499e-a41b-8fe2efc4b379"
    },
    {
      "cell_type": "code",
      "execution_count": null,
      "metadata": {},
      "outputs": [
        {
          "output_type": "display_data",
          "metadata": {},
          "data": {
            "text/html": [
              "</p>"
            ]
          }
        }
      ],
      "source": [],
      "id": "0605fa6c-cec3-40df-92e6-07dfcf4780e5"
    },
    {
      "cell_type": "markdown",
      "metadata": {},
      "source": [
        "-   입력으로 사용되는 임베딩 벡터들이 트랜스포머의 입력으로 사용되기\n",
        "    전에 포지셔널 인코딩 값이 더해지는 과정\n",
        "\n",
        "$$PE_{(pos, 2i)} = \\sin(pos/10000^{2i/d_{model}})$$\n",
        "\n",
        "$$PE_{(pos, 2i+1)} = \\cos(pos/10000^{2i/d_{model}})$$\n",
        "\n",
        "-   트랜스포머가 위치 정보를 가진 값을 만들기 위해 사용하는 두 개의 함수"
      ],
      "id": "fa49dc6f-66bc-4d1f-b722-09ef940316ce"
    },
    {
      "cell_type": "code",
      "execution_count": 44,
      "metadata": {},
      "outputs": [],
      "source": [
        "import numpy as np\n",
        "import pandas as pd"
      ],
      "id": "0c03865b-884e-48cf-8218-7c6d264ae98f"
    },
    {
      "cell_type": "code",
      "execution_count": 47,
      "metadata": {},
      "outputs": [],
      "source": [
        "d_model = pd.DataFrame(np.empty((4, 4), dtype=str), index=['I', 'am', 'a', 'student'])\n",
        "\n",
        "values = ['pos1,i1', 'pos1,i2', 'pos1,i3', 'pos1,i4',\n",
        "          'pos2,i1', 'pos2,i2', 'pos2,i3', 'pos2,i4',\n",
        "          'pos3,i1', 'pos3,i2', 'pos3,i3', 'pos3,i4',\n",
        "          'pos4,i1', 'pos4,i2', 'pos4,i3', 'pos4,i4']\n",
        "\n",
        "for i in range(4):\n",
        "    for j in range(4):\n",
        "        d_model.iloc[i, j] = values[i * 4 + j]"
      ],
      "id": "69131fd1-0113-4458-9ece-d9ce3b3d3fe7"
    },
    {
      "cell_type": "code",
      "execution_count": 48,
      "metadata": {},
      "outputs": [
        {
          "output_type": "display_data",
          "metadata": {},
          "data": {
            "text/html": [
              "<div>\n",
              "<style scoped>\n",
              "    .dataframe tbody tr th:only-of-type {\n",
              "        vertical-align: middle;\n",
              "    }\n",
              "\n",
              "    .dataframe tbody tr th {\n",
              "        vertical-align: top;\n",
              "    }\n",
              "\n",
              "    .dataframe thead th {\n",
              "        text-align: right;\n",
              "    }\n",
              "</style>\n",
              "<table border=\"1\" class=\"dataframe\">\n",
              "  <thead>\n",
              "    <tr style=\"text-align: right;\">\n",
              "      <th></th>\n",
              "      <th>0</th>\n",
              "      <th>1</th>\n",
              "      <th>2</th>\n",
              "      <th>3</th>\n",
              "    </tr>\n",
              "  </thead>\n",
              "  <tbody>\n",
              "    <tr>\n",
              "      <th>I</th>\n",
              "      <td>pos1,i1</td>\n",
              "      <td>pos1,i2</td>\n",
              "      <td>pos1,i3</td>\n",
              "      <td>pos1,i4</td>\n",
              "    </tr>\n",
              "    <tr>\n",
              "      <th>am</th>\n",
              "      <td>pos2,i1</td>\n",
              "      <td>pos2,i2</td>\n",
              "      <td>pos2,i3</td>\n",
              "      <td>pos2,i4</td>\n",
              "    </tr>\n",
              "    <tr>\n",
              "      <th>a</th>\n",
              "      <td>pos3,i1</td>\n",
              "      <td>pos3,i2</td>\n",
              "      <td>pos3,i3</td>\n",
              "      <td>pos3,i4</td>\n",
              "    </tr>\n",
              "    <tr>\n",
              "      <th>student</th>\n",
              "      <td>pos4,i1</td>\n",
              "      <td>pos4,i2</td>\n",
              "      <td>pos4,i3</td>\n",
              "      <td>pos4,i4</td>\n",
              "    </tr>\n",
              "  </tbody>\n",
              "</table>\n",
              "</div>"
            ]
          }
        }
      ],
      "source": [
        "d_model"
      ],
      "id": "875fc836-5fc2-4c1a-9d44-7bf83fd92081"
    },
    {
      "cell_type": "markdown",
      "metadata": {},
      "source": [
        "-   pos는 입력 문장에서 임베딩 벡터의 위치\n",
        "-   i는 임베딩 벡터 내의 차원의 인덱스를 의미\n",
        "-   위 식에 따르면\n",
        "    -   **짝수**면 *sin*함수 사용 $\\to$ (pos,2i)\n",
        "    -   **홀수**면 *cos*함수 사용 $\\to$ (pos,2i+1)\n",
        "-   여기서 $d_{model}$은 트랜스포머의 모든 층의 출력 차원을 의미하는\n",
        "    하이퍼파라미터\n",
        "-   임베딩 벡터도 같은 차원임\n",
        "-   이와 깉은 포지셔널 인코딩 방법을 사용하면 순서 정보가 보존됨.\n",
        "    -   **각 임베딩 멕터에 포지셔널 인코딩의 값을 더하면(차원 같음!)\n",
        "        같은 단어라도 문장 내의 위치에 따라 트랜스포머의 입력으로\n",
        "        들어가는 임베딩 벡터의 값이 달라짐**"
      ],
      "id": "eecc4abb-bc80-4d98-b158-65e4b15bc8d0"
    },
    {
      "cell_type": "code",
      "execution_count": 57,
      "metadata": {},
      "outputs": [],
      "source": [
        "import matplotlib.pyplot as plt\n",
        "import tensorflow as tf"
      ],
      "id": "a9a49668-4b28-449a-987a-bd98fe8f46a6"
    },
    {
      "cell_type": "code",
      "execution_count": 58,
      "metadata": {},
      "outputs": [],
      "source": [
        "class PositionalEncoding(tf.keras.layers.Layer):\n",
        "    def __init__(self, position, d_model):\n",
        "        super(PositionalEncoding, self).__init__()\n",
        "        self.pos_encoding = self.positional_encoding(position, d_model)\n",
        "\n",
        "    def get_angles(self, position, i, d_model):\n",
        "        angles = 1 / tf.pow(10000, (2 * (i // 2)) / tf.cast(d_model, tf.float32))\n",
        "        return position * angles\n",
        "\n",
        "    def positional_encoding(self, position, d_model):\n",
        "        angle_rads = self.get_angles(\n",
        "            position=tf.range(position, dtype=tf.float32)[:, tf.newaxis],\n",
        "            i=tf.range(d_model, dtype=tf.float32)[tf.newaxis, :],\n",
        "            d_model=d_model)\n",
        "\n",
        "        # 배열의 짝수 인덱스(2i)에는 사인 함수 적용\n",
        "        sines = tf.math.sin(angle_rads[:, 0::2])\n",
        "\n",
        "        # 배열의 홀수 인덱스(2i+1)에는 코사인 함수 적용\n",
        "        cosines = tf.math.cos(angle_rads[:, 1::2])\n",
        "\n",
        "        angle_rads = np.zeros(angle_rads.shape)\n",
        "        angle_rads[:, 0::2] = sines\n",
        "        angle_rads[:, 1::2] = cosines\n",
        "        pos_encoding = tf.constant(angle_rads)\n",
        "        pos_encoding = pos_encoding[tf.newaxis, ...]\n",
        "\n",
        "        print(pos_encoding.shape)\n",
        "        return tf.cast(pos_encoding, tf.float32)\n",
        "\n",
        "    def call(self, inputs):\n",
        "        return inputs + self.pos_encoding[:, :tf.shape(inputs)[1], :]"
      ],
      "id": "86de7698-c8eb-4c1b-bc12-e0eacbc328df"
    },
    {
      "cell_type": "markdown",
      "metadata": {},
      "source": [
        "포지셔널 인코딩 행렬 시각화"
      ],
      "id": "9427c6c4-aa2c-4023-9fcd-b697f3d86036"
    },
    {
      "cell_type": "code",
      "execution_count": 60,
      "metadata": {},
      "outputs": [
        {
          "output_type": "stream",
          "name": "stdout",
          "text": [
            "(1, 50, 128)"
          ]
        },
        {
          "output_type": "display_data",
          "metadata": {},
          "data": {
            "image/png": "[encoded data removed]"
          }
        }
      ],
      "source": [
        "# 문장의 길이 50, 임베딩 벡터의 차원 128\n",
        "sample_pos_encoding = PositionalEncoding(50, 128)\n",
        "\n",
        "plt.pcolormesh(sample_pos_encoding.pos_encoding.numpy()[0], cmap='RdBu')\n",
        "plt.xlabel('Depth')\n",
        "plt.xlim((0, 128))\n",
        "plt.ylabel('Position')\n",
        "plt.colorbar()\n",
        "plt.show()"
      ],
      "id": "12eb9870-18b4-4aff-b4a4-e21ab0e92432"
    },
    {
      "cell_type": "markdown",
      "metadata": {},
      "source": [
        "# Attention\n",
        "\n",
        "**Encoder Self-Attention**\n",
        "\n",
        "-   인코더에서 이루어짐\n",
        "-   Query = Key = Value(값이 같다는 말이 아님)"
      ],
      "id": "e1b6bd1e-c1dc-44bb-a0bc-c9b20ae47104"
    },
    {
      "cell_type": "code",
      "execution_count": null,
      "metadata": {},
      "outputs": [
        {
          "output_type": "display_data",
          "metadata": {},
          "data": {
            "text/html": [
              "</p>"
            ]
          }
        }
      ],
      "source": [],
      "id": "e8cb0a61-4b3d-4932-a644-bbbba7e5918a"
    },
    {
      "cell_type": "markdown",
      "metadata": {},
      "source": [
        "**Masked Decoder Self-Attention**\n",
        "\n",
        "-   디코더에서 이루어짐\n",
        "-   Query = Key = Value(값이 같다는 말이 아님)"
      ],
      "id": "9c66a263-7bf2-460a-9f4d-8fcf44f3f4bb"
    },
    {
      "cell_type": "code",
      "execution_count": null,
      "metadata": {},
      "outputs": [
        {
          "output_type": "display_data",
          "metadata": {},
          "data": {
            "text/html": [
              "</p>"
            ]
          }
        }
      ],
      "source": [],
      "id": "a5bfa1ec-8f43-429d-aca5-97d9912cc82e"
    },
    {
      "cell_type": "markdown",
      "metadata": {},
      "source": [
        "**Encoder-Decoder Attention**\n",
        "\n",
        "-   디코더에서 이루어짐\n",
        "-   Query = 디코더 벡터, Key = Value = 인코더 벡터"
      ],
      "id": "9daff1ad-056f-4327-afc5-68549f012324"
    },
    {
      "cell_type": "code",
      "execution_count": null,
      "metadata": {},
      "outputs": [
        {
          "output_type": "display_data",
          "metadata": {},
          "data": {
            "text/html": [
              "</p>"
            ]
          }
        }
      ],
      "source": [],
      "id": "4ebe8265-8978-430f-9f80-cdc8b47b421d"
    },
    {
      "cell_type": "markdown",
      "metadata": {},
      "source": [
        "> **Important**\n",
        ">\n",
        "> 셀프 어텐션은 Query, Key, Value가 동일한 경우를 말함\n",
        ">\n",
        "> Encoder-Decoder Attention의 경우 Query가 디코더의 벡터인 반면에 Key와\n",
        "> Value가 인코더의 벡터이므로 셀프 어텐션이라고 부르지 않음\n",
        ">\n",
        "> **여기서 Query, Key 등이 같다는 것은 벡터의 값이 같다는 것이 아닌\n",
        "> 벡터의 출처가 같다는 의미**"
      ],
      "id": "e222d4c9-d101-4e98-be6a-d8f96dcd2038"
    },
    {
      "cell_type": "code",
      "execution_count": null,
      "metadata": {},
      "outputs": [
        {
          "output_type": "display_data",
          "metadata": {},
          "data": {
            "text/html": [
              "</p>"
            ]
          }
        }
      ],
      "source": [],
      "id": "47d281b8-8468-4cf1-9bcb-9a8605547443"
    },
    {
      "cell_type": "markdown",
      "metadata": {},
      "source": [
        "위(각각 하나의 층으로 봄)의 인코더, 디코더가 num_layer지정한 수만큼 있음\n",
        "\n",
        "# Encoder\n",
        "\n",
        "-   하나의 인코더 층은 크게 두 개의 서브층sublayer로 나뉨\n",
        "    -   셀프 어텐션 Self Attention\n",
        "    -   피드 포워드 신경망 Feed Forward Neural Network\n",
        "\n",
        "> **Tip**\n",
        ">\n",
        "> **Multi-head Self Attention**\n",
        ">\n",
        "> -   셀프 어텐션을 병렬적으로 사용하였다는 의미\n",
        ">\n",
        "> **Position-wise FFNN**\n",
        ">\n",
        "> -   순방향신경망\n",
        "\n",
        "# Self Attention of Encoder\n",
        "\n",
        "> **Note**\n",
        ">\n",
        "> Remind\n",
        ">\n",
        "> -   어텐션 함수는 주어진 Query에 대해 모든 Key와의 유사도를 구함\n",
        "> -   유사도를 가중치로 하여 Key와 맴핑되어 있는 각각의 Value에 반영해\n",
        ">     좀\n",
        "> -   이 유사도가 반영된 Value를 모두 가중합하여 Return\n",
        "\n",
        "-   seq2seq에서의 Q,K,V의 정의\n",
        "    -   Q = Query, t 시점의 디코더 셀에서의 은닉상태\n",
        "    -   K = Key, 모든 시점의 인코더 셀의 은닉상태들\n",
        "    -   V = Value, 모든 시점의 인코더 셀의 은닉상태들\n",
        "\n",
        "$\\to$ t 시점의\\~의 의미는 변하면서 반복적으로 쿼리 수행하니까 결국은\n",
        "전체 시점에 대해서 일반화 가능\n",
        "\n",
        "-   seq2seq에서의 Q,K,V의 정의\n",
        "    -   Q = Query, 모든 시점의 디코더 셀에서의 은닉상태들\n",
        "    -   K = Key, 모든 시점의 인코더 셀의 은닉상태들\n",
        "    -   V = Value, 모든 시점의 인코더 셀의 은닉상태들\n",
        "\n",
        "## 1. Self Attention\n",
        "\n",
        "-   *셀프 어텐션*\n",
        "    -   Q = 입력 문장의 모든 단어 벡터들\n",
        "    -   K = 입력 문장의 모든 단어 벡터들\n",
        "    -   V = 입력 문장의 모든 단어 벡터들\n",
        "-   **연속된 문장들에 대하여 지칭하는 단어가 다르지만 의미는 같을 수\n",
        "    있는데, 셀프 어텐션은 이 유사도를 구하여서 연관 가능성을 찾아낸다.**\n",
        "\n",
        "## 2. Q, K, V\n",
        "\n",
        "-   셀프 어텐션은 일단 문장의 각 단어 벡터로부터 Q벡터, K벡터, V벡터를\n",
        "    얻음.\n",
        "    -   Q벡터, K벡터, V벡터는 $d_{model}$ 차원을 가지는 단어 벡터들보다\n",
        "        더 작은 차원을 가짐\n",
        "    -   논문을 예로 들면 $d_{model}$의 차원은 512, Q벡터, K벡터, V벡터의\n",
        "        차원은 각각 64\n",
        "    -   이 64는 또 다른 하이퍼파라미터인 num_heads로 결정되는데,\n",
        "        트랜스포머는 $d_{model}$을 num_heads로 나눈 값을 Q벡터, K벡터,\n",
        "        V벡터의 차원으로 결정.\n",
        "    -   논문의 num_heads = 8이었으니까 $512/8 = 64$로 결정된 것\n",
        "    -   이 Q벡터, K벡터, V벡터는 단어마다, 벡터마다 서로 다른 가중치\n",
        "        행렬을 곱하여 얻음\n",
        "    -   각 단어마다 Q벡터, K벡터, V벡터 각각의 가중치, Q벡터, K벡터,\n",
        "        V벡터 각각이 존재하는 것\n",
        "\n",
        "## 3. Scaled dot-product Attention\n",
        "\n",
        "각 단어 별로 Q벡터, K벡터, V벡터를 구한 후 각 Q벡터는 모든 K벡터에\n",
        "대해서 어텐션 스코어를 구하고, 어텐션 분포를 구한 뒤 이를 사용하여 모든\n",
        "V벡터를 가중합하여 어텐션 값 또는 컨텍스트 벡터를 구함-\\> 모든 Q벡터에\n",
        "대해 반복\n",
        "\n",
        "-   내적한 후 특정값을 나눔으로써 값을 조정하는 과정 추가한 스케일드\n",
        "    갓-프로덕트 어텐션\n",
        "\n",
        "$$score(q,k) = \\frac{q k}{\\sqrt{n}}$$\n",
        "\n",
        "$\\sqrt{n}$이 결정되는 과정\n",
        "\n",
        "-   논문을 예로 들면 $d_{model}$의 차원이 512, num_heads가 8, Q,K,V의\n",
        "    차원 $d_k$가 64(512/8) 이었음, 여기서 64에 root 취한 8으로 결정되는\n",
        "    것\n",
        "\n",
        "## 4. 행렬 연산으로 일괄 처리\n",
        "\n",
        "Q 벡터마다 3을 연산하는 것을 피하기 위함\n",
        "\n",
        "1.  문장 행렬에 가중치 행렬을 곱하여 Q행렬, K행렬, V행렬을 구한다(단지\n",
        "    벡터를 행렬화한 것 뿐).\n",
        "2.  각 단어의 Q벡터와 전치한 K벡터의 내적이 각 행렬의 원소가 되는 행렬을\n",
        "    결과로 추출.\n",
        "3.  2번의 결과에 $\\sqrt{d_k}$를 나누어 softmax취한 후 V행렬을 곱하여 각\n",
        "    행과 열이 어텐션 스코어 값을 가지는 행렬을 구함.\n",
        "\n",
        "$$Attention(Q,K,V) = softmax(\\frac{QK^\\top}{\\sqrt{d_k}})V$$\n",
        "\n",
        "입력 문장의 길이가 seq_len이라면, 문장 행렬의 크기는\n",
        "(seq_len,$d_{model}$)\n",
        "\n",
        "*차원 정리*\n",
        "\n",
        "-   $Q$ = (seq_len, $d_k)$\n",
        "    -   $W^Q = (d_{model},d_k)$\n",
        "-   $K^\\top$ = ($d_k$, seq_len)\n",
        "    -   $W^K = (d_{model},d_k)$\n",
        "-   $V$ = (seq_len, $d_v)$\n",
        "    -   $W^V = (d_{model},d_v)$\n",
        "-   논문에서는 $d_k,d_v$의 차원이 $d_{model}$/num_heads로 같게 설정함\n",
        "-   attention score matrix = (seq_len, $d_v$)\n",
        "\n",
        "## 5. Scaled dot-product attention 구현"
      ],
      "id": "bf20b406-7336-4f9f-80a1-231dc202bdfa"
    },
    {
      "cell_type": "code",
      "execution_count": 65,
      "metadata": {},
      "outputs": [],
      "source": [
        "def scaled_dot_product_attention(query, key, value, mask):\n",
        "    # query 크기 : (batch_size, num_heads, query의 문장 길이, d_model/num_heads)\n",
        "    # key 크기 : (batch_size, num_heads, key의 문장 길이, d_model/num_heads)\n",
        "    # value 크기 : (batch_size, num_heads, value의 문장 길이, d_model/num_heads)\n",
        "    # padding_mask : (batch_size, 1, 1, key의 문장 길이)\n",
        "\n",
        "    # Q와 K의 곱. 어텐션 스코어 행렬.\n",
        "    matmul_qk = tf.matmul(query, key, transpose_b=True)\n",
        "\n",
        "    # 스케일링\n",
        "    # dk의 루트값으로 나눠준다.\n",
        "    depth = tf.cast(tf.shape(key)[-1], tf.float32)\n",
        "    logits = matmul_qk / tf.math.sqrt(depth)\n",
        "\n",
        "    # 마스킹. 어텐션 스코어 행렬의 마스킹 할 위치에 매우 작은 음수값을 넣는다.\n",
        "    # 매우 작은 값이므로 소프트맥스 함수를 지나면 행렬의 해당 위치의 값은 0이 된다.\n",
        "    if mask is not None:\n",
        "        logits += (mask * -1e9)\n",
        "\n",
        "    # 소프트맥스 함수는 마지막 차원인 key의 문장 길이 방향으로 수행된다.\n",
        "    # attention weight : (batch_size, num_heads, query의 문장 길이, key의 문장 길이)\n",
        "    attention_weights = tf.nn.softmax(logits, axis=-1)\n",
        "\n",
        "    # output : (batch_size, num_heads, query의 문장 길이, d_model/num_heads)\n",
        "    output = tf.matmul(attention_weights, value)\n",
        "\n",
        "    return output, attention_weights"
      ],
      "id": "e401490f-c341-440c-aa52-f11b492ed56c"
    },
    {
      "cell_type": "markdown",
      "metadata": {},
      "source": [
        "scaled_dot_product_attention 실행"
      ],
      "id": "462719a1-94f3-438e-ae02-bd505aa2730d"
    },
    {
      "cell_type": "code",
      "execution_count": 67,
      "metadata": {},
      "outputs": [],
      "source": [
        "# 임의의 Query, Key, Value인 Q, K, V 행렬 생성\n",
        "np.set_printoptions(suppress=True)\n",
        "temp_k = tf.constant([[10,0,0],\n",
        "                      [0,10,0],\n",
        "                      [0,0,10],\n",
        "                      [0,0,10]], dtype=tf.float32)  # (4, 3)\n",
        "\n",
        "temp_v = tf.constant([[   1,0],\n",
        "                      [  10,0],\n",
        "                      [ 100,5],\n",
        "                      [1000,6]], dtype=tf.float32)  # (4, 2)\n",
        "temp_q = tf.constant([[0, 10, 0]], dtype=tf.float32)  # (1, 3)"
      ],
      "id": "3d847da3-9365-47ba-ba0a-813fe8cf8a4d"
    },
    {
      "cell_type": "markdown",
      "metadata": {},
      "source": [
        "query에 해당하는 \\[0,10,0\\]은 key에 해당하는 두 번째 값과 일치해야 함."
      ],
      "id": "e6df62db-4210-4eb3-9a47-ae3b2625e875"
    },
    {
      "cell_type": "code",
      "execution_count": 68,
      "metadata": {},
      "outputs": [
        {
          "output_type": "stream",
          "name": "stdout",
          "text": [
            "tf.Tensor([[0. 1. 0. 0.]], shape=(1, 4), dtype=float32)\n",
            "tf.Tensor([[10.  0.]], shape=(1, 2), dtype=float32)"
          ]
        }
      ],
      "source": [
        "# 함수 실행\n",
        "temp_out, temp_attn = scaled_dot_product_attention(temp_q, temp_k, temp_v, None)\n",
        "print(temp_attn) # 어텐션 분포(어텐션 가중치의 나열)\n",
        "print(temp_out) # 어텐션 값"
      ],
      "id": "74f8d590-e3e3-4a62-801c-c657c5501681"
    },
    {
      "cell_type": "markdown",
      "metadata": {},
      "source": [
        "두 번째 값과 일치했어서 두 번째가 1인 값을 반환, 결과적으로 \\[10,0\\]의\n",
        "어텐션 값 반환"
      ],
      "id": "700e2a71-7667-4da2-972f-af32522cf700"
    },
    {
      "cell_type": "code",
      "execution_count": 71,
      "metadata": {},
      "outputs": [
        {
          "output_type": "stream",
          "name": "stdout",
          "text": [
            "tf.Tensor([[0.  0.  0.5 0.5]], shape=(1, 4), dtype=float32)\n",
            "tf.Tensor([[550.    5.5]], shape=(1, 2), dtype=float32)"
          ]
        }
      ],
      "source": [
        "temp_q = tf.constant([[0, 0, 10]], dtype=tf.float32)\n",
        "temp_out, temp_attn = scaled_dot_product_attention(temp_q, temp_k, temp_v, None)\n",
        "print(temp_attn) # 어텐션 분포(어텐션 가중치의 나열)\n",
        "print(temp_out) # 어텐션 값"
      ],
      "id": "ef2375ae-a2c8-43c0-98f9-e75e73c3b3a4"
    },
    {
      "cell_type": "markdown",
      "metadata": {},
      "source": [
        "세 번째 값과 네 번째 값이 같이 일치하다면? 합이 1이되게 나눠서 0.5,0.5씩\n",
        "나눠짐\n",
        "\n",
        "-   \\[100,5\\] \\* 0.5 + \\[1000,6\\] \\* 0.5 = \\[550,5.5\\]"
      ],
      "id": "abfcfe23-5f71-4679-b0e6-49a99d1e4875"
    },
    {
      "cell_type": "code",
      "execution_count": 74,
      "metadata": {},
      "outputs": [
        {
          "output_type": "display_data",
          "metadata": {},
          "data": {
            "text/plain": [
              "[550.0, 5.5]"
            ]
          }
        }
      ],
      "source": [
        "[100*0.5 + 1000*0.5,5*0.5 + 6*0.5]"
      ],
      "id": "a54fd84b-74a0-452a-ad8d-9888a68e1f99"
    },
    {
      "cell_type": "code",
      "execution_count": 75,
      "metadata": {},
      "outputs": [
        {
          "output_type": "stream",
          "name": "stdout",
          "text": [
            "tf.Tensor(\n",
            "[[0.  0.  0.5 0.5]\n",
            " [0.  1.  0.  0. ]\n",
            " [0.5 0.5 0.  0. ]], shape=(3, 4), dtype=float32)\n",
            "tf.Tensor(\n",
            "[[550.    5.5]\n",
            " [ 10.    0. ]\n",
            " [  5.5   0. ]], shape=(3, 2), dtype=float32)"
          ]
        }
      ],
      "source": [
        "temp_q = tf.constant([[0, 0, 10], [0, 10, 0], [10, 10, 0]], dtype=tf.float32)  # (3, 3)\n",
        "temp_out, temp_attn = scaled_dot_product_attention(temp_q, temp_k, temp_v, None)\n",
        "print(temp_attn) # 어텐션 분포(어텐션 가중치의 나열)\n",
        "print(temp_out) # 어텐션 값"
      ],
      "id": "60914313-2d43-4391-bec3-30f29716c19a"
    },
    {
      "cell_type": "markdown",
      "metadata": {},
      "source": [
        "## 6. Multi-head Attention\n",
        "\n",
        "왜 스케일링하여 어텐션 스코어를 구했을까?\n",
        "\n",
        "-   논문에서는 한 번의 어텐션보다 여러번의 어텐션을 병렬로 사용하는 것이\n",
        "    더 효과적이라고 판단\n",
        "-   그래서 $d_{model}$의 차원을 num_heads로 나누어\n",
        "    $d_{model}$/num_heads의 차원을 가지는 Q,K,V에 대해서 num_heads 개의\n",
        "    병렬 어텐션 수행\n",
        "-   num_heads만큼 병렬이 이뤄지는데, 이 때 나오는 각각의 **어텐션 값\n",
        "    행렬을 어텐션 헤드**라고 함.\n",
        "    -   이 때 가중치 행렬의 값$W^Q,W^K,W^V$은 num_heads의 어텐션\n",
        "        해드마다 전부 다름\n",
        "\n",
        "병렬로 수행한 효과?\n",
        "\n",
        "-   어텐션을 병렬로 수행하여 다른 시각으로 정보를 수집할 수 있음\n",
        "\n",
        "## 7. Multi-head Attention 구현\n",
        "\n",
        "가중치 행렬\n",
        "\n",
        "-   Q, K, V 행렬을 만들기 위한 가중치 행렬 $W^Q,W^K,W^V$\n",
        "-   어텐션 헤드들을 연결concatenation 후에 곱해주는 행렬 $W^O$\n",
        "\n",
        "가중치 행렬을 곱하는 것은 Dense layer 지나게 하여 구현\n",
        "\n",
        "1.  $W^Q,W^K,W^V$에 해당하는 $d_{model}$의 크기의 밀집층(Dense layer)을\n",
        "    지나게 한다.\n",
        "2.  지정된 헤드수 num_heads 만큼 나눈다(split).\n",
        "3.  scaled dot-product attention\n",
        "4.  나눠졌던 헤드들을 연결concatenatetion한다.\n",
        "5.  $W^O$에 해당하는 밀집층을 지나게 한다."
      ],
      "id": "9ed947a4-73c3-4101-8539-95e817e81724"
    },
    {
      "cell_type": "code",
      "execution_count": 77,
      "metadata": {},
      "outputs": [],
      "source": [
        "class MultiHeadAttention(tf.keras.layers.Layer):\n",
        "\n",
        "    def __init__(self, d_model, num_heads, name=\"multi_head_attention\"):\n",
        "        super(MultiHeadAttention, self).__init__(name=name)\n",
        "        self.num_heads = num_heads\n",
        "        self.d_model = d_model\n",
        "\n",
        "        assert d_model % self.num_heads == 0\n",
        "\n",
        "        # d_model을 num_heads로 나눈 값.\n",
        "        # 논문 기준 : 64\n",
        "        self.depth = d_model // self.num_heads\n",
        "\n",
        "        # WQ, WK, WV에 해당하는 밀집층 정의\n",
        "        self.query_dense = tf.keras.layers.Dense(units=d_model)\n",
        "        self.key_dense = tf.keras.layers.Dense(units=d_model)\n",
        "        self.value_dense = tf.keras.layers.Dense(units=d_model)\n",
        "\n",
        "        # WO에 해당하는 밀집층 정의\n",
        "        self.dense = tf.keras.layers.Dense(units=d_model)\n",
        "\n",
        "    # num_heads 개수만큼 q, k, v를 split하는 함수\n",
        "    def split_heads(self, inputs, batch_size):\n",
        "        inputs = tf.reshape(\n",
        "            inputs, shape=(batch_size, -1, self.num_heads, self.depth))\n",
        "        return tf.transpose(inputs, perm=[0, 2, 1, 3])\n",
        "\n",
        "    def call(self, inputs):\n",
        "        query, key, value, mask = inputs['query'], inputs['key'], inputs[\n",
        "            'value'], inputs['mask']\n",
        "        batch_size = tf.shape(query)[0]\n",
        "\n",
        "        # 1. WQ, WK, WV에 해당하는 밀집층 지나기\n",
        "        # q : (batch_size, query의 문장 길이, d_model)\n",
        "        # k : (batch_size, key의 문장 길이, d_model)\n",
        "        # v : (batch_size, value의 문장 길이, d_model)\n",
        "        # 참고) 인코더(k, v)-디코더(q) 어텐션에서는 query 길이와 key, value의 길이는 다를 수 있다.\n",
        "        query = self.query_dense(query)\n",
        "        key = self.key_dense(key)\n",
        "        value = self.value_dense(value)\n",
        "\n",
        "        # 2. 헤드 나누기\n",
        "        # q : (batch_size, num_heads, query의 문장 길이, d_model/num_heads)\n",
        "        # k : (batch_size, num_heads, key의 문장 길이, d_model/num_heads)\n",
        "        # v : (batch_size, num_heads, value의 문장 길이, d_model/num_heads)\n",
        "        query = self.split_heads(query, batch_size)\n",
        "        key = self.split_heads(key, batch_size)\n",
        "        value = self.split_heads(value, batch_size)\n",
        "\n",
        "        # 3. 스케일드 닷 프로덕트 어텐션. 앞서 구현한 함수 사용.\n",
        "        # (batch_size, num_heads, query의 문장 길이, d_model/num_heads)\n",
        "        scaled_attention, _ = scaled_dot_product_attention(query, key, value, mask)\n",
        "        # (batch_size, query의 문장 길이, num_heads, d_model/num_heads)\n",
        "        scaled_attention = tf.transpose(scaled_attention, perm=[0, 2, 1, 3])\n",
        "\n",
        "        # 4. 헤드 연결(concatenate)하기\n",
        "        # (batch_size, query의 문장 길이, d_model)\n",
        "        concat_attention = tf.reshape(scaled_attention,\n",
        "                                      (batch_size, -1, self.d_model))\n",
        "\n",
        "        # 5. WO에 해당하는 밀집층 지나기\n",
        "        # (batch_size, query의 문장 길이, d_model)\n",
        "        outputs = self.dense(concat_attention)\n",
        "\n",
        "        return outputs"
      ],
      "id": "24cc9ea5-eec0-4499-b042-3110c871ee55"
    },
    {
      "cell_type": "markdown",
      "metadata": {},
      "source": [
        "## 8. Padding Mask\n",
        "\n",
        "어텐션에서 제외하기 위해 값을 가리는 역할\n",
        "\n",
        "-   방법: 어텐션 스코어 행렬의 마스킹 위치에 매우 작은 음수값을 넣어주기\n",
        "    -   소프트맥스 함수를 지나면 값이 0이 되어 유사도 구할때 반영되지\n",
        "        않름."
      ],
      "id": "e50dad8e-235e-4d0c-ba2d-78e74caab897"
    },
    {
      "cell_type": "code",
      "execution_count": 79,
      "metadata": {},
      "outputs": [],
      "source": [
        "def create_padding_mask(x):\n",
        "    mask = tf.cast(tf.math.equal(x, 0), tf.float32)\n",
        "    # (batch_size, 1, 1, key의 문장 길이)\n",
        "    return mask[:, tf.newaxis, tf.newaxis, :]"
      ],
      "id": "7d93050b-58ca-4b03-a7be-69d60fa22df7"
    },
    {
      "cell_type": "code",
      "execution_count": 80,
      "metadata": {},
      "outputs": [
        {
          "output_type": "stream",
          "name": "stdout",
          "text": [
            "tf.Tensor([[[[0. 0. 0. 1. 1.]]]], shape=(1, 1, 1, 5), dtype=float32)"
          ]
        }
      ],
      "source": [
        "print(create_padding_mask(tf.constant([[1, 21, 777, 0, 0]])))"
      ],
      "id": "1ce48078-dcab-4d14-88c4-cbe53dc8a17c"
    },
    {
      "cell_type": "markdown",
      "metadata": {},
      "source": [
        "# Position-wise Feed Forward Neural Network\n",
        "\n",
        "인코더와 디코더에서 공통적으로 가지고 있는 서브층\n",
        "\n",
        "= FFNN(Fully Connected FFNN)\n",
        "\n",
        "$$FFNN(x) = MAX(0,xW-1 + b_1)W_2 + b_2$$\n",
        "\n",
        "$x$ -\\> $F_1 = xW_1 + b_1$ -\\> 활성화 함수:ReLU $F_2 = max(0,F_1)$ -\\>\n",
        "$F_3 = F_2W_2 + b_2$\n",
        "\n",
        "-   여기서 $x$는 멀티 헤드 어텐션의 결과로 나온 (seq_len, $d_{model}$)의\n",
        "    차원을 가지는 행렬\n",
        "-   가중치 행렬 $W_1$ = ($d_{model}, d_{ff}$)\n",
        "-   가중치 행렬 $W_2$ = ($d_{ff},d_{model}$)\n",
        "-   논문은 $d_{ff}$를 2048로 정의\n",
        "-   매개변수 $W_1,W_2,b_1,b_2$는 각 인코더 층마다 동일하게 계산되지만\n",
        "    값은 층마다 다 다르다.\n",
        "\n",
        "``` python\n",
        "# 다음의 코드는 인코더와 디코더 내부에서 사용할 예정입니다.\n",
        "outputs = tf.keras.layers.Dense(units=dff, activation='relu')(attention)\n",
        "outputs = tf.keras.layers.Dense(units=d_model)(outputs)\n",
        "```\n",
        "\n",
        "# Residual connection and Layer Normalization\n",
        "\n",
        "## 1. 잔차 연결\n",
        "\n",
        "$$H(x) = x + F(x)$$\n",
        "\n",
        "-   $F(x)$는 트랜스포머에서 서브층에 해당\n",
        "-   즉, 장차 연결은 서브층의 입력과 출력을 더하는 것\n",
        "-   서브층의 입력과 출력은 동일한 차원을 갖고 있어서 가능\n",
        "-   그래서 재귀하는 것처럼 다이어그램 그려보면 화살표가 출력층에서 나와\n",
        "    입력층으로 들어가는 모습\n",
        "-   *잔차 연결은 컴퓨터 비전 분야에서 주로 사용되는 모델의 학습을 돕는\n",
        "    기법*\n",
        "\n",
        "식으로 표현 -\\> $x + Sublayer(x)$\n",
        "\n",
        "서브층이 멀티 헤드 어텐션이었다면 \\$H(x) - x + Multi - head Attention(x)\n",
        "\n",
        "참고 : [잔차연결 관련 논문](https://arxiv.org/pdf/1512.03385.pdf)\n",
        "\n",
        "## 2. 층 정규화\n",
        "\n",
        "잔차연결과 층 정규화 모두 수행한 함수\n",
        "\n",
        "$$LN = LayerNorm(x+Sublayer(x))$$\n",
        "\n",
        "텐서의 마지막 차원에 대하여 평균과 분산을 구하고, 이를 가지고 어떤\n",
        "수식을 통해 값을 정규화하여 학습을 도움\n",
        "\n",
        "-   텐서의 마지막 차원 = 트랜스포머에서는 $d_{model}$ 차원을 의미\n",
        "\n",
        "1.  평균과 분산을 통한 벡터 $x_i$ 정규화\n",
        "\n",
        "    -   스칼라인 평균과 분산 도출\n",
        "    -   $\\epsilon$은 분모가 0이 되는 것을 방지\n",
        "\n",
        "$$\\hat{x}_{i,k} = \\frac{x_{i,k} - \\mu_i}{\\sqrt{\\sigma^2_i + \\epsilon}}$$\n",
        "\n",
        "1.  감마와 베타 도입\n",
        "\n",
        "-   LayerNormalization(케라스에 내장되어 있음)\n",
        "\n",
        "$$ln_i = \\gamma \\hat{x}_i + \\beta = LayerNorm(x_i)$$\n",
        "\n",
        "참고: [층 정규화 관련 논문](https://arxiv.org/pdf/1607.06450.pdf)\n",
        "\n",
        "# Encoder 구현\n",
        "\n",
        "인코더 입력으로 들어가는 문장에는 패딩이 있을 수 있으므로 어텐션 시 패딩\n",
        "토큰을 제외하도록 패딩 마스크를 사용\n",
        "\n",
        "-   multiheadattention 함수의 mask 인자값으로 padding_mask가 사용되는\n",
        "    이유\n",
        "-   인코더는 두 개의 서브층으로 이루어짐\n",
        "    -   멀티 헤드 어텐션\n",
        "    -   피드 포워드 신경망\n",
        "-   서브층 이후 드롭 아웃, 잔차 연결, 층 정규화 수행"
      ],
      "id": "23c6ffeb-a4dc-4e01-8b48-3ac6d7540ea7"
    },
    {
      "cell_type": "code",
      "execution_count": 86,
      "metadata": {},
      "outputs": [],
      "source": [
        "def encoder_layer(dff, d_model, num_heads, dropout, name=\"encoder_layer\"):\n",
        "    inputs = tf.keras.Input(shape=(None, d_model), name=\"inputs\")\n",
        "\n",
        "    # 인코더는 패딩 마스크 사용\n",
        "    padding_mask = tf.keras.Input(shape=(1, 1, None), name=\"padding_mask\")\n",
        "\n",
        "    # 멀티-헤드 어텐션 (첫번째 서브층 / 셀프 어텐션)\n",
        "    attention = MultiHeadAttention(\n",
        "      d_model, num_heads, name=\"attention\")({\n",
        "          'query': inputs, 'key': inputs, 'value': inputs, # Q = K = V\n",
        "          'mask': padding_mask # 패딩 마스크 사용\n",
        "      })\n",
        "\n",
        "    # 드롭아웃 + 잔차 연결과 층 정규화\n",
        "    attention = tf.keras.layers.Dropout(rate=dropout)(attention)\n",
        "    attention = tf.keras.layers.LayerNormalization(\n",
        "      epsilon=1e-6)(inputs + attention)\n",
        "\n",
        "    # 포지션 와이즈 피드 포워드 신경망 (두번째 서브층)\n",
        "    outputs = tf.keras.layers.Dense(units=dff, activation='relu')(attention)\n",
        "    outputs = tf.keras.layers.Dense(units=d_model)(outputs)\n",
        "\n",
        "    # 드롭아웃 + 잔차 연결과 층 정규화\n",
        "    outputs = tf.keras.layers.Dropout(rate=dropout)(outputs)\n",
        "    outputs = tf.keras.layers.LayerNormalization(\n",
        "      epsilon=1e-6)(attention + outputs)\n",
        "\n",
        "    return tf.keras.Model(\n",
        "        inputs=[inputs, padding_mask], outputs=outputs, name=name)"
      ],
      "id": "39bcce0f-da28-4c2f-9a81-7250356f934c"
    },
    {
      "cell_type": "markdown",
      "metadata": {},
      "source": [
        "# Encoder 쌓기"
      ],
      "id": "e6c4f14b-c38a-4b53-ab96-bf7d692e7f20"
    },
    {
      "cell_type": "code",
      "execution_count": 89,
      "metadata": {},
      "outputs": [],
      "source": [
        "def encoder(vocab_size, num_layers, dff,\n",
        "            d_model, num_heads, dropout,\n",
        "            name=\"encoder\"):\n",
        "    inputs = tf.keras.Input(shape=(None,), name=\"inputs\")\n",
        "\n",
        "    # 인코더는 패딩 마스크 사용\n",
        "    padding_mask = tf.keras.Input(shape=(1, 1, None), name=\"padding_mask\")\n",
        "\n",
        "    # 포지셔널 인코딩 + 드롭아웃\n",
        "    embeddings = tf.keras.layers.Embedding(vocab_size, d_model)(inputs)\n",
        "    embeddings *= tf.math.sqrt(tf.cast(d_model, tf.float32))\n",
        "    embeddings = PositionalEncoding(vocab_size, d_model)(embeddings)\n",
        "    outputs = tf.keras.layers.Dropout(rate=dropout)(embeddings)\n",
        "\n",
        "    # 인코더를 num_layers개 쌓기\n",
        "    for i in range(num_layers):\n",
        "        outputs = encoder_layer(dff=dff, d_model=d_model, num_heads=num_heads,\n",
        "            dropout=dropout, name=\"encoder_layer_{}\".format(i),\n",
        "        )([outputs, padding_mask])\n",
        "\n",
        "    return tf.keras.Model(\n",
        "      inputs=[inputs, padding_mask], outputs=outputs, name=name)"
      ],
      "id": "6692068c-707c-4dd4-9b54-fc9fdbc2f93f"
    },
    {
      "cell_type": "markdown",
      "metadata": {},
      "source": [
        "인코더 층을 num_layers 만큼 쌓는 클래스\n",
        "\n",
        "# Encoder에서 Decoder로\n",
        "\n",
        "인코더에서 num_layers만큼 총 연산을 순차적으로 한 후 마지막 층의\n",
        "인코더의 출력을 디코더로 전달\n",
        "\n",
        "# Decoder: Self-Attention and Look-ahead Mask\n",
        "\n",
        "트랜스포머는 문장 행렬로 입력을 한 번에 받기 때문에 현재 시점의 단어를\n",
        "예측하고자 할 때 입력 문장 행렬로부터 미래 시점의 단어까지 참고하느\n",
        "현상이 발생\n",
        "\n",
        "이를 위해 디코더에서 현재 시점의 예측에서 현재 시점보다 미래에 있는\n",
        "단어들을 참고하지 못하도록 룩-어헤드 마스크 도입\n",
        "\n",
        "**디코더의 첫번때 서브층에서 이루어짐**\n",
        "\n",
        "**디코더의 셀프 어텐션은 인코더의 멀티 헤드 셀프 어텐션과 동일한 연산을\n",
        "수행하나, 어텐션 스코어 행렬에서 마스킹을 적용하는 점이 다름**\n",
        "\n",
        "-\\> 미리보기 방지를 위함\n",
        "\n",
        "트랜스포머 마스킹의 종류\n",
        "\n",
        "1.  인코더의 셀프 어텐션 = 패딩 마스크를 전달\n",
        "2.  디코더의 첫번째 서브층인 마스크드 셀프 어텐션 = 룩-어헤드 마스크를\n",
        "    전달\n",
        "3.  디코더의 두번째 서브층인 인코더-디코더 어텐션 = 패딩 마스크를 전달"
      ],
      "id": "e2a79fa9-cf80-4755-a55c-a8dea03a555a"
    },
    {
      "cell_type": "code",
      "execution_count": 90,
      "metadata": {},
      "outputs": [],
      "source": [
        "# 디코더의 첫번째 서브층(sublayer)에서 미래 토큰을 Mask하는 함수\n",
        "def create_look_ahead_mask(x):\n",
        "    seq_len = tf.shape(x)[1]\n",
        "    look_ahead_mask = 1 - tf.linalg.band_part(tf.ones((seq_len, seq_len)), -1, 0)\n",
        "    padding_mask = create_padding_mask(x) # 패딩 마스크도 포함\n",
        "    return tf.maximum(look_ahead_mask, padding_mask)"
      ],
      "id": "aa6e4d36-05ec-4fb6-b9a9-169a070bb960"
    },
    {
      "cell_type": "markdown",
      "metadata": {},
      "source": [
        "마스킹을 하고자 하는 위치에 1, 마스킹을 하지 않고자 하는 위이에 0을 리턴"
      ],
      "id": "095255e4-63e5-49fd-9ac8-baae62e851d7"
    },
    {
      "cell_type": "code",
      "execution_count": 92,
      "metadata": {},
      "outputs": [
        {
          "output_type": "stream",
          "name": "stdout",
          "text": [
            "tf.Tensor(\n",
            "[[[[0. 1. 1. 1. 1.]\n",
            "   [0. 0. 1. 1. 1.]\n",
            "   [0. 0. 1. 1. 1.]\n",
            "   [0. 0. 1. 0. 1.]\n",
            "   [0. 0. 1. 0. 0.]]]], shape=(1, 1, 5, 5), dtype=float32)"
          ]
        }
      ],
      "source": [
        "print(create_look_ahead_mask(tf.constant([[1, 2, 0, 4, 5]])))"
      ],
      "id": "d528dd6d-6280-4c80-b640-0ccc11d2eb1e"
    },
    {
      "cell_type": "markdown",
      "metadata": {},
      "source": [
        "## 2nd Decoder sublayer : Encoder-Decoder Attention\n",
        "\n",
        "디코더 두번째 서브층은 멀티 헤드 어텐션을 수행한다는 점에서 이전의\n",
        "어텐션들(인코더와 디코더의 첫번째 서브층)과는 공통점이 있으나 이건\n",
        "**셀프 어텐션이 아님!**\n",
        "\n",
        "-   **셀프 어텐션은 Query, Key, Value가 출처가 같은 경우를 말하는데,\n",
        "    인코더-디코더 어텐션은 Query가 디코더인 행렬인 반면, Key, Value가\n",
        "    인코더 행렬이기 때문**\n",
        "\n",
        "-   인코더의 첫번째 서브층 = Query = Key = Value\n",
        "\n",
        "-   디코더의 첫번째 서브층 = Query = Key = Value\n",
        "\n",
        "-   디코더의 두번째 서브층 = Query = 디코더 행렬(의 첫번째 서브층 결과),\n",
        "    Key = Value = 인코더 행렬(의 마지막 층에서 얻은 값)\n",
        "\n",
        "# Decoder 구현\n",
        "\n",
        "첫번째 서브층은 mask 인자값으로 look_ahead_mask가 들어가고, 두 번째\n",
        "서브층은 mask의 인자값으로 padding_mask가 들어가있음\n",
        "\n",
        "세 개의 서브층 모두 서브층 연산 후에는 드롭 아웃, 잔차 연결, 층 정규화가\n",
        "수행"
      ],
      "id": "a1980297-9402-4b82-a3c0-712e2d1654d4"
    },
    {
      "cell_type": "code",
      "execution_count": 93,
      "metadata": {},
      "outputs": [],
      "source": [
        "def decoder_layer(dff, d_model, num_heads, dropout, name=\"decoder_layer\"):\n",
        "    inputs = tf.keras.Input(shape=(None, d_model), name=\"inputs\")\n",
        "    enc_outputs = tf.keras.Input(shape=(None, d_model), name=\"encoder_outputs\")\n",
        "\n",
        "    # 룩어헤드 마스크(첫번째 서브층)\n",
        "    look_ahead_mask = tf.keras.Input(\n",
        "      shape=(1, None, None), name=\"look_ahead_mask\")\n",
        "\n",
        "    # 패딩 마스크(두번째 서브층)\n",
        "    padding_mask = tf.keras.Input(shape=(1, 1, None), name='padding_mask')\n",
        "\n",
        "    # 멀티-헤드 어텐션 (첫번째 서브층 / 마스크드 셀프 어텐션)\n",
        "    attention1 = MultiHeadAttention(\n",
        "      d_model, num_heads, name=\"attention_1\")(inputs={\n",
        "          'query': inputs, 'key': inputs, 'value': inputs, # Q = K = V\n",
        "          'mask': look_ahead_mask # 룩어헤드 마스크\n",
        "      })\n",
        "\n",
        "    # 잔차 연결과 층 정규화\n",
        "    attention1 = tf.keras.layers.LayerNormalization(\n",
        "      epsilon=1e-6)(attention1 + inputs)\n",
        "\n",
        "    # 멀티-헤드 어텐션 (두번째 서브층 / 디코더-인코더 어텐션)\n",
        "    attention2 = MultiHeadAttention(\n",
        "      d_model, num_heads, name=\"attention_2\")(inputs={\n",
        "          'query': attention1, 'key': enc_outputs, 'value': enc_outputs, # Q != K = V\n",
        "          'mask': padding_mask # 패딩 마스크\n",
        "      })\n",
        "\n",
        "    # 드롭아웃 + 잔차 연결과 층 정규화\n",
        "    attention2 = tf.keras.layers.Dropout(rate=dropout)(attention2)\n",
        "    attention2 = tf.keras.layers.LayerNormalization(\n",
        "      epsilon=1e-6)(attention2 + attention1)\n",
        "\n",
        "    # 포지션 와이즈 피드 포워드 신경망 (세번째 서브층)\n",
        "    outputs = tf.keras.layers.Dense(units=dff, activation='relu')(attention2)\n",
        "    outputs = tf.keras.layers.Dense(units=d_model)(outputs)\n",
        "\n",
        "    # 드롭아웃 + 잔차 연결과 층 정규화\n",
        "    outputs = tf.keras.layers.Dropout(rate=dropout)(outputs)\n",
        "    outputs = tf.keras.layers.LayerNormalization(\n",
        "      epsilon=1e-6)(outputs + attention2)\n",
        "\n",
        "    return tf.keras.Model(\n",
        "      inputs=[inputs, enc_outputs, look_ahead_mask, padding_mask],\n",
        "      outputs=outputs,\n",
        "      name=name)"
      ],
      "id": "4fe93f19-9f39-4edc-a95b-6736a41f0f1e"
    },
    {
      "cell_type": "markdown",
      "metadata": {},
      "source": [
        "# Decoder 쌓기\n",
        "\n",
        "num_layers 개수만큼 쌓기"
      ],
      "id": "50744b9d-eda4-4bbe-8adc-00860f20a21d"
    },
    {
      "cell_type": "code",
      "execution_count": 95,
      "metadata": {},
      "outputs": [],
      "source": [
        "def decoder(vocab_size, num_layers, dff,\n",
        "            d_model, num_heads, dropout,\n",
        "            name='decoder'):\n",
        "    inputs = tf.keras.Input(shape=(None,), name='inputs')\n",
        "    enc_outputs = tf.keras.Input(shape=(None, d_model), name='encoder_outputs')\n",
        "\n",
        "    # 디코더는 룩어헤드 마스크(첫번째 서브층)와 패딩 마스크(두번째 서브층) 둘 다 사용.\n",
        "    look_ahead_mask = tf.keras.Input(\n",
        "      shape=(1, None, None), name='look_ahead_mask')\n",
        "    padding_mask = tf.keras.Input(shape=(1, 1, None), name='padding_mask')\n",
        "\n",
        "    # 포지셔널 인코딩 + 드롭아웃\n",
        "    embeddings = tf.keras.layers.Embedding(vocab_size, d_model)(inputs)\n",
        "    embeddings *= tf.math.sqrt(tf.cast(d_model, tf.float32))\n",
        "    embeddings = PositionalEncoding(vocab_size, d_model)(embeddings)\n",
        "    outputs = tf.keras.layers.Dropout(rate=dropout)(embeddings)\n",
        "\n",
        "    # 디코더를 num_layers개 쌓기\n",
        "    for i in range(num_layers):\n",
        "        outputs = decoder_layer(dff=dff, d_model=d_model, num_heads=num_heads,\n",
        "            dropout=dropout, name='decoder_layer_{}'.format(i),\n",
        "        )(inputs=[outputs, enc_outputs, look_ahead_mask, padding_mask])\n",
        "\n",
        "    return tf.keras.Model(\n",
        "      inputs=[inputs, enc_outputs, look_ahead_mask, padding_mask],\n",
        "      outputs=outputs,\n",
        "      name=name)"
      ],
      "id": "dda40245-ad1a-4718-83e3-b0aeb246f459"
    },
    {
      "cell_type": "markdown",
      "metadata": {},
      "source": [
        "# Transformer 구현\n",
        "\n",
        "vocab_size는 다중 클래스 분류 문제를 풀 수 있도록 추가"
      ],
      "id": "99331b76-3e2b-4640-8408-3d6db1fea7cc"
    },
    {
      "cell_type": "code",
      "execution_count": 96,
      "metadata": {},
      "outputs": [],
      "source": [
        "def transformer(vocab_size, num_layers, dff,\n",
        "                d_model, num_heads, dropout,\n",
        "                name=\"transformer\"):\n",
        "\n",
        "    # 인코더의 입력\n",
        "    inputs = tf.keras.Input(shape=(None,), name=\"inputs\")\n",
        "\n",
        "    # 디코더의 입력\n",
        "    dec_inputs = tf.keras.Input(shape=(None,), name=\"dec_inputs\")\n",
        "\n",
        "    # 인코더의 패딩 마스크\n",
        "    enc_padding_mask = tf.keras.layers.Lambda(\n",
        "      create_padding_mask, output_shape=(1, 1, None),\n",
        "      name='enc_padding_mask')(inputs)\n",
        "\n",
        "    # 디코더의 룩어헤드 마스크(첫번째 서브층)\n",
        "    look_ahead_mask = tf.keras.layers.Lambda(\n",
        "      create_look_ahead_mask, output_shape=(1, None, None),\n",
        "      name='look_ahead_mask')(dec_inputs)\n",
        "\n",
        "    # 디코더의 패딩 마스크(두번째 서브층)\n",
        "    dec_padding_mask = tf.keras.layers.Lambda(\n",
        "      create_padding_mask, output_shape=(1, 1, None),\n",
        "      name='dec_padding_mask')(inputs)\n",
        "\n",
        "    # 인코더의 출력은 enc_outputs. 디코더로 전달된다.\n",
        "    enc_outputs = encoder(vocab_size=vocab_size, num_layers=num_layers, dff=dff,\n",
        "      d_model=d_model, num_heads=num_heads, dropout=dropout,\n",
        "    )(inputs=[inputs, enc_padding_mask]) # 인코더의 입력은 입력 문장과 패딩 마스크\n",
        "\n",
        "    # 디코더의 출력은 dec_outputs. 출력층으로 전달된다.\n",
        "    dec_outputs = decoder(vocab_size=vocab_size, num_layers=num_layers, dff=dff,\n",
        "      d_model=d_model, num_heads=num_heads, dropout=dropout,\n",
        "    )(inputs=[dec_inputs, enc_outputs, look_ahead_mask, dec_padding_mask])\n",
        "\n",
        "    # 다음 단어 예측을 위한 출력층\n",
        "    outputs = tf.keras.layers.Dense(units=vocab_size, name=\"outputs\")(dec_outputs)\n",
        "\n",
        "    return tf.keras.Model(inputs=[inputs, dec_inputs], outputs=outputs, name=name)"
      ],
      "id": "f56a49fe-de5d-4c9c-ae25-d0a7a4c06d76"
    },
    {
      "cell_type": "markdown",
      "metadata": {},
      "source": [
        "# Transformer hyperparameter 정하기\n",
        "\n",
        "예제 - num_layers = 4 \\# 인코더,디코더 층의 개수 - $d_{ff}$ = 128 \\#\n",
        "포지션 와이즈 피드 포워드 신경망의 은닉층 - $d_{model}$ = 128 \\#\n",
        "인코더와 디코더의 입, 출력의 차원 - num_heads = 4 \\# 멀티-헤드\n",
        "어텐션에서 병렬적으로 사용할 헤드의 수 - $d_v$ = 128 / 4 = 32"
      ],
      "id": "99c88105-d197-4179-baff-d69d24254b56"
    },
    {
      "cell_type": "code",
      "execution_count": 97,
      "metadata": {},
      "outputs": [
        {
          "output_type": "stream",
          "name": "stdout",
          "text": [
            "(1, 9000, 128)\n",
            "(1, 9000, 128)\n",
            "You must install pydot (`pip install pydot`) and install graphviz (see instructions at https://graphviz.gitlab.io/download/) for plot_model to work."
          ]
        }
      ],
      "source": [
        "small_transformer = transformer(\n",
        "    vocab_size = 9000,\n",
        "    num_layers = 4,\n",
        "    dff = 512,\n",
        "    d_model = 128,\n",
        "    num_heads = 4,\n",
        "    dropout = 0.3,\n",
        "    name=\"small_transformer\")\n",
        "\n",
        "tf.keras.utils.plot_model(\n",
        "    small_transformer, to_file='small_transformer.png', show_shapes=True)"
      ],
      "id": "3986f0b9-4ec0-485f-bb98-2a056739e811"
    },
    {
      "cell_type": "markdown",
      "metadata": {},
      "source": [
        "# Loss Function 정의\n",
        "\n",
        "예제가 다중 클래스라 크로스 엔트로피 함수를 손실 함수로 정의함"
      ],
      "id": "b0ec5ac1-ad73-4434-afcb-228122a0886f"
    },
    {
      "cell_type": "code",
      "execution_count": 99,
      "metadata": {},
      "outputs": [],
      "source": [
        "def loss_function(y_true, y_pred):\n",
        "    y_true = tf.reshape(y_true, shape=(-1, MAX_LENGTH - 1))\n",
        "\n",
        "    loss = tf.keras.losses.SparseCategoricalCrossentropy(\n",
        "      from_logits=True, reduction='none')(y_true, y_pred)\n",
        "\n",
        "    mask = tf.cast(tf.not_equal(y_true, 0), tf.float32)\n",
        "    loss = tf.multiply(loss, mask)\n",
        "\n",
        "    return tf.reduce_mean(loss)"
      ],
      "id": "23372291-b489-42b3-ae35-379b4c9ec198"
    },
    {
      "cell_type": "markdown",
      "metadata": {},
      "source": [
        "# 학습률\n",
        "\n",
        "$$lrate = d^{-0.5}_{model} \\times min(step_num^{-0.5} , step_num \\times warmup_steps^{-1/4})$$"
      ],
      "id": "d221b66c-e07b-4296-9c6d-115733010ab5"
    },
    {
      "cell_type": "code",
      "execution_count": 100,
      "metadata": {},
      "outputs": [],
      "source": [
        "class CustomSchedule(tf.keras.optimizers.schedules.LearningRateSchedule):\n",
        "\n",
        "    def __init__(self, d_model, warmup_steps=4000):\n",
        "        super(CustomSchedule, self).__init__()\n",
        "        self.d_model = d_model\n",
        "        self.d_model = tf.cast(self.d_model, tf.float32)\n",
        "        self.warmup_steps = warmup_steps\n",
        "\n",
        "    def __call__(self, step):\n",
        "        arg1 = tf.math.rsqrt(step)\n",
        "        arg2 = step * (self.warmup_steps**-1.5)\n",
        "\n",
        "        return tf.math.rsqrt(self.d_model) * tf.math.minimum(arg1, arg2)"
      ],
      "id": "f07cb84d-2522-4534-ad2a-2a8d840d73fa"
    },
    {
      "cell_type": "code",
      "execution_count": 101,
      "metadata": {},
      "outputs": [
        {
          "output_type": "display_data",
          "metadata": {},
          "data": {
            "text/plain": [
              "Text(0.5, 0, 'Train Step')"
            ]
          }
        },
        {
          "output_type": "display_data",
          "metadata": {},
          "data": {
            "image/png": "[encoded data removed]"
          }
        }
      ],
      "source": [
        "sample_learning_rate = CustomSchedule(d_model=128)\n",
        "\n",
        "plt.plot(sample_learning_rate(tf.range(200000, dtype=tf.float32)))\n",
        "plt.ylabel(\"Learning Rate\")\n",
        "plt.xlabel(\"Train Step\")"
      ],
      "id": "da96dec1-ab06-4463-b355-b2f87a20720e"
    }
  ],
  "nbformat": 4,
  "nbformat_minor": 5,
  "metadata": {
    "kernelspec": {
      "name": "python3",
      "display_name": "Python 3",
      "language": "python"
    },
    "language_info": {
      "name": "python",
      "codemirror_mode": {
        "name": "ipython",
        "version": "3"
      },
      "file_extension": ".py",
      "mimetype": "text/x-python",
      "nbconvert_exporter": "python",
      "pygments_lexer": "ipython3",
      "version": "3.8.0"
    }
  }
}