{
 "cells": [
  {
   "cell_type": "raw",
   "id": "02e6bad2-317b-4fd0-92ad-83c2b526d8ea",
   "metadata": {
    "id": "cac470df-29e7-4148-9bbd-d8b9a32fa570",
    "tags": []
   },
   "source": [
    "---\n",
    "title: \"R Shiny\"\n",
    "author: \"SEOYEON CHOI\"\n",
    "date: \"2025-08-20\"\n",
    "---"
   ]
  },
  {
   "cell_type": "markdown",
   "id": "321edee9-210b-4f63-b167-db475e2045c3",
   "metadata": {},
   "source": [
    "[Mastering Shiny](https://mastering-shiny.org/index.html)"
   ]
  },
  {
   "cell_type": "markdown",
   "id": "c3947900-ed3e-48f3-906d-7fbb7ebfcb88",
   "metadata": {},
   "source": [
    "# 만들어본 R shiny"
   ]
  },
  {
   "cell_type": "markdown",
   "id": "6add4a16-e1e5-421c-b9d6-5257529e6c99",
   "metadata": {},
   "source": [
    "## India Pharmaceutical Product"
   ]
  },
  {
   "cell_type": "markdown",
   "id": "b0a99813-c2f4-42f0-98f6-8930e4f774da",
   "metadata": {},
   "source": [
    "- [link](https://seoyeonchoi.shinyapps.io/project/)\n",
    "- [data](https://www.kaggle.com/datasets/rishgeeky/indian-pharmaceutical-products)\n",
    "- [refer](https://www.kaggle.com/code/mpwolke/india-pharmacy-of-the-world)"
   ]
  },
  {
   "cell_type": "markdown",
   "id": "08effec9-96ce-45ab-b111-959e066677b7",
   "metadata": {},
   "source": [
    "# Basic concept"
   ]
  },
  {
   "cell_type": "markdown",
   "id": "1cde8ff6-025d-4367-a861-8c131942c564",
   "metadata": {},
   "source": [
    "`app.R`"
   ]
  },
  {
   "cell_type": "markdown",
   "id": "e5d369f1-c661-4578-9a6b-2b913fb0ccee",
   "metadata": {},
   "source": [
    "```r\n",
    "library(shiny)\n",
    "\n",
    "shinyApp(ui = ui, server = server)\n",
    "```"
   ]
  },
  {
   "cell_type": "markdown",
   "id": "2e652f65-4567-4a9f-b751-8fb9dcfede1c",
   "metadata": {},
   "source": [
    "`ui.R`"
   ]
  },
  {
   "cell_type": "markdown",
   "id": "c522cc37-640f-4902-8ab4-ca2ede3fd569",
   "metadata": {},
   "source": [
    "```r\n",
    "library(shiny)\n",
    "library(bslib)\n",
    "\n",
    "# Define UI for app that draws a histogram ----\n",
    "ui <- page_sidebar(\n",
    "  # App title ----\n",
    "  title = \"Hello Shiny!\",\n",
    "  # Sidebar panel for inputs ----\n",
    "  sidebar = sidebar(\n",
    "    # Input: Slider for the number of bins ----\n",
    "    sliderInput(\n",
    "      inputId = \"bins\",\n",
    "      label = \"Number of bins:\",\n",
    "      min = 1,\n",
    "      max = 50,\n",
    "      value = 30\n",
    "    )\n",
    "  ),\n",
    "  # Output: Histogram ----\n",
    "  plotOutput(outputId = \"distPlot\")\n",
    ")\n",
    "```"
   ]
  },
  {
   "cell_type": "markdown",
   "id": "1e4224ec-754c-4821-9a55-6cbffc7a02c0",
   "metadata": {},
   "source": [
    "`server.R`"
   ]
  },
  {
   "cell_type": "markdown",
   "id": "e2b2bbc6-dadc-40da-a089-71e03a3c0303",
   "metadata": {},
   "source": [
    "```r\n",
    "# Define server logic required to draw a histogram ----\n",
    "server <- function(input, output) {\n",
    "\n",
    "  # Histogram of the Old Faithful Geyser Data ----\n",
    "  # with requested number of bins\n",
    "  # This expression that generates a histogram is wrapped in a call\n",
    "  # to renderPlot to indicate that:\n",
    "  #\n",
    "  # 1. It is \"reactive\" and therefore should be automatically\n",
    "  #    re-executed when inputs (input$bins) change\n",
    "  # 2. Its output type is a plot\n",
    "  output$distPlot <- renderPlot({\n",
    "\n",
    "    x    <- faithful$waiting\n",
    "    bins <- seq(min(x), max(x), length.out = input$bins + 1)\n",
    "\n",
    "    hist(x, breaks = bins, col = \"#007bc2\", border = \"white\",\n",
    "         xlab = \"Waiting time to next eruption (in mins)\",\n",
    "         main = \"Histogram of waiting times\")\n",
    "\n",
    "    })\n",
    "\n",
    "}\n",
    "```"
   ]
  },
  {
   "cell_type": "markdown",
   "id": "282c33d5-2399-4af1-91a6-c1fa6a5bfac2",
   "metadata": {},
   "source": [
    "# Process"
   ]
  },
  {
   "cell_type": "markdown",
   "id": "1a0a38c5-c071-42ab-9132-66f92a9b6189",
   "metadata": {},
   "source": [
    "Kor\n",
    "- R Shiny 앱은 UI와 Server 두 부분으로 구성됩니다.\n",
    "- 먼저 UI에서 화면의 입력과 출력 요소를 정의하고,\n",
    "- Server에서는 입력값을 받아 처리하고 출력값을 생성합니다.\n",
    "- 마지막으로 shinyApp(ui, server)를 통해 앱을 실행합니다.\n",
    "\n",
    "Eng\n",
    "- A Shiny app has two main parts: the UI and the Server.\n",
    "- The UI defines the inputs and outputs that the user sees,\n",
    "- and the Server processes the inputs and generates the outputs.\n",
    "- Finally, we connect them with shinyApp(ui, server) to run the application.\n",
    "- For example, I can put a slider in the UI and then display the selected value as text through the Server.\""
   ]
  },
  {
   "cell_type": "markdown",
   "id": "3dc8dfd1-c83a-4dd1-aee3-12ba2cb869a3",
   "metadata": {},
   "source": [
    "> `ui`,`server`두 파일만 생성하고 r 콘솔에 `runapp('name')`이렇게 작성해서 실행하는 방법과 `app`에 `ui`,`server` 내용 다 작성해서 파일 하나로 실행하는 방법과 `ui`,`server`,`app` 세 파일 다 만들어서 `app`에서 실행하는 방법이 있다."
   ]
  },
  {
   "cell_type": "markdown",
   "id": "bd4533e1-32e3-4be8-81b6-0773e9089029",
   "metadata": {},
   "source": [
    "## keywords"
   ]
  },
  {
   "cell_type": "markdown",
   "id": "75828b9a-3235-4bc3-a56f-175365ce8115",
   "metadata": {},
   "source": [
    "- UI → layout, inputs/outputs\n",
    "- Server → logic, processing, rendering\n",
    "- shinyApp() → connect & run\n",
    "- Process → Design UI → Implement Server → Execute"
   ]
  },
  {
   "cell_type": "markdown",
   "id": "5552ba4c-79ee-48bf-8ae2-cd0fe3b70810",
   "metadata": {},
   "source": [
    "# file structure"
   ]
  },
  {
   "cell_type": "markdown",
   "id": "e3405f1a-7b8c-4a7f-b1ee-10f6c3dd479d",
   "metadata": {},
   "source": [
    "**1) 단일 파일 방식 (app.R만 있음)**"
   ]
  },
  {
   "cell_type": "markdown",
   "id": "2c8ce5fe-7ddc-47c6-8f5f-ffb327e77f2f",
   "metadata": {},
   "source": [
    "- app.R 안에 ui, server 코드를 전부 작성\n",
    "- 마지막에 shinyApp(ui, server) 호출"
   ]
  },
  {
   "cell_type": "markdown",
   "id": "8ffe3cd5-e40e-4b63-b3e7-ac3bfebebba6",
   "metadata": {},
   "source": [
    "```r\n",
    "library(shiny)\n",
    "\n",
    "ui <- fluidPage(\n",
    "  titlePanel(\"Hello Shiny\"),\n",
    "  textOutput(\"txt\")\n",
    ")\n",
    "\n",
    "server <- function(input, output, session) {\n",
    "  output$txt <- renderText(\"Hi, this is Shiny!\")\n",
    "}\n",
    "\n",
    "shinyApp(ui, server)\n",
    "\n",
    "```"
   ]
  },
  {
   "cell_type": "markdown",
   "id": "48af80ce-769e-4c40-84cc-332145b3448e",
   "metadata": {},
   "source": [
    "**2) 분리 방식 (ui.R + server.R)**"
   ]
  },
  {
   "cell_type": "markdown",
   "id": "fe20ba1b-becb-4ed8-8af6-cb376d40d81b",
   "metadata": {},
   "source": [
    "- 같은 폴더 안에 두면 Shiny가 자동으로 둘을 읽어서 실행"
   ]
  },
  {
   "cell_type": "markdown",
   "id": "8b121eb9-d617-4fdc-806f-2b1bcbd87198",
   "metadata": {},
   "source": [
    "→ 실행: runApp(\"myapp\")\n",
    "\n",
    "*R console에 실행*"
   ]
  },
  {
   "cell_type": "markdown",
   "id": "8fe4a949-c7a5-422a-bea3-ab426dae8833",
   "metadata": {},
   "source": [
    "`ui.R`: 화면 정의"
   ]
  },
  {
   "cell_type": "markdown",
   "id": "78a5c355-c581-44d5-92a9-5c4c85a9166b",
   "metadata": {},
   "source": [
    "```r\n",
    "# ui.R\n",
    "ui <- fluidPage(\n",
    "  titlePanel(\"Hello Shiny\"),\n",
    "  textOutput(\"txt\")\n",
    ")\n",
    "```"
   ]
  },
  {
   "cell_type": "markdown",
   "id": "6e12a1b2-bbe2-425b-849e-93225bbf2827",
   "metadata": {},
   "source": [
    "`server.R`: 로직 정의"
   ]
  },
  {
   "cell_type": "markdown",
   "id": "ef7d02b6-0d72-4419-8410-81ecee5d10c5",
   "metadata": {},
   "source": [
    "```r\n",
    "# server.R\n",
    "server <- function(input, output, session) {\n",
    "  output$txt <- renderText(\"Hi, this is Shiny!\")\n",
    "}\n",
    "```"
   ]
  },
  {
   "cell_type": "markdown",
   "id": "b244e9da-50e6-45b9-a908-b10d06b25d1e",
   "metadata": {},
   "source": [
    "**3) 세 개 다 있는 경우 (app.R + ui.R + server.R)**"
   ]
  },
  {
   "cell_type": "markdown",
   "id": "c89b6ef4-3f83-4fe7-98d6-ec41e0d565c5",
   "metadata": {},
   "source": [
    "- Shiny는 app.R이 있으면 무조건 app.R을 실행\n",
    "- 따라서 이 경우 ui.R/server.R은 자동으로 쓰이지 않음.\n",
    "- 다만 app.R 안에서 source(\"ui.R\"), source(\"server.R\")로 불러와서 실행할 수 있음."
   ]
  },
  {
   "cell_type": "markdown",
   "id": "e94332a8-6f1d-40eb-8cbd-73f1ffde9006",
   "metadata": {},
   "source": [
    "# Shiny App Account"
   ]
  },
  {
   "cell_type": "markdown",
   "id": "373534c4-1a49-4740-b19f-693c4e0cdd77",
   "metadata": {},
   "source": [
    "- Local Run → no account needed, `runApp()`, Run App button\n",
    "- Visibility → runs only on your computer\n",
    "- Online Sharing → account required\n",
    "- Hosting Options → `shinyapps.io`, RStudio Connect, Shiny Server\n",
    "- Deployment → `rsconnect::setAccountInfo()`, `deployApp()`\n",
    "- Process → Develop locally → Connect account → Deploy to server"
   ]
  },
  {
   "cell_type": "markdown",
   "id": "b7926265-e7c6-4bf4-9f67-e73bd052badf",
   "metadata": {},
   "source": [
    "내 컴퓨터에서 실행 (계정 불필요)\n",
    "- app.R만 있으면 RStudio에서 바로 Run App 버튼이나 runApp()으로 실행 가능.\n",
    "- 이 경우 앱은 내 컴퓨터에서만 보임 (즉, 본인 PC에서만 확인 가능).\n",
    "- 계정 연결 필요 없음.\n",
    "\n",
    "온라인 배포 (계정 필요)\n",
    "- 다른 사람이 인터넷으로 접속하게 하려면 계정이 필요. 대표적으로: shinyapps.io(RStudio에서 제공, 무료/유료 플랜 있음)\n",
    "    - rsconnect::setAccountInfo()로 계정 연결 필요\n",
    "    - rsconnect::deployApp()으로 앱 업로드\n",
    "- RStudio Connect (회사/기관용 서버)\n",
    "- 자체 Shiny Server (리눅스 서버에 직접 설치)"
   ]
  },
  {
   "cell_type": "markdown",
   "id": "789691d5-cd89-4870-8da5-6f0e3b03d831",
   "metadata": {},
   "source": [
    "# difference between reactive vs observe "
   ]
  },
  {
   "cell_type": "markdown",
   "id": "46385275-6d2a-4c96-98f4-3d8fbc3ce5ca",
   "metadata": {},
   "source": [
    "Kor \n",
    "- Reactive는 값을 반환하는 함수이고, Observe는 단순히 동작을 실행합니다.\n",
    "- Reactive는 입력값을 받아 새로운 출력값을 만들 때 쓰이고, 그 결과를 다른 표현식이나 출력에서 다시 활용할 수 있습니다.\n",
    "- 반면, Observe는 값 자체를 반환하지 않고, 예를 들어 로그 출력이나 알림 같은 부수 효과(side effect)를 처리할 때 주로 사용됩니다.\n",
    "\n",
    "Eng\n",
    "- Reactive returns a value, while Observe does not.\n",
    "- Reactive expressions are used to create values that can be reused by other parts of the app, for example, calculations or transformations based on user input.\n",
    "- On the other hand, Observe is mainly used for side effects, such as printing logs, sending a notification, or updating something without returning a value.\n",
    "\n",
    "Kewords\n",
    "- Reactive → returns value, reusable, dependency tracking, computations\n",
    "- Observe → no return value, side effects, triggers, monitoring\n",
    "- Key difference → Reactive = “create value” / Observe = “perform action”"
   ]
  },
  {
   "cell_type": "markdown",
   "id": "5fbcb3c7-ba02-4abd-a543-cabadce38ec1",
   "metadata": {},
   "source": [
    "# The code that I use to show R shiny results"
   ]
  },
  {
   "cell_type": "markdown",
   "id": "16ad1c6a-f31b-4cc9-97cd-4c6890f9a49b",
   "metadata": {},
   "source": [
    "Kor\n",
    "- Shiny에서 결과를 보여주려면, 먼저 UI에 출력 자리(output placeholder)를 만듭니다. 예를 들어 plotOutput, tableOutput, textOutput 같은 함수를 씁니다.\n",
    "- 그리고 Server에서는 대응되는 render 함수(renderPlot, renderTable, renderText)를 사용해서 실제 출력을 생성합니다.\n",
    "\n",
    "Eng\n",
    "- In Shiny, to display results on the UI, I first create an output placeholder in the UI using functions like plotOutput, tableOutput, or textOutput.\n",
    "- Then, in the Server, I use the corresponding render functions such as renderPlot, renderTable, or renderText to generate and connect the actual output.\n",
    "\n",
    "Keyeords\n",
    "- UI → output placeholder (plotOutput, tableOutput, textOutput)\n",
    "- Server → render functions (renderPlot, renderTable, renderText)\n",
    "- Process → Placeholder in UI → Render in Server → Display in App"
   ]
  },
  {
   "cell_type": "markdown",
   "id": "e5bda259-adf3-4915-9550-01825327d03b",
   "metadata": {},
   "source": [
    "# 반응이 너무 느리다면? 생성이 너무 느리다면?"
   ]
  },
  {
   "cell_type": "markdown",
   "id": "8c1f001a-73c5-477b-a3f5-28cb56fb4206",
   "metadata": {},
   "source": [
    "1) log로 병목 현상이 생긴 구간 찾기"
   ]
  },
  {
   "cell_type": "markdown",
   "id": "dd5977b1-fd03-4bb5-8d53-b04d32cf8ce9",
   "metadata": {},
   "source": [
    "```r\n",
    "shiny::reactlog_enable(); \n",
    "```"
   ]
  },
  {
   "cell_type": "markdown",
   "id": "59cf4820-76fc-4f1a-8496-3c38d85a9f68",
   "metadata": {},
   "source": [
    "2) 반응 최소화"
   ]
  },
  {
   "cell_type": "markdown",
   "id": "faa8a4f6-8912-4284-b17f-410e9ff2372f",
   "metadata": {},
   "source": [
    "- 중복 계산 없애기\n",
    "- 매 입력마다 계산되는 것이 아닌 이벤트로 트리거되도록\n",
    "- 가장 큰 원인은 매번 데이터를 불러오면 발생할 것. `global`에 옮겨서 데이터는 한 번만 불러오도록"
   ]
  },
  {
   "cell_type": "code",
   "execution_count": null,
   "id": "cd823d58-2e59-435f-a59b-78cc8b0ff7ee",
   "metadata": {},
   "outputs": [],
   "source": []
  }
 ],
 "metadata": {
  "kernelspec": {
   "display_name": "R",
   "language": "R",
   "name": "ir"
  },
  "language_info": {
   "codemirror_mode": {
    "name": "ipython",
    "version": 3
   },
   "file_extension": ".py",
   "mimetype": "text/x-python",
   "name": "python",
   "nbconvert_exporter": "python",
   "pygments_lexer": "ipython3",
   "version": "3.8.0"
  }
 },
 "nbformat": 4,
 "nbformat_minor": 5
}
