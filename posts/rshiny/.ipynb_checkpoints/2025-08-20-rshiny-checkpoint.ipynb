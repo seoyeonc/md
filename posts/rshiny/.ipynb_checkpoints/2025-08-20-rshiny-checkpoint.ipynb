{
 "cells": [
  {
   "cell_type": "raw",
   "id": "02e6bad2-317b-4fd0-92ad-83c2b526d8ea",
   "metadata": {
    "id": "cac470df-29e7-4148-9bbd-d8b9a32fa570",
    "tags": []
   },
   "source": [
    "---\n",
    "title: \"R Shiny\"\n",
    "author: \"SEOYEON CHOI\"\n",
    "date: \"2025-08-20\"\n",
    "---"
   ]
  },
  {
   "cell_type": "markdown",
   "id": "c3947900-ed3e-48f3-906d-7fbb7ebfcb88",
   "metadata": {},
   "source": [
    "# 만들어본 R shiny"
   ]
  },
  {
   "cell_type": "markdown",
   "id": "6add4a16-e1e5-421c-b9d6-5257529e6c99",
   "metadata": {},
   "source": [
    "## 1. India Pharmaceutical Product"
   ]
  },
  {
   "cell_type": "markdown",
   "id": "c485b50f-5235-4462-add3-429c7febb3a7",
   "metadata": {},
   "source": [
    "https://seoyeonchoi.shinyapps.io/project/"
   ]
  },
  {
   "cell_type": "markdown",
   "id": "2e669ca2-5fbf-4de8-a6e4-b6e597372f2c",
   "metadata": {},
   "source": [
    "- data\n",
    "     - https://www.kaggle.com/datasets/rishgeeky/indian-pharmaceutical-products\n",
    "- refer\n",
    "     - https://www.kaggle.com/code/mpwolke/india-pharmacy-of-the-world"
   ]
  },
  {
   "cell_type": "markdown",
   "id": "08effec9-96ce-45ab-b111-959e066677b7",
   "metadata": {},
   "source": [
    "# Basic concept"
   ]
  },
  {
   "cell_type": "markdown",
   "id": "1cde8ff6-025d-4367-a861-8c131942c564",
   "metadata": {},
   "source": [
    "`app.R`"
   ]
  },
  {
   "cell_type": "markdown",
   "id": "e5d369f1-c661-4578-9a6b-2b913fb0ccee",
   "metadata": {},
   "source": [
    "```r\n",
    "library(shiny)\n",
    "\n",
    "shinyApp(ui = ui, server = server)\n",
    "```"
   ]
  },
  {
   "cell_type": "markdown",
   "id": "2e652f65-4567-4a9f-b751-8fb9dcfede1c",
   "metadata": {},
   "source": [
    "`ui.R`"
   ]
  },
  {
   "cell_type": "markdown",
   "id": "c522cc37-640f-4902-8ab4-ca2ede3fd569",
   "metadata": {},
   "source": [
    "```r\n",
    "library(shiny)\n",
    "library(bslib)\n",
    "\n",
    "# Define UI for app that draws a histogram ----\n",
    "ui <- page_sidebar(\n",
    "  # App title ----\n",
    "  title = \"Hello Shiny!\",\n",
    "  # Sidebar panel for inputs ----\n",
    "  sidebar = sidebar(\n",
    "    # Input: Slider for the number of bins ----\n",
    "    sliderInput(\n",
    "      inputId = \"bins\",\n",
    "      label = \"Number of bins:\",\n",
    "      min = 1,\n",
    "      max = 50,\n",
    "      value = 30\n",
    "    )\n",
    "  ),\n",
    "  # Output: Histogram ----\n",
    "  plotOutput(outputId = \"distPlot\")\n",
    ")\n",
    "```"
   ]
  },
  {
   "cell_type": "markdown",
   "id": "1e4224ec-754c-4821-9a55-6cbffc7a02c0",
   "metadata": {},
   "source": [
    "`server.R`"
   ]
  },
  {
   "cell_type": "markdown",
   "id": "e2b2bbc6-dadc-40da-a089-71e03a3c0303",
   "metadata": {},
   "source": [
    "```r\n",
    "# Define server logic required to draw a histogram ----\n",
    "server <- function(input, output) {\n",
    "\n",
    "  # Histogram of the Old Faithful Geyser Data ----\n",
    "  # with requested number of bins\n",
    "  # This expression that generates a histogram is wrapped in a call\n",
    "  # to renderPlot to indicate that:\n",
    "  #\n",
    "  # 1. It is \"reactive\" and therefore should be automatically\n",
    "  #    re-executed when inputs (input$bins) change\n",
    "  # 2. Its output type is a plot\n",
    "  output$distPlot <- renderPlot({\n",
    "\n",
    "    x    <- faithful$waiting\n",
    "    bins <- seq(min(x), max(x), length.out = input$bins + 1)\n",
    "\n",
    "    hist(x, breaks = bins, col = \"#007bc2\", border = \"white\",\n",
    "         xlab = \"Waiting time to next eruption (in mins)\",\n",
    "         main = \"Histogram of waiting times\")\n",
    "\n",
    "    })\n",
    "\n",
    "}\n",
    "```"
   ]
  },
  {
   "cell_type": "markdown",
   "id": "282c33d5-2399-4af1-91a6-c1fa6a5bfac2",
   "metadata": {},
   "source": [
    "# Process"
   ]
  },
  {
   "cell_type": "markdown",
   "id": "aec39d79-e58b-4085-bd42-5ec64c573e5d",
   "metadata": {},
   "source": [
    "# answer"
   ]
  },
  {
   "cell_type": "markdown",
   "id": "1a0a38c5-c071-42ab-9132-66f92a9b6189",
   "metadata": {},
   "source": [
    "Kor\n",
    "- R Shiny 앱은 UI와 Server 두 부분으로 구성됩니다.\n",
    "- 먼저 UI에서 화면의 입력과 출력 요소를 정의하고,\n",
    "- Server에서는 입력값을 받아 처리하고 출력값을 생성합니다.\n",
    "- 마지막으로 shinyApp(ui, server)를 통해 앱을 실행합니다.\n",
    "\n",
    "Eng\n",
    "- A Shiny app has two main parts: the UI and the Server.\n",
    "- The UI defines the inputs and outputs that the user sees,\n",
    "- and the Server processes the inputs and generates the outputs.\n",
    "- Finally, we connect them with shinyApp(ui, server) to run the application.\n",
    "- For example, I can put a slider in the UI and then display the selected value as text through the Server.\""
   ]
  },
  {
   "cell_type": "markdown",
   "id": "bd4533e1-32e3-4be8-81b6-0773e9089029",
   "metadata": {},
   "source": [
    "## keywords"
   ]
  },
  {
   "cell_type": "markdown",
   "id": "75828b9a-3235-4bc3-a56f-175365ce8115",
   "metadata": {},
   "source": [
    "- UI → layout, inputs/outputs\n",
    "- Server → logic, processing, rendering\n",
    "- shinyApp() → connect & run\n",
    "- Process → Design UI → Implement Server → Execute"
   ]
  },
  {
   "cell_type": "markdown",
   "id": "789691d5-cd89-4870-8da5-6f0e3b03d831",
   "metadata": {},
   "source": [
    "# difference between reactive vs observe "
   ]
  },
  {
   "cell_type": "markdown",
   "id": "46385275-6d2a-4c96-98f4-3d8fbc3ce5ca",
   "metadata": {},
   "source": [
    "Kor \n",
    "- Reactive는 값을 반환하는 함수이고, Observe는 단순히 동작을 실행합니다.\n",
    "- Reactive는 입력값을 받아 새로운 출력값을 만들 때 쓰이고, 그 결과를 다른 표현식이나 출력에서 다시 활용할 수 있습니다.\n",
    "- 반면, Observe는 값 자체를 반환하지 않고, 예를 들어 로그 출력이나 알림 같은 **부수 효과(side effect)**를 처리할 때 주로 사용됩니다.\n",
    "\n",
    "Eng\n",
    "- Reactive returns a value, while Observe does not.\n",
    "- Reactive expressions are used to create values that can be reused by other parts of the app, for example, calculations or transformations based on user input.\n",
    "- On the other hand, Observe is mainly used for side effects, such as printing logs, sending a notification, or updating something without returning a value.\n",
    "\n",
    "Kewords\n",
    "- Reactive → returns value, reusable, dependency tracking, computations\n",
    "- Observe → no return value, side effects, triggers, monitoring\n",
    "- Key difference → Reactive = “create value” / Observe = “perform action”"
   ]
  },
  {
   "cell_type": "markdown",
   "id": "5fbcb3c7-ba02-4abd-a543-cabadce38ec1",
   "metadata": {},
   "source": [
    "# The code that I use to show R shiny results"
   ]
  },
  {
   "cell_type": "markdown",
   "id": "16ad1c6a-f31b-4cc9-97cd-4c6890f9a49b",
   "metadata": {},
   "source": [
    "Kor\n",
    "- Shiny에서 결과를 보여주려면, 먼저 UI에 출력 자리(output placeholder)를 만듭니다. 예를 들어 plotOutput, tableOutput, textOutput 같은 함수를 씁니다.\n",
    "- 그리고 Server에서는 대응되는 render 함수(renderPlot, renderTable, renderText)를 사용해서 실제 출력을 생성합니다.\n",
    "\n",
    "Eng\n",
    "- In Shiny, to display results on the UI, I first create an output placeholder in the UI using functions like plotOutput, tableOutput, or textOutput.\n",
    "- Then, in the Server, I use the corresponding render functions such as renderPlot, renderTable, or renderText to generate and connect the actual output.\n",
    "\n",
    "Keyeords\n",
    "- UI → output placeholder (plotOutput, tableOutput, textOutput)\n",
    "- Server → render functions (renderPlot, renderTable, renderText)\n",
    "- Process → Placeholder in UI → Render in Server → Display in App"
   ]
  },
  {
   "cell_type": "code",
   "execution_count": null,
   "id": "e93c9566-9bc9-41af-b255-277fd80cbb8e",
   "metadata": {},
   "outputs": [],
   "source": []
  }
 ],
 "metadata": {
  "kernelspec": {
   "display_name": "R",
   "language": "R",
   "name": "ir"
  },
  "language_info": {
   "codemirror_mode": {
    "name": "ipython",
    "version": 3
   },
   "file_extension": ".py",
   "mimetype": "text/x-python",
   "name": "python",
   "nbconvert_exporter": "python",
   "pygments_lexer": "ipython3",
   "version": "3.8.0"
  }
 },
 "nbformat": 4,
 "nbformat_minor": 5
}
