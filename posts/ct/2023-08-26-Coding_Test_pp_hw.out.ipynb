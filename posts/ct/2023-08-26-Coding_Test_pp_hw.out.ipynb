{
  "cells": [
    {
      "cell_type": "markdown",
      "metadata": {},
      "source": [
        "# \\*\\*\\[Coding Test\\]\\*\\*Python Programming HW review\n",
        "\n",
        "SEOYEON CHOI  \n",
        "2023-08-26\n",
        "\n",
        "# 1.\n",
        "\n",
        "HW: 0315\n",
        "\n",
        "[02wk-1: 파이썬의 자료형\n",
        "(2)](https://guebin.github.io/PP2023/posts/01_PythonBasic/2023-03-13-2wk-1.html#%EA%B0%95%EC%9D%98%EC%98%81%EC%83%81)\n",
        "\n",
        "아래와 같은 문자열이 있다고 하자."
      ],
      "id": "40aecf9b-a8f1-4813-a26d-d30f30e6d8cc"
    },
    {
      "cell_type": "code",
      "execution_count": 1,
      "metadata": {},
      "outputs": [],
      "source": [
        "a='Jeonbuk National University' "
      ],
      "id": "64a20bd2-f2a3-4d45-9d6a-b7a50afeb0e8"
    },
    {
      "cell_type": "markdown",
      "metadata": {},
      "source": [
        "`1`. 적당한 인덱싱을 통하여 출력결과가 아래와 같도록 하라."
      ],
      "id": "4bea0677-3a37-40ce-8bfc-41e4ecdc9b75"
    },
    {
      "cell_type": "code",
      "execution_count": 11,
      "metadata": {},
      "outputs": [
        {
          "output_type": "display_data",
          "metadata": {},
          "data": {
            "text/plain": [
              "17"
            ]
          }
        }
      ],
      "source": [
        "a.find('U')"
      ],
      "id": "1830a7a8-97a4-4082-a8f4-667422ae3ca7"
    },
    {
      "cell_type": "code",
      "execution_count": 12,
      "metadata": {},
      "outputs": [
        {
          "output_type": "display_data",
          "metadata": {},
          "data": {
            "text/plain": [
              "26"
            ]
          }
        }
      ],
      "source": [
        "a.find('y')"
      ],
      "id": "05eb56ce-9ac4-4599-b141-8efec2453f34"
    },
    {
      "cell_type": "code",
      "execution_count": 13,
      "metadata": {},
      "outputs": [
        {
          "output_type": "display_data",
          "metadata": {},
          "data": {
            "text/plain": [
              "'Jeonbuk National University'"
            ]
          }
        }
      ],
      "source": [
        "str(a)"
      ],
      "id": "a7147cfe-d365-4b1e-8c4d-c6b738692729"
    },
    {
      "cell_type": "code",
      "execution_count": 15,
      "metadata": {},
      "outputs": [
        {
          "output_type": "display_data",
          "metadata": {},
          "data": {
            "text/plain": [
              "'University'"
            ]
          }
        }
      ],
      "source": [
        "a[a.find('U'):a.find('y')+1]"
      ],
      "id": "335324ce-7133-4192-9dcc-72274aae1f34"
    },
    {
      "cell_type": "markdown",
      "metadata": {},
      "source": [
        "hint: University는 10글자이다.\n",
        "\n",
        "`2`. 출력결과가 아래와 같도록 하는 코드를 작성하라. (lower 함수를 이용할\n",
        "것)"
      ],
      "id": "eb700cc4-08bd-4cb0-a248-b39df057802e"
    },
    {
      "cell_type": "code",
      "execution_count": 17,
      "metadata": {},
      "outputs": [
        {
          "output_type": "display_data",
          "metadata": {},
          "data": {
            "text/plain": [
              "'jeonbuk national university'"
            ]
          }
        }
      ],
      "source": [
        "a.lower()"
      ],
      "id": "726b18c3-0145-452e-903a-173d69b15cbe"
    },
    {
      "cell_type": "markdown",
      "metadata": {},
      "source": [
        "`3`. 아래의 코드를 관찰하고 isupper()의 기능이 무엇인지 스스로\n",
        "정리해보라."
      ],
      "id": "c23e3ba7-0efe-42db-9577-4d1f56683965"
    },
    {
      "cell_type": "code",
      "execution_count": 18,
      "metadata": {},
      "outputs": [
        {
          "output_type": "display_data",
          "metadata": {},
          "data": {
            "text/plain": [
              "True"
            ]
          }
        }
      ],
      "source": [
        "'A'.isupper()"
      ],
      "id": "05dd8c7c-bd64-4193-8db5-ab91f4bd1caa"
    },
    {
      "cell_type": "code",
      "execution_count": 19,
      "metadata": {},
      "outputs": [
        {
          "output_type": "display_data",
          "metadata": {},
          "data": {
            "text/plain": [
              "True"
            ]
          }
        }
      ],
      "source": [
        "'AA'.isupper()"
      ],
      "id": "a84adb29-cdbd-449f-a4d5-277f2d4c0c4c"
    },
    {
      "cell_type": "code",
      "execution_count": 20,
      "metadata": {},
      "outputs": [
        {
          "output_type": "display_data",
          "metadata": {},
          "data": {
            "text/plain": [
              "False"
            ]
          }
        }
      ],
      "source": [
        "'Aa'.isupper()"
      ],
      "id": "f13a5686-4369-411d-8b1f-ca251e9d57c0"
    },
    {
      "cell_type": "code",
      "execution_count": 21,
      "metadata": {},
      "outputs": [
        {
          "output_type": "display_data",
          "metadata": {},
          "data": {
            "text/plain": [
              "False"
            ]
          }
        }
      ],
      "source": [
        "'aa'.isupper()"
      ],
      "id": "4b4a40bd-099c-4c22-99e0-93e078eea6b5"
    },
    {
      "cell_type": "code",
      "execution_count": 22,
      "metadata": {},
      "outputs": [
        {
          "output_type": "display_data",
          "metadata": {},
          "data": {
            "text/plain": [
              "False"
            ]
          }
        }
      ],
      "source": [
        "'aA'.isupper()"
      ],
      "id": "87ce39e6-923f-4a6d-a1f3-46e5a203711f"
    },
    {
      "cell_type": "markdown",
      "metadata": {},
      "source": [
        "대문자인가 확인하는 코드!"
      ],
      "id": "34321599-e42e-4d64-be29-46be574940ba"
    },
    {
      "cell_type": "code",
      "execution_count": 23,
      "metadata": {},
      "outputs": [
        {
          "output_type": "display_data",
          "metadata": {},
          "data": {
            "text/plain": [
              "False"
            ]
          }
        }
      ],
      "source": [
        "'aA'.islower()"
      ],
      "id": "e6858eca-a56f-47ee-87c1-e7991ee82dbf"
    },
    {
      "cell_type": "markdown",
      "metadata": {},
      "source": [
        "소문자인거 확인하는 코드!\n",
        "\n",
        "`4`. 다음중 실행 불가능한 코드를 모두 골라라.\n",
        "\n",
        "1.  ‘a’\\*2"
      ],
      "id": "6e2f907b-78c4-4159-a2b6-98f844cb6819"
    },
    {
      "cell_type": "code",
      "execution_count": 31,
      "metadata": {},
      "outputs": [
        {
          "output_type": "display_data",
          "metadata": {},
          "data": {
            "text/plain": [
              "'aa'"
            ]
          }
        }
      ],
      "source": [
        "'a'*2"
      ],
      "id": "901de343-4f02-4c8d-b4af-7d4283b1acf1"
    },
    {
      "cell_type": "markdown",
      "metadata": {},
      "source": [
        "1.  ‘a’\\*‘2’"
      ],
      "id": "c71f4026-9a05-4e03-98f7-942f89d4c066"
    },
    {
      "cell_type": "code",
      "execution_count": 32,
      "metadata": {},
      "outputs": [],
      "source": [
        "'a'*'2'"
      ],
      "id": "7c4e335a-c7ed-4fff-a869-fe4651563aea"
    },
    {
      "cell_type": "markdown",
      "metadata": {},
      "source": [
        "1.  ‘a’+2"
      ],
      "id": "f101517c-bc7e-4060-b8c0-3a839db3f066"
    },
    {
      "cell_type": "code",
      "execution_count": 33,
      "metadata": {},
      "outputs": [],
      "source": [
        "'a'+2"
      ],
      "id": "8de0f92f-1dfe-431b-870c-da5e5642b888"
    },
    {
      "cell_type": "markdown",
      "metadata": {},
      "source": [
        "1.  ‘a’+‘2’"
      ],
      "id": "a7119911-b8f9-4129-bf58-8210d6670263"
    },
    {
      "cell_type": "code",
      "execution_count": 34,
      "metadata": {},
      "outputs": [
        {
          "output_type": "display_data",
          "metadata": {},
          "data": {
            "text/plain": [
              "'a2'"
            ]
          }
        }
      ],
      "source": [
        "'a'+'2'"
      ],
      "id": "4361a776-5295-4da2-baf0-6c6d4cc03518"
    },
    {
      "cell_type": "markdown",
      "metadata": {},
      "source": [
        "# 2.\n",
        "\n",
        "HW 0315\n",
        "\n",
        "[02wk-2: 파이썬의 자료형\n",
        "(3)](https://guebin.github.io/PP2023/posts/01_PythonBasic/2023-03-15-2wk-2.html)\n",
        "\n",
        "`1`. 길이가 0인 리스트를 만들어라. (비어있는 리스트를 만들어라)\n",
        "\n",
        "(풀이1)"
      ],
      "id": "f23e9755-34d1-439c-9288-4ed13ae90986"
    },
    {
      "cell_type": "code",
      "execution_count": 35,
      "metadata": {},
      "outputs": [
        {
          "output_type": "display_data",
          "metadata": {},
          "data": {
            "text/plain": [
              "[]"
            ]
          }
        }
      ],
      "source": [
        "[]"
      ],
      "id": "040fbc81-dd6e-4410-b7b6-d8ff91565120"
    },
    {
      "cell_type": "markdown",
      "metadata": {},
      "source": [
        "(풀이2)"
      ],
      "id": "2c2e2e0e-f0ff-4844-96ea-48fcd1ece0c2"
    },
    {
      "cell_type": "code",
      "execution_count": 36,
      "metadata": {},
      "outputs": [
        {
          "output_type": "display_data",
          "metadata": {},
          "data": {
            "text/plain": [
              "[]"
            ]
          }
        }
      ],
      "source": [
        "list()"
      ],
      "id": "b38513de-d851-4c3f-81f4-a495738eed1d"
    },
    {
      "cell_type": "markdown",
      "metadata": {},
      "source": [
        "`2`. 다음의 실행값 중 가장 큰 숫자가 나오는 보기를 골라라. (에러가 나는\n",
        "코드는 정답에서 제외함)"
      ],
      "id": "16f8a8a9-d3e4-4097-85de-cdaf396ea5a7"
    },
    {
      "cell_type": "code",
      "execution_count": null,
      "metadata": {},
      "outputs": [],
      "source": [
        "(a) len(3.14) \n",
        "(b) len([3.14]) \n",
        "(c) len('3.14') "
      ],
      "id": "28f50fac-b753-4870-98a3-5f3c89d36c02"
    },
    {
      "cell_type": "code",
      "execution_count": 38,
      "metadata": {},
      "outputs": [],
      "source": [
        "len(3.14)"
      ],
      "id": "99fb7341-1bd5-41c8-959a-8893d4435195"
    },
    {
      "cell_type": "code",
      "execution_count": 58,
      "metadata": {},
      "outputs": [
        {
          "output_type": "display_data",
          "metadata": {},
          "data": {
            "text/html": [
              "<pre><span class=\"ansi-red-fg\">Type:</span>        float\n",
              "<span class=\"ansi-red-fg\">String form:</span> 3.14\n",
              "<span class=\"ansi-red-fg\">Docstring:</span>   Convert a string or number to a floating point number, if possible.\n",
              "</pre>"
            ]
          }
        }
      ],
      "source": [
        "a = 3.14;a?"
      ],
      "id": "c49714ea-2aa8-4c58-90ef-f2d21a753f34"
    },
    {
      "cell_type": "code",
      "execution_count": 59,
      "metadata": {},
      "outputs": [
        {
          "output_type": "display_data",
          "metadata": {},
          "data": {
            "text/plain": [
              "False"
            ]
          }
        }
      ],
      "source": [
        "a.is_integer()"
      ],
      "id": "cdfface5-680b-47c0-826c-5dbc0ba1cf7c"
    },
    {
      "cell_type": "code",
      "execution_count": 60,
      "metadata": {},
      "outputs": [
        {
          "output_type": "display_data",
          "metadata": {},
          "data": {
            "text/plain": [
              "1"
            ]
          }
        }
      ],
      "source": [
        "len([3.14])"
      ],
      "id": "baa22330-5a4e-471a-a344-dd0869974ee3"
    },
    {
      "cell_type": "code",
      "execution_count": 61,
      "metadata": {},
      "outputs": [
        {
          "output_type": "display_data",
          "metadata": {},
          "data": {
            "text/html": [
              "<pre><span class=\"ansi-red-fg\">Type:</span>        float\n",
              "<span class=\"ansi-red-fg\">String form:</span> 3.14\n",
              "<span class=\"ansi-red-fg\">Docstring:</span>   Convert a string or number to a floating point number, if possible.\n",
              "</pre>"
            ]
          }
        }
      ],
      "source": [
        "a = [3.14];a?"
      ],
      "id": "6d579427-9b74-4222-91f5-a2979a864339"
    },
    {
      "cell_type": "code",
      "execution_count": 62,
      "metadata": {},
      "outputs": [
        {
          "output_type": "display_data",
          "metadata": {},
          "data": {
            "text/plain": [
              "False"
            ]
          }
        }
      ],
      "source": [
        "a.is_integer()"
      ],
      "id": "28e2c852-210e-4bfe-9543-df0b9d2aa299"
    },
    {
      "cell_type": "code",
      "execution_count": 63,
      "metadata": {},
      "outputs": [
        {
          "output_type": "display_data",
          "metadata": {},
          "data": {
            "text/plain": [
              "4"
            ]
          }
        }
      ],
      "source": [
        "len('3.14') "
      ],
      "id": "32f50cd3-bfec-4ad1-bd00-3e9d38f6c867"
    },
    {
      "cell_type": "code",
      "execution_count": 64,
      "metadata": {},
      "outputs": [
        {
          "output_type": "display_data",
          "metadata": {},
          "data": {
            "text/html": [
              "<pre><span class=\"ansi-red-fg\">Type:</span>        float\n",
              "<span class=\"ansi-red-fg\">String form:</span> 3.14\n",
              "<span class=\"ansi-red-fg\">Docstring:</span>   Convert a string or number to a floating point number, if possible.\n",
              "</pre>"
            ]
          }
        }
      ],
      "source": [
        "a = '3.14';a?"
      ],
      "id": "b4be516a-b56d-4bc5-ace7-5a60acb2592c"
    },
    {
      "cell_type": "code",
      "execution_count": 65,
      "metadata": {},
      "outputs": [
        {
          "output_type": "display_data",
          "metadata": {},
          "data": {
            "text/plain": [
              "False"
            ]
          }
        }
      ],
      "source": [
        "a.is_integer()"
      ],
      "id": "6090121c-8f82-48e8-9967-98efd7afc892"
    },
    {
      "cell_type": "markdown",
      "metadata": {},
      "source": [
        "`3`. 아래의 예제를 관찰하라."
      ],
      "id": "22a8c5a8-277f-4e73-b210-97f0f4bfcaec"
    },
    {
      "cell_type": "code",
      "execution_count": 66,
      "metadata": {},
      "outputs": [
        {
          "output_type": "display_data",
          "metadata": {},
          "data": {
            "text/plain": [
              "'제 이름은 abc입니다'"
            ]
          }
        }
      ],
      "source": [
        "'제 이름은 {}입니다'.format('abc')"
      ],
      "id": "d0fc29a4-760f-4ebe-b6b2-ed475f929798"
    },
    {
      "cell_type": "code",
      "execution_count": 67,
      "metadata": {},
      "outputs": [
        {
          "output_type": "display_data",
          "metadata": {},
          "data": {
            "text/plain": [
              "'제 이름은 abc이고 사는곳은 de입니다.'"
            ]
          }
        }
      ],
      "source": [
        "'제 이름은 {}이고 사는곳은 {}입니다.'.format('abc','de')"
      ],
      "id": "9525067a-aefb-4586-acc3-4d9ad57e4008"
    },
    {
      "cell_type": "markdown",
      "metadata": {},
      "source": [
        "이 예제를 바탕으로 문자열에 포함된 .format()함수의 기능을 유추하라.\n",
        "그리고 아래의 결과를 확인하라.\n",
        "\n",
        "$\\to$ `.format`의 기능은 `{}`에 문자를 순서대로 넣어주는 역할."
      ],
      "id": "92574734-02e7-4c69-b23f-b9df639d8cdb"
    },
    {
      "cell_type": "code",
      "execution_count": 69,
      "metadata": {},
      "outputs": [
        {
          "output_type": "display_data",
          "metadata": {},
          "data": {
            "text/plain": [
              "'행사가 3월24일-3월25일 abc펜션에서 있다고 합니다. 자세한 일정 등은 다시 공지하겠습니다.'"
            ]
          }
        }
      ],
      "source": [
        "string = '행사가 {}월{}일-{}월{}일 abc펜션에서 있다고 합니다. 자세한 일정 등은 다시 공지하겠습니다.' \n",
        "string.format(3,24,3,25)"
      ],
      "id": "f5903be4-079d-4718-9284-2de21526c848"
    },
    {
      "cell_type": "code",
      "execution_count": 71,
      "metadata": {},
      "outputs": [
        {
          "output_type": "display_data",
          "metadata": {},
          "data": {
            "text/plain": [
              "'행사가 1월1일-2월2일 abc펜션에서 있다고 합니다. 자세한 일정 등은 다시 공지하겠습니다.'"
            ]
          }
        }
      ],
      "source": [
        "string.format(1,1,2,2)"
      ],
      "id": "d2d6bbc8-e473-4c1d-8ca0-81429bef1a1c"
    },
    {
      "cell_type": "markdown",
      "metadata": {},
      "source": [
        "`4`. 아래의 예제를 관찰하라."
      ],
      "id": "a9fb2dd5-a094-45e6-a8b6-e8568aa769c7"
    },
    {
      "cell_type": "code",
      "execution_count": 72,
      "metadata": {},
      "outputs": [
        {
          "output_type": "display_data",
          "metadata": {},
          "data": {
            "text/plain": [
              "'abcdefu'"
            ]
          }
        }
      ],
      "source": [
        "'abcdefg'.replace('g','u')"
      ],
      "id": "bfbc0161-6047-4feb-bf8d-75e8f345ffe5"
    },
    {
      "cell_type": "markdown",
      "metadata": {},
      "source": [
        "이 예제를 바탕으로 문자열의 .replace() 기능을 유추하라.\n",
        "\n",
        "$\\to$ `.replace`의 기능은 ’g’를 ’u’로 바꿔준다.\n",
        "\n",
        "`5`. 리스트자료형의 +와 \\* 연산을 이용하여 아래와 같은 list를 생성하라."
      ],
      "id": "b563accd-67f6-4c9e-9557-6a6d17be9fb7"
    },
    {
      "cell_type": "code",
      "execution_count": 73,
      "metadata": {},
      "outputs": [
        {
          "output_type": "display_data",
          "metadata": {},
          "data": {
            "text/plain": [
              "[1, 2, 2, 3, 3, 3, 4, 4, 4, 4, 5, 5, 5, 5, 5]"
            ]
          }
        }
      ],
      "source": [
        "[1, 2, 2, 3, 3, 3, 4, 4, 4, 4, 5, 5, 5, 5, 5]"
      ],
      "id": "1a600451-5c9f-4b15-a146-367be5b52aaf"
    },
    {
      "cell_type": "code",
      "execution_count": 76,
      "metadata": {},
      "outputs": [
        {
          "output_type": "display_data",
          "metadata": {},
          "data": {
            "text/plain": [
              "[1, 2, 2, 3, 3, 3, 4, 4, 4, 4, 5, 5, 5, 5, 5]"
            ]
          }
        }
      ],
      "source": [
        "[1] + [2] * 2 + [3] * 3 + [4] * 4 + [5] * 5"
      ],
      "id": "0246f417-f895-4aaa-a0aa-6e47e03bf6e3"
    },
    {
      "cell_type": "markdown",
      "metadata": {},
      "source": [
        "hint: 아래의 코드를 관찰해보세요"
      ],
      "id": "ec566dd7-8250-49b4-b164-45513c44fbe4"
    },
    {
      "cell_type": "code",
      "execution_count": 74,
      "metadata": {},
      "outputs": [
        {
          "output_type": "display_data",
          "metadata": {},
          "data": {
            "text/plain": [
              "[1, 2, 2]"
            ]
          }
        }
      ],
      "source": [
        "[1]*1+[2]*2 "
      ],
      "id": "b00547c4-d1fb-4602-83ea-276e3fb9335e"
    },
    {
      "cell_type": "markdown",
      "metadata": {},
      "source": [
        "`6`. 넘파이를 이용하여 아래와 같은 결과가 나오도록 코드가 작성하라.\n",
        "\n",
        "$$\\begin{bmatrix}\n",
        "1 \\\\\n",
        "2 \n",
        "\\end{bmatrix} + \\begin{bmatrix}\n",
        "11 \\\\\n",
        "22 \n",
        "\\end{bmatrix} = \n",
        "\\begin{bmatrix}\n",
        "12 \\\\\n",
        "24\n",
        "\\end{bmatrix}$$"
      ],
      "id": "199e791e-1554-43dd-96cc-785791bbd0a7"
    },
    {
      "cell_type": "code",
      "execution_count": 77,
      "metadata": {},
      "outputs": [],
      "source": [
        "import numpy as np"
      ],
      "id": "656530f0-bb65-44ff-8aff-191814763248"
    },
    {
      "cell_type": "code",
      "execution_count": 83,
      "metadata": {},
      "outputs": [
        {
          "output_type": "display_data",
          "metadata": {},
          "data": {
            "text/plain": [
              "array([12, 24])"
            ]
          }
        }
      ],
      "source": [
        "np.array([1,2]) + np.array([11,22]) "
      ],
      "id": "4fbeac2d-8e46-4263-851f-1caffd9e752b"
    },
    {
      "cell_type": "code",
      "execution_count": 84,
      "metadata": {},
      "outputs": [
        {
          "output_type": "display_data",
          "metadata": {},
          "data": {
            "text/plain": [
              "array([[12],\n",
              "       [24]])"
            ]
          }
        }
      ],
      "source": [
        "np.array([[1],[2]]) + np.array([[11],[22]])"
      ],
      "id": "fd77a1c8-542d-4dc0-ae50-13ab0132fc09"
    },
    {
      "cell_type": "markdown",
      "metadata": {},
      "source": [
        "1.  아래와 같은 벡터가 있다고 하자.\n",
        "\n",
        "$$\\boldsymbol{a}=\n",
        "\\begin{bmatrix}\n",
        "12 \\\\\n",
        "24\n",
        "\\end{bmatrix}$$\n",
        "\n",
        "넘파이를 이용하여 아래의 결과가 나오게 하는 코드를 작성하라.\n",
        "\n",
        "$$2\\boldsymbol{a}=\n",
        "\\begin{bmatrix}\n",
        "24 \\\\\n",
        "48\n",
        "\\end{bmatrix}$$"
      ],
      "id": "4bfb51dc-9f26-452a-a410-7beafa7298ad"
    },
    {
      "cell_type": "code",
      "execution_count": 86,
      "metadata": {},
      "outputs": [
        {
          "output_type": "display_data",
          "metadata": {},
          "data": {
            "text/plain": [
              "array([[24],\n",
              "       [48]])"
            ]
          }
        }
      ],
      "source": [
        "2 * (np.array([[1],[2]]) + np.array([[11],[22]]))"
      ],
      "id": "9ed32d55-0bd8-4521-8872-f6e434c2badc"
    },
    {
      "cell_type": "code",
      "execution_count": 88,
      "metadata": {},
      "outputs": [
        {
          "output_type": "display_data",
          "metadata": {},
          "data": {
            "text/plain": [
              "array([24, 48])"
            ]
          }
        }
      ],
      "source": [
        "2 * np.array([12, 24])"
      ],
      "id": "2a5d3c75-863a-417a-b06a-2f87332728fe"
    },
    {
      "cell_type": "code",
      "execution_count": 89,
      "metadata": {},
      "outputs": [
        {
          "output_type": "display_data",
          "metadata": {},
          "data": {
            "text/plain": [
              "array([[24],\n",
              "       [48]])"
            ]
          }
        }
      ],
      "source": [
        "2 * np.array([[12], [24]])"
      ],
      "id": "2c67da41-c3f0-43e9-acb3-0ba3c1db808b"
    },
    {
      "cell_type": "markdown",
      "metadata": {},
      "source": [
        "# 3.\n",
        "\n",
        "HW 0320\n",
        "\n",
        "[03wk-1: 파이썬의 자료형\n",
        "(4)](https://guebin.github.io/PP2023/posts/01_PythonBasic/2023-03-20-3wk-1.html)\n",
        "\n",
        "`1`. 아래의 코드를 관찰하고, sum()의 기능을 유추하라."
      ],
      "id": "54adb06f-8350-4876-8c75-3cea7f9249d5"
    },
    {
      "cell_type": "code",
      "execution_count": 90,
      "metadata": {},
      "outputs": [
        {
          "output_type": "display_data",
          "metadata": {},
          "data": {
            "text/plain": [
              "2"
            ]
          }
        }
      ],
      "source": [
        "sum([1,0,1,0])"
      ],
      "id": "570087c7-5fbb-4945-a74f-21d80379d710"
    },
    {
      "cell_type": "markdown",
      "metadata": {},
      "source": [
        "$\\to$ 원소의 합"
      ],
      "id": "edc3efef-c85e-456e-9c8d-d52c409447d6"
    },
    {
      "cell_type": "code",
      "execution_count": 91,
      "metadata": {},
      "outputs": [
        {
          "output_type": "display_data",
          "metadata": {},
          "data": {
            "text/plain": [
              "2"
            ]
          }
        }
      ],
      "source": [
        "sum([True,False,True,False])"
      ],
      "id": "4b1d98af-709d-4d99-a22a-fa987190ac4c"
    },
    {
      "cell_type": "markdown",
      "metadata": {},
      "source": [
        "$\\to$ True는 1로, False는 0으로 인식\n",
        "\n",
        "`2`. 다음과 같은 리스트를 고려하자."
      ],
      "id": "eb990491-deb5-4194-b4fd-3f1685c16067"
    },
    {
      "cell_type": "code",
      "execution_count": 92,
      "metadata": {},
      "outputs": [
        {
          "output_type": "display_data",
          "metadata": {},
          "data": {
            "text/plain": [
              "[80, 60, 80, 90, 55, 85, 95, 100, 35, 70, 75, 65, 95]"
            ]
          }
        }
      ],
      "source": [
        "x = [80,60,80,90,55,85,95,100,35,70,75,65,95]\n",
        "x"
      ],
      "id": "2d8b9c9a-9dd2-4fbb-9d1d-b3572985512c"
    },
    {
      "cell_type": "markdown",
      "metadata": {},
      "source": [
        "이를 수식으로 표현하면 아래와 같다.\n",
        "\n",
        "${\\bf x} = [x_1,\\dots,x_{13}]=[80,60,80,90,55,85,95,100,35,70,75,65,95]$\n",
        "\n",
        "리스트의 원소중 “$x_i>80$” 의 조건을 만족하는 원소는 모두 몇개인가?\n",
        "\n",
        "hint: 리스트컴프리헨션과 `sum()`함수를 이용할 것"
      ],
      "id": "d17fc3f8-b837-480f-a06a-60413840fe00"
    },
    {
      "cell_type": "code",
      "execution_count": 99,
      "metadata": {},
      "outputs": [
        {
          "output_type": "display_data",
          "metadata": {},
          "data": {
            "text/plain": [
              "5"
            ]
          }
        }
      ],
      "source": [
        "sum([xi >80 for xi in x])"
      ],
      "id": "bf4dd951-42a6-44c2-a6aa-c29efabec8cc"
    },
    {
      "cell_type": "markdown",
      "metadata": {},
      "source": [
        "my answer"
      ],
      "id": "bc351ca1-0fae-4ad2-9822-0cad3ff776b0"
    },
    {
      "cell_type": "code",
      "execution_count": 98,
      "metadata": {},
      "outputs": [
        {
          "output_type": "display_data",
          "metadata": {},
          "data": {
            "text/plain": [
              "5"
            ]
          }
        }
      ],
      "source": [
        "sum([x[i] > 80 for i in range(len(x))])"
      ],
      "id": "4cc99e0b-9911-493d-b6ee-b2ea9d25a225"
    },
    {
      "cell_type": "markdown",
      "metadata": {},
      "source": [
        "`3`. 다음과 같은 리스트를 고려하자."
      ],
      "id": "6deada79-08b0-4f7c-aa6b-8fffb4af069f"
    },
    {
      "cell_type": "code",
      "execution_count": 100,
      "metadata": {},
      "outputs": [
        {
          "output_type": "display_data",
          "metadata": {},
          "data": {
            "text/plain": [
              "['A', 'B', 'C', 'D', 'A', 'A', 'B', 'A', 'F', 'C', 'C', 'C', 'A']"
            ]
          }
        }
      ],
      "source": [
        "['A','B','C','D','A','A','B','A','F','C','C','C','A']"
      ],
      "id": "832dd14a-4871-47d5-8429-ca2dd34474df"
    },
    {
      "cell_type": "markdown",
      "metadata": {},
      "source": [
        "이 리스트에서 ‘A’ 혹은 ’B’의 숫자는 모두 몇개인가?\n",
        "\n",
        "hint: 아래를 관찰"
      ],
      "id": "acf6a9a9-d429-4759-b36d-726d34a827b9"
    },
    {
      "cell_type": "code",
      "execution_count": 101,
      "metadata": {},
      "outputs": [
        {
          "output_type": "display_data",
          "metadata": {},
          "data": {
            "text/plain": [
              "True"
            ]
          }
        }
      ],
      "source": [
        "'A' < 'C'"
      ],
      "id": "df6fadbc-1a03-42cf-a213-e8635810f5a2"
    },
    {
      "cell_type": "code",
      "execution_count": 102,
      "metadata": {},
      "outputs": [
        {
          "output_type": "display_data",
          "metadata": {},
          "data": {
            "text/plain": [
              "True"
            ]
          }
        }
      ],
      "source": [
        "'B' < 'C'"
      ],
      "id": "5a53123d-21e2-407c-8738-68eec96ed98f"
    },
    {
      "cell_type": "code",
      "execution_count": 107,
      "metadata": {},
      "outputs": [
        {
          "output_type": "display_data",
          "metadata": {},
          "data": {
            "text/plain": [
              "7"
            ]
          }
        }
      ],
      "source": [
        "lst = ['A','B','C','D','A','A','B','A','F','C','C','C','A']\n",
        "sum([l <'C' for l in lst])"
      ],
      "id": "e8faa1c3-e1a5-4c9d-a9df-3f52849032f9"
    },
    {
      "cell_type": "markdown",
      "metadata": {},
      "source": [
        "my answer"
      ],
      "id": "9559c82d-14cd-4449-8fdb-3b6bef251fac"
    },
    {
      "cell_type": "code",
      "execution_count": 105,
      "metadata": {},
      "outputs": [
        {
          "output_type": "display_data",
          "metadata": {},
          "data": {
            "text/plain": [
              "7"
            ]
          }
        }
      ],
      "source": [
        "lst = ['A','B','C','D','A','A','B','A','F','C','C','C','A']\n",
        "sum([lst[i] < 'C' for i in range(len(lst))])"
      ],
      "id": "8af9b4df-fbf4-4003-961a-b3d055be3ff0"
    },
    {
      "cell_type": "markdown",
      "metadata": {},
      "source": [
        "`4`. 아래와 같은 리스트가 있다고 하자.\n",
        "\n",
        "${\\bf x} = [1,2,1,5,6,2,4,7]$\n",
        "\n",
        "${\\bf y} = [3,2,4,1,2,5,6,7]$\n",
        "\n",
        "이러한 벡터를 파이썬에서 표현하기 위해서 아래와 같은 리스트를 만들었다고\n",
        "하자."
      ],
      "id": "92bdb163-b73d-4201-a79b-1baffe2df034"
    },
    {
      "cell_type": "code",
      "execution_count": 108,
      "metadata": {},
      "outputs": [],
      "source": [
        "x=[1,2,1,5,6,2,4,7]\n",
        "y=[3,2,4,1,2,5,6,7] "
      ],
      "id": "ab865ed6-6a26-42db-b640-26756485d8ed"
    },
    {
      "cell_type": "markdown",
      "metadata": {},
      "source": [
        "리스트컴프리헨션을 이용하여\n",
        "\n",
        "$${\\bf z}=[x_1^2+y_1^2, \\dots, x_{8}^2+y_{8}^2]=[x_i^2+y_i^2: \\text{for $i = 1,2,3,\\dots,8$}]$$\n",
        "\n",
        "와 같은 리스트를 생성하라."
      ],
      "id": "d6d86bde-be1e-416f-932d-5574656374c8"
    },
    {
      "cell_type": "code",
      "execution_count": 113,
      "metadata": {},
      "outputs": [
        {
          "output_type": "display_data",
          "metadata": {},
          "data": {
            "text/plain": [
              "[10, 8, 17, 26, 40, 29, 52, 98]"
            ]
          }
        }
      ],
      "source": [
        "[x[i]**2+y[i]**2 for i in range(8)]"
      ],
      "id": "5bf09f3d-0199-48da-b06d-350b14c0a68f"
    },
    {
      "cell_type": "markdown",
      "metadata": {},
      "source": [
        "my answer"
      ],
      "id": "d0defaa3-7f63-4f43-aa5f-0bb3317874de"
    },
    {
      "cell_type": "code",
      "execution_count": 112,
      "metadata": {},
      "outputs": [
        {
          "output_type": "display_data",
          "metadata": {},
          "data": {
            "text/plain": [
              "[10, 8, 17, 26, 40, 29, 52, 98]"
            ]
          }
        }
      ],
      "source": [
        "[x[i]**2 + y[i]**2 for i in range(len(x))]"
      ],
      "id": "a82f1091-96aa-4342-b2b1-dbc30a91dcee"
    },
    {
      "cell_type": "markdown",
      "metadata": {},
      "source": [
        "`5`. 아래와 같은 문자열이 있다고 하자."
      ],
      "id": "da70dbb7-60c3-4c88-a15e-dc1705d7004b"
    },
    {
      "cell_type": "code",
      "execution_count": 115,
      "metadata": {},
      "outputs": [],
      "source": [
        "test_arr = 'ssh-rsa AAAAB3NzaC1yc2EAAAABIwAAAQEAklOUpkDHrfHY17SbrmTIpNLTGK9Tjom/BWDSUGPl+nafzlHDTYW7hdI4yZ5ew18JH4JW9jbhUFrviQzM7xlELEVf4h9lFX5QVkbPppSwg0cda3Pbv7kOdJ/MTyBlWXFCR+HAo3FXRitBqxiX1nKhXpHAZsMciLq8V6RjsNAQwdsdMFvSlVK/7XAt3FaoJoAsncM1Q9x5+3V0Ww68/eIFmb1zuUFljQJKprrX88XypNDvjYNby6vw/Pb0rwert/EnmZ+AW4OZPnTPI89ZPmVMLuayrD2cE86Z/il8b+gw3r3+1nKatmIkjn2so1d01QraTlMqVSsbxNrRFi9wrf+M7Q== schacon@mylaptop.local'"
      ],
      "id": "c93adaf7-36be-4e5a-a563-acc5fb994658"
    },
    {
      "cell_type": "markdown",
      "metadata": {},
      "source": [
        "이 문자열에서 대문자의 수를 count하라. (2022년 파이썬입문 중간고사 1-(5)\n",
        "참고)"
      ],
      "id": "22680edc-2494-4a4e-9503-45d1a2cba783"
    },
    {
      "cell_type": "code",
      "execution_count": 128,
      "metadata": {},
      "outputs": [
        {
          "output_type": "display_data",
          "metadata": {},
          "data": {
            "text/plain": [
              "155"
            ]
          }
        }
      ],
      "source": [
        "sum([s.isupper() for s in test_arr ])"
      ],
      "id": "b5aa3fd2-7fb5-49da-9aa9-80afe75318c2"
    },
    {
      "cell_type": "markdown",
      "metadata": {},
      "source": [
        "error on my answer"
      ],
      "id": "e8ce3c5b-868d-46ca-9194-4683234bd53e"
    },
    {
      "cell_type": "code",
      "execution_count": 126,
      "metadata": {},
      "outputs": [
        {
          "output_type": "display_data",
          "metadata": {},
          "data": {
            "text/plain": [
              "230"
            ]
          }
        }
      ],
      "source": [
        "sum([test_arr[i] == test_arr.upper()[i] for i in range(len(test_arr))])"
      ],
      "id": "9b4af721-07ab-4a12-bff4-e7e8c73c6518"
    },
    {
      "cell_type": "markdown",
      "metadata": {},
      "source": [
        "<font color=green>이렇게 비교하면 대문자인 것은 세겠지만, 기호가 같은\n",
        "것도 세기 때문에 over해서 sum하게 된다.</font>\n",
        "\n",
        "`6`. 리스트컴프리헨션을 이용하여 아래와 같은 리스트를 생성하라. (2022년\n",
        "파이썬입문 중간고사 1-(7) 참고)\n",
        "\n",
        "``` python\n",
        "['a',\n",
        " 'aa',\n",
        " 'aaa',\n",
        " 'aaaa',\n",
        " 'aaaaa',\n",
        " 'aaaaaa',\n",
        " 'aaaaaaa',\n",
        " 'aaaaaaaa',\n",
        " 'aaaaaaaaa',\n",
        " 'aaaaaaaaaa'] <- a가 10개있음\n",
        "```"
      ],
      "id": "3053de37-fc81-475d-a0c9-92c09770cd3f"
    },
    {
      "cell_type": "code",
      "execution_count": 144,
      "metadata": {},
      "outputs": [
        {
          "output_type": "display_data",
          "metadata": {},
          "data": {
            "text/plain": [
              "['a',\n",
              " 'aa',\n",
              " 'aaa',\n",
              " 'aaaa',\n",
              " 'aaaaa',\n",
              " 'aaaaaa',\n",
              " 'aaaaaaa',\n",
              " 'aaaaaaaa',\n",
              " 'aaaaaaaaa',\n",
              " 'aaaaaaaaaa']"
            ]
          }
        }
      ],
      "source": [
        "['a'*i for i in range(1,11)]"
      ],
      "id": "d41a49b1-90d4-4114-96ed-fca337feb339"
    },
    {
      "cell_type": "markdown",
      "metadata": {},
      "source": [
        "my answer"
      ],
      "id": "6a784e52-f77a-439c-aa7d-022cc551d852"
    },
    {
      "cell_type": "code",
      "execution_count": 143,
      "metadata": {},
      "outputs": [
        {
          "output_type": "display_data",
          "metadata": {},
          "data": {
            "text/plain": [
              "['a',\n",
              " 'aa',\n",
              " 'aaa',\n",
              " 'aaaa',\n",
              " 'aaaaa',\n",
              " 'aaaaaa',\n",
              " 'aaaaaaa',\n",
              " 'aaaaaaaa',\n",
              " 'aaaaaaaaa',\n",
              " 'aaaaaaaaaa']"
            ]
          }
        }
      ],
      "source": [
        "['a' * i for i in range(1,11)]"
      ],
      "id": "3efd51ee-4474-40fe-a4c9-4a2366205439"
    },
    {
      "cell_type": "markdown",
      "metadata": {},
      "source": [
        "`7`. 아래와 같은 list가 있다고 하자."
      ],
      "id": "2ce97483-b494-4531-953c-b9252f36858b"
    },
    {
      "cell_type": "code",
      "execution_count": 145,
      "metadata": {},
      "outputs": [],
      "source": [
        "test_lst = [['g',1],['u',5],['e',2],['b',8],['i',2],['n',9]]"
      ],
      "id": "3714583a-f566-4e3a-a60f-73a6b7a07153"
    },
    {
      "cell_type": "markdown",
      "metadata": {},
      "source": [
        "test_lst와 리스트컴프리헨션을 이용하여 아래를 출력하는 코드를 구현하라.\n",
        "(2022년 파이썬입문 중간고사 1-(9) 참고)"
      ],
      "id": "09189d62-6353-4a27-91eb-6e7f0ef62e9e"
    },
    {
      "cell_type": "code",
      "execution_count": 146,
      "metadata": {},
      "outputs": [
        {
          "output_type": "display_data",
          "metadata": {},
          "data": {
            "text/plain": [
              "['g', 'uuuuu', 'ee', 'bbbbbbbb', 'ii', 'nnnnnnnnn']"
            ]
          }
        }
      ],
      "source": [
        "['g', 'uuuuu', 'ee', 'bbbbbbbb', 'ii', 'nnnnnnnnn']"
      ],
      "id": "9f5c422a-9d1e-4ceb-8bf8-4589fbd2bc3a"
    },
    {
      "cell_type": "code",
      "execution_count": 152,
      "metadata": {},
      "outputs": [
        {
          "output_type": "display_data",
          "metadata": {},
          "data": {
            "text/plain": [
              "['g', 'uuuuu', 'ee', 'bbbbbbbb', 'ii', 'nnnnnnnnn']"
            ]
          }
        }
      ],
      "source": [
        "[l[0]*l[1] for l in test_lst]"
      ],
      "id": "b62f82c5-5ec7-4059-82f6-8bc52ce3f66f"
    },
    {
      "cell_type": "markdown",
      "metadata": {},
      "source": [
        "my answer"
      ],
      "id": "1be1fd55-4661-4a3f-8de9-cc03aee309c8"
    },
    {
      "cell_type": "code",
      "execution_count": 151,
      "metadata": {},
      "outputs": [
        {
          "output_type": "display_data",
          "metadata": {},
          "data": {
            "text/plain": [
              "['g', 'uuuuu', 'ee', 'bbbbbbbb', 'ii', 'nnnnnnnnn']"
            ]
          }
        }
      ],
      "source": [
        "[test_lst[i][0] * test_lst[i][1] for i in range(len(test_lst))]"
      ],
      "id": "c35618d2-577f-4e68-958a-63994a1eaf45"
    },
    {
      "cell_type": "markdown",
      "metadata": {},
      "source": [
        "`8`. 아래와 같은 list를 생성하라.\n",
        "\n",
        "``` python\n",
        "[1,\n",
        " 2,2,\n",
        " 3,3,3,\n",
        " 4,4,4,4,\n",
        " 5,5,5,5,5,\n",
        " ...\n",
        " 9,9,9,9,9,9,9,9,9] <- 9가 9개 있음 \n",
        "```\n",
        "\n",
        "(풀이1) – 의도한 풀이"
      ],
      "id": "7d201562-2ac1-4b72-8de2-08dc1ee7bae3"
    },
    {
      "cell_type": "code",
      "execution_count": 203,
      "metadata": {},
      "outputs": [],
      "source": [
        "lst = list()\n",
        "for i in range(1,10):\n",
        "    lst = lst + [i]*i"
      ],
      "id": "55177c0f-dcd3-4072-bf69-e07f96f3fc10"
    },
    {
      "cell_type": "markdown",
      "metadata": {},
      "source": [
        "(풀이2) – 이걸 의도한건 아니었음…"
      ],
      "id": "99dfa581-b4e1-4e34-81ae-081a391335ea"
    },
    {
      "cell_type": "code",
      "execution_count": 205,
      "metadata": {},
      "outputs": [],
      "source": [
        "lst = [[i]*i for i in range(1,10)]"
      ],
      "id": "34c75f67-6eab-475d-8377-715752e900a3"
    },
    {
      "cell_type": "code",
      "execution_count": 206,
      "metadata": {},
      "outputs": [
        {
          "output_type": "stream",
          "name": "stdout",
          "text": [
            "[1,\n",
            " 2,2,\n",
            " 3,3,3,\n",
            " 4,4,4,4,\n",
            " 5,5,5,5,5,\n",
            " 6,6,6,6,6,6,\n",
            " 7,7,7,7,7,7,7,\n",
            " 8,8,8,8,8,8,8,8,\n",
            " 9,9,9,9,9,9,9,9,9]\n",
            " "
          ]
        }
      ],
      "source": [
        "print(str(lst).replace(' ','').replace(',[','').replace(']',',\\n ').replace('[[','[').replace(',\\n ,',']'))"
      ],
      "id": "ae9e44be-fc26-461d-82aa-47b3804968e1"
    },
    {
      "cell_type": "markdown",
      "metadata": {},
      "source": [
        "error on my answer"
      ],
      "id": "f7549e3d-7995-4945-aef3-cc3ee6ab35f7"
    },
    {
      "cell_type": "code",
      "execution_count": 199,
      "metadata": {},
      "outputs": [
        {
          "output_type": "display_data",
          "metadata": {},
          "data": {
            "text/plain": [
              "[[1],\n",
              " [2, 2],\n",
              " [3, 3, 3],\n",
              " [4, 4, 4, 4],\n",
              " [5, 5, 5, 5, 5],\n",
              " [6, 6, 6, 6, 6, 6],\n",
              " [7, 7, 7, 7, 7, 7, 7],\n",
              " [8, 8, 8, 8, 8, 8, 8, 8],\n",
              " [9, 9, 9, 9, 9, 9, 9, 9, 9]]"
            ]
          }
        }
      ],
      "source": [
        "[[i] * i for i in range(1,10)]"
      ],
      "id": "4738e7bf-955d-41f8-bc8d-27cc21db7cf8"
    },
    {
      "cell_type": "markdown",
      "metadata": {},
      "source": [
        "right answer"
      ],
      "id": "8882a73c-dcd3-4236-85b6-b2198afaf7d4"
    },
    {
      "cell_type": "code",
      "execution_count": 200,
      "metadata": {},
      "outputs": [],
      "source": [
        "l = []\n",
        "for i in range(1,10):\n",
        "    l = l + [i] * i"
      ],
      "id": "7cdfef19-fd9a-490e-a437-cc894e094c92"
    },
    {
      "cell_type": "markdown",
      "metadata": {},
      "source": [
        "`9`. 아래와 같은 리스트를 관찰하라."
      ],
      "id": "3d000360-3e39-49a5-a281-edecd3c4f7bb"
    },
    {
      "cell_type": "code",
      "execution_count": 207,
      "metadata": {},
      "outputs": [],
      "source": [
        "lst = ['2022/09/21','2022/10/30','2022/12/25','2023/01/01','2023/01/31','2023/03/20']"
      ],
      "id": "1fb67434-de97-4f75-9644-2e6425532bd3"
    },
    {
      "cell_type": "markdown",
      "metadata": {},
      "source": [
        "이러한 리스트를 아래와 같은 리스트로 변환하는 코드를 작성하라."
      ],
      "id": "9ace11c3-7a56-4702-be17-f3c9d8386d7d"
    },
    {
      "cell_type": "code",
      "execution_count": 208,
      "metadata": {},
      "outputs": [
        {
          "output_type": "display_data",
          "metadata": {},
          "data": {
            "text/plain": [
              "['2022-09-21',\n",
              " '2022-10-30',\n",
              " '2022-12-25',\n",
              " '2023-01-01',\n",
              " '2023-01-31',\n",
              " '2023-03-20']"
            ]
          }
        }
      ],
      "source": [
        "['2022-09-21', '2022-10-30', '2022-12-25', '2023-01-01', '2023-01-31', '2023-03-20']"
      ],
      "id": "8a8b73d6-e4ae-44fb-8bf6-34c3d84cd76d"
    },
    {
      "cell_type": "markdown",
      "metadata": {},
      "source": [
        "hint: string의 .replace()기능과 리스트 컴프리헨션의 응용"
      ],
      "id": "2e3fb845-c4ba-4677-89be-f295be9d1e17"
    },
    {
      "cell_type": "code",
      "execution_count": 216,
      "metadata": {},
      "outputs": [
        {
          "output_type": "display_data",
          "metadata": {},
          "data": {
            "text/plain": [
              "['2022-09-21',\n",
              " '2022-10-30',\n",
              " '2022-12-25',\n",
              " '2023-01-01',\n",
              " '2023-01-31',\n",
              " '2023-03-20']"
            ]
          }
        }
      ],
      "source": [
        "[s.replace('/','-') for s in lst]"
      ],
      "id": "a4bad245-cfc0-4829-9227-3584eea9ddda"
    },
    {
      "cell_type": "markdown",
      "metadata": {},
      "source": [
        "my answer"
      ],
      "id": "1a323548-bfe8-4a26-81dc-cb78112e7b71"
    },
    {
      "cell_type": "code",
      "execution_count": 215,
      "metadata": {},
      "outputs": [
        {
          "output_type": "display_data",
          "metadata": {},
          "data": {
            "text/plain": [
              "['2022/09/21',\n",
              " '2022/10/30',\n",
              " '2022/12/25',\n",
              " '2023/01/01',\n",
              " '2023/01/31',\n",
              " '2023/03/20']"
            ]
          }
        }
      ],
      "source": [
        "for i in range(len(lst)):\n",
        "    lst[i].replace('/','-')\n",
        "lst"
      ],
      "id": "a5d55562-4254-4dfb-b6f3-cac69ea2b3fb"
    },
    {
      "cell_type": "markdown",
      "metadata": {},
      "source": [
        "`10`. 아래와 같은 문자열을 고려하라."
      ],
      "id": "a24d19c8-2cf6-435a-a9b5-77825dc3f4e0"
    },
    {
      "cell_type": "code",
      "execution_count": 217,
      "metadata": {},
      "outputs": [
        {
          "output_type": "display_data",
          "metadata": {},
          "data": {
            "text/plain": [
              "'2021. 01. 05.'"
            ]
          }
        }
      ],
      "source": [
        "'2021. 01. 05.'"
      ],
      "id": "21f9e2e2-88f4-488d-a6a3-bfe27bffe781"
    },
    {
      "cell_type": "markdown",
      "metadata": {},
      "source": [
        "띄어쓰기를 제거하는 코드를 구현하라. 즉 출력결과가 아래와 같도록 만드는\n",
        "코드를 구현하라."
      ],
      "id": "d7eaddb9-1e97-4315-9d70-e025e47d80ec"
    },
    {
      "cell_type": "code",
      "execution_count": 218,
      "metadata": {},
      "outputs": [
        {
          "output_type": "display_data",
          "metadata": {},
          "data": {
            "text/plain": [
              "'2021.01.05'"
            ]
          }
        }
      ],
      "source": [
        "'2021.01.05'"
      ],
      "id": "d22f9c2b-e7e7-4fa3-bb6e-c4216736d747"
    },
    {
      "cell_type": "markdown",
      "metadata": {},
      "source": [
        "hint: 아래코드 관찰"
      ],
      "id": "b2ef755b-0562-46c1-a33e-e85f43cad9f0"
    },
    {
      "cell_type": "code",
      "execution_count": 222,
      "metadata": {},
      "outputs": [
        {
          "output_type": "display_data",
          "metadata": {},
          "data": {
            "text/plain": [
              "'sdf'"
            ]
          }
        }
      ],
      "source": [
        "'asdf'.replace('a','')"
      ],
      "id": "0bd3ee23-afcd-4817-9218-8426b0283db2"
    },
    {
      "cell_type": "code",
      "execution_count": 223,
      "metadata": {},
      "outputs": [
        {
          "output_type": "display_data",
          "metadata": {},
          "data": {
            "text/plain": [
              "'2021.01.05.'"
            ]
          }
        }
      ],
      "source": [
        "'2021. 01. 05.'.replace(' ','')"
      ],
      "id": "48905d3f-07f5-45c7-9d37-4f6818dd84c2"
    },
    {
      "cell_type": "markdown",
      "metadata": {},
      "source": [
        "my answer"
      ],
      "id": "dda4b9e3-7185-4760-91ad-8c6ebab39220"
    },
    {
      "cell_type": "code",
      "execution_count": 221,
      "metadata": {},
      "outputs": [
        {
          "output_type": "display_data",
          "metadata": {},
          "data": {
            "text/plain": [
              "'2021.01.05'"
            ]
          }
        }
      ],
      "source": [
        "a = '2021.01.05';a.replace('. ','.');a"
      ],
      "id": "169fd7e8-1bdc-44fd-8da8-be17a9e17d5f"
    },
    {
      "cell_type": "markdown",
      "metadata": {},
      "source": [
        "`11`. 아래의 코드를 관찰하라."
      ],
      "id": "42ad5b9e-0807-4a76-a5d0-c4defb3a81ca"
    },
    {
      "cell_type": "code",
      "execution_count": 224,
      "metadata": {},
      "outputs": [
        {
          "output_type": "display_data",
          "metadata": {},
          "data": {
            "text/plain": [
              "'2022-01-05'"
            ]
          }
        }
      ],
      "source": [
        "'-'.join(['2022','01','05'])"
      ],
      "id": "c0f55745-4dfd-405e-91ec-e9be164a363c"
    },
    {
      "cell_type": "code",
      "execution_count": 225,
      "metadata": {},
      "outputs": [
        {
          "output_type": "display_data",
          "metadata": {},
          "data": {
            "text/plain": [
              "'2022.01.05'"
            ]
          }
        }
      ],
      "source": [
        "'.'.join(['2022','01','05'])"
      ],
      "id": "9cc03043-ad46-4fd7-8b81-99a8047484a2"
    },
    {
      "cell_type": "markdown",
      "metadata": {},
      "source": [
        "’dd’에 있는 내용을 이용하여 join의 원소들을 합쳐라.\n",
        "\n",
        "`12`. 아래와 같이 하나의 특수문자로 이루어진 리스트를 고려하자."
      ],
      "id": "9b2e7346-1bf0-4461-84b9-150582ca3003"
    },
    {
      "cell_type": "code",
      "execution_count": 226,
      "metadata": {},
      "outputs": [],
      "source": [
        "block = ['■'] "
      ],
      "id": "c65b4ed2-d909-4428-aab4-e8c9a576f975"
    },
    {
      "cell_type": "markdown",
      "metadata": {},
      "source": [
        "이를 이용하여 아래와 같은 결과를 출력하라."
      ],
      "id": "0008c947-bbb6-4363-91c2-b5894d62fcc0"
    },
    {
      "cell_type": "code",
      "execution_count": 227,
      "metadata": {},
      "outputs": [
        {
          "output_type": "display_data",
          "metadata": {},
          "data": {
            "text/plain": [
              "'■-■-■-■-■-■-■-■-■-■'"
            ]
          }
        }
      ],
      "source": [
        "'■-■-■-■-■-■-■-■-■-■' # 여기에서 '■'는 모두 10개 있음"
      ],
      "id": "fca99004-7a65-44e1-aa5f-22ac595e77ae"
    },
    {
      "cell_type": "markdown",
      "metadata": {},
      "source": [
        "hint: 11번 문제의 코드를 응용할 것"
      ],
      "id": "65dcbfb8-44a9-42c3-9a47-9e8870c7a464"
    },
    {
      "cell_type": "code",
      "execution_count": 235,
      "metadata": {},
      "outputs": [
        {
          "output_type": "display_data",
          "metadata": {},
          "data": {
            "text/plain": [
              "'■-■-■-■-■-■-■-■-■-■'"
            ]
          }
        }
      ],
      "source": [
        "'-'.join(block*10)"
      ],
      "id": "93458a47-2b41-422f-b40a-95a394d7687f"
    },
    {
      "cell_type": "markdown",
      "metadata": {},
      "source": [
        "my answer"
      ],
      "id": "f5bb86b0-96a3-4597-9bde-ce38a648b827"
    },
    {
      "cell_type": "code",
      "execution_count": 234,
      "metadata": {},
      "outputs": [
        {
          "output_type": "display_data",
          "metadata": {},
          "data": {
            "text/plain": [
              "'■-■-■-■-■-■-■-■-■-■'"
            ]
          }
        }
      ],
      "source": [
        "'-'.join(block*10)"
      ],
      "id": "b22af366-4006-41fb-b8bc-229b845cceb9"
    },
    {
      "cell_type": "markdown",
      "metadata": {},
      "source": [
        "# 4.\n",
        "\n",
        "HW: 03-22 (2)\n",
        "\n",
        "[03wk-2: 파이썬의 자료형 (5)](03wk-2:%20파이썬의%20자료형%20(5))\n",
        "\n",
        "`1`. 길이가 1인 튜플을 만들어 자신의 학번을 저장하라. 길이가 1인 튜플을\n",
        "만들어 자신의 영문이름을 저장하라. 두 튜플을 + 연산자로 합쳐아래와 같은\n",
        "출력결과를 얻어라. 최종 결과는 예를들면 아래와 같아야 한다."
      ],
      "id": "f57c1f37-ea55-4b87-a819-27da9cbc9347"
    },
    {
      "cell_type": "code",
      "execution_count": 237,
      "metadata": {},
      "outputs": [
        {
          "output_type": "display_data",
          "metadata": {},
          "data": {
            "text/plain": [
              "('2021-43052', 'TomJohn')"
            ]
          }
        }
      ],
      "source": [
        "('2021-43052', 'TomJohn')"
      ],
      "id": "ad32f492-571e-4378-ac29-5f63ec2493d2"
    },
    {
      "cell_type": "code",
      "execution_count": 245,
      "metadata": {},
      "outputs": [
        {
          "output_type": "display_data",
          "metadata": {},
          "data": {
            "text/plain": [
              "('2021-43052', 'tomJohn')"
            ]
          }
        }
      ],
      "source": [
        "a='2021-43052', \n",
        "b='tomJohn',\n",
        "a+b"
      ],
      "id": "5525ced8-2ce5-46ee-92a9-d034e657f926"
    },
    {
      "cell_type": "markdown",
      "metadata": {},
      "source": [
        "my answer"
      ],
      "id": "d6e8810e-8242-4aad-9790-87d82d0f6996"
    },
    {
      "cell_type": "code",
      "execution_count": 243,
      "metadata": {},
      "outputs": [
        {
          "output_type": "display_data",
          "metadata": {},
          "data": {
            "text/plain": [
              "('2222-1111', 'TomJohn')"
            ]
          }
        }
      ],
      "source": [
        "a = '2222-1111';b = 'TomJohn'; (a , b)"
      ],
      "id": "ae334687-932d-4f12-ad68-814c9da264b0"
    },
    {
      "cell_type": "markdown",
      "metadata": {},
      "source": [
        "`2-5`. 아래는 파이썬프로그래밍 수강생들의 학번, 이름, 출석점수,\n",
        "과제점수, 중간고사점수, 기말고사점수를 저장한 중첩리스트이다."
      ],
      "id": "a02405e3-477f-4604-a120-9ad859539eec"
    },
    {
      "cell_type": "code",
      "execution_count": 247,
      "metadata": {},
      "outputs": [
        {
          "output_type": "display_data",
          "metadata": {},
          "data": {
            "text/plain": [
              "[['2021-43052', 'GuebinChoi', 5, 10, 20, 25],\n",
              " ['2019-12342', 'Heung-min Son', 10, 15, 30, 15],\n",
              " ['2018-32234', 'hynn', 7, 20, 30, 15],\n",
              " ['2022-42323', 'Minji', 8, 20, 20, 35],\n",
              " ['2023-55342', 'Hanni', 7, 20, 30, 35],\n",
              " ['2022-46624', 'Danielle', 3, 15, 30, 40],\n",
              " ['2022-11239', 'Haerin', 10, 20, 30, 40],\n",
              " ['2022-32114', 'Hyein', 10, 20, 20, 35]]"
            ]
          }
        }
      ],
      "source": [
        "lst = [['2021-43052', 'GuebinChoi', 5, 10, 20, 25],\n",
        "       ['2019-12342', 'Heung-min Son', 10, 15, 30, 15],\n",
        "       ['2018-32234', 'hynn', 7, 20, 30, 15],\n",
        "       ['2022-42323', 'Minji', 8, 20, 20, 35],\n",
        "       ['2023-55342', 'Hanni', 7, 20, 30, 35],\n",
        "       ['2022-46624', 'Danielle', 3, 15, 30, 40],\n",
        "       ['2022-11239', 'Haerin', 10, 20, 30, 40],\n",
        "       ['2022-32114', 'Hyein', 10, 20, 20, 35]]\n",
        "lst "
      ],
      "id": "3d5342e4-8bdc-46c4-be49-dde42192154f"
    },
    {
      "cell_type": "markdown",
      "metadata": {},
      "source": [
        "`2`. 파이썬프로그래밍 수강생의 수는 모두 몇명인가?"
      ],
      "id": "dd6e38c9-9e5b-496b-9d64-406ee33116f1"
    },
    {
      "cell_type": "code",
      "execution_count": 249,
      "metadata": {},
      "outputs": [
        {
          "output_type": "display_data",
          "metadata": {},
          "data": {
            "text/plain": [
              "8"
            ]
          }
        }
      ],
      "source": [
        "len(lst)"
      ],
      "id": "49e96cd5-8ccd-4815-a905-71603b0d7a15"
    },
    {
      "cell_type": "markdown",
      "metadata": {},
      "source": [
        "`3`. 전북대학교 지침에 따라 출석점수가 7보다 작은 학생은 (즉\n",
        "`출석점수 < 7` 일 경우) F학점을 부여하게 되어있다. 이 기준에 따르면 F를\n",
        "받는 학생은 모두 몇명인가?"
      ],
      "id": "627ae596-d066-4b81-85f7-935f9a2fc036"
    },
    {
      "cell_type": "code",
      "execution_count": 250,
      "metadata": {},
      "outputs": [
        {
          "output_type": "display_data",
          "metadata": {},
          "data": {
            "text/plain": [
              "2"
            ]
          }
        }
      ],
      "source": [
        "sum([att<7 for _,_, att, *rest in lst])"
      ],
      "id": "c920316f-6a6a-464d-9d81-ad8a10fdb50a"
    },
    {
      "cell_type": "markdown",
      "metadata": {},
      "source": [
        "my answer"
      ],
      "id": "e8e4b224-078f-4ff3-a16d-6af43c937b9c"
    },
    {
      "cell_type": "code",
      "execution_count": 256,
      "metadata": {},
      "outputs": [
        {
          "output_type": "display_data",
          "metadata": {},
          "data": {
            "text/plain": [
              "2"
            ]
          }
        }
      ],
      "source": [
        "sum([lst[i][2] < 7 for i in range(len(lst))])"
      ],
      "id": "db14d240-5b8e-4d7c-a5a6-77d55ec22422"
    },
    {
      "cell_type": "markdown",
      "metadata": {},
      "source": [
        "풀이 뜯어보기"
      ],
      "id": "597bd330-4eaf-4f5c-9ddb-060a21fc5b77"
    },
    {
      "cell_type": "code",
      "execution_count": 266,
      "metadata": {},
      "outputs": [
        {
          "output_type": "display_data",
          "metadata": {},
          "data": {
            "text/plain": [
              "[5, 10, 7, 8, 7, 3, 10, 10]"
            ]
          }
        }
      ],
      "source": [
        "[att for _,_, att, *rest in lst]"
      ],
      "id": "62934422-8a1e-4170-aab7-8119290ef6cc"
    },
    {
      "cell_type": "markdown",
      "metadata": {},
      "source": [
        "순서대로 학번, 이름, 출석점수, 나머지~\n",
        "\n",
        "------------------------------------------------------------------------\n",
        "\n",
        "`-`"
      ],
      "id": "04369e2a-d340-4dae-a138-e1d124c8aade"
    },
    {
      "cell_type": "code",
      "execution_count": 261,
      "metadata": {},
      "outputs": [
        {
          "output_type": "stream",
          "name": "stdout",
          "text": [
            "5 10\n",
            "10 15\n",
            "7 20\n",
            "8 20\n",
            "7 20\n",
            "3 15\n",
            "10 20\n",
            "10 20"
          ]
        }
      ],
      "source": [
        "for a,b,c,d,_,_ in lst:\n",
        "    print(c,d)"
      ],
      "id": "bbe35238-19fa-458f-8f96-ac4efe64a157"
    },
    {
      "cell_type": "markdown",
      "metadata": {},
      "source": [
        "`-`"
      ],
      "id": "1badea59-e699-4d92-8062-7d109ce78c95"
    },
    {
      "cell_type": "code",
      "execution_count": 262,
      "metadata": {},
      "outputs": [
        {
          "output_type": "stream",
          "name": "stdout",
          "text": [
            "1 2 3"
          ]
        }
      ],
      "source": [
        "print(*[1,2,3])"
      ],
      "id": "4284eb78-34f0-4f89-86d3-460ea67684ae"
    },
    {
      "cell_type": "code",
      "execution_count": 263,
      "metadata": {},
      "outputs": [
        {
          "output_type": "stream",
          "name": "stdout",
          "text": [
            "[1, 2, 3]"
          ]
        }
      ],
      "source": [
        "print([1,2,3])"
      ],
      "id": "bf2db5f9-edb7-4b0c-a08f-a3eaf176a52e"
    },
    {
      "cell_type": "markdown",
      "metadata": {},
      "source": [
        "------------------------------------------------------------------------\n",
        "\n",
        "`4`. 파이썬프로그래밍 수업의 경우 출석+레포트 \\< 21 일 경우 F학점을\n",
        "부여한다고 한다. 이 기준에 따르면 F를 받는 학생은 모두 몇명인가?"
      ],
      "id": "2c063151-4213-4127-a10b-b4919c607711"
    },
    {
      "cell_type": "code",
      "execution_count": 278,
      "metadata": {},
      "outputs": [
        {
          "output_type": "display_data",
          "metadata": {},
          "data": {
            "text/plain": [
              "2"
            ]
          }
        }
      ],
      "source": [
        "sum([att+rep < 21 for _,_, att,rep, *rest in lst])"
      ],
      "id": "158b0182-ac96-48d7-a05f-fa53debf20ab"
    },
    {
      "cell_type": "markdown",
      "metadata": {},
      "source": [
        "my answer"
      ],
      "id": "db7a3183-0e01-461f-90d6-b4e23ec152d0"
    },
    {
      "cell_type": "code",
      "execution_count": 276,
      "metadata": {},
      "outputs": [
        {
          "output_type": "display_data",
          "metadata": {},
          "data": {
            "text/plain": [
              "2"
            ]
          }
        }
      ],
      "source": [
        "sum([c + d < 21 for _,_,c,d,*rest in lst])"
      ],
      "id": "2386fa33-a6e5-487d-89c0-bde85ea17e23"
    },
    {
      "cell_type": "markdown",
      "metadata": {},
      "source": [
        "`5`. 리스트의 정렬순서를 \\[학번, 이름, …, 기말고사점수\\] 가 아니라\n",
        "\\[이름, 학번, … , 기말고사점수\\] 와 같이 되도록 변경하는 코드를\n",
        "작성하라."
      ],
      "id": "dc81d118-69c4-4e3f-a0bd-3266213a5bc1"
    },
    {
      "cell_type": "code",
      "execution_count": 284,
      "metadata": {},
      "outputs": [
        {
          "output_type": "display_data",
          "metadata": {},
          "data": {
            "text/plain": [
              "[['GuebinChoi', '2021-43052', 5, 10, 20, 25],\n",
              " ['Heung-min Son', '2019-12342', 10, 15, 30, 15],\n",
              " ['hynn', '2018-32234', 7, 20, 30, 15],\n",
              " ['Minji', '2022-42323', 8, 20, 20, 35],\n",
              " ['Hanni', '2023-55342', 7, 20, 30, 35],\n",
              " ['Danielle', '2022-46624', 3, 15, 30, 40],\n",
              " ['Haerin', '2022-11239', 10, 20, 30, 40],\n",
              " ['Hyein', '2022-32114', 10, 20, 20, 35]]"
            ]
          }
        }
      ],
      "source": [
        "[[name,studentid,*rest] for studentid, name, *rest in lst]"
      ],
      "id": "1e3e7116-8583-4c80-9ad4-5f7e7089b15f"
    },
    {
      "cell_type": "markdown",
      "metadata": {},
      "source": [
        "my answer"
      ],
      "id": "937c5969-e115-41df-978e-acdb72b50551"
    },
    {
      "cell_type": "code",
      "execution_count": 283,
      "metadata": {},
      "outputs": [
        {
          "output_type": "display_data",
          "metadata": {},
          "data": {
            "text/plain": [
              "[['GuebinChoi', '2021-43052', 5, 10, 20, 25],\n",
              " ['Heung-min Son', '2019-12342', 10, 15, 30, 15],\n",
              " ['hynn', '2018-32234', 7, 20, 30, 15],\n",
              " ['Minji', '2022-42323', 8, 20, 20, 35],\n",
              " ['Hanni', '2023-55342', 7, 20, 30, 35],\n",
              " ['Danielle', '2022-46624', 3, 15, 30, 40],\n",
              " ['Haerin', '2022-11239', 10, 20, 30, 40],\n",
              " ['Hyein', '2022-32114', 10, 20, 20, 35]]"
            ]
          }
        }
      ],
      "source": [
        "[[b,a,*rest] for a,b,*rest in lst]"
      ],
      "id": "be054f74-a618-4958-8e95-a1d26bd65881"
    },
    {
      "cell_type": "markdown",
      "metadata": {},
      "source": [
        "`6`. 아래의 코드를 관찰하라."
      ],
      "id": "cccf08df-ff8c-4aa4-aec7-0421dee2e7f9"
    },
    {
      "cell_type": "code",
      "execution_count": 285,
      "metadata": {},
      "outputs": [
        {
          "output_type": "display_data",
          "metadata": {},
          "data": {
            "text/plain": [
              "['2023', '03', '22']"
            ]
          }
        }
      ],
      "source": [
        "'2023-03-22'.split('-')"
      ],
      "id": "b8b14877-a762-47bf-a6f7-11d45c556641"
    },
    {
      "cell_type": "markdown",
      "metadata": {},
      "source": [
        "이 코드를 바탕으로 split의 기능을 유추하라.\n",
        "\n",
        "$\\to$ `split`은 호출한 문자 기준으로 문자 나누는 역할\n",
        "\n",
        "`7`. 6의 실행결과를 되돌리는 코드를 작성하라. 즉"
      ],
      "id": "eadb5516-cda1-4b13-9dd4-82224a69f993"
    },
    {
      "cell_type": "code",
      "execution_count": 286,
      "metadata": {},
      "outputs": [
        {
          "output_type": "display_data",
          "metadata": {},
          "data": {
            "text/plain": [
              "['2023', '03', '22']"
            ]
          }
        }
      ],
      "source": [
        "['2023', '03', '22']"
      ],
      "id": "33002b84-4a7f-40d3-9e44-8d8321a67e8d"
    },
    {
      "cell_type": "markdown",
      "metadata": {},
      "source": [
        "와 같은 리스트를 아래의 string으로 바꾸는 코드를 작성하라."
      ],
      "id": "475204e0-6f2e-41b2-83c3-07140ef0c991"
    },
    {
      "cell_type": "code",
      "execution_count": 287,
      "metadata": {},
      "outputs": [
        {
          "output_type": "display_data",
          "metadata": {},
          "data": {
            "text/plain": [
              "'2023-03-22'"
            ]
          }
        }
      ],
      "source": [
        "'2023-03-22'"
      ],
      "id": "b005dfcf-b5ed-486c-a854-3f429526b871"
    },
    {
      "cell_type": "markdown",
      "metadata": {},
      "source": [
        "hint: join을 이용할 것"
      ],
      "id": "76e4a36e-bd33-44dd-a039-e90ec765aafc"
    },
    {
      "cell_type": "code",
      "execution_count": 291,
      "metadata": {},
      "outputs": [
        {
          "output_type": "display_data",
          "metadata": {},
          "data": {
            "text/plain": [
              "'2023-03-22'"
            ]
          }
        }
      ],
      "source": [
        "'-'.join(['2023', '03', '22'])"
      ],
      "id": "d819bbb2-7fea-4244-9b01-d9ad3b2e9060"
    },
    {
      "cell_type": "markdown",
      "metadata": {},
      "source": [
        "my answer"
      ],
      "id": "c52336ee-ba90-4448-9a2e-1a59e82b49c1"
    },
    {
      "cell_type": "code",
      "execution_count": 290,
      "metadata": {},
      "outputs": [
        {
          "output_type": "display_data",
          "metadata": {},
          "data": {
            "text/plain": [
              "'2023-03-22'"
            ]
          }
        }
      ],
      "source": [
        "lst = ['2023', '03', '22'];'-'.join(lst)"
      ],
      "id": "1f584807-9957-4b32-ab35-b4779fd4b78b"
    },
    {
      "cell_type": "markdown",
      "metadata": {},
      "source": [
        "다음은 인터넷에서 긁어온 어떠한 텍스트이다."
      ],
      "id": "b1a3c6be-8cae-4c6d-a2cd-7bc9706e22eb"
    },
    {
      "cell_type": "code",
      "execution_count": 292,
      "metadata": {},
      "outputs": [],
      "source": [
        "text = \"국내뿐 아니라 해외 인기도 심상치 않다. 2023년 1월 18일 'Ditto'가 빌보드 핫 100에 96위로 진입했다. 이는 K-pop 역사상 데뷔후 최단 빌보드 Hot 100 차트 입성 기록이다. 다른 뮤지션들이 보통 데뷔 후 수년간 쌓아온 팬덤을 기반으로 빌보드에 입성한데 비해, 뉴진스의 기록은 이례적인 것으로 평가받고 있다. 또한 'OMG'가 빌보드 핫 100에 91위로 진입한 동시에 'Ditto'는 85위로 순위가 상승, 핫 100 주간차트에 두 곡을 올려놓았다. K-Pop 역사상 이 차트에 두 곡 이상을 진입시킨 아티스트는 방탄소년단과 블랙핑크가 유일하다. 'Ditto'는 1월 셋째주 기준, 빌보드뿐만 아니라 영국 오피셜 싱글 차트 '톱 100'에 2주 연속 진입하기도 했다.\""
      ],
      "id": "c6dc60e5-9ecf-4520-a86e-860a588155c9"
    },
    {
      "cell_type": "markdown",
      "metadata": {},
      "source": [
        "`8`. text는 총 몇개의 문장으로 이루어져 있는가?\n",
        "\n",
        "hint: 이 텍스트의 문장은 모두 .로 끝난다."
      ],
      "id": "e0e194d9-3f5a-46cd-bff6-900023a00248"
    },
    {
      "cell_type": "code",
      "execution_count": 299,
      "metadata": {},
      "outputs": [
        {
          "output_type": "display_data",
          "metadata": {},
          "data": {
            "text/plain": [
              "['국내뿐 아니라 해외 인기도 심상치 않다',\n",
              " \"2023년 1월 18일 'Ditto'가 빌보드 핫 100에 96위로 진입했다\",\n",
              " '이는 K-pop 역사상 데뷔후 최단 빌보드 Hot 100 차트 입성 기록이다',\n",
              " '다른 뮤지션들이 보통 데뷔 후 수년간 쌓아온 팬덤을 기반으로 빌보드에 입성한데 비해, 뉴진스의 기록은 이례적인 것으로 평가받고 있다',\n",
              " \"또한 'OMG'가 빌보드 핫 100에 91위로 진입한 동시에 'Ditto'는 85위로 순위가 상승, 핫 100 주간차트에 두 곡을 올려놓았다\",\n",
              " 'K-Pop 역사상 이 차트에 두 곡 이상을 진입시킨 아티스트는 방탄소년단과 블랙핑크가 유일하다',\n",
              " \"'Ditto'는 1월 셋째주 기준, 빌보드뿐만 아니라 영국 오피셜 싱글 차트 '톱 100'에 2주 연속 진입하기도 했다.\"]"
            ]
          }
        }
      ],
      "source": [
        "lst = text.split('. ')\n",
        "lst "
      ],
      "id": "27e6a8c6-7d3b-422e-9df7-a8061ea71603"
    },
    {
      "cell_type": "code",
      "execution_count": 300,
      "metadata": {},
      "outputs": [
        {
          "output_type": "display_data",
          "metadata": {},
          "data": {
            "text/plain": [
              "7"
            ]
          }
        }
      ],
      "source": [
        "len(lst)"
      ],
      "id": "84dfbb19-2aee-43d0-9754-488b13ff17b7"
    },
    {
      "cell_type": "markdown",
      "metadata": {},
      "source": [
        "error on my answer"
      ],
      "id": "7afe715a-2e7d-4b13-85a3-9df51811aef0"
    },
    {
      "cell_type": "code",
      "execution_count": 296,
      "metadata": {},
      "outputs": [
        {
          "output_type": "display_data",
          "metadata": {},
          "data": {
            "text/plain": [
              "7"
            ]
          }
        }
      ],
      "source": [
        "len(text.split('.'))-1"
      ],
      "id": "09726d2a-d09c-4f14-a045-4b95363b253e"
    },
    {
      "cell_type": "markdown",
      "metadata": {},
      "source": [
        "$\\to$ . 띄어쓰기를 생각 못 함\n",
        "\n",
        "`9`. 각 문장은 몇개의 단어로 이루어져 있는가?\n",
        "\n",
        "hint: 각 단어는 공백으로 구분된다."
      ],
      "id": "b70c43dc-6f4d-4518-bb88-1c6464ad68a9"
    },
    {
      "cell_type": "code",
      "execution_count": 312,
      "metadata": {},
      "outputs": [
        {
          "output_type": "display_data",
          "metadata": {},
          "data": {
            "text/plain": [
              "[6, 9, 11, 18, 18, 12, 16]"
            ]
          }
        }
      ],
      "source": [
        "[len(s.split(' ')) for s in lst]"
      ],
      "id": "ba1c0afb-e5b2-42e8-9018-3a2c4e4afabc"
    },
    {
      "cell_type": "code",
      "execution_count": 314,
      "metadata": {},
      "outputs": [
        {
          "output_type": "display_data",
          "metadata": {},
          "data": {
            "text/plain": [
              "90"
            ]
          }
        }
      ],
      "source": [
        "sum([len(s.split(' ')) for s in lst])"
      ],
      "id": "a1d8fee6-3d19-42bc-b9d5-78e782cc3d2c"
    },
    {
      "cell_type": "markdown",
      "metadata": {},
      "source": [
        "my answer"
      ],
      "id": "3f550132-1465-48b5-9e7f-9f7f5630cff1"
    },
    {
      "cell_type": "code",
      "execution_count": 311,
      "metadata": {},
      "outputs": [
        {
          "output_type": "display_data",
          "metadata": {},
          "data": {
            "text/plain": [
              "[6, 9, 11, 18, 18, 12, 16]"
            ]
          }
        }
      ],
      "source": [
        "[len(text.split('. ')[i].split(' ')) for i in range(len(text.split('. ')))]"
      ],
      "id": "45a00800-2091-4846-88d4-d3ee204ddec1"
    },
    {
      "cell_type": "code",
      "execution_count": 313,
      "metadata": {},
      "outputs": [
        {
          "output_type": "display_data",
          "metadata": {},
          "data": {
            "text/plain": [
              "90"
            ]
          }
        }
      ],
      "source": [
        "sum([len(text.split('. ')[i].split(' ')) for i in range(len(text.split('. ')))])"
      ],
      "id": "50f95684-f591-48c7-b0b6-cd7aecb3b36d"
    },
    {
      "cell_type": "markdown",
      "metadata": {},
      "source": [
        "`10`. 100이라는 단어가 포함된 문장은 모두 몇 개 인가?\n",
        "\n",
        "hint: 아래의 코드를 관찰"
      ],
      "id": "a3b88776-caf7-4e89-aaea-86bb335b5225"
    },
    {
      "cell_type": "code",
      "execution_count": 315,
      "metadata": {},
      "outputs": [
        {
          "output_type": "display_data",
          "metadata": {},
          "data": {
            "text/plain": [
              "True"
            ]
          }
        }
      ],
      "source": [
        "'a' in 'abcd'"
      ],
      "id": "6688f549-34f6-4684-9e56-8a6db891087c"
    },
    {
      "cell_type": "code",
      "execution_count": 323,
      "metadata": {},
      "outputs": [
        {
          "output_type": "display_data",
          "metadata": {},
          "data": {
            "text/plain": [
              "[False, True, True, False, True, False, True]"
            ]
          }
        }
      ],
      "source": [
        "['100' in s for s in lst]"
      ],
      "id": "71f262de-48ab-42e0-9c4a-2b2ec444ad0e"
    },
    {
      "cell_type": "code",
      "execution_count": 324,
      "metadata": {},
      "outputs": [
        {
          "output_type": "display_data",
          "metadata": {},
          "data": {
            "text/plain": [
              "4"
            ]
          }
        }
      ],
      "source": [
        "sum(['100' in s for s in lst])"
      ],
      "id": "f4a18919-854a-4b04-8679-760eccd556b6"
    },
    {
      "cell_type": "markdown",
      "metadata": {},
      "source": [
        "my answer"
      ],
      "id": "6091c5bb-da43-4565-9299-64bd88c42b27"
    },
    {
      "cell_type": "code",
      "execution_count": 322,
      "metadata": {},
      "outputs": [
        {
          "output_type": "display_data",
          "metadata": {},
          "data": {
            "text/plain": [
              "4"
            ]
          }
        }
      ],
      "source": [
        "sum(['100' in text.split('. ')[i] for i in range(len(text.split('. ')))])"
      ],
      "id": "70e05137-8c85-4900-86a8-c2eaad16b2b3"
    },
    {
      "cell_type": "markdown",
      "metadata": {},
      "source": [
        "# 5\n",
        "\n",
        "HW 0327 (1)\n",
        "\n",
        "[04wk-1: 파이썬의 자료형\n",
        "(6)](https://guebin.github.io/PP2023/posts/01_PythonBasic/2023-03-27-4wk-1.html)\n",
        "\n",
        "`ssh코드`: 1-2\n",
        "\n",
        "아래의 문자열을 고려하자."
      ],
      "id": "9e6f4179-82ef-46c1-91ca-9182a20d22b1"
    },
    {
      "cell_type": "code",
      "execution_count": 325,
      "metadata": {},
      "outputs": [],
      "source": [
        "test_arr = 'ssh-rsa AAAAB3NzaC1yc2EAAAABIwAAAQEAklOUpkDHrfHY17SbrmTIpNLTGK9Tjom/BWDSUGPl+nafzlHDTYW7hdI4yZ5ew18JH4JW9jbhUFrviQzM7xlELEVf4h9lFX5QVkbPppSwg0cda3Pbv7kOdJ/MTyBlWXFCR+HAo3FXRitBqxiX1nKhXpHAZsMciLq8V6RjsNAQwdsdMFvSlVK/7XAt3FaoJoAsncM1Q9x5+3V0Ww68/eIFmb1zuUFljQJKprrX88XypNDvjYNby6vw/Pb0rwert/EnmZ+AW4OZPnTPI89ZPmVMLuayrD2cE86Z/il8b+gw3r3+1nKatmIkjn2so1d01QraTlMqVSsbxNrRFi9wrf+M7Q== schacon@mylaptop.local'"
      ],
      "id": "84e808ce-ad15-4b91-b7ad-6e0bfe36aed6"
    },
    {
      "cell_type": "markdown",
      "metadata": {},
      "source": [
        "`1`. 이 문자열에서 index = 0,2,4,6,8,… 에 해당하는 원소를 출력하는\n",
        "코드를 작성하라. (2022-파이썬입문 중간고사 1-(2) 참고)\n",
        "\n",
        "``` python\n",
        "# 출력결과는 아래와 같아야 한다. \n",
        "\n",
        "'shraAABNa1cEAAIAAEkOpDrH1SrTpLG9jmBDUP+azHTWhIy5w8HJ9bUriz7lLV49F5VbpSgcaPvkd/TBWFRHoFRtqi1KXHZMiqVRsAwsMvlK7A3aJAnMQx+VW6/Im1uFjJpr8XpDjNyv/bretEm+WOPTI9PVLar2E6/lbg331KtIj2od1rTMVsxrF9r+7= cao@yatplcl'\n",
        "```"
      ],
      "id": "123c83b2-99e6-4e77-93dc-1c10729c9086"
    },
    {
      "cell_type": "code",
      "execution_count": 327,
      "metadata": {},
      "outputs": [
        {
          "output_type": "display_data",
          "metadata": {},
          "data": {
            "text/plain": [
              "'shraAABNa1cEAAIAAEkOpDrH1SrTpLG9jmBDUP+azHTWhIy5w8HJ9bUriz7lLV49F5VbpSgcaPvkd/TBWFRHoFRtqi1KXHZMiqVRsAwsMvlK7A3aJAnMQx+VW6/Im1uFjJpr8XpDjNyv/bretEm+WOPTI9PVLar2E6/lbg331KtIj2od1rTMVsxrF9r+7= cao@yatplcl'"
            ]
          }
        }
      ],
      "source": [
        "test_arr[::2]"
      ],
      "id": "42340322-3543-4c72-9701-feb2ea0d8abf"
    },
    {
      "cell_type": "markdown",
      "metadata": {},
      "source": [
        "`2`. 위 문자열을 뒤집은 문자열을 구하는 코드를 구현하라.\n",
        "(2022-파이썬입문 중간고사 1-(4) 참고)\n",
        "\n",
        "``` python\n",
        "# 출력결과는 아래와 같아야 한다. \n",
        "\n",
        "'lacol.potpalym@nocahcs ==Q7M+frw9iFRrNxbsSVqMlTarQ10d1os2njkImtaKn1+3r3wg+b8li/Z68Ec2DryauLMVmPZ98IPTnPZO4WA+ZmnE/trewr0bP/wv6ybNYjvDNpyX88XrrpKJQjlFUuz1bmFIe/86wW0V3+5x9Q1McnsAoJoaF3tAX7/KVlSvFMdsdwQANsjR6V8qLicMsZAHpXhKn1XixqBtiRXF3oAH+RCFXWlByTM/JdOk7vbP3adc0gwSppPbkVQ5XFl9h4fVELElx7MzQivrFUhbj9WJ4HJ81we5Zy4Idh7WYTDHlzfan+lPGUSDWB/mojT9KGTLNpITmrbS71YHfrHDkpUOlkAEQAAAwIBAAAAE2cy1CazN3BAAAA asr-hss'\n",
        "```"
      ],
      "id": "3f6a5a42-fdcc-4ff2-a53c-5ce4d96c2a89"
    },
    {
      "cell_type": "code",
      "execution_count": 343,
      "metadata": {},
      "outputs": [
        {
          "output_type": "display_data",
          "metadata": {},
          "data": {
            "text/plain": [
              "'lacol.potpalym@nocahcs ==Q7M+frw9iFRrNxbsSVqMlTarQ10d1os2njkImtaKn1+3r3wg+b8li/Z68Ec2DryauLMVmPZ98IPTnPZO4WA+ZmnE/trewr0bP/wv6ybNYjvDNpyX88XrrpKJQjlFUuz1bmFIe/86wW0V3+5x9Q1McnsAoJoaF3tAX7/KVlSvFMdsdwQANsjR6V8qLicMsZAHpXhKn1XixqBtiRXF3oAH+RCFXWlByTM/JdOk7vbP3adc0gwSppPbkVQ5XFl9h4fVELElx7MzQivrFUhbj9WJ4HJ81we5Zy4Idh7WYTDHlzfan+lPGUSDWB/mojT9KGTLNpITmrbS71YHfrHDkpUOlkAEQAAAwIBAAAAE2cy1CazN3BAAAA asr-hss'"
            ]
          }
        }
      ],
      "source": [
        "test_arr[::-1]"
      ],
      "id": "74a8b982-88ac-46e7-aa8b-067648afe5fb"
    },
    {
      "cell_type": "markdown",
      "metadata": {},
      "source": [
        "`파이썬 프로그래밍 시험성적`: 3-4\n",
        "\n",
        "아래와 같은 dictionary가 있다고 가정하자."
      ],
      "id": "0634a595-7ae4-468a-80d6-15a846da6a68"
    },
    {
      "cell_type": "code",
      "execution_count": 344,
      "metadata": {},
      "outputs": [],
      "source": [
        "dct={'202212377': {'att': 65, 'rep': 45, 'mid': 0, 'fin': 10},\n",
        "     '202212473': {'att': 95, 'rep': 30, 'mid': 60, 'fin': 10},\n",
        "     '202212310': {'att': 65, 'rep': 85, 'mid': 15, 'fin': 20},\n",
        "     '202212460': {'att': 55, 'rep': 35, 'mid': 35, 'fin': 5},\n",
        "     '202212320': {'att': 80, 'rep': 60, 'mid': 55, 'fin': 70},\n",
        "     '202212329': {'att': 75, 'rep': 40, 'mid': 75, 'fin': 85},\n",
        "     '202212408': {'att': 65, 'rep': 70, 'mid': 60, 'fin': 75},\n",
        "     '202212319': {'att': 60, 'rep': 25, 'mid': 20, 'fin': 35},\n",
        "     '202212348': {'att': 95, 'rep': 55, 'mid': 65, 'fin': 90},\n",
        "     '202212306': {'att': 90, 'rep': 25, 'mid': 95, 'fin': 50},\n",
        "     '202212308': {'att': 55, 'rep': 45, 'mid': 75, 'fin': 30},\n",
        "     '202212366': {'att': 95, 'rep': 60, 'mid': 25, 'fin': 55},\n",
        "     '202212367': {'att': 95, 'rep': 35, 'mid': 0, 'fin': 25},\n",
        "     '202212461': {'att': 50, 'rep': 55, 'mid': 90, 'fin': 45}}"
      ],
      "id": "92e44214-d441-4681-af06-03cdfdfb1828"
    },
    {
      "cell_type": "markdown",
      "metadata": {},
      "source": [
        "여기에서 ‘202212377’ 등은 학번을, att는 출석점수, rep는 레포트점수,\n",
        "mid는 중간고사 점수, fin은 기말고사 점수를 의미한다.\n",
        "\n",
        "`3`. 학생들의 학번을 아래와 같은 방식으로 출력하는 코드를 작성하라.\n",
        "\n",
        "``` python\n",
        "# 출력예시\n",
        "\n",
        "['2022-12377',\n",
        " '2022-12473',\n",
        " '2022-12310',\n",
        " '2022-12460',\n",
        " '2022-12320',\n",
        " '2022-12329',\n",
        " '2022-12408',\n",
        " '2022-12319',\n",
        " '2022-12348',\n",
        " '2022-12306',\n",
        " '2022-12308',\n",
        " '2022-12366',\n",
        " '2022-12367',\n",
        " '2022-12461']\n",
        "```"
      ],
      "id": "ed3a5ecc-10be-4e00-9ef7-202a8c3fbacf"
    },
    {
      "cell_type": "code",
      "execution_count": 354,
      "metadata": {},
      "outputs": [
        {
          "output_type": "display_data",
          "metadata": {},
          "data": {
            "text/plain": [
              "['2022-12377',\n",
              " '2022-12473',\n",
              " '2022-12310',\n",
              " '2022-12460',\n",
              " '2022-12320',\n",
              " '2022-12329',\n",
              " '2022-12408',\n",
              " '2022-12319',\n",
              " '2022-12348',\n",
              " '2022-12306',\n",
              " '2022-12308',\n",
              " '2022-12366',\n",
              " '2022-12367',\n",
              " '2022-12461']"
            ]
          }
        }
      ],
      "source": [
        "[k[:4]+'-'+k[4:] for k in dct]"
      ],
      "id": "0cdb4077-953c-4efd-a0e6-df64961d8a60"
    },
    {
      "cell_type": "markdown",
      "metadata": {},
      "source": [
        "error on my answer"
      ],
      "id": "36ae6a6c-72b1-4e71-adb3-815534a6595d"
    },
    {
      "cell_type": "code",
      "execution_count": 362,
      "metadata": {},
      "outputs": [
        {
          "output_type": "stream",
          "name": "stdout",
          "text": [
            "2022 - 12377\n",
            "2022 - 12473\n",
            "2022 - 12310\n",
            "2022 - 12460\n",
            "2022 - 12320\n",
            "2022 - 12329\n",
            "2022 - 12408\n",
            "2022 - 12319\n",
            "2022 - 12348\n",
            "2022 - 12306\n",
            "2022 - 12308\n",
            "2022 - 12366\n",
            "2022 - 12367\n",
            "2022 - 12461"
          ]
        }
      ],
      "source": [
        "for k in dct.keys():\n",
        "    print(k[:4],'-',k[4:])"
      ],
      "id": "fc26321d-b2bf-497c-8b52-6f8ef75ee5df"
    },
    {
      "cell_type": "markdown",
      "metadata": {},
      "source": [
        "<font color=green>띄어쓰기가 있고, ’’로 묶이지도 않았고, 리스트로\n",
        "묶이지도 않음</font>"
      ],
      "id": "6cbafed1-18ed-4ee1-8126-20b939e7cc43"
    },
    {
      "cell_type": "code",
      "execution_count": 368,
      "metadata": {},
      "outputs": [
        {
          "output_type": "display_data",
          "metadata": {},
          "data": {
            "text/plain": [
              "['2022-12377',\n",
              " '2022-12473',\n",
              " '2022-12310',\n",
              " '2022-12460',\n",
              " '2022-12320',\n",
              " '2022-12329',\n",
              " '2022-12408',\n",
              " '2022-12319',\n",
              " '2022-12348',\n",
              " '2022-12306',\n",
              " '2022-12308',\n",
              " '2022-12366',\n",
              " '2022-12367',\n",
              " '2022-12461']"
            ]
          }
        }
      ],
      "source": [
        "kk = []\n",
        "for k in dct.keys():\n",
        "    kk.append(k[:4]+'-'+k[4:])\n",
        "kk"
      ],
      "id": "50284660-c4de-4c40-a15c-3994cfef095a"
    },
    {
      "cell_type": "markdown",
      "metadata": {},
      "source": [
        "`4`. 출석점수가 70점 이상인(\\>=70) 학생들의 학번을 출력하는 코드를\n",
        "작성하라. (2022-파이썬입문 중간고사 2-(3) 참고)\n",
        "\n",
        "``` python\n",
        "# 출력예시 \n",
        "\n",
        "['2022-12473',\n",
        " '2022-12320',\n",
        " '2022-12329',\n",
        " '2022-12348',\n",
        " '2022-12306',\n",
        " '2022-12366',\n",
        " '2022-12367']\n",
        "```"
      ],
      "id": "35db86db-27a0-46f7-a06e-77c5374c5fc7"
    },
    {
      "cell_type": "code",
      "execution_count": 382,
      "metadata": {},
      "outputs": [
        {
          "output_type": "display_data",
          "metadata": {},
          "data": {
            "text/plain": [
              "['2022-12473',\n",
              " '2022-12320',\n",
              " '2022-12329',\n",
              " '2022-12348',\n",
              " '2022-12306',\n",
              " '2022-12366',\n",
              " '2022-12367']"
            ]
          }
        }
      ],
      "source": [
        "[k[:4]+'-'+k[4:] for k,v in dct.items() if v['att']>70]"
      ],
      "id": "d85393b5-eff1-4e9a-9618-f9e6a734d088"
    },
    {
      "cell_type": "markdown",
      "metadata": {},
      "source": [
        "my answer"
      ],
      "id": "1b1e81b7-35c4-4aed-b154-980fc829e896"
    },
    {
      "cell_type": "code",
      "execution_count": 381,
      "metadata": {},
      "outputs": [
        {
          "output_type": "display_data",
          "metadata": {},
          "data": {
            "text/plain": [
              "['2022-12473',\n",
              " '2022-12320',\n",
              " '2022-12329',\n",
              " '2022-12348',\n",
              " '2022-12306',\n",
              " '2022-12366',\n",
              " '2022-12367']"
            ]
          }
        }
      ],
      "source": [
        "[k[:4] + '-' + k[4:] for k in dct if dct[k]['att']>=70]"
      ],
      "id": "6cacb95f-8e48-48d9-9fe9-8b6336e2da4b"
    },
    {
      "cell_type": "markdown",
      "metadata": {},
      "source": [
        "------------------------------------------------------------------------\n",
        "\n",
        "`Oxford-III`: 5–10 //\n",
        "[reference](https://www.robots.ox.ac.uk/~vgg/data/pets/)\n",
        "\n",
        "아래는 이미지 파일명들이 저장된 string을 불러오는 코드이다."
      ],
      "id": "d9d9ba83-9850-4ea1-afa6-6d8624c29825"
    },
    {
      "cell_type": "code",
      "execution_count": 384,
      "metadata": {},
      "outputs": [],
      "source": [
        "import requests\n",
        "url = 'https://raw.githubusercontent.com/guebin/PP2023/main/posts/01_PythonBasic/Oxford-IIIT.txt'\n",
        "txt = requests.get(url).content.decode()"
      ],
      "id": "ec321753-b441-49b4-89de-63952d58c4b4"
    },
    {
      "cell_type": "markdown",
      "metadata": {},
      "source": [
        "txt의 출력 일부를 나타내면 아래와 같다."
      ],
      "id": "4a4a370e-8f59-4273-b9c6-c4f9a826de34"
    },
    {
      "cell_type": "code",
      "execution_count": null,
      "metadata": {},
      "outputs": [],
      "source": [
        "'Abyssinian_1.jpg\\nAbyssinian_10.jpg\\nAbyssinian_100.jpg\\nAbyssinian_100.mat\\nAbyssinian_101.jpg\\nAbyssinian_101.mat\\nAbyssinian_102.jpg\\nAbyssinian_102.mat\\nAbyssinian_103.jpg\\nAbyssinian_104.jpg\\nAbyssinian_105.jpg\\nAbyssinian_106.jpg\\nAbyssinian_107.jpg\\nAbyssinian_108.jpg\\nAbyssinian_109.jpg\\nAbyssinian_11.jpg\\nAbyssinian_110.jpg\\nAbyssinian_111.jpg\\nAbyssinian_112.jpg\\nAbyssinian_113.jpg\\nAbyssinian_114.jpg\\nAbyssinian_115.jpg\\nAbyssinian_116.jpg\\nAbyssinian_117.jpg\\nAbyssinian_118.jpg\\nAbyssinian_119.jpg\\nAbyssinian_12.jpg\\nAbyssinian_120.jpg\\nAbyssinian_121.jpg\\nAbyssinian_122.jpg\\nAbyssinian_123.jpg\\nAbyssinian_124.jpg\\nAbyssinian_125.jpg\\nAbyssinian_126.jpg\\nAbyssinian_127.jpg\\nAbyssinian_128.jpg\\nAbyssinian_129.jpg\\nAbyssinian_13.jpg\\nAbyssinian_130.jpg\\nAbyssinian_131.jpg\\nAbyssinian_132.jpg\\n ....... "
      ],
      "id": "89343996-db4a-4ea4-9aaf-fb25f0292eba"
    },
    {
      "cell_type": "markdown",
      "metadata": {},
      "source": [
        "`5`. 각 파일명은 구분되어있다. 위의 스트링을 분해하여 아래와 같은\n",
        "리스트를 생성하고 fname_list에 저장하라.\n",
        "\n",
        "``` python\n",
        "# fname_list 의 출력결과는 아래와 같아야 한다. \n",
        "['Abyssinian_1.jpg','Abyssinian_10.jpg', ... ,'yorkshire_terrier_98.jpg', 'yorkshire_terrier_99.jpg']\n",
        "```"
      ],
      "id": "763a066c-e052-4fe3-8137-c4f5b89cf00f"
    },
    {
      "cell_type": "code",
      "execution_count": 391,
      "metadata": {},
      "outputs": [
        {
          "output_type": "display_data",
          "metadata": {},
          "data": {
            "text/plain": [
              "['Abyssinian_1.jpg',\n",
              " 'Abyssinian_10.jpg',\n",
              " 'Abyssinian_100.jpg',\n",
              " 'Abyssinian_100.mat',\n",
              " 'Abyssinian_101.jpg',\n",
              " 'Abyssinian_101.mat',\n",
              " 'Abyssinian_102.jpg',\n",
              " 'Abyssinian_102.mat',\n",
              " 'Abyssinian_103.jpg',\n",
              " 'Abyssinian_104.jpg']"
            ]
          }
        }
      ],
      "source": [
        "fname_list = txt.split('\\n')\n",
        "fname_list[:10]"
      ],
      "id": "e18126fe-6707-434f-8855-9da13f34122e"
    },
    {
      "cell_type": "markdown",
      "metadata": {},
      "source": [
        "`6`. 각 이미지파일명은 아래와 같은 규칙으로 저장되어 있다.\n",
        "\n",
        "-   파일명의 첫글자가 대문자이면 고양이를 의미하고 첫글자가 소문자이면\n",
        "    강아지를 의미한다.\n",
        "-   `_` 이전의 영문명은 고양이 혹은 강아지의 종(breed)을 의미한다.\n",
        "-   이미지 파일명이 입력으로 오면 강아지인지 고양이인지 판단하여 ‘cat’\n",
        "    or ’dog’를 리턴하는 함수 f를 구현하라.\n",
        "\n",
        "``` python\n",
        "(함수사용예시)\n",
        "\n",
        "f('yorkshire_terrier_99.jpg')\n",
        "'dog'\n",
        "f('Abyssinian_1.jpg')\n",
        "'cat'\n",
        "```"
      ],
      "id": "0e97f160-5e85-4bf9-8b91-a51dbccd1706"
    },
    {
      "cell_type": "code",
      "execution_count": 399,
      "metadata": {},
      "outputs": [],
      "source": [
        "def f(fname): \n",
        "    return 'cat' if fname[0].isupper() else 'dog' "
      ],
      "id": "125f0c53-4ba0-4bca-af5f-7de49e012e32"
    },
    {
      "cell_type": "code",
      "execution_count": 400,
      "metadata": {},
      "outputs": [
        {
          "output_type": "display_data",
          "metadata": {},
          "data": {
            "text/plain": [
              "('dog', 'cat')"
            ]
          }
        }
      ],
      "source": [
        "f('yorkshire_terrier_99.jpg'), f('Abyssinian_1.jpg')"
      ],
      "id": "de6b91ef-aac1-4760-928a-a7ae74c17c97"
    },
    {
      "cell_type": "markdown",
      "metadata": {},
      "source": [
        "my answer"
      ],
      "id": "38792831-5b55-45ca-9d75-0e42bc4803de"
    },
    {
      "cell_type": "code",
      "execution_count": 396,
      "metadata": {},
      "outputs": [],
      "source": [
        "def name(name):\n",
        "    if name[0].isupper():\n",
        "        return 'cat'\n",
        "    elif name[0].islower():\n",
        "        return 'dog'"
      ],
      "id": "1b2591ad-0b9f-4f95-ad99-33ee320839f2"
    },
    {
      "cell_type": "code",
      "execution_count": 401,
      "metadata": {},
      "outputs": [
        {
          "output_type": "display_data",
          "metadata": {},
          "data": {
            "text/plain": [
              "('dog', 'cat')"
            ]
          }
        }
      ],
      "source": [
        "name('yorkshire_terrier_99.jpg'), name('Abyssinian_1.jpg')"
      ],
      "id": "cc94eccc-5f3c-4a2a-aa16-d2ac9772f11a"
    },
    {
      "cell_type": "markdown",
      "metadata": {},
      "source": [
        "`7`. 5의 결과로 나온 fname_list를 입력으로 하고 리스트의 각 원소가\n",
        "고양이를 의미하는 그림인지 강아지를 의미하는 그림인지 나타내는 리스트를\n",
        "만들어라.\n",
        "\n",
        "``` python\n",
        "## 입력예시 \n",
        "['Abyssinian_1.jpg','Abyssinian_10.jpg',...,'yorkshire_terrier_98.jpg', 'yorkshire_terrier_99.jpg']\n",
        "## 출력예시\n",
        "['cat', 'cat', ... , 'dog', 'dog']\n",
        "```"
      ],
      "id": "4cbaf15a-b16e-4e73-a5a8-970ca1f54258"
    },
    {
      "cell_type": "code",
      "execution_count": 412,
      "metadata": {},
      "outputs": [
        {
          "output_type": "display_data",
          "metadata": {},
          "data": {
            "text/plain": [
              "['cat', 'cat', 'cat', 'cat', 'cat', 'cat', 'cat', 'cat', 'cat', 'cat']"
            ]
          }
        }
      ],
      "source": [
        "result = [f(l) for l in fname_list]\n",
        "result[:10]"
      ],
      "id": "0d46ddb5-6b57-475a-8bae-efccf846034c"
    },
    {
      "cell_type": "markdown",
      "metadata": {},
      "source": [
        "my answer"
      ],
      "id": "5ed682b8-784e-499a-bc62-6baf33095914"
    },
    {
      "cell_type": "code",
      "execution_count": 411,
      "metadata": {},
      "outputs": [
        {
          "output_type": "display_data",
          "metadata": {},
          "data": {
            "text/plain": [
              "['cat', 'cat', 'cat', 'cat', 'cat', 'cat', 'cat', 'cat', 'cat', 'cat']"
            ]
          }
        }
      ],
      "source": [
        "[f(fname_list[i]) for i in range(len(fname_list))][:10]"
      ],
      "id": "c821ddaa-4c78-48f3-a7c8-13023cedffbd"
    },
    {
      "cell_type": "markdown",
      "metadata": {},
      "source": [
        "`8`. 강아지 그림과 고양이 그림이 각각 몇 장씩 포함되어 있는지 파악하는\n",
        "코드를 구현하라."
      ],
      "id": "6922f5ea-bc6c-4bfc-bbe0-4ff7b13929f9"
    },
    {
      "cell_type": "code",
      "execution_count": 416,
      "metadata": {},
      "outputs": [
        {
          "output_type": "display_data",
          "metadata": {},
          "data": {
            "text/plain": [
              "2403"
            ]
          }
        }
      ],
      "source": [
        "sum([s=='cat' for s in result]) # 고양이"
      ],
      "id": "bb3c64b6-0f8d-42dd-af6a-077770688245"
    },
    {
      "cell_type": "code",
      "execution_count": 417,
      "metadata": {},
      "outputs": [
        {
          "output_type": "display_data",
          "metadata": {},
          "data": {
            "text/plain": [
              "4990"
            ]
          }
        }
      ],
      "source": [
        "sum([s=='dog' for s in result]) # 강아지"
      ],
      "id": "e0a78d94-609c-4f12-8b29-efe35b147165"
    },
    {
      "cell_type": "markdown",
      "metadata": {},
      "source": [
        "my answer"
      ],
      "id": "cce3e666-9d5f-4f1c-9343-ac00f21a7d92"
    },
    {
      "cell_type": "code",
      "execution_count": 414,
      "metadata": {},
      "outputs": [
        {
          "output_type": "display_data",
          "metadata": {},
          "data": {
            "text/plain": [
              "2403"
            ]
          }
        }
      ],
      "source": [
        "sum([result[i] == 'cat' for i in range(len(result))])"
      ],
      "id": "654510a9-bc43-404f-9989-0602cdb19c39"
    },
    {
      "cell_type": "code",
      "execution_count": 415,
      "metadata": {},
      "outputs": [
        {
          "output_type": "display_data",
          "metadata": {},
          "data": {
            "text/plain": [
              "4990"
            ]
          }
        }
      ],
      "source": [
        "len(result) - sum([result[i] == 'cat' for i in range(len(result))])"
      ],
      "id": "11dab986-e55d-49f7-90fa-09f37737aa35"
    },
    {
      "cell_type": "markdown",
      "metadata": {},
      "source": [
        "`9`. 포메라니안 종의 그림이 몇장있는지 파악하는 코드를 구현하라.\n",
        "\n",
        "hint: 포메라니안 그림은 파일명에 ‘pomeranian’ 을 포함한다."
      ],
      "id": "dab8367a-464c-4e37-b13d-77072c1e7b7f"
    },
    {
      "cell_type": "code",
      "execution_count": 451,
      "metadata": {},
      "outputs": [
        {
          "output_type": "display_data",
          "metadata": {},
          "data": {
            "text/plain": [
              "200"
            ]
          }
        }
      ],
      "source": [
        "sum(['pomeranian'  in s for s in fname_list])"
      ],
      "id": "e0cf066f-0b0a-440f-9a42-1f8b6712e018"
    },
    {
      "cell_type": "markdown",
      "metadata": {},
      "source": [
        "my answer\n",
        "\n",
        "<font color=green>’pomeranian’을 포함하면 0이 return 되고 아니면 -1이\n",
        "return되는 코드로 길게 짰다.</font>"
      ],
      "id": "d5073502-71a1-405e-8247-a9391da9670b"
    },
    {
      "cell_type": "code",
      "execution_count": 450,
      "metadata": {},
      "outputs": [
        {
          "output_type": "display_data",
          "metadata": {},
          "data": {
            "text/plain": [
              "200"
            ]
          }
        }
      ],
      "source": [
        "len(fname_list) + sum(fname_list[i].find('pomeranian') for i in range(len(fname_list)))"
      ],
      "id": "43f513bf-0a67-48f7-9027-58046c8a9528"
    },
    {
      "cell_type": "markdown",
      "metadata": {},
      "source": [
        "`10`. 아래의 dct는 포메라니안과 사모예드가 각각 몇장씩 포함되어있는지\n",
        "정리하기 위해 임시로 정리한 dictionary이다. 각 종이 몇 장씩\n",
        "포함되어있는지 구하여 dct를 수정하라."
      ],
      "id": "eee54b09-488b-4d6d-bc50-3305febbbbcd"
    },
    {
      "cell_type": "code",
      "execution_count": 452,
      "metadata": {},
      "outputs": [
        {
          "output_type": "display_data",
          "metadata": {},
          "data": {
            "text/plain": [
              "{'pomeranian': 0, 'samoyed': 0}"
            ]
          }
        }
      ],
      "source": [
        "dct = {'pomeranian':0, 'samoyed':0} \n",
        "dct"
      ],
      "id": "94ae1ac1-8ee5-4c0c-b13e-7784ec98ac38"
    },
    {
      "cell_type": "markdown",
      "metadata": {},
      "source": [
        "예를들어 포메라니안과 사모에예드의 그림이 각각 200장씩 있다면 아래와\n",
        "같이 딕셔너리를 수정해야한다."
      ],
      "id": "9180c5b7-b750-4bb0-8569-883dd1f61686"
    },
    {
      "cell_type": "code",
      "execution_count": 466,
      "metadata": {},
      "outputs": [
        {
          "output_type": "display_data",
          "metadata": {},
          "data": {
            "text/plain": [
              "{'pomeranian': 200, 'samoyed': 200}"
            ]
          }
        }
      ],
      "source": [
        "dct['pomeranian'] = sum(['pomeranian'  in s for s in fname_list])\n",
        "dct['samoyed'] = sum(['samoyed'  in s for s in fname_list])\n",
        "dct"
      ],
      "id": "61e2200f-bd4b-4025-a787-d235c551f02e"
    },
    {
      "cell_type": "markdown",
      "metadata": {},
      "source": [
        "my answer"
      ],
      "id": "52c40605-a3e9-454f-be41-2645aa9b82e6"
    },
    {
      "cell_type": "code",
      "execution_count": 462,
      "metadata": {},
      "outputs": [],
      "source": [
        "dct['pomeranian'] = sum(['pomeranian'  in s for s in fname_list])"
      ],
      "id": "d0f9be96-d32a-49c8-b937-dc0333e9fc04"
    },
    {
      "cell_type": "code",
      "execution_count": 463,
      "metadata": {},
      "outputs": [],
      "source": [
        "dct['samoyed'] = sum(['samoyed'  in s for s in fname_list])"
      ],
      "id": "1d81fa1b-d352-452c-9dba-40f0ab60f843"
    },
    {
      "cell_type": "code",
      "execution_count": 464,
      "metadata": {},
      "outputs": [
        {
          "output_type": "display_data",
          "metadata": {},
          "data": {
            "text/plain": [
              "{'pomeranian': 200, 'samoyed': 200}"
            ]
          }
        }
      ],
      "source": [
        "dct"
      ],
      "id": "88fdf4ee-0b62-40b1-88fa-60fba48ecb5c"
    },
    {
      "cell_type": "markdown",
      "metadata": {},
      "source": [
        "# 6.\n",
        "\n",
        "HW 0327 (2)\n",
        "\n",
        "[04wk-1: 파이썬의 자료형\n",
        "(6)](https://guebin.github.io/PP2023/posts/01_PythonBasic/2023-03-27-4wk-1.html#%ED%95%A8%EC%88%98%EA%B3%A0%EA%B8%89-if%EB%AC%B8%EC%9D%B4-%ED%8F%AC%ED%95%A8%EB%90%9C-%EB%A6%AC%ED%84%B4)\n",
        "\n",
        "`1`. 아래와 같은 맵핑을 고려하자.\n",
        "\n",
        "| 문자 | 숫자 |\n",
        "|:----:|:----:|\n",
        "|  a   |  1   |\n",
        "|  b   |  0   |\n",
        "\n",
        "이를 딕셔너리로 표현하면 아래와 같다."
      ],
      "id": "3e28cc2b-8cd0-4fc2-b1b5-b4ba593254e7"
    },
    {
      "cell_type": "code",
      "execution_count": 468,
      "metadata": {},
      "outputs": [],
      "source": [
        "dct = {'a':0, 'b':1} "
      ],
      "id": "92a4afdc-38a4-4bfe-b44b-ab9234b9bb94"
    },
    {
      "cell_type": "markdown",
      "metadata": {},
      "source": [
        "위 규칙에 따라서 아래의 리스트의 원소를 문자로 각각 변환하라."
      ],
      "id": "25862f85-e957-4fb6-b4c6-58e64e2bcfe0"
    },
    {
      "cell_type": "code",
      "execution_count": 572,
      "metadata": {},
      "outputs": [],
      "source": [
        "lst = [1, 0, 1, 0, 1, 0, 1, 1, 1, 1, 0, 0, 1, 0, 1]"
      ],
      "id": "97c01b2e-fdd8-48ca-bca5-ae476e1d91af"
    },
    {
      "cell_type": "markdown",
      "metadata": {},
      "source": [
        "``` python\n",
        "# 출력은 아래와 같아야 한다. \n",
        "['b', 'a', 'b', 'a', 'b', 'a', 'b', 'b', 'b', 'b', 'a', 'a', 'b', 'a', 'b']\n",
        "```"
      ],
      "id": "c1aec822-5700-4403-be8c-e9ae165f2c0b"
    },
    {
      "cell_type": "code",
      "execution_count": 573,
      "metadata": {},
      "outputs": [
        {
          "output_type": "display_data",
          "metadata": {},
          "data": {
            "text/plain": [
              "['b', 'a', 'b', 'a', 'b', 'a', 'b', 'b', 'b', 'b', 'a', 'a', 'b', 'a', 'b']"
            ]
          }
        }
      ],
      "source": [
        "[k for l in lst for k,v in dct.items() if v==l]"
      ],
      "id": "7995d206-8730-498d-aaaf-446ef2ae62a5"
    },
    {
      "cell_type": "markdown",
      "metadata": {},
      "source": [
        "error on my answer\n",
        "\n",
        "<font color=green>인덱싱된 값(value)을 가져와서 lst랑 비교한다음 id랑\n",
        "연결해야 하는데, 연결해서 가져오는 법을 몰랐다.</font>"
      ],
      "id": "d271b35a-7f74-4ee6-af71-8689cb8db7a7"
    },
    {
      "cell_type": "code",
      "execution_count": 578,
      "metadata": {},
      "outputs": [
        {
          "output_type": "display_data",
          "metadata": {},
          "data": {
            "text/plain": [
              "[0, 1]"
            ]
          }
        }
      ],
      "source": [
        "[v for k,v in dct.items()]"
      ],
      "id": "7d3e7f20-dce2-45c6-ae68-544929f14c55"
    },
    {
      "cell_type": "code",
      "execution_count": 579,
      "metadata": {},
      "outputs": [
        {
          "output_type": "display_data",
          "metadata": {},
          "data": {
            "text/plain": [
              "['a', 'b']"
            ]
          }
        }
      ],
      "source": [
        "[k for k,v in dct.items()]"
      ],
      "id": "60c0cef0-ed68-4773-9927-bad30507a935"
    },
    {
      "cell_type": "code",
      "execution_count": 580,
      "metadata": {},
      "outputs": [
        {
          "output_type": "display_data",
          "metadata": {},
          "data": {
            "text/plain": [
              "['b', 'a', 'b', 'a', 'b', 'a', 'b', 'b', 'b', 'b', 'a', 'a', 'b', 'a', 'b']"
            ]
          }
        }
      ],
      "source": [
        "[k for s in lst for k,v in dct.items() if v==s]"
      ],
      "id": "3a051563-8e54-4d8b-848f-d3692d7f31c4"
    },
    {
      "cell_type": "markdown",
      "metadata": {},
      "source": [
        "`2`. 아래와 같은 맵핑을 고려하자.\n",
        "\n",
        "|     월     |   의미   |\n",
        "|:----------:|:--------:|\n",
        "|    1,2     | 겨울방학 |\n",
        "|  3,4,5,6   |  1학기   |\n",
        "|    7,8     | 여름방학 |\n",
        "| 9,10,11,12 |  2학기   |\n",
        "\n",
        "이러한 규칙에 맞게 아래의 리스트를 적절한 문자열로 변환하라."
      ],
      "id": "38c081b3-8b89-4109-a2dc-6a85b3de6207"
    },
    {
      "cell_type": "code",
      "execution_count": 582,
      "metadata": {},
      "outputs": [],
      "source": [
        "month = [1,2,2,3,4,5,6,7,8,9,9,10,11,12] "
      ],
      "id": "6e8ca3e6-d55e-4368-abef-8c1ee42d748f"
    },
    {
      "cell_type": "markdown",
      "metadata": {},
      "source": [
        "``` python\n",
        "## 출력은 아래와 같아야 한다. \n",
        "['겨울방학', '겨울방학', '겨울방학', '1학기', '1학기', '1학기', '1학기', '여름방학', '여름방학', '2학기', '2학기', '2학기', '2학기', '2학기']\n",
        "```"
      ],
      "id": "ea69f645-866e-40d2-beb7-e04cb638eb90"
    },
    {
      "cell_type": "code",
      "execution_count": 603,
      "metadata": {},
      "outputs": [
        {
          "output_type": "display_data",
          "metadata": {},
          "data": {
            "text/plain": [
              "['겨울방학',\n",
              " '겨울방학',\n",
              " '겨울방학',\n",
              " '1학기',\n",
              " '1학기',\n",
              " '1학기',\n",
              " '1학기',\n",
              " '여름방학',\n",
              " '여름방학',\n",
              " '2학기',\n",
              " '2학기',\n",
              " '2학기',\n",
              " '2학기',\n",
              " '2학기']"
            ]
          }
        }
      ],
      "source": [
        "dct = {'겨울방학':[1,2], '1학기':[3,4,5,6], '여름방학':[7,8], '2학기':[9,10,11,12]} \n",
        "[k for m in month for k,v in dct.items() if m in v] "
      ],
      "id": "cac3837b-2a9f-49a6-871d-e249d48a8832"
    },
    {
      "cell_type": "markdown",
      "metadata": {},
      "source": [
        "my answer\n",
        "\n",
        "<font color=green>`if c in v`을 못 씀…..</font>"
      ],
      "id": "ebecff0e-d0d8-4a2d-b9e0-83503221e18e"
    },
    {
      "cell_type": "code",
      "execution_count": 586,
      "metadata": {},
      "outputs": [],
      "source": [
        "dct = {'겨울방학':[1,2],'1학기':[3,4,5,6],'여름방학':[7,8],'2학기':[9,10,11,12]}"
      ],
      "id": "e75cb998-4bf5-4154-9501-f0da682a7861"
    },
    {
      "cell_type": "code",
      "execution_count": 601,
      "metadata": {},
      "outputs": [
        {
          "output_type": "display_data",
          "metadata": {},
          "data": {
            "text/plain": [
              "['겨울방학',\n",
              " '겨울방학',\n",
              " '겨울방학',\n",
              " '1학기',\n",
              " '1학기',\n",
              " '1학기',\n",
              " '1학기',\n",
              " '여름방학',\n",
              " '여름방학',\n",
              " '2학기',\n",
              " '2학기',\n",
              " '2학기',\n",
              " '2학기',\n",
              " '2학기']"
            ]
          }
        }
      ],
      "source": [
        "[k for c in month for k,v in dct.items() if c in v]"
      ],
      "id": "f0c363e1-1bae-4194-9fb6-6ce160288d57"
    },
    {
      "cell_type": "markdown",
      "metadata": {},
      "source": [
        "------------------------------------------------------------------------\n",
        "\n",
        "`합성변환` 3-5.\n",
        "\n",
        "아래와 같은 맵핑을 고려하자.\n",
        "\n",
        "(규칙1)\n",
        "\n",
        "|   문자   | 숫자 |\n",
        "|:--------:|:----:|\n",
        "|  바나나  |  0   |\n",
        "|   사과   |  1   |\n",
        "| 오토바이 |  2   |\n",
        "|  자동차  |  3   |\n",
        "|  자전거  |  4   |\n",
        "\n",
        "(규칙2)\n",
        "\n",
        "|  아이템  | 카테고리 |\n",
        "|:--------:|:--------:|\n",
        "|  바나나  |   과일   |\n",
        "|   사과   |   과일   |\n",
        "| 오토바이 |   탈것   |\n",
        "|  자동차  |   탈것   |\n",
        "|  자전거  |   탈것   |\n",
        "\n",
        "각각의 규칙을 나타내는 딕셔너리는 아래와 같이 선언되어있다고 하자."
      ],
      "id": "b68c9c7f-aa5f-4e78-aa18-e1d6fc63b54e"
    },
    {
      "cell_type": "code",
      "execution_count": 604,
      "metadata": {},
      "outputs": [],
      "source": [
        "dct1 = {'바나나':0, '사과':1, '오토바이':2, '자동차':3, '자전거':4} \n",
        "dct2 = {'과일':['바나나','사과'], '탈것':['오토바이','자동차','자전거']} "
      ],
      "id": "ea6967bd-3785-4bc8-a31e-eb3e2c73e733"
    },
    {
      "cell_type": "markdown",
      "metadata": {},
      "source": [
        "`3`. 규칙1를 이용하여 아래와 같은 리스트를 변환하는 함수를 구현하고 그\n",
        "함수를 f라 선언하라.\n",
        "\n",
        "``` python\n",
        "# 입력 \n",
        "[0,1,0,1,4]\n",
        "\n",
        "# 출력 \n",
        "['바나나', '사과', '바나나', '사과', '자전거']\n",
        "```\n",
        "\n",
        "``` python\n",
        "(사용예시)\n",
        "\n",
        "f([0,1,0,1,4])\n",
        "\n",
        "['바나나', '사과', '바나나', '사과', '자전거']\n",
        "```"
      ],
      "id": "1b8551b8-ea1e-46ec-986c-6b805869e6d6"
    },
    {
      "cell_type": "code",
      "execution_count": 609,
      "metadata": {},
      "outputs": [
        {
          "output_type": "display_data",
          "metadata": {},
          "data": {
            "text/plain": [
              "['바나나', '사과', '바나나', '사과', '자전거']"
            ]
          }
        }
      ],
      "source": [
        "def f(lst):\n",
        "    return [k for l in lst for k,v in dct1.items() if v == l]    \n",
        "\n",
        "f([0,1,0,1,4])"
      ],
      "id": "2a0e0c25-4287-4341-9123-08ceb9b285e6"
    },
    {
      "cell_type": "markdown",
      "metadata": {},
      "source": [
        "my answer"
      ],
      "id": "909bb151-84f8-48b1-980e-c3a6ddd563b3"
    },
    {
      "cell_type": "code",
      "execution_count": 608,
      "metadata": {},
      "outputs": [
        {
          "output_type": "display_data",
          "metadata": {},
          "data": {
            "text/plain": [
              "['바나나', '사과', '바나나', '사과', '자전거']"
            ]
          }
        }
      ],
      "source": [
        "[k for i in [0,1,0,1,4] for k,v in dct1.items() if i==v]"
      ],
      "id": "c891305b-0e0c-4d46-ae8e-a75563051508"
    },
    {
      "cell_type": "code",
      "execution_count": 614,
      "metadata": {},
      "outputs": [],
      "source": [
        "def f_csy(a):\n",
        "    return [k for i in a for k,v in dct1.items() if i==v]"
      ],
      "id": "34c1ad9d-eaf4-437d-bb9e-736bf3dcff41"
    },
    {
      "cell_type": "code",
      "execution_count": 615,
      "metadata": {},
      "outputs": [
        {
          "output_type": "display_data",
          "metadata": {},
          "data": {
            "text/plain": [
              "['바나나', '사과', '바나나', '사과', '자전거']"
            ]
          }
        }
      ],
      "source": [
        "f_csy([0,1,0,1,4])"
      ],
      "id": "4d27b36b-de2d-4afa-b716-9c5a658b42a9"
    },
    {
      "cell_type": "markdown",
      "metadata": {},
      "source": [
        "`4`. 규칙2를 이용하여 아래와 같이 리스트를 변환하는 함수를 구현하고 그\n",
        "함수를 g라고 선언하라.\n",
        "\n",
        "``` python\n",
        "# 입력 \n",
        "['바나나','바나나','바나나','자동차']\n",
        "\n",
        "# 출력 \n",
        "['과일','과일','과일','탈것']\n",
        "\n",
        "(사용예시)\n",
        "\n",
        "g(['바나나','바나나','바나나','자동차'])\n",
        "\n",
        "['과일', '과일', '과일', '탈것']\n",
        "```"
      ],
      "id": "6a20a45e-53de-4069-a0de-f0899b7bd4e5"
    },
    {
      "cell_type": "code",
      "execution_count": 621,
      "metadata": {},
      "outputs": [
        {
          "output_type": "display_data",
          "metadata": {},
          "data": {
            "text/plain": [
              "['과일', '과일', '과일', '탈것']"
            ]
          }
        }
      ],
      "source": [
        "def g(lst):\n",
        "    return [k for l in lst for k,v in dct2.items() if l in v] \n",
        "\n",
        "g(['바나나','바나나','바나나','자동차'])"
      ],
      "id": "e357eacf-4abf-4997-8bb4-0e600b57228d"
    },
    {
      "cell_type": "markdown",
      "metadata": {},
      "source": [
        "my answer"
      ],
      "id": "1727ab26-9a15-4a67-8661-e480a527ee4d"
    },
    {
      "cell_type": "code",
      "execution_count": 620,
      "metadata": {},
      "outputs": [
        {
          "output_type": "display_data",
          "metadata": {},
          "data": {
            "text/plain": [
              "['과일', '과일', '과일', '탈것']"
            ]
          }
        }
      ],
      "source": [
        "[k for a in ['바나나','바나나','바나나','자동차'] for k,v in dct2.items() if a in v]"
      ],
      "id": "6bec2891-3495-4a00-8fb0-686a1a0a08c6"
    },
    {
      "cell_type": "code",
      "execution_count": 622,
      "metadata": {},
      "outputs": [],
      "source": [
        "def g_csy(b):\n",
        "    return([k for a in b for k,v in dct2.items() if a in v])"
      ],
      "id": "a8f0d54b-cd81-43b2-bff7-6b0f990caee3"
    },
    {
      "cell_type": "code",
      "execution_count": 623,
      "metadata": {},
      "outputs": [
        {
          "output_type": "display_data",
          "metadata": {},
          "data": {
            "text/plain": [
              "['과일', '과일', '과일', '탈것']"
            ]
          }
        }
      ],
      "source": [
        "g_csy(['바나나','바나나','바나나','자동차'])"
      ],
      "id": "6dfcbb8b-4c2b-414b-bf89-6ef62cf6f47d"
    },
    {
      "cell_type": "markdown",
      "metadata": {},
      "source": [
        "`5`. 규칙1-2를 이용하여 아래와 같은 숫자로 이루어진 입력을 ‘과일’,\n",
        "‘탈것’ 중 하나로 바꾸는 코드를 구현하라.\n",
        "\n",
        "``` python\n",
        "# 입력 \n",
        "[0,1,0,1,3,4,2,2,3,4,1,0]\n",
        "\n",
        "# 출력 \n",
        "['과일', '과일', '과일', '과일', '탈것', '탈것', '탈것', '탈것', '탈것', '탈것', '과일', '과일']\n",
        "```\n",
        "\n",
        "hint $g(f(x))$ 를 이용하라."
      ],
      "id": "145c14f2-b049-48ee-9501-fce100331532"
    },
    {
      "cell_type": "code",
      "execution_count": 625,
      "metadata": {},
      "outputs": [
        {
          "output_type": "display_data",
          "metadata": {},
          "data": {
            "text/plain": [
              "['과일', '과일', '과일', '과일', '탈것', '탈것', '탈것', '탈것', '탈것', '탈것', '과일', '과일']"
            ]
          }
        }
      ],
      "source": [
        "g(f([0,1,0,1,3,4,2,2,3,4,1,0]))\n",
        "\n",
        "['과일', '과일', '과일', '과일', '탈것', '탈것', '탈것', '탈것', '탈것', '탈것', '과일', '과일']"
      ],
      "id": "b62db18d-1ca0-45ef-8334-ada764219767"
    },
    {
      "cell_type": "markdown",
      "metadata": {},
      "source": [
        "my answer"
      ],
      "id": "21ec776b-4f3a-4b56-a364-bc7d9c903a66"
    },
    {
      "cell_type": "code",
      "execution_count": 624,
      "metadata": {},
      "outputs": [
        {
          "output_type": "display_data",
          "metadata": {},
          "data": {
            "text/plain": [
              "['과일', '과일', '과일', '과일', '탈것', '탈것', '탈것', '탈것', '탈것', '탈것', '과일', '과일']"
            ]
          }
        }
      ],
      "source": [
        "g_csy(f_csy([0,1,0,1,3,4,2,2,3,4,1,0]))"
      ],
      "id": "81cdc486-2588-4ea9-b54e-edd2cb80cf22"
    },
    {
      "cell_type": "markdown",
      "metadata": {},
      "source": [
        "# 7.\n",
        "\n",
        "[04wk-2: 파이썬의 자료형\n",
        "(7)](https://guebin.github.io/PP2023/posts/01_PythonBasic/2023-03-29-4wk-2.html)\n",
        "\n",
        "`Oxford-III`: 1–5 //\n",
        "[reference](https://www.robots.ox.ac.uk/~vgg/data/pets/)\n",
        "\n",
        "아래는 이미지 파일명들이 저장된 string을 불러오는 코드이다."
      ],
      "id": "41389468-26d3-41f0-b3a6-a0e8e5330924"
    },
    {
      "cell_type": "code",
      "execution_count": 627,
      "metadata": {},
      "outputs": [],
      "source": [
        "import requests\n",
        "url = 'https://raw.githubusercontent.com/guebin/PP2023/main/posts/01_PythonBasic/Oxford-IIIT.txt'\n",
        "txt = requests.get(url).content.decode()"
      ],
      "id": "9508b026-c835-4b68-a37a-34cd0873e8f0"
    },
    {
      "cell_type": "markdown",
      "metadata": {},
      "source": [
        "이미지파일이 저장된 형식은 아래와 같다.\n",
        "\n",
        "``` python\n",
        "Abyssinian_1.jpg\n",
        "British_Shorthair_129.jpg\n",
        "```\n",
        "\n",
        "**note**: British_Shorthair와 같이 종 이름 사이에 \\_가 들어있는 경우도\n",
        "있음.\n",
        "\n",
        "`1`. txt를 적당히 변환하여 아래와 같은 list를 만들어라.\n",
        "\n",
        "``` python\n",
        "lst[:10],lst[810:820]\n",
        "\n",
        "(['Abyssinian',\n",
        "  'Abyssinian',\n",
        "  'Abyssinian',\n",
        "  'Abyssinian',\n",
        "  'Abyssinian',\n",
        "  'Abyssinian',\n",
        "  'Abyssinian',\n",
        "  'Abyssinian',\n",
        "  'Abyssinian',\n",
        "  'Abyssinian'],\n",
        " ['BritishShorthair',\n",
        "  'BritishShorthair',\n",
        "  'BritishShorthair',\n",
        "  'BritishShorthair',\n",
        "  'BritishShorthair',\n",
        "  'BritishShorthair',\n",
        "  'BritishShorthair',\n",
        "  'BritishShorthair',\n",
        "  'BritishShorthair',\n",
        "  'BritishShorthair'])\n",
        "```\n",
        "\n",
        "**hint1**"
      ],
      "id": "33bafa0a-ec35-44f6-bdae-0e49284486f9"
    },
    {
      "cell_type": "code",
      "execution_count": 648,
      "metadata": {},
      "outputs": [
        {
          "output_type": "display_data",
          "metadata": {},
          "data": {
            "text/plain": [
              "['Abyssinian_1.jpg', 'Abyssinian_10.jpg']"
            ]
          }
        }
      ],
      "source": [
        "'Abyssinian_1.jpg\\nAbyssinian_10.jpg'.split('\\n')"
      ],
      "id": "3ea03ed6-1a96-4a3f-9b41-e2a237db1894"
    },
    {
      "cell_type": "markdown",
      "metadata": {},
      "source": [
        "**hint2**"
      ],
      "id": "f80b8310-30c4-4de3-85e6-52e393028eaa"
    },
    {
      "cell_type": "code",
      "execution_count": 649,
      "metadata": {},
      "outputs": [
        {
          "output_type": "display_data",
          "metadata": {},
          "data": {
            "text/plain": [
              "'BritishShorthair'"
            ]
          }
        }
      ],
      "source": [
        "''.join(['British', 'Shorthair'])"
      ],
      "id": "93cf0a71-61ee-48c6-9416-bbe40d967829"
    },
    {
      "cell_type": "code",
      "execution_count": 655,
      "metadata": {},
      "outputs": [
        {
          "output_type": "display_data",
          "metadata": {},
          "data": {
            "text/plain": [
              "'Abyssinian'"
            ]
          }
        }
      ],
      "source": [
        "''.join(['Abyssinian'])"
      ],
      "id": "55b79c1c-038c-47cb-9d19-6439e3441253"
    },
    {
      "cell_type": "markdown",
      "metadata": {},
      "source": [
        "(풀이1)"
      ],
      "id": "25786008-403e-4669-a64c-26dfc053e593"
    },
    {
      "cell_type": "code",
      "execution_count": 656,
      "metadata": {},
      "outputs": [],
      "source": [
        "lst = [''.join(filename.split('_')[:-1]) for filename in txt.split('\\n')]"
      ],
      "id": "92fd0ea0-1257-4ee7-9ff2-5eccc10c3b4e"
    },
    {
      "cell_type": "code",
      "execution_count": 657,
      "metadata": {},
      "outputs": [
        {
          "output_type": "display_data",
          "metadata": {},
          "data": {
            "text/plain": [
              "(['Abyssinian',\n",
              "  'Abyssinian',\n",
              "  'Abyssinian',\n",
              "  'Abyssinian',\n",
              "  'Abyssinian',\n",
              "  'Abyssinian',\n",
              "  'Abyssinian',\n",
              "  'Abyssinian',\n",
              "  'Abyssinian',\n",
              "  'Abyssinian'],\n",
              " ['BritishShorthair',\n",
              "  'BritishShorthair',\n",
              "  'BritishShorthair',\n",
              "  'BritishShorthair',\n",
              "  'BritishShorthair',\n",
              "  'BritishShorthair',\n",
              "  'BritishShorthair',\n",
              "  'BritishShorthair',\n",
              "  'BritishShorthair',\n",
              "  'BritishShorthair'])"
            ]
          }
        }
      ],
      "source": [
        "lst[:10],lst[810:820]"
      ],
      "id": "3712ee6d-5f37-4f09-b9e2-a3c059cd2718"
    },
    {
      "cell_type": "markdown",
      "metadata": {},
      "source": [
        "(풀이2)"
      ],
      "id": "c956a74a-4418-48df-bb61-7318373da4b2"
    },
    {
      "cell_type": "code",
      "execution_count": 658,
      "metadata": {},
      "outputs": [],
      "source": [
        "def f(filename): \n",
        "    *name, _ = filename.split('_')\n",
        "    return ''.join(name)\n",
        "lst = [f(filename) for filename in txt.split('\\n')]"
      ],
      "id": "d9c665b5-dd6b-423b-ab33-b3f55fed55af"
    },
    {
      "cell_type": "code",
      "execution_count": 659,
      "metadata": {},
      "outputs": [
        {
          "output_type": "display_data",
          "metadata": {},
          "data": {
            "text/plain": [
              "(['Abyssinian',\n",
              "  'Abyssinian',\n",
              "  'Abyssinian',\n",
              "  'Abyssinian',\n",
              "  'Abyssinian',\n",
              "  'Abyssinian',\n",
              "  'Abyssinian',\n",
              "  'Abyssinian',\n",
              "  'Abyssinian',\n",
              "  'Abyssinian'],\n",
              " ['BritishShorthair',\n",
              "  'BritishShorthair',\n",
              "  'BritishShorthair',\n",
              "  'BritishShorthair',\n",
              "  'BritishShorthair',\n",
              "  'BritishShorthair',\n",
              "  'BritishShorthair',\n",
              "  'BritishShorthair',\n",
              "  'BritishShorthair',\n",
              "  'BritishShorthair'])"
            ]
          }
        }
      ],
      "source": [
        "lst[:10],lst[810:820]"
      ],
      "id": "bee5578e-f999-431c-b816-7a7cfda6bd7a"
    },
    {
      "cell_type": "markdown",
      "metadata": {},
      "source": [
        "my answer"
      ],
      "id": "9623a011-267f-4c5c-a7ab-a35fdd13034f"
    },
    {
      "cell_type": "code",
      "execution_count": 736,
      "metadata": {},
      "outputs": [],
      "source": [
        "lst = [''.join(txt.split('\\n')[i].split('_')[:-1]) for i in range(len(txt.split('\\n')))]"
      ],
      "id": "3eadbbf9-9936-4fd2-a2f4-781d6e857633"
    },
    {
      "cell_type": "code",
      "execution_count": 737,
      "metadata": {},
      "outputs": [
        {
          "output_type": "display_data",
          "metadata": {},
          "data": {
            "text/plain": [
              "(['Abyssinian',\n",
              "  'Abyssinian',\n",
              "  'Abyssinian',\n",
              "  'Abyssinian',\n",
              "  'Abyssinian',\n",
              "  'Abyssinian',\n",
              "  'Abyssinian',\n",
              "  'Abyssinian',\n",
              "  'Abyssinian',\n",
              "  'Abyssinian'],\n",
              " ['BritishShorthair',\n",
              "  'BritishShorthair',\n",
              "  'BritishShorthair',\n",
              "  'BritishShorthair',\n",
              "  'BritishShorthair',\n",
              "  'BritishShorthair',\n",
              "  'BritishShorthair',\n",
              "  'BritishShorthair',\n",
              "  'BritishShorthair',\n",
              "  'BritishShorthair'])"
            ]
          }
        }
      ],
      "source": [
        "lst[:10],lst[810:820]"
      ],
      "id": "5153f8b7-f7ae-466d-a8ed-d0f2669983a7"
    },
    {
      "cell_type": "markdown",
      "metadata": {},
      "source": [
        "`2`. 그림파일에는 총 몇가지 종류의 고양이와, 몇가지 종류의 강아지가\n",
        "있는가?\n",
        "\n",
        "**note**: 고양이사진은 대문자로 시작하고, 강아지 사진은 소문자로\n",
        "시작한다.\n",
        "\n",
        "**note**: 12종의 고양이, 25종의 강아지가 있음"
      ],
      "id": "93d0cf48-d3e9-4872-9ef9-0fe3777fb220"
    },
    {
      "cell_type": "code",
      "execution_count": 674,
      "metadata": {},
      "outputs": [
        {
          "output_type": "display_data",
          "metadata": {},
          "data": {
            "text/plain": [
              "12"
            ]
          }
        }
      ],
      "source": [
        "[s[0].isupper() for s in set(lst)].count(True) # 고양이 12"
      ],
      "id": "51442e45-5a4f-4b27-89ae-5b5eac53c20d"
    },
    {
      "cell_type": "code",
      "execution_count": 697,
      "metadata": {},
      "outputs": [
        {
          "output_type": "display_data",
          "metadata": {},
          "data": {
            "text/plain": [
              "25"
            ]
          }
        }
      ],
      "source": [
        "[s[0].isupper() for s in set(lst)].count(False) # 강아지 25 "
      ],
      "id": "429fc58e-5b2e-4574-a99e-4206e0e76766"
    },
    {
      "cell_type": "markdown",
      "metadata": {},
      "source": [
        "my answer"
      ],
      "id": "e4f4fd72-a19d-45ef-b159-63097c5d40c5"
    },
    {
      "cell_type": "code",
      "execution_count": 695,
      "metadata": {},
      "outputs": [
        {
          "output_type": "display_data",
          "metadata": {},
          "data": {
            "text/plain": [
              "12"
            ]
          }
        }
      ],
      "source": [
        "len([i for i in set(lst) if i[0].isupper()])"
      ],
      "id": "a3e5f848-adef-47d2-a123-6522d626bc11"
    },
    {
      "cell_type": "code",
      "execution_count": 696,
      "metadata": {},
      "outputs": [
        {
          "output_type": "display_data",
          "metadata": {},
          "data": {
            "text/plain": [
              "25"
            ]
          }
        }
      ],
      "source": [
        "len([i for i in set(lst) if i[0].islower()])"
      ],
      "id": "0f3bd3d5-8e4c-4773-95a9-63723ee05236"
    },
    {
      "cell_type": "markdown",
      "metadata": {},
      "source": [
        "`3`. 아래는 1번의 결과로 얻어진 lst의 첫 10개의 원소와 마지막 10개의\n",
        "원소이다.\n",
        "\n",
        "``` python\n",
        "lst[:10], lst[-10:]\n",
        "\n",
        "(['Abyssinian',\n",
        "  'Abyssinian',\n",
        "  'Abyssinian',\n",
        "  'Abyssinian',\n",
        "  'Abyssinian',\n",
        "  'Abyssinian',\n",
        "  'Abyssinian',\n",
        "  'Abyssinian',\n",
        "  'Abyssinian',\n",
        "  'Abyssinian'],\n",
        " ['yorkshireterrier',\n",
        "  'yorkshireterrier',\n",
        "  'yorkshireterrier',\n",
        "  'yorkshireterrier',\n",
        "  'yorkshireterrier',\n",
        "  'yorkshireterrier',\n",
        "  'yorkshireterrier',\n",
        "  'yorkshireterrier',\n",
        "  'yorkshireterrier',\n",
        "  'yorkshireterrier'])\n",
        "```\n",
        "\n",
        "적당한 변환을 정의하여 lst를 아래와 같이 바꾸어라.\n",
        "\n",
        "``` python\n",
        "lst2[:10], lst2[-10:] # 바뀐 lst\n",
        "(['cat', 'cat', 'cat', 'cat', 'cat', 'cat', 'cat', 'cat', 'cat', 'cat'],\n",
        " ['dog', 'dog', 'dog', 'dog', 'dog', 'dog', 'dog', 'dog', 'dog', 'dog'])\n",
        "```\n",
        "\n",
        "(풀이1)"
      ],
      "id": "e177f757-9a09-4bfa-8439-0788256a9805"
    },
    {
      "cell_type": "code",
      "execution_count": 755,
      "metadata": {},
      "outputs": [],
      "source": [
        "dct = {'cat':[s for s in set(lst) if s[0].isupper()], 'dog': [s for s in set(lst) if not s[0].isupper()]}\n",
        "lst2 = [k for l in lst for k,v in dct.items() if l in v]"
      ],
      "id": "fb5ffbfe-ddd3-4626-b5b7-ac3bbd62d100"
    },
    {
      "cell_type": "markdown",
      "metadata": {},
      "source": [
        "(풀이2)"
      ],
      "id": "b7520455-0bfe-4155-a3d9-17a1b93c9887"
    },
    {
      "cell_type": "code",
      "execution_count": 757,
      "metadata": {},
      "outputs": [],
      "source": [
        "def f(fname): \n",
        "    return 'cat' if fname[0].isupper() else 'dog'\n",
        "lst2= [f(fname) for fname in lst]"
      ],
      "id": "dc20d119-aad4-4342-86ef-00835b8de3da"
    },
    {
      "cell_type": "markdown",
      "metadata": {},
      "source": [
        "my answer"
      ],
      "id": "c7e72720-93fb-4e39-883c-1b4aac57bb00"
    },
    {
      "cell_type": "code",
      "execution_count": 756,
      "metadata": {},
      "outputs": [],
      "source": [
        "lst2 = []\n",
        "for j in range(len(lst)):\n",
        "    if [lst[l][0].isupper() for l in range(len(lst))][j] == True:\n",
        "        lst2.append('cat')\n",
        "    else:\n",
        "        lst2.append('dog')"
      ],
      "id": "7e290847-61c1-483e-a559-3a998cd8a546"
    },
    {
      "cell_type": "markdown",
      "metadata": {},
      "source": [
        "`4`. txt에는 강아지사진과 고양이사진이 모두 몇장씩 들어있는가?\n",
        "\n",
        "``` python\n",
        "## 출력예시 \n",
        "\n",
        "{'dog': 4990, 'cat': 2403}\n",
        "```"
      ],
      "id": "4530abc4-b488-4979-ba71-468da5cf725f"
    },
    {
      "cell_type": "code",
      "execution_count": 764,
      "metadata": {},
      "outputs": [
        {
          "output_type": "display_data",
          "metadata": {},
          "data": {
            "text/plain": [
              "{'dog': 4990, 'cat': 2403}"
            ]
          }
        }
      ],
      "source": [
        "{k:lst2.count(k) for k in ['dog','cat']}"
      ],
      "id": "463bd33c-0532-44f0-8ebd-68119b029b71"
    },
    {
      "cell_type": "markdown",
      "metadata": {},
      "source": [
        "my answer\n",
        "\n",
        "<font color=green>너무 길게 코드를 짰다.. 비.효.율.적.</font>"
      ],
      "id": "8afc81e1-2b95-4da6-97be-3d98bcadb965"
    },
    {
      "cell_type": "code",
      "execution_count": 769,
      "metadata": {},
      "outputs": [
        {
          "output_type": "display_data",
          "metadata": {},
          "data": {
            "text/plain": [
              "{'dog': 4990, 'cat': 2403}"
            ]
          }
        }
      ],
      "source": [
        "{'dog':sum((lst2[i] == 'dog' for i in range(len(lst2)))),\n",
        " 'cat':sum((lst2[i] == 'cat' for i in range(len(lst2))))}"
      ],
      "id": "576b2a2f-5b5b-4156-b74a-e5b09254c29c"
    },
    {
      "cell_type": "markdown",
      "metadata": {},
      "source": [
        "`5`. txt에 각 종별로 몇장의 사진이 있는지 조사하라.\n",
        "\n",
        "``` python\n",
        "## 출력예시\n",
        "\n",
        "{'beagle': 200,\n",
        " 'scottishterrier': 199,\n",
        " 'newfoundland': 200,\n",
        " 'Birman': 200,\n",
        " 'Bombay': 200,\n",
        " 'pug': 200,\n",
        " 'germanshorthaired': 200,\n",
        " 'samoyed': 200,\n",
        " 'Sphynx': 200,\n",
        " 'englishsetter': 200,\n",
        " 'Bengal': 200,\n",
        " 'MaineCoon': 200,\n",
        " 'Persian': 200,\n",
        " 'boxer': 200,\n",
        " 'staffordshirebullterrier': 191,\n",
        " 'Siamese': 200,\n",
        " 'bassethound': 200,\n",
        " 'wheatenterrier': 200,\n",
        " 'englishcockerspaniel': 200,\n",
        " 'Ragdoll': 200,\n",
        " 'yorkshireterrier': 200,\n",
        " 'EgyptianMau': 200,\n",
        " 'BritishShorthair': 200,\n",
        " 'keeshond': 200,\n",
        " 'RussianBlue': 200,\n",
        " 'saintbernard': 200,\n",
        " 'americanbulldog': 200,\n",
        " 'Abyssinian': 203,\n",
        " 'leonberger': 200,\n",
        " 'greatpyrenees': 200,\n",
        " 'japanesechin': 200,\n",
        " 'pomeranian': 200,\n",
        " 'chihuahua': 200,\n",
        " 'shibainu': 200,\n",
        " 'americanpitbullterrier': 200,\n",
        " 'miniaturepinscher': 200,\n",
        " 'havanese': 200}\n",
        "```"
      ],
      "id": "f8c8aaea-740c-4efd-ba3a-4a0323e7db71"
    },
    {
      "cell_type": "code",
      "execution_count": 784,
      "metadata": {},
      "outputs": [
        {
          "output_type": "display_data",
          "metadata": {},
          "data": {
            "text/plain": [
              "{'greatpyrenees': 200,\n",
              " 'americanbulldog': 200,\n",
              " 'englishcockerspaniel': 200,\n",
              " 'japanesechin': 200,\n",
              " 'boxer': 200,\n",
              " 'Sphynx': 200,\n",
              " 'havanese': 200,\n",
              " 'saintbernard': 200,\n",
              " 'samoyed': 200,\n",
              " 'yorkshireterrier': 200,\n",
              " 'wheatenterrier': 200,\n",
              " 'chihuahua': 200,\n",
              " 'MaineCoon': 200,\n",
              " 'miniaturepinscher': 200,\n",
              " 'RussianBlue': 200,\n",
              " 'pug': 200,\n",
              " 'Bengal': 200,\n",
              " 'americanpitbullterrier': 200,\n",
              " 'pomeranian': 200,\n",
              " 'EgyptianMau': 200,\n",
              " 'englishsetter': 200,\n",
              " 'Birman': 200,\n",
              " 'shibainu': 200,\n",
              " 'germanshorthaired': 200,\n",
              " 'Persian': 200,\n",
              " 'beagle': 200,\n",
              " 'staffordshirebullterrier': 191,\n",
              " 'keeshond': 200,\n",
              " 'newfoundland': 200,\n",
              " 'Bombay': 200,\n",
              " 'Siamese': 200,\n",
              " 'BritishShorthair': 200,\n",
              " 'scottishterrier': 199,\n",
              " 'leonberger': 200,\n",
              " 'Ragdoll': 200,\n",
              " 'Abyssinian': 203,\n",
              " 'bassethound': 200}"
            ]
          }
        }
      ],
      "source": [
        "{k:lst.count(k) for k in set(lst)}"
      ],
      "id": "0951186e-8f38-42b7-9a56-de67ccf95f4c"
    }
  ],
  "nbformat": 4,
  "nbformat_minor": 5,
  "metadata": {
    "kernelspec": {
      "name": "python3",
      "display_name": "Python 3",
      "language": "python"
    },
    "language_info": {
      "name": "python",
      "codemirror_mode": {
        "name": "ipython",
        "version": "3"
      },
      "file_extension": ".py",
      "mimetype": "text/x-python",
      "nbconvert_exporter": "python",
      "pygments_lexer": "ipython3",
      "version": "3.8.0"
    }
  }
}