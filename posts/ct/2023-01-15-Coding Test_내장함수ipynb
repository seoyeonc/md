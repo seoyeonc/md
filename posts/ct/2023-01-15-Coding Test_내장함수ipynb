{
 "cells": [
  {
   "cell_type": "raw",
   "id": "6ef76792-e84a-44b4-8ee8-abd9a8a87c90",
   "metadata": {
    "id": "cac470df-29e7-4148-9bbd-d8b9a32fa570",
    "tags": []
   },
   "source": [
    "---\n",
    "title: \"내장함수\"\n",
    "author: \"SEOYEON CHOI\"\n",
    "date: \"2023-01-15\"\n",
    "categories:\n",
    "  - Coding Test\n",
    "---"
   ]
  },
  {
   "cell_type": "markdown",
   "id": "b09f965f-fe69-4c57-833f-6a4d0a14c07b",
   "metadata": {},
   "source": [
    "> 주요 라이브러리 문법"
   ]
  },
  {
   "cell_type": "markdown",
   "id": "9a1ee5a3-9914-4415-a85b-bc5bc956bd7c",
   "metadata": {},
   "source": [
    "# 내장 함수"
   ]
  },
  {
   "cell_type": "markdown",
   "id": "84fca927-b7b8-4934-bc1a-bac7337a97c9",
   "metadata": {},
   "source": [
    "## sum"
   ]
  },
  {
   "cell_type": "code",
   "execution_count": 1,
   "id": "10e6012a-99b6-4a36-9b03-3a578ca336ce",
   "metadata": {},
   "outputs": [
    {
     "data": {
      "text/plain": [
       "3"
      ]
     },
     "execution_count": 1,
     "metadata": {},
     "output_type": "execute_result"
    }
   ],
   "source": [
    "sum([1,2])"
   ]
  },
  {
   "cell_type": "markdown",
   "id": "116174e8-7919-4b57-962d-ba63399488d0",
   "metadata": {},
   "source": [
    "## min"
   ]
  },
  {
   "cell_type": "code",
   "execution_count": 3,
   "id": "91cc2fe1-71b3-4137-a432-f4658d86f1e5",
   "metadata": {},
   "outputs": [
    {
     "data": {
      "text/plain": [
       "0"
      ]
     },
     "execution_count": 3,
     "metadata": {},
     "output_type": "execute_result"
    }
   ],
   "source": [
    "min([14,5,6,0,3])"
   ]
  },
  {
   "cell_type": "markdown",
   "id": "f6d7de7c-e32e-4ef2-a1ad-88a52c1d505d",
   "metadata": {},
   "source": [
    "## max"
   ]
  },
  {
   "cell_type": "code",
   "execution_count": 7,
   "id": "d2456dfe-1261-4f0c-aff9-c41524f8dee2",
   "metadata": {},
   "outputs": [
    {
     "data": {
      "text/plain": [
       "33"
      ]
     },
     "execution_count": 7,
     "metadata": {},
     "output_type": "execute_result"
    }
   ],
   "source": [
    "max(1,3,6,3,33)"
   ]
  },
  {
   "cell_type": "markdown",
   "id": "78496aa4-c000-42c3-9bcb-1e9a23a425b9",
   "metadata": {},
   "source": [
    "## eval"
   ]
  },
  {
   "cell_type": "markdown",
   "id": "aeff1419-ba71-44db-a7bc-376aec090ad8",
   "metadata": {},
   "source": [
    "수학 수식이 문자열 형식으로 들어오면 해당 수식을 계산한 결과를 반환"
   ]
  },
  {
   "cell_type": "code",
   "execution_count": 8,
   "id": "a77493f3-b8d1-496d-b528-d840438af6b0",
   "metadata": {},
   "outputs": [
    {
     "data": {
      "text/plain": [
       "7"
      ]
     },
     "execution_count": 8,
     "metadata": {},
     "output_type": "execute_result"
    }
   ],
   "source": [
    "eval(\"3+4\")"
   ]
  },
  {
   "cell_type": "code",
   "execution_count": 9,
   "id": "f0919f80-680c-4858-bf5f-fb345eadd05b",
   "metadata": {},
   "outputs": [
    {
     "data": {
      "text/plain": [
       "12"
      ]
     },
     "execution_count": 9,
     "metadata": {},
     "output_type": "execute_result"
    }
   ],
   "source": [
    "eval(\"3*4\")"
   ]
  },
  {
   "cell_type": "markdown",
   "id": "6ae1862f-9b5e-4e33-b1ff-e889f65f6336",
   "metadata": {},
   "source": [
    "## sorted"
   ]
  },
  {
   "cell_type": "code",
   "execution_count": 11,
   "id": "9bc01a51-d64d-4c70-b234-1a8d3fa806e7",
   "metadata": {},
   "outputs": [
    {
     "data": {
      "text/plain": [
       "[1, 2, 2, 3, 3]"
      ]
     },
     "execution_count": 11,
     "metadata": {},
     "output_type": "execute_result"
    }
   ],
   "source": [
    "sorted([1,2,3,2,3])"
   ]
  },
  {
   "cell_type": "code",
   "execution_count": 15,
   "id": "d8555494-8e99-4891-9d4f-6a4eaf42afa9",
   "metadata": {},
   "outputs": [
    {
     "data": {
      "text/plain": [
       "[3, 3, 2, 2, 1]"
      ]
     },
     "execution_count": 15,
     "metadata": {},
     "output_type": "execute_result"
    }
   ],
   "source": [
    "sorted([1,2,3,2,3],reverse=True)"
   ]
  },
  {
   "cell_type": "markdown",
   "id": "5ed0fe90-a4a6-4e03-8a0d-cf84a9a7bbf9",
   "metadata": {},
   "source": [
    "$\\star$ List 형식이어야 함"
   ]
  },
  {
   "cell_type": "code",
   "execution_count": 12,
   "id": "a343282e-b3be-41ed-b2aa-ee3021e04e17",
   "metadata": {},
   "outputs": [
    {
     "ename": "TypeError",
     "evalue": "sorted expected 1 argument, got 5",
     "output_type": "error",
     "traceback": [
      "\u001b[0;31m---------------------------------------------------------------------------\u001b[0m",
      "\u001b[0;31mTypeError\u001b[0m                                 Traceback (most recent call last)",
      "\u001b[0;32m/tmp/ipykernel_2873305/3006253859.py\u001b[0m in \u001b[0;36m<module>\u001b[0;34m\u001b[0m\n\u001b[0;32m----> 1\u001b[0;31m \u001b[0msorted\u001b[0m\u001b[0;34m(\u001b[0m\u001b[0;36m1\u001b[0m\u001b[0;34m,\u001b[0m\u001b[0;36m2\u001b[0m\u001b[0;34m,\u001b[0m\u001b[0;36m3\u001b[0m\u001b[0;34m,\u001b[0m\u001b[0;36m2\u001b[0m\u001b[0;34m,\u001b[0m\u001b[0;36m3\u001b[0m\u001b[0;34m)\u001b[0m\u001b[0;34m\u001b[0m\u001b[0;34m\u001b[0m\u001b[0m\n\u001b[0m",
      "\u001b[0;31mTypeError\u001b[0m: sorted expected 1 argument, got 5"
     ]
    }
   ],
   "source": [
    "sorted(1,2,3,2,3)"
   ]
  },
  {
   "cell_type": "markdown",
   "id": "ad846e4d-b61f-4ed3-b2a6-1ccec430921d",
   "metadata": {},
   "source": [
    "group 가능"
   ]
  },
  {
   "cell_type": "code",
   "execution_count": 17,
   "id": "f0572e77-632e-4009-816f-8cba45c23b89",
   "metadata": {},
   "outputs": [
    {
     "data": {
      "text/plain": [
       "[('b', 4), ('a', 3)]"
      ]
     },
     "execution_count": 17,
     "metadata": {},
     "output_type": "execute_result"
    }
   ],
   "source": [
    "sorted([('a',3),('b',4)],reverse=True)"
   ]
  },
  {
   "cell_type": "markdown",
   "id": "266a6b2a-e24d-4106-8aca-80dd9a975e88",
   "metadata": {},
   "source": [
    "사실 list 는 iterable 객체라 기본으로 sort()함수 가지고 있음"
   ]
  },
  {
   "cell_type": "code",
   "execution_count": 23,
   "id": "aaa9b114-37d6-49c5-a8f3-b68ab440f6d8",
   "metadata": {},
   "outputs": [
    {
     "name": "stdout",
     "output_type": "stream",
     "text": [
      "[1, 3, 4, 4]\n"
     ]
    }
   ],
   "source": [
    "a = [4,1,3,4]\n",
    "a.sort()\n",
    "print(a)"
   ]
  },
  {
   "cell_type": "markdown",
   "id": "2f6ffa5d-80e5-42e5-9ec0-50399571cbe2",
   "metadata": {},
   "source": [
    "## itertools"
   ]
  },
  {
   "cell_type": "markdown",
   "id": "edf2eed4-8d1a-4627-9388-f281fb93db4b",
   "metadata": {},
   "source": [
    "### permutations 순열(중복 허용하지 않음)"
   ]
  },
  {
   "cell_type": "code",
   "execution_count": 25,
   "id": "ce703a50-3da6-42e2-ad83-e08c1770e84c",
   "metadata": {},
   "outputs": [
    {
     "name": "stdout",
     "output_type": "stream",
     "text": [
      "[(1, 3, 5), (1, 5, 3), (3, 1, 5), (3, 5, 1), (5, 1, 3), (5, 3, 1)]\n"
     ]
    }
   ],
   "source": [
    "from itertools import permutations\n",
    "\n",
    "data = [1,3,5]\n",
    "\n",
    "result = list(permutations(data,3))\n",
    "\n",
    "print(result)"
   ]
  },
  {
   "cell_type": "markdown",
   "id": "c3a0bbc6-29c3-4b26-af66-5741dafce4df",
   "metadata": {},
   "source": [
    "### combinations 조합(중복 허용하지 않음)"
   ]
  },
  {
   "cell_type": "code",
   "execution_count": 26,
   "id": "888e9a04-e507-4fad-bd0d-85e31d26c355",
   "metadata": {},
   "outputs": [
    {
     "name": "stdout",
     "output_type": "stream",
     "text": [
      "[('a', 'r'), ('a', 't'), ('a', 'e'), ('r', 't'), ('r', 'e'), ('t', 'e')]\n"
     ]
    }
   ],
   "source": [
    "from itertools import combinations\n",
    "\n",
    "data = ['a','r','t','e']\n",
    "result = list(combinations(data,2))\n",
    "\n",
    "print(result)"
   ]
  },
  {
   "cell_type": "markdown",
   "id": "5da8ac35-f726-48fa-b3be-f86a00a5470b",
   "metadata": {},
   "source": [
    "### product 순열(중복 허용)"
   ]
  },
  {
   "cell_type": "code",
   "execution_count": 30,
   "id": "1efb7dac-2048-4742-9f78-077519a7e52a",
   "metadata": {},
   "outputs": [
    {
     "name": "stdout",
     "output_type": "stream",
     "text": [
      "[(1, 1, 1), (1, 1, 3), (1, 1, 5), (1, 3, 1), (1, 3, 3), (1, 3, 5), (1, 5, 1), (1, 5, 3), (1, 5, 5), (3, 1, 1), (3, 1, 3), (3, 1, 5), (3, 3, 1), (3, 3, 3), (3, 3, 5), (3, 5, 1), (3, 5, 3), (3, 5, 5), (5, 1, 1), (5, 1, 3), (5, 1, 5), (5, 3, 1), (5, 3, 3), (5, 3, 5), (5, 5, 1), (5, 5, 3), (5, 5, 5)]\n"
     ]
    }
   ],
   "source": [
    "from itertools import product\n",
    "\n",
    "data = [1,3,5]\n",
    "\n",
    "result = list(product(data,repeat=3))\n",
    "\n",
    "print(result)"
   ]
  },
  {
   "cell_type": "markdown",
   "id": "13ca1f4f-ccf5-4ee8-9d05-532afc8cefc1",
   "metadata": {},
   "source": [
    "### combinations_with_replacement(중복 허용)"
   ]
  },
  {
   "cell_type": "code",
   "execution_count": 31,
   "id": "61be170b-9793-4cd3-bb7f-df9b75f7b6bb",
   "metadata": {},
   "outputs": [
    {
     "name": "stdout",
     "output_type": "stream",
     "text": [
      "[('a', 'a'), ('a', 'r'), ('a', 't'), ('a', 'e'), ('r', 'r'), ('r', 't'), ('r', 'e'), ('t', 't'), ('t', 'e'), ('e', 'e')]\n"
     ]
    }
   ],
   "source": [
    "from itertools import combinations_with_replacement\n",
    "\n",
    "data = ['a','r','t','e']\n",
    "result = list(combinations_with_replacement(data,2))\n",
    "\n",
    "print(result)"
   ]
  },
  {
   "cell_type": "markdown",
   "id": "36ecd930-e14a-41bd-8b06-4c08de372cdc",
   "metadata": {},
   "source": [
    "## heapq"
   ]
  },
  {
   "cell_type": "markdown",
   "id": "ac8d8327-e3aa-4b41-83db-3eaf2313210a",
   "metadata": {},
   "source": [
    "다익스트라 최단 경로 알고리즘을 포함해 다양한 알고리즘에서 우선순위 큐 기능을 구현하고자 할 때 사용"
   ]
  },
  {
   "cell_type": "code",
   "execution_count": 34,
   "id": "f96cbab8-03a9-430d-8385-157d32c63abb",
   "metadata": {},
   "outputs": [
    {
     "name": "stdout",
     "output_type": "stream",
     "text": [
      "[1, 2, 2, 3, 4, 5, 6, 25, 77]\n"
     ]
    }
   ],
   "source": [
    "import heapq\n",
    "\n",
    "def heapsort(iterable):\n",
    "    h = []\n",
    "    result = []\n",
    "    for value in iterable:\n",
    "        heapq.heappush(h,value)\n",
    "    for _ in range(len(h)):\n",
    "        result.append(heapq.heappop(h))\n",
    "    return result\n",
    "    \n",
    "result = heapsort([1,4,5,6,2,2,77,3,25])\n",
    "print(result)"
   ]
  },
  {
   "cell_type": "code",
   "execution_count": 43,
   "id": "10ce8ac9-d44e-4779-80fe-8ac9037c2514",
   "metadata": {},
   "outputs": [],
   "source": [
    "a = []\n",
    "heapq.heappush(a,5)"
   ]
  },
  {
   "cell_type": "code",
   "execution_count": 44,
   "id": "99a885b3-b65a-4c16-8b21-520d85575e32",
   "metadata": {},
   "outputs": [
    {
     "data": {
      "text/plain": [
       "[5]"
      ]
     },
     "execution_count": 44,
     "metadata": {},
     "output_type": "execute_result"
    }
   ],
   "source": [
    "a"
   ]
  },
  {
   "cell_type": "code",
   "execution_count": 45,
   "id": "ef5a9678-e281-4a1d-be1d-7e760570f28f",
   "metadata": {},
   "outputs": [
    {
     "data": {
      "text/plain": [
       "[3, 5]"
      ]
     },
     "execution_count": 45,
     "metadata": {},
     "output_type": "execute_result"
    }
   ],
   "source": [
    "heapq.heappush(a,3)\n",
    "a"
   ]
  },
  {
   "cell_type": "code",
   "execution_count": 46,
   "id": "ee395955-4180-455c-88c3-2ff77a66ecec",
   "metadata": {},
   "outputs": [
    {
     "data": {
      "text/plain": [
       "[2, 5, 3]"
      ]
     },
     "execution_count": 46,
     "metadata": {},
     "output_type": "execute_result"
    }
   ],
   "source": [
    "heapq.heappush(a,2)\n",
    "a"
   ]
  },
  {
   "cell_type": "code",
   "execution_count": 47,
   "id": "360484e5-6acf-419c-8510-aac15cd04daa",
   "metadata": {},
   "outputs": [
    {
     "data": {
      "text/plain": [
       "2"
      ]
     },
     "execution_count": 47,
     "metadata": {},
     "output_type": "execute_result"
    }
   ],
   "source": [
    "heapq.heappop(a)"
   ]
  },
  {
   "cell_type": "markdown",
   "id": "e1fc50ea-5d3d-4ac2-b9ae-3377db50de0e",
   "metadata": {},
   "source": [
    "### max heap"
   ]
  },
  {
   "cell_type": "code",
   "execution_count": 49,
   "id": "ff885a09-455c-49e9-839b-5e75cf864235",
   "metadata": {},
   "outputs": [
    {
     "name": "stdout",
     "output_type": "stream",
     "text": [
      "[77, 25, 6, 5, 4, 3, 2, 2, 1]\n"
     ]
    }
   ],
   "source": [
    "import heapq\n",
    "\n",
    "def heapsort(iterable):\n",
    "    h = []\n",
    "    result = []\n",
    "    for value in iterable:\n",
    "        heapq.heappush(h,-value)\n",
    "    for _ in range(len(h)):\n",
    "        result.append(-heapq.heappop(h))\n",
    "    return result\n",
    "    \n",
    "result = heapsort([1,4,5,6,2,2,77,3,25])\n",
    "print(result)"
   ]
  },
  {
   "cell_type": "code",
   "execution_count": 55,
   "id": "2ea96f6c-83a9-4990-9201-660b4228b8b6",
   "metadata": {},
   "outputs": [],
   "source": [
    "a = []\n",
    "heapq.heappush(a,-5)"
   ]
  },
  {
   "cell_type": "code",
   "execution_count": 56,
   "id": "96aa0297-4bb0-40c7-a630-b9b787e610a3",
   "metadata": {},
   "outputs": [
    {
     "data": {
      "text/plain": [
       "[-5]"
      ]
     },
     "execution_count": 56,
     "metadata": {},
     "output_type": "execute_result"
    }
   ],
   "source": [
    "a"
   ]
  },
  {
   "cell_type": "code",
   "execution_count": 57,
   "id": "7493d1a5-3216-4694-8d5f-20cd9fb2a114",
   "metadata": {},
   "outputs": [
    {
     "data": {
      "text/plain": [
       "[-5, -3]"
      ]
     },
     "execution_count": 57,
     "metadata": {},
     "output_type": "execute_result"
    }
   ],
   "source": [
    "heapq.heappush(a,-3)\n",
    "a"
   ]
  },
  {
   "cell_type": "code",
   "execution_count": 58,
   "id": "e683c203-b09d-42d4-af17-24bb9a49f492",
   "metadata": {},
   "outputs": [
    {
     "data": {
      "text/plain": [
       "[-5, -3, -2]"
      ]
     },
     "execution_count": 58,
     "metadata": {},
     "output_type": "execute_result"
    }
   ],
   "source": [
    "heapq.heappush(a,-2)\n",
    "a"
   ]
  },
  {
   "cell_type": "code",
   "execution_count": 60,
   "id": "8906237f-3c0a-4e2e-9ebd-aa2e1b33ccb3",
   "metadata": {},
   "outputs": [
    {
     "data": {
      "text/plain": [
       "5"
      ]
     },
     "execution_count": 60,
     "metadata": {},
     "output_type": "execute_result"
    }
   ],
   "source": [
    "-heapq.heappop(a)"
   ]
  },
  {
   "cell_type": "markdown",
   "id": "baa0e378-628a-465d-a0d0-0b54b8b29ec8",
   "metadata": {},
   "source": [
    "## bisect"
   ]
  },
  {
   "cell_type": "markdown",
   "id": "17307c10-9704-4509-818e-42aab68ca539",
   "metadata": {},
   "source": [
    "이진 탐색 구현"
   ]
  },
  {
   "cell_type": "markdown",
   "id": "586df717-5b1a-43d0-b73b-6d75c50efdc3",
   "metadata": {},
   "source": [
    "- 정렬된 상태여야 함"
   ]
  },
  {
   "cell_type": "markdown",
   "id": "32e6c5d6-52a0-478d-85bc-9d55376ea1fb",
   "metadata": {},
   "source": [
    "### bisect_left(a,x)"
   ]
  },
  {
   "cell_type": "markdown",
   "id": "5dadddfd-f8af-4c42-a628-e3a2f0cfc0f4",
   "metadata": {},
   "source": [
    "정렬된 순서를 유지하면서 리스트 a에 데이터 x를 삽입할 가장 왼쪽 인덱스를 찾는 메서드"
   ]
  },
  {
   "cell_type": "markdown",
   "id": "d2d4bf21-5c3d-436f-a967-56c9e3a321b9",
   "metadata": {
    "tags": []
   },
   "source": [
    "### bisect_right(a,x)"
   ]
  },
  {
   "cell_type": "markdown",
   "id": "2b367e33-8412-4302-90bb-84481328330a",
   "metadata": {},
   "source": [
    "정렬된 순서를 유지하면서 리스트 a에 데이터 x를 삽입할 가장 오른쪽 인덱스를 찾는 메서드"
   ]
  },
  {
   "cell_type": "code",
   "execution_count": 69,
   "id": "8eb4f9f9-dbca-4773-80b2-7f661463a990",
   "metadata": {},
   "outputs": [
    {
     "name": "stdout",
     "output_type": "stream",
     "text": [
      "[1, 2, 3, 5, 6, 33]\n",
      "2\n",
      "3\n"
     ]
    }
   ],
   "source": [
    "from bisect import bisect_left, bisect_right\n",
    "\n",
    "a = [1,2,5,6,33,3]\n",
    "x = 3\n",
    "b = sorted(a)\n",
    "print(b)\n",
    "print(bisect_left(b,x))\n",
    "print(bisect_right(b,x))"
   ]
  },
  {
   "cell_type": "code",
   "execution_count": 77,
   "id": "d7e5df79-802f-49e4-abd0-3fcba325600d",
   "metadata": {},
   "outputs": [
    {
     "name": "stdout",
     "output_type": "stream",
     "text": [
      "2\n",
      "3\n"
     ]
    }
   ],
   "source": [
    "from bisect import bisect_left, bisect_right\n",
    "\n",
    "def count_by_range(a,left_value,right_value):\n",
    "    right_index = bisect_right(a,right_value)\n",
    "    left_index = bisect_left(a,left_value)\n",
    "    return right_index - left_index\n",
    "\n",
    "a = [1,4,5,7,5,3,6,7,9,99,2,22]\n",
    "b = sorted(a)\n",
    "\n",
    "print(count_by_range(b,5,5))\n",
    "\n",
    "print(count_by_range(b,-1,3))"
   ]
  },
  {
   "cell_type": "markdown",
   "id": "f8383a32-f1b4-4f91-8692-d62000f5d8ab",
   "metadata": {},
   "source": [
    "## collections"
   ]
  },
  {
   "cell_type": "markdown",
   "id": "09ce1e33-ba5c-4700-848a-b91493db28a0",
   "metadata": {},
   "source": [
    "### deque"
   ]
  },
  {
   "cell_type": "code",
   "execution_count": 94,
   "id": "3276f9ac-1d7c-4d17-a48d-e66f86564e23",
   "metadata": {},
   "outputs": [
    {
     "name": "stdout",
     "output_type": "stream",
     "text": [
      "deque([3, 2, 5, 4, 6, 3, 1])\n",
      "[3, 2, 5, 4, 6, 3, 1]\n"
     ]
    }
   ],
   "source": [
    "from collections import deque\n",
    "\n",
    "data = deque([2,5,4,6,3])\n",
    "data.appendleft(3)\n",
    "data.append(1)\n",
    "\n",
    "print(data)\n",
    "\n",
    "print(list(data))"
   ]
  },
  {
   "cell_type": "code",
   "execution_count": 95,
   "id": "ff45faf4-3ed0-46eb-8252-71209b35f6fd",
   "metadata": {},
   "outputs": [
    {
     "data": {
      "text/plain": [
       "1"
      ]
     },
     "execution_count": 95,
     "metadata": {},
     "output_type": "execute_result"
    }
   ],
   "source": [
    "data.pop()"
   ]
  },
  {
   "cell_type": "code",
   "execution_count": 96,
   "id": "28ad6c55-6495-41dd-bdca-c83c0f4f6d0c",
   "metadata": {},
   "outputs": [
    {
     "data": {
      "text/plain": [
       "deque([3, 2, 5, 4, 6, 3])"
      ]
     },
     "execution_count": 96,
     "metadata": {},
     "output_type": "execute_result"
    }
   ],
   "source": [
    "data"
   ]
  },
  {
   "cell_type": "code",
   "execution_count": 97,
   "id": "436c65fd-2f4c-4d5d-9785-3c061886fb11",
   "metadata": {},
   "outputs": [
    {
     "data": {
      "text/plain": [
       "3"
      ]
     },
     "execution_count": 97,
     "metadata": {},
     "output_type": "execute_result"
    }
   ],
   "source": [
    "data.popleft()"
   ]
  },
  {
   "cell_type": "code",
   "execution_count": 98,
   "id": "11035337-0233-4dc0-8575-7399d7b21396",
   "metadata": {},
   "outputs": [
    {
     "data": {
      "text/plain": [
       "deque([2, 5, 4, 6, 3])"
      ]
     },
     "execution_count": 98,
     "metadata": {},
     "output_type": "execute_result"
    }
   ],
   "source": [
    "data"
   ]
  },
  {
   "cell_type": "markdown",
   "id": "3fd61a23-9f6c-44a8-a4f1-668688bf7d9d",
   "metadata": {},
   "source": [
    "### Counter"
   ]
  },
  {
   "cell_type": "markdown",
   "id": "99c691be-d1c9-4afc-8d98-ed48cfc0a253",
   "metadata": {},
   "source": [
    "등장 횟수 세는 기능"
   ]
  },
  {
   "cell_type": "code",
   "execution_count": 101,
   "id": "f6c1b93e-a92f-49f4-8edf-694db0a6fc99",
   "metadata": {},
   "outputs": [
    {
     "name": "stdout",
     "output_type": "stream",
     "text": [
      "4\n",
      "1\n",
      "{'d': 4, 'a': 1, 'e': 1, 'q': 1} \n",
      "사전자료형으로 반환\n"
     ]
    }
   ],
   "source": [
    "from collections import Counter\n",
    "\n",
    "counter = Counter(['d','d','d','a','e','q','d'])\n",
    "\n",
    "print(counter['d'])\n",
    "print(counter['a'])\n",
    "print(dict(counter),\"\\n사전자료형으로 반환\")"
   ]
  },
  {
   "cell_type": "code",
   "execution_count": 100,
   "id": "9c00b6a2-14f9-4171-9986-790b571da7e0",
   "metadata": {},
   "outputs": [
    {
     "data": {
      "text/plain": [
       "Counter({'d': 4, 'a': 1, 'e': 1, 'q': 1})"
      ]
     },
     "execution_count": 100,
     "metadata": {},
     "output_type": "execute_result"
    }
   ],
   "source": [
    "counter"
   ]
  },
  {
   "cell_type": "markdown",
   "id": "76d5f45e-e2d1-4419-8672-58a0146cc9d5",
   "metadata": {},
   "source": [
    "## math"
   ]
  },
  {
   "cell_type": "code",
   "execution_count": 102,
   "id": "83f2c36a-f903-4b48-bd86-e5bacb677def",
   "metadata": {},
   "outputs": [
    {
     "name": "stdout",
     "output_type": "stream",
     "text": [
      "24\n"
     ]
    }
   ],
   "source": [
    "import math\n",
    "print(math.factorial(4))"
   ]
  },
  {
   "cell_type": "code",
   "execution_count": 103,
   "id": "a339e528-1c41-4bce-b3ef-e20f7aa9834c",
   "metadata": {},
   "outputs": [
    {
     "data": {
      "text/plain": [
       "24"
      ]
     },
     "execution_count": 103,
     "metadata": {},
     "output_type": "execute_result"
    }
   ],
   "source": [
    "4*3*2*1"
   ]
  },
  {
   "cell_type": "code",
   "execution_count": 104,
   "id": "458a2207-7b37-4b00-a97b-79e9bab77e00",
   "metadata": {},
   "outputs": [
    {
     "name": "stdout",
     "output_type": "stream",
     "text": [
      "5.0\n"
     ]
    }
   ],
   "source": [
    "import math\n",
    "print(math.sqrt(25))"
   ]
  },
  {
   "cell_type": "markdown",
   "id": "77425443-2edf-4ccb-9526-049086f7164d",
   "metadata": {},
   "source": [
    "최대 공약수"
   ]
  },
  {
   "cell_type": "code",
   "execution_count": 105,
   "id": "fd4dc06c-3507-4f57-8c9b-86a32791070b",
   "metadata": {},
   "outputs": [
    {
     "name": "stdout",
     "output_type": "stream",
     "text": [
      "5\n"
     ]
    }
   ],
   "source": [
    "import math\n",
    "print(math.gcd(30,25))"
   ]
  },
  {
   "cell_type": "code",
   "execution_count": 106,
   "id": "37c2a695-347c-49d6-9821-58e31eefbb13",
   "metadata": {},
   "outputs": [
    {
     "name": "stdout",
     "output_type": "stream",
     "text": [
      "3.141592653589793\n",
      "2.718281828459045\n"
     ]
    }
   ],
   "source": [
    "import math\n",
    "print(math.pi)\n",
    "print(math.e)"
   ]
  }
 ],
 "metadata": {
  "kernelspec": {
   "display_name": "Python 3 (ipykernel)",
   "language": "python",
   "name": "python3"
  },
  "language_info": {
   "codemirror_mode": {
    "name": "ipython",
    "version": 3
   },
   "file_extension": ".py",
   "mimetype": "text/x-python",
   "name": "python",
   "nbconvert_exporter": "python",
   "pygments_lexer": "ipython3",
   "version": "3.8.12"
  }
 },
 "nbformat": 4,
 "nbformat_minor": 5
}
