{
 "cells": [
  {
   "cell_type": "raw",
   "id": "8af92824-3fa6-4e30-a1ba-77e375624b03",
   "metadata": {
    "id": "cac470df-29e7-4148-9bbd-d8b9a32fa570",
    "tags": []
   },
   "source": [
    "---\n",
    "title: \"Queue\"\n",
    "author: \"SEOYEON CHOI\"\n",
    "date: \"2023-03-12\"\n",
    "categories:\n",
    "  - Coding Test\n",
    "---"
   ]
  },
  {
   "cell_type": "markdown",
   "id": "43769e8c-ccc0-4f6c-8ce9-6c08ef4eac22",
   "metadata": {},
   "source": [
    "> Queue"
   ]
  },
  {
   "cell_type": "markdown",
   "id": "0cba47e0-1b9a-472d-9ef0-1bdda293a308",
   "metadata": {},
   "source": [
    "# Queue"
   ]
  },
  {
   "cell_type": "markdown",
   "id": "d37ff159-d52e-4d39-a73a-8ac58f4bc24b",
   "metadata": {},
   "source": [
    "## Queue을 통해 사용하는 기능"
   ]
  },
  {
   "cell_type": "markdown",
   "id": "215a2939-faf1-455c-ba9b-18dc9c916034",
   "metadata": {},
   "source": [
    "1. `push`: 데이터를 큐에 추가한다.(큐의 전단부터 후단으로 차곡차곡 쌓는다.\n",
    "2. `pop`: 큐의 가장 엎(전단) 데이터를 삭제한다.\n",
    "3. `size`: 큐에 데이터가 몇 개 들어있는지 확인한다.\n",
    "4. `empty`: 큐가 비어 있는지 확인한다.(데이터가 없는지 확인)\n",
    "5. `front`: 큐의 가장 앞(전단) 데이터가 무엇인지 확인한다.\n",
    "6. `back`: 큐의 가장 뒤(후단) 데이터가 무엇인지 확인한다."
   ]
  },
  {
   "cell_type": "code",
   "execution_count": null,
   "id": "1af9fcd9-2932-497b-bc21-cc04242e043f",
   "metadata": {},
   "outputs": [],
   "source": []
  }
 ],
 "metadata": {
  "kernelspec": {
   "display_name": "Python 3 (ipykernel)",
   "language": "python",
   "name": "python3"
  },
  "language_info": {
   "codemirror_mode": {
    "name": "ipython",
    "version": 3
   },
   "file_extension": ".py",
   "mimetype": "text/x-python",
   "name": "python",
   "nbconvert_exporter": "python",
   "pygments_lexer": "ipython3",
   "version": "3.8.12"
  }
 },
 "nbformat": 4,
 "nbformat_minor": 5
}
