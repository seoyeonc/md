{
 "cells": [
  {
   "cell_type": "raw",
   "id": "ef3f129e-f60a-4c56-91f2-8f25afb11560",
   "metadata": {
    "id": "cac470df-29e7-4148-9bbd-d8b9a32fa570",
    "tags": []
   },
   "source": [
    "---\n",
    "title: \"ArrayList & LinkedList\"\n",
    "author: \"SEOYEON CHOI\"\n",
    "date: \"2023-02-12\"\n",
    "categories:\n",
    "  - Coding Test\n",
    "---"
   ]
  },
  {
   "cell_type": "markdown",
   "id": "9391f1c0-7ca4-43cd-9e5b-2d630a6dab30",
   "metadata": {},
   "source": [
    "> ArrayList & LinkedList"
   ]
  },
  {
   "cell_type": "markdown",
   "id": "61e70008-7641-46be-ad53-c5a6407c721b",
   "metadata": {},
   "source": [
    "# ArrayList"
   ]
  },
  {
   "cell_type": "markdown",
   "id": "9ebef870-277b-4978-b164-84889f97c5e5",
   "metadata": {},
   "source": [
    "## max & min"
   ]
  },
  {
   "cell_type": "code",
   "execution_count": 7,
   "id": "5966ae70-800d-448f-a22b-1b9dc62e01db",
   "metadata": {},
   "outputs": [
    {
     "name": "stdin",
     "output_type": "stream",
     "text": [
      "[] \n"
     ]
    }
   ],
   "source": [
    "n = input(list())"
   ]
  },
  {
   "cell_type": "code",
   "execution_count": 8,
   "id": "ecdd5c61-4cc9-4eb0-98a4-8f7217d147cd",
   "metadata": {},
   "outputs": [
    {
     "name": "stdin",
     "output_type": "stream",
     "text": [
      " 20 10 35 30 7\n"
     ]
    }
   ],
   "source": [
    "array_list = list(map(int,input().split()))"
   ]
  },
  {
   "cell_type": "code",
   "execution_count": 10,
   "id": "afe88bdd-d1f1-48e4-8876-7900ee8caf5c",
   "metadata": {},
   "outputs": [],
   "source": [
    "max_num = array_list[0]\n",
    "min_num = array_list[0]"
   ]
  },
  {
   "cell_type": "code",
   "execution_count": 11,
   "id": "5aaf5afc-8994-4669-ace8-3631b1cc8321",
   "metadata": {},
   "outputs": [],
   "source": [
    "for num in array_list:\n",
    "    if num > max_num:\n",
    "        max_num = num\n",
    "    if num < min_num:\n",
    "        min_num = num"
   ]
  },
  {
   "cell_type": "code",
   "execution_count": 12,
   "id": "1b2b2f15-485e-49b9-8671-6f188d7393fb",
   "metadata": {},
   "outputs": [
    {
     "name": "stdout",
     "output_type": "stream",
     "text": [
      "7 35\n"
     ]
    }
   ],
   "source": [
    "print(min_num,max_num)"
   ]
  },
  {
   "cell_type": "markdown",
   "id": "753a82c6-8436-499b-bfe4-61b602dd313d",
   "metadata": {},
   "source": [
    "## 2 dimension arraylist"
   ]
  },
  {
   "cell_type": "code",
   "execution_count": 20,
   "id": "08f5c051-dc5f-4f68-8596-c05c137feff8",
   "metadata": {},
   "outputs": [
    {
     "name": "stdin",
     "output_type": "stream",
     "text": [
      " 5 4 4 5\n",
      " 5 4 4 4 \n",
      " 5 5 4 4 \n",
      " 5 5 5 4\n",
      " 4 4 4 5\n"
     ]
    }
   ],
   "source": [
    "human = [list(map(int,input().split())) for _ in range(5)]"
   ]
  },
  {
   "cell_type": "code",
   "execution_count": 25,
   "id": "39aeb0d0-f92f-4992-a741-842ab1547a5a",
   "metadata": {},
   "outputs": [],
   "source": [
    "humanscore = [0]*5"
   ]
  },
  {
   "cell_type": "code",
   "execution_count": 26,
   "id": "e44880cd-72c0-45b7-b71a-77323c9e7598",
   "metadata": {},
   "outputs": [],
   "source": [
    "score = 0"
   ]
  },
  {
   "cell_type": "code",
   "execution_count": 27,
   "id": "b0b321dc-25c1-4f12-a021-17f1b98cfd9b",
   "metadata": {},
   "outputs": [],
   "source": [
    "for i in range(5):\n",
    "    sum = 0\n",
    "    for j in range(4):\n",
    "        sum += human[i][j]\n",
    "    humanscore[i] = sum\n",
    "    score = max(score,sum)"
   ]
  },
  {
   "cell_type": "code",
   "execution_count": 28,
   "id": "3393ff82-f80a-42ea-8b9d-b3f3c5f9d9dc",
   "metadata": {},
   "outputs": [
    {
     "data": {
      "text/plain": [
       "[18, 17, 18, 19, 17]"
      ]
     },
     "execution_count": 28,
     "metadata": {},
     "output_type": "execute_result"
    }
   ],
   "source": [
    "humanscore"
   ]
  },
  {
   "cell_type": "code",
   "execution_count": 30,
   "id": "8835058c-481f-4f02-955b-c90c2ec4dc17",
   "metadata": {},
   "outputs": [
    {
     "data": {
      "text/plain": [
       "19"
      ]
     },
     "execution_count": 30,
     "metadata": {},
     "output_type": "execute_result"
    }
   ],
   "source": [
    "score"
   ]
  },
  {
   "cell_type": "code",
   "execution_count": 31,
   "id": "eb9c9c88-1e25-40d6-8963-11729214afe2",
   "metadata": {},
   "outputs": [
    {
     "name": "stdout",
     "output_type": "stream",
     "text": [
      "4 19\n"
     ]
    }
   ],
   "source": [
    "for i in range(5):\n",
    "    if humanscore[i] == score:\n",
    "        print(i+1,score)\n",
    "        break"
   ]
  },
  {
   "cell_type": "markdown",
   "id": "fc7e0153-b9c2-4a90-a9b3-acd1f4403717",
   "metadata": {},
   "source": [
    "$\\star$ 0 부터 시작하니까 1 더해주기"
   ]
  },
  {
   "cell_type": "markdown",
   "id": "273f95dc-51b9-42ff-9711-68d81752a10b",
   "metadata": {},
   "source": [
    "## add & delete"
   ]
  },
  {
   "cell_type": "markdown",
   "id": "ed300312-6df7-4caf-9d76-5286b8e39959",
   "metadata": {},
   "source": [
    "삽입과 삭제가 많은 문제를 접랬을때는 ArrayList 사용하게 되면 시간복잡도가 높아진다.\n",
    "\n",
    "따라서 스택을 이용하는 게 적절하다. 다른 장에 추가 서술 예정"
   ]
  },
  {
   "cell_type": "markdown",
   "id": "534d7ae0-de2c-441e-bc51-c20996febb1c",
   "metadata": {},
   "source": [
    "# Linked List"
   ]
  },
  {
   "cell_type": "markdown",
   "id": "0fe3e648-e4d4-431d-b4f4-2c50a8eebfac",
   "metadata": {},
   "source": [
    "파이썬에는 LinkedList 라이브러리가 없어서 직접 클래스를 만들어 사용해야 함.\n",
    "\n",
    "비효율적"
   ]
  },
  {
   "cell_type": "code",
   "execution_count": null,
   "id": "eccd8e6b-bef1-48fc-adfe-44e18138d0df",
   "metadata": {},
   "outputs": [],
   "source": []
  }
 ],
 "metadata": {
  "kernelspec": {
   "display_name": "Python 3 (ipykernel)",
   "language": "python",
   "name": "python3"
  },
  "language_info": {
   "codemirror_mode": {
    "name": "ipython",
    "version": 3
   },
   "file_extension": ".py",
   "mimetype": "text/x-python",
   "name": "python",
   "nbconvert_exporter": "python",
   "pygments_lexer": "ipython3",
   "version": "3.8.12"
  }
 },
 "nbformat": 4,
 "nbformat_minor": 5
}
