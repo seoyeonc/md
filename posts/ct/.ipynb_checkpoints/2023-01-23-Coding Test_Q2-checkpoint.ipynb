{
 "cells": [
  {
   "cell_type": "raw",
   "id": "1b18b965-07af-4011-a14d-57031ccd5833",
   "metadata": {
    "id": "cac470df-29e7-4148-9bbd-d8b9a32fa570",
    "tags": []
   },
   "source": [
    "---\n",
    "title: \"두 큐 합 같게 만들기(Not Done)\"\n",
    "author: \"SEOYEON CHOI\"\n",
    "date: \"2023-01-23\"\n",
    "categories:\n",
    "  - Coding Test\n",
    "---"
   ]
  },
  {
   "cell_type": "markdown",
   "id": "b854a3c3-3844-4dd4-a4a7-0abed588be20",
   "metadata": {},
   "source": [
    "> 2022:KAKAO TECH INTERNSHIP"
   ]
  },
  {
   "cell_type": "markdown",
   "id": "89b75128-379e-4ebe-b050-fbf87afe82c0",
   "metadata": {},
   "source": [
    "문제 설명\n",
    "\n",
    "길이가 같은 두 개의 큐가 주어집니다. \n",
    "\n",
    "하나의 큐를 골라 원소를 추출(pop)하고, 추출된 원소를 다른 큐에 집어넣는(insert) 작업을 통해 각 큐의 원소 합이 같도록 만들려고 합니다. \n",
    "\n",
    "이때 필요한 작업의 최소 횟수를 구하고자 합니다. \n",
    "\n",
    "한 번의 pop과 한 번의 insert를 합쳐서 작업을 1회 수행한 것으로 간주합니다.\n",
    "\n",
    "큐는 먼저 집어넣은 원소가 먼저 나오는 구조입니다. \n",
    "\n",
    "이 문제에서는 큐를 배열로 표현하며, 원소가 배열 앞쪽에 있을수록 먼저 집어넣은 원소임을 의미합니다. \n",
    "\n",
    "즉, pop을 하면 배열의 첫 번째 원소가 추출되며, insert를 하면 배열의 끝에 원소가 추가됩니다. \n",
    "\n",
    "예를 들어 큐 [1, 2, 3, 4]가 주어졌을 때, pop을 하면 맨 앞에 있는 원소 1이 추출되어 [2, 3, 4]가 되며, 이어서 5를 insert하면 [2, 3, 4, 5]가 됩니다.\n",
    "\n",
    "다음은 두 큐를 나타내는 예시입니다.\n",
    "\n",
    "```python\n",
    "queue1 = [3, 2, 7, 2]\n",
    "queue2 = [4, 6, 5, 1]\n",
    "```\n",
    "\n",
    "두 큐에 담긴 모든 원소의 합은 30입니다. \n",
    "\n",
    "따라서, 각 큐의 합을 15로 만들어야 합니다. \n",
    "\n",
    "예를 들어, 다음과 같이 2가지 방법이 있습니다.\n",
    "\n",
    "- queue2의 4, 6, 5를 순서대로 추출하여 queue1에 추가한 뒤, queue1의 3, 2, 7, 2를 순서대로 추출하여 queue2에 추가합니다. 그 결과 queue1은 [4, 6, 5], queue2는 [1, 3, 2, 7, 2]가 되며, 각 큐의 원소 합은 15로 같습니다. 이 방법은 작업을 7번 수행합니다.\n",
    "- queue1에서 3을 추출하여 queue2에 추가합니다. 그리고 queue2에서 4를 추출하여 queue1에 추가합니다. 그 결과 queue1은 [2, 7, 2, 4], queue2는 [6, 5, 1, 3]가 되며, 각 큐의 원소 합은 15로 같습니다. 이 방법은 작업을 2번만 수행하며, 이보다 적은 횟수로 목표를 달성할 수 없습니다.\n",
    "- 따라서 각 큐의 원소 합을 같게 만들기 위해 필요한 작업의 최소 횟수는 2입니다.\n",
    "\n",
    "길이가 같은 두 개의 큐를 나타내는 정수 배열 queue1, queue2가 매개변수로 주어집니다. \n",
    "\n",
    "각 큐의 원소 합을 같게 만들기 위해 필요한 작업의 최소 횟수를 return 하도록 solution 함수를 완성해주세요. 단, 어떤 방법으로도 각 큐의 원소 합을 같게 만들 수 없는 경우, -1을 return 해주세요.\n",
    "\n",
    "제한사항\n",
    "\n",
    "- 1 ≤ queue1의 길이 = queue2의 길이 ≤ 300,000\n",
    "- 1 ≤ queue1의 원소, queue2의 원소 ≤ 109\n",
    "- 주의: 언어에 따라 합 계산 과정 중 산술 오버플로우 발생 가능성이 있으므로 long type 고려가 필요합니다.\n",
    "\n",
    "입출력 예\n",
    "\n",
    "|queue1|queue2|result|\n",
    "|:--:|:--:|:--:|\n",
    "|[3, 2, 7, 2] | [4, 6, 5, 1] | 2 |\n",
    "|[1, 2, 1, 2] | [1, 10, 1, 2] | 7 |\n",
    "|[1, 1] | [1, 5] | 1 |\n",
    "\n",
    "입출력 예 설명\n",
    "\n",
    "입출력 예 #1\n",
    "\n",
    "문제 예시와 같습니다.\n",
    "\n",
    "입출력 예 #2\n",
    "\n",
    "두 큐에 담긴 모든 원소의 합은 20입니다. 따라서, 각 큐의 합을 10으로 만들어야 합니다. queue2에서 1, 10을 순서대로 추출하여 queue1에 추가하고, queue1에서 1, 2, 1, 2와 1(queue2으로부터 받은 원소)을 순서대로 추출하여 queue2에 추가합니다. 그 결과 queue1은 [10], queue2는 [1, 2, 1, 2, 1, 2, 1]가 되며, 각 큐의 원소 합은 10으로 같습니다. 이때 작업 횟수는 7회이며, 이보다 적은 횟수로 목표를 달성하는 방법은 없습니다. 따라서 7를 return 합니다.\n",
    "\n",
    "입출력 예 #3\n",
    "\n",
    "어떤 방법을 쓰더라도 각 큐의 원소 합을 같게 만들 수 없습니다. 따라서 -1을 return 합니다."
   ]
  },
  {
   "cell_type": "markdown",
   "id": "fa77fcfa-53b4-4952-b5a4-f6d8ab0be81e",
   "metadata": {},
   "source": [
    "**answer**"
   ]
  },
  {
   "cell_type": "code",
   "execution_count": 193,
   "id": "01bac700-bc6e-4da7-a521-be7d6204208e",
   "metadata": {},
   "outputs": [],
   "source": [
    "def solution(queue1, queue2):\n",
    "    s = sum(queue1 + queue2) // 2\n",
    "    out_count1 = len(queue1) + len(queue1)\n",
    "    count = 0\n",
    "    \n",
    "    while sum(queue1) != sum(queue2):\n",
    "        queue2.append(queue1[0])\n",
    "        queue1.pop(0)\n",
    "        count += 1 \n",
    "        if len(queue1) == 0:\n",
    "            queue1.append(queue2[0])\n",
    "            queue2.pop(0)\n",
    "            count += 1          \n",
    "        if count == out_count1:\n",
    "            count = -out_count1 -1\n",
    "            break\n",
    "                          \n",
    "    answer = count\n",
    "    return answer"
   ]
  },
  {
   "cell_type": "code",
   "execution_count": 194,
   "id": "1aa84d20-a20c-44d2-8d42-0aa5be601dea",
   "metadata": {},
   "outputs": [],
   "source": [
    "queue1 = [3, 2, 7, 2]"
   ]
  },
  {
   "cell_type": "code",
   "execution_count": 195,
   "id": "c6975ac8-043e-44dc-b642-8cbf27c15f02",
   "metadata": {},
   "outputs": [
    {
     "data": {
      "text/plain": [
       "14"
      ]
     },
     "execution_count": 195,
     "metadata": {},
     "output_type": "execute_result"
    }
   ],
   "source": [
    "s1 = sum(queue1)\n",
    "s1"
   ]
  },
  {
   "cell_type": "code",
   "execution_count": 144,
   "id": "80d9c55b-37f6-4f47-a3a8-520ab375660b",
   "metadata": {},
   "outputs": [],
   "source": [
    "queue2 = [4, 6, 5, 1]"
   ]
  },
  {
   "cell_type": "code",
   "execution_count": 145,
   "id": "9a19dea2-8156-45c8-afca-1a5f9a37a2f0",
   "metadata": {},
   "outputs": [
    {
     "data": {
      "text/plain": [
       "16"
      ]
     },
     "execution_count": 145,
     "metadata": {},
     "output_type": "execute_result"
    }
   ],
   "source": [
    "s2 = sum(queue2)\n",
    "s2"
   ]
  },
  {
   "cell_type": "code",
   "execution_count": 146,
   "id": "b230dcd7-d1e8-432f-847f-d64195fef4f6",
   "metadata": {},
   "outputs": [],
   "source": [
    "s = sum(queue1 + queue2)"
   ]
  },
  {
   "cell_type": "code",
   "execution_count": 147,
   "id": "01db581c-61e3-4741-8c03-aa92d4947c92",
   "metadata": {},
   "outputs": [
    {
     "data": {
      "text/plain": [
       "15"
      ]
     },
     "execution_count": 147,
     "metadata": {},
     "output_type": "execute_result"
    }
   ],
   "source": [
    "s//2 # 목표 합 각각"
   ]
  },
  {
   "cell_type": "code",
   "execution_count": 148,
   "id": "ea0693b9-14ee-4c2c-9a90-5ec4942bcd9f",
   "metadata": {},
   "outputs": [],
   "source": [
    "queue1.append(queue2[0])"
   ]
  },
  {
   "cell_type": "code",
   "execution_count": 149,
   "id": "ad595af6-f342-4bdf-9182-5137ab4f19e3",
   "metadata": {},
   "outputs": [
    {
     "data": {
      "text/plain": [
       "4"
      ]
     },
     "execution_count": 149,
     "metadata": {},
     "output_type": "execute_result"
    }
   ],
   "source": [
    "queue2.pop(0)"
   ]
  },
  {
   "cell_type": "code",
   "execution_count": 150,
   "id": "8801c533-1a59-4738-b90d-ad32da4f620f",
   "metadata": {},
   "outputs": [
    {
     "data": {
      "text/plain": [
       "18"
      ]
     },
     "execution_count": 150,
     "metadata": {},
     "output_type": "execute_result"
    }
   ],
   "source": [
    "s1 = sum(queue1)\n",
    "s1"
   ]
  },
  {
   "cell_type": "code",
   "execution_count": 151,
   "id": "7c67f67d-a81c-4d36-8315-0c1f76eec933",
   "metadata": {},
   "outputs": [
    {
     "data": {
      "text/plain": [
       "12"
      ]
     },
     "execution_count": 151,
     "metadata": {},
     "output_type": "execute_result"
    }
   ],
   "source": [
    "s2 = sum(queue2)\n",
    "s2"
   ]
  },
  {
   "cell_type": "code",
   "execution_count": 152,
   "id": "2743d267-e5c2-43f8-99fc-0dea472085d1",
   "metadata": {},
   "outputs": [],
   "source": [
    "queue1.append(queue2[0])"
   ]
  },
  {
   "cell_type": "code",
   "execution_count": 153,
   "id": "f0a62340-2d02-4f60-8e16-615fdf698e20",
   "metadata": {},
   "outputs": [
    {
     "data": {
      "text/plain": [
       "6"
      ]
     },
     "execution_count": 153,
     "metadata": {},
     "output_type": "execute_result"
    }
   ],
   "source": [
    "queue2.pop(0)"
   ]
  },
  {
   "cell_type": "code",
   "execution_count": 154,
   "id": "abc918ae-c58f-47e6-bcd5-0b063a533412",
   "metadata": {},
   "outputs": [
    {
     "data": {
      "text/plain": [
       "24"
      ]
     },
     "execution_count": 154,
     "metadata": {},
     "output_type": "execute_result"
    }
   ],
   "source": [
    "s1 = sum(queue1)\n",
    "s1"
   ]
  },
  {
   "cell_type": "code",
   "execution_count": 155,
   "id": "212bebea-4f44-4330-86e4-3ba429ac9b94",
   "metadata": {},
   "outputs": [
    {
     "data": {
      "text/plain": [
       "6"
      ]
     },
     "execution_count": 155,
     "metadata": {},
     "output_type": "execute_result"
    }
   ],
   "source": [
    "s2 = sum(queue2)\n",
    "s2"
   ]
  },
  {
   "cell_type": "code",
   "execution_count": 156,
   "id": "ba15439b-2fdf-467f-bca9-fa085c5518c5",
   "metadata": {},
   "outputs": [],
   "source": [
    "queue1.append(queue2[0])"
   ]
  },
  {
   "cell_type": "code",
   "execution_count": 157,
   "id": "d4a848b8-a996-46b8-b3ca-d2bfa2798c62",
   "metadata": {},
   "outputs": [
    {
     "data": {
      "text/plain": [
       "5"
      ]
     },
     "execution_count": 157,
     "metadata": {},
     "output_type": "execute_result"
    }
   ],
   "source": [
    "queue2.pop(0)"
   ]
  },
  {
   "cell_type": "code",
   "execution_count": 158,
   "id": "439766d7-c4bc-46a3-949b-dbc86fcb0157",
   "metadata": {},
   "outputs": [
    {
     "data": {
      "text/plain": [
       "29"
      ]
     },
     "execution_count": 158,
     "metadata": {},
     "output_type": "execute_result"
    }
   ],
   "source": [
    "s1 = sum(queue1)\n",
    "s1"
   ]
  },
  {
   "cell_type": "code",
   "execution_count": 159,
   "id": "e550ddcb-660e-40b3-b3e8-6d8e0e2641ad",
   "metadata": {},
   "outputs": [
    {
     "data": {
      "text/plain": [
       "1"
      ]
     },
     "execution_count": 159,
     "metadata": {},
     "output_type": "execute_result"
    }
   ],
   "source": [
    "s2 = sum(queue2)\n",
    "s2"
   ]
  },
  {
   "cell_type": "code",
   "execution_count": 160,
   "id": "eb597fd0-9308-47ad-b1a3-59125f25ffb0",
   "metadata": {},
   "outputs": [],
   "source": [
    "queue2.append(queue1[0])"
   ]
  },
  {
   "cell_type": "code",
   "execution_count": 161,
   "id": "480e72f9-22e7-461f-8e56-8b91b897b930",
   "metadata": {},
   "outputs": [
    {
     "data": {
      "text/plain": [
       "3"
      ]
     },
     "execution_count": 161,
     "metadata": {},
     "output_type": "execute_result"
    }
   ],
   "source": [
    "queue1.pop(0)"
   ]
  },
  {
   "cell_type": "code",
   "execution_count": 162,
   "id": "fb53f170-24e7-4457-86cf-af59730e26a4",
   "metadata": {},
   "outputs": [
    {
     "data": {
      "text/plain": [
       "26"
      ]
     },
     "execution_count": 162,
     "metadata": {},
     "output_type": "execute_result"
    }
   ],
   "source": [
    "s1 = sum(queue1)\n",
    "s1"
   ]
  },
  {
   "cell_type": "code",
   "execution_count": 163,
   "id": "842f55b6-ff3f-43e1-bd37-23537783fc89",
   "metadata": {},
   "outputs": [
    {
     "data": {
      "text/plain": [
       "4"
      ]
     },
     "execution_count": 163,
     "metadata": {},
     "output_type": "execute_result"
    }
   ],
   "source": [
    "s2 = sum(queue2)\n",
    "s2"
   ]
  },
  {
   "cell_type": "code",
   "execution_count": 164,
   "id": "3aba9d8d-b162-41ac-8d97-bbb7e9acd6d6",
   "metadata": {},
   "outputs": [],
   "source": [
    "queue2.append(queue1[0])"
   ]
  },
  {
   "cell_type": "code",
   "execution_count": 165,
   "id": "7684c0e2-3134-4e57-a13e-823647d3c655",
   "metadata": {},
   "outputs": [
    {
     "data": {
      "text/plain": [
       "2"
      ]
     },
     "execution_count": 165,
     "metadata": {},
     "output_type": "execute_result"
    }
   ],
   "source": [
    "queue1.pop(0)"
   ]
  },
  {
   "cell_type": "code",
   "execution_count": 166,
   "id": "1e24a316-47af-44a4-945b-5e4ab5108fcd",
   "metadata": {},
   "outputs": [
    {
     "data": {
      "text/plain": [
       "24"
      ]
     },
     "execution_count": 166,
     "metadata": {},
     "output_type": "execute_result"
    }
   ],
   "source": [
    "s1 = sum(queue1)\n",
    "s1"
   ]
  },
  {
   "cell_type": "code",
   "execution_count": 167,
   "id": "32c6b86b-20f8-40df-ae8a-2e1bc603880a",
   "metadata": {},
   "outputs": [
    {
     "data": {
      "text/plain": [
       "6"
      ]
     },
     "execution_count": 167,
     "metadata": {},
     "output_type": "execute_result"
    }
   ],
   "source": [
    "s2 = sum(queue2)\n",
    "s2"
   ]
  },
  {
   "cell_type": "code",
   "execution_count": 168,
   "id": "c60b4191-85dd-4c09-a8e3-7f6be3f06871",
   "metadata": {},
   "outputs": [],
   "source": [
    "queue2.append(queue1[0])"
   ]
  },
  {
   "cell_type": "code",
   "execution_count": 169,
   "id": "59d6a97a-dc03-4cff-ab48-33ae87c45188",
   "metadata": {},
   "outputs": [
    {
     "data": {
      "text/plain": [
       "7"
      ]
     },
     "execution_count": 169,
     "metadata": {},
     "output_type": "execute_result"
    }
   ],
   "source": [
    "queue1.pop(0)"
   ]
  },
  {
   "cell_type": "code",
   "execution_count": 170,
   "id": "b8edf938-c554-4763-a2fe-93fe693c69c0",
   "metadata": {},
   "outputs": [
    {
     "data": {
      "text/plain": [
       "17"
      ]
     },
     "execution_count": 170,
     "metadata": {},
     "output_type": "execute_result"
    }
   ],
   "source": [
    "s1 = sum(queue1)\n",
    "s1"
   ]
  },
  {
   "cell_type": "code",
   "execution_count": 171,
   "id": "82f31599-7e61-41ac-bf54-a2d7206ef8e8",
   "metadata": {},
   "outputs": [
    {
     "data": {
      "text/plain": [
       "13"
      ]
     },
     "execution_count": 171,
     "metadata": {},
     "output_type": "execute_result"
    }
   ],
   "source": [
    "s2 = sum(queue2)\n",
    "s2"
   ]
  },
  {
   "cell_type": "code",
   "execution_count": 172,
   "id": "d15ea493-94fc-48d5-9ebd-e53425dcf142",
   "metadata": {},
   "outputs": [],
   "source": [
    "queue2.append(queue1[0])"
   ]
  },
  {
   "cell_type": "code",
   "execution_count": 173,
   "id": "0dec06ce-f9c8-48a6-a330-a70e6415b009",
   "metadata": {},
   "outputs": [
    {
     "data": {
      "text/plain": [
       "2"
      ]
     },
     "execution_count": 173,
     "metadata": {},
     "output_type": "execute_result"
    }
   ],
   "source": [
    "queue1.pop(0)"
   ]
  },
  {
   "cell_type": "code",
   "execution_count": 174,
   "id": "9bcfa294-8c99-41a8-b037-6764fa3bc6bd",
   "metadata": {},
   "outputs": [
    {
     "data": {
      "text/plain": [
       "15"
      ]
     },
     "execution_count": 174,
     "metadata": {},
     "output_type": "execute_result"
    }
   ],
   "source": [
    "s1 = sum(queue1)\n",
    "s1"
   ]
  },
  {
   "cell_type": "code",
   "execution_count": 175,
   "id": "632a4f02-e28d-4eb9-8e57-f282ce926811",
   "metadata": {},
   "outputs": [
    {
     "data": {
      "text/plain": [
       "15"
      ]
     },
     "execution_count": 175,
     "metadata": {},
     "output_type": "execute_result"
    }
   ],
   "source": [
    "s2 = sum(queue2)\n",
    "s2"
   ]
  },
  {
   "cell_type": "code",
   "execution_count": 176,
   "id": "5988bcc5-2b2a-4dff-b622-4c985fefa2e9",
   "metadata": {},
   "outputs": [
    {
     "data": {
      "text/plain": [
       "[4, 6, 5]"
      ]
     },
     "execution_count": 176,
     "metadata": {},
     "output_type": "execute_result"
    }
   ],
   "source": [
    "queue1"
   ]
  },
  {
   "cell_type": "code",
   "execution_count": 177,
   "id": "7f8b12f3-b0bd-4cee-9901-5e17c92d34c5",
   "metadata": {},
   "outputs": [
    {
     "data": {
      "text/plain": [
       "[1, 3, 2, 7, 2]"
      ]
     },
     "execution_count": 177,
     "metadata": {},
     "output_type": "execute_result"
    }
   ],
   "source": [
    "queue2"
   ]
  },
  {
   "cell_type": "code",
   "execution_count": 182,
   "id": "7956ac93-223c-43d1-b05b-7bd12508a946",
   "metadata": {},
   "outputs": [],
   "source": [
    "a = [1]"
   ]
  },
  {
   "cell_type": "code",
   "execution_count": 183,
   "id": "91683614-2af0-4671-baee-67b068617f57",
   "metadata": {},
   "outputs": [
    {
     "data": {
      "text/plain": [
       "1"
      ]
     },
     "execution_count": 183,
     "metadata": {},
     "output_type": "execute_result"
    }
   ],
   "source": [
    "a.pop()"
   ]
  },
  {
   "cell_type": "code",
   "execution_count": 184,
   "id": "cadd8ca8-d4d6-4b76-8ae6-d011d254b995",
   "metadata": {},
   "outputs": [
    {
     "data": {
      "text/plain": [
       "[]"
      ]
     },
     "execution_count": 184,
     "metadata": {},
     "output_type": "execute_result"
    }
   ],
   "source": [
    "a"
   ]
  },
  {
   "cell_type": "code",
   "execution_count": 187,
   "id": "3c1d37d3-ec61-413e-9404-d292f04c2858",
   "metadata": {},
   "outputs": [
    {
     "data": {
      "text/plain": [
       "0"
      ]
     },
     "execution_count": 187,
     "metadata": {},
     "output_type": "execute_result"
    }
   ],
   "source": [
    "len(a)"
   ]
  },
  {
   "cell_type": "code",
   "execution_count": null,
   "id": "5ddab969-88f1-429f-a436-d5bac1c59636",
   "metadata": {},
   "outputs": [],
   "source": []
  }
 ],
 "metadata": {
  "kernelspec": {
   "display_name": "Python 3 (ipykernel)",
   "language": "python",
   "name": "python3"
  },
  "language_info": {
   "codemirror_mode": {
    "name": "ipython",
    "version": 3
   },
   "file_extension": ".py",
   "mimetype": "text/x-python",
   "name": "python",
   "nbconvert_exporter": "python",
   "pygments_lexer": "ipython3",
   "version": "3.8.12"
  }
 },
 "nbformat": 4,
 "nbformat_minor": 5
}
