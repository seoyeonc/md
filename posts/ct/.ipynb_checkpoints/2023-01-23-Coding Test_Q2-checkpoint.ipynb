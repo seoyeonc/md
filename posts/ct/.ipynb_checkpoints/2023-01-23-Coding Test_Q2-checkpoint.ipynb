{
 "cells": [
  {
   "cell_type": "raw",
   "id": "1b18b965-07af-4011-a14d-57031ccd5833",
   "metadata": {
    "id": "cac470df-29e7-4148-9bbd-d8b9a32fa570",
    "tags": []
   },
   "source": [
    "---\n",
    "title: \"두 큐 합 같게 만들기(Not Done)\"\n",
    "author: \"SEOYEON CHOI\"\n",
    "date: \"2023-01-23\"\n",
    "categories:\n",
    "  - Coding Test\n",
    "---"
   ]
  },
  {
   "cell_type": "markdown",
   "id": "b854a3c3-3844-4dd4-a4a7-0abed588be20",
   "metadata": {},
   "source": [
    "> 2022:KAKAO TECH INTERNSHIP"
   ]
  },
  {
   "cell_type": "markdown",
   "id": "89b75128-379e-4ebe-b050-fbf87afe82c0",
   "metadata": {},
   "source": [
    "문제 설명\n",
    "\n",
    "길이가 같은 두 개의 큐가 주어집니다. \n",
    "\n",
    "하나의 큐를 골라 원소를 추출(pop)하고, 추출된 원소를 다른 큐에 집어넣는(insert) 작업을 통해 각 큐의 원소 합이 같도록 만들려고 합니다. \n",
    "\n",
    "이때 필요한 작업의 최소 횟수를 구하고자 합니다. \n",
    "\n",
    "한 번의 pop과 한 번의 insert를 합쳐서 작업을 1회 수행한 것으로 간주합니다.\n",
    "\n",
    "큐는 먼저 집어넣은 원소가 먼저 나오는 구조입니다. \n",
    "\n",
    "이 문제에서는 큐를 배열로 표현하며, 원소가 배열 앞쪽에 있을수록 먼저 집어넣은 원소임을 의미합니다. \n",
    "\n",
    "즉, pop을 하면 배열의 첫 번째 원소가 추출되며, insert를 하면 배열의 끝에 원소가 추가됩니다. \n",
    "\n",
    "예를 들어 큐 [1, 2, 3, 4]가 주어졌을 때, pop을 하면 맨 앞에 있는 원소 1이 추출되어 [2, 3, 4]가 되며, 이어서 5를 insert하면 [2, 3, 4, 5]가 됩니다.\n",
    "\n",
    "다음은 두 큐를 나타내는 예시입니다.\n",
    "\n",
    "```python\n",
    "queue1 = [3, 2, 7, 2]\n",
    "queue2 = [4, 6, 5, 1]\n",
    "```\n",
    "\n",
    "두 큐에 담긴 모든 원소의 합은 30입니다. \n",
    "\n",
    "따라서, 각 큐의 합을 15로 만들어야 합니다. \n",
    "\n",
    "예를 들어, 다음과 같이 2가지 방법이 있습니다.\n",
    "\n",
    "- queue2의 4, 6, 5를 순서대로 추출하여 queue1에 추가한 뒤, queue1의 3, 2, 7, 2를 순서대로 추출하여 queue2에 추가합니다. 그 결과 queue1은 [4, 6, 5], queue2는 [1, 3, 2, 7, 2]가 되며, 각 큐의 원소 합은 15로 같습니다. 이 방법은 작업을 7번 수행합니다.\n",
    "- queue1에서 3을 추출하여 queue2에 추가합니다. 그리고 queue2에서 4를 추출하여 queue1에 추가합니다. 그 결과 queue1은 [2, 7, 2, 4], queue2는 [6, 5, 1, 3]가 되며, 각 큐의 원소 합은 15로 같습니다. 이 방법은 작업을 2번만 수행하며, 이보다 적은 횟수로 목표를 달성할 수 없습니다.\n",
    "- 따라서 각 큐의 원소 합을 같게 만들기 위해 필요한 작업의 최소 횟수는 2입니다.\n",
    "\n",
    "길이가 같은 두 개의 큐를 나타내는 정수 배열 queue1, queue2가 매개변수로 주어집니다. \n",
    "\n",
    "각 큐의 원소 합을 같게 만들기 위해 필요한 작업의 최소 횟수를 return 하도록 solution 함수를 완성해주세요. 단, 어떤 방법으로도 각 큐의 원소 합을 같게 만들 수 없는 경우, -1을 return 해주세요.\n",
    "\n",
    "제한사항\n",
    "\n",
    "- 1 ≤ queue1의 길이 = queue2의 길이 ≤ 300,000\n",
    "- 1 ≤ queue1의 원소, queue2의 원소 ≤ 109\n",
    "- 주의: 언어에 따라 합 계산 과정 중 산술 오버플로우 발생 가능성이 있으므로 long type 고려가 필요합니다.\n",
    "\n",
    "입출력 예\n",
    "\n",
    "|queue1|queue2|result|\n",
    "|:--:|:--:|:--:|\n",
    "|[3, 2, 7, 2] | [4, 6, 5, 1] | 2 |\n",
    "|[1, 2, 1, 2] | [1, 10, 1, 2] | 7 |\n",
    "|[1, 1] | [1, 5] | 1 |\n",
    "\n",
    "입출력 예 설명\n",
    "\n",
    "입출력 예 #1\n",
    "\n",
    "문제 예시와 같습니다.\n",
    "\n",
    "입출력 예 #2\n",
    "\n",
    "두 큐에 담긴 모든 원소의 합은 20입니다. 따라서, 각 큐의 합을 10으로 만들어야 합니다. queue2에서 1, 10을 순서대로 추출하여 queue1에 추가하고, queue1에서 1, 2, 1, 2와 1(queue2으로부터 받은 원소)을 순서대로 추출하여 queue2에 추가합니다. 그 결과 queue1은 [10], queue2는 [1, 2, 1, 2, 1, 2, 1]가 되며, 각 큐의 원소 합은 10으로 같습니다. 이때 작업 횟수는 7회이며, 이보다 적은 횟수로 목표를 달성하는 방법은 없습니다. 따라서 7를 return 합니다.\n",
    "\n",
    "입출력 예 #3\n",
    "\n",
    "어떤 방법을 쓰더라도 각 큐의 원소 합을 같게 만들 수 없습니다. 따라서 -1을 return 합니다."
   ]
  },
  {
   "cell_type": "markdown",
   "id": "6d9e5e83-7ea3-4300-b91f-1d2260cf1b89",
   "metadata": {},
   "source": []
  },
  {
   "cell_type": "code",
   "execution_count": null,
   "id": "1aa84d20-a20c-44d2-8d42-0aa5be601dea",
   "metadata": {},
   "outputs": [],
   "source": []
  }
 ],
 "metadata": {
  "kernelspec": {
   "display_name": "Python 3 (ipykernel)",
   "language": "python",
   "name": "python3"
  },
  "language_info": {
   "codemirror_mode": {
    "name": "ipython",
    "version": 3
   },
   "file_extension": ".py",
   "mimetype": "text/x-python",
   "name": "python",
   "nbconvert_exporter": "python",
   "pygments_lexer": "ipython3",
   "version": "3.8.12"
  }
 },
 "nbformat": 4,
 "nbformat_minor": 5
}
