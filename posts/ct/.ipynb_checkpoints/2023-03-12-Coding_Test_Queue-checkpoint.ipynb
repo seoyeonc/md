{
 "cells": [
  {
   "cell_type": "raw",
   "id": "8af92824-3fa6-4e30-a1ba-77e375624b03",
   "metadata": {
    "id": "cac470df-29e7-4148-9bbd-d8b9a32fa570",
    "tags": []
   },
   "source": [
    "---\n",
    "title: \"Queue\"\n",
    "author: \"SEOYEON CHOI\"\n",
    "date: \"2023-03-19\"\n",
    "categories:\n",
    "  - Coding Test\n",
    "---"
   ]
  },
  {
   "cell_type": "markdown",
   "id": "43769e8c-ccc0-4f6c-8ce9-6c08ef4eac22",
   "metadata": {},
   "source": [
    "> Queue"
   ]
  },
  {
   "cell_type": "markdown",
   "id": "0cba47e0-1b9a-472d-9ef0-1bdda293a308",
   "metadata": {},
   "source": [
    "# Queue"
   ]
  },
  {
   "cell_type": "markdown",
   "id": "d37ff159-d52e-4d39-a73a-8ac58f4bc24b",
   "metadata": {},
   "source": [
    "## Queue을 통해 사용하는 기능"
   ]
  },
  {
   "cell_type": "markdown",
   "id": "215a2939-faf1-455c-ba9b-18dc9c916034",
   "metadata": {},
   "source": [
    "1. `push`: 데이터를 큐에 추가한다.(큐의 전단부터 후단으로 차곡차곡 쌓는다.\n",
    "2. `pop`: 큐의 가장 앞(전단) 데이터를 삭제한다.\n",
    "3. `size`: 큐에 데이터가 몇 개 들어있는지 확인한다.\n",
    "4. `empty`: 큐가 비어 있는지 확인한다.(데이터가 없는지 확인)\n",
    "5. `front`: 큐의 가장 앞(전단) 데이터가 무엇인지 확인한다.\n",
    "6. `back`: 큐의 가장 뒤(후단) 데이터가 무엇인지 확인한다."
   ]
  },
  {
   "cell_type": "markdown",
   "id": "04dc1bde-f19a-4f0a-8d99-93030501afcc",
   "metadata": {},
   "source": [
    "$\\star$ 파이썬에서 queue를 사용하기 위해 deque라는 라이브러리를 이용한다. $\\to$ stack과 queue의 기능을 합친 것이다."
   ]
  },
  {
   "cell_type": "markdown",
   "id": "e24569c1-74b1-4f83-9f13-6f830c358dc4",
   "metadata": {},
   "source": [
    "# [카드 2](https://www.acmicpc.net/problem/2164)"
   ]
  },
  {
   "cell_type": "markdown",
   "id": "818e474e-0895-4618-8687-179837bb7eda",
   "metadata": {},
   "source": [
    "$N$장의 카드가 있다. 각각의 카드는 차례로 $1$부터 $N$까지의 번호가 붙어 있으며, $1$번 카드가 제일 위에, $N$번 카드가 제일 아래인 상태로 순서대로 카드가 놓여 있다.\n",
    "\n",
    "이제 다음과 같은 동작을 카드가 한 장 남을 때까지 반복하게 된다. 우선, 제일 위에 있는 카드를 바닥에 버린다. 그 다음, 제일 위에 있는 카드를 제일 아래에 있는 카드 밑으로 옮긴다.\n",
    "\n",
    "예를 들어 $N=4$인 경우를 생각해 보자. 카드는 제일 위에서부터 $1234$ 의 순서로 놓여있다. $1$을 버리면 $234$가 남는다. 여기서 $2$를 제일 아래로 옮기면 $342$가 된다. $3$을 버리면 $42$가 되고, $4$를 밑으로 옮기면 $24$가 된다. 마지막으로 $2$를 버리고 나면, 남는 카드는 $4$가 된다.\n",
    "\n",
    "$N$이 주어졌을 때, 제일 마지막에 남게 되는 카드를 구하는 프로그램을 작성하시오."
   ]
  },
  {
   "cell_type": "code",
   "execution_count": 5,
   "id": "ff81374b-4cb3-472f-9dd2-46ab0b28c300",
   "metadata": {},
   "outputs": [
    {
     "name": "stdout",
     "output_type": "stream",
     "text": [
      "<built-in method popleft of collections.deque object at 0x7ff9ee947880>\n"
     ]
    }
   ],
   "source": [
    "import sys\n",
    "from collections import deque\n",
    "\n",
    "# N = int(sys.stdin.readline())\n",
    "N=6\n",
    "queue = deque()\n",
    "for i in range(N):\n",
    "    queue.append(N-i)\n",
    "\n",
    "while len(queue) > 1:\n",
    "    queue.pop()\n",
    "    queue.appendleft(queue.pop())\n",
    "    \n",
    "print (queue.popleft) "
   ]
  },
  {
   "cell_type": "code",
   "execution_count": 6,
   "id": "972386ac-53dd-4634-936f-54afdf2b6717",
   "metadata": {},
   "outputs": [
    {
     "data": {
      "text/plain": [
       "deque([4])"
      ]
     },
     "execution_count": 6,
     "metadata": {},
     "output_type": "execute_result"
    }
   ],
   "source": [
    "queue"
   ]
  },
  {
   "cell_type": "markdown",
   "id": "8e5fc182-454b-4661-b286-66098f50b9ad",
   "metadata": {},
   "source": [
    "- `queue.popleft()` $\\to$ dequeue의 전단을 삭제한다.\n",
    "- `queue.pop()` $\\to$ dequeue의 후단을 삭제한다.\n",
    "- `queue.append(데이터)` $\\to$ dequeue의 후단에 데이터를 삽입한다.\n",
    "- `queue.appendleft()` $\\to$ dequeue의 전단에 데이터를 삽입한다."
   ]
  },
  {
   "cell_type": "code",
   "execution_count": 35,
   "id": "79704e77-64c0-4281-9621-240c42fbd0a6",
   "metadata": {},
   "outputs": [],
   "source": [
    "_queue = deque()"
   ]
  },
  {
   "cell_type": "code",
   "execution_count": 36,
   "id": "4626b81f-9a4e-45a7-b978-009c749be0e1",
   "metadata": {},
   "outputs": [],
   "source": [
    "_queue.appendleft(3)\n",
    "_queue.appendleft(2)\n",
    "_queue.appendleft(1)"
   ]
  },
  {
   "cell_type": "code",
   "execution_count": 37,
   "id": "f89a8e7e-465d-4e0b-94c9-dea0f809a448",
   "metadata": {},
   "outputs": [
    {
     "data": {
      "text/plain": [
       "deque([1, 2, 3])"
      ]
     },
     "execution_count": 37,
     "metadata": {},
     "output_type": "execute_result"
    }
   ],
   "source": [
    "_queue"
   ]
  },
  {
   "cell_type": "code",
   "execution_count": 38,
   "id": "c67449fd-fbed-403d-8cc7-b418f181e952",
   "metadata": {},
   "outputs": [],
   "source": [
    "_queue.append(4)\n",
    "_queue.append(5)"
   ]
  },
  {
   "cell_type": "code",
   "execution_count": 39,
   "id": "37e5c085-df62-4bc2-9dd0-0740df7a0420",
   "metadata": {},
   "outputs": [
    {
     "data": {
      "text/plain": [
       "deque([1, 2, 3, 4, 5])"
      ]
     },
     "execution_count": 39,
     "metadata": {},
     "output_type": "execute_result"
    }
   ],
   "source": [
    "_queue"
   ]
  },
  {
   "cell_type": "code",
   "execution_count": 40,
   "id": "c512578e-8451-4544-a004-f5bc5dcb88b8",
   "metadata": {},
   "outputs": [
    {
     "data": {
      "text/plain": [
       "deque([2, 3, 4, 5])"
      ]
     },
     "execution_count": 40,
     "metadata": {},
     "output_type": "execute_result"
    }
   ],
   "source": [
    "_queue.popleft()\n",
    "_queue"
   ]
  },
  {
   "cell_type": "code",
   "execution_count": 41,
   "id": "32859439-4370-4548-bd3f-a11c4f7b233f",
   "metadata": {},
   "outputs": [
    {
     "data": {
      "text/plain": [
       "deque([2, 3, 4])"
      ]
     },
     "execution_count": 41,
     "metadata": {},
     "output_type": "execute_result"
    }
   ],
   "source": [
    "_queue.pop()\n",
    "_queue"
   ]
  },
  {
   "cell_type": "markdown",
   "id": "0306b05f-5aaf-49b0-8a4e-394df81a47ba",
   "metadata": {},
   "source": [
    "---"
   ]
  },
  {
   "cell_type": "markdown",
   "id": "e5227a25-ee3b-4e37-a129-1b9303c782b4",
   "metadata": {},
   "source": [
    "# [Dummy](https://www.acmicpc.net/problem/3190)"
   ]
  },
  {
   "cell_type": "code",
   "execution_count": null,
   "id": "b2295d0f-045d-4f25-9408-4a53836b9328",
   "metadata": {},
   "outputs": [],
   "source": [
    " "
   ]
  }
 ],
 "metadata": {
  "kernelspec": {
   "display_name": "Python 3 (ipykernel)",
   "language": "python",
   "name": "python3"
  },
  "language_info": {
   "codemirror_mode": {
    "name": "ipython",
    "version": 3
   },
   "file_extension": ".py",
   "mimetype": "text/x-python",
   "name": "python",
   "nbconvert_exporter": "python",
   "pygments_lexer": "ipython3",
   "version": "3.8.12"
  }
 },
 "nbformat": 4,
 "nbformat_minor": 5
}
