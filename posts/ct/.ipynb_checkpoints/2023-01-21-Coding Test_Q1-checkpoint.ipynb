{
 "cells": [
  {
   "cell_type": "raw",
   "id": "d1fba9d6-95cb-4dda-8d2a-7cb25471c4f7",
   "metadata": {
    "id": "cac470df-29e7-4148-9bbd-d8b9a32fa570",
    "tags": []
   },
   "source": [
    "---\n",
    "title: \"성격 유형 검사하기\"\n",
    "author: \"SEOYEON CHOI\"\n",
    "date: \"2023-01-21\"\n",
    "categories:\n",
    "  - Coding Test\n",
    "---"
   ]
  },
  {
   "cell_type": "markdown",
   "id": "9b5fc3bb-db1b-44ee-9868-d88326e46e52",
   "metadata": {},
   "source": [
    "> 2022:KAKAO TECH INTERNSHIP"
   ]
  },
  {
   "cell_type": "markdown",
   "id": "69ce8b67-d05d-4ebc-8340-e255245adcf6",
   "metadata": {},
   "source": [
    "# 문제 설명"
   ]
  },
  {
   "cell_type": "markdown",
   "id": "eb46689e-6008-480c-8b13-3c673dc3700d",
   "metadata": {},
   "source": [
    "나만의 카카오 성격 유형 검사지를 만들려고 합니다.\n",
    "\n",
    "성격 유형 검사는 다음과 같은 4개 지표로 성격 유형을 구분합니다. 성격은 각 지표에서 두 유형 중 하나로 결정됩니다.\n",
    "\n",
    "|지표 번호|성격 유형|\n",
    "|:--:|:--:|\n",
    "|1번 지표|라이언형(R), 튜브형(T)|\n",
    "|2번 지표|콘형(C), 프로도형(F)|\n",
    "|3번 지표|제이지형(J), 무지형(M)|\n",
    "|4번 지표|어피치형(A), 네오형(N)|\n",
    "\n",
    "4개의 지표가 있으므로 성격 유형은 총 16(=2 x 2 x 2 x 2)가지가 나올 수 있습니다. 예를 들어, \"RFMN\"이나 \"TCMA\"와 같은 성격 유형이 있습니다.\n",
    "\n",
    "검사지에는 총 n개의 질문이 있고, 각 질문에는 아래와 같은 7개의 선택지가 있습니다.\n",
    "\n",
    "|매우 비동의|\n",
    "|--|\n",
    "|비동의|\n",
    "|약간 비동의|\n",
    "|모르겠음|\n",
    "|약간 동의|\n",
    "|동의|\n",
    "|매우 동의|\n",
    "\n",
    "각 질문은 1가지 지표로 성격 유형 점수를 판단합니다.\n",
    "\n",
    "예를 들어, 어떤 한 질문에서 4번 지표로 아래 표처럼 점수를 매길 수 있습니다.\n",
    "\n",
    "|선택지|성격 유형 점수|\n",
    "|:--|:--|\n",
    "|매우 비동의|네오형 3점|\n",
    "|비동의|네오형 2점|\n",
    "|약간 비동의|네오형 1점|\n",
    "|모르겠음|어떤 성격 유형도 점수를 얻지 않습니다|\n",
    "|약간 동의|어피치형 1점|\n",
    "|동의|어피치형 2점|\n",
    "|매우 동의|어피치형 3점|\n",
    "\n",
    "이때 검사자가 질문에서 약간 동의 선택지를 선택할 경우 어피치형(A) 성격 유형 1점을 받게 됩니다. 만약 검사자가 매우 비동의 선택지를 선택할 경우 네오형(N) 성격 유형 3점을 받게 됩니다.\n",
    "\n",
    "위 예시처럼 네오형이 비동의, 어피치형이 동의인 경우만 주어지지 않고, 질문에 따라 네오형이 동의, 어피치형이 비동의인 경우도 주어질 수 있습니다.\n",
    "\n",
    "하지만 각 선택지는 고정적인 크기의 점수를 가지고 있습니다.\n",
    "\n",
    "- 매우 동의나 매우 비동의 선택지를 선택하면 3점을 얻습니다.\n",
    "- 동의나 비동의 선택지를 선택하면 2점을 얻습니다.\n",
    "- 약간 동의나 약간 비동의 선택지를 선택하면 1점을 얻습니다.\n",
    "- 모르겠음 선택지를 선택하면 점수를 얻지 않습니다.\n",
    "\n",
    "검사 결과는 모든 질문의 성격 유형 점수를 더하여 각 지표에서 더 높은 점수를 받은 성격 유형이 검사자의 성격 유형이라고 판단합니다. 단, 하나의 지표에서 각 성격 유형 점수가 같으면, 두 성격 유형 중 사전 순으로 빠른 성격 유형을 검사자의 성격 유형이라고 판단합니다.\n",
    "\n",
    "질문마다 판단하는 지표를 담은 1차원 문자열 배열 survey와 검사자가 각 질문마다 선택한 선택지를 담은 1차원 정수 배열 choices가 매개변수로 주어집니다. 이때, 검사자의 성격 유형 검사 결과를 지표 번호 순서대로 return 하도록 solution 함수를 완성해주세요.\n",
    "\n",
    "제한사항\n",
    "\n",
    "- 1 ≤ survey의 길이 ( = n) ≤ 1,000\n",
    "- survey의 원소는 \"RT\", \"TR\", \"FC\", \"CF\", \"MJ\", \"JM\", \"AN\", \"NA\" 중 하나입니다.\n",
    "- survey[i]의 첫 번째 캐릭터는 i+1번 질문의 비동의 관련 선택지를 선택하면 받는 성격 유형을 의미합니다.\n",
    "- survey[i]의 두 번째 캐릭터는 i+1번 질문의 동의 관련 선택지를 선택하면 받는 성격 유형을 의미합니다.\n",
    "- choices의 길이 = survey의 길이\n",
    "\n",
    "choices[i]는 검사자가 선택한 i+1번째 질문의 선택지를 의미합니다.\n",
    "\n",
    "- 1 ≤ choices의 원소 ≤ 7\n",
    "\n",
    "|choices|뜻|\n",
    "|:--:|:--:|\n",
    "|1|매우 비동의|\n",
    "|2|비동의|\n",
    "|3|약간 비동의|\n",
    "|4|모르겠음|\n",
    "|5|약간 동의|\n",
    "|6|동의|\n",
    "|7|매우 동의|\n",
    "\n",
    "입출력 예\n",
    "\n",
    "|survey|choices|result|\n",
    "|--|--|--|\n",
    "|[\"AN\", \"CF\", \"MJ\", \"RT\", \"NA\"]|[5, 3, 2, 7, 5]|\"TCMA\"|\n",
    "|[\"TR\", \"RT\", \"TR\"]|[7, 1, 3]|\"RCJA\"|"
   ]
  },
  {
   "cell_type": "markdown",
   "id": "cb8a269e-98c5-48aa-8ffb-bd91ba98bb4b",
   "metadata": {},
   "source": [
    "**answer**"
   ]
  },
  {
   "cell_type": "code",
   "execution_count": 144,
   "id": "ed0f9a8d-50ae-4366-97c9-9a07579637cc",
   "metadata": {},
   "outputs": [],
   "source": [
    "def solution(survey, choices):\n",
    "    answer = ''\n",
    "    a = {'R':0,'T':0,'F':0,'C':0,'M':0,'J':0,'N':0,'A':0}\n",
    "    \n",
    "    for i in range(len(choices)):\n",
    "        if choices[i] > 4:\n",
    "            choices[i] = choices[i] - 4\n",
    "    \n",
    "    for i in range(len(survey)):\n",
    "        if survey[i][0] < survey[i][1]:\n",
    "            if choices[i] == 1:\n",
    "                a[survey[i][0]] = a[survey[i][0]] + 3\n",
    "            elif choices[i] == 2:\n",
    "                a[survey[i][0]] = a[survey[i][0]] + choices[i]\n",
    "            elif choices[i] == 3:\n",
    "                a[survey[i][0]] = a[survey[i][0]] + 1\n",
    "        if survey[i][0] > survey[i][1]:\n",
    "            if choices[i] == 1:\n",
    "                a[survey[i][1]] = a[survey[i][1]] + choices[i]\n",
    "            elif choices[i] == 2:\n",
    "                a[survey[i][1]] = a[survey[i][1]] + choices[i]\n",
    "            elif choices[i] == 3:\n",
    "                a[survey[i][1]] = a[survey[i][1]] + choices[i]     \n",
    "\n",
    "    if a['R']>a['T']:\n",
    "        answer += 'R'\n",
    "    else: answer += 'T'\n",
    "        \n",
    "    if a['F']>a['C']:\n",
    "        answer += 'F'\n",
    "    else: answer += 'C'\n",
    "        \n",
    "    if a['M']>a['J']:\n",
    "        answer += 'M'\n",
    "    else: answer += 'J'\n",
    "        \n",
    "    if a['N']>a['A']:\n",
    "        answer += 'N'\n",
    "    else: answer += 'A'\n",
    "    \n",
    "    return answer"
   ]
  },
  {
   "cell_type": "code",
   "execution_count": 150,
   "id": "b0d3c372-10bc-4d97-90b5-8fa6596b1137",
   "metadata": {},
   "outputs": [],
   "source": [
    "a = {'R':0,'T':0,'F':0,'C':0,'M':0,'J':0,'N':0,'A':0}"
   ]
  },
  {
   "cell_type": "code",
   "execution_count": 151,
   "id": "b980d272-666f-49db-a72b-e1d303734658",
   "metadata": {},
   "outputs": [
    {
     "data": {
      "text/plain": [
       "0"
      ]
     },
     "execution_count": 151,
     "metadata": {},
     "output_type": "execute_result"
    }
   ],
   "source": [
    "a['R']"
   ]
  },
  {
   "cell_type": "code",
   "execution_count": 152,
   "id": "c3f67d49-92ee-41fd-84c1-9676674c02fd",
   "metadata": {},
   "outputs": [],
   "source": [
    "c = [5, 3, 2, 7, 5]"
   ]
  },
  {
   "cell_type": "code",
   "execution_count": 153,
   "id": "c4d3b74b-1912-4549-a2f5-d2c55059f598",
   "metadata": {},
   "outputs": [],
   "source": [
    "for i in range(len(c)):\n",
    "    if c[i] > 4:\n",
    "        c[i] = c[i] - 4"
   ]
  },
  {
   "cell_type": "code",
   "execution_count": 154,
   "id": "a1a190d9-d07e-4ae4-8e91-6363dfd75421",
   "metadata": {},
   "outputs": [
    {
     "data": {
      "text/plain": [
       "[1, 3, 2, 3, 1]"
      ]
     },
     "execution_count": 154,
     "metadata": {},
     "output_type": "execute_result"
    }
   ],
   "source": [
    "c"
   ]
  },
  {
   "cell_type": "code",
   "execution_count": 155,
   "id": "0dfceb4b-33ad-4450-a117-89c50db44ce0",
   "metadata": {},
   "outputs": [],
   "source": [
    "b = [\"AN\", \"CF\", \"MJ\", \"RT\", \"NA\"]"
   ]
  },
  {
   "cell_type": "code",
   "execution_count": 156,
   "id": "36159dfd-ca99-4316-85e2-b4c816691d0a",
   "metadata": {},
   "outputs": [],
   "source": [
    "for i in range(len(b)):\n",
    "    if b[i][0] < b[i][1]:\n",
    "        if c[i] == 1:\n",
    "            a[b[i][0]] = a[b[i][0]] + 3\n",
    "        elif c[i] == 2:\n",
    "            a[b[i][0]] = a[b[i][0]] + c[i]\n",
    "        elif c[i] == 3:\n",
    "            a[b[i][0]] = a[b[i][0]] + 1\n",
    "    if b[i][0] > b[i][1]:\n",
    "        if c[i] == 1:\n",
    "            a[b[i][1]] = a[b[i][1]] + c[i]\n",
    "        elif c[i] == 2:\n",
    "            a[b[i][1]] = a[b[i][1]] + c[i]\n",
    "        elif c[i] == 3:\n",
    "            a[b[i][1]] = a[b[i][1]] + c[i]    "
   ]
  },
  {
   "cell_type": "code",
   "execution_count": null,
   "id": "8366d603-b483-4a1a-8c02-4431890f6d1c",
   "metadata": {},
   "outputs": [],
   "source": []
  },
  {
   "cell_type": "code",
   "execution_count": 157,
   "id": "e23b06b4-4294-4b89-b8f5-23a9a9d3e4b2",
   "metadata": {},
   "outputs": [
    {
     "data": {
      "text/plain": [
       "True"
      ]
     },
     "execution_count": 157,
     "metadata": {},
     "output_type": "execute_result"
    }
   ],
   "source": [
    "b[3][0] < b[3][1]"
   ]
  },
  {
   "cell_type": "code",
   "execution_count": null,
   "id": "3a6f4d70-d60f-4ed5-b8d0-d927bc8dd149",
   "metadata": {},
   "outputs": [],
   "source": []
  },
  {
   "cell_type": "code",
   "execution_count": 158,
   "id": "dc08b6ed-e17a-4327-9c12-f61b14ce2113",
   "metadata": {},
   "outputs": [
    {
     "data": {
      "text/plain": [
       "{'R': 1, 'T': 0, 'F': 0, 'C': 1, 'M': 0, 'J': 2, 'N': 0, 'A': 4}"
      ]
     },
     "execution_count": 158,
     "metadata": {},
     "output_type": "execute_result"
    }
   ],
   "source": [
    "a"
   ]
  },
  {
   "cell_type": "code",
   "execution_count": 159,
   "id": "7bd324ab-5b9c-46e2-aa4b-7a5bfda76f02",
   "metadata": {},
   "outputs": [
    {
     "data": {
      "text/plain": [
       "1"
      ]
     },
     "execution_count": 159,
     "metadata": {},
     "output_type": "execute_result"
    }
   ],
   "source": [
    "a['R']"
   ]
  },
  {
   "cell_type": "code",
   "execution_count": 129,
   "id": "ec1c2b05-19ec-4c49-be78-0bac110305ea",
   "metadata": {},
   "outputs": [
    {
     "data": {
      "text/plain": [
       "dict"
      ]
     },
     "execution_count": 129,
     "metadata": {},
     "output_type": "execute_result"
    }
   ],
   "source": [
    "type(a)"
   ]
  },
  {
   "cell_type": "code",
   "execution_count": 137,
   "id": "257ce3dc-d6de-4686-8b0f-b7e5bd496ae6",
   "metadata": {},
   "outputs": [],
   "source": [
    "d = []"
   ]
  },
  {
   "cell_type": "code",
   "execution_count": 138,
   "id": "da48d5fc-787f-4891-8936-e3f1294118f2",
   "metadata": {},
   "outputs": [],
   "source": [
    "if a['R']>a['T']:\n",
    "    d += 'R'\n",
    "else: d += 'T'\n",
    "if a['F']>a['C']:\n",
    "    d += 'F'\n",
    "else: d += 'C'\n",
    "if a['M']>a['J']:\n",
    "    d += 'M'\n",
    "else: d += 'J'\n",
    "if a['N']>a['A']:\n",
    "    d += 'N'\n",
    "else: d += 'A'"
   ]
  },
  {
   "cell_type": "code",
   "execution_count": 139,
   "id": "591ea416-45c1-4606-8d4a-60c4f903bf0e",
   "metadata": {},
   "outputs": [
    {
     "data": {
      "text/plain": [
       "['R', 'C', 'M', 'A']"
      ]
     },
     "execution_count": 139,
     "metadata": {},
     "output_type": "execute_result"
    }
   ],
   "source": [
    "d"
   ]
  },
  {
   "cell_type": "code",
   "execution_count": null,
   "id": "ef4e86f4-3e73-47fb-84b0-fd31bdbd18b6",
   "metadata": {},
   "outputs": [],
   "source": []
  },
  {
   "cell_type": "code",
   "execution_count": 119,
   "id": "f30587e1-fc0b-4578-94b9-8f7eec75e601",
   "metadata": {},
   "outputs": [
    {
     "data": {
      "text/plain": [
       "'RCMA'"
      ]
     },
     "execution_count": 119,
     "metadata": {},
     "output_type": "execute_result"
    }
   ],
   "source": [
    "solution([\"AN\", \"CF\", \"MJ\", \"RT\", \"NA\"],[5, 3, 2, 7, 5])"
   ]
  },
  {
   "cell_type": "code",
   "execution_count": null,
   "id": "4d5a81fa-1f1d-43c7-a71a-a8b0a6c69d8a",
   "metadata": {},
   "outputs": [],
   "source": []
  }
 ],
 "metadata": {
  "kernelspec": {
   "display_name": "Python 3 (ipykernel)",
   "language": "python",
   "name": "python3"
  },
  "language_info": {
   "codemirror_mode": {
    "name": "ipython",
    "version": 3
   },
   "file_extension": ".py",
   "mimetype": "text/x-python",
   "name": "python",
   "nbconvert_exporter": "python",
   "pygments_lexer": "ipython3",
   "version": "3.8.12"
  }
 },
 "nbformat": 4,
 "nbformat_minor": 5
}
