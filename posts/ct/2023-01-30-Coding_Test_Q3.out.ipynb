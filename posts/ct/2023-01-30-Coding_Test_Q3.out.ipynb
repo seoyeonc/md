{
  "cells": [
    {
      "cell_type": "markdown",
      "metadata": {},
      "source": [
        "# 코딩 테스트 공부(Done)\n",
        "\n",
        "SEOYEON CHOI  \n",
        "2023-01-30\n",
        "\n",
        "> 2022:KAKAO TECH INTERNSHIP\n",
        "\n",
        "문제 설명 \\[본 문제는 정확성과 효율성 테스트 각각 점수가 있는\n",
        "문제입니다.\\]\n",
        "\n",
        "당신은 코딩 테스트를 준비하기 위해 공부하려고 합니다. 코딩 테스트 문제를\n",
        "풀기 위해서는 알고리즘에 대한 지식과 코드를 구현하는 능력이 필요합니다.\n",
        "\n",
        "알고리즘에 대한 지식은 알고력, 코드를 구현하는 능력은 코딩력이라고\n",
        "표현합니다. 알고력과 코딩력은 0 이상의 정수로 표현됩니다.\n",
        "\n",
        "문제를 풀기 위해서는 문제가 요구하는 일정 이상의 알고력과 코딩력이\n",
        "필요합니다.\n",
        "\n",
        "예를 들어, 당신의 현재 알고력이 15, 코딩력이 10이라고 가정해보겠습니다.\n",
        "\n",
        "A라는 문제가 알고력 10, 코딩력 10을 요구한다면 A 문제를 풀 수 있습니다.\n",
        "\n",
        "B라는 문제가 알고력 10, 코딩력 20을 요구한다면 코딩력이 부족하기 때문에\n",
        "B 문제를 풀 수 없습니다.\n",
        "\n",
        "풀 수 없는 문제를 해결하기 위해서는 알고력과 코딩력을 높여야 합니다.\n",
        "알고력과 코딩력을 높이기 위한 다음과 같은 방법들이 있습니다.\n",
        "\n",
        "알고력을 높이기 위해 알고리즘 공부를 합니다. 알고력 1을 높이기 위해서\n",
        "1의 시간이 필요합니다.\n",
        "\n",
        "코딩력을 높이기 위해 코딩 공부를 합니다. 코딩력 1을 높이기 위해서 1의\n",
        "시간이 필요합니다.\n",
        "\n",
        "현재 풀 수 있는 문제 중 하나를 풀어 알고력과 코딩력을 높입니다. 각\n",
        "문제마다 문제를 풀면 올라가는 알고력과 코딩력이 정해져 있습니다.\n",
        "\n",
        "문제를 하나 푸는 데는 문제가 요구하는 시간이 필요하며 같은 문제를 여러\n",
        "번 푸는 것이 가능합니다.\n",
        "\n",
        "당신은 주어진 모든 문제들을 풀 수 있는 알고력과 코딩력을 얻는 최단시간을\n",
        "구하려 합니다.\n",
        "\n",
        "초기의 알고력과 코딩력을 담은 정수 alp와 cop, 문제의 정보를 담은 2차원\n",
        "정수 배열 problems가 매개변수로 주어졌을 때, 모든 문제들을 풀 수 있는\n",
        "알고력과 코딩력을 얻는 최단시간을 return 하도록 solution 함수를\n",
        "작성해주세요.\n",
        "\n",
        "모든 문제들을 1번 이상씩 풀 필요는 없습니다. 입출력 예 설명을\n",
        "참고해주세요.\n",
        "\n",
        "제한사항\n",
        "\n",
        "초기의 알고력을 나타내는 alp와 초기의 코딩력을 나타내는 cop가 입력으로\n",
        "주어집니다.\n",
        "\n",
        "$0 ≤ alp,cop ≤ 150$, $1 ≤ problems의 길이 ≤ 100$\n",
        "\n",
        "problems의 원소는 \\[alp_req, cop_req, alp_rwd, cop_rwd, cost\\]의 형태로\n",
        "이루어져 있습니다.\n",
        "\n",
        "alp_req는 문제를 푸는데 필요한 알고력입니다.\n",
        "\n",
        "$0 ≤ alp_req ≤ 150$\n",
        "\n",
        "cop_req는 문제를 푸는데 필요한 코딩력입니다.\n",
        "\n",
        "$0 ≤ cop_req ≤ 150$\n",
        "\n",
        "alp_rwd는 문제를 풀었을 때 증가하는 알고력입니다.\n",
        "\n",
        "$0 ≤ alp_rwd ≤ 30$\n",
        "\n",
        "cop_rwd는 문제를 풀었을 때 증가하는 코딩력입니다.\n",
        "\n",
        "$0 ≤ cop_rwd ≤ 30$\n",
        "\n",
        "cost는 문제를 푸는데 드는 시간입니다.\n",
        "\n",
        "$1 ≤ cost ≤ 100$\n",
        "\n",
        "정확성 테스트 케이스 제한사항\n",
        "\n",
        "$0 ≤ alp,cop ≤ 20$\n",
        "\n",
        "$1 ≤ problems의 길이 ≤ 6$\n",
        "\n",
        "$0 ≤ alp_req,cop_req ≤ 20$\n",
        "\n",
        "$0 ≤ alp_rwd,cop_rwd ≤ 5$\n",
        "\n",
        "$1 ≤ cost ≤ 10$\n",
        "\n",
        "효율성 테스트 케이스 제한사항\n",
        "\n",
        "주어진 조건 외 추가 제한사항 없습니다.\n",
        "\n",
        "입출력 예\n",
        "\n",
        "| alp | cop | problems                                                      | result |\n",
        "|-----|-----|---------------------------------------------------------------|--------|\n",
        "| 10  | 10  | \\[\\[10,15,2,1,2\\],\\[20,20,3,3,4\\]\\]                           | 15     |\n",
        "| 0   | 0   | \\[\\[0,0,2,1,2\\],\\[4,5,3,1,2\\],\\[4,11,4,0,2\\],\\[10,4,0,4,2\\]\\] | 13     |\n",
        "\n",
        "입출력 예 설명\n",
        "\n",
        "입출력 예 #1\n",
        "\n",
        "코딩력 5를 늘립니다. 알고력 10, 코딩력 15가 되며 시간이 5만큼\n",
        "소요됩니다.\n",
        "\n",
        "1번 문제를 5번 풉니다. 알고력 20, 코딩력 20이 되며 시간이 10만큼\n",
        "소요됩니다. 15의 시간을 소요하여 모든 문제를 풀 수 있는 알고력과\n",
        "코딩력을 가질 수 있습니다.\n",
        "\n",
        "입출력 예 #2\n",
        "\n",
        "1번 문제를 2번 풉니다. 알고력 4, 코딩력 2가 되며 시간이 4만큼\n",
        "소요됩니다.\n",
        "\n",
        "코딩력 3을 늘립니다. 알고력 4, 코딩력 5가 되며 시간이 3만큼 소요됩니다.\n",
        "\n",
        "2번 문제를 2번 풉니다. 알고력 10, 코딩력 7이 되며 시간이 4만큼\n",
        "소요됩니다.\n",
        "\n",
        "4번 문제를 1번 풉니다. 알고력 10, 코딩력 11이 되며 시간이 2만큼\n",
        "소요됩니다. 13의 시간을 소요하여 모든 문제를 풀 수 있는 알고력과\n",
        "코딩력을 가질 수 있습니다.\n",
        "\n",
        "제한시간 안내\n",
        "\n",
        "정확성 테스트 : 10초\n",
        "\n",
        "효율성 테스트 : 언어별로 작성된 정답 코드의 실행 시간의 적정 배수\n",
        "\n",
        "# 동적 계획법(Dynamic Programming)\n",
        "\n",
        "이미 계산을 했지만, 그 출력 결과를 바탕으로 다시 계산이 됨.(ex. 피보나치\n",
        "수열)\n",
        "\n",
        "-   top-down\n",
        "-   down-top\n",
        "\n",
        "두 가지 방식이 존재한다."
      ],
      "id": "5742a56f-94a8-44e4-8dd6-86ba2b93a82f"
    },
    {
      "cell_type": "code",
      "execution_count": 38,
      "metadata": {},
      "outputs": [],
      "source": [
        "def solution(alp, cop, problems):\n",
        "    max_alp = 0\n",
        "    max_cop = 0\n",
        "    for alp_req, cop_req, alp_rwd, cop_rwd, cost in problems:\n",
        "        max_alp = max(max_alp,alp_req)\n",
        "        max_cop = max(max_cop,cop_req)\n",
        "    \n",
        "    dp = [[float('inf')] * (max_cop + 1) for _ in range(max_alp +1)]\n",
        "    \n",
        "    alp = min(alp,max_alp)\n",
        "    cop = min(cop,max_cop)\n",
        "    \n",
        "    dp[alp][cop] = 0\n",
        "    \n",
        "    for i in range(alp, max_alp + 1):\n",
        "        for j in range(cop,max_cop +1):\n",
        "            if i < max_alp:\n",
        "                dp[i+1][j] = min(dp[i+1][j],dp[i][j]+1)\n",
        "            if j < max_cop:\n",
        "                dp[i][j+1] = min(dp[i][j+1],dp[i][j]+1)\n",
        "            for alp_req, cop_req, alp_rwd, cop_rwd, cost in problems:\n",
        "                if i >= alp_req and j >= cop_req:\n",
        "                    alp_n = min(i + alp_rwd, max_alp)\n",
        "                    cop_n = min(j + cop_rwd, max_cop)\n",
        "                    dp[alp_n][cop_n] = min(dp[alp_n][cop_n],dp[i][j] + cost)\n",
        "                    \n",
        "    return dp[max_alp][max_cop]"
      ],
      "id": "a854c3a1-8b36-4c5f-9bfa-44f405c8780a"
    },
    {
      "cell_type": "code",
      "execution_count": 39,
      "metadata": {},
      "outputs": [],
      "source": [
        "max_alp = 0\n",
        "max_cop = 0"
      ],
      "id": "6b9275ea-7b00-43d6-880c-b9a0140a4f8c"
    },
    {
      "cell_type": "code",
      "execution_count": 40,
      "metadata": {},
      "outputs": [],
      "source": [
        "problems = [[0,0,2,1,2],[4,5,3,1,2],[4,11,4,0,2],[10,4,0,4,2]]"
      ],
      "id": "73a9fca8-8e78-418d-a590-81d8a282a1e0"
    },
    {
      "cell_type": "code",
      "execution_count": 41,
      "metadata": {},
      "outputs": [],
      "source": [
        "alp = 0\n",
        "cop = 0"
      ],
      "id": "ab121785-40c2-46e4-9b05-dc7f8e870129"
    },
    {
      "cell_type": "code",
      "execution_count": 42,
      "metadata": {},
      "outputs": [],
      "source": [
        "for alp_req, cop_req, alp_rwd, cop_rwd, cost in problems:\n",
        "    max_alp = max(max_alp,alp_req)\n",
        "    max_cop = max(max_cop,cop_req)"
      ],
      "id": "13fcff32-4495-437e-8c14-8f1ff348502d"
    },
    {
      "cell_type": "code",
      "execution_count": 43,
      "metadata": {},
      "outputs": [
        {
          "output_type": "display_data",
          "metadata": {},
          "data": {
            "text/plain": [
              "(10, 11)"
            ]
          }
        }
      ],
      "source": [
        "max_alp,max_cop"
      ],
      "id": "d06dc4f5-fd26-4fee-a420-81021ef314d9"
    },
    {
      "cell_type": "code",
      "execution_count": 44,
      "metadata": {},
      "outputs": [
        {
          "output_type": "display_data",
          "metadata": {},
          "data": {
            "text/plain": [
              "[[inf, inf, inf, inf, inf, inf, inf, inf, inf, inf, inf, inf],\n",
              " [inf, inf, inf, inf, inf, inf, inf, inf, inf, inf, inf, inf],\n",
              " [inf, inf, inf, inf, inf, inf, inf, inf, inf, inf, inf, inf],\n",
              " [inf, inf, inf, inf, inf, inf, inf, inf, inf, inf, inf, inf],\n",
              " [inf, inf, inf, inf, inf, inf, inf, inf, inf, inf, inf, inf],\n",
              " [inf, inf, inf, inf, inf, inf, inf, inf, inf, inf, inf, inf],\n",
              " [inf, inf, inf, inf, inf, inf, inf, inf, inf, inf, inf, inf],\n",
              " [inf, inf, inf, inf, inf, inf, inf, inf, inf, inf, inf, inf],\n",
              " [inf, inf, inf, inf, inf, inf, inf, inf, inf, inf, inf, inf],\n",
              " [inf, inf, inf, inf, inf, inf, inf, inf, inf, inf, inf, inf],\n",
              " [inf, inf, inf, inf, inf, inf, inf, inf, inf, inf, inf, inf]]"
            ]
          }
        }
      ],
      "source": [
        "dp = [[float('inf')] * (max_cop + 1) for _ in range(max_alp +1)]\n",
        "dp"
      ],
      "id": "1a0a2879-5eac-4232-83a0-12a3049a85f1"
    },
    {
      "cell_type": "code",
      "execution_count": 45,
      "metadata": {},
      "outputs": [],
      "source": [
        "alp = min(alp,max_alp)\n",
        "cop = min(cop,max_cop)"
      ],
      "id": "74917eff-28e6-4856-97c8-d92ec942e728"
    },
    {
      "cell_type": "code",
      "execution_count": 46,
      "metadata": {},
      "outputs": [
        {
          "output_type": "display_data",
          "metadata": {},
          "data": {
            "text/plain": [
              "(0, 0)"
            ]
          }
        }
      ],
      "source": [
        "alp,cop"
      ],
      "id": "64d2892a-ee23-486d-bbcb-c4e168c6d04e"
    },
    {
      "cell_type": "code",
      "execution_count": 47,
      "metadata": {},
      "outputs": [],
      "source": [
        "dp[alp][cop] = 0"
      ],
      "id": "b243ace6-9b5f-4e2d-b292-684f4c45681b"
    },
    {
      "cell_type": "code",
      "execution_count": 48,
      "metadata": {},
      "outputs": [
        {
          "output_type": "display_data",
          "metadata": {},
          "data": {
            "text/plain": [
              "[[0, inf, inf, inf, inf, inf, inf, inf, inf, inf, inf, inf],\n",
              " [inf, inf, inf, inf, inf, inf, inf, inf, inf, inf, inf, inf],\n",
              " [inf, inf, inf, inf, inf, inf, inf, inf, inf, inf, inf, inf],\n",
              " [inf, inf, inf, inf, inf, inf, inf, inf, inf, inf, inf, inf],\n",
              " [inf, inf, inf, inf, inf, inf, inf, inf, inf, inf, inf, inf],\n",
              " [inf, inf, inf, inf, inf, inf, inf, inf, inf, inf, inf, inf],\n",
              " [inf, inf, inf, inf, inf, inf, inf, inf, inf, inf, inf, inf],\n",
              " [inf, inf, inf, inf, inf, inf, inf, inf, inf, inf, inf, inf],\n",
              " [inf, inf, inf, inf, inf, inf, inf, inf, inf, inf, inf, inf],\n",
              " [inf, inf, inf, inf, inf, inf, inf, inf, inf, inf, inf, inf],\n",
              " [inf, inf, inf, inf, inf, inf, inf, inf, inf, inf, inf, inf]]"
            ]
          }
        }
      ],
      "source": [
        "dp"
      ],
      "id": "04d896ce-2982-4ce2-b5fa-43f7c5749555"
    },
    {
      "cell_type": "code",
      "execution_count": null,
      "metadata": {},
      "outputs": [],
      "source": [
        "for i in range(alp, max_alp + 1):\n",
        "    for j in range(cop,max_cop +1):\n",
        "        if i < max_alp:\n",
        "            dp[i+1][j] = min(dp[i+1][j],dp[i][j]+1)\n",
        "        if j < max_cop:\n",
        "            dp[i][j+1] = min(dp[i][j+1],dp[i][j]+1)\n",
        "        for alp_req, cop_req, alp_rwd, cop_rwd, cost in problems:\n",
        "            if i >= alp_req and j >= cop_req:\n",
        "                alp_n = min(i + alp_rwd, max_alp)\n",
        "                cop_n = min(j + cop_rwd, max_cop)\n",
        "                dp[alp_n][cop_n] = min(dp[alp_n][cop_n],dp[i][j] + cost)\n",
        "return dp[max_alp][max_cop]"
      ],
      "id": "ac14d35d-2058-4320-9764-4778549a2fbc"
    }
  ],
  "nbformat": 4,
  "nbformat_minor": 5,
  "metadata": {
    "kernelspec": {
      "name": "python3",
      "display_name": "Python 3 (ipykernel)",
      "language": "python"
    },
    "language_info": {
      "name": "python",
      "codemirror_mode": {
        "name": "ipython",
        "version": "3"
      },
      "file_extension": ".py",
      "mimetype": "text/x-python",
      "nbconvert_exporter": "python",
      "pygments_lexer": "ipython3",
      "version": "3.8.12"
    }
  }
}