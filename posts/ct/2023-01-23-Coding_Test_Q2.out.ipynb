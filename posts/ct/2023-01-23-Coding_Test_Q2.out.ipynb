{
  "cells": [
    {
      "cell_type": "markdown",
      "metadata": {},
      "source": [
        "# 두 큐 합 같게 만들기(Done)\n",
        "\n",
        "SEOYEON CHOI  \n",
        "2023-01-23\n",
        "\n",
        "> 2022:KAKAO TECH INTERNSHIP\n",
        "\n",
        "문제 설명\n",
        "\n",
        "길이가 같은 두 개의 큐가 주어집니다.\n",
        "\n",
        "하나의 큐를 골라 원소를 추출(pop)하고, 추출된 원소를 다른 큐에\n",
        "집어넣는(insert) 작업을 통해 각 큐의 원소 합이 같도록 만들려고 합니다.\n",
        "\n",
        "이때 필요한 작업의 최소 횟수를 구하고자 합니다.\n",
        "\n",
        "한 번의 pop과 한 번의 insert를 합쳐서 작업을 1회 수행한 것으로\n",
        "간주합니다.\n",
        "\n",
        "큐는 먼저 집어넣은 원소가 먼저 나오는 구조입니다.\n",
        "\n",
        "이 문제에서는 큐를 배열로 표현하며, 원소가 배열 앞쪽에 있을수록 먼저\n",
        "집어넣은 원소임을 의미합니다.\n",
        "\n",
        "즉, pop을 하면 배열의 첫 번째 원소가 추출되며, insert를 하면 배열의 끝에\n",
        "원소가 추가됩니다.\n",
        "\n",
        "예를 들어 큐 \\[1, 2, 3, 4\\]가 주어졌을 때, pop을 하면 맨 앞에 있는 원소\n",
        "1이 추출되어 \\[2, 3, 4\\]가 되며, 이어서 5를 insert하면 \\[2, 3, 4, 5\\]가\n",
        "됩니다.\n",
        "\n",
        "다음은 두 큐를 나타내는 예시입니다.\n",
        "\n",
        "``` python\n",
        "queue1 = [3, 2, 7, 2]\n",
        "queue2 = [4, 6, 5, 1]\n",
        "```\n",
        "\n",
        "두 큐에 담긴 모든 원소의 합은 30입니다.\n",
        "\n",
        "따라서, 각 큐의 합을 15로 만들어야 합니다.\n",
        "\n",
        "예를 들어, 다음과 같이 2가지 방법이 있습니다.\n",
        "\n",
        "-   queue2의 4, 6, 5를 순서대로 추출하여 queue1에 추가한 뒤, queue1의 3,\n",
        "    2, 7, 2를 순서대로 추출하여 queue2에 추가합니다. 그 결과 queue1은\n",
        "    \\[4, 6, 5\\], queue2는 \\[1, 3, 2, 7, 2\\]가 되며, 각 큐의 원소 합은\n",
        "    15로 같습니다. 이 방법은 작업을 7번 수행합니다.\n",
        "-   queue1에서 3을 추출하여 queue2에 추가합니다. 그리고 queue2에서 4를\n",
        "    추출하여 queue1에 추가합니다. 그 결과 queue1은 \\[2, 7, 2, 4\\],\n",
        "    queue2는 \\[6, 5, 1, 3\\]가 되며, 각 큐의 원소 합은 15로 같습니다. 이\n",
        "    방법은 작업을 2번만 수행하며, 이보다 적은 횟수로 목표를 달성할 수\n",
        "    없습니다.\n",
        "-   따라서 각 큐의 원소 합을 같게 만들기 위해 필요한 작업의 최소 횟수는\n",
        "    2입니다.\n",
        "\n",
        "길이가 같은 두 개의 큐를 나타내는 정수 배열 queue1, queue2가 매개변수로\n",
        "주어집니다.\n",
        "\n",
        "각 큐의 원소 합을 같게 만들기 위해 필요한 작업의 최소 횟수를 return\n",
        "하도록 solution 함수를 완성해주세요. 단, 어떤 방법으로도 각 큐의 원소\n",
        "합을 같게 만들 수 없는 경우, -1을 return 해주세요.\n",
        "\n",
        "제한사항\n",
        "\n",
        "-   1 ≤ queue1의 길이 = queue2의 길이 ≤ 300,000\n",
        "-   1 ≤ queue1의 원소, queue2의 원소 ≤ 109\n",
        "-   주의: 언어에 따라 합 계산 과정 중 산술 오버플로우 발생 가능성이\n",
        "    있으므로 long type 고려가 필요합니다.\n",
        "\n",
        "입출력 예\n",
        "\n",
        "|     queue1     |     queue2      | result |\n",
        "|:--------------:|:---------------:|:------:|\n",
        "| \\[3, 2, 7, 2\\] | \\[4, 6, 5, 1\\]  |   2    |\n",
        "| \\[1, 2, 1, 2\\] | \\[1, 10, 1, 2\\] |   7    |\n",
        "|    \\[1, 1\\]    |    \\[1, 5\\]     |   1    |\n",
        "\n",
        "입출력 예 설명\n",
        "\n",
        "입출력 예 #1\n",
        "\n",
        "문제 예시와 같습니다.\n",
        "\n",
        "입출력 예 #2\n",
        "\n",
        "두 큐에 담긴 모든 원소의 합은 20입니다. 따라서, 각 큐의 합을 10으로\n",
        "만들어야 합니다. queue2에서 1, 10을 순서대로 추출하여 queue1에 추가하고,\n",
        "queue1에서 1, 2, 1, 2와 1(queue2으로부터 받은 원소)을 순서대로 추출하여\n",
        "queue2에 추가합니다. 그 결과 queue1은 \\[10\\], queue2는 \\[1, 2, 1, 2, 1,\n",
        "2, 1\\]가 되며, 각 큐의 원소 합은 10으로 같습니다. 이때 작업 횟수는\n",
        "7회이며, 이보다 적은 횟수로 목표를 달성하는 방법은 없습니다. 따라서 7를\n",
        "return 합니다.\n",
        "\n",
        "입출력 예 #3\n",
        "\n",
        "어떤 방법을 쓰더라도 각 큐의 원소 합을 같게 만들 수 없습니다. 따라서\n",
        "-1을 return 합니다.\n",
        "\n",
        "**answer**"
      ],
      "id": "b9e43160-9843-4231-a1c1-d627515f04a2"
    },
    {
      "cell_type": "code",
      "execution_count": 10,
      "metadata": {},
      "outputs": [],
      "source": [
        "from collections import deque\n",
        "\n",
        "def solution(queue1, queue2):\n",
        "    answer = -1\n",
        "    q1, q2 = deque(queue1),deque(queue2)\n",
        "    s2 = sum(q1 + q2)/2\n",
        "    s1 = sum(q1)\n",
        "    count = 0\n",
        "    if max(q1) > s2 or max(q2)>s2:\n",
        "        return -1\n",
        "        \n",
        "    while q1 and q2:\n",
        "        if s1 > s2:\n",
        "            s1 -= q1.popleft()\n",
        "            count += 1\n",
        "        elif s1 < s2:\n",
        "            add = q2.popleft()\n",
        "            q1.append(add)\n",
        "            s1 += add\n",
        "            count += 1\n",
        "        elif s1 == s2:\n",
        "            return count\n",
        "    return answer"
      ],
      "id": "01bac700-bc6e-4da7-a521-be7d6204208e"
    },
    {
      "cell_type": "code",
      "execution_count": 45,
      "metadata": {},
      "outputs": [],
      "source": [
        "queue1 = [3, 2, 7, 2]"
      ],
      "id": "1aa84d20-a20c-44d2-8d42-0aa5be601dea"
    },
    {
      "cell_type": "code",
      "execution_count": 46,
      "metadata": {},
      "outputs": [],
      "source": [
        "queue2 = [4, 6, 5, 1]"
      ],
      "id": "80d9c55b-37f6-4f47-a3a8-520ab375660b"
    },
    {
      "cell_type": "code",
      "execution_count": 47,
      "metadata": {},
      "outputs": [],
      "source": [
        "q1, q2 = deque(queue1),deque(queue2)"
      ],
      "id": "5fc09db8-2065-440a-86fa-1fdbc502f505"
    },
    {
      "cell_type": "code",
      "execution_count": 48,
      "metadata": {},
      "outputs": [
        {
          "output_type": "display_data",
          "metadata": {},
          "data": {
            "text/plain": [
              "15.0"
            ]
          }
        }
      ],
      "source": [
        "s2 = sum(q1 + q2)/2\n",
        "s2"
      ],
      "id": "c6975ac8-043e-44dc-b642-8cbf27c15f02"
    },
    {
      "cell_type": "code",
      "execution_count": 49,
      "metadata": {},
      "outputs": [
        {
          "output_type": "display_data",
          "metadata": {},
          "data": {
            "text/plain": [
              "14"
            ]
          }
        }
      ],
      "source": [
        "s1 = sum(q1)\n",
        "s1"
      ],
      "id": "9a19dea2-8156-45c8-afca-1a5f9a37a2f0"
    },
    {
      "cell_type": "code",
      "execution_count": 50,
      "metadata": {},
      "outputs": [],
      "source": [
        "count = 0"
      ],
      "id": "b230dcd7-d1e8-432f-847f-d64195fef4f6"
    },
    {
      "cell_type": "code",
      "execution_count": 51,
      "metadata": {},
      "outputs": [],
      "source": [
        "# s1>s2"
      ],
      "id": "5ddab969-88f1-429f-a436-d5bac1c59636"
    },
    {
      "cell_type": "code",
      "execution_count": 52,
      "metadata": {},
      "outputs": [
        {
          "output_type": "display_data",
          "metadata": {},
          "data": {
            "text/plain": [
              "11"
            ]
          }
        }
      ],
      "source": [
        "s1 -= q1.popleft()\n",
        "s1"
      ],
      "id": "e4428d80-90d7-4ec3-be7c-5ed0110e8903"
    },
    {
      "cell_type": "code",
      "execution_count": 53,
      "metadata": {},
      "outputs": [
        {
          "output_type": "display_data",
          "metadata": {},
          "data": {
            "text/plain": [
              "1"
            ]
          }
        }
      ],
      "source": [
        "count+=1\n",
        "count"
      ],
      "id": "06216528-6352-405a-b1b3-32318ffeb265"
    },
    {
      "cell_type": "code",
      "execution_count": 54,
      "metadata": {},
      "outputs": [],
      "source": [
        "# s1<s2"
      ],
      "id": "3cdc1d4c-db07-43f2-b7bc-3e6d8c48e755"
    },
    {
      "cell_type": "code",
      "execution_count": 55,
      "metadata": {},
      "outputs": [
        {
          "output_type": "display_data",
          "metadata": {},
          "data": {
            "text/plain": [
              "4"
            ]
          }
        }
      ],
      "source": [
        "add = q2.popleft()\n",
        "add"
      ],
      "id": "d576a370-3ca4-4b22-aafd-0ed939458fa8"
    },
    {
      "cell_type": "code",
      "execution_count": 56,
      "metadata": {},
      "outputs": [],
      "source": [
        "q1.append(add)"
      ],
      "id": "34361fa1-9acb-4590-bae4-bce12b602518"
    },
    {
      "cell_type": "code",
      "execution_count": 57,
      "metadata": {},
      "outputs": [
        {
          "output_type": "display_data",
          "metadata": {},
          "data": {
            "text/plain": [
              "15"
            ]
          }
        }
      ],
      "source": [
        "s1 += add\n",
        "s1"
      ],
      "id": "a6de2521-dc49-40c2-98c2-75d8830938d4"
    },
    {
      "cell_type": "code",
      "execution_count": 58,
      "metadata": {},
      "outputs": [
        {
          "output_type": "display_data",
          "metadata": {},
          "data": {
            "text/plain": [
              "2"
            ]
          }
        }
      ],
      "source": [
        "count += 1\n",
        "count"
      ],
      "id": "e502a5d4-e02a-4cfb-abc2-7e8a206f88cc"
    },
    {
      "cell_type": "code",
      "execution_count": 59,
      "metadata": {},
      "outputs": [
        {
          "output_type": "display_data",
          "metadata": {},
          "data": {
            "text/plain": [
              "True"
            ]
          }
        }
      ],
      "source": [
        "s1==s2"
      ],
      "id": "cda6f203-37b9-43f5-aad9-f8e6b47062c1"
    },
    {
      "cell_type": "code",
      "execution_count": 60,
      "metadata": {},
      "outputs": [
        {
          "output_type": "display_data",
          "metadata": {},
          "data": {
            "text/plain": [
              "2"
            ]
          }
        }
      ],
      "source": [
        "count"
      ],
      "id": "70be784f-a58c-4568-9e37-5f2f879e4ae3"
    }
  ],
  "nbformat": 4,
  "nbformat_minor": 5,
  "metadata": {
    "kernelspec": {
      "name": "python3",
      "display_name": "Python 3 (ipykernel)",
      "language": "python"
    },
    "language_info": {
      "name": "python",
      "codemirror_mode": {
        "name": "ipython",
        "version": "3"
      },
      "file_extension": ".py",
      "mimetype": "text/x-python",
      "nbconvert_exporter": "python",
      "pygments_lexer": "ipython3",
      "version": "3.8.12"
    }
  }
}