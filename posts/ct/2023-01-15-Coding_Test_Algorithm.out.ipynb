{
  "cells": [
    {
      "cell_type": "markdown",
      "metadata": {},
      "source": [
        "# Algorithm\n",
        "\n",
        "SEOYEON CHOI  \n",
        "2023-01-15\n",
        "\n",
        "> Algorithm\n",
        "\n",
        "# 소수의 판별"
      ],
      "id": "5e087cac-9c7a-4a33-b379-71cfbf291d57"
    },
    {
      "cell_type": "code",
      "execution_count": 3,
      "metadata": {},
      "outputs": [
        {
          "output_type": "stream",
          "name": "stdout",
          "text": [
            "False\n",
            "True"
          ]
        }
      ],
      "source": [
        "import math\n",
        "\n",
        "def prime(x):\n",
        "    for i in range(2,int(math.sqrt(x))+1):\n",
        "        if x % i == 0:\n",
        "            return False\n",
        "    return True\n",
        "\n",
        "print(prime(4))\n",
        "print(prime(7))"
      ],
      "id": "2c6206f0-b8e9-486e-be22-636832b214aa"
    },
    {
      "cell_type": "code",
      "execution_count": 8,
      "metadata": {},
      "outputs": [
        {
          "output_type": "display_data",
          "metadata": {},
          "data": {
            "text/plain": [
              "4"
            ]
          }
        }
      ],
      "source": [
        "int(math.sqrt(23))"
      ],
      "id": "a95e55bb-b40c-4798-ac02-2e025d70fc87"
    },
    {
      "cell_type": "markdown",
      "metadata": {},
      "source": [
        "# 에라토스테네스의 체\n",
        "\n",
        "주어진 자연수 중 소수인 것만 골라내기"
      ],
      "id": "f28716b3-4f0a-4f53-ad68-dce5a92b3b38"
    },
    {
      "cell_type": "code",
      "execution_count": 10,
      "metadata": {},
      "outputs": [
        {
          "output_type": "stream",
          "name": "stdout",
          "text": [
            "2 3 5 7 11 13 17 19 23 29 31 37 41 43 47 53 59 61 67 71 73 79 83 89 97 101 103 107 109 113 127 131 137 139 149 151 157 163 167 173 179 181 191 193 197 199 211 223 227 229 233 239 241 251 257 263 269 271 277 281 283 293 307 311 313 317 331 337 347 349 353 359 367 373 379 383 389 397 401 409 419 421 431 433 439 443 449 457 461 463 467 479 487 491 499 503 509 521 523 541 547 557 563 569 571 577 587 593 599 601 607 613 617 619 631 641 643 647 653 659 661 673 677 683 691 701 709 719 727 733 739 743 751 757 761 769 773 787 797 809 811 821 823 827 829 839 853 857 859 863 877 881 883 887 907 911 919 929 937 941 947 953 967 971 977 983 991 997 "
          ]
        }
      ],
      "source": [
        "import math\n",
        "\n",
        "n = 1000\n",
        "array = [True for i in range(n+1)]\n",
        "\n",
        "for i in range(2,int(math.sqrt(n)) + 1):\n",
        "    if array[i] == True:\n",
        "        j = 2\n",
        "        while i*j <= n:\n",
        "            array[i*j] = False\n",
        "            j += 1\n",
        "            \n",
        "for i in range(2,n+1):\n",
        "    if array[i]:\n",
        "        print(i,end = ' ')"
      ],
      "id": "a5cf1590-0eed-4cd8-a3b6-8bd280ac2080"
    },
    {
      "cell_type": "markdown",
      "metadata": {},
      "source": [
        "# 투 포인터\n",
        "\n",
        "리스트에 순차적으로 접근해야 할 때 2개의 점의 위치를 가록하면서 처리하는\n",
        "알고리즘\n",
        "\n",
        "**특정한 합을 가지는 부분 연속 수열 찾기**\n",
        "\n",
        "`1`. 시작점과 끝점이 첫 번째 원소의 인덱스를 가리키도록 한다.\n",
        "\n",
        "`2`. 현재 부분합이 M과 같다면 count한다.\n",
        "\n",
        "`3`. 현재 부분합이 M보다 작으면 end를 1 증가시킨다.\n",
        "\n",
        "`4`. 현재 부분합이 M보다 크거나 같으면 start를 1 증가시킨다.\n",
        "\n",
        "`5`. 모든 경우를 확인할 때까지 `2`번 부터 `4`번까지의 과정을 반복한다."
      ],
      "id": "4382e4ed-8457-4318-a50f-00b970424e4f"
    },
    {
      "cell_type": "code",
      "execution_count": 12,
      "metadata": {},
      "outputs": [
        {
          "output_type": "stream",
          "name": "stdout",
          "text": [
            "3"
          ]
        }
      ],
      "source": [
        "n = 6 # 데이터 개수\n",
        "m = 5 # 찾고 싶은 부분합\n",
        "data = [1,3,2,3,4,5]\n",
        "\n",
        "count = 0\n",
        "interval_sum = 0\n",
        "end = 0\n",
        "\n",
        "for start in range(n):\n",
        "    while interval_sum < m and end < n:\n",
        "        interval_sum += data[end]\n",
        "        end+=1\n",
        "    if interval_sum == m:\n",
        "        count += 1\n",
        "    interval_sum -= data[start]\n",
        "    \n",
        "print(count)            "
      ],
      "id": "885520ad-51f3-4ca1-8ec6-1984a11c4738"
    },
    {
      "cell_type": "markdown",
      "metadata": {},
      "source": [
        "**정렬되어 있는 두 리스트의 합집합**\n",
        "\n",
        "`1`. 정렬된 리스트 A와 B를 입력받는다.\n",
        "\n",
        "`2`. 리스트 A에서 처리되지 않은 원소 중 가장 작은 원소를 i가 가리키도록\n",
        "한다.\n",
        "\n",
        "`3`. 리스트 B에서 처리되지 않은 원소 중 가장 작은 우너소를 j가\n",
        "가리키도록 한다.\n",
        "\n",
        "`4`. A\\[i\\]와 B\\[j\\] 중에서 더 작은 원소를 결과 리스트에 담는다.\n",
        "\n",
        "`5`. 리스트 A와 B에서 더 이상 처리할 원소가 없을 때까지 `2`~ `4`번의\n",
        "과정을 반복한다."
      ],
      "id": "c6b17339-a2af-4591-96d8-796348dc7887"
    },
    {
      "cell_type": "code",
      "execution_count": 15,
      "metadata": {},
      "outputs": [
        {
          "output_type": "stream",
          "name": "stdout",
          "text": [
            "1244778"
          ]
        }
      ],
      "source": [
        "n, m = 3,4\n",
        "a = [2,7,4]\n",
        "b = [4,8,1,7]\n",
        "c = sorted(a)\n",
        "d = sorted(b)\n",
        "\n",
        "result = [0] * (n+m)\n",
        "i = 0\n",
        "j = 0\n",
        "k = 0\n",
        "\n",
        "while i < n or j < m:\n",
        "    if j >= m or (i < n and c[i] <= d[j]):\n",
        "        result[k] = c[i]\n",
        "        i += 1\n",
        "    else:\n",
        "        result[k] = d[j]\n",
        "        j += 1\n",
        "    k += 1\n",
        "    \n",
        "for i in result:\n",
        "    print(i,end = '')"
      ],
      "id": "5b607908-e1d4-44de-8016-3dfff564600c"
    },
    {
      "cell_type": "markdown",
      "metadata": {},
      "source": [
        "# 구간 합 계산\n",
        "\n",
        "`1`. N개의 수에 대하여 접두사 합을 계산하여 배열 P에 저장한다.\n",
        "\n",
        "`2`. 매 M개의 Query 정보 $[L,R]$을 확인할 때, 구간 합은\n",
        "$P[R] - P[L-1]$이다."
      ],
      "id": "907b40ba-f3fe-49d5-be0a-ec092222ae68"
    },
    {
      "cell_type": "code",
      "execution_count": 18,
      "metadata": {},
      "outputs": [
        {
          "output_type": "stream",
          "name": "stdout",
          "text": [
            "90\n",
            "30\n",
            "60"
          ]
        }
      ],
      "source": [
        "n = 5\n",
        "data = [10,20,30,30,3,10,2]\n",
        "\n",
        "sum_value = 0\n",
        "prefix_sum = [0]\n",
        "for i in data:\n",
        "    sum_value += i\n",
        "    prefix_sum.append(sum_value)\n",
        "    \n",
        "left = 3\n",
        "right = 4\n",
        "print(prefix_sum[right])\n",
        "print(prefix_sum[left - 1])\n",
        "print(prefix_sum[right] - prefix_sum[left - 1])"
      ],
      "id": "67a5077e-9a85-4310-8352-cad5baf9920b"
    },
    {
      "cell_type": "markdown",
      "metadata": {},
      "source": [
        "# 순열과 조합\n",
        "\n",
        "## 순열"
      ],
      "id": "c02d196d-ba1d-4d62-8030-84c93445723b"
    },
    {
      "cell_type": "code",
      "execution_count": 19,
      "metadata": {},
      "outputs": [
        {
          "output_type": "stream",
          "name": "stdout",
          "text": [
            "[2, 3]\n",
            "[2, 4]\n",
            "[3, 2]\n",
            "[3, 4]\n",
            "[4, 2]\n",
            "[4, 3]"
          ]
        }
      ],
      "source": [
        "import itertools\n",
        "\n",
        "data = [2,3,4]\n",
        "\n",
        "for x in itertools.permutations(data,2):\n",
        "    print(list(x))"
      ],
      "id": "ba521503-f8eb-4810-bf35-c2040a52c879"
    },
    {
      "cell_type": "markdown",
      "metadata": {},
      "source": [
        "## 조합"
      ],
      "id": "12a8384e-b651-4494-8046-ed0b4786bde6"
    },
    {
      "cell_type": "code",
      "execution_count": 21,
      "metadata": {},
      "outputs": [
        {
          "output_type": "stream",
          "name": "stdout",
          "text": [
            "[2, 4][2, 5][2, 2][4, 5][4, 2][5, 2]"
          ]
        }
      ],
      "source": [
        "import itertools\n",
        "\n",
        "data = [2,4,5,2]\n",
        "\n",
        "for x in itertools.combinations(data,2):\n",
        "    print(list(x),end = '')"
      ],
      "id": "e0b66e1f-7ddf-4d69-b6e2-11685f1c20e7"
    }
  ],
  "nbformat": 4,
  "nbformat_minor": 5,
  "metadata": {
    "kernelspec": {
      "name": "python3",
      "display_name": "Python 3 (ipykernel)",
      "language": "python"
    },
    "language_info": {
      "name": "python",
      "codemirror_mode": {
        "name": "ipython",
        "version": "3"
      },
      "file_extension": ".py",
      "mimetype": "text/x-python",
      "nbconvert_exporter": "python",
      "pygments_lexer": "ipython3",
      "version": "3.8.12"
    }
  }
}