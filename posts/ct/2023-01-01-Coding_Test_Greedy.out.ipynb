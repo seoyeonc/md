{
  "cells": [
    {
      "cell_type": "markdown",
      "metadata": {},
      "source": [
        "# Chapter 03 Greedy\n",
        "\n",
        "SEOYEON CHOI  \n",
        "2023-01-01\n",
        "\n",
        "> 그리디; 현재 상황에서 가장 좋아 보이는 것만을 선택하는 알고리즘 ~\n",
        "> 탐욕법\n",
        "\n",
        "## Example 거스름돈\n",
        "\n",
        "당신은 음식점의 계산을 도와주는 점원이다. 카운터에는 거스름돈으로 사용할\n",
        "500원, 100원, 50원, 10원짜리 동전이 무한히 존재한다고 가정한다. 손님에게\n",
        "거슬러 줘야 할 돈이 N원일 때 거슬러 줘야 할 동전의 최소 개수를 구하라.\n",
        "단, 거슬러 줘야 할 돈 N은 항상 10의 배수이다.\n",
        "\n",
        "**해설**\n",
        "\n",
        "-   최소 동전 개수 $\\to$ ‘가장 큰 화폐 단위부터’ 돈을 거슬러 주는 것\n",
        "\n",
        "이 예제가 그리디 알고리즘이 가능한 이유\n",
        "\n",
        "-   가지고 있는 동전 중에서 큰 단위가 항상 작은 단위의 배수이므로 작은\n",
        "    단위의 동전들을 종합해 다른 해가 나올 수 없기 때문이다.\n",
        "\n",
        "-   대부분의 그리디 알고리즘 문제에서는 이처럼 문제 풀이를 위한 최소한의\n",
        "    아이디어를 떠올리고 이것이 정당한지 검토할 수 있어야 답을 도출할 수\n",
        "    있다.\n",
        "\n",
        "### Answer"
      ],
      "id": "5ba2c481-1241-4d80-a169-7e81e548142f"
    },
    {
      "cell_type": "code",
      "execution_count": 38,
      "metadata": {},
      "outputs": [
        {
          "output_type": "stream",
          "name": "stdout",
          "text": [
            "6"
          ]
        }
      ],
      "source": [
        "n = 1260\n",
        "count = 0\n",
        "\n",
        "# 큰 단위 화폐부터 차례대로 확인\n",
        "coin_types = [500, 100, 50, 10]\n",
        "\n",
        "for coin in coin_types:\n",
        "    count += n // coin # 해당 화폐로 거슬러 줄 수 있는 동전의 개수 세기\n",
        "    n %= coin\n",
        "    \n",
        "print(count)"
      ],
      "id": "2173be7b-7e0a-4cd4-91a6-d71c519b1585"
    },
    {
      "cell_type": "markdown",
      "metadata": {},
      "source": [
        "### step"
      ],
      "id": "0307a393-45ad-4e37-8814-ac86b4865c5b"
    },
    {
      "cell_type": "code",
      "execution_count": 28,
      "metadata": {},
      "outputs": [
        {
          "output_type": "display_data",
          "metadata": {},
          "data": {
            "text/plain": [
              "0"
            ]
          }
        }
      ],
      "source": [
        "count = 0;count"
      ],
      "id": "369e6e8e-dad7-481d-9f73-6b1d640d1113"
    },
    {
      "cell_type": "code",
      "execution_count": 29,
      "metadata": {},
      "outputs": [
        {
          "output_type": "display_data",
          "metadata": {},
          "data": {
            "text/plain": [
              "1260"
            ]
          }
        }
      ],
      "source": [
        "n = 1260;n"
      ],
      "id": "7cc26c1e-a214-4a98-af32-504ec2bf8c21"
    },
    {
      "cell_type": "code",
      "execution_count": 30,
      "metadata": {},
      "outputs": [
        {
          "output_type": "display_data",
          "metadata": {},
          "data": {
            "text/plain": [
              "2"
            ]
          }
        }
      ],
      "source": [
        "count = count + n//500;count"
      ],
      "id": "ea48fbaa-04e6-4cf9-a9a2-75d78b444699"
    },
    {
      "cell_type": "code",
      "execution_count": 31,
      "metadata": {},
      "outputs": [
        {
          "output_type": "display_data",
          "metadata": {},
          "data": {
            "text/plain": [
              "260"
            ]
          }
        }
      ],
      "source": [
        "n %= 500;n"
      ],
      "id": "eca9fc21-3cf5-438d-b55a-208b6197bd54"
    },
    {
      "cell_type": "code",
      "execution_count": 32,
      "metadata": {},
      "outputs": [
        {
          "output_type": "display_data",
          "metadata": {},
          "data": {
            "text/plain": [
              "4"
            ]
          }
        }
      ],
      "source": [
        "count = count + n//100;count"
      ],
      "id": "2c2e30ad-5b02-4607-970f-b822a9de05af"
    },
    {
      "cell_type": "code",
      "execution_count": 33,
      "metadata": {},
      "outputs": [
        {
          "output_type": "display_data",
          "metadata": {},
          "data": {
            "text/plain": [
              "60"
            ]
          }
        }
      ],
      "source": [
        "n %= 100 ; n"
      ],
      "id": "6e719535-de70-4c6f-a69c-b601049bbe5e"
    },
    {
      "cell_type": "code",
      "execution_count": 34,
      "metadata": {},
      "outputs": [
        {
          "output_type": "display_data",
          "metadata": {},
          "data": {
            "text/plain": [
              "5"
            ]
          }
        }
      ],
      "source": [
        "count = count + n//50;count"
      ],
      "id": "a5f66164-ca36-41f2-aa1f-4038246c693a"
    },
    {
      "cell_type": "code",
      "execution_count": 35,
      "metadata": {},
      "outputs": [
        {
          "output_type": "display_data",
          "metadata": {},
          "data": {
            "text/plain": [
              "10"
            ]
          }
        }
      ],
      "source": [
        "n %= 50 ; n"
      ],
      "id": "10e307be-a4e4-4895-8382-0598bb81f05d"
    },
    {
      "cell_type": "code",
      "execution_count": 36,
      "metadata": {},
      "outputs": [
        {
          "output_type": "display_data",
          "metadata": {},
          "data": {
            "text/plain": [
              "6"
            ]
          }
        }
      ],
      "source": [
        "count = count + n//10;count"
      ],
      "id": "d33ba859-97a6-4f7c-a618-c61502da8654"
    },
    {
      "cell_type": "code",
      "execution_count": 37,
      "metadata": {},
      "outputs": [
        {
          "output_type": "display_data",
          "metadata": {},
          "data": {
            "text/plain": [
              "0"
            ]
          }
        }
      ],
      "source": [
        "n %= 10;n"
      ],
      "id": "47f78596-01b3-4d95-a1be-da523200357b"
    },
    {
      "cell_type": "markdown",
      "metadata": {},
      "source": [
        "## 큰 수의 법칙\n",
        "\n",
        "’큰 수의 법칙’은 일반적으로 통계 분야에서 다루어지는 내용이지만 동빈이는\n",
        "본인만의 방식으로 다르게 사용하고 있다. 동빈이의 큰 수의 법칙은 다양한\n",
        "수로 이루어진 배열이 있을 때 주어진 수들을 M번 더하여 가장 큰 수를\n",
        "만드는 법칙이다. 단 배열의 특정한 인덱스(번호)에 해당하는 수가 연속해서\n",
        "K번 초과하여 더해질 수 없는 것이 이 법칙의 특징이다.\n",
        "\n",
        "배열의 크기 N, 숫자가 더해지는 횟수 M, 그리고 K가 주어질 떄 동빈이의 큰\n",
        "수의 법칙에 따른 결과를 출력하시오.\n",
        "\n",
        "입력 조건\n",
        "\n",
        "-   첫쨰 줄에\n",
        "    $N(2\\le N \\le 1,000), M(1 \\le M \\le 10,000), K(1 \\le K \\le 10,000)$의\n",
        "    자연수가 주어지며, 각 자연수는 공백으로 구분한다.\n",
        "\n",
        "-   둘째 줄에 N개의 자연수가 주어진다. 각 자연수는 공백으로 구분한다.\n",
        "    단, 각각의 자연수는 1 이상 10,000 이하의 수로 주어진다.\n",
        "\n",
        "-   입력으로 주어지는 K는 항상 M보다 작거나 같다.\n",
        "\n",
        "출력 조건\n",
        "\n",
        "-   첫째 줄에 동빈이의 큰 수의 법칙에 따라 더해진 답을 출력한다.\n",
        "\n",
        "**해설**\n",
        "\n",
        "-   ’가장 큰 수를 K번 더하고 두 번째로 큰 수를 한 번 더하는 연산’을 반복\n",
        "\n",
        "-   반복되는 수열에 대해서 파악하기\n",
        "\n",
        "가장 큰 수가 더해지는 횟수 $$int(M / (K + 1)) * K + M \\% (K + 1)$$\n",
        "\n",
        "### Answer 1"
      ],
      "id": "31c4e56f-18fc-4bdd-9ef9-2828ddd11082"
    },
    {
      "cell_type": "code",
      "execution_count": 43,
      "metadata": {},
      "outputs": [
        {
          "output_type": "stream",
          "name": "stdout",
          "text": [
            "46"
          ]
        }
      ],
      "source": [
        "# N, M, K를 공백으로 구분하여 입력받기\n",
        "n, m, k = map(int, input().split())\n",
        "# N개의 수를 공백으로 구분하여 입력받기\n",
        "data = list(map(int, input().split()))\n",
        "\n",
        "data.sort() # 입력받은 수들 정렬하기\n",
        "first = data[n - 1] # 가장 큰 수\n",
        "second = data[n - 2] # 두 번째로 큰 수\n",
        "\n",
        "result = 0\n",
        "\n",
        "while True:\n",
        "    for i in range(k): # 가장 큰 수를  K번 더하기\n",
        "        if m == 0: # m이 0이라면 반복문 탈출\n",
        "            break\n",
        "        result += first\n",
        "        m -= 1 # 더할 때마다 1씩 빼기\n",
        "    if m == 0: # m이 0이라면 반복문 탈출\n",
        "        break\n",
        "    result += second # 두 번째로 큰 수를 한 번 더하기\n",
        "    m -= 1 # 더할 떄마다 1씩 빼기\n",
        "    \n",
        "print(result)"
      ],
      "id": "336f080f-cf59-4662-9690-98204f3b86c5"
    },
    {
      "cell_type": "markdown",
      "metadata": {},
      "source": [
        "### step"
      ],
      "id": "30220fd7-e276-4c0e-b282-dc1294c1194a"
    },
    {
      "cell_type": "code",
      "execution_count": 63,
      "metadata": {},
      "outputs": [],
      "source": [
        "n, m, k = map(int, input().split())"
      ],
      "id": "af419c73-9f18-4130-a2d9-5efbce4381e4"
    },
    {
      "cell_type": "code",
      "execution_count": 64,
      "metadata": {},
      "outputs": [],
      "source": [
        "data = list(map(int, input().split()))"
      ],
      "id": "2da7fa7c-144a-402b-a6e4-d31d76916af2"
    },
    {
      "cell_type": "code",
      "execution_count": 65,
      "metadata": {},
      "outputs": [
        {
          "output_type": "display_data",
          "metadata": {},
          "data": {
            "text/plain": [
              "[2, 4, 4, 5, 6]"
            ]
          }
        }
      ],
      "source": [
        "data.sort();data"
      ],
      "id": "8dda5467-5c65-4841-936b-88bf3618eacf"
    },
    {
      "cell_type": "code",
      "execution_count": 66,
      "metadata": {},
      "outputs": [
        {
          "output_type": "display_data",
          "metadata": {},
          "data": {
            "text/plain": [
              "range(0, 3)"
            ]
          }
        }
      ],
      "source": [
        "range(k)"
      ],
      "id": "33bd486b-0a7b-4f56-b416-47109f80ea3f"
    },
    {
      "cell_type": "code",
      "execution_count": 67,
      "metadata": {},
      "outputs": [
        {
          "output_type": "display_data",
          "metadata": {},
          "data": {
            "text/plain": [
              "6"
            ]
          }
        }
      ],
      "source": [
        "first = data[n-1];first"
      ],
      "id": "dfd9a755-e647-43f7-bd70-ff80d0c03d27"
    },
    {
      "cell_type": "code",
      "execution_count": 68,
      "metadata": {},
      "outputs": [
        {
          "output_type": "display_data",
          "metadata": {},
          "data": {
            "text/plain": [
              "5"
            ]
          }
        }
      ],
      "source": [
        "second = data[n-2];second"
      ],
      "id": "65c8fdaa-1467-4e82-82de-a22468c3f7a3"
    },
    {
      "cell_type": "code",
      "execution_count": 69,
      "metadata": {},
      "outputs": [
        {
          "output_type": "display_data",
          "metadata": {},
          "data": {
            "text/plain": [
              "0"
            ]
          }
        }
      ],
      "source": [
        "result = 0; result"
      ],
      "id": "fdf17662-aa91-40a0-ba38-e783800dea99"
    },
    {
      "cell_type": "code",
      "execution_count": 70,
      "metadata": {},
      "outputs": [
        {
          "output_type": "display_data",
          "metadata": {},
          "data": {
            "text/plain": [
              "18"
            ]
          }
        }
      ],
      "source": [
        "result = result + first*3; result"
      ],
      "id": "d9f73b6b-11ca-418d-b9a4-95fd24bf04e9"
    },
    {
      "cell_type": "code",
      "execution_count": 71,
      "metadata": {},
      "outputs": [
        {
          "output_type": "display_data",
          "metadata": {},
          "data": {
            "text/plain": [
              "5"
            ]
          }
        }
      ],
      "source": [
        "m = m - 3 ;m"
      ],
      "id": "4c51effd-824d-4e54-ac56-91d26913568b"
    },
    {
      "cell_type": "code",
      "execution_count": 72,
      "metadata": {},
      "outputs": [
        {
          "output_type": "display_data",
          "metadata": {},
          "data": {
            "text/plain": [
              "23"
            ]
          }
        }
      ],
      "source": [
        "result = result + second; result"
      ],
      "id": "8737c205-c884-4ab1-9d30-545c0de11003"
    },
    {
      "cell_type": "code",
      "execution_count": 73,
      "metadata": {},
      "outputs": [
        {
          "output_type": "display_data",
          "metadata": {},
          "data": {
            "text/plain": [
              "4"
            ]
          }
        }
      ],
      "source": [
        "m = m - 1 ;m"
      ],
      "id": "1cd3670f-2d96-4bb6-b711-284d0c27f471"
    },
    {
      "cell_type": "code",
      "execution_count": 74,
      "metadata": {},
      "outputs": [
        {
          "output_type": "display_data",
          "metadata": {},
          "data": {
            "text/plain": [
              "41"
            ]
          }
        }
      ],
      "source": [
        "result = result + first*3; result"
      ],
      "id": "3c74de57-c659-415e-a562-b69192f6b492"
    },
    {
      "cell_type": "code",
      "execution_count": 75,
      "metadata": {},
      "outputs": [
        {
          "output_type": "display_data",
          "metadata": {},
          "data": {
            "text/plain": [
              "1"
            ]
          }
        }
      ],
      "source": [
        "m = m - 3 ;m"
      ],
      "id": "37295215-e0ed-48cc-a55b-f73860a63b5f"
    },
    {
      "cell_type": "code",
      "execution_count": 76,
      "metadata": {},
      "outputs": [
        {
          "output_type": "display_data",
          "metadata": {},
          "data": {
            "text/plain": [
              "46"
            ]
          }
        }
      ],
      "source": [
        "result = result + second; result"
      ],
      "id": "eb74dc21-1c7e-46c3-b0b8-dd848d7192f8"
    },
    {
      "cell_type": "code",
      "execution_count": 77,
      "metadata": {},
      "outputs": [
        {
          "output_type": "display_data",
          "metadata": {},
          "data": {
            "text/plain": [
              "0"
            ]
          }
        }
      ],
      "source": [
        "m = m - 1 ;m"
      ],
      "id": "71031538-db0c-421e-b97a-141d6dbfda5a"
    },
    {
      "cell_type": "code",
      "execution_count": 78,
      "metadata": {},
      "outputs": [
        {
          "output_type": "display_data",
          "metadata": {},
          "data": {
            "text/plain": [
              "4"
            ]
          }
        }
      ],
      "source": [
        "int(8 / (6 + 1)) * 3 + 8 % (6 + 1)"
      ],
      "id": "a0f60d37-3dbb-4f5f-97b5-069b7a4bc248"
    },
    {
      "cell_type": "markdown",
      "metadata": {},
      "source": [
        "### Answer 2"
      ],
      "id": "a72b5b80-775a-41a3-9494-6119c8802864"
    },
    {
      "cell_type": "code",
      "execution_count": 217,
      "metadata": {},
      "outputs": [
        {
          "output_type": "stream",
          "name": "stdout",
          "text": [
            "46"
          ]
        }
      ],
      "source": [
        "# N, M, K를 공백으로 구분하여 입력받기\n",
        "n, m, k = map(int, input().split())\n",
        "# N개의 수를 공백으로 구분하여 입력받기\n",
        "data = list(map(int, input().split()))\n",
        "\n",
        "data.sort() # 입력받은 수 정렬\n",
        "first = data[n - 1] # 가장 큰 수\n",
        "second = data[n - 2] # 두 번째로 큰 수\n",
        "\n",
        "# 가장 큰 수가 더해지는 횟수 계산\n",
        "count = int(m / (k + 1)) * k\n",
        "count += m % (k+1)\n",
        "\n",
        "result = 0\n",
        "result += count * first # 가장 큰 수 더하기\n",
        "result += (m - count) * second # 두 번재로 큰 수 더하기\n",
        "\n",
        "print(result)"
      ],
      "id": "dc761a0a-b487-4da5-9b84-830084ab4db5"
    },
    {
      "cell_type": "code",
      "execution_count": 96,
      "metadata": {},
      "outputs": [],
      "source": [
        "n, m, k = map(int, input().split())"
      ],
      "id": "44b6d340-bea3-45f6-9b7f-a116f822245d"
    },
    {
      "cell_type": "code",
      "execution_count": 97,
      "metadata": {},
      "outputs": [],
      "source": [
        "data = list(map(int, input().split()))"
      ],
      "id": "20a8a8c5-7d85-4748-93dd-c0466f3eb650"
    },
    {
      "cell_type": "code",
      "execution_count": 98,
      "metadata": {},
      "outputs": [
        {
          "output_type": "display_data",
          "metadata": {},
          "data": {
            "text/plain": [
              "[2, 4, 4, 5, 6]"
            ]
          }
        }
      ],
      "source": [
        "data.sort();data"
      ],
      "id": "3f16f959-b9e3-40da-8355-31c426c5e726"
    },
    {
      "cell_type": "code",
      "execution_count": 99,
      "metadata": {},
      "outputs": [
        {
          "output_type": "display_data",
          "metadata": {},
          "data": {
            "text/plain": [
              "6"
            ]
          }
        }
      ],
      "source": [
        "first = data[n-1];first"
      ],
      "id": "d57db475-ae71-4e72-98c8-f12722ff046b"
    },
    {
      "cell_type": "code",
      "execution_count": 100,
      "metadata": {},
      "outputs": [
        {
          "output_type": "display_data",
          "metadata": {},
          "data": {
            "text/plain": [
              "5"
            ]
          }
        }
      ],
      "source": [
        "second = data[n-2];second"
      ],
      "id": "9165bf53-2fb2-4c71-a632-1f30ac917238"
    },
    {
      "cell_type": "code",
      "execution_count": 101,
      "metadata": {},
      "outputs": [
        {
          "output_type": "display_data",
          "metadata": {},
          "data": {
            "text/plain": [
              "6"
            ]
          }
        }
      ],
      "source": [
        "count = int(m / (k + 1)) * k ; count"
      ],
      "id": "6d4e5247-05f5-42b7-9530-af9f18e1faae"
    },
    {
      "cell_type": "code",
      "execution_count": 114,
      "metadata": {},
      "outputs": [
        {
          "output_type": "display_data",
          "metadata": {},
          "data": {
            "text/plain": [
              "1"
            ]
          }
        }
      ],
      "source": [
        "m % (k+1)"
      ],
      "id": "dacc64a1-3fa9-4adb-8e44-d3a5d339fdb6"
    },
    {
      "cell_type": "code",
      "execution_count": 103,
      "metadata": {},
      "outputs": [
        {
          "output_type": "display_data",
          "metadata": {},
          "data": {
            "text/plain": [
              "0"
            ]
          }
        }
      ],
      "source": [
        "result = 0;result"
      ],
      "id": "56993c30-929f-4749-be24-e45bc533773b"
    },
    {
      "cell_type": "code",
      "execution_count": 104,
      "metadata": {},
      "outputs": [
        {
          "output_type": "display_data",
          "metadata": {},
          "data": {
            "text/plain": [
              "36"
            ]
          }
        }
      ],
      "source": [
        "result += count * first;result"
      ],
      "id": "a57aaf23-3853-4f24-8a9f-5b58fc3d126f"
    },
    {
      "cell_type": "code",
      "execution_count": 105,
      "metadata": {},
      "outputs": [
        {
          "output_type": "display_data",
          "metadata": {},
          "data": {
            "text/plain": [
              "46"
            ]
          }
        }
      ],
      "source": [
        "result += (m - count) * second; result"
      ],
      "id": "e8029480-1a8f-4cbf-bc82-c01c88200a25"
    },
    {
      "cell_type": "markdown",
      "metadata": {},
      "source": [
        "## 숫자 카드 게임\n",
        "\n",
        "숫자 카드 게임은 여러 개의 숫자 카드 중에서 가장 높은 숫자가 쓰인 카드\n",
        "한 장을 뽑는 게임이다. 단, 게임의 룰을 지키며 카드를 뽑아야 하고 룰은\n",
        "다음과 같다. 1. 숫자가 쓰인 카드들이 $N \\times M$ 형태로 놓여 있다. 이때\n",
        "N은 행의 개수를 의미하며, M은 열의 개수를 의미한다. 2. 먼저 뽑고자 하는\n",
        "카드가 포함되어 있는 행을 선택한다. 3. 그다음 선택된 행에 초함된 카드들\n",
        "중 가장 숫자가 낮은 카드를 뽑아야 한다. 4. 따라서 처음에 카드를 골라낼\n",
        "행을 선택할 때, 이후에 해당 행에서 가장 숫자가 낮은 카드를 뽑을 것을\n",
        "고려하여 최종적으로 가장 높은 숫자의 카드를 뽑을 수 있도록 정략을 세워야\n",
        "한다.\n",
        "\n",
        "입력 조건\n",
        "\n",
        "-   첫째 줄에 숫자 카드들이 놓인 행의 개수 N과 열의 개수 M이 공백을\n",
        "    기준으로 하여 각각 자연수로 주어진다.($1 \\le N, M \\le 100$)\n",
        "\n",
        "-   둘째 줄부터 N개의 줄에 걸쳐 각 카드에 적힌 숫자가 주어진다. 각\n",
        "    숫자는 1 이상 10,000 이햐의 자연수이다.\n",
        "\n",
        "출력 조건\n",
        "\n",
        "-   첫째 줄에 게임의 룰에 맞게 선택한 카드에 적힌 숫자를 출력한다.\n",
        "\n",
        "**문제 해설**\n",
        "\n",
        "-   ’각 행마다 가장 작을 수를 찾은 뒤에 그 수 중에서 가장 큰 수’를 찾는\n",
        "    것\n",
        "\n",
        "### Answer 1\n",
        "\n",
        "-   min() 함수를 이용하는 답안 예시"
      ],
      "id": "39a7cbda-548a-4885-abed-c3c90ad3490c"
    },
    {
      "cell_type": "code",
      "execution_count": 118,
      "metadata": {},
      "outputs": [
        {
          "output_type": "stream",
          "name": "stdout",
          "text": [
            "2"
          ]
        }
      ],
      "source": [
        "# N, M을 공백으로 구분하여 입력받기\n",
        "n, m = map(int, input().split())\n",
        "\n",
        "result = 0\n",
        "# 한 줄씩 입력받아 확인\n",
        "for i in range(n): \n",
        "    data = list(map(int, input().split()))\n",
        "    # 현재 줄에서 '가장 작은 수' 찾기\n",
        "    min_value = min(data)\n",
        "    # '가장 작은 수'들 중에서 가장 큰 수 찾기\n",
        "    result = max(result, min_value)\n",
        "    \n",
        "print(result)"
      ],
      "id": "e33a4b5d-3006-490f-9f12-741314a3ba54"
    },
    {
      "cell_type": "code",
      "execution_count": 129,
      "metadata": {},
      "outputs": [],
      "source": [
        "n, m = map(int, input().split())"
      ],
      "id": "9da389b2-a39c-4229-aed9-8f44f64375b2"
    },
    {
      "cell_type": "code",
      "execution_count": 130,
      "metadata": {},
      "outputs": [
        {
          "output_type": "display_data",
          "metadata": {},
          "data": {
            "text/plain": [
              "0"
            ]
          }
        }
      ],
      "source": [
        "result = 0; result"
      ],
      "id": "e5f8eedf-8d42-44cd-af29-ff5ebfbf646d"
    },
    {
      "cell_type": "code",
      "execution_count": 131,
      "metadata": {},
      "outputs": [
        {
          "output_type": "display_data",
          "metadata": {},
          "data": {
            "text/plain": [
              "range(0, 3)"
            ]
          }
        }
      ],
      "source": [
        "range(3)"
      ],
      "id": "1ed82b83-1b41-493f-8b9d-27520657ac6e"
    },
    {
      "cell_type": "code",
      "execution_count": 132,
      "metadata": {},
      "outputs": [],
      "source": [
        "data = list(map(int, input().split()))"
      ],
      "id": "e177e971-eac6-4685-b558-a91e5e4fe6f1"
    },
    {
      "cell_type": "code",
      "execution_count": 133,
      "metadata": {},
      "outputs": [
        {
          "output_type": "display_data",
          "metadata": {},
          "data": {
            "text/plain": [
              "1"
            ]
          }
        }
      ],
      "source": [
        "min_value = min(data);min_value"
      ],
      "id": "08f2a5c5-6cb5-40c6-8ca7-dcb8cb4c632d"
    },
    {
      "cell_type": "code",
      "execution_count": 134,
      "metadata": {},
      "outputs": [
        {
          "output_type": "display_data",
          "metadata": {},
          "data": {
            "text/plain": [
              "1"
            ]
          }
        }
      ],
      "source": [
        "result = max(result, min_value);result"
      ],
      "id": "b27b4421-247b-4554-b459-1d6c0ef866ca"
    },
    {
      "cell_type": "code",
      "execution_count": 135,
      "metadata": {},
      "outputs": [],
      "source": [
        "data = list(map(int, input().split()))"
      ],
      "id": "f1d6bdc8-05c8-4a2c-b033-1514ecc8c486"
    },
    {
      "cell_type": "code",
      "execution_count": 136,
      "metadata": {},
      "outputs": [
        {
          "output_type": "display_data",
          "metadata": {},
          "data": {
            "text/plain": [
              "1"
            ]
          }
        }
      ],
      "source": [
        "min_value = min(data);min_value"
      ],
      "id": "a76c0fd1-6a7a-4644-bc2a-405abfbef538"
    },
    {
      "cell_type": "code",
      "execution_count": 137,
      "metadata": {},
      "outputs": [
        {
          "output_type": "display_data",
          "metadata": {},
          "data": {
            "text/plain": [
              "1"
            ]
          }
        }
      ],
      "source": [
        "result = max(result, min_value);result"
      ],
      "id": "46fc6704-0658-4ff0-becd-1e9fd57c31c3"
    },
    {
      "cell_type": "code",
      "execution_count": 138,
      "metadata": {},
      "outputs": [],
      "source": [
        "data = list(map(int, input().split()))"
      ],
      "id": "355cb52e-d6b9-4236-a791-db8ae10250fd"
    },
    {
      "cell_type": "code",
      "execution_count": 139,
      "metadata": {},
      "outputs": [
        {
          "output_type": "display_data",
          "metadata": {},
          "data": {
            "text/plain": [
              "2"
            ]
          }
        }
      ],
      "source": [
        "min_value = min(data);min_value"
      ],
      "id": "2c04e396-454f-4cf2-9ea8-ee1404929a50"
    },
    {
      "cell_type": "code",
      "execution_count": 140,
      "metadata": {},
      "outputs": [
        {
          "output_type": "display_data",
          "metadata": {},
          "data": {
            "text/plain": [
              "2"
            ]
          }
        }
      ],
      "source": [
        "result = max(result, min_value);result"
      ],
      "id": "e999b1f2-13c6-4d92-b1ee-382fbeb8a60d"
    },
    {
      "cell_type": "markdown",
      "metadata": {},
      "source": [
        "### Answer 2\n",
        "\n",
        "-   2중 반복문 구조를 이용하는 답안 예시"
      ],
      "id": "09171b1b-b60d-4b95-9974-3166cd478700"
    },
    {
      "cell_type": "code",
      "execution_count": 144,
      "metadata": {},
      "outputs": [
        {
          "output_type": "stream",
          "name": "stdout",
          "text": [
            "3"
          ]
        }
      ],
      "source": [
        "# N, M을 공백으로 구분하여 입력받기\n",
        "n, m = map(int, input().split())\n",
        "\n",
        "result = 0\n",
        "# 한 줄씩 입력받아 확인\n",
        "for i in range(n):\n",
        "    data = list(map(int, input().split()))\n",
        "    # 현재 줄에서 '가장 작은 수'찾기\n",
        "    min_value = 10001\n",
        "    for a in data:\n",
        "        min_value = min(min_value,a)\n",
        "    # '가장 작은 수'들 중에서 가장 큰 수 찾기\n",
        "    result = max(result, min_value)\n",
        "    \n",
        "print(result)"
      ],
      "id": "c365b2bd-c4de-43e7-b983-ea30b92d976d"
    },
    {
      "cell_type": "code",
      "execution_count": 175,
      "metadata": {},
      "outputs": [],
      "source": [
        "n, m = map(int, input().split())"
      ],
      "id": "c73c5679-e24f-4964-908e-96d926ffa911"
    },
    {
      "cell_type": "code",
      "execution_count": 176,
      "metadata": {},
      "outputs": [],
      "source": [
        "result = 0"
      ],
      "id": "3b6e7868-d4d9-4b81-a873-83dbeeeb67d5"
    },
    {
      "cell_type": "code",
      "execution_count": 177,
      "metadata": {},
      "outputs": [
        {
          "output_type": "display_data",
          "metadata": {},
          "data": {
            "text/plain": [
              "range(0, 2)"
            ]
          }
        }
      ],
      "source": [
        "range(2)"
      ],
      "id": "66fd945e-c24f-40d9-b7a8-753e570a4506"
    },
    {
      "cell_type": "code",
      "execution_count": 178,
      "metadata": {},
      "outputs": [],
      "source": [
        "data = list(map(int, input().split()))"
      ],
      "id": "6c0452fd-0394-419b-a347-71b2d2667f0a"
    },
    {
      "cell_type": "code",
      "execution_count": 179,
      "metadata": {},
      "outputs": [
        {
          "output_type": "display_data",
          "metadata": {},
          "data": {
            "text/plain": [
              "10001"
            ]
          }
        }
      ],
      "source": [
        "min_value = 10001;min_value"
      ],
      "id": "ca543193-f98c-4132-835a-991fbe2ce33c"
    },
    {
      "cell_type": "code",
      "execution_count": 180,
      "metadata": {},
      "outputs": [
        {
          "output_type": "display_data",
          "metadata": {},
          "data": {
            "text/plain": [
              "1"
            ]
          }
        }
      ],
      "source": [
        "min_value = min(min_value,7,3,1,8);min_value"
      ],
      "id": "23b6a142-f981-4319-a87f-4c852771fda2"
    },
    {
      "cell_type": "code",
      "execution_count": 181,
      "metadata": {},
      "outputs": [
        {
          "output_type": "display_data",
          "metadata": {},
          "data": {
            "text/plain": [
              "1"
            ]
          }
        }
      ],
      "source": [
        "result = max(result, min_value);result"
      ],
      "id": "f243154e-81df-42fc-a9ba-e750913ddc17"
    },
    {
      "cell_type": "code",
      "execution_count": 182,
      "metadata": {},
      "outputs": [],
      "source": [
        "data = list(map(int, input().split()))"
      ],
      "id": "c5bd4590-2fec-48df-810b-d406aa126a52"
    },
    {
      "cell_type": "code",
      "execution_count": 183,
      "metadata": {},
      "outputs": [
        {
          "output_type": "display_data",
          "metadata": {},
          "data": {
            "text/plain": [
              "10001"
            ]
          }
        }
      ],
      "source": [
        "min_value = 10001;min_value"
      ],
      "id": "3876e543-c835-4373-b829-914f6afb3705"
    },
    {
      "cell_type": "code",
      "execution_count": 184,
      "metadata": {},
      "outputs": [
        {
          "output_type": "display_data",
          "metadata": {},
          "data": {
            "text/plain": [
              "3"
            ]
          }
        }
      ],
      "source": [
        "min_value = min(min_value,3,3,3,4);min_value"
      ],
      "id": "d5b50ef8-0106-48e7-9fb4-7d43818e5696"
    },
    {
      "cell_type": "code",
      "execution_count": 185,
      "metadata": {},
      "outputs": [
        {
          "output_type": "display_data",
          "metadata": {},
          "data": {
            "text/plain": [
              "3"
            ]
          }
        }
      ],
      "source": [
        "result = max(result, min_value);result"
      ],
      "id": "23ff59d0-2c67-4edb-9f91-e1a74fb8fd19"
    },
    {
      "cell_type": "markdown",
      "metadata": {},
      "source": [
        "## 1이 될 때까지\n",
        "\n",
        "어떠한 수 N이 1이 될 떄까지 다음의 두 과정 중 하나를 반복적으로 선택하여\n",
        "수행하려고 한다. 단, 두 번째 연산은 N이 K로 나누어 쩔어질 때만 선택할 수\n",
        "있다. 1. N에서 1을 뺀다. 2. N을 K로 나눈다.\n",
        "\n",
        "N과 K가 주어질 때 N이 1이 될 때까지 1번 혹은 2번의 과정을 수행해야 하는\n",
        "최소 횟수를 구하는 프로그램을 작성하시오.\n",
        "\n",
        "입력 조건\n",
        "\n",
        "-   첫째 줄에 $N(2 \\le N \\le 100,000)$과 $K(2 \\le K \\le 100,000)$가\n",
        "    공백으로 구분되며 각각 자연수로 주어진다. 이때 입력으로 주어지는 N은\n",
        "    항상 K보다 크거나 같다.\n",
        "\n",
        "출력 조건\n",
        "\n",
        "-   첫째 줄에 N이 1이 될 때까지 1번 혹은 2번의 과정을 수행해야 하는\n",
        "    횟수의 최솟값을 출력한다.\n",
        "\n",
        "**문제 해설**\n",
        "\n",
        "-   ‘최대한 많이 나누기’\n",
        "\n",
        "### Answer 1\n",
        "\n",
        "-   단순하기 푸는 답안 예시"
      ],
      "id": "3228ab0a-3aa0-42c3-a9cb-3cd3ea881a17"
    },
    {
      "cell_type": "code",
      "execution_count": 190,
      "metadata": {},
      "outputs": [
        {
          "output_type": "stream",
          "name": "stdout",
          "text": [
            "2"
          ]
        }
      ],
      "source": [
        "n, k = map(int, input().split())\n",
        "result = 0\n",
        "\n",
        "# N이 K 이상이라면 K로 계속 나누기\n",
        "while n >= k:\n",
        "    # N이 K로 나누어 떨어지지 않는다면 N에서 1씩 빼기\n",
        "    while n % k != 0:\n",
        "        n -= 1\n",
        "        result += 1\n",
        "    # K 로 나누기\n",
        "    n //= k\n",
        "    result += 1\n",
        "    \n",
        "# 마지막으로 남은 수에 대하여 1씩 빼기\n",
        "while n > 1:\n",
        "    n -= 1\n",
        "    result += 1\n",
        "\n",
        "print(result)"
      ],
      "id": "98797a44-c876-4c8b-91d7-74b5f9fc3cc0"
    },
    {
      "cell_type": "code",
      "execution_count": 196,
      "metadata": {},
      "outputs": [],
      "source": [
        "n, k = map(int, input().split())"
      ],
      "id": "0c705de7-cf42-47cc-b7c5-fffff6436d33"
    },
    {
      "cell_type": "code",
      "execution_count": 197,
      "metadata": {},
      "outputs": [
        {
          "output_type": "display_data",
          "metadata": {},
          "data": {
            "text/plain": [
              "0"
            ]
          }
        }
      ],
      "source": [
        "result = 0; result"
      ],
      "id": "54a28c23-c4fd-4607-a13b-374c74387111"
    },
    {
      "cell_type": "code",
      "execution_count": 198,
      "metadata": {},
      "outputs": [
        {
          "output_type": "display_data",
          "metadata": {},
          "data": {
            "text/plain": [
              "0"
            ]
          }
        }
      ],
      "source": [
        "n%k"
      ],
      "id": "d09f3769-85af-4e8c-95a6-7b8f8dceab27"
    },
    {
      "cell_type": "code",
      "execution_count": 199,
      "metadata": {},
      "outputs": [
        {
          "output_type": "display_data",
          "metadata": {},
          "data": {
            "text/plain": [
              "5"
            ]
          }
        }
      ],
      "source": [
        "n //= k;n"
      ],
      "id": "cce46615-168a-49e5-9c1b-d7215ed33adf"
    },
    {
      "cell_type": "code",
      "execution_count": 200,
      "metadata": {},
      "outputs": [
        {
          "output_type": "display_data",
          "metadata": {},
          "data": {
            "text/plain": [
              "1"
            ]
          }
        }
      ],
      "source": [
        "result += 1 ;result"
      ],
      "id": "572e7a28-e05f-4009-8719-19d9864e3dcf"
    },
    {
      "cell_type": "code",
      "execution_count": 201,
      "metadata": {},
      "outputs": [
        {
          "output_type": "display_data",
          "metadata": {},
          "data": {
            "text/plain": [
              "0"
            ]
          }
        }
      ],
      "source": [
        "n%k"
      ],
      "id": "7e1a4a71-6398-4716-8ef7-401c6ae927fa"
    },
    {
      "cell_type": "code",
      "execution_count": 202,
      "metadata": {},
      "outputs": [
        {
          "output_type": "display_data",
          "metadata": {},
          "data": {
            "text/plain": [
              "5"
            ]
          }
        }
      ],
      "source": [
        "n // k ; n"
      ],
      "id": "ba9f45d7-21b0-41db-824b-befd0e3d41c7"
    },
    {
      "cell_type": "code",
      "execution_count": 204,
      "metadata": {},
      "outputs": [
        {
          "output_type": "display_data",
          "metadata": {},
          "data": {
            "text/plain": [
              "2"
            ]
          }
        }
      ],
      "source": [
        "result += 1 ; result"
      ],
      "id": "6aba9c35-066d-4107-bc59-ea50e583c0fc"
    },
    {
      "cell_type": "markdown",
      "metadata": {},
      "source": [
        "### Answer 2\n",
        "\n",
        "-   답안 예시"
      ],
      "id": "7520605f-40cc-4b6c-83a1-f74854bb63fe"
    },
    {
      "cell_type": "code",
      "execution_count": 205,
      "metadata": {},
      "outputs": [
        {
          "output_type": "stream",
          "name": "stdout",
          "text": [
            "2"
          ]
        }
      ],
      "source": [
        "# N, K를 공백으로 구분하여 입력받기\n",
        "n, k = map(int, input().split())\n",
        "result = 0\n",
        "\n",
        "while True:\n",
        "    # (N == K로 나누어 쩔어지는 수)가 될 때까지 1씩 빼기\n",
        "    target = (n // k) * k\n",
        "    result += (n - target)\n",
        "    n = target\n",
        "    # N이 K보다 작을 때(더 이상 나눌 수 없을 떄) 반복문 탈출\n",
        "    if n < k:\n",
        "        break\n",
        "    # K로 나누기\n",
        "    result += 1\n",
        "    n //= k\n",
        "    \n",
        "# 마지막으로 남은 수에 대하여 1씩 빼기\n",
        "result += ( n - 1 )\n",
        "print(result)"
      ],
      "id": "bda80f33-23fa-442e-ba2e-909d21ff4027"
    },
    {
      "cell_type": "code",
      "execution_count": 206,
      "metadata": {},
      "outputs": [],
      "source": [
        "n, k = map(int, input().split())"
      ],
      "id": "e0badc53-2e72-4f84-a4d3-f9e0e89a7d72"
    },
    {
      "cell_type": "code",
      "execution_count": 207,
      "metadata": {},
      "outputs": [],
      "source": [
        "result = 0"
      ],
      "id": "ef0670ba-ed4d-4e61-b797-c9840e3dd6d2"
    },
    {
      "cell_type": "code",
      "execution_count": 209,
      "metadata": {},
      "outputs": [
        {
          "output_type": "display_data",
          "metadata": {},
          "data": {
            "text/plain": [
              "25"
            ]
          }
        }
      ],
      "source": [
        "target = (n // k) * k; target"
      ],
      "id": "fc7037a9-0612-49a2-8e05-ccac6e05269d"
    },
    {
      "cell_type": "code",
      "execution_count": 210,
      "metadata": {},
      "outputs": [
        {
          "output_type": "display_data",
          "metadata": {},
          "data": {
            "text/plain": [
              "25"
            ]
          }
        }
      ],
      "source": [
        "n = target ; n"
      ],
      "id": "0d9849fa-732b-4ffe-8560-db0468a63cd9"
    },
    {
      "cell_type": "code",
      "execution_count": 211,
      "metadata": {},
      "outputs": [
        {
          "output_type": "display_data",
          "metadata": {},
          "data": {
            "text/plain": [
              "1"
            ]
          }
        }
      ],
      "source": [
        "result += 1;result"
      ],
      "id": "f40e19fd-ee54-4064-8f03-aa32437b75d6"
    },
    {
      "cell_type": "code",
      "execution_count": 212,
      "metadata": {},
      "outputs": [
        {
          "output_type": "display_data",
          "metadata": {},
          "data": {
            "text/plain": [
              "5"
            ]
          }
        }
      ],
      "source": [
        "n //= k ;n"
      ],
      "id": "006eff65-f464-4e52-83f8-fd8aff378cc3"
    },
    {
      "cell_type": "code",
      "execution_count": 213,
      "metadata": {},
      "outputs": [
        {
          "output_type": "display_data",
          "metadata": {},
          "data": {
            "text/plain": [
              "5"
            ]
          }
        }
      ],
      "source": [
        "target = (n // k) * k; target"
      ],
      "id": "5dfbcf48-205f-4f9a-8923-bda3b2ae278f"
    },
    {
      "cell_type": "code",
      "execution_count": 214,
      "metadata": {},
      "outputs": [
        {
          "output_type": "display_data",
          "metadata": {},
          "data": {
            "text/plain": [
              "5"
            ]
          }
        }
      ],
      "source": [
        "n = target ; n"
      ],
      "id": "de35414a-4110-489e-a8ea-c2fb450bb52d"
    },
    {
      "cell_type": "code",
      "execution_count": 215,
      "metadata": {},
      "outputs": [
        {
          "output_type": "display_data",
          "metadata": {},
          "data": {
            "text/plain": [
              "2"
            ]
          }
        }
      ],
      "source": [
        "result += 1;result"
      ],
      "id": "8fb1a39e-918c-4004-8d03-94680a608bd7"
    },
    {
      "cell_type": "code",
      "execution_count": 216,
      "metadata": {},
      "outputs": [
        {
          "output_type": "display_data",
          "metadata": {},
          "data": {
            "text/plain": [
              "1"
            ]
          }
        }
      ],
      "source": [
        "n //= k ;n"
      ],
      "id": "f882e1f5-76ad-4395-ad9e-db7707f7da24"
    }
  ],
  "nbformat": 4,
  "nbformat_minor": 5,
  "metadata": {
    "kernelspec": {
      "name": "python3",
      "display_name": "Python 3 (ipykernel)",
      "language": "python"
    },
    "language_info": {
      "name": "python",
      "codemirror_mode": {
        "name": "ipython",
        "version": "3"
      },
      "file_extension": ".py",
      "mimetype": "text/x-python",
      "nbconvert_exporter": "python",
      "pygments_lexer": "ipython3",
      "version": "3.8.12"
    }
  }
}