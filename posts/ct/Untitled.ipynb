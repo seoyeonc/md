{
 "cells": [
  {
   "cell_type": "raw",
   "id": "ef96977f-8510-464a-aa38-1b2bc06ac58c",
   "metadata": {
    "id": "cac470df-29e7-4148-9bbd-d8b9a32fa570",
    "tags": []
   },
   "source": [
    "---\n",
    "title: \"Map\"\n",
    "author: \"SEOYEON CHOI\"\n",
    "date: \"2023-03-26\"\n",
    "categories:\n",
    "  - Coding Test\n",
    "---"
   ]
  },
  {
   "cell_type": "markdown",
   "id": "e4684287-9993-4599-b127-3f43730affd7",
   "metadata": {},
   "source": [
    "> Map"
   ]
  },
  {
   "cell_type": "markdown",
   "id": "75f365ba-aeea-442c-bc77-1a98d50c8ec1",
   "metadata": {},
   "source": [
    "# Map"
   ]
  },
  {
   "cell_type": "code",
   "execution_count": null,
   "id": "516b26ec-5e59-4235-b2fc-031d3f48f879",
   "metadata": {},
   "outputs": [],
   "source": []
  }
 ],
 "metadata": {
  "kernelspec": {
   "display_name": "Python 3 (ipykernel)",
   "language": "python",
   "name": "python3"
  },
  "language_info": {
   "codemirror_mode": {
    "name": "ipython",
    "version": 3
   },
   "file_extension": ".py",
   "mimetype": "text/x-python",
   "name": "python",
   "nbconvert_exporter": "python",
   "pygments_lexer": "ipython3",
   "version": "3.8.12"
  }
 },
 "nbformat": 4,
 "nbformat_minor": 5
}
