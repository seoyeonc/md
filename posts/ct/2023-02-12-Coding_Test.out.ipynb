{
  "cells": [
    {
      "cell_type": "markdown",
      "metadata": {},
      "source": [
        "# ArrayList & LinkedList\n",
        "\n",
        "SEOYEON CHOI  \n",
        "2/12/23\n",
        "\n",
        "> ArrayList & LinkedList\n",
        "\n",
        "# ArrayList\n",
        "\n",
        "## max & min"
      ],
      "id": "4d2d65c5-99e5-4061-8c96-9cc5293fcff8"
    },
    {
      "cell_type": "code",
      "execution_count": 7,
      "metadata": {},
      "outputs": [],
      "source": [
        "n = input(list())"
      ],
      "id": "743b8ab3-1220-47da-af3b-c8e8b82eee0c"
    },
    {
      "cell_type": "code",
      "execution_count": 8,
      "metadata": {},
      "outputs": [],
      "source": [
        "array_list = list(map(int,input().split()))"
      ],
      "id": "e69f55d4-516e-46ef-843e-a7cf6d2a6735"
    },
    {
      "cell_type": "code",
      "execution_count": 10,
      "metadata": {},
      "outputs": [],
      "source": [
        "max_num = array_list[0]\n",
        "min_num = array_list[0]"
      ],
      "id": "d5230ec6-dbf2-4309-a178-3c6a13706118"
    },
    {
      "cell_type": "code",
      "execution_count": 11,
      "metadata": {},
      "outputs": [],
      "source": [
        "for num in array_list:\n",
        "    if num > max_num:\n",
        "        max_num = num\n",
        "    if num < min_num:\n",
        "        min_num = num"
      ],
      "id": "efc4b71d-313a-4212-b1a7-7028aca65d95"
    },
    {
      "cell_type": "code",
      "execution_count": 12,
      "metadata": {},
      "outputs": [
        {
          "output_type": "stream",
          "name": "stdout",
          "text": [
            "7 35"
          ]
        }
      ],
      "source": [
        "print(min_num,max_num)"
      ],
      "id": "f3dd02cc-3099-4a55-ad6a-0ddfb1c7543e"
    },
    {
      "cell_type": "markdown",
      "metadata": {},
      "source": [
        "## 2 dimension arraylist"
      ],
      "id": "daeb04e3-0205-4f8e-b5bc-3747363ee3b4"
    },
    {
      "cell_type": "code",
      "execution_count": 20,
      "metadata": {},
      "outputs": [],
      "source": [
        "human = [list(map(int,input().split())) for _ in range(5)]"
      ],
      "id": "afba7f28-aed1-49bb-8754-de7a50b2823d"
    },
    {
      "cell_type": "code",
      "execution_count": 25,
      "metadata": {},
      "outputs": [],
      "source": [
        "humanscore = [0]*5"
      ],
      "id": "9fbcaf7e-b822-4e0a-87ab-2661ab8322ed"
    },
    {
      "cell_type": "code",
      "execution_count": 26,
      "metadata": {},
      "outputs": [],
      "source": [
        "score = 0"
      ],
      "id": "8c80850a-ef15-46f5-99db-18b8f75309ad"
    },
    {
      "cell_type": "code",
      "execution_count": 27,
      "metadata": {},
      "outputs": [],
      "source": [
        "for i in range(5):\n",
        "    sum = 0\n",
        "    for j in range(4):\n",
        "        sum += human[i][j]\n",
        "    humanscore[i] = sum\n",
        "    score = max(score,sum)"
      ],
      "id": "2ad4e3d7-416f-466b-930f-0322ea596750"
    },
    {
      "cell_type": "code",
      "execution_count": 28,
      "metadata": {},
      "outputs": [
        {
          "output_type": "display_data",
          "metadata": {},
          "data": {
            "text/plain": [
              "[18, 17, 18, 19, 17]"
            ]
          }
        }
      ],
      "source": [
        "humanscore"
      ],
      "id": "928ef212-601c-47a0-a49c-beee8d8cb19d"
    },
    {
      "cell_type": "code",
      "execution_count": 30,
      "metadata": {},
      "outputs": [
        {
          "output_type": "display_data",
          "metadata": {},
          "data": {
            "text/plain": [
              "19"
            ]
          }
        }
      ],
      "source": [
        "score"
      ],
      "id": "48d3ff61-7873-44ae-967a-909392d686a0"
    },
    {
      "cell_type": "code",
      "execution_count": 31,
      "metadata": {},
      "outputs": [
        {
          "output_type": "stream",
          "name": "stdout",
          "text": [
            "4 19"
          ]
        }
      ],
      "source": [
        "for i in range(5):\n",
        "    if humanscore[i] == score:\n",
        "        print(i+1,score)\n",
        "        break"
      ],
      "id": "f2a9d14f-9d8d-41a8-88c9-1c572994496b"
    },
    {
      "cell_type": "markdown",
      "metadata": {},
      "source": [
        "$\\star$ 0 부터 시작하니까 1 더해주기\n",
        "\n",
        "## add & delete\n",
        "\n",
        "삽입과 삭제가 많은 문제를 접랬을때는 ArrayList 사용하게 되면\n",
        "시간복잡도가 높아진다.\n",
        "\n",
        "따라서 스택을 이용하는 게 적절하다. 다른 장에 추가 서술 예정\n",
        "\n",
        "# Linked List\n",
        "\n",
        "파이썬에는 LinkedList 라이브러리가 없어서 직접 클래스를 만들어 사용해야\n",
        "함.\n",
        "\n",
        "비효율적"
      ],
      "id": "f9510ab3-a276-4f7c-a5a2-674b66f5ce17"
    }
  ],
  "nbformat": 4,
  "nbformat_minor": 5,
  "metadata": {
    "kernelspec": {
      "name": "python3",
      "display_name": "Python 3 (ipykernel)",
      "language": "python"
    },
    "language_info": {
      "name": "python",
      "codemirror_mode": {
        "name": "ipython",
        "version": "3"
      },
      "file_extension": ".py",
      "mimetype": "text/x-python",
      "nbconvert_exporter": "python",
      "pygments_lexer": "ipython3",
      "version": "3.8.12"
    }
  }
}