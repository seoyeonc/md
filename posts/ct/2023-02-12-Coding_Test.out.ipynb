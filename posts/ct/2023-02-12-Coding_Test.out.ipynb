{
  "cells": [
    {
      "cell_type": "markdown",
      "metadata": {},
      "source": [
        "# ArrayList & LinkedList\n",
        "\n",
        "SEOYEON CHOI  \n",
        "2023-02-12\n",
        "\n",
        "> ArrayList & LinkedList\n",
        "\n",
        "# ArrayList\n",
        "\n",
        "## max & min"
      ],
      "id": "76afb792-67a0-47ab-acb0-d6b1e92610f5"
    },
    {
      "cell_type": "code",
      "execution_count": 7,
      "metadata": {},
      "outputs": [],
      "source": [
        "n = input(list())"
      ],
      "id": "5966ae70-800d-448f-a22b-1b9dc62e01db"
    },
    {
      "cell_type": "code",
      "execution_count": 8,
      "metadata": {},
      "outputs": [],
      "source": [
        "array_list = list(map(int,input().split()))"
      ],
      "id": "ecdd5c61-4cc9-4eb0-98a4-8f7217d147cd"
    },
    {
      "cell_type": "code",
      "execution_count": 10,
      "metadata": {},
      "outputs": [],
      "source": [
        "max_num = array_list[0]\n",
        "min_num = array_list[0]"
      ],
      "id": "afe88bdd-d1f1-48e4-8876-7900ee8caf5c"
    },
    {
      "cell_type": "code",
      "execution_count": 11,
      "metadata": {},
      "outputs": [],
      "source": [
        "for num in array_list:\n",
        "    if num > max_num:\n",
        "        max_num = num\n",
        "    if num < min_num:\n",
        "        min_num = num"
      ],
      "id": "5aaf5afc-8994-4669-ace8-3631b1cc8321"
    },
    {
      "cell_type": "code",
      "execution_count": 12,
      "metadata": {},
      "outputs": [
        {
          "output_type": "stream",
          "name": "stdout",
          "text": [
            "7 35"
          ]
        }
      ],
      "source": [
        "print(min_num,max_num)"
      ],
      "id": "1b2b2f15-485e-49b9-8671-6f188d7393fb"
    },
    {
      "cell_type": "markdown",
      "metadata": {},
      "source": [
        "## 2 dimension arraylist"
      ],
      "id": "bc93c7f9-87a8-45f7-9036-386b5c075fe6"
    },
    {
      "cell_type": "code",
      "execution_count": 20,
      "metadata": {},
      "outputs": [],
      "source": [
        "human = [list(map(int,input().split())) for _ in range(5)]"
      ],
      "id": "08f5c051-dc5f-4f68-8596-c05c137feff8"
    },
    {
      "cell_type": "code",
      "execution_count": 25,
      "metadata": {},
      "outputs": [],
      "source": [
        "humanscore = [0]*5"
      ],
      "id": "39aeb0d0-f92f-4992-a741-842ab1547a5a"
    },
    {
      "cell_type": "code",
      "execution_count": 26,
      "metadata": {},
      "outputs": [],
      "source": [
        "score = 0"
      ],
      "id": "e44880cd-72c0-45b7-b71a-77323c9e7598"
    },
    {
      "cell_type": "code",
      "execution_count": 27,
      "metadata": {},
      "outputs": [],
      "source": [
        "for i in range(5):\n",
        "    sum = 0\n",
        "    for j in range(4):\n",
        "        sum += human[i][j]\n",
        "    humanscore[i] = sum\n",
        "    score = max(score,sum)"
      ],
      "id": "b0b321dc-25c1-4f12-a021-17f1b98cfd9b"
    },
    {
      "cell_type": "code",
      "execution_count": 28,
      "metadata": {},
      "outputs": [
        {
          "output_type": "display_data",
          "metadata": {},
          "data": {
            "text/plain": [
              "[18, 17, 18, 19, 17]"
            ]
          }
        }
      ],
      "source": [
        "humanscore"
      ],
      "id": "3393ff82-f80a-42ea-8b9d-b3f3c5f9d9dc"
    },
    {
      "cell_type": "code",
      "execution_count": 30,
      "metadata": {},
      "outputs": [
        {
          "output_type": "display_data",
          "metadata": {},
          "data": {
            "text/plain": [
              "19"
            ]
          }
        }
      ],
      "source": [
        "score"
      ],
      "id": "8835058c-481f-4f02-955b-c90c2ec4dc17"
    },
    {
      "cell_type": "code",
      "execution_count": 31,
      "metadata": {},
      "outputs": [
        {
          "output_type": "stream",
          "name": "stdout",
          "text": [
            "4 19"
          ]
        }
      ],
      "source": [
        "for i in range(5):\n",
        "    if humanscore[i] == score:\n",
        "        print(i+1,score)\n",
        "        break"
      ],
      "id": "eb9c9c88-1e25-40d6-8963-11729214afe2"
    },
    {
      "cell_type": "markdown",
      "metadata": {},
      "source": [
        "$\\star$ 0 부터 시작하니까 1 더해주기\n",
        "\n",
        "## add & delete\n",
        "\n",
        "삽입과 삭제가 많은 문제를 접랬을때는 ArrayList 사용하게 되면\n",
        "시간복잡도가 높아진다.\n",
        "\n",
        "따라서 스택을 이용하는 게 적절하다. 다른 장에 추가 서술 예정\n",
        "\n",
        "# Linked List\n",
        "\n",
        "파이썬에는 LinkedList 라이브러리가 없어서 직접 클래스를 만들어 사용해야\n",
        "함.\n",
        "\n",
        "비효율적"
      ],
      "id": "1b603071-df40-4214-8046-87fb40bbdb5f"
    }
  ],
  "nbformat": 4,
  "nbformat_minor": 5,
  "metadata": {
    "kernelspec": {
      "name": "python3",
      "display_name": "Python 3 (ipykernel)",
      "language": "python"
    },
    "language_info": {
      "name": "python",
      "codemirror_mode": {
        "name": "ipython",
        "version": "3"
      },
      "file_extension": ".py",
      "mimetype": "text/x-python",
      "nbconvert_exporter": "python",
      "pygments_lexer": "ipython3",
      "version": "3.8.12"
    }
  }
}