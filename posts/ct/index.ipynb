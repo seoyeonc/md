{
  "cells": [
    {
      "cell_type": "markdown",
      "metadata": {},
      "source": [
        "# Coding Test\n",
        "\n",
        "SEOYEON CHOI  \n",
        "2022-12-28\n",
        "\n",
        "Let’s prepare the coding test."
      ],
      "id": "adb48bdd-8e4e-4a45-b1b7-f4aba7ec581b"
    }
  ],
  "nbformat": 4,
  "nbformat_minor": 5,
  "metadata": {
    "kernelspec": {
      "display_name": "Python 3",
      "language": "python",
      "name": "python3"
    }
  }
}