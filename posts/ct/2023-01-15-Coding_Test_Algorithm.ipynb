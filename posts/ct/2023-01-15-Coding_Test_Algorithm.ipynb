{
 "cells": [
  {
   "cell_type": "raw",
   "id": "7aa291fb-d460-4d35-a690-7f46a4615a44",
   "metadata": {
    "id": "cac470df-29e7-4148-9bbd-d8b9a32fa570",
    "tags": []
   },
   "source": [
    "---\n",
    "title: \"Algorithm\"\n",
    "author: \"SEOYEON CHOI\"\n",
    "date: \"2023-01-15\"\n",
    "categories:\n",
    "  - Coding Test\n",
    "---"
   ]
  },
  {
   "cell_type": "markdown",
   "id": "87dd34c3-3c4c-41b0-acab-6c806187ea5a",
   "metadata": {},
   "source": [
    "> Algorithm"
   ]
  },
  {
   "cell_type": "markdown",
   "id": "64b34a2d-9b4b-4af7-8e4f-d6ee1a9286dd",
   "metadata": {},
   "source": [
    "# 소수의 판별"
   ]
  },
  {
   "cell_type": "code",
   "execution_count": 3,
   "id": "2c6206f0-b8e9-486e-be22-636832b214aa",
   "metadata": {},
   "outputs": [
    {
     "name": "stdout",
     "output_type": "stream",
     "text": [
      "False\n",
      "True\n"
     ]
    }
   ],
   "source": [
    "import math\n",
    "\n",
    "def prime(x):\n",
    "    for i in range(2,int(math.sqrt(x))+1):\n",
    "        if x % i == 0:\n",
    "            return False\n",
    "    return True\n",
    "\n",
    "print(prime(4))\n",
    "print(prime(7))"
   ]
  },
  {
   "cell_type": "code",
   "execution_count": 8,
   "id": "a95e55bb-b40c-4798-ac02-2e025d70fc87",
   "metadata": {},
   "outputs": [
    {
     "data": {
      "text/plain": [
       "4"
      ]
     },
     "execution_count": 8,
     "metadata": {},
     "output_type": "execute_result"
    }
   ],
   "source": [
    "int(math.sqrt(23))"
   ]
  },
  {
   "cell_type": "markdown",
   "id": "a7e00741-6228-4693-bf5e-b92ab708ae5a",
   "metadata": {},
   "source": [
    "# 에라토스테네스의 체"
   ]
  },
  {
   "cell_type": "markdown",
   "id": "8ccd563c-c03d-4a29-ac0e-fdf3926a4265",
   "metadata": {},
   "source": [
    "주어진 자연수 중 소수인 것만 골라내기"
   ]
  },
  {
   "cell_type": "code",
   "execution_count": 10,
   "id": "a5cf1590-0eed-4cd8-a3b6-8bd280ac2080",
   "metadata": {},
   "outputs": [
    {
     "name": "stdout",
     "output_type": "stream",
     "text": [
      "2 3 5 7 11 13 17 19 23 29 31 37 41 43 47 53 59 61 67 71 73 79 83 89 97 101 103 107 109 113 127 131 137 139 149 151 157 163 167 173 179 181 191 193 197 199 211 223 227 229 233 239 241 251 257 263 269 271 277 281 283 293 307 311 313 317 331 337 347 349 353 359 367 373 379 383 389 397 401 409 419 421 431 433 439 443 449 457 461 463 467 479 487 491 499 503 509 521 523 541 547 557 563 569 571 577 587 593 599 601 607 613 617 619 631 641 643 647 653 659 661 673 677 683 691 701 709 719 727 733 739 743 751 757 761 769 773 787 797 809 811 821 823 827 829 839 853 857 859 863 877 881 883 887 907 911 919 929 937 941 947 953 967 971 977 983 991 997 "
     ]
    }
   ],
   "source": [
    "import math\n",
    "\n",
    "n = 1000\n",
    "array = [True for i in range(n+1)]\n",
    "\n",
    "for i in range(2,int(math.sqrt(n)) + 1):\n",
    "    if array[i] == True:\n",
    "        j = 2\n",
    "        while i*j <= n:\n",
    "            array[i*j] = False\n",
    "            j += 1\n",
    "            \n",
    "for i in range(2,n+1):\n",
    "    if array[i]:\n",
    "        print(i,end = ' ')"
   ]
  },
  {
   "cell_type": "markdown",
   "id": "42edd8db-2972-40b4-9117-fb8908c285f4",
   "metadata": {},
   "source": [
    "# 투 포인터"
   ]
  },
  {
   "cell_type": "markdown",
   "id": "edbfaa7e-32d3-4d39-8127-6ffb044d9085",
   "metadata": {},
   "source": [
    "리스트에 순차적으로 접근해야 할 때 2개의 점의 위치를 가록하면서 처리하는 알고리즘"
   ]
  },
  {
   "cell_type": "markdown",
   "id": "99a028ca-c72e-4ac4-a3e1-204d4acb114e",
   "metadata": {},
   "source": [
    "**특정한 합을 가지는 부분 연속 수열 찾기**"
   ]
  },
  {
   "cell_type": "markdown",
   "id": "4e9f5974-12f6-4e55-ba5b-aa153a1b54e4",
   "metadata": {},
   "source": [
    "\n",
    "`1`. 시작점과 끝점이 첫 번째 원소의 인덱스를 가리키도록 한다.\n",
    "\n",
    "`2`. 현재 부분합이 M과 같다면 count한다.\n",
    "\n",
    "`3`. 현재 부분합이 M보다 작으면 end를 1 증가시킨다.\n",
    "\n",
    "`4`. 현재 부분합이 M보다 크거나 같으면 start를 1 증가시킨다.\n",
    "\n",
    "`5`. 모든 경우를 확인할 때까지 `2`번 부터 `4`번까지의 과정을 반복한다."
   ]
  },
  {
   "cell_type": "code",
   "execution_count": 12,
   "id": "885520ad-51f3-4ca1-8ec6-1984a11c4738",
   "metadata": {},
   "outputs": [
    {
     "name": "stdout",
     "output_type": "stream",
     "text": [
      "3\n"
     ]
    }
   ],
   "source": [
    "n = 6 # 데이터 개수\n",
    "m = 5 # 찾고 싶은 부분합\n",
    "data = [1,3,2,3,4,5]\n",
    "\n",
    "count = 0\n",
    "interval_sum = 0\n",
    "end = 0\n",
    "\n",
    "for start in range(n):\n",
    "    while interval_sum < m and end < n:\n",
    "        interval_sum += data[end]\n",
    "        end+=1\n",
    "    if interval_sum == m:\n",
    "        count += 1\n",
    "    interval_sum -= data[start]\n",
    "    \n",
    "print(count)            "
   ]
  },
  {
   "cell_type": "markdown",
   "id": "5302d374-4d69-489b-940e-89d4c16bd727",
   "metadata": {},
   "source": [
    "**정렬되어 있는 두 리스트의 합집합**"
   ]
  },
  {
   "cell_type": "markdown",
   "id": "733a29c2-4c4b-4e2e-b845-3c9a95937c39",
   "metadata": {},
   "source": [
    "`1`. 정렬된 리스트 A와 B를 입력받는다.\n",
    "\n",
    "`2`. 리스트 A에서 처리되지 않은 원소 중 가장 작은 원소를 i가 가리키도록 한다.\n",
    "\n",
    "`3`. 리스트 B에서 처리되지 않은 원소 중 가장 작은 우너소를 j가 가리키도록 한다.\n",
    "\n",
    "`4`. A[i]와 B[j] 중에서 더 작은 원소를 결과 리스트에 담는다.\n",
    "\n",
    "`5`. 리스트 A와 B에서 더 이상 처리할 원소가 없을 때까지 `2`~ `4`번의 과정을 반복한다."
   ]
  },
  {
   "cell_type": "code",
   "execution_count": 15,
   "id": "5b607908-e1d4-44de-8016-3dfff564600c",
   "metadata": {},
   "outputs": [
    {
     "name": "stdout",
     "output_type": "stream",
     "text": [
      "1244778"
     ]
    }
   ],
   "source": [
    "n, m = 3,4\n",
    "a = [2,7,4]\n",
    "b = [4,8,1,7]\n",
    "c = sorted(a)\n",
    "d = sorted(b)\n",
    "\n",
    "result = [0] * (n+m)\n",
    "i = 0\n",
    "j = 0\n",
    "k = 0\n",
    "\n",
    "while i < n or j < m:\n",
    "    if j >= m or (i < n and c[i] <= d[j]):\n",
    "        result[k] = c[i]\n",
    "        i += 1\n",
    "    else:\n",
    "        result[k] = d[j]\n",
    "        j += 1\n",
    "    k += 1\n",
    "    \n",
    "for i in result:\n",
    "    print(i,end = '')"
   ]
  },
  {
   "cell_type": "markdown",
   "id": "d6ce3325-a4ff-46e1-9b8d-155edc2b5534",
   "metadata": {},
   "source": [
    "# 구간 합 계산"
   ]
  },
  {
   "cell_type": "markdown",
   "id": "f864bbe6-4f47-4db4-8f75-9b46bbc4ca14",
   "metadata": {},
   "source": [
    "`1`. N개의 수에 대하여 접두사 합을 계산하여 배열 P에 저장한다.\n",
    "\n",
    "`2`. 매 M개의 Query 정보 $[L,R]$을 확인할 때, 구간 합은 $P[R] - P[L-1]$이다."
   ]
  },
  {
   "cell_type": "code",
   "execution_count": 18,
   "id": "67a5077e-9a85-4310-8352-cad5baf9920b",
   "metadata": {},
   "outputs": [
    {
     "name": "stdout",
     "output_type": "stream",
     "text": [
      "90\n",
      "30\n",
      "60\n"
     ]
    }
   ],
   "source": [
    "n = 5\n",
    "data = [10,20,30,30,3,10,2]\n",
    "\n",
    "sum_value = 0\n",
    "prefix_sum = [0]\n",
    "for i in data:\n",
    "    sum_value += i\n",
    "    prefix_sum.append(sum_value)\n",
    "    \n",
    "left = 3\n",
    "right = 4\n",
    "print(prefix_sum[right])\n",
    "print(prefix_sum[left - 1])\n",
    "print(prefix_sum[right] - prefix_sum[left - 1])"
   ]
  },
  {
   "cell_type": "markdown",
   "id": "da9b1eb4-a0a9-400d-baa0-8f60ec588def",
   "metadata": {},
   "source": [
    "# 순열과 조합"
   ]
  },
  {
   "cell_type": "markdown",
   "id": "0b0aa2bc-57e2-45dd-bb7e-d0c0a7adc04f",
   "metadata": {},
   "source": [
    "## 순열"
   ]
  },
  {
   "cell_type": "code",
   "execution_count": 19,
   "id": "ba521503-f8eb-4810-bf35-c2040a52c879",
   "metadata": {},
   "outputs": [
    {
     "name": "stdout",
     "output_type": "stream",
     "text": [
      "[2, 3]\n",
      "[2, 4]\n",
      "[3, 2]\n",
      "[3, 4]\n",
      "[4, 2]\n",
      "[4, 3]\n"
     ]
    }
   ],
   "source": [
    "import itertools\n",
    "\n",
    "data = [2,3,4]\n",
    "\n",
    "for x in itertools.permutations(data,2):\n",
    "    print(list(x))"
   ]
  },
  {
   "cell_type": "markdown",
   "id": "d2e3a180-fc3e-4801-b097-723a0fd2db7a",
   "metadata": {},
   "source": [
    "## 조합"
   ]
  },
  {
   "cell_type": "code",
   "execution_count": 21,
   "id": "e0b66e1f-7ddf-4d69-b6e2-11685f1c20e7",
   "metadata": {},
   "outputs": [
    {
     "name": "stdout",
     "output_type": "stream",
     "text": [
      "[2, 4][2, 5][2, 2][4, 5][4, 2][5, 2]"
     ]
    }
   ],
   "source": [
    "import itertools\n",
    "\n",
    "data = [2,4,5,2]\n",
    "\n",
    "for x in itertools.combinations(data,2):\n",
    "    print(list(x),end = '')"
   ]
  }
 ],
 "metadata": {
  "kernelspec": {
   "display_name": "Python 3 (ipykernel)",
   "language": "python",
   "name": "python3"
  },
  "language_info": {
   "codemirror_mode": {
    "name": "ipython",
    "version": 3
   },
   "file_extension": ".py",
   "mimetype": "text/x-python",
   "name": "python",
   "nbconvert_exporter": "python",
   "pygments_lexer": "ipython3",
   "version": "3.8.12"
  }
 },
 "nbformat": 4,
 "nbformat_minor": 5
}
