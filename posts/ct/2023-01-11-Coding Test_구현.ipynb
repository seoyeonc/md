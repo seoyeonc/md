{
 "cells": [
  {
   "cell_type": "raw",
   "id": "b6f0191e-a4c4-4109-8642-948ea65301ca",
   "metadata": {
    "id": "cac470df-29e7-4148-9bbd-d8b9a32fa570",
    "tags": []
   },
   "source": [
    "---\n",
    "title: \"Chapter 04 구현\"\n",
    "author: \"SEOYEON CHOI\"\n",
    "date: \"2023-01-11\"\n",
    "categories:\n",
    "  - Coding Test\n",
    "---"
   ]
  },
  {
   "cell_type": "markdown",
   "id": "f38dfd4f-7bff-45d5-b433-85afe6b63e94",
   "metadata": {},
   "source": [
    "> 구현: 머릿속에 있는 알고리즘을 정확하고 빠르게 프로그램으로 작성하기"
   ]
  },
  {
   "cell_type": "markdown",
   "id": "1629cc87-63ad-45d6-abf5-064d046c480a",
   "metadata": {},
   "source": [
    "완전 탐색 : 모든 경우의 수를 주저 없이 다 계산하는 해결 방법\n",
    "\n",
    "시뮬레이션: 문제에서 제시한 알고리즘을 한 단계씩 차례대로 지겁 수행"
   ]
  },
  {
   "cell_type": "code",
   "execution_count": null,
   "id": "318d4fa3-3bfa-4e8b-b153-e0edb6e8080e",
   "metadata": {},
   "outputs": [],
   "source": []
  }
 ],
 "metadata": {
  "kernelspec": {
   "display_name": "Python 3 (ipykernel)",
   "language": "python",
   "name": "python3"
  },
  "language_info": {
   "codemirror_mode": {
    "name": "ipython",
    "version": 3
   },
   "file_extension": ".py",
   "mimetype": "text/x-python",
   "name": "python",
   "nbconvert_exporter": "python",
   "pygments_lexer": "ipython3",
   "version": "3.8.12"
  }
 },
 "nbformat": 4,
 "nbformat_minor": 5
}
