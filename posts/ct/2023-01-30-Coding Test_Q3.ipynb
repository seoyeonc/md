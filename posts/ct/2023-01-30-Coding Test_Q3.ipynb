{
 "cells": [
  {
   "cell_type": "raw",
   "id": "c2110ba4-3a0d-4aad-8984-144706c4859c",
   "metadata": {
    "id": "cac470df-29e7-4148-9bbd-d8b9a32fa570",
    "tags": []
   },
   "source": [
    "---\n",
    "title: \"코딩 테스트 공부(Not Done)\"\n",
    "author: \"SEOYEON CHOI\"\n",
    "date: \"2023-01-30\"\n",
    "categories:\n",
    "  - Coding Test\n",
    "---"
   ]
  },
  {
   "cell_type": "markdown",
   "id": "648cf358-0e96-4e83-b2de-925aa2cae3be",
   "metadata": {},
   "source": [
    "> 2022:KAKAO TECH INTERNSHIP"
   ]
  },
  {
   "cell_type": "markdown",
   "id": "eb7f453b-5f27-4214-aa9d-b27cd97a7bee",
   "metadata": {},
   "source": [
    "https://velog.io/@jinyeong-afk/Python-2022-KAKAO-TECH-INTERNSHIP-%EC%BD%94%EB%94%A9-%ED%85%8C%EC%8A%A4%ED%8A%B8-%EA%B3%B5%EB%B6%80-DPDynamic-Programming-%EB%8F%99%EC%A0%81-%EA%B3%84%ED%9A%8D%EB%B2%95"
   ]
  },
  {
   "cell_type": "markdown",
   "id": "75943de9-8184-401d-8b5b-3dcae4ca0b68",
   "metadata": {},
   "source": [
    "문제 설명\n",
    "[본 문제는 정확성과 효율성 테스트 각각 점수가 있는 문제입니다.]\n",
    "\n",
    "당신은 코딩 테스트를 준비하기 위해 공부하려고 합니다. 코딩 테스트 문제를 풀기 위해서는 알고리즘에 대한 지식과 코드를 구현하는 능력이 필요합니다.\n",
    "\n",
    "알고리즘에 대한 지식은 알고력, 코드를 구현하는 능력은 코딩력이라고 표현합니다. 알고력과 코딩력은 0 이상의 정수로 표현됩니다.\n",
    "\n",
    "문제를 풀기 위해서는 문제가 요구하는 일정 이상의 알고력과 코딩력이 필요합니다.\n",
    "\n",
    "예를 들어, 당신의 현재 알고력이 15, 코딩력이 10이라고 가정해보겠습니다.\n",
    "\n",
    "A라는 문제가 알고력 10, 코딩력 10을 요구한다면 A 문제를 풀 수 있습니다.\n",
    "\n",
    "B라는 문제가 알고력 10, 코딩력 20을 요구한다면 코딩력이 부족하기 때문에 B 문제를 풀 수 없습니다.\n",
    "\n",
    "풀 수 없는 문제를 해결하기 위해서는 알고력과 코딩력을 높여야 합니다. 알고력과 코딩력을 높이기 위한 다음과 같은 방법들이 있습니다.\n",
    "\n",
    "알고력을 높이기 위해 알고리즘 공부를 합니다. 알고력 1을 높이기 위해서 1의 시간이 필요합니다.\n",
    "\n",
    "코딩력을 높이기 위해 코딩 공부를 합니다. 코딩력 1을 높이기 위해서 1의 시간이 필요합니다.\n",
    "\n",
    "현재 풀 수 있는 문제 중 하나를 풀어 알고력과 코딩력을 높입니다. 각 문제마다 문제를 풀면 올라가는 알고력과 코딩력이 정해져 있습니다.\n",
    "\n",
    "문제를 하나 푸는 데는 문제가 요구하는 시간이 필요하며 같은 문제를 여러 번 푸는 것이 가능합니다.\n",
    "\n",
    "당신은 주어진 모든 문제들을 풀 수 있는 알고력과 코딩력을 얻는 최단시간을 구하려 합니다.\n",
    "\n",
    "초기의 알고력과 코딩력을 담은 정수 alp와 cop, 문제의 정보를 담은 2차원 정수 배열 problems가 매개변수로 주어졌을 때, 모든 문제들을 풀 수 있는 알고력과 코딩력을 얻는 최단시간을 return 하도록 solution 함수를 작성해주세요.\n",
    "\n",
    "모든 문제들을 1번 이상씩 풀 필요는 없습니다. 입출력 예 설명을 참고해주세요.\n",
    "\n",
    "제한사항\n",
    "\n",
    "초기의 알고력을 나타내는 alp와 초기의 코딩력을 나타내는 cop가 입력으로 주어집니다.\n",
    "\n",
    "$0 ≤ alp,cop ≤ 150$, $1 ≤ problems의 길이 ≤ 100$\n",
    "\n",
    "problems의 원소는 [alp_req, cop_req, alp_rwd, cop_rwd, cost]의 형태로 이루어져 있습니다.\n",
    "\n",
    "alp_req는 문제를 푸는데 필요한 알고력입니다.\n",
    "\n",
    "$0 ≤ alp_req ≤ 150$\n",
    "\n",
    "cop_req는 문제를 푸는데 필요한 코딩력입니다.\n",
    "\n",
    "$0 ≤ cop_req ≤ 150$\n",
    "\n",
    "alp_rwd는 문제를 풀었을 때 증가하는 알고력입니다.\n",
    "\n",
    "$0 ≤ alp_rwd ≤ 30$\n",
    "\n",
    "cop_rwd는 문제를 풀었을 때 증가하는 코딩력입니다.\n",
    "\n",
    "$0 ≤ cop_rwd ≤ 30$\n",
    "\n",
    "cost는 문제를 푸는데 드는 시간입니다.\n",
    "\n",
    "$1 ≤ cost ≤ 100$\n",
    "\n",
    "정확성 테스트 케이스 제한사항\n",
    "\n",
    "$0 ≤ alp,cop ≤ 20$\n",
    "\n",
    "$1 ≤ problems의 길이 ≤ 6$\n",
    "\n",
    "$0 ≤ alp_req,cop_req ≤ 20$\n",
    "\n",
    "$0 ≤ alp_rwd,cop_rwd ≤ 5$\n",
    "\n",
    "$1 ≤ cost ≤ 10$\n",
    "\n",
    "효율성 테스트 케이스 제한사항\n",
    "\n",
    "주어진 조건 외 추가 제한사항 없습니다.\n",
    "\n",
    "입출력 예\n",
    "\n",
    "|alp|cop|problems|result|\n",
    "|--|--|--|--|\n",
    "|10|10|[[10,15,2,1,2],[20,20,3,3,4]]|15|\n",
    "|0|0|[[0,0,2,1,2],[4,5,3,1,2],[4,11,4,0,2],[10,4,0,4,2]]|13|\n",
    "\n",
    "입출력 예 설명\n",
    "\n",
    "입출력 예 #1\n",
    "\n",
    "코딩력 5를 늘립니다. 알고력 10, 코딩력 15가 되며 시간이 5만큼 소요됩니다.\n",
    "\n",
    "1번 문제를 5번 풉니다. 알고력 20, 코딩력 20이 되며 시간이 10만큼 소요됩니다. 15의 시간을 소요하여 모든 문제를 풀 수 있는 알고력과 코딩력을 가질 수 있습니다.\n",
    "\n",
    "입출력 예 #2\n",
    "\n",
    "1번 문제를 2번 풉니다. 알고력 4, 코딩력 2가 되며 시간이 4만큼 소요됩니다.\n",
    "\n",
    "코딩력 3을 늘립니다. 알고력 4, 코딩력 5가 되며 시간이 3만큼 소요됩니다.\n",
    "\n",
    "2번 문제를 2번 풉니다. 알고력 10, 코딩력 7이 되며 시간이 4만큼 소요됩니다.\n",
    "\n",
    "4번 문제를 1번 풉니다. 알고력 10, 코딩력 11이 되며 시간이 2만큼 소요됩니다. 13의 시간을 소요하여 모든 문제를 풀 수 있는 알고력과 코딩력을 가질 수 있습니다.\n",
    "\n",
    "제한시간 안내\n",
    "\n",
    "정확성 테스트 : 10초\n",
    "\n",
    "효율성 테스트 : 언어별로 작성된 정답 코드의 실행 시간의 적정 배수"
   ]
  },
  {
   "cell_type": "code",
   "execution_count": 1,
   "id": "a854c3a1-8b36-4c5f-9bfa-44f405c8780a",
   "metadata": {},
   "outputs": [],
   "source": [
    "def solution(alp, cop, problems):\n",
    "    answer = 0\n",
    "    \n",
    "    alp\n",
    "    cop\n",
    "    alp_req, cop_req, alp_wd, cop_wd, cost = problems\n",
    "    \n",
    "    \n",
    "    \n",
    "    return answer"
   ]
  },
  {
   "cell_type": "code",
   "execution_count": 2,
   "id": "73a9fca8-8e78-418d-a590-81d8a282a1e0",
   "metadata": {},
   "outputs": [],
   "source": [
    "problems = [[0,0,2,1,2],[4,5,3,1,2],[4,11,4,0,2],[10,4,0,4,2]]"
   ]
  },
  {
   "cell_type": "code",
   "execution_count": 10,
   "id": "97c79bb7-4d2c-4ed8-a9a4-a785fd97cffb",
   "metadata": {},
   "outputs": [],
   "source": [
    "for i in range(len(problems)):\n",
    "    a = max(problems[i][0],0)"
   ]
  },
  {
   "cell_type": "code",
   "execution_count": 12,
   "id": "11f92257-493e-44e4-a4d2-d2158bf7b1ca",
   "metadata": {},
   "outputs": [],
   "source": [
    "for i in range(len(problems)):\n",
    "    b = max(problems[i][1],0)"
   ]
  },
  {
   "cell_type": "code",
   "execution_count": 14,
   "id": "dac4656f-ab99-45e5-9449-ac0552cd3162",
   "metadata": {},
   "outputs": [
    {
     "data": {
      "text/plain": [
       "False"
      ]
     },
     "execution_count": 14,
     "metadata": {},
     "output_type": "execute_result"
    }
   ],
   "source": [
    "a<b"
   ]
  },
  {
   "cell_type": "code",
   "execution_count": 15,
   "id": "738159a8-761b-4018-99af-b7bafa77e2fb",
   "metadata": {},
   "outputs": [
    {
     "data": {
      "text/plain": [
       "True"
      ]
     },
     "execution_count": 15,
     "metadata": {},
     "output_type": "execute_result"
    }
   ],
   "source": [
    "a>b"
   ]
  },
  {
   "cell_type": "code",
   "execution_count": null,
   "id": "3cf317a5-d0b6-4beb-8824-050f816ce275",
   "metadata": {},
   "outputs": [],
   "source": [
    "def solution(alp, cop, problems):\n",
    "    max_alp, max_cop = 0, 0\n",
    "    # 문제 풀이 2번\n",
    "    for a,b,c,d,e in problems:\n",
    "        max_alp = max(max_alp, a)\n",
    "        max_cop = max(max_cop, b)\n",
    "    INF = float('inf')\n",
    "    dp = [[INF] * (max_cop + 1) for _ in range(max_alp + 1)] # 문제 풀이 1번\n",
    "    # 문제 풀이 2-1번\n",
    "    alp = min(alp, max_alp)\n",
    "    cop = min(cop, max_cop)\n",
    "    dp[alp][cop] = 0\n",
    "    # 문제 풀이 3번\n",
    "    for i in range(alp, max_alp+1):\n",
    "        for j in range(cop, max_cop+1):\n",
    "        \t# 문제 풀이 3-1번\n",
    "            if i < max_alp:\n",
    "                dp[i+1][j] = min(dp[i][j] + 1, dp[i+1][j])\n",
    "            if j < max_cop:\n",
    "                dp[i][j+1] = min(dp[i][j] + 1, dp[i][j+1])\n",
    "            # 문제 풀이 3-2번  \n",
    "            for a,b,c,d,e in problems:\n",
    "                if i >= a and j >= b:\n",
    "                    next_alp, next_cop = min(max_alp, i+c), min(max_cop, j+d)\n",
    "                    dp[next_alp][next_cop] = min(dp[next_alp][next_cop], dp[i][j] + e)\n",
    "    # 문제 풀이 4번\n",
    "    return dp[max_alp][max_cop]"
   ]
  }
 ],
 "metadata": {
  "kernelspec": {
   "display_name": "Python 3 (ipykernel)",
   "language": "python",
   "name": "python3"
  },
  "language_info": {
   "codemirror_mode": {
    "name": "ipython",
    "version": 3
   },
   "file_extension": ".py",
   "mimetype": "text/x-python",
   "name": "python",
   "nbconvert_exporter": "python",
   "pygments_lexer": "ipython3",
   "version": "3.8.12"
  }
 },
 "nbformat": 4,
 "nbformat_minor": 5
}
