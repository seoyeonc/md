{
  "cells": [
    {
      "cell_type": "markdown",
      "metadata": {},
      "source": [
        "# 내장함수\n",
        "\n",
        "SEOYEON CHOI  \n",
        "2023-01-15\n",
        "\n",
        "> 주요 라이브러리 문법\n",
        "\n",
        "# 내장 함수\n",
        "\n",
        "## sum"
      ],
      "id": "e1a5f49c-c10f-409b-99bb-1f1bd9441e39"
    },
    {
      "cell_type": "code",
      "execution_count": 1,
      "metadata": {},
      "outputs": [
        {
          "output_type": "display_data",
          "metadata": {},
          "data": {
            "text/plain": [
              "3"
            ]
          }
        }
      ],
      "source": [
        "sum([1,2])"
      ],
      "id": "10e6012a-99b6-4a36-9b03-3a578ca336ce"
    },
    {
      "cell_type": "markdown",
      "metadata": {},
      "source": [
        "## min"
      ],
      "id": "5ece9f81-353a-4030-bd4c-035934c96cc1"
    },
    {
      "cell_type": "code",
      "execution_count": 3,
      "metadata": {},
      "outputs": [
        {
          "output_type": "display_data",
          "metadata": {},
          "data": {
            "text/plain": [
              "0"
            ]
          }
        }
      ],
      "source": [
        "min([14,5,6,0,3])"
      ],
      "id": "91cc2fe1-71b3-4137-a432-f4658d86f1e5"
    },
    {
      "cell_type": "markdown",
      "metadata": {},
      "source": [
        "## max"
      ],
      "id": "a6515ab8-efd9-4b8c-a431-a07baf508963"
    },
    {
      "cell_type": "code",
      "execution_count": 7,
      "metadata": {},
      "outputs": [
        {
          "output_type": "display_data",
          "metadata": {},
          "data": {
            "text/plain": [
              "33"
            ]
          }
        }
      ],
      "source": [
        "max(1,3,6,3,33)"
      ],
      "id": "d2456dfe-1261-4f0c-aff9-c41524f8dee2"
    },
    {
      "cell_type": "markdown",
      "metadata": {},
      "source": [
        "## eval\n",
        "\n",
        "수학 수식이 문자열 형식으로 들어오면 해당 수식을 계산한 결과를 반환"
      ],
      "id": "a90d93d9-da44-40a7-86d7-06c52bfcf3c1"
    },
    {
      "cell_type": "code",
      "execution_count": 8,
      "metadata": {},
      "outputs": [
        {
          "output_type": "display_data",
          "metadata": {},
          "data": {
            "text/plain": [
              "7"
            ]
          }
        }
      ],
      "source": [
        "eval(\"3+4\")"
      ],
      "id": "a77493f3-b8d1-496d-b528-d840438af6b0"
    },
    {
      "cell_type": "code",
      "execution_count": 9,
      "metadata": {},
      "outputs": [
        {
          "output_type": "display_data",
          "metadata": {},
          "data": {
            "text/plain": [
              "12"
            ]
          }
        }
      ],
      "source": [
        "eval(\"3*4\")"
      ],
      "id": "f0919f80-680c-4858-bf5f-fb345eadd05b"
    },
    {
      "cell_type": "markdown",
      "metadata": {},
      "source": [
        "## sorted"
      ],
      "id": "661f3864-4332-4e6e-a486-fe64b29c879c"
    },
    {
      "cell_type": "code",
      "execution_count": 11,
      "metadata": {},
      "outputs": [
        {
          "output_type": "display_data",
          "metadata": {},
          "data": {
            "text/plain": [
              "[1, 2, 2, 3, 3]"
            ]
          }
        }
      ],
      "source": [
        "sorted([1,2,3,2,3])"
      ],
      "id": "9bc01a51-d64d-4c70-b234-1a8d3fa806e7"
    },
    {
      "cell_type": "code",
      "execution_count": 15,
      "metadata": {},
      "outputs": [
        {
          "output_type": "display_data",
          "metadata": {},
          "data": {
            "text/plain": [
              "[3, 3, 2, 2, 1]"
            ]
          }
        }
      ],
      "source": [
        "sorted([1,2,3,2,3],reverse=True)"
      ],
      "id": "d8555494-8e99-4891-9d4f-6a4eaf42afa9"
    },
    {
      "cell_type": "markdown",
      "metadata": {},
      "source": [
        "$\\star$ List 형식이어야 함"
      ],
      "id": "d9a3dfda-0bc5-4e16-ac9e-f74cb7a545fb"
    },
    {
      "cell_type": "code",
      "execution_count": 12,
      "metadata": {},
      "outputs": [],
      "source": [
        "sorted(1,2,3,2,3)"
      ],
      "id": "a343282e-b3be-41ed-b2aa-ee3021e04e17"
    },
    {
      "cell_type": "markdown",
      "metadata": {},
      "source": [
        "group 가능"
      ],
      "id": "55cb4292-0274-44a3-bcdb-b9046a9a4069"
    },
    {
      "cell_type": "code",
      "execution_count": 17,
      "metadata": {},
      "outputs": [
        {
          "output_type": "display_data",
          "metadata": {},
          "data": {
            "text/plain": [
              "[('b', 4), ('a', 3)]"
            ]
          }
        }
      ],
      "source": [
        "sorted([('a',3),('b',4)],reverse=True)"
      ],
      "id": "f0572e77-632e-4009-816f-8cba45c23b89"
    },
    {
      "cell_type": "markdown",
      "metadata": {},
      "source": [
        "사실 list 는 iterable 객체라 기본으로 sort()함수 가지고 있음"
      ],
      "id": "c70f27b3-57a4-4847-a188-581d5a9c80ce"
    },
    {
      "cell_type": "code",
      "execution_count": 23,
      "metadata": {},
      "outputs": [
        {
          "output_type": "stream",
          "name": "stdout",
          "text": [
            "[1, 3, 4, 4]"
          ]
        }
      ],
      "source": [
        "a = [4,1,3,4]\n",
        "a.sort()\n",
        "print(a)"
      ],
      "id": "aaa9b114-37d6-49c5-a8f3-b68ab440f6d8"
    },
    {
      "cell_type": "markdown",
      "metadata": {},
      "source": [
        "## itertools\n",
        "\n",
        "### permutations 순열(중복 허용하지 않음)"
      ],
      "id": "1f6abd82-cd2a-42eb-9005-73e79497ddfe"
    },
    {
      "cell_type": "code",
      "execution_count": 25,
      "metadata": {},
      "outputs": [
        {
          "output_type": "stream",
          "name": "stdout",
          "text": [
            "[(1, 3, 5), (1, 5, 3), (3, 1, 5), (3, 5, 1), (5, 1, 3), (5, 3, 1)]"
          ]
        }
      ],
      "source": [
        "from itertools import permutations\n",
        "\n",
        "data = [1,3,5]\n",
        "\n",
        "result = list(permutations(data,3))\n",
        "\n",
        "print(result)"
      ],
      "id": "ce703a50-3da6-42e2-ad83-e08c1770e84c"
    },
    {
      "cell_type": "markdown",
      "metadata": {},
      "source": [
        "### combinations 조합(중복 허용하지 않음)"
      ],
      "id": "5738fdb9-730b-4e5c-bd63-42923ea4f1c7"
    },
    {
      "cell_type": "code",
      "execution_count": 26,
      "metadata": {},
      "outputs": [
        {
          "output_type": "stream",
          "name": "stdout",
          "text": [
            "[('a', 'r'), ('a', 't'), ('a', 'e'), ('r', 't'), ('r', 'e'), ('t', 'e')]"
          ]
        }
      ],
      "source": [
        "from itertools import combinations\n",
        "\n",
        "data = ['a','r','t','e']\n",
        "result = list(combinations(data,2))\n",
        "\n",
        "print(result)"
      ],
      "id": "888e9a04-e507-4fad-bd0d-85e31d26c355"
    },
    {
      "cell_type": "markdown",
      "metadata": {},
      "source": [
        "### product 순열(중복 허용)"
      ],
      "id": "4f97658e-53f2-4e2d-b1e1-2affdc0f4f5d"
    },
    {
      "cell_type": "code",
      "execution_count": 30,
      "metadata": {},
      "outputs": [
        {
          "output_type": "stream",
          "name": "stdout",
          "text": [
            "[(1, 1, 1), (1, 1, 3), (1, 1, 5), (1, 3, 1), (1, 3, 3), (1, 3, 5), (1, 5, 1), (1, 5, 3), (1, 5, 5), (3, 1, 1), (3, 1, 3), (3, 1, 5), (3, 3, 1), (3, 3, 3), (3, 3, 5), (3, 5, 1), (3, 5, 3), (3, 5, 5), (5, 1, 1), (5, 1, 3), (5, 1, 5), (5, 3, 1), (5, 3, 3), (5, 3, 5), (5, 5, 1), (5, 5, 3), (5, 5, 5)]"
          ]
        }
      ],
      "source": [
        "from itertools import product\n",
        "\n",
        "data = [1,3,5]\n",
        "\n",
        "result = list(product(data,repeat=3))\n",
        "\n",
        "print(result)"
      ],
      "id": "1efb7dac-2048-4742-9f78-077519a7e52a"
    },
    {
      "cell_type": "markdown",
      "metadata": {},
      "source": [
        "### combinations_with_replacement(중복 허용)"
      ],
      "id": "2e86adc1-7841-4d2a-b8ec-2cd1a55a2861"
    },
    {
      "cell_type": "code",
      "execution_count": 31,
      "metadata": {},
      "outputs": [
        {
          "output_type": "stream",
          "name": "stdout",
          "text": [
            "[('a', 'a'), ('a', 'r'), ('a', 't'), ('a', 'e'), ('r', 'r'), ('r', 't'), ('r', 'e'), ('t', 't'), ('t', 'e'), ('e', 'e')]"
          ]
        }
      ],
      "source": [
        "from itertools import combinations_with_replacement\n",
        "\n",
        "data = ['a','r','t','e']\n",
        "result = list(combinations_with_replacement(data,2))\n",
        "\n",
        "print(result)"
      ],
      "id": "61be170b-9793-4cd3-bb7f-df9b75f7b6bb"
    },
    {
      "cell_type": "markdown",
      "metadata": {},
      "source": [
        "## heapq\n",
        "\n",
        "다익스트라 최단 경로 알고리즘을 포함해 다양한 알고리즘에서 우선순위 큐\n",
        "기능을 구현하고자 할 때 사용"
      ],
      "id": "498e9c43-75f3-4962-b4a0-a989bc46822c"
    },
    {
      "cell_type": "code",
      "execution_count": 34,
      "metadata": {},
      "outputs": [
        {
          "output_type": "stream",
          "name": "stdout",
          "text": [
            "[1, 2, 2, 3, 4, 5, 6, 25, 77]"
          ]
        }
      ],
      "source": [
        "import heapq\n",
        "\n",
        "def heapsort(iterable):\n",
        "    h = []\n",
        "    result = []\n",
        "    for value in iterable:\n",
        "        heapq.heappush(h,value)\n",
        "    for _ in range(len(h)):\n",
        "        result.append(heapq.heappop(h))\n",
        "    return result\n",
        "    \n",
        "result = heapsort([1,4,5,6,2,2,77,3,25])\n",
        "print(result)"
      ],
      "id": "f96cbab8-03a9-430d-8385-157d32c63abb"
    },
    {
      "cell_type": "code",
      "execution_count": 43,
      "metadata": {},
      "outputs": [],
      "source": [
        "a = []\n",
        "heapq.heappush(a,5)"
      ],
      "id": "10ce8ac9-d44e-4779-80fe-8ac9037c2514"
    },
    {
      "cell_type": "code",
      "execution_count": 44,
      "metadata": {},
      "outputs": [
        {
          "output_type": "display_data",
          "metadata": {},
          "data": {
            "text/plain": [
              "[5]"
            ]
          }
        }
      ],
      "source": [
        "a"
      ],
      "id": "99a885b3-b65a-4c16-8b21-520d85575e32"
    },
    {
      "cell_type": "code",
      "execution_count": 45,
      "metadata": {},
      "outputs": [
        {
          "output_type": "display_data",
          "metadata": {},
          "data": {
            "text/plain": [
              "[3, 5]"
            ]
          }
        }
      ],
      "source": [
        "heapq.heappush(a,3)\n",
        "a"
      ],
      "id": "ef5a9678-e281-4a1d-be1d-7e760570f28f"
    },
    {
      "cell_type": "code",
      "execution_count": 46,
      "metadata": {},
      "outputs": [
        {
          "output_type": "display_data",
          "metadata": {},
          "data": {
            "text/plain": [
              "[2, 5, 3]"
            ]
          }
        }
      ],
      "source": [
        "heapq.heappush(a,2)\n",
        "a"
      ],
      "id": "ee395955-4180-455c-88c3-2ff77a66ecec"
    },
    {
      "cell_type": "code",
      "execution_count": 47,
      "metadata": {},
      "outputs": [
        {
          "output_type": "display_data",
          "metadata": {},
          "data": {
            "text/plain": [
              "2"
            ]
          }
        }
      ],
      "source": [
        "heapq.heappop(a)"
      ],
      "id": "360484e5-6acf-419c-8510-aac15cd04daa"
    },
    {
      "cell_type": "markdown",
      "metadata": {},
      "source": [
        "### max heap"
      ],
      "id": "fba21116-6e78-4db4-a981-74521a9a4f4a"
    },
    {
      "cell_type": "code",
      "execution_count": 49,
      "metadata": {},
      "outputs": [
        {
          "output_type": "stream",
          "name": "stdout",
          "text": [
            "[77, 25, 6, 5, 4, 3, 2, 2, 1]"
          ]
        }
      ],
      "source": [
        "import heapq\n",
        "\n",
        "def heapsort(iterable):\n",
        "    h = []\n",
        "    result = []\n",
        "    for value in iterable:\n",
        "        heapq.heappush(h,-value)\n",
        "    for _ in range(len(h)):\n",
        "        result.append(-heapq.heappop(h))\n",
        "    return result\n",
        "    \n",
        "result = heapsort([1,4,5,6,2,2,77,3,25])\n",
        "print(result)"
      ],
      "id": "ff885a09-455c-49e9-839b-5e75cf864235"
    },
    {
      "cell_type": "code",
      "execution_count": 55,
      "metadata": {},
      "outputs": [],
      "source": [
        "a = []\n",
        "heapq.heappush(a,-5)"
      ],
      "id": "2ea96f6c-83a9-4990-9201-660b4228b8b6"
    },
    {
      "cell_type": "code",
      "execution_count": 56,
      "metadata": {},
      "outputs": [
        {
          "output_type": "display_data",
          "metadata": {},
          "data": {
            "text/plain": [
              "[-5]"
            ]
          }
        }
      ],
      "source": [
        "a"
      ],
      "id": "96aa0297-4bb0-40c7-a630-b9b787e610a3"
    },
    {
      "cell_type": "code",
      "execution_count": 57,
      "metadata": {},
      "outputs": [
        {
          "output_type": "display_data",
          "metadata": {},
          "data": {
            "text/plain": [
              "[-5, -3]"
            ]
          }
        }
      ],
      "source": [
        "heapq.heappush(a,-3)\n",
        "a"
      ],
      "id": "7493d1a5-3216-4694-8d5f-20cd9fb2a114"
    },
    {
      "cell_type": "code",
      "execution_count": 58,
      "metadata": {},
      "outputs": [
        {
          "output_type": "display_data",
          "metadata": {},
          "data": {
            "text/plain": [
              "[-5, -3, -2]"
            ]
          }
        }
      ],
      "source": [
        "heapq.heappush(a,-2)\n",
        "a"
      ],
      "id": "e683c203-b09d-42d4-af17-24bb9a49f492"
    },
    {
      "cell_type": "code",
      "execution_count": 60,
      "metadata": {},
      "outputs": [
        {
          "output_type": "display_data",
          "metadata": {},
          "data": {
            "text/plain": [
              "5"
            ]
          }
        }
      ],
      "source": [
        "-heapq.heappop(a)"
      ],
      "id": "8906237f-3c0a-4e2e-9ebd-aa2e1b33ccb3"
    },
    {
      "cell_type": "markdown",
      "metadata": {},
      "source": [
        "## bisect\n",
        "\n",
        "이진 탐색 구현\n",
        "\n",
        "-   정렬된 상태여야 함\n",
        "\n",
        "### bisect_left(a,x)\n",
        "\n",
        "정렬된 순서를 유지하면서 리스트 a에 데이터 x를 삽입할 가장 왼쪽 인덱스를\n",
        "찾는 메서드\n",
        "\n",
        "### bisect_right(a,x)\n",
        "\n",
        "정렬된 순서를 유지하면서 리스트 a에 데이터 x를 삽입할 가장 오른쪽\n",
        "인덱스를 찾는 메서드"
      ],
      "id": "44a56902-d911-4033-b056-7853a32da4a6"
    },
    {
      "cell_type": "code",
      "execution_count": 69,
      "metadata": {},
      "outputs": [
        {
          "output_type": "stream",
          "name": "stdout",
          "text": [
            "[1, 2, 3, 5, 6, 33]\n",
            "2\n",
            "3"
          ]
        }
      ],
      "source": [
        "from bisect import bisect_left, bisect_right\n",
        "\n",
        "a = [1,2,5,6,33,3]\n",
        "x = 3\n",
        "b = sorted(a)\n",
        "print(b)\n",
        "print(bisect_left(b,x))\n",
        "print(bisect_right(b,x))"
      ],
      "id": "8eb4f9f9-dbca-4773-80b2-7f661463a990"
    },
    {
      "cell_type": "code",
      "execution_count": 77,
      "metadata": {},
      "outputs": [
        {
          "output_type": "stream",
          "name": "stdout",
          "text": [
            "2\n",
            "3"
          ]
        }
      ],
      "source": [
        "from bisect import bisect_left, bisect_right\n",
        "\n",
        "def count_by_range(a,left_value,right_value):\n",
        "    right_index = bisect_right(a,right_value)\n",
        "    left_index = bisect_left(a,left_value)\n",
        "    return right_index - left_index\n",
        "\n",
        "a = [1,4,5,7,5,3,6,7,9,99,2,22]\n",
        "b = sorted(a)\n",
        "\n",
        "print(count_by_range(b,5,5))\n",
        "\n",
        "print(count_by_range(b,-1,3))"
      ],
      "id": "d7e5df79-802f-49e4-abd0-3fcba325600d"
    },
    {
      "cell_type": "markdown",
      "metadata": {},
      "source": [
        "## collections\n",
        "\n",
        "### deque"
      ],
      "id": "38e7c74e-c237-4779-aae4-99250aa355b5"
    },
    {
      "cell_type": "code",
      "execution_count": 94,
      "metadata": {},
      "outputs": [
        {
          "output_type": "stream",
          "name": "stdout",
          "text": [
            "deque([3, 2, 5, 4, 6, 3, 1])\n",
            "[3, 2, 5, 4, 6, 3, 1]"
          ]
        }
      ],
      "source": [
        "from collections import deque\n",
        "\n",
        "data = deque([2,5,4,6,3])\n",
        "data.appendleft(3)\n",
        "data.append(1)\n",
        "\n",
        "print(data)\n",
        "\n",
        "print(list(data))"
      ],
      "id": "3276f9ac-1d7c-4d17-a48d-e66f86564e23"
    },
    {
      "cell_type": "code",
      "execution_count": 95,
      "metadata": {},
      "outputs": [
        {
          "output_type": "display_data",
          "metadata": {},
          "data": {
            "text/plain": [
              "1"
            ]
          }
        }
      ],
      "source": [
        "data.pop()"
      ],
      "id": "ff45faf4-3ed0-46eb-8252-71209b35f6fd"
    },
    {
      "cell_type": "code",
      "execution_count": 96,
      "metadata": {},
      "outputs": [
        {
          "output_type": "display_data",
          "metadata": {},
          "data": {
            "text/plain": [
              "deque([3, 2, 5, 4, 6, 3])"
            ]
          }
        }
      ],
      "source": [
        "data"
      ],
      "id": "28ad6c55-6495-41dd-bdca-c83c0f4f6d0c"
    },
    {
      "cell_type": "code",
      "execution_count": 97,
      "metadata": {},
      "outputs": [
        {
          "output_type": "display_data",
          "metadata": {},
          "data": {
            "text/plain": [
              "3"
            ]
          }
        }
      ],
      "source": [
        "data.popleft()"
      ],
      "id": "436c65fd-2f4c-4d5d-9785-3c061886fb11"
    },
    {
      "cell_type": "code",
      "execution_count": 98,
      "metadata": {},
      "outputs": [
        {
          "output_type": "display_data",
          "metadata": {},
          "data": {
            "text/plain": [
              "deque([2, 5, 4, 6, 3])"
            ]
          }
        }
      ],
      "source": [
        "data"
      ],
      "id": "11035337-0233-4dc0-8575-7399d7b21396"
    },
    {
      "cell_type": "markdown",
      "metadata": {},
      "source": [
        "### Counter\n",
        "\n",
        "등장 횟수 세는 기능"
      ],
      "id": "cf787711-9b21-4004-8991-c5adfad4acd7"
    },
    {
      "cell_type": "code",
      "execution_count": 101,
      "metadata": {},
      "outputs": [
        {
          "output_type": "stream",
          "name": "stdout",
          "text": [
            "4\n",
            "1\n",
            "{'d': 4, 'a': 1, 'e': 1, 'q': 1} \n",
            "사전자료형으로 반환"
          ]
        }
      ],
      "source": [
        "from collections import Counter\n",
        "\n",
        "counter = Counter(['d','d','d','a','e','q','d'])\n",
        "\n",
        "print(counter['d'])\n",
        "print(counter['a'])\n",
        "print(dict(counter),\"\\n사전자료형으로 반환\")"
      ],
      "id": "f6c1b93e-a92f-49f4-8edf-694db0a6fc99"
    },
    {
      "cell_type": "code",
      "execution_count": 100,
      "metadata": {},
      "outputs": [
        {
          "output_type": "display_data",
          "metadata": {},
          "data": {
            "text/plain": [
              "Counter({'d': 4, 'a': 1, 'e': 1, 'q': 1})"
            ]
          }
        }
      ],
      "source": [
        "counter"
      ],
      "id": "9c00b6a2-14f9-4171-9986-790b571da7e0"
    },
    {
      "cell_type": "markdown",
      "metadata": {},
      "source": [
        "## math"
      ],
      "id": "717b6396-82b8-485d-9729-fff1c3a17308"
    },
    {
      "cell_type": "code",
      "execution_count": 102,
      "metadata": {},
      "outputs": [
        {
          "output_type": "stream",
          "name": "stdout",
          "text": [
            "24"
          ]
        }
      ],
      "source": [
        "import math\n",
        "print(math.factorial(4))"
      ],
      "id": "83f2c36a-f903-4b48-bd86-e5bacb677def"
    },
    {
      "cell_type": "code",
      "execution_count": 103,
      "metadata": {},
      "outputs": [
        {
          "output_type": "display_data",
          "metadata": {},
          "data": {
            "text/plain": [
              "24"
            ]
          }
        }
      ],
      "source": [
        "4*3*2*1"
      ],
      "id": "a339e528-1c41-4bce-b3ef-e20f7aa9834c"
    },
    {
      "cell_type": "code",
      "execution_count": 104,
      "metadata": {},
      "outputs": [
        {
          "output_type": "stream",
          "name": "stdout",
          "text": [
            "5.0"
          ]
        }
      ],
      "source": [
        "import math\n",
        "print(math.sqrt(25))"
      ],
      "id": "458a2207-7b37-4b00-a97b-79e9bab77e00"
    },
    {
      "cell_type": "markdown",
      "metadata": {},
      "source": [
        "최대 공약수"
      ],
      "id": "4035e92c-50a4-4253-aca0-51937b184b55"
    },
    {
      "cell_type": "code",
      "execution_count": 105,
      "metadata": {},
      "outputs": [
        {
          "output_type": "stream",
          "name": "stdout",
          "text": [
            "5"
          ]
        }
      ],
      "source": [
        "import math\n",
        "print(math.gcd(30,25))"
      ],
      "id": "fd4dc06c-3507-4f57-8c9b-86a32791070b"
    },
    {
      "cell_type": "code",
      "execution_count": 106,
      "metadata": {},
      "outputs": [
        {
          "output_type": "stream",
          "name": "stdout",
          "text": [
            "3.141592653589793\n",
            "2.718281828459045"
          ]
        }
      ],
      "source": [
        "import math\n",
        "print(math.pi)\n",
        "print(math.e)"
      ],
      "id": "37c2a695-347c-49d6-9821-58e31eefbb13"
    }
  ],
  "nbformat": 4,
  "nbformat_minor": 5,
  "metadata": {
    "kernelspec": {
      "name": "python3",
      "display_name": "Python 3 (ipykernel)",
      "language": "python"
    },
    "language_info": {
      "name": "python",
      "codemirror_mode": {
        "name": "ipython",
        "version": "3"
      },
      "file_extension": ".py",
      "mimetype": "text/x-python",
      "nbconvert_exporter": "python",
      "pygments_lexer": "ipython3",
      "version": "3.8.12"
    }
  }
}