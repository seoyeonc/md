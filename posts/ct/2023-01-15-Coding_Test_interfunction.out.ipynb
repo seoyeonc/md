{
  "cells": [
    {
      "cell_type": "markdown",
      "metadata": {},
      "source": [
        "# 내장함수\n",
        "\n",
        "SEOYEON CHOI  \n",
        "1/15/23\n",
        "\n",
        "> 주요 라이브러리 문법\n",
        "\n",
        "# 내장 함수\n",
        "\n",
        "## sum"
      ],
      "id": "dae3f749-e6d2-438d-8c17-4f8896be1038"
    },
    {
      "cell_type": "code",
      "execution_count": 1,
      "metadata": {},
      "outputs": [
        {
          "output_type": "display_data",
          "metadata": {},
          "data": {
            "text/plain": [
              "3"
            ]
          }
        }
      ],
      "source": [
        "sum([1,2])"
      ],
      "id": "df8a996c-9196-4107-ac39-9b6ddcaeabf4"
    },
    {
      "cell_type": "markdown",
      "metadata": {},
      "source": [
        "## min"
      ],
      "id": "294f4dcf-8e80-4efd-9a63-a9094703798e"
    },
    {
      "cell_type": "code",
      "execution_count": 3,
      "metadata": {},
      "outputs": [
        {
          "output_type": "display_data",
          "metadata": {},
          "data": {
            "text/plain": [
              "0"
            ]
          }
        }
      ],
      "source": [
        "min([14,5,6,0,3])"
      ],
      "id": "4015c664-2ed3-463a-886f-55652e56ce78"
    },
    {
      "cell_type": "markdown",
      "metadata": {},
      "source": [
        "## max"
      ],
      "id": "7792702e-968a-43bd-80c3-9305b22d8408"
    },
    {
      "cell_type": "code",
      "execution_count": 7,
      "metadata": {},
      "outputs": [
        {
          "output_type": "display_data",
          "metadata": {},
          "data": {
            "text/plain": [
              "33"
            ]
          }
        }
      ],
      "source": [
        "max(1,3,6,3,33)"
      ],
      "id": "03b67a34-5bbd-479a-95dd-7b2dccdc1b73"
    },
    {
      "cell_type": "markdown",
      "metadata": {},
      "source": [
        "## eval\n",
        "\n",
        "수학 수식이 문자열 형식으로 들어오면 해당 수식을 계산한 결과를 반환"
      ],
      "id": "061b97c2-5fc0-4561-b329-041ce6649591"
    },
    {
      "cell_type": "code",
      "execution_count": 8,
      "metadata": {},
      "outputs": [
        {
          "output_type": "display_data",
          "metadata": {},
          "data": {
            "text/plain": [
              "7"
            ]
          }
        }
      ],
      "source": [
        "eval(\"3+4\")"
      ],
      "id": "1d24cd13-964c-4800-abff-ea368c476ecf"
    },
    {
      "cell_type": "code",
      "execution_count": 9,
      "metadata": {},
      "outputs": [
        {
          "output_type": "display_data",
          "metadata": {},
          "data": {
            "text/plain": [
              "12"
            ]
          }
        }
      ],
      "source": [
        "eval(\"3*4\")"
      ],
      "id": "542cdcbb-1b11-47f5-b89e-0fb2f380a9c3"
    },
    {
      "cell_type": "markdown",
      "metadata": {},
      "source": [
        "## sorted"
      ],
      "id": "1882dc16-0d22-4773-bafd-2e72eaeb03e3"
    },
    {
      "cell_type": "code",
      "execution_count": 11,
      "metadata": {},
      "outputs": [
        {
          "output_type": "display_data",
          "metadata": {},
          "data": {
            "text/plain": [
              "[1, 2, 2, 3, 3]"
            ]
          }
        }
      ],
      "source": [
        "sorted([1,2,3,2,3])"
      ],
      "id": "17394bd8-bc9a-488f-aa79-8d960e31e96f"
    },
    {
      "cell_type": "code",
      "execution_count": 15,
      "metadata": {},
      "outputs": [
        {
          "output_type": "display_data",
          "metadata": {},
          "data": {
            "text/plain": [
              "[3, 3, 2, 2, 1]"
            ]
          }
        }
      ],
      "source": [
        "sorted([1,2,3,2,3],reverse=True)"
      ],
      "id": "d2f85480-5a14-424f-8b5b-203f68b5cef7"
    },
    {
      "cell_type": "markdown",
      "metadata": {},
      "source": [
        "$\\star$ List 형식이어야 함"
      ],
      "id": "82b8534c-1b88-4267-943f-32c281c471c9"
    },
    {
      "cell_type": "code",
      "execution_count": 12,
      "metadata": {},
      "outputs": [],
      "source": [
        "sorted(1,2,3,2,3)"
      ],
      "id": "3f1471b2-4d42-477a-ac1b-de2fe1b320d0"
    },
    {
      "cell_type": "markdown",
      "metadata": {},
      "source": [
        "group 가능"
      ],
      "id": "e4388c5c-d253-4a12-a00c-50a5efbe0801"
    },
    {
      "cell_type": "code",
      "execution_count": 17,
      "metadata": {},
      "outputs": [
        {
          "output_type": "display_data",
          "metadata": {},
          "data": {
            "text/plain": [
              "[('b', 4), ('a', 3)]"
            ]
          }
        }
      ],
      "source": [
        "sorted([('a',3),('b',4)],reverse=True)"
      ],
      "id": "769bacb5-d4f5-44e1-9c67-83b36658d3b3"
    },
    {
      "cell_type": "markdown",
      "metadata": {},
      "source": [
        "사실 list 는 iterable 객체라 기본으로 sort()함수 가지고 있음"
      ],
      "id": "f8bafaf8-c5dd-486e-932c-5136f51f549a"
    },
    {
      "cell_type": "code",
      "execution_count": 23,
      "metadata": {},
      "outputs": [
        {
          "output_type": "stream",
          "name": "stdout",
          "text": [
            "[1, 3, 4, 4]"
          ]
        }
      ],
      "source": [
        "a = [4,1,3,4]\n",
        "a.sort()\n",
        "print(a)"
      ],
      "id": "bfbae174-dc32-47f3-ae10-1fc5fafe021e"
    },
    {
      "cell_type": "markdown",
      "metadata": {},
      "source": [
        "## itertools\n",
        "\n",
        "### permutations 순열(중복 허용하지 않음)"
      ],
      "id": "236b25e6-3586-4cfa-afbf-90d986453bb8"
    },
    {
      "cell_type": "code",
      "execution_count": 25,
      "metadata": {},
      "outputs": [
        {
          "output_type": "stream",
          "name": "stdout",
          "text": [
            "[(1, 3, 5), (1, 5, 3), (3, 1, 5), (3, 5, 1), (5, 1, 3), (5, 3, 1)]"
          ]
        }
      ],
      "source": [
        "from itertools import permutations\n",
        "\n",
        "data = [1,3,5]\n",
        "\n",
        "result = list(permutations(data,3))\n",
        "\n",
        "print(result)"
      ],
      "id": "3e2bb8dd-5402-43dd-8954-0e3584a83085"
    },
    {
      "cell_type": "markdown",
      "metadata": {},
      "source": [
        "### combinations 조합(중복 허용하지 않음)"
      ],
      "id": "62fd0b15-a9e1-4ff3-a3d4-782fe4f7ffd2"
    },
    {
      "cell_type": "code",
      "execution_count": 26,
      "metadata": {},
      "outputs": [
        {
          "output_type": "stream",
          "name": "stdout",
          "text": [
            "[('a', 'r'), ('a', 't'), ('a', 'e'), ('r', 't'), ('r', 'e'), ('t', 'e')]"
          ]
        }
      ],
      "source": [
        "from itertools import combinations\n",
        "\n",
        "data = ['a','r','t','e']\n",
        "result = list(combinations(data,2))\n",
        "\n",
        "print(result)"
      ],
      "id": "4205bb0c-f5a7-4eab-8676-56409a11966d"
    },
    {
      "cell_type": "markdown",
      "metadata": {},
      "source": [
        "### product 순열(중복 허용)"
      ],
      "id": "ef17b1f4-ed4f-4d44-bf32-6831e1aa3bf9"
    },
    {
      "cell_type": "code",
      "execution_count": 30,
      "metadata": {},
      "outputs": [
        {
          "output_type": "stream",
          "name": "stdout",
          "text": [
            "[(1, 1, 1), (1, 1, 3), (1, 1, 5), (1, 3, 1), (1, 3, 3), (1, 3, 5), (1, 5, 1), (1, 5, 3), (1, 5, 5), (3, 1, 1), (3, 1, 3), (3, 1, 5), (3, 3, 1), (3, 3, 3), (3, 3, 5), (3, 5, 1), (3, 5, 3), (3, 5, 5), (5, 1, 1), (5, 1, 3), (5, 1, 5), (5, 3, 1), (5, 3, 3), (5, 3, 5), (5, 5, 1), (5, 5, 3), (5, 5, 5)]"
          ]
        }
      ],
      "source": [
        "from itertools import product\n",
        "\n",
        "data = [1,3,5]\n",
        "\n",
        "result = list(product(data,repeat=3))\n",
        "\n",
        "print(result)"
      ],
      "id": "256005e1-075e-458e-b4fe-137bde2ce662"
    },
    {
      "cell_type": "markdown",
      "metadata": {},
      "source": [
        "### combinations_with_replacement(중복 허용)"
      ],
      "id": "1fbb1f3a-70c9-4841-a75a-3f8490ad9800"
    },
    {
      "cell_type": "code",
      "execution_count": 31,
      "metadata": {},
      "outputs": [
        {
          "output_type": "stream",
          "name": "stdout",
          "text": [
            "[('a', 'a'), ('a', 'r'), ('a', 't'), ('a', 'e'), ('r', 'r'), ('r', 't'), ('r', 'e'), ('t', 't'), ('t', 'e'), ('e', 'e')]"
          ]
        }
      ],
      "source": [
        "from itertools import combinations_with_replacement\n",
        "\n",
        "data = ['a','r','t','e']\n",
        "result = list(combinations_with_replacement(data,2))\n",
        "\n",
        "print(result)"
      ],
      "id": "6491756d-6992-4146-9606-5b52b68e2519"
    },
    {
      "cell_type": "markdown",
      "metadata": {},
      "source": [
        "## heapq\n",
        "\n",
        "다익스트라 최단 경로 알고리즘을 포함해 다양한 알고리즘에서 우선순위 큐\n",
        "기능을 구현하고자 할 때 사용"
      ],
      "id": "47c1910f-8d00-48b6-979a-5212e80bcd5c"
    },
    {
      "cell_type": "code",
      "execution_count": 34,
      "metadata": {},
      "outputs": [
        {
          "output_type": "stream",
          "name": "stdout",
          "text": [
            "[1, 2, 2, 3, 4, 5, 6, 25, 77]"
          ]
        }
      ],
      "source": [
        "import heapq\n",
        "\n",
        "def heapsort(iterable):\n",
        "    h = []\n",
        "    result = []\n",
        "    for value in iterable:\n",
        "        heapq.heappush(h,value)\n",
        "    for _ in range(len(h)):\n",
        "        result.append(heapq.heappop(h))\n",
        "    return result\n",
        "    \n",
        "result = heapsort([1,4,5,6,2,2,77,3,25])\n",
        "print(result)"
      ],
      "id": "62beab49-a472-437b-b27d-c18ec9ab97ca"
    },
    {
      "cell_type": "code",
      "execution_count": 43,
      "metadata": {},
      "outputs": [],
      "source": [
        "a = []\n",
        "heapq.heappush(a,5)"
      ],
      "id": "ac7d9623-b774-4588-8018-e5d58c7dec79"
    },
    {
      "cell_type": "code",
      "execution_count": 44,
      "metadata": {},
      "outputs": [
        {
          "output_type": "display_data",
          "metadata": {},
          "data": {
            "text/plain": [
              "[5]"
            ]
          }
        }
      ],
      "source": [
        "a"
      ],
      "id": "7ac3bdc2-fc73-4a15-8002-17bb2ce13914"
    },
    {
      "cell_type": "code",
      "execution_count": 45,
      "metadata": {},
      "outputs": [
        {
          "output_type": "display_data",
          "metadata": {},
          "data": {
            "text/plain": [
              "[3, 5]"
            ]
          }
        }
      ],
      "source": [
        "heapq.heappush(a,3)\n",
        "a"
      ],
      "id": "bc9b3fff-6879-4c9b-b151-72114d91e82f"
    },
    {
      "cell_type": "code",
      "execution_count": 46,
      "metadata": {},
      "outputs": [
        {
          "output_type": "display_data",
          "metadata": {},
          "data": {
            "text/plain": [
              "[2, 5, 3]"
            ]
          }
        }
      ],
      "source": [
        "heapq.heappush(a,2)\n",
        "a"
      ],
      "id": "edbe2529-fa8b-422b-b547-e50087473d9e"
    },
    {
      "cell_type": "code",
      "execution_count": 47,
      "metadata": {},
      "outputs": [
        {
          "output_type": "display_data",
          "metadata": {},
          "data": {
            "text/plain": [
              "2"
            ]
          }
        }
      ],
      "source": [
        "heapq.heappop(a)"
      ],
      "id": "b6414c02-a41c-4095-ab7c-5e049377cf10"
    },
    {
      "cell_type": "markdown",
      "metadata": {},
      "source": [
        "### max heap"
      ],
      "id": "abcd2919-6cc6-4752-98e3-99b803955ae5"
    },
    {
      "cell_type": "code",
      "execution_count": 49,
      "metadata": {},
      "outputs": [
        {
          "output_type": "stream",
          "name": "stdout",
          "text": [
            "[77, 25, 6, 5, 4, 3, 2, 2, 1]"
          ]
        }
      ],
      "source": [
        "import heapq\n",
        "\n",
        "def heapsort(iterable):\n",
        "    h = []\n",
        "    result = []\n",
        "    for value in iterable:\n",
        "        heapq.heappush(h,-value)\n",
        "    for _ in range(len(h)):\n",
        "        result.append(-heapq.heappop(h))\n",
        "    return result\n",
        "    \n",
        "result = heapsort([1,4,5,6,2,2,77,3,25])\n",
        "print(result)"
      ],
      "id": "ccccd93c-a2d4-4c17-b577-03f1b835dd50"
    },
    {
      "cell_type": "code",
      "execution_count": 55,
      "metadata": {},
      "outputs": [],
      "source": [
        "a = []\n",
        "heapq.heappush(a,-5)"
      ],
      "id": "3cc4a2de-3b5a-4cd3-815d-93066f51e8b8"
    },
    {
      "cell_type": "code",
      "execution_count": 56,
      "metadata": {},
      "outputs": [
        {
          "output_type": "display_data",
          "metadata": {},
          "data": {
            "text/plain": [
              "[-5]"
            ]
          }
        }
      ],
      "source": [
        "a"
      ],
      "id": "ab497f61-f749-4e6f-84b7-77995c8a5050"
    },
    {
      "cell_type": "code",
      "execution_count": 57,
      "metadata": {},
      "outputs": [
        {
          "output_type": "display_data",
          "metadata": {},
          "data": {
            "text/plain": [
              "[-5, -3]"
            ]
          }
        }
      ],
      "source": [
        "heapq.heappush(a,-3)\n",
        "a"
      ],
      "id": "5eea4f25-f834-4d58-a376-5bb385037e14"
    },
    {
      "cell_type": "code",
      "execution_count": 58,
      "metadata": {},
      "outputs": [
        {
          "output_type": "display_data",
          "metadata": {},
          "data": {
            "text/plain": [
              "[-5, -3, -2]"
            ]
          }
        }
      ],
      "source": [
        "heapq.heappush(a,-2)\n",
        "a"
      ],
      "id": "9e4b08d7-992b-417d-8712-87da63b4531d"
    },
    {
      "cell_type": "code",
      "execution_count": 60,
      "metadata": {},
      "outputs": [
        {
          "output_type": "display_data",
          "metadata": {},
          "data": {
            "text/plain": [
              "5"
            ]
          }
        }
      ],
      "source": [
        "-heapq.heappop(a)"
      ],
      "id": "155a5646-b4c0-4c51-8cb2-dbcc89e658d0"
    },
    {
      "cell_type": "markdown",
      "metadata": {},
      "source": [
        "## bisect\n",
        "\n",
        "이진 탐색 구현\n",
        "\n",
        "-   정렬된 상태여야 함\n",
        "\n",
        "### bisect_left(a,x)\n",
        "\n",
        "정렬된 순서를 유지하면서 리스트 a에 데이터 x를 삽입할 가장 왼쪽 인덱스를\n",
        "찾는 메서드\n",
        "\n",
        "### bisect_right(a,x)\n",
        "\n",
        "정렬된 순서를 유지하면서 리스트 a에 데이터 x를 삽입할 가장 오른쪽\n",
        "인덱스를 찾는 메서드"
      ],
      "id": "325f4414-04d8-4865-ad58-d7bb73b686d0"
    },
    {
      "cell_type": "code",
      "execution_count": 69,
      "metadata": {},
      "outputs": [
        {
          "output_type": "stream",
          "name": "stdout",
          "text": [
            "[1, 2, 3, 5, 6, 33]\n",
            "2\n",
            "3"
          ]
        }
      ],
      "source": [
        "from bisect import bisect_left, bisect_right\n",
        "\n",
        "a = [1,2,5,6,33,3]\n",
        "x = 3\n",
        "b = sorted(a)\n",
        "print(b)\n",
        "print(bisect_left(b,x))\n",
        "print(bisect_right(b,x))"
      ],
      "id": "7a55f099-e086-4294-abb6-918e8c721546"
    },
    {
      "cell_type": "code",
      "execution_count": 77,
      "metadata": {},
      "outputs": [
        {
          "output_type": "stream",
          "name": "stdout",
          "text": [
            "2\n",
            "3"
          ]
        }
      ],
      "source": [
        "from bisect import bisect_left, bisect_right\n",
        "\n",
        "def count_by_range(a,left_value,right_value):\n",
        "    right_index = bisect_right(a,right_value)\n",
        "    left_index = bisect_left(a,left_value)\n",
        "    return right_index - left_index\n",
        "\n",
        "a = [1,4,5,7,5,3,6,7,9,99,2,22]\n",
        "b = sorted(a)\n",
        "\n",
        "print(count_by_range(b,5,5))\n",
        "\n",
        "print(count_by_range(b,-1,3))"
      ],
      "id": "0e4d7ff9-f72a-4cbf-a4b5-2a74977e6530"
    },
    {
      "cell_type": "markdown",
      "metadata": {},
      "source": [
        "## collections\n",
        "\n",
        "### deque"
      ],
      "id": "b83b9e25-8bd6-43bc-ae9c-ec2f7cd93c01"
    },
    {
      "cell_type": "code",
      "execution_count": 94,
      "metadata": {},
      "outputs": [
        {
          "output_type": "stream",
          "name": "stdout",
          "text": [
            "deque([3, 2, 5, 4, 6, 3, 1])\n",
            "[3, 2, 5, 4, 6, 3, 1]"
          ]
        }
      ],
      "source": [
        "from collections import deque\n",
        "\n",
        "data = deque([2,5,4,6,3])\n",
        "data.appendleft(3)\n",
        "data.append(1)\n",
        "\n",
        "print(data)\n",
        "\n",
        "print(list(data))"
      ],
      "id": "466f2d50-b6f6-4f21-9014-861693c887ef"
    },
    {
      "cell_type": "code",
      "execution_count": 95,
      "metadata": {},
      "outputs": [
        {
          "output_type": "display_data",
          "metadata": {},
          "data": {
            "text/plain": [
              "1"
            ]
          }
        }
      ],
      "source": [
        "data.pop()"
      ],
      "id": "d0404641-a2b8-434e-9bd5-8d94411950f8"
    },
    {
      "cell_type": "code",
      "execution_count": 96,
      "metadata": {},
      "outputs": [
        {
          "output_type": "display_data",
          "metadata": {},
          "data": {
            "text/plain": [
              "deque([3, 2, 5, 4, 6, 3])"
            ]
          }
        }
      ],
      "source": [
        "data"
      ],
      "id": "a5d6c9d4-00c0-491a-b600-c122cbdad188"
    },
    {
      "cell_type": "code",
      "execution_count": 97,
      "metadata": {},
      "outputs": [
        {
          "output_type": "display_data",
          "metadata": {},
          "data": {
            "text/plain": [
              "3"
            ]
          }
        }
      ],
      "source": [
        "data.popleft()"
      ],
      "id": "4c2814be-b9d9-4053-a794-cfdb7c0e2b96"
    },
    {
      "cell_type": "code",
      "execution_count": 98,
      "metadata": {},
      "outputs": [
        {
          "output_type": "display_data",
          "metadata": {},
          "data": {
            "text/plain": [
              "deque([2, 5, 4, 6, 3])"
            ]
          }
        }
      ],
      "source": [
        "data"
      ],
      "id": "a286f5eb-47cc-4b1f-9abd-ae8666764e1f"
    },
    {
      "cell_type": "markdown",
      "metadata": {},
      "source": [
        "### Counter\n",
        "\n",
        "등장 횟수 세는 기능"
      ],
      "id": "989bc02e-57d6-4910-982b-ed88b41d5fde"
    },
    {
      "cell_type": "code",
      "execution_count": 101,
      "metadata": {},
      "outputs": [
        {
          "output_type": "stream",
          "name": "stdout",
          "text": [
            "4\n",
            "1\n",
            "{'d': 4, 'a': 1, 'e': 1, 'q': 1} \n",
            "사전자료형으로 반환"
          ]
        }
      ],
      "source": [
        "from collections import Counter\n",
        "\n",
        "counter = Counter(['d','d','d','a','e','q','d'])\n",
        "\n",
        "print(counter['d'])\n",
        "print(counter['a'])\n",
        "print(dict(counter),\"\\n사전자료형으로 반환\")"
      ],
      "id": "4f7f8f91-4985-401b-aacc-08cc4d51b83f"
    },
    {
      "cell_type": "code",
      "execution_count": 100,
      "metadata": {},
      "outputs": [
        {
          "output_type": "display_data",
          "metadata": {},
          "data": {
            "text/plain": [
              "Counter({'d': 4, 'a': 1, 'e': 1, 'q': 1})"
            ]
          }
        }
      ],
      "source": [
        "counter"
      ],
      "id": "49e70744-189b-4a03-9803-66832e6f870f"
    },
    {
      "cell_type": "markdown",
      "metadata": {},
      "source": [
        "## math"
      ],
      "id": "26d27608-c82b-424f-94fe-3a99c0fa00f1"
    },
    {
      "cell_type": "code",
      "execution_count": 102,
      "metadata": {},
      "outputs": [
        {
          "output_type": "stream",
          "name": "stdout",
          "text": [
            "24"
          ]
        }
      ],
      "source": [
        "import math\n",
        "print(math.factorial(4))"
      ],
      "id": "390db222-8c87-4ed6-85d2-94a4ffa81b5e"
    },
    {
      "cell_type": "code",
      "execution_count": 103,
      "metadata": {},
      "outputs": [
        {
          "output_type": "display_data",
          "metadata": {},
          "data": {
            "text/plain": [
              "24"
            ]
          }
        }
      ],
      "source": [
        "4*3*2*1"
      ],
      "id": "1386c989-9015-4228-9151-4643ac42e9d6"
    },
    {
      "cell_type": "code",
      "execution_count": 104,
      "metadata": {},
      "outputs": [
        {
          "output_type": "stream",
          "name": "stdout",
          "text": [
            "5.0"
          ]
        }
      ],
      "source": [
        "import math\n",
        "print(math.sqrt(25))"
      ],
      "id": "1de41af5-3e37-44e3-8e8e-a11e24032cf5"
    },
    {
      "cell_type": "markdown",
      "metadata": {},
      "source": [
        "최대 공약수"
      ],
      "id": "6463b9e7-462b-435c-82f8-ab4531131101"
    },
    {
      "cell_type": "code",
      "execution_count": 105,
      "metadata": {},
      "outputs": [
        {
          "output_type": "stream",
          "name": "stdout",
          "text": [
            "5"
          ]
        }
      ],
      "source": [
        "import math\n",
        "print(math.gcd(30,25))"
      ],
      "id": "48ef34b6-1365-4b22-8e41-6c8285eee97a"
    },
    {
      "cell_type": "code",
      "execution_count": 106,
      "metadata": {},
      "outputs": [
        {
          "output_type": "stream",
          "name": "stdout",
          "text": [
            "3.141592653589793\n",
            "2.718281828459045"
          ]
        }
      ],
      "source": [
        "import math\n",
        "print(math.pi)\n",
        "print(math.e)"
      ],
      "id": "122a842f-bead-49c0-b411-a22a921a5f87"
    }
  ],
  "nbformat": 4,
  "nbformat_minor": 5,
  "metadata": {
    "kernelspec": {
      "name": "python3",
      "display_name": "Python 3 (ipykernel)",
      "language": "python"
    },
    "language_info": {
      "name": "python",
      "codemirror_mode": {
        "name": "ipython",
        "version": "3"
      },
      "file_extension": ".py",
      "mimetype": "text/x-python",
      "nbconvert_exporter": "python",
      "pygments_lexer": "ipython3",
      "version": "3.8.12"
    }
  }
}