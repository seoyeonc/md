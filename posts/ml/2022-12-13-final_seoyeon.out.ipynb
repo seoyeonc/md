{
  "cells": [
    {
      "cell_type": "markdown",
      "metadata": {},
      "source": [
        "# Finalterm\n",
        "\n",
        "SEOYEON CHOI  \n",
        "2022-12-13\n",
        "\n",
        "> 기말고사"
      ],
      "id": "4c1a90f5-b094-4e6c-9e6c-e07adc07c5f6"
    },
    {
      "cell_type": "code",
      "execution_count": 2,
      "metadata": {},
      "outputs": [],
      "source": [
        "import torch \n",
        "from fastai.text.all import *"
      ],
      "id": "e318419b-5f89-413d-863e-c760ad77321e"
    },
    {
      "cell_type": "markdown",
      "metadata": {},
      "source": [
        "## `1`. COVID19 tweets $\\to$ 텍스트생성 (30점)\n",
        "\n",
        "아래의 코드를 이용하여 자료를 다운로드 하라."
      ],
      "id": "d56a9d1f-e9ce-43dd-957d-79832da4ed6d"
    },
    {
      "cell_type": "code",
      "execution_count": 3,
      "metadata": {},
      "outputs": [
        {
          "output_type": "display_data",
          "metadata": {},
          "data": {
            "text/html": [
              "\n",
              "<p>41157 rows × 6 columns</p>\n",
              "</div>"
            ]
          }
        }
      ],
      "source": [
        "df = pd.read_csv('https://raw.githubusercontent.com/guebin/STML2022/main/posts/Corona_NLP_train.csv',encoding=\"ISO-8859-1\")\n",
        "df"
      ],
      "id": "4cd6aea4-e2aa-4379-8957-75be81a3466a"
    },
    {
      "cell_type": "markdown",
      "metadata": {},
      "source": [
        "`(1)` `TextDataLoaders.from_df`을 이용하여 dls오브젝트를 만들어라.\n",
        "\n",
        "-   text_col=‘OriginalTweet’ 로 설정\n",
        "-   is_lm=True 로 설정\n",
        "-   seq_len=64 로 설정"
      ],
      "id": "d2183cd3-2e83-4993-93f7-95f63cd24c66"
    },
    {
      "cell_type": "code",
      "execution_count": 4,
      "metadata": {},
      "outputs": [],
      "source": [
        "## 올바르게 dls를 생성하였을 경우 dls.show_batch()의 결과는 아래와 같음. "
      ],
      "id": "3fc977fd-55d8-4762-aba7-e9aed0200bc4"
    },
    {
      "cell_type": "code",
      "execution_count": 11,
      "metadata": {},
      "outputs": [
        {
          "output_type": "display_data",
          "metadata": {},
          "data": {
            "text/html": [
              "\n",
              "<style>\n",
              "    /* Turns off some styling */\n",
              "    progress {\n",
              "        /* gets rid of default border in Firefox and Opera. */\n",
              "        border: none;\n",
              "        /* Needs to be in here for Safari polyfill so background images work as expected. */\n",
              "        background-size: auto;\n",
              "    }\n",
              "    progress:not([value]), progress:not([value])::-webkit-progress-bar {\n",
              "        background: repeating-linear-gradient(45deg, #7e7e7e, #7e7e7e 10px, #5c5c5c 10px, #5c5c5c 20px);\n",
              "    }\n",
              "    .progress-bar-interrupted, .progress-bar-interrupted::-webkit-progress-bar {\n",
              "        background: #F44336;\n",
              "    }\n",
              "</style>"
            ]
          }
        },
        {
          "output_type": "display_data",
          "metadata": {},
          "data": {
            "text/html": []
          }
        }
      ],
      "source": [
        "dls = TextDataLoaders.from_df(df,is_lm=True,seq_len=64,text_col='OriginalTweet')"
      ],
      "id": "2d57acc0-1ee8-44bb-93e5-971fb87681e1"
    },
    {
      "cell_type": "code",
      "execution_count": 12,
      "metadata": {},
      "outputs": [
        {
          "output_type": "display_data",
          "metadata": {},
          "data": {}
        }
      ],
      "source": [
        "dls.show_batch()"
      ],
      "id": "f7e286d0-9aab-43b5-8a1e-048694364d03"
    },
    {
      "cell_type": "markdown",
      "metadata": {},
      "source": [
        "`(2)` language_model_learner를 이용하여 오브젝트를 생성하라.\n",
        "`lrnr.fine_tune(3,1e-1)`을 이용하여 학습하라.\n",
        "\n",
        "-   arch= AWD_LSTM 이용\n",
        "-   metrics = \\[accuracy,perplexity\\]"
      ],
      "id": "ef323235-dd16-4bfb-8d19-27288c3d4193"
    },
    {
      "cell_type": "code",
      "execution_count": 13,
      "metadata": {},
      "outputs": [],
      "source": [
        "lrnr = language_model_learner(dls, arch= AWD_LSTM, metrics=[accuracy,perplexity] )"
      ],
      "id": "ba75f739-cc65-4269-9e2a-cde7abecc0c0"
    },
    {
      "cell_type": "code",
      "execution_count": 14,
      "metadata": {},
      "outputs": [
        {
          "output_type": "display_data",
          "metadata": {},
          "data": {
            "text/html": [
              "\n",
              "<style>\n",
              "    /* Turns off some styling */\n",
              "    progress {\n",
              "        /* gets rid of default border in Firefox and Opera. */\n",
              "        border: none;\n",
              "        /* Needs to be in here for Safari polyfill so background images work as expected. */\n",
              "        background-size: auto;\n",
              "    }\n",
              "    progress:not([value]), progress:not([value])::-webkit-progress-bar {\n",
              "        background: repeating-linear-gradient(45deg, #7e7e7e, #7e7e7e 10px, #5c5c5c 10px, #5c5c5c 20px);\n",
              "    }\n",
              "    .progress-bar-interrupted, .progress-bar-interrupted::-webkit-progress-bar {\n",
              "        background: #F44336;\n",
              "    }\n",
              "</style>"
            ]
          }
        },
        {
          "output_type": "display_data",
          "metadata": {},
          "data": {}
        },
        {
          "output_type": "display_data",
          "metadata": {},
          "data": {
            "text/html": [
              "\n",
              "<style>\n",
              "    /* Turns off some styling */\n",
              "    progress {\n",
              "        /* gets rid of default border in Firefox and Opera. */\n",
              "        border: none;\n",
              "        /* Needs to be in here for Safari polyfill so background images work as expected. */\n",
              "        background-size: auto;\n",
              "    }\n",
              "    progress:not([value]), progress:not([value])::-webkit-progress-bar {\n",
              "        background: repeating-linear-gradient(45deg, #7e7e7e, #7e7e7e 10px, #5c5c5c 10px, #5c5c5c 20px);\n",
              "    }\n",
              "    .progress-bar-interrupted, .progress-bar-interrupted::-webkit-progress-bar {\n",
              "        background: #F44336;\n",
              "    }\n",
              "</style>"
            ]
          }
        },
        {
          "output_type": "display_data",
          "metadata": {},
          "data": {}
        }
      ],
      "source": [
        "lrnr.fine_tune(3,1e-1)"
      ],
      "id": "eb9d5140-4ef1-4f7a-94c9-26dcbde198f9"
    },
    {
      "cell_type": "markdown",
      "metadata": {},
      "source": [
        "`(3)` “the price of” 이후에 이어질 단어들을 생성하라. (`n_words=20` 으로\n",
        "설정할 것)"
      ],
      "id": "cbcbc6b1-a4c3-437f-b411-9d65d1e02379"
    },
    {
      "cell_type": "code",
      "execution_count": 94,
      "metadata": {},
      "outputs": [
        {
          "output_type": "display_data",
          "metadata": {},
          "data": {
            "text/html": [
              "\n",
              "<style>\n",
              "    /* Turns off some styling */\n",
              "    progress {\n",
              "        /* gets rid of default border in Firefox and Opera. */\n",
              "        border: none;\n",
              "        /* Needs to be in here for Safari polyfill so background images work as expected. */\n",
              "        background-size: auto;\n",
              "    }\n",
              "    progress:not([value]), progress:not([value])::-webkit-progress-bar {\n",
              "        background: repeating-linear-gradient(45deg, #7e7e7e, #7e7e7e 10px, #5c5c5c 10px, #5c5c5c 20px);\n",
              "    }\n",
              "    .progress-bar-interrupted, .progress-bar-interrupted::-webkit-progress-bar {\n",
              "        background: #F44336;\n",
              "    }\n",
              "</style>"
            ]
          }
        },
        {
          "output_type": "display_data",
          "metadata": {},
          "data": {
            "text/html": []
          }
        },
        {
          "output_type": "display_data",
          "metadata": {},
          "data": {
            "text/plain": [
              "'the price of stuff increases in other states as a result of the # coronavirus pandemic . So it makes alternatives .'"
            ]
          }
        }
      ],
      "source": [
        "## 생성예시"
      ],
      "id": "abbd606d-3248-4601-9d6b-08caa25e0458"
    },
    {
      "cell_type": "code",
      "execution_count": 15,
      "metadata": {},
      "outputs": [
        {
          "output_type": "display_data",
          "metadata": {},
          "data": {
            "text/html": [
              "\n",
              "<style>\n",
              "    /* Turns off some styling */\n",
              "    progress {\n",
              "        /* gets rid of default border in Firefox and Opera. */\n",
              "        border: none;\n",
              "        /* Needs to be in here for Safari polyfill so background images work as expected. */\n",
              "        background-size: auto;\n",
              "    }\n",
              "    progress:not([value]), progress:not([value])::-webkit-progress-bar {\n",
              "        background: repeating-linear-gradient(45deg, #7e7e7e, #7e7e7e 10px, #5c5c5c 10px, #5c5c5c 20px);\n",
              "    }\n",
              "    .progress-bar-interrupted, .progress-bar-interrupted::-webkit-progress-bar {\n",
              "        background: #F44336;\n",
              "    }\n",
              "</style>"
            ]
          }
        },
        {
          "output_type": "display_data",
          "metadata": {},
          "data": {
            "text/html": []
          }
        },
        {
          "output_type": "display_data",
          "metadata": {},
          "data": {
            "text/plain": [
              "'the price of what we need is on Check out some Facebook websites Live with you and adapt to'"
            ]
          }
        }
      ],
      "source": [
        "lrnr.predict('the price of', n_words=20) "
      ],
      "id": "e9369482-45c5-49be-9c8d-a1a0af7eb4af"
    },
    {
      "cell_type": "markdown",
      "metadata": {},
      "source": [
        "## `2`. COVID19 tweets $\\to$ 분류 (30점)\n",
        "\n",
        "아래의 코드를 이용하여 자료를 다운로드 하라."
      ],
      "id": "2e4596b4-49a8-46ba-981c-e4646f136a6e"
    },
    {
      "cell_type": "code",
      "execution_count": 16,
      "metadata": {},
      "outputs": [
        {
          "output_type": "display_data",
          "metadata": {},
          "data": {
            "text/html": [
              "\n",
              "<p>41157 rows × 6 columns</p>\n",
              "</div>"
            ]
          }
        }
      ],
      "source": [
        "df = pd.read_csv('https://raw.githubusercontent.com/guebin/STML2022/main/posts/Corona_NLP_train.csv',encoding=\"ISO-8859-1\")\n",
        "df"
      ],
      "id": "bfc68570-5e4f-432a-b44d-a5b9a835f9bb"
    },
    {
      "cell_type": "markdown",
      "metadata": {},
      "source": [
        "`(1)` `TextDataLoaders.from_df`을 이용하여 dls오브젝트를 만들어라.\n",
        "\n",
        "-   text_col=’OriginalTweet’로 설정\n",
        "-   label_col=’Sentiment’로 설정\n",
        "-   seq_len=64 로 설정"
      ],
      "id": "a2ada90a-127e-4f60-aa3b-44023c7252f2"
    },
    {
      "cell_type": "code",
      "execution_count": 95,
      "metadata": {},
      "outputs": [
        {
          "output_type": "display_data",
          "metadata": {},
          "data": {
            "text/html": [
              "\n",
              "<style>\n",
              "    /* Turns off some styling */\n",
              "    progress {\n",
              "        /* gets rid of default border in Firefox and Opera. */\n",
              "        border: none;\n",
              "        /* Needs to be in here for Safari polyfill so background images work as expected. */\n",
              "        background-size: auto;\n",
              "    }\n",
              "    progress:not([value]), progress:not([value])::-webkit-progress-bar {\n",
              "        background: repeating-linear-gradient(45deg, #7e7e7e, #7e7e7e 10px, #5c5c5c 10px, #5c5c5c 20px);\n",
              "    }\n",
              "    .progress-bar-interrupted, .progress-bar-interrupted::-webkit-progress-bar {\n",
              "        background: #F44336;\n",
              "    }\n",
              "</style>"
            ]
          }
        },
        {
          "output_type": "display_data",
          "metadata": {},
          "data": {
            "text/html": []
          }
        },
        {
          "output_type": "display_data",
          "metadata": {},
          "data": {}
        }
      ],
      "source": [
        "## 올바르게 dls를 생성하였을 경우 dls.show_batch()의 결과는 아래와 같음. "
      ],
      "id": "50ee1aea-8f42-41d1-abfc-fc4257f282b7"
    },
    {
      "cell_type": "code",
      "execution_count": 22,
      "metadata": {},
      "outputs": [
        {
          "output_type": "display_data",
          "metadata": {},
          "data": {
            "text/html": [
              "\n",
              "<style>\n",
              "    /* Turns off some styling */\n",
              "    progress {\n",
              "        /* gets rid of default border in Firefox and Opera. */\n",
              "        border: none;\n",
              "        /* Needs to be in here for Safari polyfill so background images work as expected. */\n",
              "        background-size: auto;\n",
              "    }\n",
              "    progress:not([value]), progress:not([value])::-webkit-progress-bar {\n",
              "        background: repeating-linear-gradient(45deg, #7e7e7e, #7e7e7e 10px, #5c5c5c 10px, #5c5c5c 20px);\n",
              "    }\n",
              "    .progress-bar-interrupted, .progress-bar-interrupted::-webkit-progress-bar {\n",
              "        background: #F44336;\n",
              "    }\n",
              "</style>"
            ]
          }
        },
        {
          "output_type": "display_data",
          "metadata": {},
          "data": {
            "text/html": []
          }
        }
      ],
      "source": [
        "dls = TextDataLoaders.from_df(df,text_col='OriginalTweet',label_col='Sentiment',seq_len=64)"
      ],
      "id": "2f5d5274-68cd-428f-a136-d3d683b4c48d"
    },
    {
      "cell_type": "code",
      "execution_count": 23,
      "metadata": {},
      "outputs": [
        {
          "output_type": "display_data",
          "metadata": {},
          "data": {}
        }
      ],
      "source": [
        "dls.show_batch()"
      ],
      "id": "e6111ecb-6612-4be9-b07b-2df08e550ab6"
    },
    {
      "cell_type": "markdown",
      "metadata": {},
      "source": [
        "`(2)` text_classifier_learner를 이용하여 오브젝트를 생성하라.\n",
        "`lrnr.fine_tune(5,1e-2)`을 이용하여 학습하라.\n",
        "\n",
        "-   arch= AWD_LSTM 이용\n",
        "-   metrics = accuracy 이용"
      ],
      "id": "a8141c3d-8f9d-4c5e-8ff8-4ece0cd0b825"
    },
    {
      "cell_type": "code",
      "execution_count": 24,
      "metadata": {},
      "outputs": [],
      "source": [
        "lrnr = text_classifier_learner(dls,AWD_LSTM,metrics=accuracy).to_fp16()"
      ],
      "id": "cfda50ef-998c-4fd5-8335-58d9ee81e69f"
    },
    {
      "cell_type": "code",
      "execution_count": 25,
      "metadata": {},
      "outputs": [
        {
          "output_type": "display_data",
          "metadata": {},
          "data": {
            "text/html": [
              "\n",
              "<style>\n",
              "    /* Turns off some styling */\n",
              "    progress {\n",
              "        /* gets rid of default border in Firefox and Opera. */\n",
              "        border: none;\n",
              "        /* Needs to be in here for Safari polyfill so background images work as expected. */\n",
              "        background-size: auto;\n",
              "    }\n",
              "    progress:not([value]), progress:not([value])::-webkit-progress-bar {\n",
              "        background: repeating-linear-gradient(45deg, #7e7e7e, #7e7e7e 10px, #5c5c5c 10px, #5c5c5c 20px);\n",
              "    }\n",
              "    .progress-bar-interrupted, .progress-bar-interrupted::-webkit-progress-bar {\n",
              "        background: #F44336;\n",
              "    }\n",
              "</style>"
            ]
          }
        },
        {
          "output_type": "display_data",
          "metadata": {},
          "data": {}
        },
        {
          "output_type": "display_data",
          "metadata": {},
          "data": {
            "text/html": [
              "\n",
              "<style>\n",
              "    /* Turns off some styling */\n",
              "    progress {\n",
              "        /* gets rid of default border in Firefox and Opera. */\n",
              "        border: none;\n",
              "        /* Needs to be in here for Safari polyfill so background images work as expected. */\n",
              "        background-size: auto;\n",
              "    }\n",
              "    progress:not([value]), progress:not([value])::-webkit-progress-bar {\n",
              "        background: repeating-linear-gradient(45deg, #7e7e7e, #7e7e7e 10px, #5c5c5c 10px, #5c5c5c 20px);\n",
              "    }\n",
              "    .progress-bar-interrupted, .progress-bar-interrupted::-webkit-progress-bar {\n",
              "        background: #F44336;\n",
              "    }\n",
              "</style>"
            ]
          }
        },
        {
          "output_type": "display_data",
          "metadata": {},
          "data": {}
        }
      ],
      "source": [
        "lrnr.fine_tune(5,1e-2)"
      ],
      "id": "1061dbf5-b072-4367-9730-65404df50d32"
    },
    {
      "cell_type": "markdown",
      "metadata": {},
      "source": [
        "`(3)` 아래의 텍스트에 대한 분류결과를 확인하라.\n",
        "\n",
        "-   “the government’s approach to the pendemic has been a complete\n",
        "    disaster”\n",
        "-   “the new vaccines hold the promise of a quick return to economic\n",
        "    growth”\n",
        "\n",
        "**hint** “the government’s approach to the pendemic has been a complete\n",
        "disaster” 에 대하여서는 부정으로, “the new vaccines hold the promise of\n",
        "a quick return to economic growth”에 대하여서는 긍정으로 예측되어야\n",
        "적절하다.\n",
        "\n",
        "negative"
      ],
      "id": "2df93c37-950f-47cc-9b21-2b81625b4471"
    },
    {
      "cell_type": "code",
      "execution_count": 26,
      "metadata": {},
      "outputs": [
        {
          "output_type": "display_data",
          "metadata": {},
          "data": {
            "text/html": [
              "\n",
              "<style>\n",
              "    /* Turns off some styling */\n",
              "    progress {\n",
              "        /* gets rid of default border in Firefox and Opera. */\n",
              "        border: none;\n",
              "        /* Needs to be in here for Safari polyfill so background images work as expected. */\n",
              "        background-size: auto;\n",
              "    }\n",
              "    progress:not([value]), progress:not([value])::-webkit-progress-bar {\n",
              "        background: repeating-linear-gradient(45deg, #7e7e7e, #7e7e7e 10px, #5c5c5c 10px, #5c5c5c 20px);\n",
              "    }\n",
              "    .progress-bar-interrupted, .progress-bar-interrupted::-webkit-progress-bar {\n",
              "        background: #F44336;\n",
              "    }\n",
              "</style>"
            ]
          }
        },
        {
          "output_type": "display_data",
          "metadata": {},
          "data": {
            "text/html": []
          }
        },
        {
          "output_type": "display_data",
          "metadata": {},
          "data": {
            "text/plain": [
              "('Extremely Negative',\n",
              " tensor(0),\n",
              " tensor([8.7544e-01, 3.0173e-06, 1.2416e-01, 7.9043e-05, 3.0868e-04]))"
            ]
          }
        }
      ],
      "source": [
        "lrnr.predict(\"the government's approach to the pendemic has been a complete disaster\") "
      ],
      "id": "0f25d531-8732-4d3d-85f6-41b7e2f74356"
    },
    {
      "cell_type": "markdown",
      "metadata": {},
      "source": [
        "positive"
      ],
      "id": "bf043d0c-8824-4d00-ab12-bbcd29de55e2"
    },
    {
      "cell_type": "code",
      "execution_count": 27,
      "metadata": {},
      "outputs": [
        {
          "output_type": "display_data",
          "metadata": {},
          "data": {
            "text/html": [
              "\n",
              "<style>\n",
              "    /* Turns off some styling */\n",
              "    progress {\n",
              "        /* gets rid of default border in Firefox and Opera. */\n",
              "        border: none;\n",
              "        /* Needs to be in here for Safari polyfill so background images work as expected. */\n",
              "        background-size: auto;\n",
              "    }\n",
              "    progress:not([value]), progress:not([value])::-webkit-progress-bar {\n",
              "        background: repeating-linear-gradient(45deg, #7e7e7e, #7e7e7e 10px, #5c5c5c 10px, #5c5c5c 20px);\n",
              "    }\n",
              "    .progress-bar-interrupted, .progress-bar-interrupted::-webkit-progress-bar {\n",
              "        background: #F44336;\n",
              "    }\n",
              "</style>"
            ]
          }
        },
        {
          "output_type": "display_data",
          "metadata": {},
          "data": {
            "text/html": []
          }
        },
        {
          "output_type": "display_data",
          "metadata": {},
          "data": {
            "text/plain": [
              "('Extremely Positive',\n",
              " tensor(1),\n",
              " tensor([1.2628e-06, 9.2473e-01, 5.2453e-05, 4.5041e-05, 7.5169e-02]))"
            ]
          }
        }
      ],
      "source": [
        "lrnr.predict(\"the new vaccines hold the promise of a quick return to economic growth\") "
      ],
      "id": "38ef0569-07e8-4e53-b32b-7e5e5b9af038"
    },
    {
      "cell_type": "markdown",
      "metadata": {},
      "source": [
        "## `3`. human numbers 5 (40점)\n",
        "\n",
        "아래와 같은 데이터가 있다고 하자."
      ],
      "id": "c333b0a4-6dc6-42bf-b0ea-56b8493e3cee"
    },
    {
      "cell_type": "code",
      "execution_count": 28,
      "metadata": {},
      "outputs": [],
      "source": [
        "txt = (['one',',','two',',','three',',','four',',','five',',']*100)[:-1]\n",
        "mapping = {',':0, 'one':1, 'two':2, 'three':3, 'four':4, 'five':5} \n",
        "txt_x = txt[:-1]\n",
        "txt_y = txt[1:] "
      ],
      "id": "9585575e-a662-465f-85a4-318afa96ffc3"
    },
    {
      "cell_type": "code",
      "execution_count": 29,
      "metadata": {},
      "outputs": [
        {
          "output_type": "display_data",
          "metadata": {},
          "data": {
            "text/plain": [
              "(['one', ',', 'two', ',', 'three'], [',', 'two', ',', 'three', ','])"
            ]
          }
        }
      ],
      "source": [
        "txt_x[:5], txt_y[:5]"
      ],
      "id": "91fb22e3-b18d-4e90-85cd-1c5f6457fcf4"
    },
    {
      "cell_type": "code",
      "execution_count": 59,
      "metadata": {},
      "outputs": [],
      "source": [
        "def f(txt,mapping):\n",
        "    return [mapping[key] for key in txt] \n",
        "sig = torch.nn.Sigmoid()\n",
        "soft = torch.nn.Softmax(dim=1)\n",
        "tanh = torch.nn.Tanh()"
      ],
      "id": "4a10f056-8e6f-451b-ac2f-07c6864d5220"
    },
    {
      "cell_type": "code",
      "execution_count": 60,
      "metadata": {},
      "outputs": [],
      "source": [
        "x = torch.nn.functional.one_hot(torch.tensor(f(txt_x,mapping))).float().to(\"cuda:0\")\n",
        "y = torch.nn.functional.one_hot(torch.tensor(f(txt_y,mapping))).float().to(\"cuda:0\")"
      ],
      "id": "93d05d97-c8c0-4ecd-93ad-e71dcfe91360"
    },
    {
      "cell_type": "code",
      "execution_count": 61,
      "metadata": {},
      "outputs": [
        {
          "output_type": "display_data",
          "metadata": {},
          "data": {
            "text/plain": [
              "(tensor([[0., 1., 0., 0., 0., 0.],\n",
              "         [1., 0., 0., 0., 0., 0.],\n",
              "         [0., 0., 1., 0., 0., 0.],\n",
              "         [1., 0., 0., 0., 0., 0.],\n",
              "         [0., 0., 0., 1., 0., 0.]], device='cuda:0'),\n",
              " tensor([[1., 0., 0., 0., 0., 0.],\n",
              "         [0., 0., 1., 0., 0., 0.],\n",
              "         [1., 0., 0., 0., 0., 0.],\n",
              "         [0., 0., 0., 1., 0., 0.],\n",
              "         [1., 0., 0., 0., 0., 0.]], device='cuda:0'))"
            ]
          }
        }
      ],
      "source": [
        "x[:5],y[:5]"
      ],
      "id": "411a6959-aa7e-471a-81e4-5d54f566c7f6"
    },
    {
      "cell_type": "markdown",
      "metadata": {},
      "source": [
        "`(1)` `torch.nn.RNNCell()`을 이용하여 다음단어를 예측하는 신경망을\n",
        "설계하고 학습하라."
      ],
      "id": "50f51b95-f9e5-4438-9c59-b931bf25ee01"
    },
    {
      "cell_type": "code",
      "execution_count": 120,
      "metadata": {},
      "outputs": [],
      "source": [
        "torch.manual_seed(12345)\n",
        "rnncell=torch.nn.RNNCell(6,20).to(\"cuda:0\")\n",
        "linr = torch.nn.Linear(20,6).to(\"cuda:0\")"
      ],
      "id": "80b42424-4156-494d-acac-a14b2fd03dfd"
    },
    {
      "cell_type": "code",
      "execution_count": 121,
      "metadata": {},
      "outputs": [],
      "source": [
        "loss_fn = torch.nn.CrossEntropyLoss()\n",
        "optimizr = torch.optim.Adam(list(rnncell.parameters())+list(linr.parameters()))"
      ],
      "id": "3afca045-e3d8-4cea-a494-b431b3161f6a"
    },
    {
      "cell_type": "code",
      "execution_count": 122,
      "metadata": {},
      "outputs": [],
      "source": [
        "T = len(x) \n",
        "for epoc in range(500): \n",
        "    ## 1~2\n",
        "    loss = 0 \n",
        "    ht = torch.zeros(1,20).to(\"cuda:0\") \n",
        "    for t in range(T):\n",
        "        xt,yt = x[[t]], y[[t]]\n",
        "        ht = rnncell(xt,ht) \n",
        "        ot = linr(ht) \n",
        "        loss = loss + loss_fn(ot,yt) \n",
        "    ## 3 \n",
        "    loss.backward()\n",
        "    ## 4 \n",
        "    optimizr.step()\n",
        "    optimizr.zero_grad()"
      ],
      "id": "4a02ec26-8bf4-4969-9df6-5a555479a708"
    },
    {
      "cell_type": "code",
      "execution_count": 123,
      "metadata": {},
      "outputs": [],
      "source": [
        "_water = torch.zeros(1,20).to(\"cuda:0\") \n",
        "hidden[[0]] = rnncell(x[[0]],_water)\n",
        "for t in range(1,T):\n",
        "    hidden[[t]] = rnncell(x[[t]],hidden[[t-1]])"
      ],
      "id": "0af542e2-8439-4748-b52b-3eefc978b93d"
    },
    {
      "cell_type": "code",
      "execution_count": 124,
      "metadata": {},
      "outputs": [],
      "source": [
        "yhat = soft(linr(hidden))"
      ],
      "id": "e3b47c1a-18df-4890-a26a-960501d0c7ba"
    },
    {
      "cell_type": "code",
      "execution_count": 125,
      "metadata": {},
      "outputs": [
        {
          "output_type": "display_data",
          "metadata": {},
          "data": {
            "text/plain": [
              "<matplotlib.image.AxesImage at 0x7f7fee9c2c50>"
            ]
          }
        },
        {
          "output_type": "display_data",
          "metadata": {},
          "data": {
            "image/png": "[encoded data removed]"
          }
        }
      ],
      "source": [
        "plt.matshow(yhat[-20:].data.to(\"cpu\"),cmap='bwr')"
      ],
      "id": "1e9284ce-0e30-45b7-9c2b-ff6069e54e51"
    },
    {
      "cell_type": "markdown",
      "metadata": {},
      "source": [
        "`(2)` `torch.nn.RNN()`을 이용하여 다음단어를 예측하는 신경망을 설계하고\n",
        "학습하라."
      ],
      "id": "4d9b9cc5-7f5d-4e90-bbfd-a4bd4b195805"
    },
    {
      "cell_type": "code",
      "execution_count": 151,
      "metadata": {},
      "outputs": [],
      "source": [
        "torch.manual_seed(12345)\n",
        "rnn = torch.nn.RNN(6,20).to(\"cuda:0\")\n",
        "linr=torch.nn.Linear(20,6).to(\"cuda:0\")\n",
        "loss_fn = torch.nn.CrossEntropyLoss()\n",
        "optimizr = torch.optim.Adam(list(rnncell.parameters())+list(linr.parameters()))"
      ],
      "id": "0b6fc5fc-d187-48d2-b35f-c1c9570f5da2"
    },
    {
      "cell_type": "code",
      "execution_count": 152,
      "metadata": {},
      "outputs": [],
      "source": [
        "_water = torch.zeros(1,20).to(\"cuda:0\")\n",
        "for epoc in range(8000):\n",
        "    ## 1 \n",
        "    hidden,hT = rnn(x,_water)\n",
        "    output = linr(hidden) \n",
        "    ## 2 \n",
        "    loss = loss_fn(output,y)\n",
        "    ## 3 \n",
        "    loss.backward()\n",
        "    ## 4 \n",
        "    optimizr.step()\n",
        "    optimizr.zero_grad()"
      ],
      "id": "82a78282-76c3-416c-8d42-910312c965d5"
    },
    {
      "cell_type": "code",
      "execution_count": 153,
      "metadata": {},
      "outputs": [],
      "source": [
        "yhat = soft(output)"
      ],
      "id": "509c5ec1-58d6-462d-a069-445f9ba5f211"
    },
    {
      "cell_type": "code",
      "execution_count": 154,
      "metadata": {},
      "outputs": [
        {
          "output_type": "display_data",
          "metadata": {},
          "data": {
            "text/plain": [
              "<matplotlib.image.AxesImage at 0x7f8083af6990>"
            ]
          }
        },
        {
          "output_type": "display_data",
          "metadata": {},
          "data": {
            "image/png": "[encoded data removed]"
          }
        }
      ],
      "source": [
        "plt.matshow(yhat.data[-20:].to(\"cpu\"),cmap='bwr')"
      ],
      "id": "96615d10-44b3-40f6-bfc9-7e220a3ee224"
    },
    {
      "cell_type": "markdown",
      "metadata": {},
      "source": [
        "`(3)` `torch.nn.LSTMCell()`을 이용하여 다음단어를 예측하는 신경망을\n",
        "설계하고 학습하라."
      ],
      "id": "ba2c6ff8-9421-421a-b4bf-4cf9e9d36f9f"
    },
    {
      "cell_type": "code",
      "execution_count": 236,
      "metadata": {},
      "outputs": [],
      "source": [
        "torch.manual_seed(12345) \n",
        "lstmcell = torch.nn.LSTMCell(6,4).to(\"cuda:0\") \n",
        "linr = torch.nn.Linear(4,6).to(\"cuda:0\") \n",
        "loss_fn = torch.nn.CrossEntropyLoss()\n",
        "optimizr = torch.optim.Adam(list(lstmcell.parameters())+list(linr.parameters()),lr=0.1)"
      ],
      "id": "4bd17f36-59cc-4d0d-acdf-bf8264dc0682"
    },
    {
      "cell_type": "code",
      "execution_count": 237,
      "metadata": {},
      "outputs": [],
      "source": [
        "for epoc in range(5000):\n",
        "    ## 1\n",
        "    hidden = []\n",
        "    ht = torch.zeros(4).to(\"cuda:0\")\n",
        "    ct = torch.zeros(4).to(\"cuda:0\")\n",
        "    for xt,yt in zip(x,y): \n",
        "        ht,ct = lstmcell(xt,(ht,ct))\n",
        "        hidden.append(ht) \n",
        "    hidden = torch.stack(hidden)\n",
        "    output = linr(hidden)\n",
        "    ## 2 \n",
        "    loss = loss_fn(output,y)\n",
        "    ## 3 \n",
        "    loss.backward()\n",
        "    ## 4 \n",
        "    optimizr.step()\n",
        "    optimizr.zero_grad()"
      ],
      "id": "483115cc-2a88-4502-9cf6-128ef99f569a"
    },
    {
      "cell_type": "code",
      "execution_count": 238,
      "metadata": {},
      "outputs": [
        {
          "output_type": "display_data",
          "metadata": {},
          "data": {
            "text/plain": [
              "array([[1., 0., 0., 0., 0., 0.],\n",
              "       [0., 0., 1., 0., 0., 0.],\n",
              "       [1., 0., 0., 0., 0., 0.],\n",
              "       [0., 0., 0., 1., 0., 0.],\n",
              "       [1., 0., 0., 0., 0., 0.],\n",
              "       [0., 0., 0., 0., 1., 0.],\n",
              "       [1., 0., 0., 0., 0., 0.],\n",
              "       [0., 0., 0., 0., 0., 1.],\n",
              "       [1., 0., 0., 0., 0., 0.],\n",
              "       [0., 1., 0., 0., 0., 0.]], dtype=float32)"
            ]
          }
        }
      ],
      "source": [
        "yhat = soft(output)\n",
        "yhat[:10].to(\"cpu\").detach().numpy().round(3)"
      ],
      "id": "149d37a6-d2bd-47ae-b8fc-61443014f734"
    },
    {
      "cell_type": "code",
      "execution_count": 242,
      "metadata": {},
      "outputs": [
        {
          "output_type": "display_data",
          "metadata": {},
          "data": {
            "image/png": "[encoded data removed]"
          }
        }
      ],
      "source": [
        "plt.matshow(yhat.to(\"cpu\").data[:20],cmap='bwr',vmin=-1,vmax=1)\n",
        "plt.xticks(range(6),labels=[',','one','two','three','four','five']);"
      ],
      "id": "3fa68905-e450-40c9-b813-52ed183cbc14"
    },
    {
      "cell_type": "markdown",
      "metadata": {},
      "source": [
        "`(4)` `torch.nn.LSTM()`을 이용하여 다음단어를 예측하는 신경망을 설계하고\n",
        "학습하라."
      ],
      "id": "fbb318be-c386-4444-8e51-dfdc21c1c081"
    },
    {
      "cell_type": "code",
      "execution_count": 243,
      "metadata": {},
      "outputs": [],
      "source": [
        "torch.manual_seed(12345) \n",
        "lstm = torch.nn.LSTM(6,20).to(\"cuda:0\") \n",
        "linr = torch.nn.Linear(20,6).to(\"cuda:0\") \n",
        "loss_fn = torch.nn.CrossEntropyLoss()\n",
        "optimizr = torch.optim.Adam(list(lstm.parameters())+list(linr.parameters()),lr=0.1)"
      ],
      "id": "3f7e8352-9749-4d0c-b8c1-76263ae5c70f"
    },
    {
      "cell_type": "code",
      "execution_count": 244,
      "metadata": {},
      "outputs": [],
      "source": [
        "for epoc in range(5000):\n",
        "    ## 1 \n",
        "    hidden, (hT,cT) =lstm(x)\n",
        "    output = linr(hidden) \n",
        "    ## 2 \n",
        "    loss = loss_fn(output,y) \n",
        "    ## 3 \n",
        "    loss.backward()\n",
        "    ## 4 \n",
        "    optimizr.step()\n",
        "    optimizr.zero_grad()     "
      ],
      "id": "f6391953-57a9-4bf4-aa87-ad13b4eccc3e"
    },
    {
      "cell_type": "code",
      "execution_count": 245,
      "metadata": {},
      "outputs": [
        {
          "output_type": "display_data",
          "metadata": {},
          "data": {
            "image/png": "[encoded data removed]"
          }
        }
      ],
      "source": [
        "plt.matshow(soft(output).data[-20:].to(\"cpu\"),cmap='bwr',vmin=-1,vmax=1)\n",
        "plt.xticks(range(6),labels=[',','one','two','three','four','five']);"
      ],
      "id": "f6d04cb7-dab4-483b-8436-f173374d3f93"
    },
    {
      "cell_type": "markdown",
      "metadata": {},
      "source": [
        "> 참고:\n",
        "> <https://guebin.github.io/DL2022/posts/2022-11-29-13wk-2-final.html>\n",
        "> 의 1번풀이를 참고하세요\n",
        "\n",
        "# ref\n",
        "\n",
        "https://www.kaggle.com/datasets/datatattle/covid-19-nlp-text-classification"
      ],
      "id": "1c8edd20-4003-46f6-b8e1-3059c42190d9"
    }
  ],
  "nbformat": 4,
  "nbformat_minor": 5,
  "metadata": {
    "kernelspec": {
      "name": "python3",
      "display_name": "Python 3",
      "language": "python"
    },
    "language_info": {
      "name": "python",
      "codemirror_mode": {
        "name": "ipython",
        "version": "3"
      },
      "file_extension": ".py",
      "mimetype": "text/x-python",
      "nbconvert_exporter": "python",
      "pygments_lexer": "ipython3",
      "version": "3.7.13"
    }
  }
}