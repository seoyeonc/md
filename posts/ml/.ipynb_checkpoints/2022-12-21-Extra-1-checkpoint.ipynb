{
 "cells": [
  {
   "cell_type": "raw",
   "id": "558a97bc-3050-43b1-8f86-ffc58a4a1cfc",
   "metadata": {},
   "source": [
    "---\n",
    "title: \"Extra-1: 추천시스템\"\n",
    "author: \"EOYEON CHOI\"\n",
    "date: \"12/21/2022\"\n",
    "categories:\n",
    "  - 추천시스템\n",
    "---"
   ]
  },
  {
   "cell_type": "markdown",
   "id": "fcbecb33-fe1c-4964-b4da-fec89656b664",
   "metadata": {},
   "source": [
    "> 추천시스템"
   ]
  },
  {
   "cell_type": "markdown",
   "id": "0f9e0da7-9592-4cc6-8fee-2b1a06192e1b",
   "metadata": {
    "tags": []
   },
   "source": [
    "# imports "
   ]
  },
  {
   "cell_type": "code",
   "execution_count": 2,
   "id": "57dc01be-6da3-43b2-b5e1-1854e27fa70f",
   "metadata": {},
   "outputs": [],
   "source": [
    "import torch\n",
    "import numpy as np \n",
    "import pandas as pd\n",
    "from fastai.collab import * "
   ]
  },
  {
   "cell_type": "markdown",
   "id": "c9b9b949-f1a9-4849-9cad-3a8f31a89b64",
   "metadata": {},
   "source": [
    "# 나는 솔로"
   ]
  },
  {
   "cell_type": "markdown",
   "id": "8c1c9598-dd4a-471f-a198-9da99abf1e1f",
   "metadata": {},
   "source": [
    "## 주절주절 intro"
   ]
  },
  {
   "cell_type": "markdown",
   "id": "04b89331-2274-4aee-a3a5-aba0590c9b72",
   "metadata": {},
   "source": [
    "`-` Data"
   ]
  },
  {
   "cell_type": "code",
   "execution_count": 3,
   "id": "579104c1-8e5a-4968-bd2b-faac85f3eaea",
   "metadata": {},
   "outputs": [
    {
     "data": {
      "text/html": [
       "<div>\n",
       "<style scoped>\n",
       "    .dataframe tbody tr th:only-of-type {\n",
       "        vertical-align: middle;\n",
       "    }\n",
       "\n",
       "    .dataframe tbody tr th {\n",
       "        vertical-align: top;\n",
       "    }\n",
       "\n",
       "    .dataframe thead th {\n",
       "        text-align: right;\n",
       "    }\n",
       "</style>\n",
       "<table border=\"1\" class=\"dataframe\">\n",
       "  <thead>\n",
       "    <tr style=\"text-align: right;\">\n",
       "      <th></th>\n",
       "      <th>영식</th>\n",
       "      <th>영철</th>\n",
       "      <th>영호</th>\n",
       "      <th>광수</th>\n",
       "      <th>상철</th>\n",
       "      <th>영수</th>\n",
       "    </tr>\n",
       "  </thead>\n",
       "  <tbody>\n",
       "    <tr>\n",
       "      <th>옥순</th>\n",
       "      <td>3.9</td>\n",
       "      <td>4.1</td>\n",
       "      <td>NaN</td>\n",
       "      <td>0.5</td>\n",
       "      <td>0.3</td>\n",
       "      <td>NaN</td>\n",
       "    </tr>\n",
       "    <tr>\n",
       "      <th>영자</th>\n",
       "      <td>4.5</td>\n",
       "      <td>NaN</td>\n",
       "      <td>3.7</td>\n",
       "      <td>0.5</td>\n",
       "      <td>NaN</td>\n",
       "      <td>0.2</td>\n",
       "    </tr>\n",
       "    <tr>\n",
       "      <th>정숙</th>\n",
       "      <td>NaN</td>\n",
       "      <td>4.9</td>\n",
       "      <td>4.7</td>\n",
       "      <td>NaN</td>\n",
       "      <td>1.2</td>\n",
       "      <td>1.3</td>\n",
       "    </tr>\n",
       "    <tr>\n",
       "      <th>영숙</th>\n",
       "      <td>0.6</td>\n",
       "      <td>0.2</td>\n",
       "      <td>NaN</td>\n",
       "      <td>4.1</td>\n",
       "      <td>4.3</td>\n",
       "      <td>NaN</td>\n",
       "    </tr>\n",
       "    <tr>\n",
       "      <th>순자</th>\n",
       "      <td>0.7</td>\n",
       "      <td>0.9</td>\n",
       "      <td>NaN</td>\n",
       "      <td>4.2</td>\n",
       "      <td>NaN</td>\n",
       "      <td>3.9</td>\n",
       "    </tr>\n",
       "    <tr>\n",
       "      <th>현숙</th>\n",
       "      <td>NaN</td>\n",
       "      <td>0.2</td>\n",
       "      <td>0.3</td>\n",
       "      <td>NaN</td>\n",
       "      <td>3.5</td>\n",
       "      <td>3.4</td>\n",
       "    </tr>\n",
       "  </tbody>\n",
       "</table>\n",
       "</div>"
      ],
      "text/plain": [
       "     영식   영철   영호   광수   상철   영수\n",
       "옥순  3.9  4.1  NaN  0.5  0.3  NaN\n",
       "영자  4.5  NaN  3.7  0.5  NaN  0.2\n",
       "정숙  NaN  4.9  4.7  NaN  1.2  1.3\n",
       "영숙  0.6  0.2  NaN  4.1  4.3  NaN\n",
       "순자  0.7  0.9  NaN  4.2  NaN  3.9\n",
       "현숙  NaN  0.2  0.3  NaN  3.5  3.4"
      ]
     },
     "execution_count": 3,
     "metadata": {},
     "output_type": "execute_result"
    }
   ],
   "source": [
    "df_view = pd.read_csv('2022-12-21-rcmdsolo.csv',index_col=0)\n",
    "df_view "
   ]
  },
  {
   "cell_type": "markdown",
   "id": "2ab9002d-f8a0-44c4-88de-f77a090fc5c5",
   "metadata": {},
   "source": [
    "`-` 데이터를 이해할때 필요한 가정들 -- 내맘대로 한 설정임. \n",
    "\n",
    "- (옥순,영자,정숙)은 (영식,영철,영호)와 성격이 잘 맞고 (영숙,순자,현숙)은 (광수,상철,영수)와 성격이 잘맞음 \n",
    "- ((옥순,영자,정숙),(영식,영철,영호))은 MBTI가 I로 시작하고 ((영숙,순자,현숙),(광수,상철,영수))는 MBTI가 E로 시작한다. "
   ]
  },
  {
   "cell_type": "markdown",
   "id": "8c8f164e-232d-46a4-9df7-2944bacbe6c9",
   "metadata": {},
   "source": [
    "`-` 목표: NaN 을 추론"
   ]
  },
  {
   "cell_type": "markdown",
   "id": "87b9f705-04e7-444a-9a30-592a7d4fd1b5",
   "metadata": {},
   "source": [
    "`-` 수동추론: \n",
    "\n",
    "- (옥순,영호)이 만난다면? $\\to$ 둘다 I성향이니까 잘 맞지 않을까? $\\to$ 4.0 정도? \n",
    "- (정숙,영식)조합은? $\\to$ 둘다 I성향이니까 잘 맞지 않을까? + 정숙은 다 잘맞던데..? $\\to$ 4.8 정도? \n",
    "- (현숙,영식)조합은? $\\to$ 현숙은 E성향인데 영식은 I성향이므로 잘 안맞을 것임 + 현숙은 원래 좀 눈이 높음 $\\to$ 0.25 정도? "
   ]
  },
  {
   "cell_type": "markdown",
   "id": "f95f1a0f-1cae-40fe-818e-479433fb62be",
   "metadata": {},
   "source": [
    "`-` 좀 더 체계적인 추론"
   ]
  },
  {
   "cell_type": "markdown",
   "id": "45ae76b2-c016-48cf-b7a7-7a2dee7d54cd",
   "metadata": {},
   "source": [
    "사람들이 가지고 있는 성향들을 두 개의 숫자로 표현하자. \n",
    "\n",
    "- 옥순의 성향 = (I성향,E성향) = (1.9, 0.0) \n",
    "- 영식의 성향 = (I성향,E성향) = (2.0, 0.1) \n",
    "- 현숙의 성향 = (I성향,E성향) = (0.0, 1.5) "
   ]
  },
  {
   "cell_type": "markdown",
   "id": "eb7d82e0-bbb0-4995-8de3-10dc30372862",
   "metadata": {},
   "source": [
    "**(1)** 옥순과 영식의 궁합 $\\approx$ 옥순의I성향$\\times$영식의I성향 $+$ 옥순의E성향$\\times$영식의E성향 // 적합"
   ]
  },
  {
   "cell_type": "code",
   "execution_count": 3,
   "id": "d4de1f04-2236-4593-85c5-695351cf414b",
   "metadata": {},
   "outputs": [
    {
     "data": {
      "text/plain": [
       "3.8"
      ]
     },
     "execution_count": 3,
     "metadata": {},
     "output_type": "execute_result"
    }
   ],
   "source": [
    "a1= np.array([1.9,0.0]).reshape(2,1) # a1은 옥순의 성향, col-vec으로 선언하자. \n",
    "b1= np.array([2.0,0.1]).reshape(2,1) # b1은 영호의 성향, col-vec으로 선언하자.\n",
    "(a1*b1).sum()"
   ]
  },
  {
   "cell_type": "markdown",
   "id": "1495c801-293c-4c56-bc0d-9c89fad4f5f2",
   "metadata": {},
   "source": [
    "**(2)** 현숙과 영식의 궁합 $\\approx$ 현숙의I성향$\\times$영식의I성향 $+$ 현숙의E성향$\\times$영식의E성향 // 예측"
   ]
  },
  {
   "cell_type": "code",
   "execution_count": 4,
   "id": "8f367886-f526-4a76-ac21-1881f18b9640",
   "metadata": {},
   "outputs": [
    {
     "data": {
      "text/plain": [
       "0.15000000000000002"
      ]
     },
     "execution_count": 4,
     "metadata": {},
     "output_type": "execute_result"
    }
   ],
   "source": [
    "a6= np.array([0.0,1.5]).reshape(2,1)\n",
    "(a6*b1).sum()"
   ]
  },
  {
   "cell_type": "markdown",
   "id": "f942af78-a851-4557-8aec-b950c8ff16ff",
   "metadata": {},
   "source": [
    "- 그럴듯함.."
   ]
  },
  {
   "cell_type": "markdown",
   "id": "b64ed15c-9a00-4a69-8319-f47c76eaee28",
   "metadata": {},
   "source": [
    "`-` 모델링"
   ]
  },
  {
   "cell_type": "markdown",
   "id": "90a8af4a-9dc6-48ea-949b-c1f36c765a1c",
   "metadata": {},
   "source": [
    "아래가 같음을 관찰하라. (차원만 다름)"
   ]
  },
  {
   "cell_type": "code",
   "execution_count": 5,
   "id": "1de49a25-d5c8-422e-a630-b35abfe1401d",
   "metadata": {},
   "outputs": [
    {
     "data": {
      "text/plain": [
       "(3.8, array([[3.8]]))"
      ]
     },
     "execution_count": 5,
     "metadata": {},
     "output_type": "execute_result"
    }
   ],
   "source": [
    "(a1*b1).sum(), a1.T@b1"
   ]
  },
  {
   "cell_type": "code",
   "execution_count": 6,
   "id": "2f1279c8-0ee2-473f-b28e-c6d7b1527d08",
   "metadata": {},
   "outputs": [
    {
     "data": {
      "text/plain": [
       "(0.15000000000000002, array([[0.15]]))"
      ]
     },
     "execution_count": 6,
     "metadata": {},
     "output_type": "execute_result"
    }
   ],
   "source": [
    "(a6*b1).sum(), a6.T@b1"
   ]
  },
  {
   "cell_type": "markdown",
   "id": "71b8caee-c5cc-40dc-83f6-214a6fd799f5",
   "metadata": {},
   "source": [
    "만약에 여자의성향, 남자의성향을 적당한 매트릭스로 정리할 수 있다면 궁합매트릭스를 만들 수 있음 "
   ]
  },
  {
   "cell_type": "code",
   "execution_count": 7,
   "id": "cdc65114-13a3-478d-a6af-5dedc43426ad",
   "metadata": {},
   "outputs": [
    {
     "data": {
      "text/plain": [
       "array([[1.9, 2. , 2.5, 0.1, 0.2, 0. ],\n",
       "       [0. , 0.1, 1. , 1.9, 2.1, 1.5]])"
      ]
     },
     "execution_count": 7,
     "metadata": {},
     "output_type": "execute_result"
    }
   ],
   "source": [
    "a1= np.array([1.9,0.0]).reshape(2,1)\n",
    "a2= np.array([2.0,0.1]).reshape(2,1)\n",
    "a3= np.array([2.5,1.0]).reshape(2,1)\n",
    "a4= np.array([0.1,1.9]).reshape(2,1)\n",
    "a5= np.array([0.2,2.1]).reshape(2,1)\n",
    "a6= np.array([0.0,1.5]).reshape(2,1)\n",
    "A = np.concatenate([a1,a2,a3,a4,a5,a6],axis=1)\n",
    "A"
   ]
  },
  {
   "cell_type": "code",
   "execution_count": 8,
   "id": "4842eca1-ef98-4822-b678-65336268f3ad",
   "metadata": {},
   "outputs": [
    {
     "data": {
      "text/plain": [
       "array([[2. , 1.9, 1.8, 0.3, 0.2, 0.1],\n",
       "       [0.1, 0.2, 0.3, 2.1, 2. , 1.9]])"
      ]
     },
     "execution_count": 8,
     "metadata": {},
     "output_type": "execute_result"
    }
   ],
   "source": [
    "b1= np.array([2.0,0.1]).reshape(2,1)\n",
    "b2= np.array([1.9,0.2]).reshape(2,1)\n",
    "b3= np.array([1.8,0.3]).reshape(2,1)\n",
    "b4= np.array([0.3,2.1]).reshape(2,1)\n",
    "b5= np.array([0.2,2.0]).reshape(2,1)\n",
    "b6= np.array([0.1,1.9]).reshape(2,1)\n",
    "B = np.concatenate([b1,b2,b3,b4,b5,b6],axis=1)\n",
    "B"
   ]
  },
  {
   "cell_type": "code",
   "execution_count": 9,
   "id": "d0edcd61-383f-4ce9-b651-71e11fad2818",
   "metadata": {},
   "outputs": [
    {
     "data": {
      "text/plain": [
       "array([[3.8 , 3.61, 3.42, 0.57, 0.38, 0.19],\n",
       "       [4.01, 3.82, 3.63, 0.81, 0.6 , 0.39],\n",
       "       [5.1 , 4.95, 4.8 , 2.85, 2.5 , 2.15],\n",
       "       [0.39, 0.57, 0.75, 4.02, 3.82, 3.62],\n",
       "       [0.61, 0.8 , 0.99, 4.47, 4.24, 4.01],\n",
       "       [0.15, 0.3 , 0.45, 3.15, 3.  , 2.85]])"
      ]
     },
     "execution_count": 9,
     "metadata": {},
     "output_type": "execute_result"
    }
   ],
   "source": [
    "A.T@B"
   ]
  },
  {
   "cell_type": "code",
   "execution_count": 10,
   "id": "4338400f-9b82-4214-b748-6527aa76a3f9",
   "metadata": {},
   "outputs": [
    {
     "data": {
      "text/plain": [
       "(array([[3.8]]), array([[3.82]]), array([[5.1]]))"
      ]
     },
     "execution_count": 10,
     "metadata": {},
     "output_type": "execute_result"
    }
   ],
   "source": [
    "a1.T@b1, a2.T@b2, a3.T@b1"
   ]
  },
  {
   "cell_type": "markdown",
   "id": "ae18b5ef-954b-48e8-971a-5cf30862fd03",
   "metadata": {},
   "source": [
    "결국 모형은 아래와 같다. "
   ]
  },
  {
   "cell_type": "markdown",
   "id": "635653a4-ff48-40e8-8306-fd634333258b",
   "metadata": {},
   "source": [
    "$$\\text{궁합매트릭스} = {\\bf A}^\\top {\\bf B} + \\text{오차}$$"
   ]
  },
  {
   "cell_type": "markdown",
   "id": "038fb1bc-c26a-491b-b757-e9f494fa4a6b",
   "metadata": {},
   "source": [
    "`-` 학습전략: 아래의 매트릭스중에서 어떤값은 관측하였고 어떤값은 관측하지 못함 $\\to$ 관측한 값들만 대충 비슷하게 하면 되는거 아니야?"
   ]
  },
  {
   "cell_type": "code",
   "execution_count": 11,
   "id": "ba960849-54fc-4486-845b-9f6b0c66736f",
   "metadata": {},
   "outputs": [
    {
     "data": {
      "text/plain": [
       "array([[3.8 , 3.61, 3.42, 0.57, 0.38, 0.19],\n",
       "       [4.01, 3.82, 3.63, 0.81, 0.6 , 0.39],\n",
       "       [5.1 , 4.95, 4.8 , 2.85, 2.5 , 2.15],\n",
       "       [0.39, 0.57, 0.75, 4.02, 3.82, 3.62],\n",
       "       [0.61, 0.8 , 0.99, 4.47, 4.24, 4.01],\n",
       "       [0.15, 0.3 , 0.45, 3.15, 3.  , 2.85]])"
      ]
     },
     "execution_count": 11,
     "metadata": {},
     "output_type": "execute_result"
    }
   ],
   "source": [
    "A.T@B "
   ]
  },
  {
   "cell_type": "code",
   "execution_count": 12,
   "id": "492c2028-5185-439a-ae61-35ed2e71dc30",
   "metadata": {},
   "outputs": [
    {
     "data": {
      "text/html": [
       "<div>\n",
       "<style scoped>\n",
       "    .dataframe tbody tr th:only-of-type {\n",
       "        vertical-align: middle;\n",
       "    }\n",
       "\n",
       "    .dataframe tbody tr th {\n",
       "        vertical-align: top;\n",
       "    }\n",
       "\n",
       "    .dataframe thead th {\n",
       "        text-align: right;\n",
       "    }\n",
       "</style>\n",
       "<table border=\"1\" class=\"dataframe\">\n",
       "  <thead>\n",
       "    <tr style=\"text-align: right;\">\n",
       "      <th></th>\n",
       "      <th>영식</th>\n",
       "      <th>영철</th>\n",
       "      <th>영호</th>\n",
       "      <th>광수</th>\n",
       "      <th>상철</th>\n",
       "      <th>영수</th>\n",
       "    </tr>\n",
       "  </thead>\n",
       "  <tbody>\n",
       "    <tr>\n",
       "      <th>옥순</th>\n",
       "      <td>3.9</td>\n",
       "      <td>4.1</td>\n",
       "      <td>NaN</td>\n",
       "      <td>0.5</td>\n",
       "      <td>0.3</td>\n",
       "      <td>NaN</td>\n",
       "    </tr>\n",
       "    <tr>\n",
       "      <th>영자</th>\n",
       "      <td>4.5</td>\n",
       "      <td>NaN</td>\n",
       "      <td>3.7</td>\n",
       "      <td>0.5</td>\n",
       "      <td>NaN</td>\n",
       "      <td>0.2</td>\n",
       "    </tr>\n",
       "    <tr>\n",
       "      <th>정숙</th>\n",
       "      <td>NaN</td>\n",
       "      <td>4.9</td>\n",
       "      <td>4.7</td>\n",
       "      <td>NaN</td>\n",
       "      <td>1.2</td>\n",
       "      <td>1.3</td>\n",
       "    </tr>\n",
       "    <tr>\n",
       "      <th>영숙</th>\n",
       "      <td>0.6</td>\n",
       "      <td>0.2</td>\n",
       "      <td>NaN</td>\n",
       "      <td>4.1</td>\n",
       "      <td>4.3</td>\n",
       "      <td>NaN</td>\n",
       "    </tr>\n",
       "    <tr>\n",
       "      <th>순자</th>\n",
       "      <td>0.7</td>\n",
       "      <td>0.9</td>\n",
       "      <td>NaN</td>\n",
       "      <td>4.2</td>\n",
       "      <td>NaN</td>\n",
       "      <td>3.9</td>\n",
       "    </tr>\n",
       "    <tr>\n",
       "      <th>현숙</th>\n",
       "      <td>NaN</td>\n",
       "      <td>0.2</td>\n",
       "      <td>0.3</td>\n",
       "      <td>NaN</td>\n",
       "      <td>3.5</td>\n",
       "      <td>3.4</td>\n",
       "    </tr>\n",
       "  </tbody>\n",
       "</table>\n",
       "</div>"
      ],
      "text/plain": [
       "     영식   영철   영호   광수   상철   영수\n",
       "옥순  3.9  4.1  NaN  0.5  0.3  NaN\n",
       "영자  4.5  NaN  3.7  0.5  NaN  0.2\n",
       "정숙  NaN  4.9  4.7  NaN  1.2  1.3\n",
       "영숙  0.6  0.2  NaN  4.1  4.3  NaN\n",
       "순자  0.7  0.9  NaN  4.2  NaN  3.9\n",
       "현숙  NaN  0.2  0.3  NaN  3.5  3.4"
      ]
     },
     "execution_count": 12,
     "metadata": {},
     "output_type": "execute_result"
    }
   ],
   "source": [
    "df_view"
   ]
  },
  {
   "cell_type": "markdown",
   "id": "cacd397d-5c5a-4597-8808-e1f6b99e2855",
   "metadata": {},
   "source": [
    "`-` 자료를 아래와 같이 정리한다면? "
   ]
  },
  {
   "cell_type": "code",
   "execution_count": 13,
   "id": "3e0ab4f6-89e7-40be-b9d7-80520dbe1a8a",
   "metadata": {},
   "outputs": [
    {
     "data": {
      "text/html": [
       "<div>\n",
       "<style scoped>\n",
       "    .dataframe tbody tr th:only-of-type {\n",
       "        vertical-align: middle;\n",
       "    }\n",
       "\n",
       "    .dataframe tbody tr th {\n",
       "        vertical-align: top;\n",
       "    }\n",
       "\n",
       "    .dataframe thead th {\n",
       "        text-align: right;\n",
       "    }\n",
       "</style>\n",
       "<table border=\"1\" class=\"dataframe\">\n",
       "  <thead>\n",
       "    <tr style=\"text-align: right;\">\n",
       "      <th></th>\n",
       "      <th>X1</th>\n",
       "      <th>X2</th>\n",
       "      <th>y</th>\n",
       "    </tr>\n",
       "  </thead>\n",
       "  <tbody>\n",
       "    <tr>\n",
       "      <th>0</th>\n",
       "      <td>옥순</td>\n",
       "      <td>영식</td>\n",
       "      <td>3.9</td>\n",
       "    </tr>\n",
       "    <tr>\n",
       "      <th>1</th>\n",
       "      <td>옥순</td>\n",
       "      <td>영철</td>\n",
       "      <td>4.1</td>\n",
       "    </tr>\n",
       "    <tr>\n",
       "      <th>2</th>\n",
       "      <td>옥순</td>\n",
       "      <td>광수</td>\n",
       "      <td>0.5</td>\n",
       "    </tr>\n",
       "    <tr>\n",
       "      <th>3</th>\n",
       "      <td>옥순</td>\n",
       "      <td>상철</td>\n",
       "      <td>0.3</td>\n",
       "    </tr>\n",
       "    <tr>\n",
       "      <th>4</th>\n",
       "      <td>영자</td>\n",
       "      <td>영식</td>\n",
       "      <td>4.5</td>\n",
       "    </tr>\n",
       "    <tr>\n",
       "      <th>5</th>\n",
       "      <td>영자</td>\n",
       "      <td>영호</td>\n",
       "      <td>3.7</td>\n",
       "    </tr>\n",
       "    <tr>\n",
       "      <th>6</th>\n",
       "      <td>영자</td>\n",
       "      <td>광수</td>\n",
       "      <td>0.5</td>\n",
       "    </tr>\n",
       "    <tr>\n",
       "      <th>7</th>\n",
       "      <td>영자</td>\n",
       "      <td>영수</td>\n",
       "      <td>0.2</td>\n",
       "    </tr>\n",
       "    <tr>\n",
       "      <th>8</th>\n",
       "      <td>정숙</td>\n",
       "      <td>영철</td>\n",
       "      <td>4.9</td>\n",
       "    </tr>\n",
       "    <tr>\n",
       "      <th>9</th>\n",
       "      <td>정숙</td>\n",
       "      <td>영호</td>\n",
       "      <td>4.7</td>\n",
       "    </tr>\n",
       "    <tr>\n",
       "      <th>10</th>\n",
       "      <td>정숙</td>\n",
       "      <td>상철</td>\n",
       "      <td>1.2</td>\n",
       "    </tr>\n",
       "    <tr>\n",
       "      <th>11</th>\n",
       "      <td>정숙</td>\n",
       "      <td>영수</td>\n",
       "      <td>1.3</td>\n",
       "    </tr>\n",
       "    <tr>\n",
       "      <th>12</th>\n",
       "      <td>영숙</td>\n",
       "      <td>영식</td>\n",
       "      <td>0.6</td>\n",
       "    </tr>\n",
       "    <tr>\n",
       "      <th>13</th>\n",
       "      <td>영숙</td>\n",
       "      <td>영철</td>\n",
       "      <td>0.2</td>\n",
       "    </tr>\n",
       "    <tr>\n",
       "      <th>14</th>\n",
       "      <td>영숙</td>\n",
       "      <td>광수</td>\n",
       "      <td>4.1</td>\n",
       "    </tr>\n",
       "    <tr>\n",
       "      <th>15</th>\n",
       "      <td>영숙</td>\n",
       "      <td>상철</td>\n",
       "      <td>4.3</td>\n",
       "    </tr>\n",
       "    <tr>\n",
       "      <th>16</th>\n",
       "      <td>순자</td>\n",
       "      <td>영식</td>\n",
       "      <td>0.7</td>\n",
       "    </tr>\n",
       "    <tr>\n",
       "      <th>17</th>\n",
       "      <td>순자</td>\n",
       "      <td>영철</td>\n",
       "      <td>0.9</td>\n",
       "    </tr>\n",
       "    <tr>\n",
       "      <th>18</th>\n",
       "      <td>순자</td>\n",
       "      <td>광수</td>\n",
       "      <td>4.2</td>\n",
       "    </tr>\n",
       "    <tr>\n",
       "      <th>19</th>\n",
       "      <td>순자</td>\n",
       "      <td>영수</td>\n",
       "      <td>3.9</td>\n",
       "    </tr>\n",
       "    <tr>\n",
       "      <th>20</th>\n",
       "      <td>현숙</td>\n",
       "      <td>영철</td>\n",
       "      <td>0.2</td>\n",
       "    </tr>\n",
       "    <tr>\n",
       "      <th>21</th>\n",
       "      <td>현숙</td>\n",
       "      <td>영호</td>\n",
       "      <td>0.3</td>\n",
       "    </tr>\n",
       "    <tr>\n",
       "      <th>22</th>\n",
       "      <td>현숙</td>\n",
       "      <td>상철</td>\n",
       "      <td>3.5</td>\n",
       "    </tr>\n",
       "    <tr>\n",
       "      <th>23</th>\n",
       "      <td>현숙</td>\n",
       "      <td>영수</td>\n",
       "      <td>3.4</td>\n",
       "    </tr>\n",
       "  </tbody>\n",
       "</table>\n",
       "</div>"
      ],
      "text/plain": [
       "    X1  X2    y\n",
       "0   옥순  영식  3.9\n",
       "1   옥순  영철  4.1\n",
       "2   옥순  광수  0.5\n",
       "3   옥순  상철  0.3\n",
       "4   영자  영식  4.5\n",
       "5   영자  영호  3.7\n",
       "6   영자  광수  0.5\n",
       "7   영자  영수  0.2\n",
       "8   정숙  영철  4.9\n",
       "9   정숙  영호  4.7\n",
       "10  정숙  상철  1.2\n",
       "11  정숙  영수  1.3\n",
       "12  영숙  영식  0.6\n",
       "13  영숙  영철  0.2\n",
       "14  영숙  광수  4.1\n",
       "15  영숙  상철  4.3\n",
       "16  순자  영식  0.7\n",
       "17  순자  영철  0.9\n",
       "18  순자  광수  4.2\n",
       "19  순자  영수  3.9\n",
       "20  현숙  영철  0.2\n",
       "21  현숙  영호  0.3\n",
       "22  현숙  상철  3.5\n",
       "23  현숙  영수  3.4"
      ]
     },
     "execution_count": 13,
     "metadata": {},
     "output_type": "execute_result"
    }
   ],
   "source": [
    "df = pd.DataFrame([(f,m,df_view.loc[f,m]) for f in df_view.index for m in df_view.columns if not np.isnan(df_view.loc[f,m])])\n",
    "df.columns = ['X1','X2','y']\n",
    "df"
   ]
  },
  {
   "cell_type": "code",
   "execution_count": 14,
   "id": "95c75dd8-edb7-4a6a-bbd1-09a8c543569c",
   "metadata": {},
   "outputs": [
    {
     "data": {
      "text/plain": [
       "({'옥순': 0, '영자': 1, '정숙': 2, '영숙': 3, '순자': 4, '현숙': 5},\n",
       " {'영식': 0, '영철': 1, '광수': 2, '상철': 3, '영호': 4, '영수': 5})"
      ]
     },
     "execution_count": 14,
     "metadata": {},
     "output_type": "execute_result"
    }
   ],
   "source": [
    "mapp1 = {k[1]:k[0] for k in enumerate(df.X1.unique())}\n",
    "mapp2 = {k[1]:k[0] for k in enumerate(df.X2.unique())}\n",
    "mapp1,mapp2"
   ]
  },
  {
   "cell_type": "code",
   "execution_count": 15,
   "id": "4bba528e-f36d-4517-abc4-4a0512bb4e6f",
   "metadata": {},
   "outputs": [],
   "source": [
    "X1 = torch.tensor(list(map(lambda name: mapp1[name], df.X1)))\n",
    "X2 = torch.tensor(list(map(lambda name: mapp2[name], df.X2)))\n",
    "X1 = torch.nn.functional.one_hot(X1).float()\n",
    "X2 = torch.nn.functional.one_hot(X2).float()\n",
    "y = torch.tensor(df.y).float()"
   ]
  },
  {
   "cell_type": "markdown",
   "id": "e438c139-286f-473c-8bb5-21a96d512d2d",
   "metadata": {},
   "source": [
    "`-` yhat을 구하는 과정.. "
   ]
  },
  {
   "cell_type": "code",
   "execution_count": 16,
   "id": "4ef18624-b8d8-4acb-abc9-469a8dbc5d06",
   "metadata": {},
   "outputs": [],
   "source": [
    "l1 = torch.nn.Linear(in_features=6,out_features=2) \n",
    "l2 = torch.nn.Linear(in_features=6,out_features=2)"
   ]
  },
  {
   "cell_type": "code",
   "execution_count": 17,
   "id": "fc9afeac-1671-4709-aea3-c0b93b13ccfb",
   "metadata": {},
   "outputs": [
    {
     "data": {
      "text/plain": [
       "tensor([[ 0.0432, -0.0111],\n",
       "        [ 0.0432, -0.0111],\n",
       "        [ 0.0432, -0.0111],\n",
       "        [ 0.0432, -0.0111],\n",
       "        [-0.7609,  0.3622],\n",
       "        [-0.7609,  0.3622],\n",
       "        [-0.7609,  0.3622],\n",
       "        [-0.7609,  0.3622],\n",
       "        [-0.5421, -0.1080],\n",
       "        [-0.5421, -0.1080],\n",
       "        [-0.5421, -0.1080],\n",
       "        [-0.5421, -0.1080],\n",
       "        [-0.0589, -0.1360],\n",
       "        [-0.0589, -0.1360],\n",
       "        [-0.0589, -0.1360],\n",
       "        [-0.0589, -0.1360],\n",
       "        [-0.1772,  0.0751],\n",
       "        [-0.1772,  0.0751],\n",
       "        [-0.1772,  0.0751],\n",
       "        [-0.1772,  0.0751],\n",
       "        [-0.1449,  0.1229],\n",
       "        [-0.1449,  0.1229],\n",
       "        [-0.1449,  0.1229],\n",
       "        [-0.1449,  0.1229]], grad_fn=<AddmmBackward0>)"
      ]
     },
     "execution_count": 17,
     "metadata": {},
     "output_type": "execute_result"
    }
   ],
   "source": [
    "l1(X1) # 옥순~현숙의 성향들 "
   ]
  },
  {
   "cell_type": "code",
   "execution_count": 18,
   "id": "10ce0ac3-7cf5-4099-913a-2bb17661128a",
   "metadata": {},
   "outputs": [
    {
     "data": {
      "text/plain": [
       "tensor([[-0.3614,  0.0926],\n",
       "        [-0.5580,  0.2882],\n",
       "        [-0.1969,  0.2026],\n",
       "        [-0.4027,  0.5812],\n",
       "        [-0.3614,  0.0926],\n",
       "        [-0.1511,  0.1141],\n",
       "        [-0.1969,  0.2026],\n",
       "        [-0.3665,  0.2020],\n",
       "        [-0.5580,  0.2882],\n",
       "        [-0.1511,  0.1141],\n",
       "        [-0.4027,  0.5812],\n",
       "        [-0.3665,  0.2020],\n",
       "        [-0.3614,  0.0926],\n",
       "        [-0.5580,  0.2882],\n",
       "        [-0.1969,  0.2026],\n",
       "        [-0.4027,  0.5812],\n",
       "        [-0.3614,  0.0926],\n",
       "        [-0.5580,  0.2882],\n",
       "        [-0.1969,  0.2026],\n",
       "        [-0.3665,  0.2020],\n",
       "        [-0.5580,  0.2882],\n",
       "        [-0.1511,  0.1141],\n",
       "        [-0.4027,  0.5812],\n",
       "        [-0.3665,  0.2020]], grad_fn=<AddmmBackward0>)"
      ]
     },
     "execution_count": 18,
     "metadata": {},
     "output_type": "execute_result"
    }
   ],
   "source": [
    "l2(X2) # 영식~영수의 성향들 "
   ]
  },
  {
   "cell_type": "markdown",
   "id": "40cdcd17-5453-4637-94f5-546d4c3095ad",
   "metadata": {},
   "source": [
    "`-` 몇개의 관측치만 생각해보자.. "
   ]
  },
  {
   "cell_type": "code",
   "execution_count": 19,
   "id": "673f7002-203b-40e4-a1d6-09b766d7e38a",
   "metadata": {},
   "outputs": [
    {
     "data": {
      "text/html": [
       "<div>\n",
       "<style scoped>\n",
       "    .dataframe tbody tr th:only-of-type {\n",
       "        vertical-align: middle;\n",
       "    }\n",
       "\n",
       "    .dataframe tbody tr th {\n",
       "        vertical-align: top;\n",
       "    }\n",
       "\n",
       "    .dataframe thead th {\n",
       "        text-align: right;\n",
       "    }\n",
       "</style>\n",
       "<table border=\"1\" class=\"dataframe\">\n",
       "  <thead>\n",
       "    <tr style=\"text-align: right;\">\n",
       "      <th></th>\n",
       "      <th>X1</th>\n",
       "      <th>X2</th>\n",
       "      <th>y</th>\n",
       "    </tr>\n",
       "  </thead>\n",
       "  <tbody>\n",
       "    <tr>\n",
       "      <th>0</th>\n",
       "      <td>옥순</td>\n",
       "      <td>영식</td>\n",
       "      <td>3.9</td>\n",
       "    </tr>\n",
       "    <tr>\n",
       "      <th>1</th>\n",
       "      <td>옥순</td>\n",
       "      <td>영철</td>\n",
       "      <td>4.1</td>\n",
       "    </tr>\n",
       "    <tr>\n",
       "      <th>2</th>\n",
       "      <td>옥순</td>\n",
       "      <td>광수</td>\n",
       "      <td>0.5</td>\n",
       "    </tr>\n",
       "    <tr>\n",
       "      <th>3</th>\n",
       "      <td>옥순</td>\n",
       "      <td>상철</td>\n",
       "      <td>0.3</td>\n",
       "    </tr>\n",
       "    <tr>\n",
       "      <th>4</th>\n",
       "      <td>영자</td>\n",
       "      <td>영식</td>\n",
       "      <td>4.5</td>\n",
       "    </tr>\n",
       "  </tbody>\n",
       "</table>\n",
       "</div>"
      ],
      "text/plain": [
       "   X1  X2    y\n",
       "0  옥순  영식  3.9\n",
       "1  옥순  영철  4.1\n",
       "2  옥순  광수  0.5\n",
       "3  옥순  상철  0.3\n",
       "4  영자  영식  4.5"
      ]
     },
     "execution_count": 19,
     "metadata": {},
     "output_type": "execute_result"
    }
   ],
   "source": [
    "df.head()"
   ]
  },
  {
   "cell_type": "code",
   "execution_count": 20,
   "id": "fac2d008-1385-45ab-8e04-98c80d26ba21",
   "metadata": {},
   "outputs": [
    {
     "data": {
      "text/plain": [
       "tensor(-0.0166, grad_fn=<SumBackward0>)"
      ]
     },
     "execution_count": 20,
     "metadata": {},
     "output_type": "execute_result"
    }
   ],
   "source": [
    "(l1(X1)[0]*l2(X2)[0]).sum() # (옥순의성향 * 영식의성향).sum()"
   ]
  },
  {
   "cell_type": "markdown",
   "id": "fc85faab-f378-458b-b155-0fc1fa63cd40",
   "metadata": {},
   "source": [
    "- 이 값이 실제로는 3.9 이어야 한다. "
   ]
  },
  {
   "cell_type": "code",
   "execution_count": 21,
   "id": "86db8235-c842-497f-8b3d-496e51ec4243",
   "metadata": {},
   "outputs": [
    {
     "data": {
      "text/plain": [
       "tensor(-0.0273, grad_fn=<SumBackward0>)"
      ]
     },
     "execution_count": 21,
     "metadata": {},
     "output_type": "execute_result"
    }
   ],
   "source": [
    "(l1(X1)[1]*l2(X2)[1]).sum() # (옥순의성향 * 영철의성향).sum()"
   ]
  },
  {
   "cell_type": "markdown",
   "id": "b2fb0144-e41f-41e3-afc9-ca0f432ea84d",
   "metadata": {},
   "source": [
    "- 이 값이 실제로는 4.1 이어야 한다. "
   ]
  },
  {
   "cell_type": "markdown",
   "id": "a861b975-62cf-4647-8f3a-b66be4469a75",
   "metadata": {},
   "source": [
    "`-` yhat을 구하면!"
   ]
  },
  {
   "cell_type": "code",
   "execution_count": 22,
   "id": "5d6ccae1-6a55-4be9-96b1-e8c2bbae4e11",
   "metadata": {},
   "outputs": [
    {
     "data": {
      "text/plain": [
       "tensor([-0.0166, -0.0273, -0.0107, -0.0238,  0.3085,  0.1563,  0.2233,  0.3520,\n",
       "         0.2714,  0.0696,  0.1555,  0.1768,  0.0087, -0.0063, -0.0160, -0.0553,\n",
       "         0.0710,  0.1205,  0.0501,  0.0801,  0.1163,  0.0359,  0.1298,  0.0779],\n",
       "       grad_fn=<SumBackward1>)"
      ]
     },
     "execution_count": 22,
     "metadata": {},
     "output_type": "execute_result"
    }
   ],
   "source": [
    "yhat = (l1(X1) * l2(X2)).sum(axis=1) # (l1(X1) * l2(X2)).sum(1)와 결과가 같음 \n",
    "yhat"
   ]
  },
  {
   "cell_type": "code",
   "execution_count": 23,
   "id": "9999adee-3cba-4d26-b40b-97de528f834a",
   "metadata": {},
   "outputs": [
    {
     "data": {
      "text/plain": [
       "(tensor([-0.0166, -0.0273], grad_fn=<SliceBackward0>),\n",
       " tensor([3.9000, 4.1000]))"
      ]
     },
     "execution_count": 23,
     "metadata": {},
     "output_type": "execute_result"
    }
   ],
   "source": [
    "yhat[:2],y[:2] # 이 값들이 비슷해야 하는데.."
   ]
  },
  {
   "cell_type": "markdown",
   "id": "d945d0e1-f172-469e-97f2-9e24ac15c8fb",
   "metadata": {},
   "source": [
    "`-` 0~5 까지의 범위로 고정되어 있으니까 아래와 같이 해도 되겠음.. "
   ]
  },
  {
   "cell_type": "code",
   "execution_count": 24,
   "id": "454d046a-c798-435c-9baf-9ff04bacb51e",
   "metadata": {},
   "outputs": [],
   "source": [
    "sig = torch.nn.Sigmoid()"
   ]
  },
  {
   "cell_type": "code",
   "execution_count": 25,
   "id": "9f22b0c9-5eca-4dc3-acaf-74d5f5710fcc",
   "metadata": {},
   "outputs": [
    {
     "data": {
      "text/plain": [
       "tensor([2.4792, 2.4659, 2.4866, 2.4702, 2.8826, 2.6950, 2.7779, 2.9355, 2.8372,\n",
       "        2.5870, 2.6940, 2.7205, 2.5109, 2.4921, 2.4801, 2.4309, 2.5887, 2.6505,\n",
       "        2.5626, 2.6001, 2.6452, 2.5449, 2.6620, 2.5974],\n",
       "       grad_fn=<MulBackward0>)"
      ]
     },
     "execution_count": 25,
     "metadata": {},
     "output_type": "execute_result"
    }
   ],
   "source": [
    "yhat = sig((l1(X1) * l2(X2)).sum(axis=1))*5 # (l1(X1) * l2(X2)).sum(1)와 결과가 같음 \n",
    "yhat"
   ]
  },
  {
   "cell_type": "code",
   "execution_count": 26,
   "id": "130fa669-8509-41bc-b3af-822da09d6518",
   "metadata": {},
   "outputs": [
    {
     "data": {
      "text/plain": [
       "tensor(3.3751, grad_fn=<MeanBackward0>)"
      ]
     },
     "execution_count": 26,
     "metadata": {},
     "output_type": "execute_result"
    }
   ],
   "source": [
    "loss = torch.mean((y-yhat)**2)\n",
    "loss"
   ]
  },
  {
   "cell_type": "markdown",
   "id": "1de247a7-1d46-42ff-afc2-7da951e23df5",
   "metadata": {},
   "source": [
    "## torch를 이용한 학습"
   ]
  },
  {
   "cell_type": "code",
   "execution_count": 27,
   "id": "20257936-98d1-40e0-a1d6-9a1ba03fae5e",
   "metadata": {},
   "outputs": [],
   "source": [
    "torch.manual_seed(43052)\n",
    "l1 = torch.nn.Linear(6,2) \n",
    "l2 = torch.nn.Linear(6,2)\n",
    "sig = torch.nn.Sigmoid() "
   ]
  },
  {
   "cell_type": "code",
   "execution_count": 28,
   "id": "78b8a1d4-08c1-4ac6-a639-b1d5bf8b8920",
   "metadata": {},
   "outputs": [],
   "source": [
    "loss_fn = torch.nn.MSELoss() \n",
    "optimizr = torch.optim.Adam(list(l1.parameters())+list(l2.parameters()))"
   ]
  },
  {
   "cell_type": "code",
   "execution_count": 29,
   "id": "1dcc1ba3-5794-48cf-8600-498192306209",
   "metadata": {},
   "outputs": [],
   "source": [
    "for epoc in range(5000):\n",
    "    ## 1 \n",
    "    feature1 = l1(X1)\n",
    "    feature2 = l2(X2) \n",
    "    matching_score = (feature1*feature2).sum(axis=1) \n",
    "    yhat = sig(matching_score)*5 # 만약에 1~3점이라면 \"1+sig(matching_score)*2\" 와 같이 하면 되었을듯 \n",
    "    ## 2 \n",
    "    loss = loss_fn(yhat,y)    \n",
    "    ## 3 \n",
    "    loss.backward()    \n",
    "    ## 4 \n",
    "    optimizr.step()\n",
    "    optimizr.zero_grad()"
   ]
  },
  {
   "cell_type": "code",
   "execution_count": 30,
   "id": "9ffe07bd-ca30-4897-887e-2c42e654dca3",
   "metadata": {},
   "outputs": [
    {
     "data": {
      "text/plain": [
       "tensor([3.9382, 4.0624, 0.4665, 0.3353, 4.5038, 3.6975, 0.3562, 0.3558, 4.8614,\n",
       "        4.7208, 1.1813, 1.3158, 0.4606, 0.3573, 4.1288, 4.2734, 0.8611, 0.7347,\n",
       "        4.0493, 4.0464, 0.1810, 0.3124, 3.5031, 3.3948],\n",
       "       grad_fn=<MulBackward0>)"
      ]
     },
     "execution_count": 30,
     "metadata": {},
     "output_type": "execute_result"
    }
   ],
   "source": [
    "yhat"
   ]
  },
  {
   "cell_type": "code",
   "execution_count": 31,
   "id": "4f7daec0-52eb-4911-8f21-acb27947f998",
   "metadata": {},
   "outputs": [
    {
     "data": {
      "text/plain": [
       "tensor([3.9000, 4.1000, 0.5000, 0.3000, 4.5000, 3.7000, 0.5000, 0.2000, 4.9000,\n",
       "        4.7000, 1.2000, 1.3000, 0.6000, 0.2000, 4.1000, 4.3000, 0.7000, 0.9000,\n",
       "        4.2000, 3.9000, 0.2000, 0.3000, 3.5000, 3.4000])"
      ]
     },
     "execution_count": 31,
     "metadata": {},
     "output_type": "execute_result"
    }
   ],
   "source": [
    "y"
   ]
  },
  {
   "cell_type": "code",
   "execution_count": 32,
   "id": "b87dcbb3-9ee0-46f0-9d73-b47085d4fe00",
   "metadata": {},
   "outputs": [
    {
     "data": {
      "text/plain": [
       "tensor([[-1.4663,  0.2938],\n",
       "        [-1.4663,  0.2938],\n",
       "        [-1.4663,  0.2938],\n",
       "        [-1.4663,  0.2938],\n",
       "        [-1.7086,  0.6597],\n",
       "        [-1.7086,  0.6597],\n",
       "        [-1.7086,  0.6597],\n",
       "        [-1.7086,  0.6597],\n",
       "        [-0.8705,  1.2945],\n",
       "        [-0.8705,  1.2945],\n",
       "        [-0.8705,  1.2945],\n",
       "        [-0.8705,  1.2945],\n",
       "        [ 1.1046, -0.8298],\n",
       "        [ 1.1046, -0.8298],\n",
       "        [ 1.1046, -0.8298],\n",
       "        [ 1.1046, -0.8298],\n",
       "        [ 0.9880, -0.5193],\n",
       "        [ 0.9880, -0.5193],\n",
       "        [ 0.9880, -0.5193],\n",
       "        [ 0.9880, -0.5193],\n",
       "        [ 0.6834, -1.2201],\n",
       "        [ 0.6834, -1.2201],\n",
       "        [ 0.6834, -1.2201],\n",
       "        [ 0.6834, -1.2201]], grad_fn=<AddmmBackward0>)"
      ]
     },
     "execution_count": 32,
     "metadata": {},
     "output_type": "execute_result"
    }
   ],
   "source": [
    "l1(X1) # 두번째 칼럼이 I 성향 점수로 \"해석\"된다"
   ]
  },
  {
   "cell_type": "markdown",
   "id": "73237e20-08eb-4b7d-af6b-814c71f1e6b2",
   "metadata": {},
   "source": [
    "- 포인트: 여성출연자중, 정숙은 대체로 잘 맞춰주고 현숙은 그렇지 않았음.. $\\to$ 그러한 가중치가 잘 드러남!!"
   ]
  },
  {
   "cell_type": "markdown",
   "id": "edcba209-bb6d-4432-8562-f693a7b48dd8",
   "metadata": {},
   "source": [
    "## fastai를 이용한 학습"
   ]
  },
  {
   "cell_type": "markdown",
   "id": "5f33c9cf-4090-4123-b611-297f24f5dea1",
   "metadata": {},
   "source": [
    "`(1)` dls"
   ]
  },
  {
   "cell_type": "code",
   "execution_count": 50,
   "id": "ae09b582-17c3-4d15-b0ff-e5529bb4a310",
   "metadata": {},
   "outputs": [
    {
     "data": {
      "text/html": [
       "<div>\n",
       "<style scoped>\n",
       "    .dataframe tbody tr th:only-of-type {\n",
       "        vertical-align: middle;\n",
       "    }\n",
       "\n",
       "    .dataframe tbody tr th {\n",
       "        vertical-align: top;\n",
       "    }\n",
       "\n",
       "    .dataframe thead th {\n",
       "        text-align: right;\n",
       "    }\n",
       "</style>\n",
       "<table border=\"1\" class=\"dataframe\">\n",
       "  <thead>\n",
       "    <tr style=\"text-align: right;\">\n",
       "      <th></th>\n",
       "      <th>X1</th>\n",
       "      <th>X2</th>\n",
       "      <th>y</th>\n",
       "    </tr>\n",
       "  </thead>\n",
       "  <tbody>\n",
       "    <tr>\n",
       "      <th>0</th>\n",
       "      <td>옥순</td>\n",
       "      <td>영식</td>\n",
       "      <td>3.9</td>\n",
       "    </tr>\n",
       "    <tr>\n",
       "      <th>1</th>\n",
       "      <td>옥순</td>\n",
       "      <td>영철</td>\n",
       "      <td>4.1</td>\n",
       "    </tr>\n",
       "    <tr>\n",
       "      <th>2</th>\n",
       "      <td>옥순</td>\n",
       "      <td>광수</td>\n",
       "      <td>0.5</td>\n",
       "    </tr>\n",
       "    <tr>\n",
       "      <th>3</th>\n",
       "      <td>옥순</td>\n",
       "      <td>상철</td>\n",
       "      <td>0.3</td>\n",
       "    </tr>\n",
       "    <tr>\n",
       "      <th>4</th>\n",
       "      <td>영자</td>\n",
       "      <td>영식</td>\n",
       "      <td>4.5</td>\n",
       "    </tr>\n",
       "  </tbody>\n",
       "</table>\n",
       "</div>"
      ],
      "text/plain": [
       "   X1  X2    y\n",
       "0  옥순  영식  3.9\n",
       "1  옥순  영철  4.1\n",
       "2  옥순  광수  0.5\n",
       "3  옥순  상철  0.3\n",
       "4  영자  영식  4.5"
      ]
     },
     "execution_count": 50,
     "metadata": {},
     "output_type": "execute_result"
    }
   ],
   "source": [
    "df.head() # 앞단계 전처리의 산물"
   ]
  },
  {
   "cell_type": "code",
   "execution_count": 127,
   "id": "ce8ab1a5-c394-43a0-b0d0-633c6c2ce86b",
   "metadata": {},
   "outputs": [],
   "source": [
    "dls = CollabDataLoaders.from_df(df,bs=2,valid_pct=2/24)"
   ]
  },
  {
   "cell_type": "markdown",
   "id": "66ddc111-4116-4f2c-aae9-9a507cc12bee",
   "metadata": {},
   "source": [
    "`(2)` lrnr 생성 "
   ]
  },
  {
   "cell_type": "code",
   "execution_count": 128,
   "id": "2aade5e9-58ae-4bf3-a5f6-f2705a8ced73",
   "metadata": {},
   "outputs": [],
   "source": [
    "lrnr = collab_learner(dls,n_factors=2,y_range=(0,5))"
   ]
  },
  {
   "cell_type": "markdown",
   "id": "6a84dcf6-a874-4619-a494-092143ca688a",
   "metadata": {},
   "source": [
    "`(3)` 학습"
   ]
  },
  {
   "cell_type": "code",
   "execution_count": 126,
   "id": "b29961c0-b286-4fcf-93ad-9edb57b4a70c",
   "metadata": {},
   "outputs": [
    {
     "data": {
      "text/html": [
       "\n",
       "<style>\n",
       "    /* Turns off some styling */\n",
       "    progress {\n",
       "        /* gets rid of default border in Firefox and Opera. */\n",
       "        border: none;\n",
       "        /* Needs to be in here for Safari polyfill so background images work as expected. */\n",
       "        background-size: auto;\n",
       "    }\n",
       "    progress:not([value]), progress:not([value])::-webkit-progress-bar {\n",
       "        background: repeating-linear-gradient(45deg, #7e7e7e, #7e7e7e 10px, #5c5c5c 10px, #5c5c5c 20px);\n",
       "    }\n",
       "    .progress-bar-interrupted, .progress-bar-interrupted::-webkit-progress-bar {\n",
       "        background: #F44336;\n",
       "    }\n",
       "</style>\n"
      ],
      "text/plain": [
       "<IPython.core.display.HTML object>"
      ]
     },
     "metadata": {},
     "output_type": "display_data"
    },
    {
     "data": {
      "text/html": [
       "<table border=\"1\" class=\"dataframe\">\n",
       "  <thead>\n",
       "    <tr style=\"text-align: left;\">\n",
       "      <th>epoch</th>\n",
       "      <th>train_loss</th>\n",
       "      <th>valid_loss</th>\n",
       "      <th>time</th>\n",
       "    </tr>\n",
       "  </thead>\n",
       "  <tbody>\n",
       "    <tr>\n",
       "      <td>0</td>\n",
       "      <td>0.000675</td>\n",
       "      <td>0.810861</td>\n",
       "      <td>00:00</td>\n",
       "    </tr>\n",
       "    <tr>\n",
       "      <td>1</td>\n",
       "      <td>0.001109</td>\n",
       "      <td>0.980972</td>\n",
       "      <td>00:00</td>\n",
       "    </tr>\n",
       "    <tr>\n",
       "      <td>2</td>\n",
       "      <td>0.003371</td>\n",
       "      <td>0.755920</td>\n",
       "      <td>00:00</td>\n",
       "    </tr>\n",
       "    <tr>\n",
       "      <td>3</td>\n",
       "      <td>0.009324</td>\n",
       "      <td>0.810715</td>\n",
       "      <td>00:00</td>\n",
       "    </tr>\n",
       "    <tr>\n",
       "      <td>4</td>\n",
       "      <td>0.009615</td>\n",
       "      <td>0.766685</td>\n",
       "      <td>00:00</td>\n",
       "    </tr>\n",
       "    <tr>\n",
       "      <td>5</td>\n",
       "      <td>0.026998</td>\n",
       "      <td>0.741801</td>\n",
       "      <td>00:00</td>\n",
       "    </tr>\n",
       "    <tr>\n",
       "      <td>6</td>\n",
       "      <td>0.039669</td>\n",
       "      <td>1.011523</td>\n",
       "      <td>00:00</td>\n",
       "    </tr>\n",
       "    <tr>\n",
       "      <td>7</td>\n",
       "      <td>0.045207</td>\n",
       "      <td>0.865654</td>\n",
       "      <td>00:00</td>\n",
       "    </tr>\n",
       "    <tr>\n",
       "      <td>8</td>\n",
       "      <td>0.037972</td>\n",
       "      <td>0.850720</td>\n",
       "      <td>00:00</td>\n",
       "    </tr>\n",
       "    <tr>\n",
       "      <td>9</td>\n",
       "      <td>0.036499</td>\n",
       "      <td>0.884844</td>\n",
       "      <td>00:00</td>\n",
       "    </tr>\n",
       "    <tr>\n",
       "      <td>10</td>\n",
       "      <td>0.037809</td>\n",
       "      <td>0.954443</td>\n",
       "      <td>00:00</td>\n",
       "    </tr>\n",
       "    <tr>\n",
       "      <td>11</td>\n",
       "      <td>0.032812</td>\n",
       "      <td>0.913718</td>\n",
       "      <td>00:00</td>\n",
       "    </tr>\n",
       "    <tr>\n",
       "      <td>12</td>\n",
       "      <td>0.029991</td>\n",
       "      <td>0.767398</td>\n",
       "      <td>00:00</td>\n",
       "    </tr>\n",
       "    <tr>\n",
       "      <td>13</td>\n",
       "      <td>0.026499</td>\n",
       "      <td>0.894802</td>\n",
       "      <td>00:00</td>\n",
       "    </tr>\n",
       "    <tr>\n",
       "      <td>14</td>\n",
       "      <td>0.024731</td>\n",
       "      <td>0.632269</td>\n",
       "      <td>00:00</td>\n",
       "    </tr>\n",
       "    <tr>\n",
       "      <td>15</td>\n",
       "      <td>0.027884</td>\n",
       "      <td>0.592469</td>\n",
       "      <td>00:00</td>\n",
       "    </tr>\n",
       "    <tr>\n",
       "      <td>16</td>\n",
       "      <td>0.027070</td>\n",
       "      <td>0.941646</td>\n",
       "      <td>00:00</td>\n",
       "    </tr>\n",
       "    <tr>\n",
       "      <td>17</td>\n",
       "      <td>0.032554</td>\n",
       "      <td>1.045438</td>\n",
       "      <td>00:00</td>\n",
       "    </tr>\n",
       "    <tr>\n",
       "      <td>18</td>\n",
       "      <td>0.033218</td>\n",
       "      <td>0.969543</td>\n",
       "      <td>00:00</td>\n",
       "    </tr>\n",
       "    <tr>\n",
       "      <td>19</td>\n",
       "      <td>0.036364</td>\n",
       "      <td>0.792227</td>\n",
       "      <td>00:00</td>\n",
       "    </tr>\n",
       "    <tr>\n",
       "      <td>20</td>\n",
       "      <td>0.030972</td>\n",
       "      <td>0.729771</td>\n",
       "      <td>00:00</td>\n",
       "    </tr>\n",
       "    <tr>\n",
       "      <td>21</td>\n",
       "      <td>0.029728</td>\n",
       "      <td>0.641267</td>\n",
       "      <td>00:00</td>\n",
       "    </tr>\n",
       "    <tr>\n",
       "      <td>22</td>\n",
       "      <td>0.025328</td>\n",
       "      <td>0.670401</td>\n",
       "      <td>00:00</td>\n",
       "    </tr>\n",
       "    <tr>\n",
       "      <td>23</td>\n",
       "      <td>0.020869</td>\n",
       "      <td>0.653539</td>\n",
       "      <td>00:00</td>\n",
       "    </tr>\n",
       "    <tr>\n",
       "      <td>24</td>\n",
       "      <td>0.017238</td>\n",
       "      <td>0.630551</td>\n",
       "      <td>00:00</td>\n",
       "    </tr>\n",
       "    <tr>\n",
       "      <td>25</td>\n",
       "      <td>0.014554</td>\n",
       "      <td>0.603942</td>\n",
       "      <td>00:00</td>\n",
       "    </tr>\n",
       "    <tr>\n",
       "      <td>26</td>\n",
       "      <td>0.012541</td>\n",
       "      <td>0.546522</td>\n",
       "      <td>00:00</td>\n",
       "    </tr>\n",
       "    <tr>\n",
       "      <td>27</td>\n",
       "      <td>0.012204</td>\n",
       "      <td>0.565220</td>\n",
       "      <td>00:00</td>\n",
       "    </tr>\n",
       "    <tr>\n",
       "      <td>28</td>\n",
       "      <td>0.015071</td>\n",
       "      <td>0.627291</td>\n",
       "      <td>00:00</td>\n",
       "    </tr>\n",
       "    <tr>\n",
       "      <td>29</td>\n",
       "      <td>0.014799</td>\n",
       "      <td>0.588752</td>\n",
       "      <td>00:00</td>\n",
       "    </tr>\n",
       "  </tbody>\n",
       "</table>"
      ],
      "text/plain": [
       "<IPython.core.display.HTML object>"
      ]
     },
     "metadata": {},
     "output_type": "display_data"
    }
   ],
   "source": [
    "lrnr.fit(30,lr=0.05)"
   ]
  },
  {
   "cell_type": "markdown",
   "id": "5dd8449e-35c2-4400-b676-82f56e24dc3b",
   "metadata": {},
   "source": [
    "`(4)` 예측 "
   ]
  },
  {
   "cell_type": "markdown",
   "id": "1e277f57-fb79-4aec-b859-74df7f02d2b6",
   "metadata": {},
   "source": [
    "**적합값 확인**"
   ]
  },
  {
   "cell_type": "code",
   "execution_count": 107,
   "id": "78a81493-7c02-4200-a3c8-f4ff6871e158",
   "metadata": {},
   "outputs": [
    {
     "data": {
      "text/html": [
       "\n",
       "<style>\n",
       "    /* Turns off some styling */\n",
       "    progress {\n",
       "        /* gets rid of default border in Firefox and Opera. */\n",
       "        border: none;\n",
       "        /* Needs to be in here for Safari polyfill so background images work as expected. */\n",
       "        background-size: auto;\n",
       "    }\n",
       "    progress:not([value]), progress:not([value])::-webkit-progress-bar {\n",
       "        background: repeating-linear-gradient(45deg, #7e7e7e, #7e7e7e 10px, #5c5c5c 10px, #5c5c5c 20px);\n",
       "    }\n",
       "    .progress-bar-interrupted, .progress-bar-interrupted::-webkit-progress-bar {\n",
       "        background: #F44336;\n",
       "    }\n",
       "</style>\n"
      ],
      "text/plain": [
       "<IPython.core.display.HTML object>"
      ]
     },
     "metadata": {},
     "output_type": "display_data"
    },
    {
     "data": {
      "text/html": [],
      "text/plain": [
       "<IPython.core.display.HTML object>"
      ]
     },
     "metadata": {},
     "output_type": "display_data"
    },
    {
     "data": {
      "text/html": [
       "<table border=\"1\" class=\"dataframe\">\n",
       "  <thead>\n",
       "    <tr style=\"text-align: right;\">\n",
       "      <th></th>\n",
       "      <th>X1</th>\n",
       "      <th>X2</th>\n",
       "      <th>y</th>\n",
       "      <th>y_pred</th>\n",
       "    </tr>\n",
       "  </thead>\n",
       "  <tbody>\n",
       "    <tr>\n",
       "      <th>0</th>\n",
       "      <td>5.0</td>\n",
       "      <td>5.0</td>\n",
       "      <td>4.9</td>\n",
       "      <td>4.307190</td>\n",
       "    </tr>\n",
       "    <tr>\n",
       "      <th>1</th>\n",
       "      <td>1.0</td>\n",
       "      <td>3.0</td>\n",
       "      <td>3.9</td>\n",
       "      <td>4.120744</td>\n",
       "    </tr>\n",
       "  </tbody>\n",
       "</table>"
      ],
      "text/plain": [
       "<IPython.core.display.HTML object>"
      ]
     },
     "metadata": {},
     "output_type": "display_data"
    }
   ],
   "source": [
    "lrnr.show_results()"
   ]
  },
  {
   "cell_type": "markdown",
   "id": "d411c47c-3173-4338-8aa9-16f8851b7053",
   "metadata": {},
   "source": [
    "**(옥순의 궁합)**"
   ]
  },
  {
   "cell_type": "code",
   "execution_count": 108,
   "id": "a74299c7-08ef-4c50-a312-696b918fa995",
   "metadata": {},
   "outputs": [
    {
     "data": {
      "text/html": [
       "<div>\n",
       "<style scoped>\n",
       "    .dataframe tbody tr th:only-of-type {\n",
       "        vertical-align: middle;\n",
       "    }\n",
       "\n",
       "    .dataframe tbody tr th {\n",
       "        vertical-align: top;\n",
       "    }\n",
       "\n",
       "    .dataframe thead th {\n",
       "        text-align: right;\n",
       "    }\n",
       "</style>\n",
       "<table border=\"1\" class=\"dataframe\">\n",
       "  <thead>\n",
       "    <tr style=\"text-align: right;\">\n",
       "      <th></th>\n",
       "      <th>X1</th>\n",
       "      <th>X2</th>\n",
       "    </tr>\n",
       "  </thead>\n",
       "  <tbody>\n",
       "    <tr>\n",
       "      <th>0</th>\n",
       "      <td>옥순</td>\n",
       "      <td>영식</td>\n",
       "    </tr>\n",
       "    <tr>\n",
       "      <th>1</th>\n",
       "      <td>옥순</td>\n",
       "      <td>영철</td>\n",
       "    </tr>\n",
       "    <tr>\n",
       "      <th>2</th>\n",
       "      <td>옥순</td>\n",
       "      <td>영호</td>\n",
       "    </tr>\n",
       "    <tr>\n",
       "      <th>3</th>\n",
       "      <td>옥순</td>\n",
       "      <td>광수</td>\n",
       "    </tr>\n",
       "    <tr>\n",
       "      <th>4</th>\n",
       "      <td>옥순</td>\n",
       "      <td>상철</td>\n",
       "    </tr>\n",
       "    <tr>\n",
       "      <th>5</th>\n",
       "      <td>옥순</td>\n",
       "      <td>영수</td>\n",
       "    </tr>\n",
       "  </tbody>\n",
       "</table>\n",
       "</div>"
      ],
      "text/plain": [
       "   X1  X2\n",
       "0  옥순  영식\n",
       "1  옥순  영철\n",
       "2  옥순  영호\n",
       "3  옥순  광수\n",
       "4  옥순  상철\n",
       "5  옥순  영수"
      ]
     },
     "execution_count": 108,
     "metadata": {},
     "output_type": "execute_result"
    }
   ],
   "source": [
    "df_new = pd.DataFrame({'X1':['옥순']*6, 'X2':['영식','영철','영호','광수','상철','영수']})\n",
    "df_new"
   ]
  },
  {
   "cell_type": "code",
   "execution_count": 109,
   "id": "f5563185-51e2-4b0e-88f2-14f69255b3b1",
   "metadata": {},
   "outputs": [
    {
     "data": {
      "text/html": [
       "\n",
       "<style>\n",
       "    /* Turns off some styling */\n",
       "    progress {\n",
       "        /* gets rid of default border in Firefox and Opera. */\n",
       "        border: none;\n",
       "        /* Needs to be in here for Safari polyfill so background images work as expected. */\n",
       "        background-size: auto;\n",
       "    }\n",
       "    progress:not([value]), progress:not([value])::-webkit-progress-bar {\n",
       "        background: repeating-linear-gradient(45deg, #7e7e7e, #7e7e7e 10px, #5c5c5c 10px, #5c5c5c 20px);\n",
       "    }\n",
       "    .progress-bar-interrupted, .progress-bar-interrupted::-webkit-progress-bar {\n",
       "        background: #F44336;\n",
       "    }\n",
       "</style>\n"
      ],
      "text/plain": [
       "<IPython.core.display.HTML object>"
      ]
     },
     "metadata": {},
     "output_type": "display_data"
    },
    {
     "data": {
      "text/html": [],
      "text/plain": [
       "<IPython.core.display.HTML object>"
      ]
     },
     "metadata": {},
     "output_type": "display_data"
    },
    {
     "data": {
      "text/plain": [
       "(tensor([3.9180, 4.0884, 4.0025, 0.5219, 0.2973, 0.2427]), None)"
      ]
     },
     "execution_count": 109,
     "metadata": {},
     "output_type": "execute_result"
    }
   ],
   "source": [
    "lrnr.get_preds(dl=dls.test_dl(df_new))"
   ]
  },
  {
   "cell_type": "markdown",
   "id": "86cc65c1-d70c-46d5-a73d-ca9e59293659",
   "metadata": {},
   "source": [
    "비교를 위해서 "
   ]
  },
  {
   "cell_type": "code",
   "execution_count": 85,
   "id": "3293097c-5906-4366-b6dd-8e8580a19341",
   "metadata": {},
   "outputs": [
    {
     "data": {
      "text/html": [
       "<div>\n",
       "<style scoped>\n",
       "    .dataframe tbody tr th:only-of-type {\n",
       "        vertical-align: middle;\n",
       "    }\n",
       "\n",
       "    .dataframe tbody tr th {\n",
       "        vertical-align: top;\n",
       "    }\n",
       "\n",
       "    .dataframe thead th {\n",
       "        text-align: right;\n",
       "    }\n",
       "</style>\n",
       "<table border=\"1\" class=\"dataframe\">\n",
       "  <thead>\n",
       "    <tr style=\"text-align: right;\">\n",
       "      <th></th>\n",
       "      <th>영식</th>\n",
       "      <th>영철</th>\n",
       "      <th>영호</th>\n",
       "      <th>광수</th>\n",
       "      <th>상철</th>\n",
       "      <th>영수</th>\n",
       "    </tr>\n",
       "  </thead>\n",
       "  <tbody>\n",
       "    <tr>\n",
       "      <th>옥순</th>\n",
       "      <td>3.9</td>\n",
       "      <td>4.1</td>\n",
       "      <td>NaN</td>\n",
       "      <td>0.5</td>\n",
       "      <td>0.3</td>\n",
       "      <td>NaN</td>\n",
       "    </tr>\n",
       "    <tr>\n",
       "      <th>영자</th>\n",
       "      <td>4.5</td>\n",
       "      <td>NaN</td>\n",
       "      <td>3.7</td>\n",
       "      <td>0.5</td>\n",
       "      <td>NaN</td>\n",
       "      <td>0.2</td>\n",
       "    </tr>\n",
       "    <tr>\n",
       "      <th>정숙</th>\n",
       "      <td>NaN</td>\n",
       "      <td>4.9</td>\n",
       "      <td>4.7</td>\n",
       "      <td>NaN</td>\n",
       "      <td>1.2</td>\n",
       "      <td>1.3</td>\n",
       "    </tr>\n",
       "    <tr>\n",
       "      <th>영숙</th>\n",
       "      <td>0.6</td>\n",
       "      <td>0.2</td>\n",
       "      <td>NaN</td>\n",
       "      <td>4.1</td>\n",
       "      <td>4.3</td>\n",
       "      <td>NaN</td>\n",
       "    </tr>\n",
       "    <tr>\n",
       "      <th>순자</th>\n",
       "      <td>0.7</td>\n",
       "      <td>0.9</td>\n",
       "      <td>NaN</td>\n",
       "      <td>4.2</td>\n",
       "      <td>NaN</td>\n",
       "      <td>3.9</td>\n",
       "    </tr>\n",
       "    <tr>\n",
       "      <th>현숙</th>\n",
       "      <td>NaN</td>\n",
       "      <td>0.2</td>\n",
       "      <td>0.3</td>\n",
       "      <td>NaN</td>\n",
       "      <td>3.5</td>\n",
       "      <td>3.4</td>\n",
       "    </tr>\n",
       "  </tbody>\n",
       "</table>\n",
       "</div>"
      ],
      "text/plain": [
       "     영식   영철   영호   광수   상철   영수\n",
       "옥순  3.9  4.1  NaN  0.5  0.3  NaN\n",
       "영자  4.5  NaN  3.7  0.5  NaN  0.2\n",
       "정숙  NaN  4.9  4.7  NaN  1.2  1.3\n",
       "영숙  0.6  0.2  NaN  4.1  4.3  NaN\n",
       "순자  0.7  0.9  NaN  4.2  NaN  3.9\n",
       "현숙  NaN  0.2  0.3  NaN  3.5  3.4"
      ]
     },
     "execution_count": 85,
     "metadata": {},
     "output_type": "execute_result"
    }
   ],
   "source": [
    "df_view"
   ]
  },
  {
   "cell_type": "markdown",
   "id": "589a0292-4680-416a-a5ed-9ddda388cf1e",
   "metadata": {},
   "source": [
    "**(정숙의 궁합)**"
   ]
  },
  {
   "cell_type": "code",
   "execution_count": 86,
   "id": "32c0688a-dd10-4cb1-9ad9-f271a3c21729",
   "metadata": {},
   "outputs": [
    {
     "data": {
      "text/html": [
       "<div>\n",
       "<style scoped>\n",
       "    .dataframe tbody tr th:only-of-type {\n",
       "        vertical-align: middle;\n",
       "    }\n",
       "\n",
       "    .dataframe tbody tr th {\n",
       "        vertical-align: top;\n",
       "    }\n",
       "\n",
       "    .dataframe thead th {\n",
       "        text-align: right;\n",
       "    }\n",
       "</style>\n",
       "<table border=\"1\" class=\"dataframe\">\n",
       "  <thead>\n",
       "    <tr style=\"text-align: right;\">\n",
       "      <th></th>\n",
       "      <th>X1</th>\n",
       "      <th>X2</th>\n",
       "    </tr>\n",
       "  </thead>\n",
       "  <tbody>\n",
       "    <tr>\n",
       "      <th>0</th>\n",
       "      <td>정숙</td>\n",
       "      <td>영식</td>\n",
       "    </tr>\n",
       "    <tr>\n",
       "      <th>1</th>\n",
       "      <td>정숙</td>\n",
       "      <td>영철</td>\n",
       "    </tr>\n",
       "    <tr>\n",
       "      <th>2</th>\n",
       "      <td>정숙</td>\n",
       "      <td>영호</td>\n",
       "    </tr>\n",
       "    <tr>\n",
       "      <th>3</th>\n",
       "      <td>정숙</td>\n",
       "      <td>광수</td>\n",
       "    </tr>\n",
       "    <tr>\n",
       "      <th>4</th>\n",
       "      <td>정숙</td>\n",
       "      <td>상철</td>\n",
       "    </tr>\n",
       "    <tr>\n",
       "      <th>5</th>\n",
       "      <td>정숙</td>\n",
       "      <td>영수</td>\n",
       "    </tr>\n",
       "  </tbody>\n",
       "</table>\n",
       "</div>"
      ],
      "text/plain": [
       "   X1  X2\n",
       "0  정숙  영식\n",
       "1  정숙  영철\n",
       "2  정숙  영호\n",
       "3  정숙  광수\n",
       "4  정숙  상철\n",
       "5  정숙  영수"
      ]
     },
     "execution_count": 86,
     "metadata": {},
     "output_type": "execute_result"
    }
   ],
   "source": [
    "df_new = pd.DataFrame({'X1':['정숙']*6, 'X2':['영식','영철','영호','광수','상철','영수']})\n",
    "df_new"
   ]
  },
  {
   "cell_type": "code",
   "execution_count": 87,
   "id": "921beccd-f8bf-4ad2-9780-1c822fd9b052",
   "metadata": {},
   "outputs": [
    {
     "data": {
      "text/html": [
       "\n",
       "<style>\n",
       "    /* Turns off some styling */\n",
       "    progress {\n",
       "        /* gets rid of default border in Firefox and Opera. */\n",
       "        border: none;\n",
       "        /* Needs to be in here for Safari polyfill so background images work as expected. */\n",
       "        background-size: auto;\n",
       "    }\n",
       "    progress:not([value]), progress:not([value])::-webkit-progress-bar {\n",
       "        background: repeating-linear-gradient(45deg, #7e7e7e, #7e7e7e 10px, #5c5c5c 10px, #5c5c5c 20px);\n",
       "    }\n",
       "    .progress-bar-interrupted, .progress-bar-interrupted::-webkit-progress-bar {\n",
       "        background: #F44336;\n",
       "    }\n",
       "</style>\n"
      ],
      "text/plain": [
       "<IPython.core.display.HTML object>"
      ]
     },
     "metadata": {},
     "output_type": "display_data"
    },
    {
     "data": {
      "text/html": [],
      "text/plain": [
       "<IPython.core.display.HTML object>"
      ]
     },
     "metadata": {},
     "output_type": "display_data"
    },
    {
     "data": {
      "text/plain": [
       "(tensor([4.0104, 4.8331, 4.6177, 2.8266, 1.2104, 1.3420]), None)"
      ]
     },
     "execution_count": 87,
     "metadata": {},
     "output_type": "execute_result"
    }
   ],
   "source": [
    "lrnr.get_preds(dl=dls.test_dl(df_new))"
   ]
  },
  {
   "cell_type": "markdown",
   "id": "b6cd416b-45b4-4834-91fe-02ecc6d39769",
   "metadata": {},
   "source": [
    "비교를 위해서 "
   ]
  },
  {
   "cell_type": "code",
   "execution_count": 88,
   "id": "4d54a1f0-c424-4446-8471-703e47a4ee5f",
   "metadata": {},
   "outputs": [
    {
     "data": {
      "text/html": [
       "<div>\n",
       "<style scoped>\n",
       "    .dataframe tbody tr th:only-of-type {\n",
       "        vertical-align: middle;\n",
       "    }\n",
       "\n",
       "    .dataframe tbody tr th {\n",
       "        vertical-align: top;\n",
       "    }\n",
       "\n",
       "    .dataframe thead th {\n",
       "        text-align: right;\n",
       "    }\n",
       "</style>\n",
       "<table border=\"1\" class=\"dataframe\">\n",
       "  <thead>\n",
       "    <tr style=\"text-align: right;\">\n",
       "      <th></th>\n",
       "      <th>영식</th>\n",
       "      <th>영철</th>\n",
       "      <th>영호</th>\n",
       "      <th>광수</th>\n",
       "      <th>상철</th>\n",
       "      <th>영수</th>\n",
       "    </tr>\n",
       "  </thead>\n",
       "  <tbody>\n",
       "    <tr>\n",
       "      <th>옥순</th>\n",
       "      <td>3.9</td>\n",
       "      <td>4.1</td>\n",
       "      <td>NaN</td>\n",
       "      <td>0.5</td>\n",
       "      <td>0.3</td>\n",
       "      <td>NaN</td>\n",
       "    </tr>\n",
       "    <tr>\n",
       "      <th>영자</th>\n",
       "      <td>4.5</td>\n",
       "      <td>NaN</td>\n",
       "      <td>3.7</td>\n",
       "      <td>0.5</td>\n",
       "      <td>NaN</td>\n",
       "      <td>0.2</td>\n",
       "    </tr>\n",
       "    <tr>\n",
       "      <th>정숙</th>\n",
       "      <td>NaN</td>\n",
       "      <td>4.9</td>\n",
       "      <td>4.7</td>\n",
       "      <td>NaN</td>\n",
       "      <td>1.2</td>\n",
       "      <td>1.3</td>\n",
       "    </tr>\n",
       "    <tr>\n",
       "      <th>영숙</th>\n",
       "      <td>0.6</td>\n",
       "      <td>0.2</td>\n",
       "      <td>NaN</td>\n",
       "      <td>4.1</td>\n",
       "      <td>4.3</td>\n",
       "      <td>NaN</td>\n",
       "    </tr>\n",
       "    <tr>\n",
       "      <th>순자</th>\n",
       "      <td>0.7</td>\n",
       "      <td>0.9</td>\n",
       "      <td>NaN</td>\n",
       "      <td>4.2</td>\n",
       "      <td>NaN</td>\n",
       "      <td>3.9</td>\n",
       "    </tr>\n",
       "    <tr>\n",
       "      <th>현숙</th>\n",
       "      <td>NaN</td>\n",
       "      <td>0.2</td>\n",
       "      <td>0.3</td>\n",
       "      <td>NaN</td>\n",
       "      <td>3.5</td>\n",
       "      <td>3.4</td>\n",
       "    </tr>\n",
       "  </tbody>\n",
       "</table>\n",
       "</div>"
      ],
      "text/plain": [
       "     영식   영철   영호   광수   상철   영수\n",
       "옥순  3.9  4.1  NaN  0.5  0.3  NaN\n",
       "영자  4.5  NaN  3.7  0.5  NaN  0.2\n",
       "정숙  NaN  4.9  4.7  NaN  1.2  1.3\n",
       "영숙  0.6  0.2  NaN  4.1  4.3  NaN\n",
       "순자  0.7  0.9  NaN  4.2  NaN  3.9\n",
       "현숙  NaN  0.2  0.3  NaN  3.5  3.4"
      ]
     },
     "execution_count": 88,
     "metadata": {},
     "output_type": "execute_result"
    }
   ],
   "source": [
    "df_view"
   ]
  },
  {
   "cell_type": "markdown",
   "id": "10dec737-05a4-462a-9605-63ffa196ed04",
   "metadata": {},
   "source": [
    "`-` Appedix: fastai 구조공부.. "
   ]
  },
  {
   "cell_type": "code",
   "execution_count": 53,
   "id": "9e1922e3-3ccf-48d7-b74b-600b82931632",
   "metadata": {},
   "outputs": [
    {
     "data": {
      "text/plain": [
       "EmbeddingDotBias(\n",
       "  (u_weight): Embedding(7, 2)\n",
       "  (i_weight): Embedding(7, 2)\n",
       "  (u_bias): Embedding(7, 1)\n",
       "  (i_bias): Embedding(7, 1)\n",
       ")"
      ]
     },
     "execution_count": 53,
     "metadata": {},
     "output_type": "execute_result"
    }
   ],
   "source": [
    "lrnr.model"
   ]
  },
  {
   "cell_type": "code",
   "execution_count": 54,
   "id": "61d3a8e9-fd47-4ff4-afe9-74c3dd8fcce5",
   "metadata": {},
   "outputs": [
    {
     "data": {
      "text/plain": [
       "\u001b[0;31mSignature:\u001b[0m \u001b[0mlrnr\u001b[0m\u001b[0;34m.\u001b[0m\u001b[0mmodel\u001b[0m\u001b[0;34m.\u001b[0m\u001b[0mforward\u001b[0m\u001b[0;34m(\u001b[0m\u001b[0mx\u001b[0m\u001b[0;34m)\u001b[0m\u001b[0;34m\u001b[0m\u001b[0;34m\u001b[0m\u001b[0m\n",
       "\u001b[0;31mDocstring:\u001b[0m\n",
       "Defines the computation performed at every call.\n",
       "\n",
       "Should be overridden by all subclasses.\n",
       "\n",
       ".. note::\n",
       "    Although the recipe for forward pass needs to be defined within\n",
       "    this function, one should call the :class:`Module` instance afterwards\n",
       "    instead of this since the former takes care of running the\n",
       "    registered hooks while the latter silently ignores them.\n",
       "\u001b[0;31mSource:\u001b[0m   \n",
       "    \u001b[0;32mdef\u001b[0m \u001b[0mforward\u001b[0m\u001b[0;34m(\u001b[0m\u001b[0mself\u001b[0m\u001b[0;34m,\u001b[0m \u001b[0mx\u001b[0m\u001b[0;34m)\u001b[0m\u001b[0;34m:\u001b[0m\u001b[0;34m\u001b[0m\n",
       "\u001b[0;34m\u001b[0m        \u001b[0musers\u001b[0m\u001b[0;34m,\u001b[0m\u001b[0mitems\u001b[0m \u001b[0;34m=\u001b[0m \u001b[0mx\u001b[0m\u001b[0;34m[\u001b[0m\u001b[0;34m:\u001b[0m\u001b[0;34m,\u001b[0m\u001b[0;36m0\u001b[0m\u001b[0;34m]\u001b[0m\u001b[0;34m,\u001b[0m\u001b[0mx\u001b[0m\u001b[0;34m[\u001b[0m\u001b[0;34m:\u001b[0m\u001b[0;34m,\u001b[0m\u001b[0;36m1\u001b[0m\u001b[0;34m]\u001b[0m\u001b[0;34m\u001b[0m\n",
       "\u001b[0;34m\u001b[0m        \u001b[0mdot\u001b[0m \u001b[0;34m=\u001b[0m \u001b[0mself\u001b[0m\u001b[0;34m.\u001b[0m\u001b[0mu_weight\u001b[0m\u001b[0;34m(\u001b[0m\u001b[0musers\u001b[0m\u001b[0;34m)\u001b[0m\u001b[0;34m*\u001b[0m \u001b[0mself\u001b[0m\u001b[0;34m.\u001b[0m\u001b[0mi_weight\u001b[0m\u001b[0;34m(\u001b[0m\u001b[0mitems\u001b[0m\u001b[0;34m)\u001b[0m\u001b[0;34m\u001b[0m\n",
       "\u001b[0;34m\u001b[0m        \u001b[0mres\u001b[0m \u001b[0;34m=\u001b[0m \u001b[0mdot\u001b[0m\u001b[0;34m.\u001b[0m\u001b[0msum\u001b[0m\u001b[0;34m(\u001b[0m\u001b[0;36m1\u001b[0m\u001b[0;34m)\u001b[0m \u001b[0;34m+\u001b[0m \u001b[0mself\u001b[0m\u001b[0;34m.\u001b[0m\u001b[0mu_bias\u001b[0m\u001b[0;34m(\u001b[0m\u001b[0musers\u001b[0m\u001b[0;34m)\u001b[0m\u001b[0;34m.\u001b[0m\u001b[0msqueeze\u001b[0m\u001b[0;34m(\u001b[0m\u001b[0;34m)\u001b[0m \u001b[0;34m+\u001b[0m \u001b[0mself\u001b[0m\u001b[0;34m.\u001b[0m\u001b[0mi_bias\u001b[0m\u001b[0;34m(\u001b[0m\u001b[0mitems\u001b[0m\u001b[0;34m)\u001b[0m\u001b[0;34m.\u001b[0m\u001b[0msqueeze\u001b[0m\u001b[0;34m(\u001b[0m\u001b[0;34m)\u001b[0m\u001b[0;34m\u001b[0m\n",
       "\u001b[0;34m\u001b[0m        \u001b[0;32mif\u001b[0m \u001b[0mself\u001b[0m\u001b[0;34m.\u001b[0m\u001b[0my_range\u001b[0m \u001b[0;32mis\u001b[0m \u001b[0;32mNone\u001b[0m\u001b[0;34m:\u001b[0m \u001b[0;32mreturn\u001b[0m \u001b[0mres\u001b[0m\u001b[0;34m\u001b[0m\n",
       "\u001b[0;34m\u001b[0m        \u001b[0;32mreturn\u001b[0m \u001b[0mtorch\u001b[0m\u001b[0;34m.\u001b[0m\u001b[0msigmoid\u001b[0m\u001b[0;34m(\u001b[0m\u001b[0mres\u001b[0m\u001b[0;34m)\u001b[0m \u001b[0;34m*\u001b[0m \u001b[0;34m(\u001b[0m\u001b[0mself\u001b[0m\u001b[0;34m.\u001b[0m\u001b[0my_range\u001b[0m\u001b[0;34m[\u001b[0m\u001b[0;36m1\u001b[0m\u001b[0;34m]\u001b[0m\u001b[0;34m-\u001b[0m\u001b[0mself\u001b[0m\u001b[0;34m.\u001b[0m\u001b[0my_range\u001b[0m\u001b[0;34m[\u001b[0m\u001b[0;36m0\u001b[0m\u001b[0;34m]\u001b[0m\u001b[0;34m)\u001b[0m \u001b[0;34m+\u001b[0m \u001b[0mself\u001b[0m\u001b[0;34m.\u001b[0m\u001b[0my_range\u001b[0m\u001b[0;34m[\u001b[0m\u001b[0;36m0\u001b[0m\u001b[0;34m]\u001b[0m\u001b[0;34m\u001b[0m\u001b[0;34m\u001b[0m\u001b[0m\n",
       "\u001b[0;31mFile:\u001b[0m      ~/anaconda3/envs/py37/lib/python3.7/site-packages/fastai/collab.py\n",
       "\u001b[0;31mType:\u001b[0m      method\n"
      ]
     },
     "metadata": {},
     "output_type": "display_data"
    }
   ],
   "source": [
    "lrnr.model.forward??"
   ]
  },
  {
   "cell_type": "markdown",
   "id": "5ee06ca1-0e61-4f0c-a343-37effe9d32a9",
   "metadata": {},
   "source": [
    "- bias를 제외하면 우리가 짠 모형과 같음!"
   ]
  },
  {
   "cell_type": "markdown",
   "id": "345c68f9-7b29-4f44-b1cf-0230dda7441b",
   "metadata": {},
   "source": [
    "# 커피 or 홍차 "
   ]
  },
  {
   "cell_type": "markdown",
   "id": "69c5006a-3005-4e25-84f0-7af7b8720e86",
   "metadata": {},
   "source": [
    "## data"
   ]
  },
  {
   "cell_type": "markdown",
   "id": "f22f87de-62dc-4bc7-94a4-1e1d954ad4a3",
   "metadata": {},
   "source": [
    "`-` 예전에 살펴본 예제 "
   ]
  },
  {
   "cell_type": "code",
   "execution_count": 487,
   "id": "2970859c-8b0d-4ed5-8dc6-95fd2221cb4e",
   "metadata": {},
   "outputs": [
    {
     "data": {
      "text/html": [
       "<div>\n",
       "<style scoped>\n",
       "    .dataframe tbody tr th:only-of-type {\n",
       "        vertical-align: middle;\n",
       "    }\n",
       "\n",
       "    .dataframe tbody tr th {\n",
       "        vertical-align: top;\n",
       "    }\n",
       "\n",
       "    .dataframe thead th {\n",
       "        text-align: right;\n",
       "    }\n",
       "</style>\n",
       "<table border=\"1\" class=\"dataframe\">\n",
       "  <thead>\n",
       "    <tr style=\"text-align: right;\">\n",
       "      <th></th>\n",
       "      <th>user</th>\n",
       "      <th>item</th>\n",
       "      <th>rating</th>\n",
       "      <th>item_name</th>\n",
       "    </tr>\n",
       "  </thead>\n",
       "  <tbody>\n",
       "    <tr>\n",
       "      <th>0</th>\n",
       "      <td>1</td>\n",
       "      <td>15</td>\n",
       "      <td>1.084308</td>\n",
       "      <td>홍차5</td>\n",
       "    </tr>\n",
       "    <tr>\n",
       "      <th>1</th>\n",
       "      <td>1</td>\n",
       "      <td>1</td>\n",
       "      <td>4.149209</td>\n",
       "      <td>커피1</td>\n",
       "    </tr>\n",
       "    <tr>\n",
       "      <th>2</th>\n",
       "      <td>1</td>\n",
       "      <td>11</td>\n",
       "      <td>1.142659</td>\n",
       "      <td>홍차1</td>\n",
       "    </tr>\n",
       "    <tr>\n",
       "      <th>3</th>\n",
       "      <td>1</td>\n",
       "      <td>5</td>\n",
       "      <td>4.033415</td>\n",
       "      <td>커피5</td>\n",
       "    </tr>\n",
       "    <tr>\n",
       "      <th>4</th>\n",
       "      <td>1</td>\n",
       "      <td>4</td>\n",
       "      <td>4.078139</td>\n",
       "      <td>커피4</td>\n",
       "    </tr>\n",
       "    <tr>\n",
       "      <th>...</th>\n",
       "      <td>...</td>\n",
       "      <td>...</td>\n",
       "      <td>...</td>\n",
       "      <td>...</td>\n",
       "    </tr>\n",
       "    <tr>\n",
       "      <th>995</th>\n",
       "      <td>100</td>\n",
       "      <td>18</td>\n",
       "      <td>4.104276</td>\n",
       "      <td>홍차8</td>\n",
       "    </tr>\n",
       "    <tr>\n",
       "      <th>996</th>\n",
       "      <td>100</td>\n",
       "      <td>17</td>\n",
       "      <td>4.164773</td>\n",
       "      <td>홍차7</td>\n",
       "    </tr>\n",
       "    <tr>\n",
       "      <th>997</th>\n",
       "      <td>100</td>\n",
       "      <td>14</td>\n",
       "      <td>4.026915</td>\n",
       "      <td>홍차4</td>\n",
       "    </tr>\n",
       "    <tr>\n",
       "      <th>998</th>\n",
       "      <td>100</td>\n",
       "      <td>4</td>\n",
       "      <td>0.838720</td>\n",
       "      <td>커피4</td>\n",
       "    </tr>\n",
       "    <tr>\n",
       "      <th>999</th>\n",
       "      <td>100</td>\n",
       "      <td>7</td>\n",
       "      <td>1.094826</td>\n",
       "      <td>커피7</td>\n",
       "    </tr>\n",
       "  </tbody>\n",
       "</table>\n",
       "<p>1000 rows × 4 columns</p>\n",
       "</div>"
      ],
      "text/plain": [
       "     user  item    rating item_name\n",
       "0       1    15  1.084308       홍차5\n",
       "1       1     1  4.149209       커피1\n",
       "2       1    11  1.142659       홍차1\n",
       "3       1     5  4.033415       커피5\n",
       "4       1     4  4.078139       커피4\n",
       "..    ...   ...       ...       ...\n",
       "995   100    18  4.104276       홍차8\n",
       "996   100    17  4.164773       홍차7\n",
       "997   100    14  4.026915       홍차4\n",
       "998   100     4  0.838720       커피4\n",
       "999   100     7  1.094826       커피7\n",
       "\n",
       "[1000 rows x 4 columns]"
      ]
     },
     "execution_count": 487,
     "metadata": {},
     "output_type": "execute_result"
    }
   ],
   "source": [
    "df = pd.read_csv('https://raw.githubusercontent.com/guebin/DL2022/main/posts/I.%20Overview/2022-09-08-rcmd_anal.csv')\n",
    "df"
   ]
  },
  {
   "cell_type": "markdown",
   "id": "1fabc3f1-97cd-44cf-83ca-db91e2eff253",
   "metadata": {},
   "source": [
    "`-` 기억을 살리기 위해서.. "
   ]
  },
  {
   "cell_type": "code",
   "execution_count": 488,
   "id": "14c3497e-55a9-4b93-89d8-be7c430d6a6a",
   "metadata": {},
   "outputs": [
    {
     "data": {
      "text/html": [
       "<div>\n",
       "<style scoped>\n",
       "    .dataframe tbody tr th:only-of-type {\n",
       "        vertical-align: middle;\n",
       "    }\n",
       "\n",
       "    .dataframe tbody tr th {\n",
       "        vertical-align: top;\n",
       "    }\n",
       "\n",
       "    .dataframe thead th {\n",
       "        text-align: right;\n",
       "    }\n",
       "</style>\n",
       "<table border=\"1\" class=\"dataframe\">\n",
       "  <thead>\n",
       "    <tr style=\"text-align: right;\">\n",
       "      <th></th>\n",
       "      <th>커피1</th>\n",
       "      <th>커피2</th>\n",
       "      <th>커피3</th>\n",
       "      <th>커피4</th>\n",
       "      <th>커피5</th>\n",
       "      <th>커피6</th>\n",
       "      <th>커피7</th>\n",
       "      <th>커피8</th>\n",
       "      <th>커피9</th>\n",
       "      <th>커피10</th>\n",
       "      <th>홍차1</th>\n",
       "      <th>홍차2</th>\n",
       "      <th>홍차3</th>\n",
       "      <th>홍차4</th>\n",
       "      <th>홍차5</th>\n",
       "      <th>홍차6</th>\n",
       "      <th>홍차7</th>\n",
       "      <th>홍차8</th>\n",
       "      <th>홍차9</th>\n",
       "      <th>홍차10</th>\n",
       "    </tr>\n",
       "  </thead>\n",
       "  <tbody>\n",
       "    <tr>\n",
       "      <th>0</th>\n",
       "      <td>4.149209</td>\n",
       "      <td>NaN</td>\n",
       "      <td>NaN</td>\n",
       "      <td>4.078139</td>\n",
       "      <td>4.033415</td>\n",
       "      <td>4.071871</td>\n",
       "      <td>NaN</td>\n",
       "      <td>NaN</td>\n",
       "      <td>NaN</td>\n",
       "      <td>NaN</td>\n",
       "      <td>1.142659</td>\n",
       "      <td>1.109452</td>\n",
       "      <td>NaN</td>\n",
       "      <td>0.603118</td>\n",
       "      <td>1.084308</td>\n",
       "      <td>NaN</td>\n",
       "      <td>0.906524</td>\n",
       "      <td>NaN</td>\n",
       "      <td>NaN</td>\n",
       "      <td>0.903826</td>\n",
       "    </tr>\n",
       "    <tr>\n",
       "      <th>1</th>\n",
       "      <td>4.031811</td>\n",
       "      <td>NaN</td>\n",
       "      <td>NaN</td>\n",
       "      <td>3.822704</td>\n",
       "      <td>NaN</td>\n",
       "      <td>NaN</td>\n",
       "      <td>NaN</td>\n",
       "      <td>4.071410</td>\n",
       "      <td>3.996206</td>\n",
       "      <td>NaN</td>\n",
       "      <td>NaN</td>\n",
       "      <td>0.839565</td>\n",
       "      <td>1.011315</td>\n",
       "      <td>NaN</td>\n",
       "      <td>1.120552</td>\n",
       "      <td>0.911340</td>\n",
       "      <td>NaN</td>\n",
       "      <td>0.860954</td>\n",
       "      <td>0.871482</td>\n",
       "      <td>NaN</td>\n",
       "    </tr>\n",
       "    <tr>\n",
       "      <th>2</th>\n",
       "      <td>4.082178</td>\n",
       "      <td>4.196436</td>\n",
       "      <td>NaN</td>\n",
       "      <td>3.956876</td>\n",
       "      <td>NaN</td>\n",
       "      <td>NaN</td>\n",
       "      <td>NaN</td>\n",
       "      <td>4.450931</td>\n",
       "      <td>3.972090</td>\n",
       "      <td>NaN</td>\n",
       "      <td>NaN</td>\n",
       "      <td>NaN</td>\n",
       "      <td>NaN</td>\n",
       "      <td>0.983838</td>\n",
       "      <td>NaN</td>\n",
       "      <td>0.918576</td>\n",
       "      <td>1.206796</td>\n",
       "      <td>0.913116</td>\n",
       "      <td>NaN</td>\n",
       "      <td>0.956194</td>\n",
       "    </tr>\n",
       "    <tr>\n",
       "      <th>3</th>\n",
       "      <td>NaN</td>\n",
       "      <td>4.000621</td>\n",
       "      <td>3.895570</td>\n",
       "      <td>NaN</td>\n",
       "      <td>3.838781</td>\n",
       "      <td>3.967183</td>\n",
       "      <td>NaN</td>\n",
       "      <td>NaN</td>\n",
       "      <td>NaN</td>\n",
       "      <td>4.105741</td>\n",
       "      <td>1.147554</td>\n",
       "      <td>NaN</td>\n",
       "      <td>1.346860</td>\n",
       "      <td>NaN</td>\n",
       "      <td>0.614099</td>\n",
       "      <td>1.297301</td>\n",
       "      <td>NaN</td>\n",
       "      <td>NaN</td>\n",
       "      <td>NaN</td>\n",
       "      <td>1.147545</td>\n",
       "    </tr>\n",
       "    <tr>\n",
       "      <th>4</th>\n",
       "      <td>NaN</td>\n",
       "      <td>NaN</td>\n",
       "      <td>NaN</td>\n",
       "      <td>NaN</td>\n",
       "      <td>3.888208</td>\n",
       "      <td>NaN</td>\n",
       "      <td>3.970330</td>\n",
       "      <td>3.979490</td>\n",
       "      <td>NaN</td>\n",
       "      <td>4.010982</td>\n",
       "      <td>NaN</td>\n",
       "      <td>0.920995</td>\n",
       "      <td>1.081111</td>\n",
       "      <td>0.999345</td>\n",
       "      <td>NaN</td>\n",
       "      <td>1.195183</td>\n",
       "      <td>NaN</td>\n",
       "      <td>0.818332</td>\n",
       "      <td>1.236331</td>\n",
       "      <td>NaN</td>\n",
       "    </tr>\n",
       "    <tr>\n",
       "      <th>...</th>\n",
       "      <td>...</td>\n",
       "      <td>...</td>\n",
       "      <td>...</td>\n",
       "      <td>...</td>\n",
       "      <td>...</td>\n",
       "      <td>...</td>\n",
       "      <td>...</td>\n",
       "      <td>...</td>\n",
       "      <td>...</td>\n",
       "      <td>...</td>\n",
       "      <td>...</td>\n",
       "      <td>...</td>\n",
       "      <td>...</td>\n",
       "      <td>...</td>\n",
       "      <td>...</td>\n",
       "      <td>...</td>\n",
       "      <td>...</td>\n",
       "      <td>...</td>\n",
       "      <td>...</td>\n",
       "      <td>...</td>\n",
       "    </tr>\n",
       "    <tr>\n",
       "      <th>95</th>\n",
       "      <td>0.511905</td>\n",
       "      <td>1.066144</td>\n",
       "      <td>NaN</td>\n",
       "      <td>1.315430</td>\n",
       "      <td>NaN</td>\n",
       "      <td>1.285778</td>\n",
       "      <td>NaN</td>\n",
       "      <td>0.678400</td>\n",
       "      <td>1.023020</td>\n",
       "      <td>0.886803</td>\n",
       "      <td>NaN</td>\n",
       "      <td>4.055996</td>\n",
       "      <td>NaN</td>\n",
       "      <td>NaN</td>\n",
       "      <td>4.156489</td>\n",
       "      <td>4.127622</td>\n",
       "      <td>NaN</td>\n",
       "      <td>NaN</td>\n",
       "      <td>NaN</td>\n",
       "      <td>NaN</td>\n",
       "    </tr>\n",
       "    <tr>\n",
       "      <th>96</th>\n",
       "      <td>NaN</td>\n",
       "      <td>1.035022</td>\n",
       "      <td>NaN</td>\n",
       "      <td>1.085834</td>\n",
       "      <td>NaN</td>\n",
       "      <td>0.812558</td>\n",
       "      <td>NaN</td>\n",
       "      <td>1.074543</td>\n",
       "      <td>NaN</td>\n",
       "      <td>0.852806</td>\n",
       "      <td>3.894772</td>\n",
       "      <td>NaN</td>\n",
       "      <td>4.071385</td>\n",
       "      <td>3.935935</td>\n",
       "      <td>NaN</td>\n",
       "      <td>NaN</td>\n",
       "      <td>3.989815</td>\n",
       "      <td>NaN</td>\n",
       "      <td>NaN</td>\n",
       "      <td>4.267142</td>\n",
       "    </tr>\n",
       "    <tr>\n",
       "      <th>97</th>\n",
       "      <td>NaN</td>\n",
       "      <td>1.115511</td>\n",
       "      <td>NaN</td>\n",
       "      <td>1.101395</td>\n",
       "      <td>0.878614</td>\n",
       "      <td>NaN</td>\n",
       "      <td>NaN</td>\n",
       "      <td>NaN</td>\n",
       "      <td>1.329319</td>\n",
       "      <td>NaN</td>\n",
       "      <td>4.125190</td>\n",
       "      <td>NaN</td>\n",
       "      <td>4.354638</td>\n",
       "      <td>3.811209</td>\n",
       "      <td>4.144648</td>\n",
       "      <td>NaN</td>\n",
       "      <td>NaN</td>\n",
       "      <td>4.116915</td>\n",
       "      <td>3.887823</td>\n",
       "      <td>NaN</td>\n",
       "    </tr>\n",
       "    <tr>\n",
       "      <th>98</th>\n",
       "      <td>NaN</td>\n",
       "      <td>0.850794</td>\n",
       "      <td>NaN</td>\n",
       "      <td>NaN</td>\n",
       "      <td>0.927884</td>\n",
       "      <td>0.669895</td>\n",
       "      <td>NaN</td>\n",
       "      <td>NaN</td>\n",
       "      <td>0.665429</td>\n",
       "      <td>1.387329</td>\n",
       "      <td>NaN</td>\n",
       "      <td>NaN</td>\n",
       "      <td>4.329404</td>\n",
       "      <td>4.111706</td>\n",
       "      <td>3.960197</td>\n",
       "      <td>NaN</td>\n",
       "      <td>NaN</td>\n",
       "      <td>NaN</td>\n",
       "      <td>3.725288</td>\n",
       "      <td>4.122072</td>\n",
       "    </tr>\n",
       "    <tr>\n",
       "      <th>99</th>\n",
       "      <td>NaN</td>\n",
       "      <td>NaN</td>\n",
       "      <td>1.413968</td>\n",
       "      <td>0.838720</td>\n",
       "      <td>NaN</td>\n",
       "      <td>NaN</td>\n",
       "      <td>1.094826</td>\n",
       "      <td>0.987888</td>\n",
       "      <td>NaN</td>\n",
       "      <td>1.177387</td>\n",
       "      <td>3.957383</td>\n",
       "      <td>4.136731</td>\n",
       "      <td>NaN</td>\n",
       "      <td>4.026915</td>\n",
       "      <td>NaN</td>\n",
       "      <td>NaN</td>\n",
       "      <td>4.164773</td>\n",
       "      <td>4.104276</td>\n",
       "      <td>NaN</td>\n",
       "      <td>NaN</td>\n",
       "    </tr>\n",
       "  </tbody>\n",
       "</table>\n",
       "<p>100 rows × 20 columns</p>\n",
       "</div>"
      ],
      "text/plain": [
       "         커피1       커피2       커피3       커피4       커피5       커피6       커피7  \\\n",
       "0   4.149209       NaN       NaN  4.078139  4.033415  4.071871       NaN   \n",
       "1   4.031811       NaN       NaN  3.822704       NaN       NaN       NaN   \n",
       "2   4.082178  4.196436       NaN  3.956876       NaN       NaN       NaN   \n",
       "3        NaN  4.000621  3.895570       NaN  3.838781  3.967183       NaN   \n",
       "4        NaN       NaN       NaN       NaN  3.888208       NaN  3.970330   \n",
       "..       ...       ...       ...       ...       ...       ...       ...   \n",
       "95  0.511905  1.066144       NaN  1.315430       NaN  1.285778       NaN   \n",
       "96       NaN  1.035022       NaN  1.085834       NaN  0.812558       NaN   \n",
       "97       NaN  1.115511       NaN  1.101395  0.878614       NaN       NaN   \n",
       "98       NaN  0.850794       NaN       NaN  0.927884  0.669895       NaN   \n",
       "99       NaN       NaN  1.413968  0.838720       NaN       NaN  1.094826   \n",
       "\n",
       "         커피8       커피9      커피10       홍차1       홍차2       홍차3       홍차4  \\\n",
       "0        NaN       NaN       NaN  1.142659  1.109452       NaN  0.603118   \n",
       "1   4.071410  3.996206       NaN       NaN  0.839565  1.011315       NaN   \n",
       "2   4.450931  3.972090       NaN       NaN       NaN       NaN  0.983838   \n",
       "3        NaN       NaN  4.105741  1.147554       NaN  1.346860       NaN   \n",
       "4   3.979490       NaN  4.010982       NaN  0.920995  1.081111  0.999345   \n",
       "..       ...       ...       ...       ...       ...       ...       ...   \n",
       "95  0.678400  1.023020  0.886803       NaN  4.055996       NaN       NaN   \n",
       "96  1.074543       NaN  0.852806  3.894772       NaN  4.071385  3.935935   \n",
       "97       NaN  1.329319       NaN  4.125190       NaN  4.354638  3.811209   \n",
       "98       NaN  0.665429  1.387329       NaN       NaN  4.329404  4.111706   \n",
       "99  0.987888       NaN  1.177387  3.957383  4.136731       NaN  4.026915   \n",
       "\n",
       "         홍차5       홍차6       홍차7       홍차8       홍차9      홍차10  \n",
       "0   1.084308       NaN  0.906524       NaN       NaN  0.903826  \n",
       "1   1.120552  0.911340       NaN  0.860954  0.871482       NaN  \n",
       "2        NaN  0.918576  1.206796  0.913116       NaN  0.956194  \n",
       "3   0.614099  1.297301       NaN       NaN       NaN  1.147545  \n",
       "4        NaN  1.195183       NaN  0.818332  1.236331       NaN  \n",
       "..       ...       ...       ...       ...       ...       ...  \n",
       "95  4.156489  4.127622       NaN       NaN       NaN       NaN  \n",
       "96       NaN       NaN  3.989815       NaN       NaN  4.267142  \n",
       "97  4.144648       NaN       NaN  4.116915  3.887823       NaN  \n",
       "98  3.960197       NaN       NaN       NaN  3.725288  4.122072  \n",
       "99       NaN       NaN  4.164773  4.104276       NaN       NaN  \n",
       "\n",
       "[100 rows x 20 columns]"
      ]
     },
     "execution_count": 488,
     "metadata": {},
     "output_type": "execute_result"
    }
   ],
   "source": [
    "df_view = pd.read_csv('https://raw.githubusercontent.com/guebin/DL2022/main/posts/I.%20Overview/2022-09-08-rcmd_view.csv')\n",
    "df_view"
   ]
  },
  {
   "cell_type": "markdown",
   "id": "18e90504-cbf3-49db-be54-05b8e1fba73a",
   "metadata": {},
   "source": [
    "## 모형"
   ]
  },
  {
   "cell_type": "markdown",
   "id": "4db51607-ce24-42d9-bb69-3742adf1e3fb",
   "metadata": {},
   "source": [
    "(편의상 바이어스를 제외하면) "
   ]
  },
  {
   "cell_type": "markdown",
   "id": "7c16a0e2-db16-4e64-b1e3-7a24e5ac2a62",
   "metadata": {},
   "source": [
    "`-` 특징벡터: \n",
    "\n",
    "- 유저1의 취향 = [커피를 좋아하는 정도, 홍차를 좋아하는 정도] \n",
    "- 아이템1의 특징 = [커피의 특징, 홍차인 특징] "
   ]
  },
  {
   "cell_type": "markdown",
   "id": "30bfd0b9-520c-403c-bb09-9c6b2bb9787e",
   "metadata": {},
   "source": [
    "`-` 평점\n",
    "\n",
    "- 유저1이 아이템1을 먹었을경우 평점: 유저1의 취향과 아이템1의 특징의 내적 = (유저1의 취향 $\\odot$ 아이템1의 특징).sum()"
   ]
  },
  {
   "cell_type": "markdown",
   "id": "8eaab4cd-0654-4f83-af23-332ee129c400",
   "metadata": {},
   "source": [
    "## 학습"
   ]
  },
  {
   "cell_type": "markdown",
   "id": "e1afdd09-8ff0-4041-b73b-2652f0c0228c",
   "metadata": {},
   "source": [
    "`(1)` dls "
   ]
  },
  {
   "cell_type": "code",
   "execution_count": 588,
   "id": "9d71a4eb-2c2e-46b0-89e6-430238d7994b",
   "metadata": {},
   "outputs": [],
   "source": [
    "dls = CollabDataLoaders.from_df(df)"
   ]
  },
  {
   "cell_type": "code",
   "execution_count": 589,
   "id": "30d0ac4f-49a6-47c7-b2a1-fa68eca10e11",
   "metadata": {},
   "outputs": [
    {
     "data": {
      "text/html": [
       "<div>\n",
       "<style scoped>\n",
       "    .dataframe tbody tr th:only-of-type {\n",
       "        vertical-align: middle;\n",
       "    }\n",
       "\n",
       "    .dataframe tbody tr th {\n",
       "        vertical-align: top;\n",
       "    }\n",
       "\n",
       "    .dataframe thead th {\n",
       "        text-align: right;\n",
       "    }\n",
       "</style>\n",
       "<table border=\"1\" class=\"dataframe\">\n",
       "  <thead>\n",
       "    <tr style=\"text-align: right;\">\n",
       "      <th></th>\n",
       "      <th>user</th>\n",
       "      <th>item</th>\n",
       "      <th>rating</th>\n",
       "      <th>item_name</th>\n",
       "    </tr>\n",
       "  </thead>\n",
       "  <tbody>\n",
       "    <tr>\n",
       "      <th>192</th>\n",
       "      <td>20</td>\n",
       "      <td>1</td>\n",
       "      <td>3.933610</td>\n",
       "      <td>커피1</td>\n",
       "    </tr>\n",
       "    <tr>\n",
       "      <th>794</th>\n",
       "      <td>80</td>\n",
       "      <td>12</td>\n",
       "      <td>4.125577</td>\n",
       "      <td>홍차2</td>\n",
       "    </tr>\n",
       "    <tr>\n",
       "      <th>554</th>\n",
       "      <td>56</td>\n",
       "      <td>17</td>\n",
       "      <td>3.826543</td>\n",
       "      <td>홍차7</td>\n",
       "    </tr>\n",
       "    <tr>\n",
       "      <th>524</th>\n",
       "      <td>53</td>\n",
       "      <td>3</td>\n",
       "      <td>1.170372</td>\n",
       "      <td>커피3</td>\n",
       "    </tr>\n",
       "    <tr>\n",
       "      <th>175</th>\n",
       "      <td>18</td>\n",
       "      <td>10</td>\n",
       "      <td>4.170460</td>\n",
       "      <td>커피10</td>\n",
       "    </tr>\n",
       "    <tr>\n",
       "      <th>...</th>\n",
       "      <td>...</td>\n",
       "      <td>...</td>\n",
       "      <td>...</td>\n",
       "      <td>...</td>\n",
       "    </tr>\n",
       "    <tr>\n",
       "      <th>896</th>\n",
       "      <td>90</td>\n",
       "      <td>12</td>\n",
       "      <td>4.391382</td>\n",
       "      <td>홍차2</td>\n",
       "    </tr>\n",
       "    <tr>\n",
       "      <th>849</th>\n",
       "      <td>85</td>\n",
       "      <td>3</td>\n",
       "      <td>0.693932</td>\n",
       "      <td>커피3</td>\n",
       "    </tr>\n",
       "    <tr>\n",
       "      <th>746</th>\n",
       "      <td>75</td>\n",
       "      <td>12</td>\n",
       "      <td>4.301711</td>\n",
       "      <td>홍차2</td>\n",
       "    </tr>\n",
       "    <tr>\n",
       "      <th>787</th>\n",
       "      <td>79</td>\n",
       "      <td>14</td>\n",
       "      <td>3.930048</td>\n",
       "      <td>홍차4</td>\n",
       "    </tr>\n",
       "    <tr>\n",
       "      <th>100</th>\n",
       "      <td>11</td>\n",
       "      <td>20</td>\n",
       "      <td>1.145191</td>\n",
       "      <td>홍차10</td>\n",
       "    </tr>\n",
       "  </tbody>\n",
       "</table>\n",
       "<p>800 rows × 4 columns</p>\n",
       "</div>"
      ],
      "text/plain": [
       "     user  item    rating item_name\n",
       "192    20     1  3.933610       커피1\n",
       "794    80    12  4.125577       홍차2\n",
       "554    56    17  3.826543       홍차7\n",
       "524    53     3  1.170372       커피3\n",
       "175    18    10  4.170460      커피10\n",
       "..    ...   ...       ...       ...\n",
       "896    90    12  4.391382       홍차2\n",
       "849    85     3  0.693932       커피3\n",
       "746    75    12  4.301711       홍차2\n",
       "787    79    14  3.930048       홍차4\n",
       "100    11    20  1.145191      홍차10\n",
       "\n",
       "[800 rows x 4 columns]"
      ]
     },
     "execution_count": 589,
     "metadata": {},
     "output_type": "execute_result"
    }
   ],
   "source": [
    "dls.items"
   ]
  },
  {
   "cell_type": "markdown",
   "id": "f7e534bf-419c-40cd-b016-51f00dc5aa98",
   "metadata": {},
   "source": [
    "`(2)` lrnr "
   ]
  },
  {
   "cell_type": "code",
   "execution_count": 598,
   "id": "be633b91-7459-4f8b-b1a6-8193e89c516c",
   "metadata": {},
   "outputs": [],
   "source": [
    "lrnr = collab_learner(dls,n_factors=2) # 교재에는 y_range 를 설정하도록 되어있지만 설정 안해도 적합에는 크게 상관없음.."
   ]
  },
  {
   "cell_type": "markdown",
   "id": "91edfefa-bafa-4f6a-bb9e-342afe287999",
   "metadata": {},
   "source": [
    "`(3)` fit "
   ]
  },
  {
   "cell_type": "code",
   "execution_count": 591,
   "id": "527f7835-caa8-4b4f-ba7c-c62a6b5c916d",
   "metadata": {},
   "outputs": [
    {
     "data": {
      "text/html": [
       "\n",
       "<style>\n",
       "    /* Turns off some styling */\n",
       "    progress {\n",
       "        /* gets rid of default border in Firefox and Opera. */\n",
       "        border: none;\n",
       "        /* Needs to be in here for Safari polyfill so background images work as expected. */\n",
       "        background-size: auto;\n",
       "    }\n",
       "    progress:not([value]), progress:not([value])::-webkit-progress-bar {\n",
       "        background: repeating-linear-gradient(45deg, #7e7e7e, #7e7e7e 10px, #5c5c5c 10px, #5c5c5c 20px);\n",
       "    }\n",
       "    .progress-bar-interrupted, .progress-bar-interrupted::-webkit-progress-bar {\n",
       "        background: #F44336;\n",
       "    }\n",
       "</style>\n"
      ],
      "text/plain": [
       "<IPython.core.display.HTML object>"
      ]
     },
     "metadata": {},
     "output_type": "display_data"
    },
    {
     "data": {
      "text/html": [
       "<table border=\"1\" class=\"dataframe\">\n",
       "  <thead>\n",
       "    <tr style=\"text-align: left;\">\n",
       "      <th>epoch</th>\n",
       "      <th>train_loss</th>\n",
       "      <th>valid_loss</th>\n",
       "      <th>time</th>\n",
       "    </tr>\n",
       "  </thead>\n",
       "  <tbody>\n",
       "    <tr>\n",
       "      <td>0</td>\n",
       "      <td>5.409556</td>\n",
       "      <td>3.313535</td>\n",
       "      <td>00:00</td>\n",
       "    </tr>\n",
       "    <tr>\n",
       "      <td>1</td>\n",
       "      <td>3.724468</td>\n",
       "      <td>2.569444</td>\n",
       "      <td>00:00</td>\n",
       "    </tr>\n",
       "    <tr>\n",
       "      <td>2</td>\n",
       "      <td>2.855262</td>\n",
       "      <td>1.630986</td>\n",
       "      <td>00:00</td>\n",
       "    </tr>\n",
       "    <tr>\n",
       "      <td>3</td>\n",
       "      <td>2.051633</td>\n",
       "      <td>0.469137</td>\n",
       "      <td>00:00</td>\n",
       "    </tr>\n",
       "    <tr>\n",
       "      <td>4</td>\n",
       "      <td>1.483525</td>\n",
       "      <td>0.264474</td>\n",
       "      <td>00:00</td>\n",
       "    </tr>\n",
       "    <tr>\n",
       "      <td>5</td>\n",
       "      <td>1.096932</td>\n",
       "      <td>0.178709</td>\n",
       "      <td>00:00</td>\n",
       "    </tr>\n",
       "    <tr>\n",
       "      <td>6</td>\n",
       "      <td>0.824759</td>\n",
       "      <td>0.117894</td>\n",
       "      <td>00:00</td>\n",
       "    </tr>\n",
       "    <tr>\n",
       "      <td>7</td>\n",
       "      <td>0.630313</td>\n",
       "      <td>0.081575</td>\n",
       "      <td>00:00</td>\n",
       "    </tr>\n",
       "    <tr>\n",
       "      <td>8</td>\n",
       "      <td>0.487037</td>\n",
       "      <td>0.076569</td>\n",
       "      <td>00:00</td>\n",
       "    </tr>\n",
       "    <tr>\n",
       "      <td>9</td>\n",
       "      <td>0.380992</td>\n",
       "      <td>0.076578</td>\n",
       "      <td>00:00</td>\n",
       "    </tr>\n",
       "  </tbody>\n",
       "</table>"
      ],
      "text/plain": [
       "<IPython.core.display.HTML object>"
      ]
     },
     "metadata": {},
     "output_type": "display_data"
    }
   ],
   "source": [
    "lrnr.fit(10,0.1)"
   ]
  },
  {
   "cell_type": "markdown",
   "id": "d264c2d3-afd8-4652-a801-0c30d7c19170",
   "metadata": {},
   "source": [
    "`(4)` predict"
   ]
  },
  {
   "cell_type": "markdown",
   "id": "6fa6df51-d20b-4a0a-9586-8fb6b068e18d",
   "metadata": {},
   "source": [
    "(적합된 값 확인) "
   ]
  },
  {
   "cell_type": "code",
   "execution_count": 592,
   "id": "d763799d-51e4-499f-9eff-701ba54b3a60",
   "metadata": {},
   "outputs": [
    {
     "data": {
      "text/html": [
       "\n",
       "<style>\n",
       "    /* Turns off some styling */\n",
       "    progress {\n",
       "        /* gets rid of default border in Firefox and Opera. */\n",
       "        border: none;\n",
       "        /* Needs to be in here for Safari polyfill so background images work as expected. */\n",
       "        background-size: auto;\n",
       "    }\n",
       "    progress:not([value]), progress:not([value])::-webkit-progress-bar {\n",
       "        background: repeating-linear-gradient(45deg, #7e7e7e, #7e7e7e 10px, #5c5c5c 10px, #5c5c5c 20px);\n",
       "    }\n",
       "    .progress-bar-interrupted, .progress-bar-interrupted::-webkit-progress-bar {\n",
       "        background: #F44336;\n",
       "    }\n",
       "</style>\n"
      ],
      "text/plain": [
       "<IPython.core.display.HTML object>"
      ]
     },
     "metadata": {},
     "output_type": "display_data"
    },
    {
     "data": {
      "text/html": [],
      "text/plain": [
       "<IPython.core.display.HTML object>"
      ]
     },
     "metadata": {},
     "output_type": "display_data"
    },
    {
     "data": {
      "text/html": [
       "<table border=\"1\" class=\"dataframe\">\n",
       "  <thead>\n",
       "    <tr style=\"text-align: right;\">\n",
       "      <th></th>\n",
       "      <th>user</th>\n",
       "      <th>item</th>\n",
       "      <th>rating</th>\n",
       "      <th>rating_pred</th>\n",
       "    </tr>\n",
       "  </thead>\n",
       "  <tbody>\n",
       "    <tr>\n",
       "      <th>0</th>\n",
       "      <td>61.0</td>\n",
       "      <td>19.0</td>\n",
       "      <td>4.160296</td>\n",
       "      <td>4.037053</td>\n",
       "    </tr>\n",
       "    <tr>\n",
       "      <th>1</th>\n",
       "      <td>22.0</td>\n",
       "      <td>4.0</td>\n",
       "      <td>4.192549</td>\n",
       "      <td>3.940574</td>\n",
       "    </tr>\n",
       "    <tr>\n",
       "      <th>2</th>\n",
       "      <td>17.0</td>\n",
       "      <td>17.0</td>\n",
       "      <td>1.096392</td>\n",
       "      <td>0.967445</td>\n",
       "    </tr>\n",
       "    <tr>\n",
       "      <th>3</th>\n",
       "      <td>14.0</td>\n",
       "      <td>4.0</td>\n",
       "      <td>3.826174</td>\n",
       "      <td>4.002016</td>\n",
       "    </tr>\n",
       "    <tr>\n",
       "      <th>4</th>\n",
       "      <td>88.0</td>\n",
       "      <td>5.0</td>\n",
       "      <td>1.197540</td>\n",
       "      <td>0.968678</td>\n",
       "    </tr>\n",
       "    <tr>\n",
       "      <th>5</th>\n",
       "      <td>53.0</td>\n",
       "      <td>15.0</td>\n",
       "      <td>3.859582</td>\n",
       "      <td>3.966616</td>\n",
       "    </tr>\n",
       "    <tr>\n",
       "      <th>6</th>\n",
       "      <td>83.0</td>\n",
       "      <td>5.0</td>\n",
       "      <td>0.752025</td>\n",
       "      <td>0.789191</td>\n",
       "    </tr>\n",
       "    <tr>\n",
       "      <th>7</th>\n",
       "      <td>10.0</td>\n",
       "      <td>11.0</td>\n",
       "      <td>0.676153</td>\n",
       "      <td>0.978221</td>\n",
       "    </tr>\n",
       "    <tr>\n",
       "      <th>8</th>\n",
       "      <td>46.0</td>\n",
       "      <td>17.0</td>\n",
       "      <td>0.833476</td>\n",
       "      <td>0.908008</td>\n",
       "    </tr>\n",
       "  </tbody>\n",
       "</table>"
      ],
      "text/plain": [
       "<IPython.core.display.HTML object>"
      ]
     },
     "metadata": {},
     "output_type": "display_data"
    }
   ],
   "source": [
    "lrnr.show_results() # 누를때마다 결과다름"
   ]
  },
  {
   "cell_type": "markdown",
   "id": "eb65e3ec-3a8b-4a9e-a7ec-1511dfa0b0c5",
   "metadata": {},
   "source": [
    "(예측값) "
   ]
  },
  {
   "cell_type": "code",
   "execution_count": 594,
   "id": "03192cb5-91b2-4a9c-a2e5-66289a464d4b",
   "metadata": {},
   "outputs": [
    {
     "data": {
      "text/html": [
       "<div>\n",
       "<style scoped>\n",
       "    .dataframe tbody tr th:only-of-type {\n",
       "        vertical-align: middle;\n",
       "    }\n",
       "\n",
       "    .dataframe tbody tr th {\n",
       "        vertical-align: top;\n",
       "    }\n",
       "\n",
       "    .dataframe thead th {\n",
       "        text-align: right;\n",
       "    }\n",
       "</style>\n",
       "<table border=\"1\" class=\"dataframe\">\n",
       "  <thead>\n",
       "    <tr style=\"text-align: right;\">\n",
       "      <th></th>\n",
       "      <th>user</th>\n",
       "      <th>item</th>\n",
       "    </tr>\n",
       "  </thead>\n",
       "  <tbody>\n",
       "    <tr>\n",
       "      <th>0</th>\n",
       "      <td>1</td>\n",
       "      <td>9</td>\n",
       "    </tr>\n",
       "    <tr>\n",
       "      <th>1</th>\n",
       "      <td>1</td>\n",
       "      <td>10</td>\n",
       "    </tr>\n",
       "    <tr>\n",
       "      <th>2</th>\n",
       "      <td>1</td>\n",
       "      <td>11</td>\n",
       "    </tr>\n",
       "    <tr>\n",
       "      <th>3</th>\n",
       "      <td>1</td>\n",
       "      <td>12</td>\n",
       "    </tr>\n",
       "  </tbody>\n",
       "</table>\n",
       "</div>"
      ],
      "text/plain": [
       "   user  item\n",
       "0     1     9\n",
       "1     1    10\n",
       "2     1    11\n",
       "3     1    12"
      ]
     },
     "execution_count": 594,
     "metadata": {},
     "output_type": "execute_result"
    }
   ],
   "source": [
    "df_new = pd.DataFrame({'user':[1,1,1,1], 'item':[9,10,11,12]})\n",
    "df_new"
   ]
  },
  {
   "cell_type": "code",
   "execution_count": 595,
   "id": "d34289ab-d19a-4292-a314-5580631c9964",
   "metadata": {},
   "outputs": [
    {
     "data": {
      "text/html": [
       "\n",
       "<style>\n",
       "    /* Turns off some styling */\n",
       "    progress {\n",
       "        /* gets rid of default border in Firefox and Opera. */\n",
       "        border: none;\n",
       "        /* Needs to be in here for Safari polyfill so background images work as expected. */\n",
       "        background-size: auto;\n",
       "    }\n",
       "    progress:not([value]), progress:not([value])::-webkit-progress-bar {\n",
       "        background: repeating-linear-gradient(45deg, #7e7e7e, #7e7e7e 10px, #5c5c5c 10px, #5c5c5c 20px);\n",
       "    }\n",
       "    .progress-bar-interrupted, .progress-bar-interrupted::-webkit-progress-bar {\n",
       "        background: #F44336;\n",
       "    }\n",
       "</style>\n"
      ],
      "text/plain": [
       "<IPython.core.display.HTML object>"
      ]
     },
     "metadata": {},
     "output_type": "display_data"
    },
    {
     "data": {
      "text/html": [],
      "text/plain": [
       "<IPython.core.display.HTML object>"
      ]
     },
     "metadata": {},
     "output_type": "display_data"
    },
    {
     "data": {
      "text/plain": [
       "(tensor([4.0201, 4.0401, 0.9940, 0.8291]), None)"
      ]
     },
     "execution_count": 595,
     "metadata": {},
     "output_type": "execute_result"
    }
   ],
   "source": [
    "lrnr.get_preds(dl=dls.test_dl(df_new))"
   ]
  }
 ],
 "metadata": {
  "kernelspec": {
   "display_name": "Python 3",
   "language": "python",
   "name": "python3"
  },
  "language_info": {
   "codemirror_mode": {
    "name": "ipython",
    "version": 3
   },
   "file_extension": ".py",
   "mimetype": "text/x-python",
   "name": "python",
   "nbconvert_exporter": "python",
   "pygments_lexer": "ipython3",
   "version": "3.7.13"
  }
 },
 "nbformat": 4,
 "nbformat_minor": 5
}
