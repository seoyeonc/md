{
 "cells": [
  {
   "cell_type": "raw",
   "id": "eedfb6e5-8840-49c7-8dcb-63eb6f4d65e8",
   "metadata": {
    "id": "cac470df-29e7-4148-9bbd-d8b9a32fa570",
    "tags": []
   },
   "source": [
    "---\n",
    "title: \"study\"\n",
    "author: \"SEOYEON CHOI\"\n",
    "date: \"2022-12-08\"\n",
    "categories:\n",
    "  - Special Topics in Machine Learning\n",
    "---"
   ]
  },
  {
   "cell_type": "markdown",
   "id": "f5fab262-9beb-49db-926a-f8797d5be691",
   "metadata": {},
   "source": [
    "> study"
   ]
  },
  {
   "cell_type": "markdown",
   "id": "93a96385-9b4b-4a8a-9fbb-4b7036564cca",
   "metadata": {},
   "source": [
    "# a,b,c,d,e 를 표현함에 있어서 3개의 은닉노드면 충분하다. \n",
    "- 1개의 은닉노드 -> 2개의 문자를 표현할 수 있음. \n",
    "- 2개의 은닉노드 -> 4개의 문자를 표현할 수 있음. \n",
    "- 3개의 은닉노드 -> 8개의 문자를 표현할 수 있음."
   ]
  },
  {
   "cell_type": "markdown",
   "id": "8c5bc620-6d7e-448d-a802-33b7b2af97b3",
   "metadata": {},
   "source": [
    "# torch.nn.RNN(4,2)는 torch.nn.RNNCell(4,2)의 batch 버전이다. \n",
    "\n",
    "(for문이 포함된 버전이다)"
   ]
  },
  {
   "cell_type": "markdown",
   "id": "69a0277e-096c-4c2f-8fec-4d45807d5c13",
   "metadata": {},
   "source": [
    "# torch.nn.LSTM에서 batch size\n",
    "\n",
    " batch size = 전체데이터는 몇 개의 시계열이 있는지 = 전체 데이터를 몇개의 시계열로 쪼갤지\n",
    " \n",
    " - fastai, Dataloader의 batchsize 는 한 뭉치에 몇 개 있는지"
   ]
  },
  {
   "cell_type": "markdown",
   "id": "b2fbdcdd-5802-45b5-b9cc-faf552a7d995",
   "metadata": {},
   "source": [
    "# 원래 1은 단순히 observation의 차원이 아니다. 즉 $x_{n \\times p}$ 에서 $n$에 대응하는 차원으로 생각할 수 없다.\n",
    "\n",
    "- 그런데 (1) 단방향 (2) 조각내지 않은 시계열 (3) 중첩하지 않은 순환망에 한정하여서는 observation 처럼 생각해도 무방하다.\n",
    "\n",
    "- 현실적으로 (1)-(3)이 아닌 조건에서는 Cell 단위로 연산을 이용할 일이 없다. (느리거든요) // 그냥 이해용으로 구현\n",
    "\n",
    "- torch.nn.RNN 혹은 torch.nn.LSTM 으로 네트워크를 구성할시 _water의 dim을 명시할 일도 없다.\n",
    "\n",
    "- 오로지 고려해야 할 것은 입력시계열을 조각낼지 조각내지 않을지"
   ]
  },
  {
   "cell_type": "code",
   "execution_count": 2,
   "id": "1ed350a3-3b24-4f46-8b09-4d932c070f02",
   "metadata": {},
   "outputs": [],
   "source": [
    "import torch\n",
    "import pandas as pd\n",
    "import matplotlib.pyplot as plt"
   ]
  },
  {
   "cell_type": "code",
   "execution_count": 3,
   "id": "146b03a8-7847-4be7-9c55-ebf217af2429",
   "metadata": {},
   "outputs": [],
   "source": [
    "sig = torch.nn.Sigmoid()\n",
    "soft = torch.nn.Softmax(dim=1)\n",
    "tanh = torch.nn.Tanh()"
   ]
  },
  {
   "cell_type": "code",
   "execution_count": 4,
   "id": "a4444e97-576d-4ec3-bb38-01283de440d9",
   "metadata": {},
   "outputs": [],
   "source": [
    "def f(txt,mapping):\n",
    "    return [mapping[key] for key in txt] "
   ]
  },
  {
   "cell_type": "code",
   "execution_count": 5,
   "id": "3fb33ede-92a6-4f3f-970a-c0a57e43533b",
   "metadata": {},
   "outputs": [],
   "source": [
    "txt = list('ab')*100\n",
    "txt_x = txt[:-1]\n",
    "txt_y = txt[1:]"
   ]
  },
  {
   "cell_type": "code",
   "execution_count": 6,
   "id": "9203df12-bd96-4193-aa9a-17dc676d3d1f",
   "metadata": {},
   "outputs": [],
   "source": [
    "mapping = {'a':[1,0],'b':[0,1]}\n",
    "x = torch.tensor(f(txt_x,mapping)).float().reshape(-1,2)\n",
    "y = torch.tensor(f(txt_y,mapping)).float().reshape(-1,2)"
   ]
  },
  {
   "cell_type": "code",
   "execution_count": 7,
   "id": "3a75d95b-cfed-46dc-a30f-ee45ae11b63b",
   "metadata": {},
   "outputs": [],
   "source": [
    "class mynet(torch.nn.Module):\n",
    "    def __init__(self):\n",
    "        super().__init__()\n",
    "        ## 우리가 사용할 레이어를 정의 \n",
    "        self.l1 = torch.nn.Linear(in_features=2,out_features=1,bias=True)\n",
    "        self.a1 = torch.nn.Tanh()\n",
    "        self.l2 = torch.nn.Linear(in_features=1,out_features=2,bias=False)\n",
    "        ## 레이어 정의 끝\n",
    "    def forward(self,x):\n",
    "        ## yhat을 어떻게 구할것인지 정의 \n",
    "        yhat = self.l2(self.a1(self.l1(x)))\n",
    "        ## 정의 끝\n",
    "        return yhat"
   ]
  },
  {
   "cell_type": "code",
   "execution_count": 8,
   "id": "c6e23f25-a66b-4358-8b3c-cf7d6c7ada75",
   "metadata": {},
   "outputs": [],
   "source": [
    "net = mynet()"
   ]
  },
  {
   "cell_type": "code",
   "execution_count": 9,
   "id": "a114826a-065c-4f1c-b0d7-93638b2acc6a",
   "metadata": {},
   "outputs": [],
   "source": [
    "loss_fn = torch.nn.CrossEntropyLoss()\n",
    "optimizr = torch.optim.Adam(net.parameters())"
   ]
  },
  {
   "cell_type": "code",
   "execution_count": 10,
   "id": "4c26bb2d-5d45-40f5-967e-9e0b9bf07551",
   "metadata": {},
   "outputs": [],
   "source": [
    "for epoc in range(5000):\n",
    "    yhat = net(x)\n",
    "    loss = loss_fn(yhat,y)\n",
    "    loss.backward()\n",
    "    optimizr.step()\n",
    "    optimizr.zero_grad()"
   ]
  },
  {
   "cell_type": "markdown",
   "id": "5354340f-9773-4693-99a0-fd329845dd71",
   "metadata": {},
   "source": [
    "## 임베딩"
   ]
  },
  {
   "cell_type": "code",
   "execution_count": 11,
   "id": "02048300-2ff2-49d7-9a19-06b2762fc71d",
   "metadata": {},
   "outputs": [
    {
     "data": {
      "text/plain": [
       "(tensor([0, 1, 0, 1, 0]), tensor([1, 0, 1, 0, 1]))"
      ]
     },
     "execution_count": 11,
     "metadata": {},
     "output_type": "execute_result"
    }
   ],
   "source": [
    "mapping = {'a':0,'b':1}\n",
    "x = torch.tensor(f(txt_x,mapping))\n",
    "y = torch.tensor(f(txt_y,mapping))\n",
    "x[:5],y[:5]"
   ]
  },
  {
   "cell_type": "code",
   "execution_count": 12,
   "id": "bc5f457e-b4f8-422b-b1af-7de5b35853c1",
   "metadata": {},
   "outputs": [],
   "source": [
    "class mynet2(torch.nn.Module):\n",
    "    def __init__(self):\n",
    "        super().__init__()\n",
    "        ## 우리가 사용할 레이어를 정의 \n",
    "        self.l1 = torch.nn.Embedding(num_embeddings=2,embedding_dim=1)\n",
    "        self.a1 = torch.nn.Tanh()\n",
    "        self.l2 = torch.nn.Linear(in_features=1,out_features=2)\n",
    "        ## 레이어 정의 끝\n",
    "    def forward(self,x):\n",
    "        ## yhat을 어떻게 구할것인지 정의 \n",
    "        yhat = self.l2(self.a1(self.l1(x)))\n",
    "        ## 정의 끝\n",
    "        return yhat"
   ]
  },
  {
   "cell_type": "code",
   "execution_count": 13,
   "id": "1e8b5b2f-37f0-4a31-b242-f70c7be07ceb",
   "metadata": {},
   "outputs": [],
   "source": [
    "net = mynet2()"
   ]
  },
  {
   "cell_type": "code",
   "execution_count": 14,
   "id": "4146115f-fc77-41e9-8a2e-12e50815bdfa",
   "metadata": {},
   "outputs": [],
   "source": [
    "loss_fn = torch.nn.CrossEntropyLoss()\n",
    "optimizr = torch.optim.Adam(net.parameters())"
   ]
  },
  {
   "cell_type": "code",
   "execution_count": 15,
   "id": "5d982ca7-c9c1-44eb-b20f-7fb16645bcf7",
   "metadata": {},
   "outputs": [],
   "source": [
    "for epoc in range(5000):\n",
    "    yhat = net(x)\n",
    "    loss = loss_fn(yhat,y)\n",
    "    loss.backward()\n",
    "    optimizr.step()\n",
    "    optimizr.zero_grad()"
   ]
  },
  {
   "cell_type": "markdown",
   "id": "ba716ad9-828d-463e-bc47-fb0bab93f6cc",
   "metadata": {},
   "source": [
    "## 두 개의 은닉노드 이용"
   ]
  },
  {
   "cell_type": "code",
   "execution_count": 16,
   "id": "6750eff3-3957-4b2e-ae90-9b97fd8a656e",
   "metadata": {},
   "outputs": [],
   "source": [
    "txt = list('abcd')*100\n",
    "txt_x = txt[:-1]\n",
    "txt_y = txt[1:]"
   ]
  },
  {
   "cell_type": "code",
   "execution_count": 17,
   "id": "a595c890-4b47-4919-9e09-f06b684b8404",
   "metadata": {},
   "outputs": [
    {
     "data": {
      "text/plain": [
       "(tensor([0, 1, 2, 3, 0]), tensor([1, 2, 3, 0, 1]))"
      ]
     },
     "execution_count": 17,
     "metadata": {},
     "output_type": "execute_result"
    }
   ],
   "source": [
    "mapping = {'a':0,'b':1,'c':2,'d':3}\n",
    "x = torch.tensor(f(txt_x,mapping))\n",
    "y = torch.tensor(f(txt_y,mapping))\n",
    "x[:5],y[:5]"
   ]
  },
  {
   "cell_type": "code",
   "execution_count": 18,
   "id": "bef382fc-4458-4036-b273-4cb428fa07c3",
   "metadata": {},
   "outputs": [],
   "source": [
    "l1=torch.nn.Embedding(num_embeddings=4,embedding_dim=2)"
   ]
  },
  {
   "cell_type": "code",
   "execution_count": 19,
   "id": "aeb54070-36ae-484e-b4e3-ff4fb5adede1",
   "metadata": {},
   "outputs": [],
   "source": [
    "a1 = torch.nn.Tanh()"
   ]
  },
  {
   "cell_type": "code",
   "execution_count": 20,
   "id": "404dd0e4-c67d-43ac-977c-19ba8e0978b9",
   "metadata": {},
   "outputs": [],
   "source": [
    "l2 = torch.nn.Linear(in_features=2,out_features=4)"
   ]
  },
  {
   "cell_type": "code",
   "execution_count": 21,
   "id": "4ca48e0c-887a-4eb1-8be7-986d6cf97cc2",
   "metadata": {},
   "outputs": [],
   "source": [
    "net = torch.nn.Sequential(\n",
    "    l1,a1,l2)"
   ]
  },
  {
   "cell_type": "code",
   "execution_count": 22,
   "id": "af9b4ed8-7bd9-4631-9b9f-4bdc79739572",
   "metadata": {},
   "outputs": [],
   "source": [
    "loss_fn = torch.nn.CrossEntropyLoss()\n",
    "optimizr = torch.optim.Adam(net.parameters())"
   ]
  },
  {
   "cell_type": "code",
   "execution_count": 23,
   "id": "1dafc316-27c4-429f-bba4-1d1ea3d8cf4f",
   "metadata": {},
   "outputs": [],
   "source": [
    "for epoc in range(5000):\n",
    "    yhat=net(x)\n",
    "    loss = loss_fn(yhat,y)\n",
    "    loss.backward()\n",
    "    optimizr.step()\n",
    "    optimizr.zero_grad()"
   ]
  },
  {
   "cell_type": "code",
   "execution_count": 24,
   "id": "55575dae-6bae-4150-828d-5cfb4d7502e1",
   "metadata": {},
   "outputs": [],
   "source": [
    "hidden = net[:-1](x).data\n",
    "yhat = soft(net(x)).data"
   ]
  },
  {
   "cell_type": "code",
   "execution_count": 25,
   "id": "e043e863-68d1-451e-9e98-4d22b3170cb2",
   "metadata": {},
   "outputs": [
    {
     "data": {
      "text/plain": [
       "Sequential(\n",
       "  (0): Embedding(4, 2)\n",
       "  (1): Tanh()\n",
       ")"
      ]
     },
     "execution_count": 25,
     "metadata": {},
     "output_type": "execute_result"
    }
   ],
   "source": [
    "net[:-1]"
   ]
  },
  {
   "cell_type": "markdown",
   "id": "319cbf87-f135-428b-98f7-8651bea429bc",
   "metadata": {},
   "source": [
    "결과 시각화 코드 10주"
   ]
  },
  {
   "cell_type": "markdown",
   "id": "9bc31f3f-e11f-4636-b541-0fc790cbb161",
   "metadata": {},
   "source": [
    "## 순환신경망 Class 사용 RNN"
   ]
  },
  {
   "cell_type": "markdown",
   "id": "386ad318-305d-49ce-94a1-4a5cb7a7e225",
   "metadata": {},
   "source": [
    "10주"
   ]
  },
  {
   "cell_type": "code",
   "execution_count": 26,
   "id": "940a3851-e94a-4947-875f-3ffcc9aa2d04",
   "metadata": {},
   "outputs": [],
   "source": [
    "txt = list('AbAcAd')*100\n",
    "txt_x = txt[:-1]\n",
    "txt_y = txt[1:]\n",
    "x = torch.tensor(f(txt_x,{'A':0,'b':1,'c':2,'d':3}))\n",
    "y = torch.tensor(f(txt_y,{'A':0,'b':1,'c':2,'d':3}))\n",
    "x= torch.nn.functional.one_hot(x).float()\n",
    "y= torch.nn.functional.one_hot(y).float()"
   ]
  },
  {
   "cell_type": "code",
   "execution_count": 27,
   "id": "f9b925f7-2dc6-4c0a-b55c-103c71dbed57",
   "metadata": {},
   "outputs": [],
   "source": [
    "class rNNCell(torch.nn.Module):\n",
    "    def __init__(self):\n",
    "        super().__init__()\n",
    "        self.i2h = torch.nn.Linear(4,2) \n",
    "        self.h2h = torch.nn.Linear(2,2) \n",
    "        self.tanh = torch.nn.Tanh()\n",
    "    def forward(self,x,hidden):\n",
    "        hidden = self.tanh(self.i2h(x)+self.h2h(hidden))\n",
    "        return hidden"
   ]
  },
  {
   "cell_type": "code",
   "execution_count": 28,
   "id": "1e575357-dafb-4e96-aabf-4467318f5b1d",
   "metadata": {},
   "outputs": [],
   "source": [
    "torch.manual_seed(43052)\n",
    "rnncell = rNNCell()"
   ]
  },
  {
   "cell_type": "code",
   "execution_count": 29,
   "id": "417b7245-f31e-4b69-917b-6bc67b19e366",
   "metadata": {},
   "outputs": [],
   "source": [
    "torch.manual_seed(43052)\n",
    "cook = torch.nn.Linear(2,4) "
   ]
  },
  {
   "cell_type": "code",
   "execution_count": 30,
   "id": "5c33f594-6aef-4e68-973f-ea2996a0fc03",
   "metadata": {},
   "outputs": [],
   "source": [
    "loss_fn = torch.nn.CrossEntropyLoss() \n",
    "optimizr = torch.optim.Adam(list(rnncell.parameters())+list(cook.parameters()))"
   ]
  },
  {
   "cell_type": "code",
   "execution_count": 31,
   "id": "56f07469-fa54-4024-8716-7c0ffe2a2f30",
   "metadata": {},
   "outputs": [],
   "source": [
    "T = len(x) \n",
    "for epoc in range(100): \n",
    "    ## 1~2\n",
    "    loss = 0 \n",
    "    ht = torch.zeros(1,2) \n",
    "    for t in range(T):\n",
    "        xt,yt = x[[t]], y[[t]]\n",
    "        ht = rnncell(xt,ht) \n",
    "        ot = cook(ht) \n",
    "        loss = loss + loss_fn(ot,yt) \n",
    "    ## 3 \n",
    "    loss.backward()\n",
    "    ## 4 \n",
    "    optimizr.step()\n",
    "    optimizr.zero_grad()"
   ]
  },
  {
   "cell_type": "markdown",
   "id": "e55ea51d-6534-43b7-a6e9-84e19ecc7efd",
   "metadata": {},
   "source": [
    "시각화코드는 10주_순환신경망구현1-성공에"
   ]
  },
  {
   "cell_type": "markdown",
   "id": "dda5a489-1753-41f5-938a-9dbeebfb7cee",
   "metadata": {},
   "source": [
    "## 순환신경망 RNN"
   ]
  },
  {
   "cell_type": "code",
   "execution_count": 32,
   "id": "7185df05-b142-49c5-af1d-93753c3cdc92",
   "metadata": {},
   "outputs": [],
   "source": [
    "txt = list('AbAcAd')*100\n",
    "txt_x = txt[:-1]\n",
    "txt_y = txt[1:]\n",
    "x = torch.nn.functional.one_hot(torch.tensor(f(txt_x,{'A':0,'b':1,'c':2,'d':3}))).float()\n",
    "y = torch.nn.functional.one_hot(torch.tensor(f(txt_y,{'A':0,'b':1,'c':2,'d':3}))).float()"
   ]
  },
  {
   "cell_type": "code",
   "execution_count": 33,
   "id": "7e503c10-3314-4d61-a07d-119f3ecf970c",
   "metadata": {},
   "outputs": [],
   "source": [
    "torch.manual_seed(2) #1 \n",
    "rnn = torch.nn.RNN(4,3).to(\"cuda:0\") \n",
    "cook = torch.nn.Linear(3,4).to(\"cuda:0\")"
   ]
  },
  {
   "cell_type": "code",
   "execution_count": 34,
   "id": "dd203254-cfec-4a71-a44c-50be9768b967",
   "metadata": {},
   "outputs": [],
   "source": [
    "loss_fn = torch.nn.CrossEntropyLoss()\n",
    "optimizr = torch.optim.Adam(list(rnn.parameters())+list(cook.parameters()))"
   ]
  },
  {
   "cell_type": "code",
   "execution_count": 35,
   "id": "01b1980c-f3b6-4541-8715-84bc9e631a9c",
   "metadata": {},
   "outputs": [],
   "source": [
    "_water = torch.zeros(1,3).to(\"cuda:0\") \n",
    "for epoc in range(500):\n",
    "    ## 1\n",
    "    hidden,hT = rnn(x.to(\"cuda:0\"),_water) \n",
    "    output = cook(hidden) \n",
    "    ## 2 \n",
    "    loss = loss_fn(output,y.to(\"cuda:0\")) \n",
    "    ## 3 \n",
    "    loss.backward()\n",
    "    ## 4 \n",
    "    optimizr.step()\n",
    "    optimizr.zero_grad()"
   ]
  },
  {
   "cell_type": "code",
   "execution_count": 36,
   "id": "c2fc1534-2479-4a5f-93d6-aedc02715c0b",
   "metadata": {},
   "outputs": [],
   "source": [
    "yhat = soft(output)"
   ]
  },
  {
   "cell_type": "markdown",
   "id": "91f98dc1-f627-4708-abde-796ed6a37575",
   "metadata": {},
   "source": [
    "## 순환신경망 Class 사용 LSTM"
   ]
  },
  {
   "cell_type": "code",
   "execution_count": 37,
   "id": "7641d5ec-84a7-4449-b2f3-8fb35dfb9f81",
   "metadata": {},
   "outputs": [],
   "source": [
    "txt = list('hi?hello!!')*100 \n",
    "txt_x = txt[:-1]\n",
    "txt_y = txt[1:]\n",
    "mapping = {'!':0, '?':1,'h':2,'i':3,'e':4,'l':5,'o':6} \n",
    "x= torch.nn.functional.one_hot(torch.tensor(f(txt_x,mapping))).float().to(\"cuda:0\")\n",
    "y= torch.nn.functional.one_hot(torch.tensor(f(txt_y,mapping))).float().to(\"cuda:0\")"
   ]
  },
  {
   "cell_type": "code",
   "execution_count": 38,
   "id": "cc657cc3-158a-4b9b-a2d5-feab87c8a915",
   "metadata": {},
   "outputs": [],
   "source": [
    "class lSTMCell(torch.nn.Module):\n",
    "    def __init__(self):\n",
    "        super().__init__()\n",
    "        self.i2h = torch.nn.Linear(7,16)\n",
    "        self.h2h = torch.nn.Linear(4,16) \n",
    "        self.tanh = torch.nn.Tanh()\n",
    "    def forward(self,xt,past):\n",
    "        ht,ct = past \n",
    "        ifgo = self.i2h(xt) + self.h2h(ht) \n",
    "        it = sig(ifgo[0:4])\n",
    "        ft = sig(ifgo[4:8])\n",
    "        gt = tanh(ifgo[8:12])\n",
    "        ot = sig(ifgo[12:16])\n",
    "        ct = ft*ct + it*gt\n",
    "        ht = ot*self.tanh(ct) \n",
    "        return ht,ct"
   ]
  },
  {
   "cell_type": "code",
   "execution_count": 39,
   "id": "647d6137-976d-4882-8b54-ab9214f19d5e",
   "metadata": {},
   "outputs": [],
   "source": [
    "lstmcell = lSTMCell().to(\"cuda:0\")\n",
    "linr = torch.nn.Linear(4,7).to(\"cuda:0\")\n",
    "loss_fn = torch.nn.CrossEntropyLoss()\n",
    "optimizr = torch.optim.Adam(list(lstmcell.parameters())+list(linr.parameters()),lr=0.1)"
   ]
  },
  {
   "cell_type": "code",
   "execution_count": 40,
   "id": "d04170c8-5b0d-4f9c-9ae7-2b815327b339",
   "metadata": {},
   "outputs": [],
   "source": [
    "# 초기값셋팅\n",
    "torch.manual_seed(43052) \n",
    "_lstmcell = torch.nn.LSTMCell(7,4).to(\"cuda:0\")\n",
    "_linr = torch.nn.Linear(4,7).to(\"cuda:0\")\n",
    "lstmcell.i2h.weight.data = _lstmcell.weight_ih.data \n",
    "lstmcell.h2h.weight.data = _lstmcell.weight_hh.data \n",
    "lstmcell.i2h.bias.data = _lstmcell.bias_ih.data\n",
    "lstmcell.h2h.bias.data = _lstmcell.bias_hh.data\n",
    "linr.weight.data = _linr.weight.data \n",
    "linr.bias.data = _linr.bias.data "
   ]
  },
  {
   "cell_type": "code",
   "execution_count": 41,
   "id": "02012f71-dedd-4450-ad85-fcd42fa5e5ce",
   "metadata": {},
   "outputs": [],
   "source": [
    "for epoc in range(10):\n",
    "    ## 1\n",
    "    hidden = []     \n",
    "    ht = torch.zeros(4).to(\"cuda:0\")\n",
    "    ct = torch.zeros(4).to(\"cuda:0\")\n",
    "    for xt,yt in zip(x,y): \n",
    "        ht,ct = lstmcell(xt,(ht,ct))\n",
    "        hidden.append(ht) \n",
    "    hidden = torch.stack(hidden)\n",
    "    output = linr(hidden) \n",
    "    ## 2 \n",
    "    loss = loss_fn(output,y)\n",
    "    ## 3 \n",
    "    loss.backward()\n",
    "    ## 4 \n",
    "    optimizr.step()\n",
    "    optimizr.zero_grad()"
   ]
  },
  {
   "cell_type": "code",
   "execution_count": 42,
   "id": "feeccbf6-6025-4162-ac5a-a2ff03e27ae6",
   "metadata": {},
   "outputs": [],
   "source": [
    "yhat = soft(output)"
   ]
  },
  {
   "cell_type": "code",
   "execution_count": 43,
   "id": "bc2d93d6-394d-492b-8afc-2616d1917452",
   "metadata": {},
   "outputs": [
    {
     "data": {
      "text/plain": [
       "tensor([[0.0909, 0.0859, 0.0356,  ..., 0.1820, 0.2308, 0.1257],\n",
       "        [0.3443, 0.1629, 0.2108,  ..., 0.1008, 0.0506, 0.0774],\n",
       "        [0.3998, 0.0325, 0.5100,  ..., 0.0133, 0.0269, 0.0119],\n",
       "        ...,\n",
       "        [0.0655, 0.0525, 0.0455,  ..., 0.1652, 0.2569, 0.2828],\n",
       "        [0.3850, 0.0844, 0.3754,  ..., 0.0464, 0.0423, 0.0478],\n",
       "        [0.4012, 0.0217, 0.5328,  ..., 0.0084, 0.0254, 0.0065]],\n",
       "       device='cuda:0', grad_fn=<SoftmaxBackward0>)"
      ]
     },
     "execution_count": 43,
     "metadata": {},
     "output_type": "execute_result"
    }
   ],
   "source": [
    "yhat"
   ]
  },
  {
   "cell_type": "markdown",
   "id": "199dc3a5-4de0-40e2-88e6-dc9f65df4827",
   "metadata": {},
   "source": [
    "## 순환신경망 LSTM"
   ]
  },
  {
   "cell_type": "code",
   "execution_count": 44,
   "id": "9ab09ce9-4277-4bdc-aada-9edaa5eaefcd",
   "metadata": {},
   "outputs": [],
   "source": [
    "txt = (['one',',','two',',','three',',','four',',','five',',']*100)[:-1]\n",
    "mapping = {',':0, 'one':1, 'two':2, 'three':3, 'four':4, 'five':5} \n",
    "txt_x = txt[:-1]\n",
    "txt_y = txt[1:] \n",
    "x = torch.nn.functional.one_hot(torch.tensor(f(txt_x,mapping))).float().to(\"cuda:0\")\n",
    "y = torch.nn.functional.one_hot(torch.tensor(f(txt_y,mapping))).float().to(\"cuda:0\")"
   ]
  },
  {
   "cell_type": "code",
   "execution_count": 45,
   "id": "c94d7f4c-d938-47cc-a616-271298425e5c",
   "metadata": {},
   "outputs": [],
   "source": [
    "torch.manual_seed(43052) \n",
    "lstm = torch.nn.LSTM(6,20).to(\"cuda:0\") \n",
    "linr = torch.nn.Linear(20,6).to(\"cuda:0\") \n",
    "loss_fn = torch.nn.CrossEntropyLoss()\n",
    "optimizr = torch.optim.Adam(list(lstm.parameters())+list(linr.parameters()),lr=0.1)"
   ]
  },
  {
   "cell_type": "code",
   "execution_count": 46,
   "id": "809e310a-b4e0-4b9f-a7db-1e60c74d712c",
   "metadata": {},
   "outputs": [],
   "source": [
    "_water = torch.zeros(1,20).to(\"cuda:0\")\n",
    "for epoc in range(50):\n",
    "    ## 1 \n",
    "    hidden, (hT,cT) =lstm(x,(_water,_water))\n",
    "    output = linr(hidden) \n",
    "    ## 2 \n",
    "    loss = loss_fn(output,y) \n",
    "    ## 3 \n",
    "    loss.backward()\n",
    "    ## 4 \n",
    "    optimizr.step()\n",
    "    optimizr.zero_grad()     "
   ]
  },
  {
   "cell_type": "code",
   "execution_count": 48,
   "id": "c5135956-d1e8-49e1-bbec-d0621a06c390",
   "metadata": {},
   "outputs": [
    {
     "data": {
      "text/plain": [
       "tensor([[9.9875e-01, 1.5434e-06, 6.5715e-04, 1.8973e-05, 9.5753e-05, 4.7651e-04],\n",
       "        [3.0184e-06, 3.7971e-05, 9.8694e-01, 3.6741e-03, 3.6129e-04, 8.9867e-03],\n",
       "        [9.9999e-01, 2.9932e-06, 5.9745e-07, 8.3266e-06, 1.0668e-07, 4.8888e-07],\n",
       "        ...,\n",
       "        [3.9604e-05, 8.6161e-06, 1.5918e-03, 1.1244e-07, 9.9808e-01, 2.7556e-04],\n",
       "        [9.9993e-01, 3.3252e-07, 9.5155e-06, 4.8129e-07, 2.7274e-05, 3.2102e-05],\n",
       "        [8.0918e-07, 8.0716e-03, 5.9763e-04, 7.7044e-05, 6.8931e-05, 9.9118e-01]],\n",
       "       device='cuda:0', grad_fn=<SoftmaxBackward0>)"
      ]
     },
     "execution_count": 48,
     "metadata": {},
     "output_type": "execute_result"
    }
   ],
   "source": [
    "soft(output)"
   ]
  },
  {
   "cell_type": "markdown",
   "id": "afc7b70e-70de-453e-9a38-b0949c36b3b7",
   "metadata": {},
   "source": [
    "### 조각난 시계열"
   ]
  },
  {
   "cell_type": "markdown",
   "id": "b07a0ea1-d718-45df-a01b-bce352dde79e",
   "metadata": {},
   "source": [
    "12주차"
   ]
  },
  {
   "cell_type": "code",
   "execution_count": 121,
   "id": "9a082a74-1ef5-435d-ac3f-e13e96a8d038",
   "metadata": {},
   "outputs": [],
   "source": [
    "txt = list('hi!')*3 + list('hi?')*3\n",
    "txt_x = txt[:-1] \n",
    "txt_y = txt[1:] \n",
    "mapping = {'!':0, '?':1, 'h':2, 'i':3} \n",
    "x = torch.nn.functional.one_hot(torch.tensor(f(txt_x,mapping))).float().to(\"cuda:0\")\n",
    "y = torch.nn.functional.one_hot(torch.tensor(f(txt_y,mapping))).float().to(\"cuda:0\") "
   ]
  },
  {
   "cell_type": "code",
   "execution_count": 122,
   "id": "9c3fefca-06cc-4ca6-9ac0-c4529585fe82",
   "metadata": {},
   "outputs": [],
   "source": [
    "torch.manual_seed(43052) \n",
    "lstm = torch.nn.LSTM(4,10).to(\"cuda:0\")\n",
    "linr = torch.nn.Linear(10,4).to(\"cuda:0\")"
   ]
  },
  {
   "cell_type": "code",
   "execution_count": 123,
   "id": "f051b2ad-ce86-4e41-822c-4758594dfe6d",
   "metadata": {},
   "outputs": [],
   "source": [
    "loss_fn = torch.nn.CrossEntropyLoss() \n",
    "optimizr = torch.optim.Adam(list(lstm.parameters())+list(linr.parameters()),lr=0.1)"
   ]
  },
  {
   "cell_type": "code",
   "execution_count": 124,
   "id": "60c23932-b0a2-4f28-93f1-b972e19e0963",
   "metadata": {},
   "outputs": [],
   "source": [
    "for epoc in range(100):\n",
    "    ## 1 \n",
    "    hidden, _ = lstm(x) \n",
    "    output = linr(hidden) \n",
    "    ## 2 \n",
    "    loss = loss_fn(output,y) \n",
    "    ## 3 \n",
    "    loss.backward() \n",
    "    ## 4 \n",
    "    optimizr.step()\n",
    "    optimizr.zero_grad()"
   ]
  },
  {
   "cell_type": "code",
   "execution_count": 125,
   "id": "c68be896-7c52-460d-a972-9bdac274253b",
   "metadata": {},
   "outputs": [
    {
     "data": {
      "text/plain": [
       "<matplotlib.image.AxesImage at 0x7f1462eb7510>"
      ]
     },
     "execution_count": 125,
     "metadata": {},
     "output_type": "execute_result"
    },
    {
     "data": {
      "image/png": "[encoded data removed]",
      "text/plain": [
       "<Figure size 288x1152 with 1 Axes>"
      ]
     },
     "metadata": {
      "needs_background": "light"
     },
     "output_type": "display_data"
    }
   ],
   "source": [
    "hidden, _ = lstm(x)\n",
    "plt.matshow(soft(linr(hidden)).to(\"cpu\").data,cmap='bwr',vmin=-1,vmax=1)"
   ]
  },
  {
   "cell_type": "code",
   "execution_count": 130,
   "id": "20ad105a-a951-42ca-a730-5d209dafb8b0",
   "metadata": {},
   "outputs": [],
   "source": [
    "txt = list('hi!')*3 + list('hi?')*3\n",
    "txt1= txt[:9]\n",
    "txt2= txt[9:]\n",
    "txt1_x = txt1[:-1] \n",
    "txt1_y = txt1[1:] \n",
    "txt2_x = txt2[:-1] \n",
    "txt2_y = txt2[1:] \n",
    "mapping = {'!':0, '?':1, 'h':2, 'i':3} \n",
    "x1 = torch.nn.functional.one_hot(torch.tensor(f(txt1_x,mapping))).float().to(\"cuda:0\")\n",
    "y1 = torch.nn.functional.one_hot(torch.tensor(f(txt1_y,mapping))).float().to(\"cuda:0\")\n",
    "x2 = torch.nn.functional.one_hot(torch.tensor(f(txt2_x,mapping))).float().to(\"cuda:0\")\n",
    "y2 = torch.nn.functional.one_hot(torch.tensor(f(txt2_y,mapping))).float().to(\"cuda:0\")\n",
    "xx = torch.stack([x1,x2],axis=1)\n",
    "yy = torch.stack([y1,y2],axis=1)"
   ]
  },
  {
   "cell_type": "code",
   "execution_count": 131,
   "id": "fe103fad-9474-4d38-b113-b239cabc1cb0",
   "metadata": {},
   "outputs": [],
   "source": [
    "torch.manual_seed(43052) \n",
    "lstm = torch.nn.LSTM(4,10).to(\"cuda:0\")\n",
    "linr = torch.nn.Linear(10,4).to(\"cuda:0\")"
   ]
  },
  {
   "cell_type": "code",
   "execution_count": 132,
   "id": "2f380908-eaa5-46dd-81ce-1d3546983bab",
   "metadata": {},
   "outputs": [],
   "source": [
    "loss_fn = torch.nn.CrossEntropyLoss() \n",
    "optimizr = torch.optim.Adam(list(lstm.parameters())+list(linr.parameters()),lr=0.1)"
   ]
  },
  {
   "cell_type": "code",
   "execution_count": 133,
   "id": "f7179b88-2bd9-4d98-906e-67c3d0d9a656",
   "metadata": {},
   "outputs": [],
   "source": [
    "for epoc in range(100):\n",
    "    ## 1 \n",
    "    hidden, _ = lstm(xx) \n",
    "    output = linr(hidden) \n",
    "    ## 2 \n",
    "    loss = loss_fn(output[:,0,:],yy[:,0,:]) + loss_fn(output[:,1,:],yy[:,1,:])\n",
    "    ## 3 \n",
    "    loss.backward() \n",
    "    ## 4 \n",
    "    optimizr.step()\n",
    "    optimizr.zero_grad()"
   ]
  },
  {
   "cell_type": "code",
   "execution_count": 134,
   "id": "cd994fc6-c625-42a8-8a41-0b3b88c3ac50",
   "metadata": {},
   "outputs": [
    {
     "data": {
      "text/plain": [
       "<matplotlib.image.AxesImage at 0x7f1462e93690>"
      ]
     },
     "execution_count": 134,
     "metadata": {},
     "output_type": "execute_result"
    },
    {
     "data": {
      "image/png": "[encoded data removed]",
      "text/plain": [
       "<Figure size 432x288 with 2 Axes>"
      ]
     },
     "metadata": {
      "needs_background": "light"
     },
     "output_type": "display_data"
    }
   ],
   "source": [
    "fig , ax = plt.subplots(1,2) \n",
    "ax[0].matshow(soft(output[:,0,:]).to(\"cpu\").data,cmap='bwr',vmin=-1,vmax=1)\n",
    "ax[1].matshow(soft(output[:,1,:]).to(\"cpu\").data,cmap='bwr',vmin=-1,vmax=1)"
   ]
  }
 ],
 "metadata": {
  "kernelspec": {
   "display_name": "Python 3",
   "language": "python",
   "name": "python3"
  },
  "language_info": {
   "codemirror_mode": {
    "name": "ipython",
    "version": 3
   },
   "file_extension": ".py",
   "mimetype": "text/x-python",
   "name": "python",
   "nbconvert_exporter": "python",
   "pygments_lexer": "ipython3",
   "version": "3.7.13"
  }
 },
 "nbformat": 4,
 "nbformat_minor": 5
}
