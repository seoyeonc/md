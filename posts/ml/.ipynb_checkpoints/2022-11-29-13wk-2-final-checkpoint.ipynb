{
 "cells": [
  {
   "cell_type": "raw",
   "id": "53fa8846-5b53-4db0-b797-4616a4714518",
   "metadata": {},
   "source": [
    "---\n",
    "title: \"Deep Learning final example\"\n",
    "author: \"GUEBIN CHOI\"\n",
    "date: \"11/29/2022\"\n",
    "---"
   ]
  },
  {
   "cell_type": "markdown",
   "id": "6af1e16f-c841-40df-92a5-23928614cb21",
   "metadata": {},
   "source": [
    "> 기말고사"
   ]
  },
  {
   "cell_type": "code",
   "execution_count": 1,
   "id": "8896a7ce-2d1c-4798-8d16-6a4c5a4882b9",
   "metadata": {},
   "outputs": [],
   "source": [
    "import torch \n",
    "import matplotlib.pyplot as plt"
   ]
  },
  {
   "cell_type": "markdown",
   "id": "ff217136-e9c1-4e32-8f30-01a0b6927083",
   "metadata": {},
   "source": [
    "## `1`. hi?hello!! (90점)"
   ]
  },
  {
   "cell_type": "markdown",
   "id": "4018c918-f94e-44be-a9f0-4955900150cf",
   "metadata": {},
   "source": [
    "아래와 같은 데이터가 있다고 하자. "
   ]
  },
  {
   "cell_type": "code",
   "execution_count": 2,
   "id": "beefd4c6-44c1-475d-9011-3b42897ae220",
   "metadata": {},
   "outputs": [],
   "source": [
    "txt = list('hi?hello!!')*100 \n",
    "txt_x = txt[:-1]\n",
    "txt_y = txt[1:]"
   ]
  },
  {
   "cell_type": "code",
   "execution_count": 3,
   "id": "4ebe6ce7-b51f-4061-8737-e6d38e5cbc37",
   "metadata": {},
   "outputs": [
    {
     "data": {
      "text/plain": [
       "(['h', 'i', '?', 'h', 'e'], ['i', '?', 'h', 'e', 'l'])"
      ]
     },
     "execution_count": 3,
     "metadata": {},
     "output_type": "execute_result"
    }
   ],
   "source": [
    "txt_x[:5], txt_y[:5]"
   ]
  },
  {
   "cell_type": "markdown",
   "id": "b6d8cdaa-8c8c-4218-9097-70c4b5182da1",
   "metadata": {},
   "source": [
    "`txt_x`와 `txt_y`를 이용하여 아래와 같은 순서로 다음문자를 예측하고 싶은 신경망을 설계하고 싶다."
   ]
  },
  {
   "cell_type": "markdown",
   "id": "6ebd3ab0-ecf3-46c9-96cc-ddeadc156575",
   "metadata": {},
   "source": [
    "`h` $\\to$ `i` $\\to$ `?` $\\to$ `h` $\\to$ `e` $\\to$ `l` $\\to$ `l` $\\to$ `o` $\\to$ `!` $\\to$ `!` $\\to$ `h` $\\to$ `i` $\\to$ `?` $\\to$ `h` $\\to$ `e` $\\to$ $\\dots$"
   ]
  },
  {
   "cell_type": "markdown",
   "id": "3cac177f-e6c8-40a0-b322-73770472c520",
   "metadata": {},
   "source": [
    "***(1)-(6)*** 의 풀이에 공통적으로 필요한 과정 정리 "
   ]
  },
  {
   "cell_type": "code",
   "execution_count": 4,
   "id": "fc2bc385-c323-49a8-833a-ec2abaaeb56a",
   "metadata": {},
   "outputs": [],
   "source": [
    "def f(txt,mapping):\n",
    "    return [mapping[key] for key in txt] \n",
    "sig = torch.nn.Sigmoid()\n",
    "soft = torch.nn.Softmax(dim=1)\n",
    "tanh = torch.nn.Tanh()\n",
    "mapping = {'!':0, '?':1,'h':2,'i':3,'e':4,'l':5,'o':6} \n",
    "x= torch.nn.functional.one_hot(torch.tensor(f(txt_x,mapping))).float().to(\"cuda:0\")\n",
    "y= torch.nn.functional.one_hot(torch.tensor(f(txt_y,mapping))).float().to(\"cuda:0\")"
   ]
  },
  {
   "cell_type": "markdown",
   "id": "4d049e5d-496e-4649-a226-3653cd729c4d",
   "metadata": {},
   "source": [
    "`(1)` `torch.nn.RNN()`을 이용하여 다음문자를 예측하는 신경망을 설계하고 학습하라. "
   ]
  },
  {
   "cell_type": "markdown",
   "id": "1b5fbf5a-d091-4ba3-a72e-2d92a64372b4",
   "metadata": {},
   "source": [
    "(풀이)"
   ]
  },
  {
   "cell_type": "code",
   "execution_count": 5,
   "id": "9f6bc480-02d8-46ff-a350-cb38a8d32b97",
   "metadata": {},
   "outputs": [
    {
     "ename": "RuntimeError",
     "evalue": "input must have 3 dimensions, got 2",
     "output_type": "error",
     "traceback": [
      "\u001b[0;31m---------------------------------------------------------------------------\u001b[0m",
      "\u001b[0;31mRuntimeError\u001b[0m                              Traceback (most recent call last)",
      "\u001b[0;32m/tmp/ipykernel_877782/3555903652.py\u001b[0m in \u001b[0;36m<module>\u001b[0;34m\u001b[0m\n\u001b[1;32m      6\u001b[0m \u001b[0;32mfor\u001b[0m \u001b[0mepoc\u001b[0m \u001b[0;32min\u001b[0m \u001b[0mrange\u001b[0m\u001b[0;34m(\u001b[0m\u001b[0;36m500\u001b[0m\u001b[0;34m)\u001b[0m\u001b[0;34m:\u001b[0m\u001b[0;34m\u001b[0m\u001b[0;34m\u001b[0m\u001b[0m\n\u001b[1;32m      7\u001b[0m     \u001b[0;31m## 1\u001b[0m\u001b[0;34m\u001b[0m\u001b[0;34m\u001b[0m\u001b[0;34m\u001b[0m\u001b[0m\n\u001b[0;32m----> 8\u001b[0;31m     \u001b[0mhidden\u001b[0m\u001b[0;34m,\u001b[0m \u001b[0mhT\u001b[0m \u001b[0;34m=\u001b[0m \u001b[0mrnn\u001b[0m\u001b[0;34m(\u001b[0m\u001b[0mx\u001b[0m\u001b[0;34m,\u001b[0m\u001b[0m_water\u001b[0m\u001b[0;34m)\u001b[0m\u001b[0;34m\u001b[0m\u001b[0;34m\u001b[0m\u001b[0m\n\u001b[0m\u001b[1;32m      9\u001b[0m     \u001b[0moutput\u001b[0m \u001b[0;34m=\u001b[0m \u001b[0mlinr\u001b[0m\u001b[0;34m(\u001b[0m\u001b[0mhidden\u001b[0m\u001b[0;34m)\u001b[0m\u001b[0;34m\u001b[0m\u001b[0;34m\u001b[0m\u001b[0m\n\u001b[1;32m     10\u001b[0m     \u001b[0;31m## 2\u001b[0m\u001b[0;34m\u001b[0m\u001b[0;34m\u001b[0m\u001b[0;34m\u001b[0m\u001b[0m\n",
      "\u001b[0;32m~/anaconda3/envs/csy/lib/python3.8/site-packages/torch/nn/modules/module.py\u001b[0m in \u001b[0;36m_call_impl\u001b[0;34m(self, *input, **kwargs)\u001b[0m\n\u001b[1;32m   1100\u001b[0m         if not (self._backward_hooks or self._forward_hooks or self._forward_pre_hooks or _global_backward_hooks\n\u001b[1;32m   1101\u001b[0m                 or _global_forward_hooks or _global_forward_pre_hooks):\n\u001b[0;32m-> 1102\u001b[0;31m             \u001b[0;32mreturn\u001b[0m \u001b[0mforward_call\u001b[0m\u001b[0;34m(\u001b[0m\u001b[0;34m*\u001b[0m\u001b[0minput\u001b[0m\u001b[0;34m,\u001b[0m \u001b[0;34m**\u001b[0m\u001b[0mkwargs\u001b[0m\u001b[0;34m)\u001b[0m\u001b[0;34m\u001b[0m\u001b[0;34m\u001b[0m\u001b[0m\n\u001b[0m\u001b[1;32m   1103\u001b[0m         \u001b[0;31m# Do not call functions when jit is used\u001b[0m\u001b[0;34m\u001b[0m\u001b[0;34m\u001b[0m\u001b[0;34m\u001b[0m\u001b[0m\n\u001b[1;32m   1104\u001b[0m         \u001b[0mfull_backward_hooks\u001b[0m\u001b[0;34m,\u001b[0m \u001b[0mnon_full_backward_hooks\u001b[0m \u001b[0;34m=\u001b[0m \u001b[0;34m[\u001b[0m\u001b[0;34m]\u001b[0m\u001b[0;34m,\u001b[0m \u001b[0;34m[\u001b[0m\u001b[0;34m]\u001b[0m\u001b[0;34m\u001b[0m\u001b[0;34m\u001b[0m\u001b[0m\n",
      "\u001b[0;32m~/anaconda3/envs/csy/lib/python3.8/site-packages/torch/nn/modules/rnn.py\u001b[0m in \u001b[0;36mforward\u001b[0;34m(self, input, hx)\u001b[0m\n\u001b[1;32m    263\u001b[0m         \u001b[0;32massert\u001b[0m \u001b[0mhx\u001b[0m \u001b[0;32mis\u001b[0m \u001b[0;32mnot\u001b[0m \u001b[0;32mNone\u001b[0m\u001b[0;34m\u001b[0m\u001b[0;34m\u001b[0m\u001b[0m\n\u001b[1;32m    264\u001b[0m         \u001b[0minput\u001b[0m \u001b[0;34m=\u001b[0m \u001b[0mcast\u001b[0m\u001b[0;34m(\u001b[0m\u001b[0mTensor\u001b[0m\u001b[0;34m,\u001b[0m \u001b[0minput\u001b[0m\u001b[0;34m)\u001b[0m\u001b[0;34m\u001b[0m\u001b[0;34m\u001b[0m\u001b[0m\n\u001b[0;32m--> 265\u001b[0;31m         \u001b[0mself\u001b[0m\u001b[0;34m.\u001b[0m\u001b[0mcheck_forward_args\u001b[0m\u001b[0;34m(\u001b[0m\u001b[0minput\u001b[0m\u001b[0;34m,\u001b[0m \u001b[0mhx\u001b[0m\u001b[0;34m,\u001b[0m \u001b[0mbatch_sizes\u001b[0m\u001b[0;34m)\u001b[0m\u001b[0;34m\u001b[0m\u001b[0;34m\u001b[0m\u001b[0m\n\u001b[0m\u001b[1;32m    266\u001b[0m         \u001b[0m_impl\u001b[0m \u001b[0;34m=\u001b[0m \u001b[0m_rnn_impls\u001b[0m\u001b[0;34m[\u001b[0m\u001b[0mself\u001b[0m\u001b[0;34m.\u001b[0m\u001b[0mmode\u001b[0m\u001b[0;34m]\u001b[0m\u001b[0;34m\u001b[0m\u001b[0;34m\u001b[0m\u001b[0m\n\u001b[1;32m    267\u001b[0m         \u001b[0;32mif\u001b[0m \u001b[0mbatch_sizes\u001b[0m \u001b[0;32mis\u001b[0m \u001b[0;32mNone\u001b[0m\u001b[0;34m:\u001b[0m\u001b[0;34m\u001b[0m\u001b[0;34m\u001b[0m\u001b[0m\n",
      "\u001b[0;32m~/anaconda3/envs/csy/lib/python3.8/site-packages/torch/nn/modules/rnn.py\u001b[0m in \u001b[0;36mcheck_forward_args\u001b[0;34m(self, input, hidden, batch_sizes)\u001b[0m\n\u001b[1;32m    227\u001b[0m \u001b[0;34m\u001b[0m\u001b[0m\n\u001b[1;32m    228\u001b[0m     \u001b[0;32mdef\u001b[0m \u001b[0mcheck_forward_args\u001b[0m\u001b[0;34m(\u001b[0m\u001b[0mself\u001b[0m\u001b[0;34m,\u001b[0m \u001b[0minput\u001b[0m\u001b[0;34m:\u001b[0m \u001b[0mTensor\u001b[0m\u001b[0;34m,\u001b[0m \u001b[0mhidden\u001b[0m\u001b[0;34m:\u001b[0m \u001b[0mTensor\u001b[0m\u001b[0;34m,\u001b[0m \u001b[0mbatch_sizes\u001b[0m\u001b[0;34m:\u001b[0m \u001b[0mOptional\u001b[0m\u001b[0;34m[\u001b[0m\u001b[0mTensor\u001b[0m\u001b[0;34m]\u001b[0m\u001b[0;34m)\u001b[0m\u001b[0;34m:\u001b[0m\u001b[0;34m\u001b[0m\u001b[0;34m\u001b[0m\u001b[0m\n\u001b[0;32m--> 229\u001b[0;31m         \u001b[0mself\u001b[0m\u001b[0;34m.\u001b[0m\u001b[0mcheck_input\u001b[0m\u001b[0;34m(\u001b[0m\u001b[0minput\u001b[0m\u001b[0;34m,\u001b[0m \u001b[0mbatch_sizes\u001b[0m\u001b[0;34m)\u001b[0m\u001b[0;34m\u001b[0m\u001b[0;34m\u001b[0m\u001b[0m\n\u001b[0m\u001b[1;32m    230\u001b[0m         \u001b[0mexpected_hidden_size\u001b[0m \u001b[0;34m=\u001b[0m \u001b[0mself\u001b[0m\u001b[0;34m.\u001b[0m\u001b[0mget_expected_hidden_size\u001b[0m\u001b[0;34m(\u001b[0m\u001b[0minput\u001b[0m\u001b[0;34m,\u001b[0m \u001b[0mbatch_sizes\u001b[0m\u001b[0;34m)\u001b[0m\u001b[0;34m\u001b[0m\u001b[0;34m\u001b[0m\u001b[0m\n\u001b[1;32m    231\u001b[0m \u001b[0;34m\u001b[0m\u001b[0m\n",
      "\u001b[0;32m~/anaconda3/envs/csy/lib/python3.8/site-packages/torch/nn/modules/rnn.py\u001b[0m in \u001b[0;36mcheck_input\u001b[0;34m(self, input, batch_sizes)\u001b[0m\n\u001b[1;32m    199\u001b[0m         \u001b[0mexpected_input_dim\u001b[0m \u001b[0;34m=\u001b[0m \u001b[0;36m2\u001b[0m \u001b[0;32mif\u001b[0m \u001b[0mbatch_sizes\u001b[0m \u001b[0;32mis\u001b[0m \u001b[0;32mnot\u001b[0m \u001b[0;32mNone\u001b[0m \u001b[0;32melse\u001b[0m \u001b[0;36m3\u001b[0m\u001b[0;34m\u001b[0m\u001b[0;34m\u001b[0m\u001b[0m\n\u001b[1;32m    200\u001b[0m         \u001b[0;32mif\u001b[0m \u001b[0minput\u001b[0m\u001b[0;34m.\u001b[0m\u001b[0mdim\u001b[0m\u001b[0;34m(\u001b[0m\u001b[0;34m)\u001b[0m \u001b[0;34m!=\u001b[0m \u001b[0mexpected_input_dim\u001b[0m\u001b[0;34m:\u001b[0m\u001b[0;34m\u001b[0m\u001b[0;34m\u001b[0m\u001b[0m\n\u001b[0;32m--> 201\u001b[0;31m             raise RuntimeError(\n\u001b[0m\u001b[1;32m    202\u001b[0m                 'input must have {} dimensions, got {}'.format(\n\u001b[1;32m    203\u001b[0m                     expected_input_dim, input.dim()))\n",
      "\u001b[0;31mRuntimeError\u001b[0m: input must have 3 dimensions, got 2"
     ]
    }
   ],
   "source": [
    "rnn = torch.nn.RNN(7,8).to(\"cuda:0\")\n",
    "linr = torch.nn.Linear(8,7).to(\"cuda:0\")\n",
    "loss_fn = torch.nn.CrossEntropyLoss()\n",
    "optimizr = torch.optim.Adam(list(rnn.parameters())+list(linr.parameters()),lr=0.1)\n",
    "_water = torch.zeros(1,8).to(\"cuda:0\")\n",
    "for epoc in range(500):\n",
    "    ## 1\n",
    "    hidden, hT = rnn(x,_water)\n",
    "    output = linr(hidden)\n",
    "    ## 2\n",
    "    loss = loss_fn(output,y)\n",
    "    ## 3\n",
    "    loss.backward()\n",
    "    ## 4 \n",
    "    optimizr.step()\n",
    "    optimizr.zero_grad()\n",
    "yhat=soft(output)    \n",
    "plt.matshow(yhat.to(\"cpu\").data[:10],cmap='bwr',vmin=-1,vmax=1)\n",
    "plt.xticks(range(7),labels=['!','?','h','i','e','l','o']);"
   ]
  },
  {
   "cell_type": "markdown",
   "id": "1b49f986-6bc0-4fa6-80cd-cc4730e3effe",
   "metadata": {},
   "source": [
    "`(2)` `torch.nn.RNNCell()`을 이용하여 다음문자를 예측하는 신경망을 설계하고 학습하라. "
   ]
  },
  {
   "cell_type": "markdown",
   "id": "2576efd7-4947-4419-9f07-71ee0344f8ab",
   "metadata": {},
   "source": [
    "`(3)` `torch.nn.Module`을 상속받은 클래스를 정의하고 (2)의 결과와 동일한 적합값이 나오는 신경망을 설계한 뒤 학습하라. (초기값을 적절하게 설정할 것) \n",
    "\n",
    "- class를 이용하지 않으면 점수없음. \n",
    "- torch.nn.RNN(), torch.nn.RNNCell() 을 이용한 네트워크를 학습시킬시 점수 없음. (초기값을 셋팅하는 용도로는 torch.nn.RNN(), torch.nn.RNNCell()을 코드에 포함시키는 것이 가능) "
   ]
  },
  {
   "cell_type": "markdown",
   "id": "1a922a09-5f2a-4bb3-910a-9d442ac876d4",
   "metadata": {},
   "source": [
    "`(4)` `torch.nn.LSTM()`을 이용하여 다음문자를 예측하는 신경망을 설계하고 학습하라. "
   ]
  },
  {
   "cell_type": "markdown",
   "id": "d66fe783-1a33-428a-aae6-a7719338d905",
   "metadata": {},
   "source": [
    "(풀이)"
   ]
  },
  {
   "cell_type": "code",
   "execution_count": null,
   "id": "c986e43e-a855-4c17-a1a1-210a98e456d7",
   "metadata": {},
   "outputs": [],
   "source": [
    "lstm = torch.nn.LSTM(7,4).to(\"cuda:0\")\n",
    "linr = torch.nn.Linear(4,7).to(\"cuda:0\")\n",
    "loss_fn = torch.nn.CrossEntropyLoss()\n",
    "optimizr = torch.optim.Adam(list(lstm.parameters())+list(linr.parameters()),lr=0.1)\n",
    "_water = torch.zeros(1,4).to(\"cuda:0\")\n",
    "for epoc in range(500):\n",
    "    ## 1\n",
    "    hidden, (hT,cT) = lstm(x,(_water,_water))\n",
    "    output = linr(hidden)\n",
    "    ## 2\n",
    "    loss = loss_fn(output,y)\n",
    "    ## 3\n",
    "    loss.backward()\n",
    "    ## 4 \n",
    "    optimizr.step()\n",
    "    optimizr.zero_grad()\n",
    "yhat=soft(output)    \n",
    "plt.matshow(yhat.to(\"cpu\").data[:10],cmap='bwr',vmin=-1,vmax=1)\n",
    "plt.xticks(range(7),labels=['!','?','h','i','e','l','o']);"
   ]
  },
  {
   "cell_type": "markdown",
   "id": "688836c0-ee18-4e9e-8a8b-b48d0e62645b",
   "metadata": {},
   "source": [
    "`(5)` `torch.nn.LSTMCell()`을 이용하여 다음문자를 예측하는 신경망을 설계하고 학습하라. "
   ]
  },
  {
   "cell_type": "markdown",
   "id": "20b09f35-4000-427e-9a38-254cc72bf497",
   "metadata": {},
   "source": [
    "`(6)` (5)의 결과와 동일한 적합값을 출력하는 신경망을 직접설계한 뒤 학습시켜라. (초기값을 적절하게 설정할 것) \n",
    "\n",
    "- class를 이용하지 않아도 무방함. \n",
    "- torch.nn.LSTM(), torch.nn.LSTMCell() 을 이용한 네트워크를 학습시킬시 점수 없음. (초기값을 셋팅하는 용도로는 torch.nn.LSTM(), torch.nn.LSTMCell()을 코드에 포함시키는 것이 가능) "
   ]
  },
  {
   "cell_type": "markdown",
   "id": "dd667a5c-087c-4413-a409-930fc5284b76",
   "metadata": {},
   "source": [
    "## `2`. 다음을 읽고 참 거짓을 판단하여라. (10점) "
   ]
  },
  {
   "cell_type": "markdown",
   "id": "37fd5c19-1d62-4a58-90c7-6d3a08d333aa",
   "metadata": {},
   "source": [
    "`(1)` RNN은 LSTM에 비하여 장기기억에 유리하다."
   ]
  },
  {
   "cell_type": "markdown",
   "id": "ee273a03-e299-4714-a801-5411dee7fb49",
   "metadata": {},
   "source": [
    "`(2)`"
   ]
  },
  {
   "cell_type": "markdown",
   "id": "2ae4ede6-e2f2-4f75-9af1-7f8b23d6cc32",
   "metadata": {},
   "source": [
    "`(3)`"
   ]
  },
  {
   "cell_type": "markdown",
   "id": "ae65d675-bebd-484a-a22a-8809c67e4504",
   "metadata": {},
   "source": [
    "`(4)`"
   ]
  },
  {
   "cell_type": "markdown",
   "id": "b69d34e5-0d59-4fdd-a547-39c21f6d88bf",
   "metadata": {},
   "source": [
    "`(5)`"
   ]
  }
 ],
 "metadata": {
  "kernelspec": {
   "display_name": "Python 3 (ipykernel)",
   "language": "python",
   "name": "python3"
  },
  "language_info": {
   "codemirror_mode": {
    "name": "ipython",
    "version": 3
   },
   "file_extension": ".py",
   "mimetype": "text/x-python",
   "name": "python",
   "nbconvert_exporter": "python",
   "pygments_lexer": "ipython3",
   "version": "3.8.12"
  }
 },
 "nbformat": 4,
 "nbformat_minor": 5
}
