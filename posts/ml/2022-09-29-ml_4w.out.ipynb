{
  "cells": [
    {
      "cell_type": "markdown",
      "metadata": {},
      "source": [
        "# DNN (4주차)\n",
        "\n",
        "SEOYEON CHOI  \n",
        "2022-09-29\n",
        "\n",
        "기계학습 특강 (4주차) 9월28일 \\[회귀분석(2)–step1~4, step1의 다른표현,\n",
        "step4의 다른표현, 로지스틱 intro\\]\n",
        "\n",
        "## imports"
      ],
      "id": "b92e00f9-c513-4f8a-8a46-fac7a5eeb1fa"
    },
    {
      "cell_type": "code",
      "execution_count": 5,
      "metadata": {},
      "outputs": [],
      "source": [
        "import numpy as np\n",
        "import matplotlib.pyplot as plt \n",
        "import pandas as pd\n",
        "import torch"
      ],
      "id": "c929aede-8fe2-48a0-9e0f-c72322d15795"
    },
    {
      "cell_type": "markdown",
      "metadata": {},
      "source": [
        "## numpy, torch (선택학습)\n",
        "\n",
        "### numpy, torch는 엄청 비슷해요\n",
        "\n",
        "`-` torch.tensor() = np.array() 처럼 생각해도 무방"
      ],
      "id": "733a700a-47fb-49c9-89be-c71aad9a371b"
    },
    {
      "cell_type": "code",
      "execution_count": 6,
      "metadata": {
        "outputId": "4bdecf89-3a98-4cb7-e010-77690b983c18"
      },
      "outputs": [
        {
          "output_type": "display_data",
          "metadata": {},
          "data": {
            "text/plain": [
              "(array([1, 2, 3]), tensor([1, 2, 3]))"
            ]
          }
        }
      ],
      "source": [
        "np.array([1,2,3]), torch.tensor([1,2,3])"
      ],
      "id": "5d013d82-0a2d-4df4-9c14-15e43f6d83d4"
    },
    {
      "cell_type": "markdown",
      "metadata": {},
      "source": [
        "`-` 소수점의 정밀도에서 차이가 있음 (torch가 좀 더 쪼잔함)"
      ],
      "id": "61cf08b3-4a28-49a6-b14b-869cbee779c6"
    },
    {
      "cell_type": "code",
      "execution_count": 7,
      "metadata": {
        "outputId": "e715d7cc-fe24-4d9e-ab27-abe59037357b"
      },
      "outputs": [
        {
          "output_type": "display_data",
          "metadata": {},
          "data": {
            "text/plain": [
              "array([3.12345679])"
            ]
          }
        }
      ],
      "source": [
        "np.array([3.123456789])"
      ],
      "id": "aec0f1ed-cb64-425a-a215-1b8815b5c439"
    },
    {
      "cell_type": "code",
      "execution_count": 8,
      "metadata": {
        "outputId": "68a84a0c-383c-47f0-c7f0-1dff562ec64b"
      },
      "outputs": [
        {
          "output_type": "display_data",
          "metadata": {},
          "data": {
            "text/plain": [
              "tensor([3.1235])"
            ]
          }
        }
      ],
      "source": [
        "torch.tensor([3.123456789])"
      ],
      "id": "c90aa64e-1b41-477f-abcf-bd17acf6ca2d"
    },
    {
      "cell_type": "markdown",
      "metadata": {},
      "source": [
        "(서연필기)tensor는 gpu에 저장하기 때문에 메모리 아끼기 위해 정밀도가\n",
        "낮은 경향이 있다.\n",
        "\n",
        "`-` 기본적인 numpy 문법은 np 대신에 torch를 써도 무방 // 완전 같지는\n",
        "않음"
      ],
      "id": "815eab49-9eab-4976-85bf-387694d63d1f"
    },
    {
      "cell_type": "code",
      "execution_count": 9,
      "metadata": {
        "outputId": "2bc5fd35-628d-4f3c-fa63-7dba437a86a7"
      },
      "outputs": [
        {
          "output_type": "display_data",
          "metadata": {},
          "data": {
            "text/plain": [
              "(array([0, 1, 2, 3, 4, 5, 6, 7, 8, 9]), tensor([0, 1, 2, 3, 4, 5, 6, 7, 8, 9]))"
            ]
          }
        }
      ],
      "source": [
        "np.arange(10), torch.arange(10)"
      ],
      "id": "e9c6fa33-0b71-44ab-9aeb-f487ae8059e3"
    },
    {
      "cell_type": "code",
      "execution_count": 10,
      "metadata": {
        "outputId": "f978173f-5b5e-479e-c4e7-a9ca0252ada1"
      },
      "outputs": [
        {
          "output_type": "display_data",
          "metadata": {},
          "data": {
            "text/plain": [
              "(array([0.        , 0.11111111, 0.22222222, 0.33333333, 0.44444444,\n",
              "        0.55555556, 0.66666667, 0.77777778, 0.88888889, 1.        ]),\n",
              " tensor([0.0000, 0.1111, 0.2222, 0.3333, 0.4444, 0.5556, 0.6667, 0.7778, 0.8889,\n",
              "         1.0000]))"
            ]
          }
        }
      ],
      "source": [
        "np.linspace(0,1,10), torch.linspace(0,1,10)"
      ],
      "id": "e9614c5d-bf5f-40f2-bff6-fded665e3057"
    },
    {
      "cell_type": "code",
      "execution_count": 11,
      "metadata": {
        "outputId": "35517b5e-02b3-4801-f08d-4ebe97449fdb"
      },
      "outputs": [
        {
          "output_type": "display_data",
          "metadata": {},
          "data": {
            "text/plain": [
              "array([-0.90388568,  0.51779102,  0.73699131, -0.88030899,  1.71668715,\n",
              "       -0.70735651, -0.29752154,  1.10432159,  0.23592126,  0.91669421])"
            ]
          }
        }
      ],
      "source": [
        "np.random.randn(10)"
      ],
      "id": "aa506c5b-d8d0-4afd-a75f-530e524d8bd8"
    },
    {
      "cell_type": "code",
      "execution_count": 12,
      "metadata": {
        "outputId": "d49fc329-4a99-4b2c-e665-32968556294c"
      },
      "outputs": [
        {
          "output_type": "display_data",
          "metadata": {},
          "data": {
            "text/plain": [
              "tensor([ 0.6896,  1.8534, -0.3807,  1.3676,  0.0515,  0.4350,  0.6051, -1.5075,\n",
              "         0.1474,  0.3098])"
            ]
          }
        }
      ],
      "source": [
        "torch.randn(10)"
      ],
      "id": "30534d70-3724-4b48-afb2-52eefdc8981d"
    },
    {
      "cell_type": "markdown",
      "metadata": {},
      "source": [
        "### length $n$ vector, $n \\times 1$ col-vector, $1 \\times n$ row-vector\n",
        "\n",
        "브로드캐스팅 길이가 3인 벡터와 1인벡터를 더하면 오류 뜨지 않고 더해줌\n",
        "\n",
        "`-` 길이가 3인 벡터 선언방법"
      ],
      "id": "d954ff6d-e557-44eb-92a3-48a860c03944"
    },
    {
      "cell_type": "code",
      "execution_count": 13,
      "metadata": {
        "outputId": "300a3063-1be1-4558-96c9-ce9906e41fa3"
      },
      "outputs": [
        {
          "output_type": "display_data",
          "metadata": {},
          "data": {
            "text/plain": [
              "torch.Size([3])"
            ]
          }
        }
      ],
      "source": [
        "a = torch.tensor([1,2,3])\n",
        "a.shape"
      ],
      "id": "e6917569-59b2-4287-ba4e-d78366cfb193"
    },
    {
      "cell_type": "markdown",
      "metadata": {},
      "source": [
        "`-` 3x1 col-vec 선언방법\n",
        "\n",
        "(방법1)"
      ],
      "id": "fdb33ffb-98b7-4915-aa3d-86c5a67c98bd"
    },
    {
      "cell_type": "code",
      "execution_count": 14,
      "metadata": {
        "outputId": "3b2d1a9a-25a6-44a3-972f-1bbd044268cc"
      },
      "outputs": [
        {
          "output_type": "display_data",
          "metadata": {},
          "data": {
            "text/plain": [
              "torch.Size([3, 1])"
            ]
          }
        }
      ],
      "source": [
        "a = torch.tensor([[1],[2],[3]])\n",
        "a.shape"
      ],
      "id": "c918e903-2c68-4b30-a061-3f81bda6517e"
    },
    {
      "cell_type": "markdown",
      "metadata": {},
      "source": [
        "(방법2)"
      ],
      "id": "190b0d7a-2957-42de-bbec-195e1f667d0a"
    },
    {
      "cell_type": "code",
      "execution_count": 15,
      "metadata": {
        "outputId": "927b13f7-43ac-49cb-8ff0-21105bf892ef"
      },
      "outputs": [
        {
          "output_type": "display_data",
          "metadata": {},
          "data": {
            "text/plain": [
              "torch.Size([3, 1])"
            ]
          }
        }
      ],
      "source": [
        "a = torch.tensor([1,2,3]).reshape(3,1)\n",
        "a.shape"
      ],
      "id": "f6394a19-0ed4-4f1c-a578-cca5f7783e8e"
    },
    {
      "cell_type": "markdown",
      "metadata": {},
      "source": [
        "`-` 1x3 row-vec 선언방법\n",
        "\n",
        "(방법1)"
      ],
      "id": "6f11cfa5-22a3-41c2-9fc1-a007b13760a5"
    },
    {
      "cell_type": "code",
      "execution_count": 16,
      "metadata": {
        "outputId": "33a88e79-e5ac-42b3-86b1-a9e8316e2912"
      },
      "outputs": [
        {
          "output_type": "display_data",
          "metadata": {},
          "data": {
            "text/plain": [
              "torch.Size([1, 3])"
            ]
          }
        }
      ],
      "source": [
        "a = torch.tensor([[1,2,3]])\n",
        "a.shape"
      ],
      "id": "73a6b593-a743-4d2d-a66c-6513c741dff6"
    },
    {
      "cell_type": "markdown",
      "metadata": {},
      "source": [
        "(방법2)"
      ],
      "id": "3c497cfc-f31c-4782-8975-94220c66b794"
    },
    {
      "cell_type": "code",
      "execution_count": 17,
      "metadata": {
        "outputId": "6a3060ed-fb78-4844-ea5d-4cca01424c27"
      },
      "outputs": [
        {
          "output_type": "display_data",
          "metadata": {},
          "data": {
            "text/plain": [
              "torch.Size([1, 3])"
            ]
          }
        }
      ],
      "source": [
        "a = torch.tensor([1,2,3]).reshape(1,3)\n",
        "a.shape"
      ],
      "id": "955a9e9b-8622-445c-9e3e-007cb51370b1"
    },
    {
      "cell_type": "markdown",
      "metadata": {},
      "source": [
        "`-` 3x1 col-vec 선언방법, 1x3 row-vec 선언방법에서 `[[1],[2],[3]]` 혹은\n",
        "`[[1,2,3]]` 와 같은 표현이 이해안되면 아래링크로 가셔서\n",
        "\n",
        "https://guebin.github.io/STBDA2022/2022/03/14/(2주차)-3월14일.html\n",
        "\n",
        "첫번째 동영상 12:15 - 22:45 에 해당하는 분량을 학습하시길 바랍니다.\n",
        "\n",
        "### torch의 dtype\n",
        "\n",
        "`-` 기본적으로 torch는 소수점으로 저장되면 dtype=torch.float32 가 된다.\n",
        "(이걸로 맞추는게 편리함)"
      ],
      "id": "8098b34b-54c7-4daf-9918-de018cd88b88"
    },
    {
      "cell_type": "code",
      "execution_count": 18,
      "metadata": {
        "outputId": "680cff4c-12c0-4b98-ffe4-62db3191b972"
      },
      "outputs": [
        {
          "output_type": "display_data",
          "metadata": {},
          "data": {
            "text/plain": [
              "tensor([1.2300, 2.3400])"
            ]
          }
        }
      ],
      "source": [
        "tsr = torch.tensor([1.23,2.34])\n",
        "tsr"
      ],
      "id": "2e9b3c2d-ccf2-4e02-a1be-c64b909bfd31"
    },
    {
      "cell_type": "code",
      "execution_count": 19,
      "metadata": {
        "outputId": "8f665b6a-7245-4b79-9458-e829c9a1ffe1"
      },
      "outputs": [
        {
          "output_type": "display_data",
          "metadata": {},
          "data": {
            "text/plain": [
              "torch.float32"
            ]
          }
        }
      ],
      "source": [
        "tsr.dtype"
      ],
      "id": "dbac7faf-0195-4f78-90ca-72c851cfecd2"
    },
    {
      "cell_type": "markdown",
      "metadata": {},
      "source": [
        "`-` 정수로 선언하더라도 dtype를 torch.float32로 바꾸는게 유리함\n",
        "\n",
        "(안 좋은 선언예시)"
      ],
      "id": "cdf69320-85d7-41f7-8def-9782fe669def"
    },
    {
      "cell_type": "code",
      "execution_count": 20,
      "metadata": {
        "outputId": "0e6717bf-f9be-4b96-80af-0a1f87c0d6df"
      },
      "outputs": [
        {
          "output_type": "display_data",
          "metadata": {},
          "data": {
            "text/plain": [
              "tensor([1, 2])"
            ]
          }
        }
      ],
      "source": [
        "tsr = torch.tensor([1,2])\n",
        "tsr "
      ],
      "id": "e7e180ea-f28d-4e99-9c77-e684df4b1321"
    },
    {
      "cell_type": "code",
      "execution_count": 21,
      "metadata": {
        "outputId": "f4326bad-b6bb-4822-c6d5-f460f209b5e6"
      },
      "outputs": [
        {
          "output_type": "display_data",
          "metadata": {},
          "data": {
            "text/plain": [
              "torch.int64"
            ]
          }
        }
      ],
      "source": [
        "tsr.dtype"
      ],
      "id": "ebd8104b-cad6-40e8-a857-d5844f2cab16"
    },
    {
      "cell_type": "markdown",
      "metadata": {},
      "source": [
        "(좋은 선언예시1)"
      ],
      "id": "4138cec2-8ed7-41ca-863f-0656205dc6da"
    },
    {
      "cell_type": "code",
      "execution_count": 22,
      "metadata": {
        "outputId": "b48bd5d5-7486-4598-c0fb-10ec4f9d39e2"
      },
      "outputs": [
        {
          "output_type": "display_data",
          "metadata": {},
          "data": {
            "text/plain": [
              "tensor([1., 2.])"
            ]
          }
        }
      ],
      "source": [
        "tsr = torch.tensor([1,2],dtype=torch.float32)\n",
        "tsr "
      ],
      "id": "910a4edd-00cb-418a-8bb8-ccd5bf4f3238"
    },
    {
      "cell_type": "code",
      "execution_count": 23,
      "metadata": {
        "outputId": "ffb4ecbc-5750-49c6-8a6a-9a400571bee9"
      },
      "outputs": [
        {
          "output_type": "display_data",
          "metadata": {},
          "data": {
            "text/plain": [
              "torch.float32"
            ]
          }
        }
      ],
      "source": [
        "tsr.dtype"
      ],
      "id": "48a71560-6ec7-4023-a7f3-f9623d8a20b3"
    },
    {
      "cell_type": "markdown",
      "metadata": {},
      "source": [
        "(좋은 선언예시2)"
      ],
      "id": "8414732f-aa74-4d44-859f-c8ea58c1f8c9"
    },
    {
      "cell_type": "code",
      "execution_count": 24,
      "metadata": {
        "outputId": "903507d9-0f59-4657-9b93-34685dcb7a22"
      },
      "outputs": [
        {
          "output_type": "display_data",
          "metadata": {},
          "data": {
            "text/plain": [
              "tensor([1., 2.])"
            ]
          }
        }
      ],
      "source": [
        "tsr = torch.tensor([1,2.0])\n",
        "tsr "
      ],
      "id": "474c3163-06fd-448f-8828-9262793966af"
    },
    {
      "cell_type": "code",
      "execution_count": 25,
      "metadata": {
        "outputId": "83492e83-c761-4d5e-9daf-5048eb860e5f"
      },
      "outputs": [
        {
          "output_type": "display_data",
          "metadata": {},
          "data": {
            "text/plain": [
              "torch.float32"
            ]
          }
        }
      ],
      "source": [
        "tsr.dtype"
      ],
      "id": "ee176ddb-3039-4416-ba9b-2eb8069963b5"
    },
    {
      "cell_type": "markdown",
      "metadata": {},
      "source": [
        "(사실 int로 선언해도 나중에 float으로 바꾸면 큰 문제없음)"
      ],
      "id": "045dc3db-9495-4601-a177-8a6922fc6731"
    },
    {
      "cell_type": "code",
      "execution_count": 26,
      "metadata": {
        "outputId": "5a561d5c-2b7f-4451-e723-b0e293821ac0"
      },
      "outputs": [
        {
          "output_type": "display_data",
          "metadata": {},
          "data": {
            "text/plain": [
              "tensor([1., 2.])"
            ]
          }
        }
      ],
      "source": [
        "tsr = torch.tensor([1,2]).float()\n",
        "tsr"
      ],
      "id": "04a8fc33-60b7-4af0-9cac-7e7a21895e39"
    },
    {
      "cell_type": "code",
      "execution_count": 27,
      "metadata": {
        "outputId": "999a0ae6-edfb-4cdd-e5b6-506e16132cd2"
      },
      "outputs": [
        {
          "output_type": "display_data",
          "metadata": {},
          "data": {
            "text/plain": [
              "torch.float32"
            ]
          }
        }
      ],
      "source": [
        "tsr.dtype"
      ],
      "id": "7600f46e-abb5-4596-85aa-4169b7e57d0c"
    },
    {
      "cell_type": "markdown",
      "metadata": {},
      "source": [
        "`-` 왜 정수만으로 torch.tensor를 만들때에도 torch.float32로 바꾸는게\n",
        "유리할까? $\\to$ torch.tensor끼리의 연산에서 문제가 될 수 있음\n",
        "\n",
        "별 문제 없을수도 있지만"
      ],
      "id": "87dc124f-1687-4600-ae52-572b34d2ab56"
    },
    {
      "cell_type": "code",
      "execution_count": 28,
      "metadata": {
        "outputId": "b2d95733-2fed-43ab-a570-54eae8ffb566"
      },
      "outputs": [
        {
          "output_type": "display_data",
          "metadata": {},
          "data": {
            "text/plain": [
              "tensor([0., 0.])"
            ]
          }
        }
      ],
      "source": [
        "torch.tensor([1,2])-torch.tensor([1.0,2.0]) "
      ],
      "id": "471d54a1-dacd-45ba-a418-7265baf9a221"
    },
    {
      "cell_type": "markdown",
      "metadata": {},
      "source": [
        "아래와 같이 에러가 날수도 있다\n",
        "\n",
        "(에러1)"
      ],
      "id": "c9773f8c-e686-4cea-b925-0b454ed39311"
    },
    {
      "cell_type": "code",
      "execution_count": 29,
      "metadata": {
        "outputId": "a686ce98-c829-45d6-a945-1d9391b95a8b"
      },
      "outputs": [],
      "source": [
        "torch.tensor([[1.0,0.0],[0.0,1.0]]) @ torch.tensor([[1],[2]]) "
      ],
      "id": "b872920e-0c11-4c7d-bf7a-70d0eaab13d2"
    },
    {
      "cell_type": "markdown",
      "metadata": {},
      "source": [
        "(에러2)"
      ],
      "id": "36d5c217-b141-46f5-948a-0f069be5207f"
    },
    {
      "cell_type": "code",
      "execution_count": 30,
      "metadata": {
        "outputId": "c32907e5-ae0f-4db9-d195-3ec6947c4973"
      },
      "outputs": [],
      "source": [
        "torch.tensor([[1,0],[0,1]]) @ torch.tensor([[1.0],[2.0]])"
      ],
      "id": "1d760fb5-8c81-4992-b016-f1ab769aa1d3"
    },
    {
      "cell_type": "markdown",
      "metadata": {},
      "source": [
        "(해결1) 둘다 정수로 통일"
      ],
      "id": "d40c9f06-a9fd-4a0b-9afc-d8d23c521547"
    },
    {
      "cell_type": "code",
      "execution_count": 31,
      "metadata": {
        "outputId": "9b75d944-ae5b-437b-e247-a1c972bd2903"
      },
      "outputs": [
        {
          "output_type": "display_data",
          "metadata": {},
          "data": {
            "text/plain": [
              "tensor([[1],\n",
              "        [2]])"
            ]
          }
        }
      ],
      "source": [
        "torch.tensor([[1,0],[0,1]]) @ torch.tensor([[1],[2]])"
      ],
      "id": "9195ad97-bc85-4543-bfd8-458e6d50b580"
    },
    {
      "cell_type": "markdown",
      "metadata": {},
      "source": [
        "(해결2) 둘다 소수로 통일 \\<– 더 좋은 방법임"
      ],
      "id": "3c126f61-a547-415e-a867-e645f6b83eca"
    },
    {
      "cell_type": "code",
      "execution_count": 32,
      "metadata": {
        "outputId": "3d50be54-5196-47c0-ab37-8e634f92206c"
      },
      "outputs": [
        {
          "output_type": "display_data",
          "metadata": {},
          "data": {
            "text/plain": [
              "tensor([[1.],\n",
              "        [2.]])"
            ]
          }
        }
      ],
      "source": [
        "torch.tensor([[1.0,0.0],[0.0,1.0]]) @ torch.tensor([[1.0],[2.0]])"
      ],
      "id": "615ffdc6-b2e9-40a9-9b3d-4fe29d3c5328"
    },
    {
      "cell_type": "markdown",
      "metadata": {},
      "source": [
        "### shape of vector\n",
        "\n",
        "`-` 행렬곱셈에 대한 shape 조심"
      ],
      "id": "286d9627-fc3c-4d49-9cf8-e8fbdd03b206"
    },
    {
      "cell_type": "code",
      "execution_count": 33,
      "metadata": {},
      "outputs": [],
      "source": [
        "A = torch.tensor([[2.00,0.00],[0.00,3.00]]) \n",
        "b1 = torch.tensor([[-1.0,-5.0]])\n",
        "b2 = torch.tensor([[-1.0],[-5.0]])\n",
        "b3 = torch.tensor([-1.0,-5.0])"
      ],
      "id": "152c44a1-1cdd-458e-b48f-353917509c84"
    },
    {
      "cell_type": "code",
      "execution_count": 34,
      "metadata": {
        "outputId": "b0670598-05f7-4e87-bbe4-ab9aacc561b8"
      },
      "outputs": [
        {
          "output_type": "display_data",
          "metadata": {},
          "data": {
            "text/plain": [
              "(torch.Size([2, 2]), torch.Size([1, 2]), torch.Size([2, 1]), torch.Size([2]))"
            ]
          }
        }
      ],
      "source": [
        "A.shape,b1.shape,b2.shape,b3.shape"
      ],
      "id": "4295b4bb-e061-4a9b-82a2-781e48050c26"
    },
    {
      "cell_type": "markdown",
      "metadata": {},
      "source": [
        "`-` A@b1: 계산불가, b1@A: 계산가능"
      ],
      "id": "c537a394-6812-4b75-b3d7-0cbdeec6bf89"
    },
    {
      "cell_type": "code",
      "execution_count": 35,
      "metadata": {
        "outputId": "5709d0f1-6910-49b9-cafc-f7ab0d211730"
      },
      "outputs": [],
      "source": [
        "A@b1"
      ],
      "id": "ea28d368-10e4-499f-a283-daac93324a25"
    },
    {
      "cell_type": "code",
      "execution_count": 36,
      "metadata": {
        "outputId": "ab6f9fc2-b3a9-4a70-c1e1-eeb9569ae05f"
      },
      "outputs": [
        {
          "output_type": "display_data",
          "metadata": {},
          "data": {
            "text/plain": [
              "tensor([[ -2., -15.]])"
            ]
          }
        }
      ],
      "source": [
        "b1@A"
      ],
      "id": "56e69421-83bf-4c58-8a85-2add56d06ef8"
    },
    {
      "cell_type": "markdown",
      "metadata": {},
      "source": [
        "`-` A@b2: 계산가능, b2@A: 계산불가"
      ],
      "id": "0d31f6b9-0eec-47de-b3b4-1e316540c7c0"
    },
    {
      "cell_type": "code",
      "execution_count": 37,
      "metadata": {
        "outputId": "49ee8533-2bac-4c8c-b157-9cabf7a96cca"
      },
      "outputs": [
        {
          "output_type": "display_data",
          "metadata": {},
          "data": {
            "text/plain": [
              "tensor([[ -2.],\n",
              "        [-15.]])"
            ]
          }
        }
      ],
      "source": [
        "A@b2"
      ],
      "id": "a48cf626-adf8-4975-bb5a-f668bab1a536"
    },
    {
      "cell_type": "code",
      "execution_count": 38,
      "metadata": {
        "outputId": "f3b251d7-87b0-481a-d599-ac3910014f55"
      },
      "outputs": [],
      "source": [
        "b2@A"
      ],
      "id": "8ec27ef3-3279-42c0-a135-bbb4402245cc"
    },
    {
      "cell_type": "markdown",
      "metadata": {},
      "source": [
        "`-` A@b3: 계산가능, b3@A: 계산가능"
      ],
      "id": "becc63eb-239a-4bb5-9c0a-9b44b3ee1e6e"
    },
    {
      "cell_type": "code",
      "execution_count": 39,
      "metadata": {
        "outputId": "5ada4104-c6f7-4ce3-c9f8-917859a1dffb"
      },
      "outputs": [
        {
          "output_type": "display_data",
          "metadata": {},
          "data": {
            "text/plain": [
              "torch.Size([2])"
            ]
          }
        }
      ],
      "source": [
        "(A@b3).shape ## b3를 마치 col-vec 처럼 해석"
      ],
      "id": "aab20f69-96f2-4617-a8e8-d817c3e6b1b7"
    },
    {
      "cell_type": "code",
      "execution_count": 40,
      "metadata": {
        "outputId": "7da0b927-4f1f-44a9-ca83-f6e6f2e96fd9"
      },
      "outputs": [
        {
          "output_type": "display_data",
          "metadata": {},
          "data": {
            "text/plain": [
              "torch.Size([2])"
            ]
          }
        }
      ],
      "source": [
        "(b3@A).shape ## b3를 마지 row-vec 처럼 해석"
      ],
      "id": "ff96b6d7-1ef0-4cf1-a76d-47f15f2fbb25"
    },
    {
      "cell_type": "markdown",
      "metadata": {},
      "source": [
        "-   뒤에 놓으면 b3를 컬럼벡터로 인식\n",
        "-   앞에 놓으면 b3를 로우벡터로 인식\n",
        "\n",
        "`-` 브로드캐스팅"
      ],
      "id": "dd9d4d9c-d3ed-453e-b25d-7a02aa788c7f"
    },
    {
      "cell_type": "code",
      "execution_count": 41,
      "metadata": {
        "outputId": "9dbb7447-3a11-48c7-dd38-f6c6f05c13e5"
      },
      "outputs": [
        {
          "output_type": "display_data",
          "metadata": {},
          "data": {
            "text/plain": [
              "tensor([0, 1, 2])"
            ]
          }
        }
      ],
      "source": [
        "a = torch.tensor([1,2,3])\n",
        "a - 1"
      ],
      "id": "7d70843a-e9ae-4966-9d27-aae3bc78cabe"
    },
    {
      "cell_type": "code",
      "execution_count": 42,
      "metadata": {
        "outputId": "71b0e006-a14e-4ab4-b2cc-6c8a0f2f6731"
      },
      "outputs": [
        {
          "output_type": "display_data",
          "metadata": {},
          "data": {
            "text/plain": [
              "tensor([[0],\n",
              "        [1],\n",
              "        [2]])"
            ]
          }
        }
      ],
      "source": [
        "b = torch.tensor([[1],[2],[3]])\n",
        "b - 1"
      ],
      "id": "0ee30e16-ce83-4288-856b-16b8a78256f5"
    },
    {
      "cell_type": "markdown",
      "metadata": {},
      "source": [
        "계산이 되지 않아야 맞지 않나"
      ],
      "id": "1afea987-f862-4a6b-929b-a28b8965b861"
    },
    {
      "cell_type": "code",
      "execution_count": 43,
      "metadata": {
        "outputId": "8e1200f4-2887-41e9-f7ba-f827dde61dca"
      },
      "outputs": [
        {
          "output_type": "display_data",
          "metadata": {},
          "data": {
            "text/plain": [
              "tensor([[ 0,  1,  2],\n",
              "        [-1,  0,  1],\n",
              "        [-2, -1,  0]])"
            ]
          }
        }
      ],
      "source": [
        "a - b # a를 row-vec 로 해석"
      ],
      "id": "96d471c0-7592-440c-8968-530f55cfa511"
    },
    {
      "cell_type": "markdown",
      "metadata": {},
      "source": [
        "잘못 계싼할 수 있으니 dimension 명시해주자\n",
        "\n",
        "## Review: step1~4"
      ],
      "id": "542b119d-5294-4894-abf5-ac7c88d6d1f0"
    },
    {
      "cell_type": "code",
      "execution_count": 44,
      "metadata": {
        "outputId": "7198b12a-5347-4cd9-dfc3-5afddb73535c"
      },
      "outputs": [
        {
          "output_type": "display_data",
          "metadata": {},
          "data": {
            "text/html": [
              "\n",
              "<p>100 rows × 2 columns</p>\n",
              "</div>"
            ]
          }
        }
      ],
      "source": [
        "df = pd.read_csv(\"https://raw.githubusercontent.com/guebin/DL2022/master/_notebooks/2022-09-22-regression.csv\") \n",
        "df"
      ],
      "id": "a06ce253-aa98-42c7-98d4-8766071ae057"
    },
    {
      "cell_type": "code",
      "execution_count": 45,
      "metadata": {},
      "outputs": [
        {
          "output_type": "display_data",
          "metadata": {},
          "data": {
            "image/png": "[encoded data removed]"
          }
        }
      ],
      "source": [
        "plt.plot(df.x, df.y,'o')"
      ],
      "id": "044144db-1049-4268-b4cb-f77c6551edea"
    },
    {
      "cell_type": "code",
      "execution_count": 46,
      "metadata": {},
      "outputs": [
        {
          "output_type": "display_data",
          "metadata": {},
          "data": {
            "text/plain": [
              "tensor([-2.4821, -2.3621, -1.9973, -1.6239, -1.4792, -1.4635, -1.4509, -1.4435,\n",
              "        -1.3722, -1.3079, -1.1904, -1.1092, -1.1054, -1.0875, -0.9469, -0.9319,\n",
              "        -0.8643, -0.7858, -0.7549, -0.7421, -0.6948, -0.6103, -0.5830, -0.5621,\n",
              "        -0.5506, -0.5058, -0.4806, -0.4738, -0.4710, -0.4676, -0.3874, -0.3719,\n",
              "        -0.3688, -0.3159, -0.2775, -0.2772, -0.2734, -0.2721, -0.2668, -0.2155,\n",
              "        -0.2000, -0.1816, -0.1708, -0.1565, -0.1448, -0.1361, -0.1057, -0.0603,\n",
              "        -0.0559, -0.0214,  0.0655,  0.0684,  0.1195,  0.1420,  0.1521,  0.1568,\n",
              "         0.2646,  0.2656,  0.3157,  0.3220,  0.3461,  0.3984,  0.4190,  0.5443,\n",
              "         0.5579,  0.5913,  0.6148,  0.6469,  0.6469,  0.6523,  0.6674,  0.7059,\n",
              "         0.7141,  0.7822,  0.8154,  0.8668,  0.9291,  0.9804,  0.9853,  0.9941,\n",
              "         1.0376,  1.0393,  1.0697,  1.1024,  1.1126,  1.1532,  1.2289,  1.3403,\n",
              "         1.3494,  1.4279,  1.4994,  1.5031,  1.5437,  1.6789,  2.0832,  2.2444,\n",
              "         2.3935,  2.6056,  2.6057,  2.6632], dtype=torch.float64)"
            ]
          }
        }
      ],
      "source": [
        "torch.tensor(df.x)"
      ],
      "id": "2f581b46-aad3-4c11-8b57-650a3242864b"
    },
    {
      "cell_type": "markdown",
      "metadata": {},
      "source": [
        "(서연필기)\n",
        "\n",
        "float64 숫자 정밀 저장\n",
        "\n",
        "float32이면 `dtype=torch.float64)`꼬리표가 붙지 않음\n",
        "\n",
        "``` python\n",
        "_trt = torch.tensor(df.x).float()\n",
        "_trt = torch.tensor(df.x,dtype=float30)\n",
        "```\n",
        "\n",
        "같은 역할, 메모리 적게 쓰기 위해 타입 바꿔주자\n",
        "\n",
        "``` python\n",
        "x= torch.tensor(df.x,dtype=torch.float32).reshape(100,1)\n",
        "```\n",
        "\n",
        "컬럼형식으로 받아주기 위해 변경"
      ],
      "id": "0e7e06cd-2e73-4889-8396-ebf0c7f9793f"
    },
    {
      "cell_type": "code",
      "execution_count": 47,
      "metadata": {},
      "outputs": [],
      "source": [
        "x= torch.tensor(df.x,dtype=torch.float32).reshape(100,1)\n",
        "y= torch.tensor(df.y,dtype=torch.float32).reshape(100,1)\n",
        "_1= torch.ones([100,1])\n",
        "X = torch.concat([_1,x],axis=1)"
      ],
      "id": "aa8b0ffd-1404-4887-b5d7-c53a4ce3dffc"
    },
    {
      "cell_type": "markdown",
      "metadata": {},
      "source": [
        "``` pyhon\n",
        "torch.ones([100,1])\n",
        "torch.tensor([[1]*100,x]).T\n",
        "```\n",
        "\n",
        "같은 셋"
      ],
      "id": "7e11f222-1c65-4982-bc6a-6bff8096e1f4"
    },
    {
      "cell_type": "code",
      "execution_count": 48,
      "metadata": {
        "outputId": "dc1ddf28-0237-44c6-8214-bd507e78a690"
      },
      "outputs": [
        {
          "output_type": "display_data",
          "metadata": {},
          "data": {
            "text/plain": [
              "tensor([[-5.],\n",
              "        [10.]], requires_grad=True)"
            ]
          }
        }
      ],
      "source": [
        "What = torch.tensor([[-5.0],[10.0]],requires_grad=True)\n",
        "What"
      ],
      "id": "3e153a0e-2f9a-4be2-afe1-4f1c89681dce"
    },
    {
      "cell_type": "markdown",
      "metadata": {},
      "source": [
        "``` python\n",
        "requires_grad=True \n",
        "```\n",
        "\n",
        "reshape 미분 가능 옵션 주기 전에 shape 정해주자"
      ],
      "id": "3cefd35a-dc33-45bd-bb90-c989b8b4fa69"
    },
    {
      "cell_type": "code",
      "execution_count": 49,
      "metadata": {
        "outputId": "5e538b3e-cce3-41d7-ff7c-0c7763400863"
      },
      "outputs": [
        {
          "output_type": "display_data",
          "metadata": {},
          "data": {
            "image/png": "[encoded data removed]"
          }
        }
      ],
      "source": [
        "plt.plot(x,y,'o')\n",
        "#plt.plot(x,-5+10*x,'--')\n",
        "plt.plot(x,X@What.data,'--')"
      ],
      "id": "54b28c1a-b07f-4ea2-a46f-ea3980e817d7"
    },
    {
      "cell_type": "markdown",
      "metadata": {},
      "source": [
        "### ver1: loss = sum of squares error"
      ],
      "id": "f19869a3-acae-4c0f-a5d7-bd0be1bbf1de"
    },
    {
      "cell_type": "code",
      "execution_count": 50,
      "metadata": {},
      "outputs": [],
      "source": [
        "alpha = 1/1000\n",
        "What = torch.tensor([[-5.0],[10.0]],requires_grad=True)\n",
        "for epoc in range(30): \n",
        "    # step1: yhat \n",
        "    yhat = X@What \n",
        "    # step2: loss \n",
        "    loss = torch.sum((y-yhat)**2)\n",
        "    # step3: 미분 \n",
        "    loss.backward()\n",
        "    # step4: update \n",
        "    What.data = What.data - alpha * What.grad \n",
        "    What.grad = None # "
      ],
      "id": "21661af5-22c3-4c8a-ac8a-288208be1b3c"
    },
    {
      "cell_type": "code",
      "execution_count": 51,
      "metadata": {
        "outputId": "b173f119-3d76-41bc-ea7b-efbaacb0b68c"
      },
      "outputs": [
        {
          "output_type": "display_data",
          "metadata": {},
          "data": {
            "text/plain": [
              "tensor([[2.4290],\n",
              "        [4.0144]], requires_grad=True)"
            ]
          }
        }
      ],
      "source": [
        "What"
      ],
      "id": "2f06866c-d2b4-4b41-8d4b-18b86479187a"
    },
    {
      "cell_type": "code",
      "execution_count": 52,
      "metadata": {
        "outputId": "969c3e6d-3ed1-4982-e6e3-3e389a16b4b3"
      },
      "outputs": [
        {
          "output_type": "display_data",
          "metadata": {},
          "data": {
            "image/png": "[encoded data removed]"
          }
        }
      ],
      "source": [
        "plt.plot(x,y,'o') \n",
        "plt.plot(x,X@What.data,'--')"
      ],
      "id": "aa79c93b-3229-4e3d-8abb-522327439700"
    },
    {
      "cell_type": "markdown",
      "metadata": {},
      "source": [
        "-   note: 왜 What = What - alpha\\*What.grad 는 안되는지?"
      ],
      "id": "29b6ba1f-4521-48be-a7b5-13e916bb3d94"
    },
    {
      "cell_type": "code",
      "execution_count": 53,
      "metadata": {},
      "outputs": [
        {
          "output_type": "display_data",
          "metadata": {},
          "data": {
            "text/plain": [
              "tensor([[2.4290],\n",
              "        [4.0144]], requires_grad=True)"
            ]
          }
        }
      ],
      "source": [
        "What"
      ],
      "id": "b921abff-3a1c-49ed-a583-f5fb0f76dde2"
    },
    {
      "cell_type": "code",
      "execution_count": 54,
      "metadata": {},
      "outputs": [
        {
          "output_type": "display_data",
          "metadata": {},
          "data": {
            "text/plain": [
              "tensor([[2.4290],\n",
              "        [4.0144]])"
            ]
          }
        }
      ],
      "source": [
        "What.data"
      ],
      "id": "df6acd60-8236-4d7a-a30b-0a69a827f5c9"
    },
    {
      "cell_type": "markdown",
      "metadata": {},
      "source": [
        "What과 What.data는 달라요, requires_grad=True 미분 가능 꼬리표가 붙지\n",
        "않기 때문!\n",
        "\n",
        "### ver2: loss = mean squared error = MSE"
      ],
      "id": "4778e1de-ce58-408c-97d3-75f5b7b81359"
    },
    {
      "cell_type": "code",
      "execution_count": 55,
      "metadata": {},
      "outputs": [],
      "source": [
        "alpha = 1/10\n",
        "What = torch.tensor([[-5.0],[10.0]],requires_grad=True)\n",
        "for epoc in range(30): \n",
        "    # step1: yhat \n",
        "    yhat = X@What \n",
        "    # step2: loss \n",
        "    loss = torch.mean((y-yhat)**2)\n",
        "    # step3: 미분 \n",
        "    loss.backward()\n",
        "    # step4: update \n",
        "    What.data = What.data - alpha * What.grad \n",
        "    What.grad = None # "
      ],
      "id": "67cc60db-b8fb-4b5e-a516-343908c5b00c"
    },
    {
      "cell_type": "code",
      "execution_count": 56,
      "metadata": {
        "outputId": "246a5c48-dd44-4616-e4b7-54f30681f1a3"
      },
      "outputs": [
        {
          "output_type": "display_data",
          "metadata": {},
          "data": {
            "text/plain": [
              "tensor([[2.4290],\n",
              "        [4.0144]], requires_grad=True)"
            ]
          }
        }
      ],
      "source": [
        "What"
      ],
      "id": "ada0db67-f4fd-40d6-8081-07e915eb7491"
    },
    {
      "cell_type": "markdown",
      "metadata": {},
      "source": [
        "(서연필기)mean 정의 - 데이터를 더 효율적으로 학습 가능, 데이터 수만큼 안\n",
        "해도 돼, 계산 덜 해도 돼\n",
        "\n",
        "## step1의 다른버전 – net 설계만\n",
        "\n",
        "### ver1: net = torch.nn.Linear(1,1,bias=True)"
      ],
      "id": "86537a71-2219-481b-a158-b067ad646919"
    },
    {
      "cell_type": "code",
      "execution_count": 57,
      "metadata": {},
      "outputs": [
        {
          "output_type": "display_data",
          "metadata": {},
          "data": {
            "text/html": [
              "<pre><span class=\"ansi-red-fg\">Init signature:</span>\n",
              "torch<span class=\"ansi-blue-fg\">.</span>nn<span class=\"ansi-blue-fg\">.</span>Linear<span class=\"ansi-blue-fg\">(</span>\n",
              "    in_features<span class=\"ansi-blue-fg\">:</span> int<span class=\"ansi-blue-fg\">,</span>\n",
              "    out_features<span class=\"ansi-blue-fg\">:</span> int<span class=\"ansi-blue-fg\">,</span>\n",
              "    bias<span class=\"ansi-blue-fg\">:</span> bool <span class=\"ansi-blue-fg\">=</span> <span class=\"ansi-green-fg\">True</span><span class=\"ansi-blue-fg\">,</span>\n",
              "    device<span class=\"ansi-blue-fg\">=</span><span class=\"ansi-green-fg\">None</span><span class=\"ansi-blue-fg\">,</span>\n",
              "    dtype<span class=\"ansi-blue-fg\">=</span><span class=\"ansi-green-fg\">None</span><span class=\"ansi-blue-fg\">,</span>\n",
              "<span class=\"ansi-blue-fg\">)</span> <span class=\"ansi-blue-fg\">-&gt;</span> <span class=\"ansi-green-fg\">None</span>\n",
              "<span class=\"ansi-red-fg\">Docstring:</span>     \n",
              "Applies a linear transformation to the incoming data: :math:`y = xA^T + b`\n",
              "This module supports :ref:`TensorFloat32&lt;tf32_on_ampere&gt;`.\n",
              "Args:\n",
              "    in_features: size of each input sample\n",
              "    out_features: size of each output sample\n",
              "    bias: If set to ``False``, the layer will not learn an additive bias.\n",
              "        Default: ``True``\n",
              "Shape:\n",
              "    - Input: :math:`(*, H_{in})` where :math:`*` means any number of\n",
              "      dimensions including none and :math:`H_{in} = \\text{in\\_features}`.\n",
              "    - Output: :math:`(*, H_{out})` where all but the last dimension\n",
              "      are the same shape as the input and :math:`H_{out} = \\text{out\\_features}`.\n",
              "Attributes:\n",
              "    weight: the learnable weights of the module of shape\n",
              "        :math:`(\\text{out\\_features}, \\text{in\\_features})`. The values are\n",
              "        initialized from :math:`\\mathcal{U}(-\\sqrt{k}, \\sqrt{k})`, where\n",
              "        :math:`k = \\frac{1}{\\text{in\\_features}}`\n",
              "    bias:   the learnable bias of the module of shape :math:`(\\text{out\\_features})`.\n",
              "            If :attr:`bias` is ``True``, the values are initialized from\n",
              "            :math:`\\mathcal{U}(-\\sqrt{k}, \\sqrt{k})` where\n",
              "            :math:`k = \\frac{1}{\\text{in\\_features}}`\n",
              "Examples::\n",
              "    &gt;&gt;&gt; m = nn.Linear(20, 30)\n",
              "    &gt;&gt;&gt; input = torch.randn(128, 20)\n",
              "    &gt;&gt;&gt; output = m(input)\n",
              "    &gt;&gt;&gt; print(output.size())\n",
              "    torch.Size([128, 30])\n",
              "<span class=\"ansi-red-fg\">Init docstring:</span> Initializes internal Module state, shared by both nn.Module and ScriptModule.\n",
              "<span class=\"ansi-red-fg\">File:</span>           ~/anaconda3/envs/csy/lib/python3.8/site-packages/torch/nn/modules/linear.py\n",
              "<span class=\"ansi-red-fg\">Type:</span>           type\n",
              "<span class=\"ansi-red-fg\">Subclasses:</span>     NonDynamicallyQuantizableLinear, LazyLinear, Linear, Linear\n",
              "</pre>"
            ]
          }
        }
      ],
      "source": [
        "torch.nn.Linear?"
      ],
      "id": "c9d64e66-6021-4a1a-856f-c5b60cea0c3f"
    },
    {
      "cell_type": "markdown",
      "metadata": {},
      "source": [
        "input 잡는 법 - x의 컬럼 부분을 input이라고 생각하자"
      ],
      "id": "feaf9559-c713-4d18-8baf-c5137040bbb0"
    },
    {
      "cell_type": "code",
      "execution_count": 58,
      "metadata": {},
      "outputs": [
        {
          "output_type": "display_data",
          "metadata": {},
          "data": {
            "text/plain": [
              "torch.Size([100, 1])"
            ]
          }
        }
      ],
      "source": [
        "x.shape"
      ],
      "id": "f14361fc-4d5c-462a-a4ba-929f38f422d7"
    },
    {
      "cell_type": "markdown",
      "metadata": {},
      "source": [
        "output 잡는 법 - y의 컬럼 부분을 output이라고 생각하자"
      ],
      "id": "5620eca2-2739-4f86-bda0-5b35490d5bc4"
    },
    {
      "cell_type": "code",
      "execution_count": 59,
      "metadata": {},
      "outputs": [
        {
          "output_type": "display_data",
          "metadata": {},
          "data": {
            "text/plain": [
              "torch.Size([100, 1])"
            ]
          }
        }
      ],
      "source": [
        "y.shape"
      ],
      "id": "fec56164-89a3-4fde-b5f1-7e7f0a83283a"
    },
    {
      "cell_type": "code",
      "execution_count": 60,
      "metadata": {},
      "outputs": [],
      "source": [
        "_net =  torch.nn.Linear(in_features=1, out_features=1, bias=True) "
      ],
      "id": "6cd8fa44-d98b-4a7b-8b3d-148d9adba78e"
    },
    {
      "cell_type": "code",
      "execution_count": 61,
      "metadata": {},
      "outputs": [
        {
          "output_type": "display_data",
          "metadata": {},
          "data": {
            "text/plain": [
              "torch.Size([100, 1])"
            ]
          }
        }
      ],
      "source": [
        "_net(x).shape"
      ],
      "id": "26de3258-7b20-4276-8368-f7146febb06f"
    },
    {
      "cell_type": "code",
      "execution_count": 62,
      "metadata": {},
      "outputs": [
        {
          "output_type": "display_data",
          "metadata": {},
          "data": {
            "text/plain": [
              "Parameter containing:\n",
              "tensor([-0.1281], requires_grad=True)"
            ]
          }
        }
      ],
      "source": [
        "_net.bias # w0"
      ],
      "id": "a0483bf5-6461-42a9-8272-566a7e400846"
    },
    {
      "cell_type": "code",
      "execution_count": 63,
      "metadata": {},
      "outputs": [
        {
          "output_type": "display_data",
          "metadata": {},
          "data": {
            "text/plain": [
              "Parameter containing:\n",
              "tensor([[0.1433]], requires_grad=True)"
            ]
          }
        }
      ],
      "source": [
        "_net.weight # w1"
      ],
      "id": "9fb578c4-6c88-43d2-b141-4b013024291c"
    },
    {
      "cell_type": "code",
      "execution_count": 64,
      "metadata": {},
      "outputs": [],
      "source": [
        "torch.manual_seed(43052)\n",
        "net = torch.nn.Linear(in_features=1, out_features=1, bias=True) "
      ],
      "id": "9d0beed9-988a-4508-a0ee-3c0b97abe539"
    },
    {
      "cell_type": "code",
      "execution_count": 65,
      "metadata": {},
      "outputs": [
        {
          "output_type": "display_data",
          "metadata": {},
          "data": {
            "text/plain": [
              "(Parameter containing:\n",
              " tensor([-0.8470], requires_grad=True),\n",
              " Parameter containing:\n",
              " tensor([[-0.3467]], requires_grad=True))"
            ]
          }
        }
      ],
      "source": [
        "net.bias, net.weight"
      ],
      "id": "0488725c-43cc-4820-bf30-a01d227c1295"
    },
    {
      "cell_type": "code",
      "execution_count": 66,
      "metadata": {
        "outputId": "546e2440-9bd2-4609-d307-939699ec4f9e"
      },
      "outputs": [
        {
          "output_type": "display_data",
          "metadata": {},
          "data": {
            "image/png": "[encoded data removed]"
          }
        }
      ],
      "source": [
        "plt.plot(x,y,'o')\n",
        "plt.plot(x,net(x).data,'--')\n",
        "w0hat = -0.847\n",
        "w1hat = -0.3467\n",
        "plt.plot(x,w0hat+w1hat*x,'--')"
      ],
      "id": "c7dd1a97-0cde-47b3-a864-4c7ee0d7f245"
    },
    {
      "cell_type": "markdown",
      "metadata": {},
      "source": [
        "출력결과 같음을 확인\n",
        "\n",
        "`-` net에서 $\\hat{w}_0, \\hat{w}_1$ 의 값은?"
      ],
      "id": "7f03852f-3ea8-4a52-9c1b-adbcd44f76d6"
    },
    {
      "cell_type": "code",
      "execution_count": null,
      "metadata": {
        "outputId": "65450194-e1cc-4fee-f287-fa6c7cac98b8"
      },
      "outputs": [
        {
          "output_type": "display_data",
          "metadata": {},
          "data": {
            "text/plain": [
              "Parameter containing:\n",
              "tensor([[-0.3467]], requires_grad=True)"
            ]
          }
        }
      ],
      "source": [
        "net.weight # w1 "
      ],
      "id": "fca0f7d3-b773-4b4f-a49c-514749aafe4b"
    },
    {
      "cell_type": "code",
      "execution_count": null,
      "metadata": {
        "outputId": "f82772ec-ed22-4438-80c8-d5389b09f051"
      },
      "outputs": [
        {
          "output_type": "display_data",
          "metadata": {},
          "data": {
            "text/plain": [
              "Parameter containing:\n",
              "tensor([-0.8470], requires_grad=True)"
            ]
          }
        }
      ],
      "source": [
        "net.bias # w0 "
      ],
      "id": "d9b4e0e7-8e9c-4bb2-89ac-50828b699e4f"
    },
    {
      "cell_type": "code",
      "execution_count": null,
      "metadata": {},
      "outputs": [],
      "source": [
        "_yhat = -0.8470 + -0.3467*x "
      ],
      "id": "e246abba-3639-4289-8964-d64f0b0c5a5b"
    },
    {
      "cell_type": "code",
      "execution_count": 70,
      "metadata": {
        "outputId": "34fc4312-2598-4ad2-fbff-14f6d9282eca"
      },
      "outputs": [
        {
          "output_type": "display_data",
          "metadata": {},
          "data": {
            "image/png": "[encoded data removed]"
          }
        }
      ],
      "source": [
        "plt.plot(x,y,'o')\n",
        "plt.plot(x, _yhat,'--')\n",
        "plt.plot(x,net(x).data,'-.')"
      ],
      "id": "113b1bcd-6e88-4d3c-974a-99994f20557e"
    },
    {
      "cell_type": "markdown",
      "metadata": {},
      "source": [
        "`-` 수식표현:\n",
        "$\\hat{y}_i = \\hat{w}_0 + \\hat{w}_1 x_i = \\hat{b} + \\hat{w}x_i = -0.8470 + -0.3467 x_i$\n",
        "for all $i=1,2,\\dots,100$.\n",
        "\n",
        "### ver2: net = torch.nn.Linear(2,1,bias=False)\n",
        "\n",
        "`-` 입력이 x가 아닌 X를 넣고 싶다면? (보통 잘 안하긴 해요, 왜?\n",
        "bias=False로 주는게 귀찮거든요) - X는 바이어스가 고려된 상황"
      ],
      "id": "e5d998d6-8a96-404a-a75a-43f702cb7024"
    },
    {
      "cell_type": "code",
      "execution_count": 71,
      "metadata": {
        "outputId": "ec8e7a02-422d-40ad-cbc8-5fd236e66bf1"
      },
      "outputs": [],
      "source": [
        "net(X) ## 그대로 쓰면 당연히 에러"
      ],
      "id": "87c19fe9-dec0-40c0-9727-c155f7b7ca3e"
    },
    {
      "cell_type": "code",
      "execution_count": 72,
      "metadata": {},
      "outputs": [],
      "source": [
        "torch.manual_seed(43052)\n",
        "net = torch.nn.Linear(in_features=2, out_features=1, bias=False) "
      ],
      "id": "607e8818-30f5-437d-be3c-9dd134c6e005"
    },
    {
      "cell_type": "code",
      "execution_count": 73,
      "metadata": {},
      "outputs": [
        {
          "output_type": "display_data",
          "metadata": {},
          "data": {
            "text/plain": [
              "torch.Size([100, 1])"
            ]
          }
        }
      ],
      "source": [
        "net(X).shape"
      ],
      "id": "367c47ad-bd4c-4aad-9f37-389ff623bca8"
    },
    {
      "cell_type": "code",
      "execution_count": 74,
      "metadata": {
        "outputId": "3b6ace75-7d03-4533-f4fa-f52a9a5c8c00"
      },
      "outputs": [
        {
          "output_type": "display_data",
          "metadata": {},
          "data": {
            "text/plain": [
              "Parameter containing:\n",
              "tensor([[-0.2451, -0.5989]], requires_grad=True)"
            ]
          }
        }
      ],
      "source": [
        "net.weight"
      ],
      "id": "0b071453-5e9f-457b-8c38-2ed9fbe7e21f"
    },
    {
      "cell_type": "markdown",
      "metadata": {},
      "source": [
        "위에 $w_0,w_1$ 순"
      ],
      "id": "5a9d9f4d-3f45-46a6-b9d0-cc43af01660e"
    },
    {
      "cell_type": "code",
      "execution_count": 75,
      "metadata": {},
      "outputs": [],
      "source": [
        "net.bias"
      ],
      "id": "f6179f9d-4103-4a8c-9569-549eabc82e8c"
    },
    {
      "cell_type": "markdown",
      "metadata": {},
      "source": [
        "bias 없음을 확인"
      ],
      "id": "85b27a41-c3aa-4d3e-8b7e-f8cea6cc8311"
    },
    {
      "cell_type": "code",
      "execution_count": 76,
      "metadata": {
        "outputId": "43da2534-4606-4f78-811c-f435dca77240"
      },
      "outputs": [
        {
          "output_type": "display_data",
          "metadata": {},
          "data": {
            "image/png": "[encoded data removed]"
          }
        }
      ],
      "source": [
        "plt.plot(x,y,'o') \n",
        "plt.plot(x,net(X).data, '--')\n",
        "plt.plot(x,X@torch.tensor([[-0.2451],[-0.5989]]), '-.')"
      ],
      "id": "1b9fdad5-6ad1-4ae8-98b7-2a33218c4dbe"
    },
    {
      "cell_type": "markdown",
      "metadata": {},
      "source": [
        "`-` 수식표현:\n",
        "$\\hat{\\bf y} = {\\bf X} {\\bf \\hat W} = \\begin{bmatrix} 1 & x_1 \\\\ 1 & x_2 \\\\ \\dots & \\dots \\\\ 1 & x_{100} \\end{bmatrix} \\begin{bmatrix} -0.2451 \\\\ -0.5989 \\end{bmatrix}$\n",
        "\n",
        "### 잘못된사용1"
      ],
      "id": "f171eac0-0799-45ca-8664-ba895fe7cba4"
    },
    {
      "cell_type": "code",
      "execution_count": 77,
      "metadata": {},
      "outputs": [],
      "source": [
        "_x = x.reshape(-1)"
      ],
      "id": "eb9289bc-6609-48fa-80f5-b5d54842bbb3"
    },
    {
      "cell_type": "code",
      "execution_count": 78,
      "metadata": {
        "outputId": "69473010-c0d2-4b40-c696-9a2aad5ce7ee"
      },
      "outputs": [
        {
          "output_type": "display_data",
          "metadata": {},
          "data": {
            "text/plain": [
              "tensor([-2.4821, -2.3621, -1.9973, -1.6239, -1.4792, -1.4635, -1.4509, -1.4435,\n",
              "        -1.3722, -1.3079, -1.1904, -1.1092, -1.1054, -1.0875, -0.9469, -0.9319,\n",
              "        -0.8643, -0.7858, -0.7549, -0.7421, -0.6948, -0.6103, -0.5830, -0.5621,\n",
              "        -0.5506, -0.5058, -0.4806, -0.4738, -0.4710, -0.4676, -0.3874, -0.3719,\n",
              "        -0.3688, -0.3159, -0.2775, -0.2772, -0.2734, -0.2721, -0.2668, -0.2155,\n",
              "        -0.2000, -0.1816, -0.1708, -0.1565, -0.1448, -0.1361, -0.1057, -0.0603,\n",
              "        -0.0559, -0.0214,  0.0655,  0.0684,  0.1195,  0.1420,  0.1521,  0.1568,\n",
              "         0.2646,  0.2656,  0.3157,  0.3220,  0.3461,  0.3984,  0.4190,  0.5443,\n",
              "         0.5579,  0.5913,  0.6148,  0.6469,  0.6469,  0.6523,  0.6674,  0.7059,\n",
              "         0.7141,  0.7822,  0.8154,  0.8668,  0.9291,  0.9804,  0.9853,  0.9941,\n",
              "         1.0376,  1.0393,  1.0697,  1.1024,  1.1126,  1.1532,  1.2289,  1.3403,\n",
              "         1.3494,  1.4279,  1.4994,  1.5031,  1.5437,  1.6789,  2.0832,  2.2444,\n",
              "         2.3935,  2.6056,  2.6057,  2.6632])"
            ]
          }
        }
      ],
      "source": [
        "_x"
      ],
      "id": "a30c6513-3c9b-452f-b6cb-4bae17ca306f"
    },
    {
      "cell_type": "code",
      "execution_count": 79,
      "metadata": {},
      "outputs": [],
      "source": [
        "torch.manual_seed(43052)\n",
        "net = torch.nn.Linear(in_features=1,out_features=1) "
      ],
      "id": "011fb3e7-1aba-4a1e-8026-fdc25617cbee"
    },
    {
      "cell_type": "code",
      "execution_count": 80,
      "metadata": {
        "outputId": "2d0d29d1-68f2-4ef1-d4f3-b9aef3f6f30f"
      },
      "outputs": [],
      "source": [
        "net(_x)"
      ],
      "id": "b1ebe59e-e241-4bfc-872f-323c3482e9be"
    },
    {
      "cell_type": "markdown",
      "metadata": {},
      "source": [
        "``` python\n",
        "net(_x.reshape(100,1))\n",
        "```\n",
        "\n",
        "과 같이 정의\n",
        "\n",
        "### 잘못된사용2"
      ],
      "id": "de10f095-555a-4976-a6bc-27ee36341e88"
    },
    {
      "cell_type": "code",
      "execution_count": 81,
      "metadata": {},
      "outputs": [],
      "source": [
        "torch.manual_seed(43052)\n",
        "net = torch.nn.Linear(in_features=2,out_features=1) # bias=False를 깜빡.."
      ],
      "id": "e7a2f861-57f7-4341-a37a-f615e8311d93"
    },
    {
      "cell_type": "code",
      "execution_count": 82,
      "metadata": {
        "outputId": "80b28a16-7bd5-4836-befc-8dfceed1da52"
      },
      "outputs": [
        {
          "output_type": "display_data",
          "metadata": {},
          "data": {
            "text/plain": [
              "Parameter containing:\n",
              "tensor([[-0.2451, -0.5989]], requires_grad=True)"
            ]
          }
        }
      ],
      "source": [
        "net.weight"
      ],
      "id": "73da500d-0d6e-49df-88ed-84cb0321e973"
    },
    {
      "cell_type": "code",
      "execution_count": 83,
      "metadata": {
        "outputId": "630953ec-65b8-4399-926e-883531d2c25e"
      },
      "outputs": [
        {
          "output_type": "display_data",
          "metadata": {},
          "data": {
            "text/plain": [
              "Parameter containing:\n",
              "tensor([0.2549], requires_grad=True)"
            ]
          }
        }
      ],
      "source": [
        "net.bias"
      ],
      "id": "c1d20227-959f-463f-ab95-3d0a5cf057be"
    },
    {
      "cell_type": "code",
      "execution_count": 84,
      "metadata": {
        "outputId": "c00f97ff-7dcf-4e83-fe45-d252659e7561"
      },
      "outputs": [
        {
          "output_type": "display_data",
          "metadata": {},
          "data": {
            "image/png": "[encoded data removed]"
          }
        }
      ],
      "source": [
        "plt.plot(x,y,'o')\n",
        "plt.plot(x,net(X).data,'--')\n",
        "plt.plot(x,X@torch.tensor([[-0.2451],[-0.5989]])+0.2549,'-.')"
      ],
      "id": "e9d0eba5-ba30-4fad-a92d-5df92d1c2a0e"
    },
    {
      "cell_type": "markdown",
      "metadata": {},
      "source": [
        "-   수식표현:\n",
        "    $\\hat{\\bf y} = {\\bf X} {\\bf \\hat W} + \\hat{b}= \\begin{bmatrix} 1 & x_1 \\\\ 1 & x_2 \\\\ \\dots & \\dots \\\\ 1 & x_{100} \\end{bmatrix} \\begin{bmatrix} -0.2451 \\\\ -0.5989 \\end{bmatrix} + 0.2549$\n",
        "\n",
        "## step1의 다른버전 – 끝까지\n",
        "\n",
        "### ver1: net = torch.nn.Linear(1,1,bias=True)\n",
        "\n",
        "`-` 준비"
      ],
      "id": "7b6c7935-5294-45db-aafd-f6c497c868ab"
    },
    {
      "cell_type": "code",
      "execution_count": 85,
      "metadata": {
        "outputId": "10b66cbd-ad0c-4e40-bca3-8dd3ccd624bb"
      },
      "outputs": [
        {
          "output_type": "display_data",
          "metadata": {},
          "data": {
            "text/plain": [
              "(Parameter containing:\n",
              " tensor([[10.]], requires_grad=True),\n",
              " Parameter containing:\n",
              " tensor([-5.], requires_grad=True))"
            ]
          }
        }
      ],
      "source": [
        "net = torch.nn.Linear(1,1,bias=True)\n",
        "net.weight.data = torch.tensor([[10.0]])\n",
        "net.bias.data = torch.tensor([-5.0])\n",
        "net.weight,net.bias"
      ],
      "id": "1cbdd5b1-78f9-42ff-b39c-850b41431e1c"
    },
    {
      "cell_type": "markdown",
      "metadata": {},
      "source": [
        "`-` step1"
      ],
      "id": "cb2d71c9-8ff8-4e5f-8914-d22f9dd48923"
    },
    {
      "cell_type": "code",
      "execution_count": 86,
      "metadata": {},
      "outputs": [],
      "source": [
        "yhat = net(x) "
      ],
      "id": "fe5fd56b-fc6d-40f2-b986-8f5a410e79d9"
    },
    {
      "cell_type": "code",
      "execution_count": 87,
      "metadata": {
        "outputId": "c10e1cd0-9d49-4ea6-cdee-2006d8c05c62"
      },
      "outputs": [
        {
          "output_type": "display_data",
          "metadata": {},
          "data": {
            "image/png": "[encoded data removed]"
          }
        }
      ],
      "source": [
        "plt.plot(x,y,'o')\n",
        "plt.plot(x,net(x).data,'--')\n",
        "plt.plot(x,-5+10*x,'--')"
      ],
      "id": "60116b30-baab-442c-835b-d18746a351bf"
    },
    {
      "cell_type": "markdown",
      "metadata": {},
      "source": [
        "`-` step2"
      ],
      "id": "4076a880-0ca3-46d5-aa4a-aaee64306993"
    },
    {
      "cell_type": "code",
      "execution_count": 88,
      "metadata": {},
      "outputs": [],
      "source": [
        "loss = torch.mean((y-yhat)**2)"
      ],
      "id": "abf50ff0-1590-49e4-ab0f-5494d2e2a52a"
    },
    {
      "cell_type": "markdown",
      "metadata": {},
      "source": [
        "`-` step3\n",
        "\n",
        "(미분전)"
      ],
      "id": "21a9ed71-891c-417b-beaa-24e59a3ffe0b"
    },
    {
      "cell_type": "code",
      "execution_count": 89,
      "metadata": {
        "outputId": "29fa7688-9bc0-42ab-ee15-86fbd878b4b6"
      },
      "outputs": [
        {
          "output_type": "display_data",
          "metadata": {},
          "data": {
            "text/plain": [
              "(Parameter containing:\n",
              " tensor([-5.], requires_grad=True),\n",
              " Parameter containing:\n",
              " tensor([[10.]], requires_grad=True))"
            ]
          }
        }
      ],
      "source": [
        "net.bias,net.weight"
      ],
      "id": "e8e1fde2-9446-4a7f-8c10-e30c51144b5c"
    },
    {
      "cell_type": "code",
      "execution_count": 90,
      "metadata": {
        "outputId": "90f2e006-8a97-4a98-9ef3-919bd449a28b"
      },
      "outputs": [
        {
          "output_type": "display_data",
          "metadata": {},
          "data": {
            "text/plain": [
              "(None, None)"
            ]
          }
        }
      ],
      "source": [
        "net.bias.grad, net.weight.grad"
      ],
      "id": "b993de58-83a1-4864-b305-d86440471ed1"
    },
    {
      "cell_type": "markdown",
      "metadata": {},
      "source": [
        "(미분)"
      ],
      "id": "fc1bac05-29e8-455f-9750-5859e52dba18"
    },
    {
      "cell_type": "code",
      "execution_count": 91,
      "metadata": {},
      "outputs": [],
      "source": [
        "loss.backward()"
      ],
      "id": "b50bc74d-6fa9-4d9d-b969-4a670dee674d"
    },
    {
      "cell_type": "markdown",
      "metadata": {},
      "source": [
        "(미분후)"
      ],
      "id": "8bc545ae-b797-4121-89f0-06a85afdd356"
    },
    {
      "cell_type": "code",
      "execution_count": 92,
      "metadata": {
        "outputId": "75d8d356-9f22-4b81-92f7-a735a8d4c2f1"
      },
      "outputs": [
        {
          "output_type": "display_data",
          "metadata": {},
          "data": {
            "text/plain": [
              "(Parameter containing:\n",
              " tensor([-5.], requires_grad=True),\n",
              " Parameter containing:\n",
              " tensor([[10.]], requires_grad=True))"
            ]
          }
        }
      ],
      "source": [
        "net.bias,net.weight"
      ],
      "id": "b6733e41-f7d4-4b94-9f78-2f16b8150580"
    },
    {
      "cell_type": "code",
      "execution_count": 93,
      "metadata": {
        "outputId": "1c769cfe-f47d-4671-d980-4157c1b364a6"
      },
      "outputs": [
        {
          "output_type": "display_data",
          "metadata": {},
          "data": {
            "text/plain": [
              "(tensor([-13.4225]), tensor([[11.8893]]))"
            ]
          }
        }
      ],
      "source": [
        "net.bias.grad,net.weight.grad"
      ],
      "id": "33b4f40b-b360-4e08-86fa-2adcd2194cad"
    },
    {
      "cell_type": "markdown",
      "metadata": {},
      "source": [
        "`-` step4\n",
        "\n",
        "(업데이트전)"
      ],
      "id": "40701c83-e521-4277-8200-79e8e6fd75ac"
    },
    {
      "cell_type": "code",
      "execution_count": 94,
      "metadata": {
        "outputId": "cd5efa23-c800-4114-8fc7-fb67c5e7224b"
      },
      "outputs": [
        {
          "output_type": "display_data",
          "metadata": {},
          "data": {
            "text/plain": [
              "(Parameter containing:\n",
              " tensor([-5.], requires_grad=True),\n",
              " Parameter containing:\n",
              " tensor([[10.]], requires_grad=True))"
            ]
          }
        }
      ],
      "source": [
        "net.bias,net.weight"
      ],
      "id": "46f9f628-27be-4455-b892-fcf4f4fdbef8"
    },
    {
      "cell_type": "code",
      "execution_count": 95,
      "metadata": {
        "outputId": "d75ee7b9-8755-4411-dec6-4a225f2c4a9b"
      },
      "outputs": [
        {
          "output_type": "display_data",
          "metadata": {},
          "data": {
            "text/plain": [
              "(tensor([-13.4225]), tensor([[11.8893]]))"
            ]
          }
        }
      ],
      "source": [
        "net.bias.grad, net.weight.grad"
      ],
      "id": "1e6581ca-1248-4118-ba05-edcbdf532cbe"
    },
    {
      "cell_type": "markdown",
      "metadata": {},
      "source": [
        "(업데이트)"
      ],
      "id": "f6055e87-d8fd-4df4-a089-774cdd62a732"
    },
    {
      "cell_type": "code",
      "execution_count": 96,
      "metadata": {},
      "outputs": [],
      "source": [
        "net.bias.data = net.bias.data - 0.1*net.bias.grad \n",
        "net.weight.data = net.weight.data - 0.1*net.weight.grad "
      ],
      "id": "1997eedf-a141-4373-bbc9-4124732a4d39"
    },
    {
      "cell_type": "code",
      "execution_count": 97,
      "metadata": {},
      "outputs": [],
      "source": [
        "net.bias.grad = None \n",
        "net.weight.grad = None "
      ],
      "id": "b095a37f-66de-4a23-bd3e-4059127fac19"
    },
    {
      "cell_type": "markdown",
      "metadata": {},
      "source": [
        "(업데이트후)"
      ],
      "id": "9c414f42-d26d-457d-ac9e-6863daa47e28"
    },
    {
      "cell_type": "code",
      "execution_count": 98,
      "metadata": {
        "outputId": "37778a01-a15b-49a1-eb52-f44b854a3908"
      },
      "outputs": [
        {
          "output_type": "display_data",
          "metadata": {},
          "data": {
            "text/plain": [
              "(Parameter containing:\n",
              " tensor([-3.6577], requires_grad=True),\n",
              " Parameter containing:\n",
              " tensor([[8.8111]], requires_grad=True))"
            ]
          }
        }
      ],
      "source": [
        "net.bias,net.weight"
      ],
      "id": "17f159cc-6656-49a9-bd71-3f6d4612e96d"
    },
    {
      "cell_type": "code",
      "execution_count": 99,
      "metadata": {
        "outputId": "e58efb3f-466f-42ff-e997-1f2f1e6778d2"
      },
      "outputs": [
        {
          "output_type": "display_data",
          "metadata": {},
          "data": {
            "text/plain": [
              "(None, None)"
            ]
          }
        }
      ],
      "source": [
        "net.bias.grad, net.weight.grad"
      ],
      "id": "71c3d736-fc36-4e05-b992-3e46fed35c82"
    },
    {
      "cell_type": "markdown",
      "metadata": {},
      "source": [
        "`-` 반복"
      ],
      "id": "0cbb7403-4d1b-462c-8ab7-b21a4d4d3e99"
    },
    {
      "cell_type": "code",
      "execution_count": 100,
      "metadata": {
        "outputId": "10b66cbd-ad0c-4e40-bca3-8dd3ccd624bb"
      },
      "outputs": [],
      "source": [
        "net = torch.nn.Linear(1,1)\n",
        "net.weight.data = torch.tensor([[10.0]])\n",
        "net.bias.data = torch.tensor([-5.0])"
      ],
      "id": "8ca9202d-4a62-401c-a003-f4fc4e0e361f"
    },
    {
      "cell_type": "code",
      "execution_count": 101,
      "metadata": {},
      "outputs": [],
      "source": [
        "for epoc in range(30):\n",
        "    yhat = net(x) \n",
        "    loss = torch.mean((y-yhat)**2)\n",
        "    loss.backward()\n",
        "    net.weight.data = net.weight.data - 0.1*net.weight.grad\n",
        "    net.bias.data = net.bias.data - 0.1*net.bias.grad\n",
        "    net.weight.grad = None\n",
        "    net.bias.grad = None"
      ],
      "id": "65ee078b-069d-4b9e-8bfb-1bf326431a44"
    },
    {
      "cell_type": "code",
      "execution_count": 102,
      "metadata": {
        "outputId": "d6711e01-e2a2-4188-8477-ab59a4a0a980"
      },
      "outputs": [
        {
          "output_type": "display_data",
          "metadata": {},
          "data": {
            "image/png": "[encoded data removed]"
          }
        }
      ],
      "source": [
        "plt.plot(x,y,'o')\n",
        "plt.plot(x,net(x).data,'--')"
      ],
      "id": "97e07c28-a2a0-4e23-86d9-0bdbbac0c29e"
    },
    {
      "cell_type": "markdown",
      "metadata": {},
      "source": [
        "### ver2: net = torch.nn.Linear(2,1,bias=False)\n",
        "\n",
        "`-` 준비"
      ],
      "id": "bc348d4b-2c9f-4a6e-8b5d-2a8a0cb20c42"
    },
    {
      "cell_type": "code",
      "execution_count": 103,
      "metadata": {},
      "outputs": [],
      "source": [
        "net = torch.nn.Linear(2,1,bias=False)\n",
        "net.weight.data = torch.tensor([[-5.0, 10.0]])"
      ],
      "id": "d4543a98-770c-486d-a7be-69d299d11297"
    },
    {
      "cell_type": "markdown",
      "metadata": {},
      "source": [
        "`-` step1"
      ],
      "id": "05829fb1-b3bc-4865-abd6-ac10a8e4bad4"
    },
    {
      "cell_type": "code",
      "execution_count": 104,
      "metadata": {},
      "outputs": [],
      "source": [
        "yhat = net(X)"
      ],
      "id": "d340bb92-e2d7-4484-b45e-b0b4dc90a6d5"
    },
    {
      "cell_type": "markdown",
      "metadata": {},
      "source": [
        "`-` step2"
      ],
      "id": "8da30a58-1a91-4e6b-9175-76e87e871e13"
    },
    {
      "cell_type": "code",
      "execution_count": 105,
      "metadata": {},
      "outputs": [],
      "source": [
        "loss = torch.mean((y-yhat)**2)"
      ],
      "id": "5bb59cd2-1d51-475d-961d-84aa7b5216d2"
    },
    {
      "cell_type": "markdown",
      "metadata": {},
      "source": [
        "`-` step3\n",
        "\n",
        "(미분전)"
      ],
      "id": "35b9ee85-6a97-4095-92bd-375d7b4f29a8"
    },
    {
      "cell_type": "code",
      "execution_count": 106,
      "metadata": {
        "outputId": "4a891d95-26be-482d-b150-73fdfdba1ddd"
      },
      "outputs": [
        {
          "output_type": "display_data",
          "metadata": {},
          "data": {
            "text/plain": [
              "Parameter containing:\n",
              "tensor([[-5., 10.]], requires_grad=True)"
            ]
          }
        }
      ],
      "source": [
        "net.weight"
      ],
      "id": "6700b9b3-2315-4586-9895-9689a14ee748"
    },
    {
      "cell_type": "code",
      "execution_count": 107,
      "metadata": {},
      "outputs": [],
      "source": [
        "net.weight.grad"
      ],
      "id": "0684b35b-22c0-44db-8eaf-821ce14a6ec4"
    },
    {
      "cell_type": "markdown",
      "metadata": {},
      "source": [
        "(미분)"
      ],
      "id": "e64feb2d-680c-4708-9a56-d2c8df034511"
    },
    {
      "cell_type": "code",
      "execution_count": 108,
      "metadata": {},
      "outputs": [],
      "source": [
        "loss.backward()"
      ],
      "id": "ad8a29a9-d5e9-4176-9208-1dc08d101980"
    },
    {
      "cell_type": "markdown",
      "metadata": {},
      "source": [
        "(미분후)"
      ],
      "id": "79978af8-ad7e-4b6a-a394-b0f015fefcfb"
    },
    {
      "cell_type": "code",
      "execution_count": 109,
      "metadata": {
        "outputId": "292869f4-b896-4963-dbe4-6159adc9cf9e"
      },
      "outputs": [
        {
          "output_type": "display_data",
          "metadata": {},
          "data": {
            "text/plain": [
              "Parameter containing:\n",
              "tensor([[-5., 10.]], requires_grad=True)"
            ]
          }
        }
      ],
      "source": [
        "net.weight"
      ],
      "id": "cab73ba9-4ebf-402a-988c-a96951315828"
    },
    {
      "cell_type": "code",
      "execution_count": 110,
      "metadata": {
        "outputId": "445eeeab-68b1-420a-e854-07c0d81fdbab"
      },
      "outputs": [
        {
          "output_type": "display_data",
          "metadata": {},
          "data": {
            "text/plain": [
              "tensor([[-13.4225,  11.8893]])"
            ]
          }
        }
      ],
      "source": [
        "net.weight.grad"
      ],
      "id": "a70c7632-e3b5-47de-85f3-01e41a6ee3d6"
    },
    {
      "cell_type": "markdown",
      "metadata": {},
      "source": [
        "`-` step4\n",
        "\n",
        "(업데이트전)"
      ],
      "id": "73f9eff0-7041-46c4-82d4-d524e95d4037"
    },
    {
      "cell_type": "code",
      "execution_count": 111,
      "metadata": {
        "outputId": "b3a47cc6-84e9-4ae8-bbd4-32df4a6b6dd6"
      },
      "outputs": [
        {
          "output_type": "display_data",
          "metadata": {},
          "data": {
            "text/plain": [
              "Parameter containing:\n",
              "tensor([[-5., 10.]], requires_grad=True)"
            ]
          }
        }
      ],
      "source": [
        "net.weight"
      ],
      "id": "4a90a2e3-9694-4ee4-ba77-957cedc6fe2b"
    },
    {
      "cell_type": "code",
      "execution_count": 112,
      "metadata": {
        "outputId": "6d6c5155-b5ee-4346-ff26-a767f70fc15d"
      },
      "outputs": [
        {
          "output_type": "display_data",
          "metadata": {},
          "data": {
            "text/plain": [
              "tensor([[-13.4225,  11.8893]])"
            ]
          }
        }
      ],
      "source": [
        "net.weight.grad"
      ],
      "id": "8a3a89d0-8726-42e8-9d72-88cbf9b44604"
    },
    {
      "cell_type": "markdown",
      "metadata": {},
      "source": [
        "(업데이트)"
      ],
      "id": "9a2d5265-166a-4e1d-847a-a86c7bd9fe55"
    },
    {
      "cell_type": "code",
      "execution_count": 113,
      "metadata": {},
      "outputs": [],
      "source": [
        "net.weight.data = net.weight.data - 0.1*net.weight.grad"
      ],
      "id": "7f26acac-495e-483e-a0f0-06edb1bce63a"
    },
    {
      "cell_type": "code",
      "execution_count": 114,
      "metadata": {},
      "outputs": [],
      "source": [
        "net.weight.grad = None"
      ],
      "id": "0c6d75e7-4317-4355-bacc-f1bac4ff5568"
    },
    {
      "cell_type": "markdown",
      "metadata": {},
      "source": [
        "(업데이트후)"
      ],
      "id": "02eb8357-003d-4a23-837a-40a536288846"
    },
    {
      "cell_type": "code",
      "execution_count": 115,
      "metadata": {
        "outputId": "34ec2b38-6fb1-4a58-f813-8cdae14b1456"
      },
      "outputs": [
        {
          "output_type": "display_data",
          "metadata": {},
          "data": {
            "text/plain": [
              "Parameter containing:\n",
              "tensor([[-3.6577,  8.8111]], requires_grad=True)"
            ]
          }
        }
      ],
      "source": [
        "net.weight"
      ],
      "id": "84a8335f-80c3-4fc9-b1db-096f50368366"
    },
    {
      "cell_type": "code",
      "execution_count": 116,
      "metadata": {},
      "outputs": [],
      "source": [
        "net.weight.grad"
      ],
      "id": "0c7de57c-5f96-44fe-a793-5cabca242870"
    },
    {
      "cell_type": "markdown",
      "metadata": {},
      "source": [
        "`-` 반복"
      ],
      "id": "571e9f79-e185-4e29-a3fd-6cf88676509e"
    },
    {
      "cell_type": "code",
      "execution_count": 117,
      "metadata": {},
      "outputs": [],
      "source": [
        "net = torch.nn.Linear(2,1,bias=False)\n",
        "net.weight.data = torch.tensor([[-5.0, 10.0]])"
      ],
      "id": "45020bcc-6b60-4cc7-b981-d32ca687eeeb"
    },
    {
      "cell_type": "code",
      "execution_count": 118,
      "metadata": {
        "outputId": "7c26f785-f00c-4877-8379-cf721ab7223d"
      },
      "outputs": [
        {
          "output_type": "display_data",
          "metadata": {},
          "data": {
            "image/png": "[encoded data removed]"
          }
        }
      ],
      "source": [
        "plt.plot(x,y,'o')\n",
        "plt.plot(x,net(X).data,'--')"
      ],
      "id": "bc36e6d5-8edd-484f-a423-0cfe1d8e91a8"
    },
    {
      "cell_type": "code",
      "execution_count": 119,
      "metadata": {},
      "outputs": [],
      "source": [
        "for epoc in range(30):\n",
        "    yhat = net(X) \n",
        "    loss = torch.mean((y-yhat)**2)\n",
        "    loss.backward()\n",
        "    net.weight.data = net.weight.data - 0.1*net.weight.grad\n",
        "    net.weight.grad = None"
      ],
      "id": "12e82dac-472d-4794-9f39-28de54fbad60"
    },
    {
      "cell_type": "code",
      "execution_count": 120,
      "metadata": {
        "outputId": "667c2c3c-92a5-4f07-af59-d26d26352cf9"
      },
      "outputs": [
        {
          "output_type": "display_data",
          "metadata": {},
          "data": {
            "image/png": "[encoded data removed]"
          }
        }
      ],
      "source": [
        "plt.plot(x,y,'o')\n",
        "plt.plot(x,net(X).data,'--')"
      ],
      "id": "8d34b7c7-d2e3-4787-a741-dfc6231e30c2"
    },
    {
      "cell_type": "markdown",
      "metadata": {},
      "source": [
        "## step4의 다른버전: 옵티마이저!\n",
        "\n",
        "### ver1: net = torch.nn.Linear(1,1,bias=True)\n",
        "\n",
        "`-` 준비"
      ],
      "id": "4d2b5e06-6128-4494-bc43-0c9596af44f5"
    },
    {
      "cell_type": "code",
      "execution_count": 121,
      "metadata": {},
      "outputs": [],
      "source": [
        "net = torch.nn.Linear(1,1) \n",
        "net.weight.data = torch.tensor([[10.0]]) \n",
        "net.bias.data = torch.tensor([[-5.0]]) "
      ],
      "id": "147adb45-ebb9-47cd-be1d-d7e306d7cb64"
    },
    {
      "cell_type": "code",
      "execution_count": 122,
      "metadata": {},
      "outputs": [
        {
          "output_type": "display_data",
          "metadata": {},
          "data": {
            "text/html": [
              "<pre><span class=\"ansi-red-fg\">Init signature:</span>\n",
              "torch<span class=\"ansi-blue-fg\">.</span>optim<span class=\"ansi-blue-fg\">.</span>SGD<span class=\"ansi-blue-fg\">(</span>\n",
              "    params<span class=\"ansi-blue-fg\">,</span>\n",
              "    lr<span class=\"ansi-blue-fg\">=</span><span class=\"ansi-blue-fg\">&lt;</span>required parameter<span class=\"ansi-blue-fg\">&gt;</span><span class=\"ansi-blue-fg\">,</span>\n",
              "    momentum<span class=\"ansi-blue-fg\">=</span><span class=\"ansi-cyan-fg\">0</span><span class=\"ansi-blue-fg\">,</span>\n",
              "    dampening<span class=\"ansi-blue-fg\">=</span><span class=\"ansi-cyan-fg\">0</span><span class=\"ansi-blue-fg\">,</span>\n",
              "    weight_decay<span class=\"ansi-blue-fg\">=</span><span class=\"ansi-cyan-fg\">0</span><span class=\"ansi-blue-fg\">,</span>\n",
              "    nesterov<span class=\"ansi-blue-fg\">=</span><span class=\"ansi-green-fg\">False</span><span class=\"ansi-blue-fg\">,</span>\n",
              "<span class=\"ansi-blue-fg\">)</span>\n",
              "<span class=\"ansi-red-fg\">Docstring:</span>     \n",
              "Implements stochastic gradient descent (optionally with momentum).\n",
              ".. math::\n",
              "   \\begin{aligned}\n",
              "        &amp;\\rule{110mm}{0.4pt}                                                                 \\\\\n",
              "        &amp;\\textbf{input}      : \\gamma \\text{ (lr)}, \\: \\theta_0 \\text{ (params)}, \\: f(\\theta)\n",
              "            \\text{ (objective)}, \\: \\lambda \\text{ (weight decay)},                          \\\\\n",
              "        &amp;\\hspace{13mm} \\:\\mu \\text{ (momentum)}, \\:\\tau \\text{ (dampening)},\\:nesterov\\\\[-1.ex]\n",
              "        &amp;\\rule{110mm}{0.4pt}                                                                 \\\\\n",
              "        &amp;\\textbf{for} \\: t=1 \\: \\textbf{to} \\: \\ldots \\: \\textbf{do}                         \\\\\n",
              "        &amp;\\hspace{5mm}g_t           \\leftarrow   \\nabla_{\\theta} f_t (\\theta_{t-1})           \\\\\n",
              "        &amp;\\hspace{5mm}\\textbf{if} \\: \\lambda \\neq 0                                           \\\\\n",
              "        &amp;\\hspace{10mm} g_t \\leftarrow g_t + \\lambda  \\theta_{t-1}                            \\\\\n",
              "        &amp;\\hspace{5mm}\\textbf{if} \\: \\mu \\neq 0                                               \\\\\n",
              "        &amp;\\hspace{10mm}\\textbf{if} \\: t &gt; 1                                                   \\\\\n",
              "        &amp;\\hspace{15mm} \\textbf{b}_t \\leftarrow \\mu \\textbf{b}_{t-1} + (1-\\tau) g_t           \\\\\n",
              "        &amp;\\hspace{10mm}\\textbf{else}                                                          \\\\\n",
              "        &amp;\\hspace{15mm} \\textbf{b}_t \\leftarrow g_t                                           \\\\\n",
              "        &amp;\\hspace{10mm}\\textbf{if} \\: nesterov                                                \\\\\n",
              "        &amp;\\hspace{15mm} g_t \\leftarrow g_{t-1} + \\mu \\textbf{b}_t                             \\\\\n",
              "        &amp;\\hspace{10mm}\\textbf{else}                                                   \\\\[-1.ex]\n",
              "        &amp;\\hspace{15mm} g_t  \\leftarrow  \\textbf{b}_t                                         \\\\\n",
              "        &amp;\\hspace{5mm}\\theta_t \\leftarrow \\theta_{t-1} - \\gamma g_t                    \\\\[-1.ex]\n",
              "        &amp;\\rule{110mm}{0.4pt}                                                          \\\\[-1.ex]\n",
              "        &amp;\\bf{return} \\:  \\theta_t                                                     \\\\[-1.ex]\n",
              "        &amp;\\rule{110mm}{0.4pt}                                                          \\\\[-1.ex]\n",
              "   \\end{aligned}\n",
              "Nesterov momentum is based on the formula from\n",
              "`On the importance of initialization and momentum in deep learning`__.\n",
              "Args:\n",
              "    params (iterable): iterable of parameters to optimize or dicts defining\n",
              "        parameter groups\n",
              "    lr (float): learning rate\n",
              "    momentum (float, optional): momentum factor (default: 0)\n",
              "    weight_decay (float, optional): weight decay (L2 penalty) (default: 0)\n",
              "    dampening (float, optional): dampening for momentum (default: 0)\n",
              "    nesterov (bool, optional): enables Nesterov momentum (default: False)\n",
              "Example:\n",
              "    &gt;&gt;&gt; optimizer = torch.optim.SGD(model.parameters(), lr=0.1, momentum=0.9)\n",
              "    &gt;&gt;&gt; optimizer.zero_grad()\n",
              "    &gt;&gt;&gt; loss_fn(model(input), target).backward()\n",
              "    &gt;&gt;&gt; optimizer.step()\n",
              "__ http://www.cs.toronto.edu/%7Ehinton/absps/momentum.pdf\n",
              ".. note::\n",
              "    The implementation of SGD with Momentum/Nesterov subtly differs from\n",
              "    Sutskever et. al. and implementations in some other frameworks.\n",
              "    Considering the specific case of Momentum, the update can be written as\n",
              "    .. math::\n",
              "        \\begin{aligned}\n",
              "            v_{t+1} &amp; = \\mu * v_{t} + g_{t+1}, \\\\\n",
              "            p_{t+1} &amp; = p_{t} - \\text{lr} * v_{t+1},\n",
              "        \\end{aligned}\n",
              "    where :math:`p`, :math:`g`, :math:`v` and :math:`\\mu` denote the\n",
              "    parameters, gradient, velocity, and momentum respectively.\n",
              "    This is in contrast to Sutskever et. al. and\n",
              "    other frameworks which employ an update of the form\n",
              "    .. math::\n",
              "        \\begin{aligned}\n",
              "            v_{t+1} &amp; = \\mu * v_{t} + \\text{lr} * g_{t+1}, \\\\\n",
              "            p_{t+1} &amp; = p_{t} - v_{t+1}.\n",
              "        \\end{aligned}\n",
              "    The Nesterov version is analogously modified.\n",
              "<span class=\"ansi-red-fg\">File:</span>           ~/anaconda3/envs/csy/lib/python3.8/site-packages/torch/optim/sgd.py\n",
              "<span class=\"ansi-red-fg\">Type:</span>           type\n",
              "<span class=\"ansi-red-fg\">Subclasses:</span>     \n",
              "</pre>"
            ]
          }
        }
      ],
      "source": [
        "torch.optim.SGD?"
      ],
      "id": "076f1f57-9297-4899-8ca5-56358a7ac416"
    },
    {
      "cell_type": "markdown",
      "metadata": {},
      "source": [
        "Stocastic Gradiant Decscent"
      ],
      "id": "b2169341-bf11-43be-a1f2-a9c0b7d3b81e"
    },
    {
      "cell_type": "code",
      "execution_count": 123,
      "metadata": {},
      "outputs": [
        {
          "output_type": "display_data",
          "metadata": {},
          "data": {
            "text/plain": [
              "<generator object Module.parameters at 0x7f5f0d522740>"
            ]
          }
        }
      ],
      "source": [
        "net.parameters()"
      ],
      "id": "423c8636-4b0b-4031-ad66-3ebda0891852"
    },
    {
      "cell_type": "code",
      "execution_count": 124,
      "metadata": {},
      "outputs": [],
      "source": [
        "optimizr = torch.optim.SGD(net.parameters(),lr=1/10) "
      ],
      "id": "67bddcbd-6907-40e5-a68e-339d70c2f97d"
    },
    {
      "cell_type": "markdown",
      "metadata": {},
      "source": [
        "`-` step1~3"
      ],
      "id": "25999a17-4836-49fa-bc70-3e1db7210d04"
    },
    {
      "cell_type": "code",
      "execution_count": 125,
      "metadata": {},
      "outputs": [],
      "source": [
        "yhat = net(x)     "
      ],
      "id": "ef0484e2-0729-4ec7-a55d-2297fa6020d5"
    },
    {
      "cell_type": "code",
      "execution_count": 126,
      "metadata": {},
      "outputs": [],
      "source": [
        "loss = torch.mean((y-yhat)**2) "
      ],
      "id": "71bbb10d-daaa-45ce-9998-fe43ab8a50f3"
    },
    {
      "cell_type": "code",
      "execution_count": 127,
      "metadata": {},
      "outputs": [],
      "source": [
        "loss.backward() "
      ],
      "id": "3519afad-f821-4f42-819f-6c269e99c61b"
    },
    {
      "cell_type": "markdown",
      "metadata": {},
      "source": [
        "`-` step4\n",
        "\n",
        "(update 전)"
      ],
      "id": "1cfb5d36-f1f6-49cb-abd5-6ba4be830405"
    },
    {
      "cell_type": "code",
      "execution_count": 128,
      "metadata": {
        "outputId": "29f4212a-13fc-4a6d-88d6-797e449aac47"
      },
      "outputs": [
        {
          "output_type": "display_data",
          "metadata": {},
          "data": {
            "text/plain": [
              "(tensor([[10.]]), tensor([[-5.]]))"
            ]
          }
        }
      ],
      "source": [
        "net.weight.data, net.bias.data ## 값은 업데이트 전"
      ],
      "id": "7f78c571-f041-4add-a7cd-574f5b697823"
    },
    {
      "cell_type": "code",
      "execution_count": 129,
      "metadata": {
        "outputId": "75859821-d2d1-4493-fa04-05148b34780b"
      },
      "outputs": [
        {
          "output_type": "display_data",
          "metadata": {},
          "data": {
            "text/plain": [
              "(tensor([[11.8893]]), tensor([[-13.4225]]))"
            ]
          }
        }
      ],
      "source": [
        "net.weight.grad, net.bias.grad ## 미분값은 청소전 "
      ],
      "id": "0ec1ad1f-762b-4edf-bf4c-bdf974ad0896"
    },
    {
      "cell_type": "markdown",
      "metadata": {},
      "source": [
        "(update)"
      ],
      "id": "eb804730-1732-4123-8c43-80946f34ec4b"
    },
    {
      "cell_type": "code",
      "execution_count": 130,
      "metadata": {},
      "outputs": [],
      "source": [
        "optimizr.step() \n",
        "optimizr.zero_grad() "
      ],
      "id": "a73cdb87-73c7-4955-b045-bdd4abc0f96d"
    },
    {
      "cell_type": "markdown",
      "metadata": {},
      "source": [
        "(update 후)"
      ],
      "id": "b0225353-054a-4219-a8e6-9a27ceb2c80c"
    },
    {
      "cell_type": "code",
      "execution_count": 131,
      "metadata": {
        "outputId": "11f75bd7-2680-4b1f-b476-9df5d5cdf1bd"
      },
      "outputs": [
        {
          "output_type": "display_data",
          "metadata": {},
          "data": {
            "text/plain": [
              "(tensor([[8.8111]]), tensor([[-3.6577]]))"
            ]
          }
        }
      ],
      "source": [
        "net.weight.data, net.bias.data ## 값은 업데이트 되었음 "
      ],
      "id": "49cd11d8-5edb-4c41-ac2a-b4c9a627c360"
    },
    {
      "cell_type": "code",
      "execution_count": 132,
      "metadata": {
        "outputId": "0493d662-f514-4c7e-e35c-a12142cf6e3c"
      },
      "outputs": [
        {
          "output_type": "display_data",
          "metadata": {},
          "data": {
            "text/plain": [
              "(tensor([[0.]]), tensor([[0.]]))"
            ]
          }
        }
      ],
      "source": [
        "net.weight.grad, net.bias.grad ## 미분값은 0으로 초기화하였음 "
      ],
      "id": "4634d3bf-87fb-44ed-a9be-4356ea9e7788"
    },
    {
      "cell_type": "markdown",
      "metadata": {},
      "source": [
        "`-` 반복"
      ],
      "id": "e109083f-b55a-427a-a35c-64b2bc110a72"
    },
    {
      "cell_type": "code",
      "execution_count": 133,
      "metadata": {},
      "outputs": [],
      "source": [
        "net = torch.nn.Linear(1,1) \n",
        "net.weight.data = torch.tensor([[10.0]])\n",
        "net.bias.data = torch.tensor([-5.0])\n",
        "optimizr = torch.optim.SGD(net.parameters(),lr=1/10) "
      ],
      "id": "8a0592d8-49f0-4eb4-89f7-76ca241eeb3d"
    },
    {
      "cell_type": "code",
      "execution_count": 134,
      "metadata": {
        "outputId": "b6516ca8-bed9-4169-ba1b-f8907fe38907"
      },
      "outputs": [
        {
          "output_type": "display_data",
          "metadata": {},
          "data": {
            "image/png": "[encoded data removed]"
          }
        }
      ],
      "source": [
        "plt.plot(x,y,'o')\n",
        "plt.plot(x,net(x).data,'--')"
      ],
      "id": "f3eaa0da-a8c2-4747-93e0-dcba901c1500"
    },
    {
      "cell_type": "code",
      "execution_count": 135,
      "metadata": {},
      "outputs": [],
      "source": [
        "for epoc in range(30): \n",
        "    yhat = net(x)\n",
        "    loss = torch.mean((y-yhat)**2) \n",
        "    loss.backward() \n",
        "    optimizr.step(); optimizr.zero_grad() "
      ],
      "id": "79f4cb43-83e8-4ddd-938b-cf92a6395ed0"
    },
    {
      "cell_type": "code",
      "execution_count": 136,
      "metadata": {
        "outputId": "b6516ca8-bed9-4169-ba1b-f8907fe38907"
      },
      "outputs": [
        {
          "output_type": "display_data",
          "metadata": {},
          "data": {
            "image/png": "[encoded data removed]"
          }
        }
      ],
      "source": [
        "plt.plot(x,y,'o')\n",
        "plt.plot(x,net(x).data,'--')"
      ],
      "id": "1a1cab3c-1e1c-4bdc-b11e-cb5d2d20c7e8"
    },
    {
      "cell_type": "markdown",
      "metadata": {},
      "source": [
        "### ver2: net = torch.nn.Linear(2,1,bias=False)\n",
        "\n",
        "`-` 바로 반복하겠습니다.."
      ],
      "id": "fc2959cf-3154-49ee-aff6-b30eb1bb8f4c"
    },
    {
      "cell_type": "code",
      "execution_count": 137,
      "metadata": {},
      "outputs": [],
      "source": [
        "net = torch.nn.Linear(2,1,bias=False) \n",
        "net.weight.data = torch.tensor([[-5.0, 10.0]])\n",
        "optimizr = torch.optim.SGD(net.parameters(),lr=1/10) "
      ],
      "id": "5e0bd95c-a522-4a10-82fc-319c1b0f70de"
    },
    {
      "cell_type": "code",
      "execution_count": 138,
      "metadata": {
        "outputId": "58361a8e-76a9-4ff4-f373-29aa3cab5c31"
      },
      "outputs": [
        {
          "output_type": "display_data",
          "metadata": {},
          "data": {
            "image/png": "[encoded data removed]"
          }
        }
      ],
      "source": [
        "plt.plot(x,y,'o')\n",
        "plt.plot(x,net(X).data,'--')"
      ],
      "id": "c5072b5a-be39-468f-b365-8b8a5e08b5ab"
    },
    {
      "cell_type": "code",
      "execution_count": 139,
      "metadata": {},
      "outputs": [],
      "source": [
        "for epoc in range(30): \n",
        "    yhat = net(X)\n",
        "    loss = torch.mean((y-yhat)**2) \n",
        "    loss.backward() \n",
        "    optimizr.step(); optimizr.zero_grad() "
      ],
      "id": "02c373d3-e3f8-401d-9b57-5c973efe35e9"
    },
    {
      "cell_type": "code",
      "execution_count": 140,
      "metadata": {
        "outputId": "58361a8e-76a9-4ff4-f373-29aa3cab5c31"
      },
      "outputs": [
        {
          "output_type": "display_data",
          "metadata": {},
          "data": {
            "image/png": "[encoded data removed]"
          }
        }
      ],
      "source": [
        "plt.plot(x,y,'o')\n",
        "plt.plot(x,net(X).data,'--')"
      ],
      "id": "44d59c60-0839-41fe-b7a4-61522340bddd"
    },
    {
      "cell_type": "markdown",
      "metadata": {},
      "source": [
        "------------------------------------------------------------------------\n",
        "\n",
        "## Appendix: `net.parameters()`의 의미? (선택학습)\n",
        "\n",
        "`-` iterator, generator의 개념필요 -\n",
        "https://guebin.github.io/IP2022/2022/06/06/(14주차)-6월6일.html,\n",
        "클래스공부 8단계 참고\n",
        "\n",
        "`-` 탐구시작: 네트워크 생성"
      ],
      "id": "ff6bb7f5-b5d0-4428-8125-0984d374d8e0"
    },
    {
      "cell_type": "code",
      "execution_count": 141,
      "metadata": {
        "outputId": "de2d23e0-ac86-4062-f216-fa655b533446"
      },
      "outputs": [
        {
          "output_type": "display_data",
          "metadata": {},
          "data": {
            "text/plain": [
              "Parameter containing:\n",
              "tensor([[-0.4277]], requires_grad=True)"
            ]
          }
        }
      ],
      "source": [
        "net = torch.nn.Linear(in_features=1,out_features=1)\n",
        "net.weight"
      ],
      "id": "9722a3a1-1332-4afa-a0c3-4274a48135f3"
    },
    {
      "cell_type": "code",
      "execution_count": 142,
      "metadata": {
        "outputId": "96317115-1044-4d1b-f544-6a790a0f2d5b"
      },
      "outputs": [
        {
          "output_type": "display_data",
          "metadata": {},
          "data": {
            "text/plain": [
              "Parameter containing:\n",
              "tensor([-0.0629], requires_grad=True)"
            ]
          }
        }
      ],
      "source": [
        "net.bias"
      ],
      "id": "bbbe8fc8-d297-47bb-8aa8-e870f327bca1"
    },
    {
      "cell_type": "markdown",
      "metadata": {},
      "source": [
        "`-` torch.optim.SGD? 를 확인하면 params에 대한설명에 아래와 같이\n",
        "되어있음\n",
        "\n",
        "    params (iterable): iterable of parameters to optimize or dicts defining\n",
        "            parameter groups\n",
        "\n",
        "`-` 설명을 읽어보면 params에 iterable object를 넣으라고 되어있음\n",
        "(iterable object는 숨겨진 명령어로 `__iter__`를 가지고 있는 오브젝트를\n",
        "의미)"
      ],
      "id": "1e28593e-ff60-45e3-bb00-02cb9ebd7c94"
    },
    {
      "cell_type": "code",
      "execution_count": 143,
      "metadata": {
        "outputId": "045caa21-18e8-46cc-b92c-8c318868dff6"
      },
      "outputs": [
        {
          "output_type": "display_data",
          "metadata": {},
          "data": {
            "text/plain": [
              "set()"
            ]
          }
        }
      ],
      "source": [
        "set(dir(net.parameters)) & {'__iter__'}"
      ],
      "id": "dd73fe01-4f26-4fff-a044-039e8cf32c13"
    },
    {
      "cell_type": "code",
      "execution_count": 144,
      "metadata": {
        "outputId": "adebbf03-b564-40c7-d28f-4a21b2d301b5"
      },
      "outputs": [
        {
          "output_type": "display_data",
          "metadata": {},
          "data": {
            "text/plain": [
              "{'__iter__'}"
            ]
          }
        }
      ],
      "source": [
        "set(dir(net.parameters())) & {'__iter__'}"
      ],
      "id": "6301c575-7ee4-4c0a-8935-5d320b5c19da"
    },
    {
      "cell_type": "markdown",
      "metadata": {},
      "source": [
        "`-` 무슨의미?"
      ],
      "id": "eb1fdb33-28d8-42d0-93b8-ff5fe19abc80"
    },
    {
      "cell_type": "code",
      "execution_count": 145,
      "metadata": {},
      "outputs": [],
      "source": [
        "_generator = net.parameters()"
      ],
      "id": "bcde9b99-c139-4ef7-8e62-a72f1e626599"
    },
    {
      "cell_type": "code",
      "execution_count": 146,
      "metadata": {
        "outputId": "52452274-aad2-4659-fac0-ccaec81b1297"
      },
      "outputs": [
        {
          "output_type": "display_data",
          "metadata": {},
          "data": {
            "text/plain": [
              "Parameter containing:\n",
              "tensor([[-0.4277]], requires_grad=True)"
            ]
          }
        }
      ],
      "source": [
        "_generator.__next__()"
      ],
      "id": "6d8b6ce2-4f61-479d-b54f-4c10d71bec87"
    },
    {
      "cell_type": "code",
      "execution_count": 147,
      "metadata": {
        "outputId": "85a6de5a-7e22-40bb-98ea-d29f45f82898"
      },
      "outputs": [
        {
          "output_type": "display_data",
          "metadata": {},
          "data": {
            "text/plain": [
              "Parameter containing:\n",
              "tensor([-0.0629], requires_grad=True)"
            ]
          }
        }
      ],
      "source": [
        "_generator.__next__()"
      ],
      "id": "5ad43be4-1c55-46bc-a037-6902f6efc3e6"
    },
    {
      "cell_type": "code",
      "execution_count": 148,
      "metadata": {
        "outputId": "9032e5a5-bd13-41d8-abb5-c9b518db7102"
      },
      "outputs": [],
      "source": [
        "_generator.__next__()"
      ],
      "id": "0ef70550-16d4-4bf7-8e50-6f9e7bbb4304"
    },
    {
      "cell_type": "markdown",
      "metadata": {},
      "source": [
        "`-` 이건 이런느낌인데?"
      ],
      "id": "86af3d88-a180-4a21-ae70-e7db9c87a904"
    },
    {
      "cell_type": "code",
      "execution_count": 149,
      "metadata": {},
      "outputs": [],
      "source": [
        "_generator2 = iter([net.weight,net.bias])"
      ],
      "id": "6f94ee5a-ccc7-4a76-b74c-5beb00291468"
    },
    {
      "cell_type": "code",
      "execution_count": 150,
      "metadata": {
        "outputId": "98eb5d6d-8884-45c5-b4d1-008618d7488b"
      },
      "outputs": [
        {
          "output_type": "display_data",
          "metadata": {},
          "data": {
            "text/plain": [
              "<list_iterator at 0x7f5f0d2cdeb0>"
            ]
          }
        }
      ],
      "source": [
        "_generator2"
      ],
      "id": "8a52bedd-f56a-48eb-8bf1-e3c8e783ee71"
    },
    {
      "cell_type": "code",
      "execution_count": 151,
      "metadata": {
        "outputId": "9028b2e4-9d72-448f-dffa-819bf7c06bb6"
      },
      "outputs": [
        {
          "output_type": "display_data",
          "metadata": {},
          "data": {
            "text/plain": [
              "Parameter containing:\n",
              "tensor([[-0.4277]], requires_grad=True)"
            ]
          }
        }
      ],
      "source": [
        "_generator2.__next__()"
      ],
      "id": "5769b8e5-2808-4ee1-8290-e2344d055ac1"
    },
    {
      "cell_type": "code",
      "execution_count": 152,
      "metadata": {
        "outputId": "0194a3fb-0c8e-45dd-a4a5-d299207cd851"
      },
      "outputs": [
        {
          "output_type": "display_data",
          "metadata": {},
          "data": {
            "text/plain": [
              "Parameter containing:\n",
              "tensor([-0.0629], requires_grad=True)"
            ]
          }
        }
      ],
      "source": [
        "_generator2.__next__()"
      ],
      "id": "39d8fa7e-afc5-4d18-a918-d5bf8d37137e"
    },
    {
      "cell_type": "code",
      "execution_count": 153,
      "metadata": {
        "outputId": "3e007f62-6617-4d2f-d37d-d6bcb73616f1"
      },
      "outputs": [],
      "source": [
        "_generator2.__next__()"
      ],
      "id": "4ccc30a7-079e-4608-a381-1a0d06c7e052"
    },
    {
      "cell_type": "markdown",
      "metadata": {},
      "source": [
        "`-` 즉 아래는 같은코드이다.\n",
        "\n",
        "``` python\n",
        "### 코드1\n",
        "_generator = net.parameters() \n",
        "torch.optim.SGD(_generator,lr=1/10) \n",
        "### 코드2\n",
        "_generator = iter([net.weight,net.bias])\n",
        "torch.optim.SGD(_generator,lr=1/10) \n",
        "### 코드3 (이렇게 써도 코드2가 실행된다고 이해할 수 있음)\n",
        "_iterator = [net.weight,net.bias]\n",
        "torch.optim.SGD(_iterator,lr=1/10) \n",
        "```\n",
        "\n",
        "결론: `net.parameters()`는 net오브젝트에서 학습할 파라메터를 모두 모아\n",
        "리스트(iterable object)로 만드는 함수라 이해할 수 있다.\n",
        "\n",
        "`-` 응용예제1"
      ],
      "id": "5f8f5338-2abe-4ce0-b629-1b59a78813c9"
    },
    {
      "cell_type": "code",
      "execution_count": 154,
      "metadata": {},
      "outputs": [],
      "source": [
        "What = torch.tensor([[-5.0],[10.0]],requires_grad=True)\n",
        "optimizr = torch.optim.SGD([What],lr=1/10) "
      ],
      "id": "45a79850-c154-4b17-b698-e98830c76b99"
    },
    {
      "cell_type": "code",
      "execution_count": 155,
      "metadata": {
        "outputId": "ab8920da-3b17-4b4e-a10a-a1ec2415d75e"
      },
      "outputs": [
        {
          "output_type": "display_data",
          "metadata": {},
          "data": {
            "image/png": "[encoded data removed]"
          }
        }
      ],
      "source": [
        "plt.plot(x,y,'o')\n",
        "plt.plot(x,(X@What).data,'--')"
      ],
      "id": "26853ca2-9f7a-44b9-9a75-1d373d9214c3"
    },
    {
      "cell_type": "code",
      "execution_count": 156,
      "metadata": {},
      "outputs": [],
      "source": [
        "for epoc in range(30):\n",
        "    yhat = X@What \n",
        "    loss = torch.mean((y-yhat)**2)\n",
        "    loss.backward()\n",
        "    optimizr.step();optimizr.zero_grad() "
      ],
      "id": "f214d5fe-d377-400b-bd19-c94db6ebf124"
    },
    {
      "cell_type": "code",
      "execution_count": 157,
      "metadata": {
        "outputId": "8589b629-02b1-45b0-cc1a-571afaee60ed"
      },
      "outputs": [
        {
          "output_type": "display_data",
          "metadata": {},
          "data": {
            "image/png": "[encoded data removed]"
          }
        }
      ],
      "source": [
        "plt.plot(x,y,'o')\n",
        "plt.plot(x,(X@What).data,'--')"
      ],
      "id": "57ad55eb-72ee-45eb-a13d-318bc48a1285"
    },
    {
      "cell_type": "markdown",
      "metadata": {},
      "source": [
        "`-` 응용예제2"
      ],
      "id": "41c02b44-d4c7-45c3-b66b-d9035dd03dec"
    },
    {
      "cell_type": "code",
      "execution_count": 158,
      "metadata": {},
      "outputs": [],
      "source": [
        "b = torch.tensor(-5.0,requires_grad=True)\n",
        "w = torch.tensor(10.0,requires_grad=True)\n",
        "optimizr = torch.optim.SGD([b,w],lr=1/10)"
      ],
      "id": "999d4116-b1fc-46ce-b170-ce91f3081415"
    },
    {
      "cell_type": "code",
      "execution_count": 159,
      "metadata": {
        "outputId": "c1147904-a19a-46d7-930b-e0ce77dcc7db"
      },
      "outputs": [
        {
          "output_type": "display_data",
          "metadata": {},
          "data": {
            "image/png": "[encoded data removed]"
          }
        }
      ],
      "source": [
        "plt.plot(x,y,'o')\n",
        "plt.plot(x,(w*x+b).data,'--')"
      ],
      "id": "b68c09fd-6fb4-4ab0-bdec-82aa8d747590"
    },
    {
      "cell_type": "code",
      "execution_count": 160,
      "metadata": {},
      "outputs": [],
      "source": [
        "for epoc in range(30):\n",
        "    yhat = b+ w*x \n",
        "    loss = torch.mean((y-yhat)**2)\n",
        "    loss.backward()\n",
        "    optimizr.step(); optimizr.zero_grad()"
      ],
      "id": "89a491c3-35df-4331-a6b1-cf4be0c01eb7"
    },
    {
      "cell_type": "code",
      "execution_count": 161,
      "metadata": {
        "outputId": "d10fef89-f8e3-4ca8-f531-50389baaaf7a"
      },
      "outputs": [
        {
          "output_type": "display_data",
          "metadata": {},
          "data": {
            "image/png": "[encoded data removed]"
          }
        }
      ],
      "source": [
        "plt.plot(x,y,'o')\n",
        "plt.plot(x,(w*x+b).data,'--')"
      ],
      "id": "26844418-ac15-4cf1-886b-514d60959dd0"
    },
    {
      "cell_type": "markdown",
      "metadata": {},
      "source": [
        "## Logistic regression\n",
        "\n",
        "### motive\n",
        "\n",
        "`-` 현실에서 이런 경우가 많음 - $x$가 커질수록 (혹은 작아질수록)\n",
        "성공확률이 증가함.\n",
        "\n",
        "`-` (X,y)는 어떤모양?"
      ],
      "id": "1f64665a-ed3e-468c-95b9-059213ef4574"
    },
    {
      "cell_type": "code",
      "execution_count": 162,
      "metadata": {
        "outputId": "de911315-f9de-403b-8048-7dbef74b16a1"
      },
      "outputs": [
        {
          "output_type": "display_data",
          "metadata": {},
          "data": {
            "text/html": [
              "\n",
              "</div>"
            ]
          }
        }
      ],
      "source": [
        "_df = pd.DataFrame({'x':range(-6,7),'y':[0,0,0,0,0,0,1,0,1,1,1,1,1]})\n",
        "_df "
      ],
      "id": "80c0b223-1b23-457e-99fe-0103c85877ac"
    },
    {
      "cell_type": "code",
      "execution_count": 163,
      "metadata": {
        "outputId": "59ecf194-1f03-4265-94e6-fd2b5840db6b"
      },
      "outputs": [
        {
          "output_type": "display_data",
          "metadata": {},
          "data": {
            "image/png": "[encoded data removed]"
          }
        }
      ],
      "source": [
        "plt.plot(_df.x,_df.y,'o')"
      ],
      "id": "08a2de7d-30d8-4e76-a539-968fe6645cfa"
    },
    {
      "cell_type": "markdown",
      "metadata": {},
      "source": [
        "`-` (예비학습) 시그모이드라는 함수가 있음"
      ],
      "id": "140f9fb1-d7c4-4503-88bb-d144cbb51e25"
    },
    {
      "cell_type": "code",
      "execution_count": 164,
      "metadata": {},
      "outputs": [],
      "source": [
        "xx = torch.linspace(-6,6,100)\n",
        "def f(x):\n",
        "    return torch.exp(x)/(1+torch.exp(x))"
      ],
      "id": "ffa06829-2c5e-411d-8ec2-23f81acdc7e7"
    },
    {
      "cell_type": "code",
      "execution_count": 165,
      "metadata": {
        "outputId": "00633109-c587-4185-ee19-855ecdbe6aee"
      },
      "outputs": [
        {
          "output_type": "display_data",
          "metadata": {},
          "data": {
            "image/png": "[encoded data removed]"
          }
        }
      ],
      "source": [
        "plt.plot(_df.x,_df.y,'o')\n",
        "plt.plot(xx,f(xx))\n",
        "plt.plot(xx,f(2.5*xx-1.2)) # 영향을 크게 받을 때 + 운적인 요소 영향 받을 때(절편) -> 모델링하는 과정"
      ],
      "id": "5a450682-b4f6-4ceb-ade0-9dce9e40c029"
    },
    {
      "cell_type": "markdown",
      "metadata": {},
      "source": [
        "베르누이 특정 확률로 0 또는 1 뽑기\n",
        "\n",
        "### model\n",
        "\n",
        "`-` $x$가 커질수록 $y=1$이 잘나오는 모형은 아래와 같이 설계할 수 있음\n",
        "\\<— 외우세요!!!\n",
        "\n",
        "-   $y_i \\sim Ber(\\pi_i),\\quad$ where\n",
        "    $\\pi_i = \\frac{\\exp(w_0+w_1x_i)}{1+\\exp(w_0+w_1x_i)}$\n",
        "\n",
        "-   $\\hat{y}_i= \\hat{pi}_\\frac{\\exp(\\hat{w}_0+\\hat{w}_1x_i)}{1+\\exp(\\hat{w}_0+\\hat{w}_1x_i)}=\\frac{1}{1+\\exp(-\\hat{w}_0-\\hat{w}_1x_i)}$\n",
        "\n",
        "-   $loss= - \\sum_{i=1}^{n} \\big(y_i\\log(\\hat{y}_i)+(1-y_i)\\log(1-\\hat{y}_i)\\big)$\n",
        "    \\<— 외우세요!!\n",
        "\n",
        "$y_i=1$ $\\hat{y_i} = 1$loss가 0 근처 $\\hat{y_i} = 0$ loss가- 무한대\n",
        "\n",
        "$y_i = 0$ $\\hat{y_i} = 0$loss가 0근처 $\\hat{y_i} = 1$ loss가 1\n",
        "\n",
        "### toy example\n",
        "\n",
        "`-` 예제시작"
      ],
      "id": "196520d8-481c-40c9-9939-17fd3e003dab"
    },
    {
      "cell_type": "code",
      "execution_count": 166,
      "metadata": {},
      "outputs": [
        {
          "output_type": "display_data",
          "metadata": {},
          "data": {
            "text/html": [
              "<pre><span class=\"ansi-red-fg\">Docstring:</span>\n",
              "bernoulli(input, *, generator=None, out=None) -&gt; Tensor\n",
              "Draws binary random numbers (0 or 1) from a Bernoulli distribution.\n",
              "The :attr:`input` tensor should be a tensor containing probabilities\n",
              "to be used for drawing the binary random number.\n",
              "Hence, all values in :attr:`input` have to be in the range:\n",
              ":math:`0 \\leq \\text{input}_i \\leq 1`.\n",
              "The :math:`\\text{i}^{th}` element of the output tensor will draw a\n",
              "value :math:`1` according to the :math:`\\text{i}^{th}` probability value given\n",
              "in :attr:`input`.\n",
              ".. math::\n",
              "    \\text{out}_{i} \\sim \\mathrm{Bernoulli}(p = \\text{input}_{i})\n",
              "The returned :attr:`out` tensor only has values 0 or 1 and is of the same\n",
              "shape as :attr:`input`.\n",
              ":attr:`out` can have integral ``dtype``, but :attr:`input` must have floating\n",
              "point ``dtype``.\n",
              "Args:\n",
              "    input (Tensor): the input tensor of probability values for the Bernoulli distribution\n",
              "Keyword args:\n",
              "    generator (:class:`torch.Generator`, optional): a pseudorandom number generator for sampling\n",
              "    out (Tensor, optional): the output tensor.\n",
              "Example::\n",
              "    &gt;&gt;&gt; a = torch.empty(3, 3).uniform_(0, 1)  # generate a uniform random matrix with range [0, 1]\n",
              "    &gt;&gt;&gt; a\n",
              "    tensor([[ 0.1737,  0.0950,  0.3609],\n",
              "            [ 0.7148,  0.0289,  0.2676],\n",
              "            [ 0.9456,  0.8937,  0.7202]])\n",
              "    &gt;&gt;&gt; torch.bernoulli(a)\n",
              "    tensor([[ 1.,  0.,  0.],\n",
              "            [ 0.,  0.,  0.],\n",
              "            [ 1.,  1.,  1.]])\n",
              "    &gt;&gt;&gt; a = torch.ones(3, 3) # probability of drawing \"1\" is 1\n",
              "    &gt;&gt;&gt; torch.bernoulli(a)\n",
              "    tensor([[ 1.,  1.,  1.],\n",
              "            [ 1.,  1.,  1.],\n",
              "            [ 1.,  1.,  1.]])\n",
              "    &gt;&gt;&gt; a = torch.zeros(3, 3) # probability of drawing \"1\" is 0\n",
              "    &gt;&gt;&gt; torch.bernoulli(a)\n",
              "    tensor([[ 0.,  0.,  0.],\n",
              "            [ 0.,  0.,  0.],\n",
              "            [ 0.,  0.,  0.]])\n",
              "<span class=\"ansi-red-fg\">Type:</span>      builtin_function_or_method\n",
              "</pre>"
            ]
          }
        }
      ],
      "source": [
        "torch.bernoulli?"
      ],
      "id": "cfd74e5b-9d5a-4c9e-b98d-575e44a2e980"
    },
    {
      "cell_type": "code",
      "execution_count": 167,
      "metadata": {},
      "outputs": [
        {
          "output_type": "display_data",
          "metadata": {},
          "data": {
            "text/plain": [
              "tensor([0., 1., 0., 1., 0., 0., 1., 0., 0., 0., 0., 1., 0., 1., 1., 0., 1., 1.,\n",
              "        0., 0., 0., 0., 0., 1., 0., 1., 0., 1., 1., 0., 1., 0., 1., 0., 0., 1.,\n",
              "        1., 1., 0., 1., 0., 1., 0., 0., 1., 1., 0., 1., 0., 0., 0., 1., 1., 0.,\n",
              "        1., 0., 0., 0., 0., 0., 0., 1., 0., 0., 0., 0., 1., 1., 1., 0., 0., 0.,\n",
              "        0., 1., 1., 1., 0., 1., 1., 0., 1., 0., 1., 1., 0., 0., 0., 1., 0., 1.,\n",
              "        1., 1., 0., 1., 1., 0., 1., 0., 0., 1.])"
            ]
          }
        }
      ],
      "source": [
        "torch.bernoulli(torch.tensor([0.5]*100)) # 0.5의 확률ㄹ 0 또는 1 뽑아"
      ],
      "id": "f9f671e5-c01f-4cb9-97a4-30f77dc50c32"
    },
    {
      "cell_type": "code",
      "execution_count": 168,
      "metadata": {},
      "outputs": [],
      "source": [
        "x=torch.linspace(-1,1,2000).reshape(2000,1)\n",
        "w0= -1 \n",
        "w1= 5 \n",
        "u = w0+x*w1 \n",
        "v = torch.exp(u)/(1+torch.exp(u)) # v=πi, 즉 확률을 의미함\n",
        "y = torch.bernoulli(v) "
      ],
      "id": "9e839c06-97c4-4b85-8c02-5ef8c4dde51a"
    },
    {
      "cell_type": "code",
      "execution_count": 173,
      "metadata": {},
      "outputs": [
        {
          "output_type": "display_data",
          "metadata": {},
          "data": {
            "text/plain": [
              "tensor([[0.0025],\n",
              "        [0.0025],\n",
              "        [0.0025],\n",
              "        ...,\n",
              "        [0.9818],\n",
              "        [0.9819],\n",
              "        [0.9820]])"
            ]
          }
        }
      ],
      "source": [
        "v"
      ],
      "id": "eceb65a2-3ba9-4be7-8e75-df0099de5f12"
    },
    {
      "cell_type": "code",
      "execution_count": 174,
      "metadata": {},
      "outputs": [
        {
          "output_type": "display_data",
          "metadata": {},
          "data": {
            "text/plain": [
              "tensor([[-6.0000],\n",
              "        [-5.9950],\n",
              "        [-5.9900],\n",
              "        ...,\n",
              "        [ 3.9900],\n",
              "        [ 3.9950],\n",
              "        [ 4.0000]])"
            ]
          }
        }
      ],
      "source": [
        "u"
      ],
      "id": "f5fe053e-3879-46ad-b205-e23e9c369f8f"
    },
    {
      "cell_type": "code",
      "execution_count": 175,
      "metadata": {
        "outputId": "82f7f246-0327-4c47-c009-44e709d81f69"
      },
      "outputs": [
        {
          "output_type": "display_data",
          "metadata": {},
          "data": {
            "image/png": "[encoded data removed]"
          }
        }
      ],
      "source": [
        "#plt.scatter(x,y,alpha=0.05)\n",
        "plt.plot(x,y,'o',alpha=0.05,ms=4)\n",
        "plt.plot(x,v,'--r')"
      ],
      "id": "f609e8ec-3dc8-485e-b5e4-8f34fbcfedbc"
    },
    {
      "cell_type": "markdown",
      "metadata": {},
      "source": [
        "-   우리의 목적: $x$가 들어가면 빨간선 $\\hat{y}$의 값을 만들어주는\n",
        "    mapping을 학습해보자."
      ],
      "id": "1c0cc930-aefa-44d9-89de-f105ddf943f0"
    },
    {
      "cell_type": "code",
      "execution_count": 176,
      "metadata": {},
      "outputs": [
        {
          "output_type": "display_data",
          "metadata": {},
          "data": {
            "image/png": "[encoded data removed]"
          }
        }
      ],
      "source": [
        "w0hat = 10\n",
        "w1hat = 3\n",
        "yhat = f(w0hat + w1hat*x)\n",
        "plt.plot(x,y,'o',alpha=0.05,ms=4)\n",
        "plt.plot(x,v,'--r')\n",
        "plt.plot(x,yhat,'--r')"
      ],
      "id": "92fce54f-5fb9-4f5d-852d-e1696bb29336"
    },
    {
      "cell_type": "code",
      "execution_count": 177,
      "metadata": {},
      "outputs": [],
      "source": [
        "l1 = torch.nn.Linear(1,1)"
      ],
      "id": "00bbe2a2-648c-4764-ac42-465513b647a7"
    },
    {
      "cell_type": "code",
      "execution_count": 178,
      "metadata": {},
      "outputs": [],
      "source": [
        "l1.bias.data = torch.tensor([-1.0])\n",
        "l1.weight.data = torch.tensor([[1.0]])"
      ],
      "id": "a2fca192-541d-4772-9408-75c0b8f9c058"
    },
    {
      "cell_type": "code",
      "execution_count": 179,
      "metadata": {},
      "outputs": [],
      "source": [
        "a1 = torch.nn.Sigmoid()"
      ],
      "id": "b98793ac-b858-4051-a5c1-667bc2284ab9"
    },
    {
      "cell_type": "code",
      "execution_count": 180,
      "metadata": {},
      "outputs": [
        {
          "output_type": "display_data",
          "metadata": {},
          "data": {
            "image/png": "[encoded data removed]"
          }
        }
      ],
      "source": [
        "w0hat = -1\n",
        "w1hat = 3\n",
        "yhat = a1(w0hat + w1hat*x)\n",
        "plt.plot(x,y,'o',alpha=0.05,ms=4)\n",
        "plt.plot(x,v,'--r')\n",
        "plt.plot(x,yhat,'--r')"
      ],
      "id": "578212f9-ea04-4df0-a17c-208b18f0eaa7"
    },
    {
      "cell_type": "code",
      "execution_count": 181,
      "metadata": {},
      "outputs": [],
      "source": [
        "for epoc in range(6000):\n",
        "    ## step1 \n",
        "    yhat = a1(l1(x))\n",
        "    ## step2 \n",
        "    loss = torch.mean((y-yhat)**2) ## loss 를 원래 이렇게 하는건 아니에요.. \n",
        "    ## step3 \n",
        "    loss.backward()\n",
        "    ## step4 \n",
        "    l1.bias.data = l1.bias.data - 0.1 * l1.bias.grad \n",
        "    l1.weight.data = l1.weight.data - 0.1 * l1.weight.grad \n",
        "    l1.bias.grad = None \n",
        "    l1.weight.grad = None "
      ],
      "id": "3b499c76-d5b4-4363-88ee-06921b97b0c4"
    },
    {
      "cell_type": "code",
      "execution_count": 182,
      "metadata": {},
      "outputs": [
        {
          "output_type": "display_data",
          "metadata": {},
          "data": {
            "image/png": "[encoded data removed]"
          }
        }
      ],
      "source": [
        "plt.plot(x,y,'o',alpha=0.05,ms=4)\n",
        "plt.plot(x,v,'--r')\n",
        "plt.plot(x,a1(l1(x)).data,'--r')"
      ],
      "id": "fa2b9d6a-c1c5-463a-bc58-9ab60fff0a66"
    },
    {
      "cell_type": "markdown",
      "metadata": {},
      "source": [
        "------------------------------------------------------------------------\n",
        "\n",
        "## 숙제"
      ],
      "id": "425f0789-6983-44bb-ac6d-77f07a59029c"
    }
  ],
  "nbformat": 4,
  "nbformat_minor": 5,
  "metadata": {
    "colab": {
      "provenance": []
    },
    "kernelspec": {
      "name": "python3",
      "display_name": "Python 3 (ipykernel)",
      "language": "python"
    },
    "language_info": {
      "name": "python",
      "codemirror_mode": {
        "name": "ipython",
        "version": "3"
      },
      "file_extension": ".py",
      "mimetype": "text/x-python",
      "nbconvert_exporter": "python",
      "pygments_lexer": "ipython3",
      "version": "3.8.12"
    }
  }
}