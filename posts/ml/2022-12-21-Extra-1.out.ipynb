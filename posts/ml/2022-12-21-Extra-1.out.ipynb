{
  "cells": [
    {
      "cell_type": "markdown",
      "metadata": {},
      "source": [
        "# Extra-1: 추천시스템\n",
        "\n",
        "SEOYEON CHOI  \n",
        "2022-12-21\n",
        "\n",
        "> 추천시스템\n",
        "\n",
        "# imports"
      ],
      "id": "bda0dbc9-a31c-4b47-857b-1e8378691c94"
    },
    {
      "cell_type": "code",
      "execution_count": 1,
      "metadata": {},
      "outputs": [
        {
          "output_type": "stream",
          "name": "stderr",
          "text": [
            "/home/csy/anaconda3/envs/py37/lib/python3.7/site-packages/tqdm/auto.py:22: TqdmWarning: IProgress not found. Please update jupyter and ipywidgets. See https://ipywidgets.readthedocs.io/en/stable/user_install.html\n",
            "  from .autonotebook import tqdm as notebook_tqdm"
          ]
        }
      ],
      "source": [
        "import torch\n",
        "import numpy as np \n",
        "import pandas as pd\n",
        "from fastai.collab import * "
      ],
      "id": "57dc01be-6da3-43b2-b5e1-1854e27fa70f"
    },
    {
      "cell_type": "markdown",
      "metadata": {},
      "source": [
        "# 나는 솔로\n",
        "\n",
        "## 주절주절 intro\n",
        "\n",
        "`-` Data"
      ],
      "id": "f0c1cc4c-dbc7-418a-90db-bfadf5f819b8"
    },
    {
      "cell_type": "code",
      "execution_count": 2,
      "metadata": {},
      "outputs": [
        {
          "output_type": "display_data",
          "metadata": {},
          "data": {
            "text/html": [
              "\n",
              "</div>"
            ]
          }
        }
      ],
      "source": [
        "df_view = pd.read_csv('2022-12-21-rcmdsolo.csv',index_col=0)\n",
        "df_view "
      ],
      "id": "579104c1-8e5a-4968-bd2b-faac85f3eaea"
    },
    {
      "cell_type": "markdown",
      "metadata": {},
      "source": [
        "`-` 데이터를 이해할때 필요한 가정들 – 내맘대로 한 설정임.\n",
        "\n",
        "-   (옥순,영자,정숙)은 (영식,영철,영호)와 성격이 잘 맞고\n",
        "    (영숙,순자,현숙)은 (광수,상철,영수)와 성격이 잘맞음\n",
        "-   ((옥순,영자,정숙),(영식,영철,영호))은 MBTI가 I로 시작하고\n",
        "    ((영숙,순자,현숙),(광수,상철,영수))는 MBTI가 E로 시작한다.\n",
        "\n",
        "`-` 목표: NaN 을 추론\n",
        "\n",
        "`-` 수동추론:\n",
        "\n",
        "-   (옥순,영호)이 만난다면? $\\to$ 둘다 I성향이니까 잘 맞지 않을까? $\\to$\n",
        "    4.0 정도?\n",
        "-   (정숙,영식)조합은? $\\to$ 둘다 I성향이니까 잘 맞지 않을까? + 정숙은\n",
        "    다 잘맞던데..? $\\to$ 4.8 정도?\n",
        "-   (현숙,영식)조합은? $\\to$ 현숙은 E성향인데 영식은 I성향이므로 잘\n",
        "    안맞을 것임 + 현숙은 원래 좀 눈이 높음 $\\to$ 0.25 정도?\n",
        "\n",
        "`-` 좀 더 체계적인 추론\n",
        "\n",
        "사람들이 가지고 있는 성향들을 두 개의 숫자로 표현하자.\n",
        "\n",
        "-   옥순의 성향 = (I성향,E성향) = (1.9, 0.0)\n",
        "-   영식의 성향 = (I성향,E성향) = (2.0, 0.1)\n",
        "-   현숙의 성향 = (I성향,E성향) = (0.0, 1.5)\n",
        "\n",
        "**(1)** 옥순과 영식의 궁합 $\\approx$ 옥순의I성향$\\times$영식의I성향 $+$\n",
        "옥순의E성향$\\times$영식의E성향 // 적합"
      ],
      "id": "26a324a7-50b0-4b1f-8a11-cdf2b2f66632"
    },
    {
      "cell_type": "code",
      "execution_count": 3,
      "metadata": {},
      "outputs": [
        {
          "output_type": "display_data",
          "metadata": {},
          "data": {
            "text/plain": [
              "3.8"
            ]
          }
        }
      ],
      "source": [
        "a1= np.array([1.9,0.0]).reshape(2,1) # a1은 옥순의 성향, col-vec으로 선언하자. \n",
        "b1= np.array([2.0,0.1]).reshape(2,1) # b1은 영식의 성향, col-vec으로 선언하자.\n",
        "(a1*b1).sum()"
      ],
      "id": "d4de1f04-2236-4593-85c5-695351cf414b"
    },
    {
      "cell_type": "markdown",
      "metadata": {},
      "source": [
        "**(2)** 현숙과 영식의 궁합 $\\approx$ 현숙의I성향$\\times$영식의I성향 $+$\n",
        "현숙의E성향$\\times$영식의E성향 // 예측"
      ],
      "id": "5cb1d423-498d-4ccb-ad95-81a48aa79572"
    },
    {
      "cell_type": "code",
      "execution_count": 4,
      "metadata": {},
      "outputs": [
        {
          "output_type": "display_data",
          "metadata": {},
          "data": {
            "text/plain": [
              "0.15000000000000002"
            ]
          }
        }
      ],
      "source": [
        "a6= np.array([0.0,1.5]).reshape(2,1)\n",
        "(a6*b1).sum()"
      ],
      "id": "8f367886-f526-4a76-ac21-1881f18b9640"
    },
    {
      "cell_type": "markdown",
      "metadata": {},
      "source": [
        "-   그럴듯함..\n",
        "\n",
        "`-` 모델링\n",
        "\n",
        "아래가 같음을 관찰하라. (차원만 다름)"
      ],
      "id": "b78ff572-61c0-4bb0-9e50-e6938bdc8d94"
    },
    {
      "cell_type": "code",
      "execution_count": 5,
      "metadata": {},
      "outputs": [
        {
          "output_type": "display_data",
          "metadata": {},
          "data": {
            "text/plain": [
              "(3.8, array([[3.8]]))"
            ]
          }
        }
      ],
      "source": [
        "(a1*b1).sum(), a1.T@b1"
      ],
      "id": "1de49a25-d5c8-422e-a630-b35abfe1401d"
    },
    {
      "cell_type": "code",
      "execution_count": 6,
      "metadata": {},
      "outputs": [
        {
          "output_type": "display_data",
          "metadata": {},
          "data": {
            "text/plain": [
              "(0.15000000000000002, array([[0.15]]))"
            ]
          }
        }
      ],
      "source": [
        "(a6*b1).sum(), a6.T@b1"
      ],
      "id": "2f1279c8-0ee2-473f-b28e-c6d7b1527d08"
    },
    {
      "cell_type": "markdown",
      "metadata": {},
      "source": [
        "만약에 여자의성향, 남자의성향을 적당한 매트릭스로 정리할 수 있다면\n",
        "궁합매트릭스를 만들 수 있음"
      ],
      "id": "478cd52b-b698-4103-9910-d02bf09f2288"
    },
    {
      "cell_type": "code",
      "execution_count": 7,
      "metadata": {},
      "outputs": [
        {
          "output_type": "display_data",
          "metadata": {},
          "data": {
            "text/plain": [
              "array([[1.9, 2. , 2.5, 0.1, 0.2, 0. ],\n",
              "       [0. , 0.1, 1. , 1.9, 2.1, 1.5]])"
            ]
          }
        }
      ],
      "source": [
        "a1= np.array([1.9,0.0]).reshape(2,1)\n",
        "a2= np.array([2.0,0.1]).reshape(2,1)\n",
        "a3= np.array([2.5,1.0]).reshape(2,1)\n",
        "a4= np.array([0.1,1.9]).reshape(2,1)\n",
        "a5= np.array([0.2,2.1]).reshape(2,1)\n",
        "a6= np.array([0.0,1.5]).reshape(2,1)\n",
        "A = np.concatenate([a1,a2,a3,a4,a5,a6],axis=1)\n",
        "A"
      ],
      "id": "cdc65114-13a3-478d-a6af-5dedc43426ad"
    },
    {
      "cell_type": "code",
      "execution_count": 8,
      "metadata": {},
      "outputs": [
        {
          "output_type": "display_data",
          "metadata": {},
          "data": {
            "text/plain": [
              "array([[2. , 1.9, 1.8, 0.3, 0.2, 0.1],\n",
              "       [0.1, 0.2, 0.3, 2.1, 2. , 1.9]])"
            ]
          }
        }
      ],
      "source": [
        "b1= np.array([2.0,0.1]).reshape(2,1)\n",
        "b2= np.array([1.9,0.2]).reshape(2,1)\n",
        "b3= np.array([1.8,0.3]).reshape(2,1)\n",
        "b4= np.array([0.3,2.1]).reshape(2,1)\n",
        "b5= np.array([0.2,2.0]).reshape(2,1)\n",
        "b6= np.array([0.1,1.9]).reshape(2,1)\n",
        "B = np.concatenate([b1,b2,b3,b4,b5,b6],axis=1)\n",
        "B"
      ],
      "id": "4842eca1-ef98-4822-b678-65336268f3ad"
    },
    {
      "cell_type": "code",
      "execution_count": 9,
      "metadata": {},
      "outputs": [
        {
          "output_type": "display_data",
          "metadata": {},
          "data": {
            "text/plain": [
              "array([[3.8 , 3.61, 3.42, 0.57, 0.38, 0.19],\n",
              "       [4.01, 3.82, 3.63, 0.81, 0.6 , 0.39],\n",
              "       [5.1 , 4.95, 4.8 , 2.85, 2.5 , 2.15],\n",
              "       [0.39, 0.57, 0.75, 4.02, 3.82, 3.62],\n",
              "       [0.61, 0.8 , 0.99, 4.47, 4.24, 4.01],\n",
              "       [0.15, 0.3 , 0.45, 3.15, 3.  , 2.85]])"
            ]
          }
        }
      ],
      "source": [
        "A.T@B"
      ],
      "id": "d0edcd61-383f-4ce9-b651-71e11fad2818"
    },
    {
      "cell_type": "code",
      "execution_count": 10,
      "metadata": {},
      "outputs": [
        {
          "output_type": "display_data",
          "metadata": {},
          "data": {
            "text/plain": [
              "(array([[3.8]]), array([[3.82]]), array([[5.1]]))"
            ]
          }
        }
      ],
      "source": [
        "a1.T@b1, a2.T@b2, a3.T@b1"
      ],
      "id": "4338400f-9b82-4214-b748-6527aa76a3f9"
    },
    {
      "cell_type": "markdown",
      "metadata": {},
      "source": [
        "결국 모형은 아래와 같다.\n",
        "\n",
        "$$\\text{궁합매트릭스} = {\\bf A}^\\top {\\bf B} + \\text{오차}$$\n",
        "\n",
        "`-` 학습전략: 아래의 매트릭스중에서 어떤값은 관측하였고 어떤값은\n",
        "관측하지 못함 $\\to$ 관측한 값들만 대충 비슷하게 하면 되는거 아니야?"
      ],
      "id": "6b0ca4a3-b385-4316-a3e4-b430f516b220"
    },
    {
      "cell_type": "code",
      "execution_count": 11,
      "metadata": {},
      "outputs": [
        {
          "output_type": "display_data",
          "metadata": {},
          "data": {
            "text/plain": [
              "array([[3.8 , 3.61, 3.42, 0.57, 0.38, 0.19],\n",
              "       [4.01, 3.82, 3.63, 0.81, 0.6 , 0.39],\n",
              "       [5.1 , 4.95, 4.8 , 2.85, 2.5 , 2.15],\n",
              "       [0.39, 0.57, 0.75, 4.02, 3.82, 3.62],\n",
              "       [0.61, 0.8 , 0.99, 4.47, 4.24, 4.01],\n",
              "       [0.15, 0.3 , 0.45, 3.15, 3.  , 2.85]])"
            ]
          }
        }
      ],
      "source": [
        "A.T@B "
      ],
      "id": "ba960849-54fc-4486-845b-9f6b0c66736f"
    },
    {
      "cell_type": "code",
      "execution_count": 12,
      "metadata": {},
      "outputs": [
        {
          "output_type": "display_data",
          "metadata": {},
          "data": {
            "text/html": [
              "\n",
              "</div>"
            ]
          }
        }
      ],
      "source": [
        "df_view"
      ],
      "id": "492c2028-5185-439a-ae61-35ed2e71dc30"
    },
    {
      "cell_type": "markdown",
      "metadata": {},
      "source": [
        "`-` 자료를 아래와 같이 정리한다면?"
      ],
      "id": "9f2bbcf0-9166-404e-9a0f-e857eafe6a93"
    },
    {
      "cell_type": "code",
      "execution_count": 13,
      "metadata": {},
      "outputs": [
        {
          "output_type": "display_data",
          "metadata": {},
          "data": {
            "text/html": [
              "\n",
              "</div>"
            ]
          }
        }
      ],
      "source": [
        "df = pd.DataFrame([(f,m,df_view.loc[f,m]) for f in df_view.index for m in df_view.columns if not np.isnan(df_view.loc[f,m])])\n",
        "df.columns = ['X1','X2','y']\n",
        "df"
      ],
      "id": "3e0ab4f6-89e7-40be-b9d7-80520dbe1a8a"
    },
    {
      "cell_type": "code",
      "execution_count": 14,
      "metadata": {},
      "outputs": [
        {
          "output_type": "display_data",
          "metadata": {},
          "data": {
            "text/plain": [
              "({'옥순': 0, '영자': 1, '정숙': 2, '영숙': 3, '순자': 4, '현숙': 5},\n",
              " {'영식': 0, '영철': 1, '광수': 2, '상철': 3, '영호': 4, '영수': 5})"
            ]
          }
        }
      ],
      "source": [
        "mapp1 = {k[1]:k[0] for k in enumerate(df.X1.unique())}\n",
        "mapp2 = {k[1]:k[0] for k in enumerate(df.X2.unique())}\n",
        "mapp1,mapp2"
      ],
      "id": "95c75dd8-edb7-4a6a-bbd1-09a8c543569c"
    },
    {
      "cell_type": "code",
      "execution_count": 15,
      "metadata": {},
      "outputs": [],
      "source": [
        "X1 = torch.tensor(list(map(lambda name: mapp1[name], df.X1)))\n",
        "X2 = torch.tensor(list(map(lambda name: mapp2[name], df.X2)))\n",
        "X1 = torch.nn.functional.one_hot(X1).float()\n",
        "X2 = torch.nn.functional.one_hot(X2).float()\n",
        "y = torch.tensor(df.y).float()"
      ],
      "id": "4bba528e-f36d-4517-abc4-4a0512bb4e6f"
    },
    {
      "cell_type": "markdown",
      "metadata": {},
      "source": [
        "`-` yhat을 구하는 과정.."
      ],
      "id": "030005c6-4733-4816-8378-1ab6088608ad"
    },
    {
      "cell_type": "code",
      "execution_count": 16,
      "metadata": {},
      "outputs": [],
      "source": [
        "l1 = torch.nn.Linear(in_features=6,out_features=2) \n",
        "l2 = torch.nn.Linear(in_features=6,out_features=2)"
      ],
      "id": "4ef18624-b8d8-4acb-abc9-469a8dbc5d06"
    },
    {
      "cell_type": "code",
      "execution_count": 17,
      "metadata": {},
      "outputs": [
        {
          "output_type": "display_data",
          "metadata": {},
          "data": {
            "text/plain": [
              "tensor([[ 0.5101,  0.1558],\n",
              "        [ 0.5101,  0.1558],\n",
              "        [ 0.5101,  0.1558],\n",
              "        [ 0.5101,  0.1558],\n",
              "        [ 0.1860, -0.1332],\n",
              "        [ 0.1860, -0.1332],\n",
              "        [ 0.1860, -0.1332],\n",
              "        [ 0.1860, -0.1332],\n",
              "        [ 0.5840, -0.5035],\n",
              "        [ 0.5840, -0.5035],\n",
              "        [ 0.5840, -0.5035],\n",
              "        [ 0.5840, -0.5035],\n",
              "        [ 0.0356, -0.3052],\n",
              "        [ 0.0356, -0.3052],\n",
              "        [ 0.0356, -0.3052],\n",
              "        [ 0.0356, -0.3052],\n",
              "        [ 0.5411, -0.3360],\n",
              "        [ 0.5411, -0.3360],\n",
              "        [ 0.5411, -0.3360],\n",
              "        [ 0.5411, -0.3360],\n",
              "        [ 0.0738,  0.1614],\n",
              "        [ 0.0738,  0.1614],\n",
              "        [ 0.0738,  0.1614],\n",
              "        [ 0.0738,  0.1614]], grad_fn=<AddmmBackward0>)"
            ]
          }
        }
      ],
      "source": [
        "l1(X1) # 옥순~현숙의 성향들 "
      ],
      "id": "fc9afeac-1671-4709-aea3-c0b93b13ccfb"
    },
    {
      "cell_type": "code",
      "execution_count": 18,
      "metadata": {},
      "outputs": [
        {
          "output_type": "display_data",
          "metadata": {},
          "data": {
            "text/plain": [
              "tensor([[ 0.1939,  0.0405],\n",
              "        [ 0.1073, -0.2484],\n",
              "        [-0.0011, -0.2328],\n",
              "        [-0.1622, -0.1059],\n",
              "        [ 0.1939,  0.0405],\n",
              "        [-0.1635, -0.0460],\n",
              "        [-0.0011, -0.2328],\n",
              "        [-0.1319,  0.1783],\n",
              "        [ 0.1073, -0.2484],\n",
              "        [-0.1635, -0.0460],\n",
              "        [-0.1622, -0.1059],\n",
              "        [-0.1319,  0.1783],\n",
              "        [ 0.1939,  0.0405],\n",
              "        [ 0.1073, -0.2484],\n",
              "        [-0.0011, -0.2328],\n",
              "        [-0.1622, -0.1059],\n",
              "        [ 0.1939,  0.0405],\n",
              "        [ 0.1073, -0.2484],\n",
              "        [-0.0011, -0.2328],\n",
              "        [-0.1319,  0.1783],\n",
              "        [ 0.1073, -0.2484],\n",
              "        [-0.1635, -0.0460],\n",
              "        [-0.1622, -0.1059],\n",
              "        [-0.1319,  0.1783]], grad_fn=<AddmmBackward0>)"
            ]
          }
        }
      ],
      "source": [
        "l2(X2) # 영식~영수의 성향들 "
      ],
      "id": "10ce0ac3-7cf5-4099-913a-2bb17661128a"
    },
    {
      "cell_type": "markdown",
      "metadata": {},
      "source": [
        "`-` 몇개의 관측치만 생각해보자.."
      ],
      "id": "71eaa528-617d-446d-ab81-8284b8702946"
    },
    {
      "cell_type": "code",
      "execution_count": 19,
      "metadata": {},
      "outputs": [
        {
          "output_type": "display_data",
          "metadata": {},
          "data": {
            "text/html": [
              "\n",
              "</div>"
            ]
          }
        }
      ],
      "source": [
        "df.head()"
      ],
      "id": "673f7002-203b-40e4-a1d6-09b766d7e38a"
    },
    {
      "cell_type": "code",
      "execution_count": 20,
      "metadata": {},
      "outputs": [
        {
          "output_type": "display_data",
          "metadata": {},
          "data": {
            "text/plain": [
              "tensor(0.1052, grad_fn=<SumBackward0>)"
            ]
          }
        }
      ],
      "source": [
        "(l1(X1)[0]*l2(X2)[0]).sum() # (옥순의성향 * 영식의성향).sum()"
      ],
      "id": "fac2d008-1385-45ab-8e04-98c80d26ba21"
    },
    {
      "cell_type": "markdown",
      "metadata": {},
      "source": [
        "-   이 값이 실제로는 3.9 이어야 한다."
      ],
      "id": "42665207-ab51-488f-9cd8-f01499b93b13"
    },
    {
      "cell_type": "code",
      "execution_count": 21,
      "metadata": {},
      "outputs": [
        {
          "output_type": "display_data",
          "metadata": {},
          "data": {
            "text/plain": [
              "tensor(0.0160, grad_fn=<SumBackward0>)"
            ]
          }
        }
      ],
      "source": [
        "(l1(X1)[1]*l2(X2)[1]).sum() # (옥순의성향 * 영철의성향).sum()"
      ],
      "id": "86db8235-c842-497f-8b3d-496e51ec4243"
    },
    {
      "cell_type": "markdown",
      "metadata": {},
      "source": [
        "-   이 값이 실제로는 4.1 이어야 한다.\n",
        "\n",
        "`-` yhat을 구하면!"
      ],
      "id": "ef079cb8-473c-49a9-84e3-b59fa91f7cc3"
    },
    {
      "cell_type": "code",
      "execution_count": 22,
      "metadata": {},
      "outputs": [
        {
          "output_type": "display_data",
          "metadata": {},
          "data": {
            "text/plain": [
              "tensor([ 0.1052,  0.0160, -0.0369, -0.0992,  0.0307, -0.0243,  0.0308, -0.0483,\n",
              "         0.1877, -0.0724, -0.0414, -0.1668, -0.0054,  0.0796,  0.0710,  0.0265,\n",
              "         0.0913,  0.1415,  0.0776, -0.1313, -0.0322, -0.0195, -0.0291,  0.0190],\n",
              "       grad_fn=<SumBackward1>)"
            ]
          }
        }
      ],
      "source": [
        "yhat = (l1(X1) * l2(X2)).sum(axis=1) # (l1(X1) * l2(X2)).sum(1)와 결과가 같음 \n",
        "yhat"
      ],
      "id": "5d6ccae1-6a55-4be9-96b1-e8c2bbae4e11"
    },
    {
      "cell_type": "code",
      "execution_count": 23,
      "metadata": {},
      "outputs": [
        {
          "output_type": "display_data",
          "metadata": {},
          "data": {
            "text/plain": [
              "(tensor([0.1052, 0.0160], grad_fn=<SliceBackward0>), tensor([3.9000, 4.1000]))"
            ]
          }
        }
      ],
      "source": [
        "yhat[:2],y[:2] # 이 값들이 비슷해야 하는데.."
      ],
      "id": "9999adee-3cba-4d26-b40b-97de528f834a"
    },
    {
      "cell_type": "markdown",
      "metadata": {},
      "source": [
        "`-` 0~5 까지의 범위로 고정되어 있으니까 아래와 같이 해도 되겠음.."
      ],
      "id": "a9e1741c-b245-41aa-99ab-cf69f00dd8d1"
    },
    {
      "cell_type": "code",
      "execution_count": 24,
      "metadata": {},
      "outputs": [],
      "source": [
        "sig = torch.nn.Sigmoid()"
      ],
      "id": "454d046a-c798-435c-9baf-9ff04bacb51e"
    },
    {
      "cell_type": "code",
      "execution_count": 25,
      "metadata": {},
      "outputs": [
        {
          "output_type": "display_data",
          "metadata": {},
          "data": {
            "text/plain": [
              "tensor([2.6314, 2.5200, 2.4539, 2.3760, 2.5383, 2.4696, 2.5385, 2.4397, 2.7340,\n",
              "        2.4096, 2.4482, 2.2920, 2.4932, 2.5995, 2.5887, 2.5332, 2.6140, 2.6766,\n",
              "        2.5970, 2.3361, 2.4598, 2.4756, 2.4637, 2.5238],\n",
              "       grad_fn=<MulBackward0>)"
            ]
          }
        }
      ],
      "source": [
        "yhat = sig((l1(X1) * l2(X2)).sum(axis=1))*5 # (l1(X1) * l2(X2)).sum(1)와 결과가 같음 \n",
        "yhat"
      ],
      "id": "9f22b0c9-5eca-4dc3-acaf-74d5f5710fcc"
    },
    {
      "cell_type": "code",
      "execution_count": 26,
      "metadata": {},
      "outputs": [
        {
          "output_type": "display_data",
          "metadata": {},
          "data": {
            "text/plain": [
              "tensor(3.2296, grad_fn=<MeanBackward0>)"
            ]
          }
        }
      ],
      "source": [
        "loss = torch.mean((y-yhat)**2)\n",
        "loss"
      ],
      "id": "130fa669-8509-41bc-b3af-822da09d6518"
    },
    {
      "cell_type": "markdown",
      "metadata": {},
      "source": [
        "## torch를 이용한 학습"
      ],
      "id": "a8815669-32b5-4e51-91f6-eb5d7b4d8d1d"
    },
    {
      "cell_type": "code",
      "execution_count": 27,
      "metadata": {},
      "outputs": [],
      "source": [
        "torch.manual_seed(43052)\n",
        "l1 = torch.nn.Linear(6,2) \n",
        "l2 = torch.nn.Linear(6,2)\n",
        "sig = torch.nn.Sigmoid() "
      ],
      "id": "20257936-98d1-40e0-a1d6-9a1ba03fae5e"
    },
    {
      "cell_type": "code",
      "execution_count": 28,
      "metadata": {},
      "outputs": [],
      "source": [
        "loss_fn = torch.nn.MSELoss() \n",
        "optimizr = torch.optim.Adam(list(l1.parameters())+list(l2.parameters()))"
      ],
      "id": "78b8a1d4-08c1-4ac6-a639-b1d5bf8b8920"
    },
    {
      "cell_type": "code",
      "execution_count": 29,
      "metadata": {},
      "outputs": [],
      "source": [
        "for epoc in range(5000):\n",
        "    ## 1 \n",
        "    feature1 = l1(X1)\n",
        "    feature2 = l2(X2) \n",
        "    matching_score = (feature1*feature2).sum(axis=1) \n",
        "    yhat = sig(matching_score)*5 # 만약에 1~3점이라면 \"1+sig(matching_score)*2\" 와 같이 하면 되었을듯 \n",
        "    ## 2 \n",
        "    loss = loss_fn(yhat,y)    \n",
        "    ## 3 \n",
        "    loss.backward()    \n",
        "    ## 4 \n",
        "    optimizr.step()\n",
        "    optimizr.zero_grad()"
      ],
      "id": "1dcc1ba3-5794-48cf-8600-498192306209"
    },
    {
      "cell_type": "code",
      "execution_count": 30,
      "metadata": {},
      "outputs": [
        {
          "output_type": "display_data",
          "metadata": {},
          "data": {
            "text/plain": [
              "tensor([3.9382, 4.0624, 0.4665, 0.3353, 4.5038, 3.6975, 0.3562, 0.3558, 4.8614,\n",
              "        4.7208, 1.1813, 1.3158, 0.4606, 0.3573, 4.1288, 4.2734, 0.8611, 0.7347,\n",
              "        4.0493, 4.0464, 0.1810, 0.3124, 3.5031, 3.3948],\n",
              "       grad_fn=<MulBackward0>)"
            ]
          }
        }
      ],
      "source": [
        "yhat"
      ],
      "id": "9ffe07bd-ca30-4897-887e-2c42e654dca3"
    },
    {
      "cell_type": "code",
      "execution_count": 31,
      "metadata": {},
      "outputs": [
        {
          "output_type": "display_data",
          "metadata": {},
          "data": {
            "text/plain": [
              "tensor([3.9000, 4.1000, 0.5000, 0.3000, 4.5000, 3.7000, 0.5000, 0.2000, 4.9000,\n",
              "        4.7000, 1.2000, 1.3000, 0.6000, 0.2000, 4.1000, 4.3000, 0.7000, 0.9000,\n",
              "        4.2000, 3.9000, 0.2000, 0.3000, 3.5000, 3.4000])"
            ]
          }
        }
      ],
      "source": [
        "y"
      ],
      "id": "4f7daec0-52eb-4911-8f21-acb27947f998"
    },
    {
      "cell_type": "code",
      "execution_count": 32,
      "metadata": {},
      "outputs": [
        {
          "output_type": "display_data",
          "metadata": {},
          "data": {
            "text/plain": [
              "tensor([[-1.4663,  0.2938],\n",
              "        [-1.4663,  0.2938],\n",
              "        [-1.4663,  0.2938],\n",
              "        [-1.4663,  0.2938],\n",
              "        [-1.7086,  0.6597],\n",
              "        [-1.7086,  0.6597],\n",
              "        [-1.7086,  0.6597],\n",
              "        [-1.7086,  0.6597],\n",
              "        [-0.8705,  1.2945],\n",
              "        [-0.8705,  1.2945],\n",
              "        [-0.8705,  1.2945],\n",
              "        [-0.8705,  1.2945],\n",
              "        [ 1.1046, -0.8298],\n",
              "        [ 1.1046, -0.8298],\n",
              "        [ 1.1046, -0.8298],\n",
              "        [ 1.1046, -0.8298],\n",
              "        [ 0.9880, -0.5193],\n",
              "        [ 0.9880, -0.5193],\n",
              "        [ 0.9880, -0.5193],\n",
              "        [ 0.9880, -0.5193],\n",
              "        [ 0.6834, -1.2201],\n",
              "        [ 0.6834, -1.2201],\n",
              "        [ 0.6834, -1.2201],\n",
              "        [ 0.6834, -1.2201]], grad_fn=<AddmmBackward0>)"
            ]
          }
        }
      ],
      "source": [
        "l1(X1) # 두번째 칼럼이 I 성향 점수로 \"해석\"된다"
      ],
      "id": "b87dcbb3-9ee0-46f0-9d73-b47085d4fe00"
    },
    {
      "cell_type": "markdown",
      "metadata": {},
      "source": [
        "-   포인트: 여성출연자중, 정숙은 대체로 잘 맞춰주고 현숙은 그렇지\n",
        "    않았음.. $\\to$ 그러한 가중치가 잘 드러남!!\n",
        "\n",
        "## fastai를 이용한 학습\n",
        "\n",
        "`(1)` dls"
      ],
      "id": "586ecb85-d16a-49e1-b3cc-01cfec1377a5"
    },
    {
      "cell_type": "code",
      "execution_count": 33,
      "metadata": {},
      "outputs": [
        {
          "output_type": "display_data",
          "metadata": {},
          "data": {
            "text/html": [
              "\n",
              "</div>"
            ]
          }
        }
      ],
      "source": [
        "df.head() # 앞단계 전처리의 산물"
      ],
      "id": "ae09b582-17c3-4d15-b0ff-e5529bb4a310"
    },
    {
      "cell_type": "code",
      "execution_count": 34,
      "metadata": {},
      "outputs": [],
      "source": [
        "dls = CollabDataLoaders.from_df(df,bs=2,valid_pct=2/24)"
      ],
      "id": "ce8ab1a5-c394-43a0-b0d0-633c6c2ce86b"
    },
    {
      "cell_type": "markdown",
      "metadata": {},
      "source": [
        "`(2)` lrnr 생성"
      ],
      "id": "4718b0a9-a8b3-4945-956f-41ba4778f4b0"
    },
    {
      "cell_type": "code",
      "execution_count": 35,
      "metadata": {},
      "outputs": [],
      "source": [
        "lrnr = collab_learner(dls,n_factors=2,y_range=(0,5))"
      ],
      "id": "2aade5e9-58ae-4bf3-a5f6-f2705a8ced73"
    },
    {
      "cell_type": "markdown",
      "metadata": {},
      "source": [
        "`(3)` 학습"
      ],
      "id": "218fc1a8-edd1-4086-b1bf-81918adcfe69"
    },
    {
      "cell_type": "code",
      "execution_count": 36,
      "metadata": {},
      "outputs": [
        {
          "output_type": "display_data",
          "metadata": {},
          "data": {
            "text/html": [
              "\n",
              "<style>\n",
              "    /* Turns off some styling */\n",
              "    progress {\n",
              "        /* gets rid of default border in Firefox and Opera. */\n",
              "        border: none;\n",
              "        /* Needs to be in here for Safari polyfill so background images work as expected. */\n",
              "        background-size: auto;\n",
              "    }\n",
              "    progress:not([value]), progress:not([value])::-webkit-progress-bar {\n",
              "        background: repeating-linear-gradient(45deg, #7e7e7e, #7e7e7e 10px, #5c5c5c 10px, #5c5c5c 20px);\n",
              "    }\n",
              "    .progress-bar-interrupted, .progress-bar-interrupted::-webkit-progress-bar {\n",
              "        background: #F44336;\n",
              "    }\n",
              "</style>"
            ]
          }
        },
        {
          "output_type": "display_data",
          "metadata": {},
          "data": {}
        }
      ],
      "source": [
        "lrnr.fit(30,lr=0.05)"
      ],
      "id": "b29961c0-b286-4fcf-93ad-9edb57b4a70c"
    },
    {
      "cell_type": "markdown",
      "metadata": {},
      "source": [
        "`(4)` 예측\n",
        "\n",
        "**적합값 확인**"
      ],
      "id": "329e33fb-82e4-4a9e-b87c-320ad94abc49"
    },
    {
      "cell_type": "code",
      "execution_count": 37,
      "metadata": {},
      "outputs": [
        {
          "output_type": "display_data",
          "metadata": {},
          "data": {
            "text/html": [
              "\n",
              "<style>\n",
              "    /* Turns off some styling */\n",
              "    progress {\n",
              "        /* gets rid of default border in Firefox and Opera. */\n",
              "        border: none;\n",
              "        /* Needs to be in here for Safari polyfill so background images work as expected. */\n",
              "        background-size: auto;\n",
              "    }\n",
              "    progress:not([value]), progress:not([value])::-webkit-progress-bar {\n",
              "        background: repeating-linear-gradient(45deg, #7e7e7e, #7e7e7e 10px, #5c5c5c 10px, #5c5c5c 20px);\n",
              "    }\n",
              "    .progress-bar-interrupted, .progress-bar-interrupted::-webkit-progress-bar {\n",
              "        background: #F44336;\n",
              "    }\n",
              "</style>"
            ]
          }
        },
        {
          "output_type": "display_data",
          "metadata": {},
          "data": {
            "text/html": []
          }
        },
        {
          "output_type": "display_data",
          "metadata": {},
          "data": {}
        }
      ],
      "source": [
        "lrnr.show_results()"
      ],
      "id": "78a81493-7c02-4200-a3c8-f4ff6871e158"
    },
    {
      "cell_type": "markdown",
      "metadata": {},
      "source": [
        "**(옥순의 궁합)**"
      ],
      "id": "f47ace1a-7f27-40aa-9d34-126b77e064b5"
    },
    {
      "cell_type": "code",
      "execution_count": 38,
      "metadata": {},
      "outputs": [
        {
          "output_type": "display_data",
          "metadata": {},
          "data": {
            "text/html": [
              "\n",
              "</div>"
            ]
          }
        }
      ],
      "source": [
        "df_new = pd.DataFrame({'X1':['옥순']*6, 'X2':['영식','영철','영호','광수','상철','영수']})\n",
        "df_new"
      ],
      "id": "a74299c7-08ef-4c50-a312-696b918fa995"
    },
    {
      "cell_type": "code",
      "execution_count": 39,
      "metadata": {},
      "outputs": [
        {
          "output_type": "display_data",
          "metadata": {},
          "data": {
            "text/html": [
              "\n",
              "<style>\n",
              "    /* Turns off some styling */\n",
              "    progress {\n",
              "        /* gets rid of default border in Firefox and Opera. */\n",
              "        border: none;\n",
              "        /* Needs to be in here for Safari polyfill so background images work as expected. */\n",
              "        background-size: auto;\n",
              "    }\n",
              "    progress:not([value]), progress:not([value])::-webkit-progress-bar {\n",
              "        background: repeating-linear-gradient(45deg, #7e7e7e, #7e7e7e 10px, #5c5c5c 10px, #5c5c5c 20px);\n",
              "    }\n",
              "    .progress-bar-interrupted, .progress-bar-interrupted::-webkit-progress-bar {\n",
              "        background: #F44336;\n",
              "    }\n",
              "</style>"
            ]
          }
        },
        {
          "output_type": "display_data",
          "metadata": {},
          "data": {
            "text/html": []
          }
        },
        {
          "output_type": "display_data",
          "metadata": {},
          "data": {
            "text/plain": [
              "(tensor([3.9011, 4.1288, 3.6021, 0.6609, 0.3678, 0.5451]), None)"
            ]
          }
        }
      ],
      "source": [
        "lrnr.get_preds(dl=dls.test_dl(df_new))"
      ],
      "id": "f5563185-51e2-4b0e-88f2-14f69255b3b1"
    },
    {
      "cell_type": "markdown",
      "metadata": {},
      "source": [
        "비교를 위해서"
      ],
      "id": "265b448d-451a-4498-971c-2219354870a1"
    },
    {
      "cell_type": "code",
      "execution_count": 40,
      "metadata": {},
      "outputs": [
        {
          "output_type": "display_data",
          "metadata": {},
          "data": {
            "text/html": [
              "\n",
              "</div>"
            ]
          }
        }
      ],
      "source": [
        "df_view"
      ],
      "id": "3293097c-5906-4366-b6dd-8e8580a19341"
    },
    {
      "cell_type": "markdown",
      "metadata": {},
      "source": [
        "**(정숙의 궁합)**"
      ],
      "id": "9b1f2a76-8d39-456f-8afb-4911547b89eb"
    },
    {
      "cell_type": "code",
      "execution_count": 41,
      "metadata": {},
      "outputs": [
        {
          "output_type": "display_data",
          "metadata": {},
          "data": {
            "text/html": [
              "\n",
              "</div>"
            ]
          }
        }
      ],
      "source": [
        "df_new = pd.DataFrame({'X1':['정숙']*6, 'X2':['영식','영철','영호','광수','상철','영수']})\n",
        "df_new"
      ],
      "id": "32c0688a-dd10-4cb1-9ad9-f271a3c21729"
    },
    {
      "cell_type": "code",
      "execution_count": 42,
      "metadata": {},
      "outputs": [
        {
          "output_type": "display_data",
          "metadata": {},
          "data": {
            "text/html": [
              "\n",
              "<style>\n",
              "    /* Turns off some styling */\n",
              "    progress {\n",
              "        /* gets rid of default border in Firefox and Opera. */\n",
              "        border: none;\n",
              "        /* Needs to be in here for Safari polyfill so background images work as expected. */\n",
              "        background-size: auto;\n",
              "    }\n",
              "    progress:not([value]), progress:not([value])::-webkit-progress-bar {\n",
              "        background: repeating-linear-gradient(45deg, #7e7e7e, #7e7e7e 10px, #5c5c5c 10px, #5c5c5c 20px);\n",
              "    }\n",
              "    .progress-bar-interrupted, .progress-bar-interrupted::-webkit-progress-bar {\n",
              "        background: #F44336;\n",
              "    }\n",
              "</style>"
            ]
          }
        },
        {
          "output_type": "display_data",
          "metadata": {},
          "data": {
            "text/html": []
          }
        },
        {
          "output_type": "display_data",
          "metadata": {},
          "data": {
            "text/plain": [
              "(tensor([4.8320, 4.8423, 4.6991, 1.5996, 1.1552, 1.2886]), None)"
            ]
          }
        }
      ],
      "source": [
        "lrnr.get_preds(dl=dls.test_dl(df_new))"
      ],
      "id": "921beccd-f8bf-4ad2-9780-1c822fd9b052"
    },
    {
      "cell_type": "markdown",
      "metadata": {},
      "source": [
        "높으면 잘 맞는다,\n",
        "\n",
        "비교를 위해서"
      ],
      "id": "249d1056-c5a0-4ca4-9eab-2270fc5adcd9"
    },
    {
      "cell_type": "code",
      "execution_count": 43,
      "metadata": {},
      "outputs": [
        {
          "output_type": "display_data",
          "metadata": {},
          "data": {
            "text/html": [
              "\n",
              "</div>"
            ]
          }
        }
      ],
      "source": [
        "df_view"
      ],
      "id": "4d54a1f0-c424-4446-8471-703e47a4ee5f"
    },
    {
      "cell_type": "markdown",
      "metadata": {},
      "source": [
        "`-` Appedix: fastai 구조공부.."
      ],
      "id": "72efe2c9-08ae-4772-bbbe-af99ecb53cc3"
    },
    {
      "cell_type": "code",
      "execution_count": 44,
      "metadata": {},
      "outputs": [
        {
          "output_type": "display_data",
          "metadata": {},
          "data": {
            "text/plain": [
              "EmbeddingDotBias(\n",
              "  (u_weight): Embedding(7, 2)\n",
              "  (i_weight): Embedding(7, 2)\n",
              "  (u_bias): Embedding(7, 1)\n",
              "  (i_bias): Embedding(7, 1)\n",
              ")"
            ]
          }
        }
      ],
      "source": [
        "lrnr.model"
      ],
      "id": "9e1922e3-3ccf-48d7-b74b-600b82931632"
    },
    {
      "cell_type": "code",
      "execution_count": 45,
      "metadata": {},
      "outputs": [
        {
          "output_type": "display_data",
          "metadata": {},
          "data": {
            "text/html": [
              "<pre><span class=\"ansi-red-fg\">Signature:</span> lrnr<span class=\"ansi-blue-fg\">.</span>model<span class=\"ansi-blue-fg\">.</span>forward<span class=\"ansi-blue-fg\">(</span>x<span class=\"ansi-blue-fg\">)</span>\n",
              "<span class=\"ansi-red-fg\">Docstring:</span>\n",
              "Defines the computation performed at every call.\n",
              "Should be overridden by all subclasses.\n",
              ".. note::\n",
              "    Although the recipe for forward pass needs to be defined within\n",
              "    this function, one should call the :class:`Module` instance afterwards\n",
              "    instead of this since the former takes care of running the\n",
              "    registered hooks while the latter silently ignores them.\n",
              "<span class=\"ansi-red-fg\">Source:</span>   \n",
              "    <span class=\"ansi-green-fg\">def</span> forward<span class=\"ansi-blue-fg\">(</span>self<span class=\"ansi-blue-fg\">,</span> x<span class=\"ansi-blue-fg\">)</span><span class=\"ansi-blue-fg\">:</span>\n",
              "        users<span class=\"ansi-blue-fg\">,</span>items <span class=\"ansi-blue-fg\">=</span> x<span class=\"ansi-blue-fg\">[</span><span class=\"ansi-blue-fg\">:</span><span class=\"ansi-blue-fg\">,</span><span class=\"ansi-cyan-fg\">0</span><span class=\"ansi-blue-fg\">]</span><span class=\"ansi-blue-fg\">,</span>x<span class=\"ansi-blue-fg\">[</span><span class=\"ansi-blue-fg\">:</span><span class=\"ansi-blue-fg\">,</span><span class=\"ansi-cyan-fg\">1</span><span class=\"ansi-blue-fg\">]</span>\n",
              "        dot <span class=\"ansi-blue-fg\">=</span> self<span class=\"ansi-blue-fg\">.</span>u_weight<span class=\"ansi-blue-fg\">(</span>users<span class=\"ansi-blue-fg\">)</span><span class=\"ansi-blue-fg\">*</span> self<span class=\"ansi-blue-fg\">.</span>i_weight<span class=\"ansi-blue-fg\">(</span>items<span class=\"ansi-blue-fg\">)</span>\n",
              "        res <span class=\"ansi-blue-fg\">=</span> dot<span class=\"ansi-blue-fg\">.</span>sum<span class=\"ansi-blue-fg\">(</span><span class=\"ansi-cyan-fg\">1</span><span class=\"ansi-blue-fg\">)</span> <span class=\"ansi-blue-fg\">+</span> self<span class=\"ansi-blue-fg\">.</span>u_bias<span class=\"ansi-blue-fg\">(</span>users<span class=\"ansi-blue-fg\">)</span><span class=\"ansi-blue-fg\">.</span>squeeze<span class=\"ansi-blue-fg\">(</span><span class=\"ansi-blue-fg\">)</span> <span class=\"ansi-blue-fg\">+</span> self<span class=\"ansi-blue-fg\">.</span>i_bias<span class=\"ansi-blue-fg\">(</span>items<span class=\"ansi-blue-fg\">)</span><span class=\"ansi-blue-fg\">.</span>squeeze<span class=\"ansi-blue-fg\">(</span><span class=\"ansi-blue-fg\">)</span>\n",
              "        <span class=\"ansi-green-fg\">if</span> self<span class=\"ansi-blue-fg\">.</span>y_range <span class=\"ansi-green-fg\">is</span> <span class=\"ansi-green-fg\">None</span><span class=\"ansi-blue-fg\">:</span> <span class=\"ansi-green-fg\">return</span> res\n",
              "        <span class=\"ansi-green-fg\">return</span> torch<span class=\"ansi-blue-fg\">.</span>sigmoid<span class=\"ansi-blue-fg\">(</span>res<span class=\"ansi-blue-fg\">)</span> <span class=\"ansi-blue-fg\">*</span> <span class=\"ansi-blue-fg\">(</span>self<span class=\"ansi-blue-fg\">.</span>y_range<span class=\"ansi-blue-fg\">[</span><span class=\"ansi-cyan-fg\">1</span><span class=\"ansi-blue-fg\">]</span><span class=\"ansi-blue-fg\">-</span>self<span class=\"ansi-blue-fg\">.</span>y_range<span class=\"ansi-blue-fg\">[</span><span class=\"ansi-cyan-fg\">0</span><span class=\"ansi-blue-fg\">]</span><span class=\"ansi-blue-fg\">)</span> <span class=\"ansi-blue-fg\">+</span> self<span class=\"ansi-blue-fg\">.</span>y_range<span class=\"ansi-blue-fg\">[</span><span class=\"ansi-cyan-fg\">0</span><span class=\"ansi-blue-fg\">]</span>\n",
              "<span class=\"ansi-red-fg\">File:</span>      ~/anaconda3/envs/py37/lib/python3.7/site-packages/fastai/collab.py\n",
              "<span class=\"ansi-red-fg\">Type:</span>      method\n",
              "</pre>"
            ]
          }
        }
      ],
      "source": [
        "lrnr.model.forward??"
      ],
      "id": "61d3a8e9-fd47-4ff4-afe9-74c3dd8fcce5"
    },
    {
      "cell_type": "markdown",
      "metadata": {},
      "source": [
        "-   bias를 제외하면 우리가 짠 모형과 같음!\n",
        "\n",
        "# 커피 or 홍차\n",
        "\n",
        "## data\n",
        "\n",
        "`-` 예전에 살펴본 예제"
      ],
      "id": "e55808de-f2fb-42cb-a3ae-ad486a4e7bcb"
    },
    {
      "cell_type": "code",
      "execution_count": 46,
      "metadata": {},
      "outputs": [
        {
          "output_type": "display_data",
          "metadata": {},
          "data": {
            "text/html": [
              "\n",
              "<p>1000 rows × 4 columns</p>\n",
              "</div>"
            ]
          }
        }
      ],
      "source": [
        "df = pd.read_csv('https://raw.githubusercontent.com/guebin/DL2022/main/posts/I.%20Overview/2022-09-08-rcmd_anal.csv')\n",
        "df"
      ],
      "id": "2970859c-8b0d-4ed5-8dc6-95fd2221cb4e"
    },
    {
      "cell_type": "markdown",
      "metadata": {},
      "source": [
        "`-` 기억을 살리기 위해서.."
      ],
      "id": "b97a2817-b32f-464a-9e0b-0957289c3c1f"
    },
    {
      "cell_type": "code",
      "execution_count": 47,
      "metadata": {},
      "outputs": [
        {
          "output_type": "display_data",
          "metadata": {},
          "data": {
            "text/html": [
              "\n",
              "<p>100 rows × 20 columns</p>\n",
              "</div>"
            ]
          }
        }
      ],
      "source": [
        "df_view = pd.read_csv('https://raw.githubusercontent.com/guebin/DL2022/main/posts/I.%20Overview/2022-09-08-rcmd_view.csv')\n",
        "df_view"
      ],
      "id": "14c3497e-55a9-4b93-89d8-be7c430d6a6a"
    },
    {
      "cell_type": "markdown",
      "metadata": {},
      "source": [
        "## 모형\n",
        "\n",
        "(편의상 바이어스를 제외하면)\n",
        "\n",
        "`-` 특징벡터:\n",
        "\n",
        "-   유저1의 취향 = \\[커피를 좋아하는 정도, 홍차를 좋아하는 정도\\]\n",
        "-   아이템1의 특징 = \\[커피의 특징, 홍차인 특징\\]\n",
        "\n",
        "`-` 평점\n",
        "\n",
        "-   유저1이 아이템1을 먹었을경우 평점: 유저1의 취향과 아이템1의 특징의\n",
        "    내적 = (유저1의 취향 $\\odot$ 아이템1의 특징).sum()\n",
        "\n",
        "## 학습\n",
        "\n",
        "`(1)` dls"
      ],
      "id": "112f4b3d-ec06-48ba-b260-5b01c8d64eb1"
    },
    {
      "cell_type": "code",
      "execution_count": 48,
      "metadata": {},
      "outputs": [],
      "source": [
        "dls = CollabDataLoaders.from_df(df)"
      ],
      "id": "9d71a4eb-2c2e-46b0-89e6-430238d7994b"
    },
    {
      "cell_type": "code",
      "execution_count": 49,
      "metadata": {},
      "outputs": [
        {
          "output_type": "display_data",
          "metadata": {},
          "data": {
            "text/html": [
              "\n",
              "<p>800 rows × 4 columns</p>\n",
              "</div>"
            ]
          }
        }
      ],
      "source": [
        "dls.items"
      ],
      "id": "30d0ac4f-49a6-47c7-b2a1-fa68eca10e11"
    },
    {
      "cell_type": "markdown",
      "metadata": {},
      "source": [
        "`(2)` lrnr"
      ],
      "id": "1583a316-7823-4896-9422-487807f6b2b4"
    },
    {
      "cell_type": "code",
      "execution_count": 50,
      "metadata": {},
      "outputs": [],
      "source": [
        "lrnr = collab_learner(dls,n_factors=2) # 교재에는 y_range 를 설정하도록 되어있지만 설정 안해도 적합에는 크게 상관없음.."
      ],
      "id": "be633b91-7459-4f8b-b1a6-8193e89c516c"
    },
    {
      "cell_type": "markdown",
      "metadata": {},
      "source": [
        "`(3)` fit"
      ],
      "id": "e30de612-bbfa-451a-8d1a-21a57a1eb7e6"
    },
    {
      "cell_type": "code",
      "execution_count": 51,
      "metadata": {},
      "outputs": [
        {
          "output_type": "display_data",
          "metadata": {},
          "data": {
            "text/html": [
              "\n",
              "<style>\n",
              "    /* Turns off some styling */\n",
              "    progress {\n",
              "        /* gets rid of default border in Firefox and Opera. */\n",
              "        border: none;\n",
              "        /* Needs to be in here for Safari polyfill so background images work as expected. */\n",
              "        background-size: auto;\n",
              "    }\n",
              "    progress:not([value]), progress:not([value])::-webkit-progress-bar {\n",
              "        background: repeating-linear-gradient(45deg, #7e7e7e, #7e7e7e 10px, #5c5c5c 10px, #5c5c5c 20px);\n",
              "    }\n",
              "    .progress-bar-interrupted, .progress-bar-interrupted::-webkit-progress-bar {\n",
              "        background: #F44336;\n",
              "    }\n",
              "</style>"
            ]
          }
        },
        {
          "output_type": "display_data",
          "metadata": {},
          "data": {}
        }
      ],
      "source": [
        "lrnr.fit(10,0.1)"
      ],
      "id": "527f7835-caa8-4b4f-ba7c-c62a6b5c916d"
    },
    {
      "cell_type": "markdown",
      "metadata": {},
      "source": [
        "`(4)` predict\n",
        "\n",
        "(적합된 값 확인)"
      ],
      "id": "70eeba11-5a6b-4e8d-b5f8-4566a42d22a4"
    },
    {
      "cell_type": "code",
      "execution_count": 52,
      "metadata": {},
      "outputs": [
        {
          "output_type": "display_data",
          "metadata": {},
          "data": {
            "text/html": [
              "\n",
              "<style>\n",
              "    /* Turns off some styling */\n",
              "    progress {\n",
              "        /* gets rid of default border in Firefox and Opera. */\n",
              "        border: none;\n",
              "        /* Needs to be in here for Safari polyfill so background images work as expected. */\n",
              "        background-size: auto;\n",
              "    }\n",
              "    progress:not([value]), progress:not([value])::-webkit-progress-bar {\n",
              "        background: repeating-linear-gradient(45deg, #7e7e7e, #7e7e7e 10px, #5c5c5c 10px, #5c5c5c 20px);\n",
              "    }\n",
              "    .progress-bar-interrupted, .progress-bar-interrupted::-webkit-progress-bar {\n",
              "        background: #F44336;\n",
              "    }\n",
              "</style>"
            ]
          }
        },
        {
          "output_type": "display_data",
          "metadata": {},
          "data": {
            "text/html": []
          }
        },
        {
          "output_type": "display_data",
          "metadata": {},
          "data": {}
        }
      ],
      "source": [
        "lrnr.show_results() # 누를때마다 결과다름"
      ],
      "id": "d763799d-51e4-499f-9eff-701ba54b3a60"
    },
    {
      "cell_type": "markdown",
      "metadata": {},
      "source": [
        "(예측값)"
      ],
      "id": "3e9e57ab-ab16-416e-8c33-6c33fc42b0b6"
    },
    {
      "cell_type": "code",
      "execution_count": 53,
      "metadata": {},
      "outputs": [
        {
          "output_type": "display_data",
          "metadata": {},
          "data": {
            "text/html": [
              "\n",
              "</div>"
            ]
          }
        }
      ],
      "source": [
        "df_new = pd.DataFrame({'user':[1,1,1,1], 'item':[9,10,11,12]})\n",
        "df_new"
      ],
      "id": "03192cb5-91b2-4a9c-a2e5-66289a464d4b"
    },
    {
      "cell_type": "code",
      "execution_count": 54,
      "metadata": {},
      "outputs": [
        {
          "output_type": "display_data",
          "metadata": {},
          "data": {
            "text/html": [
              "\n",
              "<style>\n",
              "    /* Turns off some styling */\n",
              "    progress {\n",
              "        /* gets rid of default border in Firefox and Opera. */\n",
              "        border: none;\n",
              "        /* Needs to be in here for Safari polyfill so background images work as expected. */\n",
              "        background-size: auto;\n",
              "    }\n",
              "    progress:not([value]), progress:not([value])::-webkit-progress-bar {\n",
              "        background: repeating-linear-gradient(45deg, #7e7e7e, #7e7e7e 10px, #5c5c5c 10px, #5c5c5c 20px);\n",
              "    }\n",
              "    .progress-bar-interrupted, .progress-bar-interrupted::-webkit-progress-bar {\n",
              "        background: #F44336;\n",
              "    }\n",
              "</style>"
            ]
          }
        },
        {
          "output_type": "display_data",
          "metadata": {},
          "data": {
            "text/html": []
          }
        },
        {
          "output_type": "display_data",
          "metadata": {},
          "data": {
            "text/plain": [
              "(tensor([3.9138, 3.9825, 0.9447, 0.8223]), None)"
            ]
          }
        }
      ],
      "source": [
        "lrnr.get_preds(dl=dls.test_dl(df_new))"
      ],
      "id": "d34289ab-d19a-4292-a314-5580631c9964"
    }
  ],
  "nbformat": 4,
  "nbformat_minor": 5,
  "metadata": {
    "kernelspec": {
      "name": "python3",
      "display_name": "Python 3",
      "language": "python"
    },
    "language_info": {
      "name": "python",
      "codemirror_mode": {
        "name": "ipython",
        "version": "3"
      },
      "file_extension": ".py",
      "mimetype": "text/x-python",
      "nbconvert_exporter": "python",
      "pygments_lexer": "ipython3",
      "version": "3.7.13"
    }
  }
}