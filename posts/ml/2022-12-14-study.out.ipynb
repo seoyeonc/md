{
  "cells": [
    {
      "cell_type": "markdown",
      "metadata": {},
      "source": [
        "# study\n",
        "\n",
        "SEOYEON CHOI  \n",
        "12/8/22\n",
        "\n",
        "> study\n",
        "\n",
        "# a,b,c,d,e 를 표현함에 있어서 3개의 은닉노드면 충분하다.\n",
        "\n",
        "-   1개의 은닉노드 -\\> 2개의 문자를 표현할 수 있음.\n",
        "-   2개의 은닉노드 -\\> 4개의 문자를 표현할 수 있음.\n",
        "-   3개의 은닉노드 -\\> 8개의 문자를 표현할 수 있음.\n",
        "\n",
        "# torch.nn.RNN(4,2)는 torch.nn.RNNCell(4,2)의 batch 버전이다.\n",
        "\n",
        "(for문이 포함된 버전이다)\n",
        "\n",
        "# torch.nn.LSTM에서 batch size\n",
        "\n",
        "batch size = 전체데이터는 몇 개의 시계열이 있는지 = 전체 데이터를 몇개의\n",
        "시계열로 쪼갤지\n",
        "\n",
        "-   fastai, Dataloader의 batchsize 는 한 뭉치에 몇 개 있는지\n",
        "\n",
        "# 원래 1은 단순히 observation의 차원이 아니다. 즉 $x_{n \\times p}$ 에서 $n$에 대응하는 차원으로 생각할 수 없다.\n",
        "\n",
        "-   그런데 (1) 단방향 (2) 조각내지 않은 시계열 (3) 중첩하지 않은\n",
        "    순환망에 한정하여서는 observation 처럼 생각해도 무방하다.\n",
        "\n",
        "-   현실적으로 (1)-(3)이 아닌 조건에서는 Cell 단위로 연산을 이용할 일이\n",
        "    없다. (느리거든요) // 그냥 이해용으로 구현\n",
        "\n",
        "-   torch.nn.RNN 혹은 torch.nn.LSTM 으로 네트워크를 구성할시 \\_water의\n",
        "    dim을 명시할 일도 없다.\n",
        "\n",
        "-   오로지 고려해야 할 것은 입력시계열을 조각낼지 조각내지 않을지"
      ],
      "id": "b60a86bb-8ee7-4a93-a728-f809c9980bad"
    },
    {
      "cell_type": "code",
      "execution_count": 2,
      "metadata": {},
      "outputs": [],
      "source": [
        "import torch\n",
        "import pandas as pd\n",
        "import matplotlib.pyplot as plt"
      ],
      "id": "751edd8a-51f6-4dd7-9924-8b8def4d9ab2"
    },
    {
      "cell_type": "code",
      "execution_count": 3,
      "metadata": {},
      "outputs": [],
      "source": [
        "sig = torch.nn.Sigmoid()\n",
        "soft = torch.nn.Softmax(dim=1)\n",
        "tanh = torch.nn.Tanh()"
      ],
      "id": "e54dcd7e-d124-4801-80f6-e77623660ce0"
    },
    {
      "cell_type": "code",
      "execution_count": 4,
      "metadata": {},
      "outputs": [],
      "source": [
        "def f(txt,mapping):\n",
        "    return [mapping[key] for key in txt] "
      ],
      "id": "9044775e-ce3c-4a27-beb1-c7b7fb0638c8"
    },
    {
      "cell_type": "code",
      "execution_count": 5,
      "metadata": {},
      "outputs": [],
      "source": [
        "txt = list('ab')*100\n",
        "txt_x = txt[:-1]\n",
        "txt_y = txt[1:]"
      ],
      "id": "2fe49f2f-fd08-4def-8d2f-1b5471f2c0a2"
    },
    {
      "cell_type": "code",
      "execution_count": 6,
      "metadata": {},
      "outputs": [],
      "source": [
        "mapping = {'a':[1,0],'b':[0,1]}\n",
        "x = torch.tensor(f(txt_x,mapping)).float().reshape(-1,2)\n",
        "y = torch.tensor(f(txt_y,mapping)).float().reshape(-1,2)"
      ],
      "id": "f3fee3c6-46a9-452e-a279-7820ce391419"
    },
    {
      "cell_type": "code",
      "execution_count": 7,
      "metadata": {},
      "outputs": [],
      "source": [
        "class mynet(torch.nn.Module):\n",
        "    def __init__(self):\n",
        "        super().__init__()\n",
        "        ## 우리가 사용할 레이어를 정의 \n",
        "        self.l1 = torch.nn.Linear(in_features=2,out_features=1,bias=True)\n",
        "        self.a1 = torch.nn.Tanh()\n",
        "        self.l2 = torch.nn.Linear(in_features=1,out_features=2,bias=False)\n",
        "        ## 레이어 정의 끝\n",
        "    def forward(self,x):\n",
        "        ## yhat을 어떻게 구할것인지 정의 \n",
        "        yhat = self.l2(self.a1(self.l1(x)))\n",
        "        ## 정의 끝\n",
        "        return yhat"
      ],
      "id": "cc38f2d7-0cd8-4321-9a00-67a0ca8322e5"
    },
    {
      "cell_type": "code",
      "execution_count": 8,
      "metadata": {},
      "outputs": [],
      "source": [
        "net = mynet()"
      ],
      "id": "b700b87c-69ea-47ad-90e2-92e900a575a2"
    },
    {
      "cell_type": "code",
      "execution_count": 9,
      "metadata": {},
      "outputs": [],
      "source": [
        "loss_fn = torch.nn.CrossEntropyLoss()\n",
        "optimizr = torch.optim.Adam(net.parameters())"
      ],
      "id": "e39bb98b-031f-4620-b06b-c482bbe3e586"
    },
    {
      "cell_type": "code",
      "execution_count": 10,
      "metadata": {},
      "outputs": [],
      "source": [
        "for epoc in range(5000):\n",
        "    yhat = net(x)\n",
        "    loss = loss_fn(yhat,y)\n",
        "    loss.backward()\n",
        "    optimizr.step()\n",
        "    optimizr.zero_grad()"
      ],
      "id": "18387b74-9f54-43bb-a34d-352f73a892e3"
    },
    {
      "cell_type": "markdown",
      "metadata": {},
      "source": [
        "## 임베딩"
      ],
      "id": "137fdbfd-5fd9-4179-8934-a31998f50fc4"
    },
    {
      "cell_type": "code",
      "execution_count": 11,
      "metadata": {},
      "outputs": [
        {
          "output_type": "display_data",
          "metadata": {},
          "data": {
            "text/plain": [
              "(tensor([0, 1, 0, 1, 0]), tensor([1, 0, 1, 0, 1]))"
            ]
          }
        }
      ],
      "source": [
        "mapping = {'a':0,'b':1}\n",
        "x = torch.tensor(f(txt_x,mapping))\n",
        "y = torch.tensor(f(txt_y,mapping))\n",
        "x[:5],y[:5]"
      ],
      "id": "95b28691-67b9-4e10-89a3-40541ad554cf"
    },
    {
      "cell_type": "code",
      "execution_count": 12,
      "metadata": {},
      "outputs": [],
      "source": [
        "class mynet2(torch.nn.Module):\n",
        "    def __init__(self):\n",
        "        super().__init__()\n",
        "        ## 우리가 사용할 레이어를 정의 \n",
        "        self.l1 = torch.nn.Embedding(num_embeddings=2,embedding_dim=1)\n",
        "        self.a1 = torch.nn.Tanh()\n",
        "        self.l2 = torch.nn.Linear(in_features=1,out_features=2)\n",
        "        ## 레이어 정의 끝\n",
        "    def forward(self,x):\n",
        "        ## yhat을 어떻게 구할것인지 정의 \n",
        "        yhat = self.l2(self.a1(self.l1(x)))\n",
        "        ## 정의 끝\n",
        "        return yhat"
      ],
      "id": "ac8aba49-8fa9-4be4-9179-2a21cca5469a"
    },
    {
      "cell_type": "code",
      "execution_count": 13,
      "metadata": {},
      "outputs": [],
      "source": [
        "net = mynet2()"
      ],
      "id": "30be1282-a2d0-40a1-a316-e849597f18a7"
    },
    {
      "cell_type": "code",
      "execution_count": 14,
      "metadata": {},
      "outputs": [],
      "source": [
        "loss_fn = torch.nn.CrossEntropyLoss()\n",
        "optimizr = torch.optim.Adam(net.parameters())"
      ],
      "id": "c9fff91c-9526-4a62-874b-f740f077e1e7"
    },
    {
      "cell_type": "code",
      "execution_count": 15,
      "metadata": {},
      "outputs": [],
      "source": [
        "for epoc in range(5000):\n",
        "    yhat = net(x)\n",
        "    loss = loss_fn(yhat,y)\n",
        "    loss.backward()\n",
        "    optimizr.step()\n",
        "    optimizr.zero_grad()"
      ],
      "id": "b2d14057-a251-4cd1-878f-b1a74767c80e"
    },
    {
      "cell_type": "markdown",
      "metadata": {},
      "source": [
        "## 두 개의 은닉노드 이용"
      ],
      "id": "50491edd-1bf5-45cd-8e71-c412fa8e039b"
    },
    {
      "cell_type": "code",
      "execution_count": 16,
      "metadata": {},
      "outputs": [],
      "source": [
        "txt = list('abcd')*100\n",
        "txt_x = txt[:-1]\n",
        "txt_y = txt[1:]"
      ],
      "id": "4db00d17-7350-43a8-b36c-f61b6721f42b"
    },
    {
      "cell_type": "code",
      "execution_count": 17,
      "metadata": {},
      "outputs": [
        {
          "output_type": "display_data",
          "metadata": {},
          "data": {
            "text/plain": [
              "(tensor([0, 1, 2, 3, 0]), tensor([1, 2, 3, 0, 1]))"
            ]
          }
        }
      ],
      "source": [
        "mapping = {'a':0,'b':1,'c':2,'d':3}\n",
        "x = torch.tensor(f(txt_x,mapping))\n",
        "y = torch.tensor(f(txt_y,mapping))\n",
        "x[:5],y[:5]"
      ],
      "id": "3224b36f-3400-4bef-af19-df25388e4676"
    },
    {
      "cell_type": "code",
      "execution_count": 18,
      "metadata": {},
      "outputs": [],
      "source": [
        "l1=torch.nn.Embedding(num_embeddings=4,embedding_dim=2)"
      ],
      "id": "ea3aed89-1b4f-4680-8bea-a0d86b770bb3"
    },
    {
      "cell_type": "code",
      "execution_count": 19,
      "metadata": {},
      "outputs": [],
      "source": [
        "a1 = torch.nn.Tanh()"
      ],
      "id": "3f25f102-e256-434b-b5dd-6874fcc1e5c9"
    },
    {
      "cell_type": "code",
      "execution_count": 20,
      "metadata": {},
      "outputs": [],
      "source": [
        "l2 = torch.nn.Linear(in_features=2,out_features=4)"
      ],
      "id": "72cec570-56fa-422f-8a0c-57a93da6516f"
    },
    {
      "cell_type": "code",
      "execution_count": 21,
      "metadata": {},
      "outputs": [],
      "source": [
        "net = torch.nn.Sequential(\n",
        "    l1,a1,l2)"
      ],
      "id": "66ff0dfa-f5b3-4bff-948a-2989344ae431"
    },
    {
      "cell_type": "code",
      "execution_count": 22,
      "metadata": {},
      "outputs": [],
      "source": [
        "loss_fn = torch.nn.CrossEntropyLoss()\n",
        "optimizr = torch.optim.Adam(net.parameters())"
      ],
      "id": "199f1167-7422-4a56-bb71-6f6fddc85aac"
    },
    {
      "cell_type": "code",
      "execution_count": 23,
      "metadata": {},
      "outputs": [],
      "source": [
        "for epoc in range(5000):\n",
        "    yhat=net(x)\n",
        "    loss = loss_fn(yhat,y)\n",
        "    loss.backward()\n",
        "    optimizr.step()\n",
        "    optimizr.zero_grad()"
      ],
      "id": "517df6c5-8434-4381-b78a-09502ccdecb4"
    },
    {
      "cell_type": "code",
      "execution_count": 24,
      "metadata": {},
      "outputs": [],
      "source": [
        "hidden = net[:-1](x).data\n",
        "yhat = soft(net(x)).data"
      ],
      "id": "2154fca7-ded8-4b52-bf0c-0a30cbcedc7d"
    },
    {
      "cell_type": "code",
      "execution_count": 25,
      "metadata": {},
      "outputs": [
        {
          "output_type": "display_data",
          "metadata": {},
          "data": {
            "text/plain": [
              "Sequential(\n",
              "  (0): Embedding(4, 2)\n",
              "  (1): Tanh()\n",
              ")"
            ]
          }
        }
      ],
      "source": [
        "net[:-1]"
      ],
      "id": "e0c123ce-518f-473f-b3b5-dc7d5bba09fa"
    },
    {
      "cell_type": "markdown",
      "metadata": {},
      "source": [
        "결과 시각화 코드 10주\n",
        "\n",
        "## 순환신경망 Class 사용 RNN\n",
        "\n",
        "10주"
      ],
      "id": "90b77a77-bae0-4b84-825f-0c96e321a934"
    },
    {
      "cell_type": "code",
      "execution_count": 26,
      "metadata": {},
      "outputs": [],
      "source": [
        "txt = list('AbAcAd')*100\n",
        "txt_x = txt[:-1]\n",
        "txt_y = txt[1:]\n",
        "x = torch.tensor(f(txt_x,{'A':0,'b':1,'c':2,'d':3}))\n",
        "y = torch.tensor(f(txt_y,{'A':0,'b':1,'c':2,'d':3}))\n",
        "x= torch.nn.functional.one_hot(x).float()\n",
        "y= torch.nn.functional.one_hot(y).float()"
      ],
      "id": "7833f126-8b8e-4962-988d-a317601f230e"
    },
    {
      "cell_type": "code",
      "execution_count": 27,
      "metadata": {},
      "outputs": [],
      "source": [
        "class rNNCell(torch.nn.Module):\n",
        "    def __init__(self):\n",
        "        super().__init__()\n",
        "        self.i2h = torch.nn.Linear(4,2) \n",
        "        self.h2h = torch.nn.Linear(2,2) \n",
        "        self.tanh = torch.nn.Tanh()\n",
        "    def forward(self,x,hidden):\n",
        "        hidden = self.tanh(self.i2h(x)+self.h2h(hidden))\n",
        "        return hidden"
      ],
      "id": "3d72d672-e651-4d67-b00a-7eed1cb78e20"
    },
    {
      "cell_type": "code",
      "execution_count": 28,
      "metadata": {},
      "outputs": [],
      "source": [
        "torch.manual_seed(43052)\n",
        "rnncell = rNNCell()"
      ],
      "id": "c5bf5f3d-d371-49e8-a3ba-2c3cf9f4de85"
    },
    {
      "cell_type": "code",
      "execution_count": 29,
      "metadata": {},
      "outputs": [],
      "source": [
        "torch.manual_seed(43052)\n",
        "cook = torch.nn.Linear(2,4) "
      ],
      "id": "e71ffb79-938b-495d-ad73-f285781acb87"
    },
    {
      "cell_type": "code",
      "execution_count": 30,
      "metadata": {},
      "outputs": [],
      "source": [
        "loss_fn = torch.nn.CrossEntropyLoss() \n",
        "optimizr = torch.optim.Adam(list(rnncell.parameters())+list(cook.parameters()))"
      ],
      "id": "b72c3e0f-bcc3-4e0b-a6f5-f132d01c7ec7"
    },
    {
      "cell_type": "code",
      "execution_count": 31,
      "metadata": {},
      "outputs": [],
      "source": [
        "T = len(x) \n",
        "for epoc in range(100): \n",
        "    ## 1~2\n",
        "    loss = 0 \n",
        "    ht = torch.zeros(1,2) \n",
        "    for t in range(T):\n",
        "        xt,yt = x[[t]], y[[t]]\n",
        "        ht = rnncell(xt,ht) \n",
        "        ot = cook(ht) \n",
        "        loss = loss + loss_fn(ot,yt) \n",
        "    ## 3 \n",
        "    loss.backward()\n",
        "    ## 4 \n",
        "    optimizr.step()\n",
        "    optimizr.zero_grad()"
      ],
      "id": "5d418ae7-3ebd-4478-88c1-0ebdf86756ad"
    },
    {
      "cell_type": "markdown",
      "metadata": {},
      "source": [
        "시각화코드는 10주_순환신경망구현1-성공에\n",
        "\n",
        "## 순환신경망 RNN"
      ],
      "id": "f56baad0-480d-43ce-b1b1-63eb00bee3b4"
    },
    {
      "cell_type": "code",
      "execution_count": 32,
      "metadata": {},
      "outputs": [],
      "source": [
        "txt = list('AbAcAd')*100\n",
        "txt_x = txt[:-1]\n",
        "txt_y = txt[1:]\n",
        "x = torch.nn.functional.one_hot(torch.tensor(f(txt_x,{'A':0,'b':1,'c':2,'d':3}))).float()\n",
        "y = torch.nn.functional.one_hot(torch.tensor(f(txt_y,{'A':0,'b':1,'c':2,'d':3}))).float()"
      ],
      "id": "4d8bc7cf-b0b8-4d19-a6c5-f3f8a2c6af59"
    },
    {
      "cell_type": "code",
      "execution_count": 33,
      "metadata": {},
      "outputs": [],
      "source": [
        "torch.manual_seed(2) #1 \n",
        "rnn = torch.nn.RNN(4,3).to(\"cuda:0\") \n",
        "cook = torch.nn.Linear(3,4).to(\"cuda:0\")"
      ],
      "id": "83ac829d-0694-4a06-b28b-3c88e4b55c74"
    },
    {
      "cell_type": "code",
      "execution_count": 34,
      "metadata": {},
      "outputs": [],
      "source": [
        "loss_fn = torch.nn.CrossEntropyLoss()\n",
        "optimizr = torch.optim.Adam(list(rnn.parameters())+list(cook.parameters()))"
      ],
      "id": "38d7b643-0bde-4d31-8ac7-3e3d5b6cd153"
    },
    {
      "cell_type": "code",
      "execution_count": 35,
      "metadata": {},
      "outputs": [],
      "source": [
        "_water = torch.zeros(1,3).to(\"cuda:0\") \n",
        "for epoc in range(500):\n",
        "    ## 1\n",
        "    hidden,hT = rnn(x.to(\"cuda:0\"),_water) \n",
        "    output = cook(hidden) \n",
        "    ## 2 \n",
        "    loss = loss_fn(output,y.to(\"cuda:0\")) \n",
        "    ## 3 \n",
        "    loss.backward()\n",
        "    ## 4 \n",
        "    optimizr.step()\n",
        "    optimizr.zero_grad()"
      ],
      "id": "14c8002b-b943-40ce-abb7-5f0bb8b02237"
    },
    {
      "cell_type": "code",
      "execution_count": 36,
      "metadata": {},
      "outputs": [],
      "source": [
        "yhat = soft(output)"
      ],
      "id": "10f7a604-b424-4dc3-a0aa-db2d74103d69"
    },
    {
      "cell_type": "markdown",
      "metadata": {},
      "source": [
        "## 순환신경망 Class 사용 LSTM"
      ],
      "id": "5e7f0559-39b7-4cc3-ad2d-f5b88b398ae8"
    },
    {
      "cell_type": "code",
      "execution_count": 37,
      "metadata": {},
      "outputs": [],
      "source": [
        "txt = list('hi?hello!!')*100 \n",
        "txt_x = txt[:-1]\n",
        "txt_y = txt[1:]\n",
        "mapping = {'!':0, '?':1,'h':2,'i':3,'e':4,'l':5,'o':6} \n",
        "x= torch.nn.functional.one_hot(torch.tensor(f(txt_x,mapping))).float().to(\"cuda:0\")\n",
        "y= torch.nn.functional.one_hot(torch.tensor(f(txt_y,mapping))).float().to(\"cuda:0\")"
      ],
      "id": "79aa780c-a402-4002-ac6d-c02c56ab6a14"
    },
    {
      "cell_type": "code",
      "execution_count": 38,
      "metadata": {},
      "outputs": [],
      "source": [
        "class lSTMCell(torch.nn.Module):\n",
        "    def __init__(self):\n",
        "        super().__init__()\n",
        "        self.i2h = torch.nn.Linear(7,16)\n",
        "        self.h2h = torch.nn.Linear(4,16) \n",
        "        self.tanh = torch.nn.Tanh()\n",
        "    def forward(self,xt,past):\n",
        "        ht,ct = past \n",
        "        ifgo = self.i2h(xt) + self.h2h(ht) \n",
        "        it = sig(ifgo[0:4])\n",
        "        ft = sig(ifgo[4:8])\n",
        "        gt = tanh(ifgo[8:12])\n",
        "        ot = sig(ifgo[12:16])\n",
        "        ct = ft*ct + it*gt\n",
        "        ht = ot*self.tanh(ct) \n",
        "        return ht,ct"
      ],
      "id": "e3f87c6c-49a2-4e5d-9ea5-13756fbf9e6f"
    },
    {
      "cell_type": "code",
      "execution_count": 39,
      "metadata": {},
      "outputs": [],
      "source": [
        "lstmcell = lSTMCell().to(\"cuda:0\")\n",
        "linr = torch.nn.Linear(4,7).to(\"cuda:0\")\n",
        "loss_fn = torch.nn.CrossEntropyLoss()\n",
        "optimizr = torch.optim.Adam(list(lstmcell.parameters())+list(linr.parameters()),lr=0.1)"
      ],
      "id": "0e2a1e14-1a75-4af7-865f-6fc4e6635ec4"
    },
    {
      "cell_type": "code",
      "execution_count": 40,
      "metadata": {},
      "outputs": [],
      "source": [
        "# 초기값셋팅\n",
        "torch.manual_seed(43052) \n",
        "_lstmcell = torch.nn.LSTMCell(7,4).to(\"cuda:0\")\n",
        "_linr = torch.nn.Linear(4,7).to(\"cuda:0\")\n",
        "lstmcell.i2h.weight.data = _lstmcell.weight_ih.data \n",
        "lstmcell.h2h.weight.data = _lstmcell.weight_hh.data \n",
        "lstmcell.i2h.bias.data = _lstmcell.bias_ih.data\n",
        "lstmcell.h2h.bias.data = _lstmcell.bias_hh.data\n",
        "linr.weight.data = _linr.weight.data \n",
        "linr.bias.data = _linr.bias.data "
      ],
      "id": "153b33ba-634b-41f3-a618-e8001ca07cf1"
    },
    {
      "cell_type": "code",
      "execution_count": 41,
      "metadata": {},
      "outputs": [],
      "source": [
        "for epoc in range(10):\n",
        "    ## 1\n",
        "    hidden = []     \n",
        "    ht = torch.zeros(4).to(\"cuda:0\")\n",
        "    ct = torch.zeros(4).to(\"cuda:0\")\n",
        "    for xt,yt in zip(x,y): \n",
        "        ht,ct = lstmcell(xt,(ht,ct))\n",
        "        hidden.append(ht) \n",
        "    hidden = torch.stack(hidden)\n",
        "    output = linr(hidden) \n",
        "    ## 2 \n",
        "    loss = loss_fn(output,y)\n",
        "    ## 3 \n",
        "    loss.backward()\n",
        "    ## 4 \n",
        "    optimizr.step()\n",
        "    optimizr.zero_grad()"
      ],
      "id": "ea922513-6b1c-4017-bdbb-7f5008586f04"
    },
    {
      "cell_type": "code",
      "execution_count": 42,
      "metadata": {},
      "outputs": [],
      "source": [
        "yhat = soft(output)"
      ],
      "id": "60611267-99b5-4e31-99d9-d41b043dbdf4"
    },
    {
      "cell_type": "code",
      "execution_count": 43,
      "metadata": {},
      "outputs": [
        {
          "output_type": "display_data",
          "metadata": {},
          "data": {
            "text/plain": [
              "tensor([[0.0909, 0.0859, 0.0356,  ..., 0.1820, 0.2308, 0.1257],\n",
              "        [0.3443, 0.1629, 0.2108,  ..., 0.1008, 0.0506, 0.0774],\n",
              "        [0.3998, 0.0325, 0.5100,  ..., 0.0133, 0.0269, 0.0119],\n",
              "        ...,\n",
              "        [0.0655, 0.0525, 0.0455,  ..., 0.1652, 0.2569, 0.2828],\n",
              "        [0.3850, 0.0844, 0.3754,  ..., 0.0464, 0.0423, 0.0478],\n",
              "        [0.4012, 0.0217, 0.5328,  ..., 0.0084, 0.0254, 0.0065]],\n",
              "       device='cuda:0', grad_fn=<SoftmaxBackward0>)"
            ]
          }
        }
      ],
      "source": [
        "yhat"
      ],
      "id": "b5d78a86-0df5-4dc7-a6b7-5fb7c926ec90"
    },
    {
      "cell_type": "markdown",
      "metadata": {},
      "source": [
        "## 순환신경망 LSTM"
      ],
      "id": "cc4c77c7-2584-4d6a-80a4-c637c3e50728"
    },
    {
      "cell_type": "code",
      "execution_count": 44,
      "metadata": {},
      "outputs": [],
      "source": [
        "txt = (['one',',','two',',','three',',','four',',','five',',']*100)[:-1]\n",
        "mapping = {',':0, 'one':1, 'two':2, 'three':3, 'four':4, 'five':5} \n",
        "txt_x = txt[:-1]\n",
        "txt_y = txt[1:] \n",
        "x = torch.nn.functional.one_hot(torch.tensor(f(txt_x,mapping))).float().to(\"cuda:0\")\n",
        "y = torch.nn.functional.one_hot(torch.tensor(f(txt_y,mapping))).float().to(\"cuda:0\")"
      ],
      "id": "cee79c3f-cf54-41fe-a8ee-96072b597600"
    },
    {
      "cell_type": "code",
      "execution_count": 45,
      "metadata": {},
      "outputs": [],
      "source": [
        "torch.manual_seed(43052) \n",
        "lstm = torch.nn.LSTM(6,20).to(\"cuda:0\") \n",
        "linr = torch.nn.Linear(20,6).to(\"cuda:0\") \n",
        "loss_fn = torch.nn.CrossEntropyLoss()\n",
        "optimizr = torch.optim.Adam(list(lstm.parameters())+list(linr.parameters()),lr=0.1)"
      ],
      "id": "6d32ef41-1896-4a27-9410-c9ecbedcad40"
    },
    {
      "cell_type": "code",
      "execution_count": 46,
      "metadata": {},
      "outputs": [],
      "source": [
        "_water = torch.zeros(1,20).to(\"cuda:0\")\n",
        "for epoc in range(50):\n",
        "    ## 1 \n",
        "    hidden, (hT,cT) =lstm(x,(_water,_water))\n",
        "    output = linr(hidden) \n",
        "    ## 2 \n",
        "    loss = loss_fn(output,y) \n",
        "    ## 3 \n",
        "    loss.backward()\n",
        "    ## 4 \n",
        "    optimizr.step()\n",
        "    optimizr.zero_grad()     "
      ],
      "id": "f639801b-878d-4474-bb96-38cb924a6450"
    },
    {
      "cell_type": "code",
      "execution_count": 48,
      "metadata": {},
      "outputs": [
        {
          "output_type": "display_data",
          "metadata": {},
          "data": {
            "text/plain": [
              "tensor([[9.9875e-01, 1.5434e-06, 6.5715e-04, 1.8973e-05, 9.5753e-05, 4.7651e-04],\n",
              "        [3.0184e-06, 3.7971e-05, 9.8694e-01, 3.6741e-03, 3.6129e-04, 8.9867e-03],\n",
              "        [9.9999e-01, 2.9932e-06, 5.9745e-07, 8.3266e-06, 1.0668e-07, 4.8888e-07],\n",
              "        ...,\n",
              "        [3.9604e-05, 8.6161e-06, 1.5918e-03, 1.1244e-07, 9.9808e-01, 2.7556e-04],\n",
              "        [9.9993e-01, 3.3252e-07, 9.5155e-06, 4.8129e-07, 2.7274e-05, 3.2102e-05],\n",
              "        [8.0918e-07, 8.0716e-03, 5.9763e-04, 7.7044e-05, 6.8931e-05, 9.9118e-01]],\n",
              "       device='cuda:0', grad_fn=<SoftmaxBackward0>)"
            ]
          }
        }
      ],
      "source": [
        "soft(output)"
      ],
      "id": "77f28940-d15e-4649-9497-8ad5f82439ca"
    },
    {
      "cell_type": "markdown",
      "metadata": {},
      "source": [
        "### 조각난 시계열\n",
        "\n",
        "12주차"
      ],
      "id": "aafb3040-1f2f-435c-9609-8cfd14b8521d"
    },
    {
      "cell_type": "code",
      "execution_count": 121,
      "metadata": {},
      "outputs": [],
      "source": [
        "txt = list('hi!')*3 + list('hi?')*3\n",
        "txt_x = txt[:-1] \n",
        "txt_y = txt[1:] \n",
        "mapping = {'!':0, '?':1, 'h':2, 'i':3} \n",
        "x = torch.nn.functional.one_hot(torch.tensor(f(txt_x,mapping))).float().to(\"cuda:0\")\n",
        "y = torch.nn.functional.one_hot(torch.tensor(f(txt_y,mapping))).float().to(\"cuda:0\") "
      ],
      "id": "62c9011a-89b7-40c7-b5f7-f366ab570a40"
    },
    {
      "cell_type": "code",
      "execution_count": 122,
      "metadata": {},
      "outputs": [],
      "source": [
        "torch.manual_seed(43052) \n",
        "lstm = torch.nn.LSTM(4,10).to(\"cuda:0\")\n",
        "linr = torch.nn.Linear(10,4).to(\"cuda:0\")"
      ],
      "id": "7c04d20c-0824-4182-afb2-b59d94bdac7a"
    },
    {
      "cell_type": "code",
      "execution_count": 123,
      "metadata": {},
      "outputs": [],
      "source": [
        "loss_fn = torch.nn.CrossEntropyLoss() \n",
        "optimizr = torch.optim.Adam(list(lstm.parameters())+list(linr.parameters()),lr=0.1)"
      ],
      "id": "987872bb-012d-4018-8228-855179f4b63d"
    },
    {
      "cell_type": "code",
      "execution_count": 124,
      "metadata": {},
      "outputs": [],
      "source": [
        "for epoc in range(100):\n",
        "    ## 1 \n",
        "    hidden, _ = lstm(x) \n",
        "    output = linr(hidden) \n",
        "    ## 2 \n",
        "    loss = loss_fn(output,y) \n",
        "    ## 3 \n",
        "    loss.backward() \n",
        "    ## 4 \n",
        "    optimizr.step()\n",
        "    optimizr.zero_grad()"
      ],
      "id": "e9540bb9-8684-4b82-9ae0-05fa798352df"
    },
    {
      "cell_type": "code",
      "execution_count": 125,
      "metadata": {},
      "outputs": [
        {
          "output_type": "display_data",
          "metadata": {},
          "data": {
            "text/plain": [
              "<matplotlib.image.AxesImage at 0x7f1462eb7510>"
            ]
          }
        },
        {
          "output_type": "display_data",
          "metadata": {},
          "data": {
            "image/png": "[encoded data removed]"
          }
        }
      ],
      "source": [
        "hidden, _ = lstm(x)\n",
        "plt.matshow(soft(linr(hidden)).to(\"cpu\").data,cmap='bwr',vmin=-1,vmax=1)"
      ],
      "id": "85915728-2f59-4878-ae0a-55949040d412"
    },
    {
      "cell_type": "code",
      "execution_count": 130,
      "metadata": {},
      "outputs": [],
      "source": [
        "txt = list('hi!')*3 + list('hi?')*3\n",
        "txt1= txt[:9]\n",
        "txt2= txt[9:]\n",
        "txt1_x = txt1[:-1] \n",
        "txt1_y = txt1[1:] \n",
        "txt2_x = txt2[:-1] \n",
        "txt2_y = txt2[1:] \n",
        "mapping = {'!':0, '?':1, 'h':2, 'i':3} \n",
        "x1 = torch.nn.functional.one_hot(torch.tensor(f(txt1_x,mapping))).float().to(\"cuda:0\")\n",
        "y1 = torch.nn.functional.one_hot(torch.tensor(f(txt1_y,mapping))).float().to(\"cuda:0\")\n",
        "x2 = torch.nn.functional.one_hot(torch.tensor(f(txt2_x,mapping))).float().to(\"cuda:0\")\n",
        "y2 = torch.nn.functional.one_hot(torch.tensor(f(txt2_y,mapping))).float().to(\"cuda:0\")\n",
        "xx = torch.stack([x1,x2],axis=1)\n",
        "yy = torch.stack([y1,y2],axis=1)"
      ],
      "id": "c1277e27-b77b-41f4-8625-311cf2b9ae33"
    },
    {
      "cell_type": "code",
      "execution_count": 131,
      "metadata": {},
      "outputs": [],
      "source": [
        "torch.manual_seed(43052) \n",
        "lstm = torch.nn.LSTM(4,10).to(\"cuda:0\")\n",
        "linr = torch.nn.Linear(10,4).to(\"cuda:0\")"
      ],
      "id": "a5918668-1f36-43a9-a042-3c86ab52b6da"
    },
    {
      "cell_type": "code",
      "execution_count": 132,
      "metadata": {},
      "outputs": [],
      "source": [
        "loss_fn = torch.nn.CrossEntropyLoss() \n",
        "optimizr = torch.optim.Adam(list(lstm.parameters())+list(linr.parameters()),lr=0.1)"
      ],
      "id": "bab941d6-6209-4a82-9644-dde28115817f"
    },
    {
      "cell_type": "code",
      "execution_count": 133,
      "metadata": {},
      "outputs": [],
      "source": [
        "for epoc in range(100):\n",
        "    ## 1 \n",
        "    hidden, _ = lstm(xx) \n",
        "    output = linr(hidden) \n",
        "    ## 2 \n",
        "    loss = loss_fn(output[:,0,:],yy[:,0,:]) + loss_fn(output[:,1,:],yy[:,1,:])\n",
        "    ## 3 \n",
        "    loss.backward() \n",
        "    ## 4 \n",
        "    optimizr.step()\n",
        "    optimizr.zero_grad()"
      ],
      "id": "02cc9962-4287-4af6-8408-f813b8478580"
    },
    {
      "cell_type": "code",
      "execution_count": 134,
      "metadata": {},
      "outputs": [
        {
          "output_type": "display_data",
          "metadata": {},
          "data": {
            "text/plain": [
              "<matplotlib.image.AxesImage at 0x7f1462e93690>"
            ]
          }
        },
        {
          "output_type": "display_data",
          "metadata": {},
          "data": {
            "image/png": "[encoded data removed]"
          }
        }
      ],
      "source": [
        "fig , ax = plt.subplots(1,2) \n",
        "ax[0].matshow(soft(output[:,0,:]).to(\"cpu\").data,cmap='bwr',vmin=-1,vmax=1)\n",
        "ax[1].matshow(soft(output[:,1,:]).to(\"cpu\").data,cmap='bwr',vmin=-1,vmax=1)"
      ],
      "id": "4cba8ff3-9713-4908-9b01-0c5807ba2022"
    }
  ],
  "nbformat": 4,
  "nbformat_minor": 5,
  "metadata": {
    "kernelspec": {
      "name": "python3",
      "display_name": "Python 3",
      "language": "python"
    },
    "language_info": {
      "name": "python",
      "codemirror_mode": {
        "name": "ipython",
        "version": "3"
      },
      "file_extension": ".py",
      "mimetype": "text/x-python",
      "nbconvert_exporter": "python",
      "pygments_lexer": "ipython3",
      "version": "3.7.13"
    }
  }
}