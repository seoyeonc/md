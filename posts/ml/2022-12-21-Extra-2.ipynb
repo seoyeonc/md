{
 "cells": [
  {
   "cell_type": "raw",
   "id": "91bbcce1-c36e-4cb7-8b33-9577a5ec4c13",
   "metadata": {},
   "source": [
    "---\n",
    "title: \"Extra-2: 생성모형(GAN)\"\n",
    "author: \"SEOYEON CHOI\"\n",
    "date: \"12/21/2022\"\n",
    "categories:\n",
    "  - 생성모형(GAN)\n",
    "---"
   ]
  },
  {
   "cell_type": "markdown",
   "id": "5be48aa8-cdee-4c1d-bd2f-4c6773941b9b",
   "metadata": {},
   "source": [
    "> GAN-- MNIST 3/7"
   ]
  },
  {
   "cell_type": "markdown",
   "id": "e5e2c3a4-6e6f-4291-b795-24b3d8fc8cdd",
   "metadata": {
    "slideshow": {
     "slide_type": "slide"
    }
   },
   "source": [
    "# GAN intro"
   ]
  },
  {
   "cell_type": "markdown",
   "id": "43ffcfd7-b958-4ab6-87ca-44a624f9e45a",
   "metadata": {
    "slideshow": {
     "slide_type": "slide"
    }
   },
   "source": [
    "`-` 저자: 이안굿펠로우 \n",
    "- 천재임 \n",
    "- 지도교수가 요수아 벤지오 "
   ]
  },
  {
   "cell_type": "markdown",
   "id": "98b256fa-00c6-493b-b3e5-52add60462ca",
   "metadata": {
    "slideshow": {
     "slide_type": "slide"
    }
   },
   "source": [
    "`-` 논문 NIPS, 저는 이 논문 읽고 소름돋았어요.. \n",
    "- https://arxiv.org/abs/1406.2661 (현재시점, 38751회 인용되었음 $\\to$ 48978회 인용..)"
   ]
  },
  {
   "cell_type": "markdown",
   "id": "714d31a7-3760-4f4d-8560-aeb9e4a760db",
   "metadata": {
    "slideshow": {
     "slide_type": "fragment"
    }
   },
   "source": [
    "`-` 최근 10년간 머신러닝 분야에서 가장 혁신적인 아이디어이다. (얀르쿤, 2014년 시점..) "
   ]
  },
  {
   "cell_type": "markdown",
   "id": "e57b307b-47ff-4e4d-8bf9-edc9dd88491f",
   "metadata": {
    "slideshow": {
     "slide_type": "fragment"
    }
   },
   "source": [
    "`-` 무슨내용? 생성모형 "
   ]
  },
  {
   "cell_type": "markdown",
   "id": "5838d9b9-952e-4cea-b8e8-c75fdc50549a",
   "metadata": {
    "slideshow": {
     "slide_type": "slide"
    }
   },
   "source": [
    "## 생성모형이란? (쉬운 설명)"
   ]
  },
  {
   "cell_type": "markdown",
   "id": "8053d6da-5303-4ef6-a60d-4dc38ca0439d",
   "metadata": {
    "slideshow": {
     "slide_type": "fragment"
    }
   },
   "source": [
    "> 만들수 없다면 이해하지 못한 것이다, 리처드 파인만 (천재 물리학자) "
   ]
  },
  {
   "cell_type": "markdown",
   "id": "e2c419e9-5f91-4ca4-9acf-1888284e62f7",
   "metadata": {
    "slideshow": {
     "slide_type": "slide"
    }
   },
   "source": [
    "`-` 사진속에 들어있는 동물이 개인지 고양이인지 맞출수 있는 기계와 개와 고양이를 그릴수 있는 기계중 어떤것이 더 시각적보에 대한 이해가 깊다고 볼수 있는가? "
   ]
  },
  {
   "cell_type": "markdown",
   "id": "c93e1fa4-e0c8-459f-bbf9-3282ab9fd5f0",
   "metadata": {
    "slideshow": {
     "slide_type": "fragment"
    }
   },
   "source": [
    "`-` 진정으로 인공지능이 이미지를 이해했다면, 이미지를 만들수도 있어야 한다. $\\to$ 이미지를 생성하는 모형을 만들어보자 $\\to$ 성공 "
   ]
  },
  {
   "cell_type": "markdown",
   "id": "0cdd2d98-a875-48c9-b44f-50f93c220b87",
   "metadata": {
    "slideshow": {
     "slide_type": "slide"
    }
   },
   "source": [
    "![](https://upload.wikimedia.org/wikipedia/commons/1/1f/Woman_1.jpg){width=70%}"
   ]
  },
  {
   "cell_type": "markdown",
   "id": "0429e078-7998-4e21-9412-96f8eaea16b3",
   "metadata": {
    "slideshow": {
     "slide_type": "slide"
    }
   },
   "source": [
    "## GAN의 응용분야"
   ]
  },
  {
   "cell_type": "markdown",
   "id": "1a55ad87-7a92-433a-b211-8a5f9c63f6dc",
   "metadata": {
    "slideshow": {
     "slide_type": "fragment"
    }
   },
   "source": [
    "`-` 내가 찍은 사진이 피카소의 화풍으로 표현된다면?"
   ]
  },
  {
   "cell_type": "markdown",
   "id": "91d78ce2-887c-40c4-95da-df8162c7ba01",
   "metadata": {
    "slideshow": {
     "slide_type": "fragment"
    }
   },
   "source": [
    "`-` 퀸의 라이브에이드가 4k로 나온다면?\n",
    "\n",
    "`-` 1920년대 서울의 모습이 칼라로 복원된다면? "
   ]
  },
  {
   "cell_type": "markdown",
   "id": "a1f3398d-1ecf-4bf4-9b2d-b59175041820",
   "metadata": {
    "slideshow": {
     "slide_type": "fragment"
    }
   },
   "source": [
    "`-` 딥페이크: 유명인의 가짜 포르노, 가짜뉴스, 협박(거짓기소) \n"
   ]
  },
  {
   "cell_type": "markdown",
   "id": "6ba50ffc-114a-43d4-a520-205a16ade5eb",
   "metadata": {
    "slideshow": {
     "slide_type": "fragment"
    }
   },
   "source": [
    "`-` 게임영상 (파이널판타지)"
   ]
  },
  {
   "cell_type": "markdown",
   "id": "7138ca64-a33c-49ca-ba7a-9eec571ae69c",
   "metadata": {
    "slideshow": {
     "slide_type": "fragment"
    }
   },
   "source": [
    "`-` 거북이의 커버.. "
   ]
  },
  {
   "cell_type": "markdown",
   "id": "624f7b43-cdeb-423e-871a-fe5c1aeb6014",
   "metadata": {
    "slideshow": {
     "slide_type": "fragment"
    }
   },
   "source": [
    "`-` 너무 많아요....."
   ]
  },
  {
   "cell_type": "markdown",
   "id": "7c9e2c9a-e2c4-48f6-8bac-082f0ee1eeba",
   "metadata": {
    "slideshow": {
     "slide_type": "slide"
    },
    "tags": []
   },
   "source": [
    "## 생성모형이란? 통계학과 버전의 설명 "
   ]
  },
  {
   "cell_type": "markdown",
   "id": "72755b16-f613-4be0-93bc-da68a8f5eb62",
   "metadata": {
    "slideshow": {
     "slide_type": "fragment"
    }
   },
   "source": [
    "> 제한된 정보만으로 어떤 문제를 풀 때, 그 과정에서 원래의 문제보다 일반적인 문제를 풀지 말고, 가능한 원래의 문제를 직접 풀어야한다. 배프닉 (SVM 창시자) "
   ]
  },
  {
   "cell_type": "markdown",
   "id": "92ec298f-0811-4e96-8a23-c7f31045326a",
   "metadata": {
    "slideshow": {
     "slide_type": "slide"
    }
   },
   "source": [
    "`-` 이미지 $\\boldsymbol{x}$가 주어졌을 경우 라벨을 $y$라고 하자. "
   ]
  },
  {
   "cell_type": "markdown",
   "id": "925fef89-8125-45d8-a2f0-eb9d73dd8b85",
   "metadata": {
    "slideshow": {
     "slide_type": "fragment"
    }
   },
   "source": [
    "`-` 이미지를 보고 라벨을 맞추는 일은 $p(y| \\boldsymbol{x})$에 관심이 있다. "
   ]
  },
  {
   "cell_type": "markdown",
   "id": "7833aafb-863d-456c-9250-39a57ee278f6",
   "metadata": {
    "slideshow": {
     "slide_type": "fragment"
    }
   },
   "source": [
    "`-` 이미지를 생성하는 일은 $p(\\boldsymbol{x},y)$에 관심이 있는것이다. "
   ]
  },
  {
   "cell_type": "markdown",
   "id": "7b5767d5-a79d-4d13-ad15-c887912b1d49",
   "metadata": {
    "slideshow": {
     "slide_type": "fragment"
    }
   },
   "source": [
    "`-` 데이터의 생성확률 $p(\\boldsymbol{x},y)$을 알면 클래스의 사후확률 $p(y|\\boldsymbol{x})$를 알 수 있음. (아래의 수식 참고) 하지만 역은 불가능 \n",
    "\n",
    "$$p(y|x) = \\frac{p(x,y)}{p(x)} = \\frac{p(x,y)}{\\sum_{y}p(x,y)} $$"
   ]
  },
  {
   "cell_type": "markdown",
   "id": "a14919f9-c381-4077-914f-8b00e39a73ff",
   "metadata": {
    "slideshow": {
     "slide_type": "fragment"
    }
   },
   "source": [
    "- 즉 이미지를 생성하는일은 분류문제보다 더 어려운 일이라 해석가능 "
   ]
  },
  {
   "cell_type": "markdown",
   "id": "1634f286-2300-42be-bc08-59d665ebcd28",
   "metadata": {
    "slideshow": {
     "slide_type": "slide"
    }
   },
   "source": [
    "`-` 따라서 배프닉의 원리에 의하면 식별적 분류가 생성적 분류보다 바람직한 접근법이라 할 수 있음. "
   ]
  },
  {
   "cell_type": "markdown",
   "id": "298f9ed4-e3b2-4249-a7ee-b8c0fece9f11",
   "metadata": {
    "slideshow": {
     "slide_type": "fragment"
    }
   },
   "source": [
    "`-` 하지만 다양한 현실문제에서 생성모형이 유용할때가 많다. "
   ]
  },
  {
   "cell_type": "markdown",
   "id": "3b618fe2-5509-4d99-98d3-fa11f53180d4",
   "metadata": {
    "slideshow": {
     "slide_type": "slide"
    }
   },
   "source": [
    "## GAN의 원리"
   ]
  },
  {
   "cell_type": "markdown",
   "id": "6c24dfd0-8597-4d15-b8d5-d88a1cb0abdb",
   "metadata": {
    "slideshow": {
     "slide_type": "slide"
    }
   },
   "source": [
    "`-` GAN은 생성모형중 하나임 "
   ]
  },
  {
   "cell_type": "markdown",
   "id": "35c8d5f8-3ef4-4f56-892b-dfc5e9485dec",
   "metadata": {
    "slideshow": {
     "slide_type": "slide"
    }
   },
   "source": [
    "`-` GAN의 원리는 경찰과 위조지폐범이 서로 선의의(?) 경쟁을 통하여 서로 발전하는 모형으로 설명할 수 있다. "
   ]
  },
  {
   "cell_type": "markdown",
   "id": "b472a403-54dd-4ce4-9f66-47b5becfe74f",
   "metadata": {
    "slideshow": {
     "slide_type": "fragment"
    }
   },
   "source": [
    "> The generative model can be thought of as analogous to a team of counterfeiters,\n",
    "trying to produce fake currency and use it without detection, while the discriminative model is\n",
    "analogous to the police, trying to detect the counterfeit currency. Competition in this game drives\n",
    "both teams to improve their methods until the counterfeits are indistiguishable from the genuine\n",
    "articles."
   ]
  },
  {
   "cell_type": "markdown",
   "id": "838a2123-d546-4124-8c4d-1a5c2f66b49b",
   "metadata": {
    "slideshow": {
     "slide_type": "slide"
    }
   },
   "source": [
    "`-` 서로 적대적인(adversarial) 네트워크(network)를 동시에 학습시켜 가짜이미지를 만든다(generate) "
   ]
  },
  {
   "cell_type": "markdown",
   "id": "c555e4b3-154a-4581-8104-ed24f205a3f9",
   "metadata": {
    "slideshow": {
     "slide_type": "slide"
    }
   },
   "source": [
    "`-` 무식한 상황극.. "
   ]
  },
  {
   "cell_type": "markdown",
   "id": "2b0b0f18-8456-4fd2-9c68-aec2d113d3c6",
   "metadata": {
    "slideshow": {
     "slide_type": "slide"
    }
   },
   "source": [
    "- 위조범: 가짜돈을 만들어서 부자가 되어야지! (가짜돈을 그림) \n",
    "- 경찰: (위조범이 만든 돈을 보고) 이건 가짜다! \n",
    "- 위조범: 걸렸군.. 더 정교하게 만들어야지.. \n",
    "- 경찰: 이건 진짠가?... --> 상사에게 혼남. 그것도 구분못하냐고 \n",
    "- 위조범: 더 정교하게 만들자.. \n",
    "- 경찰: 더 판별능력을 업그레이드 하자! \n",
    "- 반복.. "
   ]
  },
  {
   "cell_type": "markdown",
   "id": "7d60c434-32fc-4042-977b-28f900ecf72e",
   "metadata": {
    "slideshow": {
     "slide_type": "slide"
    }
   },
   "source": [
    "`-` 굉장히 우수한 경찰조차도 진짜와 가짜를 구분하지 못할때(=진짜 이미지를 0.5의 확률로만 진짜라고 말할때 = 가짜 이미지를 0.5의 확률로만 가짜라고 말할때) 학습을 멈춘다. "
   ]
  },
  {
   "cell_type": "markdown",
   "id": "aca8bf93-ccc0-48ba-9aa9-c3c2e44754a3",
   "metadata": {
    "tags": []
   },
   "source": [
    "# GAN의 구현"
   ]
  },
  {
   "cell_type": "markdown",
   "id": "aa43ac72-9c37-4d3a-9944-25c1e57ffce4",
   "metadata": {},
   "source": [
    "## import "
   ]
  },
  {
   "cell_type": "code",
   "execution_count": 1,
   "id": "5fed034a-f737-44e2-95a8-861958284340",
   "metadata": {},
   "outputs": [
    {
     "name": "stderr",
     "output_type": "stream",
     "text": [
      "/home/csy/anaconda3/envs/py37/lib/python3.7/site-packages/tqdm/auto.py:22: TqdmWarning: IProgress not found. Please update jupyter and ipywidgets. See https://ipywidgets.readthedocs.io/en/stable/user_install.html\n",
      "  from .autonotebook import tqdm as notebook_tqdm\n"
     ]
    }
   ],
   "source": [
    "import torch \n",
    "from fastai.vision.all import *"
   ]
  },
  {
   "cell_type": "markdown",
   "id": "fb41e051-4c0a-4a7a-947d-d892bdfe44dc",
   "metadata": {},
   "source": [
    "## data "
   ]
  },
  {
   "cell_type": "code",
   "execution_count": 2,
   "id": "dc5ba0b0-8d91-4d3a-a1b2-7549d0f9f49c",
   "metadata": {},
   "outputs": [],
   "source": [
    "path = untar_data(URLs.MNIST_SAMPLE)"
   ]
  },
  {
   "cell_type": "code",
   "execution_count": 3,
   "id": "ee77c2c2-065b-4048-bbe1-629e22e3882c",
   "metadata": {},
   "outputs": [],
   "source": [
    "threes = (path/'train'/'3').ls()"
   ]
  },
  {
   "cell_type": "code",
   "execution_count": 4,
   "id": "86d47c14-d1d8-495f-b543-47e930e2fde5",
   "metadata": {},
   "outputs": [],
   "source": [
    "X = torch.stack([tensor(Image.open(i)) for i in threes]).float()/255"
   ]
  },
  {
   "cell_type": "code",
   "execution_count": 5,
   "id": "291762c7-fe08-48f7-89af-3d8c1d2e4ab9",
   "metadata": {},
   "outputs": [
    {
     "data": {
      "text/plain": [
       "torch.Size([6131, 28, 28])"
      ]
     },
     "execution_count": 5,
     "metadata": {},
     "output_type": "execute_result"
    }
   ],
   "source": [
    "X.shape"
   ]
  },
  {
   "cell_type": "code",
   "execution_count": 6,
   "id": "b47835cf-695a-4915-8dab-baf08db7ca18",
   "metadata": {},
   "outputs": [
    {
     "data": {
      "text/plain": [
       "<matplotlib.image.AxesImage at 0x7f36568083d0>"
      ]
     },
     "execution_count": 6,
     "metadata": {},
     "output_type": "execute_result"
    },
    {
     "data": {
      "image/png": "[encoded data removed]",
      "text/plain": [
       "<Figure size 432x288 with 1 Axes>"
      ]
     },
     "metadata": {
      "needs_background": "light"
     },
     "output_type": "display_data"
    }
   ],
   "source": [
    "plt.imshow(X[0])"
   ]
  },
  {
   "cell_type": "markdown",
   "id": "78c7a0d7-dfa8-4ec0-8a2b-7cc495cb181d",
   "metadata": {},
   "source": [
    "`-` MLP를 이용해 학습하기 위해 X의 차원을 변경"
   ]
  },
  {
   "cell_type": "code",
   "execution_count": 7,
   "id": "ff2e65f5-ceb8-48db-bae8-59b05f3e6246",
   "metadata": {},
   "outputs": [
    {
     "data": {
      "text/plain": [
       "torch.Size([6131, 784])"
      ]
     },
     "execution_count": 7,
     "metadata": {},
     "output_type": "execute_result"
    }
   ],
   "source": [
    "X=X.reshape(6131,28*28)\n",
    "X.shape"
   ]
  },
  {
   "cell_type": "markdown",
   "id": "7b5f068e-97a5-44e0-83d6-e732a71ea215",
   "metadata": {},
   "source": [
    "## 위조지폐범의 설계: noise $\\to$ 가짜이미지를 만들어 내는 네트워크를 만들자. "
   ]
  },
  {
   "cell_type": "markdown",
   "id": "201640cb-b38d-4691-b647-975707fe9e65",
   "metadata": {},
   "source": [
    "`-` 네트워크의 입력? 적당한 벡터, 혹은 매트릭스에 노이즈(랜덤으로 채운 어떠한 숫자들)를 채운것 "
   ]
  },
  {
   "cell_type": "markdown",
   "id": "3fd20684-8507-4f51-899d-d7b633254a5e",
   "metadata": {},
   "source": [
    "`-` 네트워크의 출력? (28,28)의 텐서, 784의 벡터 "
   ]
  },
  {
   "cell_type": "code",
   "execution_count": 8,
   "id": "a688a80c-8ba1-47a9-acb9-c0059120c699",
   "metadata": {},
   "outputs": [],
   "source": [
    "net1 = torch.nn.Sequential(torch.nn.Linear(in_features=28, out_features=64),\n",
    "                           torch.nn.ReLU(),\n",
    "                           torch.nn.Linear(in_features=64, out_features=64), \n",
    "                           torch.nn.ReLU(),\n",
    "                           torch.nn.Linear(in_features=64, out_features=784),\n",
    "                           torch.nn.Sigmoid()) ## 마지막의 시그모이드는 출력이 0~1사이로 나오게 하기 위함 \n",
    "counterfeiter = net1 "
   ]
  },
  {
   "cell_type": "markdown",
   "id": "5ec83299-eddd-478b-bb6a-80656911912b",
   "metadata": {},
   "source": [
    "## 경찰의 설계: 진짜이미지는 1, 가짜이미지는 0으로 판별하는 DNN을 만들자. "
   ]
  },
  {
   "cell_type": "markdown",
   "id": "5fd8b3ea-ad02-4ca1-9b04-68c66845087d",
   "metadata": {},
   "source": [
    "`-` 네트워크의 입력? (28,28)의 텐서, 혹은 784의 벡터 "
   ]
  },
  {
   "cell_type": "markdown",
   "id": "8f3c71b6-3f4f-4775-897d-4d9b340f1b30",
   "metadata": {},
   "source": [
    "`-` 네트워크의 출력? yhat (y는 0 or 1)"
   ]
  },
  {
   "cell_type": "code",
   "execution_count": 9,
   "id": "b4d00de5-340e-4f75-bf4a-b6882beb2f7b",
   "metadata": {},
   "outputs": [],
   "source": [
    "net2 = torch.nn.Sequential(torch.nn.Linear(in_features=784,out_features=64),\n",
    "                           torch.nn.ReLU(),\n",
    "                           torch.nn.Linear(in_features=64,out_features=28),\n",
    "                           torch.nn.ReLU(),\n",
    "                           torch.nn.Linear(in_features=28,out_features=1),\n",
    "                           torch.nn.Sigmoid()\n",
    "                           )\n",
    "police = net2 "
   ]
  },
  {
   "cell_type": "markdown",
   "id": "b7c6c8c3-7ad8-4e8b-9f5e-4fd83718fbbc",
   "metadata": {},
   "source": [
    "## 스토리전개 "
   ]
  },
  {
   "cell_type": "markdown",
   "id": "9362763e-b404-4374-bbef-c233cf16087d",
   "metadata": {},
   "source": [
    "`-` 아래는 진짜이미지 "
   ]
  },
  {
   "cell_type": "code",
   "execution_count": 10,
   "id": "46203bc6-e0ca-4b32-a267-cc2870df07be",
   "metadata": {},
   "outputs": [
    {
     "data": {
      "text/plain": [
       "<matplotlib.image.AxesImage at 0x7f365676c850>"
      ]
     },
     "execution_count": 10,
     "metadata": {},
     "output_type": "execute_result"
    },
    {
     "data": {
      "image/png": "[encoded data removed]",
      "text/plain": [
       "<Figure size 432x288 with 1 Axes>"
      ]
     },
     "metadata": {
      "needs_background": "light"
     },
     "output_type": "display_data"
    }
   ],
   "source": [
    "realimage=X[0].reshape(28,28)\n",
    "plt.imshow(realimage)"
   ]
  },
  {
   "cell_type": "markdown",
   "id": "50a649cc-3812-4864-9023-36cc54ef085a",
   "metadata": {},
   "source": [
    "`-` 위와 같은 진짜 이미지를 경찰이 봤음 $\\to$ yhat이 나오겠죠? "
   ]
  },
  {
   "cell_type": "code",
   "execution_count": 11,
   "id": "fffcfa6c-5b70-459c-afb1-0b3867122df7",
   "metadata": {},
   "outputs": [
    {
     "data": {
      "text/plain": [
       "tensor([0.5015], grad_fn=<SigmoidBackward0>)"
      ]
     },
     "execution_count": 11,
     "metadata": {},
     "output_type": "execute_result"
    }
   ],
   "source": [
    "policehat_from_realimage = police(realimage.reshape(-1))\n",
    "policehat_from_realimage"
   ]
  },
  {
   "cell_type": "markdown",
   "id": "712be798-f53c-4546-a014-180d23b3e0a6",
   "metadata": {},
   "source": [
    "- 진짜 이미지일수록 policehat_from_realimage $\\approx$ 1 이어야 함 \n",
    "- 하지만 그렇지 못함 (배운것이 없는 무능한 경찰) "
   ]
  },
  {
   "cell_type": "markdown",
   "id": "f4cbc324-d3db-4859-b1fd-ec6b51cb016e",
   "metadata": {},
   "source": [
    "`-` 이번에는 가짜이미지를 경찰이 봤다고 생각해보자. "
   ]
  },
  {
   "cell_type": "markdown",
   "id": "03a8ada1-d1d8-4230-97c0-778c770785ca",
   "metadata": {},
   "source": [
    "(step1) 랜덤으로 아무숫자나 28개를 생성한다. "
   ]
  },
  {
   "cell_type": "code",
   "execution_count": 12,
   "id": "36c09aa5-506e-4edb-832b-a50e6a762b11",
   "metadata": {},
   "outputs": [
    {
     "data": {
      "text/plain": [
       "tensor([ 3.0166, -1.1472, -0.0645,  1.1425, -0.5632, -1.7625,  0.4353,  0.2066,\n",
       "        -0.4214,  0.2895, -1.7030, -0.8060,  0.4684,  0.5643, -0.2158,  0.9998,\n",
       "        -1.0958, -1.5119, -1.5331,  1.0283,  0.0254,  0.6410,  0.8624,  1.0544,\n",
       "        -0.6116,  0.5087, -0.0657, -0.7712])"
      ]
     },
     "execution_count": 12,
     "metadata": {},
     "output_type": "execute_result"
    }
   ],
   "source": [
    "err= torch.randn(28)\n",
    "err"
   ]
  },
  {
   "cell_type": "markdown",
   "id": "08c1e848-1858-4c5e-a926-22166a55be46",
   "metadata": {},
   "source": [
    "(step2) 위조범은 err를 입력으로 받고 가짜이미지를 만든다. "
   ]
  },
  {
   "cell_type": "code",
   "execution_count": 13,
   "id": "bfe082ab-ad87-4e6f-9988-d13077b6b9e9",
   "metadata": {},
   "outputs": [
    {
     "data": {
      "text/plain": [
       "<matplotlib.image.AxesImage at 0x7f36563d4550>"
      ]
     },
     "execution_count": 13,
     "metadata": {},
     "output_type": "execute_result"
    },
    {
     "data": {
      "image/png": "[encoded data removed]",
      "text/plain": [
       "<Figure size 432x288 with 1 Axes>"
      ]
     },
     "metadata": {
      "needs_background": "light"
     },
     "output_type": "display_data"
    }
   ],
   "source": [
    "couterfeiter_output = counterfeiter(err)\n",
    "fakeimage=couterfeiter_output.reshape(28,28)\n",
    "plt.imshow(fakeimage.detach())"
   ]
  },
  {
   "cell_type": "markdown",
   "id": "f2cdb892-f12e-4cc4-80c4-306394d2f6a5",
   "metadata": {},
   "source": [
    "- 누가봐도 가짜자료임\n",
    "- 위조범의 실력이 형편없음 "
   ]
  },
  {
   "cell_type": "markdown",
   "id": "02a984d7-7d71-4364-8f18-68a1778e01c6",
   "metadata": {},
   "source": [
    "(step3) 위조범이 생성한 이미지를 경찰한테 넘긴다. "
   ]
  },
  {
   "cell_type": "code",
   "execution_count": 14,
   "id": "c92021fb-afcf-4a80-924f-5d614e3e88f4",
   "metadata": {},
   "outputs": [
    {
     "data": {
      "text/plain": [
       "tensor([0.5014], grad_fn=<SigmoidBackward0>)"
      ]
     },
     "execution_count": 14,
     "metadata": {},
     "output_type": "execute_result"
    }
   ],
   "source": [
    "policehat_from_fakeimage = police(couterfeiter_output)\n",
    "#policehat_from_fakeimage = police(fakeimage.detach().reshape(-1))\n",
    "policehat_from_fakeimage"
   ]
  },
  {
   "cell_type": "markdown",
   "id": "edc6ac45-927b-4f86-91f8-1a6c3df17c60",
   "metadata": {},
   "source": [
    "`-` 경찰의 실력도 형편없고 위조범의 실력도 형편없다. "
   ]
  },
  {
   "cell_type": "markdown",
   "id": "09b810a3-22be-4985-8b13-87195aa7afc9",
   "metadata": {},
   "source": [
    "## 경찰네트워크의 실력을 향상시키자. "
   ]
  },
  {
   "cell_type": "markdown",
   "id": "5a32851e-0abd-4f0b-9b8e-c2d89e6c3df0",
   "metadata": {},
   "source": [
    "`-` 데이터 정리 \n",
    "- 원래 $n=6131$개의 이미지 자료가 있음. 이를 ${\\bf X}$라고 하자. 따라서 ${\\bf X}$의 차원은 (6131,784). \n",
    "- 위조범이 만든 가짜자료를 원래 자료와 같은 숫자인 6131개 만듬. 이 가짜자료를 $\\tilde{\\bf X}$라고 하자. 따라서 $\\tilde{\\bf X}$의 차원은 (6131,784). \n",
    "- 진짜자료는 1, 가짜자료는 0으로 라벨링. "
   ]
  },
  {
   "cell_type": "code",
   "execution_count": 15,
   "id": "4d5e82ad-1b06-4f5a-9aec-f942f53582f9",
   "metadata": {},
   "outputs": [
    {
     "data": {
      "text/plain": [
       "torch.Size([6131, 784])"
      ]
     },
     "execution_count": 15,
     "metadata": {},
     "output_type": "execute_result"
    }
   ],
   "source": [
    "X.shape"
   ]
  },
  {
   "cell_type": "code",
   "execution_count": 16,
   "id": "0bee1e37-7a0b-4fac-914a-086c9c95ad6e",
   "metadata": {},
   "outputs": [],
   "source": [
    "err= torch.randn(6131,28)\n",
    "counterfeiter_output = counterfeiter(err) # counterfeiter_output를 Xtilde로 생각하면 된다. "
   ]
  },
  {
   "cell_type": "code",
   "execution_count": 17,
   "id": "31eb6204-75ac-4646-b35b-db188216bc2c",
   "metadata": {},
   "outputs": [],
   "source": [
    "real_label=torch.tensor([[1.0]]*6131) ## y=1 \n",
    "fake_label=torch.tensor([[0.0]]*6131) ## y=0"
   ]
  },
  {
   "cell_type": "markdown",
   "id": "03fd1d57-2e01-402c-ae32-8dd2a30766f9",
   "metadata": {},
   "source": [
    "`-` step1: yhat, 경찰의 예측 "
   ]
  },
  {
   "cell_type": "code",
   "execution_count": 18,
   "id": "da1c9dc3-2b67-4540-8877-e26430fc0abd",
   "metadata": {},
   "outputs": [],
   "source": [
    "policehat_from_realimage = police(X) \n",
    "policehat_from_fakeimage = police(counterfeiter_output) "
   ]
  },
  {
   "cell_type": "markdown",
   "id": "8fb48b63-536e-4031-96c2-1d8ca51e13bc",
   "metadata": {},
   "source": [
    "`-` step2: 손실함수? 경찰의 미덕은 (1) 가짜를 가짜라고 하고 (2) 진짜를 진짜라 해야한다. "
   ]
  },
  {
   "cell_type": "code",
   "execution_count": 19,
   "id": "8370d2d4-859e-47ca-9c59-f9046b36e9b4",
   "metadata": {},
   "outputs": [],
   "source": [
    "loss_fn = torch.nn.BCELoss() "
   ]
  },
  {
   "cell_type": "code",
   "execution_count": 20,
   "id": "2e3c5c6c-6288-4bcb-871a-7a8949459b87",
   "metadata": {},
   "outputs": [
    {
     "data": {
      "text/plain": [
       "tensor(1.3793, grad_fn=<AddBackward0>)"
      ]
     },
     "execution_count": 20,
     "metadata": {},
     "output_type": "execute_result"
    }
   ],
   "source": [
    "loss_of_police =\\\n",
    "loss_fn(policehat_from_fakeimage,fake_label)+\\\n",
    "loss_fn(policehat_from_realimage,real_label)\n",
    "\n",
    "loss_of_police"
   ]
  },
  {
   "cell_type": "markdown",
   "id": "ccdb3b1b-998a-4a96-a3a8-19902d3215fc",
   "metadata": {},
   "source": [
    "`-` step3~4는 미분이후 업데이트 "
   ]
  },
  {
   "cell_type": "markdown",
   "id": "120d2c7d-514b-4268-b1e6-e946061a5d81",
   "metadata": {},
   "source": [
    "`-` 옵티마이저를 설계하자. "
   ]
  },
  {
   "cell_type": "code",
   "execution_count": 21,
   "id": "bdd2af99-56a3-41f3-a57c-c1e9d5c3ea68",
   "metadata": {},
   "outputs": [],
   "source": [
    "optimizer_of_police = torch.optim.Adam(police.parameters())"
   ]
  },
  {
   "cell_type": "markdown",
   "id": "e8fcee47-09f9-4f6a-bfca-b096dc1432d2",
   "metadata": {},
   "source": [
    "`-` for 문을 돌리자. "
   ]
  },
  {
   "cell_type": "code",
   "execution_count": 22,
   "id": "9f4d884c-a639-46c3-8d59-29ac21506555",
   "metadata": {},
   "outputs": [],
   "source": [
    "for i in range(50): \n",
    "    ## 1 yhat \n",
    "    policehat_from_realimage = police(X) \n",
    "    \n",
    "    #policehat_from_fakeimage = police(Xitlde)\n",
    "    err= torch.randn(6131,28)\n",
    "    counterfeiter_output = counterfeiter(err) # counterfeiter_output를 Xtilde로 생각하면 된다. \n",
    "    policehat_from_fakeimage= police(counterfeiter_output)\n",
    "    \n",
    "    ## 2 loss \n",
    "    loss_of_police =\\\n",
    "    loss_fn(policehat_from_fakeimage,fake_label)+\\\n",
    "    loss_fn(policehat_from_realimage,real_label)\n",
    "    \n",
    "    ## 3 back propagation \n",
    "    loss_of_police.backward()\n",
    "    \n",
    "    ## 4 update\n",
    "    optimizer_of_police.step()\n",
    "    optimizer_of_police.zero_grad()"
   ]
  },
  {
   "cell_type": "markdown",
   "id": "2704b29e-ccd0-4273-b0d2-69905275c243",
   "metadata": {},
   "source": [
    "`-` 훈련된 경찰의 성능을 살펴보자. "
   ]
  },
  {
   "cell_type": "code",
   "execution_count": 23,
   "id": "62c87946-ee8a-48bf-afa3-fbd9c37db51b",
   "metadata": {},
   "outputs": [
    {
     "data": {
      "text/plain": [
       "tensor([[0.0022],\n",
       "        [0.0022],\n",
       "        [0.0023],\n",
       "        ...,\n",
       "        [0.0022],\n",
       "        [0.0022],\n",
       "        [0.0022]], grad_fn=<SigmoidBackward0>)"
      ]
     },
     "execution_count": 23,
     "metadata": {},
     "output_type": "execute_result"
    }
   ],
   "source": [
    "police(counterfeiter_output)"
   ]
  },
  {
   "cell_type": "code",
   "execution_count": 24,
   "id": "a2a73393-5c92-4768-805b-30a1d21bd4ad",
   "metadata": {},
   "outputs": [
    {
     "data": {
      "text/plain": [
       "tensor([[0.9996],\n",
       "        [0.9991],\n",
       "        [0.9994],\n",
       "        ...,\n",
       "        [0.9992],\n",
       "        [0.9902],\n",
       "        [0.9917]], grad_fn=<SigmoidBackward0>)"
      ]
     },
     "execution_count": 24,
     "metadata": {},
     "output_type": "execute_result"
    }
   ],
   "source": [
    "police(X)"
   ]
  },
  {
   "cell_type": "markdown",
   "id": "862fa63a-1f6e-4f6e-954b-4a4e66477ce5",
   "metadata": {},
   "source": [
    "`-` 우수한 경찰 (비록 위조범의 수준이 낮긴하지만) "
   ]
  },
  {
   "cell_type": "markdown",
   "id": "12b5c4b1-163a-4fe1-bf55-299a92cc54e0",
   "metadata": {},
   "source": [
    "## 위조범네트워크의 성능을 향상시키자. "
   ]
  },
  {
   "cell_type": "markdown",
   "id": "f3bb82cf-1918-4811-8cf1-a31fbdc1171e",
   "metadata": {},
   "source": [
    "`-` 자료구조: X는 임의의 에러이미지, net(X)는 fakeimage "
   ]
  },
  {
   "cell_type": "code",
   "execution_count": 25,
   "id": "4254527f-782b-41ce-b461-2d7c029d76ce",
   "metadata": {},
   "outputs": [],
   "source": [
    "err=torch.randn(6131,28) \n",
    "counterfeiter_output= counterfeiter(err) "
   ]
  },
  {
   "cell_type": "markdown",
   "id": "c2996a1c-ab12-4ef1-9758-a65c3a7ca0ca",
   "metadata": {},
   "source": [
    "`-` 손실함수: 잘 훈련된 경찰조차도 잘못된 판단을 내릴만큼 가짜지폐를 잘 만들면 위조범의 실력이 우수하다 볼 수 있음 "
   ]
  },
  {
   "cell_type": "code",
   "execution_count": 26,
   "id": "bc52f1bc-ac5f-4fce-8454-4bc274844ae8",
   "metadata": {},
   "outputs": [],
   "source": [
    "policehat_from_fakeimage = police(counterfeiter_output) \n",
    "loss_of_counterfeiter = loss_fn(policehat_from_fakeimage,real_label) ## 가짜이미지를 보고 경찰이 진짜라고 믿으면 위조범의 실력이 좋은것임  "
   ]
  },
  {
   "cell_type": "markdown",
   "id": "e276de7a-7fce-4e34-8440-fcbde91189a3",
   "metadata": {},
   "source": [
    "`-` 옵티마이저 "
   ]
  },
  {
   "cell_type": "code",
   "execution_count": 27,
   "id": "e0cbf096-8e58-473a-80a7-69478efe01a4",
   "metadata": {},
   "outputs": [],
   "source": [
    "optimizer_of_counterfeiter = torch.optim.Adam(counterfeiter.parameters())"
   ]
  },
  {
   "cell_type": "markdown",
   "id": "a3359dea-803d-40a3-96d1-1bb6bc0721c1",
   "metadata": {},
   "source": [
    "`-` 학습"
   ]
  },
  {
   "cell_type": "code",
   "execution_count": 28,
   "id": "86ca0feb-f3b9-43b4-8a82-52d282542108",
   "metadata": {},
   "outputs": [],
   "source": [
    "for i in range(50): \n",
    "    ## 1 \n",
    "    err=torch.randn(6131,28) \n",
    "    counterfeiter_output= counterfeiter(err)  \n",
    "    policehat_from_fakeimage = police(counterfeiter_output) \n",
    "    ## 2 \n",
    "    loss_of_counterfeiter = loss_fn(policehat_from_fakeimage,real_label)\n",
    "    ## 3 \n",
    "    loss_of_counterfeiter.backward()\n",
    "    ## 4 \n",
    "    optimizer_of_counterfeiter.step()\n",
    "    optimizer_of_counterfeiter.zero_grad()"
   ]
  },
  {
   "cell_type": "markdown",
   "id": "e81f4f38-9c96-4aa7-a2e3-ec44c0a7d4ee",
   "metadata": {},
   "source": [
    "`-` 위조범의 실력향상을 감상해보자. "
   ]
  },
  {
   "cell_type": "code",
   "execution_count": 29,
   "id": "616c7466-99b3-4ca8-9b05-7532559a83d8",
   "metadata": {},
   "outputs": [
    {
     "data": {
      "text/plain": [
       "<matplotlib.image.AxesImage at 0x7f36562f7410>"
      ]
     },
     "execution_count": 29,
     "metadata": {},
     "output_type": "execute_result"
    },
    {
     "data": {
      "image/png": "[encoded data removed]",
      "text/plain": [
       "<Figure size 432x288 with 1 Axes>"
      ]
     },
     "metadata": {
      "needs_background": "light"
     },
     "output_type": "display_data"
    }
   ],
   "source": [
    "plt.imshow(counterfeiter_output[0].reshape(28,28).data)"
   ]
  },
  {
   "cell_type": "markdown",
   "id": "419fd8fd-02e3-45d5-aa2c-3e43152cbd57",
   "metadata": {},
   "source": [
    "## 두 적대적 네트워크를 경쟁시키자. "
   ]
  },
  {
   "cell_type": "code",
   "execution_count": 30,
   "id": "d50e49a4-71ae-4963-aa5d-af8e8750524a",
   "metadata": {},
   "outputs": [],
   "source": [
    "for k in range(100): \n",
    "    for i in range(50): \n",
    "        ## 1 yhat \n",
    "        policehat_from_realimage = police(X) \n",
    "    \n",
    "        #policehat_from_fakeimage = police(Xitlde)\n",
    "        err= torch.randn(6131,28)\n",
    "        counterfeiter_output = counterfeiter(err) # counterfeiter_output를 Xtilde로 생각하면 된다. \n",
    "        policehat_from_fakeimage= police(counterfeiter_output)\n",
    "    \n",
    "        ## 2 loss \n",
    "        loss_of_police =\\\n",
    "        loss_fn(policehat_from_fakeimage,fake_label)+\\\n",
    "        loss_fn(policehat_from_realimage,real_label)\n",
    "    \n",
    "        ## 3 back propagation \n",
    "        loss_of_police.backward()\n",
    "    \n",
    "        ## 4 update\n",
    "        optimizer_of_police.step()\n",
    "        optimizer_of_police.zero_grad()\n",
    "        \n",
    "    for i in range(50): \n",
    "        ## 1 \n",
    "        err=torch.randn(6131,28) \n",
    "        counterfeiter_output= counterfeiter(err)  \n",
    "        policehat_from_fakeimage = police(counterfeiter_output) \n",
    "        ## 2 \n",
    "        loss_of_counterfeiter = loss_fn(policehat_from_fakeimage,real_label)\n",
    "        ## 3 \n",
    "        loss_of_counterfeiter.backward()\n",
    "        ## 4 \n",
    "        optimizer_of_counterfeiter.step()\n",
    "        optimizer_of_counterfeiter.zero_grad()        "
   ]
  },
  {
   "cell_type": "markdown",
   "id": "248b909a-47d1-490e-b8a4-6c219685a4e5",
   "metadata": {},
   "source": [
    "`-` 위조범의 최종적 실력향상감상 "
   ]
  },
  {
   "cell_type": "code",
   "execution_count": 31,
   "id": "10cc9d22-ad10-4985-aa17-560a0c80e9d8",
   "metadata": {},
   "outputs": [
    {
     "data": {
      "text/plain": [
       "<matplotlib.image.AxesImage at 0x7f365528e7d0>"
      ]
     },
     "execution_count": 31,
     "metadata": {},
     "output_type": "execute_result"
    },
    {
     "data": {
      "image/png": "[encoded data removed]",
      "text/plain": [
       "<Figure size 432x288 with 1 Axes>"
      ]
     },
     "metadata": {
      "needs_background": "light"
     },
     "output_type": "display_data"
    }
   ],
   "source": [
    "plt.imshow(counterfeiter_output[0].reshape(28,28).data)"
   ]
  }
 ],
 "metadata": {
  "kernelspec": {
   "display_name": "Python 3",
   "language": "python",
   "name": "python3"
  },
  "language_info": {
   "codemirror_mode": {
    "name": "ipython",
    "version": 3
   },
   "file_extension": ".py",
   "mimetype": "text/x-python",
   "name": "python",
   "nbconvert_exporter": "python",
   "pygments_lexer": "ipython3",
   "version": "3.7.13"
  }
 },
 "nbformat": 4,
 "nbformat_minor": 5
}
