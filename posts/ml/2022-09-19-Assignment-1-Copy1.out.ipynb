{
  "cells": [
    {
      "cell_type": "markdown",
      "metadata": {},
      "source": [
        "# Assignment 1\n",
        "\n",
        "SEOYEON CHOI  \n",
        "2022-09-19\n",
        "\n",
        "교수님 풀이, 안 건들임\n",
        "\n",
        "-   제출은 `이름(학번).ipynb` 파일과 `이름(학번).html`파일 2개를 제출할\n",
        "    것.\n",
        "-   ipynb 혹은 html 파일을 이용한 제출이 익숙하지 않은 학생은 질문할 것."
      ],
      "id": "aeb3f73f-6e4f-4353-b8a6-514a67993270"
    },
    {
      "cell_type": "code",
      "execution_count": null,
      "metadata": {},
      "outputs": [],
      "source": [
        "from fastai.vision.all import *\n",
        "from fastai.collab import * \n",
        "from fastai.text.all import *"
      ],
      "id": "8a72b9fe-40b1-4dbe-b98d-44ba4017ac01"
    },
    {
      "cell_type": "markdown",
      "metadata": {},
      "source": [
        "## `1`. 이미지자료분석\n",
        "\n",
        "아래를 이용하여 MNIST_SAMPLE 이미지 자료를 다운로드 받고 dls오브젝트를\n",
        "만들어라."
      ],
      "id": "ab76bdca-ca36-4c23-a78d-9344f063a318"
    },
    {
      "cell_type": "code",
      "execution_count": null,
      "metadata": {},
      "outputs": [],
      "source": [
        "path = untar_data(URLs.MNIST_SAMPLE)"
      ],
      "id": "24770588-b52a-412e-b67d-ba14f9003ddd"
    },
    {
      "cell_type": "code",
      "execution_count": null,
      "metadata": {
        "tags": []
      },
      "outputs": [],
      "source": [
        "dls = ImageDataLoaders.from_folder(path,suffle=False) "
      ],
      "id": "c6a009d2-b595-47d6-9101-e7303f8cf1e6"
    },
    {
      "cell_type": "code",
      "execution_count": null,
      "metadata": {
        "outputId": "8b84c399-91c3-4f02-e633-dbb4ebf302cd"
      },
      "outputs": [
        {
          "output_type": "display_data",
          "metadata": {},
          "data": {
            "image/png": "[encoded data removed]"
          }
        }
      ],
      "source": [
        "dls.show_batch()"
      ],
      "id": "709295d3-9394-40f5-84c9-b36a5ab56b86"
    },
    {
      "cell_type": "markdown",
      "metadata": {},
      "source": [
        "`(1)` cnn_learner를 이용하여 lrnr 오브젝트를 생성하라. - arch 는\n",
        "resnet34 로 설정할 것 - metrics 는 error_rate 로 설정할 것\n",
        "\n",
        "(풀이)"
      ],
      "id": "ecb841aa-19bf-4dc0-a526-8446f5bcc28c"
    },
    {
      "cell_type": "code",
      "execution_count": null,
      "metadata": {
        "outputId": "cf7e8322-313a-4f15-86b7-5dc2dec6518a"
      },
      "outputs": [
        {
          "output_type": "stream",
          "name": "stderr",
          "text": [
            "/home/cgb4/anaconda3/envs/py37/lib/python3.7/site-packages/fastai/vision/learner.py:284: UserWarning: `cnn_learner` has been renamed to `vision_learner` -- please update your code\n",
            "  warn(\"`cnn_learner` has been renamed to `vision_learner` -- please update your code\")\n",
            "/home/cgb4/anaconda3/envs/py37/lib/python3.7/site-packages/torchvision/models/_utils.py:209: UserWarning: The parameter 'pretrained' is deprecated since 0.13 and will be removed in 0.15, please use 'weights' instead.\n",
            "  f\"The parameter '{pretrained_param}' is deprecated since 0.13 and will be removed in 0.15, \"\n",
            "/home/cgb4/anaconda3/envs/py37/lib/python3.7/site-packages/torchvision/models/_utils.py:223: UserWarning: Arguments other than a weight enum or `None` for 'weights' are deprecated since 0.13 and will be removed in 0.15. The current behavior is equivalent to passing `weights=ResNet34_Weights.IMAGENET1K_V1`. You can also use `weights=ResNet34_Weights.DEFAULT` to get the most up-to-date weights.\n",
            "  warnings.warn(msg)"
          ]
        }
      ],
      "source": [
        "lrnr = cnn_learner(dls, arch = resnet34, metrics=error_rate)"
      ],
      "id": "f74aee11-3f0a-45ed-b7af-56ef19180a0d"
    },
    {
      "cell_type": "markdown",
      "metadata": {},
      "source": [
        "`(2)` fine_tune 을 이용하여 lrnr 오브젝트를 학습하라.\n",
        "\n",
        "(풀이)"
      ],
      "id": "3cd9fbd5-b320-438c-8f1a-c0929efe9d5d"
    },
    {
      "cell_type": "code",
      "execution_count": null,
      "metadata": {
        "outputId": "9cc32ffe-3ee2-490e-8b6d-55053ff74767"
      },
      "outputs": [
        {
          "output_type": "display_data",
          "metadata": {},
          "data": {
            "text/html": [
              "\n",
              "<style>\n",
              "    /* Turns off some styling */\n",
              "    progress {\n",
              "        /* gets rid of default border in Firefox and Opera. */\n",
              "        border: none;\n",
              "        /* Needs to be in here for Safari polyfill so background images work as expected. */\n",
              "        background-size: auto;\n",
              "    }\n",
              "    progress:not([value]), progress:not([value])::-webkit-progress-bar {\n",
              "        background: repeating-linear-gradient(45deg, #7e7e7e, #7e7e7e 10px, #5c5c5c 10px, #5c5c5c 20px);\n",
              "    }\n",
              "    .progress-bar-interrupted, .progress-bar-interrupted::-webkit-progress-bar {\n",
              "        background: #F44336;\n",
              "    }\n",
              "</style>"
            ]
          }
        },
        {
          "output_type": "display_data",
          "metadata": {},
          "data": {}
        },
        {
          "output_type": "display_data",
          "metadata": {},
          "data": {
            "text/html": [
              "\n",
              "<style>\n",
              "    /* Turns off some styling */\n",
              "    progress {\n",
              "        /* gets rid of default border in Firefox and Opera. */\n",
              "        border: none;\n",
              "        /* Needs to be in here for Safari polyfill so background images work as expected. */\n",
              "        background-size: auto;\n",
              "    }\n",
              "    progress:not([value]), progress:not([value])::-webkit-progress-bar {\n",
              "        background: repeating-linear-gradient(45deg, #7e7e7e, #7e7e7e 10px, #5c5c5c 10px, #5c5c5c 20px);\n",
              "    }\n",
              "    .progress-bar-interrupted, .progress-bar-interrupted::-webkit-progress-bar {\n",
              "        background: #F44336;\n",
              "    }\n",
              "</style>"
            ]
          }
        },
        {
          "output_type": "display_data",
          "metadata": {},
          "data": {}
        }
      ],
      "source": [
        "lrnr.fine_tune(1)"
      ],
      "id": "8f77fc15-bc25-4db9-9f6a-c77f1cca567f"
    },
    {
      "cell_type": "markdown",
      "metadata": {},
      "source": [
        "`(3)` 아래를 이용하여 X,y를 만들어라.\n",
        "\n",
        "``` python\n",
        "X,y = dls.one_batch()\n",
        "```\n",
        "\n",
        "X,y의 shape을 조사하라. X에는 몇개의 이미지가 있는가? 이미지의 size는\n",
        "얼마인가?\n",
        "\n",
        "(풀이)"
      ],
      "id": "bdcfbb44-e808-4f86-a4e0-574bcd36eb47"
    },
    {
      "cell_type": "code",
      "execution_count": null,
      "metadata": {
        "outputId": "c0020b00-cf14-466c-8dd3-059f097ec2c8"
      },
      "outputs": [
        {
          "output_type": "display_data",
          "metadata": {},
          "data": {
            "text/plain": [
              "torch.Size([64, 3, 28, 28])"
            ]
          }
        }
      ],
      "source": [
        "X,y = dls.one_batch()\n",
        "X.shape"
      ],
      "id": "9ab81aaa-6a9c-42d1-b8f8-6d997593a348"
    },
    {
      "cell_type": "markdown",
      "metadata": {},
      "source": [
        "X에는 64개의 이미지가 있고 크기는 (28,28) 이다.\n",
        "\n",
        "`(4)` 아래의 코드를 이용하여 X의 두번째 이미지가 어떠한 숫자를\n",
        "의미하는지 확인하라. (그림보고 3인지 7인지 확인하여 답을 쓸 것)\n",
        "\n",
        "``` python\n",
        "show_image(X[0])\n",
        "```\n",
        "\n",
        "그리고 show_image가 정의된 파일의 경로를 확인하고 show_image가 python\n",
        "내장함수 인지, torch에서 지원하는 함수인지 fastai에서 지원하는 함수인지\n",
        "파악하라.\n",
        "\n",
        "(풀이)"
      ],
      "id": "a48f1a04-f85c-4101-8ac7-58ff89c98221"
    },
    {
      "cell_type": "code",
      "execution_count": null,
      "metadata": {
        "outputId": "c28cd1b8-30bf-4b5b-db0b-12f471e6573c"
      },
      "outputs": [
        {
          "output_type": "stream",
          "name": "stderr",
          "text": [
            "Clipping input data to the valid range for imshow with RGB data ([0..1] for floats or [0..255] for integers)."
          ]
        },
        {
          "output_type": "display_data",
          "metadata": {},
          "data": {
            "image/png": "[encoded data removed]"
          }
        }
      ],
      "source": [
        "show_image(X[1]) # 두번째 이미지 "
      ],
      "id": "0cc8942b-bf00-43dd-9f15-2a0ee534721f"
    },
    {
      "cell_type": "code",
      "execution_count": null,
      "metadata": {
        "outputId": "11cdf4fd-f275-47c7-b752-cb7b1bfb1822"
      },
      "outputs": [
        {
          "output_type": "display_data",
          "metadata": {},
          "data": {
            "text/html": [
              "<pre><span class=\"ansi-red-fg\">Signature:</span>\n",
              "show_image<span class=\"ansi-blue-fg\">(</span>\n",
              "    im<span class=\"ansi-blue-fg\">,</span>\n",
              "    ax<span class=\"ansi-blue-fg\">=</span><span class=\"ansi-green-fg\">None</span><span class=\"ansi-blue-fg\">,</span>\n",
              "    figsize<span class=\"ansi-blue-fg\">=</span><span class=\"ansi-green-fg\">None</span><span class=\"ansi-blue-fg\">,</span>\n",
              "    title<span class=\"ansi-blue-fg\">=</span><span class=\"ansi-green-fg\">None</span><span class=\"ansi-blue-fg\">,</span>\n",
              "    ctx<span class=\"ansi-blue-fg\">=</span><span class=\"ansi-green-fg\">None</span><span class=\"ansi-blue-fg\">,</span>\n",
              "    cmap<span class=\"ansi-blue-fg\">=</span><span class=\"ansi-green-fg\">None</span><span class=\"ansi-blue-fg\">,</span>\n",
              "    norm<span class=\"ansi-blue-fg\">=</span><span class=\"ansi-green-fg\">None</span><span class=\"ansi-blue-fg\">,</span>\n",
              "    <span class=\"ansi-blue-fg\">*</span><span class=\"ansi-blue-fg\">,</span>\n",
              "    aspect<span class=\"ansi-blue-fg\">=</span><span class=\"ansi-green-fg\">None</span><span class=\"ansi-blue-fg\">,</span>\n",
              "    interpolation<span class=\"ansi-blue-fg\">=</span><span class=\"ansi-green-fg\">None</span><span class=\"ansi-blue-fg\">,</span>\n",
              "    alpha<span class=\"ansi-blue-fg\">=</span><span class=\"ansi-green-fg\">None</span><span class=\"ansi-blue-fg\">,</span>\n",
              "    vmin<span class=\"ansi-blue-fg\">=</span><span class=\"ansi-green-fg\">None</span><span class=\"ansi-blue-fg\">,</span>\n",
              "    vmax<span class=\"ansi-blue-fg\">=</span><span class=\"ansi-green-fg\">None</span><span class=\"ansi-blue-fg\">,</span>\n",
              "    origin<span class=\"ansi-blue-fg\">=</span><span class=\"ansi-green-fg\">None</span><span class=\"ansi-blue-fg\">,</span>\n",
              "    extent<span class=\"ansi-blue-fg\">=</span><span class=\"ansi-green-fg\">None</span><span class=\"ansi-blue-fg\">,</span>\n",
              "    interpolation_stage<span class=\"ansi-blue-fg\">=</span><span class=\"ansi-green-fg\">None</span><span class=\"ansi-blue-fg\">,</span>\n",
              "    filternorm<span class=\"ansi-blue-fg\">=</span><span class=\"ansi-green-fg\">True</span><span class=\"ansi-blue-fg\">,</span>\n",
              "    filterrad<span class=\"ansi-blue-fg\">=</span><span class=\"ansi-cyan-fg\">4.0</span><span class=\"ansi-blue-fg\">,</span>\n",
              "    resample<span class=\"ansi-blue-fg\">=</span><span class=\"ansi-green-fg\">None</span><span class=\"ansi-blue-fg\">,</span>\n",
              "    url<span class=\"ansi-blue-fg\">=</span><span class=\"ansi-green-fg\">None</span><span class=\"ansi-blue-fg\">,</span>\n",
              "    data<span class=\"ansi-blue-fg\">=</span><span class=\"ansi-green-fg\">None</span><span class=\"ansi-blue-fg\">,</span>\n",
              "    <span class=\"ansi-blue-fg\">**</span>kwargs<span class=\"ansi-blue-fg\">,</span>\n",
              "<span class=\"ansi-blue-fg\">)</span>\n",
              "<span class=\"ansi-red-fg\">Docstring:</span> Show a PIL or PyTorch image on `ax`.\n",
              "<span class=\"ansi-red-fg\">File:</span>      ~/anaconda3/envs/py37/lib/python3.7/site-packages/fastai/torch_core.py\n",
              "<span class=\"ansi-red-fg\">Type:</span>      function\n",
              "</pre>"
            ]
          }
        }
      ],
      "source": [
        "show_image?"
      ],
      "id": "76fd0862-030e-409f-b415-b5c760891ae1"
    },
    {
      "cell_type": "markdown",
      "metadata": {},
      "source": [
        "-   fastai에서 지원하는 함수\n",
        "\n",
        "`(5)` lrnr 오브젝트를 이용하여 AI가 X\\[0\\]을 어떤 값으로 판단하는지\n",
        "확인하라. 올바르게 판단하였는가? 올바르게 판단했다면 몇 프로의 확신으로\n",
        "판단하였는가? \\<– 문제가 의도한 것과 다르게 만들어졌어요\n",
        "\n",
        "(풀이)"
      ],
      "id": "815acdb5-db89-4c6a-b2a8-3e973eb36194"
    },
    {
      "cell_type": "code",
      "execution_count": null,
      "metadata": {
        "outputId": "73290ed8-735f-4197-b983-c48a93aa784a"
      },
      "outputs": [
        {
          "output_type": "stream",
          "name": "stderr",
          "text": [
            "Clipping input data to the valid range for imshow with RGB data ([0..1] for floats or [0..255] for integers)."
          ]
        },
        {
          "output_type": "display_data",
          "metadata": {},
          "data": {
            "image/png": "[encoded data removed]"
          }
        }
      ],
      "source": [
        "show_image(X[0]) # 첫번째 이미지"
      ],
      "id": "40a5f7a6-c6a1-4cb1-8545-36250b3badcd"
    },
    {
      "cell_type": "code",
      "execution_count": null,
      "metadata": {
        "outputId": "521dff1b-d4bd-425d-d5e4-a04a36cfe867"
      },
      "outputs": [
        {
          "output_type": "display_data",
          "metadata": {},
          "data": {
            "text/plain": [
              "TensorBase([[ 3.4148, -5.0356]], device='cuda:0', grad_fn=<AliasBackward0>)"
            ]
          }
        }
      ],
      "source": [
        "lrnr.model(X[0].reshape(1,3,28,28))"
      ],
      "id": "6164f12b-0830-4ca8-9d79-9589e0d01e44"
    },
    {
      "cell_type": "code",
      "execution_count": null,
      "metadata": {
        "outputId": "dcff1dcb-1fbf-46a7-ea7e-ae728ae66e4e"
      },
      "outputs": [
        {
          "output_type": "stream",
          "name": "stdout",
          "text": [
            "3일확률 0.9997862308347155\n",
            "7일확률 0.0002137691652844868"
          ]
        }
      ],
      "source": [
        "import numpy as np\n",
        "a=np.exp(3.4148)\n",
        "b=np.exp(-5.0356)\n",
        "print('3일확률',a/(a+b))\n",
        "print('7일확률',b/(a+b))"
      ],
      "id": "98b12680-1be9-4671-b3da-23c6a4e7c97f"
    },
    {
      "cell_type": "markdown",
      "metadata": {},
      "source": [
        "> 원래문제의도: `lrnr.predict(X[0].to(\"cpu\"))`\n",
        "\n",
        "## `2`. 추천시스템\n",
        "\n",
        "아래를 이용하여 rcmd_anal.csv 를 다운로드 받고 dls오브젝트를 만들어라."
      ],
      "id": "eaea9ce2-acb6-43ac-8969-fcf3f1c9d3d3"
    },
    {
      "cell_type": "code",
      "execution_count": null,
      "metadata": {
        "outputId": "6fc71d56-5a7e-4a9d-e2ea-2b7634c0cf10"
      },
      "outputs": [
        {
          "output_type": "display_data",
          "metadata": {},
          "data": {
            "text/html": [
              "\n",
              "<p>1000 rows × 4 columns</p>\n",
              "</div>"
            ]
          }
        }
      ],
      "source": [
        "df = pd.read_csv('https://raw.githubusercontent.com/guebin/DL2022/master/_notebooks/2022-09-08-rcmd_anal.csv')\n",
        "df"
      ],
      "id": "08428e62-ce80-43df-a30c-699d284d4786"
    },
    {
      "cell_type": "markdown",
      "metadata": {},
      "source": [
        "`(1)` 73번 유저가 먹은 아이템 및 평점을 출력하는 코드를 작성하라. 이를\n",
        "기반으로 73번 유저가 어떠한 취향인지 파악하라.\n",
        "\n",
        "(풀이)"
      ],
      "id": "026e8577-23ba-44b7-bff3-a07361359248"
    },
    {
      "cell_type": "code",
      "execution_count": null,
      "metadata": {
        "outputId": "4bafc378-336f-460a-9883-48404ddfa3b3"
      },
      "outputs": [
        {
          "output_type": "display_data",
          "metadata": {},
          "data": {
            "text/html": [
              "\n",
              "</div>"
            ]
          }
        }
      ],
      "source": [
        "df.query('user == 73')"
      ],
      "id": "274b0758-37c4-411d-9c14-4490e5f9dfa0"
    },
    {
      "cell_type": "markdown",
      "metadata": {},
      "source": [
        "-   홍차를 선호\n",
        "\n",
        "`(2)` dls와 lrnr 오브젝트를 생성하고 lrnr 오브젝트를 학습하라.\n",
        "\n",
        "(풀이)"
      ],
      "id": "7be4ceb3-e6cb-43d9-8c79-f96be81d9b56"
    },
    {
      "cell_type": "code",
      "execution_count": null,
      "metadata": {},
      "outputs": [],
      "source": [
        "dls = CollabDataLoaders.from_df(df)\n",
        "lrnr = collab_learner(dls,y_range=(0,5))"
      ],
      "id": "7efb4ff7-da1e-4ccd-8d0d-012aba2b850c"
    },
    {
      "cell_type": "code",
      "execution_count": null,
      "metadata": {
        "outputId": "58d1e1a5-1567-4a78-ed5e-39fa2a64dae3"
      },
      "outputs": [
        {
          "output_type": "display_data",
          "metadata": {},
          "data": {
            "text/html": [
              "\n",
              "<style>\n",
              "    /* Turns off some styling */\n",
              "    progress {\n",
              "        /* gets rid of default border in Firefox and Opera. */\n",
              "        border: none;\n",
              "        /* Needs to be in here for Safari polyfill so background images work as expected. */\n",
              "        background-size: auto;\n",
              "    }\n",
              "    progress:not([value]), progress:not([value])::-webkit-progress-bar {\n",
              "        background: repeating-linear-gradient(45deg, #7e7e7e, #7e7e7e 10px, #5c5c5c 10px, #5c5c5c 20px);\n",
              "    }\n",
              "    .progress-bar-interrupted, .progress-bar-interrupted::-webkit-progress-bar {\n",
              "        background: #F44336;\n",
              "    }\n",
              "</style>"
            ]
          }
        },
        {
          "output_type": "display_data",
          "metadata": {},
          "data": {}
        }
      ],
      "source": [
        "lrnr.fit(50)"
      ],
      "id": "b3517787-9b7c-4182-82b9-c033a3148877"
    },
    {
      "cell_type": "markdown",
      "metadata": {},
      "source": [
        "`(3)` 아래와 같은 데이터 프레임을 생성하고 df_new 에 저장하라."
      ],
      "id": "ef555e9c-bc80-4618-bed0-42f7012283bb"
    },
    {
      "cell_type": "code",
      "execution_count": null,
      "metadata": {
        "outputId": "81af183c-140f-4b33-9dd1-85ff4b9b9ccc"
      },
      "outputs": [
        {
          "output_type": "display_data",
          "metadata": {},
          "data": {}
        }
      ],
      "source": [
        "#collapse\n",
        "import IPython \n",
        "_html='<table border=\"1\" class=\"dataframe\">\\n  <thead>\\n    <tr style=\"text-align: right;\">\\n      <th></th>\\n      <th>user</th>\\n      <th>item</th>\\n    </tr>\\n  </thead>\\n  <tbody>\\n    <tr>\\n      <th>0</th>\\n      <td>73</td>\\n      <td>1</td>\\n    </tr>\\n    <tr>\\n      <th>1</th>\\n      <td>73</td>\\n      <td>2</td>\\n    </tr>\\n    <tr>\\n      <th>2</th>\\n      <td>73</td>\\n      <td>3</td>\\n    </tr>\\n    <tr>\\n      <th>3</th>\\n      <td>73</td>\\n      <td>4</td>\\n    </tr>\\n    <tr>\\n      <th>4</th>\\n      <td>73</td>\\n      <td>5</td>\\n    </tr>\\n    <tr>\\n      <th>5</th>\\n      <td>73</td>\\n      <td>6</td>\\n    </tr>\\n    <tr>\\n      <th>6</th>\\n      <td>73</td>\\n      <td>7</td>\\n    </tr>\\n    <tr>\\n      <th>7</th>\\n      <td>73</td>\\n      <td>8</td>\\n    </tr>\\n    <tr>\\n      <th>8</th>\\n      <td>73</td>\\n      <td>9</td>\\n    </tr>\\n    <tr>\\n      <th>9</th>\\n      <td>73</td>\\n      <td>10</td>\\n    </tr>\\n    <tr>\\n      <th>10</th>\\n      <td>73</td>\\n      <td>11</td>\\n    </tr>\\n    <tr>\\n      <th>11</th>\\n      <td>73</td>\\n      <td>12</td>\\n    </tr>\\n    <tr>\\n      <th>12</th>\\n      <td>73</td>\\n      <td>13</td>\\n    </tr>\\n    <tr>\\n      <th>13</th>\\n      <td>73</td>\\n      <td>14</td>\\n    </tr>\\n    <tr>\\n      <th>14</th>\\n      <td>73</td>\\n      <td>15</td>\\n    </tr>\\n    <tr>\\n      <th>15</th>\\n      <td>73</td>\\n      <td>16</td>\\n    </tr>\\n    <tr>\\n      <th>16</th>\\n      <td>73</td>\\n      <td>17</td>\\n    </tr>\\n    <tr>\\n      <th>17</th>\\n      <td>73</td>\\n      <td>18</td>\\n    </tr>\\n    <tr>\\n      <th>18</th>\\n      <td>73</td>\\n      <td>19</td>\\n    </tr>\\n    <tr>\\n      <th>19</th>\\n      <td>73</td>\\n      <td>20</td>\\n    </tr>\\n  </tbody>\\n</table>'\n",
        "IPython.display.HTML(_html)"
      ],
      "id": "9ba83858-a50b-4340-aef4-8f70aaa37b12"
    },
    {
      "cell_type": "markdown",
      "metadata": {},
      "source": [
        "(풀이)"
      ],
      "id": "3cef35f7-923d-42f0-8289-7e25c1dfa137"
    },
    {
      "cell_type": "code",
      "execution_count": null,
      "metadata": {
        "outputId": "cb2f0eb5-4a35-4ab5-88d9-027a787bd18e"
      },
      "outputs": [
        {
          "output_type": "display_data",
          "metadata": {},
          "data": {
            "text/html": [
              "\n",
              "</div>"
            ]
          }
        }
      ],
      "source": [
        "df_new=pd.DataFrame({'user':[73]*20,'item':range(1,21)})\n",
        "df_new"
      ],
      "id": "c083ff64-2ee6-48ec-a715-298d2c391171"
    },
    {
      "cell_type": "markdown",
      "metadata": {},
      "source": [
        "`(4)` 아래의 코드를 이용하여 73번 유저의 취향을 파악하라. 73번 유저가\n",
        "커피3, 커피5를 먹는다면 얼마정도의 평점을 줄 것이라 예측되는가?\n",
        "\n",
        "``` python\n",
        "_dl = dls.test_dl(df_new)\n",
        "lrnr.get_preds(dl=_dl)\n",
        "```\n",
        "\n",
        "(풀이)"
      ],
      "id": "9c508cb5-549d-4a0e-b967-8b59bb85c584"
    },
    {
      "cell_type": "code",
      "execution_count": null,
      "metadata": {
        "outputId": "137c29b7-be20-4dce-af8e-f97188b31446"
      },
      "outputs": [
        {
          "output_type": "display_data",
          "metadata": {},
          "data": {
            "text/html": [
              "\n",
              "<style>\n",
              "    /* Turns off some styling */\n",
              "    progress {\n",
              "        /* gets rid of default border in Firefox and Opera. */\n",
              "        border: none;\n",
              "        /* Needs to be in here for Safari polyfill so background images work as expected. */\n",
              "        background-size: auto;\n",
              "    }\n",
              "    progress:not([value]), progress:not([value])::-webkit-progress-bar {\n",
              "        background: repeating-linear-gradient(45deg, #7e7e7e, #7e7e7e 10px, #5c5c5c 10px, #5c5c5c 20px);\n",
              "    }\n",
              "    .progress-bar-interrupted, .progress-bar-interrupted::-webkit-progress-bar {\n",
              "        background: #F44336;\n",
              "    }\n",
              "</style>"
            ]
          }
        },
        {
          "output_type": "display_data",
          "metadata": {},
          "data": {
            "text/html": []
          }
        },
        {
          "output_type": "display_data",
          "metadata": {},
          "data": {
            "text/plain": [
              "(tensor([0.9698, 1.0314, 1.0191, 1.0177, 1.0122, 0.9323, 1.0513, 1.0184, 1.0316,\n",
              "         0.9842, 3.8255, 3.9591, 3.8640, 3.8937, 3.9437, 3.8947, 3.8272, 3.9503,\n",
              "         3.8117, 3.8603]),\n",
              " None)"
            ]
          }
        }
      ],
      "source": [
        "_dl = dls.test_dl(df_new)\n",
        "lrnr.get_preds(dl=_dl)"
      ],
      "id": "0472b64d-cfec-4b20-805f-59036cc2eabe"
    },
    {
      "cell_type": "markdown",
      "metadata": {},
      "source": [
        "-   커피3: 1.0191, 커피5: 1.0122\n",
        "\n",
        "## `3`. 시퀀스자료분석\n",
        "\n",
        "아래를 이용하여 자료를 다운로드 받아라."
      ],
      "id": "41412b4d-5b15-4fdc-8c49-d82a7a5cb963"
    },
    {
      "cell_type": "code",
      "execution_count": null,
      "metadata": {
        "outputId": "98a21fed-2fad-4098-9b9e-8529347394d7"
      },
      "outputs": [
        {
          "output_type": "display_data",
          "metadata": {},
          "data": {
            "text/html": [
              "\n",
              "<p>2000 rows × 2 columns</p>\n",
              "</div>"
            ]
          }
        }
      ],
      "source": [
        "df = pd.read_csv('https://raw.githubusercontent.com/guebin/DL2022/master/_notebooks/2022-09-19-human_numbers_100.csv')\n",
        "df"
      ],
      "id": "cec1d5c5-f3e3-4bfe-be18-80a931430b44"
    },
    {
      "cell_type": "markdown",
      "metadata": {},
      "source": [
        "`(1)` TextDataLoaders.from_df을 이용하여 dls오브젝트를 만들어라. - is_lm\n",
        "= True 로 설정할 것 - seq_len = 5 로 설정할 것\n",
        "\n",
        "(풀이)"
      ],
      "id": "b0cc0588-9d97-4aee-bdb1-f29c796a7141"
    },
    {
      "cell_type": "code",
      "execution_count": null,
      "metadata": {
        "outputId": "940aa6a0-23f8-42b4-e393-11df7e43d711"
      },
      "outputs": [
        {
          "output_type": "display_data",
          "metadata": {},
          "data": {
            "text/html": [
              "\n",
              "<style>\n",
              "    /* Turns off some styling */\n",
              "    progress {\n",
              "        /* gets rid of default border in Firefox and Opera. */\n",
              "        border: none;\n",
              "        /* Needs to be in here for Safari polyfill so background images work as expected. */\n",
              "        background-size: auto;\n",
              "    }\n",
              "    progress:not([value]), progress:not([value])::-webkit-progress-bar {\n",
              "        background: repeating-linear-gradient(45deg, #7e7e7e, #7e7e7e 10px, #5c5c5c 10px, #5c5c5c 20px);\n",
              "    }\n",
              "    .progress-bar-interrupted, .progress-bar-interrupted::-webkit-progress-bar {\n",
              "        background: #F44336;\n",
              "    }\n",
              "</style>"
            ]
          }
        },
        {
          "output_type": "display_data",
          "metadata": {},
          "data": {
            "text/html": []
          }
        },
        {
          "output_type": "display_data",
          "metadata": {},
          "data": {}
        }
      ],
      "source": [
        "dls = TextDataLoaders.from_df(df,is_lm=True,seq_len=5,text_col='text')\n",
        "dls.show_batch()"
      ],
      "id": "1d0d106e-8f3b-4493-9926-560c318d4211"
    },
    {
      "cell_type": "markdown",
      "metadata": {},
      "source": [
        "`(2)` lrnr 오브젝트를 만들어라. - arch = AWD_LSTM 이용 - metrics =\n",
        "accuracy 이용\n",
        "\n",
        "(풀이)"
      ],
      "id": "f555cb63-634e-458c-8239-7679dfc4c5bf"
    },
    {
      "cell_type": "code",
      "execution_count": null,
      "metadata": {},
      "outputs": [],
      "source": [
        "lrnr = language_model_learner(dls, arch= AWD_LSTM, metrics=accuracy)"
      ],
      "id": "01b86775-5461-416f-8a4a-359c6681de0a"
    },
    {
      "cell_type": "markdown",
      "metadata": {},
      "source": [
        "`(3)` lrnr오브젝트에서 fine_tune(3) 메소드를 이용하여 모형을 학습하라.\n",
        "\n",
        "(풀이)"
      ],
      "id": "4305029e-26d3-4366-bf0f-75f605d7a9ea"
    },
    {
      "cell_type": "code",
      "execution_count": null,
      "metadata": {
        "outputId": "2dc47a24-3c6d-4f84-b018-de012abf9094"
      },
      "outputs": [
        {
          "output_type": "display_data",
          "metadata": {},
          "data": {
            "text/html": [
              "\n",
              "<style>\n",
              "    /* Turns off some styling */\n",
              "    progress {\n",
              "        /* gets rid of default border in Firefox and Opera. */\n",
              "        border: none;\n",
              "        /* Needs to be in here for Safari polyfill so background images work as expected. */\n",
              "        background-size: auto;\n",
              "    }\n",
              "    progress:not([value]), progress:not([value])::-webkit-progress-bar {\n",
              "        background: repeating-linear-gradient(45deg, #7e7e7e, #7e7e7e 10px, #5c5c5c 10px, #5c5c5c 20px);\n",
              "    }\n",
              "    .progress-bar-interrupted, .progress-bar-interrupted::-webkit-progress-bar {\n",
              "        background: #F44336;\n",
              "    }\n",
              "</style>"
            ]
          }
        },
        {
          "output_type": "display_data",
          "metadata": {},
          "data": {}
        },
        {
          "output_type": "display_data",
          "metadata": {},
          "data": {
            "text/html": [
              "\n",
              "<style>\n",
              "    /* Turns off some styling */\n",
              "    progress {\n",
              "        /* gets rid of default border in Firefox and Opera. */\n",
              "        border: none;\n",
              "        /* Needs to be in here for Safari polyfill so background images work as expected. */\n",
              "        background-size: auto;\n",
              "    }\n",
              "    progress:not([value]), progress:not([value])::-webkit-progress-bar {\n",
              "        background: repeating-linear-gradient(45deg, #7e7e7e, #7e7e7e 10px, #5c5c5c 10px, #5c5c5c 20px);\n",
              "    }\n",
              "    .progress-bar-interrupted, .progress-bar-interrupted::-webkit-progress-bar {\n",
              "        background: #F44336;\n",
              "    }\n",
              "</style>"
            ]
          }
        },
        {
          "output_type": "display_data",
          "metadata": {},
          "data": {}
        }
      ],
      "source": [
        "lrnr.fine_tune(3)"
      ],
      "id": "779f30a1-f9c0-44d7-a1c6-4a4fcf54cd52"
    },
    {
      "cell_type": "markdown",
      "metadata": {},
      "source": [
        "`(4)` ‘one , two ,’ 이후에 이어질 50개의 단어를 생성하라.\n",
        "\n",
        "(풀이)"
      ],
      "id": "c2a3b6e1-61c3-4a6d-a425-b594e9d1b912"
    },
    {
      "cell_type": "code",
      "execution_count": null,
      "metadata": {
        "outputId": "cf290081-2597-4a5d-dabf-3b7d08b2bcc2"
      },
      "outputs": [
        {
          "output_type": "display_data",
          "metadata": {},
          "data": {
            "text/html": [
              "\n",
              "<style>\n",
              "    /* Turns off some styling */\n",
              "    progress {\n",
              "        /* gets rid of default border in Firefox and Opera. */\n",
              "        border: none;\n",
              "        /* Needs to be in here for Safari polyfill so background images work as expected. */\n",
              "        background-size: auto;\n",
              "    }\n",
              "    progress:not([value]), progress:not([value])::-webkit-progress-bar {\n",
              "        background: repeating-linear-gradient(45deg, #7e7e7e, #7e7e7e 10px, #5c5c5c 10px, #5c5c5c 20px);\n",
              "    }\n",
              "    .progress-bar-interrupted, .progress-bar-interrupted::-webkit-progress-bar {\n",
              "        background: #F44336;\n",
              "    }\n",
              "</style>"
            ]
          }
        },
        {
          "output_type": "display_data",
          "metadata": {},
          "data": {
            "text/html": []
          }
        },
        {
          "output_type": "display_data",
          "metadata": {},
          "data": {
            "text/plain": [
              "'one , two , three , four , five , six , seven , eight , nine , ten , eleven , twelve , thirteen , fourteen , fifteen , sixteen , seventeen , eighteen , nineteen , twenty , twenty one , twenty two , twenty three , twenty four , twenty five'"
            ]
          }
        }
      ],
      "source": [
        "lrnr.predict('one, two,', n_words=50) "
      ],
      "id": "cbe76e52-a262-4291-a2f8-0c2e7bbc292b"
    },
    {
      "cell_type": "markdown",
      "metadata": {},
      "source": [
        "`(5)` ‘twenty , twenty one ,’ 이후에 이어질 50개의 단어를 생성하라.\n",
        "\n",
        "(풀이)"
      ],
      "id": "1b4592e0-6761-47e9-b6c6-0dc2580b2201"
    },
    {
      "cell_type": "code",
      "execution_count": null,
      "metadata": {
        "outputId": "2dfb4f37-4c0a-4c44-ceb0-81f624de47aa"
      },
      "outputs": [
        {
          "output_type": "display_data",
          "metadata": {},
          "data": {
            "text/html": [
              "\n",
              "<style>\n",
              "    /* Turns off some styling */\n",
              "    progress {\n",
              "        /* gets rid of default border in Firefox and Opera. */\n",
              "        border: none;\n",
              "        /* Needs to be in here for Safari polyfill so background images work as expected. */\n",
              "        background-size: auto;\n",
              "    }\n",
              "    progress:not([value]), progress:not([value])::-webkit-progress-bar {\n",
              "        background: repeating-linear-gradient(45deg, #7e7e7e, #7e7e7e 10px, #5c5c5c 10px, #5c5c5c 20px);\n",
              "    }\n",
              "    .progress-bar-interrupted, .progress-bar-interrupted::-webkit-progress-bar {\n",
              "        background: #F44336;\n",
              "    }\n",
              "</style>"
            ]
          }
        },
        {
          "output_type": "display_data",
          "metadata": {},
          "data": {
            "text/html": []
          }
        },
        {
          "output_type": "display_data",
          "metadata": {},
          "data": {
            "text/plain": [
              "'twenty , twenty one , twenty two , twenty three , twenty four , twenty five , twenty six , twenty seven , twenty eight , twenty nine , thirty , thirty one , thirty two , thirty three , thirty four , thirty five , thirty six , thirty seven , thirty eight ,'"
            ]
          }
        }
      ],
      "source": [
        "lrnr.predict('twenty, twenty one,', n_words=50) "
      ],
      "id": "a6379d06-938b-46a5-89ab-e59041eaede2"
    },
    {
      "cell_type": "markdown",
      "metadata": {},
      "source": [
        "## `4`. 리눅스명령어\n",
        "\n",
        "Collab 에서 (혹은 리눅스기반 서버에서) 아래의 명령어를 순서대로\n",
        "실행해보라.\n",
        "\n",
        "    !ls\n",
        "    !ls -a \n",
        "    !ls .\n",
        "    !ls .. \n",
        "    !ls sample\n",
        "    !mkdir asdf \n",
        "    !wget https://raw.githubusercontent.com/guebin/DL2022/master/_notebooks/2022-09-08-rcmd_anal.csv\n",
        "    !cp 2022-09-08-rcmd_anal.csv ./asdf \n",
        "    !ls ./asdf \n",
        "    !rm 2022-09-08-rcmd_anal.csv \n",
        "    !rm -rf asdf \n",
        "\n",
        "각 명령들이 무엇을 의미하는지 간단히 서술하라.\n",
        "\n",
        "(풀이)\n",
        "\n",
        "`!ls` - 현재디렉토리 파일+폴더 출력 - !ls . 와 같음 - !ls ./ 와 같음\n",
        "\n",
        "`!ls -a` - 현재디렉토리 파일+폴더 출력, 숨겨진 항목까지 출력\n",
        "\n",
        "`!ls .` - 현재디렉토리 파일+폴더 출력 - !ls 와 같음 - !ls ./ 와 같음\n",
        "\n",
        "`!ls ..` - 현재디렉토리보다 상위디렉토리의 파일+폴더 출력\n",
        "\n",
        "`!ls sample` - 현재디렉토리에 sample 디렉토리 출력 - !ls ./sample 과\n",
        "같음\n",
        "\n",
        "`!mkdir asdf` - 현재디렉토리에 asdf 폴더 생성 - !mkdir ./asdf 와 같음\n",
        "\n",
        "`!wget https://raw.githubusercontent.com/guebin/DL2022/master/_notebooks/2022-09-08-rcmd_anal.csv` -\n",
        "url에 있는 파일 다운로드하여 현재디렉토리에 저장\n",
        "\n",
        "`!cp 2022-09-08-rcmd_anal.csv ./asdf` - 2022-09-08-rcmd_anal.csv 파일을\n",
        "./asdf 로 복사\n",
        "\n",
        "`!ls ./asdf` - 현재디렉토리에서 asdf 디렉토리의 내용출력 - !ls asdf 와\n",
        "같음\n",
        "\n",
        "`!rm 2022-09-08-rcmd_anal.csv` - 현재 디렉토리에서\n",
        "2022-09-08-rcmd_anal.csv 파일삭제; - rm ./2022-09-08-rcmd_anal.csv 와\n",
        "같음\n",
        "\n",
        "`!rm -rf asdf` - 현재 디렉토리에서 asdf 삭제 (asdf 폴더내에 파일이\n",
        "존재하면 파일도 같이 삭제) - r은 recursively, f는 force의 약자\n",
        "\n",
        "## Appendix: ipynb -\\> html 변환\n",
        "\n",
        "> youtube:\n",
        "> https://youtube.com/playlist?list=PLQqh36zP38-x3HQLeyrS7GLh70Dv_54Yg"
      ],
      "id": "d8880eef-ba6c-4799-bd05-d393fc94df09"
    }
  ],
  "nbformat": 4,
  "nbformat_minor": 5,
  "metadata": {
    "colab": {
      "provenance": []
    },
    "kernelspec": {
      "name": "python3",
      "display_name": "Python 3 (ipykernel)",
      "language": "python"
    },
    "language_info": {
      "name": "python",
      "codemirror_mode": {
        "name": "ipython",
        "version": "3"
      },
      "file_extension": ".py",
      "mimetype": "text/x-python",
      "nbconvert_exporter": "python",
      "pygments_lexer": "ipython3",
      "version": "3.8.12"
    }
  }
}