{
 "cells": [
  {
   "cell_type": "raw",
   "id": "53fa8846-5b53-4db0-b797-4616a4714518",
   "metadata": {},
   "source": [
    "---\n",
    "title: \"Deep Learning final example\"\n",
    "author: \"SEOYEON CHOI\"\n",
    "date: \"11/29/2022\"\n",
    "---"
   ]
  },
  {
   "cell_type": "markdown",
   "id": "6af1e16f-c841-40df-92a5-23928614cb21",
   "metadata": {},
   "source": [
    "> 기말고사"
   ]
  },
  {
   "cell_type": "code",
   "execution_count": 52,
   "id": "8896a7ce-2d1c-4798-8d16-6a4c5a4882b9",
   "metadata": {},
   "outputs": [],
   "source": [
    "import torch \n",
    "import matplotlib.pyplot as plt"
   ]
  },
  {
   "cell_type": "markdown",
   "id": "ff217136-e9c1-4e32-8f30-01a0b6927083",
   "metadata": {},
   "source": [
    "## `1`. hi?hello!! (90점)"
   ]
  },
  {
   "cell_type": "markdown",
   "id": "4018c918-f94e-44be-a9f0-4955900150cf",
   "metadata": {},
   "source": [
    "아래와 같은 데이터가 있다고 하자. "
   ]
  },
  {
   "cell_type": "code",
   "execution_count": 53,
   "id": "beefd4c6-44c1-475d-9011-3b42897ae220",
   "metadata": {},
   "outputs": [],
   "source": [
    "txt = list('hi?hello!!')*100 \n",
    "txt_x = txt[:-1]\n",
    "txt_y = txt[1:]"
   ]
  },
  {
   "cell_type": "code",
   "execution_count": 54,
   "id": "4ebe6ce7-b51f-4061-8737-e6d38e5cbc37",
   "metadata": {},
   "outputs": [
    {
     "data": {
      "text/plain": [
       "(['h', 'i', '?', 'h', 'e'], ['i', '?', 'h', 'e', 'l'])"
      ]
     },
     "execution_count": 54,
     "metadata": {},
     "output_type": "execute_result"
    }
   ],
   "source": [
    "txt_x[:5], txt_y[:5]"
   ]
  },
  {
   "cell_type": "markdown",
   "id": "b6d8cdaa-8c8c-4218-9097-70c4b5182da1",
   "metadata": {},
   "source": [
    "`txt_x`와 `txt_y`를 이용하여 아래와 같은 순서로 다음문자를 예측하고 싶은 신경망을 설계하고 싶다."
   ]
  },
  {
   "cell_type": "markdown",
   "id": "6ebd3ab0-ecf3-46c9-96cc-ddeadc156575",
   "metadata": {},
   "source": [
    "`h` $\\to$ `i` $\\to$ `?` $\\to$ `h` $\\to$ `e` $\\to$ `l` $\\to$ `l` $\\to$ `o` $\\to$ `!` $\\to$ `!` $\\to$ `h` $\\to$ `i` $\\to$ `?` $\\to$ `h` $\\to$ `e` $\\to$ $\\dots$"
   ]
  },
  {
   "cell_type": "markdown",
   "id": "3cac177f-e6c8-40a0-b322-73770472c520",
   "metadata": {},
   "source": [
    "***(1)-(6)*** 의 풀이에 공통적으로 필요한 과정 정리 "
   ]
  },
  {
   "cell_type": "code",
   "execution_count": 55,
   "id": "fc2bc385-c323-49a8-833a-ec2abaaeb56a",
   "metadata": {},
   "outputs": [],
   "source": [
    "def f(txt,mapping):\n",
    "    return [mapping[key] for key in txt] \n",
    "sig = torch.nn.Sigmoid()\n",
    "soft = torch.nn.Softmax(dim=1)\n",
    "tanh = torch.nn.Tanh()\n",
    "mapping = {'!':0, '?':1,'h':2,'i':3,'e':4,'l':5,'o':6} \n",
    "x= torch.nn.functional.one_hot(torch.tensor(f(txt_x,mapping))).float().to(\"cuda:0\")\n",
    "y= torch.nn.functional.one_hot(torch.tensor(f(txt_y,mapping))).float().to(\"cuda:0\")"
   ]
  },
  {
   "cell_type": "markdown",
   "id": "4d049e5d-496e-4649-a226-3653cd729c4d",
   "metadata": {},
   "source": [
    "`(1)` `torch.nn.RNN()`을 이용하여 다음문자를 예측하는 신경망을 설계하고 학습하라. "
   ]
  },
  {
   "cell_type": "markdown",
   "id": "1b5fbf5a-d091-4ba3-a72e-2d92a64372b4",
   "metadata": {},
   "source": [
    "(풀이)"
   ]
  },
  {
   "cell_type": "code",
   "execution_count": 56,
   "id": "6faa79b2-7c25-4244-9dd5-15b7bf71547c",
   "metadata": {},
   "outputs": [
    {
     "data": {
      "image/png": "[encoded data removed]",
      "text/plain": [
       "<Figure size 288x411.429 with 1 Axes>"
      ]
     },
     "metadata": {
      "needs_background": "light"
     },
     "output_type": "display_data"
    }
   ],
   "source": [
    "rnn = torch.nn.RNN(7,8).to(\"cuda:0\")\n",
    "linr = torch.nn.Linear(8,7).to(\"cuda:0\")\n",
    "loss_fn = torch.nn.CrossEntropyLoss()\n",
    "optimizr = torch.optim.Adam(list(rnn.parameters())+list(linr.parameters()),lr=0.1)\n",
    "_water = torch.zeros(1,8).to(\"cuda:0\")\n",
    "for epoc in range(500):\n",
    "    ## 1\n",
    "    hidden, hT = rnn(x)\n",
    "    output = linr(hidden)\n",
    "    ## 2\n",
    "    loss = loss_fn(output,y)\n",
    "    ## 3\n",
    "    loss.backward()\n",
    "    ## 4 \n",
    "    optimizr.step()\n",
    "    optimizr.zero_grad()\n",
    "yhat=soft(output)    \n",
    "plt.matshow(yhat.to(\"cpu\").data[:10],cmap='bwr',vmin=-1,vmax=1)\n",
    "plt.xticks(range(7),labels=['!','?','h','i','e','l','o']);"
   ]
  },
  {
   "cell_type": "markdown",
   "id": "1b49f986-6bc0-4fa6-80cd-cc4730e3effe",
   "metadata": {},
   "source": [
    "`(2)` `torch.nn.RNNCell()`을 이용하여 다음문자를 예측하는 신경망을 설계하고 학습하라. "
   ]
  },
  {
   "cell_type": "code",
   "execution_count": 75,
   "id": "bc54564d-5ba8-4249-8c9c-380cb00ef46e",
   "metadata": {},
   "outputs": [],
   "source": [
    "torch.manual_seed(12345)\n",
    "rnncell = torch.nn.RNNCell(7,8).to(\"cuda:0\")\n",
    "linr = torch.nn.Linear(8,7).to(\"cuda:0\")\n",
    "loss_fn = torch.nn.CrossEntropyLoss()\n",
    "optimizr = torch.optim.Adam(list(rnncell.parameters())+list(linr.parameters()),lr=0.1)"
   ]
  },
  {
   "cell_type": "code",
   "execution_count": 76,
   "id": "ae3d7295-a78d-44c9-955d-6808bbbd5327",
   "metadata": {},
   "outputs": [],
   "source": [
    "for epoc in range(100):\n",
    "    ## 1\n",
    "    hidden = [] \n",
    "    ht = torch.zeros(8).to(\"cuda:0\")\n",
    "    for xt,yt in zip(x,y): \n",
    "        ht = rnncell(xt,ht) \n",
    "        hidden.append(ht) \n",
    "    hidden = torch.stack(hidden)\n",
    "    output = linr(hidden)\n",
    "    ## 2 \n",
    "    loss = loss_fn(output,y)\n",
    "    ## 3 \n",
    "    loss.backward()\n",
    "    ## 4 \n",
    "    optimizr.step()\n",
    "    optimizr.zero_grad()"
   ]
  },
  {
   "cell_type": "code",
   "execution_count": 77,
   "id": "6519e542-cd2b-4067-b60f-fe081bb39c67",
   "metadata": {},
   "outputs": [
    {
     "data": {
      "text/plain": [
       "array([[0.   , 0.005, 0.   , 0.982, 0.013, 0.   , 0.   ],\n",
       "       [0.   , 0.999, 0.   , 0.   , 0.   , 0.001, 0.   ],\n",
       "       [0.   , 0.   , 1.   , 0.   , 0.   , 0.   , 0.   ],\n",
       "       [0.   , 0.   , 0.   , 0.001, 0.999, 0.   , 0.   ],\n",
       "       [0.   , 0.   , 0.   , 0.   , 0.   , 1.   , 0.   ],\n",
       "       [0.   , 0.   , 0.   , 0.   , 0.   , 1.   , 0.   ],\n",
       "       [0.   , 0.   , 0.   , 0.   , 0.   , 0.   , 1.   ],\n",
       "       [1.   , 0.   , 0.   , 0.   , 0.   , 0.   , 0.   ],\n",
       "       [1.   , 0.   , 0.   , 0.   , 0.   , 0.   , 0.   ],\n",
       "       [0.   , 0.   , 1.   , 0.   , 0.   , 0.   , 0.   ]], dtype=float32)"
      ]
     },
     "execution_count": 77,
     "metadata": {},
     "output_type": "execute_result"
    }
   ],
   "source": [
    "yhat = soft(output)\n",
    "yhat[:10].to(\"cpu\").detach().numpy().round(3)"
   ]
  },
  {
   "cell_type": "code",
   "execution_count": 78,
   "id": "23d05c2e-530a-4dab-9443-b36ea48b52ad",
   "metadata": {},
   "outputs": [
    {
     "data": {
      "image/png": "[encoded data removed]",
      "text/plain": [
       "<Figure size 288x411.429 with 1 Axes>"
      ]
     },
     "metadata": {
      "needs_background": "light"
     },
     "output_type": "display_data"
    }
   ],
   "source": [
    "plt.matshow(yhat.to(\"cpu\").data[:10],cmap='bwr',vmin=-1,vmax=1)\n",
    "plt.xticks(range(7),labels=['!','?','h','i','e','l','o']);"
   ]
  },
  {
   "cell_type": "markdown",
   "id": "2576efd7-4947-4419-9f07-71ee0344f8ab",
   "metadata": {},
   "source": [
    "`(3)` `torch.nn.Module`을 상속받은 클래스를 정의하고 (2)의 결과와 동일한 적합값이 나오는 신경망을 설계한 뒤 학습하라. (초기값을 적절하게 설정할 것) \n",
    "\n",
    "- class를 이용하지 않으면 점수없음. \n",
    "- torch.nn.RNN(), torch.nn.RNNCell() 을 이용한 네트워크를 학습시킬시 점수 없음. (초기값을 셋팅하는 용도로는 torch.nn.RNN(), torch.nn.RNNCell()을 코드에 포함시키는 것이 가능) "
   ]
  },
  {
   "cell_type": "code",
   "execution_count": 89,
   "id": "7ff099ec-5338-4708-945b-febdc092111f",
   "metadata": {},
   "outputs": [],
   "source": [
    "class rNNCell(torch.nn.Module):\n",
    "    def __init__(self):\n",
    "        super().__init__()\n",
    "        self.i2h = torch.nn.Linear(7,8)\n",
    "        self.h2h = torch.nn.Linear(8,8) \n",
    "        self.tanh = torch.nn.Tanh()\n",
    "    def forward(self,xt,ht):\n",
    "        ht = self.tanh(self.i2h(xt)+self.h2h(ht))\n",
    "        return ht"
   ]
  },
  {
   "cell_type": "code",
   "execution_count": 90,
   "id": "3ac032be-78f4-48fc-8774-4aa0f70c3d66",
   "metadata": {},
   "outputs": [],
   "source": [
    "rnncell = rNNCell().to(\"cuda:0\")\n",
    "linr = torch.nn.Linear(8,7).to(\"cuda:0\")\n",
    "loss_fn = torch.nn.CrossEntropyLoss()\n",
    "optimizr = torch.optim.Adam(list(rnncell.parameters())+list(linr.parameters()),lr=0.1)"
   ]
  },
  {
   "cell_type": "code",
   "execution_count": 91,
   "id": "55410f58-d3b0-4d38-9367-00039ff6e577",
   "metadata": {},
   "outputs": [],
   "source": [
    "## 초기화의 설정을 위한 코드\n",
    "torch.manual_seed(43052)\n",
    "_rnncell = torch.nn.RNNCell(7,8).to(\"cuda:0\")\n",
    "_linr = torch.nn.Linear(8,7).to(\"cuda:0\")\n",
    "rnncell.i2h.weight.data = _rnncell.weight_ih.data \n",
    "rnncell.h2h.weight.data = _rnncell.weight_hh.data \n",
    "rnncell.h2h.bias.data = _rnncell.bias_hh.data\n",
    "rnncell.i2h.bias.data = _rnncell.bias_ih.data\n",
    "linr.weight.data = _linr.weight.data \n",
    "linr.bias.data = _linr.bias.data "
   ]
  },
  {
   "cell_type": "code",
   "execution_count": 92,
   "id": "a8cd3290-394c-4c93-957a-b8dbdc678dca",
   "metadata": {},
   "outputs": [],
   "source": [
    "for epoc in range(100):\n",
    "    ## 1\n",
    "    hidden = [] \n",
    "    ht = torch.zeros(8).to(\"cuda:0\")\n",
    "    for xt,yt in zip(x,y): \n",
    "        ht = rnncell(xt,ht)\n",
    "        # ot = linr(ht) \n",
    "        hidden.append(ht) \n",
    "    hidden = torch.stack(hidden)\n",
    "    output = linr(hidden) \n",
    "    ## 2 \n",
    "    loss = loss_fn(output,y)\n",
    "    ## 3 \n",
    "    loss.backward()\n",
    "    ## 4 \n",
    "    optimizr.step()\n",
    "    optimizr.zero_grad()"
   ]
  },
  {
   "cell_type": "code",
   "execution_count": 93,
   "id": "2074dfc6-32e2-4947-959d-0a53e8275d71",
   "metadata": {},
   "outputs": [
    {
     "data": {
      "text/plain": [
       "array([[0.   , 0.005, 0.008, 0.972, 0.014, 0.001, 0.   ],\n",
       "       [0.   , 0.997, 0.002, 0.   , 0.   , 0.001, 0.   ],\n",
       "       [0.   , 0.001, 0.999, 0.   , 0.001, 0.   , 0.   ],\n",
       "       [0.   , 0.   , 0.   , 0.   , 0.999, 0.   , 0.   ],\n",
       "       [0.   , 0.   , 0.   , 0.   , 0.   , 1.   , 0.   ],\n",
       "       [0.   , 0.001, 0.   , 0.   , 0.   , 0.999, 0.   ],\n",
       "       [0.   , 0.   , 0.   , 0.   , 0.   , 0.   , 1.   ],\n",
       "       [0.999, 0.   , 0.   , 0.   , 0.   , 0.   , 0.001],\n",
       "       [0.999, 0.   , 0.   , 0.   , 0.   , 0.   , 0.   ],\n",
       "       [0.   , 0.001, 0.998, 0.   , 0.   , 0.   , 0.   ]], dtype=float32)"
      ]
     },
     "execution_count": 93,
     "metadata": {},
     "output_type": "execute_result"
    }
   ],
   "source": [
    "yhat = soft(output)\n",
    "yhat[:10].to(\"cpu\").detach().numpy().round(3)"
   ]
  },
  {
   "cell_type": "code",
   "execution_count": 94,
   "id": "48a058ac-8250-4049-9bdb-b19b1e604b96",
   "metadata": {},
   "outputs": [
    {
     "data": {
      "image/png": "[encoded data removed]",
      "text/plain": [
       "<Figure size 288x411.429 with 1 Axes>"
      ]
     },
     "metadata": {
      "needs_background": "light"
     },
     "output_type": "display_data"
    }
   ],
   "source": [
    "plt.matshow(yhat.to(\"cpu\").data[:10],cmap='bwr',vmin=-1,vmax=1)\n",
    "plt.xticks(range(7),labels=['!','?','h','i','e','l','o']);"
   ]
  },
  {
   "cell_type": "markdown",
   "id": "1a922a09-5f2a-4bb3-910a-9d442ac876d4",
   "metadata": {},
   "source": [
    "`(4)` `torch.nn.LSTM()`을 이용하여 다음문자를 예측하는 신경망을 설계하고 학습하라. "
   ]
  },
  {
   "cell_type": "markdown",
   "id": "d66fe783-1a33-428a-aae6-a7719338d905",
   "metadata": {},
   "source": [
    "(풀이)"
   ]
  },
  {
   "cell_type": "code",
   "execution_count": 44,
   "id": "c986e43e-a855-4c17-a1a1-210a98e456d7",
   "metadata": {},
   "outputs": [
    {
     "data": {
      "image/png": "[encoded data removed]",
      "text/plain": [
       "<Figure size 288x411.429 with 1 Axes>"
      ]
     },
     "metadata": {
      "needs_background": "light"
     },
     "output_type": "display_data"
    }
   ],
   "source": [
    "lstm = torch.nn.LSTM(7,4).to(\"cuda:0\")\n",
    "linr = torch.nn.Linear(4,7).to(\"cuda:0\")\n",
    "loss_fn = torch.nn.CrossEntropyLoss()\n",
    "optimizr = torch.optim.Adam(list(lstm.parameters())+list(linr.parameters()),lr=0.1)\n",
    "_water = torch.zeros(1,4).to(\"cuda:0\")\n",
    "for epoc in range(500):\n",
    "    ## 1\n",
    "    hidden, (hT,cT) = lstm(x,(_water,_water))\n",
    "    output = linr(hidden)\n",
    "    ## 2\n",
    "    loss = loss_fn(output,y)\n",
    "    ## 3\n",
    "    loss.backward()\n",
    "    ## 4 \n",
    "    optimizr.step()\n",
    "    optimizr.zero_grad()\n",
    "yhat=soft(output)    \n",
    "plt.matshow(yhat.to(\"cpu\").data[:10],cmap='bwr',vmin=-1,vmax=1)\n",
    "plt.xticks(range(7),labels=['!','?','h','i','e','l','o']);"
   ]
  },
  {
   "cell_type": "markdown",
   "id": "688836c0-ee18-4e9e-8a8b-b48d0e62645b",
   "metadata": {},
   "source": [
    "`(5)` `torch.nn.LSTMCell()`을 이용하여 다음문자를 예측하는 신경망을 설계하고 학습하라. "
   ]
  },
  {
   "cell_type": "code",
   "execution_count": 95,
   "id": "118718b2-8223-4089-a39c-95ac69d96190",
   "metadata": {},
   "outputs": [],
   "source": [
    "torch.manual_seed(43052) \n",
    "lstmcell = torch.nn.LSTMCell(7,4).to(\"cuda:0\")\n",
    "linr = torch.nn.Linear(4,7).to(\"cuda:0\")\n",
    "loss_fn = torch.nn.CrossEntropyLoss()\n",
    "optimizr = torch.optim.Adam(list(lstmcell.parameters())+list(linr.parameters()),lr=0.1)"
   ]
  },
  {
   "cell_type": "code",
   "execution_count": 96,
   "id": "f10322b0-9712-42b8-9546-a8bc1c72957c",
   "metadata": {},
   "outputs": [],
   "source": [
    "for epoc in range(100):\n",
    "    ## 1\n",
    "    hidden = []\n",
    "    ht = torch.zeros(4).to(\"cuda:0\")\n",
    "    ct = torch.zeros(4).to(\"cuda:0\")\n",
    "    for xt,yt in zip(x,y): \n",
    "        ht,ct = lstmcell(xt,(ht,ct))\n",
    "        hidden.append(ht) \n",
    "    hidden = torch.stack(hidden)\n",
    "    output = linr(hidden)\n",
    "    ## 2 \n",
    "    loss = loss_fn(output,y)\n",
    "    ## 3 \n",
    "    loss.backward()\n",
    "    ## 4 \n",
    "    optimizr.step()\n",
    "    optimizr.zero_grad()"
   ]
  },
  {
   "cell_type": "code",
   "execution_count": 97,
   "id": "e33b83b6-c5a9-4e4b-9acd-baec897bfd69",
   "metadata": {},
   "outputs": [
    {
     "data": {
      "text/plain": [
       "array([[0.   , 0.014, 0.084, 0.081, 0.822, 0.   , 0.   ],\n",
       "       [0.002, 0.91 , 0.   , 0.083, 0.003, 0.   , 0.001],\n",
       "       [0.001, 0.   , 0.999, 0.   , 0.   , 0.   , 0.   ],\n",
       "       [0.   , 0.001, 0.005, 0.072, 0.917, 0.004, 0.   ],\n",
       "       [0.   , 0.   , 0.004, 0.   , 0.001, 0.995, 0.   ],\n",
       "       [0.   , 0.   , 0.   , 0.   , 0.   , 0.999, 0.001],\n",
       "       [0.   , 0.   , 0.   , 0.   , 0.   , 0.   , 0.999],\n",
       "       [0.998, 0.001, 0.   , 0.   , 0.   , 0.   , 0.   ],\n",
       "       [0.99 , 0.   , 0.006, 0.001, 0.   , 0.003, 0.   ],\n",
       "       [0.007, 0.   , 0.992, 0.   , 0.   , 0.001, 0.   ]], dtype=float32)"
      ]
     },
     "execution_count": 97,
     "metadata": {},
     "output_type": "execute_result"
    }
   ],
   "source": [
    "yhat = soft(output)\n",
    "yhat[:10].to(\"cpu\").detach().numpy().round(3)"
   ]
  },
  {
   "cell_type": "code",
   "execution_count": 98,
   "id": "040416c1-1a36-4158-b064-b0e37846d27f",
   "metadata": {},
   "outputs": [
    {
     "data": {
      "image/png": "[encoded data removed]",
      "text/plain": [
       "<Figure size 288x411.429 with 1 Axes>"
      ]
     },
     "metadata": {
      "needs_background": "light"
     },
     "output_type": "display_data"
    }
   ],
   "source": [
    "plt.matshow(yhat.to(\"cpu\").data[:10],cmap='bwr',vmin=-1,vmax=1)\n",
    "plt.xticks(range(7),labels=['!','?','h','i','e','l','o']);"
   ]
  },
  {
   "cell_type": "markdown",
   "id": "20b09f35-4000-427e-9a38-254cc72bf497",
   "metadata": {},
   "source": [
    "`(6)` (5)의 결과와 동일한 적합값을 출력하는 신경망을 직접설계한 뒤 학습시켜라. (초기값을 적절하게 설정할 것) \n",
    "\n",
    "- class를 이용하지 않아도 무방함. \n",
    "- torch.nn.LSTM(), torch.nn.LSTMCell() 을 이용한 네트워크를 학습시킬시 점수 없음. (초기값을 셋팅하는 용도로는 torch.nn.LSTM(), torch.nn.LSTMCell()을 코드에 포함시키는 것이 가능) "
   ]
  },
  {
   "cell_type": "code",
   "execution_count": 99,
   "id": "0cfbc8eb-22ff-4b4e-a883-896d12a7ec45",
   "metadata": {},
   "outputs": [],
   "source": [
    "class lSTMCell(torch.nn.Module):\n",
    "    def __init__(self):\n",
    "        super().__init__()\n",
    "        self.i2h = torch.nn.Linear(7,16)\n",
    "        self.h2h = torch.nn.Linear(4,16) \n",
    "        self.tanh = torch.nn.Tanh()\n",
    "    def forward(self,xt,past):\n",
    "        ht,ct = past \n",
    "        ifgo = self.i2h(xt) + self.h2h(ht) \n",
    "        it = sig(ifgo[0:4])\n",
    "        ft = sig(ifgo[4:8])\n",
    "        gt = tanh(ifgo[8:12])\n",
    "        ot = sig(ifgo[12:16])\n",
    "        ct = ft*ct + it*gt\n",
    "        ht = ot*self.tanh(ct) \n",
    "        return ht,ct"
   ]
  },
  {
   "cell_type": "code",
   "execution_count": 100,
   "id": "936787a4-1f57-4377-9098-7bfdfce77b35",
   "metadata": {},
   "outputs": [],
   "source": [
    "lstmcell = lSTMCell().to(\"cuda:0\")\n",
    "linr = torch.nn.Linear(4,7).to(\"cuda:0\")\n",
    "loss_fn = torch.nn.CrossEntropyLoss()\n",
    "optimizr = torch.optim.Adam(list(lstmcell.parameters())+list(linr.parameters()),lr=0.1)"
   ]
  },
  {
   "cell_type": "code",
   "execution_count": 101,
   "id": "4f3fc854-bd74-4be6-8ea2-5f1fdf50931d",
   "metadata": {},
   "outputs": [],
   "source": [
    "# 초기값셋팅\n",
    "torch.manual_seed(43052) \n",
    "_lstmcell = torch.nn.LSTMCell(7,4).to(\"cuda:0\")\n",
    "_linr = torch.nn.Linear(4,7).to(\"cuda:0\")\n",
    "lstmcell.i2h.weight.data = _lstmcell.weight_ih.data \n",
    "lstmcell.h2h.weight.data = _lstmcell.weight_hh.data \n",
    "lstmcell.i2h.bias.data = _lstmcell.bias_ih.data\n",
    "lstmcell.h2h.bias.data = _lstmcell.bias_hh.data\n",
    "linr.weight.data = _linr.weight.data \n",
    "linr.bias.data = _linr.bias.data "
   ]
  },
  {
   "cell_type": "code",
   "execution_count": 102,
   "id": "21f3580a-133c-4346-8781-6c14a249fe27",
   "metadata": {},
   "outputs": [],
   "source": [
    "for epoc in range(100):\n",
    "    ## 1\n",
    "    hidden = []     \n",
    "    ht = torch.zeros(4).to(\"cuda:0\")\n",
    "    ct = torch.zeros(4).to(\"cuda:0\")\n",
    "    for xt,yt in zip(x,y): \n",
    "        ht,ct = lstmcell(xt,(ht,ct))\n",
    "        hidden.append(ht) \n",
    "    hidden = torch.stack(hidden)\n",
    "    output = linr(hidden) \n",
    "    ## 2 \n",
    "    loss = loss_fn(output,y)\n",
    "    ## 3 \n",
    "    loss.backward()\n",
    "    ## 4 \n",
    "    optimizr.step()\n",
    "    optimizr.zero_grad()"
   ]
  },
  {
   "cell_type": "code",
   "execution_count": 103,
   "id": "cfcd1198-b580-4d22-9f2e-95e0ea6d5c89",
   "metadata": {},
   "outputs": [
    {
     "data": {
      "text/plain": [
       "array([[0.   , 0.014, 0.084, 0.081, 0.822, 0.   , 0.   ],\n",
       "       [0.002, 0.91 , 0.   , 0.083, 0.003, 0.   , 0.001],\n",
       "       [0.001, 0.   , 0.999, 0.   , 0.   , 0.   , 0.   ],\n",
       "       [0.   , 0.001, 0.005, 0.072, 0.917, 0.004, 0.   ],\n",
       "       [0.   , 0.   , 0.004, 0.   , 0.001, 0.995, 0.   ],\n",
       "       [0.   , 0.   , 0.   , 0.   , 0.   , 0.999, 0.001],\n",
       "       [0.   , 0.   , 0.   , 0.   , 0.   , 0.   , 0.999],\n",
       "       [0.998, 0.001, 0.   , 0.   , 0.   , 0.   , 0.   ],\n",
       "       [0.99 , 0.   , 0.006, 0.001, 0.   , 0.003, 0.   ],\n",
       "       [0.007, 0.   , 0.992, 0.   , 0.   , 0.001, 0.   ]], dtype=float32)"
      ]
     },
     "execution_count": 103,
     "metadata": {},
     "output_type": "execute_result"
    }
   ],
   "source": [
    "yhat = soft(output)\n",
    "yhat[:10].to(\"cpu\").detach().numpy().round(3)"
   ]
  },
  {
   "cell_type": "code",
   "execution_count": 104,
   "id": "6178e449-c96e-447d-827c-c60a2d4d0aee",
   "metadata": {},
   "outputs": [
    {
     "data": {
      "image/png": "[encoded data removed]",
      "text/plain": [
       "<Figure size 288x411.429 with 1 Axes>"
      ]
     },
     "metadata": {
      "needs_background": "light"
     },
     "output_type": "display_data"
    }
   ],
   "source": [
    "plt.matshow(yhat.to(\"cpu\").data[:10],cmap='bwr',vmin=-1,vmax=1)\n",
    "plt.xticks(range(7),labels=['!','?','h','i','e','l','o']);"
   ]
  },
  {
   "cell_type": "markdown",
   "id": "dd667a5c-087c-4413-a409-930fc5284b76",
   "metadata": {},
   "source": [
    "## `2`. 다음을 읽고 참 거짓을 판단하여라. (10점) "
   ]
  },
  {
   "cell_type": "markdown",
   "id": "37fd5c19-1d62-4a58-90c7-6d3a08d333aa",
   "metadata": {},
   "source": [
    "`(1)` RNN은 LSTM에 비하여 장기기억에 유리하다."
   ]
  },
  {
   "cell_type": "markdown",
   "id": "fb7b6c9e-261e-4836-ab6b-d702edde0213",
   "metadata": {},
   "source": [
    "참"
   ]
  },
  {
   "cell_type": "markdown",
   "id": "ee273a03-e299-4714-a801-5411dee7fb49",
   "metadata": {},
   "source": [
    "`(2)` `torch.nn.Embedding(num_embeddings=2,embedding_dim=1)`와 `torch.nn.Linear(in_features=1,out_features=1)`의 학습가능한 파라메터수는 같다."
   ]
  },
  {
   "cell_type": "markdown",
   "id": "8bd454f7-964e-4a87-9173-74384267af63",
   "metadata": {},
   "source": [
    "참"
   ]
  },
  {
   "cell_type": "markdown",
   "id": "2ae4ede6-e2f2-4f75-9af1-7f8b23d6cc32",
   "metadata": {},
   "source": [
    "`(3)`아래와 같은 네트워크를 고려하자."
   ]
  },
  {
   "cell_type": "markdown",
   "id": "0987032e-1f9f-48c6-9e6a-2d4079fce5df",
   "metadata": {},
   "source": [
    "```python\n",
    "net = torch.nn.Linear(1,1)\n",
    "```"
   ]
  },
  {
   "cell_type": "markdown",
   "id": "81cb344a-54e7-4683-95b1-0ba2fa8fa5a4",
   "metadata": {},
   "source": [
    "차원이 (n,1) 인 임의의 텐서에 대하여 net(x)와 net.forword(x)의 출력결과는 같다."
   ]
  },
  {
   "cell_type": "markdown",
   "id": "b23d1ee8-88ac-4e8f-9b3d-873a270abbda",
   "metadata": {},
   "source": [
    "참"
   ]
  },
  {
   "cell_type": "markdown",
   "id": "ae65d675-bebd-484a-a22a-8809c67e4504",
   "metadata": {},
   "source": [
    "`(4)` 아래와 같이 a,b,c,d 가 반복되는 문자열이 반복되는 자료에서 다음문자열을 맞추는 과업을 수행하기 위해서는 반드시 순환신경망의 형태로 설계해야만 한다"
   ]
  },
  {
   "cell_type": "markdown",
   "id": "ea606fc6-9508-4288-a210-82667a49309d",
   "metadata": {},
   "source": [
    "a,b,c,d,a,b,c,d,..."
   ]
  },
  {
   "cell_type": "markdown",
   "id": "a793245f-1256-4729-bd92-40ef9ed3f594",
   "metadata": {},
   "source": [
    "거짓"
   ]
  },
  {
   "cell_type": "markdown",
   "id": "b69d34e5-0d59-4fdd-a547-39c21f6d88bf",
   "metadata": {},
   "source": [
    "`(5)` RNN 혹은 LSTM 으로 신경망을 설계할 시 손실함수는 항상 torch.nn.CrossEntropyLoss 를 사용해야 한다."
   ]
  },
  {
   "cell_type": "markdown",
   "id": "8ba94897-a394-4fee-b871-1b421214dcd0",
   "metadata": {},
   "source": [
    "거짓"
   ]
  }
 ],
 "metadata": {
  "kernelspec": {
   "display_name": "Python 3",
   "language": "python",
   "name": "python3"
  },
  "language_info": {
   "codemirror_mode": {
    "name": "ipython",
    "version": 3
   },
   "file_extension": ".py",
   "mimetype": "text/x-python",
   "name": "python",
   "nbconvert_exporter": "python",
   "pygments_lexer": "ipython3",
   "version": "3.7.13"
  }
 },
 "nbformat": 4,
 "nbformat_minor": 5
}
