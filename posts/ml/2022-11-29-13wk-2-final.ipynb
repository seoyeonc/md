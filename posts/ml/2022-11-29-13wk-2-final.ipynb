{
 "cells": [
  {
   "cell_type": "raw",
   "id": "53fa8846-5b53-4db0-b797-4616a4714518",
   "metadata": {},
   "source": [
    "---\n",
    "title: \"Deep Learning final example\"\n",
    "author: \"SEOYEON CHOI\"\n",
    "date: \"11/29/2022\"\n",
    "---"
   ]
  },
  {
   "cell_type": "markdown",
   "id": "6af1e16f-c841-40df-92a5-23928614cb21",
   "metadata": {},
   "source": [
    "> 기말고사"
   ]
  },
  {
   "cell_type": "code",
   "execution_count": 26,
   "id": "8896a7ce-2d1c-4798-8d16-6a4c5a4882b9",
   "metadata": {},
   "outputs": [],
   "source": [
    "import torch \n",
    "import matplotlib.pyplot as plt"
   ]
  },
  {
   "cell_type": "markdown",
   "id": "ff217136-e9c1-4e32-8f30-01a0b6927083",
   "metadata": {},
   "source": [
    "## `1`. hi?hello!! (90점)"
   ]
  },
  {
   "cell_type": "markdown",
   "id": "4018c918-f94e-44be-a9f0-4955900150cf",
   "metadata": {},
   "source": [
    "아래와 같은 데이터가 있다고 하자. "
   ]
  },
  {
   "cell_type": "code",
   "execution_count": 27,
   "id": "beefd4c6-44c1-475d-9011-3b42897ae220",
   "metadata": {},
   "outputs": [],
   "source": [
    "txt = list('hi?hello!!')*100 \n",
    "txt_x = txt[:-1]\n",
    "txt_y = txt[1:]"
   ]
  },
  {
   "cell_type": "code",
   "execution_count": 28,
   "id": "4ebe6ce7-b51f-4061-8737-e6d38e5cbc37",
   "metadata": {},
   "outputs": [
    {
     "data": {
      "text/plain": [
       "(['h', 'i', '?', 'h', 'e'], ['i', '?', 'h', 'e', 'l'])"
      ]
     },
     "execution_count": 28,
     "metadata": {},
     "output_type": "execute_result"
    }
   ],
   "source": [
    "txt_x[:5], txt_y[:5]"
   ]
  },
  {
   "cell_type": "markdown",
   "id": "b6d8cdaa-8c8c-4218-9097-70c4b5182da1",
   "metadata": {},
   "source": [
    "`txt_x`와 `txt_y`를 이용하여 아래와 같은 순서로 다음문자를 예측하고 싶은 신경망을 설계하고 싶다."
   ]
  },
  {
   "cell_type": "markdown",
   "id": "6ebd3ab0-ecf3-46c9-96cc-ddeadc156575",
   "metadata": {},
   "source": [
    "`h` $\\to$ `i` $\\to$ `?` $\\to$ `h` $\\to$ `e` $\\to$ `l` $\\to$ `l` $\\to$ `o` $\\to$ `!` $\\to$ `!` $\\to$ `h` $\\to$ `i` $\\to$ `?` $\\to$ `h` $\\to$ `e` $\\to$ $\\dots$"
   ]
  },
  {
   "cell_type": "markdown",
   "id": "3cac177f-e6c8-40a0-b322-73770472c520",
   "metadata": {},
   "source": [
    "***(1)-(6)*** 의 풀이에 공통적으로 필요한 과정 정리 "
   ]
  },
  {
   "cell_type": "code",
   "execution_count": 29,
   "id": "fc2bc385-c323-49a8-833a-ec2abaaeb56a",
   "metadata": {},
   "outputs": [],
   "source": [
    "def f(txt,mapping):\n",
    "    return [mapping[key] for key in txt] \n",
    "sig = torch.nn.Sigmoid()\n",
    "soft = torch.nn.Softmax(dim=1)\n",
    "tanh = torch.nn.Tanh()\n",
    "mapping = {'!':0, '?':1,'h':2,'i':3,'e':4,'l':5,'o':6} \n",
    "x= torch.nn.functional.one_hot(torch.tensor(f(txt_x,mapping))).float().to(\"cuda:0\")\n",
    "y= torch.nn.functional.one_hot(torch.tensor(f(txt_y,mapping))).float().to(\"cuda:0\")"
   ]
  },
  {
   "cell_type": "markdown",
   "id": "4d049e5d-496e-4649-a226-3653cd729c4d",
   "metadata": {},
   "source": [
    "`(1)` `torch.nn.RNN()`을 이용하여 다음문자를 예측하는 신경망을 설계하고 학습하라. "
   ]
  },
  {
   "cell_type": "markdown",
   "id": "1b5fbf5a-d091-4ba3-a72e-2d92a64372b4",
   "metadata": {},
   "source": [
    "(풀이)"
   ]
  },
  {
   "cell_type": "code",
   "execution_count": 30,
   "id": "6faa79b2-7c25-4244-9dd5-15b7bf71547c",
   "metadata": {},
   "outputs": [
    {
     "data": {
      "image/png": "[encoded data removed]",
      "text/plain": [
       "<Figure size 288x411.429 with 1 Axes>"
      ]
     },
     "metadata": {
      "needs_background": "light"
     },
     "output_type": "display_data"
    }
   ],
   "source": [
    "rnn = torch.nn.RNN(7,8).to(\"cuda:0\")\n",
    "linr = torch.nn.Linear(8,7).to(\"cuda:0\")\n",
    "loss_fn = torch.nn.CrossEntropyLoss()\n",
    "optimizr = torch.optim.Adam(list(rnn.parameters())+list(linr.parameters()),lr=0.1)\n",
    "_water = torch.zeros(1,8).to(\"cuda:0\")\n",
    "for epoc in range(500):\n",
    "    ## 1\n",
    "    hidden, hT = rnn(x)\n",
    "    output = linr(hidden)\n",
    "    ## 2\n",
    "    loss = loss_fn(output,y)\n",
    "    ## 3\n",
    "    loss.backward()\n",
    "    ## 4 \n",
    "    optimizr.step()\n",
    "    optimizr.zero_grad()\n",
    "yhat=soft(output)    \n",
    "plt.matshow(yhat.to(\"cpu\").data[:10],cmap='bwr',vmin=-1,vmax=1)\n",
    "plt.xticks(range(7),labels=['!','?','h','i','e','l','o']);"
   ]
  },
  {
   "cell_type": "markdown",
   "id": "1b49f986-6bc0-4fa6-80cd-cc4730e3effe",
   "metadata": {},
   "source": [
    "`(2)` `torch.nn.RNNCell()`을 이용하여 다음문자를 예측하는 신경망을 설계하고 학습하라. "
   ]
  },
  {
   "cell_type": "code",
   "execution_count": 31,
   "id": "9e515aec-70c8-4072-ba15-f8b946650cce",
   "metadata": {},
   "outputs": [],
   "source": [
    "torch.manual_seed(12345)\n",
    "rnn = torch.nn.RNNCell(7,8).to(\"cuda:0\")"
   ]
  },
  {
   "cell_type": "code",
   "execution_count": 32,
   "id": "5428f780-f2cd-44de-b719-014b2c94dbb8",
   "metadata": {},
   "outputs": [],
   "source": [
    "torch.manual_seed(12345)\n",
    "lnr = torch.nn.Linear(8,7).to(\"cuda:0\")"
   ]
  },
  {
   "cell_type": "code",
   "execution_count": 33,
   "id": "702fed39-3170-45de-9cf4-ea54b8b1d284",
   "metadata": {},
   "outputs": [],
   "source": [
    "loss_fn = torch.nn.CrossEntropyLoss() \n",
    "optimizr = torch.optim.Adam(list(rnn.parameters())+list(lnr.parameters()))"
   ]
  },
  {
   "cell_type": "code",
   "execution_count": 34,
   "id": "eb8e7388-28dc-431e-a364-8b98d893561b",
   "metadata": {},
   "outputs": [],
   "source": [
    "T = len(x) \n",
    "for epoc in range(10): \n",
    "    ## 1~2\n",
    "    loss = 0 \n",
    "    ht = torch.zeros(1,8).to(\"cuda:0\")\n",
    "    for t in range(T):\n",
    "        xt,yt = x[[t]], y[[t]]\n",
    "        ht = rnn(xt,ht) \n",
    "        ot = lnr(ht) \n",
    "        loss = loss + loss_fn(ot,yt) \n",
    "    ## 3 \n",
    "    loss.backward()\n",
    "    ## 4 \n",
    "    optimizr.step()\n",
    "    optimizr.zero_grad()"
   ]
  },
  {
   "cell_type": "code",
   "execution_count": 35,
   "id": "e19055e9-1fff-4e38-b06a-97de8a566129",
   "metadata": {},
   "outputs": [
    {
     "data": {
      "text/plain": [
       "tensor([[0.1380, 0.1367, 0.1922, 0.1178, 0.1529, 0.1191, 0.1433]],\n",
       "       device='cuda:0', grad_fn=<SoftmaxBackward0>)"
      ]
     },
     "execution_count": 35,
     "metadata": {},
     "output_type": "execute_result"
    }
   ],
   "source": [
    "yhat2 = soft(lnr(ht))\n",
    "yhat2"
   ]
  },
  {
   "cell_type": "markdown",
   "id": "2576efd7-4947-4419-9f07-71ee0344f8ab",
   "metadata": {},
   "source": [
    "`(3)` `torch.nn.Module`을 상속받은 클래스를 정의하고 (2)의 결과와 동일한 적합값이 나오는 신경망을 설계한 뒤 학습하라. (초기값을 적절하게 설정할 것) \n",
    "\n",
    "- class를 이용하지 않으면 점수없음. \n",
    "- torch.nn.RNN(), torch.nn.RNNCell() 을 이용한 네트워크를 학습시킬시 점수 없음. (초기값을 셋팅하는 용도로는 torch.nn.RNN(), torch.nn.RNNCell()을 코드에 포함시키는 것이 가능) "
   ]
  },
  {
   "cell_type": "code",
   "execution_count": 36,
   "id": "23969a20-170b-4847-9dec-20e513851f38",
   "metadata": {},
   "outputs": [],
   "source": [
    "torch.manual_seed(12345)\n",
    "rnn2 = torch.nn.RNNCell(7,8).to(\"cuda:0\")"
   ]
  },
  {
   "cell_type": "code",
   "execution_count": 37,
   "id": "9da2babc-ba75-464f-9d3b-24c91d60a0c7",
   "metadata": {},
   "outputs": [],
   "source": [
    "class rNN3(torch.nn.Module):\n",
    "    def __init__(self):\n",
    "        super().__init__()\n",
    "        self.i2h = torch.nn.Linear(7,8).to(\"cuda:0\")\n",
    "        self.h2h = torch.nn.Linear(8,7).to(\"cuda:0\")\n",
    "        self.tanh = torch.nn.Tanh().to(\"cuda:0\")\n",
    "    def forward(self,x,hidden):\n",
    "        hidden = self.tanh(self.i2h(x)+self.h2h(hidden)).to(\"cuda:0\")\n",
    "        return hidden"
   ]
  },
  {
   "cell_type": "code",
   "execution_count": 38,
   "id": "19ec35b1-3852-4b19-ba2c-7d3dcc3244f0",
   "metadata": {},
   "outputs": [],
   "source": [
    "torch.manual_seed(12345)\n",
    "_rnn2 = rNN3()"
   ]
  },
  {
   "cell_type": "code",
   "execution_count": 39,
   "id": "7cb75000-cd9a-48f7-b232-c54badfb2ca3",
   "metadata": {},
   "outputs": [],
   "source": [
    "_rnn2.i2h.weight.data =rnn2.weight_ih.data\n",
    "_rnn2.h2h.weight.data = rnn2.weight_hh.data\n",
    "_rnn2.h2h.bias.data  = rnn2.bias_hh.data\n",
    "_rnn2.i2h.bias.data  = rnn2.bias_ih.data"
   ]
  },
  {
   "cell_type": "code",
   "execution_count": 40,
   "id": "3d207690-38b4-48fe-adf4-153e7c14942b",
   "metadata": {},
   "outputs": [],
   "source": [
    "torch.manual_seed(12345)\n",
    "lnr = torch.nn.Linear(8,7).to(\"cuda:0\")"
   ]
  },
  {
   "cell_type": "code",
   "execution_count": 41,
   "id": "0c169a1f-b107-4d00-ba63-ba29a90d80d8",
   "metadata": {},
   "outputs": [],
   "source": [
    "loss_fn = torch.nn.CrossEntropyLoss() \n",
    "optimizr = torch.optim.Adam(list(rnn2.parameters())+list(lnr.parameters()))"
   ]
  },
  {
   "cell_type": "code",
   "execution_count": 42,
   "id": "e3ff9c42-9423-43e4-9aa5-26dd878fcc77",
   "metadata": {},
   "outputs": [],
   "source": [
    "T = len(x) \n",
    "for epoc in range(10): \n",
    "    ## 1~2\n",
    "    loss = 0 \n",
    "    ht = torch.zeros(1,8).to(\"cuda:0\")\n",
    "    for t in range(T):\n",
    "        xt,yt = x[[t]], y[[t]]\n",
    "        ht = _rnn2(xt,ht) \n",
    "        ot = lnr(ht) \n",
    "        loss = loss + loss_fn(ot,yt) \n",
    "    ## 3 \n",
    "    loss.backward()\n",
    "    ## 4 \n",
    "    optimizr.step()\n",
    "    optimizr.zero_grad()"
   ]
  },
  {
   "cell_type": "code",
   "execution_count": 43,
   "id": "7917bba5-c52e-452a-bbc0-6175fd68e2f5",
   "metadata": {},
   "outputs": [
    {
     "data": {
      "text/plain": [
       "tensor([[0.1274, 0.1450, 0.1890, 0.1201, 0.1599, 0.1185, 0.1400]],\n",
       "       device='cuda:0', grad_fn=<SoftmaxBackward0>)"
      ]
     },
     "execution_count": 43,
     "metadata": {},
     "output_type": "execute_result"
    }
   ],
   "source": [
    "yhat3 = soft(lnr(ht))\n",
    "yhat3"
   ]
  },
  {
   "cell_type": "markdown",
   "id": "1a922a09-5f2a-4bb3-910a-9d442ac876d4",
   "metadata": {},
   "source": [
    "`(4)` `torch.nn.LSTM()`을 이용하여 다음문자를 예측하는 신경망을 설계하고 학습하라. "
   ]
  },
  {
   "cell_type": "markdown",
   "id": "d66fe783-1a33-428a-aae6-a7719338d905",
   "metadata": {},
   "source": [
    "(풀이)"
   ]
  },
  {
   "cell_type": "code",
   "execution_count": 44,
   "id": "c986e43e-a855-4c17-a1a1-210a98e456d7",
   "metadata": {},
   "outputs": [
    {
     "data": {
      "image/png": "[encoded data removed]",
      "text/plain": [
       "<Figure size 288x411.429 with 1 Axes>"
      ]
     },
     "metadata": {
      "needs_background": "light"
     },
     "output_type": "display_data"
    }
   ],
   "source": [
    "lstm = torch.nn.LSTM(7,4).to(\"cuda:0\")\n",
    "linr = torch.nn.Linear(4,7).to(\"cuda:0\")\n",
    "loss_fn = torch.nn.CrossEntropyLoss()\n",
    "optimizr = torch.optim.Adam(list(lstm.parameters())+list(linr.parameters()),lr=0.1)\n",
    "_water = torch.zeros(1,4).to(\"cuda:0\")\n",
    "for epoc in range(500):\n",
    "    ## 1\n",
    "    hidden, (hT,cT) = lstm(x,(_water,_water))\n",
    "    output = linr(hidden)\n",
    "    ## 2\n",
    "    loss = loss_fn(output,y)\n",
    "    ## 3\n",
    "    loss.backward()\n",
    "    ## 4 \n",
    "    optimizr.step()\n",
    "    optimizr.zero_grad()\n",
    "yhat=soft(output)    \n",
    "plt.matshow(yhat.to(\"cpu\").data[:10],cmap='bwr',vmin=-1,vmax=1)\n",
    "plt.xticks(range(7),labels=['!','?','h','i','e','l','o']);"
   ]
  },
  {
   "cell_type": "markdown",
   "id": "688836c0-ee18-4e9e-8a8b-b48d0e62645b",
   "metadata": {},
   "source": [
    "`(5)` `torch.nn.LSTMCell()`을 이용하여 다음문자를 예측하는 신경망을 설계하고 학습하라. "
   ]
  },
  {
   "cell_type": "code",
   "execution_count": 45,
   "id": "048111a8-10be-4c59-8e45-f6663d87d0a0",
   "metadata": {},
   "outputs": [],
   "source": [
    "torch.manual_seed(12345) \n",
    "lstm_cell = torch.nn.LSTMCell(7,4) .to(\"cuda:0\")\n",
    "linr = torch.nn.Linear(4,7).to(\"cuda:0\")\n",
    "loss_fn = torch.nn.CrossEntropyLoss() \n",
    "optimizr = torch.optim.Adam(list(lstm_cell.parameters())+list(linr.parameters()),lr=0.1)"
   ]
  },
  {
   "cell_type": "code",
   "execution_count": 46,
   "id": "13fe7f41-7678-4d1c-b347-b9b445522212",
   "metadata": {},
   "outputs": [],
   "source": [
    "T = len(x) \n",
    "for epoc in range(10):\n",
    "    ht = torch.zeros(1,4).to(\"cuda:0\")\n",
    "    ct = torch.zeros(1,4).to(\"cuda:0\")\n",
    "    loss = 0 \n",
    "    ## 1~2\n",
    "    for t in range(T):\n",
    "        xt,yt = x[[t]], y[[t]]\n",
    "        ht,ct = lstm_cell(xt,(ht,ct))\n",
    "        ot = linr(ht) \n",
    "        loss = loss + loss_fn(ot,yt)\n",
    "    loss = loss / T\n",
    "    ## 3 \n",
    "    loss.backward()\n",
    "    ## 4 \n",
    "    optimizr.step()\n",
    "    optimizr.zero_grad()"
   ]
  },
  {
   "cell_type": "code",
   "execution_count": 47,
   "id": "279b7f62-8678-435b-9a75-d2c033196526",
   "metadata": {},
   "outputs": [
    {
     "data": {
      "text/plain": [
       "(tensor([[-0.0680,  0.5261, -0.2500, -0.0639]], device='cuda:0',\n",
       "        grad_fn=<ThnnFusedLstmCellBackward0>),\n",
       " tensor([[-0.3395,  0.8505, -0.3683, -0.3044]], device='cuda:0',\n",
       "        grad_fn=<ThnnFusedLstmCellBackward0>))"
      ]
     },
     "execution_count": 47,
     "metadata": {},
     "output_type": "execute_result"
    }
   ],
   "source": [
    "ht,ct "
   ]
  },
  {
   "cell_type": "markdown",
   "id": "20b09f35-4000-427e-9a38-254cc72bf497",
   "metadata": {},
   "source": [
    "`(6)` (5)의 결과와 동일한 적합값을 출력하는 신경망을 직접설계한 뒤 학습시켜라. (초기값을 적절하게 설정할 것) \n",
    "\n",
    "- class를 이용하지 않아도 무방함. \n",
    "- torch.nn.LSTM(), torch.nn.LSTMCell() 을 이용한 네트워크를 학습시킬시 점수 없음. (초기값을 셋팅하는 용도로는 torch.nn.LSTM(), torch.nn.LSTMCell()을 코드에 포함시키는 것이 가능) "
   ]
  },
  {
   "cell_type": "code",
   "execution_count": 48,
   "id": "f1e241fc-ed59-4dff-a8f0-4e3c533950ca",
   "metadata": {},
   "outputs": [],
   "source": [
    "lstm2 = torch.nn.LSTM(4,7).to(\"cuda:0\")"
   ]
  },
  {
   "cell_type": "code",
   "execution_count": 49,
   "id": "b96f6123-2b92-45db-9343-61738ccf07e6",
   "metadata": {},
   "outputs": [],
   "source": [
    "class lSTM(torch.nn.Module):\n",
    "    def __init__(self):\n",
    "        super().__init__()\n",
    "        ht = torch.zeros(1,7).to(\"cuda:0\")\n",
    "        ct = torch.zeros(1,7).to(\"cuda:0\")\n",
    "           \n",
    "        self.i2h = torch.nn.Linear(7,8).to(\"cuda:0\")\n",
    "        self.h2h = torch.nn.Linear(8,7).to(\"cuda:0\")\n",
    "        self.tanh = torch.nn.Tanh().to(\"cuda:0\")\n",
    "        self.sig = torch.nn.Sigmoid().to(\"cuda:0\")\n",
    "        \n",
    "    def forward(self,x, hidden):\n",
    "        self._ifgo = x @ self.i2h(x) + hidden @ self.h2h(hidden)\n",
    "        self.input_gate = self.sig(self._ifgo[:,0:2])\n",
    "        self.forget_gate = self.sig(self._ifgo[:,2:4])\n",
    "        self.gt = self.tanh(self._ifgo[:,4:6])\n",
    "        self.output_gate = self.sig(self._ifgo[:,6:8])\n",
    "        ct = self.forget_gate * ct + self.input_gate * gt\n",
    "        ht = self.output_gate * self.tanh(ct)\n",
    "             \n",
    "        hidden = self.tanh(self.i2h(x)+self.h2h(hidden)).to(\"cuda:0\")\n",
    "        return hidden"
   ]
  },
  {
   "cell_type": "code",
   "execution_count": 50,
   "id": "0bbcb9ee-78df-498a-975a-3f75f9fb4e7f",
   "metadata": {},
   "outputs": [],
   "source": [
    "torch.manual_seed(12345)\n",
    "_lstm2 = lSTM()"
   ]
  },
  {
   "cell_type": "code",
   "execution_count": null,
   "id": "2b8f9dd2-3e65-4d23-8d04-6d7858471f6d",
   "metadata": {},
   "outputs": [],
   "source": [
    "_lstm2.weight_hh.data  = lstm2.weight_hh_l0.data\n",
    "_lstm2.bias_hh.data = lstm2.bias_hh_l0.data\n",
    "_lstm2.weight_ih.data  = lstm2.weight_ih_l0.data\n",
    "_lstm2.bias_ih.data  = lstm2.bias_ih_l0.data"
   ]
  },
  {
   "cell_type": "code",
   "execution_count": null,
   "id": "1911259c-0fce-477c-ba20-8fb191ccb3c6",
   "metadata": {},
   "outputs": [],
   "source": [
    "torch.manual_seed(12345)\n",
    "lnr = torch.nn.Linear(7,4).to(\"cuda:0\")"
   ]
  },
  {
   "cell_type": "code",
   "execution_count": null,
   "id": "b961bb79-2525-4d78-84ca-0d50d4e8ef43",
   "metadata": {},
   "outputs": [],
   "source": [
    "loss_fn = torch.nn.CrossEntropyLoss()\n",
    "optimizr = torch.optim.Adam(list(lstm2.parameters()) + list(linr.parameters()), lr=0.1) "
   ]
  },
  {
   "cell_type": "code",
   "execution_count": null,
   "id": "5a86396e-e1ee-4c95-a3af-9475a20a659b",
   "metadata": {},
   "outputs": [],
   "source": [
    "_water = torch.zeros(4,7).to(\"cuda:0\")\n",
    "for epoc in range(1000): \n",
    "    ## step1 \n",
    "    hidden, (ht,ct) = lstm(x,(_water,_water))\n",
    "    output = linr(hidden)\n",
    "    ## step2\n",
    "    loss = loss_fn(output,y) \n",
    "    ## step3\n",
    "    loss.backward()\n",
    "    ## step4 \n",
    "    optimizr.step()\n",
    "    optimizr.zero_grad() "
   ]
  },
  {
   "cell_type": "code",
   "execution_count": null,
   "id": "701809bc-5401-4a0c-b565-efc5a92b0d1d",
   "metadata": {},
   "outputs": [],
   "source": [
    "ht,ct"
   ]
  },
  {
   "cell_type": "markdown",
   "id": "dd667a5c-087c-4413-a409-930fc5284b76",
   "metadata": {},
   "source": [
    "## `2`. 다음을 읽고 참 거짓을 판단하여라. (10점) "
   ]
  },
  {
   "cell_type": "markdown",
   "id": "37fd5c19-1d62-4a58-90c7-6d3a08d333aa",
   "metadata": {},
   "source": [
    "`(1)` RNN은 LSTM에 비하여 장기기억에 유리하다."
   ]
  },
  {
   "cell_type": "markdown",
   "id": "fb7b6c9e-261e-4836-ab6b-d702edde0213",
   "metadata": {},
   "source": [
    "참"
   ]
  },
  {
   "cell_type": "markdown",
   "id": "ee273a03-e299-4714-a801-5411dee7fb49",
   "metadata": {},
   "source": [
    "`(2)` `torch.nn.Embedding(num_embeddings=2,embedding_dim=1)`와 `torch.nn.Linear(in_features=1,out_features=1)`의 학습가능한 파라메터수는 같다."
   ]
  },
  {
   "cell_type": "markdown",
   "id": "8bd454f7-964e-4a87-9173-74384267af63",
   "metadata": {},
   "source": [
    "거짓"
   ]
  },
  {
   "cell_type": "markdown",
   "id": "2ae4ede6-e2f2-4f75-9af1-7f8b23d6cc32",
   "metadata": {},
   "source": [
    "`(3)`아래와 같은 네트워크를 고려하자."
   ]
  },
  {
   "cell_type": "markdown",
   "id": "0987032e-1f9f-48c6-9e6a-2d4079fce5df",
   "metadata": {},
   "source": [
    "```python\n",
    "net = torch.nn.Linear(1,1)\n",
    "```"
   ]
  },
  {
   "cell_type": "markdown",
   "id": "81cb344a-54e7-4683-95b1-0ba2fa8fa5a4",
   "metadata": {},
   "source": [
    "차원이 (n,1) 인 임의의 텐서에 대하여 net(x)와 net.forword(x)의 출력결과는 같다."
   ]
  },
  {
   "cell_type": "markdown",
   "id": "b23d1ee8-88ac-4e8f-9b3d-873a270abbda",
   "metadata": {},
   "source": [
    "참"
   ]
  },
  {
   "cell_type": "markdown",
   "id": "ae65d675-bebd-484a-a22a-8809c67e4504",
   "metadata": {},
   "source": [
    "`(4)` 아래와 같이 a,b,c,d 가 반복되는 문자열이 반복되는 자료에서 다음문자열을 맞추는 과업을 수행하기 위해서는 반드시 순환신경망의 형태로 설계해야만 한다."
   ]
  },
  {
   "cell_type": "markdown",
   "id": "ea606fc6-9508-4288-a210-82667a49309d",
   "metadata": {},
   "source": [
    "a,b,c,d,a,b,c,d,..."
   ]
  },
  {
   "cell_type": "markdown",
   "id": "a793245f-1256-4729-bd92-40ef9ed3f594",
   "metadata": {},
   "source": [
    "거짓"
   ]
  },
  {
   "cell_type": "markdown",
   "id": "b69d34e5-0d59-4fdd-a547-39c21f6d88bf",
   "metadata": {},
   "source": [
    "`(5)` RNN 혹은 LSTM 으로 신경망을 설계할 시 손실함수는 항상 torch.nn.CrossEntropyLoss 를 사용해야 한다."
   ]
  },
  {
   "cell_type": "markdown",
   "id": "8ba94897-a394-4fee-b871-1b421214dcd0",
   "metadata": {},
   "source": [
    "거짓"
   ]
  }
 ],
 "metadata": {
  "kernelspec": {
   "display_name": "Python 3 (ipykernel)",
   "language": "python",
   "name": "python3"
  },
  "language_info": {
   "codemirror_mode": {
    "name": "ipython",
    "version": 3
   },
   "file_extension": ".py",
   "mimetype": "text/x-python",
   "name": "python",
   "nbconvert_exporter": "python",
   "pygments_lexer": "ipython3",
   "version": "3.8.12"
  }
 },
 "nbformat": 4,
 "nbformat_minor": 5
}
