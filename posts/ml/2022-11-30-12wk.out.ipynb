{
  "cells": [
    {
      "cell_type": "markdown",
      "metadata": {},
      "source": [
        "# RNN (12주차)\n",
        "\n",
        "SEOYEON CHOI  \n",
        "2022-11-30\n",
        "\n",
        "> 순환신경망 minor topics\n",
        "\n",
        "# imports"
      ],
      "id": "adcabfcd-5de9-43cf-aeaf-fe2284ec11af"
    },
    {
      "cell_type": "code",
      "execution_count": 76,
      "metadata": {},
      "outputs": [],
      "source": [
        "import torch\n",
        "import pandas as pd\n",
        "import matplotlib.pyplot as plt \n",
        "from fastai.text.all import *\n",
        "import pytorch_lightning as pl "
      ],
      "id": "9969a523-ecdb-4c98-b350-ddb7eaa59275"
    },
    {
      "cell_type": "markdown",
      "metadata": {},
      "source": [
        "# Define some funtions"
      ],
      "id": "39d32704-c255-480d-b34b-edf0f29f2324"
    },
    {
      "cell_type": "code",
      "execution_count": 77,
      "metadata": {},
      "outputs": [],
      "source": [
        "def f(txt,mapping):\n",
        "    return [mapping[key] for key in txt] \n",
        "sig = torch.nn.Sigmoid()\n",
        "soft = torch.nn.Softmax(dim=1)\n",
        "tanh = torch.nn.Tanh()"
      ],
      "id": "4119bcda-f466-40ea-bfec-4dda98f067a5"
    },
    {
      "cell_type": "markdown",
      "metadata": {},
      "source": [
        "# 순환신경망 표현력 비교실험 (1)\n",
        "\n",
        "## data: abcabC"
      ],
      "id": "fb4d8850-50ce-45f5-94b7-e714621b7afa"
    },
    {
      "cell_type": "code",
      "execution_count": 78,
      "metadata": {},
      "outputs": [],
      "source": [
        "txt = list('abcabC')*100\n",
        "txt[:8]\n",
        "txt_x = txt[:-1] \n",
        "txt_y = txt[1:]"
      ],
      "id": "89e22504-8cb9-4d99-84a0-2403d5f8bf45"
    },
    {
      "cell_type": "code",
      "execution_count": 79,
      "metadata": {},
      "outputs": [],
      "source": [
        "mapping = {'a':0,'b':1,'c':2,'C':3} \n",
        "x= torch.nn.functional.one_hot(torch.tensor(f(txt_x,mapping))).float()\n",
        "y= torch.nn.functional.one_hot(torch.tensor(f(txt_y,mapping))).float()"
      ],
      "id": "8ec07eed-9ee0-4f5d-b82c-d3b1f221cc6d"
    },
    {
      "cell_type": "code",
      "execution_count": 80,
      "metadata": {},
      "outputs": [],
      "source": [
        "x = x.to(\"cuda:0\")\n",
        "y = y.to(\"cuda:0\") "
      ],
      "id": "6f37b080-7950-4a8c-9337-91a55a2fbcc2"
    },
    {
      "cell_type": "code",
      "execution_count": 81,
      "metadata": {},
      "outputs": [
        {
          "output_type": "display_data",
          "metadata": {},
          "data": {
            "text/plain": [
              "torch.Size([599, 4])"
            ]
          }
        }
      ],
      "source": [
        "x.shape"
      ],
      "id": "5f86ca66-c7d4-427c-9ee8-c777cde934f3"
    },
    {
      "cell_type": "markdown",
      "metadata": {},
      "source": [
        "## 실험\n",
        "\n",
        "`-` 실험1"
      ],
      "id": "f91571a3-79d0-4e09-b790-aa98b08958a6"
    },
    {
      "cell_type": "code",
      "execution_count": 82,
      "metadata": {},
      "outputs": [],
      "source": [
        "HIDDEN = 3"
      ],
      "id": "6484537f-a7be-4fa7-8022-a539fb36ffb4"
    },
    {
      "cell_type": "code",
      "execution_count": 83,
      "metadata": {},
      "outputs": [
        {
          "output_type": "display_data",
          "metadata": {},
          "data": {
            "image/png": "[encoded data removed]"
          }
        }
      ],
      "source": [
        "fig, ax = plt.subplots(5,5,figsize=(10,10))\n",
        "for i in range(5):\n",
        "    for j in range(5):\n",
        "        rnn = torch.nn.RNN(4,HIDDEN).to(\"cuda:0\")\n",
        "        linr = torch.nn.Linear(HIDDEN,4).to(\"cuda:0\")\n",
        "        loss_fn = torch.nn.CrossEntropyLoss()\n",
        "        optimizr = torch.optim.Adam(list(rnn.parameters())+list(linr.parameters()),lr=0.1)\n",
        "        _water = torch.zeros(1,HIDDEN).to(\"cuda:0\")\n",
        "        for epoc in range(500):\n",
        "            ## 1\n",
        "            hidden, hT = rnn(x,_water)\n",
        "            output = linr(hidden)\n",
        "            ## 2\n",
        "            loss = loss_fn(output,y)\n",
        "            ## 3\n",
        "            loss.backward()\n",
        "            ## 4 \n",
        "            optimizr.step()\n",
        "            optimizr.zero_grad()\n",
        "        yhat=soft(output)    \n",
        "        combind = torch.concat([hidden,yhat],axis=1)\n",
        "        ax[i][j].matshow(combind.to(\"cpu\").data[-6:],cmap='bwr',vmin=-1,vmax=1)\n",
        "fig.suptitle(\"experiment1: RNN with {} hidden nodes\".format(HIDDEN),size=20)\n",
        "fig.tight_layout()"
      ],
      "id": "03515c3e-e7c9-4d3c-98ab-7ef38705d054"
    },
    {
      "cell_type": "markdown",
      "metadata": {},
      "source": [
        "`-` 실험2"
      ],
      "id": "7fa4785b-e12b-4e34-98db-563a148660f8"
    },
    {
      "cell_type": "code",
      "execution_count": 84,
      "metadata": {},
      "outputs": [],
      "source": [
        "HIDDEN = 4"
      ],
      "id": "2159b454-bc27-4ca1-b22b-eb02fff1af10"
    },
    {
      "cell_type": "code",
      "execution_count": 85,
      "metadata": {},
      "outputs": [
        {
          "output_type": "display_data",
          "metadata": {},
          "data": {
            "image/png": "[encoded data removed]"
          }
        }
      ],
      "source": [
        "fig, ax = plt.subplots(5,5,figsize=(10,10))\n",
        "for i in range(5):\n",
        "    for j in range(5):\n",
        "        rnn = torch.nn.RNN(4,HIDDEN).to(\"cuda:0\")\n",
        "        linr = torch.nn.Linear(HIDDEN,4).to(\"cuda:0\")\n",
        "        loss_fn = torch.nn.CrossEntropyLoss()\n",
        "        optimizr = torch.optim.Adam(list(rnn.parameters())+list(linr.parameters()),lr=0.1)\n",
        "        _water = torch.zeros(1,HIDDEN).to(\"cuda:0\")\n",
        "        for epoc in range(500):\n",
        "            ## 1\n",
        "            hidden, hT = rnn(x,_water)\n",
        "            output = linr(hidden)\n",
        "            ## 2\n",
        "            loss = loss_fn(output,y)\n",
        "            ## 3\n",
        "            loss.backward()\n",
        "            ## 4 \n",
        "            optimizr.step()\n",
        "            optimizr.zero_grad()\n",
        "        yhat=soft(output)    \n",
        "        combind = torch.concat([hidden,yhat],axis=1)\n",
        "        ax[i][j].matshow(combind.to(\"cpu\").data[-6:],cmap='bwr',vmin=-1,vmax=1)\n",
        "fig.suptitle(\"experiment2: RNN with {} hidden nodes\".format(HIDDEN),size=20)\n",
        "fig.tight_layout()"
      ],
      "id": "2a222286-59e7-45d8-8db0-ba4df9bb37f2"
    },
    {
      "cell_type": "markdown",
      "metadata": {},
      "source": [
        "`-` 실험3"
      ],
      "id": "11380a36-0332-4b44-ab47-63b3449b2010"
    },
    {
      "cell_type": "code",
      "execution_count": 86,
      "metadata": {},
      "outputs": [],
      "source": [
        "HIDDEN = 8"
      ],
      "id": "d92218bf-42d6-46ea-afe4-37c60569f54a"
    },
    {
      "cell_type": "code",
      "execution_count": 87,
      "metadata": {},
      "outputs": [
        {
          "output_type": "display_data",
          "metadata": {},
          "data": {
            "image/png": "[encoded data removed]"
          }
        }
      ],
      "source": [
        "fig, ax = plt.subplots(5,5,figsize=(10,8))\n",
        "for i in range(5):\n",
        "    for j in range(5):\n",
        "        rnn = torch.nn.RNN(4,HIDDEN).to(\"cuda:0\")\n",
        "        linr = torch.nn.Linear(HIDDEN,4).to(\"cuda:0\")\n",
        "        loss_fn = torch.nn.CrossEntropyLoss()\n",
        "        optimizr = torch.optim.Adam(list(rnn.parameters())+list(linr.parameters()),lr=0.1)\n",
        "        _water = torch.zeros(1,HIDDEN).to(\"cuda:0\")\n",
        "        for epoc in range(500):\n",
        "            ## 1\n",
        "            hidden, hT = rnn(x,_water)\n",
        "            output = linr(hidden)\n",
        "            ## 2\n",
        "            loss = loss_fn(output,y)\n",
        "            ## 3\n",
        "            loss.backward()\n",
        "            ## 4 \n",
        "            optimizr.step()\n",
        "            optimizr.zero_grad()\n",
        "        yhat=soft(output)    \n",
        "        combind = torch.concat([hidden,yhat],axis=1)\n",
        "        ax[i][j].matshow(combind.to(\"cpu\").data[-6:],cmap='bwr',vmin=-1,vmax=1)\n",
        "fig.suptitle(\"experiment3: RNN with {} hidden nodes\".format(HIDDEN),size=20)\n",
        "fig.tight_layout()"
      ],
      "id": "d5780dfa-acc2-47af-91a7-a234ee005487"
    },
    {
      "cell_type": "markdown",
      "metadata": {},
      "source": [
        "## 결론\n",
        "\n",
        "`-` 노드수가 많으면 학습에 유리함\n",
        "\n",
        "(서연 필기) c/C를 맞추는 것(error)보다 확실한 규칙을 맞추는\n",
        "것(underline)이 중요$\\to$오히려 맞추면 과적합으로 볼 수 있다 - 그래서\n",
        "학습이 잘 되었으면 - 첫 칸 - 둘째 칸 - 셋쨰, 넷째 칸 - 이 순으로 predict\n",
        "되었을 것\n",
        "\n",
        "# 순환신경망 표현력 비교실험 (2)\n",
        "\n",
        "## data: ab(c,C)"
      ],
      "id": "d56b53a5-17c4-4a3e-bb60-1a9adefb411d"
    },
    {
      "cell_type": "code",
      "execution_count": 88,
      "metadata": {},
      "outputs": [],
      "source": [
        "# torch.manual_seed(43052)\n",
        "# txta = 'a'*50\n",
        "# txtb = 'b'*50\n",
        "# prob_upper = torch.bernoulli(torch.zeros(50)+0.5) \n",
        "# txtc = list(map(lambda x: 'c' if x==1 else 'C', prob_upper))\n",
        "# txt = ''.join([txta[i]+','+txtb[i]+','+txtc[i]+',' for i in range(50)]).split(',')[:-1]\n",
        "# txt_x = txt[:-1] \n",
        "# txt_y = txt[1:]\n",
        "# pd.DataFrame({'txt_x':txt_x,'txt_y':txt_y}).to_csv(\"2022-11-25-ab(c,C).csv\",index=False)"
      ],
      "id": "d2bbe623-0fa1-429a-a100-00a9a4445216"
    },
    {
      "cell_type": "code",
      "execution_count": 89,
      "metadata": {},
      "outputs": [
        {
          "output_type": "display_data",
          "metadata": {},
          "data": {
            "text/html": [
              "\n",
              "<p>149 rows × 2 columns</p>\n",
              "</div>"
            ]
          }
        }
      ],
      "source": [
        "df= pd.read_csv(\"https://raw.githubusercontent.com/guebin/DL2022/main/posts/IV.%20RNN/2022-11-25-ab(c%2CC).csv\")\n",
        "df"
      ],
      "id": "dad38eb6-ecc4-4a2f-b105-a54e790a4ff4"
    },
    {
      "cell_type": "code",
      "execution_count": 90,
      "metadata": {},
      "outputs": [],
      "source": [
        "mapping = {'a':0,'b':1,'c':2,'C':3} \n",
        "x= torch.nn.functional.one_hot(torch.tensor(f(df.txt_x,mapping))).float()\n",
        "y= torch.nn.functional.one_hot(torch.tensor(f(df.txt_y,mapping))).float()"
      ],
      "id": "5e47b82a-13b5-4ac6-a81b-399cc40d0b69"
    },
    {
      "cell_type": "code",
      "execution_count": 91,
      "metadata": {},
      "outputs": [],
      "source": [
        "x = x.to(\"cuda:0\")\n",
        "y = y.to(\"cuda:0\") "
      ],
      "id": "0fa77ca9-cd88-4300-8e5c-9d512abf0ca8"
    },
    {
      "cell_type": "markdown",
      "metadata": {},
      "source": [
        "## 실험\n",
        "\n",
        "`-` 실험1"
      ],
      "id": "9afea7b6-6049-4683-a906-a22fed412288"
    },
    {
      "cell_type": "code",
      "execution_count": 92,
      "metadata": {},
      "outputs": [],
      "source": [
        "HIDDEN = 3"
      ],
      "id": "eef9d7c2-d8b1-41f6-981d-2d884c3bb249"
    },
    {
      "cell_type": "code",
      "execution_count": 93,
      "metadata": {},
      "outputs": [
        {
          "output_type": "display_data",
          "metadata": {},
          "data": {
            "image/png": "[encoded data removed]"
          }
        }
      ],
      "source": [
        "fig, ax = plt.subplots(5,5,figsize=(10,10))\n",
        "for i in range(5):\n",
        "    for j in range(5):\n",
        "        lstm = torch.nn.LSTM(4,HIDDEN).to(\"cuda:0\")\n",
        "        linr = torch.nn.Linear(HIDDEN,4).to(\"cuda:0\")\n",
        "        loss_fn = torch.nn.CrossEntropyLoss()\n",
        "        optimizr = torch.optim.Adam(list(lstm.parameters())+list(linr.parameters()),lr=0.1)\n",
        "        _water = torch.zeros(1,HIDDEN).to(\"cuda:0\")\n",
        "        for epoc in range(500):\n",
        "            ## 1\n",
        "            hidden, (hT,cT) = lstm(x,(_water,_water))\n",
        "            output = linr(hidden)\n",
        "            ## 2\n",
        "            loss = loss_fn(output,y)\n",
        "            ## 3\n",
        "            loss.backward()\n",
        "            ## 4 \n",
        "            optimizr.step()\n",
        "            optimizr.zero_grad()\n",
        "        yhat=soft(output)    \n",
        "        combinded = torch.concat([yhat,y],axis=1)\n",
        "        ax[i][j].matshow(combinded.to(\"cpu\").data[-6:],cmap='bwr',vmin=-1,vmax=1)\n",
        "fig.suptitle(\"experiment1: LSTM with {} hidden nodes\".format(HIDDEN),size=20)\n",
        "fig.tight_layout()"
      ],
      "id": "38cf3429-8be3-4bbb-9451-5926366044f5"
    },
    {
      "cell_type": "markdown",
      "metadata": {},
      "source": [
        "`-` 실험2"
      ],
      "id": "85d071ac-350a-48dc-bf0b-0ba4c62280e1"
    },
    {
      "cell_type": "code",
      "execution_count": 94,
      "metadata": {},
      "outputs": [],
      "source": [
        "HIDDEN = 16"
      ],
      "id": "5e9619a9-b5de-4a54-914d-adc19903c1d2"
    },
    {
      "cell_type": "code",
      "execution_count": 95,
      "metadata": {
        "tags": []
      },
      "outputs": [
        {
          "output_type": "display_data",
          "metadata": {},
          "data": {
            "image/png": "[encoded data removed]"
          }
        }
      ],
      "source": [
        "fig, ax = plt.subplots(5,5,figsize=(10,10))\n",
        "for i in range(5):\n",
        "    for j in range(5):\n",
        "        lstm = torch.nn.LSTM(4,HIDDEN).to(\"cuda:0\")\n",
        "        linr = torch.nn.Linear(HIDDEN,4).to(\"cuda:0\")\n",
        "        loss_fn = torch.nn.CrossEntropyLoss()\n",
        "        optimizr = torch.optim.Adam(list(lstm.parameters())+list(linr.parameters()),lr=0.1)\n",
        "        _water = torch.zeros(1,HIDDEN).to(\"cuda:0\")\n",
        "        for epoc in range(500):\n",
        "            ## 1\n",
        "            hidden, (hT,cT) = lstm(x,(_water,_water))\n",
        "            output = linr(hidden)\n",
        "            ## 2\n",
        "            loss = loss_fn(output,y)\n",
        "            ## 3\n",
        "            loss.backward()\n",
        "            ## 4 \n",
        "            optimizr.step()\n",
        "            optimizr.zero_grad()\n",
        "        yhat=soft(output)    \n",
        "        combinded = torch.concat([yhat,y],axis=1)\n",
        "        ax[i][j].matshow(combinded.to(\"cpu\").data[-6:],cmap='bwr',vmin=-1,vmax=1)\n",
        "fig.suptitle(\"experiment2: LSTM with {} hidden nodes\".format(HIDDEN),size=20)\n",
        "fig.tight_layout()"
      ],
      "id": "3ef2ef52-5450-425a-93c4-4f97e6534dbb"
    },
    {
      "cell_type": "markdown",
      "metadata": {},
      "source": [
        "## 결론\n",
        "\n",
        "`-` 노드수가 너무 많으면 오버피팅 경향도 있음\n",
        "\n",
        "# 문자열에서 단어로\n",
        "\n",
        "## data: human numbers 5"
      ],
      "id": "4e52e3d6-48fc-4277-8656-929bf747a009"
    },
    {
      "cell_type": "code",
      "execution_count": 96,
      "metadata": {},
      "outputs": [],
      "source": [
        "txt = (['one',',','two',',','three',',','four',',','five',',']*100)[:-1]"
      ],
      "id": "975afdbd-b316-4d57-9687-06d3f7862944"
    },
    {
      "cell_type": "code",
      "execution_count": 97,
      "metadata": {},
      "outputs": [
        {
          "output_type": "display_data",
          "metadata": {},
          "data": {
            "text/plain": [
              "{',': 0, 'one': 1, 'two': 2, 'three': 3, 'four': 4, 'five': 5}"
            ]
          }
        }
      ],
      "source": [
        "mapping = {',':0, 'one':1, 'two':2, 'three':3, 'four':4, 'five':5} \n",
        "mapping"
      ],
      "id": "349dc2e3-cfcb-4646-a058-7a349489e026"
    },
    {
      "cell_type": "code",
      "execution_count": 98,
      "metadata": {},
      "outputs": [],
      "source": [
        "txt_x = txt[:-1]\n",
        "txt_y = txt[1:] "
      ],
      "id": "188c0571-b8fe-428d-adf8-0ad3d85f959d"
    },
    {
      "cell_type": "code",
      "execution_count": 99,
      "metadata": {},
      "outputs": [
        {
          "output_type": "display_data",
          "metadata": {},
          "data": {
            "text/plain": [
              "(['one', ',', 'two', ',', 'three'], [',', 'two', ',', 'three', ','])"
            ]
          }
        }
      ],
      "source": [
        "txt_x[0:5], txt_y[0:5]"
      ],
      "id": "edd93e42-881e-4aa7-8767-1fc3f86838ac"
    },
    {
      "cell_type": "code",
      "execution_count": 100,
      "metadata": {},
      "outputs": [],
      "source": [
        "x = torch.nn.functional.one_hot(torch.tensor(f(txt_x,mapping))).float().to(\"cuda:0\")\n",
        "y = torch.nn.functional.one_hot(torch.tensor(f(txt_y,mapping))).float().to(\"cuda:0\")"
      ],
      "id": "dea37e1c-d622-42ee-8c32-0dcfbadc9431"
    },
    {
      "cell_type": "markdown",
      "metadata": {},
      "source": [
        "## torch를 이용한 learn"
      ],
      "id": "3782bec0-6953-4f96-a467-7d4a4a4f2c1d"
    },
    {
      "cell_type": "code",
      "execution_count": 101,
      "metadata": {},
      "outputs": [],
      "source": [
        "torch.manual_seed(43052) \n",
        "lstm = torch.nn.LSTM(6,20).to(\"cuda:0\") \n",
        "linr = torch.nn.Linear(20,6).to(\"cuda:0\") \n",
        "loss_fn = torch.nn.CrossEntropyLoss()\n",
        "optimizr = torch.optim.Adam(list(lstm.parameters())+list(linr.parameters()),lr=0.1)"
      ],
      "id": "03031aa1-e93d-4ef2-b9a1-56d41026c904"
    },
    {
      "cell_type": "code",
      "execution_count": 102,
      "metadata": {},
      "outputs": [],
      "source": [
        "_water = torch.zeros(1,20).to(\"cuda:0\")\n",
        "for epoc in range(50):\n",
        "    ## 1 \n",
        "    hidden, (hT,cT) =lstm(x,(_water,_water))\n",
        "    output = linr(hidden) \n",
        "    ## 2 \n",
        "    loss = loss_fn(output,y) \n",
        "    ## 3 \n",
        "    loss.backward()\n",
        "    ## 4 \n",
        "    optimizr.step()\n",
        "    optimizr.zero_grad()     "
      ],
      "id": "899fa92b-8e37-40c1-b8b7-2ab90e8eec15"
    },
    {
      "cell_type": "code",
      "execution_count": 103,
      "metadata": {},
      "outputs": [
        {
          "output_type": "display_data",
          "metadata": {},
          "data": {
            "image/png": "[encoded data removed]"
          }
        }
      ],
      "source": [
        "plt.matshow(soft(output).data[-10:].to(\"cpu\"),cmap='bwr',vmin=-1,vmax=1)"
      ],
      "id": "25930fac-28f5-4e33-95e4-13ee7f7f97c3"
    },
    {
      "cell_type": "markdown",
      "metadata": {},
      "source": [
        "## fastai 이용한 learn"
      ],
      "id": "8ddb5375-daa6-4ac2-989a-7bdfe2960d84"
    },
    {
      "cell_type": "code",
      "execution_count": 104,
      "metadata": {},
      "outputs": [],
      "source": [
        "ds1 = torch.utils.data.TensorDataset(x,y)\n",
        "ds2 = torch.utils.data.TensorDataset(x,y) # dummy \n",
        "dl1 = torch.utils.data.DataLoader(ds1,batch_size=998)\n",
        "dl2 = torch.utils.data.DataLoader(ds2,batch_size=998) # dummy \n",
        "dls = DataLoaders(dl1,dl2) "
      ],
      "id": "71addc87-3ce3-46a1-8c9c-453e0c97bc4c"
    },
    {
      "cell_type": "markdown",
      "metadata": {},
      "source": [
        "fastai 를 이용하여 class를 사용하기 위한 목차"
      ],
      "id": "ec83fdc7-4b6c-4df4-8560-3b5330cf14fd"
    },
    {
      "cell_type": "code",
      "execution_count": 105,
      "metadata": {},
      "outputs": [],
      "source": [
        "class MyLSTM(torch.nn.Module):\n",
        "    def __init__(self):\n",
        "        super().__init__()\n",
        "        self.lstm = torch.nn.LSTM(6,20)\n",
        "        self.linr = torch.nn.Linear(20,6) \n",
        "    def forward(self,x):\n",
        "        _water = torch.zeros(1,20).to(\"cuda:0\")\n",
        "        hidden, (hT,cT) =self.lstm(x,(_water,_water))\n",
        "        output = self.linr(hidden)\n",
        "        return output         "
      ],
      "id": "163c6887-7acc-4277-a8b1-552301ac60c8"
    },
    {
      "cell_type": "code",
      "execution_count": 106,
      "metadata": {},
      "outputs": [],
      "source": [
        "net = MyLSTM().to(\"cuda:0\")\n",
        "loss_fn = torch.nn.CrossEntropyLoss()"
      ],
      "id": "ed4a1806-eafa-430c-ad11-9acb2f49209e"
    },
    {
      "cell_type": "code",
      "execution_count": 107,
      "metadata": {},
      "outputs": [],
      "source": [
        "lrnr = Learner(dls,net,loss_fn,lr=0.1)"
      ],
      "id": "c8536f0d-3859-434d-9ec5-1bfd3f2f4bc2"
    },
    {
      "cell_type": "code",
      "execution_count": 108,
      "metadata": {},
      "outputs": [
        {
          "output_type": "display_data",
          "metadata": {},
          "data": {
            "text/html": [
              "\n",
              "<style>\n",
              "    /* Turns off some styling */\n",
              "    progress {\n",
              "        /* gets rid of default border in Firefox and Opera. */\n",
              "        border: none;\n",
              "        /* Needs to be in here for Safari polyfill so background images work as expected. */\n",
              "        background-size: auto;\n",
              "    }\n",
              "    progress:not([value]), progress:not([value])::-webkit-progress-bar {\n",
              "        background: repeating-linear-gradient(45deg, #7e7e7e, #7e7e7e 10px, #5c5c5c 10px, #5c5c5c 20px);\n",
              "    }\n",
              "    .progress-bar-interrupted, .progress-bar-interrupted::-webkit-progress-bar {\n",
              "        background: #F44336;\n",
              "    }\n",
              "</style>"
            ]
          }
        },
        {
          "output_type": "display_data",
          "metadata": {},
          "data": {}
        }
      ],
      "source": [
        "lrnr.fit(50)"
      ],
      "id": "7b05d3f2-33bf-4598-a733-82f8b8c27e8f"
    },
    {
      "cell_type": "code",
      "execution_count": 109,
      "metadata": {},
      "outputs": [
        {
          "output_type": "display_data",
          "metadata": {},
          "data": {
            "image/png": "[encoded data removed]"
          }
        }
      ],
      "source": [
        "plt.matshow(soft(lrnr.model(x)[-10:]).data.to(\"cpu\"),cmap = 'bwr', vmin=-1,vmax=1)"
      ],
      "id": "b35af888-c949-4d1a-85f3-7c840f2b2e5d"
    },
    {
      "cell_type": "markdown",
      "metadata": {},
      "source": [
        "# 똑같은 코드들: `torch.nn.LSTM`\n",
        "\n",
        "## data: hi?hello!!"
      ],
      "id": "d033beb4-8b00-4d41-9277-9839892c49a0"
    },
    {
      "cell_type": "code",
      "execution_count": 110,
      "metadata": {},
      "outputs": [],
      "source": [
        "txt = list('hi?hello!!')*100 \n",
        "txt_x = txt[:-1]\n",
        "txt_y = txt[1:]"
      ],
      "id": "0564ff2e-e120-4152-9a2e-847f852cd3a7"
    },
    {
      "cell_type": "code",
      "execution_count": 111,
      "metadata": {},
      "outputs": [],
      "source": [
        "mapping = {'!':0, '?':1,'h':2,'i':3,'e':4,'l':5,'o':6} \n",
        "x= torch.nn.functional.one_hot(torch.tensor(f(txt_x,mapping))).float().to(\"cuda:0\")\n",
        "y= torch.nn.functional.one_hot(torch.tensor(f(txt_y,mapping))).float().to(\"cuda:0\")"
      ],
      "id": "5b017371-5deb-4f0f-9d57-596a7bde41c4"
    },
    {
      "cell_type": "markdown",
      "metadata": {},
      "source": [
        "## 세트1: \\_water의 생략\n",
        "\n",
        "`-` 코드1: 정석코드"
      ],
      "id": "21e56e39-d90f-42c5-9faa-80e4b8dc7e1f"
    },
    {
      "cell_type": "code",
      "execution_count": 112,
      "metadata": {},
      "outputs": [],
      "source": [
        "torch.manual_seed(43052)\n",
        "lstm = torch.nn.LSTM(7,4).to(\"cuda:0\")"
      ],
      "id": "54221eb4-786e-47ad-94a2-6ff21efad7a6"
    },
    {
      "cell_type": "code",
      "execution_count": 113,
      "metadata": {},
      "outputs": [
        {
          "output_type": "display_data",
          "metadata": {},
          "data": {
            "text/plain": [
              "(tensor([[-0.1547,  0.0673,  0.0695,  0.1563],\n",
              "         [-0.0786, -0.1430, -0.0250,  0.1189],\n",
              "         [-0.0300, -0.2256, -0.1324,  0.1439],\n",
              "         ...,\n",
              "         [-0.0723,  0.0620,  0.1913,  0.2015],\n",
              "         [-0.1155,  0.0746,  0.1747,  0.2938],\n",
              "         [-0.2350, -0.1559, -0.1093,  0.2682]], device='cuda:0',\n",
              "        grad_fn=<SqueezeBackward1>),\n",
              " (tensor([[-0.2350, -0.1559, -0.1093,  0.2682]], device='cuda:0',\n",
              "         grad_fn=<SqueezeBackward1>),\n",
              "  tensor([[-0.4451, -0.2456, -0.1900,  0.6232]], device='cuda:0',\n",
              "         grad_fn=<SqueezeBackward1>)))"
            ]
          }
        }
      ],
      "source": [
        "_water = torch.zeros(1,4).to(\"cuda:0\")\n",
        "lstm(x, (_water,_water))"
      ],
      "id": "207be544-fd98-465f-9d09-a09f5ac98b6e"
    },
    {
      "cell_type": "markdown",
      "metadata": {},
      "source": [
        "`-` 코드2: \\_water 는 사실 없어도 괜찮았어.."
      ],
      "id": "34f556bb-3f90-4b00-9a7f-98bd9ed1c8d0"
    },
    {
      "cell_type": "code",
      "execution_count": 114,
      "metadata": {},
      "outputs": [],
      "source": [
        "torch.manual_seed(43052)\n",
        "lstm = torch.nn.LSTM(7,4).to(\"cuda:0\")"
      ],
      "id": "472161c7-186f-4c99-a2c5-5c483e2366e9"
    },
    {
      "cell_type": "code",
      "execution_count": 115,
      "metadata": {},
      "outputs": [
        {
          "output_type": "display_data",
          "metadata": {},
          "data": {
            "text/plain": [
              "(tensor([[-0.1547,  0.0673,  0.0695,  0.1563],\n",
              "         [-0.0786, -0.1430, -0.0250,  0.1189],\n",
              "         [-0.0300, -0.2256, -0.1324,  0.1439],\n",
              "         ...,\n",
              "         [-0.0723,  0.0620,  0.1913,  0.2015],\n",
              "         [-0.1155,  0.0746,  0.1747,  0.2938],\n",
              "         [-0.2350, -0.1559, -0.1093,  0.2682]], device='cuda:0',\n",
              "        grad_fn=<SqueezeBackward1>),\n",
              " (tensor([[-0.2350, -0.1559, -0.1093,  0.2682]], device='cuda:0',\n",
              "         grad_fn=<SqueezeBackward1>),\n",
              "  tensor([[-0.4451, -0.2456, -0.1900,  0.6232]], device='cuda:0',\n",
              "         grad_fn=<SqueezeBackward1>)))"
            ]
          }
        }
      ],
      "source": [
        "lstm(x)"
      ],
      "id": "99a4282c-e61f-405b-be82-16868281b15c"
    },
    {
      "cell_type": "code",
      "execution_count": 116,
      "metadata": {},
      "outputs": [
        {
          "output_type": "display_data",
          "metadata": {},
          "data": {
            "text/plain": [
              "torch.Size([999, 7])"
            ]
          }
        }
      ],
      "source": [
        "x.shape"
      ],
      "id": "cca55719-edd7-452b-804a-28766ce26b9c"
    },
    {
      "cell_type": "markdown",
      "metadata": {},
      "source": [
        "999개, 구별되는 문자 7개\n",
        "\n",
        "## 세트2: x.shape = ($L$, $H_{in}$) or ($L$,$N$,$H_{in}$)\n",
        "\n",
        "`-` 파라메터 설명\n",
        "\n",
        "-   $L$ = sequece length = 시계열의 길이 = 간장을 몇 년 전통으로\n",
        "    이어갈지\n",
        "-   $N$ = batch size = 전체데이터는 몇 개의 시계열이 있는지 = 전체\n",
        "    데이터를 몇개의 시계열로 쪼갤지 \\<– 왜 이걸 해야해?\n",
        "-   $H_{in}$ = input_size = 시점을 고정하였을 경우 입력자료의 차원 =\n",
        "    입력시계열이 시점별로 몇개의 변수로 나타내어 지는지? = 만약에\n",
        "    원핫인코딩으로 단어를 정리하면 단어수를 의미함\n",
        "\n",
        "우리가 실습했던 거 모두 N이 1이었다 그래서 안 썼음 - 1일 때만 아래와\n",
        "같이 여러 버전 가능\n",
        "\n",
        "`-` 코드2: \\_water 는 사실 없어도 괜찮았어.."
      ],
      "id": "0ffb95f5-4c72-4909-b83b-a2110dbf1754"
    },
    {
      "cell_type": "code",
      "execution_count": 117,
      "metadata": {},
      "outputs": [],
      "source": [
        "torch.manual_seed(43052)\n",
        "lstm = torch.nn.LSTM(7,4).to(\"cuda:0\")"
      ],
      "id": "b39a8173-d72f-4be7-9dcf-37049d3effc9"
    },
    {
      "cell_type": "code",
      "execution_count": 118,
      "metadata": {},
      "outputs": [
        {
          "output_type": "display_data",
          "metadata": {},
          "data": {
            "text/plain": [
              "(tensor([[-0.1547,  0.0673,  0.0695,  0.1563],\n",
              "         [-0.0786, -0.1430, -0.0250,  0.1189],\n",
              "         [-0.0300, -0.2256, -0.1324,  0.1439],\n",
              "         ...,\n",
              "         [-0.0723,  0.0620,  0.1913,  0.2015],\n",
              "         [-0.1155,  0.0746,  0.1747,  0.2938],\n",
              "         [-0.2350, -0.1559, -0.1093,  0.2682]], device='cuda:0',\n",
              "        grad_fn=<SqueezeBackward1>),\n",
              " (tensor([[-0.2350, -0.1559, -0.1093,  0.2682]], device='cuda:0',\n",
              "         grad_fn=<SqueezeBackward1>),\n",
              "  tensor([[-0.4451, -0.2456, -0.1900,  0.6232]], device='cuda:0',\n",
              "         grad_fn=<SqueezeBackward1>)))"
            ]
          }
        }
      ],
      "source": [
        "lstm(x)"
      ],
      "id": "ec0c0a9a-77ef-4c2b-b191-22de833938e6"
    },
    {
      "cell_type": "markdown",
      "metadata": {},
      "source": [
        "`-` 코드3: x의 차원은 사실 엄밀하게는 ($L$,$N$,$H_{in}$) 와 같다…"
      ],
      "id": "10729e66-fc95-4766-9b35-95b78ebd8705"
    },
    {
      "cell_type": "code",
      "execution_count": 119,
      "metadata": {},
      "outputs": [],
      "source": [
        "torch.manual_seed(43052)\n",
        "lstm = torch.nn.LSTM(7,4).to(\"cuda:0\")"
      ],
      "id": "aa4059bb-3a78-439a-b91a-6ca58388bdf6"
    },
    {
      "cell_type": "code",
      "execution_count": 120,
      "metadata": {},
      "outputs": [
        {
          "output_type": "display_data",
          "metadata": {},
          "data": {
            "text/plain": [
              "(tensor([[[-0.1547,  0.0673,  0.0695,  0.1563]],\n",
              " \n",
              "         [[-0.0786, -0.1430, -0.0250,  0.1189]],\n",
              " \n",
              "         [[-0.0300, -0.2256, -0.1324,  0.1439]],\n",
              " \n",
              "         ...,\n",
              " \n",
              "         [[-0.0723,  0.0620,  0.1913,  0.2015]],\n",
              " \n",
              "         [[-0.1155,  0.0746,  0.1747,  0.2938]],\n",
              " \n",
              "         [[-0.2350, -0.1559, -0.1093,  0.2682]]], device='cuda:0',\n",
              "        grad_fn=<CudnnRnnBackward0>),\n",
              " (tensor([[[-0.2350, -0.1559, -0.1093,  0.2682]]], device='cuda:0',\n",
              "         grad_fn=<CudnnRnnBackward0>),\n",
              "  tensor([[[-0.4451, -0.2456, -0.1900,  0.6232]]], device='cuda:0',\n",
              "         grad_fn=<CudnnRnnBackward0>)))"
            ]
          }
        }
      ],
      "source": [
        "lstm(x.reshape(999,1,7))"
      ],
      "id": "58d7266d-c6a0-4e5d-a8ba-c57014639694"
    },
    {
      "cell_type": "markdown",
      "metadata": {},
      "source": [
        "`-` 코드4: `batch_first=True`옵션을 사용하여 lstm을 만든경우"
      ],
      "id": "937c8c7e-0872-4ec8-8e7b-f5b99b294159"
    },
    {
      "cell_type": "code",
      "execution_count": 121,
      "metadata": {},
      "outputs": [],
      "source": [
        "torch.manual_seed(43052)\n",
        "lstm = torch.nn.LSTM(7,4,batch_first=True).to(\"cuda:0\")"
      ],
      "id": "a049e5af-148f-4174-a251-a779b1223750"
    },
    {
      "cell_type": "code",
      "execution_count": 122,
      "metadata": {},
      "outputs": [
        {
          "output_type": "display_data",
          "metadata": {},
          "data": {
            "text/plain": [
              "(tensor([[[-0.1547,  0.0673,  0.0695,  0.1563],\n",
              "          [-0.0786, -0.1430, -0.0250,  0.1189],\n",
              "          [-0.0300, -0.2256, -0.1324,  0.1439],\n",
              "          ...,\n",
              "          [-0.0723,  0.0620,  0.1913,  0.2015],\n",
              "          [-0.1155,  0.0746,  0.1747,  0.2938],\n",
              "          [-0.2350, -0.1559, -0.1093,  0.2682]]], device='cuda:0',\n",
              "        grad_fn=<CudnnRnnBackward0>),\n",
              " (tensor([[[-0.2350, -0.1559, -0.1093,  0.2682]]], device='cuda:0',\n",
              "         grad_fn=<CudnnRnnBackward0>),\n",
              "  tensor([[[-0.4451, -0.2456, -0.1900,  0.6232]]], device='cuda:0',\n",
              "         grad_fn=<CudnnRnnBackward0>)))"
            ]
          }
        }
      ],
      "source": [
        "lstm(x.reshape(1,999,7))"
      ],
      "id": "917704b7-72e6-4f64-9c60-537c67ccbf54"
    },
    {
      "cell_type": "markdown",
      "metadata": {},
      "source": [
        "## 세트3: hidden.shape = ($D\\times$ `num_layers`, $H_{out}$) or ($D\\times$ `num_layers`, $N$, $H_{out}$)\n",
        "\n",
        "`-` 파라메터 설명\n",
        "\n",
        "-   $D$ = 2 if bidirectional=True otherwise 1 = 양방향이면 2, 단방향이면\n",
        "    1 (우리는 단방향만 배움)\n",
        "-   `num_layres` = 중첩된 RNN일 경우 (우리는 중첩을 안시켰음)\n",
        "-   $N$ = batch size = 전체데이터는 몇 개의 시계열이 있는지 = 전체\n",
        "    데이터를 몇개의 시계열로 쪼갤지 \\<– 왜 이걸 해야해?\n",
        "-   $H_{out}$ = 히든노드의 수\n",
        "\n",
        "`-` 코드5: x.shape = ($L$,$1$,$H_{in}$) $\\to$ hidden.shape =\n",
        "($1$,$1$,$H_{out}$)"
      ],
      "id": "7c2356ad-0ac6-4746-a13b-3f00f3368890"
    },
    {
      "cell_type": "code",
      "execution_count": 123,
      "metadata": {},
      "outputs": [],
      "source": [
        "torch.manual_seed(43052)\n",
        "lstm = torch.nn.LSTM(7,4).to(\"cuda:0\")"
      ],
      "id": "3df8ff0e-fc10-4835-8d13-33302228e2de"
    },
    {
      "cell_type": "code",
      "execution_count": 124,
      "metadata": {},
      "outputs": [
        {
          "output_type": "display_data",
          "metadata": {},
          "data": {
            "text/plain": [
              "(tensor([[[-0.1547,  0.0673,  0.0695,  0.1563]],\n",
              " \n",
              "         [[-0.0786, -0.1430, -0.0250,  0.1189]],\n",
              " \n",
              "         [[-0.0300, -0.2256, -0.1324,  0.1439]],\n",
              " \n",
              "         ...,\n",
              " \n",
              "         [[-0.0723,  0.0620,  0.1913,  0.2015]],\n",
              " \n",
              "         [[-0.1155,  0.0746,  0.1747,  0.2938]],\n",
              " \n",
              "         [[-0.2350, -0.1559, -0.1093,  0.2682]]], device='cuda:0',\n",
              "        grad_fn=<CudnnRnnBackward0>),\n",
              " (tensor([[[-0.2350, -0.1559, -0.1093,  0.2682]]], device='cuda:0',\n",
              "         grad_fn=<CudnnRnnBackward0>),\n",
              "  tensor([[[-0.4451, -0.2456, -0.1900,  0.6232]]], device='cuda:0',\n",
              "         grad_fn=<CudnnRnnBackward0>)))"
            ]
          }
        }
      ],
      "source": [
        "_water = torch.zeros(1,1,4).to(\"cuda:0\") \n",
        "lstm(x.reshape(999,1,7),(_water,_water))"
      ],
      "id": "cd3bbc31-1b83-4e0a-9837-3aaa6ad2caa4"
    },
    {
      "cell_type": "markdown",
      "metadata": {},
      "source": [
        "`-` 사실 \\_water.shape = (1,$H_{out}$) 에서 1은 observation의 차원을\n",
        "의미하는게 아님 (그런데 대충 그렇게 생각해도 무방함)\n",
        "\n",
        "-   한 시점의 콩물에 대하여 양방향으로 간장을 만들면 \\_water.shape =\n",
        "    (2,h)\n",
        "-   한 시점의 콩물에 대하여 3중첩으로 간장을 만들면 \\_water.shape =\n",
        "    (3,h)\n",
        "-   한 시점의 콩물에 대하여 3중첩간장을 양방향으로 만들면 \\_water.shape\n",
        "    = (6,h)\n",
        "\n",
        "# 똑같은 코드들: `torch.nn.LSTMCell`\n",
        "\n",
        "## data: hi?hello!!"
      ],
      "id": "6cb0f5f9-9295-40e0-a160-8103fa0ff9f3"
    },
    {
      "cell_type": "code",
      "execution_count": 125,
      "metadata": {},
      "outputs": [],
      "source": [
        "txt = list('hi?hello!!')*100 \n",
        "txt_x = txt[:-1]\n",
        "txt_y = txt[1:]"
      ],
      "id": "b43b7377-8aa5-404a-9bea-b150739e102b"
    },
    {
      "cell_type": "code",
      "execution_count": 126,
      "metadata": {},
      "outputs": [],
      "source": [
        "mapping = {'!':0, '?':1,'h':2,'i':3,'e':4,'l':5,'o':6} \n",
        "x= torch.nn.functional.one_hot(torch.tensor(f(txt_x,mapping))).float().to(\"cuda:0\")\n",
        "y= torch.nn.functional.one_hot(torch.tensor(f(txt_y,mapping))).float().to(\"cuda:0\")"
      ],
      "id": "30e58cc6-4070-48f8-8a51-5272d715b42d"
    },
    {
      "cell_type": "markdown",
      "metadata": {},
      "source": [
        "## 세트1: \\_water의 생략\n",
        "\n",
        "`-` 코드1: 정석코드"
      ],
      "id": "639f9e81-feac-4ebe-8c4b-c4437f025017"
    },
    {
      "cell_type": "code",
      "execution_count": 127,
      "metadata": {},
      "outputs": [],
      "source": [
        "torch.manual_seed(43052) \n",
        "lstmcell = torch.nn.LSTMCell(7,4).to(\"cuda:0\") "
      ],
      "id": "339925c6-9e38-4d41-bbc1-9397807bfb35"
    },
    {
      "cell_type": "code",
      "execution_count": 128,
      "metadata": {},
      "outputs": [
        {
          "output_type": "display_data",
          "metadata": {},
          "data": {
            "text/plain": [
              "(torch.Size([1, 7]), torch.Size([1, 4]))"
            ]
          }
        }
      ],
      "source": [
        "xt = x[[1]]\n",
        "_water = torch.zeros(1,4).to(\"cuda:0\")\n",
        "xt.shape, _water.shape"
      ],
      "id": "e153f33f-f9ff-40e6-95db-6fab98eae5ba"
    },
    {
      "cell_type": "code",
      "execution_count": 129,
      "metadata": {},
      "outputs": [
        {
          "output_type": "display_data",
          "metadata": {},
          "data": {
            "text/plain": [
              "(tensor([[-0.0290, -0.1758, -0.0537,  0.0598]], device='cuda:0',\n",
              "        grad_fn=<ThnnFusedLstmCellBackward0>),\n",
              " tensor([[-0.0582, -0.4566, -0.1256,  0.1922]], device='cuda:0',\n",
              "        grad_fn=<ThnnFusedLstmCellBackward0>))"
            ]
          }
        }
      ],
      "source": [
        "lstmcell(xt,(_water,_water))"
      ],
      "id": "baaa4cab-d155-4711-b820-60d5d61872f5"
    },
    {
      "cell_type": "markdown",
      "metadata": {},
      "source": [
        "`-` 코드2: \\_water의 생략"
      ],
      "id": "e0782cb9-cc93-458c-a894-5e00f6725ae7"
    },
    {
      "cell_type": "code",
      "execution_count": 130,
      "metadata": {},
      "outputs": [],
      "source": [
        "torch.manual_seed(43052) \n",
        "lstmcell = torch.nn.LSTMCell(7,4).to(\"cuda:0\") "
      ],
      "id": "a6ca0b05-824b-4fd8-b537-0754c79bbcc3"
    },
    {
      "cell_type": "code",
      "execution_count": 131,
      "metadata": {},
      "outputs": [
        {
          "output_type": "display_data",
          "metadata": {},
          "data": {
            "text/plain": [
              "torch.Size([1, 7])"
            ]
          }
        }
      ],
      "source": [
        "xt = x[[1]]\n",
        "xt.shape"
      ],
      "id": "23cb76fe-b6a8-44c2-917a-6bded94471ca"
    },
    {
      "cell_type": "code",
      "execution_count": 132,
      "metadata": {},
      "outputs": [
        {
          "output_type": "display_data",
          "metadata": {},
          "data": {
            "text/plain": [
              "(tensor([[-0.0290, -0.1758, -0.0537,  0.0598]], device='cuda:0',\n",
              "        grad_fn=<ThnnFusedLstmCellBackward0>),\n",
              " tensor([[-0.0582, -0.4566, -0.1256,  0.1922]], device='cuda:0',\n",
              "        grad_fn=<ThnnFusedLstmCellBackward0>))"
            ]
          }
        }
      ],
      "source": [
        "lstmcell(xt)"
      ],
      "id": "43a570b9-b011-472c-b691-3b3c65338dda"
    },
    {
      "cell_type": "markdown",
      "metadata": {},
      "source": [
        "## 세트2: xt.shape = ($N$,$H_{in}$) or ($H_{in}$)\n",
        "\n",
        "n: timeserie 개수, 1일 경우 생략 가능\n",
        "\n",
        "`-` 코드2: \\_water의 생략"
      ],
      "id": "6676259d-31ee-4401-8eca-e11df936f4d7"
    },
    {
      "cell_type": "code",
      "execution_count": 133,
      "metadata": {},
      "outputs": [],
      "source": [
        "torch.manual_seed(43052) \n",
        "lstmcell = torch.nn.LSTMCell(7,4).to(\"cuda:0\") "
      ],
      "id": "528462b4-1335-4493-adbd-69c6218542c4"
    },
    {
      "cell_type": "code",
      "execution_count": 134,
      "metadata": {},
      "outputs": [
        {
          "output_type": "display_data",
          "metadata": {},
          "data": {
            "text/plain": [
              "torch.Size([1, 7])"
            ]
          }
        }
      ],
      "source": [
        "xt = x[[1]]\n",
        "xt.shape"
      ],
      "id": "1c4c93b7-eabe-4de2-9ebb-86b0cbde1f11"
    },
    {
      "cell_type": "code",
      "execution_count": 135,
      "metadata": {},
      "outputs": [
        {
          "output_type": "display_data",
          "metadata": {},
          "data": {
            "text/plain": [
              "(tensor([[-0.0290, -0.1758, -0.0537,  0.0598]], device='cuda:0',\n",
              "        grad_fn=<ThnnFusedLstmCellBackward0>),\n",
              " tensor([[-0.0582, -0.4566, -0.1256,  0.1922]], device='cuda:0',\n",
              "        grad_fn=<ThnnFusedLstmCellBackward0>))"
            ]
          }
        }
      ],
      "source": [
        "lstmcell(xt)"
      ],
      "id": "b90606e3-48a2-4dff-b805-d66ecbf90242"
    },
    {
      "cell_type": "markdown",
      "metadata": {},
      "source": [
        "`-` 코드3:"
      ],
      "id": "fb59c4f3-84b5-4451-99c3-176b3ad58efe"
    },
    {
      "cell_type": "code",
      "execution_count": 136,
      "metadata": {},
      "outputs": [],
      "source": [
        "torch.manual_seed(43052) \n",
        "lstmcell = torch.nn.LSTMCell(7,4).to(\"cuda:0\") "
      ],
      "id": "bf01bb43-02c6-45a5-aa13-e1d78d45fb2e"
    },
    {
      "cell_type": "code",
      "execution_count": 137,
      "metadata": {},
      "outputs": [
        {
          "output_type": "display_data",
          "metadata": {},
          "data": {
            "text/plain": [
              "torch.Size([7])"
            ]
          }
        }
      ],
      "source": [
        "xt = x[1]\n",
        "xt.shape"
      ],
      "id": "2daf013e-ad1b-40ea-b950-937380c1d69f"
    },
    {
      "cell_type": "code",
      "execution_count": 138,
      "metadata": {},
      "outputs": [
        {
          "output_type": "display_data",
          "metadata": {},
          "data": {
            "text/plain": [
              "(tensor([-0.0290, -0.1758, -0.0537,  0.0598], device='cuda:0',\n",
              "        grad_fn=<SqueezeBackward1>),\n",
              " tensor([-0.0582, -0.4566, -0.1256,  0.1922], device='cuda:0',\n",
              "        grad_fn=<SqueezeBackward1>))"
            ]
          }
        }
      ],
      "source": [
        "lstmcell(xt)"
      ],
      "id": "59e11088-3a67-47bd-badb-40afe742b873"
    },
    {
      "cell_type": "markdown",
      "metadata": {},
      "source": [
        "(1,n)의 형태라면 괄호 하나 빼도 가능\n",
        "\n",
        "## 세트3: hidden.shape = ($N$,$H_{out}$) or ($H_{out}$)\n",
        "\n",
        "`-` 코드4: xt.shape = ($H_{out}$) $\\to$ \\_water.shape = $(H_{out})$"
      ],
      "id": "f67308bd-df70-4e8f-bd3e-37e16c809d16"
    },
    {
      "cell_type": "code",
      "execution_count": 139,
      "metadata": {},
      "outputs": [],
      "source": [
        "torch.manual_seed(43052) \n",
        "lstmcell = torch.nn.LSTMCell(7,4).to(\"cuda:0\") "
      ],
      "id": "0895be40-f114-4144-ae72-187caa3b4187"
    },
    {
      "cell_type": "code",
      "execution_count": 140,
      "metadata": {},
      "outputs": [
        {
          "output_type": "display_data",
          "metadata": {},
          "data": {
            "text/plain": [
              "(torch.Size([7]), torch.Size([4]))"
            ]
          }
        }
      ],
      "source": [
        "xt = x[1]\n",
        "_water = torch.zeros(4).to(\"cuda:0\")\n",
        "xt.shape,_water.shape"
      ],
      "id": "a352c0a8-8168-499d-8257-fd1d9c9870a4"
    },
    {
      "cell_type": "code",
      "execution_count": 141,
      "metadata": {},
      "outputs": [
        {
          "output_type": "display_data",
          "metadata": {},
          "data": {
            "text/plain": [
              "(tensor([-0.0290, -0.1758, -0.0537,  0.0598], device='cuda:0',\n",
              "        grad_fn=<SqueezeBackward1>),\n",
              " tensor([-0.0582, -0.4566, -0.1256,  0.1922], device='cuda:0',\n",
              "        grad_fn=<SqueezeBackward1>))"
            ]
          }
        }
      ],
      "source": [
        "lstmcell(xt, (_water,_water))"
      ],
      "id": "98c1ac02-08f4-49a5-9fe7-5157736448e3"
    },
    {
      "cell_type": "markdown",
      "metadata": {},
      "source": [
        "# Summary\n",
        "\n",
        "## 똑같은 코드들 정리\n",
        "\n",
        "`-` 원래 1은 단순히 observation의 차원이 아니다. 즉\n",
        "${\\bf X}_{n \\times p}$에서 $n$에 대응하는 차원으로 생각할 수 없다.\n",
        "\n",
        "`-` 그런데 (1) 단방향 (2) 조각내지 않은 시계열 (3) 중첩하지 않은\n",
        "순환망에 한정하여서는 observation 처럼 생각해도 무방하다. \\<– 엄밀하게는\n",
        "이게 위험한 생각임. 하지만 정식으로 모두 따지려면 너무 헷갈림\n",
        "\n",
        "## 실제구현시 기억할 것\n",
        "\n",
        "`-` 현실적으로 (1)-(3)이 아닌 조건에서는 Cell 단위로 연산을 이용할 일이\n",
        "없다. (느리거든요) // 그냥 이해용으로 구현\n",
        "\n",
        "`-` torch.nn.RNN 혹은 torch.nn.LSTM 으로 네트워크를 구성할시 \\_water의\n",
        "dim을 명시할 일도 없다.\n",
        "\n",
        "`-` 오로지 고려해야 할 것은 입력시계열을 조각낼지 조각내지 않을지\n",
        "\n",
        "# 조각난 시계열로 학습\n",
        "\n",
        "시계열이 무조건 연속으로서 데이터가 존재하지 않는다면? - 댓글 1의 길이는\n",
        "400 - 댓글 2 의 길이는 100 이럴수도\n",
        "\n",
        "## data"
      ],
      "id": "0d75f587-9165-4437-b993-ce5ed4711347"
    },
    {
      "cell_type": "code",
      "execution_count": 142,
      "metadata": {},
      "outputs": [],
      "source": [
        "txt = list('hi!')*3 + list('hi?')*3 "
      ],
      "id": "69f3340e-0ad5-462c-9754-437b0cfe054a"
    },
    {
      "cell_type": "markdown",
      "metadata": {},
      "source": [
        "## 조각내지 않은 시계열"
      ],
      "id": "da26b660-e966-43ff-a9b3-6cc9d23d87b6"
    },
    {
      "cell_type": "code",
      "execution_count": 143,
      "metadata": {},
      "outputs": [],
      "source": [
        "txt_x = txt[:-1] \n",
        "txt_y = txt[1:] "
      ],
      "id": "7e3d9708-ee69-4530-881f-f85cab397ccf"
    },
    {
      "cell_type": "code",
      "execution_count": 144,
      "metadata": {},
      "outputs": [],
      "source": [
        "mapping = {'!':0, '?':1, 'h':2, 'i':3} \n",
        "x = torch.nn.functional.one_hot(torch.tensor(f(txt_x,mapping))).float().to(\"cuda:0\")\n",
        "y = torch.nn.functional.one_hot(torch.tensor(f(txt_y,mapping))).float().to(\"cuda:0\")"
      ],
      "id": "37e94fc8-3e62-4243-a8d6-ab97baf094e0"
    },
    {
      "cell_type": "code",
      "execution_count": 145,
      "metadata": {},
      "outputs": [],
      "source": [
        "torch.manual_seed(43052) \n",
        "lstm = torch.nn.LSTM(4,10).to(\"cuda:0\")\n",
        "linr = torch.nn.Linear(10,4).to(\"cuda:0\")"
      ],
      "id": "26493f49-7dbc-43c6-a9e6-e7cd41095ccd"
    },
    {
      "cell_type": "code",
      "execution_count": 146,
      "metadata": {},
      "outputs": [],
      "source": [
        "loss_fn = torch.nn.CrossEntropyLoss() \n",
        "optimizr = torch.optim.Adam(list(lstm.parameters())+list(linr.parameters()),lr=0.1)"
      ],
      "id": "9bf0440d-d6f1-41e3-8afa-e354caaffff3"
    },
    {
      "cell_type": "code",
      "execution_count": 147,
      "metadata": {},
      "outputs": [],
      "source": [
        "for epoc in range(100):\n",
        "    ## 1 \n",
        "    hidden, _ = lstm(x) \n",
        "    output = linr(hidden) \n",
        "    ## 2 \n",
        "    loss = loss_fn(output,y) \n",
        "    ## 3 \n",
        "    loss.backward() \n",
        "    ## 4 \n",
        "    optimizr.step()\n",
        "    optimizr.zero_grad()"
      ],
      "id": "40ab0906-f1ef-4dd6-ade4-dbd608676bc3"
    },
    {
      "cell_type": "code",
      "execution_count": 148,
      "metadata": {},
      "outputs": [
        {
          "output_type": "display_data",
          "metadata": {},
          "data": {
            "image/png": "[encoded data removed]"
          }
        }
      ],
      "source": [
        "hidden, _ = lstm(x)\n",
        "plt.matshow(soft(linr(hidden)).to(\"cpu\").data,cmap='bwr',vmin=-1,vmax=1)"
      ],
      "id": "0887b8b0-5ed8-4770-b48e-48a5dcaf6145"
    },
    {
      "cell_type": "markdown",
      "metadata": {},
      "source": [
        "첫번째 stack은 hi!로 학습 두번째 stack은 hi?로 학습하여 결과가 이럼\n",
        "\n",
        "## 조각난 시계열"
      ],
      "id": "1b543212-bcf6-4327-9e59-384cca0a738c"
    },
    {
      "cell_type": "code",
      "execution_count": 149,
      "metadata": {},
      "outputs": [],
      "source": [
        "txt1= txt[:9]\n",
        "txt2= txt[9:]"
      ],
      "id": "fa353819-d174-4574-9b1f-d69fdd273c9f"
    },
    {
      "cell_type": "code",
      "execution_count": 150,
      "metadata": {},
      "outputs": [
        {
          "output_type": "display_data",
          "metadata": {},
          "data": {
            "text/plain": [
              "(['h', 'i', '!', 'h', 'i', '!', 'h', 'i', '!'],\n",
              " ['h', 'i', '?', 'h', 'i', '?', 'h', 'i', '?'])"
            ]
          }
        }
      ],
      "source": [
        "txt1,txt2"
      ],
      "id": "984c5f53-8830-4b1d-b367-25b3ef5cdfb6"
    },
    {
      "cell_type": "code",
      "execution_count": 151,
      "metadata": {},
      "outputs": [],
      "source": [
        "txt1_x = txt1[:-1] \n",
        "txt1_y = txt1[1:] \n",
        "txt2_x = txt2[:-1] \n",
        "txt2_y = txt2[1:] "
      ],
      "id": "cd613ad1-40f8-406b-8088-65819afcf694"
    },
    {
      "cell_type": "code",
      "execution_count": 152,
      "metadata": {},
      "outputs": [],
      "source": [
        "mapping = {'!':0, '?':1, 'h':2, 'i':3} \n",
        "x1 = torch.nn.functional.one_hot(torch.tensor(f(txt1_x,mapping))).float().to(\"cuda:0\")\n",
        "y1 = torch.nn.functional.one_hot(torch.tensor(f(txt1_y,mapping))).float().to(\"cuda:0\")\n",
        "x2 = torch.nn.functional.one_hot(torch.tensor(f(txt2_x,mapping))).float().to(\"cuda:0\")\n",
        "y2 = torch.nn.functional.one_hot(torch.tensor(f(txt2_y,mapping))).float().to(\"cuda:0\")"
      ],
      "id": "703115d8-4cda-40fe-9af9-a49fc1157fae"
    },
    {
      "cell_type": "markdown",
      "metadata": {},
      "source": [
        "9에서 하나씩 빼서 x,y 만들었으니까 8"
      ],
      "id": "2d937f5b-115b-4ccd-b8dc-b0759b081165"
    },
    {
      "cell_type": "code",
      "execution_count": 153,
      "metadata": {},
      "outputs": [
        {
          "output_type": "display_data",
          "metadata": {},
          "data": {
            "text/plain": [
              "(torch.Size([8, 4]),\n",
              " torch.Size([8, 4]),\n",
              " torch.Size([8, 4]),\n",
              " torch.Size([8, 4]))"
            ]
          }
        }
      ],
      "source": [
        "x1.shape, y1.shape, x2.shape, y2.shape"
      ],
      "id": "7f91f222-84f3-45fe-bb64-5bdc4e52ebef"
    },
    {
      "cell_type": "code",
      "execution_count": 154,
      "metadata": {},
      "outputs": [
        {
          "output_type": "display_data",
          "metadata": {},
          "data": {
            "text/plain": [
              "(torch.Size([8, 2, 4]), torch.Size([8, 2, 4]))"
            ]
          }
        }
      ],
      "source": [
        "xx = torch.stack([x1,x2],axis=1)\n",
        "yy = torch.stack([y1,y2],axis=1)\n",
        "xx.shape, yy.shape"
      ],
      "id": "338d1a7b-0bc4-4a4f-945f-f1845febc5bf"
    },
    {
      "cell_type": "code",
      "execution_count": 155,
      "metadata": {},
      "outputs": [],
      "source": [
        "torch.manual_seed(43052) \n",
        "lstm = torch.nn.LSTM(4,10).to(\"cuda:0\")\n",
        "linr = torch.nn.Linear(10,4).to(\"cuda:0\")"
      ],
      "id": "4ddd96fb-29c5-4198-b1fb-dae5ed71084f"
    },
    {
      "cell_type": "code",
      "execution_count": 156,
      "metadata": {},
      "outputs": [],
      "source": [
        "loss_fn = torch.nn.CrossEntropyLoss() \n",
        "optimizr = torch.optim.Adam(list(lstm.parameters())+list(linr.parameters()),lr=0.1)"
      ],
      "id": "c597f035-46cc-4dee-b27a-4ff9b0878a8b"
    },
    {
      "cell_type": "code",
      "execution_count": 157,
      "metadata": {},
      "outputs": [],
      "source": [
        "for epoc in range(100):\n",
        "    ## 1 \n",
        "    hidden, _ = lstm(xx) \n",
        "    output = linr(hidden) \n",
        "    ## 2 \n",
        "    loss = loss_fn(output[:,0,:],yy[:,0,:]) + loss_fn(output[:,1,:],yy[:,1,:])\n",
        "    ## 3 \n",
        "    loss.backward() \n",
        "    ## 4 \n",
        "    optimizr.step()\n",
        "    optimizr.zero_grad()"
      ],
      "id": "bf810a3b-76ad-4b71-b541-85b7948bd07c"
    },
    {
      "cell_type": "markdown",
      "metadata": {},
      "source": [
        "첫번째 stzck 과 두번째 stack의 합\n",
        "\n",
        "``` python\n",
        "  loss = loss_fn(output[:,0,:],yy[:,0,:]) + loss_fn(output[:,1,:],yy[:,1,:])\n",
        "```"
      ],
      "id": "1a41085e-bb64-4795-9f03-af8cf28fc1f7"
    },
    {
      "cell_type": "code",
      "execution_count": 158,
      "metadata": {},
      "outputs": [
        {
          "output_type": "display_data",
          "metadata": {},
          "data": {
            "image/png": "[encoded data removed]"
          }
        }
      ],
      "source": [
        "fig , ax = plt.subplots(1,2) \n",
        "ax[0].matshow(soft(output[:,0,:]).to(\"cpu\").data,cmap='bwr',vmin=-1,vmax=1)\n",
        "ax[1].matshow(soft(output[:,1,:]).to(\"cpu\").data,cmap='bwr',vmin=-1,vmax=1)"
      ],
      "id": "1121e44c-653f-4807-b649-888dc655a40c"
    },
    {
      "cell_type": "markdown",
      "metadata": {},
      "source": [
        "xx로 학습한 것들인데 만약 x를 넣는다면?"
      ],
      "id": "51376d1e-f1e6-43b5-bac0-5bf30f16e092"
    },
    {
      "cell_type": "code",
      "execution_count": 159,
      "metadata": {},
      "outputs": [
        {
          "output_type": "display_data",
          "metadata": {},
          "data": {
            "image/png": "[encoded data removed]"
          }
        }
      ],
      "source": [
        "hidden, _ = lstm(x)\n",
        "plt.matshow(soft(linr(hidden)).to(\"cpu\").data,cmap='bwr',vmin=-1,vmax=1)"
      ],
      "id": "566cca1b-c4a6-422d-8e80-46a96c467cbe"
    },
    {
      "cell_type": "code",
      "execution_count": 162,
      "metadata": {},
      "outputs": [
        {
          "output_type": "display_data",
          "metadata": {},
          "data": {
            "image/png": "[encoded data removed]"
          }
        }
      ],
      "source": [
        "hidden, _ = lstm(x1)\n",
        "plt.matshow(soft(linr(hidden)).to(\"cpu\").data,cmap='bwr',vmin=-1,vmax=1)"
      ],
      "id": "2deb19a5-6c24-4c7e-b307-f16578256825"
    },
    {
      "cell_type": "code",
      "execution_count": 163,
      "metadata": {},
      "outputs": [
        {
          "output_type": "display_data",
          "metadata": {},
          "data": {
            "image/png": "[encoded data removed]"
          }
        }
      ],
      "source": [
        "hidden, _ = lstm(x2)\n",
        "plt.matshow(soft(linr(hidden)).to(\"cpu\").data,cmap='bwr',vmin=-1,vmax=1)"
      ],
      "id": "596286ac-001a-4ec6-bde4-1155957f16c5"
    },
    {
      "cell_type": "code",
      "execution_count": 160,
      "metadata": {},
      "outputs": [
        {
          "output_type": "display_data",
          "metadata": {},
          "data": {
            "text/plain": [
              "torch.Size([17, 10])"
            ]
          }
        }
      ],
      "source": [
        "hidden.shape"
      ],
      "id": "f8c62ac2-1f6a-4b36-aaf3-05374fb76d36"
    },
    {
      "cell_type": "code",
      "execution_count": 161,
      "metadata": {},
      "outputs": [
        {
          "output_type": "display_data",
          "metadata": {},
          "data": {
            "text/plain": [
              "torch.Size([17, 4])"
            ]
          }
        }
      ],
      "source": [
        "linr(hidden).shape"
      ],
      "id": "85fa442c-8ab5-411c-96d4-abc98c1abd03"
    },
    {
      "cell_type": "markdown",
      "metadata": {},
      "source": [
        "`-` 조각난 시계열로 학습한 경우는 hi!에서 hi?로 바뀔 수 없다. 왜냐햐면\n",
        "그러한 연결정보가 끊어져 있으니까\n",
        "\n",
        "## 재미있는 실험\n",
        "\n",
        "`-` x1만 배운다면?"
      ],
      "id": "1acab11a-055c-483e-8bca-c0e5b9578395"
    },
    {
      "cell_type": "code",
      "execution_count": 172,
      "metadata": {},
      "outputs": [],
      "source": [
        "torch.manual_seed(43052) \n",
        "lstm = torch.nn.LSTM(4,10).to(\"cuda:0\")\n",
        "linr = torch.nn.Linear(10,4).to(\"cuda:0\")"
      ],
      "id": "b7967176-dd2d-4d8b-a446-34e0a7e84da9"
    },
    {
      "cell_type": "code",
      "execution_count": 173,
      "metadata": {},
      "outputs": [],
      "source": [
        "loss_fn = torch.nn.CrossEntropyLoss() \n",
        "optimizr = torch.optim.Adam(list(lstm.parameters())+list(linr.parameters()),lr=0.1)"
      ],
      "id": "1d6848ed-b700-4c56-8ff9-4b08b07374aa"
    },
    {
      "cell_type": "code",
      "execution_count": 175,
      "metadata": {},
      "outputs": [],
      "source": [
        "for epoc in range(100):\n",
        "    ## 1 \n",
        "    hidden, _ = lstm(x1) \n",
        "    output = linr(hidden) \n",
        "    ## 2 \n",
        "    loss = loss_fn(output,y1)\n",
        "    ## 3 \n",
        "    loss.backward() \n",
        "    ## 4 \n",
        "    optimizr.step()\n",
        "    optimizr.zero_grad()"
      ],
      "id": "dbe5d5b5-6529-4688-b108-94d6f418770f"
    },
    {
      "cell_type": "code",
      "execution_count": 176,
      "metadata": {},
      "outputs": [
        {
          "output_type": "display_data",
          "metadata": {},
          "data": {
            "image/png": "[encoded data removed]"
          }
        }
      ],
      "source": [
        "hidden, _ = lstm(x2)\n",
        "plt.matshow(soft(linr(hidden)).to(\"cpu\").data,cmap='bwr',vmin=-1,vmax=1)"
      ],
      "id": "203579c4-9b22-48fe-92b0-950903491d83"
    },
    {
      "cell_type": "markdown",
      "metadata": {},
      "source": [
        "`-` x2만 배운다면?"
      ],
      "id": "6c074071-0fe5-4c8a-a8a7-cafe975d4a65"
    },
    {
      "cell_type": "code",
      "execution_count": 191,
      "metadata": {},
      "outputs": [],
      "source": [
        "torch.manual_seed(43052) \n",
        "lstm = torch.nn.LSTM(4,10).to(\"cuda:0\")\n",
        "linr = torch.nn.Linear(10,4).to(\"cuda:0\")"
      ],
      "id": "5c58f665-acca-46e4-9f10-3bf577f4b44c"
    },
    {
      "cell_type": "code",
      "execution_count": 192,
      "metadata": {},
      "outputs": [],
      "source": [
        "loss_fn = torch.nn.CrossEntropyLoss() \n",
        "optimizr = torch.optim.Adam(list(lstm.parameters())+list(linr.parameters()),lr=0.1)"
      ],
      "id": "5e69f783-b085-4c17-b0d4-be1746cba99a"
    },
    {
      "cell_type": "code",
      "execution_count": 193,
      "metadata": {},
      "outputs": [],
      "source": [
        "for epoc in range(100):\n",
        "    ## 1 \n",
        "    hidden, _ = lstm(x2) \n",
        "    output = linr(hidden) \n",
        "    ## 2 \n",
        "    loss = loss_fn(output,y2)\n",
        "    ## 3 \n",
        "    loss.backward() \n",
        "    ## 4 \n",
        "    optimizr.step()\n",
        "    optimizr.zero_grad()"
      ],
      "id": "a46f173c-99fe-41f0-8b29-01db3b56d097"
    },
    {
      "cell_type": "code",
      "execution_count": 195,
      "metadata": {},
      "outputs": [
        {
          "output_type": "display_data",
          "metadata": {},
          "data": {
            "image/png": "[encoded data removed]"
          }
        }
      ],
      "source": [
        "hidden, _ = lstm(x1)\n",
        "plt.matshow(soft(linr(hidden)).to(\"cpu\").data,cmap='bwr',vmin=-1,vmax=1)"
      ],
      "id": "1cc133d6-4e02-4650-976f-9bbb82bfea38"
    },
    {
      "cell_type": "markdown",
      "metadata": {},
      "source": [
        "# 똑같은 코드들 fastai, pytorch\n",
        "\n",
        "## data: human numbers 5"
      ],
      "id": "2cd7b8de-d5e5-4d15-a954-720c369c03cd"
    },
    {
      "cell_type": "code",
      "execution_count": 196,
      "metadata": {},
      "outputs": [],
      "source": [
        "txt = (['one',',','two',',','three',',','four',',','five',',']*100)[:-1]"
      ],
      "id": "799b5b27-2003-48b5-8917-4ef4ae55eef7"
    },
    {
      "cell_type": "code",
      "execution_count": 197,
      "metadata": {},
      "outputs": [
        {
          "output_type": "display_data",
          "metadata": {},
          "data": {
            "text/plain": [
              "{',': 0, 'one': 1, 'two': 2, 'three': 3, 'four': 4, 'five': 5}"
            ]
          }
        }
      ],
      "source": [
        "mapping = {',':0, 'one':1, 'two':2, 'three':3, 'four':4, 'five':5} \n",
        "mapping"
      ],
      "id": "a454c3b8-ab67-4232-918c-25712c6beef8"
    },
    {
      "cell_type": "code",
      "execution_count": 198,
      "metadata": {},
      "outputs": [],
      "source": [
        "txt_x = txt[:-1]\n",
        "txt_y = txt[1:] "
      ],
      "id": "c4969d76-09e8-4adc-a9bf-dd7ccf20402b"
    },
    {
      "cell_type": "code",
      "execution_count": 199,
      "metadata": {},
      "outputs": [
        {
          "output_type": "display_data",
          "metadata": {},
          "data": {
            "text/plain": [
              "(['one', ',', 'two', ',', 'three'], [',', 'two', ',', 'three', ','])"
            ]
          }
        }
      ],
      "source": [
        "txt_x[0:5], txt_y[0:5]"
      ],
      "id": "420e48e2-3a46-481b-be94-cdddce2568d7"
    },
    {
      "cell_type": "code",
      "execution_count": 200,
      "metadata": {},
      "outputs": [],
      "source": [
        "x = torch.nn.functional.one_hot(torch.tensor(f(txt_x,mapping))).float().to(\"cuda:0\")\n",
        "y = torch.nn.functional.one_hot(torch.tensor(f(txt_y,mapping))).float().to(\"cuda:0\")"
      ],
      "id": "f84f932c-3c60-4181-981d-134351002968"
    },
    {
      "cell_type": "markdown",
      "metadata": {},
      "source": [
        "## fastai 이용한 learn\n",
        "\n",
        "``` python\n",
        "dl1 = torch.utils.data.DataLoader(ds1,batch_size=998)\n",
        "```\n",
        "\n",
        "한 뭉치에 몇 개 있는지\n",
        "\n",
        "``` python\n",
        "torch.nn.LSTM(batxh_size)\n",
        "```\n",
        "\n",
        "몇 개로 나눠져 있는지"
      ],
      "id": "ebbf5a18-9f60-4a66-83c8-96fdce4f1446"
    },
    {
      "cell_type": "code",
      "execution_count": 215,
      "metadata": {},
      "outputs": [],
      "source": [
        "ds1 = torch.utils.data.TensorDataset(x,y)\n",
        "ds2 = torch.utils.data.TensorDataset(x,y) # dummy \n",
        "dl1 = torch.utils.data.DataLoader(ds1,batch_size=998)\n",
        "dl2 = torch.utils.data.DataLoader(ds2,batch_size=998) # dummy \n",
        "dls = DataLoaders(dl1,dl2) "
      ],
      "id": "d2a5be73-1306-4354-aa93-5b1ef073f8a9"
    },
    {
      "cell_type": "code",
      "execution_count": 216,
      "metadata": {},
      "outputs": [],
      "source": [
        "class MyLSTM(torch.nn.Module):\n",
        "    def __init__(self):\n",
        "        super().__init__()\n",
        "        torch.manual_seed(43052)\n",
        "        self.lstm = torch.nn.LSTM(6,20)\n",
        "        self.linr = torch.nn.Linear(20,6) \n",
        "    def forward(self,x):\n",
        "        _water = torch.zeros(1,20).to(\"cuda:0\")\n",
        "        hidden, (hT,cT) =self.lstm(x,(_water,_water))\n",
        "        output = self.linr(hidden)\n",
        "        return output         "
      ],
      "id": "74e09147-2c21-4603-a6a9-ddb77c493473"
    },
    {
      "cell_type": "code",
      "execution_count": 217,
      "metadata": {},
      "outputs": [],
      "source": [
        "net = MyLSTM().to(\"cuda:0\")\n",
        "loss_fn = torch.nn.CrossEntropyLoss()"
      ],
      "id": "4ebde9ca-4b46-48fb-907e-e3080c273fd7"
    },
    {
      "cell_type": "code",
      "execution_count": 218,
      "metadata": {},
      "outputs": [],
      "source": [
        "lrnr = Learner(dls,net,loss_fn,lr=0.1)"
      ],
      "id": "db69b84b-830e-448b-b6b0-d31d32cab381"
    },
    {
      "cell_type": "code",
      "execution_count": 219,
      "metadata": {},
      "outputs": [
        {
          "output_type": "display_data",
          "metadata": {},
          "data": {
            "text/html": [
              "\n",
              "<style>\n",
              "    /* Turns off some styling */\n",
              "    progress {\n",
              "        /* gets rid of default border in Firefox and Opera. */\n",
              "        border: none;\n",
              "        /* Needs to be in here for Safari polyfill so background images work as expected. */\n",
              "        background-size: auto;\n",
              "    }\n",
              "    progress:not([value]), progress:not([value])::-webkit-progress-bar {\n",
              "        background: repeating-linear-gradient(45deg, #7e7e7e, #7e7e7e 10px, #5c5c5c 10px, #5c5c5c 20px);\n",
              "    }\n",
              "    .progress-bar-interrupted, .progress-bar-interrupted::-webkit-progress-bar {\n",
              "        background: #F44336;\n",
              "    }\n",
              "</style>"
            ]
          }
        },
        {
          "output_type": "display_data",
          "metadata": {},
          "data": {}
        }
      ],
      "source": [
        "lrnr.fit(10)"
      ],
      "id": "87368618-3ccc-4952-a1ca-d0c5fc74b047"
    },
    {
      "cell_type": "code",
      "execution_count": 220,
      "metadata": {},
      "outputs": [
        {
          "output_type": "display_data",
          "metadata": {},
          "data": {
            "text/plain": [
              "array([[0.935, 0.009, 0.015, 0.011, 0.016, 0.014],\n",
              "       [0.133, 0.164, 0.242, 0.172, 0.141, 0.147],\n",
              "       [0.982, 0.003, 0.004, 0.003, 0.004, 0.003],\n",
              "       ...,\n",
              "       [0.122, 0.171, 0.242, 0.174, 0.146, 0.144],\n",
              "       [0.984, 0.003, 0.004, 0.002, 0.004, 0.003],\n",
              "       [0.119, 0.172, 0.244, 0.175, 0.144, 0.145]], dtype=float32)"
            ]
          }
        }
      ],
      "source": [
        "soft(lrnr.model(x)).data.to(\"cpu\").numpy().round(3)"
      ],
      "id": "db3ce353-7f46-4480-b17a-a8ea07d54808"
    },
    {
      "cell_type": "markdown",
      "metadata": {},
      "source": [
        "## torch를 이용한 learn"
      ],
      "id": "4cbdfbc4-e4ef-4647-b29c-57f9aa580d34"
    },
    {
      "cell_type": "code",
      "execution_count": 230,
      "metadata": {},
      "outputs": [],
      "source": [
        "torch.manual_seed(43052) \n",
        "lstm = torch.nn.LSTM(6,20).to(\"cuda:0\") \n",
        "linr = torch.nn.Linear(20,6).to(\"cuda:0\") \n",
        "loss_fn = torch.nn.CrossEntropyLoss()\n",
        "optimizr = Adam(list(lstm.parameters())+list(linr.parameters()),lr=0.1)"
      ],
      "id": "bb2fe5e3-10d7-4e86-9fb0-888af83459cb"
    },
    {
      "cell_type": "markdown",
      "metadata": {},
      "source": [
        "optim으로 adam 사용"
      ],
      "id": "03f85252-8a26-484f-8340-44fb39d7be79"
    },
    {
      "cell_type": "code",
      "execution_count": 231,
      "metadata": {
        "tags": []
      },
      "outputs": [],
      "source": [
        "for epoc in range(10):\n",
        "    ## 1 \n",
        "    hidden, _ = lstm(x)\n",
        "    output = linr(hidden) \n",
        "    ## 2 \n",
        "    loss = loss_fn(output,y) \n",
        "    ## 3 \n",
        "    loss.backward()\n",
        "    ## 4 \n",
        "    optimizr.step()\n",
        "    optimizr.zero_grad()     "
      ],
      "id": "7f47e3f7-aa14-427f-b577-ac94ea538d2e"
    },
    {
      "cell_type": "code",
      "execution_count": 232,
      "metadata": {},
      "outputs": [
        {
          "output_type": "display_data",
          "metadata": {},
          "data": {
            "text/plain": [
              "array([[0.935, 0.009, 0.015, 0.011, 0.016, 0.014],\n",
              "       [0.133, 0.164, 0.242, 0.172, 0.141, 0.147],\n",
              "       [0.982, 0.003, 0.004, 0.003, 0.004, 0.003],\n",
              "       ...,\n",
              "       [0.122, 0.171, 0.242, 0.174, 0.146, 0.144],\n",
              "       [0.984, 0.003, 0.004, 0.002, 0.004, 0.003],\n",
              "       [0.119, 0.172, 0.244, 0.175, 0.145, 0.145]], dtype=float32)"
            ]
          }
        }
      ],
      "source": [
        "hidden, _ = lstm(x)\n",
        "output = linr(hidden) \n",
        "soft(output).data.to(\"cpu\").numpy().round(3)"
      ],
      "id": "b8b4b79b-60d2-452d-85c4-3951d84a47e2"
    },
    {
      "cell_type": "markdown",
      "metadata": {},
      "source": [
        "# human numbers 100"
      ],
      "id": "df7ba214-3b1c-499f-80b8-e2c8cefc6776"
    },
    {
      "cell_type": "code",
      "execution_count": 789,
      "metadata": {},
      "outputs": [
        {
          "output_type": "display_data",
          "metadata": {},
          "data": {
            "text/html": [
              "\n",
              "<p>2000 rows × 1 columns</p>\n",
              "</div>"
            ]
          }
        }
      ],
      "source": [
        "df = pd.read_csv('https://raw.githubusercontent.com/guebin/DL2022/main/posts/IV.%20RNN/2022-11-25-human_numbers_100.csv')\n",
        "df"
      ],
      "id": "06972181-8dda-4ea4-a9ae-0f6550b2960a"
    },
    {
      "cell_type": "markdown",
      "metadata": {},
      "source": [
        "`(1)` TextDataLoaders.from_df을 이용하여 dls오브젝트를 만들어라. - is_lm\n",
        "= True 로 설정할 것 - seq_len = 5 로 설정할 것\n",
        "\n",
        "(풀이)"
      ],
      "id": "91affc74-b5fd-4e72-9cfd-985b8e2c8b88"
    },
    {
      "cell_type": "code",
      "execution_count": 791,
      "metadata": {},
      "outputs": [
        {
          "output_type": "display_data",
          "metadata": {},
          "data": {
            "text/html": [
              "\n",
              "<style>\n",
              "    /* Turns off some styling */\n",
              "    progress {\n",
              "        /* gets rid of default border in Firefox and Opera. */\n",
              "        border: none;\n",
              "        /* Needs to be in here for Safari polyfill so background images work as expected. */\n",
              "        background-size: auto;\n",
              "    }\n",
              "    progress:not([value]), progress:not([value])::-webkit-progress-bar {\n",
              "        background: repeating-linear-gradient(45deg, #7e7e7e, #7e7e7e 10px, #5c5c5c 10px, #5c5c5c 20px);\n",
              "    }\n",
              "    .progress-bar-interrupted, .progress-bar-interrupted::-webkit-progress-bar {\n",
              "        background: #F44336;\n",
              "    }\n",
              "</style>"
            ]
          }
        },
        {
          "output_type": "display_data",
          "metadata": {},
          "data": {
            "text/html": []
          }
        },
        {
          "output_type": "display_data",
          "metadata": {},
          "data": {}
        }
      ],
      "source": [
        "dls = TextDataLoaders.from_df(df,is_lm=True,seq_len=5,text_col='text')\n",
        "dls.show_batch()"
      ],
      "id": "91dea40d-2200-43a3-bfce-4d361a4626fe"
    },
    {
      "cell_type": "markdown",
      "metadata": {},
      "source": [
        "`(2)` lrnr 오브젝트를 만들어라. - arch = AWD_LSTM 이용 - metrics =\n",
        "accuracy 이용\n",
        "\n",
        "(풀이)"
      ],
      "id": "a32ffa08-f84d-47b5-94b6-b6b86b30eba1"
    },
    {
      "cell_type": "code",
      "execution_count": 51,
      "metadata": {},
      "outputs": [],
      "source": [
        "lrnr = language_model_learner(dls, arch= AWD_LSTM, metrics=accuracy)"
      ],
      "id": "42341152-d37a-46af-9fbd-ab6a56d8e6c5"
    },
    {
      "cell_type": "markdown",
      "metadata": {},
      "source": [
        "`(3)` lrnr오브젝트에서 fine_tune(3) 메소드를 이용하여 모형을 학습하라.\n",
        "\n",
        "(풀이)"
      ],
      "id": "2fae4e47-86c4-4549-befc-74b334f97e6a"
    },
    {
      "cell_type": "code",
      "execution_count": 53,
      "metadata": {},
      "outputs": [
        {
          "output_type": "display_data",
          "metadata": {},
          "data": {
            "text/html": [
              "\n",
              "<style>\n",
              "    /* Turns off some styling */\n",
              "    progress {\n",
              "        /* gets rid of default border in Firefox and Opera. */\n",
              "        border: none;\n",
              "        /* Needs to be in here for Safari polyfill so background images work as expected. */\n",
              "        background-size: auto;\n",
              "    }\n",
              "    progress:not([value]), progress:not([value])::-webkit-progress-bar {\n",
              "        background: repeating-linear-gradient(45deg, #7e7e7e, #7e7e7e 10px, #5c5c5c 10px, #5c5c5c 20px);\n",
              "    }\n",
              "    .progress-bar-interrupted, .progress-bar-interrupted::-webkit-progress-bar {\n",
              "        background: #F44336;\n",
              "    }\n",
              "</style>"
            ]
          }
        },
        {
          "output_type": "display_data",
          "metadata": {},
          "data": {}
        },
        {
          "output_type": "display_data",
          "metadata": {},
          "data": {
            "text/html": [
              "\n",
              "<style>\n",
              "    /* Turns off some styling */\n",
              "    progress {\n",
              "        /* gets rid of default border in Firefox and Opera. */\n",
              "        border: none;\n",
              "        /* Needs to be in here for Safari polyfill so background images work as expected. */\n",
              "        background-size: auto;\n",
              "    }\n",
              "    progress:not([value]), progress:not([value])::-webkit-progress-bar {\n",
              "        background: repeating-linear-gradient(45deg, #7e7e7e, #7e7e7e 10px, #5c5c5c 10px, #5c5c5c 20px);\n",
              "    }\n",
              "    .progress-bar-interrupted, .progress-bar-interrupted::-webkit-progress-bar {\n",
              "        background: #F44336;\n",
              "    }\n",
              "</style>"
            ]
          }
        },
        {
          "output_type": "display_data",
          "metadata": {},
          "data": {}
        }
      ],
      "source": [
        "lrnr.fine_tune(3)"
      ],
      "id": "b9e467c1-b545-4f03-b16a-d88e302481de"
    },
    {
      "cell_type": "markdown",
      "metadata": {},
      "source": [
        "`(4)` ‘one , two ,’ 이후에 이어질 50개의 단어를 생성하라.\n",
        "\n",
        "(풀이)"
      ],
      "id": "71a74a6e-d2ca-4ebf-aab6-2219bf0be11d"
    },
    {
      "cell_type": "code",
      "execution_count": 56,
      "metadata": {},
      "outputs": [
        {
          "output_type": "display_data",
          "metadata": {},
          "data": {
            "text/html": [
              "\n",
              "<style>\n",
              "    /* Turns off some styling */\n",
              "    progress {\n",
              "        /* gets rid of default border in Firefox and Opera. */\n",
              "        border: none;\n",
              "        /* Needs to be in here for Safari polyfill so background images work as expected. */\n",
              "        background-size: auto;\n",
              "    }\n",
              "    progress:not([value]), progress:not([value])::-webkit-progress-bar {\n",
              "        background: repeating-linear-gradient(45deg, #7e7e7e, #7e7e7e 10px, #5c5c5c 10px, #5c5c5c 20px);\n",
              "    }\n",
              "    .progress-bar-interrupted, .progress-bar-interrupted::-webkit-progress-bar {\n",
              "        background: #F44336;\n",
              "    }\n",
              "</style>"
            ]
          }
        },
        {
          "output_type": "display_data",
          "metadata": {},
          "data": {
            "text/html": []
          }
        },
        {
          "output_type": "display_data",
          "metadata": {},
          "data": {
            "text/plain": [
              "'one , two , three , four , five , six , seven , eight , nine , ten , eleven , twelve , thirteen , fourteen , fifteen , sixteen , seventeen , eighteen , nineteen , twenty , twenty one , twenty two , twenty three , twenty four , twenty five'"
            ]
          }
        }
      ],
      "source": [
        "lrnr.predict('one, two,', n_words=50) "
      ],
      "id": "50315363-3d14-413b-86ea-ba10222b0bef"
    },
    {
      "cell_type": "markdown",
      "metadata": {},
      "source": [
        "`(5)` ‘twenty , twenty one ,’ 이후에 이어질 50개의 단어를 생성하라.\n",
        "\n",
        "(풀이)"
      ],
      "id": "05ac70ca-531d-416e-87dc-dbab8000c012"
    },
    {
      "cell_type": "code",
      "execution_count": 57,
      "metadata": {},
      "outputs": [
        {
          "output_type": "display_data",
          "metadata": {},
          "data": {
            "text/html": [
              "\n",
              "<style>\n",
              "    /* Turns off some styling */\n",
              "    progress {\n",
              "        /* gets rid of default border in Firefox and Opera. */\n",
              "        border: none;\n",
              "        /* Needs to be in here for Safari polyfill so background images work as expected. */\n",
              "        background-size: auto;\n",
              "    }\n",
              "    progress:not([value]), progress:not([value])::-webkit-progress-bar {\n",
              "        background: repeating-linear-gradient(45deg, #7e7e7e, #7e7e7e 10px, #5c5c5c 10px, #5c5c5c 20px);\n",
              "    }\n",
              "    .progress-bar-interrupted, .progress-bar-interrupted::-webkit-progress-bar {\n",
              "        background: #F44336;\n",
              "    }\n",
              "</style>"
            ]
          }
        },
        {
          "output_type": "display_data",
          "metadata": {},
          "data": {
            "text/html": []
          }
        },
        {
          "output_type": "display_data",
          "metadata": {},
          "data": {
            "text/plain": [
              "'twenty , twenty one , twenty two , twenty three , twenty four , twenty five , twenty six , twenty seven , twenty eight , twenty nine , thirty , thirty one , thirty two , thirty three , thirty four , thirty five , thirty six , thirty seven , thirty eight ,'"
            ]
          }
        }
      ],
      "source": [
        "lrnr.predict('twenty, twenty one,', n_words=50) "
      ],
      "id": "5a3320ad-c8b8-4926-b1d1-d84f26fdc708"
    }
  ],
  "nbformat": 4,
  "nbformat_minor": 5,
  "metadata": {
    "kernelspec": {
      "name": "python3",
      "display_name": "Python 3 (ipykernel)",
      "language": "python"
    },
    "language_info": {
      "name": "python",
      "codemirror_mode": {
        "name": "ipython",
        "version": "3"
      },
      "file_extension": ".py",
      "mimetype": "text/x-python",
      "nbconvert_exporter": "python",
      "pygments_lexer": "ipython3",
      "version": "3.8.12"
    }
  }
}