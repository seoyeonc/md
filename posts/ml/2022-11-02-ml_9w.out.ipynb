{
  "cells": [
    {
      "cell_type": "markdown",
      "metadata": {},
      "source": [
        "# RNN (9주차)\n",
        "\n",
        "SEOYEON CHOI  \n",
        "2022-11-02\n",
        "\n",
        "기계학습 특강 (9주차) 11월02일 \\[순환신경망– ab예제, embedding layer\\]\n",
        "\n",
        "## import"
      ],
      "id": "89b5300d-405f-46a1-bb84-f86ecf1e5432"
    },
    {
      "cell_type": "code",
      "execution_count": 5,
      "metadata": {},
      "outputs": [],
      "source": [
        "import torch\n",
        "import pandas as pd\n",
        "import matplotlib.pyplot as plt"
      ],
      "id": "d659a70a-0787-4b44-9f4d-cfd3229de778"
    },
    {
      "cell_type": "markdown",
      "metadata": {},
      "source": [
        "## Define some funtions\n",
        "\n",
        "`-` 활성화함수들"
      ],
      "id": "1b3a6e87-0bb8-4601-af35-da82f0d0651d"
    },
    {
      "cell_type": "code",
      "execution_count": 6,
      "metadata": {},
      "outputs": [],
      "source": [
        "sig = torch.nn.Sigmoid()\n",
        "soft = torch.nn.Softmax(dim=1)\n",
        "tanh = torch.nn.Tanh()"
      ],
      "id": "0b484a5d-6a33-4185-9207-021c75e63be0"
    },
    {
      "cell_type": "code",
      "execution_count": 7,
      "metadata": {
        "outputId": "829ef65b-a891-4ca0-e9a2-768cd0a28fea"
      },
      "outputs": [
        {
          "output_type": "display_data",
          "metadata": {},
          "data": {
            "text/plain": [
              "Text(0.5, 1.0, 'tanh(x)')"
            ]
          }
        },
        {
          "output_type": "display_data",
          "metadata": {},
          "data": {
            "image/png": "[encoded data removed]"
          }
        }
      ],
      "source": [
        "_x = torch.linspace(-5,5,100)\n",
        "plt.plot(_x,tanh(_x))\n",
        "plt.title(\"tanh(x)\", size=15)"
      ],
      "id": "f803d01f-9e6b-4d37-a11a-0236e1d92122"
    },
    {
      "cell_type": "markdown",
      "metadata": {},
      "source": [
        "hyperblic tangent(https://en.wikipedia.org/wiki/Hyperbolic_functions) -\n",
        "sigmoid(범위가0 ~ 1)와 차이점(범위가 -1 ~ 1)\n",
        "\n",
        "`-` 문자열 -\\> 숫자로 바꾸는 함수"
      ],
      "id": "db63dd72-b19f-4e84-8e55-c11190249647"
    },
    {
      "cell_type": "code",
      "execution_count": 11,
      "metadata": {},
      "outputs": [],
      "source": [
        "def f(txt,mapping):\n",
        "    return [mapping[key] for key in txt] "
      ],
      "id": "1ab88425-9f1e-47ef-8e66-d81d9705726b"
    },
    {
      "cell_type": "markdown",
      "metadata": {},
      "source": [
        "(사용예시1)"
      ],
      "id": "be1de5d1-0f7d-4ff4-9693-9df63fcda202"
    },
    {
      "cell_type": "code",
      "execution_count": 12,
      "metadata": {
        "outputId": "828d13ec-cf8a-4788-986b-0691a66272ca"
      },
      "outputs": [
        {
          "output_type": "stream",
          "name": "stdout",
          "text": [
            "변환전: ['a', 'b', 'a']\n",
            "변환후: [33, -22, 33]"
          ]
        }
      ],
      "source": [
        "txt = ['a','b','a']\n",
        "mapping = {'a':33,'b':-22}\n",
        "print('변환전: %s'% txt)\n",
        "print('변환후: %s'% f(txt,mapping))"
      ],
      "id": "cda7bd1d-4b70-4073-8580-e502515669e7"
    },
    {
      "cell_type": "markdown",
      "metadata": {},
      "source": [
        "(사용예시2)"
      ],
      "id": "dfad8f57-51ad-4065-9d7d-d1d650d9f349"
    },
    {
      "cell_type": "code",
      "execution_count": 13,
      "metadata": {
        "outputId": "dfc29b42-ab60-4f52-df14-63e0fd01f2e2"
      },
      "outputs": [
        {
          "output_type": "stream",
          "name": "stdout",
          "text": [
            "변환전: ['a', 'b', 'a']\n",
            "변환후: [[1, 0], [0, 1], [1, 0]]"
          ]
        }
      ],
      "source": [
        "txt = ['a','b','a']\n",
        "mapping = {'a':[1,0],'b':[0,1]}\n",
        "print('변환전: %s'% txt)\n",
        "print('변환후: %s'% f(txt,mapping))"
      ],
      "id": "cf16051b-dc45-456a-ad16-2c73e8d0344b"
    },
    {
      "cell_type": "markdown",
      "metadata": {},
      "source": [
        "## Exam1: ab\n",
        "\n",
        "### data"
      ],
      "id": "8f2e0c9a-fef0-49eb-8198-df672b66e270"
    },
    {
      "cell_type": "code",
      "execution_count": 14,
      "metadata": {
        "outputId": "876f8b4c-0c5b-40c8-c5f8-ff7f64de2eec"
      },
      "outputs": [
        {
          "output_type": "display_data",
          "metadata": {},
          "data": {
            "text/plain": [
              "['a', 'b', 'a', 'b', 'a', 'b', 'a', 'b', 'a', 'b']"
            ]
          }
        }
      ],
      "source": [
        "txt = list('ab')*100\n",
        "txt[:10]"
      ],
      "id": "57f00d79-bcbb-4228-b8c6-c061aad1db63"
    },
    {
      "cell_type": "code",
      "execution_count": 15,
      "metadata": {},
      "outputs": [],
      "source": [
        "txt_x = txt[:-1]\n",
        "txt_y = txt[1:]"
      ],
      "id": "1550b90c-b546-4200-a90e-789bdd7d7f65"
    },
    {
      "cell_type": "code",
      "execution_count": 16,
      "metadata": {
        "outputId": "4fed8299-c9c3-4641-ba9b-68dafedccdab"
      },
      "outputs": [
        {
          "output_type": "display_data",
          "metadata": {},
          "data": {
            "text/plain": [
              "(['a', 'b', 'a', 'b', 'a'], ['b', 'a', 'b', 'a', 'b'])"
            ]
          }
        }
      ],
      "source": [
        "txt_x[:5],txt_y[:5]"
      ],
      "id": "eb6a094e-ee9f-4f06-b384-3d486a4b43b8"
    },
    {
      "cell_type": "markdown",
      "metadata": {},
      "source": [
        "### 선형모형을 이용한 풀이\n",
        "\n",
        "#### ***(풀이1) 1개의 파라메터 – 실패***\n",
        "\n",
        "`-` 데이터정리"
      ],
      "id": "2b613852-0dfc-4617-b324-a50e1c0b1da3"
    },
    {
      "cell_type": "code",
      "execution_count": 17,
      "metadata": {},
      "outputs": [],
      "source": [
        "x = torch.tensor(f(txt_x,{'a':0,'b':1})).float().reshape(-1,1)\n",
        "y = torch.tensor(f(txt_y,{'a':0,'b':1})).float().reshape(-1,1)"
      ],
      "id": "97a17769-a4ce-4e83-9d7c-7f932464249f"
    },
    {
      "cell_type": "code",
      "execution_count": 11,
      "metadata": {
        "outputId": "41145b2c-1fb7-4d0f-b04a-04ac08cf6c7a"
      },
      "outputs": [
        {
          "output_type": "display_data",
          "metadata": {},
          "data": {
            "text/plain": [
              "(tensor([[0.],\n",
              "         [1.],\n",
              "         [0.],\n",
              "         [1.],\n",
              "         [0.]]),\n",
              " tensor([[1.],\n",
              "         [0.],\n",
              "         [1.],\n",
              "         [0.],\n",
              "         [1.]]))"
            ]
          }
        }
      ],
      "source": [
        "x[:5],y[:5]"
      ],
      "id": "0d0a4184-9e4e-4e3a-9705-ce95ade1dd8b"
    },
    {
      "cell_type": "markdown",
      "metadata": {},
      "source": [
        "`-` 학습 및 결과 시각화"
      ],
      "id": "11150d17-843a-4202-8e90-ced19ec743fd"
    },
    {
      "cell_type": "code",
      "execution_count": 12,
      "metadata": {},
      "outputs": [],
      "source": [
        "net = torch.nn.Linear(in_features=1,out_features=1,bias=False)\n",
        "loss_fn = torch.nn.MSELoss()\n",
        "optimizr = torch.optim.Adam(net.parameters())"
      ],
      "id": "b2e8b79d-6031-4e4e-a6f2-9304df4063fc"
    },
    {
      "cell_type": "code",
      "execution_count": 13,
      "metadata": {},
      "outputs": [],
      "source": [
        "for epoc in range(5000):\n",
        "    ## 1\n",
        "    yhat = net(x) \n",
        "    ## 2 \n",
        "    loss = loss_fn(yhat,y)\n",
        "    ## 3 \n",
        "    loss.backward()\n",
        "    ## 4 \n",
        "    optimizr.step()\n",
        "    optimizr.zero_grad()"
      ],
      "id": "d7150914-376c-4fed-a1b1-e0e60f730556"
    },
    {
      "cell_type": "code",
      "execution_count": 14,
      "metadata": {
        "outputId": "e1222493-fc3d-4faf-dc0e-9859fce44e88"
      },
      "outputs": [
        {
          "output_type": "display_data",
          "metadata": {},
          "data": {
            "image/png": "[encoded data removed]"
          }
        }
      ],
      "source": [
        "plt.plot(y[:5],'o')\n",
        "plt.plot(net(x).data[:5])"
      ],
      "id": "8db2a7d6-f6ad-47f0-9c72-34045c3901cd"
    },
    {
      "cell_type": "markdown",
      "metadata": {},
      "source": [
        "-   잘 학습이 안되었다.\n",
        "\n",
        "`-` 학습이 잘 안된 이유"
      ],
      "id": "11c57d7b-5c24-4ff6-872d-60e3dff8f0c1"
    },
    {
      "cell_type": "code",
      "execution_count": 15,
      "metadata": {
        "outputId": "03d57b6c-8022-4565-9296-df7170513ae7"
      },
      "outputs": [
        {
          "output_type": "display_data",
          "metadata": {},
          "data": {
            "text/html": [
              "\n",
              "</div>"
            ]
          }
        }
      ],
      "source": [
        "pd.DataFrame({'x':x[:5].reshape(-1),'y':y[:5].reshape(-1)})"
      ],
      "id": "4064af2b-5fd1-42cd-950d-892cbe15dd80"
    },
    {
      "cell_type": "markdown",
      "metadata": {},
      "source": [
        "현재 $\\hat{y}_i = \\hat{w}x_i$ 꼴의 아키텍처이고 $y_i \\approx \\hat{w}x_i$\n",
        "가 되는 적당한 $\\hat{w}$를 찾아야 하는 상황 - $(x_i,y_i)=(0,1)$ 이면\n",
        "어떠한 $\\hat{w}$를 선택해도 $y_i \\approx \\hat{w}x_i$를 만드는 것이\n",
        "불가능  \n",
        "- $(x_i,y_i)=(1,0)$ 이면 $\\hat{w}=0$일 경우 $y_i \\approx \\hat{w}x_i$로\n",
        "만드는 것이 가능\n",
        "\n",
        "상황을 종합해보니 $\\hat{w}=0$으로 학습되는 것이 그나마 최선\n",
        "\n",
        "0에 무엇을 곱하든 0이 되어서 학습이 안 돼\n",
        "\n",
        "#### ***(풀이2) 1개의 파라메터 – 성공, but 확장성이 없는 풀이***\n",
        "\n",
        "`-` 0이라는 값이 문제가 되므로 인코딩방식의 변경"
      ],
      "id": "78941ede-678d-4807-9284-452f5739cc58"
    },
    {
      "cell_type": "code",
      "execution_count": 16,
      "metadata": {},
      "outputs": [],
      "source": [
        "x = torch.tensor(f(txt_x,{'a':-1,'b':1})).float().reshape(-1,1) \n",
        "y = torch.tensor(f(txt_y,{'a':-1,'b':1})).float().reshape(-1,1)"
      ],
      "id": "01784e97-2b06-4495-a028-ec7c129579a9"
    },
    {
      "cell_type": "code",
      "execution_count": 17,
      "metadata": {
        "outputId": "eee94fba-cffa-4b0b-cefb-5cf099c8e207"
      },
      "outputs": [
        {
          "output_type": "display_data",
          "metadata": {},
          "data": {
            "text/plain": [
              "(tensor([[-1.],\n",
              "         [ 1.],\n",
              "         [-1.],\n",
              "         [ 1.],\n",
              "         [-1.]]),\n",
              " tensor([[ 1.],\n",
              "         [-1.],\n",
              "         [ 1.],\n",
              "         [-1.],\n",
              "         [ 1.]]))"
            ]
          }
        }
      ],
      "source": [
        "x[:5],y[:5]"
      ],
      "id": "d968c60c-57c9-49a5-86ce-52cfa6a5bb3d"
    },
    {
      "cell_type": "code",
      "execution_count": 18,
      "metadata": {},
      "outputs": [],
      "source": [
        "net = torch.nn.Linear(in_features=1,out_features=1,bias=False)\n",
        "loss_fn = torch.nn.MSELoss()\n",
        "optimizr = torch.optim.Adam(net.parameters())"
      ],
      "id": "79441c58-1aff-4d51-83fe-46135843a68b"
    },
    {
      "cell_type": "code",
      "execution_count": 19,
      "metadata": {},
      "outputs": [],
      "source": [
        "for epoc in range(2000):\n",
        "    ## 1\n",
        "    yhat = net(x) \n",
        "    ## 2 \n",
        "    loss = loss_fn(yhat,y)\n",
        "    ## 3 \n",
        "    loss.backward()\n",
        "    ## 4 \n",
        "    optimizr.step()\n",
        "    optimizr.zero_grad()"
      ],
      "id": "a33f2e8a-a7d6-4b47-8171-434c9e9aa48f"
    },
    {
      "cell_type": "markdown",
      "metadata": {},
      "source": [
        "`-` 결과는 성공"
      ],
      "id": "4f21e0ff-388f-467b-9f41-e396e7b4ba2a"
    },
    {
      "cell_type": "code",
      "execution_count": 20,
      "metadata": {
        "outputId": "66053dce-673e-4baf-9d68-7fc0b4a006d3"
      },
      "outputs": [
        {
          "output_type": "display_data",
          "metadata": {},
          "data": {
            "image/png": "[encoded data removed]"
          }
        }
      ],
      "source": [
        "plt.plot(y[:5],'o')\n",
        "plt.plot(net(x).data[:5])"
      ],
      "id": "15f7c281-8fce-4b62-8ba8-af1e40ea5e7f"
    },
    {
      "cell_type": "markdown",
      "metadata": {},
      "source": [
        "-   딱봐도 클래스가 3개일 경우 확장이 어려워 보인다.\n",
        "\n",
        "원핫인코딩해줘야 좋은데 그러면 마지막 무조건 softmax 그러면 loss는\n",
        "BCELoss\n",
        "\n",
        "### 로지스틱 모형을 이용한 풀이\n",
        "\n",
        "#### ***(풀이1) 1개의 파라메터 – 실패***\n",
        "\n",
        "`-` 데이터를 다시 a=0, b=1로 정리"
      ],
      "id": "88ce67dd-39cd-4c73-b260-4ef895a8d354"
    },
    {
      "cell_type": "code",
      "execution_count": 21,
      "metadata": {},
      "outputs": [],
      "source": [
        "mapping = {'a':0,'b':1}\n",
        "x = torch.tensor(f(txt_x,mapping)).float().reshape(-1,1)\n",
        "y = torch.tensor(f(txt_y,mapping)).float().reshape(-1,1)"
      ],
      "id": "81773a8d-91b8-45f7-9d27-e6e741e1bb13"
    },
    {
      "cell_type": "code",
      "execution_count": 22,
      "metadata": {
        "outputId": "e3e71e6c-9cd1-438d-ca00-921735a5f5b1"
      },
      "outputs": [
        {
          "output_type": "display_data",
          "metadata": {},
          "data": {
            "text/plain": [
              "(tensor([[0.],\n",
              "         [1.],\n",
              "         [0.],\n",
              "         [1.],\n",
              "         [0.]]),\n",
              " tensor([[1.],\n",
              "         [0.],\n",
              "         [1.],\n",
              "         [0.],\n",
              "         [1.]]))"
            ]
          }
        }
      ],
      "source": [
        "x[:5],y[:5]"
      ],
      "id": "512372fc-2a66-4361-8e99-428722bfa67b"
    },
    {
      "cell_type": "markdown",
      "metadata": {},
      "source": [
        "`-` 학습"
      ],
      "id": "24d37726-40d2-45bb-8a13-3673cdcba1a1"
    },
    {
      "cell_type": "code",
      "execution_count": 23,
      "metadata": {},
      "outputs": [],
      "source": [
        "net = torch.nn.Linear(in_features=1,out_features=1,bias=False)\n",
        "loss_fn = torch.nn.BCEWithLogitsLoss()\n",
        "optimizr = torch.optim.Adam(net.parameters())"
      ],
      "id": "6e4654a4-39bb-4b68-bfb7-10406da4557a"
    },
    {
      "cell_type": "code",
      "execution_count": 24,
      "metadata": {},
      "outputs": [],
      "source": [
        "for epoc in range(5000):\n",
        "    ## 1\n",
        "    yhat = net(x) \n",
        "    ## 2 \n",
        "    loss = loss_fn(yhat,y)\n",
        "    ## 3 \n",
        "    loss.backward()\n",
        "    ## 4 \n",
        "    optimizr.step()\n",
        "    optimizr.zero_grad()"
      ],
      "id": "0e8eda36-0bdf-4a66-b11e-8a54ffe047d5"
    },
    {
      "cell_type": "markdown",
      "metadata": {},
      "source": [
        "`-` 결과"
      ],
      "id": "d71e0074-2e50-4dee-9024-32078b27ee78"
    },
    {
      "cell_type": "code",
      "execution_count": 25,
      "metadata": {
        "outputId": "ec36e4ff-8596-44df-9f6f-141a90f3aa42"
      },
      "outputs": [
        {
          "output_type": "display_data",
          "metadata": {},
          "data": {
            "image/png": "[encoded data removed]"
          }
        }
      ],
      "source": [
        "plt.plot(y[:10],'o')\n",
        "plt.plot(sig(net(x)).data[:10],'--o')"
      ],
      "id": "2e7448e1-6c37-4da9-b2a5-e563e8f03f2a"
    },
    {
      "cell_type": "markdown",
      "metadata": {},
      "source": [
        "`-` 결과해석: 예상되었던 실패임 - 아키텍처는\n",
        "$\\hat{y}_i = \\text{sig}(\\hat{w}x_i)$ 꼴이다. - $(x_i,y_i)=(0,1)$ 이라면\n",
        "어떠한 $\\hat{w}$을 선택해도 $\\hat{w}x_i=0$ 이다. 이경우\n",
        "$\\hat{y}_i = \\text{sig}(0) = 0.5$ 가 된다. - $(x_i,y_i)=(1,0)$ 이라면\n",
        "$\\hat{w}=-5$와 같은 값으로 선택하면 $\\text{sig}(-5) \\approx 0 = y_i$ 와\n",
        "같이 만들 수 있다. - 상황을 종합하면 net의 weight는\n",
        "$\\text{sig}(\\hat{w}x_i) \\approx 0$ 이 되도록 적당한 음수로 학습되는 것이\n",
        "최선임을 알 수 있다."
      ],
      "id": "bd600673-0a7f-4153-93e4-cc9da73122e2"
    },
    {
      "cell_type": "code",
      "execution_count": 26,
      "metadata": {
        "outputId": "172f7fe0-5b9a-4593-cb09-ed8df68748b6"
      },
      "outputs": [
        {
          "output_type": "display_data",
          "metadata": {},
          "data": {
            "text/plain": [
              "Parameter containing:\n",
              "tensor([[-2.8288]], requires_grad=True)"
            ]
          }
        }
      ],
      "source": [
        "net.weight # 적당한 음수값으로 학습되어있음을 확인"
      ],
      "id": "a647e4ef-7996-4483-92ca-4afc05da90c6"
    },
    {
      "cell_type": "markdown",
      "metadata": {},
      "source": [
        "#### ***(풀이2) 2개의 파라메터 + 좋은 초기값 – 성공***\n",
        "\n",
        "`-` 동일하게 a=0, b=1로 맵핑"
      ],
      "id": "53d10a2c-551d-4a69-a32d-1f08a6e3fff8"
    },
    {
      "cell_type": "code",
      "execution_count": 27,
      "metadata": {},
      "outputs": [],
      "source": [
        "mapping = {'a':0,'b':1}\n",
        "x = torch.tensor(f(txt_x,mapping)).float().reshape(-1,1)\n",
        "y = torch.tensor(f(txt_y,mapping)).float().reshape(-1,1)"
      ],
      "id": "371121bb-aaeb-47c3-9f44-a93bf6ad1bfb"
    },
    {
      "cell_type": "code",
      "execution_count": 28,
      "metadata": {
        "outputId": "c62cd060-3c2a-4cd9-8b97-6e51a864ef58"
      },
      "outputs": [
        {
          "output_type": "display_data",
          "metadata": {},
          "data": {
            "text/plain": [
              "(tensor([[0.],\n",
              "         [1.],\n",
              "         [0.],\n",
              "         [1.],\n",
              "         [0.]]),\n",
              " tensor([[1.],\n",
              "         [0.],\n",
              "         [1.],\n",
              "         [0.],\n",
              "         [1.]]))"
            ]
          }
        }
      ],
      "source": [
        "x[:5],y[:5]"
      ],
      "id": "479cf0a4-153d-4fc9-948f-a9e222aa4394"
    },
    {
      "cell_type": "markdown",
      "metadata": {},
      "source": [
        "`-` 네트워크에서 bias를 넣기로 결정함"
      ],
      "id": "840fff23-996e-4d8b-b69a-0a9c612e6265"
    },
    {
      "cell_type": "code",
      "execution_count": 29,
      "metadata": {},
      "outputs": [],
      "source": [
        "net = torch.nn.Linear(in_features=1,out_features=1,bias=True)\n",
        "loss_fn = torch.nn.BCEWithLogitsLoss()\n",
        "optimizr = torch.optim.Adam(net.parameters())"
      ],
      "id": "45345a34-e370-4fab-8574-f5c1cfb848af"
    },
    {
      "cell_type": "markdown",
      "metadata": {},
      "source": [
        "`-` net의 초기값을 설정 (이것은 좋은 초기값임)"
      ],
      "id": "b506d377-0173-4d90-994e-753ba50be644"
    },
    {
      "cell_type": "code",
      "execution_count": 30,
      "metadata": {},
      "outputs": [],
      "source": [
        "net.weight.data = torch.tensor([[-5.00]])\n",
        "net.bias.data = torch.tensor([+2.500])"
      ],
      "id": "b068c892-79d9-45c9-b807-9969959c4cfc"
    },
    {
      "cell_type": "code",
      "execution_count": 31,
      "metadata": {
        "outputId": "b8815f0b-d4c2-4e15-92a0-116b3a8622f9"
      },
      "outputs": [
        {
          "output_type": "display_data",
          "metadata": {},
          "data": {
            "text/plain": [
              "tensor([[ 2.5000],\n",
              "        [-2.5000],\n",
              "        [ 2.5000],\n",
              "        [-2.5000],\n",
              "        [ 2.5000],\n",
              "        [-2.5000],\n",
              "        [ 2.5000],\n",
              "        [-2.5000],\n",
              "        [ 2.5000],\n",
              "        [-2.5000]], grad_fn=<SliceBackward0>)"
            ]
          }
        }
      ],
      "source": [
        "net(x)[:10]"
      ],
      "id": "140bfd30-2264-4874-9dea-11eec603eb44"
    },
    {
      "cell_type": "markdown",
      "metadata": {},
      "source": [
        "`-` 학습전 결과"
      ],
      "id": "9f4e6d2a-b4ed-43fa-99fb-dabe931b53cf"
    },
    {
      "cell_type": "code",
      "execution_count": 32,
      "metadata": {
        "outputId": "56b9acdb-4e9f-4b35-a9ac-293be86a5185"
      },
      "outputs": [
        {
          "output_type": "display_data",
          "metadata": {},
          "data": {
            "image/png": "[encoded data removed]"
          }
        }
      ],
      "source": [
        "plt.plot(y[:10],'o')\n",
        "plt.plot(sig(net(x)).data[:10],'--o')"
      ],
      "id": "dce3fd6d-6190-41f2-b179-9b4812afbf31"
    },
    {
      "cell_type": "markdown",
      "metadata": {},
      "source": [
        "bias 쓰게 되면서 한쪽을 뭉개주는 효과?\n",
        "\n",
        "`-` 학습후결과"
      ],
      "id": "6ee92b29-79b4-4854-a7c1-1a887a6dd8d9"
    },
    {
      "cell_type": "code",
      "execution_count": 33,
      "metadata": {},
      "outputs": [],
      "source": [
        "for epoc in range(5000):\n",
        "    ## 1\n",
        "    yhat = net(x) \n",
        "    ## 2 \n",
        "    loss = loss_fn(yhat,y)\n",
        "    ## 3 \n",
        "    loss.backward()\n",
        "    ## 4 \n",
        "    optimizr.step()\n",
        "    optimizr.zero_grad()"
      ],
      "id": "3ef90562-2118-4f0b-9de5-1fbc0ce573a9"
    },
    {
      "cell_type": "code",
      "execution_count": 34,
      "metadata": {
        "outputId": "28c80e93-f02e-489d-ab4e-5eee68cfdff5"
      },
      "outputs": [
        {
          "output_type": "display_data",
          "metadata": {},
          "data": {
            "image/png": "[encoded data removed]"
          }
        }
      ],
      "source": [
        "plt.plot(y[:10],'o')\n",
        "plt.plot(sig(net(x)).data[:10],'--o')"
      ],
      "id": "e0f8c849-5005-49ce-ae6b-de60e28d303a"
    },
    {
      "cell_type": "markdown",
      "metadata": {},
      "source": [
        "#### ***(풀이3) 2개의 파라메터 + 나쁜초기값 – 성공***\n",
        "\n",
        "`-` a=0, b=1"
      ],
      "id": "b70f41c1-8d97-44e5-8e36-6269ea2abecd"
    },
    {
      "cell_type": "code",
      "execution_count": 35,
      "metadata": {},
      "outputs": [],
      "source": [
        "mapping = {'a':0,'b':1}\n",
        "x = torch.tensor(f(txt_x,mapping)).float().reshape(-1,1)\n",
        "y = torch.tensor(f(txt_y,mapping)).float().reshape(-1,1)"
      ],
      "id": "9c70484d-cded-47b1-8ce4-4678d97b2080"
    },
    {
      "cell_type": "code",
      "execution_count": 36,
      "metadata": {
        "outputId": "87939432-7001-4e32-9f04-07d281d4a628"
      },
      "outputs": [
        {
          "output_type": "display_data",
          "metadata": {},
          "data": {
            "text/plain": [
              "(tensor([[0.],\n",
              "         [1.],\n",
              "         [0.],\n",
              "         [1.],\n",
              "         [0.]]),\n",
              " tensor([[1.],\n",
              "         [0.],\n",
              "         [1.],\n",
              "         [0.],\n",
              "         [1.]]))"
            ]
          }
        }
      ],
      "source": [
        "x[:5],y[:5]"
      ],
      "id": "9e396160-da57-48e3-88e8-2a822e7ff50c"
    },
    {
      "cell_type": "markdown",
      "metadata": {},
      "source": [
        "`-` 이전과 동일하게 바이어스가 포함된 네트워크 설정"
      ],
      "id": "e19a3178-5a4d-4340-acaa-569af2be77fa"
    },
    {
      "cell_type": "code",
      "execution_count": 37,
      "metadata": {},
      "outputs": [],
      "source": [
        "net = torch.nn.Linear(in_features=1,out_features=1,bias=True)\n",
        "loss_fn = torch.nn.BCEWithLogitsLoss()\n",
        "optimizr = torch.optim.Adam(net.parameters())"
      ],
      "id": "611103bf-177a-41f9-abaf-44eff857ba04"
    },
    {
      "cell_type": "markdown",
      "metadata": {},
      "source": [
        "`-` 초기값설정 (이 초기값은 나쁜 초기값임)"
      ],
      "id": "aa3e94af-e269-4aa3-971e-d097df57f42c"
    },
    {
      "cell_type": "code",
      "execution_count": 38,
      "metadata": {},
      "outputs": [],
      "source": [
        "net.weight.data = torch.tensor([[+5.00]])\n",
        "net.bias.data = torch.tensor([-2.500])"
      ],
      "id": "586cddc3-5703-4699-a929-10c132e34a7b"
    },
    {
      "cell_type": "code",
      "execution_count": 39,
      "metadata": {
        "outputId": "a8473238-a272-42ab-cfdb-ab59efd62091"
      },
      "outputs": [
        {
          "output_type": "display_data",
          "metadata": {},
          "data": {
            "text/plain": [
              "tensor([[-2.5000],\n",
              "        [ 2.5000],\n",
              "        [-2.5000],\n",
              "        [ 2.5000],\n",
              "        [-2.5000],\n",
              "        [ 2.5000],\n",
              "        [-2.5000],\n",
              "        [ 2.5000],\n",
              "        [-2.5000],\n",
              "        [ 2.5000]], grad_fn=<SliceBackward0>)"
            ]
          }
        }
      ],
      "source": [
        "net(x)[:10]"
      ],
      "id": "48fdc2d5-b1d3-48f7-a629-4c8666f20cae"
    },
    {
      "cell_type": "markdown",
      "metadata": {},
      "source": [
        "`-` 학습전상태: 반대모양으로 되어있다."
      ],
      "id": "5f623758-8cd8-4f52-8bf7-21688b30840f"
    },
    {
      "cell_type": "code",
      "execution_count": 40,
      "metadata": {
        "outputId": "d161e519-db3c-4d20-dfb2-1420f9691112"
      },
      "outputs": [
        {
          "output_type": "display_data",
          "metadata": {},
          "data": {
            "image/png": "[encoded data removed]"
          }
        }
      ],
      "source": [
        "plt.plot(y[:10],'o')\n",
        "plt.plot(sig(net(x)).data[:10],'--o')"
      ],
      "id": "d445dade-9e35-4d6f-b4b6-66b8eecd42ec"
    },
    {
      "cell_type": "markdown",
      "metadata": {},
      "source": [
        "`-` 학습"
      ],
      "id": "23d8a250-277e-4b5d-a539-5f907ec8ea52"
    },
    {
      "cell_type": "code",
      "execution_count": 41,
      "metadata": {},
      "outputs": [],
      "source": [
        "for epoc in range(5000):\n",
        "    ## 1\n",
        "    yhat = net(x) \n",
        "    ## 2 \n",
        "    loss = loss_fn(yhat,y)\n",
        "    ## 3 \n",
        "    loss.backward()\n",
        "    ## 4 \n",
        "    optimizr.step()\n",
        "    optimizr.zero_grad()"
      ],
      "id": "aa6495fe-fc26-485d-9f16-74c6929b7315"
    },
    {
      "cell_type": "code",
      "execution_count": 42,
      "metadata": {
        "outputId": "caa33178-8006-4964-846d-0a0bb43f6be6"
      },
      "outputs": [
        {
          "output_type": "display_data",
          "metadata": {},
          "data": {
            "image/png": "[encoded data removed]"
          }
        }
      ],
      "source": [
        "plt.plot(y[:10],'o')\n",
        "plt.plot(sig(net(x)).data[:10],'--o')"
      ],
      "id": "84794892-38b9-4e32-b393-0ccc87635f4a"
    },
    {
      "cell_type": "markdown",
      "metadata": {},
      "source": [
        "-   결국 수렴하긴 할듯\n",
        "\n",
        "#### ***(풀이4) 3개의 파라메터를 쓴다면?***\n",
        "\n",
        "`-` a=0, b=1로 코딩"
      ],
      "id": "c12e0672-c047-4320-9bbb-62e6b5fd31c7"
    },
    {
      "cell_type": "code",
      "execution_count": 43,
      "metadata": {},
      "outputs": [],
      "source": [
        "mapping = {'a':0,'b':1}\n",
        "x = torch.tensor(f(txt_x,mapping)).float().reshape(-1,1)\n",
        "y = torch.tensor(f(txt_y,mapping)).float().reshape(-1,1)"
      ],
      "id": "c62dc63b-f7e0-4fe0-b0d0-b7b02cdfec5d"
    },
    {
      "cell_type": "code",
      "execution_count": 44,
      "metadata": {
        "outputId": "e1f5f311-5220-4134-b126-9d8628fc03cb"
      },
      "outputs": [
        {
          "output_type": "display_data",
          "metadata": {},
          "data": {
            "text/plain": [
              "(tensor([[0.],\n",
              "         [1.],\n",
              "         [0.],\n",
              "         [1.],\n",
              "         [0.]]),\n",
              " tensor([[1.],\n",
              "         [0.],\n",
              "         [1.],\n",
              "         [0.],\n",
              "         [1.]]))"
            ]
          }
        }
      ],
      "source": [
        "x[:5],y[:5]"
      ],
      "id": "30f06e15-6138-4cc1-affa-639435c7d085"
    },
    {
      "cell_type": "markdown",
      "metadata": {},
      "source": [
        "`-` 3개의 파라메터를 사용하기 위해서 아래와 같은 구조를 생각하자.\n",
        "\n",
        "``` python\n",
        "torch.nn.Sequential(\n",
        "    torch.nn.Linear(in_features=1,out_features=1,bias=True),\n",
        "    torch.nn.ACTIVATION_FUNCTION(),\n",
        "    torch.nn.Linear(in_features=1,out_features=1,bias=False)\n",
        ")\n",
        "```\n",
        "\n",
        "위와 같은 네트워크를 설정하면 3개의 파라메터를 사용할 수 있다. 적절한\n",
        "ACTIVATION_FUNCTION을 골라야 하는데 실험적으로 tanh가 적절하다고\n",
        "알려져있다. ($\\to$ 그래서 우리도 실험적으로 이해해보자)\n",
        "\n",
        "------------------------------------------------------------------------\n",
        "\n",
        "(예비학습1) net(x)와 사실 net.forwardx(x)는 같다."
      ],
      "id": "295a5af7-64c5-47cf-af62-783d90f67ea2"
    },
    {
      "cell_type": "code",
      "execution_count": 45,
      "metadata": {
        "outputId": "f04b43c4-9e78-409f-8bb7-2df1b82ab942"
      },
      "outputs": [
        {
          "output_type": "display_data",
          "metadata": {},
          "data": {
            "text/plain": [
              "tensor([[-0.1584],\n",
              "        [ 0.1797],\n",
              "        [-0.1584],\n",
              "        [ 0.1797],\n",
              "        [-0.1584]], grad_fn=<SliceBackward0>)"
            ]
          }
        }
      ],
      "source": [
        "net(x)[:5] # 풀이3에서 학습한 네트워크임"
      ],
      "id": "c0135738-6864-48fd-bdef-e2ab8db9ff99"
    },
    {
      "cell_type": "code",
      "execution_count": 46,
      "metadata": {
        "outputId": "ef14568f-10e2-46d1-e5bb-d0a4c3428054"
      },
      "outputs": [
        {
          "output_type": "display_data",
          "metadata": {},
          "data": {
            "text/plain": [
              "tensor([[-0.1584],\n",
              "        [ 0.1797],\n",
              "        [-0.1584],\n",
              "        [ 0.1797],\n",
              "        [-0.1584]], grad_fn=<SliceBackward0>)"
            ]
          }
        }
      ],
      "source": [
        "net.forward(x)[:5] # 풀이3에서 학습한 네트워크임"
      ],
      "id": "d9db661f-0b7e-4dc8-82d6-941d691bf280"
    },
    {
      "cell_type": "markdown",
      "metadata": {},
      "source": [
        "그래서 net.forward를 재정의하면 net(x)의 기능을 재정의 할 수 있다."
      ],
      "id": "a01ccc68-bb2f-41bd-af28-22072be5e4c3"
    },
    {
      "cell_type": "code",
      "execution_count": 47,
      "metadata": {},
      "outputs": [],
      "source": [
        "net.forward = lambda x: 1 "
      ],
      "id": "50fc96b1-5b7e-4618-929e-207a28be0884"
    },
    {
      "cell_type": "markdown",
      "metadata": {},
      "source": [
        "-   “lambda x: 1” 은 입력이 x 출력이 1인 함수를 의미 (즉 입력값에\n",
        "    상관없이 항상 1을 출력하는 함수)\n",
        "-   “net.forward = lambda x:1” 이라고 새롭게 선언하였므로 앞으론\n",
        "    net.forward(x), net(x) 도 입력값에 상관없이 항상 1을 출력하게 될\n",
        "    것임"
      ],
      "id": "3ec2cf8c-7940-4d90-863c-0c72d25de50d"
    },
    {
      "cell_type": "code",
      "execution_count": 48,
      "metadata": {
        "outputId": "5ceb505e-b1a0-46df-d389-3a68517a818f"
      },
      "outputs": [
        {
          "output_type": "display_data",
          "metadata": {},
          "data": {
            "text/plain": [
              "1"
            ]
          }
        }
      ],
      "source": [
        "net(x)"
      ],
      "id": "f40c46a0-837a-430a-9614-87aa4813327b"
    },
    {
      "cell_type": "markdown",
      "metadata": {},
      "source": [
        "(예비학습2) torch.nn.Module을 상속받아서 네트워크를 만들면 (= “class\n",
        "XXX(torch.nn.Module):” 와 같은 방식으로 클래스를 선언하면) 약속된\n",
        "아키텍처를 가진 네트워크를 찍어내는 함수를 만들 수 있다.\n",
        "\n",
        "(예시1)"
      ],
      "id": "ab22a42a-5852-4f61-a88f-aaf083c936d8"
    },
    {
      "cell_type": "code",
      "execution_count": 49,
      "metadata": {},
      "outputs": [],
      "source": [
        "class Mynet1(torch.nn.Module):\n",
        "    def __init__(self):\n",
        "        super().__init__()\n",
        "        self.l1 = torch.nn.Linear(in_features=1,out_features=1,bias=True)\n",
        "        self.a1 = torch.nn.Sigmoid()\n",
        "        self.l2 = torch.nn.Linear(in_features=1,out_features=1,bias=False)\n",
        "    def forward(self,x):\n",
        "        yhat = self.l2(self.a1(self.l1(x)))\n",
        "        return yhat"
      ],
      "id": "4f162a11-ac70-4c10-a97d-a2129fc35464"
    },
    {
      "cell_type": "markdown",
      "metadata": {},
      "source": [
        "이제\n",
        "\n",
        "``` python\n",
        "net = Mynet1()\n",
        "```\n",
        "\n",
        "는 아래와 같은 효과를 가진다.\n",
        "\n",
        "``` python\n",
        "net = torch.nn.Sequential(\n",
        "    torch.nn.Linear(in_features=1,out_features=1,bias=True),\n",
        "    torch.nn.Sigmoid(),\n",
        "    torch.nn.Linear(in_features=1,out_features=1,bias=False)\n",
        ")\n",
        "```\n",
        "\n",
        "(예시2)"
      ],
      "id": "3b70dac4-d9fb-49fa-9f8e-3ce87b60ae2d"
    },
    {
      "cell_type": "code",
      "execution_count": 50,
      "metadata": {},
      "outputs": [],
      "source": [
        "class Mynet2(torch.nn.Module):\n",
        "    def __init__(self):\n",
        "        super().__init__()\n",
        "        self.l1 = torch.nn.Linear(in_features=1,out_features=1,bias=True)\n",
        "        self.a1 = torch.nn.ReLU()\n",
        "        self.l2 = torch.nn.Linear(in_features=1,out_features=1,bias=False)\n",
        "    def forward(self,x):\n",
        "        yhat = self.l2(self.a1(self.l1(x)))\n",
        "        return yhat"
      ],
      "id": "70f4d1df-e484-42dc-91ed-c397576c062f"
    },
    {
      "cell_type": "markdown",
      "metadata": {},
      "source": [
        "이제\n",
        "\n",
        "``` python\n",
        "net = Mynet2()\n",
        "```\n",
        "\n",
        "는 아래와 같은 효과를 가진다.\n",
        "\n",
        "``` python\n",
        "net = torch.nn.Sequential(\n",
        "    torch.nn.Linear(in_features=1,out_features=1,bias=True),\n",
        "    torch.nn.RuLU(),\n",
        "    torch.nn.Linear(in_features=1,out_features=1,bias=False)\n",
        ")\n",
        "```\n",
        "\n",
        "(예시3)"
      ],
      "id": "0c9d4591-8ba3-4406-a39c-41de722db9a8"
    },
    {
      "cell_type": "code",
      "execution_count": 51,
      "metadata": {},
      "outputs": [],
      "source": [
        "class Mynet3(torch.nn.Module):\n",
        "    def __init__(self):\n",
        "        super().__init__()\n",
        "        self.l1 = torch.nn.Linear(in_features=1,out_features=1,bias=True)\n",
        "        self.a1 = torch.nn.Tanh()\n",
        "        self.l2 = torch.nn.Linear(in_features=1,out_features=1,bias=False)\n",
        "    def forward(self,x):\n",
        "        yhat = self.l2(self.a1(self.l1(x)))\n",
        "        return yhat"
      ],
      "id": "90a7a3a1-546e-4788-b44b-0173e849ba5b"
    },
    {
      "cell_type": "markdown",
      "metadata": {},
      "source": [
        "이제\n",
        "\n",
        "``` python\n",
        "net = Mynet3()\n",
        "```\n",
        "\n",
        "는 아래와 같은 효과를 가진다.\n",
        "\n",
        "``` python\n",
        "net = torch.nn.Sequential(\n",
        "    torch.nn.Linear(in_features=1,out_features=1,bias=True),\n",
        "    torch.nn.Tanh(),\n",
        "    torch.nn.Linear(in_features=1,out_features=1,bias=False)\n",
        ")\n",
        "```\n",
        "\n",
        "***클래스에 대한 이해가 부족한 학생을 위한 암기방법***\n",
        "\n",
        "**step1:** 아래와 코드를 복사하여 틀을 만든다. (이건 무조건 고정임, XXXX\n",
        "자리는 원하는 이름을 넣는다)\n",
        "\n",
        "``` python\n",
        "class XXXX(torch.nn.Module):\n",
        "    def __init__(self):\n",
        "        super().__init__()\n",
        "        ## 우리가 사용할 레이어를 정의 \n",
        "        \n",
        "        ## 레이어 정의 끝\n",
        "    def forward(self,x):\n",
        "        ## yhat을 어떻게 구할것인지 정의 \n",
        "        \n",
        "        ## 정의 끝\n",
        "        return yhat\n",
        "```\n",
        "\n",
        "-   net(x)에 사용하는 x임, yhat은 net.forward(x) 함수의 리턴값임\n",
        "-   사실, x/yhat은 다른 변수로 써도 무방하나 (예를들면 input/output\n",
        "    이라든지) 설명의 편의상 x와 yhat을 고정한다.\n",
        "\n",
        "**step2:** `def __init__(self):`에 사용할 레이어를 정의하고 이름을\n",
        "붙인다. 이름은 항상 `self.xxx` 와 같은 식으로 정의한다.\n",
        "\n",
        "``` python\n",
        "class XXXX(torch.nn.Module):\n",
        "    def __init__(self):\n",
        "        super().__init__()\n",
        "        ## 우리가 사용할 레이어를 정의 \n",
        "        self.xxx1 = torch.nn.Linear(in_features=1,out_features=1,bias=True)\n",
        "        self.xxx2 = torch.nn.Tanh()\n",
        "        self.xxx3 = torch.nn.Linear(in_features=1,out_features=1,bias=True)\n",
        "        ## 레이어 정의 끝\n",
        "    def forward(self,x):\n",
        "        ## yhat을 어떻게 구할것인지 정의 \n",
        "        \n",
        "        ## 정의 끝\n",
        "        return yhat\n",
        "```\n",
        "\n",
        "**step3:** `def forward:`에 “x –\\> yhat” 으로 가는 과정을 묘사한 코드를\n",
        "작성하고 yhat을 리턴하도록 한다.\n",
        "\n",
        "``` python\n",
        "class XXXX(torch.nn.Module):\n",
        "    def __init__(self):\n",
        "        super().__init__()\n",
        "        ## 우리가 사용할 레이어를 정의 \n",
        "        self.xxx1 = torch.nn.Linear(in_features=1,out_features=1,bias=True)\n",
        "        self.xxx2 = torch.nn.Tanh()\n",
        "        self.xxx3 = torch.nn.Linear(in_features=1,out_features=1,bias=True)\n",
        "        ## 레이어 정의 끝\n",
        "    def forward(self,x):\n",
        "        ## yhat을 어떻게 구할것인지 정의 \n",
        "        u = self.xxx1(x) \n",
        "        v = self.xxx2(u)\n",
        "        yhat = self.xxx3(v) \n",
        "        ## 정의 끝\n",
        "        return yhat\n",
        "```\n",
        "\n",
        "예비학습 끝\n",
        "\n",
        "------------------------------------------------------------------------\n",
        "\n",
        "`-` 우리가 하려고 했던 것: 아래의 아키텍처에서\n",
        "\n",
        "``` python\n",
        "torch.nn.Sequential(\n",
        "    torch.nn.Linear(in_features=1,out_features=1,bias=True),\n",
        "    torch.nn.ACTIVATION_FUNCTION(),\n",
        "    torch.nn.Linear(in_features=1,out_features=1,bias=False)\n",
        ")\n",
        "```\n",
        "\n",
        "ACTIVATION의 자리에 tanh가 왜 적절한지 직관을 얻어보자.\n",
        "\n",
        "`-` 실험결과1(Sig): Sigmoid activation을 포함한 아키텍처로 학습시킨\n",
        "25개의 적합결과"
      ],
      "id": "ac5f802a-4833-48b5-86f4-dda416dce417"
    },
    {
      "cell_type": "code",
      "execution_count": 52,
      "metadata": {
        "outputId": "3864f1d6-29c6-4914-c5c2-de24d0ff20b6"
      },
      "outputs": [
        {
          "output_type": "display_data",
          "metadata": {},
          "data": {
            "image/png": "[encoded data removed]"
          }
        }
      ],
      "source": [
        "fig, ax = plt.subplots(5,5,figsize=(10,10))\n",
        "for i in range(5):\n",
        "    for j in range(5):\n",
        "        net = Mynet1()\n",
        "        loss_fn = torch.nn.BCEWithLogitsLoss()\n",
        "        optimizr = torch.optim.Adam(net.parameters())\n",
        "        for epoc in range(1000):\n",
        "            ## 1\n",
        "            yhat = net(x)\n",
        "            ## 2\n",
        "            loss = loss_fn(yhat,y)\n",
        "            ## 3\n",
        "            loss.backward()\n",
        "            ## 4 \n",
        "            optimizr.step()\n",
        "            optimizr.zero_grad()\n",
        "        ax[i][j].plot(y[:5],'o')\n",
        "        ax[i][j].plot(sig(net(x[:5])).data,'--o')\n",
        "fig.suptitle(r\"$a_1(x):=Sigmoid(x)$\",size=20)\n",
        "fig.tight_layout()"
      ],
      "id": "d1e5a7f1-5f43-45d7-ab91-93d6e84605d8"
    },
    {
      "cell_type": "markdown",
      "metadata": {},
      "source": [
        "큰 폭 -\\> 학습 속도가 빠르다\n",
        "\n",
        "`-` 실험결과2(ReLU): RuLU activation을 포함한 아키텍처로 학습시킨 25개의\n",
        "적합결과"
      ],
      "id": "f26bde59-b04b-416b-aaa0-c988b90ca1a8"
    },
    {
      "cell_type": "code",
      "execution_count": 53,
      "metadata": {
        "outputId": "54a3d085-ca3e-49bb-ff4e-8744818806e4"
      },
      "outputs": [
        {
          "output_type": "display_data",
          "metadata": {},
          "data": {
            "image/png": "[encoded data removed]"
          }
        }
      ],
      "source": [
        "fig, ax = plt.subplots(5,5,figsize=(10,10))\n",
        "for i in range(5):\n",
        "    for j in range(5):\n",
        "        net = Mynet2()\n",
        "        loss_fn = torch.nn.BCEWithLogitsLoss()\n",
        "        optimizr = torch.optim.Adam(net.parameters())\n",
        "        for epoc in range(1000):\n",
        "            ## 1\n",
        "            yhat = net(x)\n",
        "            ## 2\n",
        "            loss = loss_fn(yhat,y)\n",
        "            ## 3\n",
        "            loss.backward()\n",
        "            ## 4 \n",
        "            optimizr.step()\n",
        "            optimizr.zero_grad()\n",
        "        ax[i][j].plot(y[:5],'o')\n",
        "        ax[i][j].plot(sig(net(x[:5])).data,'--o')\n",
        "fig.suptitle(r\"$a_2(x):=ReLU(x)$\",size=20)\n",
        "fig.tight_layout()"
      ],
      "id": "52392546-c7c6-45a5-be50-86c602c44442"
    },
    {
      "cell_type": "markdown",
      "metadata": {},
      "source": [
        "`-` 실험결과3(Tanh): Tanh activation을 포함한 아키텍처로 학습시킨 25개의\n",
        "적합결과"
      ],
      "id": "905e155e-879b-4e23-bca9-09cdb8ef7e08"
    },
    {
      "cell_type": "code",
      "execution_count": 54,
      "metadata": {
        "outputId": "c912014b-a8e9-430b-99fa-66ae867d36f6"
      },
      "outputs": [
        {
          "output_type": "display_data",
          "metadata": {},
          "data": {
            "image/png": "[encoded data removed]"
          }
        }
      ],
      "source": [
        "fig, ax = plt.subplots(5,5,figsize=(10,10))\n",
        "for i in range(5):\n",
        "    for j in range(5):\n",
        "        net = Mynet3()\n",
        "        loss_fn = torch.nn.BCEWithLogitsLoss()\n",
        "        optimizr = torch.optim.Adam(net.parameters())\n",
        "        for epoc in range(1000):\n",
        "            ## 1\n",
        "            yhat = net(x)\n",
        "            ## 2\n",
        "            loss = loss_fn(yhat,y)\n",
        "            ## 3\n",
        "            loss.backward()\n",
        "            ## 4 \n",
        "            optimizr.step()\n",
        "            optimizr.zero_grad()\n",
        "        ax[i][j].plot(y[:5],'o')\n",
        "        ax[i][j].plot(sig(net(x[:5])).data,'--o')\n",
        "fig.suptitle(r\"$a_2(x):=Tanh(x)$\",size=20)        \n",
        "fig.tight_layout()"
      ],
      "id": "921b3bda-0678-4366-b2b4-f8ba1e3b008d"
    },
    {
      "cell_type": "markdown",
      "metadata": {},
      "source": [
        "`-` 실험해석 - sig: 주황색선의 변동폭이 작음 + 항상 0.5근처로 머무는\n",
        "적합값이 존재 - relu: 주황색선의 변동폭이 큼 + 항상 0.5근처로 머무는\n",
        "적합값이 존재 - tanh: 주황색선의 변동폭이 큼 + 0.5근처로 머무는 적합값이\n",
        "존재X\n",
        "\n",
        "`-` 실험해보니까 tanh가 우수한것 같다. $\\to$ 앞으로는 tanh를 쓰자.\n",
        "\n",
        "$x \\to wx \\to \\tanh \\to wx \\to sig \\to y$ - x가 양이면 wx 양수 이런\n",
        "식으로 y로 가게끔 설정하면 설명의 여지가 존재(?)\n",
        "\n",
        "(서연 필기)sigmoid하면 0에 머무르는 값 존재해서 0.5에 머무르는 경향,\n",
        "조금 사용하면 학습 능력이 떨어지기도\n",
        "\n",
        "### 소프트맥스로 확장\n",
        "\n",
        "#### (풀이1) 로지스틱모형에서 3개의 파라메터 버전을 그대로 확장"
      ],
      "id": "0c86698d-1a88-4d6c-9186-a1c7f33249c8"
    },
    {
      "cell_type": "code",
      "execution_count": 55,
      "metadata": {
        "outputId": "acd26070-99d4-4657-8d41-dc27877dea87"
      },
      "outputs": [
        {
          "output_type": "display_data",
          "metadata": {},
          "data": {
            "text/plain": [
              "(tensor([[1., 0.],\n",
              "         [0., 1.],\n",
              "         [1., 0.],\n",
              "         [0., 1.],\n",
              "         [1., 0.]]),\n",
              " tensor([[0., 1.],\n",
              "         [1., 0.],\n",
              "         [0., 1.],\n",
              "         [1., 0.],\n",
              "         [0., 1.]]))"
            ]
          }
        }
      ],
      "source": [
        "mapping = {'a':[1,0],'b':[0,1]}\n",
        "x = torch.tensor(f(txt_x,mapping)).float().reshape(-1,2)\n",
        "y = torch.tensor(f(txt_y,mapping)).float().reshape(-1,2)\n",
        "x[:5],y[:5]"
      ],
      "id": "291734a9-9c8b-48b2-abaf-99007f2b9140"
    },
    {
      "cell_type": "code",
      "execution_count": 56,
      "metadata": {},
      "outputs": [],
      "source": [
        "net = torch.nn.Sequential(\n",
        "    torch.nn.Linear(in_features=2,out_features=1),\n",
        "    torch.nn.Tanh(),\n",
        "    torch.nn.Linear(in_features=1,out_features=2,bias=False)\n",
        ")\n",
        "loss_fn = torch.nn.CrossEntropyLoss()\n",
        "optimizr = torch.optim.Adam(net.parameters())"
      ],
      "id": "38564446-4fe9-4b8d-b334-289f6e9e672c"
    },
    {
      "cell_type": "code",
      "execution_count": 57,
      "metadata": {},
      "outputs": [],
      "source": [
        "for epoc in range(5000):\n",
        "    ## 1\n",
        "    yhat = net(x)\n",
        "    ## 2 \n",
        "    loss = loss_fn(yhat,y)\n",
        "    ## 3 \n",
        "    loss.backward()\n",
        "    ## 4 \n",
        "    optimizr.step()\n",
        "    optimizr.zero_grad()"
      ],
      "id": "b269ac28-2825-460d-81d8-b37f6ea0178d"
    },
    {
      "cell_type": "code",
      "execution_count": 63,
      "metadata": {},
      "outputs": [
        {
          "output_type": "display_data",
          "metadata": {},
          "data": {
            "text/plain": [
              "tensor([[0.0048, 0.9952],\n",
              "        [0.9953, 0.0047]], grad_fn=<SliceBackward0>)"
            ]
          }
        }
      ],
      "source": [
        "soft(net(x))[:2]"
      ],
      "id": "51f96561-6bb5-4966-a215-3d298402e201"
    },
    {
      "cell_type": "code",
      "execution_count": 64,
      "metadata": {
        "outputId": "c059eb36-7135-403b-b83b-e654a8645588"
      },
      "outputs": [
        {
          "output_type": "display_data",
          "metadata": {},
          "data": {
            "text/plain": [
              "tensor([1., 0., 1., 0., 1.])"
            ]
          }
        }
      ],
      "source": [
        "y[:5][:,1]"
      ],
      "id": "0fe5e4bc-0e7b-480d-99fe-0ee832ecd321"
    },
    {
      "cell_type": "code",
      "execution_count": 66,
      "metadata": {
        "outputId": "af096de1-5863-4e81-dd92-eec46a572744"
      },
      "outputs": [
        {
          "output_type": "display_data",
          "metadata": {},
          "data": {
            "image/png": "[encoded data removed]"
          }
        }
      ],
      "source": [
        "plt.plot(y[:5][:,1],'o')\n",
        "plt.plot(soft(net(x[:5]))[:,1].data,'--r')"
      ],
      "id": "b85ed162-2250-4e24-b55d-062d217d66f6"
    },
    {
      "cell_type": "markdown",
      "metadata": {},
      "source": [
        "b,a,b,a,,,…"
      ],
      "id": "9a5a9c34-4f35-4f32-9c19-989f09bf8415"
    },
    {
      "cell_type": "code",
      "execution_count": 67,
      "metadata": {
        "outputId": "c17b0ec9-b152-496b-ff35-9324a1eb5a15"
      },
      "outputs": [
        {
          "output_type": "display_data",
          "metadata": {},
          "data": {
            "image/png": "[encoded data removed]"
          }
        }
      ],
      "source": [
        "fig,ax = plt.subplots(1,2)\n",
        "ax[0].imshow(y[:5])\n",
        "ax[1].imshow(soft(net(x[:5])).data)"
      ],
      "id": "143abd08-4c11-4816-89a9-87515db62d6e"
    },
    {
      "cell_type": "markdown",
      "metadata": {},
      "source": [
        "비슷하게 나왔다, 학습이 잘 되었다(중간 대체과제 참고)\n",
        "\n",
        "## Embedding Layer\n",
        "\n",
        "### motive\n",
        "\n",
        "`-` 결국 최종적으로는 아래와 같은 맵핑방식이 확장성이 있어보인다."
      ],
      "id": "7a2bb826-ec52-4926-9fa8-ec9d923fa35d"
    },
    {
      "cell_type": "code",
      "execution_count": 68,
      "metadata": {},
      "outputs": [],
      "source": [
        "mapping = {'a':[1,0,0],'b':[0,1,0],'c':[0,0,1]} # 원핫인코딩 방식 "
      ],
      "id": "90fce7cb-9e81-4874-b68c-a1ca3982e2bd"
    },
    {
      "cell_type": "markdown",
      "metadata": {},
      "source": [
        "`-` 그런데 매번 $X$를 원핫인코딩하고 Linear 변환하는것이 번거로운데 이를\n",
        "한번에 구현하는 함수가 있으면 좋겠다. $\\to$ torch.nn.Embedding Layer가\n",
        "그 역할을 한다.\n",
        "\n",
        "x dimension은 3(원핫인코딩)"
      ],
      "id": "8b42dddc-6e6b-4c60-bb6e-9b96a9676950"
    },
    {
      "cell_type": "code",
      "execution_count": 69,
      "metadata": {
        "outputId": "6e4b2af1-d58e-4d94-b16a-ed36de552fa0"
      },
      "outputs": [
        {
          "output_type": "display_data",
          "metadata": {},
          "data": {
            "text/plain": [
              "(tensor([0, 1, 2, 0, 1]), tensor([1, 2, 0, 1, 2]))"
            ]
          }
        }
      ],
      "source": [
        "mapping = {'a':0,'b':1,'c':2}\n",
        "x = torch.tensor(f(list('abc')*100,mapping))\n",
        "y = torch.tensor(f(list('bca')*100,mapping))\n",
        "x[:5],y[:5]"
      ],
      "id": "12689036-7678-4040-bace-6292a003c267"
    },
    {
      "cell_type": "code",
      "execution_count": 70,
      "metadata": {},
      "outputs": [],
      "source": [
        "torch.manual_seed(43052)\n",
        "ebdd = torch.nn.Embedding(num_embeddings=3,embedding_dim=1)"
      ],
      "id": "6bad88a6-6773-46e9-9eca-07895a22edee"
    },
    {
      "cell_type": "code",
      "execution_count": 71,
      "metadata": {
        "outputId": "6acd0dc0-ef11-4476-e61c-099d83908407"
      },
      "outputs": [
        {
          "output_type": "display_data",
          "metadata": {},
          "data": {
            "text/plain": [
              "tensor([[-0.8178],\n",
              "        [-0.7052],\n",
              "        [-0.5843],\n",
              "        [-0.8178],\n",
              "        [-0.7052]], grad_fn=<SliceBackward0>)"
            ]
          }
        }
      ],
      "source": [
        "ebdd(x)[:5]"
      ],
      "id": "33875fb4-1bdd-4f09-ba46-6bafb812652c"
    },
    {
      "cell_type": "markdown",
      "metadata": {},
      "source": [
        "`-` 그런데 사실 언뜻보면 아래의 linr 함수와 역할의 차이가 없어보인다."
      ],
      "id": "d99ab847-2028-40ea-97a0-533a96935e30"
    },
    {
      "cell_type": "code",
      "execution_count": 72,
      "metadata": {},
      "outputs": [],
      "source": [
        "torch.manual_seed(43052)\n",
        "linr = torch.nn.Linear(in_features=1,out_features=1)"
      ],
      "id": "f14f4e58-8dfa-4cd1-bde8-a1f7251990e6"
    },
    {
      "cell_type": "code",
      "execution_count": 73,
      "metadata": {
        "outputId": "5fea84bf-f5cf-4e2a-f6aa-182693a82010"
      },
      "outputs": [
        {
          "output_type": "display_data",
          "metadata": {},
          "data": {
            "text/plain": [
              "tensor([[-0.8470],\n",
              "        [-1.1937],\n",
              "        [-1.5404],\n",
              "        [-0.8470],\n",
              "        [-1.1937]], grad_fn=<SliceBackward0>)"
            ]
          }
        }
      ],
      "source": [
        "linr(x.float().reshape(-1,1))[:5]"
      ],
      "id": "dacb6b59-aa56-4c67-b173-d3928c5f02a6"
    },
    {
      "cell_type": "markdown",
      "metadata": {},
      "source": [
        "`-` 차이점: 파라메터수에 차이가 있다.\n",
        "\n",
        "파라메터 적게 쓰는게 비용측면에서 좋으니까"
      ],
      "id": "54996423-230d-47c2-a178-065d068d061f"
    },
    {
      "cell_type": "code",
      "execution_count": 74,
      "metadata": {
        "outputId": "d5891bcf-7e52-490d-c3a3-11538b2dcedd"
      },
      "outputs": [
        {
          "output_type": "display_data",
          "metadata": {},
          "data": {
            "text/plain": [
              "Parameter containing:\n",
              "tensor([[-0.8178],\n",
              "        [-0.7052],\n",
              "        [-0.5843]], requires_grad=True)"
            ]
          }
        }
      ],
      "source": [
        "ebdd.weight"
      ],
      "id": "ad9eddb1-b295-4e1a-aaab-6bbef5c35b69"
    },
    {
      "cell_type": "code",
      "execution_count": 75,
      "metadata": {
        "outputId": "edcf426a-5b8a-4ed7-f371-7df35b0ca15d"
      },
      "outputs": [
        {
          "output_type": "display_data",
          "metadata": {},
          "data": {
            "text/plain": [
              "(Parameter containing:\n",
              " tensor([[-0.3467]], requires_grad=True),\n",
              " Parameter containing:\n",
              " tensor([-0.8470], requires_grad=True))"
            ]
          }
        }
      ],
      "source": [
        "linr.weight, linr.bias"
      ],
      "id": "0a781909-feb8-4945-95da-de132de1afc5"
    },
    {
      "cell_type": "markdown",
      "metadata": {},
      "source": [
        "결국 ebdd는 아래의 구조에 해당하는 파라메터들이고\n",
        "\n",
        "-   \\$=\n",
        "\n",
        "    net(x)=\n",
        "\n",
        "    =\n",
        "\n",
        "    \\$\n",
        "\n",
        "linr는 아래의 구조에 해당하는 파라메터이다.\n",
        "\n",
        "-   $\\text{x[:5]}= \\begin{bmatrix} 0 \\\\ 1 \\\\ 2 \\\\ 0 \\\\ 1 \\end{bmatrix} \\quad net(x)= \\begin{bmatrix} 0 \\\\ 1 \\\\ 2 \\\\ 0 \\\\ 1 \\end{bmatrix} \\times (-0.3467) + (-0.8470)=\\begin{bmatrix} -0.8470 \\\\ -1.1937 \\\\ -1.5404 \\\\ -0.8470 \\\\ -1.1937 \\end{bmatrix}$\n",
        "\n",
        "### 연습 (ab문제 소프트맥스로 확장한 것 다시 풀이)\n",
        "\n",
        "`-` 맵핑"
      ],
      "id": "8fadecf2-efb8-40db-b465-18b74a0879f7"
    },
    {
      "cell_type": "code",
      "execution_count": 18,
      "metadata": {
        "outputId": "35cffdb9-dfb5-4df9-de2f-af4ecd6f23fb"
      },
      "outputs": [
        {
          "output_type": "display_data",
          "metadata": {},
          "data": {
            "text/plain": [
              "(tensor([0, 1, 0, 1, 0]), tensor([1, 0, 1, 0, 1]))"
            ]
          }
        }
      ],
      "source": [
        "mapping = {'a':0,'b':1}\n",
        "x = torch.tensor(f(txt_x,mapping))\n",
        "y = torch.tensor(f(txt_y,mapping))\n",
        "x[:5],y[:5]"
      ],
      "id": "a1c63d9c-28bf-488d-a52d-468ef1a7ac21"
    },
    {
      "cell_type": "markdown",
      "metadata": {},
      "source": [
        "`-` torch.nn.Embedding 을 넣은 네트워크\n",
        "\n",
        "num_embedding이 2인 이유 a,b만 있어서"
      ],
      "id": "855c477c-a1ab-48ef-ba9d-9c12d70c1998"
    },
    {
      "cell_type": "code",
      "execution_count": 19,
      "metadata": {},
      "outputs": [],
      "source": [
        "net = torch.nn.Sequential(\n",
        "    torch.nn.Embedding(num_embeddings=2,embedding_dim=1),\n",
        "    torch.nn.Tanh(),\n",
        "    torch.nn.Linear(in_features=1,out_features=2)\n",
        ")\n",
        "loss_fn = torch.nn.CrossEntropyLoss()\n",
        "optimizr = torch.optim.Adam(net.parameters())"
      ],
      "id": "dbd064c4-5700-475a-8269-4b4a5853468f"
    },
    {
      "cell_type": "markdown",
      "metadata": {},
      "source": [
        "`-` 학습"
      ],
      "id": "0802e165-bee8-4fbd-868d-3657422ddc95"
    },
    {
      "cell_type": "code",
      "execution_count": 20,
      "metadata": {},
      "outputs": [],
      "source": [
        "for epoc in range(5000):\n",
        "    ## 1\n",
        "    yhat = net(x)\n",
        "    ## 2 \n",
        "    loss = loss_fn(yhat,y)\n",
        "    ## 3 \n",
        "    loss.backward()\n",
        "    ## 4 \n",
        "    optimizr.step()\n",
        "    optimizr.zero_grad()"
      ],
      "id": "257e9836-e4ab-46d7-adfc-334ba69f07c7"
    },
    {
      "cell_type": "code",
      "execution_count": 21,
      "metadata": {
        "outputId": "9f46661b-7d66-419b-dedd-b6972e7136b1"
      },
      "outputs": [
        {
          "output_type": "display_data",
          "metadata": {},
          "data": {
            "image/png": "[encoded data removed]"
          }
        }
      ],
      "source": [
        "plt.plot(y[:5],'o')\n",
        "plt.plot(soft(net(x[:5]))[:,1].data,'--r')"
      ],
      "id": "8e78e767-5ff6-4059-b064-72b7ea87f4b4"
    },
    {
      "cell_type": "code",
      "execution_count": 24,
      "metadata": {},
      "outputs": [
        {
          "output_type": "display_data",
          "metadata": {},
          "data": {
            "text/plain": [
              "tensor([[0.0040, 0.9960],\n",
              "        [0.9960, 0.0040],\n",
              "        [0.0040, 0.9960],\n",
              "        [0.9960, 0.0040],\n",
              "        [0.0040, 0.9960]], grad_fn=<SoftmaxBackward0>)"
            ]
          }
        }
      ],
      "source": [
        "soft(net(x[:5]))"
      ],
      "id": "fc92020f-34b5-403f-beee-619fe1a303c8"
    },
    {
      "cell_type": "code",
      "execution_count": 22,
      "metadata": {
        "outputId": "b0bf590c-9b00-4305-a01b-0ae12a632bb1"
      },
      "outputs": [
        {
          "output_type": "display_data",
          "metadata": {},
          "data": {
            "image/png": "[encoded data removed]"
          }
        }
      ],
      "source": [
        "plt.imshow(soft(net(x[:5])).data)"
      ],
      "id": "60c25b5a-8932-404f-af26-ccb221b76014"
    }
  ],
  "nbformat": 4,
  "nbformat_minor": 5,
  "metadata": {
    "colab": {
      "provenance": []
    },
    "kernelspec": {
      "name": "python3",
      "display_name": "Python 3",
      "language": "python"
    },
    "language_info": {
      "name": "python",
      "codemirror_mode": {
        "name": "ipython",
        "version": "3"
      },
      "file_extension": ".py",
      "mimetype": "text/x-python",
      "nbconvert_exporter": "python",
      "pygments_lexer": "ipython3",
      "version": "3.7.13"
    }
  }
}