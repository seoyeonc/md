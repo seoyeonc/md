{
  "cells": [
    {
      "cell_type": "markdown",
      "metadata": {},
      "source": [
        "# Homework\n",
        "\n",
        "SEOYEON CHOI  \n",
        "2022-10-05\n",
        "\n",
        "기계학습 특강 (6주차) 10월5일 Homework\n",
        "\n",
        "## imports"
      ],
      "id": "03f53156-8a09-4838-8b45-a619defe7bb9"
    },
    {
      "cell_type": "code",
      "execution_count": 198,
      "metadata": {
        "tags": []
      },
      "outputs": [],
      "source": [
        "import torch\n",
        "import torchvision\n",
        "from fastai.data.all import *\n",
        "import matplotlib.pyplot as plt"
      ],
      "id": "b468f250-35ba-4cb9-8500-6324caebdaf5"
    },
    {
      "cell_type": "markdown",
      "metadata": {},
      "source": [
        "## 숙제 (해설 및 풀이는 [여기](https://guebin.github.io/DL2022/2022/10/06/(6%EC%A3%BC%EC%B0%A8)-10%EC%9B%946%EC%9D%BC.html#%EC%88%99%EC%A0%9C)참고)\n",
        "\n",
        "1.  숫자0과 숫자1을 구분하는 네트워크를 아래와 같은 구조로 설계하라\n",
        "\n",
        "$$\\underset{(n,784)}{\\bf X} \\overset{l_1}{\\to} \\underset{(n,64)}{\\boldsymbol u^{(1)}} \\overset{a_1}{\\to} \\underset{(n,64)}{\\boldsymbol v^{(1)}} \\overset{l_1}{\\to} \\underset{(n,1)}{\\boldsymbol u^{(2)}} \\overset{a_2}{\\to} \\underset{(n,1)}{\\boldsymbol v^{(2)}}=\\underset{(n,1)}{\\hat{\\boldsymbol y}}$$\n",
        "\n",
        "위에서 $a_1$은 relu를, $a_2$는 sigmoid를 의미한다.\n",
        "\n",
        "-   “y=0”은 숫자0을 의미하도록 하고 “y=1”은 숫자1을 의미하도록 설정하라."
      ],
      "id": "66aad5c7-6731-4c1a-bc42-cf1addf95f7f"
    },
    {
      "cell_type": "code",
      "execution_count": 700,
      "metadata": {},
      "outputs": [],
      "source": [
        "path = untar_data(URLs.MNIST)"
      ],
      "id": "cce2c13a-e705-461c-b0bf-211edcde8b5d"
    },
    {
      "cell_type": "code",
      "execution_count": 701,
      "metadata": {},
      "outputs": [],
      "source": [
        "zero_fnames = (path/'training/0').ls()"
      ],
      "id": "78c1799b-ceb1-4ca3-8ccf-26294c214835"
    },
    {
      "cell_type": "code",
      "execution_count": 702,
      "metadata": {},
      "outputs": [],
      "source": [
        "one_fnames = (path/'training/1').ls()"
      ],
      "id": "a7a2a580-7bc6-4d4a-80f5-5f67acf42842"
    },
    {
      "cell_type": "code",
      "execution_count": 703,
      "metadata": {},
      "outputs": [],
      "source": [
        "X0 = torch.stack([torchvision.io.read_image(str(zf)) for zf in zero_fnames])"
      ],
      "id": "02e55131-af80-41a2-bd73-fcf019831c24"
    },
    {
      "cell_type": "code",
      "execution_count": 704,
      "metadata": {},
      "outputs": [],
      "source": [
        "X1 = torch.stack([torchvision.io.read_image(str(of)) for of in one_fnames])"
      ],
      "id": "4c175854-f0cf-475c-8925-d5c16db0ae9d"
    },
    {
      "cell_type": "code",
      "execution_count": 705,
      "metadata": {},
      "outputs": [],
      "source": [
        "X = torch.concat([X0,X1],axis=0).reshape(-1,1*28*28).float()"
      ],
      "id": "710d8270-1888-4982-a053-bb86ad351011"
    },
    {
      "cell_type": "code",
      "execution_count": 709,
      "metadata": {},
      "outputs": [],
      "source": [
        "y = torch.tensor([0.0]*len(X0) + [1.0]*len(X1)).reshape(-1,1)"
      ],
      "id": "fecd0fae-9995-422c-b140-9c41a28189d1"
    },
    {
      "cell_type": "code",
      "execution_count": 710,
      "metadata": {},
      "outputs": [],
      "source": [
        "torch.manual_seed(12345)\n",
        "net = torch.nn.Sequential(\n",
        "    torch.nn.Linear(784,64),\n",
        "    torch.nn.ReLU(),\n",
        "    torch.nn.Linear(64,1),\n",
        "    torch.nn.Sigmoid()\n",
        ")"
      ],
      "id": "0852e183-ec65-4e6f-adc9-e3d12a079f8f"
    },
    {
      "cell_type": "markdown",
      "metadata": {},
      "source": [
        "1.  아래의 지침에 따라 200 epoch 학습을 진행하라.\n",
        "\n",
        "-   손실함수는 BECLoss를 이용할 것. torch.nn.BCELoss() 를 이용할 것.\n",
        "-   옵티마이저는 아담으로 설정할 것. 학습률은 lr=0.002로 설정할 것."
      ],
      "id": "470795dc-5451-4273-a2c9-8e9db14075b6"
    },
    {
      "cell_type": "code",
      "execution_count": 711,
      "metadata": {},
      "outputs": [],
      "source": [
        "loss_fn = torch.nn.BCELoss()\n",
        "optimizr = torch.optim.Adam(net.parameters(),lr=0.002)"
      ],
      "id": "194a6d07-8039-41a8-a15b-6bff4d46b1e6"
    },
    {
      "cell_type": "code",
      "execution_count": 712,
      "metadata": {},
      "outputs": [],
      "source": [
        "for epoc in range(200):\n",
        "    yhat = net(X)\n",
        "    loss = loss_fn(yhat,y)\n",
        "    loss.backward()\n",
        "    optimizr.step()\n",
        "    optimizr.zero_grad()"
      ],
      "id": "6adaead3-ec41-48ec-839b-5d14dd670679"
    },
    {
      "cell_type": "code",
      "execution_count": 713,
      "metadata": {},
      "outputs": [
        {
          "output_type": "display_data",
          "metadata": {},
          "data": {
            "image/png": "[encoded data removed]"
          }
        }
      ],
      "source": [
        "plt.plot(y)\n",
        "plt.plot(yhat.data,'.',alpha=0.4)"
      ],
      "id": "ffd1d73f-4e72-43f1-b6a1-53dcfda4b91e"
    },
    {
      "cell_type": "markdown",
      "metadata": {},
      "source": [
        "1.  아래의 지침에 따라 200 epoch 학습을 진행하라. 학습이 잘 되는가?\n",
        "\n",
        "-   손실함수는 BECLoss를 이용할 것. torch.nn.BCELoss()를 사용하지 않고\n",
        "    수식을 직접 입력할 것.\n",
        "-   옵티마이저는 아담으로 설정할 것. 학습률은 lr=0.002로 설정할 것."
      ],
      "id": "43bea4eb-de90-4e89-8311-fa04df173d2d"
    },
    {
      "cell_type": "code",
      "execution_count": 714,
      "metadata": {},
      "outputs": [],
      "source": [
        "torch.manual_seed(12345)\n",
        "net = torch.nn.Sequential(\n",
        "    torch.nn.Linear(784,64),\n",
        "    torch.nn.ReLU(),\n",
        "    torch.nn.Linear(64,1),\n",
        "    torch.nn.Sigmoid()\n",
        ")"
      ],
      "id": "b2b0867a-69ef-4ea1-b42e-dd709e49b55a"
    },
    {
      "cell_type": "code",
      "execution_count": 715,
      "metadata": {},
      "outputs": [],
      "source": [
        "optimizr = torch.optim.Adam(net.parameters(),lr=0.002)"
      ],
      "id": "9b029676-1d64-421a-aa36-2b107c169a5a"
    },
    {
      "cell_type": "code",
      "execution_count": 716,
      "metadata": {},
      "outputs": [],
      "source": [
        "for epoc in range(200):\n",
        "    yhat = net(X)\n",
        "    loss = -torch.mean(y*torch.log(yhat) + (1-y)*torch.log(1-yhat))\n",
        "    loss.backward()\n",
        "    optimizr.step()\n",
        "    optimizr.zero_grad()"
      ],
      "id": "fd6625f9-0764-4090-84c0-be451fbb36ce"
    },
    {
      "cell_type": "code",
      "execution_count": 717,
      "metadata": {},
      "outputs": [
        {
          "output_type": "display_data",
          "metadata": {},
          "data": {
            "image/png": "[encoded data removed]"
          }
        }
      ],
      "source": [
        "plt.plot(y)\n",
        "plt.plot(yhat.data,'.',alpha=0.4)"
      ],
      "id": "cc11bc41-71ba-43c5-8203-6eb02004ed0e"
    },
    {
      "cell_type": "code",
      "execution_count": 718,
      "metadata": {},
      "outputs": [
        {
          "output_type": "display_data",
          "metadata": {},
          "data": {
            "text/plain": [
              "tensor([[nan],\n",
              "        [nan],\n",
              "        [nan],\n",
              "        ...,\n",
              "        [nan],\n",
              "        [nan],\n",
              "        [nan]])"
            ]
          }
        }
      ],
      "source": [
        "yhat.data"
      ],
      "id": "3ad780b7-11b4-469c-ae05-158497158eb7"
    },
    {
      "cell_type": "markdown",
      "metadata": {},
      "source": [
        "학습이 잘 되지 않았다.\n",
        "\n",
        "1.  아래의 지침에 따라 200 epoch 학습을 진행하라. 학습이 잘 되는가?\n",
        "\n",
        "-   이미지의 값을 0과 1사이로 규격화 하라. (Xnp = Xnp/255 를\n",
        "    이용하세요!)\n",
        "-   손실함수는 BECLoss를 이용할 것. torch.nn.BCELoss()를 사용하지 않고\n",
        "    수식을 직접 입력할 것.\n",
        "-   옵티마이저는 아담으로 설정할 것. 학습률은 lr=0.002로 설정할 것."
      ],
      "id": "91f5de68-4c86-47c9-b918-fc2ff6046e6f"
    },
    {
      "cell_type": "code",
      "execution_count": 719,
      "metadata": {},
      "outputs": [],
      "source": [
        "X = X/255"
      ],
      "id": "578dc5dd-89d0-43d2-9aa6-c869051211bf"
    },
    {
      "cell_type": "code",
      "execution_count": 720,
      "metadata": {},
      "outputs": [],
      "source": [
        "torch.manual_seed(12345)\n",
        "net = torch.nn.Sequential(\n",
        "    torch.nn.Linear(784,64),\n",
        "    torch.nn.ReLU(),\n",
        "    torch.nn.Linear(64,1),\n",
        "    torch.nn.Sigmoid()\n",
        ")"
      ],
      "id": "82723c20-9612-42ce-9734-a01d6f2758e5"
    },
    {
      "cell_type": "code",
      "execution_count": 721,
      "metadata": {},
      "outputs": [],
      "source": [
        "optimizr=torch.optim.Adam(net.parameters(),lr=0.002)"
      ],
      "id": "734638d6-d69b-4176-be41-d9644eb37681"
    },
    {
      "cell_type": "code",
      "execution_count": 722,
      "metadata": {},
      "outputs": [],
      "source": [
        "for epoc in range(200):\n",
        "    yhat = net(X)\n",
        "    loss = -torch.mean(y*torch.log(yhat) + (1-y)*torch.log(1-yhat))\n",
        "    loss.backward()\n",
        "    optimizr.step()\n",
        "    optimizr.zero_grad()"
      ],
      "id": "48b1e1d8-c83f-431e-80af-4fa71aff0fcb"
    },
    {
      "cell_type": "code",
      "execution_count": 723,
      "metadata": {},
      "outputs": [
        {
          "output_type": "display_data",
          "metadata": {},
          "data": {
            "image/png": "[encoded data removed]"
          }
        }
      ],
      "source": [
        "plt.plot(y)\n",
        "plt.plot(yhat.data,'.',alpha=0.4)"
      ],
      "id": "6116e56d-5f5b-42e7-92cb-fab8c260b87a"
    },
    {
      "cell_type": "markdown",
      "metadata": {},
      "source": [
        "1.  아래와 같은 수식을 이용하여 accuracy를 계산하라.\n",
        "\n",
        "$\\text{accuracy}=\\frac{1}{n}\\sum_{i=1}^n I(\\tilde{y}_i=y_i)$ -\n",
        "$\\tilde{y}_i = \\begin{cases}  1 & \\hat{y}_i > 0.5 \\\\  0 & \\hat{y}_i \\leq 0.5 \\end{cases}$ -\n",
        "$I(\\tilde{y}_i=y_i) = \\begin{cases} 1 & \\tilde{y}_i=y_i \\\\ 0 & \\tilde{y}_i \\neq y_i \\end{cases}$\n",
        "\n",
        "단, $n$은 0과 1을 의미하는 이미지의 수"
      ],
      "id": "5da78abb-9a14-4335-b02d-fe2beb7d3124"
    },
    {
      "cell_type": "code",
      "execution_count": 724,
      "metadata": {},
      "outputs": [],
      "source": [
        "ytilde = (yhat > 0.5) * 1"
      ],
      "id": "8ed07bf5-783a-418c-9af3-48363625145a"
    },
    {
      "cell_type": "code",
      "execution_count": 725,
      "metadata": {},
      "outputs": [
        {
          "output_type": "display_data",
          "metadata": {},
          "data": {
            "text/plain": [
              "tensor([[0],\n",
              "        [0],\n",
              "        [0],\n",
              "        ...,\n",
              "        [1],\n",
              "        [1],\n",
              "        [1]])"
            ]
          }
        }
      ],
      "source": [
        "ytilde"
      ],
      "id": "a9d7badd-0272-4ee7-bba4-b6227ce106f5"
    },
    {
      "cell_type": "code",
      "execution_count": 726,
      "metadata": {},
      "outputs": [
        {
          "output_type": "display_data",
          "metadata": {},
          "data": {
            "text/plain": [
              "tensor([[1],\n",
              "        [1],\n",
              "        [1],\n",
              "        ...,\n",
              "        [1],\n",
              "        [1],\n",
              "        [1]])"
            ]
          }
        }
      ],
      "source": [
        "(ytilde == y) * 1"
      ],
      "id": "4bdef4d8-1faf-4b75-9919-e4c4897b01da"
    },
    {
      "cell_type": "code",
      "execution_count": 727,
      "metadata": {},
      "outputs": [
        {
          "output_type": "display_data",
          "metadata": {},
          "data": {
            "text/plain": [
              "tensor(12661)"
            ]
          }
        }
      ],
      "source": [
        "torch.sum((ytilde == y) * 1)"
      ],
      "id": "f55d4fe4-26f8-472c-bb23-0c3526646932"
    },
    {
      "cell_type": "code",
      "execution_count": 728,
      "metadata": {},
      "outputs": [
        {
          "output_type": "display_data",
          "metadata": {},
          "data": {
            "text/plain": [
              "tensor(0.9997)"
            ]
          }
        }
      ],
      "source": [
        "torch.sum((ytilde == y) * 1)/len(y)"
      ],
      "id": "350fcc41-a8a0-455b-ada6-59af36004e1f"
    },
    {
      "cell_type": "code",
      "execution_count": 730,
      "metadata": {},
      "outputs": [
        {
          "output_type": "stream",
          "name": "stdout",
          "text": [
            "accuraccy:  tensor(0.9997)"
          ]
        }
      ],
      "source": [
        "print(\"accuraccy: \",torch.sum((ytilde == y) * 1)/len(y))"
      ],
      "id": "120350b2-6d51-4819-9071-e83ee6a8f6eb"
    }
  ],
  "nbformat": 4,
  "nbformat_minor": 5,
  "metadata": {
    "kernelspec": {
      "name": "python3",
      "display_name": "Python 3 (ipykernel)",
      "language": "python"
    },
    "language_info": {
      "name": "python",
      "codemirror_mode": {
        "name": "ipython",
        "version": "3"
      },
      "file_extension": ".py",
      "mimetype": "text/x-python",
      "nbconvert_exporter": "python",
      "pygments_lexer": "ipython3",
      "version": "3.8.12"
    }
  }
}