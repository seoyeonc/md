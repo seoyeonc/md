{
  "cells": [
    {
      "cell_type": "markdown",
      "metadata": {},
      "source": [
        "# RNN (11주차)\n",
        "\n",
        "SEOYEON CHOI  \n",
        "2022-11-21\n",
        "\n",
        "기계학습 특강 (11주차) 11월16일 \\[순환신경망– abc예제, abdc예제,\n",
        "abcde예제, AbAcAd예제\\]\n",
        "\n",
        "## import"
      ],
      "id": "9c523f35-b82d-4969-933c-530dc020d577"
    },
    {
      "cell_type": "code",
      "execution_count": 7,
      "metadata": {},
      "outputs": [],
      "source": [
        "import torch\n",
        "import numpy as np\n",
        "import matplotlib.pyplot as plt"
      ],
      "id": "ec063325-2a8b-46a1-b8ec-4d2301c2ce7b"
    },
    {
      "cell_type": "markdown",
      "metadata": {},
      "source": [
        "## Define some funtions"
      ],
      "id": "d30f8ef1-e339-46dd-9399-935f8d6f2f74"
    },
    {
      "cell_type": "code",
      "execution_count": 8,
      "metadata": {},
      "outputs": [],
      "source": [
        "def f(txt,mapping):\n",
        "    return [mapping[key] for key in txt] \n",
        "sig = torch.nn.Sigmoid()\n",
        "soft = torch.nn.Softmax(dim=1)\n",
        "tanh = torch.nn.Tanh()"
      ],
      "id": "15025b87-2f4d-4906-b3d4-ea0d5428b3b1"
    },
    {
      "cell_type": "markdown",
      "metadata": {},
      "source": [
        "## Exam4: AbAcAd (2)\n",
        "\n",
        "### data\n",
        "\n",
        "`-` 기존의 정리방식"
      ],
      "id": "c56a84ce-040f-423e-bb53-1d5b2daebfe4"
    },
    {
      "cell_type": "code",
      "execution_count": 9,
      "metadata": {},
      "outputs": [
        {
          "output_type": "display_data",
          "metadata": {},
          "data": {
            "text/plain": [
              "['A', 'b', 'A', 'c', 'A', 'd', 'A', 'b', 'A', 'c']"
            ]
          }
        }
      ],
      "source": [
        "txt = list('AbAcAd')*100\n",
        "txt[:10]"
      ],
      "id": "53f35a3d-20c2-4ea3-8aa4-9a82964b8190"
    },
    {
      "cell_type": "code",
      "execution_count": 10,
      "metadata": {},
      "outputs": [],
      "source": [
        "txt_x = txt[:-1]\n",
        "txt_y = txt[1:]"
      ],
      "id": "7705fe04-ed96-4c86-b749-06c09abb54a0"
    },
    {
      "cell_type": "code",
      "execution_count": 11,
      "metadata": {},
      "outputs": [
        {
          "output_type": "display_data",
          "metadata": {},
          "data": {
            "text/plain": [
              "(['A', 'b', 'A', 'c', 'A'], ['b', 'A', 'c', 'A', 'd'])"
            ]
          }
        }
      ],
      "source": [
        "txt_x[:5],txt_y[:5]"
      ],
      "id": "7251bb06-0cd1-400a-a3f7-0f38aef58859"
    },
    {
      "cell_type": "code",
      "execution_count": 12,
      "metadata": {},
      "outputs": [],
      "source": [
        "x = torch.nn.functional.one_hot(torch.tensor(f(txt_x,{'A':0,'b':1,'c':2,'d':3}))).float()\n",
        "y = torch.nn.functional.one_hot(torch.tensor(f(txt_y,{'A':0,'b':1,'c':2,'d':3}))).float()"
      ],
      "id": "3eb7194c-7f67-4d21-ada6-f01637ad34e3"
    },
    {
      "cell_type": "code",
      "execution_count": 13,
      "metadata": {},
      "outputs": [
        {
          "output_type": "display_data",
          "metadata": {},
          "data": {
            "text/plain": [
              "(tensor([[1., 0., 0., 0.],\n",
              "         [0., 1., 0., 0.],\n",
              "         [1., 0., 0., 0.],\n",
              "         ...,\n",
              "         [1., 0., 0., 0.],\n",
              "         [0., 0., 1., 0.],\n",
              "         [1., 0., 0., 0.]]),\n",
              " tensor([[0., 1., 0., 0.],\n",
              "         [1., 0., 0., 0.],\n",
              "         [0., 0., 1., 0.],\n",
              "         ...,\n",
              "         [0., 0., 1., 0.],\n",
              "         [1., 0., 0., 0.],\n",
              "         [0., 0., 0., 1.]]))"
            ]
          }
        }
      ],
      "source": [
        "x,y"
      ],
      "id": "335c56cd-ff19-449d-a50f-f35f8f8ab830"
    },
    {
      "cell_type": "markdown",
      "metadata": {},
      "source": [
        "### 순환신경망 구현1 (손으로 직접구현) – 리뷰\n",
        "\n",
        "`(1)` 숙성담당 네트워크"
      ],
      "id": "84ed16fe-cc71-4f51-a764-cba761c9488a"
    },
    {
      "cell_type": "code",
      "execution_count": 9,
      "metadata": {},
      "outputs": [],
      "source": [
        "class rNNCell(torch.nn.Module):\n",
        "    def __init__(self):\n",
        "        super().__init__()\n",
        "        self.i2h = torch.nn.Linear(4,2) \n",
        "        self.h2h = torch.nn.Linear(2,2) \n",
        "        self.tanh = torch.nn.Tanh()\n",
        "    def forward(self,x,hidden):\n",
        "        hidden = self.tanh(self.i2h(x)+self.h2h(hidden))\n",
        "        return hidden"
      ],
      "id": "dd870cc2-2d7d-4129-8568-3569f4cf8c41"
    },
    {
      "cell_type": "code",
      "execution_count": 10,
      "metadata": {},
      "outputs": [],
      "source": [
        "torch.manual_seed(43052)\n",
        "rnncell = rNNCell() # 숙성담당 네트워크 "
      ],
      "id": "27940560-4a81-427a-a12a-dcd877c5761b"
    },
    {
      "cell_type": "markdown",
      "metadata": {},
      "source": [
        "`(2)` 조리담당 네트워크"
      ],
      "id": "c4401a1f-2f5f-42c4-95b1-e3a128ef2af6"
    },
    {
      "cell_type": "code",
      "execution_count": 11,
      "metadata": {},
      "outputs": [],
      "source": [
        "torch.manual_seed(43052)\n",
        "cook = torch.nn.Linear(2,4) "
      ],
      "id": "0eb0d231-8f3e-415b-b8be-21699741fa9f"
    },
    {
      "cell_type": "markdown",
      "metadata": {},
      "source": [
        "`(3)` 손실함수, 옵티마이저 설계"
      ],
      "id": "f9c22044-cbb6-4679-9b16-1d697c6aa1aa"
    },
    {
      "cell_type": "code",
      "execution_count": 12,
      "metadata": {},
      "outputs": [],
      "source": [
        "loss_fn = torch.nn.CrossEntropyLoss() \n",
        "optimizr = torch.optim.Adam(list(rnncell.parameters())+list(cook.parameters()))"
      ],
      "id": "0ee8e986-3291-4148-a2e9-7b2a90595aed"
    },
    {
      "cell_type": "markdown",
      "metadata": {},
      "source": [
        "`(4)` 학습 (6분정도 걸림)"
      ],
      "id": "43936d2b-c057-403d-800f-6b5e959308dc"
    },
    {
      "cell_type": "code",
      "execution_count": 19,
      "metadata": {},
      "outputs": [
        {
          "output_type": "display_data",
          "metadata": {},
          "data": {
            "text/plain": [
              "torch.Size([1, 4])"
            ]
          }
        }
      ],
      "source": [
        "x[[2]].shape"
      ],
      "id": "81ad4564-5060-43fb-8c95-6c5b3d4c92e1"
    },
    {
      "cell_type": "code",
      "execution_count": 13,
      "metadata": {},
      "outputs": [],
      "source": [
        "T = len(x) \n",
        "for epoc in range(5000): \n",
        "    ## 1~2\n",
        "    loss = 0 \n",
        "    ht = torch.zeros(1,2) \n",
        "    for t in range(T):\n",
        "        xt,yt = x[[t]], y[[t]]\n",
        "        ht = rnncell(xt,ht) \n",
        "        ot = cook(ht) \n",
        "        loss = loss + loss_fn(ot,yt) \n",
        "    ## 3 \n",
        "    loss.backward()\n",
        "    ## 4 \n",
        "    optimizr.step()\n",
        "    optimizr.zero_grad()"
      ],
      "id": "6c6a42f3-1418-44d1-a93c-cefc173e6e30"
    },
    {
      "cell_type": "markdown",
      "metadata": {},
      "source": [
        "`(5)` 시각화"
      ],
      "id": "c2b09881-d3bf-4e9b-9c33-5ff9e85c7e04"
    },
    {
      "cell_type": "code",
      "execution_count": 14,
      "metadata": {},
      "outputs": [],
      "source": [
        "T = len(x) \n",
        "hidden = torch.zeros(T,2) # 599년치 h를 담을 변수 \n",
        "_water = torch.zeros(1,2) # 맹물 \n",
        "hidden[[0]] = rnncell(x[[0]],_water) \n",
        "for t in range(1,T):\n",
        "    hidden[[t]] = rnncell(x[[t]],hidden[[t-1]]) "
      ],
      "id": "0979a565-dc50-4c2c-b62e-76b64f026813"
    },
    {
      "cell_type": "code",
      "execution_count": 15,
      "metadata": {},
      "outputs": [
        {
          "output_type": "display_data",
          "metadata": {},
          "data": {
            "text/plain": [
              "tensor([[1.6522e-02, 6.2036e-01, 1.0433e-01, 2.5879e-01],\n",
              "        [9.9965e-01, 6.5788e-05, 1.8450e-05, 2.6785e-04],\n",
              "        [7.6673e-05, 1.9704e-01, 8.0201e-01, 8.7218e-04],\n",
              "        ...,\n",
              "        [7.4634e-05, 1.9501e-01, 8.0407e-01, 8.4751e-04],\n",
              "        [9.4785e-01, 7.4711e-03, 6.1182e-04, 4.4064e-02],\n",
              "        [3.6306e-02, 1.2466e-01, 2.8862e-03, 8.3615e-01]],\n",
              "       grad_fn=<SoftmaxBackward0>)"
            ]
          }
        }
      ],
      "source": [
        "yhat = soft(cook(hidden))\n",
        "yhat"
      ],
      "id": "4e07845c-2d97-4add-a07c-0a445b70158f"
    },
    {
      "cell_type": "code",
      "execution_count": 113,
      "metadata": {},
      "outputs": [
        {
          "output_type": "display_data",
          "metadata": {},
          "data": {
            "image/png": "[encoded data removed]"
          }
        }
      ],
      "source": [
        "plt.matshow(yhat.data[-15:],cmap='bwr')"
      ],
      "id": "2a691864-38ef-4f09-871a-9fe790c217a9"
    },
    {
      "cell_type": "markdown",
      "metadata": {},
      "source": [
        "### 순환신경망 구현2 (with RNNCell, hidden node 2)\n",
        "\n",
        "ref: <https://pytorch.org/docs/stable/generated/torch.nn.RNNCell.html>\n",
        "\n",
        "#### 구현1과 같은 초기값 (확인용)\n",
        "\n",
        "`(1)` 숙성네트워크"
      ],
      "id": "5a49e521-9fbd-48a2-95a1-111a67c88824"
    },
    {
      "cell_type": "code",
      "execution_count": 114,
      "metadata": {},
      "outputs": [],
      "source": [
        "torch.manual_seed(43052)\n",
        "_rnncell = rNNCell() # 숙성담당 네트워크 "
      ],
      "id": "912e7492-e89b-43e4-af20-10c21734a89a"
    },
    {
      "cell_type": "code",
      "execution_count": 115,
      "metadata": {},
      "outputs": [],
      "source": [
        "rnncell = torch.nn.RNNCell(4,2)"
      ],
      "id": "427dc3ff-dabc-4832-8eb7-9efe9eb30b57"
    },
    {
      "cell_type": "markdown",
      "metadata": {},
      "source": [
        "-   input_size = 4\n",
        "-   hindden_size = 2\n",
        "\n",
        "`rNNCell()` 는 사실 `torch.nn.RNNCell()`와 같은 동작을 하도록 설계를\n",
        "하였음.\n",
        "\n",
        "같은동작을 하는지 확인하기 위해서 동일한 초기상태에서 `rNNCell()`에\n",
        "의하여 학습된 결과와 `torch.nn.RNNCell()`에 의하여 학습된 결과를\n",
        "비교해보자."
      ],
      "id": "459a270f-c94e-4513-96d3-0f40a99e3f31"
    },
    {
      "cell_type": "code",
      "execution_count": 116,
      "metadata": {},
      "outputs": [
        {
          "output_type": "display_data",
          "metadata": {},
          "data": {
            "text/plain": [
              "torch.Size([2, 4])"
            ]
          }
        }
      ],
      "source": [
        "rnncell.weight_ih.shape"
      ],
      "id": "04a0c43e-97fb-484c-8935-a525c78df496"
    },
    {
      "cell_type": "code",
      "execution_count": 117,
      "metadata": {},
      "outputs": [
        {
          "output_type": "display_data",
          "metadata": {},
          "data": {
            "text/plain": [
              "torch.Size([2])"
            ]
          }
        }
      ],
      "source": [
        "rnncell.bias_ih.shape"
      ],
      "id": "3e47d369-7787-456a-a80f-0bd89847a1e3"
    },
    {
      "cell_type": "code",
      "execution_count": 118,
      "metadata": {},
      "outputs": [
        {
          "output_type": "display_data",
          "metadata": {},
          "data": {
            "text/plain": [
              "torch.Size([2, 2])"
            ]
          }
        }
      ],
      "source": [
        "rnncell.weight_hh.shape"
      ],
      "id": "4ce45c73-6828-49a5-8e9c-37b352059923"
    },
    {
      "cell_type": "code",
      "execution_count": 119,
      "metadata": {},
      "outputs": [
        {
          "output_type": "display_data",
          "metadata": {},
          "data": {
            "text/plain": [
              "torch.Size([2])"
            ]
          }
        }
      ],
      "source": [
        "rnncell.bias_hh.shape "
      ],
      "id": "a0189fcb-fcbd-480a-a5a8-3698949590e8"
    },
    {
      "cell_type": "code",
      "execution_count": 120,
      "metadata": {},
      "outputs": [],
      "source": [
        "rnncell.weight_ih.data = _rnncell.i2h.weight.data\n",
        "rnncell.bias_ih.data = _rnncell.i2h.bias.data\n",
        "rnncell.weight_hh.data = _rnncell.h2h.weight.data\n",
        "rnncell.bias_hh.data = _rnncell.h2h.bias.data"
      ],
      "id": "6df5a3a8-d8bb-4972-9abf-9cfbc6dfba8c"
    },
    {
      "cell_type": "markdown",
      "metadata": {},
      "source": [
        "\\_rnncell 초기값을 rnncell에 넣어주기\n",
        "\n",
        "`(2)` 조리네트워크"
      ],
      "id": "4a066ba7-8218-4666-a76c-80ef01019172"
    },
    {
      "cell_type": "code",
      "execution_count": 121,
      "metadata": {},
      "outputs": [],
      "source": [
        "torch.manual_seed(43052)\n",
        "cook = torch.nn.Linear(2,4) # 숙성된 2차원의 단어를 다시 4차원으로 바꿔줘야지 나중에 softmax취할 수 있음"
      ],
      "id": "b7dcb6cd-662e-4849-a7cd-7bf072afc0eb"
    },
    {
      "cell_type": "markdown",
      "metadata": {},
      "source": [
        "`(3)` 손실함수와 옵티마이저"
      ],
      "id": "86d2a034-aad9-4af0-945d-c75253904f57"
    },
    {
      "cell_type": "code",
      "execution_count": 122,
      "metadata": {},
      "outputs": [],
      "source": [
        "loss_fn = torch.nn.CrossEntropyLoss()\n",
        "optimizr = torch.optim.Adam(list(rnncell.parameters())+list(cook.parameters()))"
      ],
      "id": "3df2a7ad-3dca-480f-b8eb-267f85550c4a"
    },
    {
      "cell_type": "markdown",
      "metadata": {},
      "source": [
        "`(4)` 학습"
      ],
      "id": "8c6349fc-2036-47fb-b20c-645d92f0ac76"
    },
    {
      "cell_type": "code",
      "execution_count": 123,
      "metadata": {},
      "outputs": [],
      "source": [
        "T = len(x) \n",
        "for epoc in range(5000):\n",
        "    ## 1~2\n",
        "    loss = 0 \n",
        "    ht = torch.zeros(1,2) \n",
        "    for t in range(T):\n",
        "        xt,yt = x[[t]], y[[t]]\n",
        "        ht = rnncell(xt,ht)\n",
        "        ot = cook(ht)\n",
        "        loss = loss + loss_fn(ot,yt) \n",
        "    ## 3 \n",
        "    loss.backward()\n",
        "    ## 4 \n",
        "    optimizr.step()\n",
        "    optimizr.zero_grad()"
      ],
      "id": "3da3ff3e-cc6d-41ca-b356-09689378fc93"
    },
    {
      "cell_type": "markdown",
      "metadata": {},
      "source": [
        "`(5)` 시각화"
      ],
      "id": "0af715f3-d4cd-4a76-8574-dbf6b942fd4f"
    },
    {
      "cell_type": "code",
      "execution_count": 124,
      "metadata": {},
      "outputs": [],
      "source": [
        "hidden = torch.zeros(T,2) "
      ],
      "id": "12b9ec09-0331-42bc-bb01-2fed1935e768"
    },
    {
      "cell_type": "code",
      "execution_count": 125,
      "metadata": {},
      "outputs": [],
      "source": [
        "# t=0 \n",
        "_water = torch.zeros(1,2)\n",
        "hidden[[0]] = rnncell(x[[0]],_water)\n",
        "# t=1~T \n",
        "for t in range(1,T):\n",
        "    hidden[[t]] = rnncell(x[[t]],hidden[[t-1]])"
      ],
      "id": "dd76fb29-8944-4916-9225-be9b4680403d"
    },
    {
      "cell_type": "code",
      "execution_count": 126,
      "metadata": {},
      "outputs": [
        {
          "output_type": "display_data",
          "metadata": {},
          "data": {
            "text/plain": [
              "tensor([[1.6522e-02, 6.2036e-01, 1.0433e-01, 2.5879e-01],\n",
              "        [9.9965e-01, 6.5788e-05, 1.8450e-05, 2.6785e-04],\n",
              "        [7.6673e-05, 1.9704e-01, 8.0201e-01, 8.7218e-04],\n",
              "        ...,\n",
              "        [7.4634e-05, 1.9501e-01, 8.0407e-01, 8.4751e-04],\n",
              "        [9.4785e-01, 7.4711e-03, 6.1182e-04, 4.4064e-02],\n",
              "        [3.6306e-02, 1.2466e-01, 2.8862e-03, 8.3615e-01]],\n",
              "       grad_fn=<SoftmaxBackward0>)"
            ]
          }
        }
      ],
      "source": [
        "yhat = soft(cook(hidden))\n",
        "yhat"
      ],
      "id": "eefd7307-5710-4475-b6fb-c831e075fc0c"
    },
    {
      "cell_type": "code",
      "execution_count": 127,
      "metadata": {},
      "outputs": [
        {
          "output_type": "display_data",
          "metadata": {},
          "data": {
            "image/png": "[encoded data removed]"
          }
        }
      ],
      "source": [
        "plt.matshow(yhat[:15].data,cmap='bwr')"
      ],
      "id": "db0b8220-8e2f-4fc5-8060-31a3b7deb86c"
    },
    {
      "cell_type": "code",
      "execution_count": 128,
      "metadata": {},
      "outputs": [
        {
          "output_type": "display_data",
          "metadata": {},
          "data": {
            "image/png": "[encoded data removed]"
          }
        }
      ],
      "source": [
        "plt.matshow(yhat[-15:].data,cmap='bwr')"
      ],
      "id": "9ebbdb60-0732-4db1-8dfa-78774b2b267b"
    },
    {
      "cell_type": "markdown",
      "metadata": {},
      "source": [
        "뒷부분갈수록 잘 맞음\n",
        "\n",
        "#### 새로운 초기값\n",
        "\n",
        "`(1)` 숙성네트워크"
      ],
      "id": "26aa8e17-798d-485a-84c9-e3281ae4aeda"
    },
    {
      "cell_type": "code",
      "execution_count": 129,
      "metadata": {},
      "outputs": [
        {
          "output_type": "display_data",
          "metadata": {},
          "data": {
            "text/plain": [
              "RNNCell(4, 2)"
            ]
          }
        }
      ],
      "source": [
        "torch.manual_seed(43052)\n",
        "torch.nn.RNNCell(4,2)"
      ],
      "id": "c374dfe9-c6a9-4d36-94c2-c7dfe3608064"
    },
    {
      "cell_type": "markdown",
      "metadata": {},
      "source": [
        "앞 부분은 잘 맞지 않고 뒷부분은 잘 맞을 것!\n",
        "\n",
        "`(2)` 조리네트워크"
      ],
      "id": "9b62e0b3-f068-490b-bb1c-2827da71b633"
    },
    {
      "cell_type": "code",
      "execution_count": 130,
      "metadata": {},
      "outputs": [],
      "source": [
        "torch.manual_seed(43052)\n",
        "cook = torch.nn.Linear(2,4) # 숙성된 2차원의 단어를 다시 4차원으로 바꿔줘야지 나중에 softmax취할 수 있음"
      ],
      "id": "13e0f035-94ad-4410-aa59-56233a3a9af1"
    },
    {
      "cell_type": "markdown",
      "metadata": {},
      "source": [
        "`(3)` 손실함수와 옵티마이저"
      ],
      "id": "97d4e857-dbcf-43a4-83fd-ba539f7705b4"
    },
    {
      "cell_type": "code",
      "execution_count": 131,
      "metadata": {},
      "outputs": [],
      "source": [
        "loss_fn = torch.nn.CrossEntropyLoss()\n",
        "optimizr = torch.optim.Adam(list(rnncell.parameters())+list(cook.parameters()))"
      ],
      "id": "f76fc9c2-e220-4a39-9664-3e3b206d13ad"
    },
    {
      "cell_type": "markdown",
      "metadata": {},
      "source": [
        "`(4)` 학습"
      ],
      "id": "3784f0d0-de0e-47eb-a8bf-927e7f902d61"
    },
    {
      "cell_type": "code",
      "execution_count": 132,
      "metadata": {},
      "outputs": [],
      "source": [
        "T = len(x) \n",
        "for epoc in range(5000):\n",
        "    ## 1~2\n",
        "    loss = 0 \n",
        "    ht = torch.zeros(1,2) \n",
        "    for t in range(T):\n",
        "        xt,yt = x[[t]], y[[t]]\n",
        "        ht = rnncell(xt,ht)\n",
        "        ot = cook(ht)\n",
        "        loss = loss + loss_fn(ot,yt) \n",
        "    ## 3 \n",
        "    loss.backward()\n",
        "    ## 4 \n",
        "    optimizr.step()\n",
        "    optimizr.zero_grad()"
      ],
      "id": "1636446c-840f-4bc2-8b32-1ba985c7f2b3"
    },
    {
      "cell_type": "markdown",
      "metadata": {},
      "source": [
        "`(5)` 시각화\n",
        "\n",
        "x -\\> h -\\> o -\\> yhat(softmax(o))\n",
        "\n",
        "네트워크만 학습된 상태, 따라서 hiddenlayer를 재구성해줘야 한다.\n",
        "\n",
        "### 순환신경망 구현3 (with RNN, hidden node 2) – 성공\n",
        "\n",
        "(예비학습)\n",
        "\n",
        "`-` 네트워크학습이후 yhat을 구하려면 번거로웠음\n",
        "\n",
        "``` python\n",
        "hidden = torch.zeros(T,2) \n",
        "_water = torch.zeros(1,2)\n",
        "hidden[[0]] = rnncell(x[[0]],_water)\n",
        "for t in range(1,T):\n",
        "    hidden[[t]] = rnncell(x[[t]],hidden[[t-1]])\n",
        "yhat = soft(cook(hidden))\n",
        "```\n",
        "\n",
        "`-` 이렇게 하면 쉽게(?) 구할 수 있음"
      ],
      "id": "62db0563-6fd7-4f72-a833-389139d4c280"
    },
    {
      "cell_type": "code",
      "execution_count": 133,
      "metadata": {},
      "outputs": [],
      "source": [
        "rnn = torch.nn.RNN(4,2)"
      ],
      "id": "77f04ace-59b1-4b5b-9773-9929d51bd59c"
    },
    {
      "cell_type": "code",
      "execution_count": 134,
      "metadata": {},
      "outputs": [],
      "source": [
        "rnn.weight_hh_l0.data = rnncell.weight_hh.data \n",
        "rnn.weight_ih_l0.data = rnncell.weight_ih.data\n",
        "rnn.bias_hh_l0.data = rnncell.bias_hh.data\n",
        "rnn.bias_ih_l0.data = rnncell.bias_ih.data"
      ],
      "id": "73ecf1be-4a22-41ee-a747-1956475ee53c"
    },
    {
      "cell_type": "markdown",
      "metadata": {},
      "source": [
        "`-` rnn(x,\\_water)의 결과는 (1) 599년치 간장 (2) 599번째 간장 이다"
      ],
      "id": "e5a4ecb0-a255-435b-a577-b35b60a304e5"
    },
    {
      "cell_type": "code",
      "execution_count": 135,
      "metadata": {},
      "outputs": [
        {
          "output_type": "display_data",
          "metadata": {},
          "data": {
            "text/plain": [
              "((tensor([[-0.1271,  0.9965],\n",
              "          [-1.0000, -0.9987],\n",
              "          [ 0.9962,  1.0000],\n",
              "          ...,\n",
              "          [ 0.9962,  1.0000],\n",
              "          [-1.0000, -0.9897],\n",
              "          [ 0.9959,  1.0000]], grad_fn=<SqueezeBackward1>),\n",
              "  tensor([[0.9959, 1.0000]], grad_fn=<SqueezeBackward1>)),\n",
              " tensor([[-0.2232,  0.9769],\n",
              "         [-0.9999, -0.9742],\n",
              "         [ 0.9154,  0.9992],\n",
              "         ...,\n",
              "         [ 0.9200,  0.9992],\n",
              "         [-0.9978, -0.0823],\n",
              "         [-0.9154,  0.9965]], grad_fn=<IndexPutBackward0>))"
            ]
          }
        }
      ],
      "source": [
        "rnn(x,_water), hidden"
      ],
      "id": "e53dc2c8-0e1e-4cb9-b5c9-e645540e86bc"
    },
    {
      "cell_type": "code",
      "execution_count": 136,
      "metadata": {},
      "outputs": [
        {
          "output_type": "display_data",
          "metadata": {},
          "data": {
            "text/plain": [
              "tensor([[6.0688e-02, 4.2958e-01, 2.9885e-01, 2.1088e-01],\n",
              "        [9.9700e-01, 8.2096e-04, 1.3663e-03, 8.1039e-04],\n",
              "        [2.2782e-03, 3.3203e-01, 3.3260e-01, 3.3309e-01],\n",
              "        ...,\n",
              "        [2.2779e-03, 3.3203e-01, 3.3260e-01, 3.3309e-01],\n",
              "        [9.9692e-01, 8.4633e-04, 1.4012e-03, 8.3072e-04],\n",
              "        [2.2803e-03, 3.3206e-01, 3.3260e-01, 3.3306e-01]],\n",
              "       grad_fn=<SoftmaxBackward0>)"
            ]
          }
        }
      ],
      "source": [
        "soft(cook(rnn(x,_water)[0]))"
      ],
      "id": "6f50b73a-35d8-4a7c-a07e-574574b40c42"
    },
    {
      "cell_type": "markdown",
      "metadata": {},
      "source": [
        "***(예비학습결론) torch.nn.RNN(4,2)는 torch.nn.RNNCell(4,2)의 batch\n",
        "버전이다. (for문이 포함된 버전이다)***\n",
        "\n",
        "------------------------------------------------------------------------\n",
        "\n",
        "torch.nn.RNN(4,2)를 이용하여 구현하자.\n",
        "\n",
        "`(1)` 숙성네트워크\n",
        "\n",
        "선언"
      ],
      "id": "863e5d08-d636-4465-9a0e-31237e0c50a9"
    },
    {
      "cell_type": "code",
      "execution_count": 137,
      "metadata": {},
      "outputs": [],
      "source": [
        "rnn = torch.nn.RNN(4,2)"
      ],
      "id": "5a4b35c7-12cb-4d8f-8583-76f2bf260b0a"
    },
    {
      "cell_type": "markdown",
      "metadata": {},
      "source": [
        "가중치초기화"
      ],
      "id": "f3170f23-5ec6-4ac4-b012-ce2def111c3a"
    },
    {
      "cell_type": "code",
      "execution_count": 138,
      "metadata": {},
      "outputs": [],
      "source": [
        "torch.manual_seed(43052)\n",
        "_rnncell = torch.nn.RNNCell(4,2)"
      ],
      "id": "b31d7b41-6794-48df-b74c-a539a458bf35"
    },
    {
      "cell_type": "code",
      "execution_count": 139,
      "metadata": {},
      "outputs": [],
      "source": [
        "rnn.weight_hh_l0.data = _rnncell.weight_hh.data \n",
        "rnn.weight_ih_l0.data = _rnncell.weight_ih.data\n",
        "rnn.bias_hh_l0.data = _rnncell.bias_hh.data\n",
        "rnn.bias_ih_l0.data = _rnncell.bias_ih.data"
      ],
      "id": "1e1c6f16-9ac5-4e6d-9f3d-26868968d886"
    },
    {
      "cell_type": "markdown",
      "metadata": {},
      "source": [
        "`(2)` 조리네트워크"
      ],
      "id": "f365362d-c505-4f5d-a260-8263243ed4b0"
    },
    {
      "cell_type": "code",
      "execution_count": 140,
      "metadata": {},
      "outputs": [],
      "source": [
        "torch.manual_seed(43052)\n",
        "cook = torch.nn.Linear(2,4) "
      ],
      "id": "c7458907-7b80-4981-871d-d477fe9daeaf"
    },
    {
      "cell_type": "markdown",
      "metadata": {},
      "source": [
        "`(3)` 손실함수와 옵티마이저"
      ],
      "id": "88174218-31bf-441c-bf26-b56d8c76b8c5"
    },
    {
      "cell_type": "code",
      "execution_count": 141,
      "metadata": {},
      "outputs": [],
      "source": [
        "loss_fn = torch.nn.CrossEntropyLoss()\n",
        "optimizr = torch.optim.Adam(list(rnn.parameters())+list(cook.parameters()))"
      ],
      "id": "4d56f314-a8cd-4c85-8f7c-ba0081aefb42"
    },
    {
      "cell_type": "markdown",
      "metadata": {},
      "source": [
        "`(4)` 학습"
      ],
      "id": "78b33734-c0c3-4e3e-85c7-75af908e5517"
    },
    {
      "cell_type": "code",
      "execution_count": 142,
      "metadata": {},
      "outputs": [],
      "source": [
        "_water = torch.zeros(1,2) \n",
        "for epoc in range(5000):\n",
        "    ## 1 \n",
        "    hidden,hT = rnn(x,_water)\n",
        "    output = cook(hidden) \n",
        "    ## 2 \n",
        "    loss = loss_fn(output,y)\n",
        "    ## 3 \n",
        "    loss.backward()\n",
        "    ## 4 \n",
        "    optimizr.step()\n",
        "    optimizr.zero_grad()"
      ],
      "id": "193b2256-2898-4f7a-8bd7-30c6f36adcf2"
    },
    {
      "cell_type": "markdown",
      "metadata": {},
      "source": [
        "결과는 같을 것\n",
        "\n",
        "`(5)` 시각화1: yhat"
      ],
      "id": "7e487fcc-ae8c-4cf4-b50d-9eb7486eb8ff"
    },
    {
      "cell_type": "code",
      "execution_count": 143,
      "metadata": {},
      "outputs": [],
      "source": [
        "yhat = soft(output)"
      ],
      "id": "2d3ba732-9f22-40cd-960b-5ee7256d4e1f"
    },
    {
      "cell_type": "code",
      "execution_count": 144,
      "metadata": {},
      "outputs": [
        {
          "output_type": "display_data",
          "metadata": {},
          "data": {
            "image/png": "[encoded data removed]"
          }
        }
      ],
      "source": [
        "plt.matshow(yhat.data[:15],cmap='bwr')"
      ],
      "id": "b80f712d-3921-4095-8d4e-008f94c6847b"
    },
    {
      "cell_type": "markdown",
      "metadata": {},
      "source": [
        "-   처음은 좀 틀렸음 ㅎㅎ"
      ],
      "id": "74210b5e-5cd2-4de5-93e1-6d05bf0107e6"
    },
    {
      "cell_type": "code",
      "execution_count": 145,
      "metadata": {},
      "outputs": [
        {
          "output_type": "display_data",
          "metadata": {},
          "data": {
            "image/png": "[encoded data removed]"
          }
        }
      ],
      "source": [
        "plt.matshow(yhat.data[-15:],cmap='bwr')"
      ],
      "id": "a28eb333-7d11-49ba-97d0-864b518067b2"
    },
    {
      "cell_type": "markdown",
      "metadata": {},
      "source": [
        "-   뒤에는 잘맞음\n",
        "\n",
        "**실전팁: `_water` 대신에 `hT`를 대입 (사실 큰 차이는 없음)**\n",
        "\n",
        "hT는 이미 값이 저장되어 있잖아"
      ],
      "id": "0667843b-cd11-41d5-ad2f-a01700da8c4c"
    },
    {
      "cell_type": "code",
      "execution_count": 146,
      "metadata": {},
      "outputs": [
        {
          "output_type": "display_data",
          "metadata": {},
          "data": {
            "text/plain": [
              "((tensor([[-0.9912, -0.9117],\n",
              "          [ 0.0698, -1.0000],\n",
              "          [-0.9927, -0.9682],\n",
              "          [ 0.5761, -1.0000],\n",
              "          [-0.9960, -0.0173],\n",
              "          [ 0.9960, -1.0000]], grad_fn=<SqueezeBackward1>),\n",
              "  tensor([[ 0.9960, -1.0000]], grad_fn=<SqueezeBackward1>)),\n",
              " (tensor([[-0.9713, -1.0000],\n",
              "          [ 0.0535, -1.0000],\n",
              "          [-0.9925, -0.9720],\n",
              "          [ 0.5759, -1.0000],\n",
              "          [-0.9960, -0.0180],\n",
              "          [ 0.9960, -1.0000]], grad_fn=<SqueezeBackward1>),\n",
              "  tensor([[ 0.9960, -1.0000]], grad_fn=<SqueezeBackward1>)))"
            ]
          }
        }
      ],
      "source": [
        "rnn(x[:6],_water),rnn(x[:6],hT)"
      ],
      "id": "877bf41c-1797-477b-b695-c9382529948a"
    },
    {
      "cell_type": "markdown",
      "metadata": {},
      "source": [
        "`(6)` 시각화2: hidden, yhat"
      ],
      "id": "47f51548-0ffd-491a-8b7d-37eeb04cfb21"
    },
    {
      "cell_type": "code",
      "execution_count": 147,
      "metadata": {},
      "outputs": [],
      "source": [
        "combinded = torch.concat([hidden,yhat],axis=1)"
      ],
      "id": "69e24656-dbf6-4b54-adb8-de36b9bb21e7"
    },
    {
      "cell_type": "code",
      "execution_count": 148,
      "metadata": {},
      "outputs": [
        {
          "output_type": "display_data",
          "metadata": {},
          "data": {
            "image/png": "[encoded data removed]"
          }
        }
      ],
      "source": [
        "plt.matshow(combinded[-15:].data,cmap='bwr')"
      ],
      "id": "5fac9052-170e-45be-9321-e09607543146"
    },
    {
      "cell_type": "markdown",
      "metadata": {},
      "source": [
        "-   히든노드의 해석이 어려움.\n",
        "\n",
        "hidden layer-\\>layer 더 있음 좋겠다\n",
        "\n",
        "### 순환신경망 구현4 (with RNN, hidden node 3) – 성공\n",
        "\n",
        "`(1)` 숙성네트워크~ `(2)` 조리네트워크"
      ],
      "id": "9335d1d4-86b4-43f4-8389-4bb76eb40c4d"
    },
    {
      "cell_type": "code",
      "execution_count": 149,
      "metadata": {},
      "outputs": [],
      "source": [
        "torch.manual_seed(2) #1 \n",
        "rnn = torch.nn.RNN(4,3) \n",
        "cook = torch.nn.Linear(3,4) "
      ],
      "id": "6cae8682-9dd8-4e4b-82a0-b76d4e3b694b"
    },
    {
      "cell_type": "markdown",
      "metadata": {},
      "source": [
        "`(3)` 손실함수와 옵티마이저"
      ],
      "id": "74a25666-798b-4241-8c19-6684eeeda316"
    },
    {
      "cell_type": "code",
      "execution_count": 150,
      "metadata": {},
      "outputs": [],
      "source": [
        "loss_fn = torch.nn.CrossEntropyLoss()\n",
        "optimizr = torch.optim.Adam(list(rnn.parameters())+list(cook.parameters()))"
      ],
      "id": "f5768d12-3489-45f7-9c3f-ae0acf462e25"
    },
    {
      "cell_type": "markdown",
      "metadata": {},
      "source": [
        "`(4)` 학습"
      ],
      "id": "1ab2d9c2-38e6-4911-8c39-4c2146007e14"
    },
    {
      "cell_type": "code",
      "execution_count": 151,
      "metadata": {},
      "outputs": [],
      "source": [
        "_water = torch.zeros(1,3) \n",
        "for epoc in range(5000):\n",
        "    ## 1\n",
        "    hidden,hT = rnn(x,_water) \n",
        "    output = cook(hidden) \n",
        "    ## 2 \n",
        "    loss = loss_fn(output,y) \n",
        "    ## 3 \n",
        "    loss.backward()\n",
        "    ## 4 \n",
        "    optimizr.step()\n",
        "    optimizr.zero_grad()"
      ],
      "id": "da35acd3-8e40-41c3-8f74-0dcc53f053c5"
    },
    {
      "cell_type": "markdown",
      "metadata": {},
      "source": [
        "`(5)` 시각화1: yhat"
      ],
      "id": "cf83f458-e7c1-4d8b-a170-57ece6ae84f2"
    },
    {
      "cell_type": "code",
      "execution_count": 152,
      "metadata": {},
      "outputs": [],
      "source": [
        "yhat = soft(output)"
      ],
      "id": "835fc173-ad58-4b46-beac-d7470e29e885"
    },
    {
      "cell_type": "code",
      "execution_count": 153,
      "metadata": {},
      "outputs": [
        {
          "output_type": "display_data",
          "metadata": {},
          "data": {
            "image/png": "[encoded data removed]"
          }
        }
      ],
      "source": [
        "plt.matshow(yhat[-15:].data,cmap='bwr')"
      ],
      "id": "db46c3fe-5442-414a-96e9-3a0a6520ab38"
    },
    {
      "cell_type": "markdown",
      "metadata": {},
      "source": [
        "`(6)` 시각화2: hidden, yhat"
      ],
      "id": "72094754-560e-4ccc-8946-f3cebe2ee3fb"
    },
    {
      "cell_type": "code",
      "execution_count": 154,
      "metadata": {},
      "outputs": [],
      "source": [
        "combinded = torch.concat([hidden,yhat],axis=1)"
      ],
      "id": "77c59be7-3afb-4a58-93a9-d78d17f42ce9"
    },
    {
      "cell_type": "code",
      "execution_count": 155,
      "metadata": {},
      "outputs": [
        {
          "output_type": "display_data",
          "metadata": {},
          "data": {
            "image/png": "[encoded data removed]"
          }
        }
      ],
      "source": [
        "plt.matshow(combinded[-15:].data,cmap='bwr')"
      ],
      "id": "2f2d7c58-70ee-4249-93f2-195a2d51d9f7"
    },
    {
      "cell_type": "markdown",
      "metadata": {},
      "source": [
        "-   세번째 히든노드 = 대소문자(a/A)를 구분\n",
        "-   1,2 히든노드 = bcd를 구분\n",
        "\n",
        "## GPU 실험\n",
        "\n",
        "### 20000 len + 20 hidden nodes\n",
        "\n",
        "***cpu***"
      ],
      "id": "123041ed-42c5-4de6-bdc3-cc07f33de88f"
    },
    {
      "cell_type": "code",
      "execution_count": 164,
      "metadata": {},
      "outputs": [],
      "source": [
        "import time"
      ],
      "id": "fadf44a4-a5ee-4374-a93a-615d21f90df7"
    },
    {
      "cell_type": "code",
      "execution_count": 161,
      "metadata": {},
      "outputs": [],
      "source": [
        "x = torch.randn([20000,4]) \n",
        "y = torch.randn([20000,4]) "
      ],
      "id": "c2edfd2f-4228-4594-9880-b3dad45aacb0"
    },
    {
      "cell_type": "code",
      "execution_count": 162,
      "metadata": {},
      "outputs": [],
      "source": [
        "rnn = torch.nn.RNN(4,20) \n",
        "linr = torch.nn.Linear(20,4) \n",
        "optimizr = torch.optim.Adam(list(rnn.parameters())+list(linr.parameters()))\n",
        "loss_fn = torch.nn.MSELoss() "
      ],
      "id": "4e889187-0496-4142-a1d6-16327113fe53"
    },
    {
      "cell_type": "code",
      "execution_count": 165,
      "metadata": {},
      "outputs": [
        {
          "output_type": "display_data",
          "metadata": {},
          "data": {
            "text/plain": [
              "228.14399337768555"
            ]
          }
        }
      ],
      "source": [
        "t1 = time.time()\n",
        "for epoc in range(100):\n",
        "    ## 1 \n",
        "    _water = torch.zeros(1,20)\n",
        "    hidden, hT = rnn(x,_water) \n",
        "    yhat = linr(hidden) \n",
        "    ## 2 \n",
        "    loss = loss_fn(yhat,y) \n",
        "    ## 3\n",
        "    loss.backward() \n",
        "    ## 4 \n",
        "    optimizr.step()\n",
        "    optimizr.zero_grad()\n",
        "t2 = time.time()\n",
        "t2 - t1 "
      ],
      "id": "311918e5-1ddc-4837-b73c-f817ae9fe6b4"
    },
    {
      "cell_type": "markdown",
      "metadata": {},
      "source": [
        "왕 느려\n",
        "\n",
        "***gpu***"
      ],
      "id": "ce7679b5-4b87-486b-8c2e-1ccdc764fc5c"
    },
    {
      "cell_type": "code",
      "execution_count": 166,
      "metadata": {},
      "outputs": [],
      "source": [
        "x = torch.randn([20000,4]).to(\"cuda:0\")\n",
        "y = torch.randn([20000,4]).to(\"cuda:0\")"
      ],
      "id": "9e751aaf-fe3f-4cf0-8c20-dca68c32bc62"
    },
    {
      "cell_type": "code",
      "execution_count": 167,
      "metadata": {},
      "outputs": [],
      "source": [
        "rnn = torch.nn.RNN(4,20).to(\"cuda:0\")\n",
        "linr = torch.nn.Linear(20,4).to(\"cuda:0\")\n",
        "optimizr = torch.optim.Adam(list(rnn.parameters())+list(linr.parameters()))\n",
        "loss_fn = torch.nn.MSELoss() "
      ],
      "id": "b814897c-f144-4781-b14a-0ef3d6a27278"
    },
    {
      "cell_type": "code",
      "execution_count": 168,
      "metadata": {},
      "outputs": [
        {
          "output_type": "display_data",
          "metadata": {},
          "data": {
            "text/plain": [
              "6.0587098598480225"
            ]
          }
        }
      ],
      "source": [
        "t1 = time.time()\n",
        "for epoc in range(100):\n",
        "    ## 1 \n",
        "    _water = torch.zeros(1,20).to(\"cuda:0\")\n",
        "    hidden, hT = rnn(x,_water) \n",
        "    yhat = linr(hidden) \n",
        "    ## 2 \n",
        "    loss = loss_fn(yhat,y) \n",
        "    ## 3\n",
        "    loss.backward() \n",
        "    ## 4 \n",
        "    optimizr.step()\n",
        "    optimizr.zero_grad()\n",
        "t2 = time.time()\n",
        "t2 - t1 "
      ],
      "id": "e76c8e27-6c5d-41b7-a668-fe8bd4a69f7f"
    },
    {
      "cell_type": "markdown",
      "metadata": {},
      "source": [
        "-   왜 빠른지?\n",
        "\n",
        "### 20000 len + 20 hidden nodes + 역전파주석처리\n",
        "\n",
        "***cpu***"
      ],
      "id": "418d5159-48f8-44dd-b936-6d89008b7f40"
    },
    {
      "cell_type": "code",
      "execution_count": 169,
      "metadata": {},
      "outputs": [],
      "source": [
        "x = torch.randn([20000,4]) \n",
        "y = torch.randn([20000,4]) "
      ],
      "id": "de0fb966-afd2-484e-b5e2-f24314fda6e4"
    },
    {
      "cell_type": "code",
      "execution_count": 170,
      "metadata": {},
      "outputs": [],
      "source": [
        "rnn = torch.nn.RNN(4,20) \n",
        "linr = torch.nn.Linear(20,4) \n",
        "optimizr = torch.optim.Adam(list(rnn.parameters())+list(linr.parameters()))\n",
        "loss_fn = torch.nn.MSELoss() "
      ],
      "id": "2bbfcdbe-c0e2-4436-9499-9d9b0634850a"
    },
    {
      "cell_type": "code",
      "execution_count": 171,
      "metadata": {},
      "outputs": [
        {
          "output_type": "display_data",
          "metadata": {},
          "data": {
            "text/plain": [
              "28.451032400131226"
            ]
          }
        }
      ],
      "source": [
        "t1 = time.time()\n",
        "for epoc in range(100):\n",
        "    ## 1 \n",
        "    _water = torch.zeros(1,20)\n",
        "    hidden, hT = rnn(x,_water) \n",
        "    yhat = linr(hidden) \n",
        "    ## 2 \n",
        "    loss = loss_fn(yhat,y) \n",
        "    ## 3\n",
        "    #loss.backward() \n",
        "    ## 4 \n",
        "    optimizr.step()\n",
        "    optimizr.zero_grad()\n",
        "t2 = time.time()\n",
        "t2 - t1 "
      ],
      "id": "8b321c6a-6e25-48b6-b4ae-8caca0b345c6"
    },
    {
      "cell_type": "markdown",
      "metadata": {},
      "source": [
        "loss 미분할 때 시간 많이 잡음ㅁ\n",
        "\n",
        "***gpu***"
      ],
      "id": "dfeb8d74-a91b-4708-b4f9-8c1ccd3c9201"
    },
    {
      "cell_type": "code",
      "execution_count": 172,
      "metadata": {},
      "outputs": [],
      "source": [
        "x = torch.randn([20000,4]).to(\"cuda:0\")\n",
        "y = torch.randn([20000,4]).to(\"cuda:0\")"
      ],
      "id": "147541e7-f167-4fd7-af97-5e1aa0cd8f1b"
    },
    {
      "cell_type": "code",
      "execution_count": 173,
      "metadata": {},
      "outputs": [],
      "source": [
        "rnn = torch.nn.RNN(4,20).to(\"cuda:0\")\n",
        "linr = torch.nn.Linear(20,4).to(\"cuda:0\")\n",
        "optimizr = torch.optim.Adam(list(rnn.parameters())+list(linr.parameters()))\n",
        "loss_fn = torch.nn.MSELoss() "
      ],
      "id": "5c762990-9114-496b-9508-9fbbf9af4ba9"
    },
    {
      "cell_type": "code",
      "execution_count": 174,
      "metadata": {},
      "outputs": [
        {
          "output_type": "display_data",
          "metadata": {},
          "data": {
            "text/plain": [
              "1.6839873790740967"
            ]
          }
        }
      ],
      "source": [
        "t1 = time.time()\n",
        "for epoc in range(100):\n",
        "    ## 1 \n",
        "    _water = torch.zeros(1,20).to(\"cuda:0\")\n",
        "    hidden, hT = rnn(x,_water) \n",
        "    yhat = linr(hidden) \n",
        "    ## 2 \n",
        "    loss = loss_fn(yhat,y) \n",
        "    ## 3\n",
        "    #loss.backward() \n",
        "    ## 4 \n",
        "    optimizr.step()\n",
        "    optimizr.zero_grad()\n",
        "t2 = time.time()\n",
        "t2 - t1 "
      ],
      "id": "dd5dedb2-6a93-4158-9123-13f7593eab99"
    },
    {
      "cell_type": "markdown",
      "metadata": {},
      "source": [
        "### 2000 len + 20 hidden nodes\n",
        "\n",
        "***cpu***"
      ],
      "id": "ed766ffc-0a68-40b4-b5ee-438288e3d371"
    },
    {
      "cell_type": "code",
      "execution_count": 175,
      "metadata": {},
      "outputs": [],
      "source": [
        "x = torch.randn([2000,4]) \n",
        "y = torch.randn([2000,4]) "
      ],
      "id": "2d407adf-742d-4e3d-9173-cf1632d88284"
    },
    {
      "cell_type": "code",
      "execution_count": 176,
      "metadata": {},
      "outputs": [],
      "source": [
        "rnn = torch.nn.RNN(4,20) \n",
        "linr = torch.nn.Linear(20,4) \n",
        "optimizr = torch.optim.Adam(list(rnn.parameters())+list(linr.parameters()))\n",
        "loss_fn = torch.nn.MSELoss() "
      ],
      "id": "7443b00a-aa9d-450e-bedc-112615b20bcf"
    },
    {
      "cell_type": "code",
      "execution_count": 177,
      "metadata": {},
      "outputs": [
        {
          "output_type": "display_data",
          "metadata": {},
          "data": {
            "text/plain": [
              "10.069071292877197"
            ]
          }
        }
      ],
      "source": [
        "t1 = time.time()\n",
        "for epoc in range(100):\n",
        "    ## 1 \n",
        "    _water = torch.zeros(1,20)\n",
        "    hidden, hT = rnn(x,_water) \n",
        "    yhat = linr(hidden) \n",
        "    ## 2 \n",
        "    loss = loss_fn(yhat,y) \n",
        "    ## 3\n",
        "    loss.backward() \n",
        "    ## 4 \n",
        "    optimizr.step()\n",
        "    optimizr.zero_grad()\n",
        "t2 = time.time()\n",
        "t2 - t1 "
      ],
      "id": "19c4d305-8ee8-4ab9-9d0d-c11b55871b8b"
    },
    {
      "cell_type": "markdown",
      "metadata": {},
      "source": [
        "***gpu***"
      ],
      "id": "ab146a91-8afe-49ec-880d-afea6ada7336"
    },
    {
      "cell_type": "code",
      "execution_count": 178,
      "metadata": {},
      "outputs": [],
      "source": [
        "x = torch.randn([2000,4]).to(\"cuda:0\")\n",
        "y = torch.randn([2000,4]).to(\"cuda:0\")"
      ],
      "id": "1d6e1191-4e46-49ea-be00-9b2a94597b46"
    },
    {
      "cell_type": "code",
      "execution_count": 179,
      "metadata": {},
      "outputs": [],
      "source": [
        "rnn = torch.nn.RNN(4,20).to(\"cuda:0\")\n",
        "linr = torch.nn.Linear(20,4).to(\"cuda:0\")\n",
        "optimizr = torch.optim.Adam(list(rnn.parameters())+list(linr.parameters()))\n",
        "loss_fn = torch.nn.MSELoss() "
      ],
      "id": "e14f4b6e-ca6a-4acc-b9e0-deb8dae73fca"
    },
    {
      "cell_type": "code",
      "execution_count": 180,
      "metadata": {},
      "outputs": [
        {
          "output_type": "display_data",
          "metadata": {},
          "data": {
            "text/plain": [
              "1.7792012691497803"
            ]
          }
        }
      ],
      "source": [
        "t1 = time.time()\n",
        "for epoc in range(100):\n",
        "    ## 1 \n",
        "    _water = torch.zeros(1,20).to(\"cuda:0\")\n",
        "    hidden, hT = rnn(x,_water) \n",
        "    yhat = linr(hidden) \n",
        "    ## 2 \n",
        "    loss = loss_fn(yhat,y) \n",
        "    ## 3\n",
        "    loss.backward() \n",
        "    ## 4 \n",
        "    optimizr.step()\n",
        "    optimizr.zero_grad()\n",
        "t2 = time.time()\n",
        "t2 - t1 "
      ],
      "id": "e6241bba-ff10-46d8-878c-1f36b72e1efa"
    },
    {
      "cell_type": "markdown",
      "metadata": {},
      "source": [
        "### 2000 len + 20 hidden nodes + 역전파주석처리\n",
        "\n",
        "***cpu***"
      ],
      "id": "4ed17458-e524-4628-bdb5-4ca65a45bc32"
    },
    {
      "cell_type": "code",
      "execution_count": 181,
      "metadata": {},
      "outputs": [],
      "source": [
        "x = torch.randn([2000,4]) \n",
        "y = torch.randn([2000,4]) "
      ],
      "id": "3525c566-0ad7-4b43-b8ce-e851e529ae06"
    },
    {
      "cell_type": "code",
      "execution_count": 182,
      "metadata": {},
      "outputs": [],
      "source": [
        "rnn = torch.nn.RNN(4,20) \n",
        "linr = torch.nn.Linear(20,4) \n",
        "optimizr = torch.optim.Adam(list(rnn.parameters())+list(linr.parameters()))\n",
        "loss_fn = torch.nn.MSELoss() "
      ],
      "id": "47da22d8-e369-4d5f-9680-74ad76734f76"
    },
    {
      "cell_type": "code",
      "execution_count": 183,
      "metadata": {},
      "outputs": [
        {
          "output_type": "display_data",
          "metadata": {},
          "data": {
            "text/plain": [
              "2.7720658779144287"
            ]
          }
        }
      ],
      "source": [
        "t1 = time.time()\n",
        "for epoc in range(100):\n",
        "    ## 1 \n",
        "    _water = torch.zeros(1,20)\n",
        "    hidden, hT = rnn(x,_water) \n",
        "    yhat = linr(hidden) \n",
        "    ## 2 \n",
        "    loss = loss_fn(yhat,y) \n",
        "    ## 3\n",
        "    #loss.backward() \n",
        "    ## 4 \n",
        "    optimizr.step()\n",
        "    optimizr.zero_grad()\n",
        "t2 = time.time()\n",
        "t2 - t1 "
      ],
      "id": "774d1d8d-1a3d-49ea-9b8a-49ea026c1a30"
    },
    {
      "cell_type": "markdown",
      "metadata": {},
      "source": [
        "***gpu***"
      ],
      "id": "a2205570-8b58-46e7-b924-e332a1fa7e5a"
    },
    {
      "cell_type": "code",
      "execution_count": 184,
      "metadata": {},
      "outputs": [],
      "source": [
        "x = torch.randn([2000,4]).to(\"cuda:0\")\n",
        "y = torch.randn([2000,4]).to(\"cuda:0\")"
      ],
      "id": "22bdbd8a-b434-493a-a98d-6b2af96a8bc6"
    },
    {
      "cell_type": "code",
      "execution_count": 185,
      "metadata": {},
      "outputs": [],
      "source": [
        "rnn = torch.nn.RNN(4,20).to(\"cuda:0\")\n",
        "linr = torch.nn.Linear(20,4).to(\"cuda:0\")\n",
        "optimizr = torch.optim.Adam(list(rnn.parameters())+list(linr.parameters()))\n",
        "loss_fn = torch.nn.MSELoss() "
      ],
      "id": "a6d6daa9-3c71-4179-b9c1-4420fc2de7c1"
    },
    {
      "cell_type": "code",
      "execution_count": 186,
      "metadata": {},
      "outputs": [
        {
          "output_type": "display_data",
          "metadata": {},
          "data": {
            "text/plain": [
              "0.2116107940673828"
            ]
          }
        }
      ],
      "source": [
        "t1 = time.time()\n",
        "for epoc in range(100):\n",
        "    ## 1 \n",
        "    _water = torch.zeros(1,20).to(\"cuda:0\")\n",
        "    hidden, hT = rnn(x,_water) \n",
        "    yhat = linr(hidden) \n",
        "    ## 2 \n",
        "    loss = loss_fn(yhat,y) \n",
        "    ## 3\n",
        "    #loss.backward() \n",
        "    ## 4 \n",
        "    optimizr.step()\n",
        "    optimizr.zero_grad()\n",
        "t2 = time.time()\n",
        "t2 - t1 "
      ],
      "id": "edb9dc49-ba63-4bc0-aad5-19a6cde24784"
    },
    {
      "cell_type": "markdown",
      "metadata": {},
      "source": [
        "### 2000 len + 5000 hidden nodes\n",
        "\n",
        "***cpu***"
      ],
      "id": "63d9bdae-268a-4fa9-9a23-680a808c9d1d"
    },
    {
      "cell_type": "code",
      "execution_count": 187,
      "metadata": {},
      "outputs": [],
      "source": [
        "x = torch.randn([2000,4]) \n",
        "y = torch.randn([2000,4]) "
      ],
      "id": "c994fa99-73c5-4f2e-a4d1-8a9a0a73bc2d"
    },
    {
      "cell_type": "code",
      "execution_count": 188,
      "metadata": {},
      "outputs": [],
      "source": [
        "rnn = torch.nn.RNN(4,1000) \n",
        "linr = torch.nn.Linear(1000,4) \n",
        "optimizr = torch.optim.Adam(list(rnn.parameters())+list(linr.parameters()))\n",
        "loss_fn = torch.nn.MSELoss() "
      ],
      "id": "1aac74c9-624b-4287-8492-62ca4f943740"
    },
    {
      "cell_type": "code",
      "execution_count": 189,
      "metadata": {},
      "outputs": [
        {
          "output_type": "display_data",
          "metadata": {},
          "data": {
            "text/plain": [
              "34.20541262626648"
            ]
          }
        }
      ],
      "source": [
        "t1 = time.time()\n",
        "for epoc in range(100):\n",
        "    ## 1 \n",
        "    _water = torch.zeros(1,1000)\n",
        "    hidden, hT = rnn(x,_water) \n",
        "    yhat = linr(hidden) \n",
        "    ## 2 \n",
        "    loss = loss_fn(yhat,y) \n",
        "    ## 3\n",
        "    loss.backward() \n",
        "    ## 4 \n",
        "    optimizr.step()\n",
        "    optimizr.zero_grad()\n",
        "t2 = time.time()\n",
        "t2 - t1 "
      ],
      "id": "ecf8ef0b-7aae-4e5b-bc39-3a2b5368b802"
    },
    {
      "cell_type": "markdown",
      "metadata": {},
      "source": [
        "***gpu***"
      ],
      "id": "0a1f2c8e-30a8-43b0-ada1-435124074a88"
    },
    {
      "cell_type": "code",
      "execution_count": 190,
      "metadata": {},
      "outputs": [],
      "source": [
        "x = torch.randn([2000,4]).to(\"cuda:0\")\n",
        "y = torch.randn([2000,4]).to(\"cuda:0\")"
      ],
      "id": "b7f66f68-7dfc-422b-8051-a565a697a78e"
    },
    {
      "cell_type": "code",
      "execution_count": 191,
      "metadata": {},
      "outputs": [],
      "source": [
        "rnn = torch.nn.RNN(4,1000).to(\"cuda:0\")\n",
        "linr = torch.nn.Linear(1000,4).to(\"cuda:0\")\n",
        "optimizr = torch.optim.Adam(list(rnn.parameters())+list(linr.parameters()))\n",
        "loss_fn = torch.nn.MSELoss() "
      ],
      "id": "a06d413a-9dac-4cb9-abdd-6e8a1f3880b5"
    },
    {
      "cell_type": "code",
      "execution_count": 192,
      "metadata": {},
      "outputs": [
        {
          "output_type": "display_data",
          "metadata": {},
          "data": {
            "text/plain": [
              "4.586683511734009"
            ]
          }
        }
      ],
      "source": [
        "t1 = time.time()\n",
        "for epoc in range(100):\n",
        "    ## 1 \n",
        "    _water = torch.zeros(1,1000).to(\"cuda:0\")\n",
        "    hidden, hT = rnn(x,_water) \n",
        "    yhat = linr(hidden) \n",
        "    ## 2 \n",
        "    loss = loss_fn(yhat,y) \n",
        "    ## 3\n",
        "    loss.backward() \n",
        "    ## 4 \n",
        "    optimizr.step()\n",
        "    optimizr.zero_grad()\n",
        "t2 = time.time()\n",
        "t2 - t1 "
      ],
      "id": "1ef5cc24-a4a5-496a-857b-5dfe1907aa78"
    },
    {
      "cell_type": "markdown",
      "metadata": {},
      "source": [
        "### 2000 len + 5000 hidden nodes + 역전파주석처리\n",
        "\n",
        "***cpu***"
      ],
      "id": "64739bfd-b04e-4630-89ba-4f58cfe2b669"
    },
    {
      "cell_type": "code",
      "execution_count": 193,
      "metadata": {},
      "outputs": [],
      "source": [
        "x = torch.randn([2000,4]) \n",
        "y = torch.randn([2000,4]) "
      ],
      "id": "e40ca082-3d35-40a9-9bbb-6c03630b2825"
    },
    {
      "cell_type": "code",
      "execution_count": 194,
      "metadata": {},
      "outputs": [],
      "source": [
        "rnn = torch.nn.RNN(4,1000) \n",
        "linr = torch.nn.Linear(1000,4) \n",
        "optimizr = torch.optim.Adam(list(rnn.parameters())+list(linr.parameters()))\n",
        "loss_fn = torch.nn.MSELoss() "
      ],
      "id": "01165127-d221-4455-a297-0123b406cf39"
    },
    {
      "cell_type": "code",
      "execution_count": 195,
      "metadata": {},
      "outputs": [
        {
          "output_type": "display_data",
          "metadata": {},
          "data": {
            "text/plain": [
              "8.695780992507935"
            ]
          }
        }
      ],
      "source": [
        "t1 = time.time()\n",
        "for epoc in range(100):\n",
        "    ## 1 \n",
        "    _water = torch.zeros(1,1000)\n",
        "    hidden, hT = rnn(x,_water) \n",
        "    yhat = linr(hidden) \n",
        "    ## 2 \n",
        "    loss = loss_fn(yhat,y) \n",
        "    ## 3\n",
        "    #loss.backward() \n",
        "    ## 4 \n",
        "    optimizr.step()\n",
        "    optimizr.zero_grad()\n",
        "t2 = time.time()\n",
        "t2 - t1 "
      ],
      "id": "ef68ecb1-8802-46dc-b5dd-c82407af2ec3"
    },
    {
      "cell_type": "markdown",
      "metadata": {},
      "source": [
        "***gpu***"
      ],
      "id": "45dcfc17-54e3-47c8-b8a9-4f466cda755e"
    },
    {
      "cell_type": "code",
      "execution_count": 196,
      "metadata": {},
      "outputs": [],
      "source": [
        "x = torch.randn([2000,4]).to(\"cuda:0\")\n",
        "y = torch.randn([2000,4]).to(\"cuda:0\")"
      ],
      "id": "f3b98eb0-d3da-4e26-8b21-a1af3280c9c9"
    },
    {
      "cell_type": "code",
      "execution_count": 197,
      "metadata": {},
      "outputs": [],
      "source": [
        "rnn = torch.nn.RNN(4,1000).to(\"cuda:0\")\n",
        "linr = torch.nn.Linear(1000,4).to(\"cuda:0\")\n",
        "optimizr = torch.optim.Adam(list(rnn.parameters())+list(linr.parameters()))\n",
        "loss_fn = torch.nn.MSELoss() "
      ],
      "id": "12ac0d6a-7ab5-43d9-b11b-3f4088385fbe"
    },
    {
      "cell_type": "code",
      "execution_count": 198,
      "metadata": {},
      "outputs": [
        {
          "output_type": "display_data",
          "metadata": {},
          "data": {
            "text/plain": [
              "2.3646719455718994"
            ]
          }
        }
      ],
      "source": [
        "t1 = time.time()\n",
        "for epoc in range(100):\n",
        "    ## 1 \n",
        "    _water = torch.zeros(1,1000).to(\"cuda:0\")\n",
        "    hidden, hT = rnn(x,_water) \n",
        "    yhat = linr(hidden) \n",
        "    ## 2 \n",
        "    loss = loss_fn(yhat,y) \n",
        "    ## 3\n",
        "    #loss.backward() \n",
        "    ## 4 \n",
        "    optimizr.step()\n",
        "    optimizr.zero_grad()\n",
        "t2 = time.time()\n",
        "t2 - t1 "
      ],
      "id": "e3885504-99fc-47af-9f62-68d9f41295f1"
    },
    {
      "cell_type": "markdown",
      "metadata": {},
      "source": [
        "### 실험결과 요약\n",
        "\n",
        "|  len  | \\# of hidden nodes | backward |  cpu  | gpu  | ratio |\n",
        "|:-----:|:------------------:|:--------:|:-----:|:----:|:-----:|\n",
        "| 20000 |         20         |    O     | 93.02 | 3.26 | 28.53 |\n",
        "| 20000 |         20         |    X     | 18.85 | 1.29 | 14.61 |\n",
        "| 2000  |         20         |    O     | 6.53  | 0.75 | 8.70  |\n",
        "| 2000  |         20         |    X     | 1.25  | 0.14 | 8.93  |\n",
        "| 2000  |        1000        |    O     | 58.99 | 4.75 | 12.41 |\n",
        "| 2000  |        1000        |    X     | 13.16 | 2.29 | 5.74  |\n",
        "\n",
        "## Exam5: abcabC\n",
        "\n",
        "### data"
      ],
      "id": "5dc68691-aaf2-4e15-9dbf-33d25fd2f0d9"
    },
    {
      "cell_type": "code",
      "execution_count": 16,
      "metadata": {},
      "outputs": [
        {
          "output_type": "display_data",
          "metadata": {},
          "data": {
            "text/plain": [
              "['a', 'b', 'c', 'a', 'b', 'C', 'a', 'b']"
            ]
          }
        }
      ],
      "source": [
        "txt = list('abcabC')*100\n",
        "txt[:8]"
      ],
      "id": "6a480dbf-ebb1-4d52-aa20-e2890b8567d5"
    },
    {
      "cell_type": "code",
      "execution_count": 17,
      "metadata": {},
      "outputs": [],
      "source": [
        "txt_x = txt[:-1] \n",
        "txt_y = txt[1:]"
      ],
      "id": "6ae31cde-c409-4428-8fae-1c280617e84c"
    },
    {
      "cell_type": "code",
      "execution_count": 18,
      "metadata": {},
      "outputs": [],
      "source": [
        "mapping = {'a':0,'b':1,'c':2,'C':3} \n",
        "x= torch.nn.functional.one_hot(torch.tensor(f(txt_x,mapping))).float()\n",
        "y= torch.nn.functional.one_hot(torch.tensor(f(txt_y,mapping))).float()"
      ],
      "id": "96a4fc28-0579-4851-823f-a44a0e4809e8"
    },
    {
      "cell_type": "code",
      "execution_count": 19,
      "metadata": {},
      "outputs": [],
      "source": [
        "x = x.to(\"cuda:0\")\n",
        "y = y.to(\"cuda:0\") "
      ],
      "id": "1bcf35b4-346b-4b82-b066-736286443324"
    },
    {
      "cell_type": "code",
      "execution_count": 20,
      "metadata": {},
      "outputs": [
        {
          "output_type": "display_data",
          "metadata": {},
          "data": {
            "text/plain": [
              "torch.Size([599, 4])"
            ]
          }
        }
      ],
      "source": [
        "x.shape"
      ],
      "id": "7b1123b7-dc13-48f5-a85d-67fa27da8eb5"
    },
    {
      "cell_type": "markdown",
      "metadata": {},
      "source": [
        "### RNN\n",
        "\n",
        "-   bc\n",
        "-   bC\n",
        "-   b의 수준이 2개\n",
        "-   abc\n",
        "-   amC\n",
        "-   문맥 고려해서 $\\to$ hiddenlayer = 3"
      ],
      "id": "68808b40-a5b2-4218-a31e-0fb57ee69c10"
    },
    {
      "cell_type": "code",
      "execution_count": 21,
      "metadata": {},
      "outputs": [],
      "source": [
        "torch.manual_seed(43052) \n",
        "rnn = torch.nn.RNN(4,3) \n",
        "linr = torch.nn.Linear(3,4) \n",
        "loss_fn = torch.nn.CrossEntropyLoss()\n",
        "optimizr = torch.optim.Adam(list(rnn.parameters())+ list(linr.parameters()))"
      ],
      "id": "cec0314b-6a56-408c-b11f-88ef07dfb831"
    },
    {
      "cell_type": "code",
      "execution_count": 22,
      "metadata": {},
      "outputs": [
        {
          "output_type": "display_data",
          "metadata": {},
          "data": {
            "text/plain": [
              "Linear(in_features=3, out_features=4, bias=True)"
            ]
          }
        }
      ],
      "source": [
        "rnn.to(\"cuda:0\") \n",
        "linr.to(\"cuda:0\")"
      ],
      "id": "5059f17e-e717-4c86-bb0c-6b53f1fc538d"
    },
    {
      "cell_type": "markdown",
      "metadata": {},
      "source": [
        "`-` 3000 epochs"
      ],
      "id": "61eacee8-eff8-44e9-8b49-a3dac42ede77"
    },
    {
      "cell_type": "code",
      "execution_count": 23,
      "metadata": {},
      "outputs": [],
      "source": [
        "for epoc in range(3000):\n",
        "    ## 1 \n",
        "    _water = torch.zeros(1,3).to(\"cuda:0\")\n",
        "    hidden, hT = rnn(x,_water)\n",
        "    output = linr(hidden) \n",
        "    ## 2 \n",
        "    loss = loss_fn(output,y) \n",
        "    ## 3 \n",
        "    loss.backward()\n",
        "    ## 4 \n",
        "    optimizr.step()\n",
        "    optimizr.zero_grad()"
      ],
      "id": "3d9bb188-5ab6-42e9-a5e2-f87fa485d054"
    },
    {
      "cell_type": "code",
      "execution_count": 24,
      "metadata": {},
      "outputs": [],
      "source": [
        "yhat = soft(output)\n",
        "combinded  = torch.concat([hidden,yhat],axis=1).data.to(\"cpu\")"
      ],
      "id": "4ef1f6c0-05f6-4af0-bbd0-f4d9ba637e59"
    },
    {
      "cell_type": "markdown",
      "metadata": {},
      "source": [
        "-   어차피 시각화하려면 cpu에 있어야해\n",
        "-   나중 기억!"
      ],
      "id": "45743fe2-3fab-475d-a6d0-a1bb39130579"
    },
    {
      "cell_type": "code",
      "execution_count": 25,
      "metadata": {},
      "outputs": [
        {
          "output_type": "display_data",
          "metadata": {},
          "data": {
            "image/png": "[encoded data removed]"
          }
        }
      ],
      "source": [
        "plt.matshow(combinded[-6:],cmap='bwr')"
      ],
      "id": "6cb508f4-1e36-4300-b96e-bbfa06f80486"
    },
    {
      "cell_type": "markdown",
      "metadata": {},
      "source": [
        "`-` 6000 epochs\n",
        "\n",
        "-   3: a일 확률\n",
        "-   4: b일 확률\n",
        "-   5: c일 확률\n",
        "-   6: C일 확률"
      ],
      "id": "7873cac1-3914-444d-b077-4af5a85f8d20"
    },
    {
      "cell_type": "code",
      "execution_count": 26,
      "metadata": {},
      "outputs": [],
      "source": [
        "for epoc in range(3000):\n",
        "    ## 1 \n",
        "    _water = torch.zeros(1,3).to(\"cuda:0\")\n",
        "    hidden, hT = rnn(x,_water)\n",
        "    output = linr(hidden) \n",
        "    ## 2 \n",
        "    loss = loss_fn(output,y) \n",
        "    ## 3 \n",
        "    loss.backward()\n",
        "    ## 4 \n",
        "    optimizr.step()\n",
        "    optimizr.zero_grad()"
      ],
      "id": "1cbb8179-7b22-40c9-8f09-d6aafc82cbe3"
    },
    {
      "cell_type": "code",
      "execution_count": 27,
      "metadata": {},
      "outputs": [],
      "source": [
        "yhat = soft(output)\n",
        "combinded  = torch.concat([hidden,yhat],axis=1).data.to(\"cpu\")"
      ],
      "id": "4fe809a4-5d4c-4eb5-a570-acae816596aa"
    },
    {
      "cell_type": "code",
      "execution_count": 28,
      "metadata": {},
      "outputs": [
        {
          "output_type": "display_data",
          "metadata": {},
          "data": {
            "image/png": "[encoded data removed]"
          }
        }
      ],
      "source": [
        "plt.matshow(combinded[-6:],cmap='bwr')"
      ],
      "id": "2c128df9-9ee9-4c0e-85e4-6492a8fa7a82"
    },
    {
      "cell_type": "markdown",
      "metadata": {},
      "source": [
        "`-` 9000 epochs"
      ],
      "id": "fd2a0f88-768c-4864-8ef5-28340734ee99"
    },
    {
      "cell_type": "code",
      "execution_count": 29,
      "metadata": {},
      "outputs": [],
      "source": [
        "for epoc in range(3000):\n",
        "    ## 1 \n",
        "    _water = torch.zeros(1,3).to(\"cuda:0\")\n",
        "    hidden, hT = rnn(x,_water)\n",
        "    output = linr(hidden) \n",
        "    ## 2 \n",
        "    loss = loss_fn(output,y) \n",
        "    ## 3 \n",
        "    loss.backward()\n",
        "    ## 4 \n",
        "    optimizr.step()\n",
        "    optimizr.zero_grad()"
      ],
      "id": "a7d78b0b-a199-42c5-a9a6-320f2e72efb2"
    },
    {
      "cell_type": "code",
      "execution_count": 30,
      "metadata": {},
      "outputs": [],
      "source": [
        "yhat = soft(output)\n",
        "combinded  = torch.concat([hidden,yhat],axis=1).data.to(\"cpu\")"
      ],
      "id": "8d02fa77-21b9-4f57-8b72-a3080e3fe0ff"
    },
    {
      "cell_type": "code",
      "execution_count": 31,
      "metadata": {},
      "outputs": [
        {
          "output_type": "display_data",
          "metadata": {},
          "data": {
            "image/png": "[encoded data removed]"
          }
        }
      ],
      "source": [
        "plt.matshow(combinded[-6:],cmap='bwr')"
      ],
      "id": "82a11798-fa16-4ee6-93a3-41937ac5b089"
    },
    {
      "cell_type": "markdown",
      "metadata": {},
      "source": [
        "`-` 12000 epochs"
      ],
      "id": "a9383e96-7f49-4d52-a10f-2a591a98843e"
    },
    {
      "cell_type": "code",
      "execution_count": 32,
      "metadata": {},
      "outputs": [],
      "source": [
        "for epoc in range(3000):\n",
        "    ## 1 \n",
        "    _water = torch.zeros(1,3).to(\"cuda:0\")\n",
        "    hidden, hT = rnn(x,_water)\n",
        "    output = linr(hidden) \n",
        "    ## 2 \n",
        "    loss = loss_fn(output,y) \n",
        "    ## 3 \n",
        "    loss.backward()\n",
        "    ## 4 \n",
        "    optimizr.step()\n",
        "    optimizr.zero_grad()"
      ],
      "id": "ffd832b0-0bcb-45c2-95b6-2603a1ffa63c"
    },
    {
      "cell_type": "code",
      "execution_count": 33,
      "metadata": {},
      "outputs": [],
      "source": [
        "yhat = soft(output)\n",
        "combinded  = torch.concat([hidden,yhat],axis=1).data.to(\"cpu\")"
      ],
      "id": "0ed46f48-1c2d-43fb-9590-b34866a7a635"
    },
    {
      "cell_type": "code",
      "execution_count": 34,
      "metadata": {},
      "outputs": [
        {
          "output_type": "display_data",
          "metadata": {},
          "data": {
            "image/png": "[encoded data removed]"
          }
        }
      ],
      "source": [
        "plt.matshow(combinded[-6:],cmap='bwr')"
      ],
      "id": "7a806190-325d-4acd-9501-1ef36df9fc5b"
    },
    {
      "cell_type": "markdown",
      "metadata": {},
      "source": [
        "`-` 15000 epochs"
      ],
      "id": "a18e617b-aa89-423e-8d66-86d1f68ae174"
    },
    {
      "cell_type": "code",
      "execution_count": 35,
      "metadata": {},
      "outputs": [],
      "source": [
        "for epoc in range(3000):\n",
        "    ## 1 \n",
        "    _water = torch.zeros(1,3).to(\"cuda:0\")\n",
        "    hidden, hT = rnn(x,_water)\n",
        "    output = linr(hidden) \n",
        "    ## 2 \n",
        "    loss = loss_fn(output,y) \n",
        "    ## 3 \n",
        "    loss.backward()\n",
        "    ## 4 \n",
        "    optimizr.step()\n",
        "    optimizr.zero_grad()"
      ],
      "id": "f7d84ebb-8a0e-45d6-b0f1-3a74902cc441"
    },
    {
      "cell_type": "code",
      "execution_count": 36,
      "metadata": {},
      "outputs": [],
      "source": [
        "yhat = soft(output)\n",
        "combinded  = torch.concat([hidden,yhat],axis=1).data.to(\"cpu\")"
      ],
      "id": "3089374c-5aa3-42d4-b7eb-2c846a90bc8f"
    },
    {
      "cell_type": "code",
      "execution_count": 39,
      "metadata": {},
      "outputs": [
        {
          "output_type": "display_data",
          "metadata": {},
          "data": {
            "image/png": "[encoded data removed]"
          }
        }
      ],
      "source": [
        "plt.matshow(combinded[-12:],cmap='bwr')"
      ],
      "id": "80862486-8405-49ba-9f5d-c85aa8ba8eaa"
    },
    {
      "cell_type": "markdown",
      "metadata": {},
      "source": [
        "-   15,000번 정도 하니 c와 C를 구분하는 모습\n",
        "-   hidden layer(0,1,2)의 색 순서에 따라 문맥상 다른 것을 알 수 있고\n",
        "    학습도 되는 모습을 볼 수 있다.\n",
        "\n",
        "### LSTM\n",
        "\n",
        "`-` LSTM"
      ],
      "id": "0ea27c23-01c9-4ad3-a3ea-263bd0b9ce43"
    },
    {
      "cell_type": "code",
      "execution_count": 40,
      "metadata": {},
      "outputs": [],
      "source": [
        "torch.manual_seed(43052) \n",
        "lstm = torch.nn.LSTM(4,3) \n",
        "linr = torch.nn.Linear(3,4) \n",
        "loss_fn = torch.nn.CrossEntropyLoss()\n",
        "optimizr = torch.optim.Adam(list(lstm.parameters())+ list(linr.parameters()))"
      ],
      "id": "f8eab5d8-310e-46b5-84f1-0ce6ab9c6ea7"
    },
    {
      "cell_type": "code",
      "execution_count": 41,
      "metadata": {},
      "outputs": [
        {
          "output_type": "display_data",
          "metadata": {},
          "data": {
            "text/plain": [
              "Linear(in_features=3, out_features=4, bias=True)"
            ]
          }
        }
      ],
      "source": [
        "lstm.to(\"cuda:0\") \n",
        "linr.to(\"cuda:0\")"
      ],
      "id": "62a30416-d6bd-4a2c-9ae5-ecc094e17a2c"
    },
    {
      "cell_type": "markdown",
      "metadata": {},
      "source": [
        "`-` 3000 epochs"
      ],
      "id": "63f009f7-60ad-45a7-abcd-9c0297d250c8"
    },
    {
      "cell_type": "code",
      "execution_count": 42,
      "metadata": {},
      "outputs": [],
      "source": [
        "for epoc in range(3000):\n",
        "    ## 1 \n",
        "    _water = torch.zeros(1,3).to(\"cuda:0\")\n",
        "    hidden, (hT,cT) = lstm(x,(_water,_water))\n",
        "    output = linr(hidden) \n",
        "    ## 2 \n",
        "    loss = loss_fn(output,y) \n",
        "    ## 3 \n",
        "    loss.backward()\n",
        "    ## 4 \n",
        "    optimizr.step()\n",
        "    optimizr.zero_grad()"
      ],
      "id": "96599c52-6c3a-4b2e-9bf4-b37049cdab9b"
    },
    {
      "cell_type": "code",
      "execution_count": 43,
      "metadata": {},
      "outputs": [],
      "source": [
        "yhat = soft(output)\n",
        "combinded  = torch.concat([hidden,yhat],axis=1).data.to(\"cpu\")"
      ],
      "id": "aa80ace3-11aa-40aa-871e-ede03f087731"
    },
    {
      "cell_type": "code",
      "execution_count": 44,
      "metadata": {},
      "outputs": [
        {
          "output_type": "display_data",
          "metadata": {},
          "data": {
            "image/png": "[encoded data removed]"
          }
        }
      ],
      "source": [
        "plt.matshow(combinded[-6:],cmap='bwr',vmin=-1,vmax=1)"
      ],
      "id": "fa207fdf-91fe-45a1-a550-1eef16af10c2"
    },
    {
      "cell_type": "markdown",
      "metadata": {},
      "source": [
        "-   하얀부분이 0 파란 부분이 -1 빨간 부분이 +1\n",
        "\n",
        "`-` 6000 epochs"
      ],
      "id": "ef12055f-7e3c-4337-9855-2d56d73af465"
    },
    {
      "cell_type": "code",
      "execution_count": 45,
      "metadata": {},
      "outputs": [],
      "source": [
        "for epoc in range(3000):\n",
        "    ## 1 \n",
        "    _water = torch.zeros(1,3).to(\"cuda:0\")\n",
        "    hidden, (hT,cT) = lstm(x,(_water,_water))\n",
        "    output = linr(hidden) \n",
        "    ## 2 \n",
        "    loss = loss_fn(output,y) \n",
        "    ## 3 \n",
        "    loss.backward()\n",
        "    ## 4 \n",
        "    optimizr.step()\n",
        "    optimizr.zero_grad()"
      ],
      "id": "0d42d3bd-f5bb-4ac5-bf7d-7559252b9e93"
    },
    {
      "cell_type": "code",
      "execution_count": 46,
      "metadata": {},
      "outputs": [],
      "source": [
        "yhat = soft(output)\n",
        "combinded  = torch.concat([hidden,yhat],axis=1).data.to(\"cpu\")"
      ],
      "id": "aed4b075-afad-4b28-8512-a62a0f6805a1"
    },
    {
      "cell_type": "code",
      "execution_count": 47,
      "metadata": {},
      "outputs": [
        {
          "output_type": "display_data",
          "metadata": {},
          "data": {
            "image/png": "[encoded data removed]"
          }
        }
      ],
      "source": [
        "plt.matshow(combinded[-6:],cmap='bwr',vmin=-1,vmax=1)"
      ],
      "id": "2ab9dd13-19b6-407d-8552-27fdce5f9504"
    },
    {
      "cell_type": "markdown",
      "metadata": {},
      "source": [
        "-   rnn에 비해 lstm은 조금 돌려도 어느정도 비교 잘 해낸다\n",
        "\n",
        "### RNN vs LSTM 성능비교실험\n",
        "\n",
        "`-` RNN"
      ],
      "id": "0a9ce6b7-ad5f-4af6-91f5-d3f08a174fdb"
    },
    {
      "cell_type": "code",
      "execution_count": 48,
      "metadata": {},
      "outputs": [
        {
          "output_type": "display_data",
          "metadata": {},
          "data": {
            "image/png": "[encoded data removed]"
          }
        }
      ],
      "source": [
        "fig, ax = plt.subplots(5,5,figsize=(10,10))\n",
        "for i in range(5):\n",
        "    for j in range(5):\n",
        "        rnn = torch.nn.RNN(4,3).to(\"cuda:0\")\n",
        "        linr = torch.nn.Linear(3,4).to(\"cuda:0\")\n",
        "        loss_fn = torch.nn.CrossEntropyLoss()\n",
        "        optimizr = torch.optim.Adam(list(rnn.parameters())+list(linr.parameters()),lr=0.1)\n",
        "        _water = torch.zeros(1,3).to(\"cuda:0\")\n",
        "        for epoc in range(3000):\n",
        "            ## 1\n",
        "            hidden, hT = rnn(x,_water)\n",
        "            output = linr(hidden)\n",
        "            ## 2\n",
        "            loss = loss_fn(output,y)\n",
        "            ## 3\n",
        "            loss.backward()\n",
        "            ## 4 \n",
        "            optimizr.step()\n",
        "            optimizr.zero_grad()\n",
        "        yhat=soft(output)    \n",
        "        combind = torch.concat([hidden,yhat],axis=1)\n",
        "        ax[i][j].matshow(combind.to(\"cpu\").data[-6:],cmap='bwr',vmin=-1,vmax=1)\n",
        "fig.suptitle(r\"$RNN$\",size=20)\n",
        "fig.tight_layout()"
      ],
      "id": "741ff270-be56-400d-b5e4-83aa6282acd9"
    },
    {
      "cell_type": "markdown",
      "metadata": {},
      "source": [
        "`-` LSTM"
      ],
      "id": "4bcb6216-bbd2-4e8b-8743-e5fefdbaffe7"
    },
    {
      "cell_type": "code",
      "execution_count": 49,
      "metadata": {},
      "outputs": [
        {
          "output_type": "display_data",
          "metadata": {},
          "data": {
            "image/png": "[encoded data removed]"
          }
        }
      ],
      "source": [
        "fig, ax = plt.subplots(5,5,figsize=(10,10))\n",
        "for i in range(5):\n",
        "    for j in range(5):\n",
        "        lstm = torch.nn.LSTM(4,3).to(\"cuda:0\")\n",
        "        linr = torch.nn.Linear(3,4).to(\"cuda:0\")\n",
        "        loss_fn = torch.nn.CrossEntropyLoss()\n",
        "        optimizr = torch.optim.Adam(list(lstm.parameters())+list(linr.parameters()),lr=0.1)\n",
        "        _water = torch.zeros(1,3).to(\"cuda:0\")\n",
        "        for epoc in range(3000):\n",
        "            ## 1\n",
        "            hidden, (hT,cT) = lstm(x,(_water,_water))\n",
        "            output = linr(hidden)\n",
        "            ## 2\n",
        "            loss = loss_fn(output,y)\n",
        "            ## 3\n",
        "            loss.backward()\n",
        "            ## 4 \n",
        "            optimizr.step()\n",
        "            optimizr.zero_grad()\n",
        "        yhat=soft(output)    \n",
        "        combind = torch.concat([hidden,yhat],axis=1)\n",
        "        ax[i][j].matshow(combind.to(\"cpu\").data[-6:],cmap='bwr',vmin=-1,vmax=1)\n",
        "fig.suptitle(r\"$LSTM$\",size=20)\n",
        "fig.tight_layout()"
      ],
      "id": "d909cf43-c949-40ab-ae54-dab63cfcec60"
    },
    {
      "cell_type": "markdown",
      "metadata": {},
      "source": [
        "-   lstm이 rnn보다 이런 상황에서는 더 잘 학습해낸다.\n",
        "-   linear 의 hiddenlayer로 구분되어 있다.\n",
        "\n",
        "## Exam6: abcdabcD\n",
        "\n",
        "### data"
      ],
      "id": "9420eef7-e0a0-4dbf-8880-4419d548d6bf"
    },
    {
      "cell_type": "code",
      "execution_count": 14,
      "metadata": {},
      "outputs": [
        {
          "output_type": "display_data",
          "metadata": {},
          "data": {
            "text/plain": [
              "['a', 'b', 'c', 'd', 'a', 'b', 'c', 'D']"
            ]
          }
        }
      ],
      "source": [
        "txt = list('abcdabcD')*100\n",
        "txt[:8]"
      ],
      "id": "69d6b468-bfea-4a61-b6cc-34dcabc97184"
    },
    {
      "cell_type": "code",
      "execution_count": 15,
      "metadata": {},
      "outputs": [],
      "source": [
        "txt_x = txt[:-1]\n",
        "txt_y = txt[1:]"
      ],
      "id": "bc893a67-a21a-439e-adc1-c3be5fb384e9"
    },
    {
      "cell_type": "code",
      "execution_count": 16,
      "metadata": {},
      "outputs": [],
      "source": [
        "mapping = {'a':0, 'b':1, 'c':2, 'd':3, 'D':4}\n",
        "x = torch.nn.functional.one_hot(torch.tensor(f(txt_x,mapping))).float()\n",
        "y = torch.nn.functional.one_hot(torch.tensor(f(txt_y,mapping))).float()"
      ],
      "id": "6ba613cd-e0ff-4d80-b984-8a323869b0fe"
    },
    {
      "cell_type": "code",
      "execution_count": 17,
      "metadata": {},
      "outputs": [],
      "source": [
        "x=x.to(\"cuda:0\")\n",
        "y=y.to(\"cuda:0\")"
      ],
      "id": "c7daadce-c0b4-49c4-bfa2-b3dd018c11b5"
    },
    {
      "cell_type": "markdown",
      "metadata": {},
      "source": [
        "### RNN vs LSTM 성능비교실험\n",
        "\n",
        "`-` RNN"
      ],
      "id": "7b482bec-4c42-4fb2-a075-8b4bacc310af"
    },
    {
      "cell_type": "code",
      "execution_count": 18,
      "metadata": {},
      "outputs": [
        {
          "output_type": "display_data",
          "metadata": {},
          "data": {
            "image/png": "[encoded data removed]"
          }
        }
      ],
      "source": [
        "fig, ax = plt.subplots(5,5,figsize=(10,10))\n",
        "for i in range(5):\n",
        "    for j in range(5):\n",
        "        rnn = torch.nn.RNN(5,4).to(\"cuda:0\")\n",
        "        linr = torch.nn.Linear(4,5).to(\"cuda:0\")\n",
        "        loss_fn = torch.nn.CrossEntropyLoss()\n",
        "        optimizr = torch.optim.Adam(list(rnn.parameters())+list(linr.parameters()),lr=0.1)\n",
        "        _water = torch.zeros(1,4).to(\"cuda:0\")\n",
        "        for epoc in range(3000):\n",
        "            ## 1\n",
        "            hidden, hT = rnn(x,_water)\n",
        "            output = linr(hidden)\n",
        "            ## 2\n",
        "            loss = loss_fn(output,y)\n",
        "            ## 3\n",
        "            loss.backward()\n",
        "            ## 4 \n",
        "            optimizr.step()\n",
        "            optimizr.zero_grad()\n",
        "        yhat=soft(output)    \n",
        "        combind = torch.concat([hidden,yhat],axis=1)\n",
        "        ax[i][j].matshow(combind.to(\"cpu\").data[-8:],cmap='bwr',vmin=-1,vmax=1)\n",
        "fig.suptitle(r\"$RNN$\",size=20)\n",
        "fig.tight_layout()"
      ],
      "id": "38243df5-bcbc-45fb-93d2-71c4dd4c5a48"
    },
    {
      "cell_type": "markdown",
      "metadata": {},
      "source": [
        "`-` LSTM"
      ],
      "id": "cc26cec2-d3a5-4110-9a03-4e2bdde3025b"
    },
    {
      "cell_type": "code",
      "execution_count": 19,
      "metadata": {},
      "outputs": [
        {
          "output_type": "display_data",
          "metadata": {},
          "data": {
            "image/png": "[encoded data removed]"
          }
        }
      ],
      "source": [
        "fig, ax = plt.subplots(5,5,figsize=(10,10))\n",
        "for i in range(5):\n",
        "    for j in range(5):\n",
        "        lstm = torch.nn.LSTM(5,4).to(\"cuda:0\")\n",
        "        linr = torch.nn.Linear(4,5).to(\"cuda:0\")\n",
        "        loss_fn = torch.nn.CrossEntropyLoss()\n",
        "        optimizr = torch.optim.Adam(list(lstm.parameters())+list(linr.parameters()),lr=0.1)\n",
        "        _water = torch.zeros(1,4).to(\"cuda:0\")\n",
        "        for epoc in range(3000):\n",
        "            ## 1\n",
        "            hidden, (hT,cT) = lstm(x,(_water,_water))\n",
        "            output = linr(hidden)\n",
        "            ## 2\n",
        "            loss = loss_fn(output,y)\n",
        "            ## 3\n",
        "            loss.backward()\n",
        "            ## 4 \n",
        "            optimizr.step()\n",
        "            optimizr.zero_grad()\n",
        "        yhat=soft(output)    \n",
        "        combind = torch.concat([hidden,yhat],axis=1)\n",
        "        ax[i][j].matshow(combind.to(\"cpu\").data[-8:],cmap='bwr',vmin=-1,vmax=1)\n",
        "fig.suptitle(r\"$LSTM$\",size=20)\n",
        "fig.tight_layout()"
      ],
      "id": "ef3aa264-2428-450c-bb69-1341bd7a6a24"
    },
    {
      "cell_type": "markdown",
      "metadata": {},
      "source": [
        "`-` 관찰1: LSTM이 확실히 장기기억에 강하다.\n",
        "\n",
        "`-` 관찰2: LSTM은 hidden에 0이 잘 나온다.\n",
        "\n",
        "-   사실 확실히 구분되는 특징을 판별할때는 -1,1 로 히든레이어 값들이\n",
        "    설정되면 명확하다.\n",
        "-   히든레이어에 -1~1사이의 값이 나온다면 애매한 판단이 내려지게 된다.\n",
        "-   그런데 이 애매한 판단이 어떻게 보면 문맥의 뉘앙스를 이해하는데 더 잘\n",
        "    맞다.\n",
        "-   그런데 RNN은 -1,1로 셋팅된 상황에서 -1~1로의 변화가 더디다는 것이\n",
        "    문제임.\n",
        "\n",
        "## LSTM의 계산과정\n",
        "\n",
        "### data: abaB"
      ],
      "id": "bfb20845-6e41-4d03-9310-2158effbfd6c"
    },
    {
      "cell_type": "code",
      "execution_count": 55,
      "metadata": {},
      "outputs": [
        {
          "output_type": "display_data",
          "metadata": {},
          "data": {
            "text/plain": [
              "['a', 'b', 'a', 'B', 'a']"
            ]
          }
        }
      ],
      "source": [
        "txt = list('abaB')*100\n",
        "txt[:5]"
      ],
      "id": "f90f83e0-1148-4ecd-a6a9-4055f46c5564"
    },
    {
      "cell_type": "markdown",
      "metadata": {},
      "source": [
        "-   ab\n",
        "-   aB\n",
        "-   로서 a의 수준이 2개로 나뉨 $\\to$ hidden node = 2"
      ],
      "id": "89b61bfd-d8fe-4372-b41d-cce34373cd5c"
    },
    {
      "cell_type": "code",
      "execution_count": 56,
      "metadata": {},
      "outputs": [],
      "source": [
        "txt_x = txt[:-1]\n",
        "txt_y = txt[1:]"
      ],
      "id": "790d03b1-492c-41fd-8628-1596935616c5"
    },
    {
      "cell_type": "code",
      "execution_count": 57,
      "metadata": {},
      "outputs": [],
      "source": [
        "mapping = {'a':0, 'b':1, 'B':2}\n",
        "x = torch.nn.functional.one_hot(torch.tensor(f(txt_x,mapping))).float()\n",
        "y = torch.nn.functional.one_hot(torch.tensor(f(txt_y,mapping))).float()"
      ],
      "id": "595daacb-29f7-41d0-8772-abe5b83ea718"
    },
    {
      "cell_type": "markdown",
      "metadata": {},
      "source": [
        "### 1 epoch ver1 (with torch.nn.LSTMCell)"
      ],
      "id": "37692a17-4640-448e-b007-0df2c9080cc3"
    },
    {
      "cell_type": "code",
      "execution_count": 58,
      "metadata": {},
      "outputs": [],
      "source": [
        "torch.manual_seed(43052) \n",
        "lstm_cell = torch.nn.LSTMCell(3,2) \n",
        "linr = torch.nn.Linear(2,3)\n",
        "loss_fn = torch.nn.CrossEntropyLoss() \n",
        "optimizr = torch.optim.Adam(list(lstm_cell.parameters())+list(linr.parameters()),lr=0.1)"
      ],
      "id": "d9fa4342-7618-499f-9a56-0c3ba1497ae0"
    },
    {
      "cell_type": "code",
      "execution_count": 59,
      "metadata": {},
      "outputs": [],
      "source": [
        "T = len(x) \n",
        "for epoc in range(1):\n",
        "    ht = torch.zeros(1,2)\n",
        "    ct = torch.zeros(1,2)\n",
        "    loss = 0 \n",
        "    ## 1~2\n",
        "    for t in range(T):\n",
        "        xt,yt = x[[t]], y[[t]]\n",
        "        ht,ct = lstm_cell(xt,(ht,ct))\n",
        "        ot = linr(ht) \n",
        "        loss = loss + loss_fn(ot,yt)\n",
        "    loss = loss / T\n",
        "    ## 3 \n",
        "    loss.backward()\n",
        "    ## 4 \n",
        "    optimizr.step()\n",
        "    optimizr.zero_grad()"
      ],
      "id": "fdc32fdb-8ee2-4133-82ce-87894a8f46f6"
    },
    {
      "cell_type": "markdown",
      "metadata": {},
      "source": [
        "-   데이터 적으니까 cpu로 할 것임"
      ],
      "id": "c9a5848e-b1a7-4f5d-99d8-e642c8522f06"
    },
    {
      "cell_type": "code",
      "execution_count": 60,
      "metadata": {},
      "outputs": [
        {
          "output_type": "display_data",
          "metadata": {},
          "data": {
            "text/plain": [
              "(tensor([[-0.0406,  0.2505]], grad_fn=<MulBackward0>),\n",
              " tensor([[-0.0975,  0.7134]], grad_fn=<AddBackward0>))"
            ]
          }
        }
      ],
      "source": [
        "ht,ct "
      ],
      "id": "c1b19e4a-c8fc-4424-8900-f55d7ccfd1f2"
    },
    {
      "cell_type": "markdown",
      "metadata": {},
      "source": [
        "-   hidden node가 많고 len 이 클수록 GPU가 효율이 좋다\n",
        "\n",
        "### 1 epoch ver2 (완전 손으로 구현)\n",
        "\n",
        "#### ***t=0 $\\to$ t=1***\n",
        "\n",
        "`-` lstm_cell 을 이용한 계산 (결과비교용)"
      ],
      "id": "01de03dd-20bd-4cbd-9327-51e6793a3122"
    },
    {
      "cell_type": "code",
      "execution_count": 61,
      "metadata": {},
      "outputs": [],
      "source": [
        "torch.manual_seed(43052) \n",
        "lstm_cell = torch.nn.LSTMCell(3,2) \n",
        "linr = torch.nn.Linear(2,3)\n",
        "loss_fn = torch.nn.CrossEntropyLoss() \n",
        "optimizr = torch.optim.Adam(list(lstm_cell.parameters())+list(linr.parameters()),lr=0.1)"
      ],
      "id": "ec8b2c8a-e65e-48b4-8d24-570a3b77802c"
    },
    {
      "cell_type": "code",
      "execution_count": 62,
      "metadata": {},
      "outputs": [],
      "source": [
        "T = len(x) \n",
        "for epoc in range(1):\n",
        "    ht = torch.zeros(1,2)\n",
        "    ct = torch.zeros(1,2)\n",
        "    loss = 0 \n",
        "    ## 1~2\n",
        "    for t in range(1):\n",
        "        xt,yt = x[[t]], y[[t]]\n",
        "        ht,ct = lstm_cell(xt,(ht,ct))\n",
        "    #     ot = linr(ht) \n",
        "    #     loss = loss + loss_fn(ot,yt)\n",
        "    # loss = loss / T\n",
        "    # ## 3 \n",
        "    # loss.backward()\n",
        "    # ## 4 \n",
        "    # optimizr.step()\n",
        "    # optimizr.zero_grad()"
      ],
      "id": "0a5fd7ca-e106-44dd-8bbc-cac748535e2d"
    },
    {
      "cell_type": "code",
      "execution_count": 63,
      "metadata": {},
      "outputs": [
        {
          "output_type": "display_data",
          "metadata": {},
          "data": {
            "text/plain": [
              "(tensor([[-0.0541,  0.0892]], grad_fn=<MulBackward0>),\n",
              " tensor([[-0.1347,  0.2339]], grad_fn=<AddBackward0>))"
            ]
          }
        }
      ],
      "source": [
        "ht,ct "
      ],
      "id": "9aca0b32-7d50-4359-b4e6-5a724f49177d"
    },
    {
      "cell_type": "markdown",
      "metadata": {},
      "source": [
        "-   이런결과를 어떻게 만드는걸까?\n",
        "-   <https://pytorch.org/docs/stable/generated/torch.nn.LSTM.html>\n",
        "\n",
        "$i_t = \\sigma(W_{ii} x_t + b_{ii} + W_{hi} h_{t-1} + b_{hi})$\n",
        "\n",
        "$f_t = \\sigma(W_{if} x_t + b_{if} + W_{hf} h_{t-1} + b_{hf})$\n",
        "\n",
        "$g_t = \\tanh (W_{ig} x_t + b_{ig} + W_{hg} h_{t-1} + b_{hg})$\n",
        "\n",
        "$o_t = \\sigma(W_{io} x_t + b_{io} + W_{ho} h_{t-1} + b_{hg})$\n",
        "\n",
        "$o_t = \\sigma(W_{io} x_t + b_{io} + W_{ho} h_{t-1} + b_{ho})$\n",
        "\n",
        "$c_t = f_t \\odot c_{t-1} + i_t \\odot g_t$\n",
        "\n",
        "$h_t = o_t \\odot \\tanh (c_t)$\n",
        "\n",
        "$\\sigma = \\text{ Sigmoid }$\n",
        "\n",
        "$x_t, h_{t-1} \\underrightarrow{lin} \\text{ }\\circ \\text{ }\\underrightarrow{sig} \\text{ }i_t$\n",
        "\n",
        "$x_t, h_{t-1} \\underrightarrow{lin} \\text{ }\\square \\text{ } \\underrightarrow{sig} \\text{ }f_t$\n",
        "\n",
        "$x_t, h_{t-1} \\underrightarrow{lin} \\text{ }\\star \\text{ } \\underrightarrow{tanh} \\text{ }g_t$\n",
        "\n",
        "$x_t, h_{t-1} \\underrightarrow{lin} \\text{ } \\triangleleft \\text{ }\\underrightarrow{sig} \\text{ }o_t$\n",
        "\n",
        "$x_t, h_{t-1} \\underrightarrow{lin} \\text{ }\\circ \\text{ , } \\square \\text{, } \\star \\text{, } \\triangleleft \\text{ } \\to \\sigma(circ) \\text{, }\\sigma(\\square) \\text{ , }\\tanh(\\star)\\text{ , } \\sigma(\\triangleleft) \\sim i_t, f_t, g_t, o_t$\n",
        "\n",
        "-   위에 나온 W가 어떻게 계산되나\n",
        "\n",
        "weight_ih_l\\[k\\] – the learnable input-hidden weights of the\n",
        "$\\text{k}^{th}$ layer $(W_ii|W_if|W_ig|W_io)$, of shape (4*hidden_size,\n",
        "input_size) for $k = 0$. Otherwise, the shape is (4*hidden_size,\n",
        "num_directions \\* hidden_size). If proj_size \\> 0 was specified, the\n",
        "shape will be (4*hidden_size, num_directions * proj_size) for $k > 0$\n",
        "\n",
        "weight_hh_l\\[k\\] – the learnable hidden-hidden weights of the\n",
        "$\\text{k}^{th}$layer $(W_hi|W_hf|W_hg|W_ho)$, of shape (4*hidden_size,\n",
        "hidden_size). If proj_size \\> 0 was specified, the shape will be\n",
        "(4*hidden_size, proj_size).\n",
        "\n",
        "`-` 직접계산\n",
        "\n",
        "-   $o_t$ = output_gate\n",
        "-   $f_t$ = forget_gate\n",
        "-   $i_t$ = input_gate"
      ],
      "id": "d29b531a-2ba6-4ce0-a55a-eaad622547e2"
    },
    {
      "cell_type": "code",
      "execution_count": 13,
      "metadata": {},
      "outputs": [],
      "source": [
        "ht = torch.zeros(1,2)\n",
        "ct = torch.zeros(1,2)"
      ],
      "id": "071cee7d-a92a-446c-98fd-84b4d92cb4b4"
    },
    {
      "cell_type": "code",
      "execution_count": 66,
      "metadata": {},
      "outputs": [
        {
          "output_type": "display_data",
          "metadata": {},
          "data": {
            "text/plain": [
              "tensor([[ 0.0137,  0.1495,  0.0879,  0.6436, -0.2615,  0.3974, -0.3506, -0.4550]],\n",
              "       grad_fn=<AddBackward0>)"
            ]
          }
        }
      ],
      "source": [
        "_ifgo = xt @ lstm_cell.weight_ih.T + ht @ lstm_cell.weight_hh.T + lstm_cell.bias_ih + lstm_cell.bias_hh\n",
        "_ifgo"
      ],
      "id": "00b7a640-2cc6-4caa-8453-c8525e7131a0"
    },
    {
      "cell_type": "markdown",
      "metadata": {},
      "source": [
        "$\\circ \\text{ , } \\square \\text{, } \\star \\text{, } \\triangleleft$각 두\n",
        "개씩"
      ],
      "id": "62afcd82-0135-46f3-8f32-6a4d96118b19"
    },
    {
      "cell_type": "code",
      "execution_count": 67,
      "metadata": {},
      "outputs": [],
      "source": [
        "input_gate = sig(_ifgo[:,0:2])\n",
        "forget_gate = sig(_ifgo[:,2:4])\n",
        "gt = tanh(_ifgo[:,4:6])\n",
        "output_gate = sig(_ifgo[:,6:8])"
      ],
      "id": "4c928a1d-c98b-4412-8d84-0189f8e1cbf5"
    },
    {
      "cell_type": "code",
      "execution_count": 68,
      "metadata": {},
      "outputs": [],
      "source": [
        "ct = forget_gate * ct + input_gate * gt\n",
        "ht = output_gate * tanh(ct)"
      ],
      "id": "43c3a6b8-9665-4d62-924c-4026fd30e771"
    },
    {
      "cell_type": "code",
      "execution_count": 69,
      "metadata": {},
      "outputs": [
        {
          "output_type": "display_data",
          "metadata": {},
          "data": {
            "text/plain": [
              "(tensor([[-0.0812,  0.1327]], grad_fn=<MulBackward0>),\n",
              " tensor([[-0.1991,  0.3563]], grad_fn=<AddBackward0>))"
            ]
          }
        }
      ],
      "source": [
        "ht,ct"
      ],
      "id": "6c473da7-59de-4dc4-a6a8-2a3c164dddaf"
    },
    {
      "cell_type": "markdown",
      "metadata": {},
      "source": [
        "#### ***t=0 $\\to$ t=T***"
      ],
      "id": "0ac844f6-881f-476f-ac87-3fd6d7b59ec8"
    },
    {
      "cell_type": "code",
      "execution_count": 70,
      "metadata": {},
      "outputs": [],
      "source": [
        "torch.manual_seed(43052) \n",
        "lstm_cell = torch.nn.LSTMCell(3,2) \n",
        "linr = torch.nn.Linear(2,3)\n",
        "loss_fn = torch.nn.CrossEntropyLoss() \n",
        "optimizr = torch.optim.Adam(list(lstm_cell.parameters())+list(linr.parameters()),lr=0.1)"
      ],
      "id": "7b3f0bf8-f390-4585-b333-df9d8e648f4a"
    },
    {
      "cell_type": "code",
      "execution_count": 71,
      "metadata": {},
      "outputs": [],
      "source": [
        "T = len(x) \n",
        "for epoc in range(1):\n",
        "    ht = torch.zeros(1,2)\n",
        "    ct = torch.zeros(1,2)\n",
        "    loss = 0 \n",
        "    ## 1~2\n",
        "    for t in range(T):\n",
        "        xt,yt = x[[t]], y[[t]]\n",
        "        \n",
        "        ## lstm_cell step1: calculate _ifgo \n",
        "        _ifgo = xt @ lstm_cell.weight_ih.T + ht @ lstm_cell.weight_hh.T + lstm_cell.bias_ih + lstm_cell.bias_hh\n",
        "        ## lstm_cell step2: decompose _ifgo \n",
        "        input_gate = sig(_ifgo[:,0:2])\n",
        "        forget_gate = sig(_ifgo[:,2:4])\n",
        "        gt = tanh(_ifgo[:,4:6])\n",
        "        output_gate = sig(_ifgo[:,6:8])\n",
        "        ## lstm_cell step3: calculate ht,ct \n",
        "        ct = forget_gate * ct + input_gate * gt\n",
        "        ht = output_gate * tanh(ct)\n",
        "        \n",
        "    #     ot = linr(ht) \n",
        "    #     loss = loss + loss_fn(ot,yt)\n",
        "    # loss = loss / T\n",
        "    # ## 3 \n",
        "    # loss.backward()\n",
        "    # ## 4 \n",
        "    # optimizr.step()\n",
        "    # optimizr.zero_grad()"
      ],
      "id": "e878d569-3dee-43de-b794-cde107b941b8"
    },
    {
      "cell_type": "code",
      "execution_count": 72,
      "metadata": {},
      "outputs": [
        {
          "output_type": "display_data",
          "metadata": {},
          "data": {
            "text/plain": [
              "(tensor([[-0.0406,  0.2505]], grad_fn=<MulBackward0>),\n",
              " tensor([[-0.0975,  0.7134]], grad_fn=<AddBackward0>))"
            ]
          }
        }
      ],
      "source": [
        "ht,ct"
      ],
      "id": "b1529f2d-50e0-4d6c-b7b4-11d11aa8f98a"
    },
    {
      "cell_type": "markdown",
      "metadata": {},
      "source": [
        "### 1 epoch ver3 (with torch.nn.LSTM)"
      ],
      "id": "dc61f1e0-b4f6-4fdc-b6b0-a4d4ff45af55"
    },
    {
      "cell_type": "code",
      "execution_count": 73,
      "metadata": {},
      "outputs": [],
      "source": [
        "torch.manual_seed(43052) \n",
        "lstm_cell = torch.nn.LSTMCell(3,2)\n",
        "linr = torch.nn.Linear(2,3) "
      ],
      "id": "db57b1d2-62dd-419c-be8e-4ecd86ddf7a7"
    },
    {
      "cell_type": "code",
      "execution_count": 74,
      "metadata": {},
      "outputs": [],
      "source": [
        "lstm = torch.nn.LSTM(3,2) "
      ],
      "id": "cda1f85d-2684-4132-8a77-2963dc8c506d"
    },
    {
      "cell_type": "code",
      "execution_count": 75,
      "metadata": {},
      "outputs": [],
      "source": [
        "lstm.weight_hh_l0.data = lstm_cell.weight_hh.data \n",
        "lstm.bias_hh_l0.data = lstm_cell.bias_hh.data \n",
        "lstm.weight_ih_l0.data = lstm_cell.weight_ih.data \n",
        "lstm.bias_ih_l0.data = lstm_cell.bias_ih.data "
      ],
      "id": "949f680d-6f97-4d1b-9eb3-c1bac8a00c6d"
    },
    {
      "cell_type": "markdown",
      "metadata": {},
      "source": [
        "-   초기화된 가중치값들로 덮어씌우기"
      ],
      "id": "bf2a204e-162c-4edc-8c11-7ae59570e0ee"
    },
    {
      "cell_type": "code",
      "execution_count": 76,
      "metadata": {},
      "outputs": [],
      "source": [
        "loss_fn = torch.nn.CrossEntropyLoss()\n",
        "optimizr = torch.optim.Adam(list(lstm.parameters()) + list(linr.parameters()), lr=0.1) "
      ],
      "id": "6c438c59-63cf-475b-ab57-8fbad3df5ab9"
    },
    {
      "cell_type": "code",
      "execution_count": 77,
      "metadata": {},
      "outputs": [],
      "source": [
        "_water = torch.zeros(1,2) \n",
        "for epoc in range(1): \n",
        "    ## step1 \n",
        "    hidden, (ht,ct) = lstm(x,(_water,_water))\n",
        "    output = linr(hidden)\n",
        "    # ## step2\n",
        "    # loss = loss_fn(output,y) \n",
        "    # ## step3\n",
        "    # loss.backward()\n",
        "    # ## step4 \n",
        "    # optimizr.step()\n",
        "    # optimizr.zero_grad() "
      ],
      "id": "8a4321ef-3ca7-4c79-80c9-9a6d2e3fbbb6"
    },
    {
      "cell_type": "code",
      "execution_count": 78,
      "metadata": {},
      "outputs": [
        {
          "output_type": "display_data",
          "metadata": {},
          "data": {
            "text/plain": [
              "(tensor([[-0.0406,  0.2505]], grad_fn=<SqueezeBackward1>),\n",
              " tensor([[-0.0975,  0.7134]], grad_fn=<SqueezeBackward1>))"
            ]
          }
        }
      ],
      "source": [
        "ht,ct"
      ],
      "id": "a7e9f401-9d45-4824-8b2c-5d871006b7e3"
    },
    {
      "cell_type": "markdown",
      "metadata": {},
      "source": [
        "## LSTM은 왜 강한가?\n",
        "\n",
        "### data: abaB"
      ],
      "id": "de20521a-02ea-4e41-bcec-43ab01ee3b3e"
    },
    {
      "cell_type": "code",
      "execution_count": 79,
      "metadata": {},
      "outputs": [
        {
          "output_type": "display_data",
          "metadata": {},
          "data": {
            "text/plain": [
              "['a', 'b', 'a', 'B', 'a']"
            ]
          }
        }
      ],
      "source": [
        "txt = list('abaB')*100\n",
        "txt[:5]"
      ],
      "id": "c64b3d7c-2e66-4629-9ad4-1e3bd9138029"
    },
    {
      "cell_type": "code",
      "execution_count": 80,
      "metadata": {},
      "outputs": [],
      "source": [
        "n_words = 3"
      ],
      "id": "e819e299-9a38-40d2-9407-7d251aecd9e3"
    },
    {
      "cell_type": "code",
      "execution_count": 81,
      "metadata": {},
      "outputs": [],
      "source": [
        "mapping = {'a':0, 'b':1, 'B':2}"
      ],
      "id": "19407661-7cba-4b4e-ba92-f32773664c57"
    },
    {
      "cell_type": "code",
      "execution_count": 82,
      "metadata": {},
      "outputs": [],
      "source": [
        "txt_x = txt[:-1]\n",
        "txt_y = txt[1:]"
      ],
      "id": "fd27f9f6-7122-493e-8415-34b61b1bddb6"
    },
    {
      "cell_type": "code",
      "execution_count": 83,
      "metadata": {},
      "outputs": [
        {
          "output_type": "display_data",
          "metadata": {},
          "data": {
            "text/plain": [
              "(['a', 'b', 'a', 'B', 'a', 'b', 'a', 'B', 'a', 'b'],\n",
              " ['b', 'a', 'B', 'a', 'b', 'a', 'B', 'a', 'b', 'a'])"
            ]
          }
        }
      ],
      "source": [
        "txt_x[:10],txt_y[:10]"
      ],
      "id": "40bb3e23-c7e8-44d2-99f3-012f881aaa6a"
    },
    {
      "cell_type": "code",
      "execution_count": 84,
      "metadata": {},
      "outputs": [],
      "source": [
        "x = torch.nn.functional.one_hot(torch.tensor(f(txt_x,mapping))).float()\n",
        "y = torch.nn.functional.one_hot(torch.tensor(f(txt_y,mapping))).float()"
      ],
      "id": "03493d19-ab7c-4285-8460-02a8e29f7113"
    },
    {
      "cell_type": "code",
      "execution_count": 85,
      "metadata": {},
      "outputs": [
        {
          "output_type": "display_data",
          "metadata": {},
          "data": {
            "text/plain": [
              "(tensor([[1., 0., 0.],\n",
              "         [0., 1., 0.],\n",
              "         [1., 0., 0.],\n",
              "         ...,\n",
              "         [1., 0., 0.],\n",
              "         [0., 1., 0.],\n",
              "         [1., 0., 0.]]),\n",
              " tensor([[0., 1., 0.],\n",
              "         [1., 0., 0.],\n",
              "         [0., 0., 1.],\n",
              "         ...,\n",
              "         [0., 1., 0.],\n",
              "         [1., 0., 0.],\n",
              "         [0., 0., 1.]]))"
            ]
          }
        }
      ],
      "source": [
        "x,y"
      ],
      "id": "cc4701aa-99d0-4366-8a3a-70623a31d496"
    },
    {
      "cell_type": "markdown",
      "metadata": {},
      "source": [
        "### 1000 epoch"
      ],
      "id": "612021d5-9eb8-4929-a08e-1d76f3e9bd32"
    },
    {
      "cell_type": "code",
      "execution_count": 86,
      "metadata": {},
      "outputs": [],
      "source": [
        "torch.manual_seed(43052) \n",
        "lstm = torch.nn.LSTM(3,2) \n",
        "linr = torch.nn.Linear(2,3) "
      ],
      "id": "adad7d35-775c-4345-9588-6468464ce000"
    },
    {
      "cell_type": "code",
      "execution_count": 87,
      "metadata": {},
      "outputs": [],
      "source": [
        "loss_fn = torch.nn.CrossEntropyLoss() \n",
        "optimizr = torch.optim.Adam(list(lstm.parameters())+ list(linr.parameters()),lr=0.1)"
      ],
      "id": "2284658b-aa94-4d9b-b0d6-470cf27b48e9"
    },
    {
      "cell_type": "code",
      "execution_count": 88,
      "metadata": {},
      "outputs": [],
      "source": [
        "_water = torch.zeros(1,2) \n",
        "for epoc in range(1000): \n",
        "    ## step1 \n",
        "    hidden, (ht,ct) = lstm(x,(_water,_water))\n",
        "    output = linr(hidden)\n",
        "    ## step2\n",
        "    loss = loss_fn(output,y) \n",
        "    ## step3\n",
        "    loss.backward()\n",
        "    ## step4 \n",
        "    optimizr.step()\n",
        "    optimizr.zero_grad() "
      ],
      "id": "8eeb1b3c-000e-4047-b09d-bb1d211c2e3b"
    },
    {
      "cell_type": "markdown",
      "metadata": {},
      "source": [
        "### 시각화"
      ],
      "id": "e184442b-dcf8-4131-8926-aa1940dfc7a8"
    },
    {
      "cell_type": "code",
      "execution_count": 89,
      "metadata": {},
      "outputs": [],
      "source": [
        "T = len(x)\n",
        "input_gate = torch.zeros(T,2)\n",
        "forget_gate = torch.zeros(T,2)\n",
        "output_gate = torch.zeros(T,2)\n",
        "g = torch.zeros(T,2)\n",
        "cell = torch.zeros(T,2)\n",
        "h = torch.zeros(T,2) "
      ],
      "id": "0ec0724b-0298-4a61-b0d0-6cb4ca86cac6"
    },
    {
      "cell_type": "markdown",
      "metadata": {},
      "source": [
        "-   변수를 담을 빈 셋 설정"
      ],
      "id": "61025318-1422-4a2e-908b-f48c417ff750"
    },
    {
      "cell_type": "code",
      "execution_count": 90,
      "metadata": {},
      "outputs": [],
      "source": [
        "for t in range(T): \n",
        "    ## 1: calculate _ifgo \n",
        "    _ifgo = x[[t]] @ lstm.weight_ih_l0.T + h[[t]] @ lstm.weight_hh_l0.T + lstm.bias_ih_l0 + lstm.bias_hh_l0 \n",
        "    ## 2: decompose _ifgo \n",
        "    input_gate[[t]] = sig(_ifgo[:,0:2])\n",
        "    forget_gate[[t]] = sig(_ifgo[:,2:4])\n",
        "    g[[t]] = tanh(_ifgo[:,4:6])\n",
        "    output_gate[[t]] = sig(_ifgo[:,6:8])\n",
        "    ## 3: calculate ht,ct \n",
        "    cell[[t]] = forget_gate[[t]] * cell[[t]] + input_gate[[t]] * g[[t]]\n",
        "    h[[t]] = output_gate[[t]] * tanh(cell[[t]])"
      ],
      "id": "70d0fdf3-5e08-4f87-ba53-a329ee9599c2"
    },
    {
      "cell_type": "code",
      "execution_count": 91,
      "metadata": {},
      "outputs": [],
      "source": [
        "combinded1 = torch.concat([input_gate,forget_gate,output_gate],axis=1)\n",
        "combinded2 = torch.concat([g,cell,h,soft(output)],axis=1)"
      ],
      "id": "62770c91-377d-43d7-b24b-76a578cb66a4"
    },
    {
      "cell_type": "code",
      "execution_count": 92,
      "metadata": {},
      "outputs": [
        {
          "output_type": "display_data",
          "metadata": {},
          "data": {
            "image/png": "[encoded data removed]"
          }
        },
        {
          "output_type": "display_data",
          "metadata": {},
          "data": {
            "image/png": "[encoded data removed]"
          }
        }
      ],
      "source": [
        "plt.matshow(combinded1[-8:].data,cmap='bwr',vmin=-1,vmax=1);\n",
        "plt.xticks(range(combinded1.shape[-1]),labels=['i']*2 + ['f']*2 + ['o']*2);\n",
        "plt.matshow(combinded2[-8:].data,cmap='bwr',vmin=-1,vmax=1)\n",
        "plt.xticks(range(combinded2.shape[-1]),labels=['g']*2 + ['c']*2 + ['h']*2 + ['yhat']*3);"
      ],
      "id": "49415b83-4996-4f4e-9bc8-b934df5e8921"
    },
    {
      "cell_type": "markdown",
      "metadata": {},
      "source": [
        "-   상단그림은 게이트의 값들만 시각화, 하단그림은 게이트 이외의 값들을\n",
        "    시각화\n",
        "\n",
        "### 시각화의 해석I"
      ],
      "id": "bf122669-d89f-40aa-a230-e224a73daef5"
    },
    {
      "cell_type": "code",
      "execution_count": 94,
      "metadata": {},
      "outputs": [
        {
          "output_type": "display_data",
          "metadata": {},
          "data": {
            "image/png": "[encoded data removed]"
          }
        }
      ],
      "source": [
        "plt.matshow(combinded1[-8:].data,cmap='bwr',vmin=-1,vmax=1);\n",
        "plt.xticks(range(combinded1.shape[-1]),labels=['i']*2 + ['f']*2 + ['o']*2);"
      ],
      "id": "80049493-28cc-49ef-83df-2260d674ff98"
    },
    {
      "cell_type": "markdown",
      "metadata": {},
      "source": [
        "`-` input_gate, forget_gate, output_gate는 모두 0~1 사이의 값을 가진다.\n",
        "\n",
        "`-` 이 값들은 각각 모두\n",
        "${\\boldsymbol g}_t, {\\boldsymbol c}_{t-1}, \\tanh({\\boldsymbol c}_t)$에\n",
        "곱해진다. 따라서 input_gate, forget_gate, output_gate 는 gate의 역할로\n",
        "비유가능하다. (1이면 통과, 0이면 차단)\n",
        "\n",
        "-   input_gate: ${\\boldsymbol g}_t$의 값을 얼만큼 통과시킬지 0~1사이의\n",
        "    숫자로 결정\n",
        "-   forget_gate: ${\\boldsymbol c}_{t-1}$의 값을 얼만큼 통과시킬지\n",
        "    0~1사이의 숫자로 결정\n",
        "-   output_gate: $\\tanh({\\boldsymbol c}_t)$의 값을 얼만큼 통과시킬지\n",
        "    0~1사이의 숫자로 결정\n",
        "\n",
        "(서연 필기)\n",
        "\n",
        "-   값들이 0과 1사이의 값을 가진다\n",
        "-   파 -1 흰 0 빨 1\n",
        "-   0 곱하면 어떤 값이든 0이 되니까 차단한다 표현\n",
        "\n",
        "### 시각화의 해석II"
      ],
      "id": "55070fdb-5840-4807-a4fe-8563ff4600fb"
    },
    {
      "cell_type": "code",
      "execution_count": 95,
      "metadata": {},
      "outputs": [
        {
          "output_type": "display_data",
          "metadata": {},
          "data": {
            "image/png": "[encoded data removed]"
          }
        }
      ],
      "source": [
        "plt.matshow(combinded2[-8:].data,cmap='bwr',vmin=-1,vmax=1)\n",
        "plt.xticks(range(combinded2.shape[-1]),labels=['g']*2 + ['c']*2 + ['h']*2 + ['yhat']*3);"
      ],
      "id": "e8cedd7d-aa54-4843-9cfb-86c8b431536d"
    },
    {
      "cell_type": "markdown",
      "metadata": {},
      "source": [
        "`-` 결국\n",
        "${\\boldsymbol g}_t\\to {\\boldsymbol c}_t \\to {\\boldsymbol h}_t \\to \\hat{\\boldsymbol y}$\n",
        "의 느낌이다. (${\\boldsymbol h}_t$를 계산하기 위해서는\n",
        "${\\boldsymbol c}_t$가 필요했고 ${\\boldsymbol c}_t$를 계산하기 위해서는\n",
        "${\\boldsymbol c}_{t-1}$과 ${\\boldsymbol g}_t$가 필요했음)\n",
        "\n",
        "-   ${\\boldsymbol h}_t= \\tanh({\\boldsymbol c}_t) \\odot {\\boldsymbol o}_t$\n",
        "-   ${\\boldsymbol c}_t ={\\boldsymbol c}_{t-1} \\odot {\\boldsymbol f}_t + {\\boldsymbol g}_{t} \\odot {\\boldsymbol i}_t$\n",
        "\n",
        "`-` ${\\boldsymbol g}_t,{\\boldsymbol c}_t,{\\boldsymbol h}_t$ 모두\n",
        "${\\boldsymbol x}_t$의 정보를 숙성시켜 가지고 있는 느낌이 든다.\n",
        "\n",
        "`-` ${\\boldsymbol g}_t$ 특징: 보통 -1,1 중 하나의 값을 가지도록 학습되어\n",
        "있다. (마치 RNN의 hidden node처럼!)\n",
        "\n",
        "-   $\\boldsymbol{g}_t = \\tanh({\\boldsymbol x}_t {\\bf W}_{ig} + {\\boldsymbol h}_{t-1} {\\bf W}_{hg}+ {\\boldsymbol b}_{ig}+{\\boldsymbol b}_{hg})$\n",
        "\n",
        "`-` ${\\boldsymbol c}_t$ 특징: ${\\boldsymbol g}_t$와 매우 비슷하지만 약간\n",
        "다른값을 가진다. 그래서 ${\\boldsymbol g}_t$와는 달리 -1,1 이외의 값도\n",
        "종종 등장."
      ],
      "id": "7cb02519-c2d9-4355-8a30-415696de33ef"
    },
    {
      "cell_type": "code",
      "execution_count": 96,
      "metadata": {},
      "outputs": [
        {
          "output_type": "stream",
          "name": "stdout",
          "text": [
            "first row: gt=tensor([ 0.9999, -0.9999]), ct=tensor([ 0.9647, -0.9984])\n",
            "second row: gt=tensor([ 0.9970, -0.9554]), ct=tensor([ 0.3592, -0.9373])"
          ]
        }
      ],
      "source": [
        "print(\"first row: gt={}, ct={}\".format(g[-8].data, cell[-8].data))\n",
        "print(\"second row: gt={}, ct={}\".format(g[-7].data, cell[-7].data))\n",
        "#g[-7], cell[-7]"
      ],
      "id": "e47ea880-23e0-4e32-9516-62c07a4512fa"
    },
    {
      "cell_type": "markdown",
      "metadata": {},
      "source": [
        "`-` ${\\boldsymbol h}_t$ 특징: (1) ${\\boldsymbol c}_t$의 느낌이 있음\n",
        "하지만 약간의 변형이 있음. (2) -1~1 사이에의 값을 훨씬 다양하게 가진다.\n",
        "(tanh때문)\n",
        "\n",
        "(서연 필기)\n",
        "\n",
        "-   comparison of g,c part\n",
        "    -   보니까 빨간 색은 1에 가까운 값, 파란색은 -1에 가까운 값들을\n",
        "        띄었다.\n",
        "    -   그리고 연한 빨간색인 부분은 0.3592로 낮았고, g부분과 c부분이\n",
        "        열별로 보았을 때 달랐다"
      ],
      "id": "f7fb3857-7e9e-4302-9073-bc8b490e9f08"
    },
    {
      "cell_type": "code",
      "execution_count": 97,
      "metadata": {},
      "outputs": [
        {
          "output_type": "stream",
          "name": "stdout",
          "text": [
            "first row: gt=tensor([ 0.9999, -0.9999]), ct=tensor([ 0.9647, -0.9984]), ht=tensor([ 0.7370, -0.3323])\n",
            "second row: gt=tensor([ 0.9970, -0.9554]), ct=tensor([ 0.3592, -0.9373]), ht=tensor([ 0.0604, -0.6951])"
          ]
        }
      ],
      "source": [
        "print(\"first row: gt={}, ct={}, ht={}\".format(g[-8].data, cell[-8].data,h[-8].data))\n",
        "print(\"second row: gt={}, ct={}, ht={}\".format(g[-7].data, cell[-7].data,h[-7].data))\n",
        "#g[-7], cell[-7]"
      ],
      "id": "888cd827-2546-4836-aa95-89ac7dcf7eac"
    },
    {
      "cell_type": "markdown",
      "metadata": {},
      "source": [
        "(서연 필기)\n",
        "\n",
        "-   comparison of c,h part\n",
        "    -   h는 c와 무관해보이지 않는다.\n",
        "    -   단지 어떤 변형이 있는 것 같다.\n",
        "\n",
        "`-` 예전의문 해결\n",
        "\n",
        "-   실험적으로 살펴보니 LSTM이 RNN보다 장기기억에 유리했음.\n",
        "-   그 이유: RRN은 ${\\boldsymbol h}_t$의 값이 -1 혹은 1로 결정되는\n",
        "    경우가 많았음. 그러나 경우에 따라서는 ${\\boldsymbol h}_t$이 -1~1의\n",
        "    값을 가지는 것이 문맥적 뉘앙스를 포착하기에는 유리한데 LSTM이 이러한\n",
        "    방식으로 학습되는 경우가 많았음.\n",
        "-   왜 LSTM의 ${\\boldsymbol h}_t$은 -1,1 이외의 값을 쉽게 가질 수\n",
        "    있는가? (1) gate들의 역할 (2) 마지막에 취해지는 tanh 때문\n",
        "\n",
        "### LSTM의 알고리즘 리뷰 I (수식위주)\n",
        "\n",
        "**(step1)** calculate ${\\tt ifgo}$\n",
        "\n",
        "${\\tt ifgo} = {\\boldsymbol x}_t \\big[{\\bf W}_{ii} | {\\bf W}_{if}| {\\bf W}_{ig} |{\\bf W}_{io}\\big] + {\\boldsymbol h}_{t-1} \\big[ {\\bf W}_{hi}|{\\bf W}_{hf} |{\\bf W}_{hg} | {\\bf W}_{ho} \\big] + bias$\n",
        "\n",
        "$=\\big[{\\boldsymbol x}_t{\\bf W}_{ii} + {\\boldsymbol h}_{t-1}{\\bf W}_{hi} ~\\big|~ {\\boldsymbol x}_t{\\bf W}_{if}+ {\\boldsymbol h}_{t-1}{\\bf W}_{hf}~ \\big|~ {\\boldsymbol x}_t{\\bf W}_{ig} + {\\boldsymbol h}_{t-1}{\\bf W}_{hg} ~\\big|~ {\\boldsymbol x}_t{\\bf W}_{io} + {\\boldsymbol h}_{t-1}{\\bf W}_{ho} \\big] + bias$\n",
        "\n",
        "참고: 위의 수식은 아래코드에 해당하는 부분\n",
        "\n",
        "``` python\n",
        "ifgo = xt @ lstm_cell.weight_ih.T + ht @ lstm_cell.weight_hh.T + lstm_cell.bias_ih + lstm_cell.bias_hh\n",
        "```\n",
        "\n",
        "**(step2)** decompose ${\\tt ifgo}$ and get ${\\boldsymbol i}_t$,\n",
        "${\\boldsymbol f}_t$, ${\\boldsymbol g}_t$, ${\\boldsymbol o}_t$\n",
        "\n",
        "${\\boldsymbol i}_t = \\sigma({\\boldsymbol x}_t {\\bf W}_{ii} + {\\boldsymbol h}_{t-1} {\\bf W}_{hi} +bias )$\n",
        "\n",
        "${\\boldsymbol f}_t = \\sigma({\\boldsymbol x}_t {\\bf W}_{if} + {\\boldsymbol h}_{t-1} {\\bf W}_{hf} +bias )$\n",
        "\n",
        "${\\boldsymbol g}_t = \\tanh({\\boldsymbol x}_t {\\bf W}_{ig} + {\\boldsymbol h}_{t-1} {\\bf W}_{hg} +bias )$\n",
        "\n",
        "${\\boldsymbol o}_t = \\sigma({\\boldsymbol x}_t {\\bf W}_{io} + {\\boldsymbol h}_{t-1} {\\bf W}_{ho} +bias )$\n",
        "\n",
        "**(step3)** calculate ${\\boldsymbol c}_t$ and ${\\boldsymbol h}_t$\n",
        "\n",
        "${\\boldsymbol c}_t = {\\boldsymbol i}_t \\odot {\\boldsymbol g}_t+ {\\boldsymbol f}_t \\odot {\\boldsymbol c}_{t-1}$\n",
        "\n",
        "${\\boldsymbol h}_t = \\tanh({\\boldsymbol o}_t \\odot {\\boldsymbol c}_t)$\n",
        "\n",
        "### LSTM의 알고리즘 리뷰 II (느낌위주)\n",
        "\n",
        "$x_t, h_{t-1} \\underrightarrow{lin} \\text{ } \\triangleleft \\text{ }\\underrightarrow{sig} \\text{ }o_t$\n",
        "\n",
        "$x_t, h_{t-1} \\underrightarrow{lin} \\text{ }\\circ \\text{ , } \\square \\text{, } \\star \\text{, } \\triangleleft \\text{ } \\to \\sigma(circ) \\text{, }\\sigma(\\square) \\text{ , }\\tanh(\\star)\\text{ , } \\sigma(\\triangleleft) \\sim i_t, f_t, g_t, o_t$\n",
        "\n",
        "-   이해 및 암기를 돕기위해서 비유적으로 설명한 챕터입니다..\n",
        "\n",
        "`-` 느낌1: RNN이 콩물에서 간장을 한번에 숙성시키는 방법이라면 LSTM은\n",
        "콩물에서 간장을 3차로 나누어 숙성하는 느낌이다.\n",
        "\n",
        "-   콩물: ${\\boldsymbol x}_t$\n",
        "-   1차숙성: ${\\boldsymbol g}_t$\n",
        "-   2차숙성: ${\\boldsymbol c}_t$\n",
        "-   3차숙성: ${\\boldsymbol h}_t$\n",
        "\n",
        "`-` 느낌2: ${\\boldsymbol g}_t$에 대하여\n",
        "\n",
        "-   계산방법: ${\\boldsymbol x}_t$와 ${\\boldsymbol h}_{t-1}$를\n",
        "    ${\\bf W}_{ig}, {\\bf W}_{hg}$를 이용해 선형결합하고 $\\tanh$를 취한\n",
        "    결과\n",
        "-   RNN에서 간장을 만들던 그 수식에서 $h_t$를 $g_t$로 바꾼것\n",
        "-   크게 2가지의 의미를 가진다 (1) 과거와 현재의 결합 (2) 활성화함수\n",
        "    $\\tanh$를 적용\n",
        "\n",
        "(서연 필기)\n",
        "\n",
        "$x_t, h_{t-1} \\underrightarrow{lin} \\text{ }\\circ \\text{ }\\underrightarrow{sig} \\text{ }i_t$\n",
        "\n",
        "$x_t, h_{t-1} \\underrightarrow{lin} \\text{ }\\square \\text{ } \\underrightarrow{sig} \\text{ }f_t$\n",
        "\n",
        "$x_t, h_{t-1} \\underrightarrow{lin} \\text{ }\\star \\text{ } \\underrightarrow{tanh} \\text{ }g_t$\n",
        "\n",
        "를 풀어서 쓰면\n",
        "\n",
        "$\\tanh(x_t W_{ig} + h_{t-1} W_{hg} + bias)$\n",
        "\n",
        "RNN: $h_t = \\tanh(x_t W + h_{t-1} W + bias)$\n",
        "\n",
        "LSTM: $g_t = \\tanh(x_t W + h_{t-1} W + bias)$ - 과거$h_{t-1}$와\n",
        "현재$x_t$의 결합\n",
        "\n",
        "`-` 느낌3: ${\\boldsymbol c}_t$에 대하여 (1)\n",
        "\n",
        "-   계산방법: ${\\boldsymbol g}_{t}$와 ${\\boldsymbol c}_{t-1}$를 요소별로\n",
        "    선택하고 더하는 과정\n",
        "-   $g_t$는 (1) 과거와 현재의 결합 (2) 활성화함수 tanh를 적용으로\n",
        "    나누어지는데 이중에서 (1) 과거와 현재의 정보를 결합하는 과정만\n",
        "    해당한다. 차이점은 요소별 선택 후 덧셈\n",
        "    -   $g_t$는 선형 결합\n",
        "-   이러한 결합을 쓰는 이유? 게이트를 이용하여 과거와 현재의 정보를 제어\n",
        "    (일반적인 설명, 솔직히 내가 좋아하는 설명은 아님)\n",
        "\n",
        "(서연 필기)\n",
        "\n",
        "$c_t = g_t \\odot Input + c_{t-1} \\odot Forget$\n",
        "\n",
        "`-` 느낌4: ${\\boldsymbol c}_t$에 대하여 (2) // ${\\boldsymbol c}_t$는 왜\n",
        "과거와 현재의 정보를 제어한다고 볼 수 있는가?\n",
        "\n",
        "$t=1$ 시점 계산과정관찰"
      ],
      "id": "52b26c9b-3192-45d1-813b-6454117c8973"
    },
    {
      "cell_type": "code",
      "execution_count": 98,
      "metadata": {},
      "outputs": [
        {
          "output_type": "display_data",
          "metadata": {},
          "data": {
            "text/plain": [
              "(tensor([0.9065, 0.9999], grad_fn=<SelectBackward0>),\n",
              " tensor([0.9931, 0.9999], grad_fn=<SelectBackward0>),\n",
              " tensor([0.9931, 0.0014], grad_fn=<SelectBackward0>),\n",
              " tensor([ 0.3592, -0.9373], grad_fn=<SelectBackward0>))"
            ]
          }
        }
      ],
      "source": [
        "input_gate[1],g[1],forget_gate[1],cell[0]"
      ],
      "id": "44a73c0b-bc72-4c57-babe-fec6c3de45f7"
    },
    {
      "cell_type": "markdown",
      "metadata": {},
      "source": [
        "$[0.9,1.0] \\odot {\\boldsymbol g}_t + [1.0,0.0] \\odot {\\boldsymbol c}_{t-1}$\n",
        "\n",
        "(서연 필기)\n",
        "\n",
        "여기서 곱은 element별 곱 -\n",
        "$[0.9,1.0] \\odot g_t = [0.9,1.0]\\odot [g_1,g_2] = [0.9g_1(현재)_,1.0g_2(과거)]$ -\n",
        "여기서 0이 현재에 곱해지면 현재를 기억하지 않고 과거에 0이 곱해지면\n",
        "과거를 기억하지 않도록 조정할 수 있음\n",
        "\n",
        "$\\star$ gate없으면 조정 못 하나??$\\to$ no, weigjht로도 조정할 수 있지\n",
        "않을까?\n",
        "\n",
        "-   forget_gate는 $c_{t-1}$의 첫번째 원소는 기억하고, 두번째 원소는\n",
        "    잊으라고 말하고 있음 // forget_gate는 과거($c_{t-1}$)의 정보를\n",
        "    얼마나 잊을지 (= 얼마나 기억할지) 를 결정한다고 해석할 수 있다.\n",
        "-   input_gate는 $g_{t}$의 첫번째 원소와 두번째 원소를 모두 기억하되\n",
        "    두번째 원소를 좀 더 중요하게 기억하라고 말하고 있음 // input_gate는\n",
        "    현재($g_{t}$)의 정보를 얼만큼 강하게 반영할지 결정한다.\n",
        "-   이 둘을 조합하면 ${\\boldsymbol c}_t$가 현재와 과거의 정보중 어떠한\n",
        "    정보를 더 중시하면서 기억할지 결정한다고 볼 수 있다.\n",
        "\n",
        "> 이 설명은 제가 좀 싫어해요, 싫어하는 이유는 (1) “기억의 정도를\n",
        "> 조절한다”와 “망각의 정도를 조절한다”는 사실 같은말임. 그래서\n",
        "> forget_gate의 용어가 모호함. (2) 기억과 망각을 조정하는 방식으로 꼭\n",
        "> gate의 개념을 사용해야 하는건 아님\n",
        "\n",
        "`-` 느낌5: ${\\boldsymbol c}_t$에 대하여 (3)\n",
        "\n",
        "-   사실상 LSTM 알고리즘의 꽃이라 할 수 있음.\n",
        "-   LSTM은 long short term memory의 약자임. 기존의 RNN은 장기기억을\n",
        "    활용함에 약점이 있는데 LSTM은 단기기억/장기기억 모두 잘 활용함.\n",
        "-   LSTM이 장기기억을 잘 활용하는 비법은 바로 ${\\boldsymbol c}_t$에\n",
        "    있다.\n",
        "\n",
        "(서연필기) $c_t$로 과거, 현재 기억 조절할 수 있기 때문에\n",
        "\n",
        "`-` 느낌6: ${\\boldsymbol h}_t$에 대하여 - 계산방법:\n",
        "$\\tanh({\\boldsymbol c}_t)$를 요소별로 선택\n",
        "\n",
        "데이터 다 가져와서 선택하는 방식\n",
        "\n",
        "`-` RNN, LSTM의 변수들 비교 테이블\n",
        "\n",
        "|                          |        과거정보         |      현재정보       | 과거와 현재의 결합방식 |      활성화      |  느낌   |                                      비고                                       |\n",
        "|:---------:|:---------:|:---------:|:---------:|:---------:|:---------:|:---------:|\n",
        "| RNN-${\\boldsymbol h}_t$  | ${\\boldsymbol h}_{t-1}$ | ${\\boldsymbol x}_t$ |  $\\times$ W $\\to$ $+$  |     $\\tanh$      |  간장   |                                                                                 |\n",
        "|                          |                         |                     |                        |                  |         |                                                                                 |\n",
        "| LSTM-${\\boldsymbol g}_t$ | ${\\boldsymbol h}_{t-1}$ | ${\\boldsymbol x}_t$ |  $\\times$W $\\to$ $+$   |     $\\tanh$      | 1차간장 |                                                                                 |\n",
        "| LSTM-${\\boldsymbol c}_t$ | ${\\boldsymbol c}_{t-1}$ | ${\\boldsymbol g}_t$ |   $\\odot$ W$\\to$ $+$   |       None       | 2차간장 | gate를 열림정도를 판단할때 ${\\boldsymbol x}_t$와 ${\\boldsymbol h}_{t-1}$을 이용 |\n",
        "| LSTM-${\\boldsymbol h}_t$ |          None           | ${\\boldsymbol c}_t$ |          None          | $\\tanh$, $\\odot$ | 3차간장 | gate를 열림정도를 판단할때 ${\\boldsymbol x}_t$와 ${\\boldsymbol h}_{t-1}$을 이용 |\n",
        "\n",
        "-   RNN은 기억할 과거정보가 ${\\boldsymbol h}_{t-1}$ 하나이지만 LSTM은\n",
        "    ${\\boldsymbol c}_{t-1}$, ${\\boldsymbol h}_{t-1}$ 2개이다.\n",
        "\n",
        "`-` 알고리즘리뷰 :\n",
        "\n",
        "-   콩물$x_t$,과거3차간장$h_{t-1}$\n",
        "    $\\overset{\\times,+,\\tanh}{\\longrightarrow}$ 현재1차간장$g_t$\n",
        "-   현재1차간장$c_{t-1}$, 과거2차간장\n",
        "    $\\overset{\\odot,+,\\tanh}{\\longrightarrow}$ 현재2차간장\n",
        "-   현재2차간장$c_t$ $\\overset{\\tanh,\\odot}{\\longrightarrow}$\n",
        "    현재3차간장$h_t$\n",
        "\n",
        "### LSTM이 강한이유\n",
        "\n",
        "`-` LSTM이 장기기억에 유리함. 그 이유는 input, forget, output gate 들이\n",
        "과거기억을 위한 역할을 하기 때문.\n",
        "\n",
        "-   비판: 아키텍처에 대한 이론적 근거는 없음. 장기기억을 위하여 꼭\n",
        "    LSTM같은 구조일 필요는 없음. (왜 3차간장을 만들때 tanh를 써야하는지?\n",
        "    게이트는 꼭3개이어야 하는지?)\n",
        "\n",
        "`-` 저는 사실 아까 살펴본 아래의 이유로 이해하고 있습니다.\n",
        "\n",
        "-   실험적으로 살펴보니 LSTM이 RNN보다 장기기억에 유리했음.\n",
        "-   그 이유: RRN은 ${\\boldsymbol h}_t$의 값이 -1 혹은 1로 결정되는\n",
        "    경우가 많았음. 그러나 경우에 따라서는 ${\\boldsymbol h}_t$이 -1~1의\n",
        "    값을 가지는 것이 문맥적 뉘앙스를 포착하기에는 유리한데 LSTM이 이러한\n",
        "    방식으로 학습되는 경우가 많았음.\n",
        "-   왜 LSTM의 ${\\boldsymbol h}_t$은 -1,1 이외의 값을 쉽게 가질 수\n",
        "    있는가? (1) gate들의 역할 (2) 마지막에 취해지는 tanh 때문\n",
        "\n",
        "문잭적으로 이해 -\\>유리하다 칭함\n",
        "\n",
        "## 참고자료들\n",
        "\n",
        "-   <https://colah.github.io/posts/2015-08-Understanding-LSTMs/>\n",
        "-   <https://pytorch.org/docs/stable/generated/torch.nn.LSTM.html>\n",
        "-   <https://arxiv.org/abs/1402.1128>"
      ],
      "id": "6dfcfb8a-5f44-49c7-a32d-9ff56512ed2d"
    }
  ],
  "nbformat": 4,
  "nbformat_minor": 5,
  "metadata": {
    "kernelspec": {
      "name": "python3",
      "display_name": "Python 3 (ipykernel)",
      "language": "python"
    },
    "language_info": {
      "name": "python",
      "codemirror_mode": {
        "name": "ipython",
        "version": "3"
      },
      "file_extension": ".py",
      "mimetype": "text/x-python",
      "nbconvert_exporter": "python",
      "pygments_lexer": "ipython3",
      "version": "3.8.12"
    }
  }
}