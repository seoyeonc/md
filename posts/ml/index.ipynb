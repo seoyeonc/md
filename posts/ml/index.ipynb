{
  "cells": [
    {
      "cell_type": "markdown",
      "metadata": {},
      "source": [
        "# Special Topics in Machine Learning\n",
        "\n",
        "SEOYEON CHOI  \n",
        "2022-09-01\n",
        "\n",
        "Those are posts of Special Topics in Machine Learning."
      ],
      "id": "f152861a-ca76-4171-8889-6b98d08d0f5c"
    }
  ],
  "nbformat": 4,
  "nbformat_minor": 5,
  "metadata": {
    "kernelspec": {
      "display_name": "Python 3",
      "language": "python",
      "name": "python3"
    }
  }
}