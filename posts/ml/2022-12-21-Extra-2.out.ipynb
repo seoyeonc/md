{
  "cells": [
    {
      "cell_type": "markdown",
      "metadata": {},
      "source": [
        "# Extra-2: 생성모형(GAN)\n",
        "\n",
        "SEOYEON CHOI  \n",
        "2022-12-21\n",
        "\n",
        "> GAN– MNIST 3/7\n",
        "\n",
        "# GAN intro\n",
        "\n",
        "`-` 저자: 이안굿펠로우 - 천재임 - 지도교수가 요수아 벤지오\n",
        "\n",
        "`-` 논문 NIPS, 저는 이 논문 읽고 소름돋았어요.. -\n",
        "https://arxiv.org/abs/1406.2661 (현재시점, 38751회 인용되었음 $\\to$\n",
        "48978회 인용..)\n",
        "\n",
        "`-` 최근 10년간 머신러닝 분야에서 가장 혁신적인 아이디어이다. (얀르쿤,\n",
        "2014년 시점..)\n",
        "\n",
        "`-` 무슨내용? 생성모형\n",
        "\n",
        "## 생성모형이란? (쉬운 설명)\n",
        "\n",
        "> 만들수 없다면 이해하지 못한 것이다, 리처드 파인만 (천재 물리학자)\n",
        "\n",
        "`-` 사진속에 들어있는 동물이 개인지 고양이인지 맞출수 있는 기계와 개와\n",
        "고양이를 그릴수 있는 기계중 어떤것이 더 시각적보에 대한 이해가 깊다고\n",
        "볼수 있는가?\n",
        "\n",
        "`-` 진정으로 인공지능이 이미지를 이해했다면, 이미지를 만들수도 있어야\n",
        "한다. $\\to$ 이미지를 생성하는 모형을 만들어보자 $\\to$ 성공\n",
        "\n",
        "![](https://upload.wikimedia.org/wikipedia/commons/1/1f/Woman_1.jpg)\n",
        "\n",
        "## GAN의 응용분야\n",
        "\n",
        "`-` 내가 찍은 사진이 피카소의 화풍으로 표현된다면?\n",
        "\n",
        "`-` 퀸의 라이브에이드가 4k로 나온다면?\n",
        "\n",
        "`-` 1920년대 서울의 모습이 칼라로 복원된다면?\n",
        "\n",
        "`-` 딥페이크: 유명인의 가짜 포르노, 가짜뉴스, 협박(거짓기소)\n",
        "\n",
        "`-` 게임영상 (파이널판타지)\n",
        "\n",
        "`-` 거북이의 커버..\n",
        "\n",
        "`-` 너무 많아요…..\n",
        "\n",
        "## 생성모형이란? 통계학과 버전의 설명\n",
        "\n",
        "> 제한된 정보만으로 어떤 문제를 풀 때, 그 과정에서 원래의 문제보다\n",
        "> 일반적인 문제를 풀지 말고, 가능한 원래의 문제를 직접 풀어야한다.\n",
        "> 배프닉 (SVM 창시자)\n",
        "\n",
        "`-` 이미지 $\\boldsymbol{x}$가 주어졌을 경우 라벨을 $y$라고 하자.\n",
        "\n",
        "`-` 이미지를 보고 라벨을 맞추는 일은 $p(y| \\boldsymbol{x})$에 관심이\n",
        "있다.\n",
        "\n",
        "`-` 이미지를 생성하는 일은 $p(\\boldsymbol{x},y)$에 관심이 있는것이다.\n",
        "\n",
        "`-` 데이터의 생성확률 $p(\\boldsymbol{x},y)$을 알면 클래스의 사후확률\n",
        "$p(y|\\boldsymbol{x})$를 알 수 있음. (아래의 수식 참고) 하지만 역은\n",
        "불가능\n",
        "\n",
        "$$p(y|x) = \\frac{p(x,y)}{p(x)} = \\frac{p(x,y)}{\\sum_{y}p(x,y)} $$\n",
        "\n",
        "-   즉 이미지를 생성하는일은 분류문제보다 더 어려운 일이라 해석가능\n",
        "\n",
        "`-` 따라서 배프닉의 원리에 의하면 식별적 분류가 생성적 분류보다 바람직한\n",
        "접근법이라 할 수 있음.\n",
        "\n",
        "`-` 하지만 다양한 현실문제에서 생성모형이 유용할때가 많다.\n",
        "\n",
        "## GAN의 원리\n",
        "\n",
        "`-` GAN은 생성모형중 하나임\n",
        "\n",
        "`-` GAN의 원리는 경찰과 위조지폐범이 서로 선의의(?) 경쟁을 통하여 서로\n",
        "발전하는 모형으로 설명할 수 있다.\n",
        "\n",
        "> The generative model can be thought of as analogous to a team of\n",
        "> counterfeiters, trying to produce fake currency and use it without\n",
        "> detection, while the discriminative model is analogous to the police,\n",
        "> trying to detect the counterfeit currency. Competition in this game\n",
        "> drives both teams to improve their methods until the counterfeits are\n",
        "> indistiguishable from the genuine articles.\n",
        "\n",
        "`-` 서로 적대적인(adversarial) 네트워크(network)를 동시에 학습시켜\n",
        "가짜이미지를 만든다(generate)\n",
        "\n",
        "`-` 무식한 상황극..\n",
        "\n",
        "-   위조범: 가짜돈을 만들어서 부자가 되어야지! (가짜돈을 그림)\n",
        "-   경찰: (위조범이 만든 돈을 보고) 이건 가짜다!\n",
        "-   위조범: 걸렸군.. 더 정교하게 만들어야지..\n",
        "-   경찰: 이건 진짠가?… –\\> 상사에게 혼남. 그것도 구분못하냐고\n",
        "-   위조범: 더 정교하게 만들자..\n",
        "-   경찰: 더 판별능력을 업그레이드 하자!\n",
        "-   반복..\n",
        "\n",
        "`-` 굉장히 우수한 경찰조차도 진짜와 가짜를 구분하지 못할때(=진짜\n",
        "이미지를 0.5의 확률로만 진짜라고 말할때 = 가짜 이미지를 0.5의 확률로만\n",
        "가짜라고 말할때) 학습을 멈춘다.\n",
        "\n",
        "# GAN의 구현\n",
        "\n",
        "## import"
      ],
      "id": "ee30f86f-d161-405c-a43a-6c4fe4964243"
    },
    {
      "cell_type": "code",
      "execution_count": 1,
      "metadata": {},
      "outputs": [
        {
          "output_type": "stream",
          "name": "stderr",
          "text": [
            "/home/csy/anaconda3/envs/py37/lib/python3.7/site-packages/tqdm/auto.py:22: TqdmWarning: IProgress not found. Please update jupyter and ipywidgets. See https://ipywidgets.readthedocs.io/en/stable/user_install.html\n",
            "  from .autonotebook import tqdm as notebook_tqdm"
          ]
        }
      ],
      "source": [
        "import torch \n",
        "from fastai.vision.all import *"
      ],
      "id": "5fed034a-f737-44e2-95a8-861958284340"
    },
    {
      "cell_type": "markdown",
      "metadata": {},
      "source": [
        "## data"
      ],
      "id": "6b261503-e21c-43b5-ad0e-36fdc827413c"
    },
    {
      "cell_type": "code",
      "execution_count": 2,
      "metadata": {},
      "outputs": [],
      "source": [
        "path = untar_data(URLs.MNIST_SAMPLE)"
      ],
      "id": "dc5ba0b0-8d91-4d3a-a1b2-7549d0f9f49c"
    },
    {
      "cell_type": "code",
      "execution_count": 3,
      "metadata": {},
      "outputs": [],
      "source": [
        "threes = (path/'train'/'3').ls()"
      ],
      "id": "ee77c2c2-065b-4048-bbe1-629e22e3882c"
    },
    {
      "cell_type": "code",
      "execution_count": 4,
      "metadata": {},
      "outputs": [],
      "source": [
        "X = torch.stack([tensor(Image.open(i)) for i in threes]).float()/255"
      ],
      "id": "86d47c14-d1d8-495f-b543-47e930e2fde5"
    },
    {
      "cell_type": "code",
      "execution_count": 5,
      "metadata": {},
      "outputs": [
        {
          "output_type": "display_data",
          "metadata": {},
          "data": {
            "text/plain": [
              "torch.Size([6131, 28, 28])"
            ]
          }
        }
      ],
      "source": [
        "X.shape"
      ],
      "id": "291762c7-fe08-48f7-89af-3d8c1d2e4ab9"
    },
    {
      "cell_type": "code",
      "execution_count": 6,
      "metadata": {},
      "outputs": [
        {
          "output_type": "display_data",
          "metadata": {},
          "data": {
            "image/png": "[encoded data removed]"
          }
        }
      ],
      "source": [
        "plt.imshow(X[0])"
      ],
      "id": "b47835cf-695a-4915-8dab-baf08db7ca18"
    },
    {
      "cell_type": "markdown",
      "metadata": {},
      "source": [
        "`-` MLP를 이용해 학습하기 위해 X의 차원을 변경"
      ],
      "id": "b3ca3264-4b9f-4f55-8118-8fd05704a593"
    },
    {
      "cell_type": "code",
      "execution_count": 7,
      "metadata": {},
      "outputs": [
        {
          "output_type": "display_data",
          "metadata": {},
          "data": {
            "text/plain": [
              "torch.Size([6131, 784])"
            ]
          }
        }
      ],
      "source": [
        "X=X.reshape(6131,28*28)\n",
        "X.shape"
      ],
      "id": "ff2e65f5-ceb8-48db-bae8-59b05f3e6246"
    },
    {
      "cell_type": "markdown",
      "metadata": {},
      "source": [
        "## 위조지폐범의 설계: noise $\\to$ 가짜이미지를 만들어 내는 네트워크를 만들자.\n",
        "\n",
        "`-` 네트워크의 입력? 적당한 벡터, 혹은 매트릭스에 노이즈(랜덤으로 채운\n",
        "어떠한 숫자들)를 채운것\n",
        "\n",
        "`-` 네트워크의 출력? (28,28)의 텐서, 784의 벡터"
      ],
      "id": "77fdfcbd-9764-4da8-b2bc-7c07d41c19ef"
    },
    {
      "cell_type": "code",
      "execution_count": 8,
      "metadata": {},
      "outputs": [],
      "source": [
        "net1 = torch.nn.Sequential(torch.nn.Linear(in_features=28, out_features=64),\n",
        "                           torch.nn.ReLU(),\n",
        "                           torch.nn.Linear(in_features=64, out_features=64), \n",
        "                           torch.nn.ReLU(),\n",
        "                           torch.nn.Linear(in_features=64, out_features=784),\n",
        "                           torch.nn.Sigmoid()) ## 마지막의 시그모이드는 출력이 0~1사이로 나오게 하기 위함 \n",
        "counterfeiter = net1 "
      ],
      "id": "a688a80c-8ba1-47a9-acb9-c0059120c699"
    },
    {
      "cell_type": "markdown",
      "metadata": {},
      "source": [
        "## 경찰의 설계: 진짜이미지는 1, 가짜이미지는 0으로 판별하는 DNN을 만들자.\n",
        "\n",
        "`-` 네트워크의 입력? (28,28)의 텐서, 혹은 784의 벡터\n",
        "\n",
        "`-` 네트워크의 출력? yhat (y는 0 or 1)"
      ],
      "id": "0001a6a8-f834-4256-b01a-01e469b349d7"
    },
    {
      "cell_type": "code",
      "execution_count": 9,
      "metadata": {},
      "outputs": [],
      "source": [
        "net2 = torch.nn.Sequential(torch.nn.Linear(in_features=784,out_features=64),\n",
        "                           torch.nn.ReLU(),\n",
        "                           torch.nn.Linear(in_features=64,out_features=28),\n",
        "                           torch.nn.ReLU(),\n",
        "                           torch.nn.Linear(in_features=28,out_features=1),\n",
        "                           torch.nn.Sigmoid()\n",
        "                           )\n",
        "police = net2 "
      ],
      "id": "b4d00de5-340e-4f75-bf4a-b6882beb2f7b"
    },
    {
      "cell_type": "markdown",
      "metadata": {},
      "source": [
        "## 스토리전개\n",
        "\n",
        "`-` 아래는 진짜이미지"
      ],
      "id": "59786886-3a56-4b25-b917-02f871b8cfc0"
    },
    {
      "cell_type": "code",
      "execution_count": 10,
      "metadata": {},
      "outputs": [
        {
          "output_type": "display_data",
          "metadata": {},
          "data": {
            "image/png": "[encoded data removed]"
          }
        }
      ],
      "source": [
        "realimage=X[0].reshape(28,28)\n",
        "plt.imshow(realimage)"
      ],
      "id": "46203bc6-e0ca-4b32-a267-cc2870df07be"
    },
    {
      "cell_type": "markdown",
      "metadata": {},
      "source": [
        "`-` 위와 같은 진짜 이미지를 경찰이 봤음 $\\to$ yhat이 나오겠죠?"
      ],
      "id": "c5acf179-11d1-4a61-ab05-71b82623dd4c"
    },
    {
      "cell_type": "code",
      "execution_count": 11,
      "metadata": {},
      "outputs": [
        {
          "output_type": "display_data",
          "metadata": {},
          "data": {
            "text/plain": [
              "tensor([0.5015], grad_fn=<SigmoidBackward0>)"
            ]
          }
        }
      ],
      "source": [
        "policehat_from_realimage = police(realimage.reshape(-1))\n",
        "policehat_from_realimage"
      ],
      "id": "fffcfa6c-5b70-459c-afb1-0b3867122df7"
    },
    {
      "cell_type": "markdown",
      "metadata": {},
      "source": [
        "-   진짜 이미지일수록 policehat_from_realimage $\\approx$ 1 이어야 함\n",
        "-   하지만 그렇지 못함 (배운것이 없는 무능한 경찰)\n",
        "\n",
        "`-` 이번에는 가짜이미지를 경찰이 봤다고 생각해보자.\n",
        "\n",
        "(step1) 랜덤으로 아무숫자나 28개를 생성한다."
      ],
      "id": "53aacc6e-02e5-4930-927a-16e0bfa6b029"
    },
    {
      "cell_type": "code",
      "execution_count": 12,
      "metadata": {},
      "outputs": [
        {
          "output_type": "display_data",
          "metadata": {},
          "data": {
            "text/plain": [
              "tensor([ 3.0166, -1.1472, -0.0645,  1.1425, -0.5632, -1.7625,  0.4353,  0.2066,\n",
              "        -0.4214,  0.2895, -1.7030, -0.8060,  0.4684,  0.5643, -0.2158,  0.9998,\n",
              "        -1.0958, -1.5119, -1.5331,  1.0283,  0.0254,  0.6410,  0.8624,  1.0544,\n",
              "        -0.6116,  0.5087, -0.0657, -0.7712])"
            ]
          }
        }
      ],
      "source": [
        "err= torch.randn(28)\n",
        "err"
      ],
      "id": "36c09aa5-506e-4edb-832b-a50e6a762b11"
    },
    {
      "cell_type": "markdown",
      "metadata": {},
      "source": [
        "(step2) 위조범은 err를 입력으로 받고 가짜이미지를 만든다."
      ],
      "id": "5de8948d-0497-4b83-8ae1-1e2a46fbf650"
    },
    {
      "cell_type": "code",
      "execution_count": 13,
      "metadata": {},
      "outputs": [
        {
          "output_type": "display_data",
          "metadata": {},
          "data": {
            "image/png": "[encoded data removed]"
          }
        }
      ],
      "source": [
        "couterfeiter_output = counterfeiter(err)\n",
        "fakeimage=couterfeiter_output.reshape(28,28)\n",
        "plt.imshow(fakeimage.detach())"
      ],
      "id": "bfe082ab-ad87-4e6f-9988-d13077b6b9e9"
    },
    {
      "cell_type": "markdown",
      "metadata": {},
      "source": [
        "-   누가봐도 가짜자료임\n",
        "-   위조범의 실력이 형편없음\n",
        "\n",
        "(step3) 위조범이 생성한 이미지를 경찰한테 넘긴다."
      ],
      "id": "32e1a7ab-f544-4829-9511-0df06852fa77"
    },
    {
      "cell_type": "code",
      "execution_count": 14,
      "metadata": {},
      "outputs": [
        {
          "output_type": "display_data",
          "metadata": {},
          "data": {
            "text/plain": [
              "tensor([0.5014], grad_fn=<SigmoidBackward0>)"
            ]
          }
        }
      ],
      "source": [
        "policehat_from_fakeimage = police(couterfeiter_output)\n",
        "#policehat_from_fakeimage = police(fakeimage.detach().reshape(-1))\n",
        "policehat_from_fakeimage"
      ],
      "id": "c92021fb-afcf-4a80-924f-5d614e3e88f4"
    },
    {
      "cell_type": "markdown",
      "metadata": {},
      "source": [
        "`-` 경찰의 실력도 형편없고 위조범의 실력도 형편없다.\n",
        "\n",
        "## 경찰네트워크의 실력을 향상시키자.\n",
        "\n",
        "`-` 데이터 정리 - 원래 $n=6131$개의 이미지 자료가 있음. 이를\n",
        "${\\bf X}$라고 하자. 따라서 ${\\bf X}$의 차원은 (6131,784). - 위조범이\n",
        "만든 가짜자료를 원래 자료와 같은 숫자인 6131개 만듬. 이 가짜자료를\n",
        "$\\tilde{\\bf X}$라고 하자. 따라서 $\\tilde{\\bf X}$의 차원은 (6131,784). -\n",
        "진짜자료는 1, 가짜자료는 0으로 라벨링."
      ],
      "id": "11b7189f-52db-47f5-978f-d4e729388a1e"
    },
    {
      "cell_type": "code",
      "execution_count": 15,
      "metadata": {},
      "outputs": [
        {
          "output_type": "display_data",
          "metadata": {},
          "data": {
            "text/plain": [
              "torch.Size([6131, 784])"
            ]
          }
        }
      ],
      "source": [
        "X.shape"
      ],
      "id": "4d5e82ad-1b06-4f5a-9aec-f942f53582f9"
    },
    {
      "cell_type": "code",
      "execution_count": 16,
      "metadata": {},
      "outputs": [],
      "source": [
        "err= torch.randn(6131,28)\n",
        "counterfeiter_output = counterfeiter(err) # counterfeiter_output를 Xtilde로 생각하면 된다. "
      ],
      "id": "0bee1e37-7a0b-4fac-914a-086c9c95ad6e"
    },
    {
      "cell_type": "code",
      "execution_count": 17,
      "metadata": {},
      "outputs": [],
      "source": [
        "real_label=torch.tensor([[1.0]]*6131) ## y=1 \n",
        "fake_label=torch.tensor([[0.0]]*6131) ## y=0"
      ],
      "id": "31eb6204-75ac-4646-b35b-db188216bc2c"
    },
    {
      "cell_type": "markdown",
      "metadata": {},
      "source": [
        "`-` step1: yhat, 경찰의 예측"
      ],
      "id": "9043c91e-26f0-4f29-b7ed-6ecb429337eb"
    },
    {
      "cell_type": "code",
      "execution_count": 18,
      "metadata": {},
      "outputs": [],
      "source": [
        "policehat_from_realimage = police(X) \n",
        "policehat_from_fakeimage = police(counterfeiter_output) "
      ],
      "id": "da1c9dc3-2b67-4540-8877-e26430fc0abd"
    },
    {
      "cell_type": "markdown",
      "metadata": {},
      "source": [
        "`-` step2: 손실함수? 경찰의 미덕은 (1) 가짜를 가짜라고 하고 (2) 진짜를\n",
        "진짜라 해야한다."
      ],
      "id": "c74d8dcf-9957-43a5-b651-375219e6dcc6"
    },
    {
      "cell_type": "code",
      "execution_count": 19,
      "metadata": {},
      "outputs": [],
      "source": [
        "loss_fn = torch.nn.BCELoss() "
      ],
      "id": "8370d2d4-859e-47ca-9c59-f9046b36e9b4"
    },
    {
      "cell_type": "code",
      "execution_count": 20,
      "metadata": {},
      "outputs": [
        {
          "output_type": "display_data",
          "metadata": {},
          "data": {
            "text/plain": [
              "tensor(1.3793, grad_fn=<AddBackward0>)"
            ]
          }
        }
      ],
      "source": [
        "loss_of_police =\\\n",
        "loss_fn(policehat_from_fakeimage,fake_label)+\\\n",
        "loss_fn(policehat_from_realimage,real_label)\n",
        "\n",
        "loss_of_police"
      ],
      "id": "2e3c5c6c-6288-4bcb-871a-7a8949459b87"
    },
    {
      "cell_type": "markdown",
      "metadata": {},
      "source": [
        "`-` step3~4는 미분이후 업데이트\n",
        "\n",
        "`-` 옵티마이저를 설계하자."
      ],
      "id": "378e9985-c32f-4e17-8fe8-c56939d38d97"
    },
    {
      "cell_type": "code",
      "execution_count": 21,
      "metadata": {},
      "outputs": [],
      "source": [
        "optimizer_of_police = torch.optim.Adam(police.parameters())"
      ],
      "id": "bdd2af99-56a3-41f3-a57c-c1e9d5c3ea68"
    },
    {
      "cell_type": "markdown",
      "metadata": {},
      "source": [
        "`-` for 문을 돌리자."
      ],
      "id": "06bebb23-2ce0-4c3f-8675-432af01d531d"
    },
    {
      "cell_type": "code",
      "execution_count": 22,
      "metadata": {},
      "outputs": [],
      "source": [
        "for i in range(50): \n",
        "    ## 1 yhat \n",
        "    policehat_from_realimage = police(X) \n",
        "    \n",
        "    #policehat_from_fakeimage = police(Xitlde)\n",
        "    err= torch.randn(6131,28)\n",
        "    counterfeiter_output = counterfeiter(err) # counterfeiter_output를 Xtilde로 생각하면 된다. \n",
        "    policehat_from_fakeimage= police(counterfeiter_output)\n",
        "    \n",
        "    ## 2 loss \n",
        "    loss_of_police =\\\n",
        "    loss_fn(policehat_from_fakeimage,fake_label)+\\\n",
        "    loss_fn(policehat_from_realimage,real_label)\n",
        "    \n",
        "    ## 3 back propagation \n",
        "    loss_of_police.backward()\n",
        "    \n",
        "    ## 4 update\n",
        "    optimizer_of_police.step()\n",
        "    optimizer_of_police.zero_grad()"
      ],
      "id": "9f4d884c-a639-46c3-8d59-29ac21506555"
    },
    {
      "cell_type": "markdown",
      "metadata": {},
      "source": [
        "`-` 훈련된 경찰의 성능을 살펴보자."
      ],
      "id": "52953e7d-d232-44b8-af1a-0c3404b0c954"
    },
    {
      "cell_type": "code",
      "execution_count": 23,
      "metadata": {},
      "outputs": [
        {
          "output_type": "display_data",
          "metadata": {},
          "data": {
            "text/plain": [
              "tensor([[0.0022],\n",
              "        [0.0022],\n",
              "        [0.0023],\n",
              "        ...,\n",
              "        [0.0022],\n",
              "        [0.0022],\n",
              "        [0.0022]], grad_fn=<SigmoidBackward0>)"
            ]
          }
        }
      ],
      "source": [
        "police(counterfeiter_output)"
      ],
      "id": "62c87946-ee8a-48bf-afa3-fbd9c37db51b"
    },
    {
      "cell_type": "code",
      "execution_count": 24,
      "metadata": {},
      "outputs": [
        {
          "output_type": "display_data",
          "metadata": {},
          "data": {
            "text/plain": [
              "tensor([[0.9996],\n",
              "        [0.9991],\n",
              "        [0.9994],\n",
              "        ...,\n",
              "        [0.9992],\n",
              "        [0.9902],\n",
              "        [0.9917]], grad_fn=<SigmoidBackward0>)"
            ]
          }
        }
      ],
      "source": [
        "police(X)"
      ],
      "id": "a2a73393-5c92-4768-805b-30a1d21bd4ad"
    },
    {
      "cell_type": "markdown",
      "metadata": {},
      "source": [
        "`-` 우수한 경찰 (비록 위조범의 수준이 낮긴하지만)\n",
        "\n",
        "## 위조범네트워크의 성능을 향상시키자.\n",
        "\n",
        "`-` 자료구조: X는 임의의 에러이미지, net(X)는 fakeimage"
      ],
      "id": "91786a51-ec67-414c-892c-b7fbc1b57d8c"
    },
    {
      "cell_type": "code",
      "execution_count": 25,
      "metadata": {},
      "outputs": [],
      "source": [
        "err=torch.randn(6131,28) \n",
        "counterfeiter_output= counterfeiter(err) "
      ],
      "id": "4254527f-782b-41ce-b461-2d7c029d76ce"
    },
    {
      "cell_type": "markdown",
      "metadata": {},
      "source": [
        "`-` 손실함수: 잘 훈련된 경찰조차도 잘못된 판단을 내릴만큼 가짜지폐를 잘\n",
        "만들면 위조범의 실력이 우수하다 볼 수 있음"
      ],
      "id": "7e34a09c-a74c-4e36-abd6-89580e92252d"
    },
    {
      "cell_type": "code",
      "execution_count": 26,
      "metadata": {},
      "outputs": [],
      "source": [
        "policehat_from_fakeimage = police(counterfeiter_output) \n",
        "loss_of_counterfeiter = loss_fn(policehat_from_fakeimage,real_label) ## 가짜이미지를 보고 경찰이 진짜라고 믿으면 위조범의 실력이 좋은것임  "
      ],
      "id": "bc52f1bc-ac5f-4fce-8454-4bc274844ae8"
    },
    {
      "cell_type": "markdown",
      "metadata": {},
      "source": [
        "`-` 옵티마이저"
      ],
      "id": "1da45b7a-a79f-4c95-942f-31a9f83983eb"
    },
    {
      "cell_type": "code",
      "execution_count": 27,
      "metadata": {},
      "outputs": [],
      "source": [
        "optimizer_of_counterfeiter = torch.optim.Adam(counterfeiter.parameters())"
      ],
      "id": "e0cbf096-8e58-473a-80a7-69478efe01a4"
    },
    {
      "cell_type": "markdown",
      "metadata": {},
      "source": [
        "`-` 학습"
      ],
      "id": "5128de8a-6ac2-460f-925f-ce710ceac338"
    },
    {
      "cell_type": "code",
      "execution_count": 28,
      "metadata": {},
      "outputs": [],
      "source": [
        "for i in range(50): \n",
        "    ## 1 \n",
        "    err=torch.randn(6131,28) \n",
        "    counterfeiter_output= counterfeiter(err)  \n",
        "    policehat_from_fakeimage = police(counterfeiter_output) \n",
        "    ## 2 \n",
        "    loss_of_counterfeiter = loss_fn(policehat_from_fakeimage,real_label)\n",
        "    ## 3 \n",
        "    loss_of_counterfeiter.backward()\n",
        "    ## 4 \n",
        "    optimizer_of_counterfeiter.step()\n",
        "    optimizer_of_counterfeiter.zero_grad()"
      ],
      "id": "86ca0feb-f3b9-43b4-8a82-52d282542108"
    },
    {
      "cell_type": "markdown",
      "metadata": {},
      "source": [
        "`-` 위조범의 실력향상을 감상해보자."
      ],
      "id": "18e36f03-9732-491e-9049-d86b58e8d957"
    },
    {
      "cell_type": "code",
      "execution_count": 29,
      "metadata": {},
      "outputs": [
        {
          "output_type": "display_data",
          "metadata": {},
          "data": {
            "image/png": "[encoded data removed]"
          }
        }
      ],
      "source": [
        "plt.imshow(counterfeiter_output[0].reshape(28,28).data)"
      ],
      "id": "616c7466-99b3-4ca8-9b05-7532559a83d8"
    },
    {
      "cell_type": "markdown",
      "metadata": {},
      "source": [
        "## 두 적대적 네트워크를 경쟁시키자."
      ],
      "id": "6329c4ee-5a0d-47d0-9fd8-af2f798770b1"
    },
    {
      "cell_type": "code",
      "execution_count": 30,
      "metadata": {},
      "outputs": [],
      "source": [
        "for k in range(100): \n",
        "    for i in range(50): \n",
        "        ## 1 yhat \n",
        "        policehat_from_realimage = police(X) \n",
        "    \n",
        "        #policehat_from_fakeimage = police(Xitlde)\n",
        "        err= torch.randn(6131,28)\n",
        "        counterfeiter_output = counterfeiter(err) # counterfeiter_output를 Xtilde로 생각하면 된다. \n",
        "        policehat_from_fakeimage= police(counterfeiter_output)\n",
        "    \n",
        "        ## 2 loss \n",
        "        loss_of_police =\\\n",
        "        loss_fn(policehat_from_fakeimage,fake_label)+\\\n",
        "        loss_fn(policehat_from_realimage,real_label)\n",
        "    \n",
        "        ## 3 back propagation \n",
        "        loss_of_police.backward()\n",
        "    \n",
        "        ## 4 update\n",
        "        optimizer_of_police.step()\n",
        "        optimizer_of_police.zero_grad()\n",
        "        \n",
        "    for i in range(50): \n",
        "        ## 1 \n",
        "        err=torch.randn(6131,28) \n",
        "        counterfeiter_output= counterfeiter(err)  \n",
        "        policehat_from_fakeimage = police(counterfeiter_output) \n",
        "        ## 2 \n",
        "        loss_of_counterfeiter = loss_fn(policehat_from_fakeimage,real_label)\n",
        "        ## 3 \n",
        "        loss_of_counterfeiter.backward()\n",
        "        ## 4 \n",
        "        optimizer_of_counterfeiter.step()\n",
        "        optimizer_of_counterfeiter.zero_grad()        "
      ],
      "id": "d50e49a4-71ae-4963-aa5d-af8e8750524a"
    },
    {
      "cell_type": "markdown",
      "metadata": {},
      "source": [
        "`-` 위조범의 최종적 실력향상감상"
      ],
      "id": "f4779d74-179b-4f96-a709-74d4b2bc0044"
    },
    {
      "cell_type": "code",
      "execution_count": 31,
      "metadata": {},
      "outputs": [
        {
          "output_type": "display_data",
          "metadata": {},
          "data": {
            "image/png": "[encoded data removed]"
          }
        }
      ],
      "source": [
        "plt.imshow(counterfeiter_output[0].reshape(28,28).data)"
      ],
      "id": "10cc9d22-ad10-4985-aa17-560a0c80e9d8"
    }
  ],
  "nbformat": 4,
  "nbformat_minor": 5,
  "metadata": {
    "kernelspec": {
      "name": "python3",
      "display_name": "Python 3",
      "language": "python"
    },
    "language_info": {
      "name": "python",
      "codemirror_mode": {
        "name": "ipython",
        "version": "3"
      },
      "file_extension": ".py",
      "mimetype": "text/x-python",
      "nbconvert_exporter": "python",
      "pygments_lexer": "ipython3",
      "version": "3.7.13"
    }
  }
}