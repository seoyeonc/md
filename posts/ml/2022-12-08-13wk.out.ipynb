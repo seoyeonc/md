{
  "cells": [
    {
      "cell_type": "markdown",
      "metadata": {},
      "source": [
        "# RNN (13주차)\n",
        "\n",
        "SEOYEON CHOI  \n",
        "2022-12-08\n",
        "\n",
        "> IMDB자료의 분석 (텍스트생성과 감성분류), 잡담\n",
        "\n",
        "# import"
      ],
      "id": "85b15894-ad75-4141-b13e-7af92c375493"
    },
    {
      "cell_type": "code",
      "execution_count": 5,
      "metadata": {},
      "outputs": [],
      "source": [
        "import torch\n",
        "from fastai.text.all import *"
      ],
      "id": "9cfc0edd-4a3a-49a3-b601-67691cd8920a"
    },
    {
      "cell_type": "markdown",
      "metadata": {},
      "source": [
        "# IMDB 자료 $\\to$ 텍스트 생성\n",
        "\n",
        "`(1)` dls 생성"
      ],
      "id": "bd0cfb38-c96b-4231-a58f-6915554c78b9"
    },
    {
      "cell_type": "code",
      "execution_count": 6,
      "metadata": {},
      "outputs": [],
      "source": [
        "path = untar_data(URLs.IMDB)"
      ],
      "id": "91a1f3fc-8d53-4163-8d91-d420a3bbf777"
    },
    {
      "cell_type": "code",
      "execution_count": 28,
      "metadata": {},
      "outputs": [
        {
          "output_type": "display_data",
          "metadata": {},
          "data": {
            "text/plain": [
              "(#100002) [Path('/home/cgb4/.fastai/data/imdb/unsup/8002_0.txt'),Path('/home/cgb4/.fastai/data/imdb/unsup/18305_0.txt'),Path('/home/cgb4/.fastai/data/imdb/unsup/1440_0.txt'),Path('/home/cgb4/.fastai/data/imdb/unsup/43259_0.txt'),Path('/home/cgb4/.fastai/data/imdb/unsup/391_0.txt'),Path('/home/cgb4/.fastai/data/imdb/unsup/14091_0.txt'),Path('/home/cgb4/.fastai/data/imdb/unsup/49382_0.txt'),Path('/home/cgb4/.fastai/data/imdb/unsup/33008_0.txt'),Path('/home/cgb4/.fastai/data/imdb/unsup/24903_0.txt'),Path('/home/cgb4/.fastai/data/imdb/unsup/43058_0.txt')...]"
            ]
          }
        }
      ],
      "source": [
        "files = get_text_files(path) \n",
        "files"
      ],
      "id": "dd6c689f-f6ac-4afe-a43e-106d74288794"
    },
    {
      "cell_type": "code",
      "execution_count": 29,
      "metadata": {},
      "outputs": [],
      "source": [
        "dls = DataBlock(\n",
        "    blocks=TextBlock.from_folder(path,is_lm=True), \n",
        "    get_items=get_text_files, splitter=RandomSplitter(0.1)\n",
        ").dataloaders(path,seq_len=128) "
      ],
      "id": "addb1e26-9672-4b3d-b0d2-37bd054504f1"
    },
    {
      "cell_type": "code",
      "execution_count": 31,
      "metadata": {},
      "outputs": [
        {
          "output_type": "display_data",
          "metadata": {},
          "data": {}
        }
      ],
      "source": [
        "dls.show_batch()"
      ],
      "id": "9a139794-1556-4c78-a01b-9406a7561c79"
    },
    {
      "cell_type": "markdown",
      "metadata": {},
      "source": [
        "`(2)` lrnr 오브젝트 생성"
      ],
      "id": "83120b34-8d5b-48fc-a6cc-6bf5017b883b"
    },
    {
      "cell_type": "code",
      "execution_count": 33,
      "metadata": {},
      "outputs": [],
      "source": [
        "lrnr = language_model_learner(dls,AWD_LSTM,metrics=[accuracy,Perplexity()]).to_fp16()"
      ],
      "id": "34256a50-af7b-4157-a16a-3b855ef49f20"
    },
    {
      "cell_type": "markdown",
      "metadata": {},
      "source": [
        "-   `.to_fp16()`은 `torch.float16`으로 숫자들을 저장하겠다는 의미 (GPU의\n",
        "    메모리를 아낄 수 있음)\n",
        "\n",
        "Perplexity 헷갈리는 정도\n",
        "\n",
        "`(3)` 학습"
      ],
      "id": "88ea3fb5-93d3-4d20-a940-48fa2f5173fe"
    },
    {
      "cell_type": "code",
      "execution_count": 34,
      "metadata": {},
      "outputs": [
        {
          "output_type": "display_data",
          "metadata": {},
          "data": {
            "text/html": [
              "\n",
              "<style>\n",
              "    /* Turns off some styling */\n",
              "    progress {\n",
              "        /* gets rid of default border in Firefox and Opera. */\n",
              "        border: none;\n",
              "        /* Needs to be in here for Safari polyfill so background images work as expected. */\n",
              "        background-size: auto;\n",
              "    }\n",
              "    progress:not([value]), progress:not([value])::-webkit-progress-bar {\n",
              "        background: repeating-linear-gradient(45deg, #7e7e7e, #7e7e7e 10px, #5c5c5c 10px, #5c5c5c 20px);\n",
              "    }\n",
              "    .progress-bar-interrupted, .progress-bar-interrupted::-webkit-progress-bar {\n",
              "        background: #F44336;\n",
              "    }\n",
              "</style>"
            ]
          }
        },
        {
          "output_type": "display_data",
          "metadata": {},
          "data": {}
        },
        {
          "output_type": "display_data",
          "metadata": {},
          "data": {
            "text/html": [
              "\n",
              "<style>\n",
              "    /* Turns off some styling */\n",
              "    progress {\n",
              "        /* gets rid of default border in Firefox and Opera. */\n",
              "        border: none;\n",
              "        /* Needs to be in here for Safari polyfill so background images work as expected. */\n",
              "        background-size: auto;\n",
              "    }\n",
              "    progress:not([value]), progress:not([value])::-webkit-progress-bar {\n",
              "        background: repeating-linear-gradient(45deg, #7e7e7e, #7e7e7e 10px, #5c5c5c 10px, #5c5c5c 20px);\n",
              "    }\n",
              "    .progress-bar-interrupted, .progress-bar-interrupted::-webkit-progress-bar {\n",
              "        background: #F44336;\n",
              "    }\n",
              "</style>"
            ]
          }
        },
        {
          "output_type": "display_data",
          "metadata": {},
          "data": {}
        }
      ],
      "source": [
        "lrnr.fine_tune(3) "
      ],
      "id": "34197959-a189-4b6d-88d7-b9f7032483c4"
    },
    {
      "cell_type": "markdown",
      "metadata": {},
      "source": [
        "-   perplexity: 낮을수록 좋음.\n",
        "\n",
        "`(4)` 예측"
      ],
      "id": "6dbcc9f6-3091-40ef-b815-09401e3fca0a"
    },
    {
      "cell_type": "code",
      "execution_count": 36,
      "metadata": {},
      "outputs": [
        {
          "output_type": "display_data",
          "metadata": {},
          "data": {
            "text/html": [
              "\n",
              "<style>\n",
              "    /* Turns off some styling */\n",
              "    progress {\n",
              "        /* gets rid of default border in Firefox and Opera. */\n",
              "        border: none;\n",
              "        /* Needs to be in here for Safari polyfill so background images work as expected. */\n",
              "        background-size: auto;\n",
              "    }\n",
              "    progress:not([value]), progress:not([value])::-webkit-progress-bar {\n",
              "        background: repeating-linear-gradient(45deg, #7e7e7e, #7e7e7e 10px, #5c5c5c 10px, #5c5c5c 20px);\n",
              "    }\n",
              "    .progress-bar-interrupted, .progress-bar-interrupted::-webkit-progress-bar {\n",
              "        background: #F44336;\n",
              "    }\n",
              "</style>"
            ]
          }
        },
        {
          "output_type": "display_data",
          "metadata": {},
          "data": {
            "text/html": []
          }
        },
        {
          "output_type": "display_data",
          "metadata": {},
          "data": {
            "text/plain": [
              "\"i liked this movie . Where i stopped in the early 80 's end with repairs and technology and it could have been edited much younger than i had ever seen , the whole story from National Geographic was the inspiration\""
            ]
          }
        }
      ],
      "source": [
        "lrnr.predict('I liked this movie',40) "
      ],
      "id": "283801f3-d12a-49f5-ad67-5a64bd60237e"
    },
    {
      "cell_type": "code",
      "execution_count": 40,
      "metadata": {},
      "outputs": [
        {
          "output_type": "display_data",
          "metadata": {},
          "data": {
            "text/html": [
              "\n",
              "<style>\n",
              "    /* Turns off some styling */\n",
              "    progress {\n",
              "        /* gets rid of default border in Firefox and Opera. */\n",
              "        border: none;\n",
              "        /* Needs to be in here for Safari polyfill so background images work as expected. */\n",
              "        background-size: auto;\n",
              "    }\n",
              "    progress:not([value]), progress:not([value])::-webkit-progress-bar {\n",
              "        background: repeating-linear-gradient(45deg, #7e7e7e, #7e7e7e 10px, #5c5c5c 10px, #5c5c5c 20px);\n",
              "    }\n",
              "    .progress-bar-interrupted, .progress-bar-interrupted::-webkit-progress-bar {\n",
              "        background: #F44336;\n",
              "    }\n",
              "</style>"
            ]
          }
        },
        {
          "output_type": "display_data",
          "metadata": {},
          "data": {
            "text/html": []
          }
        },
        {
          "output_type": "display_data",
          "metadata": {},
          "data": {
            "text/plain": [
              "\"i hate this movie . i consider it a great movie , but when i saw it , I 'd like to say i got just watching it and wasted my time watching this movie . There was no people laughing at\""
            ]
          }
        }
      ],
      "source": [
        "lrnr.predict('I hate this movie',40) "
      ],
      "id": "f473a5a8-b65c-4553-ba4b-9d3f8aebbbf8"
    },
    {
      "cell_type": "markdown",
      "metadata": {},
      "source": [
        "좋아하는 영화와 싫어하는 영화의 평이 다름.\n",
        "\n",
        "# IMDB 자료 $\\to$ 분류\n",
        "\n",
        "`(1)` dls 생성"
      ],
      "id": "a90211c5-eca0-467c-8a5e-bdbb7b60a551"
    },
    {
      "cell_type": "code",
      "execution_count": 19,
      "metadata": {},
      "outputs": [
        {
          "output_type": "display_data",
          "metadata": {},
          "data": {
            "text/plain": [
              "Path('/home/cgb4/.fastai/data/imdb')"
            ]
          }
        }
      ],
      "source": [
        "path = untar_data(URLs.IMDB)\n",
        "path"
      ],
      "id": "f90cbe36-3155-4868-b505-a83e9f78b10b"
    },
    {
      "cell_type": "code",
      "execution_count": 20,
      "metadata": {},
      "outputs": [
        {
          "output_type": "stream",
          "name": "stdout",
          "text": [
            "README  imdb.vocab  test  tmp_clas  tmp_lm  train  unsup"
          ]
        }
      ],
      "source": [
        "!ls '/home/cgb4/.fastai/data/imdb'"
      ],
      "id": "12bf44ba-040f-44e2-96a8-d71e29998230"
    },
    {
      "cell_type": "code",
      "execution_count": 18,
      "metadata": {},
      "outputs": [
        {
          "output_type": "display_data",
          "metadata": {},
          "data": {}
        }
      ],
      "source": [
        "dls = TextDataLoaders.from_folder(path, valid='test')\n",
        "dls.show_batch()"
      ],
      "id": "34252ee8-588a-4ec7-bf3f-537f43deb6eb"
    },
    {
      "cell_type": "markdown",
      "metadata": {},
      "source": [
        "-   X는 text, y는 긍정/부정\n",
        "\n",
        "`(2)` lrnr 오브젝트 생성"
      ],
      "id": "f0511f84-cfee-4d17-89cf-c58f899d203c"
    },
    {
      "cell_type": "code",
      "execution_count": 21,
      "metadata": {},
      "outputs": [],
      "source": [
        "lrnr = text_classifier_learner(dls,AWD_LSTM,metrics=accuracy).to_fp16()"
      ],
      "id": "e679b8f1-406d-44b4-8329-2087bbf482e4"
    },
    {
      "cell_type": "markdown",
      "metadata": {},
      "source": [
        "`(3)` 학습"
      ],
      "id": "580c308c-54b2-45d1-aa3a-a910a7581554"
    },
    {
      "cell_type": "code",
      "execution_count": 22,
      "metadata": {},
      "outputs": [
        {
          "output_type": "display_data",
          "metadata": {},
          "data": {
            "text/html": [
              "\n",
              "<style>\n",
              "    /* Turns off some styling */\n",
              "    progress {\n",
              "        /* gets rid of default border in Firefox and Opera. */\n",
              "        border: none;\n",
              "        /* Needs to be in here for Safari polyfill so background images work as expected. */\n",
              "        background-size: auto;\n",
              "    }\n",
              "    progress:not([value]), progress:not([value])::-webkit-progress-bar {\n",
              "        background: repeating-linear-gradient(45deg, #7e7e7e, #7e7e7e 10px, #5c5c5c 10px, #5c5c5c 20px);\n",
              "    }\n",
              "    .progress-bar-interrupted, .progress-bar-interrupted::-webkit-progress-bar {\n",
              "        background: #F44336;\n",
              "    }\n",
              "</style>"
            ]
          }
        },
        {
          "output_type": "display_data",
          "metadata": {},
          "data": {}
        },
        {
          "output_type": "display_data",
          "metadata": {},
          "data": {
            "text/html": [
              "\n",
              "<style>\n",
              "    /* Turns off some styling */\n",
              "    progress {\n",
              "        /* gets rid of default border in Firefox and Opera. */\n",
              "        border: none;\n",
              "        /* Needs to be in here for Safari polyfill so background images work as expected. */\n",
              "        background-size: auto;\n",
              "    }\n",
              "    progress:not([value]), progress:not([value])::-webkit-progress-bar {\n",
              "        background: repeating-linear-gradient(45deg, #7e7e7e, #7e7e7e 10px, #5c5c5c 10px, #5c5c5c 20px);\n",
              "    }\n",
              "    .progress-bar-interrupted, .progress-bar-interrupted::-webkit-progress-bar {\n",
              "        background: #F44336;\n",
              "    }\n",
              "</style>"
            ]
          }
        },
        {
          "output_type": "display_data",
          "metadata": {},
          "data": {}
        }
      ],
      "source": [
        "lrnr.fine_tune(1)"
      ],
      "id": "7075a4c2-6288-4f25-88f0-53306560cd3d"
    },
    {
      "cell_type": "markdown",
      "metadata": {},
      "source": [
        "`(4)` 예측"
      ],
      "id": "07dbbcd9-3c60-4d77-8131-40841c11e8e9"
    },
    {
      "cell_type": "code",
      "execution_count": 23,
      "metadata": {},
      "outputs": [
        {
          "output_type": "display_data",
          "metadata": {},
          "data": {
            "text/html": [
              "\n",
              "<style>\n",
              "    /* Turns off some styling */\n",
              "    progress {\n",
              "        /* gets rid of default border in Firefox and Opera. */\n",
              "        border: none;\n",
              "        /* Needs to be in here for Safari polyfill so background images work as expected. */\n",
              "        background-size: auto;\n",
              "    }\n",
              "    progress:not([value]), progress:not([value])::-webkit-progress-bar {\n",
              "        background: repeating-linear-gradient(45deg, #7e7e7e, #7e7e7e 10px, #5c5c5c 10px, #5c5c5c 20px);\n",
              "    }\n",
              "    .progress-bar-interrupted, .progress-bar-interrupted::-webkit-progress-bar {\n",
              "        background: #F44336;\n",
              "    }\n",
              "</style>"
            ]
          }
        },
        {
          "output_type": "display_data",
          "metadata": {},
          "data": {
            "text/html": []
          }
        },
        {
          "output_type": "display_data",
          "metadata": {},
          "data": {
            "text/plain": [
              "('neg', tensor(0), tensor([0.8853, 0.1147]))"
            ]
          }
        }
      ],
      "source": [
        "lrnr.predict(\"this film shows incredibly bad writing and is a complete disaster\") "
      ],
      "id": "9341302b-0bf7-4fc3-b9ee-1032ea81a5f5"
    },
    {
      "cell_type": "code",
      "execution_count": 24,
      "metadata": {},
      "outputs": [
        {
          "output_type": "display_data",
          "metadata": {},
          "data": {
            "text/html": [
              "\n",
              "<style>\n",
              "    /* Turns off some styling */\n",
              "    progress {\n",
              "        /* gets rid of default border in Firefox and Opera. */\n",
              "        border: none;\n",
              "        /* Needs to be in here for Safari polyfill so background images work as expected. */\n",
              "        background-size: auto;\n",
              "    }\n",
              "    progress:not([value]), progress:not([value])::-webkit-progress-bar {\n",
              "        background: repeating-linear-gradient(45deg, #7e7e7e, #7e7e7e 10px, #5c5c5c 10px, #5c5c5c 20px);\n",
              "    }\n",
              "    .progress-bar-interrupted, .progress-bar-interrupted::-webkit-progress-bar {\n",
              "        background: #F44336;\n",
              "    }\n",
              "</style>"
            ]
          }
        },
        {
          "output_type": "display_data",
          "metadata": {},
          "data": {
            "text/html": []
          }
        },
        {
          "output_type": "display_data",
          "metadata": {},
          "data": {
            "text/plain": [
              "('pos', tensor(1), tensor([7.1979e-05, 9.9993e-01]))"
            ]
          }
        }
      ],
      "source": [
        "lrnr.predict(\"this film shows incredible talent and is a complete triumph\") "
      ],
      "id": "6149d13d-f781-427a-a99a-347af5ee1aef"
    },
    {
      "cell_type": "markdown",
      "metadata": {},
      "source": [
        "# 마무리하며\n",
        "\n",
        "## 잡담1: 순환신경망, 텍스트마이닝, 시계열분석\n",
        "\n",
        "`-` 순환신경망은 순서가 있는 (말이 좀 애매하지만 아무튼 이렇게 많이\n",
        "표현해요) 자료를 분석할때 사용할 수 있다. 순서가 있는 자료는 대표적으로\n",
        "시계열자료과 텍스트자료가 있다.\n",
        "\n",
        "`-` 그래서 언뜻 생각하면 텍스트마이닝이나 시계열분석과 내용이 비슷할 것\n",
        "같지만 사실 그렇지 않다.\n",
        "\n",
        "-   텍스트마이닝의 토픽: 단어를 어떻게 숫자로 잘 만들지, 토픽모델 //\n",
        "    자잘하고 실용적인 느낌? 공학적임..  \n",
        "-   시계열분석의 토픽: 예측(forecasting)과 신뢰구간, 변화점과 관련한\n",
        "    연구 (detection/test), 정상/비정상시계열모형 (ARIMA, GARCH),\n",
        "    Cointegration Test, // 느낌이 좀 거창해.. 경제와 관련 많음.\n",
        "-   순환신경망의 토픽(재작년까지): 텍스트생성, 텍스트분류 + 시계열\n",
        "    자료의 예측, 단어의 숫자화 … 텍스트마이닝과 시계열분석의 거의 모든\n",
        "    토픽에 관여함\n",
        "-   순환신경망의 토픽(작년부터?): 딥러닝의 거의 모든 영역에 관여하기\n",
        "    시작함 (심지어 요즘 이미지 분석도 순환망으로 합니다)\n",
        "\n",
        "> <https://youtu.be/thsXGOkcGGg>\n",
        "\n",
        "## 잡담2: 순환신경망의 아키텍처를 얼마나 깊이 이해해야 할까?\n",
        "\n",
        "`-` 과거기준(텍스트생성, 텍스트분류, 시계열자료예측 등에만 순환망이\n",
        "이용되었을 때): 학부수준에서 순수 RNN만 알아도 충분했던 것 같음.\n",
        "LSTM이나 GRU는 석사수준?\n",
        "\n",
        "`-` 현재기준: 석사기준 LSTM 같은건 기본이고 어텐션, 트랜스포머등에 대한\n",
        "개념도 잘 알고 있어야 함. (학부는 잘 모르겠네..)\n",
        "\n",
        "`-` 내 생각: 결국 아키텍처는 근데 유행이라 아키텍처는 한번 따라하면서\n",
        "이해해보고 핵심 아이디어만 이해하면 된다고 생각함. 즉 LSTM 같은\n",
        "특정모형의 아키텍처를 달달 외울필요는 없다, 수식써있는거 보고 이해하면\n",
        "그만임. (수식정도를 이해할 능력은 필요한게.. 코드를 짤때 옵션을 이해할\n",
        "수는 있어야하니까)\n",
        "\n",
        "`-` 망상: 나중에는 순환신경망이 거의 모든 딥러닝 방법의 base가 되지\n",
        "않을까?\n",
        "\n",
        "## 잡담3: fastai, pytorch lightning\n",
        "\n",
        "`-` 비 컴퓨터공학 출신이 쓰기에는 fastai가 좀 더 쓰기 편한건 사실\n",
        "\n",
        "`-` pytorch lightning은 fastai보다 쓰기 어렵지만 (진짜 약간의 클래스관련\n",
        "지식이 필요함, 솔직히 별로 어렵진 않아요) 좀 더 순수 파이토치에 가깝고\n",
        "따라서 코드를 뜯어보기 편리하다.\n",
        "\n",
        "`-` 과거의 생각\n",
        "\n",
        "-   전문가: pytorch + fastai // pytorch + pytorch lightning (컴공출신)\n",
        "-   비 전문가: 순수 fastai\n",
        "\n",
        "`-` 요즘 생각\n",
        "\n",
        "-   모두: pytorch + pytorch lightning\n",
        "-   특정한경우: 순수 fastai \\<– 모형이 구현되어 있다면 fastai가 좋긴\n",
        "    좋아.. 그런데 모형의 구현속도가 못따라감\n",
        "\n",
        "## 잡담4: 우린 뭘 해야 할까 (학석사 레벨에서..)\n",
        "\n",
        "`-` 능력1: 코드이해력 (= 구현능력 = 코드 베끼는 능력)\n",
        "\n",
        "-   이미지분석? 해봤음. 텍스트자료? 해봤음. 시계열? 해봤음. 등등등등? 다\n",
        "    해본적 있음. 어떤 원리인지 정확하게 몰라도 다 해본적 있고 그래서\n",
        "    일할 수 있음!!\n",
        "-   돌아가는 코드 최대한 많이 모아놓으세요. torch, fastai, pytorch\n",
        "    lightning, tensorflow, keras 등등\n",
        "\n",
        "`-` 능력2: 최신트렌드를 파악할 수 있는 힘 (= 논문이해력)\n",
        "\n",
        "-   공부, 공부, 공부… A to Z 까지 수식 다 뜯어보고 코드 다 뜯어보면서\n",
        "    집요하게 공부해야함. (LSTM에서 했던것 처럼!) 물론 차근차근 알려주면\n",
        "    수업이 있다면 좋겠지 그런데 보통은 적당히 두리뭉실하게 설명하지\n",
        "    detail 하게 설명하는 수업은 잘 없음. (지루하거든요)\n",
        "-   수식이나 코드중 하나라도 볼 줄 모르면 능력2를 얻는것 자체가 불가능."
      ],
      "id": "07a40c86-11ca-4aca-a6d7-1db4e5272111"
    }
  ],
  "nbformat": 4,
  "nbformat_minor": 5,
  "metadata": {
    "kernelspec": {
      "name": "python3",
      "display_name": "Python 3",
      "language": "python"
    },
    "language_info": {
      "name": "python",
      "codemirror_mode": {
        "name": "ipython",
        "version": "3"
      },
      "file_extension": ".py",
      "mimetype": "text/x-python",
      "nbconvert_exporter": "python",
      "pygments_lexer": "ipython3",
      "version": "3.7.13"
    }
  }
}