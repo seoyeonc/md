{
  "cells": [
    {
      "cell_type": "markdown",
      "metadata": {},
      "source": [
        "# Deep Learning final example\n",
        "\n",
        "SEOYEON CHOI  \n",
        "2022-11-29\n",
        "\n",
        "> 기말고사"
      ],
      "id": "3985e656-8820-4141-88a7-c7fb61e3b559"
    },
    {
      "cell_type": "code",
      "execution_count": 52,
      "metadata": {},
      "outputs": [],
      "source": [
        "import torch \n",
        "import matplotlib.pyplot as plt"
      ],
      "id": "8896a7ce-2d1c-4798-8d16-6a4c5a4882b9"
    },
    {
      "cell_type": "markdown",
      "metadata": {},
      "source": [
        "## `1`. hi?hello!! (90점)\n",
        "\n",
        "아래와 같은 데이터가 있다고 하자."
      ],
      "id": "026b2423-6e7d-423f-92c3-2354dbb7aedb"
    },
    {
      "cell_type": "code",
      "execution_count": 53,
      "metadata": {},
      "outputs": [],
      "source": [
        "txt = list('hi?hello!!')*100 \n",
        "txt_x = txt[:-1]\n",
        "txt_y = txt[1:]"
      ],
      "id": "beefd4c6-44c1-475d-9011-3b42897ae220"
    },
    {
      "cell_type": "code",
      "execution_count": 54,
      "metadata": {},
      "outputs": [
        {
          "output_type": "display_data",
          "metadata": {},
          "data": {
            "text/plain": [
              "(['h', 'i', '?', 'h', 'e'], ['i', '?', 'h', 'e', 'l'])"
            ]
          }
        }
      ],
      "source": [
        "txt_x[:5], txt_y[:5]"
      ],
      "id": "4ebe6ce7-b51f-4061-8737-e6d38e5cbc37"
    },
    {
      "cell_type": "markdown",
      "metadata": {},
      "source": [
        "`txt_x`와 `txt_y`를 이용하여 아래와 같은 순서로 다음문자를 예측하고 싶은\n",
        "신경망을 설계하고 싶다.\n",
        "\n",
        "`h` $\\to$ `i` $\\to$ `?` $\\to$ `h` $\\to$ `e` $\\to$ `l` $\\to$ `l` $\\to$\n",
        "`o` $\\to$ `!` $\\to$ `!` $\\to$ `h` $\\to$ `i` $\\to$ `?` $\\to$ `h` $\\to$\n",
        "`e` $\\to$ $\\dots$\n",
        "\n",
        "***(1)-(6)*** 의 풀이에 공통적으로 필요한 과정 정리"
      ],
      "id": "3b39ead3-2b48-43b9-a04c-3291c2b69227"
    },
    {
      "cell_type": "code",
      "execution_count": 55,
      "metadata": {},
      "outputs": [],
      "source": [
        "def f(txt,mapping):\n",
        "    return [mapping[key] for key in txt] \n",
        "sig = torch.nn.Sigmoid()\n",
        "soft = torch.nn.Softmax(dim=1)\n",
        "tanh = torch.nn.Tanh()\n",
        "mapping = {'!':0, '?':1,'h':2,'i':3,'e':4,'l':5,'o':6} \n",
        "x= torch.nn.functional.one_hot(torch.tensor(f(txt_x,mapping))).float().to(\"cuda:0\")\n",
        "y= torch.nn.functional.one_hot(torch.tensor(f(txt_y,mapping))).float().to(\"cuda:0\")"
      ],
      "id": "fc2bc385-c323-49a8-833a-ec2abaaeb56a"
    },
    {
      "cell_type": "markdown",
      "metadata": {},
      "source": [
        "`(1)` `torch.nn.RNN()`을 이용하여 다음문자를 예측하는 신경망을 설계하고\n",
        "학습하라.\n",
        "\n",
        "(풀이)"
      ],
      "id": "6a5ba461-81c1-4bb2-91ed-06bb63eb9f9e"
    },
    {
      "cell_type": "code",
      "execution_count": 56,
      "metadata": {},
      "outputs": [
        {
          "output_type": "display_data",
          "metadata": {},
          "data": {
            "image/png": "[encoded data removed]"
          }
        }
      ],
      "source": [
        "rnn = torch.nn.RNN(7,8).to(\"cuda:0\")\n",
        "linr = torch.nn.Linear(8,7).to(\"cuda:0\")\n",
        "loss_fn = torch.nn.CrossEntropyLoss()\n",
        "optimizr = torch.optim.Adam(list(rnn.parameters())+list(linr.parameters()),lr=0.1)\n",
        "_water = torch.zeros(1,8).to(\"cuda:0\")\n",
        "for epoc in range(500):\n",
        "    ## 1\n",
        "    hidden, hT = rnn(x)\n",
        "    output = linr(hidden)\n",
        "    ## 2\n",
        "    loss = loss_fn(output,y)\n",
        "    ## 3\n",
        "    loss.backward()\n",
        "    ## 4 \n",
        "    optimizr.step()\n",
        "    optimizr.zero_grad()\n",
        "yhat=soft(output)    \n",
        "plt.matshow(yhat.to(\"cpu\").data[:10],cmap='bwr',vmin=-1,vmax=1)\n",
        "plt.xticks(range(7),labels=['!','?','h','i','e','l','o']);"
      ],
      "id": "6faa79b2-7c25-4244-9dd5-15b7bf71547c"
    },
    {
      "cell_type": "markdown",
      "metadata": {},
      "source": [
        "`(2)` `torch.nn.RNNCell()`을 이용하여 다음문자를 예측하는 신경망을\n",
        "설계하고 학습하라."
      ],
      "id": "7438e436-ecba-4521-8c35-77479aabaeb0"
    },
    {
      "cell_type": "code",
      "execution_count": 75,
      "metadata": {},
      "outputs": [],
      "source": [
        "torch.manual_seed(12345)\n",
        "rnncell = torch.nn.RNNCell(7,8).to(\"cuda:0\")\n",
        "linr = torch.nn.Linear(8,7).to(\"cuda:0\")\n",
        "loss_fn = torch.nn.CrossEntropyLoss()\n",
        "optimizr = torch.optim.Adam(list(rnncell.parameters())+list(linr.parameters()),lr=0.1)"
      ],
      "id": "bc54564d-5ba8-4249-8c9c-380cb00ef46e"
    },
    {
      "cell_type": "code",
      "execution_count": 76,
      "metadata": {},
      "outputs": [],
      "source": [
        "for epoc in range(100):\n",
        "    ## 1\n",
        "    hidden = [] \n",
        "    ht = torch.zeros(8).to(\"cuda:0\")\n",
        "    for xt,yt in zip(x,y): \n",
        "        ht = rnncell(xt,ht) \n",
        "        hidden.append(ht) \n",
        "    hidden = torch.stack(hidden)\n",
        "    output = linr(hidden)\n",
        "    ## 2 \n",
        "    loss = loss_fn(output,y)\n",
        "    ## 3 \n",
        "    loss.backward()\n",
        "    ## 4 \n",
        "    optimizr.step()\n",
        "    optimizr.zero_grad()"
      ],
      "id": "ae3d7295-a78d-44c9-955d-6808bbbd5327"
    },
    {
      "cell_type": "code",
      "execution_count": 77,
      "metadata": {},
      "outputs": [
        {
          "output_type": "display_data",
          "metadata": {},
          "data": {
            "text/plain": [
              "array([[0.   , 0.005, 0.   , 0.982, 0.013, 0.   , 0.   ],\n",
              "       [0.   , 0.999, 0.   , 0.   , 0.   , 0.001, 0.   ],\n",
              "       [0.   , 0.   , 1.   , 0.   , 0.   , 0.   , 0.   ],\n",
              "       [0.   , 0.   , 0.   , 0.001, 0.999, 0.   , 0.   ],\n",
              "       [0.   , 0.   , 0.   , 0.   , 0.   , 1.   , 0.   ],\n",
              "       [0.   , 0.   , 0.   , 0.   , 0.   , 1.   , 0.   ],\n",
              "       [0.   , 0.   , 0.   , 0.   , 0.   , 0.   , 1.   ],\n",
              "       [1.   , 0.   , 0.   , 0.   , 0.   , 0.   , 0.   ],\n",
              "       [1.   , 0.   , 0.   , 0.   , 0.   , 0.   , 0.   ],\n",
              "       [0.   , 0.   , 1.   , 0.   , 0.   , 0.   , 0.   ]], dtype=float32)"
            ]
          }
        }
      ],
      "source": [
        "yhat = soft(output)\n",
        "yhat[:10].to(\"cpu\").detach().numpy().round(3)"
      ],
      "id": "6519e542-cd2b-4067-b60f-fe081bb39c67"
    },
    {
      "cell_type": "code",
      "execution_count": 78,
      "metadata": {},
      "outputs": [
        {
          "output_type": "display_data",
          "metadata": {},
          "data": {
            "image/png": "[encoded data removed]"
          }
        }
      ],
      "source": [
        "plt.matshow(yhat.to(\"cpu\").data[:10],cmap='bwr',vmin=-1,vmax=1)\n",
        "plt.xticks(range(7),labels=['!','?','h','i','e','l','o']);"
      ],
      "id": "23d05c2e-530a-4dab-9443-b36ea48b52ad"
    },
    {
      "cell_type": "markdown",
      "metadata": {},
      "source": [
        "`(3)` `torch.nn.Module`을 상속받은 클래스를 정의하고 (2)의 결과와 동일한\n",
        "적합값이 나오는 신경망을 설계한 뒤 학습하라. (초기값을 적절하게 설정할\n",
        "것)\n",
        "\n",
        "-   class를 이용하지 않으면 점수없음.\n",
        "-   torch.nn.RNN(), torch.nn.RNNCell() 을 이용한 네트워크를 학습시킬시\n",
        "    점수 없음. (초기값을 셋팅하는 용도로는 torch.nn.RNN(),\n",
        "    torch.nn.RNNCell()을 코드에 포함시키는 것이 가능)"
      ],
      "id": "b497005a-1a06-4bc4-99b1-a4678ab3712f"
    },
    {
      "cell_type": "code",
      "execution_count": 89,
      "metadata": {},
      "outputs": [],
      "source": [
        "class rNNCell(torch.nn.Module):\n",
        "    def __init__(self):\n",
        "        super().__init__()\n",
        "        self.i2h = torch.nn.Linear(7,8)\n",
        "        self.h2h = torch.nn.Linear(8,8) \n",
        "        self.tanh = torch.nn.Tanh()\n",
        "    def forward(self,xt,ht):\n",
        "        ht = self.tanh(self.i2h(xt)+self.h2h(ht))\n",
        "        return ht"
      ],
      "id": "7ff099ec-5338-4708-945b-febdc092111f"
    },
    {
      "cell_type": "code",
      "execution_count": 90,
      "metadata": {},
      "outputs": [],
      "source": [
        "rnncell = rNNCell().to(\"cuda:0\")\n",
        "linr = torch.nn.Linear(8,7).to(\"cuda:0\")\n",
        "loss_fn = torch.nn.CrossEntropyLoss()\n",
        "optimizr = torch.optim.Adam(list(rnncell.parameters())+list(linr.parameters()),lr=0.1)"
      ],
      "id": "3ac032be-78f4-48fc-8774-4aa0f70c3d66"
    },
    {
      "cell_type": "code",
      "execution_count": 91,
      "metadata": {},
      "outputs": [],
      "source": [
        "## 초기화의 설정을 위한 코드\n",
        "torch.manual_seed(43052)\n",
        "_rnncell = torch.nn.RNNCell(7,8).to(\"cuda:0\")\n",
        "_linr = torch.nn.Linear(8,7).to(\"cuda:0\")\n",
        "rnncell.i2h.weight.data = _rnncell.weight_ih.data \n",
        "rnncell.h2h.weight.data = _rnncell.weight_hh.data \n",
        "rnncell.h2h.bias.data = _rnncell.bias_hh.data\n",
        "rnncell.i2h.bias.data = _rnncell.bias_ih.data\n",
        "linr.weight.data = _linr.weight.data \n",
        "linr.bias.data = _linr.bias.data "
      ],
      "id": "55410f58-d3b0-4d38-9367-00039ff6e577"
    },
    {
      "cell_type": "code",
      "execution_count": 92,
      "metadata": {},
      "outputs": [],
      "source": [
        "for epoc in range(100):\n",
        "    ## 1\n",
        "    hidden = [] \n",
        "    ht = torch.zeros(8).to(\"cuda:0\")\n",
        "    for xt,yt in zip(x,y): \n",
        "        ht = rnncell(xt,ht)\n",
        "        # ot = linr(ht) \n",
        "        hidden.append(ht) \n",
        "    hidden = torch.stack(hidden)\n",
        "    output = linr(hidden) \n",
        "    ## 2 \n",
        "    loss = loss_fn(output,y)\n",
        "    ## 3 \n",
        "    loss.backward()\n",
        "    ## 4 \n",
        "    optimizr.step()\n",
        "    optimizr.zero_grad()"
      ],
      "id": "a8cd3290-394c-4c93-957a-b8dbdc678dca"
    },
    {
      "cell_type": "code",
      "execution_count": 93,
      "metadata": {},
      "outputs": [
        {
          "output_type": "display_data",
          "metadata": {},
          "data": {
            "text/plain": [
              "array([[0.   , 0.005, 0.008, 0.972, 0.014, 0.001, 0.   ],\n",
              "       [0.   , 0.997, 0.002, 0.   , 0.   , 0.001, 0.   ],\n",
              "       [0.   , 0.001, 0.999, 0.   , 0.001, 0.   , 0.   ],\n",
              "       [0.   , 0.   , 0.   , 0.   , 0.999, 0.   , 0.   ],\n",
              "       [0.   , 0.   , 0.   , 0.   , 0.   , 1.   , 0.   ],\n",
              "       [0.   , 0.001, 0.   , 0.   , 0.   , 0.999, 0.   ],\n",
              "       [0.   , 0.   , 0.   , 0.   , 0.   , 0.   , 1.   ],\n",
              "       [0.999, 0.   , 0.   , 0.   , 0.   , 0.   , 0.001],\n",
              "       [0.999, 0.   , 0.   , 0.   , 0.   , 0.   , 0.   ],\n",
              "       [0.   , 0.001, 0.998, 0.   , 0.   , 0.   , 0.   ]], dtype=float32)"
            ]
          }
        }
      ],
      "source": [
        "yhat = soft(output)\n",
        "yhat[:10].to(\"cpu\").detach().numpy().round(3)"
      ],
      "id": "2074dfc6-32e2-4947-959d-0a53e8275d71"
    },
    {
      "cell_type": "code",
      "execution_count": 94,
      "metadata": {},
      "outputs": [
        {
          "output_type": "display_data",
          "metadata": {},
          "data": {
            "image/png": "[encoded data removed]"
          }
        }
      ],
      "source": [
        "plt.matshow(yhat.to(\"cpu\").data[:10],cmap='bwr',vmin=-1,vmax=1)\n",
        "plt.xticks(range(7),labels=['!','?','h','i','e','l','o']);"
      ],
      "id": "48a058ac-8250-4049-9bdb-b19b1e604b96"
    },
    {
      "cell_type": "markdown",
      "metadata": {},
      "source": [
        "`(4)` `torch.nn.LSTM()`을 이용하여 다음문자를 예측하는 신경망을 설계하고\n",
        "학습하라.\n",
        "\n",
        "(풀이)"
      ],
      "id": "36e96245-9f7b-45b6-a7bb-1bec46f7de9b"
    },
    {
      "cell_type": "code",
      "execution_count": 44,
      "metadata": {},
      "outputs": [
        {
          "output_type": "display_data",
          "metadata": {},
          "data": {
            "image/png": "[encoded data removed]"
          }
        }
      ],
      "source": [
        "lstm = torch.nn.LSTM(7,4).to(\"cuda:0\")\n",
        "linr = torch.nn.Linear(4,7).to(\"cuda:0\")\n",
        "loss_fn = torch.nn.CrossEntropyLoss()\n",
        "optimizr = torch.optim.Adam(list(lstm.parameters())+list(linr.parameters()),lr=0.1)\n",
        "_water = torch.zeros(1,4).to(\"cuda:0\")\n",
        "for epoc in range(500):\n",
        "    ## 1\n",
        "    hidden, (hT,cT) = lstm(x,(_water,_water))\n",
        "    output = linr(hidden)\n",
        "    ## 2\n",
        "    loss = loss_fn(output,y)\n",
        "    ## 3\n",
        "    loss.backward()\n",
        "    ## 4 \n",
        "    optimizr.step()\n",
        "    optimizr.zero_grad()\n",
        "yhat=soft(output)    \n",
        "plt.matshow(yhat.to(\"cpu\").data[:10],cmap='bwr',vmin=-1,vmax=1)\n",
        "plt.xticks(range(7),labels=['!','?','h','i','e','l','o']);"
      ],
      "id": "c986e43e-a855-4c17-a1a1-210a98e456d7"
    },
    {
      "cell_type": "markdown",
      "metadata": {},
      "source": [
        "`(5)` `torch.nn.LSTMCell()`을 이용하여 다음문자를 예측하는 신경망을\n",
        "설계하고 학습하라."
      ],
      "id": "21ab4aa3-8683-4bf1-be7b-9a7e5dfc04bb"
    },
    {
      "cell_type": "code",
      "execution_count": 95,
      "metadata": {},
      "outputs": [],
      "source": [
        "torch.manual_seed(43052) \n",
        "lstmcell = torch.nn.LSTMCell(7,4).to(\"cuda:0\")\n",
        "linr = torch.nn.Linear(4,7).to(\"cuda:0\")\n",
        "loss_fn = torch.nn.CrossEntropyLoss()\n",
        "optimizr = torch.optim.Adam(list(lstmcell.parameters())+list(linr.parameters()),lr=0.1)"
      ],
      "id": "118718b2-8223-4089-a39c-95ac69d96190"
    },
    {
      "cell_type": "code",
      "execution_count": 96,
      "metadata": {},
      "outputs": [],
      "source": [
        "for epoc in range(100):\n",
        "    ## 1\n",
        "    hidden = []\n",
        "    ht = torch.zeros(4).to(\"cuda:0\")\n",
        "    ct = torch.zeros(4).to(\"cuda:0\")\n",
        "    for xt,yt in zip(x,y): \n",
        "        ht,ct = lstmcell(xt,(ht,ct))\n",
        "        hidden.append(ht) \n",
        "    hidden = torch.stack(hidden)\n",
        "    output = linr(hidden)\n",
        "    ## 2 \n",
        "    loss = loss_fn(output,y)\n",
        "    ## 3 \n",
        "    loss.backward()\n",
        "    ## 4 \n",
        "    optimizr.step()\n",
        "    optimizr.zero_grad()"
      ],
      "id": "f10322b0-9712-42b8-9546-a8bc1c72957c"
    },
    {
      "cell_type": "code",
      "execution_count": 97,
      "metadata": {},
      "outputs": [
        {
          "output_type": "display_data",
          "metadata": {},
          "data": {
            "text/plain": [
              "array([[0.   , 0.014, 0.084, 0.081, 0.822, 0.   , 0.   ],\n",
              "       [0.002, 0.91 , 0.   , 0.083, 0.003, 0.   , 0.001],\n",
              "       [0.001, 0.   , 0.999, 0.   , 0.   , 0.   , 0.   ],\n",
              "       [0.   , 0.001, 0.005, 0.072, 0.917, 0.004, 0.   ],\n",
              "       [0.   , 0.   , 0.004, 0.   , 0.001, 0.995, 0.   ],\n",
              "       [0.   , 0.   , 0.   , 0.   , 0.   , 0.999, 0.001],\n",
              "       [0.   , 0.   , 0.   , 0.   , 0.   , 0.   , 0.999],\n",
              "       [0.998, 0.001, 0.   , 0.   , 0.   , 0.   , 0.   ],\n",
              "       [0.99 , 0.   , 0.006, 0.001, 0.   , 0.003, 0.   ],\n",
              "       [0.007, 0.   , 0.992, 0.   , 0.   , 0.001, 0.   ]], dtype=float32)"
            ]
          }
        }
      ],
      "source": [
        "yhat = soft(output)\n",
        "yhat[:10].to(\"cpu\").detach().numpy().round(3)"
      ],
      "id": "e33b83b6-c5a9-4e4b-9acd-baec897bfd69"
    },
    {
      "cell_type": "code",
      "execution_count": 98,
      "metadata": {},
      "outputs": [
        {
          "output_type": "display_data",
          "metadata": {},
          "data": {
            "image/png": "[encoded data removed]"
          }
        }
      ],
      "source": [
        "plt.matshow(yhat.to(\"cpu\").data[:10],cmap='bwr',vmin=-1,vmax=1)\n",
        "plt.xticks(range(7),labels=['!','?','h','i','e','l','o']);"
      ],
      "id": "040416c1-1a36-4158-b064-b0e37846d27f"
    },
    {
      "cell_type": "markdown",
      "metadata": {},
      "source": [
        "`(6)` (5)의 결과와 동일한 적합값을 출력하는 신경망을 직접설계한 뒤\n",
        "학습시켜라. (초기값을 적절하게 설정할 것)\n",
        "\n",
        "-   class를 이용하지 않아도 무방함.\n",
        "-   torch.nn.LSTM(), torch.nn.LSTMCell() 을 이용한 네트워크를 학습시킬시\n",
        "    점수 없음. (초기값을 셋팅하는 용도로는 torch.nn.LSTM(),\n",
        "    torch.nn.LSTMCell()을 코드에 포함시키는 것이 가능)"
      ],
      "id": "9af4e620-0d3a-4d3b-bc8b-314a3b4c9391"
    },
    {
      "cell_type": "code",
      "execution_count": 99,
      "metadata": {},
      "outputs": [],
      "source": [
        "class lSTMCell(torch.nn.Module):\n",
        "    def __init__(self):\n",
        "        super().__init__()\n",
        "        self.i2h = torch.nn.Linear(7,16)\n",
        "        self.h2h = torch.nn.Linear(4,16) \n",
        "        self.tanh = torch.nn.Tanh()\n",
        "    def forward(self,xt,past):\n",
        "        ht,ct = past \n",
        "        ifgo = self.i2h(xt) + self.h2h(ht) \n",
        "        it = sig(ifgo[0:4])\n",
        "        ft = sig(ifgo[4:8])\n",
        "        gt = tanh(ifgo[8:12])\n",
        "        ot = sig(ifgo[12:16])\n",
        "        ct = ft*ct + it*gt\n",
        "        ht = ot*self.tanh(ct) \n",
        "        return ht,ct"
      ],
      "id": "0cfbc8eb-22ff-4b4e-a883-896d12a7ec45"
    },
    {
      "cell_type": "code",
      "execution_count": 100,
      "metadata": {},
      "outputs": [],
      "source": [
        "lstmcell = lSTMCell().to(\"cuda:0\")\n",
        "linr = torch.nn.Linear(4,7).to(\"cuda:0\")\n",
        "loss_fn = torch.nn.CrossEntropyLoss()\n",
        "optimizr = torch.optim.Adam(list(lstmcell.parameters())+list(linr.parameters()),lr=0.1)"
      ],
      "id": "936787a4-1f57-4377-9098-7bfdfce77b35"
    },
    {
      "cell_type": "code",
      "execution_count": 101,
      "metadata": {},
      "outputs": [],
      "source": [
        "# 초기값셋팅\n",
        "torch.manual_seed(43052) \n",
        "_lstmcell = torch.nn.LSTMCell(7,4).to(\"cuda:0\")\n",
        "_linr = torch.nn.Linear(4,7).to(\"cuda:0\")\n",
        "lstmcell.i2h.weight.data = _lstmcell.weight_ih.data \n",
        "lstmcell.h2h.weight.data = _lstmcell.weight_hh.data \n",
        "lstmcell.i2h.bias.data = _lstmcell.bias_ih.data\n",
        "lstmcell.h2h.bias.data = _lstmcell.bias_hh.data\n",
        "linr.weight.data = _linr.weight.data \n",
        "linr.bias.data = _linr.bias.data "
      ],
      "id": "4f3fc854-bd74-4be6-8ea2-5f1fdf50931d"
    },
    {
      "cell_type": "code",
      "execution_count": 102,
      "metadata": {},
      "outputs": [],
      "source": [
        "for epoc in range(100):\n",
        "    ## 1\n",
        "    hidden = []     \n",
        "    ht = torch.zeros(4).to(\"cuda:0\")\n",
        "    ct = torch.zeros(4).to(\"cuda:0\")\n",
        "    for xt,yt in zip(x,y): \n",
        "        ht,ct = lstmcell(xt,(ht,ct))\n",
        "        hidden.append(ht) \n",
        "    hidden = torch.stack(hidden)\n",
        "    output = linr(hidden) \n",
        "    ## 2 \n",
        "    loss = loss_fn(output,y)\n",
        "    ## 3 \n",
        "    loss.backward()\n",
        "    ## 4 \n",
        "    optimizr.step()\n",
        "    optimizr.zero_grad()"
      ],
      "id": "21f3580a-133c-4346-8781-6c14a249fe27"
    },
    {
      "cell_type": "code",
      "execution_count": 103,
      "metadata": {},
      "outputs": [
        {
          "output_type": "display_data",
          "metadata": {},
          "data": {
            "text/plain": [
              "array([[0.   , 0.014, 0.084, 0.081, 0.822, 0.   , 0.   ],\n",
              "       [0.002, 0.91 , 0.   , 0.083, 0.003, 0.   , 0.001],\n",
              "       [0.001, 0.   , 0.999, 0.   , 0.   , 0.   , 0.   ],\n",
              "       [0.   , 0.001, 0.005, 0.072, 0.917, 0.004, 0.   ],\n",
              "       [0.   , 0.   , 0.004, 0.   , 0.001, 0.995, 0.   ],\n",
              "       [0.   , 0.   , 0.   , 0.   , 0.   , 0.999, 0.001],\n",
              "       [0.   , 0.   , 0.   , 0.   , 0.   , 0.   , 0.999],\n",
              "       [0.998, 0.001, 0.   , 0.   , 0.   , 0.   , 0.   ],\n",
              "       [0.99 , 0.   , 0.006, 0.001, 0.   , 0.003, 0.   ],\n",
              "       [0.007, 0.   , 0.992, 0.   , 0.   , 0.001, 0.   ]], dtype=float32)"
            ]
          }
        }
      ],
      "source": [
        "yhat = soft(output)\n",
        "yhat[:10].to(\"cpu\").detach().numpy().round(3)"
      ],
      "id": "cfcd1198-b580-4d22-9f2e-95e0ea6d5c89"
    },
    {
      "cell_type": "code",
      "execution_count": 104,
      "metadata": {},
      "outputs": [
        {
          "output_type": "display_data",
          "metadata": {},
          "data": {
            "image/png": "[encoded data removed]"
          }
        }
      ],
      "source": [
        "plt.matshow(yhat.to(\"cpu\").data[:10],cmap='bwr',vmin=-1,vmax=1)\n",
        "plt.xticks(range(7),labels=['!','?','h','i','e','l','o']);"
      ],
      "id": "6178e449-c96e-447d-827c-c60a2d4d0aee"
    },
    {
      "cell_type": "markdown",
      "metadata": {},
      "source": [
        "## `2`. 다음을 읽고 참 거짓을 판단하여라. (10점)\n",
        "\n",
        "`(1)` RNN은 LSTM에 비하여 장기기억에 유리하다.\n",
        "\n",
        "참\n",
        "\n",
        "`(2)` `torch.nn.Embedding(num_embeddings=2,embedding_dim=1)`와\n",
        "`torch.nn.Linear(in_features=1,out_features=1)`의 학습가능한\n",
        "파라메터수는 같다.\n",
        "\n",
        "참\n",
        "\n",
        "`(3)`아래와 같은 네트워크를 고려하자.\n",
        "\n",
        "``` python\n",
        "net = torch.nn.Linear(1,1)\n",
        "```\n",
        "\n",
        "차원이 (n,1) 인 임의의 텐서에 대하여 net(x)와 net.forword(x)의\n",
        "출력결과는 같다.\n",
        "\n",
        "참\n",
        "\n",
        "`(4)` 아래와 같이 a,b,c,d 가 반복되는 문자열이 반복되는 자료에서\n",
        "다음문자열을 맞추는 과업을 수행하기 위해서는 반드시 순환신경망의 형태로\n",
        "설계해야만 한다\n",
        "\n",
        "a,b,c,d,a,b,c,d,…\n",
        "\n",
        "거짓\n",
        "\n",
        "`(5)` RNN 혹은 LSTM 으로 신경망을 설계할 시 손실함수는 항상\n",
        "torch.nn.CrossEntropyLoss 를 사용해야 한다.\n",
        "\n",
        "거짓"
      ],
      "id": "fc5b93cc-dd9e-43c5-900f-f45f8cb750a7"
    }
  ],
  "nbformat": 4,
  "nbformat_minor": 5,
  "metadata": {
    "kernelspec": {
      "name": "python3",
      "display_name": "Python 3",
      "language": "python"
    },
    "language_info": {
      "name": "python",
      "codemirror_mode": {
        "name": "ipython",
        "version": "3"
      },
      "file_extension": ".py",
      "mimetype": "text/x-python",
      "nbconvert_exporter": "python",
      "pygments_lexer": "ipython3",
      "version": "3.7.13"
    }
  }
}