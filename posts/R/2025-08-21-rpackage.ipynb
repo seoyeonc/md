{
 "cells": [
  {
   "cell_type": "raw",
   "id": "c7b4b1b2-b969-4201-8e83-e171ebb3d35c",
   "metadata": {
    "id": "cac470df-29e7-4148-9bbd-d8b9a32fa570",
    "tags": []
   },
   "source": [
    "---\n",
    "title: \"R packages\"\n",
    "author: \"SEOYEON CHOI\"\n",
    "date: \"2025-08-21\"\n",
    "---"
   ]
  },
  {
   "cell_type": "markdown",
   "id": "6399a16a-11cb-48a1-891d-eee1afe6ddbf",
   "metadata": {},
   "source": [
    "# 패키지 생성"
   ]
  },
  {
   "cell_type": "markdown",
   "id": "286099f8-a350-4e22-9090-54e8fed00123",
   "metadata": {},
   "source": [
    "R package를 위한 폴더 생성"
   ]
  },
  {
   "cell_type": "markdown",
   "id": "c8015805-df93-46b8-934b-25e10e46d12f",
   "metadata": {},
   "source": [
    "```r\n",
    "usethis::create_package(\"todaysexample\")\n",
    "```"
   ]
  },
  {
   "cell_type": "markdown",
   "id": "d54fa4d8-7dd7-47cb-ba96-b77a4422ca7c",
   "metadata": {},
   "source": [
    "- todaysexample 여기에 만들고 싶은 패키지 이름 작성"
   ]
  },
  {
   "cell_type": "markdown",
   "id": "ccceb3fc-e24e-4f8c-9617-c2a11209a456",
   "metadata": {},
   "source": [
    "문서 작업을 위해 경로 설정"
   ]
  },
  {
   "cell_type": "markdown",
   "id": "76ea1fbf-cb87-443c-946f-702143818a63",
   "metadata": {},
   "source": [
    "```r\n",
    "setwd(\"todaysexample\")\n",
    "```"
   ]
  },
  {
   "cell_type": "markdown",
   "id": "41ea0fa5-ca28-490b-b537-28e5a84fad97",
   "metadata": {},
   "source": [
    "문서 작업(description 등 수정된 부분이 있으면 적용되는 구간)"
   ]
  },
  {
   "cell_type": "markdown",
   "id": "205b6722-d4f3-4453-a7ab-1658490a2419",
   "metadata": {},
   "source": [
    "```r\n",
    "devtools::document()\n",
    "```"
   ]
  },
  {
   "cell_type": "markdown",
   "id": "633f707e-54a5-4dee-9538-154707f08686",
   "metadata": {},
   "source": [
    "- automatically generate Rd files in man/ and update the NAMESPACE file."
   ]
  },
  {
   "cell_type": "markdown",
   "id": "e60cd67b-855f-4601-8ac0-1d4abb88f445",
   "metadata": {},
   "source": [
    "# 버전 관리?"
   ]
  },
  {
   "cell_type": "markdown",
   "id": "e388571f-7d95-488a-bf60-1f72832e0b05",
   "metadata": {},
   "source": [
    "`description`"
   ]
  },
  {
   "cell_type": "markdown",
   "id": "c4969471-80ec-4e68-bd83-6d6be2e70761",
   "metadata": {},
   "source": [
    "```r\n",
    "Package: todaysexample\n",
    "Title: What the Package Does (One Line, Title Case)\n",
    "Version: 0.0.0.9000\n",
    "Authors@R: \n",
    "    person(\"First\", \"Last\", , \"first.last@example.com\", role = c(\"aut\", \"cre\"))\n",
    "Description: What the package does (one paragraph).\n",
    "License: `use_mit_license()`, `use_gpl3_license()` or friends to pick a\n",
    "    license\n",
    "Encoding: UTF-8\n",
    "Roxygen: list(markdown = TRUE)\n",
    "RoxygenNote: 7.3.2\n",
    "\n",
    "```"
   ]
  },
  {
   "cell_type": "markdown",
   "id": "63052aa9-faeb-4eae-90bb-041c7ecb4dd6",
   "metadata": {
    "tags": []
   },
   "source": [
    "## 패키지 버전 vs 수정 버전"
   ]
  },
  {
   "cell_type": "markdown",
   "id": "6fd59e52-a45f-4fb2-a116-75533a95ea70",
   "metadata": {},
   "source": [
    "major, minor에 따라 버전 수정"
   ]
  },
  {
   "cell_type": "markdown",
   "id": "5e472b4c-74fc-428f-8d90-f5d035c73e09",
   "metadata": {},
   "source": [
    "- git 관리가 편한 이유 수정할때마다 업로드 해서 관리가 편해짐\n",
    "- git commit -m '수정한 내용이나 이름' 이런식으로 커밋 하면 깃 자체에서 관리하면 되니까 편해짐."
   ]
  },
  {
   "cell_type": "markdown",
   "id": "eea984d8-ef01-45b9-987e-9046c74d1611",
   "metadata": {},
   "source": [
    "- MAJOR.MINOR.PATCH\n",
    "    - MAJOR: 호환성 깨뜨리는 변경 (backward incompatible changes)\n",
    "    - MINOR: 새로운 기능 추가 (호환성 유지)\n",
    "    - PATCH: 버그 수정, 작은 개선 (호환성 유지)"
   ]
  },
  {
   "cell_type": "markdown",
   "id": "59b17443-9f16-41aa-a03a-7cc819a162ce",
   "metadata": {},
   "source": [
    "- 예:\n",
    "    - 1.0.0 → 첫 정식 릴리스\n",
    "    - 1.1.0 → 새로운 함수 추가\n",
    "    - 1.1.1 → 작은 버그 수정"
   ]
  },
  {
   "cell_type": "markdown",
   "id": "ed4e96ed-4ae7-44ae-956f-b19d4489e4f7",
   "metadata": {},
   "source": [
    "# 패키지 폴더 안 R 폴더에 함수 작성"
   ]
  },
  {
   "cell_type": "markdown",
   "id": "4171875c-5d1d-4057-b89b-89da0a46ee39",
   "metadata": {},
   "source": [
    "```r\n",
    "#' Say hello\n",
    "#'\n",
    "#' @param name A name\n",
    "#' @export\n",
    "hello <- function(name) {\n",
    "  paste(\"Hello\", name)\n",
    "}\n",
    "\n",
    "#' Filter with dplyr\n",
    "#'\n",
    "#' @param data A dataframe\n",
    "#' @return Filtered dataframe\n",
    "#' @importFrom dplyr filter\n",
    "#' @export\n",
    "my_filter <- function(data) {\n",
    "  dplyr::filter(data, TRUE)\n",
    "}\n",
    "\n",
    "```"
   ]
  },
  {
   "cell_type": "markdown",
   "id": "41ec9f97-2a64-48d6-a34d-fe5893a3f15e",
   "metadata": {},
   "source": [
    "- `export` 함수 내용 공개\n",
    "- `importFrom` 필요한 패키지 내에서 함수 하나만 가져오기(가볍게 만들기 위함)"
   ]
  },
  {
   "cell_type": "markdown",
   "id": "3a6082b8-8787-451a-8da2-cb49ae59a658",
   "metadata": {},
   "source": [
    "# git 배포하는 법"
   ]
  },
  {
   "cell_type": "markdown",
   "id": "80169177-2895-4606-a358-dad8188bfe9c",
   "metadata": {},
   "source": [
    "1. git hub에 repository만들기\n",
    "2. r studio에서 tools>version control>projectsetup>version control system -> git 선택\n",
    "3. local과 git 연결"
   ]
  },
  {
   "cell_type": "markdown",
   "id": "5672606f-a6c3-4b25-9cf9-5e5355f15ef4",
   "metadata": {},
   "source": [
    "```python\n",
    "git remote add origin https://github.com/username/todaysexample.git\n",
    "git branch -M main\n",
    "git push -u origin main\n",
    "```"
   ]
  },
  {
   "cell_type": "markdown",
   "id": "150accff-d133-4d11-88d1-7af1495f4fce",
   "metadata": {},
   "source": [
    "4. r package 준비"
   ]
  },
  {
   "cell_type": "markdown",
   "id": "2edf7e2c-511e-4bad-9bf3-680c60051122",
   "metadata": {},
   "source": [
    "- .Rbuildignore : README.Rmd, pkgdown 설정 등 빌드에 필요 없는 파일 제외"
   ]
  },
  {
   "cell_type": "markdown",
   "id": "dbdbb79a-b967-4d5a-9536-d479f2a92abe",
   "metadata": {},
   "source": [
    "```r\n",
    "usethis::use_build_ignore(\"README.Rmd\")\n",
    "```"
   ]
  },
  {
   "cell_type": "markdown",
   "id": "9c626904-4ee8-41e7-b579-1379f22bec7e",
   "metadata": {},
   "source": [
    "- 라이선스:"
   ]
  },
  {
   "cell_type": "markdown",
   "id": "b2876f53-444f-4c56-b6e0-a9f2b42b123d",
   "metadata": {},
   "source": [
    "```r\n",
    "usethis::use_mit_license(\"Your Name\")\n",
    "```"
   ]
  },
  {
   "cell_type": "markdown",
   "id": "0e62d078-90a4-4d9f-94e3-bbd1617719f1",
   "metadata": {},
   "source": [
    "- README.Rmd + 배지:"
   ]
  },
  {
   "cell_type": "markdown",
   "id": "f0d00e60-7266-4694-aaf5-7c6f56aef5b7",
   "metadata": {},
   "source": [
    "```r\n",
    "usethis::use_readme_rmd()\n",
    "```"
   ]
  },
  {
   "cell_type": "markdown",
   "id": "3ae1bee1-9386-4c29-bdbd-1730f242ed2b",
   "metadata": {},
   "source": [
    "- GitHub에 푸시"
   ]
  },
  {
   "cell_type": "markdown",
   "id": "7ab264c0-af37-426d-a058-3cc83138722d",
   "metadata": {},
   "source": [
    "```r\n",
    "git add .\n",
    "git commit -m \"올리고 싶은 내용 작성 ->내용 나중에 가능\"\n",
    "git push origin main\n",
    "```"
   ]
  },
  {
   "cell_type": "markdown",
   "id": "d9cefdc7-0aac-4ab3-af47-1d8038d9bb01",
   "metadata": {},
   "source": [
    "- 설치 방법 공유"
   ]
  },
  {
   "cell_type": "markdown",
   "id": "e5764730-22c2-484d-8651-b20b58ec6eb3",
   "metadata": {},
   "source": [
    "```r\n",
    "# devtools 필요\n",
    "install.packages(\"devtools\")\n",
    "\n",
    "# GitHub에서 설치\n",
    "devtools::install_github(\"username/todaysexample\")\n",
    "\n",
    "# 패키지 로드\n",
    "library(todaysexample)\n",
    "```"
   ]
  },
  {
   "cell_type": "markdown",
   "id": "66180759-a61e-437d-afc0-5685514d4554",
   "metadata": {},
   "source": [
    "- 문서 사이트 배포"
   ]
  },
  {
   "cell_type": "markdown",
   "id": "68db80bd-36c0-464f-86eb-ce3449b12d41",
   "metadata": {},
   "source": [
    "- pkgdown으로 웹사이트 생성:"
   ]
  },
  {
   "cell_type": "markdown",
   "id": "0635d77c-65b8-4b74-ba50-90c062770836",
   "metadata": {},
   "source": [
    "```r\n",
    "usethis::use_pkgdown()\n",
    "pkgdown::build_site()\n",
    "\n",
    "\n",
    "GitHub Pages로 자동 배포:\n",
    "\n",
    "usethis::use_github_action(\"pkgdown\")\n",
    "```"
   ]
  },
  {
   "cell_type": "markdown",
   "id": "be81fe9d-d15c-48eb-ba89-e6c5cf1cbb6d",
   "metadata": {},
   "source": [
    "# 오픈 소스 말고 폐쇄형으로(회사 등) R 패키지를 관리할 때"
   ]
  },
  {
   "cell_type": "markdown",
   "id": "795f4433-ad68-4d3f-9964-daa5bf77a597",
   "metadata": {},
   "source": [
    "**GitHub.com 같은 외부 서비스에 올리면 안 됨 (기밀 코드 유출 위험)**"
   ]
  },
  {
   "cell_type": "markdown",
   "id": "67d9e2f4-ea1f-4015-9b76-59920a552a7c",
   "metadata": {},
   "source": [
    "- 사내 Git 서버 (GitLab CE, Gitea 등) → 내부망에서만 접근\n",
    "- 공유폴더에 bare repo 만들어 원격 저장소로 활용\n",
    "- 로컬 Git만 사용 → 개인 PC에서만 관리\n",
    "- 배포는 내부 CRAN 레포(miniCRAN, Posit Package Manager) 로만 → 팀원들이 안전하게 설치"
   ]
  },
  {
   "cell_type": "markdown",
   "id": "b71d5840-58d7-4ee2-8a57-dce3ded2e43c",
   "metadata": {},
   "source": [
    "`Git server 종류`"
   ]
  },
  {
   "cell_type": "markdown",
   "id": "691eb9aa-7188-44f8-b38d-d2bfb4098519",
   "metadata": {},
   "source": [
    "1. Gitea / Forgejo"
   ]
  },
  {
   "cell_type": "markdown",
   "id": "5d7ed175-91b8-44e6-9e55-597a155255ef",
   "metadata": {},
   "source": [
    "- 특징: 아주 가볍고 단순한 Git 서버\n",
    "- 장점\n",
    "    - 설치가 쉽고 빠름 (하루 만에도 운영 가능)\n",
    "    - 서버 자원(CPU, 메모리) 거의 안 씀 → 소규모 팀에 적합\n",
    "    - 기본 기능: 저장소 관리, 코드 리뷰, 이슈 관리, 간단한 CI 연동\n",
    "- 단점\n",
    "    - 고급 기능(예: 대규모 CI/CD, 복잡한 권한 체계)은 제한적"
   ]
  },
  {
   "cell_type": "markdown",
   "id": "0cf1e683-4423-4c40-a6e3-6eaafc8b72c5",
   "metadata": {},
   "source": [
    "- 비유: 경차 — 연비 좋고 관리 쉬움, 소규모 팀에 딱"
   ]
  },
  {
   "cell_type": "markdown",
   "id": "26b8c354-57e3-42c5-ba6c-799c2894848f",
   "metadata": {},
   "source": [
    "2. GitLab CE (Community Edition)"
   ]
  },
  {
   "cell_type": "markdown",
   "id": "55d6889f-fd70-4d9b-9d3b-c8ddf4cd2725",
   "metadata": {},
   "source": [
    "- 특징: 엔터프라이즈급, 기능이 매우 풍부한 Git 서버\n",
    "- 장점\n",
    "    - CI/CD 파이프라인 내장 (테스트·배포 자동화 가능)\n",
    "    - 세밀한 권한 관리 (역할, 그룹, 프로젝트 단위 권한)\n",
    "    - 대규모 팀 협업 지원 (수백~수천 명)\n",
    "    - Wiki, 이슈 트래킹, 보안 스캐닝 등 통합 플랫폼 느낌\n",
    "- 단점\n",
    "    - 설치·운영 복잡 (관리자 필요)\n",
    "    - 서버 자원 많이 필요 (CPU/메모리 2배 이상)"
   ]
  },
  {
   "cell_type": "markdown",
   "id": "854b9bd2-c35c-4256-901b-4450f7ae0721",
   "metadata": {},
   "source": [
    "- 비유: 대형 SUV — 힘 세고 기능 많음, 대신 유지비가 듦"
   ]
  },
  {
   "cell_type": "markdown",
   "id": "88440980-70bb-4563-b8a8-220a30c0ca16",
   "metadata": {},
   "source": [
    "## Git vs GitHub"
   ]
  },
  {
   "cell_type": "markdown",
   "id": "b042e0bc-be70-4686-993d-58a091a72e53",
   "metadata": {},
   "source": [
    "- Git = 버전 관리 도구 (무료, 로컬/내부망에서 사용 가능)\n",
    "- GitHub = Git 저장소를 인터넷에 공개/호스팅해주는 서비스\n",
    "- 회사 기밀이라면 GitHub.com에는 절대 올리지 않음\n",
    "- Git 자체는 업로드 없이도 로컬에서만 사용 가능"
   ]
  },
  {
   "cell_type": "markdown",
   "id": "7bf40b0b-3c8e-4317-8392-aa678f02748c",
   "metadata": {},
   "source": [
    "### push의 개념"
   ]
  },
  {
   "cell_type": "markdown",
   "id": "e93a8d7c-2927-4818-abaf-2f9237d35b15",
   "metadata": {},
   "source": [
    "- `push` = 로컬 저장소의 변경 이력 → 원격 저장소에 반영\n",
    "- `Git`은 **전체 파일을 매번 저장하는 게 아니라, 바뀐 부분(diff)**만 기록\n",
    "- 기록은 .git/ 폴더 안에 모두 들어있음"
   ]
  },
  {
   "cell_type": "markdown",
   "id": "f65babf7-97d2-4df6-88cb-c265fc1cf08f",
   "metadata": {},
   "source": [
    "### 기록/파일 확인 방법"
   ]
  },
  {
   "cell_type": "markdown",
   "id": "a4ac4382-a3e8-4325-931f-c666d89a4c83",
   "metadata": {},
   "source": [
    "```python\n",
    "git log\n",
    "```"
   ]
  },
  {
   "cell_type": "markdown",
   "id": "f522cf10-9470-453b-9097-d5de27107969",
   "metadata": {},
   "source": [
    "- 변경된 부분 확인"
   ]
  },
  {
   "cell_type": "markdown",
   "id": "92422e76-1cb3-4185-b1f8-e0854692f752",
   "metadata": {},
   "source": [
    "```python\n",
    "git diff HEAD~1 HEAD\n",
    "```"
   ]
  },
  {
   "cell_type": "markdown",
   "id": "6a60c349-f3fc-40aa-9722-b2728b2956d2",
   "metadata": {},
   "source": [
    "- 과거 버전 파일 확인"
   ]
  },
  {
   "cell_type": "markdown",
   "id": "5a6d5538-ad35-46a4-9b0e-443aabb4fe19",
   "metadata": {},
   "source": [
    "```python\n",
    "git checkout <commit-id> -- file.R\n",
    "```"
   ]
  },
  {
   "cell_type": "markdown",
   "id": "617a5233-1a8f-4dbf-8d33-4f239bf721d5",
   "metadata": {},
   "source": [
    "- 전체 되돌리기"
   ]
  },
  {
   "cell_type": "markdown",
   "id": "b3701c64-1bb2-4e3a-a0a1-b9c15fe6f6ec",
   "metadata": {},
   "source": [
    "```python\n",
    "git reset --hard <commit-id>\n",
    "```"
   ]
  },
  {
   "cell_type": "code",
   "execution_count": null,
   "id": "f679abc9-1ae1-45c0-a22f-4505e92409b2",
   "metadata": {},
   "outputs": [],
   "source": []
  }
 ],
 "metadata": {
  "kernelspec": {
   "display_name": "R",
   "language": "R",
   "name": "ir"
  },
  "language_info": {
   "codemirror_mode": {
    "name": "ipython",
    "version": 3
   },
   "file_extension": ".py",
   "mimetype": "text/x-python",
   "name": "python",
   "nbconvert_exporter": "python",
   "pygments_lexer": "ipython3",
   "version": "3.8.0"
  }
 },
 "nbformat": 4,
 "nbformat_minor": 5
}
