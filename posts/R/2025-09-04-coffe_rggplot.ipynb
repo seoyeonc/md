{
 "cells": [
  {
   "cell_type": "raw",
   "id": "c9101f58-e9e4-4a2b-a9c7-438ce59af9eb",
   "metadata": {
    "id": "cac470df-29e7-4148-9bbd-d8b9a32fa570",
    "tags": []
   },
   "source": [
    "---\n",
    "title: \"[Kaggle] Coffee Sales Visuzlization\"\n",
    "author: \"SEOYEON CHOI\"\n",
    "date: \"2025-09-04\"\n",
    "---"
   ]
  },
  {
   "cell_type": "markdown",
   "id": "e498d705-6d3b-4e02-9a29-2a487599181c",
   "metadata": {},
   "source": [
    "# Reference"
   ]
  },
  {
   "cell_type": "markdown",
   "id": "145bbc02-10aa-4a22-9efd-2c641e9b7db8",
   "metadata": {},
   "source": [
    "- [link](https://www.kaggle.com/datasets/navjotkaushal/coffee-sales-dataset)\n",
    "- [ggplottop50](https://r-statistics.co/Top50-Ggplot2-Visualizations-MasterList-R-Code.html)"
   ]
  },
  {
   "cell_type": "code",
   "execution_count": 1,
   "id": "f86e6f8c-f694-4165-abc0-65689e6be510",
   "metadata": {},
   "outputs": [],
   "source": [
    "import rpy2"
   ]
  },
  {
   "cell_type": "code",
   "execution_count": 2,
   "id": "656ebb05-df8a-4b88-8bc3-6e80ae2485bd",
   "metadata": {},
   "outputs": [],
   "source": [
    "%load_ext rpy2.ipython"
   ]
  },
  {
   "cell_type": "code",
   "execution_count": 3,
   "id": "2e5029cd-fbaa-43f3-8424-f13e344c227f",
   "metadata": {},
   "outputs": [],
   "source": [
    "%%R\n",
    "df <- read.csv(\"../../../delete/Coffe_sales.csv\") "
   ]
  },
  {
   "cell_type": "code",
   "execution_count": 4,
   "id": "75a7c20c-d339-4a78-a5f0-674e34e6585d",
   "metadata": {},
   "outputs": [
    {
     "name": "stdout",
     "output_type": "stream",
     "text": [
      "  hour_of_day cash_type money         coffee_name Time_of_Day Weekday\n",
      "1          10      card  38.7               Latte     Morning     Fri\n",
      "2          12      card  38.7       Hot Chocolate   Afternoon     Fri\n",
      "3          12      card  38.7       Hot Chocolate   Afternoon     Fri\n",
      "4          13      card  28.9           Americano   Afternoon     Fri\n",
      "5          13      card  38.7               Latte   Afternoon     Fri\n",
      "6          15      card  33.8 Americano with Milk   Afternoon     Fri\n",
      "  Month_name Weekdaysort Monthsort       Date            Time\n",
      "1        Mar           5         3 2024-03-01 10:15:50.520000\n",
      "2        Mar           5         3 2024-03-01 12:19:22.539000\n",
      "3        Mar           5         3 2024-03-01 12:20:18.089000\n",
      "4        Mar           5         3 2024-03-01 13:46:33.006000\n",
      "5        Mar           5         3 2024-03-01 13:48:14.626000\n",
      "6        Mar           5         3 2024-03-01 15:39:47.726000\n"
     ]
    }
   ],
   "source": [
    "%%R\n",
    "head(df)"
   ]
  },
  {
   "cell_type": "code",
   "execution_count": null,
   "id": "363763c6-b3cc-4af5-8c47-7d1db1b65fcc",
   "metadata": {},
   "outputs": [],
   "source": []
  }
 ],
 "metadata": {
  "kernelspec": {
   "display_name": "Python 3",
   "language": "python",
   "name": "python3"
  },
  "language_info": {
   "codemirror_mode": {
    "name": "ipython",
    "version": 3
   },
   "file_extension": ".py",
   "mimetype": "text/x-python",
   "name": "python",
   "nbconvert_exporter": "python",
   "pygments_lexer": "ipython3",
   "version": "3.8.0"
  }
 },
 "nbformat": 4,
 "nbformat_minor": 5
}
