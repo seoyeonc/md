{
  "cells": [
    {
      "cell_type": "markdown",
      "metadata": {},
      "source": [
        "# \\[Kaggle\\] Coffee Sales Visuzlization\n",
        "\n",
        "SEOYEON CHOI  \n",
        "2025-09-04\n",
        "\n",
        "# Reference\n",
        "\n",
        "-   [link](https://www.kaggle.com/datasets/navjotkaushal/coffee-sales-dataset)\n",
        "-   [ggplottop50](https://r-statistics.co/Top50-Ggplot2-Visualizations-MasterList-R-Code.html)"
      ],
      "id": "98760d90-41f7-4908-9bb2-d8eb5c3bad5a"
    },
    {
      "cell_type": "code",
      "execution_count": 1,
      "metadata": {},
      "outputs": [],
      "source": [
        "import rpy2"
      ],
      "id": "f86e6f8c-f694-4165-abc0-65689e6be510"
    },
    {
      "cell_type": "code",
      "execution_count": 2,
      "metadata": {},
      "outputs": [],
      "source": [
        "%load_ext rpy2.ipython"
      ],
      "id": "656ebb05-df8a-4b88-8bc3-6e80ae2485bd"
    },
    {
      "cell_type": "code",
      "execution_count": 3,
      "metadata": {},
      "outputs": [],
      "source": [
        "%%R\n",
        "df <- read.csv(\"../../../delete/Coffe_sales.csv\") "
      ],
      "id": "2e5029cd-fbaa-43f3-8424-f13e344c227f"
    },
    {
      "cell_type": "code",
      "execution_count": 4,
      "metadata": {},
      "outputs": [
        {
          "output_type": "stream",
          "name": "stdout",
          "text": [
            "  hour_of_day cash_type money         coffee_name Time_of_Day Weekday\n",
            "1          10      card  38.7               Latte     Morning     Fri\n",
            "2          12      card  38.7       Hot Chocolate   Afternoon     Fri\n",
            "3          12      card  38.7       Hot Chocolate   Afternoon     Fri\n",
            "4          13      card  28.9           Americano   Afternoon     Fri\n",
            "5          13      card  38.7               Latte   Afternoon     Fri\n",
            "6          15      card  33.8 Americano with Milk   Afternoon     Fri\n",
            "  Month_name Weekdaysort Monthsort       Date            Time\n",
            "1        Mar           5         3 2024-03-01 10:15:50.520000\n",
            "2        Mar           5         3 2024-03-01 12:19:22.539000\n",
            "3        Mar           5         3 2024-03-01 12:20:18.089000\n",
            "4        Mar           5         3 2024-03-01 13:46:33.006000\n",
            "5        Mar           5         3 2024-03-01 13:48:14.626000\n",
            "6        Mar           5         3 2024-03-01 15:39:47.726000"
          ]
        }
      ],
      "source": [
        "%%R\n",
        "head(df)"
      ],
      "id": "75a7c20c-d339-4a78-a5f0-674e34e6585d"
    }
  ],
  "nbformat": 4,
  "nbformat_minor": 5,
  "metadata": {
    "kernelspec": {
      "name": "python3",
      "display_name": "Python 3",
      "language": "python"
    },
    "language_info": {
      "name": "python",
      "codemirror_mode": {
        "name": "ipython",
        "version": "3"
      },
      "file_extension": ".py",
      "mimetype": "text/x-python",
      "nbconvert_exporter": "python",
      "pygments_lexer": "ipython3",
      "version": "3.8.0"
    }
  }
}