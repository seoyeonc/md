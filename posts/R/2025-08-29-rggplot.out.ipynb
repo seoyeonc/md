{
  "cells": [
    {
      "cell_type": "markdown",
      "metadata": {},
      "source": [
        "# R ggplot\n",
        "\n",
        "SEOYEON CHOI  \n",
        "2025-08-29"
      ],
      "id": "b7db16f6-253c-4c86-b6f3-21d1ae926b73"
    }
  ],
  "nbformat": 4,
  "nbformat_minor": 5,
  "metadata": {
    "kernelspec": {
      "name": "ir",
      "display_name": "R",
      "language": "R"
    },
    "language_info": {
      "name": ""
    }
  }
}