{
  "cells": [
    {
      "cell_type": "markdown",
      "metadata": {},
      "source": [
        "# R ggplot\n",
        "\n",
        "SEOYEON CHOI  \n",
        "2025-08-29"
      ],
      "id": "52741f9d-5963-461c-a79c-1bbbf98fd56f"
    }
  ],
  "nbformat": 4,
  "nbformat_minor": 5,
  "metadata": {
    "kernelspec": {
      "name": "ir",
      "display_name": "R",
      "language": "R"
    },
    "language_info": {
      "name": ""
    }
  }
}