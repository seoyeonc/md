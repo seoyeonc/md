{
 "cells": [
  {
   "cell_type": "raw",
   "id": "c9101f58-e9e4-4a2b-a9c7-438ce59af9eb",
   "metadata": {
    "id": "cac470df-29e7-4148-9bbd-d8b9a32fa570",
    "tags": []
   },
   "source": [
    "---\n",
    "title: \"R ggplot\"\n",
    "author: \"SEOYEON CHOI\"\n",
    "date: \"2025-08-29\"\n",
    "---"
   ]
  },
  {
   "cell_type": "code",
   "execution_count": null,
   "id": "62c77f9b-372b-4454-bad7-9560ac2911dd",
   "metadata": {},
   "outputs": [],
   "source": []
  }
 ],
 "metadata": {
  "kernelspec": {
   "display_name": "R",
   "language": "R",
   "name": "ir"
  },
  "language_info": {
   "name": ""
  }
 },
 "nbformat": 4,
 "nbformat_minor": 5
}
