{
  "cells": [
    {
      "cell_type": "markdown",
      "metadata": {},
      "source": [
        "# Theoritical Statistics Mid term\n",
        "\n",
        "SEOYEON CHOI  \n",
        "2023-01-15\n",
        "\n",
        "> 중간고사\n",
        "\n",
        "# 1.\n",
        "\n",
        "$X_1, \\dots , X_n$이 $N(\\mu, \\sigma^2)$( 단, $\\mu$는 그 값이 알려져\n",
        "있음)로부터의 랜덤표본이다.\n",
        "\n",
        "$\\sigma^2$의 추정량으로\n",
        "$T_1(X) = \\frac{1}{n}\\sum^n_{i=1}(X_i - \\mu)^2$과\n",
        "$T_2(X) = \\frac{1}{n-1}\\sum^n_{i=1}(X_i - \\bar{X})^2$을 고려하고 있다.\n",
        "다음에 답하시오.\n",
        "\n",
        "$\\star$\n",
        "\n",
        "$\\frac{n T_1(X)}{\\sigma^2} \\sim \\chi^2 (n)$,\n",
        "$\\frac{(n-1) T_2(X))}{\\sigma^2} \\sim \\chi^2 (n-1)$\n",
        "\n",
        "$E(\\frac{n T_1(X)}{\\sigma^2}) = n$\n",
        "\n",
        "$\\therefore E(T_1(X)) = \\sigma^2$\n",
        "\n",
        "$E(\\frac{(n-1) T_2(X)}{\\sigma^2}) = n-1$\n",
        "\n",
        "$\\therefore E(T_2(X)) = \\sigma^2$\n",
        "\n",
        "$V(\\frac{n T_1(X)}{\\sigma^2}) = \\frac{n^2}{\\sigma^4}V(T_1(X)) = 2n$\n",
        "\n",
        "$\\therefore V(T_1(X)) = \\frac{2\\sigma^4}{n}$\n",
        "\n",
        "$V(\\frac{(n-1) T_2(X)}{\\sigma^2}) = \\frac{(n-1)^2}{\\sigma^4}V(T_2(X)) = 2(n-1)$\n",
        "\n",
        "$\\therefore V(T_2(X))= \\frac{2\\sigma^4}{n-1}$\n",
        "\n",
        "## (a)\n",
        "\n",
        "$T_1(X)$과 $T_2(X)$의 기댓값을 각각 구하시오.\n",
        "\n",
        "**answer**\n",
        "\n",
        "`-` $E(T_1(X))$\n",
        "\n",
        "$= E(\\frac{1}{n}\\sum^n_{i=1}(X_i - \\mu)^2) = \\frac{E((X-\\mu)^2)}{n} = \\frac{n\\sigma^2}{n} = \\sigma^2$\n",
        "\n",
        "`-` $E(T_2(X))$\n",
        "\n",
        "$= E(\\frac{1}{n-1}\\sum^n_{i=1}(X_i - \\bar{X})^2)$\n",
        "\n",
        "$\\star$\n",
        "\n",
        "$\\sum(X-\\mu)^2 = \\sum(X - \\bar{X} + \\bar{X} - \\mu)^2$\n",
        "\n",
        "$= \\sum((X-\\bar{X})^2 + (\\bar{X} - \\mu)^2 + 2(X-\\bar{X})(\\bar{X}-\\mu))$\n",
        "\n",
        "$= \\sum(X - \\bar{X})^2.+ n(\\bar{X} - \\mu)^2$\n",
        "\n",
        "$\\star$\n",
        "\n",
        "$= E(\\frac{\\sum(X-\\mu)^2 - n(\\bar{X}-\\mu)}{n-1}^2) = \\frac{1}{n-1}[n\\sigma^2 - n\\frac{\\sigma^2}{n}] = \\frac{(n-1)\\sigma^2}{n-1} = \\sigma^2$\n",
        "\n",
        "## (b)\n",
        "\n",
        "$T_1(X)$과 $T_2(X)$의 분산을 각각 구하시오.\n",
        "\n",
        "**answer**\n",
        "\n",
        "`-` $Var(T_1(X))$\n",
        "\n",
        "$= Var(\\frac{\\sigma^2}{n} \\frac{1}{\\sigma^2}\\sum^n_{i=1}(X_i - \\mu)^2)$\n",
        "\n",
        "$= \\frac{\\sigma^4}{n^2}2n$\n",
        "\n",
        "$= (\\frac{2\\sigma^4}{n})$\n",
        "\n",
        "$\\star$\n",
        "\n",
        "$V = \\sum(\\frac{X_i - \\mu}{\\sigma})^2 \\sim chi^2(n)$\n",
        "\n",
        "$\\star$\n",
        "\n",
        "`-` $Var(T_2(X))$\n",
        "\n",
        "$= Var(\\frac{1}{n-1}\\sum^n_{i=1}(X_i - \\bar{X})^2)$\n",
        "\n",
        "$\\star$\n",
        "\n",
        "$S_n^2 = \\sum^n_{i=1}\\frac{(X_i - \\bar{X}_n)^2}{n-1}$\n",
        "\n",
        "$\\frac{(n-1)S_n^2}{\\sigma^2} = \\frac{\\sum^n_{i=1}(X_i - \\bar{X})^2}{\\sigma^2} \\sim \\chi^2_{n-1}$\n",
        "\n",
        "$\\star$\n",
        "\n",
        "$= Var(\\frac{\\sigma^2}{n-1} \\times \\frac{(n-1)S^2}{\\sigma^2})$\n",
        "\n",
        "$\\frac{\\sigma^4}{(n-1)^2} \\times 2(n-1)$\n",
        "\n",
        "$= \\frac{2\\sigma^4}{n-1}$\n",
        "\n",
        "# 2.\n",
        "\n",
        "$POI(\\lambda)$ 분포로부터 랜덤표본 $X_1,X_2,\\dots, X_n$을 얻었다.\n",
        "\n",
        "## (a)\n",
        "\n",
        "$\\sqrt{n}(\\bar{X}^2_n - \\lambda^2)$의 극한 분포를 구하시오.\n",
        "\n",
        "**answer**\n",
        "\n",
        "Delta Method\n",
        "\n",
        "$\\sqrt{n}(\\bar{X}^2_n - \\mu^2) \\xrightarrow[]{d} N(0,4\\mu^2\\sigma^2)$\n",
        "단, $\\mu \\neq 0$\n",
        "\n",
        "$\\mu = \\lambda$, $\\sigma^2 = \\lambda$\n",
        "\n",
        "$\\sqrt{n}(\\bar{X}^2_n - \\lambda^2) \\xrightarrow[]{d} N(0,4\\lambda^4)$\n",
        "\n",
        "## (b)\n",
        "\n",
        "$E(\\sum^n_{i=1}a_i X_i) = \\lambda$가 되기 위한 $a_i$의 조건은 무엇인가?\n",
        "\n",
        "**answer**\n",
        "\n",
        "$E(\\sum^n_{i=1}a_iX_i) = \\lambda$\n",
        "\n",
        "$= E(a_1X_1 + a_2X_2 + \\dots a_nX_n) = a_1E(X_1) + a_2E(X_2) + \\dots + a_nE(X_n)$\n",
        "\n",
        "$= a_1\\lambda + a_2\\lambda + \\dots + a_n\\lambda = \\sum^n_{i=1}a_i \\lambda$\n",
        "\n",
        "$\\therefore \\sum^n_{i=1} a_i= 1$이어야 한다.\n",
        "\n",
        "## (c)\n",
        "\n",
        "$\\sum^n_{i=1}a_iX_i$의 분산을 구하시오.\n",
        "\n",
        "**answer**\n",
        "\n",
        "$Var(\\sum^n_{i=1}a_iX_i) = Var(a_1X_1 + a_2X_2 + \\dots + a_n X_n)$\n",
        "\n",
        "$= a_1^2\\lambda + a_2^2\\lambda + \\dots + a_n^2\\lambda = \\sum^n_{i=1} a_i^2 \\lambda$\n",
        "\n",
        "# 3.\n",
        "\n",
        "확률변수 $X$의 확률밀도함수가 $f_X(x) = 3e^{-3x}I(x>0)$일 떄,\n",
        "$Y = \\frac{1}{X}$의 확률밀도함수를 구하라.\n",
        "\n",
        "**answer**\n",
        "\n",
        "$f_Y(y) = -\\frac{3}{y^2} exp(-\\frac{3}{y})I(y>0)$\n",
        "\n",
        "$g(X) = \\frac{1}{X}$, $g^{-1} (Y) = \\frac{1}{y}$\n",
        "\n",
        "$= f_Y(y) = f_X(g^{-1}(y))|\\frac{dg^{-1}(y)}{dg}|$\n",
        "\n",
        "$= f_X(\\frac{1}{y})(\\frac{1}{y^2})$\n",
        "\n",
        "$= 3e^{-\\frac{3}{y}}(\\frac{1}{y^2})I(y>0)$\n",
        "\n",
        "$= \\frac{3}{y^2}e^{-\\frac{3}{y}}I(y>0)$\n",
        "\n",
        "# 4.\n",
        "\n",
        "$X_1,\\dots,X_{16}$이 $N(5,25)$로부터의 랜덤표본 이라고 하자. 이때\n",
        "$P(0<\\bar{X}_{16} <6,20<S^2_{16}<30)$을 계산하시오.(R함수 이용)\n",
        "\n",
        "**answer**\n",
        "\n",
        "$\\bar{X}_{16} \\sim N(5,\\frac{25}{16})$\n",
        "\n",
        "$\\frac{\\bar{X}_{16} - 5}{\\sqrt{25/16}} \\sim N(0,1)$\n",
        "\n",
        "$\\frac{15 S^2_{16}}{25} \\sim \\chi^2_{15}$\n",
        "\n",
        "$P(0 < \\bar{X}_{16} < 6) = P(\\frac{0-5}{\\sqrt{25/16}} < \\frac{\\bar{X}_{16} - 5}{\\sqrt{25/16}} < \\frac{6-5}{\\sqrt{25/16}}) = P(-4 < Z < 0.8)$"
      ],
      "id": "1202f5e7-a3ec-4857-820e-b5ce7331c762"
    },
    {
      "cell_type": "code",
      "execution_count": 7,
      "metadata": {},
      "outputs": [
        {
          "output_type": "display_data",
          "metadata": {},
          "data": {
            "text/html": [
              "3.16712418331199e-05"
            ]
          }
        }
      ],
      "source": [
        "pnorm(-4,0,1)"
      ],
      "id": "8deea66e-7275-4e61-b8f1-d7b480d90a90"
    },
    {
      "cell_type": "code",
      "execution_count": 5,
      "metadata": {},
      "outputs": [
        {
          "output_type": "display_data",
          "metadata": {},
          "data": {
            "text/html": [
              "0.788144601416603"
            ]
          }
        }
      ],
      "source": [
        "pnorm(0.8,0,1)"
      ],
      "id": "3a3d2156-bad3-43f7-b0eb-3c2ef94edef4"
    },
    {
      "cell_type": "code",
      "execution_count": 8,
      "metadata": {},
      "outputs": [
        {
          "output_type": "display_data",
          "metadata": {},
          "data": {
            "text/html": [
              "0.78811293017477"
            ]
          }
        }
      ],
      "source": [
        "pnorm(0.8,0,1) - pnorm(-4,0,1)"
      ],
      "id": "0c3b37cb-3e3f-4568-9bb2-437b350b5f55"
    },
    {
      "cell_type": "markdown",
      "metadata": {},
      "source": [
        "$P(20 < S^2_{16} < 30) = P(\\frac{15 \\times 20}{25} < \\frac{15 S^2_{16}}{25} < \\frac{15 \\times 30}{25})$"
      ],
      "id": "6fcb455c-75c3-4b2f-b139-81dab5b1fc58"
    },
    {
      "cell_type": "code",
      "execution_count": 14,
      "metadata": {},
      "outputs": [
        {
          "output_type": "display_data",
          "metadata": {},
          "data": {
            "text/html": [
              "0.737334439327678"
            ]
          }
        }
      ],
      "source": [
        "pchisq(18,15)"
      ],
      "id": "d9e9fa96-37fa-4573-aa6a-bb9647b37165"
    },
    {
      "cell_type": "code",
      "execution_count": 15,
      "metadata": {},
      "outputs": [
        {
          "output_type": "display_data",
          "metadata": {},
          "data": {
            "text/html": [
              "0.320970942909585"
            ]
          }
        }
      ],
      "source": [
        "pchisq(12,15)"
      ],
      "id": "dea70652-e884-47f2-aed8-b8ab876a7645"
    },
    {
      "cell_type": "code",
      "execution_count": 16,
      "metadata": {},
      "outputs": [
        {
          "output_type": "display_data",
          "metadata": {},
          "data": {
            "text/html": [
              "0.416363496418093"
            ]
          }
        }
      ],
      "source": [
        "pchisq(18,15) - pchisq(12,15)"
      ],
      "id": "f85501cc-07f3-488b-a669-33267bb8a213"
    },
    {
      "cell_type": "markdown",
      "metadata": {},
      "source": [
        "$P(0<\\bar{X}_{16} <6,20<S^2_{16}<30)$"
      ],
      "id": "0dcb8cb4-eb84-4ebc-b220-f12843187db4"
    },
    {
      "cell_type": "code",
      "execution_count": 18,
      "metadata": {},
      "outputs": [
        {
          "output_type": "display_data",
          "metadata": {},
          "data": {
            "text/html": [
              "0.416337122920122"
            ]
          }
        }
      ],
      "source": [
        "(pnorm(4,0,1) - pnorm(-4,0,1)) * (pchisq(18,15) - pchisq(12,15))"
      ],
      "id": "a17df5bf-eb8b-4017-8c97-e88f962d72fb"
    },
    {
      "cell_type": "markdown",
      "metadata": {},
      "source": [
        "# 5.\n",
        "\n",
        "확률변수 $X$와 $Y$의 결함확률밀도함수가 $f(x,y) = 4I(0<x<1,1<y<2x)$일\n",
        "때, 조건부 기댓값 $E(Y|X=x)$을 구하시오.\n",
        "\n",
        "**answer**\n",
        "\n",
        "$E(Y|X=x) = \\int^{\\infty}_{-\\infty} y f_{Y|X=x} (y) dy = \\int^{\\infty}_{-\\infty} y \\frac{f(X,y)}{f_X(X)}dy$\n",
        "\n",
        "$\\star$\n",
        "\n",
        "$f_X(X) = \\int(x,y)dy = \\int^{\\infty}_{-\\infty} 4 I (0<x<1,1<y<2x)dy$\n",
        "\n",
        "$= 4 I (0<x<1)\\int_{-\\infty<y<\\infty,1<y<2x}I(1<y<2x)dy$\n",
        "\n",
        "$= 4 I (0<x<1)\\int^{2x}_1 dy$\n",
        "\n",
        "$= 4I(0<x<1)[y]^{2x}_1$\n",
        "\n",
        "$= 4(2x-1)I(0<x<1)$\n",
        "\n",
        "$\\star$\n",
        "\n",
        "$= \\int^{\\infty}_{-\\infty} y \\frac{4I(0<x<1,1<y<2x)}{4(2x-1)I(0<x<1)} dy$\n",
        "\n",
        "$= \\int_{-\\infty<y<\\infty,1<y<2x} y \\frac{I(0<x<1)}{2x-1}dy$\n",
        "\n",
        "$= \\frac{I(0<x<1)}{2x-1} \\int^{2x}_1 y dy$\n",
        "\n",
        "$= \\frac{I(0<x<1)}{2x-1} [\\frac{1}{2}y^2]^{2x}_1$\n",
        "\n",
        "$= \\frac{I(0<x<1)}{2x-1} (\\frac{1}{2}(4x^2-1))$\n",
        "\n",
        "$= \\frac{2x+1}{2}I(0<x<1)$\n",
        "\n",
        "# 6.\n",
        "\n",
        "$X_1, \\dots, X_4$는 $Ber(p)$분포로부터의 랜덤표본이다.\n",
        "\n",
        "## (a)\n",
        "\n",
        "이 랜덤표본의 결합확률밀도함수를 기술하시오.\n",
        "\n",
        "**answer**\n",
        "\n",
        "$f(X_1)f(X_2)f(X_3)f(X_4)$\n",
        "\n",
        "$= (1-p)^{1-X_1}p^{X_1}(1-p)^{1-X_2}p^{X_2}(1-p)^{1-X_3}p^{X_3}(1-p)^{1-X_4}p^{X_4}$\n",
        "\n",
        "$= (1-p)^{4-X_1-X_2-X_3-X_4} p^{X_1+X_2+X_3+X_4}$\n",
        "\n",
        "## (b)\n",
        "\n",
        "$X_1(1-X_2)$의 기댓값을 구하시오.\n",
        "\n",
        "**answer**\n",
        "\n",
        "$E(X_1(1-X_2))$\n",
        "\n",
        "$= E(X_1 - X_1X_2) = E(X_1) - E(X_1)E(X_2)$\n",
        "\n",
        "$= p - p^2 = p(1-p)$\n",
        "\n",
        "## (c)\n",
        "\n",
        "$E[X_1(1-X_2)|\\sum^4_{i=1}X_i = t]$을 구하시오.\n",
        "\n",
        "**answer**\n",
        "\n",
        "$\\frac{p(1-p)}{4p} = \\frac{1-p}{4}$\n",
        "\n",
        "## (d)\n",
        "\n",
        "$E[(\\frac{d}{dp}log p^X (1-p)^{1-p})^2]$을 구하시오.\n",
        "\n",
        "**answer**\n",
        "\n",
        "$E[(\\frac{d}{dp} log p^x (1-p)^{1-X})^2]$\n",
        "\n",
        "$= E((\\frac{d}{dp}(X log p - (1-X) log(1-p)))^2)$\n",
        "\n",
        "$= E((\\frac{X}{p} - \\frac{1-X}{1-p})^2)$\n",
        "\n",
        "$= E((\\frac{X-Xp - p + pX}{p(1-p)})^2)$\n",
        "\n",
        "$= E((\\frac{X-p}{p(1-p)})^2)$\n",
        "\n",
        "$= \\frac{1}{p^2(1-p)^2}(E(X^2)-p^2)$\n",
        "\n",
        "$= \\frac{p-p^2+p^2+p^2}{p^2(1-p)^2} = \\frac{p(1-p)}{p^2(1-p)^2} = \\frac{1}{p(1-p)}$"
      ],
      "id": "584e9783-d7e2-475a-a48e-f9eac930a5bc"
    }
  ],
  "nbformat": 4,
  "nbformat_minor": 5,
  "metadata": {
    "kernelspec": {
      "name": "ir",
      "display_name": "R",
      "language": "R"
    },
    "language_info": {
      "name": "R",
      "codemirror_mode": "r",
      "file_extension": ".r",
      "mimetype": "text/x-r-source",
      "pygments_lexer": "r",
      "version": "4.1.2"
    }
  }
}