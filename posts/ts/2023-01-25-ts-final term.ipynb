{
 "cells": [
  {
   "cell_type": "raw",
   "id": "f4de72e0-e689-460f-a807-ce7e14379890",
   "metadata": {
    "id": "cac470df-29e7-4148-9bbd-d8b9a32fa570",
    "tags": []
   },
   "source": [
    "---\n",
    "title: \"Theoritical Statistics Final term\"\n",
    "author: \"SEOYEON CHOI\"\n",
    "date: \"2023-01-26\"\n",
    "categories:\n",
    "  - Theoritical Statistics\n",
    "---"
   ]
  },
  {
   "cell_type": "markdown",
   "id": "3f1aec7b-2804-47a6-a517-23ef206a349c",
   "metadata": {},
   "source": [
    "> Final term"
   ]
  },
  {
   "cell_type": "markdown",
   "id": "5fbb7f70-6a20-4387-b55b-e702ef33b466",
   "metadata": {},
   "source": [
    "# 1."
   ]
  },
  {
   "cell_type": "markdown",
   "id": "11a0de84-2578-4467-8d19-87311b3148f9",
   "metadata": {},
   "source": [
    "모수 $\\theta$에 대한 서로 독립인 비편향 추정량 $\\hat{\\theta}_1$과 $\\hat{\\theta}_2$이 존재하며 $Var(\\hat{\\theta}_i) = \\sigma^2_i, i=1,2$이라고 한다. 이를 이용하여 새로운 추정량 $\\hat{\\theta}_{a_1,a_2} = a_1\\hat{\\theta}_1 + a_2\\hat{\\theta}_2$를 정의할 때 다음에 답하시오."
   ]
  },
  {
   "cell_type": "markdown",
   "id": "ee1ae0e1-ebdf-4cfd-91a0-4c7333fc8c71",
   "metadata": {},
   "source": [
    "## (a)"
   ]
  },
  {
   "cell_type": "markdown",
   "id": "6e9d97d0-7ce0-4955-9a5c-555bfa65d35b",
   "metadata": {},
   "source": [
    "$\\hat{\\theta}_{a_1,a_2}$이 비편향추정량이 될 $a_1$과 $a_2$의 조건을 구하시오"
   ]
  },
  {
   "cell_type": "markdown",
   "id": "64a6674d-611b-4079-a2a4-933ea647c431",
   "metadata": {},
   "source": [
    "**answer**"
   ]
  },
  {
   "cell_type": "markdown",
   "id": "8cc756b8-1710-4250-b5a5-ac7f697bb923",
   "metadata": {},
   "source": [
    "비편향 추정량 $\\theta_1$, $\\theta_2$, $E(\\hat{\\theta}_1) = \\bar{\\theta}$, $E(\\hat{\\theta}_2) = \\bar{\\theta}$\n",
    "\n",
    "$E(\\hat{\\theta}_{a_1,a_2}) = E(a_1\\hat{\\theta}_1 + a_2\\hat{\\theta}_2) = a_1E(\\hat{\\theta}_1) + a_2E(\\hat{\\theta}_2) = a_1\\bar{\\theta} + a_2\\bar{\\theta} = \\bar{\\theta}(a_1 + a_2)$\n",
    "\n",
    "$\\bar{\\theta} =  \\bar{\\theta}(a_1 + a_2)$, 즉, $a_1 + a_2 = 1$"
   ]
  },
  {
   "cell_type": "markdown",
   "id": "003b87a6-fbd7-411a-89b8-c5abb864db22",
   "metadata": {},
   "source": [
    "## (b)"
   ]
  },
  {
   "cell_type": "markdown",
   "id": "85976979-1ac5-4f1f-9315-14e550983e05",
   "metadata": {},
   "source": [
    "비편향추정량인 $\\hat{\\theta}_{a_1,a_2}$ 중에서 가장 작은 분산을 가지는 추정량을 구하시오."
   ]
  },
  {
   "cell_type": "markdown",
   "id": "225859eb-5f65-47c5-92ae-74b67981d0e1",
   "metadata": {},
   "source": [
    "**answer**"
   ]
  },
  {
   "cell_type": "markdown",
   "id": "7d16c3e6-ba75-485a-9f56-2b7fae561164",
   "metadata": {},
   "source": [
    "$Var(\\hat{\\theta}_1) = \\sigma^2_1$, $Var(\\hat{\\theta}_2) = \\sigma^2_2$\n",
    "\n",
    "$Var(\\hat{\\theta}_{a_1,a_2}) = Var(a_1\\hat{\\theta}_1 + a_2\\hat{\\theta}_2) = a_1^2 Var(\\hat{\\theta}_1) + a_2^2 Var(\\hat{\\theta}_2) = a_1^2 \\sigma^2_1 + a_2^2 \\sigma^2_2$"
   ]
  },
  {
   "cell_type": "markdown",
   "id": "3155435e-3784-478b-8185-84492530d9ec",
   "metadata": {},
   "source": [
    "# 2."
   ]
  },
  {
   "cell_type": "markdown",
   "id": "5cc1619c-f899-4e29-9b6d-9422697e2177",
   "metadata": {},
   "source": [
    "$X_1,X_2,\\dots,X_n$이 $Ber(p)$로부터의 랜덤표본이라고 하자. 모집단의 분포 $Ber(p)$의 분산인 $p(1-p)$을 추정하고자 한다."
   ]
  },
  {
   "cell_type": "markdown",
   "id": "cc2e88d5-05db-453b-9db9-1099c15363cf",
   "metadata": {},
   "source": [
    "## (a)"
   ]
  },
  {
   "cell_type": "markdown",
   "id": "f511198a-d9b3-4c05-8ef4-41200ebdd186",
   "metadata": {},
   "source": [
    "$p(1-p)$에 대한 비편향추정량의 크래머-라오 하한값을 구하시오."
   ]
  },
  {
   "cell_type": "markdown",
   "id": "c862cf17-d7d3-4a75-9db4-a0350175e4e5",
   "metadata": {},
   "source": [
    "**answer**"
   ]
  },
  {
   "cell_type": "markdown",
   "id": "8faa8844-f549-46cd-af4d-9bfa0db890f0",
   "metadata": {},
   "source": [
    "bias = $E(\\hat{p}(1-\\hat{p})) - p(1-p) = 0$\n",
    "\n",
    "$E(\\bar{X}) = np$, $Var(\\bar{X}) = np(1-p)$\n",
    "\n",
    "$E(\\hat{p}(1-\\hat{p})) = E(\\frac{\\bar{X}}{n}(1-\\frac{\\bar{X}}{n})) = E(\\frac{\\bar{X}}{n} - (\\frac{\\bar{X}}{n})^2) = p - p^2$\n",
    "\n",
    "$f(x) = p^x(1-p)^{1-x}$\n",
    "\n",
    "$logf(x) = xlogp + (1-x)log(1-p)$\n",
    "\n",
    "$\\frac{\\partial log f(x)}{\\partial p} = \\frac{x}{p} - \\frac{1-x}{1-p}$\n",
    "\n",
    "$\\frac{\\partial^2 log f(x)}{\\partial^2 p} = -\\frac{x}{p^2} - \\frac{1-x}{(1-p)^2}$\n",
    "\n",
    "$\\star I(\\theta) = E[(\\frac{\\partial}{\\partial \\theta} log f(C; \\theta))^2)]$\n",
    "\n",
    "$I(p) = -E(-\\frac{x}{p^2}-\\frac{1-x}{(1-p)^2}) = \\frac{1}{p} + \\frac{1}{1-p} = \\frac{1}{p(1-p)}$\n",
    "\n",
    "$CRLB = \\frac{g'(p)^2}{nI(p)} = \\frac{(1-2p)^2p(1-p)}{n}$\n",
    "\n",
    "$\\star g(p) = p(1-p)$, $g'(p) = 1-2p$"
   ]
  },
  {
   "cell_type": "markdown",
   "id": "765165eb-c9ce-4596-91c7-0169b8054373",
   "metadata": {},
   "source": [
    "## (b)"
   ]
  },
  {
   "cell_type": "markdown",
   "id": "89aa09ad-9262-4b9b-b46c-bfea7988ac7c",
   "metadata": {},
   "source": [
    "$X_1(1-X_2)$의 기댓값을 구하시오."
   ]
  },
  {
   "cell_type": "markdown",
   "id": "07aeae85-6fa7-4c01-8623-ceada06a78da",
   "metadata": {},
   "source": [
    "**answer**"
   ]
  },
  {
   "cell_type": "markdown",
   "id": "a73c9640-a40c-46d8-9c01-48c5395b44f6",
   "metadata": {},
   "source": [
    "$E(X_1(1-X_2)) = E(X_1 - X_1X_2) = E(X_1) - E(X_1X_2) = E(X_1) - E(X_1)E(X_2) = p - p^2 = p(1- p)$"
   ]
  },
  {
   "cell_type": "markdown",
   "id": "881aa30d-0d58-4630-8c89-1821b42bc882",
   "metadata": {},
   "source": [
    "## (c)"
   ]
  },
  {
   "cell_type": "markdown",
   "id": "1f8994c2-0cd9-49cb-9690-742ff3c6ec61",
   "metadata": {},
   "source": [
    "$p(1-p)$에 대한 최소분산 비편향 추정량을 구하시오."
   ]
  },
  {
   "cell_type": "markdown",
   "id": "920ae38b-0df2-4c8d-8abf-6ae298d6c041",
   "metadata": {},
   "source": [
    "**answer**"
   ]
  },
  {
   "cell_type": "markdown",
   "id": "ad7480ac-c52d-4153-a786-fdd9683ff864",
   "metadata": {},
   "source": [
    "최소분산비편향추정량 MVUE 조건\n",
    "\n",
    "1. 비편향 추정량\n",
    "\n",
    "- bias = $E(\\hat{p}(1-\\hat{p})) - p(1-p) = 0$\n",
    "\n",
    "- $E(\\bar{X}) = np$, $Var(\\bar{X}) = np(1-p)$\n",
    "\n",
    "- $E(\\hat{p}(1-\\hat{p})) = E(\\frac{\\bar{X}}{n}(1-\\frac{\\bar{X}}{n})) = E(\\frac{\\bar{X}}{n} - (\\frac{\\bar{X}}{n})^2) = p - p^2$\n",
    "\n",
    "2. 가장 작은 분산\n",
    "\n",
    "- $Var(g(\\theta)) = \\frac{1}{nI(\\theta)}$일 때 가장 작은 분산을 갖는다.\n",
    "\n",
    "- 즉, $\\frac{1}{nI(p)} = \\frac{p(1-p)}{n}$일 때, 가장 작은 분산을 갖는다.\n",
    "\n",
    "- $Var(\\hat{p}(1-\\hat{p})) = Var(\\frac{\\bar{X}}{n}(1-\\frac{\\bar{X}}{n})) = Var(\\frac{\\bar{X}}{n} - (\\frac{\\bar{X}}{n})^2) = \\frac{p}{n} -\\frac{p^2}{n}$"
   ]
  },
  {
   "cell_type": "markdown",
   "id": "341417cd-4978-45d8-bd86-d318f0c37ebf",
   "metadata": {},
   "source": [
    "## (d)"
   ]
  },
  {
   "cell_type": "markdown",
   "id": "2c2750aa-cab1-4649-900c-2b292d7dd163",
   "metadata": {},
   "source": [
    "$p(1-p)$에 대한 적률추정량을 구하시오."
   ]
  },
  {
   "cell_type": "markdown",
   "id": "e576dc82-4a02-485c-a56e-99b164763490",
   "metadata": {},
   "source": [
    "**answer**"
   ]
  },
  {
   "cell_type": "markdown",
   "id": "c158f9de-2342-488a-ae1e-f051b3941846",
   "metadata": {},
   "source": [
    "$M'_t = \\frac{\\bar{X}}{n}(1-\\frac{\\bar{X}}{n}) = \\mu_1(p(1-p)) = p(1-p)$"
   ]
  },
  {
   "cell_type": "markdown",
   "id": "0de90833-4be9-4073-b005-64b0fde32978",
   "metadata": {},
   "source": [
    "## (e)"
   ]
  },
  {
   "cell_type": "markdown",
   "id": "2edd09b9-4d9b-4737-85fd-f5ff66edbf2a",
   "metadata": {},
   "source": [
    "$p(1-p)$에 대한 최대가능도추정량을 구하시오."
   ]
  },
  {
   "cell_type": "markdown",
   "id": "aab47b86-e1d4-4909-aa92-b306d0d3d5ec",
   "metadata": {},
   "source": [
    "**answer**"
   ]
  },
  {
   "cell_type": "markdown",
   "id": "0d206309-b133-4331-a344-e568efdc4403",
   "metadata": {},
   "source": []
  },
  {
   "cell_type": "markdown",
   "id": "c8848b30-c3e9-4569-b17d-0a2a6ff044a3",
   "metadata": {},
   "source": [
    "# 3."
   ]
  },
  {
   "cell_type": "markdown",
   "id": "a89c32af-323c-4f19-a00e-8b93c35b24f2",
   "metadata": {},
   "source": [
    "다음 분포를 따르는\n",
    "\n",
    "$$f(x;\\theta) = \\theta exp (-\\theta x) I (x>0)$$\n",
    "\n",
    "모집단으로부터의 랜덤표본 $X_1,\\dots,X_n$을 이용하여 $\\theta$에 대한 신뢰구간을 구하고, 다음 가설\n",
    "\n",
    "$$H_0 : \\theta = 2 \\text{ vs } H_1 : \\theta \\neq 2$$\n",
    "\n",
    "을 검정하고자 한다. 다음에 답하시오."
   ]
  },
  {
   "cell_type": "markdown",
   "id": "6357fc61-7031-417e-8f41-9fe463afbf17",
   "metadata": {},
   "source": [
    "## (a)"
   ]
  },
  {
   "cell_type": "markdown",
   "id": "c1c52dac-b5a9-44c6-b3a9-1fbfb1617f03",
   "metadata": {},
   "source": [
    "$\\theta$에 대한 적절한 추축변량을 구하고, 해당 추축변량의 분포를 명시하시오."
   ]
  },
  {
   "cell_type": "markdown",
   "id": "7c462c9a-2a2d-4ddf-bdb5-122143221379",
   "metadata": {},
   "source": [
    "**answer**"
   ]
  },
  {
   "cell_type": "markdown",
   "id": "cf99b75d-c396-4e3a-93f7-9c0d941c3cf9",
   "metadata": {},
   "source": [
    "## (b)"
   ]
  },
  {
   "cell_type": "markdown",
   "id": "1bb1774e-5771-4e59-8768-39d19b4f888e",
   "metadata": {},
   "source": [
    "$\\theta$에 대한 95%신뢰구간을 구하시오."
   ]
  },
  {
   "cell_type": "markdown",
   "id": "3f5e0db5-f0df-41b3-8bcb-ca9e6548c193",
   "metadata": {},
   "source": [
    "**answer**"
   ]
  },
  {
   "cell_type": "markdown",
   "id": "be636d99-af8a-4578-8a48-d7289b77cd3b",
   "metadata": {},
   "source": [
    "## (c)"
   ]
  },
  {
   "cell_type": "markdown",
   "id": "811ae854-a21c-419c-8ead-54877946f134",
   "metadata": {},
   "source": [
    "$P(X>1)$에 대한 95% 신뢰구간을 구하시오."
   ]
  },
  {
   "cell_type": "markdown",
   "id": "ef599ea4-1758-4856-b5ce-de1a205e1aa8",
   "metadata": {},
   "source": [
    "**answer**"
   ]
  },
  {
   "cell_type": "markdown",
   "id": "a2e55c78-2958-428b-a74b-83167d97f895",
   "metadata": {},
   "source": [
    "## (d)"
   ]
  },
  {
   "cell_type": "markdown",
   "id": "1749a295-63bb-4b2b-9499-a4d257cf5ea1",
   "metadata": {},
   "source": [
    "가설에서 고려하고 있는 $\\theta$의 전체 모수공간 $\\Omega$와 귀무가설 하에서의 모수공간 $\\Omega_0$을 구하시오."
   ]
  },
  {
   "cell_type": "markdown",
   "id": "bfd512c0-fd8b-4a30-abb4-c33e231fb542",
   "metadata": {},
   "source": [
    "**answer**"
   ]
  },
  {
   "cell_type": "markdown",
   "id": "db4626a9-b54a-4c07-8493-16caae132106",
   "metadata": {},
   "source": [
    "## (e)"
   ]
  },
  {
   "cell_type": "markdown",
   "id": "6afde031-ed65-478b-86bc-6d7cd0769785",
   "metadata": {},
   "source": [
    "$\\theta$의 가능도 함수를 기술하시오."
   ]
  },
  {
   "cell_type": "markdown",
   "id": "f45cec15-78f8-411e-ac38-60f5c7b9e0e3",
   "metadata": {},
   "source": [
    "**answer**"
   ]
  },
  {
   "cell_type": "markdown",
   "id": "b37b2195-e571-407d-8fa3-5efaa395f7ad",
   "metadata": {},
   "source": [
    "## (f)"
   ]
  },
  {
   "cell_type": "markdown",
   "id": "287977ad-a892-4eb9-9c16-e638b7c6fb7a",
   "metadata": {},
   "source": [
    "$\\theta$의 $\\Omega$에서의 최대가능도 추정량과 $\\Omega_0$에서의 최대가능도 추정량을 구하시오."
   ]
  },
  {
   "cell_type": "markdown",
   "id": "00bb5489-3e4c-498a-9c2a-2efe1bccd93c",
   "metadata": {},
   "source": [
    "**answer**"
   ]
  },
  {
   "cell_type": "markdown",
   "id": "0830f221-2813-48b9-87c2-883649e48b5c",
   "metadata": {},
   "source": [
    "## (g)"
   ]
  },
  {
   "cell_type": "markdown",
   "id": "44b1f22f-b0f2-41c4-b1b5-2bbc2189d809",
   "metadata": {},
   "source": [
    "일반화 가능도 비 $\\Lambda$을 구하시오."
   ]
  },
  {
   "cell_type": "markdown",
   "id": "1d7eb1ab-e8c8-48c0-ba64-b488e907d746",
   "metadata": {},
   "source": [
    "**answer**"
   ]
  },
  {
   "cell_type": "markdown",
   "id": "b3248ab5-2543-47d1-9334-6c18cec0a243",
   "metadata": {},
   "source": [
    "## (h)"
   ]
  },
  {
   "cell_type": "markdown",
   "id": "dee54db3-8679-49df-9bdf-24c417969858",
   "metadata": {},
   "source": [
    "유의수준 $\\alpha$인 가능도비 검정법의 기각역을 $\\chi^2$분포의 분위수를 사용하여 표현하시오."
   ]
  },
  {
   "cell_type": "markdown",
   "id": "59872016-d661-4ebe-9dd7-79591a82b380",
   "metadata": {},
   "source": [
    "**answer**"
   ]
  },
  {
   "cell_type": "markdown",
   "id": "e6d60ad9-f103-43f9-adca-52ab7f658630",
   "metadata": {},
   "source": [
    "# 4."
   ]
  },
  {
   "cell_type": "markdown",
   "id": "1d417779-6b33-4434-bdb8-87f9777ab11e",
   "metadata": {},
   "source": [
    "확률밀도한수가\n",
    "\n",
    "$$f(x;\\theta) = \\frac{1}{\\theta} I (0\\le x \\le \\theta)$$\n",
    "\n",
    "인 분포로부터 하나의 관찰값 $X$를 얻었다. 이 떄 가설\n",
    "\n",
    "$$H_0 : \\theta = 1 \\text{ vs } H_1 : \\theta = 2$$\n",
    "\n",
    "에 대한 기각역역을 $C = \\{x:x>0.8\\}$로 했을 때 제1종오류를 범할 확률과 검정력을 계산하시오."
   ]
  },
  {
   "cell_type": "markdown",
   "id": "402370eb-ef5c-498a-b31f-0aa2353daf26",
   "metadata": {},
   "source": [
    "**answer**"
   ]
  },
  {
   "cell_type": "markdown",
   "id": "065eddd0-b567-407d-b187-570392b6d9f9",
   "metadata": {},
   "source": [
    "# 5."
   ]
  },
  {
   "cell_type": "markdown",
   "id": "dbb6b628-f326-43c0-bf06-2ea204f86c22",
   "metadata": {},
   "source": [
    "$X_1, \\dots,X_n$을 $N(0,\\sigma^2)$으로부터의 랜덤표본이라고 하자"
   ]
  },
  {
   "cell_type": "markdown",
   "id": "7928a62a-ad73-43f2-98b1-ede952672b79",
   "metadata": {},
   "source": [
    "## (a)"
   ]
  },
  {
   "cell_type": "markdown",
   "id": "05b3de63-e54a-4ecb-8c71-d635436d6568",
   "metadata": {},
   "source": [
    "가설 $H_0:\\sigma^2 = 4$ vs $H_1: \\sigma^2 = 9$에 대한 최강력 검정의 기각역은\n",
    "\n",
    "$$C = \\{ (x_1,\\dots,x_n):\\sum^n_{i=1}x_i^2 \\ge c\\}$$\n",
    "\n",
    "의 꼴로 주어짐을 보이시오."
   ]
  },
  {
   "cell_type": "markdown",
   "id": "fd57496b-db09-4383-b2a9-4eaa3eacf7b6",
   "metadata": {},
   "source": [
    "**answer**"
   ]
  },
  {
   "cell_type": "markdown",
   "id": "7a72351d-6099-4a65-bdf6-4acbdd57a4b9",
   "metadata": {},
   "source": [
    "## (b)"
   ]
  },
  {
   "cell_type": "markdown",
   "id": "c58a6c50-d827-4cb1-a872-13bf4a9d908c",
   "metadata": {},
   "source": [
    "표본의 크기가 $n=20$일 떄 유의수준이 $\\alpha-0.05$이기 위한 상수 $c$의 값을 $\\chi^2$분포의 분위수를 사용하여 표현하시오."
   ]
  },
  {
   "cell_type": "markdown",
   "id": "d803972b-b129-473e-a997-647b8bead006",
   "metadata": {},
   "source": [
    "**answer**"
   ]
  },
  {
   "cell_type": "markdown",
   "id": "15aa34cf-3cc3-493e-b8b4-0470b8b596d5",
   "metadata": {},
   "source": [
    "## (c)"
   ]
  },
  {
   "cell_type": "markdown",
   "id": "768a2660-5056-4b05-84a4-40d40904cbb1",
   "metadata": {},
   "source": [
    "표본의 크기가 $n=20$일 때 (b)에서 찾은 기각역에 대한 제2종오류를 범할 확률을 구하시오."
   ]
  },
  {
   "cell_type": "markdown",
   "id": "85f8cc76-08c9-4a9e-903a-6c5b7c1018e3",
   "metadata": {},
   "source": [
    "**answer**"
   ]
  },
  {
   "cell_type": "markdown",
   "id": "0a133092-2da5-496e-a98f-d9df91b3bb70",
   "metadata": {},
   "source": [
    "# 6."
   ]
  },
  {
   "cell_type": "markdown",
   "id": "2040b7c8-cf05-4cfe-ace8-4289b5a6bfbe",
   "metadata": {},
   "source": [
    "$X_1,X_2,\\dots,X_n$이 $N(\\mu,\\sigma^2)$로부터 얻은 랜덤표본이라고 하자. 모평균 $\\mu$가 알려져 있지 않은 경우 $H_0 : \\sigma^2 = 4$ vs $H_1 : \\sigma^2 \\neq 4$을 검정하고자 한다."
   ]
  },
  {
   "cell_type": "markdown",
   "id": "45ef8ba1-3c40-4ba7-b2c3-4b2ac7ec390d",
   "metadata": {},
   "source": [
    "## (a)"
   ]
  },
  {
   "cell_type": "markdown",
   "id": "24c069e2-4336-4c3e-ac93-346adeaa79a0",
   "metadata": {},
   "source": [
    "적절한 추축변량을 이용하여 $\\sigma^2$에 대한 $100(1-\\alpha)%$ 신뢰구간을 구하시오."
   ]
  },
  {
   "cell_type": "markdown",
   "id": "6d57c754-39bc-4bc8-91b4-cf879fff692d",
   "metadata": {},
   "source": [
    "**answer**"
   ]
  },
  {
   "cell_type": "markdown",
   "id": "98df0d36-5479-4e9b-ae5d-c497f4a50f3c",
   "metadata": {},
   "source": [
    "## (b)"
   ]
  },
  {
   "cell_type": "markdown",
   "id": "fb03f5d4-f6ec-47d7-86e9-f98aa10f0d79",
   "metadata": {},
   "source": [
    "유의수준 $\\alpha$인 일반화 가능도비 검정 기각역을 구하시오."
   ]
  },
  {
   "cell_type": "markdown",
   "id": "076cff07-f462-49d6-805d-62ac5a3258d8",
   "metadata": {},
   "source": [
    "**answer**"
   ]
  },
  {
   "cell_type": "markdown",
   "id": "bc194065-5e7d-4fab-b5f0-8e966e7e04e8",
   "metadata": {},
   "source": [
    "## (c)"
   ]
  },
  {
   "cell_type": "markdown",
   "id": "54a889e0-ec41-453d-a9a0-67bdfc30394a",
   "metadata": {},
   "source": [
    "$n=10$이고 표본분산 $S^2$의 관측값은 $6$이라고 한다. (b)의 일반화 가능도비 검정법으로 유의확률 (p-value)을 구하시오."
   ]
  },
  {
   "cell_type": "markdown",
   "id": "4fabeb3a-d6b3-4ae1-b158-4dbfddd2ecdc",
   "metadata": {},
   "source": [
    "**answer**"
   ]
  },
  {
   "cell_type": "code",
   "execution_count": null,
   "id": "ad95708f-4dd7-4264-b3ed-d897622cff31",
   "metadata": {},
   "outputs": [],
   "source": []
  },
  {
   "cell_type": "code",
   "execution_count": null,
   "id": "3b5f4511-0dcc-4a26-8398-21dd0f4693e9",
   "metadata": {},
   "outputs": [],
   "source": []
  }
 ],
 "metadata": {
  "kernelspec": {
   "display_name": "Python 3 (ipykernel)",
   "language": "python",
   "name": "python3"
  },
  "language_info": {
   "codemirror_mode": {
    "name": "ipython",
    "version": 3
   },
   "file_extension": ".py",
   "mimetype": "text/x-python",
   "name": "python",
   "nbconvert_exporter": "python",
   "pygments_lexer": "ipython3",
   "version": "3.8.12"
  }
 },
 "nbformat": 4,
 "nbformat_minor": 5
}
