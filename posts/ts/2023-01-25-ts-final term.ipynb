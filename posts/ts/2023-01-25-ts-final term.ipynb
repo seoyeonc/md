{
 "cells": [
  {
   "cell_type": "raw",
   "id": "f4de72e0-e689-460f-a807-ce7e14379890",
   "metadata": {
    "id": "cac470df-29e7-4148-9bbd-d8b9a32fa570",
    "tags": []
   },
   "source": [
    "---\n",
    "title: \"Theoritical Statistics Final term\"\n",
    "author: \"SEOYEON CHOI\"\n",
    "date: \"2023-01-25\"\n",
    "categories:\n",
    "  - Theoritical Statistics\n",
    "---"
   ]
  },
  {
   "cell_type": "markdown",
   "id": "3f1aec7b-2804-47a6-a517-23ef206a349c",
   "metadata": {},
   "source": [
    "> Final term"
   ]
  },
  {
   "cell_type": "code",
   "execution_count": null,
   "id": "e9fb9d1b-9c42-4dff-a027-d92767050559",
   "metadata": {},
   "outputs": [],
   "source": []
  }
 ],
 "metadata": {
  "kernelspec": {
   "display_name": "Python 3 (ipykernel)",
   "language": "python",
   "name": "python3"
  },
  "language_info": {
   "codemirror_mode": {
    "name": "ipython",
    "version": 3
   },
   "file_extension": ".py",
   "mimetype": "text/x-python",
   "name": "python",
   "nbconvert_exporter": "python",
   "pygments_lexer": "ipython3",
   "version": "3.8.12"
  }
 },
 "nbformat": 4,
 "nbformat_minor": 5
}
