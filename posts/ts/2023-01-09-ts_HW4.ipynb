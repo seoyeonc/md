{
 "cells": [
  {
   "cell_type": "raw",
   "id": "51567ecc-c002-428b-8bc9-1629a34fc7e0",
   "metadata": {
    "id": "cac470df-29e7-4148-9bbd-d8b9a32fa570",
    "tags": []
   },
   "source": [
    "---\n",
    "title: \"Theoritical Statistics HW4\"\n",
    "author: \"SEOYEON CHOI\"\n",
    "date: \"2023-01-11\"\n",
    "categories:\n",
    "  - Theoritical Statistics\n",
    "---"
   ]
  },
  {
   "cell_type": "markdown",
   "id": "7f5770bc-0b1f-4051-99bf-2daf820e87ca",
   "metadata": {},
   "source": [
    "> 랜덤표본"
   ]
  },
  {
   "cell_type": "markdown",
   "id": "7f59b3b0-8707-4b11-8962-849c136e13a5",
   "metadata": {},
   "source": [
    "# 수업 과제_카이제곱 분포"
   ]
  },
  {
   "cell_type": "markdown",
   "id": "0fcf2d4f-1255-4222-8383-a127040fcf62",
   "metadata": {},
   "source": [
    "##  1."
   ]
  },
  {
   "cell_type": "markdown",
   "id": "7b62a90a-3c57-4ba8-b6f6-c8adba9b247a",
   "metadata": {},
   "source": [
    "$X_1 \\sim \\chi^2_m$, $X_2 \\sim \\chi^2_n$ 이고 서로 독립이면 $X_1 + X_2 \\sim \\chi^2_{m+n}$"
   ]
  },
  {
   "cell_type": "markdown",
   "id": "64011d67-e371-47d6-bbd7-55aa492eba9f",
   "metadata": {},
   "source": [
    "**answer**"
   ]
  },
  {
   "cell_type": "markdown",
   "id": "24484091-08cf-43b4-b4e6-ba076dcb11d0",
   "metadata": {},
   "source": [
    "$Y = X_1 + X_2$\n",
    "\n",
    "$M_Y(t) = M_{X_1 + X_2}(t) = M_{X_1}(t) \\times M_{X_2}(t) = (1-2t)^{-\\frac{m+n}{2}}$\n",
    "\n",
    "적률생성함수의 유일성에 의하여 $X_1 + X_2 \\sim \\chi^2_{m+n}$"
   ]
  },
  {
   "cell_type": "markdown",
   "id": "3cde4bad-8c7d-4e2d-af5c-0d222db9deeb",
   "metadata": {},
   "source": [
    "##  2."
   ]
  },
  {
   "cell_type": "markdown",
   "id": "567d76f9-91c6-4530-86ae-4d443e0ec55c",
   "metadata": {},
   "source": [
    "서로 독립인 $X_1$과 $X_2$에 대하여 $Y = X_1 + X_2$ 라고 할 떄 $Y \\sim \\chi^2_m$, $X_1 \\sim \\chi^2_n$이면 $X_2 \\sim \\chi^2_{m-n}$"
   ]
  },
  {
   "cell_type": "markdown",
   "id": "18fc23d7-4054-49e7-bf70-978117233c60",
   "metadata": {},
   "source": [
    "**answer**"
   ]
  },
  {
   "cell_type": "markdown",
   "id": "1fa2c199-0088-415a-8104-ba3047e512ea",
   "metadata": {},
   "source": [
    "$X_2 = Y - X_1$\n",
    "\n",
    "$M_Y (t) = (1-2t)^{\\frac{m}{2}}$\n",
    "\n",
    "$M_{X_1}(t) = (1-2t)^{-\\frac{n}{2}}$\n",
    "\n",
    "$M_{X_2}(t) = M_{Y-X_1}(t) = E(e^{(y-X_1)t}) = E(e^{Yt} \\times e^{-X_1t}) = \\frac{M_Y(t)}{M_{X_1}(t)} = (1-2t)^{-\\frac{m-n}{2}}$\n",
    "\n",
    "$\\therefore X_2 \\sim \\chi^2_{m-n}$"
   ]
  },
  {
   "cell_type": "markdown",
   "id": "0fb345ce-bc6c-45e7-a504-b39227a3d288",
   "metadata": {},
   "source": [
    "# 6."
   ]
  },
  {
   "cell_type": "markdown",
   "id": "406d0d36-a985-4ded-95a0-b19d5837a9ff",
   "metadata": {},
   "source": [
    "모분포 $N(0,25)$로부터 랜덤표본 $X_1,X_2, \\dots , X_5$를 얻었다고 할 때,"
   ]
  },
  {
   "cell_type": "markdown",
   "id": "f6332cdf-a797-44ec-94a1-f46bf862ee73",
   "metadata": {},
   "source": [
    "##  (1)"
   ]
  },
  {
   "cell_type": "markdown",
   "id": "bd4f4515-9ee0-40c5-9347-cd93e8bb71de",
   "metadata": {},
   "source": [
    "$P(\\bar{X}_5 < c) = 0.90$을 만족하는 상수 $c$값을 구하라."
   ]
  },
  {
   "cell_type": "markdown",
   "id": "b35f81b9-69b9-40a5-b492-477341aff783",
   "metadata": {},
   "source": [
    "**answer**"
   ]
  },
  {
   "cell_type": "markdown",
   "id": "b5a5d71b-8a88-4d28-b8c8-d5e1d255ff41",
   "metadata": {},
   "source": [
    "$\\bar{X}_5 \\sim N(0,5)$\n",
    "\n",
    "$P(\\bar{X}_t <c) = 0.90$\n",
    "\n",
    "$c = 2.8656$"
   ]
  },
  {
   "cell_type": "code",
   "execution_count": 1,
   "id": "77f59f8c-5fbc-47bd-816a-c308bc1dbe69",
   "metadata": {},
   "outputs": [
    {
     "data": {
      "text/html": [
       "2.865636417229"
      ],
      "text/latex": [
       "2.865636417229"
      ],
      "text/markdown": [
       "2.865636417229"
      ],
      "text/plain": [
       "[1] 2.865636"
      ]
     },
     "metadata": {},
     "output_type": "display_data"
    }
   ],
   "source": [
    "qnorm(0.9,0,1)*sqrt(5)"
   ]
  },
  {
   "cell_type": "markdown",
   "id": "0de96212-14b0-4820-b31d-5ea1863286cf",
   "metadata": {},
   "source": [
    "## (2)"
   ]
  },
  {
   "cell_type": "markdown",
   "id": "b1a1df58-dbe8-4263-84e4-91020acbaaa3",
   "metadata": {},
   "source": [
    "$P(\\frac{1}{5}\\sum^5_{i=1} X^2_i <c = 0.90$을 만족하는 상수 $c$값을 구하라."
   ]
  },
  {
   "cell_type": "markdown",
   "id": "49b0c5b5-de55-4b0f-af56-25fa81359472",
   "metadata": {},
   "source": [
    "**answer**"
   ]
  },
  {
   "cell_type": "markdown",
   "id": "4077aadd-eb4f-4dcc-bdb8-0abf6a12f3f8",
   "metadata": {},
   "source": [
    "$P(\\frac{1}{5} \\sum^5_{i=1} X^2_i <c) = 0.90$\n",
    "\n",
    "$\\star$\n",
    "\n",
    "$\\sum^5_{i=1} X^2_i \\sim \\chi^2_5$\n",
    "\n",
    "$\\frac{1}{5} \\sum^5_{i=1} X^2_i \\sim \\chi^2_1$\n",
    "\n",
    "$\\star$\n",
    "\n",
    "$E(\\frac{1}{5}\\sum^5_{i=1} X^2_i ) =\\frac{1}{5} \\times 5 = 1$\n",
    "\n",
    "$var(\\frac{1}{5}\\sum^5_{i=1} X^2_i) = 2$\n",
    "\n",
    "$\\therefore c = 2.7055$"
   ]
  },
  {
   "cell_type": "code",
   "execution_count": 3,
   "id": "51bd0b47-d360-4640-b172-39f1be844997",
   "metadata": {},
   "outputs": [
    {
     "data": {
      "text/html": [
       "2.70554345409542"
      ],
      "text/latex": [
       "2.70554345409542"
      ],
      "text/markdown": [
       "2.70554345409542"
      ],
      "text/plain": [
       "[1] 2.705543"
      ]
     },
     "metadata": {},
     "output_type": "display_data"
    }
   ],
   "source": [
    "qchisq(0.9,df=1)"
   ]
  },
  {
   "cell_type": "markdown",
   "id": "3180f381-e7f4-4038-a653-80036071a3aa",
   "metadata": {},
   "source": [
    "# 7."
   ]
  },
  {
   "cell_type": "markdown",
   "id": "2c65edf0-08b0-4544-b177-0f4752174d97",
   "metadata": {},
   "source": [
    "$X_1,X-2,\\dots,X_n$ 이 $N(\\mu,\\sigma^2)$로부터 구한 랜덤표본이라고 하자. \n",
    "\n",
    "이때 $\\frac{\\sum^n_{i=1}(X_i - \\bar{X}_n)^2}{n}$의 분산을 구하라."
   ]
  },
  {
   "cell_type": "markdown",
   "id": "7fc3d2af-a185-4599-a047-af2dde4a416d",
   "metadata": {},
   "source": [
    "**answer**"
   ]
  },
  {
   "cell_type": "markdown",
   "id": "de0cae85-801a-4d72-823e-cd4691433638",
   "metadata": {},
   "source": [
    "$S_n^2 = \\sum^n_{i=1}\\frac{(X_i - \\bar{X}_n)^2}{(n-1)}$\n",
    "\n",
    "$\\frac{(n-1)S_n^2}{\\sigma^2} = \\frac{\\sum^n_{i=1}(X_i - \\bar{X})^2}{\\sigma^2} \\sim \\chi^2_{n-1}$\n",
    "\n",
    "$var(\\frac{\\sum^n_{i=1}(X_i - \\bar{X})^2}{n}) = var(\\frac{\\sum^n_{i=1}(X_i - \\bar{X})^2}{\\sigma^2} \\times \\frac{\\sigma^2}{n}) = \\frac{\\sigma^4}{n^2} car(\\frac{\\sum^n_{i=1}(X_i - \\bar{X})^2}{\\sigma^2}) = \\frac{\\sigma^4}{n^2} \\times 2(n-1)$"
   ]
  },
  {
   "cell_type": "markdown",
   "id": "77a90d00-0ffd-4aaa-85a9-74342a73c7e8",
   "metadata": {},
   "source": [
    "# 12."
   ]
  },
  {
   "cell_type": "markdown",
   "id": "23da1eef-4ab1-444b-9445-09186aab74db",
   "metadata": {},
   "source": [
    "$X_1,X_2, \\dots, X_{10}$이 $N(\\mu,25)$으로부터 구한 랜덤표본이라고 하자,\n",
    "\n",
    "이떄 $P(4< \\frac{\\sum^{10}_{i=1}(X_i - \\bar{X}_{10})^2}{10} <14)$를 계산하라."
   ]
  },
  {
   "cell_type": "markdown",
   "id": "dea14b21-9f9f-4357-a090-403a67570a09",
   "metadata": {},
   "source": [
    "**answer**"
   ]
  },
  {
   "cell_type": "markdown",
   "id": "6fc5b19a-7b58-4314-9188-d0f084053229",
   "metadata": {},
   "source": [
    "$S_{10}^2 = \\frac{\\sum^{10}_{i=1} (X_i - \\bar{X}_{10})^2}{9}$, $\\frac{9S_{10}^2}{25} \\sim \\chi^2_9$\n",
    "\n",
    "$\\frac{\\sum^{10}_{i=1}(X_i - \\bar{X})^2}{10} = \\frac{9S^2_{10}}{10} = \\frac{9S^2_{10}}{25} \\times \\frac{25}{10}$\n",
    "\n",
    "$P(4< \\frac{\\sum^{10}_{i=1}(X_i - \\bar{X}_{10})^2}{10} <14)$\n",
    "\n",
    "$= P(4 \\times \\frac{10}{25} < \\frac{9 S^2_{10}}{25} < 14 \\times \\frac{10}{25})$\n",
    "\n",
    "$= P(\\frac{9S^2_{10}}{25} < 14 \\times \\frac{10}{25}) - P(\\frac{9S^2_{10}}{25} < 4 \\times \\frac{10}{25}) = 0.2171$"
   ]
  },
  {
   "cell_type": "code",
   "execution_count": 5,
   "id": "9ee95ab6-20d0-40c2-ae28-608c9104e302",
   "metadata": {},
   "outputs": [
    {
     "data": {
      "text/html": [
       "0.217146972939312"
      ],
      "text/latex": [
       "0.217146972939312"
      ],
      "text/markdown": [
       "0.217146972939312"
      ],
      "text/plain": [
       "[1] 0.217147"
      ]
     },
     "metadata": {},
     "output_type": "display_data"
    }
   ],
   "source": [
    "pchisq(14*10/25,df=9) - pchisq(4*10/25,df=9)"
   ]
  },
  {
   "cell_type": "markdown",
   "id": "e9856d28-ab1f-4738-a4f1-6fc6cb9871b6",
   "metadata": {},
   "source": [
    "# 13."
   ]
  },
  {
   "cell_type": "markdown",
   "id": "baa69fa6-f3a6-4bc5-af83-c0d5ef3962f2",
   "metadata": {},
   "source": [
    "$X_1,X_2,\\dots,X_{16}$이 $N(5,25)$으로부터 구한 랜덤표본이라고 하자.\n",
    "\n",
    "이때 $P(0<\\bar{X}_{16}<6,20<\\sum^{16}_{i=1}(\\frac{(X_i - \\bar{X}_{16})^2}{16} <30)$을 계산하라."
   ]
  },
  {
   "cell_type": "markdown",
   "id": "cc94501d-6960-4762-a231-63374129e0a9",
   "metadata": {},
   "source": [
    "**answer**"
   ]
  },
  {
   "cell_type": "markdown",
   "id": "c8bfa123-9f1c-4c4a-bf98-c38b7717f7cf",
   "metadata": {},
   "source": [
    "$\\bar{X}_{16} \\sim N(5,\\frac{25}{16})$\n",
    "\n",
    "$P(0<\\bar{X}_{16} < 6) = P(-4<\\frac{\\bar{X}_{16} - 5}{25/16} < 2) = 0.9772$"
   ]
  },
  {
   "cell_type": "code",
   "execution_count": 6,
   "id": "80b56557-f4ae-4011-a125-b0dbcc78ef8f",
   "metadata": {},
   "outputs": [
    {
     "data": {
      "text/html": [
       "0.977218196809988"
      ],
      "text/latex": [
       "0.977218196809988"
      ],
      "text/markdown": [
       "0.977218196809988"
      ],
      "text/plain": [
       "[1] 0.9772182"
      ]
     },
     "metadata": {},
     "output_type": "display_data"
    }
   ],
   "source": [
    "pnorm(2,0,1) - pnorm(-4,0,1)"
   ]
  },
  {
   "cell_type": "markdown",
   "id": "c16ae3a0-19c7-41de-8851-eba4f50cab14",
   "metadata": {},
   "source": [
    "$S^2_{16} = \\frac{\\sum^{16}_{i=1}(X_i - \\bar{X}_{16})^2}{15}$\n",
    "\n",
    "$\\frac{15S^2_{16}}{25} = \\frac{3S^2_{16}}{5} \\sim \\chi^2_{15}$\n",
    "\n",
    "$P(20<\\sum^{16}_{i=1}(\\frac{(X_i - \\bar{X}_{16})^2}{16} <30)$\n",
    "\n",
    "$= P(20 \\times \\frac{16}{25} < frac{(X_i - \\bar{X}_{16})^2}{25} < 30 \\times \\frac{16}{25})$\n",
    "\n",
    "$P(12.8)<\\chi^2_{15} <19.2) = 0.4129$"
   ]
  },
  {
   "cell_type": "code",
   "execution_count": 9,
   "id": "d8a99c88-36d0-47db-98bd-5c424cac5cea",
   "metadata": {},
   "outputs": [
    {
     "data": {
      "text/html": [
       "0.412929051104458"
      ],
      "text/latex": [
       "0.412929051104458"
      ],
      "text/markdown": [
       "0.412929051104458"
      ],
      "text/plain": [
       "[1] 0.4129291"
      ]
     },
     "metadata": {},
     "output_type": "display_data"
    }
   ],
   "source": [
    "pchisq(19.2,df=15) - pchisq(12.8,df=15)"
   ]
  },
  {
   "cell_type": "markdown",
   "id": "dd668f5b-9d8b-427e-83fb-07a317e9f6d9",
   "metadata": {},
   "source": [
    "$\\bar{X}_{16}$과 $\\sum^{16}{i=1}(X_i - \\bar{X}_{16})^2$은 독립\n",
    "\n",
    "$P(0<\\bar{X}_{16}<6,20<frac{(X_i - \\bar{X}_{16})^2}{16}<30) = 0.9772 \\times 0.4129 = 0.4035$"
   ]
  },
  {
   "cell_type": "code",
   "execution_count": 10,
   "id": "6d750d80-3bc4-4145-84f8-415ea67fd29f",
   "metadata": {},
   "outputs": [
    {
     "data": {
      "text/html": [
       "0.403521782730758"
      ],
      "text/latex": [
       "0.403521782730758"
      ],
      "text/markdown": [
       "0.403521782730758"
      ],
      "text/plain": [
       "[1] 0.4035218"
      ]
     },
     "metadata": {},
     "output_type": "display_data"
    }
   ],
   "source": [
    "(pnorm(2,0,1) - pnorm(-4,0,1)) * (pchisq(19.2,df=15) - pchisq(12.8,df=15))"
   ]
  },
  {
   "cell_type": "markdown",
   "id": "dd9fbee3-b68b-4a5d-a27a-e8fd2805c4a2",
   "metadata": {},
   "source": [
    "# 14."
   ]
  },
  {
   "cell_type": "markdown",
   "id": "e82ddab1-5560-487b-8ca9-0657d5cdbf7c",
   "metadata": {},
   "source": [
    "$X_1,X_2,\\dots, X_{16}$과 $Y_1,Y_2,\\dots, Y_{25}$이 각각 $N(0,9)$와 $N(2,16)$으로부터 구한 서로 독립인 랜덤표본이라고 하자, 이때"
   ]
  },
  {
   "cell_type": "markdown",
   "id": "176c0a62-8d0f-456a-8762-6e5fa4862784",
   "metadata": {},
   "source": [
    "$\\star \\bar{X}_{16} \\sim N(0,\\frac{9}{16})$, $\\bar{Y}_{25} \\sim N(2,\\frac{16}{25})$, 독립"
   ]
  },
  {
   "cell_type": "markdown",
   "id": "e465e3be-d01f-481a-b8ab-503cbb690ace",
   "metadata": {
    "tags": []
   },
   "source": [
    "## (1)"
   ]
  },
  {
   "cell_type": "markdown",
   "id": "dd5b70c9-12df-4dec-9b7a-2b1065f74504",
   "metadata": {},
   "source": [
    "$\\bar{X}_{16} - \\bar{Y}_{25}$의 분포를 구하라."
   ]
  },
  {
   "cell_type": "markdown",
   "id": "48504549-8330-46d2-822e-e44058950c92",
   "metadata": {},
   "source": [
    "**answer**"
   ]
  },
  {
   "cell_type": "markdown",
   "id": "62002666-1723-4125-9604-fbee2c4a92fe",
   "metadata": {},
   "source": [
    "$M_{\\bar{X}_{16}} - \\bar{Y}_{25}(t) = exp(t(0-2) + \\frac{t^2}{2}(\\frac{9}{16} + \\frac{16}{25}))$\n",
    "\n",
    "$\\bar{X}_{16} - \\bar{Y}_{25} \\sim N(-2,\\frac{481}{400})$"
   ]
  },
  {
   "cell_type": "markdown",
   "id": "b9c0cf04-bb1e-4e27-9da5-cb1e4eb773da",
   "metadata": {
    "tags": []
   },
   "source": [
    "## (2)"
   ]
  },
  {
   "cell_type": "markdown",
   "id": "0fc13438-10eb-423c-9f0f-e41659dd8045",
   "metadata": {},
   "source": [
    "$P(\\bar{X}_{16} - \\bar{Y}_{25} >0)$를 계산하라."
   ]
  },
  {
   "cell_type": "markdown",
   "id": "46b13926-7295-4ea8-aba8-cd4d1aecfff9",
   "metadata": {},
   "source": [
    "**answer**"
   ]
  },
  {
   "cell_type": "markdown",
   "id": "b2e5def9-f38f-4431-aea7-7f4ea8f75462",
   "metadata": {},
   "source": [
    "$P(\\bar{X}_{16} - \\bar{Y}_{25} > 0) = 10P(\\bar{X}_{16} - \\bar{Y}_{25} <0) = 0.0341$"
   ]
  },
  {
   "cell_type": "code",
   "execution_count": 12,
   "id": "71be21d6-7274-420a-a02a-00acc626be13",
   "metadata": {},
   "outputs": [
    {
     "data": {
      "text/html": [
       "0.0340879047226217"
      ],
      "text/latex": [
       "0.0340879047226217"
      ],
      "text/markdown": [
       "0.0340879047226217"
      ],
      "text/plain": [
       "[1] 0.0340879"
      ]
     },
     "metadata": {},
     "output_type": "display_data"
    }
   ],
   "source": [
    "1-pnorm(0,-2,sqrt(481/400))"
   ]
  },
  {
   "cell_type": "markdown",
   "id": "eb2c63c9-ae73-4979-bdf2-776144614c5e",
   "metadata": {},
   "source": [
    "# 17."
   ]
  },
  {
   "cell_type": "markdown",
   "id": "18619f4d-1fa2-4252-abaa-6ff250533e83",
   "metadata": {},
   "source": [
    "모분포 $N(0,1)$로부터 랜덤표본 $X_1,X_2,\\dots, X_{50}$을 얻었다고 할 떄,"
   ]
  },
  {
   "cell_type": "markdown",
   "id": "3792dafe-4272-4ab8-82ac-11b4fdd71699",
   "metadata": {
    "tags": []
   },
   "source": [
    "## (1)"
   ]
  },
  {
   "cell_type": "markdown",
   "id": "5dbc28ee-05e5-4217-8e9f-486a4dac7e89",
   "metadata": {},
   "source": [
    "$P(X_1 - X_2 <2)$을 계산하라."
   ]
  },
  {
   "cell_type": "markdown",
   "id": "94c186ae-b992-4ba7-9864-8ec7fb0108cd",
   "metadata": {},
   "source": [
    "**answer**"
   ]
  },
  {
   "cell_type": "markdown",
   "id": "ccdc8b5f-50c5-49eb-9b49-b056a1e898cd",
   "metadata": {},
   "source": [
    "$P(X_1 - X_2 < 2)$, $X_1 - X_2 \\sim N(0,2)$\n",
    "\n",
    "$= P(\\frac{(X_1 - X_2) - 0}{\\sqrt{2}} <\\sqrt{2}) = P(z<\\sqrt{2}) = 0.9214$"
   ]
  },
  {
   "cell_type": "markdown",
   "id": "5763fd94-7542-4e64-947d-b0a85b8a0c87",
   "metadata": {
    "tags": []
   },
   "source": [
    "## (2)"
   ]
  },
  {
   "cell_type": "markdown",
   "id": "4307e00d-4303-4a5c-a560-7ed9da97bb83",
   "metadata": {},
   "source": [
    "$P(X_1 + X_2 <2)$을 계산하라."
   ]
  },
  {
   "cell_type": "markdown",
   "id": "4e2c7129-3b5d-40f6-8706-bed5a8c25316",
   "metadata": {},
   "source": [
    "**answer**"
   ]
  },
  {
   "cell_type": "markdown",
   "id": "272ed823-c9b9-49a8-8922-d587b691f64b",
   "metadata": {},
   "source": [
    "$P(X_1 + X_2 < 2)$, $X_1 + X_2 \\sim N(0,2)$\n",
    "\n",
    "$= P(\\frac{(X_1 + X_2) - 0}{\\sqrt{2}} <\\sqrt{2}) = P(z<\\sqrt{2}) = 0.9214$"
   ]
  },
  {
   "cell_type": "code",
   "execution_count": 13,
   "id": "38be5904-6914-4c4d-a9d3-39deb7b7dc85",
   "metadata": {},
   "outputs": [
    {
     "data": {
      "text/html": [
       "0.921350396474857"
      ],
      "text/latex": [
       "0.921350396474857"
      ],
      "text/markdown": [
       "0.921350396474857"
      ],
      "text/plain": [
       "[1] 0.9213504"
      ]
     },
     "metadata": {},
     "output_type": "display_data"
    }
   ],
   "source": [
    "pnorm(sqrt(2),0,1)"
   ]
  },
  {
   "cell_type": "markdown",
   "id": "a9e1f999-9f49-40a7-89f8-4dd72075b0d7",
   "metadata": {
    "tags": []
   },
   "source": [
    "## (3)"
   ]
  },
  {
   "cell_type": "markdown",
   "id": "0a4768e5-51ce-4281-a9db-b068fba12329",
   "metadata": {},
   "source": [
    "$P(X^2_1 + \\dots + X^2_{50} <60)$을 계산하라."
   ]
  },
  {
   "cell_type": "markdown",
   "id": "962ea2bd-0888-44de-9b62-dc382d1d5e08",
   "metadata": {},
   "source": [
    "**answer**"
   ]
  },
  {
   "cell_type": "markdown",
   "id": "40ccf6b2-1e90-4bcc-bbe2-2c3a4408abac",
   "metadata": {},
   "source": [
    "$P(X^2_1 + \\dots + X^2_{50}<60 ) = 0.8428$\n",
    "\n",
    "$\\star X^2_1 + \\dots X^2_{50} \\sim \\chi^2_{50}$"
   ]
  },
  {
   "cell_type": "code",
   "execution_count": 14,
   "id": "54e16716-5852-485a-9e6d-357932937adc",
   "metadata": {},
   "outputs": [
    {
     "data": {
      "text/html": [
       "0.842757972761609"
      ],
      "text/latex": [
       "0.842757972761609"
      ],
      "text/markdown": [
       "0.842757972761609"
      ],
      "text/plain": [
       "[1] 0.842758"
      ]
     },
     "metadata": {},
     "output_type": "display_data"
    }
   ],
   "source": [
    "pchisq(60,df=50)"
   ]
  },
  {
   "cell_type": "markdown",
   "id": "30e8941a-7a52-4528-bf97-38d22dbd63ab",
   "metadata": {
    "tags": []
   },
   "source": [
    "## (4)"
   ]
  },
  {
   "cell_type": "markdown",
   "id": "6e639b00-7bcc-407d-a265-2bebb416c066",
   "metadata": {},
   "source": [
    "$P(40<X^2_1 + \\dots + X^2_{50} <60)$을 계산하라."
   ]
  },
  {
   "cell_type": "markdown",
   "id": "7471783b-afaf-442e-9c23-67d2ceb3b80d",
   "metadata": {},
   "source": [
    "**answer**"
   ]
  },
  {
   "cell_type": "markdown",
   "id": "61433173-5979-4e3d-b52c-f71d1ed7413d",
   "metadata": {},
   "source": [
    "$P(40<X^2_1 + X^2_{50} <60) = P(X^2_1 + \\dots + X^2_{50}<60) - P(X^2_1 + \\dots X^2_{50} <40) = 0.6860$"
   ]
  },
  {
   "cell_type": "code",
   "execution_count": 15,
   "id": "12f16362-8660-48d5-b30d-5b1f26708ea0",
   "metadata": {},
   "outputs": [
    {
     "data": {
      "text/html": [
       "0.685985350935371"
      ],
      "text/latex": [
       "0.685985350935371"
      ],
      "text/markdown": [
       "0.685985350935371"
      ],
      "text/plain": [
       "[1] 0.6859854"
      ]
     },
     "metadata": {},
     "output_type": "display_data"
    }
   ],
   "source": [
    "pchisq(60,df=50) - pchisq(40,df=50)"
   ]
  },
  {
   "cell_type": "markdown",
   "id": "68153c4a-ffaa-46fc-ae6a-31006d12d8fe",
   "metadata": {
    "tags": []
   },
   "source": [
    "## (5)"
   ]
  },
  {
   "cell_type": "markdown",
   "id": "006109b2-9401-43dd-a5f0-40d355a8748d",
   "metadata": {},
   "source": [
    "$X^2_1 + \\dots + X^2_{50} + c) = 0.9$ 를 만족하는 상수 $c$를 구하라."
   ]
  },
  {
   "cell_type": "markdown",
   "id": "452773fc-a425-4476-bd3e-56be2f03865f",
   "metadata": {},
   "source": [
    "**answer**"
   ]
  },
  {
   "cell_type": "markdown",
   "id": "329e2fd3-7d34-420c-8fb2-11b855253203",
   "metadata": {},
   "source": [
    "$P(X^2_1 + X^2_{50} < 50+ c) = 0.9$, $50+c = 63.1671$, $c=13.1671$"
   ]
  },
  {
   "cell_type": "code",
   "execution_count": 16,
   "id": "ae2ad675-d8b7-4000-9b6e-8987c8a8214a",
   "metadata": {},
   "outputs": [
    {
     "data": {
      "text/html": [
       "63.1671210057263"
      ],
      "text/latex": [
       "63.1671210057263"
      ],
      "text/markdown": [
       "63.1671210057263"
      ],
      "text/plain": [
       "[1] 63.16712"
      ]
     },
     "metadata": {},
     "output_type": "display_data"
    }
   ],
   "source": [
    "qchisq(0.9,df=50)"
   ]
  }
 ],
 "metadata": {
  "kernelspec": {
   "display_name": "R",
   "language": "R",
   "name": "ir"
  },
  "language_info": {
   "codemirror_mode": "r",
   "file_extension": ".r",
   "mimetype": "text/x-r-source",
   "name": "R",
   "pygments_lexer": "r",
   "version": "4.1.2"
  }
 },
 "nbformat": 4,
 "nbformat_minor": 5
}
