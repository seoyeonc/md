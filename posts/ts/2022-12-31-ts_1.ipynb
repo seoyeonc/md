{
 "cells": [
  {
   "cell_type": "raw",
   "id": "6b7a093e-77b5-4006-83a9-4387e5b52511",
   "metadata": {
    "id": "cac470df-29e7-4148-9bbd-d8b9a32fa570",
    "tags": []
   },
   "source": [
    "---\n",
    "title: \"확률변수와 확률분포\"\n",
    "author: \"SEOYEON CHOI\"\n",
    "date: \"2022-12-31\"\n",
    "categories:\n",
    "  - Theoritical Statistics\n",
    "---"
   ]
  },
  {
   "cell_type": "markdown",
   "id": "ed726220-4caa-4991-b097-f52a7afe2d78",
   "metadata": {},
   "source": [
    "> 확률변수와 확률분포"
   ]
  },
  {
   "cell_type": "markdown",
   "id": "88a458b1-1e3c-4857-9b57-588c204f8f3d",
   "metadata": {},
   "source": [
    "## 확률"
   ]
  },
  {
   "cell_type": "markdown",
   "id": "a1d547a9-e1a6-4e35-9081-931e1f623a9e",
   "metadata": {},
   "source": [
    "- 표본공간; 모든 관찰 가능한 조합\n",
    "- 사건; 표본 공간의 부분 집합\n",
    "- 확률의 공리적 정의\n",
    "    - $P(S) = 1$, 사건이 일어날 확률은 1\n",
    "    - $0<P(A)<1$, 표본공간 안에서 사건 A의 확률은 0과 1 사이\n",
    "    - $A_1,A_2, \\dots$사건들 중 임의의 두 사건을 뽑았을 때, 공집합 이어야 함 $\\to$ 상호배반\n",
    "        - $P(A_i \\cap  A_j) = \\varnothing$\n",
    "        - $P(\\sum A) = \\sum P(A)$\n",
    "\n",
    "Example\n",
    "- 동전 3회 던지는 실험\n",
    "    - $S\\{ (H,H), (H,T), (T,H), (T,T) \\}$ $\\to$ 배반사건\n",
    "        - $P((H,H)) = \\frac{1}{9}$\n",
    "        - $P((H,T)) = \\frac{2}{9}$\n",
    "        - $P((T,H)) = \\frac{2}{9}$\n",
    "        - $P((T,T)) = \\frac{4}{9}$\n",
    "    - $P(S) = 1$\n",
    "    - $P(\\sum A_i) = \\sum P(A_i)$\n",
    "- 어떤 기계의 수명시간 측정"
   ]
  },
  {
   "cell_type": "markdown",
   "id": "602af2b8-7eb0-48ac-ae11-7199e908eede",
   "metadata": {},
   "source": [
    "## 확률변수"
   ]
  },
  {
   "cell_type": "markdown",
   "id": "c51e267f-b8cc-41a7-aad1-1cc4c315fb96",
   "metadata": {},
   "source": [
    "확률변수 : 표본공간 S에 정의된 실수값을 가지는 합수(real-valued function), X 영문 대문자\n",
    "- 사건을 수치화, 실험 결과에 따라 변하는 변수\n",
    "- 사건의 가능성을 확률적으로 결정\n",
    "- 확률밀도함수 = 확률질량함수\n",
    "- $P(X = x)$라는 사건을 가징 확률 $P(X=x)$는 $f(x)$에 속해 있다.\n",
    "\n",
    "\n",
    "이산형\n",
    "- $f(1) = P(X = 1)$\n",
    "\n",
    "연속형\n",
    "- $f(1)$ 이렇게 나타낼 수는 없지만, 넓이로 표현; 사건을 구간으로 표현\n",
    "\n",
    "$\\star$ 확률변수는 대문자로, 관측값은 소문자로 표현"
   ]
  },
  {
   "cell_type": "markdown",
   "id": "6587149e-6173-4ed9-8235-3d53da78af69",
   "metadata": {},
   "source": [
    "## 확률말도함수 및 확률분포함수"
   ]
  },
  {
   "cell_type": "markdown",
   "id": "a88627e4-d579-40f4-8383-f6d0821e5c1c",
   "metadata": {},
   "source": [
    "확률밀도함수(probablity density function) - $f(x)$\n",
    "\n",
    "확률분포함수(probablity distribution function) - $F(x)$\n",
    "\n",
    "확률변수의 분포형태를 나타내는 데 사용\n",
    "\n",
    "**이산형 확률변수의 확률밀도함수**\n",
    "\n",
    "다음 조건 만족\n",
    "- 모든 실수 $x$애 대하여 $f(x) \\ge 0$\n",
    "- 확률변수가 가질 수 있는 값 $x_1, x_2, \\dots$에 대하여\n",
    "    - $f(x_i) > 0, \\sum_{all x_i} f(x_i) = 1$\n",
    "- 확률질량함수(probablity mass function)으로 부르기도 함\n",
    "- $f(x) = P(X = x)$\n",
    "\n",
    "**연속형 확률변수의 확률밀도함수**\n",
    "- 셀 수 없이 무한히 많은 가능한 값 하나하나에 확률을 부여하지 않고 구간에 확률 부여, 즉 $P(X=x)=0$\n",
    "\n",
    "다음 조건 만족\n",
    "- 모든 실수 $x$에 대하여 $f(x) \\ge 0$\n",
    "- $\\int_{-\\inf}^\\inf f(x) dx = 1$\n",
    "\n",
    "$P(a \\le X \\le b) = \\int_a^b f(x) dx$\n",
    "\n",
    "$$P(X \\in A) = \\begin{cases} \\sum_{x_i \\in A} f(x_i) & \\text{discrete  } X \\\\ \\int_A f(x) dx & \\text{continuous  } X \\end{cases}$$\n",
    "\n",
    "Example\n",
    "\n",
    "구간 (0,3)에서 정의된 함수\n",
    "- $f(x) = \\frac{x^2}{9}$\n",
    "    - $\\frac{x^2}{9} \\ge 0$\n",
    "    - $\\int_0^3 \\frac{x^2}{9} dx = \\frac{1}{9} \\begin{bmatrix} \\frac{x^2}{3} \\end{bmatrix}^3_0 = 1$\n",
    "\n",
    "$\\therefore$ 확률밀도함수가 맞다."
   ]
  },
  {
   "cell_type": "markdown",
   "id": "b98497cd-b4c8-49e8-a8ba-1c022136e211",
   "metadata": {},
   "source": [
    "(누적)분포함수(cumulative distribution function): 확률변수 $X$가 주어진 점 $x$ 이하인 값을 가질 확률\n",
    "$$F(x) = P(X \\le x)$$\n",
    "\n",
    "**참고**\n",
    "- $X \\sim f(x)$ : 확률변수 $X$가 확률밀도함수 $f(x)$를 가짐\n",
    "- $X \\sim F(x)$ : 확률변수 $X$가 확률분포함수 $F(x)$를 가짐\n",
    "\n",
    "$$F(x) = \\begin{cases} \\sum_{x_i \\le x} f(x_i) & \\text{discrete  } X \\\\ \\int_{-\\inf}^x f(t)dt & \\text{continuous  } X \\end{cases}$$\n",
    "\n",
    "**확률뷴포함수의 성질**\n",
    "\n",
    "함수 $F(x)$가 어떤 확률변수 $X$의 누적붙포함수가 되는 필요충분조건\n",
    "- $lim_{x \\to -\\inf} F(x) = 0$\n",
    "- $lim_{x \\to \\inf} F(x) = 1$\n",
    "- $lim_{h \\to 0+} F(x+h) = F(x)$\n",
    "- $a < b$이면 $F(a) \\le F(b)$\n",
    "\n",
    "$$P(a < X \\le b) = F(b) - F(a)$$\n",
    "\n",
    "$\\star$ 연속형이라면? 각 점에서 확률이 0이니까\n",
    "- $P(a \\le X \\le b) = P(a \\le X < b) = P(a< X \\le b) = P(a< X < b)$\n",
    "\n",
    "$\\star$ 이산형이라면?\n",
    "- probability density function 미분하면 step function 을 가지는 probability distribution function"
   ]
  },
  {
   "cell_type": "markdown",
   "id": "167ae7ea-4fec-4f67-b0a1-6e90d21ced16",
   "metadata": {},
   "source": [
    "Example\n",
    "\n",
    "앞면 나올 확률이 $\\frac{1}{2}$인 동전 3회 던지는 실험에서 관심있는 변수 $X$ = 앞면의 수일때 $f(x)$와 $F(x)$는?\n",
    "- 각각 독립이다.\n",
    "- $f(3) = P(X = 3) = P(A)P(B)P(C) = \\frac{1}{2} \\times \\frac{1}{2} \\times \\frac{1}{2} = \\frac{1}{8} $\n",
    "- $f(2) = P(X = 2) = P(A)P(B)P(C) = \\frac{1}{8} \\times 3 $\n",
    "- $f(1) = P(X = 1) = P(A)P(B)P(C) = \\frac{1}{8} \\times 3 $\n",
    "- $f(0) = P(X = 0) = P(A)P(B)P(C) = \\frac{1}{2} \\times \\frac{1}{2} \\times \\frac{1}{2} = \\frac{1}{8} $\n",
    "- $f(3) + f(2) + f(1) + f(0) = 1$"
   ]
  },
  {
   "cell_type": "code",
   "execution_count": null,
   "id": "8170b914-2f72-4474-83ea-3e09779f242e",
   "metadata": {},
   "outputs": [],
   "source": []
  }
 ],
 "metadata": {
  "kernelspec": {
   "display_name": "Python 3 (ipykernel)",
   "language": "python",
   "name": "python3"
  },
  "language_info": {
   "codemirror_mode": {
    "name": "ipython",
    "version": 3
   },
   "file_extension": ".py",
   "mimetype": "text/x-python",
   "name": "python",
   "nbconvert_exporter": "python",
   "pygments_lexer": "ipython3",
   "version": "3.8.12"
  }
 },
 "nbformat": 4,
 "nbformat_minor": 5
}
