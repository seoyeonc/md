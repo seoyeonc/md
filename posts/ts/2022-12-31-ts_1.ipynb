{
 "cells": [
  {
   "cell_type": "raw",
   "id": "6b7a093e-77b5-4006-83a9-4387e5b52511",
   "metadata": {
    "id": "cac470df-29e7-4148-9bbd-d8b9a32fa570",
    "tags": []
   },
   "source": [
    "---\n",
    "title: \"확률변수와 확률분포\"\n",
    "author: \"SEOYEON CHOI\"\n",
    "date: \"2022-12-31\"\n",
    "categories:\n",
    "  - Theoritical Statistics\n",
    "---"
   ]
  },
  {
   "cell_type": "markdown",
   "id": "ed726220-4caa-4991-b097-f52a7afe2d78",
   "metadata": {},
   "source": [
    "> 확률변수와 확률분포"
   ]
  },
  {
   "cell_type": "markdown",
   "id": "88a458b1-1e3c-4857-9b57-588c204f8f3d",
   "metadata": {},
   "source": [
    "## 확률"
   ]
  },
  {
   "cell_type": "markdown",
   "id": "a1d547a9-e1a6-4e35-9081-931e1f623a9e",
   "metadata": {},
   "source": [
    "- 표본공간\n",
    "- 사건\n",
    "- 확률의 공리적 정의\n",
    "\n",
    "Example\n",
    "- 동전 3회 던지는 실험\n",
    "- 어떤 기계의 수명시간 측정"
   ]
  },
  {
   "cell_type": "code",
   "execution_count": null,
   "id": "9231bd28-8add-4307-97bf-0d0d76babf21",
   "metadata": {},
   "outputs": [],
   "source": []
  }
 ],
 "metadata": {
  "kernelspec": {
   "display_name": "Python 3 (ipykernel)",
   "language": "python",
   "name": "python3"
  },
  "language_info": {
   "codemirror_mode": {
    "name": "ipython",
    "version": 3
   },
   "file_extension": ".py",
   "mimetype": "text/x-python",
   "name": "python",
   "nbconvert_exporter": "python",
   "pygments_lexer": "ipython3",
   "version": "3.8.12"
  }
 },
 "nbformat": 4,
 "nbformat_minor": 5
}
