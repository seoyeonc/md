{
  "cells": [
    {
      "cell_type": "markdown",
      "metadata": {},
      "source": [
        "# Theoritical Statistics HW4\n",
        "\n",
        "SEOYEON CHOI  \n",
        "2023-01-11\n",
        "\n",
        "> 랜덤표본\n",
        "\n",
        "# 수업 과제_카이제곱 분포\n",
        "\n",
        "## 1.\n",
        "\n",
        "$X_1 \\sim \\chi^2_m$, $X_2 \\sim \\chi^2_n$ 이고 서로 독립이면\n",
        "$X_1 + X_2 \\sim \\chi^2_{m+n}$\n",
        "\n",
        "**answer**\n",
        "\n",
        "$Y = X_1 + X_2$\n",
        "\n",
        "$M_Y(t) = M_{X_1 + X_2}(t) = M_{X_1}(t) \\times M_{X_2}(t) = (1-2t)^{-\\frac{m+n}{2}}$\n",
        "\n",
        "적률생성함수의 유일성에 의하여 $X_1 + X_2 \\sim \\chi^2_{m+n}$\n",
        "\n",
        "## 2.\n",
        "\n",
        "서로 독립인 $X_1$과 $X_2$에 대하여 $Y = X_1 + X_2$ 라고 할 떄\n",
        "$Y \\sim \\chi^2_m$, $X_1 \\sim \\chi^2_n$이면 $X_2 \\sim \\chi^2_{m-n}$\n",
        "\n",
        "**answer**\n",
        "\n",
        "$X_2 = Y - X_1$\n",
        "\n",
        "$M_Y (t) = (1-2t)^{\\frac{m}{2}}$\n",
        "\n",
        "$M_{X_1}(t) = (1-2t)^{-\\frac{n}{2}}$\n",
        "\n",
        "$M_{X_2}(t) = M_{Y-X_1}(t) = E(e^{(y-X_1)t}) = E(e^{Yt} \\times e^{-X_1t}) = \\frac{M_Y(t)}{M_{X_1}(t)} = (1-2t)^{-\\frac{m-n}{2}}$\n",
        "\n",
        "$\\therefore X_2 \\sim \\chi^2_{m-n}$\n",
        "\n",
        "# 6.\n",
        "\n",
        "모분포 $N(0,25)$로부터 랜덤표본 $X_1,X_2, \\dots , X_5$를 얻었다고 할 때,\n",
        "\n",
        "## (1)\n",
        "\n",
        "$P(\\bar{X}_5 < c) = 0.90$을 만족하는 상수 $c$값을 구하라.\n",
        "\n",
        "**answer**\n",
        "\n",
        "$\\bar{X}_5 \\sim N(0,5)$\n",
        "\n",
        "$P(\\bar{X}_t <c) = 0.90$\n",
        "\n",
        "$c = 2.8656$"
      ],
      "id": "3fa63a43-2db6-4727-b9ac-c755464671d8"
    },
    {
      "cell_type": "code",
      "execution_count": 1,
      "metadata": {},
      "outputs": [
        {
          "output_type": "display_data",
          "metadata": {},
          "data": {
            "text/html": [
              "2.865636417229"
            ]
          }
        }
      ],
      "source": [
        "qnorm(0.9,0,1)*sqrt(5)"
      ],
      "id": "77f59f8c-5fbc-47bd-816a-c308bc1dbe69"
    },
    {
      "cell_type": "markdown",
      "metadata": {},
      "source": [
        "## (2)\n",
        "\n",
        "$P(\\frac{1}{5}\\sum^5_{i=1} X^2_i <c) = 0.90$을 만족하는 상수 $c$값을\n",
        "구하라.\n",
        "\n",
        "**answer**\n",
        "\n",
        "$P(\\frac{1}{5} \\sum^5_{i=1} X^2_i <c) = 0.90$\n",
        "\n",
        "$\\star$\n",
        "\n",
        "$\\sum^5_{i=1} X^2_i \\sim \\chi^2_5$\n",
        "\n",
        "$\\frac{1}{5} \\sum^5_{i=1} X^2_i \\sim \\chi^2_1$\n",
        "\n",
        "$\\star$\n",
        "\n",
        "$E(\\frac{1}{5}\\sum^5_{i=1} X^2_i ) =\\frac{1}{5} \\times 5 = 1$\n",
        "\n",
        "$var(\\frac{1}{5}\\sum^5_{i=1} X^2_i) = 2$\n",
        "\n",
        "$\\therefore c = 2.7055$"
      ],
      "id": "05e265c2-43c9-434a-aa43-cad378b29feb"
    },
    {
      "cell_type": "code",
      "execution_count": 3,
      "metadata": {},
      "outputs": [
        {
          "output_type": "display_data",
          "metadata": {},
          "data": {
            "text/html": [
              "2.70554345409542"
            ]
          }
        }
      ],
      "source": [
        "qchisq(0.9,df=1)"
      ],
      "id": "51bd0b47-d360-4640-b172-39f1be844997"
    },
    {
      "cell_type": "markdown",
      "metadata": {},
      "source": [
        "# 7.\n",
        "\n",
        "$X_1,X-2,\\dots,X_n$ 이 $N(\\mu,\\sigma^2)$로부터 구한 랜덤표본이라고 하자.\n",
        "\n",
        "이때 $\\frac{\\sum^n_{i=1}(X_i - \\bar{X}_n)^2}{n}$의 분산을 구하라.\n",
        "\n",
        "**answer**\n",
        "\n",
        "$S_n^2 = \\frac{\\sum^n_{i=1} (X_i - \\bar{X}_n)^2}{(n-1)}$\n",
        "\n",
        "$\\frac{(n-1)S_n^2}{\\sigma^2} = \\frac{\\sum^n_{i=1}(X_i - \\bar{X})^2}{\\sigma^2} \\sim \\chi^2_{n-1}$\n",
        "\n",
        "$var(\\frac{\\sum^n_{i=1}(X_i - \\bar{X})^2}{n}) = var(\\frac{\\sum^n_{i=1}(X_i - \\bar{X})^2}{\\sigma^2} \\times \\frac{\\sigma^2}{n}) = \\frac{\\sigma^4}{n^2} var(\\frac{\\sum^n_{i=1}(X_i - \\bar{X})^2}{\\sigma^2}) = \\frac{\\sigma^4}{n^2} \\times 2(n-1)$\n",
        "\n",
        "# 12.\n",
        "\n",
        "$X_1,X_2, \\dots, X_{10}$이 $N(\\mu,25)$으로부터 구한 랜덤표본이라고 하자,\n",
        "\n",
        "이떄 $P(4< \\frac{\\sum^{10}_{i=1}(X_i - \\bar{X}_{10})^2}{10} <14)$를\n",
        "계산하라.\n",
        "\n",
        "**answer**\n",
        "\n",
        "$S_{10}^2 = \\frac{\\sum^{10}_{i=1} (X_i - \\bar{X}_{10})^2}{9}$,\n",
        "$\\frac{9S_{10}^2}{25} \\sim \\chi^2_9$\n",
        "\n",
        "$\\frac{\\sum^{10}_{i=1}(X_i - \\bar{X})^2}{10} = \\frac{9S^2_{10}}{10} = \\frac{9S^2_{10}}{25} \\times \\frac{25}{10}$\n",
        "\n",
        "$P(4< \\frac{\\sum^{10}_{i=1}(X_i - \\bar{X}_{10})^2}{10} <14)$\n",
        "\n",
        "$= P(4 \\times \\frac{10}{25} < \\frac{9 S^2_{10}}{25} < 14 \\times \\frac{10}{25})$\n",
        "\n",
        "$= P(\\frac{9S^2_{10}}{25} < 14 \\times \\frac{10}{25}) - P(\\frac{9S^2_{10}}{25} < 4 \\times \\frac{10}{25}) = 0.2171$"
      ],
      "id": "3974b6c0-7aef-4660-b4b2-3086f9c313a8"
    },
    {
      "cell_type": "code",
      "execution_count": 5,
      "metadata": {},
      "outputs": [
        {
          "output_type": "display_data",
          "metadata": {},
          "data": {
            "text/html": [
              "0.217146972939312"
            ]
          }
        }
      ],
      "source": [
        "pchisq(14*10/25,df=9) - pchisq(4*10/25,df=9)"
      ],
      "id": "9ee95ab6-20d0-40c2-ae28-608c9104e302"
    },
    {
      "cell_type": "markdown",
      "metadata": {},
      "source": [
        "# 13.\n",
        "\n",
        "$X_1,X_2,\\dots,X_{16}$이 $N(5,25)$으로부터 구한 랜덤표본이라고 하자.\n",
        "\n",
        "이때\n",
        "$P(0<\\bar{X}_{16}<6,20<\\sum^{16}_{i=1}\\frac{(X_i - \\bar{X}_{16})^2}{16} <30)$을\n",
        "계산하라.\n",
        "\n",
        "**answer**\n",
        "\n",
        "$\\bar{X}_{16} \\sim N(5,\\frac{25}{16})$\n",
        "\n",
        "$P(0<\\bar{X}_{16} < 6) = P(-4<\\frac{\\bar{X}_{16} - 5}{25/16} < 2) = 0.9772$"
      ],
      "id": "9c4ab395-bd06-40a3-879b-5f5747b8fa54"
    },
    {
      "cell_type": "code",
      "execution_count": 6,
      "metadata": {},
      "outputs": [
        {
          "output_type": "display_data",
          "metadata": {},
          "data": {
            "text/html": [
              "0.977218196809988"
            ]
          }
        }
      ],
      "source": [
        "pnorm(2,0,1) - pnorm(-4,0,1)"
      ],
      "id": "80b56557-f4ae-4011-a125-b0dbcc78ef8f"
    },
    {
      "cell_type": "markdown",
      "metadata": {},
      "source": [
        "$S^2_{16} = \\frac{\\sum^{16}_{i=1}(X_i - \\bar{X}_{16})^2}{15}$\n",
        "\n",
        "$\\frac{15S^2_{16}}{25} = \\frac{3S^2_{16}}{5} \\sim \\chi^2_{15}$\n",
        "\n",
        "$P(20<\\sum^{16}_{i=1}\\frac{(X_i - \\bar{X}_{16})^2}{16} <30)$\n",
        "\n",
        "$= P(20 \\times \\frac{16}{25} < \\frac{(X_i - \\bar{X}_{16})^2}{25} < 30 \\times \\frac{16}{25})$\n",
        "\n",
        "$P(12.8)<\\chi^2_{15} <19.2) = 0.4129$"
      ],
      "id": "fbb556fc-17cc-4650-9beb-4c8a29ebf871"
    },
    {
      "cell_type": "code",
      "execution_count": 9,
      "metadata": {},
      "outputs": [
        {
          "output_type": "display_data",
          "metadata": {},
          "data": {
            "text/html": [
              "0.412929051104458"
            ]
          }
        }
      ],
      "source": [
        "pchisq(19.2,df=15) - pchisq(12.8,df=15)"
      ],
      "id": "d8a99c88-36d0-47db-98bd-5c424cac5cea"
    },
    {
      "cell_type": "markdown",
      "metadata": {},
      "source": [
        "$\\bar{X}_{16}$과 $\\sum^{16}_{i=1}(X_i - \\bar{X}_{16})^2$은 독립\n",
        "\n",
        "$P(0<\\bar{X}_{16}<6,20<\\frac{(X_i - \\bar{X}_{16})^2}{16}<30) = 0.9772 \\times 0.4129 = 0.4035$"
      ],
      "id": "5cea186c-00a4-4581-bb0a-e5afec7e0fc1"
    },
    {
      "cell_type": "code",
      "execution_count": 10,
      "metadata": {},
      "outputs": [
        {
          "output_type": "display_data",
          "metadata": {},
          "data": {
            "text/html": [
              "0.403521782730758"
            ]
          }
        }
      ],
      "source": [
        "(pnorm(2,0,1) - pnorm(-4,0,1)) * (pchisq(19.2,df=15) - pchisq(12.8,df=15))"
      ],
      "id": "6d750d80-3bc4-4145-84f8-415ea67fd29f"
    },
    {
      "cell_type": "markdown",
      "metadata": {},
      "source": [
        "# 14.\n",
        "\n",
        "$X_1,X_2,\\dots, X_{16}$과 $Y_1,Y_2,\\dots, Y_{25}$이 각각 $N(0,9)$와\n",
        "$N(2,16)$으로부터 구한 서로 독립인 랜덤표본이라고 하자, 이때\n",
        "\n",
        "$\\star \\bar{X}_{16} \\sim N(0,\\frac{9}{16})$,\n",
        "$\\bar{Y}_{25} \\sim N(2,\\frac{16}{25})$, 독립\n",
        "\n",
        "## (1)\n",
        "\n",
        "$\\bar{X}_{16} - \\bar{Y}_{25}$의 분포를 구하라.\n",
        "\n",
        "**answer**\n",
        "\n",
        "$E(\\bar{X}_{16} - \\bar{Y}_{25}) = E(0-2) = -2$\n",
        "\n",
        "$Var(\\bar{X}_{16} - \\bar{Y}_{25}) = \\frac{9}{16} + \\frac{26}{25} = \\frac{481}{400}$\n",
        "\n",
        "$M_{\\bar{X}_{16} - \\bar{Y}_{25}}(t) = exp(t(0-2) + \\frac{t^2}{2}(\\frac{9}{16} + \\frac{16}{25}))$\n",
        "\n",
        "$\\bar{X}_{16} - \\bar{Y}_{25} \\sim N(-2,\\frac{481}{400})$\n",
        "\n",
        "## (2)\n",
        "\n",
        "$P(\\bar{X}_{16} - \\bar{Y}_{25} >0)$를 계산하라.\n",
        "\n",
        "**answer**\n",
        "\n",
        "$P(\\bar{X}_{16} - \\bar{Y}_{25} > 0) = 1-P(\\bar{X}_{16} - \\bar{Y}_{25} <0) = 0.0341$"
      ],
      "id": "9deb6780-b5fd-4a0c-a451-8ea4261d8b9b"
    },
    {
      "cell_type": "code",
      "execution_count": 12,
      "metadata": {},
      "outputs": [
        {
          "output_type": "display_data",
          "metadata": {},
          "data": {
            "text/html": [
              "0.0340879047226217"
            ]
          }
        }
      ],
      "source": [
        "1-pnorm(0,-2,sqrt(481/400))"
      ],
      "id": "71be21d6-7274-420a-a02a-00acc626be13"
    },
    {
      "cell_type": "markdown",
      "metadata": {},
      "source": [
        "# 17.\n",
        "\n",
        "모분포 $N(0,1)$로부터 랜덤표본 $X_1,X_2,\\dots, X_{50}$을 얻었다고 할 떄,\n",
        "\n",
        "## (1)\n",
        "\n",
        "$P(X_1 - X_2 <2)$을 계산하라.\n",
        "\n",
        "**answer**\n",
        "\n",
        "$P(X_1 - X_2 < 2)$, $X_1 - X_2 \\sim N(0,2)$\n",
        "\n",
        "$= P(\\frac{(X_1 - X_2) - 0}{\\sqrt{2}} <\\sqrt{2}) = P(z<\\sqrt{2}) = 0.9214$"
      ],
      "id": "dbaf235e-071c-4597-92dc-56559863d221"
    },
    {
      "cell_type": "code",
      "execution_count": 1,
      "metadata": {},
      "outputs": [
        {
          "output_type": "display_data",
          "metadata": {},
          "data": {
            "text/html": [
              "0.921350396474857"
            ]
          }
        }
      ],
      "source": [
        "pnorm(sqrt(2),0,1)"
      ],
      "id": "28bc6c4a-3608-4431-a906-6688edf90495"
    },
    {
      "cell_type": "markdown",
      "metadata": {},
      "source": [
        "## (2)\n",
        "\n",
        "$P(X_1 + X_2 <2)$을 계산하라.\n",
        "\n",
        "**answer**\n",
        "\n",
        "$P(X_1 + X_2 < 2)$, $X_1 + X_2 \\sim N(0,2)$\n",
        "\n",
        "$= P(\\frac{(X_1 + X_2) - 0}{\\sqrt{2}} <\\sqrt{2}) = P(z<\\sqrt{2}) = 0.9214$"
      ],
      "id": "2317e266-7434-4931-958a-821fe41e44a4"
    },
    {
      "cell_type": "code",
      "execution_count": 13,
      "metadata": {},
      "outputs": [
        {
          "output_type": "display_data",
          "metadata": {},
          "data": {
            "text/html": [
              "0.921350396474857"
            ]
          }
        }
      ],
      "source": [
        "pnorm(sqrt(2),0,1)"
      ],
      "id": "38be5904-6914-4c4d-a9d3-39deb7b7dc85"
    },
    {
      "cell_type": "markdown",
      "metadata": {},
      "source": [
        "## (3)\n",
        "\n",
        "$P(X^2_1 + \\dots + X^2_{50} <60)$을 계산하라.\n",
        "\n",
        "**answer**\n",
        "\n",
        "$P(X^2_1 + \\dots + X^2_{50}<60 ) = 0.8428$\n",
        "\n",
        "$\\star X^2_1 + \\dots X^2_{50} \\sim \\chi^2_{50}$"
      ],
      "id": "45d69b3b-2e6c-47ac-837a-71cc2031d008"
    },
    {
      "cell_type": "code",
      "execution_count": 14,
      "metadata": {},
      "outputs": [
        {
          "output_type": "display_data",
          "metadata": {},
          "data": {
            "text/html": [
              "0.842757972761609"
            ]
          }
        }
      ],
      "source": [
        "pchisq(60,df=50)"
      ],
      "id": "54e16716-5852-485a-9e6d-357932937adc"
    },
    {
      "cell_type": "markdown",
      "metadata": {},
      "source": [
        "## (4)\n",
        "\n",
        "$P(40<X^2_1 + \\dots + X^2_{50} <60)$을 계산하라.\n",
        "\n",
        "**answer**\n",
        "\n",
        "$P(40<X^2_1 + X^2_{50} <60) = P(X^2_1 + \\dots + X^2_{50}<60) - P(X^2_1 + \\dots X^2_{50} <40) = 0.6860$"
      ],
      "id": "70bf7231-1670-40e7-bc55-10c3e3878181"
    },
    {
      "cell_type": "code",
      "execution_count": 15,
      "metadata": {},
      "outputs": [
        {
          "output_type": "display_data",
          "metadata": {},
          "data": {
            "text/html": [
              "0.685985350935371"
            ]
          }
        }
      ],
      "source": [
        "pchisq(60,df=50) - pchisq(40,df=50)"
      ],
      "id": "12f16362-8660-48d5-b30d-5b1f26708ea0"
    },
    {
      "cell_type": "markdown",
      "metadata": {},
      "source": [
        "## (5)\n",
        "\n",
        "$P(X^2_1 + \\dots + X^2_{50} + c) = 0.9$ 를 만족하는 상수 $c$를 구하라.\n",
        "\n",
        "**answer**\n",
        "\n",
        "$P(X^2_1 + \\dots + X^2_{50} < 50+ c) = 0.9$, $50+c = 63.1671$,\n",
        "$c=13.1671$"
      ],
      "id": "6104578c-2c4b-43e8-a171-541e78d4614b"
    },
    {
      "cell_type": "code",
      "execution_count": 16,
      "metadata": {},
      "outputs": [
        {
          "output_type": "display_data",
          "metadata": {},
          "data": {
            "text/html": [
              "63.1671210057263"
            ]
          }
        }
      ],
      "source": [
        "qchisq(0.9,df=50)"
      ],
      "id": "ae2ad675-d8b7-4000-9b6e-8987c8a8214a"
    }
  ],
  "nbformat": 4,
  "nbformat_minor": 5,
  "metadata": {
    "kernelspec": {
      "name": "ir",
      "display_name": "R",
      "language": "R"
    },
    "language_info": {
      "name": "R",
      "codemirror_mode": "r",
      "file_extension": ".r",
      "mimetype": "text/x-r-source",
      "pygments_lexer": "r",
      "version": "4.1.2"
    }
  }
}