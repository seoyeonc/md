{
 "cells": [
  {
   "cell_type": "raw",
   "id": "27387d7f-eb42-4db9-8138-9b8bec28abae",
   "metadata": {
    "id": "cac470df-29e7-4148-9bbd-d8b9a32fa570",
    "tags": []
   },
   "source": [
    "---\n",
    "title: \"Theoritical Statistics HW3\"\n",
    "author: \"SEOYEON CHOI\"\n",
    "date: \"2023-01-08\"\n",
    "categories:\n",
    "  - Theoritical Statistics\n",
    "---"
   ]
  },
  {
   "cell_type": "markdown",
   "id": "553d5469-51ec-4b5b-8e66-b0b31f5bf5aa",
   "metadata": {},
   "source": [
    "> 자주 사용도디는 확률분포"
   ]
  },
  {
   "cell_type": "markdown",
   "id": "22d74c84-b615-469d-9b47-76551859e030",
   "metadata": {},
   "source": [
    "## 수업 과제 1."
   ]
  },
  {
   "cell_type": "markdown",
   "id": "962bbf57-a502-4543-a067-4629be43e0bd",
   "metadata": {},
   "source": [
    "기하분포: $X \\sim Geometric(p)$\n",
    "\n",
    "$X=$서로 독립인 베르누이 시행을 반복할 때 첫번째 성공이 나올 때까지 시행횟수\n",
    "\n",
    "$$f(x) = (1-p)^{x-1}p, x=1,2,\\dots$$\n",
    "\n",
    "- $\\sum^{\\infty}_{x=1}(1-p)^{x-1}p = 1$\n",
    "- 아래 증명\n",
    "- $M(t) = \\frac{pe^t}{1-qe^t} \\text{ for } t< - ln q$\n",
    "- $E(X) = \\frac{1}{p}, Var(X) = \\frac{q}{p^2}$"
   ]
  },
  {
   "cell_type": "markdown",
   "id": "bc2803b8-a7a3-42a7-aed3-50d919a67cf4",
   "metadata": {},
   "source": [
    "**answer**"
   ]
  },
  {
   "cell_type": "markdown",
   "id": "8da574f5-0961-41d9-906c-2abb45260c66",
   "metadata": {},
   "source": [
    "$M(t) = E(e^{tx}) = \\sum^{\\infty}_{x=1} e^{tx} (1-p)^{x-1}p$\n",
    "\n",
    "$= \\frac{p}{1-p}\\sum^{\\infty}_{x=1}\\{e^t(1-p)\\}^x$\n",
    "\n",
    "$= \\frac{p}{1-p}\\frac{e^t - pe^t}{1-e^t + pe^t}$\n",
    "\n",
    "$= \\frac{pe^t}{1-e^t+pe^t}$\n",
    "\n",
    "$M^{'}_X(t) = \\frac{pe^t(1-e^t + pe^t) - pe^t(-e^t + pe^t)}{(1-e^t + pe^t)^2} = \\frac{pe^t}{(1-e^t+pe^t)^2}$\n",
    "\n",
    "$M^{'}_X(0) = E(X) = \\frac{1}{p}$\n",
    "\n",
    "$M^{''}_X(t) = pe^t(1-e^t+pe^t)^{-2}+pe^t(-2)(1-e^t+pe^t)^{-3}(-e^t+pe^t)$\n",
    "\n",
    "$= pe^t(1-e^t+pe^t)^{-3}(1-e^t+pe^t-2(-e^t+pe^t))$\n",
    "\n",
    "$= pe^t(1-e^t+pe^t)^{-3}(1+e^t-pe^t)$\n",
    "\n",
    "$M^{''}_X(0) = E(X^2)=p(1-1+p)^{-3}(1+1-p)=\\frac{2-p}{p^2} = \\frac{1+q}{p^2}$\n",
    "\n",
    "$var(X) = E(X^2) - (E(X))^2 = \\frac{1+q}{p^2} - \\frac{1}{p^2} = \\frac{q}{p^2}$"
   ]
  },
  {
   "cell_type": "markdown",
   "id": "259f270b-aef2-42b4-871b-ea854ab257a5",
   "metadata": {},
   "source": [
    "## 수업과제 2."
   ]
  },
  {
   "cell_type": "markdown",
   "id": "0ea0065e-b499-462b-a47c-230361733a73",
   "metadata": {},
   "source": [
    "$\\Gamma(\\frac{1}{2}) = \\sqrt{\\pi}$  증명\n",
    "\n",
    "$\\Gamma(k) = \\int^{\\infty}_{0} t^{k-1} e^{-t} dt$"
   ]
  },
  {
   "cell_type": "markdown",
   "id": "3292ab54-26ff-4b78-a0c3-029d60380814",
   "metadata": {},
   "source": [
    "**answer**"
   ]
  },
  {
   "cell_type": "markdown",
   "id": "087cb6fd-d134-41c7-8838-bda74dfba7ca",
   "metadata": {},
   "source": [
    "$\\Gamma(\\frac{1}{2}) = \\int^{\\infty}_{0} x^{\\frac{1}{2} - 1} e^{-x} dx$\n",
    "\n",
    "변수 변환 $y = x^{\\frac{1}{2}}$, $x = y^2$, $dx = 2y dy$, $y>0$\n",
    "\n",
    "$= \\int^{\\infty}_0 \\frac{1}{y} e^{-y^2} 2y dy = 2 \\int^{\\infty}_0- e^{-y^2} dy$\n",
    "\n",
    "변수 변환 $u = r\\cos \\theta$, $v=r \\sin \\theta$, $J = \\begin{bmatrix} \\cos \\theta & r \\sin \\theta \\\\ \\sin \\theta & r \\cos \\theta \\end{bmatrix} = r$,\n",
    "\n",
    "$0<u<\\infty \\to 0<r<\\infty$, \n",
    "\n",
    "$0<v<\\infty \\to 0< \\theta < \\frac{\\pi}{2}$\n",
    "\n",
    "$\\Gamma \\{ (\\frac{1}{2}) \\}^2 = 4\\int^{\\infty}_0 e^{-u^2} du \\int^{\\infty}_0 e^{-v^2} dv = 4\\int^{\\infty}_0 \\int^{\\infty}_0 e^{-(u^2 + v^2)} du dv$\n",
    "\n",
    "$= 4\\int^{\\infty}_0 \\int^{\\frac{\\pi}{2}}_0 e^{-r^2} r d \\theta dr$\n",
    "\n",
    "$= 4 \\frac{\\pi}{2} \\int^{\\infty}_0 e^{-r^2} r dr = 2\\pi \\frac{1}{2} e^{-r^2} |^{\\infty}_0 = \\pi$\n",
    "\n",
    "$\\to \\Gamma(\\frac{1}{2}) = \\sqrt{\\pi}$"
   ]
  },
  {
   "cell_type": "markdown",
   "id": "ae4ada73-0e13-40e7-9620-64a06d3b4338",
   "metadata": {},
   "source": [
    "## 수업 과제 3."
   ]
  },
  {
   "cell_type": "markdown",
   "id": "8f5ff266-fdb7-4776-b9c7-a026b6267e0e",
   "metadata": {},
   "source": [
    "$P(X \\le t) = 1-P(X>t) = 1-P(n\\text{번쨰 사건이 발생하는 시간}>t) = 1-P([0,t) \\text{사이에 발생하는 사건의 수} \\le n-1)$"
   ]
  },
  {
   "cell_type": "markdown",
   "id": "ab9f9c8a-b449-4556-b18e-72a811e2c1b1",
   "metadata": {},
   "source": [
    "**answer**"
   ]
  },
  {
   "cell_type": "markdown",
   "id": "599ab5bf-7810-4494-9454-c3109facd957",
   "metadata": {},
   "source": [
    "cdf : $= 1-\\sum^{n-1}_{y=0} \\frac{e^{-\\lambda t}(\\lambda t)^y} {y!}$\n",
    "\n",
    "$f(x) = \\frac{1}{\\lambda} exp(-\\frac{x}{\\lambda})$\n",
    "\n",
    "pdf : $=(1-\\sum^{n-1}_{y=0}\\frac{e^{-\\lambda t} (\\lambda t)^y}{y!} )\\frac{d}{dy}$\n",
    "\n",
    "$= \\frac{d}{dy}(1-e^{-\\lambda t} -\\sum^{n-1}_{y=1} \\frac{e^{-\\lambda t}(\\lambda t)^y}{y!})$\n",
    "\n",
    "$= \\lambda e^{-\\lambda t} - \\sum^{n-1}_{y=1} \\frac{1}{y!} (t(\\lambda t)^{y-1} \\lambda e^{-\\lambda t} - \\lambda (\\lambda t)^y e^{-\\lambda t})$\n",
    "\n",
    "$= \\lambda e^{-\\lambda t} - \\lambda e^{-\\lambda t} \\sum^{n-1}_{y=1} \\frac{1}{y!} (y (\\lambda t)^{y-1} - (\\lambda t)^y)$\n",
    "\n",
    "$= \\lambda e^{-\\lambda t} + \\lambda e^{-\\lambda t} \\sum^{n-1}_{y=1} (\\frac{(\\lambda t)^{y-1}}{(y-1)!} - \\frac{(\\lambda t)^{y-1}}{(y-1)!})$\n",
    "\n",
    "$= \\lambda e^{-\\lambda t} + \\lambda e^{-\\lambda t} (\\lambda t - 1 + \\frac{\\lambda t^2}{2!} - \\lambda t + \\dots \\frac{\\lambda t^2}{3!} - \\frac{\\lambda t^2}{2!} + \\dots + \\frac{(\\lambda t)^{y-1}}{(y-1)!} - \\frac{(\\lambda t)^{n-2}}{(y-2)!}$\n",
    "\n",
    "$= \\lambda e^{-\\lambda t} - \\lambda e^{-\\lambda t}(\\frac{(\\lambda t)^{y-1}}{(y-1)!} - 1)$\n",
    "\n",
    "$= \\frac{\\lambda}{\\Gamma(y)}(\\lambda t)^{y-1} e^{-\\lambda t} \\dots$\n",
    "\n",
    "$\\star \\Gamma(t) = (y-1)!$\n",
    "\n",
    "$= \\frac{t^{y-1} e^{-\\lambda t}}{\\lambda^{-y} \\Gamma(y)}$\n",
    "\n",
    "$y$에 $\\alpha$를 놓으면\n",
    "\n",
    "$\\therefore f(x) = \\frac{t^{\\alpha -1}e^{-\\lambda t}}{\\lambda^{-\\alpha}\\Gamma(\\alpha)}$"
   ]
  },
  {
   "cell_type": "markdown",
   "id": "ed7d27dd-6ef6-4794-8b9a-228cc1ee8fa2",
   "metadata": {},
   "source": [
    "## 수업과제 4."
   ]
  },
  {
   "cell_type": "markdown",
   "id": "2202301f-66a0-4340-abce-f2d139970812",
   "metadata": {},
   "source": [
    "$E(S^2) = \\sigma^2$ 증명"
   ]
  },
  {
   "cell_type": "markdown",
   "id": "35bd8e3e-795a-487a-994b-41acef34d9fd",
   "metadata": {},
   "source": [
    "**answer**"
   ]
  },
  {
   "cell_type": "markdown",
   "id": "47f29f58-bc2a-4dca-a176-cbd9866520c1",
   "metadata": {},
   "source": [
    "표본분산 $S^2 = \\frac{1}{n-1}\\sum^n_{i=1} (X_i - \\bar{X})^2$\n",
    "\n",
    "$E(S^2) = E(\\frac{1}{n-1} \\sum^n_{i=1}(X_i - \\bar{X})^2))$\n",
    "\n",
    "$= \\frac{1}{n-1} E(\\sum^n_{i=1}(X_i - \\bar{X})^2)$\n",
    "\n",
    "$\\star$\n",
    "\n",
    "$\\sum^n_{i=1}(X_i - \\mu)^2 = \\sum^n_{i=1}(X_i - \\bar{X}_n + \\bar{X}_n -\\mu)^2$\n",
    "\n",
    "$\\sum^n_{i=1}[(X_i - \\bar{X}_n)^2 + 2(X_i - \\bar{X}_n(\\bar{X}_n - \\mu) + (\\bar{X}_n - \\mu)^2]$\n",
    "\n",
    "$\\sum^n_{i=1}(X_i - \\bar{X}_n)^2 + n(\\bar{X}_n - \\mu)^2$\n",
    "\n",
    "$\\star$\n",
    "\n",
    "$= \\frac{1}{n-1} E(\\sum^n_{i=1}(X_i - \\mu)^2 - n(\\bar{X}_n - \\mu)^2)$\n",
    "\n",
    "$= \\frac{1}{n-1}(\\sum^n_{i=1} E(X_i-\\mu)^2 - nE(\\bar{X}_n - \\mu)^2)$\n",
    "\n",
    "$= \\frac{1}{n-1}(n \\sigma^2 - n \\frac{\\sigma^2}{n})$\n",
    "\n",
    "$= \\sigma^2$"
   ]
  },
  {
   "cell_type": "markdown",
   "id": "ff2cf61f-6394-41f7-a68b-fdd7f413bce4",
   "metadata": {},
   "source": [
    "## 19."
   ]
  },
  {
   "cell_type": "markdown",
   "id": "6bf44856-90d8-40ef-b5e8-6faebc704195",
   "metadata": {},
   "source": [
    "확률변수 $X$의 확률밀도함수가 $f_X(x) = 2x,0<x<1$일 때"
   ]
  },
  {
   "cell_type": "markdown",
   "id": "15c90e0d-ebe5-4dcd-a527-51eee925718d",
   "metadata": {},
   "source": [
    "### (1)"
   ]
  },
  {
   "cell_type": "markdown",
   "id": "ea8a7577-0436-47ed-a90f-c7260b88819c",
   "metadata": {},
   "source": [
    "$Y = 3X+2$의 확률밀도함수를 구하라."
   ]
  },
  {
   "cell_type": "markdown",
   "id": "b804236f-6a1d-4f74-8cea-5085a93eea8c",
   "metadata": {},
   "source": [
    "**answer**"
   ]
  },
  {
   "cell_type": "markdown",
   "id": "cc98096b-3f4c-49e7-bb1d-b43edfa453d2",
   "metadata": {},
   "source": [
    "$g(X) = 3X+2$\n",
    "\n",
    "$g^{-1}(Y) = \\frac{Y-2}{3}$\n",
    "\n",
    "$f_Y(y) = f_X(g^{-1}(y))|\\frac{dg^{-1}(y)}{dy}| = f_X(\\frac{x-2}{3}) |\\frac{1}{3}|$\n",
    "\n",
    "$= \\frac{2}{3}\\times \\frac{y-2}{3} = \\frac{2y-4}{9}, 2<y<5$"
   ]
  },
  {
   "cell_type": "markdown",
   "id": "246a93e7-d608-45d7-95d3-8541732b1652",
   "metadata": {},
   "source": [
    "### (2)"
   ]
  },
  {
   "cell_type": "markdown",
   "id": "e16d7456-82cd-4abf-af58-8a7748864d8e",
   "metadata": {},
   "source": [
    "$Y = X^2$의 확률밀도함수를 구하라."
   ]
  },
  {
   "cell_type": "markdown",
   "id": "5ce9afb7-30bb-46d7-ab9c-f9fb84bf6433",
   "metadata": {},
   "source": [
    "**answer**"
   ]
  },
  {
   "cell_type": "markdown",
   "id": "72959411-7775-4797-8f93-bf628cc58fa0",
   "metadata": {},
   "source": [
    "$g(X) = X^2$\n",
    "\n",
    "as $x$ is greater than 0, $g^{-1}(Y) = \\sqrt{y}$\n",
    "\n",
    "$= f_Y(y) = f_X(g^{-1}(y))\\frac{dg^{-1}(y)}{dy}$\n",
    "\n",
    "$= f_X(\\sqrt{y})\\frac{1}{2\\sqrt{y}}$\n",
    "\n",
    "$= 2\\sqrt{y}\\frac{1}{2\\sqrt{y}}$\n",
    "\n",
    "$= I(0<y<1)$"
   ]
  },
  {
   "cell_type": "markdown",
   "id": "fdac9e6c-2913-4356-a6a2-21af8160e0d2",
   "metadata": {},
   "source": [
    "## 20."
   ]
  },
  {
   "cell_type": "markdown",
   "id": "f0d939ff-f7fe-474d-8bac-3feae5220968",
   "metadata": {},
   "source": [
    "확률변수 $X$의 확률밀도함수가 $f_X(x) = 3e^{-3x},x>0$일 떄"
   ]
  },
  {
   "cell_type": "markdown",
   "id": "f22944be-7336-427a-b486-900363d624f9",
   "metadata": {},
   "source": [
    "### (1)"
   ]
  },
  {
   "cell_type": "markdown",
   "id": "d0a9089c-6fc3-49ed-b8a0-bc323473f516",
   "metadata": {},
   "source": [
    "$Y = 2X+5$의 확률밀도함수와 확률분포함수를 구하라."
   ]
  },
  {
   "cell_type": "markdown",
   "id": "26cf8b90-595f-40bf-8de8-4089bd1057d9",
   "metadata": {},
   "source": [
    "**answer**"
   ]
  },
  {
   "cell_type": "markdown",
   "id": "80098138-8d63-407a-a940-71c8d8fee228",
   "metadata": {},
   "source": [
    "$F_Y(y) = P(Y \\le y) = P(X \\le \\frac{y-5}{2}) = F_X(\\frac{y-5}{2})$\n",
    "\n",
    "$f_Y(y) = \\frac{d}{dy} F_y(y) = \\frac{1}{2}f_X(\\frac{y-5}{2}) = \\frac{3}{2}exp(-\\frac{3y-15}{2})I(y>5)$"
   ]
  },
  {
   "cell_type": "markdown",
   "id": "3becab74-7396-480b-b7e3-97bbbd17909c",
   "metadata": {
    "tags": []
   },
   "source": [
    "### (2)"
   ]
  },
  {
   "cell_type": "markdown",
   "id": "52a51048-b60d-4d57-8b73-7bf06412ec19",
   "metadata": {},
   "source": [
    "$Y = \\frac{1}{X}$의 확률밀도함수와 확률분포함수를 구하라."
   ]
  },
  {
   "cell_type": "markdown",
   "id": "34c53816-4373-468c-b8b3-5fc0471fd63d",
   "metadata": {},
   "source": [
    "**answer**"
   ]
  },
  {
   "cell_type": "markdown",
   "id": "b0b48ec0-68ab-4803-8b08-005340b209dc",
   "metadata": {},
   "source": [
    "$F_Y(y) = P(Y \\le y) = P(X \\le \\frac{1}{y}) = F_X(\\frac{1}{y})$\n",
    "\n",
    "$f_y(y) = \\frac{d}{dy}F_y(y) = \\frac{1}{y^2}f_X(\\frac{1}{y}) = \\frac{3}{y^2}exp(-\\frac{3}{y})I(y>0)$"
   ]
  },
  {
   "cell_type": "markdown",
   "id": "475187bd-24ca-44d2-8875-41907285e4f4",
   "metadata": {},
   "source": [
    "## 42."
   ]
  },
  {
   "cell_type": "markdown",
   "id": "8cbdff92-b530-4b45-a017-40513e1425e1",
   "metadata": {},
   "source": [
    "$X=B(n,p)$일 때 $Y = n-X$의 분포를 구하라."
   ]
  },
  {
   "cell_type": "markdown",
   "id": "2527a791-1f6c-4bb4-804b-3be94c19dc60",
   "metadata": {},
   "source": [
    "**answer**"
   ]
  },
  {
   "cell_type": "markdown",
   "id": "bc8e1466-03f9-4e57-97b7-2bc97d8b96d2",
   "metadata": {},
   "source": [
    "$M_X(t) = E(e^{tx})=(1-p+pe^t)^n$\n",
    "\n",
    "$M_Y(t) = E(e^{ty}) = E(e^{(n-x)t}) = \\sum^n_{x=0}e^{(n-x)t}\\begin{pmatrix} n \\\\ n-x \\end{pmatrix} p^{n-x}(1-p)^x$\n",
    "\n",
    "$= \\sum^n_{x=0} e^{nt}\\begin{pmatrix} n \\\\ n-x \\end{pmatrix}(pe^{-t})^x(1-p)^x$\n",
    "\n",
    "$= e^{nt}(1-p+pe^{-t})^n \\to $mgf of $B(n,1-p) \\to n-x \\sim B(n,1-p)$"
   ]
  },
  {
   "cell_type": "markdown",
   "id": "c623832f-61f9-473f-83dc-e41e5251213c",
   "metadata": {},
   "source": [
    "## 46."
   ]
  },
  {
   "cell_type": "markdown",
   "id": "ec72ff40-99a7-4132-a23a-b9d472b2c92c",
   "metadata": {},
   "source": [
    "$X \\sim POI(\\lambda)$일 때 $E(1+X)^2$을 계산하라."
   ]
  },
  {
   "cell_type": "markdown",
   "id": "f0cc2458-a876-4d22-91fb-158d8c866733",
   "metadata": {},
   "source": [
    "**answer**"
   ]
  },
  {
   "cell_type": "markdown",
   "id": "271313ee-a3be-4256-8213-a56b0e601cec",
   "metadata": {},
   "source": [
    "$E(X) = \\lambda$\n",
    "\n",
    "$var(X) = \\lambda = E(X^2) - \\{E(X)\\}^2$\n",
    "\n",
    "$E(X^2) = var(X) + \\{E(X)\\}^2 = \\lambda + \\lambda^2$\n",
    "\n",
    "$f(x) = \\frac{\\lambda^x e^{-\\lambda}}{X!}$\n",
    "\n",
    "$E(1+X) = 1+E(X) = 1+\\lambda$\n",
    "\n",
    "$E(1+X)^2 = E(1+2X + X^2) = 1+2E(X) + E(X^2) = 1+2\\lambda + \\lambda + \\lambda^2 = 1+ 3\\lambda + \\lambda^2$\n",
    "\n",
    "$E(1+X)^2 = \\sum^{\\infty}_{x=0}(1+2x+ x^2)\\frac{e^{-\\lambda}\\lambda^x}{x!}$"
   ]
  },
  {
   "cell_type": "markdown",
   "id": "a0137a70-78f2-4713-9577-f953906377b2",
   "metadata": {},
   "source": [
    "## 52."
   ]
  },
  {
   "cell_type": "markdown",
   "id": "bc3bad05-996c-406d-8130-80dda4ff663b",
   "metadata": {},
   "source": [
    "어느 전자제품의 수명이 확률변수 $X \\sim EXP(100)$라고 할 떄,"
   ]
  },
  {
   "cell_type": "markdown",
   "id": "738d9680-d512-461f-960b-b0f28452af8c",
   "metadata": {},
   "source": [
    "$\\lambda = \\frac{1}{100}$\n",
    "\n",
    "$E(X) = 100$\n",
    "\n",
    "$var(X) = 100^2$"
   ]
  },
  {
   "cell_type": "markdown",
   "id": "61926a0f-16e8-4667-aa83-5eb0ece2c5b5",
   "metadata": {},
   "source": [
    "### (1)"
   ]
  },
  {
   "cell_type": "markdown",
   "id": "e2e53e15-eaae-4ede-a653-829b8a8fbb36",
   "metadata": {},
   "source": [
    "$P(X>30)$을 구하라."
   ]
  },
  {
   "cell_type": "markdown",
   "id": "ea59702d-fdb4-41c8-8db2-f3dfd0b394dd",
   "metadata": {},
   "source": [
    "**answer**"
   ]
  },
  {
   "cell_type": "markdown",
   "id": "defb883c-78d6-4d54-bd46-c748ffd97878",
   "metadata": {},
   "source": [
    "$P(X>30) = \\int^{\\infty}_{-\\infty} \\lambda e^{-\\lambda x} dx = \\int^{\\infty}_{30}  \\frac{1}{100}e^{-\\frac{x}{100}}dx = [-e^{-\\frac{\\lambda}{100}}]^{\\infty}_{30} = e^{-0.3}$"
   ]
  },
  {
   "cell_type": "markdown",
   "id": "7ab24440-dd92-4bb3-b465-2d9440ed4ce7",
   "metadata": {},
   "source": [
    "### (2)"
   ]
  },
  {
   "cell_type": "markdown",
   "id": "840b891c-6980-4272-9e96-c2b1110a5d10",
   "metadata": {},
   "source": [
    "$P(X>110)$을 구하라."
   ]
  },
  {
   "cell_type": "markdown",
   "id": "1ea563ff-864f-4636-b5f1-d813d26206ca",
   "metadata": {},
   "source": [
    "**answer**"
   ]
  },
  {
   "cell_type": "markdown",
   "id": "78b9f9c1-74d3-4aca-82d1-f8f0c7bf8335",
   "metadata": {},
   "source": [
    "$P(X>110) = \\int^{\\infty}_{110} \\frac{1}{100} e^{-\\frac{x}{100}}dx = [-e^{-\\frac{\\lambda}{100}}]^{\\infty}_{110} = e^{-1.1}$"
   ]
  },
  {
   "cell_type": "markdown",
   "id": "7464adf4-81b9-439c-991d-88893b7aab3e",
   "metadata": {},
   "source": [
    "### (3)"
   ]
  },
  {
   "cell_type": "markdown",
   "id": "62940abb-92be-4926-ae83-b00264ba71ed",
   "metadata": {},
   "source": [
    "$P(X>110|X>80)$을 구하고 (1)의 결과와 비교하라."
   ]
  },
  {
   "cell_type": "markdown",
   "id": "ff651c87-4880-4a97-b8c7-03af248b5e12",
   "metadata": {},
   "source": [
    "**answer**"
   ]
  },
  {
   "cell_type": "markdown",
   "id": "de35018f-0d8f-4008-9352-1c30cdcde469",
   "metadata": {},
   "source": [
    "$P(X>110|X>80) = \\frac{P(X>110)}{P(X>80)} = \\frac{e^{-1.1}}{e^{-0.8}} = e^{-1.1+0.8} = e^{-0.3}$\n",
    "\n",
    "(1)의 결과와 (3)의 결과가 같다."
   ]
  },
  {
   "cell_type": "markdown",
   "id": "da7e85d5-0875-4bd2-91dd-6f0531ea492b",
   "metadata": {},
   "source": [
    "## 54."
   ]
  },
  {
   "cell_type": "markdown",
   "id": "3318017d-e2aa-416b-a36a-d86500da4f6c",
   "metadata": {},
   "source": [
    "$X \\sim N(\\mu, \\sigma^2)$일 때,"
   ]
  },
  {
   "cell_type": "markdown",
   "id": "bad1319f-b547-4c9b-884d-54a579c70a52",
   "metadata": {},
   "source": [
    "$f(x) = \\frac{1}{\\sqrt{2\\pi} \\sigma}e^{-\\frac{(x-\\mu)^2}{2\\sigma^2}}$"
   ]
  },
  {
   "cell_type": "markdown",
   "id": "098f8c06-5227-42f7-9b08-1fbc9a4cc6cf",
   "metadata": {},
   "source": [
    "### (1)"
   ]
  },
  {
   "cell_type": "markdown",
   "id": "35d6cf5c-e255-4344-bcdc-d4d485229c65",
   "metadata": {},
   "source": [
    "$Y = |X-\\mu|$의 확률밀도함수를 구하라."
   ]
  },
  {
   "cell_type": "markdown",
   "id": "7bbc8ea2-d095-4af6-a98d-efee5eb7c846",
   "metadata": {},
   "source": [
    "**answer**"
   ]
  },
  {
   "cell_type": "markdown",
   "id": "2d10408a-7cee-413f-ba71-8661db2a5820",
   "metadata": {},
   "source": [
    "$F_Y(y) = P(Y \\le y) = P(|X-\\mu| \\le y) = P(\\mu-y \\le X \\le \\mu+y) = F_X(\\mu + y) - F_X(\\mu - y)$\n",
    "\n",
    "$f_y(y) = \\frac{d}{dy}\\{F_X(\\mu + y) - F_X(\\mu - y) \\} = f_X (\\mu + y) + f_X(\\mu - y) = \\frac{2}{\\sqrt{2\\pi}\\sigma} exp(-\\frac{y^2}{2\\sigma^2}) I(y>0)$"
   ]
  },
  {
   "cell_type": "markdown",
   "id": "bf03c2ee-c73f-4da0-b7c5-9c5ced299da2",
   "metadata": {},
   "source": [
    "### (2)"
   ]
  },
  {
   "cell_type": "markdown",
   "id": "3942e914-c22c-42d7-b86b-78d7246c80a8",
   "metadata": {},
   "source": [
    "$Y = exp(X)$의 확률밀도함수를 구하라.(이를 로그 정규확률밀도함수라고 한다.)"
   ]
  },
  {
   "cell_type": "markdown",
   "id": "18a18fbf-2dc0-49eb-a7fe-9c36eb2ef26a",
   "metadata": {},
   "source": [
    "**answer**"
   ]
  },
  {
   "cell_type": "markdown",
   "id": "216160b5-77f7-40d4-9b82-5f91e22ac86e",
   "metadata": {},
   "source": [
    "$Y = e^X$\n",
    "\n",
    "$g(y) = ln(y)$\n",
    "\n",
    "$g^{-1}(y) = \\frac{1}{y}$\n",
    "\n",
    "$f_y(y) = f_X(g^{-1}(y))(\\frac{d g^{-1}(y) }{dy} ) I(y>0) = \\frac{1}{\\sqrt{2\\pi}\\sigma}e^{-\\frac{(lny - \\mu)^2}{2\\sigma^2}} \\times \\frac{1}{y}$\n",
    "\n",
    "$= \\frac{1}{y\\sigma\\sqrt{2\\pi}}exp(-\\frac{(lny - \\mu)^2}{2\\sigma^2})I(y>0)$"
   ]
  },
  {
   "cell_type": "markdown",
   "id": "1da25864-372d-4b7c-b0b6-4ca1a8471d13",
   "metadata": {},
   "source": [
    "## 65."
   ]
  },
  {
   "cell_type": "markdown",
   "id": "d2699f4b-6130-4a05-8ab7-be549db8b52e",
   "metadata": {},
   "source": [
    "확률변수들 $X_i(i=1,2,\\dots,k)$는 서로 독립이며 $B(n,p)$분포를 따른다고 하자,\n",
    "\n",
    "이떄 $\\sum^k_{i=1}X_i$의 적률생성함수를 구하고 그의 분포가 $B(nk,p)$임을 보여라."
   ]
  },
  {
   "cell_type": "markdown",
   "id": "2e3ae3f6-c2dd-4fc0-8347-57cddc087788",
   "metadata": {},
   "source": [
    "**answer**"
   ]
  },
  {
   "cell_type": "markdown",
   "id": "ad27ab58-6743-4ec0-af29-035e10186f4e",
   "metadata": {},
   "source": [
    "$M_X(t) = E(e^{tx}) = ([e^t + q)^n$\n",
    "\n",
    "$M_{\\sum^k_{i=1}X_i}(t) = E(e^{tX_1 + tX_2 + \\dots+tX_k}) = E(e^{tX_1}e^{tX_2}\\dots e^{tX_k})$\n",
    "\n",
    "Because those are indipendent, $= E(e^{tX_1})E(e^{tX_2})\\dots E(e^{tX_k})$\n",
    "\n",
    "$= (pe^{tx} + q)^n(pe^t+q)^n \\dots (pe^t+q)^n = (pe^{tx} + q)^{kn}$\n",
    "\n",
    "$M_{\\sum^k_{i=1}X_i}^{'}(t) = kn(pe^{tx}+q)^{kn-1}pe^{tx}$\n",
    "\n",
    "$M_{\\sum^k_{i=1}X_i}^{'}(0) = kn(p+q)^{kn-1}p = knp = E(\\sum^k_{i=1}X_i)$\n",
    "\n",
    "$M_{\\sum^k_{i=1}X_i}^{''}(t) = kn(kn-1)(pe^{tx}+q)^{kn-2}p^2e^{2tx} + kn(pe^{tx} + 1)^{kn-1}pe^{tx}$\n",
    "\n",
    "$M_{\\sum^k_{i=1}X_i}^{''}(0) = kn(kn-1)p^2 + knp = k^2n^2p^2 - knp^2 + knp$\n",
    "\n",
    "$var(\\sum^k_{i=1}X_i) = k^2n^2p^2 - knp^2 + knp - k^2n^2p^2 = knp(1-p) = knpq$"
   ]
  },
  {
   "cell_type": "markdown",
   "id": "3c13932e-ec45-4511-be1b-196c4848d5d3",
   "metadata": {},
   "source": [
    "## 68."
   ]
  },
  {
   "cell_type": "markdown",
   "id": "58c4a762-5904-4ba6-958e-4eeae2d76c2d",
   "metadata": {},
   "source": [
    "확률변수 $X$가 $GAM(k,\\theta)$를 따르면 임의의 상수 $c$에 대해 $cX$는 $GAM(k,c\\theta)$를 따름을 보여라."
   ]
  },
  {
   "cell_type": "markdown",
   "id": "2ff6251d-90bc-4a8a-929f-e5c014d2b822",
   "metadata": {},
   "source": [
    "**answer**"
   ]
  }
 ],
 "metadata": {
  "kernelspec": {
   "display_name": "Python 3 (ipykernel)",
   "language": "python",
   "name": "python3"
  },
  "language_info": {
   "codemirror_mode": {
    "name": "ipython",
    "version": 3
   },
   "file_extension": ".py",
   "mimetype": "text/x-python",
   "name": "python",
   "nbconvert_exporter": "python",
   "pygments_lexer": "ipython3",
   "version": "3.8.12"
  }
 },
 "nbformat": 4,
 "nbformat_minor": 5
}
