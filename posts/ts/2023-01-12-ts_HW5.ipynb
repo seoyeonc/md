{
 "cells": [
  {
   "cell_type": "raw",
   "id": "77efcfd5-9251-4fc0-8b04-de0b93d98348",
   "metadata": {
    "id": "cac470df-29e7-4148-9bbd-d8b9a32fa570",
    "tags": []
   },
   "source": [
    "---\n",
    "title: \"Theoritical Statistics HW5\"\n",
    "author: \"SEOYEON CHOI\"\n",
    "date: \"2023-01-12\"\n",
    "categories:\n",
    "  - Theoritical Statistics\n",
    "---"
   ]
  },
  {
   "cell_type": "markdown",
   "id": "26662888-276e-44f7-b14b-ad0f26f29013",
   "metadata": {},
   "source": [
    "> 확률변수의 극한"
   ]
  },
  {
   "cell_type": "markdown",
   "id": "bf580996-740c-4088-a5c8-8da856e7ca67",
   "metadata": {},
   "source": [
    "# 3장"
   ]
  },
  {
   "cell_type": "markdown",
   "id": "b03907eb-867e-4a6a-82e5-d01860cae686",
   "metadata": {},
   "source": [
    "# 23."
   ]
  },
  {
   "cell_type": "markdown",
   "id": "6cd891dd-c846-438a-8edc-28670e51ab9c",
   "metadata": {},
   "source": [
    "서로 독립인 랜덤표본 $X_1,X_2, \\dots, X_n$과 $Y_1,Y_2,\\dots,Y_n$이 각각 평균이 $\\mu_1,\\mu_2$ 이고, 분산은 $\\sigma^2$으로 같다고 하자, 이때\n",
    "\n",
    "$$\\frac{(\\bar{X}_n - \\bar{Y}_n) - (\\mu_1 - \\mu_2)}{\\sigma\\sqrt{2/n}}$$\n",
    "\n",
    "의 극한 분포를 구하라."
   ]
  },
  {
   "cell_type": "markdown",
   "id": "0ceabf88-522e-43fb-89ff-215643153699",
   "metadata": {},
   "source": [
    "**answer**"
   ]
  },
  {
   "cell_type": "markdown",
   "id": "effc6764-cae6-4125-995e-4851c91dde91",
   "metadata": {},
   "source": [
    "$E(X_n) = \\mu_1$, $E(Y_n) = \\mu_2$, $Var(X_n) = Var(Y_N) = \\sigma^2$\n",
    "\n",
    "$E(X_n - Y_N) = \\mu_1 - \\mu_2$, $var(X_n - Y_n) = 2\\sigma^2$\n",
    "\n",
    "$\\frac{\\sum(X_i - \\mu_i) - \\sum(Y_i - \\mu_2)}{\\sqrt{2\\sigma^2 n}} = \\frac{(\\bar{X}_n - \\bar{Y}_n) - (\\mu_1 - \\mu_2)}{\\sigma \\sqrt{2/n}} \\sim N(0,1)$"
   ]
  },
  {
   "cell_type": "markdown",
   "id": "1f66d719-af67-42e2-bce6-1fc0c7103c15",
   "metadata": {},
   "source": [
    "# 33."
   ]
  },
  {
   "cell_type": "markdown",
   "id": "f2a85446-dd62-4e45-b499-80b24986ccc9",
   "metadata": {},
   "source": [
    "평균이 1인 지수분포로부터 랜덤표본 $X_1, X_2, \\dots, X_n$을 얻었다.\n",
    "\n",
    "$\\sqrt{n}(\\sqrt{\\bar{X}_n} - 1)$의 극한 분포를 구하라."
   ]
  },
  {
   "cell_type": "markdown",
   "id": "bdd19c79-221c-4d0f-899f-bc415b2a51c5",
   "metadata": {},
   "source": [
    "**answer**"
   ]
  },
  {
   "cell_type": "markdown",
   "id": "1891e017-fe31-4ee5-9f24-e9c9ab477d99",
   "metadata": {},
   "source": [
    "$E(X_i) = 1$, $Var(X) = 1$\n",
    "\n",
    "$\\sum^n_{i=1} X_i \\sim N(n,n)$\n",
    "\n",
    "$\\frac{\\sum^n_{i=1}X_i - n}{\\sqrt{n}} \\sim Z(0,1)$\n",
    "\n",
    "$\\sqrt{n}(\\bar{X}_n - 1) \\xrightarrow[]{d} Z(0,1)$\n",
    "\n",
    "$g(x) = \\sqrt(x)$, $g'(x) = \\frac{1}{2\\sqrt{x}}$\n",
    "\n",
    "$\\sqrt{n} (g(\\bar{X}_n) - g(1)) \\xrightarrow[]{d} N(0,(g'(1))^2)$\n",
    "\n",
    "$\\sqrt{n}(\\bar{X}_n - 1) \\xrightarrow[]{d} N(0,\\frac{1}{4})$"
   ]
  },
  {
   "cell_type": "markdown",
   "id": "d1ec033f-7798-46a0-abac-9494e3bbca0d",
   "metadata": {},
   "source": [
    "# 34."
   ]
  },
  {
   "cell_type": "markdown",
   "id": "f62cdd4e-55eb-42a5-8c77-e1d332e555d7",
   "metadata": {},
   "source": [
    "평균과 분산이 각각 $\\mu$와 $\\sigma^2 < \\infty$인 확률밀도함수 $f(x)$로부터 랜덤표본 $X_1, X_2, \\dots, X_n$을 얻었다."
   ]
  },
  {
   "cell_type": "markdown",
   "id": "52d6304f-5ba8-4aa4-93fc-c2d2d876d398",
   "metadata": {},
   "source": [
    "## (1)"
   ]
  },
  {
   "cell_type": "markdown",
   "id": "595814fe-92e4-41f6-bbcf-40b20ccb2891",
   "metadata": {},
   "source": [
    "$\\sqrt{n}(\\bar{X}_n^2 - \\mu^2) \\xrightarrow[]{d} N(0,4 \\mu^2 \\sigma^2)$임을 보여라, 단 $\\mu \\neq 0$"
   ]
  },
  {
   "cell_type": "markdown",
   "id": "195c0bb1-e917-4b07-a55d-d77e295fa5b1",
   "metadata": {},
   "source": [
    "**answer**"
   ]
  },
  {
   "cell_type": "markdown",
   "id": "ad99750c-565b-41df-813b-a44bb7582b95",
   "metadata": {},
   "source": [
    "델타 방법 사용\n",
    "\n",
    "$\\sqrt{n}(g(X_n) - g(\\mu) ) \\xrightarrow[]{d} N(0,\\sigma^2(g'(\\mu)^2)$\n",
    "\n",
    "$g(X_n) = \\bar{X}_n^2$, $g'(X_n) = 2\\bar{X}_n$\n",
    "\n",
    "$g(\\mu) = \\mu^2$, $(g'(\\mu))^2 = 4\\mu^2$\n",
    "\n",
    "$\\sqrt{n}(\\bar{X}_n^2 - \\mu^2) \\xrightarrow[]{d} N(0,4\\mu^2 \\sigma^2)$"
   ]
  },
  {
   "cell_type": "markdown",
   "id": "82075fd9-bd82-46d5-8c23-5b554a850a68",
   "metadata": {},
   "source": [
    "## (2)"
   ]
  },
  {
   "cell_type": "markdown",
   "id": "fd8cef5c-4feb-400f-8b5e-4ed1c0b6a1cb",
   "metadata": {},
   "source": [
    "(1)에서 $\\mu=0$인 경우에 대해 설명하라."
   ]
  },
  {
   "cell_type": "markdown",
   "id": "306f3ae1-4eb4-4558-b3d0-5eb68fee803f",
   "metadata": {},
   "source": [
    "**answer**"
   ]
  },
  {
   "cell_type": "markdown",
   "id": "0c8601c0-0e15-4ea9-80f9-fdca5dff65e1",
   "metadata": {},
   "source": [
    "$\\mu=0$\n",
    "\n",
    "$\\sqrt{n} \\bar{X}^2_n \\xrightarrow[]{d} N(0,0)$ 분산 0\n",
    "\n",
    "$\\sqrt{n}\\bar{X}^2_n \\xrightarrow[]{p} 0$ 0으로 확률 수렴한다."
   ]
  }
 ],
 "metadata": {
  "kernelspec": {
   "display_name": "Python 3 (ipykernel)",
   "language": "python",
   "name": "python3"
  },
  "language_info": {
   "codemirror_mode": {
    "name": "ipython",
    "version": 3
   },
   "file_extension": ".py",
   "mimetype": "text/x-python",
   "name": "python",
   "nbconvert_exporter": "python",
   "pygments_lexer": "ipython3",
   "version": "3.8.12"
  }
 },
 "nbformat": 4,
 "nbformat_minor": 5
}
