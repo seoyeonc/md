{
 "cells": [
  {
   "cell_type": "raw",
   "id": "f396f7a6-9c81-4b93-8e52-130ebde6573e",
   "metadata": {
    "id": "cac470df-29e7-4148-9bbd-d8b9a32fa570",
    "tags": []
   },
   "source": [
    "---\n",
    "title: \"Theoritical Statistics HW2\"\n",
    "author: \"SEOYEON CHOI\"\n",
    "date: \"2023-01-06\"\n",
    "categories:\n",
    "  - Theoritical Statistics\n",
    "---"
   ]
  },
  {
   "cell_type": "markdown",
   "id": "0cfbc0fd-2a87-4775-97b9-a9c38211731e",
   "metadata": {},
   "source": [
    "> 기댓값"
   ]
  },
  {
   "cell_type": "markdown",
   "id": "84676637-308b-4c66-b8c1-d4b74de41ec6",
   "metadata": {},
   "source": [
    "# 수업 과제 1."
   ]
  },
  {
   "cell_type": "markdown",
   "id": "a0cadd80-682d-4e79-8e95-f4a4615151b4",
   "metadata": {},
   "source": [
    "평균이 0이고, 표준편차가 1인 변수로 변환\n",
    "\n",
    "$$Z = \\frac{X-\\mu_X}{\\sigma_X}$$"
   ]
  },
  {
   "cell_type": "markdown",
   "id": "72ea10ef-f8ec-4076-aac1-e8c7d60abc4e",
   "metadata": {
    "tags": []
   },
   "source": [
    "**Answer**"
   ]
  },
  {
   "cell_type": "markdown",
   "id": "4e28b570-bbe5-450a-ba88-092569a66a09",
   "metadata": {},
   "source": [
    "$E(\\frac{X-\\mu_X}{\\sigma_X}) = E(\\frac{X}{\\sigma_X}) - E(\\frac{\\mu_X}{\\sigma_X}) = \\frac{\\mu_X}{\\sigma_X} - \\frac{\\mu_X}{\\sigma_X} = 0$\n",
    "\n",
    "$Var(\\frac{X-\\mu_X}{\\sigma_X}) = E((\\frac{X-\\mu_X}{\\sigma_X})^2) - (E(\\frac{X-\\mu_X}{\\sigma_X}))^2$\n",
    "\n",
    "$= E(\\frac{X^2 + \\mu X^2 - 2\\mu_X X}{\\sigma^2_X})= \\frac{E(X^2) + \\mu^2_X - 2\\mu^2_X}{\\sigma^2_X}$\n",
    "\n",
    "$= \\frac{E(X^2) - \\mu_X^2}{\\sigma_X^2} = \\frac{\\sigma_X^2}{\\sigma^2_X} = 1$"
   ]
  },
  {
   "cell_type": "markdown",
   "id": "48979635-870d-41c6-89e1-61ff38a5e874",
   "metadata": {},
   "source": [
    "# 수업 과제 2."
   ]
  },
  {
   "cell_type": "markdown",
   "id": "b16bfb0c-13d4-4da5-8216-72579314b6b2",
   "metadata": {},
   "source": [
    "$Cov(X,Y) = E((X-\\mu_X)(Y - \\mu_Y)) = E(XY) - E(X)E(Y)$ 를 증명하라."
   ]
  },
  {
   "cell_type": "markdown",
   "id": "2f23708d-334c-4260-8d1b-c36d93dba9ef",
   "metadata": {
    "tags": []
   },
   "source": [
    "**Answer**"
   ]
  },
  {
   "cell_type": "markdown",
   "id": "95dd913e-1c32-4f86-adc8-eb901afb52a4",
   "metadata": {},
   "source": [
    "$E(XY - X\\mu_Y - Y\\mu_X + \\mu_X\\mu_Y)$\n",
    "\n",
    "$= E(XY) - \\mu_YE(X) - \\mu_XE(Y) + \\mu_x \\mu_Y$\n",
    "\n",
    "$= E(XY) - E(X)E(Y) - E(X)E(Y) + E(X)E(Y)$\n",
    "\n",
    "$= E(XY) - E(X)E(Y)$"
   ]
  },
  {
   "cell_type": "markdown",
   "id": "b0d53d19-938f-412c-872f-080ff687699f",
   "metadata": {},
   "source": [
    "# 수업 과제 3."
   ]
  },
  {
   "cell_type": "markdown",
   "id": "fe4bf0fd-63fb-481e-9991-334235e2ad28",
   "metadata": {
    "tags": []
   },
   "source": [
    "**Answer**"
   ]
  },
  {
   "cell_type": "markdown",
   "id": "2f42615b-61fb-4114-b0d3-e1b95b8a80df",
   "metadata": {},
   "source": [
    "$E(Y|X=x) = \\int^{\\infty}_{-\\infty} y f_{Y|X}(y|x) dy = \\int^{\\infty}_{-\\infty} y\\frac{f(X,Y)}{f_X(X)} dy$\n",
    "\n",
    "$= \\int^{\\infty}_{-\\infty} y \\frac{f(X)f(Y)}{f_X(X)} dy = \\int^{\\infty}_{-\\infty} y f(Y) dy = E(Y)$"
   ]
  },
  {
   "cell_type": "markdown",
   "id": "cbefb8d7-d462-4000-8fbb-0867c2b378a8",
   "metadata": {},
   "source": [
    "# 2.28."
   ]
  },
  {
   "cell_type": "markdown",
   "id": "71ffa14e-90e4-4d9e-9889-aca2d71e3d59",
   "metadata": {},
   "source": [
    "확률변수 $X_i$ 의 기댓값이 $\\lambda$라고 할 때($i = 1, \\dots , n),E(\\sum^n_{i=1} a_i X_i) = \\lambda$가 되기 위한 $a_i$의 조건은 무엇인가?"
   ]
  },
  {
   "cell_type": "markdown",
   "id": "dd94d339-28e0-44ea-9d22-4b26a4052044",
   "metadata": {
    "tags": []
   },
   "source": [
    "**Answer**"
   ]
  },
  {
   "cell_type": "markdown",
   "id": "5bbb160e-d448-4bf4-a52f-d1e4378518ff",
   "metadata": {},
   "source": [
    "$E(X_i) = \\lambda(i=a,\\dots,n)$\n",
    "\n",
    "$E(\\sum^n_{i=1} a_i X_i) = E(a_1 X_1 + a_2 X_2 + \\dots + a_n X_n)$\n",
    "\n",
    "$a_1 E(X_1) + a_2E(X_2) + \\dots + a_n E(X_n) = \\lambda(a_1 + \\dots + a_n)$\n",
    "\n",
    "$\\lambda = \\lambda(a_1 + \\dots + a_n)$\n",
    "\n",
    "$\\therefore \\sum^n_{i=1} a_i = 1$"
   ]
  },
  {
   "cell_type": "markdown",
   "id": "f4128826-df5b-42d2-a468-d843bbe17573",
   "metadata": {},
   "source": [
    "# 2.38"
   ]
  },
  {
   "cell_type": "markdown",
   "id": "64f0cb1b-2cf1-4e67-ac4f-0323767348b9",
   "metadata": {},
   "source": [
    "임의의 독립인 확률변수 $X, Y$에 대하여\n",
    "\n",
    "$$Cov(X+Y,X-Y) = Var(X) - Var(Y)$$\n",
    "\n",
    "가 성립됨을 보여라."
   ]
  },
  {
   "cell_type": "markdown",
   "id": "0e1a69ef-c83a-45a5-bc09-4c244399c636",
   "metadata": {
    "tags": []
   },
   "source": [
    "**Answer**"
   ]
  },
  {
   "cell_type": "markdown",
   "id": "828ffa0c-877a-459e-bf0c-f4dce1ea08f3",
   "metadata": {},
   "source": [
    "$Cov(X+Y,X-Y) = E((X+Y)(X-Y)) - E(X+Y)E(X-Y)$\n",
    "\n",
    "$\\star Var(X) = E(X^2) - E(X)^2$\n",
    "\n",
    "$\\star Var(Y) = E(Y^2) - E(Y)^2$\n",
    "\n",
    "$= E(X^2 - Y^2) - (E(X) + E(Y))(E(X)-E(Y))$\n",
    "\n",
    "$= E(X^2) - E(Y^2) - E(X)^2 + E(Y)^2$\n",
    "\n",
    "$= \\{ E(X^2) - E(X)^2 \\} - \\{ E(Y^2) - E(Y)^2 \\}$\n",
    "\n",
    "$= Var(X) - Var(Y)$"
   ]
  },
  {
   "cell_type": "markdown",
   "id": "93f639b9-89c9-4783-ac87-6e9d64d825a4",
   "metadata": {},
   "source": [
    "# 2.40"
   ]
  },
  {
   "cell_type": "markdown",
   "id": "89036311-5aa4-43e8-8c7b-35332593014b",
   "metadata": {},
   "source": [
    "확률변수 $X$와 $Y$의 결합확률밀도함수가\n",
    "\n",
    "$$f(x,y) = \\begin{cases} 4I & 0<x<1,1<y<2x \\text{인 경우} \\\\ 0 & \\text{그 외의 경우} \\end{cases}$$\n",
    "\n",
    "라고 하자. 이때"
   ]
  },
  {
   "cell_type": "markdown",
   "id": "092a9eac-7146-4298-a21b-ae0400276a2b",
   "metadata": {},
   "source": [
    "## (1)"
   ]
  },
  {
   "cell_type": "markdown",
   "id": "9f13111b-b330-4bd8-a464-46d0de24f7b8",
   "metadata": {},
   "source": [
    "$x$에 대한 $Y$의 조건부 기댓값 $E(Y|x)$를 구하라."
   ]
  },
  {
   "cell_type": "markdown",
   "id": "74b1ba70-8f83-43c9-b13a-9b7fb27d09a1",
   "metadata": {
    "tags": []
   },
   "source": [
    "**Answer**"
   ]
  },
  {
   "cell_type": "markdown",
   "id": "53785627-5f6f-4f6e-a571-5d2aeab38a28",
   "metadata": {},
   "source": [
    "$E(Y|x) = \\int^\\infty_{-\\infty} y f_{Y|X} (y) dy = \\int^\\infty_{-\\infty} y \\frac{f(X,y)}{f_X(X)}dy$\n",
    "\n",
    "$\\star$\n",
    "\n",
    "$f_X(X) = \\int f(x,y) dy = \\int^\\infty_{-\\infty} 4I(0<x<1,1<y<2x)dy$\n",
    "\n",
    "$= 4I(0<x<1)\\int_{-\\infty < y < \\infty , 1<y<2x} I(1<y<2x)dy$\n",
    "\n",
    "$= 4I(0<x<1)\\int^{2x}_1 a dy = 4I(0<x<1)[y]^{2x}_1$\n",
    "\n",
    "$= 4(2x-1)I(0<x<1)$\n",
    "\n",
    "$\\star$\n",
    "\n",
    "$= \\int^\\infty_{-\\infty} y \\frac{4I(0<x<1,1<y<2x)}{4(2x-1)I(0<x<1)} dy$\n",
    "\n",
    "$= \\int_{-\\infty < y< \\infty, 1<y<2x} y \\frac{I(0<x<1)}{2x-1} dy = \\frac{I(0<x<1)}{2x-1} \\int^{2x}_1 y dy$\n",
    "\n",
    "$= \\frac{I(0,x<1)}{2x-1} [\\frac{1}{2} y^2]^{2x}_1$\n",
    "\n",
    "$= \\frac{I(0<x<1)}{2x-1}(\\frac{1}{2}(4x^2-1))$\n",
    "\n",
    "$\\star 4x^2 - 1 = (2x+1)(2x-1)$\n",
    "\n",
    "$= \\frac{2x+1}{2}I(0<x<1)$"
   ]
  },
  {
   "cell_type": "markdown",
   "id": "9e65fbeb-19bc-4c3d-a9b0-ca4883c104fe",
   "metadata": {},
   "source": [
    "## (2)"
   ]
  },
  {
   "cell_type": "markdown",
   "id": "32841646-a656-4511-ac6d-4b2cedcff0ee",
   "metadata": {},
   "source": [
    "$y$에 대한 $X$의 조건부 기댓값 $E(X|y)$를 구하라."
   ]
  },
  {
   "cell_type": "markdown",
   "id": "2540a607-6d16-4d18-9152-334c9f60861d",
   "metadata": {
    "tags": []
   },
   "source": [
    "**Answer**"
   ]
  },
  {
   "cell_type": "markdown",
   "id": "ed6ff1fc-12d7-4e24-b9ed-f87f8442deda",
   "metadata": {},
   "source": [
    "$E(X|Y=y) = \\int^\\infty_{-\\infty} x f_{X|Y}(x|y) dx = \\int^\\infty_{-\\infty} x\\frac{f(x,y}{f(y)} dx$\n",
    "\n",
    "$\\star$\n",
    "\n",
    "$f_Y(Y) = \\int^\\infty_{-\\infty} f(x,y) dy = \\int^\\infty_{-\\infty} 4I(0<x<1,1<y<2x) dx$\n",
    "\n",
    "$= 4\\int_{-\\infty <x<\\infty, 0<x<1, 1<y<2x} 1 dx = \\int^1_{\\frac{y}{2}} 4I(1<y<2) dx [4x]^1_{\\frac{y}{2}}$\n",
    "\n",
    "$= (4-2y)I(1<y<2)$\n",
    "\n",
    "$\\star$\n",
    "\n",
    "$= \\int^\\infty_{-\\infty} x \\frac{4I(0<x<1,1<y<2x)}{(4-2y)I(1<y<2)} dx$\n",
    "\n",
    "$= \\frac{4}{4-2y} \\int_{-\\infty x<\\infty, 0<x<1,1<y<2x,1<y<2} x dx = \\frac{4}{4-2y} \\int^1_{\\frac{y}{2}} xI(1<y<2) dx$\n",
    "\n",
    "$= \\frac{4}{4-2y}[\\frac{1}{2}x^2]^1_{\\frac{y}{2}} = \\frac{4}{4-2y} (\\frac{1}{2} - \\frac{y^2}{8})$\n",
    "\n",
    "$= \\frac{4}{2(2-y)}(\\frac{4-y^2}{8})$\n",
    "\n",
    "$\\star 4-y^2 = (2+y)(2-y)$\n",
    "\n",
    "$= 4(2+y)I(1<y<2)$"
   ]
  },
  {
   "cell_type": "markdown",
   "id": "dd08eb7a-0a7a-4587-9352-d711865fde8d",
   "metadata": {},
   "source": [
    "## (3)"
   ]
  },
  {
   "cell_type": "markdown",
   "id": "eff2e31f-5fc4-495d-95e7-af1056d760d6",
   "metadata": {},
   "source": [
    "$x$에 관한 $Y$의 조건부 분산 $E[Y - E(Y|x)|x]^2$을 구하라."
   ]
  },
  {
   "cell_type": "markdown",
   "id": "031a4df5-c77a-4727-b4cf-17def053537b",
   "metadata": {
    "tags": []
   },
   "source": [
    "**Answer**"
   ]
  },
  {
   "cell_type": "markdown",
   "id": "891ce2dc-05f1-4ba8-bd9c-1ba85192a0dc",
   "metadata": {},
   "source": [
    "$E[(Y - E(Y|X=x))^2|X=x] = E(Y^2|X=x) - \\{ E(Y|X=x) \\}^2$\n",
    "\n",
    "$\\star$\n",
    "\n",
    "$E(Y^2|X=x) = \\int Y^2 f_{Y|X}(y) dy = \\int^\\infty_{-\\infty} y^2 \\frac{f(x,y)}{f_X(X)}dy$\n",
    "\n",
    "$= \\int^\\infty_{-\\infty} y^2 \\frac{4I(0<x<1,1<y<2x)}{4(2x-1)I(0<x<1)} dy$\n",
    "\n",
    "$= \\frac{1}{2x-1} I(0<x<0 \\int_{-\\infty < y<\\infty, 1<y<2x} y^2 dy$\n",
    "\n",
    "$= \\frac{1}{2x-1} I(0<x<1)\\int^{2x}_1 y^2 dy$\n",
    "\n",
    "$= \\frac{1}{2x-1}I(0<x<1) [\\frac{1}{3} y^2]^{2x}_1$\n",
    "\n",
    "$= \\frac{1}{2x-1} I (0<x<1)\\frac{1}{3}(8x^3-1)$\n",
    "\n",
    "$= \\frac{4x^2 + 2x+1}{3} I(0<x<1)$\n",
    "\n",
    "$\\star$\n",
    "\n",
    "$= (\\frac{4x^2 + 2x + 1}{3} - \\frac{(2x+ 1)^2}{2^2}) I(0<x<1)$\n",
    "\n",
    "$\\frac{(2x-1)^2}{12}I(0<x<1)$"
   ]
  },
  {
   "cell_type": "markdown",
   "id": "96bd39ab-9f0a-4100-809c-13c43ffc118d",
   "metadata": {},
   "source": [
    "# 2.41"
   ]
  },
  {
   "cell_type": "markdown",
   "id": "43bf7cdc-c563-4728-8d12-50fb54073caf",
   "metadata": {},
   "source": [
    "확률변수 $X$의 확률밀도함수가\n",
    "\n",
    "$$f(x) = \\begin{cases} \\frac{1}{18} , & x=1,3\\text{인 경우} \\\\ \\frac{16}{18}, & x=2\\text{인 경우} \\end{cases}$$\n",
    "\n",
    "로 주어졌을때, $P(|X-E(X)|\\ge \\delta ) = Var(X)\\delta^2$을 만족하는 $\\delta$를 찾아라."
   ]
  },
  {
   "cell_type": "markdown",
   "id": "3522aec0-29fb-40c9-b6a0-a5941ebc44c8",
   "metadata": {
    "tags": []
   },
   "source": [
    "**Answer**"
   ]
  },
  {
   "cell_type": "markdown",
   "id": "789ecaab-0f1f-4064-98a8-00db57dba542",
   "metadata": {},
   "source": [
    "$P(X-E(X)|\\ge \\delta) \\le \\frac{var(X)}{\\delta^2}$\n",
    "\n",
    "$E(X) = 1 \\times \\frac{1}{18} + 2 \\times \\frac{16}{18} + 3 \\times \\frac{1}{18} = \\frac{36}{18} = 2$\n",
    "\n",
    "$var(X) = E(X-E(X)^2) = (1-2)^2\\times \\frac{1}{18} + (2-2)^2 \\times \\frac{16}{18} + (3-2)^2 \\times \\frac{1}{18} = \\frac{1}{9}$\n",
    "\n",
    "$P(|X-2| \\ge \\delta) = \\frac{1}{9 \\delta}$\n",
    "\n",
    "$\\star$\n",
    "\n",
    "$x - 2 \\ge \\delta$\n",
    "\n",
    "$x-2 \\le -\\delta$\n",
    "\n",
    "$\\delta = 1$\n",
    "\n",
    "$\\star$\n",
    "\n",
    "$P(X \\ge 3) + P(X \\le 1) = \\frac{1}{9}$"
   ]
  },
  {
   "cell_type": "markdown",
   "id": "bc325411-653f-4ca9-8a31-76d61c34ab83",
   "metadata": {},
   "source": [
    "마코프 확률부등식에 따라\n",
    "\n",
    "$\\frac{1}{\\delta} = \\frac{var(X)}{\\delta^2}$\n",
    "\n",
    "$\\delta = var(X)$\n",
    "\n",
    "$\\therefore \\delta = \\frac{1}{9}$"
   ]
  },
  {
   "cell_type": "markdown",
   "id": "6bd57a5c-93ce-441b-865b-657d2841c418",
   "metadata": {},
   "source": [
    "# 2.60"
   ]
  },
  {
   "cell_type": "markdown",
   "id": "e4471d72-7ca5-4628-9d48-8132378f2daf",
   "metadata": {},
   "source": [
    "확률밀도함수가 $f_X(x) = \\frac{1}{2},-1<x<1$인 확률변수의 적률생성함수를 계산하라."
   ]
  },
  {
   "cell_type": "markdown",
   "id": "13289601-3af4-433d-b159-a7887ce846f0",
   "metadata": {
    "tags": []
   },
   "source": [
    "**Answer**"
   ]
  },
  {
   "cell_type": "markdown",
   "id": "411e3aff-6857-4782-b259-69fd37a6dcbd",
   "metadata": {},
   "source": [
    "$M_X(t) = E(e^{tx})$\n",
    "\n",
    "$= \\int^{\\infty}_{-\\infty} e^{tx} f_X(x) dx$\n",
    "\n",
    "$= \\int^{\\infty}_{-\\infty} e^{tx} \\frac{1}{2} I (-1<x<1) dx$\n",
    "\n",
    "$= \\int^1_{-1} e^{tx}\\frac{1}{2} dx$\n",
    "\n",
    "$= \\frac{1}{2} [\\frac{1}{t} e^{tx}]^1_{-1}$\n",
    "\n",
    "$= \\frac{1}{2} (\\frac{1}{t} e^t - \\frac{1}{t} e^{-t})$\n",
    "\n",
    "$\\star M_X^{'} (t) = \\frac{-(e^t - e^{-t})}{2t^2} + \\frac{e^t + e^{-t}}{2t}$"
   ]
  },
  {
   "cell_type": "markdown",
   "id": "7321bc33-90b6-4c5b-a4e7-102dfe0da1a5",
   "metadata": {},
   "source": [
    "# 2.64"
   ]
  },
  {
   "cell_type": "markdown",
   "id": "3d1c62e2-21c9-47d6-93a6-e93e16d763e5",
   "metadata": {},
   "source": [
    "확률변수들 $X_i(1,2,\\dots,n)$는 서로 독립이며, '성공'일 확률이 $p$인 베르누이 분포를 따른다고 하자."
   ]
  },
  {
   "cell_type": "markdown",
   "id": "34ee7d0b-ff98-42a3-9a68-400ea7f38d9f",
   "metadata": {},
   "source": [
    "$\\star$\n",
    "\n",
    "$f(x) = p^x(1-p)^{1-x}, x=0,1$\n",
    "\n",
    "$X = 1 \\to f(0) = 1-p$\n",
    "\n",
    "$X = 0 \\to f(1) = p$"
   ]
  },
  {
   "cell_type": "markdown",
   "id": "b54c4c54-83ec-43a6-8398-df99b78ab03a",
   "metadata": {},
   "source": [
    "## (1)"
   ]
  },
  {
   "cell_type": "markdown",
   "id": "2d507890-6db3-41c0-b9bd-a56262c54521",
   "metadata": {},
   "source": [
    "확률변수들 $X_i$의 적률생성함수를 구하라."
   ]
  },
  {
   "cell_type": "markdown",
   "id": "fb734e73-7228-49d3-8c30-693e0825a86f",
   "metadata": {
    "tags": []
   },
   "source": [
    "**Answer**"
   ]
  },
  {
   "cell_type": "markdown",
   "id": "d27c1f3d-d90f-4278-9ba5-c58206bec1b9",
   "metadata": {},
   "source": [
    "$M_X(t) = E(e^{tx})$\n",
    "\n",
    "$\\sum^1_{x=0}e^{tx}f(x) = e^0 f(0) + e^tf(1) = 1-p+e^tp$"
   ]
  },
  {
   "cell_type": "markdown",
   "id": "d9aed7e4-fecd-4a79-922f-c4a3582ce522",
   "metadata": {},
   "source": [
    "## (2)"
   ]
  },
  {
   "cell_type": "markdown",
   "id": "73b0bd56-07e4-4fc2-b1f3-4e13ff64127c",
   "metadata": {},
   "source": [
    "(1)의 결과를 이용하여 확률변수 $X_i$의 분산을 구하라."
   ]
  },
  {
   "cell_type": "markdown",
   "id": "93729d94-a36c-45a0-87f5-d209652cf3e9",
   "metadata": {
    "tags": []
   },
   "source": [
    "**Answer**"
   ]
  },
  {
   "cell_type": "markdown",
   "id": "1f73ebc0-eb5d-4910-b641-f4fd0ad18cf7",
   "metadata": {},
   "source": [
    "$M_X^{'} (t) = e^tp \\to M_X^{'}(0) = p$\n",
    "\n",
    "$M_X^{''} (t) = e^tp \\to M_X^{''}(0) = p$\n",
    "\n",
    "$var(X_i) = E(X^2) - (E(X))^2$\n",
    "\n",
    "$= M_X^{''}(0) - \\{ M_X^{'}(0)\\}^2$\n",
    "\n",
    "$= p - p^2$\n",
    "\n",
    "$= p(1-p)$"
   ]
  },
  {
   "cell_type": "markdown",
   "id": "a67fa491-3ad8-4ae7-b06c-c2847aff78cf",
   "metadata": {},
   "source": [
    "## (3)"
   ]
  },
  {
   "cell_type": "markdown",
   "id": "8639a595-0e6f-4594-9fb6-fdc7133a656e",
   "metadata": {},
   "source": [
    "(1)의 결과를 이용하여 확률변수 $\\sum^n_{i=1} X_i$의 적률생성함수를 구하라."
   ]
  },
  {
   "cell_type": "markdown",
   "id": "afcd91c1-936b-4e4f-b034-5497e5d09f92",
   "metadata": {
    "tags": []
   },
   "source": [
    "**Answer**"
   ]
  },
  {
   "cell_type": "markdown",
   "id": "45b7c22d-58ce-435e-a3c5-e527e2cfb7ab",
   "metadata": {},
   "source": [
    "$M_{\\sum^n_{i=1} X_i}(t) = E(e^{t\\sum^n_{i=1} X_i})$\n",
    "\n",
    "$= E(e^{tX_1 + tX_2 + \\dots + tX_n})$\n",
    "\n",
    "$= E(e^{tX_1} e^{tX_2} \\dots e^{tX_n})$\n",
    "\n",
    "$= E(e^{tx})E(e^{tX_2})\\dots E(e^{tX_n}) $\n",
    "\n",
    "$= M_{X_1}(t) M_{X_2}(t) \\dots M_{X_n}(t)$\n",
    "\n",
    "$= (1-p+pe^t)^n \\to$ 이항분포의 적률생성함수"
   ]
  },
  {
   "cell_type": "markdown",
   "id": "627000c8-8615-438a-bdb3-70773403963e",
   "metadata": {},
   "source": [
    "# 2.66"
   ]
  },
  {
   "cell_type": "markdown",
   "id": "0748342b-0572-4ad3-8aba-cf4ce032f06d",
   "metadata": {},
   "source": [
    "확률변수 $X$의 적률생성함수가 $M_X(t) = \\frac{1}{9}e^t + \\frac{1}{3}e^{3t} + \\frac{5}{9}e^{5t}$로 주어졌을 떄,"
   ]
  },
  {
   "cell_type": "markdown",
   "id": "0e3e1f3d-01f2-49fd-8614-7b1afe0bac23",
   "metadata": {},
   "source": [
    "$\\star$\n",
    "\n",
    "- 이산형"
   ]
  },
  {
   "cell_type": "markdown",
   "id": "a0856334-70a0-4d3a-b16d-955d4521bd52",
   "metadata": {
    "tags": []
   },
   "source": [
    "## (1)"
   ]
  },
  {
   "cell_type": "markdown",
   "id": "ea9b9742-8db7-4c51-ac10-9d2eb138b1c8",
   "metadata": {},
   "source": [
    "$P(X = 3)$을 계산하라."
   ]
  },
  {
   "cell_type": "markdown",
   "id": "5f074064-47ce-4fa3-b754-1931a7ae1600",
   "metadata": {
    "tags": []
   },
   "source": [
    "**Answer**"
   ]
  },
  {
   "cell_type": "markdown",
   "id": "41dce64a-9738-4bbb-8730-77127c7c868d",
   "metadata": {},
   "source": [
    "$P(X=1) = \\frac{1}{9}$\n",
    "\n",
    "$P(X=3) = \\frac{3}{9}$\n",
    "\n",
    "$P(X=5) = \\frac{5}{9}$"
   ]
  },
  {
   "cell_type": "markdown",
   "id": "91f553c7-e248-40db-a5f2-44ce704a9bbf",
   "metadata": {
    "tags": []
   },
   "source": [
    "## (2)"
   ]
  },
  {
   "cell_type": "markdown",
   "id": "fd05da49-f9d3-46c8-806e-d2199f89a681",
   "metadata": {},
   "source": [
    "$X$의 확륢밀도함수를 구하라."
   ]
  },
  {
   "cell_type": "markdown",
   "id": "ead79bff-d683-4437-8dd9-02de90b64e78",
   "metadata": {
    "tags": []
   },
   "source": [
    "**Answer**"
   ]
  },
  {
   "cell_type": "markdown",
   "id": "0659c40f-fab6-4670-a082-c4b5828a3e9e",
   "metadata": {},
   "source": [
    "$M_X(t) = E(e^{tx} = \\sum^n_{i=1} e^{tx} f(x) = \\frac{1}{9}e^t + \\frac{3}{9} e^{3t} + \\frac{5}{9} e^{5t}$\n",
    "\n",
    "$\\therefore f(x) = \\frac{x}{9}$"
   ]
  }
 ],
 "metadata": {
  "kernelspec": {
   "display_name": "Python 3 (ipykernel)",
   "language": "python",
   "name": "python3"
  },
  "language_info": {
   "codemirror_mode": {
    "name": "ipython",
    "version": 3
   },
   "file_extension": ".py",
   "mimetype": "text/x-python",
   "name": "python",
   "nbconvert_exporter": "python",
   "pygments_lexer": "ipython3",
   "version": "3.8.12"
  }
 },
 "nbformat": 4,
 "nbformat_minor": 5
}
