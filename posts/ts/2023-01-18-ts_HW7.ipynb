{
 "cells": [
  {
   "cell_type": "raw",
   "id": "f34d6f0b-3a0c-46b7-b35f-99fc27212d33",
   "metadata": {
    "id": "cac470df-29e7-4148-9bbd-d8b9a32fa570",
    "tags": []
   },
   "source": [
    "---\n",
    "title: \"Theoritical Statistics HW7\"\n",
    "author: \"SEOYEON CHOI\"\n",
    "date: \"2023-01-18\"\n",
    "categories:\n",
    "  - Theoritical Statistics\n",
    "---"
   ]
  },
  {
   "cell_type": "markdown",
   "id": "fea2bb8a-070f-43d8-83bf-c2d8e51611b2",
   "metadata": {},
   "source": [
    "> 8장 검정의 기본요소"
   ]
  },
  {
   "cell_type": "markdown",
   "id": "859c43b7-a38a-471d-bace-544e8a630271",
   "metadata": {},
   "source": [
    "# 수업시간 과제"
   ]
  },
  {
   "cell_type": "markdown",
   "id": "97b68d09-bbc4-4c50-aefa-bca5de77d8b6",
   "metadata": {},
   "source": [
    "$X_1, X_2, \\dots X_n$ 이 다음 분포로부터의 랜덤샘플일 때 $\\theta$의 추정량 $\\hat{\\theta}=\\bar{X}$이 비편향추정량 중에서 분산이 가장 작은 추정량임을 보여라.\n",
    "\n",
    "- $Poisson(\\theta)$"
   ]
  },
  {
   "cell_type": "markdown",
   "id": "04e5b6ce-3b00-40cc-83de-feae00247d45",
   "metadata": {},
   "source": [
    "**answer**"
   ]
  },
  {
   "cell_type": "markdown",
   "id": "4d72fa4a-2e46-4b19-987f-c298a831ef93",
   "metadata": {},
   "source": [
    "$X \\sim Poisson(\\lambda) \\to f(x| \\lambda) = \\frac{\\lambda^x e^{-\\lambda}}{\\lambda!}$\n",
    "\n",
    "$E(X) = \\lambda$, $Var(X) = \\lambda$\n",
    "\n",
    "$Var(\\bar{X}) = \\frac{1}{nI(\\theta)}$일까?\n",
    "\n",
    "$I(\\theta) = E(\\frac{\\partial}{\\partial \\lambda} log f(x|\\lambda)^2)$\n",
    "\n",
    "$= E(-1 + \\frac{X}{\\lambda})^2 = E(\\frac{X-\\lambda}{\\lambda})^2 = \\frac{E(X^2) - 2\\lambda E(X) + \\lambda^2}{\\lambda^2} = \\frac{\\lambda + \\lambda^2-2\\lambda^2 + \\lambda^2}{\\lambda^2} = \\frac{1}{\\lambda}$\n",
    "\n",
    "$\\frac{1}{nI(\\theta)} = \\frac{\\lambda}{n}$\n",
    "\n",
    "$Var(\\bar{X}) = \\frac{\\lambda}{n}$\n",
    "\n",
    "$\\therefore \\bar{X}$는 MVUE다."
   ]
  },
  {
   "cell_type": "markdown",
   "id": "114d670c-ff41-465c-b80d-ac1d1e7d27f6",
   "metadata": {},
   "source": [
    "# 수업시간 과제"
   ]
  },
  {
   "cell_type": "markdown",
   "id": "f015f07f-ff57-448b-b9b9-5e33f6add6b8",
   "metadata": {},
   "source": [
    "$X_1,X_2, \\dots, X_n$가 $Bernoulli(p)$로부터의 랜덤샘플이라고 할 때, $Bernoulli(p)$의 분산의 최대가능도추정량의 점근분포를 구하시오."
   ]
  },
  {
   "cell_type": "markdown",
   "id": "6a4810c6-1ef1-4f4f-a3cf-9034bf7e1b29",
   "metadata": {},
   "source": [
    "**answer**"
   ]
  },
  {
   "cell_type": "markdown",
   "id": "255da28f-1762-40f5-ad49-9ed585cefe85",
   "metadata": {},
   "source": [
    "델타 방법 이용\n",
    "\n",
    "$\\sqrt{n}(g(\\hat{\\theta})-g(\\theta_0) \\xrightarrow[]{d} N(0,\\frac{g'(\\theta_0)^2}{I(\\theta_0)})$\n",
    "\n",
    "$g(\\theta_0) = p(1-p)$\n",
    "\n",
    "$g'(\\theta_0) = 1-2p$\n",
    "\n",
    "$I(p) = \\frac{1}{p(1-p)}$\n",
    "\n",
    "$\\therefore \\frac{(1-2p)^2}{I(p)} = p(1-p)(1-2p)^2$\n",
    "\n",
    "$\\sqrt{n}(\\frac{p(1-p)}{n} - p(1-p) \\xrightarrow[]{d} N(0,p(1-p)(1-2p)^2)$"
   ]
  },
  {
   "cell_type": "markdown",
   "id": "376472f5-143c-4d13-abe8-92c7be1e9c3d",
   "metadata": {},
   "source": [
    "# 4장 23."
   ]
  },
  {
   "cell_type": "markdown",
   "id": "a9eb23c9-f153-4814-a749-1c46d4274a3f",
   "metadata": {},
   "source": [
    "$X_1,X_2,X_3$이 $f_X(x:\\theta)=\\frac{1}{\\theta}exp(-\\frac{x}{\\theta}),x>0$으로부터 얻은 랜덤표본이라고 하자. 모수 $\\theta$를 추정함에 있어 $\\frac{X_1 + 2X_2 + X_3}{4}$의 $\\bar{X}_3$에 대한 효율을 구하라."
   ]
  },
  {
   "cell_type": "markdown",
   "id": "e10c23ab-90e6-410c-a660-781574c07c68",
   "metadata": {},
   "source": [
    "**answer**"
   ]
  },
  {
   "cell_type": "markdown",
   "id": "741cd3c7-67af-4eb6-97c5-259f667fe199",
   "metadata": {},
   "source": [
    "$\\sim \\frac{(X_1 + 2X_2 + X_3)/4}{\\bar{X}_3}$\n",
    "\n",
    "$\\text{eff}((X_1 + 2X_2 + X_3)/4,\\bar{X}_3) = \\frac{1/Var((X_1+2X_2+X_3)/4)}{1/Var(\\bar{X}_3)}$\n",
    "\n",
    "$E(\\frac{X_1 + 2X_2 + X_3}{4}) = \\frac{\\theta + 2\\theta + \\theta}{4} = \\theta \\to$비편향추정량\n",
    "\n",
    "$E(\\bar{X}_3) = \\theta \\to$ 비편향추정량\n",
    "\n",
    "$Var(\\frac{X_1 + 2X_2 + X_3}{4}) = \\frac{\\theta^2 + 4\\theta^2 + \\theta^2}{16} = \\frac{6\\theta^2}{16} = \\frac{3\\theta^2}{8}$\n",
    "\n",
    "$Var(\\bar{X}_3) = \\frac{\\theta^2}{3}$\n",
    "\n",
    "$\\therefore \\frac{8}{3\\theta^2} \\times \\frac{\\theta^2}{3} = \\frac{8}{9}$\n",
    "\n",
    "$(X_1 + 2X_2 + X_3)/4$ 가 $\\bar{X}_3$에 비해 $\\frac{8}{9}$만큼 효율을 가진다."
   ]
  },
  {
   "cell_type": "markdown",
   "id": "5850ae70-3645-4a23-a2bb-c33dacdde778",
   "metadata": {},
   "source": [
    "# 4장 25."
   ]
  },
  {
   "cell_type": "markdown",
   "id": "f8a7c33f-9d55-4a2d-9338-47e23a3d57fd",
   "metadata": {},
   "source": [
    "$X_1,X_2,\\dots,X_n$을 베르누이 $(p)$로부터 얻은 랜덤 표본이라고 하자.\n",
    "\n",
    "분산 $p(1-p)$에 대한 비편향추정량의 크래머-라오 하한값을 구하라."
   ]
  },
  {
   "cell_type": "markdown",
   "id": "c091894e-2271-44be-b612-5e429684024e",
   "metadata": {},
   "source": [
    "**answer**"
   ]
  },
  {
   "cell_type": "markdown",
   "id": "514458bd-41a5-4339-ad20-c7f12c50beeb",
   "metadata": {},
   "source": [
    "$f_X(x|p) = p^x(1-p)^{1-x}$\n",
    "\n",
    "$I(p) = E(\\frac{\\partial}{\\partial p} log f_X(x|p))^2$\n",
    "\n",
    "$= E(\\frac{\\partial}{\\partial p} X log p + (1-x) log(1-p))^2$\n",
    "\n",
    "$= E(\\frac{x}{p} - \\frac{1-x}{1-p})^2$\n",
    "\n",
    "$\\frac{E((x-p)^2}{o(1-p)^2}$\n",
    "\n",
    "$\\star E((x-p)^2 = Var \\sim p(1-p)$\n",
    "\n",
    "$= \\frac{E(x-p)^2}{p^2(1-p)^2} = \\frac{1}{p(1-p)}$\n",
    "\n",
    "CRLB: $\\frac{(g'(p))^2}{nI(p)} = \\frac{p(1-p)(1-2p)^2}{n}$"
   ]
  }
 ],
 "metadata": {
  "kernelspec": {
   "display_name": "Python 3 (ipykernel)",
   "language": "python",
   "name": "python3"
  },
  "language_info": {
   "codemirror_mode": {
    "name": "ipython",
    "version": 3
   },
   "file_extension": ".py",
   "mimetype": "text/x-python",
   "name": "python",
   "nbconvert_exporter": "python",
   "pygments_lexer": "ipython3",
   "version": "3.8.12"
  }
 },
 "nbformat": 4,
 "nbformat_minor": 5
}
