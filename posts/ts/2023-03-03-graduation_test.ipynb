{
 "cells": [
  {
   "cell_type": "raw",
   "id": "7e1c33b0-6e06-4fce-9ce0-b661198c5df2",
   "metadata": {
    "id": "cac470df-29e7-4148-9bbd-d8b9a32fa570",
    "tags": []
   },
   "source": [
    "---\n",
    "title: \"Theoritical Statistics GT\"\n",
    "author: \"SEOYEON CHOI\"\n",
    "date: \"2023-03-03\"\n",
    "categories:\n",
    "  - Theoritical Statistics\n",
    "---"
   ]
  },
  {
   "cell_type": "markdown",
   "id": "984ec6c2-279b-4d50-8aa5-1ef1f3203186",
   "metadata": {},
   "source": [
    "> GT"
   ]
  },
  {
   "cell_type": "markdown",
   "id": "0a50b0d4-541e-49c6-b7b7-7126350ade7f",
   "metadata": {},
   "source": [
    "# 1."
   ]
  },
  {
   "cell_type": "markdown",
   "id": "261623ac-0004-4419-b04b-fb27765d2110",
   "metadata": {},
   "source": [
    "$X_1, \\dots, X_n$는 $Ber(p)$분포로부터의 랜덤표본이다."
   ]
  },
  {
   "cell_type": "markdown",
   "id": "3fad9228-df7f-44d8-ac98-713e55cbd9ba",
   "metadata": {},
   "source": [
    "## (a)"
   ]
  },
  {
   "cell_type": "markdown",
   "id": "87f952d3-e642-4f64-9c86-2d49a0f3f52d",
   "metadata": {},
   "source": [
    "이 랜덤표본의 결합확률밀도함수를 기술하시오."
   ]
  },
  {
   "cell_type": "markdown",
   "id": "563b2cca-1fb2-4fe2-89f1-875b154738ee",
   "metadata": {},
   "source": [
    "## (b)"
   ]
  },
  {
   "cell_type": "markdown",
   "id": "68ad80f6-a51a-4b3c-85a5-f9afe41ca3c7",
   "metadata": {},
   "source": [
    "$p(1-p)$에 대한 최대가능도추정량을 구하시오."
   ]
  },
  {
   "cell_type": "markdown",
   "id": "3c540a4d-56a7-4151-aaec-119331d0e25b",
   "metadata": {},
   "source": [
    "## (c)"
   ]
  },
  {
   "cell_type": "markdown",
   "id": "9c0c8e6b-d264-405e-9d84-f05e7688a589",
   "metadata": {},
   "source": [
    "$X_1(1-X_2)$의 기댓값을 구하시오."
   ]
  },
  {
   "cell_type": "markdown",
   "id": "d495ad48-32e4-42a6-a032-85bf20b0af0d",
   "metadata": {},
   "source": [
    "## (d)"
   ]
  },
  {
   "cell_type": "markdown",
   "id": "1988729e-d8ac-4975-bb6d-752af6546bc9",
   "metadata": {},
   "source": [
    "$E[X_1(1-X_2)|\\sum^n_{i=1} X_i = t]$을 구하시오."
   ]
  },
  {
   "cell_type": "markdown",
   "id": "6bd006a5-f55c-4f9b-9396-baeafd40214e",
   "metadata": {},
   "source": [
    "## (e)"
   ]
  },
  {
   "cell_type": "markdown",
   "id": "38ac7874-bd7e-44b2-8740-70a9d8160c59",
   "metadata": {},
   "source": [
    "$p=\\frac{1}{2}$일 때의 점근분포를 구체적으로 제시하라."
   ]
  },
  {
   "cell_type": "markdown",
   "id": "e37cd117-a22f-445b-8077-118e2887a55b",
   "metadata": {},
   "source": [
    "## (f)"
   ]
  },
  {
   "cell_type": "markdown",
   "id": "d9ae1d67-bca5-4e6d-b81b-7b982ea687c6",
   "metadata": {},
   "source": [
    "가설 $H_0 : p = \\frac{1}{2}$ vs $H_1 : p \\neq \\frac{1}{2}$ 일때, 일반화 가능도비를 이용하여 기각 영역을 제시하라."
   ]
  },
  {
   "cell_type": "markdown",
   "id": "31994718-5a17-46d3-ad2e-b2622d5991e9",
   "metadata": {},
   "source": [
    "# 2."
   ]
  },
  {
   "cell_type": "markdown",
   "id": "40ab2507-e537-4970-b1ec-5123b9732090",
   "metadata": {},
   "source": [
    "$Y_i \\sim Ber(p_i)$일 때, $logit(p_i) = log(\\frac{p}{1-p})$에 공변량 $x_i$를 더한 것으로 표현 가능하다. 즉, $logit(p_i) = \\alpha + \\beta x_i$의 선형결합 형태로 나타낼 수 있다. 최대가능도추정량을 이용하여 구체적으로 설명하라."
   ]
  },
  {
   "cell_type": "code",
   "execution_count": null,
   "id": "25b3b88c-0682-4c2e-a8d9-8afd6a93ed8f",
   "metadata": {},
   "outputs": [],
   "source": []
  }
 ],
 "metadata": {
  "kernelspec": {
   "display_name": "R",
   "language": "R",
   "name": "ir"
  },
  "language_info": {
   "codemirror_mode": "r",
   "file_extension": ".r",
   "mimetype": "text/x-r-source",
   "name": "R",
   "pygments_lexer": "r",
   "version": "4.1.2"
  }
 },
 "nbformat": 4,
 "nbformat_minor": 5
}
