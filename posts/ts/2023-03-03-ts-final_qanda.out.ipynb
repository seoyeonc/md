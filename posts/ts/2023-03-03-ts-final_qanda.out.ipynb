{
  "cells": [
    {
      "cell_type": "markdown",
      "metadata": {},
      "source": [
        "# Theoritical Statistics Final term 6 Explanation\n",
        "\n",
        "GUEBIN CHOI  \n",
        "2023-03-03\n",
        "\n",
        "> Final term 질문\n",
        "\n",
        "[참고](https://guebin.github.io/SC2022/0329.html)"
      ],
      "id": "ec95a6ff-be06-49b9-83eb-5dad5b5b6b4f"
    },
    {
      "cell_type": "code",
      "execution_count": 1,
      "metadata": {},
      "outputs": [],
      "source": [
        "using Distributions, Plots"
      ],
      "id": "e3334ca6-20a8-4a69-96bc-5697f680fa5b"
    },
    {
      "cell_type": "markdown",
      "metadata": {},
      "source": [
        "# 6.\n",
        "\n",
        "$f(x) = \\frac{1}{\\theta} exp(-\\frac{x}{\\theta}) \\to$ 평균이 $\\theta$인\n",
        "지수분포\n",
        "\n",
        "$H_0 : \\theta = 2, H_1 : \\theta = 1$\n",
        "\n",
        "검정통계량 $T$"
      ],
      "id": "c8e67758-8bc5-4262-8a28-230757a9fdba"
    },
    {
      "cell_type": "code",
      "execution_count": 2,
      "metadata": {},
      "outputs": [
        {
          "output_type": "display_data",
          "metadata": {},
          "data": {
            "text/plain": [
              "#1 (generic function with 1 method)"
            ]
          }
        }
      ],
      "source": [
        "T= x -> 0.5*exp(-0.5*x[1]) * 0.5*exp(-0.5*x[2])  / (exp(-x[1])*exp(-x[2]))"
      ],
      "id": "50a0f172-b529-4094-ac37-03c6c47e1888"
    },
    {
      "cell_type": "markdown",
      "metadata": {},
      "source": [
        "## $\\alpha$ 구해보자. (시뮬레이션)"
      ],
      "id": "0b814e66-d855-4bd9-96d4-182504503b59"
    },
    {
      "cell_type": "code",
      "execution_count": 3,
      "metadata": {},
      "outputs": [
        {
          "output_type": "display_data",
          "metadata": {},
          "data": {
            "text/plain": [
              "2-element Vector{Float64}:\n",
              " 0.6687906085363371\n",
              " 1.5350253919744037"
            ]
          }
        }
      ],
      "source": [
        "θ=2 \n",
        "x = rand(Exponential(θ),2)"
      ],
      "id": "c998213b-594a-4fc8-9b99-6cbf38cee59b"
    },
    {
      "cell_type": "code",
      "execution_count": 4,
      "metadata": {},
      "outputs": [
        {
          "output_type": "display_data",
          "metadata": {},
          "data": {
            "text/plain": [
              "0.7524758613118447"
            ]
          }
        }
      ],
      "source": [
        "T(x)"
      ],
      "id": "0af784b4-4827-4279-955c-810ee6165e18"
    },
    {
      "cell_type": "code",
      "execution_count": 5,
      "metadata": {},
      "outputs": [
        {
          "output_type": "display_data",
          "metadata": {},
          "data": {
            "text/plain": [
              "0.15347"
            ]
          }
        }
      ],
      "source": [
        "Ts = [rand(Exponential(θ),2) |> T for i in 1:1400000]\n",
        "mean(Ts .< 1/2)"
      ],
      "id": "09a05c64-6e83-43b5-b4cd-fdb125a4675d"
    },
    {
      "cell_type": "markdown",
      "metadata": {},
      "source": [
        "## $\\beta$를 구해보자.(시뮬레이션)"
      ],
      "id": "e421e83b-edbc-48e6-93b9-6392ce213e03"
    },
    {
      "cell_type": "code",
      "execution_count": 6,
      "metadata": {},
      "outputs": [
        {
          "output_type": "display_data",
          "metadata": {},
          "data": {
            "text/plain": [
              "2-element Vector{Float64}:\n",
              " 3.8233540141024713\n",
              " 1.6552057743570938"
            ]
          }
        }
      ],
      "source": [
        "θ=1\n",
        "x = rand(Exponential(θ),2)"
      ],
      "id": "cc0eab77-8a5a-4cae-9d4d-151f315c5843"
    },
    {
      "cell_type": "code",
      "execution_count": 7,
      "metadata": {},
      "outputs": [
        {
          "output_type": "display_data",
          "metadata": {},
          "data": {
            "text/plain": [
              "0.5970164285714286"
            ]
          }
        }
      ],
      "source": [
        "Ts = [rand(Exponential(θ),2) |> T for i in 1:1400000]\n",
        "mean(Ts .> 1/2)"
      ],
      "id": "d01e6bd4-e80a-4469-85d6-31003eef8d2e"
    },
    {
      "cell_type": "markdown",
      "metadata": {},
      "source": [
        "## $\\alpha$를 구해보자. (이론)\n",
        "\n",
        "$T(X_1,X_2) = \\frac{0.25 exp(-0.5 X_1 - 0.5 X_2)}{exp(-X_1 - X_2)} = 0.25 exp(0.5 X_1 + 0.5 X_2)$\n",
        "\n",
        "$T(X_1,X_2) < \\frac{1}{2} \\iff exp(0.5 X_1 + 0.5 X_2) < 2 \\iff X_1 + X_2 < 2 ln2$\n",
        "\n",
        "그런데 $X_1 + X_2 \\sim \\chi^2(4)$ under $H_0$\n",
        "\n",
        "$P(X_1 + X_2 < 2 ln 2) = \\int^{2ln2}_{0} \\frac{1}{4 \\Gamma(2)} x e^{-x/2} dx = \\int^{ln2}_{0} t e^{-t} dt = [ t(-e^{-t}) -e^{-t}]^{ln 2}_{0}$"
      ],
      "id": "075e781f-8fd1-4692-a398-01341aedaf94"
    },
    {
      "cell_type": "code",
      "execution_count": 8,
      "metadata": {},
      "outputs": [
        {
          "output_type": "display_data",
          "metadata": {},
          "data": {
            "text/plain": [
              "-1.0"
            ]
          }
        }
      ],
      "source": [
        "t = log(2) \n",
        "u = t*(-exp(-t)) - exp(-t)\n",
        "t = 0\n",
        "l = t*(-exp(-t)) - exp(-t)"
      ],
      "id": "76009f35-96e1-4b52-aa87-5f06aa68a058"
    },
    {
      "cell_type": "code",
      "execution_count": 9,
      "metadata": {},
      "outputs": [
        {
          "output_type": "display_data",
          "metadata": {},
          "data": {
            "text/plain": [
              "0.1534264097200273"
            ]
          }
        }
      ],
      "source": [
        "u-l"
      ],
      "id": "03764935-472f-4a00-8569-6986acfaf03d"
    },
    {
      "cell_type": "markdown",
      "metadata": {},
      "source": [
        "## $\\beta$를 구해보자. (이론)\n",
        "\n",
        "$T(X_1,X_2) > \\frac{1}{2} \\iff exp(0.5 X_1 + 0.5 X_2) < 2 \\iff 2(X_1 + X_2) < 4 ln2$\n",
        "\n",
        "그런데 $2(X_1 + X_2) \\sim \\chi^2(4)$ under $H_0$\n",
        "\n",
        "$P(2(X_1 + X_2) < 4 ln 2) = \\int_{4ln2}^{\\infty} \\frac{1}{4 \\Gamma(2)} x e^{-x/2} dx = \\int_{2ln2}^{\\infty} t e^{-t} dt = [ t(-e^{-t}) -e^{-t}]_{2ln 2}^{0}$"
      ],
      "id": "d9904c46-0ff8-49e5-a05d-da88a3ffbf01"
    },
    {
      "cell_type": "code",
      "execution_count": 10,
      "metadata": {},
      "outputs": [
        {
          "output_type": "display_data",
          "metadata": {},
          "data": {
            "text/plain": [
              "-0.5965735902799727"
            ]
          }
        }
      ],
      "source": [
        "u = 0\n",
        "t = 2*log(2)\n",
        "l = t*(-exp(-t)) - exp(-t)"
      ],
      "id": "a1c2b786-1151-41d1-ba0e-bdfa177170e0"
    },
    {
      "cell_type": "code",
      "execution_count": 11,
      "metadata": {},
      "outputs": [
        {
          "output_type": "display_data",
          "metadata": {},
          "data": {
            "text/plain": [
              "0.5965735902799727"
            ]
          }
        }
      ],
      "source": [
        "u-l"
      ],
      "id": "b5f4e926-10d3-4f21-ba22-8cef255c9e17"
    },
    {
      "cell_type": "markdown",
      "metadata": {},
      "source": [
        "# 박스뮬러변환\n",
        "\n",
        "$\\begin{cases} \\frac{R^2}{2} \\sim Exp(1) \\\\ \\Theta \\sim U(0,2\\pi) \\end{cases} \\to \\begin{bmatrix} R \\cos\\Theta \\\\ R \\sin \\Theta \\end{bmatrix} \\to N\\Big( \\begin{bmatrix} 0\\\\0 \\end{bmatrix} \\begin{bmatrix} 1 &0 \\\\ 0 & 1 \\end{bmatrix} \\Big)$\n",
        "\n",
        "위에서 $R^2$은 반지름의 제곱\n",
        "\n",
        "-   지수분포 $\\times$ 2는 평균이 2배가 되는 지수분포가 된다.(스케일링\n",
        "    가능)\n",
        "\n",
        "따라서 $R^2$은 $X_1^2 + X_2^2$랑 분포가 같다.\n",
        "\n",
        "-   여기에서 $X_1, X_2 \\sim N(0,1)$ 각각 표준정규분포를 따른다.\n",
        "-   표준정규분포를 각각 제곱해서 더하면 $\\chi^2$을 따른다.\n",
        "\n",
        "1.  $Exp(2) \\sim \\chi^2(2)$\n",
        "\n",
        "2.  $Exp(2) + Exp(2) \\sim \\chi^2(4)$\n",
        "\n",
        "3.  $Exp(2) + Exp(2)+ Exp(2) \\sim \\chi^2(6)$\n",
        "\n",
        "4.  $\\dots$\n",
        "\n",
        "5.  $\\sum^n Exp(2) \\sim Gamma(n,2)$\n",
        "\n",
        "    -   책에 따라 $Gamma(n,2)$ 혹은 $Gamma(n,\\frac{1}{2}$ 혹은\n",
        "        $Gamma\\frac{1}{2},1)$ 쓰기도 한다."
      ],
      "id": "b03720bb-12a1-48c0-b0f3-3376dee56c41"
    }
  ],
  "nbformat": 4,
  "nbformat_minor": 5,
  "metadata": {
    "kernelspec": {
      "name": "julia-1.7",
      "display_name": "Julia 1.7.2",
      "language": "julia"
    },
    "language_info": {
      "name": "julia",
      "file_extension": ".jl",
      "mimetype": "application/julia",
      "version": "1.7.2"
    }
  }
}