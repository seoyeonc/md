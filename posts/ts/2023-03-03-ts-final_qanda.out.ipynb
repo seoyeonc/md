{
  "cells": [
    {
      "cell_type": "markdown",
      "metadata": {},
      "source": [
        "# Theoritical Statistics Final term 6 Explanation\n",
        "\n",
        "GUEBIN CHOI  \n",
        "3/3/23\n",
        "\n",
        "> Final term 질문\n",
        "\n",
        "[참고](https://guebin.github.io/SC2022/0329.html)"
      ],
      "id": "671449fc-7776-438f-8a7b-27ebf765d5cc"
    },
    {
      "cell_type": "code",
      "execution_count": 1,
      "metadata": {},
      "outputs": [],
      "source": [
        "using Distributions, Plots"
      ],
      "id": "d488bf5c-4c45-4648-a6d4-3bf72393b3f1"
    },
    {
      "cell_type": "markdown",
      "metadata": {},
      "source": [
        "# 6.\n",
        "\n",
        "$f(x) = \\frac{1}{\\theta} exp(-\\frac{x}{\\theta}) \\to$ 평균이 $\\theta$인\n",
        "지수분포\n",
        "\n",
        "$H_0 : \\theta = 2, H_1 : \\theta = 1$\n",
        "\n",
        "검정통계량 $T$"
      ],
      "id": "bc2be8d5-1892-4e06-a8a3-3b6ca67bbd2c"
    },
    {
      "cell_type": "code",
      "execution_count": 2,
      "metadata": {},
      "outputs": [
        {
          "output_type": "display_data",
          "metadata": {},
          "data": {
            "text/plain": [
              "#1 (generic function with 1 method)"
            ]
          }
        }
      ],
      "source": [
        "T= x -> 0.5*exp(-0.5*x[1]) * 0.5*exp(-0.5*x[2])  / (exp(-x[1])*exp(-x[2]))"
      ],
      "id": "1450b3ad-5038-4eed-8443-e4596bd7103f"
    },
    {
      "cell_type": "markdown",
      "metadata": {},
      "source": [
        "## $\\alpha$ 구해보자. (시뮬레이션)"
      ],
      "id": "57359bf0-fdbf-4d58-a394-f7c9786291dd"
    },
    {
      "cell_type": "code",
      "execution_count": 3,
      "metadata": {},
      "outputs": [
        {
          "output_type": "display_data",
          "metadata": {},
          "data": {
            "text/plain": [
              "2-element Vector{Float64}:\n",
              " 0.6687906085363371\n",
              " 1.5350253919744037"
            ]
          }
        }
      ],
      "source": [
        "θ=2 \n",
        "x = rand(Exponential(θ),2)"
      ],
      "id": "97261975-45f6-4cdc-97e7-e9dea7f19fb9"
    },
    {
      "cell_type": "code",
      "execution_count": 4,
      "metadata": {},
      "outputs": [
        {
          "output_type": "display_data",
          "metadata": {},
          "data": {
            "text/plain": [
              "0.7524758613118447"
            ]
          }
        }
      ],
      "source": [
        "T(x)"
      ],
      "id": "82a65d45-d55f-48af-9821-03264bc88265"
    },
    {
      "cell_type": "code",
      "execution_count": 5,
      "metadata": {},
      "outputs": [
        {
          "output_type": "display_data",
          "metadata": {},
          "data": {
            "text/plain": [
              "0.15347"
            ]
          }
        }
      ],
      "source": [
        "Ts = [rand(Exponential(θ),2) |> T for i in 1:1400000]\n",
        "mean(Ts .< 1/2)"
      ],
      "id": "45d09bbc-d61e-4f51-8cee-ec4ced571e9e"
    },
    {
      "cell_type": "markdown",
      "metadata": {},
      "source": [
        "## $\\beta$를 구해보자.(시뮬레이션)"
      ],
      "id": "9b55711b-b300-4b72-852e-52b3ae9c0990"
    },
    {
      "cell_type": "code",
      "execution_count": 6,
      "metadata": {},
      "outputs": [
        {
          "output_type": "display_data",
          "metadata": {},
          "data": {
            "text/plain": [
              "2-element Vector{Float64}:\n",
              " 3.8233540141024713\n",
              " 1.6552057743570938"
            ]
          }
        }
      ],
      "source": [
        "θ=1\n",
        "x = rand(Exponential(θ),2)"
      ],
      "id": "efd07ec5-c400-4783-81ef-ac61bf603af2"
    },
    {
      "cell_type": "code",
      "execution_count": 7,
      "metadata": {},
      "outputs": [
        {
          "output_type": "display_data",
          "metadata": {},
          "data": {
            "text/plain": [
              "0.5970164285714286"
            ]
          }
        }
      ],
      "source": [
        "Ts = [rand(Exponential(θ),2) |> T for i in 1:1400000]\n",
        "mean(Ts .> 1/2)"
      ],
      "id": "6a2a73b1-6caa-4ef1-97ed-aecdb6b1ed01"
    },
    {
      "cell_type": "markdown",
      "metadata": {},
      "source": [
        "## $\\alpha$를 구해보자. (이론)\n",
        "\n",
        "$T(X_1,X_2) = \\frac{0.25 exp(-0.5 X_1 - 0.5 X_2)}{exp(-X_1 - X_2)} = 0.25 exp(0.5 X_1 + 0.5 X_2)$\n",
        "\n",
        "$T(X_1,X_2) < \\frac{1}{2} \\iff exp(0.5 X_1 + 0.5 X_2) < 2 \\iff X_1 + X_2 < 2 ln2$\n",
        "\n",
        "그런데 $X_1 + X_2 \\sim \\chi^2(4)$ under $H_0$\n",
        "\n",
        "$P(X_1 + X_2 < 2 ln 2) = \\int^{2ln2}_{0} \\frac{1}{4 \\Gamma(2)} x e^{-x/2} dx = \\int^{ln2}_{0} t e^{-t} dt = [ t(-e^{-t}) -e^{-t}]^{ln 2}_{0}$"
      ],
      "id": "d936fb16-c1fd-43e0-a8ef-bc892d52f3a3"
    },
    {
      "cell_type": "code",
      "execution_count": 8,
      "metadata": {},
      "outputs": [
        {
          "output_type": "display_data",
          "metadata": {},
          "data": {
            "text/plain": [
              "-1.0"
            ]
          }
        }
      ],
      "source": [
        "t = log(2) \n",
        "u = t*(-exp(-t)) - exp(-t)\n",
        "t = 0\n",
        "l = t*(-exp(-t)) - exp(-t)"
      ],
      "id": "cc210e7e-bc29-42af-9648-57dbd827733f"
    },
    {
      "cell_type": "code",
      "execution_count": 9,
      "metadata": {},
      "outputs": [
        {
          "output_type": "display_data",
          "metadata": {},
          "data": {
            "text/plain": [
              "0.1534264097200273"
            ]
          }
        }
      ],
      "source": [
        "u-l"
      ],
      "id": "e7bfbf3d-7134-4a2b-bca0-c6b2a8d3b488"
    },
    {
      "cell_type": "markdown",
      "metadata": {},
      "source": [
        "## $\\beta$를 구해보자. (이론)\n",
        "\n",
        "$T(X_1,X_2) > \\frac{1}{2} \\iff exp(0.5 X_1 + 0.5 X_2) < 2 \\iff 2(X_1 + X_2) < 4 ln2$\n",
        "\n",
        "그런데 $2(X_1 + X_2) \\sim \\chi^2(4)$ under $H_0$\n",
        "\n",
        "$P(2(X_1 + X_2) < 4 ln 2) = \\int_{4ln2}^{\\infty} \\frac{1}{4 \\Gamma(2)} x e^{-x/2} dx = \\int_{2ln2}^{\\infty} t e^{-t} dt = [ t(-e^{-t}) -e^{-t}]_{2ln 2}^{0}$"
      ],
      "id": "e99d2bb0-8a07-418b-b91d-05abd2fcf0f6"
    },
    {
      "cell_type": "code",
      "execution_count": 10,
      "metadata": {},
      "outputs": [
        {
          "output_type": "display_data",
          "metadata": {},
          "data": {
            "text/plain": [
              "-0.5965735902799727"
            ]
          }
        }
      ],
      "source": [
        "u = 0\n",
        "t = 2*log(2)\n",
        "l = t*(-exp(-t)) - exp(-t)"
      ],
      "id": "36483efe-b989-49e3-a955-31a0fb114f5c"
    },
    {
      "cell_type": "code",
      "execution_count": 11,
      "metadata": {},
      "outputs": [
        {
          "output_type": "display_data",
          "metadata": {},
          "data": {
            "text/plain": [
              "0.5965735902799727"
            ]
          }
        }
      ],
      "source": [
        "u-l"
      ],
      "id": "e70781ff-dc94-47ba-983b-19fddcdeece7"
    },
    {
      "cell_type": "markdown",
      "metadata": {},
      "source": [
        "# 박스뮬러변환\n",
        "\n",
        "$\\begin{cases} \\frac{R^2}{2} \\sim Exp(1) \\\\ \\Theta \\sim U(0,2\\pi) \\end{cases} \\to \\begin{bmatrix} R \\cos\\Theta \\\\ R \\sin \\Theta \\end{bmatrix} \\to N\\Big( \\begin{bmatrix} 0\\\\0 \\end{bmatrix} \\begin{bmatrix} 1 &0 \\\\ 0 & 1 \\end{bmatrix} \\Big)$\n",
        "\n",
        "위에서 $R^2$은 반지름의 제곱\n",
        "\n",
        "-   지수분포 $\\times$ 2는 평균이 2배가 되는 지수분포가 된다.(스케일링\n",
        "    가능)\n",
        "\n",
        "따라서 $R^2$은 $X_1^2 + X_2^2$랑 분포가 같다.\n",
        "\n",
        "-   여기에서 $X_1, X_2 \\sim N(0,1)$ 각각 표준정규분포를 따른다.\n",
        "-   표준정규분포를 각각 제곱해서 더하면 $\\chi^2$을 따른다.\n",
        "\n",
        "1.  $Exp(2) \\sim \\chi^2(2)$\n",
        "\n",
        "2.  $Exp(2) + Exp(2) \\sim \\chi^2(4)$\n",
        "\n",
        "3.  $Exp(2) + Exp(2)+ Exp(2) \\sim \\chi^2(6)$\n",
        "\n",
        "4.  $\\dots$\n",
        "\n",
        "5.  $\\sum^n Exp(2) \\sim Gamma(n,2)$\n",
        "\n",
        "    -   책에 따라 $Gamma(n,2)$ 혹은 $Gamma(n,\\frac{1}{2}$ 혹은\n",
        "        $Gamma\\frac{1}{2},1)$ 쓰기도 한다."
      ],
      "id": "3ddeb7b3-402d-4741-aca8-9ae8dfc91617"
    }
  ],
  "nbformat": 4,
  "nbformat_minor": 5,
  "metadata": {
    "kernelspec": {
      "name": "julia-1.7",
      "display_name": "Julia 1.7.2",
      "language": "julia"
    },
    "language_info": {
      "name": "julia",
      "file_extension": ".jl",
      "mimetype": "application/julia",
      "version": "1.7.2"
    }
  }
}