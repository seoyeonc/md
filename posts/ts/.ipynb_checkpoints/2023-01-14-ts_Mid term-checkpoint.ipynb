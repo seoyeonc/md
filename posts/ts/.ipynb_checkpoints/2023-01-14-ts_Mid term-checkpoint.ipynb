{
 "cells": [
  {
   "cell_type": "raw",
   "id": "53d2e878-fc25-46a8-be2a-14b8d9a9db48",
   "metadata": {
    "id": "cac470df-29e7-4148-9bbd-d8b9a32fa570",
    "tags": []
   },
   "source": [
    "---\n",
    "title: \"Theoritical Statistics Mid term\"\n",
    "author: \"SEOYEON CHOI\"\n",
    "date: \"2023-01-15\"\n",
    "categories:\n",
    "  - Theoritical Statistics\n",
    "---"
   ]
  },
  {
   "cell_type": "markdown",
   "id": "bcffd3ce-6dc9-4efc-a9b1-ab314b378661",
   "metadata": {},
   "source": [
    "> 중간고사"
   ]
  },
  {
   "cell_type": "markdown",
   "id": "16f379c2-18ff-4d1e-a18e-e16fc9cc1420",
   "metadata": {},
   "source": [
    "# 1."
   ]
  },
  {
   "cell_type": "markdown",
   "id": "4ba31da6-11d7-48f7-8584-6111d582ae7d",
   "metadata": {},
   "source": [
    "$X_1, \\dots , X_n$이 $N(\\mu, \\sigma^2)$( 단, $\\mu$는 그 값이 알려져 있음)로부터의 랜덤표본이다. \n",
    "\n",
    "$\\sigma^2$의 추정량으로 $T_1(X) = \\frac{1}{n}\\sum^n_{i=1}(X_i - \\mu)^2$과 $T_2(X) = \\frac{1}{n-1}\\sum^n_{i=1}(X_i - \\bar{X})^2$을 고려하고 있다. 다음에 답하시오."
   ]
  },
  {
   "cell_type": "markdown",
   "id": "d6c1d902-4c16-439d-ac83-27e00c6d83a9",
   "metadata": {},
   "source": [
    "## (a)"
   ]
  },
  {
   "cell_type": "markdown",
   "id": "a4ad8e32-b908-4c3c-8f96-a94912027dda",
   "metadata": {},
   "source": [
    "$T_1(X)$과 $T_2(X)$의 기댓값을 각각 구하시오."
   ]
  },
  {
   "cell_type": "markdown",
   "id": "c4ab3f58-1bac-491a-a96b-09e3c78c970d",
   "metadata": {},
   "source": [
    "**answer**"
   ]
  },
  {
   "cell_type": "markdown",
   "id": "5d246326-38fb-49f7-a816-98d357c865fd",
   "metadata": {},
   "source": [
    "`-` $E(T_1(X))$\n",
    "\n",
    "$= E(\\frac{1}{n}\\sum^n_{i=1}(X_i - \\mu)^2) = \\frac{E((X-\\mu)^2)}{n} = \\frac{\\sigma^2}{n}$\n",
    "\n",
    "`-` $E(T_2(X))$\n",
    "\n",
    "$= E(\\frac{1}{n-1}\\sum^n_{i=1}(X_i - \\bar{X})^2)$\n",
    "\n",
    "$\\star$\n",
    "\n",
    "$\\sum(X-\\mu)^2 = \\sum(X - \\bar{X} + \\bar{X} - \\mu)^2$\n",
    "\n",
    "$= \\sum((X-\\bar{X})^2 + (\\bar{X} - \\mu)^2 + 2(X-\\bar{X}(\\bar{X}-\\mu))$\n",
    "\n",
    "$= \\sum(X - \\bar{X})^2.+ n(\\bar{X} - \\mu)$\n",
    "\n",
    "$\\star$\n",
    "\n",
    "$= E(\\frac{\\sum(X-\\mu)^2 - n(\\bar{X}-\\mu)}{n-1}) = \\frac{1}{n-1}[n\\sigma^2 - n\\frac{\\sigma^2}{n}] = \\sigma^2$"
   ]
  },
  {
   "cell_type": "markdown",
   "id": "2143d31b-cf48-4ae1-bc1e-dffdad3897f7",
   "metadata": {},
   "source": [
    "## (b)"
   ]
  },
  {
   "cell_type": "markdown",
   "id": "429f3aa4-f3ca-4aea-992a-a2dec41bc278",
   "metadata": {},
   "source": [
    "$T_1(X)$과 $T_2(X)$의 분산을 각각 구하시오."
   ]
  },
  {
   "cell_type": "markdown",
   "id": "0078ec5e-ea05-4c59-ad49-026d5438b46b",
   "metadata": {},
   "source": [
    "**answer**"
   ]
  },
  {
   "cell_type": "markdown",
   "id": "035d05ff-49bf-4de5-82cf-f22d4bb362ab",
   "metadata": {},
   "source": [
    "`-` $Var(T_1(X))$\n",
    "\n",
    "$= Var(\\frac{1}{n}\\sum^n_{i=1}(X_i - \\mu)^2)$\n",
    "\n",
    "$\\star$\n",
    "\n",
    "$S_n^2 = \\sum^n_{i=1}\\frac{(X_i - \\bar{X}_n)^2}{n-1}$\n",
    "\n",
    "$\\frac{(n-1)S_n^2}{\\sigma^2} = \\frac{\\sum^n_{i=1}(X_i - \\bar{X})^2}{\\sigma^2} \\sim \\chi^2_{n-1}$\n",
    "\n",
    "$\\star$\n",
    "\n",
    "$= Var(\\frac{\\sum^n_{i=1}(X_i - \\bar{X})^2}{\\sigma^2} \\times\\frac{\\sigma^2}{n})$\n",
    "\n",
    "$= \\frac{\\sigma^4}{n^2}Var(\\frac{\\sum^n_{i=1}(X_i - \\bar{X})^2}{\\sigma^2})$\n",
    "\n",
    "$= \\frac{\\sigma^4}{n^2} \\times w(n-1)$\n",
    "\n",
    "`-` $Var(T_2(X))$\n",
    "\n",
    "$= Var(\\frac{1}{n-1}\\sum^n_{i=1}(X_i - \\bar{X})^2)$\n",
    "\n",
    "$= Var(\\frac{\\sigma^2}{n-1} \\times \\frac{(n-1)S^2}{\\sigma^2})$\n",
    "\n",
    "$\\frac{\\sigma^4}{(n-1)^2} \\times 2(n-1)$\n",
    "\n",
    "$= \\frac{2\\sigma^4}{n-1}$"
   ]
  },
  {
   "cell_type": "markdown",
   "id": "1f68e7f3-90c0-49c9-abbd-8c314f92b9f1",
   "metadata": {},
   "source": [
    "# 2."
   ]
  },
  {
   "cell_type": "markdown",
   "id": "1809ce0b-2ece-4989-9882-6873284fff03",
   "metadata": {},
   "source": [
    "$POI(\\lambda)$ 분포로부터 랜덤표본 $X_1,X_2,\\dots, X_n$을 얻었다."
   ]
  },
  {
   "cell_type": "markdown",
   "id": "1b27e92b-6f33-4bd1-82c3-7b77f3f5474e",
   "metadata": {},
   "source": [
    "## (a)"
   ]
  },
  {
   "cell_type": "markdown",
   "id": "476e43b7-7d44-4973-9e8b-756e25d3e162",
   "metadata": {},
   "source": [
    "$\\sqrt{n}(\\bar{X}^2_n - \\lambda^2)$의 극한 분포를 구하시오."
   ]
  },
  {
   "cell_type": "markdown",
   "id": "ed1bc832-f5cf-4ce3-a345-d2aba76292ec",
   "metadata": {},
   "source": [
    "**answer**"
   ]
  },
  {
   "cell_type": "markdown",
   "id": "8c925940-dfbb-452f-9d8b-c45fc2071083",
   "metadata": {},
   "source": [
    "Delta Method\n",
    "\n",
    "$\\sqrt{n}(\\bar{X}^2_n - \\mu^2) \\xrightarrow[]{d} N(0,4\\mu^2\\sigma^2) $ 단, $\\mu \\neq 0$\n",
    "\n",
    "$\\mu = \\lambda$, $\\sigma^2 = \\lambda$\n",
    "\n",
    "$\\sqrt{n}(\\bar{X}^2_n - \\lambda^2) \\xrightarrow[]{d} N(0,4\\lambda^3)$"
   ]
  },
  {
   "cell_type": "markdown",
   "id": "3c035c20-1741-48e5-81bf-ec116619529d",
   "metadata": {},
   "source": [
    "## (b)"
   ]
  },
  {
   "cell_type": "markdown",
   "id": "51ebea8a-7eac-4774-a555-9ee78c349ab6",
   "metadata": {},
   "source": [
    "$E(\\sum^n_{i=1}a_i X_i) = \\lambda$가 되기 위한 $a_i$의 조건은 무엇인가?"
   ]
  },
  {
   "cell_type": "markdown",
   "id": "0f84d3ea-4a7e-40e3-a13d-823b254a435d",
   "metadata": {},
   "source": [
    "**answer**"
   ]
  },
  {
   "cell_type": "markdown",
   "id": "12e25b85-4484-4c73-8183-6412669c1cc6",
   "metadata": {},
   "source": [
    "$E(\\sum^n_{i=1}a_iX_i) = \\lambda$\n",
    "\n",
    "$= E(a_1X_1 + a_2X_2 + \\dots a_nX_n) = a_1E(X_1) + a_2E(X_2) + \\dots + a_nE(X_n)$\n",
    "\n",
    "$= a_1\\lambda + a_2\\lambda + \\dots + a_n\\lambda = \\sum^n_{i=1}a_i \\lambda$\n",
    "\n",
    "$\\therefore \\sum^n_{i=1} a_i= 1$이어야 한다."
   ]
  },
  {
   "cell_type": "markdown",
   "id": "f8878b19-410e-408e-acc8-455d993ec708",
   "metadata": {},
   "source": [
    "## (c)"
   ]
  },
  {
   "cell_type": "markdown",
   "id": "303e97aa-6643-4c1c-be1e-bc0d845c0a75",
   "metadata": {},
   "source": [
    "$\\sum^n_{i=1}a_iX_i$의 분산을 구하시오."
   ]
  },
  {
   "cell_type": "markdown",
   "id": "c034fc65-148c-40ab-a7b7-0dc291d370b8",
   "metadata": {},
   "source": [
    "**answer**"
   ]
  },
  {
   "cell_type": "markdown",
   "id": "15d86363-a8d2-4391-8c4f-05cd3daddf7e",
   "metadata": {},
   "source": [
    "$Var(\\sum^n_{i=1}a_iX_i) = Var(a_1X_1 + a_2X_2 + \\dots + a_n X_n)$\n",
    "\n",
    "$= a_1^2\\lambda + a_2^2\\lambda + \\dots + a_n^2\\lambda = \\sum^n_{i=1} a_i \\lambda$"
   ]
  },
  {
   "cell_type": "markdown",
   "id": "5c161740-0b54-4332-9ebe-471f55c65c87",
   "metadata": {},
   "source": [
    "# 3."
   ]
  },
  {
   "cell_type": "markdown",
   "id": "b403c7b5-3072-44b0-a659-502f3717b4de",
   "metadata": {},
   "source": [
    "확률변수 $X$의 확률밀도함수가 $f_X(x) = 3e^{-3x}I(x>0)$일 떄, $Y = \\frac{1}{X}$의 확률밀도함수를 구하라."
   ]
  },
  {
   "cell_type": "markdown",
   "id": "1b2cf8be-97cd-4699-82e4-bc063a00a1a6",
   "metadata": {},
   "source": [
    "**answer**"
   ]
  },
  {
   "cell_type": "markdown",
   "id": "ecb48999-bb57-41df-b281-d8eb64f25219",
   "metadata": {},
   "source": [
    "$f_Y(y) = -\\frac{3}{y^2} exp(-\\frac{3}{y})I(y>0)$"
   ]
  },
  {
   "cell_type": "markdown",
   "id": "5ddccf04-c58a-4bda-8ae3-27108be86c53",
   "metadata": {},
   "source": [
    "$g(X) = \\frac{1}{X}$, $g^{-1} (Y) = \\frac{1}{y}$\n",
    "\n",
    "$= f_Y(y) = f_X(g^{-1}(y))\\frac{dg^{-1}(y)}{dg}$\n",
    "\n",
    "$= f_X(\\frac{1}{y})(-\\frac{1}{y^2})$\n",
    "\n",
    "$= 3e^{-\\frac{3}{y}}(-\\frac{1}{y^2})I(y>0)$\n",
    "\n",
    "$= -\\frac{3}{y^2}e^{-\\frac{3}{y}}I(y>0)$"
   ]
  },
  {
   "cell_type": "markdown",
   "id": "44b1888e-aef8-44f3-8f60-0904e66104ac",
   "metadata": {},
   "source": [
    "# 4."
   ]
  },
  {
   "cell_type": "markdown",
   "id": "d3c28f76-ecfb-4700-9e5e-355004c43e65",
   "metadata": {},
   "source": [
    "$X_1,\\dots,X_{16}$이 $N(5,25)$로부터의 랜덤표본 이라고 하자. 이떄 $P(0<\\bar{X}_{16} <6,20<S^2_{16}<30)$을 계산하시오.(R함수 이용)"
   ]
  },
  {
   "cell_type": "markdown",
   "id": "a110553e-8344-4a5e-a4e4-37a691af3e65",
   "metadata": {},
   "source": [
    "**answer**"
   ]
  },
  {
   "cell_type": "markdown",
   "id": "1dd0e83e-4f5d-4548-9e51-2290364df4c1",
   "metadata": {},
   "source": [
    "$\\bar{X}_{16} \\sim N(5,\\frac{25}{16})$\n",
    "\n",
    "$\\frac{\\bar{X}_{16} - 5}{\\sqrt{25/16}} \\sim N(0,1)$\n",
    "\n",
    "$\\frac{15 S^2_{16}}{25} \\sim \\chi^2_{15}$\n",
    "\n",
    "$P(0 < \\bar{X}_{16} < 6) = P(\\frac{0-5}{\\sqrt{25/16}} < \\frac{\\bar{X}_{16} - 5}{\\sqrt{25/16}} < \\frac{6-5}{\\sqrt{25/16}}) = P(-4 < Z < 0.8)$"
   ]
  },
  {
   "cell_type": "code",
   "execution_count": 7,
   "id": "8deea66e-7275-4e61-b8f1-d7b480d90a90",
   "metadata": {},
   "outputs": [
    {
     "data": {
      "text/html": [
       "3.16712418331199e-05"
      ],
      "text/latex": [
       "3.16712418331199e-05"
      ],
      "text/markdown": [
       "3.16712418331199e-05"
      ],
      "text/plain": [
       "[1] 3.167124e-05"
      ]
     },
     "metadata": {},
     "output_type": "display_data"
    }
   ],
   "source": [
    "pnorm(-4,0,1)"
   ]
  },
  {
   "cell_type": "code",
   "execution_count": 5,
   "id": "3a3d2156-bad3-43f7-b0eb-3c2ef94edef4",
   "metadata": {},
   "outputs": [
    {
     "data": {
      "text/html": [
       "0.788144601416603"
      ],
      "text/latex": [
       "0.788144601416603"
      ],
      "text/markdown": [
       "0.788144601416603"
      ],
      "text/plain": [
       "[1] 0.7881446"
      ]
     },
     "metadata": {},
     "output_type": "display_data"
    }
   ],
   "source": [
    "pnorm(0.8,0,1)"
   ]
  },
  {
   "cell_type": "code",
   "execution_count": 8,
   "id": "0c3b37cb-3e3f-4568-9bb2-437b350b5f55",
   "metadata": {},
   "outputs": [
    {
     "data": {
      "text/html": [
       "0.78811293017477"
      ],
      "text/latex": [
       "0.78811293017477"
      ],
      "text/markdown": [
       "0.78811293017477"
      ],
      "text/plain": [
       "[1] 0.7881129"
      ]
     },
     "metadata": {},
     "output_type": "display_data"
    }
   ],
   "source": [
    "pnorm(0.8,0,1) - pnorm(-4,0,1)"
   ]
  },
  {
   "cell_type": "markdown",
   "id": "f2796e1e-4a89-48db-9b3f-012497d047dc",
   "metadata": {},
   "source": [
    "$P(20 < S^2_{16} < 30) = P(\\frac{15 \\times 20}{25} < \\frac{15 S^2_{16}}{25} < \\frac{15 \\times 30}{25})$"
   ]
  },
  {
   "cell_type": "code",
   "execution_count": 14,
   "id": "d9e9fa96-37fa-4573-aa6a-bb9647b37165",
   "metadata": {},
   "outputs": [
    {
     "data": {
      "text/html": [
       "0.737334439327678"
      ],
      "text/latex": [
       "0.737334439327678"
      ],
      "text/markdown": [
       "0.737334439327678"
      ],
      "text/plain": [
       "[1] 0.7373344"
      ]
     },
     "metadata": {},
     "output_type": "display_data"
    }
   ],
   "source": [
    "pchisq(18,15)"
   ]
  },
  {
   "cell_type": "code",
   "execution_count": 15,
   "id": "dea70652-e884-47f2-aed8-b8ab876a7645",
   "metadata": {},
   "outputs": [
    {
     "data": {
      "text/html": [
       "0.320970942909585"
      ],
      "text/latex": [
       "0.320970942909585"
      ],
      "text/markdown": [
       "0.320970942909585"
      ],
      "text/plain": [
       "[1] 0.3209709"
      ]
     },
     "metadata": {},
     "output_type": "display_data"
    }
   ],
   "source": [
    "pchisq(12,15)"
   ]
  },
  {
   "cell_type": "code",
   "execution_count": 16,
   "id": "f85501cc-07f3-488b-a669-33267bb8a213",
   "metadata": {},
   "outputs": [
    {
     "data": {
      "text/html": [
       "0.416363496418093"
      ],
      "text/latex": [
       "0.416363496418093"
      ],
      "text/markdown": [
       "0.416363496418093"
      ],
      "text/plain": [
       "[1] 0.4163635"
      ]
     },
     "metadata": {},
     "output_type": "display_data"
    }
   ],
   "source": [
    "pchisq(18,15) - pchisq(12,15)"
   ]
  },
  {
   "cell_type": "markdown",
   "id": "9eee3386-9666-43f3-b59d-5b832e31be7e",
   "metadata": {},
   "source": [
    "$P(0<\\bar{X}_{16} <6,20<S^2_{16}<30)$"
   ]
  },
  {
   "cell_type": "code",
   "execution_count": 18,
   "id": "a17df5bf-eb8b-4017-8c97-e88f962d72fb",
   "metadata": {},
   "outputs": [
    {
     "data": {
      "text/html": [
       "0.416337122920122"
      ],
      "text/latex": [
       "0.416337122920122"
      ],
      "text/markdown": [
       "0.416337122920122"
      ],
      "text/plain": [
       "[1] 0.4163371"
      ]
     },
     "metadata": {},
     "output_type": "display_data"
    }
   ],
   "source": [
    "(pnorm(4,0,1) - pnorm(-4,0,1)) * (pchisq(18,15) - pchisq(12,15))"
   ]
  },
  {
   "cell_type": "markdown",
   "id": "2575978c-e7b2-4048-99aa-17ec03ae623b",
   "metadata": {},
   "source": [
    "# 5."
   ]
  },
  {
   "cell_type": "markdown",
   "id": "ad18b8ba-93aa-4870-a8a0-dbebd88385bd",
   "metadata": {},
   "source": [
    "확률변수 $X$와 $Y$의 결함확률밀도함수가 $f(x,y) = 4I(0<x<1,1<y<2x)$일 때, 조건부 기댓값 $E(Y|X=x)$을 구하시오."
   ]
  },
  {
   "cell_type": "markdown",
   "id": "4bf39884-1fc0-4999-81c4-027c17e0f027",
   "metadata": {},
   "source": [
    "**answer**"
   ]
  },
  {
   "cell_type": "markdown",
   "id": "2d680403-ee4b-411f-ab19-e49b511eb205",
   "metadata": {},
   "source": [
    "$E(Y|X=x) = \\int^{\\infty}_{-\\infty} y f_{Y|X=x} (y) dy = \\int^{\\infty}_{-\\infty} y \\frac{f(X,y)}{f_X(X)}dy$\n",
    "\n",
    "$\\star$\n",
    "\n",
    "$f_X(X) = \\int(x,y)dy = \\int^{\\infty}_{-\\infty} 4 I (0<x<1,1<y<2x)dy$\n",
    "\n",
    "$= 4 I (0<x<1)\\int_{-\\infty<y<\\infty,1<y<2x}I(1<y<2x)dy$\n",
    "\n",
    "$= 4 I (0<x<1)\\int^{2x}_1 dy$\n",
    "\n",
    "$= 4I(0<x<1)[y]^{2x}_1$\n",
    "\n",
    "$= 4(2x-1)I(0<x<1)$\n",
    "\n",
    "$\\star$\n",
    "\n",
    "$= \\int^{\\infty}_{-\\infty} y \\frac{4I(0<x<1,1<y<2x)}{4(2x-1)I(0<x<1)} dy$\n",
    "\n",
    "$= \\int_{-\\infty<y<\\infty,1<y<2x} y \\frac{I(0<x<1)}{2x-1}dy$\n",
    "\n",
    "$= \\frac{I(0<x<1)}{2x-1} \\int^{2x}_1 y dy$\n",
    "\n",
    "$= \\frac{I(0<x<1)}{2x-1} [\\frac{1}{2}y^2]^{2x}_1$\n",
    "\n",
    "$= \\frac{I(0<x<1)}{2x-1} (\\frac{1}{2}(4x^2-1))$\n",
    "\n",
    "$= \\frac{2x+1}{2}I(0<x<1)$"
   ]
  },
  {
   "cell_type": "markdown",
   "id": "b1498b67-722a-4232-b0dd-a0b9e4dc3d39",
   "metadata": {},
   "source": [
    "# 6."
   ]
  },
  {
   "cell_type": "markdown",
   "id": "e3c86a74-440c-4002-be48-c633eb27a8fa",
   "metadata": {},
   "source": [
    "$X_1, \\dots, X_4$는 $Ber(p)$분포로부터의 랜덤표본이다."
   ]
  },
  {
   "cell_type": "markdown",
   "id": "412078f3-9bf7-45b8-9f69-4a5bcfd00d7d",
   "metadata": {},
   "source": [
    "## (a)"
   ]
  },
  {
   "cell_type": "markdown",
   "id": "a0d749f2-e410-4ad8-8130-ffdbb424a005",
   "metadata": {},
   "source": [
    "이 랜덤표본의 결합확률밀도함수를 기술하시오."
   ]
  },
  {
   "cell_type": "markdown",
   "id": "974b996b-27fb-40b2-b97f-389c7aecfc15",
   "metadata": {},
   "source": [
    "**answer**"
   ]
  },
  {
   "cell_type": "markdown",
   "id": "7e1cce25-d118-426b-8dc5-171e448c09cc",
   "metadata": {},
   "source": [
    "$f(X_1)f(X_2)f(X_3)f(X_4)$\n",
    "\n",
    "$= (1-p)^{1-X_1}p^{X_1}(1-p)^{1-X_2}p^{X_2}(1-p)^{1-X_3}p^{X_3}(1-p)^{1-X_4}p^{X_4}$\n",
    "\n",
    "$= (1-p)^{4-X_1-X_2-X_3-X_4} p^{X_1+X_2+X_3+X_4}$"
   ]
  },
  {
   "cell_type": "markdown",
   "id": "8876667d-c031-4591-8357-d988db1fa77c",
   "metadata": {},
   "source": [
    "## (b)"
   ]
  },
  {
   "cell_type": "markdown",
   "id": "d67ebe97-9934-4733-a8dd-7d0952ad526c",
   "metadata": {},
   "source": [
    "$X_1(1-X_2)$의 기댓값을 구하시오."
   ]
  },
  {
   "cell_type": "markdown",
   "id": "4932866a-fdb3-4041-92b0-410d23be4fee",
   "metadata": {},
   "source": [
    "**answer**"
   ]
  },
  {
   "cell_type": "markdown",
   "id": "dbc5976e-5a5f-4192-9f2f-606684183322",
   "metadata": {},
   "source": [
    "$E(X_1(1-X_2))$\n",
    "\n",
    "$= E(X_1 - X_1X_2) = E(X_1) - E(X_1)E(X_2)$\n",
    "\n",
    "$= p - p^2 = p(1-p)$"
   ]
  },
  {
   "cell_type": "markdown",
   "id": "56f38e3b-63fb-4f8b-86c2-c81dc0bc8a08",
   "metadata": {},
   "source": [
    "## (c)"
   ]
  },
  {
   "cell_type": "markdown",
   "id": "58c51f8e-038e-4cea-8af1-98a5ab3f5d2c",
   "metadata": {},
   "source": [
    "$E[X_1(1-X_2)|\\sum^4_{i=1}X_i = t]$을 구하시오."
   ]
  },
  {
   "cell_type": "markdown",
   "id": "713f3c5d-5594-44b2-b6f7-0b1e277b6296",
   "metadata": {},
   "source": [
    "**answer**"
   ]
  },
  {
   "cell_type": "markdown",
   "id": "5d9bf7a5-789b-4caf-a5c7-4fb8188852a0",
   "metadata": {},
   "source": [
    "$\\frac{p(1-p)}{4p} = \\frac{1-p}{4}$"
   ]
  },
  {
   "cell_type": "markdown",
   "id": "2e9dac80-4405-4f02-81b2-ba6d7eb4eb37",
   "metadata": {},
   "source": [
    "## (d)"
   ]
  },
  {
   "cell_type": "markdown",
   "id": "ab1e496f-965a-45fd-bdcf-367bff880515",
   "metadata": {},
   "source": [
    "$E[(\\frac{d}{dp}log p^X (1-p)^{1-p})^2]$을 구하시오."
   ]
  },
  {
   "cell_type": "markdown",
   "id": "a7469ba4-a8d0-449c-b8ad-a0d5faa93969",
   "metadata": {},
   "source": [
    "**answer**"
   ]
  },
  {
   "cell_type": "markdown",
   "id": "efaf43a8-d680-48a3-af95-e2be1c5edbb4",
   "metadata": {},
   "source": [
    "$E[(\\frac{d}{dp} log p^x (1-p)^{1-X})^2]$\n",
    "\n",
    "$= E((\\frac{d}{dp}(X log p - (1-X) log(1-p)))^2)$\n",
    "\n",
    "$= E((\\frac{X}{p} - {1-X}{1-p})^2)$\n",
    "\n",
    "$= E((\\frac{X-Xp - p + pX}{p(1-p)})^2)$\n",
    "\n",
    "$= E((\\frac{X-p}{p(1-p)})^2)$\n",
    "\n",
    "$= \\frac{1}{p^2(1-p)^2}(E(X^2)-p^2)$\n",
    "\n",
    "$= \\frac{p-p^2}{p^2(1-p)^2} = \\frac{p(1-p)}{p^2(1-p)^2} = \\frac{1}{p(1-p)}$"
   ]
  }
 ],
 "metadata": {
  "kernelspec": {
   "display_name": "R",
   "language": "R",
   "name": "ir"
  },
  "language_info": {
   "codemirror_mode": "r",
   "file_extension": ".r",
   "mimetype": "text/x-r-source",
   "name": "R",
   "pygments_lexer": "r",
   "version": "4.1.2"
  }
 },
 "nbformat": 4,
 "nbformat_minor": 5
}
