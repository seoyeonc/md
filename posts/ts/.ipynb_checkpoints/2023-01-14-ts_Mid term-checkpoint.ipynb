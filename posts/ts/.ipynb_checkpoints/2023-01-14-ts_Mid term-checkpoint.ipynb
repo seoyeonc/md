{
 "cells": [
  {
   "cell_type": "raw",
   "id": "53d2e878-fc25-46a8-be2a-14b8d9a9db48",
   "metadata": {
    "id": "cac470df-29e7-4148-9bbd-d8b9a32fa570",
    "tags": []
   },
   "source": [
    "---\n",
    "title: \"Theoritical Statistics Mid term\"\n",
    "author: \"SEOYEON CHOI\"\n",
    "date: \"2023-01-14\"\n",
    "categories:\n",
    "  - Theoritical Statistics\n",
    "---"
   ]
  },
  {
   "cell_type": "markdown",
   "id": "bcffd3ce-6dc9-4efc-a9b1-ab314b378661",
   "metadata": {},
   "source": [
    "> 확률변수의 극한"
   ]
  },
  {
   "cell_type": "code",
   "execution_count": null,
   "id": "ef1349b1-8935-498a-b8c3-042a14f9dc83",
   "metadata": {},
   "outputs": [],
   "source": []
  }
 ],
 "metadata": {
  "kernelspec": {
   "display_name": "Python 3 (ipykernel)",
   "language": "python",
   "name": "python3"
  },
  "language_info": {
   "codemirror_mode": {
    "name": "ipython",
    "version": 3
   },
   "file_extension": ".py",
   "mimetype": "text/x-python",
   "name": "python",
   "nbconvert_exporter": "python",
   "pygments_lexer": "ipython3",
   "version": "3.8.12"
  }
 },
 "nbformat": 4,
 "nbformat_minor": 5
}
