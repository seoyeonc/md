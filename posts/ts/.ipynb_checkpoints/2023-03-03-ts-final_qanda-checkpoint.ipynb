{
 "cells": [
  {
   "cell_type": "raw",
   "id": "70793f26-57c5-40e6-a0ec-5c594c8a95a0",
   "metadata": {
    "id": "cac470df-29e7-4148-9bbd-d8b9a32fa570",
    "tags": []
   },
   "source": [
    "---\n",
    "title: \"Theoritical Statistics Final term 6 Explanation\"\n",
    "author: \"GUEBIN CHOI\"\n",
    "date: \"2023-03-03\"\n",
    "categories:\n",
    "  - Theoritical Statistics\n",
    "  - 박스뮬러변환\n",
    "  - 지수분포와 카이제곱\n",
    "---"
   ]
  },
  {
   "cell_type": "markdown",
   "id": "55eeb0a0-1829-4cbe-8b92-6d269027fe94",
   "metadata": {},
   "source": [
    "> Final term 질문"
   ]
  },
  {
   "cell_type": "markdown",
   "id": "e26b74f1-f8cb-4fa2-bca9-5c2e6076ae13",
   "metadata": {},
   "source": [
    "[참고](https://guebin.github.io/SC2022/0329.html)"
   ]
  },
  {
   "cell_type": "code",
   "execution_count": 1,
   "id": "e3334ca6-20a8-4a69-96bc-5697f680fa5b",
   "metadata": {},
   "outputs": [],
   "source": [
    "using Distributions, Plots"
   ]
  },
  {
   "cell_type": "markdown",
   "id": "fab1a805-e981-45fe-84bf-68d8c36f439d",
   "metadata": {},
   "source": [
    "# 6."
   ]
  },
  {
   "cell_type": "markdown",
   "id": "60b99e64-757d-4172-afb1-adadb066f52d",
   "metadata": {},
   "source": [
    "$f(x) = \\frac{1}{\\theta} exp(-\\frac{x}{\\theta}) \\to$ 평균이 $\\theta$인 지수분포\n",
    "\n",
    "$H_0 : \\theta = 2, H_1 : \\theta = 1$\n",
    "\n",
    "검정통계량 $T$"
   ]
  },
  {
   "cell_type": "code",
   "execution_count": 2,
   "id": "50a0f172-b529-4094-ac37-03c6c47e1888",
   "metadata": {},
   "outputs": [
    {
     "data": {
      "text/plain": [
       "#1 (generic function with 1 method)"
      ]
     },
     "execution_count": 2,
     "metadata": {},
     "output_type": "execute_result"
    }
   ],
   "source": [
    "T= x -> 0.5*exp(-0.5*x[1]) * 0.5*exp(-0.5*x[2])  / (exp(-x[1])*exp(-x[2]))"
   ]
  },
  {
   "cell_type": "markdown",
   "id": "4b121d11-5b12-461a-af0a-c4e0a71ba73d",
   "metadata": {},
   "source": [
    "## $\\alpha$ 구해보자. (시뮬레이션)"
   ]
  },
  {
   "cell_type": "code",
   "execution_count": 3,
   "id": "c998213b-594a-4fc8-9b99-6cbf38cee59b",
   "metadata": {},
   "outputs": [
    {
     "data": {
      "text/plain": [
       "2-element Vector{Float64}:\n",
       " 0.6687906085363371\n",
       " 1.5350253919744037"
      ]
     },
     "execution_count": 3,
     "metadata": {},
     "output_type": "execute_result"
    }
   ],
   "source": [
    "θ=2 \n",
    "x = rand(Exponential(θ),2)"
   ]
  },
  {
   "cell_type": "code",
   "execution_count": 4,
   "id": "0af784b4-4827-4279-955c-810ee6165e18",
   "metadata": {},
   "outputs": [
    {
     "data": {
      "text/plain": [
       "0.7524758613118447"
      ]
     },
     "execution_count": 4,
     "metadata": {},
     "output_type": "execute_result"
    }
   ],
   "source": [
    "T(x)"
   ]
  },
  {
   "cell_type": "code",
   "execution_count": 5,
   "id": "09a05c64-6e83-43b5-b4cd-fdb125a4675d",
   "metadata": {},
   "outputs": [
    {
     "data": {
      "text/plain": [
       "0.15347"
      ]
     },
     "execution_count": 5,
     "metadata": {},
     "output_type": "execute_result"
    }
   ],
   "source": [
    "Ts = [rand(Exponential(θ),2) |> T for i in 1:1400000]\n",
    "mean(Ts .< 1/2)"
   ]
  },
  {
   "cell_type": "markdown",
   "id": "ef396cf3-787c-4239-8f55-b414a1a1b520",
   "metadata": {},
   "source": [
    "## $\\beta$를 구해보자.(시뮬레이션)"
   ]
  },
  {
   "cell_type": "code",
   "execution_count": 6,
   "id": "cc0eab77-8a5a-4cae-9d4d-151f315c5843",
   "metadata": {},
   "outputs": [
    {
     "data": {
      "text/plain": [
       "2-element Vector{Float64}:\n",
       " 3.8233540141024713\n",
       " 1.6552057743570938"
      ]
     },
     "execution_count": 6,
     "metadata": {},
     "output_type": "execute_result"
    }
   ],
   "source": [
    "θ=1\n",
    "x = rand(Exponential(θ),2)"
   ]
  },
  {
   "cell_type": "code",
   "execution_count": 7,
   "id": "d01e6bd4-e80a-4469-85d6-31003eef8d2e",
   "metadata": {},
   "outputs": [
    {
     "data": {
      "text/plain": [
       "0.5970164285714286"
      ]
     },
     "execution_count": 7,
     "metadata": {},
     "output_type": "execute_result"
    }
   ],
   "source": [
    "Ts = [rand(Exponential(θ),2) |> T for i in 1:1400000]\n",
    "mean(Ts .> 1/2)"
   ]
  },
  {
   "cell_type": "markdown",
   "id": "2ba21eee-545c-49fb-b296-bea0e289f16e",
   "metadata": {},
   "source": [
    "## $\\alpha$를 구해보자. (이론)"
   ]
  },
  {
   "cell_type": "markdown",
   "id": "1f3c1cc9-2a57-4932-a8e9-5a6773461bb3",
   "metadata": {},
   "source": [
    "$T(X_1,X_2) = \\frac{0.25 exp(-0.5 X_1 - 0.5 X_2)}{exp(-X_1 - X_2)} = 0.25 exp(0.5 X_1 + 0.5 X_2)$\n",
    "\n",
    "$T(X_1,X_2) < \\frac{1}{2} \\iff exp(0.5 X_1 + 0.5 X_2) < 2 \\iff X_1 + X_2 < 2 ln2$\n",
    "\n",
    "그런데 $X_1 + X_2 \\sim \\chi^2(4)$ under $H_0$\n",
    "\n",
    "$P(X_1 + X_2 < 2 ln 2) = \\int^{2ln2}_{0} \\frac{1}{4 \\Gamma(2)} x e^{-x/2} dx = \\int^{ln2}_{0} t e^{-t} dt = [ t(-e^{-t}) -e^{-t}]^{ln 2}_{0}$"
   ]
  },
  {
   "cell_type": "code",
   "execution_count": 8,
   "id": "76009f35-96e1-4b52-aa87-5f06aa68a058",
   "metadata": {},
   "outputs": [
    {
     "data": {
      "text/plain": [
       "-1.0"
      ]
     },
     "execution_count": 8,
     "metadata": {},
     "output_type": "execute_result"
    }
   ],
   "source": [
    "t = log(2) \n",
    "u = t*(-exp(-t)) - exp(-t)\n",
    "t = 0\n",
    "l = t*(-exp(-t)) - exp(-t)"
   ]
  },
  {
   "cell_type": "code",
   "execution_count": 9,
   "id": "03764935-472f-4a00-8569-6986acfaf03d",
   "metadata": {},
   "outputs": [
    {
     "data": {
      "text/plain": [
       "0.1534264097200273"
      ]
     },
     "execution_count": 9,
     "metadata": {},
     "output_type": "execute_result"
    }
   ],
   "source": [
    "u-l"
   ]
  },
  {
   "cell_type": "markdown",
   "id": "6f66449f-debb-4c59-995d-82bd1924876d",
   "metadata": {},
   "source": [
    "## $\\beta$를 구해보자. (이론)"
   ]
  },
  {
   "cell_type": "markdown",
   "id": "e888eb06-eda2-4d83-8de9-bc1f5d88e654",
   "metadata": {},
   "source": [
    "$T(X_1,X_2) > \\frac{1}{2} \\iff exp(0.5 X_1 + 0.5 X_2) < 2 \\iff 2(X_1 + X_2) < 4 ln2$\n",
    "\n",
    "그런데 $2(X_1 + X_2) \\sim \\chi^2(4)$ under $H_0$\n",
    "\n",
    "$P(2(X_1 + X_2) < 4 ln 2) = \\int_{4ln2}^{\\infty} \\frac{1}{4 \\Gamma(2)} x e^{-x/2} dx = \\int_{2ln2}^{\\infty} t e^{-t} dt = [ t(-e^{-t}) -e^{-t}]_{2ln 2}^{0}$"
   ]
  },
  {
   "cell_type": "code",
   "execution_count": 10,
   "id": "a1c2b786-1151-41d1-ba0e-bdfa177170e0",
   "metadata": {},
   "outputs": [
    {
     "data": {
      "text/plain": [
       "-0.5965735902799727"
      ]
     },
     "execution_count": 10,
     "metadata": {},
     "output_type": "execute_result"
    }
   ],
   "source": [
    "u = 0\n",
    "t = 2*log(2)\n",
    "l = t*(-exp(-t)) - exp(-t)"
   ]
  },
  {
   "cell_type": "code",
   "execution_count": 11,
   "id": "b5f4e926-10d3-4f21-ba22-8cef255c9e17",
   "metadata": {},
   "outputs": [
    {
     "data": {
      "text/plain": [
       "0.5965735902799727"
      ]
     },
     "execution_count": 11,
     "metadata": {},
     "output_type": "execute_result"
    }
   ],
   "source": [
    "u-l"
   ]
  },
  {
   "cell_type": "markdown",
   "id": "69f77508-9e05-46c5-9434-ba7397223401",
   "metadata": {},
   "source": [
    "# 박스뮬러변환"
   ]
  },
  {
   "cell_type": "markdown",
   "id": "3b9b45d6-3d81-4525-b305-cd1b2a342477",
   "metadata": {},
   "source": [
    "$\\begin{cases} \\frac{R^2}{2} \\sim Exp(1) \\\\ \\Theta \\sim U(0,2\\pi) \\end{cases} \\to \\begin{bmatrix} R \\cos\\Theta \\\\ R \\sin \\Theta \\end{bmatrix} \\to N\\Big( \\begin{bmatrix} 0\\\\0 \\end{bmatrix} \\begin{bmatrix} 1 &0  \\\\ 0 & 1 \\end{bmatrix} \\Big)$"
   ]
  },
  {
   "cell_type": "markdown",
   "id": "09f4371d-8f5b-45f9-b9e8-559f04ecd41a",
   "metadata": {},
   "source": [
    "위에서 $R^2$은 반지름의 제곱\n",
    "\n",
    "- 지수분포 $\\times$ 2는 평균이 2배가 되는 지수분포가 된다.(스케일링 가능)\n",
    "\n",
    "따라서 $R^2$은 $X_1^2 + X_2^2$랑 분포가 같다.\n",
    "\n",
    "- 여기에서 $X_1, X_2 \\sim N(0,1)$ 각각 표준정규분포를 따른다.\n",
    "- 표준정규분포를 각각 제곱해서 더하면 $\\chi^2$을 따른다.\n",
    "\n",
    "1. $Exp(2) \\sim \\chi^2(2)$\n",
    "2. $Exp(2) + Exp(2) \\sim \\chi^2(4)$\n",
    "3. $Exp(2) + Exp(2)+ Exp(2) \\sim \\chi^2(6)$\n",
    "4. $\\dots$\n",
    "5. $\\sum^n Exp(2) \\sim Gamma(n,2)$\n",
    "    \n",
    "    - 책에 따라 $Gamma(n,2)$ 혹은 $Gamma(n,\\frac{1}{2}$ 혹은 $Gamma\\frac{1}{2},1)$ 쓰기도 한다."
   ]
  },
  {
   "cell_type": "code",
   "execution_count": null,
   "id": "56253832-5c25-46f2-a4e5-c3cedffe7e33",
   "metadata": {},
   "outputs": [],
   "source": []
  }
 ],
 "metadata": {
  "kernelspec": {
   "display_name": "Julia 1.7.2",
   "language": "julia",
   "name": "julia-1.7"
  },
  "language_info": {
   "file_extension": ".jl",
   "mimetype": "application/julia",
   "name": "julia",
   "version": "1.7.2"
  }
 },
 "nbformat": 4,
 "nbformat_minor": 5
}
