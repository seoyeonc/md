{
 "cells": [
  {
   "cell_type": "raw",
   "id": "f396f7a6-9c81-4b93-8e52-130ebde6573e",
   "metadata": {
    "id": "cac470df-29e7-4148-9bbd-d8b9a32fa570",
    "tags": []
   },
   "source": [
    "---\n",
    "title: \"Theoritical Statistics HW2\"\n",
    "author: \"SEOYEON CHOI\"\n",
    "date: \"2023-01-05\"\n",
    "categories:\n",
    "  - Theoritical Statistics\n",
    "---"
   ]
  },
  {
   "cell_type": "markdown",
   "id": "0cfbc0fd-2a87-4775-97b9-a9c38211731e",
   "metadata": {},
   "source": [
    "> 기댓값"
   ]
  },
  {
   "cell_type": "markdown",
   "id": "84676637-308b-4c66-b8c1-d4b74de41ec6",
   "metadata": {},
   "source": [
    "# 수업 과제 1."
   ]
  },
  {
   "cell_type": "markdown",
   "id": "a0cadd80-682d-4e79-8e95-f4a4615151b4",
   "metadata": {},
   "source": [
    "평균이 0이고, 표준편차가 1인 변수로 변환\n",
    "\n",
    "$$Z = \\frac{X-\\mu_X}{\\sigma_X}$$"
   ]
  },
  {
   "cell_type": "markdown",
   "id": "72ea10ef-f8ec-4076-aac1-e8c7d60abc4e",
   "metadata": {
    "tags": []
   },
   "source": [
    "**Answer**"
   ]
  },
  {
   "cell_type": "markdown",
   "id": "4e28b570-bbe5-450a-ba88-092569a66a09",
   "metadata": {},
   "source": [
    "$E(\\frac{X-\\mu_X}{\\sigma_X}) = E(\\frac{X}{\\sigma_X}) - E(\\frac{\\mu_X}{\\sigma_X}) = \\frac{\\mu_X}{\\sigma_X} - \\frac{\\mu_X}{\\sigma_X} = 0$\n",
    "\n",
    "$var(\\frac{X-\\mu_X}{\\sigma_X}) = E((\\frac{X-\\mu_X}{\\sigma_X})^2) - (E(\\frac{X-\\mu_X}{\\sigma_X}))^2$\n",
    "\n",
    "$ = E(\\frac{X^2 + \\mu X^2 - 2\\mu_X X}{\\sigma^2_X})= \\frac{E(X^2) + \\mu^2_X - 2\\mu^2_X}{\\sigma^2_X}$\n",
    "\n",
    "$ = \\frac{E(X^2) - \\mu_X^2}{\\sigma_X^2} = \\frac{\\sigma_X^2}{\\sigma^2_X} = 1$"
   ]
  },
  {
   "cell_type": "markdown",
   "id": "48979635-870d-41c6-89e1-61ff38a5e874",
   "metadata": {},
   "source": [
    "# 수업 과제 2."
   ]
  },
  {
   "cell_type": "markdown",
   "id": "b16bfb0c-13d4-4da5-8216-72579314b6b2",
   "metadata": {},
   "source": [
    "$Cov(X,Y) = E((X-\\mu_X)(Y - \\mu_Y)) = E(XY) - E(X)E(Y)$ 를 증명하라."
   ]
  },
  {
   "cell_type": "markdown",
   "id": "2f23708d-334c-4260-8d1b-c36d93dba9ef",
   "metadata": {
    "tags": []
   },
   "source": [
    "**Answer**"
   ]
  },
  {
   "cell_type": "markdown",
   "id": "95dd913e-1c32-4f86-adc8-eb901afb52a4",
   "metadata": {},
   "source": [
    "$E(XY - X\\mu_Y - Y\\mu_X + \\mu_X\\mu_Y)$\n",
    "\n",
    "$ = E(XY) - \\mu_YE(X) - \\mu_XE(Y) + \\mu_x \\mu_Y$\n",
    "\n",
    "$ = E(XY) - E(X)E(Y) - E(X)E(Y) + E(X)E(Y)$\n",
    "\n",
    "$ = E(XY) - E(X)E(Y)$"
   ]
  },
  {
   "cell_type": "markdown",
   "id": "b0d53d19-938f-412c-872f-080ff687699f",
   "metadata": {},
   "source": [
    "# 수업 과제 3."
   ]
  },
  {
   "cell_type": "markdown",
   "id": "fe4bf0fd-63fb-481e-9991-334235e2ad28",
   "metadata": {
    "tags": []
   },
   "source": [
    "**Answer**"
   ]
  },
  {
   "cell_type": "markdown",
   "id": "2f42615b-61fb-4114-b0d3-e1b95b8a80df",
   "metadata": {},
   "source": [
    "$E(Y|X=x) = \\int^{\\infty}_{-\\infty} y f_{Y|X}(y|x) dy = \\int^{\\infty}_{-\\infty} y\\frac{f(X,Y)}{f_X(X)} dy$\n",
    "\n",
    "$ = \\int^{\\infty}_{-\\infty} y \\frac{f(X)f(Y)}{f_X(X)} dy = \\int^{\\infty}_{-\\infty} y f(Y) dy = E(Y)$"
   ]
  },
  {
   "cell_type": "markdown",
   "id": "cbefb8d7-d462-4000-8fbb-0867c2b378a8",
   "metadata": {},
   "source": [
    "# 2.28."
   ]
  },
  {
   "cell_type": "markdown",
   "id": "71ffa14e-90e4-4d9e-9889-aca2d71e3d59",
   "metadata": {},
   "source": [
    "확률변수 $X_i$ 의 기댓값이 $\\lambda$라고 할 때($i = 1, \\dots , n),E(\\sum^n_{i=1} a_i X_i) = \\lambda$가 되기 위한 $a_i$의 조건은 무엇인가?"
   ]
  },
  {
   "cell_type": "markdown",
   "id": "dd94d339-28e0-44ea-9d22-4b26a4052044",
   "metadata": {
    "tags": []
   },
   "source": [
    "**Answer**"
   ]
  },
  {
   "cell_type": "markdown",
   "id": "5bbb160e-d448-4bf4-a52f-d1e4378518ff",
   "metadata": {},
   "source": [
    "$E(X_i) = \\lambda(i=a,\\dots,n)$\n",
    "\n",
    "$E(\\sum^n_{i=1} a_i X_i) = E(a_1 X_1 + a_2 X_2 + \\dots + a_n X_n)$\n",
    "\n",
    "$a_1 E(X_1) + a_2E(X_2) + \\dots + a_n E(X_n)$\n",
    "\n",
    "$ = \\lambda(a_1 + \\dots + a_n)$\n",
    "\n",
    "$\\lambda = \\lambda(a_1 + \\dots + a_n)$\n",
    "\n",
    "$\\therefore \\sum^n_{i=1} a_i = 1$"
   ]
  },
  {
   "cell_type": "markdown",
   "id": "f4128826-df5b-42d2-a468-d843bbe17573",
   "metadata": {},
   "source": [
    "# 2.38"
   ]
  },
  {
   "cell_type": "markdown",
   "id": "64f0cb1b-2cf1-4e67-ac4f-0323767348b9",
   "metadata": {},
   "source": [
    "임의의 독립인 확률변수 $X, Y$에 대하여\n",
    "\n",
    "$$Cov(X+Y,X-Y) = Var(X) - Var(Y)$$\n",
    "\n",
    "가 성립됨을 보여라."
   ]
  },
  {
   "cell_type": "markdown",
   "id": "0e1a69ef-c83a-45a5-bc09-4c244399c636",
   "metadata": {
    "tags": []
   },
   "source": [
    "**Answer**"
   ]
  },
  {
   "cell_type": "markdown",
   "id": "828ffa0c-877a-459e-bf0c-f4dce1ea08f3",
   "metadata": {},
   "source": [
    "$Cov(X+Y,X-Y) = E((X+Y)(X-Y)) - E(X+Y)E(X-Y)$\n",
    "\n",
    "$\\star Var(X) = E(X^2) - E(X)^2$\n",
    "\n",
    "$\\star Var(Y) = E(Y^2) - E(Y)^2$\n",
    "\n",
    "$ = E(X^2 - Y^2) - (E(X) + E(Y))(E(X)-E(Y))$\n",
    "\n",
    "$ = E(X^2) - E(Y^2) - E(X)^2 + E(Y)^2$\n",
    "\n",
    "$ = \\{ E(X^2) - E(X)^2 \\} - \\{ E(Y^2) - E(Y)^2 \\}$\n",
    "\n",
    "$ = Var(X) - Var(Y)$"
   ]
  },
  {
   "cell_type": "markdown",
   "id": "93f639b9-89c9-4783-ac87-6e9d64d825a4",
   "metadata": {},
   "source": [
    "# 2.40"
   ]
  },
  {
   "cell_type": "markdown",
   "id": "89036311-5aa4-43e8-8c7b-35332593014b",
   "metadata": {},
   "source": [
    "확률변수 $X$와 $Y$의 결합확률밀도함수가\n",
    "\n",
    "$$f(x,y) = \\begin{cases} 4I & 0<x<1,1<y<2x \\text{인 경우} \\\\ 0 & \\text{그 외의 경우} \\end{cases}$$\n",
    "\n",
    "라고 하자. 이때"
   ]
  },
  {
   "cell_type": "markdown",
   "id": "092a9eac-7146-4298-a21b-ae0400276a2b",
   "metadata": {},
   "source": [
    "## (1)"
   ]
  },
  {
   "cell_type": "markdown",
   "id": "9f13111b-b330-4bd8-a464-46d0de24f7b8",
   "metadata": {},
   "source": [
    "$x$에 대한 $Y$의 조건부 기댓값 $E(Y|x)$를 구하라."
   ]
  },
  {
   "cell_type": "markdown",
   "id": "74b1ba70-8f83-43c9-b13a-9b7fb27d09a1",
   "metadata": {
    "tags": []
   },
   "source": [
    "**Answer**"
   ]
  },
  {
   "cell_type": "markdown",
   "id": "53785627-5f6f-4f6e-a571-5d2aeab38a28",
   "metadata": {},
   "source": [
    "$E(Y|x) = \\int^\\infty_{-\\infty} y f_{Y|X} (y) dy = \\int^\\infty_{-\\infty} y \\frac{f(X,y)}{f_X(X)}dy$\n",
    "\n",
    "$\\star f_X(X) = \\int f(x,y) dy = \\int^\\infty_{-\\infty} 4I(0<x<1,1<y<2x)dy$\n",
    "\n",
    "$ = 4I(0<x<1)\\int_{-\\infty < y < \\infty , 1<y<2x} I(1<y<2x)dy$\n",
    "\n",
    "$ = 4I(0<x<1)\\int^{2x}_1 a dy = 4I(0<x<1)[y]^{2x}_1$\n",
    "\n",
    "$ = 4(2x-1)I(0<x<1)$"
   ]
  },
  {
   "cell_type": "markdown",
   "id": "9e65fbeb-19bc-4c3d-a9b0-ca4883c104fe",
   "metadata": {},
   "source": [
    "## (2)"
   ]
  },
  {
   "cell_type": "markdown",
   "id": "32841646-a656-4511-ac6d-4b2cedcff0ee",
   "metadata": {},
   "source": [
    "$y$에 대한 $X$의 조건부 기댓값 $E(X|y)$를 구하라."
   ]
  },
  {
   "cell_type": "markdown",
   "id": "2540a607-6d16-4d18-9152-334c9f60861d",
   "metadata": {
    "tags": []
   },
   "source": [
    "**Answer**"
   ]
  },
  {
   "cell_type": "markdown",
   "id": "dd08eb7a-0a7a-4587-9352-d711865fde8d",
   "metadata": {},
   "source": [
    "## (3)"
   ]
  },
  {
   "cell_type": "markdown",
   "id": "eff2e31f-5fc4-495d-95e7-af1056d760d6",
   "metadata": {},
   "source": [
    "$x$에 관한 $Y$의 조건부 분산 $E[Y - E(Y|x)|x]^2$을 구하라."
   ]
  },
  {
   "cell_type": "markdown",
   "id": "031a4df5-c77a-4727-b4cf-17def053537b",
   "metadata": {
    "tags": []
   },
   "source": [
    "**Answer**"
   ]
  }
 ],
 "metadata": {
  "kernelspec": {
   "display_name": "Python 3 (ipykernel)",
   "language": "python",
   "name": "python3"
  },
  "language_info": {
   "codemirror_mode": {
    "name": "ipython",
    "version": 3
   },
   "file_extension": ".py",
   "mimetype": "text/x-python",
   "name": "python",
   "nbconvert_exporter": "python",
   "pygments_lexer": "ipython3",
   "version": "3.8.12"
  }
 },
 "nbformat": 4,
 "nbformat_minor": 5
}
