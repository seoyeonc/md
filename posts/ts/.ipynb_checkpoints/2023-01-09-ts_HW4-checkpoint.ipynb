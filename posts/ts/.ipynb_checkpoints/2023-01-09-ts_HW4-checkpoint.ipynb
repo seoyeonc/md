{
 "cells": [
  {
   "cell_type": "raw",
   "id": "51567ecc-c002-428b-8bc9-1629a34fc7e0",
   "metadata": {
    "id": "cac470df-29e7-4148-9bbd-d8b9a32fa570",
    "tags": []
   },
   "source": [
    "---\n",
    "title: \"Theoritical Statistics HW4\"\n",
    "author: \"SEOYEON CHOI\"\n",
    "date: \"2023-01-09\"\n",
    "categories:\n",
    "  - Theoritical Statistics\n",
    "---"
   ]
  },
  {
   "cell_type": "markdown",
   "id": "7f5770bc-0b1f-4051-99bf-2daf820e87ca",
   "metadata": {},
   "source": [
    "> 자주 사용도디는 확률분포"
   ]
  },
  {
   "cell_type": "code",
   "execution_count": null,
   "id": "39d0a62f-7a06-4c4b-905b-ad4adfb8dd37",
   "metadata": {},
   "outputs": [],
   "source": []
  }
 ],
 "metadata": {
  "kernelspec": {
   "display_name": "Python 3 (ipykernel)",
   "language": "python",
   "name": "python3"
  },
  "language_info": {
   "codemirror_mode": {
    "name": "ipython",
    "version": 3
   },
   "file_extension": ".py",
   "mimetype": "text/x-python",
   "name": "python",
   "nbconvert_exporter": "python",
   "pygments_lexer": "ipython3",
   "version": "3.8.12"
  }
 },
 "nbformat": 4,
 "nbformat_minor": 5
}
