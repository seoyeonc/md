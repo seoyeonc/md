{
  "cells": [
    {
      "cell_type": "markdown",
      "metadata": {},
      "source": [
        "# Theoritical Statistics GT\n",
        "\n",
        "SEOYEON CHOI  \n",
        "2023-03-03\n",
        "\n",
        "> GT\n",
        "\n",
        "# 1.\n",
        "\n",
        "$X_1, \\dots, X_n$는 $Ber(p)$분포로부터의 랜덤표본이다.\n",
        "\n",
        "## (a)\n",
        "\n",
        "이 랜덤표본의 결합확률밀도함수를 기술하시오.\n",
        "\n",
        "## (b)\n",
        "\n",
        "$p(1-p)$에 대한 최대가능도추정량을 구하시오.\n",
        "\n",
        "## (c)\n",
        "\n",
        "$X_1(1-X_2)$의 기댓값을 구하시오.\n",
        "\n",
        "## (d)\n",
        "\n",
        "$E[X_1(1-X_2)|\\sum^n_{i=1} X_i = t]$을 구하시오.\n",
        "\n",
        "## (e)\n",
        "\n",
        "$p=\\frac{1}{2}$일 때의 점근분포를 구체적으로 제시하라.\n",
        "\n",
        "## (f)\n",
        "\n",
        "가설 $H_0 : p = \\frac{1}{2}$ vs $H_1 : p \\neq \\frac{1}{2}$ 일때, 일반화\n",
        "가능도비를 이용하여 기각 영역을 제시하라.\n",
        "\n",
        "# 2.\n",
        "\n",
        "$Y_i \\sim Ber(p_i)$일 때, $logit(p_i) = log(\\frac{p}{1-p})$에 공변량\n",
        "$x_i$를 더한 것으로 표현 가능하다. 즉,\n",
        "$logit(p_i) = \\alpha + \\beta x_i$의 선형결합 형태로 나타낼 수 있다.\n",
        "최대가능도추정량을 이용하여 구체적으로 설명하라."
      ],
      "id": "8f692c22-f38a-4a95-867c-7d721ad9e9c8"
    }
  ],
  "nbformat": 4,
  "nbformat_minor": 5,
  "metadata": {
    "kernelspec": {
      "name": "ir",
      "display_name": "R",
      "language": "R"
    },
    "language_info": {
      "name": "R",
      "codemirror_mode": "r",
      "file_extension": ".r",
      "mimetype": "text/x-r-source",
      "pygments_lexer": "r",
      "version": "4.1.2"
    }
  }
}