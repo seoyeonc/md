{
 "cells": [
  {
   "cell_type": "raw",
   "id": "dbb9c3b1-5106-41fc-98f5-3b29f71e688e",
   "metadata": {
    "id": "cac470df-29e7-4148-9bbd-d8b9a32fa570",
    "tags": []
   },
   "source": [
    "---\n",
    "title: \"Theoritical Statistics HW1\"\n",
    "author: \"SEOYEON CHOI\"\n",
    "date: \"2023-01-05\"\n",
    "categories:\n",
    "  - Theoritical Statistics\n",
    "---"
   ]
  },
  {
   "cell_type": "markdown",
   "id": "6d31a665-7b9e-441a-8145-fef2a348d22e",
   "metadata": {},
   "source": [
    "> 확률변수와 확률분포"
   ]
  },
  {
   "cell_type": "markdown",
   "id": "bad8097b-1271-4035-8fc5-7b37cda865dd",
   "metadata": {},
   "source": [
    "# 1."
   ]
  },
  {
   "cell_type": "markdown",
   "id": "cde376e1-2541-4a11-b69b-29f375970aff",
   "metadata": {},
   "source": [
    "세 개의 상자에는 각각 1,2,3,4가 적혀있는 네 장의 카드가 들어 있다. 각 상자에서 임의로 카드를 한 장씩 선택하여 $X$와 $Y$를 다음과 같이 정의할 때, $X$롸 $Y$의 결합확률분포를 구하시오\n",
    "\n",
    "- $X$ = 세 장의 카드 중 가장 작은 값, $Y$ = 세 장의 카드 중 가장 큰 값"
   ]
  },
  {
   "cell_type": "markdown",
   "id": "64350b35-97ec-495f-b719-705a91086dd5",
   "metadata": {},
   "source": [
    "**Answer**"
   ]
  },
  {
   "cell_type": "markdown",
   "id": "35af6849-27d5-4cb4-9768-ab9f89c82738",
   "metadata": {},
   "source": [
    "|X,Y|1|2|3|4|\n",
    "|:--:|:--:|:--:|:--:|:--:|\n",
    "|1|$\\frac{1}{64}$|$\\frac{6}{64}$|$\\frac{12}{64}$|$\\frac{18}{64}$|\n",
    "|2|0|$\\frac{1}{64}$|$\\frac{6}{64}$|$\\frac{12}{64}$|\n",
    "|3|0|0|$\\frac{1}{64}$|$\\frac{6}{64}$|\n",
    "|4|0|0|0|$\\frac{1}{64}$|"
   ]
  },
  {
   "cell_type": "markdown",
   "id": "c5edcef7-eb2c-43a9-b168-48ae7537c803",
   "metadata": {},
   "source": [
    "총 64 cases 존재, $\\begin{pmatrix} 4 \\\\ 1 \\end{pmatrix} \\begin{pmatrix} 4 \\\\ 1 \\end{pmatrix} \\begin{pmatrix} 4 \\\\ 1 \\end{pmatrix} = 64$"
   ]
  },
  {
   "cell_type": "markdown",
   "id": "251b9474-969e-469c-8c79-92ab8cdeaeaf",
   "metadata": {},
   "source": [
    "$P(X=1,Y=2) , (1,2) \\to \\frac{3 \\times 2 \\times 1}{2} \\times 2 = \\frac{6}{64}$\n",
    "\n",
    "$P(X=1,Y=3) , (1,2,3) \\to (\\frac{3 \\times 2 \\times 1}{2} \\times 2) + (3 \\times 2 \\times 1) = \\frac{12}{64}$\n",
    "\n",
    "$P(X=1,Y=4) , (1,2,3,4) \\to (\\frac{3 \\times 2 \\times 1}{2} \\times 2) + (3 \\times 2 \\times 1 \\times 2) = \\frac{18}{64}$\n",
    "\n",
    "$P(X=2,Y=3) , (2,3) \\to (\\frac{3 \\times 2 \\times 1}{2} \\times 2) + (3 \\times 2 \\times 1) = \\frac{6}{64}$\n",
    "\n",
    "$P(X=2,Y=4) , (2,3,4) \\to (\\frac{3 \\times 2 \\times 1}{2} \\times 2) + (3 \\times 2 \\times 1) = \\frac{12}{64}$\n",
    "\n",
    "$P(X=3,Y=4) , (3,4) \\to (\\frac{3 \\times 2 \\times 1}{2} \\times 2) + (3 \\times 2 \\times 1) = \\frac{6}{64}$\n",
    "\n",
    "$P(X=1,Y=1) = P(X=2,Y=2) = P(X=3,Y=3) = P(X=4,Y=4) = \\frac{1}{64}$\n",
    "\n",
    "$\\sum^n_{n=1}\\sum^m_{m=1}(X,Y) = 1$"
   ]
  },
  {
   "cell_type": "markdown",
   "id": "f0dac9cf-884e-4d64-b1b8-41a3e2e5e0b2",
   "metadata": {},
   "source": [
    "# 2."
   ]
  },
  {
   "cell_type": "markdown",
   "id": "b66dfa48-d4f6-460f-a832-bedcf0738ccf",
   "metadata": {},
   "source": [
    "$X$와 $Y$는 다음과 같은 결합분포를 가지고 있다."
   ]
  },
  {
   "cell_type": "markdown",
   "id": "87a4e6e2-be4a-4065-a6cd-41b20d16f5bb",
   "metadata": {},
   "source": [
    "|||$y$|||\n",
    "|--|--|--|--|--|\n",
    "|||$10$|$20$|$30$|\n",
    "|$x$|$0$|$\\frac{1}{9}$|$\\frac{1}{9}$|$0$|\n",
    "||$1$|$\\frac{1}{6}$|$0$|$\\frac{1}{6}$|\n",
    "||$2$|$0$|$\\frac{2}{9}$|$\\frac{2}{9}$|"
   ]
  },
  {
   "cell_type": "markdown",
   "id": "560f40bf-1818-43bf-b5ca-2ddd5b100d9a",
   "metadata": {},
   "source": [
    "## (a) $X$의 주변분포를 구하시오."
   ]
  },
  {
   "cell_type": "markdown",
   "id": "47275244-94fb-4a1d-87ac-bd360cf6c2a5",
   "metadata": {
    "tags": []
   },
   "source": [
    "**Answer**"
   ]
  },
  {
   "cell_type": "markdown",
   "id": "1e8d414c-f41f-4efd-add9-7b6d7baac78f",
   "metadata": {},
   "source": [
    "$F_X(X)$\n",
    "\n",
    "- $P(X=0) = \\frac{1}{9} + \\frac{1}{9} = \\frac{2}{9}$\n",
    "- $P(X=1) = \\frac{1}{6} + \\frac{1}{6} =\\frac{2}{6} = \\frac{1}{3}$\n",
    "- $P(X=2) = \\frac{2}{9} + \\frac{2}{9} = \\frac{4}{9}$"
   ]
  },
  {
   "cell_type": "markdown",
   "id": "3730d091-bd3a-44fe-9042-1a0c1adab739",
   "metadata": {},
   "source": [
    "## (b) $Y$의 주변분포를 구하시오."
   ]
  },
  {
   "cell_type": "markdown",
   "id": "1233ec8f-1b41-4f4e-9a3c-7f0c7aa0db86",
   "metadata": {
    "tags": []
   },
   "source": [
    "**Answer**"
   ]
  },
  {
   "cell_type": "markdown",
   "id": "c1984111-a399-43d5-a531-92751dd6dc3c",
   "metadata": {},
   "source": [
    "$F_Y(Y)$\n",
    "\n",
    "- $P(Y=10) = \\frac{1}{9} + \\frac{1}{6} = \\frac{15}{54} = \\frac{5}{18}$\n",
    "- $P(Y=20) = \\frac{1}{9} + \\frac{2}{9} =\\frac{3}{9} = \\frac{1}{3}$\n",
    "- $P(Y=30) = \\frac{1}{6} + \\frac{2}{9} = \\frac{21}{54} = \\frac{7}{18}$"
   ]
  },
  {
   "cell_type": "markdown",
   "id": "8ab58c2a-e108-44c3-80dc-04ba4cb5d906",
   "metadata": {},
   "source": [
    "## (c) $Y=10$ 일 때 $X$의 조건부분포를 구하시오"
   ]
  },
  {
   "cell_type": "markdown",
   "id": "9f572ad1-e239-4ce7-b9e8-c43c651a86d7",
   "metadata": {
    "tags": []
   },
   "source": [
    "**Answer**"
   ]
  },
  {
   "cell_type": "markdown",
   "id": "f26c45b3-31dc-4dae-b1b2-6ca4c5cbeeb4",
   "metadata": {},
   "source": [
    "$F_X(Y=10|X=0) = \\frac{1/9}{5/18} = \\frac{2}{5}$\n",
    "\n",
    "$F_X(Y=10|X=1) = \\frac{1/6}{5/18} = \\frac{3}{5}$\n",
    "\n",
    "$F_X(Y = 10|X = 2) = \\frac{0}{5/18} = 0$"
   ]
  },
  {
   "cell_type": "markdown",
   "id": "65ddc376-173a-40e8-83cd-c61a7f848395",
   "metadata": {},
   "source": [
    "# 3."
   ]
  },
  {
   "cell_type": "markdown",
   "id": "758d93c2-1670-46e9-b3d7-6e11669c2d05",
   "metadata": {},
   "source": [
    "두 연속형 확률변수 $X$와 $Y$의 결합확률밀도함수 $f(x,y) = 2I(0<x<y<1)$일 때, $X$의 주변확률밀도함수를 구하고, $X$와 $Y$는 서로 독립인지 확인하시오."
   ]
  },
  {
   "cell_type": "markdown",
   "id": "908926a1-6b27-413d-922b-f143fe932c1a",
   "metadata": {
    "tags": []
   },
   "source": [
    "**Answer**"
   ]
  },
  {
   "cell_type": "markdown",
   "id": "29e2d01b-d56f-4d5d-acda-bf157e783946",
   "metadata": {},
   "source": [
    "$f_X(X) = \\int^1_x 2 dy = [ 2y]^1_x = 2(1-x)$\n",
    "\n",
    "$f_Y(Y) \\int^y_0 2 dx = [2x]^y_0 = 2y$\n",
    "\n",
    "$f_{XY}(X,Y) \\neq f_X(X)\\times f_Y(Y)$\n",
    "\n",
    "$X,Y$는 독립이 아니다."
   ]
  },
  {
   "cell_type": "markdown",
   "id": "2036789b-e26c-490b-8600-e87ee245e341",
   "metadata": {},
   "source": [
    "# 4."
   ]
  },
  {
   "cell_type": "markdown",
   "id": "e6f8d16d-6ad1-4f4f-b130-d06508c91dd4",
   "metadata": {},
   "source": [
    "두 연속형 확률변수 $X$와 $Y$의 결합확률밀도함수 $f(x,y) = 2xe^{x+2y}I(0<x<\\inf, 0< y< \\inf)$ 일 때, $Y$의 주변확률밀도함수를 구하고, $X$와 $Y$는 서로 독립인지 확인하시오."
   ]
  },
  {
   "cell_type": "markdown",
   "id": "f5da5f11-7d02-4151-bb1d-405e4c03e685",
   "metadata": {
    "tags": []
   },
   "source": [
    "**Answer**"
   ]
  },
  {
   "cell_type": "markdown",
   "id": "33a6bba0-76a3-458c-b221-e8d3648f5e20",
   "metadata": {},
   "source": [
    "$f_Y(Y) = \\int^{\\infty}_0 2xe^{-(x+2y)} dx$\n",
    "\n",
    "$= [-2xe^{-(x+2y)}]^{\\infty}_0 - \\int^{\\infty}_0 -2 e^{-(x+2y)} dx$\n",
    "\n",
    "$= 2[-e^{-(x+2y)}]^{\\infty}_0 = 2e^{-2y}$\n",
    "\n",
    "$f_X(X) = \\int^{\\infty}_0 2xe^{-(x+2y)} dy = [-xe^{-(x+2y)}]^{\\infty}_0 = xe^{-x}$\n",
    "\n",
    "$f_{XY}(X,Y) = f_X(X) \\times f_Y(Y)$\n",
    "\n",
    "$X,Y$는 서로 독립이다."
   ]
  },
  {
   "cell_type": "code",
   "execution_count": null,
   "id": "8305ad38-6395-4719-bd40-50eb935d8e86",
   "metadata": {},
   "outputs": [],
   "source": []
  }
 ],
 "metadata": {
  "kernelspec": {
   "display_name": "Python 3 (ipykernel)",
   "language": "python",
   "name": "python3"
  },
  "language_info": {
   "codemirror_mode": {
    "name": "ipython",
    "version": 3
   },
   "file_extension": ".py",
   "mimetype": "text/x-python",
   "name": "python",
   "nbconvert_exporter": "python",
   "pygments_lexer": "ipython3",
   "version": "3.8.12"
  }
 },
 "nbformat": 4,
 "nbformat_minor": 5
}
