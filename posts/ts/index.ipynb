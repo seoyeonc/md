{
  "cells": [
    {
      "cell_type": "markdown",
      "metadata": {},
      "source": [
        "# Theoritical Statistics\n",
        "\n",
        "SEOYEON CHOI  \n",
        "2022-12-27\n",
        "\n",
        "Those are posts of Theoritical Statistics.\n",
        "\n",
        "\\[참고(https://seoyeonc.github.io/chch/theoritical%20statistics/2022/04/17/ts-3%EC%9E%A5%EA%B3%BC%EC%A0%9C.html)"
      ],
      "id": "955471c3-dd09-4390-bcf5-745a22375110"
    }
  ],
  "nbformat": 4,
  "nbformat_minor": 5,
  "metadata": {
    "kernelspec": {
      "display_name": "Python 3",
      "language": "python",
      "name": "python3"
    }
  }
}