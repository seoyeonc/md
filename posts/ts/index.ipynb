{
  "cells": [
    {
      "cell_type": "markdown",
      "metadata": {},
      "source": [
        "# Theoritical Statistics\n",
        "\n",
        "SEOYEON CHOI  \n",
        "2022-12-27\n",
        "\n",
        "Those are posts of Theoritical Statistics.\n",
        "\n",
        "\\[참고(https://seoyeonc.github.io/chch/theoritical%20statistics/2022/04/17/ts-3%EC%9E%A5%EA%B3%BC%EC%A0%9C.html)"
      ],
      "id": "4328699c-9fa3-4a9d-861e-c059479b00c1"
    }
  ],
  "nbformat": 4,
  "nbformat_minor": 5,
  "metadata": {
    "kernelspec": {
      "display_name": "Python 3",
      "language": "python",
      "name": "python3"
    }
  }
}