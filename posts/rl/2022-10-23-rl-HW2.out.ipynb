{
  "cells": [
    {
      "cell_type": "markdown",
      "metadata": {},
      "source": [
        "# Regression HW 2\n",
        "\n",
        "SEOYEON CHOI  \n",
        "10/23/22\n",
        "\n",
        "고급회귀분석 과제, CH03,04,05\n",
        "\n",
        "------------------------------------------------------------------------\n",
        "\n",
        "고급회귀분석 두번째 과제입니다.\n",
        "\n",
        "제출 기한 : 10월 23일\n",
        "\n",
        "(마지막 문제는 R을 이용해서 풀이해도 됨)\n",
        "\n",
        "제출 방법\n",
        "\n",
        "-   직접 제출(607호) 도 가능하지만,\n",
        "\n",
        "-   문서 작성 후 pdf로 변환(★★★)하여 lms에 제출을 추천\n",
        "\n",
        "(pdf 아닌 문서는 미제출로 간주)\n",
        "\n",
        "주의사항\n",
        "\n",
        "-   pdf로 꼭 변환하여 제출\n",
        "\n",
        "-   풀이가 꼭 있어야 함 (답만 적혀 있는 경우 ’0’점 처리)\n",
        "\n",
        "-   부정행위 시 ’F’학점\n",
        "\n",
        "-   계산은 R로 해도 되지만 계산 풀이 과정이 꼭 있어야 함!!\n",
        "\n",
        "예) R에서 lm으로 beta의 추정량을 구하면 안 됨. 수업 시간에 배운 식으로\n",
        "풀이를 적어야 함.\n",
        "\n",
        "\\*\\*\\*\\*\\*\\*\\*\\*\\*\\*\\*\\* R을 이용해서 푸는 문제는, R 코드도 같이 업로드.\n",
        "\n",
        "------------------------------------------------------------------------\n",
        "\n",
        "# 1.\n",
        "\n",
        "단순회귀에서 회귀제곱합, $$SSE = \\sum^{n}_{i=1} (y_i - \\hat{y}_i)^2$$ 을\n",
        "이차형식 $y^\\top B y$ 로 표현하시오. 이 이차형식의 분포를 구하고, 또한\n",
        "기대치를 ⟨정리 5.1⟩에 의하여 구하시오\n",
        "\n",
        "**Answer**\n",
        "\n",
        "$\\sum^{n}_{i=1} (y_i - \\hat{y}_i)^2$\n",
        "\n",
        "$= \\sum^{n}_{i=1} (y_i - \\hat{y}_i)^\\top(y_i - \\hat{y}_i)$\n",
        "\n",
        "$= (\\bf{y} - \\hat{\\bf{y}})^\\top(\\bf{y} - \\hat{\\bf{y}})$\n",
        "\n",
        "$= (\\bf{y} - \\bf{X}b)^\\top(\\bf{y} - \\bf{X}b)$\n",
        "\n",
        "$= \\bf{y}^\\top\\bf{y} - \\bf{y}^\\top X\\bf{b} - \\bf{b}^\\top\\bf{X}^\\top\\bf{y} + \\bf{b}^\\top\\bf{X}^\\top\\bf{X}\\bf{b}$\n",
        "\n",
        "$= \\bf{y}^\\top\\bf{y} - 2\\bf{y}^\\top\\bf{X}\\bf{b} + \\bf{b}^\\top\\bf{X}^\\top\\bf{X}\\bf{b}$\n",
        "\n",
        "$= \\bf{y}^\\top\\bf{y} - \\bf{y}^\\top\\bf{X}(\\bf{X}^\\top\\bf{X})^{-1}\\bf{X}^\\top\\bf{y}$\n",
        "\n",
        "$= \\bf{y}^\\top(\\bf{I_n} - \\bf{X}(\\bf{X}^\\top\\bf{X})^{-1}\\bf{X}^\\top)\\bf{y}$\n",
        "\n",
        "$\\frac{\\sum^{n}_{i=1} (y_i - \\hat{y}_i)^2}{\\sigma^2} = \\bf{y}^\\top \\bf{B} \\bf{y}$\n",
        "\n",
        "\\<정리5.3\\>\n",
        "\n",
        "만약 $y \\sim N(\\mu,V)$이면,\n",
        "\n",
        "$$y^\\top A y \\sim \\chi^2 (r(A),\\frac{1}{2}\\mu^\\top A \\mu ) \\to \\text{AV : independent matrix}$$\n",
        "\n",
        "$\\frac{SSE}{\\sigma^2} = \\bf{y}^\\top\\frac{1}{\\sigma^2}(\\bf{I_n} - \\bf{X}(\\bf{X}^\\top\\bf{X})^{-1}\\bf{X}^\\top)\\bf{y}$\n",
        "\n",
        "$\\frac{SSE}{\\sigma^2} \\sim \\chi^2 (r(A),\\frac{1}{2}\\mu^\\top A \\mu )$\n",
        "\n",
        "$\\star y_i \\sim N(\\beta_0 + \\beta_1 x_i, \\sigma^2)$\n",
        "\n",
        "$\\star \\bf{y}^\\top \\sim N(\\mu, I\\sigma^2)$\n",
        "\n",
        "$\\bf{B} = \\bf{I_n} - \\bf{X}(\\bf{X}^\\top\\bf{X})^{-1}\\bf{X}^\\top$\n",
        "\n",
        "$\\bf{B}\\bf{B} = (\\bf{I_n} - \\bf{X}(\\bf{X}^\\top\\bf{X})^{-1}\\bf{X}^\\top)(\\bf{I_n} - \\bf{X}(\\bf{X}^\\top\\bf{X})^{-1}\\bf{X}^\\top)$\n",
        "\n",
        "$= \\bf{I_n} - 2\\bf{X}(\\bf{X}^\\top\\bf{X})^{-1}\\bf{X}^\\top + \\bf{X}(\\bf{X}^\\top\\bf{X})^{-1}\\bf{X}^\\top = \\bf{I_n} - \\bf{X}(\\bf{X}^\\top\\bf{X})^{-1}\\bf{X}^\\top = \\bf{B}$\n",
        "\n",
        "$\\therefore \\bf{B} \\text{ is an independendt matrix}$\n",
        "\n",
        "$r(\\bf{B}) = tr(\\bf{B}) = tr(\\bf{I_n} - \\bf{X}(\\bf{X}^\\top\\bf{X})^{-1}\\bf{X}^\\top) = tr(\\bf{I_n}) - tr(\\bf{X}(\\bf{X}^\\top\\bf{X})^{-1}\\bf{X}^\\top) = n - (p+1)$\n",
        "\n",
        "$V = I\\sigma^2$\n",
        "\n",
        "$\\therefore \\bf{BV = BVBV}$\n",
        "\n",
        "$\\therefore \\bf{BV} \\text{ is an independent matrix}$\n",
        "\n",
        "$\\mu^\\top \\bf{B} \\mu = \\mu^\\top (\\bf{I}-\\bf{X}(\\bf{X}^\\top\\bf{X})^{-1}\\bf{X}^\\top)\\mu = \\beta^\\top \\bf{X}^\\top (\\bf{I} - \\bf{X}(\\bf{X}^\\top\\bf{X})^{-1}\\bf{X}^\\top)\\bf{X}\\beta = \\beta^\\top \\bf{X}^\\top (\\bf{X} - \\bf{X}(\\bf{X}^\\top\\bf{X})^{-1}\\bf{X}^\\top\\bf{X})\\beta = 0$\n",
        "\n",
        "$\\star \\bf{X}(\\bf{X}^\\top\\bf{X})^{-1}\\bf{X}^\\top\\bf{X} = \\bf{X}(\\bf{X}^\\top\\bf{X})^{-1}\\bf{X}^\\top \\bf{X} = \\bf{X}$\n",
        "\n",
        "$\\frac{SSE}{\\sigma^2}\\sim \\chi^2_{(n-(p+1))}$\n",
        "\n",
        "\\<정리 5.1\\> 만약 $y \\sim N(\\mu, V)$이면,\n",
        "$$E(y^\\top A y) = tr(AV) + \\mu^\\top A \\mu, Cov(y,y^\\top A y ) = 2 V A \\mu$$\n",
        "\n",
        "$E(SSE) = tr(BV) + \\mu^\\top B \\mu = tr(\\bf{X}(\\bf{X}^\\top\\bf{X})^{-1}\\bf{X}^\\top V) + \\mu^\\top \\bf{X}(\\bf{X}^\\top\\bf{X})^{-1}\\bf{X}^\\top \\mu = (n-(p+1))\\sigma^2 + 0 = (n - (p+1))\\sigma^2$\n",
        "\n",
        "$Cov(y,y^\\top B y) = 2VB\\mu = 2 \\sigma^2 (I-\\bf{X}(\\bf{X}^\\top\\bf{X})^{-1}\\bf{X}^\\top)\\mu = 2 \\sigma^2 (I-\\bf{X}(\\bf{X}^\\top\\bf{X})^{-1}\\bf{X}^\\top)\\bf{X}\\beta = 0$\n",
        "\n",
        "------------------------------------------------------------------------\n",
        "\n",
        "# 2.\n",
        "\n",
        "만약 $$y_1 = \\beta_0 + \\epsilon_1$$\n",
        "$$y_2 = 2\\beta_0 - \\beta_1 + \\epsilon_2$$\n",
        "$$y_3 = \\beta_0 + 2\\beta_1 + \\epsilon_3$$ 이고,\n",
        "$E(\\epsilon_i) = 0, i = 1, 2, 3$이라면 $\\beta_0$ 와 $\\beta_1$ 의\n",
        "최소제곱추정값은 무엇인가? $y_i, i = 1, 2, 3$의 함수로써 나타내어라.\n",
        "그리고 이 경우의 잔차제곱합(residual sum of squares)을 구하시오.\n",
        "\n",
        "**Answer**\n",
        "\n",
        "$\\epsilon_1 = y_1 + \\beta_0, \\epsilon_2 = y_2 - 2\\beta_0 + \\beta_1, \\epsilon_3 = y_3 - \\beta_0 - 2\\beta_1$\n",
        "\n",
        "$S = (y_1 - \\hat{\\beta}_0)^2 + (y_2 - 2\\hat{\\beta}_0 + \\hat{\\beta}_1)^2 + (y_3 - \\hat{\\beta}_0 - 2\\hat{\\beta}_1)^2$\n",
        "\n",
        "$\\frac{\\partial S}{\\partial \\beta_0} = -2(y_1 - \\hat{\\beta}_0) -4(y_2 - 2\\hat{\\beta}_0 + \\hat{\\beta}_1) -2(y_3 - \\hat{\\beta}_0 - 2\\hat{\\beta}_1)$\n",
        "\n",
        "$= -2y_1 + 2\\hat{\\beta}_0 -4y_2 + 8\\hat{\\beta}_0 -4\\hat{\\beta}_1 -2y_3 +2\\hat{\\beta}_0 +4\\hat{\\beta}_1$\n",
        "\n",
        "$= -2y_1 -4y_2 -2y_3 + 12\\hat{\\beta}_0 = 0$\n",
        "\n",
        "$\\therefore \\hat{\\beta}_0 = \\frac{1}{12}(2y_1 + 4y_2 + 2y_3) = \\frac{1}{6}(y_1 + 2y_2 + y_3)$\n",
        "\n",
        "$\\frac{\\partial S}{\\partial \\beta_1} = 2(y_2 - 2\\hat{\\beta}_0 + \\hat{\\beta}_1) -4(y_3 - \\hat{\\beta}_0 - 2\\hat{\\beta}_1)$\n",
        "\n",
        "$= 2y_2 - 4\\hat{\\beta}_0 + 2\\hat{\\beta}_1 -4y_3 +4 \\hat{\\beta}_0 + 8\\hat{\\beta}_1$\n",
        "\n",
        "$= 2y_2 -4y_3 + 10\\hat{\\beta}_1 = 0$\n",
        "\n",
        "$\\therefore \\hat{\\beta}_1 = \\frac{1}{10}(-2y_2 + 4y_3) = \\frac{1}{5}(-y_2 + 2y_3)$\n",
        "\n",
        "$\\text{Residual sum of squares  }S = (y_1 - \\hat{\\beta}_0)^2 + (y_2 - 2\\hat{\\beta}_0 + \\hat{\\beta}_1)^2 + (y_3 - \\hat{\\beta}_0 - 2\\hat{\\beta}_1)^2$\n",
        "\n",
        "$= y_2^2 + \\hat{\\beta}_0^2 - 2\\hat{\\beta}_0y_1 + y_2^2 - 4\\hat{\\beta}_0 y_2 + 2\\hat{\\beta}_1 y_2 - 4\\hat{\\beta}_0 \\hat{\\beta}_1 + \\hat{\\beta}_1^2 + y_3^2 -2\\hat{\\beta}_0 y_3 - 4 \\hat{\\beta}_1 y_3 + \\hat{\\beta}_0^2 + 4\\hat{\\beta}_0\\hat{\\beta}_ + 4\\hat{\\beta}_1^2$\n",
        "\n",
        "$= y_1^2 + y_2^2 + y_3^2 + 2\\hat{\\beta}_0^2 + 5\\hat{\\beta}_1^2 + \\hat{\\beta}_0(-2y_1 -4y_2 -2y_3) + \\hat{\\beta}_1 (2y_2 -4y_3)$\n",
        "\n",
        "$= y_1^2 + y_2^2 + y_3^2 -10 \\hat{\\beta}_0^2 - 5\\hat{\\beta}_1^2$\n",
        "\n",
        "$= y_1^2 + y_2^2 + y_3^2 - \\frac{5}{18}(y_1 + 2y_2 + y_3)^2 - \\frac{1}{5}(-y_2 + 2y_3)^2$\n",
        "\n",
        "$= \\frac{13}{18} y_1^2 -\\frac{14}{45}y_2^2 -\\frac{70}{90}y3^2 -\\frac{10}{9}y_1y_2 -\\frac{5}{9} y_1y_3 - \\frac{32}{45}y_2y_3$\n",
        "\n",
        "$= \\frac{1}{90}(65y_1^2 -28 y_2^2 - 70y_3^2 -100y_1y_2 -50y_1y_3 - 64y_2y_3)$\n",
        "\n",
        "------------------------------------------------------------------------\n",
        "\n",
        "# 3.\n",
        "\n",
        "단순회귀모형\n",
        "$$y_i = \\beta_0 + \\beta_1 x_i + \\epsilon_i, \\epsilon_i ~ N(0, \\sigma^2), i = 1, 2, \\dots , n$$\n",
        "에서 각각의 $x_i$ 가 $cx_i (c \\neq 0)$로 대체된다고 가정하자.\n",
        "$\\hat{\\beta}_0, \\hat{\\beta}_1, s^{2}_{y·x}, R^2$ 과\n",
        "$H_0 : \\beta_1 = 0$에 대한 $t$−검정 결과는 어떤 영향을 받는가?\n",
        "\n",
        "**Answer**\n",
        "\n",
        "$S = \\sum^n_{i=1}\\epsilon^2_i = \\sum^n_{i=1} \\{ y_i - (\\beta_0 + \\beta_1 c x_i)\\}^2$\n",
        "\n",
        "$\\frac{\\partial S}{\\partial \\beta_1} = -2\\sum^n_{i=1} c x_i (y_i - \\hat{\\beta}_0 - \\hat{\\beta}_1 c x_i) = \\sum^n_{i=1} c x_i (y_i - \\hat{y}) = \\sum^n_{i=1} c x_i e_i = 0$\n",
        "\n",
        "$= \\sum^n_{i=1} c x_i (y_i - \\hat{\\beta}_0 - \\hat{\\beta}_1 c x_i ) =\\sum^n_{i=1} c x_i (y_i - \\bar{y} + \\hat{\\beta}_1 c\\bar{x} - \\hat{\\beta}_1 c x_i) = \\sum^n_{i=1} c x_i(y_i - \\bar{y}) - \\hat{\\beta}_1 \\sum^n_{i=1} c x_i (c x_i - c\\bar{x})$\n",
        "\n",
        "$\\star \\sum^n_{i=1} c x_i(y_i - \\bar{y}) = \\sum^n_{i=1}(c x_i - c\\bar{x} + c\\bar{x})(y_i - \\bar{y}) = c\\sum^n_{i=1}(x_i - \\bar{x})(y_i - \\bar{y}) + \\sum^n_{i=1} c \\bar{x}(y_i - \\bar{y}) = c S_{xy}$\n",
        "\n",
        "$\\star \\hat{\\beta}_1 \\sum^n_{i=1} c x_i (c x_i - c\\bar{x}) = \\hat{\\beta}_1 \\sum^n_{i=1} (c x_i - c \\bar{x} + c \\bar{x}) (c x_i - c \\bar{x}) = \\hat{\\beta}_1 \\{ \\sum^n_{i=1} (c x_i - c \\bar{x})(c x_i - c \\bar{x}) + \\sum^n_{i=1} c^2 \\bar{x}( x_i - \\bar{x}) \\} = c^2 \\hat{\\beta}_1 S_{xx}$\n",
        "\n",
        "$c S_{xy} - \\hat{\\beta}_1 c^2 S_{xx} = 0$\n",
        "\n",
        "$\\hat{\\beta}_1 = \\frac{S_{xy}}{c S_{xx}}$\n",
        "\n",
        "$\\hat{\\beta}_1$ 은 $\\frac{1}{c}$배가 되었다.\n",
        "\n",
        "$\\frac{\\partial S}{\\partial \\beta_0} = -2\\sum^n_{i=1} (y_i - \\hat{\\beta}_0 - \\hat{\\beta}_1 c x_i) = \\sum^n_{i=1} (y_i - \\hat{y}_i) = \\sum^n_{i=1}e_i = 0$\n",
        "\n",
        "$n \\hat{\\beta}_0 = \\sum^n_{i=1}y_i - \\frac{1}{c} \\hat{\\beta}_1 c \\sum^n_{i=1} x_i$\n",
        "\n",
        "$\\hat{\\beta}_0 = \\frac{1}{n} \\sum^n_{i=1} y_i - \\frac{1}{c}\\hat{\\beta}_1 c \\frac{1}{n}\\sum^n_{i=1} x_i = \\bar{y} - \\hat{\\beta}_1 \\bar{x}$\n",
        "\n",
        "$\\hat{\\beta}_0$은 $x_i$가 $cx_i$로 대체되었을때 영향을 받지 않았다.\n",
        "\n",
        "$S_{yx} = c \\sum^n_{i=1}(x_i - \\bar{x})(y_i - \\bar{y})$\n",
        "\n",
        "$S^2_{yx} = c^2 \\sum^n_{i=1}(x_i - \\bar{x})^2(y_i - \\bar{y})^2$\n",
        "\n",
        "$\\star S_{xx} = c^2 \\sum^n_{i=1} (x_i - \\bar{x})(x_i - \\bar{x})$\n",
        "\n",
        "$\\star S_{yy} = \\sum^n_{i=1} (y_i - \\bar{y})(y_i - \\bar{y})$\n",
        "\n",
        "$R^2 = r_{xy}^2 = \\frac{S_{xy}^2}{S_{xx}S_{yy}} = \\frac{c^2 \\sum^n_{i=1}(x_i - \\bar{x})^2(y_i - \\bar{y})^2}{(c^2 \\sum^n_{i=1} (x_i - \\bar{x})(x_i - \\bar{x}))(\\sum^n_{i=1} (y_i - \\bar{y})(y_i - \\bar{y}))} = \\frac{ \\sum^n_{i=1}(x_i - \\bar{x})^2(y_i - \\bar{y})^2}{( \\sum^n_{i=1} (x_i - \\bar{x})(x_i - \\bar{x}))(\\sum^n_{i=1} (y_i - \\bar{y})(y_i - \\bar{y}))}$\n",
        "\n",
        "$R^2$은 영향을 받지 않았다.\n",
        "\n",
        "회귀직선의 유의성 검정\n",
        "$H_0 : \\beta_1 = 0 \\text{ vs. } H_1: \\beta_1 \\neq 0$\n",
        "\n",
        "검정통계량\n",
        "$F = \\frac{MSR}{MSE} = \\frac{SSR/1}{SSE/(n-2)} \\sim_{H_0} F(1,n-2)$\n",
        "\n",
        "검정통계량 계산에도 영향을 주지 않았기 때문에 $\\text{t test}$ 결과는\n",
        "$x_i$에 $c$배를 한 후에도 같은 결과가 나온다.\n",
        "\n",
        "------------------------------------------------------------------------\n",
        "\n",
        "# 4.\n",
        "\n",
        "생선을 잡아서 얼음창고에 일주일 동안 보관한 후에 생선의 신선도가 어느\n",
        "정도 변하는가를 실험하였다. 신선도를 $y$로 놓고 10점 만점으로 하여 0점이\n",
        "신선도가 전혀 없는 것이고 10점이 가장 좋은 경우이다. 설명변수 $x$는\n",
        "생선을 잡은 지 $x$시간이 경과한 후에 얼음창고에 넣는 것을 가리킨다.\n",
        "실험으로 10개의 데이터를 얻었다.\n",
        "\n",
        "| $y$(신선도)   | 8.5 | 8.4 | 7.9 | 8.1 | 7.8 | 7.6 | 7.3 | 7.0 | 6.8 | 6.7 |\n",
        "|---------------|-----|-----|-----|-----|-----|-----|-----|-----|-----|-----|\n",
        "| $x$(경과시간) | 0   | 0   | 3   | 3   | 6   | 6   | 9   | 9   | 12  | 12  |\n",
        "\n",
        "## (1)\n",
        "\n",
        "선형회귀모형 ($y = \\beta_0 + \\beta_1 x + \\epsilon$)이 타당한가를\n",
        "유의수준 $\\alpha = 0.05$를 사용하여 적합결여검정을 행하라.\n",
        "\n",
        "**Answer**\n",
        "\n",
        "$H_0 : E(Y|X = x) = \\beta_0 + \\beta_1 x$\n",
        "\n",
        "$H_1 : E(Y|X=x) \\neq \\beta_0 + \\beta_1 x$"
      ],
      "id": "286bd538-7f67-4b40-9d8e-e8acf7ea243e"
    },
    {
      "cell_type": "code",
      "execution_count": 1,
      "metadata": {},
      "outputs": [
        {
          "output_type": "display_data",
          "metadata": {},
          "data": {
            "text/html": [
              "<table class=\"dataframe\">\n",
              "<caption>A data.frame: 10 × 2</caption>\n",
              "<thead>\n",
              "    <tr><th scope=col>x</th><th scope=col>y</th></tr>\n",
              "    <tr><th scope=col>&lt;dbl&gt;</th><th scope=col>&lt;dbl&gt;</th></tr>\n",
              "</thead>\n",
              "<tbody>\n",
              "    <tr><td> 0</td><td>8.5</td></tr>\n",
              "    <tr><td> 0</td><td>8.4</td></tr>\n",
              "    <tr><td> 3</td><td>7.9</td></tr>\n",
              "    <tr><td> 3</td><td>8.1</td></tr>\n",
              "    <tr><td> 6</td><td>7.8</td></tr>\n",
              "    <tr><td> 6</td><td>7.6</td></tr>\n",
              "    <tr><td> 9</td><td>7.3</td></tr>\n",
              "    <tr><td> 9</td><td>7.0</td></tr>\n",
              "    <tr><td>12</td><td>6.8</td></tr>\n",
              "    <tr><td>12</td><td>6.7</td></tr>\n",
              "</tbody>\n",
              "</table>"
            ]
          }
        }
      ],
      "source": [
        "df_4 = data.frame(x = c(0,0,3,3,6,6,9,9,12,12),\n",
        "                  y = c(8.5,8.4,7.9,8.1,7.8,7.6,7.3,7.0,6.8,6.7))\n",
        "df_4"
      ],
      "id": "688880e4-02ce-4c6b-b7a6-d694ee84d6bb"
    },
    {
      "cell_type": "markdown",
      "metadata": {},
      "source": [
        "산점도"
      ],
      "id": "ded94bf1-8885-4445-b9b4-c7dd3c594230"
    },
    {
      "cell_type": "code",
      "execution_count": 2,
      "metadata": {},
      "outputs": [
        {
          "output_type": "display_data",
          "metadata": {},
          "data": {
            "image/png": "[encoded data removed]"
          }
        }
      ],
      "source": [
        "plot(df_4$x,df_4$y,xlab='x(경과시간)',ylab='y(신선도)')"
      ],
      "id": "a00f6555-f047-428f-affb-1cb21fda5186"
    },
    {
      "cell_type": "markdown",
      "metadata": {},
      "source": [
        "우하향하는 모습이다."
      ],
      "id": "80192143-46a4-404b-86dd-6ce85bcd7a2d"
    },
    {
      "cell_type": "code",
      "execution_count": 3,
      "metadata": {},
      "outputs": [],
      "source": [
        "df_4$x_barx = df_4$x - mean(df_4$x)\n",
        "df_4$y_bary = df_4$y - mean(df_4$y) "
      ],
      "id": "119b7314-98b7-4a48-b24a-0387b6e6c5f1"
    },
    {
      "cell_type": "markdown",
      "metadata": {},
      "source": [
        "-   $S_{xx}, S_{yy},S_{xy}$를 구해주기 위해\n",
        "    $x_i - \\bar{x}, y_i - \\bar{y}$를 구했다."
      ],
      "id": "7e40c078-e172-476f-a8e0-baab92968e19"
    },
    {
      "cell_type": "code",
      "execution_count": 4,
      "metadata": {},
      "outputs": [],
      "source": [
        "df_4$x_barx2 <- df_4$x_barx^2\n",
        "df_4$y_bary2 <- df_4$y_bary^2\n",
        "df_4$xy <-df_4$x_barx * df_4$y_bary"
      ],
      "id": "39089704-41d0-4a32-9d55-f31254a477c8"
    },
    {
      "cell_type": "markdown",
      "metadata": {},
      "source": [
        "-   $S_{xx}, S_{yy},S_{xy}$를 구해주었다."
      ],
      "id": "9ed65040-9c2b-486c-ad78-cb4cdc43cbbb"
    },
    {
      "cell_type": "code",
      "execution_count": 5,
      "metadata": {},
      "outputs": [
        {
          "output_type": "display_data",
          "metadata": {},
          "data": {
            "text/html": [
              "<table class=\"dataframe\">\n",
              "<caption>A data.frame: 10 × 7</caption>\n",
              "<thead>\n",
              "    <tr><th scope=col>x</th><th scope=col>y</th><th scope=col>x_barx</th><th scope=col>y_bary</th><th scope=col>x_barx2</th><th scope=col>y_bary2</th><th scope=col>xy</th></tr>\n",
              "    <tr><th scope=col>&lt;dbl&gt;</th><th scope=col>&lt;dbl&gt;</th><th scope=col>&lt;dbl&gt;</th><th scope=col>&lt;dbl&gt;</th><th scope=col>&lt;dbl&gt;</th><th scope=col>&lt;dbl&gt;</th><th scope=col>&lt;dbl&gt;</th></tr>\n",
              "</thead>\n",
              "<tbody>\n",
              "    <tr><td> 0</td><td>8.5</td><td>-6</td><td> 0.89</td><td>36</td><td>0.7921</td><td>-5.34</td></tr>\n",
              "    <tr><td> 0</td><td>8.4</td><td>-6</td><td> 0.79</td><td>36</td><td>0.6241</td><td>-4.74</td></tr>\n",
              "    <tr><td> 3</td><td>7.9</td><td>-3</td><td> 0.29</td><td> 9</td><td>0.0841</td><td>-0.87</td></tr>\n",
              "    <tr><td> 3</td><td>8.1</td><td>-3</td><td> 0.49</td><td> 9</td><td>0.2401</td><td>-1.47</td></tr>\n",
              "    <tr><td> 6</td><td>7.8</td><td> 0</td><td> 0.19</td><td> 0</td><td>0.0361</td><td> 0.00</td></tr>\n",
              "    <tr><td> 6</td><td>7.6</td><td> 0</td><td>-0.01</td><td> 0</td><td>0.0001</td><td> 0.00</td></tr>\n",
              "    <tr><td> 9</td><td>7.3</td><td> 3</td><td>-0.31</td><td> 9</td><td>0.0961</td><td>-0.93</td></tr>\n",
              "    <tr><td> 9</td><td>7.0</td><td> 3</td><td>-0.61</td><td> 9</td><td>0.3721</td><td>-1.83</td></tr>\n",
              "    <tr><td>12</td><td>6.8</td><td> 6</td><td>-0.81</td><td>36</td><td>0.6561</td><td>-4.86</td></tr>\n",
              "    <tr><td>12</td><td>6.7</td><td> 6</td><td>-0.91</td><td>36</td><td>0.8281</td><td>-5.46</td></tr>\n",
              "</tbody>\n",
              "</table>"
            ]
          }
        }
      ],
      "source": [
        "df_4"
      ],
      "id": "c67f5fc9-3044-4eb5-9775-35960af63217"
    },
    {
      "cell_type": "code",
      "execution_count": 6,
      "metadata": {},
      "outputs": [
        {
          "output_type": "display_data",
          "metadata": {},
          "data": {
            "text/html": [
              "<style>\n",
              ".dl-inline {width: auto; margin:0; padding: 0}\n",
              ".dl-inline>dt, .dl-inline>dd {float: none; width: auto; display: inline-block}\n",
              ".dl-inline>dt::after {content: \":\\0020\"; padding-right: .5ex}\n",
              ".dl-inline>dt:not(:first-of-type) {padding-left: .5ex}\n",
              "</style><dl class=dl-inline><dt>x</dt><dd>60</dd><dt>y</dt><dd>76.1</dd><dt>x_barx</dt><dd>0</dd><dt>y_bary</dt><dd>0</dd><dt>x_barx2</dt><dd>180</dd><dt>y_bary2</dt><dd>3.729</dd><dt>xy</dt><dd>-25.5</dd></dl>"
            ]
          }
        }
      ],
      "source": [
        "round(colSums(df_4),3)"
      ],
      "id": "67a239ad-5680-4e84-b468-050698f08987"
    },
    {
      "cell_type": "markdown",
      "metadata": {},
      "source": [
        "$\\hat{\\beta_1} = \\frac{S_{xy}}{S_{xx}}$\n",
        "\n",
        "$\\hat{\\beta_0} = \\bar{y} - \\hat{\\beta_1}\\bar{x}$"
      ],
      "id": "992608e2-6067-4607-9de7-259e37491dc9"
    },
    {
      "cell_type": "code",
      "execution_count": 7,
      "metadata": {},
      "outputs": [],
      "source": [
        "beta1_4 <- as.numeric(colSums(df_4)[7]/colSums(df_4)[5])\n",
        "beta0_4 <- mean(df_4$y) - beta1_4 *  mean(df_4$x)"
      ],
      "id": "c1f3c362-61f0-47af-96e2-851001f4b522"
    },
    {
      "cell_type": "code",
      "execution_count": 8,
      "metadata": {},
      "outputs": [
        {
          "output_type": "stream",
          "name": "stdout",
          "text": [
            "hat beta0 =  8.46\n",
            "hat beta1 =  -0.1416667"
          ]
        }
      ],
      "source": [
        "cat(\"hat beta0 = \", beta0_4)\n",
        "cat(\"\\nhat beta1 = \", beta1_4)"
      ],
      "id": "4bae6c06-4e8c-4e2e-8ac6-6a03b302489f"
    },
    {
      "cell_type": "markdown",
      "metadata": {},
      "source": [
        "$\\hat{y} = 8.46 - 0.1417x$"
      ],
      "id": "6cd323b8-862e-47cb-bc4a-dfcb0ce13ff0"
    },
    {
      "cell_type": "code",
      "execution_count": 9,
      "metadata": {},
      "outputs": [],
      "source": [
        "SST_4 = sum((df_4$y - mean(df_4$y))^2)"
      ],
      "id": "ce508b31-532b-4394-aa39-544d42d526b6"
    },
    {
      "cell_type": "code",
      "execution_count": 10,
      "metadata": {},
      "outputs": [],
      "source": [
        "SSR_4 = sum( ( ( beta0_4 + beta1_4 *df_4$x)-mean(df_4$y) )^2 )\n",
        "MSR_4 = SSR_4/1"
      ],
      "id": "af6a035a-a317-45c3-96be-66381a911992"
    },
    {
      "cell_type": "code",
      "execution_count": 11,
      "metadata": {},
      "outputs": [],
      "source": [
        "SSE_4 = sum( ( df_4$y-( beta0_4 + beta1_4 *df_4$x))^2 )\n",
        "MSE_4 = SSE_4/8"
      ],
      "id": "da2b18a3-542b-4acc-865a-7a7f8f5dd42d"
    },
    {
      "cell_type": "code",
      "execution_count": 12,
      "metadata": {},
      "outputs": [
        {
          "output_type": "stream",
          "name": "stdout",
          "text": [
            "SST =  3.729 , df = 9\n",
            "SSR =  3.6125 , df = 1\n",
            "SSE =  0.1165 , df = 8"
          ]
        }
      ],
      "source": [
        "cat(\"SST = \", SST_4,\", df = 9\")\n",
        "cat(\"\\nSSR = \", SSR_4,\", df = 1\")\n",
        "cat(\"\\nSSE = \", SSE_4, \", df = 8\")"
      ],
      "id": "13542da8-d0c5-404c-a725-c4425a9a6b66"
    },
    {
      "cell_type": "code",
      "execution_count": 13,
      "metadata": {},
      "outputs": [
        {
          "output_type": "display_data",
          "metadata": {},
          "data": {
            "text/html": [
              "248.068669527898"
            ]
          }
        }
      ],
      "source": [
        "F_4 = MSR_4 / MSE_4\n",
        "F_4"
      ],
      "id": "d160daac-125c-4429-bdb6-e54ed540a8f6"
    },
    {
      "cell_type": "code",
      "execution_count": 14,
      "metadata": {},
      "outputs": [
        {
          "output_type": "display_data",
          "metadata": {},
          "data": {
            "text/html": [
              "5.31765507157871"
            ]
          }
        }
      ],
      "source": [
        "qf(0.95,1,8)"
      ],
      "id": "158e7498-d899-449d-a16f-6b265701336f"
    },
    {
      "cell_type": "markdown",
      "metadata": {},
      "source": [
        "$H_0 : \\beta_1 = 0$\n",
        "\n",
        "$H_1 : \\beta_1 \\neq 0$\n",
        "\n",
        "F값이 유의수준 0.05에서 기준 F보다 크기 때문에 $H_0$ 기각하고, $\\beta_1$\n",
        "은 유의미하다."
      ],
      "id": "0cb8da59-1763-49bf-93df-a443f9a5ea54"
    },
    {
      "cell_type": "code",
      "execution_count": 15,
      "metadata": {},
      "outputs": [],
      "source": [
        "df_4_ex <- cbind(df_4[c(1,3,5,7,9),c(1,2)],df_4[c(2,4,6,8,10),c(2)])"
      ],
      "id": "31a37be6-2ae9-4067-a035-932251009602"
    },
    {
      "cell_type": "code",
      "execution_count": 16,
      "metadata": {},
      "outputs": [],
      "source": [
        "colnames(df_4_ex) <- c('x','y1','y2')"
      ],
      "id": "31e36ee0-61c9-4b10-bf80-ea9949028c96"
    },
    {
      "cell_type": "code",
      "execution_count": 17,
      "metadata": {
        "tags": []
      },
      "outputs": [
        {
          "output_type": "display_data",
          "metadata": {},
          "data": {
            "text/html": [
              "<table class=\"dataframe\">\n",
              "<caption>A data.frame: 5 × 7</caption>\n",
              "<thead>\n",
              "    <tr><th></th><th scope=col>x</th><th scope=col>y1</th><th scope=col>y2</th><th scope=col>ymean</th><th scope=col>y1_ymean2</th><th scope=col>y2_ymean2</th><th scope=col>yhat</th></tr>\n",
              "    <tr><th></th><th scope=col>&lt;dbl&gt;</th><th scope=col>&lt;dbl&gt;</th><th scope=col>&lt;dbl&gt;</th><th scope=col>&lt;dbl&gt;</th><th scope=col>&lt;dbl&gt;</th><th scope=col>&lt;dbl&gt;</th><th scope=col>&lt;dbl&gt;</th></tr>\n",
              "</thead>\n",
              "<tbody>\n",
              "    <tr><th scope=row>1</th><td> 0</td><td>8.5</td><td>8.4</td><td>8.45</td><td>0.0025</td><td>0.0025</td><td>8.460000</td></tr>\n",
              "    <tr><th scope=row>3</th><td> 3</td><td>7.9</td><td>8.1</td><td>8.00</td><td>0.0100</td><td>0.0100</td><td>8.019999</td></tr>\n",
              "    <tr><th scope=row>5</th><td> 6</td><td>7.8</td><td>7.6</td><td>7.70</td><td>0.0100</td><td>0.0100</td><td>7.579998</td></tr>\n",
              "    <tr><th scope=row>7</th><td> 9</td><td>7.3</td><td>7.0</td><td>7.15</td><td>0.0225</td><td>0.0225</td><td>7.139997</td></tr>\n",
              "    <tr><th scope=row>9</th><td>12</td><td>6.8</td><td>6.7</td><td>6.75</td><td>0.0025</td><td>0.0025</td><td>6.699996</td></tr>\n",
              "</tbody>\n",
              "</table>"
            ]
          }
        }
      ],
      "source": [
        "df_4_ex$ymean <- (df_4_ex$y1+df_4_ex$y2)/2\n",
        "df_4_ex$y1_ymean2 <- (df_4_ex$y1 - df_4_ex$ymean)^2\n",
        "df_4_ex$y2_ymean2 <- (df_4_ex$y2 - df_4_ex$ymean)^2\n",
        "df_4_ex$yhat <- 8.46 - 0.146667 * df_4_ex$x\n",
        "df_4_ex"
      ],
      "id": "494825a6-c88b-4820-949e-7cde70535cee"
    },
    {
      "cell_type": "markdown",
      "metadata": {},
      "source": [
        "$\\hat{y} = 8.46 - 01417x$"
      ],
      "id": "0ce134f3-816d-4795-8850-c9df0d6eee1b"
    },
    {
      "cell_type": "code",
      "execution_count": 18,
      "metadata": {},
      "outputs": [
        {
          "output_type": "display_data",
          "metadata": {},
          "data": {
            "text/html": [
              "0.0949999999999998"
            ]
          }
        }
      ],
      "source": [
        "SSPE_4 = sum(df_4_ex$y1_ymean2) + sum(df_4_ex$y2_ymean2)\n",
        "SSPE_4"
      ],
      "id": "663fa9e4-45f8-41ef-a15d-53eb507960d5"
    },
    {
      "cell_type": "code",
      "execution_count": 19,
      "metadata": {},
      "outputs": [
        {
          "output_type": "display_data",
          "metadata": {},
          "data": {
            "text/html": [
              "0.0214999999999996"
            ]
          }
        }
      ],
      "source": [
        "SSLF_4 = SSE_4 - SSPE_4\n",
        "SSLF_4"
      ],
      "id": "52d9a7b1-08e6-445d-8d14-f9aa37a429fd"
    },
    {
      "cell_type": "code",
      "execution_count": 20,
      "metadata": {},
      "outputs": [
        {
          "output_type": "display_data",
          "metadata": {},
          "data": {
            "text/html": [
              "0.377192982456135"
            ]
          }
        }
      ],
      "source": [
        "F_4_0 = SSLF_4/3 / (SSPE_4 / 5)\n",
        "F_4_0"
      ],
      "id": "e601b214-f7aa-4714-bd91-70ac82feba7b"
    },
    {
      "cell_type": "code",
      "execution_count": 21,
      "metadata": {},
      "outputs": [
        {
          "output_type": "stream",
          "name": "stdout",
          "text": [
            "유의수준 5%에서  5.409451 보다  0.377193 값이 작기 때문에 귀무가설을 기각하지 못한다. 따라서 선형회귀모형은 타당하다."
          ]
        }
      ],
      "source": [
        "cat(\"유의수준 5%에서 \",qf(0.95,3,5), \"보다 \",F_4_0,\"값이 작기 때문에 귀무가설을 기각하지 못한다. 따라서 선형회귀모형은 타당하다.\")"
      ],
      "id": "53b262ad-f333-4b76-95f7-047cd6b80bf9"
    },
    {
      "cell_type": "markdown",
      "metadata": {},
      "source": [
        "$H_0 : E(Y|X = x) = \\beta_0 + \\beta_1 x$ 기각못함\n",
        "\n",
        "## (2)\n",
        "\n",
        "선형회귀모형이 타당한 경우, 신선도의 점수가 시간당 얼마만큼이나\n",
        "떨어지는가를 95% 신뢰계수를 가지고 구간추정하라(즉, $\\beta_1$의\n",
        "구간추정).\n",
        "\n",
        "**Answer**\n",
        "\n",
        "$\\hat{\\beta}_1$의 $100(1-\\alpha)$%의 신뢰구간\n",
        "\n",
        "$\\hat{\\beta}_1 \\pm t_{\\alpha/2}(n-2)\\frac{\\sqrt{MSE}}{\\sqrt{S_{xx}}}$"
      ],
      "id": "3bf2f05e-8b9f-44f6-8203-bba9f77f2992"
    },
    {
      "cell_type": "code",
      "execution_count": 22,
      "metadata": {},
      "outputs": [
        {
          "output_type": "display_data",
          "metadata": {},
          "data": {
            "text/html": [
              "2.30600413520417"
            ]
          }
        }
      ],
      "source": [
        "qt(0.975,8)"
      ],
      "id": "6108f32e-02f2-499e-8060-35d582a3377b"
    },
    {
      "cell_type": "code",
      "execution_count": 23,
      "metadata": {},
      "outputs": [
        {
          "output_type": "stream",
          "name": "stdout",
          "text": [
            "beta1 is  -0.1416667\n",
            "MSE is  0.0145625\n",
            "Sxx is  180"
          ]
        }
      ],
      "source": [
        "cat(\"beta1 is \",beta1_4)\n",
        "cat(\"\\nMSE is \",MSE_4)\n",
        "cat(\"\\nSxx is \",sum(df_4$x_barx2))"
      ],
      "id": "01456a0a-1057-41b5-b187-c68ed63d4689"
    },
    {
      "cell_type": "code",
      "execution_count": 24,
      "metadata": {},
      "outputs": [
        {
          "output_type": "stream",
          "name": "stdout",
          "text": [
            "95% 신뢰계수는 ( -0.1624082 - -0.1209251 ) 이다."
          ]
        }
      ],
      "source": [
        "cat(\"95% 신뢰계수는 (\",beta1_4-qt(0.975,8)*sqrt(MSE_4/sum(df_4$x_barx2)),\"-\",beta1_4+qt(0.975,8)*sqrt(MSE_4/sum(df_4$x_barx2)),\") 이다.\")"
      ],
      "id": "a4c6f228-8ae0-4cf3-a29a-bd65b0d89789"
    },
    {
      "cell_type": "markdown",
      "metadata": {},
      "source": [
        "신뢰계수가 0을 포함하지 않는다. 신뢰구간에서 $\\beta_1$이 유의미함을 알\n",
        "수 있다.\n",
        "\n",
        "------------------------------------------------------------------------\n",
        "\n",
        "1.  두 타이어회사 A, B에서 생산되는 타이어를 비교하기 위하여\n",
        "    고속도로에서 트럭이 달리는 상황을 모의실험(simulated experiment)하여\n",
        "    다음의 데이터를 얻었다. $x$는 트럭이 달리는 속도이고 $y$는 타이어가\n",
        "    마모되기까지의 총 주행거리이다.\n",
        "\n",
        "| $x_{1j}$    | 10   | 20   | 30   | 40   | 50   | 60   | 70   |\n",
        "|-------------|------|------|------|------|------|------|------|\n",
        "| $y_{1j}(A)$ | 9.8  | 12.5 | 14.9 | 16.5 | 22.4 | 24.1 | 25.8 |\n",
        "| $y_{2j}(B)$ | 15.0 | 14.5 | 16.5 | 19.1 | 22.3 | 20.8 | 22.4 |\n",
        "\n",
        "1.  산점도를 그리시오.\n",
        "\n",
        "**Answer**"
      ],
      "id": "31b04038-59c4-4f37-89a1-691b059dd85a"
    },
    {
      "cell_type": "code",
      "execution_count": 25,
      "metadata": {},
      "outputs": [
        {
          "output_type": "display_data",
          "metadata": {},
          "data": {
            "text/html": [
              "<table class=\"dataframe\">\n",
              "<caption>A data.frame: 7 × 3</caption>\n",
              "<thead>\n",
              "    <tr><th scope=col>x</th><th scope=col>yA</th><th scope=col>yB</th></tr>\n",
              "    <tr><th scope=col>&lt;dbl&gt;</th><th scope=col>&lt;dbl&gt;</th><th scope=col>&lt;dbl&gt;</th></tr>\n",
              "</thead>\n",
              "<tbody>\n",
              "    <tr><td>10</td><td> 9.8</td><td>15.0</td></tr>\n",
              "    <tr><td>20</td><td>12.5</td><td>14.5</td></tr>\n",
              "    <tr><td>30</td><td>14.9</td><td>16.5</td></tr>\n",
              "    <tr><td>40</td><td>16.5</td><td>19.1</td></tr>\n",
              "    <tr><td>50</td><td>22.4</td><td>22.3</td></tr>\n",
              "    <tr><td>60</td><td>24.1</td><td>20.8</td></tr>\n",
              "    <tr><td>70</td><td>25.8</td><td>22.4</td></tr>\n",
              "</tbody>\n",
              "</table>"
            ]
          }
        }
      ],
      "source": [
        "df_5 = data.frame(x = c(10,20,30,40,50,60,70),\n",
        "                  yA = c(9.8,12.5,14.9,16.5,22.4,24.1,25.8),\n",
        "                  yB = c(15.0,14.5,16.5,19.1,22.3,20.8,22.4))\n",
        "df_5"
      ],
      "id": "4e6ed812-81f5-4833-8b63-0be2c9b968f2"
    },
    {
      "cell_type": "code",
      "execution_count": 26,
      "metadata": {},
      "outputs": [
        {
          "output_type": "display_data",
          "metadata": {},
          "data": {
            "image/png": "[encoded data removed]"
          }
        }
      ],
      "source": [
        "plot(df_5$yA~df_5$x,\n",
        "     xlab = \"x\",\n",
        "     ylab = \"yA(orange),yB(blue)\",\n",
        "     pch  = 16,\n",
        "     cex  = 1,\n",
        "     col  = \"darkorange\")\n",
        "par(new=TRUE)\n",
        "plot(df_5$yB~df_5$x,\n",
        "     xlab='',\n",
        "     ylab='',\n",
        "     pch  = 16,\n",
        "     cex  = 1,\n",
        "     col  = \"blue\")"
      ],
      "id": "1b8d3562-f347-4860-b36d-e15573b69283"
    },
    {
      "cell_type": "markdown",
      "metadata": {},
      "source": [
        "1.  각 회사별로 속도와 총주행거리 간의 회귀모형을 구한다면, 두 개의\n",
        "    직선이 동일하다고 볼수 있는가? 유의수준 $\\alpha = 0.05$로\n",
        "    가설검정하시오.\n",
        "\n",
        "**Answer**\n",
        "\n",
        "$H_0: \\beta_{01} = \\beta_{02} \\text{ and } \\beta_{11} = \\beta_{12}$\n",
        "\n",
        "$H_1: \\beta_{01} \\ne \\beta_{02} \\text{ or } \\beta_{11} \\ne \\beta_{12}$"
      ],
      "id": "9a483ddf-2b35-4653-999d-a0c97c358784"
    },
    {
      "cell_type": "code",
      "execution_count": 27,
      "metadata": {},
      "outputs": [],
      "source": [
        "df_5_A <- df_5"
      ],
      "id": "07b67e31-23b3-48d8-a7d8-0d7ab3775dc5"
    },
    {
      "cell_type": "code",
      "execution_count": 28,
      "metadata": {},
      "outputs": [],
      "source": [
        "df_5_A$x_barx = df_5_A$x - mean(df_5_A$x)\n",
        "df_5_A$yA_baryA = df_5_A$yA - mean(df_5_A$yA) "
      ],
      "id": "5d9b5b20-ee32-4aec-a800-b21418438852"
    },
    {
      "cell_type": "markdown",
      "metadata": {},
      "source": [
        "-   $S_{xx}, S_{yy},S_{xy}$를 구해주기 위해\n",
        "    $x_i - \\bar{x}, y_i - \\bar{y}$를 구했다."
      ],
      "id": "f94e7b76-3531-46b3-9fee-a21ff2a5051d"
    },
    {
      "cell_type": "code",
      "execution_count": 29,
      "metadata": {},
      "outputs": [],
      "source": [
        "df_5_A$x_barx2 <- df_5_A$x_barx^2\n",
        "df_5_A$yA_baryA2 <- df_5_A$yA_baryA^2\n",
        "df_5_A$xyA <-df_5_A$x_barx * df_5_A$yA_baryA"
      ],
      "id": "74698803-6c46-487f-8edc-4b4d2e98ca9b"
    },
    {
      "cell_type": "markdown",
      "metadata": {},
      "source": [
        "-   $S_{xx}, S_{yy},S_{xy}$를 구해주었다."
      ],
      "id": "cdb39d18-71aa-4cbd-8f0f-6ffbf5b3b864"
    },
    {
      "cell_type": "code",
      "execution_count": 30,
      "metadata": {},
      "outputs": [
        {
          "output_type": "display_data",
          "metadata": {},
          "data": {
            "text/html": [
              "<table class=\"dataframe\">\n",
              "<caption>A data.frame: 7 × 8</caption>\n",
              "<thead>\n",
              "    <tr><th scope=col>x</th><th scope=col>yA</th><th scope=col>yB</th><th scope=col>x_barx</th><th scope=col>yA_baryA</th><th scope=col>x_barx2</th><th scope=col>yA_baryA2</th><th scope=col>xyA</th></tr>\n",
              "    <tr><th scope=col>&lt;dbl&gt;</th><th scope=col>&lt;dbl&gt;</th><th scope=col>&lt;dbl&gt;</th><th scope=col>&lt;dbl&gt;</th><th scope=col>&lt;dbl&gt;</th><th scope=col>&lt;dbl&gt;</th><th scope=col>&lt;dbl&gt;</th><th scope=col>&lt;dbl&gt;</th></tr>\n",
              "</thead>\n",
              "<tbody>\n",
              "    <tr><td>10</td><td> 9.8</td><td>15.0</td><td>-30</td><td>-8.2</td><td>900</td><td>67.24</td><td>246</td></tr>\n",
              "    <tr><td>20</td><td>12.5</td><td>14.5</td><td>-20</td><td>-5.5</td><td>400</td><td>30.25</td><td>110</td></tr>\n",
              "    <tr><td>30</td><td>14.9</td><td>16.5</td><td>-10</td><td>-3.1</td><td>100</td><td> 9.61</td><td> 31</td></tr>\n",
              "    <tr><td>40</td><td>16.5</td><td>19.1</td><td>  0</td><td>-1.5</td><td>  0</td><td> 2.25</td><td>  0</td></tr>\n",
              "    <tr><td>50</td><td>22.4</td><td>22.3</td><td> 10</td><td> 4.4</td><td>100</td><td>19.36</td><td> 44</td></tr>\n",
              "    <tr><td>60</td><td>24.1</td><td>20.8</td><td> 20</td><td> 6.1</td><td>400</td><td>37.21</td><td>122</td></tr>\n",
              "    <tr><td>70</td><td>25.8</td><td>22.4</td><td> 30</td><td> 7.8</td><td>900</td><td>60.84</td><td>234</td></tr>\n",
              "</tbody>\n",
              "</table>"
            ]
          }
        }
      ],
      "source": [
        "df_5_A"
      ],
      "id": "3c1d7ec6-1fc6-40ad-a32c-e436839dca1a"
    },
    {
      "cell_type": "code",
      "execution_count": 31,
      "metadata": {},
      "outputs": [
        {
          "output_type": "display_data",
          "metadata": {},
          "data": {
            "text/html": [
              "<style>\n",
              ".dl-inline {width: auto; margin:0; padding: 0}\n",
              ".dl-inline>dt, .dl-inline>dd {float: none; width: auto; display: inline-block}\n",
              ".dl-inline>dt::after {content: \":\\0020\"; padding-right: .5ex}\n",
              ".dl-inline>dt:not(:first-of-type) {padding-left: .5ex}\n",
              "</style><dl class=dl-inline><dt>x</dt><dd>280</dd><dt>yA</dt><dd>126</dd><dt>yB</dt><dd>130.6</dd><dt>x_barx</dt><dd>0</dd><dt>yA_baryA</dt><dd>0</dd><dt>x_barx2</dt><dd>2800</dd><dt>yA_baryA2</dt><dd>226.76</dd><dt>xyA</dt><dd>787</dd></dl>"
            ]
          }
        }
      ],
      "source": [
        "round(colSums(df_5_A),3)"
      ],
      "id": "6f11f883-19be-4c4e-b89e-3c55926f1343"
    },
    {
      "cell_type": "markdown",
      "metadata": {},
      "source": [
        "$\\hat{\\beta_1} = \\frac{S_{xy}}{S_{xx}}$\n",
        "\n",
        "$\\hat{\\beta_0} = \\bar{y} - \\hat{\\beta_1}\\bar{x}$"
      ],
      "id": "ef7c2b4f-a95a-4670-ba5c-74279dc343ba"
    },
    {
      "cell_type": "code",
      "execution_count": 32,
      "metadata": {},
      "outputs": [],
      "source": [
        "beta1_xyA <- as.numeric(colSums(df_5_A)[8]/colSums(df_5_A)[6])\n",
        "beta0_xyA <- mean(df_5_A$yA) - beta1_xyA *  mean(df_5_A$x)"
      ],
      "id": "89896392-5521-413a-9033-968ac94185b0"
    },
    {
      "cell_type": "code",
      "execution_count": 33,
      "metadata": {},
      "outputs": [
        {
          "output_type": "stream",
          "name": "stdout",
          "text": [
            "xyA hat beta0 =  6.757143\n",
            "xyA hat beta1 =  0.2810714"
          ]
        }
      ],
      "source": [
        "cat(\"xyA hat beta0 = \", beta0_xyA)\n",
        "cat(\"\\nxyA hat beta1 = \", beta1_xyA)"
      ],
      "id": "e9854494-c0d2-448f-ab19-4e69296e7261"
    },
    {
      "cell_type": "markdown",
      "metadata": {},
      "source": [
        "$yA = 6.757143 + 0.2810714x$"
      ],
      "id": "f33c13d8-dae9-4efa-a533-d82d558e4228"
    },
    {
      "cell_type": "code",
      "execution_count": 34,
      "metadata": {},
      "outputs": [],
      "source": [
        "SST_A = sum((df_5_A$yA - mean(df_5_A$yA))^2)"
      ],
      "id": "932dd84a-8c3a-4cad-8b12-7ff9703c165c"
    },
    {
      "cell_type": "code",
      "execution_count": 35,
      "metadata": {},
      "outputs": [],
      "source": [
        "SSR_A = sum( ( ( 6.757143 + 0.2810714 *df_5_A$x)-mean(df_5_A$yA) )^2 )"
      ],
      "id": "698828ed-66e6-4e1a-9903-f74f603e7c9f"
    },
    {
      "cell_type": "code",
      "execution_count": 36,
      "metadata": {},
      "outputs": [],
      "source": [
        "SSE_A = sum( ( df_5_A$yA-( 6.757143 + 0.2810714 *df_5_A$x))^2 )"
      ],
      "id": "fc3a743b-63c6-468c-b77b-01693a8ed186"
    },
    {
      "cell_type": "code",
      "execution_count": 37,
      "metadata": {},
      "outputs": [
        {
          "output_type": "stream",
          "name": "stdout",
          "text": [
            "yA SST =  226.76 , df = 6\n",
            "yA SSR =  221.2032 , df = 1\n",
            "yA SSE =  5.556786 , df = 5"
          ]
        }
      ],
      "source": [
        "cat(\"yA SST = \", SST_A,\", df = 6\")\n",
        "cat(\"\\nyA SSR = \", SSR_A,\", df = 1\")\n",
        "cat(\"\\nyA SSE = \", SSE_A, \", df = 5\")"
      ],
      "id": "ec16731f-d222-44a9-94a0-8848db561120"
    },
    {
      "cell_type": "code",
      "execution_count": 38,
      "metadata": {},
      "outputs": [],
      "source": [
        "df_5_B <- df_5"
      ],
      "id": "ab0e06f7-2321-4ed1-8bd5-e7fc38bdf1e5"
    },
    {
      "cell_type": "code",
      "execution_count": 39,
      "metadata": {},
      "outputs": [],
      "source": [
        "df_5_B$x_barx = df_5_B$x - mean(df_5_B$x)\n",
        "df_5_B$yB_baryB = df_5_B$yB - mean(df_5_B$yB) "
      ],
      "id": "dbc64862-88c8-4eac-9110-ebe87a97b166"
    },
    {
      "cell_type": "markdown",
      "metadata": {},
      "source": [
        "-   $S_{xx}, S_{yy},S_{xy}$를 구해주기 위해\n",
        "    $x_i - \\bar{x}, y_i - \\bar{y}$를 구했다."
      ],
      "id": "d374f1be-ea2c-4ec3-9d08-fa47400c8319"
    },
    {
      "cell_type": "code",
      "execution_count": 40,
      "metadata": {},
      "outputs": [],
      "source": [
        "df_5_B$x_barx2 <- df_5_B$x_barx^2\n",
        "df_5_B$yB_baryB2 <- df_5_B$yB_baryB^2\n",
        "df_5_B$xyB <-df_5_B$x_barx * df_5_B$yB_baryB"
      ],
      "id": "72a02faa-1c9c-4f0a-8b40-b1d0a8369234"
    },
    {
      "cell_type": "markdown",
      "metadata": {},
      "source": [
        "-   $S_{xx}, S_{yy},S_{xy}$를 구해주었다."
      ],
      "id": "5dc5cbc7-4646-489e-a7a7-a0f042caa5f3"
    },
    {
      "cell_type": "code",
      "execution_count": 41,
      "metadata": {},
      "outputs": [
        {
          "output_type": "display_data",
          "metadata": {},
          "data": {
            "text/html": [
              "<table class=\"dataframe\">\n",
              "<caption>A data.frame: 7 × 8</caption>\n",
              "<thead>\n",
              "    <tr><th scope=col>x</th><th scope=col>yA</th><th scope=col>yB</th><th scope=col>x_barx</th><th scope=col>yB_baryB</th><th scope=col>x_barx2</th><th scope=col>yB_baryB2</th><th scope=col>xyB</th></tr>\n",
              "    <tr><th scope=col>&lt;dbl&gt;</th><th scope=col>&lt;dbl&gt;</th><th scope=col>&lt;dbl&gt;</th><th scope=col>&lt;dbl&gt;</th><th scope=col>&lt;dbl&gt;</th><th scope=col>&lt;dbl&gt;</th><th scope=col>&lt;dbl&gt;</th><th scope=col>&lt;dbl&gt;</th></tr>\n",
              "</thead>\n",
              "<tbody>\n",
              "    <tr><td>10</td><td> 9.8</td><td>15.0</td><td>-30</td><td>-3.6571429</td><td>900</td><td>13.3746939</td><td>109.71429</td></tr>\n",
              "    <tr><td>20</td><td>12.5</td><td>14.5</td><td>-20</td><td>-4.1571429</td><td>400</td><td>17.2818367</td><td> 83.14286</td></tr>\n",
              "    <tr><td>30</td><td>14.9</td><td>16.5</td><td>-10</td><td>-2.1571429</td><td>100</td><td> 4.6532653</td><td> 21.57143</td></tr>\n",
              "    <tr><td>40</td><td>16.5</td><td>19.1</td><td>  0</td><td> 0.4428571</td><td>  0</td><td> 0.1961224</td><td>  0.00000</td></tr>\n",
              "    <tr><td>50</td><td>22.4</td><td>22.3</td><td> 10</td><td> 3.6428571</td><td>100</td><td>13.2704082</td><td> 36.42857</td></tr>\n",
              "    <tr><td>60</td><td>24.1</td><td>20.8</td><td> 20</td><td> 2.1428571</td><td>400</td><td> 4.5918367</td><td> 42.85714</td></tr>\n",
              "    <tr><td>70</td><td>25.8</td><td>22.4</td><td> 30</td><td> 3.7428571</td><td>900</td><td>14.0089796</td><td>112.28571</td></tr>\n",
              "</tbody>\n",
              "</table>"
            ]
          }
        }
      ],
      "source": [
        "df_5_B"
      ],
      "id": "ec6b181a-39e1-4df7-a5df-8f2b45e8563f"
    },
    {
      "cell_type": "code",
      "execution_count": 42,
      "metadata": {},
      "outputs": [
        {
          "output_type": "display_data",
          "metadata": {},
          "data": {
            "text/html": [
              "<style>\n",
              ".dl-inline {width: auto; margin:0; padding: 0}\n",
              ".dl-inline>dt, .dl-inline>dd {float: none; width: auto; display: inline-block}\n",
              ".dl-inline>dt::after {content: \":\\0020\"; padding-right: .5ex}\n",
              ".dl-inline>dt:not(:first-of-type) {padding-left: .5ex}\n",
              "</style><dl class=dl-inline><dt>x</dt><dd>280</dd><dt>yA</dt><dd>126</dd><dt>yB</dt><dd>130.6</dd><dt>x_barx</dt><dd>0</dd><dt>yB_baryB</dt><dd>0</dd><dt>x_barx2</dt><dd>2800</dd><dt>yB_baryB2</dt><dd>67.377</dd><dt>xyB</dt><dd>406</dd></dl>"
            ]
          }
        }
      ],
      "source": [
        "round(colSums(df_5_B),3)"
      ],
      "id": "e0a32566-d789-40c3-aa58-4c2fd120b463"
    },
    {
      "cell_type": "markdown",
      "metadata": {},
      "source": [
        "$\\hat{\\beta_1} = \\frac{S_{xy}}{S_{xx}}$\n",
        "\n",
        "$\\hat{\\beta_0} = \\bar{y} - \\hat{\\beta_1}\\bar{x}$"
      ],
      "id": "21c54c64-8b80-40a3-b39f-20a95c5be5d3"
    },
    {
      "cell_type": "code",
      "execution_count": 43,
      "metadata": {},
      "outputs": [],
      "source": [
        "beta1_xyB <- as.numeric(colSums(df_5_B)[8]/colSums(df_5_B)[6])\n",
        "beta0_xyB <- mean(df_5_B$yB) - beta1_xyB *  mean(df_5_B$x)"
      ],
      "id": "9b8544ce-eb1b-4c8a-9c51-990b01dcd8e7"
    },
    {
      "cell_type": "code",
      "execution_count": 44,
      "metadata": {},
      "outputs": [
        {
          "output_type": "stream",
          "name": "stdout",
          "text": [
            "xyB hat beta0 =  12.85714\n",
            "xyB hat beta1 =  0.145"
          ]
        }
      ],
      "source": [
        "cat(\"xyB hat beta0 = \", beta0_xyB)\n",
        "cat(\"\\nxyB hat beta1 = \", beta1_xyB)"
      ],
      "id": "64943e73-a4ef-40a4-bd57-da7dcf6c82e7"
    },
    {
      "cell_type": "markdown",
      "metadata": {},
      "source": [
        "$yB = 12.85714 + 0.145x$"
      ],
      "id": "85d0c8f6-ed6f-4b8d-9409-5325808dafcb"
    },
    {
      "cell_type": "code",
      "execution_count": 45,
      "metadata": {},
      "outputs": [],
      "source": [
        "SST_B = sum((df_5_B$yB - mean(df_5_B$yB))^2)"
      ],
      "id": "54b32569-7317-424f-a565-e8b7c2d3e745"
    },
    {
      "cell_type": "code",
      "execution_count": 46,
      "metadata": {},
      "outputs": [],
      "source": [
        "SSR_B = sum( ( ( 12.85714 + 0.145*df_5_B$x)-mean(df_5_B$yB) )^2 )"
      ],
      "id": "c0def18f-069b-4eb5-bfca-cfbaa426cc8d"
    },
    {
      "cell_type": "code",
      "execution_count": 47,
      "metadata": {},
      "outputs": [],
      "source": [
        "SSE_B = sum( ( df_5_B$yB-( 12.85712 + 0.145 *df_5_B$x))^2 )"
      ],
      "id": "c6b2d543-111c-46cb-9ceb-d18727cd9bfb"
    },
    {
      "cell_type": "code",
      "execution_count": 48,
      "metadata": {},
      "outputs": [
        {
          "output_type": "stream",
          "name": "stdout",
          "text": [
            "yB SST =  67.37714 , df = 6\n",
            "yB SSR =  58.87 , df = 1\n",
            "yB SSE =  8.507143 , df = 5"
          ]
        }
      ],
      "source": [
        "cat(\"yB SST = \", SST_B,\", df = 6\")\n",
        "cat(\"\\nyB SSR = \", SSR_B,\", df = 1\")\n",
        "cat(\"\\nyB SSE = \", SSE_B, \", df = 5\")"
      ],
      "id": "79cbfd75-7b95-4d59-90e9-5bc04bd29309"
    },
    {
      "cell_type": "code",
      "execution_count": 49,
      "metadata": {},
      "outputs": [],
      "source": [
        "a <- df_5[,c(1,2)]"
      ],
      "id": "5818f72a-5fb8-4fa7-a69b-5b57480ca30a"
    },
    {
      "cell_type": "code",
      "execution_count": 50,
      "metadata": {},
      "outputs": [],
      "source": [
        "colnames(a) <- c('x','y')"
      ],
      "id": "5e184225-0ac4-4d26-b94e-252d5d2c7637"
    },
    {
      "cell_type": "code",
      "execution_count": 51,
      "metadata": {},
      "outputs": [],
      "source": [
        "b <- df_5[,c(1,3)]"
      ],
      "id": "cfd836ed-ecfe-4a64-b5fd-3506e5583901"
    },
    {
      "cell_type": "code",
      "execution_count": 52,
      "metadata": {},
      "outputs": [],
      "source": [
        "colnames(b) <- c('x','y')"
      ],
      "id": "724167b7-0e63-420a-b8e0-f2fdc1afc7e3"
    },
    {
      "cell_type": "code",
      "execution_count": 53,
      "metadata": {},
      "outputs": [
        {
          "output_type": "display_data",
          "metadata": {},
          "data": {
            "text/html": [
              "<table class=\"dataframe\">\n",
              "<caption>A data.frame: 14 × 2</caption>\n",
              "<thead>\n",
              "    <tr><th scope=col>x</th><th scope=col>y</th></tr>\n",
              "    <tr><th scope=col>&lt;dbl&gt;</th><th scope=col>&lt;dbl&gt;</th></tr>\n",
              "</thead>\n",
              "<tbody>\n",
              "    <tr><td>10</td><td> 9.8</td></tr>\n",
              "    <tr><td>20</td><td>12.5</td></tr>\n",
              "    <tr><td>30</td><td>14.9</td></tr>\n",
              "    <tr><td>40</td><td>16.5</td></tr>\n",
              "    <tr><td>50</td><td>22.4</td></tr>\n",
              "    <tr><td>60</td><td>24.1</td></tr>\n",
              "    <tr><td>70</td><td>25.8</td></tr>\n",
              "    <tr><td>10</td><td>15.0</td></tr>\n",
              "    <tr><td>20</td><td>14.5</td></tr>\n",
              "    <tr><td>30</td><td>16.5</td></tr>\n",
              "    <tr><td>40</td><td>19.1</td></tr>\n",
              "    <tr><td>50</td><td>22.3</td></tr>\n",
              "    <tr><td>60</td><td>20.8</td></tr>\n",
              "    <tr><td>70</td><td>22.4</td></tr>\n",
              "</tbody>\n",
              "</table>"
            ]
          }
        }
      ],
      "source": [
        "df_5_AB <- rbind(a,b)\n",
        "df_5_AB"
      ],
      "id": "e78ba037-f83c-40fa-98e1-c1b11cbf4fa8"
    },
    {
      "cell_type": "code",
      "execution_count": 54,
      "metadata": {},
      "outputs": [],
      "source": [
        "df_5_AB$x_barx = df_5_AB$x - mean(df_5_AB$x)\n",
        "df_5_AB$y_bary = df_5_AB$y - mean(df_5_AB$y) "
      ],
      "id": "ea54c2f6-6964-49ba-ba0c-2ffda530ffdd"
    },
    {
      "cell_type": "markdown",
      "metadata": {},
      "source": [
        "-   $S_{xx}, S_{yy},S_{xy}$를 구해주기 위해\n",
        "    $x_i - \\bar{x}, y_i - \\bar{y}$를 구했다."
      ],
      "id": "5b562331-c14e-4f35-97b1-e304642a1251"
    },
    {
      "cell_type": "code",
      "execution_count": 55,
      "metadata": {},
      "outputs": [],
      "source": [
        "df_5_AB$x_barx2 <- df_5_AB$x_barx^2\n",
        "df_5_AB$y_bary2 <- df_5_AB$y_bary^2\n",
        "df_5_AB$xy <-df_5_AB$x_barx * df_5_AB$y_bary"
      ],
      "id": "e368b851-fa08-40ef-8bc3-e148bd1c8e0a"
    },
    {
      "cell_type": "markdown",
      "metadata": {},
      "source": [
        "-   $S_{xx}, S_{yy},S_{xy}$를 구해주었다."
      ],
      "id": "c5825327-04e7-4272-814f-868217a07eb5"
    },
    {
      "cell_type": "code",
      "execution_count": 56,
      "metadata": {},
      "outputs": [
        {
          "output_type": "display_data",
          "metadata": {},
          "data": {
            "text/html": [
              "<table class=\"dataframe\">\n",
              "<caption>A data.frame: 14 × 7</caption>\n",
              "<thead>\n",
              "    <tr><th scope=col>x</th><th scope=col>y</th><th scope=col>x_barx</th><th scope=col>y_bary</th><th scope=col>x_barx2</th><th scope=col>y_bary2</th><th scope=col>xy</th></tr>\n",
              "    <tr><th scope=col>&lt;dbl&gt;</th><th scope=col>&lt;dbl&gt;</th><th scope=col>&lt;dbl&gt;</th><th scope=col>&lt;dbl&gt;</th><th scope=col>&lt;dbl&gt;</th><th scope=col>&lt;dbl&gt;</th><th scope=col>&lt;dbl&gt;</th></tr>\n",
              "</thead>\n",
              "<tbody>\n",
              "    <tr><td>10</td><td> 9.8</td><td>-30</td><td>-8.5285714</td><td>900</td><td>72.736531</td><td>255.85714</td></tr>\n",
              "    <tr><td>20</td><td>12.5</td><td>-20</td><td>-5.8285714</td><td>400</td><td>33.972245</td><td>116.57143</td></tr>\n",
              "    <tr><td>30</td><td>14.9</td><td>-10</td><td>-3.4285714</td><td>100</td><td>11.755102</td><td> 34.28571</td></tr>\n",
              "    <tr><td>40</td><td>16.5</td><td>  0</td><td>-1.8285714</td><td>  0</td><td> 3.343673</td><td>  0.00000</td></tr>\n",
              "    <tr><td>50</td><td>22.4</td><td> 10</td><td> 4.0714286</td><td>100</td><td>16.576531</td><td> 40.71429</td></tr>\n",
              "    <tr><td>60</td><td>24.1</td><td> 20</td><td> 5.7714286</td><td>400</td><td>33.309388</td><td>115.42857</td></tr>\n",
              "    <tr><td>70</td><td>25.8</td><td> 30</td><td> 7.4714286</td><td>900</td><td>55.822245</td><td>224.14286</td></tr>\n",
              "    <tr><td>10</td><td>15.0</td><td>-30</td><td>-3.3285714</td><td>900</td><td>11.079388</td><td> 99.85714</td></tr>\n",
              "    <tr><td>20</td><td>14.5</td><td>-20</td><td>-3.8285714</td><td>400</td><td>14.657959</td><td> 76.57143</td></tr>\n",
              "    <tr><td>30</td><td>16.5</td><td>-10</td><td>-1.8285714</td><td>100</td><td> 3.343673</td><td> 18.28571</td></tr>\n",
              "    <tr><td>40</td><td>19.1</td><td>  0</td><td> 0.7714286</td><td>  0</td><td> 0.595102</td><td>  0.00000</td></tr>\n",
              "    <tr><td>50</td><td>22.3</td><td> 10</td><td> 3.9714286</td><td>100</td><td>15.772245</td><td> 39.71429</td></tr>\n",
              "    <tr><td>60</td><td>20.8</td><td> 20</td><td> 2.4714286</td><td>400</td><td> 6.107959</td><td> 49.42857</td></tr>\n",
              "    <tr><td>70</td><td>22.4</td><td> 30</td><td> 4.0714286</td><td>900</td><td>16.576531</td><td>122.14286</td></tr>\n",
              "</tbody>\n",
              "</table>"
            ]
          }
        }
      ],
      "source": [
        "df_5_AB"
      ],
      "id": "f7224575-aea8-4a0f-ab67-d279e21d7279"
    },
    {
      "cell_type": "code",
      "execution_count": 57,
      "metadata": {},
      "outputs": [
        {
          "output_type": "display_data",
          "metadata": {},
          "data": {
            "text/html": [
              "<style>\n",
              ".dl-inline {width: auto; margin:0; padding: 0}\n",
              ".dl-inline>dt, .dl-inline>dd {float: none; width: auto; display: inline-block}\n",
              ".dl-inline>dt::after {content: \":\\0020\"; padding-right: .5ex}\n",
              ".dl-inline>dt:not(:first-of-type) {padding-left: .5ex}\n",
              "</style><dl class=dl-inline><dt>x</dt><dd>560</dd><dt>y</dt><dd>256.6</dd><dt>x_barx</dt><dd>0</dd><dt>y_bary</dt><dd>0</dd><dt>x_barx2</dt><dd>5600</dd><dt>y_bary2</dt><dd>295.649</dd><dt>xy</dt><dd>1193</dd></dl>"
            ]
          }
        }
      ],
      "source": [
        "round(colSums(df_5_AB),3)"
      ],
      "id": "b81e0aa0-3a62-4321-9aa3-6f4bb1b167dc"
    },
    {
      "cell_type": "markdown",
      "metadata": {},
      "source": [
        "$\\hat{\\beta_1} = \\frac{S_{xy}}{S_{xx}}$\n",
        "\n",
        "$\\hat{\\beta_0} = \\bar{y} - \\hat{\\beta_1}\\bar{x}$"
      ],
      "id": "fe53025b-3b9d-422f-9612-e5bf88723926"
    },
    {
      "cell_type": "code",
      "execution_count": 58,
      "metadata": {},
      "outputs": [],
      "source": [
        "beta1_xy <- as.numeric(colSums(df_5_AB)[7]/colSums(df_5_AB)[5])\n",
        "beta0_xy <- mean(df_5_AB$y) - beta1_xy *  mean(df_5_AB$x)"
      ],
      "id": "96f5989c-2a75-41b4-b594-f2ccbd91d171"
    },
    {
      "cell_type": "code",
      "execution_count": 59,
      "metadata": {},
      "outputs": [
        {
          "output_type": "stream",
          "name": "stdout",
          "text": [
            "xy hat beta0 =  9.807143\n",
            "xy hat beta1 =  0.2130357"
          ]
        }
      ],
      "source": [
        "cat(\"xy hat beta0 = \", beta0_xy)\n",
        "cat(\"\\nxy hat beta1 = \", beta1_xy)"
      ],
      "id": "d77d3fd0-4f53-491d-b02e-6a7411af7fef"
    },
    {
      "cell_type": "markdown",
      "metadata": {},
      "source": [
        "$\\text{y} = 9.807143 +0.2130357\\text{x}$"
      ],
      "id": "745f36ed-69e1-4d51-a5dc-d3ec58ad584f"
    },
    {
      "cell_type": "code",
      "execution_count": 60,
      "metadata": {},
      "outputs": [],
      "source": [
        "SST_5 = sum((df_5_AB$y - mean(df_5_AB$y))^2)"
      ],
      "id": "ca1c9b79-a590-4f49-92c1-feb07dcaab9f"
    },
    {
      "cell_type": "code",
      "execution_count": 61,
      "metadata": {},
      "outputs": [],
      "source": [
        "SSR_5 = sum( ( (9.807143 + 0.2130357*df_5_AB$x)-mean(df_5_AB$y) )^2 )"
      ],
      "id": "0b4ee988-8ff2-4b5e-890d-c26279e759ec"
    },
    {
      "cell_type": "code",
      "execution_count": 62,
      "metadata": {},
      "outputs": [],
      "source": [
        "SSE_5 = sum( ( df_5_AB$y-(9.807143  +0.2130357 *df_5_AB$x))^2 )"
      ],
      "id": "0d5f84b2-3c7f-4c18-ace7-f0ac0c138476"
    },
    {
      "cell_type": "code",
      "execution_count": 63,
      "metadata": {},
      "outputs": [
        {
          "output_type": "stream",
          "name": "stdout",
          "text": [
            "y =  9.8071 +  0.213 x"
          ]
        }
      ],
      "source": [
        "cat(\"y = \",round(beta0_xy,4), \"+ \",round(beta1_xy,4) ,\"x\")"
      ],
      "id": "7aadd6a7-3fc5-4802-8fac-a3ac21983026"
    },
    {
      "cell_type": "code",
      "execution_count": 64,
      "metadata": {},
      "outputs": [
        {
          "output_type": "stream",
          "name": "stdout",
          "text": [
            "SST =  295.6486 , df = 13\n",
            "SSR =  254.1516 , df = 1\n",
            "SSE =  41.49696 , df = 12"
          ]
        }
      ],
      "source": [
        "cat(\"SST = \", SST_5,\", df = 13\")\n",
        "cat(\"\\nSSR = \", SSR_5,\", df = 1\")\n",
        "cat(\"\\nSSE = \", SSE_5, \", df = 12\")"
      ],
      "id": "9b149d84-95bf-4bf4-bb67-4360ecfb6206"
    },
    {
      "cell_type": "code",
      "execution_count": 65,
      "metadata": {},
      "outputs": [
        {
          "output_type": "stream",
          "name": "stdout",
          "text": [
            "yA =  6.7571 +  0.2811 x"
          ]
        }
      ],
      "source": [
        "cat(\"yA = \",round(beta0_xyA,4), \"+ \",round(beta1_xyA,4) ,\"x\")"
      ],
      "id": "d8b031cb-3398-43fe-affb-9b56cbec3542"
    },
    {
      "cell_type": "code",
      "execution_count": 66,
      "metadata": {
        "tags": []
      },
      "outputs": [
        {
          "output_type": "stream",
          "name": "stdout",
          "text": [
            "yA SST =  226.76 , df = 6\n",
            "yA SSR =  221.2032 , df = 1\n",
            "yA SSE =  5.556786 , df = 5"
          ]
        }
      ],
      "source": [
        "cat(\"yA SST = \", SST_A,\", df = 6\")\n",
        "cat(\"\\nyA SSR = \", SSR_A,\", df = 1\")\n",
        "cat(\"\\nyA SSE = \", SSE_A, \", df = 5\")"
      ],
      "id": "fe0481c1-1db3-4f9d-973e-d96bc1bf2a77"
    },
    {
      "cell_type": "code",
      "execution_count": 67,
      "metadata": {},
      "outputs": [
        {
          "output_type": "stream",
          "name": "stdout",
          "text": [
            "yB =  12.8571 +  0.145 x"
          ]
        }
      ],
      "source": [
        "cat(\"yB = \",round(beta0_xyB,4), \"+ \",round(beta1_xyB,4) ,\"x\")"
      ],
      "id": "53189749-8f91-4df5-91aa-005dfb5b8d50"
    },
    {
      "cell_type": "code",
      "execution_count": 68,
      "metadata": {},
      "outputs": [
        {
          "output_type": "stream",
          "name": "stdout",
          "text": [
            "yB SST =  67.37714 , df = 6\n",
            "yB SSR =  58.87 , df = 1\n",
            "yB SSE =  8.507143 , df = 5"
          ]
        }
      ],
      "source": [
        "cat(\"yB SST = \", SST_B,\", df = 6\")\n",
        "cat(\"\\nyB SSR = \", SSR_B,\", df = 1\")\n",
        "cat(\"\\nyB SSE = \", SSE_B, \", df = 5\")"
      ],
      "id": "abe64053-1ac2-4b1b-bcbd-4afddec79b04"
    },
    {
      "cell_type": "markdown",
      "metadata": {},
      "source": [
        "가설\n",
        "\n",
        "$H_0 : \\beta_{01} = \\beta_{02} \\text{ and } \\beta_{11} = \\beta_{12}$\n",
        "\n",
        "$H_1 : \\beta_{01} \\neq \\beta_{02} \\text{ or } \\beta_{11} \\neq \\beta_{12}$\n",
        "\n",
        "검정통계량\n",
        "\n",
        "$F_0 = \\frac{SSE(R) - SSE(F)}{df_R-df_F} \\times \\frac{df_F}{SSE(F)}$"
      ],
      "id": "b8cc0aa0-86fb-4348-a0f9-e6f843988036"
    },
    {
      "cell_type": "code",
      "execution_count": 69,
      "metadata": {},
      "outputs": [],
      "source": [
        "SSE_5_F = SSE_A + SSE_B\n",
        "df_5_F = 5 -2 + 5 -2"
      ],
      "id": "9961bc7c-c300-4879-8fe1-45ee08b51f29"
    },
    {
      "cell_type": "code",
      "execution_count": 70,
      "metadata": {},
      "outputs": [],
      "source": [
        "SSE_5_R = SSE_5\n",
        "df_5_R = 5 -1 + 5 -1"
      ],
      "id": "11a7e37e-46ff-40bd-9aed-f860cdd0a136"
    },
    {
      "cell_type": "code",
      "execution_count": 71,
      "metadata": {},
      "outputs": [
        {
          "output_type": "display_data",
          "metadata": {},
          "data": {
            "text/html": [
              "5.8517864828756"
            ]
          }
        }
      ],
      "source": [
        "F_5_0 = (SSE_5_R - SSE_5_F)/(df_5_R - df_5_F) / (SSE_5_F/df_5_F)\n",
        "F_5_0"
      ],
      "id": "188cd4a3-fa76-4f5c-8efb-70eca0ad49d6"
    },
    {
      "cell_type": "code",
      "execution_count": 72,
      "metadata": {},
      "outputs": [
        {
          "output_type": "display_data",
          "metadata": {},
          "data": {
            "text/html": [
              "2"
            ]
          }
        }
      ],
      "source": [
        "df_5_R - df_5_F"
      ],
      "id": "a92e0aff-da03-4e81-b36b-308506927a6a"
    },
    {
      "cell_type": "code",
      "execution_count": 73,
      "metadata": {},
      "outputs": [
        {
          "output_type": "display_data",
          "metadata": {},
          "data": {
            "text/html": [
              "6"
            ]
          }
        }
      ],
      "source": [
        "df_5_F"
      ],
      "id": "c755e0a7-48ea-4065-b52a-ed9d73f94696"
    },
    {
      "cell_type": "code",
      "execution_count": 74,
      "metadata": {},
      "outputs": [
        {
          "output_type": "display_data",
          "metadata": {},
          "data": {
            "text/html": [
              "4.1028210151304"
            ]
          }
        }
      ],
      "source": [
        "F_5_stan = qf(0.95,2,10)\n",
        "F_5_stan"
      ],
      "id": "a26c67fb-a707-4b8a-918e-361e46838503"
    },
    {
      "cell_type": "code",
      "execution_count": 75,
      "metadata": {},
      "outputs": [
        {
          "output_type": "stream",
          "name": "stdout",
          "text": [
            "5.851786  는 유의수준 0.05에서 F값  4.102821  보다 크다.\n",
            "따라서 귀무가설을 기각하였고, 두 회귀모형은 beta0가 다르거나\n",
            "혹은 beta1이 다르거나 혹은 beta0,beta1 모두가 다르다."
          ]
        }
      ],
      "source": [
        "cat(F_5_0, \" 는 유의수준 0.05에서 F값 \", F_5_stan , \" 보다 크다.\")\n",
        "\n",
        "cat(\"\\n따라서 귀무가설을 기각하였고, 두 회귀모형은 beta0가 다르거나\")\n",
        "\n",
        "cat(\"\\n혹은 beta1이 다르거나 혹은 beta0,beta1 모두가 다르다.\")"
      ],
      "id": "e72cc6ad-6da1-4da2-8cde-ab1083e62bb5"
    },
    {
      "cell_type": "markdown",
      "metadata": {},
      "source": [
        "$H_0 : \\beta_{01} = \\beta_{02} \\text{ and } \\beta_{11} = \\beta_{12}$\n",
        "기각\n",
        "\n",
        "## (3)\n",
        "\n",
        "관심의 대상이 $x$가 증가함에 따라 $y$ 가 얼마나 증가하는가에 있다. 두\n",
        "회사의 타이어에 대하여 각각 회귀모형을 적합했을 때, 기울기가 같은지\n",
        "유의수준 5%로 검정하시오.\n",
        "\n",
        "**Answer**\n",
        "\n",
        "기울기 비교에 대한 가설\n",
        "\n",
        "$H_0 : \\beta_{11} = \\beta_{12} \\text{ vs. } H_1 : \\beta_{11} \\neq \\beta_{12}$\n",
        "\n",
        "검정통계량\n",
        "\n",
        "$t_0 = \\frac{ \\hat{\\beta}_{11} - \\hat{\\beta}_{12} }{ \\sqrt{ \\hat{Var}( \\hat{\\beta}_{11} - \\hat{\\beta}_{12} ) } }$\n",
        "\n",
        "$\\text{Degree of Freedom} = t((n_1 - 1) + (n_2 - 1))$\n",
        "\n",
        "$\\hat{Var}( \\hat{\\beta}_{11} - \\hat{\\beta}_{12} ) = MSE(F) [\\frac{1}{\\sum(x_{1j} - \\bar{x}_1)^2} + \\frac{1}{\\sum(x_{2j} - \\bar{x}_2)^2}]$"
      ],
      "id": "3017253c-c0e2-45ad-aedc-ba1d37aea4a4"
    },
    {
      "cell_type": "code",
      "execution_count": 76,
      "metadata": {},
      "outputs": [
        {
          "output_type": "display_data",
          "metadata": {},
          "data": {
            "text/html": [
              "0.2811"
            ]
          }
        }
      ],
      "source": [
        "round(beta1_xyA,4)"
      ],
      "id": "d3ef7c7e-3d18-4b8a-8cb3-ac7ba544ce45"
    },
    {
      "cell_type": "code",
      "execution_count": 77,
      "metadata": {},
      "outputs": [
        {
          "output_type": "display_data",
          "metadata": {},
          "data": {
            "text/html": [
              "0.145"
            ]
          }
        }
      ],
      "source": [
        "round(beta1_xyB,4)"
      ],
      "id": "f6f89c74-4a95-4c07-ba50-289f7b869f67"
    },
    {
      "cell_type": "code",
      "execution_count": 78,
      "metadata": {},
      "outputs": [
        {
          "output_type": "display_data",
          "metadata": {},
          "data": {
            "text/html": [
              "14.063928575095"
            ]
          }
        }
      ],
      "source": [
        "SSE_5_F"
      ],
      "id": "ba6898b1-3243-4306-be93-8ec9a5b8b8ac"
    },
    {
      "cell_type": "code",
      "execution_count": 79,
      "metadata": {},
      "outputs": [
        {
          "output_type": "display_data",
          "metadata": {},
          "data": {
            "text/html": [
              "2.34398809584917"
            ]
          }
        }
      ],
      "source": [
        "MSE_5_F = SSE_5_F / df_5_F\n",
        "MSE_5_F"
      ],
      "id": "84a98d1d-6407-45a2-bbce-3662e22ada21"
    },
    {
      "cell_type": "code",
      "execution_count": 80,
      "metadata": {},
      "outputs": [
        {
          "output_type": "display_data",
          "metadata": {},
          "data": {
            "text/html": [
              "2800"
            ]
          }
        }
      ],
      "source": [
        "sum(df_5_A$x_barx2)"
      ],
      "id": "98949ed0-2575-442e-8837-c64cbd765b84"
    },
    {
      "cell_type": "code",
      "execution_count": 81,
      "metadata": {},
      "outputs": [
        {
          "output_type": "display_data",
          "metadata": {},
          "data": {
            "text/html": [
              "2800"
            ]
          }
        }
      ],
      "source": [
        "sum(df_5_B$x_barx2)"
      ],
      "id": "e86fbbaf-7b33-4cac-9388-7578eea904cb"
    },
    {
      "cell_type": "code",
      "execution_count": 82,
      "metadata": {},
      "outputs": [
        {
          "output_type": "display_data",
          "metadata": {},
          "data": {
            "text/html": [
              "0.00167427721132084"
            ]
          }
        }
      ],
      "source": [
        "var_5_diff = MSE_5_F * (1/sum(df_5_A$x_barx2) + 1/sum(df_5_B$x_barx2))\n",
        "var_5_diff"
      ],
      "id": "09b93db7-1e71-4342-8455-12f854c1b0aa"
    },
    {
      "cell_type": "code",
      "execution_count": 83,
      "metadata": {},
      "outputs": [
        {
          "output_type": "display_data",
          "metadata": {},
          "data": {
            "text/html": [
              "3.32547173820247"
            ]
          }
        }
      ],
      "source": [
        "t_5_0 = (beta1_xyA - beta1_xyB)/sqrt(var_5_diff)\n",
        "t_5_0"
      ],
      "id": "3df12c40-7b17-4f0c-985b-d0a22365c688"
    },
    {
      "cell_type": "code",
      "execution_count": 84,
      "metadata": {},
      "outputs": [
        {
          "output_type": "display_data",
          "metadata": {},
          "data": {
            "text/html": [
              "1.9431802805153"
            ]
          }
        }
      ],
      "source": [
        "qt(0.95,df_5_F)"
      ],
      "id": "c69562fa-dfa2-4fa9-9b90-e271239f72c6"
    },
    {
      "cell_type": "code",
      "execution_count": 85,
      "metadata": {},
      "outputs": [
        {
          "output_type": "stream",
          "name": "stdout",
          "text": [
            "3.325472 는  1.94318 보다 크다. 따라서 유의수준 5%에서 귀무가설을 기각하여 두 회귀모형의 기울기가 다르다고 할 수 있다."
          ]
        }
      ],
      "source": [
        "cat(t_5_0,\"는 \",qt(0.95,df_5_F),\"보다 크다. 따라서 유의수준 5%에서 귀무가설을 기각하여 두 회귀모형의 기울기가 다르다고 할 수 있다.\")"
      ],
      "id": "3894c994-a6a1-4ab5-9cf6-bad2087da0c8"
    },
    {
      "cell_type": "markdown",
      "metadata": {},
      "source": [
        "$H_0 : \\beta_{11} = \\beta_{12}$ 기각\n",
        "\n",
        "------------------------------------------------------------------------\n",
        "\n",
        "# 6.\n",
        "\n",
        "**R 실습**. 아마존 강 수위 문제 아마존 강 유역은 지구상의 가장 큰 열대림\n",
        "지역이지만 대부분의 다른 자연자원과 마찬가지로 개발의 손길이 미치면서\n",
        "열대림이 급속히 파괴됐다. 1970년대 이후 아마존 상류지역에 도로가\n",
        "건설되면서 인구가 빠르게 증가되었고 대규모의 삼림파괴가 이뤄졌다.\n",
        "강수량과 유수량이 모두 영향을 받을 수 있기 때문에 이것은 결국 아마존 강\n",
        "전체에 영향을 미치는 심각한 기후학적 및 수문학적 변화를 가져왔다. 다음의\n",
        "표는 페루 이키토스(Iquitos)에서 1962년부터 1978년까지 기록한 아마존 강\n",
        "최고수위 (High)와, 최저수위 (Low)를 기록한 것이다(단위: 미터).1962년부터\n",
        "1969년까지의 데이터는 개발 이전에 수집된 데이터이고, 1970년부터\n",
        "1978년까지의 데이터는 개발이후에 관측된 데이터를 나타낸다. 이 데이터는\n",
        "아마존 상류지역의 삼림파괴가 아마존 유역의 강 수위에 변화를 일으켰는지\n",
        "분석하고자 한다. 우리의 관심은 시간에 따른 아마존 강 수위 변화여부이다.\n",
        "예를 들어, 우리가 다음을 적합한다면\n",
        "\n",
        "$$\\text{High} = \\beta_0 + \\beta_1 \\times \\text{Year} + \\epsilon$$\n",
        "\n",
        "1.  $\\beta_1 = 0$은 시간에 따른 아마존 강의 최고수위에 아무런\n",
        "    (선형)변화가 없다는 것을 의미하고,\n",
        "\n",
        "2.  $\\beta_1 > 0$은 아마존 강의 최고수위가 증가된 것을 의미하는데,\n",
        "    이것은 해마다 아마존 강의 흐르는 물이 늘어난 것을 나타낼 수 있다.\n",
        "\n",
        "3.  $\\beta_1 < 0$은 시간에 따라 아마존 강의 최고수위가 낮아진 것을\n",
        "    의미하는데, 이것은 해마다 아마존 강의 흐르는 물이 줄어든 것을\n",
        "    의미한다. 다음의 물음에 답하시오.\n",
        "\n",
        "$$\\text{Table 1: 아마존 강 데이터 (Amazon River data)}$$\n",
        "\n",
        "| Year | High(m) | Low(m) |\n",
        "|:----:|:-------:|:------:|\n",
        "| 1962 |  25.82  | 18.24  |\n",
        "| 1963 |  25.35  | 16.50  |\n",
        "| 1964 |  24.29  | 20.26  |\n",
        "| 1965 |  24.05  | 20.97  |\n",
        "| 1966 |  24.89  | 19.43  |\n",
        "| 1967 |  25.35  | 19.31  |\n",
        "| 1968 |  25.23  | 20.85  |\n",
        "| 1969 |  25.06  | 19.54  |\n",
        "| 1970 |  27.13  | 20.49  |\n",
        "| 1971 |  27.36  | 21.91  |\n",
        "| 1972 |  26.65  | 22.51  |\n",
        "| 1973 |  27.13  | 18.81  |\n",
        "| 1974 |  27.49  | 19.42  |\n",
        "| 1975 |  27.08  | 19.10  |\n",
        "| 1976 |  27.51  | 18.80  |\n",
        "| 1977 |  27.54  | 18.80  |\n",
        "| 1978 |  26.21  | 17.57  |\n",
        "\n",
        "## (1)\n",
        "\n",
        "High와 Year, Low와 Year, 그리고 High와 Low에 대해 산점도를 그리시오.\n",
        "\n",
        "**Answer**"
      ],
      "id": "b6b5ea8d-81af-446f-8826-b9f7aad538d2"
    },
    {
      "cell_type": "code",
      "execution_count": 86,
      "metadata": {},
      "outputs": [
        {
          "output_type": "display_data",
          "metadata": {},
          "data": {
            "text/html": [
              "<table class=\"dataframe\">\n",
              "<caption>A data.frame: 17 × 3</caption>\n",
              "<thead>\n",
              "    <tr><th scope=col>Year</th><th scope=col>High</th><th scope=col>Low</th></tr>\n",
              "    <tr><th scope=col>&lt;dbl&gt;</th><th scope=col>&lt;dbl&gt;</th><th scope=col>&lt;dbl&gt;</th></tr>\n",
              "</thead>\n",
              "<tbody>\n",
              "    <tr><td>1962</td><td>25.82</td><td>18.24</td></tr>\n",
              "    <tr><td>1963</td><td>25.35</td><td>16.50</td></tr>\n",
              "    <tr><td>1964</td><td>24.29</td><td>20.26</td></tr>\n",
              "    <tr><td>1965</td><td>24.05</td><td>20.97</td></tr>\n",
              "    <tr><td>1966</td><td>24.89</td><td>19.43</td></tr>\n",
              "    <tr><td>1967</td><td>25.35</td><td>19.31</td></tr>\n",
              "    <tr><td>1968</td><td>25.23</td><td>20.85</td></tr>\n",
              "    <tr><td>1969</td><td>25.06</td><td>19.54</td></tr>\n",
              "    <tr><td>1970</td><td>27.13</td><td>20.49</td></tr>\n",
              "    <tr><td>1971</td><td>27.36</td><td>21.91</td></tr>\n",
              "    <tr><td>1972</td><td>26.65</td><td>22.51</td></tr>\n",
              "    <tr><td>1973</td><td>27.13</td><td>18.81</td></tr>\n",
              "    <tr><td>1974</td><td>27.49</td><td>19.42</td></tr>\n",
              "    <tr><td>1975</td><td>27.08</td><td>19.10</td></tr>\n",
              "    <tr><td>1976</td><td>27.51</td><td>18.80</td></tr>\n",
              "    <tr><td>1977</td><td>27.54</td><td>18.80</td></tr>\n",
              "    <tr><td>1978</td><td>26.21</td><td>17.57</td></tr>\n",
              "</tbody>\n",
              "</table>"
            ]
          }
        }
      ],
      "source": [
        "df_6 = data.frame(Year = c(1962,1963,1964,1965,1966,1967,1968,1969,1970,1971,1972,1973,1974,1975,1976,1977,1978),\n",
        "           High = c(25.82, 25.35, 24.29, 24.05, 24.89, 25.35, 25.23, 25.06, 27.13, 27.36, 26.65, 27.13, 27.49, 27.08, 27.51, 27.54, 26.21),\n",
        "           Low = c(18.24, 16.50, 20.26, 20.97, 19.43, 19.31, 20.85, 19.54, 20.49, 21.91, 22.51, 18.81, 19.42, 19.10, 18.80, 18.80, 17.57))\n",
        "df_6"
      ],
      "id": "bc061722-43ff-46d2-80e1-437a7ea3fa8d"
    },
    {
      "cell_type": "code",
      "execution_count": 87,
      "metadata": {},
      "outputs": [
        {
          "output_type": "display_data",
          "metadata": {},
          "data": {
            "image/png": "[encoded data removed]"
          }
        }
      ],
      "source": [
        "plot(df_6$High,df_6$Year,\n",
        "     xlab = \"Year\",\n",
        "     ylab = \"High\",\n",
        "     pch  = 16,\n",
        "     cex  = 1)"
      ],
      "id": "c030e21c-f699-4107-89e5-145c2a03d40a"
    },
    {
      "cell_type": "markdown",
      "metadata": {},
      "source": [
        "양의 기울기로 선형 관계를 갖는 모습이다."
      ],
      "id": "1af053f8-af4a-4d71-853c-8f4bdbb05d3a"
    },
    {
      "cell_type": "code",
      "execution_count": 88,
      "metadata": {},
      "outputs": [
        {
          "output_type": "display_data",
          "metadata": {},
          "data": {
            "image/png": "[encoded data removed]"
          }
        }
      ],
      "source": [
        "plot(df_6$Low~df_6$Year,\n",
        "     xlab = \"Year\",\n",
        "     ylab = \"Low\",\n",
        "     pch  = 16,\n",
        "     cex  = 1)"
      ],
      "id": "d0211978-03d6-4978-9000-bdf64a956ccc"
    },
    {
      "cell_type": "markdown",
      "metadata": {},
      "source": [
        "이차함수 모양의 연관이 있는 모양새이다."
      ],
      "id": "6438d306-eb14-425b-914f-36880bcc96a4"
    },
    {
      "cell_type": "code",
      "execution_count": 89,
      "metadata": {},
      "outputs": [
        {
          "output_type": "display_data",
          "metadata": {},
          "data": {
            "image/png": "[encoded data removed]"
          }
        }
      ],
      "source": [
        "plot(df_6$Low~df_6$High,\n",
        "    xlab = \"Low\",\n",
        "     ylab = \"High\",\n",
        "     pch  = 16,\n",
        "     cex  = 1)"
      ],
      "id": "c65c82a9-82b2-4b37-b225-fc55b9c840f3"
    },
    {
      "cell_type": "markdown",
      "metadata": {},
      "source": [
        "관련이 있는지 모르겠다.\n",
        "\n",
        "## (2)\n",
        "\n",
        "Year에 대한 High, Year에 대한 Low, 그리고 Low에 대한 High의 회귀모형을\n",
        "구하시오. 3개 회귀모형의 결과를 요약하고, 각 모형별로 회귀계수의 의미를\n",
        "설명하시오.\n",
        "\n",
        "**Answer**\n",
        "\n",
        "**Year에 대한 High의 회귀모형**"
      ],
      "id": "4564e453-fd6c-4234-8f1f-99b0432c0b4d"
    },
    {
      "cell_type": "code",
      "execution_count": 90,
      "metadata": {},
      "outputs": [],
      "source": [
        "df_6_YearHigh <- df_6"
      ],
      "id": "6b2266e0-0b16-44fe-a181-0d0897e4c4cd"
    },
    {
      "cell_type": "code",
      "execution_count": 91,
      "metadata": {},
      "outputs": [],
      "source": [
        "df_6_YearHigh$Year_barYear = df_6_YearHigh$Year - mean(df_6_YearHigh$Year)\n",
        "df_6_YearHigh$High_barHigh = df_6_YearHigh$High - mean(df_6_YearHigh$High) "
      ],
      "id": "94cce7cb-65df-4ab1-96ef-3c7ca6de53f9"
    },
    {
      "cell_type": "markdown",
      "metadata": {},
      "source": [
        "-   $S_{xx}, S_{yy},S_{xy}$를 구해주기 위해\n",
        "    $x_i - \\bar{x}, y_i - \\bar{y}$를 구했다."
      ],
      "id": "f60afbdb-5099-41c5-a2a3-07131b6b8f7f"
    },
    {
      "cell_type": "code",
      "execution_count": 92,
      "metadata": {},
      "outputs": [],
      "source": [
        "df_6_YearHigh$Year_barYear2 <- df_6_YearHigh$Year_barYear^2\n",
        "df_6_YearHigh$High_barHigh2 <- df_6_YearHigh$High_barHigh^2\n",
        "df_6_YearHigh$YearHigh <-df_6_YearHigh$Year_barYear * df_6_YearHigh$High_barHigh"
      ],
      "id": "d9b61a0f-668c-48eb-b030-72e9c40bcd10"
    },
    {
      "cell_type": "markdown",
      "metadata": {},
      "source": [
        "-   $S_{xx}, S_{yy},S_{xy}$를 구해주었다."
      ],
      "id": "6d401d24-4700-4ff5-ad57-d7ca06fdf0b0"
    },
    {
      "cell_type": "code",
      "execution_count": 93,
      "metadata": {},
      "outputs": [
        {
          "output_type": "display_data",
          "metadata": {},
          "data": {
            "text/html": [
              "<table class=\"dataframe\">\n",
              "<caption>A data.frame: 17 × 8</caption>\n",
              "<thead>\n",
              "    <tr><th scope=col>Year</th><th scope=col>High</th><th scope=col>Low</th><th scope=col>Year_barYear</th><th scope=col>High_barHigh</th><th scope=col>Year_barYear2</th><th scope=col>High_barHigh2</th><th scope=col>YearHigh</th></tr>\n",
              "    <tr><th scope=col>&lt;dbl&gt;</th><th scope=col>&lt;dbl&gt;</th><th scope=col>&lt;dbl&gt;</th><th scope=col>&lt;dbl&gt;</th><th scope=col>&lt;dbl&gt;</th><th scope=col>&lt;dbl&gt;</th><th scope=col>&lt;dbl&gt;</th><th scope=col>&lt;dbl&gt;</th></tr>\n",
              "</thead>\n",
              "<tbody>\n",
              "    <tr><td>1962</td><td>25.82</td><td>18.24</td><td>-8</td><td>-0.30588235</td><td>64</td><td>0.093564014</td><td> 2.4470588</td></tr>\n",
              "    <tr><td>1963</td><td>25.35</td><td>16.50</td><td>-7</td><td>-0.77588235</td><td>49</td><td>0.601993426</td><td> 5.4311765</td></tr>\n",
              "    <tr><td>1964</td><td>24.29</td><td>20.26</td><td>-6</td><td>-1.83588235</td><td>36</td><td>3.370464014</td><td>11.0152941</td></tr>\n",
              "    <tr><td>1965</td><td>24.05</td><td>20.97</td><td>-5</td><td>-2.07588235</td><td>25</td><td>4.309287543</td><td>10.3794118</td></tr>\n",
              "    <tr><td>1966</td><td>24.89</td><td>19.43</td><td>-4</td><td>-1.23588235</td><td>16</td><td>1.527405190</td><td> 4.9435294</td></tr>\n",
              "    <tr><td>1967</td><td>25.35</td><td>19.31</td><td>-3</td><td>-0.77588235</td><td> 9</td><td>0.601993426</td><td> 2.3276471</td></tr>\n",
              "    <tr><td>1968</td><td>25.23</td><td>20.85</td><td>-2</td><td>-0.89588235</td><td> 4</td><td>0.802605190</td><td> 1.7917647</td></tr>\n",
              "    <tr><td>1969</td><td>25.06</td><td>19.54</td><td>-1</td><td>-1.06588235</td><td> 1</td><td>1.136105190</td><td> 1.0658824</td></tr>\n",
              "    <tr><td>1970</td><td>27.13</td><td>20.49</td><td> 0</td><td> 1.00411765</td><td> 0</td><td>1.008252249</td><td> 0.0000000</td></tr>\n",
              "    <tr><td>1971</td><td>27.36</td><td>21.91</td><td> 1</td><td> 1.23411765</td><td> 1</td><td>1.523046367</td><td> 1.2341176</td></tr>\n",
              "    <tr><td>1972</td><td>26.65</td><td>22.51</td><td> 2</td><td> 0.52411765</td><td> 4</td><td>0.274699308</td><td> 1.0482353</td></tr>\n",
              "    <tr><td>1973</td><td>27.13</td><td>18.81</td><td> 3</td><td> 1.00411765</td><td> 9</td><td>1.008252249</td><td> 3.0123529</td></tr>\n",
              "    <tr><td>1974</td><td>27.49</td><td>19.42</td><td> 4</td><td> 1.36411765</td><td>16</td><td>1.860816955</td><td> 5.4564706</td></tr>\n",
              "    <tr><td>1975</td><td>27.08</td><td>19.10</td><td> 5</td><td> 0.95411765</td><td>25</td><td>0.910340484</td><td> 4.7705882</td></tr>\n",
              "    <tr><td>1976</td><td>27.51</td><td>18.80</td><td> 6</td><td> 1.38411765</td><td>36</td><td>1.915781661</td><td> 8.3047059</td></tr>\n",
              "    <tr><td>1977</td><td>27.54</td><td>18.80</td><td> 7</td><td> 1.41411765</td><td>49</td><td>1.999728720</td><td> 9.8988235</td></tr>\n",
              "    <tr><td>1978</td><td>26.21</td><td>17.57</td><td> 8</td><td> 0.08411765</td><td>64</td><td>0.007075779</td><td> 0.6729412</td></tr>\n",
              "</tbody>\n",
              "</table>"
            ]
          }
        }
      ],
      "source": [
        "df_6_YearHigh"
      ],
      "id": "6cc220e4-cedd-4ddd-9735-83942718d53d"
    },
    {
      "cell_type": "code",
      "execution_count": 94,
      "metadata": {},
      "outputs": [
        {
          "output_type": "display_data",
          "metadata": {},
          "data": {
            "text/html": [
              "<style>\n",
              ".dl-inline {width: auto; margin:0; padding: 0}\n",
              ".dl-inline>dt, .dl-inline>dd {float: none; width: auto; display: inline-block}\n",
              ".dl-inline>dt::after {content: \":\\0020\"; padding-right: .5ex}\n",
              ".dl-inline>dt:not(:first-of-type) {padding-left: .5ex}\n",
              "</style><dl class=dl-inline><dt>Year</dt><dd>33490</dd><dt>High</dt><dd>444.14</dd><dt>Low</dt><dd>332.51</dd><dt>Year_barYear</dt><dd>0</dd><dt>High_barHigh</dt><dd>0</dd><dt>Year_barYear2</dt><dd>408</dd><dt>High_barHigh2</dt><dd>22.951</dd><dt>YearHigh</dt><dd>73.8</dd></dl>"
            ]
          }
        }
      ],
      "source": [
        "round(colSums(df_6_YearHigh),3)"
      ],
      "id": "2d48bcf1-8a63-4bb6-95bb-e900d7e7d409"
    },
    {
      "cell_type": "markdown",
      "metadata": {},
      "source": [
        "$\\hat{\\beta_1} = \\frac{S_{xy}}{S_{xx}}$\n",
        "\n",
        "$\\hat{\\beta_0} = \\bar{y} - \\hat{\\beta_1}\\bar{x}$"
      ],
      "id": "b6302011-10f5-488c-8738-98342600d3b1"
    },
    {
      "cell_type": "code",
      "execution_count": 95,
      "metadata": {},
      "outputs": [],
      "source": [
        "beta1_YearHigh <- as.numeric(colSums(df_6_YearHigh)[8]/colSums(df_6_YearHigh)[6])\n",
        "beta0_YearHigh <- mean(df_6_YearHigh$High) - beta1_YearHigh *  mean(df_6_YearHigh$Year)"
      ],
      "id": "ec70fd46-7d4c-4d92-87cd-469794d1c127"
    },
    {
      "cell_type": "code",
      "execution_count": 96,
      "metadata": {},
      "outputs": [
        {
          "output_type": "stream",
          "name": "stdout",
          "text": [
            "YearHigh hat beta0 =  -330.2124\n",
            "YearHigh hat beta1 =  0.1808824"
          ]
        }
      ],
      "source": [
        "cat(\"YearHigh hat beta0 = \", beta0_YearHigh)\n",
        "cat(\"\\nYearHigh hat beta1 = \", beta1_YearHigh)"
      ],
      "id": "467f1432-d232-4d48-95cc-c35702773a1d"
    },
    {
      "cell_type": "markdown",
      "metadata": {},
      "source": [
        "$\\text{High} = -330.21235 + 0.18088\\text{Year}$\n",
        "\n",
        "R결과와 비교"
      ],
      "id": "8ae720ec-4932-499f-a9ad-e9aa3a987549"
    },
    {
      "cell_type": "code",
      "execution_count": 97,
      "metadata": {},
      "outputs": [
        {
          "output_type": "display_data",
          "metadata": {},
          "data": {
            "text/plain": [
              "\n",
              "Call:\n",
              "lm(formula = df_6$High ~ df_6$Year)\n",
              "\n",
              "Residuals:\n",
              "    Min      1Q  Median      3Q     Max \n",
              "-1.3629 -0.5341  0.1479  0.4903  1.1412 \n",
              "\n",
              "Coefficients:\n",
              "              Estimate Std. Error t value Pr(>|t|)    \n",
              "(Intercept) -330.21235   78.03319  -4.232 0.000725 ***\n",
              "df_6$Year      0.18088    0.03961   4.567 0.000371 ***\n",
              "---\n",
              "Signif. codes:  0 ‘***’ 0.001 ‘**’ 0.01 ‘*’ 0.05 ‘.’ 0.1 ‘ ’ 1\n",
              "\n",
              "Residual standard error: 0.8001 on 15 degrees of freedom\n",
              "Multiple R-squared:  0.5816,    Adjusted R-squared:  0.5537 \n",
              "F-statistic: 20.85 on 1 and 15 DF,  p-value: 0.0003708"
            ]
          }
        }
      ],
      "source": [
        "summary(lm(df_6$High~df_6$Year))"
      ],
      "id": "ad54fc23-f9e6-4c69-9b9f-ce97c6c6b82e"
    },
    {
      "cell_type": "markdown",
      "metadata": {},
      "source": [
        "R결과 해석 - beta0과 beta1이 5%보다 유의확률이 작아 유의미하다. - 모형의\n",
        "설명력은 50%정도에 머문다. - 모형의 p값이 0.05보다 작아 유의미하다고 볼\n",
        "수 있다.\n",
        "\n",
        "**Year에 대한 Low의 회귀모형**"
      ],
      "id": "aff9db66-c351-40dc-ac1c-7ad38bb5d03a"
    },
    {
      "cell_type": "code",
      "execution_count": 98,
      "metadata": {},
      "outputs": [],
      "source": [
        "df_6_YearLow <- df_6"
      ],
      "id": "d6156769-09c0-4c55-b579-a8a7b5a80003"
    },
    {
      "cell_type": "code",
      "execution_count": 99,
      "metadata": {},
      "outputs": [],
      "source": [
        "df_6_YearLow$Year_barYear = df_6_YearLow$Year - mean(df_6_YearLow$Year)\n",
        "df_6_YearLow$Low_barLow = df_6_YearLow$Low - mean(df_6_YearLow$Low) "
      ],
      "id": "ec68e5af-512b-426d-aaae-dc74a521d79d"
    },
    {
      "cell_type": "markdown",
      "metadata": {},
      "source": [
        "-   $S_{xx}, S_{yy},S_{xy}$를 구해주기 위해\n",
        "    $x_i - \\bar{x}, y_i - \\bar{y}$를 구했다."
      ],
      "id": "6349e347-d447-4bd5-8b8d-4dc5d32f5aa5"
    },
    {
      "cell_type": "code",
      "execution_count": 100,
      "metadata": {},
      "outputs": [],
      "source": [
        "df_6_YearLow$Year_barYear2 <- df_6_YearLow$Year_barYear^2\n",
        "df_6_YearLow$Low_barLow2 <- df_6_YearLow$Low_barLow^2\n",
        "df_6_YearLow$YearLow <-df_6_YearLow$Year_barYear * df_6_YearLow$Low_barLow"
      ],
      "id": "227d5836-6d2a-4476-b290-4552a0d5e751"
    },
    {
      "cell_type": "markdown",
      "metadata": {},
      "source": [
        "-   $S_{xx}, S_{yy},S_{xy}$를 구해주었다."
      ],
      "id": "84043890-232f-4295-8998-c00e06b8d708"
    },
    {
      "cell_type": "code",
      "execution_count": 101,
      "metadata": {},
      "outputs": [
        {
          "output_type": "display_data",
          "metadata": {},
          "data": {
            "text/html": [
              "<table class=\"dataframe\">\n",
              "<caption>A data.frame: 17 × 8</caption>\n",
              "<thead>\n",
              "    <tr><th scope=col>Year</th><th scope=col>High</th><th scope=col>Low</th><th scope=col>Year_barYear</th><th scope=col>Low_barLow</th><th scope=col>Year_barYear2</th><th scope=col>Low_barLow2</th><th scope=col>YearLow</th></tr>\n",
              "    <tr><th scope=col>&lt;dbl&gt;</th><th scope=col>&lt;dbl&gt;</th><th scope=col>&lt;dbl&gt;</th><th scope=col>&lt;dbl&gt;</th><th scope=col>&lt;dbl&gt;</th><th scope=col>&lt;dbl&gt;</th><th scope=col>&lt;dbl&gt;</th><th scope=col>&lt;dbl&gt;</th></tr>\n",
              "</thead>\n",
              "<tbody>\n",
              "    <tr><td>1962</td><td>25.82</td><td>18.24</td><td>-8</td><td>-1.31941176</td><td>64</td><td>1.7408474048</td><td> 10.55529412</td></tr>\n",
              "    <tr><td>1963</td><td>25.35</td><td>16.50</td><td>-7</td><td>-3.05941176</td><td>49</td><td>9.3600003460</td><td> 21.41588235</td></tr>\n",
              "    <tr><td>1964</td><td>24.29</td><td>20.26</td><td>-6</td><td> 0.70058824</td><td>36</td><td>0.4908238754</td><td> -4.20352941</td></tr>\n",
              "    <tr><td>1965</td><td>24.05</td><td>20.97</td><td>-5</td><td> 1.41058824</td><td>25</td><td>1.9897591696</td><td> -7.05294118</td></tr>\n",
              "    <tr><td>1966</td><td>24.89</td><td>19.43</td><td>-4</td><td>-0.12941176</td><td>16</td><td>0.0167474048</td><td>  0.51764706</td></tr>\n",
              "    <tr><td>1967</td><td>25.35</td><td>19.31</td><td>-3</td><td>-0.24941176</td><td> 9</td><td>0.0622062284</td><td>  0.74823529</td></tr>\n",
              "    <tr><td>1968</td><td>25.23</td><td>20.85</td><td>-2</td><td> 1.29058824</td><td> 4</td><td>1.6656179931</td><td> -2.58117647</td></tr>\n",
              "    <tr><td>1969</td><td>25.06</td><td>19.54</td><td>-1</td><td>-0.01941176</td><td> 1</td><td>0.0003768166</td><td>  0.01941176</td></tr>\n",
              "    <tr><td>1970</td><td>27.13</td><td>20.49</td><td> 0</td><td> 0.93058824</td><td> 0</td><td>0.8659944637</td><td>  0.00000000</td></tr>\n",
              "    <tr><td>1971</td><td>27.36</td><td>21.91</td><td> 1</td><td> 2.35058824</td><td> 1</td><td>5.5252650519</td><td>  2.35058824</td></tr>\n",
              "    <tr><td>1972</td><td>26.65</td><td>22.51</td><td> 2</td><td> 2.95058824</td><td> 4</td><td>8.7059709343</td><td>  5.90117647</td></tr>\n",
              "    <tr><td>1973</td><td>27.13</td><td>18.81</td><td> 3</td><td>-0.74941176</td><td> 9</td><td>0.5616179931</td><td> -2.24823529</td></tr>\n",
              "    <tr><td>1974</td><td>27.49</td><td>19.42</td><td> 4</td><td>-0.13941176</td><td>16</td><td>0.0194356401</td><td> -0.55764706</td></tr>\n",
              "    <tr><td>1975</td><td>27.08</td><td>19.10</td><td> 5</td><td>-0.45941176</td><td>25</td><td>0.2110591696</td><td> -2.29705882</td></tr>\n",
              "    <tr><td>1976</td><td>27.51</td><td>18.80</td><td> 6</td><td>-0.75941176</td><td>36</td><td>0.5767062284</td><td> -4.55647059</td></tr>\n",
              "    <tr><td>1977</td><td>27.54</td><td>18.80</td><td> 7</td><td>-0.75941176</td><td>49</td><td>0.5767062284</td><td> -5.31588235</td></tr>\n",
              "    <tr><td>1978</td><td>26.21</td><td>17.57</td><td> 8</td><td>-1.98941176</td><td>64</td><td>3.9577591696</td><td>-15.91529412</td></tr>\n",
              "</tbody>\n",
              "</table>"
            ]
          }
        }
      ],
      "source": [
        "df_6_YearLow"
      ],
      "id": "b6655af8-bf3e-4945-a30c-8855c7def151"
    },
    {
      "cell_type": "code",
      "execution_count": 102,
      "metadata": {},
      "outputs": [
        {
          "output_type": "display_data",
          "metadata": {},
          "data": {
            "text/html": [
              "<style>\n",
              ".dl-inline {width: auto; margin:0; padding: 0}\n",
              ".dl-inline>dt, .dl-inline>dd {float: none; width: auto; display: inline-block}\n",
              ".dl-inline>dt::after {content: \":\\0020\"; padding-right: .5ex}\n",
              ".dl-inline>dt:not(:first-of-type) {padding-left: .5ex}\n",
              "</style><dl class=dl-inline><dt>Year</dt><dd>33490</dd><dt>High</dt><dd>444.14</dd><dt>Low</dt><dd>332.51</dd><dt>Year_barYear</dt><dd>0</dd><dt>Low_barLow</dt><dd>0</dd><dt>Year_barYear2</dt><dd>408</dd><dt>Low_barLow2</dt><dd>36.327</dd><dt>YearLow</dt><dd>-3.22</dd></dl>"
            ]
          }
        }
      ],
      "source": [
        "round(colSums(df_6_YearLow),3)"
      ],
      "id": "7b0d6425-1e77-4712-9d3f-3d77f0532722"
    },
    {
      "cell_type": "markdown",
      "metadata": {},
      "source": [
        "$\\hat{\\beta_1} = \\frac{S_{xy}}{S_{xx}}$\n",
        "\n",
        "$\\hat{\\beta_0} = \\bar{y} - \\hat{\\beta_1}\\bar{x}$"
      ],
      "id": "9c2d8a46-2807-47d3-8e2b-32a5934ced6a"
    },
    {
      "cell_type": "code",
      "execution_count": 103,
      "metadata": {},
      "outputs": [],
      "source": [
        "beta1_YearLow <- as.numeric(colSums(df_6_YearLow)[8]/colSums(df_6_YearLow)[6])\n",
        "beta0_YearLow <- mean(df_6_YearLow$Low) - beta1_YearLow *  mean(df_6_YearLow$Year)"
      ],
      "id": "59a2465f-bbed-44df-9a31-85eb26ddb131"
    },
    {
      "cell_type": "code",
      "execution_count": 104,
      "metadata": {},
      "outputs": [
        {
          "output_type": "stream",
          "name": "stdout",
          "text": [
            "YearLow hat beta0 =  35.10696\n",
            "YearLow hat beta1 =  -0.007892157"
          ]
        }
      ],
      "source": [
        "cat(\"YearLow hat beta0 = \", beta0_YearLow)\n",
        "cat(\"\\nYearLow hat beta1 = \", beta1_YearLow)"
      ],
      "id": "4e3f92f2-d386-43d7-8ad2-c02b867bb9e8"
    },
    {
      "cell_type": "markdown",
      "metadata": {},
      "source": [
        "$\\text{Low} = 35.106961 -0.007892\\text{Year}$\n",
        "\n",
        "R결과와 비교"
      ],
      "id": "1d5d678c-e52a-4571-8b24-e3dc2855bbf2"
    },
    {
      "cell_type": "code",
      "execution_count": 105,
      "metadata": {},
      "outputs": [
        {
          "output_type": "display_data",
          "metadata": {},
          "data": {
            "text/plain": [
              "\n",
              "Call:\n",
              "lm(formula = df_6$Low ~ df_6$Year)\n",
              "\n",
              "Residuals:\n",
              "    Min      1Q  Median      3Q     Max \n",
              "-3.1147 -0.7121 -0.1610  0.9306  2.9664 \n",
              "\n",
              "Coefficients:\n",
              "              Estimate Std. Error t value Pr(>|t|)\n",
              "(Intercept)  35.106961 151.723912   0.231     0.82\n",
              "df_6$Year    -0.007892   0.077017  -0.102     0.92\n",
              "\n",
              "Residual standard error: 1.556 on 15 degrees of freedom\n",
              "Multiple R-squared:  0.0006996, Adjusted R-squared:  -0.06592 \n",
              "F-statistic: 0.0105 on 1 and 15 DF,  p-value: 0.9197"
            ]
          }
        }
      ],
      "source": [
        "summary(lm(df_6$Low~df_6$Year))"
      ],
      "id": "a4c76905-6ca5-4cf7-af15-8416825f42de"
    },
    {
      "cell_type": "markdown",
      "metadata": {},
      "source": [
        "R결과 해석 - beta0과 beta1이 5%보다 유의확률이 커 유의미하지 않다. -\n",
        "모형의 설명력은 굉장히 낮았다. - 모형의 p값이 0.05보다 커 유의미하지\n",
        "않다.\n",
        "\n",
        "**Low에 대한 High의 회귀모형**"
      ],
      "id": "29b13360-0b14-49e7-bc84-54f08ea7fc50"
    },
    {
      "cell_type": "code",
      "execution_count": 106,
      "metadata": {},
      "outputs": [],
      "source": [
        "df_6_LowHigh <- df_6"
      ],
      "id": "d1c9d96f-6bf2-4041-a97c-0de3d9f71cd1"
    },
    {
      "cell_type": "code",
      "execution_count": 107,
      "metadata": {},
      "outputs": [],
      "source": [
        "df_6_LowHigh$Low_barLow = df_6_LowHigh$Low - mean(df_6_LowHigh$Low)\n",
        "df_6_LowHigh$High_barHigh = df_6_LowHigh$High - mean(df_6_LowHigh$High) "
      ],
      "id": "737ca44c-168e-4c14-a040-492712f2a260"
    },
    {
      "cell_type": "markdown",
      "metadata": {},
      "source": [
        "-   $S_{xx}, S_{yy},S_{xy}$를 구해주기 위해\n",
        "    $x_i - \\bar{x}, y_i - \\bar{y}$를 구했다."
      ],
      "id": "55e941ae-3381-4b3c-8127-211e966330fc"
    },
    {
      "cell_type": "code",
      "execution_count": 108,
      "metadata": {},
      "outputs": [],
      "source": [
        "df_6_LowHigh$Low_barLow2 <- df_6_LowHigh$Low_barLow^2\n",
        "df_6_LowHigh$High_barHigh2 <- df_6_LowHigh$High_barHigh^2\n",
        "df_6_LowHigh$LowHigh <-df_6_LowHigh$Low_barLow * df_6_LowHigh$High_barHigh"
      ],
      "id": "fb3f628a-4c44-4dfd-b0f0-afefa4796918"
    },
    {
      "cell_type": "markdown",
      "metadata": {},
      "source": [
        "-   $S_{xx}, S_{yy},S_{xy}$를 구해주었다."
      ],
      "id": "ee70dff0-b5fb-4456-b589-5faf0965b771"
    },
    {
      "cell_type": "code",
      "execution_count": 109,
      "metadata": {},
      "outputs": [
        {
          "output_type": "display_data",
          "metadata": {},
          "data": {
            "text/html": [
              "<table class=\"dataframe\">\n",
              "<caption>A data.frame: 17 × 8</caption>\n",
              "<thead>\n",
              "    <tr><th scope=col>Year</th><th scope=col>High</th><th scope=col>Low</th><th scope=col>Low_barLow</th><th scope=col>High_barHigh</th><th scope=col>Low_barLow2</th><th scope=col>High_barHigh2</th><th scope=col>LowHigh</th></tr>\n",
              "    <tr><th scope=col>&lt;dbl&gt;</th><th scope=col>&lt;dbl&gt;</th><th scope=col>&lt;dbl&gt;</th><th scope=col>&lt;dbl&gt;</th><th scope=col>&lt;dbl&gt;</th><th scope=col>&lt;dbl&gt;</th><th scope=col>&lt;dbl&gt;</th><th scope=col>&lt;dbl&gt;</th></tr>\n",
              "</thead>\n",
              "<tbody>\n",
              "    <tr><td>1962</td><td>25.82</td><td>18.24</td><td>-1.31941176</td><td>-0.30588235</td><td>1.7408474048</td><td>0.093564014</td><td> 0.40358478</td></tr>\n",
              "    <tr><td>1963</td><td>25.35</td><td>16.50</td><td>-3.05941176</td><td>-0.77588235</td><td>9.3600003460</td><td>0.601993426</td><td> 2.37374360</td></tr>\n",
              "    <tr><td>1964</td><td>24.29</td><td>20.26</td><td> 0.70058824</td><td>-1.83588235</td><td>0.4908238754</td><td>3.370464014</td><td>-1.28619758</td></tr>\n",
              "    <tr><td>1965</td><td>24.05</td><td>20.97</td><td> 1.41058824</td><td>-2.07588235</td><td>1.9897591696</td><td>4.309287543</td><td>-2.92821522</td></tr>\n",
              "    <tr><td>1966</td><td>24.89</td><td>19.43</td><td>-0.12941176</td><td>-1.23588235</td><td>0.0167474048</td><td>1.527405190</td><td> 0.15993772</td></tr>\n",
              "    <tr><td>1967</td><td>25.35</td><td>19.31</td><td>-0.24941176</td><td>-0.77588235</td><td>0.0622062284</td><td>0.601993426</td><td> 0.19351419</td></tr>\n",
              "    <tr><td>1968</td><td>25.23</td><td>20.85</td><td> 1.29058824</td><td>-0.89588235</td><td>1.6656179931</td><td>0.802605190</td><td>-1.15621522</td></tr>\n",
              "    <tr><td>1969</td><td>25.06</td><td>19.54</td><td>-0.01941176</td><td>-1.06588235</td><td>0.0003768166</td><td>1.136105190</td><td> 0.02069066</td></tr>\n",
              "    <tr><td>1970</td><td>27.13</td><td>20.49</td><td> 0.93058824</td><td> 1.00411765</td><td>0.8659944637</td><td>1.008252249</td><td> 0.93442007</td></tr>\n",
              "    <tr><td>1971</td><td>27.36</td><td>21.91</td><td> 2.35058824</td><td> 1.23411765</td><td>5.5252650519</td><td>1.523046367</td><td> 2.90090242</td></tr>\n",
              "    <tr><td>1972</td><td>26.65</td><td>22.51</td><td> 2.95058824</td><td> 0.52411765</td><td>8.7059709343</td><td>0.274699308</td><td> 1.54645536</td></tr>\n",
              "    <tr><td>1973</td><td>27.13</td><td>18.81</td><td>-0.74941176</td><td> 1.00411765</td><td>0.5616179931</td><td>1.008252249</td><td>-0.75249758</td></tr>\n",
              "    <tr><td>1974</td><td>27.49</td><td>19.42</td><td>-0.13941176</td><td> 1.36411765</td><td>0.0194356401</td><td>1.860816955</td><td>-0.19017405</td></tr>\n",
              "    <tr><td>1975</td><td>27.08</td><td>19.10</td><td>-0.45941176</td><td> 0.95411765</td><td>0.2110591696</td><td>0.910340484</td><td>-0.43833287</td></tr>\n",
              "    <tr><td>1976</td><td>27.51</td><td>18.80</td><td>-0.75941176</td><td> 1.38411765</td><td>0.5767062284</td><td>1.915781661</td><td>-1.05111522</td></tr>\n",
              "    <tr><td>1977</td><td>27.54</td><td>18.80</td><td>-0.75941176</td><td> 1.41411765</td><td>0.5767062284</td><td>1.999728720</td><td>-1.07389758</td></tr>\n",
              "    <tr><td>1978</td><td>26.21</td><td>17.57</td><td>-1.98941176</td><td> 0.08411765</td><td>3.9577591696</td><td>0.007075779</td><td>-0.16734464</td></tr>\n",
              "</tbody>\n",
              "</table>"
            ]
          }
        }
      ],
      "source": [
        "df_6_LowHigh"
      ],
      "id": "e96774b1-f27a-4397-b8e0-7cd49a4eb146"
    },
    {
      "cell_type": "code",
      "execution_count": 110,
      "metadata": {},
      "outputs": [
        {
          "output_type": "display_data",
          "metadata": {},
          "data": {
            "text/html": [
              "<style>\n",
              ".dl-inline {width: auto; margin:0; padding: 0}\n",
              ".dl-inline>dt, .dl-inline>dd {float: none; width: auto; display: inline-block}\n",
              ".dl-inline>dt::after {content: \":\\0020\"; padding-right: .5ex}\n",
              ".dl-inline>dt:not(:first-of-type) {padding-left: .5ex}\n",
              "</style><dl class=dl-inline><dt>Year</dt><dd>33490</dd><dt>High</dt><dd>444.14</dd><dt>Low</dt><dd>332.51</dd><dt>Low_barLow</dt><dd>0</dd><dt>High_barHigh</dt><dd>0</dd><dt>Low_barLow2</dt><dd>36.327</dd><dt>High_barHigh2</dt><dd>22.951</dd><dt>LowHigh</dt><dd>-0.511</dd></dl>"
            ]
          }
        }
      ],
      "source": [
        "round(colSums(df_6_LowHigh),3)"
      ],
      "id": "167b66ff-4fe1-4e81-b3df-198d4e55181c"
    },
    {
      "cell_type": "markdown",
      "metadata": {},
      "source": [
        "$\\hat{\\beta_1} = \\frac{S_{xy}}{S_{xx}}$\n",
        "\n",
        "$\\hat{\\beta_0} = \\bar{y} - \\hat{\\beta_1}\\bar{x}$"
      ],
      "id": "a5d77a50-8a4e-4884-88e3-4c6af13c069b"
    },
    {
      "cell_type": "code",
      "execution_count": 111,
      "metadata": {},
      "outputs": [],
      "source": [
        "beta1_LowHigh <- as.numeric(colSums(df_6_LowHigh)[8]/colSums(df_6_LowHigh)[6])\n",
        "beta0_LowHigh <- mean(df_6_LowHigh$High) - beta1_LowHigh *  mean(df_6_LowHigh$Low)"
      ],
      "id": "c1a094be-b9f5-49e2-93c7-e1f50bb5366e"
    },
    {
      "cell_type": "code",
      "execution_count": 112,
      "metadata": {},
      "outputs": [
        {
          "output_type": "stream",
          "name": "stdout",
          "text": [
            "LowHigh hat beta0 =  26.40088\n",
            "LowHigh hat beta1 =  -0.01405959"
          ]
        }
      ],
      "source": [
        "cat(\"LowHigh hat beta0 = \", beta0_LowHigh)\n",
        "cat(\"\\nLowHigh hat beta1 = \", beta1_LowHigh)"
      ],
      "id": "6daea634-89bc-4a0a-bc02-7d64932d951a"
    },
    {
      "cell_type": "markdown",
      "metadata": {},
      "source": [
        "$\\text{High} = 26.40088 -0.01406\\text{Low}$\n",
        "\n",
        "R결과와 비교"
      ],
      "id": "354d1cea-3c41-4988-bf18-10b65ba2bb1b"
    },
    {
      "cell_type": "code",
      "execution_count": 113,
      "metadata": {},
      "outputs": [
        {
          "output_type": "display_data",
          "metadata": {},
          "data": {
            "text/plain": [
              "\n",
              "Call:\n",
              "lm(formula = df_6$Low ~ df_6$High)\n",
              "\n",
              "Residuals:\n",
              "    Min      1Q  Median      3Q     Max \n",
              "-3.0767 -0.7279 -0.1569  0.9529  2.9623 \n",
              "\n",
              "Coefficients:\n",
              "            Estimate Std. Error t value Pr(>|t|)  \n",
              "(Intercept) 20.14079    8.49368   2.371   0.0315 *\n",
              "df_6$High   -0.02225    0.32478  -0.069   0.9463  \n",
              "---\n",
              "Signif. codes:  0 ‘***’ 0.001 ‘**’ 0.01 ‘*’ 0.05 ‘.’ 0.1 ‘ ’ 1\n",
              "\n",
              "Residual standard error: 1.556 on 15 degrees of freedom\n",
              "Multiple R-squared:  0.0003129, Adjusted R-squared:  -0.06633 \n",
              "F-statistic: 0.004695 on 1 and 15 DF,  p-value: 0.9463"
            ]
          }
        }
      ],
      "source": [
        "summary(lm(df_6$Low~df_6$High))"
      ],
      "id": "6c32d7f8-165f-4a0e-a645-ec4c05517ad2"
    },
    {
      "cell_type": "markdown",
      "metadata": {},
      "source": [
        "R결과 해석 - beta0은 유의미 하지만 beta1이 5%보다 유의확률이 커\n",
        "유의미하지 않다. - 모형의 설명력은 굉장히 낮았다. - 모형의 p값이\n",
        "0.05보다 커 유의미하지 않다.\n",
        "\n",
        "모형 정리\n",
        "\n",
        "$\\text{Low} = 35.106961 -0.007892\\text{Year}$ 모형의 의미 -\n",
        "$\\beta_0 = 35.106961$: 해당 모형에서 시간에 영향을 받지 않았을때의\n",
        "아마존 강의 최저 수위가 35.106961m이다. - $\\beta_1 = -0.007892$: 아마존\n",
        "강의 최저수위가 0.007892m만큼 감소한 것을 의미하는데, 이것은 해마다\n",
        "아마존 강의 흐르는 물이 감소하는 것을 의미하지만, 0에 가까운 값으로서\n",
        "영향이 미세해 보인다.\n",
        "\n",
        "$\\text{High} = -330.21235 + 0.18088\\text{Year}$ 모형의 의미 -\n",
        "$\\beta_0 = -330.21235$: 해당 모형에서 시간에 영향을 받지 않았을때의\n",
        "아마존 강의 최고 수위가 -330.21235m이다. - $\\beta_1 = 0.18088$: 아마존\n",
        "강의 최고수위가 0.18088m만큼 증가된 것을 의미하는데, 이것은 해마다\n",
        "아마존 강의 흐르는 물이 0.18088m 늘어난 것을 나타낼 수 있다. 이\n",
        "모형에서도 영향이 크게 끼치지 않는 것 같다.\n",
        "\n",
        "$\\text{High} = 26.40088 -0.01406\\text{Low}$ 모형의 의미 -\n",
        "$\\beta_0 = -26.40088$: 해당 모형에서 최저수위의 영향을 받지 않았을 때의\n",
        "아마존 강의 최고수위가 026.40088m 라는 것을 의미한다. -\n",
        "$\\beta_1 = -0.014061$: 아마존 강의 최고수위가 최저수위가 1m 증가함에\n",
        "따라 -0.0014061m 만큼 감소함을 의미한다. 아마존 강의 최저수위는\n",
        "최고수위에 미치는 영향이 미미해 보인다.\n",
        "\n",
        "## (3)\n",
        "\n",
        "이 자료를 근거로 우리는 삼림파괴가 아마존 강 수위의 변화를 일으킨다고 할\n",
        "수 있는가?\n",
        "\n",
        "**Answer**\n",
        "\n",
        "-   1970년대 이후 삼림파괴가 이루어졌다. 구간을 나누어 보지 않는 이상\n",
        "    삼림파괴가 아마존 강 수위의 변화를 일으켰다는 판단은 섣불러 보인다.\n",
        "-   모형만 봐도 시간과 아마존 강의 최고수위 및 최저수위의 영향과 아마존\n",
        "    강의 최저수위 및 최고수위 간의 영향이 거의 없어보인다. 모두 1도 넘지\n",
        "    않았기도 하다.\n",
        "-   따라서 삼림파괴가 아마존 강 수위의 변화를 일으켰다고 2번의 근거로는\n",
        "    할 수 없다.\n",
        "\n",
        "## (4)\n",
        "\n",
        "아마존강의 최저수위와 최고수위와의 산점도를 1960년대, 1970년대 자료별로\n",
        "다르게 그리고, 각각의 회귀선을 적합하시오.\n",
        "\n",
        "**Answer**\n",
        "\n",
        "1960년대 아마존강의 최저수위와 최고수위와의 산점도"
      ],
      "id": "db3c3f7c-89c1-420e-beff-30c7452a712c"
    },
    {
      "cell_type": "code",
      "execution_count": 114,
      "metadata": {},
      "outputs": [
        {
          "output_type": "display_data",
          "metadata": {},
          "data": {
            "image/png": "[encoded data removed]"
          }
        }
      ],
      "source": [
        "plot(df_6$High[df_6$Year<1970]~df_6$Low[df_6$Year<1970],\n",
        "     xlab = \"Low\",\n",
        "     ylab =\"High\",\n",
        "     pch  = 16,\n",
        "     cex  = 1)"
      ],
      "id": "a0cb35df-01b7-46e6-a946-483310a8871b"
    },
    {
      "cell_type": "markdown",
      "metadata": {},
      "source": [
        "1960년대 아마존강의 최저수위와 최고수위와의 회귀선"
      ],
      "id": "468d954d-417c-436a-a6f6-3cce0c2468b4"
    },
    {
      "cell_type": "code",
      "execution_count": 115,
      "metadata": {},
      "outputs": [],
      "source": [
        "df_6_1960 <- df_6[df_6$Year<1970,]"
      ],
      "id": "90d4bba0-6244-4419-8ca8-4d11f09ee84a"
    },
    {
      "cell_type": "code",
      "execution_count": 116,
      "metadata": {},
      "outputs": [],
      "source": [
        "df_6_1960$Low_barLow = df_6_1960$Low - mean(df_6_1960$Low)\n",
        "df_6_1960$High_barHigh = df_6_1960$High - mean(df_6_1960$High) "
      ],
      "id": "49ea4b86-dd27-4161-869c-e81f5ca60d3e"
    },
    {
      "cell_type": "markdown",
      "metadata": {},
      "source": [
        "-   $S_{xx}, S_{yy},S_{xy}$를 구해주기 위해\n",
        "    $x_i - \\bar{x}, y_i - \\bar{y}$를 구했다."
      ],
      "id": "7d1de39a-2eac-4ea1-a755-14fa1a821c3c"
    },
    {
      "cell_type": "code",
      "execution_count": 117,
      "metadata": {},
      "outputs": [],
      "source": [
        "df_6_1960$Low_barLow2 <- df_6_1960$Low_barLow^2\n",
        "df_6_1960$High_barHigh2 <- df_6_1960$High_barHigh^2\n",
        "df_6_1960$LowHigh <-df_6_1960$Low_barLow * df_6_1960$High_barHigh"
      ],
      "id": "5e33dbdd-50a2-45fb-ac4c-6eadb4de61dd"
    },
    {
      "cell_type": "markdown",
      "metadata": {},
      "source": [
        "-   $S_{xx}, S_{yy},S_{xy}$를 구해주었다."
      ],
      "id": "c9e923b6-32f5-4e5b-9c3c-cddedf68b269"
    },
    {
      "cell_type": "code",
      "execution_count": 118,
      "metadata": {},
      "outputs": [
        {
          "output_type": "display_data",
          "metadata": {},
          "data": {
            "text/html": [
              "<style>\n",
              ".dl-inline {width: auto; margin:0; padding: 0}\n",
              ".dl-inline>dt, .dl-inline>dd {float: none; width: auto; display: inline-block}\n",
              ".dl-inline>dt::after {content: \":\\0020\"; padding-right: .5ex}\n",
              ".dl-inline>dt:not(:first-of-type) {padding-left: .5ex}\n",
              "</style><dl class=dl-inline><dt>Year</dt><dd>15724</dd><dt>High</dt><dd>200.04</dd><dt>Low</dt><dd>155.1</dd><dt>Low_barLow</dt><dd>0</dd><dt>High_barHigh</dt><dd>0</dd><dt>Low_barLow2</dt><dd>15.09</dd><dt>High_barHigh2</dt><dd>2.392</dd><dt>LowHigh</dt><dd>-3.761</dd></dl>"
            ]
          }
        }
      ],
      "source": [
        "round(colSums(df_6_1960),3)"
      ],
      "id": "72d9df00-a8b1-4028-af74-beda469eb5fd"
    },
    {
      "cell_type": "markdown",
      "metadata": {},
      "source": [
        "$\\hat{\\beta_1} = \\frac{S_{xy}}{S_{xx}}$\n",
        "\n",
        "$\\hat{\\beta_0} = \\bar{y} - \\hat{\\beta_1}\\bar{x}$"
      ],
      "id": "c3142ff5-1694-4412-8b1b-64eae7ba30fd"
    },
    {
      "cell_type": "code",
      "execution_count": 119,
      "metadata": {},
      "outputs": [
        {
          "output_type": "display_data",
          "metadata": {},
          "data": {
            "text/html": [
              "<table class=\"dataframe\">\n",
              "<caption>A data.frame: 8 × 8</caption>\n",
              "<thead>\n",
              "    <tr><th></th><th scope=col>Year</th><th scope=col>High</th><th scope=col>Low</th><th scope=col>Low_barLow</th><th scope=col>High_barHigh</th><th scope=col>Low_barLow2</th><th scope=col>High_barHigh2</th><th scope=col>LowHigh</th></tr>\n",
              "    <tr><th></th><th scope=col>&lt;dbl&gt;</th><th scope=col>&lt;dbl&gt;</th><th scope=col>&lt;dbl&gt;</th><th scope=col>&lt;dbl&gt;</th><th scope=col>&lt;dbl&gt;</th><th scope=col>&lt;dbl&gt;</th><th scope=col>&lt;dbl&gt;</th><th scope=col>&lt;dbl&gt;</th></tr>\n",
              "</thead>\n",
              "<tbody>\n",
              "    <tr><th scope=row>1</th><td>1962</td><td>25.82</td><td>18.24</td><td>-1.1475</td><td> 0.815</td><td>1.31675625</td><td>0.664225</td><td>-0.9352125</td></tr>\n",
              "    <tr><th scope=row>2</th><td>1963</td><td>25.35</td><td>16.50</td><td>-2.8875</td><td> 0.345</td><td>8.33765625</td><td>0.119025</td><td>-0.9961875</td></tr>\n",
              "    <tr><th scope=row>3</th><td>1964</td><td>24.29</td><td>20.26</td><td> 0.8725</td><td>-0.715</td><td>0.76125625</td><td>0.511225</td><td>-0.6238375</td></tr>\n",
              "    <tr><th scope=row>4</th><td>1965</td><td>24.05</td><td>20.97</td><td> 1.5825</td><td>-0.955</td><td>2.50430625</td><td>0.912025</td><td>-1.5112875</td></tr>\n",
              "    <tr><th scope=row>5</th><td>1966</td><td>24.89</td><td>19.43</td><td> 0.0425</td><td>-0.115</td><td>0.00180625</td><td>0.013225</td><td>-0.0048875</td></tr>\n",
              "    <tr><th scope=row>6</th><td>1967</td><td>25.35</td><td>19.31</td><td>-0.0775</td><td> 0.345</td><td>0.00600625</td><td>0.119025</td><td>-0.0267375</td></tr>\n",
              "    <tr><th scope=row>7</th><td>1968</td><td>25.23</td><td>20.85</td><td> 1.4625</td><td> 0.225</td><td>2.13890625</td><td>0.050625</td><td> 0.3290625</td></tr>\n",
              "    <tr><th scope=row>8</th><td>1969</td><td>25.06</td><td>19.54</td><td> 0.1525</td><td> 0.055</td><td>0.02325625</td><td>0.003025</td><td> 0.0083875</td></tr>\n",
              "</tbody>\n",
              "</table>"
            ]
          }
        }
      ],
      "source": [
        "df_6_1960"
      ],
      "id": "ec6c1894-a9a4-48fe-9d34-58c99bde4e1d"
    },
    {
      "cell_type": "code",
      "execution_count": 120,
      "metadata": {},
      "outputs": [],
      "source": [
        "beta1_1960 <- as.numeric(colSums(df_6_1960)[8]/colSums(df_6_1960)[6])\n",
        "beta0_1960 <- mean(df_6_1960$High) - beta1_1960 *  mean(df_6_1960$Low)"
      ],
      "id": "d709aaf4-9f33-456a-872c-721edb579ec1"
    },
    {
      "cell_type": "code",
      "execution_count": 121,
      "metadata": {},
      "outputs": [
        {
          "output_type": "stream",
          "name": "stdout",
          "text": [
            "hat beta0 1960 =  29.8367\n",
            "hat beta1 1960 =  -0.2492"
          ]
        }
      ],
      "source": [
        "cat(\"hat beta0 1960 = \", round(beta0_1960,4))\n",
        "cat(\"\\nhat beta1 1960 = \", round(beta1_1960,4))"
      ],
      "id": "dbcf0614-a241-45f1-9aaf-116ef31e5b41"
    },
    {
      "cell_type": "code",
      "execution_count": 122,
      "metadata": {},
      "outputs": [
        {
          "output_type": "stream",
          "name": "stdout",
          "text": [
            "회귀선은 다음과 같았다. 1960 High =  29.8367  +  -0.2492 Low"
          ]
        }
      ],
      "source": [
        "cat(\"회귀선은 다음과 같았다. 1960 High = \",round(beta0_1960,4),\" + \", round(beta1_1960,4),\"Low\")"
      ],
      "id": "f04dc35c-03bc-490d-bdbd-7afdc430c251"
    },
    {
      "cell_type": "markdown",
      "metadata": {},
      "source": [
        "R결과 비교"
      ],
      "id": "06f50415-f2da-40d7-8511-eb8150918a2d"
    },
    {
      "cell_type": "code",
      "execution_count": 123,
      "metadata": {},
      "outputs": [
        {
          "output_type": "display_data",
          "metadata": {},
          "data": {
            "text/plain": [
              "\n",
              "Call:\n",
              "lm(formula = df_6_1960$High ~ df_6_1960$Low)\n",
              "\n",
              "Residuals:\n",
              "    Min      1Q  Median      3Q     Max \n",
              "-0.5606 -0.4053 -0.0057  0.3765  0.5895 \n",
              "\n",
              "Coefficients:\n",
              "              Estimate Std. Error t value Pr(>|t|)    \n",
              "(Intercept)    29.8367     2.4640  12.109 1.93e-05 ***\n",
              "df_6_1960$Low  -0.2492     0.1268  -1.966   0.0969 .  \n",
              "---\n",
              "Signif. codes:  0 ‘***’ 0.001 ‘**’ 0.01 ‘*’ 0.05 ‘.’ 0.1 ‘ ’ 1\n",
              "\n",
              "Residual standard error: 0.4925 on 6 degrees of freedom\n",
              "Multiple R-squared:  0.3918,    Adjusted R-squared:  0.2904 \n",
              "F-statistic: 3.864 on 1 and 6 DF,  p-value: 0.09691"
            ]
          }
        }
      ],
      "source": [
        "summary(lm(df_6_1960$High~df_6_1960$Low))"
      ],
      "id": "1ee6180c-dc93-4f7b-a10a-e7606d620743"
    },
    {
      "cell_type": "code",
      "execution_count": 124,
      "metadata": {},
      "outputs": [],
      "source": [
        "SST_1960 = sum((df_6_1960$High - mean(df_6_1960$High))^2)"
      ],
      "id": "03ced48e-ca92-4d3d-9a7c-bd3cdb9af978"
    },
    {
      "cell_type": "code",
      "execution_count": 125,
      "metadata": {},
      "outputs": [],
      "source": [
        "SSR_1960 = sum( ( (29.8367  +  -0.2492*df_6_1960$Low)-mean(df_6_1960$High) )^2 )"
      ],
      "id": "d20d8810-5366-4e72-8fdf-09cb3728e862"
    },
    {
      "cell_type": "code",
      "execution_count": 126,
      "metadata": {},
      "outputs": [],
      "source": [
        "SSE_1960 = sum( ( df_6_1960$High-(29.8367  +  -0.2492*df_6_1960$Low))^2 )"
      ],
      "id": "44e886ac-1c9e-4637-b5c1-46a174997d0a"
    },
    {
      "cell_type": "code",
      "execution_count": 127,
      "metadata": {},
      "outputs": [
        {
          "output_type": "stream",
          "name": "stdout",
          "text": [
            "1960 SST =  2.3924 , df = 7\n",
            "1960 SSR =  0.9370965 , df = 1\n",
            "1960 SSE =  1.455164 , df = 6"
          ]
        }
      ],
      "source": [
        "cat(\"1960 SST = \", SST_1960,\", df = 7\")\n",
        "cat(\"\\n1960 SSR = \", SSR_1960,\", df = 1\")\n",
        "cat(\"\\n1960 SSE = \", SSE_1960, \", df = 6\")"
      ],
      "id": "32200200-1f29-444e-8c0d-c284c244d18c"
    },
    {
      "cell_type": "markdown",
      "metadata": {},
      "source": [
        "R결과 비교"
      ],
      "id": "574fbb75-77a3-4858-abf3-7412e726c1e7"
    },
    {
      "cell_type": "code",
      "execution_count": 128,
      "metadata": {},
      "outputs": [
        {
          "output_type": "display_data",
          "metadata": {},
          "data": {
            "text/html": [
              "<table class=\"dataframe\">\n",
              "<caption>A anova: 2 × 5</caption>\n",
              "<thead>\n",
              "    <tr><th></th><th scope=col>Df</th><th scope=col>Sum Sq</th><th scope=col>Mean Sq</th><th scope=col>F value</th><th scope=col>Pr(&gt;F)</th></tr>\n",
              "    <tr><th></th><th scope=col>&lt;int&gt;</th><th scope=col>&lt;dbl&gt;</th><th scope=col>&lt;dbl&gt;</th><th scope=col>&lt;dbl&gt;</th><th scope=col>&lt;dbl&gt;</th></tr>\n",
              "</thead>\n",
              "<tbody>\n",
              "    <tr><th scope=row>df_6_1960$Low</th><td>1</td><td>0.9372373</td><td>0.9372373</td><td>3.864464</td><td>0.09690958</td></tr>\n",
              "    <tr><th scope=row>Residuals</th><td>6</td><td>1.4551627</td><td>0.2425271</td><td>      NA</td><td>        NA</td></tr>\n",
              "</tbody>\n",
              "</table>"
            ]
          }
        }
      ],
      "source": [
        "anova(lm(df_6_1960$High~df_6_1960$Low))"
      ],
      "id": "5a872cdf-2a42-4958-ae8b-de4845e5d4da"
    },
    {
      "cell_type": "markdown",
      "metadata": {},
      "source": [
        "1970년대 아마존강의 최저수위와 최고수위와의 산점도"
      ],
      "id": "5763e57f-2ec5-439e-9c48-9792c0af2c51"
    },
    {
      "cell_type": "code",
      "execution_count": 129,
      "metadata": {},
      "outputs": [
        {
          "output_type": "display_data",
          "metadata": {},
          "data": {
            "image/png": "[encoded data removed]"
          }
        }
      ],
      "source": [
        "plot(df_6$High[df_6$Year>=1970]~df_6$Low[df_6$Year>=1970],\n",
        "     xlab = \"Low\",\n",
        "     ylab =\"High\",\n",
        "     pch  = 16,\n",
        "     cex  = 1)"
      ],
      "id": "76f9c0a4-a505-4d85-9d39-85c25e6211a3"
    },
    {
      "cell_type": "markdown",
      "metadata": {},
      "source": [
        "1970년대 아마존강의 최저수위와 최고수위와의 회귀선"
      ],
      "id": "31d9d2ae-6e2f-4e29-993a-fec3dd7e4d0c"
    },
    {
      "cell_type": "code",
      "execution_count": 130,
      "metadata": {},
      "outputs": [],
      "source": [
        "df_6_1970 <- df_6[df_6$Year>=1970,]"
      ],
      "id": "bd0013a4-6880-458b-8e97-f5d167ae2a84"
    },
    {
      "cell_type": "code",
      "execution_count": 131,
      "metadata": {},
      "outputs": [],
      "source": [
        "df_6_1970$Low_barLow = df_6_1970$Low - mean(df_6_1970$Low)\n",
        "df_6_1970$High_barHigh = df_6_1970$High - mean(df_6_1970$High) "
      ],
      "id": "0bc95161-8616-4390-b7be-bda7cbbc51bd"
    },
    {
      "cell_type": "markdown",
      "metadata": {},
      "source": [
        "-   $S_{xx}, S_{yy},S_{xy}$를 구해주기 위해\n",
        "    $x_i - \\bar{x}, y_i - \\bar{y}$를 구했다."
      ],
      "id": "9cad780c-0245-49d1-a8ac-1487d3bdaf15"
    },
    {
      "cell_type": "code",
      "execution_count": 132,
      "metadata": {},
      "outputs": [],
      "source": [
        "df_6_1970$Low_barLow2 <- df_6_1970$Low_barLow^2\n",
        "df_6_1970$High_barHigh2 <- df_6_1970$High_barHigh^2\n",
        "df_6_1970$LowHigh <-df_6_1970$Low_barLow * df_6_1970$High_barHigh"
      ],
      "id": "bfcf4f8f-a0af-4a90-bf20-4d723199c87f"
    },
    {
      "cell_type": "markdown",
      "metadata": {},
      "source": [
        "-   $S_{xx}, S_{yy},S_{xy}$를 구해주었다."
      ],
      "id": "1b137553-fc3c-4c59-ab4a-0c20b04d8ce1"
    },
    {
      "cell_type": "code",
      "execution_count": 133,
      "metadata": {},
      "outputs": [
        {
          "output_type": "display_data",
          "metadata": {},
          "data": {
            "text/html": [
              "<style>\n",
              ".dl-inline {width: auto; margin:0; padding: 0}\n",
              ".dl-inline>dt, .dl-inline>dd {float: none; width: auto; display: inline-block}\n",
              ".dl-inline>dt::after {content: \":\\0020\"; padding-right: .5ex}\n",
              ".dl-inline>dt:not(:first-of-type) {padding-left: .5ex}\n",
              "</style><dl class=dl-inline><dt>Year</dt><dd>17766</dd><dt>High</dt><dd>244.1</dd><dt>Low</dt><dd>177.41</dd><dt>Low_barLow</dt><dd>0</dd><dt>High_barHigh</dt><dd>0</dd><dt>Low_barLow2</dt><dd>20.79</dd><dt>High_barHigh2</dt><dd>1.574</dd><dt>LowHigh</dt><dd>0.338</dd></dl>"
            ]
          }
        }
      ],
      "source": [
        "round(colSums(df_6_1970),3)"
      ],
      "id": "a25e89d0-fdfc-4ca2-902b-6214f8593561"
    },
    {
      "cell_type": "markdown",
      "metadata": {},
      "source": [
        "$\\hat{\\beta_1} = \\frac{S_{xy}}{S_{xx}}$\n",
        "\n",
        "$\\hat{\\beta_0} = \\bar{y} - \\hat{\\beta_1}\\bar{x}$"
      ],
      "id": "72c65b83-89c6-4d66-b5fe-b66132639c59"
    },
    {
      "cell_type": "code",
      "execution_count": 134,
      "metadata": {},
      "outputs": [
        {
          "output_type": "display_data",
          "metadata": {},
          "data": {
            "text/html": [
              "<table class=\"dataframe\">\n",
              "<caption>A data.frame: 9 × 8</caption>\n",
              "<thead>\n",
              "    <tr><th></th><th scope=col>Year</th><th scope=col>High</th><th scope=col>Low</th><th scope=col>Low_barLow</th><th scope=col>High_barHigh</th><th scope=col>Low_barLow2</th><th scope=col>High_barHigh2</th><th scope=col>LowHigh</th></tr>\n",
              "    <tr><th></th><th scope=col>&lt;dbl&gt;</th><th scope=col>&lt;dbl&gt;</th><th scope=col>&lt;dbl&gt;</th><th scope=col>&lt;dbl&gt;</th><th scope=col>&lt;dbl&gt;</th><th scope=col>&lt;dbl&gt;</th><th scope=col>&lt;dbl&gt;</th><th scope=col>&lt;dbl&gt;</th></tr>\n",
              "</thead>\n",
              "<tbody>\n",
              "    <tr><th scope=row>9</th><td>1970</td><td>27.13</td><td>20.49</td><td> 0.7777778</td><td> 0.007777778</td><td>0.60493827</td><td>6.049383e-05</td><td> 0.006049383</td></tr>\n",
              "    <tr><th scope=row>10</th><td>1971</td><td>27.36</td><td>21.91</td><td> 2.1977778</td><td> 0.237777778</td><td>4.83022716</td><td>5.653827e-02</td><td> 0.522582716</td></tr>\n",
              "    <tr><th scope=row>11</th><td>1972</td><td>26.65</td><td>22.51</td><td> 2.7977778</td><td>-0.472222222</td><td>7.82756049</td><td>2.229938e-01</td><td>-1.321172840</td></tr>\n",
              "    <tr><th scope=row>12</th><td>1973</td><td>27.13</td><td>18.81</td><td>-0.9022222</td><td> 0.007777778</td><td>0.81400494</td><td>6.049383e-05</td><td>-0.007017284</td></tr>\n",
              "    <tr><th scope=row>13</th><td>1974</td><td>27.49</td><td>19.42</td><td>-0.2922222</td><td> 0.367777778</td><td>0.08539383</td><td>1.352605e-01</td><td>-0.107472840</td></tr>\n",
              "    <tr><th scope=row>14</th><td>1975</td><td>27.08</td><td>19.10</td><td>-0.6122222</td><td>-0.042222222</td><td>0.37481605</td><td>1.782716e-03</td><td> 0.025849383</td></tr>\n",
              "    <tr><th scope=row>15</th><td>1976</td><td>27.51</td><td>18.80</td><td>-0.9122222</td><td> 0.387777778</td><td>0.83214938</td><td>1.503716e-01</td><td>-0.353739506</td></tr>\n",
              "    <tr><th scope=row>16</th><td>1977</td><td>27.54</td><td>18.80</td><td>-0.9122222</td><td> 0.417777778</td><td>0.83214938</td><td>1.745383e-01</td><td>-0.381106173</td></tr>\n",
              "    <tr><th scope=row>17</th><td>1978</td><td>26.21</td><td>17.57</td><td>-2.1422222</td><td>-0.912222222</td><td>4.58911605</td><td>8.321494e-01</td><td> 1.954182716</td></tr>\n",
              "</tbody>\n",
              "</table>"
            ]
          }
        }
      ],
      "source": [
        "df_6_1970"
      ],
      "id": "9ec3c249-9932-4b32-8581-3bec212b2eb7"
    },
    {
      "cell_type": "code",
      "execution_count": 135,
      "metadata": {},
      "outputs": [],
      "source": [
        "beta1_1970 <- as.numeric(colSums(df_6_1970)[8]/colSums(df_6_1970)[6])\n",
        "beta0_1970 <- mean(df_6_1970$High) - beta1_1970 *  mean(df_6_1970$Low)"
      ],
      "id": "6c9ba385-bc99-4484-a297-c6de595660b2"
    },
    {
      "cell_type": "code",
      "execution_count": 136,
      "metadata": {},
      "outputs": [
        {
          "output_type": "stream",
          "name": "stdout",
          "text": [
            "hat beta0 1970 =  26.8016\n",
            "hat beta1 1970 =  0.0163"
          ]
        }
      ],
      "source": [
        "cat(\"hat beta0 1970 = \", round(beta0_1970,4))\n",
        "cat(\"\\nhat beta1 1970 = \", round(beta1_1970,4))"
      ],
      "id": "a4fe7919-008a-47d0-b4f5-df7f37f59b05"
    },
    {
      "cell_type": "markdown",
      "metadata": {},
      "source": [
        "R결과 비교"
      ],
      "id": "e6f095f7-3a23-49dd-82da-aa31eb5d2671"
    },
    {
      "cell_type": "code",
      "execution_count": 137,
      "metadata": {},
      "outputs": [
        {
          "output_type": "display_data",
          "metadata": {},
          "data": {
            "text/plain": [
              "\n",
              "Call:\n",
              "lm(formula = df_6_1970$High ~ df_6_1970$Low)\n",
              "\n",
              "Residuals:\n",
              "     Min       1Q   Median       3Q      Max \n",
              "-0.87738 -0.03226  0.02245  0.37253  0.43262 \n",
              "\n",
              "Coefficients:\n",
              "              Estimate Std. Error t value Pr(>|t|)    \n",
              "(Intercept)   26.80160    2.05235  13.059  3.6e-06 ***\n",
              "df_6_1970$Low  0.01627    0.10381   0.157     0.88    \n",
              "---\n",
              "Signif. codes:  0 ‘***’ 0.001 ‘**’ 0.01 ‘*’ 0.05 ‘.’ 0.1 ‘ ’ 1\n",
              "\n",
              "Residual standard error: 0.4733 on 7 degrees of freedom\n",
              "Multiple R-squared:  0.003495,  Adjusted R-squared:  -0.1389 \n",
              "F-statistic: 0.02455 on 1 and 7 DF,  p-value: 0.8799"
            ]
          }
        }
      ],
      "source": [
        "summary(lm(df_6_1970$High~df_6_1970$Low))"
      ],
      "id": "06acf25f-cf26-4ac8-bcec-c3fb0168d6bd"
    },
    {
      "cell_type": "code",
      "execution_count": 138,
      "metadata": {},
      "outputs": [
        {
          "output_type": "stream",
          "name": "stdout",
          "text": [
            "회귀선은 다음과 같았다. 1970 High =  26.8016  +  0.0163 Low"
          ]
        }
      ],
      "source": [
        "cat(\"회귀선은 다음과 같았다. 1970 High = \",round(beta0_1970,4),\" + \", round(beta1_1970,4),\"Low\")"
      ],
      "id": "67afc7b5-5328-43b9-8f96-260fb8735fe7"
    },
    {
      "cell_type": "code",
      "execution_count": 139,
      "metadata": {},
      "outputs": [],
      "source": [
        "SST_1970 = sum((df_6_1970$High - mean(df_6_1970$High))^2)"
      ],
      "id": "24807aed-6a2f-4948-a3fa-bb043701e42a"
    },
    {
      "cell_type": "code",
      "execution_count": 140,
      "metadata": {},
      "outputs": [],
      "source": [
        "SSR_1970 = sum( ( (26.8016  +  0.0163 *df_6_1970$Low)-mean(df_6_1970$High) )^2 )"
      ],
      "id": "3f24dfc8-0755-44a1-9ed9-6c3b52d720ee"
    },
    {
      "cell_type": "code",
      "execution_count": 141,
      "metadata": {},
      "outputs": [],
      "source": [
        "SSE_1970 = sum( ( df_6_1970$High-(26.8016  +  0.0163 *df_6_1970$Low))^2 )"
      ],
      "id": "44114157-dd50-4246-8698-5d3ae550d1ed"
    },
    {
      "cell_type": "code",
      "execution_count": 142,
      "metadata": {},
      "outputs": [
        {
          "output_type": "stream",
          "name": "stdout",
          "text": [
            "1970 SST =  1.573756 , df = 8\n",
            "1970 SSR =  0.005528037 , df = 1\n",
            "1970 SSE =  1.56826 , df = 7"
          ]
        }
      ],
      "source": [
        "cat(\"1970 SST = \", SST_1970,\", df = 8\")\n",
        "cat(\"\\n1970 SSR = \", SSR_1970,\", df = 1\")\n",
        "cat(\"\\n1970 SSE = \", SSE_1970, \", df = 7\")"
      ],
      "id": "4038a8d2-ac57-49a3-a43d-11fdb0cb7aab"
    },
    {
      "cell_type": "markdown",
      "metadata": {},
      "source": [
        "R결과 비교"
      ],
      "id": "8c12fac8-aa42-4d21-9ee9-83c03dbd7da9"
    },
    {
      "cell_type": "code",
      "execution_count": 143,
      "metadata": {},
      "outputs": [
        {
          "output_type": "display_data",
          "metadata": {},
          "data": {
            "text/html": [
              "<table class=\"dataframe\">\n",
              "<caption>A anova: 2 × 5</caption>\n",
              "<thead>\n",
              "    <tr><th></th><th scope=col>Df</th><th scope=col>Sum Sq</th><th scope=col>Mean Sq</th><th scope=col>F value</th><th scope=col>Pr(&gt;F)</th></tr>\n",
              "    <tr><th></th><th scope=col>&lt;int&gt;</th><th scope=col>&lt;dbl&gt;</th><th scope=col>&lt;dbl&gt;</th><th scope=col>&lt;dbl&gt;</th><th scope=col>&lt;dbl&gt;</th></tr>\n",
              "</thead>\n",
              "<tbody>\n",
              "    <tr><th scope=row>df_6_1970$Low</th><td>1</td><td>0.005500107</td><td>0.005500107</td><td>0.02455005</td><td>0.8799168</td></tr>\n",
              "    <tr><th scope=row>Residuals</th><td>7</td><td>1.568255449</td><td>0.224036493</td><td>        NA</td><td>       NA</td></tr>\n",
              "</tbody>\n",
              "</table>"
            ]
          }
        }
      ],
      "source": [
        "anova(lm(df_6_1970$High~df_6_1970$Low))"
      ],
      "id": "26ae14d6-a96a-4dd2-aa5d-38c4b4f46298"
    },
    {
      "cell_type": "markdown",
      "metadata": {},
      "source": [
        "## (5)\n",
        "\n",
        "아마존강의 최저수위와 최고수위와의 관계가 1960년대와 1970년대에 따라\n",
        "차이가 있는가? 두 회귀모형의 동일성 여부를 유의수준 $\\alpha = 0.01$에서\n",
        "검정하시오.\n",
        "\n",
        "**Answer**\n",
        "\n",
        "가설\n",
        "\n",
        "$H_0 : \\beta_{01} = \\beta_{02} \\text{ and } \\beta_{11} = \\beta_{12}$\n",
        "\n",
        "$H_1 : \\beta_{01} \\neq \\beta_{02} \\text{ pr } \\beta_{11} \\neq \\beta_{12}$\n",
        "\n",
        "(2)에서 구했던 것\n",
        "\n",
        "$\\text{High} = 26.40088 -0.01406\\text{Low}$"
      ],
      "id": "fe71c17e-fbdb-4ff1-998f-403599ee5e51"
    },
    {
      "cell_type": "code",
      "execution_count": 144,
      "metadata": {},
      "outputs": [],
      "source": [
        "SST = sum((df_6$High - mean(df_6$High))^2)"
      ],
      "id": "6d5dff23-6d4f-498e-b090-1c3e8f9c8fc5"
    },
    {
      "cell_type": "code",
      "execution_count": 145,
      "metadata": {},
      "outputs": [],
      "source": [
        "SSR = sum( ( (26.40088 - 0.01406 *df_6$Low)-mean(df_6$High) )^2 )"
      ],
      "id": "3afe658e-d971-4575-89c7-1236352ad2a4"
    },
    {
      "cell_type": "code",
      "execution_count": 146,
      "metadata": {},
      "outputs": [],
      "source": [
        "SSE = sum( ( df_6$High-(26.40088 - 0.01406 *df_6$Low))^2 )"
      ],
      "id": "1b3377ae-404e-4776-8d1f-c1ae7a7cabb5"
    },
    {
      "cell_type": "code",
      "execution_count": 147,
      "metadata": {},
      "outputs": [
        {
          "output_type": "stream",
          "name": "stdout",
          "text": [
            "SST =  22.95141 , df = 16\n",
            "SSR =  0.007181232 , df = 1\n",
            "SSE =  22.94423 , df = 15"
          ]
        }
      ],
      "source": [
        "cat(\"SST = \", SST,\", df = 16\")\n",
        "cat(\"\\nSSR = \", SSR,\", df = 1\")\n",
        "cat(\"\\nSSE = \", SSE, \", df = 15\")"
      ],
      "id": "29b30ed8-7878-4c85-b119-f466a647c62c"
    },
    {
      "cell_type": "markdown",
      "metadata": {},
      "source": [
        "R결과와 비교"
      ],
      "id": "cc8c53c7-ba60-4f58-8b86-7d266d7b322b"
    },
    {
      "cell_type": "code",
      "execution_count": 148,
      "metadata": {},
      "outputs": [
        {
          "output_type": "display_data",
          "metadata": {},
          "data": {
            "text/html": [
              "<table class=\"dataframe\">\n",
              "<caption>A anova: 2 × 5</caption>\n",
              "<thead>\n",
              "    <tr><th></th><th scope=col>Df</th><th scope=col>Sum Sq</th><th scope=col>Mean Sq</th><th scope=col>F value</th><th scope=col>Pr(&gt;F)</th></tr>\n",
              "    <tr><th></th><th scope=col>&lt;int&gt;</th><th scope=col>&lt;dbl&gt;</th><th scope=col>&lt;dbl&gt;</th><th scope=col>&lt;dbl&gt;</th><th scope=col>&lt;dbl&gt;</th></tr>\n",
              "</thead>\n",
              "<tbody>\n",
              "    <tr><th scope=row>df_6$Low</th><td> 1</td><td> 0.007180811</td><td>0.007180811</td><td>0.00469452</td><td>0.9462794</td></tr>\n",
              "    <tr><th scope=row>Residuals</th><td>15</td><td>22.944230954</td><td>1.529615397</td><td>        NA</td><td>       NA</td></tr>\n",
              "</tbody>\n",
              "</table>"
            ]
          }
        }
      ],
      "source": [
        "anova(lm(df_6$High~df_6$Low))"
      ],
      "id": "fc63afb6-ca82-4358-a51c-089aabbef288"
    },
    {
      "cell_type": "markdown",
      "metadata": {},
      "source": [
        "$\\text{1960 High} = 29.8367 + -0.2492\\text{Low}$"
      ],
      "id": "23efc12f-72d3-42af-bd2a-6d4bb7192352"
    },
    {
      "cell_type": "code",
      "execution_count": 149,
      "metadata": {},
      "outputs": [
        {
          "output_type": "stream",
          "name": "stdout",
          "text": [
            "1960 SST =  2.3924 , df = 7\n",
            "1960 SSR =  0.9370965 , df = 1\n",
            "1960 SSE =  1.455164 , df = 6"
          ]
        }
      ],
      "source": [
        "cat(\"1960 SST = \", SST_1960,\", df = 7\")\n",
        "cat(\"\\n1960 SSR = \", SSR_1960,\", df = 1\")\n",
        "cat(\"\\n1960 SSE = \", SSE_1960, \", df = 6\")"
      ],
      "id": "1197f2f9-1bcc-49b7-9342-57c75ded8b9b"
    },
    {
      "cell_type": "markdown",
      "metadata": {},
      "source": [
        "$\\text{1970 High} = 26.8016 + 0.0163\\text{Low}$"
      ],
      "id": "08227b50-0bb1-4719-935f-f58a5fd2e497"
    },
    {
      "cell_type": "code",
      "execution_count": 150,
      "metadata": {},
      "outputs": [
        {
          "output_type": "stream",
          "name": "stdout",
          "text": [
            "1970 SST =  1.573756 , df = 8\n",
            "1970 SSR =  0.005528037 , df = 1\n",
            "1970 SSE =  1.56826 , df = 7"
          ]
        }
      ],
      "source": [
        "cat(\"1970 SST = \", SST_1970,\", df = 8\")\n",
        "cat(\"\\n1970 SSR = \", SSR_1970,\", df = 1\")\n",
        "cat(\"\\n1970 SSE = \", SSE_1970, \", df = 7\")"
      ],
      "id": "b797d4a1-4857-4df5-af55-53d25a5d6809"
    },
    {
      "cell_type": "markdown",
      "metadata": {},
      "source": [
        "검정통계량\n",
        "\n",
        "$F_0 = \\frac{SSE(R) - SSE(F)}{df_R} - \\times \\frac{df_F}{SSE(F)}$"
      ],
      "id": "e42f590a-e4df-4f1d-86cc-b57a4dce4078"
    },
    {
      "cell_type": "code",
      "execution_count": 151,
      "metadata": {},
      "outputs": [],
      "source": [
        "SSE_F = SSE_1960 + SSE_1970\n",
        "df_F = 6 + 7"
      ],
      "id": "e58fd71c-0ca6-42fb-9a65-c25651271052"
    },
    {
      "cell_type": "code",
      "execution_count": 152,
      "metadata": {},
      "outputs": [],
      "source": [
        "SSE_R = SSE\n",
        "df_R = 15"
      ],
      "id": "32bca694-6569-4de1-9142-47b1711d64c6"
    },
    {
      "cell_type": "code",
      "execution_count": 153,
      "metadata": {},
      "outputs": [
        {
          "output_type": "display_data",
          "metadata": {},
          "data": {
            "text/html": [
              "42.8273639841797"
            ]
          }
        }
      ],
      "source": [
        "F_0 = (SSE_R - SSE_F)/(df_R - df_F) / (SSE_F/df_F)\n",
        "F_0"
      ],
      "id": "235d19c3-cd08-41b2-aca8-3e5bc46fd483"
    },
    {
      "cell_type": "code",
      "execution_count": 154,
      "metadata": {},
      "outputs": [
        {
          "output_type": "display_data",
          "metadata": {},
          "data": {
            "text/html": [
              "2"
            ]
          }
        }
      ],
      "source": [
        "df_R - df_F"
      ],
      "id": "60adcb81-bbe1-404d-b473-5d5a42ad6eb1"
    },
    {
      "cell_type": "code",
      "execution_count": 155,
      "metadata": {},
      "outputs": [
        {
          "output_type": "display_data",
          "metadata": {},
          "data": {
            "text/html": [
              "13"
            ]
          }
        }
      ],
      "source": [
        "df_F"
      ],
      "id": "ab03f7fe-9a3e-4069-b3b9-0ddb728109c4"
    },
    {
      "cell_type": "code",
      "execution_count": 156,
      "metadata": {},
      "outputs": [],
      "source": [
        "F_stan = qf(0.95,2,13)"
      ],
      "id": "b72a5d10-a4c1-45b7-a99c-d6bb73457ab5"
    },
    {
      "cell_type": "code",
      "execution_count": 157,
      "metadata": {},
      "outputs": [
        {
          "output_type": "stream",
          "name": "stdout",
          "text": [
            "42.82736  는 유의수준 0.05에서 F값  3.805565  보다 크다.\n",
            "따라서 귀무가설을 기각하였고, 두 회귀모형은 beta0가 다르거나\n",
            "혹은 beta1이 다르거나 혹은 beta0,beta1 모두가 다르다."
          ]
        }
      ],
      "source": [
        "cat(F_0, \" 는 유의수준 0.05에서 F값 \", F_stan , \" 보다 크다.\")\n",
        "\n",
        "cat(\"\\n따라서 귀무가설을 기각하였고, 두 회귀모형은 beta0가 다르거나\")\n",
        "\n",
        "cat(\"\\n혹은 beta1이 다르거나 혹은 beta0,beta1 모두가 다르다.\")"
      ],
      "id": "b24c4312-a141-43fd-97c9-602c55f726b5"
    },
    {
      "cell_type": "markdown",
      "metadata": {},
      "source": [
        "## (6)\n",
        "\n",
        "(4)에서 구한 두 회귀모형의 기울기가 같은지 유의수준 $\\alpha = 0.01$에서\n",
        "검정하시오.\n",
        "\n",
        "**Answer**\n",
        "\n",
        "기울기 비교에 대한 가설\n",
        "\n",
        "$H_0 : \\beta_{11} = \\beta_{12} \\text{ vs. } H_1 : \\beta_{11} \\neq \\beta_{12}$\n",
        "\n",
        "검정통계량\n",
        "\n",
        "$t_0 = \\frac{ \\hat{\\beta}_{11} - \\hat{\\beta}_{12} }{ \\sqrt{ \\hat{Var}( \\hat{\\beta}_{11} - \\hat{\\beta}_{12} ) } }$\n",
        "\n",
        "$\\text{Degree of Freedom} = t((n_1 - 1) + (n_2 - 1))$\n",
        "\n",
        "$\\hat{Var}( \\hat{\\beta}_{11} - \\hat{\\beta}_{12} ) = MSE(F) [\\frac{1}{\\sum(x_{1j} - \\bar{x}_1)^2} + \\frac{1}{\\sum(x_{2j} - \\bar{x}_2)^2}]$"
      ],
      "id": "755e59f8-1759-4155-8cf3-184e1a348e4f"
    },
    {
      "cell_type": "code",
      "execution_count": 158,
      "metadata": {},
      "outputs": [
        {
          "output_type": "display_data",
          "metadata": {},
          "data": {
            "text/html": [
              "-0.2492"
            ]
          }
        }
      ],
      "source": [
        "round(beta1_1960,4)"
      ],
      "id": "806949e8-e37b-4f7d-8a26-9a42c9dc4cbe"
    },
    {
      "cell_type": "code",
      "execution_count": 159,
      "metadata": {},
      "outputs": [
        {
          "output_type": "display_data",
          "metadata": {},
          "data": {
            "text/html": [
              "0.0163"
            ]
          }
        }
      ],
      "source": [
        "round(beta1_1970,4)"
      ],
      "id": "22da8ae8-7b98-4c2c-a352-f6710456f1ab"
    },
    {
      "cell_type": "code",
      "execution_count": 160,
      "metadata": {},
      "outputs": [
        {
          "output_type": "display_data",
          "metadata": {},
          "data": {
            "text/html": [
              "3.02342329210101"
            ]
          }
        }
      ],
      "source": [
        "SSE_F"
      ],
      "id": "351dd035-8837-4a77-95bd-9c3c2faf15b3"
    },
    {
      "cell_type": "code",
      "execution_count": 161,
      "metadata": {},
      "outputs": [
        {
          "output_type": "display_data",
          "metadata": {},
          "data": {
            "text/html": [
              "0.232571022469308"
            ]
          }
        }
      ],
      "source": [
        "MSE_F = SSE_F / df_F\n",
        "MSE_F"
      ],
      "id": "ad51e1b6-751a-4524-b306-5c18bba93d5a"
    },
    {
      "cell_type": "code",
      "execution_count": 162,
      "metadata": {},
      "outputs": [
        {
          "output_type": "display_data",
          "metadata": {},
          "data": {
            "text/html": [
              "15.08995"
            ]
          }
        }
      ],
      "source": [
        "sum(df_6_1960$Low_barLow2)"
      ],
      "id": "c3ca41cb-9619-4975-ac06-5748833a8a19"
    },
    {
      "cell_type": "code",
      "execution_count": 163,
      "metadata": {},
      "outputs": [
        {
          "output_type": "display_data",
          "metadata": {},
          "data": {
            "text/html": [
              "20.7903555555556"
            ]
          }
        }
      ],
      "source": [
        "sum(df_6_1970$Low_barLow2)"
      ],
      "id": "3ba80e22-f797-43ec-8556-fd4187b93609"
    },
    {
      "cell_type": "code",
      "execution_count": 164,
      "metadata": {},
      "outputs": [
        {
          "output_type": "display_data",
          "metadata": {},
          "data": {
            "text/html": [
              "0.026598798385161"
            ]
          }
        }
      ],
      "source": [
        "var_diff = MSE_F * (1/sum(df_6_1960$Low_barLow2) + 1/sum(df_6_1970$Low_barLow2))\n",
        "var_diff"
      ],
      "id": "8f7cb24c-8f5c-4539-8d8c-96dd50e72f57"
    },
    {
      "cell_type": "code",
      "execution_count": 165,
      "metadata": {},
      "outputs": [
        {
          "output_type": "display_data",
          "metadata": {},
          "data": {
            "text/html": [
              "-1.62782282241728"
            ]
          }
        }
      ],
      "source": [
        "t_0 = (beta1_1960 - beta1_1970)/sqrt(var_diff)\n",
        "t_0"
      ],
      "id": "109fc6bc-0a32-4549-90e9-14dce1ad4215"
    },
    {
      "cell_type": "code",
      "execution_count": 166,
      "metadata": {},
      "outputs": [
        {
          "output_type": "display_data",
          "metadata": {},
          "data": {
            "text/html": [
              "3.01227583871658"
            ]
          }
        }
      ],
      "source": [
        "qt(0.995,df_F)"
      ],
      "id": "d9cb31af-1c0d-4fca-8bc5-c546d2711f17"
    },
    {
      "cell_type": "code",
      "execution_count": 167,
      "metadata": {},
      "outputs": [
        {
          "output_type": "stream",
          "name": "stdout",
          "text": [
            "-1.627823 는  3.012276 보다 작다.\n",
            "따라서 유의수준 1%에서 귀무가설을 기각하지 못하여 두 회귀모형의 기울기가 같다고 할 수 있다."
          ]
        }
      ],
      "source": [
        "cat(t_0,\"는 \",qt(0.995,df_F),\"보다 작다.\")\n",
        "\n",
        "cat(\"\\n따라서 유의수준 1%에서 귀무가설을 기각하지 못하여 두 회귀모형의 기울기가 같다고 할 수 있다.\")"
      ],
      "id": "50adbd37-73b5-41a9-bbd2-cd8a80afa52c"
    },
    {
      "cell_type": "markdown",
      "metadata": {},
      "source": [
        "$H_0 : \\beta_{11} = \\beta_{12}$ 채택"
      ],
      "id": "f2621af0-88d1-4903-9e84-d56101bd226b"
    }
  ],
  "nbformat": 4,
  "nbformat_minor": 5,
  "metadata": {
    "kernelspec": {
      "name": "ir",
      "display_name": "R",
      "language": "R"
    },
    "language_info": {
      "name": "R",
      "codemirror_mode": "r",
      "file_extension": ".r",
      "mimetype": "text/x-r-source",
      "pygments_lexer": "r",
      "version": "4.1.2"
    }
  }
}