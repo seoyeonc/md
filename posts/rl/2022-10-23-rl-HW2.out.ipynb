{
  "cells": [
    {
      "cell_type": "markdown",
      "metadata": {},
      "source": [
        "# Regression HW 2\n",
        "\n",
        "SEOYEON CHOI  \n",
        "2022-10-23\n",
        "\n",
        "고급회귀분석 과제, CH03,04,05\n",
        "\n",
        "------------------------------------------------------------------------\n",
        "\n",
        "고급회귀분석 두번째 과제입니다.\n",
        "\n",
        "제출 기한 : 10월 23일\n",
        "\n",
        "(마지막 문제는 R을 이용해서 풀이해도 됨)\n",
        "\n",
        "제출 방법\n",
        "\n",
        "-   직접 제출(607호) 도 가능하지만,\n",
        "\n",
        "-   문서 작성 후 pdf로 변환(★★★)하여 lms에 제출을 추천\n",
        "\n",
        "(pdf 아닌 문서는 미제출로 간주)\n",
        "\n",
        "주의사항\n",
        "\n",
        "-   pdf로 꼭 변환하여 제출\n",
        "\n",
        "-   풀이가 꼭 있어야 함 (답만 적혀 있는 경우 ’0’점 처리)\n",
        "\n",
        "-   부정행위 시 ’F’학점\n",
        "\n",
        "-   계산은 R로 해도 되지만 계산 풀이 과정이 꼭 있어야 함!!\n",
        "\n",
        "예) R에서 lm으로 beta의 추정량을 구하면 안 됨. 수업 시간에 배운 식으로\n",
        "풀이를 적어야 함.\n",
        "\n",
        "\\*\\*\\*\\*\\*\\*\\*\\*\\*\\*\\*\\* R을 이용해서 푸는 문제는, R 코드도 같이 업로드.\n",
        "\n",
        "------------------------------------------------------------------------\n",
        "\n",
        "# 1.\n",
        "\n",
        "단순회귀에서 회귀제곱합, $$SSE = \\sum^{n}_{i=1} (y_i - \\hat{y}_i)^2$$ 을\n",
        "이차형식 $y^\\top B y$ 로 표현하시오. 이 이차형식의 분포를 구하고, 또한\n",
        "기대치를 ⟨정리 5.1⟩에 의하여 구하시오\n",
        "\n",
        "**Answer**\n",
        "\n",
        "$\\sum^{n}_{i=1} (y_i - \\hat{y}_i)^2$\n",
        "\n",
        "$= \\sum^{n}_{i=1} (y_i - \\hat{y}_i)^\\top(y_i - \\hat{y}_i)$\n",
        "\n",
        "$= (\\bf{y} - \\hat{\\bf{y}})^\\top(\\bf{y} - \\hat{\\bf{y}})$\n",
        "\n",
        "$= (\\bf{y} - \\bf{X}b)^\\top(\\bf{y} - \\bf{X}b)$\n",
        "\n",
        "$= \\bf{y}^\\top\\bf{y} - \\bf{y}^\\top X\\bf{b} - \\bf{b}^\\top\\bf{X}^\\top\\bf{y} + \\bf{b}^\\top\\bf{X}^\\top\\bf{X}\\bf{b}$\n",
        "\n",
        "$= \\bf{y}^\\top\\bf{y} - 2\\bf{y}^\\top\\bf{X}\\bf{b} + \\bf{b}^\\top\\bf{X}^\\top\\bf{X}\\bf{b}$\n",
        "\n",
        "$= \\bf{y}^\\top\\bf{y} - \\bf{y}^\\top\\bf{X}(\\bf{X}^\\top\\bf{X})^{-1}\\bf{X}^\\top\\bf{y}$\n",
        "\n",
        "$= \\bf{y}^\\top(\\bf{I_n} - \\bf{X}(\\bf{X}^\\top\\bf{X})^{-1}\\bf{X}^\\top)\\bf{y}$\n",
        "\n",
        "$\\frac{\\sum^{n}_{i=1} (y_i - \\hat{y}_i)^2}{\\sigma^2} = \\bf{y}^\\top \\bf{B} \\bf{y}$\n",
        "\n",
        "\\<정리5.3\\>\n",
        "\n",
        "만약 $y \\sim N(\\mu,V)$이면,\n",
        "\n",
        "$$y^\\top A y \\sim \\chi^2 (r(A),\\frac{1}{2}\\mu^\\top A \\mu ) \\to \\text{AV : independent matrix}$$\n",
        "\n",
        "$\\frac{SSE}{\\sigma^2} = \\bf{y}^\\top\\frac{1}{\\sigma^2}(\\bf{I_n} - \\bf{X}(\\bf{X}^\\top\\bf{X})^{-1}\\bf{X}^\\top)\\bf{y}$\n",
        "\n",
        "$\\frac{SSE}{\\sigma^2} \\sim \\chi^2 (r(A),\\frac{1}{2}\\mu^\\top A \\mu )$\n",
        "\n",
        "$\\star y_i \\sim N(\\beta_0 + \\beta_1 x_i, \\sigma^2)$\n",
        "\n",
        "$\\star \\bf{y}^\\top \\sim N(\\mu, I\\sigma^2)$\n",
        "\n",
        "$\\bf{B} = \\bf{I_n} - \\bf{X}(\\bf{X}^\\top\\bf{X})^{-1}\\bf{X}^\\top$\n",
        "\n",
        "$\\bf{B}\\bf{B} = (\\bf{I_n} - \\bf{X}(\\bf{X}^\\top\\bf{X})^{-1}\\bf{X}^\\top)(\\bf{I_n} - \\bf{X}(\\bf{X}^\\top\\bf{X})^{-1}\\bf{X}^\\top)$\n",
        "\n",
        "$= \\bf{I_n} - 2\\bf{X}(\\bf{X}^\\top\\bf{X})^{-1}\\bf{X}^\\top + \\bf{X}(\\bf{X}^\\top\\bf{X})^{-1}\\bf{X}^\\top = \\bf{I_n} - \\bf{X}(\\bf{X}^\\top\\bf{X})^{-1}\\bf{X}^\\top = \\bf{B}$\n",
        "\n",
        "$\\therefore \\bf{B} \\text{ is an independendt matrix}$\n",
        "\n",
        "$r(\\bf{B}) = tr(\\bf{B}) = tr(\\bf{I_n} - \\bf{X}(\\bf{X}^\\top\\bf{X})^{-1}\\bf{X}^\\top) = tr(\\bf{I_n}) - tr(\\bf{X}(\\bf{X}^\\top\\bf{X})^{-1}\\bf{X}^\\top) = n - (p+1)$\n",
        "\n",
        "$V = I\\sigma^2$\n",
        "\n",
        "$\\therefore \\bf{BV = BVBV}$\n",
        "\n",
        "$\\therefore \\bf{BV} \\text{ is an independent matrix}$\n",
        "\n",
        "$\\mu^\\top \\bf{B} \\mu = \\mu^\\top (\\bf{I}-\\bf{X}(\\bf{X}^\\top\\bf{X})^{-1}\\bf{X}^\\top)\\mu = \\beta^\\top \\bf{X}^\\top (\\bf{I} - \\bf{X}(\\bf{X}^\\top\\bf{X})^{-1}\\bf{X}^\\top)\\bf{X}\\beta = \\beta^\\top \\bf{X}^\\top (\\bf{X} - \\bf{X}(\\bf{X}^\\top\\bf{X})^{-1}\\bf{X}^\\top\\bf{X})\\beta = 0$\n",
        "\n",
        "$\\star \\bf{X}(\\bf{X}^\\top\\bf{X})^{-1}\\bf{X}^\\top\\bf{X} = \\bf{X}(\\bf{X}^\\top\\bf{X})^{-1}\\bf{X}^\\top \\bf{X} = \\bf{X}$\n",
        "\n",
        "$\\frac{SSE}{\\sigma^2}\\sim \\chi^2_{(n-(p+1))}$\n",
        "\n",
        "\\<정리 5.1\\> 만약 $y \\sim N(\\mu, V)$이면,\n",
        "$$E(y^\\top A y) = tr(AV) + \\mu^\\top A \\mu, Cov(y,y^\\top A y ) = 2 V A \\mu$$\n",
        "\n",
        "$E(SSE) = tr(BV) + \\mu^\\top B \\mu = tr(\\bf{X}(\\bf{X}^\\top\\bf{X})^{-1}\\bf{X}^\\top V) + \\mu^\\top \\bf{X}(\\bf{X}^\\top\\bf{X})^{-1}\\bf{X}^\\top \\mu = (n-(p+1))\\sigma^2 + 0 = (n - (p+1))\\sigma^2$\n",
        "\n",
        "$Cov(y,y^\\top B y) = 2VB\\mu = 2 \\sigma^2 (I-\\bf{X}(\\bf{X}^\\top\\bf{X})^{-1}\\bf{X}^\\top)\\mu = 2 \\sigma^2 (I-\\bf{X}(\\bf{X}^\\top\\bf{X})^{-1}\\bf{X}^\\top)\\bf{X}\\beta = 0$\n",
        "\n",
        "------------------------------------------------------------------------\n",
        "\n",
        "# 2.\n",
        "\n",
        "만약 $$y_1 = \\beta_0 + \\epsilon_1$$\n",
        "$$y_2 = 2\\beta_0 - \\beta_1 + \\epsilon_2$$\n",
        "$$y_3 = \\beta_0 + 2\\beta_1 + \\epsilon_3$$ 이고,\n",
        "$E(\\epsilon_i) = 0, i = 1, 2, 3$이라면 $\\beta_0$ 와 $\\beta_1$ 의\n",
        "최소제곱추정값은 무엇인가? $y_i, i = 1, 2, 3$의 함수로써 나타내어라.\n",
        "그리고 이 경우의 잔차제곱합(residual sum of squares)을 구하시오.\n",
        "\n",
        "**Answer**\n",
        "\n",
        "$\\epsilon_1 = y_1 + \\beta_0, \\epsilon_2 = y_2 - 2\\beta_0 + \\beta_1, \\epsilon_3 = y_3 - \\beta_0 - 2\\beta_1$\n",
        "\n",
        "$S = (y_1 - \\hat{\\beta}_0)^2 + (y_2 - 2\\hat{\\beta}_0 + \\hat{\\beta}_1)^2 + (y_3 - \\hat{\\beta}_0 - 2\\hat{\\beta}_1)^2$\n",
        "\n",
        "$\\frac{\\partial S}{\\partial \\beta_0} = -2(y_1 - \\hat{\\beta}_0) -4(y_2 - 2\\hat{\\beta}_0 + \\hat{\\beta}_1) -2(y_3 - \\hat{\\beta}_0 - 2\\hat{\\beta}_1)$\n",
        "\n",
        "$= -2y_1 + 2\\hat{\\beta}_0 -4y_2 + 8\\hat{\\beta}_0 -4\\hat{\\beta}_1 -2y_3 +2\\hat{\\beta}_0 +4\\hat{\\beta}_1$\n",
        "\n",
        "$= -2y_1 -4y_2 -2y_3 + 12\\hat{\\beta}_0 = 0$\n",
        "\n",
        "$\\therefore \\hat{\\beta}_0 = \\frac{1}{12}(2y_1 + 4y_2 + 2y_3) = \\frac{1}{6}(y_1 + 2y_2 + y_3)$\n",
        "\n",
        "$\\frac{\\partial S}{\\partial \\beta_1} = 2(y_2 - 2\\hat{\\beta}_0 + \\hat{\\beta}_1) -4(y_3 - \\hat{\\beta}_0 - 2\\hat{\\beta}_1)$\n",
        "\n",
        "$= 2y_2 - 4\\hat{\\beta}_0 + 2\\hat{\\beta}_1 -4y_3 +4 \\hat{\\beta}_0 + 8\\hat{\\beta}_1$\n",
        "\n",
        "$= 2y_2 -4y_3 + 10\\hat{\\beta}_1 = 0$\n",
        "\n",
        "$\\therefore \\hat{\\beta}_1 = \\frac{1}{10}(-2y_2 + 4y_3) = \\frac{1}{5}(-y_2 + 2y_3)$\n",
        "\n",
        "$\\text{Residual sum of squares  }S = (y_1 - \\hat{\\beta}_0)^2 + (y_2 - 2\\hat{\\beta}_0 + \\hat{\\beta}_1)^2 + (y_3 - \\hat{\\beta}_0 - 2\\hat{\\beta}_1)^2$\n",
        "\n",
        "$= y_2^2 + \\hat{\\beta}_0^2 - 2\\hat{\\beta}_0y_1 + y_2^2 - 4\\hat{\\beta}_0 y_2 + 2\\hat{\\beta}_1 y_2 - 4\\hat{\\beta}_0 \\hat{\\beta}_1 + \\hat{\\beta}_1^2 + y_3^2 -2\\hat{\\beta}_0 y_3 - 4 \\hat{\\beta}_1 y_3 + \\hat{\\beta}_0^2 + 4\\hat{\\beta}_0\\hat{\\beta}_ + 4\\hat{\\beta}_1^2$\n",
        "\n",
        "$= y_1^2 + y_2^2 + y_3^2 + 2\\hat{\\beta}_0^2 + 5\\hat{\\beta}_1^2 + \\hat{\\beta}_0(-2y_1 -4y_2 -2y_3) + \\hat{\\beta}_1 (2y_2 -4y_3)$\n",
        "\n",
        "$= y_1^2 + y_2^2 + y_3^2 -10 \\hat{\\beta}_0^2 - 5\\hat{\\beta}_1^2$\n",
        "\n",
        "$= y_1^2 + y_2^2 + y_3^2 - \\frac{5}{18}(y_1 + 2y_2 + y_3)^2 - \\frac{1}{5}(-y_2 + 2y_3)^2$\n",
        "\n",
        "$= \\frac{13}{18} y_1^2 -\\frac{14}{45}y_2^2 -\\frac{70}{90}y3^2 -\\frac{10}{9}y_1y_2 -\\frac{5}{9} y_1y_3 - \\frac{32}{45}y_2y_3$\n",
        "\n",
        "$= \\frac{1}{90}(65y_1^2 -28 y_2^2 - 70y_3^2 -100y_1y_2 -50y_1y_3 - 64y_2y_3)$\n",
        "\n",
        "------------------------------------------------------------------------\n",
        "\n",
        "# 3.\n",
        "\n",
        "단순회귀모형\n",
        "$$y_i = \\beta_0 + \\beta_1 x_i + \\epsilon_i, \\epsilon_i ~ N(0, \\sigma^2), i = 1, 2, \\dots , n$$\n",
        "에서 각각의 $x_i$ 가 $cx_i (c \\neq 0)$로 대체된다고 가정하자.\n",
        "$\\hat{\\beta}_0, \\hat{\\beta}_1, s^{2}_{y·x}, R^2$ 과\n",
        "$H_0 : \\beta_1 = 0$에 대한 $t$−검정 결과는 어떤 영향을 받는가?\n",
        "\n",
        "**Answer**\n",
        "\n",
        "$S = \\sum^n_{i=1}\\epsilon^2_i = \\sum^n_{i=1} \\{ y_i - (\\beta_0 + \\beta_1 c x_i)\\}^2$\n",
        "\n",
        "$\\frac{\\partial S}{\\partial \\beta_1} = -2\\sum^n_{i=1} c x_i (y_i - \\hat{\\beta}_0 - \\hat{\\beta}_1 c x_i) = \\sum^n_{i=1} c x_i (y_i - \\hat{y}) = \\sum^n_{i=1} c x_i e_i = 0$\n",
        "\n",
        "$= \\sum^n_{i=1} c x_i (y_i - \\hat{\\beta}_0 - \\hat{\\beta}_1 c x_i ) =\\sum^n_{i=1} c x_i (y_i - \\bar{y} + \\hat{\\beta}_1 c\\bar{x} - \\hat{\\beta}_1 c x_i) = \\sum^n_{i=1} c x_i(y_i - \\bar{y}) - \\hat{\\beta}_1 \\sum^n_{i=1} c x_i (c x_i - c\\bar{x})$\n",
        "\n",
        "$\\star \\sum^n_{i=1} c x_i(y_i - \\bar{y}) = \\sum^n_{i=1}(c x_i - c\\bar{x} + c\\bar{x})(y_i - \\bar{y}) = c\\sum^n_{i=1}(x_i - \\bar{x})(y_i - \\bar{y}) + \\sum^n_{i=1} c \\bar{x}(y_i - \\bar{y}) = c S_{xy}$\n",
        "\n",
        "$\\star \\hat{\\beta}_1 \\sum^n_{i=1} c x_i (c x_i - c\\bar{x}) = \\hat{\\beta}_1 \\sum^n_{i=1} (c x_i - c \\bar{x} + c \\bar{x}) (c x_i - c \\bar{x}) = \\hat{\\beta}_1 \\{ \\sum^n_{i=1} (c x_i - c \\bar{x})(c x_i - c \\bar{x}) + \\sum^n_{i=1} c^2 \\bar{x}( x_i - \\bar{x}) \\} = c^2 \\hat{\\beta}_1 S_{xx}$\n",
        "\n",
        "$c S_{xy} - \\hat{\\beta}_1 c^2 S_{xx} = 0$\n",
        "\n",
        "$\\hat{\\beta}_1 = \\frac{S_{xy}}{c S_{xx}}$\n",
        "\n",
        "$\\hat{\\beta}_1$ 은 $\\frac{1}{c}$배가 되었다.\n",
        "\n",
        "$\\frac{\\partial S}{\\partial \\beta_0} = -2\\sum^n_{i=1} (y_i - \\hat{\\beta}_0 - \\hat{\\beta}_1 c x_i) = \\sum^n_{i=1} (y_i - \\hat{y}_i) = \\sum^n_{i=1}e_i = 0$\n",
        "\n",
        "$n \\hat{\\beta}_0 = \\sum^n_{i=1}y_i - \\frac{1}{c} \\hat{\\beta}_1 c \\sum^n_{i=1} x_i$\n",
        "\n",
        "$\\hat{\\beta}_0 = \\frac{1}{n} \\sum^n_{i=1} y_i - \\frac{1}{c}\\hat{\\beta}_1 c \\frac{1}{n}\\sum^n_{i=1} x_i = \\bar{y} - \\hat{\\beta}_1 \\bar{x}$\n",
        "\n",
        "$\\hat{\\beta}_0$은 $x_i$가 $cx_i$로 대체되었을때 영향을 받지 않았다.\n",
        "\n",
        "$S_{yx} = c \\sum^n_{i=1}(x_i - \\bar{x})(y_i - \\bar{y})$\n",
        "\n",
        "$S^2_{yx} = c^2 \\sum^n_{i=1}(x_i - \\bar{x})^2(y_i - \\bar{y})^2$\n",
        "\n",
        "$\\star S_{xx} = c^2 \\sum^n_{i=1} (x_i - \\bar{x})(x_i - \\bar{x})$\n",
        "\n",
        "$\\star S_{yy} = \\sum^n_{i=1} (y_i - \\bar{y})(y_i - \\bar{y})$\n",
        "\n",
        "$R^2 = r_{xy}^2 = \\frac{S_{xy}^2}{S_{xx}S_{yy}} = \\frac{c^2 \\sum^n_{i=1}(x_i - \\bar{x})^2(y_i - \\bar{y})^2}{(c^2 \\sum^n_{i=1} (x_i - \\bar{x})(x_i - \\bar{x}))(\\sum^n_{i=1} (y_i - \\bar{y})(y_i - \\bar{y}))} = \\frac{ \\sum^n_{i=1}(x_i - \\bar{x})^2(y_i - \\bar{y})^2}{( \\sum^n_{i=1} (x_i - \\bar{x})(x_i - \\bar{x}))(\\sum^n_{i=1} (y_i - \\bar{y})(y_i - \\bar{y}))}$\n",
        "\n",
        "$R^2$은 영향을 받지 않았다.\n",
        "\n",
        "회귀직선의 유의성 검정\n",
        "$H_0 : \\beta_1 = 0 \\text{ vs. } H_1: \\beta_1 \\neq 0$\n",
        "\n",
        "검정통계량\n",
        "$F = \\frac{MSR}{MSE} = \\frac{SSR/1}{SSE/(n-2)} \\sim_{H_0} F(1,n-2)$\n",
        "\n",
        "검정통계량 계산에도 영향을 주지 않았기 때문에 $\\text{t test}$ 결과는\n",
        "$x_i$에 $c$배를 한 후에도 같은 결과가 나온다.\n",
        "\n",
        "------------------------------------------------------------------------\n",
        "\n",
        "# 4.\n",
        "\n",
        "생선을 잡아서 얼음창고에 일주일 동안 보관한 후에 생선의 신선도가 어느\n",
        "정도 변하는가를 실험하였다. 신선도를 $y$로 놓고 10점 만점으로 하여 0점이\n",
        "신선도가 전혀 없는 것이고 10점이 가장 좋은 경우이다. 설명변수 $x$는\n",
        "생선을 잡은 지 $x$시간이 경과한 후에 얼음창고에 넣는 것을 가리킨다.\n",
        "실험으로 10개의 데이터를 얻었다.\n",
        "\n",
        "| $y$(신선도)   | 8.5 | 8.4 | 7.9 | 8.1 | 7.8 | 7.6 | 7.3 | 7.0 | 6.8 | 6.7 |\n",
        "|---------------|-----|-----|-----|-----|-----|-----|-----|-----|-----|-----|\n",
        "| $x$(경과시간) | 0   | 0   | 3   | 3   | 6   | 6   | 9   | 9   | 12  | 12  |\n",
        "\n",
        "## (1)\n",
        "\n",
        "선형회귀모형 ($y = \\beta_0 + \\beta_1 x + \\epsilon$)이 타당한가를\n",
        "유의수준 $\\alpha = 0.05$를 사용하여 적합결여검정을 행하라.\n",
        "\n",
        "**Answer**\n",
        "\n",
        "$H_0 : E(Y|X = x) = \\beta_0 + \\beta_1 x$\n",
        "\n",
        "$H_1 : E(Y|X=x) \\neq \\beta_0 + \\beta_1 x$"
      ],
      "id": "30af5091-8699-42d4-b728-52dbbb9c8ecc"
    },
    {
      "cell_type": "code",
      "execution_count": 1,
      "metadata": {},
      "outputs": [
        {
          "output_type": "display_data",
          "metadata": {},
          "data": {}
        }
      ],
      "source": [
        "df_4 = data.frame(x = c(0,0,3,3,6,6,9,9,12,12),\n",
        "                  y = c(8.5,8.4,7.9,8.1,7.8,7.6,7.3,7.0,6.8,6.7))\n",
        "df_4"
      ],
      "id": "05975b12-1c75-4bfb-a97c-cfbeacdbe222"
    },
    {
      "cell_type": "markdown",
      "metadata": {},
      "source": [
        "산점도"
      ],
      "id": "40b29c0a-b306-4008-8f0d-c5ee6186e964"
    },
    {
      "cell_type": "code",
      "execution_count": 2,
      "metadata": {},
      "outputs": [
        {
          "output_type": "display_data",
          "metadata": {},
          "data": {
            "image/png": "[encoded data removed]"
          }
        }
      ],
      "source": [
        "plot(df_4$x,df_4$y,xlab='x(경과시간)',ylab='y(신선도)')"
      ],
      "id": "a34e1dc5-5366-44b4-8707-512e56cb7ed7"
    },
    {
      "cell_type": "markdown",
      "metadata": {},
      "source": [
        "우하향하는 모습이다."
      ],
      "id": "e618ca7a-c3a3-4eea-b42a-86912d9833e0"
    },
    {
      "cell_type": "code",
      "execution_count": 3,
      "metadata": {},
      "outputs": [],
      "source": [
        "df_4$x_barx = df_4$x - mean(df_4$x)\n",
        "df_4$y_bary = df_4$y - mean(df_4$y) "
      ],
      "id": "9feb6a5a-8b66-4c5b-868e-8ec23e4cca55"
    },
    {
      "cell_type": "markdown",
      "metadata": {},
      "source": [
        "-   $S_{xx}, S_{yy},S_{xy}$를 구해주기 위해\n",
        "    $x_i - \\bar{x}, y_i - \\bar{y}$를 구했다."
      ],
      "id": "89c8cc00-952b-4cee-9c41-e8b9c4bc017e"
    },
    {
      "cell_type": "code",
      "execution_count": 4,
      "metadata": {},
      "outputs": [],
      "source": [
        "df_4$x_barx2 <- df_4$x_barx^2\n",
        "df_4$y_bary2 <- df_4$y_bary^2\n",
        "df_4$xy <-df_4$x_barx * df_4$y_bary"
      ],
      "id": "cb571128-0710-4cb5-b092-aa406bd650af"
    },
    {
      "cell_type": "markdown",
      "metadata": {},
      "source": [
        "-   $S_{xx}, S_{yy},S_{xy}$를 구해주었다."
      ],
      "id": "9366b8cb-bdd1-4f38-a631-af01fdfacecc"
    },
    {
      "cell_type": "code",
      "execution_count": 5,
      "metadata": {},
      "outputs": [
        {
          "output_type": "display_data",
          "metadata": {},
          "data": {}
        }
      ],
      "source": [
        "df_4"
      ],
      "id": "9260c28b-ac32-4a90-a9f1-5ea918fb77df"
    },
    {
      "cell_type": "code",
      "execution_count": 6,
      "metadata": {},
      "outputs": [
        {
          "output_type": "display_data",
          "metadata": {},
          "data": {
            "text/html": [
              "<style>\n",
              ".dl-inline {width: auto; margin:0; padding: 0}\n",
              ".dl-inline>dt, .dl-inline>dd {float: none; width: auto; display: inline-block}\n",
              ".dl-inline>dt::after {content: \":\\0020\"; padding-right: .5ex}\n",
              ".dl-inline>dt:not(:first-of-type) {padding-left: .5ex}\n",
              "</style><dl class=dl-inline><dt>x</dt><dd>60</dd><dt>y</dt><dd>76.1</dd><dt>x_barx</dt><dd>0</dd><dt>y_bary</dt><dd>0</dd><dt>x_barx2</dt><dd>180</dd><dt>y_bary2</dt><dd>3.729</dd><dt>xy</dt><dd>-25.5</dd></dl>"
            ]
          }
        }
      ],
      "source": [
        "round(colSums(df_4),3)"
      ],
      "id": "097f56da-f6bd-44fd-8367-86d738f9b9c9"
    },
    {
      "cell_type": "markdown",
      "metadata": {},
      "source": [
        "$\\hat{\\beta_1} = \\frac{S_{xy}}{S_{xx}}$\n",
        "\n",
        "$\\hat{\\beta_0} = \\bar{y} - \\hat{\\beta_1}\\bar{x}$"
      ],
      "id": "9a7fbbcd-9b1b-47c2-96cc-cf067aea0979"
    },
    {
      "cell_type": "code",
      "execution_count": 7,
      "metadata": {},
      "outputs": [],
      "source": [
        "beta1_4 <- as.numeric(colSums(df_4)[7]/colSums(df_4)[5])\n",
        "beta0_4 <- mean(df_4$y) - beta1_4 *  mean(df_4$x)"
      ],
      "id": "8064c08b-bebf-49e8-aed3-63fd6060d33f"
    },
    {
      "cell_type": "code",
      "execution_count": 8,
      "metadata": {},
      "outputs": [
        {
          "output_type": "stream",
          "name": "stdout",
          "text": [
            "hat beta0 =  8.46\n",
            "hat beta1 =  -0.1416667"
          ]
        }
      ],
      "source": [
        "cat(\"hat beta0 = \", beta0_4)\n",
        "cat(\"\\nhat beta1 = \", beta1_4)"
      ],
      "id": "139ccda9-85ce-4769-a9be-740013138a34"
    },
    {
      "cell_type": "markdown",
      "metadata": {},
      "source": [
        "$\\hat{y} = 8.46 - 0.1417x$"
      ],
      "id": "fa042c71-15ce-4231-ae10-29f96b103dd8"
    },
    {
      "cell_type": "code",
      "execution_count": 9,
      "metadata": {},
      "outputs": [],
      "source": [
        "SST_4 = sum((df_4$y - mean(df_4$y))^2)"
      ],
      "id": "6c9a6852-5306-4f58-81a2-b2c6ff94cb5e"
    },
    {
      "cell_type": "code",
      "execution_count": 10,
      "metadata": {},
      "outputs": [],
      "source": [
        "SSR_4 = sum( ( ( beta0_4 + beta1_4 *df_4$x)-mean(df_4$y) )^2 )\n",
        "MSR_4 = SSR_4/1"
      ],
      "id": "0c095670-a220-46fa-85ed-f38db1b38756"
    },
    {
      "cell_type": "code",
      "execution_count": 11,
      "metadata": {},
      "outputs": [],
      "source": [
        "SSE_4 = sum( ( df_4$y-( beta0_4 + beta1_4 *df_4$x))^2 )\n",
        "MSE_4 = SSE_4/8"
      ],
      "id": "96a73e85-37aa-4f67-abb9-bf938277c0f1"
    },
    {
      "cell_type": "code",
      "execution_count": 12,
      "metadata": {},
      "outputs": [
        {
          "output_type": "stream",
          "name": "stdout",
          "text": [
            "SST =  3.729 , df = 9\n",
            "SSR =  3.6125 , df = 1\n",
            "SSE =  0.1165 , df = 8"
          ]
        }
      ],
      "source": [
        "cat(\"SST = \", SST_4,\", df = 9\")\n",
        "cat(\"\\nSSR = \", SSR_4,\", df = 1\")\n",
        "cat(\"\\nSSE = \", SSE_4, \", df = 8\")"
      ],
      "id": "2f413639-6b07-45ec-8663-c4e4f53ad3fc"
    },
    {
      "cell_type": "code",
      "execution_count": 13,
      "metadata": {},
      "outputs": [
        {
          "output_type": "display_data",
          "metadata": {},
          "data": {
            "text/html": [
              "248.068669527898"
            ]
          }
        }
      ],
      "source": [
        "F_4 = MSR_4 / MSE_4\n",
        "F_4"
      ],
      "id": "a21362ac-aefa-4ef3-8fb5-36a971ce6bc0"
    },
    {
      "cell_type": "code",
      "execution_count": 14,
      "metadata": {},
      "outputs": [
        {
          "output_type": "display_data",
          "metadata": {},
          "data": {
            "text/html": [
              "5.31765507157871"
            ]
          }
        }
      ],
      "source": [
        "qf(0.95,1,8)"
      ],
      "id": "cd6f2a91-e5ab-46c7-8a4b-00e0d1da8c14"
    },
    {
      "cell_type": "markdown",
      "metadata": {},
      "source": [
        "$H_0 : \\beta_1 = 0$\n",
        "\n",
        "$H_1 : \\beta_1 \\neq 0$\n",
        "\n",
        "F값이 유의수준 0.05에서 기준 F보다 크기 때문에 $H_0$ 기각하고, $\\beta_1$\n",
        "은 유의미하다."
      ],
      "id": "c2c9625d-92ae-47c2-a332-76f286b5d085"
    },
    {
      "cell_type": "code",
      "execution_count": 15,
      "metadata": {},
      "outputs": [],
      "source": [
        "df_4_ex <- cbind(df_4[c(1,3,5,7,9),c(1,2)],df_4[c(2,4,6,8,10),c(2)])"
      ],
      "id": "72368b93-8222-472c-8a64-7f042a1f9546"
    },
    {
      "cell_type": "code",
      "execution_count": 16,
      "metadata": {},
      "outputs": [],
      "source": [
        "colnames(df_4_ex) <- c('x','y1','y2')"
      ],
      "id": "f9d874ae-a253-4090-8d3d-7afe1df449c7"
    },
    {
      "cell_type": "code",
      "execution_count": 17,
      "metadata": {
        "tags": []
      },
      "outputs": [
        {
          "output_type": "display_data",
          "metadata": {},
          "data": {}
        }
      ],
      "source": [
        "df_4_ex$ymean <- (df_4_ex$y1+df_4_ex$y2)/2\n",
        "df_4_ex$y1_ymean2 <- (df_4_ex$y1 - df_4_ex$ymean)^2\n",
        "df_4_ex$y2_ymean2 <- (df_4_ex$y2 - df_4_ex$ymean)^2\n",
        "df_4_ex$yhat <- 8.46 - 0.146667 * df_4_ex$x\n",
        "df_4_ex"
      ],
      "id": "02ed4fea-4b51-484d-a27a-22d6ae6625f6"
    },
    {
      "cell_type": "markdown",
      "metadata": {},
      "source": [
        "$\\hat{y} = 8.46 - 01417x$"
      ],
      "id": "42849a54-f6cd-4510-a8a5-67448a599f0d"
    },
    {
      "cell_type": "code",
      "execution_count": 18,
      "metadata": {},
      "outputs": [
        {
          "output_type": "display_data",
          "metadata": {},
          "data": {
            "text/html": [
              "0.0949999999999998"
            ]
          }
        }
      ],
      "source": [
        "SSPE_4 = sum(df_4_ex$y1_ymean2) + sum(df_4_ex$y2_ymean2)\n",
        "SSPE_4"
      ],
      "id": "5d9d1a19-90a5-487c-b527-a338062f9b56"
    },
    {
      "cell_type": "code",
      "execution_count": 19,
      "metadata": {},
      "outputs": [
        {
          "output_type": "display_data",
          "metadata": {},
          "data": {
            "text/html": [
              "0.0214999999999996"
            ]
          }
        }
      ],
      "source": [
        "SSLF_4 = SSE_4 - SSPE_4\n",
        "SSLF_4"
      ],
      "id": "1fcd815d-cb69-4c66-af5a-78ad71df8df9"
    },
    {
      "cell_type": "code",
      "execution_count": 20,
      "metadata": {},
      "outputs": [
        {
          "output_type": "display_data",
          "metadata": {},
          "data": {
            "text/html": [
              "0.377192982456135"
            ]
          }
        }
      ],
      "source": [
        "F_4_0 = SSLF_4/3 / (SSPE_4 / 5)\n",
        "F_4_0"
      ],
      "id": "878cb75c-5e03-48af-ad64-721bd376c775"
    },
    {
      "cell_type": "code",
      "execution_count": 21,
      "metadata": {},
      "outputs": [
        {
          "output_type": "stream",
          "name": "stdout",
          "text": [
            "유의수준 5%에서  5.409451 보다  0.377193 값이 작기 때문에 귀무가설을 기각하지 못한다. 따라서 선형회귀모형은 타당하다."
          ]
        }
      ],
      "source": [
        "cat(\"유의수준 5%에서 \",qf(0.95,3,5), \"보다 \",F_4_0,\"값이 작기 때문에 귀무가설을 기각하지 못한다. 따라서 선형회귀모형은 타당하다.\")"
      ],
      "id": "c114940f-d274-4327-bb8a-266ccb806462"
    },
    {
      "cell_type": "markdown",
      "metadata": {},
      "source": [
        "$H_0 : E(Y|X = x) = \\beta_0 + \\beta_1 x$ 기각못함\n",
        "\n",
        "## (2)\n",
        "\n",
        "선형회귀모형이 타당한 경우, 신선도의 점수가 시간당 얼마만큼이나\n",
        "떨어지는가를 95% 신뢰계수를 가지고 구간추정하라(즉, $\\beta_1$의\n",
        "구간추정).\n",
        "\n",
        "**Answer**\n",
        "\n",
        "$\\hat{\\beta}_1$의 $100(1-\\alpha)$%의 신뢰구간\n",
        "\n",
        "$\\hat{\\beta}_1 \\pm t_{\\alpha/2}(n-2)\\frac{\\sqrt{MSE}}{\\sqrt{S_{xx}}}$"
      ],
      "id": "2ea41e67-7dba-4f5a-a9aa-eed7b239f9b7"
    },
    {
      "cell_type": "code",
      "execution_count": 22,
      "metadata": {},
      "outputs": [
        {
          "output_type": "display_data",
          "metadata": {},
          "data": {
            "text/html": [
              "2.30600413520417"
            ]
          }
        }
      ],
      "source": [
        "qt(0.975,8)"
      ],
      "id": "68efc46c-d5e3-4048-b873-b441c744e1f3"
    },
    {
      "cell_type": "code",
      "execution_count": 23,
      "metadata": {},
      "outputs": [
        {
          "output_type": "stream",
          "name": "stdout",
          "text": [
            "beta1 is  -0.1416667\n",
            "MSE is  0.0145625\n",
            "Sxx is  180"
          ]
        }
      ],
      "source": [
        "cat(\"beta1 is \",beta1_4)\n",
        "cat(\"\\nMSE is \",MSE_4)\n",
        "cat(\"\\nSxx is \",sum(df_4$x_barx2))"
      ],
      "id": "34241acb-c935-4d1d-bca4-aa3fb98d029c"
    },
    {
      "cell_type": "code",
      "execution_count": 24,
      "metadata": {},
      "outputs": [
        {
          "output_type": "stream",
          "name": "stdout",
          "text": [
            "95% 신뢰계수는 ( -0.1624082 - -0.1209251 ) 이다."
          ]
        }
      ],
      "source": [
        "cat(\"95% 신뢰계수는 (\",beta1_4-qt(0.975,8)*sqrt(MSE_4/sum(df_4$x_barx2)),\"-\",beta1_4+qt(0.975,8)*sqrt(MSE_4/sum(df_4$x_barx2)),\") 이다.\")"
      ],
      "id": "85313554-aa8e-482a-a403-66142e946511"
    },
    {
      "cell_type": "markdown",
      "metadata": {},
      "source": [
        "신뢰계수가 0을 포함하지 않는다. 신뢰구간에서 $\\beta_1$이 유의미함을 알\n",
        "수 있다.\n",
        "\n",
        "------------------------------------------------------------------------\n",
        "\n",
        "1.  두 타이어회사 A, B에서 생산되는 타이어를 비교하기 위하여\n",
        "    고속도로에서 트럭이 달리는 상황을 모의실험(simulated experiment)하여\n",
        "    다음의 데이터를 얻었다. $x$는 트럭이 달리는 속도이고 $y$는 타이어가\n",
        "    마모되기까지의 총 주행거리이다.\n",
        "\n",
        "| $x_{1j}$    | 10   | 20   | 30   | 40   | 50   | 60   | 70   |\n",
        "|-------------|------|------|------|------|------|------|------|\n",
        "| $y_{1j}(A)$ | 9.8  | 12.5 | 14.9 | 16.5 | 22.4 | 24.1 | 25.8 |\n",
        "| $y_{2j}(B)$ | 15.0 | 14.5 | 16.5 | 19.1 | 22.3 | 20.8 | 22.4 |\n",
        "\n",
        "1.  산점도를 그리시오.\n",
        "\n",
        "**Answer**"
      ],
      "id": "fbee599f-159f-40dc-9586-064064915995"
    },
    {
      "cell_type": "code",
      "execution_count": 25,
      "metadata": {},
      "outputs": [
        {
          "output_type": "display_data",
          "metadata": {},
          "data": {}
        }
      ],
      "source": [
        "df_5 = data.frame(x = c(10,20,30,40,50,60,70),\n",
        "                  yA = c(9.8,12.5,14.9,16.5,22.4,24.1,25.8),\n",
        "                  yB = c(15.0,14.5,16.5,19.1,22.3,20.8,22.4))\n",
        "df_5"
      ],
      "id": "da4b5b6c-df8d-4fb7-a229-5ee86888ab27"
    },
    {
      "cell_type": "code",
      "execution_count": 26,
      "metadata": {},
      "outputs": [
        {
          "output_type": "display_data",
          "metadata": {},
          "data": {
            "image/png": "[encoded data removed]"
          }
        }
      ],
      "source": [
        "plot(df_5$yA~df_5$x,\n",
        "     xlab = \"x\",\n",
        "     ylab = \"yA(orange),yB(blue)\",\n",
        "     pch  = 16,\n",
        "     cex  = 1,\n",
        "     col  = \"darkorange\")\n",
        "par(new=TRUE)\n",
        "plot(df_5$yB~df_5$x,\n",
        "     xlab='',\n",
        "     ylab='',\n",
        "     pch  = 16,\n",
        "     cex  = 1,\n",
        "     col  = \"blue\")"
      ],
      "id": "113179a2-b6cf-4993-bdfc-2918968efc93"
    },
    {
      "cell_type": "markdown",
      "metadata": {},
      "source": [
        "1.  각 회사별로 속도와 총주행거리 간의 회귀모형을 구한다면, 두 개의\n",
        "    직선이 동일하다고 볼수 있는가? 유의수준 $\\alpha = 0.05$로\n",
        "    가설검정하시오.\n",
        "\n",
        "**Answer**\n",
        "\n",
        "$H_0: \\beta_{01} = \\beta_{02} \\text{ and } \\beta_{11} = \\beta_{12}$\n",
        "\n",
        "$H_1: \\beta_{01} \\ne \\beta_{02} \\text{ or } \\beta_{11} \\ne \\beta_{12}$"
      ],
      "id": "ef95f0e1-0d54-406d-ac7f-499bbf4b93cd"
    },
    {
      "cell_type": "code",
      "execution_count": 27,
      "metadata": {},
      "outputs": [],
      "source": [
        "df_5_A <- df_5"
      ],
      "id": "b01157a6-949c-47f3-b701-fab5232f4899"
    },
    {
      "cell_type": "code",
      "execution_count": 28,
      "metadata": {},
      "outputs": [],
      "source": [
        "df_5_A$x_barx = df_5_A$x - mean(df_5_A$x)\n",
        "df_5_A$yA_baryA = df_5_A$yA - mean(df_5_A$yA) "
      ],
      "id": "f7c1f668-561c-4047-9e06-4700271c4f77"
    },
    {
      "cell_type": "markdown",
      "metadata": {},
      "source": [
        "-   $S_{xx}, S_{yy},S_{xy}$를 구해주기 위해\n",
        "    $x_i - \\bar{x}, y_i - \\bar{y}$를 구했다."
      ],
      "id": "ada9a035-f67f-405d-a949-08ecdbea0169"
    },
    {
      "cell_type": "code",
      "execution_count": 29,
      "metadata": {},
      "outputs": [],
      "source": [
        "df_5_A$x_barx2 <- df_5_A$x_barx^2\n",
        "df_5_A$yA_baryA2 <- df_5_A$yA_baryA^2\n",
        "df_5_A$xyA <-df_5_A$x_barx * df_5_A$yA_baryA"
      ],
      "id": "e3d9f07c-fb7e-4698-9d00-9c49063084c6"
    },
    {
      "cell_type": "markdown",
      "metadata": {},
      "source": [
        "-   $S_{xx}, S_{yy},S_{xy}$를 구해주었다."
      ],
      "id": "7b55ac09-b347-4d9f-a358-f097de5420c5"
    },
    {
      "cell_type": "code",
      "execution_count": 30,
      "metadata": {},
      "outputs": [
        {
          "output_type": "display_data",
          "metadata": {},
          "data": {}
        }
      ],
      "source": [
        "df_5_A"
      ],
      "id": "642f87ee-1149-4853-9ab9-229b5a26148f"
    },
    {
      "cell_type": "code",
      "execution_count": 31,
      "metadata": {},
      "outputs": [
        {
          "output_type": "display_data",
          "metadata": {},
          "data": {
            "text/html": [
              "<style>\n",
              ".dl-inline {width: auto; margin:0; padding: 0}\n",
              ".dl-inline>dt, .dl-inline>dd {float: none; width: auto; display: inline-block}\n",
              ".dl-inline>dt::after {content: \":\\0020\"; padding-right: .5ex}\n",
              ".dl-inline>dt:not(:first-of-type) {padding-left: .5ex}\n",
              "</style><dl class=dl-inline><dt>x</dt><dd>280</dd><dt>yA</dt><dd>126</dd><dt>yB</dt><dd>130.6</dd><dt>x_barx</dt><dd>0</dd><dt>yA_baryA</dt><dd>0</dd><dt>x_barx2</dt><dd>2800</dd><dt>yA_baryA2</dt><dd>226.76</dd><dt>xyA</dt><dd>787</dd></dl>"
            ]
          }
        }
      ],
      "source": [
        "round(colSums(df_5_A),3)"
      ],
      "id": "83e9c569-5097-4a82-9b68-2d23840f0678"
    },
    {
      "cell_type": "markdown",
      "metadata": {},
      "source": [
        "$\\hat{\\beta_1} = \\frac{S_{xy}}{S_{xx}}$\n",
        "\n",
        "$\\hat{\\beta_0} = \\bar{y} - \\hat{\\beta_1}\\bar{x}$"
      ],
      "id": "2485aa91-adfa-48a7-b668-c760ccd34f7d"
    },
    {
      "cell_type": "code",
      "execution_count": 32,
      "metadata": {},
      "outputs": [],
      "source": [
        "beta1_xyA <- as.numeric(colSums(df_5_A)[8]/colSums(df_5_A)[6])\n",
        "beta0_xyA <- mean(df_5_A$yA) - beta1_xyA *  mean(df_5_A$x)"
      ],
      "id": "6f4bc7ca-496d-4143-a960-cdd1e1575319"
    },
    {
      "cell_type": "code",
      "execution_count": 33,
      "metadata": {},
      "outputs": [
        {
          "output_type": "stream",
          "name": "stdout",
          "text": [
            "xyA hat beta0 =  6.757143\n",
            "xyA hat beta1 =  0.2810714"
          ]
        }
      ],
      "source": [
        "cat(\"xyA hat beta0 = \", beta0_xyA)\n",
        "cat(\"\\nxyA hat beta1 = \", beta1_xyA)"
      ],
      "id": "1ec862a5-d0e8-497e-99f4-f3e7dd5aeb20"
    },
    {
      "cell_type": "markdown",
      "metadata": {},
      "source": [
        "$yA = 6.757143 + 0.2810714x$"
      ],
      "id": "a00bf34b-0820-4af3-94a8-6d3259e4ef09"
    },
    {
      "cell_type": "code",
      "execution_count": 34,
      "metadata": {},
      "outputs": [],
      "source": [
        "SST_A = sum((df_5_A$yA - mean(df_5_A$yA))^2)"
      ],
      "id": "630b7154-ff7a-4922-9242-901da8a2180b"
    },
    {
      "cell_type": "code",
      "execution_count": 35,
      "metadata": {},
      "outputs": [],
      "source": [
        "SSR_A = sum( ( ( 6.757143 + 0.2810714 *df_5_A$x)-mean(df_5_A$yA) )^2 )"
      ],
      "id": "9a7c040f-419c-460a-a33d-b70715ecedf7"
    },
    {
      "cell_type": "code",
      "execution_count": 36,
      "metadata": {},
      "outputs": [],
      "source": [
        "SSE_A = sum( ( df_5_A$yA-( 6.757143 + 0.2810714 *df_5_A$x))^2 )"
      ],
      "id": "3ae1cae0-e213-4495-afa6-6de95a40cffe"
    },
    {
      "cell_type": "code",
      "execution_count": 37,
      "metadata": {},
      "outputs": [
        {
          "output_type": "stream",
          "name": "stdout",
          "text": [
            "yA SST =  226.76 , df = 6\n",
            "yA SSR =  221.2032 , df = 1\n",
            "yA SSE =  5.556786 , df = 5"
          ]
        }
      ],
      "source": [
        "cat(\"yA SST = \", SST_A,\", df = 6\")\n",
        "cat(\"\\nyA SSR = \", SSR_A,\", df = 1\")\n",
        "cat(\"\\nyA SSE = \", SSE_A, \", df = 5\")"
      ],
      "id": "c2cdd99b-b8dc-4b2e-adf1-213f798b54c3"
    },
    {
      "cell_type": "code",
      "execution_count": 38,
      "metadata": {},
      "outputs": [],
      "source": [
        "df_5_B <- df_5"
      ],
      "id": "663ed30e-e2c9-4d75-b67e-fb5b6e4846e4"
    },
    {
      "cell_type": "code",
      "execution_count": 39,
      "metadata": {},
      "outputs": [],
      "source": [
        "df_5_B$x_barx = df_5_B$x - mean(df_5_B$x)\n",
        "df_5_B$yB_baryB = df_5_B$yB - mean(df_5_B$yB) "
      ],
      "id": "22a7e795-52d3-4e5a-bc24-9eb31e2917dd"
    },
    {
      "cell_type": "markdown",
      "metadata": {},
      "source": [
        "-   $S_{xx}, S_{yy},S_{xy}$를 구해주기 위해\n",
        "    $x_i - \\bar{x}, y_i - \\bar{y}$를 구했다."
      ],
      "id": "2a4345a0-d603-4aa9-94a2-ba97bfa57698"
    },
    {
      "cell_type": "code",
      "execution_count": 40,
      "metadata": {},
      "outputs": [],
      "source": [
        "df_5_B$x_barx2 <- df_5_B$x_barx^2\n",
        "df_5_B$yB_baryB2 <- df_5_B$yB_baryB^2\n",
        "df_5_B$xyB <-df_5_B$x_barx * df_5_B$yB_baryB"
      ],
      "id": "4fe7fc7e-a63f-49e1-bac8-d8fe7daf1ec8"
    },
    {
      "cell_type": "markdown",
      "metadata": {},
      "source": [
        "-   $S_{xx}, S_{yy},S_{xy}$를 구해주었다."
      ],
      "id": "728fc9e2-6b01-42d3-a147-670f6d1e52b8"
    },
    {
      "cell_type": "code",
      "execution_count": 41,
      "metadata": {},
      "outputs": [
        {
          "output_type": "display_data",
          "metadata": {},
          "data": {}
        }
      ],
      "source": [
        "df_5_B"
      ],
      "id": "d344cf09-8460-49c2-a87c-dc776469e871"
    },
    {
      "cell_type": "code",
      "execution_count": 42,
      "metadata": {},
      "outputs": [
        {
          "output_type": "display_data",
          "metadata": {},
          "data": {
            "text/html": [
              "<style>\n",
              ".dl-inline {width: auto; margin:0; padding: 0}\n",
              ".dl-inline>dt, .dl-inline>dd {float: none; width: auto; display: inline-block}\n",
              ".dl-inline>dt::after {content: \":\\0020\"; padding-right: .5ex}\n",
              ".dl-inline>dt:not(:first-of-type) {padding-left: .5ex}\n",
              "</style><dl class=dl-inline><dt>x</dt><dd>280</dd><dt>yA</dt><dd>126</dd><dt>yB</dt><dd>130.6</dd><dt>x_barx</dt><dd>0</dd><dt>yB_baryB</dt><dd>0</dd><dt>x_barx2</dt><dd>2800</dd><dt>yB_baryB2</dt><dd>67.377</dd><dt>xyB</dt><dd>406</dd></dl>"
            ]
          }
        }
      ],
      "source": [
        "round(colSums(df_5_B),3)"
      ],
      "id": "c09002e2-335d-43dc-b0d9-51ce5c058490"
    },
    {
      "cell_type": "markdown",
      "metadata": {},
      "source": [
        "$\\hat{\\beta_1} = \\frac{S_{xy}}{S_{xx}}$\n",
        "\n",
        "$\\hat{\\beta_0} = \\bar{y} - \\hat{\\beta_1}\\bar{x}$"
      ],
      "id": "c2f16e6c-a115-46ac-b668-81f4b34be753"
    },
    {
      "cell_type": "code",
      "execution_count": 43,
      "metadata": {},
      "outputs": [],
      "source": [
        "beta1_xyB <- as.numeric(colSums(df_5_B)[8]/colSums(df_5_B)[6])\n",
        "beta0_xyB <- mean(df_5_B$yB) - beta1_xyB *  mean(df_5_B$x)"
      ],
      "id": "903911d5-ae86-494b-aad9-55b398a78100"
    },
    {
      "cell_type": "code",
      "execution_count": 44,
      "metadata": {},
      "outputs": [
        {
          "output_type": "stream",
          "name": "stdout",
          "text": [
            "xyB hat beta0 =  12.85714\n",
            "xyB hat beta1 =  0.145"
          ]
        }
      ],
      "source": [
        "cat(\"xyB hat beta0 = \", beta0_xyB)\n",
        "cat(\"\\nxyB hat beta1 = \", beta1_xyB)"
      ],
      "id": "4dd947df-0101-4e38-9501-bd674cb74550"
    },
    {
      "cell_type": "markdown",
      "metadata": {},
      "source": [
        "$yB = 12.85714 + 0.145x$"
      ],
      "id": "08f6525c-91cd-47c9-abd0-0700b090ca2b"
    },
    {
      "cell_type": "code",
      "execution_count": 45,
      "metadata": {},
      "outputs": [],
      "source": [
        "SST_B = sum((df_5_B$yB - mean(df_5_B$yB))^2)"
      ],
      "id": "4d264a73-0f04-403a-ab1f-631118aebdc4"
    },
    {
      "cell_type": "code",
      "execution_count": 46,
      "metadata": {},
      "outputs": [],
      "source": [
        "SSR_B = sum( ( ( 12.85714 + 0.145*df_5_B$x)-mean(df_5_B$yB) )^2 )"
      ],
      "id": "8c332fd9-90e8-454a-bdb4-5870ab6a83ee"
    },
    {
      "cell_type": "code",
      "execution_count": 47,
      "metadata": {},
      "outputs": [],
      "source": [
        "SSE_B = sum( ( df_5_B$yB-( 12.85712 + 0.145 *df_5_B$x))^2 )"
      ],
      "id": "e762ce37-aa8e-496b-8685-87be31ae6b1a"
    },
    {
      "cell_type": "code",
      "execution_count": 48,
      "metadata": {},
      "outputs": [
        {
          "output_type": "stream",
          "name": "stdout",
          "text": [
            "yB SST =  67.37714 , df = 6\n",
            "yB SSR =  58.87 , df = 1\n",
            "yB SSE =  8.507143 , df = 5"
          ]
        }
      ],
      "source": [
        "cat(\"yB SST = \", SST_B,\", df = 6\")\n",
        "cat(\"\\nyB SSR = \", SSR_B,\", df = 1\")\n",
        "cat(\"\\nyB SSE = \", SSE_B, \", df = 5\")"
      ],
      "id": "a9b57a5d-7a1a-4d95-bc94-f8f9f2f3e9fd"
    },
    {
      "cell_type": "code",
      "execution_count": 49,
      "metadata": {},
      "outputs": [],
      "source": [
        "a <- df_5[,c(1,2)]"
      ],
      "id": "df0ab94c-5665-4705-9f67-ed194fa75836"
    },
    {
      "cell_type": "code",
      "execution_count": 50,
      "metadata": {},
      "outputs": [],
      "source": [
        "colnames(a) <- c('x','y')"
      ],
      "id": "5395281c-9c7d-481f-94e2-d58494b747eb"
    },
    {
      "cell_type": "code",
      "execution_count": 51,
      "metadata": {},
      "outputs": [],
      "source": [
        "b <- df_5[,c(1,3)]"
      ],
      "id": "85f36916-6cd5-4d44-b809-dd95bbcb03d0"
    },
    {
      "cell_type": "code",
      "execution_count": 52,
      "metadata": {},
      "outputs": [],
      "source": [
        "colnames(b) <- c('x','y')"
      ],
      "id": "a8bf3bd7-c891-414f-bebe-1caf665589df"
    },
    {
      "cell_type": "code",
      "execution_count": 53,
      "metadata": {},
      "outputs": [
        {
          "output_type": "display_data",
          "metadata": {},
          "data": {}
        }
      ],
      "source": [
        "df_5_AB <- rbind(a,b)\n",
        "df_5_AB"
      ],
      "id": "8955003d-7387-4c4d-b83a-75521f48e4cf"
    },
    {
      "cell_type": "code",
      "execution_count": 54,
      "metadata": {},
      "outputs": [],
      "source": [
        "df_5_AB$x_barx = df_5_AB$x - mean(df_5_AB$x)\n",
        "df_5_AB$y_bary = df_5_AB$y - mean(df_5_AB$y) "
      ],
      "id": "c0136a17-a936-4635-a866-c8b7c68089a6"
    },
    {
      "cell_type": "markdown",
      "metadata": {},
      "source": [
        "-   $S_{xx}, S_{yy},S_{xy}$를 구해주기 위해\n",
        "    $x_i - \\bar{x}, y_i - \\bar{y}$를 구했다."
      ],
      "id": "e6b6e8be-5052-40fc-aad7-7d77b081b1d1"
    },
    {
      "cell_type": "code",
      "execution_count": 55,
      "metadata": {},
      "outputs": [],
      "source": [
        "df_5_AB$x_barx2 <- df_5_AB$x_barx^2\n",
        "df_5_AB$y_bary2 <- df_5_AB$y_bary^2\n",
        "df_5_AB$xy <-df_5_AB$x_barx * df_5_AB$y_bary"
      ],
      "id": "7f11a64e-b29a-478b-8b09-b24374e1e4e7"
    },
    {
      "cell_type": "markdown",
      "metadata": {},
      "source": [
        "-   $S_{xx}, S_{yy},S_{xy}$를 구해주었다."
      ],
      "id": "55aa18ed-1dfb-4197-b79f-4dd2e075fed3"
    },
    {
      "cell_type": "code",
      "execution_count": 56,
      "metadata": {},
      "outputs": [
        {
          "output_type": "display_data",
          "metadata": {},
          "data": {}
        }
      ],
      "source": [
        "df_5_AB"
      ],
      "id": "25084aa4-5627-48e4-9287-ae1f4e932633"
    },
    {
      "cell_type": "code",
      "execution_count": 57,
      "metadata": {},
      "outputs": [
        {
          "output_type": "display_data",
          "metadata": {},
          "data": {
            "text/html": [
              "<style>\n",
              ".dl-inline {width: auto; margin:0; padding: 0}\n",
              ".dl-inline>dt, .dl-inline>dd {float: none; width: auto; display: inline-block}\n",
              ".dl-inline>dt::after {content: \":\\0020\"; padding-right: .5ex}\n",
              ".dl-inline>dt:not(:first-of-type) {padding-left: .5ex}\n",
              "</style><dl class=dl-inline><dt>x</dt><dd>560</dd><dt>y</dt><dd>256.6</dd><dt>x_barx</dt><dd>0</dd><dt>y_bary</dt><dd>0</dd><dt>x_barx2</dt><dd>5600</dd><dt>y_bary2</dt><dd>295.649</dd><dt>xy</dt><dd>1193</dd></dl>"
            ]
          }
        }
      ],
      "source": [
        "round(colSums(df_5_AB),3)"
      ],
      "id": "1fe346f8-0ab8-4e48-a83d-ea40de813a0a"
    },
    {
      "cell_type": "markdown",
      "metadata": {},
      "source": [
        "$\\hat{\\beta_1} = \\frac{S_{xy}}{S_{xx}}$\n",
        "\n",
        "$\\hat{\\beta_0} = \\bar{y} - \\hat{\\beta_1}\\bar{x}$"
      ],
      "id": "98dcdaca-fc1f-4b7c-bbe9-6bea884c08fc"
    },
    {
      "cell_type": "code",
      "execution_count": 58,
      "metadata": {},
      "outputs": [],
      "source": [
        "beta1_xy <- as.numeric(colSums(df_5_AB)[7]/colSums(df_5_AB)[5])\n",
        "beta0_xy <- mean(df_5_AB$y) - beta1_xy *  mean(df_5_AB$x)"
      ],
      "id": "40879944-a6b1-4e4e-8ebb-650092fd4305"
    },
    {
      "cell_type": "code",
      "execution_count": 59,
      "metadata": {},
      "outputs": [
        {
          "output_type": "stream",
          "name": "stdout",
          "text": [
            "xy hat beta0 =  9.807143\n",
            "xy hat beta1 =  0.2130357"
          ]
        }
      ],
      "source": [
        "cat(\"xy hat beta0 = \", beta0_xy)\n",
        "cat(\"\\nxy hat beta1 = \", beta1_xy)"
      ],
      "id": "62e2c154-0d28-4cb3-96ac-df89cc842284"
    },
    {
      "cell_type": "markdown",
      "metadata": {},
      "source": [
        "$\\text{y} = 9.807143 +0.2130357\\text{x}$"
      ],
      "id": "3b19403e-d32f-482d-abd7-bd6e9417d03b"
    },
    {
      "cell_type": "code",
      "execution_count": 60,
      "metadata": {},
      "outputs": [],
      "source": [
        "SST_5 = sum((df_5_AB$y - mean(df_5_AB$y))^2)"
      ],
      "id": "cc7a9fd9-aa91-4df1-9bda-1862b4dc8a36"
    },
    {
      "cell_type": "code",
      "execution_count": 61,
      "metadata": {},
      "outputs": [],
      "source": [
        "SSR_5 = sum( ( (9.807143 + 0.2130357*df_5_AB$x)-mean(df_5_AB$y) )^2 )"
      ],
      "id": "fdb5a61b-a466-436e-9fd6-238f1351ae98"
    },
    {
      "cell_type": "code",
      "execution_count": 62,
      "metadata": {},
      "outputs": [],
      "source": [
        "SSE_5 = sum( ( df_5_AB$y-(9.807143  +0.2130357 *df_5_AB$x))^2 )"
      ],
      "id": "ee69145b-0823-45a1-bd73-604f219f6903"
    },
    {
      "cell_type": "code",
      "execution_count": 63,
      "metadata": {},
      "outputs": [
        {
          "output_type": "stream",
          "name": "stdout",
          "text": [
            "y =  9.8071 +  0.213 x"
          ]
        }
      ],
      "source": [
        "cat(\"y = \",round(beta0_xy,4), \"+ \",round(beta1_xy,4) ,\"x\")"
      ],
      "id": "ad00c5cd-3c50-4751-bac2-3550bd15b53a"
    },
    {
      "cell_type": "code",
      "execution_count": 64,
      "metadata": {},
      "outputs": [
        {
          "output_type": "stream",
          "name": "stdout",
          "text": [
            "SST =  295.6486 , df = 13\n",
            "SSR =  254.1516 , df = 1\n",
            "SSE =  41.49696 , df = 12"
          ]
        }
      ],
      "source": [
        "cat(\"SST = \", SST_5,\", df = 13\")\n",
        "cat(\"\\nSSR = \", SSR_5,\", df = 1\")\n",
        "cat(\"\\nSSE = \", SSE_5, \", df = 12\")"
      ],
      "id": "28c5fc17-b4ac-4c16-9ab6-5cc5580a67a3"
    },
    {
      "cell_type": "code",
      "execution_count": 65,
      "metadata": {},
      "outputs": [
        {
          "output_type": "stream",
          "name": "stdout",
          "text": [
            "yA =  6.7571 +  0.2811 x"
          ]
        }
      ],
      "source": [
        "cat(\"yA = \",round(beta0_xyA,4), \"+ \",round(beta1_xyA,4) ,\"x\")"
      ],
      "id": "ec97a25a-ebd5-42f5-ae8f-796bc67b2bc3"
    },
    {
      "cell_type": "code",
      "execution_count": 66,
      "metadata": {
        "tags": []
      },
      "outputs": [
        {
          "output_type": "stream",
          "name": "stdout",
          "text": [
            "yA SST =  226.76 , df = 6\n",
            "yA SSR =  221.2032 , df = 1\n",
            "yA SSE =  5.556786 , df = 5"
          ]
        }
      ],
      "source": [
        "cat(\"yA SST = \", SST_A,\", df = 6\")\n",
        "cat(\"\\nyA SSR = \", SSR_A,\", df = 1\")\n",
        "cat(\"\\nyA SSE = \", SSE_A, \", df = 5\")"
      ],
      "id": "23ab6338-728a-4f67-8437-7b486cb55226"
    },
    {
      "cell_type": "code",
      "execution_count": 67,
      "metadata": {},
      "outputs": [
        {
          "output_type": "stream",
          "name": "stdout",
          "text": [
            "yB =  12.8571 +  0.145 x"
          ]
        }
      ],
      "source": [
        "cat(\"yB = \",round(beta0_xyB,4), \"+ \",round(beta1_xyB,4) ,\"x\")"
      ],
      "id": "31e3d5d7-f0b9-4c40-b100-96e34cf3a72e"
    },
    {
      "cell_type": "code",
      "execution_count": 68,
      "metadata": {},
      "outputs": [
        {
          "output_type": "stream",
          "name": "stdout",
          "text": [
            "yB SST =  67.37714 , df = 6\n",
            "yB SSR =  58.87 , df = 1\n",
            "yB SSE =  8.507143 , df = 5"
          ]
        }
      ],
      "source": [
        "cat(\"yB SST = \", SST_B,\", df = 6\")\n",
        "cat(\"\\nyB SSR = \", SSR_B,\", df = 1\")\n",
        "cat(\"\\nyB SSE = \", SSE_B, \", df = 5\")"
      ],
      "id": "c6c311cd-0564-4e32-93c3-63348923adfe"
    },
    {
      "cell_type": "markdown",
      "metadata": {},
      "source": [
        "가설\n",
        "\n",
        "$H_0 : \\beta_{01} = \\beta_{02} \\text{ and } \\beta_{11} = \\beta_{12}$\n",
        "\n",
        "$H_1 : \\beta_{01} \\neq \\beta_{02} \\text{ or } \\beta_{11} \\neq \\beta_{12}$\n",
        "\n",
        "검정통계량\n",
        "\n",
        "$F_0 = \\frac{SSE(R) - SSE(F)}{df_R-df_F} \\times \\frac{df_F}{SSE(F)}$"
      ],
      "id": "11d6d59c-3ffa-4225-aeb4-7c6f9196a3bb"
    },
    {
      "cell_type": "code",
      "execution_count": 69,
      "metadata": {},
      "outputs": [],
      "source": [
        "SSE_5_F = SSE_A + SSE_B\n",
        "df_5_F = 5 -2 + 5 -2"
      ],
      "id": "baf0055b-911b-4486-9121-bee532ffe406"
    },
    {
      "cell_type": "code",
      "execution_count": 70,
      "metadata": {},
      "outputs": [],
      "source": [
        "SSE_5_R = SSE_5\n",
        "df_5_R = 5 -1 + 5 -1"
      ],
      "id": "265a4454-6412-42e6-a6c8-55fd366317cc"
    },
    {
      "cell_type": "code",
      "execution_count": 71,
      "metadata": {},
      "outputs": [
        {
          "output_type": "display_data",
          "metadata": {},
          "data": {
            "text/html": [
              "5.8517864828756"
            ]
          }
        }
      ],
      "source": [
        "F_5_0 = (SSE_5_R - SSE_5_F)/(df_5_R - df_5_F) / (SSE_5_F/df_5_F)\n",
        "F_5_0"
      ],
      "id": "e18b9605-1758-4c32-93ed-b112101bbee5"
    },
    {
      "cell_type": "code",
      "execution_count": 72,
      "metadata": {},
      "outputs": [
        {
          "output_type": "display_data",
          "metadata": {},
          "data": {
            "text/html": [
              "2"
            ]
          }
        }
      ],
      "source": [
        "df_5_R - df_5_F"
      ],
      "id": "a2442157-e407-46ae-8249-3824b974d9ad"
    },
    {
      "cell_type": "code",
      "execution_count": 73,
      "metadata": {},
      "outputs": [
        {
          "output_type": "display_data",
          "metadata": {},
          "data": {
            "text/html": [
              "6"
            ]
          }
        }
      ],
      "source": [
        "df_5_F"
      ],
      "id": "cce7c009-6b94-4213-a928-9e24cb3f31e4"
    },
    {
      "cell_type": "code",
      "execution_count": 74,
      "metadata": {},
      "outputs": [
        {
          "output_type": "display_data",
          "metadata": {},
          "data": {
            "text/html": [
              "4.1028210151304"
            ]
          }
        }
      ],
      "source": [
        "F_5_stan = qf(0.95,2,10)\n",
        "F_5_stan"
      ],
      "id": "26d09cd6-0128-41ea-8bd2-fc17cc78c912"
    },
    {
      "cell_type": "code",
      "execution_count": 75,
      "metadata": {},
      "outputs": [
        {
          "output_type": "stream",
          "name": "stdout",
          "text": [
            "5.851786  는 유의수준 0.05에서 F값  4.102821  보다 크다.\n",
            "따라서 귀무가설을 기각하였고, 두 회귀모형은 beta0가 다르거나\n",
            "혹은 beta1이 다르거나 혹은 beta0,beta1 모두가 다르다."
          ]
        }
      ],
      "source": [
        "cat(F_5_0, \" 는 유의수준 0.05에서 F값 \", F_5_stan , \" 보다 크다.\")\n",
        "\n",
        "cat(\"\\n따라서 귀무가설을 기각하였고, 두 회귀모형은 beta0가 다르거나\")\n",
        "\n",
        "cat(\"\\n혹은 beta1이 다르거나 혹은 beta0,beta1 모두가 다르다.\")"
      ],
      "id": "8bd12552-f514-49d7-8b9d-dd520bc4a02e"
    },
    {
      "cell_type": "markdown",
      "metadata": {},
      "source": [
        "$H_0 : \\beta_{01} = \\beta_{02} \\text{ and } \\beta_{11} = \\beta_{12}$\n",
        "기각\n",
        "\n",
        "## (3)\n",
        "\n",
        "관심의 대상이 $x$가 증가함에 따라 $y$ 가 얼마나 증가하는가에 있다. 두\n",
        "회사의 타이어에 대하여 각각 회귀모형을 적합했을 때, 기울기가 같은지\n",
        "유의수준 5%로 검정하시오.\n",
        "\n",
        "**Answer**\n",
        "\n",
        "기울기 비교에 대한 가설\n",
        "\n",
        "$H_0 : \\beta_{11} = \\beta_{12} \\text{ vs. } H_1 : \\beta_{11} \\neq \\beta_{12}$\n",
        "\n",
        "검정통계량\n",
        "\n",
        "$t_0 = \\frac{ \\hat{\\beta}_{11} - \\hat{\\beta}_{12} }{ \\sqrt{ \\hat{Var}( \\hat{\\beta}_{11} - \\hat{\\beta}_{12} ) } }$\n",
        "\n",
        "$\\text{Degree of Freedom} = t((n_1 - 1) + (n_2 - 1))$\n",
        "\n",
        "$\\hat{Var}( \\hat{\\beta}_{11} - \\hat{\\beta}_{12} ) = MSE(F) [\\frac{1}{\\sum(x_{1j} - \\bar{x}_1)^2} + \\frac{1}{\\sum(x_{2j} - \\bar{x}_2)^2}]$"
      ],
      "id": "ed609420-9afc-47d5-96af-5c9cacb53a98"
    },
    {
      "cell_type": "code",
      "execution_count": 76,
      "metadata": {},
      "outputs": [
        {
          "output_type": "display_data",
          "metadata": {},
          "data": {
            "text/html": [
              "0.2811"
            ]
          }
        }
      ],
      "source": [
        "round(beta1_xyA,4)"
      ],
      "id": "6c7bfeda-77ca-4ddc-875a-4eed2566b48a"
    },
    {
      "cell_type": "code",
      "execution_count": 77,
      "metadata": {},
      "outputs": [
        {
          "output_type": "display_data",
          "metadata": {},
          "data": {
            "text/html": [
              "0.145"
            ]
          }
        }
      ],
      "source": [
        "round(beta1_xyB,4)"
      ],
      "id": "38ff9e2e-618e-412c-b9c4-fb3602aa129f"
    },
    {
      "cell_type": "code",
      "execution_count": 78,
      "metadata": {},
      "outputs": [
        {
          "output_type": "display_data",
          "metadata": {},
          "data": {
            "text/html": [
              "14.063928575095"
            ]
          }
        }
      ],
      "source": [
        "SSE_5_F"
      ],
      "id": "8d1d628b-f80f-4cac-88ce-7be5bb9b7297"
    },
    {
      "cell_type": "code",
      "execution_count": 79,
      "metadata": {},
      "outputs": [
        {
          "output_type": "display_data",
          "metadata": {},
          "data": {
            "text/html": [
              "2.34398809584917"
            ]
          }
        }
      ],
      "source": [
        "MSE_5_F = SSE_5_F / df_5_F\n",
        "MSE_5_F"
      ],
      "id": "95a969df-1359-42cc-ab61-2da593ca7e74"
    },
    {
      "cell_type": "code",
      "execution_count": 80,
      "metadata": {},
      "outputs": [
        {
          "output_type": "display_data",
          "metadata": {},
          "data": {
            "text/html": [
              "2800"
            ]
          }
        }
      ],
      "source": [
        "sum(df_5_A$x_barx2)"
      ],
      "id": "fdb3b582-f2e4-4d61-ab62-2ec82a587649"
    },
    {
      "cell_type": "code",
      "execution_count": 81,
      "metadata": {},
      "outputs": [
        {
          "output_type": "display_data",
          "metadata": {},
          "data": {
            "text/html": [
              "2800"
            ]
          }
        }
      ],
      "source": [
        "sum(df_5_B$x_barx2)"
      ],
      "id": "a180b1c5-806f-479e-8394-5988b444ec4c"
    },
    {
      "cell_type": "code",
      "execution_count": 82,
      "metadata": {},
      "outputs": [
        {
          "output_type": "display_data",
          "metadata": {},
          "data": {
            "text/html": [
              "0.00167427721132084"
            ]
          }
        }
      ],
      "source": [
        "var_5_diff = MSE_5_F * (1/sum(df_5_A$x_barx2) + 1/sum(df_5_B$x_barx2))\n",
        "var_5_diff"
      ],
      "id": "b5fad8ca-6e6d-463f-ac9e-3dc35cd3ddc0"
    },
    {
      "cell_type": "code",
      "execution_count": 83,
      "metadata": {},
      "outputs": [
        {
          "output_type": "display_data",
          "metadata": {},
          "data": {
            "text/html": [
              "3.32547173820247"
            ]
          }
        }
      ],
      "source": [
        "t_5_0 = (beta1_xyA - beta1_xyB)/sqrt(var_5_diff)\n",
        "t_5_0"
      ],
      "id": "3870be52-dc25-4191-84a0-f49ed5336dea"
    },
    {
      "cell_type": "code",
      "execution_count": 84,
      "metadata": {},
      "outputs": [
        {
          "output_type": "display_data",
          "metadata": {},
          "data": {
            "text/html": [
              "1.9431802805153"
            ]
          }
        }
      ],
      "source": [
        "qt(0.95,df_5_F)"
      ],
      "id": "915d6787-1b43-4472-a0c9-d04e0514df0e"
    },
    {
      "cell_type": "code",
      "execution_count": 85,
      "metadata": {},
      "outputs": [
        {
          "output_type": "stream",
          "name": "stdout",
          "text": [
            "3.325472 는  1.94318 보다 크다. 따라서 유의수준 5%에서 귀무가설을 기각하여 두 회귀모형의 기울기가 다르다고 할 수 있다."
          ]
        }
      ],
      "source": [
        "cat(t_5_0,\"는 \",qt(0.95,df_5_F),\"보다 크다. 따라서 유의수준 5%에서 귀무가설을 기각하여 두 회귀모형의 기울기가 다르다고 할 수 있다.\")"
      ],
      "id": "5ba421e8-e858-427b-b097-0a849b74ca3c"
    },
    {
      "cell_type": "markdown",
      "metadata": {},
      "source": [
        "$H_0 : \\beta_{11} = \\beta_{12}$ 기각\n",
        "\n",
        "------------------------------------------------------------------------\n",
        "\n",
        "# 6.\n",
        "\n",
        "**R 실습**. 아마존 강 수위 문제 아마존 강 유역은 지구상의 가장 큰 열대림\n",
        "지역이지만 대부분의 다른 자연자원과 마찬가지로 개발의 손길이 미치면서\n",
        "열대림이 급속히 파괴됐다. 1970년대 이후 아마존 상류지역에 도로가\n",
        "건설되면서 인구가 빠르게 증가되었고 대규모의 삼림파괴가 이뤄졌다.\n",
        "강수량과 유수량이 모두 영향을 받을 수 있기 때문에 이것은 결국 아마존 강\n",
        "전체에 영향을 미치는 심각한 기후학적 및 수문학적 변화를 가져왔다. 다음의\n",
        "표는 페루 이키토스(Iquitos)에서 1962년부터 1978년까지 기록한 아마존 강\n",
        "최고수위 (High)와, 최저수위 (Low)를 기록한 것이다(단위: 미터).1962년부터\n",
        "1969년까지의 데이터는 개발 이전에 수집된 데이터이고, 1970년부터\n",
        "1978년까지의 데이터는 개발이후에 관측된 데이터를 나타낸다. 이 데이터는\n",
        "아마존 상류지역의 삼림파괴가 아마존 유역의 강 수위에 변화를 일으켰는지\n",
        "분석하고자 한다. 우리의 관심은 시간에 따른 아마존 강 수위 변화여부이다.\n",
        "예를 들어, 우리가 다음을 적합한다면\n",
        "\n",
        "$$\\text{High} = \\beta_0 + \\beta_1 \\times \\text{Year} + \\epsilon$$\n",
        "\n",
        "1.  $\\beta_1 = 0$은 시간에 따른 아마존 강의 최고수위에 아무런\n",
        "    (선형)변화가 없다는 것을 의미하고,\n",
        "\n",
        "2.  $\\beta_1 > 0$은 아마존 강의 최고수위가 증가된 것을 의미하는데,\n",
        "    이것은 해마다 아마존 강의 흐르는 물이 늘어난 것을 나타낼 수 있다.\n",
        "\n",
        "3.  $\\beta_1 < 0$은 시간에 따라 아마존 강의 최고수위가 낮아진 것을\n",
        "    의미하는데, 이것은 해마다 아마존 강의 흐르는 물이 줄어든 것을\n",
        "    의미한다. 다음의 물음에 답하시오.\n",
        "\n",
        "$$\\text{Table 1: 아마존 강 데이터 (Amazon River data)}$$\n",
        "\n",
        "| Year | High(m) | Low(m) |\n",
        "|:----:|:-------:|:------:|\n",
        "| 1962 |  25.82  | 18.24  |\n",
        "| 1963 |  25.35  | 16.50  |\n",
        "| 1964 |  24.29  | 20.26  |\n",
        "| 1965 |  24.05  | 20.97  |\n",
        "| 1966 |  24.89  | 19.43  |\n",
        "| 1967 |  25.35  | 19.31  |\n",
        "| 1968 |  25.23  | 20.85  |\n",
        "| 1969 |  25.06  | 19.54  |\n",
        "| 1970 |  27.13  | 20.49  |\n",
        "| 1971 |  27.36  | 21.91  |\n",
        "| 1972 |  26.65  | 22.51  |\n",
        "| 1973 |  27.13  | 18.81  |\n",
        "| 1974 |  27.49  | 19.42  |\n",
        "| 1975 |  27.08  | 19.10  |\n",
        "| 1976 |  27.51  | 18.80  |\n",
        "| 1977 |  27.54  | 18.80  |\n",
        "| 1978 |  26.21  | 17.57  |\n",
        "\n",
        "## (1)\n",
        "\n",
        "High와 Year, Low와 Year, 그리고 High와 Low에 대해 산점도를 그리시오.\n",
        "\n",
        "**Answer**"
      ],
      "id": "ce93d750-c6b9-4c7c-9e26-5a3812b66638"
    },
    {
      "cell_type": "code",
      "execution_count": 86,
      "metadata": {},
      "outputs": [
        {
          "output_type": "display_data",
          "metadata": {},
          "data": {}
        }
      ],
      "source": [
        "df_6 = data.frame(Year = c(1962,1963,1964,1965,1966,1967,1968,1969,1970,1971,1972,1973,1974,1975,1976,1977,1978),\n",
        "           High = c(25.82, 25.35, 24.29, 24.05, 24.89, 25.35, 25.23, 25.06, 27.13, 27.36, 26.65, 27.13, 27.49, 27.08, 27.51, 27.54, 26.21),\n",
        "           Low = c(18.24, 16.50, 20.26, 20.97, 19.43, 19.31, 20.85, 19.54, 20.49, 21.91, 22.51, 18.81, 19.42, 19.10, 18.80, 18.80, 17.57))\n",
        "df_6"
      ],
      "id": "90af3408-aa35-4b22-94b2-a348e274029e"
    },
    {
      "cell_type": "code",
      "execution_count": 87,
      "metadata": {},
      "outputs": [
        {
          "output_type": "display_data",
          "metadata": {},
          "data": {
            "image/png": "[encoded data removed]"
          }
        }
      ],
      "source": [
        "plot(df_6$High,df_6$Year,\n",
        "     xlab = \"Year\",\n",
        "     ylab = \"High\",\n",
        "     pch  = 16,\n",
        "     cex  = 1)"
      ],
      "id": "2b851a0e-ea1a-43b8-bda2-98cbc5fa8efb"
    },
    {
      "cell_type": "markdown",
      "metadata": {},
      "source": [
        "양의 기울기로 선형 관계를 갖는 모습이다."
      ],
      "id": "be43b0b4-8d3a-46e1-b587-4a390e4ccbb9"
    },
    {
      "cell_type": "code",
      "execution_count": 88,
      "metadata": {},
      "outputs": [
        {
          "output_type": "display_data",
          "metadata": {},
          "data": {
            "image/png": "[encoded data removed]"
          }
        }
      ],
      "source": [
        "plot(df_6$Low~df_6$Year,\n",
        "     xlab = \"Year\",\n",
        "     ylab = \"Low\",\n",
        "     pch  = 16,\n",
        "     cex  = 1)"
      ],
      "id": "71481adc-78a0-4b07-875a-8cded7356401"
    },
    {
      "cell_type": "markdown",
      "metadata": {},
      "source": [
        "이차함수 모양의 연관이 있는 모양새이다."
      ],
      "id": "e8f9433b-00e0-4027-a3c7-1745e9f4927b"
    },
    {
      "cell_type": "code",
      "execution_count": 89,
      "metadata": {},
      "outputs": [
        {
          "output_type": "display_data",
          "metadata": {},
          "data": {
            "image/png": "[encoded data removed]"
          }
        }
      ],
      "source": [
        "plot(df_6$Low~df_6$High,\n",
        "    xlab = \"Low\",\n",
        "     ylab = \"High\",\n",
        "     pch  = 16,\n",
        "     cex  = 1)"
      ],
      "id": "5e0bf193-8fdd-43e0-8f58-4aef55f5a3f7"
    },
    {
      "cell_type": "markdown",
      "metadata": {},
      "source": [
        "관련이 있는지 모르겠다.\n",
        "\n",
        "## (2)\n",
        "\n",
        "Year에 대한 High, Year에 대한 Low, 그리고 Low에 대한 High의 회귀모형을\n",
        "구하시오. 3개 회귀모형의 결과를 요약하고, 각 모형별로 회귀계수의 의미를\n",
        "설명하시오.\n",
        "\n",
        "**Answer**\n",
        "\n",
        "**Year에 대한 High의 회귀모형**"
      ],
      "id": "dc5c4d02-b294-4a37-ab5f-fdf76e706514"
    },
    {
      "cell_type": "code",
      "execution_count": 90,
      "metadata": {},
      "outputs": [],
      "source": [
        "df_6_YearHigh <- df_6"
      ],
      "id": "e579f69d-fbf4-423f-888f-0934e2d80a80"
    },
    {
      "cell_type": "code",
      "execution_count": 91,
      "metadata": {},
      "outputs": [],
      "source": [
        "df_6_YearHigh$Year_barYear = df_6_YearHigh$Year - mean(df_6_YearHigh$Year)\n",
        "df_6_YearHigh$High_barHigh = df_6_YearHigh$High - mean(df_6_YearHigh$High) "
      ],
      "id": "d1d6d855-0547-4bf8-bff8-1542ced2c593"
    },
    {
      "cell_type": "markdown",
      "metadata": {},
      "source": [
        "-   $S_{xx}, S_{yy},S_{xy}$를 구해주기 위해\n",
        "    $x_i - \\bar{x}, y_i - \\bar{y}$를 구했다."
      ],
      "id": "68128422-a75f-4269-9476-83832acdb01b"
    },
    {
      "cell_type": "code",
      "execution_count": 92,
      "metadata": {},
      "outputs": [],
      "source": [
        "df_6_YearHigh$Year_barYear2 <- df_6_YearHigh$Year_barYear^2\n",
        "df_6_YearHigh$High_barHigh2 <- df_6_YearHigh$High_barHigh^2\n",
        "df_6_YearHigh$YearHigh <-df_6_YearHigh$Year_barYear * df_6_YearHigh$High_barHigh"
      ],
      "id": "ce21e812-98f2-4159-a9ea-24c52746da38"
    },
    {
      "cell_type": "markdown",
      "metadata": {},
      "source": [
        "-   $S_{xx}, S_{yy},S_{xy}$를 구해주었다."
      ],
      "id": "852d52a7-78df-49b7-b264-cb3a86df5dce"
    },
    {
      "cell_type": "code",
      "execution_count": 93,
      "metadata": {},
      "outputs": [
        {
          "output_type": "display_data",
          "metadata": {},
          "data": {}
        }
      ],
      "source": [
        "df_6_YearHigh"
      ],
      "id": "79a328d7-0362-412f-b34b-6aebe248531d"
    },
    {
      "cell_type": "code",
      "execution_count": 94,
      "metadata": {},
      "outputs": [
        {
          "output_type": "display_data",
          "metadata": {},
          "data": {
            "text/html": [
              "<style>\n",
              ".dl-inline {width: auto; margin:0; padding: 0}\n",
              ".dl-inline>dt, .dl-inline>dd {float: none; width: auto; display: inline-block}\n",
              ".dl-inline>dt::after {content: \":\\0020\"; padding-right: .5ex}\n",
              ".dl-inline>dt:not(:first-of-type) {padding-left: .5ex}\n",
              "</style><dl class=dl-inline><dt>Year</dt><dd>33490</dd><dt>High</dt><dd>444.14</dd><dt>Low</dt><dd>332.51</dd><dt>Year_barYear</dt><dd>0</dd><dt>High_barHigh</dt><dd>0</dd><dt>Year_barYear2</dt><dd>408</dd><dt>High_barHigh2</dt><dd>22.951</dd><dt>YearHigh</dt><dd>73.8</dd></dl>"
            ]
          }
        }
      ],
      "source": [
        "round(colSums(df_6_YearHigh),3)"
      ],
      "id": "2896e5c0-2a89-433f-84f2-a8639dbdba9a"
    },
    {
      "cell_type": "markdown",
      "metadata": {},
      "source": [
        "$\\hat{\\beta_1} = \\frac{S_{xy}}{S_{xx}}$\n",
        "\n",
        "$\\hat{\\beta_0} = \\bar{y} - \\hat{\\beta_1}\\bar{x}$"
      ],
      "id": "cb30e5e6-4f78-4481-87e8-3b113418a675"
    },
    {
      "cell_type": "code",
      "execution_count": 95,
      "metadata": {},
      "outputs": [],
      "source": [
        "beta1_YearHigh <- as.numeric(colSums(df_6_YearHigh)[8]/colSums(df_6_YearHigh)[6])\n",
        "beta0_YearHigh <- mean(df_6_YearHigh$High) - beta1_YearHigh *  mean(df_6_YearHigh$Year)"
      ],
      "id": "656c6798-c45a-4042-8c03-3638ffb5a203"
    },
    {
      "cell_type": "code",
      "execution_count": 96,
      "metadata": {},
      "outputs": [
        {
          "output_type": "stream",
          "name": "stdout",
          "text": [
            "YearHigh hat beta0 =  -330.2124\n",
            "YearHigh hat beta1 =  0.1808824"
          ]
        }
      ],
      "source": [
        "cat(\"YearHigh hat beta0 = \", beta0_YearHigh)\n",
        "cat(\"\\nYearHigh hat beta1 = \", beta1_YearHigh)"
      ],
      "id": "a3f7f617-e92e-48a2-9612-c00dd8b1bbfb"
    },
    {
      "cell_type": "markdown",
      "metadata": {},
      "source": [
        "$\\text{High} = -330.21235 + 0.18088\\text{Year}$\n",
        "\n",
        "R결과와 비교"
      ],
      "id": "b8d980f6-74e2-4912-bc13-e9df410a9aa9"
    },
    {
      "cell_type": "code",
      "execution_count": 97,
      "metadata": {},
      "outputs": [
        {
          "output_type": "display_data",
          "metadata": {},
          "data": {
            "text/plain": [
              "\n",
              "Call:\n",
              "lm(formula = df_6$High ~ df_6$Year)\n",
              "\n",
              "Residuals:\n",
              "    Min      1Q  Median      3Q     Max \n",
              "-1.3629 -0.5341  0.1479  0.4903  1.1412 \n",
              "\n",
              "Coefficients:\n",
              "              Estimate Std. Error t value Pr(>|t|)    \n",
              "(Intercept) -330.21235   78.03319  -4.232 0.000725 ***\n",
              "df_6$Year      0.18088    0.03961   4.567 0.000371 ***\n",
              "---\n",
              "Signif. codes:  0 ‘***’ 0.001 ‘**’ 0.01 ‘*’ 0.05 ‘.’ 0.1 ‘ ’ 1\n",
              "\n",
              "Residual standard error: 0.8001 on 15 degrees of freedom\n",
              "Multiple R-squared:  0.5816,    Adjusted R-squared:  0.5537 \n",
              "F-statistic: 20.85 on 1 and 15 DF,  p-value: 0.0003708"
            ]
          }
        }
      ],
      "source": [
        "summary(lm(df_6$High~df_6$Year))"
      ],
      "id": "65cfe5b0-7462-4813-810a-a06cfd2266c5"
    },
    {
      "cell_type": "markdown",
      "metadata": {},
      "source": [
        "R결과 해석 - beta0과 beta1이 5%보다 유의확률이 작아 유의미하다. - 모형의\n",
        "설명력은 50%정도에 머문다. - 모형의 p값이 0.05보다 작아 유의미하다고 볼\n",
        "수 있다.\n",
        "\n",
        "**Year에 대한 Low의 회귀모형**"
      ],
      "id": "59178b82-372c-4ba4-944a-706ceb1bc14a"
    },
    {
      "cell_type": "code",
      "execution_count": 98,
      "metadata": {},
      "outputs": [],
      "source": [
        "df_6_YearLow <- df_6"
      ],
      "id": "962398e3-f4cd-4ccc-a558-7f39c4f60ccc"
    },
    {
      "cell_type": "code",
      "execution_count": 99,
      "metadata": {},
      "outputs": [],
      "source": [
        "df_6_YearLow$Year_barYear = df_6_YearLow$Year - mean(df_6_YearLow$Year)\n",
        "df_6_YearLow$Low_barLow = df_6_YearLow$Low - mean(df_6_YearLow$Low) "
      ],
      "id": "93a75ad9-1651-4042-b53c-b3865e441cf4"
    },
    {
      "cell_type": "markdown",
      "metadata": {},
      "source": [
        "-   $S_{xx}, S_{yy},S_{xy}$를 구해주기 위해\n",
        "    $x_i - \\bar{x}, y_i - \\bar{y}$를 구했다."
      ],
      "id": "9d94b282-ac2f-43b3-8b8c-d3639e64fa7f"
    },
    {
      "cell_type": "code",
      "execution_count": 100,
      "metadata": {},
      "outputs": [],
      "source": [
        "df_6_YearLow$Year_barYear2 <- df_6_YearLow$Year_barYear^2\n",
        "df_6_YearLow$Low_barLow2 <- df_6_YearLow$Low_barLow^2\n",
        "df_6_YearLow$YearLow <-df_6_YearLow$Year_barYear * df_6_YearLow$Low_barLow"
      ],
      "id": "aa02058c-7569-47a2-8a8e-3c5b4865c623"
    },
    {
      "cell_type": "markdown",
      "metadata": {},
      "source": [
        "-   $S_{xx}, S_{yy},S_{xy}$를 구해주었다."
      ],
      "id": "889b09ee-dadc-48c7-b357-33a6a5d41bea"
    },
    {
      "cell_type": "code",
      "execution_count": 101,
      "metadata": {},
      "outputs": [
        {
          "output_type": "display_data",
          "metadata": {},
          "data": {}
        }
      ],
      "source": [
        "df_6_YearLow"
      ],
      "id": "c3afa356-8a35-4b05-96b5-994c468b1bd5"
    },
    {
      "cell_type": "code",
      "execution_count": 102,
      "metadata": {},
      "outputs": [
        {
          "output_type": "display_data",
          "metadata": {},
          "data": {
            "text/html": [
              "<style>\n",
              ".dl-inline {width: auto; margin:0; padding: 0}\n",
              ".dl-inline>dt, .dl-inline>dd {float: none; width: auto; display: inline-block}\n",
              ".dl-inline>dt::after {content: \":\\0020\"; padding-right: .5ex}\n",
              ".dl-inline>dt:not(:first-of-type) {padding-left: .5ex}\n",
              "</style><dl class=dl-inline><dt>Year</dt><dd>33490</dd><dt>High</dt><dd>444.14</dd><dt>Low</dt><dd>332.51</dd><dt>Year_barYear</dt><dd>0</dd><dt>Low_barLow</dt><dd>0</dd><dt>Year_barYear2</dt><dd>408</dd><dt>Low_barLow2</dt><dd>36.327</dd><dt>YearLow</dt><dd>-3.22</dd></dl>"
            ]
          }
        }
      ],
      "source": [
        "round(colSums(df_6_YearLow),3)"
      ],
      "id": "b7b11762-8f4d-4d15-bd00-844947421e9e"
    },
    {
      "cell_type": "markdown",
      "metadata": {},
      "source": [
        "$\\hat{\\beta_1} = \\frac{S_{xy}}{S_{xx}}$\n",
        "\n",
        "$\\hat{\\beta_0} = \\bar{y} - \\hat{\\beta_1}\\bar{x}$"
      ],
      "id": "b491a86f-0b8c-460d-b674-cb4d11f7a653"
    },
    {
      "cell_type": "code",
      "execution_count": 103,
      "metadata": {},
      "outputs": [],
      "source": [
        "beta1_YearLow <- as.numeric(colSums(df_6_YearLow)[8]/colSums(df_6_YearLow)[6])\n",
        "beta0_YearLow <- mean(df_6_YearLow$Low) - beta1_YearLow *  mean(df_6_YearLow$Year)"
      ],
      "id": "17d52cb5-20e7-4d54-b3d4-4580ddb71a4e"
    },
    {
      "cell_type": "code",
      "execution_count": 104,
      "metadata": {},
      "outputs": [
        {
          "output_type": "stream",
          "name": "stdout",
          "text": [
            "YearLow hat beta0 =  35.10696\n",
            "YearLow hat beta1 =  -0.007892157"
          ]
        }
      ],
      "source": [
        "cat(\"YearLow hat beta0 = \", beta0_YearLow)\n",
        "cat(\"\\nYearLow hat beta1 = \", beta1_YearLow)"
      ],
      "id": "db92237c-f09d-489b-8dce-66738ff5b8b1"
    },
    {
      "cell_type": "markdown",
      "metadata": {},
      "source": [
        "$\\text{Low} = 35.106961 -0.007892\\text{Year}$\n",
        "\n",
        "R결과와 비교"
      ],
      "id": "87fab70b-3559-4df0-abe6-e223e6b1370f"
    },
    {
      "cell_type": "code",
      "execution_count": 105,
      "metadata": {},
      "outputs": [
        {
          "output_type": "display_data",
          "metadata": {},
          "data": {
            "text/plain": [
              "\n",
              "Call:\n",
              "lm(formula = df_6$Low ~ df_6$Year)\n",
              "\n",
              "Residuals:\n",
              "    Min      1Q  Median      3Q     Max \n",
              "-3.1147 -0.7121 -0.1610  0.9306  2.9664 \n",
              "\n",
              "Coefficients:\n",
              "              Estimate Std. Error t value Pr(>|t|)\n",
              "(Intercept)  35.106961 151.723912   0.231     0.82\n",
              "df_6$Year    -0.007892   0.077017  -0.102     0.92\n",
              "\n",
              "Residual standard error: 1.556 on 15 degrees of freedom\n",
              "Multiple R-squared:  0.0006996, Adjusted R-squared:  -0.06592 \n",
              "F-statistic: 0.0105 on 1 and 15 DF,  p-value: 0.9197"
            ]
          }
        }
      ],
      "source": [
        "summary(lm(df_6$Low~df_6$Year))"
      ],
      "id": "c83090c0-3bad-4821-ace8-5a7e035d3aec"
    },
    {
      "cell_type": "markdown",
      "metadata": {},
      "source": [
        "R결과 해석 - beta0과 beta1이 5%보다 유의확률이 커 유의미하지 않다. -\n",
        "모형의 설명력은 굉장히 낮았다. - 모형의 p값이 0.05보다 커 유의미하지\n",
        "않다.\n",
        "\n",
        "**Low에 대한 High의 회귀모형**"
      ],
      "id": "ee6f813d-4230-44c8-8455-107a02cece81"
    },
    {
      "cell_type": "code",
      "execution_count": 106,
      "metadata": {},
      "outputs": [],
      "source": [
        "df_6_LowHigh <- df_6"
      ],
      "id": "68f3c942-ef2e-4c95-85ac-51118e4adef4"
    },
    {
      "cell_type": "code",
      "execution_count": 107,
      "metadata": {},
      "outputs": [],
      "source": [
        "df_6_LowHigh$Low_barLow = df_6_LowHigh$Low - mean(df_6_LowHigh$Low)\n",
        "df_6_LowHigh$High_barHigh = df_6_LowHigh$High - mean(df_6_LowHigh$High) "
      ],
      "id": "56ababb9-ef0e-4cc8-abf9-d1e4f7d9f1d1"
    },
    {
      "cell_type": "markdown",
      "metadata": {},
      "source": [
        "-   $S_{xx}, S_{yy},S_{xy}$를 구해주기 위해\n",
        "    $x_i - \\bar{x}, y_i - \\bar{y}$를 구했다."
      ],
      "id": "5e34e2fb-496d-4943-af92-800fcc1acb46"
    },
    {
      "cell_type": "code",
      "execution_count": 108,
      "metadata": {},
      "outputs": [],
      "source": [
        "df_6_LowHigh$Low_barLow2 <- df_6_LowHigh$Low_barLow^2\n",
        "df_6_LowHigh$High_barHigh2 <- df_6_LowHigh$High_barHigh^2\n",
        "df_6_LowHigh$LowHigh <-df_6_LowHigh$Low_barLow * df_6_LowHigh$High_barHigh"
      ],
      "id": "c740e47a-33cf-4323-9775-1fb557e675c7"
    },
    {
      "cell_type": "markdown",
      "metadata": {},
      "source": [
        "-   $S_{xx}, S_{yy},S_{xy}$를 구해주었다."
      ],
      "id": "8bf50699-3032-4ff5-ac8c-08fae56dc7ed"
    },
    {
      "cell_type": "code",
      "execution_count": 109,
      "metadata": {},
      "outputs": [
        {
          "output_type": "display_data",
          "metadata": {},
          "data": {}
        }
      ],
      "source": [
        "df_6_LowHigh"
      ],
      "id": "eb5f3277-5e26-472b-888b-18c2300a5560"
    },
    {
      "cell_type": "code",
      "execution_count": 110,
      "metadata": {},
      "outputs": [
        {
          "output_type": "display_data",
          "metadata": {},
          "data": {
            "text/html": [
              "<style>\n",
              ".dl-inline {width: auto; margin:0; padding: 0}\n",
              ".dl-inline>dt, .dl-inline>dd {float: none; width: auto; display: inline-block}\n",
              ".dl-inline>dt::after {content: \":\\0020\"; padding-right: .5ex}\n",
              ".dl-inline>dt:not(:first-of-type) {padding-left: .5ex}\n",
              "</style><dl class=dl-inline><dt>Year</dt><dd>33490</dd><dt>High</dt><dd>444.14</dd><dt>Low</dt><dd>332.51</dd><dt>Low_barLow</dt><dd>0</dd><dt>High_barHigh</dt><dd>0</dd><dt>Low_barLow2</dt><dd>36.327</dd><dt>High_barHigh2</dt><dd>22.951</dd><dt>LowHigh</dt><dd>-0.511</dd></dl>"
            ]
          }
        }
      ],
      "source": [
        "round(colSums(df_6_LowHigh),3)"
      ],
      "id": "820d9b6e-d5ef-46f8-9292-171e81a3d8bc"
    },
    {
      "cell_type": "markdown",
      "metadata": {},
      "source": [
        "$\\hat{\\beta_1} = \\frac{S_{xy}}{S_{xx}}$\n",
        "\n",
        "$\\hat{\\beta_0} = \\bar{y} - \\hat{\\beta_1}\\bar{x}$"
      ],
      "id": "2402feca-90a3-45ab-a0ae-dc3c0e85a9cf"
    },
    {
      "cell_type": "code",
      "execution_count": 111,
      "metadata": {},
      "outputs": [],
      "source": [
        "beta1_LowHigh <- as.numeric(colSums(df_6_LowHigh)[8]/colSums(df_6_LowHigh)[6])\n",
        "beta0_LowHigh <- mean(df_6_LowHigh$High) - beta1_LowHigh *  mean(df_6_LowHigh$Low)"
      ],
      "id": "2d986101-debb-459d-87f5-7fb04ce1bba9"
    },
    {
      "cell_type": "code",
      "execution_count": 112,
      "metadata": {},
      "outputs": [
        {
          "output_type": "stream",
          "name": "stdout",
          "text": [
            "LowHigh hat beta0 =  26.40088\n",
            "LowHigh hat beta1 =  -0.01405959"
          ]
        }
      ],
      "source": [
        "cat(\"LowHigh hat beta0 = \", beta0_LowHigh)\n",
        "cat(\"\\nLowHigh hat beta1 = \", beta1_LowHigh)"
      ],
      "id": "739ddd79-2a38-45d8-a390-2773b4ef460c"
    },
    {
      "cell_type": "markdown",
      "metadata": {},
      "source": [
        "$\\text{High} = 26.40088 -0.01406\\text{Low}$\n",
        "\n",
        "R결과와 비교"
      ],
      "id": "1f136124-c26b-4487-86fb-e04e4d219ac7"
    },
    {
      "cell_type": "code",
      "execution_count": 113,
      "metadata": {},
      "outputs": [
        {
          "output_type": "display_data",
          "metadata": {},
          "data": {
            "text/plain": [
              "\n",
              "Call:\n",
              "lm(formula = df_6$Low ~ df_6$High)\n",
              "\n",
              "Residuals:\n",
              "    Min      1Q  Median      3Q     Max \n",
              "-3.0767 -0.7279 -0.1569  0.9529  2.9623 \n",
              "\n",
              "Coefficients:\n",
              "            Estimate Std. Error t value Pr(>|t|)  \n",
              "(Intercept) 20.14079    8.49368   2.371   0.0315 *\n",
              "df_6$High   -0.02225    0.32478  -0.069   0.9463  \n",
              "---\n",
              "Signif. codes:  0 ‘***’ 0.001 ‘**’ 0.01 ‘*’ 0.05 ‘.’ 0.1 ‘ ’ 1\n",
              "\n",
              "Residual standard error: 1.556 on 15 degrees of freedom\n",
              "Multiple R-squared:  0.0003129, Adjusted R-squared:  -0.06633 \n",
              "F-statistic: 0.004695 on 1 and 15 DF,  p-value: 0.9463"
            ]
          }
        }
      ],
      "source": [
        "summary(lm(df_6$Low~df_6$High))"
      ],
      "id": "4fe4d137-7eda-4cd1-8a87-cd1a00af6c75"
    },
    {
      "cell_type": "markdown",
      "metadata": {},
      "source": [
        "R결과 해석 - beta0은 유의미 하지만 beta1이 5%보다 유의확률이 커\n",
        "유의미하지 않다. - 모형의 설명력은 굉장히 낮았다. - 모형의 p값이\n",
        "0.05보다 커 유의미하지 않다.\n",
        "\n",
        "모형 정리\n",
        "\n",
        "$\\text{Low} = 35.106961 -0.007892\\text{Year}$ 모형의 의미 -\n",
        "$\\beta_0 = 35.106961$: 해당 모형에서 시간에 영향을 받지 않았을때의\n",
        "아마존 강의 최저 수위가 35.106961m이다. - $\\beta_1 = -0.007892$: 아마존\n",
        "강의 최저수위가 0.007892m만큼 감소한 것을 의미하는데, 이것은 해마다\n",
        "아마존 강의 흐르는 물이 감소하는 것을 의미하지만, 0에 가까운 값으로서\n",
        "영향이 미세해 보인다.\n",
        "\n",
        "$\\text{High} = -330.21235 + 0.18088\\text{Year}$ 모형의 의미 -\n",
        "$\\beta_0 = -330.21235$: 해당 모형에서 시간에 영향을 받지 않았을때의\n",
        "아마존 강의 최고 수위가 -330.21235m이다. - $\\beta_1 = 0.18088$: 아마존\n",
        "강의 최고수위가 0.18088m만큼 증가된 것을 의미하는데, 이것은 해마다\n",
        "아마존 강의 흐르는 물이 0.18088m 늘어난 것을 나타낼 수 있다. 이\n",
        "모형에서도 영향이 크게 끼치지 않는 것 같다.\n",
        "\n",
        "$\\text{High} = 26.40088 -0.01406\\text{Low}$ 모형의 의미 -\n",
        "$\\beta_0 = -26.40088$: 해당 모형에서 최저수위의 영향을 받지 않았을 때의\n",
        "아마존 강의 최고수위가 026.40088m 라는 것을 의미한다. -\n",
        "$\\beta_1 = -0.014061$: 아마존 강의 최고수위가 최저수위가 1m 증가함에\n",
        "따라 -0.0014061m 만큼 감소함을 의미한다. 아마존 강의 최저수위는\n",
        "최고수위에 미치는 영향이 미미해 보인다.\n",
        "\n",
        "## (3)\n",
        "\n",
        "이 자료를 근거로 우리는 삼림파괴가 아마존 강 수위의 변화를 일으킨다고 할\n",
        "수 있는가?\n",
        "\n",
        "**Answer**\n",
        "\n",
        "-   1970년대 이후 삼림파괴가 이루어졌다. 구간을 나누어 보지 않는 이상\n",
        "    삼림파괴가 아마존 강 수위의 변화를 일으켰다는 판단은 섣불러 보인다.\n",
        "-   모형만 봐도 시간과 아마존 강의 최고수위 및 최저수위의 영향과 아마존\n",
        "    강의 최저수위 및 최고수위 간의 영향이 거의 없어보인다. 모두 1도 넘지\n",
        "    않았기도 하다.\n",
        "-   따라서 삼림파괴가 아마존 강 수위의 변화를 일으켰다고 2번의 근거로는\n",
        "    할 수 없다.\n",
        "\n",
        "## (4)\n",
        "\n",
        "아마존강의 최저수위와 최고수위와의 산점도를 1960년대, 1970년대 자료별로\n",
        "다르게 그리고, 각각의 회귀선을 적합하시오.\n",
        "\n",
        "**Answer**\n",
        "\n",
        "1960년대 아마존강의 최저수위와 최고수위와의 산점도"
      ],
      "id": "9e9ff33a-8087-479d-a4b4-0a97a89e99e5"
    },
    {
      "cell_type": "code",
      "execution_count": 114,
      "metadata": {},
      "outputs": [
        {
          "output_type": "display_data",
          "metadata": {},
          "data": {
            "image/png": "[encoded data removed]"
          }
        }
      ],
      "source": [
        "plot(df_6$High[df_6$Year<1970]~df_6$Low[df_6$Year<1970],\n",
        "     xlab = \"Low\",\n",
        "     ylab =\"High\",\n",
        "     pch  = 16,\n",
        "     cex  = 1)"
      ],
      "id": "1aa1f9c5-e67c-4a28-a261-b5beb67c90e0"
    },
    {
      "cell_type": "markdown",
      "metadata": {},
      "source": [
        "1960년대 아마존강의 최저수위와 최고수위와의 회귀선"
      ],
      "id": "c3ca6cd0-cc8f-48ee-b496-b0ccae14941e"
    },
    {
      "cell_type": "code",
      "execution_count": 115,
      "metadata": {},
      "outputs": [],
      "source": [
        "df_6_1960 <- df_6[df_6$Year<1970,]"
      ],
      "id": "5bd1195b-c2e7-4f97-ba94-fa6b18d0286f"
    },
    {
      "cell_type": "code",
      "execution_count": 116,
      "metadata": {},
      "outputs": [],
      "source": [
        "df_6_1960$Low_barLow = df_6_1960$Low - mean(df_6_1960$Low)\n",
        "df_6_1960$High_barHigh = df_6_1960$High - mean(df_6_1960$High) "
      ],
      "id": "2df982d1-00fd-4ad9-830c-5b2db269f6b9"
    },
    {
      "cell_type": "markdown",
      "metadata": {},
      "source": [
        "-   $S_{xx}, S_{yy},S_{xy}$를 구해주기 위해\n",
        "    $x_i - \\bar{x}, y_i - \\bar{y}$를 구했다."
      ],
      "id": "6e3a20e7-6c12-4245-b4c1-656f8487d74c"
    },
    {
      "cell_type": "code",
      "execution_count": 117,
      "metadata": {},
      "outputs": [],
      "source": [
        "df_6_1960$Low_barLow2 <- df_6_1960$Low_barLow^2\n",
        "df_6_1960$High_barHigh2 <- df_6_1960$High_barHigh^2\n",
        "df_6_1960$LowHigh <-df_6_1960$Low_barLow * df_6_1960$High_barHigh"
      ],
      "id": "5cde5ccc-dc93-4716-86cb-6c53e0283986"
    },
    {
      "cell_type": "markdown",
      "metadata": {},
      "source": [
        "-   $S_{xx}, S_{yy},S_{xy}$를 구해주었다."
      ],
      "id": "d5a08a1c-1de9-4fdb-af29-de83ee1263fa"
    },
    {
      "cell_type": "code",
      "execution_count": 118,
      "metadata": {},
      "outputs": [
        {
          "output_type": "display_data",
          "metadata": {},
          "data": {
            "text/html": [
              "<style>\n",
              ".dl-inline {width: auto; margin:0; padding: 0}\n",
              ".dl-inline>dt, .dl-inline>dd {float: none; width: auto; display: inline-block}\n",
              ".dl-inline>dt::after {content: \":\\0020\"; padding-right: .5ex}\n",
              ".dl-inline>dt:not(:first-of-type) {padding-left: .5ex}\n",
              "</style><dl class=dl-inline><dt>Year</dt><dd>15724</dd><dt>High</dt><dd>200.04</dd><dt>Low</dt><dd>155.1</dd><dt>Low_barLow</dt><dd>0</dd><dt>High_barHigh</dt><dd>0</dd><dt>Low_barLow2</dt><dd>15.09</dd><dt>High_barHigh2</dt><dd>2.392</dd><dt>LowHigh</dt><dd>-3.761</dd></dl>"
            ]
          }
        }
      ],
      "source": [
        "round(colSums(df_6_1960),3)"
      ],
      "id": "373c2f5c-0d23-4545-a6ee-c4d95bfc9843"
    },
    {
      "cell_type": "markdown",
      "metadata": {},
      "source": [
        "$\\hat{\\beta_1} = \\frac{S_{xy}}{S_{xx}}$\n",
        "\n",
        "$\\hat{\\beta_0} = \\bar{y} - \\hat{\\beta_1}\\bar{x}$"
      ],
      "id": "b7e0e2f7-e588-40e5-a7df-c3e4a2a56513"
    },
    {
      "cell_type": "code",
      "execution_count": 119,
      "metadata": {},
      "outputs": [
        {
          "output_type": "display_data",
          "metadata": {},
          "data": {}
        }
      ],
      "source": [
        "df_6_1960"
      ],
      "id": "abc1c76e-bc67-42b7-b4f3-7937cd9bd9fb"
    },
    {
      "cell_type": "code",
      "execution_count": 120,
      "metadata": {},
      "outputs": [],
      "source": [
        "beta1_1960 <- as.numeric(colSums(df_6_1960)[8]/colSums(df_6_1960)[6])\n",
        "beta0_1960 <- mean(df_6_1960$High) - beta1_1960 *  mean(df_6_1960$Low)"
      ],
      "id": "545a051e-87e7-4e0f-9e84-72b4576e1d6d"
    },
    {
      "cell_type": "code",
      "execution_count": 121,
      "metadata": {},
      "outputs": [
        {
          "output_type": "stream",
          "name": "stdout",
          "text": [
            "hat beta0 1960 =  29.8367\n",
            "hat beta1 1960 =  -0.2492"
          ]
        }
      ],
      "source": [
        "cat(\"hat beta0 1960 = \", round(beta0_1960,4))\n",
        "cat(\"\\nhat beta1 1960 = \", round(beta1_1960,4))"
      ],
      "id": "4a52838d-7310-4a91-a7fe-57e472c3a3cf"
    },
    {
      "cell_type": "code",
      "execution_count": 122,
      "metadata": {},
      "outputs": [
        {
          "output_type": "stream",
          "name": "stdout",
          "text": [
            "회귀선은 다음과 같았다. 1960 High =  29.8367  +  -0.2492 Low"
          ]
        }
      ],
      "source": [
        "cat(\"회귀선은 다음과 같았다. 1960 High = \",round(beta0_1960,4),\" + \", round(beta1_1960,4),\"Low\")"
      ],
      "id": "5ddfd278-7b7b-4d72-8015-bd96b2b69ece"
    },
    {
      "cell_type": "markdown",
      "metadata": {},
      "source": [
        "R결과 비교"
      ],
      "id": "b99104c4-e6ac-475d-9a3d-8d184deba6d1"
    },
    {
      "cell_type": "code",
      "execution_count": 123,
      "metadata": {},
      "outputs": [
        {
          "output_type": "display_data",
          "metadata": {},
          "data": {
            "text/plain": [
              "\n",
              "Call:\n",
              "lm(formula = df_6_1960$High ~ df_6_1960$Low)\n",
              "\n",
              "Residuals:\n",
              "    Min      1Q  Median      3Q     Max \n",
              "-0.5606 -0.4053 -0.0057  0.3765  0.5895 \n",
              "\n",
              "Coefficients:\n",
              "              Estimate Std. Error t value Pr(>|t|)    \n",
              "(Intercept)    29.8367     2.4640  12.109 1.93e-05 ***\n",
              "df_6_1960$Low  -0.2492     0.1268  -1.966   0.0969 .  \n",
              "---\n",
              "Signif. codes:  0 ‘***’ 0.001 ‘**’ 0.01 ‘*’ 0.05 ‘.’ 0.1 ‘ ’ 1\n",
              "\n",
              "Residual standard error: 0.4925 on 6 degrees of freedom\n",
              "Multiple R-squared:  0.3918,    Adjusted R-squared:  0.2904 \n",
              "F-statistic: 3.864 on 1 and 6 DF,  p-value: 0.09691"
            ]
          }
        }
      ],
      "source": [
        "summary(lm(df_6_1960$High~df_6_1960$Low))"
      ],
      "id": "95dbc966-d63c-403f-8e86-d46673ea4b10"
    },
    {
      "cell_type": "code",
      "execution_count": 124,
      "metadata": {},
      "outputs": [],
      "source": [
        "SST_1960 = sum((df_6_1960$High - mean(df_6_1960$High))^2)"
      ],
      "id": "87678b47-742e-4842-a89f-e8fafea250b7"
    },
    {
      "cell_type": "code",
      "execution_count": 125,
      "metadata": {},
      "outputs": [],
      "source": [
        "SSR_1960 = sum( ( (29.8367  +  -0.2492*df_6_1960$Low)-mean(df_6_1960$High) )^2 )"
      ],
      "id": "6e37ec40-8c2a-4231-9ca3-765c2e640cc8"
    },
    {
      "cell_type": "code",
      "execution_count": 126,
      "metadata": {},
      "outputs": [],
      "source": [
        "SSE_1960 = sum( ( df_6_1960$High-(29.8367  +  -0.2492*df_6_1960$Low))^2 )"
      ],
      "id": "71228e8a-541f-4b28-9193-e294510dbad2"
    },
    {
      "cell_type": "code",
      "execution_count": 127,
      "metadata": {},
      "outputs": [
        {
          "output_type": "stream",
          "name": "stdout",
          "text": [
            "1960 SST =  2.3924 , df = 7\n",
            "1960 SSR =  0.9370965 , df = 1\n",
            "1960 SSE =  1.455164 , df = 6"
          ]
        }
      ],
      "source": [
        "cat(\"1960 SST = \", SST_1960,\", df = 7\")\n",
        "cat(\"\\n1960 SSR = \", SSR_1960,\", df = 1\")\n",
        "cat(\"\\n1960 SSE = \", SSE_1960, \", df = 6\")"
      ],
      "id": "dd15bff2-22a2-4b71-921d-3abecaa87f2f"
    },
    {
      "cell_type": "markdown",
      "metadata": {},
      "source": [
        "R결과 비교"
      ],
      "id": "d32304f8-23d5-46e4-bdf4-450064b10f82"
    },
    {
      "cell_type": "code",
      "execution_count": 128,
      "metadata": {},
      "outputs": [
        {
          "output_type": "display_data",
          "metadata": {},
          "data": {}
        }
      ],
      "source": [
        "anova(lm(df_6_1960$High~df_6_1960$Low))"
      ],
      "id": "53bd87ce-ed65-4f71-a389-66baec368572"
    },
    {
      "cell_type": "markdown",
      "metadata": {},
      "source": [
        "1970년대 아마존강의 최저수위와 최고수위와의 산점도"
      ],
      "id": "efc5bbb8-cef6-4a92-b3b0-5ee65997537f"
    },
    {
      "cell_type": "code",
      "execution_count": 129,
      "metadata": {},
      "outputs": [
        {
          "output_type": "display_data",
          "metadata": {},
          "data": {
            "image/png": "[encoded data removed]"
          }
        }
      ],
      "source": [
        "plot(df_6$High[df_6$Year>=1970]~df_6$Low[df_6$Year>=1970],\n",
        "     xlab = \"Low\",\n",
        "     ylab =\"High\",\n",
        "     pch  = 16,\n",
        "     cex  = 1)"
      ],
      "id": "7230d207-71c3-49f5-bc01-dedd76259058"
    },
    {
      "cell_type": "markdown",
      "metadata": {},
      "source": [
        "1970년대 아마존강의 최저수위와 최고수위와의 회귀선"
      ],
      "id": "81da3598-db2c-4862-9f0a-85f84b409682"
    },
    {
      "cell_type": "code",
      "execution_count": 130,
      "metadata": {},
      "outputs": [],
      "source": [
        "df_6_1970 <- df_6[df_6$Year>=1970,]"
      ],
      "id": "1c1ece89-d880-4361-b44c-be103d248b37"
    },
    {
      "cell_type": "code",
      "execution_count": 131,
      "metadata": {},
      "outputs": [],
      "source": [
        "df_6_1970$Low_barLow = df_6_1970$Low - mean(df_6_1970$Low)\n",
        "df_6_1970$High_barHigh = df_6_1970$High - mean(df_6_1970$High) "
      ],
      "id": "f3c91719-f127-4e9c-9992-98363ba1b11e"
    },
    {
      "cell_type": "markdown",
      "metadata": {},
      "source": [
        "-   $S_{xx}, S_{yy},S_{xy}$를 구해주기 위해\n",
        "    $x_i - \\bar{x}, y_i - \\bar{y}$를 구했다."
      ],
      "id": "f8954f4b-c454-498c-89b5-5eaf4ec62258"
    },
    {
      "cell_type": "code",
      "execution_count": 132,
      "metadata": {},
      "outputs": [],
      "source": [
        "df_6_1970$Low_barLow2 <- df_6_1970$Low_barLow^2\n",
        "df_6_1970$High_barHigh2 <- df_6_1970$High_barHigh^2\n",
        "df_6_1970$LowHigh <-df_6_1970$Low_barLow * df_6_1970$High_barHigh"
      ],
      "id": "1594408e-5d1b-444b-897c-7816d0a36a43"
    },
    {
      "cell_type": "markdown",
      "metadata": {},
      "source": [
        "-   $S_{xx}, S_{yy},S_{xy}$를 구해주었다."
      ],
      "id": "bc173c04-8e8f-44c8-bc4e-2965b194f834"
    },
    {
      "cell_type": "code",
      "execution_count": 133,
      "metadata": {},
      "outputs": [
        {
          "output_type": "display_data",
          "metadata": {},
          "data": {
            "text/html": [
              "<style>\n",
              ".dl-inline {width: auto; margin:0; padding: 0}\n",
              ".dl-inline>dt, .dl-inline>dd {float: none; width: auto; display: inline-block}\n",
              ".dl-inline>dt::after {content: \":\\0020\"; padding-right: .5ex}\n",
              ".dl-inline>dt:not(:first-of-type) {padding-left: .5ex}\n",
              "</style><dl class=dl-inline><dt>Year</dt><dd>17766</dd><dt>High</dt><dd>244.1</dd><dt>Low</dt><dd>177.41</dd><dt>Low_barLow</dt><dd>0</dd><dt>High_barHigh</dt><dd>0</dd><dt>Low_barLow2</dt><dd>20.79</dd><dt>High_barHigh2</dt><dd>1.574</dd><dt>LowHigh</dt><dd>0.338</dd></dl>"
            ]
          }
        }
      ],
      "source": [
        "round(colSums(df_6_1970),3)"
      ],
      "id": "7d7c829a-3d87-4b89-bf91-8ddeb92237a6"
    },
    {
      "cell_type": "markdown",
      "metadata": {},
      "source": [
        "$\\hat{\\beta_1} = \\frac{S_{xy}}{S_{xx}}$\n",
        "\n",
        "$\\hat{\\beta_0} = \\bar{y} - \\hat{\\beta_1}\\bar{x}$"
      ],
      "id": "93156163-a5a8-46d5-adeb-b162df49b1f2"
    },
    {
      "cell_type": "code",
      "execution_count": 134,
      "metadata": {},
      "outputs": [
        {
          "output_type": "display_data",
          "metadata": {},
          "data": {}
        }
      ],
      "source": [
        "df_6_1970"
      ],
      "id": "1de7afe3-b4f6-4a33-9ee3-8829b4d93b3d"
    },
    {
      "cell_type": "code",
      "execution_count": 135,
      "metadata": {},
      "outputs": [],
      "source": [
        "beta1_1970 <- as.numeric(colSums(df_6_1970)[8]/colSums(df_6_1970)[6])\n",
        "beta0_1970 <- mean(df_6_1970$High) - beta1_1970 *  mean(df_6_1970$Low)"
      ],
      "id": "2eb36a99-a712-48ab-a749-74d225018d4f"
    },
    {
      "cell_type": "code",
      "execution_count": 136,
      "metadata": {},
      "outputs": [
        {
          "output_type": "stream",
          "name": "stdout",
          "text": [
            "hat beta0 1970 =  26.8016\n",
            "hat beta1 1970 =  0.0163"
          ]
        }
      ],
      "source": [
        "cat(\"hat beta0 1970 = \", round(beta0_1970,4))\n",
        "cat(\"\\nhat beta1 1970 = \", round(beta1_1970,4))"
      ],
      "id": "9861b666-ceb0-4099-b74e-4140c39e82bc"
    },
    {
      "cell_type": "markdown",
      "metadata": {},
      "source": [
        "R결과 비교"
      ],
      "id": "8d3d843c-b1cd-4d30-b817-ca86015d4dbc"
    },
    {
      "cell_type": "code",
      "execution_count": 137,
      "metadata": {},
      "outputs": [
        {
          "output_type": "display_data",
          "metadata": {},
          "data": {
            "text/plain": [
              "\n",
              "Call:\n",
              "lm(formula = df_6_1970$High ~ df_6_1970$Low)\n",
              "\n",
              "Residuals:\n",
              "     Min       1Q   Median       3Q      Max \n",
              "-0.87738 -0.03226  0.02245  0.37253  0.43262 \n",
              "\n",
              "Coefficients:\n",
              "              Estimate Std. Error t value Pr(>|t|)    \n",
              "(Intercept)   26.80160    2.05235  13.059  3.6e-06 ***\n",
              "df_6_1970$Low  0.01627    0.10381   0.157     0.88    \n",
              "---\n",
              "Signif. codes:  0 ‘***’ 0.001 ‘**’ 0.01 ‘*’ 0.05 ‘.’ 0.1 ‘ ’ 1\n",
              "\n",
              "Residual standard error: 0.4733 on 7 degrees of freedom\n",
              "Multiple R-squared:  0.003495,  Adjusted R-squared:  -0.1389 \n",
              "F-statistic: 0.02455 on 1 and 7 DF,  p-value: 0.8799"
            ]
          }
        }
      ],
      "source": [
        "summary(lm(df_6_1970$High~df_6_1970$Low))"
      ],
      "id": "d79b6e7a-55fa-4e9b-ae7f-1d396285a6f7"
    },
    {
      "cell_type": "code",
      "execution_count": 138,
      "metadata": {},
      "outputs": [
        {
          "output_type": "stream",
          "name": "stdout",
          "text": [
            "회귀선은 다음과 같았다. 1970 High =  26.8016  +  0.0163 Low"
          ]
        }
      ],
      "source": [
        "cat(\"회귀선은 다음과 같았다. 1970 High = \",round(beta0_1970,4),\" + \", round(beta1_1970,4),\"Low\")"
      ],
      "id": "21786653-3d8c-4e28-be31-d90bc7c1ca16"
    },
    {
      "cell_type": "code",
      "execution_count": 139,
      "metadata": {},
      "outputs": [],
      "source": [
        "SST_1970 = sum((df_6_1970$High - mean(df_6_1970$High))^2)"
      ],
      "id": "45d2d11d-379c-48c7-9f14-3cf72edaa555"
    },
    {
      "cell_type": "code",
      "execution_count": 140,
      "metadata": {},
      "outputs": [],
      "source": [
        "SSR_1970 = sum( ( (26.8016  +  0.0163 *df_6_1970$Low)-mean(df_6_1970$High) )^2 )"
      ],
      "id": "ee5e9699-8f6b-4d77-af3b-e4ddbc6e7ccd"
    },
    {
      "cell_type": "code",
      "execution_count": 141,
      "metadata": {},
      "outputs": [],
      "source": [
        "SSE_1970 = sum( ( df_6_1970$High-(26.8016  +  0.0163 *df_6_1970$Low))^2 )"
      ],
      "id": "391bf305-95fc-4a0c-9909-b4b730bd777a"
    },
    {
      "cell_type": "code",
      "execution_count": 142,
      "metadata": {},
      "outputs": [
        {
          "output_type": "stream",
          "name": "stdout",
          "text": [
            "1970 SST =  1.573756 , df = 8\n",
            "1970 SSR =  0.005528037 , df = 1\n",
            "1970 SSE =  1.56826 , df = 7"
          ]
        }
      ],
      "source": [
        "cat(\"1970 SST = \", SST_1970,\", df = 8\")\n",
        "cat(\"\\n1970 SSR = \", SSR_1970,\", df = 1\")\n",
        "cat(\"\\n1970 SSE = \", SSE_1970, \", df = 7\")"
      ],
      "id": "1c8005e3-aecd-480d-8071-3e906574f998"
    },
    {
      "cell_type": "markdown",
      "metadata": {},
      "source": [
        "R결과 비교"
      ],
      "id": "30774476-f9a9-41d2-b222-ab90d75197fb"
    },
    {
      "cell_type": "code",
      "execution_count": 143,
      "metadata": {},
      "outputs": [
        {
          "output_type": "display_data",
          "metadata": {},
          "data": {}
        }
      ],
      "source": [
        "anova(lm(df_6_1970$High~df_6_1970$Low))"
      ],
      "id": "0fa88077-18af-4baf-ba0e-c0c91fd7221d"
    },
    {
      "cell_type": "markdown",
      "metadata": {},
      "source": [
        "## (5)\n",
        "\n",
        "아마존강의 최저수위와 최고수위와의 관계가 1960년대와 1970년대에 따라\n",
        "차이가 있는가? 두 회귀모형의 동일성 여부를 유의수준 $\\alpha = 0.01$에서\n",
        "검정하시오.\n",
        "\n",
        "**Answer**\n",
        "\n",
        "가설\n",
        "\n",
        "$H_0 : \\beta_{01} = \\beta_{02} \\text{ and } \\beta_{11} = \\beta_{12}$\n",
        "\n",
        "$H_1 : \\beta_{01} \\neq \\beta_{02} \\text{ pr } \\beta_{11} \\neq \\beta_{12}$\n",
        "\n",
        "(2)에서 구했던 것\n",
        "\n",
        "$\\text{High} = 26.40088 -0.01406\\text{Low}$"
      ],
      "id": "417afb64-02e1-4a2b-bb66-2b0bf6eac9e2"
    },
    {
      "cell_type": "code",
      "execution_count": 144,
      "metadata": {},
      "outputs": [],
      "source": [
        "SST = sum((df_6$High - mean(df_6$High))^2)"
      ],
      "id": "c4d75aee-5c52-484b-9088-11a437a3407b"
    },
    {
      "cell_type": "code",
      "execution_count": 145,
      "metadata": {},
      "outputs": [],
      "source": [
        "SSR = sum( ( (26.40088 - 0.01406 *df_6$Low)-mean(df_6$High) )^2 )"
      ],
      "id": "015e52c4-a88f-422b-a4b1-6da4c9e02a16"
    },
    {
      "cell_type": "code",
      "execution_count": 146,
      "metadata": {},
      "outputs": [],
      "source": [
        "SSE = sum( ( df_6$High-(26.40088 - 0.01406 *df_6$Low))^2 )"
      ],
      "id": "aa93bf17-31a3-4ec5-87ff-525e9c4602d1"
    },
    {
      "cell_type": "code",
      "execution_count": 147,
      "metadata": {},
      "outputs": [
        {
          "output_type": "stream",
          "name": "stdout",
          "text": [
            "SST =  22.95141 , df = 16\n",
            "SSR =  0.007181232 , df = 1\n",
            "SSE =  22.94423 , df = 15"
          ]
        }
      ],
      "source": [
        "cat(\"SST = \", SST,\", df = 16\")\n",
        "cat(\"\\nSSR = \", SSR,\", df = 1\")\n",
        "cat(\"\\nSSE = \", SSE, \", df = 15\")"
      ],
      "id": "14b61c4c-4b00-45a7-b636-fb50eff3e3b3"
    },
    {
      "cell_type": "markdown",
      "metadata": {},
      "source": [
        "R결과와 비교"
      ],
      "id": "a74f07f8-7bc9-42f3-bc83-2cf15d233718"
    },
    {
      "cell_type": "code",
      "execution_count": 148,
      "metadata": {},
      "outputs": [
        {
          "output_type": "display_data",
          "metadata": {},
          "data": {}
        }
      ],
      "source": [
        "anova(lm(df_6$High~df_6$Low))"
      ],
      "id": "955e3789-926f-4904-ba5b-9f5d7e689690"
    },
    {
      "cell_type": "markdown",
      "metadata": {},
      "source": [
        "$\\text{1960 High} = 29.8367 + -0.2492\\text{Low}$"
      ],
      "id": "0385920e-ef8f-4c4a-b8e0-a79fdac061e3"
    },
    {
      "cell_type": "code",
      "execution_count": 149,
      "metadata": {},
      "outputs": [
        {
          "output_type": "stream",
          "name": "stdout",
          "text": [
            "1960 SST =  2.3924 , df = 7\n",
            "1960 SSR =  0.9370965 , df = 1\n",
            "1960 SSE =  1.455164 , df = 6"
          ]
        }
      ],
      "source": [
        "cat(\"1960 SST = \", SST_1960,\", df = 7\")\n",
        "cat(\"\\n1960 SSR = \", SSR_1960,\", df = 1\")\n",
        "cat(\"\\n1960 SSE = \", SSE_1960, \", df = 6\")"
      ],
      "id": "d6249e03-d606-4c95-aadc-f1b237daf941"
    },
    {
      "cell_type": "markdown",
      "metadata": {},
      "source": [
        "$\\text{1970 High} = 26.8016 + 0.0163\\text{Low}$"
      ],
      "id": "22009a97-997b-45ee-9a76-43afab9dba20"
    },
    {
      "cell_type": "code",
      "execution_count": 150,
      "metadata": {},
      "outputs": [
        {
          "output_type": "stream",
          "name": "stdout",
          "text": [
            "1970 SST =  1.573756 , df = 8\n",
            "1970 SSR =  0.005528037 , df = 1\n",
            "1970 SSE =  1.56826 , df = 7"
          ]
        }
      ],
      "source": [
        "cat(\"1970 SST = \", SST_1970,\", df = 8\")\n",
        "cat(\"\\n1970 SSR = \", SSR_1970,\", df = 1\")\n",
        "cat(\"\\n1970 SSE = \", SSE_1970, \", df = 7\")"
      ],
      "id": "ad178919-19dc-45e0-bcb0-73c2e2ecb5c7"
    },
    {
      "cell_type": "markdown",
      "metadata": {},
      "source": [
        "검정통계량\n",
        "\n",
        "$F_0 = \\frac{SSE(R) - SSE(F)}{df_R} - \\times \\frac{df_F}{SSE(F)}$"
      ],
      "id": "55c4c658-1673-4a69-94ec-5f3b1adf266d"
    },
    {
      "cell_type": "code",
      "execution_count": 151,
      "metadata": {},
      "outputs": [],
      "source": [
        "SSE_F = SSE_1960 + SSE_1970\n",
        "df_F = 6 + 7"
      ],
      "id": "36ee999e-11e8-4d1f-b218-262fa3ec05cc"
    },
    {
      "cell_type": "code",
      "execution_count": 152,
      "metadata": {},
      "outputs": [],
      "source": [
        "SSE_R = SSE\n",
        "df_R = 15"
      ],
      "id": "5e334658-bfe3-4f6d-b570-6cd7d07e9e8c"
    },
    {
      "cell_type": "code",
      "execution_count": 153,
      "metadata": {},
      "outputs": [
        {
          "output_type": "display_data",
          "metadata": {},
          "data": {
            "text/html": [
              "42.8273639841797"
            ]
          }
        }
      ],
      "source": [
        "F_0 = (SSE_R - SSE_F)/(df_R - df_F) / (SSE_F/df_F)\n",
        "F_0"
      ],
      "id": "a0e7d96e-81a6-4429-921c-f9f58ce74780"
    },
    {
      "cell_type": "code",
      "execution_count": 154,
      "metadata": {},
      "outputs": [
        {
          "output_type": "display_data",
          "metadata": {},
          "data": {
            "text/html": [
              "2"
            ]
          }
        }
      ],
      "source": [
        "df_R - df_F"
      ],
      "id": "368023e3-970a-44c1-a8b4-5763b50b3c47"
    },
    {
      "cell_type": "code",
      "execution_count": 155,
      "metadata": {},
      "outputs": [
        {
          "output_type": "display_data",
          "metadata": {},
          "data": {
            "text/html": [
              "13"
            ]
          }
        }
      ],
      "source": [
        "df_F"
      ],
      "id": "e8ae6397-0fd5-4e7f-a5a6-3bce397a6f8c"
    },
    {
      "cell_type": "code",
      "execution_count": 156,
      "metadata": {},
      "outputs": [],
      "source": [
        "F_stan = qf(0.95,2,13)"
      ],
      "id": "93e5a3ad-1044-4d78-b6b6-37672ddd1a95"
    },
    {
      "cell_type": "code",
      "execution_count": 157,
      "metadata": {},
      "outputs": [
        {
          "output_type": "stream",
          "name": "stdout",
          "text": [
            "42.82736  는 유의수준 0.05에서 F값  3.805565  보다 크다.\n",
            "따라서 귀무가설을 기각하였고, 두 회귀모형은 beta0가 다르거나\n",
            "혹은 beta1이 다르거나 혹은 beta0,beta1 모두가 다르다."
          ]
        }
      ],
      "source": [
        "cat(F_0, \" 는 유의수준 0.05에서 F값 \", F_stan , \" 보다 크다.\")\n",
        "\n",
        "cat(\"\\n따라서 귀무가설을 기각하였고, 두 회귀모형은 beta0가 다르거나\")\n",
        "\n",
        "cat(\"\\n혹은 beta1이 다르거나 혹은 beta0,beta1 모두가 다르다.\")"
      ],
      "id": "4262959f-cf7c-4db7-9899-c8f340e264aa"
    },
    {
      "cell_type": "markdown",
      "metadata": {},
      "source": [
        "## (6)\n",
        "\n",
        "(4)에서 구한 두 회귀모형의 기울기가 같은지 유의수준 $\\alpha = 0.01$에서\n",
        "검정하시오.\n",
        "\n",
        "**Answer**\n",
        "\n",
        "기울기 비교에 대한 가설\n",
        "\n",
        "$H_0 : \\beta_{11} = \\beta_{12} \\text{ vs. } H_1 : \\beta_{11} \\neq \\beta_{12}$\n",
        "\n",
        "검정통계량\n",
        "\n",
        "$t_0 = \\frac{ \\hat{\\beta}_{11} - \\hat{\\beta}_{12} }{ \\sqrt{ \\hat{Var}( \\hat{\\beta}_{11} - \\hat{\\beta}_{12} ) } }$\n",
        "\n",
        "$\\text{Degree of Freedom} = t((n_1 - 1) + (n_2 - 1))$\n",
        "\n",
        "$\\hat{Var}( \\hat{\\beta}_{11} - \\hat{\\beta}_{12} ) = MSE(F) [\\frac{1}{\\sum(x_{1j} - \\bar{x}_1)^2} + \\frac{1}{\\sum(x_{2j} - \\bar{x}_2)^2}]$"
      ],
      "id": "425534c9-c089-43d7-a824-7647f3c7e6d9"
    },
    {
      "cell_type": "code",
      "execution_count": 158,
      "metadata": {},
      "outputs": [
        {
          "output_type": "display_data",
          "metadata": {},
          "data": {
            "text/html": [
              "-0.2492"
            ]
          }
        }
      ],
      "source": [
        "round(beta1_1960,4)"
      ],
      "id": "9e02b33e-28df-48a3-9ffc-b2423cd7af1e"
    },
    {
      "cell_type": "code",
      "execution_count": 159,
      "metadata": {},
      "outputs": [
        {
          "output_type": "display_data",
          "metadata": {},
          "data": {
            "text/html": [
              "0.0163"
            ]
          }
        }
      ],
      "source": [
        "round(beta1_1970,4)"
      ],
      "id": "1a99edf0-4295-43da-a25b-374e44fdffca"
    },
    {
      "cell_type": "code",
      "execution_count": 160,
      "metadata": {},
      "outputs": [
        {
          "output_type": "display_data",
          "metadata": {},
          "data": {
            "text/html": [
              "3.02342329210101"
            ]
          }
        }
      ],
      "source": [
        "SSE_F"
      ],
      "id": "0ab07dba-096c-4802-8792-d604e6bdf98f"
    },
    {
      "cell_type": "code",
      "execution_count": 161,
      "metadata": {},
      "outputs": [
        {
          "output_type": "display_data",
          "metadata": {},
          "data": {
            "text/html": [
              "0.232571022469308"
            ]
          }
        }
      ],
      "source": [
        "MSE_F = SSE_F / df_F\n",
        "MSE_F"
      ],
      "id": "801139a4-5289-4e38-b21a-182258f53882"
    },
    {
      "cell_type": "code",
      "execution_count": 162,
      "metadata": {},
      "outputs": [
        {
          "output_type": "display_data",
          "metadata": {},
          "data": {
            "text/html": [
              "15.08995"
            ]
          }
        }
      ],
      "source": [
        "sum(df_6_1960$Low_barLow2)"
      ],
      "id": "8bfefc57-cf3c-40bc-817b-f107f068df7d"
    },
    {
      "cell_type": "code",
      "execution_count": 163,
      "metadata": {},
      "outputs": [
        {
          "output_type": "display_data",
          "metadata": {},
          "data": {
            "text/html": [
              "20.7903555555556"
            ]
          }
        }
      ],
      "source": [
        "sum(df_6_1970$Low_barLow2)"
      ],
      "id": "ba3dac99-8257-44e8-88e8-29c006ff69d1"
    },
    {
      "cell_type": "code",
      "execution_count": 164,
      "metadata": {},
      "outputs": [
        {
          "output_type": "display_data",
          "metadata": {},
          "data": {
            "text/html": [
              "0.026598798385161"
            ]
          }
        }
      ],
      "source": [
        "var_diff = MSE_F * (1/sum(df_6_1960$Low_barLow2) + 1/sum(df_6_1970$Low_barLow2))\n",
        "var_diff"
      ],
      "id": "4fba5c43-6197-4d05-975c-b5637ebc41b5"
    },
    {
      "cell_type": "code",
      "execution_count": 165,
      "metadata": {},
      "outputs": [
        {
          "output_type": "display_data",
          "metadata": {},
          "data": {
            "text/html": [
              "-1.62782282241728"
            ]
          }
        }
      ],
      "source": [
        "t_0 = (beta1_1960 - beta1_1970)/sqrt(var_diff)\n",
        "t_0"
      ],
      "id": "43f1c551-3f06-4ef8-9cdb-195d5f88737b"
    },
    {
      "cell_type": "code",
      "execution_count": 166,
      "metadata": {},
      "outputs": [
        {
          "output_type": "display_data",
          "metadata": {},
          "data": {
            "text/html": [
              "3.01227583871658"
            ]
          }
        }
      ],
      "source": [
        "qt(0.995,df_F)"
      ],
      "id": "9d1f12b9-2b06-4ef7-86cd-0cd47de5fabd"
    },
    {
      "cell_type": "code",
      "execution_count": 167,
      "metadata": {},
      "outputs": [
        {
          "output_type": "stream",
          "name": "stdout",
          "text": [
            "-1.627823 는  3.012276 보다 작다.\n",
            "따라서 유의수준 1%에서 귀무가설을 기각하지 못하여 두 회귀모형의 기울기가 같다고 할 수 있다."
          ]
        }
      ],
      "source": [
        "cat(t_0,\"는 \",qt(0.995,df_F),\"보다 작다.\")\n",
        "\n",
        "cat(\"\\n따라서 유의수준 1%에서 귀무가설을 기각하지 못하여 두 회귀모형의 기울기가 같다고 할 수 있다.\")"
      ],
      "id": "cd6112e9-0c5a-42d5-a524-2b991e018ecc"
    },
    {
      "cell_type": "markdown",
      "metadata": {},
      "source": [
        "$H_0 : \\beta_{11} = \\beta_{12}$ 채택"
      ],
      "id": "1fbc3832-8fce-431d-adbc-340158018f1a"
    }
  ],
  "nbformat": 4,
  "nbformat_minor": 5,
  "metadata": {
    "kernelspec": {
      "name": "ir",
      "display_name": "R",
      "language": "R"
    },
    "language_info": {
      "name": "R",
      "codemirror_mode": "r",
      "file_extension": ".r",
      "mimetype": "text/x-r-source",
      "pygments_lexer": "r",
      "version": "4.1.2"
    }
  }
}