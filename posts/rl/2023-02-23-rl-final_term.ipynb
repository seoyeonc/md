{
 "cells": [
  {
   "cell_type": "raw",
   "id": "2b050a96-de22-417f-b7bb-70d67e9000a3",
   "metadata": {
    "id": "cac470df-29e7-4148-9bbd-d8b9a32fa570",
    "tags": []
   },
   "source": [
    "---\n",
    "title: \"Advanced Regression Analysis Final Term\"\n",
    "author: \"SEOYEON CHOI\"\n",
    "date: \"2023-02-23\"\n",
    "categories:\n",
    "  - Advanced Regression Analysis\n",
    "---"
   ]
  },
  {
   "cell_type": "markdown",
   "id": "27fd6eac-bab4-454b-bc9f-0d464e8fbfc8",
   "metadata": {},
   "source": [
    "> 기말고사"
   ]
  },
  {
   "cell_type": "markdown",
   "id": "776de668-24df-4b5a-930d-33d7d005a102",
   "metadata": {},
   "source": [
    "# 1."
   ]
  },
  {
   "cell_type": "markdown",
   "id": "536ec1c3-0f28-4e3c-acac-4539ca3cf6f7",
   "metadata": {},
   "source": [
    "중회귀모형 $y = X\\beta + \\epsilon, \\epsilon \\sim N(0_n, I\\sigma^2)$에서 $X$가 $n \\times (p+1)$ 행렬이고, $rank$가 $p+1$ 이라면 적합된 모형 $\\hat{y} = X \\hat{\\beta}$에 대하여 다음을 증명하여라. 단, $\\mathbf{e} = \\mathbf{y} - \\mathbf{\\hat{y}}$"
   ]
  },
  {
   "cell_type": "markdown",
   "id": "26df0ea1-3472-4bd5-a4a1-21b889d5cf6d",
   "metadata": {},
   "source": [
    "## (1)"
   ]
  },
  {
   "cell_type": "markdown",
   "id": "bb935271-e8ca-4616-9ea6-3e432f43df24",
   "metadata": {},
   "source": [
    "$\\sum^n_{j=1} Var(\\hat{y}_j) = (p+1) \\sigma^2$"
   ]
  },
  {
   "cell_type": "markdown",
   "id": "05f14db5-1dac-4475-b006-e87374aa6f71",
   "metadata": {},
   "source": [
    "**answer**"
   ]
  },
  {
   "cell_type": "markdown",
   "id": "3a219e6b-5aa4-481b-ae8f-0de3641989fc",
   "metadata": {},
   "source": [
    "$\\hat{\\bf{y}}= X\\hat{\\beta} = X(X^\\top X)^{-1} X^\\top y = Hy$\n",
    "\n",
    "$Var(X\\hat{\\beta}) = XVar(\\hat{\\beta})X^\\top$\n",
    "\n",
    "$Var(\\hat{\\beta}) = Var((X^\\top X)^{-1} X^\\top y) = (X^\\top X)^{-1} X^\\top Var(y)X(X^\\top X)^{-1} = (X^\\top X)^{-1} X^\\top X(X^\\top X)^{-1} \\sigma^2 = (X^\\top X )^{-1} \\sigma^2$\n",
    "\n",
    "$Var(\\hat{y}) = Var(X\\hat{\\beta}) = X(X^\\top X)^{-1} X^\\top \\sigma^2$\n",
    "\n",
    "$\\to Var(\\hat{y}) = HVar(y) H^\\top = HH\\sigma^2 = H\\sigma^2$\n",
    "\n",
    "$\\star H^\\top = H, H^2 = H, Var(y) = I_n \\sigma^2$\n",
    "\n",
    "$\\sum^{n}_{j=1} Var(\\hat{y}_j) = tr(Var(\\hat{y})) = tr(H\\sigma^2) = \\sigma^2 tr(H) = tr((X^\\top X)^{-1} X^\\top X)\\sigma^2 = tr(I_{p+1})\\sigma^2 = (p+1)\\sigma^2$\n",
    "\n",
    "$\\star tr(X (X^\\top X)^{-1} X^\\top)$"
   ]
  },
  {
   "cell_type": "markdown",
   "id": "1d966f92-a86a-4d9b-bed7-ec0238cb68be",
   "metadata": {},
   "source": [
    "## (2)"
   ]
  },
  {
   "cell_type": "markdown",
   "id": "0ae6ab34-43b4-4e5c-8ebb-9cea8ca3a593",
   "metadata": {},
   "source": [
    "$Cov(\\mathbf{e,y}) = \\sigma^2[I_n - X(X^\\top X)^{-1} X^\\top]$"
   ]
  },
  {
   "cell_type": "markdown",
   "id": "d51bab5f-abd4-4745-bd7e-4ae7dca7e69e",
   "metadata": {},
   "source": [
    "**answer**"
   ]
  },
  {
   "cell_type": "markdown",
   "id": "e2256bd7-5e88-4e30-8b10-ae857be909b4",
   "metadata": {},
   "source": [
    "$\\bf{e} = y - \\hat{y} = y - Hy = (I-H)y$\n",
    "\n",
    "$Cov(\\bf{e},y) = Cov((I-H)y,y) = (I-H)Var(y) = (I-H) \\sigma^2$\n",
    "\n",
    "$\\star Cov(Ax,y) = A Cov(X,Y)$\n",
    "\n",
    "$\\star Var(y) = \\sigma^2$"
   ]
  },
  {
   "cell_type": "markdown",
   "id": "d8356e0b-55d6-4f83-bac4-2feee64759ce",
   "metadata": {},
   "source": [
    "## (3)"
   ]
  },
  {
   "cell_type": "markdown",
   "id": "88952600-7647-450f-b202-1834f28cdbc8",
   "metadata": {},
   "source": [
    "$Cov(\\mathbf{e,\\hat{y}}) = O_n$"
   ]
  },
  {
   "cell_type": "markdown",
   "id": "285d9348-5cd9-4aa0-93fc-8d0f74a958e7",
   "metadata": {},
   "source": [
    "**answer**"
   ]
  },
  {
   "cell_type": "markdown",
   "id": "c93b6595-5959-4ef7-889d-3d49bec649e0",
   "metadata": {},
   "source": [
    "$Cov(e(I - H)\\bf{y},Hy) = (I-H) Cov(y,y)H^\\top = (I-H)H\\sigma^2 = \\mathbb{O}_n \\sigma^2$\n",
    "\n",
    "$\\star Cov(Ax,By) = ACov(X,Y)B^\\top$\n",
    "\n",
    "$\\star H^\\top= H$\n",
    "\n",
    "$\\star H^2 = H$"
   ]
  },
  {
   "cell_type": "markdown",
   "id": "fc0f1e82-85ef-478e-acbe-2360a90b70ad",
   "metadata": {},
   "source": [
    "## (4)"
   ]
  },
  {
   "cell_type": "markdown",
   "id": "f56b8196-36a0-46dc-becf-a4b83bb9380c",
   "metadata": {},
   "source": [
    "$Cov(\\mathbf{e,\\hat{\\beta}}) = O_{n \\times (p+1)}$"
   ]
  },
  {
   "cell_type": "markdown",
   "id": "9b0a4dc0-f628-4b91-aeef-3ca187f0ec3b",
   "metadata": {},
   "source": [
    "**answer**"
   ]
  },
  {
   "cell_type": "markdown",
   "id": "2b7a3d67-4143-4346-986b-86df7d0d9c89",
   "metadata": {},
   "source": [
    "$Cov((I-H)\\bf{y},(X^\\top X)^{-1} y) = (I-H) Cov(y,y) X (X^\\top X)^{-1} = (I - X(X^\\top X)^{-1} X^\\top ) X (X^\\top X)^{-1} \\sigma^2 = \\{ X(X^\\top X)^{-1} - X(X^\\top X)^{-1} \\} \\sigma^2 = \\mathbb{O}_{n \\times ([+1)}$"
   ]
  },
  {
   "cell_type": "markdown",
   "id": "7e05467c-5182-4a40-a416-46a5402aa214",
   "metadata": {},
   "source": [
    "## (5)"
   ]
  },
  {
   "cell_type": "markdown",
   "id": "ed2da5d3-8f41-4490-99ff-4d1bd893bdb2",
   "metadata": {},
   "source": [
    "$Cov(\\mathbf{\\epsilon, \\hat{\\beta}}) = \\sigma^2 X(X^\\top X)^{-1}$"
   ]
  },
  {
   "cell_type": "markdown",
   "id": "f43d789b-54be-4345-8853-23592796621c",
   "metadata": {},
   "source": [
    "**answer**"
   ]
  },
  {
   "cell_type": "markdown",
   "id": "5e60b1f0-bbaf-4354-b7e8-243700d5bcfa",
   "metadata": {},
   "source": [
    "$\\bf{\\hat{\\beta}} = (X^\\top X)^{-1} X^\\top y = (X^\\top X)^{-1} X^\\top (X\\beta + \\epsilon) = \\beta + (X^\\top X)^{-1} X^\\top \\epsilon$\n",
    "\n",
    "$Cov(\\bf{\\epsilon} , \\beta + (X^\\top X)^{-1} X^\\top \\epsilon ) = Cov(\\epsilon, \\beta) + Cov(\\epsilon, \\epsilon)X(X^\\top X)^{-1} = \\sigma^2 X(X^\\top X)^{-1}$\n",
    "\n",
    "$\\star Cov(\\epsilon, \\beta) = 0$\n",
    "\n",
    "$\\star Cov(\\epsilon, \\epsilon) = I_n \\sigma^2$"
   ]
  },
  {
   "cell_type": "markdown",
   "id": "ae38919b-fb27-4ba2-b981-5c6ffcadcf7c",
   "metadata": {},
   "source": [
    "## (6)"
   ]
  },
  {
   "cell_type": "markdown",
   "id": "ea7b1d8f-3ce9-4467-9e74-7ed2ad0f23b4",
   "metadata": {},
   "source": [
    "$\\mathbf{e^\\top y} = SSE$"
   ]
  },
  {
   "cell_type": "markdown",
   "id": "7a3e2456-f099-42e0-8aa6-2591f92b8fc9",
   "metadata": {},
   "source": [
    "**answer**"
   ]
  },
  {
   "cell_type": "markdown",
   "id": "c376939b-fa0c-4648-afd8-c42874954a5e",
   "metadata": {},
   "source": [
    "$\\sum^{n}_{j=1} e_j y_j = \\bf{e^\\top y} = \\{ (I - H)y\\}^\\top y = y^\\top (I-H)y$\n",
    "\n",
    "$\\star \\bf{e}^\\top (e_1, \\dots , e_n) = (y-\\hat{y})^\\top$\n",
    "\n",
    "$\\star \\bf{y}^\\top  = (y_1 , \\dots , y_n)$\n",
    "\n",
    "$SSE = \\sum^n_{j=1} (y_i - \\hat{y}_j)^2 = (\\bf{y} - \\hat{y} ) ^\\top ( y - \\hat{y} ) = e^\\top e = \\{ (I - H)y \\}^\\top \\{ (I - H)y \\} = y^\\top (I - H) (I-H)y = y^\\top (I - H)y$\n",
    "\n",
    "$\\star I - H_H+H^2 = I-H, H^2 = H$\n",
    "\n",
    "$\\therefore \\sum^{n}_{j=1} e_j y_j = SSE$"
   ]
  },
  {
   "cell_type": "markdown",
   "id": "f6e18ffd-1a8b-48fb-997b-94cce3727815",
   "metadata": {},
   "source": [
    "## (7)"
   ]
  },
  {
   "cell_type": "markdown",
   "id": "21c9fdbf-7081-4537-bb62-d9e04d11f47d",
   "metadata": {},
   "source": [
    "$\\mathbf{e^\\top \\hat{y}}=0$"
   ]
  },
  {
   "cell_type": "markdown",
   "id": "617a14b9-1c0c-4c9f-a7ae-a2219f3ba943",
   "metadata": {},
   "source": [
    "**answer**"
   ]
  },
  {
   "cell_type": "markdown",
   "id": "c3182d5a-0aaf-4c95-bc66-5e95b94cb869",
   "metadata": {},
   "source": [
    "$\\sum^{n}_{j=1} \\bf{e_j \\hat{y}_j} = e^\\top \\hat{y} = y^\\top (I-H) Hy = y^\\top_{1\\times n} \\mathbb{O}_{n\\times n} y_{n \\times 1} = 0$\n",
    "\n",
    "$\\star H - H^2 = H - H = \\mathbb{O}_{n \\times n}$"
   ]
  },
  {
   "cell_type": "markdown",
   "id": "63e6fb82-ece6-44f0-875d-ce308f287fe5",
   "metadata": {},
   "source": [
    "## (8)"
   ]
  },
  {
   "cell_type": "markdown",
   "id": "ee6f4d4f-96cf-4007-b32e-a4efaa1bc248",
   "metadata": {},
   "source": [
    "$E(\\frac{SSE}{n-p-1}) = \\sigma^2$"
   ]
  },
  {
   "cell_type": "markdown",
   "id": "0b49f588-8e73-46a3-b046-443f934b7a22",
   "metadata": {},
   "source": [
    "**answer**"
   ]
  },
  {
   "cell_type": "markdown",
   "id": "33464167-bd78-4a86-80f0-1f44addcd1a6",
   "metadata": {},
   "source": [
    "정리 5.1\n",
    "\n",
    "$y \\sim N(\\mu,V)$ 이면\n",
    "\n",
    "$E(y^\\top A y) = tr(AV) + \\mu^\\top A \\mu, cov(y,y^\\top A y) = 2VA\\mu$\n",
    "\n",
    "$\\frac{SSE}{\\sigma^2} = y^\\top \\frac{1}{\\sigma^2}(I-H)y$\n",
    "\n",
    "$B = \\frac{1}{\\sigma^2}(I-H)$\n",
    "\n",
    "$y \\sim N(X\\beta, I \\sigma^2)$\n",
    "\n",
    "$BV = \\frac{1}{\\sigma^2}(I-H)I\\sigma^2 = B, BV=B$\n",
    "\n",
    "$B, BV$는 멱등행렬\n",
    "\n",
    "$tr(BV) = tr(B) = tr(I-H) = tr(I) - tr(H) = n-p-1$\n",
    "\n",
    "$\\star$ $X$가 $n \\times (p+1)$ 행렬이고, $rank$가 $p+1$, $\\therefore tr(H) = p+1$\n",
    "\n",
    "$\\mu = X B$\n",
    "\n",
    "$B = \\frac{1}{\\sigma^2}(I-H)$\n",
    "\n",
    "$B\\mu = \\frac{1}{\\sigma^2}(I-H) X \\beta = \\frac{1}{\\sigma^2}(X B - HXB) = 0$\n",
    "\n",
    "$\\star HX = X$\n",
    "\n",
    "$\\therefore \\mu^\\top B \\mu = 0$\n",
    "\n",
    "$E(\\frac{SSE}{\\sigma^2}) = n-p-1$\n",
    "\n",
    "$E(SSE) = (n-p-1)\\sigma^2$\n",
    "\n",
    "$\\therefore E(\\frac{SSE}{(n-p-1)}) = \\sigma^2$"
   ]
  },
  {
   "cell_type": "markdown",
   "id": "65365299-e2f8-4a8a-a37b-a511a81e8b3e",
   "metadata": {},
   "source": [
    "# 2."
   ]
  },
  {
   "cell_type": "markdown",
   "id": "ad687bf7-a57e-4dfa-8dc0-26b7cd416dc0",
   "metadata": {},
   "source": [
    "다음의 데이터에 대하여 모형 $y_i = \\beta_0 + \\beta_1 x_{1j} + \\beta_2 x_{2j} + \\epsilon_j, \\epsilon_j \\sim N(0,\\sigma^2)$이 옳다고 가정하고 질문에 답하여라."
   ]
  },
  {
   "cell_type": "markdown",
   "id": "c91d9400-e955-47b8-a5e8-a04480f2aa0c",
   "metadata": {},
   "source": [
    "|$y$|1|5|0|4|4|-1|\n",
    "|:--:|:--:|:--:|:--:|:--:|:--:|:--:|\n",
    "|$x_1$|1|2|1|3|3|3|\n",
    "|$x_2$|1|1|2|1|2|3|"
   ]
  },
  {
   "cell_type": "markdown",
   "id": "278f27ba-0529-4340-b767-53d65cc38677",
   "metadata": {},
   "source": [
    "## (1)"
   ]
  },
  {
   "cell_type": "markdown",
   "id": "3b93965f-b557-451e-95dc-dd16e9d310ed",
   "metadata": {},
   "source": [
    "행렬을 이용하여 중회귀모형을 정의하여라($X,\\mathbf{y,\\beta,\\epsilon}$을 정확하게 표현)"
   ]
  },
  {
   "cell_type": "markdown",
   "id": "c7951dd9-8f49-4051-84bf-66cf38cfe3fb",
   "metadata": {},
   "source": [
    "**answer**"
   ]
  },
  {
   "cell_type": "markdown",
   "id": "6c41aba5-96ea-44c8-a4bf-69ac8e3680af",
   "metadata": {},
   "source": [
    "$\\mathbf{y = X\\beta + \\epsilon, \\epsilon} \\sim N(X\\mathbf{\\beta}, I_n\\sigma^2)$\n",
    "\n",
    "$\\mathbf{y} = \\begin{pmatrix} 1 \\\\5\\\\0\\\\4\\\\4\\\\-1 \\end{pmatrix}, X = \\begin{pmatrix} 1&1&1\\\\1&2&1\\\\1&1&2\\\\1&3&1\\\\1&3&2\\\\1&3&3 \\end{pmatrix},  \\mathbf{\\beta} = \\begin{pmatrix} \\beta_0 \\\\ \\beta_1 \\\\ \\beta_2\\end{pmatrix}, \\mathbf{\\epsilon} =  \\begin{pmatrix} \\epsilon_1 \\\\ \\epsilon_2 \\\\ \\epsilon_3 \\\\ \\epsilon_4 \\\\ \\epsilon_5 \\\\ \\epsilon_6\\end{pmatrix}$"
   ]
  },
  {
   "cell_type": "markdown",
   "id": "0580117e-09e5-4aa7-abcc-927d18560bba",
   "metadata": {},
   "source": [
    "- 위에서 구한 $X,\\mathbf{y}$에 대하여 아래의 결과를 얻었을 때, 다음 물음에 답하여라.\n",
    "\n",
    "$$(X^\\top X)^{-1} = \\begin{pmatrix} 1.52 & -0.35 & -0.36 \\\\ -0.35 & 0.23 & -0.09 \\\\ -0.36 & -0.09 & 0.34 \\end{pmatrix}, X^\\top \\mathbf{y} = \\begin{pmatrix} 13 \\\\ 32 \\\\ 15 \\end{pmatrix}, \\mathbf{y^\\top y} = 59$$"
   ]
  },
  {
   "cell_type": "markdown",
   "id": "e2a463f4-60e7-47c6-b897-455638c78de4",
   "metadata": {},
   "source": [
    "## (2)"
   ]
  },
  {
   "cell_type": "markdown",
   "id": "6cabce7e-8755-4907-abe1-2591d25e7ecb",
   "metadata": {},
   "source": [
    "$\\beta_0, \\beta_1, \\beta_2$를 추정하시오."
   ]
  },
  {
   "cell_type": "markdown",
   "id": "dbc2a3aa-c130-4580-85dd-d5fa7908630a",
   "metadata": {},
   "source": [
    "**answer**"
   ]
  },
  {
   "cell_type": "markdown",
   "id": "91ebc543-4548-4af5-8fd5-b05f2fdbcc9a",
   "metadata": {},
   "source": [
    "$\\mathbf{\\hat{\\beta}} = (X^\\top X)^{-1} X^\\top \\mathbf{y} = \\begin{pmatrix} 3.16 \\\\ 1.46 \\\\ -2.46 \\end{pmatrix}$"
   ]
  },
  {
   "cell_type": "markdown",
   "id": "163b26cb-d857-4376-b55c-65a3a76fc7c4",
   "metadata": {},
   "source": [
    "## (3)"
   ]
  },
  {
   "cell_type": "markdown",
   "id": "b2ab87b3-3300-46de-b22f-1d3a76e030dc",
   "metadata": {},
   "source": [
    "분산분석표를 작성하고, 유의수준 $\\alpha=0.1$에서 회귀직선에 대한 유의성 검정을 수행하시오."
   ]
  },
  {
   "cell_type": "markdown",
   "id": "d228a401-df1a-4475-885b-76aef452c189",
   "metadata": {},
   "source": [
    "**answer**"
   ]
  },
  {
   "cell_type": "markdown",
   "id": "7cc6187b-63f0-4abe-8c19-15333e6a4bd8",
   "metadata": {},
   "source": [
    "|요인|제곱합(SS)|자유도(df)|평균제곱(MS)|$F_0$|\n",
    "|:--:|:--:|:--:|:--:|:--:|\n",
    "|회귀|<span style=\"color:blue\">23.0769</span>|<span style=\"color:blue\">2</span>|<span style=\"color:blue\">11.5385</span>|<span style=\"color:blue\">4.4628</span>|\n",
    "|잔차|7.7564|<span style=\"color:blue\">3</span>|<span style=\"color:blue\">2.5855</span>||\n",
    "|계|<span style=\"color:blue\">30.8333</span>|<span style=\"color:blue\">5</span>||"
   ]
  },
  {
   "cell_type": "markdown",
   "id": "5750a323-f018-441b-aa22-993f1599d8ed",
   "metadata": {},
   "source": [
    "$SST = \\mathbf{y^\\top y} - \\frac{1}{n}(\\sum y_i)^2 = 59 - 28.1667 = 30.8333$\n",
    "\n",
    "$SSR = SST - SSE$\n",
    "\n",
    "`-` $H_0: \\beta_1 = \\beta_2 = 0 \\text{ vs. } H_1 : \\text{ not } H_0$\n",
    "\n",
    "`-` 기각역: $F_0 \\ge F_{0.1}(2,3) = 5.46$\n",
    "\n",
    "`-` 결론: 기각역에 속하지 않으므로 $H_0$ 기각 못함. 즉, 회귀모형은 유의수준 0.1에서 유의하지 않다."
   ]
  },
  {
   "cell_type": "markdown",
   "id": "1aee8432-cc34-4144-a8c4-825fad95040d",
   "metadata": {},
   "source": [
    "## (4)"
   ]
  },
  {
   "cell_type": "markdown",
   "id": "241690c5-746e-478f-ba04-a7b682b2a689",
   "metadata": {},
   "source": [
    "결정계수($R^2$)와 수정된 결정계수($R^2_{sdj}$) 구하시오."
   ]
  },
  {
   "cell_type": "markdown",
   "id": "9dd46c4b-baed-4892-8a74-b8558df7526a",
   "metadata": {},
   "source": [
    "**answer**"
   ]
  },
  {
   "cell_type": "markdown",
   "id": "35c317cd-53f4-42d4-b915-5ad89b5c0d3b",
   "metadata": {},
   "source": [
    "$R^2 = \\frac{SSR}{SST} = 0.7484, R^2_{adj} = 1-\\frac{SSE/(n-p-1)}{SST/(n-1)} = 0.5807$"
   ]
  },
  {
   "cell_type": "markdown",
   "id": "02408373-ccd3-462d-b1e0-54345ff316e2",
   "metadata": {},
   "source": [
    "## (5)"
   ]
  },
  {
   "cell_type": "markdown",
   "id": "e14ab4b1-0344-407f-aed0-aa025200cff4",
   "metadata": {},
   "source": [
    "오차항의 분산 $\\sigma^2$에 대한 추정치를 구하시오."
   ]
  },
  {
   "cell_type": "markdown",
   "id": "d897f06b-b3b1-4821-8098-3603b03b7491",
   "metadata": {},
   "source": [
    "**answer**"
   ]
  },
  {
   "cell_type": "markdown",
   "id": "4daedf63-a432-4880-a1c1-333789893508",
   "metadata": {},
   "source": [
    "$\\hat{\\sigma}^2 = MSE = \\frac{SSE}{n-p-1} = 2.5855$"
   ]
  },
  {
   "cell_type": "markdown",
   "id": "c7a365dc-02c5-4eb5-a058-acbf9ac2f0be",
   "metadata": {},
   "source": [
    "## (6)"
   ]
  },
  {
   "cell_type": "markdown",
   "id": "ccef60a5-ed4f-43ea-bc12-c20c8e6ecde2",
   "metadata": {},
   "source": [
    "$\\hat{\\beta}_2$의 의미를 설명하고, 가설 $H_0: \\beta_2 = 0, H_1 : \\beta_2 <0$을 $\\alpha = 0.05$로 검정하시오."
   ]
  },
  {
   "cell_type": "markdown",
   "id": "77d5cc9c-9ec6-47ba-91dc-46cbe420f554",
   "metadata": {},
   "source": [
    "**answer**"
   ]
  },
  {
   "cell_type": "markdown",
   "id": "c2e3beeb-e525-4733-8b69-662268f4b099",
   "metadata": {},
   "source": [
    "$X_1$이 일정할 떄, $X_2$가 1단위 증가하면 $y$는 $\\hat{\\beta}_2$만큼 증가한다.\n",
    "\n",
    "가설검정\n",
    "\n",
    "`-` $Var(\\hat{\\beta}_2) = (X^\\top X)^{-1}_{(3,3)} \\sigma^2 = 0.34 \\sigma^2$\n",
    "\n",
    "`-` $\\hat{s.e.}(\\hat{\\beta}_2) = \\sqrt{0.34 \\times MSE } = \\sqrt{0.34 \\times 2.5855} = 0.9376$\n",
    "\n",
    "`-` $t_0 = \\frac{-2.46}{0.9376} = -2.62372$\n",
    "\n",
    "`-` 기각역: $t_0 < -t_{0.05}(3) = -2.35$\n",
    "\n",
    "`-` 결론: $H_0$기각 가능, 즉 0보다 작다고 할 수 있다."
   ]
  },
  {
   "cell_type": "code",
   "execution_count": 1,
   "id": "13fc370b-2431-4ed0-819a-c6eec935f561",
   "metadata": {},
   "outputs": [
    {
     "data": {
      "text/html": [
       "-2.35"
      ],
      "text/latex": [
       "-2.35"
      ],
      "text/markdown": [
       "-2.35"
      ],
      "text/plain": [
       "[1] -2.35"
      ]
     },
     "metadata": {},
     "output_type": "display_data"
    }
   ],
   "source": [
    "round(qt(0.05,3),2)"
   ]
  },
  {
   "cell_type": "markdown",
   "id": "46f068bc-2b80-4f91-b29b-9c629ac61b45",
   "metadata": {},
   "source": [
    "## (7)"
   ]
  },
  {
   "cell_type": "markdown",
   "id": "d111fe10-34e6-424d-932d-8fdaa516357b",
   "metadata": {},
   "source": [
    "$\\beta_1$의 $90$% 신뢰구간을 구하시오."
   ]
  },
  {
   "cell_type": "markdown",
   "id": "1e2a4494-3e08-420b-9337-b57d25e8b941",
   "metadata": {},
   "source": [
    "**answer**"
   ]
  },
  {
   "cell_type": "markdown",
   "id": "1d9e4804-817f-4d74-8cdf-2d722729ac04",
   "metadata": {},
   "source": [
    "$Var(\\hat{\\beta}_1) = (X^\\top X)^{-1}_{(2,2)} \\sigma^2 = 0.23 \\sigma^2$\n",
    "\n",
    "$\\hat{s.e.}(\\hat{\\beta}_1) = \\sqrt{0.23 \\times 2.5855} = 0.7711$\n",
    "\n",
    "$t_{0.5}(3) = 2.35$\n",
    "\n",
    "$\\hat{\\beta}_1 \\pm t_{0.05}(3)\\hat{s.e.}(\\hat{\\beta}_1) = (-0.3521,3.2721)$"
   ]
  },
  {
   "cell_type": "code",
   "execution_count": 2,
   "id": "1e1c0497-c820-4ae9-a6da-2ac8a67667cd",
   "metadata": {},
   "outputs": [
    {
     "data": {
      "text/html": [
       "2.35"
      ],
      "text/latex": [
       "2.35"
      ],
      "text/markdown": [
       "2.35"
      ],
      "text/plain": [
       "[1] 2.35"
      ]
     },
     "metadata": {},
     "output_type": "display_data"
    }
   ],
   "source": [
    "round(qt(0.95,3),2)"
   ]
  },
  {
   "cell_type": "markdown",
   "id": "22f00f8f-4dd0-4725-90ef-a7b6e29de088",
   "metadata": {},
   "source": [
    "## (8)"
   ]
  },
  {
   "cell_type": "markdown",
   "id": "2676a999-1ae4-4aad-98cc-43276a6d004b",
   "metadata": {},
   "source": [
    "$x_1 = x_2 = 2$에서 $E(y)$의 $95$% 신뢰구간을 구하시오."
   ]
  },
  {
   "cell_type": "markdown",
   "id": "03d3b354-7e42-499b-b588-6bb39f88f0f5",
   "metadata": {},
   "source": [
    "**answer**"
   ]
  },
  {
   "cell_type": "markdown",
   "id": "6ad93c41-cd5f-4716-84a7-090fed06d56d",
   "metadata": {},
   "source": [
    "$x_0 = \\begin{pmatrix} 1 \\\\ 2\\\\2\\end{pmatrix}$\n",
    "\n",
    "$\\hat{\\mu}_0 = x^\\top_0 \\mathbf{\\hat{\\beta}} = \\begin{pmatrix} 1 &2&2\\end{pmatrix}\\begin{pmatrix}3.16\\\\1.46\\\\-2.46\\end{pmatrix} = 1.16$\n",
    "\n",
    "$Var(\\hat{\\mu}_0) = x_0^\\top(X^\\top X)^{-1} x_0 \\sigma^2 = 0.24 \\sigma^2$\n",
    "\n",
    "$\\star x_0^\\top(X^\\top X)^{-1} x_0 = \\begin{pmatrix}1&2&2\\end{pmatrix}\\begin{pmatrix}1.52&-0.35&-0.36\\\\-0.35&0.23&-0.09\\\\-0.36&-0.09&0.34\\end{pmatrix} \\begin{pmatrix}1\\\\2\\\\2 \\end{pmatrix} = 0.24$\n",
    "\n",
    "$\\hat{s.e.}(\\hat{\\mu}_0) = \\sqrt{0.24 \\times 2.5855} = 0.7877$\n",
    "\n",
    "$1.16 \\pm t_{0.025}(3) \\hat{s.e.}(\\hat{\\mu}_0) = (-1.3449,3.6649)$"
   ]
  },
  {
   "cell_type": "code",
   "execution_count": 3,
   "id": "6ad52bc8-cbb4-449a-9785-b5fe511758dd",
   "metadata": {},
   "outputs": [
    {
     "data": {
      "text/html": [
       "3.18"
      ],
      "text/latex": [
       "3.18"
      ],
      "text/markdown": [
       "3.18"
      ],
      "text/plain": [
       "[1] 3.18"
      ]
     },
     "metadata": {},
     "output_type": "display_data"
    }
   ],
   "source": [
    "round(qt(0.975,3),2)"
   ]
  },
  {
   "cell_type": "markdown",
   "id": "6c9d321a-9d33-486c-8894-15d77c9958de",
   "metadata": {},
   "source": [
    "# 3."
   ]
  },
  {
   "cell_type": "markdown",
   "id": "fd8d6052-7ad9-47fe-8c39-d850e6e2c274",
   "metadata": {},
   "source": [
    "혈압이 체중과 성별에 따라 어떻게 달라지는가에 대한 모형을 적합하려고 한다. 데이터는 아래와 같을 때, 다음 물음에 답하여라."
   ]
  },
  {
   "cell_type": "markdown",
   "id": "04dfa9d5-bf80-403d-8f82-dc1c8cf03c85",
   "metadata": {},
   "source": [
    "||1|2|3|4|5|6|7|8|9|10|\n",
    "|:--:|:--:|:--:|:--:|:--:|:--:|:--:|:--:|:--:|:--:|:--:|\n",
    "|혈압|120|130|130|155|149|150|160|125|135|140|\n",
    "|체중|70|60|88|101|80|98|90|77|65|70|\n",
    "|성별|남|여|남|여|여|남|여|남|여|여|"
   ]
  },
  {
   "cell_type": "markdown",
   "id": "bd457537-d793-4bc7-812c-dc586caae5fa",
   "metadata": {},
   "source": [
    "## (1) "
   ]
  },
  {
   "cell_type": "markdown",
   "id": "79fe61db-325a-444f-b7c0-76077a7c4c87",
   "metadata": {},
   "source": [
    "혈압을 예측하기 위하여 교호작용을 포함하는 중회귀모형을 정의하시오.(성별의 경우 남자=1)"
   ]
  },
  {
   "cell_type": "markdown",
   "id": "f03a317a-4628-4be4-a317-4e724b2f5b73",
   "metadata": {},
   "source": [
    "**answer**"
   ]
  },
  {
   "cell_type": "markdown",
   "id": "16b62c76-dcbb-46c7-91dd-883f8b9735fc",
   "metadata": {},
   "source": [
    "$y_i = \\beta_0 + \\beta_1 x_{i1} + \\beta_2 x_{i2} + \\beta_3x_{i1}x_{i2} + \\epsilon_i, \\epsilon_i, i=1,\\dots,10, \\epsilon_i \\sim_{i.i.d.}N(0,\\sigma^2)$\n",
    "\n",
    "$x_1$ : 체중, $y$: 혈압\n",
    "\n",
    "$x_2$: 성별, $x_2 = \\begin{cases}1 & \\text{남자}\\\\0 & \\text{여자}\\end{cases}$"
   ]
  },
  {
   "cell_type": "markdown",
   "id": "9e50e735-3bd5-42bd-8ce9-93cf83a49c8d",
   "metadata": {},
   "source": [
    "## (2)"
   ]
  },
  {
   "cell_type": "markdown",
   "id": "74766715-aaf4-4f1e-b9f2-f8bce5766989",
   "metadata": {},
   "source": [
    "위의 모형을 행렬 형태로 표현하시오.($X,\\mathbf{y,\\beta,\\epsilon}$을 정확하게 표현)"
   ]
  },
  {
   "cell_type": "markdown",
   "id": "8b90ee24-8d25-4b59-9b10-912ba1ac0e9e",
   "metadata": {},
   "source": [
    "**answer**"
   ]
  },
  {
   "cell_type": "markdown",
   "id": "0a451084-988a-4571-a45f-94bdc9bd1cb0",
   "metadata": {},
   "source": [
    "$\\mathbf{y} = X\\mathbf{\\beta + \\epsilon}, \\mathbf{\\epsilon} \\sim N(0,I_n\\sigma^2)$\n",
    "\n",
    "$\\mathbf{y} = \\begin{pmatrix}120\\\\130\\\\130\\\\155\\\\149\\\\150\\\\160\\\\125\\\\135\\\\140\\end{pmatrix}, X = \\begin{pmatrix}1& 70&1&70\\\\1&60&0&0\\\\1&88&1&88\\\\1&101&0&0\\\\1&80&0&0\\\\1&98&1&98\\\\1&90&0&0\\\\1&77&1&77\\\\1&65&0&0\\\\1&70&0&0 \\end{pmatrix}, \\mathbf{\\beta} = \\begin{pmatrix}\\beta_0\\\\ \\beta_1 \\\\ \\beta_2 \\end{pmatrix}, \\mathbf{\\epsilon} = \\begin{pmatrix}\\epsilon_1 \\\\ \\epsilon_2\\\\ \\epsilon_3\\\\ \\epsilon_4\\\\ \\epsilon_5\\\\ \\epsilon_6\\\\ \\epsilon_7\\\\ \\epsilon_8\\\\ \\epsilon_9\\\\ \\epsilon_{10} \\end{pmatrix}$"
   ]
  },
  {
   "cell_type": "markdown",
   "id": "4b81194b-b907-45f9-bad5-03452568264d",
   "metadata": {},
   "source": [
    "## (3)"
   ]
  },
  {
   "cell_type": "markdown",
   "id": "8a0faf73-c61a-4117-8b19-2ea12aed817f",
   "metadata": {},
   "source": [
    "위 모형의 적합 결과가 다음과 같다고 하자. 빈 칸을 채워 넣으시오. 마지막 칸에는 개별회귀계수에 대한 유의성검정을 위한 가설과, 검정결과(기각, 기각못함)를 적으시오.(풀이 있어야 함) 그리고 분산분석표를 이용하여 회귀모형의 유의성 검정을 하시오.(유의수준 $\\alpha = 0.05$)"
   ]
  },
  {
   "cell_type": "markdown",
   "id": "4b72b937-b5b3-4478-bacc-36ad3ead7ce9",
   "metadata": {},
   "source": [
    "**answer**"
   ]
  },
  {
   "cell_type": "markdown",
   "id": "09aaeae9-b342-470e-9ef3-16c72d700c2d",
   "metadata": {},
   "source": [
    "$$\\text{추정}$$\n",
    "\n",
    "||Estimate|Std.Error|t value|검정결과|\n",
    "|:--:|:--:|:--:|:--:|:--:|\n",
    "|절편<span style=\"color:blue\">$\\beta_0$</span>|<span style=\"color:blue\">$\\hat{\\beta}_0$</span>=70.681|10.779|<span style=\"color:blue\">6.557</span>|<span style=\"color:blue\">기각</span>|\n",
    "|체중<span style=\"color:blue\">$\\beta_1$</span>|<span style=\"color:blue\">$\\hat{\\beta}_1$</span>=0.988|<span style=\"color:blue\">0.1461</span>|6.763|<span style=\"color:blue\">기각</span>|\n",
    "|성별<span style=\"color:blue\">$\\beta_2$</span>|<span style=\"color:blue\">$\\hat{\\beta}_2$</span>=-32.435|15.830|<span style=\"color:blue\">-2.049</span>|<span style=\"color:blue\">기각못함</span>|\n",
    "|교호작용<span style=\"color:blue\">$\\beta_3$</span>|<span style=\"color:blue\">$\\hat{\\beta}_3$</span>=0.138|0.197|<span style=\"color:blue\">0.702</span>|<span style=\"color:blue\">기각못함</span>|"
   ]
  },
  {
   "cell_type": "markdown",
   "id": "5cbd4998-b6a5-46ad-a7e6-25feb8332089",
   "metadata": {},
   "source": [
    "$t_0 = \\frac{\\hat{\\beta}_i}{\\hat{s.e.}(\\hat{\\beta}_i)}$, 기각역 $|t_0| > t_{\\alpha/2}(n-p-1) = t_{0.025}(6) = 2.45$\n",
    "\n",
    "$H_0: \\beta_i = 0, H_1: \\beta_i \\neq 0$"
   ]
  },
  {
   "cell_type": "code",
   "execution_count": 6,
   "id": "ed76e9b6-19fb-423b-a60d-bef52899ee97",
   "metadata": {},
   "outputs": [
    {
     "data": {
      "text/html": [
       "2.45"
      ],
      "text/latex": [
       "2.45"
      ],
      "text/markdown": [
       "2.45"
      ],
      "text/plain": [
       "[1] 2.45"
      ]
     },
     "metadata": {},
     "output_type": "display_data"
    }
   ],
   "source": [
    "round(qt(0.975,6),2)"
   ]
  },
  {
   "cell_type": "markdown",
   "id": "359529b2-4b7e-459e-9806-9c9cca6bbb5e",
   "metadata": {},
   "source": [
    "$$\\text{분산분석표}$$\n",
    "\n",
    "|요인|제곱합(SS)|자유도(df)|평균제곱(MS)|$F_0$|\n",
    "|:--:|:--:|:--:|:--:|:--:|\n",
    "|회귀|<span style=\"color:blue\">1578.14</span>|<span style=\"color:blue\">3</span>|<span style=\"color:blue\">526.0467</span>|<span style=\"color:blue\">42.5031</span>|\n",
    "|잔차|74.26|<span style=\"color:blue\">6</span>|<span style=\"color:blue\">12.3767</span>||\n",
    "|계|1652.4|<span style=\"color:blue\">9</span>||"
   ]
  },
  {
   "cell_type": "markdown",
   "id": "906a09d4-aecd-4f23-b548-a4dd60bc97ff",
   "metadata": {},
   "source": [
    "$H_0 : \\beta_1 = \\beta_2 = \\beta_3 = 0 \\text{ vs. } H_1 \\text{ not } H_0$\n",
    "\n",
    "$F_0 > F_{\\alpha}(p,n-p-1) = F_{0.05}(3,6) = 4.76$\n",
    "\n",
    "이므로 $H_0$기각 가능, 즉 유의수준 0.05에서 회귀직선 유의"
   ]
  },
  {
   "cell_type": "markdown",
   "id": "da4bac63-abec-4a99-82ad-8b09674fa708",
   "metadata": {},
   "source": [
    "## (4)"
   ]
  },
  {
   "cell_type": "markdown",
   "id": "9df6fb99-24ee-424d-8fcc-7169eb99a027",
   "metadata": {},
   "source": [
    "(3)의 결과를 보고, 결정계수($R^2$) 와 수정된 결정계수($R^2_{sdj}$) 구하시오."
   ]
  },
  {
   "cell_type": "markdown",
   "id": "0df71a28-42cd-4480-9e02-11ab303ea4df",
   "metadata": {},
   "source": [
    "**answer**"
   ]
  },
  {
   "cell_type": "markdown",
   "id": "65250059-848b-496a-a1ef-71a32c5bd51e",
   "metadata": {},
   "source": [
    "$R^2 = \\frac{SSR}{SST} = 0.9551, R^2_{adj} = 1-\\frac{SSE/(n-p-1)}{SST/(n-1)} = 0.9326$"
   ]
  },
  {
   "cell_type": "code",
   "execution_count": 36,
   "id": "21976f89-24fb-4897-9b16-1cc9fa5082cf",
   "metadata": {},
   "outputs": [
    {
     "data": {
      "text/html": [
       "0.9551"
      ],
      "text/latex": [
       "0.9551"
      ],
      "text/markdown": [
       "0.9551"
      ],
      "text/plain": [
       "[1] 0.9551"
      ]
     },
     "metadata": {},
     "output_type": "display_data"
    }
   ],
   "source": [
    "round(1578.14/1652.4,4)"
   ]
  },
  {
   "cell_type": "code",
   "execution_count": 37,
   "id": "7355c33e-827e-43fd-8e71-de51507e4ca4",
   "metadata": {},
   "outputs": [
    {
     "data": {
      "text/html": [
       "0.9326"
      ],
      "text/latex": [
       "0.9326"
      ],
      "text/markdown": [
       "0.9326"
      ],
      "text/plain": [
       "[1] 0.9326"
      ]
     },
     "metadata": {},
     "output_type": "display_data"
    }
   ],
   "source": [
    "round(1-(74.26/6)/(1652.4/9),4)"
   ]
  },
  {
   "cell_type": "markdown",
   "id": "dcd93078-219f-46f4-906e-b38afac5ec8d",
   "metadata": {},
   "source": [
    "## (5)"
   ]
  },
  {
   "cell_type": "markdown",
   "id": "893bea25-3c84-4472-beb8-466cc61f06ed",
   "metadata": {},
   "source": [
    "(3)번의 결과를 보고 모형 적합 결과를 설명하여라.(각 회귀계수의 의미와 유의성 검정 결과)"
   ]
  },
  {
   "cell_type": "markdown",
   "id": "6aae727d-f179-4c06-8e15-c37a4a59fc5e",
   "metadata": {},
   "source": [
    "**answer**"
   ]
  },
  {
   "cell_type": "markdown",
   "id": "af6c3822-a5bd-4176-9ef5-2bec319c242b",
   "metadata": {},
   "source": [
    "$E(y|\\text{남성}) = \\beta_0 + \\beta_1 x_1+\\beta_2+\\beta_3x_1 = (\\beta_0+\\beta_2) + (\\beta_1 + \\beta_3)x_1$\n",
    "\n",
    "$E(y|\\text{여성}) = \\beta_0 + \\beta_1x_1$\n",
    "\n",
    "$\\hat{\\beta}_2$: 유의하지 않음: 남성과 여성의 절편 차이 없음\n",
    "\n",
    "$\\hat{\\beta}_3$: 유의하지 않음: 남성과 여성의 기울기 차이 없음"
   ]
  },
  {
   "cell_type": "markdown",
   "id": "36903ca3-d57e-4f26-97c8-40ad9f9e7af1",
   "metadata": {},
   "source": [
    "**answer**"
   ]
  },
  {
   "cell_type": "markdown",
   "id": "17349f5e-c8d7-44dc-81d0-7f54faa725fb",
   "metadata": {},
   "source": [
    "## (6)"
   ]
  },
  {
   "cell_type": "markdown",
   "id": "429cb10a-9353-475a-8daa-1bde5ad65c05",
   "metadata": {},
   "source": [
    "이번에는 교호작용을 제외한 모형을 적합해 보았다. 모형을 정의하여라."
   ]
  },
  {
   "cell_type": "markdown",
   "id": "1e5cd7ff-62df-4737-a72b-f26ff06eb2ae",
   "metadata": {},
   "source": [
    "**answer**"
   ]
  },
  {
   "cell_type": "markdown",
   "id": "cdd77396-aee8-4e13-85a1-436d7c325dca",
   "metadata": {},
   "source": [
    "$y_i = \\beta_0 + \\beta_1 x_{1i} + \\beta_2 x_{2i} + \\epsilon_i , i=1,\\dots, 10, \\epsilon_i \\sim N(0,\\sigma^2)$"
   ]
  },
  {
   "cell_type": "markdown",
   "id": "f7b4bef9-c986-4134-85ba-408f2a71c501",
   "metadata": {},
   "source": [
    "## (7)"
   ]
  },
  {
   "cell_type": "markdown",
   "id": "f402784d-f147-416b-b116-18bdc7ef1767",
   "metadata": {},
   "source": [
    "(7)번의 결과가 다음과 같을 때, 빈 칸을 채우고 적합 결과에 대해 설명하여라. (3)번 참고."
   ]
  },
  {
   "cell_type": "markdown",
   "id": "8267dece-e869-4c9e-88c7-1772c9b705cc",
   "metadata": {},
   "source": [
    "**answer**"
   ]
  },
  {
   "cell_type": "markdown",
   "id": "028c9e79-4613-4f62-9b9e-7d9c39408420",
   "metadata": {},
   "source": [
    "||Estimate|Std.Error|t value|검정결과|\n",
    "|:--:|:--:|:--:|:--:|:--:|\n",
    "|절편|65.137|7.059|<span style=\"color:blue\">9.227</span>|<span style=\"color:blue\">기각</span>|\n",
    "|체중|1.064|0.094|<span style=\"color:blue\">11.264</span>|<span style=\"color:blue\">기각</span>|\n",
    "|성별|-21.482|2.508|<span style=\"color:blue\">-8.565</span>|<span style=\"color:blue\">기각</span>|"
   ]
  },
  {
   "cell_type": "markdown",
   "id": "540d0538-8bc6-45ca-b9a7-c4c868cdd2b1",
   "metadata": {},
   "source": [
    "$H_0: \\beta_i = 0 \\text{ vs. } H_1 : \\beta_i \\neq 0, i=1,2,3$\n",
    "\n",
    "기각역: $|t_0| > t_{\\alpha/2}(n-p-1) = t_{0.025}(7) = 2.36$\n",
    "\n",
    "$E(y|\\text{남성}) = \\beta_0 + \\beta_1 x_1 + \\beta_2 = \\beta_0 + \\beta_2 + \\beta_1 x_1$\n",
    "\n",
    "$E(y|\\text{여성}) = \\beta_0 + \\beta_1x_1$\n",
    "\n",
    "$H_0:\\beta_2\\neq 0$을 기각할 수 있으므로, 성별에 따른 평균 혈압이 다르다고 할 수 있다."
   ]
  },
  {
   "cell_type": "code",
   "execution_count": 40,
   "id": "19f7efac-931a-4ac4-b496-606b9f9d6017",
   "metadata": {},
   "outputs": [
    {
     "data": {
      "text/html": [
       "2.36"
      ],
      "text/latex": [
       "2.36"
      ],
      "text/markdown": [
       "2.36"
      ],
      "text/plain": [
       "[1] 2.36"
      ]
     },
     "metadata": {},
     "output_type": "display_data"
    }
   ],
   "source": [
    "round(qt(0.975,7),2)"
   ]
  },
  {
   "cell_type": "code",
   "execution_count": 45,
   "id": "8f99d2c6-ca39-46e8-8a3e-1cc79a7262e9",
   "metadata": {},
   "outputs": [
    {
     "data": {
      "text/html": [
       "<table class=\"dataframe\">\n",
       "<caption>A anova: 3 × 5</caption>\n",
       "<thead>\n",
       "\t<tr><th></th><th scope=col>Df</th><th scope=col>Sum Sq</th><th scope=col>Mean Sq</th><th scope=col>F value</th><th scope=col>Pr(&gt;F)</th></tr>\n",
       "\t<tr><th></th><th scope=col>&lt;int&gt;</th><th scope=col>&lt;dbl&gt;</th><th scope=col>&lt;dbl&gt;</th><th scope=col>&lt;dbl&gt;</th><th scope=col>&lt;dbl&gt;</th></tr>\n",
       "</thead>\n",
       "<tbody>\n",
       "\t<tr><th scope=row>x1</th><td>1</td><td>729.9696</td><td>729.96957</td><td>27.92185</td><td>0.001142928</td></tr>\n",
       "\t<tr><th scope=row>x2</th><td>1</td><td>739.4272</td><td>739.42724</td><td>28.28361</td><td>0.001101377</td></tr>\n",
       "\t<tr><th scope=row>Residuals</th><td>7</td><td>183.0032</td><td> 26.14331</td><td>      NA</td><td>         NA</td></tr>\n",
       "</tbody>\n",
       "</table>\n"
      ],
      "text/latex": [
       "A anova: 3 × 5\n",
       "\\begin{tabular}{r|lllll}\n",
       "  & Df & Sum Sq & Mean Sq & F value & Pr(>F)\\\\\n",
       "  & <int> & <dbl> & <dbl> & <dbl> & <dbl>\\\\\n",
       "\\hline\n",
       "\tx1 & 1 & 729.9696 & 729.96957 & 27.92185 & 0.001142928\\\\\n",
       "\tx2 & 1 & 739.4272 & 739.42724 & 28.28361 & 0.001101377\\\\\n",
       "\tResiduals & 7 & 183.0032 &  26.14331 &       NA &          NA\\\\\n",
       "\\end{tabular}\n"
      ],
      "text/markdown": [
       "\n",
       "A anova: 3 × 5\n",
       "\n",
       "| <!--/--> | Df &lt;int&gt; | Sum Sq &lt;dbl&gt; | Mean Sq &lt;dbl&gt; | F value &lt;dbl&gt; | Pr(&gt;F) &lt;dbl&gt; |\n",
       "|---|---|---|---|---|---|\n",
       "| x1 | 1 | 729.9696 | 729.96957 | 27.92185 | 0.001142928 |\n",
       "| x2 | 1 | 739.4272 | 739.42724 | 28.28361 | 0.001101377 |\n",
       "| Residuals | 7 | 183.0032 |  26.14331 |       NA |          NA |\n",
       "\n"
      ],
      "text/plain": [
       "          Df Sum Sq   Mean Sq   F value  Pr(>F)     \n",
       "x1        1  729.9696 729.96957 27.92185 0.001142928\n",
       "x2        1  739.4272 739.42724 28.28361 0.001101377\n",
       "Residuals 7  183.0032  26.14331       NA          NA"
      ]
     },
     "metadata": {},
     "output_type": "display_data"
    }
   ],
   "source": [
    "y <- c(120,130,130,155,149,150,160,125,135,140) # 혈압\n",
    "x1 <- c(70,60,88,101,80,98,90,77,65,70) # 체중\n",
    "x2 <- c(1,0,1,0,0,1,0,1,0,0) # 성별, 남, 여, 남, 여, 여, 남, 여, 남, 여, 여\n",
    "df <- data.frame(y,x1,x2)\n",
    "anova(lm(y~x1+x2,df))"
   ]
  },
  {
   "cell_type": "markdown",
   "id": "80c6b58b-6e2f-4394-86fc-2906e693dc22",
   "metadata": {},
   "source": [
    "# 4."
   ]
  },
  {
   "cell_type": "markdown",
   "id": "fdf6454b-4188-46b7-b5c6-9c7148931a34",
   "metadata": {},
   "source": [
    "중학교 2학년 학생 중에서 15명을 임의로 추출하여 각 학생의 약력($kg:x_1$), 신장($cm:x_2$), 체중($kg:x_3$)과 원반던지기에서 던진 거리(m)를 측정하였다. $x_1,x_2,x_3$를 모두 사용하여 $y$에 대한 중회귀모형을 적합시킨 후 회귀진단을 통해 다음의 결과를 얻었다. 이상치, 지렛대점, 영향을 크게 주는 측정값이 어떤 것인가를 판정하시오."
   ]
  },
  {
   "cell_type": "markdown",
   "id": "2473a5c5-fd13-476f-ae0f-18974955ada2",
   "metadata": {},
   "source": [
    "||$\\epsilon_i$|$r_i$|$r^*_i$|diffit|covratio|cook.d|$h_{ii}$|\n",
    "|:--:|:--:|:--:|:--:|:--:|:--:|:--:|:--:|\n",
    "|1|0.3190|0.1547|0.1476|0.0804|1.8818|0.0018|0.2287|\n",
    "|2| 3.8022| 1.9823| <span style=\"color:blue\">2.3575</span>|  <span style=\"color:blue\">1.6656</span>| 0.3746| 0.4904| 0.3329|\n",
    "|3| -2.8042| -1.4125| -1.4885| -0.9407| 0.9201| 0.1992| 0.2854|\n",
    "|4| -0.5070| -0.2580| -0.2468| -0.1616| 2.0414| 0.0071| 0.3000|\n",
    "|5| 1.2883| 0.6588| 0.6410| 0.4264| 1.7978| 0.0480| 0.3067|\n",
    "|6| 0.7918| 0.4639| 0.4467| 0.4221| <span style=\"color:blue\">2.5609</span>| 0.0480 |0.4717|\n",
    "|7| -1.3187| -0.6171| -0.5989| -0.2731| 1.5360| 0.0198| 0.1721|\n",
    "|8| 0.0080| 0.0040| 0.0038| 0.0022| 1.9843| 0.0000 |0.2622|\n",
    "|9| -0.7848| -0.4366| -0.4199| -0.3530|<span style=\"color:blue\">2.3302</span>| 0.0337 |0.4141|\n",
    "|10| 0.0298| 0.0141| 0.0134| 0.0064| 1.7932| 0.0000 |0.1836|\n",
    "|11| -3.0805| -1.3628| -1.4252| -0.4014| 0.7542| 0.0368| 0.0735|\n",
    "|12| -0.4829| -0.2259| -0.2159| -0.0981| 1.7337| 0.0026| 0.1711|\n",
    "|13| 2.7167| 1.2862| 1.3305| 0.6467| 0.9431| 0.0977 |0.1911|\n",
    "|14| -2.8386| -1.3880| -1.4571| -0.8226| 0.8938| 0.1535| 0.2417|\n",
    "|15| 2.8609| 1.5289| 1.6427| <span style=\"color:blue\">1.2458</span>| 0.8869| 0.3361| 0.3651|"
   ]
  },
  {
   "cell_type": "markdown",
   "id": "2501e110-b906-40bc-8451-11681fa18d17",
   "metadata": {},
   "source": [
    "**answer**"
   ]
  },
  {
   "cell_type": "markdown",
   "id": "e5271598-96bc-4a8d-ac34-6ce1018b075b",
   "metadata": {},
   "source": [
    "1. leverage point\n",
    "\n",
    "$h_{ii} > 2\\bar{n}$ 또는 $3\\bar{n}$\n",
    "\n",
    "$\\bar{h} = \\frac{p+1}{n} = \\frac{3+1}{15} = 0.267$\n",
    "\n",
    "$2\\bar{h} = 0.53, 3\\bar{h} = 0.8$ .없음"
   ]
  },
  {
   "cell_type": "markdown",
   "id": "2b2fb83b-0c7b-4917-b4c5-e18d94537d4f",
   "metadata": {},
   "source": [
    "2. 이상치\n",
    "\n",
    "$|r^*_i| \\ge t_{\\alpha/2}(n-p-1) = t_{0.05/2}(15-3-2) = 2.23$ 2번 관측값"
   ]
  },
  {
   "cell_type": "code",
   "execution_count": 55,
   "id": "8891ce1a-aa8d-4211-9898-7433b1a6f5f7",
   "metadata": {},
   "outputs": [
    {
     "data": {
      "text/html": [
       "2.23"
      ],
      "text/latex": [
       "2.23"
      ],
      "text/markdown": [
       "2.23"
      ],
      "text/plain": [
       "[1] 2.23"
      ]
     },
     "metadata": {},
     "output_type": "display_data"
    }
   ],
   "source": [
    "round(qt(0.975,10),2)"
   ]
  },
  {
   "cell_type": "markdown",
   "id": "57260742-c9df-401f-94f3-53952f6951c2",
   "metadata": {},
   "source": [
    "3. 영향점\n",
    "\n",
    "$|Diffs(i) \\ge 2\\sqrt{\\frac{p+1}{n-p-1}} = 1.206 \\to$ 2,15번이 영향점\n",
    "\n",
    "$|D(i) \\ge F_{0.5}(p+1,n-p-1) = F_{0.5}(4,11) = 0.96$\n",
    "\n",
    "$|CovRatio(i) -1| \\ge 3 \\frac{p+1}{n} = 0.8$"
   ]
  },
  {
   "cell_type": "code",
   "execution_count": null,
   "id": "34d82dd4-6f4a-4716-b1fa-e8356f80c0e9",
   "metadata": {},
   "outputs": [],
   "source": []
  }
 ],
 "metadata": {
  "kernelspec": {
   "display_name": "R",
   "language": "R",
   "name": "ir"
  },
  "language_info": {
   "codemirror_mode": "r",
   "file_extension": ".r",
   "mimetype": "text/x-r-source",
   "name": "R",
   "pygments_lexer": "r",
   "version": "4.1.2"
  }
 },
 "nbformat": 4,
 "nbformat_minor": 5
}
