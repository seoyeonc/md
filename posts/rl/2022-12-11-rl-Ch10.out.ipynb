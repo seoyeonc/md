{
  "cells": [
    {
      "cell_type": "markdown",
      "metadata": {},
      "source": [
        "# 고급회귀분석 CH10\n",
        "\n",
        "SEOYEON CHOI  \n",
        "2022-12-11\n",
        "\n",
        "> 이상치"
      ],
      "id": "93c92db4-26e7-4b90-896e-e0438af4c526"
    },
    {
      "cell_type": "code",
      "execution_count": 43,
      "metadata": {},
      "outputs": [],
      "source": [
        "library(ggplot2)"
      ],
      "id": "6678cb4d-d992-4ef5-9de0-c7b3c6a7e5a6"
    },
    {
      "cell_type": "markdown",
      "metadata": {},
      "source": [
        "# 회귀진단\n",
        "\n",
        "1.  오차항의 검토\n",
        "2.  적절한 모형의 선택\n",
        "3.  독립변수들 간의 상관관계 검토\n",
        "4.  지렛대점(leverage point)의 검출\n",
        "5.  이상치(outlier) 화인\n",
        "6.  영향점(influential observation)의 검출\n",
        "\n",
        "추정된 회귀직선\n",
        "\n",
        "$$\\hat{y} = X(X^\\top X)^{-1} X^\\top y = Hy$$\n",
        "\n",
        "H: hat matrix, $n \\times n$ matrix\n",
        "\n",
        "$Var(\\hat{y}) = \\sigma^2 H$\n",
        "\n",
        "$Var(e) = (I_N - H) \\sigma^2$\n",
        "\n",
        "$h_{i,j} = x_i^\\top (X^\\top X) ^{-1} x_j$\n",
        "\n",
        "$h_{ij}$ : H의 대각원소\n",
        "\n",
        "$H = X(X^\\top X)^{-1} X^\\top$\n",
        "\n",
        "$HH = H$\n",
        "\n",
        "$rank(H) = p+1$\n",
        "\n",
        "$tr(H) = \\sum^n_{i=1}h_{ii} = p+1$\n",
        "\n",
        "$H$ : 양반정치행렬 positive definite\n",
        "\n",
        "$0 \\le h_{ii} <1 , -\\frac{1}{2} \\le h_{ij} \\le -\\frac{1}{2}$\n",
        "\n",
        "$p=1, h_{ii} = \\frac{1}{n} + \\frac{(x_{u} - \\bar{x})^2}{S_{xx}}$\n",
        "\n",
        "$p>1, h_{ii} = \\frac{1}{n} + (x_i - \\bar{x})^\\top (X^\\top X)^{-1} (x_i - \\bar{x})$\n",
        "\n",
        "### 지렛대점(leverage point)\n",
        "\n",
        "$h_{ii} > s\\bar{h}$ 이면, i번째 관측치가 leverage point로 고려 가능\n",
        "\n",
        "$$\\bar{h} = \\frac{1}{n} \\sum^n_{i=1}h_{ii} = \\frac{p+1}{n}$$\n",
        "\n",
        "### 잔차(Residual)\n",
        "\n",
        "$e = y − \\hat{y} = y − X \\hat{\\beta}$\n",
        "\n",
        "$= y − X(X^\\top X)^{-1} X^\\top y$\n",
        "\n",
        "$= (In − X(X^\\to X)^{-1}X^\\to )y = (I_n − H)y$\n",
        "\n",
        "$E(e) = 0_n, Var(e) = (I_n − H)σ^2$\n",
        "\n",
        "$E(e_i) = 0, Var(e_i) = (1 − h_{ii})σ^2$\n",
        "\n",
        "$Cov(e_i,e_j) = −h_{ij} σ^2$\n",
        "\n",
        "$ρ_{ij} = \\frac{−h_{ij} σ^2}{ \\sqrt{(1 − h_{ii})(1 − h_{jj})σ^4} }=\\frac{ −h_{ij}}{\\sqrt{(1 − h_{ii})(1 − h_{jj})}}$\n",
        "\n",
        "### 표준화잔차(standardized residual)\n",
        "\n",
        "$y \\sim N(Xβ,I_nσ^2)$\n",
        "\n",
        "$e \\sim N(0_n,(I_n−H)σ^2)$\n",
        "\n",
        "$e_i \\sim N(0,(1−h_{ii})σ^2)$\n",
        "\n",
        "$\\star \\frac{e_i}{\\sigma\\sqrt{1-h_{ii}}} \\sim N(0,1)$\n",
        "\n",
        "#### 내적 스튜던트화 잔차(internally studentized residual)\n",
        "\n",
        "$r_i = \\frac{e_i}{\\hat{\\sigma}\\sqrt{1−h_{ii}}}$\n",
        "\n",
        "$\\hat{\\sigma}^2 = MSE$\n",
        "\n",
        "이러한 표준화 잔차에 대한 표본분포는 분자와 분모가 서로 독립이 아니기\n",
        "때문에 $t$ 분포로 근사할 수 없는데, $|e_i|$가 큰 경우, $s$도 역시 커지게\n",
        "되기 때문이다.\n",
        "\n",
        "#### 외적 스튜던트화 잔차(externally studentized residual)\n",
        "\n",
        "$r_i^{*} = \\frac{e_i}{\\hat{\\sigma}_{(i)}\\sqrt{1 − h_{ii}}} \\sim t(n-p-1-1)$\n",
        "\n",
        "$\\hat{\\sigma}^2_{(i)} = [(n-p-1)\\hat{\\sigma} - \\frac{e^2_{(i)}}{1-h_{ii}}]/(n-p-2)$\n",
        "\n",
        "$|r_i^{*}| ≥ t_{α/2}(n − p − 2)$ 이면 유의수준$\\alpha$에서 $y_i$를\n",
        "이상점이라고 판정\n",
        "\n",
        "$\\star$\n",
        "\n",
        "$t_{i} = \\frac{y_i - \\tilde{y}_i}{\\hat{\\sigma}\\sqrt{1 + x_i^\\top [X{i}^\\top X(i)]^{-1} x_i}} \\sim t(n-p-2)$\n",
        "\n",
        "$|r_i^{*}| \\sim t_{i}$\n",
        "\n",
        "### 예제 10.1"
      ],
      "id": "808e6b50-a15e-4b08-b4c1-6224ac923706"
    },
    {
      "cell_type": "code",
      "execution_count": 3,
      "metadata": {},
      "outputs": [],
      "source": [
        "df = data.frame('x' =  c(15, 26, 10, 9, 15, 20, 18, 11, 8, 20, 7, 9, 10, 11, 11, 10, 12, 42, 17, 11, 10),\n",
        "    'y' = c(95, 71, 83, 91, 102, 87, 93, 100, 104, 94, 113, 96, 83, 84, 102, 100, 105, 57, 121, 86, 100))"
      ],
      "id": "22e53e76-8bb9-4380-95f8-8f1247749801"
    },
    {
      "cell_type": "code",
      "execution_count": 45,
      "metadata": {},
      "outputs": [],
      "source": [
        "model = lm(y~x,df)"
      ],
      "id": "afe73c97-e061-4142-a5b1-10c6439a6d23"
    },
    {
      "cell_type": "code",
      "execution_count": 48,
      "metadata": {},
      "outputs": [
        {
          "output_type": "display_data",
          "metadata": {},
          "data": {
            "text/plain": [
              "\n",
              "Call:\n",
              "lm(formula = y ~ x, data = df)\n",
              "\n",
              "Residuals:\n",
              "    Min      1Q  Median      3Q     Max \n",
              "-15.604  -8.731   1.396   4.523  30.285 \n",
              "\n",
              "Coefficients:\n",
              "            Estimate Std. Error t value Pr(>|t|)    \n",
              "(Intercept) 109.8738     5.0678  21.681 7.31e-15 ***\n",
              "x            -1.1270     0.3102  -3.633  0.00177 ** \n",
              "---\n",
              "Signif. codes:  0 ‘***’ 0.001 ‘**’ 0.01 ‘*’ 0.05 ‘.’ 0.1 ‘ ’ 1\n",
              "\n",
              "Residual standard error: 11.02 on 19 degrees of freedom\n",
              "Multiple R-squared:   0.41, Adjusted R-squared:  0.3789 \n",
              "F-statistic:  13.2 on 1 and 19 DF,  p-value: 0.001769"
            ]
          }
        }
      ],
      "source": [
        "summary(model)"
      ],
      "id": "56081a92-0ec8-4599-b007-2bc0b5fb7925"
    },
    {
      "cell_type": "markdown",
      "metadata": {},
      "source": [
        "$y = 109.8738 -1.1270 x$"
      ],
      "id": "fd91cd1f-0e7e-41a9-b652-1d7a58be54f3"
    },
    {
      "cell_type": "code",
      "execution_count": 49,
      "metadata": {},
      "outputs": [
        {
          "output_type": "display_data",
          "metadata": {},
          "data": {
            "image/png": "[encoded data removed]"
          }
        }
      ],
      "source": [
        "plot(df$x,df$y)\n",
        "abline(model, col='steelblue', lwd=2)"
      ],
      "id": "e4c8f11c-883c-4d8c-8fdd-1ff361861fb6"
    },
    {
      "cell_type": "code",
      "execution_count": 51,
      "metadata": {},
      "outputs": [
        {
          "output_type": "display_data",
          "metadata": {},
          "data": {}
        }
      ],
      "source": [
        "anova(model)"
      ],
      "id": "70600135-786d-47b3-9c07-cff0f8cf48d1"
    },
    {
      "cell_type": "code",
      "execution_count": 52,
      "metadata": {},
      "outputs": [
        {
          "output_type": "display_data",
          "metadata": {},
          "data": {
            "text/html": [
              "4.3807496923318"
            ]
          }
        }
      ],
      "source": [
        "qf(0.95,1,19)"
      ],
      "id": "64165c32-2ce4-487b-a3ce-bd2f95fb877c"
    },
    {
      "cell_type": "markdown",
      "metadata": {},
      "source": [
        "$F_0 = 13.20 > F_{0.05}(1,19) = 4.38$, 회귀직선은 유의하다\n",
        "\n",
        "$\\sigma^2 \\sim MSE$"
      ],
      "id": "31ee923d-33c1-476d-b0a9-93ae9e41328f"
    },
    {
      "cell_type": "code",
      "execution_count": 83,
      "metadata": {},
      "outputs": [],
      "source": [
        "MSE = 121.505"
      ],
      "id": "def777e5-252c-4b39-94a9-f4ff22b6c6ea"
    },
    {
      "cell_type": "code",
      "execution_count": 84,
      "metadata": {},
      "outputs": [
        {
          "output_type": "display_data",
          "metadata": {},
          "data": {
            "text/html": [
              "11.0229306447968"
            ]
          }
        }
      ],
      "source": [
        "sqrt(MSE)"
      ],
      "id": "81329d18-98e0-4b66-85a6-7dcc9df0aad1"
    },
    {
      "cell_type": "markdown",
      "metadata": {},
      "source": [
        "손계산"
      ],
      "id": "26366fef-2127-4fc0-ab26-fe7dacff8a5f"
    },
    {
      "cell_type": "code",
      "execution_count": 91,
      "metadata": {},
      "outputs": [],
      "source": [
        "res = df$y - (109.874 - 1.127*df$x)"
      ],
      "id": "dcb60703-7b5a-4958-842e-f7be070caa23"
    },
    {
      "cell_type": "code",
      "execution_count": 94,
      "metadata": {},
      "outputs": [],
      "source": [
        "h = 1/21 + (df$x - mean(df$x))^2/(1604.08)"
      ],
      "id": "a73ca929-a23d-4d27-a911-fe79c9f8435e"
    },
    {
      "cell_type": "code",
      "execution_count": 97,
      "metadata": {},
      "outputs": [],
      "source": [
        "ri = res/(sqrt(MSE)*sqrt(1-h))"
      ],
      "id": "f5cd56dd-844e-44a2-9524-89311177ebcc"
    },
    {
      "cell_type": "code",
      "execution_count": 98,
      "metadata": {},
      "outputs": [],
      "source": [
        "ri2 = res/(((19*sqrt(MSE) - res^2/(1-h))/18)*sqrt(1-h))"
      ],
      "id": "51f50cc8-6b72-4fb8-a99b-c5ff10611024"
    },
    {
      "cell_type": "code",
      "execution_count": 102,
      "metadata": {},
      "outputs": [
        {
          "output_type": "display_data",
          "metadata": {},
          "data": {
            "text/html": [
              "<style>\n",
              ".dl-inline {width: auto; margin:0; padding: 0}\n",
              ".dl-inline>dt, .dl-inline>dd {float: none; width: auto; display: inline-block}\n",
              ".dl-inline>dt::after {content: \":\\0020\"; padding-right: .5ex}\n",
              ".dl-inline>dt:not(:first-of-type) {padding-left: .5ex}\n",
              "</style><dl class=dl-inline><dt>1</dt><dd>0.183968493379394</dd><dt>2</dt><dd>-0.941583351378201</dd><dt>3</dt><dd>-1.51081192291799</dd><dt>4</dt><dd>-0.814263363159438</dd><dt>5</dt><dd>0.832862917520795</dd><dt>6</dt><dd>-0.030631827537088</dd><dt>7</dt><dd>0.311246764732158</dd><dt>8</dt><dd>0.229715749649931</dd><dt>9</dt><dd>0.289910136925676</dd><dt>10</dt><dd>0.617660260595883</dd><dt>11</dt><dd>1.05084716358865</dd><dt>12</dt><dd>-0.342831483529281</dd><dt>13</dt><dd>-1.51081192291799</dd><dt>14</dt><dd>-1.27977575448039</dd><dt>15</dt><dd>0.413153195694502</dd><dt>16</dt><dd>0.127393415386012</dd><dt>17</dt><dd>0.798281144415116</dd><dt>18</dt><dd>-0.845110861537551</dd><dt>19</dt><dd>3.60697972130439</dd><dt>20</dt><dd>-1.07648107628971</dd><dt>21</dt><dd>0.127393415386012</dd></dl>"
            ]
          }
        }
      ],
      "source": [
        "rstudent(model)"
      ],
      "id": "aaf565fc-a994-4f63-9b8e-204b9816df77"
    },
    {
      "cell_type": "code",
      "execution_count": 103,
      "metadata": {},
      "outputs": [
        {
          "output_type": "display_data",
          "metadata": {},
          "data": {
            "text/html": [
              "<strong>19:</strong> 3.60697972130439"
            ]
          }
        }
      ],
      "source": [
        "rstudent(model)[abs(rstudent(model))>qt(0.975,258)]"
      ],
      "id": "392ede7f-2c4d-4fc6-9322-d96590c089b1"
    },
    {
      "cell_type": "code",
      "execution_count": 101,
      "metadata": {},
      "outputs": [
        {
          "output_type": "display_data",
          "metadata": {},
          "data": {}
        }
      ],
      "source": [
        "round(data.frame(rep(1:21),res,h,ri,ri2),4)"
      ],
      "id": "8b075d89-7f24-482f-9e0b-fffaa0000541"
    },
    {
      "cell_type": "markdown",
      "metadata": {},
      "source": [
        "$2\\bar{h}$"
      ],
      "id": "8183c13d-bd26-4e60-8d01-1a830b46c599"
    },
    {
      "cell_type": "code",
      "execution_count": 85,
      "metadata": {},
      "outputs": [
        {
          "output_type": "display_data",
          "metadata": {},
          "data": {
            "text/html": [
              "0.19047619047619"
            ]
          }
        }
      ],
      "source": [
        "2*(2/21)"
      ],
      "id": "4afb8d05-8870-4a7f-ab7c-bdcfbc3ccdee"
    },
    {
      "cell_type": "markdown",
      "metadata": {},
      "source": [
        "18번째가 2hbar 보다 크니까 지렛대점"
      ],
      "id": "ce9c5607-4cbd-4a25-9de4-1c1515d0f46c"
    },
    {
      "cell_type": "code",
      "execution_count": 86,
      "metadata": {},
      "outputs": [
        {
          "output_type": "display_data",
          "metadata": {},
          "data": {
            "text/html": [
              "2.10092204024104"
            ]
          }
        }
      ],
      "source": [
        "qt(0.975,18)"
      ],
      "id": "d5da82e5-fc0b-4c4a-b513-5d5956ab8333"
    },
    {
      "cell_type": "markdown",
      "metadata": {},
      "source": [
        "19번째가 ri2 t보다 크니까 이상점"
      ],
      "id": "3e2481d5-e745-47ba-9ed5-e522eb2ad123"
    },
    {
      "cell_type": "code",
      "execution_count": 105,
      "metadata": {},
      "outputs": [
        {
          "output_type": "stream",
          "name": "stdout",
          "text": [
            "Potentially influential observations of\n",
            "     lm(formula = y ~ x, data = df) :\n",
            "\n",
            "   dfb.1_ dfb.x   dffit   cov.r   cook.d hat    \n",
            "18  0.83  -1.11_* -1.16_*  2.96_*  0.68   0.65_*\n",
            "19  0.14   0.27    0.85    0.40_*  0.22   0.05  "
          ]
        }
      ],
      "source": [
        "summary(influence.measures( model))"
      ],
      "id": "3532308e-1a11-47d3-a188-9b5536178871"
    },
    {
      "cell_type": "markdown",
      "metadata": {},
      "source": [
        "### 영향점(influential observation)\n",
        "\n",
        "#### DIFFITS\n",
        "\n",
        "$DIFFITS(i) = (\\frac{h_{ii}}{10h_{ii}})^{1/2} r^{*}_i$\n",
        "\n",
        "$DIFFITS(i) \\ge 2(\\frac{p+1}{n})^{1/2}$ 이 되는 i번째 관측칠가\n",
        "영향점이라고 말함\n",
        "\n",
        "#### Cook의 통계량\n",
        "\n",
        "$D(i) = \\frac{r^2_i}{p+1} \\frac{h_{ii}}{1-h_{ii}}$\n",
        "\n",
        "대략적으로 $D(i) \\ge F_{0.5}(p+1,n-p-1)$이면 영향을 크게 주는 측정값으로\n",
        "의심\n",
        "\n",
        "h"
      ],
      "id": "d3ed5ac8-15b9-4435-9856-025be691548e"
    },
    {
      "cell_type": "code",
      "execution_count": 107,
      "metadata": {},
      "outputs": [
        {
          "output_type": "display_data",
          "metadata": {},
          "data": {
            "text/html": [
              "<style>\n",
              ".dl-inline {width: auto; margin:0; padding: 0}\n",
              ".dl-inline>dt, .dl-inline>dd {float: none; width: auto; display: inline-block}\n",
              ".dl-inline>dt::after {content: \":\\0020\"; padding-right: .5ex}\n",
              ".dl-inline>dt:not(:first-of-type) {padding-left: .5ex}\n",
              "</style><dl class=dl-inline><dt>1</dt><dd>0.0479224794510218</dd><dt>2</dt><dd>0.154513234296056</dd><dt>3</dt><dd>0.0628157755825353</dd><dt>4</dt><dd>0.0705452077520549</dd><dt>5</dt><dd>0.0479224794510218</dd><dt>6</dt><dd>0.0726189578463163</dd><dt>7</dt><dd>0.0579895935449815</dd><dt>8</dt><dd>0.0566699343940879</dd><dt>9</dt><dd>0.0798582309026469</dd><dt>10</dt><dd>0.0726189578463163</dd><dt>11</dt><dd>0.0907548450343111</dd><dt>12</dt><dd>0.0705452077520549</dd><dt>13</dt><dd>0.0628157755825353</dd><dt>14</dt><dd>0.0566699343940879</dd><dt>15</dt><dd>0.0566699343940879</dd><dt>16</dt><dd>0.0628157755825353</dd><dt>17</dt><dd>0.0521076841867129</dd><dt>18</dt><dd>0.65160998416409</dd><dt>19</dt><dd>0.0530502978659226</dd><dt>20</dt><dd>0.0566699343940879</dd><dt>21</dt><dd>0.0628157755825353</dd></dl>"
            ]
          }
        }
      ],
      "source": [
        "hatvalues(model)"
      ],
      "id": "da6a94d0-10e1-4b5b-8f5b-e9ad05037816"
    },
    {
      "cell_type": "markdown",
      "metadata": {},
      "source": [
        "diffits"
      ],
      "id": "b770abef-299c-4964-b092-31dea3618c47"
    },
    {
      "cell_type": "code",
      "execution_count": 108,
      "metadata": {},
      "outputs": [
        {
          "output_type": "display_data",
          "metadata": {},
          "data": {
            "text/html": [
              "<style>\n",
              ".dl-inline {width: auto; margin:0; padding: 0}\n",
              ".dl-inline>dt, .dl-inline>dd {float: none; width: auto; display: inline-block}\n",
              ".dl-inline>dt::after {content: \":\\0020\"; padding-right: .5ex}\n",
              ".dl-inline>dt:not(:first-of-type) {padding-left: .5ex}\n",
              "</style><dl class=dl-inline><dt>1</dt><dd>0.0412740357514056</dd><dt>2</dt><dd>-0.402520687302525</dd><dt>3</dt><dd>-0.391140045474215</dd><dt>4</dt><dd>-0.224328533660804</dd><dt>5</dt><dd>0.186855983882421</dd><dt>6</dt><dd>-0.00857173640678122</dd><dt>7</dt><dd>0.0772239528389379</dd><dt>8</dt><dd>0.0563034865220476</dd><dt>9</dt><dd>0.085407472693718</dd><dt>10</dt><dd>0.172840518129759</dd><dt>11</dt><dd>0.331996853994253</dd><dt>12</dt><dd>-0.0944496430423618</dd><dt>13</dt><dd>-0.391140045474215</dd><dt>14</dt><dd>-0.313673908094842</dd><dt>15</dt><dd>0.101264129345836</dd><dt>16</dt><dd>0.0329813827461469</dd><dt>17</dt><dd>0.187166128054405</dd><dt>18</dt><dd>-1.15577873097521</dd><dt>19</dt><dd>0.853737107130766</dd><dt>20</dt><dd>-0.263846244162542</dd><dt>21</dt><dd>0.0329813827461469</dd></dl>"
            ]
          }
        }
      ],
      "source": [
        "dffits(model)"
      ],
      "id": "15522868-0de2-4093-a854-7ce62ea3c5b1"
    },
    {
      "cell_type": "markdown",
      "metadata": {},
      "source": [
        "cooksdistance, D"
      ],
      "id": "95200f7c-04d8-4b60-85f2-97572d3175f6"
    },
    {
      "cell_type": "code",
      "execution_count": 109,
      "metadata": {},
      "outputs": [
        {
          "output_type": "display_data",
          "metadata": {},
          "data": {
            "text/html": [
              "<style>\n",
              ".dl-inline {width: auto; margin:0; padding: 0}\n",
              ".dl-inline>dt, .dl-inline>dd {float: none; width: auto; display: inline-block}\n",
              ".dl-inline>dt::after {content: \":\\0020\"; padding-right: .5ex}\n",
              ".dl-inline>dt:not(:first-of-type) {padding-left: .5ex}\n",
              "</style><dl class=dl-inline><dt>1</dt><dd>0.000897406392870691</dd><dt>2</dt><dd>0.0814979551507635</dd><dt>3</dt><dd>0.0716581442213833</dd><dt>4</dt><dd>0.0256159582452641</dd><dt>5</dt><dd>0.0177436626335013</dd><dt>6</dt><dd>3.87762740910137e-05</dd><dt>7</dt><dd>0.0031305748029949</dd><dt>8</dt><dd>0.00166820857813469</dd><dt>9</dt><dd>0.00383194880672965</dd><dt>10</dt><dd>0.0154395158127621</dd><dt>11</dt><dd>0.0548101351203612</dd><dt>12</dt><dd>0.00467762256482442</dd><dt>13</dt><dd>0.0716581442213833</dd><dt>14</dt><dd>0.0475978118328145</dd><dt>15</dt><dd>0.00536121617564154</dd><dt>16</dt><dd>0.000573584529113046</dd><dt>17</dt><dd>0.017856495213809</dd><dt>18</dt><dd>0.678112028575845</dd><dt>19</dt><dd>0.223288273631179</dd><dt>20</dt><dd>0.0345188940892692</dd><dt>21</dt><dd>0.000573584529113046</dd></dl>"
            ]
          }
        }
      ],
      "source": [
        "cooks.distance(model)"
      ],
      "id": "992f41e5-2c89-4b35-89c6-e22d1fa77736"
    },
    {
      "cell_type": "markdown",
      "metadata": {},
      "source": [
        "COVRATIO"
      ],
      "id": "c048c171-79f0-4532-b927-cf9e80c38bf6"
    },
    {
      "cell_type": "code",
      "execution_count": 110,
      "metadata": {},
      "outputs": [
        {
          "output_type": "display_data",
          "metadata": {},
          "data": {
            "text/html": [
              "<style>\n",
              ".dl-inline {width: auto; margin:0; padding: 0}\n",
              ".dl-inline>dt, .dl-inline>dd {float: none; width: auto; display: inline-block}\n",
              ".dl-inline>dt::after {content: \":\\0020\"; padding-right: .5ex}\n",
              ".dl-inline>dt:not(:first-of-type) {padding-left: .5ex}\n",
              "</style><dl class=dl-inline><dt>1</dt><dd>1.16589181683219</dd><dt>2</dt><dd>1.19699897676296</dd><dt>3</dt><dd>0.936347397341839</dd><dt>4</dt><dd>1.11510268993929</dd><dt>5</dt><dd>1.08504108257728</dd><dt>6</dt><dd>1.20131998275497</dd><dt>7</dt><dd>1.17015757898673</dd><dt>8</dt><dd>1.17423726760803</dd><dt>9</dt><dd>1.19966823450598</dd><dt>10</dt><dd>1.15209128858604</dd><dt>11</dt><dd>1.08783960928084</dd><dt>12</dt><dd>1.18326164825873</dd><dt>13</dt><dd>0.936347397341839</dd><dt>14</dt><dd>0.992331347870996</dd><dt>15</dt><dd>1.15904532932769</dd><dt>16</dt><dd>1.18673688685713</dd><dt>17</dt><dd>1.09643883044992</dd><dt>18</dt><dd>2.95868271380702</dd><dt>19</dt><dd>0.396431612340971</dd><dt>20</dt><dd>1.04257281407241</dd><dt>21</dt><dd>1.18673688685713</dd></dl>"
            ]
          }
        }
      ],
      "source": [
        "covratio(model) "
      ],
      "id": "a1d73abc-cab2-489e-ba94-8d107464eb3c"
    },
    {
      "cell_type": "code",
      "execution_count": 106,
      "metadata": {},
      "outputs": [
        {
          "output_type": "display_data",
          "metadata": {},
          "data": {
            "text/plain": [
              "Influence measures of\n",
              "     lm(formula = y ~ x, data = df) :\n",
              "\n",
              "     dfb.1_    dfb.x    dffit cov.r   cook.d    hat inf\n",
              "1   0.01664  0.00328  0.04127 1.166 8.97e-04 0.0479    \n",
              "2   0.18862 -0.33480 -0.40252 1.197 8.15e-02 0.1545    \n",
              "3  -0.33098  0.19239 -0.39114 0.936 7.17e-02 0.0628    \n",
              "4  -0.20004  0.12788 -0.22433 1.115 2.56e-02 0.0705    \n",
              "5   0.07532  0.01487  0.18686 1.085 1.77e-02 0.0479    \n",
              "6   0.00113 -0.00503 -0.00857 1.201 3.88e-05 0.0726    \n",
              "7   0.00447  0.03266  0.07722 1.170 3.13e-03 0.0580    \n",
              "8   0.04430 -0.02250  0.05630 1.174 1.67e-03 0.0567    \n",
              "9   0.07907 -0.05427  0.08541 1.200 3.83e-03 0.0799    \n",
              "10 -0.02283  0.10141  0.17284 1.152 1.54e-02 0.0726    \n",
              "11  0.31560 -0.22889  0.33200 1.088 5.48e-02 0.0908    \n",
              "12 -0.08422  0.05384 -0.09445 1.183 4.68e-03 0.0705    \n",
              "13 -0.33098  0.19239 -0.39114 0.936 7.17e-02 0.0628    \n",
              "14 -0.24681  0.12536 -0.31367 0.992 4.76e-02 0.0567    \n",
              "15  0.07968 -0.04047  0.10126 1.159 5.36e-03 0.0567    \n",
              "16  0.02791 -0.01622  0.03298 1.187 5.74e-04 0.0628    \n",
              "17  0.13328 -0.05493  0.18717 1.096 1.79e-02 0.0521    \n",
              "18  0.83112 -1.11275 -1.15578 2.959 6.78e-01 0.6516   *\n",
              "19  0.14348  0.27317  0.85374 0.396 2.23e-01 0.0531   *\n",
              "20 -0.20761  0.10544 -0.26385 1.043 3.45e-02 0.0567    \n",
              "21  0.02791 -0.01622  0.03298 1.187 5.74e-04 0.0628    "
            ]
          }
        }
      ],
      "source": [
        "influence.measures( model)"
      ],
      "id": "0eb7aa34-4e7a-4cec-b8ac-187d098517ee"
    }
  ],
  "nbformat": 4,
  "nbformat_minor": 5,
  "metadata": {
    "kernelspec": {
      "name": "ir",
      "display_name": "R",
      "language": "R"
    },
    "language_info": {
      "name": "R",
      "codemirror_mode": "r",
      "file_extension": ".r",
      "mimetype": "text/x-r-source",
      "pygments_lexer": "r",
      "version": "4.1.2"
    }
  }
}