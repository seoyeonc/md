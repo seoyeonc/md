{
 "cells": [
  {
   "cell_type": "raw",
   "id": "a2a15948-087d-4b1f-9c17-7f02fdffc099",
   "metadata": {
    "id": "cac470df-29e7-4148-9bbd-d8b9a32fa570",
    "tags": []
   },
   "source": [
    "---\n",
    "title: \"Advanced Regression Analysis GT\"\n",
    "author: \"SEOYEON CHOI\"\n",
    "date: \"2023-03-03\"\n",
    "categories:\n",
    "  - Advanced Regression Analysis\n",
    "---"
   ]
  },
  {
   "cell_type": "markdown",
   "id": "7499e294-e7ac-434c-b2e2-40f52ee786cf",
   "metadata": {},
   "source": [
    "> GT"
   ]
  },
  {
   "cell_type": "markdown",
   "id": "3ad1de5e-73c1-4c93-aeeb-cbfc556f89a8",
   "metadata": {},
   "source": [
    "# 1."
   ]
  },
  {
   "cell_type": "markdown",
   "id": "c4434853-f8e7-43b5-9e2e-d15e17a6583e",
   "metadata": {},
   "source": [
    "원점을 지나는 회귀모형은 다음과 같이 정의할 수 있다.\n",
    "\n",
    "$$y_i = \\beta x_i + \\epsilon_i, \\epsilon_i \\sim_{i.i.d.} n(0,\\sigma^2), i=1,\\dots, n$$"
   ]
  },
  {
   "cell_type": "markdown",
   "id": "d2654f5e-8c1d-4ec6-b1a1-596667b2e5f1",
   "metadata": {},
   "source": [
    "## (1)"
   ]
  },
  {
   "cell_type": "markdown",
   "id": "f9725992-1768-4f69-bd30-573ca281bd9a",
   "metadata": {},
   "source": [
    "$\\beta$에 대한 최소제곱추정량($LSE$) $\\hat{\\beta}$을 구하시오"
   ]
  },
  {
   "cell_type": "markdown",
   "id": "15b2af65-32e1-43d5-b8bc-b7650212ecc7",
   "metadata": {},
   "source": [
    "**answer**"
   ]
  },
  {
   "cell_type": "markdown",
   "id": "b38db26c-289d-4670-a7f5-968d9f68da58",
   "metadata": {},
   "source": [
    "$\\hat{\\beta} = argmin_{\\beta \\in R} S = \\sum^n_{i=1} (y_i - \\beta x_i)^2 \\to \\frac{\\partial S}{\\partial \\beta}|_{\\beta = \\hat{\\beta}} = 0$\n",
    "\n",
    "$\\frac{\\partial S}{\\partial \\beta} = \\sum^n_{i=1} (-2x_i)(y_i - \\beta x_i) \\to \\sum^n_{i=1} x_i(y_i - \\hat{\\beta}x_i) = 0 \\to \\hat{\\beta} = \\frac{\\sum^n_{i=1} x_iy_i}{\\sum^n_{i=1} x^2_i}$"
   ]
  },
  {
   "cell_type": "markdown",
   "id": "b5173001-3c9e-49c5-b6f9-834d6620ebb6",
   "metadata": {},
   "source": [
    "## (2)"
   ]
  },
  {
   "cell_type": "markdown",
   "id": "543ad0a5-7474-48ac-9963-6d0388e93959",
   "metadata": {},
   "source": [
    "$E(\\hat{\\beta})$을 구하시오"
   ]
  },
  {
   "cell_type": "markdown",
   "id": "9abdb357-1fcf-434f-9f82-73eba47fcc42",
   "metadata": {},
   "source": [
    "**answer**"
   ]
  },
  {
   "cell_type": "markdown",
   "id": "122891ee-fc4f-4802-8a77-85dbdeb48f81",
   "metadata": {},
   "source": [
    "$\\hat{\\beta} = \\frac{\\sum^n_{i=1} x_i y_i}{\\sum^n_{i=1} x^2_i} = \\sum^n_{i=1} \\frac{x_i}{\\sum^n_{j=1} s^2_j} y_i$\n",
    "\n",
    "$\\to E(\\hat{\\beta})= \\sum^n_{i=1} \\frac{x_i}{\\sum^n_{i=1} x^2_j} E(y_i) = \\sum^n_{i=1}\\frac{x_i}{\\sum^n_{j=1} x^2_j} \\beta x_i = \\beta\\frac{\\sum^n_{i=1} x^2_{i=1} x^2_i}{\\sum^n_{i=1} x^2_i} = \\beta$"
   ]
  },
  {
   "cell_type": "markdown",
   "id": "813706eb-1eaa-4f6a-9280-788f8157097a",
   "metadata": {},
   "source": [
    "## (3)"
   ]
  },
  {
   "cell_type": "markdown",
   "id": "82c56b46-39c8-4437-8d91-89211fbc0ec3",
   "metadata": {},
   "source": [
    "$Var(\\hat{\\beta})$을 구하시오"
   ]
  },
  {
   "cell_type": "markdown",
   "id": "3abc547c-bb8d-41b9-b136-fd7f548c9d6c",
   "metadata": {},
   "source": [
    "**answer**"
   ]
  },
  {
   "cell_type": "markdown",
   "id": "0909c18a-8a15-415d-ac55-33b12f1a3765",
   "metadata": {},
   "source": [
    "$Var(\\hat{\\beta}) = \\sum^n_{i=1} \\frac{x^2_i}{(\\sum^n_{j=1} x^2_j)^2} Var(y_i) = \\sum^n_{i=1} \\frac{x^2_i}{(\\sum^n_{j=1} x^2_j)^2} \\sigma^2 = \\sigma^2 \\frac{\\sum^n_{i=1} x^2_i}{(\\sum^n_{i=1} x^2_i)^2} = \\frac{\\sigma^2}{\\sum^n_{i=1} x^2_i}$"
   ]
  },
  {
   "cell_type": "markdown",
   "id": "89a38107-76df-4714-b6e7-5641c28ebf86",
   "metadata": {},
   "source": [
    "# 2."
   ]
  },
  {
   "cell_type": "markdown",
   "id": "d04f1d71-67cc-458d-b02a-57b672d256cd",
   "metadata": {},
   "source": [
    "중회귀모형 $y = X\\beta + \\epsilon, \\epsilon \\sim N(0_n, I\\sigma^2)$에서 $X$가 $n \\times (p+1)$ 행렬이고, $rank$가 $p+1$ 이라면 적합된 모형 $\\hat{y} = X \\hat{\\beta}$에 대하여 다음을 증명하여라. 단, $\\mathbf{e} = \\mathbf{y} - \\mathbf{\\hat{y}}$"
   ]
  },
  {
   "cell_type": "markdown",
   "id": "cd822a0d-81b6-4c5f-8886-636c05c930ba",
   "metadata": {},
   "source": [
    "## (1)"
   ]
  },
  {
   "cell_type": "markdown",
   "id": "eb9c56fc-d909-4df3-939a-d17a31491e4a",
   "metadata": {},
   "source": [
    "$\\sum^n_{j=1} Var(\\hat{y}_j) = (p+1) \\sigma^2$"
   ]
  },
  {
   "cell_type": "markdown",
   "id": "c20c0e4a-bd6f-4fdd-bf96-d5bb5165efc8",
   "metadata": {},
   "source": [
    "**answer**"
   ]
  },
  {
   "cell_type": "markdown",
   "id": "a8b063fb-967d-40a6-952c-17d9b9c5c453",
   "metadata": {},
   "source": [
    "$\\hat{\\bf{y}}= X\\hat{\\beta} = X(X^\\top X)^{-1} X^\\top y = Hy$\n",
    "\n",
    "$Var(X\\hat{\\beta}) = XVar(\\hat{\\beta})X^\\top$\n",
    "\n",
    "$Var(\\hat{\\beta}) = Var((X^\\top X)^{-1} X^\\top y) = (X^\\top X)^{-1} X^\\top Var(y)X(X^\\top X)^{-1} = (X^\\top X)^{-1} X^\\top X(X^\\top X)^{-1} \\sigma^2 = (X^\\top X )^{-1} \\sigma^2$\n",
    "\n",
    "$Var(\\hat{y}) = Var(X\\hat{\\beta}) = X(X^\\top X)^{-1} X^\\top \\sigma^2$\n",
    "\n",
    "$\\to Var(\\hat{y}) = HVar(y) H^\\top = HH\\sigma^2 = H\\sigma^2$\n",
    "\n",
    "$\\star H^\\top = H, H^2 = H, Var(y) = I_n \\sigma^2$\n",
    "\n",
    "$\\sum^{n}_{j=1} Var(\\hat{y}_j) = tr(Var(\\hat{y})) = tr(H\\sigma^2) = \\sigma^2 tr(H) = tr((X^\\top X)^{-1} X^\\top X)\\sigma^2 = tr(I_{p+1})\\sigma^2 = (p+1)\\sigma^2$\n",
    "\n",
    "$\\star tr(X (X^\\top X)^{-1} X^\\top)$"
   ]
  },
  {
   "cell_type": "markdown",
   "id": "53a16645-2c1c-4c30-938b-550414d6d4ff",
   "metadata": {},
   "source": [
    "## (2)"
   ]
  },
  {
   "cell_type": "markdown",
   "id": "7aab6d5f-0ebe-4cc7-a10e-c0c27187eb46",
   "metadata": {},
   "source": [
    "$Cov(\\mathbf{e,y}) = \\sigma^2[I_n - X(X^\\top X)^{-1} X^\\top]$"
   ]
  },
  {
   "cell_type": "markdown",
   "id": "5e23d77c-8aa1-47b4-bffa-1cbd65757e22",
   "metadata": {},
   "source": [
    "**answer**"
   ]
  },
  {
   "cell_type": "markdown",
   "id": "6ba06338-e258-458f-85c6-12db820731fe",
   "metadata": {},
   "source": [
    "$\\bf{e} = y - \\hat{y} = y - Hy = (I-H)y$\n",
    "\n",
    "$Cov(\\bf{e},y) = Cov((I-H)y,y) = (I-H)Var(y) = (I-H) \\sigma^2$\n",
    "\n",
    "$\\star Cov(Ax,y) = A Cov(X,Y)$\n",
    "\n",
    "$\\star Var(y) = \\sigma^2$"
   ]
  },
  {
   "cell_type": "markdown",
   "id": "4b36175d-082f-45a3-a12a-808bd9a20176",
   "metadata": {},
   "source": [
    "## (3)"
   ]
  },
  {
   "cell_type": "markdown",
   "id": "29f99eb7-90bd-4df7-869c-660ca23a4510",
   "metadata": {},
   "source": [
    "$Cov(\\mathbf{e,\\hat{y}}) = O_n$"
   ]
  },
  {
   "cell_type": "markdown",
   "id": "9a8fd1ca-ab85-4469-91e6-1db7f029c83e",
   "metadata": {},
   "source": [
    "**answer**"
   ]
  },
  {
   "cell_type": "markdown",
   "id": "e5ecfa5f-588a-41b4-a6f5-8ee8d38d3d76",
   "metadata": {},
   "source": [
    "$Cov(e(I - H)\\bf{y},Hy) = (I-H) Cov(y,y)H^\\top = (I-H)H\\sigma^2 = \\mathbb{O}_n \\sigma^2$\n",
    "\n",
    "$\\star Cov(Ax,By) = ACov(X,Y)B^\\top$\n",
    "\n",
    "$\\star H^\\top= H$\n",
    "\n",
    "$\\star H^2 = H$"
   ]
  },
  {
   "cell_type": "markdown",
   "id": "13564a2f-b0e3-4965-b202-cc64a9264fee",
   "metadata": {},
   "source": [
    "## (4)"
   ]
  },
  {
   "cell_type": "markdown",
   "id": "2ab8eedf-74f6-4f9f-abca-842a8f8ef4d7",
   "metadata": {},
   "source": [
    "$Cov(\\mathbf{e,\\hat{\\beta}}) = O_{n \\times (p+1)}$"
   ]
  },
  {
   "cell_type": "markdown",
   "id": "79565cb2-e840-43a2-a7e3-7ffcf90a2c3d",
   "metadata": {},
   "source": [
    "**answer**"
   ]
  },
  {
   "cell_type": "markdown",
   "id": "51b591eb-3d07-4d1d-824e-882705375fcc",
   "metadata": {},
   "source": [
    "$Cov((I-H)\\bf{y},(X^\\top X)^{-1} y) = (I-H) Cov(y,y) X (X^\\top X)^{-1} = (I - X(X^\\top X)^{-1} X^\\top ) X (X^\\top X)^{-1} \\sigma^2 = \\{ X(X^\\top X)^{-1} - X(X^\\top X)^{-1} \\} \\sigma^2 = \\mathbb{O}_{n \\times ([+1)}$"
   ]
  },
  {
   "cell_type": "markdown",
   "id": "049864c5-8bd2-4e3a-957c-2f93274269d3",
   "metadata": {},
   "source": [
    "## (5)"
   ]
  },
  {
   "cell_type": "markdown",
   "id": "dac59b85-3058-4e9b-a98d-0f8240ccc6b0",
   "metadata": {},
   "source": [
    "$Cov(\\mathbf{\\epsilon, \\hat{\\beta}}) = \\sigma^2 X(X^\\top X)^{-1}$"
   ]
  },
  {
   "cell_type": "markdown",
   "id": "6a198440-9673-4f9f-a3e3-a33e97d62af0",
   "metadata": {},
   "source": [
    "**answer**"
   ]
  },
  {
   "cell_type": "markdown",
   "id": "57d7edd8-7b68-442f-85c0-95530b21a181",
   "metadata": {},
   "source": [
    "$\\bf{\\hat{\\beta}} = (X^\\top X)^{-1} X^\\top y = (X^\\top X)^{-1} X^\\top (X\\beta + \\epsilon) = \\beta + (X^\\top X)^{-1} X^\\top \\epsilon$\n",
    "\n",
    "$Cov(\\bf{\\epsilon} , \\beta + (X^\\top X)^{-1} X^\\top \\epsilon ) = Cov(\\epsilon, \\beta) + Cov(\\epsilon, \\epsilon)X(X^\\top X)^{-1} = \\sigma^2 X(X^\\top X)^{-1}$\n",
    "\n",
    "$\\star Cov(\\epsilon, \\beta) = 0$\n",
    "\n",
    "$\\star Cov(\\epsilon, \\epsilon) = I_n \\sigma^2$"
   ]
  },
  {
   "cell_type": "markdown",
   "id": "62b051ba-0518-4846-b5be-c17aa6f7f6f1",
   "metadata": {},
   "source": [
    "## (6)"
   ]
  },
  {
   "cell_type": "markdown",
   "id": "499aace7-20e4-46c6-a402-a0f9aba51c0e",
   "metadata": {},
   "source": [
    "$\\mathbf{e^\\top y} = SSE$"
   ]
  },
  {
   "cell_type": "markdown",
   "id": "f6cb20f7-b7bf-489a-b541-e0eebdbb3eb5",
   "metadata": {},
   "source": [
    "**answer**"
   ]
  },
  {
   "cell_type": "markdown",
   "id": "07e3df8e-6d97-455d-b5bd-5e609e8f396d",
   "metadata": {},
   "source": [
    "$\\sum^{n}_{j=1} e_j y_j = \\bf{e^\\top y} = \\{ (I - H)y\\}^\\top y = y^\\top (I-H)y$\n",
    "\n",
    "$\\star \\bf{e}^\\top (e_1, \\dots , e_n) = (y-\\hat{y})^\\top$\n",
    "\n",
    "$\\star \\bf{y}^\\top  = (y_1 , \\dots , y_n)$\n",
    "\n",
    "$SSE = \\sum^n_{j=1} (y_i - \\hat{y}_j)^2 = (\\bf{y} - \\hat{y} ) ^\\top ( y - \\hat{y} ) = e^\\top e = \\{ (I - H)y \\}^\\top \\{ (I - H)y \\} = y^\\top (I - H) (I-H)y = y^\\top (I - H)y$\n",
    "\n",
    "$\\star I - H_H+H^2 = I-H, H^2 = H$\n",
    "\n",
    "$\\therefore \\sum^{n}_{j=1} e_j y_j = SSE$"
   ]
  },
  {
   "cell_type": "markdown",
   "id": "57916eab-c725-4e32-83a3-65067a8b4126",
   "metadata": {},
   "source": [
    "## (7)"
   ]
  },
  {
   "cell_type": "markdown",
   "id": "b83b97ae-ab64-414b-9466-a0ceee8c88a1",
   "metadata": {},
   "source": [
    "$\\mathbf{e^\\top \\hat{y}}=0$"
   ]
  },
  {
   "cell_type": "markdown",
   "id": "e9493927-5400-4b64-9909-21c75ebcb64d",
   "metadata": {},
   "source": [
    "**answer**"
   ]
  },
  {
   "cell_type": "markdown",
   "id": "e42b712f-f0a3-491f-bde9-55a7d42ccf71",
   "metadata": {},
   "source": [
    "$\\sum^{n}_{j=1} \\bf{e_j \\hat{y}_j} = e^\\top \\hat{y} = y^\\top (I-H) Hy = y^\\top_{1\\times n} \\mathbb{O}_{n\\times n} y_{n \\times 1} = 0$\n",
    "\n",
    "$\\star H - H^2 = H - H = \\mathbb{O}_{n \\times n}$"
   ]
  },
  {
   "cell_type": "markdown",
   "id": "b190c417-8e78-4bd3-ba31-c64194a81f4d",
   "metadata": {},
   "source": [
    "## (8)"
   ]
  },
  {
   "cell_type": "markdown",
   "id": "392d4f6a-6222-4f46-9369-acd21943fcf9",
   "metadata": {},
   "source": [
    "$E(\\frac{SSE}{n-p-1}) = \\sigma^2$"
   ]
  },
  {
   "cell_type": "markdown",
   "id": "5f1c9af2-3ff9-4b77-bf92-8d6e409b2e36",
   "metadata": {},
   "source": [
    "**answer**"
   ]
  },
  {
   "cell_type": "markdown",
   "id": "4c5ab63a-cb29-4829-886a-122b9dec7aa2",
   "metadata": {},
   "source": [
    "정리 5.1\n",
    "\n",
    "$y \\sim N(\\mu,V)$ 이면\n",
    "\n",
    "$E(y^\\top A y) = tr(AV) + \\mu^\\top A \\mu, cov(y,y^\\top A y) = 2VA\\mu$\n",
    "\n",
    "$\\frac{SSE}{\\sigma^2} = y^\\top \\frac{1}{\\sigma^2}(I-H)y$\n",
    "\n",
    "$B = \\frac{1}{\\sigma^2}(I-H)$\n",
    "\n",
    "$y \\sim N(X\\beta, I \\sigma^2)$\n",
    "\n",
    "$BV = \\frac{1}{\\sigma^2}(I-H)I\\sigma^2 = B, BV=B$\n",
    "\n",
    "$B, BV$는 멱등행렬\n",
    "\n",
    "$tr(BV) = tr(B) = tr(I-H) = tr(I) - tr(H) = n-p-1$\n",
    "\n",
    "$\\star$ $X$가 $n \\times (p+1)$ 행렬이고, $rank$가 $p+1$, $\\therefore tr(H) = p+1$\n",
    "\n",
    "$\\mu = X B$\n",
    "\n",
    "$B = \\frac{1}{\\sigma^2}(I-H)$\n",
    "\n",
    "$B\\mu = \\frac{1}{\\sigma^2}(I-H) X \\beta = \\frac{1}{\\sigma^2}(X B - HXB) = 0$\n",
    "\n",
    "$\\star HX = X$\n",
    "\n",
    "$\\therefore \\mu^\\top B \\mu = 0$\n",
    "\n",
    "$E(\\frac{SSE}{\\sigma^2}) = n-p-1$\n",
    "\n",
    "$E(SSE) = (n-p-1)\\sigma^2$\n",
    "\n",
    "$\\therefore E(\\frac{SSE}{(n-p-1)}) = \\sigma^2$"
   ]
  },
  {
   "cell_type": "markdown",
   "id": "03c9aa53-e275-4abe-a455-b21f49bd2f2e",
   "metadata": {},
   "source": [
    "# 3."
   ]
  },
  {
   "cell_type": "markdown",
   "id": "6149b0ec-492d-4459-801e-3ce0f96b6a7a",
   "metadata": {},
   "source": [
    "## (1)"
   ]
  },
  {
   "cell_type": "markdown",
   "id": "02cc5866-f532-4980-8471-949c6d91fb47",
   "metadata": {},
   "source": [
    "적합결여검정을 위한 가설을 제시하라."
   ]
  },
  {
   "cell_type": "markdown",
   "id": "42b167fd-b492-4fb6-95c3-5f0a23d8ec2a",
   "metadata": {},
   "source": [
    "## (2)"
   ]
  },
  {
   "cell_type": "markdown",
   "id": "96053994-814c-494f-ba42-b4b6d9e9863c",
   "metadata": {},
   "source": [
    "적합결여검정 수행을 위한 과정과 결과 추론을 구체적으로 제시하라(계산 X)"
   ]
  },
  {
   "cell_type": "code",
   "execution_count": null,
   "id": "6d9a16ee-503e-48d6-9fe3-a7d91d389f12",
   "metadata": {},
   "outputs": [],
   "source": []
  }
 ],
 "metadata": {
  "kernelspec": {
   "display_name": "R",
   "language": "R",
   "name": "ir"
  },
  "language_info": {
   "codemirror_mode": "r",
   "file_extension": ".r",
   "mimetype": "text/x-r-source",
   "name": "R",
   "pygments_lexer": "r",
   "version": "4.1.2"
  }
 },
 "nbformat": 4,
 "nbformat_minor": 5
}
