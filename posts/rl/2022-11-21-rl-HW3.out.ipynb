{
  "cells": [
    {
      "cell_type": "markdown",
      "metadata": {},
      "source": [
        "# Regression HW 3\n",
        "\n",
        "SEOYEON CHOI  \n",
        "11/21/22\n",
        "\n",
        "고급회귀분석 과제, CH03,07\n",
        "\n",
        "------------------------------------------------------------------------\n",
        "\n",
        "고급회귀분석 세번째 과제입니다.\n",
        "\n",
        "제출 기한 : 11월 21일\n",
        "\n",
        "제출 방법\n",
        "\n",
        "-   직접 제출(607호) 도 가능하지만,\n",
        "\n",
        "-   문서 작성 후 pdf로 변환(★★★)하여 lms에 제출을 추천\n",
        "\n",
        "(pdf 아닌 문서는 미제출로 간주)\n",
        "\n",
        "주의사항\n",
        "\n",
        "-   pdf로 꼭 변환하여 제출\n",
        "\n",
        "-   풀이가 꼭 있어야 함 (답만 적혀 있는 경우 ’0’점 처리)\n",
        "\n",
        "-   부정행위 시 ’F’학점\n",
        "\n",
        "-   계산은 R로 해도 되지만 계산 풀이 과정이 꼭 있어야 함!!\n",
        "\n",
        "예) R에서 lm으로 beta의 추정량을 구하면 안 됨. 수업 시간에 배운 식으로\n",
        "풀이를 적어야 함.\n",
        "\n",
        "-   행렬식 계산은 R로 해도 됩니다.\n",
        "\n",
        "\\*\\*\\*\\*\\*\\*\\*\\*\\*\\*\\*\\* R을 이용해서 푸는 문제는, R 코드도 같이 업로드.\n",
        "\n",
        "------------------------------------------------------------------------\n",
        "\n",
        "# 1.\n",
        "\n",
        "어떤 큰 공장에서 동일한 기계들의 정비기록에 관한 표본자료를 취하였다.\n",
        "이는 기계의 사용연도(age of machines)와 정비비용(maintenance cost) 간에\n",
        "어떤 관계가 있는가를 밝혀내기 위한 것이다. 그 자료는 다음과 같다 (표본의\n",
        "크기 $n = 14$).\n",
        "\n",
        "| 사용연도$X$(단위:년) | 정비비용$Y$(단위:1,000원) |\n",
        "|:--------------------:|:-------------------------:|\n",
        "|          3           |            39             |\n",
        "|          1           |            24             |\n",
        "|          5           |            115            |\n",
        "|          8           |            105            |\n",
        "|          1           |            50             |\n",
        "|          4           |            86             |\n",
        "|          2           |            67             |\n",
        "|          6           |            90             |\n",
        "|          9           |            140            |\n",
        "|          3           |            112            |\n",
        "|          5           |            70             |\n",
        "|          7           |            186            |\n",
        "|          2           |            43             |\n",
        "|          6           |            126            |"
      ],
      "id": "fc1d6573-1ae9-4346-b2e1-cded7ae77b80"
    },
    {
      "cell_type": "code",
      "execution_count": 1,
      "metadata": {},
      "outputs": [],
      "source": [
        "dt <- data.frame(y=c(39,24,115,105,50,86,67,90,140,112,70,186,43,126), \n",
        "                 x=c(3,1,5,8,1,4,2,6,9,3,5,7,2,6))"
      ],
      "id": "fc5b94b1-8217-4c0a-b471-3b12cf6252b0"
    },
    {
      "cell_type": "code",
      "execution_count": 2,
      "metadata": {},
      "outputs": [],
      "source": [
        "x <- matrix(c(rep(1,14), dt$x), ncol=2)"
      ],
      "id": "4cccfda2-cb31-4f0d-863f-65ebb95fac96"
    },
    {
      "cell_type": "code",
      "execution_count": 3,
      "metadata": {},
      "outputs": [],
      "source": [
        "y <- matrix(c(dt$y), ncol=1)"
      ],
      "id": "ff3c9291-d552-4819-a32e-dfbdb57a2961"
    },
    {
      "cell_type": "markdown",
      "metadata": {},
      "source": [
        "## (1)\n",
        "\n",
        "$X^\\top X, X^\\top y, y^\\top y$와 $(X^\\top X)^{-1}$을 구하시오."
      ],
      "id": "e61031d0-bdcf-4a22-b044-2e4a36bf30c5"
    },
    {
      "cell_type": "code",
      "execution_count": 4,
      "metadata": {},
      "outputs": [],
      "source": [
        "xx <- t(x) %*% x"
      ],
      "id": "aca3da1f-5cf0-4f6a-85fd-2252c19ee299"
    },
    {
      "cell_type": "code",
      "execution_count": 5,
      "metadata": {},
      "outputs": [
        {
          "output_type": "display_data",
          "metadata": {},
          "data": {
            "text/html": [
              "<table class=\"dataframe\">\n",
              "<caption>A matrix: 2 × 2 of type dbl</caption>\n",
              "<tbody>\n",
              "    <tr><td>14</td><td> 62</td></tr>\n",
              "    <tr><td>62</td><td>360</td></tr>\n",
              "</tbody>\n",
              "</table>"
            ]
          }
        }
      ],
      "source": [
        "xx"
      ],
      "id": "23c45932-154a-456a-8de4-5d635f470df4"
    },
    {
      "cell_type": "code",
      "execution_count": 6,
      "metadata": {},
      "outputs": [],
      "source": [
        "xy <- t(x) %*% y"
      ],
      "id": "5344e0a3-5798-4f66-b1c0-2bc7310cd21b"
    },
    {
      "cell_type": "code",
      "execution_count": 7,
      "metadata": {},
      "outputs": [
        {
          "output_type": "display_data",
          "metadata": {},
          "data": {
            "text/html": [
              "<table class=\"dataframe\">\n",
              "<caption>A matrix: 2 × 1 of type dbl</caption>\n",
              "<tbody>\n",
              "    <tr><td>1253</td></tr>\n",
              "    <tr><td>6714</td></tr>\n",
              "</tbody>\n",
              "</table>"
            ]
          }
        }
      ],
      "source": [
        "xy"
      ],
      "id": "8ed7a6d6-3493-4363-851e-f094e7fe0deb"
    },
    {
      "cell_type": "code",
      "execution_count": 8,
      "metadata": {},
      "outputs": [],
      "source": [
        "yy <- t(y) %*% y"
      ],
      "id": "84d4cc75-5c4e-4fc0-acb8-c5e915f55e4c"
    },
    {
      "cell_type": "code",
      "execution_count": 9,
      "metadata": {},
      "outputs": [
        {
          "output_type": "display_data",
          "metadata": {},
          "data": {
            "text/html": [
              "<table class=\"dataframe\">\n",
              "<caption>A matrix: 1 × 1 of type dbl</caption>\n",
              "<tbody>\n",
              "    <tr><td>138197</td></tr>\n",
              "</tbody>\n",
              "</table>"
            ]
          }
        }
      ],
      "source": [
        "yy"
      ],
      "id": "27ce96cb-4762-4022-abea-b45cb7023b1c"
    },
    {
      "cell_type": "code",
      "execution_count": 10,
      "metadata": {},
      "outputs": [],
      "source": [
        "xx_i <- solve(xx)"
      ],
      "id": "cef62016-e7a6-48d3-a344-82c8497c5d73"
    },
    {
      "cell_type": "code",
      "execution_count": 11,
      "metadata": {},
      "outputs": [
        {
          "output_type": "display_data",
          "metadata": {},
          "data": {
            "text/html": [
              "<table class=\"dataframe\">\n",
              "<caption>A matrix: 2 × 2 of type dbl</caption>\n",
              "<tbody>\n",
              "    <tr><td> 0.30100334</td><td>-0.05183946</td></tr>\n",
              "    <tr><td>-0.05183946</td><td> 0.01170569</td></tr>\n",
              "</tbody>\n",
              "</table>"
            ]
          }
        }
      ],
      "source": [
        "xx_i"
      ],
      "id": "04130114-e88d-4f4d-92ec-50a4ecabc137"
    },
    {
      "cell_type": "markdown",
      "metadata": {},
      "source": [
        "## (2)\n",
        "\n",
        "$\\hat{\\beta} = (X^\\top X)^{-1}X^\\top y$를 구하고, 적합된 회귀선형을 써\n",
        "보아라."
      ],
      "id": "f33cc12e-a754-4f08-98ad-fe15a53c81a7"
    },
    {
      "cell_type": "code",
      "execution_count": 12,
      "metadata": {},
      "outputs": [],
      "source": [
        "betahat <- xx_i %*%  xy"
      ],
      "id": "2408250f-ce91-4136-b950-b7c7821bfeb1"
    },
    {
      "cell_type": "code",
      "execution_count": 13,
      "metadata": {},
      "outputs": [
        {
          "output_type": "display_data",
          "metadata": {},
          "data": {
            "text/html": [
              "<table class=\"dataframe\">\n",
              "<caption>A matrix: 2 × 1 of type dbl</caption>\n",
              "<tbody>\n",
              "    <tr><td>29.10702</td></tr>\n",
              "    <tr><td>13.63712</td></tr>\n",
              "</tbody>\n",
              "</table>"
            ]
          }
        }
      ],
      "source": [
        "betahat"
      ],
      "id": "49bcce0c-61a0-4c7d-8921-843056be22a4"
    },
    {
      "cell_type": "markdown",
      "metadata": {},
      "source": [
        "$y = 29.1 + 13.6x$"
      ],
      "id": "55563128-8d1a-4ee7-837a-3e22d69b0708"
    },
    {
      "cell_type": "code",
      "execution_count": 14,
      "metadata": {},
      "outputs": [
        {
          "output_type": "display_data",
          "metadata": {},
          "data": {
            "text/html": [
              "<style>\n",
              ".dl-inline {width: auto; margin:0; padding: 0}\n",
              ".dl-inline>dt, .dl-inline>dd {float: none; width: auto; display: inline-block}\n",
              ".dl-inline>dt::after {content: \":\\0020\"; padding-right: .5ex}\n",
              ".dl-inline>dt:not(:first-of-type) {padding-left: .5ex}\n",
              "</style><dl class=dl-inline><dt>(Intercept)</dt><dd>29.1070234113712</dd><dt>x</dt><dd>13.6371237458194</dd></dl>"
            ]
          }
        }
      ],
      "source": [
        "coef(lm(y~x, dt))"
      ],
      "id": "4cdff1c7-3bd1-4812-85b8-1aee36b9550e"
    },
    {
      "cell_type": "markdown",
      "metadata": {},
      "source": [
        "## (3)\n",
        "\n",
        "$\\sigma^2$을 MSE 로 추정할 경우, $\\hat{\\beta}$의 분산-공분산행렬의\n",
        "추정은 $\\hat{Var}(\\hat{\\beta}) = (X^\\top X)^{-1}$(MSE)이다. 먼저\n",
        "분산분석하여 MSE 를 구하고 $\\hat{Var}(\\hat{\\beta})$을 구하시오"
      ],
      "id": "2809aaba-2f87-4e60-a4a8-28a04f8e4d49"
    },
    {
      "cell_type": "code",
      "execution_count": 15,
      "metadata": {},
      "outputs": [],
      "source": [
        "n <- 14"
      ],
      "id": "f2e150ae-6aa3-498b-88b4-7b0bd7c8d8e2"
    },
    {
      "cell_type": "code",
      "execution_count": 16,
      "metadata": {},
      "outputs": [],
      "source": [
        "p <- 1"
      ],
      "id": "c680d24c-43b6-48e2-8a1a-cb0c54691055"
    },
    {
      "cell_type": "code",
      "execution_count": 17,
      "metadata": {},
      "outputs": [],
      "source": [
        "In = diag(rep(1,n))"
      ],
      "id": "9a42669c-c415-446a-a368-e6e1990d7126"
    },
    {
      "cell_type": "code",
      "execution_count": 18,
      "metadata": {},
      "outputs": [],
      "source": [
        "H = x %*% xx_i %*% t(x)"
      ],
      "id": "cbca9d38-3e61-4635-9a69-427c948ff7cf"
    },
    {
      "cell_type": "markdown",
      "metadata": {},
      "source": [
        "$SSE = y^\\top(I-H)y$\n",
        "\n",
        "$SST = y^\\top y - n(\\bar{y})^2$"
      ],
      "id": "52120e68-ab3f-486c-8277-69909f760e88"
    },
    {
      "cell_type": "code",
      "execution_count": 19,
      "metadata": {},
      "outputs": [
        {
          "output_type": "display_data",
          "metadata": {},
          "data": {
            "text/html": [
              "<table class=\"dataframe\">\n",
              "<caption>A matrix: 1 × 1 of type dbl</caption>\n",
              "<tbody>\n",
              "    <tr><td>10166.25</td></tr>\n",
              "</tbody>\n",
              "</table>"
            ]
          }
        }
      ],
      "source": [
        "sse = t(y) %*% (In-H) %*% y\n",
        "sse"
      ],
      "id": "c286f5fa-8fd4-40f9-a9a4-1a618219704d"
    },
    {
      "cell_type": "code",
      "execution_count": 20,
      "metadata": {},
      "outputs": [
        {
          "output_type": "display_data",
          "metadata": {},
          "data": {
            "text/html": [
              "<table class=\"dataframe\">\n",
              "<caption>A matrix: 1 × 1 of type dbl</caption>\n",
              "<tbody>\n",
              "    <tr><td>26053.5</td></tr>\n",
              "</tbody>\n",
              "</table>"
            ]
          }
        }
      ],
      "source": [
        "sst = t(y) %*% y - n * mean(y)^2\n",
        "sst"
      ],
      "id": "f09a2378-7683-43da-9757-039afe6cc266"
    },
    {
      "cell_type": "code",
      "execution_count": 21,
      "metadata": {},
      "outputs": [
        {
          "output_type": "display_data",
          "metadata": {},
          "data": {
            "text/html": [
              "<table class=\"dataframe\">\n",
              "<caption>A matrix: 1 × 1 of type dbl</caption>\n",
              "<tbody>\n",
              "    <tr><td>15887.25</td></tr>\n",
              "</tbody>\n",
              "</table>"
            ]
          }
        }
      ],
      "source": [
        "ssr = sst- sse\n",
        "ssr"
      ],
      "id": "02b126c4-a5a0-4a1d-8a2c-27f2be5ec39a"
    },
    {
      "cell_type": "code",
      "execution_count": 22,
      "metadata": {},
      "outputs": [
        {
          "output_type": "display_data",
          "metadata": {},
          "data": {
            "text/html": [
              "<table class=\"dataframe\">\n",
              "<caption>A matrix: 1 × 1 of type dbl</caption>\n",
              "<tbody>\n",
              "    <tr><td>15887.25</td></tr>\n",
              "</tbody>\n",
              "</table>"
            ]
          }
        }
      ],
      "source": [
        "msr = ssr/p\n",
        "msr"
      ],
      "id": "cd6e9e4a-6dc8-47ab-9ab8-5b26abbe85ad"
    },
    {
      "cell_type": "code",
      "execution_count": 23,
      "metadata": {},
      "outputs": [
        {
          "output_type": "display_data",
          "metadata": {},
          "data": {
            "text/html": [
              "<table class=\"dataframe\">\n",
              "<caption>A matrix: 1 × 1 of type dbl</caption>\n",
              "<tbody>\n",
              "    <tr><td>847.1876</td></tr>\n",
              "</tbody>\n",
              "</table>"
            ]
          }
        }
      ],
      "source": [
        "mse = sse/(n-p-1)\n",
        "mse"
      ],
      "id": "8d6f50b3-e866-43bc-9502-7cf9e20abf95"
    },
    {
      "cell_type": "code",
      "execution_count": 24,
      "metadata": {},
      "outputs": [
        {
          "output_type": "display_data",
          "metadata": {},
          "data": {
            "text/html": [
              "<table class=\"dataframe\">\n",
              "<caption>A matrix: 1 × 1 of type dbl</caption>\n",
              "<tbody>\n",
              "    <tr><td>18.75293</td></tr>\n",
              "</tbody>\n",
              "</table>"
            ]
          }
        }
      ],
      "source": [
        "f0 = msr/mse\n",
        "f0"
      ],
      "id": "117fee52-e245-4fc2-85f7-e4fc7ea9b2fc"
    },
    {
      "cell_type": "code",
      "execution_count": 25,
      "metadata": {},
      "outputs": [
        {
          "output_type": "display_data",
          "metadata": {},
          "data": {
            "text/html": [
              "4.74722534672251"
            ]
          }
        }
      ],
      "source": [
        "qf(0.95,p,n-p-1)"
      ],
      "id": "be934d5d-ee73-4c19-991e-5cd27552722a"
    },
    {
      "cell_type": "markdown",
      "metadata": {},
      "source": [
        "**분산분석표**\n",
        "\n",
        "| 요인 |  제곱합  | 자유도(df) | 평균제곱(MS) |  $F_0$   | 유의확률 |\n",
        "|:----:|:--------:|:----------:|:------------:|:--------:|:--------:|\n",
        "| 회귀 | 15887.25 |     1      |   15887.25   | 18.75293 | 4.747225 |\n",
        "| 잔차 | 10166.25 |     12     |    847.19    |          |          |\n",
        "|  계  | 26053.5  |     13     |              |          |          |"
      ],
      "id": "c5ccc60b-0563-4883-a912-b702ed08e8e1"
    },
    {
      "cell_type": "code",
      "execution_count": 26,
      "metadata": {},
      "outputs": [],
      "source": [
        "hat_var_betahat <- mse[,] * xx_i"
      ],
      "id": "d51b9f0b-3061-4358-9fb3-6ef94c74492b"
    },
    {
      "cell_type": "code",
      "execution_count": 27,
      "metadata": {},
      "outputs": [
        {
          "output_type": "display_data",
          "metadata": {},
          "data": {
            "text/html": [
              "<table class=\"dataframe\">\n",
              "<caption>A matrix: 2 × 2 of type dbl</caption>\n",
              "<thead>\n",
              "    <tr><th></th><th scope=col>(Intercept)</th><th scope=col>x</th></tr>\n",
              "</thead>\n",
              "<tbody>\n",
              "    <tr><th scope=row>(Intercept)</th><td>255.00629</td><td>-43.917750</td></tr>\n",
              "    <tr><th scope=row>x</th><td>-43.91775</td><td>  9.916911</td></tr>\n",
              "</tbody>\n",
              "</table>"
            ]
          }
        }
      ],
      "source": [
        "vcov(lm(y~x, dt))"
      ],
      "id": "cba81e74-a82f-4890-9cce-a6accadf723d"
    },
    {
      "cell_type": "markdown",
      "metadata": {},
      "source": [
        "# 2.\n",
        "\n",
        "어떤 공정에서 나오는 제품의 강도$(kg/cm^2)$가 그 공정의 온도와 압력에\n",
        "어떠한 영향을 받는가를 조사하기 위하여 다음의 데이터를 얻었다.\n",
        "\n",
        "| 공정온도$x_1$(단위:°C) | 공정압력$x_2$(단위:$psi$) | 강도$y$(단위:$kg/cm^2$) |\n",
        "|:----------------------:|:----------------------:|:----------------------:|\n",
        "|          195           |            57             |          81.4           |\n",
        "|          179           |            61             |          122.2          |\n",
        "|          205           |            60             |          101.7          |\n",
        "|          204           |            62             |          175.6          |\n",
        "|          201           |            61             |          150.3          |\n",
        "|          184           |            54             |          64.8           |\n",
        "|          210           |            58             |          92.1           |\n",
        "|          209           |            61             |          113.8          |"
      ],
      "id": "16ff885e-aec7-4aef-885c-2b34f1e260e5"
    },
    {
      "cell_type": "code",
      "execution_count": 28,
      "metadata": {},
      "outputs": [],
      "source": [
        "dt <- data.frame(y=c(81.4,122.2,101.7,175.6,150.3,64.8,92.1,113.8),\n",
        "                 x1 = c(195,179,205,204,201,184,210,209),\n",
        "                 x2 = c(57,61,60,62,61,54,58,61))"
      ],
      "id": "e73bf0cf-8fcd-4ec3-aa72-09858342e871"
    },
    {
      "cell_type": "code",
      "execution_count": 29,
      "metadata": {},
      "outputs": [],
      "source": [
        "m2 <- lm(y~., dt)"
      ],
      "id": "2fedd047-e390-4472-ae6b-5474f4fa0b94"
    },
    {
      "cell_type": "code",
      "execution_count": 30,
      "metadata": {},
      "outputs": [
        {
          "output_type": "display_data",
          "metadata": {},
          "data": {
            "text/plain": [
              "\n",
              "Call:\n",
              "lm(formula = y ~ ., data = dt)\n",
              "\n",
              "Residuals:\n",
              "      1       2       3       4       5       6       7       8 \n",
              " -5.259 -14.775 -18.742  31.259  17.279  11.744  -3.723 -17.783 \n",
              "\n",
              "Coefficients:\n",
              "             Estimate Std. Error t value Pr(>|t|)  \n",
              "(Intercept) -554.3112   196.9775  -2.814   0.0374 *\n",
              "x1            -0.1797     0.7626  -0.236   0.8230  \n",
              "x2            11.8600     3.2301   3.672   0.0144 *\n",
              "---\n",
              "Signif. codes:  0 ‘***’ 0.001 ‘**’ 0.01 ‘*’ 0.05 ‘.’ 0.1 ‘ ’ 1\n",
              "\n",
              "Residual standard error: 21.64 on 5 degrees of freedom\n",
              "Multiple R-squared:  0.7478,    Adjusted R-squared:  0.6469 \n",
              "F-statistic: 7.412 on 2 and 5 DF,  p-value: 0.03195"
            ]
          }
        }
      ],
      "source": [
        "summary(m2)"
      ],
      "id": "5591cce6-3e04-47f9-abf8-6f15a18b3f98"
    },
    {
      "cell_type": "code",
      "execution_count": 31,
      "metadata": {},
      "outputs": [
        {
          "output_type": "display_data",
          "metadata": {},
          "data": {
            "text/html": [
              "<table class=\"dataframe\">\n",
              "<caption>A anova: 3 × 5</caption>\n",
              "<thead>\n",
              "    <tr><th></th><th scope=col>Df</th><th scope=col>Sum Sq</th><th scope=col>Mean Sq</th><th scope=col>F value</th><th scope=col>Pr(&gt;F)</th></tr>\n",
              "    <tr><th></th><th scope=col>&lt;int&gt;</th><th scope=col>&lt;dbl&gt;</th><th scope=col>&lt;dbl&gt;</th><th scope=col>&lt;dbl&gt;</th><th scope=col>&lt;dbl&gt;</th></tr>\n",
              "</thead>\n",
              "<tbody>\n",
              "    <tr><th scope=row>x1</th><td>1</td><td> 628.467</td><td> 628.4670</td><td> 1.342371</td><td>0.29894191</td></tr>\n",
              "    <tr><th scope=row>x2</th><td>1</td><td>6311.728</td><td>6311.7278</td><td>13.481505</td><td>0.01441752</td></tr>\n",
              "    <tr><th scope=row>Residuals</th><td>5</td><td>2340.884</td><td> 468.1768</td><td>       NA</td><td>        NA</td></tr>\n",
              "</tbody>\n",
              "</table>"
            ]
          }
        }
      ],
      "source": [
        "anova(m2)"
      ],
      "id": "458891fa-46b1-496a-9101-193b96854255"
    },
    {
      "cell_type": "markdown",
      "metadata": {},
      "source": [
        "## (1)\n",
        "\n",
        "선형회귀모형,\n",
        "$y_j = \\beta_0 + \\beta_1 x_{1j} + \\beta_2 x_{2j} + \\epsilon_j$ 가\n",
        "성립된다고 가정하고 데이터로부터 회귀모형을 추정하시오."
      ],
      "id": "ceb397f5-2e0e-49cd-ac4c-37476ccfe529"
    },
    {
      "cell_type": "code",
      "execution_count": 32,
      "metadata": {},
      "outputs": [],
      "source": [
        "x = matrix(c(rep(1,8),dt$x1, dt$x2), ncol=3)"
      ],
      "id": "1a2280be-7e1b-48f8-95e8-247a5994f1cf"
    },
    {
      "cell_type": "code",
      "execution_count": 33,
      "metadata": {},
      "outputs": [],
      "source": [
        "y = dt$y"
      ],
      "id": "ebf51d37-9813-4ccf-acf7-b3091cf7cd22"
    },
    {
      "cell_type": "code",
      "execution_count": 34,
      "metadata": {},
      "outputs": [
        {
          "output_type": "display_data",
          "metadata": {},
          "data": {
            "text/html": [
              "<table class=\"dataframe\">\n",
              "<caption>A matrix: 3 × 3 of type dbl</caption>\n",
              "<tbody>\n",
              "    <tr><td>   8</td><td>  1587</td><td>  474</td></tr>\n",
              "    <tr><td>1587</td><td>315745</td><td>94108</td></tr>\n",
              "    <tr><td> 474</td><td> 94108</td><td>28136</td></tr>\n",
              "</tbody>\n",
              "</table>"
            ]
          }
        }
      ],
      "source": [
        "xx <- t(x) %*% x\n",
        "xx"
      ],
      "id": "3d19b60f-456a-4f53-bc0c-60d4b1f38558"
    },
    {
      "cell_type": "code",
      "execution_count": 35,
      "metadata": {},
      "outputs": [
        {
          "output_type": "display_data",
          "metadata": {},
          "data": {
            "text/html": [
              "<table class=\"dataframe\">\n",
              "<caption>A matrix: 3 × 3 of type dbl</caption>\n",
              "<tbody>\n",
              "    <tr><td>82.8749894</td><td>-0.134598917</td><td>-0.945973490</td></tr>\n",
              "    <tr><td>-0.1345989</td><td> 0.001242266</td><td>-0.001887521</td></tr>\n",
              "    <tr><td>-0.9459735</td><td>-0.001887521</td><td> 0.022285408</td></tr>\n",
              "</tbody>\n",
              "</table>"
            ]
          }
        }
      ],
      "source": [
        "xx_i <- solve(xx)\n",
        "xx_i"
      ],
      "id": "9e05a93c-479e-4fba-b127-31fd7cb91019"
    },
    {
      "cell_type": "code",
      "execution_count": 36,
      "metadata": {},
      "outputs": [
        {
          "output_type": "display_data",
          "metadata": {},
          "data": {
            "text/html": [
              "<table class=\"dataframe\">\n",
              "<caption>A matrix: 3 × 1 of type dbl</caption>\n",
              "<tbody>\n",
              "    <tr><td>   901.9</td></tr>\n",
              "    <tr><td>179676.4</td></tr>\n",
              "    <tr><td> 54034.3</td></tr>\n",
              "</tbody>\n",
              "</table>"
            ]
          }
        }
      ],
      "source": [
        "xy <- t(x) %*% y\n",
        "xy"
      ],
      "id": "e2889f57-bcfb-4b8e-83e1-100b32707957"
    },
    {
      "cell_type": "code",
      "execution_count": 37,
      "metadata": {},
      "outputs": [
        {
          "output_type": "display_data",
          "metadata": {},
          "data": {
            "text/html": [
              "<table class=\"dataframe\">\n",
              "<caption>A matrix: 1 × 1 of type dbl</caption>\n",
              "<tbody>\n",
              "    <tr><td>110959</td></tr>\n",
              "</tbody>\n",
              "</table>"
            ]
          }
        }
      ],
      "source": [
        "yy <- t(y) %*% y\n",
        "yy"
      ],
      "id": "dbe9d90f-cd2d-4ac8-97c7-b8fde5a1146a"
    },
    {
      "cell_type": "code",
      "execution_count": 38,
      "metadata": {},
      "outputs": [
        {
          "output_type": "display_data",
          "metadata": {},
          "data": {
            "text/html": [
              "<table class=\"dataframe\">\n",
              "<caption>A matrix: 3 × 1 of type dbl</caption>\n",
              "<tbody>\n",
              "    <tr><td>-554.3112232</td></tr>\n",
              "    <tr><td>  -0.1797396</td></tr>\n",
              "    <tr><td>  11.8599927</td></tr>\n",
              "</tbody>\n",
              "</table>"
            ]
          }
        }
      ],
      "source": [
        "b <- xx_i %*% xy\n",
        "b"
      ],
      "id": "3c7bacac-de12-42eb-a6d3-60b4e9a10c46"
    },
    {
      "cell_type": "markdown",
      "metadata": {},
      "source": [
        "$y = -554.31 - 0.1797 x_1 + 11.86 x_2$\n",
        "\n",
        "## (2)\n",
        "\n",
        "오차분산이 $\\sigma^2 = 3$이라 하면,\n",
        "$Var(\\hat{\\beta}_0), Var(\\hat{\\beta}_1), Var(\\hat{\\beta}_2)$와\n",
        "$Cov(\\hat{\\beta}_1, \\hat{\\beta}_2)$는 무엇인가?\n",
        "\n",
        "$var(\\hat{\\beta}) = (x^\\top x)^{-1} \\sigma^2$"
      ],
      "id": "c55ba58c-e74a-4e0d-b254-7e7f42916348"
    },
    {
      "cell_type": "code",
      "execution_count": 39,
      "metadata": {},
      "outputs": [
        {
          "output_type": "display_data",
          "metadata": {},
          "data": {
            "text/html": [
              "<table class=\"dataframe\">\n",
              "<caption>A matrix: 3 × 3 of type dbl</caption>\n",
              "<tbody>\n",
              "    <tr><td>248.6249683</td><td>-0.403796751</td><td>-2.837920471</td></tr>\n",
              "    <tr><td> -0.4037968</td><td> 0.003726798</td><td>-0.005662562</td></tr>\n",
              "    <tr><td> -2.8379205</td><td>-0.005662562</td><td> 0.066856223</td></tr>\n",
              "</tbody>\n",
              "</table>"
            ]
          }
        }
      ],
      "source": [
        "xx_i * 3"
      ],
      "id": "57bc2ec7-9c98-4399-9620-7154f52e0f82"
    },
    {
      "cell_type": "markdown",
      "metadata": {},
      "source": [
        "$var(\\hat{\\beta}_0) = 248.6250$\n",
        "\n",
        "$var(\\hat{\\beta}_1) = 0.0037$\n",
        "\n",
        "$var(\\hat{\\beta}_2) = 0.0669$\n",
        "\n",
        "$cov(\\hat{\\beta}_1, \\hat{\\beta}_2) = -0.0057$\n",
        "\n",
        "## (3)\n",
        "\n",
        "$x_1 = 200$°C이고 $x_2 = 59\\text{psi}$에서 평균 제품의 강도의 추정값\n",
        "$\\hat{y}$는 얼마인가? 이의 분산을 $\\sigma^2 = 3$이라 가정하고 구하시오."
      ],
      "id": "a643122e-80d3-4d56-aa65-63daa4795519"
    },
    {
      "cell_type": "code",
      "execution_count": 40,
      "metadata": {},
      "outputs": [
        {
          "output_type": "display_data",
          "metadata": {},
          "data": {
            "text/html": [
              "<table class=\"dataframe\">\n",
              "<caption>A data.frame: 1 × 2</caption>\n",
              "<thead>\n",
              "    <tr><th scope=col>x1</th><th scope=col>x2</th></tr>\n",
              "    <tr><th scope=col>&lt;dbl&gt;</th><th scope=col>&lt;dbl&gt;</th></tr>\n",
              "</thead>\n",
              "<tbody>\n",
              "    <tr><td>200</td><td>59</td></tr>\n",
              "</tbody>\n",
              "</table>"
            ]
          }
        }
      ],
      "source": [
        "new_dt <- data.frame(x1=200, x2=59)\n",
        "new_dt"
      ],
      "id": "5351c527-7ed3-4720-af19-b8188936db81"
    },
    {
      "cell_type": "code",
      "execution_count": 41,
      "metadata": {},
      "outputs": [
        {
          "output_type": "display_data",
          "metadata": {},
          "data": {
            "text/html": [
              "<strong>1:</strong> 109.480424963516"
            ]
          }
        }
      ],
      "source": [
        "predict(m2, newdata = new_dt)"
      ],
      "id": "4889825a-8a87-4075-a1e3-1918f8b2e98c"
    },
    {
      "cell_type": "code",
      "execution_count": 42,
      "metadata": {},
      "outputs": [
        {
          "output_type": "display_data",
          "metadata": {},
          "data": {
            "text/html": [
              "<style>\n",
              ".list-inline {list-style: none; margin:0; padding: 0}\n",
              ".list-inline>li {display: inline-block}\n",
              ".list-inline>li:not(:last-child)::after {content: \"\\00b7\"; padding: 0 .5ex}\n",
              "</style>\n",
              "<ol class=list-inline><li>1</li><li>200</li><li>59</li></ol>"
            ]
          }
        }
      ],
      "source": [
        "x0 <- c(1,200,59)\n",
        "x0"
      ],
      "id": "c641a491-e43d-44d8-a3d2-270bf50d9a28"
    },
    {
      "cell_type": "code",
      "execution_count": 43,
      "metadata": {},
      "outputs": [
        {
          "output_type": "display_data",
          "metadata": {},
          "data": {
            "text/html": [
              "<table class=\"dataframe\">\n",
              "<caption>A matrix: 1 × 1 of type dbl</caption>\n",
              "<tbody>\n",
              "    <tr><td>109.4804</td></tr>\n",
              "</tbody>\n",
              "</table>"
            ]
          }
        }
      ],
      "source": [
        "mu0 <- x0 %*% b\n",
        "mu0"
      ],
      "id": "ac4c0b9b-2c03-47f5-839f-061fb7afc06c"
    },
    {
      "cell_type": "markdown",
      "metadata": {},
      "source": [
        "$\\hat{\\mu}_0 = 109.4804$\n",
        "\n",
        "## (4)\n",
        "\n",
        "추정된 회귀계수 $\\hat{\\beta}_1, \\hat{\\beta}_2$의 의미는 무엇인가?\n",
        "\n",
        "$\\hat{\\beta}_1$ : 공정압력이 일정하게 유지되었을 때, 공정온도가 1도씨\n",
        "증가하면 강도는 0.1797만큼 감소한다.\n",
        "\n",
        "$\\hat{\\beta}_2$ : 공정온도가 일정하게 유지되었을 때, 공정압력이 1psi\n",
        "증가하면 강도는 11.8600만큼 증가한다.\n",
        "\n",
        "## (5)\n",
        "\n",
        "분산분석표를 작성하고 $\\alpha = 0.05$로 $F$-검정을 행하시오."
      ],
      "id": "4b0c1ea0-a50b-4209-8939-7008ce1e968c"
    },
    {
      "cell_type": "code",
      "execution_count": 44,
      "metadata": {},
      "outputs": [
        {
          "output_type": "display_data",
          "metadata": {},
          "data": {
            "text/html": [
              "<table class=\"dataframe\">\n",
              "<caption>A anova: 3 × 5</caption>\n",
              "<thead>\n",
              "    <tr><th></th><th scope=col>Df</th><th scope=col>Sum Sq</th><th scope=col>Mean Sq</th><th scope=col>F value</th><th scope=col>Pr(&gt;F)</th></tr>\n",
              "    <tr><th></th><th scope=col>&lt;int&gt;</th><th scope=col>&lt;dbl&gt;</th><th scope=col>&lt;dbl&gt;</th><th scope=col>&lt;dbl&gt;</th><th scope=col>&lt;dbl&gt;</th></tr>\n",
              "</thead>\n",
              "<tbody>\n",
              "    <tr><th scope=row>x1</th><td>1</td><td> 628.467</td><td> 628.4670</td><td> 1.342371</td><td>0.29894191</td></tr>\n",
              "    <tr><th scope=row>x2</th><td>1</td><td>6311.728</td><td>6311.7278</td><td>13.481505</td><td>0.01441752</td></tr>\n",
              "    <tr><th scope=row>Residuals</th><td>5</td><td>2340.884</td><td> 468.1768</td><td>       NA</td><td>        NA</td></tr>\n",
              "</tbody>\n",
              "</table>"
            ]
          }
        }
      ],
      "source": [
        "anova(m2)"
      ],
      "id": "1f126315-875d-4f70-9e73-f11d055bcb7b"
    },
    {
      "cell_type": "code",
      "execution_count": 45,
      "metadata": {},
      "outputs": [
        {
          "output_type": "display_data",
          "metadata": {},
          "data": {
            "text/html": [
              "<table class=\"dataframe\">\n",
              "<caption>A matrix: 8 × 8 of type dbl</caption>\n",
              "<tbody>\n",
              "    <tr><td>1</td><td>0</td><td>0</td><td>0</td><td>0</td><td>0</td><td>0</td><td>0</td></tr>\n",
              "    <tr><td>0</td><td>1</td><td>0</td><td>0</td><td>0</td><td>0</td><td>0</td><td>0</td></tr>\n",
              "    <tr><td>0</td><td>0</td><td>1</td><td>0</td><td>0</td><td>0</td><td>0</td><td>0</td></tr>\n",
              "    <tr><td>0</td><td>0</td><td>0</td><td>1</td><td>0</td><td>0</td><td>0</td><td>0</td></tr>\n",
              "    <tr><td>0</td><td>0</td><td>0</td><td>0</td><td>1</td><td>0</td><td>0</td><td>0</td></tr>\n",
              "    <tr><td>0</td><td>0</td><td>0</td><td>0</td><td>0</td><td>1</td><td>0</td><td>0</td></tr>\n",
              "    <tr><td>0</td><td>0</td><td>0</td><td>0</td><td>0</td><td>0</td><td>1</td><td>0</td></tr>\n",
              "    <tr><td>0</td><td>0</td><td>0</td><td>0</td><td>0</td><td>0</td><td>0</td><td>1</td></tr>\n",
              "</tbody>\n",
              "</table>"
            ]
          }
        }
      ],
      "source": [
        "I8 = diag(rep(1,8))\n",
        "I8"
      ],
      "id": "1ab5b159-6d39-4415-9018-751a9ad8b58a"
    },
    {
      "cell_type": "code",
      "execution_count": 46,
      "metadata": {},
      "outputs": [
        {
          "output_type": "display_data",
          "metadata": {},
          "data": {
            "text/html": [
              "<table class=\"dataframe\">\n",
              "<caption>A matrix: 8 × 8 of type dbl</caption>\n",
              "<tbody>\n",
              "    <tr><td>0.223303342</td><td> 0.0473478224</td><td>0.0925307250</td><td> 0.004932881</td><td> 0.04854185</td><td> 0.354021685</td><td> 0.18034566</td><td> 0.04897604</td></tr>\n",
              "    <tr><td>0.047347822</td><td> 0.7875815614</td><td>0.0003377034</td><td> 0.178850120</td><td> 0.18539614</td><td> 0.121730006</td><td>-0.28766297</td><td>-0.03358038</td></tr>\n",
              "    <tr><td>0.092530725</td><td> 0.0003377034</td><td>0.1733021360</td><td> 0.174906227</td><td> 0.15025388</td><td> 0.004944942</td><td> 0.19895553</td><td> 0.20476885</td></tr>\n",
              "    <tr><td>0.004932881</td><td> 0.1788501200</td><td>0.1749062270</td><td> 0.274444297</td><td> 0.21838554</td><td>-0.166837528</td><td> 0.08255641</td><td> 0.23276205</td></tr>\n",
              "    <tr><td>0.048541845</td><td> 0.1853961381</td><td>0.1502538806</td><td> 0.218385537</td><td> 0.18446745</td><td>-0.053127978</td><td> 0.08195337</td><td> 0.18412975</td></tr>\n",
              "    <tr><td>0.354021685</td><td> 0.1217300062</td><td>0.0049449423</td><td>-0.166837528</td><td>-0.05312798</td><td> 0.711046519</td><td> 0.14493505</td><td>-0.11671270</td></tr>\n",
              "    <tr><td>0.180345664</td><td>-0.2876629720</td><td>0.1989555317</td><td> 0.082556415</td><td> 0.08195337</td><td> 0.144935052</td><td> 0.38255762</td><td> 0.21635932</td></tr>\n",
              "    <tr><td>0.048976035</td><td>-0.0335803794</td><td>0.2047688541</td><td> 0.232762052</td><td> 0.18412975</td><td>-0.116712699</td><td> 0.21635932</td><td> 0.26329707</td></tr>\n",
              "</tbody>\n",
              "</table>"
            ]
          }
        }
      ],
      "source": [
        "H = x %*% xx_i %*% t(x)\n",
        "H"
      ],
      "id": "68d72971-420f-4e1d-a8d2-53024ece87c6"
    },
    {
      "cell_type": "markdown",
      "metadata": {},
      "source": [
        "$SSE = y^\\top (I-H)y$\n",
        "\n",
        "$SST = y^\\top y - n(\\bar{y})^2$"
      ],
      "id": "8d942714-7eda-44bb-8b69-0fe6edcd7141"
    },
    {
      "cell_type": "code",
      "execution_count": 47,
      "metadata": {},
      "outputs": [
        {
          "output_type": "display_data",
          "metadata": {},
          "data": {
            "text/html": [
              "<table class=\"dataframe\">\n",
              "<caption>A matrix: 1 × 1 of type dbl</caption>\n",
              "<tbody>\n",
              "    <tr><td>2340.884</td></tr>\n",
              "</tbody>\n",
              "</table>"
            ]
          }
        }
      ],
      "source": [
        "sse = t(y) %*% (I8-H) %*% y\n",
        "sse"
      ],
      "id": "9946a8b4-7848-4dbb-8c65-f41f73ba765f"
    },
    {
      "cell_type": "code",
      "execution_count": 48,
      "metadata": {},
      "outputs": [
        {
          "output_type": "display_data",
          "metadata": {},
          "data": {
            "text/html": [
              "<table class=\"dataframe\">\n",
              "<caption>A matrix: 1 × 1 of type dbl</caption>\n",
              "<tbody>\n",
              "    <tr><td>9281.079</td></tr>\n",
              "</tbody>\n",
              "</table>"
            ]
          }
        }
      ],
      "source": [
        "sst = t(y) %*% y - 8 * mean(y)^2\n",
        "sst"
      ],
      "id": "5dcebe06-4fb5-403a-9160-1bcf8b576d1f"
    },
    {
      "cell_type": "code",
      "execution_count": 49,
      "metadata": {},
      "outputs": [
        {
          "output_type": "display_data",
          "metadata": {},
          "data": {
            "text/html": [
              "<table class=\"dataframe\">\n",
              "<caption>A matrix: 1 × 1 of type dbl</caption>\n",
              "<tbody>\n",
              "    <tr><td>6940.195</td></tr>\n",
              "</tbody>\n",
              "</table>"
            ]
          }
        }
      ],
      "source": [
        "ssr = sst- sse\n",
        "ssr"
      ],
      "id": "44d47f0a-bed2-49ce-b5ae-ae879670080c"
    },
    {
      "cell_type": "code",
      "execution_count": 50,
      "metadata": {},
      "outputs": [
        {
          "output_type": "display_data",
          "metadata": {},
          "data": {
            "text/html": [
              "<table class=\"dataframe\">\n",
              "<caption>A matrix: 1 × 1 of type dbl</caption>\n",
              "<tbody>\n",
              "    <tr><td>3470.097</td></tr>\n",
              "</tbody>\n",
              "</table>"
            ]
          }
        }
      ],
      "source": [
        "msr = ssr/2\n",
        "msr"
      ],
      "id": "9e8c6153-f5bc-468a-932b-21e595a14fb5"
    },
    {
      "cell_type": "code",
      "execution_count": 51,
      "metadata": {},
      "outputs": [
        {
          "output_type": "display_data",
          "metadata": {},
          "data": {
            "text/html": [
              "<table class=\"dataframe\">\n",
              "<caption>A matrix: 1 × 1 of type dbl</caption>\n",
              "<tbody>\n",
              "    <tr><td>468.1768</td></tr>\n",
              "</tbody>\n",
              "</table>"
            ]
          }
        }
      ],
      "source": [
        "mse = sse/5\n",
        "mse"
      ],
      "id": "20400029-4f77-471e-baf3-7eb89b98660b"
    },
    {
      "cell_type": "code",
      "execution_count": 52,
      "metadata": {},
      "outputs": [
        {
          "output_type": "display_data",
          "metadata": {},
          "data": {
            "text/html": [
              "<table class=\"dataframe\">\n",
              "<caption>A matrix: 1 × 1 of type dbl</caption>\n",
              "<tbody>\n",
              "    <tr><td>7.411938</td></tr>\n",
              "</tbody>\n",
              "</table>"
            ]
          }
        }
      ],
      "source": [
        "f0 = msr/mse\n",
        "f0"
      ],
      "id": "f2e70a8c-e374-47ec-8121-f1babc0ac7e0"
    },
    {
      "cell_type": "code",
      "execution_count": 53,
      "metadata": {},
      "outputs": [
        {
          "output_type": "display_data",
          "metadata": {},
          "data": {
            "text/html": [
              "5.78613504334997"
            ]
          }
        }
      ],
      "source": [
        "qf(0.95,2,5)"
      ],
      "id": "9f5aacc9-7469-4f58-bb26-0557e50070a5"
    },
    {
      "cell_type": "markdown",
      "metadata": {},
      "source": [
        "| 요인 |  제곱합  | 자유도(df) | 평균제곱(MS) | $F_0$  | 유의확률 |\n",
        "|:----:|:--------:|:----------:|:------------:|:------:|:--------:|\n",
        "| 회귀 | 6940.195 |     2      |   3470.097   | 7.4119 | 5.786135 |\n",
        "| 잔차 | 2340.884 |     5      |   468.177    |        |          |\n",
        "|  계  | 9281.079 |     7      |              |        |          |\n",
        "\n",
        "결론 : 검정통계량의 관측값이 기각역에 속하므로 귀무가설 기각. 즉 모형이\n",
        "유의수준 0.05하에서 유의하다고 할 수 있다.\n",
        "\n",
        "## (6)\n",
        "\n",
        "결정계수 $R^2$을 구하시오."
      ],
      "id": "6c9d1267-83c9-49a2-ba43-0b26991013e0"
    },
    {
      "cell_type": "code",
      "execution_count": 54,
      "metadata": {},
      "outputs": [
        {
          "output_type": "display_data",
          "metadata": {},
          "data": {
            "text/html": [
              "0.747778895028607"
            ]
          }
        }
      ],
      "source": [
        "summary(m2)$r.squared"
      ],
      "id": "bf44b03d-6e63-4559-a2e7-9c5645179e0f"
    },
    {
      "cell_type": "markdown",
      "metadata": {},
      "source": [
        "$R^2 = \\frac{SSR}{SST}$"
      ],
      "id": "9744baa8-4405-4058-ac7c-0dd80348310c"
    },
    {
      "cell_type": "code",
      "execution_count": 55,
      "metadata": {},
      "outputs": [
        {
          "output_type": "display_data",
          "metadata": {},
          "data": {
            "text/html": [
              "<table class=\"dataframe\">\n",
              "<caption>A matrix: 1 × 1 of type dbl</caption>\n",
              "<tbody>\n",
              "    <tr><td>0.7477789</td></tr>\n",
              "</tbody>\n",
              "</table>"
            ]
          }
        }
      ],
      "source": [
        "ssr/sst\n",
        "# 0.7478"
      ],
      "id": "7c7e962f-173d-4278-bd80-144458670af6"
    },
    {
      "cell_type": "markdown",
      "metadata": {},
      "source": [
        "## (7)\n",
        "\n",
        "수정된 결정계수 $R^2_{adj}$ 을 구하시오."
      ],
      "id": "38a9dfc4-ce40-4939-9296-2249b12e0e2f"
    },
    {
      "cell_type": "code",
      "execution_count": 56,
      "metadata": {},
      "outputs": [
        {
          "output_type": "display_data",
          "metadata": {},
          "data": {
            "text/html": [
              "0.64689045304005"
            ]
          }
        }
      ],
      "source": [
        "summary(m2)$adj"
      ],
      "id": "0960178e-e7e3-491f-9116-367709bdc3fe"
    },
    {
      "cell_type": "markdown",
      "metadata": {},
      "source": [
        "$R^2_{adj} = 1-\\frac{SSE(n-p-1)}{SST/(n-1)}$"
      ],
      "id": "38bcbae0-a6a3-472b-8d82-fb8367f38e39"
    },
    {
      "cell_type": "code",
      "execution_count": 57,
      "metadata": {},
      "outputs": [
        {
          "output_type": "display_data",
          "metadata": {},
          "data": {
            "text/html": [
              "<table class=\"dataframe\">\n",
              "<caption>A matrix: 1 × 1 of type dbl</caption>\n",
              "<tbody>\n",
              "    <tr><td>0.6468905</td></tr>\n",
              "</tbody>\n",
              "</table>"
            ]
          }
        }
      ],
      "source": [
        "1-(sse/5)/(sst/7)\n",
        "# 0.6469"
      ],
      "id": "ae64a98d-fe37-44f5-8d58-7b1ffd25c806"
    },
    {
      "cell_type": "markdown",
      "metadata": {},
      "source": [
        "## (8)\n",
        "\n",
        "$\\sigma^2$의 추정값 MSE 를 구하시오.\n",
        "\n",
        "$\\sigma^2 = MSE$"
      ],
      "id": "96fdb850-7014-4252-9f17-d4aaba031ac2"
    },
    {
      "cell_type": "code",
      "execution_count": 58,
      "metadata": {},
      "outputs": [
        {
          "output_type": "display_data",
          "metadata": {},
          "data": {
            "text/html": [
              "<table class=\"dataframe\">\n",
              "<caption>A matrix: 1 × 1 of type dbl</caption>\n",
              "<tbody>\n",
              "    <tr><td>468.1768</td></tr>\n",
              "</tbody>\n",
              "</table>"
            ]
          }
        }
      ],
      "source": [
        "mse\n",
        "##468.17687"
      ],
      "id": "7f82b873-81a4-45d8-b6a3-35df8355dd6b"
    },
    {
      "cell_type": "markdown",
      "metadata": {},
      "source": [
        "## (9)\n",
        "\n",
        "MSR의 기대값을 $\\sigma^2$과 $\\beta_0, \\beta_1, \\beta_2$의 함수로\n",
        "표시하여라."
      ],
      "id": "e942e2fc-cd93-4349-8282-e906fcd13965"
    },
    {
      "cell_type": "code",
      "execution_count": 59,
      "metadata": {},
      "outputs": [
        {
          "output_type": "display_data",
          "metadata": {},
          "data": {
            "text/html": [
              "<table class=\"dataframe\">\n",
              "<caption>A matrix: 8 × 8 of type dbl</caption>\n",
              "<tbody>\n",
              "    <tr><td>1</td><td>0</td><td>0</td><td>0</td><td>0</td><td>0</td><td>0</td><td>0</td></tr>\n",
              "    <tr><td>0</td><td>1</td><td>0</td><td>0</td><td>0</td><td>0</td><td>0</td><td>0</td></tr>\n",
              "    <tr><td>0</td><td>0</td><td>1</td><td>0</td><td>0</td><td>0</td><td>0</td><td>0</td></tr>\n",
              "    <tr><td>0</td><td>0</td><td>0</td><td>1</td><td>0</td><td>0</td><td>0</td><td>0</td></tr>\n",
              "    <tr><td>0</td><td>0</td><td>0</td><td>0</td><td>1</td><td>0</td><td>0</td><td>0</td></tr>\n",
              "    <tr><td>0</td><td>0</td><td>0</td><td>0</td><td>0</td><td>1</td><td>0</td><td>0</td></tr>\n",
              "    <tr><td>0</td><td>0</td><td>0</td><td>0</td><td>0</td><td>0</td><td>1</td><td>0</td></tr>\n",
              "    <tr><td>0</td><td>0</td><td>0</td><td>0</td><td>0</td><td>0</td><td>0</td><td>1</td></tr>\n",
              "</tbody>\n",
              "</table>"
            ]
          }
        }
      ],
      "source": [
        "I8 <- diag(rep(1,8))\n",
        "I8"
      ],
      "id": "31cfb1fd-ab1e-4233-9543-1cae23792b89"
    },
    {
      "cell_type": "code",
      "execution_count": 60,
      "metadata": {},
      "outputs": [
        {
          "output_type": "display_data",
          "metadata": {},
          "data": {
            "text/html": [
              "<style>\n",
              ".list-inline {list-style: none; margin:0; padding: 0}\n",
              ".list-inline>li {display: inline-block}\n",
              ".list-inline>li:not(:last-child)::after {content: \"\\00b7\"; padding: 0 .5ex}\n",
              "</style>\n",
              "<ol class=list-inline><li>1</li><li>1</li><li>1</li><li>1</li><li>1</li><li>1</li><li>1</li><li>1</li></ol>"
            ]
          }
        }
      ],
      "source": [
        "one1 <- rep(1,8)\n",
        "one1"
      ],
      "id": "a62a6d6a-e1a7-4a72-a61f-699bd15d435b"
    },
    {
      "cell_type": "code",
      "execution_count": 61,
      "metadata": {},
      "outputs": [
        {
          "output_type": "display_data",
          "metadata": {},
          "data": {
            "text/html": [
              "<table class=\"dataframe\">\n",
              "<caption>A matrix: 8 × 8 of type dbl</caption>\n",
              "<tbody>\n",
              "    <tr><td>1</td><td>1</td><td>1</td><td>1</td><td>1</td><td>1</td><td>1</td><td>1</td></tr>\n",
              "    <tr><td>1</td><td>1</td><td>1</td><td>1</td><td>1</td><td>1</td><td>1</td><td>1</td></tr>\n",
              "    <tr><td>1</td><td>1</td><td>1</td><td>1</td><td>1</td><td>1</td><td>1</td><td>1</td></tr>\n",
              "    <tr><td>1</td><td>1</td><td>1</td><td>1</td><td>1</td><td>1</td><td>1</td><td>1</td></tr>\n",
              "    <tr><td>1</td><td>1</td><td>1</td><td>1</td><td>1</td><td>1</td><td>1</td><td>1</td></tr>\n",
              "    <tr><td>1</td><td>1</td><td>1</td><td>1</td><td>1</td><td>1</td><td>1</td><td>1</td></tr>\n",
              "    <tr><td>1</td><td>1</td><td>1</td><td>1</td><td>1</td><td>1</td><td>1</td><td>1</td></tr>\n",
              "    <tr><td>1</td><td>1</td><td>1</td><td>1</td><td>1</td><td>1</td><td>1</td><td>1</td></tr>\n",
              "</tbody>\n",
              "</table>"
            ]
          }
        }
      ],
      "source": [
        "Jn <- one1 %*% t(one1)\n",
        "Jn"
      ],
      "id": "96ef5874-d74f-4e84-b54f-955424dadaac"
    },
    {
      "cell_type": "code",
      "execution_count": 62,
      "metadata": {},
      "outputs": [
        {
          "output_type": "display_data",
          "metadata": {},
          "data": {
            "text/html": [
              "<table class=\"dataframe\">\n",
              "<caption>A matrix: 3 × 3 of type dbl</caption>\n",
              "<tbody>\n",
              "    <tr><td>0</td><td>  0.000</td><td> 0.00</td></tr>\n",
              "    <tr><td>0</td><td>923.875</td><td>78.25</td></tr>\n",
              "    <tr><td>0</td><td> 78.250</td><td>51.50</td></tr>\n",
              "</tbody>\n",
              "</table>"
            ]
          }
        }
      ],
      "source": [
        "t(x) %*% (I8 - Jn/8) %*% x"
      ],
      "id": "c07bb637-c99f-4c58-b2b9-5fe3e80ab098"
    },
    {
      "cell_type": "markdown",
      "metadata": {},
      "source": [
        "# 3.\n",
        "\n",
        "어떤 공장에서 물의 소비량을 조사하기 위하여 매달의 물소비량($y$),\n",
        "평균온도($x_1$), 작업일수($x_2$)와 작업량($x_3$)에 관한 데이터를 얻었다.\n",
        "\n",
        "| 물소비량$y$(단위:1,000톤) | 평균온도$x_1$(단위:°C) | 작업일수$x_2$(단위:일) | 작업량$x_3$(단위:1,000톤) |\n",
        "|:----------------:|:----------------:|:----------------:|:----------------:|\n",
        "|            2.8            |           10           |           27           |            64             |\n",
        "|            3.9            |           24           |           26           |            72             |\n",
        "|            3.9            |           25           |           28           |            80             |\n",
        "|            4.4            |           28           |           26           |            88             |\n",
        "|            3.1            |           15           |           30           |            81             |\n",
        "|            3.1            |           18           |           24           |            45             |\n",
        "|            3.5            |           22           |           27           |            46             |\n",
        "|            3.6            |           22           |           25           |            69             |\n",
        "|            3.0            |           12           |           27           |            54             |\n",
        "|            3.3            |           15           |           25           |            39             |"
      ],
      "id": "bc59dc08-6b61-4b8e-a9c9-49c867b9c57f"
    },
    {
      "cell_type": "code",
      "execution_count": 63,
      "metadata": {},
      "outputs": [],
      "source": [
        "dt <- data.frame(y=c(2.8,3.9,3.9,4.4,3.1,3.1,3.5,3.6,3.0,3.3),\n",
        "                 x1 = c(10,24,25,28,15,18,22,22,12,15),\n",
        "                 x2 = c(27,26,28,26,30,24,27,25,27,25),\n",
        "                 x3 = c(64,72,80,88,81,45,46,69,54,39))"
      ],
      "id": "7b48e9e8-db84-46ec-969e-5730306ad055"
    },
    {
      "cell_type": "code",
      "execution_count": 64,
      "metadata": {},
      "outputs": [],
      "source": [
        "m3 <- lm(y~., dt)"
      ],
      "id": "8f5d54d8-ec6b-483b-af36-65938281bc83"
    },
    {
      "cell_type": "code",
      "execution_count": 65,
      "metadata": {},
      "outputs": [
        {
          "output_type": "display_data",
          "metadata": {},
          "data": {
            "text/plain": [
              "\n",
              "Call:\n",
              "lm(formula = y ~ ., data = dt)\n",
              "\n",
              "Residuals:\n",
              "     Min       1Q   Median       3Q      Max \n",
              "-0.23490 -0.07744 -0.02166  0.08840  0.23442 \n",
              "\n",
              "Coefficients:\n",
              "             Estimate Std. Error t value Pr(>|t|)   \n",
              "(Intercept)  2.409213   1.125954   2.140  0.07618 . \n",
              "x1           0.069788   0.012640   5.521  0.00149 **\n",
              "x2          -0.024767   0.044830  -0.552  0.60060   \n",
              "x3           0.005864   0.005052   1.161  0.28978   \n",
              "---\n",
              "Signif. codes:  0 ‘***’ 0.001 ‘**’ 0.01 ‘*’ 0.05 ‘.’ 0.1 ‘ ’ 1\n",
              "\n",
              "Residual standard error: 0.172 on 6 degrees of freedom\n",
              "Multiple R-squared:  0.9202,    Adjusted R-squared:  0.8803 \n",
              "F-statistic: 23.05 on 3 and 6 DF,  p-value: 0.001079"
            ]
          }
        }
      ],
      "source": [
        "summary(m3)"
      ],
      "id": "b0fa7cbb-84f5-4784-9bef-511ce1ecf319"
    },
    {
      "cell_type": "code",
      "execution_count": 66,
      "metadata": {},
      "outputs": [
        {
          "output_type": "display_data",
          "metadata": {},
          "data": {
            "text/html": [
              "<table class=\"dataframe\">\n",
              "<caption>A anova: 4 × 5</caption>\n",
              "<thead>\n",
              "    <tr><th></th><th scope=col>Df</th><th scope=col>Sum Sq</th><th scope=col>Mean Sq</th><th scope=col>F value</th><th scope=col>Pr(&gt;F)</th></tr>\n",
              "    <tr><th></th><th scope=col>&lt;int&gt;</th><th scope=col>&lt;dbl&gt;</th><th scope=col>&lt;dbl&gt;</th><th scope=col>&lt;dbl&gt;</th><th scope=col>&lt;dbl&gt;</th></tr>\n",
              "</thead>\n",
              "<tbody>\n",
              "    <tr><th scope=row>x1</th><td>1</td><td>2.004315887</td><td>2.004315887</td><td>67.73858599</td><td>0.0001737553</td></tr>\n",
              "    <tr><th scope=row>x2</th><td>1</td><td>0.002273071</td><td>0.002273071</td><td> 0.07682153</td><td>0.7909535228</td></tr>\n",
              "    <tr><th scope=row>x3</th><td>1</td><td>0.039877142</td><td>0.039877142</td><td> 1.34770234</td><td>0.2897755827</td></tr>\n",
              "    <tr><th scope=row>Residuals</th><td>6</td><td>0.177533900</td><td>0.029588983</td><td>         NA</td><td>          NA</td></tr>\n",
              "</tbody>\n",
              "</table>"
            ]
          }
        }
      ],
      "source": [
        "anova(m3)"
      ],
      "id": "0354c565-6af4-4c7f-a6ab-cd1728bf4399"
    },
    {
      "cell_type": "markdown",
      "metadata": {},
      "source": [
        "## (1)\n",
        "\n",
        "데이터로부터 회귀모형,\n",
        "$\\hat{y} = \\hat{\\beta}_0 + \\hat{\\beta}_1 x_1 + \\hat{\\beta}_2 x_2 + \\hat{\\beta}_3 x_3$\n",
        "을 구하여라. 그리고 어째서 이 모형이 선택되었는가에 대하여 토의하시오."
      ],
      "id": "c47aeabc-1380-41fa-8290-9037f3a98011"
    },
    {
      "cell_type": "code",
      "execution_count": 67,
      "metadata": {},
      "outputs": [],
      "source": [
        "x = matrix(c(rep(1,10),dt$x1, dt$x2, dt$x3), ncol=4)"
      ],
      "id": "56b00990-786b-4a6b-adae-a0ea8d1ca332"
    },
    {
      "cell_type": "code",
      "execution_count": 68,
      "metadata": {},
      "outputs": [],
      "source": [
        "y = dt$y"
      ],
      "id": "b1504911-a2ba-4fa3-90f5-2e5651fd9c7e"
    },
    {
      "cell_type": "code",
      "execution_count": 69,
      "metadata": {},
      "outputs": [
        {
          "output_type": "display_data",
          "metadata": {},
          "data": {
            "text/html": [
              "<table class=\"dataframe\">\n",
              "<caption>A matrix: 4 × 4 of type dbl</caption>\n",
              "<tbody>\n",
              "    <tr><td> 10</td><td>  191</td><td>  265</td><td>  638</td></tr>\n",
              "    <tr><td>191</td><td> 3971</td><td> 5047</td><td>12620</td></tr>\n",
              "    <tr><td>265</td><td> 5047</td><td> 7049</td><td>17038</td></tr>\n",
              "    <tr><td>638</td><td>12620</td><td>17038</td><td>43324</td></tr>\n",
              "</tbody>\n",
              "</table>"
            ]
          }
        }
      ],
      "source": [
        "xx <- t(x) %*% x\n",
        "xx"
      ],
      "id": "f0f228f2-278f-494c-8275-1fd5b4317c1a"
    },
    {
      "cell_type": "code",
      "execution_count": 70,
      "metadata": {},
      "outputs": [
        {
          "output_type": "display_data",
          "metadata": {},
          "data": {
            "text/html": [
              "<table class=\"dataframe\">\n",
              "<caption>A matrix: 4 × 4 of type dbl</caption>\n",
              "<tbody>\n",
              "    <tr><td>42.8460778</td><td>-0.274517258</td><td>-1.666784957</td><td> 0.1044984818</td></tr>\n",
              "    <tr><td>-0.2745173</td><td> 0.005399764</td><td> 0.009802163</td><td>-0.0013851965</td></tr>\n",
              "    <tr><td>-1.6667850</td><td> 0.009802163</td><td> 0.067921641</td><td>-0.0050213139</td></tr>\n",
              "    <tr><td> 0.1044985</td><td>-0.001385196</td><td>-0.005021314</td><td> 0.0008624387</td></tr>\n",
              "</tbody>\n",
              "</table>"
            ]
          }
        }
      ],
      "source": [
        "xx_i <- solve(xx)\n",
        "xx_i"
      ],
      "id": "8694e3de-c537-40e0-941a-52c0723b84b4"
    },
    {
      "cell_type": "code",
      "execution_count": 71,
      "metadata": {},
      "outputs": [
        {
          "output_type": "display_data",
          "metadata": {},
          "data": {
            "text/html": [
              "<table class=\"dataframe\">\n",
              "<caption>A matrix: 4 × 1 of type dbl</caption>\n",
              "<tbody>\n",
              "    <tr><td>  34.6</td></tr>\n",
              "    <tr><td> 686.3</td></tr>\n",
              "    <tr><td> 916.0</td></tr>\n",
              "    <tr><td>2249.9</td></tr>\n",
              "</tbody>\n",
              "</table>"
            ]
          }
        }
      ],
      "source": [
        "xy <- t(x) %*% y\n",
        "xy"
      ],
      "id": "e4b8ba16-08f3-4672-9f15-1e25c0cd4709"
    },
    {
      "cell_type": "code",
      "execution_count": 72,
      "metadata": {},
      "outputs": [
        {
          "output_type": "display_data",
          "metadata": {},
          "data": {
            "text/html": [
              "<table class=\"dataframe\">\n",
              "<caption>A matrix: 1 × 1 of type dbl</caption>\n",
              "<tbody>\n",
              "    <tr><td>121.94</td></tr>\n",
              "</tbody>\n",
              "</table>"
            ]
          }
        }
      ],
      "source": [
        "yy <- t(y) %*% y\n",
        "yy"
      ],
      "id": "40f59522-36a1-4ea5-bd9c-0112801916a0"
    },
    {
      "cell_type": "code",
      "execution_count": 73,
      "metadata": {},
      "outputs": [
        {
          "output_type": "display_data",
          "metadata": {},
          "data": {
            "text/html": [
              "<table class=\"dataframe\">\n",
              "<caption>A matrix: 4 × 1 of type dbl</caption>\n",
              "<tbody>\n",
              "    <tr><td> 2.409213010</td></tr>\n",
              "    <tr><td> 0.069788005</td></tr>\n",
              "    <tr><td>-0.024766597</td></tr>\n",
              "    <tr><td> 0.005864434</td></tr>\n",
              "</tbody>\n",
              "</table>"
            ]
          }
        }
      ],
      "source": [
        "b <- xx_i %*% xy\n",
        "b"
      ],
      "id": "fd62d1c5-c6e0-46ee-b6de-7057965419da"
    },
    {
      "cell_type": "markdown",
      "metadata": {},
      "source": [
        "$\\hat{y} = 2.409 + 0.0698x_1 - 0.0248x_2 + 0.0059x_3$\n",
        "\n",
        "## (2)\n",
        "\n",
        "$\\hat{\\beta}_1, \\hat{\\beta}_2$와 $\\hat{\\beta}_3$의 의미는 무엇인가?\n",
        "\n",
        "$\\hat{\\beta}_1$ : 작업일수, 작업량이 변하지 않을 때, 평균온도가 1도씨\n",
        "증가하면 물소비량은 69.8톤 증가한다.\n",
        "\n",
        "$\\hat{\\beta}_2$ : 평균온도, 작업량이 변하지 않을 때, 작업일수가 1일\n",
        "증가하면 물소비량은 24.8톤 감소한다.\n",
        "\n",
        "$\\hat{\\beta}_3$ : 평균온도, 작업일수이 변하지 않을 때, 작업량이 1000톤\n",
        "증가하면 물소비량은 5.9톤 증가한다.\n",
        "\n",
        "## (3)\n",
        "\n",
        "$Var(\\hat{\\beta}_3)$을 구하시오. $\\sigma^2$을 MSE 로 추정하면\n",
        "$\\hat{Var}(\\hat{\\beta}_3)$은 무엇인가?"
      ],
      "id": "dda3a1cc-ccdf-45c3-a8de-d3fe7df28f4c"
    },
    {
      "cell_type": "code",
      "execution_count": 74,
      "metadata": {},
      "outputs": [
        {
          "output_type": "display_data",
          "metadata": {},
          "data": {
            "text/html": [
              "<table class=\"dataframe\">\n",
              "<caption>A matrix: 4 × 4 of type dbl</caption>\n",
              "<thead>\n",
              "    <tr><th></th><th scope=col>Estimate</th><th scope=col>Std. Error</th><th scope=col>t value</th><th scope=col>Pr(&gt;|t|)</th></tr>\n",
              "</thead>\n",
              "<tbody>\n",
              "    <tr><th scope=row>(Intercept)</th><td> 2.409213010</td><td>1.125953765</td><td> 2.1397087</td><td>0.076181015</td></tr>\n",
              "    <tr><th scope=row>x1</th><td> 0.069788005</td><td>0.012640155</td><td> 5.5211353</td><td>0.001485354</td></tr>\n",
              "    <tr><th scope=row>x2</th><td>-0.024766597</td><td>0.044830038</td><td>-0.5524554</td><td>0.600595338</td></tr>\n",
              "    <tr><th scope=row>x3</th><td> 0.005864434</td><td>0.005051602</td><td> 1.1609058</td><td>0.289775583</td></tr>\n",
              "</tbody>\n",
              "</table>"
            ]
          }
        }
      ],
      "source": [
        "summary(m3)$coefficients"
      ],
      "id": "73dd0150-136b-4f16-86b1-e36bc9510d06"
    },
    {
      "cell_type": "markdown",
      "metadata": {},
      "source": [
        "$var(\\beta_3) = (x^\\top x)^{-1}_{(4,4)} \\sigma^2$"
      ],
      "id": "488a6b24-cd5d-4e98-99a2-0efe7ecbe673"
    },
    {
      "cell_type": "code",
      "execution_count": 75,
      "metadata": {},
      "outputs": [
        {
          "output_type": "display_data",
          "metadata": {},
          "data": {
            "text/html": [
              "0.000862438702127396"
            ]
          }
        }
      ],
      "source": [
        "xx_i[4,4]\n",
        "## 0.0009*sigma^2"
      ],
      "id": "a3c57b2f-4627-467e-8d86-368eb5d7412a"
    },
    {
      "cell_type": "code",
      "execution_count": 76,
      "metadata": {},
      "outputs": [
        {
          "output_type": "display_data",
          "metadata": {},
          "data": {
            "text/html": [
              "<table class=\"dataframe\">\n",
              "<caption>A matrix: 1 × 1 of type dbl</caption>\n",
              "<tbody>\n",
              "    <tr><td>0.4037738</td></tr>\n",
              "</tbody>\n",
              "</table>"
            ]
          }
        }
      ],
      "source": [
        "hat_var_b3 <- xx_i[4,4] * mse\n",
        "hat_var_b3"
      ],
      "id": "592301ab-99e2-4ab3-8206-223cca11b0bd"
    },
    {
      "cell_type": "markdown",
      "metadata": {},
      "source": [
        "$var(\\hat{\\beta}_3) = 0.0000255$\n",
        "\n",
        "## (4)\n",
        "\n",
        "분산분석표를 작성하고, 결정계수 $R^2$을 구하시오."
      ],
      "id": "86aeb733-59ab-438a-8f5f-00ce230b6116"
    },
    {
      "cell_type": "code",
      "execution_count": 77,
      "metadata": {},
      "outputs": [
        {
          "output_type": "display_data",
          "metadata": {},
          "data": {
            "text/html": [
              "<table class=\"dataframe\">\n",
              "<caption>A anova: 4 × 5</caption>\n",
              "<thead>\n",
              "    <tr><th></th><th scope=col>Df</th><th scope=col>Sum Sq</th><th scope=col>Mean Sq</th><th scope=col>F value</th><th scope=col>Pr(&gt;F)</th></tr>\n",
              "    <tr><th></th><th scope=col>&lt;int&gt;</th><th scope=col>&lt;dbl&gt;</th><th scope=col>&lt;dbl&gt;</th><th scope=col>&lt;dbl&gt;</th><th scope=col>&lt;dbl&gt;</th></tr>\n",
              "</thead>\n",
              "<tbody>\n",
              "    <tr><th scope=row>x1</th><td>1</td><td>2.004315887</td><td>2.004315887</td><td>67.73858599</td><td>0.0001737553</td></tr>\n",
              "    <tr><th scope=row>x2</th><td>1</td><td>0.002273071</td><td>0.002273071</td><td> 0.07682153</td><td>0.7909535228</td></tr>\n",
              "    <tr><th scope=row>x3</th><td>1</td><td>0.039877142</td><td>0.039877142</td><td> 1.34770234</td><td>0.2897755827</td></tr>\n",
              "    <tr><th scope=row>Residuals</th><td>6</td><td>0.177533900</td><td>0.029588983</td><td>         NA</td><td>          NA</td></tr>\n",
              "</tbody>\n",
              "</table>"
            ]
          }
        }
      ],
      "source": [
        "anova(m3)"
      ],
      "id": "4bed1ce7-0e91-47dd-ba2b-88edcb13851e"
    },
    {
      "cell_type": "code",
      "execution_count": 78,
      "metadata": {},
      "outputs": [
        {
          "output_type": "display_data",
          "metadata": {},
          "data": {
            "text/html": [
              "<table class=\"dataframe\">\n",
              "<caption>A matrix: 10 × 10 of type dbl</caption>\n",
              "<tbody>\n",
              "    <tr><td>1</td><td>0</td><td>0</td><td>0</td><td>0</td><td>0</td><td>0</td><td>0</td><td>0</td><td>0</td></tr>\n",
              "    <tr><td>0</td><td>1</td><td>0</td><td>0</td><td>0</td><td>0</td><td>0</td><td>0</td><td>0</td><td>0</td></tr>\n",
              "    <tr><td>0</td><td>0</td><td>1</td><td>0</td><td>0</td><td>0</td><td>0</td><td>0</td><td>0</td><td>0</td></tr>\n",
              "    <tr><td>0</td><td>0</td><td>0</td><td>1</td><td>0</td><td>0</td><td>0</td><td>0</td><td>0</td><td>0</td></tr>\n",
              "    <tr><td>0</td><td>0</td><td>0</td><td>0</td><td>1</td><td>0</td><td>0</td><td>0</td><td>0</td><td>0</td></tr>\n",
              "    <tr><td>0</td><td>0</td><td>0</td><td>0</td><td>0</td><td>1</td><td>0</td><td>0</td><td>0</td><td>0</td></tr>\n",
              "    <tr><td>0</td><td>0</td><td>0</td><td>0</td><td>0</td><td>0</td><td>1</td><td>0</td><td>0</td><td>0</td></tr>\n",
              "    <tr><td>0</td><td>0</td><td>0</td><td>0</td><td>0</td><td>0</td><td>0</td><td>1</td><td>0</td><td>0</td></tr>\n",
              "    <tr><td>0</td><td>0</td><td>0</td><td>0</td><td>0</td><td>0</td><td>0</td><td>0</td><td>1</td><td>0</td></tr>\n",
              "    <tr><td>0</td><td>0</td><td>0</td><td>0</td><td>0</td><td>0</td><td>0</td><td>0</td><td>0</td><td>1</td></tr>\n",
              "</tbody>\n",
              "</table>"
            ]
          }
        }
      ],
      "source": [
        "I10 = diag(rep(1,10))\n",
        "I10"
      ],
      "id": "c1da6a0c-b1b0-45c0-96f1-d0991b8a48ed"
    },
    {
      "cell_type": "code",
      "execution_count": 79,
      "metadata": {},
      "outputs": [
        {
          "output_type": "display_data",
          "metadata": {},
          "data": {
            "text/html": [
              "<table class=\"dataframe\">\n",
              "<caption>A matrix: 10 × 10 of type dbl</caption>\n",
              "<tbody>\n",
              "    <tr><td> 0.479007503</td><td>-0.005805719</td><td>-0.08066882</td><td>-0.01958705</td><td> 0.26225012</td><td> 0.09655116</td><td>-0.23996631</td><td> 0.10866366</td><td> 0.28730870</td><td> 0.11224675</td></tr>\n",
              "    <tr><td>-0.005805719</td><td> 0.186448902</td><td> 0.16479959</td><td> 0.27196857</td><td> 0.01139329</td><td> 0.10399383</td><td> 0.06627062</td><td> 0.18477003</td><td>-0.01335934</td><td> 0.02952023</td></tr>\n",
              "    <tr><td>-0.080668821</td><td> 0.164799589</td><td> 0.33179614</td><td> 0.23355629</td><td> 0.24558622</td><td>-0.08987596</td><td> 0.23998739</td><td> 0.04338569</td><td>-0.01509426</td><td>-0.07347228</td></tr>\n",
              "    <tr><td>-0.019587049</td><td> 0.271968566</td><td> 0.23355629</td><td> 0.48736361</td><td> 0.01178437</td><td> 0.05219047</td><td>-0.10292798</td><td> 0.28777554</td><td>-0.11085118</td><td>-0.11127263</td></tr>\n",
              "    <tr><td> 0.262250120</td><td> 0.011393292</td><td> 0.24558622</td><td> 0.01178437</td><td> 0.58743384</td><td>-0.22034983</td><td> 0.06947229</td><td>-0.08527926</td><td> 0.20954991</td><td>-0.09184095</td></tr>\n",
              "    <tr><td> 0.096551163</td><td> 0.103993827</td><td>-0.08987596</td><td> 0.05219047</td><td>-0.22034983</td><td> 0.36048096</td><td> 0.08217297</td><td> 0.20539705</td><td> 0.10911272</td><td> 0.30032662</td></tr>\n",
              "    <tr><td>-0.239966310</td><td> 0.066270622</td><td> 0.23998739</td><td>-0.10292798</td><td> 0.06947229</td><td> 0.08217297</td><td> 0.69646084</td><td>-0.11029224</td><td> 0.06925883</td><td> 0.22956358</td></tr>\n",
              "    <tr><td> 0.108663660</td><td> 0.184770026</td><td> 0.04338569</td><td> 0.28777554</td><td>-0.08527926</td><td> 0.20539705</td><td>-0.11029224</td><td> 0.27283220</td><td> 0.01617393</td><td> 0.07657339</td></tr>\n",
              "    <tr><td> 0.287308704</td><td>-0.013359337</td><td>-0.01509426</td><td>-0.11085118</td><td> 0.20954991</td><td> 0.10911272</td><td> 0.06925883</td><td> 0.01617393</td><td> 0.25886069</td><td> 0.18903998</td></tr>\n",
              "    <tr><td> 0.112246749</td><td> 0.029520231</td><td>-0.07347228</td><td>-0.11127263</td><td>-0.09184095</td><td> 0.30032662</td><td> 0.22956358</td><td> 0.07657339</td><td> 0.18903998</td><td> 0.33931531</td></tr>\n",
              "</tbody>\n",
              "</table>"
            ]
          }
        }
      ],
      "source": [
        "H = x %*% xx_i %*% t(x)\n",
        "H"
      ],
      "id": "0dce6598-c48b-47c8-879f-0a28f5dbf688"
    },
    {
      "cell_type": "markdown",
      "metadata": {},
      "source": [
        "$SSE = y^\\top (I-H)y$\n",
        "\n",
        "$SST = y^\\top y - n(\\bar{y})^2$"
      ],
      "id": "19880ea5-efc2-4234-bee0-f3d2ea260023"
    },
    {
      "cell_type": "code",
      "execution_count": 80,
      "metadata": {},
      "outputs": [
        {
          "output_type": "display_data",
          "metadata": {},
          "data": {
            "text/html": [
              "<table class=\"dataframe\">\n",
              "<caption>A matrix: 1 × 1 of type dbl</caption>\n",
              "<tbody>\n",
              "    <tr><td>0.1775339</td></tr>\n",
              "</tbody>\n",
              "</table>"
            ]
          }
        }
      ],
      "source": [
        "sse = t(y) %*% (I10-H) %*% y\n",
        "sse"
      ],
      "id": "8339f932-8678-4e2f-b343-e4151a28ae58"
    },
    {
      "cell_type": "code",
      "execution_count": 81,
      "metadata": {},
      "outputs": [
        {
          "output_type": "display_data",
          "metadata": {},
          "data": {
            "text/html": [
              "<table class=\"dataframe\">\n",
              "<caption>A matrix: 1 × 1 of type dbl</caption>\n",
              "<tbody>\n",
              "    <tr><td>2.224</td></tr>\n",
              "</tbody>\n",
              "</table>"
            ]
          }
        }
      ],
      "source": [
        "sst = t(y) %*% y - 10 * mean(y)^2\n",
        "sst"
      ],
      "id": "7b308730-8841-4651-968a-92c2efc07aff"
    },
    {
      "cell_type": "code",
      "execution_count": 82,
      "metadata": {},
      "outputs": [
        {
          "output_type": "display_data",
          "metadata": {},
          "data": {
            "text/html": [
              "<table class=\"dataframe\">\n",
              "<caption>A matrix: 1 × 1 of type dbl</caption>\n",
              "<tbody>\n",
              "    <tr><td>2.046466</td></tr>\n",
              "</tbody>\n",
              "</table>"
            ]
          }
        }
      ],
      "source": [
        "ssr = sst- sse\n",
        "ssr"
      ],
      "id": "faaa80ee-b504-40ed-a70d-ed056152ca41"
    },
    {
      "cell_type": "code",
      "execution_count": 83,
      "metadata": {},
      "outputs": [
        {
          "output_type": "display_data",
          "metadata": {},
          "data": {
            "text/html": [
              "<table class=\"dataframe\">\n",
              "<caption>A matrix: 1 × 1 of type dbl</caption>\n",
              "<tbody>\n",
              "    <tr><td>0.6821554</td></tr>\n",
              "</tbody>\n",
              "</table>"
            ]
          }
        }
      ],
      "source": [
        "msr = ssr/3\n",
        "msr"
      ],
      "id": "01cae4ad-e941-4389-9b63-14b3d95b86a8"
    },
    {
      "cell_type": "code",
      "execution_count": 84,
      "metadata": {},
      "outputs": [
        {
          "output_type": "display_data",
          "metadata": {},
          "data": {
            "text/html": [
              "<table class=\"dataframe\">\n",
              "<caption>A matrix: 1 × 1 of type dbl</caption>\n",
              "<tbody>\n",
              "    <tr><td>0.02958898</td></tr>\n",
              "</tbody>\n",
              "</table>"
            ]
          }
        }
      ],
      "source": [
        "mse = sse/6\n",
        "mse"
      ],
      "id": "249920b0-ae54-4581-bd0d-50a00fd9a0bf"
    },
    {
      "cell_type": "code",
      "execution_count": 85,
      "metadata": {},
      "outputs": [
        {
          "output_type": "display_data",
          "metadata": {},
          "data": {
            "text/html": [
              "<table class=\"dataframe\">\n",
              "<caption>A matrix: 1 × 1 of type dbl</caption>\n",
              "<tbody>\n",
              "    <tr><td>23.05437</td></tr>\n",
              "</tbody>\n",
              "</table>"
            ]
          }
        }
      ],
      "source": [
        "f0 = msr/mse\n",
        "f0"
      ],
      "id": "840be8e7-0e24-4b98-8887-db33f7a02fb2"
    },
    {
      "cell_type": "code",
      "execution_count": 86,
      "metadata": {},
      "outputs": [
        {
          "output_type": "display_data",
          "metadata": {},
          "data": {
            "text/html": [
              "4.75706266308941"
            ]
          }
        }
      ],
      "source": [
        "qf(0.95,3,6)"
      ],
      "id": "46985b00-88e6-48b9-afcd-23cd09e03b59"
    },
    {
      "cell_type": "markdown",
      "metadata": {},
      "source": [
        "| 요인 | 제곱합 | 자유도(df) | 평균제곱(MS) |  $F_0$  | 유의확률 |\n",
        "|:----:|:------:|:----------:|:------------:|:-------:|:--------:|\n",
        "| 회귀 | 2.0465 |     3      |    0.6822    | 23.0544 |  4.7571  |\n",
        "| 잔차 | 0.1775 |     6      |    0.0296    |         |          |\n",
        "|  계  | 2.2240 |     9      |              |         |          |\n",
        "\n",
        "$R^2$"
      ],
      "id": "79193d66-75fd-4e50-aaa9-86a86d5eecc3"
    },
    {
      "cell_type": "code",
      "execution_count": 87,
      "metadata": {},
      "outputs": [
        {
          "output_type": "display_data",
          "metadata": {},
          "data": {
            "text/html": [
              "<table class=\"dataframe\">\n",
              "<caption>A matrix: 1 × 1 of type dbl</caption>\n",
              "<tbody>\n",
              "    <tr><td>0.9201736</td></tr>\n",
              "</tbody>\n",
              "</table>"
            ]
          }
        }
      ],
      "source": [
        "ssr/sst\n",
        "#0.9202"
      ],
      "id": "31ccca25-8919-487f-ac6e-c31c46acb9db"
    },
    {
      "cell_type": "markdown",
      "metadata": {},
      "source": [
        "## (5)\n",
        "\n",
        "$x_1 = 20, x_2 = 27, x_3 = 60$에서 평균 물소비량을 추정하시오. 이 추정된\n",
        "소비량의 표준편차의 추정값을 구하시오."
      ],
      "id": "7433530a-9175-4fda-a9ed-372a28d919ad"
    },
    {
      "cell_type": "code",
      "execution_count": 88,
      "metadata": {},
      "outputs": [
        {
          "output_type": "display_data",
          "metadata": {},
          "data": {
            "text/html": [
              "<table class=\"dataframe\">\n",
              "<caption>A data.frame: 1 × 3</caption>\n",
              "<thead>\n",
              "    <tr><th scope=col>x1</th><th scope=col>x2</th><th scope=col>x3</th></tr>\n",
              "    <tr><th scope=col>&lt;dbl&gt;</th><th scope=col>&lt;dbl&gt;</th><th scope=col>&lt;dbl&gt;</th></tr>\n",
              "</thead>\n",
              "<tbody>\n",
              "    <tr><td>20</td><td>27</td><td>60</td></tr>\n",
              "</tbody>\n",
              "</table>"
            ]
          }
        }
      ],
      "source": [
        "new_dt <- data.frame(x1=20, x2=27, x3 = 60)\n",
        "new_dt"
      ],
      "id": "ca0a71e9-a617-4464-92b4-65f1a535e162"
    },
    {
      "cell_type": "code",
      "execution_count": 89,
      "metadata": {},
      "outputs": [
        {
          "output_type": "display_data",
          "metadata": {},
          "data": {
            "text/html": [
              "<strong>1:</strong> 3.48814105556645"
            ]
          }
        }
      ],
      "source": [
        "predict(m3, newdata = new_dt)"
      ],
      "id": "3f8ab0dd-7c90-41a4-a91f-2f87e9be2825"
    },
    {
      "cell_type": "code",
      "execution_count": 90,
      "metadata": {},
      "outputs": [
        {
          "output_type": "display_data",
          "metadata": {},
          "data": {
            "text/html": [
              "<style>\n",
              ".list-inline {list-style: none; margin:0; padding: 0}\n",
              ".list-inline>li {display: inline-block}\n",
              ".list-inline>li:not(:last-child)::after {content: \"\\00b7\"; padding: 0 .5ex}\n",
              "</style>\n",
              "<ol class=list-inline><li>1</li><li>20</li><li>27</li><li>60</li></ol>"
            ]
          }
        }
      ],
      "source": [
        "x0 <- c(1,20,27,60)\n",
        "x0"
      ],
      "id": "c778b36e-456d-4f00-81ae-a46e2456ee23"
    },
    {
      "cell_type": "code",
      "execution_count": 91,
      "metadata": {},
      "outputs": [
        {
          "output_type": "display_data",
          "metadata": {},
          "data": {
            "text/html": [
              "<table class=\"dataframe\">\n",
              "<caption>A matrix: 1 × 1 of type dbl</caption>\n",
              "<tbody>\n",
              "    <tr><td>3.488141</td></tr>\n",
              "</tbody>\n",
              "</table>"
            ]
          }
        }
      ],
      "source": [
        "mu0 <- x0 %*% b\n",
        "mu0"
      ],
      "id": "b62059c1-1a6f-45ac-b0fe-60ce5492b7f2"
    },
    {
      "cell_type": "markdown",
      "metadata": {},
      "source": [
        "$\\hat{\\mu}_0 = 3.4881$"
      ],
      "id": "3e5e39a6-4fa5-4255-81a7-3e65db80c009"
    },
    {
      "cell_type": "code",
      "execution_count": 92,
      "metadata": {},
      "outputs": [
        {
          "output_type": "display_data",
          "metadata": {},
          "data": {
            "text/html": [
              "<table class=\"dataframe\">\n",
              "<caption>A matrix: 1 × 1 of type dbl</caption>\n",
              "<tbody>\n",
              "    <tr><td>0.005065205</td></tr>\n",
              "</tbody>\n",
              "</table>"
            ]
          }
        }
      ],
      "source": [
        "var_mu0 <- (t(x0) %*% xx_i %*% x0) * mse\n",
        "var_mu0"
      ],
      "id": "2efbc660-f3f2-4bf0-9482-e0badbfeb3c2"
    },
    {
      "cell_type": "code",
      "execution_count": 93,
      "metadata": {},
      "outputs": [
        {
          "output_type": "display_data",
          "metadata": {},
          "data": {
            "text/html": [
              "<table class=\"dataframe\">\n",
              "<caption>A matrix: 1 × 1 of type dbl</caption>\n",
              "<tbody>\n",
              "    <tr><td>0.07117026</td></tr>\n",
              "</tbody>\n",
              "</table>"
            ]
          }
        }
      ],
      "source": [
        "sqrt(var_mu0)\n",
        "# se(hat mu0) = 0.0712"
      ],
      "id": "f2d8a63f-6dc4-4379-b575-b44adabb2524"
    },
    {
      "cell_type": "markdown",
      "metadata": {},
      "source": [
        "## (6)\n",
        "\n",
        "$x_1 = 20, x_2 = 27, x_3 = 60$에서 어느 한 달의 물소비량 $y_s$ 를\n",
        "예측하여라. 이 예측된 물소비량의 표준편차의 추정값을 구하시오."
      ],
      "id": "c9776a35-fc25-4619-ad4e-8bf19121e25c"
    },
    {
      "cell_type": "code",
      "execution_count": 94,
      "metadata": {},
      "outputs": [
        {
          "output_type": "display_data",
          "metadata": {},
          "data": {
            "text/html": [
              "<style>\n",
              ".list-inline {list-style: none; margin:0; padding: 0}\n",
              ".list-inline>li {display: inline-block}\n",
              ".list-inline>li:not(:last-child)::after {content: \"\\00b7\"; padding: 0 .5ex}\n",
              "</style>\n",
              "<ol class=list-inline><li>1</li><li>20</li><li>27</li><li>60</li></ol>"
            ]
          }
        }
      ],
      "source": [
        "x0 <- c(1,20,27,60)\n",
        "x0"
      ],
      "id": "922c2ea4-ff31-44ec-b204-077475ed7858"
    },
    {
      "cell_type": "code",
      "execution_count": 95,
      "metadata": {},
      "outputs": [
        {
          "output_type": "display_data",
          "metadata": {},
          "data": {
            "text/html": [
              "<table class=\"dataframe\">\n",
              "<caption>A matrix: 1 × 1 of type dbl</caption>\n",
              "<tbody>\n",
              "    <tr><td>3.488141</td></tr>\n",
              "</tbody>\n",
              "</table>"
            ]
          }
        }
      ],
      "source": [
        "mu0 <- x0 %*% b\n",
        "mu0"
      ],
      "id": "459853d3-9e87-4cbe-915e-8526e352ebbe"
    },
    {
      "cell_type": "markdown",
      "metadata": {},
      "source": [
        "$\\hat{y}_s = 3.4881$"
      ],
      "id": "89158c4e-8736-4a77-8815-454413eb1b1f"
    },
    {
      "cell_type": "code",
      "execution_count": 96,
      "metadata": {},
      "outputs": [
        {
          "output_type": "display_data",
          "metadata": {},
          "data": {
            "text/html": [
              "<table class=\"dataframe\">\n",
              "<caption>A matrix: 1 × 1 of type dbl</caption>\n",
              "<tbody>\n",
              "    <tr><td>0.03465419</td></tr>\n",
              "</tbody>\n",
              "</table>"
            ]
          }
        }
      ],
      "source": [
        "var_ys <- (1+t(x0) %*% xx_i %*% x0) * mse\n",
        "var_ys"
      ],
      "id": "f6ce065a-0f5f-4d24-9cd7-aed0ef4fcdfe"
    },
    {
      "cell_type": "code",
      "execution_count": 97,
      "metadata": {},
      "outputs": [
        {
          "output_type": "display_data",
          "metadata": {},
          "data": {
            "text/html": [
              "<table class=\"dataframe\">\n",
              "<caption>A matrix: 1 × 1 of type dbl</caption>\n",
              "<tbody>\n",
              "    <tr><td>0.1861564</td></tr>\n",
              "</tbody>\n",
              "</table>"
            ]
          }
        }
      ],
      "source": [
        "sqrt(var_ys)\n",
        "# se(hat ys) = 0.1862"
      ],
      "id": "227b6018-0bb4-409d-b6a0-7de988b0e2d6"
    },
    {
      "cell_type": "markdown",
      "metadata": {},
      "source": [
        "## (7)\n",
        "\n",
        "$y_j = \\beta_0 + \\beta_1 x_{1j} + \\beta_2 x_{2j} + \\epsilon_j$ 라\n",
        "가정하고 회귀제곱합 SSR의 기대값을 $\\sigma^2$과\n",
        "$\\beta_i, i = 0, 1, 2, 3$의 함수로 표시하여라."
      ],
      "id": "48521f3c-12f5-4cd0-a3ed-e2aabc92600d"
    },
    {
      "cell_type": "code",
      "execution_count": 98,
      "metadata": {},
      "outputs": [
        {
          "output_type": "display_data",
          "metadata": {},
          "data": {
            "text/html": [
              "<table class=\"dataframe\">\n",
              "<caption>A matrix: 10 × 10 of type dbl</caption>\n",
              "<tbody>\n",
              "    <tr><td>1</td><td>0</td><td>0</td><td>0</td><td>0</td><td>0</td><td>0</td><td>0</td><td>0</td><td>0</td></tr>\n",
              "    <tr><td>0</td><td>1</td><td>0</td><td>0</td><td>0</td><td>0</td><td>0</td><td>0</td><td>0</td><td>0</td></tr>\n",
              "    <tr><td>0</td><td>0</td><td>1</td><td>0</td><td>0</td><td>0</td><td>0</td><td>0</td><td>0</td><td>0</td></tr>\n",
              "    <tr><td>0</td><td>0</td><td>0</td><td>1</td><td>0</td><td>0</td><td>0</td><td>0</td><td>0</td><td>0</td></tr>\n",
              "    <tr><td>0</td><td>0</td><td>0</td><td>0</td><td>1</td><td>0</td><td>0</td><td>0</td><td>0</td><td>0</td></tr>\n",
              "    <tr><td>0</td><td>0</td><td>0</td><td>0</td><td>0</td><td>1</td><td>0</td><td>0</td><td>0</td><td>0</td></tr>\n",
              "    <tr><td>0</td><td>0</td><td>0</td><td>0</td><td>0</td><td>0</td><td>1</td><td>0</td><td>0</td><td>0</td></tr>\n",
              "    <tr><td>0</td><td>0</td><td>0</td><td>0</td><td>0</td><td>0</td><td>0</td><td>1</td><td>0</td><td>0</td></tr>\n",
              "    <tr><td>0</td><td>0</td><td>0</td><td>0</td><td>0</td><td>0</td><td>0</td><td>0</td><td>1</td><td>0</td></tr>\n",
              "    <tr><td>0</td><td>0</td><td>0</td><td>0</td><td>0</td><td>0</td><td>0</td><td>0</td><td>0</td><td>1</td></tr>\n",
              "</tbody>\n",
              "</table>"
            ]
          }
        }
      ],
      "source": [
        "I10 <- diag(rep(1,10))\n",
        "I10"
      ],
      "id": "68c7a7ad-7a25-4719-8da3-27081069069a"
    },
    {
      "cell_type": "code",
      "execution_count": 99,
      "metadata": {},
      "outputs": [
        {
          "output_type": "display_data",
          "metadata": {},
          "data": {
            "text/html": [
              "<style>\n",
              ".list-inline {list-style: none; margin:0; padding: 0}\n",
              ".list-inline>li {display: inline-block}\n",
              ".list-inline>li:not(:last-child)::after {content: \"\\00b7\"; padding: 0 .5ex}\n",
              "</style>\n",
              "<ol class=list-inline><li>1</li><li>1</li><li>1</li><li>1</li><li>1</li><li>1</li><li>1</li><li>1</li><li>1</li><li>1</li></ol>"
            ]
          }
        }
      ],
      "source": [
        "one1 <- rep(1,10)\n",
        "one1"
      ],
      "id": "75576178-e424-46bd-928b-a4a5df699755"
    },
    {
      "cell_type": "code",
      "execution_count": 100,
      "metadata": {},
      "outputs": [
        {
          "output_type": "display_data",
          "metadata": {},
          "data": {
            "text/html": [
              "<table class=\"dataframe\">\n",
              "<caption>A matrix: 10 × 10 of type dbl</caption>\n",
              "<tbody>\n",
              "    <tr><td>1</td><td>1</td><td>1</td><td>1</td><td>1</td><td>1</td><td>1</td><td>1</td><td>1</td><td>1</td></tr>\n",
              "    <tr><td>1</td><td>1</td><td>1</td><td>1</td><td>1</td><td>1</td><td>1</td><td>1</td><td>1</td><td>1</td></tr>\n",
              "    <tr><td>1</td><td>1</td><td>1</td><td>1</td><td>1</td><td>1</td><td>1</td><td>1</td><td>1</td><td>1</td></tr>\n",
              "    <tr><td>1</td><td>1</td><td>1</td><td>1</td><td>1</td><td>1</td><td>1</td><td>1</td><td>1</td><td>1</td></tr>\n",
              "    <tr><td>1</td><td>1</td><td>1</td><td>1</td><td>1</td><td>1</td><td>1</td><td>1</td><td>1</td><td>1</td></tr>\n",
              "    <tr><td>1</td><td>1</td><td>1</td><td>1</td><td>1</td><td>1</td><td>1</td><td>1</td><td>1</td><td>1</td></tr>\n",
              "    <tr><td>1</td><td>1</td><td>1</td><td>1</td><td>1</td><td>1</td><td>1</td><td>1</td><td>1</td><td>1</td></tr>\n",
              "    <tr><td>1</td><td>1</td><td>1</td><td>1</td><td>1</td><td>1</td><td>1</td><td>1</td><td>1</td><td>1</td></tr>\n",
              "    <tr><td>1</td><td>1</td><td>1</td><td>1</td><td>1</td><td>1</td><td>1</td><td>1</td><td>1</td><td>1</td></tr>\n",
              "    <tr><td>1</td><td>1</td><td>1</td><td>1</td><td>1</td><td>1</td><td>1</td><td>1</td><td>1</td><td>1</td></tr>\n",
              "</tbody>\n",
              "</table>"
            ]
          }
        }
      ],
      "source": [
        "Jn <- one1 %*% t(one1)\n",
        "Jn"
      ],
      "id": "14421357-d6f5-4ed4-965d-94783d49b582"
    },
    {
      "cell_type": "code",
      "execution_count": 101,
      "metadata": {},
      "outputs": [
        {
          "output_type": "display_data",
          "metadata": {},
          "data": {
            "text/html": [
              "<table class=\"dataframe\">\n",
              "<caption>A matrix: 4 × 4 of type dbl</caption>\n",
              "<tbody>\n",
              "    <tr><td> 6.661338e-16</td><td> 1.160183e-14</td><td> 1.751377e-14</td><td>4.096723e-14</td></tr>\n",
              "    <tr><td>-1.065814e-14</td><td> 3.229000e+02</td><td>-1.450000e+01</td><td>4.342000e+02</td></tr>\n",
              "    <tr><td>-1.332268e-14</td><td>-1.450000e+01</td><td> 2.650000e+01</td><td>1.310000e+02</td></tr>\n",
              "    <tr><td>-1.421085e-14</td><td> 4.342000e+02</td><td> 1.310000e+02</td><td>2.619600e+03</td></tr>\n",
              "</tbody>\n",
              "</table>"
            ]
          }
        }
      ],
      "source": [
        "t(x) %*% (I10 - Jn/10) %*% x"
      ],
      "id": "18a83d6a-7ee3-4b94-8812-91cc9b07a6dd"
    },
    {
      "cell_type": "markdown",
      "metadata": {},
      "source": [
        "## (8)\n",
        "\n",
        "$\\beta_3$의 95% 신뢰구간을 구하시오. 이 신뢰구간의 의미를 해석하시오."
      ],
      "id": "f21c01f9-b263-4834-9c0e-003fb8e5b7fe"
    },
    {
      "cell_type": "code",
      "execution_count": 102,
      "metadata": {},
      "outputs": [
        {
          "output_type": "display_data",
          "metadata": {},
          "data": {
            "text/html": [
              "<table class=\"dataframe\">\n",
              "<caption>A matrix: 4 × 2 of type dbl</caption>\n",
              "<thead>\n",
              "    <tr><th></th><th scope=col>2.5 %</th><th scope=col>97.5 %</th></tr>\n",
              "</thead>\n",
              "<tbody>\n",
              "    <tr><th scope=row>(Intercept)</th><td>-0.345896601</td><td>5.16432262</td></tr>\n",
              "    <tr><th scope=row>x1</th><td> 0.038858661</td><td>0.10071735</td></tr>\n",
              "    <tr><th scope=row>x2</th><td>-0.134461748</td><td>0.08492855</td></tr>\n",
              "    <tr><th scope=row>x3</th><td>-0.006496391</td><td>0.01822526</td></tr>\n",
              "</tbody>\n",
              "</table>"
            ]
          }
        }
      ],
      "source": [
        "confint(m3)"
      ],
      "id": "73107d00-c9ae-4391-8d33-c972b1158035"
    },
    {
      "cell_type": "markdown",
      "metadata": {},
      "source": [
        "$\\beta_3 \\pm t_{0.025}(6) se(\\hat{\\beta}_3)$"
      ],
      "id": "f111f1be-aa14-4d37-a125-8b880c7c4d38"
    },
    {
      "cell_type": "code",
      "execution_count": 103,
      "metadata": {},
      "outputs": [
        {
          "output_type": "display_data",
          "metadata": {},
          "data": {
            "text/html": [
              "<table class=\"dataframe\">\n",
              "<caption>A matrix: 1 × 1 of type dbl</caption>\n",
              "<tbody>\n",
              "    <tr><td>-1.548982</td></tr>\n",
              "</tbody>\n",
              "</table>"
            ]
          }
        }
      ],
      "source": [
        "b[4] - qt(0.975,6) * sqrt(hat_var_b3)"
      ],
      "id": "9e2f1c43-1ca6-4af6-9301-45680435c271"
    },
    {
      "cell_type": "code",
      "execution_count": 104,
      "metadata": {},
      "outputs": [
        {
          "output_type": "display_data",
          "metadata": {},
          "data": {
            "text/html": [
              "<table class=\"dataframe\">\n",
              "<caption>A matrix: 1 × 1 of type dbl</caption>\n",
              "<tbody>\n",
              "    <tr><td>1.56071</td></tr>\n",
              "</tbody>\n",
              "</table>"
            ]
          }
        }
      ],
      "source": [
        "b[4] + qt(0.975,6) * sqrt(hat_var_b3)"
      ],
      "id": "1bcd85a3-2410-412c-b8ce-fecf4f179475"
    },
    {
      "cell_type": "code",
      "execution_count": 105,
      "metadata": {},
      "outputs": [],
      "source": [
        "#(-0.0065, 0.0182)"
      ],
      "id": "c7306991-173b-4b71-9b8a-8bd52f9b23d8"
    },
    {
      "cell_type": "markdown",
      "metadata": {},
      "source": [
        "이 신뢰구간이 $\\beta_3$을 포함하고 있을 것이라고 95% 확신한다.\n",
        "\n",
        "## (9)\n",
        "\n",
        "$\\beta_1$의 99% 신뢰구간을 구하시오. 이 신뢰구간의 의미를 해석하시오."
      ],
      "id": "ba1a9012-d080-44a2-8867-bcc144ca1b0b"
    },
    {
      "cell_type": "code",
      "execution_count": 106,
      "metadata": {},
      "outputs": [
        {
          "output_type": "display_data",
          "metadata": {},
          "data": {
            "text/html": [
              "<table class=\"dataframe\">\n",
              "<caption>A matrix: 4 × 2 of type dbl</caption>\n",
              "<thead>\n",
              "    <tr><th></th><th scope=col>0.5 %</th><th scope=col>99.5 %</th></tr>\n",
              "</thead>\n",
              "<tbody>\n",
              "    <tr><th scope=row>(Intercept)</th><td>-1.76517953</td><td>6.58360555</td></tr>\n",
              "    <tr><th scope=row>x1</th><td> 0.02292554</td><td>0.11665047</td></tr>\n",
              "    <tr><th scope=row>x2</th><td>-0.19097074</td><td>0.14143754</td></tr>\n",
              "    <tr><th scope=row>x3</th><td>-0.01286402</td><td>0.02459289</td></tr>\n",
              "</tbody>\n",
              "</table>"
            ]
          }
        }
      ],
      "source": [
        "confint(m3, level=0.99)"
      ],
      "id": "1bfe221f-f2fc-4c03-9391-9585c627cddc"
    },
    {
      "cell_type": "markdown",
      "metadata": {},
      "source": [
        "$\\beta_1 \\pm t_{0.005}(6) se(\\hat{\\beta}_1)$"
      ],
      "id": "75f117ab-4556-4696-bfa0-05cefd5010f6"
    },
    {
      "cell_type": "code",
      "execution_count": 107,
      "metadata": {},
      "outputs": [
        {
          "output_type": "display_data",
          "metadata": {},
          "data": {
            "text/html": [
              "<table class=\"dataframe\">\n",
              "<caption>A matrix: 1 × 1 of type dbl</caption>\n",
              "<tbody>\n",
              "    <tr><td>0.0001597735</td></tr>\n",
              "</tbody>\n",
              "</table>"
            ]
          }
        }
      ],
      "source": [
        "hat_var_b1 = xx_i[2,2] * mse\n",
        "hat_var_b1"
      ],
      "id": "ba6f266e-b829-4c0c-8d98-ac128f56ff4f"
    },
    {
      "cell_type": "code",
      "execution_count": 108,
      "metadata": {},
      "outputs": [
        {
          "output_type": "display_data",
          "metadata": {},
          "data": {
            "text/html": [
              "<table class=\"dataframe\">\n",
              "<caption>A matrix: 1 × 1 of type dbl</caption>\n",
              "<tbody>\n",
              "    <tr><td>0.02292554</td></tr>\n",
              "</tbody>\n",
              "</table>"
            ]
          }
        }
      ],
      "source": [
        "b[2] - qt(0.995,6) * sqrt(hat_var_b1)"
      ],
      "id": "d4014edf-715d-437d-826a-7fe3d135f3cd"
    },
    {
      "cell_type": "code",
      "execution_count": 109,
      "metadata": {},
      "outputs": [
        {
          "output_type": "display_data",
          "metadata": {},
          "data": {
            "text/html": [
              "<table class=\"dataframe\">\n",
              "<caption>A matrix: 1 × 1 of type dbl</caption>\n",
              "<tbody>\n",
              "    <tr><td>0.1166505</td></tr>\n",
              "</tbody>\n",
              "</table>"
            ]
          }
        }
      ],
      "source": [
        "b[2] + qt(0.995,6) * sqrt(hat_var_b1)"
      ],
      "id": "2aec1591-5dc1-46d9-a4be-d1724f18e9dc"
    },
    {
      "cell_type": "code",
      "execution_count": 110,
      "metadata": {},
      "outputs": [],
      "source": [
        "#(0.0229, 0.1167)"
      ],
      "id": "6b6fd7fd-7386-4d3c-ab4a-879d165401d1"
    },
    {
      "cell_type": "markdown",
      "metadata": {},
      "source": [
        "이 신뢰구간이 $\\beta_1$을 포함하고 있을 것이라고 99% 확신한다.\n",
        "\n",
        "## (10)\n",
        "\n",
        "$x_1 = 20, x_2 = 27, x_3 = 60$에서 평균 물소비량, $E(y)$의 95%\n",
        "신뢰구간을 구하시오."
      ],
      "id": "d356511f-794c-4b3e-971e-3526a89aa0b1"
    },
    {
      "cell_type": "code",
      "execution_count": 111,
      "metadata": {},
      "outputs": [
        {
          "output_type": "display_data",
          "metadata": {},
          "data": {
            "text/html": [
              "<table class=\"dataframe\">\n",
              "<caption>A matrix: 1 × 3 of type dbl</caption>\n",
              "<thead>\n",
              "    <tr><th></th><th scope=col>fit</th><th scope=col>lwr</th><th scope=col>upr</th></tr>\n",
              "</thead>\n",
              "<tbody>\n",
              "    <tr><th scope=row>1</th><td>3.488141</td><td>3.313994</td><td>3.662288</td></tr>\n",
              "</tbody>\n",
              "</table>"
            ]
          }
        }
      ],
      "source": [
        "predict(m3, newdata = new_dt, interval = c(\"confidence\"))"
      ],
      "id": "f466cedb-7179-422b-8d35-5dfa3174205a"
    },
    {
      "cell_type": "code",
      "execution_count": 112,
      "metadata": {},
      "outputs": [
        {
          "output_type": "display_data",
          "metadata": {},
          "data": {
            "text/html": [
              "<table class=\"dataframe\">\n",
              "<caption>A matrix: 1 × 1 of type dbl</caption>\n",
              "<tbody>\n",
              "    <tr><td>3.313994</td></tr>\n",
              "</tbody>\n",
              "</table>"
            ]
          }
        }
      ],
      "source": [
        "mu0 - qt(0.975,6) * sqrt(var_mu0)"
      ],
      "id": "b5a8ec94-0e19-4652-a908-190939ecedc3"
    },
    {
      "cell_type": "code",
      "execution_count": 113,
      "metadata": {},
      "outputs": [
        {
          "output_type": "display_data",
          "metadata": {},
          "data": {
            "text/html": [
              "<table class=\"dataframe\">\n",
              "<caption>A matrix: 1 × 1 of type dbl</caption>\n",
              "<tbody>\n",
              "    <tr><td>3.662288</td></tr>\n",
              "</tbody>\n",
              "</table>"
            ]
          }
        }
      ],
      "source": [
        "mu0 + qt(0.975,6) * sqrt(var_mu0)"
      ],
      "id": "953aa97c-87b5-4029-a704-f93f0d7ae927"
    },
    {
      "cell_type": "code",
      "execution_count": 114,
      "metadata": {},
      "outputs": [],
      "source": [
        "#(3.3140, 3.6623)"
      ],
      "id": "13f38eea-3d2b-4394-953b-14191b40184a"
    },
    {
      "cell_type": "markdown",
      "metadata": {},
      "source": [
        "## (11)\n",
        "\n",
        "가설 $H_0 : \\beta_1 = 0, H_1 : \\beta_1 > 0$을 $\\alpha = 0.05$로\n",
        "검정하시오."
      ],
      "id": "3dd7296c-0cc5-4e3d-a508-75ecff26fe4f"
    },
    {
      "cell_type": "code",
      "execution_count": 115,
      "metadata": {},
      "outputs": [
        {
          "output_type": "display_data",
          "metadata": {},
          "data": {
            "text/plain": [
              "\n",
              "Call:\n",
              "lm(formula = y ~ ., data = dt)\n",
              "\n",
              "Residuals:\n",
              "     Min       1Q   Median       3Q      Max \n",
              "-0.23490 -0.07744 -0.02166  0.08840  0.23442 \n",
              "\n",
              "Coefficients:\n",
              "             Estimate Std. Error t value Pr(>|t|)   \n",
              "(Intercept)  2.409213   1.125954   2.140  0.07618 . \n",
              "x1           0.069788   0.012640   5.521  0.00149 **\n",
              "x2          -0.024767   0.044830  -0.552  0.60060   \n",
              "x3           0.005864   0.005052   1.161  0.28978   \n",
              "---\n",
              "Signif. codes:  0 ‘***’ 0.001 ‘**’ 0.01 ‘*’ 0.05 ‘.’ 0.1 ‘ ’ 1\n",
              "\n",
              "Residual standard error: 0.172 on 6 degrees of freedom\n",
              "Multiple R-squared:  0.9202,    Adjusted R-squared:  0.8803 \n",
              "F-statistic: 23.05 on 3 and 6 DF,  p-value: 0.001079"
            ]
          }
        }
      ],
      "source": [
        "summary(m3)"
      ],
      "id": "ed24bd86-df93-4486-b087-37ca7b9e0633"
    },
    {
      "cell_type": "markdown",
      "metadata": {},
      "source": [
        "검정통계량 : $t_0 = \\frac{\\hat{\\beta}_1}{se(\\hat{\\beta}_1)}$"
      ],
      "id": "9a3ed718-aa93-4733-b44b-2b07e2166bc0"
    },
    {
      "cell_type": "code",
      "execution_count": 116,
      "metadata": {},
      "outputs": [
        {
          "output_type": "display_data",
          "metadata": {},
          "data": {
            "text/html": [
              "<table class=\"dataframe\">\n",
              "<caption>A matrix: 1 × 1 of type dbl</caption>\n",
              "<tbody>\n",
              "    <tr><td>5.521135</td></tr>\n",
              "</tbody>\n",
              "</table>"
            ]
          }
        }
      ],
      "source": [
        "t0 <- b[2]/sqrt(hat_var_b1)\n",
        "t0"
      ],
      "id": "96f1053a-5e75-4ca9-a2f3-5d5b119e6a16"
    },
    {
      "cell_type": "markdown",
      "metadata": {},
      "source": [
        "$t_0 = 5.5211$\n",
        "\n",
        "기각역 : $t_{0.05}(6) = 1.9432$"
      ],
      "id": "3017e186-88e0-40d8-ab8e-b9ee48af15f5"
    },
    {
      "cell_type": "code",
      "execution_count": 117,
      "metadata": {},
      "outputs": [
        {
          "output_type": "display_data",
          "metadata": {},
          "data": {
            "text/html": [
              "1.9431802805153"
            ]
          }
        }
      ],
      "source": [
        "qt(0.95,6)"
      ],
      "id": "06ca94ef-b8c7-45f4-85fb-4c24ee693fd9"
    },
    {
      "cell_type": "markdown",
      "metadata": {},
      "source": [
        "결론 : $H_0$ 기각 가능. 즉 유의수준 5%에서 $\\beta_2$는 0보다 크다고 할\n",
        "수 있다.\n",
        "\n",
        "$T = \\frac{\\hat{\\beta}_i - \\beta^0_i}{\\hat{\\sigma} \\sqrt{c_{ii}}}$\n",
        "\n",
        "## (12)\n",
        "\n",
        "가설 $H_0 : \\beta_1 = \\beta_2 = \\beta_3$을 $\\alpha = 0.05$로 검정하시오."
      ],
      "id": "d38216b7-33f9-4d8d-a872-9f27640554a5"
    },
    {
      "cell_type": "code",
      "execution_count": 118,
      "metadata": {},
      "outputs": [
        {
          "output_type": "stream",
          "name": "stderr",
          "text": [
            "Loading required package: carData\n"
          ]
        }
      ],
      "source": [
        "library(car) "
      ],
      "id": "296a12df-77ff-4ed9-add8-13739d420c34"
    },
    {
      "cell_type": "code",
      "execution_count": 119,
      "metadata": {},
      "outputs": [
        {
          "output_type": "display_data",
          "metadata": {},
          "data": {
            "text/html": [
              "<table class=\"dataframe\">\n",
              "<caption>A anova: 2 × 6</caption>\n",
              "<thead>\n",
              "    <tr><th></th><th scope=col>Res.Df</th><th scope=col>RSS</th><th scope=col>Df</th><th scope=col>Sum of Sq</th><th scope=col>F</th><th scope=col>Pr(&gt;F)</th></tr>\n",
              "    <tr><th></th><th scope=col>&lt;dbl&gt;</th><th scope=col>&lt;dbl&gt;</th><th scope=col>&lt;dbl&gt;</th><th scope=col>&lt;dbl&gt;</th><th scope=col>&lt;dbl&gt;</th><th scope=col>&lt;dbl&gt;</th></tr>\n",
              "</thead>\n",
              "<tbody>\n",
              "    <tr><th scope=row>1</th><td>8</td><td>1.1224764</td><td>NA</td><td>       NA</td><td>      NA</td><td>         NA</td></tr>\n",
              "    <tr><th scope=row>2</th><td>6</td><td>0.1775339</td><td> 2</td><td>0.9449425</td><td>15.96781</td><td>0.003956509</td></tr>\n",
              "</tbody>\n",
              "</table>"
            ]
          }
        }
      ],
      "source": [
        "linearHypothesis(m3, matrix(c(0,1,-1,0,0,0,1,-1), byrow = T, nrow=2),c(0,0))"
      ],
      "id": "83e6d866-4719-4606-a40b-93a526a3a323"
    },
    {
      "cell_type": "markdown",
      "metadata": {},
      "source": [
        "$H_0 : \\beta_1 = \\beta_2 = \\beta_3$\n",
        "\n",
        "$T= (0,1,-1,0) (0,0,1,-1)$\n",
        "\n",
        "$y= \\beta_0 + \\beta_1 x_1 + \\beta_1 x_2 + \\beta_1 x_3 + \\epsilon = \\beta_0 + \\beta_1(x_1+x_2+x_3)$"
      ],
      "id": "ef9f0040-85f8-4127-a2be-b9b146b7a38c"
    },
    {
      "cell_type": "code",
      "execution_count": 120,
      "metadata": {},
      "outputs": [
        {
          "output_type": "display_data",
          "metadata": {},
          "data": {
            "text/html": [
              "<table class=\"dataframe\">\n",
              "<caption>A matrix: 10 × 2 of type dbl</caption>\n",
              "<tbody>\n",
              "    <tr><td>1</td><td>101</td></tr>\n",
              "    <tr><td>1</td><td>122</td></tr>\n",
              "    <tr><td>1</td><td>133</td></tr>\n",
              "    <tr><td>1</td><td>142</td></tr>\n",
              "    <tr><td>1</td><td>126</td></tr>\n",
              "    <tr><td>1</td><td> 87</td></tr>\n",
              "    <tr><td>1</td><td> 95</td></tr>\n",
              "    <tr><td>1</td><td>116</td></tr>\n",
              "    <tr><td>1</td><td> 93</td></tr>\n",
              "    <tr><td>1</td><td> 79</td></tr>\n",
              "</tbody>\n",
              "</table>"
            ]
          }
        }
      ],
      "source": [
        "z <- matrix(c(rep(1,10), dt$x1+dt$x2+dt$x3), ncol=2)\n",
        "z"
      ],
      "id": "78428eed-e0c6-42c0-a8c4-88dc627c2c03"
    },
    {
      "cell_type": "code",
      "execution_count": 121,
      "metadata": {},
      "outputs": [
        {
          "output_type": "display_data",
          "metadata": {},
          "data": {
            "text/html": [
              "<table class=\"dataframe\">\n",
              "<caption>A matrix: 2 × 2 of type dbl</caption>\n",
              "<tbody>\n",
              "    <tr><td>  10</td><td>  1094</td></tr>\n",
              "    <tr><td>1094</td><td>123754</td></tr>\n",
              "</tbody>\n",
              "</table>"
            ]
          }
        }
      ],
      "source": [
        "zz <- t(z) %*% z\n",
        "zz"
      ],
      "id": "4cb62c75-e445-4c1b-a14f-068191b0dabc"
    },
    {
      "cell_type": "code",
      "execution_count": 122,
      "metadata": {},
      "outputs": [
        {
          "output_type": "display_data",
          "metadata": {},
          "data": {
            "text/html": [
              "<table class=\"dataframe\">\n",
              "<caption>A matrix: 2 × 2 of type dbl</caption>\n",
              "<tbody>\n",
              "    <tr><td> 3.04034002</td><td>-0.0268769654</td></tr>\n",
              "    <tr><td>-0.02687697</td><td> 0.0002456761</td></tr>\n",
              "</tbody>\n",
              "</table>"
            ]
          }
        }
      ],
      "source": [
        "zz_i <- solve(zz)\n",
        "zz_i"
      ],
      "id": "56a24b6c-7d53-4fe8-98fa-0a57f8d0edab"
    },
    {
      "cell_type": "code",
      "execution_count": 123,
      "metadata": {},
      "outputs": [
        {
          "output_type": "display_data",
          "metadata": {},
          "data": {
            "text/html": [
              "<table class=\"dataframe\">\n",
              "<caption>A matrix: 2 × 1 of type dbl</caption>\n",
              "<tbody>\n",
              "    <tr><td>  34.6</td></tr>\n",
              "    <tr><td>3852.2</td></tr>\n",
              "</tbody>\n",
              "</table>"
            ]
          }
        }
      ],
      "source": [
        "zy <- t(z) %*% y\n",
        "zy"
      ],
      "id": "67e951a0-6f27-44d7-a6fa-df68c39d7547"
    },
    {
      "cell_type": "code",
      "execution_count": 124,
      "metadata": {},
      "outputs": [
        {
          "output_type": "display_data",
          "metadata": {},
          "data": {
            "text/html": [
              "<table class=\"dataframe\">\n",
              "<caption>A matrix: 1 × 1 of type dbl</caption>\n",
              "<tbody>\n",
              "    <tr><td>121.94</td></tr>\n",
              "</tbody>\n",
              "</table>"
            ]
          }
        }
      ],
      "source": [
        "yy <- t(y) %*% y\n",
        "yy"
      ],
      "id": "cbdb8cf5-7c3d-4e9b-a495-6ce1e7f9d018"
    },
    {
      "cell_type": "code",
      "execution_count": 125,
      "metadata": {},
      "outputs": [
        {
          "output_type": "display_data",
          "metadata": {},
          "data": {
            "text/html": [
              "<table class=\"dataframe\">\n",
              "<caption>A matrix: 10 × 10 of type dbl</caption>\n",
              "<tbody>\n",
              "    <tr><td>0.11733491</td><td>0.073997642</td><td> 0.051297170</td><td> 0.03272406</td><td> 0.065742925</td><td> 0.146226415</td><td> 0.12971698</td><td>0.08637972</td><td> 0.133844340</td><td> 0.162735849</td></tr>\n",
              "    <tr><td>0.07399764</td><td>0.139003538</td><td> 0.173054245</td><td> 0.20091392</td><td> 0.151385613</td><td> 0.030660377</td><td> 0.05542453</td><td>0.12043042</td><td> 0.049233491</td><td> 0.005896226</td></tr>\n",
              "    <tr><td>0.05129717</td><td>0.173054245</td><td> 0.236831761</td><td> 0.28901336</td><td> 0.196246069</td><td>-0.029874214</td><td> 0.01650943</td><td>0.13826651</td><td> 0.004913522</td><td>-0.076257862</td></tr>\n",
              "    <tr><td>0.03272406</td><td>0.200913915</td><td> 0.289013365</td><td> 0.36109473</td><td> 0.232950079</td><td>-0.079402516</td><td>-0.01533019</td><td>0.15285967</td><td>-0.031348270</td><td>-0.143474843</td></tr>\n",
              "    <tr><td>0.06574292</td><td>0.151385613</td><td> 0.196246069</td><td> 0.23295008</td><td> 0.167698506</td><td> 0.008647799</td><td> 0.04127358</td><td>0.12691627</td><td> 0.033117138</td><td>-0.023977987</td></tr>\n",
              "    <tr><td>0.14622642</td><td>0.030660377</td><td>-0.029874214</td><td>-0.07940252</td><td> 0.008647799</td><td> 0.223270440</td><td> 0.17924528</td><td>0.06367925</td><td> 0.190251572</td><td> 0.267295597</td></tr>\n",
              "    <tr><td>0.12971698</td><td>0.055424528</td><td> 0.016509434</td><td>-0.01533019</td><td> 0.041273585</td><td> 0.179245283</td><td> 0.15094340</td><td>0.07665094</td><td> 0.158018868</td><td> 0.207547170</td></tr>\n",
              "    <tr><td>0.08637972</td><td>0.120430425</td><td> 0.138266509</td><td> 0.15285967</td><td> 0.126916274</td><td> 0.063679245</td><td> 0.07665094</td><td>0.11070165</td><td> 0.073408019</td><td> 0.050707547</td></tr>\n",
              "    <tr><td>0.13384434</td><td>0.049233491</td><td> 0.004913522</td><td>-0.03134827</td><td> 0.033117138</td><td> 0.190251572</td><td> 0.15801887</td><td>0.07340802</td><td> 0.166077044</td><td> 0.222484277</td></tr>\n",
              "    <tr><td>0.16273585</td><td>0.005896226</td><td>-0.076257862</td><td>-0.14347484</td><td>-0.023977987</td><td> 0.267295597</td><td> 0.20754717</td><td>0.05070755</td><td> 0.222484277</td><td> 0.327044025</td></tr>\n",
              "</tbody>\n",
              "</table>"
            ]
          }
        }
      ],
      "source": [
        "z %*% zz_i %*% t(z)"
      ],
      "id": "baf50cfc-1eba-4ca8-9e4f-47b18eb99565"
    },
    {
      "cell_type": "code",
      "execution_count": 126,
      "metadata": {},
      "outputs": [
        {
          "output_type": "display_data",
          "metadata": {},
          "data": {
            "text/html": [
              "<table class=\"dataframe\">\n",
              "<caption>A matrix: 2 × 1 of type dbl</caption>\n",
              "<tbody>\n",
              "    <tr><td>1.66031840</td></tr>\n",
              "    <tr><td>0.01645047</td></tr>\n",
              "</tbody>\n",
              "</table>"
            ]
          }
        }
      ],
      "source": [
        "gammahat <- zz_i %*% t(z) %*% y\n",
        "gammahat"
      ],
      "id": "965841b8-a7e6-4aa1-8972-908064229362"
    },
    {
      "cell_type": "code",
      "execution_count": 127,
      "metadata": {},
      "outputs": [
        {
          "output_type": "display_data",
          "metadata": {},
          "data": {
            "text/html": [
              "<table class=\"dataframe\">\n",
              "<caption>A matrix: 10 × 1 of type dbl</caption>\n",
              "<tbody>\n",
              "    <tr><td>-0.521816038</td></tr>\n",
              "    <tr><td> 0.232724057</td></tr>\n",
              "    <tr><td> 0.051768868</td></tr>\n",
              "    <tr><td> 0.403714623</td></tr>\n",
              "    <tr><td>-0.633077830</td></tr>\n",
              "    <tr><td> 0.008490566</td></tr>\n",
              "    <tr><td> 0.276886792</td></tr>\n",
              "    <tr><td> 0.031426887</td></tr>\n",
              "    <tr><td>-0.190212264</td></tr>\n",
              "    <tr><td> 0.340094340</td></tr>\n",
              "</tbody>\n",
              "</table>"
            ]
          }
        }
      ],
      "source": [
        "e <- y - z %*% gammahat\n",
        "e"
      ],
      "id": "e25456e3-db3b-404d-903e-901404750e41"
    },
    {
      "cell_type": "code",
      "execution_count": 128,
      "metadata": {},
      "outputs": [
        {
          "output_type": "display_data",
          "metadata": {},
          "data": {
            "text/html": [
              "<table class=\"dataframe\">\n",
              "<caption>A matrix: 1 × 1 of type dbl</caption>\n",
              "<tbody>\n",
              "    <tr><td>1.122476</td></tr>\n",
              "</tbody>\n",
              "</table>"
            ]
          }
        }
      ],
      "source": [
        "sse_rm <- t(e) %*% e\n",
        "sse_rm"
      ],
      "id": "b4bcdab7-5e81-4468-8a07-e026f6a36f7a"
    },
    {
      "cell_type": "code",
      "execution_count": 129,
      "metadata": {},
      "outputs": [
        {
          "output_type": "display_data",
          "metadata": {},
          "data": {
            "text/html": [
              "<table class=\"dataframe\">\n",
              "<caption>A matrix: 1 × 1 of type dbl</caption>\n",
              "<tbody>\n",
              "    <tr><td>15.96781</td></tr>\n",
              "</tbody>\n",
              "</table>"
            ]
          }
        }
      ],
      "source": [
        "f0 = ((sse_rm - sse)/(2))/(sse/6)\n",
        "f0"
      ],
      "id": "9f54d754-5e6d-42bc-97bf-61d17bea8012"
    },
    {
      "cell_type": "code",
      "execution_count": 130,
      "metadata": {},
      "outputs": [
        {
          "output_type": "display_data",
          "metadata": {},
          "data": {
            "text/html": [
              "5.14325284978472"
            ]
          }
        }
      ],
      "source": [
        "qf(0.95,2,6)"
      ],
      "id": "7b3f8249-dc0c-4996-a10b-dde4a4ed98eb"
    },
    {
      "cell_type": "markdown",
      "metadata": {},
      "source": [
        "검정통계량 : $\\frac{(SSE_{RM} - SSE_{FM})/r}{SSE_{FM}/(n-p-1)}$\n",
        "\n",
        "관측값 $f_0 = 15.968$\n",
        "\n",
        "기각역 : $f_0 > 5.1433$\n",
        "\n",
        "결론 : 기각할 수 있다.\n",
        "\n",
        "## (13)\n",
        "\n",
        "가설 $H_0 : \\beta_1 = \\beta_2 + 3$을 $\\alpha = 0.05$로 검정하시오.\n",
        "\n",
        "$H_0 : \\beta_1 = \\beta_2 = \\beta_3$\n",
        "\n",
        "$T= (0,1,-1,0)$\n",
        "\n",
        "$y = \\beta_0 + (\\beta_2+3)x_1 + \\beta_2 x_2 + \\beta_3 x_3 + \\epsilon$\n",
        "$y - 3x_1 = \\beta_0 + \\beta_2(x_1 + x_2) + \\beta_3 x_3 + \\epsilon$"
      ],
      "id": "d1ae730a-be57-407e-82f4-0b1ca1906b6c"
    },
    {
      "cell_type": "code",
      "execution_count": 131,
      "metadata": {},
      "outputs": [
        {
          "output_type": "display_data",
          "metadata": {},
          "data": {
            "text/html": [
              "<style>\n",
              ".list-inline {list-style: none; margin:0; padding: 0}\n",
              ".list-inline>li {display: inline-block}\n",
              ".list-inline>li:not(:last-child)::after {content: \"\\00b7\"; padding: 0 .5ex}\n",
              "</style>\n",
              "<ol class=list-inline><li>-27.2</li><li>-68.1</li><li>-71.1</li><li>-79.6</li><li>-41.9</li><li>-50.9</li><li>-62.5</li><li>-62.4</li><li>-33</li><li>-41.7</li></ol>"
            ]
          }
        }
      ],
      "source": [
        "yy <- y-3*dt$x1\n",
        "yy"
      ],
      "id": "8995c17f-af46-4e01-bbd7-3e6b2fca7616"
    },
    {
      "cell_type": "code",
      "execution_count": 132,
      "metadata": {},
      "outputs": [
        {
          "output_type": "display_data",
          "metadata": {},
          "data": {
            "text/html": [
              "<table class=\"dataframe\">\n",
              "<caption>A matrix: 10 × 3 of type dbl</caption>\n",
              "<tbody>\n",
              "    <tr><td>1</td><td>37</td><td>64</td></tr>\n",
              "    <tr><td>1</td><td>50</td><td>72</td></tr>\n",
              "    <tr><td>1</td><td>53</td><td>80</td></tr>\n",
              "    <tr><td>1</td><td>54</td><td>88</td></tr>\n",
              "    <tr><td>1</td><td>45</td><td>81</td></tr>\n",
              "    <tr><td>1</td><td>42</td><td>45</td></tr>\n",
              "    <tr><td>1</td><td>49</td><td>46</td></tr>\n",
              "    <tr><td>1</td><td>47</td><td>69</td></tr>\n",
              "    <tr><td>1</td><td>39</td><td>54</td></tr>\n",
              "    <tr><td>1</td><td>40</td><td>39</td></tr>\n",
              "</tbody>\n",
              "</table>"
            ]
          }
        }
      ],
      "source": [
        "z <- matrix(c(rep(1,10), dt$x1+dt$x2,dt$x3), ncol=3)\n",
        "z"
      ],
      "id": "b4209dc7-166d-47a5-b374-92e5a810a76f"
    },
    {
      "cell_type": "code",
      "execution_count": 133,
      "metadata": {},
      "outputs": [
        {
          "output_type": "display_data",
          "metadata": {},
          "data": {
            "text/html": [
              "<table class=\"dataframe\">\n",
              "<caption>A matrix: 3 × 3 of type dbl</caption>\n",
              "<tbody>\n",
              "    <tr><td> 10</td><td>  456</td><td>  638</td></tr>\n",
              "    <tr><td>456</td><td>21114</td><td>29658</td></tr>\n",
              "    <tr><td>638</td><td>29658</td><td>43324</td></tr>\n",
              "</tbody>\n",
              "</table>"
            ]
          }
        }
      ],
      "source": [
        "zz <- t(z) %*% z\n",
        "zz"
      ],
      "id": "084d9f5c-c012-46cb-af8f-937d0b4fd5e1"
    },
    {
      "cell_type": "code",
      "execution_count": 134,
      "metadata": {},
      "outputs": [
        {
          "output_type": "display_data",
          "metadata": {},
          "data": {
            "text/html": [
              "<table class=\"dataframe\">\n",
              "<caption>A matrix: 3 × 3 of type dbl</caption>\n",
              "<tbody>\n",
              "    <tr><td> 6.76054651</td><td>-0.160413550</td><td> 0.0102556645</td></tr>\n",
              "    <tr><td>-0.16041355</td><td> 0.005038964</td><td>-0.0010871974</td></tr>\n",
              "    <tr><td> 0.01025566</td><td>-0.001087197</td><td> 0.0006163093</td></tr>\n",
              "</tbody>\n",
              "</table>"
            ]
          }
        }
      ],
      "source": [
        "zz_i <- solve(zz)\n",
        "zz_i"
      ],
      "id": "6bd4f532-a8b4-4f08-92a8-f45b5656e5fb"
    },
    {
      "cell_type": "code",
      "execution_count": 135,
      "metadata": {},
      "outputs": [
        {
          "output_type": "display_data",
          "metadata": {},
          "data": {
            "text/html": [
              "<table class=\"dataframe\">\n",
              "<caption>A matrix: 3 × 1 of type dbl</caption>\n",
              "<tbody>\n",
              "    <tr><td>77.7140851</td></tr>\n",
              "    <tr><td>-3.1683286</td></tr>\n",
              "    <tr><td> 0.2025345</td></tr>\n",
              "</tbody>\n",
              "</table>"
            ]
          }
        }
      ],
      "source": [
        "gammahat <- zz_i %*% t(z) %*% yy\n",
        "gammahat"
      ],
      "id": "ec0f3627-72e4-4c29-8873-7d96c6b7ca64"
    },
    {
      "cell_type": "code",
      "execution_count": 136,
      "metadata": {},
      "outputs": [
        {
          "output_type": "display_data",
          "metadata": {},
          "data": {
            "text/html": [
              "<table class=\"dataframe\">\n",
              "<caption>A matrix: 10 × 1 of type dbl</caption>\n",
              "<tbody>\n",
              "    <tr><td>-0.6481331</td></tr>\n",
              "    <tr><td>-1.9801368</td></tr>\n",
              "    <tr><td> 2.9045732</td></tr>\n",
              "    <tr><td>-4.0473741</td></tr>\n",
              "    <tr><td> 6.5554097</td></tr>\n",
              "    <tr><td>-4.6583347</td></tr>\n",
              "    <tr><td> 5.7174312</td></tr>\n",
              "    <tr><td>-5.1775193</td></tr>\n",
              "    <tr><td> 1.9138690</td></tr>\n",
              "    <tr><td>-0.5797851</td></tr>\n",
              "</tbody>\n",
              "</table>"
            ]
          }
        }
      ],
      "source": [
        "e <- yy - z %*% gammahat\n",
        "e"
      ],
      "id": "41e29a7b-7eee-4cda-8ecd-0a0d896a0cfd"
    },
    {
      "cell_type": "code",
      "execution_count": 137,
      "metadata": {},
      "outputs": [
        {
          "output_type": "display_data",
          "metadata": {},
          "data": {
            "text/html": [
              "<table class=\"dataframe\">\n",
              "<caption>A matrix: 1 × 1 of type dbl</caption>\n",
              "<tbody>\n",
              "    <tr><td>157.327</td></tr>\n",
              "</tbody>\n",
              "</table>"
            ]
          }
        }
      ],
      "source": [
        "sse_rm <- t(e) %*% e\n",
        "sse_rm"
      ],
      "id": "17b4c23f-0ae1-4b9a-a41a-ae62120bf88b"
    },
    {
      "cell_type": "code",
      "execution_count": 138,
      "metadata": {},
      "outputs": [
        {
          "output_type": "display_data",
          "metadata": {},
          "data": {
            "text/html": [
              "<table class=\"dataframe\">\n",
              "<caption>A matrix: 1 × 1 of type dbl</caption>\n",
              "<tbody>\n",
              "    <tr><td>5311.082</td></tr>\n",
              "</tbody>\n",
              "</table>"
            ]
          }
        }
      ],
      "source": [
        "f0 = ((sse_rm - sse)/(1))/(sse/6)\n",
        "f0"
      ],
      "id": "e722983a-7c96-4e20-9c95-6ac38b33b258"
    },
    {
      "cell_type": "code",
      "execution_count": 139,
      "metadata": {},
      "outputs": [
        {
          "output_type": "display_data",
          "metadata": {},
          "data": {
            "text/html": [
              "5.9873776072737"
            ]
          }
        }
      ],
      "source": [
        "qf(0.95,1,6)"
      ],
      "id": "d5500973-c481-49f8-bacb-92240e313173"
    },
    {
      "cell_type": "markdown",
      "metadata": {},
      "source": [
        "검정통계량 : $\\frac{(SSE_RM - SSE_FM)/r)}{(SSE_FM/(n-p-1))}$\n",
        "\n",
        "관측값 $f_0 = 5311.082$\n",
        "\n",
        "기각역 : $f_0 > 5.9874$\n",
        "\n",
        "결론 : 기각할 수 있다.\n",
        "\n",
        "## (14)\n",
        "\n",
        "$x_1 = 20, x_2 = 27, x_3 = 60$에서 $E(y)$에 관한 가설\n",
        "$H_0 : E(y) = 3.5, H_1 : E(y) ̸\\neq 3.5$를 $\\alpha = 0.05$로 검정하시오.\n",
        "\n",
        "sy 풀이\n",
        "\n",
        "$T_0 = \\frac{\\hat{y} - E(y)}{\\sqrt{Var{\\hat{y}}}} = \\frac{\\hat{y} - E(Y)}{\\sqrt{x^\\top (X^\\top X)^{-1} x MSE}} \\sim t(n-1)$"
      ],
      "id": "0d6a5041-da04-4c90-bf3e-fab6664f6568"
    },
    {
      "cell_type": "code",
      "execution_count": 140,
      "metadata": {},
      "outputs": [],
      "source": [
        "x_indi <- matrix(c(1,20,27,60),nrow=1,ncol=4)"
      ],
      "id": "68fd3b06-1745-43f3-a646-577b0b3cb4a2"
    },
    {
      "cell_type": "code",
      "execution_count": 141,
      "metadata": {},
      "outputs": [
        {
          "output_type": "display_data",
          "metadata": {},
          "data": {
            "text/html": [
              "<table class=\"dataframe\">\n",
              "<caption>A matrix: 1 × 1 of type dbl</caption>\n",
              "<tbody>\n",
              "    <tr><td>3.48814</td></tr>\n",
              "</tbody>\n",
              "</table>"
            ]
          }
        }
      ],
      "source": [
        "yhat <- x_indi %*% b\n",
        "round(yhat,5)"
      ],
      "id": "1d0ebd26-44fc-4d47-b7f7-41ccacee9b68"
    },
    {
      "cell_type": "markdown",
      "metadata": {},
      "source": [
        "$Var{y} = x_i (X^\\top X)^{-1} x_i^\\top \\sigma^2$"
      ],
      "id": "b2854380-c559-4505-bb03-9a578bcca2b3"
    },
    {
      "cell_type": "code",
      "execution_count": 142,
      "metadata": {},
      "outputs": [
        {
          "output_type": "display_data",
          "metadata": {},
          "data": {
            "text/html": [
              "0.00507"
            ]
          }
        }
      ],
      "source": [
        "var_y <- ((x_indi %*%solve(t(x) %*% x) %*% t(x_indi) ) * mse)[,]\n",
        "round(var_y,5)"
      ],
      "id": "10ccdbd0-5768-4c03-8e90-53427c056853"
    },
    {
      "cell_type": "code",
      "execution_count": 143,
      "metadata": {},
      "outputs": [
        {
          "output_type": "display_data",
          "metadata": {},
          "data": {
            "text/html": [
              "-0.16663"
            ]
          }
        }
      ],
      "source": [
        "t_0 <- (yhat - 3.5)/sqrt(var_y)\n",
        "round(t_0[,],5)"
      ],
      "id": "cbf2e70c-9e2d-4d87-965e-d94fe9aeea1a"
    },
    {
      "cell_type": "code",
      "execution_count": 144,
      "metadata": {},
      "outputs": [
        {
          "output_type": "display_data",
          "metadata": {},
          "data": {
            "text/html": [
              "-0.5097"
            ]
          }
        }
      ],
      "source": [
        "round(-pt(0.025,9),5)"
      ],
      "id": "b9cf7026-e47a-4cb1-a54e-e8e753aa75a7"
    },
    {
      "cell_type": "markdown",
      "metadata": {},
      "source": [
        "$F_0=-0.16663$ \\> $t_{0.025}(9)=-0.5097$ 로 귀무가설을 기각하지 못하여\n",
        "$E(y) = 3.5$라는 결론이 나온다.\n",
        "\n",
        "# 4.\n",
        "\n",
        "중회귀모형, $y = X\\beta + \\epsilon, \\epsilon \\sim N(0_n, I\\sigma^2)$에서\n",
        "$X$ 가 $n \\times (p + 1)$행렬이고 rank가 $p + 1$이라면 적합된 모형\n",
        "$\\hat{y} = X\\hat{\\beta}$에 대하여\n",
        "$$\\sum^{n}_{j=1} Var(\\hat{y}_j ) = (p + 1)\\sigma^2$$ 이 됨을 증명하여라.\n",
        "\n",
        "$\\hat{\\bf{y}}= X\\hat{\\beta} = X(X^\\top X)^{-1} X^\\top y = Hy$\n",
        "\n",
        "$Var(X\\hat{\\beta}) = XVar(\\hat{\\beta})X^\\top$\n",
        "\n",
        "$Var(\\hat{\\beta}) = Var((X^\\top X)^{-1} X^\\top y) = (X^\\top X)^{-1} X^\\top Var(y)X(X^\\top X)^{-1} = (X^\\top X)^{-1} X^\\top X(X^\\top X)^{-1} \\sigma^2 = (X^\\top X )^{-1} \\sigma^2$\n",
        "\n",
        "$Var(\\hat{y}) = Var(X\\hat{\\beta}) = X(X^\\top X)^{-1} X^\\top \\sigma^2$\n",
        "\n",
        "$\\to Var(\\hat{y}) = HVar(y) H^\\top = HH\\sigma^2 = H\\sigma^2$\n",
        "\n",
        "$\\star H^\\top = H, H^2 = H, Var(y) = I_n \\sigma^2$\n",
        "\n",
        "$\\sum^{n}_{j=1} Var(\\hat{y}_j) = tr(Var(\\hat{y})) = tr(H\\sigma^2) = \\sigma^2 tr(H) = tr((X^\\top X)^{-1} X^\\top X)\\sigma^2 = tr(I_{p+1})\\sigma^2 = (p+1)\\sigma^2$\n",
        "\n",
        "$\\star tr(X (X^\\top X)^{-1} X^\\top)$\n",
        "\n",
        "# 5.\n",
        "\n",
        "중회귀모형에서 다음을 증명하시오.\n",
        "\n",
        "## (1)\n",
        "\n",
        "$Cov(e, y) = \\sigma^2[I_n − X(X^\\top X)^{-1}X^\\top]$\n",
        "\n",
        "$\\bf{e} = y - \\hat{y} = y - Hy = (I-H)y$\n",
        "\n",
        "$Cov(\\bf{e},y) = Cov((I-H)y,y) = (I-H)Var(y) = (I-H) \\sigma^2$\n",
        "\n",
        "$\\star Cov(Ax,y) = A Cov(X,Y)$\n",
        "\n",
        "$\\star Var(y) = \\sigma^2$\n",
        "\n",
        "## (2)\n",
        "\n",
        "$Cov(e, \\hat{y}) = \\mathbb{O}_n$\n",
        "\n",
        "$Cov(e(I - H)\\bf{y},Hy) = (I-H) Cov(y,y)H^\\top = (I-H)H\\sigma^2 = \\mathbb{O}_n \\sigma^2$\n",
        "\n",
        "$\\star Cov(Ax,By) = ACov(X,Y)B^\\top$\n",
        "\n",
        "$\\star H^\\top= H$\n",
        "\n",
        "$\\star H^2 = H$\n",
        "\n",
        "## (3)\n",
        "\n",
        "$Cov(e, \\hat{\\beta}) = \\mathbb{O}_{n\\times(k+1)}$\n",
        "\n",
        "$Cov((I-H)\\bf{y},(X^\\top X)^{-1} y) = (I-H) Cov(y,y) X (X^\\top X)^{-1} = (I - X(X^\\top X)^{-1} X^\\top ) X (X^\\top X)^{-1} \\sigma^2 = \\{ X(X^\\top X)^{-1} - X(X^\\top X)^{-1} \\} \\sigma^2 = \\mathbb{O}_{n \\times ([+1)}$\n",
        "\n",
        "## (4)\n",
        "\n",
        "$Cov(\\epsilon, \\hat{\\beta}) = \\sigma^2 X(X^\\top X)^{-1}$\n",
        "\n",
        "$\\bf{\\hat{\\beta}} = (X^\\top X)^{-1} X^\\top y = (X^\\top X)^{-1} X^\\top (X\\beta + \\epsilon) = \\beta + (X^\\top X)^{-1} X^\\top \\epsilon$\n",
        "\n",
        "$Cov(\\bf{\\epsilon} , \\beta + (X^\\top X)^{-1} X^\\top \\epsilon ) = Cov(\\epsilon, \\beta) + Cov(\\epsilon, \\epsilon)X(X^\\top X)^{-1} = \\sigma^2 X(X^\\top X)^{-1}$\n",
        "\n",
        "$\\star Cov(\\epsilon, \\beta) = 0$\n",
        "\n",
        "$\\star Cov(\\epsilon, \\epsilon) = I_n \\sigma^2$\n",
        "\n",
        "## (5)\n",
        "\n",
        "$\\sum^{n}_{j=1} e_j y_j = SSE$\n",
        "\n",
        "$\\sum^{n}_{j=1} e_j y_j = \\bf{e^\\top y} = \\{ (I - H)y\\}^\\top y = y^\\top (I-H)y$\n",
        "\n",
        "$\\star \\bf{e}^\\top (e_1, \\dots , e_n) = (y-\\hat{y})^\\top$\n",
        "\n",
        "$\\star \\bf{y}^\\top = (y_1 , \\dots , y_n)$\n",
        "\n",
        "$SSE = \\sum^n_{j=1} (y_i - \\hat{y}_j)^2 = (\\bf{y} - \\hat{y} ) ^\\top ( y - \\hat{y} ) = e^\\top e = \\{ (I - H)y \\}^\\top \\{ (I - H)y \\} = y^\\top (I - H) (I-H)y = y^\\top (I - H)y$\n",
        "\n",
        "$\\star I - H_H+H^2 = I-H, H^2 = H$\n",
        "\n",
        "$\\therefore \\sum^{n}_{j=1} e_j y_j = SSE$\n",
        "\n",
        "## (6)\n",
        "\n",
        "$\\sum^{n}_{j=1} e_j \\hat{y}_j = 0$\n",
        "\n",
        "$\\sum^{n}_{j=1} \\bf{e_j \\hat{y}_j} = e^\\top \\hat{y} = y^\\top (I-H) Hy = y^\\top_{1\\times n} \\mathbb{O}_{n\\times n} y_{n \\times 1} = 0$\n",
        "\n",
        "$\\star H - H^2 = H - H = \\mathbb{O}_{n \\times n}$\n",
        "\n",
        "# 1 plus.\n",
        "\n",
        "다음의 데이터에 대하여 모형\n",
        "$y_i = \\beta_0 + \\beta_1 x_{1j} + \\beta_2 x_{2j} + \\epsilon_j, \\epsilon \\sim N(0,\\sigma^2)$이\n",
        "옳다고 가정하고 질문에 답하여라.\n",
        "\n",
        "|  y  |  1  |  5  |  0  |  4  |  4  | -1  |\n",
        "|:---:|:---:|:---:|:---:|:---:|:---:|:---:|\n",
        "| x_1 |  1  |  2  |  1  |  3  |  3  |  3  |\n",
        "| x_2 |  1  |  1  |  2  |  1  |  2  |  3  |"
      ],
      "id": "2b96006e-1073-4e3c-b2fb-6b3fe73d431c"
    },
    {
      "cell_type": "code",
      "execution_count": 145,
      "metadata": {},
      "outputs": [],
      "source": [
        "library(car)"
      ],
      "id": "7020c79c-d6ad-4f39-a9b6-b52583aac24d"
    },
    {
      "cell_type": "code",
      "execution_count": 146,
      "metadata": {},
      "outputs": [],
      "source": [
        "y <- c(1,5,0,4,4,-1)"
      ],
      "id": "3f049a1a-251d-443b-8b58-402a286faa75"
    },
    {
      "cell_type": "code",
      "execution_count": 147,
      "metadata": {},
      "outputs": [],
      "source": [
        "x <- matrix(c(1,1,1,1,1,1,1,2,1,3,3,3,1,1,2,1,2,3), ncol=3)"
      ],
      "id": "91e2e699-2fef-4d73-a443-97f9d7201e89"
    },
    {
      "cell_type": "code",
      "execution_count": 148,
      "metadata": {},
      "outputs": [],
      "source": [
        "dt <- data.frame(y=y,x1=x[,2],x2 = x[,3])"
      ],
      "id": "8bc202f6-cc0d-480d-bb2f-232f462e9939"
    },
    {
      "cell_type": "code",
      "execution_count": 149,
      "metadata": {},
      "outputs": [],
      "source": [
        "m <- lm(y~., dt)"
      ],
      "id": "9c2626a4-f03e-43b0-8229-2d0046e15ccb"
    },
    {
      "cell_type": "code",
      "execution_count": 150,
      "metadata": {},
      "outputs": [
        {
          "output_type": "display_data",
          "metadata": {},
          "data": {
            "text/plain": [
              "\n",
              "Call:\n",
              "lm(formula = y ~ ., data = dt)\n",
              "\n",
              "Residuals:\n",
              "      1       2       3       4       5       6 \n",
              "-1.1395  1.3488  0.4651 -1.1628  1.4419 -0.9535 \n",
              "\n",
              "Coefficients:\n",
              "            Estimate Std. Error t value Pr(>|t|)  \n",
              "(Intercept)   3.2326     1.9740   1.638   0.2000  \n",
              "x1            1.5116     0.7713   1.960   0.1449  \n",
              "x2           -2.6047     0.9288  -2.804   0.0676 .\n",
              "---\n",
              "Signif. codes:  0 ‘***’ 0.001 ‘**’ 0.01 ‘*’ 0.05 ‘.’ 0.1 ‘ ’ 1\n",
              "\n",
              "Residual standard error: 1.599 on 3 degrees of freedom\n",
              "Multiple R-squared:  0.7511,    Adjusted R-squared:  0.5852 \n",
              "F-statistic: 4.527 on 2 and 3 DF,  p-value: 0.1242"
            ]
          }
        }
      ],
      "source": [
        "summary(m)"
      ],
      "id": "278b8159-9d22-4d16-9777-8dc59f829dd9"
    },
    {
      "cell_type": "code",
      "execution_count": 151,
      "metadata": {},
      "outputs": [
        {
          "output_type": "display_data",
          "metadata": {},
          "data": {
            "text/html": [
              "<table class=\"dataframe\">\n",
              "<caption>A anova: 3 × 5</caption>\n",
              "<thead>\n",
              "    <tr><th></th><th scope=col>Df</th><th scope=col>Sum Sq</th><th scope=col>Mean Sq</th><th scope=col>F value</th><th scope=col>Pr(&gt;F)</th></tr>\n",
              "    <tr><th></th><th scope=col>&lt;int&gt;</th><th scope=col>&lt;dbl&gt;</th><th scope=col>&lt;dbl&gt;</th><th scope=col>&lt;dbl&gt;</th><th scope=col>&lt;dbl&gt;</th></tr>\n",
              "</thead>\n",
              "<tbody>\n",
              "    <tr><th scope=row>x1</th><td>1</td><td> 3.040230</td><td> 3.04023</td><td>1.188454</td><td>0.35537433</td></tr>\n",
              "    <tr><th scope=row>x2</th><td>1</td><td>20.118685</td><td>20.11868</td><td>7.864577</td><td>0.06760655</td></tr>\n",
              "    <tr><th scope=row>Residuals</th><td>3</td><td> 7.674419</td><td> 2.55814</td><td>      NA</td><td>        NA</td></tr>\n",
              "</tbody>\n",
              "</table>"
            ]
          }
        }
      ],
      "source": [
        "anova(m)"
      ],
      "id": "5d066fb9-7b33-4659-8f8c-db22dd055db6"
    },
    {
      "cell_type": "markdown",
      "metadata": {},
      "source": [
        "## (1)\n",
        "\n",
        "$X^\\top X, X^\\top y y^\\top y$와 $(X^\\top X)^{-1}$ 을 구하시오."
      ],
      "id": "75348d90-e7d0-4a16-89e3-bded201c6d48"
    },
    {
      "cell_type": "code",
      "execution_count": 152,
      "metadata": {},
      "outputs": [
        {
          "output_type": "display_data",
          "metadata": {},
          "data": {
            "text/html": [
              "<table class=\"dataframe\">\n",
              "<caption>A matrix: 3 × 3 of type dbl</caption>\n",
              "<tbody>\n",
              "    <tr><td> 6</td><td>13</td><td>10</td></tr>\n",
              "    <tr><td>13</td><td>33</td><td>23</td></tr>\n",
              "    <tr><td>10</td><td>23</td><td>20</td></tr>\n",
              "</tbody>\n",
              "</table>"
            ]
          }
        }
      ],
      "source": [
        "xx <- t(x) %*% x\n",
        "xx"
      ],
      "id": "81483e38-3ae9-4853-8d7b-d24d09570fdb"
    },
    {
      "cell_type": "code",
      "execution_count": 153,
      "metadata": {},
      "outputs": [
        {
          "output_type": "display_data",
          "metadata": {},
          "data": {
            "text/html": [
              "<table class=\"dataframe\">\n",
              "<caption>A matrix: 3 × 3 of type dbl</caption>\n",
              "<tbody>\n",
              "    <tr><td> 1.5232558</td><td>-0.34883721</td><td>-0.36046512</td></tr>\n",
              "    <tr><td>-0.3488372</td><td> 0.23255814</td><td>-0.09302326</td></tr>\n",
              "    <tr><td>-0.3604651</td><td>-0.09302326</td><td> 0.33720930</td></tr>\n",
              "</tbody>\n",
              "</table>"
            ]
          }
        }
      ],
      "source": [
        "xx_i <- solve(xx)\n",
        "xx_i"
      ],
      "id": "ee4c896c-566e-4b3f-988f-fa8a1bde3230"
    },
    {
      "cell_type": "code",
      "execution_count": 154,
      "metadata": {},
      "outputs": [
        {
          "output_type": "display_data",
          "metadata": {},
          "data": {
            "text/html": [
              "<table class=\"dataframe\">\n",
              "<caption>A matrix: 3 × 3 of type dbl</caption>\n",
              "<tbody>\n",
              "    <tr><td> 1.52</td><td>-0.35</td><td>-0.36</td></tr>\n",
              "    <tr><td>-0.35</td><td> 0.23</td><td>-0.09</td></tr>\n",
              "    <tr><td>-0.36</td><td>-0.09</td><td> 0.34</td></tr>\n",
              "</tbody>\n",
              "</table>"
            ]
          }
        }
      ],
      "source": [
        "xx_i2 <- round(xx_i,2)\n",
        "xx_i2"
      ],
      "id": "92b7c986-a42f-43f3-8f04-ae935f6ae2d6"
    },
    {
      "cell_type": "code",
      "execution_count": 155,
      "metadata": {},
      "outputs": [
        {
          "output_type": "display_data",
          "metadata": {},
          "data": {
            "text/html": [
              "<table class=\"dataframe\">\n",
              "<caption>A matrix: 3 × 1 of type dbl</caption>\n",
              "<tbody>\n",
              "    <tr><td>13</td></tr>\n",
              "    <tr><td>32</td></tr>\n",
              "    <tr><td>15</td></tr>\n",
              "</tbody>\n",
              "</table>"
            ]
          }
        }
      ],
      "source": [
        "xy <- t(x) %*% y\n",
        "xy"
      ],
      "id": "9401659e-d720-48a3-bd7a-1d6c5a0ec473"
    },
    {
      "cell_type": "code",
      "execution_count": 156,
      "metadata": {},
      "outputs": [
        {
          "output_type": "display_data",
          "metadata": {},
          "data": {
            "text/html": [
              "<table class=\"dataframe\">\n",
              "<caption>A matrix: 1 × 1 of type dbl</caption>\n",
              "<tbody>\n",
              "    <tr><td>59</td></tr>\n",
              "</tbody>\n",
              "</table>"
            ]
          }
        }
      ],
      "source": [
        "yy <- t(y) %*% y\n",
        "yy"
      ],
      "id": "f57acd84-9fa4-4560-b23a-5a2ab9cd2734"
    },
    {
      "cell_type": "markdown",
      "metadata": {},
      "source": [
        "## (2)\n",
        "\n",
        "$\\beta_0, \\beta_1, \\beta_2, \\sigma^2$를 추정하시오."
      ],
      "id": "5fec0f54-70af-4c77-9b98-adf8a980cfdf"
    },
    {
      "cell_type": "code",
      "execution_count": 157,
      "metadata": {},
      "outputs": [
        {
          "output_type": "display_data",
          "metadata": {},
          "data": {
            "text/html": [
              "<style>\n",
              ".dl-inline {width: auto; margin:0; padding: 0}\n",
              ".dl-inline>dt, .dl-inline>dd {float: none; width: auto; display: inline-block}\n",
              ".dl-inline>dt::after {content: \":\\0020\"; padding-right: .5ex}\n",
              ".dl-inline>dt:not(:first-of-type) {padding-left: .5ex}\n",
              "</style><dl class=dl-inline><dt>(Intercept)</dt><dd>3.23255813953489</dd><dt>x1</dt><dd>1.51162790697674</dd><dt>x2</dt><dd>-2.6046511627907</dd></dl>"
            ]
          }
        }
      ],
      "source": [
        "coef(m)"
      ],
      "id": "4de23517-05a7-4e56-a0ca-2684537c23f4"
    },
    {
      "cell_type": "code",
      "execution_count": 158,
      "metadata": {},
      "outputs": [
        {
          "output_type": "display_data",
          "metadata": {},
          "data": {
            "text/html": [
              "2.55813953488372"
            ]
          }
        }
      ],
      "source": [
        "anova(m)$Mean[3]"
      ],
      "id": "3637e92a-94f7-4b68-ac2c-6b6916f74918"
    },
    {
      "cell_type": "code",
      "execution_count": 159,
      "metadata": {},
      "outputs": [
        {
          "output_type": "display_data",
          "metadata": {},
          "data": {
            "text/html": [
              "<table class=\"dataframe\">\n",
              "<caption>A matrix: 3 × 1 of type dbl</caption>\n",
              "<tbody>\n",
              "    <tr><td> 3.232558</td></tr>\n",
              "    <tr><td> 1.511628</td></tr>\n",
              "    <tr><td>-2.604651</td></tr>\n",
              "</tbody>\n",
              "</table>"
            ]
          }
        }
      ],
      "source": [
        "b <- xx_i %*% xy\n",
        "b"
      ],
      "id": "440743b4-703b-462d-ac19-31406ba5de29"
    },
    {
      "cell_type": "code",
      "execution_count": 160,
      "metadata": {},
      "outputs": [
        {
          "output_type": "display_data",
          "metadata": {},
          "data": {
            "text/html": [
              "<table class=\"dataframe\">\n",
              "<caption>A matrix: 3 × 1 of type dbl</caption>\n",
              "<tbody>\n",
              "    <tr><td> 3.16</td></tr>\n",
              "    <tr><td> 1.46</td></tr>\n",
              "    <tr><td>-2.46</td></tr>\n",
              "</tbody>\n",
              "</table>"
            ]
          }
        }
      ],
      "source": [
        "b1 <- round(round(xx_i,2)%*% xy,2)\n",
        "b1"
      ],
      "id": "4beb0230-2dce-4f8f-8f21-5b88259f2470"
    },
    {
      "cell_type": "code",
      "execution_count": 161,
      "metadata": {},
      "outputs": [
        {
          "output_type": "display_data",
          "metadata": {},
          "data": {
            "text/html": [
              "<table class=\"dataframe\">\n",
              "<caption>A matrix: 6 × 1 of type dbl</caption>\n",
              "<tbody>\n",
              "    <tr><td> 2.13953488</td></tr>\n",
              "    <tr><td> 3.65116279</td></tr>\n",
              "    <tr><td>-0.46511628</td></tr>\n",
              "    <tr><td> 5.16279070</td></tr>\n",
              "    <tr><td> 2.55813953</td></tr>\n",
              "    <tr><td>-0.04651163</td></tr>\n",
              "</tbody>\n",
              "</table>"
            ]
          }
        }
      ],
      "source": [
        "haty <- x %*% b\n",
        "haty"
      ],
      "id": "f349b9cb-fd6e-440c-a270-e541d44bf74b"
    },
    {
      "cell_type": "code",
      "execution_count": 162,
      "metadata": {},
      "outputs": [
        {
          "output_type": "display_data",
          "metadata": {},
          "data": {
            "text/html": [
              "<table class=\"dataframe\">\n",
              "<caption>A matrix: 6 × 1 of type dbl</caption>\n",
              "<tbody>\n",
              "    <tr><td> 2.16</td></tr>\n",
              "    <tr><td> 3.62</td></tr>\n",
              "    <tr><td>-0.30</td></tr>\n",
              "    <tr><td> 5.08</td></tr>\n",
              "    <tr><td> 2.62</td></tr>\n",
              "    <tr><td> 0.16</td></tr>\n",
              "</tbody>\n",
              "</table>"
            ]
          }
        }
      ],
      "source": [
        "haty_2 <- round(x %*% b1,2)\n",
        "haty_2"
      ],
      "id": "534d5798-1f32-4575-ad58-06a8748431f5"
    },
    {
      "cell_type": "code",
      "execution_count": 163,
      "metadata": {},
      "outputs": [
        {
          "output_type": "display_data",
          "metadata": {},
          "data": {
            "text/html": [
              "<table class=\"dataframe\">\n",
              "<caption>A matrix: 6 × 1 of type dbl</caption>\n",
              "<tbody>\n",
              "    <tr><td>-1.1395349</td></tr>\n",
              "    <tr><td> 1.3488372</td></tr>\n",
              "    <tr><td> 0.4651163</td></tr>\n",
              "    <tr><td>-1.1627907</td></tr>\n",
              "    <tr><td> 1.4418605</td></tr>\n",
              "    <tr><td>-0.9534884</td></tr>\n",
              "</tbody>\n",
              "</table>"
            ]
          }
        }
      ],
      "source": [
        "e <- y - haty\n",
        "e"
      ],
      "id": "9b70f0c7-e4d6-48c0-b87c-a182e81d8f9d"
    },
    {
      "cell_type": "code",
      "execution_count": 164,
      "metadata": {},
      "outputs": [
        {
          "output_type": "display_data",
          "metadata": {},
          "data": {
            "text/html": [
              "<table class=\"dataframe\">\n",
              "<caption>A matrix: 6 × 1 of type dbl</caption>\n",
              "<tbody>\n",
              "    <tr><td>-1.16</td></tr>\n",
              "    <tr><td> 1.38</td></tr>\n",
              "    <tr><td> 0.30</td></tr>\n",
              "    <tr><td>-1.08</td></tr>\n",
              "    <tr><td> 1.38</td></tr>\n",
              "    <tr><td>-1.16</td></tr>\n",
              "</tbody>\n",
              "</table>"
            ]
          }
        }
      ],
      "source": [
        "e_2 <- y - haty_2\n",
        "e_2"
      ],
      "id": "992781e2-2471-4156-824c-01ae91739d6e"
    },
    {
      "cell_type": "code",
      "execution_count": 165,
      "metadata": {},
      "outputs": [
        {
          "output_type": "display_data",
          "metadata": {},
          "data": {
            "text/html": [
              "<table class=\"dataframe\">\n",
              "<caption>A matrix: 1 × 1 of type dbl</caption>\n",
              "<tbody>\n",
              "    <tr><td>7.674419</td></tr>\n",
              "</tbody>\n",
              "</table>"
            ]
          }
        }
      ],
      "source": [
        "sse <- t(e) %*% e\n",
        "sse"
      ],
      "id": "48d33901-6af6-4c64-9113-9c7a08c8e538"
    },
    {
      "cell_type": "code",
      "execution_count": 166,
      "metadata": {},
      "outputs": [
        {
          "output_type": "display_data",
          "metadata": {},
          "data": {
            "text/html": [
              "<table class=\"dataframe\">\n",
              "<caption>A matrix: 1 × 1 of type dbl</caption>\n",
              "<tbody>\n",
              "    <tr><td>7.7564</td></tr>\n",
              "</tbody>\n",
              "</table>"
            ]
          }
        }
      ],
      "source": [
        "sse_2 <- t(e_2) %*% e_2\n",
        "sse_2"
      ],
      "id": "25508d71-d862-4e92-bace-5c5ec6a63926"
    },
    {
      "cell_type": "code",
      "execution_count": 167,
      "metadata": {},
      "outputs": [
        {
          "output_type": "display_data",
          "metadata": {},
          "data": {
            "text/html": [
              "<table class=\"dataframe\">\n",
              "<caption>A matrix: 1 × 1 of type dbl</caption>\n",
              "<tbody>\n",
              "    <tr><td>2.55814</td></tr>\n",
              "</tbody>\n",
              "</table>"
            ]
          }
        }
      ],
      "source": [
        "mse <- sse / 3\n",
        "mse"
      ],
      "id": "46449986-4367-4d96-91b3-3bd4b8626229"
    },
    {
      "cell_type": "code",
      "execution_count": 168,
      "metadata": {},
      "outputs": [
        {
          "output_type": "display_data",
          "metadata": {},
          "data": {
            "text/html": [
              "<table class=\"dataframe\">\n",
              "<caption>A matrix: 1 × 1 of type dbl</caption>\n",
              "<tbody>\n",
              "    <tr><td>2.585467</td></tr>\n",
              "</tbody>\n",
              "</table>"
            ]
          }
        }
      ],
      "source": [
        "mse_2 <- sse_2 / 3\n",
        "mse_2"
      ],
      "id": "d8c047c3-c18f-477c-bbac-7b3acb7e8d4f"
    },
    {
      "cell_type": "markdown",
      "metadata": {},
      "source": [
        "## (3)\n",
        "\n",
        "$x_1 = x_2 = 2$에서 $E(y)$의 95% 신뢰구간을 구하시오."
      ],
      "id": "c8d7e077-730b-4f7c-b97e-7f408982204e"
    },
    {
      "cell_type": "code",
      "execution_count": 169,
      "metadata": {},
      "outputs": [
        {
          "output_type": "display_data",
          "metadata": {},
          "data": {
            "text/html": [
              "<table class=\"dataframe\">\n",
              "<caption>A data.frame: 1 × 2</caption>\n",
              "<thead>\n",
              "    <tr><th scope=col>x1</th><th scope=col>x2</th></tr>\n",
              "    <tr><th scope=col>&lt;dbl&gt;</th><th scope=col>&lt;dbl&gt;</th></tr>\n",
              "</thead>\n",
              "<tbody>\n",
              "    <tr><td>2</td><td>2</td></tr>\n",
              "</tbody>\n",
              "</table>"
            ]
          }
        }
      ],
      "source": [
        "new_dt <- data.frame(x1=2, x2=2)\n",
        "new_dt"
      ],
      "id": "ff602e10-b90f-45fe-b4cf-33e453c89347"
    },
    {
      "cell_type": "code",
      "execution_count": 170,
      "metadata": {},
      "outputs": [
        {
          "output_type": "display_data",
          "metadata": {},
          "data": {
            "text/html": [
              "<table class=\"dataframe\">\n",
              "<caption>A matrix: 1 × 3 of type dbl</caption>\n",
              "<thead>\n",
              "    <tr><th></th><th scope=col>fit</th><th scope=col>lwr</th><th scope=col>upr</th></tr>\n",
              "</thead>\n",
              "<tbody>\n",
              "    <tr><th scope=row>1</th><td>1.046512</td><td>-1.345982</td><td>3.439005</td></tr>\n",
              "</tbody>\n",
              "</table>"
            ]
          }
        }
      ],
      "source": [
        "predict(m, newdata = new_dt,interval = c(\"confidence\"), level = 0.95)"
      ],
      "id": "1ffcfc3e-5131-46f1-a961-6c261ece2f1e"
    },
    {
      "cell_type": "code",
      "execution_count": 171,
      "metadata": {},
      "outputs": [],
      "source": [
        "x0 <- c(1,2,2)"
      ],
      "id": "3b5a1a08-7e54-46ee-87fb-9d235ac3f75c"
    },
    {
      "cell_type": "code",
      "execution_count": 172,
      "metadata": {},
      "outputs": [],
      "source": [
        "mu0 <- x0 %*% b"
      ],
      "id": "a3b72686-d964-49e6-a1c1-9a14ec6864d6"
    },
    {
      "cell_type": "code",
      "execution_count": 173,
      "metadata": {},
      "outputs": [
        {
          "output_type": "display_data",
          "metadata": {},
          "data": {
            "text/html": [
              "<table class=\"dataframe\">\n",
              "<caption>A matrix: 1 × 1 of type dbl</caption>\n",
              "<tbody>\n",
              "    <tr><td>0.2209302</td></tr>\n",
              "</tbody>\n",
              "</table>"
            ]
          }
        }
      ],
      "source": [
        "t(x0) %*% xx_i %*% x0"
      ],
      "id": "61a0349e-63fa-4f6d-a8e4-b5a0a8aa30d2"
    },
    {
      "cell_type": "code",
      "execution_count": 174,
      "metadata": {},
      "outputs": [
        {
          "output_type": "display_data",
          "metadata": {},
          "data": {
            "text/html": [
              "<table class=\"dataframe\">\n",
              "<caption>A matrix: 1 × 1 of type dbl</caption>\n",
              "<tbody>\n",
              "    <tr><td>0.5651704</td></tr>\n",
              "</tbody>\n",
              "</table>"
            ]
          }
        }
      ],
      "source": [
        "var_mu0 <- (t(x0) %*% xx_i %*% x0) * mse\n",
        "var_mu0"
      ],
      "id": "9613007b-d9c6-49d0-94a0-ac3c73582771"
    },
    {
      "cell_type": "code",
      "execution_count": 175,
      "metadata": {},
      "outputs": [
        {
          "output_type": "display_data",
          "metadata": {},
          "data": {
            "text/html": [
              "<table class=\"dataframe\">\n",
              "<caption>A matrix: 1 × 1 of type dbl</caption>\n",
              "<tbody>\n",
              "    <tr><td>2.392494</td></tr>\n",
              "</tbody>\n",
              "</table>"
            ]
          }
        }
      ],
      "source": [
        "tse <- qt(0.975,3) * sqrt(var_mu0)\n",
        "tse"
      ],
      "id": "52ccf1e4-c233-4861-affe-49ce304d9c2f"
    },
    {
      "cell_type": "code",
      "execution_count": 176,
      "metadata": {},
      "outputs": [
        {
          "output_type": "display_data",
          "metadata": {},
          "data": {
            "text/html": [
              "<table class=\"dataframe\">\n",
              "<caption>A matrix: 1 × 1 of type dbl</caption>\n",
              "<tbody>\n",
              "    <tr><td>-1.345982</td></tr>\n",
              "</tbody>\n",
              "</table>"
            ]
          }
        }
      ],
      "source": [
        "mu0 - (tse)"
      ],
      "id": "a443a04e-33b9-4147-801f-fa7af3afd034"
    },
    {
      "cell_type": "code",
      "execution_count": 177,
      "metadata": {},
      "outputs": [
        {
          "output_type": "display_data",
          "metadata": {},
          "data": {
            "text/html": [
              "<table class=\"dataframe\">\n",
              "<caption>A matrix: 1 × 1 of type dbl</caption>\n",
              "<tbody>\n",
              "    <tr><td>3.439005</td></tr>\n",
              "</tbody>\n",
              "</table>"
            ]
          }
        }
      ],
      "source": [
        "mu0 + (tse)"
      ],
      "id": "004b4c5e-808a-4854-a6df-674e7ae352b8"
    },
    {
      "cell_type": "markdown",
      "metadata": {},
      "source": [
        "## (4)\n",
        "\n",
        "$\\beta_1$의 90% 신뢰구간을 구하시오."
      ],
      "id": "563609bc-602c-4269-a0be-031b48649bdb"
    },
    {
      "cell_type": "code",
      "execution_count": 178,
      "metadata": {},
      "outputs": [
        {
          "output_type": "display_data",
          "metadata": {},
          "data": {
            "text/plain": [
              "\n",
              "Call:\n",
              "lm(formula = y ~ ., data = dt)\n",
              "\n",
              "Residuals:\n",
              "      1       2       3       4       5       6 \n",
              "-1.1395  1.3488  0.4651 -1.1628  1.4419 -0.9535 \n",
              "\n",
              "Coefficients:\n",
              "            Estimate Std. Error t value Pr(>|t|)  \n",
              "(Intercept)   3.2326     1.9740   1.638   0.2000  \n",
              "x1            1.5116     0.7713   1.960   0.1449  \n",
              "x2           -2.6047     0.9288  -2.804   0.0676 .\n",
              "---\n",
              "Signif. codes:  0 ‘***’ 0.001 ‘**’ 0.01 ‘*’ 0.05 ‘.’ 0.1 ‘ ’ 1\n",
              "\n",
              "Residual standard error: 1.599 on 3 degrees of freedom\n",
              "Multiple R-squared:  0.7511,    Adjusted R-squared:  0.5852 \n",
              "F-statistic: 4.527 on 2 and 3 DF,  p-value: 0.1242"
            ]
          }
        }
      ],
      "source": [
        "summary(m)"
      ],
      "id": "f7996cdf-8695-4f67-8730-2a51e087471b"
    },
    {
      "cell_type": "code",
      "execution_count": 179,
      "metadata": {},
      "outputs": [
        {
          "output_type": "display_data",
          "metadata": {},
          "data": {
            "text/html": [
              "<table class=\"dataframe\">\n",
              "<caption>A matrix: 3 × 2 of type dbl</caption>\n",
              "<thead>\n",
              "    <tr><th></th><th scope=col>5 %</th><th scope=col>95 %</th></tr>\n",
              "</thead>\n",
              "<tbody>\n",
              "    <tr><th scope=row>(Intercept)</th><td>-1.4129961</td><td> 7.8781124</td></tr>\n",
              "    <tr><th scope=row>x1</th><td>-0.3035404</td><td> 3.3267962</td></tr>\n",
              "    <tr><th scope=row>x2</th><td>-4.7904032</td><td>-0.4188991</td></tr>\n",
              "</tbody>\n",
              "</table>"
            ]
          }
        }
      ],
      "source": [
        "confint(m, level = 0.9)"
      ],
      "id": "f2a4ea52-ddfa-4615-aec9-c7faa287eefc"
    },
    {
      "cell_type": "code",
      "execution_count": 180,
      "metadata": {},
      "outputs": [
        {
          "output_type": "display_data",
          "metadata": {},
          "data": {
            "text/html": [
              "<table class=\"dataframe\">\n",
              "<caption>A matrix: 1 × 1 of type dbl</caption>\n",
              "<tbody>\n",
              "    <tr><td>0.7713081</td></tr>\n",
              "</tbody>\n",
              "</table>"
            ]
          }
        }
      ],
      "source": [
        "se_b1 <- sqrt(xx_i[2,2] * mse)\n",
        "se_b1"
      ],
      "id": "902a9ed4-9249-4bd5-8fce-f6c26cdd8268"
    },
    {
      "cell_type": "code",
      "execution_count": 181,
      "metadata": {},
      "outputs": [
        {
          "output_type": "display_data",
          "metadata": {},
          "data": {
            "text/html": [
              "<table class=\"dataframe\">\n",
              "<caption>A matrix: 1 × 1 of type dbl</caption>\n",
              "<tbody>\n",
              "    <tr><td>1.815168</td></tr>\n",
              "</tbody>\n",
              "</table>"
            ]
          }
        }
      ],
      "source": [
        "tse <- qt(0.95,3) *se_b1\n",
        "tse"
      ],
      "id": "19593e72-6c1f-4acf-afa5-24a44f00b9bb"
    },
    {
      "cell_type": "code",
      "execution_count": 182,
      "metadata": {},
      "outputs": [
        {
          "output_type": "display_data",
          "metadata": {},
          "data": {
            "text/html": [
              "<table class=\"dataframe\">\n",
              "<caption>A matrix: 1 × 1 of type dbl</caption>\n",
              "<tbody>\n",
              "    <tr><td>-0.3035404</td></tr>\n",
              "</tbody>\n",
              "</table>"
            ]
          }
        }
      ],
      "source": [
        "b[2] - tse"
      ],
      "id": "4275ba62-f33e-40d7-bf41-b321078ff85a"
    },
    {
      "cell_type": "code",
      "execution_count": 183,
      "metadata": {},
      "outputs": [
        {
          "output_type": "display_data",
          "metadata": {},
          "data": {
            "text/html": [
              "<table class=\"dataframe\">\n",
              "<caption>A matrix: 1 × 1 of type dbl</caption>\n",
              "<tbody>\n",
              "    <tr><td>3.326796</td></tr>\n",
              "</tbody>\n",
              "</table>"
            ]
          }
        }
      ],
      "source": [
        "b[2] + tse"
      ],
      "id": "1c36520a-7615-454d-8724-5873f2e95829"
    },
    {
      "cell_type": "markdown",
      "metadata": {},
      "source": [
        "## (5)\n",
        "\n",
        "가설 $H_0: \\beta_1 = \\beta_2, H_1: \\beta_1 \\neq \\beta_2$을 유의수준\n",
        "$\\alpha = 0.05$"
      ],
      "id": "2615d52d-b3f8-4099-9a36-d54927425127"
    },
    {
      "cell_type": "code",
      "execution_count": 184,
      "metadata": {},
      "outputs": [],
      "source": [
        "library(car)"
      ],
      "id": "fd996893-9402-4a83-b54d-788c31f5472a"
    },
    {
      "cell_type": "code",
      "execution_count": 185,
      "metadata": {},
      "outputs": [
        {
          "output_type": "display_data",
          "metadata": {},
          "data": {
            "text/html": [
              "<table class=\"dataframe\">\n",
              "<caption>A anova: 2 × 6</caption>\n",
              "<thead>\n",
              "    <tr><th></th><th scope=col>Res.Df</th><th scope=col>RSS</th><th scope=col>Df</th><th scope=col>Sum of Sq</th><th scope=col>F</th><th scope=col>Pr(&gt;F)</th></tr>\n",
              "    <tr><th></th><th scope=col>&lt;dbl&gt;</th><th scope=col>&lt;dbl&gt;</th><th scope=col>&lt;dbl&gt;</th><th scope=col>&lt;dbl&gt;</th><th scope=col>&lt;dbl&gt;</th><th scope=col>&lt;dbl&gt;</th></tr>\n",
              "</thead>\n",
              "<tbody>\n",
              "    <tr><th scope=row>1</th><td>4</td><td>30.092308</td><td>NA</td><td>      NA</td><td>      NA</td><td>        NA</td></tr>\n",
              "    <tr><th scope=row>2</th><td>3</td><td> 7.674419</td><td> 1</td><td>22.41789</td><td>8.763357</td><td>0.05952979</td></tr>\n",
              "</tbody>\n",
              "</table>"
            ]
          }
        }
      ],
      "source": [
        "linearHypothesis(m, c(0,1,-1), 0)"
      ],
      "id": "a807391c-c5bc-4ad5-9128-83cdc440bd09"
    },
    {
      "cell_type": "code",
      "execution_count": 186,
      "metadata": {},
      "outputs": [],
      "source": [
        "z <- matrix(c(1,1,1,1,1,1,x[,2]+x[,3]), ncol=2)"
      ],
      "id": "00e0fc77-67a1-4951-8920-48d61dfc615f"
    },
    {
      "cell_type": "code",
      "execution_count": 187,
      "metadata": {},
      "outputs": [
        {
          "output_type": "display_data",
          "metadata": {},
          "data": {
            "text/html": [
              "<table class=\"dataframe\">\n",
              "<caption>A matrix: 2 × 2 of type dbl</caption>\n",
              "<tbody>\n",
              "    <tr><td> 6</td><td>23</td></tr>\n",
              "    <tr><td>23</td><td>99</td></tr>\n",
              "</tbody>\n",
              "</table>"
            ]
          }
        }
      ],
      "source": [
        "zz <- t(z) %*% z\n",
        "zz"
      ],
      "id": "d21b0455-72be-4764-997e-57318314098a"
    },
    {
      "cell_type": "code",
      "execution_count": 188,
      "metadata": {},
      "outputs": [
        {
          "output_type": "display_data",
          "metadata": {},
          "data": {
            "text/html": [
              "<table class=\"dataframe\">\n",
              "<caption>A matrix: 2 × 2 of type dbl</caption>\n",
              "<tbody>\n",
              "    <tr><td> 1.5230769</td><td>-0.35384615</td></tr>\n",
              "    <tr><td>-0.3538462</td><td> 0.09230769</td></tr>\n",
              "</tbody>\n",
              "</table>"
            ]
          }
        }
      ],
      "source": [
        "zz_i <- solve(zz)\n",
        "zz_i"
      ],
      "id": "622f7635-c43f-41bd-a190-4216fa30b4f0"
    },
    {
      "cell_type": "code",
      "execution_count": 189,
      "metadata": {},
      "outputs": [
        {
          "output_type": "display_data",
          "metadata": {},
          "data": {
            "text/html": [
              "<table class=\"dataframe\">\n",
              "<caption>A matrix: 2 × 1 of type dbl</caption>\n",
              "<tbody>\n",
              "    <tr><td>13</td></tr>\n",
              "    <tr><td>47</td></tr>\n",
              "</tbody>\n",
              "</table>"
            ]
          }
        }
      ],
      "source": [
        "zy <- t(z) %*% y\n",
        "zy"
      ],
      "id": "9aec5291-66ee-4f11-ad3c-2ba2e7d84d0d"
    },
    {
      "cell_type": "code",
      "execution_count": 190,
      "metadata": {},
      "outputs": [
        {
          "output_type": "display_data",
          "metadata": {},
          "data": {
            "text/html": [
              "<table class=\"dataframe\">\n",
              "<caption>A matrix: 1 × 1 of type dbl</caption>\n",
              "<tbody>\n",
              "    <tr><td>59</td></tr>\n",
              "</tbody>\n",
              "</table>"
            ]
          }
        }
      ],
      "source": [
        "yy <- t(y) %*% y\n",
        "yy"
      ],
      "id": "98ca80d7-e852-44f4-bded-15924842db1b"
    },
    {
      "cell_type": "code",
      "execution_count": 191,
      "metadata": {},
      "outputs": [
        {
          "output_type": "display_data",
          "metadata": {},
          "data": {
            "text/html": [
              "<table class=\"dataframe\">\n",
              "<caption>A matrix: 6 × 6 of type dbl</caption>\n",
              "<tbody>\n",
              "    <tr><td> 0.47692308</td><td>3.076923e-01</td><td>3.076923e-01</td><td>0.1384615</td><td>-0.03076923</td><td>-2.000000e-01</td></tr>\n",
              "    <tr><td> 0.30769231</td><td>2.307692e-01</td><td>2.307692e-01</td><td>0.1538462</td><td> 0.07692308</td><td> 1.110223e-16</td></tr>\n",
              "    <tr><td> 0.30769231</td><td>2.307692e-01</td><td>2.307692e-01</td><td>0.1538462</td><td> 0.07692308</td><td> 1.110223e-16</td></tr>\n",
              "    <tr><td> 0.13846154</td><td>1.538462e-01</td><td>1.538462e-01</td><td>0.1692308</td><td> 0.18461538</td><td> 2.000000e-01</td></tr>\n",
              "    <tr><td>-0.03076923</td><td>7.692308e-02</td><td>7.692308e-02</td><td>0.1846154</td><td> 0.29230769</td><td> 4.000000e-01</td></tr>\n",
              "    <tr><td>-0.20000000</td><td>1.110223e-16</td><td>1.110223e-16</td><td>0.2000000</td><td> 0.40000000</td><td> 6.000000e-01</td></tr>\n",
              "</tbody>\n",
              "</table>"
            ]
          }
        }
      ],
      "source": [
        "z %*% zz_i %*% t(z)"
      ],
      "id": "e7cb2b17-0c83-4104-9a59-b7749bad1124"
    },
    {
      "cell_type": "code",
      "execution_count": 192,
      "metadata": {},
      "outputs": [
        {
          "output_type": "display_data",
          "metadata": {},
          "data": {
            "text/html": [
              "<table class=\"dataframe\">\n",
              "<caption>A matrix: 2 × 1 of type dbl</caption>\n",
              "<tbody>\n",
              "    <tr><td> 3.1692308</td></tr>\n",
              "    <tr><td>-0.2615385</td></tr>\n",
              "</tbody>\n",
              "</table>"
            ]
          }
        }
      ],
      "source": [
        "gammahat <- zz_i %*% t(z) %*% y\n",
        "gammahat"
      ],
      "id": "3bf6f15b-f869-4c70-b5c8-5dfac67e6bd8"
    },
    {
      "cell_type": "code",
      "execution_count": 193,
      "metadata": {},
      "outputs": [
        {
          "output_type": "display_data",
          "metadata": {},
          "data": {
            "text/html": [
              "<table class=\"dataframe\">\n",
              "<caption>A matrix: 6 × 1 of type dbl</caption>\n",
              "<tbody>\n",
              "    <tr><td>-1.646154</td></tr>\n",
              "    <tr><td> 2.615385</td></tr>\n",
              "    <tr><td>-2.384615</td></tr>\n",
              "    <tr><td> 1.876923</td></tr>\n",
              "    <tr><td> 2.138462</td></tr>\n",
              "    <tr><td>-2.600000</td></tr>\n",
              "</tbody>\n",
              "</table>"
            ]
          }
        }
      ],
      "source": [
        "e <- y - z %*% gammahat\n",
        "e"
      ],
      "id": "b50e4ed9-27b7-43e3-bce9-311690f6e4c2"
    },
    {
      "cell_type": "code",
      "execution_count": 194,
      "metadata": {},
      "outputs": [
        {
          "output_type": "display_data",
          "metadata": {},
          "data": {
            "text/html": [
              "<table class=\"dataframe\">\n",
              "<caption>A matrix: 1 × 1 of type dbl</caption>\n",
              "<tbody>\n",
              "    <tr><td>30.09231</td></tr>\n",
              "</tbody>\n",
              "</table>"
            ]
          }
        }
      ],
      "source": [
        "sse_rm <- t(e) %*% e\n",
        "sse_rm"
      ],
      "id": "8dd81ab5-ac71-4249-b3ca-ac6499a82c04"
    },
    {
      "cell_type": "code",
      "execution_count": 195,
      "metadata": {},
      "outputs": [
        {
          "output_type": "display_data",
          "metadata": {},
          "data": {
            "text/html": [
              "<table class=\"dataframe\">\n",
              "<caption>A matrix: 1 × 1 of type dbl</caption>\n",
              "<tbody>\n",
              "    <tr><td>8.763357</td></tr>\n",
              "</tbody>\n",
              "</table>"
            ]
          }
        }
      ],
      "source": [
        "f0 = (sse_rm - sse)/(sse/3)\n",
        "f0"
      ],
      "id": "33726d03-93a1-4806-8232-0006b7ffbfa2"
    },
    {
      "cell_type": "code",
      "execution_count": 196,
      "metadata": {},
      "outputs": [
        {
          "output_type": "display_data",
          "metadata": {},
          "data": {
            "text/html": [
              "10.1279644860139"
            ]
          }
        }
      ],
      "source": [
        "qf(0.95,1,3)"
      ],
      "id": "525d5eb9-3e9d-4a93-b71c-c4753f9b522a"
    },
    {
      "cell_type": "markdown",
      "metadata": {},
      "source": [
        "**T검정 방법**"
      ],
      "id": "0a14017b-b6eb-4481-87a2-e6ed06d818fa"
    },
    {
      "cell_type": "code",
      "execution_count": 197,
      "metadata": {},
      "outputs": [],
      "source": [
        "q = c(0,1,-1)"
      ],
      "id": "a5d4691c-a17c-40c9-92cf-c83980750495"
    },
    {
      "cell_type": "code",
      "execution_count": 198,
      "metadata": {},
      "outputs": [
        {
          "output_type": "display_data",
          "metadata": {},
          "data": {
            "text/html": [
              "<table class=\"dataframe\">\n",
              "<caption>A matrix: 1 × 1 of type dbl</caption>\n",
              "<tbody>\n",
              "    <tr><td>1.933478</td></tr>\n",
              "</tbody>\n",
              "</table>"
            ]
          }
        }
      ],
      "source": [
        "var_qb = t(q) %*% xx_i %*% q*  mse\n",
        "var_qb"
      ],
      "id": "9986c050-d214-4321-ad4e-1680b112e02d"
    },
    {
      "cell_type": "code",
      "execution_count": 199,
      "metadata": {},
      "outputs": [
        {
          "output_type": "display_data",
          "metadata": {},
          "data": {
            "text/html": [
              "<table class=\"dataframe\">\n",
              "<caption>A matrix: 1 × 1 of type dbl</caption>\n",
              "<tbody>\n",
              "    <tr><td>1.390495</td></tr>\n",
              "</tbody>\n",
              "</table>"
            ]
          }
        }
      ],
      "source": [
        "se_qb = sqrt(var_qb)\n",
        "se_qb"
      ],
      "id": "6727a165-5fed-4517-b296-7d448391af8b"
    },
    {
      "cell_type": "code",
      "execution_count": 200,
      "metadata": {},
      "outputs": [
        {
          "output_type": "display_data",
          "metadata": {},
          "data": {
            "text/html": [
              "<table class=\"dataframe\">\n",
              "<caption>A matrix: 1 × 1 of type dbl</caption>\n",
              "<tbody>\n",
              "    <tr><td>2.960297</td></tr>\n",
              "</tbody>\n",
              "</table>"
            ]
          }
        }
      ],
      "source": [
        "t0 = (t(q) %*% b )/se_qb\n",
        "t0"
      ],
      "id": "21df44c6-f5a0-438c-98ed-f2096736db47"
    },
    {
      "cell_type": "code",
      "execution_count": 201,
      "metadata": {
        "tags": []
      },
      "outputs": [
        {
          "output_type": "display_data",
          "metadata": {},
          "data": {
            "text/html": [
              "<table class=\"dataframe\">\n",
              "<caption>A matrix: 1 × 1 of type dbl</caption>\n",
              "<tbody>\n",
              "    <tr><td>8.763357</td></tr>\n",
              "</tbody>\n",
              "</table>"
            ]
          }
        }
      ],
      "source": [
        "t0^2"
      ],
      "id": "9adfd3e2-a601-4a8d-abbb-16e7a9b570fe"
    },
    {
      "cell_type": "markdown",
      "metadata": {},
      "source": [
        "## (6)\n",
        "\n",
        "가설 $H_0 : \\beta_1 = 0, H_1 : \\beta_1 \\neq 0$을 유의수준\n",
        "$\\alpha = 0.1$로 검정하시오. 위 (3)의 질문의 결과와 어떠한 연관을 지을\n",
        "수 있는가?"
      ],
      "id": "5567269b-38dd-4c8d-8057-07c55ce73ebe"
    },
    {
      "cell_type": "code",
      "execution_count": 202,
      "metadata": {},
      "outputs": [],
      "source": [
        "t0 <- b[2] / se_b1"
      ],
      "id": "3e6359cc-ec91-4029-9618-bb8af25be91a"
    },
    {
      "cell_type": "code",
      "execution_count": 203,
      "metadata": {},
      "outputs": [
        {
          "output_type": "display_data",
          "metadata": {},
          "data": {
            "text/html": [
              "2.35336343480182"
            ]
          }
        }
      ],
      "source": [
        "qt(0.95,3)"
      ],
      "id": "db241eec-e592-4422-8401-843bb0f0da8f"
    },
    {
      "cell_type": "markdown",
      "metadata": {},
      "source": [
        "## (7)\n",
        "\n",
        "$x_1 = 2, x_2 = 3$에서 가설 $H_0 : E(y) = 4,H_1 : E(y) \\neq 4$를\n",
        "$\\alpha = 0.05$로 검정하시오"
      ],
      "id": "c82d381b-e4cb-4deb-8b65-9759068aa49b"
    },
    {
      "cell_type": "code",
      "execution_count": 204,
      "metadata": {},
      "outputs": [],
      "source": [
        "new_dt <- data.frame(x1=2, x2=2)"
      ],
      "id": "1f05f9a7-f4e1-4abc-905a-6811db414867"
    },
    {
      "cell_type": "code",
      "execution_count": 205,
      "metadata": {},
      "outputs": [
        {
          "output_type": "display_data",
          "metadata": {},
          "data": {
            "text/html": [
              "<table class=\"dataframe\">\n",
              "<caption>A matrix: 1 × 3 of type dbl</caption>\n",
              "<thead>\n",
              "    <tr><th></th><th scope=col>fit</th><th scope=col>lwr</th><th scope=col>upr</th></tr>\n",
              "</thead>\n",
              "<tbody>\n",
              "    <tr><th scope=row>1</th><td>1.046512</td><td>-1.345982</td><td>3.439005</td></tr>\n",
              "</tbody>\n",
              "</table>"
            ]
          }
        }
      ],
      "source": [
        "predict(m, newdata = new_dt,interval = c(\"confidence\"), level = 0.95)"
      ],
      "id": "0b51a3ad-1c0c-4aed-9101-fc3b388ede19"
    },
    {
      "cell_type": "code",
      "execution_count": 206,
      "metadata": {},
      "outputs": [],
      "source": [
        "x0 <- c(1,2,3)"
      ],
      "id": "0126e785-54e2-4e9c-837b-a325bfaf3500"
    },
    {
      "cell_type": "code",
      "execution_count": 207,
      "metadata": {},
      "outputs": [],
      "source": [
        "mu0 <- x0 %*% b"
      ],
      "id": "e9e7e1ad-6864-4abb-bc40-7b001183c1e5"
    },
    {
      "cell_type": "code",
      "execution_count": 208,
      "metadata": {},
      "outputs": [
        {
          "output_type": "display_data",
          "metadata": {},
          "data": {
            "text/html": [
              "<table class=\"dataframe\">\n",
              "<caption>A matrix: 1 × 1 of type dbl</caption>\n",
              "<tbody>\n",
              "    <tr><td>0.8139535</td></tr>\n",
              "</tbody>\n",
              "</table>"
            ]
          }
        }
      ],
      "source": [
        "t(x0) %*% xx_i %*% x0"
      ],
      "id": "c2f1d9b6-cf08-43f3-8ee8-f96d05b7b7a8"
    },
    {
      "cell_type": "code",
      "execution_count": 209,
      "metadata": {},
      "outputs": [
        {
          "output_type": "display_data",
          "metadata": {},
          "data": {
            "text/html": [
              "<table class=\"dataframe\">\n",
              "<caption>A matrix: 1 × 1 of type dbl</caption>\n",
              "<tbody>\n",
              "    <tr><td>2.082207</td></tr>\n",
              "</tbody>\n",
              "</table>"
            ]
          }
        }
      ],
      "source": [
        "var_mu0 <- (t(x0) %*% xx_i %*% x0) * mse\n",
        "var_mu0"
      ],
      "id": "3ad19b5f-8a2b-414a-ae7e-10bb65d5c5cd"
    },
    {
      "cell_type": "code",
      "execution_count": 210,
      "metadata": {},
      "outputs": [
        {
          "output_type": "display_data",
          "metadata": {},
          "data": {
            "text/html": [
              "<table class=\"dataframe\">\n",
              "<caption>A matrix: 1 × 1 of type dbl</caption>\n",
              "<tbody>\n",
              "    <tr><td>-3.851834</td></tr>\n",
              "</tbody>\n",
              "</table>"
            ]
          }
        }
      ],
      "source": [
        "t0 <- (mu0-4)/ sqrt(var_mu0)\n",
        "t0"
      ],
      "id": "0254e36f-0e05-4b4b-ad04-87e590e62a3b"
    },
    {
      "cell_type": "code",
      "execution_count": 211,
      "metadata": {},
      "outputs": [
        {
          "output_type": "display_data",
          "metadata": {},
          "data": {
            "text/html": [
              "3.18244630528371"
            ]
          }
        }
      ],
      "source": [
        "qt(0.975,3)"
      ],
      "id": "ce6481cd-5323-428d-b958-a07c8d37eaa1"
    },
    {
      "cell_type": "markdown",
      "metadata": {},
      "source": [
        "## (8)\n",
        "\n",
        "가설 $H_0 : \\beta_2 = 0, H_1: \\beta_2 <0$을 $\\alpha = 0.05$ 로\n",
        "검정하시오."
      ],
      "id": "2095d27f-d8ad-4f4f-9e69-2c542d4bd9bb"
    },
    {
      "cell_type": "code",
      "execution_count": 212,
      "metadata": {},
      "outputs": [
        {
          "output_type": "display_data",
          "metadata": {},
          "data": {
            "text/html": [
              "<table class=\"dataframe\">\n",
              "<caption>A matrix: 1 × 1 of type dbl</caption>\n",
              "<tbody>\n",
              "    <tr><td>0.9287779</td></tr>\n",
              "</tbody>\n",
              "</table>"
            ]
          }
        }
      ],
      "source": [
        "se_b2 <- sqrt(xx_i[3,3] * mse)\n",
        "se_b2"
      ],
      "id": "2ac2371c-25bb-4cf2-b53f-39a628f075c6"
    },
    {
      "cell_type": "code",
      "execution_count": 213,
      "metadata": {},
      "outputs": [
        {
          "output_type": "display_data",
          "metadata": {},
          "data": {
            "text/html": [
              "<table class=\"dataframe\">\n",
              "<caption>A matrix: 1 × 1 of type dbl</caption>\n",
              "<tbody>\n",
              "    <tr><td>-2.804385</td></tr>\n",
              "</tbody>\n",
              "</table>"
            ]
          }
        }
      ],
      "source": [
        "t0<- b[3] / se_b2\n",
        "t0"
      ],
      "id": "71feacaa-b7f8-4c03-bf0d-1b27f02d1087"
    },
    {
      "cell_type": "markdown",
      "metadata": {},
      "source": [
        "## (9)\n",
        "\n",
        "가설 \\$H_0: \\_1 = 2\\_2, H_1 : \\_1 \\_2 \\$를 $\\alpha=0..05$로 검정하시오."
      ],
      "id": "f7159631-f061-44da-b91f-c2e9c104a270"
    },
    {
      "cell_type": "code",
      "execution_count": 214,
      "metadata": {},
      "outputs": [
        {
          "output_type": "display_data",
          "metadata": {},
          "data": {
            "text/html": [
              "<table class=\"dataframe\">\n",
              "<caption>A anova: 2 × 6</caption>\n",
              "<thead>\n",
              "    <tr><th></th><th scope=col>Res.Df</th><th scope=col>RSS</th><th scope=col>Df</th><th scope=col>Sum of Sq</th><th scope=col>F</th><th scope=col>Pr(&gt;F)</th></tr>\n",
              "    <tr><th></th><th scope=col>&lt;dbl&gt;</th><th scope=col>&lt;dbl&gt;</th><th scope=col>&lt;dbl&gt;</th><th scope=col>&lt;dbl&gt;</th><th scope=col>&lt;dbl&gt;</th><th scope=col>&lt;dbl&gt;</th></tr>\n",
              "</thead>\n",
              "<tbody>\n",
              "    <tr><th scope=row>1</th><td>4</td><td>30.797619</td><td>NA</td><td>     NA</td><td>      NA</td><td>        NA</td></tr>\n",
              "    <tr><th scope=row>2</th><td>3</td><td> 7.674419</td><td> 1</td><td>23.1232</td><td>9.039069</td><td>0.05737101</td></tr>\n",
              "</tbody>\n",
              "</table>"
            ]
          }
        }
      ],
      "source": [
        "linearHypothesis(m, c(0,1,-2), 0)"
      ],
      "id": "3aa0dd8e-6e72-445e-bebd-86920d2a8463"
    },
    {
      "cell_type": "code",
      "execution_count": 215,
      "metadata": {},
      "outputs": [],
      "source": [
        "z <- matrix(c(1,1,1,1,1,1,2*x[,2]+x[,3]), ncol=2)"
      ],
      "id": "e1ec951a-07a7-44f7-a958-ed4a01eed168"
    },
    {
      "cell_type": "code",
      "execution_count": 216,
      "metadata": {},
      "outputs": [
        {
          "output_type": "display_data",
          "metadata": {},
          "data": {
            "text/html": [
              "<table class=\"dataframe\">\n",
              "<caption>A matrix: 2 × 2 of type dbl</caption>\n",
              "<tbody>\n",
              "    <tr><td> 6</td><td> 36</td></tr>\n",
              "    <tr><td>36</td><td>244</td></tr>\n",
              "</tbody>\n",
              "</table>"
            ]
          }
        }
      ],
      "source": [
        "zz <- t(z) %*% z\n",
        "zz"
      ],
      "id": "d795d740-fbca-4f8e-8e0c-a3cd5b0a8728"
    },
    {
      "cell_type": "code",
      "execution_count": 217,
      "metadata": {},
      "outputs": [
        {
          "output_type": "display_data",
          "metadata": {},
          "data": {
            "text/html": [
              "<table class=\"dataframe\">\n",
              "<caption>A matrix: 2 × 2 of type dbl</caption>\n",
              "<tbody>\n",
              "    <tr><td> 1.4523810</td><td>-0.21428571</td></tr>\n",
              "    <tr><td>-0.2142857</td><td> 0.03571429</td></tr>\n",
              "</tbody>\n",
              "</table>"
            ]
          }
        }
      ],
      "source": [
        "zz_i <- solve(zz)\n",
        "zz_i"
      ],
      "id": "f7dd697b-e449-419e-af55-1fa6acab767d"
    },
    {
      "cell_type": "code",
      "execution_count": 218,
      "metadata": {},
      "outputs": [
        {
          "output_type": "display_data",
          "metadata": {},
          "data": {
            "text/html": [
              "<table class=\"dataframe\">\n",
              "<caption>A matrix: 2 × 1 of type dbl</caption>\n",
              "<tbody>\n",
              "    <tr><td>13</td></tr>\n",
              "    <tr><td>79</td></tr>\n",
              "</tbody>\n",
              "</table>"
            ]
          }
        }
      ],
      "source": [
        "zy <- t(z) %*% y\n",
        "zy"
      ],
      "id": "0ba910eb-4b35-4436-bb57-22c77797ace3"
    },
    {
      "cell_type": "code",
      "execution_count": 219,
      "metadata": {},
      "outputs": [
        {
          "output_type": "display_data",
          "metadata": {},
          "data": {
            "text/html": [
              "<table class=\"dataframe\">\n",
              "<caption>A matrix: 1 × 1 of type dbl</caption>\n",
              "<tbody>\n",
              "    <tr><td>59</td></tr>\n",
              "</tbody>\n",
              "</table>"
            ]
          }
        }
      ],
      "source": [
        "yy <- t(y) %*% y\n",
        "yy"
      ],
      "id": "a518f5d4-de84-48cc-99ad-c8d387048a05"
    },
    {
      "cell_type": "code",
      "execution_count": 220,
      "metadata": {},
      "outputs": [
        {
          "output_type": "display_data",
          "metadata": {},
          "data": {
            "text/html": [
              "<table class=\"dataframe\">\n",
              "<caption>A matrix: 6 × 6 of type dbl</caption>\n",
              "<tbody>\n",
              "    <tr><td> 0.48809524</td><td>0.27380952</td><td> 0.38095238</td><td>0.05952381</td><td>-0.04761905</td><td>-0.15476190</td></tr>\n",
              "    <tr><td> 0.27380952</td><td>0.20238095</td><td> 0.23809524</td><td>0.13095238</td><td> 0.09523810</td><td> 0.05952381</td></tr>\n",
              "    <tr><td> 0.38095238</td><td>0.23809524</td><td> 0.30952381</td><td>0.09523810</td><td> 0.02380952</td><td>-0.04761905</td></tr>\n",
              "    <tr><td> 0.05952381</td><td>0.13095238</td><td> 0.09523810</td><td>0.20238095</td><td> 0.23809524</td><td> 0.27380952</td></tr>\n",
              "    <tr><td>-0.04761905</td><td>0.09523810</td><td> 0.02380952</td><td>0.23809524</td><td> 0.30952381</td><td> 0.38095238</td></tr>\n",
              "    <tr><td>-0.15476190</td><td>0.05952381</td><td>-0.04761905</td><td>0.27380952</td><td> 0.38095238</td><td> 0.48809524</td></tr>\n",
              "</tbody>\n",
              "</table>"
            ]
          }
        }
      ],
      "source": [
        "z %*% zz_i %*% t(z)"
      ],
      "id": "f546a47c-65f7-4bc0-89a7-8a2156358dbc"
    },
    {
      "cell_type": "code",
      "execution_count": 221,
      "metadata": {},
      "outputs": [
        {
          "output_type": "display_data",
          "metadata": {},
          "data": {
            "text/html": [
              "<table class=\"dataframe\">\n",
              "<caption>A matrix: 2 × 1 of type dbl</caption>\n",
              "<tbody>\n",
              "    <tr><td>1.95238095</td></tr>\n",
              "    <tr><td>0.03571429</td></tr>\n",
              "</tbody>\n",
              "</table>"
            ]
          }
        }
      ],
      "source": [
        "gammahat <- zz_i %*% t(z) %*% y\n",
        "gammahat"
      ],
      "id": "337c6e7b-70a5-42c3-beee-95cbbd731254"
    },
    {
      "cell_type": "code",
      "execution_count": 222,
      "metadata": {},
      "outputs": [
        {
          "output_type": "display_data",
          "metadata": {},
          "data": {
            "text/html": [
              "<table class=\"dataframe\">\n",
              "<caption>A matrix: 6 × 1 of type dbl</caption>\n",
              "<tbody>\n",
              "    <tr><td>-1.059524</td></tr>\n",
              "    <tr><td> 2.869048</td></tr>\n",
              "    <tr><td>-2.095238</td></tr>\n",
              "    <tr><td> 1.797619</td></tr>\n",
              "    <tr><td> 1.761905</td></tr>\n",
              "    <tr><td>-3.273810</td></tr>\n",
              "</tbody>\n",
              "</table>"
            ]
          }
        }
      ],
      "source": [
        "e <- y - z %*% gammahat\n",
        "e"
      ],
      "id": "5500a29a-c986-4f49-a08a-3de6275fb0ca"
    },
    {
      "cell_type": "code",
      "execution_count": 223,
      "metadata": {},
      "outputs": [
        {
          "output_type": "display_data",
          "metadata": {},
          "data": {
            "text/html": [
              "<table class=\"dataframe\">\n",
              "<caption>A matrix: 1 × 1 of type dbl</caption>\n",
              "<tbody>\n",
              "    <tr><td>30.79762</td></tr>\n",
              "</tbody>\n",
              "</table>"
            ]
          }
        }
      ],
      "source": [
        "sse_rm <- t(e) %*% e\n",
        "sse_rm"
      ],
      "id": "3feb1751-2905-45ca-9e3e-72692de861ba"
    },
    {
      "cell_type": "code",
      "execution_count": 224,
      "metadata": {},
      "outputs": [
        {
          "output_type": "display_data",
          "metadata": {},
          "data": {
            "text/html": [
              "<table class=\"dataframe\">\n",
              "<caption>A matrix: 1 × 1 of type dbl</caption>\n",
              "<tbody>\n",
              "    <tr><td>9.039069</td></tr>\n",
              "</tbody>\n",
              "</table>"
            ]
          }
        }
      ],
      "source": [
        "f0 = (sse_rm - sse)/(sse/3)\n",
        "f0"
      ],
      "id": "1969ebba-e707-4e8d-8d04-825efbafe509"
    },
    {
      "cell_type": "code",
      "execution_count": 225,
      "metadata": {},
      "outputs": [
        {
          "output_type": "display_data",
          "metadata": {},
          "data": {
            "text/html": [
              "10.1279644860139"
            ]
          }
        }
      ],
      "source": [
        "qf(0.95,1,3)"
      ],
      "id": "1aba5681-3808-4283-97f4-76027ed72a09"
    }
  ],
  "nbformat": 4,
  "nbformat_minor": 5,
  "metadata": {
    "kernelspec": {
      "name": "ir",
      "display_name": "R",
      "language": "R"
    },
    "language_info": {
      "name": "R",
      "codemirror_mode": "r",
      "file_extension": ".r",
      "mimetype": "text/x-r-source",
      "pygments_lexer": "r",
      "version": "4.1.2"
    }
  }
}