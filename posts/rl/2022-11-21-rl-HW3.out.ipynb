{
  "cells": [
    {
      "cell_type": "markdown",
      "metadata": {},
      "source": [
        "# Regression HW 3\n",
        "\n",
        "SEOYEON CHOI  \n",
        "2022-11-21\n",
        "\n",
        "고급회귀분석 과제, CH03,07\n",
        "\n",
        "------------------------------------------------------------------------\n",
        "\n",
        "고급회귀분석 세번째 과제입니다.\n",
        "\n",
        "제출 기한 : 11월 21일\n",
        "\n",
        "제출 방법\n",
        "\n",
        "-   직접 제출(607호) 도 가능하지만,\n",
        "\n",
        "-   문서 작성 후 pdf로 변환(★★★)하여 lms에 제출을 추천\n",
        "\n",
        "(pdf 아닌 문서는 미제출로 간주)\n",
        "\n",
        "주의사항\n",
        "\n",
        "-   pdf로 꼭 변환하여 제출\n",
        "\n",
        "-   풀이가 꼭 있어야 함 (답만 적혀 있는 경우 ’0’점 처리)\n",
        "\n",
        "-   부정행위 시 ’F’학점\n",
        "\n",
        "-   계산은 R로 해도 되지만 계산 풀이 과정이 꼭 있어야 함!!\n",
        "\n",
        "예) R에서 lm으로 beta의 추정량을 구하면 안 됨. 수업 시간에 배운 식으로\n",
        "풀이를 적어야 함.\n",
        "\n",
        "-   행렬식 계산은 R로 해도 됩니다.\n",
        "\n",
        "\\*\\*\\*\\*\\*\\*\\*\\*\\*\\*\\*\\* R을 이용해서 푸는 문제는, R 코드도 같이 업로드.\n",
        "\n",
        "------------------------------------------------------------------------\n",
        "\n",
        "# 1.\n",
        "\n",
        "어떤 큰 공장에서 동일한 기계들의 정비기록에 관한 표본자료를 취하였다.\n",
        "이는 기계의 사용연도(age of machines)와 정비비용(maintenance cost) 간에\n",
        "어떤 관계가 있는가를 밝혀내기 위한 것이다. 그 자료는 다음과 같다 (표본의\n",
        "크기 $n = 14$).\n",
        "\n",
        "| 사용연도$X$(단위:년) | 정비비용$Y$(단위:1,000원) |\n",
        "|:--------------------:|:-------------------------:|\n",
        "|          3           |            39             |\n",
        "|          1           |            24             |\n",
        "|          5           |            115            |\n",
        "|          8           |            105            |\n",
        "|          1           |            50             |\n",
        "|          4           |            86             |\n",
        "|          2           |            67             |\n",
        "|          6           |            90             |\n",
        "|          9           |            140            |\n",
        "|          3           |            112            |\n",
        "|          5           |            70             |\n",
        "|          7           |            186            |\n",
        "|          2           |            43             |\n",
        "|          6           |            126            |"
      ],
      "id": "1c603ae9-6fc3-4353-b338-9892a25c76bc"
    },
    {
      "cell_type": "code",
      "execution_count": 1,
      "metadata": {},
      "outputs": [],
      "source": [
        "dt <- data.frame(y=c(39,24,115,105,50,86,67,90,140,112,70,186,43,126), \n",
        "                 x=c(3,1,5,8,1,4,2,6,9,3,5,7,2,6))"
      ],
      "id": "70882de7-cb1f-49eb-9547-c30fc390789f"
    },
    {
      "cell_type": "code",
      "execution_count": 2,
      "metadata": {},
      "outputs": [],
      "source": [
        "x <- matrix(c(rep(1,14), dt$x), ncol=2)"
      ],
      "id": "41760b1e-0ab7-44a9-b660-943dc4b1def0"
    },
    {
      "cell_type": "code",
      "execution_count": 3,
      "metadata": {},
      "outputs": [],
      "source": [
        "y <- matrix(c(dt$y), ncol=1)"
      ],
      "id": "ffcc6071-f04d-4d77-a9e6-06f7b0cdfcb7"
    },
    {
      "cell_type": "markdown",
      "metadata": {},
      "source": [
        "## (1)\n",
        "\n",
        "$X^\\top X, X^\\top y, y^\\top y$와 $(X^\\top X)^{-1}$을 구하시오."
      ],
      "id": "d4e6c6e0-6d26-4f5f-afe2-e03760db5911"
    },
    {
      "cell_type": "code",
      "execution_count": 4,
      "metadata": {},
      "outputs": [],
      "source": [
        "xx <- t(x) %*% x"
      ],
      "id": "7e6478db-edf9-42b1-9dba-ee2614b9c9e4"
    },
    {
      "cell_type": "code",
      "execution_count": 5,
      "metadata": {},
      "outputs": [
        {
          "output_type": "display_data",
          "metadata": {},
          "data": {}
        }
      ],
      "source": [
        "xx"
      ],
      "id": "14a0977d-b0ca-46d3-92fa-2f2701c75ce8"
    },
    {
      "cell_type": "code",
      "execution_count": 6,
      "metadata": {},
      "outputs": [],
      "source": [
        "xy <- t(x) %*% y"
      ],
      "id": "d44c5cac-293b-4780-b3d7-bb36e26a800d"
    },
    {
      "cell_type": "code",
      "execution_count": 7,
      "metadata": {},
      "outputs": [
        {
          "output_type": "display_data",
          "metadata": {},
          "data": {}
        }
      ],
      "source": [
        "xy"
      ],
      "id": "74ae21e6-0108-4a4c-af6a-4f90fee661e4"
    },
    {
      "cell_type": "code",
      "execution_count": 8,
      "metadata": {},
      "outputs": [],
      "source": [
        "yy <- t(y) %*% y"
      ],
      "id": "d5d3878e-bcf4-4d07-a530-b93f5a87b262"
    },
    {
      "cell_type": "code",
      "execution_count": 9,
      "metadata": {},
      "outputs": [
        {
          "output_type": "display_data",
          "metadata": {},
          "data": {}
        }
      ],
      "source": [
        "yy"
      ],
      "id": "eec6d936-4385-43b2-8b1b-5ee6c6c67306"
    },
    {
      "cell_type": "code",
      "execution_count": 10,
      "metadata": {},
      "outputs": [],
      "source": [
        "xx_i <- solve(xx)"
      ],
      "id": "853cc850-4ea6-4d96-93f9-836ffac6e68f"
    },
    {
      "cell_type": "code",
      "execution_count": 11,
      "metadata": {},
      "outputs": [
        {
          "output_type": "display_data",
          "metadata": {},
          "data": {}
        }
      ],
      "source": [
        "xx_i"
      ],
      "id": "7668b4ff-4e93-4c91-aad5-8e19d2bd9dee"
    },
    {
      "cell_type": "markdown",
      "metadata": {},
      "source": [
        "## (2)\n",
        "\n",
        "$\\hat{\\beta} = (X^\\top X)^{-1}X^\\top y$를 구하고, 적합된 회귀선형을 써\n",
        "보아라."
      ],
      "id": "f5c68366-30bd-4055-8c0a-ab20cc7aac05"
    },
    {
      "cell_type": "code",
      "execution_count": 12,
      "metadata": {},
      "outputs": [],
      "source": [
        "betahat <- xx_i %*%  xy"
      ],
      "id": "a3b20f9a-1ccd-4df6-b4d7-5d1089dd638c"
    },
    {
      "cell_type": "code",
      "execution_count": 13,
      "metadata": {},
      "outputs": [
        {
          "output_type": "display_data",
          "metadata": {},
          "data": {}
        }
      ],
      "source": [
        "betahat"
      ],
      "id": "9a48cd44-f69d-456a-b11c-1c5ca61f97e5"
    },
    {
      "cell_type": "markdown",
      "metadata": {},
      "source": [
        "$y = 29.1 + 13.6x$"
      ],
      "id": "b317f03f-442d-4055-b595-b3fc9747755f"
    },
    {
      "cell_type": "code",
      "execution_count": 14,
      "metadata": {},
      "outputs": [
        {
          "output_type": "display_data",
          "metadata": {},
          "data": {
            "text/html": [
              "<style>\n",
              ".dl-inline {width: auto; margin:0; padding: 0}\n",
              ".dl-inline>dt, .dl-inline>dd {float: none; width: auto; display: inline-block}\n",
              ".dl-inline>dt::after {content: \":\\0020\"; padding-right: .5ex}\n",
              ".dl-inline>dt:not(:first-of-type) {padding-left: .5ex}\n",
              "</style><dl class=dl-inline><dt>(Intercept)</dt><dd>29.1070234113712</dd><dt>x</dt><dd>13.6371237458194</dd></dl>"
            ]
          }
        }
      ],
      "source": [
        "coef(lm(y~x, dt))"
      ],
      "id": "45bed43d-ed04-4db8-9591-fb5afe684ab0"
    },
    {
      "cell_type": "markdown",
      "metadata": {},
      "source": [
        "## (3)\n",
        "\n",
        "$\\sigma^2$을 MSE 로 추정할 경우, $\\hat{\\beta}$의 분산-공분산행렬의\n",
        "추정은 $\\hat{Var}(\\hat{\\beta}) = (X^\\top X)^{-1}$(MSE)이다. 먼저\n",
        "분산분석하여 MSE 를 구하고 $\\hat{Var}(\\hat{\\beta})$을 구하시오"
      ],
      "id": "471ecf81-1af3-49bc-bb06-338579efddc9"
    },
    {
      "cell_type": "code",
      "execution_count": 15,
      "metadata": {},
      "outputs": [],
      "source": [
        "n <- 14"
      ],
      "id": "f1304874-588b-4c91-8f97-4a36d5525166"
    },
    {
      "cell_type": "code",
      "execution_count": 16,
      "metadata": {},
      "outputs": [],
      "source": [
        "p <- 1"
      ],
      "id": "e52551d3-b5c2-49b0-830e-1c80e58e1cfc"
    },
    {
      "cell_type": "code",
      "execution_count": 17,
      "metadata": {},
      "outputs": [],
      "source": [
        "In = diag(rep(1,n))"
      ],
      "id": "09d6c6cc-2c46-40bd-a1ee-dd8cdd53275f"
    },
    {
      "cell_type": "code",
      "execution_count": 18,
      "metadata": {},
      "outputs": [],
      "source": [
        "H = x %*% xx_i %*% t(x)"
      ],
      "id": "5f6fb0b3-c54f-4822-8f90-ff8e6d2edcff"
    },
    {
      "cell_type": "markdown",
      "metadata": {},
      "source": [
        "$SSE = y^\\top(I-H)y$\n",
        "\n",
        "$SST = y^\\top y - n(\\bar{y})^2$"
      ],
      "id": "43dd0f17-b627-483c-a5f8-57ace7c1f937"
    },
    {
      "cell_type": "code",
      "execution_count": 19,
      "metadata": {},
      "outputs": [
        {
          "output_type": "display_data",
          "metadata": {},
          "data": {}
        }
      ],
      "source": [
        "sse = t(y) %*% (In-H) %*% y\n",
        "sse"
      ],
      "id": "9a271945-aed3-47dc-9a7b-a91983c03015"
    },
    {
      "cell_type": "code",
      "execution_count": 20,
      "metadata": {},
      "outputs": [
        {
          "output_type": "display_data",
          "metadata": {},
          "data": {}
        }
      ],
      "source": [
        "sst = t(y) %*% y - n * mean(y)^2\n",
        "sst"
      ],
      "id": "2cf2e251-4370-4467-8511-f7e6dc09f52c"
    },
    {
      "cell_type": "code",
      "execution_count": 21,
      "metadata": {},
      "outputs": [
        {
          "output_type": "display_data",
          "metadata": {},
          "data": {}
        }
      ],
      "source": [
        "ssr = sst- sse\n",
        "ssr"
      ],
      "id": "3760cf5c-2580-481b-89dc-3130755bcc00"
    },
    {
      "cell_type": "code",
      "execution_count": 22,
      "metadata": {},
      "outputs": [
        {
          "output_type": "display_data",
          "metadata": {},
          "data": {}
        }
      ],
      "source": [
        "msr = ssr/p\n",
        "msr"
      ],
      "id": "c5826318-0c1a-4de4-95f9-1b16d4824e2b"
    },
    {
      "cell_type": "code",
      "execution_count": 23,
      "metadata": {},
      "outputs": [
        {
          "output_type": "display_data",
          "metadata": {},
          "data": {}
        }
      ],
      "source": [
        "mse = sse/(n-p-1)\n",
        "mse"
      ],
      "id": "ec5173e8-aae0-4c2e-8fc8-a6b7464e4d64"
    },
    {
      "cell_type": "code",
      "execution_count": 24,
      "metadata": {},
      "outputs": [
        {
          "output_type": "display_data",
          "metadata": {},
          "data": {}
        }
      ],
      "source": [
        "f0 = msr/mse\n",
        "f0"
      ],
      "id": "6a220262-acb2-48c1-88e6-7b5cdab8c4cf"
    },
    {
      "cell_type": "code",
      "execution_count": 25,
      "metadata": {},
      "outputs": [
        {
          "output_type": "display_data",
          "metadata": {},
          "data": {
            "text/html": [
              "4.74722534672251"
            ]
          }
        }
      ],
      "source": [
        "qf(0.95,p,n-p-1)"
      ],
      "id": "8171d449-0846-4884-8f8c-6ef16df0dba1"
    },
    {
      "cell_type": "markdown",
      "metadata": {},
      "source": [
        "**분산분석표**\n",
        "\n",
        "| 요인 |  제곱합  | 자유도(df) | 평균제곱(MS) |  $F_0$   | 유의확률 |\n",
        "|:----:|:--------:|:----------:|:------------:|:--------:|:--------:|\n",
        "| 회귀 | 15887.25 |     1      |   15887.25   | 18.75293 | 4.747225 |\n",
        "| 잔차 | 10166.25 |     12     |    847.19    |          |          |\n",
        "|  계  | 26053.5  |     13     |              |          |          |"
      ],
      "id": "403c9c74-12d0-442b-8229-06619e2931d4"
    },
    {
      "cell_type": "code",
      "execution_count": 26,
      "metadata": {},
      "outputs": [],
      "source": [
        "hat_var_betahat <- mse[,] * xx_i"
      ],
      "id": "bd64d186-3fe2-4e5e-85f6-252010fe5760"
    },
    {
      "cell_type": "code",
      "execution_count": 27,
      "metadata": {},
      "outputs": [
        {
          "output_type": "display_data",
          "metadata": {},
          "data": {}
        }
      ],
      "source": [
        "vcov(lm(y~x, dt))"
      ],
      "id": "d51194a3-7a30-4aaa-85f8-ca9aaa7f2c52"
    },
    {
      "cell_type": "markdown",
      "metadata": {},
      "source": [
        "# 2.\n",
        "\n",
        "어떤 공정에서 나오는 제품의 강도$(kg/cm^2)$가 그 공정의 온도와 압력에\n",
        "어떠한 영향을 받는가를 조사하기 위하여 다음의 데이터를 얻었다.\n",
        "\n",
        "| 공정온도$x_1$(단위:°C) | 공정압력$x_2$(단위:$psi$) | 강도$y$(단위:$kg/cm^2$) |\n",
        "|:----------------------:|:----------------------:|:----------------------:|\n",
        "|          195           |            57             |          81.4           |\n",
        "|          179           |            61             |          122.2          |\n",
        "|          205           |            60             |          101.7          |\n",
        "|          204           |            62             |          175.6          |\n",
        "|          201           |            61             |          150.3          |\n",
        "|          184           |            54             |          64.8           |\n",
        "|          210           |            58             |          92.1           |\n",
        "|          209           |            61             |          113.8          |"
      ],
      "id": "2e1a3891-496a-464e-a6ea-9ee6a4854ebb"
    },
    {
      "cell_type": "code",
      "execution_count": 28,
      "metadata": {},
      "outputs": [],
      "source": [
        "dt <- data.frame(y=c(81.4,122.2,101.7,175.6,150.3,64.8,92.1,113.8),\n",
        "                 x1 = c(195,179,205,204,201,184,210,209),\n",
        "                 x2 = c(57,61,60,62,61,54,58,61))"
      ],
      "id": "1b4ce238-6845-4889-adb8-666cd9f82fc2"
    },
    {
      "cell_type": "code",
      "execution_count": 29,
      "metadata": {},
      "outputs": [],
      "source": [
        "m2 <- lm(y~., dt)"
      ],
      "id": "ec2df1fa-51de-436e-a36b-5bf2423bfc79"
    },
    {
      "cell_type": "code",
      "execution_count": 30,
      "metadata": {},
      "outputs": [
        {
          "output_type": "display_data",
          "metadata": {},
          "data": {
            "text/plain": [
              "\n",
              "Call:\n",
              "lm(formula = y ~ ., data = dt)\n",
              "\n",
              "Residuals:\n",
              "      1       2       3       4       5       6       7       8 \n",
              " -5.259 -14.775 -18.742  31.259  17.279  11.744  -3.723 -17.783 \n",
              "\n",
              "Coefficients:\n",
              "             Estimate Std. Error t value Pr(>|t|)  \n",
              "(Intercept) -554.3112   196.9775  -2.814   0.0374 *\n",
              "x1            -0.1797     0.7626  -0.236   0.8230  \n",
              "x2            11.8600     3.2301   3.672   0.0144 *\n",
              "---\n",
              "Signif. codes:  0 ‘***’ 0.001 ‘**’ 0.01 ‘*’ 0.05 ‘.’ 0.1 ‘ ’ 1\n",
              "\n",
              "Residual standard error: 21.64 on 5 degrees of freedom\n",
              "Multiple R-squared:  0.7478,    Adjusted R-squared:  0.6469 \n",
              "F-statistic: 7.412 on 2 and 5 DF,  p-value: 0.03195"
            ]
          }
        }
      ],
      "source": [
        "summary(m2)"
      ],
      "id": "f577b9d6-8521-4090-ac7b-c0caed8b20a7"
    },
    {
      "cell_type": "code",
      "execution_count": 31,
      "metadata": {},
      "outputs": [
        {
          "output_type": "display_data",
          "metadata": {},
          "data": {}
        }
      ],
      "source": [
        "anova(m2)"
      ],
      "id": "f11d8cfb-0fe6-4fb6-b1cd-652886765628"
    },
    {
      "cell_type": "markdown",
      "metadata": {},
      "source": [
        "## (1)\n",
        "\n",
        "선형회귀모형,\n",
        "$y_j = \\beta_0 + \\beta_1 x_{1j} + \\beta_2 x_{2j} + \\epsilon_j$ 가\n",
        "성립된다고 가정하고 데이터로부터 회귀모형을 추정하시오."
      ],
      "id": "3b2b5460-3f5c-49c6-9394-cc4acc4f2c14"
    },
    {
      "cell_type": "code",
      "execution_count": 32,
      "metadata": {},
      "outputs": [],
      "source": [
        "x = matrix(c(rep(1,8),dt$x1, dt$x2), ncol=3)"
      ],
      "id": "d7cbe2c0-b335-4b2d-b6bb-be12b0d012fd"
    },
    {
      "cell_type": "code",
      "execution_count": 33,
      "metadata": {},
      "outputs": [],
      "source": [
        "y = dt$y"
      ],
      "id": "cc342c32-ef9f-40a9-b36c-98a6fbc58177"
    },
    {
      "cell_type": "code",
      "execution_count": 34,
      "metadata": {},
      "outputs": [
        {
          "output_type": "display_data",
          "metadata": {},
          "data": {}
        }
      ],
      "source": [
        "xx <- t(x) %*% x\n",
        "xx"
      ],
      "id": "28ea6077-45fa-46c4-b0b0-2e1b76d75050"
    },
    {
      "cell_type": "code",
      "execution_count": 35,
      "metadata": {},
      "outputs": [
        {
          "output_type": "display_data",
          "metadata": {},
          "data": {}
        }
      ],
      "source": [
        "xx_i <- solve(xx)\n",
        "xx_i"
      ],
      "id": "0d9f897f-80d6-4e5e-9d6f-25fddf45ebc2"
    },
    {
      "cell_type": "code",
      "execution_count": 36,
      "metadata": {},
      "outputs": [
        {
          "output_type": "display_data",
          "metadata": {},
          "data": {}
        }
      ],
      "source": [
        "xy <- t(x) %*% y\n",
        "xy"
      ],
      "id": "8cd43c95-1723-4f64-9fb7-2de09a79a82f"
    },
    {
      "cell_type": "code",
      "execution_count": 37,
      "metadata": {},
      "outputs": [
        {
          "output_type": "display_data",
          "metadata": {},
          "data": {}
        }
      ],
      "source": [
        "yy <- t(y) %*% y\n",
        "yy"
      ],
      "id": "330eda16-4d87-449f-a812-87591ef2a4f1"
    },
    {
      "cell_type": "code",
      "execution_count": 38,
      "metadata": {},
      "outputs": [
        {
          "output_type": "display_data",
          "metadata": {},
          "data": {}
        }
      ],
      "source": [
        "b <- xx_i %*% xy\n",
        "b"
      ],
      "id": "2afda873-c226-440d-93bd-4e0c03bf509b"
    },
    {
      "cell_type": "markdown",
      "metadata": {},
      "source": [
        "$y = -554.31 - 0.1797 x_1 + 11.86 x_2$\n",
        "\n",
        "## (2)\n",
        "\n",
        "오차분산이 $\\sigma^2 = 3$이라 하면,\n",
        "$Var(\\hat{\\beta}_0), Var(\\hat{\\beta}_1), Var(\\hat{\\beta}_2)$와\n",
        "$Cov(\\hat{\\beta}_1, \\hat{\\beta}_2)$는 무엇인가?\n",
        "\n",
        "$var(\\hat{\\beta}) = (x^\\top x)^{-1} \\sigma^2$"
      ],
      "id": "c9af28d7-04c5-4e88-8a48-54bd2c96076f"
    },
    {
      "cell_type": "code",
      "execution_count": 39,
      "metadata": {},
      "outputs": [
        {
          "output_type": "display_data",
          "metadata": {},
          "data": {}
        }
      ],
      "source": [
        "xx_i * 3"
      ],
      "id": "28a35a9a-aa5d-4f9f-8bb1-5cc687ab83cf"
    },
    {
      "cell_type": "markdown",
      "metadata": {},
      "source": [
        "$var(\\hat{\\beta}_0) = 248.6250$\n",
        "\n",
        "$var(\\hat{\\beta}_1) = 0.0037$\n",
        "\n",
        "$var(\\hat{\\beta}_2) = 0.0669$\n",
        "\n",
        "$cov(\\hat{\\beta}_1, \\hat{\\beta}_2) = -0.0057$\n",
        "\n",
        "## (3)\n",
        "\n",
        "$x_1 = 200$°C이고 $x_2 = 59\\text{psi}$에서 평균 제품의 강도의 추정값\n",
        "$\\hat{y}$는 얼마인가? 이의 분산을 $\\sigma^2 = 3$이라 가정하고 구하시오."
      ],
      "id": "74567496-f55e-48f9-8e5d-9eb9c23524a5"
    },
    {
      "cell_type": "code",
      "execution_count": 40,
      "metadata": {},
      "outputs": [
        {
          "output_type": "display_data",
          "metadata": {},
          "data": {}
        }
      ],
      "source": [
        "new_dt <- data.frame(x1=200, x2=59)\n",
        "new_dt"
      ],
      "id": "ce261251-3422-4ede-9c21-06d7346a8bcc"
    },
    {
      "cell_type": "code",
      "execution_count": 41,
      "metadata": {},
      "outputs": [
        {
          "output_type": "display_data",
          "metadata": {},
          "data": {
            "text/html": [
              "<strong>1:</strong> 109.480424963516"
            ]
          }
        }
      ],
      "source": [
        "predict(m2, newdata = new_dt)"
      ],
      "id": "fbf5aa88-a371-4459-a734-654a9f659132"
    },
    {
      "cell_type": "code",
      "execution_count": 42,
      "metadata": {},
      "outputs": [
        {
          "output_type": "display_data",
          "metadata": {},
          "data": {
            "text/html": [
              "<style>\n",
              ".list-inline {list-style: none; margin:0; padding: 0}\n",
              ".list-inline>li {display: inline-block}\n",
              ".list-inline>li:not(:last-child)::after {content: \"\\00b7\"; padding: 0 .5ex}\n",
              "</style>\n",
              "<ol class=list-inline><li>1</li><li>200</li><li>59</li></ol>"
            ]
          }
        }
      ],
      "source": [
        "x0 <- c(1,200,59)\n",
        "x0"
      ],
      "id": "592e303a-1591-42ff-85e3-ba38ec369814"
    },
    {
      "cell_type": "code",
      "execution_count": 43,
      "metadata": {},
      "outputs": [
        {
          "output_type": "display_data",
          "metadata": {},
          "data": {}
        }
      ],
      "source": [
        "mu0 <- x0 %*% b\n",
        "mu0"
      ],
      "id": "34bc33f5-cc4e-4e3a-8cba-35d2344ea80a"
    },
    {
      "cell_type": "markdown",
      "metadata": {},
      "source": [
        "$\\hat{\\mu}_0 = 109.4804$\n",
        "\n",
        "## (4)\n",
        "\n",
        "추정된 회귀계수 $\\hat{\\beta}_1, \\hat{\\beta}_2$의 의미는 무엇인가?\n",
        "\n",
        "$\\hat{\\beta}_1$ : 공정압력이 일정하게 유지되었을 때, 공정온도가 1도씨\n",
        "증가하면 강도는 0.1797만큼 감소한다.\n",
        "\n",
        "$\\hat{\\beta}_2$ : 공정온도가 일정하게 유지되었을 때, 공정압력이 1psi\n",
        "증가하면 강도는 11.8600만큼 증가한다.\n",
        "\n",
        "## (5)\n",
        "\n",
        "분산분석표를 작성하고 $\\alpha = 0.05$로 $F$-검정을 행하시오."
      ],
      "id": "1c30afbb-22de-4d25-9426-d5b844b7207f"
    },
    {
      "cell_type": "code",
      "execution_count": 44,
      "metadata": {},
      "outputs": [
        {
          "output_type": "display_data",
          "metadata": {},
          "data": {}
        }
      ],
      "source": [
        "anova(m2)"
      ],
      "id": "635153d0-fa11-4452-9492-21c75dc551e9"
    },
    {
      "cell_type": "code",
      "execution_count": 45,
      "metadata": {},
      "outputs": [
        {
          "output_type": "display_data",
          "metadata": {},
          "data": {}
        }
      ],
      "source": [
        "I8 = diag(rep(1,8))\n",
        "I8"
      ],
      "id": "e7828433-e87d-4f79-8ede-814377c6d1da"
    },
    {
      "cell_type": "code",
      "execution_count": 46,
      "metadata": {},
      "outputs": [
        {
          "output_type": "display_data",
          "metadata": {},
          "data": {}
        }
      ],
      "source": [
        "H = x %*% xx_i %*% t(x)\n",
        "H"
      ],
      "id": "1fe2eeaf-2d41-4614-b4b1-d2886497f696"
    },
    {
      "cell_type": "markdown",
      "metadata": {},
      "source": [
        "$SSE = y^\\top (I-H)y$\n",
        "\n",
        "$SST = y^\\top y - n(\\bar{y})^2$"
      ],
      "id": "647c6f12-3965-489a-908a-e273fdfd598e"
    },
    {
      "cell_type": "code",
      "execution_count": 47,
      "metadata": {},
      "outputs": [
        {
          "output_type": "display_data",
          "metadata": {},
          "data": {}
        }
      ],
      "source": [
        "sse = t(y) %*% (I8-H) %*% y\n",
        "sse"
      ],
      "id": "0a996ef6-f92a-40fa-ba21-230ce791e03b"
    },
    {
      "cell_type": "code",
      "execution_count": 48,
      "metadata": {},
      "outputs": [
        {
          "output_type": "display_data",
          "metadata": {},
          "data": {}
        }
      ],
      "source": [
        "sst = t(y) %*% y - 8 * mean(y)^2\n",
        "sst"
      ],
      "id": "b30ab193-8310-4cf3-b067-93e70997041a"
    },
    {
      "cell_type": "code",
      "execution_count": 49,
      "metadata": {},
      "outputs": [
        {
          "output_type": "display_data",
          "metadata": {},
          "data": {}
        }
      ],
      "source": [
        "ssr = sst- sse\n",
        "ssr"
      ],
      "id": "b73d7b7f-521c-4399-9dce-90d24c40a64f"
    },
    {
      "cell_type": "code",
      "execution_count": 50,
      "metadata": {},
      "outputs": [
        {
          "output_type": "display_data",
          "metadata": {},
          "data": {}
        }
      ],
      "source": [
        "msr = ssr/2\n",
        "msr"
      ],
      "id": "53d13062-3578-4b56-aa8f-dc07d47f7a3a"
    },
    {
      "cell_type": "code",
      "execution_count": 51,
      "metadata": {},
      "outputs": [
        {
          "output_type": "display_data",
          "metadata": {},
          "data": {}
        }
      ],
      "source": [
        "mse = sse/5\n",
        "mse"
      ],
      "id": "976b6dbf-fe66-404c-b8c6-fb09f883d2f1"
    },
    {
      "cell_type": "code",
      "execution_count": 52,
      "metadata": {},
      "outputs": [
        {
          "output_type": "display_data",
          "metadata": {},
          "data": {}
        }
      ],
      "source": [
        "f0 = msr/mse\n",
        "f0"
      ],
      "id": "a42f2e95-4d8f-45ef-9eac-246c7c8e69c9"
    },
    {
      "cell_type": "code",
      "execution_count": 53,
      "metadata": {},
      "outputs": [
        {
          "output_type": "display_data",
          "metadata": {},
          "data": {
            "text/html": [
              "5.78613504334997"
            ]
          }
        }
      ],
      "source": [
        "qf(0.95,2,5)"
      ],
      "id": "25976702-2de8-4cc0-91ec-ff91c105f6a4"
    },
    {
      "cell_type": "markdown",
      "metadata": {},
      "source": [
        "| 요인 |  제곱합  | 자유도(df) | 평균제곱(MS) | $F_0$  | 유의확률 |\n",
        "|:----:|:--------:|:----------:|:------------:|:------:|:--------:|\n",
        "| 회귀 | 6940.195 |     2      |   3470.097   | 7.4119 | 5.786135 |\n",
        "| 잔차 | 2340.884 |     5      |   468.177    |        |          |\n",
        "|  계  | 9281.079 |     7      |              |        |          |\n",
        "\n",
        "결론 : 검정통계량의 관측값이 기각역에 속하므로 귀무가설 기각. 즉 모형이\n",
        "유의수준 0.05하에서 유의하다고 할 수 있다.\n",
        "\n",
        "## (6)\n",
        "\n",
        "결정계수 $R^2$을 구하시오."
      ],
      "id": "2f4fed6b-33db-428f-b4bb-335d96cffe67"
    },
    {
      "cell_type": "code",
      "execution_count": 54,
      "metadata": {},
      "outputs": [
        {
          "output_type": "display_data",
          "metadata": {},
          "data": {
            "text/html": [
              "0.747778895028607"
            ]
          }
        }
      ],
      "source": [
        "summary(m2)$r.squared"
      ],
      "id": "06e6335e-3b44-4a13-b766-b8c20d18631f"
    },
    {
      "cell_type": "markdown",
      "metadata": {},
      "source": [
        "$R^2 = \\frac{SSR}{SST}$"
      ],
      "id": "28ecd287-4287-4b46-b68e-c82c491a24dc"
    },
    {
      "cell_type": "code",
      "execution_count": 55,
      "metadata": {},
      "outputs": [
        {
          "output_type": "display_data",
          "metadata": {},
          "data": {}
        }
      ],
      "source": [
        "ssr/sst\n",
        "# 0.7478"
      ],
      "id": "86fff78d-14ed-4322-820a-e91f50f31da0"
    },
    {
      "cell_type": "markdown",
      "metadata": {},
      "source": [
        "## (7)\n",
        "\n",
        "수정된 결정계수 $R^2_{adj}$ 을 구하시오."
      ],
      "id": "61481913-f4b0-4547-8312-75b7ce008e1c"
    },
    {
      "cell_type": "code",
      "execution_count": 56,
      "metadata": {},
      "outputs": [
        {
          "output_type": "display_data",
          "metadata": {},
          "data": {
            "text/html": [
              "0.64689045304005"
            ]
          }
        }
      ],
      "source": [
        "summary(m2)$adj"
      ],
      "id": "52791090-60a8-46ce-8257-bd9aea44d06c"
    },
    {
      "cell_type": "markdown",
      "metadata": {},
      "source": [
        "$R^2_{adj} = 1-\\frac{SSE(n-p-1)}{SST/(n-1)}$"
      ],
      "id": "7f2fab96-1751-4394-85b4-2e351f9fd293"
    },
    {
      "cell_type": "code",
      "execution_count": 57,
      "metadata": {},
      "outputs": [
        {
          "output_type": "display_data",
          "metadata": {},
          "data": {}
        }
      ],
      "source": [
        "1-(sse/5)/(sst/7)\n",
        "# 0.6469"
      ],
      "id": "2b7bc2cc-a3f6-49f9-931c-141e29ac27e7"
    },
    {
      "cell_type": "markdown",
      "metadata": {},
      "source": [
        "## (8)\n",
        "\n",
        "$\\sigma^2$의 추정값 MSE 를 구하시오.\n",
        "\n",
        "$\\sigma^2 = MSE$"
      ],
      "id": "740c9bfc-d411-405c-8488-b97ebee96a5b"
    },
    {
      "cell_type": "code",
      "execution_count": 58,
      "metadata": {},
      "outputs": [
        {
          "output_type": "display_data",
          "metadata": {},
          "data": {}
        }
      ],
      "source": [
        "mse\n",
        "##468.17687"
      ],
      "id": "4a486505-4bda-469f-ad3a-fbb86b9863cc"
    },
    {
      "cell_type": "markdown",
      "metadata": {},
      "source": [
        "## (9)\n",
        "\n",
        "MSR의 기대값을 $\\sigma^2$과 $\\beta_0, \\beta_1, \\beta_2$의 함수로\n",
        "표시하여라."
      ],
      "id": "e996b610-701f-449c-a32f-34adce4af25e"
    },
    {
      "cell_type": "code",
      "execution_count": 59,
      "metadata": {},
      "outputs": [
        {
          "output_type": "display_data",
          "metadata": {},
          "data": {}
        }
      ],
      "source": [
        "I8 <- diag(rep(1,8))\n",
        "I8"
      ],
      "id": "ec654f90-1007-4d11-8ad6-f60373e224bc"
    },
    {
      "cell_type": "code",
      "execution_count": 60,
      "metadata": {},
      "outputs": [
        {
          "output_type": "display_data",
          "metadata": {},
          "data": {
            "text/html": [
              "<style>\n",
              ".list-inline {list-style: none; margin:0; padding: 0}\n",
              ".list-inline>li {display: inline-block}\n",
              ".list-inline>li:not(:last-child)::after {content: \"\\00b7\"; padding: 0 .5ex}\n",
              "</style>\n",
              "<ol class=list-inline><li>1</li><li>1</li><li>1</li><li>1</li><li>1</li><li>1</li><li>1</li><li>1</li></ol>"
            ]
          }
        }
      ],
      "source": [
        "one1 <- rep(1,8)\n",
        "one1"
      ],
      "id": "d0e1fbe7-b9b5-4f1d-b3dd-e7fa8797d0c6"
    },
    {
      "cell_type": "code",
      "execution_count": 61,
      "metadata": {},
      "outputs": [
        {
          "output_type": "display_data",
          "metadata": {},
          "data": {}
        }
      ],
      "source": [
        "Jn <- one1 %*% t(one1)\n",
        "Jn"
      ],
      "id": "15d5e02e-af4c-479e-a19b-235827a3e976"
    },
    {
      "cell_type": "code",
      "execution_count": 62,
      "metadata": {},
      "outputs": [
        {
          "output_type": "display_data",
          "metadata": {},
          "data": {}
        }
      ],
      "source": [
        "t(x) %*% (I8 - Jn/8) %*% x"
      ],
      "id": "552f2eb4-07f4-47ff-b871-e22c424e0574"
    },
    {
      "cell_type": "markdown",
      "metadata": {},
      "source": [
        "# 3.\n",
        "\n",
        "어떤 공장에서 물의 소비량을 조사하기 위하여 매달의 물소비량($y$),\n",
        "평균온도($x_1$), 작업일수($x_2$)와 작업량($x_3$)에 관한 데이터를 얻었다.\n",
        "\n",
        "| 물소비량$y$(단위:1,000톤) | 평균온도$x_1$(단위:°C) | 작업일수$x_2$(단위:일) | 작업량$x_3$(단위:1,000톤) |\n",
        "|:----------------:|:----------------:|:----------------:|:----------------:|\n",
        "|            2.8            |           10           |           27           |            64             |\n",
        "|            3.9            |           24           |           26           |            72             |\n",
        "|            3.9            |           25           |           28           |            80             |\n",
        "|            4.4            |           28           |           26           |            88             |\n",
        "|            3.1            |           15           |           30           |            81             |\n",
        "|            3.1            |           18           |           24           |            45             |\n",
        "|            3.5            |           22           |           27           |            46             |\n",
        "|            3.6            |           22           |           25           |            69             |\n",
        "|            3.0            |           12           |           27           |            54             |\n",
        "|            3.3            |           15           |           25           |            39             |"
      ],
      "id": "e37d7527-6d55-4324-9e29-4e2b93a3a46a"
    },
    {
      "cell_type": "code",
      "execution_count": 63,
      "metadata": {},
      "outputs": [],
      "source": [
        "dt <- data.frame(y=c(2.8,3.9,3.9,4.4,3.1,3.1,3.5,3.6,3.0,3.3),\n",
        "                 x1 = c(10,24,25,28,15,18,22,22,12,15),\n",
        "                 x2 = c(27,26,28,26,30,24,27,25,27,25),\n",
        "                 x3 = c(64,72,80,88,81,45,46,69,54,39))"
      ],
      "id": "6570f0e2-a918-4333-80e9-dd9d87c1b58d"
    },
    {
      "cell_type": "code",
      "execution_count": 64,
      "metadata": {},
      "outputs": [],
      "source": [
        "m3 <- lm(y~., dt)"
      ],
      "id": "9ee9ead2-01e1-42fa-bc8a-d425f9c7e28f"
    },
    {
      "cell_type": "code",
      "execution_count": 65,
      "metadata": {},
      "outputs": [
        {
          "output_type": "display_data",
          "metadata": {},
          "data": {
            "text/plain": [
              "\n",
              "Call:\n",
              "lm(formula = y ~ ., data = dt)\n",
              "\n",
              "Residuals:\n",
              "     Min       1Q   Median       3Q      Max \n",
              "-0.23490 -0.07744 -0.02166  0.08840  0.23442 \n",
              "\n",
              "Coefficients:\n",
              "             Estimate Std. Error t value Pr(>|t|)   \n",
              "(Intercept)  2.409213   1.125954   2.140  0.07618 . \n",
              "x1           0.069788   0.012640   5.521  0.00149 **\n",
              "x2          -0.024767   0.044830  -0.552  0.60060   \n",
              "x3           0.005864   0.005052   1.161  0.28978   \n",
              "---\n",
              "Signif. codes:  0 ‘***’ 0.001 ‘**’ 0.01 ‘*’ 0.05 ‘.’ 0.1 ‘ ’ 1\n",
              "\n",
              "Residual standard error: 0.172 on 6 degrees of freedom\n",
              "Multiple R-squared:  0.9202,    Adjusted R-squared:  0.8803 \n",
              "F-statistic: 23.05 on 3 and 6 DF,  p-value: 0.001079"
            ]
          }
        }
      ],
      "source": [
        "summary(m3)"
      ],
      "id": "7a928db3-a756-4ba7-83f9-868fb3ff4ba0"
    },
    {
      "cell_type": "code",
      "execution_count": 66,
      "metadata": {},
      "outputs": [
        {
          "output_type": "display_data",
          "metadata": {},
          "data": {}
        }
      ],
      "source": [
        "anova(m3)"
      ],
      "id": "ec037b63-2ac3-4333-b30d-0151fb959d91"
    },
    {
      "cell_type": "markdown",
      "metadata": {},
      "source": [
        "## (1)\n",
        "\n",
        "데이터로부터 회귀모형,\n",
        "$\\hat{y} = \\hat{\\beta}_0 + \\hat{\\beta}_1 x_1 + \\hat{\\beta}_2 x_2 + \\hat{\\beta}_3 x_3$\n",
        "을 구하여라. 그리고 어째서 이 모형이 선택되었는가에 대하여 토의하시오."
      ],
      "id": "eca031f0-e9a6-4f9c-aa3c-170dd9481e31"
    },
    {
      "cell_type": "code",
      "execution_count": 67,
      "metadata": {},
      "outputs": [],
      "source": [
        "x = matrix(c(rep(1,10),dt$x1, dt$x2, dt$x3), ncol=4)"
      ],
      "id": "d7e8c8de-c140-4b05-b05f-fb2315c828b8"
    },
    {
      "cell_type": "code",
      "execution_count": 68,
      "metadata": {},
      "outputs": [],
      "source": [
        "y = dt$y"
      ],
      "id": "99313e37-d0ce-4b70-901b-0c59f7554e9c"
    },
    {
      "cell_type": "code",
      "execution_count": 69,
      "metadata": {},
      "outputs": [
        {
          "output_type": "display_data",
          "metadata": {},
          "data": {}
        }
      ],
      "source": [
        "xx <- t(x) %*% x\n",
        "xx"
      ],
      "id": "edf8faf0-3d5c-4d50-93c5-a811d6bcded8"
    },
    {
      "cell_type": "code",
      "execution_count": 70,
      "metadata": {},
      "outputs": [
        {
          "output_type": "display_data",
          "metadata": {},
          "data": {}
        }
      ],
      "source": [
        "xx_i <- solve(xx)\n",
        "xx_i"
      ],
      "id": "0ccee6ae-3a75-4fc8-a103-4652abcfe7b5"
    },
    {
      "cell_type": "code",
      "execution_count": 71,
      "metadata": {},
      "outputs": [
        {
          "output_type": "display_data",
          "metadata": {},
          "data": {}
        }
      ],
      "source": [
        "xy <- t(x) %*% y\n",
        "xy"
      ],
      "id": "6ad1d07a-90f0-4e4c-9d33-0f541bc79c1f"
    },
    {
      "cell_type": "code",
      "execution_count": 72,
      "metadata": {},
      "outputs": [
        {
          "output_type": "display_data",
          "metadata": {},
          "data": {}
        }
      ],
      "source": [
        "yy <- t(y) %*% y\n",
        "yy"
      ],
      "id": "1a3b9074-6b19-4f88-9533-062ba388069c"
    },
    {
      "cell_type": "code",
      "execution_count": 73,
      "metadata": {},
      "outputs": [
        {
          "output_type": "display_data",
          "metadata": {},
          "data": {}
        }
      ],
      "source": [
        "b <- xx_i %*% xy\n",
        "b"
      ],
      "id": "c967017e-9381-43a8-b81a-459fcdf04c3f"
    },
    {
      "cell_type": "markdown",
      "metadata": {},
      "source": [
        "$\\hat{y} = 2.409 + 0.0698x_1 - 0.0248x_2 + 0.0059x_3$\n",
        "\n",
        "## (2)\n",
        "\n",
        "$\\hat{\\beta}_1, \\hat{\\beta}_2$와 $\\hat{\\beta}_3$의 의미는 무엇인가?\n",
        "\n",
        "$\\hat{\\beta}_1$ : 작업일수, 작업량이 변하지 않을 때, 평균온도가 1도씨\n",
        "증가하면 물소비량은 69.8톤 증가한다.\n",
        "\n",
        "$\\hat{\\beta}_2$ : 평균온도, 작업량이 변하지 않을 때, 작업일수가 1일\n",
        "증가하면 물소비량은 24.8톤 감소한다.\n",
        "\n",
        "$\\hat{\\beta}_3$ : 평균온도, 작업일수이 변하지 않을 때, 작업량이 1000톤\n",
        "증가하면 물소비량은 5.9톤 증가한다.\n",
        "\n",
        "## (3)\n",
        "\n",
        "$Var(\\hat{\\beta}_3)$을 구하시오. $\\sigma^2$을 MSE 로 추정하면\n",
        "$\\hat{Var}(\\hat{\\beta}_3)$은 무엇인가?"
      ],
      "id": "f92b5f43-267c-4cd3-8592-ba9d5590ab9d"
    },
    {
      "cell_type": "code",
      "execution_count": 74,
      "metadata": {},
      "outputs": [
        {
          "output_type": "display_data",
          "metadata": {},
          "data": {}
        }
      ],
      "source": [
        "summary(m3)$coefficients"
      ],
      "id": "d28c37a8-9beb-4ce6-8e2f-902b8e15392e"
    },
    {
      "cell_type": "markdown",
      "metadata": {},
      "source": [
        "$var(\\beta_3) = (x^\\top x)^{-1}_{(4,4)} \\sigma^2$"
      ],
      "id": "1cdadcf0-eafa-4748-9aa3-968de9570697"
    },
    {
      "cell_type": "code",
      "execution_count": 75,
      "metadata": {},
      "outputs": [
        {
          "output_type": "display_data",
          "metadata": {},
          "data": {
            "text/html": [
              "0.000862438702127396"
            ]
          }
        }
      ],
      "source": [
        "xx_i[4,4]\n",
        "## 0.0009*sigma^2"
      ],
      "id": "022bb89e-0ea0-48b8-ae08-e0e4e659f6b7"
    },
    {
      "cell_type": "code",
      "execution_count": 76,
      "metadata": {},
      "outputs": [
        {
          "output_type": "display_data",
          "metadata": {},
          "data": {}
        }
      ],
      "source": [
        "hat_var_b3 <- xx_i[4,4] * mse\n",
        "hat_var_b3"
      ],
      "id": "adc047ad-1a41-4ff0-9224-f5c9af185bad"
    },
    {
      "cell_type": "markdown",
      "metadata": {},
      "source": [
        "$var(\\hat{\\beta}_3) = 0.0000255$\n",
        "\n",
        "## (4)\n",
        "\n",
        "분산분석표를 작성하고, 결정계수 $R^2$을 구하시오."
      ],
      "id": "883a93c7-ae8b-4d20-b412-a56c8ce22d9b"
    },
    {
      "cell_type": "code",
      "execution_count": 77,
      "metadata": {},
      "outputs": [
        {
          "output_type": "display_data",
          "metadata": {},
          "data": {}
        }
      ],
      "source": [
        "anova(m3)"
      ],
      "id": "033e42c3-6202-4ed8-bc75-e683902e3a9c"
    },
    {
      "cell_type": "code",
      "execution_count": 78,
      "metadata": {},
      "outputs": [
        {
          "output_type": "display_data",
          "metadata": {},
          "data": {}
        }
      ],
      "source": [
        "I10 = diag(rep(1,10))\n",
        "I10"
      ],
      "id": "ece62006-5b52-447c-a747-8d09e1067271"
    },
    {
      "cell_type": "code",
      "execution_count": 79,
      "metadata": {},
      "outputs": [
        {
          "output_type": "display_data",
          "metadata": {},
          "data": {}
        }
      ],
      "source": [
        "H = x %*% xx_i %*% t(x)\n",
        "H"
      ],
      "id": "8cd3fdf7-a340-4e54-99f0-eba9d525f295"
    },
    {
      "cell_type": "markdown",
      "metadata": {},
      "source": [
        "$SSE = y^\\top (I-H)y$\n",
        "\n",
        "$SST = y^\\top y - n(\\bar{y})^2$"
      ],
      "id": "07db7a12-1faf-478a-8c59-7d176fe3eb1b"
    },
    {
      "cell_type": "code",
      "execution_count": 80,
      "metadata": {},
      "outputs": [
        {
          "output_type": "display_data",
          "metadata": {},
          "data": {}
        }
      ],
      "source": [
        "sse = t(y) %*% (I10-H) %*% y\n",
        "sse"
      ],
      "id": "9e102889-dab0-4a89-8029-49e68fe143d8"
    },
    {
      "cell_type": "code",
      "execution_count": 81,
      "metadata": {},
      "outputs": [
        {
          "output_type": "display_data",
          "metadata": {},
          "data": {}
        }
      ],
      "source": [
        "sst = t(y) %*% y - 10 * mean(y)^2\n",
        "sst"
      ],
      "id": "327bfa39-16e6-41a1-812f-068c486362e8"
    },
    {
      "cell_type": "code",
      "execution_count": 82,
      "metadata": {},
      "outputs": [
        {
          "output_type": "display_data",
          "metadata": {},
          "data": {}
        }
      ],
      "source": [
        "ssr = sst- sse\n",
        "ssr"
      ],
      "id": "3a348b89-34f5-47f2-a26a-1130fde75929"
    },
    {
      "cell_type": "code",
      "execution_count": 83,
      "metadata": {},
      "outputs": [
        {
          "output_type": "display_data",
          "metadata": {},
          "data": {}
        }
      ],
      "source": [
        "msr = ssr/3\n",
        "msr"
      ],
      "id": "c0e25278-0a46-4bc9-920e-3ba2401849aa"
    },
    {
      "cell_type": "code",
      "execution_count": 84,
      "metadata": {},
      "outputs": [
        {
          "output_type": "display_data",
          "metadata": {},
          "data": {}
        }
      ],
      "source": [
        "mse = sse/6\n",
        "mse"
      ],
      "id": "86ac85d6-03ca-40f5-a754-5b5987edb87e"
    },
    {
      "cell_type": "code",
      "execution_count": 85,
      "metadata": {},
      "outputs": [
        {
          "output_type": "display_data",
          "metadata": {},
          "data": {}
        }
      ],
      "source": [
        "f0 = msr/mse\n",
        "f0"
      ],
      "id": "346604f2-2777-4592-a9f5-46de83d589fa"
    },
    {
      "cell_type": "code",
      "execution_count": 86,
      "metadata": {},
      "outputs": [
        {
          "output_type": "display_data",
          "metadata": {},
          "data": {
            "text/html": [
              "4.75706266308941"
            ]
          }
        }
      ],
      "source": [
        "qf(0.95,3,6)"
      ],
      "id": "8b9a0e8a-dee7-4594-b8d7-be0c4cfe5988"
    },
    {
      "cell_type": "markdown",
      "metadata": {},
      "source": [
        "| 요인 | 제곱합 | 자유도(df) | 평균제곱(MS) |  $F_0$  | 유의확률 |\n",
        "|:----:|:------:|:----------:|:------------:|:-------:|:--------:|\n",
        "| 회귀 | 2.0465 |     3      |    0.6822    | 23.0544 |  4.7571  |\n",
        "| 잔차 | 0.1775 |     6      |    0.0296    |         |          |\n",
        "|  계  | 2.2240 |     9      |              |         |          |\n",
        "\n",
        "$R^2$"
      ],
      "id": "edc212f3-703b-4442-8f6b-9295c609d282"
    },
    {
      "cell_type": "code",
      "execution_count": 87,
      "metadata": {},
      "outputs": [
        {
          "output_type": "display_data",
          "metadata": {},
          "data": {}
        }
      ],
      "source": [
        "ssr/sst\n",
        "#0.9202"
      ],
      "id": "d34f01d4-a2b1-4e24-8cb2-88ecbef233ec"
    },
    {
      "cell_type": "markdown",
      "metadata": {},
      "source": [
        "## (5)\n",
        "\n",
        "$x_1 = 20, x_2 = 27, x_3 = 60$에서 평균 물소비량을 추정하시오. 이 추정된\n",
        "소비량의 표준편차의 추정값을 구하시오."
      ],
      "id": "d5f4d0ff-b647-47b2-916a-72181861e269"
    },
    {
      "cell_type": "code",
      "execution_count": 88,
      "metadata": {},
      "outputs": [
        {
          "output_type": "display_data",
          "metadata": {},
          "data": {}
        }
      ],
      "source": [
        "new_dt <- data.frame(x1=20, x2=27, x3 = 60)\n",
        "new_dt"
      ],
      "id": "97582358-87c5-4f84-97f7-78cda5bfde13"
    },
    {
      "cell_type": "code",
      "execution_count": 89,
      "metadata": {},
      "outputs": [
        {
          "output_type": "display_data",
          "metadata": {},
          "data": {
            "text/html": [
              "<strong>1:</strong> 3.48814105556645"
            ]
          }
        }
      ],
      "source": [
        "predict(m3, newdata = new_dt)"
      ],
      "id": "67ec8a04-4765-48c8-b7a1-c7c777f3910b"
    },
    {
      "cell_type": "code",
      "execution_count": 90,
      "metadata": {},
      "outputs": [
        {
          "output_type": "display_data",
          "metadata": {},
          "data": {
            "text/html": [
              "<style>\n",
              ".list-inline {list-style: none; margin:0; padding: 0}\n",
              ".list-inline>li {display: inline-block}\n",
              ".list-inline>li:not(:last-child)::after {content: \"\\00b7\"; padding: 0 .5ex}\n",
              "</style>\n",
              "<ol class=list-inline><li>1</li><li>20</li><li>27</li><li>60</li></ol>"
            ]
          }
        }
      ],
      "source": [
        "x0 <- c(1,20,27,60)\n",
        "x0"
      ],
      "id": "32fd34c1-de1e-4e11-807e-588f5791f182"
    },
    {
      "cell_type": "code",
      "execution_count": 91,
      "metadata": {},
      "outputs": [
        {
          "output_type": "display_data",
          "metadata": {},
          "data": {}
        }
      ],
      "source": [
        "mu0 <- x0 %*% b\n",
        "mu0"
      ],
      "id": "c27617f8-69ec-4a55-9b05-619741306129"
    },
    {
      "cell_type": "markdown",
      "metadata": {},
      "source": [
        "$\\hat{\\mu}_0 = 3.4881$"
      ],
      "id": "51992882-c73a-4189-ab92-a301c11aad40"
    },
    {
      "cell_type": "code",
      "execution_count": 92,
      "metadata": {},
      "outputs": [
        {
          "output_type": "display_data",
          "metadata": {},
          "data": {}
        }
      ],
      "source": [
        "var_mu0 <- (t(x0) %*% xx_i %*% x0) * mse\n",
        "var_mu0"
      ],
      "id": "6d6e4d06-d146-43db-a707-bfbbcb9b9a74"
    },
    {
      "cell_type": "code",
      "execution_count": 93,
      "metadata": {},
      "outputs": [
        {
          "output_type": "display_data",
          "metadata": {},
          "data": {}
        }
      ],
      "source": [
        "sqrt(var_mu0)\n",
        "# se(hat mu0) = 0.0712"
      ],
      "id": "87cbc5a0-6786-4642-a821-3c9552bdf1e6"
    },
    {
      "cell_type": "markdown",
      "metadata": {},
      "source": [
        "## (6)\n",
        "\n",
        "$x_1 = 20, x_2 = 27, x_3 = 60$에서 어느 한 달의 물소비량 $y_s$ 를\n",
        "예측하여라. 이 예측된 물소비량의 표준편차의 추정값을 구하시오."
      ],
      "id": "696de048-e3e6-4973-a7fe-e32fbf74cca5"
    },
    {
      "cell_type": "code",
      "execution_count": 94,
      "metadata": {},
      "outputs": [
        {
          "output_type": "display_data",
          "metadata": {},
          "data": {
            "text/html": [
              "<style>\n",
              ".list-inline {list-style: none; margin:0; padding: 0}\n",
              ".list-inline>li {display: inline-block}\n",
              ".list-inline>li:not(:last-child)::after {content: \"\\00b7\"; padding: 0 .5ex}\n",
              "</style>\n",
              "<ol class=list-inline><li>1</li><li>20</li><li>27</li><li>60</li></ol>"
            ]
          }
        }
      ],
      "source": [
        "x0 <- c(1,20,27,60)\n",
        "x0"
      ],
      "id": "a9888243-424e-4b05-9ff2-9cd0b8d5e006"
    },
    {
      "cell_type": "code",
      "execution_count": 95,
      "metadata": {},
      "outputs": [
        {
          "output_type": "display_data",
          "metadata": {},
          "data": {}
        }
      ],
      "source": [
        "mu0 <- x0 %*% b\n",
        "mu0"
      ],
      "id": "780ab134-ada2-4eae-a874-b33f5fcb9ad1"
    },
    {
      "cell_type": "markdown",
      "metadata": {},
      "source": [
        "$\\hat{y}_s = 3.4881$"
      ],
      "id": "f3af5a21-0811-4c1f-a047-a6a2f0df2db2"
    },
    {
      "cell_type": "code",
      "execution_count": 96,
      "metadata": {},
      "outputs": [
        {
          "output_type": "display_data",
          "metadata": {},
          "data": {}
        }
      ],
      "source": [
        "var_ys <- (1+t(x0) %*% xx_i %*% x0) * mse\n",
        "var_ys"
      ],
      "id": "a971506f-cd92-44b5-9823-9783ddc1caa5"
    },
    {
      "cell_type": "code",
      "execution_count": 97,
      "metadata": {},
      "outputs": [
        {
          "output_type": "display_data",
          "metadata": {},
          "data": {}
        }
      ],
      "source": [
        "sqrt(var_ys)\n",
        "# se(hat ys) = 0.1862"
      ],
      "id": "f0df7f4f-30aa-430c-ae46-da30d9a0dc3c"
    },
    {
      "cell_type": "markdown",
      "metadata": {},
      "source": [
        "## (7)\n",
        "\n",
        "$y_j = \\beta_0 + \\beta_1 x_{1j} + \\beta_2 x_{2j} + \\epsilon_j$ 라\n",
        "가정하고 회귀제곱합 SSR의 기대값을 $\\sigma^2$과\n",
        "$\\beta_i, i = 0, 1, 2, 3$의 함수로 표시하여라."
      ],
      "id": "035338d9-20d6-4264-b1fe-7898879671f8"
    },
    {
      "cell_type": "code",
      "execution_count": 98,
      "metadata": {},
      "outputs": [
        {
          "output_type": "display_data",
          "metadata": {},
          "data": {}
        }
      ],
      "source": [
        "I10 <- diag(rep(1,10))\n",
        "I10"
      ],
      "id": "c836a8e9-9fc8-4fb1-904d-5b424d8c1e68"
    },
    {
      "cell_type": "code",
      "execution_count": 99,
      "metadata": {},
      "outputs": [
        {
          "output_type": "display_data",
          "metadata": {},
          "data": {
            "text/html": [
              "<style>\n",
              ".list-inline {list-style: none; margin:0; padding: 0}\n",
              ".list-inline>li {display: inline-block}\n",
              ".list-inline>li:not(:last-child)::after {content: \"\\00b7\"; padding: 0 .5ex}\n",
              "</style>\n",
              "<ol class=list-inline><li>1</li><li>1</li><li>1</li><li>1</li><li>1</li><li>1</li><li>1</li><li>1</li><li>1</li><li>1</li></ol>"
            ]
          }
        }
      ],
      "source": [
        "one1 <- rep(1,10)\n",
        "one1"
      ],
      "id": "32480482-6f16-456d-8465-eb90e5bf396b"
    },
    {
      "cell_type": "code",
      "execution_count": 100,
      "metadata": {},
      "outputs": [
        {
          "output_type": "display_data",
          "metadata": {},
          "data": {}
        }
      ],
      "source": [
        "Jn <- one1 %*% t(one1)\n",
        "Jn"
      ],
      "id": "fab15fdb-c75d-4c74-af41-ec363cca808a"
    },
    {
      "cell_type": "code",
      "execution_count": 101,
      "metadata": {},
      "outputs": [
        {
          "output_type": "display_data",
          "metadata": {},
          "data": {}
        }
      ],
      "source": [
        "t(x) %*% (I10 - Jn/10) %*% x"
      ],
      "id": "4ff5b301-d807-4842-9eba-29c09237cd57"
    },
    {
      "cell_type": "markdown",
      "metadata": {},
      "source": [
        "## (8)\n",
        "\n",
        "$\\beta_3$의 95% 신뢰구간을 구하시오. 이 신뢰구간의 의미를 해석하시오."
      ],
      "id": "3c80a51c-30d7-4c1e-8426-83a1927ba79a"
    },
    {
      "cell_type": "code",
      "execution_count": 102,
      "metadata": {},
      "outputs": [
        {
          "output_type": "display_data",
          "metadata": {},
          "data": {}
        }
      ],
      "source": [
        "confint(m3)"
      ],
      "id": "2be9ae80-56ac-4155-8045-b919d35c1340"
    },
    {
      "cell_type": "markdown",
      "metadata": {},
      "source": [
        "$\\beta_3 \\pm t_{0.025}(6) se(\\hat{\\beta}_3)$"
      ],
      "id": "6a53a962-1e64-459d-9ead-4ad34bc0cd1c"
    },
    {
      "cell_type": "code",
      "execution_count": 103,
      "metadata": {},
      "outputs": [
        {
          "output_type": "display_data",
          "metadata": {},
          "data": {}
        }
      ],
      "source": [
        "b[4] - qt(0.975,6) * sqrt(hat_var_b3)"
      ],
      "id": "0222532a-8154-4a74-ba21-980421730710"
    },
    {
      "cell_type": "code",
      "execution_count": 104,
      "metadata": {},
      "outputs": [
        {
          "output_type": "display_data",
          "metadata": {},
          "data": {}
        }
      ],
      "source": [
        "b[4] + qt(0.975,6) * sqrt(hat_var_b3)"
      ],
      "id": "f7aaf0f3-7d43-46e4-847e-222fc8a88cca"
    },
    {
      "cell_type": "code",
      "execution_count": 105,
      "metadata": {},
      "outputs": [],
      "source": [
        "#(-0.0065, 0.0182)"
      ],
      "id": "61cdaadc-a072-4a29-a30c-85bebe3dda8b"
    },
    {
      "cell_type": "markdown",
      "metadata": {},
      "source": [
        "이 신뢰구간이 $\\beta_3$을 포함하고 있을 것이라고 95% 확신한다.\n",
        "\n",
        "## (9)\n",
        "\n",
        "$\\beta_1$의 99% 신뢰구간을 구하시오. 이 신뢰구간의 의미를 해석하시오."
      ],
      "id": "134f8628-e524-423a-bcd9-25f66d4c390a"
    },
    {
      "cell_type": "code",
      "execution_count": 106,
      "metadata": {},
      "outputs": [
        {
          "output_type": "display_data",
          "metadata": {},
          "data": {}
        }
      ],
      "source": [
        "confint(m3, level=0.99)"
      ],
      "id": "ff90cb95-6d68-491d-9085-b0215eb10613"
    },
    {
      "cell_type": "markdown",
      "metadata": {},
      "source": [
        "$\\beta_1 \\pm t_{0.005}(6) se(\\hat{\\beta}_1)$"
      ],
      "id": "ab35ea16-c8ed-4895-aaae-3641bd395fbd"
    },
    {
      "cell_type": "code",
      "execution_count": 107,
      "metadata": {},
      "outputs": [
        {
          "output_type": "display_data",
          "metadata": {},
          "data": {}
        }
      ],
      "source": [
        "hat_var_b1 = xx_i[2,2] * mse\n",
        "hat_var_b1"
      ],
      "id": "fca395eb-5dad-4cf0-84ba-d0ea4637d4bd"
    },
    {
      "cell_type": "code",
      "execution_count": 108,
      "metadata": {},
      "outputs": [
        {
          "output_type": "display_data",
          "metadata": {},
          "data": {}
        }
      ],
      "source": [
        "b[2] - qt(0.995,6) * sqrt(hat_var_b1)"
      ],
      "id": "a3a1c05d-5a7d-423e-a040-b5629e0c0abc"
    },
    {
      "cell_type": "code",
      "execution_count": 109,
      "metadata": {},
      "outputs": [
        {
          "output_type": "display_data",
          "metadata": {},
          "data": {}
        }
      ],
      "source": [
        "b[2] + qt(0.995,6) * sqrt(hat_var_b1)"
      ],
      "id": "b18292c0-b82b-4017-af96-4f954a2df450"
    },
    {
      "cell_type": "code",
      "execution_count": 110,
      "metadata": {},
      "outputs": [],
      "source": [
        "#(0.0229, 0.1167)"
      ],
      "id": "1cf0f6eb-d02b-4a51-ac3a-a45aaaa7001f"
    },
    {
      "cell_type": "markdown",
      "metadata": {},
      "source": [
        "이 신뢰구간이 $\\beta_1$을 포함하고 있을 것이라고 99% 확신한다.\n",
        "\n",
        "## (10)\n",
        "\n",
        "$x_1 = 20, x_2 = 27, x_3 = 60$에서 평균 물소비량, $E(y)$의 95%\n",
        "신뢰구간을 구하시오."
      ],
      "id": "74e96fe4-db3f-4590-b8a7-0a013e1947d6"
    },
    {
      "cell_type": "code",
      "execution_count": 111,
      "metadata": {},
      "outputs": [
        {
          "output_type": "display_data",
          "metadata": {},
          "data": {}
        }
      ],
      "source": [
        "predict(m3, newdata = new_dt, interval = c(\"confidence\"))"
      ],
      "id": "15f3c991-97e6-4dbf-b202-6f8c4494b0fe"
    },
    {
      "cell_type": "code",
      "execution_count": 112,
      "metadata": {},
      "outputs": [
        {
          "output_type": "display_data",
          "metadata": {},
          "data": {}
        }
      ],
      "source": [
        "mu0 - qt(0.975,6) * sqrt(var_mu0)"
      ],
      "id": "b5f671ab-0b97-43d9-b243-240f5c274de9"
    },
    {
      "cell_type": "code",
      "execution_count": 113,
      "metadata": {},
      "outputs": [
        {
          "output_type": "display_data",
          "metadata": {},
          "data": {}
        }
      ],
      "source": [
        "mu0 + qt(0.975,6) * sqrt(var_mu0)"
      ],
      "id": "1eb318c7-afcb-4643-8d6d-69d578311403"
    },
    {
      "cell_type": "code",
      "execution_count": 114,
      "metadata": {},
      "outputs": [],
      "source": [
        "#(3.3140, 3.6623)"
      ],
      "id": "afbf8b8a-0323-4028-981f-db1a9af5b9c8"
    },
    {
      "cell_type": "markdown",
      "metadata": {},
      "source": [
        "## (11)\n",
        "\n",
        "가설 $H_0 : \\beta_1 = 0, H_1 : \\beta_1 > 0$을 $\\alpha = 0.05$로\n",
        "검정하시오."
      ],
      "id": "043e0c2f-8af2-4f28-805c-4ab55654b4e5"
    },
    {
      "cell_type": "code",
      "execution_count": 115,
      "metadata": {},
      "outputs": [
        {
          "output_type": "display_data",
          "metadata": {},
          "data": {
            "text/plain": [
              "\n",
              "Call:\n",
              "lm(formula = y ~ ., data = dt)\n",
              "\n",
              "Residuals:\n",
              "     Min       1Q   Median       3Q      Max \n",
              "-0.23490 -0.07744 -0.02166  0.08840  0.23442 \n",
              "\n",
              "Coefficients:\n",
              "             Estimate Std. Error t value Pr(>|t|)   \n",
              "(Intercept)  2.409213   1.125954   2.140  0.07618 . \n",
              "x1           0.069788   0.012640   5.521  0.00149 **\n",
              "x2          -0.024767   0.044830  -0.552  0.60060   \n",
              "x3           0.005864   0.005052   1.161  0.28978   \n",
              "---\n",
              "Signif. codes:  0 ‘***’ 0.001 ‘**’ 0.01 ‘*’ 0.05 ‘.’ 0.1 ‘ ’ 1\n",
              "\n",
              "Residual standard error: 0.172 on 6 degrees of freedom\n",
              "Multiple R-squared:  0.9202,    Adjusted R-squared:  0.8803 \n",
              "F-statistic: 23.05 on 3 and 6 DF,  p-value: 0.001079"
            ]
          }
        }
      ],
      "source": [
        "summary(m3)"
      ],
      "id": "c0920d38-60c5-4774-8f4a-3b6647e58a3d"
    },
    {
      "cell_type": "markdown",
      "metadata": {},
      "source": [
        "검정통계량 : $t_0 = \\frac{\\hat{\\beta}_1}{se(\\hat{\\beta}_1)}$"
      ],
      "id": "ae5f4c32-0ac6-44a8-8008-ceb41792fcfe"
    },
    {
      "cell_type": "code",
      "execution_count": 116,
      "metadata": {},
      "outputs": [
        {
          "output_type": "display_data",
          "metadata": {},
          "data": {}
        }
      ],
      "source": [
        "t0 <- b[2]/sqrt(hat_var_b1)\n",
        "t0"
      ],
      "id": "e5fc0d25-7c88-433c-8f51-b8d4fa271b1d"
    },
    {
      "cell_type": "markdown",
      "metadata": {},
      "source": [
        "$t_0 = 5.5211$\n",
        "\n",
        "기각역 : $t_{0.05}(6) = 1.9432$"
      ],
      "id": "0b626b9d-78be-498c-81b6-04487f42fb6b"
    },
    {
      "cell_type": "code",
      "execution_count": 117,
      "metadata": {},
      "outputs": [
        {
          "output_type": "display_data",
          "metadata": {},
          "data": {
            "text/html": [
              "1.9431802805153"
            ]
          }
        }
      ],
      "source": [
        "qt(0.95,6)"
      ],
      "id": "b2fbb5a1-c1a9-4a87-ae07-1c825c6c41d9"
    },
    {
      "cell_type": "markdown",
      "metadata": {},
      "source": [
        "결론 : $H_0$ 기각 가능. 즉 유의수준 5%에서 $\\beta_2$는 0보다 크다고 할\n",
        "수 있다.\n",
        "\n",
        "$T = \\frac{\\hat{\\beta}_i - \\beta^0_i}{\\hat{\\sigma} \\sqrt{c_{ii}}}$\n",
        "\n",
        "## (12)\n",
        "\n",
        "가설 $H_0 : \\beta_1 = \\beta_2 = \\beta_3$을 $\\alpha = 0.05$로 검정하시오."
      ],
      "id": "8295d7e9-e5ff-4bea-8aec-d3e9fce0a068"
    },
    {
      "cell_type": "code",
      "execution_count": 118,
      "metadata": {},
      "outputs": [
        {
          "output_type": "stream",
          "name": "stderr",
          "text": [
            "Loading required package: carData\n"
          ]
        }
      ],
      "source": [
        "library(car) "
      ],
      "id": "2d7e708c-95d5-434b-bc32-fb16b54f1345"
    },
    {
      "cell_type": "code",
      "execution_count": 119,
      "metadata": {},
      "outputs": [
        {
          "output_type": "display_data",
          "metadata": {},
          "data": {}
        }
      ],
      "source": [
        "linearHypothesis(m3, matrix(c(0,1,-1,0,0,0,1,-1), byrow = T, nrow=2),c(0,0))"
      ],
      "id": "d8be3c00-9784-49e0-888d-4f87c28fb62e"
    },
    {
      "cell_type": "markdown",
      "metadata": {},
      "source": [
        "$H_0 : \\beta_1 = \\beta_2 = \\beta_3$\n",
        "\n",
        "$T= (0,1,-1,0) (0,0,1,-1)$\n",
        "\n",
        "$y= \\beta_0 + \\beta_1 x_1 + \\beta_1 x_2 + \\beta_1 x_3 + \\epsilon = \\beta_0 + \\beta_1(x_1+x_2+x_3)$"
      ],
      "id": "820ba248-4c8a-40e0-97a3-4a979382383c"
    },
    {
      "cell_type": "code",
      "execution_count": 120,
      "metadata": {},
      "outputs": [
        {
          "output_type": "display_data",
          "metadata": {},
          "data": {}
        }
      ],
      "source": [
        "z <- matrix(c(rep(1,10), dt$x1+dt$x2+dt$x3), ncol=2)\n",
        "z"
      ],
      "id": "b004482f-559f-4b83-9945-7bf4e0b81bd0"
    },
    {
      "cell_type": "code",
      "execution_count": 121,
      "metadata": {},
      "outputs": [
        {
          "output_type": "display_data",
          "metadata": {},
          "data": {}
        }
      ],
      "source": [
        "zz <- t(z) %*% z\n",
        "zz"
      ],
      "id": "69a54c7c-ce07-4ccf-9018-97da35a390ba"
    },
    {
      "cell_type": "code",
      "execution_count": 122,
      "metadata": {},
      "outputs": [
        {
          "output_type": "display_data",
          "metadata": {},
          "data": {}
        }
      ],
      "source": [
        "zz_i <- solve(zz)\n",
        "zz_i"
      ],
      "id": "cefbc9f6-0217-4703-8fa0-d22cbf987ca4"
    },
    {
      "cell_type": "code",
      "execution_count": 123,
      "metadata": {},
      "outputs": [
        {
          "output_type": "display_data",
          "metadata": {},
          "data": {}
        }
      ],
      "source": [
        "zy <- t(z) %*% y\n",
        "zy"
      ],
      "id": "e6e6ad8e-3e25-402e-8cd9-e8a92a647eb8"
    },
    {
      "cell_type": "code",
      "execution_count": 124,
      "metadata": {},
      "outputs": [
        {
          "output_type": "display_data",
          "metadata": {},
          "data": {}
        }
      ],
      "source": [
        "yy <- t(y) %*% y\n",
        "yy"
      ],
      "id": "e599b1a5-bd16-4516-b789-933ae3f27982"
    },
    {
      "cell_type": "code",
      "execution_count": 125,
      "metadata": {},
      "outputs": [
        {
          "output_type": "display_data",
          "metadata": {},
          "data": {}
        }
      ],
      "source": [
        "z %*% zz_i %*% t(z)"
      ],
      "id": "248bb38a-1e06-4786-805e-ac6f39e20046"
    },
    {
      "cell_type": "code",
      "execution_count": 126,
      "metadata": {},
      "outputs": [
        {
          "output_type": "display_data",
          "metadata": {},
          "data": {}
        }
      ],
      "source": [
        "gammahat <- zz_i %*% t(z) %*% y\n",
        "gammahat"
      ],
      "id": "34233f1d-71fc-4ec5-9ae9-8a5cf59bb9c4"
    },
    {
      "cell_type": "code",
      "execution_count": 127,
      "metadata": {},
      "outputs": [
        {
          "output_type": "display_data",
          "metadata": {},
          "data": {}
        }
      ],
      "source": [
        "e <- y - z %*% gammahat\n",
        "e"
      ],
      "id": "813ae1b5-c376-47d3-838c-7a42262e1584"
    },
    {
      "cell_type": "code",
      "execution_count": 128,
      "metadata": {},
      "outputs": [
        {
          "output_type": "display_data",
          "metadata": {},
          "data": {}
        }
      ],
      "source": [
        "sse_rm <- t(e) %*% e\n",
        "sse_rm"
      ],
      "id": "0a393c9a-c4ed-42d8-9f02-704654b18122"
    },
    {
      "cell_type": "code",
      "execution_count": 129,
      "metadata": {},
      "outputs": [
        {
          "output_type": "display_data",
          "metadata": {},
          "data": {}
        }
      ],
      "source": [
        "f0 = ((sse_rm - sse)/(2))/(sse/6)\n",
        "f0"
      ],
      "id": "2fe4fb49-0db4-4666-95e7-0140afd2af81"
    },
    {
      "cell_type": "code",
      "execution_count": 130,
      "metadata": {},
      "outputs": [
        {
          "output_type": "display_data",
          "metadata": {},
          "data": {
            "text/html": [
              "5.14325284978472"
            ]
          }
        }
      ],
      "source": [
        "qf(0.95,2,6)"
      ],
      "id": "18f44503-3eb4-417b-a151-15d929482799"
    },
    {
      "cell_type": "markdown",
      "metadata": {},
      "source": [
        "검정통계량 : $\\frac{(SSE_{RM} - SSE_{FM})/r}{SSE_{FM}/(n-p-1)}$\n",
        "\n",
        "관측값 $f_0 = 15.968$\n",
        "\n",
        "기각역 : $f_0 > 5.1433$\n",
        "\n",
        "결론 : 기각할 수 있다.\n",
        "\n",
        "## (13)\n",
        "\n",
        "가설 $H_0 : \\beta_1 = \\beta_2 + 3$을 $\\alpha = 0.05$로 검정하시오.\n",
        "\n",
        "$H_0 : \\beta_1 = \\beta_2 = \\beta_3$\n",
        "\n",
        "$T= (0,1,-1,0)$\n",
        "\n",
        "$y = \\beta_0 + (\\beta_2+3)x_1 + \\beta_2 x_2 + \\beta_3 x_3 + \\epsilon$\n",
        "$y - 3x_1 = \\beta_0 + \\beta_2(x_1 + x_2) + \\beta_3 x_3 + \\epsilon$"
      ],
      "id": "9cd41061-e484-4fb6-bea2-0fd3f3d26ae1"
    },
    {
      "cell_type": "code",
      "execution_count": 131,
      "metadata": {},
      "outputs": [
        {
          "output_type": "display_data",
          "metadata": {},
          "data": {
            "text/html": [
              "<style>\n",
              ".list-inline {list-style: none; margin:0; padding: 0}\n",
              ".list-inline>li {display: inline-block}\n",
              ".list-inline>li:not(:last-child)::after {content: \"\\00b7\"; padding: 0 .5ex}\n",
              "</style>\n",
              "<ol class=list-inline><li>-27.2</li><li>-68.1</li><li>-71.1</li><li>-79.6</li><li>-41.9</li><li>-50.9</li><li>-62.5</li><li>-62.4</li><li>-33</li><li>-41.7</li></ol>"
            ]
          }
        }
      ],
      "source": [
        "yy <- y-3*dt$x1\n",
        "yy"
      ],
      "id": "19756bb7-8953-4c8f-b047-6b3e317fe975"
    },
    {
      "cell_type": "code",
      "execution_count": 132,
      "metadata": {},
      "outputs": [
        {
          "output_type": "display_data",
          "metadata": {},
          "data": {}
        }
      ],
      "source": [
        "z <- matrix(c(rep(1,10), dt$x1+dt$x2,dt$x3), ncol=3)\n",
        "z"
      ],
      "id": "2248daf2-db20-4c26-a324-b6df6eca91c7"
    },
    {
      "cell_type": "code",
      "execution_count": 133,
      "metadata": {},
      "outputs": [
        {
          "output_type": "display_data",
          "metadata": {},
          "data": {}
        }
      ],
      "source": [
        "zz <- t(z) %*% z\n",
        "zz"
      ],
      "id": "86fdbabc-a537-45c8-a917-b2672476d3d0"
    },
    {
      "cell_type": "code",
      "execution_count": 134,
      "metadata": {},
      "outputs": [
        {
          "output_type": "display_data",
          "metadata": {},
          "data": {}
        }
      ],
      "source": [
        "zz_i <- solve(zz)\n",
        "zz_i"
      ],
      "id": "31fbab7b-680d-4a74-8964-843ba45f616b"
    },
    {
      "cell_type": "code",
      "execution_count": 135,
      "metadata": {},
      "outputs": [
        {
          "output_type": "display_data",
          "metadata": {},
          "data": {}
        }
      ],
      "source": [
        "gammahat <- zz_i %*% t(z) %*% yy\n",
        "gammahat"
      ],
      "id": "e932bfea-1917-497a-9ef0-36a56f275866"
    },
    {
      "cell_type": "code",
      "execution_count": 136,
      "metadata": {},
      "outputs": [
        {
          "output_type": "display_data",
          "metadata": {},
          "data": {}
        }
      ],
      "source": [
        "e <- yy - z %*% gammahat\n",
        "e"
      ],
      "id": "cb7e39b7-4463-4724-9b34-d8a1bd0894ac"
    },
    {
      "cell_type": "code",
      "execution_count": 137,
      "metadata": {},
      "outputs": [
        {
          "output_type": "display_data",
          "metadata": {},
          "data": {}
        }
      ],
      "source": [
        "sse_rm <- t(e) %*% e\n",
        "sse_rm"
      ],
      "id": "17da0cb3-2cb3-45e6-bcaa-521fdf4a6a0a"
    },
    {
      "cell_type": "code",
      "execution_count": 138,
      "metadata": {},
      "outputs": [
        {
          "output_type": "display_data",
          "metadata": {},
          "data": {}
        }
      ],
      "source": [
        "f0 = ((sse_rm - sse)/(1))/(sse/6)\n",
        "f0"
      ],
      "id": "46ba0abc-e999-4d61-9b7f-f2f43175f010"
    },
    {
      "cell_type": "code",
      "execution_count": 139,
      "metadata": {},
      "outputs": [
        {
          "output_type": "display_data",
          "metadata": {},
          "data": {
            "text/html": [
              "5.9873776072737"
            ]
          }
        }
      ],
      "source": [
        "qf(0.95,1,6)"
      ],
      "id": "aa726ff9-4bed-4dc8-a0fd-cff35f40b06c"
    },
    {
      "cell_type": "markdown",
      "metadata": {},
      "source": [
        "검정통계량 : $\\frac{(SSE_RM - SSE_FM)/r)}{(SSE_FM/(n-p-1))}$\n",
        "\n",
        "관측값 $f_0 = 5311.082$\n",
        "\n",
        "기각역 : $f_0 > 5.9874$\n",
        "\n",
        "결론 : 기각할 수 있다.\n",
        "\n",
        "## (14)\n",
        "\n",
        "$x_1 = 20, x_2 = 27, x_3 = 60$에서 $E(y)$에 관한 가설\n",
        "$H_0 : E(y) = 3.5, H_1 : E(y) ̸\\neq 3.5$를 $\\alpha = 0.05$로 검정하시오.\n",
        "\n",
        "sy 풀이\n",
        "\n",
        "$T_0 = \\frac{\\hat{y} - E(y)}{\\sqrt{Var{\\hat{y}}}} = \\frac{\\hat{y} - E(Y)}{\\sqrt{x^\\top (X^\\top X)^{-1} x MSE}} \\sim t(n-1)$"
      ],
      "id": "255ca7d4-c43d-4b3c-88fa-0239168295d7"
    },
    {
      "cell_type": "code",
      "execution_count": 140,
      "metadata": {},
      "outputs": [],
      "source": [
        "x_indi <- matrix(c(1,20,27,60),nrow=1,ncol=4)"
      ],
      "id": "b6eb0d0b-a327-4c5d-86f6-3846757e45b1"
    },
    {
      "cell_type": "code",
      "execution_count": 141,
      "metadata": {},
      "outputs": [
        {
          "output_type": "display_data",
          "metadata": {},
          "data": {}
        }
      ],
      "source": [
        "yhat <- x_indi %*% b\n",
        "round(yhat,5)"
      ],
      "id": "8b7de777-59e5-447a-9e7f-6783175cc4c2"
    },
    {
      "cell_type": "markdown",
      "metadata": {},
      "source": [
        "$Var{y} = x_i (X^\\top X)^{-1} x_i^\\top \\sigma^2$"
      ],
      "id": "df11740b-0ea6-4133-a987-c991d927be70"
    },
    {
      "cell_type": "code",
      "execution_count": 142,
      "metadata": {},
      "outputs": [
        {
          "output_type": "display_data",
          "metadata": {},
          "data": {
            "text/html": [
              "0.00507"
            ]
          }
        }
      ],
      "source": [
        "var_y <- ((x_indi %*%solve(t(x) %*% x) %*% t(x_indi) ) * mse)[,]\n",
        "round(var_y,5)"
      ],
      "id": "a368353b-86ad-4991-91e1-161b3bc84b04"
    },
    {
      "cell_type": "code",
      "execution_count": 143,
      "metadata": {},
      "outputs": [
        {
          "output_type": "display_data",
          "metadata": {},
          "data": {
            "text/html": [
              "-0.16663"
            ]
          }
        }
      ],
      "source": [
        "t_0 <- (yhat - 3.5)/sqrt(var_y)\n",
        "round(t_0[,],5)"
      ],
      "id": "51b1d8af-e6a2-4961-a54c-140589600eb4"
    },
    {
      "cell_type": "code",
      "execution_count": 144,
      "metadata": {},
      "outputs": [
        {
          "output_type": "display_data",
          "metadata": {},
          "data": {
            "text/html": [
              "-0.5097"
            ]
          }
        }
      ],
      "source": [
        "round(-pt(0.025,9),5)"
      ],
      "id": "78b14003-0a6b-4a01-a2ae-4f850b082f52"
    },
    {
      "cell_type": "markdown",
      "metadata": {},
      "source": [
        "$F_0=-0.16663$ \\> $t_{0.025}(9)=-0.5097$ 로 귀무가설을 기각하지 못하여\n",
        "$E(y) = 3.5$라는 결론이 나온다.\n",
        "\n",
        "# 4.\n",
        "\n",
        "중회귀모형, $y = X\\beta + \\epsilon, \\epsilon \\sim N(0_n, I\\sigma^2)$에서\n",
        "$X$ 가 $n \\times (p + 1)$행렬이고 rank가 $p + 1$이라면 적합된 모형\n",
        "$\\hat{y} = X\\hat{\\beta}$에 대하여\n",
        "$$\\sum^{n}_{j=1} Var(\\hat{y}_j ) = (p + 1)\\sigma^2$$ 이 됨을 증명하여라.\n",
        "\n",
        "$\\hat{\\bf{y}}= X\\hat{\\beta} = X(X^\\top X)^{-1} X^\\top y = Hy$\n",
        "\n",
        "$Var(X\\hat{\\beta}) = XVar(\\hat{\\beta})X^\\top$\n",
        "\n",
        "$Var(\\hat{\\beta}) = Var((X^\\top X)^{-1} X^\\top y) = (X^\\top X)^{-1} X^\\top Var(y)X(X^\\top X)^{-1} = (X^\\top X)^{-1} X^\\top X(X^\\top X)^{-1} \\sigma^2 = (X^\\top X )^{-1} \\sigma^2$\n",
        "\n",
        "$Var(\\hat{y}) = Var(X\\hat{\\beta}) = X(X^\\top X)^{-1} X^\\top \\sigma^2$\n",
        "\n",
        "$\\to Var(\\hat{y}) = HVar(y) H^\\top = HH\\sigma^2 = H\\sigma^2$\n",
        "\n",
        "$\\star H^\\top = H, H^2 = H, Var(y) = I_n \\sigma^2$\n",
        "\n",
        "$\\sum^{n}_{j=1} Var(\\hat{y}_j) = tr(Var(\\hat{y})) = tr(H\\sigma^2) = \\sigma^2 tr(H) = tr((X^\\top X)^{-1} X^\\top X)\\sigma^2 = tr(I_{p+1})\\sigma^2 = (p+1)\\sigma^2$\n",
        "\n",
        "$\\star tr(X (X^\\top X)^{-1} X^\\top)$\n",
        "\n",
        "# 5.\n",
        "\n",
        "중회귀모형에서 다음을 증명하시오.\n",
        "\n",
        "## (1)\n",
        "\n",
        "$Cov(e, y) = \\sigma^2[I_n − X(X^\\top X)^{-1}X^\\top]$\n",
        "\n",
        "$\\bf{e} = y - \\hat{y} = y - Hy = (I-H)y$\n",
        "\n",
        "$Cov(\\bf{e},y) = Cov((I-H)y,y) = (I-H)Var(y) = (I-H) \\sigma^2$\n",
        "\n",
        "$\\star Cov(Ax,y) = A Cov(X,Y)$\n",
        "\n",
        "$\\star Var(y) = \\sigma^2$\n",
        "\n",
        "## (2)\n",
        "\n",
        "$Cov(e, \\hat{y}) = \\mathbb{O}_n$\n",
        "\n",
        "$Cov(e(I - H)\\bf{y},Hy) = (I-H) Cov(y,y)H^\\top = (I-H)H\\sigma^2 = \\mathbb{O}_n \\sigma^2$\n",
        "\n",
        "$\\star Cov(Ax,By) = ACov(X,Y)B^\\top$\n",
        "\n",
        "$\\star H^\\top= H$\n",
        "\n",
        "$\\star H^2 = H$\n",
        "\n",
        "## (3)\n",
        "\n",
        "$Cov(e, \\hat{\\beta}) = \\mathbb{O}_{n\\times(k+1)}$\n",
        "\n",
        "$Cov((I-H)\\bf{y},(X^\\top X)^{-1} y) = (I-H) Cov(y,y) X (X^\\top X)^{-1} = (I - X(X^\\top X)^{-1} X^\\top ) X (X^\\top X)^{-1} \\sigma^2 = \\{ X(X^\\top X)^{-1} - X(X^\\top X)^{-1} \\} \\sigma^2 = \\mathbb{O}_{n \\times ([+1)}$\n",
        "\n",
        "## (4)\n",
        "\n",
        "$Cov(\\epsilon, \\hat{\\beta}) = \\sigma^2 X(X^\\top X)^{-1}$\n",
        "\n",
        "$\\bf{\\hat{\\beta}} = (X^\\top X)^{-1} X^\\top y = (X^\\top X)^{-1} X^\\top (X\\beta + \\epsilon) = \\beta + (X^\\top X)^{-1} X^\\top \\epsilon$\n",
        "\n",
        "$Cov(\\bf{\\epsilon} , \\beta + (X^\\top X)^{-1} X^\\top \\epsilon ) = Cov(\\epsilon, \\beta) + Cov(\\epsilon, \\epsilon)X(X^\\top X)^{-1} = \\sigma^2 X(X^\\top X)^{-1}$\n",
        "\n",
        "$\\star Cov(\\epsilon, \\beta) = 0$\n",
        "\n",
        "$\\star Cov(\\epsilon, \\epsilon) = I_n \\sigma^2$\n",
        "\n",
        "## (5)\n",
        "\n",
        "$\\sum^{n}_{j=1} e_j y_j = SSE$\n",
        "\n",
        "$\\sum^{n}_{j=1} e_j y_j = \\bf{e^\\top y} = \\{ (I - H)y\\}^\\top y = y^\\top (I-H)y$\n",
        "\n",
        "$\\star \\bf{e}^\\top (e_1, \\dots , e_n) = (y-\\hat{y})^\\top$\n",
        "\n",
        "$\\star \\bf{y}^\\top = (y_1 , \\dots , y_n)$\n",
        "\n",
        "$SSE = \\sum^n_{j=1} (y_i - \\hat{y}_j)^2 = (\\bf{y} - \\hat{y} ) ^\\top ( y - \\hat{y} ) = e^\\top e = \\{ (I - H)y \\}^\\top \\{ (I - H)y \\} = y^\\top (I - H) (I-H)y = y^\\top (I - H)y$\n",
        "\n",
        "$\\star I - H_H+H^2 = I-H, H^2 = H$\n",
        "\n",
        "$\\therefore \\sum^{n}_{j=1} e_j y_j = SSE$\n",
        "\n",
        "## (6)\n",
        "\n",
        "$\\sum^{n}_{j=1} e_j \\hat{y}_j = 0$\n",
        "\n",
        "$\\sum^{n}_{j=1} \\bf{e_j \\hat{y}_j} = e^\\top \\hat{y} = y^\\top (I-H) Hy = y^\\top_{1\\times n} \\mathbb{O}_{n\\times n} y_{n \\times 1} = 0$\n",
        "\n",
        "$\\star H - H^2 = H - H = \\mathbb{O}_{n \\times n}$\n",
        "\n",
        "# 1 plus.\n",
        "\n",
        "다음의 데이터에 대하여 모형\n",
        "$y_i = \\beta_0 + \\beta_1 x_{1j} + \\beta_2 x_{2j} + \\epsilon_j, \\epsilon \\sim N(0,\\sigma^2)$이\n",
        "옳다고 가정하고 질문에 답하여라.\n",
        "\n",
        "|  y  |  1  |  5  |  0  |  4  |  4  | -1  |\n",
        "|:---:|:---:|:---:|:---:|:---:|:---:|:---:|\n",
        "| x_1 |  1  |  2  |  1  |  3  |  3  |  3  |\n",
        "| x_2 |  1  |  1  |  2  |  1  |  2  |  3  |"
      ],
      "id": "bda4ba70-e36a-4e8a-ba0b-d7bb7f08d3dd"
    },
    {
      "cell_type": "code",
      "execution_count": 145,
      "metadata": {},
      "outputs": [],
      "source": [
        "library(car)"
      ],
      "id": "04cda10e-4b19-4d97-8c81-1cc99621cd67"
    },
    {
      "cell_type": "code",
      "execution_count": 146,
      "metadata": {},
      "outputs": [],
      "source": [
        "y <- c(1,5,0,4,4,-1)"
      ],
      "id": "d74cbb1f-9ebe-4ca2-a678-3ff9ca83d1af"
    },
    {
      "cell_type": "code",
      "execution_count": 147,
      "metadata": {},
      "outputs": [],
      "source": [
        "x <- matrix(c(1,1,1,1,1,1,1,2,1,3,3,3,1,1,2,1,2,3), ncol=3)"
      ],
      "id": "0bf5bab5-3086-4a22-ad13-54d4d9c5287d"
    },
    {
      "cell_type": "code",
      "execution_count": 148,
      "metadata": {},
      "outputs": [],
      "source": [
        "dt <- data.frame(y=y,x1=x[,2],x2 = x[,3])"
      ],
      "id": "f892bbc7-9a11-4400-9ae6-ea81dfaf406b"
    },
    {
      "cell_type": "code",
      "execution_count": 149,
      "metadata": {},
      "outputs": [],
      "source": [
        "m <- lm(y~., dt)"
      ],
      "id": "88981b71-9cf2-4b49-8c02-10c2c84fb832"
    },
    {
      "cell_type": "code",
      "execution_count": 150,
      "metadata": {},
      "outputs": [
        {
          "output_type": "display_data",
          "metadata": {},
          "data": {
            "text/plain": [
              "\n",
              "Call:\n",
              "lm(formula = y ~ ., data = dt)\n",
              "\n",
              "Residuals:\n",
              "      1       2       3       4       5       6 \n",
              "-1.1395  1.3488  0.4651 -1.1628  1.4419 -0.9535 \n",
              "\n",
              "Coefficients:\n",
              "            Estimate Std. Error t value Pr(>|t|)  \n",
              "(Intercept)   3.2326     1.9740   1.638   0.2000  \n",
              "x1            1.5116     0.7713   1.960   0.1449  \n",
              "x2           -2.6047     0.9288  -2.804   0.0676 .\n",
              "---\n",
              "Signif. codes:  0 ‘***’ 0.001 ‘**’ 0.01 ‘*’ 0.05 ‘.’ 0.1 ‘ ’ 1\n",
              "\n",
              "Residual standard error: 1.599 on 3 degrees of freedom\n",
              "Multiple R-squared:  0.7511,    Adjusted R-squared:  0.5852 \n",
              "F-statistic: 4.527 on 2 and 3 DF,  p-value: 0.1242"
            ]
          }
        }
      ],
      "source": [
        "summary(m)"
      ],
      "id": "9b847d68-124d-4689-a241-e5349a9b080c"
    },
    {
      "cell_type": "code",
      "execution_count": 151,
      "metadata": {},
      "outputs": [
        {
          "output_type": "display_data",
          "metadata": {},
          "data": {}
        }
      ],
      "source": [
        "anova(m)"
      ],
      "id": "23ba3824-cdd9-4251-83cd-5273aadcb3c6"
    },
    {
      "cell_type": "markdown",
      "metadata": {},
      "source": [
        "## (1)\n",
        "\n",
        "$X^\\top X, X^\\top y y^\\top y$와 $(X^\\top X)^{-1}$ 을 구하시오."
      ],
      "id": "2ce1a1a3-010d-4ddb-9eb0-82b3928d8fbf"
    },
    {
      "cell_type": "code",
      "execution_count": 152,
      "metadata": {},
      "outputs": [
        {
          "output_type": "display_data",
          "metadata": {},
          "data": {}
        }
      ],
      "source": [
        "xx <- t(x) %*% x\n",
        "xx"
      ],
      "id": "d8ce4294-fd5e-4623-9bf7-7bc4bb9e501e"
    },
    {
      "cell_type": "code",
      "execution_count": 153,
      "metadata": {},
      "outputs": [
        {
          "output_type": "display_data",
          "metadata": {},
          "data": {}
        }
      ],
      "source": [
        "xx_i <- solve(xx)\n",
        "xx_i"
      ],
      "id": "a18fe6b0-abb8-4e02-a39c-5989d5d361c0"
    },
    {
      "cell_type": "code",
      "execution_count": 154,
      "metadata": {},
      "outputs": [
        {
          "output_type": "display_data",
          "metadata": {},
          "data": {}
        }
      ],
      "source": [
        "xx_i2 <- round(xx_i,2)\n",
        "xx_i2"
      ],
      "id": "1736df57-231f-4d31-9301-0e374bc832dc"
    },
    {
      "cell_type": "code",
      "execution_count": 155,
      "metadata": {},
      "outputs": [
        {
          "output_type": "display_data",
          "metadata": {},
          "data": {}
        }
      ],
      "source": [
        "xy <- t(x) %*% y\n",
        "xy"
      ],
      "id": "9dfeb72f-7175-4402-906c-c3c8065206f1"
    },
    {
      "cell_type": "code",
      "execution_count": 156,
      "metadata": {},
      "outputs": [
        {
          "output_type": "display_data",
          "metadata": {},
          "data": {}
        }
      ],
      "source": [
        "yy <- t(y) %*% y\n",
        "yy"
      ],
      "id": "5bc44b6f-13a8-4774-8e4b-998292757f13"
    },
    {
      "cell_type": "markdown",
      "metadata": {},
      "source": [
        "## (2)\n",
        "\n",
        "$\\beta_0, \\beta_1, \\beta_2, \\sigma^2$를 추정하시오."
      ],
      "id": "54c40bc8-3216-4a83-8fcc-d365e28ed239"
    },
    {
      "cell_type": "code",
      "execution_count": 157,
      "metadata": {},
      "outputs": [
        {
          "output_type": "display_data",
          "metadata": {},
          "data": {
            "text/html": [
              "<style>\n",
              ".dl-inline {width: auto; margin:0; padding: 0}\n",
              ".dl-inline>dt, .dl-inline>dd {float: none; width: auto; display: inline-block}\n",
              ".dl-inline>dt::after {content: \":\\0020\"; padding-right: .5ex}\n",
              ".dl-inline>dt:not(:first-of-type) {padding-left: .5ex}\n",
              "</style><dl class=dl-inline><dt>(Intercept)</dt><dd>3.23255813953489</dd><dt>x1</dt><dd>1.51162790697674</dd><dt>x2</dt><dd>-2.6046511627907</dd></dl>"
            ]
          }
        }
      ],
      "source": [
        "coef(m)"
      ],
      "id": "2a81475b-2b96-4c35-bcc3-36e7f4eab8e9"
    },
    {
      "cell_type": "code",
      "execution_count": 158,
      "metadata": {},
      "outputs": [
        {
          "output_type": "display_data",
          "metadata": {},
          "data": {
            "text/html": [
              "2.55813953488372"
            ]
          }
        }
      ],
      "source": [
        "anova(m)$Mean[3]"
      ],
      "id": "14d59443-b302-49d0-89c0-7ffa140a0e70"
    },
    {
      "cell_type": "code",
      "execution_count": 159,
      "metadata": {},
      "outputs": [
        {
          "output_type": "display_data",
          "metadata": {},
          "data": {}
        }
      ],
      "source": [
        "b <- xx_i %*% xy\n",
        "b"
      ],
      "id": "2b388c7f-75e1-4ec8-9be4-299a896a0597"
    },
    {
      "cell_type": "code",
      "execution_count": 160,
      "metadata": {},
      "outputs": [
        {
          "output_type": "display_data",
          "metadata": {},
          "data": {}
        }
      ],
      "source": [
        "b1 <- round(round(xx_i,2)%*% xy,2)\n",
        "b1"
      ],
      "id": "3d9d9259-ede2-48f2-a1ed-3ee427356627"
    },
    {
      "cell_type": "code",
      "execution_count": 161,
      "metadata": {},
      "outputs": [
        {
          "output_type": "display_data",
          "metadata": {},
          "data": {}
        }
      ],
      "source": [
        "haty <- x %*% b\n",
        "haty"
      ],
      "id": "e653b855-afaa-4450-9ce8-5cd15d524fbf"
    },
    {
      "cell_type": "code",
      "execution_count": 162,
      "metadata": {},
      "outputs": [
        {
          "output_type": "display_data",
          "metadata": {},
          "data": {}
        }
      ],
      "source": [
        "haty_2 <- round(x %*% b1,2)\n",
        "haty_2"
      ],
      "id": "654abc04-4a7a-44ea-9b5b-8f02f3bce4a7"
    },
    {
      "cell_type": "code",
      "execution_count": 163,
      "metadata": {},
      "outputs": [
        {
          "output_type": "display_data",
          "metadata": {},
          "data": {}
        }
      ],
      "source": [
        "e <- y - haty\n",
        "e"
      ],
      "id": "011f4f32-96a7-4e8e-9d29-40db9ab4f9a6"
    },
    {
      "cell_type": "code",
      "execution_count": 164,
      "metadata": {},
      "outputs": [
        {
          "output_type": "display_data",
          "metadata": {},
          "data": {}
        }
      ],
      "source": [
        "e_2 <- y - haty_2\n",
        "e_2"
      ],
      "id": "3b5a78c2-e06a-4c7d-99f3-e56f953008d6"
    },
    {
      "cell_type": "code",
      "execution_count": 165,
      "metadata": {},
      "outputs": [
        {
          "output_type": "display_data",
          "metadata": {},
          "data": {}
        }
      ],
      "source": [
        "sse <- t(e) %*% e\n",
        "sse"
      ],
      "id": "2c63d6e3-ed02-44c7-873a-2809dc021097"
    },
    {
      "cell_type": "code",
      "execution_count": 166,
      "metadata": {},
      "outputs": [
        {
          "output_type": "display_data",
          "metadata": {},
          "data": {}
        }
      ],
      "source": [
        "sse_2 <- t(e_2) %*% e_2\n",
        "sse_2"
      ],
      "id": "3d7869a5-4060-4e9b-b0cb-493d28913c6b"
    },
    {
      "cell_type": "code",
      "execution_count": 167,
      "metadata": {},
      "outputs": [
        {
          "output_type": "display_data",
          "metadata": {},
          "data": {}
        }
      ],
      "source": [
        "mse <- sse / 3\n",
        "mse"
      ],
      "id": "9c6777e4-54cf-4260-92f3-191ec461f6b0"
    },
    {
      "cell_type": "code",
      "execution_count": 168,
      "metadata": {},
      "outputs": [
        {
          "output_type": "display_data",
          "metadata": {},
          "data": {}
        }
      ],
      "source": [
        "mse_2 <- sse_2 / 3\n",
        "mse_2"
      ],
      "id": "3c5e1618-a2ed-402c-b9b4-24ac4d8b4540"
    },
    {
      "cell_type": "markdown",
      "metadata": {},
      "source": [
        "## (3)\n",
        "\n",
        "$x_1 = x_2 = 2$에서 $E(y)$의 95% 신뢰구간을 구하시오."
      ],
      "id": "8ccb7af5-c1d9-4f8c-9e9e-701c569967b8"
    },
    {
      "cell_type": "code",
      "execution_count": 169,
      "metadata": {},
      "outputs": [
        {
          "output_type": "display_data",
          "metadata": {},
          "data": {}
        }
      ],
      "source": [
        "new_dt <- data.frame(x1=2, x2=2)\n",
        "new_dt"
      ],
      "id": "8d22b6f6-854d-472c-a58a-ff22eac2600e"
    },
    {
      "cell_type": "code",
      "execution_count": 170,
      "metadata": {},
      "outputs": [
        {
          "output_type": "display_data",
          "metadata": {},
          "data": {}
        }
      ],
      "source": [
        "predict(m, newdata = new_dt,interval = c(\"confidence\"), level = 0.95)"
      ],
      "id": "b106b0e8-f7a4-48a3-ab27-14688a02b544"
    },
    {
      "cell_type": "code",
      "execution_count": 171,
      "metadata": {},
      "outputs": [],
      "source": [
        "x0 <- c(1,2,2)"
      ],
      "id": "3b3167b8-9f61-463b-bd7c-bc74c36bb6e4"
    },
    {
      "cell_type": "code",
      "execution_count": 172,
      "metadata": {},
      "outputs": [],
      "source": [
        "mu0 <- x0 %*% b"
      ],
      "id": "806e4c83-3434-4fe1-9c77-111d91141df0"
    },
    {
      "cell_type": "code",
      "execution_count": 173,
      "metadata": {},
      "outputs": [
        {
          "output_type": "display_data",
          "metadata": {},
          "data": {}
        }
      ],
      "source": [
        "t(x0) %*% xx_i %*% x0"
      ],
      "id": "2412eeb6-473c-4078-9ee6-b2de5464628e"
    },
    {
      "cell_type": "code",
      "execution_count": 174,
      "metadata": {},
      "outputs": [
        {
          "output_type": "display_data",
          "metadata": {},
          "data": {}
        }
      ],
      "source": [
        "var_mu0 <- (t(x0) %*% xx_i %*% x0) * mse\n",
        "var_mu0"
      ],
      "id": "49ae5bd6-b612-49a9-82ec-a16f4e088a86"
    },
    {
      "cell_type": "code",
      "execution_count": 175,
      "metadata": {},
      "outputs": [
        {
          "output_type": "display_data",
          "metadata": {},
          "data": {}
        }
      ],
      "source": [
        "tse <- qt(0.975,3) * sqrt(var_mu0)\n",
        "tse"
      ],
      "id": "5144d7ca-68b3-4594-b6ae-3692d5a2acbc"
    },
    {
      "cell_type": "code",
      "execution_count": 176,
      "metadata": {},
      "outputs": [
        {
          "output_type": "display_data",
          "metadata": {},
          "data": {}
        }
      ],
      "source": [
        "mu0 - (tse)"
      ],
      "id": "0b3d1cf5-1724-4732-98b0-7e97b8072494"
    },
    {
      "cell_type": "code",
      "execution_count": 177,
      "metadata": {},
      "outputs": [
        {
          "output_type": "display_data",
          "metadata": {},
          "data": {}
        }
      ],
      "source": [
        "mu0 + (tse)"
      ],
      "id": "4cb9b183-12da-4d1f-a9c9-c68b5dedc535"
    },
    {
      "cell_type": "markdown",
      "metadata": {},
      "source": [
        "## (4)\n",
        "\n",
        "$\\beta_1$의 90% 신뢰구간을 구하시오."
      ],
      "id": "9bb69eb5-3fa9-400b-9037-044bf0cd7a56"
    },
    {
      "cell_type": "code",
      "execution_count": 178,
      "metadata": {},
      "outputs": [
        {
          "output_type": "display_data",
          "metadata": {},
          "data": {
            "text/plain": [
              "\n",
              "Call:\n",
              "lm(formula = y ~ ., data = dt)\n",
              "\n",
              "Residuals:\n",
              "      1       2       3       4       5       6 \n",
              "-1.1395  1.3488  0.4651 -1.1628  1.4419 -0.9535 \n",
              "\n",
              "Coefficients:\n",
              "            Estimate Std. Error t value Pr(>|t|)  \n",
              "(Intercept)   3.2326     1.9740   1.638   0.2000  \n",
              "x1            1.5116     0.7713   1.960   0.1449  \n",
              "x2           -2.6047     0.9288  -2.804   0.0676 .\n",
              "---\n",
              "Signif. codes:  0 ‘***’ 0.001 ‘**’ 0.01 ‘*’ 0.05 ‘.’ 0.1 ‘ ’ 1\n",
              "\n",
              "Residual standard error: 1.599 on 3 degrees of freedom\n",
              "Multiple R-squared:  0.7511,    Adjusted R-squared:  0.5852 \n",
              "F-statistic: 4.527 on 2 and 3 DF,  p-value: 0.1242"
            ]
          }
        }
      ],
      "source": [
        "summary(m)"
      ],
      "id": "8f4ba8ef-3e29-441a-a19f-7b6b7dd800dc"
    },
    {
      "cell_type": "code",
      "execution_count": 179,
      "metadata": {},
      "outputs": [
        {
          "output_type": "display_data",
          "metadata": {},
          "data": {}
        }
      ],
      "source": [
        "confint(m, level = 0.9)"
      ],
      "id": "9cf865a0-9cc0-4f00-b3e0-d39d5f8613c1"
    },
    {
      "cell_type": "code",
      "execution_count": 180,
      "metadata": {},
      "outputs": [
        {
          "output_type": "display_data",
          "metadata": {},
          "data": {}
        }
      ],
      "source": [
        "se_b1 <- sqrt(xx_i[2,2] * mse)\n",
        "se_b1"
      ],
      "id": "3fb665d4-7587-4e30-990e-1c1d992ab181"
    },
    {
      "cell_type": "code",
      "execution_count": 181,
      "metadata": {},
      "outputs": [
        {
          "output_type": "display_data",
          "metadata": {},
          "data": {}
        }
      ],
      "source": [
        "tse <- qt(0.95,3) *se_b1\n",
        "tse"
      ],
      "id": "e747003a-347b-4995-84b5-c6f4a278bdd9"
    },
    {
      "cell_type": "code",
      "execution_count": 182,
      "metadata": {},
      "outputs": [
        {
          "output_type": "display_data",
          "metadata": {},
          "data": {}
        }
      ],
      "source": [
        "b[2] - tse"
      ],
      "id": "04a4aabb-4fc0-48cb-9d73-bb24374465e7"
    },
    {
      "cell_type": "code",
      "execution_count": 183,
      "metadata": {},
      "outputs": [
        {
          "output_type": "display_data",
          "metadata": {},
          "data": {}
        }
      ],
      "source": [
        "b[2] + tse"
      ],
      "id": "d2db2a9c-d376-4311-b000-2b3eb7790b6d"
    },
    {
      "cell_type": "markdown",
      "metadata": {},
      "source": [
        "## (5)\n",
        "\n",
        "가설 $H_0: \\beta_1 = \\beta_2, H_1: \\beta_1 \\neq \\beta_2$을 유의수준\n",
        "$\\alpha = 0.05$"
      ],
      "id": "c56f0da2-7869-439a-b2af-b39c9b289e13"
    },
    {
      "cell_type": "code",
      "execution_count": 184,
      "metadata": {},
      "outputs": [],
      "source": [
        "library(car)"
      ],
      "id": "d923dff4-2973-4181-9e54-e939135a5b85"
    },
    {
      "cell_type": "code",
      "execution_count": 185,
      "metadata": {},
      "outputs": [
        {
          "output_type": "display_data",
          "metadata": {},
          "data": {}
        }
      ],
      "source": [
        "linearHypothesis(m, c(0,1,-1), 0)"
      ],
      "id": "8e1b1052-ac6e-4f6b-a58a-2c7da80b9adb"
    },
    {
      "cell_type": "code",
      "execution_count": 186,
      "metadata": {},
      "outputs": [],
      "source": [
        "z <- matrix(c(1,1,1,1,1,1,x[,2]+x[,3]), ncol=2)"
      ],
      "id": "244ba338-8761-42ac-89e8-64a3ff64be4d"
    },
    {
      "cell_type": "code",
      "execution_count": 187,
      "metadata": {},
      "outputs": [
        {
          "output_type": "display_data",
          "metadata": {},
          "data": {}
        }
      ],
      "source": [
        "zz <- t(z) %*% z\n",
        "zz"
      ],
      "id": "8befa218-20e1-4222-b96d-ce8c763e1b0a"
    },
    {
      "cell_type": "code",
      "execution_count": 188,
      "metadata": {},
      "outputs": [
        {
          "output_type": "display_data",
          "metadata": {},
          "data": {}
        }
      ],
      "source": [
        "zz_i <- solve(zz)\n",
        "zz_i"
      ],
      "id": "3f44414e-f877-4330-8c6a-11b393be4e11"
    },
    {
      "cell_type": "code",
      "execution_count": 189,
      "metadata": {},
      "outputs": [
        {
          "output_type": "display_data",
          "metadata": {},
          "data": {}
        }
      ],
      "source": [
        "zy <- t(z) %*% y\n",
        "zy"
      ],
      "id": "af3aed9c-d3ab-4822-943c-1f7f1b792f37"
    },
    {
      "cell_type": "code",
      "execution_count": 190,
      "metadata": {},
      "outputs": [
        {
          "output_type": "display_data",
          "metadata": {},
          "data": {}
        }
      ],
      "source": [
        "yy <- t(y) %*% y\n",
        "yy"
      ],
      "id": "57dd103d-a636-4ce9-96eb-3b780e076764"
    },
    {
      "cell_type": "code",
      "execution_count": 191,
      "metadata": {},
      "outputs": [
        {
          "output_type": "display_data",
          "metadata": {},
          "data": {}
        }
      ],
      "source": [
        "z %*% zz_i %*% t(z)"
      ],
      "id": "bf73dfa4-fcbd-4ee0-9959-9c492bb43313"
    },
    {
      "cell_type": "code",
      "execution_count": 192,
      "metadata": {},
      "outputs": [
        {
          "output_type": "display_data",
          "metadata": {},
          "data": {}
        }
      ],
      "source": [
        "gammahat <- zz_i %*% t(z) %*% y\n",
        "gammahat"
      ],
      "id": "01713285-7235-4df2-8340-cf15124ced1b"
    },
    {
      "cell_type": "code",
      "execution_count": 193,
      "metadata": {},
      "outputs": [
        {
          "output_type": "display_data",
          "metadata": {},
          "data": {}
        }
      ],
      "source": [
        "e <- y - z %*% gammahat\n",
        "e"
      ],
      "id": "b618e4fe-5dde-44e5-b86a-5aab5977ff3e"
    },
    {
      "cell_type": "code",
      "execution_count": 194,
      "metadata": {},
      "outputs": [
        {
          "output_type": "display_data",
          "metadata": {},
          "data": {}
        }
      ],
      "source": [
        "sse_rm <- t(e) %*% e\n",
        "sse_rm"
      ],
      "id": "91933d32-a612-4718-998a-52d68d7a8539"
    },
    {
      "cell_type": "code",
      "execution_count": 195,
      "metadata": {},
      "outputs": [
        {
          "output_type": "display_data",
          "metadata": {},
          "data": {}
        }
      ],
      "source": [
        "f0 = (sse_rm - sse)/(sse/3)\n",
        "f0"
      ],
      "id": "b77dc3b4-81c0-4cdb-81d2-1accd15a88bb"
    },
    {
      "cell_type": "code",
      "execution_count": 196,
      "metadata": {},
      "outputs": [
        {
          "output_type": "display_data",
          "metadata": {},
          "data": {
            "text/html": [
              "10.1279644860139"
            ]
          }
        }
      ],
      "source": [
        "qf(0.95,1,3)"
      ],
      "id": "708e73a2-2224-43c8-a83c-d979144e5904"
    },
    {
      "cell_type": "markdown",
      "metadata": {},
      "source": [
        "**T검정 방법**"
      ],
      "id": "cd18d51f-94a0-41f6-981b-282752cce732"
    },
    {
      "cell_type": "code",
      "execution_count": 197,
      "metadata": {},
      "outputs": [],
      "source": [
        "q = c(0,1,-1)"
      ],
      "id": "6a7f08e8-15ba-4e0c-9817-96310aaeac41"
    },
    {
      "cell_type": "code",
      "execution_count": 198,
      "metadata": {},
      "outputs": [
        {
          "output_type": "display_data",
          "metadata": {},
          "data": {}
        }
      ],
      "source": [
        "var_qb = t(q) %*% xx_i %*% q*  mse\n",
        "var_qb"
      ],
      "id": "5b0bd2b6-1e10-4114-937c-27780684ec4c"
    },
    {
      "cell_type": "code",
      "execution_count": 199,
      "metadata": {},
      "outputs": [
        {
          "output_type": "display_data",
          "metadata": {},
          "data": {}
        }
      ],
      "source": [
        "se_qb = sqrt(var_qb)\n",
        "se_qb"
      ],
      "id": "9e092de8-2e4e-4f7c-b10b-e139e4bedcd4"
    },
    {
      "cell_type": "code",
      "execution_count": 200,
      "metadata": {},
      "outputs": [
        {
          "output_type": "display_data",
          "metadata": {},
          "data": {}
        }
      ],
      "source": [
        "t0 = (t(q) %*% b )/se_qb\n",
        "t0"
      ],
      "id": "ae2937bd-f812-471c-b7fa-c80357b3963d"
    },
    {
      "cell_type": "code",
      "execution_count": 201,
      "metadata": {
        "tags": []
      },
      "outputs": [
        {
          "output_type": "display_data",
          "metadata": {},
          "data": {}
        }
      ],
      "source": [
        "t0^2"
      ],
      "id": "f9468e84-6427-46ff-a986-707bec02debf"
    },
    {
      "cell_type": "markdown",
      "metadata": {},
      "source": [
        "## (6)\n",
        "\n",
        "가설 $H_0 : \\beta_1 = 0, H_1 : \\beta_1 \\neq 0$을 유의수준\n",
        "$\\alpha = 0.1$로 검정하시오. 위 (3)의 질문의 결과와 어떠한 연관을 지을\n",
        "수 있는가?"
      ],
      "id": "aadf81aa-7caa-47d9-9e51-166b3c0fb174"
    },
    {
      "cell_type": "code",
      "execution_count": 202,
      "metadata": {},
      "outputs": [],
      "source": [
        "t0 <- b[2] / se_b1"
      ],
      "id": "1d30241c-72f3-4f5b-9330-a4f95b2cdaed"
    },
    {
      "cell_type": "code",
      "execution_count": 203,
      "metadata": {},
      "outputs": [
        {
          "output_type": "display_data",
          "metadata": {},
          "data": {
            "text/html": [
              "2.35336343480182"
            ]
          }
        }
      ],
      "source": [
        "qt(0.95,3)"
      ],
      "id": "5a9a1f0b-284a-44ec-9415-f7c99a86c848"
    },
    {
      "cell_type": "markdown",
      "metadata": {},
      "source": [
        "## (7)\n",
        "\n",
        "$x_1 = 2, x_2 = 3$에서 가설 $H_0 : E(y) = 4,H_1 : E(y) \\neq 4$를\n",
        "$\\alpha = 0.05$로 검정하시오"
      ],
      "id": "4a581b68-276d-416b-827e-0b7e07550ad7"
    },
    {
      "cell_type": "code",
      "execution_count": 204,
      "metadata": {},
      "outputs": [],
      "source": [
        "new_dt <- data.frame(x1=2, x2=2)"
      ],
      "id": "7476d9ae-1c59-4842-8917-576ea292aabe"
    },
    {
      "cell_type": "code",
      "execution_count": 205,
      "metadata": {},
      "outputs": [
        {
          "output_type": "display_data",
          "metadata": {},
          "data": {}
        }
      ],
      "source": [
        "predict(m, newdata = new_dt,interval = c(\"confidence\"), level = 0.95)"
      ],
      "id": "700fe857-4137-4e91-b473-ca5ca6282bad"
    },
    {
      "cell_type": "code",
      "execution_count": 206,
      "metadata": {},
      "outputs": [],
      "source": [
        "x0 <- c(1,2,3)"
      ],
      "id": "826bec66-7c5e-4180-adf6-df8d90571f54"
    },
    {
      "cell_type": "code",
      "execution_count": 207,
      "metadata": {},
      "outputs": [],
      "source": [
        "mu0 <- x0 %*% b"
      ],
      "id": "523cf101-c2ac-43f7-96c9-ed3e8c39b70e"
    },
    {
      "cell_type": "code",
      "execution_count": 208,
      "metadata": {},
      "outputs": [
        {
          "output_type": "display_data",
          "metadata": {},
          "data": {}
        }
      ],
      "source": [
        "t(x0) %*% xx_i %*% x0"
      ],
      "id": "323c3bbf-1666-47ae-97fe-c981de0e5a06"
    },
    {
      "cell_type": "code",
      "execution_count": 209,
      "metadata": {},
      "outputs": [
        {
          "output_type": "display_data",
          "metadata": {},
          "data": {}
        }
      ],
      "source": [
        "var_mu0 <- (t(x0) %*% xx_i %*% x0) * mse\n",
        "var_mu0"
      ],
      "id": "872a159b-576f-4df5-a227-58929827dfec"
    },
    {
      "cell_type": "code",
      "execution_count": 210,
      "metadata": {},
      "outputs": [
        {
          "output_type": "display_data",
          "metadata": {},
          "data": {}
        }
      ],
      "source": [
        "t0 <- (mu0-4)/ sqrt(var_mu0)\n",
        "t0"
      ],
      "id": "4c524dce-76d0-47ba-9d6b-e7da446e0690"
    },
    {
      "cell_type": "code",
      "execution_count": 211,
      "metadata": {},
      "outputs": [
        {
          "output_type": "display_data",
          "metadata": {},
          "data": {
            "text/html": [
              "3.18244630528371"
            ]
          }
        }
      ],
      "source": [
        "qt(0.975,3)"
      ],
      "id": "c984ff0a-e8ba-44e1-ae65-89fbcacab9ff"
    },
    {
      "cell_type": "markdown",
      "metadata": {},
      "source": [
        "## (8)\n",
        "\n",
        "가설 $H_0 : \\beta_2 = 0, H_1: \\beta_2 <0$을 $\\alpha = 0.05$ 로\n",
        "검정하시오."
      ],
      "id": "6709726c-a9a5-4f12-88b2-88c18413df5a"
    },
    {
      "cell_type": "code",
      "execution_count": 212,
      "metadata": {},
      "outputs": [
        {
          "output_type": "display_data",
          "metadata": {},
          "data": {}
        }
      ],
      "source": [
        "se_b2 <- sqrt(xx_i[3,3] * mse)\n",
        "se_b2"
      ],
      "id": "5c99af3d-8e20-4747-9d0e-e4265f537375"
    },
    {
      "cell_type": "code",
      "execution_count": 213,
      "metadata": {},
      "outputs": [
        {
          "output_type": "display_data",
          "metadata": {},
          "data": {}
        }
      ],
      "source": [
        "t0<- b[3] / se_b2\n",
        "t0"
      ],
      "id": "954a31c8-e747-4d5f-9a6b-cea2c78a70ce"
    },
    {
      "cell_type": "markdown",
      "metadata": {},
      "source": [
        "## (9)\n",
        "\n",
        "가설 \\$H_0: \\_1 = 2\\_2, H_1 : \\_1 \\_2 \\$를 $\\alpha=0..05$로 검정하시오."
      ],
      "id": "2669f2cb-c104-4655-a566-5b8aeb389969"
    },
    {
      "cell_type": "code",
      "execution_count": 214,
      "metadata": {},
      "outputs": [
        {
          "output_type": "display_data",
          "metadata": {},
          "data": {}
        }
      ],
      "source": [
        "linearHypothesis(m, c(0,1,-2), 0)"
      ],
      "id": "c4d4cbcd-32f9-4a0e-ab24-fed9013ead11"
    },
    {
      "cell_type": "code",
      "execution_count": 215,
      "metadata": {},
      "outputs": [],
      "source": [
        "z <- matrix(c(1,1,1,1,1,1,2*x[,2]+x[,3]), ncol=2)"
      ],
      "id": "8b092b19-2d43-44ba-8074-63d66df6f59d"
    },
    {
      "cell_type": "code",
      "execution_count": 216,
      "metadata": {},
      "outputs": [
        {
          "output_type": "display_data",
          "metadata": {},
          "data": {}
        }
      ],
      "source": [
        "zz <- t(z) %*% z\n",
        "zz"
      ],
      "id": "f74b76c8-613f-4ae0-b8d4-97187294d85d"
    },
    {
      "cell_type": "code",
      "execution_count": 217,
      "metadata": {},
      "outputs": [
        {
          "output_type": "display_data",
          "metadata": {},
          "data": {}
        }
      ],
      "source": [
        "zz_i <- solve(zz)\n",
        "zz_i"
      ],
      "id": "800b5ffb-2d99-48b0-94be-b83e2d59a972"
    },
    {
      "cell_type": "code",
      "execution_count": 218,
      "metadata": {},
      "outputs": [
        {
          "output_type": "display_data",
          "metadata": {},
          "data": {}
        }
      ],
      "source": [
        "zy <- t(z) %*% y\n",
        "zy"
      ],
      "id": "2e8378d7-ae0b-4a7b-b09d-a803b594ba77"
    },
    {
      "cell_type": "code",
      "execution_count": 219,
      "metadata": {},
      "outputs": [
        {
          "output_type": "display_data",
          "metadata": {},
          "data": {}
        }
      ],
      "source": [
        "yy <- t(y) %*% y\n",
        "yy"
      ],
      "id": "cb373417-836f-4d6d-8065-cd517844f8fe"
    },
    {
      "cell_type": "code",
      "execution_count": 220,
      "metadata": {},
      "outputs": [
        {
          "output_type": "display_data",
          "metadata": {},
          "data": {}
        }
      ],
      "source": [
        "z %*% zz_i %*% t(z)"
      ],
      "id": "14f52d7f-9363-4782-984f-cc8aad95bb6e"
    },
    {
      "cell_type": "code",
      "execution_count": 221,
      "metadata": {},
      "outputs": [
        {
          "output_type": "display_data",
          "metadata": {},
          "data": {}
        }
      ],
      "source": [
        "gammahat <- zz_i %*% t(z) %*% y\n",
        "gammahat"
      ],
      "id": "2b0acdb2-3ec7-4c4e-bda1-1cd297440f43"
    },
    {
      "cell_type": "code",
      "execution_count": 222,
      "metadata": {},
      "outputs": [
        {
          "output_type": "display_data",
          "metadata": {},
          "data": {}
        }
      ],
      "source": [
        "e <- y - z %*% gammahat\n",
        "e"
      ],
      "id": "6c3f51cc-d4ca-44b7-ac41-3f84752cc21a"
    },
    {
      "cell_type": "code",
      "execution_count": 223,
      "metadata": {},
      "outputs": [
        {
          "output_type": "display_data",
          "metadata": {},
          "data": {}
        }
      ],
      "source": [
        "sse_rm <- t(e) %*% e\n",
        "sse_rm"
      ],
      "id": "e1ff37c1-68eb-4e7e-8084-e43f20c664fd"
    },
    {
      "cell_type": "code",
      "execution_count": 224,
      "metadata": {},
      "outputs": [
        {
          "output_type": "display_data",
          "metadata": {},
          "data": {}
        }
      ],
      "source": [
        "f0 = (sse_rm - sse)/(sse/3)\n",
        "f0"
      ],
      "id": "5fc23b49-8bb2-4627-a81d-8fc66028784f"
    },
    {
      "cell_type": "code",
      "execution_count": 225,
      "metadata": {},
      "outputs": [
        {
          "output_type": "display_data",
          "metadata": {},
          "data": {
            "text/html": [
              "10.1279644860139"
            ]
          }
        }
      ],
      "source": [
        "qf(0.95,1,3)"
      ],
      "id": "9cca1f76-8a52-4c2a-9ba0-c8176f201e34"
    }
  ],
  "nbformat": 4,
  "nbformat_minor": 5,
  "metadata": {
    "kernelspec": {
      "name": "ir",
      "display_name": "R",
      "language": "R"
    },
    "language_info": {
      "name": "R",
      "codemirror_mode": "r",
      "file_extension": ".r",
      "mimetype": "text/x-r-source",
      "pygments_lexer": "r",
      "version": "4.1.2"
    }
  }
}