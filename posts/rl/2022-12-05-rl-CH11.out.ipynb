{
  "cells": [
    {
      "cell_type": "markdown",
      "metadata": {},
      "source": [
        "# 고급회귀분석 실습 CH11\n",
        "\n",
        "SEOYEON CHOI  \n",
        "2022-12-05\n",
        "\n",
        "chapter 11 변수선택\n",
        "\n",
        "# 변수선택"
      ],
      "id": "930aaf81-ebea-4f99-8f6a-e5c42242a219"
    },
    {
      "cell_type": "code",
      "execution_count": 1,
      "metadata": {},
      "outputs": [],
      "source": [
        "dt <- data.frame(\n",
        "  \n",
        "  x1 = c(7,1,11,11,7,11,3,1,2,21,1,11,10),\n",
        "  x2 = c(26,29,56,31,52,55,71,31,54,47,40,66,68),\n",
        "  x3 = c(6,15,8,8,6,9,17,22,18,4,23,9,8),\n",
        "  x4 = c(60,52,20,47,33,22,6,44,22,26,34,12,12),\n",
        "  y  = c(78.5,74.3,104.3,87.6,95.9,109.2,102.7,72.5,93.1,115.9,83.8,113.3,109.4)\n",
        ")"
      ],
      "id": "7eb477b2-0e3a-436d-a3b6-257f56877067"
    },
    {
      "cell_type": "markdown",
      "metadata": {},
      "source": [
        "산점도"
      ],
      "id": "741a7c33-dfcc-4fa0-a6f8-6441a5914469"
    },
    {
      "cell_type": "code",
      "execution_count": 2,
      "metadata": {},
      "outputs": [
        {
          "output_type": "display_data",
          "metadata": {},
          "data": {
            "image/png": "[encoded data removed]"
          }
        }
      ],
      "source": [
        "pairs(dt, pch=16)"
      ],
      "id": "e2959a2c-5472-4057-87ae-eaea230ab762"
    },
    {
      "cell_type": "markdown",
      "metadata": {},
      "source": [
        "x2/x4 음의 상관관계 보임 등 확인\n",
        "\n",
        "상관게수"
      ],
      "id": "a6ce27b4-4b16-4c31-b76e-dbcaf3de371c"
    },
    {
      "cell_type": "code",
      "execution_count": 3,
      "metadata": {},
      "outputs": [
        {
          "output_type": "display_data",
          "metadata": {},
          "data": {}
        }
      ],
      "source": [
        "cor(dt)"
      ],
      "id": "268c1a07-c058-4ee3-b3f5-5d89871e0011"
    },
    {
      "cell_type": "markdown",
      "metadata": {},
      "source": [
        "x1/x3 cor 크고\n",
        "\n",
        "y와의 상관계수 중 x4가 가장 큼\n",
        "\n",
        "Full model"
      ],
      "id": "3ad117be-2638-4e85-8530-8bb7f5a6764b"
    },
    {
      "cell_type": "code",
      "execution_count": 4,
      "metadata": {},
      "outputs": [],
      "source": [
        "m <- lm(y~., dt)  ##FM"
      ],
      "id": "7e61d023-a34c-46d7-89bd-41627cead0fe"
    },
    {
      "cell_type": "code",
      "execution_count": 5,
      "metadata": {},
      "outputs": [
        {
          "output_type": "display_data",
          "metadata": {},
          "data": {
            "text/plain": [
              "\n",
              "Call:\n",
              "lm(formula = y ~ ., data = dt)\n",
              "\n",
              "Residuals:\n",
              "    Min      1Q  Median      3Q     Max \n",
              "-3.1750 -1.6709  0.2508  1.3783  3.9254 \n",
              "\n",
              "Coefficients:\n",
              "            Estimate Std. Error t value Pr(>|t|)  \n",
              "(Intercept)  62.4054    70.0710   0.891   0.3991  \n",
              "x1            1.5511     0.7448   2.083   0.0708 .\n",
              "x2            0.5102     0.7238   0.705   0.5009  \n",
              "x3            0.1019     0.7547   0.135   0.8959  \n",
              "x4           -0.1441     0.7091  -0.203   0.8441  \n",
              "---\n",
              "Signif. codes:  0 ‘***’ 0.001 ‘**’ 0.01 ‘*’ 0.05 ‘.’ 0.1 ‘ ’ 1\n",
              "\n",
              "Residual standard error: 2.446 on 8 degrees of freedom\n",
              "Multiple R-squared:  0.9824,    Adjusted R-squared:  0.9736 \n",
              "F-statistic: 111.5 on 4 and 8 DF,  p-value: 4.756e-07"
            ]
          }
        }
      ],
      "source": [
        "summary(m)"
      ],
      "id": "a0061c92-a501-41a5-9a8c-35bd19146007"
    },
    {
      "cell_type": "markdown",
      "metadata": {},
      "source": [
        "x1만 유의함, 나머지는 유의하지 않음\n",
        "\n",
        "모형이 복잡해지면 분산이 커져서 유의미하지 않다는 결과 나올 수도\n",
        "\n",
        "아니면 선형변수간 상관관계가 높을때 (모형은 유의하지만 변수가 유의하지\n",
        "않음-\\> 다중공선성 존재, 변수선택과정 필요\n",
        "\n",
        "t value squre = F value -\\> 가장 작은 거 찾았더니 x3, x3이 가장 유의하지\n",
        "않음 -\\> 제거"
      ],
      "id": "c47fb61b-59de-4b10-8ebd-0da1ef0597c4"
    },
    {
      "cell_type": "code",
      "execution_count": 6,
      "metadata": {},
      "outputs": [
        {
          "output_type": "display_data",
          "metadata": {},
          "data": {}
        }
      ],
      "source": [
        "anova(m)"
      ],
      "id": "7b9c6c5d-dae4-46f2-bcdd-d2bb8b520985"
    },
    {
      "cell_type": "markdown",
      "metadata": {},
      "source": [
        "### 후진제거법"
      ],
      "id": "94970248-b828-4cca-b6e8-2809ae22196c"
    },
    {
      "cell_type": "code",
      "execution_count": 7,
      "metadata": {},
      "outputs": [
        {
          "output_type": "display_data",
          "metadata": {},
          "data": {
            "text/plain": [
              "\n",
              "Call:\n",
              "lm(formula = y ~ ., data = dt)\n",
              "\n",
              "Residuals:\n",
              "    Min      1Q  Median      3Q     Max \n",
              "-3.1750 -1.6709  0.2508  1.3783  3.9254 \n",
              "\n",
              "Coefficients:\n",
              "            Estimate Std. Error t value Pr(>|t|)  \n",
              "(Intercept)  62.4054    70.0710   0.891   0.3991  \n",
              "x1            1.5511     0.7448   2.083   0.0708 .\n",
              "x2            0.5102     0.7238   0.705   0.5009  \n",
              "x3            0.1019     0.7547   0.135   0.8959  \n",
              "x4           -0.1441     0.7091  -0.203   0.8441  \n",
              "---\n",
              "Signif. codes:  0 ‘***’ 0.001 ‘**’ 0.01 ‘*’ 0.05 ‘.’ 0.1 ‘ ’ 1\n",
              "\n",
              "Residual standard error: 2.446 on 8 degrees of freedom\n",
              "Multiple R-squared:  0.9824,    Adjusted R-squared:  0.9736 \n",
              "F-statistic: 111.5 on 4 and 8 DF,  p-value: 4.756e-07"
            ]
          }
        }
      ],
      "source": [
        "summary(m) #x3 제거"
      ],
      "id": "a789179b-eb29-4215-8d39-737790a3985f"
    },
    {
      "cell_type": "code",
      "execution_count": 56,
      "metadata": {},
      "outputs": [
        {
          "output_type": "display_data",
          "metadata": {},
          "data": {
            "text/html": [
              "4.338889"
            ]
          }
        }
      ],
      "source": [
        "2.083^2"
      ],
      "id": "7f67ca88-0fb1-4d82-9a51-7a8bfeb3e3a1"
    },
    {
      "cell_type": "code",
      "execution_count": 8,
      "metadata": {},
      "outputs": [
        {
          "output_type": "display_data",
          "metadata": {},
          "data": {}
        }
      ],
      "source": [
        "drop1(m, test = \"F\")"
      ],
      "id": "19fd6332-ed24-4674-96be-153e187455fb"
    },
    {
      "cell_type": "markdown",
      "metadata": {},
      "source": [
        "각 값은 해당 변수가 없을떄의 결과임\n",
        "\n",
        "RSS는 SSE임 - 47.86364 모두 포함할 떄의 SSE, - 각 줄은 해당 변수가 없을\n",
        "때의 SSE값임(차이가 클수록 의미있는 변수) - 25.9509114+\n",
        "47.86364=73.81455\n",
        "\n",
        "AIC\n",
        "\n",
        "F value 부분 f 검정의 f 값"
      ],
      "id": "401bb0fa-2585-4620-a211-9ae1105967a0"
    },
    {
      "cell_type": "code",
      "execution_count": 9,
      "metadata": {},
      "outputs": [],
      "source": [
        "m1 <- update(m, ~ . -x3)"
      ],
      "id": "d3d312e3-7340-4fd1-be1e-e270681ae962"
    },
    {
      "cell_type": "code",
      "execution_count": 10,
      "metadata": {},
      "outputs": [
        {
          "output_type": "display_data",
          "metadata": {},
          "data": {
            "text/plain": [
              "\n",
              "Call:\n",
              "lm(formula = y ~ x1 + x2 + x4, data = dt)\n",
              "\n",
              "Residuals:\n",
              "    Min      1Q  Median      3Q     Max \n",
              "-3.0919 -1.8016  0.2562  1.2818  3.8982 \n",
              "\n",
              "Coefficients:\n",
              "            Estimate Std. Error t value Pr(>|t|)    \n",
              "(Intercept)  71.6483    14.1424   5.066 0.000675 ***\n",
              "x1            1.4519     0.1170  12.410 5.78e-07 ***\n",
              "x2            0.4161     0.1856   2.242 0.051687 .  \n",
              "x4           -0.2365     0.1733  -1.365 0.205395    \n",
              "---\n",
              "Signif. codes:  0 ‘***’ 0.001 ‘**’ 0.01 ‘*’ 0.05 ‘.’ 0.1 ‘ ’ 1\n",
              "\n",
              "Residual standard error: 2.309 on 9 degrees of freedom\n",
              "Multiple R-squared:  0.9823,    Adjusted R-squared:  0.9764 \n",
              "F-statistic: 166.8 on 3 and 9 DF,  p-value: 3.323e-08"
            ]
          }
        }
      ],
      "source": [
        "summary(m1)  #x4 제거"
      ],
      "id": "063201b2-9ce1-47cf-be86-ab6e64b43219"
    },
    {
      "cell_type": "markdown",
      "metadata": {},
      "source": [
        "부분 F 검정, t value 가장 작은 것은 x4임\n",
        "\n",
        "alpha_B = 0.05라 놓고 p값중 이보다 크거나 작은 거 찾기"
      ],
      "id": "6c4f4a15-738c-4f46-bf5f-b5bdaadfa8df"
    },
    {
      "cell_type": "code",
      "execution_count": 11,
      "metadata": {},
      "outputs": [
        {
          "output_type": "display_data",
          "metadata": {},
          "data": {}
        }
      ],
      "source": [
        "drop1(m1, test = \"F\")"
      ],
      "id": "4452f15b-f1c2-4248-842b-0bfed075d4b6"
    },
    {
      "cell_type": "code",
      "execution_count": 12,
      "metadata": {},
      "outputs": [],
      "source": [
        "m2 <- update(m1, ~ . -x4)"
      ],
      "id": "326d1ff1-e180-4f24-b166-b32c1a60635d"
    },
    {
      "cell_type": "code",
      "execution_count": 13,
      "metadata": {},
      "outputs": [
        {
          "output_type": "display_data",
          "metadata": {},
          "data": {
            "text/plain": [
              "\n",
              "Call:\n",
              "lm(formula = y ~ x1 + x2, data = dt)\n",
              "\n",
              "Residuals:\n",
              "   Min     1Q Median     3Q    Max \n",
              "-2.893 -1.574 -1.302  1.363  4.048 \n",
              "\n",
              "Coefficients:\n",
              "            Estimate Std. Error t value Pr(>|t|)    \n",
              "(Intercept) 52.57735    2.28617   23.00 5.46e-10 ***\n",
              "x1           1.46831    0.12130   12.11 2.69e-07 ***\n",
              "x2           0.66225    0.04585   14.44 5.03e-08 ***\n",
              "---\n",
              "Signif. codes:  0 ‘***’ 0.001 ‘**’ 0.01 ‘*’ 0.05 ‘.’ 0.1 ‘ ’ 1\n",
              "\n",
              "Residual standard error: 2.406 on 10 degrees of freedom\n",
              "Multiple R-squared:  0.9787,    Adjusted R-squared:  0.9744 \n",
              "F-statistic: 229.5 on 2 and 10 DF,  p-value: 4.407e-09"
            ]
          }
        }
      ],
      "source": [
        "summary(m2)  #x4 제거"
      ],
      "id": "8863eb79-4b56-4aca-afd8-edc73f5faf44"
    },
    {
      "cell_type": "markdown",
      "metadata": {},
      "source": [
        "t value 보니 x1이 가장 작지만 유의확률 작음 제거 불가, 과정 멈추기"
      ],
      "id": "babc5659-9a82-4ff8-a748-fab8bfb314ab"
    },
    {
      "cell_type": "code",
      "execution_count": 14,
      "metadata": {},
      "outputs": [
        {
          "output_type": "display_data",
          "metadata": {},
          "data": {}
        }
      ],
      "source": [
        "drop1(m2, test = \"F\")"
      ],
      "id": "4800284e-5980-4ea2-a62b-1cf6fcfbb443"
    },
    {
      "cell_type": "code",
      "execution_count": 15,
      "metadata": {},
      "outputs": [],
      "source": [
        "##### 전진선택법 \n",
        "m0 = lm(y ~ 1, data = dt)"
      ],
      "id": "df150edb-abe1-47b0-ba11-6e811f7a6d35"
    },
    {
      "cell_type": "code",
      "execution_count": 16,
      "metadata": {},
      "outputs": [
        {
          "output_type": "display_data",
          "metadata": {},
          "data": {}
        }
      ],
      "source": [
        "add1(m0, \n",
        "     scope = y ~  x1 + x2 + x3+ x4,\n",
        "     test = \"F\")  ## x4추가"
      ],
      "id": "6c1be6ef-fe08-4c1d-8152-0a89c21c0e66"
    },
    {
      "cell_type": "markdown",
      "metadata": {},
      "source": [
        "절편만 있는 모형에서 시작\n",
        "\n",
        "RSS는 SST로 시작(설명 변수 없는 SSE니까) 사실 SSE\n",
        "\n",
        "x4의 f value가장 큼"
      ],
      "id": "e9f90d0e-f331-4176-bddf-de79ac97b219"
    },
    {
      "cell_type": "code",
      "execution_count": 17,
      "metadata": {},
      "outputs": [],
      "source": [
        "m1 <- update(m0, ~ . +x4)"
      ],
      "id": "1b2ef8cf-5249-4cc8-8b8a-2e28cd3d5b18"
    },
    {
      "cell_type": "code",
      "execution_count": 18,
      "metadata": {},
      "outputs": [
        {
          "output_type": "display_data",
          "metadata": {},
          "data": {
            "text/plain": [
              "\n",
              "Call:\n",
              "lm(formula = y ~ x4, data = dt)\n",
              "\n",
              "Residuals:\n",
              "    Min      1Q  Median      3Q     Max \n",
              "-12.589  -8.228   1.495   4.726  17.524 \n",
              "\n",
              "Coefficients:\n",
              "            Estimate Std. Error t value Pr(>|t|)    \n",
              "(Intercept) 117.5679     5.2622  22.342 1.62e-10 ***\n",
              "x4           -0.7382     0.1546  -4.775 0.000576 ***\n",
              "---\n",
              "Signif. codes:  0 ‘***’ 0.001 ‘**’ 0.01 ‘*’ 0.05 ‘.’ 0.1 ‘ ’ 1\n",
              "\n",
              "Residual standard error: 8.964 on 11 degrees of freedom\n",
              "Multiple R-squared:  0.6745,    Adjusted R-squared:  0.645 \n",
              "F-statistic:  22.8 on 1 and 11 DF,  p-value: 0.0005762"
            ]
          }
        }
      ],
      "source": [
        "summary(m1)"
      ],
      "id": "1ea0e7ef-46ab-489f-ae2f-b1679c0bf5eb"
    },
    {
      "cell_type": "code",
      "execution_count": 19,
      "metadata": {},
      "outputs": [
        {
          "output_type": "display_data",
          "metadata": {},
          "data": {}
        }
      ],
      "source": [
        "add1(m1, \n",
        "     scope = y ~  x1 + x2 + x3+ x4,\n",
        "     test = \"F\")  ## x1추가"
      ],
      "id": "be125f51-be24-4813-96ed-13d49241dbb1"
    },
    {
      "cell_type": "code",
      "execution_count": 20,
      "metadata": {},
      "outputs": [],
      "source": [
        "m2 <- update(m1, ~ . +x1)"
      ],
      "id": "0190c479-f3b1-4284-bdd6-798ee493bcce"
    },
    {
      "cell_type": "code",
      "execution_count": 21,
      "metadata": {},
      "outputs": [
        {
          "output_type": "display_data",
          "metadata": {},
          "data": {
            "text/plain": [
              "\n",
              "Call:\n",
              "lm(formula = y ~ x4 + x1, data = dt)\n",
              "\n",
              "Residuals:\n",
              "    Min      1Q  Median      3Q     Max \n",
              "-5.0234 -1.4737  0.1371  1.7305  3.7701 \n",
              "\n",
              "Coefficients:\n",
              "             Estimate Std. Error t value Pr(>|t|)    \n",
              "(Intercept) 103.09738    2.12398   48.54 3.32e-13 ***\n",
              "x4           -0.61395    0.04864  -12.62 1.81e-07 ***\n",
              "x1            1.43996    0.13842   10.40 1.11e-06 ***\n",
              "---\n",
              "Signif. codes:  0 ‘***’ 0.001 ‘**’ 0.01 ‘*’ 0.05 ‘.’ 0.1 ‘ ’ 1\n",
              "\n",
              "Residual standard error: 2.734 on 10 degrees of freedom\n",
              "Multiple R-squared:  0.9725,    Adjusted R-squared:  0.967 \n",
              "F-statistic: 176.6 on 2 and 10 DF,  p-value: 1.581e-08"
            ]
          }
        }
      ],
      "source": [
        "summary(m2)"
      ],
      "id": "4dc455d6-166e-4df3-b4ef-15bb4fbd5982"
    },
    {
      "cell_type": "code",
      "execution_count": 22,
      "metadata": {},
      "outputs": [
        {
          "output_type": "display_data",
          "metadata": {},
          "data": {}
        }
      ],
      "source": [
        "add1(m2, \n",
        "     scope = y ~  x1 + x2 + x3+ x4,\n",
        "     test = \"F\")  ## stop"
      ],
      "id": "8f2842b9-62c6-4acd-9cf7-9f5c94ae29e2"
    },
    {
      "cell_type": "markdown",
      "metadata": {},
      "source": [
        "모두 0.05보다 p값이 큼, 멈추자\n",
        "\n",
        "## 단계적선택법"
      ],
      "id": "04ba2ae8-8e65-4b28-b688-3d4317f6751f"
    },
    {
      "cell_type": "code",
      "execution_count": 23,
      "metadata": {},
      "outputs": [],
      "source": [
        "m0 = lm(y ~ 1, data = dt)"
      ],
      "id": "fc131d62-d7e7-45a6-b702-b40bdea7b8dc"
    },
    {
      "cell_type": "code",
      "execution_count": 24,
      "metadata": {},
      "outputs": [
        {
          "output_type": "display_data",
          "metadata": {},
          "data": {}
        }
      ],
      "source": [
        "add1(m0, \n",
        "     scope = y ~  x1 + x2 + x3+ x4,\n",
        "     test = \"F\")  ## x4추가"
      ],
      "id": "2cff8f96-5b28-4df0-ae83-ce336b12d038"
    },
    {
      "cell_type": "code",
      "execution_count": 25,
      "metadata": {},
      "outputs": [],
      "source": [
        "m1 <- update(m0, ~ . +x4)"
      ],
      "id": "6007c801-50a4-4edb-b203-731cea3f908e"
    },
    {
      "cell_type": "code",
      "execution_count": 26,
      "metadata": {},
      "outputs": [
        {
          "output_type": "display_data",
          "metadata": {},
          "data": {
            "text/plain": [
              "\n",
              "Call:\n",
              "lm(formula = y ~ x4, data = dt)\n",
              "\n",
              "Residuals:\n",
              "    Min      1Q  Median      3Q     Max \n",
              "-12.589  -8.228   1.495   4.726  17.524 \n",
              "\n",
              "Coefficients:\n",
              "            Estimate Std. Error t value Pr(>|t|)    \n",
              "(Intercept) 117.5679     5.2622  22.342 1.62e-10 ***\n",
              "x4           -0.7382     0.1546  -4.775 0.000576 ***\n",
              "---\n",
              "Signif. codes:  0 ‘***’ 0.001 ‘**’ 0.01 ‘*’ 0.05 ‘.’ 0.1 ‘ ’ 1\n",
              "\n",
              "Residual standard error: 8.964 on 11 degrees of freedom\n",
              "Multiple R-squared:  0.6745,    Adjusted R-squared:  0.645 \n",
              "F-statistic:  22.8 on 1 and 11 DF,  p-value: 0.0005762"
            ]
          }
        }
      ],
      "source": [
        "summary(m1)"
      ],
      "id": "b31e1cc1-2267-40a3-8bc7-3a1c69f39ae5"
    },
    {
      "cell_type": "code",
      "execution_count": 27,
      "metadata": {},
      "outputs": [
        {
          "output_type": "display_data",
          "metadata": {},
          "data": {}
        }
      ],
      "source": [
        "add1(m1, \n",
        "     scope = y ~  x1 + x2 + x3+ x4,\n",
        "     test = \"F\")  ## x1추가"
      ],
      "id": "c3845402-2630-44b7-9656-0b8db87f77b6"
    },
    {
      "cell_type": "code",
      "execution_count": 28,
      "metadata": {},
      "outputs": [],
      "source": [
        "m2 <- update(m1, ~ . +x1)"
      ],
      "id": "b1f52e16-6a48-4dd7-9d97-fc7549bb8600"
    },
    {
      "cell_type": "code",
      "execution_count": 29,
      "metadata": {},
      "outputs": [
        {
          "output_type": "display_data",
          "metadata": {},
          "data": {
            "text/plain": [
              "\n",
              "Call:\n",
              "lm(formula = y ~ x4 + x1, data = dt)\n",
              "\n",
              "Residuals:\n",
              "    Min      1Q  Median      3Q     Max \n",
              "-5.0234 -1.4737  0.1371  1.7305  3.7701 \n",
              "\n",
              "Coefficients:\n",
              "             Estimate Std. Error t value Pr(>|t|)    \n",
              "(Intercept) 103.09738    2.12398   48.54 3.32e-13 ***\n",
              "x4           -0.61395    0.04864  -12.62 1.81e-07 ***\n",
              "x1            1.43996    0.13842   10.40 1.11e-06 ***\n",
              "---\n",
              "Signif. codes:  0 ‘***’ 0.001 ‘**’ 0.01 ‘*’ 0.05 ‘.’ 0.1 ‘ ’ 1\n",
              "\n",
              "Residual standard error: 2.734 on 10 degrees of freedom\n",
              "Multiple R-squared:  0.9725,    Adjusted R-squared:  0.967 \n",
              "F-statistic: 176.6 on 2 and 10 DF,  p-value: 1.581e-08"
            ]
          }
        }
      ],
      "source": [
        "summary(m2)  #제거 없음"
      ],
      "id": "32abef03-100d-44cf-a8f6-9b2d0a8dbb28"
    },
    {
      "cell_type": "code",
      "execution_count": 30,
      "metadata": {},
      "outputs": [
        {
          "output_type": "display_data",
          "metadata": {},
          "data": {}
        }
      ],
      "source": [
        "add1(m2, \n",
        "     scope = y ~  x1 + x2 + x3+ x4,\n",
        "     test = \"F\")  ## x2추가"
      ],
      "id": "b0ed1c7d-ad2b-4592-83dc-52d1dbc09184"
    },
    {
      "cell_type": "code",
      "execution_count": 31,
      "metadata": {},
      "outputs": [],
      "source": [
        "m3 <- update(m2, ~ . +x2)"
      ],
      "id": "84b15965-848e-403d-b6c0-cec9d924b872"
    },
    {
      "cell_type": "code",
      "execution_count": 32,
      "metadata": {},
      "outputs": [
        {
          "output_type": "display_data",
          "metadata": {},
          "data": {
            "text/plain": [
              "\n",
              "Call:\n",
              "lm(formula = y ~ x4 + x1 + x2, data = dt)\n",
              "\n",
              "Residuals:\n",
              "    Min      1Q  Median      3Q     Max \n",
              "-3.0919 -1.8016  0.2562  1.2818  3.8982 \n",
              "\n",
              "Coefficients:\n",
              "            Estimate Std. Error t value Pr(>|t|)    \n",
              "(Intercept)  71.6483    14.1424   5.066 0.000675 ***\n",
              "x4           -0.2365     0.1733  -1.365 0.205395    \n",
              "x1            1.4519     0.1170  12.410 5.78e-07 ***\n",
              "x2            0.4161     0.1856   2.242 0.051687 .  \n",
              "---\n",
              "Signif. codes:  0 ‘***’ 0.001 ‘**’ 0.01 ‘*’ 0.05 ‘.’ 0.1 ‘ ’ 1\n",
              "\n",
              "Residual standard error: 2.309 on 9 degrees of freedom\n",
              "Multiple R-squared:  0.9823,    Adjusted R-squared:  0.9764 \n",
              "F-statistic: 166.8 on 3 and 9 DF,  p-value: 3.323e-08"
            ]
          }
        }
      ],
      "source": [
        "summary(m3)  #x4 제거"
      ],
      "id": "e2aecfb9-e2fc-43d5-bedd-533b655e1c56"
    },
    {
      "cell_type": "code",
      "execution_count": 33,
      "metadata": {},
      "outputs": [],
      "source": [
        "m4 <- update(m3, ~ . -x4)"
      ],
      "id": "1bc035e5-b353-43af-8acd-0205bd49684d"
    },
    {
      "cell_type": "code",
      "execution_count": 34,
      "metadata": {},
      "outputs": [
        {
          "output_type": "display_data",
          "metadata": {},
          "data": {}
        }
      ],
      "source": [
        "add1(m4, \n",
        "     scope = y ~  x1 + x2 + x3+ x4,\n",
        "     test = \"F\") #stop"
      ],
      "id": "42b35b9c-ec98-4242-99ca-56f04ed9399e"
    },
    {
      "cell_type": "code",
      "execution_count": 35,
      "metadata": {},
      "outputs": [],
      "source": [
        "#install.packages(\"leaps\")"
      ],
      "id": "805a696f-9d60-455f-b09d-281c49ea75cf"
    },
    {
      "cell_type": "code",
      "execution_count": 36,
      "metadata": {},
      "outputs": [],
      "source": [
        "library(leaps)"
      ],
      "id": "7b79044b-59a1-4a49-b605-eaf24e5f2492"
    },
    {
      "cell_type": "code",
      "execution_count": 37,
      "metadata": {},
      "outputs": [],
      "source": [
        "fit<-regsubsets(y~., data=dt, nbest=1,nvmax=4,\n",
        "                # method=c(\"exhaustive\",\"backward\", \n",
        "                #          \"forward\", \"seqrep\")\n",
        "                method='forward',\n",
        "                )"
      ],
      "id": "5fd5f1a5-6844-4589-8bd1-664f761ad97a"
    },
    {
      "cell_type": "markdown",
      "metadata": {},
      "source": [
        "full model, nbest = 1개만 추가 nvmax 최대 4개 포함 가능"
      ],
      "id": "a0d81685-b331-4142-9bd8-a1620602f824"
    },
    {
      "cell_type": "code",
      "execution_count": 38,
      "metadata": {},
      "outputs": [],
      "source": [
        "a <- summary(fit)"
      ],
      "id": "052f39ed-5666-4954-8d48-39dd0d43364f"
    },
    {
      "cell_type": "code",
      "execution_count": 39,
      "metadata": {},
      "outputs": [
        {
          "output_type": "stream",
          "name": "stdout",
          "text": [
            "List of 8\n",
            " $ which : logi [1:4, 1:5] TRUE TRUE TRUE TRUE FALSE TRUE ...\n",
            "  ..- attr(*, \"dimnames\")=List of 2\n",
            "  .. ..$ : chr [1:4] \"1\" \"2\" \"3\" \"4\"\n",
            "  .. ..$ : chr [1:5] \"(Intercept)\" \"x1\" \"x2\" \"x3\" ...\n",
            " $ rsq   : num [1:4] 0.675 0.972 0.982 0.982\n",
            " $ rss   : num [1:4] 883.9 74.8 48 47.9\n",
            " $ adjr2 : num [1:4] 0.645 0.967 0.976 0.974\n",
            " $ cp    : num [1:4] 138.73 5.5 3.02 5\n",
            " $ bic   : num [1:4] -9.46 -39.01 -42.21 -39.68\n",
            " $ outmat: chr [1:4, 1:4] \" \" \"*\" \"*\" \"*\" ...\n",
            "  ..- attr(*, \"dimnames\")=List of 2\n",
            "  .. ..$ : chr [1:4] \"1  ( 1 )\" \"2  ( 1 )\" \"3  ( 1 )\" \"4  ( 1 )\"\n",
            "  .. ..$ : chr [1:4] \"x1\" \"x2\" \"x3\" \"x4\"\n",
            " $ obj   :List of 28\n",
            "  ..$ np       : int 5\n",
            "  ..$ nrbar    : int 10\n",
            "  ..$ d        : num [1:5] 13 3362 390.2 154.7 10.5\n",
            "  ..$ rbar     : num [1:10] 30 7.4615 48.1538 11.7692 -0.0863 ...\n",
            "  ..$ thetab   : num [1:5] 95.423 -0.738 1.44 0.416 0.102\n",
            "  ..$ first    : int 2\n",
            "  ..$ last     : int 5\n",
            "  ..$ vorder   : int [1:5] 1 5 2 3 4\n",
            "  ..$ tol      : num [1:5] 1.80e-09 9.67e-08 2.36e-08 1.19e-07 3.72e-08\n",
            "  ..$ rss      : num [1:5] 2715.8 883.9 74.8 48 47.9\n",
            "  ..$ bound    : num [1:5] 2715.8 1265.7 57.9 48.1 47.9\n",
            "  ..$ nvmax    : int 5\n",
            "  ..$ ress     : num [1:5, 1] 2715.8 883.9 74.8 48 47.9\n",
            "  ..$ ir       : int 5\n",
            "  ..$ nbest    : num 1\n",
            "  ..$ lopt     : int [1:15, 1] 1 1 5 1 5 2 1 5 2 3 ...\n",
            "  ..$ il       : int 15\n",
            "  ..$ ier      : int 0\n",
            "  ..$ xnames   : chr [1:5] \"(Intercept)\" \"x1\" \"x2\" \"x3\" ...\n",
            "  ..$ method   : chr \"forward\"\n",
            "  ..$ force.in : Named logi [1:5] TRUE FALSE FALSE FALSE FALSE\n",
            "  .. ..- attr(*, \"names\")= chr [1:5] \"\" \"x1\" \"x2\" \"x3\" ...\n",
            "  ..$ force.out: Named logi [1:5] FALSE FALSE FALSE FALSE FALSE\n",
            "  .. ..- attr(*, \"names\")= chr [1:5] \"\" \"x1\" \"x2\" \"x3\" ...\n",
            "  ..$ sserr    : num 47.9\n",
            "  ..$ intercept: logi TRUE\n",
            "  ..$ lindep   : logi [1:5] FALSE FALSE FALSE FALSE FALSE\n",
            "  ..$ nullrss  : num 2716\n",
            "  ..$ nn       : int 13\n",
            "  ..$ call     : language regsubsets.formula(y ~ ., data = dt, nbest = 1, nvmax = 4, method = \"forward\",      )\n",
            "  ..- attr(*, \"class\")= chr \"regsubsets\"\n",
            " - attr(*, \"class\")= chr \"summary.regsubsets\""
          ]
        }
      ],
      "source": [
        "str(a)"
      ],
      "id": "cf7dcff1-960d-4d9e-b694-738089bcc1e2"
    },
    {
      "cell_type": "code",
      "execution_count": 40,
      "metadata": {},
      "outputs": [
        {
          "output_type": "display_data",
          "metadata": {},
          "data": {}
        }
      ],
      "source": [
        "with(summary(fit),\n",
        "     round(cbind(which,rss,rsq,adjr2, cp, bic),3))"
      ],
      "id": "01b29e52-56a1-46e2-9187-041ebac27a0d"
    },
    {
      "cell_type": "markdown",
      "metadata": {},
      "source": [
        "설명변수 하나 썼을때, 2개 썼을때,,, 선택되는 변수들\n",
        "\n",
        "설명변수2개.3개일때 Radj별로 차이 없어서 BIC 기준으로 2번째 꺼 선택\n",
        "\n",
        "cp \\<= p+1(각 줄의 cp가 2,3,4,5보다 커야 함) -\\> 2번째꺼 선택!\n",
        "\n",
        "step- r 기본 함수\n",
        "\n",
        "m은 꼭 full model로 적어주기"
      ],
      "id": "847c95cb-949b-4041-815e-6de2f49bce1f"
    },
    {
      "cell_type": "code",
      "execution_count": 41,
      "metadata": {},
      "outputs": [
        {
          "output_type": "stream",
          "name": "stdout",
          "text": [
            "Start:  AIC=26.94\n",
            "y ~ x1 + x2 + x3 + x4\n",
            "\n",
            "       Df Sum of Sq    RSS    AIC\n",
            "- x3    1    0.1091 47.973 24.974\n",
            "- x4    1    0.2470 48.111 25.011\n",
            "- x2    1    2.9725 50.836 25.728\n",
            "<none>              47.864 26.944\n",
            "- x1    1   25.9509 73.815 30.576\n",
            "\n",
            "Step:  AIC=24.97\n",
            "y ~ x1 + x2 + x4\n",
            "\n",
            "       Df Sum of Sq    RSS    AIC\n",
            "<none>               47.97 24.974\n",
            "- x4    1      9.93  57.90 25.420\n",
            "- x2    1     26.79  74.76 28.742\n",
            "- x1    1    820.91 868.88 60.629"
          ]
        }
      ],
      "source": [
        "###Backward - AIC\n",
        "model_back = step(m, direction = \"backward\")"
      ],
      "id": "69c24940-4d46-4db6-82d2-5c9cd59de978"
    },
    {
      "cell_type": "markdown",
      "metadata": {},
      "source": [
        "AIC 가장 작게하는 모형 기준으로 정렬되어 있음\n",
        "\n",
        "24.97 가장 작아 최종 모형 결정됌"
      ],
      "id": "99fcf490-6227-45d3-86e5-9ba035db176c"
    },
    {
      "cell_type": "code",
      "execution_count": 42,
      "metadata": {},
      "outputs": [
        {
          "output_type": "display_data",
          "metadata": {},
          "data": {
            "text/plain": [
              "\n",
              "Call:\n",
              "lm(formula = y ~ x1 + x2 + x4, data = dt)\n",
              "\n",
              "Residuals:\n",
              "    Min      1Q  Median      3Q     Max \n",
              "-3.0919 -1.8016  0.2562  1.2818  3.8982 \n",
              "\n",
              "Coefficients:\n",
              "            Estimate Std. Error t value Pr(>|t|)    \n",
              "(Intercept)  71.6483    14.1424   5.066 0.000675 ***\n",
              "x1            1.4519     0.1170  12.410 5.78e-07 ***\n",
              "x2            0.4161     0.1856   2.242 0.051687 .  \n",
              "x4           -0.2365     0.1733  -1.365 0.205395    \n",
              "---\n",
              "Signif. codes:  0 ‘***’ 0.001 ‘**’ 0.01 ‘*’ 0.05 ‘.’ 0.1 ‘ ’ 1\n",
              "\n",
              "Residual standard error: 2.309 on 9 degrees of freedom\n",
              "Multiple R-squared:  0.9823,    Adjusted R-squared:  0.9764 \n",
              "F-statistic: 166.8 on 3 and 9 DF,  p-value: 3.323e-08"
            ]
          }
        }
      ],
      "source": [
        "summary(model_back)"
      ],
      "id": "f0e1e2f5-cb68-458c-9cd9-5ab6fefb90a6"
    },
    {
      "cell_type": "code",
      "execution_count": 43,
      "metadata": {},
      "outputs": [
        {
          "output_type": "stream",
          "name": "stdout",
          "text": [
            "Start:  AIC=71.44\n",
            "y ~ 1\n",
            "\n",
            "       Df Sum of Sq     RSS    AIC\n",
            "+ x4    1   1831.90  883.87 58.852\n",
            "+ x2    1   1809.43  906.34 59.178\n",
            "+ x1    1   1450.08 1265.69 63.519\n",
            "+ x3    1    776.36 1939.40 69.067\n",
            "<none>              2715.76 71.444\n",
            "\n",
            "Step:  AIC=58.85\n",
            "y ~ x4\n",
            "\n",
            "       Df Sum of Sq    RSS    AIC\n",
            "+ x1    1    809.10  74.76 28.742\n",
            "+ x3    1    708.13 175.74 39.853\n",
            "<none>              883.87 58.852\n",
            "+ x2    1     14.99 868.88 60.629\n",
            "\n",
            "Step:  AIC=28.74\n",
            "y ~ x4 + x1\n",
            "\n",
            "       Df Sum of Sq    RSS    AIC\n",
            "+ x2    1    26.789 47.973 24.974\n",
            "+ x3    1    23.926 50.836 25.728\n",
            "<none>              74.762 28.742\n",
            "\n",
            "Step:  AIC=24.97\n",
            "y ~ x4 + x1 + x2\n",
            "\n",
            "       Df Sum of Sq    RSS    AIC\n",
            "<none>              47.973 24.974\n",
            "+ x3    1   0.10909 47.864 26.944"
          ]
        }
      ],
      "source": [
        "###Forward - AIC\n",
        "model_forward = step(\n",
        "  m0, \n",
        "  scope = y ~  x1 + x2 + x3+ x4, \n",
        "  direction = \"forward\")"
      ],
      "id": "3fb8e842-f90c-49fd-aff3-d4190d91363f"
    },
    {
      "cell_type": "markdown",
      "metadata": {},
      "source": [
        "정해진 식에서 설명변수만 추가하고"
      ],
      "id": "a5ad9948-0915-41ef-bd45-5f2233afee24"
    },
    {
      "cell_type": "code",
      "execution_count": 44,
      "metadata": {},
      "outputs": [
        {
          "output_type": "display_data",
          "metadata": {},
          "data": {
            "text/plain": [
              "\n",
              "Call:\n",
              "lm(formula = y ~ x4 + x1 + x2, data = dt)\n",
              "\n",
              "Residuals:\n",
              "    Min      1Q  Median      3Q     Max \n",
              "-3.0919 -1.8016  0.2562  1.2818  3.8982 \n",
              "\n",
              "Coefficients:\n",
              "            Estimate Std. Error t value Pr(>|t|)    \n",
              "(Intercept)  71.6483    14.1424   5.066 0.000675 ***\n",
              "x4           -0.2365     0.1733  -1.365 0.205395    \n",
              "x1            1.4519     0.1170  12.410 5.78e-07 ***\n",
              "x2            0.4161     0.1856   2.242 0.051687 .  \n",
              "---\n",
              "Signif. codes:  0 ‘***’ 0.001 ‘**’ 0.01 ‘*’ 0.05 ‘.’ 0.1 ‘ ’ 1\n",
              "\n",
              "Residual standard error: 2.309 on 9 degrees of freedom\n",
              "Multiple R-squared:  0.9823,    Adjusted R-squared:  0.9764 \n",
              "F-statistic: 166.8 on 3 and 9 DF,  p-value: 3.323e-08"
            ]
          }
        }
      ],
      "source": [
        "summary(model_forward)"
      ],
      "id": "abdb674a-693f-40b0-8d19-7929dba3f4e1"
    },
    {
      "cell_type": "code",
      "execution_count": 45,
      "metadata": {},
      "outputs": [
        {
          "output_type": "stream",
          "name": "stdout",
          "text": [
            "Start:  AIC=71.44\n",
            "y ~ 1\n",
            "\n",
            "       Df Sum of Sq     RSS    AIC\n",
            "+ x4    1   1831.90  883.87 58.852\n",
            "+ x2    1   1809.43  906.34 59.178\n",
            "+ x1    1   1450.08 1265.69 63.519\n",
            "+ x3    1    776.36 1939.40 69.067\n",
            "<none>              2715.76 71.444\n",
            "\n",
            "Step:  AIC=58.85\n",
            "y ~ x4\n",
            "\n",
            "       Df Sum of Sq     RSS    AIC\n",
            "+ x1    1    809.10   74.76 28.742\n",
            "+ x3    1    708.13  175.74 39.853\n",
            "<none>               883.87 58.852\n",
            "+ x2    1     14.99  868.88 60.629\n",
            "- x4    1   1831.90 2715.76 71.444\n",
            "\n",
            "Step:  AIC=28.74\n",
            "y ~ x4 + x1\n",
            "\n",
            "       Df Sum of Sq     RSS    AIC\n",
            "+ x2    1     26.79   47.97 24.974\n",
            "+ x3    1     23.93   50.84 25.728\n",
            "<none>                74.76 28.742\n",
            "- x1    1    809.10  883.87 58.852\n",
            "- x4    1   1190.92 1265.69 63.519\n",
            "\n",
            "Step:  AIC=24.97\n",
            "y ~ x4 + x1 + x2\n",
            "\n",
            "       Df Sum of Sq    RSS    AIC\n",
            "<none>               47.97 24.974\n",
            "- x4    1      9.93  57.90 25.420\n",
            "+ x3    1      0.11  47.86 26.944\n",
            "- x2    1     26.79  74.76 28.742\n",
            "- x1    1    820.91 868.88 60.629"
          ]
        }
      ],
      "source": [
        "###Step - AIC\n",
        "model_step = step(\n",
        "  m0, \n",
        "  scope =  y ~  x1 + x2 + x3+ x4, \n",
        "  direction = \"both\")"
      ],
      "id": "4a1e48d2-9f06-4187-aad2-31c587e30a33"
    },
    {
      "cell_type": "code",
      "execution_count": 46,
      "metadata": {},
      "outputs": [
        {
          "output_type": "display_data",
          "metadata": {},
          "data": {
            "text/plain": [
              "\n",
              "Call:\n",
              "lm(formula = y ~ x4 + x1 + x2, data = dt)\n",
              "\n",
              "Residuals:\n",
              "    Min      1Q  Median      3Q     Max \n",
              "-3.0919 -1.8016  0.2562  1.2818  3.8982 \n",
              "\n",
              "Coefficients:\n",
              "            Estimate Std. Error t value Pr(>|t|)    \n",
              "(Intercept)  71.6483    14.1424   5.066 0.000675 ***\n",
              "x4           -0.2365     0.1733  -1.365 0.205395    \n",
              "x1            1.4519     0.1170  12.410 5.78e-07 ***\n",
              "x2            0.4161     0.1856   2.242 0.051687 .  \n",
              "---\n",
              "Signif. codes:  0 ‘***’ 0.001 ‘**’ 0.01 ‘*’ 0.05 ‘.’ 0.1 ‘ ’ 1\n",
              "\n",
              "Residual standard error: 2.309 on 9 degrees of freedom\n",
              "Multiple R-squared:  0.9823,    Adjusted R-squared:  0.9764 \n",
              "F-statistic: 166.8 on 3 and 9 DF,  p-value: 3.323e-08"
            ]
          }
        }
      ],
      "source": [
        "summary(model_step)"
      ],
      "id": "8b52e02f-1101-4e2b-ac7d-2568f7bae115"
    },
    {
      "cell_type": "code",
      "execution_count": 47,
      "metadata": {},
      "outputs": [
        {
          "output_type": "stream",
          "name": "stdout",
          "text": [
            "'data.frame':   32 obs. of  11 variables:\n",
            " $ mpg : num  21 21 22.8 21.4 18.7 18.1 14.3 24.4 22.8 19.2 ...\n",
            " $ cyl : num  6 6 4 6 8 6 8 4 4 6 ...\n",
            " $ disp: num  160 160 108 258 360 ...\n",
            " $ hp  : num  110 110 93 110 175 105 245 62 95 123 ...\n",
            " $ drat: num  3.9 3.9 3.85 3.08 3.15 2.76 3.21 3.69 3.92 3.92 ...\n",
            " $ wt  : num  2.62 2.88 2.32 3.21 3.44 ...\n",
            " $ qsec: num  16.5 17 18.6 19.4 17 ...\n",
            " $ vs  : num  0 0 1 1 0 1 0 1 1 1 ...\n",
            " $ am  : num  1 1 1 0 0 0 0 0 0 0 ...\n",
            " $ gear: num  4 4 4 3 3 3 3 4 4 4 ...\n",
            " $ carb: num  4 4 1 1 2 1 4 2 2 4 ..."
          ]
        }
      ],
      "source": [
        "str(mtcars)"
      ],
      "id": "822b8e5e-9f8c-4688-bef3-9e8e31ab6ffd"
    },
    {
      "cell_type": "code",
      "execution_count": 48,
      "metadata": {},
      "outputs": [
        {
          "output_type": "display_data",
          "metadata": {},
          "data": {}
        }
      ],
      "source": [
        "round(cor(mtcars),2)"
      ],
      "id": "fdbd55a7-5801-483e-86c7-2a5b12f14fa7"
    },
    {
      "cell_type": "code",
      "execution_count": 49,
      "metadata": {},
      "outputs": [],
      "source": [
        "m_full <- lm(mpg~., mtcars)"
      ],
      "id": "fb0ec6d4-f7d5-4887-9a57-44cf4cb711f8"
    },
    {
      "cell_type": "code",
      "execution_count": 50,
      "metadata": {},
      "outputs": [
        {
          "output_type": "display_data",
          "metadata": {},
          "data": {
            "text/plain": [
              "\n",
              "Call:\n",
              "lm(formula = mpg ~ ., data = mtcars)\n",
              "\n",
              "Residuals:\n",
              "    Min      1Q  Median      3Q     Max \n",
              "-3.4506 -1.6044 -0.1196  1.2193  4.6271 \n",
              "\n",
              "Coefficients:\n",
              "            Estimate Std. Error t value Pr(>|t|)  \n",
              "(Intercept) 12.30337   18.71788   0.657   0.5181  \n",
              "cyl         -0.11144    1.04502  -0.107   0.9161  \n",
              "disp         0.01334    0.01786   0.747   0.4635  \n",
              "hp          -0.02148    0.02177  -0.987   0.3350  \n",
              "drat         0.78711    1.63537   0.481   0.6353  \n",
              "wt          -3.71530    1.89441  -1.961   0.0633 .\n",
              "qsec         0.82104    0.73084   1.123   0.2739  \n",
              "vs           0.31776    2.10451   0.151   0.8814  \n",
              "am           2.52023    2.05665   1.225   0.2340  \n",
              "gear         0.65541    1.49326   0.439   0.6652  \n",
              "carb        -0.19942    0.82875  -0.241   0.8122  \n",
              "---\n",
              "Signif. codes:  0 ‘***’ 0.001 ‘**’ 0.01 ‘*’ 0.05 ‘.’ 0.1 ‘ ’ 1\n",
              "\n",
              "Residual standard error: 2.65 on 21 degrees of freedom\n",
              "Multiple R-squared:  0.869, Adjusted R-squared:  0.8066 \n",
              "F-statistic: 13.93 on 10 and 21 DF,  p-value: 3.793e-07"
            ]
          }
        }
      ],
      "source": [
        "summary(m_full)"
      ],
      "id": "47cb008e-9696-4f76-ab5c-b2415d1e4584"
    },
    {
      "cell_type": "markdown",
      "metadata": {},
      "source": [
        "모형은 유의한데 변수들은 유의하지 않아 다중공선성 의심"
      ],
      "id": "702abb7c-e9a7-44a8-8824-ac3d92ef6a64"
    },
    {
      "cell_type": "code",
      "execution_count": 51,
      "metadata": {},
      "outputs": [],
      "source": [
        "fit<-regsubsets(mpg~., data=mtcars, nbest=1,nvmax=9,\n",
        "                # method=c(\"exhaustive\",\"backward\", \"forward\", \"seqrep\")\n",
        "                method='exhaustive',\n",
        ")"
      ],
      "id": "fc780657-303d-41ff-abdc-ccf8e462c087"
    },
    {
      "cell_type": "markdown",
      "metadata": {},
      "source": [
        "변수 9개 이용 best 1개만 뽑기"
      ],
      "id": "88612e39-4645-43e1-9806-34a6b488a6b8"
    },
    {
      "cell_type": "code",
      "execution_count": 52,
      "metadata": {},
      "outputs": [
        {
          "output_type": "display_data",
          "metadata": {},
          "data": {
            "text/plain": [
              "Subset selection object\n",
              "Call: regsubsets.formula(mpg ~ ., data = mtcars, nbest = 1, nvmax = 9, \n",
              "    method = \"exhaustive\", )\n",
              "10 Variables  (and intercept)\n",
              "     Forced in Forced out\n",
              "cyl      FALSE      FALSE\n",
              "disp     FALSE      FALSE\n",
              "hp       FALSE      FALSE\n",
              "drat     FALSE      FALSE\n",
              "wt       FALSE      FALSE\n",
              "qsec     FALSE      FALSE\n",
              "vs       FALSE      FALSE\n",
              "am       FALSE      FALSE\n",
              "gear     FALSE      FALSE\n",
              "carb     FALSE      FALSE\n",
              "1 subsets of each size up to 9\n",
              "Selection Algorithm: exhaustive\n",
              "         cyl disp hp  drat wt  qsec vs  am  gear carb\n",
              "1  ( 1 ) \" \" \" \"  \" \" \" \"  \"*\" \" \"  \" \" \" \" \" \"  \" \" \n",
              "2  ( 1 ) \"*\" \" \"  \" \" \" \"  \"*\" \" \"  \" \" \" \" \" \"  \" \" \n",
              "3  ( 1 ) \" \" \" \"  \" \" \" \"  \"*\" \"*\"  \" \" \"*\" \" \"  \" \" \n",
              "4  ( 1 ) \" \" \" \"  \"*\" \" \"  \"*\" \"*\"  \" \" \"*\" \" \"  \" \" \n",
              "5  ( 1 ) \" \" \"*\"  \"*\" \" \"  \"*\" \"*\"  \" \" \"*\" \" \"  \" \" \n",
              "6  ( 1 ) \" \" \"*\"  \"*\" \"*\"  \"*\" \"*\"  \" \" \"*\" \" \"  \" \" \n",
              "7  ( 1 ) \" \" \"*\"  \"*\" \"*\"  \"*\" \"*\"  \" \" \"*\" \"*\"  \" \" \n",
              "8  ( 1 ) \" \" \"*\"  \"*\" \"*\"  \"*\" \"*\"  \" \" \"*\" \"*\"  \"*\" \n",
              "9  ( 1 ) \" \" \"*\"  \"*\" \"*\"  \"*\" \"*\"  \"*\" \"*\" \"*\"  \"*\" "
            ]
          }
        }
      ],
      "source": [
        "summary(fit)"
      ],
      "id": "9805d130-f21e-426f-b0ea-65090a631cbe"
    },
    {
      "cell_type": "code",
      "execution_count": 53,
      "metadata": {},
      "outputs": [
        {
          "output_type": "display_data",
          "metadata": {},
          "data": {}
        }
      ],
      "source": [
        "with(summary(fit),\n",
        "     round(cbind(which,rss,rsq,adjr2, cp, bic),3))"
      ],
      "id": "3bf143bf-048b-4aae-ac6b-6a4c9370d437"
    },
    {
      "cell_type": "markdown",
      "metadata": {},
      "source": [
        "3번째 줄이 cp 가장 작음\n",
        "\n",
        "rss = sse\n",
        "\n",
        "3,4,5 들이 좋은 모형이라 할 수 있다.\n",
        "\n",
        "BIC -46.773(3번째)가 가장 큼 절댓값으로\n",
        "\n",
        "4번이 좋은 모형으로 본다면?"
      ],
      "id": "8d2036ad-2aa9-49c4-abd9-d2ae1b37a0d7"
    },
    {
      "cell_type": "code",
      "execution_count": 54,
      "metadata": {},
      "outputs": [],
      "source": [
        "fit_4 <- lm(mpg~hp+wt+qsec+am, mtcars)"
      ],
      "id": "bebb03da-c2ef-463e-905f-cf247c87cac1"
    },
    {
      "cell_type": "code",
      "execution_count": 55,
      "metadata": {},
      "outputs": [
        {
          "output_type": "display_data",
          "metadata": {},
          "data": {
            "text/plain": [
              "\n",
              "Call:\n",
              "lm(formula = mpg ~ hp + wt + qsec + am, data = mtcars)\n",
              "\n",
              "Residuals:\n",
              "    Min      1Q  Median      3Q     Max \n",
              "-3.4975 -1.5902 -0.1122  1.1795  4.5404 \n",
              "\n",
              "Coefficients:\n",
              "            Estimate Std. Error t value Pr(>|t|)   \n",
              "(Intercept) 17.44019    9.31887   1.871  0.07215 . \n",
              "hp          -0.01765    0.01415  -1.247  0.22309   \n",
              "wt          -3.23810    0.88990  -3.639  0.00114 **\n",
              "qsec         0.81060    0.43887   1.847  0.07573 . \n",
              "am           2.92550    1.39715   2.094  0.04579 * \n",
              "---\n",
              "Signif. codes:  0 ‘***’ 0.001 ‘**’ 0.01 ‘*’ 0.05 ‘.’ 0.1 ‘ ’ 1\n",
              "\n",
              "Residual standard error: 2.435 on 27 degrees of freedom\n",
              "Multiple R-squared:  0.8579,    Adjusted R-squared:  0.8368 \n",
              "F-statistic: 40.74 on 4 and 27 DF,  p-value: 4.589e-11"
            ]
          }
        }
      ],
      "source": [
        "summary(fit_4)"
      ],
      "id": "7b9b0f40-3e37-4a61-8275-07d04d7185e1"
    }
  ],
  "nbformat": 4,
  "nbformat_minor": 5,
  "metadata": {
    "kernelspec": {
      "name": "ir",
      "display_name": "R",
      "language": "R"
    },
    "language_info": {
      "name": "R",
      "codemirror_mode": "r",
      "file_extension": ".r",
      "mimetype": "text/x-r-source",
      "pygments_lexer": "r",
      "version": "4.1.2"
    }
  }
}