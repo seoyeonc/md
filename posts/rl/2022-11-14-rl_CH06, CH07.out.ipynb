{
  "cells": [
    {
      "cell_type": "markdown",
      "metadata": {},
      "source": [
        "# 고급회귀분석 실습 CH06, CH07\n",
        "\n",
        "SEOYEON CHOI  \n",
        "2022-11-14\n",
        "\n",
        "chapter 6, chapter 7"
      ],
      "id": "d237d8b0-a5b9-4c0f-9c6f-226075916897"
    },
    {
      "cell_type": "code",
      "execution_count": 1,
      "metadata": {},
      "outputs": [],
      "source": [
        "library(MASS)"
      ],
      "id": "250cbd09-db19-4d07-bd92-c2447ae06544"
    },
    {
      "cell_type": "code",
      "execution_count": 2,
      "metadata": {},
      "outputs": [],
      "source": [
        "data(Boston)"
      ],
      "id": "3543985c-6d7c-406b-adb4-4d3d212a68bc"
    },
    {
      "cell_type": "code",
      "execution_count": 3,
      "metadata": {},
      "outputs": [
        {
          "output_type": "display_data",
          "metadata": {},
          "data": {}
        }
      ],
      "source": [
        "head(Boston)"
      ],
      "id": "417d2a27-25bd-4427-99d7-116b357ffcc0"
    },
    {
      "cell_type": "code",
      "execution_count": 4,
      "metadata": {},
      "outputs": [
        {
          "output_type": "display_data",
          "metadata": {},
          "data": {
            "text/html": [
              "506"
            ]
          }
        }
      ],
      "source": [
        "nrow(Boston)"
      ],
      "id": "3bf007b0-e7d8-4787-8aff-98ea4d07a337"
    },
    {
      "cell_type": "markdown",
      "metadata": {},
      "source": [
        "보스턴 집값 데이터 이 데이터는 보스턴 근교 지역의 집값 및 다른 정보를\n",
        "포함한다.\n",
        "\n",
        "MASS 패키지를 설치하면 데이터를 로딩할 수 있다.\n",
        "\n",
        "B보스턴 근교 506개 지역에 대한 범죄율 (crim)등 14개의 변수로 구성\n",
        "\n",
        "• crim : 범죄율\n",
        "\n",
        "• zn: 25,000평방비트 기준 거지주 비율\n",
        "\n",
        "• indus: 비소매업종 점유 구역 비율\n",
        "\n",
        "• chas: 찰스강 인접 여부 (1=인접, 0=비인접)\n",
        "\n",
        "• nox: 일산화질소 농도 (천만개 당)\n",
        "\n",
        "• rm: 거주지의 평균 방 갯수 \\*\\*\\*\n",
        "\n",
        "• age: 1940년 이전에 건축된 주택의 비율\n",
        "\n",
        "• dis: 보스턴 5대 사업지구와의 거리\n",
        "\n",
        "• rad: 고속도로 진입용이성 정도\n",
        "\n",
        "• tax: 재산세율 (10,000달러 당)\n",
        "\n",
        "• ptratio: 학생 대 교사 비율\n",
        "\n",
        "• black: 1000(B − 0.63)2, B: 아프리카계 미국인 비율\n",
        "\n",
        "• lstat : 저소득층 비율 \\*\\*\\*\\*\n",
        "\n",
        "• medv: 주택가격의 중앙값 (단위:1,000달러 당)\n",
        "\n",
        "-   데이터 세 변수만 가지고 산점도 그려보기\n",
        "\n",
        "-   음의 상관관계가 있는 것 같기도 하고~"
      ],
      "id": "c137590f-7597-4514-897f-cc8df8ef36de"
    },
    {
      "cell_type": "code",
      "execution_count": 5,
      "metadata": {},
      "outputs": [
        {
          "output_type": "display_data",
          "metadata": {},
          "data": {
            "image/png": "[encoded data removed]"
          }
        }
      ],
      "source": [
        "pairs(Boston[,which(names(Boston) %in% c('medv', 'rm', 'lstat'))], pch=16, col='darkorange')"
      ],
      "id": "8c4399ea-24ec-4c13-a636-186bad4b1a5e"
    },
    {
      "cell_type": "markdown",
      "metadata": {},
      "source": [
        "-   lm(y ~ x_1 + x_2, data)"
      ],
      "id": "de54da47-37f2-448a-8aa8-626ef1653502"
    },
    {
      "cell_type": "code",
      "execution_count": 6,
      "metadata": {},
      "outputs": [],
      "source": [
        "fit_Boston<-lm(medv~rm+lstat, data=Boston)"
      ],
      "id": "5bb726df-7d21-46ae-a5f3-26684004a61c"
    },
    {
      "cell_type": "markdown",
      "metadata": {},
      "source": [
        "-   `F-statistic: 444.3 on 2 and 503 DF,  p-value: < 2.2e-16`\n",
        "-   `R-squared:  0.6386`\n",
        "    -   집값 y의 총변동 중에 회귀모형이 63.86%정도 설명하고 있다.\n",
        "-   `Adjusted R-squared:  0.6371`\n",
        "    -   설명변수가 증가하면 R-squared값이 증가하는 현상때문에 수정된\n",
        "        R-squared값이 필요\n",
        "    -   모형 비교시 Adjusted R-squared가 나을 수도 있음\n",
        "-   rm,lstat의 p-value `<2e-16`"
      ],
      "id": "d130e5f9-e5c4-4374-898f-a62c05548fc5"
    },
    {
      "cell_type": "code",
      "execution_count": 7,
      "metadata": {},
      "outputs": [
        {
          "output_type": "display_data",
          "metadata": {},
          "data": {
            "text/plain": [
              "\n",
              "Call:\n",
              "lm(formula = medv ~ rm + lstat, data = Boston)\n",
              "\n",
              "Residuals:\n",
              "    Min      1Q  Median      3Q     Max \n",
              "-18.076  -3.516  -1.010   1.909  28.131 \n",
              "\n",
              "Coefficients:\n",
              "            Estimate Std. Error t value Pr(>|t|)    \n",
              "(Intercept) -1.35827    3.17283  -0.428    0.669    \n",
              "rm           5.09479    0.44447  11.463   <2e-16 ***\n",
              "lstat       -0.64236    0.04373 -14.689   <2e-16 ***\n",
              "---\n",
              "Signif. codes:  0 ‘***’ 0.001 ‘**’ 0.01 ‘*’ 0.05 ‘.’ 0.1 ‘ ’ 1\n",
              "\n",
              "Residual standard error: 5.54 on 503 degrees of freedom\n",
              "Multiple R-squared:  0.6386,    Adjusted R-squared:  0.6371 \n",
              "F-statistic: 444.3 on 2 and 503 DF,  p-value: < 2.2e-16"
            ]
          }
        }
      ],
      "source": [
        "summary(fit_Boston)"
      ],
      "id": "57c380f7-e1dc-4156-a927-d99ba506b28a"
    },
    {
      "cell_type": "markdown",
      "metadata": {},
      "source": [
        "-   원하는 변수만 추출해내서 회귀분석 진행가능"
      ],
      "id": "838a2794-7214-4813-8b91-bfc916ffc428"
    },
    {
      "cell_type": "code",
      "execution_count": 12,
      "metadata": {},
      "outputs": [],
      "source": [
        "dt <- Boston[,which(names(Boston) %in% c('medv', 'rm', 'lstat'))]"
      ],
      "id": "c6dd1cbb-bb74-451f-82ba-0aa521853062"
    },
    {
      "cell_type": "code",
      "execution_count": 13,
      "metadata": {},
      "outputs": [
        {
          "output_type": "display_data",
          "metadata": {},
          "data": {}
        }
      ],
      "source": [
        "head(dt)"
      ],
      "id": "12477ce6-5ea9-4623-8c80-f65fa79b3a59"
    },
    {
      "cell_type": "markdown",
      "metadata": {},
      "source": [
        "-   `.` 쓰면 설명변수 다 쓰겠다는 의미"
      ],
      "id": "b1a5f6cb-ad1c-49f2-9876-6f24ffeea35e"
    },
    {
      "cell_type": "code",
      "execution_count": 10,
      "metadata": {},
      "outputs": [],
      "source": [
        "fit_Boston<-lm(medv~., data=dt)"
      ],
      "id": "da40d667-b524-4440-b8ff-a67e9ad19f59"
    },
    {
      "cell_type": "markdown",
      "metadata": {},
      "source": [
        "$\\hat{y} = -1.3583 + 5.0948*rm - 0.6424*lstat$\n",
        "\n",
        "-   저소득층이 변하지 않고 방이 하나 더 증가한다면 집값의 중앙값은\n",
        "    5.0948 정도 증가한다.\n",
        "\n",
        "-   방의 수는 변하지 않고 저소득층이 증가한다면 집값의 중앙값은 0.6424\n",
        "    정도 감소한다.\n",
        "\n",
        "-   SSR = 41308.84 = 20654.42 + 20654.42\n",
        "\n",
        "-   **밑의 F 통계량이 아니라 summary 의 F 통계량을 봐야 한다.**"
      ],
      "id": "29fdb3ea-e5da-4b92-b131-1fb4489106bf"
    },
    {
      "cell_type": "code",
      "execution_count": 16,
      "metadata": {},
      "outputs": [
        {
          "output_type": "display_data",
          "metadata": {},
          "data": {}
        }
      ],
      "source": [
        "anova(fit_Boston)"
      ],
      "id": "bceed563-506a-444e-b253-c3088457690a"
    },
    {
      "cell_type": "markdown",
      "metadata": {},
      "source": [
        "$var(\\hat{\\beta}) = (X^TX)^{-1} \\sigma^2$"
      ],
      "id": "7d2f3913-888f-4161-b324-0972756a5d40"
    },
    {
      "cell_type": "code",
      "execution_count": 17,
      "metadata": {},
      "outputs": [
        {
          "output_type": "display_data",
          "metadata": {},
          "data": {}
        }
      ],
      "source": [
        "vcov(fit_Boston)  "
      ],
      "id": "193c0826-a96c-4ce2-9f7a-a52326713cfd"
    },
    {
      "cell_type": "code",
      "execution_count": 18,
      "metadata": {},
      "outputs": [
        {
          "output_type": "display_data",
          "metadata": {},
          "data": {}
        }
      ],
      "source": [
        "confint(fit_Boston, level = 0.95)"
      ],
      "id": "4e4dea7a-5d9b-4405-9b7c-7ea795d69114"
    },
    {
      "cell_type": "code",
      "execution_count": 19,
      "metadata": {},
      "outputs": [
        {
          "output_type": "display_data",
          "metadata": {},
          "data": {
            "text/html": [
              "<style>\n",
              ".dl-inline {width: auto; margin:0; padding: 0}\n",
              ".dl-inline>dt, .dl-inline>dd {float: none; width: auto; display: inline-block}\n",
              ".dl-inline>dt::after {content: \":\\0020\"; padding-right: .5ex}\n",
              ".dl-inline>dt:not(:first-of-type) {padding-left: .5ex}\n",
              "</style><dl class=dl-inline><dt>(Intercept)</dt><dd>4.87535465808389</dd><dt>rm</dt><dd>5.96802553290791</dd><dt>lstat</dt><dd>-0.556439501179164</dd></dl>"
            ]
          }
        }
      ],
      "source": [
        "coef(fit_Boston) + qt(0.975, 503) * summary(fit_Boston)$coef[,2]"
      ],
      "id": "26d8c9e4-5e02-4f4d-a494-c49b38ef306c"
    },
    {
      "cell_type": "code",
      "execution_count": 20,
      "metadata": {},
      "outputs": [
        {
          "output_type": "display_data",
          "metadata": {},
          "data": {
            "text/html": [
              "<style>\n",
              ".dl-inline {width: auto; margin:0; padding: 0}\n",
              ".dl-inline>dt, .dl-inline>dd {float: none; width: auto; display: inline-block}\n",
              ".dl-inline>dt::after {content: \":\\0020\"; padding-right: .5ex}\n",
              ".dl-inline>dt:not(:first-of-type) {padding-left: .5ex}\n",
              "</style><dl class=dl-inline><dt>(Intercept)</dt><dd>-7.59190028183298</dd><dt>rm</dt><dd>4.22155043576519</dd><dt>lstat</dt><dd>-0.728277167309095</dd></dl>"
            ]
          }
        }
      ],
      "source": [
        "coef(fit_Boston) - qt(0.975, 503) * summary(fit_Boston)$coef[,2]"
      ],
      "id": "1ca8906e-2f69-4878-91fc-ad0214a693ba"
    },
    {
      "cell_type": "markdown",
      "metadata": {},
      "source": [
        "평균반응, 개별 y 추정\n",
        "\n",
        "$E(Y|x_0), y = E(Y|x_0) + \\epsilon$"
      ],
      "id": "69494be1-90f3-4f55-9677-eca068c36e30"
    },
    {
      "cell_type": "code",
      "execution_count": 22,
      "metadata": {},
      "outputs": [],
      "source": [
        "new_dt <- data.frame(rm=7, lstat=10)"
      ],
      "id": "bb4e7a71-51e1-4fda-b60f-ce3127b4dbcf"
    },
    {
      "cell_type": "markdown",
      "metadata": {},
      "source": [
        "$\\hat{y}_0 = -1.3583 + 5.0948*7 - 0.6424*10$"
      ],
      "id": "c4974f81-c3f8-4216-b99d-89ba9cff3dbb"
    },
    {
      "cell_type": "code",
      "execution_count": 24,
      "metadata": {},
      "outputs": [
        {
          "output_type": "display_data",
          "metadata": {},
          "data": {
            "text/html": [
              "<strong>1:</strong> 27.88165973604"
            ]
          }
        }
      ],
      "source": [
        "predict(fit_Boston, newdata = new_dt)"
      ],
      "id": "b563ca00-82dc-40d1-896c-c038d7dc1c80"
    },
    {
      "cell_type": "markdown",
      "metadata": {},
      "source": [
        "평균반응"
      ],
      "id": "6599c167-8a58-405f-9214-f84f7fb4a600"
    },
    {
      "cell_type": "code",
      "execution_count": 25,
      "metadata": {},
      "outputs": [
        {
          "output_type": "display_data",
          "metadata": {},
          "data": {}
        }
      ],
      "source": [
        "predict(fit_Boston, \n",
        "        newdata = new_dt,\n",
        "        interval = c(\"confidence\"), \n",
        "        level = 0.95)  "
      ],
      "id": "191c8146-c39a-40f7-87cf-593f6257209c"
    },
    {
      "cell_type": "markdown",
      "metadata": {},
      "source": [
        "개별 y"
      ],
      "id": "dc5db04b-750f-4d90-84d0-16eac7ab6b23"
    },
    {
      "cell_type": "code",
      "execution_count": 26,
      "metadata": {},
      "outputs": [
        {
          "output_type": "display_data",
          "metadata": {},
          "data": {}
        }
      ],
      "source": [
        "predict(fit_Boston, newdata = new_dt, \n",
        "        interval = c(\"prediction\"), \n",
        "        level = 0.95)  "
      ],
      "id": "766cb93f-4de5-40a2-9eb6-fb7c7231ef99"
    },
    {
      "cell_type": "markdown",
      "metadata": {},
      "source": [
        "-   fit은 같고 lwr,upr만 달라진다.\n",
        "\n",
        "잔차분석\n",
        "\n",
        "$\\epsilon$ : 선형성, 등분산성, 정규성, 독립성\n",
        "\n",
        "``` r\n",
        "yhat <- fitted_values(fit_Boston)\n",
        "```"
      ],
      "id": "3e3abaa2-c146-454e-a446-7a01c63dffe8"
    },
    {
      "cell_type": "code",
      "execution_count": 27,
      "metadata": {},
      "outputs": [],
      "source": [
        "yhat <- fitted(fit_Boston)"
      ],
      "id": "bc311372-2e8a-409a-882e-691e64b9a08f"
    },
    {
      "cell_type": "code",
      "execution_count": 28,
      "metadata": {},
      "outputs": [],
      "source": [
        "res <- resid(fit_Boston)"
      ],
      "id": "7d5a6291-63ed-4f6e-999e-d2cade443ff4"
    },
    {
      "cell_type": "markdown",
      "metadata": {},
      "source": [
        "잔차그림 - 대칭 아니다 - u 턴 커브 모형이다. - 애초에 산점도에서도\n",
        "커브가 보였다. - 나중에 제곱텀 넣어볼 예정"
      ],
      "id": "950bd341-4ea2-4adf-9dd3-a65979ec89fa"
    },
    {
      "cell_type": "code",
      "execution_count": 29,
      "metadata": {},
      "outputs": [
        {
          "output_type": "display_data",
          "metadata": {},
          "data": {
            "image/png": "[encoded data removed]"
          }
        }
      ],
      "source": [
        "plot(res ~ yhat,pch=16, ylab = 'Residual')\n",
        "abline(h=0, lty=2, col='grey')"
      ],
      "id": "bb939df5-144d-4771-be99-84d466b08108"
    },
    {
      "cell_type": "markdown",
      "metadata": {},
      "source": [
        "-   제곱텀 필요해보인다."
      ],
      "id": "689e6ad5-8bfa-4fab-896e-1230c88ad921"
    },
    {
      "cell_type": "code",
      "execution_count": 30,
      "metadata": {},
      "outputs": [
        {
          "output_type": "display_data",
          "metadata": {},
          "data": {
            "image/png": "[encoded data removed]"
          }
        }
      ],
      "source": [
        "plot(res ~ dt$rm,pch=16, ylab = 'Residual')\n",
        "abline(h=0, lty=2, col='grey')"
      ],
      "id": "03521647-7ded-4b3b-86dc-14abf4125ee8"
    },
    {
      "cell_type": "markdown",
      "metadata": {},
      "source": [
        "-   제곱텀 필요해보인다."
      ],
      "id": "2cf6ed88-3f9b-4020-8ed3-ccb5ee0b20ff"
    },
    {
      "cell_type": "code",
      "execution_count": 75,
      "metadata": {},
      "outputs": [
        {
          "output_type": "display_data",
          "metadata": {},
          "data": {
            "image/png": "[encoded data removed]"
          }
        }
      ],
      "source": [
        "plot(res ~ dt$lstat,pch=16, ylab = 'Residual')\n",
        "abline(h=0, lty=2, col='grey')"
      ],
      "id": "ba4037ab-4f5e-48a0-b847-ad492e409059"
    },
    {
      "cell_type": "markdown",
      "metadata": {},
      "source": [
        "독립성검정 : DW test"
      ],
      "id": "f7f0e0e8-f1cd-4ece-95a3-aed0ae09b43a"
    },
    {
      "cell_type": "code",
      "execution_count": 33,
      "metadata": {},
      "outputs": [],
      "source": [
        "library(lmtest)"
      ],
      "id": "228d5e63-242c-483f-8c8f-6c4d66501ee7"
    },
    {
      "cell_type": "markdown",
      "metadata": {},
      "source": [
        "$H_0 : \\text{ uncorrelated vs } H_1 : \\rho \\neq 0$"
      ],
      "id": "2703acd6-c80a-4e51-9cbd-5ae831601ac1"
    },
    {
      "cell_type": "code",
      "execution_count": 34,
      "metadata": {},
      "outputs": [
        {
          "output_type": "display_data",
          "metadata": {},
          "data": {
            "text/plain": [
              "\n",
              "    Durbin-Watson test\n",
              "\n",
              "data:  fit_Boston\n",
              "DW = 0.83421, p-value < 2.2e-16\n",
              "alternative hypothesis: true autocorrelation is not 0"
            ]
          }
        }
      ],
      "source": [
        "dwtest(fit_Boston, alternative = \"two.sided\")  "
      ],
      "id": "f9cda38b-9eec-4b22-a801-f1a32adff980"
    },
    {
      "cell_type": "markdown",
      "metadata": {},
      "source": [
        "-   p-value \\< 2.2e-16로 귀무가설 기각한다. 잔차는 독립이 아니다.\n",
        "\n",
        "잔차의 QQ plot\n",
        "\n",
        "정규성 확인 결과도 좋지 않음"
      ],
      "id": "6e0754ee-f9b8-4795-b2bb-b80c52881e45"
    },
    {
      "cell_type": "code",
      "execution_count": 36,
      "metadata": {},
      "outputs": [
        {
          "output_type": "display_data",
          "metadata": {},
          "data": {
            "image/png": "[encoded data removed]"
          }
        }
      ],
      "source": [
        "qqnorm(res, pch=16)\n",
        "qqline(res, col = 2)"
      ],
      "id": "be277662-f588-4e3d-aa00-767f1440ac31"
    },
    {
      "cell_type": "code",
      "execution_count": 38,
      "metadata": {},
      "outputs": [
        {
          "output_type": "display_data",
          "metadata": {},
          "data": {}
        }
      ],
      "source": [
        "head(dt)"
      ],
      "id": "aa791d83-6dd4-4ffb-850b-8dd8044ec6bb"
    },
    {
      "cell_type": "code",
      "execution_count": 39,
      "metadata": {},
      "outputs": [],
      "source": [
        "dt$lstat2 <- (dt$lstat)^2"
      ],
      "id": "ee084f81-4f3f-4eea-85b4-a4d960331c90"
    },
    {
      "cell_type": "code",
      "execution_count": 40,
      "metadata": {},
      "outputs": [
        {
          "output_type": "display_data",
          "metadata": {},
          "data": {}
        }
      ],
      "source": [
        "head(dt)"
      ],
      "id": "95f59f16-6a62-47c8-bffc-654a7d1b242e"
    },
    {
      "cell_type": "markdown",
      "metadata": {},
      "source": [
        "1번 방법"
      ],
      "id": "c5939d65-a243-44fe-b676-8857897cad19"
    },
    {
      "cell_type": "code",
      "execution_count": 41,
      "metadata": {},
      "outputs": [],
      "source": [
        "fit_Boston2<-lm(medv~., data=dt)"
      ],
      "id": "9c42c319-30d8-4255-b59d-eb99bb5ef9a9"
    },
    {
      "cell_type": "markdown",
      "metadata": {},
      "source": [
        "``` r\n",
        "# 이렇게 쓰면 위에와 결과 같음\n",
        "fit_Boston2<-lm(medv~rm+lstat+lstat^2, data=Boston)\n",
        "```\n",
        "\n",
        "2번 방법 변수 생성 없이 수행가능"
      ],
      "id": "097f7ce5-b3ad-44b6-831a-b457caa5b771"
    },
    {
      "cell_type": "code",
      "execution_count": 42,
      "metadata": {},
      "outputs": [],
      "source": [
        "fit_Boston2<-lm(medv~rm+lstat+I(lstat^2), data=Boston)"
      ],
      "id": "2dcb6d07-5d86-4337-a584-37251149011f"
    },
    {
      "cell_type": "markdown",
      "metadata": {},
      "source": [
        "-   `Adjusted R-squared:  0.7013`이 63%에서 증가한 모습"
      ],
      "id": "7bb491c4-cc55-4a46-b15d-a6631a2d0a70"
    },
    {
      "cell_type": "code",
      "execution_count": 43,
      "metadata": {},
      "outputs": [
        {
          "output_type": "display_data",
          "metadata": {},
          "data": {
            "text/plain": [
              "\n",
              "Call:\n",
              "lm(formula = medv ~ rm + lstat + I(lstat^2), data = Boston)\n",
              "\n",
              "Residuals:\n",
              "     Min       1Q   Median       3Q      Max \n",
              "-18.1427  -3.2429  -0.4829   2.3607  27.0256 \n",
              "\n",
              "Coefficients:\n",
              "            Estimate Std. Error t value Pr(>|t|)    \n",
              "(Intercept) 11.68964    3.13810   3.725 0.000217 ***\n",
              "rm           4.22727    0.41172  10.267  < 2e-16 ***\n",
              "lstat       -1.84863    0.12213 -15.136  < 2e-16 ***\n",
              "I(lstat^2)   0.03634    0.00348  10.443  < 2e-16 ***\n",
              "---\n",
              "Signif. codes:  0 ‘***’ 0.001 ‘**’ 0.01 ‘*’ 0.05 ‘.’ 0.1 ‘ ’ 1\n",
              "\n",
              "Residual standard error: 5.027 on 502 degrees of freedom\n",
              "Multiple R-squared:  0.7031,    Adjusted R-squared:  0.7013 \n",
              "F-statistic: 396.2 on 3 and 502 DF,  p-value: < 2.2e-16"
            ]
          }
        }
      ],
      "source": [
        "summary(fit_Boston2)"
      ],
      "id": "301773ed-df86-4299-8af3-21d7d0f5916a"
    },
    {
      "cell_type": "code",
      "execution_count": 44,
      "metadata": {},
      "outputs": [],
      "source": [
        "yhat2 <- fitted.values(fit_Boston2)"
      ],
      "id": "ffcf0ca4-8ce9-4b18-bc6b-865f976b08f0"
    },
    {
      "cell_type": "code",
      "execution_count": 45,
      "metadata": {},
      "outputs": [],
      "source": [
        "res2 <- resid(fit_Boston2)"
      ],
      "id": "86b6de71-2bd7-410d-ac06-a83690e63400"
    },
    {
      "cell_type": "markdown",
      "metadata": {},
      "source": [
        "-   곡선 느낌은 사라지고 outlier는 보이고 있다."
      ],
      "id": "bfe60790-42e4-4825-ad1a-633db2b9edce"
    },
    {
      "cell_type": "code",
      "execution_count": 46,
      "metadata": {},
      "outputs": [
        {
          "output_type": "display_data",
          "metadata": {},
          "data": {
            "image/png": "[encoded data removed]"
          }
        }
      ],
      "source": [
        "plot(res2 ~ yhat2,pch=16, ylab = 'Residual')\n",
        "abline(h=0, lty=2, col='grey')"
      ],
      "id": "43066488-6529-4c76-a3be-4ac6ccce0ef0"
    },
    {
      "cell_type": "markdown",
      "metadata": {},
      "source": [
        "-   꼬리가 죽은 모습"
      ],
      "id": "51b60305-d571-47dc-b766-1c7e524469a7"
    },
    {
      "cell_type": "code",
      "execution_count": 47,
      "metadata": {},
      "outputs": [
        {
          "output_type": "display_data",
          "metadata": {},
          "data": {
            "image/png": "[encoded data removed]"
          }
        }
      ],
      "source": [
        "qqnorm(res2, pch=16)\n",
        "qqline(res2, col = 2)"
      ],
      "id": "ccd5a48f-116c-4fc4-a729-368c7f59b3e1"
    },
    {
      "cell_type": "markdown",
      "metadata": {},
      "source": [
        "$H_0 : \\text{ uncorrelated vs } H_1 : \\rho \\neq 0$"
      ],
      "id": "c24197a1-ba75-4df6-9f3c-fecbe0226fed"
    },
    {
      "cell_type": "code",
      "execution_count": 48,
      "metadata": {},
      "outputs": [
        {
          "output_type": "display_data",
          "metadata": {},
          "data": {
            "text/plain": [
              "\n",
              "    Durbin-Watson test\n",
              "\n",
              "data:  fit_Boston2\n",
              "DW = 0.84831, p-value < 2.2e-16\n",
              "alternative hypothesis: true autocorrelation is not 0"
            ]
          }
        }
      ],
      "source": [
        "dwtest(fit_Boston2, alternative = \"two.sided\")"
      ],
      "id": "406da7f1-7607-47e2-ab90-f99b991dfb7e"
    },
    {
      "cell_type": "markdown",
      "metadata": {},
      "source": [
        "-   여전히 잔차가 독립이 아니고 기각한다."
      ],
      "id": "3cb48145-88e8-4e09-8eb2-c56a84ce78de"
    },
    {
      "cell_type": "code",
      "execution_count": 49,
      "metadata": {},
      "outputs": [],
      "source": [
        "fit_Boston3 <- lm(medv~rm, data=Boston)"
      ],
      "id": "038ad35c-34d2-463e-a18b-517aae908a04"
    },
    {
      "cell_type": "code",
      "execution_count": 50,
      "metadata": {},
      "outputs": [],
      "source": [
        "fit_Boston4 <- lm(medv~lstat, data=Boston)"
      ],
      "id": "ae1db0dc-ed3c-4064-a9a3-a615adfd9b80"
    },
    {
      "cell_type": "code",
      "execution_count": 51,
      "metadata": {},
      "outputs": [
        {
          "output_type": "display_data",
          "metadata": {},
          "data": {
            "text/plain": [
              "\n",
              "Call:\n",
              "lm(formula = medv ~ rm, data = Boston)\n",
              "\n",
              "Residuals:\n",
              "    Min      1Q  Median      3Q     Max \n",
              "-23.346  -2.547   0.090   2.986  39.433 \n",
              "\n",
              "Coefficients:\n",
              "            Estimate Std. Error t value Pr(>|t|)    \n",
              "(Intercept)  -34.671      2.650  -13.08   <2e-16 ***\n",
              "rm             9.102      0.419   21.72   <2e-16 ***\n",
              "---\n",
              "Signif. codes:  0 ‘***’ 0.001 ‘**’ 0.01 ‘*’ 0.05 ‘.’ 0.1 ‘ ’ 1\n",
              "\n",
              "Residual standard error: 6.616 on 504 degrees of freedom\n",
              "Multiple R-squared:  0.4835,    Adjusted R-squared:  0.4825 \n",
              "F-statistic: 471.8 on 1 and 504 DF,  p-value: < 2.2e-16"
            ]
          }
        }
      ],
      "source": [
        "summary(fit_Boston3)"
      ],
      "id": "680383da-8dd0-4617-9206-c75dddcb6c4f"
    },
    {
      "cell_type": "code",
      "execution_count": 52,
      "metadata": {},
      "outputs": [
        {
          "output_type": "display_data",
          "metadata": {},
          "data": {
            "text/plain": [
              "\n",
              "Call:\n",
              "lm(formula = medv ~ lstat, data = Boston)\n",
              "\n",
              "Residuals:\n",
              "    Min      1Q  Median      3Q     Max \n",
              "-15.168  -3.990  -1.318   2.034  24.500 \n",
              "\n",
              "Coefficients:\n",
              "            Estimate Std. Error t value Pr(>|t|)    \n",
              "(Intercept) 34.55384    0.56263   61.41   <2e-16 ***\n",
              "lstat       -0.95005    0.03873  -24.53   <2e-16 ***\n",
              "---\n",
              "Signif. codes:  0 ‘***’ 0.001 ‘**’ 0.01 ‘*’ 0.05 ‘.’ 0.1 ‘ ’ 1\n",
              "\n",
              "Residual standard error: 6.216 on 504 degrees of freedom\n",
              "Multiple R-squared:  0.5441,    Adjusted R-squared:  0.5432 \n",
              "F-statistic: 601.6 on 1 and 504 DF,  p-value: < 2.2e-16"
            ]
          }
        }
      ],
      "source": [
        "summary(fit_Boston4)"
      ],
      "id": "06ff9c88-eae5-49ad-b610-97dd6f3814c3"
    },
    {
      "cell_type": "code",
      "execution_count": 54,
      "metadata": {},
      "outputs": [],
      "source": [
        "x1<-c(4,8,9,8,8,12,6,10,6,9)\n",
        "x2<-c(4,10,8,5,10,15,8,13,5,12)\n",
        "y<-c(9,20,22,15,17,30,18,25,10,20)"
      ],
      "id": "f21d62c7-20f1-4a13-8b57-772598258f11"
    },
    {
      "cell_type": "markdown",
      "metadata": {},
      "source": [
        "FM"
      ],
      "id": "ba5e8781-6d4e-4703-a206-6ad2af6b3bd7"
    },
    {
      "cell_type": "code",
      "execution_count": 55,
      "metadata": {},
      "outputs": [],
      "source": [
        "fit<-lm(y~x1+x2)"
      ],
      "id": "5a646ed5-47e0-47eb-a899-02ab630cb855"
    },
    {
      "cell_type": "code",
      "execution_count": 56,
      "metadata": {},
      "outputs": [
        {
          "output_type": "display_data",
          "metadata": {},
          "data": {
            "text/plain": [
              "\n",
              "Call:\n",
              "lm(formula = y ~ x1 + x2)\n",
              "\n",
              "Residuals:\n",
              "    Min      1Q  Median      3Q     Max \n",
              "-2.4575 -1.9100  0.3314  0.6388  3.2628 \n",
              "\n",
              "Coefficients:\n",
              "            Estimate Std. Error t value Pr(>|t|)  \n",
              "(Intercept)  -0.6507     2.9075  -0.224   0.8293  \n",
              "x1            1.5515     0.6462   2.401   0.0474 *\n",
              "x2            0.7599     0.3968   1.915   0.0970 .\n",
              "---\n",
              "Signif. codes:  0 ‘***’ 0.001 ‘**’ 0.01 ‘*’ 0.05 ‘.’ 0.1 ‘ ’ 1\n",
              "\n",
              "Residual standard error: 2.278 on 7 degrees of freedom\n",
              "Multiple R-squared:  0.9014,    Adjusted R-squared:  0.8732 \n",
              "F-statistic:    32 on 2 and 7 DF,  p-value: 0.0003011"
            ]
          }
        }
      ],
      "source": [
        "summary(fit)"
      ],
      "id": "1c4fbc7e-1c9e-4b0c-b01a-92132c4cef49"
    },
    {
      "cell_type": "code",
      "execution_count": 57,
      "metadata": {},
      "outputs": [
        {
          "output_type": "display_data",
          "metadata": {},
          "data": {}
        }
      ],
      "source": [
        "anova(fit)"
      ],
      "id": "3df61814-fe3a-455a-a802-0c6c4e659fda"
    },
    {
      "cell_type": "markdown",
      "metadata": {},
      "source": [
        "``` r\n",
        "install.packages(\"car\")\n",
        "```"
      ],
      "id": "0b6f4c88-0a6a-4187-b970-d81d8dfb56b2"
    },
    {
      "cell_type": "code",
      "execution_count": 59,
      "metadata": {},
      "outputs": [],
      "source": [
        "library(car)"
      ],
      "id": "1083021c-6743-4fd7-8f82-74d0030fb48b"
    },
    {
      "cell_type": "markdown",
      "metadata": {},
      "source": [
        "$H_0 : T\\times\\beta = c$\n",
        "\n",
        "\\$b_1-b_2=0 (0,1,-1) \\$\n",
        "\n",
        "$H_0 : \\beta_1 = \\beta_2$"
      ],
      "id": "40821d9b-8f5f-4fca-92d2-0c47b05a0857"
    },
    {
      "cell_type": "code",
      "execution_count": 61,
      "metadata": {},
      "outputs": [
        {
          "output_type": "display_data",
          "metadata": {},
          "data": {}
        }
      ],
      "source": [
        "linearHypothesis(fit, c(0,1,-1), 0)"
      ],
      "id": "0c9e1b8d-595a-4177-ad25-cd010600a3ca"
    },
    {
      "cell_type": "markdown",
      "metadata": {},
      "source": [
        "-   제약조건, T matrix c(0,1,-1)\n",
        "-   c = 0"
      ],
      "id": "540d72a1-f15c-4686-9a7e-2aaa766811f8"
    },
    {
      "cell_type": "code",
      "execution_count": 78,
      "metadata": {},
      "outputs": [
        {
          "output_type": "display_data",
          "metadata": {},
          "data": {
            "text/html": [
              "0.618373170600108"
            ]
          }
        }
      ],
      "source": [
        "3.209014 / (36.32612/7)"
      ],
      "id": "93f693dd-6844-491e-be27-471c175922c5"
    },
    {
      "cell_type": "markdown",
      "metadata": {},
      "source": [
        "같다~\n",
        "\n",
        "$H_0 : \\beta_1 = 1$"
      ],
      "id": "5ac1f573-c9ff-4f78-9070-58f012a87e34"
    },
    {
      "cell_type": "code",
      "execution_count": 62,
      "metadata": {},
      "outputs": [
        {
          "output_type": "display_data",
          "metadata": {},
          "data": {}
        }
      ],
      "source": [
        "linearHypothesis(fit, c(0,1,0), 1)"
      ],
      "id": "c64a09b2-f628-4211-8976-61e1c2a8966c"
    },
    {
      "cell_type": "markdown",
      "metadata": {},
      "source": [
        "-   기각하지 못함\n",
        "\n",
        "$H_0 : \\beta_1 = \\beta_2 + 1$"
      ],
      "id": "230e0652-5de2-40f9-b2ef-36cd096a8acf"
    },
    {
      "cell_type": "code",
      "execution_count": 63,
      "metadata": {},
      "outputs": [
        {
          "output_type": "display_data",
          "metadata": {},
          "data": {}
        }
      ],
      "source": [
        "linearHypothesis(fit, c(0,1,-1), 1)"
      ],
      "id": "911942ac-fa39-484b-ba57-94492873a44e"
    },
    {
      "cell_type": "code",
      "execution_count": 80,
      "metadata": {},
      "outputs": [
        {
          "output_type": "display_data",
          "metadata": {},
          "data": {
            "text/html": [
              "0.0428807391894599"
            ]
          }
        }
      ],
      "source": [
        "F0"
      ],
      "id": "dc5e1324-f134-4272-863c-205a2c2214fc"
    },
    {
      "cell_type": "markdown",
      "metadata": {},
      "source": [
        "$H_0 : \\beta_1 = \\beta_2 + 1$\n",
        "\n",
        "$y = b_0 + b_1x_1 + b_2x_2 + \\epsilon = b_0+x_1 + b_2(x_1+x_2)+\\epsilon$\n",
        "\n",
        "$y-x_1 = b_0+b_2(x_1+x_2)+\\epsilon$ : RM"
      ],
      "id": "d559aeae-c9ce-4fb0-8838-1f6a02d42908"
    },
    {
      "cell_type": "code",
      "execution_count": 64,
      "metadata": {},
      "outputs": [],
      "source": [
        "y1 <- y-x1\n",
        "z1 <- x1 + x2"
      ],
      "id": "a18d316a-28ad-4042-acd7-f7376cd0b469"
    },
    {
      "cell_type": "code",
      "execution_count": 65,
      "metadata": {},
      "outputs": [],
      "source": [
        "fit2 <- lm(y1~z1)"
      ],
      "id": "08d5947e-1d1f-4951-ac8a-88983eb86246"
    },
    {
      "cell_type": "code",
      "execution_count": 66,
      "metadata": {},
      "outputs": [
        {
          "output_type": "display_data",
          "metadata": {},
          "data": {
            "text/plain": [
              "\n",
              "Call:\n",
              "lm(formula = y1 ~ z1)\n",
              "\n",
              "Residuals:\n",
              "    Min      1Q  Median      3Q     Max \n",
              "-2.5054 -1.9294  0.4236  0.6821  3.4473 \n",
              "\n",
              "Coefficients:\n",
              "            Estimate Std. Error t value Pr(>|t|)    \n",
              "(Intercept)  -1.0014     2.2175  -0.452 0.663574    \n",
              "z1            0.6824     0.1242   5.493 0.000578 ***\n",
              "---\n",
              "Signif. codes:  0 ‘***’ 0.001 ‘**’ 0.01 ‘*’ 0.05 ‘.’ 0.1 ‘ ’ 1\n",
              "\n",
              "Residual standard error: 2.137 on 8 degrees of freedom\n",
              "Multiple R-squared:  0.7904,    Adjusted R-squared:  0.7642 \n",
              "F-statistic: 30.17 on 1 and 8 DF,  p-value: 0.0005785"
            ]
          }
        }
      ],
      "source": [
        "summary(fit2)"
      ],
      "id": "5156c2a0-6821-4769-a2de-4fa587e5cc7b"
    },
    {
      "cell_type": "code",
      "execution_count": 67,
      "metadata": {},
      "outputs": [
        {
          "output_type": "display_data",
          "metadata": {},
          "data": {}
        }
      ],
      "source": [
        "anova(fit2)"
      ],
      "id": "a953e462-618d-4f35-a084-9c680d147cf5"
    },
    {
      "cell_type": "markdown",
      "metadata": {},
      "source": [
        "FM"
      ],
      "id": "3afd5a62-4408-4359-9a75-fc17e5654728"
    },
    {
      "cell_type": "code",
      "execution_count": 68,
      "metadata": {},
      "outputs": [
        {
          "output_type": "display_data",
          "metadata": {},
          "data": {}
        }
      ],
      "source": [
        "anova(fit)  "
      ],
      "id": "b83ec33d-ce70-4fbd-beb7-e6967fe8a851"
    },
    {
      "cell_type": "markdown",
      "metadata": {},
      "source": [
        "RM"
      ],
      "id": "348e3d94-9e29-4be1-97a5-c9c1140ec88a"
    },
    {
      "cell_type": "code",
      "execution_count": 69,
      "metadata": {},
      "outputs": [
        {
          "output_type": "display_data",
          "metadata": {},
          "data": {}
        }
      ],
      "source": [
        "anova(fit2)  "
      ],
      "id": "d1275714-1c27-4683-8c62-1d6e66880ca8"
    },
    {
      "cell_type": "markdown",
      "metadata": {},
      "source": [
        "$F = {(SSE_RM - SSE_FM)/r} / {SSE_FM/(n-p-1)}$\n",
        "\n",
        "SSE_FM"
      ],
      "id": "15386984-706f-4008-b1a2-fecd356d0bf0"
    },
    {
      "cell_type": "code",
      "execution_count": 71,
      "metadata": {},
      "outputs": [],
      "source": [
        "SSE_FM <- anova(fit)$Sum[3]  "
      ],
      "id": "dce156dc-f906-49e5-9999-4eabeb781def"
    },
    {
      "cell_type": "markdown",
      "metadata": {},
      "source": [
        "SSE_RM"
      ],
      "id": "b696b7da-fdb8-4d46-b69d-d60a763c7b6e"
    },
    {
      "cell_type": "code",
      "execution_count": 72,
      "metadata": {},
      "outputs": [],
      "source": [
        "SSE_RM <- anova(fit2)$Sum[2]  "
      ],
      "id": "353caa8d-6e04-476b-bec0-7764487e5708"
    },
    {
      "cell_type": "code",
      "execution_count": 73,
      "metadata": {},
      "outputs": [
        {
          "output_type": "display_data",
          "metadata": {},
          "data": {
            "text/html": [
              "0.0428807391894599"
            ]
          }
        }
      ],
      "source": [
        "F0 <- (SSE_RM-SSE_FM)/(SSE_FM/7)\n",
        "F0"
      ],
      "id": "b6312d7c-064a-4f7e-9b31-9c77fa225409"
    },
    {
      "cell_type": "markdown",
      "metadata": {},
      "source": [
        "기각역 $F_{0.05}(1,7)$"
      ],
      "id": "15adc02e-3c52-4aac-ae02-be348bd5ed7d"
    },
    {
      "cell_type": "code",
      "execution_count": 74,
      "metadata": {},
      "outputs": [
        {
          "output_type": "display_data",
          "metadata": {},
          "data": {
            "text/html": [
              "5.59144785122073"
            ]
          }
        }
      ],
      "source": [
        "qf(0.95, 1, 7)"
      ],
      "id": "91744158-e8b8-46bd-a059-8f8a9f42b928"
    },
    {
      "cell_type": "markdown",
      "metadata": {},
      "source": [
        "기각할 수 없다.$\\beta_1$은 $\\beta_2$에 1 더한 값과 같다."
      ],
      "id": "55b62c4e-71ef-4a45-a932-2985d7661f54"
    }
  ],
  "nbformat": 4,
  "nbformat_minor": 5,
  "metadata": {
    "kernelspec": {
      "name": "ir",
      "display_name": "R",
      "language": "R"
    },
    "language_info": {
      "name": "R",
      "codemirror_mode": "r",
      "file_extension": ".r",
      "mimetype": "text/x-r-source",
      "pygments_lexer": "r",
      "version": "4.1.2"
    }
  }
}