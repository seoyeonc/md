{
 "cells": [
  {
   "cell_type": "raw",
   "id": "642f73e0-85f2-470e-bf63-33d0f537bcae",
   "metadata": {
    "id": "cac470df-29e7-4148-9bbd-d8b9a32fa570",
    "tags": []
   },
   "source": [
    "---\n",
    "title: \"고급회귀분석 CH10\"\n",
    "author: \"SEOYEON CHOI\"\n",
    "date: \"2022-12-11\"\n",
    "categories:\n",
    "  - Advanced Regression Analysis\n",
    "---"
   ]
  },
  {
   "cell_type": "markdown",
   "id": "0bc681e9-b2a5-425a-b85e-3cb1a0cb03da",
   "metadata": {},
   "source": [
    "> 이상치"
   ]
  },
  {
   "cell_type": "code",
   "execution_count": 43,
   "id": "6678cb4d-d992-4ef5-9de0-c7b3c6a7e5a6",
   "metadata": {},
   "outputs": [],
   "source": [
    "library(ggplot2)"
   ]
  },
  {
   "cell_type": "markdown",
   "id": "83490df5-e161-4aae-9fe3-5324661d3ac1",
   "metadata": {},
   "source": [
    "# 회귀진단"
   ]
  },
  {
   "cell_type": "markdown",
   "id": "82364da2-d2aa-41f7-a7ec-2c1e9213c60b",
   "metadata": {},
   "source": [
    "1. 오차항의 검토\n",
    "2. 적절한 모형의 선택\n",
    "3. 독립변수들 간의 상관관계 검토\n",
    "4. 지렛대점(leverage point)의 검출\n",
    "5. 이상치(outlier) 화인\n",
    "6. 영향점(influential observation)의 검출"
   ]
  },
  {
   "cell_type": "markdown",
   "id": "16a9b2b4-e302-48b7-a7b3-139dec32037b",
   "metadata": {},
   "source": [
    "추정된 회귀직선\n",
    "\n",
    "$$\\hat{y} = X(X^\\top X)^{-1} X^\\top y = Hy$$\n",
    "\n",
    "H: hat matrix, $n \\times n$ matrix\n",
    "\n",
    "$Var(\\hat{y}) = \\sigma^2 H$\n",
    "\n",
    "$Var(e) = (I_N - H) \\sigma^2$\n",
    "\n",
    "$h_{i,j} = x_i^\\top (X^\\top X) ^{-1} x_j$\n",
    "\n",
    "$h_{ij}$ : H의 대각원소\n",
    "\n",
    "$H = X(X^\\top X)^{-1} X^\\top$\n",
    "\n",
    "$HH = H$\n",
    "\n",
    "$rank(H) = p+1$\n",
    "\n",
    "$tr(H) = \\sum^n_{i=1}h_{ii} = p+1$\n",
    "\n",
    "$H$ : 양반정치행렬 positive definite\n",
    "\n",
    "$0 \\le h_{ii} <1 , -\\frac{1}{2} \\le h_{ij} \\le -\\frac{1}{2}$\n",
    "\n",
    "$p=1, h_{ii} = \\frac{1}{n} + \\frac{(x_{u} - \\bar{x})^2}{S_{xx}}$\n",
    "\n",
    "$p>1, h_{ii} = \\frac{1}{n} + (x_i - \\bar{x})^\\top (X^\\top X)^{-1} (x_i - \\bar{x})$"
   ]
  },
  {
   "cell_type": "markdown",
   "id": "678614f7-08e7-48d9-b304-9793d54b32ed",
   "metadata": {},
   "source": [
    "### 지렛대점(leverage point)"
   ]
  },
  {
   "cell_type": "markdown",
   "id": "3992285f-905b-4686-8e0a-17a4fabb2ff5",
   "metadata": {},
   "source": [
    "$h_{ii} > s\\bar{h}$ 이면, i번째 관측치가 leverage point로 고려 가능\n",
    "\n",
    "$$\\bar{h} = \\frac{1}{n} \\sum^n_{i=1}h_{ii} = \\frac{p+1}{n}$$"
   ]
  },
  {
   "cell_type": "markdown",
   "id": "c6ce30cc-34ff-4a4f-8268-2c747ef7e236",
   "metadata": {
    "tags": []
   },
   "source": [
    "### 잔차(Residual)"
   ]
  },
  {
   "cell_type": "markdown",
   "id": "dc2e4bfc-aa01-4e54-9010-ee6c6c248e49",
   "metadata": {},
   "source": [
    "$e = y − \\hat{y} = y − X \\hat{\\beta}$\n",
    "\n",
    "$= y − X(X^\\top X)^{-1} X^\\top y$\n",
    "\n",
    "$= (In − X(X^\\to X)^{-1}X^\\to )y = (I_n − H)y$\n",
    "\n",
    "$E(e) = 0_n, Var(e) = (I_n − H)σ^2$\n",
    "\n",
    "$E(e_i) = 0, Var(e_i) = (1 − h_{ii})σ^2$\n",
    "\n",
    "$Cov(e_i,e_j) = −h_{ij} σ^2$\n",
    "\n",
    "$ρ_{ij} = \\frac{−h_{ij} σ^2}{ \\sqrt{(1 − h_{ii})(1 − h_{jj})σ^4} }=\\frac{ −h_{ij}}{\\sqrt{(1 − h_{ii})(1 − h_{jj})}}$"
   ]
  },
  {
   "cell_type": "markdown",
   "id": "04a649c8-90e0-402d-b190-983afc6f6560",
   "metadata": {},
   "source": [
    "### 표준화잔차(standardized residual)"
   ]
  },
  {
   "cell_type": "markdown",
   "id": "c6bebaf4-54eb-4484-907e-31bbdf3f16fd",
   "metadata": {},
   "source": [
    "$y \\sim N(Xβ,I_nσ^2)$\n",
    "\n",
    "$e \\sim N(0_n,(I_n−H)σ^2)$\n",
    "\n",
    "$e_i \\sim N(0,(1−h_{ii})σ^2)$\n",
    "\n",
    "$\\star \\frac{e_i}{\\sigma\\sqrt{1-h_{ii}}} \\sim N(0,1)$"
   ]
  },
  {
   "cell_type": "markdown",
   "id": "26a6020f-9621-4f2e-8201-35ba43e5cd10",
   "metadata": {},
   "source": [
    "#### 내적 스튜던트화 잔차(internally studentized residual)"
   ]
  },
  {
   "cell_type": "markdown",
   "id": "f9257580-52a8-478f-958e-3b423a4c1cf7",
   "metadata": {},
   "source": [
    "$r_i = \\frac{e_i}{\\hat{\\sigma}\\sqrt{1−h_{ii}}}$\n",
    "\n",
    "$\\hat{\\sigma}^2 = MSE$"
   ]
  },
  {
   "cell_type": "markdown",
   "id": "3151f1c6-08d9-4d6c-b8fb-8dcfd566300e",
   "metadata": {},
   "source": [
    "이러한 표준화 잔차에 대한 표본분포는 분자와 분모가 서로 독립이 아니기 때문에 $t$ 분포로 근사할 수 없는데, $|e_i|$가 큰 경우, $s$도 역시 커지게 되기 때문이다."
   ]
  },
  {
   "cell_type": "markdown",
   "id": "7c79834e-e9c2-421e-8e1f-ee8133cb5011",
   "metadata": {},
   "source": [
    "#### 외적 스튜던트화 잔차(externally studentized residual)"
   ]
  },
  {
   "cell_type": "markdown",
   "id": "77f5da1d-21a6-4084-b002-bb7d8a85fb61",
   "metadata": {},
   "source": [
    "$r_i^{*} = \\frac{e_i}{\\hat{\\sigma}_{(i)}\\sqrt{1 − h_{ii}}} \\sim t(n-p-1-1)$\n",
    "\n",
    "$\\hat{\\sigma}^2_{(i)} = [(n-p-1)\\hat{\\sigma} - \\frac{e^2_{(i)}}{1-h_{ii}}]/(n-p-2)$\n",
    "\n",
    "$|r_i^{*}| ≥ t_{α/2}(n − p − 2)$ 이면 유의수준$\\alpha$에서 $y_i$를 이상점이라고 판정\n",
    "\n",
    "$\\star$\n",
    "\n",
    "$t_{i} = \\frac{y_i - \\tilde{y}_i}{\\hat{\\sigma}\\sqrt{1 + x_i^\\top [X{i}^\\top X(i)]^{-1} x_i}} \\sim t(n-p-2)$\n",
    "\n",
    "$|r_i^{*}| \\sim t_{i}$"
   ]
  },
  {
   "cell_type": "markdown",
   "id": "e8f131d3-77e0-43a7-82e6-af0fe4a63a19",
   "metadata": {},
   "source": [
    "### 예제 10.1"
   ]
  },
  {
   "cell_type": "code",
   "execution_count": 3,
   "id": "22e53e76-8bb9-4380-95f8-8f1247749801",
   "metadata": {},
   "outputs": [],
   "source": [
    "df = data.frame('x' =  c(15, 26, 10, 9, 15, 20, 18, 11, 8, 20, 7, 9, 10, 11, 11, 10, 12, 42, 17, 11, 10),\n",
    "    'y' = c(95, 71, 83, 91, 102, 87, 93, 100, 104, 94, 113, 96, 83, 84, 102, 100, 105, 57, 121, 86, 100))"
   ]
  },
  {
   "cell_type": "code",
   "execution_count": 45,
   "id": "afe73c97-e061-4142-a5b1-10c6439a6d23",
   "metadata": {},
   "outputs": [],
   "source": [
    "model = lm(y~x,df)"
   ]
  },
  {
   "cell_type": "code",
   "execution_count": 48,
   "id": "56081a92-0ec8-4599-b007-2bc0b5fb7925",
   "metadata": {},
   "outputs": [
    {
     "data": {
      "text/plain": [
       "\n",
       "Call:\n",
       "lm(formula = y ~ x, data = df)\n",
       "\n",
       "Residuals:\n",
       "    Min      1Q  Median      3Q     Max \n",
       "-15.604  -8.731   1.396   4.523  30.285 \n",
       "\n",
       "Coefficients:\n",
       "            Estimate Std. Error t value Pr(>|t|)    \n",
       "(Intercept) 109.8738     5.0678  21.681 7.31e-15 ***\n",
       "x            -1.1270     0.3102  -3.633  0.00177 ** \n",
       "---\n",
       "Signif. codes:  0 ‘***’ 0.001 ‘**’ 0.01 ‘*’ 0.05 ‘.’ 0.1 ‘ ’ 1\n",
       "\n",
       "Residual standard error: 11.02 on 19 degrees of freedom\n",
       "Multiple R-squared:   0.41,\tAdjusted R-squared:  0.3789 \n",
       "F-statistic:  13.2 on 1 and 19 DF,  p-value: 0.001769\n"
      ]
     },
     "metadata": {},
     "output_type": "display_data"
    }
   ],
   "source": [
    "summary(model)"
   ]
  },
  {
   "cell_type": "markdown",
   "id": "2ecdff4a-fc5e-47c9-be73-05d03f8d0f7a",
   "metadata": {},
   "source": [
    "$y = 109.8738  -1.1270 x$"
   ]
  },
  {
   "cell_type": "code",
   "execution_count": 49,
   "id": "e4c8f11c-883c-4d8c-8fdd-1ff361861fb6",
   "metadata": {},
   "outputs": [
    {
     "data": {
      "image/png": "[encoded data removed]",
      "text/plain": [
       "plot without title"
      ]
     },
     "metadata": {
      "image/png": {
       "height": 420,
       "width": 420
      }
     },
     "output_type": "display_data"
    }
   ],
   "source": [
    "plot(df$x,df$y)\n",
    "abline(model, col='steelblue', lwd=2)"
   ]
  },
  {
   "cell_type": "code",
   "execution_count": 51,
   "id": "70600135-786d-47b3-9c07-cff0f8cf48d1",
   "metadata": {},
   "outputs": [
    {
     "data": {
      "text/html": [
       "<table class=\"dataframe\">\n",
       "<caption>A anova: 2 × 5</caption>\n",
       "<thead>\n",
       "\t<tr><th></th><th scope=col>Df</th><th scope=col>Sum Sq</th><th scope=col>Mean Sq</th><th scope=col>F value</th><th scope=col>Pr(&gt;F)</th></tr>\n",
       "\t<tr><th></th><th scope=col>&lt;int&gt;</th><th scope=col>&lt;dbl&gt;</th><th scope=col>&lt;dbl&gt;</th><th scope=col>&lt;dbl&gt;</th><th scope=col>&lt;dbl&gt;</th></tr>\n",
       "</thead>\n",
       "<tbody>\n",
       "\t<tr><th scope=row>x</th><td> 1</td><td>1604.081</td><td>1604.0809</td><td>13.20182</td><td>0.001768622</td></tr>\n",
       "\t<tr><th scope=row>Residuals</th><td>19</td><td>2308.586</td><td> 121.5045</td><td>      NA</td><td>         NA</td></tr>\n",
       "</tbody>\n",
       "</table>\n"
      ],
      "text/latex": [
       "A anova: 2 × 5\n",
       "\\begin{tabular}{r|lllll}\n",
       "  & Df & Sum Sq & Mean Sq & F value & Pr(>F)\\\\\n",
       "  & <int> & <dbl> & <dbl> & <dbl> & <dbl>\\\\\n",
       "\\hline\n",
       "\tx &  1 & 1604.081 & 1604.0809 & 13.20182 & 0.001768622\\\\\n",
       "\tResiduals & 19 & 2308.586 &  121.5045 &       NA &          NA\\\\\n",
       "\\end{tabular}\n"
      ],
      "text/markdown": [
       "\n",
       "A anova: 2 × 5\n",
       "\n",
       "| <!--/--> | Df &lt;int&gt; | Sum Sq &lt;dbl&gt; | Mean Sq &lt;dbl&gt; | F value &lt;dbl&gt; | Pr(&gt;F) &lt;dbl&gt; |\n",
       "|---|---|---|---|---|---|\n",
       "| x |  1 | 1604.081 | 1604.0809 | 13.20182 | 0.001768622 |\n",
       "| Residuals | 19 | 2308.586 |  121.5045 |       NA |          NA |\n",
       "\n"
      ],
      "text/plain": [
       "          Df Sum Sq   Mean Sq   F value  Pr(>F)     \n",
       "x          1 1604.081 1604.0809 13.20182 0.001768622\n",
       "Residuals 19 2308.586  121.5045       NA          NA"
      ]
     },
     "metadata": {},
     "output_type": "display_data"
    }
   ],
   "source": [
    "anova(model)"
   ]
  },
  {
   "cell_type": "code",
   "execution_count": 52,
   "id": "64165c32-2ce4-487b-a3ce-bd2f95fb877c",
   "metadata": {},
   "outputs": [
    {
     "data": {
      "text/html": [
       "4.3807496923318"
      ],
      "text/latex": [
       "4.3807496923318"
      ],
      "text/markdown": [
       "4.3807496923318"
      ],
      "text/plain": [
       "[1] 4.38075"
      ]
     },
     "metadata": {},
     "output_type": "display_data"
    }
   ],
   "source": [
    "qf(0.95,1,19)"
   ]
  },
  {
   "cell_type": "markdown",
   "id": "c6cc5fc4-e47f-47dc-ae48-d77be009060d",
   "metadata": {},
   "source": [
    "$F_0 = 13.20 > F_{0.05}(1,19) = 4.38$, 회귀직선은 유의하다"
   ]
  },
  {
   "cell_type": "markdown",
   "id": "7e4e8926-44be-4ccb-9d60-46107a3fb9f5",
   "metadata": {},
   "source": [
    "$\\sigma^2 \\sim MSE$"
   ]
  },
  {
   "cell_type": "code",
   "execution_count": 83,
   "id": "def777e5-252c-4b39-94a9-f4ff22b6c6ea",
   "metadata": {},
   "outputs": [],
   "source": [
    "MSE = 121.505"
   ]
  },
  {
   "cell_type": "code",
   "execution_count": 84,
   "id": "81329d18-98e0-4b66-85a6-7dcc9df0aad1",
   "metadata": {},
   "outputs": [
    {
     "data": {
      "text/html": [
       "11.0229306447968"
      ],
      "text/latex": [
       "11.0229306447968"
      ],
      "text/markdown": [
       "11.0229306447968"
      ],
      "text/plain": [
       "[1] 11.02293"
      ]
     },
     "metadata": {},
     "output_type": "display_data"
    }
   ],
   "source": [
    "sqrt(MSE)"
   ]
  },
  {
   "cell_type": "code",
   "execution_count": 91,
   "id": "dcb60703-7b5a-4958-842e-f7be070caa23",
   "metadata": {},
   "outputs": [],
   "source": [
    "res = df$y - (109.874 - 1.127*df$x)"
   ]
  },
  {
   "cell_type": "code",
   "execution_count": 94,
   "id": "a73ca929-a23d-4d27-a911-fe79c9f8435e",
   "metadata": {},
   "outputs": [],
   "source": [
    "h = 1/21 + (df$x - mean(df$x))^2/(1604.08)"
   ]
  },
  {
   "cell_type": "code",
   "execution_count": 97,
   "id": "f5cd56dd-844e-44a2-9524-89311177ebcc",
   "metadata": {},
   "outputs": [],
   "source": [
    "ri = res/(sqrt(MSE)*sqrt(1-h))"
   ]
  },
  {
   "cell_type": "code",
   "execution_count": 98,
   "id": "51f50cc8-6b72-4fb8-a99b-c5ff10611024",
   "metadata": {},
   "outputs": [],
   "source": [
    "ri2 = res/(((19*sqrt(MSE) - res^2/(1-h))/18)*sqrt(1-h))"
   ]
  },
  {
   "cell_type": "code",
   "execution_count": 101,
   "id": "8b075d89-7f24-482f-9e0b-fffaa0000541",
   "metadata": {},
   "outputs": [
    {
     "data": {
      "text/html": [
       "<table class=\"dataframe\">\n",
       "<caption>A data.frame: 21 × 5</caption>\n",
       "<thead>\n",
       "\t<tr><th scope=col>rep.1.21.</th><th scope=col>res</th><th scope=col>h</th><th scope=col>ri</th><th scope=col>ri2</th></tr>\n",
       "\t<tr><th scope=col>&lt;dbl&gt;</th><th scope=col>&lt;dbl&gt;</th><th scope=col>&lt;dbl&gt;</th><th scope=col>&lt;dbl&gt;</th><th scope=col>&lt;dbl&gt;</th></tr>\n",
       "</thead>\n",
       "<tbody>\n",
       "\t<tr><td> 1</td><td>  2.031</td><td>0.0479</td><td> 0.1888</td><td>  0.1827</td></tr>\n",
       "\t<tr><td> 2</td><td> -9.572</td><td>0.1318</td><td>-0.9319</td><td> -1.7796</td></tr>\n",
       "\t<tr><td> 3</td><td>-15.604</td><td>0.0596</td><td>-1.4598</td><td>  5.8540</td></tr>\n",
       "\t<tr><td> 4</td><td> -8.731</td><td>0.0657</td><td>-0.8194</td><td> -1.2717</td></tr>\n",
       "\t<tr><td> 5</td><td>  9.031</td><td>0.0479</td><td> 0.8396</td><td>  1.3459</td></tr>\n",
       "\t<tr><td> 6</td><td> -0.334</td><td>0.0673</td><td>-0.0314</td><td> -0.0297</td></tr>\n",
       "\t<tr><td> 7</td><td>  3.412</td><td>0.0558</td><td> 0.3185</td><td>  0.3207</td></tr>\n",
       "\t<tr><td> 8</td><td>  2.523</td><td>0.0547</td><td> 0.2354</td><td>  0.2304</td></tr>\n",
       "\t<tr><td> 9</td><td>  3.142</td><td>0.0730</td><td> 0.2961</td><td>  0.2955</td></tr>\n",
       "\t<tr><td>10</td><td>  6.666</td><td>0.0673</td><td> 0.6262</td><td>  0.7679</td></tr>\n",
       "\t<tr><td>11</td><td> 11.015</td><td>0.0816</td><td> 1.0427</td><td>  2.6755</td></tr>\n",
       "\t<tr><td>12</td><td> -3.731</td><td>0.0657</td><td>-0.3502</td><td> -0.3571</td></tr>\n",
       "\t<tr><td>13</td><td>-15.604</td><td>0.0596</td><td>-1.4598</td><td>  5.8540</td></tr>\n",
       "\t<tr><td>14</td><td>-13.477</td><td>0.0547</td><td>-1.2575</td><td>-14.4335</td></tr>\n",
       "\t<tr><td>15</td><td>  4.523</td><td>0.0547</td><td> 0.4220</td><td>  0.4459</td></tr>\n",
       "\t<tr><td>16</td><td>  1.396</td><td>0.0596</td><td> 0.1306</td><td>  0.1250</td></tr>\n",
       "\t<tr><td>17</td><td>  8.650</td><td>0.0512</td><td> 0.8056</td><td>  1.2241</td></tr>\n",
       "\t<tr><td>18</td><td> -5.540</td><td>0.5232</td><td>-0.7278</td><td> -0.9954</td></tr>\n",
       "\t<tr><td>19</td><td> 30.285</td><td>0.0519</td><td> 2.8216</td><td> -0.7386</td></tr>\n",
       "\t<tr><td>20</td><td>-11.477</td><td>0.0547</td><td>-1.0709</td><td> -3.0318</td></tr>\n",
       "\t<tr><td>21</td><td>  1.396</td><td>0.0596</td><td> 0.1306</td><td>  0.1250</td></tr>\n",
       "</tbody>\n",
       "</table>\n"
      ],
      "text/latex": [
       "A data.frame: 21 × 5\n",
       "\\begin{tabular}{lllll}\n",
       " rep.1.21. & res & h & ri & ri2\\\\\n",
       " <dbl> & <dbl> & <dbl> & <dbl> & <dbl>\\\\\n",
       "\\hline\n",
       "\t  1 &   2.031 & 0.0479 &  0.1888 &   0.1827\\\\\n",
       "\t  2 &  -9.572 & 0.1318 & -0.9319 &  -1.7796\\\\\n",
       "\t  3 & -15.604 & 0.0596 & -1.4598 &   5.8540\\\\\n",
       "\t  4 &  -8.731 & 0.0657 & -0.8194 &  -1.2717\\\\\n",
       "\t  5 &   9.031 & 0.0479 &  0.8396 &   1.3459\\\\\n",
       "\t  6 &  -0.334 & 0.0673 & -0.0314 &  -0.0297\\\\\n",
       "\t  7 &   3.412 & 0.0558 &  0.3185 &   0.3207\\\\\n",
       "\t  8 &   2.523 & 0.0547 &  0.2354 &   0.2304\\\\\n",
       "\t  9 &   3.142 & 0.0730 &  0.2961 &   0.2955\\\\\n",
       "\t 10 &   6.666 & 0.0673 &  0.6262 &   0.7679\\\\\n",
       "\t 11 &  11.015 & 0.0816 &  1.0427 &   2.6755\\\\\n",
       "\t 12 &  -3.731 & 0.0657 & -0.3502 &  -0.3571\\\\\n",
       "\t 13 & -15.604 & 0.0596 & -1.4598 &   5.8540\\\\\n",
       "\t 14 & -13.477 & 0.0547 & -1.2575 & -14.4335\\\\\n",
       "\t 15 &   4.523 & 0.0547 &  0.4220 &   0.4459\\\\\n",
       "\t 16 &   1.396 & 0.0596 &  0.1306 &   0.1250\\\\\n",
       "\t 17 &   8.650 & 0.0512 &  0.8056 &   1.2241\\\\\n",
       "\t 18 &  -5.540 & 0.5232 & -0.7278 &  -0.9954\\\\\n",
       "\t 19 &  30.285 & 0.0519 &  2.8216 &  -0.7386\\\\\n",
       "\t 20 & -11.477 & 0.0547 & -1.0709 &  -3.0318\\\\\n",
       "\t 21 &   1.396 & 0.0596 &  0.1306 &   0.1250\\\\\n",
       "\\end{tabular}\n"
      ],
      "text/markdown": [
       "\n",
       "A data.frame: 21 × 5\n",
       "\n",
       "| rep.1.21. &lt;dbl&gt; | res &lt;dbl&gt; | h &lt;dbl&gt; | ri &lt;dbl&gt; | ri2 &lt;dbl&gt; |\n",
       "|---|---|---|---|---|\n",
       "|  1 |   2.031 | 0.0479 |  0.1888 |   0.1827 |\n",
       "|  2 |  -9.572 | 0.1318 | -0.9319 |  -1.7796 |\n",
       "|  3 | -15.604 | 0.0596 | -1.4598 |   5.8540 |\n",
       "|  4 |  -8.731 | 0.0657 | -0.8194 |  -1.2717 |\n",
       "|  5 |   9.031 | 0.0479 |  0.8396 |   1.3459 |\n",
       "|  6 |  -0.334 | 0.0673 | -0.0314 |  -0.0297 |\n",
       "|  7 |   3.412 | 0.0558 |  0.3185 |   0.3207 |\n",
       "|  8 |   2.523 | 0.0547 |  0.2354 |   0.2304 |\n",
       "|  9 |   3.142 | 0.0730 |  0.2961 |   0.2955 |\n",
       "| 10 |   6.666 | 0.0673 |  0.6262 |   0.7679 |\n",
       "| 11 |  11.015 | 0.0816 |  1.0427 |   2.6755 |\n",
       "| 12 |  -3.731 | 0.0657 | -0.3502 |  -0.3571 |\n",
       "| 13 | -15.604 | 0.0596 | -1.4598 |   5.8540 |\n",
       "| 14 | -13.477 | 0.0547 | -1.2575 | -14.4335 |\n",
       "| 15 |   4.523 | 0.0547 |  0.4220 |   0.4459 |\n",
       "| 16 |   1.396 | 0.0596 |  0.1306 |   0.1250 |\n",
       "| 17 |   8.650 | 0.0512 |  0.8056 |   1.2241 |\n",
       "| 18 |  -5.540 | 0.5232 | -0.7278 |  -0.9954 |\n",
       "| 19 |  30.285 | 0.0519 |  2.8216 |  -0.7386 |\n",
       "| 20 | -11.477 | 0.0547 | -1.0709 |  -3.0318 |\n",
       "| 21 |   1.396 | 0.0596 |  0.1306 |   0.1250 |\n",
       "\n"
      ],
      "text/plain": [
       "   rep.1.21. res     h      ri      ri2     \n",
       "1   1          2.031 0.0479  0.1888   0.1827\n",
       "2   2         -9.572 0.1318 -0.9319  -1.7796\n",
       "3   3        -15.604 0.0596 -1.4598   5.8540\n",
       "4   4         -8.731 0.0657 -0.8194  -1.2717\n",
       "5   5          9.031 0.0479  0.8396   1.3459\n",
       "6   6         -0.334 0.0673 -0.0314  -0.0297\n",
       "7   7          3.412 0.0558  0.3185   0.3207\n",
       "8   8          2.523 0.0547  0.2354   0.2304\n",
       "9   9          3.142 0.0730  0.2961   0.2955\n",
       "10 10          6.666 0.0673  0.6262   0.7679\n",
       "11 11         11.015 0.0816  1.0427   2.6755\n",
       "12 12         -3.731 0.0657 -0.3502  -0.3571\n",
       "13 13        -15.604 0.0596 -1.4598   5.8540\n",
       "14 14        -13.477 0.0547 -1.2575 -14.4335\n",
       "15 15          4.523 0.0547  0.4220   0.4459\n",
       "16 16          1.396 0.0596  0.1306   0.1250\n",
       "17 17          8.650 0.0512  0.8056   1.2241\n",
       "18 18         -5.540 0.5232 -0.7278  -0.9954\n",
       "19 19         30.285 0.0519  2.8216  -0.7386\n",
       "20 20        -11.477 0.0547 -1.0709  -3.0318\n",
       "21 21          1.396 0.0596  0.1306   0.1250"
      ]
     },
     "metadata": {},
     "output_type": "display_data"
    }
   ],
   "source": [
    "round(data.frame(rep(1:21),res,h,ri,ri2),4)"
   ]
  },
  {
   "cell_type": "markdown",
   "id": "79f250c5-f1ad-4db6-aa62-74052aaeafe7",
   "metadata": {},
   "source": [
    "$2\\bar{h}$"
   ]
  },
  {
   "cell_type": "code",
   "execution_count": 85,
   "id": "4afb8d05-8870-4a7f-ab7c-bdcfbc3ccdee",
   "metadata": {},
   "outputs": [
    {
     "data": {
      "text/html": [
       "0.19047619047619"
      ],
      "text/latex": [
       "0.19047619047619"
      ],
      "text/markdown": [
       "0.19047619047619"
      ],
      "text/plain": [
       "[1] 0.1904762"
      ]
     },
     "metadata": {},
     "output_type": "display_data"
    }
   ],
   "source": [
    "2*(2/21)"
   ]
  },
  {
   "cell_type": "markdown",
   "id": "69147e6f-6c14-4e61-8d7a-ae4dfa251bf3",
   "metadata": {},
   "source": [
    "18번째가 2hbar 보다 크니까 지렛대점"
   ]
  },
  {
   "cell_type": "code",
   "execution_count": 86,
   "id": "d5da82e5-fc0b-4c4a-b513-5d5956ab8333",
   "metadata": {},
   "outputs": [
    {
     "data": {
      "text/html": [
       "2.10092204024104"
      ],
      "text/latex": [
       "2.10092204024104"
      ],
      "text/markdown": [
       "2.10092204024104"
      ],
      "text/plain": [
       "[1] 2.100922"
      ]
     },
     "metadata": {},
     "output_type": "display_data"
    }
   ],
   "source": [
    "qt(0.975,18)"
   ]
  },
  {
   "cell_type": "markdown",
   "id": "e3f0bab6-a997-471f-a4a5-5e3cd27fa444",
   "metadata": {},
   "source": [
    "19번째가 ri2 t보다 크니까 이상점"
   ]
  },
  {
   "cell_type": "code",
   "execution_count": null,
   "id": "0eb7aa34-4e7a-4cec-b8ac-187d098517ee",
   "metadata": {},
   "outputs": [],
   "source": []
  }
 ],
 "metadata": {
  "kernelspec": {
   "display_name": "R",
   "language": "R",
   "name": "ir"
  },
  "language_info": {
   "codemirror_mode": "r",
   "file_extension": ".r",
   "mimetype": "text/x-r-source",
   "name": "R",
   "pygments_lexer": "r",
   "version": "4.1.2"
  }
 },
 "nbformat": 4,
 "nbformat_minor": 5
}
