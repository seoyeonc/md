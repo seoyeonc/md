{
 "cells": [
  {
   "cell_type": "raw",
   "id": "86f7b3ca-27dc-447f-9e9a-4c04a668e0e8",
   "metadata": {
    "id": "cac470df-29e7-4148-9bbd-d8b9a32fa570",
    "tags": []
   },
   "source": [
    "---\n",
    "title: \"Regression HW 3\"\n",
    "author: \"SEOYEON CHOI\"\n",
    "date: \"2022-11-21\"\n",
    "categories:\n",
    "  - Advanced Regression Analysis\n",
    "---"
   ]
  },
  {
   "cell_type": "markdown",
   "id": "44730f2b-795c-4212-99e3-1ba2f29471af",
   "metadata": {},
   "source": [
    "고급회귀분석 과제, CH03,07"
   ]
  },
  {
   "cell_type": "markdown",
   "id": "751e4255-dbc7-4263-a193-962d277d9cf5",
   "metadata": {},
   "source": [
    "---"
   ]
  },
  {
   "cell_type": "markdown",
   "id": "c4181c8d-5151-4fa6-ad61-5fafd7d0d7c8",
   "metadata": {},
   "source": [
    "고급회귀분석 세번째 과제입니다.\n",
    "\n",
    " \n",
    "\n",
    "제출 기한 : 11월 21일 \n",
    "\n",
    " \n",
    "\n",
    "제출 방법\n",
    "\n",
    "  - 직접 제출(607호) 도 가능하지만, \n",
    "\n",
    "  - 문서 작성 후 pdf로 변환(★★★)하여 lms에 제출을 추천\n",
    "\n",
    "  (pdf 아닌 문서는 미제출로 간주)\n",
    "\n",
    " \n",
    "\n",
    "주의사항\n",
    "\n",
    "- pdf로 꼭 변환하여 제출\n",
    "\n",
    "- 풀이가 꼭 있어야 함 (답만 적혀 있는 경우 '0'점 처리)\n",
    "\n",
    "- 부정행위 시 'F'학점 \n",
    "\n",
    "- 계산은 R로 해도 되지만 계산 풀이 과정이 꼭 있어야 함!!\n",
    "\n",
    "예) R에서 lm으로 beta의 추정량을 구하면 안 됨. 수업 시간에 배운 식으로 풀이를 적어야 함.\n",
    "\n",
    "- 행렬식 계산은 R로 해도 됩니다.\n",
    "\n",
    " \n",
    "\n",
    " \n",
    "\n",
    "************ R을 이용해서 푸는 문제는, R 코드도 같이 업로드."
   ]
  },
  {
   "cell_type": "markdown",
   "id": "989f9719-0e05-4885-9921-64d6b71acb3f",
   "metadata": {},
   "source": [
    "---"
   ]
  },
  {
   "cell_type": "markdown",
   "id": "67d0a571-11e9-4514-b7b7-a7032dd5d570",
   "metadata": {},
   "source": [
    "#### 1. 어떤 큰 공장에서 동일한 기계들의 정비기록에 관한 표본자료를 취하였다. 이는 기계의 사용연도(age of machines)와 정비비용(maintenance cost) 간에 어떤 관계가 있는가를 밝혀내기 위한 것이다. 그 자료는 다음과 같다 (표본의 크기 $n = 14$)."
   ]
  },
  {
   "cell_type": "markdown",
   "id": "b9c60c94-7031-47de-aaf8-73ea9bb8f757",
   "metadata": {},
   "source": [
    "|사용연도$X$(단위:년)|정비비용$Y$(단위:1,000원)|\n",
    "|:---:|:---:|\n",
    "|3|39|\n",
    "|1|24|\n",
    "|5|115|\n",
    "|8|105|\n",
    "|1|50|\n",
    "|4|86|\n",
    "|2|67|\n",
    "|6|90|\n",
    "|9|140|\n",
    "|3|112|\n",
    "|5|70|\n",
    "|7|186|\n",
    "|2|43|\n",
    "|6|126|"
   ]
  },
  {
   "cell_type": "code",
   "execution_count": 1,
   "id": "70882de7-cb1f-49eb-9547-c30fc390789f",
   "metadata": {},
   "outputs": [],
   "source": [
    "dt <- data.frame(y=c(39,24,115,105,50,86,67,90,140,112,70,186,43,126), \n",
    "                 x=c(3,1,5,8,1,4,2,6,9,3,5,7,2,6))"
   ]
  },
  {
   "cell_type": "code",
   "execution_count": 2,
   "id": "41760b1e-0ab7-44a9-b660-943dc4b1def0",
   "metadata": {},
   "outputs": [],
   "source": [
    "x <- matrix(c(rep(1,14), dt$x), ncol=2)"
   ]
  },
  {
   "cell_type": "code",
   "execution_count": 3,
   "id": "ffcc6071-f04d-4d77-a9e6-06f7b0cdfcb7",
   "metadata": {},
   "outputs": [],
   "source": [
    "y <- matrix(c(dt$y), ncol=1)"
   ]
  },
  {
   "cell_type": "markdown",
   "id": "d392fcfa-4a1d-4da7-93f4-6262da22fde2",
   "metadata": {},
   "source": [
    "###### (1) $X^\\top X, X^\\top y, y^\\top y$와 $(X^\\top X)^{-1}$을 구하시오."
   ]
  },
  {
   "cell_type": "code",
   "execution_count": 4,
   "id": "7e6478db-edf9-42b1-9dba-ee2614b9c9e4",
   "metadata": {},
   "outputs": [],
   "source": [
    "xx <- t(x) %*% x"
   ]
  },
  {
   "cell_type": "code",
   "execution_count": 5,
   "id": "14a0977d-b0ca-46d3-92fa-2f2701c75ce8",
   "metadata": {},
   "outputs": [
    {
     "data": {
      "text/html": [
       "<table class=\"dataframe\">\n",
       "<caption>A matrix: 2 × 2 of type dbl</caption>\n",
       "<tbody>\n",
       "\t<tr><td>14</td><td> 62</td></tr>\n",
       "\t<tr><td>62</td><td>360</td></tr>\n",
       "</tbody>\n",
       "</table>\n"
      ],
      "text/latex": [
       "A matrix: 2 × 2 of type dbl\n",
       "\\begin{tabular}{ll}\n",
       "\t 14 &  62\\\\\n",
       "\t 62 & 360\\\\\n",
       "\\end{tabular}\n"
      ],
      "text/markdown": [
       "\n",
       "A matrix: 2 × 2 of type dbl\n",
       "\n",
       "| 14 |  62 |\n",
       "| 62 | 360 |\n",
       "\n"
      ],
      "text/plain": [
       "     [,1] [,2]\n",
       "[1,] 14    62 \n",
       "[2,] 62   360 "
      ]
     },
     "metadata": {},
     "output_type": "display_data"
    }
   ],
   "source": [
    "xx"
   ]
  },
  {
   "cell_type": "code",
   "execution_count": 6,
   "id": "d44c5cac-293b-4780-b3d7-bb36e26a800d",
   "metadata": {},
   "outputs": [],
   "source": [
    "xy <- t(x) %*% y"
   ]
  },
  {
   "cell_type": "code",
   "execution_count": 7,
   "id": "74ae21e6-0108-4a4c-af6a-4f90fee661e4",
   "metadata": {},
   "outputs": [
    {
     "data": {
      "text/html": [
       "<table class=\"dataframe\">\n",
       "<caption>A matrix: 2 × 1 of type dbl</caption>\n",
       "<tbody>\n",
       "\t<tr><td>1253</td></tr>\n",
       "\t<tr><td>6714</td></tr>\n",
       "</tbody>\n",
       "</table>\n"
      ],
      "text/latex": [
       "A matrix: 2 × 1 of type dbl\n",
       "\\begin{tabular}{l}\n",
       "\t 1253\\\\\n",
       "\t 6714\\\\\n",
       "\\end{tabular}\n"
      ],
      "text/markdown": [
       "\n",
       "A matrix: 2 × 1 of type dbl\n",
       "\n",
       "| 1253 |\n",
       "| 6714 |\n",
       "\n"
      ],
      "text/plain": [
       "     [,1]\n",
       "[1,] 1253\n",
       "[2,] 6714"
      ]
     },
     "metadata": {},
     "output_type": "display_data"
    }
   ],
   "source": [
    "xy"
   ]
  },
  {
   "cell_type": "code",
   "execution_count": 8,
   "id": "d5d3878e-bcf4-4d07-a530-b93f5a87b262",
   "metadata": {},
   "outputs": [],
   "source": [
    "yy <- t(y) %*% y"
   ]
  },
  {
   "cell_type": "code",
   "execution_count": 9,
   "id": "eec6d936-4385-43b2-8b1b-5ee6c6c67306",
   "metadata": {},
   "outputs": [
    {
     "data": {
      "text/html": [
       "<table class=\"dataframe\">\n",
       "<caption>A matrix: 1 × 1 of type dbl</caption>\n",
       "<tbody>\n",
       "\t<tr><td>138197</td></tr>\n",
       "</tbody>\n",
       "</table>\n"
      ],
      "text/latex": [
       "A matrix: 1 × 1 of type dbl\n",
       "\\begin{tabular}{l}\n",
       "\t 138197\\\\\n",
       "\\end{tabular}\n"
      ],
      "text/markdown": [
       "\n",
       "A matrix: 1 × 1 of type dbl\n",
       "\n",
       "| 138197 |\n",
       "\n"
      ],
      "text/plain": [
       "     [,1]  \n",
       "[1,] 138197"
      ]
     },
     "metadata": {},
     "output_type": "display_data"
    }
   ],
   "source": [
    "yy"
   ]
  },
  {
   "cell_type": "code",
   "execution_count": 10,
   "id": "853cc850-4ea6-4d96-93f9-836ffac6e68f",
   "metadata": {},
   "outputs": [],
   "source": [
    "xx_i <- solve(xx)"
   ]
  },
  {
   "cell_type": "code",
   "execution_count": 11,
   "id": "7668b4ff-4e93-4c91-aad5-8e19d2bd9dee",
   "metadata": {},
   "outputs": [
    {
     "data": {
      "text/html": [
       "<table class=\"dataframe\">\n",
       "<caption>A matrix: 2 × 2 of type dbl</caption>\n",
       "<tbody>\n",
       "\t<tr><td> 0.30100334</td><td>-0.05183946</td></tr>\n",
       "\t<tr><td>-0.05183946</td><td> 0.01170569</td></tr>\n",
       "</tbody>\n",
       "</table>\n"
      ],
      "text/latex": [
       "A matrix: 2 × 2 of type dbl\n",
       "\\begin{tabular}{ll}\n",
       "\t  0.30100334 & -0.05183946\\\\\n",
       "\t -0.05183946 &  0.01170569\\\\\n",
       "\\end{tabular}\n"
      ],
      "text/markdown": [
       "\n",
       "A matrix: 2 × 2 of type dbl\n",
       "\n",
       "|  0.30100334 | -0.05183946 |\n",
       "| -0.05183946 |  0.01170569 |\n",
       "\n"
      ],
      "text/plain": [
       "     [,1]        [,2]       \n",
       "[1,]  0.30100334 -0.05183946\n",
       "[2,] -0.05183946  0.01170569"
      ]
     },
     "metadata": {},
     "output_type": "display_data"
    }
   ],
   "source": [
    "xx_i"
   ]
  },
  {
   "cell_type": "markdown",
   "id": "ec92a9df-be79-47dc-bec5-db86ff76dff9",
   "metadata": {},
   "source": [
    "###### (2) $\\hat{\\beta} = (X^\\top X)^{-1}X^\\top y$를 구하고, 적합된 회귀선형을 써 보아라."
   ]
  },
  {
   "cell_type": "code",
   "execution_count": 12,
   "id": "a3b20f9a-1ccd-4df6-b4d7-5d1089dd638c",
   "metadata": {},
   "outputs": [],
   "source": [
    "betahat <- xx_i %*%  xy"
   ]
  },
  {
   "cell_type": "code",
   "execution_count": 13,
   "id": "9a48cd44-f69d-456a-b11c-1c5ca61f97e5",
   "metadata": {},
   "outputs": [
    {
     "data": {
      "text/html": [
       "<table class=\"dataframe\">\n",
       "<caption>A matrix: 2 × 1 of type dbl</caption>\n",
       "<tbody>\n",
       "\t<tr><td>29.10702</td></tr>\n",
       "\t<tr><td>13.63712</td></tr>\n",
       "</tbody>\n",
       "</table>\n"
      ],
      "text/latex": [
       "A matrix: 2 × 1 of type dbl\n",
       "\\begin{tabular}{l}\n",
       "\t 29.10702\\\\\n",
       "\t 13.63712\\\\\n",
       "\\end{tabular}\n"
      ],
      "text/markdown": [
       "\n",
       "A matrix: 2 × 1 of type dbl\n",
       "\n",
       "| 29.10702 |\n",
       "| 13.63712 |\n",
       "\n"
      ],
      "text/plain": [
       "     [,1]    \n",
       "[1,] 29.10702\n",
       "[2,] 13.63712"
      ]
     },
     "metadata": {},
     "output_type": "display_data"
    }
   ],
   "source": [
    "betahat"
   ]
  },
  {
   "cell_type": "markdown",
   "id": "c9bdac9e-dc97-4c1f-9243-96a6c0e2eb30",
   "metadata": {},
   "source": [
    "$y = 29.1 + 13.6x$"
   ]
  },
  {
   "cell_type": "code",
   "execution_count": 14,
   "id": "45bed43d-ed04-4db8-9591-fb5afe684ab0",
   "metadata": {},
   "outputs": [
    {
     "data": {
      "text/html": [
       "<style>\n",
       ".dl-inline {width: auto; margin:0; padding: 0}\n",
       ".dl-inline>dt, .dl-inline>dd {float: none; width: auto; display: inline-block}\n",
       ".dl-inline>dt::after {content: \":\\0020\"; padding-right: .5ex}\n",
       ".dl-inline>dt:not(:first-of-type) {padding-left: .5ex}\n",
       "</style><dl class=dl-inline><dt>(Intercept)</dt><dd>29.1070234113712</dd><dt>x</dt><dd>13.6371237458194</dd></dl>\n"
      ],
      "text/latex": [
       "\\begin{description*}\n",
       "\\item[(Intercept)] 29.1070234113712\n",
       "\\item[x] 13.6371237458194\n",
       "\\end{description*}\n"
      ],
      "text/markdown": [
       "(Intercept)\n",
       ":   29.1070234113712x\n",
       ":   13.6371237458194\n",
       "\n"
      ],
      "text/plain": [
       "(Intercept)           x \n",
       "   29.10702    13.63712 "
      ]
     },
     "metadata": {},
     "output_type": "display_data"
    }
   ],
   "source": [
    "coef(lm(y~x, dt))"
   ]
  },
  {
   "cell_type": "markdown",
   "id": "687b7af0-8e5d-4e98-aae9-8783d64ddb0d",
   "metadata": {},
   "source": [
    "###### (3) $\\sigma^2$을 MSE 로 추정할 경우, $\\hat{\\beta}$의 분산-공분산행렬의 추정은 $\\hat{Var}(\\hat{\\beta}) = (X^\\top X)^{-1}$(MSE)이다. 먼저 분산분석하여 MSE 를 구하고 $\\hat{Var}(\\hat{\\beta})$을 구하시오"
   ]
  },
  {
   "cell_type": "code",
   "execution_count": 15,
   "id": "f1304874-588b-4c91-8f97-4a36d5525166",
   "metadata": {},
   "outputs": [],
   "source": [
    "n <- 14"
   ]
  },
  {
   "cell_type": "code",
   "execution_count": 16,
   "id": "e52551d3-b5c2-49b0-830e-1c80e58e1cfc",
   "metadata": {},
   "outputs": [],
   "source": [
    "p <- 1"
   ]
  },
  {
   "cell_type": "code",
   "execution_count": 17,
   "id": "09d6c6cc-2c46-40bd-a1ee-dd8cdd53275f",
   "metadata": {},
   "outputs": [],
   "source": [
    "In = diag(rep(1,n))"
   ]
  },
  {
   "cell_type": "code",
   "execution_count": 18,
   "id": "5f6fb0b3-c54f-4822-8f90-ff8e6d2edcff",
   "metadata": {},
   "outputs": [],
   "source": [
    "H = x %*% xx_i %*% t(x)"
   ]
  },
  {
   "cell_type": "markdown",
   "id": "7b2ab838-024b-498d-b72d-ff00a7aebb8a",
   "metadata": {},
   "source": [
    "$SSE = y^\\top(I-H)y$\n",
    "\n",
    "$SST = y^\\top y - n(\\bar{y})^2$"
   ]
  },
  {
   "cell_type": "code",
   "execution_count": 19,
   "id": "9a271945-aed3-47dc-9a7b-a91983c03015",
   "metadata": {},
   "outputs": [
    {
     "data": {
      "text/html": [
       "<table class=\"dataframe\">\n",
       "<caption>A matrix: 1 × 1 of type dbl</caption>\n",
       "<tbody>\n",
       "\t<tr><td>10166.25</td></tr>\n",
       "</tbody>\n",
       "</table>\n"
      ],
      "text/latex": [
       "A matrix: 1 × 1 of type dbl\n",
       "\\begin{tabular}{l}\n",
       "\t 10166.25\\\\\n",
       "\\end{tabular}\n"
      ],
      "text/markdown": [
       "\n",
       "A matrix: 1 × 1 of type dbl\n",
       "\n",
       "| 10166.25 |\n",
       "\n"
      ],
      "text/plain": [
       "     [,1]    \n",
       "[1,] 10166.25"
      ]
     },
     "metadata": {},
     "output_type": "display_data"
    }
   ],
   "source": [
    "sse = t(y) %*% (In-H) %*% y\n",
    "sse"
   ]
  },
  {
   "cell_type": "code",
   "execution_count": 20,
   "id": "2cf2e251-4370-4467-8511-f7e6dc09f52c",
   "metadata": {},
   "outputs": [
    {
     "data": {
      "text/html": [
       "<table class=\"dataframe\">\n",
       "<caption>A matrix: 1 × 1 of type dbl</caption>\n",
       "<tbody>\n",
       "\t<tr><td>26053.5</td></tr>\n",
       "</tbody>\n",
       "</table>\n"
      ],
      "text/latex": [
       "A matrix: 1 × 1 of type dbl\n",
       "\\begin{tabular}{l}\n",
       "\t 26053.5\\\\\n",
       "\\end{tabular}\n"
      ],
      "text/markdown": [
       "\n",
       "A matrix: 1 × 1 of type dbl\n",
       "\n",
       "| 26053.5 |\n",
       "\n"
      ],
      "text/plain": [
       "     [,1]   \n",
       "[1,] 26053.5"
      ]
     },
     "metadata": {},
     "output_type": "display_data"
    }
   ],
   "source": [
    "sst = t(y) %*% y - n * mean(y)^2\n",
    "sst"
   ]
  },
  {
   "cell_type": "code",
   "execution_count": 21,
   "id": "3760cf5c-2580-481b-89dc-3130755bcc00",
   "metadata": {},
   "outputs": [
    {
     "data": {
      "text/html": [
       "<table class=\"dataframe\">\n",
       "<caption>A matrix: 1 × 1 of type dbl</caption>\n",
       "<tbody>\n",
       "\t<tr><td>15887.25</td></tr>\n",
       "</tbody>\n",
       "</table>\n"
      ],
      "text/latex": [
       "A matrix: 1 × 1 of type dbl\n",
       "\\begin{tabular}{l}\n",
       "\t 15887.25\\\\\n",
       "\\end{tabular}\n"
      ],
      "text/markdown": [
       "\n",
       "A matrix: 1 × 1 of type dbl\n",
       "\n",
       "| 15887.25 |\n",
       "\n"
      ],
      "text/plain": [
       "     [,1]    \n",
       "[1,] 15887.25"
      ]
     },
     "metadata": {},
     "output_type": "display_data"
    }
   ],
   "source": [
    "ssr = sst- sse\n",
    "ssr"
   ]
  },
  {
   "cell_type": "code",
   "execution_count": 22,
   "id": "c5826318-0c1a-4de4-95f9-1b16d4824e2b",
   "metadata": {},
   "outputs": [
    {
     "data": {
      "text/html": [
       "<table class=\"dataframe\">\n",
       "<caption>A matrix: 1 × 1 of type dbl</caption>\n",
       "<tbody>\n",
       "\t<tr><td>15887.25</td></tr>\n",
       "</tbody>\n",
       "</table>\n"
      ],
      "text/latex": [
       "A matrix: 1 × 1 of type dbl\n",
       "\\begin{tabular}{l}\n",
       "\t 15887.25\\\\\n",
       "\\end{tabular}\n"
      ],
      "text/markdown": [
       "\n",
       "A matrix: 1 × 1 of type dbl\n",
       "\n",
       "| 15887.25 |\n",
       "\n"
      ],
      "text/plain": [
       "     [,1]    \n",
       "[1,] 15887.25"
      ]
     },
     "metadata": {},
     "output_type": "display_data"
    }
   ],
   "source": [
    "msr = ssr/p\n",
    "msr"
   ]
  },
  {
   "cell_type": "code",
   "execution_count": 23,
   "id": "ec5173e8-aae0-4c2e-8fc8-a6b7464e4d64",
   "metadata": {},
   "outputs": [
    {
     "data": {
      "text/html": [
       "<table class=\"dataframe\">\n",
       "<caption>A matrix: 1 × 1 of type dbl</caption>\n",
       "<tbody>\n",
       "\t<tr><td>847.1876</td></tr>\n",
       "</tbody>\n",
       "</table>\n"
      ],
      "text/latex": [
       "A matrix: 1 × 1 of type dbl\n",
       "\\begin{tabular}{l}\n",
       "\t 847.1876\\\\\n",
       "\\end{tabular}\n"
      ],
      "text/markdown": [
       "\n",
       "A matrix: 1 × 1 of type dbl\n",
       "\n",
       "| 847.1876 |\n",
       "\n"
      ],
      "text/plain": [
       "     [,1]    \n",
       "[1,] 847.1876"
      ]
     },
     "metadata": {},
     "output_type": "display_data"
    }
   ],
   "source": [
    "mse = sse/(n-p-1)\n",
    "mse"
   ]
  },
  {
   "cell_type": "code",
   "execution_count": 24,
   "id": "6a220262-acb2-48c1-88e6-7b5cdab8c4cf",
   "metadata": {},
   "outputs": [
    {
     "data": {
      "text/html": [
       "<table class=\"dataframe\">\n",
       "<caption>A matrix: 1 × 1 of type dbl</caption>\n",
       "<tbody>\n",
       "\t<tr><td>18.75293</td></tr>\n",
       "</tbody>\n",
       "</table>\n"
      ],
      "text/latex": [
       "A matrix: 1 × 1 of type dbl\n",
       "\\begin{tabular}{l}\n",
       "\t 18.75293\\\\\n",
       "\\end{tabular}\n"
      ],
      "text/markdown": [
       "\n",
       "A matrix: 1 × 1 of type dbl\n",
       "\n",
       "| 18.75293 |\n",
       "\n"
      ],
      "text/plain": [
       "     [,1]    \n",
       "[1,] 18.75293"
      ]
     },
     "metadata": {},
     "output_type": "display_data"
    }
   ],
   "source": [
    "f0 = msr/mse\n",
    "f0"
   ]
  },
  {
   "cell_type": "code",
   "execution_count": 25,
   "id": "8171d449-0846-4884-8f8c-6ef16df0dba1",
   "metadata": {},
   "outputs": [
    {
     "data": {
      "text/html": [
       "4.74722534672251"
      ],
      "text/latex": [
       "4.74722534672251"
      ],
      "text/markdown": [
       "4.74722534672251"
      ],
      "text/plain": [
       "[1] 4.747225"
      ]
     },
     "metadata": {},
     "output_type": "display_data"
    }
   ],
   "source": [
    "qf(0.95,p,n-p-1)"
   ]
  },
  {
   "cell_type": "markdown",
   "id": "721d7afe-9db4-4145-b80c-8bfd2a03c31d",
   "metadata": {},
   "source": [
    "**분산분석표**\n",
    "\n",
    "|요인|제곱합|자유도(df)|평균제곱(MS)|$F_0$|유의확률\n",
    "|:--:|:--:|:--:|:--:|:--:|:--:|\n",
    "|회귀|15887.25|1|15887.25|18.75293|4.747225|\n",
    "|잔차|10166.25|12|847.19|||\n",
    "|계|26053.5|13||||"
   ]
  },
  {
   "cell_type": "code",
   "execution_count": 26,
   "id": "bd64d186-3fe2-4e5e-85f6-252010fe5760",
   "metadata": {},
   "outputs": [],
   "source": [
    "hat_var_betahat <- mse[,] * xx_i"
   ]
  },
  {
   "cell_type": "code",
   "execution_count": 27,
   "id": "d51194a3-7a30-4aaa-85f8-ca9aaa7f2c52",
   "metadata": {},
   "outputs": [
    {
     "data": {
      "text/html": [
       "<table class=\"dataframe\">\n",
       "<caption>A matrix: 2 × 2 of type dbl</caption>\n",
       "<thead>\n",
       "\t<tr><th></th><th scope=col>(Intercept)</th><th scope=col>x</th></tr>\n",
       "</thead>\n",
       "<tbody>\n",
       "\t<tr><th scope=row>(Intercept)</th><td>255.00629</td><td>-43.917750</td></tr>\n",
       "\t<tr><th scope=row>x</th><td>-43.91775</td><td>  9.916911</td></tr>\n",
       "</tbody>\n",
       "</table>\n"
      ],
      "text/latex": [
       "A matrix: 2 × 2 of type dbl\n",
       "\\begin{tabular}{r|ll}\n",
       "  & (Intercept) & x\\\\\n",
       "\\hline\n",
       "\t(Intercept) & 255.00629 & -43.917750\\\\\n",
       "\tx & -43.91775 &   9.916911\\\\\n",
       "\\end{tabular}\n"
      ],
      "text/markdown": [
       "\n",
       "A matrix: 2 × 2 of type dbl\n",
       "\n",
       "| <!--/--> | (Intercept) | x |\n",
       "|---|---|---|\n",
       "| (Intercept) | 255.00629 | -43.917750 |\n",
       "| x | -43.91775 |   9.916911 |\n",
       "\n"
      ],
      "text/plain": [
       "            (Intercept) x         \n",
       "(Intercept) 255.00629   -43.917750\n",
       "x           -43.91775     9.916911"
      ]
     },
     "metadata": {},
     "output_type": "display_data"
    }
   ],
   "source": [
    "vcov(lm(y~x, dt))"
   ]
  },
  {
   "cell_type": "markdown",
   "id": "eb183615-9244-4804-9f14-faaea44fd271",
   "metadata": {},
   "source": [
    "#### 2.어떤 공정에서 나오는 제품의 강도$(kg/cm^2)$가 그 공정의 온도와 압력에 어떠한 영향을 받는가를 조사하기 위하여 다음의 데이터를 얻었다."
   ]
  },
  {
   "cell_type": "markdown",
   "id": "df98d671-c959-494f-acbc-12e27799b261",
   "metadata": {},
   "source": [
    "|공정온도$x_1$(단위:°C)|공정압력$x_2$(단위:$psi$)|강도$y$(단위:$kg/cm^2$)|\n",
    "|:---:|:---:|:---:|\n",
    "|195|57|81.4|\n",
    "|179|61|122.2|\n",
    "|205|60|101.7|\n",
    "|204|62|175.6|\n",
    "|201|61|150.3|\n",
    "|184|54|64.8|\n",
    "|210|58|92.1|\n",
    "|209|61|113.8|"
   ]
  },
  {
   "cell_type": "code",
   "execution_count": 28,
   "id": "1b4ce238-6845-4889-adb8-666cd9f82fc2",
   "metadata": {},
   "outputs": [],
   "source": [
    "dt <- data.frame(y=c(81.4,122.2,101.7,175.6,150.3,64.8,92.1,113.8),\n",
    "                 x1 = c(195,179,205,204,201,184,210,209),\n",
    "                 x2 = c(57,61,60,62,61,54,58,61))"
   ]
  },
  {
   "cell_type": "code",
   "execution_count": 29,
   "id": "ec2df1fa-51de-436e-a36b-5bf2423bfc79",
   "metadata": {},
   "outputs": [],
   "source": [
    "m2 <- lm(y~., dt)"
   ]
  },
  {
   "cell_type": "code",
   "execution_count": 30,
   "id": "f577b9d6-8521-4090-ac7b-c0caed8b20a7",
   "metadata": {},
   "outputs": [
    {
     "data": {
      "text/plain": [
       "\n",
       "Call:\n",
       "lm(formula = y ~ ., data = dt)\n",
       "\n",
       "Residuals:\n",
       "      1       2       3       4       5       6       7       8 \n",
       " -5.259 -14.775 -18.742  31.259  17.279  11.744  -3.723 -17.783 \n",
       "\n",
       "Coefficients:\n",
       "             Estimate Std. Error t value Pr(>|t|)  \n",
       "(Intercept) -554.3112   196.9775  -2.814   0.0374 *\n",
       "x1            -0.1797     0.7626  -0.236   0.8230  \n",
       "x2            11.8600     3.2301   3.672   0.0144 *\n",
       "---\n",
       "Signif. codes:  0 ‘***’ 0.001 ‘**’ 0.01 ‘*’ 0.05 ‘.’ 0.1 ‘ ’ 1\n",
       "\n",
       "Residual standard error: 21.64 on 5 degrees of freedom\n",
       "Multiple R-squared:  0.7478,\tAdjusted R-squared:  0.6469 \n",
       "F-statistic: 7.412 on 2 and 5 DF,  p-value: 0.03195\n"
      ]
     },
     "metadata": {},
     "output_type": "display_data"
    }
   ],
   "source": [
    "summary(m2)"
   ]
  },
  {
   "cell_type": "code",
   "execution_count": 31,
   "id": "f11d8cfb-0fe6-4fb6-b1cd-652886765628",
   "metadata": {},
   "outputs": [
    {
     "data": {
      "text/html": [
       "<table class=\"dataframe\">\n",
       "<caption>A anova: 3 × 5</caption>\n",
       "<thead>\n",
       "\t<tr><th></th><th scope=col>Df</th><th scope=col>Sum Sq</th><th scope=col>Mean Sq</th><th scope=col>F value</th><th scope=col>Pr(&gt;F)</th></tr>\n",
       "\t<tr><th></th><th scope=col>&lt;int&gt;</th><th scope=col>&lt;dbl&gt;</th><th scope=col>&lt;dbl&gt;</th><th scope=col>&lt;dbl&gt;</th><th scope=col>&lt;dbl&gt;</th></tr>\n",
       "</thead>\n",
       "<tbody>\n",
       "\t<tr><th scope=row>x1</th><td>1</td><td> 628.467</td><td> 628.4670</td><td> 1.342371</td><td>0.29894191</td></tr>\n",
       "\t<tr><th scope=row>x2</th><td>1</td><td>6311.728</td><td>6311.7278</td><td>13.481505</td><td>0.01441752</td></tr>\n",
       "\t<tr><th scope=row>Residuals</th><td>5</td><td>2340.884</td><td> 468.1768</td><td>       NA</td><td>        NA</td></tr>\n",
       "</tbody>\n",
       "</table>\n"
      ],
      "text/latex": [
       "A anova: 3 × 5\n",
       "\\begin{tabular}{r|lllll}\n",
       "  & Df & Sum Sq & Mean Sq & F value & Pr(>F)\\\\\n",
       "  & <int> & <dbl> & <dbl> & <dbl> & <dbl>\\\\\n",
       "\\hline\n",
       "\tx1 & 1 &  628.467 &  628.4670 &  1.342371 & 0.29894191\\\\\n",
       "\tx2 & 1 & 6311.728 & 6311.7278 & 13.481505 & 0.01441752\\\\\n",
       "\tResiduals & 5 & 2340.884 &  468.1768 &        NA &         NA\\\\\n",
       "\\end{tabular}\n"
      ],
      "text/markdown": [
       "\n",
       "A anova: 3 × 5\n",
       "\n",
       "| <!--/--> | Df &lt;int&gt; | Sum Sq &lt;dbl&gt; | Mean Sq &lt;dbl&gt; | F value &lt;dbl&gt; | Pr(&gt;F) &lt;dbl&gt; |\n",
       "|---|---|---|---|---|---|\n",
       "| x1 | 1 |  628.467 |  628.4670 |  1.342371 | 0.29894191 |\n",
       "| x2 | 1 | 6311.728 | 6311.7278 | 13.481505 | 0.01441752 |\n",
       "| Residuals | 5 | 2340.884 |  468.1768 |        NA |         NA |\n",
       "\n"
      ],
      "text/plain": [
       "          Df Sum Sq   Mean Sq   F value   Pr(>F)    \n",
       "x1        1   628.467  628.4670  1.342371 0.29894191\n",
       "x2        1  6311.728 6311.7278 13.481505 0.01441752\n",
       "Residuals 5  2340.884  468.1768        NA         NA"
      ]
     },
     "metadata": {},
     "output_type": "display_data"
    }
   ],
   "source": [
    "anova(m2)"
   ]
  },
  {
   "cell_type": "markdown",
   "id": "7d8ef135-8e87-4032-9c2a-c8f4cb1129a5",
   "metadata": {},
   "source": [
    "###### (1) 선형회귀모형, $y_j = \\beta_0 + \\beta_1 x_{1j} + \\beta_2 x_{2j} + \\epsilon_j$ 가 성립된다고 가정하고 데이터로부터 회귀모형을 추정하시오."
   ]
  },
  {
   "cell_type": "code",
   "execution_count": 32,
   "id": "d7cbe2c0-b335-4b2d-b6bb-be12b0d012fd",
   "metadata": {},
   "outputs": [],
   "source": [
    "x = matrix(c(rep(1,8),dt$x1, dt$x2), ncol=3)"
   ]
  },
  {
   "cell_type": "code",
   "execution_count": 33,
   "id": "cc342c32-ef9f-40a9-b36c-98a6fbc58177",
   "metadata": {},
   "outputs": [],
   "source": [
    "y = dt$y"
   ]
  },
  {
   "cell_type": "code",
   "execution_count": 34,
   "id": "28ea6077-45fa-46c4-b0b0-2e1b76d75050",
   "metadata": {},
   "outputs": [
    {
     "data": {
      "text/html": [
       "<table class=\"dataframe\">\n",
       "<caption>A matrix: 3 × 3 of type dbl</caption>\n",
       "<tbody>\n",
       "\t<tr><td>   8</td><td>  1587</td><td>  474</td></tr>\n",
       "\t<tr><td>1587</td><td>315745</td><td>94108</td></tr>\n",
       "\t<tr><td> 474</td><td> 94108</td><td>28136</td></tr>\n",
       "</tbody>\n",
       "</table>\n"
      ],
      "text/latex": [
       "A matrix: 3 × 3 of type dbl\n",
       "\\begin{tabular}{lll}\n",
       "\t    8 &   1587 &   474\\\\\n",
       "\t 1587 & 315745 & 94108\\\\\n",
       "\t  474 &  94108 & 28136\\\\\n",
       "\\end{tabular}\n"
      ],
      "text/markdown": [
       "\n",
       "A matrix: 3 × 3 of type dbl\n",
       "\n",
       "|    8 |   1587 |   474 |\n",
       "| 1587 | 315745 | 94108 |\n",
       "|  474 |  94108 | 28136 |\n",
       "\n"
      ],
      "text/plain": [
       "     [,1] [,2]   [,3] \n",
       "[1,]    8   1587   474\n",
       "[2,] 1587 315745 94108\n",
       "[3,]  474  94108 28136"
      ]
     },
     "metadata": {},
     "output_type": "display_data"
    }
   ],
   "source": [
    "xx <- t(x) %*% x\n",
    "xx"
   ]
  },
  {
   "cell_type": "code",
   "execution_count": 35,
   "id": "0d9f897f-80d6-4e5e-9d6f-25fddf45ebc2",
   "metadata": {},
   "outputs": [
    {
     "data": {
      "text/html": [
       "<table class=\"dataframe\">\n",
       "<caption>A matrix: 3 × 3 of type dbl</caption>\n",
       "<tbody>\n",
       "\t<tr><td>82.8749894</td><td>-0.134598917</td><td>-0.945973490</td></tr>\n",
       "\t<tr><td>-0.1345989</td><td> 0.001242266</td><td>-0.001887521</td></tr>\n",
       "\t<tr><td>-0.9459735</td><td>-0.001887521</td><td> 0.022285408</td></tr>\n",
       "</tbody>\n",
       "</table>\n"
      ],
      "text/latex": [
       "A matrix: 3 × 3 of type dbl\n",
       "\\begin{tabular}{lll}\n",
       "\t 82.8749894 & -0.134598917 & -0.945973490\\\\\n",
       "\t -0.1345989 &  0.001242266 & -0.001887521\\\\\n",
       "\t -0.9459735 & -0.001887521 &  0.022285408\\\\\n",
       "\\end{tabular}\n"
      ],
      "text/markdown": [
       "\n",
       "A matrix: 3 × 3 of type dbl\n",
       "\n",
       "| 82.8749894 | -0.134598917 | -0.945973490 |\n",
       "| -0.1345989 |  0.001242266 | -0.001887521 |\n",
       "| -0.9459735 | -0.001887521 |  0.022285408 |\n",
       "\n"
      ],
      "text/plain": [
       "     [,1]       [,2]         [,3]        \n",
       "[1,] 82.8749894 -0.134598917 -0.945973490\n",
       "[2,] -0.1345989  0.001242266 -0.001887521\n",
       "[3,] -0.9459735 -0.001887521  0.022285408"
      ]
     },
     "metadata": {},
     "output_type": "display_data"
    }
   ],
   "source": [
    "xx_i <- solve(xx)\n",
    "xx_i"
   ]
  },
  {
   "cell_type": "code",
   "execution_count": 36,
   "id": "8cd43c95-1723-4f64-9fb7-2de09a79a82f",
   "metadata": {},
   "outputs": [
    {
     "data": {
      "text/html": [
       "<table class=\"dataframe\">\n",
       "<caption>A matrix: 3 × 1 of type dbl</caption>\n",
       "<tbody>\n",
       "\t<tr><td>   901.9</td></tr>\n",
       "\t<tr><td>179676.4</td></tr>\n",
       "\t<tr><td> 54034.3</td></tr>\n",
       "</tbody>\n",
       "</table>\n"
      ],
      "text/latex": [
       "A matrix: 3 × 1 of type dbl\n",
       "\\begin{tabular}{l}\n",
       "\t    901.9\\\\\n",
       "\t 179676.4\\\\\n",
       "\t  54034.3\\\\\n",
       "\\end{tabular}\n"
      ],
      "text/markdown": [
       "\n",
       "A matrix: 3 × 1 of type dbl\n",
       "\n",
       "|    901.9 |\n",
       "| 179676.4 |\n",
       "|  54034.3 |\n",
       "\n"
      ],
      "text/plain": [
       "     [,1]    \n",
       "[1,]    901.9\n",
       "[2,] 179676.4\n",
       "[3,]  54034.3"
      ]
     },
     "metadata": {},
     "output_type": "display_data"
    }
   ],
   "source": [
    "xy <- t(x) %*% y\n",
    "xy"
   ]
  },
  {
   "cell_type": "code",
   "execution_count": 37,
   "id": "330eda16-4d87-449f-a812-87591ef2a4f1",
   "metadata": {},
   "outputs": [
    {
     "data": {
      "text/html": [
       "<table class=\"dataframe\">\n",
       "<caption>A matrix: 1 × 1 of type dbl</caption>\n",
       "<tbody>\n",
       "\t<tr><td>110959</td></tr>\n",
       "</tbody>\n",
       "</table>\n"
      ],
      "text/latex": [
       "A matrix: 1 × 1 of type dbl\n",
       "\\begin{tabular}{l}\n",
       "\t 110959\\\\\n",
       "\\end{tabular}\n"
      ],
      "text/markdown": [
       "\n",
       "A matrix: 1 × 1 of type dbl\n",
       "\n",
       "| 110959 |\n",
       "\n"
      ],
      "text/plain": [
       "     [,1]  \n",
       "[1,] 110959"
      ]
     },
     "metadata": {},
     "output_type": "display_data"
    }
   ],
   "source": [
    "yy <- t(y) %*% y\n",
    "yy"
   ]
  },
  {
   "cell_type": "code",
   "execution_count": 38,
   "id": "2afda873-c226-440d-93bd-4e0c03bf509b",
   "metadata": {},
   "outputs": [
    {
     "data": {
      "text/html": [
       "<table class=\"dataframe\">\n",
       "<caption>A matrix: 3 × 1 of type dbl</caption>\n",
       "<tbody>\n",
       "\t<tr><td>-554.3112232</td></tr>\n",
       "\t<tr><td>  -0.1797396</td></tr>\n",
       "\t<tr><td>  11.8599927</td></tr>\n",
       "</tbody>\n",
       "</table>\n"
      ],
      "text/latex": [
       "A matrix: 3 × 1 of type dbl\n",
       "\\begin{tabular}{l}\n",
       "\t -554.3112232\\\\\n",
       "\t   -0.1797396\\\\\n",
       "\t   11.8599927\\\\\n",
       "\\end{tabular}\n"
      ],
      "text/markdown": [
       "\n",
       "A matrix: 3 × 1 of type dbl\n",
       "\n",
       "| -554.3112232 |\n",
       "|   -0.1797396 |\n",
       "|   11.8599927 |\n",
       "\n"
      ],
      "text/plain": [
       "     [,1]        \n",
       "[1,] -554.3112232\n",
       "[2,]   -0.1797396\n",
       "[3,]   11.8599927"
      ]
     },
     "metadata": {},
     "output_type": "display_data"
    }
   ],
   "source": [
    "b <- xx_i %*% xy\n",
    "b"
   ]
  },
  {
   "cell_type": "markdown",
   "id": "73f2a42f-6e27-45bc-808e-589531f1ce0d",
   "metadata": {},
   "source": [
    "$y = -554.31 - 0.1797 x_1 + 11.86 x_2$"
   ]
  },
  {
   "cell_type": "markdown",
   "id": "629c8f46-ccd4-41fc-a693-0a2b042fc15e",
   "metadata": {},
   "source": [
    "###### (2) 오차분산이 $\\sigma^2 = 3$이라 하면, $Var(\\hat{\\beta}_0), Var(\\hat{\\beta}_1), Var(\\hat{\\beta}_2)$와 $Cov(\\hat{\\beta}_1, \\hat{\\beta}_2)$는 무엇인가?"
   ]
  },
  {
   "cell_type": "markdown",
   "id": "e0c81d95-e11e-4d02-b6f7-cf6337e8e9d7",
   "metadata": {},
   "source": [
    "$var(\\hat{\\beta}) = (x^\\top x)^{-1} \\sigma^2$"
   ]
  },
  {
   "cell_type": "code",
   "execution_count": 39,
   "id": "28a35a9a-aa5d-4f9f-8bb1-5cc687ab83cf",
   "metadata": {},
   "outputs": [
    {
     "data": {
      "text/html": [
       "<table class=\"dataframe\">\n",
       "<caption>A matrix: 3 × 3 of type dbl</caption>\n",
       "<tbody>\n",
       "\t<tr><td>248.6249683</td><td>-0.403796751</td><td>-2.837920471</td></tr>\n",
       "\t<tr><td> -0.4037968</td><td> 0.003726798</td><td>-0.005662562</td></tr>\n",
       "\t<tr><td> -2.8379205</td><td>-0.005662562</td><td> 0.066856223</td></tr>\n",
       "</tbody>\n",
       "</table>\n"
      ],
      "text/latex": [
       "A matrix: 3 × 3 of type dbl\n",
       "\\begin{tabular}{lll}\n",
       "\t 248.6249683 & -0.403796751 & -2.837920471\\\\\n",
       "\t  -0.4037968 &  0.003726798 & -0.005662562\\\\\n",
       "\t  -2.8379205 & -0.005662562 &  0.066856223\\\\\n",
       "\\end{tabular}\n"
      ],
      "text/markdown": [
       "\n",
       "A matrix: 3 × 3 of type dbl\n",
       "\n",
       "| 248.6249683 | -0.403796751 | -2.837920471 |\n",
       "|  -0.4037968 |  0.003726798 | -0.005662562 |\n",
       "|  -2.8379205 | -0.005662562 |  0.066856223 |\n",
       "\n"
      ],
      "text/plain": [
       "     [,1]        [,2]         [,3]        \n",
       "[1,] 248.6249683 -0.403796751 -2.837920471\n",
       "[2,]  -0.4037968  0.003726798 -0.005662562\n",
       "[3,]  -2.8379205 -0.005662562  0.066856223"
      ]
     },
     "metadata": {},
     "output_type": "display_data"
    }
   ],
   "source": [
    "xx_i * 3"
   ]
  },
  {
   "cell_type": "markdown",
   "id": "044cbc48-449f-471d-9ced-0b54cd80d3b7",
   "metadata": {},
   "source": [
    "$var(\\hat{\\beta}_0) = 248.6250$\n",
    "\n",
    "$var(\\hat{\\beta}_1) = 0.0037$\n",
    "\n",
    "$var(\\hat{\\beta}_2) = 0.0669$\n",
    "\n",
    "$cov(\\hat{\\beta}_1, \\hat{\\beta}_2) = -0.0057$"
   ]
  },
  {
   "cell_type": "markdown",
   "id": "4bfb1192-f1fd-4d34-a5a1-c0c6de184a9a",
   "metadata": {},
   "source": [
    "###### (3) $x_1 = 200$°C이고 $x_2 = 59\\text{psi}$에서 평균 제품의 강도의 추정값 $\\hat{y}$는 얼마인가? 이의 분산을 $\\sigma^2 = 3$이라 가정하고 구하시오."
   ]
  },
  {
   "cell_type": "code",
   "execution_count": 40,
   "id": "ce261251-3422-4ede-9c21-06d7346a8bcc",
   "metadata": {},
   "outputs": [
    {
     "data": {
      "text/html": [
       "<table class=\"dataframe\">\n",
       "<caption>A data.frame: 1 × 2</caption>\n",
       "<thead>\n",
       "\t<tr><th scope=col>x1</th><th scope=col>x2</th></tr>\n",
       "\t<tr><th scope=col>&lt;dbl&gt;</th><th scope=col>&lt;dbl&gt;</th></tr>\n",
       "</thead>\n",
       "<tbody>\n",
       "\t<tr><td>200</td><td>59</td></tr>\n",
       "</tbody>\n",
       "</table>\n"
      ],
      "text/latex": [
       "A data.frame: 1 × 2\n",
       "\\begin{tabular}{ll}\n",
       " x1 & x2\\\\\n",
       " <dbl> & <dbl>\\\\\n",
       "\\hline\n",
       "\t 200 & 59\\\\\n",
       "\\end{tabular}\n"
      ],
      "text/markdown": [
       "\n",
       "A data.frame: 1 × 2\n",
       "\n",
       "| x1 &lt;dbl&gt; | x2 &lt;dbl&gt; |\n",
       "|---|---|\n",
       "| 200 | 59 |\n",
       "\n"
      ],
      "text/plain": [
       "  x1  x2\n",
       "1 200 59"
      ]
     },
     "metadata": {},
     "output_type": "display_data"
    }
   ],
   "source": [
    "new_dt <- data.frame(x1=200, x2=59)\n",
    "new_dt"
   ]
  },
  {
   "cell_type": "code",
   "execution_count": 41,
   "id": "fbf5aa88-a371-4459-a734-654a9f659132",
   "metadata": {},
   "outputs": [
    {
     "data": {
      "text/html": [
       "<strong>1:</strong> 109.480424963516"
      ],
      "text/latex": [
       "\\textbf{1:} 109.480424963516"
      ],
      "text/markdown": [
       "**1:** 109.480424963516"
      ],
      "text/plain": [
       "       1 \n",
       "109.4804 "
      ]
     },
     "metadata": {},
     "output_type": "display_data"
    }
   ],
   "source": [
    "predict(m2, newdata = new_dt)"
   ]
  },
  {
   "cell_type": "code",
   "execution_count": 42,
   "id": "592e303a-1591-42ff-85e3-ba38ec369814",
   "metadata": {},
   "outputs": [
    {
     "data": {
      "text/html": [
       "<style>\n",
       ".list-inline {list-style: none; margin:0; padding: 0}\n",
       ".list-inline>li {display: inline-block}\n",
       ".list-inline>li:not(:last-child)::after {content: \"\\00b7\"; padding: 0 .5ex}\n",
       "</style>\n",
       "<ol class=list-inline><li>1</li><li>200</li><li>59</li></ol>\n"
      ],
      "text/latex": [
       "\\begin{enumerate*}\n",
       "\\item 1\n",
       "\\item 200\n",
       "\\item 59\n",
       "\\end{enumerate*}\n"
      ],
      "text/markdown": [
       "1. 1\n",
       "2. 200\n",
       "3. 59\n",
       "\n",
       "\n"
      ],
      "text/plain": [
       "[1]   1 200  59"
      ]
     },
     "metadata": {},
     "output_type": "display_data"
    }
   ],
   "source": [
    "x0 <- c(1,200,59)\n",
    "x0"
   ]
  },
  {
   "cell_type": "code",
   "execution_count": 43,
   "id": "34bc33f5-cc4e-4e3a-8cba-35d2344ea80a",
   "metadata": {},
   "outputs": [
    {
     "data": {
      "text/html": [
       "<table class=\"dataframe\">\n",
       "<caption>A matrix: 1 × 1 of type dbl</caption>\n",
       "<tbody>\n",
       "\t<tr><td>109.4804</td></tr>\n",
       "</tbody>\n",
       "</table>\n"
      ],
      "text/latex": [
       "A matrix: 1 × 1 of type dbl\n",
       "\\begin{tabular}{l}\n",
       "\t 109.4804\\\\\n",
       "\\end{tabular}\n"
      ],
      "text/markdown": [
       "\n",
       "A matrix: 1 × 1 of type dbl\n",
       "\n",
       "| 109.4804 |\n",
       "\n"
      ],
      "text/plain": [
       "     [,1]    \n",
       "[1,] 109.4804"
      ]
     },
     "metadata": {},
     "output_type": "display_data"
    }
   ],
   "source": [
    "mu0 <- x0 %*% b\n",
    "mu0"
   ]
  },
  {
   "cell_type": "markdown",
   "id": "5acd8f77-95f7-419f-8f9e-e86a6796342d",
   "metadata": {},
   "source": [
    "$\\hat{\\mu}_0 = 109.4804$"
   ]
  },
  {
   "cell_type": "markdown",
   "id": "9a895883-b14d-46e8-876d-a62ab55c93a6",
   "metadata": {},
   "source": [
    "###### (4) 추정된 회귀계수 $\\hat{\\beta}_1, \\hat{\\beta}_2$의 의미는 무엇인가?"
   ]
  },
  {
   "cell_type": "markdown",
   "id": "9a7cb9d6-b433-4c71-94ea-d7e11f940ddb",
   "metadata": {},
   "source": [
    "$\\hat{\\beta}_1$ : 공정압력이 일정하게 유지되었을 때, 공정온도가 1도씨 증가하면 강도는 0.1797만큼 감소한다.\n",
    "\n",
    "\n",
    "$\\hat{\\beta}_2$ : 공정온도가 일정하게 유지되었을 때, 공정압력이 1psi 증가하면 강도는 11.8600만큼 증가한다."
   ]
  },
  {
   "cell_type": "markdown",
   "id": "01449e30-b54e-4d31-baad-b85257e128b9",
   "metadata": {},
   "source": [
    "###### (5) 분산분석표를 작성하고 $\\alpha = 0.05$로 $F$-검정을 행하시오."
   ]
  },
  {
   "cell_type": "code",
   "execution_count": 44,
   "id": "635153d0-fa11-4452-9492-21c75dc551e9",
   "metadata": {},
   "outputs": [
    {
     "data": {
      "text/html": [
       "<table class=\"dataframe\">\n",
       "<caption>A anova: 3 × 5</caption>\n",
       "<thead>\n",
       "\t<tr><th></th><th scope=col>Df</th><th scope=col>Sum Sq</th><th scope=col>Mean Sq</th><th scope=col>F value</th><th scope=col>Pr(&gt;F)</th></tr>\n",
       "\t<tr><th></th><th scope=col>&lt;int&gt;</th><th scope=col>&lt;dbl&gt;</th><th scope=col>&lt;dbl&gt;</th><th scope=col>&lt;dbl&gt;</th><th scope=col>&lt;dbl&gt;</th></tr>\n",
       "</thead>\n",
       "<tbody>\n",
       "\t<tr><th scope=row>x1</th><td>1</td><td> 628.467</td><td> 628.4670</td><td> 1.342371</td><td>0.29894191</td></tr>\n",
       "\t<tr><th scope=row>x2</th><td>1</td><td>6311.728</td><td>6311.7278</td><td>13.481505</td><td>0.01441752</td></tr>\n",
       "\t<tr><th scope=row>Residuals</th><td>5</td><td>2340.884</td><td> 468.1768</td><td>       NA</td><td>        NA</td></tr>\n",
       "</tbody>\n",
       "</table>\n"
      ],
      "text/latex": [
       "A anova: 3 × 5\n",
       "\\begin{tabular}{r|lllll}\n",
       "  & Df & Sum Sq & Mean Sq & F value & Pr(>F)\\\\\n",
       "  & <int> & <dbl> & <dbl> & <dbl> & <dbl>\\\\\n",
       "\\hline\n",
       "\tx1 & 1 &  628.467 &  628.4670 &  1.342371 & 0.29894191\\\\\n",
       "\tx2 & 1 & 6311.728 & 6311.7278 & 13.481505 & 0.01441752\\\\\n",
       "\tResiduals & 5 & 2340.884 &  468.1768 &        NA &         NA\\\\\n",
       "\\end{tabular}\n"
      ],
      "text/markdown": [
       "\n",
       "A anova: 3 × 5\n",
       "\n",
       "| <!--/--> | Df &lt;int&gt; | Sum Sq &lt;dbl&gt; | Mean Sq &lt;dbl&gt; | F value &lt;dbl&gt; | Pr(&gt;F) &lt;dbl&gt; |\n",
       "|---|---|---|---|---|---|\n",
       "| x1 | 1 |  628.467 |  628.4670 |  1.342371 | 0.29894191 |\n",
       "| x2 | 1 | 6311.728 | 6311.7278 | 13.481505 | 0.01441752 |\n",
       "| Residuals | 5 | 2340.884 |  468.1768 |        NA |         NA |\n",
       "\n"
      ],
      "text/plain": [
       "          Df Sum Sq   Mean Sq   F value   Pr(>F)    \n",
       "x1        1   628.467  628.4670  1.342371 0.29894191\n",
       "x2        1  6311.728 6311.7278 13.481505 0.01441752\n",
       "Residuals 5  2340.884  468.1768        NA         NA"
      ]
     },
     "metadata": {},
     "output_type": "display_data"
    }
   ],
   "source": [
    "anova(m2)"
   ]
  },
  {
   "cell_type": "code",
   "execution_count": 45,
   "id": "e7828433-e87d-4f79-8ede-814377c6d1da",
   "metadata": {},
   "outputs": [
    {
     "data": {
      "text/html": [
       "<table class=\"dataframe\">\n",
       "<caption>A matrix: 8 × 8 of type dbl</caption>\n",
       "<tbody>\n",
       "\t<tr><td>1</td><td>0</td><td>0</td><td>0</td><td>0</td><td>0</td><td>0</td><td>0</td></tr>\n",
       "\t<tr><td>0</td><td>1</td><td>0</td><td>0</td><td>0</td><td>0</td><td>0</td><td>0</td></tr>\n",
       "\t<tr><td>0</td><td>0</td><td>1</td><td>0</td><td>0</td><td>0</td><td>0</td><td>0</td></tr>\n",
       "\t<tr><td>0</td><td>0</td><td>0</td><td>1</td><td>0</td><td>0</td><td>0</td><td>0</td></tr>\n",
       "\t<tr><td>0</td><td>0</td><td>0</td><td>0</td><td>1</td><td>0</td><td>0</td><td>0</td></tr>\n",
       "\t<tr><td>0</td><td>0</td><td>0</td><td>0</td><td>0</td><td>1</td><td>0</td><td>0</td></tr>\n",
       "\t<tr><td>0</td><td>0</td><td>0</td><td>0</td><td>0</td><td>0</td><td>1</td><td>0</td></tr>\n",
       "\t<tr><td>0</td><td>0</td><td>0</td><td>0</td><td>0</td><td>0</td><td>0</td><td>1</td></tr>\n",
       "</tbody>\n",
       "</table>\n"
      ],
      "text/latex": [
       "A matrix: 8 × 8 of type dbl\n",
       "\\begin{tabular}{llllllll}\n",
       "\t 1 & 0 & 0 & 0 & 0 & 0 & 0 & 0\\\\\n",
       "\t 0 & 1 & 0 & 0 & 0 & 0 & 0 & 0\\\\\n",
       "\t 0 & 0 & 1 & 0 & 0 & 0 & 0 & 0\\\\\n",
       "\t 0 & 0 & 0 & 1 & 0 & 0 & 0 & 0\\\\\n",
       "\t 0 & 0 & 0 & 0 & 1 & 0 & 0 & 0\\\\\n",
       "\t 0 & 0 & 0 & 0 & 0 & 1 & 0 & 0\\\\\n",
       "\t 0 & 0 & 0 & 0 & 0 & 0 & 1 & 0\\\\\n",
       "\t 0 & 0 & 0 & 0 & 0 & 0 & 0 & 1\\\\\n",
       "\\end{tabular}\n"
      ],
      "text/markdown": [
       "\n",
       "A matrix: 8 × 8 of type dbl\n",
       "\n",
       "| 1 | 0 | 0 | 0 | 0 | 0 | 0 | 0 |\n",
       "| 0 | 1 | 0 | 0 | 0 | 0 | 0 | 0 |\n",
       "| 0 | 0 | 1 | 0 | 0 | 0 | 0 | 0 |\n",
       "| 0 | 0 | 0 | 1 | 0 | 0 | 0 | 0 |\n",
       "| 0 | 0 | 0 | 0 | 1 | 0 | 0 | 0 |\n",
       "| 0 | 0 | 0 | 0 | 0 | 1 | 0 | 0 |\n",
       "| 0 | 0 | 0 | 0 | 0 | 0 | 1 | 0 |\n",
       "| 0 | 0 | 0 | 0 | 0 | 0 | 0 | 1 |\n",
       "\n"
      ],
      "text/plain": [
       "     [,1] [,2] [,3] [,4] [,5] [,6] [,7] [,8]\n",
       "[1,] 1    0    0    0    0    0    0    0   \n",
       "[2,] 0    1    0    0    0    0    0    0   \n",
       "[3,] 0    0    1    0    0    0    0    0   \n",
       "[4,] 0    0    0    1    0    0    0    0   \n",
       "[5,] 0    0    0    0    1    0    0    0   \n",
       "[6,] 0    0    0    0    0    1    0    0   \n",
       "[7,] 0    0    0    0    0    0    1    0   \n",
       "[8,] 0    0    0    0    0    0    0    1   "
      ]
     },
     "metadata": {},
     "output_type": "display_data"
    }
   ],
   "source": [
    "I8 = diag(rep(1,8))\n",
    "I8"
   ]
  },
  {
   "cell_type": "code",
   "execution_count": 46,
   "id": "1fe2eeaf-2d41-4614-b4b1-d2886497f696",
   "metadata": {},
   "outputs": [
    {
     "data": {
      "text/html": [
       "<table class=\"dataframe\">\n",
       "<caption>A matrix: 8 × 8 of type dbl</caption>\n",
       "<tbody>\n",
       "\t<tr><td>0.223303342</td><td> 0.0473478224</td><td>0.0925307250</td><td> 0.004932881</td><td> 0.04854185</td><td> 0.354021685</td><td> 0.18034566</td><td> 0.04897604</td></tr>\n",
       "\t<tr><td>0.047347822</td><td> 0.7875815614</td><td>0.0003377034</td><td> 0.178850120</td><td> 0.18539614</td><td> 0.121730006</td><td>-0.28766297</td><td>-0.03358038</td></tr>\n",
       "\t<tr><td>0.092530725</td><td> 0.0003377034</td><td>0.1733021360</td><td> 0.174906227</td><td> 0.15025388</td><td> 0.004944942</td><td> 0.19895553</td><td> 0.20476885</td></tr>\n",
       "\t<tr><td>0.004932881</td><td> 0.1788501200</td><td>0.1749062270</td><td> 0.274444297</td><td> 0.21838554</td><td>-0.166837528</td><td> 0.08255641</td><td> 0.23276205</td></tr>\n",
       "\t<tr><td>0.048541845</td><td> 0.1853961381</td><td>0.1502538806</td><td> 0.218385537</td><td> 0.18446745</td><td>-0.053127978</td><td> 0.08195337</td><td> 0.18412975</td></tr>\n",
       "\t<tr><td>0.354021685</td><td> 0.1217300062</td><td>0.0049449423</td><td>-0.166837528</td><td>-0.05312798</td><td> 0.711046519</td><td> 0.14493505</td><td>-0.11671270</td></tr>\n",
       "\t<tr><td>0.180345664</td><td>-0.2876629720</td><td>0.1989555317</td><td> 0.082556415</td><td> 0.08195337</td><td> 0.144935052</td><td> 0.38255762</td><td> 0.21635932</td></tr>\n",
       "\t<tr><td>0.048976035</td><td>-0.0335803794</td><td>0.2047688541</td><td> 0.232762052</td><td> 0.18412975</td><td>-0.116712699</td><td> 0.21635932</td><td> 0.26329707</td></tr>\n",
       "</tbody>\n",
       "</table>\n"
      ],
      "text/latex": [
       "A matrix: 8 × 8 of type dbl\n",
       "\\begin{tabular}{llllllll}\n",
       "\t 0.223303342 &  0.0473478224 & 0.0925307250 &  0.004932881 &  0.04854185 &  0.354021685 &  0.18034566 &  0.04897604\\\\\n",
       "\t 0.047347822 &  0.7875815614 & 0.0003377034 &  0.178850120 &  0.18539614 &  0.121730006 & -0.28766297 & -0.03358038\\\\\n",
       "\t 0.092530725 &  0.0003377034 & 0.1733021360 &  0.174906227 &  0.15025388 &  0.004944942 &  0.19895553 &  0.20476885\\\\\n",
       "\t 0.004932881 &  0.1788501200 & 0.1749062270 &  0.274444297 &  0.21838554 & -0.166837528 &  0.08255641 &  0.23276205\\\\\n",
       "\t 0.048541845 &  0.1853961381 & 0.1502538806 &  0.218385537 &  0.18446745 & -0.053127978 &  0.08195337 &  0.18412975\\\\\n",
       "\t 0.354021685 &  0.1217300062 & 0.0049449423 & -0.166837528 & -0.05312798 &  0.711046519 &  0.14493505 & -0.11671270\\\\\n",
       "\t 0.180345664 & -0.2876629720 & 0.1989555317 &  0.082556415 &  0.08195337 &  0.144935052 &  0.38255762 &  0.21635932\\\\\n",
       "\t 0.048976035 & -0.0335803794 & 0.2047688541 &  0.232762052 &  0.18412975 & -0.116712699 &  0.21635932 &  0.26329707\\\\\n",
       "\\end{tabular}\n"
      ],
      "text/markdown": [
       "\n",
       "A matrix: 8 × 8 of type dbl\n",
       "\n",
       "| 0.223303342 |  0.0473478224 | 0.0925307250 |  0.004932881 |  0.04854185 |  0.354021685 |  0.18034566 |  0.04897604 |\n",
       "| 0.047347822 |  0.7875815614 | 0.0003377034 |  0.178850120 |  0.18539614 |  0.121730006 | -0.28766297 | -0.03358038 |\n",
       "| 0.092530725 |  0.0003377034 | 0.1733021360 |  0.174906227 |  0.15025388 |  0.004944942 |  0.19895553 |  0.20476885 |\n",
       "| 0.004932881 |  0.1788501200 | 0.1749062270 |  0.274444297 |  0.21838554 | -0.166837528 |  0.08255641 |  0.23276205 |\n",
       "| 0.048541845 |  0.1853961381 | 0.1502538806 |  0.218385537 |  0.18446745 | -0.053127978 |  0.08195337 |  0.18412975 |\n",
       "| 0.354021685 |  0.1217300062 | 0.0049449423 | -0.166837528 | -0.05312798 |  0.711046519 |  0.14493505 | -0.11671270 |\n",
       "| 0.180345664 | -0.2876629720 | 0.1989555317 |  0.082556415 |  0.08195337 |  0.144935052 |  0.38255762 |  0.21635932 |\n",
       "| 0.048976035 | -0.0335803794 | 0.2047688541 |  0.232762052 |  0.18412975 | -0.116712699 |  0.21635932 |  0.26329707 |\n",
       "\n"
      ],
      "text/plain": [
       "     [,1]        [,2]          [,3]         [,4]         [,5]       \n",
       "[1,] 0.223303342  0.0473478224 0.0925307250  0.004932881  0.04854185\n",
       "[2,] 0.047347822  0.7875815614 0.0003377034  0.178850120  0.18539614\n",
       "[3,] 0.092530725  0.0003377034 0.1733021360  0.174906227  0.15025388\n",
       "[4,] 0.004932881  0.1788501200 0.1749062270  0.274444297  0.21838554\n",
       "[5,] 0.048541845  0.1853961381 0.1502538806  0.218385537  0.18446745\n",
       "[6,] 0.354021685  0.1217300062 0.0049449423 -0.166837528 -0.05312798\n",
       "[7,] 0.180345664 -0.2876629720 0.1989555317  0.082556415  0.08195337\n",
       "[8,] 0.048976035 -0.0335803794 0.2047688541  0.232762052  0.18412975\n",
       "     [,6]         [,7]        [,8]       \n",
       "[1,]  0.354021685  0.18034566  0.04897604\n",
       "[2,]  0.121730006 -0.28766297 -0.03358038\n",
       "[3,]  0.004944942  0.19895553  0.20476885\n",
       "[4,] -0.166837528  0.08255641  0.23276205\n",
       "[5,] -0.053127978  0.08195337  0.18412975\n",
       "[6,]  0.711046519  0.14493505 -0.11671270\n",
       "[7,]  0.144935052  0.38255762  0.21635932\n",
       "[8,] -0.116712699  0.21635932  0.26329707"
      ]
     },
     "metadata": {},
     "output_type": "display_data"
    }
   ],
   "source": [
    "H = x %*% xx_i %*% t(x)\n",
    "H"
   ]
  },
  {
   "cell_type": "markdown",
   "id": "419baff9-504f-466e-884d-36cfc4720e9f",
   "metadata": {},
   "source": [
    "$SSE = y^\\top (I-H)y$\n",
    "\n",
    "$SST = y^\\top y - n(\\bar{y})^2$"
   ]
  },
  {
   "cell_type": "code",
   "execution_count": 47,
   "id": "0a996ef6-f92a-40fa-ba21-230ce791e03b",
   "metadata": {},
   "outputs": [
    {
     "data": {
      "text/html": [
       "<table class=\"dataframe\">\n",
       "<caption>A matrix: 1 × 1 of type dbl</caption>\n",
       "<tbody>\n",
       "\t<tr><td>2340.884</td></tr>\n",
       "</tbody>\n",
       "</table>\n"
      ],
      "text/latex": [
       "A matrix: 1 × 1 of type dbl\n",
       "\\begin{tabular}{l}\n",
       "\t 2340.884\\\\\n",
       "\\end{tabular}\n"
      ],
      "text/markdown": [
       "\n",
       "A matrix: 1 × 1 of type dbl\n",
       "\n",
       "| 2340.884 |\n",
       "\n"
      ],
      "text/plain": [
       "     [,1]    \n",
       "[1,] 2340.884"
      ]
     },
     "metadata": {},
     "output_type": "display_data"
    }
   ],
   "source": [
    "sse = t(y) %*% (I8-H) %*% y\n",
    "sse"
   ]
  },
  {
   "cell_type": "code",
   "execution_count": 48,
   "id": "b30ab193-8310-4cf3-b067-93e70997041a",
   "metadata": {},
   "outputs": [
    {
     "data": {
      "text/html": [
       "<table class=\"dataframe\">\n",
       "<caption>A matrix: 1 × 1 of type dbl</caption>\n",
       "<tbody>\n",
       "\t<tr><td>9281.079</td></tr>\n",
       "</tbody>\n",
       "</table>\n"
      ],
      "text/latex": [
       "A matrix: 1 × 1 of type dbl\n",
       "\\begin{tabular}{l}\n",
       "\t 9281.079\\\\\n",
       "\\end{tabular}\n"
      ],
      "text/markdown": [
       "\n",
       "A matrix: 1 × 1 of type dbl\n",
       "\n",
       "| 9281.079 |\n",
       "\n"
      ],
      "text/plain": [
       "     [,1]    \n",
       "[1,] 9281.079"
      ]
     },
     "metadata": {},
     "output_type": "display_data"
    }
   ],
   "source": [
    "sst = t(y) %*% y - 8 * mean(y)^2\n",
    "sst"
   ]
  },
  {
   "cell_type": "code",
   "execution_count": 49,
   "id": "b73d7b7f-521c-4399-9dce-90d24c40a64f",
   "metadata": {},
   "outputs": [
    {
     "data": {
      "text/html": [
       "<table class=\"dataframe\">\n",
       "<caption>A matrix: 1 × 1 of type dbl</caption>\n",
       "<tbody>\n",
       "\t<tr><td>6940.195</td></tr>\n",
       "</tbody>\n",
       "</table>\n"
      ],
      "text/latex": [
       "A matrix: 1 × 1 of type dbl\n",
       "\\begin{tabular}{l}\n",
       "\t 6940.195\\\\\n",
       "\\end{tabular}\n"
      ],
      "text/markdown": [
       "\n",
       "A matrix: 1 × 1 of type dbl\n",
       "\n",
       "| 6940.195 |\n",
       "\n"
      ],
      "text/plain": [
       "     [,1]    \n",
       "[1,] 6940.195"
      ]
     },
     "metadata": {},
     "output_type": "display_data"
    }
   ],
   "source": [
    "ssr = sst- sse\n",
    "ssr"
   ]
  },
  {
   "cell_type": "code",
   "execution_count": 50,
   "id": "53d13062-3578-4b56-aa8f-dc07d47f7a3a",
   "metadata": {},
   "outputs": [
    {
     "data": {
      "text/html": [
       "<table class=\"dataframe\">\n",
       "<caption>A matrix: 1 × 1 of type dbl</caption>\n",
       "<tbody>\n",
       "\t<tr><td>3470.097</td></tr>\n",
       "</tbody>\n",
       "</table>\n"
      ],
      "text/latex": [
       "A matrix: 1 × 1 of type dbl\n",
       "\\begin{tabular}{l}\n",
       "\t 3470.097\\\\\n",
       "\\end{tabular}\n"
      ],
      "text/markdown": [
       "\n",
       "A matrix: 1 × 1 of type dbl\n",
       "\n",
       "| 3470.097 |\n",
       "\n"
      ],
      "text/plain": [
       "     [,1]    \n",
       "[1,] 3470.097"
      ]
     },
     "metadata": {},
     "output_type": "display_data"
    }
   ],
   "source": [
    "msr = ssr/2\n",
    "msr"
   ]
  },
  {
   "cell_type": "code",
   "execution_count": 51,
   "id": "976b6dbf-fe66-404c-b8c6-fb09f883d2f1",
   "metadata": {},
   "outputs": [
    {
     "data": {
      "text/html": [
       "<table class=\"dataframe\">\n",
       "<caption>A matrix: 1 × 1 of type dbl</caption>\n",
       "<tbody>\n",
       "\t<tr><td>468.1768</td></tr>\n",
       "</tbody>\n",
       "</table>\n"
      ],
      "text/latex": [
       "A matrix: 1 × 1 of type dbl\n",
       "\\begin{tabular}{l}\n",
       "\t 468.1768\\\\\n",
       "\\end{tabular}\n"
      ],
      "text/markdown": [
       "\n",
       "A matrix: 1 × 1 of type dbl\n",
       "\n",
       "| 468.1768 |\n",
       "\n"
      ],
      "text/plain": [
       "     [,1]    \n",
       "[1,] 468.1768"
      ]
     },
     "metadata": {},
     "output_type": "display_data"
    }
   ],
   "source": [
    "mse = sse/5\n",
    "mse"
   ]
  },
  {
   "cell_type": "code",
   "execution_count": 52,
   "id": "a42f2e95-4d8f-45ef-9eac-246c7c8e69c9",
   "metadata": {},
   "outputs": [
    {
     "data": {
      "text/html": [
       "<table class=\"dataframe\">\n",
       "<caption>A matrix: 1 × 1 of type dbl</caption>\n",
       "<tbody>\n",
       "\t<tr><td>7.411938</td></tr>\n",
       "</tbody>\n",
       "</table>\n"
      ],
      "text/latex": [
       "A matrix: 1 × 1 of type dbl\n",
       "\\begin{tabular}{l}\n",
       "\t 7.411938\\\\\n",
       "\\end{tabular}\n"
      ],
      "text/markdown": [
       "\n",
       "A matrix: 1 × 1 of type dbl\n",
       "\n",
       "| 7.411938 |\n",
       "\n"
      ],
      "text/plain": [
       "     [,1]    \n",
       "[1,] 7.411938"
      ]
     },
     "metadata": {},
     "output_type": "display_data"
    }
   ],
   "source": [
    "f0 = msr/mse\n",
    "f0"
   ]
  },
  {
   "cell_type": "code",
   "execution_count": 53,
   "id": "25976702-2de8-4cc0-91ec-ff91c105f6a4",
   "metadata": {},
   "outputs": [
    {
     "data": {
      "text/html": [
       "5.78613504334997"
      ],
      "text/latex": [
       "5.78613504334997"
      ],
      "text/markdown": [
       "5.78613504334997"
      ],
      "text/plain": [
       "[1] 5.786135"
      ]
     },
     "metadata": {},
     "output_type": "display_data"
    }
   ],
   "source": [
    "qf(0.95,2,5)"
   ]
  },
  {
   "cell_type": "markdown",
   "id": "8a1c2e98-9901-4985-8677-afee6b7cbac2",
   "metadata": {},
   "source": [
    "|요인|제곱합|자유도(df)|평균제곱(MS)|$F_0$|유의확률\n",
    "|:--:|:--:|:--:|:--:|:--:|:--:|\n",
    "|회귀|6940.195|2|3470.097|7.4119|5.786135|\n",
    "|잔차|2340.884|5|468.177|||\n",
    "|계|9281.079|7||||"
   ]
  },
  {
   "cell_type": "markdown",
   "id": "09af6fd6-ed40-4c18-9241-53c8bc022e05",
   "metadata": {},
   "source": [
    "결론 : 검정통계량의 관측값이 기각역에 속하므로 귀무가설 기각. 즉 모형이 유의수준 0.05하에서 유의하다고 할 수 있다."
   ]
  },
  {
   "cell_type": "markdown",
   "id": "9a08cf6d-5ed7-45dc-bd34-6c120794b83a",
   "metadata": {},
   "source": [
    "###### (6) 결정계수 $R^2$을 구하시오."
   ]
  },
  {
   "cell_type": "code",
   "execution_count": 54,
   "id": "06e6335e-3b44-4a13-b766-b8c20d18631f",
   "metadata": {},
   "outputs": [
    {
     "data": {
      "text/html": [
       "0.747778895028607"
      ],
      "text/latex": [
       "0.747778895028607"
      ],
      "text/markdown": [
       "0.747778895028607"
      ],
      "text/plain": [
       "[1] 0.7477789"
      ]
     },
     "metadata": {},
     "output_type": "display_data"
    }
   ],
   "source": [
    "summary(m2)$r.squared"
   ]
  },
  {
   "cell_type": "markdown",
   "id": "dfd9f1d3-5eb7-4163-be67-347687cdbc6b",
   "metadata": {},
   "source": [
    "$R^2  = \\frac{SSR}{SST}$"
   ]
  },
  {
   "cell_type": "code",
   "execution_count": 55,
   "id": "86fff78d-14ed-4322-820a-e91f50f31da0",
   "metadata": {},
   "outputs": [
    {
     "data": {
      "text/html": [
       "<table class=\"dataframe\">\n",
       "<caption>A matrix: 1 × 1 of type dbl</caption>\n",
       "<tbody>\n",
       "\t<tr><td>0.7477789</td></tr>\n",
       "</tbody>\n",
       "</table>\n"
      ],
      "text/latex": [
       "A matrix: 1 × 1 of type dbl\n",
       "\\begin{tabular}{l}\n",
       "\t 0.7477789\\\\\n",
       "\\end{tabular}\n"
      ],
      "text/markdown": [
       "\n",
       "A matrix: 1 × 1 of type dbl\n",
       "\n",
       "| 0.7477789 |\n",
       "\n"
      ],
      "text/plain": [
       "     [,1]     \n",
       "[1,] 0.7477789"
      ]
     },
     "metadata": {},
     "output_type": "display_data"
    }
   ],
   "source": [
    "ssr/sst\n",
    "# 0.7478"
   ]
  },
  {
   "cell_type": "markdown",
   "id": "8915d0ce-490a-4ae9-b7ba-b2091643be8b",
   "metadata": {},
   "source": [
    "###### (7) 수정된 결정계수 $R^2_{adj}$ 을 구하시오."
   ]
  },
  {
   "cell_type": "code",
   "execution_count": 56,
   "id": "52791090-60a8-46ce-8257-bd9aea44d06c",
   "metadata": {},
   "outputs": [
    {
     "data": {
      "text/html": [
       "0.64689045304005"
      ],
      "text/latex": [
       "0.64689045304005"
      ],
      "text/markdown": [
       "0.64689045304005"
      ],
      "text/plain": [
       "[1] 0.6468905"
      ]
     },
     "metadata": {},
     "output_type": "display_data"
    }
   ],
   "source": [
    "summary(m2)$adj"
   ]
  },
  {
   "cell_type": "markdown",
   "id": "0ada52db-d0a8-4b81-b960-4ee3727e7c58",
   "metadata": {},
   "source": [
    "$R^2_{adj}  = 1-\\frac{SSE(n-p-1)}{SST/(n-1)}$"
   ]
  },
  {
   "cell_type": "code",
   "execution_count": 57,
   "id": "2b7bc2cc-a3f6-49f9-931c-141e29ac27e7",
   "metadata": {},
   "outputs": [
    {
     "data": {
      "text/html": [
       "<table class=\"dataframe\">\n",
       "<caption>A matrix: 1 × 1 of type dbl</caption>\n",
       "<tbody>\n",
       "\t<tr><td>0.6468905</td></tr>\n",
       "</tbody>\n",
       "</table>\n"
      ],
      "text/latex": [
       "A matrix: 1 × 1 of type dbl\n",
       "\\begin{tabular}{l}\n",
       "\t 0.6468905\\\\\n",
       "\\end{tabular}\n"
      ],
      "text/markdown": [
       "\n",
       "A matrix: 1 × 1 of type dbl\n",
       "\n",
       "| 0.6468905 |\n",
       "\n"
      ],
      "text/plain": [
       "     [,1]     \n",
       "[1,] 0.6468905"
      ]
     },
     "metadata": {},
     "output_type": "display_data"
    }
   ],
   "source": [
    "1-(sse/5)/(sst/7)\n",
    "# 0.6469"
   ]
  },
  {
   "cell_type": "markdown",
   "id": "e131fcf4-c206-4b25-9a1c-0fc04953555c",
   "metadata": {},
   "source": [
    "###### (8) $\\sigma^2$의 추정값 MSE 를 구하시오."
   ]
  },
  {
   "cell_type": "markdown",
   "id": "2e70a6c6-2285-48f9-aa10-6aac63d00505",
   "metadata": {},
   "source": [
    "$\\sigma^2 = MSE$"
   ]
  },
  {
   "cell_type": "code",
   "execution_count": 58,
   "id": "4a486505-4bda-469f-ad3a-fbb86b9863cc",
   "metadata": {},
   "outputs": [
    {
     "data": {
      "text/html": [
       "<table class=\"dataframe\">\n",
       "<caption>A matrix: 1 × 1 of type dbl</caption>\n",
       "<tbody>\n",
       "\t<tr><td>468.1768</td></tr>\n",
       "</tbody>\n",
       "</table>\n"
      ],
      "text/latex": [
       "A matrix: 1 × 1 of type dbl\n",
       "\\begin{tabular}{l}\n",
       "\t 468.1768\\\\\n",
       "\\end{tabular}\n"
      ],
      "text/markdown": [
       "\n",
       "A matrix: 1 × 1 of type dbl\n",
       "\n",
       "| 468.1768 |\n",
       "\n"
      ],
      "text/plain": [
       "     [,1]    \n",
       "[1,] 468.1768"
      ]
     },
     "metadata": {},
     "output_type": "display_data"
    }
   ],
   "source": [
    "mse\n",
    "##468.17687"
   ]
  },
  {
   "cell_type": "markdown",
   "id": "f7709cbc-4344-4cea-90ad-32056e1f33ec",
   "metadata": {},
   "source": [
    "###### (9) MSR의 기대값을 $\\sigma^2$과 $\\beta_0, \\beta_1, \\beta_2$의 함수로 표시하여라."
   ]
  },
  {
   "cell_type": "code",
   "execution_count": 59,
   "id": "ec654f90-1007-4d11-8ad6-f60373e224bc",
   "metadata": {},
   "outputs": [
    {
     "data": {
      "text/html": [
       "<table class=\"dataframe\">\n",
       "<caption>A matrix: 8 × 8 of type dbl</caption>\n",
       "<tbody>\n",
       "\t<tr><td>1</td><td>0</td><td>0</td><td>0</td><td>0</td><td>0</td><td>0</td><td>0</td></tr>\n",
       "\t<tr><td>0</td><td>1</td><td>0</td><td>0</td><td>0</td><td>0</td><td>0</td><td>0</td></tr>\n",
       "\t<tr><td>0</td><td>0</td><td>1</td><td>0</td><td>0</td><td>0</td><td>0</td><td>0</td></tr>\n",
       "\t<tr><td>0</td><td>0</td><td>0</td><td>1</td><td>0</td><td>0</td><td>0</td><td>0</td></tr>\n",
       "\t<tr><td>0</td><td>0</td><td>0</td><td>0</td><td>1</td><td>0</td><td>0</td><td>0</td></tr>\n",
       "\t<tr><td>0</td><td>0</td><td>0</td><td>0</td><td>0</td><td>1</td><td>0</td><td>0</td></tr>\n",
       "\t<tr><td>0</td><td>0</td><td>0</td><td>0</td><td>0</td><td>0</td><td>1</td><td>0</td></tr>\n",
       "\t<tr><td>0</td><td>0</td><td>0</td><td>0</td><td>0</td><td>0</td><td>0</td><td>1</td></tr>\n",
       "</tbody>\n",
       "</table>\n"
      ],
      "text/latex": [
       "A matrix: 8 × 8 of type dbl\n",
       "\\begin{tabular}{llllllll}\n",
       "\t 1 & 0 & 0 & 0 & 0 & 0 & 0 & 0\\\\\n",
       "\t 0 & 1 & 0 & 0 & 0 & 0 & 0 & 0\\\\\n",
       "\t 0 & 0 & 1 & 0 & 0 & 0 & 0 & 0\\\\\n",
       "\t 0 & 0 & 0 & 1 & 0 & 0 & 0 & 0\\\\\n",
       "\t 0 & 0 & 0 & 0 & 1 & 0 & 0 & 0\\\\\n",
       "\t 0 & 0 & 0 & 0 & 0 & 1 & 0 & 0\\\\\n",
       "\t 0 & 0 & 0 & 0 & 0 & 0 & 1 & 0\\\\\n",
       "\t 0 & 0 & 0 & 0 & 0 & 0 & 0 & 1\\\\\n",
       "\\end{tabular}\n"
      ],
      "text/markdown": [
       "\n",
       "A matrix: 8 × 8 of type dbl\n",
       "\n",
       "| 1 | 0 | 0 | 0 | 0 | 0 | 0 | 0 |\n",
       "| 0 | 1 | 0 | 0 | 0 | 0 | 0 | 0 |\n",
       "| 0 | 0 | 1 | 0 | 0 | 0 | 0 | 0 |\n",
       "| 0 | 0 | 0 | 1 | 0 | 0 | 0 | 0 |\n",
       "| 0 | 0 | 0 | 0 | 1 | 0 | 0 | 0 |\n",
       "| 0 | 0 | 0 | 0 | 0 | 1 | 0 | 0 |\n",
       "| 0 | 0 | 0 | 0 | 0 | 0 | 1 | 0 |\n",
       "| 0 | 0 | 0 | 0 | 0 | 0 | 0 | 1 |\n",
       "\n"
      ],
      "text/plain": [
       "     [,1] [,2] [,3] [,4] [,5] [,6] [,7] [,8]\n",
       "[1,] 1    0    0    0    0    0    0    0   \n",
       "[2,] 0    1    0    0    0    0    0    0   \n",
       "[3,] 0    0    1    0    0    0    0    0   \n",
       "[4,] 0    0    0    1    0    0    0    0   \n",
       "[5,] 0    0    0    0    1    0    0    0   \n",
       "[6,] 0    0    0    0    0    1    0    0   \n",
       "[7,] 0    0    0    0    0    0    1    0   \n",
       "[8,] 0    0    0    0    0    0    0    1   "
      ]
     },
     "metadata": {},
     "output_type": "display_data"
    }
   ],
   "source": [
    "I8 <- diag(rep(1,8))\n",
    "I8"
   ]
  },
  {
   "cell_type": "code",
   "execution_count": 60,
   "id": "d0e1fbe7-b9b5-4f1d-b3dd-e7fa8797d0c6",
   "metadata": {},
   "outputs": [
    {
     "data": {
      "text/html": [
       "<style>\n",
       ".list-inline {list-style: none; margin:0; padding: 0}\n",
       ".list-inline>li {display: inline-block}\n",
       ".list-inline>li:not(:last-child)::after {content: \"\\00b7\"; padding: 0 .5ex}\n",
       "</style>\n",
       "<ol class=list-inline><li>1</li><li>1</li><li>1</li><li>1</li><li>1</li><li>1</li><li>1</li><li>1</li></ol>\n"
      ],
      "text/latex": [
       "\\begin{enumerate*}\n",
       "\\item 1\n",
       "\\item 1\n",
       "\\item 1\n",
       "\\item 1\n",
       "\\item 1\n",
       "\\item 1\n",
       "\\item 1\n",
       "\\item 1\n",
       "\\end{enumerate*}\n"
      ],
      "text/markdown": [
       "1. 1\n",
       "2. 1\n",
       "3. 1\n",
       "4. 1\n",
       "5. 1\n",
       "6. 1\n",
       "7. 1\n",
       "8. 1\n",
       "\n",
       "\n"
      ],
      "text/plain": [
       "[1] 1 1 1 1 1 1 1 1"
      ]
     },
     "metadata": {},
     "output_type": "display_data"
    }
   ],
   "source": [
    "one1 <- rep(1,8)\n",
    "one1"
   ]
  },
  {
   "cell_type": "code",
   "execution_count": 61,
   "id": "15d5e02e-af4c-479e-a19b-235827a3e976",
   "metadata": {},
   "outputs": [
    {
     "data": {
      "text/html": [
       "<table class=\"dataframe\">\n",
       "<caption>A matrix: 8 × 8 of type dbl</caption>\n",
       "<tbody>\n",
       "\t<tr><td>1</td><td>1</td><td>1</td><td>1</td><td>1</td><td>1</td><td>1</td><td>1</td></tr>\n",
       "\t<tr><td>1</td><td>1</td><td>1</td><td>1</td><td>1</td><td>1</td><td>1</td><td>1</td></tr>\n",
       "\t<tr><td>1</td><td>1</td><td>1</td><td>1</td><td>1</td><td>1</td><td>1</td><td>1</td></tr>\n",
       "\t<tr><td>1</td><td>1</td><td>1</td><td>1</td><td>1</td><td>1</td><td>1</td><td>1</td></tr>\n",
       "\t<tr><td>1</td><td>1</td><td>1</td><td>1</td><td>1</td><td>1</td><td>1</td><td>1</td></tr>\n",
       "\t<tr><td>1</td><td>1</td><td>1</td><td>1</td><td>1</td><td>1</td><td>1</td><td>1</td></tr>\n",
       "\t<tr><td>1</td><td>1</td><td>1</td><td>1</td><td>1</td><td>1</td><td>1</td><td>1</td></tr>\n",
       "\t<tr><td>1</td><td>1</td><td>1</td><td>1</td><td>1</td><td>1</td><td>1</td><td>1</td></tr>\n",
       "</tbody>\n",
       "</table>\n"
      ],
      "text/latex": [
       "A matrix: 8 × 8 of type dbl\n",
       "\\begin{tabular}{llllllll}\n",
       "\t 1 & 1 & 1 & 1 & 1 & 1 & 1 & 1\\\\\n",
       "\t 1 & 1 & 1 & 1 & 1 & 1 & 1 & 1\\\\\n",
       "\t 1 & 1 & 1 & 1 & 1 & 1 & 1 & 1\\\\\n",
       "\t 1 & 1 & 1 & 1 & 1 & 1 & 1 & 1\\\\\n",
       "\t 1 & 1 & 1 & 1 & 1 & 1 & 1 & 1\\\\\n",
       "\t 1 & 1 & 1 & 1 & 1 & 1 & 1 & 1\\\\\n",
       "\t 1 & 1 & 1 & 1 & 1 & 1 & 1 & 1\\\\\n",
       "\t 1 & 1 & 1 & 1 & 1 & 1 & 1 & 1\\\\\n",
       "\\end{tabular}\n"
      ],
      "text/markdown": [
       "\n",
       "A matrix: 8 × 8 of type dbl\n",
       "\n",
       "| 1 | 1 | 1 | 1 | 1 | 1 | 1 | 1 |\n",
       "| 1 | 1 | 1 | 1 | 1 | 1 | 1 | 1 |\n",
       "| 1 | 1 | 1 | 1 | 1 | 1 | 1 | 1 |\n",
       "| 1 | 1 | 1 | 1 | 1 | 1 | 1 | 1 |\n",
       "| 1 | 1 | 1 | 1 | 1 | 1 | 1 | 1 |\n",
       "| 1 | 1 | 1 | 1 | 1 | 1 | 1 | 1 |\n",
       "| 1 | 1 | 1 | 1 | 1 | 1 | 1 | 1 |\n",
       "| 1 | 1 | 1 | 1 | 1 | 1 | 1 | 1 |\n",
       "\n"
      ],
      "text/plain": [
       "     [,1] [,2] [,3] [,4] [,5] [,6] [,7] [,8]\n",
       "[1,] 1    1    1    1    1    1    1    1   \n",
       "[2,] 1    1    1    1    1    1    1    1   \n",
       "[3,] 1    1    1    1    1    1    1    1   \n",
       "[4,] 1    1    1    1    1    1    1    1   \n",
       "[5,] 1    1    1    1    1    1    1    1   \n",
       "[6,] 1    1    1    1    1    1    1    1   \n",
       "[7,] 1    1    1    1    1    1    1    1   \n",
       "[8,] 1    1    1    1    1    1    1    1   "
      ]
     },
     "metadata": {},
     "output_type": "display_data"
    }
   ],
   "source": [
    "Jn <- one1 %*% t(one1)\n",
    "Jn"
   ]
  },
  {
   "cell_type": "code",
   "execution_count": 62,
   "id": "552f2eb4-07f4-47ff-b871-e22c424e0574",
   "metadata": {},
   "outputs": [
    {
     "data": {
      "text/html": [
       "<table class=\"dataframe\">\n",
       "<caption>A matrix: 3 × 3 of type dbl</caption>\n",
       "<tbody>\n",
       "\t<tr><td>0</td><td>  0.000</td><td> 0.00</td></tr>\n",
       "\t<tr><td>0</td><td>923.875</td><td>78.25</td></tr>\n",
       "\t<tr><td>0</td><td> 78.250</td><td>51.50</td></tr>\n",
       "</tbody>\n",
       "</table>\n"
      ],
      "text/latex": [
       "A matrix: 3 × 3 of type dbl\n",
       "\\begin{tabular}{lll}\n",
       "\t 0 &   0.000 &  0.00\\\\\n",
       "\t 0 & 923.875 & 78.25\\\\\n",
       "\t 0 &  78.250 & 51.50\\\\\n",
       "\\end{tabular}\n"
      ],
      "text/markdown": [
       "\n",
       "A matrix: 3 × 3 of type dbl\n",
       "\n",
       "| 0 |   0.000 |  0.00 |\n",
       "| 0 | 923.875 | 78.25 |\n",
       "| 0 |  78.250 | 51.50 |\n",
       "\n"
      ],
      "text/plain": [
       "     [,1] [,2]    [,3] \n",
       "[1,] 0      0.000  0.00\n",
       "[2,] 0    923.875 78.25\n",
       "[3,] 0     78.250 51.50"
      ]
     },
     "metadata": {},
     "output_type": "display_data"
    }
   ],
   "source": [
    "t(x) %*% (I8 - Jn/8) %*% x"
   ]
  },
  {
   "cell_type": "markdown",
   "id": "ccaa465f-82c7-4aae-bdbc-4a2383183c56",
   "metadata": {},
   "source": [
    "#### 3. 어떤 공장에서 물의 소비량을 조사하기 위하여 매달의 물소비량($y$), 평균온도($x_1$), 작업일수($x_2$)와 작업량($x_3$)에 관한 데이터를 얻었다."
   ]
  },
  {
   "cell_type": "markdown",
   "id": "6938febc-d081-4b83-8515-ecacb60e4240",
   "metadata": {},
   "source": [
    "|물소비량$y$(단위:1,000톤)|평균온도$x_1$(단위:°C)|작업일수$x_2$(단위:일)|작업량$x_3$(단위:1,000톤)|\n",
    "|:---:|:---:|:---:|:---:|\n",
    "|2.8|10|27|64|\n",
    "|3.9|24|26|72|\n",
    "|3.9|25|28|80|\n",
    "|4.4|28|26|88|\n",
    "|3.1|15|30|81|\n",
    "|3.1|18|24|45|\n",
    "|3.5|22|27|46|\n",
    "|3.6|22|25|69|\n",
    "|3.0|12|27|54|\n",
    "|3.3|15|25|39|"
   ]
  },
  {
   "cell_type": "code",
   "execution_count": 63,
   "id": "6570f0e2-a918-4333-80e9-dd9d87c1b58d",
   "metadata": {},
   "outputs": [],
   "source": [
    "dt <- data.frame(y=c(2.8,3.9,3.9,4.4,3.1,3.1,3.5,3.6,3.0,3.3),\n",
    "                 x1 = c(10,24,25,28,15,18,22,22,12,15),\n",
    "                 x2 = c(27,26,28,26,30,24,27,25,27,25),\n",
    "                 x3 = c(64,72,80,88,81,45,46,69,54,39))"
   ]
  },
  {
   "cell_type": "code",
   "execution_count": 64,
   "id": "9ee9ead2-01e1-42fa-bc8a-d425f9c7e28f",
   "metadata": {},
   "outputs": [],
   "source": [
    "m3 <- lm(y~., dt)"
   ]
  },
  {
   "cell_type": "code",
   "execution_count": 65,
   "id": "7a928db3-a756-4ba7-83f9-868fb3ff4ba0",
   "metadata": {},
   "outputs": [
    {
     "data": {
      "text/plain": [
       "\n",
       "Call:\n",
       "lm(formula = y ~ ., data = dt)\n",
       "\n",
       "Residuals:\n",
       "     Min       1Q   Median       3Q      Max \n",
       "-0.23490 -0.07744 -0.02166  0.08840  0.23442 \n",
       "\n",
       "Coefficients:\n",
       "             Estimate Std. Error t value Pr(>|t|)   \n",
       "(Intercept)  2.409213   1.125954   2.140  0.07618 . \n",
       "x1           0.069788   0.012640   5.521  0.00149 **\n",
       "x2          -0.024767   0.044830  -0.552  0.60060   \n",
       "x3           0.005864   0.005052   1.161  0.28978   \n",
       "---\n",
       "Signif. codes:  0 ‘***’ 0.001 ‘**’ 0.01 ‘*’ 0.05 ‘.’ 0.1 ‘ ’ 1\n",
       "\n",
       "Residual standard error: 0.172 on 6 degrees of freedom\n",
       "Multiple R-squared:  0.9202,\tAdjusted R-squared:  0.8803 \n",
       "F-statistic: 23.05 on 3 and 6 DF,  p-value: 0.001079\n"
      ]
     },
     "metadata": {},
     "output_type": "display_data"
    }
   ],
   "source": [
    "summary(m3)"
   ]
  },
  {
   "cell_type": "code",
   "execution_count": 66,
   "id": "ec037b63-2ac3-4333-b30d-0151fb959d91",
   "metadata": {},
   "outputs": [
    {
     "data": {
      "text/html": [
       "<table class=\"dataframe\">\n",
       "<caption>A anova: 4 × 5</caption>\n",
       "<thead>\n",
       "\t<tr><th></th><th scope=col>Df</th><th scope=col>Sum Sq</th><th scope=col>Mean Sq</th><th scope=col>F value</th><th scope=col>Pr(&gt;F)</th></tr>\n",
       "\t<tr><th></th><th scope=col>&lt;int&gt;</th><th scope=col>&lt;dbl&gt;</th><th scope=col>&lt;dbl&gt;</th><th scope=col>&lt;dbl&gt;</th><th scope=col>&lt;dbl&gt;</th></tr>\n",
       "</thead>\n",
       "<tbody>\n",
       "\t<tr><th scope=row>x1</th><td>1</td><td>2.004315887</td><td>2.004315887</td><td>67.73858599</td><td>0.0001737553</td></tr>\n",
       "\t<tr><th scope=row>x2</th><td>1</td><td>0.002273071</td><td>0.002273071</td><td> 0.07682153</td><td>0.7909535228</td></tr>\n",
       "\t<tr><th scope=row>x3</th><td>1</td><td>0.039877142</td><td>0.039877142</td><td> 1.34770234</td><td>0.2897755827</td></tr>\n",
       "\t<tr><th scope=row>Residuals</th><td>6</td><td>0.177533900</td><td>0.029588983</td><td>         NA</td><td>          NA</td></tr>\n",
       "</tbody>\n",
       "</table>\n"
      ],
      "text/latex": [
       "A anova: 4 × 5\n",
       "\\begin{tabular}{r|lllll}\n",
       "  & Df & Sum Sq & Mean Sq & F value & Pr(>F)\\\\\n",
       "  & <int> & <dbl> & <dbl> & <dbl> & <dbl>\\\\\n",
       "\\hline\n",
       "\tx1 & 1 & 2.004315887 & 2.004315887 & 67.73858599 & 0.0001737553\\\\\n",
       "\tx2 & 1 & 0.002273071 & 0.002273071 &  0.07682153 & 0.7909535228\\\\\n",
       "\tx3 & 1 & 0.039877142 & 0.039877142 &  1.34770234 & 0.2897755827\\\\\n",
       "\tResiduals & 6 & 0.177533900 & 0.029588983 &          NA &           NA\\\\\n",
       "\\end{tabular}\n"
      ],
      "text/markdown": [
       "\n",
       "A anova: 4 × 5\n",
       "\n",
       "| <!--/--> | Df &lt;int&gt; | Sum Sq &lt;dbl&gt; | Mean Sq &lt;dbl&gt; | F value &lt;dbl&gt; | Pr(&gt;F) &lt;dbl&gt; |\n",
       "|---|---|---|---|---|---|\n",
       "| x1 | 1 | 2.004315887 | 2.004315887 | 67.73858599 | 0.0001737553 |\n",
       "| x2 | 1 | 0.002273071 | 0.002273071 |  0.07682153 | 0.7909535228 |\n",
       "| x3 | 1 | 0.039877142 | 0.039877142 |  1.34770234 | 0.2897755827 |\n",
       "| Residuals | 6 | 0.177533900 | 0.029588983 |          NA |           NA |\n",
       "\n"
      ],
      "text/plain": [
       "          Df Sum Sq      Mean Sq     F value     Pr(>F)      \n",
       "x1        1  2.004315887 2.004315887 67.73858599 0.0001737553\n",
       "x2        1  0.002273071 0.002273071  0.07682153 0.7909535228\n",
       "x3        1  0.039877142 0.039877142  1.34770234 0.2897755827\n",
       "Residuals 6  0.177533900 0.029588983          NA           NA"
      ]
     },
     "metadata": {},
     "output_type": "display_data"
    }
   ],
   "source": [
    "anova(m3)"
   ]
  },
  {
   "cell_type": "markdown",
   "id": "8579a118-a9a8-474d-b9dd-8e3b600691b4",
   "metadata": {},
   "source": [
    "###### (1) 데이터로부터 회귀모형, $\\hat{y} = \\hat{\\beta}_0 + \\hat{\\beta}_1 x_1 + \\hat{\\beta}_2 x_2 + \\hat{\\beta}_3 x_3$ 을 구하여라. 그리고 어째서 이 모형이 선택되었는가에 대하여 토의하시오."
   ]
  },
  {
   "cell_type": "code",
   "execution_count": 67,
   "id": "d7e8c8de-c140-4b05-b05f-fb2315c828b8",
   "metadata": {},
   "outputs": [],
   "source": [
    "x = matrix(c(rep(1,10),dt$x1, dt$x2, dt$x3), ncol=4)"
   ]
  },
  {
   "cell_type": "code",
   "execution_count": 68,
   "id": "99313e37-d0ce-4b70-901b-0c59f7554e9c",
   "metadata": {},
   "outputs": [],
   "source": [
    "y = dt$y"
   ]
  },
  {
   "cell_type": "code",
   "execution_count": 69,
   "id": "edf8faf0-3d5c-4d50-93c5-a811d6bcded8",
   "metadata": {},
   "outputs": [
    {
     "data": {
      "text/html": [
       "<table class=\"dataframe\">\n",
       "<caption>A matrix: 4 × 4 of type dbl</caption>\n",
       "<tbody>\n",
       "\t<tr><td> 10</td><td>  191</td><td>  265</td><td>  638</td></tr>\n",
       "\t<tr><td>191</td><td> 3971</td><td> 5047</td><td>12620</td></tr>\n",
       "\t<tr><td>265</td><td> 5047</td><td> 7049</td><td>17038</td></tr>\n",
       "\t<tr><td>638</td><td>12620</td><td>17038</td><td>43324</td></tr>\n",
       "</tbody>\n",
       "</table>\n"
      ],
      "text/latex": [
       "A matrix: 4 × 4 of type dbl\n",
       "\\begin{tabular}{llll}\n",
       "\t  10 &   191 &   265 &   638\\\\\n",
       "\t 191 &  3971 &  5047 & 12620\\\\\n",
       "\t 265 &  5047 &  7049 & 17038\\\\\n",
       "\t 638 & 12620 & 17038 & 43324\\\\\n",
       "\\end{tabular}\n"
      ],
      "text/markdown": [
       "\n",
       "A matrix: 4 × 4 of type dbl\n",
       "\n",
       "|  10 |   191 |   265 |   638 |\n",
       "| 191 |  3971 |  5047 | 12620 |\n",
       "| 265 |  5047 |  7049 | 17038 |\n",
       "| 638 | 12620 | 17038 | 43324 |\n",
       "\n"
      ],
      "text/plain": [
       "     [,1] [,2]  [,3]  [,4] \n",
       "[1,]  10    191   265   638\n",
       "[2,] 191   3971  5047 12620\n",
       "[3,] 265   5047  7049 17038\n",
       "[4,] 638  12620 17038 43324"
      ]
     },
     "metadata": {},
     "output_type": "display_data"
    }
   ],
   "source": [
    "xx <- t(x) %*% x\n",
    "xx"
   ]
  },
  {
   "cell_type": "code",
   "execution_count": 70,
   "id": "0ccee6ae-3a75-4fc8-a103-4652abcfe7b5",
   "metadata": {},
   "outputs": [
    {
     "data": {
      "text/html": [
       "<table class=\"dataframe\">\n",
       "<caption>A matrix: 4 × 4 of type dbl</caption>\n",
       "<tbody>\n",
       "\t<tr><td>42.8460778</td><td>-0.274517258</td><td>-1.666784957</td><td> 0.1044984818</td></tr>\n",
       "\t<tr><td>-0.2745173</td><td> 0.005399764</td><td> 0.009802163</td><td>-0.0013851965</td></tr>\n",
       "\t<tr><td>-1.6667850</td><td> 0.009802163</td><td> 0.067921641</td><td>-0.0050213139</td></tr>\n",
       "\t<tr><td> 0.1044985</td><td>-0.001385196</td><td>-0.005021314</td><td> 0.0008624387</td></tr>\n",
       "</tbody>\n",
       "</table>\n"
      ],
      "text/latex": [
       "A matrix: 4 × 4 of type dbl\n",
       "\\begin{tabular}{llll}\n",
       "\t 42.8460778 & -0.274517258 & -1.666784957 &  0.1044984818\\\\\n",
       "\t -0.2745173 &  0.005399764 &  0.009802163 & -0.0013851965\\\\\n",
       "\t -1.6667850 &  0.009802163 &  0.067921641 & -0.0050213139\\\\\n",
       "\t  0.1044985 & -0.001385196 & -0.005021314 &  0.0008624387\\\\\n",
       "\\end{tabular}\n"
      ],
      "text/markdown": [
       "\n",
       "A matrix: 4 × 4 of type dbl\n",
       "\n",
       "| 42.8460778 | -0.274517258 | -1.666784957 |  0.1044984818 |\n",
       "| -0.2745173 |  0.005399764 |  0.009802163 | -0.0013851965 |\n",
       "| -1.6667850 |  0.009802163 |  0.067921641 | -0.0050213139 |\n",
       "|  0.1044985 | -0.001385196 | -0.005021314 |  0.0008624387 |\n",
       "\n"
      ],
      "text/plain": [
       "     [,1]       [,2]         [,3]         [,4]         \n",
       "[1,] 42.8460778 -0.274517258 -1.666784957  0.1044984818\n",
       "[2,] -0.2745173  0.005399764  0.009802163 -0.0013851965\n",
       "[3,] -1.6667850  0.009802163  0.067921641 -0.0050213139\n",
       "[4,]  0.1044985 -0.001385196 -0.005021314  0.0008624387"
      ]
     },
     "metadata": {},
     "output_type": "display_data"
    }
   ],
   "source": [
    "xx_i <- solve(xx)\n",
    "xx_i"
   ]
  },
  {
   "cell_type": "code",
   "execution_count": 71,
   "id": "6ad1d07a-90f0-4e4c-9d33-0f541bc79c1f",
   "metadata": {},
   "outputs": [
    {
     "data": {
      "text/html": [
       "<table class=\"dataframe\">\n",
       "<caption>A matrix: 4 × 1 of type dbl</caption>\n",
       "<tbody>\n",
       "\t<tr><td>  34.6</td></tr>\n",
       "\t<tr><td> 686.3</td></tr>\n",
       "\t<tr><td> 916.0</td></tr>\n",
       "\t<tr><td>2249.9</td></tr>\n",
       "</tbody>\n",
       "</table>\n"
      ],
      "text/latex": [
       "A matrix: 4 × 1 of type dbl\n",
       "\\begin{tabular}{l}\n",
       "\t   34.6\\\\\n",
       "\t  686.3\\\\\n",
       "\t  916.0\\\\\n",
       "\t 2249.9\\\\\n",
       "\\end{tabular}\n"
      ],
      "text/markdown": [
       "\n",
       "A matrix: 4 × 1 of type dbl\n",
       "\n",
       "|   34.6 |\n",
       "|  686.3 |\n",
       "|  916.0 |\n",
       "| 2249.9 |\n",
       "\n"
      ],
      "text/plain": [
       "     [,1]  \n",
       "[1,]   34.6\n",
       "[2,]  686.3\n",
       "[3,]  916.0\n",
       "[4,] 2249.9"
      ]
     },
     "metadata": {},
     "output_type": "display_data"
    }
   ],
   "source": [
    "xy <- t(x) %*% y\n",
    "xy"
   ]
  },
  {
   "cell_type": "code",
   "execution_count": 72,
   "id": "1a3b9074-6b19-4f88-9533-062ba388069c",
   "metadata": {},
   "outputs": [
    {
     "data": {
      "text/html": [
       "<table class=\"dataframe\">\n",
       "<caption>A matrix: 1 × 1 of type dbl</caption>\n",
       "<tbody>\n",
       "\t<tr><td>121.94</td></tr>\n",
       "</tbody>\n",
       "</table>\n"
      ],
      "text/latex": [
       "A matrix: 1 × 1 of type dbl\n",
       "\\begin{tabular}{l}\n",
       "\t 121.94\\\\\n",
       "\\end{tabular}\n"
      ],
      "text/markdown": [
       "\n",
       "A matrix: 1 × 1 of type dbl\n",
       "\n",
       "| 121.94 |\n",
       "\n"
      ],
      "text/plain": [
       "     [,1]  \n",
       "[1,] 121.94"
      ]
     },
     "metadata": {},
     "output_type": "display_data"
    }
   ],
   "source": [
    "yy <- t(y) %*% y\n",
    "yy"
   ]
  },
  {
   "cell_type": "code",
   "execution_count": 73,
   "id": "c967017e-9381-43a8-b81a-459fcdf04c3f",
   "metadata": {},
   "outputs": [
    {
     "data": {
      "text/html": [
       "<table class=\"dataframe\">\n",
       "<caption>A matrix: 4 × 1 of type dbl</caption>\n",
       "<tbody>\n",
       "\t<tr><td> 2.409213010</td></tr>\n",
       "\t<tr><td> 0.069788005</td></tr>\n",
       "\t<tr><td>-0.024766597</td></tr>\n",
       "\t<tr><td> 0.005864434</td></tr>\n",
       "</tbody>\n",
       "</table>\n"
      ],
      "text/latex": [
       "A matrix: 4 × 1 of type dbl\n",
       "\\begin{tabular}{l}\n",
       "\t  2.409213010\\\\\n",
       "\t  0.069788005\\\\\n",
       "\t -0.024766597\\\\\n",
       "\t  0.005864434\\\\\n",
       "\\end{tabular}\n"
      ],
      "text/markdown": [
       "\n",
       "A matrix: 4 × 1 of type dbl\n",
       "\n",
       "|  2.409213010 |\n",
       "|  0.069788005 |\n",
       "| -0.024766597 |\n",
       "|  0.005864434 |\n",
       "\n"
      ],
      "text/plain": [
       "     [,1]        \n",
       "[1,]  2.409213010\n",
       "[2,]  0.069788005\n",
       "[3,] -0.024766597\n",
       "[4,]  0.005864434"
      ]
     },
     "metadata": {},
     "output_type": "display_data"
    }
   ],
   "source": [
    "b <- xx_i %*% xy\n",
    "b"
   ]
  },
  {
   "cell_type": "markdown",
   "id": "9d04dce4-3e1b-48c1-8d7a-c71b15ca1e3d",
   "metadata": {},
   "source": [
    "$\\hat{y} = 2.409 + 0.0698x_1 - 0.0248x_2 + 0.0059x_3$"
   ]
  },
  {
   "cell_type": "markdown",
   "id": "4f28249a-77e9-46cd-aeaa-52eaaf896ccc",
   "metadata": {},
   "source": [
    "###### (2) $\\hat{\\beta}_1, \\hat{\\beta}_2$와 $\\hat{\\beta}_3$의 의미는 무엇인가?"
   ]
  },
  {
   "cell_type": "markdown",
   "id": "dc41fcbb-fa54-4f54-93b6-56e23dc1af67",
   "metadata": {},
   "source": [
    "$\\hat{\\beta}_1$ : 작업일수, 작업량이 변하지 않을 때, 평균온도가 1도씨 증가하면 물소비량은 69.8톤 증가한다.\n",
    "\n",
    "$\\hat{\\beta}_2$ : 평균온도, 작업량이 변하지 않을 때, 작업일수가 1일 증가하면 물소비량은 24.8톤 감소한다.\n",
    "\n",
    "$\\hat{\\beta}_3$ : 평균온도, 작업일수이 변하지 않을 때, 작업량이 1000톤 증가하면 물소비량은 5.9톤 증가한다."
   ]
  },
  {
   "cell_type": "markdown",
   "id": "bdf1e77c-fcb8-496e-9dd5-ce23eaff69fd",
   "metadata": {
    "tags": []
   },
   "source": [
    "###### (3) $Var(\\hat{\\beta}_3)$을 구하시오. $\\sigma^2$을 MSE 로 추정하면 $\\hat{Var}(\\hat{\\beta}_3)$은 무엇인가?"
   ]
  },
  {
   "cell_type": "code",
   "execution_count": 74,
   "id": "d28c37a8-9beb-4ce6-8e2f-902b8e15392e",
   "metadata": {},
   "outputs": [
    {
     "data": {
      "text/html": [
       "<table class=\"dataframe\">\n",
       "<caption>A matrix: 4 × 4 of type dbl</caption>\n",
       "<thead>\n",
       "\t<tr><th></th><th scope=col>Estimate</th><th scope=col>Std. Error</th><th scope=col>t value</th><th scope=col>Pr(&gt;|t|)</th></tr>\n",
       "</thead>\n",
       "<tbody>\n",
       "\t<tr><th scope=row>(Intercept)</th><td> 2.409213010</td><td>1.125953765</td><td> 2.1397087</td><td>0.076181015</td></tr>\n",
       "\t<tr><th scope=row>x1</th><td> 0.069788005</td><td>0.012640155</td><td> 5.5211353</td><td>0.001485354</td></tr>\n",
       "\t<tr><th scope=row>x2</th><td>-0.024766597</td><td>0.044830038</td><td>-0.5524554</td><td>0.600595338</td></tr>\n",
       "\t<tr><th scope=row>x3</th><td> 0.005864434</td><td>0.005051602</td><td> 1.1609058</td><td>0.289775583</td></tr>\n",
       "</tbody>\n",
       "</table>\n"
      ],
      "text/latex": [
       "A matrix: 4 × 4 of type dbl\n",
       "\\begin{tabular}{r|llll}\n",
       "  & Estimate & Std. Error & t value & Pr(>\\textbar{}t\\textbar{})\\\\\n",
       "\\hline\n",
       "\t(Intercept) &  2.409213010 & 1.125953765 &  2.1397087 & 0.076181015\\\\\n",
       "\tx1 &  0.069788005 & 0.012640155 &  5.5211353 & 0.001485354\\\\\n",
       "\tx2 & -0.024766597 & 0.044830038 & -0.5524554 & 0.600595338\\\\\n",
       "\tx3 &  0.005864434 & 0.005051602 &  1.1609058 & 0.289775583\\\\\n",
       "\\end{tabular}\n"
      ],
      "text/markdown": [
       "\n",
       "A matrix: 4 × 4 of type dbl\n",
       "\n",
       "| <!--/--> | Estimate | Std. Error | t value | Pr(&gt;|t|) |\n",
       "|---|---|---|---|---|\n",
       "| (Intercept) |  2.409213010 | 1.125953765 |  2.1397087 | 0.076181015 |\n",
       "| x1 |  0.069788005 | 0.012640155 |  5.5211353 | 0.001485354 |\n",
       "| x2 | -0.024766597 | 0.044830038 | -0.5524554 | 0.600595338 |\n",
       "| x3 |  0.005864434 | 0.005051602 |  1.1609058 | 0.289775583 |\n",
       "\n"
      ],
      "text/plain": [
       "            Estimate     Std. Error  t value    Pr(>|t|)   \n",
       "(Intercept)  2.409213010 1.125953765  2.1397087 0.076181015\n",
       "x1           0.069788005 0.012640155  5.5211353 0.001485354\n",
       "x2          -0.024766597 0.044830038 -0.5524554 0.600595338\n",
       "x3           0.005864434 0.005051602  1.1609058 0.289775583"
      ]
     },
     "metadata": {},
     "output_type": "display_data"
    }
   ],
   "source": [
    "summary(m3)$coefficients"
   ]
  },
  {
   "cell_type": "markdown",
   "id": "8425bc2d-6b91-4df8-8d37-175372e006ca",
   "metadata": {},
   "source": [
    "$var(\\beta_3) = (x^\\top x)^{-1}_{(4,4)} \\sigma^2$"
   ]
  },
  {
   "cell_type": "code",
   "execution_count": 75,
   "id": "022bb89e-0ea0-48b8-ae08-e0e4e659f6b7",
   "metadata": {},
   "outputs": [
    {
     "data": {
      "text/html": [
       "0.000862438702127396"
      ],
      "text/latex": [
       "0.000862438702127396"
      ],
      "text/markdown": [
       "0.000862438702127396"
      ],
      "text/plain": [
       "[1] 0.0008624387"
      ]
     },
     "metadata": {},
     "output_type": "display_data"
    }
   ],
   "source": [
    "xx_i[4,4]\n",
    "## 0.0009*sigma^2"
   ]
  },
  {
   "cell_type": "code",
   "execution_count": 76,
   "id": "adc047ad-1a41-4ff0-9224-f5c9af185bad",
   "metadata": {},
   "outputs": [
    {
     "data": {
      "text/html": [
       "<table class=\"dataframe\">\n",
       "<caption>A matrix: 1 × 1 of type dbl</caption>\n",
       "<tbody>\n",
       "\t<tr><td>0.4037738</td></tr>\n",
       "</tbody>\n",
       "</table>\n"
      ],
      "text/latex": [
       "A matrix: 1 × 1 of type dbl\n",
       "\\begin{tabular}{l}\n",
       "\t 0.4037738\\\\\n",
       "\\end{tabular}\n"
      ],
      "text/markdown": [
       "\n",
       "A matrix: 1 × 1 of type dbl\n",
       "\n",
       "| 0.4037738 |\n",
       "\n"
      ],
      "text/plain": [
       "     [,1]     \n",
       "[1,] 0.4037738"
      ]
     },
     "metadata": {},
     "output_type": "display_data"
    }
   ],
   "source": [
    "hat_var_b3 <- xx_i[4,4] * mse\n",
    "hat_var_b3"
   ]
  },
  {
   "cell_type": "markdown",
   "id": "7e97f1a8-6a6b-4696-8bff-8941cde8628d",
   "metadata": {},
   "source": [
    "$var(\\hat{\\beta}_3) = 0.0000255$"
   ]
  },
  {
   "cell_type": "markdown",
   "id": "2c5bcd0d-e92b-471b-a7b7-08682eeb7ccf",
   "metadata": {},
   "source": [
    "###### (4) 분산분석표를 작성하고, 결정계수 $R^2$을 구하시오."
   ]
  },
  {
   "cell_type": "code",
   "execution_count": 77,
   "id": "033e42c3-6202-4ed8-bc75-e683902e3a9c",
   "metadata": {},
   "outputs": [
    {
     "data": {
      "text/html": [
       "<table class=\"dataframe\">\n",
       "<caption>A anova: 4 × 5</caption>\n",
       "<thead>\n",
       "\t<tr><th></th><th scope=col>Df</th><th scope=col>Sum Sq</th><th scope=col>Mean Sq</th><th scope=col>F value</th><th scope=col>Pr(&gt;F)</th></tr>\n",
       "\t<tr><th></th><th scope=col>&lt;int&gt;</th><th scope=col>&lt;dbl&gt;</th><th scope=col>&lt;dbl&gt;</th><th scope=col>&lt;dbl&gt;</th><th scope=col>&lt;dbl&gt;</th></tr>\n",
       "</thead>\n",
       "<tbody>\n",
       "\t<tr><th scope=row>x1</th><td>1</td><td>2.004315887</td><td>2.004315887</td><td>67.73858599</td><td>0.0001737553</td></tr>\n",
       "\t<tr><th scope=row>x2</th><td>1</td><td>0.002273071</td><td>0.002273071</td><td> 0.07682153</td><td>0.7909535228</td></tr>\n",
       "\t<tr><th scope=row>x3</th><td>1</td><td>0.039877142</td><td>0.039877142</td><td> 1.34770234</td><td>0.2897755827</td></tr>\n",
       "\t<tr><th scope=row>Residuals</th><td>6</td><td>0.177533900</td><td>0.029588983</td><td>         NA</td><td>          NA</td></tr>\n",
       "</tbody>\n",
       "</table>\n"
      ],
      "text/latex": [
       "A anova: 4 × 5\n",
       "\\begin{tabular}{r|lllll}\n",
       "  & Df & Sum Sq & Mean Sq & F value & Pr(>F)\\\\\n",
       "  & <int> & <dbl> & <dbl> & <dbl> & <dbl>\\\\\n",
       "\\hline\n",
       "\tx1 & 1 & 2.004315887 & 2.004315887 & 67.73858599 & 0.0001737553\\\\\n",
       "\tx2 & 1 & 0.002273071 & 0.002273071 &  0.07682153 & 0.7909535228\\\\\n",
       "\tx3 & 1 & 0.039877142 & 0.039877142 &  1.34770234 & 0.2897755827\\\\\n",
       "\tResiduals & 6 & 0.177533900 & 0.029588983 &          NA &           NA\\\\\n",
       "\\end{tabular}\n"
      ],
      "text/markdown": [
       "\n",
       "A anova: 4 × 5\n",
       "\n",
       "| <!--/--> | Df &lt;int&gt; | Sum Sq &lt;dbl&gt; | Mean Sq &lt;dbl&gt; | F value &lt;dbl&gt; | Pr(&gt;F) &lt;dbl&gt; |\n",
       "|---|---|---|---|---|---|\n",
       "| x1 | 1 | 2.004315887 | 2.004315887 | 67.73858599 | 0.0001737553 |\n",
       "| x2 | 1 | 0.002273071 | 0.002273071 |  0.07682153 | 0.7909535228 |\n",
       "| x3 | 1 | 0.039877142 | 0.039877142 |  1.34770234 | 0.2897755827 |\n",
       "| Residuals | 6 | 0.177533900 | 0.029588983 |          NA |           NA |\n",
       "\n"
      ],
      "text/plain": [
       "          Df Sum Sq      Mean Sq     F value     Pr(>F)      \n",
       "x1        1  2.004315887 2.004315887 67.73858599 0.0001737553\n",
       "x2        1  0.002273071 0.002273071  0.07682153 0.7909535228\n",
       "x3        1  0.039877142 0.039877142  1.34770234 0.2897755827\n",
       "Residuals 6  0.177533900 0.029588983          NA           NA"
      ]
     },
     "metadata": {},
     "output_type": "display_data"
    }
   ],
   "source": [
    "anova(m3)"
   ]
  },
  {
   "cell_type": "code",
   "execution_count": 78,
   "id": "ece62006-5b52-447c-a747-8d09e1067271",
   "metadata": {},
   "outputs": [
    {
     "data": {
      "text/html": [
       "<table class=\"dataframe\">\n",
       "<caption>A matrix: 10 × 10 of type dbl</caption>\n",
       "<tbody>\n",
       "\t<tr><td>1</td><td>0</td><td>0</td><td>0</td><td>0</td><td>0</td><td>0</td><td>0</td><td>0</td><td>0</td></tr>\n",
       "\t<tr><td>0</td><td>1</td><td>0</td><td>0</td><td>0</td><td>0</td><td>0</td><td>0</td><td>0</td><td>0</td></tr>\n",
       "\t<tr><td>0</td><td>0</td><td>1</td><td>0</td><td>0</td><td>0</td><td>0</td><td>0</td><td>0</td><td>0</td></tr>\n",
       "\t<tr><td>0</td><td>0</td><td>0</td><td>1</td><td>0</td><td>0</td><td>0</td><td>0</td><td>0</td><td>0</td></tr>\n",
       "\t<tr><td>0</td><td>0</td><td>0</td><td>0</td><td>1</td><td>0</td><td>0</td><td>0</td><td>0</td><td>0</td></tr>\n",
       "\t<tr><td>0</td><td>0</td><td>0</td><td>0</td><td>0</td><td>1</td><td>0</td><td>0</td><td>0</td><td>0</td></tr>\n",
       "\t<tr><td>0</td><td>0</td><td>0</td><td>0</td><td>0</td><td>0</td><td>1</td><td>0</td><td>0</td><td>0</td></tr>\n",
       "\t<tr><td>0</td><td>0</td><td>0</td><td>0</td><td>0</td><td>0</td><td>0</td><td>1</td><td>0</td><td>0</td></tr>\n",
       "\t<tr><td>0</td><td>0</td><td>0</td><td>0</td><td>0</td><td>0</td><td>0</td><td>0</td><td>1</td><td>0</td></tr>\n",
       "\t<tr><td>0</td><td>0</td><td>0</td><td>0</td><td>0</td><td>0</td><td>0</td><td>0</td><td>0</td><td>1</td></tr>\n",
       "</tbody>\n",
       "</table>\n"
      ],
      "text/latex": [
       "A matrix: 10 × 10 of type dbl\n",
       "\\begin{tabular}{llllllllll}\n",
       "\t 1 & 0 & 0 & 0 & 0 & 0 & 0 & 0 & 0 & 0\\\\\n",
       "\t 0 & 1 & 0 & 0 & 0 & 0 & 0 & 0 & 0 & 0\\\\\n",
       "\t 0 & 0 & 1 & 0 & 0 & 0 & 0 & 0 & 0 & 0\\\\\n",
       "\t 0 & 0 & 0 & 1 & 0 & 0 & 0 & 0 & 0 & 0\\\\\n",
       "\t 0 & 0 & 0 & 0 & 1 & 0 & 0 & 0 & 0 & 0\\\\\n",
       "\t 0 & 0 & 0 & 0 & 0 & 1 & 0 & 0 & 0 & 0\\\\\n",
       "\t 0 & 0 & 0 & 0 & 0 & 0 & 1 & 0 & 0 & 0\\\\\n",
       "\t 0 & 0 & 0 & 0 & 0 & 0 & 0 & 1 & 0 & 0\\\\\n",
       "\t 0 & 0 & 0 & 0 & 0 & 0 & 0 & 0 & 1 & 0\\\\\n",
       "\t 0 & 0 & 0 & 0 & 0 & 0 & 0 & 0 & 0 & 1\\\\\n",
       "\\end{tabular}\n"
      ],
      "text/markdown": [
       "\n",
       "A matrix: 10 × 10 of type dbl\n",
       "\n",
       "| 1 | 0 | 0 | 0 | 0 | 0 | 0 | 0 | 0 | 0 |\n",
       "| 0 | 1 | 0 | 0 | 0 | 0 | 0 | 0 | 0 | 0 |\n",
       "| 0 | 0 | 1 | 0 | 0 | 0 | 0 | 0 | 0 | 0 |\n",
       "| 0 | 0 | 0 | 1 | 0 | 0 | 0 | 0 | 0 | 0 |\n",
       "| 0 | 0 | 0 | 0 | 1 | 0 | 0 | 0 | 0 | 0 |\n",
       "| 0 | 0 | 0 | 0 | 0 | 1 | 0 | 0 | 0 | 0 |\n",
       "| 0 | 0 | 0 | 0 | 0 | 0 | 1 | 0 | 0 | 0 |\n",
       "| 0 | 0 | 0 | 0 | 0 | 0 | 0 | 1 | 0 | 0 |\n",
       "| 0 | 0 | 0 | 0 | 0 | 0 | 0 | 0 | 1 | 0 |\n",
       "| 0 | 0 | 0 | 0 | 0 | 0 | 0 | 0 | 0 | 1 |\n",
       "\n"
      ],
      "text/plain": [
       "      [,1] [,2] [,3] [,4] [,5] [,6] [,7] [,8] [,9] [,10]\n",
       " [1,] 1    0    0    0    0    0    0    0    0    0    \n",
       " [2,] 0    1    0    0    0    0    0    0    0    0    \n",
       " [3,] 0    0    1    0    0    0    0    0    0    0    \n",
       " [4,] 0    0    0    1    0    0    0    0    0    0    \n",
       " [5,] 0    0    0    0    1    0    0    0    0    0    \n",
       " [6,] 0    0    0    0    0    1    0    0    0    0    \n",
       " [7,] 0    0    0    0    0    0    1    0    0    0    \n",
       " [8,] 0    0    0    0    0    0    0    1    0    0    \n",
       " [9,] 0    0    0    0    0    0    0    0    1    0    \n",
       "[10,] 0    0    0    0    0    0    0    0    0    1    "
      ]
     },
     "metadata": {},
     "output_type": "display_data"
    }
   ],
   "source": [
    "I10 = diag(rep(1,10))\n",
    "I10"
   ]
  },
  {
   "cell_type": "code",
   "execution_count": 79,
   "id": "8cd3fdf7-a340-4e54-99f0-eba9d525f295",
   "metadata": {},
   "outputs": [
    {
     "data": {
      "text/html": [
       "<table class=\"dataframe\">\n",
       "<caption>A matrix: 10 × 10 of type dbl</caption>\n",
       "<tbody>\n",
       "\t<tr><td> 0.479007503</td><td>-0.005805719</td><td>-0.08066882</td><td>-0.01958705</td><td> 0.26225012</td><td> 0.09655116</td><td>-0.23996631</td><td> 0.10866366</td><td> 0.28730870</td><td> 0.11224675</td></tr>\n",
       "\t<tr><td>-0.005805719</td><td> 0.186448902</td><td> 0.16479959</td><td> 0.27196857</td><td> 0.01139329</td><td> 0.10399383</td><td> 0.06627062</td><td> 0.18477003</td><td>-0.01335934</td><td> 0.02952023</td></tr>\n",
       "\t<tr><td>-0.080668821</td><td> 0.164799589</td><td> 0.33179614</td><td> 0.23355629</td><td> 0.24558622</td><td>-0.08987596</td><td> 0.23998739</td><td> 0.04338569</td><td>-0.01509426</td><td>-0.07347228</td></tr>\n",
       "\t<tr><td>-0.019587049</td><td> 0.271968566</td><td> 0.23355629</td><td> 0.48736361</td><td> 0.01178437</td><td> 0.05219047</td><td>-0.10292798</td><td> 0.28777554</td><td>-0.11085118</td><td>-0.11127263</td></tr>\n",
       "\t<tr><td> 0.262250120</td><td> 0.011393292</td><td> 0.24558622</td><td> 0.01178437</td><td> 0.58743384</td><td>-0.22034983</td><td> 0.06947229</td><td>-0.08527926</td><td> 0.20954991</td><td>-0.09184095</td></tr>\n",
       "\t<tr><td> 0.096551163</td><td> 0.103993827</td><td>-0.08987596</td><td> 0.05219047</td><td>-0.22034983</td><td> 0.36048096</td><td> 0.08217297</td><td> 0.20539705</td><td> 0.10911272</td><td> 0.30032662</td></tr>\n",
       "\t<tr><td>-0.239966310</td><td> 0.066270622</td><td> 0.23998739</td><td>-0.10292798</td><td> 0.06947229</td><td> 0.08217297</td><td> 0.69646084</td><td>-0.11029224</td><td> 0.06925883</td><td> 0.22956358</td></tr>\n",
       "\t<tr><td> 0.108663660</td><td> 0.184770026</td><td> 0.04338569</td><td> 0.28777554</td><td>-0.08527926</td><td> 0.20539705</td><td>-0.11029224</td><td> 0.27283220</td><td> 0.01617393</td><td> 0.07657339</td></tr>\n",
       "\t<tr><td> 0.287308704</td><td>-0.013359337</td><td>-0.01509426</td><td>-0.11085118</td><td> 0.20954991</td><td> 0.10911272</td><td> 0.06925883</td><td> 0.01617393</td><td> 0.25886069</td><td> 0.18903998</td></tr>\n",
       "\t<tr><td> 0.112246749</td><td> 0.029520231</td><td>-0.07347228</td><td>-0.11127263</td><td>-0.09184095</td><td> 0.30032662</td><td> 0.22956358</td><td> 0.07657339</td><td> 0.18903998</td><td> 0.33931531</td></tr>\n",
       "</tbody>\n",
       "</table>\n"
      ],
      "text/latex": [
       "A matrix: 10 × 10 of type dbl\n",
       "\\begin{tabular}{llllllllll}\n",
       "\t  0.479007503 & -0.005805719 & -0.08066882 & -0.01958705 &  0.26225012 &  0.09655116 & -0.23996631 &  0.10866366 &  0.28730870 &  0.11224675\\\\\n",
       "\t -0.005805719 &  0.186448902 &  0.16479959 &  0.27196857 &  0.01139329 &  0.10399383 &  0.06627062 &  0.18477003 & -0.01335934 &  0.02952023\\\\\n",
       "\t -0.080668821 &  0.164799589 &  0.33179614 &  0.23355629 &  0.24558622 & -0.08987596 &  0.23998739 &  0.04338569 & -0.01509426 & -0.07347228\\\\\n",
       "\t -0.019587049 &  0.271968566 &  0.23355629 &  0.48736361 &  0.01178437 &  0.05219047 & -0.10292798 &  0.28777554 & -0.11085118 & -0.11127263\\\\\n",
       "\t  0.262250120 &  0.011393292 &  0.24558622 &  0.01178437 &  0.58743384 & -0.22034983 &  0.06947229 & -0.08527926 &  0.20954991 & -0.09184095\\\\\n",
       "\t  0.096551163 &  0.103993827 & -0.08987596 &  0.05219047 & -0.22034983 &  0.36048096 &  0.08217297 &  0.20539705 &  0.10911272 &  0.30032662\\\\\n",
       "\t -0.239966310 &  0.066270622 &  0.23998739 & -0.10292798 &  0.06947229 &  0.08217297 &  0.69646084 & -0.11029224 &  0.06925883 &  0.22956358\\\\\n",
       "\t  0.108663660 &  0.184770026 &  0.04338569 &  0.28777554 & -0.08527926 &  0.20539705 & -0.11029224 &  0.27283220 &  0.01617393 &  0.07657339\\\\\n",
       "\t  0.287308704 & -0.013359337 & -0.01509426 & -0.11085118 &  0.20954991 &  0.10911272 &  0.06925883 &  0.01617393 &  0.25886069 &  0.18903998\\\\\n",
       "\t  0.112246749 &  0.029520231 & -0.07347228 & -0.11127263 & -0.09184095 &  0.30032662 &  0.22956358 &  0.07657339 &  0.18903998 &  0.33931531\\\\\n",
       "\\end{tabular}\n"
      ],
      "text/markdown": [
       "\n",
       "A matrix: 10 × 10 of type dbl\n",
       "\n",
       "|  0.479007503 | -0.005805719 | -0.08066882 | -0.01958705 |  0.26225012 |  0.09655116 | -0.23996631 |  0.10866366 |  0.28730870 |  0.11224675 |\n",
       "| -0.005805719 |  0.186448902 |  0.16479959 |  0.27196857 |  0.01139329 |  0.10399383 |  0.06627062 |  0.18477003 | -0.01335934 |  0.02952023 |\n",
       "| -0.080668821 |  0.164799589 |  0.33179614 |  0.23355629 |  0.24558622 | -0.08987596 |  0.23998739 |  0.04338569 | -0.01509426 | -0.07347228 |\n",
       "| -0.019587049 |  0.271968566 |  0.23355629 |  0.48736361 |  0.01178437 |  0.05219047 | -0.10292798 |  0.28777554 | -0.11085118 | -0.11127263 |\n",
       "|  0.262250120 |  0.011393292 |  0.24558622 |  0.01178437 |  0.58743384 | -0.22034983 |  0.06947229 | -0.08527926 |  0.20954991 | -0.09184095 |\n",
       "|  0.096551163 |  0.103993827 | -0.08987596 |  0.05219047 | -0.22034983 |  0.36048096 |  0.08217297 |  0.20539705 |  0.10911272 |  0.30032662 |\n",
       "| -0.239966310 |  0.066270622 |  0.23998739 | -0.10292798 |  0.06947229 |  0.08217297 |  0.69646084 | -0.11029224 |  0.06925883 |  0.22956358 |\n",
       "|  0.108663660 |  0.184770026 |  0.04338569 |  0.28777554 | -0.08527926 |  0.20539705 | -0.11029224 |  0.27283220 |  0.01617393 |  0.07657339 |\n",
       "|  0.287308704 | -0.013359337 | -0.01509426 | -0.11085118 |  0.20954991 |  0.10911272 |  0.06925883 |  0.01617393 |  0.25886069 |  0.18903998 |\n",
       "|  0.112246749 |  0.029520231 | -0.07347228 | -0.11127263 | -0.09184095 |  0.30032662 |  0.22956358 |  0.07657339 |  0.18903998 |  0.33931531 |\n",
       "\n"
      ],
      "text/plain": [
       "      [,1]         [,2]         [,3]        [,4]        [,5]        [,6]       \n",
       " [1,]  0.479007503 -0.005805719 -0.08066882 -0.01958705  0.26225012  0.09655116\n",
       " [2,] -0.005805719  0.186448902  0.16479959  0.27196857  0.01139329  0.10399383\n",
       " [3,] -0.080668821  0.164799589  0.33179614  0.23355629  0.24558622 -0.08987596\n",
       " [4,] -0.019587049  0.271968566  0.23355629  0.48736361  0.01178437  0.05219047\n",
       " [5,]  0.262250120  0.011393292  0.24558622  0.01178437  0.58743384 -0.22034983\n",
       " [6,]  0.096551163  0.103993827 -0.08987596  0.05219047 -0.22034983  0.36048096\n",
       " [7,] -0.239966310  0.066270622  0.23998739 -0.10292798  0.06947229  0.08217297\n",
       " [8,]  0.108663660  0.184770026  0.04338569  0.28777554 -0.08527926  0.20539705\n",
       " [9,]  0.287308704 -0.013359337 -0.01509426 -0.11085118  0.20954991  0.10911272\n",
       "[10,]  0.112246749  0.029520231 -0.07347228 -0.11127263 -0.09184095  0.30032662\n",
       "      [,7]        [,8]        [,9]        [,10]      \n",
       " [1,] -0.23996631  0.10866366  0.28730870  0.11224675\n",
       " [2,]  0.06627062  0.18477003 -0.01335934  0.02952023\n",
       " [3,]  0.23998739  0.04338569 -0.01509426 -0.07347228\n",
       " [4,] -0.10292798  0.28777554 -0.11085118 -0.11127263\n",
       " [5,]  0.06947229 -0.08527926  0.20954991 -0.09184095\n",
       " [6,]  0.08217297  0.20539705  0.10911272  0.30032662\n",
       " [7,]  0.69646084 -0.11029224  0.06925883  0.22956358\n",
       " [8,] -0.11029224  0.27283220  0.01617393  0.07657339\n",
       " [9,]  0.06925883  0.01617393  0.25886069  0.18903998\n",
       "[10,]  0.22956358  0.07657339  0.18903998  0.33931531"
      ]
     },
     "metadata": {},
     "output_type": "display_data"
    }
   ],
   "source": [
    "H = x %*% xx_i %*% t(x)\n",
    "H"
   ]
  },
  {
   "cell_type": "markdown",
   "id": "6684b634-59ea-4a24-b08a-52c5de75c2c4",
   "metadata": {},
   "source": [
    "$SSE = y^\\top (I-H)y$\n",
    "\n",
    "$SST = y^\\top y - n(\\bar{y})^2$"
   ]
  },
  {
   "cell_type": "code",
   "execution_count": 80,
   "id": "9e102889-dab0-4a89-8029-49e68fe143d8",
   "metadata": {},
   "outputs": [
    {
     "data": {
      "text/html": [
       "<table class=\"dataframe\">\n",
       "<caption>A matrix: 1 × 1 of type dbl</caption>\n",
       "<tbody>\n",
       "\t<tr><td>0.1775339</td></tr>\n",
       "</tbody>\n",
       "</table>\n"
      ],
      "text/latex": [
       "A matrix: 1 × 1 of type dbl\n",
       "\\begin{tabular}{l}\n",
       "\t 0.1775339\\\\\n",
       "\\end{tabular}\n"
      ],
      "text/markdown": [
       "\n",
       "A matrix: 1 × 1 of type dbl\n",
       "\n",
       "| 0.1775339 |\n",
       "\n"
      ],
      "text/plain": [
       "     [,1]     \n",
       "[1,] 0.1775339"
      ]
     },
     "metadata": {},
     "output_type": "display_data"
    }
   ],
   "source": [
    "sse = t(y) %*% (I10-H) %*% y\n",
    "sse"
   ]
  },
  {
   "cell_type": "code",
   "execution_count": 81,
   "id": "327bfa39-16e6-41a1-812f-068c486362e8",
   "metadata": {},
   "outputs": [
    {
     "data": {
      "text/html": [
       "<table class=\"dataframe\">\n",
       "<caption>A matrix: 1 × 1 of type dbl</caption>\n",
       "<tbody>\n",
       "\t<tr><td>2.224</td></tr>\n",
       "</tbody>\n",
       "</table>\n"
      ],
      "text/latex": [
       "A matrix: 1 × 1 of type dbl\n",
       "\\begin{tabular}{l}\n",
       "\t 2.224\\\\\n",
       "\\end{tabular}\n"
      ],
      "text/markdown": [
       "\n",
       "A matrix: 1 × 1 of type dbl\n",
       "\n",
       "| 2.224 |\n",
       "\n"
      ],
      "text/plain": [
       "     [,1] \n",
       "[1,] 2.224"
      ]
     },
     "metadata": {},
     "output_type": "display_data"
    }
   ],
   "source": [
    "sst = t(y) %*% y - 10 * mean(y)^2\n",
    "sst"
   ]
  },
  {
   "cell_type": "code",
   "execution_count": 82,
   "id": "3a348b89-34f5-47f2-a26a-1130fde75929",
   "metadata": {},
   "outputs": [
    {
     "data": {
      "text/html": [
       "<table class=\"dataframe\">\n",
       "<caption>A matrix: 1 × 1 of type dbl</caption>\n",
       "<tbody>\n",
       "\t<tr><td>2.046466</td></tr>\n",
       "</tbody>\n",
       "</table>\n"
      ],
      "text/latex": [
       "A matrix: 1 × 1 of type dbl\n",
       "\\begin{tabular}{l}\n",
       "\t 2.046466\\\\\n",
       "\\end{tabular}\n"
      ],
      "text/markdown": [
       "\n",
       "A matrix: 1 × 1 of type dbl\n",
       "\n",
       "| 2.046466 |\n",
       "\n"
      ],
      "text/plain": [
       "     [,1]    \n",
       "[1,] 2.046466"
      ]
     },
     "metadata": {},
     "output_type": "display_data"
    }
   ],
   "source": [
    "ssr = sst- sse\n",
    "ssr"
   ]
  },
  {
   "cell_type": "code",
   "execution_count": 83,
   "id": "c0e25278-0a46-4bc9-920e-3ba2401849aa",
   "metadata": {},
   "outputs": [
    {
     "data": {
      "text/html": [
       "<table class=\"dataframe\">\n",
       "<caption>A matrix: 1 × 1 of type dbl</caption>\n",
       "<tbody>\n",
       "\t<tr><td>0.6821554</td></tr>\n",
       "</tbody>\n",
       "</table>\n"
      ],
      "text/latex": [
       "A matrix: 1 × 1 of type dbl\n",
       "\\begin{tabular}{l}\n",
       "\t 0.6821554\\\\\n",
       "\\end{tabular}\n"
      ],
      "text/markdown": [
       "\n",
       "A matrix: 1 × 1 of type dbl\n",
       "\n",
       "| 0.6821554 |\n",
       "\n"
      ],
      "text/plain": [
       "     [,1]     \n",
       "[1,] 0.6821554"
      ]
     },
     "metadata": {},
     "output_type": "display_data"
    }
   ],
   "source": [
    "msr = ssr/3\n",
    "msr"
   ]
  },
  {
   "cell_type": "code",
   "execution_count": 84,
   "id": "86ac85d6-03ca-40f5-a754-5b5987edb87e",
   "metadata": {},
   "outputs": [
    {
     "data": {
      "text/html": [
       "<table class=\"dataframe\">\n",
       "<caption>A matrix: 1 × 1 of type dbl</caption>\n",
       "<tbody>\n",
       "\t<tr><td>0.02958898</td></tr>\n",
       "</tbody>\n",
       "</table>\n"
      ],
      "text/latex": [
       "A matrix: 1 × 1 of type dbl\n",
       "\\begin{tabular}{l}\n",
       "\t 0.02958898\\\\\n",
       "\\end{tabular}\n"
      ],
      "text/markdown": [
       "\n",
       "A matrix: 1 × 1 of type dbl\n",
       "\n",
       "| 0.02958898 |\n",
       "\n"
      ],
      "text/plain": [
       "     [,1]      \n",
       "[1,] 0.02958898"
      ]
     },
     "metadata": {},
     "output_type": "display_data"
    }
   ],
   "source": [
    "mse = sse/6\n",
    "mse"
   ]
  },
  {
   "cell_type": "code",
   "execution_count": 85,
   "id": "346604f2-2777-4592-a9f5-46de83d589fa",
   "metadata": {},
   "outputs": [
    {
     "data": {
      "text/html": [
       "<table class=\"dataframe\">\n",
       "<caption>A matrix: 1 × 1 of type dbl</caption>\n",
       "<tbody>\n",
       "\t<tr><td>23.05437</td></tr>\n",
       "</tbody>\n",
       "</table>\n"
      ],
      "text/latex": [
       "A matrix: 1 × 1 of type dbl\n",
       "\\begin{tabular}{l}\n",
       "\t 23.05437\\\\\n",
       "\\end{tabular}\n"
      ],
      "text/markdown": [
       "\n",
       "A matrix: 1 × 1 of type dbl\n",
       "\n",
       "| 23.05437 |\n",
       "\n"
      ],
      "text/plain": [
       "     [,1]    \n",
       "[1,] 23.05437"
      ]
     },
     "metadata": {},
     "output_type": "display_data"
    }
   ],
   "source": [
    "f0 = msr/mse\n",
    "f0"
   ]
  },
  {
   "cell_type": "code",
   "execution_count": 86,
   "id": "8b9a0e8a-dee7-4594-b8d7-be0c4cfe5988",
   "metadata": {},
   "outputs": [
    {
     "data": {
      "text/html": [
       "4.75706266308941"
      ],
      "text/latex": [
       "4.75706266308941"
      ],
      "text/markdown": [
       "4.75706266308941"
      ],
      "text/plain": [
       "[1] 4.757063"
      ]
     },
     "metadata": {},
     "output_type": "display_data"
    }
   ],
   "source": [
    "qf(0.95,3,6)"
   ]
  },
  {
   "cell_type": "markdown",
   "id": "757a0fdc-8bfc-48be-b224-dacb14b63853",
   "metadata": {},
   "source": [
    "|요인|제곱합|자유도(df)|평균제곱(MS)|$F_0$|유의확률\n",
    "|:--:|:--:|:--:|:--:|:--:|:--:|\n",
    "|회귀|2.0465|3|0.6822|23.0544|4.7571|\n",
    "|잔차|0.1775|6|0.0296|||\n",
    "|계|2.2240|9||||"
   ]
  },
  {
   "cell_type": "markdown",
   "id": "c00a56ab-4f4c-4bbd-ae55-a7fe2b4077b8",
   "metadata": {},
   "source": [
    "$R^2$"
   ]
  },
  {
   "cell_type": "code",
   "execution_count": 87,
   "id": "d34f01d4-a2b1-4e24-8cb2-88ecbef233ec",
   "metadata": {},
   "outputs": [
    {
     "data": {
      "text/html": [
       "<table class=\"dataframe\">\n",
       "<caption>A matrix: 1 × 1 of type dbl</caption>\n",
       "<tbody>\n",
       "\t<tr><td>0.9201736</td></tr>\n",
       "</tbody>\n",
       "</table>\n"
      ],
      "text/latex": [
       "A matrix: 1 × 1 of type dbl\n",
       "\\begin{tabular}{l}\n",
       "\t 0.9201736\\\\\n",
       "\\end{tabular}\n"
      ],
      "text/markdown": [
       "\n",
       "A matrix: 1 × 1 of type dbl\n",
       "\n",
       "| 0.9201736 |\n",
       "\n"
      ],
      "text/plain": [
       "     [,1]     \n",
       "[1,] 0.9201736"
      ]
     },
     "metadata": {},
     "output_type": "display_data"
    }
   ],
   "source": [
    "ssr/sst\n",
    "#0.9202"
   ]
  },
  {
   "cell_type": "markdown",
   "id": "e196bc64-6b65-4a57-8b13-ef0d7f92c2f3",
   "metadata": {},
   "source": [
    "###### (5) $x_1 = 20, x_2 = 27, x_3 = 60$에서 평균 물소비량을 추정하시오. 이 추정된 소비량의 표준편차의 추정값을 구하시오."
   ]
  },
  {
   "cell_type": "code",
   "execution_count": 88,
   "id": "97582358-87c5-4f84-97f7-78cda5bfde13",
   "metadata": {},
   "outputs": [
    {
     "data": {
      "text/html": [
       "<table class=\"dataframe\">\n",
       "<caption>A data.frame: 1 × 3</caption>\n",
       "<thead>\n",
       "\t<tr><th scope=col>x1</th><th scope=col>x2</th><th scope=col>x3</th></tr>\n",
       "\t<tr><th scope=col>&lt;dbl&gt;</th><th scope=col>&lt;dbl&gt;</th><th scope=col>&lt;dbl&gt;</th></tr>\n",
       "</thead>\n",
       "<tbody>\n",
       "\t<tr><td>20</td><td>27</td><td>60</td></tr>\n",
       "</tbody>\n",
       "</table>\n"
      ],
      "text/latex": [
       "A data.frame: 1 × 3\n",
       "\\begin{tabular}{lll}\n",
       " x1 & x2 & x3\\\\\n",
       " <dbl> & <dbl> & <dbl>\\\\\n",
       "\\hline\n",
       "\t 20 & 27 & 60\\\\\n",
       "\\end{tabular}\n"
      ],
      "text/markdown": [
       "\n",
       "A data.frame: 1 × 3\n",
       "\n",
       "| x1 &lt;dbl&gt; | x2 &lt;dbl&gt; | x3 &lt;dbl&gt; |\n",
       "|---|---|---|\n",
       "| 20 | 27 | 60 |\n",
       "\n"
      ],
      "text/plain": [
       "  x1 x2 x3\n",
       "1 20 27 60"
      ]
     },
     "metadata": {},
     "output_type": "display_data"
    }
   ],
   "source": [
    "new_dt <- data.frame(x1=20, x2=27, x3 = 60)\n",
    "new_dt"
   ]
  },
  {
   "cell_type": "code",
   "execution_count": 89,
   "id": "67ec8a04-4765-48c8-b7a1-c7c777f3910b",
   "metadata": {},
   "outputs": [
    {
     "data": {
      "text/html": [
       "<strong>1:</strong> 3.48814105556645"
      ],
      "text/latex": [
       "\\textbf{1:} 3.48814105556645"
      ],
      "text/markdown": [
       "**1:** 3.48814105556645"
      ],
      "text/plain": [
       "       1 \n",
       "3.488141 "
      ]
     },
     "metadata": {},
     "output_type": "display_data"
    }
   ],
   "source": [
    "predict(m3, newdata = new_dt)"
   ]
  },
  {
   "cell_type": "code",
   "execution_count": 90,
   "id": "32fd34c1-de1e-4e11-807e-588f5791f182",
   "metadata": {},
   "outputs": [
    {
     "data": {
      "text/html": [
       "<style>\n",
       ".list-inline {list-style: none; margin:0; padding: 0}\n",
       ".list-inline>li {display: inline-block}\n",
       ".list-inline>li:not(:last-child)::after {content: \"\\00b7\"; padding: 0 .5ex}\n",
       "</style>\n",
       "<ol class=list-inline><li>1</li><li>20</li><li>27</li><li>60</li></ol>\n"
      ],
      "text/latex": [
       "\\begin{enumerate*}\n",
       "\\item 1\n",
       "\\item 20\n",
       "\\item 27\n",
       "\\item 60\n",
       "\\end{enumerate*}\n"
      ],
      "text/markdown": [
       "1. 1\n",
       "2. 20\n",
       "3. 27\n",
       "4. 60\n",
       "\n",
       "\n"
      ],
      "text/plain": [
       "[1]  1 20 27 60"
      ]
     },
     "metadata": {},
     "output_type": "display_data"
    }
   ],
   "source": [
    "x0 <- c(1,20,27,60)\n",
    "x0"
   ]
  },
  {
   "cell_type": "code",
   "execution_count": 91,
   "id": "c27617f8-69ec-4a55-9b05-619741306129",
   "metadata": {},
   "outputs": [
    {
     "data": {
      "text/html": [
       "<table class=\"dataframe\">\n",
       "<caption>A matrix: 1 × 1 of type dbl</caption>\n",
       "<tbody>\n",
       "\t<tr><td>3.488141</td></tr>\n",
       "</tbody>\n",
       "</table>\n"
      ],
      "text/latex": [
       "A matrix: 1 × 1 of type dbl\n",
       "\\begin{tabular}{l}\n",
       "\t 3.488141\\\\\n",
       "\\end{tabular}\n"
      ],
      "text/markdown": [
       "\n",
       "A matrix: 1 × 1 of type dbl\n",
       "\n",
       "| 3.488141 |\n",
       "\n"
      ],
      "text/plain": [
       "     [,1]    \n",
       "[1,] 3.488141"
      ]
     },
     "metadata": {},
     "output_type": "display_data"
    }
   ],
   "source": [
    "mu0 <- x0 %*% b\n",
    "mu0"
   ]
  },
  {
   "cell_type": "markdown",
   "id": "8c834ab8-c2d9-4c71-bdfa-4f439eb076b9",
   "metadata": {},
   "source": [
    "$\\hat{\\mu}_0 = 3.4881$"
   ]
  },
  {
   "cell_type": "code",
   "execution_count": 92,
   "id": "6d6e4d06-d146-43db-a707-bfbbcb9b9a74",
   "metadata": {},
   "outputs": [
    {
     "data": {
      "text/html": [
       "<table class=\"dataframe\">\n",
       "<caption>A matrix: 1 × 1 of type dbl</caption>\n",
       "<tbody>\n",
       "\t<tr><td>0.005065205</td></tr>\n",
       "</tbody>\n",
       "</table>\n"
      ],
      "text/latex": [
       "A matrix: 1 × 1 of type dbl\n",
       "\\begin{tabular}{l}\n",
       "\t 0.005065205\\\\\n",
       "\\end{tabular}\n"
      ],
      "text/markdown": [
       "\n",
       "A matrix: 1 × 1 of type dbl\n",
       "\n",
       "| 0.005065205 |\n",
       "\n"
      ],
      "text/plain": [
       "     [,1]       \n",
       "[1,] 0.005065205"
      ]
     },
     "metadata": {},
     "output_type": "display_data"
    }
   ],
   "source": [
    "var_mu0 <- (t(x0) %*% xx_i %*% x0) * mse\n",
    "var_mu0"
   ]
  },
  {
   "cell_type": "code",
   "execution_count": 93,
   "id": "87cbc5a0-6786-4642-a821-3c9552bdf1e6",
   "metadata": {},
   "outputs": [
    {
     "data": {
      "text/html": [
       "<table class=\"dataframe\">\n",
       "<caption>A matrix: 1 × 1 of type dbl</caption>\n",
       "<tbody>\n",
       "\t<tr><td>0.07117026</td></tr>\n",
       "</tbody>\n",
       "</table>\n"
      ],
      "text/latex": [
       "A matrix: 1 × 1 of type dbl\n",
       "\\begin{tabular}{l}\n",
       "\t 0.07117026\\\\\n",
       "\\end{tabular}\n"
      ],
      "text/markdown": [
       "\n",
       "A matrix: 1 × 1 of type dbl\n",
       "\n",
       "| 0.07117026 |\n",
       "\n"
      ],
      "text/plain": [
       "     [,1]      \n",
       "[1,] 0.07117026"
      ]
     },
     "metadata": {},
     "output_type": "display_data"
    }
   ],
   "source": [
    "sqrt(var_mu0)\n",
    "# se(hat mu0) = 0.0712"
   ]
  },
  {
   "cell_type": "markdown",
   "id": "9807ffdc-452a-4b5a-b280-59bdec38c0e2",
   "metadata": {},
   "source": [
    "###### (6) $x_1 = 20, x_2 = 27, x_3 = 60$에서 어느 한 달의 물소비량 $y_s$ 를 예측하여라. 이 예측된 물소비량의 표준편차의 추정값을 구하시오."
   ]
  },
  {
   "cell_type": "code",
   "execution_count": 94,
   "id": "a9888243-424e-4b05-9ff2-9cd0b8d5e006",
   "metadata": {},
   "outputs": [
    {
     "data": {
      "text/html": [
       "<style>\n",
       ".list-inline {list-style: none; margin:0; padding: 0}\n",
       ".list-inline>li {display: inline-block}\n",
       ".list-inline>li:not(:last-child)::after {content: \"\\00b7\"; padding: 0 .5ex}\n",
       "</style>\n",
       "<ol class=list-inline><li>1</li><li>20</li><li>27</li><li>60</li></ol>\n"
      ],
      "text/latex": [
       "\\begin{enumerate*}\n",
       "\\item 1\n",
       "\\item 20\n",
       "\\item 27\n",
       "\\item 60\n",
       "\\end{enumerate*}\n"
      ],
      "text/markdown": [
       "1. 1\n",
       "2. 20\n",
       "3. 27\n",
       "4. 60\n",
       "\n",
       "\n"
      ],
      "text/plain": [
       "[1]  1 20 27 60"
      ]
     },
     "metadata": {},
     "output_type": "display_data"
    }
   ],
   "source": [
    "x0 <- c(1,20,27,60)\n",
    "x0"
   ]
  },
  {
   "cell_type": "code",
   "execution_count": 95,
   "id": "780ab134-ada2-4eae-a874-b33f5fcb9ad1",
   "metadata": {},
   "outputs": [
    {
     "data": {
      "text/html": [
       "<table class=\"dataframe\">\n",
       "<caption>A matrix: 1 × 1 of type dbl</caption>\n",
       "<tbody>\n",
       "\t<tr><td>3.488141</td></tr>\n",
       "</tbody>\n",
       "</table>\n"
      ],
      "text/latex": [
       "A matrix: 1 × 1 of type dbl\n",
       "\\begin{tabular}{l}\n",
       "\t 3.488141\\\\\n",
       "\\end{tabular}\n"
      ],
      "text/markdown": [
       "\n",
       "A matrix: 1 × 1 of type dbl\n",
       "\n",
       "| 3.488141 |\n",
       "\n"
      ],
      "text/plain": [
       "     [,1]    \n",
       "[1,] 3.488141"
      ]
     },
     "metadata": {},
     "output_type": "display_data"
    }
   ],
   "source": [
    "mu0 <- x0 %*% b\n",
    "mu0"
   ]
  },
  {
   "cell_type": "markdown",
   "id": "5f423583-ede4-41d5-a62a-ecebb722fb81",
   "metadata": {},
   "source": [
    "$\\hat{y}_s = 3.4881$"
   ]
  },
  {
   "cell_type": "code",
   "execution_count": 96,
   "id": "a971506f-cd92-44b5-9823-9783ddc1caa5",
   "metadata": {},
   "outputs": [
    {
     "data": {
      "text/html": [
       "<table class=\"dataframe\">\n",
       "<caption>A matrix: 1 × 1 of type dbl</caption>\n",
       "<tbody>\n",
       "\t<tr><td>0.03465419</td></tr>\n",
       "</tbody>\n",
       "</table>\n"
      ],
      "text/latex": [
       "A matrix: 1 × 1 of type dbl\n",
       "\\begin{tabular}{l}\n",
       "\t 0.03465419\\\\\n",
       "\\end{tabular}\n"
      ],
      "text/markdown": [
       "\n",
       "A matrix: 1 × 1 of type dbl\n",
       "\n",
       "| 0.03465419 |\n",
       "\n"
      ],
      "text/plain": [
       "     [,1]      \n",
       "[1,] 0.03465419"
      ]
     },
     "metadata": {},
     "output_type": "display_data"
    }
   ],
   "source": [
    "var_ys <- (1+t(x0) %*% xx_i %*% x0) * mse\n",
    "var_ys"
   ]
  },
  {
   "cell_type": "code",
   "execution_count": 97,
   "id": "f0df7f4f-30aa-430c-ae46-da30d9a0dc3c",
   "metadata": {},
   "outputs": [
    {
     "data": {
      "text/html": [
       "<table class=\"dataframe\">\n",
       "<caption>A matrix: 1 × 1 of type dbl</caption>\n",
       "<tbody>\n",
       "\t<tr><td>0.1861564</td></tr>\n",
       "</tbody>\n",
       "</table>\n"
      ],
      "text/latex": [
       "A matrix: 1 × 1 of type dbl\n",
       "\\begin{tabular}{l}\n",
       "\t 0.1861564\\\\\n",
       "\\end{tabular}\n"
      ],
      "text/markdown": [
       "\n",
       "A matrix: 1 × 1 of type dbl\n",
       "\n",
       "| 0.1861564 |\n",
       "\n"
      ],
      "text/plain": [
       "     [,1]     \n",
       "[1,] 0.1861564"
      ]
     },
     "metadata": {},
     "output_type": "display_data"
    }
   ],
   "source": [
    "sqrt(var_ys)\n",
    "# se(hat ys) = 0.1862"
   ]
  },
  {
   "cell_type": "markdown",
   "id": "d147b29f-fde6-4f71-830e-fd24ce231617",
   "metadata": {},
   "source": [
    "###### (7) $y_j = \\beta_0 + \\beta_1 x_{1j} + \\beta_2 x_{2j} + \\epsilon_j$ 라 가정하고 회귀제곱합 SSR의 기대값을 $\\sigma^2$과 $\\beta_i, i = 0, 1, 2, 3$의 함수로 표시하여라."
   ]
  },
  {
   "cell_type": "code",
   "execution_count": 98,
   "id": "c836a8e9-9fc8-4fb1-904d-5b424d8c1e68",
   "metadata": {},
   "outputs": [
    {
     "data": {
      "text/html": [
       "<table class=\"dataframe\">\n",
       "<caption>A matrix: 10 × 10 of type dbl</caption>\n",
       "<tbody>\n",
       "\t<tr><td>1</td><td>0</td><td>0</td><td>0</td><td>0</td><td>0</td><td>0</td><td>0</td><td>0</td><td>0</td></tr>\n",
       "\t<tr><td>0</td><td>1</td><td>0</td><td>0</td><td>0</td><td>0</td><td>0</td><td>0</td><td>0</td><td>0</td></tr>\n",
       "\t<tr><td>0</td><td>0</td><td>1</td><td>0</td><td>0</td><td>0</td><td>0</td><td>0</td><td>0</td><td>0</td></tr>\n",
       "\t<tr><td>0</td><td>0</td><td>0</td><td>1</td><td>0</td><td>0</td><td>0</td><td>0</td><td>0</td><td>0</td></tr>\n",
       "\t<tr><td>0</td><td>0</td><td>0</td><td>0</td><td>1</td><td>0</td><td>0</td><td>0</td><td>0</td><td>0</td></tr>\n",
       "\t<tr><td>0</td><td>0</td><td>0</td><td>0</td><td>0</td><td>1</td><td>0</td><td>0</td><td>0</td><td>0</td></tr>\n",
       "\t<tr><td>0</td><td>0</td><td>0</td><td>0</td><td>0</td><td>0</td><td>1</td><td>0</td><td>0</td><td>0</td></tr>\n",
       "\t<tr><td>0</td><td>0</td><td>0</td><td>0</td><td>0</td><td>0</td><td>0</td><td>1</td><td>0</td><td>0</td></tr>\n",
       "\t<tr><td>0</td><td>0</td><td>0</td><td>0</td><td>0</td><td>0</td><td>0</td><td>0</td><td>1</td><td>0</td></tr>\n",
       "\t<tr><td>0</td><td>0</td><td>0</td><td>0</td><td>0</td><td>0</td><td>0</td><td>0</td><td>0</td><td>1</td></tr>\n",
       "</tbody>\n",
       "</table>\n"
      ],
      "text/latex": [
       "A matrix: 10 × 10 of type dbl\n",
       "\\begin{tabular}{llllllllll}\n",
       "\t 1 & 0 & 0 & 0 & 0 & 0 & 0 & 0 & 0 & 0\\\\\n",
       "\t 0 & 1 & 0 & 0 & 0 & 0 & 0 & 0 & 0 & 0\\\\\n",
       "\t 0 & 0 & 1 & 0 & 0 & 0 & 0 & 0 & 0 & 0\\\\\n",
       "\t 0 & 0 & 0 & 1 & 0 & 0 & 0 & 0 & 0 & 0\\\\\n",
       "\t 0 & 0 & 0 & 0 & 1 & 0 & 0 & 0 & 0 & 0\\\\\n",
       "\t 0 & 0 & 0 & 0 & 0 & 1 & 0 & 0 & 0 & 0\\\\\n",
       "\t 0 & 0 & 0 & 0 & 0 & 0 & 1 & 0 & 0 & 0\\\\\n",
       "\t 0 & 0 & 0 & 0 & 0 & 0 & 0 & 1 & 0 & 0\\\\\n",
       "\t 0 & 0 & 0 & 0 & 0 & 0 & 0 & 0 & 1 & 0\\\\\n",
       "\t 0 & 0 & 0 & 0 & 0 & 0 & 0 & 0 & 0 & 1\\\\\n",
       "\\end{tabular}\n"
      ],
      "text/markdown": [
       "\n",
       "A matrix: 10 × 10 of type dbl\n",
       "\n",
       "| 1 | 0 | 0 | 0 | 0 | 0 | 0 | 0 | 0 | 0 |\n",
       "| 0 | 1 | 0 | 0 | 0 | 0 | 0 | 0 | 0 | 0 |\n",
       "| 0 | 0 | 1 | 0 | 0 | 0 | 0 | 0 | 0 | 0 |\n",
       "| 0 | 0 | 0 | 1 | 0 | 0 | 0 | 0 | 0 | 0 |\n",
       "| 0 | 0 | 0 | 0 | 1 | 0 | 0 | 0 | 0 | 0 |\n",
       "| 0 | 0 | 0 | 0 | 0 | 1 | 0 | 0 | 0 | 0 |\n",
       "| 0 | 0 | 0 | 0 | 0 | 0 | 1 | 0 | 0 | 0 |\n",
       "| 0 | 0 | 0 | 0 | 0 | 0 | 0 | 1 | 0 | 0 |\n",
       "| 0 | 0 | 0 | 0 | 0 | 0 | 0 | 0 | 1 | 0 |\n",
       "| 0 | 0 | 0 | 0 | 0 | 0 | 0 | 0 | 0 | 1 |\n",
       "\n"
      ],
      "text/plain": [
       "      [,1] [,2] [,3] [,4] [,5] [,6] [,7] [,8] [,9] [,10]\n",
       " [1,] 1    0    0    0    0    0    0    0    0    0    \n",
       " [2,] 0    1    0    0    0    0    0    0    0    0    \n",
       " [3,] 0    0    1    0    0    0    0    0    0    0    \n",
       " [4,] 0    0    0    1    0    0    0    0    0    0    \n",
       " [5,] 0    0    0    0    1    0    0    0    0    0    \n",
       " [6,] 0    0    0    0    0    1    0    0    0    0    \n",
       " [7,] 0    0    0    0    0    0    1    0    0    0    \n",
       " [8,] 0    0    0    0    0    0    0    1    0    0    \n",
       " [9,] 0    0    0    0    0    0    0    0    1    0    \n",
       "[10,] 0    0    0    0    0    0    0    0    0    1    "
      ]
     },
     "metadata": {},
     "output_type": "display_data"
    }
   ],
   "source": [
    "I10 <- diag(rep(1,10))\n",
    "I10"
   ]
  },
  {
   "cell_type": "code",
   "execution_count": 99,
   "id": "32480482-6f16-456d-8465-eb90e5bf396b",
   "metadata": {},
   "outputs": [
    {
     "data": {
      "text/html": [
       "<style>\n",
       ".list-inline {list-style: none; margin:0; padding: 0}\n",
       ".list-inline>li {display: inline-block}\n",
       ".list-inline>li:not(:last-child)::after {content: \"\\00b7\"; padding: 0 .5ex}\n",
       "</style>\n",
       "<ol class=list-inline><li>1</li><li>1</li><li>1</li><li>1</li><li>1</li><li>1</li><li>1</li><li>1</li><li>1</li><li>1</li></ol>\n"
      ],
      "text/latex": [
       "\\begin{enumerate*}\n",
       "\\item 1\n",
       "\\item 1\n",
       "\\item 1\n",
       "\\item 1\n",
       "\\item 1\n",
       "\\item 1\n",
       "\\item 1\n",
       "\\item 1\n",
       "\\item 1\n",
       "\\item 1\n",
       "\\end{enumerate*}\n"
      ],
      "text/markdown": [
       "1. 1\n",
       "2. 1\n",
       "3. 1\n",
       "4. 1\n",
       "5. 1\n",
       "6. 1\n",
       "7. 1\n",
       "8. 1\n",
       "9. 1\n",
       "10. 1\n",
       "\n",
       "\n"
      ],
      "text/plain": [
       " [1] 1 1 1 1 1 1 1 1 1 1"
      ]
     },
     "metadata": {},
     "output_type": "display_data"
    }
   ],
   "source": [
    "one1 <- rep(1,10)\n",
    "one1"
   ]
  },
  {
   "cell_type": "code",
   "execution_count": 100,
   "id": "fab15fdb-c75d-4c74-af41-ec363cca808a",
   "metadata": {},
   "outputs": [
    {
     "data": {
      "text/html": [
       "<table class=\"dataframe\">\n",
       "<caption>A matrix: 10 × 10 of type dbl</caption>\n",
       "<tbody>\n",
       "\t<tr><td>1</td><td>1</td><td>1</td><td>1</td><td>1</td><td>1</td><td>1</td><td>1</td><td>1</td><td>1</td></tr>\n",
       "\t<tr><td>1</td><td>1</td><td>1</td><td>1</td><td>1</td><td>1</td><td>1</td><td>1</td><td>1</td><td>1</td></tr>\n",
       "\t<tr><td>1</td><td>1</td><td>1</td><td>1</td><td>1</td><td>1</td><td>1</td><td>1</td><td>1</td><td>1</td></tr>\n",
       "\t<tr><td>1</td><td>1</td><td>1</td><td>1</td><td>1</td><td>1</td><td>1</td><td>1</td><td>1</td><td>1</td></tr>\n",
       "\t<tr><td>1</td><td>1</td><td>1</td><td>1</td><td>1</td><td>1</td><td>1</td><td>1</td><td>1</td><td>1</td></tr>\n",
       "\t<tr><td>1</td><td>1</td><td>1</td><td>1</td><td>1</td><td>1</td><td>1</td><td>1</td><td>1</td><td>1</td></tr>\n",
       "\t<tr><td>1</td><td>1</td><td>1</td><td>1</td><td>1</td><td>1</td><td>1</td><td>1</td><td>1</td><td>1</td></tr>\n",
       "\t<tr><td>1</td><td>1</td><td>1</td><td>1</td><td>1</td><td>1</td><td>1</td><td>1</td><td>1</td><td>1</td></tr>\n",
       "\t<tr><td>1</td><td>1</td><td>1</td><td>1</td><td>1</td><td>1</td><td>1</td><td>1</td><td>1</td><td>1</td></tr>\n",
       "\t<tr><td>1</td><td>1</td><td>1</td><td>1</td><td>1</td><td>1</td><td>1</td><td>1</td><td>1</td><td>1</td></tr>\n",
       "</tbody>\n",
       "</table>\n"
      ],
      "text/latex": [
       "A matrix: 10 × 10 of type dbl\n",
       "\\begin{tabular}{llllllllll}\n",
       "\t 1 & 1 & 1 & 1 & 1 & 1 & 1 & 1 & 1 & 1\\\\\n",
       "\t 1 & 1 & 1 & 1 & 1 & 1 & 1 & 1 & 1 & 1\\\\\n",
       "\t 1 & 1 & 1 & 1 & 1 & 1 & 1 & 1 & 1 & 1\\\\\n",
       "\t 1 & 1 & 1 & 1 & 1 & 1 & 1 & 1 & 1 & 1\\\\\n",
       "\t 1 & 1 & 1 & 1 & 1 & 1 & 1 & 1 & 1 & 1\\\\\n",
       "\t 1 & 1 & 1 & 1 & 1 & 1 & 1 & 1 & 1 & 1\\\\\n",
       "\t 1 & 1 & 1 & 1 & 1 & 1 & 1 & 1 & 1 & 1\\\\\n",
       "\t 1 & 1 & 1 & 1 & 1 & 1 & 1 & 1 & 1 & 1\\\\\n",
       "\t 1 & 1 & 1 & 1 & 1 & 1 & 1 & 1 & 1 & 1\\\\\n",
       "\t 1 & 1 & 1 & 1 & 1 & 1 & 1 & 1 & 1 & 1\\\\\n",
       "\\end{tabular}\n"
      ],
      "text/markdown": [
       "\n",
       "A matrix: 10 × 10 of type dbl\n",
       "\n",
       "| 1 | 1 | 1 | 1 | 1 | 1 | 1 | 1 | 1 | 1 |\n",
       "| 1 | 1 | 1 | 1 | 1 | 1 | 1 | 1 | 1 | 1 |\n",
       "| 1 | 1 | 1 | 1 | 1 | 1 | 1 | 1 | 1 | 1 |\n",
       "| 1 | 1 | 1 | 1 | 1 | 1 | 1 | 1 | 1 | 1 |\n",
       "| 1 | 1 | 1 | 1 | 1 | 1 | 1 | 1 | 1 | 1 |\n",
       "| 1 | 1 | 1 | 1 | 1 | 1 | 1 | 1 | 1 | 1 |\n",
       "| 1 | 1 | 1 | 1 | 1 | 1 | 1 | 1 | 1 | 1 |\n",
       "| 1 | 1 | 1 | 1 | 1 | 1 | 1 | 1 | 1 | 1 |\n",
       "| 1 | 1 | 1 | 1 | 1 | 1 | 1 | 1 | 1 | 1 |\n",
       "| 1 | 1 | 1 | 1 | 1 | 1 | 1 | 1 | 1 | 1 |\n",
       "\n"
      ],
      "text/plain": [
       "      [,1] [,2] [,3] [,4] [,5] [,6] [,7] [,8] [,9] [,10]\n",
       " [1,] 1    1    1    1    1    1    1    1    1    1    \n",
       " [2,] 1    1    1    1    1    1    1    1    1    1    \n",
       " [3,] 1    1    1    1    1    1    1    1    1    1    \n",
       " [4,] 1    1    1    1    1    1    1    1    1    1    \n",
       " [5,] 1    1    1    1    1    1    1    1    1    1    \n",
       " [6,] 1    1    1    1    1    1    1    1    1    1    \n",
       " [7,] 1    1    1    1    1    1    1    1    1    1    \n",
       " [8,] 1    1    1    1    1    1    1    1    1    1    \n",
       " [9,] 1    1    1    1    1    1    1    1    1    1    \n",
       "[10,] 1    1    1    1    1    1    1    1    1    1    "
      ]
     },
     "metadata": {},
     "output_type": "display_data"
    }
   ],
   "source": [
    "Jn <- one1 %*% t(one1)\n",
    "Jn"
   ]
  },
  {
   "cell_type": "code",
   "execution_count": 101,
   "id": "4ff5b301-d807-4842-9eba-29c09237cd57",
   "metadata": {},
   "outputs": [
    {
     "data": {
      "text/html": [
       "<table class=\"dataframe\">\n",
       "<caption>A matrix: 4 × 4 of type dbl</caption>\n",
       "<tbody>\n",
       "\t<tr><td> 6.661338e-16</td><td> 1.160183e-14</td><td> 1.751377e-14</td><td>4.096723e-14</td></tr>\n",
       "\t<tr><td>-1.065814e-14</td><td> 3.229000e+02</td><td>-1.450000e+01</td><td>4.342000e+02</td></tr>\n",
       "\t<tr><td>-1.332268e-14</td><td>-1.450000e+01</td><td> 2.650000e+01</td><td>1.310000e+02</td></tr>\n",
       "\t<tr><td>-1.421085e-14</td><td> 4.342000e+02</td><td> 1.310000e+02</td><td>2.619600e+03</td></tr>\n",
       "</tbody>\n",
       "</table>\n"
      ],
      "text/latex": [
       "A matrix: 4 × 4 of type dbl\n",
       "\\begin{tabular}{llll}\n",
       "\t  6.661338e-16 &  1.160183e-14 &  1.751377e-14 & 4.096723e-14\\\\\n",
       "\t -1.065814e-14 &  3.229000e+02 & -1.450000e+01 & 4.342000e+02\\\\\n",
       "\t -1.332268e-14 & -1.450000e+01 &  2.650000e+01 & 1.310000e+02\\\\\n",
       "\t -1.421085e-14 &  4.342000e+02 &  1.310000e+02 & 2.619600e+03\\\\\n",
       "\\end{tabular}\n"
      ],
      "text/markdown": [
       "\n",
       "A matrix: 4 × 4 of type dbl\n",
       "\n",
       "|  6.661338e-16 |  1.160183e-14 |  1.751377e-14 | 4.096723e-14 |\n",
       "| -1.065814e-14 |  3.229000e+02 | -1.450000e+01 | 4.342000e+02 |\n",
       "| -1.332268e-14 | -1.450000e+01 |  2.650000e+01 | 1.310000e+02 |\n",
       "| -1.421085e-14 |  4.342000e+02 |  1.310000e+02 | 2.619600e+03 |\n",
       "\n"
      ],
      "text/plain": [
       "     [,1]          [,2]          [,3]          [,4]        \n",
       "[1,]  6.661338e-16  1.160183e-14  1.751377e-14 4.096723e-14\n",
       "[2,] -1.065814e-14  3.229000e+02 -1.450000e+01 4.342000e+02\n",
       "[3,] -1.332268e-14 -1.450000e+01  2.650000e+01 1.310000e+02\n",
       "[4,] -1.421085e-14  4.342000e+02  1.310000e+02 2.619600e+03"
      ]
     },
     "metadata": {},
     "output_type": "display_data"
    }
   ],
   "source": [
    "t(x) %*% (I10 - Jn/10) %*% x"
   ]
  },
  {
   "cell_type": "markdown",
   "id": "82b4696e-7de4-4f38-9423-d2b78d4090bd",
   "metadata": {},
   "source": [
    "###### (8) $\\beta_3$의 95% 신뢰구간을 구하시오. 이 신뢰구간의 의미를 해석하시오."
   ]
  },
  {
   "cell_type": "code",
   "execution_count": 102,
   "id": "2be9ae80-56ac-4155-8045-b919d35c1340",
   "metadata": {},
   "outputs": [
    {
     "data": {
      "text/html": [
       "<table class=\"dataframe\">\n",
       "<caption>A matrix: 4 × 2 of type dbl</caption>\n",
       "<thead>\n",
       "\t<tr><th></th><th scope=col>2.5 %</th><th scope=col>97.5 %</th></tr>\n",
       "</thead>\n",
       "<tbody>\n",
       "\t<tr><th scope=row>(Intercept)</th><td>-0.345896601</td><td>5.16432262</td></tr>\n",
       "\t<tr><th scope=row>x1</th><td> 0.038858661</td><td>0.10071735</td></tr>\n",
       "\t<tr><th scope=row>x2</th><td>-0.134461748</td><td>0.08492855</td></tr>\n",
       "\t<tr><th scope=row>x3</th><td>-0.006496391</td><td>0.01822526</td></tr>\n",
       "</tbody>\n",
       "</table>\n"
      ],
      "text/latex": [
       "A matrix: 4 × 2 of type dbl\n",
       "\\begin{tabular}{r|ll}\n",
       "  & 2.5 \\% & 97.5 \\%\\\\\n",
       "\\hline\n",
       "\t(Intercept) & -0.345896601 & 5.16432262\\\\\n",
       "\tx1 &  0.038858661 & 0.10071735\\\\\n",
       "\tx2 & -0.134461748 & 0.08492855\\\\\n",
       "\tx3 & -0.006496391 & 0.01822526\\\\\n",
       "\\end{tabular}\n"
      ],
      "text/markdown": [
       "\n",
       "A matrix: 4 × 2 of type dbl\n",
       "\n",
       "| <!--/--> | 2.5 % | 97.5 % |\n",
       "|---|---|---|\n",
       "| (Intercept) | -0.345896601 | 5.16432262 |\n",
       "| x1 |  0.038858661 | 0.10071735 |\n",
       "| x2 | -0.134461748 | 0.08492855 |\n",
       "| x3 | -0.006496391 | 0.01822526 |\n",
       "\n"
      ],
      "text/plain": [
       "            2.5 %        97.5 %    \n",
       "(Intercept) -0.345896601 5.16432262\n",
       "x1           0.038858661 0.10071735\n",
       "x2          -0.134461748 0.08492855\n",
       "x3          -0.006496391 0.01822526"
      ]
     },
     "metadata": {},
     "output_type": "display_data"
    }
   ],
   "source": [
    "confint(m3)"
   ]
  },
  {
   "cell_type": "markdown",
   "id": "32130931-26b3-42fe-adac-2da998982596",
   "metadata": {},
   "source": [
    "$\\beta_3 \\pm t_{0.025}(6) se(\\hat{\\beta}_3)$"
   ]
  },
  {
   "cell_type": "code",
   "execution_count": 103,
   "id": "0222532a-8154-4a74-ba21-980421730710",
   "metadata": {},
   "outputs": [
    {
     "data": {
      "text/html": [
       "<table class=\"dataframe\">\n",
       "<caption>A matrix: 1 × 1 of type dbl</caption>\n",
       "<tbody>\n",
       "\t<tr><td>-1.548982</td></tr>\n",
       "</tbody>\n",
       "</table>\n"
      ],
      "text/latex": [
       "A matrix: 1 × 1 of type dbl\n",
       "\\begin{tabular}{l}\n",
       "\t -1.548982\\\\\n",
       "\\end{tabular}\n"
      ],
      "text/markdown": [
       "\n",
       "A matrix: 1 × 1 of type dbl\n",
       "\n",
       "| -1.548982 |\n",
       "\n"
      ],
      "text/plain": [
       "     [,1]     \n",
       "[1,] -1.548982"
      ]
     },
     "metadata": {},
     "output_type": "display_data"
    }
   ],
   "source": [
    "b[4] - qt(0.975,6) * sqrt(hat_var_b3)"
   ]
  },
  {
   "cell_type": "code",
   "execution_count": 104,
   "id": "f7aaf0f3-7d43-46e4-847e-222fc8a88cca",
   "metadata": {},
   "outputs": [
    {
     "data": {
      "text/html": [
       "<table class=\"dataframe\">\n",
       "<caption>A matrix: 1 × 1 of type dbl</caption>\n",
       "<tbody>\n",
       "\t<tr><td>1.56071</td></tr>\n",
       "</tbody>\n",
       "</table>\n"
      ],
      "text/latex": [
       "A matrix: 1 × 1 of type dbl\n",
       "\\begin{tabular}{l}\n",
       "\t 1.56071\\\\\n",
       "\\end{tabular}\n"
      ],
      "text/markdown": [
       "\n",
       "A matrix: 1 × 1 of type dbl\n",
       "\n",
       "| 1.56071 |\n",
       "\n"
      ],
      "text/plain": [
       "     [,1]   \n",
       "[1,] 1.56071"
      ]
     },
     "metadata": {},
     "output_type": "display_data"
    }
   ],
   "source": [
    "b[4] + qt(0.975,6) * sqrt(hat_var_b3)"
   ]
  },
  {
   "cell_type": "code",
   "execution_count": 105,
   "id": "61cdaadc-a072-4a29-a30c-85bebe3dda8b",
   "metadata": {},
   "outputs": [],
   "source": [
    "#(-0.0065, 0.0182)"
   ]
  },
  {
   "cell_type": "markdown",
   "id": "75484213-530e-43a1-ad30-effca299fed0",
   "metadata": {},
   "source": [
    "이 신뢰구간이 $\\beta_3$을 포함하고 있을 것이라고 95% 확신한다."
   ]
  },
  {
   "cell_type": "markdown",
   "id": "146196a8-5c90-47f4-9867-0cac57798b67",
   "metadata": {},
   "source": [
    "###### (9) $\\beta_1$의 99% 신뢰구간을 구하시오. 이 신뢰구간의 의미를 해석하시오."
   ]
  },
  {
   "cell_type": "code",
   "execution_count": 106,
   "id": "ff90cb95-6d68-491d-9085-b0215eb10613",
   "metadata": {},
   "outputs": [
    {
     "data": {
      "text/html": [
       "<table class=\"dataframe\">\n",
       "<caption>A matrix: 4 × 2 of type dbl</caption>\n",
       "<thead>\n",
       "\t<tr><th></th><th scope=col>0.5 %</th><th scope=col>99.5 %</th></tr>\n",
       "</thead>\n",
       "<tbody>\n",
       "\t<tr><th scope=row>(Intercept)</th><td>-1.76517953</td><td>6.58360555</td></tr>\n",
       "\t<tr><th scope=row>x1</th><td> 0.02292554</td><td>0.11665047</td></tr>\n",
       "\t<tr><th scope=row>x2</th><td>-0.19097074</td><td>0.14143754</td></tr>\n",
       "\t<tr><th scope=row>x3</th><td>-0.01286402</td><td>0.02459289</td></tr>\n",
       "</tbody>\n",
       "</table>\n"
      ],
      "text/latex": [
       "A matrix: 4 × 2 of type dbl\n",
       "\\begin{tabular}{r|ll}\n",
       "  & 0.5 \\% & 99.5 \\%\\\\\n",
       "\\hline\n",
       "\t(Intercept) & -1.76517953 & 6.58360555\\\\\n",
       "\tx1 &  0.02292554 & 0.11665047\\\\\n",
       "\tx2 & -0.19097074 & 0.14143754\\\\\n",
       "\tx3 & -0.01286402 & 0.02459289\\\\\n",
       "\\end{tabular}\n"
      ],
      "text/markdown": [
       "\n",
       "A matrix: 4 × 2 of type dbl\n",
       "\n",
       "| <!--/--> | 0.5 % | 99.5 % |\n",
       "|---|---|---|\n",
       "| (Intercept) | -1.76517953 | 6.58360555 |\n",
       "| x1 |  0.02292554 | 0.11665047 |\n",
       "| x2 | -0.19097074 | 0.14143754 |\n",
       "| x3 | -0.01286402 | 0.02459289 |\n",
       "\n"
      ],
      "text/plain": [
       "            0.5 %       99.5 %    \n",
       "(Intercept) -1.76517953 6.58360555\n",
       "x1           0.02292554 0.11665047\n",
       "x2          -0.19097074 0.14143754\n",
       "x3          -0.01286402 0.02459289"
      ]
     },
     "metadata": {},
     "output_type": "display_data"
    }
   ],
   "source": [
    "confint(m3, level=0.99)"
   ]
  },
  {
   "cell_type": "markdown",
   "id": "edb73bb4-4fa7-452e-a989-25d4d13a0822",
   "metadata": {},
   "source": [
    "$\\beta_1 \\pm t_{0.005}(6) se(\\hat{\\beta}_1)$"
   ]
  },
  {
   "cell_type": "code",
   "execution_count": 107,
   "id": "fca395eb-5dad-4cf0-84ba-d0ea4637d4bd",
   "metadata": {},
   "outputs": [
    {
     "data": {
      "text/html": [
       "<table class=\"dataframe\">\n",
       "<caption>A matrix: 1 × 1 of type dbl</caption>\n",
       "<tbody>\n",
       "\t<tr><td>0.0001597735</td></tr>\n",
       "</tbody>\n",
       "</table>\n"
      ],
      "text/latex": [
       "A matrix: 1 × 1 of type dbl\n",
       "\\begin{tabular}{l}\n",
       "\t 0.0001597735\\\\\n",
       "\\end{tabular}\n"
      ],
      "text/markdown": [
       "\n",
       "A matrix: 1 × 1 of type dbl\n",
       "\n",
       "| 0.0001597735 |\n",
       "\n"
      ],
      "text/plain": [
       "     [,1]        \n",
       "[1,] 0.0001597735"
      ]
     },
     "metadata": {},
     "output_type": "display_data"
    }
   ],
   "source": [
    "hat_var_b1 = xx_i[2,2] * mse\n",
    "hat_var_b1"
   ]
  },
  {
   "cell_type": "code",
   "execution_count": 108,
   "id": "a3a1c05d-5a7d-423e-a040-b5629e0c0abc",
   "metadata": {},
   "outputs": [
    {
     "data": {
      "text/html": [
       "<table class=\"dataframe\">\n",
       "<caption>A matrix: 1 × 1 of type dbl</caption>\n",
       "<tbody>\n",
       "\t<tr><td>0.02292554</td></tr>\n",
       "</tbody>\n",
       "</table>\n"
      ],
      "text/latex": [
       "A matrix: 1 × 1 of type dbl\n",
       "\\begin{tabular}{l}\n",
       "\t 0.02292554\\\\\n",
       "\\end{tabular}\n"
      ],
      "text/markdown": [
       "\n",
       "A matrix: 1 × 1 of type dbl\n",
       "\n",
       "| 0.02292554 |\n",
       "\n"
      ],
      "text/plain": [
       "     [,1]      \n",
       "[1,] 0.02292554"
      ]
     },
     "metadata": {},
     "output_type": "display_data"
    }
   ],
   "source": [
    "b[2] - qt(0.995,6) * sqrt(hat_var_b1)"
   ]
  },
  {
   "cell_type": "code",
   "execution_count": 109,
   "id": "b18292c0-b82b-4017-af96-4f954a2df450",
   "metadata": {},
   "outputs": [
    {
     "data": {
      "text/html": [
       "<table class=\"dataframe\">\n",
       "<caption>A matrix: 1 × 1 of type dbl</caption>\n",
       "<tbody>\n",
       "\t<tr><td>0.1166505</td></tr>\n",
       "</tbody>\n",
       "</table>\n"
      ],
      "text/latex": [
       "A matrix: 1 × 1 of type dbl\n",
       "\\begin{tabular}{l}\n",
       "\t 0.1166505\\\\\n",
       "\\end{tabular}\n"
      ],
      "text/markdown": [
       "\n",
       "A matrix: 1 × 1 of type dbl\n",
       "\n",
       "| 0.1166505 |\n",
       "\n"
      ],
      "text/plain": [
       "     [,1]     \n",
       "[1,] 0.1166505"
      ]
     },
     "metadata": {},
     "output_type": "display_data"
    }
   ],
   "source": [
    "b[2] + qt(0.995,6) * sqrt(hat_var_b1)"
   ]
  },
  {
   "cell_type": "code",
   "execution_count": 110,
   "id": "1cf0f6eb-d02b-4a51-ac3a-a45aaaa7001f",
   "metadata": {},
   "outputs": [],
   "source": [
    "#(0.0229, 0.1167)"
   ]
  },
  {
   "cell_type": "markdown",
   "id": "1db425f0-a117-43db-a419-8a1a1bab14da",
   "metadata": {},
   "source": [
    "이 신뢰구간이 $\\beta_1$을 포함하고 있을 것이라고 99% 확신한다."
   ]
  },
  {
   "cell_type": "markdown",
   "id": "37e5a908-0b33-4a50-9ebf-9b1bf7e21cc5",
   "metadata": {},
   "source": [
    "###### (10) $x_1 = 20, x_2 = 27, x_3 = 60$에서 평균 물소비량, $E(y)$의 95% 신뢰구간을 구하시오."
   ]
  },
  {
   "cell_type": "code",
   "execution_count": 111,
   "id": "15f3c991-97e6-4dbf-b202-6f8c4494b0fe",
   "metadata": {},
   "outputs": [
    {
     "data": {
      "text/html": [
       "<table class=\"dataframe\">\n",
       "<caption>A matrix: 1 × 3 of type dbl</caption>\n",
       "<thead>\n",
       "\t<tr><th></th><th scope=col>fit</th><th scope=col>lwr</th><th scope=col>upr</th></tr>\n",
       "</thead>\n",
       "<tbody>\n",
       "\t<tr><th scope=row>1</th><td>3.488141</td><td>3.313994</td><td>3.662288</td></tr>\n",
       "</tbody>\n",
       "</table>\n"
      ],
      "text/latex": [
       "A matrix: 1 × 3 of type dbl\n",
       "\\begin{tabular}{r|lll}\n",
       "  & fit & lwr & upr\\\\\n",
       "\\hline\n",
       "\t1 & 3.488141 & 3.313994 & 3.662288\\\\\n",
       "\\end{tabular}\n"
      ],
      "text/markdown": [
       "\n",
       "A matrix: 1 × 3 of type dbl\n",
       "\n",
       "| <!--/--> | fit | lwr | upr |\n",
       "|---|---|---|---|\n",
       "| 1 | 3.488141 | 3.313994 | 3.662288 |\n",
       "\n"
      ],
      "text/plain": [
       "  fit      lwr      upr     \n",
       "1 3.488141 3.313994 3.662288"
      ]
     },
     "metadata": {},
     "output_type": "display_data"
    }
   ],
   "source": [
    "predict(m3, newdata = new_dt, interval = c(\"confidence\"))"
   ]
  },
  {
   "cell_type": "code",
   "execution_count": 112,
   "id": "b5f671ab-0b97-43d9-b243-240f5c274de9",
   "metadata": {},
   "outputs": [
    {
     "data": {
      "text/html": [
       "<table class=\"dataframe\">\n",
       "<caption>A matrix: 1 × 1 of type dbl</caption>\n",
       "<tbody>\n",
       "\t<tr><td>3.313994</td></tr>\n",
       "</tbody>\n",
       "</table>\n"
      ],
      "text/latex": [
       "A matrix: 1 × 1 of type dbl\n",
       "\\begin{tabular}{l}\n",
       "\t 3.313994\\\\\n",
       "\\end{tabular}\n"
      ],
      "text/markdown": [
       "\n",
       "A matrix: 1 × 1 of type dbl\n",
       "\n",
       "| 3.313994 |\n",
       "\n"
      ],
      "text/plain": [
       "     [,1]    \n",
       "[1,] 3.313994"
      ]
     },
     "metadata": {},
     "output_type": "display_data"
    }
   ],
   "source": [
    "mu0 - qt(0.975,6) * sqrt(var_mu0)"
   ]
  },
  {
   "cell_type": "code",
   "execution_count": 113,
   "id": "1eb318c7-afcb-4643-8d6d-69d578311403",
   "metadata": {},
   "outputs": [
    {
     "data": {
      "text/html": [
       "<table class=\"dataframe\">\n",
       "<caption>A matrix: 1 × 1 of type dbl</caption>\n",
       "<tbody>\n",
       "\t<tr><td>3.662288</td></tr>\n",
       "</tbody>\n",
       "</table>\n"
      ],
      "text/latex": [
       "A matrix: 1 × 1 of type dbl\n",
       "\\begin{tabular}{l}\n",
       "\t 3.662288\\\\\n",
       "\\end{tabular}\n"
      ],
      "text/markdown": [
       "\n",
       "A matrix: 1 × 1 of type dbl\n",
       "\n",
       "| 3.662288 |\n",
       "\n"
      ],
      "text/plain": [
       "     [,1]    \n",
       "[1,] 3.662288"
      ]
     },
     "metadata": {},
     "output_type": "display_data"
    }
   ],
   "source": [
    "mu0 + qt(0.975,6) * sqrt(var_mu0)"
   ]
  },
  {
   "cell_type": "code",
   "execution_count": 114,
   "id": "afbf8b8a-0323-4028-981f-db1a9af5b9c8",
   "metadata": {},
   "outputs": [],
   "source": [
    "#(3.3140, 3.6623)"
   ]
  },
  {
   "cell_type": "markdown",
   "id": "a2681eb8-55e3-47d2-b00a-012b5a92b79c",
   "metadata": {},
   "source": [
    "###### (11) 가설 $H_0 : \\beta_1 = 0, H_1 : \\beta_1 > 0$을 $\\alpha = 0.05$로 검정하시오."
   ]
  },
  {
   "cell_type": "code",
   "execution_count": 115,
   "id": "c0920d38-60c5-4774-8f4a-3b6647e58a3d",
   "metadata": {},
   "outputs": [
    {
     "data": {
      "text/plain": [
       "\n",
       "Call:\n",
       "lm(formula = y ~ ., data = dt)\n",
       "\n",
       "Residuals:\n",
       "     Min       1Q   Median       3Q      Max \n",
       "-0.23490 -0.07744 -0.02166  0.08840  0.23442 \n",
       "\n",
       "Coefficients:\n",
       "             Estimate Std. Error t value Pr(>|t|)   \n",
       "(Intercept)  2.409213   1.125954   2.140  0.07618 . \n",
       "x1           0.069788   0.012640   5.521  0.00149 **\n",
       "x2          -0.024767   0.044830  -0.552  0.60060   \n",
       "x3           0.005864   0.005052   1.161  0.28978   \n",
       "---\n",
       "Signif. codes:  0 ‘***’ 0.001 ‘**’ 0.01 ‘*’ 0.05 ‘.’ 0.1 ‘ ’ 1\n",
       "\n",
       "Residual standard error: 0.172 on 6 degrees of freedom\n",
       "Multiple R-squared:  0.9202,\tAdjusted R-squared:  0.8803 \n",
       "F-statistic: 23.05 on 3 and 6 DF,  p-value: 0.001079\n"
      ]
     },
     "metadata": {},
     "output_type": "display_data"
    }
   ],
   "source": [
    "summary(m3)"
   ]
  },
  {
   "cell_type": "markdown",
   "id": "5d6bfcc6-cd4e-4d48-a40e-b6a2888c1b9f",
   "metadata": {},
   "source": [
    "검정통계량 : $t_0 = \\frac{\\hat{\\beta}_1}{se(\\hat{\\beta}_1)}$"
   ]
  },
  {
   "cell_type": "code",
   "execution_count": 116,
   "id": "e5fc0d25-7c88-433c-8f51-b8d4fa271b1d",
   "metadata": {},
   "outputs": [
    {
     "data": {
      "text/html": [
       "<table class=\"dataframe\">\n",
       "<caption>A matrix: 1 × 1 of type dbl</caption>\n",
       "<tbody>\n",
       "\t<tr><td>5.521135</td></tr>\n",
       "</tbody>\n",
       "</table>\n"
      ],
      "text/latex": [
       "A matrix: 1 × 1 of type dbl\n",
       "\\begin{tabular}{l}\n",
       "\t 5.521135\\\\\n",
       "\\end{tabular}\n"
      ],
      "text/markdown": [
       "\n",
       "A matrix: 1 × 1 of type dbl\n",
       "\n",
       "| 5.521135 |\n",
       "\n"
      ],
      "text/plain": [
       "     [,1]    \n",
       "[1,] 5.521135"
      ]
     },
     "metadata": {},
     "output_type": "display_data"
    }
   ],
   "source": [
    "t0 <- b[2]/sqrt(hat_var_b1)\n",
    "t0"
   ]
  },
  {
   "cell_type": "markdown",
   "id": "612826ff-00e8-4ca8-8382-ce91206a57c2",
   "metadata": {},
   "source": [
    "$t_0 = 5.5211$"
   ]
  },
  {
   "cell_type": "markdown",
   "id": "2f1f2b7c-332c-4ae7-98b3-53958dab48c5",
   "metadata": {},
   "source": [
    "기각역 : $t_{0.05}(6) = 1.9432$"
   ]
  },
  {
   "cell_type": "code",
   "execution_count": 117,
   "id": "b2fbb5a1-c1a9-4a87-ae07-1c825c6c41d9",
   "metadata": {},
   "outputs": [
    {
     "data": {
      "text/html": [
       "1.9431802805153"
      ],
      "text/latex": [
       "1.9431802805153"
      ],
      "text/markdown": [
       "1.9431802805153"
      ],
      "text/plain": [
       "[1] 1.94318"
      ]
     },
     "metadata": {},
     "output_type": "display_data"
    }
   ],
   "source": [
    "qt(0.95,6)"
   ]
  },
  {
   "cell_type": "markdown",
   "id": "f5792a56-ff35-4c43-b67a-bc7bb15e4c78",
   "metadata": {},
   "source": [
    "결론 : $H_0$ 기각 가능. 즉 유의수준 5%에서 $\\beta_2$는 0보다 크다고 할 수 있다."
   ]
  },
  {
   "cell_type": "markdown",
   "id": "37d8b590-4d4a-43f7-b54a-821e48926d58",
   "metadata": {},
   "source": [
    "$T = \\frac{\\hat{\\beta}_i - \\beta^0_i}{\\hat{\\sigma} \\sqrt{c_{ii}}}$"
   ]
  },
  {
   "cell_type": "markdown",
   "id": "4daaede3-18b3-4901-9e28-85031fcadc2d",
   "metadata": {},
   "source": [
    "###### (12) 가설 $H_0 : \\beta_1 = \\beta_2 = \\beta_3$을 $\\alpha = 0.05$로 검정하시오."
   ]
  },
  {
   "cell_type": "code",
   "execution_count": 118,
   "id": "2d7e708c-95d5-434b-bc32-fb16b54f1345",
   "metadata": {},
   "outputs": [
    {
     "name": "stderr",
     "output_type": "stream",
     "text": [
      "Loading required package: carData\n",
      "\n"
     ]
    }
   ],
   "source": [
    "library(car) "
   ]
  },
  {
   "cell_type": "code",
   "execution_count": 119,
   "id": "d8be3c00-9784-49e0-888d-4f87c28fb62e",
   "metadata": {},
   "outputs": [
    {
     "data": {
      "text/html": [
       "<table class=\"dataframe\">\n",
       "<caption>A anova: 2 × 6</caption>\n",
       "<thead>\n",
       "\t<tr><th></th><th scope=col>Res.Df</th><th scope=col>RSS</th><th scope=col>Df</th><th scope=col>Sum of Sq</th><th scope=col>F</th><th scope=col>Pr(&gt;F)</th></tr>\n",
       "\t<tr><th></th><th scope=col>&lt;dbl&gt;</th><th scope=col>&lt;dbl&gt;</th><th scope=col>&lt;dbl&gt;</th><th scope=col>&lt;dbl&gt;</th><th scope=col>&lt;dbl&gt;</th><th scope=col>&lt;dbl&gt;</th></tr>\n",
       "</thead>\n",
       "<tbody>\n",
       "\t<tr><th scope=row>1</th><td>8</td><td>1.1224764</td><td>NA</td><td>       NA</td><td>      NA</td><td>         NA</td></tr>\n",
       "\t<tr><th scope=row>2</th><td>6</td><td>0.1775339</td><td> 2</td><td>0.9449425</td><td>15.96781</td><td>0.003956509</td></tr>\n",
       "</tbody>\n",
       "</table>\n"
      ],
      "text/latex": [
       "A anova: 2 × 6\n",
       "\\begin{tabular}{r|llllll}\n",
       "  & Res.Df & RSS & Df & Sum of Sq & F & Pr(>F)\\\\\n",
       "  & <dbl> & <dbl> & <dbl> & <dbl> & <dbl> & <dbl>\\\\\n",
       "\\hline\n",
       "\t1 & 8 & 1.1224764 & NA &        NA &       NA &          NA\\\\\n",
       "\t2 & 6 & 0.1775339 &  2 & 0.9449425 & 15.96781 & 0.003956509\\\\\n",
       "\\end{tabular}\n"
      ],
      "text/markdown": [
       "\n",
       "A anova: 2 × 6\n",
       "\n",
       "| <!--/--> | Res.Df &lt;dbl&gt; | RSS &lt;dbl&gt; | Df &lt;dbl&gt; | Sum of Sq &lt;dbl&gt; | F &lt;dbl&gt; | Pr(&gt;F) &lt;dbl&gt; |\n",
       "|---|---|---|---|---|---|---|\n",
       "| 1 | 8 | 1.1224764 | NA |        NA |       NA |          NA |\n",
       "| 2 | 6 | 0.1775339 |  2 | 0.9449425 | 15.96781 | 0.003956509 |\n",
       "\n"
      ],
      "text/plain": [
       "  Res.Df RSS       Df Sum of Sq F        Pr(>F)     \n",
       "1 8      1.1224764 NA        NA       NA          NA\n",
       "2 6      0.1775339  2 0.9449425 15.96781 0.003956509"
      ]
     },
     "metadata": {},
     "output_type": "display_data"
    }
   ],
   "source": [
    "linearHypothesis(m3, matrix(c(0,1,-1,0,0,0,1,-1), byrow = T, nrow=2),c(0,0))"
   ]
  },
  {
   "cell_type": "markdown",
   "id": "22b7dfef-c9d4-45d1-8545-052f80516477",
   "metadata": {},
   "source": [
    "$H_0 : \\beta_1 = \\beta_2 = \\beta_3$"
   ]
  },
  {
   "cell_type": "markdown",
   "id": "d585f7f7-0f7b-4be0-855a-d971b0632410",
   "metadata": {},
   "source": [
    "$T= (0,1,-1,0) (0,0,1,-1)$\n",
    "\n",
    "$y= \\beta_0 + \\beta_1 x_1 + \\beta_1 x_2 + \\beta_1 x_3 + \\epsilon = \\beta_0 + \\beta_1(x_1+x_2+x_3)"
   ]
  },
  {
   "cell_type": "code",
   "execution_count": 120,
   "id": "b004482f-559f-4b83-9945-7bf4e0b81bd0",
   "metadata": {},
   "outputs": [
    {
     "data": {
      "text/html": [
       "<table class=\"dataframe\">\n",
       "<caption>A matrix: 10 × 2 of type dbl</caption>\n",
       "<tbody>\n",
       "\t<tr><td>1</td><td>101</td></tr>\n",
       "\t<tr><td>1</td><td>122</td></tr>\n",
       "\t<tr><td>1</td><td>133</td></tr>\n",
       "\t<tr><td>1</td><td>142</td></tr>\n",
       "\t<tr><td>1</td><td>126</td></tr>\n",
       "\t<tr><td>1</td><td> 87</td></tr>\n",
       "\t<tr><td>1</td><td> 95</td></tr>\n",
       "\t<tr><td>1</td><td>116</td></tr>\n",
       "\t<tr><td>1</td><td> 93</td></tr>\n",
       "\t<tr><td>1</td><td> 79</td></tr>\n",
       "</tbody>\n",
       "</table>\n"
      ],
      "text/latex": [
       "A matrix: 10 × 2 of type dbl\n",
       "\\begin{tabular}{ll}\n",
       "\t 1 & 101\\\\\n",
       "\t 1 & 122\\\\\n",
       "\t 1 & 133\\\\\n",
       "\t 1 & 142\\\\\n",
       "\t 1 & 126\\\\\n",
       "\t 1 &  87\\\\\n",
       "\t 1 &  95\\\\\n",
       "\t 1 & 116\\\\\n",
       "\t 1 &  93\\\\\n",
       "\t 1 &  79\\\\\n",
       "\\end{tabular}\n"
      ],
      "text/markdown": [
       "\n",
       "A matrix: 10 × 2 of type dbl\n",
       "\n",
       "| 1 | 101 |\n",
       "| 1 | 122 |\n",
       "| 1 | 133 |\n",
       "| 1 | 142 |\n",
       "| 1 | 126 |\n",
       "| 1 |  87 |\n",
       "| 1 |  95 |\n",
       "| 1 | 116 |\n",
       "| 1 |  93 |\n",
       "| 1 |  79 |\n",
       "\n"
      ],
      "text/plain": [
       "      [,1] [,2]\n",
       " [1,] 1    101 \n",
       " [2,] 1    122 \n",
       " [3,] 1    133 \n",
       " [4,] 1    142 \n",
       " [5,] 1    126 \n",
       " [6,] 1     87 \n",
       " [7,] 1     95 \n",
       " [8,] 1    116 \n",
       " [9,] 1     93 \n",
       "[10,] 1     79 "
      ]
     },
     "metadata": {},
     "output_type": "display_data"
    }
   ],
   "source": [
    "z <- matrix(c(rep(1,10), dt$x1+dt$x2+dt$x3), ncol=2)\n",
    "z"
   ]
  },
  {
   "cell_type": "code",
   "execution_count": 121,
   "id": "69a54c7c-ce07-4ccf-9018-97da35a390ba",
   "metadata": {},
   "outputs": [
    {
     "data": {
      "text/html": [
       "<table class=\"dataframe\">\n",
       "<caption>A matrix: 2 × 2 of type dbl</caption>\n",
       "<tbody>\n",
       "\t<tr><td>  10</td><td>  1094</td></tr>\n",
       "\t<tr><td>1094</td><td>123754</td></tr>\n",
       "</tbody>\n",
       "</table>\n"
      ],
      "text/latex": [
       "A matrix: 2 × 2 of type dbl\n",
       "\\begin{tabular}{ll}\n",
       "\t   10 &   1094\\\\\n",
       "\t 1094 & 123754\\\\\n",
       "\\end{tabular}\n"
      ],
      "text/markdown": [
       "\n",
       "A matrix: 2 × 2 of type dbl\n",
       "\n",
       "|   10 |   1094 |\n",
       "| 1094 | 123754 |\n",
       "\n"
      ],
      "text/plain": [
       "     [,1] [,2]  \n",
       "[1,]   10   1094\n",
       "[2,] 1094 123754"
      ]
     },
     "metadata": {},
     "output_type": "display_data"
    }
   ],
   "source": [
    "zz <- t(z) %*% z\n",
    "zz"
   ]
  },
  {
   "cell_type": "code",
   "execution_count": 122,
   "id": "cefbc9f6-0217-4703-8fa0-d22cbf987ca4",
   "metadata": {},
   "outputs": [
    {
     "data": {
      "text/html": [
       "<table class=\"dataframe\">\n",
       "<caption>A matrix: 2 × 2 of type dbl</caption>\n",
       "<tbody>\n",
       "\t<tr><td> 3.04034002</td><td>-0.0268769654</td></tr>\n",
       "\t<tr><td>-0.02687697</td><td> 0.0002456761</td></tr>\n",
       "</tbody>\n",
       "</table>\n"
      ],
      "text/latex": [
       "A matrix: 2 × 2 of type dbl\n",
       "\\begin{tabular}{ll}\n",
       "\t  3.04034002 & -0.0268769654\\\\\n",
       "\t -0.02687697 &  0.0002456761\\\\\n",
       "\\end{tabular}\n"
      ],
      "text/markdown": [
       "\n",
       "A matrix: 2 × 2 of type dbl\n",
       "\n",
       "|  3.04034002 | -0.0268769654 |\n",
       "| -0.02687697 |  0.0002456761 |\n",
       "\n"
      ],
      "text/plain": [
       "     [,1]        [,2]         \n",
       "[1,]  3.04034002 -0.0268769654\n",
       "[2,] -0.02687697  0.0002456761"
      ]
     },
     "metadata": {},
     "output_type": "display_data"
    }
   ],
   "source": [
    "zz_i <- solve(zz)\n",
    "zz_i"
   ]
  },
  {
   "cell_type": "code",
   "execution_count": 123,
   "id": "e6e6ad8e-3e25-402e-8cd9-e8a92a647eb8",
   "metadata": {},
   "outputs": [
    {
     "data": {
      "text/html": [
       "<table class=\"dataframe\">\n",
       "<caption>A matrix: 2 × 1 of type dbl</caption>\n",
       "<tbody>\n",
       "\t<tr><td>  34.6</td></tr>\n",
       "\t<tr><td>3852.2</td></tr>\n",
       "</tbody>\n",
       "</table>\n"
      ],
      "text/latex": [
       "A matrix: 2 × 1 of type dbl\n",
       "\\begin{tabular}{l}\n",
       "\t   34.6\\\\\n",
       "\t 3852.2\\\\\n",
       "\\end{tabular}\n"
      ],
      "text/markdown": [
       "\n",
       "A matrix: 2 × 1 of type dbl\n",
       "\n",
       "|   34.6 |\n",
       "| 3852.2 |\n",
       "\n"
      ],
      "text/plain": [
       "     [,1]  \n",
       "[1,]   34.6\n",
       "[2,] 3852.2"
      ]
     },
     "metadata": {},
     "output_type": "display_data"
    }
   ],
   "source": [
    "zy <- t(z) %*% y\n",
    "zy"
   ]
  },
  {
   "cell_type": "code",
   "execution_count": 124,
   "id": "e599b1a5-bd16-4516-b789-933ae3f27982",
   "metadata": {},
   "outputs": [
    {
     "data": {
      "text/html": [
       "<table class=\"dataframe\">\n",
       "<caption>A matrix: 1 × 1 of type dbl</caption>\n",
       "<tbody>\n",
       "\t<tr><td>121.94</td></tr>\n",
       "</tbody>\n",
       "</table>\n"
      ],
      "text/latex": [
       "A matrix: 1 × 1 of type dbl\n",
       "\\begin{tabular}{l}\n",
       "\t 121.94\\\\\n",
       "\\end{tabular}\n"
      ],
      "text/markdown": [
       "\n",
       "A matrix: 1 × 1 of type dbl\n",
       "\n",
       "| 121.94 |\n",
       "\n"
      ],
      "text/plain": [
       "     [,1]  \n",
       "[1,] 121.94"
      ]
     },
     "metadata": {},
     "output_type": "display_data"
    }
   ],
   "source": [
    "yy <- t(y) %*% y\n",
    "yy"
   ]
  },
  {
   "cell_type": "code",
   "execution_count": 125,
   "id": "248bb38a-1e06-4786-805e-ac6f39e20046",
   "metadata": {},
   "outputs": [
    {
     "data": {
      "text/html": [
       "<table class=\"dataframe\">\n",
       "<caption>A matrix: 10 × 10 of type dbl</caption>\n",
       "<tbody>\n",
       "\t<tr><td>0.11733491</td><td>0.073997642</td><td> 0.051297170</td><td> 0.03272406</td><td> 0.065742925</td><td> 0.146226415</td><td> 0.12971698</td><td>0.08637972</td><td> 0.133844340</td><td> 0.162735849</td></tr>\n",
       "\t<tr><td>0.07399764</td><td>0.139003538</td><td> 0.173054245</td><td> 0.20091392</td><td> 0.151385613</td><td> 0.030660377</td><td> 0.05542453</td><td>0.12043042</td><td> 0.049233491</td><td> 0.005896226</td></tr>\n",
       "\t<tr><td>0.05129717</td><td>0.173054245</td><td> 0.236831761</td><td> 0.28901336</td><td> 0.196246069</td><td>-0.029874214</td><td> 0.01650943</td><td>0.13826651</td><td> 0.004913522</td><td>-0.076257862</td></tr>\n",
       "\t<tr><td>0.03272406</td><td>0.200913915</td><td> 0.289013365</td><td> 0.36109473</td><td> 0.232950079</td><td>-0.079402516</td><td>-0.01533019</td><td>0.15285967</td><td>-0.031348270</td><td>-0.143474843</td></tr>\n",
       "\t<tr><td>0.06574292</td><td>0.151385613</td><td> 0.196246069</td><td> 0.23295008</td><td> 0.167698506</td><td> 0.008647799</td><td> 0.04127358</td><td>0.12691627</td><td> 0.033117138</td><td>-0.023977987</td></tr>\n",
       "\t<tr><td>0.14622642</td><td>0.030660377</td><td>-0.029874214</td><td>-0.07940252</td><td> 0.008647799</td><td> 0.223270440</td><td> 0.17924528</td><td>0.06367925</td><td> 0.190251572</td><td> 0.267295597</td></tr>\n",
       "\t<tr><td>0.12971698</td><td>0.055424528</td><td> 0.016509434</td><td>-0.01533019</td><td> 0.041273585</td><td> 0.179245283</td><td> 0.15094340</td><td>0.07665094</td><td> 0.158018868</td><td> 0.207547170</td></tr>\n",
       "\t<tr><td>0.08637972</td><td>0.120430425</td><td> 0.138266509</td><td> 0.15285967</td><td> 0.126916274</td><td> 0.063679245</td><td> 0.07665094</td><td>0.11070165</td><td> 0.073408019</td><td> 0.050707547</td></tr>\n",
       "\t<tr><td>0.13384434</td><td>0.049233491</td><td> 0.004913522</td><td>-0.03134827</td><td> 0.033117138</td><td> 0.190251572</td><td> 0.15801887</td><td>0.07340802</td><td> 0.166077044</td><td> 0.222484277</td></tr>\n",
       "\t<tr><td>0.16273585</td><td>0.005896226</td><td>-0.076257862</td><td>-0.14347484</td><td>-0.023977987</td><td> 0.267295597</td><td> 0.20754717</td><td>0.05070755</td><td> 0.222484277</td><td> 0.327044025</td></tr>\n",
       "</tbody>\n",
       "</table>\n"
      ],
      "text/latex": [
       "A matrix: 10 × 10 of type dbl\n",
       "\\begin{tabular}{llllllllll}\n",
       "\t 0.11733491 & 0.073997642 &  0.051297170 &  0.03272406 &  0.065742925 &  0.146226415 &  0.12971698 & 0.08637972 &  0.133844340 &  0.162735849\\\\\n",
       "\t 0.07399764 & 0.139003538 &  0.173054245 &  0.20091392 &  0.151385613 &  0.030660377 &  0.05542453 & 0.12043042 &  0.049233491 &  0.005896226\\\\\n",
       "\t 0.05129717 & 0.173054245 &  0.236831761 &  0.28901336 &  0.196246069 & -0.029874214 &  0.01650943 & 0.13826651 &  0.004913522 & -0.076257862\\\\\n",
       "\t 0.03272406 & 0.200913915 &  0.289013365 &  0.36109473 &  0.232950079 & -0.079402516 & -0.01533019 & 0.15285967 & -0.031348270 & -0.143474843\\\\\n",
       "\t 0.06574292 & 0.151385613 &  0.196246069 &  0.23295008 &  0.167698506 &  0.008647799 &  0.04127358 & 0.12691627 &  0.033117138 & -0.023977987\\\\\n",
       "\t 0.14622642 & 0.030660377 & -0.029874214 & -0.07940252 &  0.008647799 &  0.223270440 &  0.17924528 & 0.06367925 &  0.190251572 &  0.267295597\\\\\n",
       "\t 0.12971698 & 0.055424528 &  0.016509434 & -0.01533019 &  0.041273585 &  0.179245283 &  0.15094340 & 0.07665094 &  0.158018868 &  0.207547170\\\\\n",
       "\t 0.08637972 & 0.120430425 &  0.138266509 &  0.15285967 &  0.126916274 &  0.063679245 &  0.07665094 & 0.11070165 &  0.073408019 &  0.050707547\\\\\n",
       "\t 0.13384434 & 0.049233491 &  0.004913522 & -0.03134827 &  0.033117138 &  0.190251572 &  0.15801887 & 0.07340802 &  0.166077044 &  0.222484277\\\\\n",
       "\t 0.16273585 & 0.005896226 & -0.076257862 & -0.14347484 & -0.023977987 &  0.267295597 &  0.20754717 & 0.05070755 &  0.222484277 &  0.327044025\\\\\n",
       "\\end{tabular}\n"
      ],
      "text/markdown": [
       "\n",
       "A matrix: 10 × 10 of type dbl\n",
       "\n",
       "| 0.11733491 | 0.073997642 |  0.051297170 |  0.03272406 |  0.065742925 |  0.146226415 |  0.12971698 | 0.08637972 |  0.133844340 |  0.162735849 |\n",
       "| 0.07399764 | 0.139003538 |  0.173054245 |  0.20091392 |  0.151385613 |  0.030660377 |  0.05542453 | 0.12043042 |  0.049233491 |  0.005896226 |\n",
       "| 0.05129717 | 0.173054245 |  0.236831761 |  0.28901336 |  0.196246069 | -0.029874214 |  0.01650943 | 0.13826651 |  0.004913522 | -0.076257862 |\n",
       "| 0.03272406 | 0.200913915 |  0.289013365 |  0.36109473 |  0.232950079 | -0.079402516 | -0.01533019 | 0.15285967 | -0.031348270 | -0.143474843 |\n",
       "| 0.06574292 | 0.151385613 |  0.196246069 |  0.23295008 |  0.167698506 |  0.008647799 |  0.04127358 | 0.12691627 |  0.033117138 | -0.023977987 |\n",
       "| 0.14622642 | 0.030660377 | -0.029874214 | -0.07940252 |  0.008647799 |  0.223270440 |  0.17924528 | 0.06367925 |  0.190251572 |  0.267295597 |\n",
       "| 0.12971698 | 0.055424528 |  0.016509434 | -0.01533019 |  0.041273585 |  0.179245283 |  0.15094340 | 0.07665094 |  0.158018868 |  0.207547170 |\n",
       "| 0.08637972 | 0.120430425 |  0.138266509 |  0.15285967 |  0.126916274 |  0.063679245 |  0.07665094 | 0.11070165 |  0.073408019 |  0.050707547 |\n",
       "| 0.13384434 | 0.049233491 |  0.004913522 | -0.03134827 |  0.033117138 |  0.190251572 |  0.15801887 | 0.07340802 |  0.166077044 |  0.222484277 |\n",
       "| 0.16273585 | 0.005896226 | -0.076257862 | -0.14347484 | -0.023977987 |  0.267295597 |  0.20754717 | 0.05070755 |  0.222484277 |  0.327044025 |\n",
       "\n"
      ],
      "text/plain": [
       "      [,1]       [,2]        [,3]         [,4]        [,5]         [,6]        \n",
       " [1,] 0.11733491 0.073997642  0.051297170  0.03272406  0.065742925  0.146226415\n",
       " [2,] 0.07399764 0.139003538  0.173054245  0.20091392  0.151385613  0.030660377\n",
       " [3,] 0.05129717 0.173054245  0.236831761  0.28901336  0.196246069 -0.029874214\n",
       " [4,] 0.03272406 0.200913915  0.289013365  0.36109473  0.232950079 -0.079402516\n",
       " [5,] 0.06574292 0.151385613  0.196246069  0.23295008  0.167698506  0.008647799\n",
       " [6,] 0.14622642 0.030660377 -0.029874214 -0.07940252  0.008647799  0.223270440\n",
       " [7,] 0.12971698 0.055424528  0.016509434 -0.01533019  0.041273585  0.179245283\n",
       " [8,] 0.08637972 0.120430425  0.138266509  0.15285967  0.126916274  0.063679245\n",
       " [9,] 0.13384434 0.049233491  0.004913522 -0.03134827  0.033117138  0.190251572\n",
       "[10,] 0.16273585 0.005896226 -0.076257862 -0.14347484 -0.023977987  0.267295597\n",
       "      [,7]        [,8]       [,9]         [,10]       \n",
       " [1,]  0.12971698 0.08637972  0.133844340  0.162735849\n",
       " [2,]  0.05542453 0.12043042  0.049233491  0.005896226\n",
       " [3,]  0.01650943 0.13826651  0.004913522 -0.076257862\n",
       " [4,] -0.01533019 0.15285967 -0.031348270 -0.143474843\n",
       " [5,]  0.04127358 0.12691627  0.033117138 -0.023977987\n",
       " [6,]  0.17924528 0.06367925  0.190251572  0.267295597\n",
       " [7,]  0.15094340 0.07665094  0.158018868  0.207547170\n",
       " [8,]  0.07665094 0.11070165  0.073408019  0.050707547\n",
       " [9,]  0.15801887 0.07340802  0.166077044  0.222484277\n",
       "[10,]  0.20754717 0.05070755  0.222484277  0.327044025"
      ]
     },
     "metadata": {},
     "output_type": "display_data"
    }
   ],
   "source": [
    "z %*% zz_i %*% t(z)"
   ]
  },
  {
   "cell_type": "code",
   "execution_count": 126,
   "id": "34233f1d-71fc-4ec5-9ae9-8a5cf59bb9c4",
   "metadata": {},
   "outputs": [
    {
     "data": {
      "text/html": [
       "<table class=\"dataframe\">\n",
       "<caption>A matrix: 2 × 1 of type dbl</caption>\n",
       "<tbody>\n",
       "\t<tr><td>1.66031840</td></tr>\n",
       "\t<tr><td>0.01645047</td></tr>\n",
       "</tbody>\n",
       "</table>\n"
      ],
      "text/latex": [
       "A matrix: 2 × 1 of type dbl\n",
       "\\begin{tabular}{l}\n",
       "\t 1.66031840\\\\\n",
       "\t 0.01645047\\\\\n",
       "\\end{tabular}\n"
      ],
      "text/markdown": [
       "\n",
       "A matrix: 2 × 1 of type dbl\n",
       "\n",
       "| 1.66031840 |\n",
       "| 0.01645047 |\n",
       "\n"
      ],
      "text/plain": [
       "     [,1]      \n",
       "[1,] 1.66031840\n",
       "[2,] 0.01645047"
      ]
     },
     "metadata": {},
     "output_type": "display_data"
    }
   ],
   "source": [
    "gammahat <- zz_i %*% t(z) %*% y\n",
    "gammahat"
   ]
  },
  {
   "cell_type": "code",
   "execution_count": 127,
   "id": "813ae1b5-c376-47d3-838c-7a42262e1584",
   "metadata": {},
   "outputs": [
    {
     "data": {
      "text/html": [
       "<table class=\"dataframe\">\n",
       "<caption>A matrix: 10 × 1 of type dbl</caption>\n",
       "<tbody>\n",
       "\t<tr><td>-0.521816038</td></tr>\n",
       "\t<tr><td> 0.232724057</td></tr>\n",
       "\t<tr><td> 0.051768868</td></tr>\n",
       "\t<tr><td> 0.403714623</td></tr>\n",
       "\t<tr><td>-0.633077830</td></tr>\n",
       "\t<tr><td> 0.008490566</td></tr>\n",
       "\t<tr><td> 0.276886792</td></tr>\n",
       "\t<tr><td> 0.031426887</td></tr>\n",
       "\t<tr><td>-0.190212264</td></tr>\n",
       "\t<tr><td> 0.340094340</td></tr>\n",
       "</tbody>\n",
       "</table>\n"
      ],
      "text/latex": [
       "A matrix: 10 × 1 of type dbl\n",
       "\\begin{tabular}{l}\n",
       "\t -0.521816038\\\\\n",
       "\t  0.232724057\\\\\n",
       "\t  0.051768868\\\\\n",
       "\t  0.403714623\\\\\n",
       "\t -0.633077830\\\\\n",
       "\t  0.008490566\\\\\n",
       "\t  0.276886792\\\\\n",
       "\t  0.031426887\\\\\n",
       "\t -0.190212264\\\\\n",
       "\t  0.340094340\\\\\n",
       "\\end{tabular}\n"
      ],
      "text/markdown": [
       "\n",
       "A matrix: 10 × 1 of type dbl\n",
       "\n",
       "| -0.521816038 |\n",
       "|  0.232724057 |\n",
       "|  0.051768868 |\n",
       "|  0.403714623 |\n",
       "| -0.633077830 |\n",
       "|  0.008490566 |\n",
       "|  0.276886792 |\n",
       "|  0.031426887 |\n",
       "| -0.190212264 |\n",
       "|  0.340094340 |\n",
       "\n"
      ],
      "text/plain": [
       "      [,1]        \n",
       " [1,] -0.521816038\n",
       " [2,]  0.232724057\n",
       " [3,]  0.051768868\n",
       " [4,]  0.403714623\n",
       " [5,] -0.633077830\n",
       " [6,]  0.008490566\n",
       " [7,]  0.276886792\n",
       " [8,]  0.031426887\n",
       " [9,] -0.190212264\n",
       "[10,]  0.340094340"
      ]
     },
     "metadata": {},
     "output_type": "display_data"
    }
   ],
   "source": [
    "e <- y - z %*% gammahat\n",
    "e"
   ]
  },
  {
   "cell_type": "code",
   "execution_count": 128,
   "id": "0a393c9a-c4ed-42d8-9f02-704654b18122",
   "metadata": {},
   "outputs": [
    {
     "data": {
      "text/html": [
       "<table class=\"dataframe\">\n",
       "<caption>A matrix: 1 × 1 of type dbl</caption>\n",
       "<tbody>\n",
       "\t<tr><td>1.122476</td></tr>\n",
       "</tbody>\n",
       "</table>\n"
      ],
      "text/latex": [
       "A matrix: 1 × 1 of type dbl\n",
       "\\begin{tabular}{l}\n",
       "\t 1.122476\\\\\n",
       "\\end{tabular}\n"
      ],
      "text/markdown": [
       "\n",
       "A matrix: 1 × 1 of type dbl\n",
       "\n",
       "| 1.122476 |\n",
       "\n"
      ],
      "text/plain": [
       "     [,1]    \n",
       "[1,] 1.122476"
      ]
     },
     "metadata": {},
     "output_type": "display_data"
    }
   ],
   "source": [
    "sse_rm <- t(e) %*% e\n",
    "sse_rm"
   ]
  },
  {
   "cell_type": "code",
   "execution_count": 129,
   "id": "2fe4fb49-0db4-4666-95e7-0140afd2af81",
   "metadata": {},
   "outputs": [
    {
     "data": {
      "text/html": [
       "<table class=\"dataframe\">\n",
       "<caption>A matrix: 1 × 1 of type dbl</caption>\n",
       "<tbody>\n",
       "\t<tr><td>15.96781</td></tr>\n",
       "</tbody>\n",
       "</table>\n"
      ],
      "text/latex": [
       "A matrix: 1 × 1 of type dbl\n",
       "\\begin{tabular}{l}\n",
       "\t 15.96781\\\\\n",
       "\\end{tabular}\n"
      ],
      "text/markdown": [
       "\n",
       "A matrix: 1 × 1 of type dbl\n",
       "\n",
       "| 15.96781 |\n",
       "\n"
      ],
      "text/plain": [
       "     [,1]    \n",
       "[1,] 15.96781"
      ]
     },
     "metadata": {},
     "output_type": "display_data"
    }
   ],
   "source": [
    "f0 = ((sse_rm - sse)/(2))/(sse/6)\n",
    "f0"
   ]
  },
  {
   "cell_type": "code",
   "execution_count": 130,
   "id": "18f44503-3eb4-417b-a151-15d929482799",
   "metadata": {},
   "outputs": [
    {
     "data": {
      "text/html": [
       "5.14325284978472"
      ],
      "text/latex": [
       "5.14325284978472"
      ],
      "text/markdown": [
       "5.14325284978472"
      ],
      "text/plain": [
       "[1] 5.143253"
      ]
     },
     "metadata": {},
     "output_type": "display_data"
    }
   ],
   "source": [
    "qf(0.95,2,6)"
   ]
  },
  {
   "cell_type": "markdown",
   "id": "692e921e-8cd2-45b9-a17d-adcd91e836d1",
   "metadata": {
    "tags": []
   },
   "source": [
    "검정통계량 : $\\frac{(SSE_{RM} - SSE_{FM})/r}{SSE_{FM}/(n-p-1)}$\n",
    "\n",
    "관측값 $f_0 = 15.968$\n",
    "\n",
    "기각역 : $f_0 > 5.1433$\n",
    "\n",
    "결론 : 기각할 수 있다."
   ]
  },
  {
   "cell_type": "markdown",
   "id": "80798ed9-feca-41a8-9939-c82912723dfd",
   "metadata": {
    "tags": []
   },
   "source": [
    "###### (13) 가설 $H_0 : \\beta_1 = \\beta_2 + 3$을 $\\alpha = 0.05$로 검정하시오."
   ]
  },
  {
   "cell_type": "markdown",
   "id": "08eeea6e-5860-4b3b-815c-691076ca33b6",
   "metadata": {},
   "source": [
    "$H_0 : \\beta_1 = \\beta_2 = \\beta_3$\n",
    "\n",
    "$T= (0,1,-1,0)$\n",
    "\n",
    "$y = \\beta_0 + (\\beta_2+3)x_1 + \\beta_2 x_2 + \\beta_3 x_3 + \\epsilon$\n",
    "$y - 3x_1 = \\beta_0 + \\beta_2(x_1 + x_2) + \\beta_3 x_3 + \\epsilon$"
   ]
  },
  {
   "cell_type": "code",
   "execution_count": 131,
   "id": "19756bb7-8953-4c8f-b047-6b3e317fe975",
   "metadata": {},
   "outputs": [
    {
     "data": {
      "text/html": [
       "<style>\n",
       ".list-inline {list-style: none; margin:0; padding: 0}\n",
       ".list-inline>li {display: inline-block}\n",
       ".list-inline>li:not(:last-child)::after {content: \"\\00b7\"; padding: 0 .5ex}\n",
       "</style>\n",
       "<ol class=list-inline><li>-27.2</li><li>-68.1</li><li>-71.1</li><li>-79.6</li><li>-41.9</li><li>-50.9</li><li>-62.5</li><li>-62.4</li><li>-33</li><li>-41.7</li></ol>\n"
      ],
      "text/latex": [
       "\\begin{enumerate*}\n",
       "\\item -27.2\n",
       "\\item -68.1\n",
       "\\item -71.1\n",
       "\\item -79.6\n",
       "\\item -41.9\n",
       "\\item -50.9\n",
       "\\item -62.5\n",
       "\\item -62.4\n",
       "\\item -33\n",
       "\\item -41.7\n",
       "\\end{enumerate*}\n"
      ],
      "text/markdown": [
       "1. -27.2\n",
       "2. -68.1\n",
       "3. -71.1\n",
       "4. -79.6\n",
       "5. -41.9\n",
       "6. -50.9\n",
       "7. -62.5\n",
       "8. -62.4\n",
       "9. -33\n",
       "10. -41.7\n",
       "\n",
       "\n"
      ],
      "text/plain": [
       " [1] -27.2 -68.1 -71.1 -79.6 -41.9 -50.9 -62.5 -62.4 -33.0 -41.7"
      ]
     },
     "metadata": {},
     "output_type": "display_data"
    }
   ],
   "source": [
    "yy <- y-3*dt$x1\n",
    "yy"
   ]
  },
  {
   "cell_type": "code",
   "execution_count": 132,
   "id": "2248daf2-db20-4c26-a324-b6df6eca91c7",
   "metadata": {},
   "outputs": [
    {
     "data": {
      "text/html": [
       "<table class=\"dataframe\">\n",
       "<caption>A matrix: 10 × 3 of type dbl</caption>\n",
       "<tbody>\n",
       "\t<tr><td>1</td><td>37</td><td>64</td></tr>\n",
       "\t<tr><td>1</td><td>50</td><td>72</td></tr>\n",
       "\t<tr><td>1</td><td>53</td><td>80</td></tr>\n",
       "\t<tr><td>1</td><td>54</td><td>88</td></tr>\n",
       "\t<tr><td>1</td><td>45</td><td>81</td></tr>\n",
       "\t<tr><td>1</td><td>42</td><td>45</td></tr>\n",
       "\t<tr><td>1</td><td>49</td><td>46</td></tr>\n",
       "\t<tr><td>1</td><td>47</td><td>69</td></tr>\n",
       "\t<tr><td>1</td><td>39</td><td>54</td></tr>\n",
       "\t<tr><td>1</td><td>40</td><td>39</td></tr>\n",
       "</tbody>\n",
       "</table>\n"
      ],
      "text/latex": [
       "A matrix: 10 × 3 of type dbl\n",
       "\\begin{tabular}{lll}\n",
       "\t 1 & 37 & 64\\\\\n",
       "\t 1 & 50 & 72\\\\\n",
       "\t 1 & 53 & 80\\\\\n",
       "\t 1 & 54 & 88\\\\\n",
       "\t 1 & 45 & 81\\\\\n",
       "\t 1 & 42 & 45\\\\\n",
       "\t 1 & 49 & 46\\\\\n",
       "\t 1 & 47 & 69\\\\\n",
       "\t 1 & 39 & 54\\\\\n",
       "\t 1 & 40 & 39\\\\\n",
       "\\end{tabular}\n"
      ],
      "text/markdown": [
       "\n",
       "A matrix: 10 × 3 of type dbl\n",
       "\n",
       "| 1 | 37 | 64 |\n",
       "| 1 | 50 | 72 |\n",
       "| 1 | 53 | 80 |\n",
       "| 1 | 54 | 88 |\n",
       "| 1 | 45 | 81 |\n",
       "| 1 | 42 | 45 |\n",
       "| 1 | 49 | 46 |\n",
       "| 1 | 47 | 69 |\n",
       "| 1 | 39 | 54 |\n",
       "| 1 | 40 | 39 |\n",
       "\n"
      ],
      "text/plain": [
       "      [,1] [,2] [,3]\n",
       " [1,] 1    37   64  \n",
       " [2,] 1    50   72  \n",
       " [3,] 1    53   80  \n",
       " [4,] 1    54   88  \n",
       " [5,] 1    45   81  \n",
       " [6,] 1    42   45  \n",
       " [7,] 1    49   46  \n",
       " [8,] 1    47   69  \n",
       " [9,] 1    39   54  \n",
       "[10,] 1    40   39  "
      ]
     },
     "metadata": {},
     "output_type": "display_data"
    }
   ],
   "source": [
    "z <- matrix(c(rep(1,10), dt$x1+dt$x2,dt$x3), ncol=3)\n",
    "z"
   ]
  },
  {
   "cell_type": "code",
   "execution_count": 133,
   "id": "86fdbabc-a537-45c8-a917-b2672476d3d0",
   "metadata": {},
   "outputs": [
    {
     "data": {
      "text/html": [
       "<table class=\"dataframe\">\n",
       "<caption>A matrix: 3 × 3 of type dbl</caption>\n",
       "<tbody>\n",
       "\t<tr><td> 10</td><td>  456</td><td>  638</td></tr>\n",
       "\t<tr><td>456</td><td>21114</td><td>29658</td></tr>\n",
       "\t<tr><td>638</td><td>29658</td><td>43324</td></tr>\n",
       "</tbody>\n",
       "</table>\n"
      ],
      "text/latex": [
       "A matrix: 3 × 3 of type dbl\n",
       "\\begin{tabular}{lll}\n",
       "\t  10 &   456 &   638\\\\\n",
       "\t 456 & 21114 & 29658\\\\\n",
       "\t 638 & 29658 & 43324\\\\\n",
       "\\end{tabular}\n"
      ],
      "text/markdown": [
       "\n",
       "A matrix: 3 × 3 of type dbl\n",
       "\n",
       "|  10 |   456 |   638 |\n",
       "| 456 | 21114 | 29658 |\n",
       "| 638 | 29658 | 43324 |\n",
       "\n"
      ],
      "text/plain": [
       "     [,1] [,2]  [,3] \n",
       "[1,]  10    456   638\n",
       "[2,] 456  21114 29658\n",
       "[3,] 638  29658 43324"
      ]
     },
     "metadata": {},
     "output_type": "display_data"
    }
   ],
   "source": [
    "zz <- t(z) %*% z\n",
    "zz"
   ]
  },
  {
   "cell_type": "code",
   "execution_count": 134,
   "id": "31fbab7b-680d-4a74-8964-843ba45f616b",
   "metadata": {},
   "outputs": [
    {
     "data": {
      "text/html": [
       "<table class=\"dataframe\">\n",
       "<caption>A matrix: 3 × 3 of type dbl</caption>\n",
       "<tbody>\n",
       "\t<tr><td> 6.76054651</td><td>-0.160413550</td><td> 0.0102556645</td></tr>\n",
       "\t<tr><td>-0.16041355</td><td> 0.005038964</td><td>-0.0010871974</td></tr>\n",
       "\t<tr><td> 0.01025566</td><td>-0.001087197</td><td> 0.0006163093</td></tr>\n",
       "</tbody>\n",
       "</table>\n"
      ],
      "text/latex": [
       "A matrix: 3 × 3 of type dbl\n",
       "\\begin{tabular}{lll}\n",
       "\t  6.76054651 & -0.160413550 &  0.0102556645\\\\\n",
       "\t -0.16041355 &  0.005038964 & -0.0010871974\\\\\n",
       "\t  0.01025566 & -0.001087197 &  0.0006163093\\\\\n",
       "\\end{tabular}\n"
      ],
      "text/markdown": [
       "\n",
       "A matrix: 3 × 3 of type dbl\n",
       "\n",
       "|  6.76054651 | -0.160413550 |  0.0102556645 |\n",
       "| -0.16041355 |  0.005038964 | -0.0010871974 |\n",
       "|  0.01025566 | -0.001087197 |  0.0006163093 |\n",
       "\n"
      ],
      "text/plain": [
       "     [,1]        [,2]         [,3]         \n",
       "[1,]  6.76054651 -0.160413550  0.0102556645\n",
       "[2,] -0.16041355  0.005038964 -0.0010871974\n",
       "[3,]  0.01025566 -0.001087197  0.0006163093"
      ]
     },
     "metadata": {},
     "output_type": "display_data"
    }
   ],
   "source": [
    "zz_i <- solve(zz)\n",
    "zz_i"
   ]
  },
  {
   "cell_type": "code",
   "execution_count": 135,
   "id": "e932bfea-1917-497a-9ef0-36a56f275866",
   "metadata": {},
   "outputs": [
    {
     "data": {
      "text/html": [
       "<table class=\"dataframe\">\n",
       "<caption>A matrix: 3 × 1 of type dbl</caption>\n",
       "<tbody>\n",
       "\t<tr><td>77.7140851</td></tr>\n",
       "\t<tr><td>-3.1683286</td></tr>\n",
       "\t<tr><td> 0.2025345</td></tr>\n",
       "</tbody>\n",
       "</table>\n"
      ],
      "text/latex": [
       "A matrix: 3 × 1 of type dbl\n",
       "\\begin{tabular}{l}\n",
       "\t 77.7140851\\\\\n",
       "\t -3.1683286\\\\\n",
       "\t  0.2025345\\\\\n",
       "\\end{tabular}\n"
      ],
      "text/markdown": [
       "\n",
       "A matrix: 3 × 1 of type dbl\n",
       "\n",
       "| 77.7140851 |\n",
       "| -3.1683286 |\n",
       "|  0.2025345 |\n",
       "\n"
      ],
      "text/plain": [
       "     [,1]      \n",
       "[1,] 77.7140851\n",
       "[2,] -3.1683286\n",
       "[3,]  0.2025345"
      ]
     },
     "metadata": {},
     "output_type": "display_data"
    }
   ],
   "source": [
    "gammahat <- zz_i %*% t(z) %*% yy\n",
    "gammahat"
   ]
  },
  {
   "cell_type": "code",
   "execution_count": 136,
   "id": "cb7e39b7-4463-4724-9b34-d8a1bd0894ac",
   "metadata": {},
   "outputs": [
    {
     "data": {
      "text/html": [
       "<table class=\"dataframe\">\n",
       "<caption>A matrix: 10 × 1 of type dbl</caption>\n",
       "<tbody>\n",
       "\t<tr><td>-0.6481331</td></tr>\n",
       "\t<tr><td>-1.9801368</td></tr>\n",
       "\t<tr><td> 2.9045732</td></tr>\n",
       "\t<tr><td>-4.0473741</td></tr>\n",
       "\t<tr><td> 6.5554097</td></tr>\n",
       "\t<tr><td>-4.6583347</td></tr>\n",
       "\t<tr><td> 5.7174312</td></tr>\n",
       "\t<tr><td>-5.1775193</td></tr>\n",
       "\t<tr><td> 1.9138690</td></tr>\n",
       "\t<tr><td>-0.5797851</td></tr>\n",
       "</tbody>\n",
       "</table>\n"
      ],
      "text/latex": [
       "A matrix: 10 × 1 of type dbl\n",
       "\\begin{tabular}{l}\n",
       "\t -0.6481331\\\\\n",
       "\t -1.9801368\\\\\n",
       "\t  2.9045732\\\\\n",
       "\t -4.0473741\\\\\n",
       "\t  6.5554097\\\\\n",
       "\t -4.6583347\\\\\n",
       "\t  5.7174312\\\\\n",
       "\t -5.1775193\\\\\n",
       "\t  1.9138690\\\\\n",
       "\t -0.5797851\\\\\n",
       "\\end{tabular}\n"
      ],
      "text/markdown": [
       "\n",
       "A matrix: 10 × 1 of type dbl\n",
       "\n",
       "| -0.6481331 |\n",
       "| -1.9801368 |\n",
       "|  2.9045732 |\n",
       "| -4.0473741 |\n",
       "|  6.5554097 |\n",
       "| -4.6583347 |\n",
       "|  5.7174312 |\n",
       "| -5.1775193 |\n",
       "|  1.9138690 |\n",
       "| -0.5797851 |\n",
       "\n"
      ],
      "text/plain": [
       "      [,1]      \n",
       " [1,] -0.6481331\n",
       " [2,] -1.9801368\n",
       " [3,]  2.9045732\n",
       " [4,] -4.0473741\n",
       " [5,]  6.5554097\n",
       " [6,] -4.6583347\n",
       " [7,]  5.7174312\n",
       " [8,] -5.1775193\n",
       " [9,]  1.9138690\n",
       "[10,] -0.5797851"
      ]
     },
     "metadata": {},
     "output_type": "display_data"
    }
   ],
   "source": [
    "e <- yy - z %*% gammahat\n",
    "e"
   ]
  },
  {
   "cell_type": "code",
   "execution_count": 137,
   "id": "17da0cb3-2cb3-45e6-bcaa-521fdf4a6a0a",
   "metadata": {},
   "outputs": [
    {
     "data": {
      "text/html": [
       "<table class=\"dataframe\">\n",
       "<caption>A matrix: 1 × 1 of type dbl</caption>\n",
       "<tbody>\n",
       "\t<tr><td>157.327</td></tr>\n",
       "</tbody>\n",
       "</table>\n"
      ],
      "text/latex": [
       "A matrix: 1 × 1 of type dbl\n",
       "\\begin{tabular}{l}\n",
       "\t 157.327\\\\\n",
       "\\end{tabular}\n"
      ],
      "text/markdown": [
       "\n",
       "A matrix: 1 × 1 of type dbl\n",
       "\n",
       "| 157.327 |\n",
       "\n"
      ],
      "text/plain": [
       "     [,1]   \n",
       "[1,] 157.327"
      ]
     },
     "metadata": {},
     "output_type": "display_data"
    }
   ],
   "source": [
    "sse_rm <- t(e) %*% e\n",
    "sse_rm"
   ]
  },
  {
   "cell_type": "code",
   "execution_count": 138,
   "id": "46ba0abc-e999-4d61-9b7f-f2f43175f010",
   "metadata": {},
   "outputs": [
    {
     "data": {
      "text/html": [
       "<table class=\"dataframe\">\n",
       "<caption>A matrix: 1 × 1 of type dbl</caption>\n",
       "<tbody>\n",
       "\t<tr><td>5311.082</td></tr>\n",
       "</tbody>\n",
       "</table>\n"
      ],
      "text/latex": [
       "A matrix: 1 × 1 of type dbl\n",
       "\\begin{tabular}{l}\n",
       "\t 5311.082\\\\\n",
       "\\end{tabular}\n"
      ],
      "text/markdown": [
       "\n",
       "A matrix: 1 × 1 of type dbl\n",
       "\n",
       "| 5311.082 |\n",
       "\n"
      ],
      "text/plain": [
       "     [,1]    \n",
       "[1,] 5311.082"
      ]
     },
     "metadata": {},
     "output_type": "display_data"
    }
   ],
   "source": [
    "f0 = ((sse_rm - sse)/(1))/(sse/6)\n",
    "f0"
   ]
  },
  {
   "cell_type": "code",
   "execution_count": 139,
   "id": "aa726ff9-4bed-4dc8-a0fd-cff35f40b06c",
   "metadata": {},
   "outputs": [
    {
     "data": {
      "text/html": [
       "5.9873776072737"
      ],
      "text/latex": [
       "5.9873776072737"
      ],
      "text/markdown": [
       "5.9873776072737"
      ],
      "text/plain": [
       "[1] 5.987378"
      ]
     },
     "metadata": {},
     "output_type": "display_data"
    }
   ],
   "source": [
    "qf(0.95,1,6)"
   ]
  },
  {
   "cell_type": "markdown",
   "id": "baf96653-91fc-44ee-8043-a8cb25b06d4d",
   "metadata": {
    "tags": []
   },
   "source": [
    "검정통계량 : $\\frac{(SSE_RM - SSE_FM)/r)}{(SSE_FM/(n-p-1))}$\n",
    "\n",
    "관측값 $f_0 = 5311.082$\n",
    "\n",
    "기각역 : $f_0 > 5.9874$\n",
    "\n",
    "결론 : 기각할 수 있다."
   ]
  },
  {
   "cell_type": "markdown",
   "id": "1d920216-28ae-4b51-85ca-c5e7f019167a",
   "metadata": {},
   "source": [
    "###### (14) $x_1 = 20, x_2 = 27, x_3 = 60$에서 $E(y)$에 관한 가설 $H_0 : E(y) = 3.5, H_1 : E(y) ̸\\neq 3.5$를 $\\alpha = 0.05$로 검정하시오."
   ]
  },
  {
   "cell_type": "markdown",
   "id": "cd1a5f0c-5d93-4656-8fde-8670fe859aca",
   "metadata": {},
   "source": [
    "sy 풀이"
   ]
  },
  {
   "cell_type": "markdown",
   "id": "458ff2f4-5f10-4497-8570-1a9c55b81dfe",
   "metadata": {},
   "source": [
    "$T_0 = \\frac{\\hat{y} - E(y)}{\\sqrt{Var{\\hat{y}}}} = \\frac{\\hat{y} - E(Y)}{\\sqrt{x^\\top (X^\\top X)^{-1} x MSE}} \\sim t(n-1)$"
   ]
  },
  {
   "cell_type": "code",
   "execution_count": 140,
   "id": "b6eb0d0b-a327-4c5d-86f6-3846757e45b1",
   "metadata": {},
   "outputs": [],
   "source": [
    "x_indi <- matrix(c(1,20,27,60),nrow=1,ncol=4)"
   ]
  },
  {
   "cell_type": "code",
   "execution_count": 141,
   "id": "8b7de777-59e5-447a-9e7f-6783175cc4c2",
   "metadata": {},
   "outputs": [
    {
     "data": {
      "text/html": [
       "<table class=\"dataframe\">\n",
       "<caption>A matrix: 1 × 1 of type dbl</caption>\n",
       "<tbody>\n",
       "\t<tr><td>3.48814</td></tr>\n",
       "</tbody>\n",
       "</table>\n"
      ],
      "text/latex": [
       "A matrix: 1 × 1 of type dbl\n",
       "\\begin{tabular}{l}\n",
       "\t 3.48814\\\\\n",
       "\\end{tabular}\n"
      ],
      "text/markdown": [
       "\n",
       "A matrix: 1 × 1 of type dbl\n",
       "\n",
       "| 3.48814 |\n",
       "\n"
      ],
      "text/plain": [
       "     [,1]   \n",
       "[1,] 3.48814"
      ]
     },
     "metadata": {},
     "output_type": "display_data"
    }
   ],
   "source": [
    "yhat <- x_indi %*% b\n",
    "round(yhat,5)"
   ]
  },
  {
   "cell_type": "markdown",
   "id": "a8fa747c-3339-4268-8e70-2b311275342b",
   "metadata": {},
   "source": [
    "$Var{y} = x_i (X^\\top X)^{-1} x_i^\\top \\sigma^2$"
   ]
  },
  {
   "cell_type": "code",
   "execution_count": 142,
   "id": "a368353b-86ad-4991-91e1-161b3bc84b04",
   "metadata": {},
   "outputs": [
    {
     "data": {
      "text/html": [
       "0.00507"
      ],
      "text/latex": [
       "0.00507"
      ],
      "text/markdown": [
       "0.00507"
      ],
      "text/plain": [
       "[1] 0.00507"
      ]
     },
     "metadata": {},
     "output_type": "display_data"
    }
   ],
   "source": [
    "var_y <- ((x_indi %*%solve(t(x) %*% x) %*% t(x_indi) ) * mse)[,]\n",
    "round(var_y,5)"
   ]
  },
  {
   "cell_type": "code",
   "execution_count": 143,
   "id": "51b1d8af-e6a2-4961-a54c-140589600eb4",
   "metadata": {},
   "outputs": [
    {
     "data": {
      "text/html": [
       "-0.16663"
      ],
      "text/latex": [
       "-0.16663"
      ],
      "text/markdown": [
       "-0.16663"
      ],
      "text/plain": [
       "[1] -0.16663"
      ]
     },
     "metadata": {},
     "output_type": "display_data"
    }
   ],
   "source": [
    "t_0 <- (yhat - 3.5)/sqrt(var_y)\n",
    "round(t_0[,],5)"
   ]
  },
  {
   "cell_type": "code",
   "execution_count": 144,
   "id": "78b14003-0a6b-4a01-a2ae-4f850b082f52",
   "metadata": {},
   "outputs": [
    {
     "data": {
      "text/html": [
       "-0.5097"
      ],
      "text/latex": [
       "-0.5097"
      ],
      "text/markdown": [
       "-0.5097"
      ],
      "text/plain": [
       "[1] -0.5097"
      ]
     },
     "metadata": {},
     "output_type": "display_data"
    }
   ],
   "source": [
    "round(-pt(0.025,9),5)"
   ]
  },
  {
   "cell_type": "markdown",
   "id": "63f03c25-312d-4906-a296-3887923b6fd9",
   "metadata": {},
   "source": [
    "$F_0=-0.16663$ > $t_{0.025}(9)=-0.5097$ 로 귀무가설을 기각하지 못하여 $E(y) = 3.5$라는 결론이 나온다."
   ]
  },
  {
   "cell_type": "markdown",
   "id": "ca4de9ae-1bb2-4f81-bed6-89092605226b",
   "metadata": {},
   "source": [
    "##### 4. 중회귀모형, $y = X\\beta + \\epsilon, \\epsilon \\sim N(0_n, I\\sigma^2)$에서 $X$ 가 $n \\times (p + 1)$행렬이고 rank가 $p + 1$이라면 적합된 모형 $\\hat{y} = X\\hat{\\beta}$에 대하여\n",
    "$$\\sum^{n}_{j=1} Var(\\hat{y}_j ) = (p + 1)\\sigma^2$$\n",
    "이 됨을 증명하여라."
   ]
  },
  {
   "cell_type": "markdown",
   "id": "0b0c5663-4f11-44f8-90d2-912226485368",
   "metadata": {},
   "source": [
    "$\\hat{\\bf{y}} X\\hat{\\beta} = X(X^\\top X)^{-1} X^\\top y = Hy$\n",
    "\n",
    "$Var(X\\hat{\\beta}) = XVar(\\hat{\\beta})X^\\top$\n",
    "\n",
    "$Var(\\hat{\\beta}) = Var((X^\\top X)^{-1} X^\\top y) = (X^\\top X)^{-1} X^\\top Var(y)X(X^\\top X)^{-1} = (X^\\top X)^{-1} X^\\top X(X^\\top X)^{-1} \\sigma^2 = (X^\\top X )^{-1} \\sigma^2$\n",
    "\n",
    "$Var(\\hat{y}) = Var(X\\hat{\\beta}) = X(X^\\top X)^{-1} X^\\top \\sigma^2$\n",
    "\n",
    "$\\to Var(\\hat{y}) = H(Var(y) H^\\top = HH\\sigma^2 = H\\sigma^2$\n",
    "\n",
    "$\\star H^\\top = H, H^2 = H, Var(y) = I_n \\sigma^2$\n",
    "\n",
    "$\\sum^{n}_{j=1} Var(\\hat{y}_j) = tr(Var(\\hat{y})) = tr(H\\sigma^2) = \\sigma^2 tr(H) = tr((X^\\top X)^{-1} X^\\top X)\\sigma^2 = tr(I_{p+1})\\sigma^2 = (p+1)\\sigma^2 $\n",
    "\n",
    "$\\star tr(X (X^\\top X)^{-1} X^\\top)$"
   ]
  },
  {
   "cell_type": "markdown",
   "id": "bc580220-cb94-4a31-a950-f5733ce37727",
   "metadata": {},
   "source": [
    "##### 5. 중회귀모형에서 다음을 증명하시오."
   ]
  },
  {
   "cell_type": "markdown",
   "id": "4964c96f-942d-4bb4-ab49-69c1966bd9f3",
   "metadata": {
    "tags": []
   },
   "source": [
    "###### (1) $Cov(e, y) = \\sigma^2[I_n − X(X^\\top X)^{-1}X^\\top]$ "
   ]
  },
  {
   "cell_type": "markdown",
   "id": "be37ce04-50ae-4bd5-98ca-19f1cccd3ce7",
   "metadata": {},
   "source": [
    "$\\bf{e} = y - \\hat{y} = y - Hy = (I-H)y$\n",
    "\n",
    "$Cov(\\bf{e},y) = Cov((I-H)y,y) = (I-H)Var(y) = (I-H) \\sigma^2$\n",
    "\n",
    "$\\star Cov(Ax,y) = A Cov(X,Y)$\n",
    "\n",
    "$\\star Var(y) = \\sigma^2$"
   ]
  },
  {
   "cell_type": "markdown",
   "id": "c04ae4e3-3ecc-4d34-83b0-ed10d7e9dd74",
   "metadata": {},
   "source": [
    "###### (2) $Cov(e, \\hat{y}) = \\mathbb{O}_n$"
   ]
  },
  {
   "cell_type": "markdown",
   "id": "f75d4ef3-3eea-456d-9d0f-188d61017df9",
   "metadata": {},
   "source": [
    "$Cov(e(I - H)\\bf{y},Hy) = (I-H) Cov(y,y)H^\\top = (I-H)H\\sigma^2 = \\mathbb{O}_n \\sigma^2$\n",
    "\n",
    "$\\star Cov(Ax,By) = ACov(X,Y)B^\\top$\n",
    "\n",
    "$\\star H^\\top= H$\n",
    "\n",
    "$\\star H^2 = H$"
   ]
  },
  {
   "cell_type": "markdown",
   "id": "3c11afd1-9ee2-4636-85f5-d537dbaa8611",
   "metadata": {},
   "source": [
    "###### (3) $Cov(e, \\hat{\\beta}) = \\mathbb{O}_{n\\times(k+1)}$"
   ]
  },
  {
   "cell_type": "markdown",
   "id": "111987a9-0276-443c-9f07-ca2a9c368b32",
   "metadata": {},
   "source": [
    "$Cov((I-H)\\bf{y},(X^\\top X)^{-1} y) = (I-H) Cov(y,y) X (X^\\top X)^{-1} = (I - X(X^\\top X)^{-1} X^\\top ) X (X^\\top X)^{-1} \\sigma^2 = \\{ X(X^\\top X)^{-1} - X(X^\\top X)^{-1} \\} \\sigma^2 = \\mathbb{O}_{n \\times ([+1)}$"
   ]
  },
  {
   "cell_type": "markdown",
   "id": "f26b8dfe-b721-461c-b9d3-a83cef57e9fc",
   "metadata": {},
   "source": [
    "###### (4) $Cov(\\epsilon, \\hat{\\beta}) = \\sigma^2 X(X^\\top X)^{-1}$"
   ]
  },
  {
   "cell_type": "markdown",
   "id": "0d2930fe-cd8d-4326-807f-65f7c6a52a01",
   "metadata": {},
   "source": [
    "$\\bf{\\hat{\\beta}} = (X^\\top X)^{-1} X^\\top y = (X^\\top X)^{-1} X^\\top (X\\beta + \\epsilon) = \\beta + (X^\\top X)^{-1} \\epsilon$\n",
    "\n",
    "$Cov(\\bf{\\epsilon} , \\beta + (X^\\top X)^{-1} X^\\top \\epsilon ) = Cov(\\epsilon, \\beta) + Cov(\\epsilon, \\epsilon)X(X^\\top X)^{-1} = \\sigma^2 X(X^\\top X)^{-1}$\n",
    "\n",
    "$\\star Cov(\\epsilon, \\beta)$\n",
    "\n",
    "$\\star Cov(\\epsilon, \\epsilon) = I_n \\sigma^2$"
   ]
  },
  {
   "cell_type": "markdown",
   "id": "66bbc200-6f5f-4c06-af47-df12bf74b662",
   "metadata": {},
   "source": [
    "###### (5) $\\sum^{n}_{j=1} e_j y_j = SSE$"
   ]
  },
  {
   "cell_type": "markdown",
   "id": "d086ebbf-01d6-42fc-9501-7d1479559dbf",
   "metadata": {},
   "source": [
    "$\\sum^{n}_{j=1} e_j y_j = \\bf{e^\\top y} = \\{ (I - H)y\\}^\\top y = y^\\top (I-H)y$\n",
    "\n",
    "$\\star \\bf{e}^\\top (e_1, \\dots , e_n) = (y-\\hat{y})^\\top)$\n",
    "\n",
    "$\\star \\bf{y}^\\top  = (y_1 , \\dots , y_n)$\n",
    "\n",
    "$SSE = \\sum^n_{j=1} (y_i - \\hat{y}_j)^2 = (\\bf{y} - \\hat{y} ) ^\\top ( y - \\hat{y} ) = e^\\top e = \\{ (I - H)y \\}^\\top \\{ (I - H)y \\} = y^\\top (I - H) (I-H)y = y^\\top (I - H)y$\n",
    "\n",
    "$\\star I - H_H+H^2 = I-H, H^2 = H$\n",
    "\n",
    "$\\therefore \\sum^{n}_{j=1} e_j y_j = SSE$"
   ]
  },
  {
   "cell_type": "markdown",
   "id": "887de892-d3e4-45c0-9e22-925edd4fb730",
   "metadata": {},
   "source": [
    "###### (6) $\\sum^{n}_{j=1} e_j \\hat{y}_j = 0$"
   ]
  },
  {
   "cell_type": "markdown",
   "id": "562ff766-a657-43e0-b05f-fe524fbf0349",
   "metadata": {},
   "source": [
    "$\\sum^{n}_{j=1} \\bf{e_j \\hat{y}_j} = e^\\top \\hat{y} = y^\\top (I-H) Hy = y^\\top_{1\\times n} \\mathbb{O}_{n\\times n} y_{n \\times 1} = 0$\n",
    "\n",
    "$\\star H - H^2 = H - H = \\mathbb{O}_{n \\times n}$"
   ]
  },
  {
   "cell_type": "markdown",
   "id": "f535c9af-a43c-496a-938f-cd87b5c2904f",
   "metadata": {},
   "source": [
    "##### 1 plus. 다음의 데이터에 대하여 모형 $y_i = \\beta_0 + \\beta_1 x_{1j} + \\beta_2 x_{2j} + \\epsilon_j, \\epsilon  \\sim N(0,\\sigma^2)$이 옳다고 가정하고 질문에 답하여라."
   ]
  },
  {
   "cell_type": "markdown",
   "id": "86e0b9df-4dc6-4616-91b2-3f3372814783",
   "metadata": {},
   "source": [
    "|y|1|5|0|4|4|-1|\n",
    "|:--:|:--:|:--:|:--:|:--:|:--:|:--:|\n",
    "|x_1|1|2|1|3|3|3|\n",
    "|x_2|1|1|2|1|2|3|"
   ]
  },
  {
   "cell_type": "code",
   "execution_count": 145,
   "id": "04cda10e-4b19-4d97-8c81-1cc99621cd67",
   "metadata": {},
   "outputs": [],
   "source": [
    "library(car)"
   ]
  },
  {
   "cell_type": "code",
   "execution_count": 146,
   "id": "d74cbb1f-9ebe-4ca2-a678-3ff9ca83d1af",
   "metadata": {},
   "outputs": [],
   "source": [
    "y <- c(1,5,0,4,4,-1)"
   ]
  },
  {
   "cell_type": "code",
   "execution_count": 147,
   "id": "0bf5bab5-3086-4a22-ad13-54d4d9c5287d",
   "metadata": {},
   "outputs": [],
   "source": [
    "x <- matrix(c(1,1,1,1,1,1,1,2,1,3,3,3,1,1,2,1,2,3), ncol=3)"
   ]
  },
  {
   "cell_type": "code",
   "execution_count": 148,
   "id": "f892bbc7-9a11-4400-9ae6-ea81dfaf406b",
   "metadata": {},
   "outputs": [],
   "source": [
    "dt <- data.frame(y=y,x1=x[,2],x2 = x[,3])"
   ]
  },
  {
   "cell_type": "code",
   "execution_count": 149,
   "id": "88981b71-9cf2-4b49-8c02-10c2c84fb832",
   "metadata": {},
   "outputs": [],
   "source": [
    "m <- lm(y~., dt)"
   ]
  },
  {
   "cell_type": "code",
   "execution_count": 150,
   "id": "9b847d68-124d-4689-a241-e5349a9b080c",
   "metadata": {},
   "outputs": [
    {
     "data": {
      "text/plain": [
       "\n",
       "Call:\n",
       "lm(formula = y ~ ., data = dt)\n",
       "\n",
       "Residuals:\n",
       "      1       2       3       4       5       6 \n",
       "-1.1395  1.3488  0.4651 -1.1628  1.4419 -0.9535 \n",
       "\n",
       "Coefficients:\n",
       "            Estimate Std. Error t value Pr(>|t|)  \n",
       "(Intercept)   3.2326     1.9740   1.638   0.2000  \n",
       "x1            1.5116     0.7713   1.960   0.1449  \n",
       "x2           -2.6047     0.9288  -2.804   0.0676 .\n",
       "---\n",
       "Signif. codes:  0 ‘***’ 0.001 ‘**’ 0.01 ‘*’ 0.05 ‘.’ 0.1 ‘ ’ 1\n",
       "\n",
       "Residual standard error: 1.599 on 3 degrees of freedom\n",
       "Multiple R-squared:  0.7511,\tAdjusted R-squared:  0.5852 \n",
       "F-statistic: 4.527 on 2 and 3 DF,  p-value: 0.1242\n"
      ]
     },
     "metadata": {},
     "output_type": "display_data"
    }
   ],
   "source": [
    "summary(m)"
   ]
  },
  {
   "cell_type": "code",
   "execution_count": 151,
   "id": "23ba3824-cdd9-4251-83cd-5273aadcb3c6",
   "metadata": {},
   "outputs": [
    {
     "data": {
      "text/html": [
       "<table class=\"dataframe\">\n",
       "<caption>A anova: 3 × 5</caption>\n",
       "<thead>\n",
       "\t<tr><th></th><th scope=col>Df</th><th scope=col>Sum Sq</th><th scope=col>Mean Sq</th><th scope=col>F value</th><th scope=col>Pr(&gt;F)</th></tr>\n",
       "\t<tr><th></th><th scope=col>&lt;int&gt;</th><th scope=col>&lt;dbl&gt;</th><th scope=col>&lt;dbl&gt;</th><th scope=col>&lt;dbl&gt;</th><th scope=col>&lt;dbl&gt;</th></tr>\n",
       "</thead>\n",
       "<tbody>\n",
       "\t<tr><th scope=row>x1</th><td>1</td><td> 3.040230</td><td> 3.04023</td><td>1.188454</td><td>0.35537433</td></tr>\n",
       "\t<tr><th scope=row>x2</th><td>1</td><td>20.118685</td><td>20.11868</td><td>7.864577</td><td>0.06760655</td></tr>\n",
       "\t<tr><th scope=row>Residuals</th><td>3</td><td> 7.674419</td><td> 2.55814</td><td>      NA</td><td>        NA</td></tr>\n",
       "</tbody>\n",
       "</table>\n"
      ],
      "text/latex": [
       "A anova: 3 × 5\n",
       "\\begin{tabular}{r|lllll}\n",
       "  & Df & Sum Sq & Mean Sq & F value & Pr(>F)\\\\\n",
       "  & <int> & <dbl> & <dbl> & <dbl> & <dbl>\\\\\n",
       "\\hline\n",
       "\tx1 & 1 &  3.040230 &  3.04023 & 1.188454 & 0.35537433\\\\\n",
       "\tx2 & 1 & 20.118685 & 20.11868 & 7.864577 & 0.06760655\\\\\n",
       "\tResiduals & 3 &  7.674419 &  2.55814 &       NA &         NA\\\\\n",
       "\\end{tabular}\n"
      ],
      "text/markdown": [
       "\n",
       "A anova: 3 × 5\n",
       "\n",
       "| <!--/--> | Df &lt;int&gt; | Sum Sq &lt;dbl&gt; | Mean Sq &lt;dbl&gt; | F value &lt;dbl&gt; | Pr(&gt;F) &lt;dbl&gt; |\n",
       "|---|---|---|---|---|---|\n",
       "| x1 | 1 |  3.040230 |  3.04023 | 1.188454 | 0.35537433 |\n",
       "| x2 | 1 | 20.118685 | 20.11868 | 7.864577 | 0.06760655 |\n",
       "| Residuals | 3 |  7.674419 |  2.55814 |       NA |         NA |\n",
       "\n"
      ],
      "text/plain": [
       "          Df Sum Sq    Mean Sq  F value  Pr(>F)    \n",
       "x1        1   3.040230  3.04023 1.188454 0.35537433\n",
       "x2        1  20.118685 20.11868 7.864577 0.06760655\n",
       "Residuals 3   7.674419  2.55814       NA         NA"
      ]
     },
     "metadata": {},
     "output_type": "display_data"
    }
   ],
   "source": [
    "anova(m)"
   ]
  },
  {
   "cell_type": "markdown",
   "id": "6e458f00-df9a-490c-be26-9d7d3e08dec5",
   "metadata": {},
   "source": [
    "###### (1)  $X^\\top X, X^\\top y y^\\top y$와 $(X^\\top X)^{-1}$ 을 구하시오."
   ]
  },
  {
   "cell_type": "code",
   "execution_count": 152,
   "id": "d8ce4294-fd5e-4623-9bf7-7bc4bb9e501e",
   "metadata": {},
   "outputs": [
    {
     "data": {
      "text/html": [
       "<table class=\"dataframe\">\n",
       "<caption>A matrix: 3 × 3 of type dbl</caption>\n",
       "<tbody>\n",
       "\t<tr><td> 6</td><td>13</td><td>10</td></tr>\n",
       "\t<tr><td>13</td><td>33</td><td>23</td></tr>\n",
       "\t<tr><td>10</td><td>23</td><td>20</td></tr>\n",
       "</tbody>\n",
       "</table>\n"
      ],
      "text/latex": [
       "A matrix: 3 × 3 of type dbl\n",
       "\\begin{tabular}{lll}\n",
       "\t  6 & 13 & 10\\\\\n",
       "\t 13 & 33 & 23\\\\\n",
       "\t 10 & 23 & 20\\\\\n",
       "\\end{tabular}\n"
      ],
      "text/markdown": [
       "\n",
       "A matrix: 3 × 3 of type dbl\n",
       "\n",
       "|  6 | 13 | 10 |\n",
       "| 13 | 33 | 23 |\n",
       "| 10 | 23 | 20 |\n",
       "\n"
      ],
      "text/plain": [
       "     [,1] [,2] [,3]\n",
       "[1,]  6   13   10  \n",
       "[2,] 13   33   23  \n",
       "[3,] 10   23   20  "
      ]
     },
     "metadata": {},
     "output_type": "display_data"
    }
   ],
   "source": [
    "xx <- t(x) %*% x\n",
    "xx"
   ]
  },
  {
   "cell_type": "code",
   "execution_count": 153,
   "id": "a18fe6b0-abb8-4e02-a39c-5989d5d361c0",
   "metadata": {},
   "outputs": [
    {
     "data": {
      "text/html": [
       "<table class=\"dataframe\">\n",
       "<caption>A matrix: 3 × 3 of type dbl</caption>\n",
       "<tbody>\n",
       "\t<tr><td> 1.5232558</td><td>-0.34883721</td><td>-0.36046512</td></tr>\n",
       "\t<tr><td>-0.3488372</td><td> 0.23255814</td><td>-0.09302326</td></tr>\n",
       "\t<tr><td>-0.3604651</td><td>-0.09302326</td><td> 0.33720930</td></tr>\n",
       "</tbody>\n",
       "</table>\n"
      ],
      "text/latex": [
       "A matrix: 3 × 3 of type dbl\n",
       "\\begin{tabular}{lll}\n",
       "\t  1.5232558 & -0.34883721 & -0.36046512\\\\\n",
       "\t -0.3488372 &  0.23255814 & -0.09302326\\\\\n",
       "\t -0.3604651 & -0.09302326 &  0.33720930\\\\\n",
       "\\end{tabular}\n"
      ],
      "text/markdown": [
       "\n",
       "A matrix: 3 × 3 of type dbl\n",
       "\n",
       "|  1.5232558 | -0.34883721 | -0.36046512 |\n",
       "| -0.3488372 |  0.23255814 | -0.09302326 |\n",
       "| -0.3604651 | -0.09302326 |  0.33720930 |\n",
       "\n"
      ],
      "text/plain": [
       "     [,1]       [,2]        [,3]       \n",
       "[1,]  1.5232558 -0.34883721 -0.36046512\n",
       "[2,] -0.3488372  0.23255814 -0.09302326\n",
       "[3,] -0.3604651 -0.09302326  0.33720930"
      ]
     },
     "metadata": {},
     "output_type": "display_data"
    }
   ],
   "source": [
    "xx_i <- solve(xx)\n",
    "xx_i"
   ]
  },
  {
   "cell_type": "code",
   "execution_count": 154,
   "id": "1736df57-231f-4d31-9301-0e374bc832dc",
   "metadata": {},
   "outputs": [
    {
     "data": {
      "text/html": [
       "<table class=\"dataframe\">\n",
       "<caption>A matrix: 3 × 3 of type dbl</caption>\n",
       "<tbody>\n",
       "\t<tr><td> 1.52</td><td>-0.35</td><td>-0.36</td></tr>\n",
       "\t<tr><td>-0.35</td><td> 0.23</td><td>-0.09</td></tr>\n",
       "\t<tr><td>-0.36</td><td>-0.09</td><td> 0.34</td></tr>\n",
       "</tbody>\n",
       "</table>\n"
      ],
      "text/latex": [
       "A matrix: 3 × 3 of type dbl\n",
       "\\begin{tabular}{lll}\n",
       "\t  1.52 & -0.35 & -0.36\\\\\n",
       "\t -0.35 &  0.23 & -0.09\\\\\n",
       "\t -0.36 & -0.09 &  0.34\\\\\n",
       "\\end{tabular}\n"
      ],
      "text/markdown": [
       "\n",
       "A matrix: 3 × 3 of type dbl\n",
       "\n",
       "|  1.52 | -0.35 | -0.36 |\n",
       "| -0.35 |  0.23 | -0.09 |\n",
       "| -0.36 | -0.09 |  0.34 |\n",
       "\n"
      ],
      "text/plain": [
       "     [,1]  [,2]  [,3] \n",
       "[1,]  1.52 -0.35 -0.36\n",
       "[2,] -0.35  0.23 -0.09\n",
       "[3,] -0.36 -0.09  0.34"
      ]
     },
     "metadata": {},
     "output_type": "display_data"
    }
   ],
   "source": [
    "xx_i2 <- round(xx_i,2)\n",
    "xx_i2"
   ]
  },
  {
   "cell_type": "code",
   "execution_count": 155,
   "id": "9dfeb72f-7175-4402-906c-c3c8065206f1",
   "metadata": {},
   "outputs": [
    {
     "data": {
      "text/html": [
       "<table class=\"dataframe\">\n",
       "<caption>A matrix: 3 × 1 of type dbl</caption>\n",
       "<tbody>\n",
       "\t<tr><td>13</td></tr>\n",
       "\t<tr><td>32</td></tr>\n",
       "\t<tr><td>15</td></tr>\n",
       "</tbody>\n",
       "</table>\n"
      ],
      "text/latex": [
       "A matrix: 3 × 1 of type dbl\n",
       "\\begin{tabular}{l}\n",
       "\t 13\\\\\n",
       "\t 32\\\\\n",
       "\t 15\\\\\n",
       "\\end{tabular}\n"
      ],
      "text/markdown": [
       "\n",
       "A matrix: 3 × 1 of type dbl\n",
       "\n",
       "| 13 |\n",
       "| 32 |\n",
       "| 15 |\n",
       "\n"
      ],
      "text/plain": [
       "     [,1]\n",
       "[1,] 13  \n",
       "[2,] 32  \n",
       "[3,] 15  "
      ]
     },
     "metadata": {},
     "output_type": "display_data"
    }
   ],
   "source": [
    "xy <- t(x) %*% y\n",
    "xy"
   ]
  },
  {
   "cell_type": "code",
   "execution_count": 156,
   "id": "5bc44b6f-13a8-4774-8e4b-998292757f13",
   "metadata": {},
   "outputs": [
    {
     "data": {
      "text/html": [
       "<table class=\"dataframe\">\n",
       "<caption>A matrix: 1 × 1 of type dbl</caption>\n",
       "<tbody>\n",
       "\t<tr><td>59</td></tr>\n",
       "</tbody>\n",
       "</table>\n"
      ],
      "text/latex": [
       "A matrix: 1 × 1 of type dbl\n",
       "\\begin{tabular}{l}\n",
       "\t 59\\\\\n",
       "\\end{tabular}\n"
      ],
      "text/markdown": [
       "\n",
       "A matrix: 1 × 1 of type dbl\n",
       "\n",
       "| 59 |\n",
       "\n"
      ],
      "text/plain": [
       "     [,1]\n",
       "[1,] 59  "
      ]
     },
     "metadata": {},
     "output_type": "display_data"
    }
   ],
   "source": [
    "yy <- t(y) %*% y\n",
    "yy"
   ]
  },
  {
   "cell_type": "markdown",
   "id": "69d12340-c999-4d87-b3b7-626831d44922",
   "metadata": {},
   "source": [
    "###### (2) $\\beta_0, \\beta_1, \\beta_2, \\sigma^2$를 추정하시오."
   ]
  },
  {
   "cell_type": "code",
   "execution_count": 157,
   "id": "2a81475b-2b96-4c35-bcc3-36e7f4eab8e9",
   "metadata": {},
   "outputs": [
    {
     "data": {
      "text/html": [
       "<style>\n",
       ".dl-inline {width: auto; margin:0; padding: 0}\n",
       ".dl-inline>dt, .dl-inline>dd {float: none; width: auto; display: inline-block}\n",
       ".dl-inline>dt::after {content: \":\\0020\"; padding-right: .5ex}\n",
       ".dl-inline>dt:not(:first-of-type) {padding-left: .5ex}\n",
       "</style><dl class=dl-inline><dt>(Intercept)</dt><dd>3.23255813953489</dd><dt>x1</dt><dd>1.51162790697674</dd><dt>x2</dt><dd>-2.6046511627907</dd></dl>\n"
      ],
      "text/latex": [
       "\\begin{description*}\n",
       "\\item[(Intercept)] 3.23255813953489\n",
       "\\item[x1] 1.51162790697674\n",
       "\\item[x2] -2.6046511627907\n",
       "\\end{description*}\n"
      ],
      "text/markdown": [
       "(Intercept)\n",
       ":   3.23255813953489x1\n",
       ":   1.51162790697674x2\n",
       ":   -2.6046511627907\n",
       "\n"
      ],
      "text/plain": [
       "(Intercept)          x1          x2 \n",
       "   3.232558    1.511628   -2.604651 "
      ]
     },
     "metadata": {},
     "output_type": "display_data"
    }
   ],
   "source": [
    "coef(m)"
   ]
  },
  {
   "cell_type": "code",
   "execution_count": 158,
   "id": "14d59443-b302-49d0-89c0-7ffa140a0e70",
   "metadata": {},
   "outputs": [
    {
     "data": {
      "text/html": [
       "2.55813953488372"
      ],
      "text/latex": [
       "2.55813953488372"
      ],
      "text/markdown": [
       "2.55813953488372"
      ],
      "text/plain": [
       "[1] 2.55814"
      ]
     },
     "metadata": {},
     "output_type": "display_data"
    }
   ],
   "source": [
    "anova(m)$Mean[3]"
   ]
  },
  {
   "cell_type": "code",
   "execution_count": 159,
   "id": "2b388c7f-75e1-4ec8-9be4-299a896a0597",
   "metadata": {},
   "outputs": [
    {
     "data": {
      "text/html": [
       "<table class=\"dataframe\">\n",
       "<caption>A matrix: 3 × 1 of type dbl</caption>\n",
       "<tbody>\n",
       "\t<tr><td> 3.232558</td></tr>\n",
       "\t<tr><td> 1.511628</td></tr>\n",
       "\t<tr><td>-2.604651</td></tr>\n",
       "</tbody>\n",
       "</table>\n"
      ],
      "text/latex": [
       "A matrix: 3 × 1 of type dbl\n",
       "\\begin{tabular}{l}\n",
       "\t  3.232558\\\\\n",
       "\t  1.511628\\\\\n",
       "\t -2.604651\\\\\n",
       "\\end{tabular}\n"
      ],
      "text/markdown": [
       "\n",
       "A matrix: 3 × 1 of type dbl\n",
       "\n",
       "|  3.232558 |\n",
       "|  1.511628 |\n",
       "| -2.604651 |\n",
       "\n"
      ],
      "text/plain": [
       "     [,1]     \n",
       "[1,]  3.232558\n",
       "[2,]  1.511628\n",
       "[3,] -2.604651"
      ]
     },
     "metadata": {},
     "output_type": "display_data"
    }
   ],
   "source": [
    "b <- xx_i %*% xy\n",
    "b"
   ]
  },
  {
   "cell_type": "code",
   "execution_count": 160,
   "id": "3d9d9259-ede2-48f2-a1ed-3ee427356627",
   "metadata": {},
   "outputs": [
    {
     "data": {
      "text/html": [
       "<table class=\"dataframe\">\n",
       "<caption>A matrix: 3 × 1 of type dbl</caption>\n",
       "<tbody>\n",
       "\t<tr><td> 3.16</td></tr>\n",
       "\t<tr><td> 1.46</td></tr>\n",
       "\t<tr><td>-2.46</td></tr>\n",
       "</tbody>\n",
       "</table>\n"
      ],
      "text/latex": [
       "A matrix: 3 × 1 of type dbl\n",
       "\\begin{tabular}{l}\n",
       "\t  3.16\\\\\n",
       "\t  1.46\\\\\n",
       "\t -2.46\\\\\n",
       "\\end{tabular}\n"
      ],
      "text/markdown": [
       "\n",
       "A matrix: 3 × 1 of type dbl\n",
       "\n",
       "|  3.16 |\n",
       "|  1.46 |\n",
       "| -2.46 |\n",
       "\n"
      ],
      "text/plain": [
       "     [,1] \n",
       "[1,]  3.16\n",
       "[2,]  1.46\n",
       "[3,] -2.46"
      ]
     },
     "metadata": {},
     "output_type": "display_data"
    }
   ],
   "source": [
    "b1 <- round(round(xx_i,2)%*% xy,2)\n",
    "b1"
   ]
  },
  {
   "cell_type": "code",
   "execution_count": 161,
   "id": "e653b855-afaa-4450-9ce8-5cd15d524fbf",
   "metadata": {},
   "outputs": [
    {
     "data": {
      "text/html": [
       "<table class=\"dataframe\">\n",
       "<caption>A matrix: 6 × 1 of type dbl</caption>\n",
       "<tbody>\n",
       "\t<tr><td> 2.13953488</td></tr>\n",
       "\t<tr><td> 3.65116279</td></tr>\n",
       "\t<tr><td>-0.46511628</td></tr>\n",
       "\t<tr><td> 5.16279070</td></tr>\n",
       "\t<tr><td> 2.55813953</td></tr>\n",
       "\t<tr><td>-0.04651163</td></tr>\n",
       "</tbody>\n",
       "</table>\n"
      ],
      "text/latex": [
       "A matrix: 6 × 1 of type dbl\n",
       "\\begin{tabular}{l}\n",
       "\t  2.13953488\\\\\n",
       "\t  3.65116279\\\\\n",
       "\t -0.46511628\\\\\n",
       "\t  5.16279070\\\\\n",
       "\t  2.55813953\\\\\n",
       "\t -0.04651163\\\\\n",
       "\\end{tabular}\n"
      ],
      "text/markdown": [
       "\n",
       "A matrix: 6 × 1 of type dbl\n",
       "\n",
       "|  2.13953488 |\n",
       "|  3.65116279 |\n",
       "| -0.46511628 |\n",
       "|  5.16279070 |\n",
       "|  2.55813953 |\n",
       "| -0.04651163 |\n",
       "\n"
      ],
      "text/plain": [
       "     [,1]       \n",
       "[1,]  2.13953488\n",
       "[2,]  3.65116279\n",
       "[3,] -0.46511628\n",
       "[4,]  5.16279070\n",
       "[5,]  2.55813953\n",
       "[6,] -0.04651163"
      ]
     },
     "metadata": {},
     "output_type": "display_data"
    }
   ],
   "source": [
    "haty <- x %*% b\n",
    "haty"
   ]
  },
  {
   "cell_type": "code",
   "execution_count": 162,
   "id": "654abc04-4a7a-44ea-9b5b-8f02f3bce4a7",
   "metadata": {},
   "outputs": [
    {
     "data": {
      "text/html": [
       "<table class=\"dataframe\">\n",
       "<caption>A matrix: 6 × 1 of type dbl</caption>\n",
       "<tbody>\n",
       "\t<tr><td> 2.16</td></tr>\n",
       "\t<tr><td> 3.62</td></tr>\n",
       "\t<tr><td>-0.30</td></tr>\n",
       "\t<tr><td> 5.08</td></tr>\n",
       "\t<tr><td> 2.62</td></tr>\n",
       "\t<tr><td> 0.16</td></tr>\n",
       "</tbody>\n",
       "</table>\n"
      ],
      "text/latex": [
       "A matrix: 6 × 1 of type dbl\n",
       "\\begin{tabular}{l}\n",
       "\t  2.16\\\\\n",
       "\t  3.62\\\\\n",
       "\t -0.30\\\\\n",
       "\t  5.08\\\\\n",
       "\t  2.62\\\\\n",
       "\t  0.16\\\\\n",
       "\\end{tabular}\n"
      ],
      "text/markdown": [
       "\n",
       "A matrix: 6 × 1 of type dbl\n",
       "\n",
       "|  2.16 |\n",
       "|  3.62 |\n",
       "| -0.30 |\n",
       "|  5.08 |\n",
       "|  2.62 |\n",
       "|  0.16 |\n",
       "\n"
      ],
      "text/plain": [
       "     [,1] \n",
       "[1,]  2.16\n",
       "[2,]  3.62\n",
       "[3,] -0.30\n",
       "[4,]  5.08\n",
       "[5,]  2.62\n",
       "[6,]  0.16"
      ]
     },
     "metadata": {},
     "output_type": "display_data"
    }
   ],
   "source": [
    "haty_2 <- round(x %*% b1,2)\n",
    "haty_2"
   ]
  },
  {
   "cell_type": "code",
   "execution_count": 163,
   "id": "011f4f32-96a7-4e8e-9d29-40db9ab4f9a6",
   "metadata": {},
   "outputs": [
    {
     "data": {
      "text/html": [
       "<table class=\"dataframe\">\n",
       "<caption>A matrix: 6 × 1 of type dbl</caption>\n",
       "<tbody>\n",
       "\t<tr><td>-1.1395349</td></tr>\n",
       "\t<tr><td> 1.3488372</td></tr>\n",
       "\t<tr><td> 0.4651163</td></tr>\n",
       "\t<tr><td>-1.1627907</td></tr>\n",
       "\t<tr><td> 1.4418605</td></tr>\n",
       "\t<tr><td>-0.9534884</td></tr>\n",
       "</tbody>\n",
       "</table>\n"
      ],
      "text/latex": [
       "A matrix: 6 × 1 of type dbl\n",
       "\\begin{tabular}{l}\n",
       "\t -1.1395349\\\\\n",
       "\t  1.3488372\\\\\n",
       "\t  0.4651163\\\\\n",
       "\t -1.1627907\\\\\n",
       "\t  1.4418605\\\\\n",
       "\t -0.9534884\\\\\n",
       "\\end{tabular}\n"
      ],
      "text/markdown": [
       "\n",
       "A matrix: 6 × 1 of type dbl\n",
       "\n",
       "| -1.1395349 |\n",
       "|  1.3488372 |\n",
       "|  0.4651163 |\n",
       "| -1.1627907 |\n",
       "|  1.4418605 |\n",
       "| -0.9534884 |\n",
       "\n"
      ],
      "text/plain": [
       "     [,1]      \n",
       "[1,] -1.1395349\n",
       "[2,]  1.3488372\n",
       "[3,]  0.4651163\n",
       "[4,] -1.1627907\n",
       "[5,]  1.4418605\n",
       "[6,] -0.9534884"
      ]
     },
     "metadata": {},
     "output_type": "display_data"
    }
   ],
   "source": [
    "e <- y - haty\n",
    "e"
   ]
  },
  {
   "cell_type": "code",
   "execution_count": 164,
   "id": "3b5a78c2-e06a-4c7d-99f3-e56f953008d6",
   "metadata": {},
   "outputs": [
    {
     "data": {
      "text/html": [
       "<table class=\"dataframe\">\n",
       "<caption>A matrix: 6 × 1 of type dbl</caption>\n",
       "<tbody>\n",
       "\t<tr><td>-1.16</td></tr>\n",
       "\t<tr><td> 1.38</td></tr>\n",
       "\t<tr><td> 0.30</td></tr>\n",
       "\t<tr><td>-1.08</td></tr>\n",
       "\t<tr><td> 1.38</td></tr>\n",
       "\t<tr><td>-1.16</td></tr>\n",
       "</tbody>\n",
       "</table>\n"
      ],
      "text/latex": [
       "A matrix: 6 × 1 of type dbl\n",
       "\\begin{tabular}{l}\n",
       "\t -1.16\\\\\n",
       "\t  1.38\\\\\n",
       "\t  0.30\\\\\n",
       "\t -1.08\\\\\n",
       "\t  1.38\\\\\n",
       "\t -1.16\\\\\n",
       "\\end{tabular}\n"
      ],
      "text/markdown": [
       "\n",
       "A matrix: 6 × 1 of type dbl\n",
       "\n",
       "| -1.16 |\n",
       "|  1.38 |\n",
       "|  0.30 |\n",
       "| -1.08 |\n",
       "|  1.38 |\n",
       "| -1.16 |\n",
       "\n"
      ],
      "text/plain": [
       "     [,1] \n",
       "[1,] -1.16\n",
       "[2,]  1.38\n",
       "[3,]  0.30\n",
       "[4,] -1.08\n",
       "[5,]  1.38\n",
       "[6,] -1.16"
      ]
     },
     "metadata": {},
     "output_type": "display_data"
    }
   ],
   "source": [
    "e_2 <- y - haty_2\n",
    "e_2"
   ]
  },
  {
   "cell_type": "code",
   "execution_count": 165,
   "id": "2c63d6e3-ed02-44c7-873a-2809dc021097",
   "metadata": {},
   "outputs": [
    {
     "data": {
      "text/html": [
       "<table class=\"dataframe\">\n",
       "<caption>A matrix: 1 × 1 of type dbl</caption>\n",
       "<tbody>\n",
       "\t<tr><td>7.674419</td></tr>\n",
       "</tbody>\n",
       "</table>\n"
      ],
      "text/latex": [
       "A matrix: 1 × 1 of type dbl\n",
       "\\begin{tabular}{l}\n",
       "\t 7.674419\\\\\n",
       "\\end{tabular}\n"
      ],
      "text/markdown": [
       "\n",
       "A matrix: 1 × 1 of type dbl\n",
       "\n",
       "| 7.674419 |\n",
       "\n"
      ],
      "text/plain": [
       "     [,1]    \n",
       "[1,] 7.674419"
      ]
     },
     "metadata": {},
     "output_type": "display_data"
    }
   ],
   "source": [
    "sse <- t(e) %*% e\n",
    "sse"
   ]
  },
  {
   "cell_type": "code",
   "execution_count": 166,
   "id": "3d7869a5-4060-4e9b-b0cb-493d28913c6b",
   "metadata": {},
   "outputs": [
    {
     "data": {
      "text/html": [
       "<table class=\"dataframe\">\n",
       "<caption>A matrix: 1 × 1 of type dbl</caption>\n",
       "<tbody>\n",
       "\t<tr><td>7.7564</td></tr>\n",
       "</tbody>\n",
       "</table>\n"
      ],
      "text/latex": [
       "A matrix: 1 × 1 of type dbl\n",
       "\\begin{tabular}{l}\n",
       "\t 7.7564\\\\\n",
       "\\end{tabular}\n"
      ],
      "text/markdown": [
       "\n",
       "A matrix: 1 × 1 of type dbl\n",
       "\n",
       "| 7.7564 |\n",
       "\n"
      ],
      "text/plain": [
       "     [,1]  \n",
       "[1,] 7.7564"
      ]
     },
     "metadata": {},
     "output_type": "display_data"
    }
   ],
   "source": [
    "sse_2 <- t(e_2) %*% e_2\n",
    "sse_2"
   ]
  },
  {
   "cell_type": "code",
   "execution_count": 167,
   "id": "9c6777e4-54cf-4260-92f3-191ec461f6b0",
   "metadata": {},
   "outputs": [
    {
     "data": {
      "text/html": [
       "<table class=\"dataframe\">\n",
       "<caption>A matrix: 1 × 1 of type dbl</caption>\n",
       "<tbody>\n",
       "\t<tr><td>2.55814</td></tr>\n",
       "</tbody>\n",
       "</table>\n"
      ],
      "text/latex": [
       "A matrix: 1 × 1 of type dbl\n",
       "\\begin{tabular}{l}\n",
       "\t 2.55814\\\\\n",
       "\\end{tabular}\n"
      ],
      "text/markdown": [
       "\n",
       "A matrix: 1 × 1 of type dbl\n",
       "\n",
       "| 2.55814 |\n",
       "\n"
      ],
      "text/plain": [
       "     [,1]   \n",
       "[1,] 2.55814"
      ]
     },
     "metadata": {},
     "output_type": "display_data"
    }
   ],
   "source": [
    "mse <- sse / 3\n",
    "mse"
   ]
  },
  {
   "cell_type": "code",
   "execution_count": 168,
   "id": "3c5e1618-a2ed-402c-b9b4-24ac4d8b4540",
   "metadata": {},
   "outputs": [
    {
     "data": {
      "text/html": [
       "<table class=\"dataframe\">\n",
       "<caption>A matrix: 1 × 1 of type dbl</caption>\n",
       "<tbody>\n",
       "\t<tr><td>2.585467</td></tr>\n",
       "</tbody>\n",
       "</table>\n"
      ],
      "text/latex": [
       "A matrix: 1 × 1 of type dbl\n",
       "\\begin{tabular}{l}\n",
       "\t 2.585467\\\\\n",
       "\\end{tabular}\n"
      ],
      "text/markdown": [
       "\n",
       "A matrix: 1 × 1 of type dbl\n",
       "\n",
       "| 2.585467 |\n",
       "\n"
      ],
      "text/plain": [
       "     [,1]    \n",
       "[1,] 2.585467"
      ]
     },
     "metadata": {},
     "output_type": "display_data"
    }
   ],
   "source": [
    "mse_2 <- sse_2 / 3\n",
    "mse_2"
   ]
  },
  {
   "cell_type": "markdown",
   "id": "a6535caf-8f23-4561-9b07-d3eb148083c7",
   "metadata": {},
   "source": [
    "###### (3) $x_1 = x_2 = 2$에서 $E(y)$의 95% 신뢰구간을 구하시오."
   ]
  },
  {
   "cell_type": "code",
   "execution_count": 169,
   "id": "8d22b6f6-854d-472c-a58a-ff22eac2600e",
   "metadata": {},
   "outputs": [
    {
     "data": {
      "text/html": [
       "<table class=\"dataframe\">\n",
       "<caption>A data.frame: 1 × 2</caption>\n",
       "<thead>\n",
       "\t<tr><th scope=col>x1</th><th scope=col>x2</th></tr>\n",
       "\t<tr><th scope=col>&lt;dbl&gt;</th><th scope=col>&lt;dbl&gt;</th></tr>\n",
       "</thead>\n",
       "<tbody>\n",
       "\t<tr><td>2</td><td>2</td></tr>\n",
       "</tbody>\n",
       "</table>\n"
      ],
      "text/latex": [
       "A data.frame: 1 × 2\n",
       "\\begin{tabular}{ll}\n",
       " x1 & x2\\\\\n",
       " <dbl> & <dbl>\\\\\n",
       "\\hline\n",
       "\t 2 & 2\\\\\n",
       "\\end{tabular}\n"
      ],
      "text/markdown": [
       "\n",
       "A data.frame: 1 × 2\n",
       "\n",
       "| x1 &lt;dbl&gt; | x2 &lt;dbl&gt; |\n",
       "|---|---|\n",
       "| 2 | 2 |\n",
       "\n"
      ],
      "text/plain": [
       "  x1 x2\n",
       "1 2  2 "
      ]
     },
     "metadata": {},
     "output_type": "display_data"
    }
   ],
   "source": [
    "new_dt <- data.frame(x1=2, x2=2)\n",
    "new_dt"
   ]
  },
  {
   "cell_type": "code",
   "execution_count": 170,
   "id": "b106b0e8-f7a4-48a3-ab27-14688a02b544",
   "metadata": {},
   "outputs": [
    {
     "data": {
      "text/html": [
       "<table class=\"dataframe\">\n",
       "<caption>A matrix: 1 × 3 of type dbl</caption>\n",
       "<thead>\n",
       "\t<tr><th></th><th scope=col>fit</th><th scope=col>lwr</th><th scope=col>upr</th></tr>\n",
       "</thead>\n",
       "<tbody>\n",
       "\t<tr><th scope=row>1</th><td>1.046512</td><td>-1.345982</td><td>3.439005</td></tr>\n",
       "</tbody>\n",
       "</table>\n"
      ],
      "text/latex": [
       "A matrix: 1 × 3 of type dbl\n",
       "\\begin{tabular}{r|lll}\n",
       "  & fit & lwr & upr\\\\\n",
       "\\hline\n",
       "\t1 & 1.046512 & -1.345982 & 3.439005\\\\\n",
       "\\end{tabular}\n"
      ],
      "text/markdown": [
       "\n",
       "A matrix: 1 × 3 of type dbl\n",
       "\n",
       "| <!--/--> | fit | lwr | upr |\n",
       "|---|---|---|---|\n",
       "| 1 | 1.046512 | -1.345982 | 3.439005 |\n",
       "\n"
      ],
      "text/plain": [
       "  fit      lwr       upr     \n",
       "1 1.046512 -1.345982 3.439005"
      ]
     },
     "metadata": {},
     "output_type": "display_data"
    }
   ],
   "source": [
    "predict(m, newdata = new_dt,interval = c(\"confidence\"), level = 0.95)"
   ]
  },
  {
   "cell_type": "code",
   "execution_count": 171,
   "id": "3b3167b8-9f61-463b-bd7c-bc74c36bb6e4",
   "metadata": {},
   "outputs": [],
   "source": [
    "x0 <- c(1,2,2)"
   ]
  },
  {
   "cell_type": "code",
   "execution_count": 172,
   "id": "806e4c83-3434-4fe1-9c77-111d91141df0",
   "metadata": {},
   "outputs": [],
   "source": [
    "mu0 <- x0 %*% b"
   ]
  },
  {
   "cell_type": "code",
   "execution_count": 173,
   "id": "2412eeb6-473c-4078-9ee6-b2de5464628e",
   "metadata": {},
   "outputs": [
    {
     "data": {
      "text/html": [
       "<table class=\"dataframe\">\n",
       "<caption>A matrix: 1 × 1 of type dbl</caption>\n",
       "<tbody>\n",
       "\t<tr><td>0.2209302</td></tr>\n",
       "</tbody>\n",
       "</table>\n"
      ],
      "text/latex": [
       "A matrix: 1 × 1 of type dbl\n",
       "\\begin{tabular}{l}\n",
       "\t 0.2209302\\\\\n",
       "\\end{tabular}\n"
      ],
      "text/markdown": [
       "\n",
       "A matrix: 1 × 1 of type dbl\n",
       "\n",
       "| 0.2209302 |\n",
       "\n"
      ],
      "text/plain": [
       "     [,1]     \n",
       "[1,] 0.2209302"
      ]
     },
     "metadata": {},
     "output_type": "display_data"
    }
   ],
   "source": [
    "t(x0) %*% xx_i %*% x0"
   ]
  },
  {
   "cell_type": "code",
   "execution_count": 174,
   "id": "49ae5bd6-b612-49a9-82ec-a16f4e088a86",
   "metadata": {},
   "outputs": [
    {
     "data": {
      "text/html": [
       "<table class=\"dataframe\">\n",
       "<caption>A matrix: 1 × 1 of type dbl</caption>\n",
       "<tbody>\n",
       "\t<tr><td>0.5651704</td></tr>\n",
       "</tbody>\n",
       "</table>\n"
      ],
      "text/latex": [
       "A matrix: 1 × 1 of type dbl\n",
       "\\begin{tabular}{l}\n",
       "\t 0.5651704\\\\\n",
       "\\end{tabular}\n"
      ],
      "text/markdown": [
       "\n",
       "A matrix: 1 × 1 of type dbl\n",
       "\n",
       "| 0.5651704 |\n",
       "\n"
      ],
      "text/plain": [
       "     [,1]     \n",
       "[1,] 0.5651704"
      ]
     },
     "metadata": {},
     "output_type": "display_data"
    }
   ],
   "source": [
    "var_mu0 <- (t(x0) %*% xx_i %*% x0) * mse\n",
    "var_mu0"
   ]
  },
  {
   "cell_type": "code",
   "execution_count": 175,
   "id": "5144d7ca-68b3-4594-b6ae-3692d5a2acbc",
   "metadata": {},
   "outputs": [
    {
     "data": {
      "text/html": [
       "<table class=\"dataframe\">\n",
       "<caption>A matrix: 1 × 1 of type dbl</caption>\n",
       "<tbody>\n",
       "\t<tr><td>2.392494</td></tr>\n",
       "</tbody>\n",
       "</table>\n"
      ],
      "text/latex": [
       "A matrix: 1 × 1 of type dbl\n",
       "\\begin{tabular}{l}\n",
       "\t 2.392494\\\\\n",
       "\\end{tabular}\n"
      ],
      "text/markdown": [
       "\n",
       "A matrix: 1 × 1 of type dbl\n",
       "\n",
       "| 2.392494 |\n",
       "\n"
      ],
      "text/plain": [
       "     [,1]    \n",
       "[1,] 2.392494"
      ]
     },
     "metadata": {},
     "output_type": "display_data"
    }
   ],
   "source": [
    "tse <- qt(0.975,3) * sqrt(var_mu0)\n",
    "tse"
   ]
  },
  {
   "cell_type": "code",
   "execution_count": 176,
   "id": "0b3d1cf5-1724-4732-98b0-7e97b8072494",
   "metadata": {},
   "outputs": [
    {
     "data": {
      "text/html": [
       "<table class=\"dataframe\">\n",
       "<caption>A matrix: 1 × 1 of type dbl</caption>\n",
       "<tbody>\n",
       "\t<tr><td>-1.345982</td></tr>\n",
       "</tbody>\n",
       "</table>\n"
      ],
      "text/latex": [
       "A matrix: 1 × 1 of type dbl\n",
       "\\begin{tabular}{l}\n",
       "\t -1.345982\\\\\n",
       "\\end{tabular}\n"
      ],
      "text/markdown": [
       "\n",
       "A matrix: 1 × 1 of type dbl\n",
       "\n",
       "| -1.345982 |\n",
       "\n"
      ],
      "text/plain": [
       "     [,1]     \n",
       "[1,] -1.345982"
      ]
     },
     "metadata": {},
     "output_type": "display_data"
    }
   ],
   "source": [
    "mu0 - (tse)"
   ]
  },
  {
   "cell_type": "code",
   "execution_count": 177,
   "id": "4cb9b183-12da-4d1f-a9c9-c68b5dedc535",
   "metadata": {},
   "outputs": [
    {
     "data": {
      "text/html": [
       "<table class=\"dataframe\">\n",
       "<caption>A matrix: 1 × 1 of type dbl</caption>\n",
       "<tbody>\n",
       "\t<tr><td>3.439005</td></tr>\n",
       "</tbody>\n",
       "</table>\n"
      ],
      "text/latex": [
       "A matrix: 1 × 1 of type dbl\n",
       "\\begin{tabular}{l}\n",
       "\t 3.439005\\\\\n",
       "\\end{tabular}\n"
      ],
      "text/markdown": [
       "\n",
       "A matrix: 1 × 1 of type dbl\n",
       "\n",
       "| 3.439005 |\n",
       "\n"
      ],
      "text/plain": [
       "     [,1]    \n",
       "[1,] 3.439005"
      ]
     },
     "metadata": {},
     "output_type": "display_data"
    }
   ],
   "source": [
    "mu0 + (tse)"
   ]
  },
  {
   "cell_type": "markdown",
   "id": "18a90142-2573-4461-b8e8-833f25952ce8",
   "metadata": {},
   "source": [
    "###### (4) $\\beta_1$의 90% 신뢰구간을 구하시오."
   ]
  },
  {
   "cell_type": "code",
   "execution_count": 178,
   "id": "8f4ba8ef-3e29-441a-a19f-7b6b7dd800dc",
   "metadata": {},
   "outputs": [
    {
     "data": {
      "text/plain": [
       "\n",
       "Call:\n",
       "lm(formula = y ~ ., data = dt)\n",
       "\n",
       "Residuals:\n",
       "      1       2       3       4       5       6 \n",
       "-1.1395  1.3488  0.4651 -1.1628  1.4419 -0.9535 \n",
       "\n",
       "Coefficients:\n",
       "            Estimate Std. Error t value Pr(>|t|)  \n",
       "(Intercept)   3.2326     1.9740   1.638   0.2000  \n",
       "x1            1.5116     0.7713   1.960   0.1449  \n",
       "x2           -2.6047     0.9288  -2.804   0.0676 .\n",
       "---\n",
       "Signif. codes:  0 ‘***’ 0.001 ‘**’ 0.01 ‘*’ 0.05 ‘.’ 0.1 ‘ ’ 1\n",
       "\n",
       "Residual standard error: 1.599 on 3 degrees of freedom\n",
       "Multiple R-squared:  0.7511,\tAdjusted R-squared:  0.5852 \n",
       "F-statistic: 4.527 on 2 and 3 DF,  p-value: 0.1242\n"
      ]
     },
     "metadata": {},
     "output_type": "display_data"
    }
   ],
   "source": [
    "summary(m)"
   ]
  },
  {
   "cell_type": "code",
   "execution_count": 179,
   "id": "9cf865a0-9cc0-4f00-b3e0-d39d5f8613c1",
   "metadata": {},
   "outputs": [
    {
     "data": {
      "text/html": [
       "<table class=\"dataframe\">\n",
       "<caption>A matrix: 3 × 2 of type dbl</caption>\n",
       "<thead>\n",
       "\t<tr><th></th><th scope=col>5 %</th><th scope=col>95 %</th></tr>\n",
       "</thead>\n",
       "<tbody>\n",
       "\t<tr><th scope=row>(Intercept)</th><td>-1.4129961</td><td> 7.8781124</td></tr>\n",
       "\t<tr><th scope=row>x1</th><td>-0.3035404</td><td> 3.3267962</td></tr>\n",
       "\t<tr><th scope=row>x2</th><td>-4.7904032</td><td>-0.4188991</td></tr>\n",
       "</tbody>\n",
       "</table>\n"
      ],
      "text/latex": [
       "A matrix: 3 × 2 of type dbl\n",
       "\\begin{tabular}{r|ll}\n",
       "  & 5 \\% & 95 \\%\\\\\n",
       "\\hline\n",
       "\t(Intercept) & -1.4129961 &  7.8781124\\\\\n",
       "\tx1 & -0.3035404 &  3.3267962\\\\\n",
       "\tx2 & -4.7904032 & -0.4188991\\\\\n",
       "\\end{tabular}\n"
      ],
      "text/markdown": [
       "\n",
       "A matrix: 3 × 2 of type dbl\n",
       "\n",
       "| <!--/--> | 5 % | 95 % |\n",
       "|---|---|---|\n",
       "| (Intercept) | -1.4129961 |  7.8781124 |\n",
       "| x1 | -0.3035404 |  3.3267962 |\n",
       "| x2 | -4.7904032 | -0.4188991 |\n",
       "\n"
      ],
      "text/plain": [
       "            5 %        95 %      \n",
       "(Intercept) -1.4129961  7.8781124\n",
       "x1          -0.3035404  3.3267962\n",
       "x2          -4.7904032 -0.4188991"
      ]
     },
     "metadata": {},
     "output_type": "display_data"
    }
   ],
   "source": [
    "confint(m, level = 0.9)"
   ]
  },
  {
   "cell_type": "code",
   "execution_count": 180,
   "id": "3fb665d4-7587-4e30-990e-1c1d992ab181",
   "metadata": {},
   "outputs": [
    {
     "data": {
      "text/html": [
       "<table class=\"dataframe\">\n",
       "<caption>A matrix: 1 × 1 of type dbl</caption>\n",
       "<tbody>\n",
       "\t<tr><td>0.7713081</td></tr>\n",
       "</tbody>\n",
       "</table>\n"
      ],
      "text/latex": [
       "A matrix: 1 × 1 of type dbl\n",
       "\\begin{tabular}{l}\n",
       "\t 0.7713081\\\\\n",
       "\\end{tabular}\n"
      ],
      "text/markdown": [
       "\n",
       "A matrix: 1 × 1 of type dbl\n",
       "\n",
       "| 0.7713081 |\n",
       "\n"
      ],
      "text/plain": [
       "     [,1]     \n",
       "[1,] 0.7713081"
      ]
     },
     "metadata": {},
     "output_type": "display_data"
    }
   ],
   "source": [
    "se_b1 <- sqrt(xx_i[2,2] * mse)\n",
    "se_b1"
   ]
  },
  {
   "cell_type": "code",
   "execution_count": 181,
   "id": "e747003a-347b-4995-84b5-c6f4a278bdd9",
   "metadata": {},
   "outputs": [
    {
     "data": {
      "text/html": [
       "<table class=\"dataframe\">\n",
       "<caption>A matrix: 1 × 1 of type dbl</caption>\n",
       "<tbody>\n",
       "\t<tr><td>1.815168</td></tr>\n",
       "</tbody>\n",
       "</table>\n"
      ],
      "text/latex": [
       "A matrix: 1 × 1 of type dbl\n",
       "\\begin{tabular}{l}\n",
       "\t 1.815168\\\\\n",
       "\\end{tabular}\n"
      ],
      "text/markdown": [
       "\n",
       "A matrix: 1 × 1 of type dbl\n",
       "\n",
       "| 1.815168 |\n",
       "\n"
      ],
      "text/plain": [
       "     [,1]    \n",
       "[1,] 1.815168"
      ]
     },
     "metadata": {},
     "output_type": "display_data"
    }
   ],
   "source": [
    "tse <- qt(0.95,3) *se_b1\n",
    "tse"
   ]
  },
  {
   "cell_type": "code",
   "execution_count": 182,
   "id": "04a4aabb-4fc0-48cb-9d73-bb24374465e7",
   "metadata": {},
   "outputs": [
    {
     "data": {
      "text/html": [
       "<table class=\"dataframe\">\n",
       "<caption>A matrix: 1 × 1 of type dbl</caption>\n",
       "<tbody>\n",
       "\t<tr><td>-0.3035404</td></tr>\n",
       "</tbody>\n",
       "</table>\n"
      ],
      "text/latex": [
       "A matrix: 1 × 1 of type dbl\n",
       "\\begin{tabular}{l}\n",
       "\t -0.3035404\\\\\n",
       "\\end{tabular}\n"
      ],
      "text/markdown": [
       "\n",
       "A matrix: 1 × 1 of type dbl\n",
       "\n",
       "| -0.3035404 |\n",
       "\n"
      ],
      "text/plain": [
       "     [,1]      \n",
       "[1,] -0.3035404"
      ]
     },
     "metadata": {},
     "output_type": "display_data"
    }
   ],
   "source": [
    "b[2] - tse"
   ]
  },
  {
   "cell_type": "code",
   "execution_count": 183,
   "id": "d2db2a9c-d376-4311-b000-2b3eb7790b6d",
   "metadata": {},
   "outputs": [
    {
     "data": {
      "text/html": [
       "<table class=\"dataframe\">\n",
       "<caption>A matrix: 1 × 1 of type dbl</caption>\n",
       "<tbody>\n",
       "\t<tr><td>3.326796</td></tr>\n",
       "</tbody>\n",
       "</table>\n"
      ],
      "text/latex": [
       "A matrix: 1 × 1 of type dbl\n",
       "\\begin{tabular}{l}\n",
       "\t 3.326796\\\\\n",
       "\\end{tabular}\n"
      ],
      "text/markdown": [
       "\n",
       "A matrix: 1 × 1 of type dbl\n",
       "\n",
       "| 3.326796 |\n",
       "\n"
      ],
      "text/plain": [
       "     [,1]    \n",
       "[1,] 3.326796"
      ]
     },
     "metadata": {},
     "output_type": "display_data"
    }
   ],
   "source": [
    "b[2] + tse"
   ]
  },
  {
   "cell_type": "markdown",
   "id": "08db7052-4c3a-4c75-8d0b-5c57be300b62",
   "metadata": {},
   "source": [
    "###### (5) 가설 $H_0: \\beta_1 = \\beta_2, H_1: \\beta_1 \\neq \\beta_2$을 유의수준 $\\alpha = 0.05$"
   ]
  },
  {
   "cell_type": "code",
   "execution_count": 184,
   "id": "d923dff4-2973-4181-9e54-e939135a5b85",
   "metadata": {},
   "outputs": [],
   "source": [
    "library(car)"
   ]
  },
  {
   "cell_type": "code",
   "execution_count": 185,
   "id": "8e1b1052-ac6e-4f6b-a58a-2c7da80b9adb",
   "metadata": {},
   "outputs": [
    {
     "data": {
      "text/html": [
       "<table class=\"dataframe\">\n",
       "<caption>A anova: 2 × 6</caption>\n",
       "<thead>\n",
       "\t<tr><th></th><th scope=col>Res.Df</th><th scope=col>RSS</th><th scope=col>Df</th><th scope=col>Sum of Sq</th><th scope=col>F</th><th scope=col>Pr(&gt;F)</th></tr>\n",
       "\t<tr><th></th><th scope=col>&lt;dbl&gt;</th><th scope=col>&lt;dbl&gt;</th><th scope=col>&lt;dbl&gt;</th><th scope=col>&lt;dbl&gt;</th><th scope=col>&lt;dbl&gt;</th><th scope=col>&lt;dbl&gt;</th></tr>\n",
       "</thead>\n",
       "<tbody>\n",
       "\t<tr><th scope=row>1</th><td>4</td><td>30.092308</td><td>NA</td><td>      NA</td><td>      NA</td><td>        NA</td></tr>\n",
       "\t<tr><th scope=row>2</th><td>3</td><td> 7.674419</td><td> 1</td><td>22.41789</td><td>8.763357</td><td>0.05952979</td></tr>\n",
       "</tbody>\n",
       "</table>\n"
      ],
      "text/latex": [
       "A anova: 2 × 6\n",
       "\\begin{tabular}{r|llllll}\n",
       "  & Res.Df & RSS & Df & Sum of Sq & F & Pr(>F)\\\\\n",
       "  & <dbl> & <dbl> & <dbl> & <dbl> & <dbl> & <dbl>\\\\\n",
       "\\hline\n",
       "\t1 & 4 & 30.092308 & NA &       NA &       NA &         NA\\\\\n",
       "\t2 & 3 &  7.674419 &  1 & 22.41789 & 8.763357 & 0.05952979\\\\\n",
       "\\end{tabular}\n"
      ],
      "text/markdown": [
       "\n",
       "A anova: 2 × 6\n",
       "\n",
       "| <!--/--> | Res.Df &lt;dbl&gt; | RSS &lt;dbl&gt; | Df &lt;dbl&gt; | Sum of Sq &lt;dbl&gt; | F &lt;dbl&gt; | Pr(&gt;F) &lt;dbl&gt; |\n",
       "|---|---|---|---|---|---|---|\n",
       "| 1 | 4 | 30.092308 | NA |       NA |       NA |         NA |\n",
       "| 2 | 3 |  7.674419 |  1 | 22.41789 | 8.763357 | 0.05952979 |\n",
       "\n"
      ],
      "text/plain": [
       "  Res.Df RSS       Df Sum of Sq F        Pr(>F)    \n",
       "1 4      30.092308 NA       NA        NA         NA\n",
       "2 3       7.674419  1 22.41789  8.763357 0.05952979"
      ]
     },
     "metadata": {},
     "output_type": "display_data"
    }
   ],
   "source": [
    "linearHypothesis(m, c(0,1,-1), 0)"
   ]
  },
  {
   "cell_type": "code",
   "execution_count": 186,
   "id": "244ba338-8761-42ac-89e8-64a3ff64be4d",
   "metadata": {},
   "outputs": [],
   "source": [
    "z <- matrix(c(1,1,1,1,1,1,x[,2]+x[,3]), ncol=2)"
   ]
  },
  {
   "cell_type": "code",
   "execution_count": 187,
   "id": "8befa218-20e1-4222-b96d-ce8c763e1b0a",
   "metadata": {},
   "outputs": [
    {
     "data": {
      "text/html": [
       "<table class=\"dataframe\">\n",
       "<caption>A matrix: 2 × 2 of type dbl</caption>\n",
       "<tbody>\n",
       "\t<tr><td> 6</td><td>23</td></tr>\n",
       "\t<tr><td>23</td><td>99</td></tr>\n",
       "</tbody>\n",
       "</table>\n"
      ],
      "text/latex": [
       "A matrix: 2 × 2 of type dbl\n",
       "\\begin{tabular}{ll}\n",
       "\t  6 & 23\\\\\n",
       "\t 23 & 99\\\\\n",
       "\\end{tabular}\n"
      ],
      "text/markdown": [
       "\n",
       "A matrix: 2 × 2 of type dbl\n",
       "\n",
       "|  6 | 23 |\n",
       "| 23 | 99 |\n",
       "\n"
      ],
      "text/plain": [
       "     [,1] [,2]\n",
       "[1,]  6   23  \n",
       "[2,] 23   99  "
      ]
     },
     "metadata": {},
     "output_type": "display_data"
    }
   ],
   "source": [
    "zz <- t(z) %*% z\n",
    "zz"
   ]
  },
  {
   "cell_type": "code",
   "execution_count": 188,
   "id": "3f44414e-f877-4330-8c6a-11b393be4e11",
   "metadata": {},
   "outputs": [
    {
     "data": {
      "text/html": [
       "<table class=\"dataframe\">\n",
       "<caption>A matrix: 2 × 2 of type dbl</caption>\n",
       "<tbody>\n",
       "\t<tr><td> 1.5230769</td><td>-0.35384615</td></tr>\n",
       "\t<tr><td>-0.3538462</td><td> 0.09230769</td></tr>\n",
       "</tbody>\n",
       "</table>\n"
      ],
      "text/latex": [
       "A matrix: 2 × 2 of type dbl\n",
       "\\begin{tabular}{ll}\n",
       "\t  1.5230769 & -0.35384615\\\\\n",
       "\t -0.3538462 &  0.09230769\\\\\n",
       "\\end{tabular}\n"
      ],
      "text/markdown": [
       "\n",
       "A matrix: 2 × 2 of type dbl\n",
       "\n",
       "|  1.5230769 | -0.35384615 |\n",
       "| -0.3538462 |  0.09230769 |\n",
       "\n"
      ],
      "text/plain": [
       "     [,1]       [,2]       \n",
       "[1,]  1.5230769 -0.35384615\n",
       "[2,] -0.3538462  0.09230769"
      ]
     },
     "metadata": {},
     "output_type": "display_data"
    }
   ],
   "source": [
    "zz_i <- solve(zz)\n",
    "zz_i"
   ]
  },
  {
   "cell_type": "code",
   "execution_count": 189,
   "id": "af3aed9c-d3ab-4822-943c-1f7f1b792f37",
   "metadata": {},
   "outputs": [
    {
     "data": {
      "text/html": [
       "<table class=\"dataframe\">\n",
       "<caption>A matrix: 2 × 1 of type dbl</caption>\n",
       "<tbody>\n",
       "\t<tr><td>13</td></tr>\n",
       "\t<tr><td>47</td></tr>\n",
       "</tbody>\n",
       "</table>\n"
      ],
      "text/latex": [
       "A matrix: 2 × 1 of type dbl\n",
       "\\begin{tabular}{l}\n",
       "\t 13\\\\\n",
       "\t 47\\\\\n",
       "\\end{tabular}\n"
      ],
      "text/markdown": [
       "\n",
       "A matrix: 2 × 1 of type dbl\n",
       "\n",
       "| 13 |\n",
       "| 47 |\n",
       "\n"
      ],
      "text/plain": [
       "     [,1]\n",
       "[1,] 13  \n",
       "[2,] 47  "
      ]
     },
     "metadata": {},
     "output_type": "display_data"
    }
   ],
   "source": [
    "zy <- t(z) %*% y\n",
    "zy"
   ]
  },
  {
   "cell_type": "code",
   "execution_count": 190,
   "id": "57dd103d-a636-4ce9-96eb-3b780e076764",
   "metadata": {},
   "outputs": [
    {
     "data": {
      "text/html": [
       "<table class=\"dataframe\">\n",
       "<caption>A matrix: 1 × 1 of type dbl</caption>\n",
       "<tbody>\n",
       "\t<tr><td>59</td></tr>\n",
       "</tbody>\n",
       "</table>\n"
      ],
      "text/latex": [
       "A matrix: 1 × 1 of type dbl\n",
       "\\begin{tabular}{l}\n",
       "\t 59\\\\\n",
       "\\end{tabular}\n"
      ],
      "text/markdown": [
       "\n",
       "A matrix: 1 × 1 of type dbl\n",
       "\n",
       "| 59 |\n",
       "\n"
      ],
      "text/plain": [
       "     [,1]\n",
       "[1,] 59  "
      ]
     },
     "metadata": {},
     "output_type": "display_data"
    }
   ],
   "source": [
    "yy <- t(y) %*% y\n",
    "yy"
   ]
  },
  {
   "cell_type": "code",
   "execution_count": 191,
   "id": "bf73dfa4-fcbd-4ee0-9959-9c492bb43313",
   "metadata": {},
   "outputs": [
    {
     "data": {
      "text/html": [
       "<table class=\"dataframe\">\n",
       "<caption>A matrix: 6 × 6 of type dbl</caption>\n",
       "<tbody>\n",
       "\t<tr><td> 0.47692308</td><td>3.076923e-01</td><td>3.076923e-01</td><td>0.1384615</td><td>-0.03076923</td><td>-2.000000e-01</td></tr>\n",
       "\t<tr><td> 0.30769231</td><td>2.307692e-01</td><td>2.307692e-01</td><td>0.1538462</td><td> 0.07692308</td><td> 1.110223e-16</td></tr>\n",
       "\t<tr><td> 0.30769231</td><td>2.307692e-01</td><td>2.307692e-01</td><td>0.1538462</td><td> 0.07692308</td><td> 1.110223e-16</td></tr>\n",
       "\t<tr><td> 0.13846154</td><td>1.538462e-01</td><td>1.538462e-01</td><td>0.1692308</td><td> 0.18461538</td><td> 2.000000e-01</td></tr>\n",
       "\t<tr><td>-0.03076923</td><td>7.692308e-02</td><td>7.692308e-02</td><td>0.1846154</td><td> 0.29230769</td><td> 4.000000e-01</td></tr>\n",
       "\t<tr><td>-0.20000000</td><td>1.110223e-16</td><td>1.110223e-16</td><td>0.2000000</td><td> 0.40000000</td><td> 6.000000e-01</td></tr>\n",
       "</tbody>\n",
       "</table>\n"
      ],
      "text/latex": [
       "A matrix: 6 × 6 of type dbl\n",
       "\\begin{tabular}{llllll}\n",
       "\t  0.47692308 & 3.076923e-01 & 3.076923e-01 & 0.1384615 & -0.03076923 & -2.000000e-01\\\\\n",
       "\t  0.30769231 & 2.307692e-01 & 2.307692e-01 & 0.1538462 &  0.07692308 &  1.110223e-16\\\\\n",
       "\t  0.30769231 & 2.307692e-01 & 2.307692e-01 & 0.1538462 &  0.07692308 &  1.110223e-16\\\\\n",
       "\t  0.13846154 & 1.538462e-01 & 1.538462e-01 & 0.1692308 &  0.18461538 &  2.000000e-01\\\\\n",
       "\t -0.03076923 & 7.692308e-02 & 7.692308e-02 & 0.1846154 &  0.29230769 &  4.000000e-01\\\\\n",
       "\t -0.20000000 & 1.110223e-16 & 1.110223e-16 & 0.2000000 &  0.40000000 &  6.000000e-01\\\\\n",
       "\\end{tabular}\n"
      ],
      "text/markdown": [
       "\n",
       "A matrix: 6 × 6 of type dbl\n",
       "\n",
       "|  0.47692308 | 3.076923e-01 | 3.076923e-01 | 0.1384615 | -0.03076923 | -2.000000e-01 |\n",
       "|  0.30769231 | 2.307692e-01 | 2.307692e-01 | 0.1538462 |  0.07692308 |  1.110223e-16 |\n",
       "|  0.30769231 | 2.307692e-01 | 2.307692e-01 | 0.1538462 |  0.07692308 |  1.110223e-16 |\n",
       "|  0.13846154 | 1.538462e-01 | 1.538462e-01 | 0.1692308 |  0.18461538 |  2.000000e-01 |\n",
       "| -0.03076923 | 7.692308e-02 | 7.692308e-02 | 0.1846154 |  0.29230769 |  4.000000e-01 |\n",
       "| -0.20000000 | 1.110223e-16 | 1.110223e-16 | 0.2000000 |  0.40000000 |  6.000000e-01 |\n",
       "\n"
      ],
      "text/plain": [
       "     [,1]        [,2]         [,3]         [,4]      [,5]        [,6]         \n",
       "[1,]  0.47692308 3.076923e-01 3.076923e-01 0.1384615 -0.03076923 -2.000000e-01\n",
       "[2,]  0.30769231 2.307692e-01 2.307692e-01 0.1538462  0.07692308  1.110223e-16\n",
       "[3,]  0.30769231 2.307692e-01 2.307692e-01 0.1538462  0.07692308  1.110223e-16\n",
       "[4,]  0.13846154 1.538462e-01 1.538462e-01 0.1692308  0.18461538  2.000000e-01\n",
       "[5,] -0.03076923 7.692308e-02 7.692308e-02 0.1846154  0.29230769  4.000000e-01\n",
       "[6,] -0.20000000 1.110223e-16 1.110223e-16 0.2000000  0.40000000  6.000000e-01"
      ]
     },
     "metadata": {},
     "output_type": "display_data"
    }
   ],
   "source": [
    "z %*% zz_i %*% t(z)"
   ]
  },
  {
   "cell_type": "code",
   "execution_count": 192,
   "id": "01713285-7235-4df2-8340-cf15124ced1b",
   "metadata": {},
   "outputs": [
    {
     "data": {
      "text/html": [
       "<table class=\"dataframe\">\n",
       "<caption>A matrix: 2 × 1 of type dbl</caption>\n",
       "<tbody>\n",
       "\t<tr><td> 3.1692308</td></tr>\n",
       "\t<tr><td>-0.2615385</td></tr>\n",
       "</tbody>\n",
       "</table>\n"
      ],
      "text/latex": [
       "A matrix: 2 × 1 of type dbl\n",
       "\\begin{tabular}{l}\n",
       "\t  3.1692308\\\\\n",
       "\t -0.2615385\\\\\n",
       "\\end{tabular}\n"
      ],
      "text/markdown": [
       "\n",
       "A matrix: 2 × 1 of type dbl\n",
       "\n",
       "|  3.1692308 |\n",
       "| -0.2615385 |\n",
       "\n"
      ],
      "text/plain": [
       "     [,1]      \n",
       "[1,]  3.1692308\n",
       "[2,] -0.2615385"
      ]
     },
     "metadata": {},
     "output_type": "display_data"
    }
   ],
   "source": [
    "gammahat <- zz_i %*% t(z) %*% y\n",
    "gammahat"
   ]
  },
  {
   "cell_type": "code",
   "execution_count": 193,
   "id": "b618e4fe-5dde-44e5-b86a-5aab5977ff3e",
   "metadata": {},
   "outputs": [
    {
     "data": {
      "text/html": [
       "<table class=\"dataframe\">\n",
       "<caption>A matrix: 6 × 1 of type dbl</caption>\n",
       "<tbody>\n",
       "\t<tr><td>-1.646154</td></tr>\n",
       "\t<tr><td> 2.615385</td></tr>\n",
       "\t<tr><td>-2.384615</td></tr>\n",
       "\t<tr><td> 1.876923</td></tr>\n",
       "\t<tr><td> 2.138462</td></tr>\n",
       "\t<tr><td>-2.600000</td></tr>\n",
       "</tbody>\n",
       "</table>\n"
      ],
      "text/latex": [
       "A matrix: 6 × 1 of type dbl\n",
       "\\begin{tabular}{l}\n",
       "\t -1.646154\\\\\n",
       "\t  2.615385\\\\\n",
       "\t -2.384615\\\\\n",
       "\t  1.876923\\\\\n",
       "\t  2.138462\\\\\n",
       "\t -2.600000\\\\\n",
       "\\end{tabular}\n"
      ],
      "text/markdown": [
       "\n",
       "A matrix: 6 × 1 of type dbl\n",
       "\n",
       "| -1.646154 |\n",
       "|  2.615385 |\n",
       "| -2.384615 |\n",
       "|  1.876923 |\n",
       "|  2.138462 |\n",
       "| -2.600000 |\n",
       "\n"
      ],
      "text/plain": [
       "     [,1]     \n",
       "[1,] -1.646154\n",
       "[2,]  2.615385\n",
       "[3,] -2.384615\n",
       "[4,]  1.876923\n",
       "[5,]  2.138462\n",
       "[6,] -2.600000"
      ]
     },
     "metadata": {},
     "output_type": "display_data"
    }
   ],
   "source": [
    "e <- y - z %*% gammahat\n",
    "e"
   ]
  },
  {
   "cell_type": "code",
   "execution_count": 194,
   "id": "91933d32-a612-4718-998a-52d68d7a8539",
   "metadata": {},
   "outputs": [
    {
     "data": {
      "text/html": [
       "<table class=\"dataframe\">\n",
       "<caption>A matrix: 1 × 1 of type dbl</caption>\n",
       "<tbody>\n",
       "\t<tr><td>30.09231</td></tr>\n",
       "</tbody>\n",
       "</table>\n"
      ],
      "text/latex": [
       "A matrix: 1 × 1 of type dbl\n",
       "\\begin{tabular}{l}\n",
       "\t 30.09231\\\\\n",
       "\\end{tabular}\n"
      ],
      "text/markdown": [
       "\n",
       "A matrix: 1 × 1 of type dbl\n",
       "\n",
       "| 30.09231 |\n",
       "\n"
      ],
      "text/plain": [
       "     [,1]    \n",
       "[1,] 30.09231"
      ]
     },
     "metadata": {},
     "output_type": "display_data"
    }
   ],
   "source": [
    "sse_rm <- t(e) %*% e\n",
    "sse_rm"
   ]
  },
  {
   "cell_type": "code",
   "execution_count": 195,
   "id": "b77dc3b4-81c0-4cdb-81d2-1accd15a88bb",
   "metadata": {},
   "outputs": [
    {
     "data": {
      "text/html": [
       "<table class=\"dataframe\">\n",
       "<caption>A matrix: 1 × 1 of type dbl</caption>\n",
       "<tbody>\n",
       "\t<tr><td>8.763357</td></tr>\n",
       "</tbody>\n",
       "</table>\n"
      ],
      "text/latex": [
       "A matrix: 1 × 1 of type dbl\n",
       "\\begin{tabular}{l}\n",
       "\t 8.763357\\\\\n",
       "\\end{tabular}\n"
      ],
      "text/markdown": [
       "\n",
       "A matrix: 1 × 1 of type dbl\n",
       "\n",
       "| 8.763357 |\n",
       "\n"
      ],
      "text/plain": [
       "     [,1]    \n",
       "[1,] 8.763357"
      ]
     },
     "metadata": {},
     "output_type": "display_data"
    }
   ],
   "source": [
    "f0 = (sse_rm - sse)/(sse/3)\n",
    "f0"
   ]
  },
  {
   "cell_type": "code",
   "execution_count": 196,
   "id": "708e73a2-2224-43c8-a83c-d979144e5904",
   "metadata": {},
   "outputs": [
    {
     "data": {
      "text/html": [
       "10.1279644860139"
      ],
      "text/latex": [
       "10.1279644860139"
      ],
      "text/markdown": [
       "10.1279644860139"
      ],
      "text/plain": [
       "[1] 10.12796"
      ]
     },
     "metadata": {},
     "output_type": "display_data"
    }
   ],
   "source": [
    "qf(0.95,1,3)"
   ]
  },
  {
   "cell_type": "markdown",
   "id": "d5186169-f0e8-4027-85ab-3729f8d40d7d",
   "metadata": {},
   "source": [
    "**T검정 방법**"
   ]
  },
  {
   "cell_type": "code",
   "execution_count": 197,
   "id": "6a7f08e8-15ba-4e0c-9817-96310aaeac41",
   "metadata": {},
   "outputs": [],
   "source": [
    "q = c(0,1,-1)"
   ]
  },
  {
   "cell_type": "code",
   "execution_count": 198,
   "id": "5b0bd2b6-1e10-4114-937c-27780684ec4c",
   "metadata": {},
   "outputs": [
    {
     "data": {
      "text/html": [
       "<table class=\"dataframe\">\n",
       "<caption>A matrix: 1 × 1 of type dbl</caption>\n",
       "<tbody>\n",
       "\t<tr><td>1.933478</td></tr>\n",
       "</tbody>\n",
       "</table>\n"
      ],
      "text/latex": [
       "A matrix: 1 × 1 of type dbl\n",
       "\\begin{tabular}{l}\n",
       "\t 1.933478\\\\\n",
       "\\end{tabular}\n"
      ],
      "text/markdown": [
       "\n",
       "A matrix: 1 × 1 of type dbl\n",
       "\n",
       "| 1.933478 |\n",
       "\n"
      ],
      "text/plain": [
       "     [,1]    \n",
       "[1,] 1.933478"
      ]
     },
     "metadata": {},
     "output_type": "display_data"
    }
   ],
   "source": [
    "var_qb = t(q) %*% xx_i %*% q*  mse\n",
    "var_qb"
   ]
  },
  {
   "cell_type": "code",
   "execution_count": 199,
   "id": "9e092de8-2e4e-4f7c-b10b-e139e4bedcd4",
   "metadata": {},
   "outputs": [
    {
     "data": {
      "text/html": [
       "<table class=\"dataframe\">\n",
       "<caption>A matrix: 1 × 1 of type dbl</caption>\n",
       "<tbody>\n",
       "\t<tr><td>1.390495</td></tr>\n",
       "</tbody>\n",
       "</table>\n"
      ],
      "text/latex": [
       "A matrix: 1 × 1 of type dbl\n",
       "\\begin{tabular}{l}\n",
       "\t 1.390495\\\\\n",
       "\\end{tabular}\n"
      ],
      "text/markdown": [
       "\n",
       "A matrix: 1 × 1 of type dbl\n",
       "\n",
       "| 1.390495 |\n",
       "\n"
      ],
      "text/plain": [
       "     [,1]    \n",
       "[1,] 1.390495"
      ]
     },
     "metadata": {},
     "output_type": "display_data"
    }
   ],
   "source": [
    "se_qb = sqrt(var_qb)\n",
    "se_qb"
   ]
  },
  {
   "cell_type": "code",
   "execution_count": 200,
   "id": "ae2937bd-f812-471c-b7fa-c80357b3963d",
   "metadata": {},
   "outputs": [
    {
     "data": {
      "text/html": [
       "<table class=\"dataframe\">\n",
       "<caption>A matrix: 1 × 1 of type dbl</caption>\n",
       "<tbody>\n",
       "\t<tr><td>2.960297</td></tr>\n",
       "</tbody>\n",
       "</table>\n"
      ],
      "text/latex": [
       "A matrix: 1 × 1 of type dbl\n",
       "\\begin{tabular}{l}\n",
       "\t 2.960297\\\\\n",
       "\\end{tabular}\n"
      ],
      "text/markdown": [
       "\n",
       "A matrix: 1 × 1 of type dbl\n",
       "\n",
       "| 2.960297 |\n",
       "\n"
      ],
      "text/plain": [
       "     [,1]    \n",
       "[1,] 2.960297"
      ]
     },
     "metadata": {},
     "output_type": "display_data"
    }
   ],
   "source": [
    "t0 = (t(q) %*% b )/se_qb\n",
    "t0"
   ]
  },
  {
   "cell_type": "code",
   "execution_count": 201,
   "id": "f9468e84-6427-46ff-a986-707bec02debf",
   "metadata": {
    "tags": []
   },
   "outputs": [
    {
     "data": {
      "text/html": [
       "<table class=\"dataframe\">\n",
       "<caption>A matrix: 1 × 1 of type dbl</caption>\n",
       "<tbody>\n",
       "\t<tr><td>8.763357</td></tr>\n",
       "</tbody>\n",
       "</table>\n"
      ],
      "text/latex": [
       "A matrix: 1 × 1 of type dbl\n",
       "\\begin{tabular}{l}\n",
       "\t 8.763357\\\\\n",
       "\\end{tabular}\n"
      ],
      "text/markdown": [
       "\n",
       "A matrix: 1 × 1 of type dbl\n",
       "\n",
       "| 8.763357 |\n",
       "\n"
      ],
      "text/plain": [
       "     [,1]    \n",
       "[1,] 8.763357"
      ]
     },
     "metadata": {},
     "output_type": "display_data"
    }
   ],
   "source": [
    "t0^2"
   ]
  },
  {
   "cell_type": "markdown",
   "id": "567f04e2-b6ca-43a0-bbb1-b5f86b5fb7b3",
   "metadata": {},
   "source": [
    "###### (6) 가설 $H_0 : \\beta_1 = 0, H_1 : \\beta_1 \\neq 0$을 유의수준 $\\alpha = 0.1$로 검정하시오. 위 (3)의 질문의 결과와 어떠한 연관을 지을 수 있는가?"
   ]
  },
  {
   "cell_type": "code",
   "execution_count": 202,
   "id": "1d30241c-72f3-4f5b-9330-a4f95b2cdaed",
   "metadata": {},
   "outputs": [],
   "source": [
    "t0 <- b[2] / se_b1"
   ]
  },
  {
   "cell_type": "code",
   "execution_count": 203,
   "id": "5a9a1f0b-284a-44ec-9415-f7c99a86c848",
   "metadata": {},
   "outputs": [
    {
     "data": {
      "text/html": [
       "2.35336343480182"
      ],
      "text/latex": [
       "2.35336343480182"
      ],
      "text/markdown": [
       "2.35336343480182"
      ],
      "text/plain": [
       "[1] 2.353363"
      ]
     },
     "metadata": {},
     "output_type": "display_data"
    }
   ],
   "source": [
    "qt(0.95,3)"
   ]
  },
  {
   "cell_type": "markdown",
   "id": "a0e78f86-312b-4971-91f9-bdfe694404ce",
   "metadata": {},
   "source": [
    "###### (7) $x_1 = 2, x_2 = 3$에서 가설 $H_0 : E(y) = 4,H_1 : E(y) \\neq 4$를 $\\alpha = 0.05$로 검정하시오 "
   ]
  },
  {
   "cell_type": "code",
   "execution_count": 204,
   "id": "7476d9ae-1c59-4842-8917-576ea292aabe",
   "metadata": {},
   "outputs": [],
   "source": [
    "new_dt <- data.frame(x1=2, x2=2)"
   ]
  },
  {
   "cell_type": "code",
   "execution_count": 205,
   "id": "700fe857-4137-4e91-b473-ca5ca6282bad",
   "metadata": {},
   "outputs": [
    {
     "data": {
      "text/html": [
       "<table class=\"dataframe\">\n",
       "<caption>A matrix: 1 × 3 of type dbl</caption>\n",
       "<thead>\n",
       "\t<tr><th></th><th scope=col>fit</th><th scope=col>lwr</th><th scope=col>upr</th></tr>\n",
       "</thead>\n",
       "<tbody>\n",
       "\t<tr><th scope=row>1</th><td>1.046512</td><td>-1.345982</td><td>3.439005</td></tr>\n",
       "</tbody>\n",
       "</table>\n"
      ],
      "text/latex": [
       "A matrix: 1 × 3 of type dbl\n",
       "\\begin{tabular}{r|lll}\n",
       "  & fit & lwr & upr\\\\\n",
       "\\hline\n",
       "\t1 & 1.046512 & -1.345982 & 3.439005\\\\\n",
       "\\end{tabular}\n"
      ],
      "text/markdown": [
       "\n",
       "A matrix: 1 × 3 of type dbl\n",
       "\n",
       "| <!--/--> | fit | lwr | upr |\n",
       "|---|---|---|---|\n",
       "| 1 | 1.046512 | -1.345982 | 3.439005 |\n",
       "\n"
      ],
      "text/plain": [
       "  fit      lwr       upr     \n",
       "1 1.046512 -1.345982 3.439005"
      ]
     },
     "metadata": {},
     "output_type": "display_data"
    }
   ],
   "source": [
    "predict(m, newdata = new_dt,interval = c(\"confidence\"), level = 0.95)"
   ]
  },
  {
   "cell_type": "code",
   "execution_count": 206,
   "id": "826bec66-7c5e-4180-adf6-df8d90571f54",
   "metadata": {},
   "outputs": [],
   "source": [
    "x0 <- c(1,2,3)"
   ]
  },
  {
   "cell_type": "code",
   "execution_count": 207,
   "id": "523cf101-c2ac-43f7-96c9-ed3e8c39b70e",
   "metadata": {},
   "outputs": [],
   "source": [
    "mu0 <- x0 %*% b"
   ]
  },
  {
   "cell_type": "code",
   "execution_count": 208,
   "id": "323c3bbf-1666-47ae-97fe-c981de0e5a06",
   "metadata": {},
   "outputs": [
    {
     "data": {
      "text/html": [
       "<table class=\"dataframe\">\n",
       "<caption>A matrix: 1 × 1 of type dbl</caption>\n",
       "<tbody>\n",
       "\t<tr><td>0.8139535</td></tr>\n",
       "</tbody>\n",
       "</table>\n"
      ],
      "text/latex": [
       "A matrix: 1 × 1 of type dbl\n",
       "\\begin{tabular}{l}\n",
       "\t 0.8139535\\\\\n",
       "\\end{tabular}\n"
      ],
      "text/markdown": [
       "\n",
       "A matrix: 1 × 1 of type dbl\n",
       "\n",
       "| 0.8139535 |\n",
       "\n"
      ],
      "text/plain": [
       "     [,1]     \n",
       "[1,] 0.8139535"
      ]
     },
     "metadata": {},
     "output_type": "display_data"
    }
   ],
   "source": [
    "t(x0) %*% xx_i %*% x0"
   ]
  },
  {
   "cell_type": "code",
   "execution_count": 209,
   "id": "872a159b-576f-4df5-a227-58929827dfec",
   "metadata": {},
   "outputs": [
    {
     "data": {
      "text/html": [
       "<table class=\"dataframe\">\n",
       "<caption>A matrix: 1 × 1 of type dbl</caption>\n",
       "<tbody>\n",
       "\t<tr><td>2.082207</td></tr>\n",
       "</tbody>\n",
       "</table>\n"
      ],
      "text/latex": [
       "A matrix: 1 × 1 of type dbl\n",
       "\\begin{tabular}{l}\n",
       "\t 2.082207\\\\\n",
       "\\end{tabular}\n"
      ],
      "text/markdown": [
       "\n",
       "A matrix: 1 × 1 of type dbl\n",
       "\n",
       "| 2.082207 |\n",
       "\n"
      ],
      "text/plain": [
       "     [,1]    \n",
       "[1,] 2.082207"
      ]
     },
     "metadata": {},
     "output_type": "display_data"
    }
   ],
   "source": [
    "var_mu0 <- (t(x0) %*% xx_i %*% x0) * mse\n",
    "var_mu0"
   ]
  },
  {
   "cell_type": "code",
   "execution_count": 210,
   "id": "4c524dce-76d0-47ba-9d6b-e7da446e0690",
   "metadata": {},
   "outputs": [
    {
     "data": {
      "text/html": [
       "<table class=\"dataframe\">\n",
       "<caption>A matrix: 1 × 1 of type dbl</caption>\n",
       "<tbody>\n",
       "\t<tr><td>-3.851834</td></tr>\n",
       "</tbody>\n",
       "</table>\n"
      ],
      "text/latex": [
       "A matrix: 1 × 1 of type dbl\n",
       "\\begin{tabular}{l}\n",
       "\t -3.851834\\\\\n",
       "\\end{tabular}\n"
      ],
      "text/markdown": [
       "\n",
       "A matrix: 1 × 1 of type dbl\n",
       "\n",
       "| -3.851834 |\n",
       "\n"
      ],
      "text/plain": [
       "     [,1]     \n",
       "[1,] -3.851834"
      ]
     },
     "metadata": {},
     "output_type": "display_data"
    }
   ],
   "source": [
    "t0 <- (mu0-4)/ sqrt(var_mu0)\n",
    "t0"
   ]
  },
  {
   "cell_type": "code",
   "execution_count": 211,
   "id": "c984ff0a-e8ba-44e1-ae65-89fbcacab9ff",
   "metadata": {},
   "outputs": [
    {
     "data": {
      "text/html": [
       "3.18244630528371"
      ],
      "text/latex": [
       "3.18244630528371"
      ],
      "text/markdown": [
       "3.18244630528371"
      ],
      "text/plain": [
       "[1] 3.182446"
      ]
     },
     "metadata": {},
     "output_type": "display_data"
    }
   ],
   "source": [
    "qt(0.975,3)"
   ]
  },
  {
   "cell_type": "markdown",
   "id": "358f73b6-0072-4279-8549-d8a2fa037b8c",
   "metadata": {},
   "source": [
    "###### (8) 가설 $H_0 : \\beta_2 = 0, H_1: \\beta_2 <0$을 $\\alpha = 0.05$ 로 검정하시오."
   ]
  },
  {
   "cell_type": "code",
   "execution_count": 212,
   "id": "5c99af3d-8e20-4747-9d0e-e4265f537375",
   "metadata": {},
   "outputs": [
    {
     "data": {
      "text/html": [
       "<table class=\"dataframe\">\n",
       "<caption>A matrix: 1 × 1 of type dbl</caption>\n",
       "<tbody>\n",
       "\t<tr><td>0.9287779</td></tr>\n",
       "</tbody>\n",
       "</table>\n"
      ],
      "text/latex": [
       "A matrix: 1 × 1 of type dbl\n",
       "\\begin{tabular}{l}\n",
       "\t 0.9287779\\\\\n",
       "\\end{tabular}\n"
      ],
      "text/markdown": [
       "\n",
       "A matrix: 1 × 1 of type dbl\n",
       "\n",
       "| 0.9287779 |\n",
       "\n"
      ],
      "text/plain": [
       "     [,1]     \n",
       "[1,] 0.9287779"
      ]
     },
     "metadata": {},
     "output_type": "display_data"
    }
   ],
   "source": [
    "se_b2 <- sqrt(xx_i[3,3] * mse)\n",
    "se_b2"
   ]
  },
  {
   "cell_type": "code",
   "execution_count": 213,
   "id": "954a31c8-e747-4d5f-9a6b-cea2c78a70ce",
   "metadata": {},
   "outputs": [
    {
     "data": {
      "text/html": [
       "<table class=\"dataframe\">\n",
       "<caption>A matrix: 1 × 1 of type dbl</caption>\n",
       "<tbody>\n",
       "\t<tr><td>-2.804385</td></tr>\n",
       "</tbody>\n",
       "</table>\n"
      ],
      "text/latex": [
       "A matrix: 1 × 1 of type dbl\n",
       "\\begin{tabular}{l}\n",
       "\t -2.804385\\\\\n",
       "\\end{tabular}\n"
      ],
      "text/markdown": [
       "\n",
       "A matrix: 1 × 1 of type dbl\n",
       "\n",
       "| -2.804385 |\n",
       "\n"
      ],
      "text/plain": [
       "     [,1]     \n",
       "[1,] -2.804385"
      ]
     },
     "metadata": {},
     "output_type": "display_data"
    }
   ],
   "source": [
    "t0<- b[3] / se_b2\n",
    "t0"
   ]
  },
  {
   "cell_type": "markdown",
   "id": "0b239da5-00cc-4afb-a0c4-91350e625573",
   "metadata": {},
   "source": [
    "###### (9) 가설 $H_0: \\beta_1 = 2\\beta_2, H_1 : \\beta_1 \\neq 2\\beta_2 $를 $\\alpha=0..05$로 검정하시오."
   ]
  },
  {
   "cell_type": "code",
   "execution_count": 214,
   "id": "c4d4cbcd-32f9-4a0e-ab24-fed9013ead11",
   "metadata": {},
   "outputs": [
    {
     "data": {
      "text/html": [
       "<table class=\"dataframe\">\n",
       "<caption>A anova: 2 × 6</caption>\n",
       "<thead>\n",
       "\t<tr><th></th><th scope=col>Res.Df</th><th scope=col>RSS</th><th scope=col>Df</th><th scope=col>Sum of Sq</th><th scope=col>F</th><th scope=col>Pr(&gt;F)</th></tr>\n",
       "\t<tr><th></th><th scope=col>&lt;dbl&gt;</th><th scope=col>&lt;dbl&gt;</th><th scope=col>&lt;dbl&gt;</th><th scope=col>&lt;dbl&gt;</th><th scope=col>&lt;dbl&gt;</th><th scope=col>&lt;dbl&gt;</th></tr>\n",
       "</thead>\n",
       "<tbody>\n",
       "\t<tr><th scope=row>1</th><td>4</td><td>30.797619</td><td>NA</td><td>     NA</td><td>      NA</td><td>        NA</td></tr>\n",
       "\t<tr><th scope=row>2</th><td>3</td><td> 7.674419</td><td> 1</td><td>23.1232</td><td>9.039069</td><td>0.05737101</td></tr>\n",
       "</tbody>\n",
       "</table>\n"
      ],
      "text/latex": [
       "A anova: 2 × 6\n",
       "\\begin{tabular}{r|llllll}\n",
       "  & Res.Df & RSS & Df & Sum of Sq & F & Pr(>F)\\\\\n",
       "  & <dbl> & <dbl> & <dbl> & <dbl> & <dbl> & <dbl>\\\\\n",
       "\\hline\n",
       "\t1 & 4 & 30.797619 & NA &      NA &       NA &         NA\\\\\n",
       "\t2 & 3 &  7.674419 &  1 & 23.1232 & 9.039069 & 0.05737101\\\\\n",
       "\\end{tabular}\n"
      ],
      "text/markdown": [
       "\n",
       "A anova: 2 × 6\n",
       "\n",
       "| <!--/--> | Res.Df &lt;dbl&gt; | RSS &lt;dbl&gt; | Df &lt;dbl&gt; | Sum of Sq &lt;dbl&gt; | F &lt;dbl&gt; | Pr(&gt;F) &lt;dbl&gt; |\n",
       "|---|---|---|---|---|---|---|\n",
       "| 1 | 4 | 30.797619 | NA |      NA |       NA |         NA |\n",
       "| 2 | 3 |  7.674419 |  1 | 23.1232 | 9.039069 | 0.05737101 |\n",
       "\n"
      ],
      "text/plain": [
       "  Res.Df RSS       Df Sum of Sq F        Pr(>F)    \n",
       "1 4      30.797619 NA      NA         NA         NA\n",
       "2 3       7.674419  1 23.1232   9.039069 0.05737101"
      ]
     },
     "metadata": {},
     "output_type": "display_data"
    }
   ],
   "source": [
    "linearHypothesis(m, c(0,1,-2), 0)"
   ]
  },
  {
   "cell_type": "code",
   "execution_count": 215,
   "id": "8b092b19-2d43-44ba-8074-63d66df6f59d",
   "metadata": {},
   "outputs": [],
   "source": [
    "z <- matrix(c(1,1,1,1,1,1,2*x[,2]+x[,3]), ncol=2)"
   ]
  },
  {
   "cell_type": "code",
   "execution_count": 216,
   "id": "f74b76c8-613f-4ae0-b8d4-97187294d85d",
   "metadata": {},
   "outputs": [
    {
     "data": {
      "text/html": [
       "<table class=\"dataframe\">\n",
       "<caption>A matrix: 2 × 2 of type dbl</caption>\n",
       "<tbody>\n",
       "\t<tr><td> 6</td><td> 36</td></tr>\n",
       "\t<tr><td>36</td><td>244</td></tr>\n",
       "</tbody>\n",
       "</table>\n"
      ],
      "text/latex": [
       "A matrix: 2 × 2 of type dbl\n",
       "\\begin{tabular}{ll}\n",
       "\t  6 &  36\\\\\n",
       "\t 36 & 244\\\\\n",
       "\\end{tabular}\n"
      ],
      "text/markdown": [
       "\n",
       "A matrix: 2 × 2 of type dbl\n",
       "\n",
       "|  6 |  36 |\n",
       "| 36 | 244 |\n",
       "\n"
      ],
      "text/plain": [
       "     [,1] [,2]\n",
       "[1,]  6    36 \n",
       "[2,] 36   244 "
      ]
     },
     "metadata": {},
     "output_type": "display_data"
    }
   ],
   "source": [
    "zz <- t(z) %*% z\n",
    "zz"
   ]
  },
  {
   "cell_type": "code",
   "execution_count": 217,
   "id": "800b5ffb-2d99-48b0-94be-b83e2d59a972",
   "metadata": {},
   "outputs": [
    {
     "data": {
      "text/html": [
       "<table class=\"dataframe\">\n",
       "<caption>A matrix: 2 × 2 of type dbl</caption>\n",
       "<tbody>\n",
       "\t<tr><td> 1.4523810</td><td>-0.21428571</td></tr>\n",
       "\t<tr><td>-0.2142857</td><td> 0.03571429</td></tr>\n",
       "</tbody>\n",
       "</table>\n"
      ],
      "text/latex": [
       "A matrix: 2 × 2 of type dbl\n",
       "\\begin{tabular}{ll}\n",
       "\t  1.4523810 & -0.21428571\\\\\n",
       "\t -0.2142857 &  0.03571429\\\\\n",
       "\\end{tabular}\n"
      ],
      "text/markdown": [
       "\n",
       "A matrix: 2 × 2 of type dbl\n",
       "\n",
       "|  1.4523810 | -0.21428571 |\n",
       "| -0.2142857 |  0.03571429 |\n",
       "\n"
      ],
      "text/plain": [
       "     [,1]       [,2]       \n",
       "[1,]  1.4523810 -0.21428571\n",
       "[2,] -0.2142857  0.03571429"
      ]
     },
     "metadata": {},
     "output_type": "display_data"
    }
   ],
   "source": [
    "zz_i <- solve(zz)\n",
    "zz_i"
   ]
  },
  {
   "cell_type": "code",
   "execution_count": 218,
   "id": "2e8378d7-ae0b-4a7b-b09d-a803b594ba77",
   "metadata": {},
   "outputs": [
    {
     "data": {
      "text/html": [
       "<table class=\"dataframe\">\n",
       "<caption>A matrix: 2 × 1 of type dbl</caption>\n",
       "<tbody>\n",
       "\t<tr><td>13</td></tr>\n",
       "\t<tr><td>79</td></tr>\n",
       "</tbody>\n",
       "</table>\n"
      ],
      "text/latex": [
       "A matrix: 2 × 1 of type dbl\n",
       "\\begin{tabular}{l}\n",
       "\t 13\\\\\n",
       "\t 79\\\\\n",
       "\\end{tabular}\n"
      ],
      "text/markdown": [
       "\n",
       "A matrix: 2 × 1 of type dbl\n",
       "\n",
       "| 13 |\n",
       "| 79 |\n",
       "\n"
      ],
      "text/plain": [
       "     [,1]\n",
       "[1,] 13  \n",
       "[2,] 79  "
      ]
     },
     "metadata": {},
     "output_type": "display_data"
    }
   ],
   "source": [
    "zy <- t(z) %*% y\n",
    "zy"
   ]
  },
  {
   "cell_type": "code",
   "execution_count": 219,
   "id": "cb373417-836f-4d6d-8065-cd517844f8fe",
   "metadata": {},
   "outputs": [
    {
     "data": {
      "text/html": [
       "<table class=\"dataframe\">\n",
       "<caption>A matrix: 1 × 1 of type dbl</caption>\n",
       "<tbody>\n",
       "\t<tr><td>59</td></tr>\n",
       "</tbody>\n",
       "</table>\n"
      ],
      "text/latex": [
       "A matrix: 1 × 1 of type dbl\n",
       "\\begin{tabular}{l}\n",
       "\t 59\\\\\n",
       "\\end{tabular}\n"
      ],
      "text/markdown": [
       "\n",
       "A matrix: 1 × 1 of type dbl\n",
       "\n",
       "| 59 |\n",
       "\n"
      ],
      "text/plain": [
       "     [,1]\n",
       "[1,] 59  "
      ]
     },
     "metadata": {},
     "output_type": "display_data"
    }
   ],
   "source": [
    "yy <- t(y) %*% y\n",
    "yy"
   ]
  },
  {
   "cell_type": "code",
   "execution_count": 220,
   "id": "14f52d7f-9363-4782-984f-cc8aad95bb6e",
   "metadata": {},
   "outputs": [
    {
     "data": {
      "text/html": [
       "<table class=\"dataframe\">\n",
       "<caption>A matrix: 6 × 6 of type dbl</caption>\n",
       "<tbody>\n",
       "\t<tr><td> 0.48809524</td><td>0.27380952</td><td> 0.38095238</td><td>0.05952381</td><td>-0.04761905</td><td>-0.15476190</td></tr>\n",
       "\t<tr><td> 0.27380952</td><td>0.20238095</td><td> 0.23809524</td><td>0.13095238</td><td> 0.09523810</td><td> 0.05952381</td></tr>\n",
       "\t<tr><td> 0.38095238</td><td>0.23809524</td><td> 0.30952381</td><td>0.09523810</td><td> 0.02380952</td><td>-0.04761905</td></tr>\n",
       "\t<tr><td> 0.05952381</td><td>0.13095238</td><td> 0.09523810</td><td>0.20238095</td><td> 0.23809524</td><td> 0.27380952</td></tr>\n",
       "\t<tr><td>-0.04761905</td><td>0.09523810</td><td> 0.02380952</td><td>0.23809524</td><td> 0.30952381</td><td> 0.38095238</td></tr>\n",
       "\t<tr><td>-0.15476190</td><td>0.05952381</td><td>-0.04761905</td><td>0.27380952</td><td> 0.38095238</td><td> 0.48809524</td></tr>\n",
       "</tbody>\n",
       "</table>\n"
      ],
      "text/latex": [
       "A matrix: 6 × 6 of type dbl\n",
       "\\begin{tabular}{llllll}\n",
       "\t  0.48809524 & 0.27380952 &  0.38095238 & 0.05952381 & -0.04761905 & -0.15476190\\\\\n",
       "\t  0.27380952 & 0.20238095 &  0.23809524 & 0.13095238 &  0.09523810 &  0.05952381\\\\\n",
       "\t  0.38095238 & 0.23809524 &  0.30952381 & 0.09523810 &  0.02380952 & -0.04761905\\\\\n",
       "\t  0.05952381 & 0.13095238 &  0.09523810 & 0.20238095 &  0.23809524 &  0.27380952\\\\\n",
       "\t -0.04761905 & 0.09523810 &  0.02380952 & 0.23809524 &  0.30952381 &  0.38095238\\\\\n",
       "\t -0.15476190 & 0.05952381 & -0.04761905 & 0.27380952 &  0.38095238 &  0.48809524\\\\\n",
       "\\end{tabular}\n"
      ],
      "text/markdown": [
       "\n",
       "A matrix: 6 × 6 of type dbl\n",
       "\n",
       "|  0.48809524 | 0.27380952 |  0.38095238 | 0.05952381 | -0.04761905 | -0.15476190 |\n",
       "|  0.27380952 | 0.20238095 |  0.23809524 | 0.13095238 |  0.09523810 |  0.05952381 |\n",
       "|  0.38095238 | 0.23809524 |  0.30952381 | 0.09523810 |  0.02380952 | -0.04761905 |\n",
       "|  0.05952381 | 0.13095238 |  0.09523810 | 0.20238095 |  0.23809524 |  0.27380952 |\n",
       "| -0.04761905 | 0.09523810 |  0.02380952 | 0.23809524 |  0.30952381 |  0.38095238 |\n",
       "| -0.15476190 | 0.05952381 | -0.04761905 | 0.27380952 |  0.38095238 |  0.48809524 |\n",
       "\n"
      ],
      "text/plain": [
       "     [,1]        [,2]       [,3]        [,4]       [,5]        [,6]       \n",
       "[1,]  0.48809524 0.27380952  0.38095238 0.05952381 -0.04761905 -0.15476190\n",
       "[2,]  0.27380952 0.20238095  0.23809524 0.13095238  0.09523810  0.05952381\n",
       "[3,]  0.38095238 0.23809524  0.30952381 0.09523810  0.02380952 -0.04761905\n",
       "[4,]  0.05952381 0.13095238  0.09523810 0.20238095  0.23809524  0.27380952\n",
       "[5,] -0.04761905 0.09523810  0.02380952 0.23809524  0.30952381  0.38095238\n",
       "[6,] -0.15476190 0.05952381 -0.04761905 0.27380952  0.38095238  0.48809524"
      ]
     },
     "metadata": {},
     "output_type": "display_data"
    }
   ],
   "source": [
    "z %*% zz_i %*% t(z)"
   ]
  },
  {
   "cell_type": "code",
   "execution_count": 221,
   "id": "2b0acdb2-3ec7-4c4e-bda1-1cd297440f43",
   "metadata": {},
   "outputs": [
    {
     "data": {
      "text/html": [
       "<table class=\"dataframe\">\n",
       "<caption>A matrix: 2 × 1 of type dbl</caption>\n",
       "<tbody>\n",
       "\t<tr><td>1.95238095</td></tr>\n",
       "\t<tr><td>0.03571429</td></tr>\n",
       "</tbody>\n",
       "</table>\n"
      ],
      "text/latex": [
       "A matrix: 2 × 1 of type dbl\n",
       "\\begin{tabular}{l}\n",
       "\t 1.95238095\\\\\n",
       "\t 0.03571429\\\\\n",
       "\\end{tabular}\n"
      ],
      "text/markdown": [
       "\n",
       "A matrix: 2 × 1 of type dbl\n",
       "\n",
       "| 1.95238095 |\n",
       "| 0.03571429 |\n",
       "\n"
      ],
      "text/plain": [
       "     [,1]      \n",
       "[1,] 1.95238095\n",
       "[2,] 0.03571429"
      ]
     },
     "metadata": {},
     "output_type": "display_data"
    }
   ],
   "source": [
    "gammahat <- zz_i %*% t(z) %*% y\n",
    "gammahat"
   ]
  },
  {
   "cell_type": "code",
   "execution_count": 222,
   "id": "6c3f51cc-d4ca-44b7-ac41-3f84752cc21a",
   "metadata": {},
   "outputs": [
    {
     "data": {
      "text/html": [
       "<table class=\"dataframe\">\n",
       "<caption>A matrix: 6 × 1 of type dbl</caption>\n",
       "<tbody>\n",
       "\t<tr><td>-1.059524</td></tr>\n",
       "\t<tr><td> 2.869048</td></tr>\n",
       "\t<tr><td>-2.095238</td></tr>\n",
       "\t<tr><td> 1.797619</td></tr>\n",
       "\t<tr><td> 1.761905</td></tr>\n",
       "\t<tr><td>-3.273810</td></tr>\n",
       "</tbody>\n",
       "</table>\n"
      ],
      "text/latex": [
       "A matrix: 6 × 1 of type dbl\n",
       "\\begin{tabular}{l}\n",
       "\t -1.059524\\\\\n",
       "\t  2.869048\\\\\n",
       "\t -2.095238\\\\\n",
       "\t  1.797619\\\\\n",
       "\t  1.761905\\\\\n",
       "\t -3.273810\\\\\n",
       "\\end{tabular}\n"
      ],
      "text/markdown": [
       "\n",
       "A matrix: 6 × 1 of type dbl\n",
       "\n",
       "| -1.059524 |\n",
       "|  2.869048 |\n",
       "| -2.095238 |\n",
       "|  1.797619 |\n",
       "|  1.761905 |\n",
       "| -3.273810 |\n",
       "\n"
      ],
      "text/plain": [
       "     [,1]     \n",
       "[1,] -1.059524\n",
       "[2,]  2.869048\n",
       "[3,] -2.095238\n",
       "[4,]  1.797619\n",
       "[5,]  1.761905\n",
       "[6,] -3.273810"
      ]
     },
     "metadata": {},
     "output_type": "display_data"
    }
   ],
   "source": [
    "e <- y - z %*% gammahat\n",
    "e"
   ]
  },
  {
   "cell_type": "code",
   "execution_count": 223,
   "id": "e1ff37c1-68eb-4e7e-8084-e43f20c664fd",
   "metadata": {},
   "outputs": [
    {
     "data": {
      "text/html": [
       "<table class=\"dataframe\">\n",
       "<caption>A matrix: 1 × 1 of type dbl</caption>\n",
       "<tbody>\n",
       "\t<tr><td>30.79762</td></tr>\n",
       "</tbody>\n",
       "</table>\n"
      ],
      "text/latex": [
       "A matrix: 1 × 1 of type dbl\n",
       "\\begin{tabular}{l}\n",
       "\t 30.79762\\\\\n",
       "\\end{tabular}\n"
      ],
      "text/markdown": [
       "\n",
       "A matrix: 1 × 1 of type dbl\n",
       "\n",
       "| 30.79762 |\n",
       "\n"
      ],
      "text/plain": [
       "     [,1]    \n",
       "[1,] 30.79762"
      ]
     },
     "metadata": {},
     "output_type": "display_data"
    }
   ],
   "source": [
    "sse_rm <- t(e) %*% e\n",
    "sse_rm"
   ]
  },
  {
   "cell_type": "code",
   "execution_count": 224,
   "id": "5fc23b49-8bb2-4627-a81d-8fc66028784f",
   "metadata": {},
   "outputs": [
    {
     "data": {
      "text/html": [
       "<table class=\"dataframe\">\n",
       "<caption>A matrix: 1 × 1 of type dbl</caption>\n",
       "<tbody>\n",
       "\t<tr><td>9.039069</td></tr>\n",
       "</tbody>\n",
       "</table>\n"
      ],
      "text/latex": [
       "A matrix: 1 × 1 of type dbl\n",
       "\\begin{tabular}{l}\n",
       "\t 9.039069\\\\\n",
       "\\end{tabular}\n"
      ],
      "text/markdown": [
       "\n",
       "A matrix: 1 × 1 of type dbl\n",
       "\n",
       "| 9.039069 |\n",
       "\n"
      ],
      "text/plain": [
       "     [,1]    \n",
       "[1,] 9.039069"
      ]
     },
     "metadata": {},
     "output_type": "display_data"
    }
   ],
   "source": [
    "f0 = (sse_rm - sse)/(sse/3)\n",
    "f0"
   ]
  },
  {
   "cell_type": "code",
   "execution_count": 225,
   "id": "9cca1f76-8a52-4c2a-9ba0-c8176f201e34",
   "metadata": {},
   "outputs": [
    {
     "data": {
      "text/html": [
       "10.1279644860139"
      ],
      "text/latex": [
       "10.1279644860139"
      ],
      "text/markdown": [
       "10.1279644860139"
      ],
      "text/plain": [
       "[1] 10.12796"
      ]
     },
     "metadata": {},
     "output_type": "display_data"
    }
   ],
   "source": [
    "qf(0.95,1,3)"
   ]
  }
 ],
 "metadata": {
  "kernelspec": {
   "display_name": "R",
   "language": "R",
   "name": "ir"
  },
  "language_info": {
   "codemirror_mode": "r",
   "file_extension": ".r",
   "mimetype": "text/x-r-source",
   "name": "R",
   "pygments_lexer": "r",
   "version": "4.1.2"
  }
 },
 "nbformat": 4,
 "nbformat_minor": 5
}
