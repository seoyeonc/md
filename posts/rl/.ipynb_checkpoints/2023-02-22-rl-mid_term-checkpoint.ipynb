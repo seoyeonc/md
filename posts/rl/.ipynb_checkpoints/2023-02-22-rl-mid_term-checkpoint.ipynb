{
 "cells": [
  {
   "cell_type": "raw",
   "id": "27585b93-2c02-4178-b735-45e02a3e94f1",
   "metadata": {
    "id": "cac470df-29e7-4148-9bbd-d8b9a32fa570",
    "tags": []
   },
   "source": [
    "---\n",
    "title: \"Advanced Regression Analysis Mid Term\"\n",
    "author: \"SEOYEON CHOI\"\n",
    "date: \"2023-02-22\"\n",
    "categories:\n",
    "  - Advanced Regression Analysis\n",
    "---"
   ]
  },
  {
   "cell_type": "markdown",
   "id": "a8196ff9-35bc-4cac-bc25-4034b6758f0e",
   "metadata": {},
   "source": [
    "> 중간고사"
   ]
  },
  {
   "cell_type": "markdown",
   "id": "93469e24-1c50-4e83-96ed-e054afec2b7c",
   "metadata": {},
   "source": [
    "# 1. "
   ]
  },
  {
   "cell_type": "markdown",
   "id": "100c095c-28cf-4df9-b12f-095b168a33d5",
   "metadata": {},
   "source": [
    "원점을 지나는 회귀모형은 다음과 같이 정의할 수 있다.\n",
    "\n",
    "$$y_i = \\beta x_i + \\epsilon_i, \\epsilon_i \\sim_{i.i.d.} n(0,\\sigma^2), i=1,\\dots, n$$"
   ]
  },
  {
   "cell_type": "markdown",
   "id": "0e810f92-834e-4e38-8130-7fe7ad779e4a",
   "metadata": {},
   "source": [
    "## (1)"
   ]
  },
  {
   "cell_type": "markdown",
   "id": "0706b201-7e78-4f84-9895-d89294a66667",
   "metadata": {},
   "source": [
    "$\\beta$에 대한 최소제곱추정량($LSE$) $\\hat{\\beta}$을 구하시오"
   ]
  },
  {
   "cell_type": "markdown",
   "id": "4e22b3d2-f945-4aa0-9f32-8cb289cec1be",
   "metadata": {},
   "source": [
    "**answer**"
   ]
  },
  {
   "cell_type": "markdown",
   "id": "0d2db647-b254-4384-afaa-056887f087e1",
   "metadata": {},
   "source": [
    "$\\hat{\\beta} = argmin_{\\beta \\in R} S = \\sum^n_{i=1} (y_i - \\beta x_i)^2 \\to \\frac{\\partial S}{\\partial \\beta}|_{\\beta = \\hat{\\beta}} = 0$\n",
    "\n",
    "$\\frac{\\partial S}{\\partial \\beta} = \\sum^n_{i=1} (-2x_i)(y_i - \\beta x_i) \\to \\sum^n_{i=1} x_i(y_i - \\hat{\\beta}x_i) = 0 \\to \\hat{\\beta} = \\frac{\\sum^n_{i=1} x_iy_i}{\\sum^n_{i=1} x^2_i}$"
   ]
  },
  {
   "cell_type": "markdown",
   "id": "3967e890-2b02-4028-a9be-fa4812eb7c0e",
   "metadata": {},
   "source": [
    "## (2)"
   ]
  },
  {
   "cell_type": "markdown",
   "id": "945ccdbe-3d9e-496c-997e-020ea9ca607d",
   "metadata": {},
   "source": [
    "$E(\\hat{\\beta})$을 구하시오"
   ]
  },
  {
   "cell_type": "markdown",
   "id": "59dea77e-e79d-4df1-9188-e39c39c7463d",
   "metadata": {},
   "source": [
    "**answer**"
   ]
  },
  {
   "cell_type": "markdown",
   "id": "209b3174-f4a4-46ab-9aad-cbd227c40fc3",
   "metadata": {},
   "source": [
    "$\\hat{\\beta} = \\frac{\\sum^n_{i=1} x_i y_i}{\\sum^n_{i=1} x^2_i} = \\sum^n_{i=1} \\frac{x_i}{\\sum^n_{j=1} s^2_j} y_i$\n",
    "\n",
    "$\\to E(\\hat{\\beta})= \\sum^n_{i=1} \\frac{x_i}{\\sum^n_{i=1} x^2_j} E(y_i) = \\sum^n_{i=1}\\frac{x_i}{\\sum^n_{j=1} x^2_j} \\beta x_i = \\beta\\frac{\\sum^n_{i=1} x^2_{i=1} x^2_i}{\\sum^n_{i=1} x^2_i} = \\beta$"
   ]
  },
  {
   "cell_type": "markdown",
   "id": "9580a547-87f6-4e41-b771-d80f68ac256d",
   "metadata": {},
   "source": [
    "## (3)"
   ]
  },
  {
   "cell_type": "markdown",
   "id": "1646524e-d64e-4c16-b90e-54ae526b4bc0",
   "metadata": {},
   "source": [
    "$Var(\\hat{\\beta})$을 구하시오"
   ]
  },
  {
   "cell_type": "markdown",
   "id": "f2c2f6e3-3a9f-45b6-90d5-20b9f089f588",
   "metadata": {},
   "source": [
    "**answer**"
   ]
  },
  {
   "cell_type": "markdown",
   "id": "97ba3504-9f65-40d6-9056-d3922f674125",
   "metadata": {},
   "source": [
    "$Var(\\hat{\\beta}) = \\sum^n_{i=1} \\frac{x^2_i}{(\\sum^n_{j=1} x^2_j)^2} Var(y_i) = \\sum^n_{i=1} \\frac{x^2_i}{(\\sum^n_{j=1} x^2_j)^2} \\sigma^2 = \\sigma^2 \\frac{\\sum^n_{i=1} x^2_i}{(\\sum^n_{i=1} x^2_i)^2} = \\frac{\\sigma^2}{\\sum^n_{i=1} x^2_i}$"
   ]
  },
  {
   "cell_type": "markdown",
   "id": "5d403376-3553-44eb-a824-8adfb2200cd1",
   "metadata": {},
   "source": [
    "## (4)"
   ]
  },
  {
   "cell_type": "markdown",
   "id": "c560c7e1-c520-41f3-a84f-3a7b03ef3c77",
   "metadata": {},
   "source": [
    "$\\hat{\\beta}$의 표준오차를 구하시오."
   ]
  },
  {
   "cell_type": "markdown",
   "id": "2b72edfc-5f0d-45d3-816e-148a62646ec9",
   "metadata": {},
   "source": [
    "**answer**"
   ]
  },
  {
   "cell_type": "markdown",
   "id": "4869cf32-9614-45fe-a66e-244d9404ac17",
   "metadata": {},
   "source": [
    "$s.e.(\\hat{\\beta}) = \\sqrt{Var(\\hat{\\beta})} = \\frac{\\sigma}{\\sqrt{\\sum^n_{i=1}x^2_i}}$"
   ]
  },
  {
   "cell_type": "markdown",
   "id": "fffadfdd-98ab-44ac-b08c-5aa8b79aa6a9",
   "metadata": {},
   "source": [
    "# 2."
   ]
  },
  {
   "cell_type": "markdown",
   "id": "9629ac04-3968-438a-86bf-211e949d95bd",
   "metadata": {},
   "source": [
    "어느 보험회사에서 사내평가점수($x$)가 영업실적($y$)에 어떠한 영향을 미치는지 알아보기 위하여 $11$명의 직원을 대상으로 평가점수($x_i$, 단위 : 점)와 영업실적($y_i$, 단위 : 백만원)을 조사하였다. 이 검사에 대한 관측값을 $(x_i,y_i), i = 1,2,...,12$ 이라고 하자. 1번에서 구한 원점을 지나는 회귀 모형을 이용하여 두 변수 사이의 관계를 확인하고자 한다. 아래의 정보를 이용하여 다음 물음에 답하시오.\n",
    "\n",
    "$$\\sum^n_{i=1} x_i = 297, \\sum^n_{i=1} y_i = 583, \\sum^n_{i=1} x^2_i = 9103, \\sum^n_{i=1} y^2_i = 36961, \\sum^n_{i=1} x_i y_i = 18207$$"
   ]
  },
  {
   "cell_type": "markdown",
   "id": "9485ae75-5e50-4efc-bc7e-4dad4f8f8111",
   "metadata": {},
   "source": [
    "## (1)"
   ]
  },
  {
   "cell_type": "markdown",
   "id": "794391bf-b221-4dff-bc06-60b83fb67f0e",
   "metadata": {},
   "source": [
    "최소제곱법에 의한 회귀직선을 적합시키고, 결과를 해석하시오."
   ]
  },
  {
   "cell_type": "markdown",
   "id": "973f220d-d0a6-4eaa-97c0-d899962edaf3",
   "metadata": {},
   "source": [
    "**answer**"
   ]
  },
  {
   "cell_type": "markdown",
   "id": "97594e63-7112-4e41-97e1-3dad7534747f",
   "metadata": {},
   "source": [
    "$\\hat{\\beta} = \\frac{\\sum^n_{i=1} x_i y_i}{\\sum^n_{i=1} x^2_i} = \\frac{18207}{9103} = 2$\n",
    "\n",
    "$y = 2x$\n",
    "\n",
    "사내평가점수가 1점 올라갈 때마다 영업실적이 2백만원 증가한다."
   ]
  },
  {
   "cell_type": "markdown",
   "id": "ec6c7d11-144d-4da7-8045-fe9e8de715f5",
   "metadata": {},
   "source": [
    "## (2)"
   ]
  },
  {
   "cell_type": "markdown",
   "id": "4cb3626d-58e1-4c4b-91e7-616aefe5f223",
   "metadata": {},
   "source": [
    "분산분석표를 작성하고, 유의수준 $\\alpha=0.05$하에서, 회귀직선에 대한 유의성 검정을 수행하시오."
   ]
  },
  {
   "cell_type": "markdown",
   "id": "e8b91777-8536-473f-99c1-49fa755ee4ac",
   "metadata": {},
   "source": [
    "**answer**"
   ]
  },
  {
   "cell_type": "markdown",
   "id": "2b3103dc-6bcd-4c5b-bb66-5c91db499e5a",
   "metadata": {},
   "source": [
    "$SST = \\sum^n_{i=1} y^2_i = 36961$\n",
    "\n",
    "$SSR = \\sum^n_{i=1} \\hat{y}^2_i = (\\beta x)^2= \\frac{(\\sum^n_{i=1} x_i y_i)^2}{\\sum^n_{i=1} x^2_{i}} = \\frac{(18207)^2}{9103} = 36416$\n",
    "\n",
    "분산분석표"
   ]
  },
  {
   "cell_type": "markdown",
   "id": "d4b6b0f6-b06f-4282-8bbc-b455b0d720ec",
   "metadata": {},
   "source": [
    "|요인|제곱합(SS)|자유도(df)|평균제곱(MS)|$F_0$|\n",
    "|:--:|--:|--:|--:|:--:|\n",
    "|회귀|36416|1|36416|669.01|\n",
    "|잔차|545|10|54.5| |\n",
    "|계| 36961|11||"
   ]
  },
  {
   "cell_type": "markdown",
   "id": "74aa0cd1-a2ff-4fbb-b3c9-53bf7883453f",
   "metadata": {},
   "source": [
    "`-` 가설 : $H_0 : \\beta = 0 \\text{ vs. } H_1 : \\beta = 0$\n",
    "\n",
    "`-` 기각역 : $F_0 > F_{0.01}(1,10) = 4.96$\n",
    "\n",
    "`-` 결론: $F_0$ 값이 기각역에 속하므로 귀무가설을 기각할 수 있다. 즉 유의수준 $5$%에서 회귀직선이 유의하다고 할 수 있다."
   ]
  },
  {
   "cell_type": "code",
   "execution_count": 8,
   "id": "38db5ba9-83fe-4a48-836e-18d98c0db06f",
   "metadata": {},
   "outputs": [
    {
     "data": {
      "text/html": [
       "4.96"
      ],
      "text/latex": [
       "4.96"
      ],
      "text/markdown": [
       "4.96"
      ],
      "text/plain": [
       "[1] 4.96"
      ]
     },
     "metadata": {},
     "output_type": "display_data"
    }
   ],
   "source": [
    "round(qf(0.95,1,10),2)"
   ]
  },
  {
   "cell_type": "markdown",
   "id": "c4489e52-4ddf-4470-919d-0548f637451f",
   "metadata": {},
   "source": [
    "## (3)"
   ]
  },
  {
   "cell_type": "markdown",
   "id": "5686a8c1-67f8-4c1d-8338-d3076d058a22",
   "metadata": {},
   "source": [
    "결정계수를 구하시오"
   ]
  },
  {
   "cell_type": "markdown",
   "id": "adfd3985-b2fd-4161-8fd2-264c8e17df46",
   "metadata": {},
   "source": [
    "**answer**"
   ]
  },
  {
   "cell_type": "markdown",
   "id": "0763655b-dd9b-4b25-9c64-60d2cca39213",
   "metadata": {},
   "source": [
    "$R^2 = \\frac{SSR}{SST} = \\frac{36416}{36961} = 0.9865$"
   ]
  },
  {
   "cell_type": "markdown",
   "id": "8f4f4aac-621c-419b-96f2-69977147eb01",
   "metadata": {},
   "source": [
    "## (4)"
   ]
  },
  {
   "cell_type": "markdown",
   "id": "6de3a643-be2f-440e-8153-db84503950c1",
   "metadata": {},
   "source": [
    "$\\beta$에 대한 $95$% 신뢰구간을 구하여라"
   ]
  },
  {
   "cell_type": "markdown",
   "id": "131f3822-1274-4f75-9400-9f9a9d5822d7",
   "metadata": {},
   "source": [
    "**answer**"
   ]
  },
  {
   "cell_type": "markdown",
   "id": "85169c74-ef52-4bf4-ad44-4afb01989971",
   "metadata": {},
   "source": [
    "$\\hat{s.e.}(\\hat{\\beta}) = \\sqrt{\\frac{MSE}{\\sum^n_{i=1} x^2_i}} = \\sqrt{\\frac{54.5}{9103}} = 0.077$\n",
    "\n",
    "$95$% 신뢰구간: $\\hat{\\beta} \\pm t_{0.05/2}(10) \\times \\hat{s.e.}(\\hat{\\beta}) = 2 \\pm 2.23 \\times 0.077 = (1.818, 2.172)$"
   ]
  },
  {
   "cell_type": "code",
   "execution_count": 10,
   "id": "fe05d091-f74f-4137-af02-d7abecf201f1",
   "metadata": {},
   "outputs": [
    {
     "data": {
      "text/html": [
       "2.23"
      ],
      "text/latex": [
       "2.23"
      ],
      "text/markdown": [
       "2.23"
      ],
      "text/plain": [
       "[1] 2.23"
      ]
     },
     "metadata": {},
     "output_type": "display_data"
    }
   ],
   "source": [
    "round(qt(0.975,10),2)"
   ]
  },
  {
   "cell_type": "markdown",
   "id": "6643e39e-df18-49ae-80c7-f85380ac72bc",
   "metadata": {},
   "source": [
    "# 3."
   ]
  },
  {
   "cell_type": "markdown",
   "id": "fda07797-b63f-46dd-8c04-4f2eefebba83",
   "metadata": {},
   "source": [
    "비료의 투여량에 따른 감자의 생산량의 변화를 측정하기 위해 10개의 동일한 면적에 투여한 비료의 양(kg)과 생산된 감자의 양(kg)이 다음 표와 같다"
   ]
  },
  {
   "cell_type": "markdown",
   "id": "e56bf274-3038-4cfc-a677-71ba7b653357",
   "metadata": {},
   "source": [
    "|비료(x)|1  1|2  2|3  3|4  4|5  5|\n",
    "|:--:|:--:|:--:|:--:|:--:|:--:|\n",
    "|감자(y)|22  19|25  27|31  34|31  29|37  35|\n",
    "|<span style=\"color:red\">$\\hat{y}_i$</span>|<span style=\"color:red\">20.5</span>|<span style=\"color:red\">26</span>|<span style=\"color:red\">32.5</span>|<span style=\"color:red\">30</span>|<span style=\"color:red\">36</span>|\n",
    "|<span style=\"color:red\">$y_i - \\hat{y}_i$</span>|<span style=\"color:red\">1.5  -1.5</span>|<span style=\"color:red\">-1  1</span>|<span style=\"color:red\">-1.5  1.5</span>|<span style=\"color:red\">1  -1</span>|<span style=\"color:red\">1  -1</span>|"
   ]
  },
  {
   "cell_type": "markdown",
   "id": "94b838cb-ed45-44df-888f-64947be9753a",
   "metadata": {},
   "source": [
    "$\\sum^n_{i=1} x_i = 30, \\sum^n_{i=1} y_i = 290, \\sum^n_{i=1} x^2_i = 110, \\sum^n_{i=1} y^2_i = 8712, \\sum^n_{i=1} x_i y_i = 940$"
   ]
  },
  {
   "cell_type": "markdown",
   "id": "3d2430f2-ca79-4581-b404-419a56f8282d",
   "metadata": {},
   "source": [
    "## (1)"
   ]
  },
  {
   "cell_type": "markdown",
   "id": "aeb76f0b-8e10-433b-846a-cb83dc433d94",
   "metadata": {},
   "source": [
    "단순선형 회귀모형을 쓰고, 오차항에 대한 가정을 적으시오"
   ]
  },
  {
   "cell_type": "markdown",
   "id": "28ab358e-8fa4-48a4-903f-a4796478d71f",
   "metadata": {},
   "source": [
    "**answer**"
   ]
  },
  {
   "cell_type": "markdown",
   "id": "f9b10e15-9b66-4335-b7e1-5c5af85b57e4",
   "metadata": {},
   "source": [
    "$y_i = \\beta_0 + \\beta_1 x_i + \\epsilon_i, \\epsilon_i \\sim_{i.i.d.} N(0, \\sigma^2) , i=1,2,\\dots, 10$"
   ]
  },
  {
   "cell_type": "markdown",
   "id": "9dda0513-511c-4d99-a073-8623a26d8553",
   "metadata": {},
   "source": [
    "## (2)"
   ]
  },
  {
   "cell_type": "markdown",
   "id": "1f7fa884-a68b-4a35-985f-59a5b2bb2994",
   "metadata": {},
   "source": [
    "투입된 비료의 양과 감자의 수확량에 대한 회귀선을 구하시오"
   ]
  },
  {
   "cell_type": "markdown",
   "id": "13d21810-ac36-49c6-8c2e-b7e112052635",
   "metadata": {},
   "source": [
    "**answer**"
   ]
  },
  {
   "cell_type": "markdown",
   "id": "1a60d77c-1df9-40cc-8cd8-c3c764a39255",
   "metadata": {},
   "source": [
    "$S_{(xx)} = \\sum^n_{i=1} x^2_i - n(\\bar{x})^2 = 110 - 10 \\times 3^2 = 20$\n",
    "\n",
    "$S_{(yy)} = \\sum^n_{i=1} y^2_i - n(\\bar{y})^2 = 8712-10 \\times 29^2 = 302$\n",
    "\n",
    "$S_{(xy)} = \\sum^n_{i=1} x_i y_i - n(\\bar{x})(\\bar{y}) = 940-10 \\times 3 \\times 29 = 70$\n",
    "\n",
    "$\\to \\hat{\\beta_1} = \\frac{S_{(xy)}}{S_{(xy)}} = \\frac{70}{20} = 3.5, \\hat{\\beta}_0 = \\bar{y} - \\hat{\\beta}_1 \\bar{x} = 29-3.5 \\times 3 = 18.5$"
   ]
  },
  {
   "cell_type": "markdown",
   "id": "22600731-481a-4526-bd87-712cedc5b891",
   "metadata": {},
   "source": [
    "## (3)"
   ]
  },
  {
   "cell_type": "markdown",
   "id": "0881f5a7-3e85-4adf-b1d0-162acbc249eb",
   "metadata": {},
   "source": [
    "분산분석표를 작성하고, 유의수준 α = 0.05에서, 회귀직선에 대한 유의성 검정을 수행하시오."
   ]
  },
  {
   "cell_type": "markdown",
   "id": "e4e3f342-56c4-4414-87d5-8e249f565d12",
   "metadata": {},
   "source": [
    "**answer**"
   ]
  },
  {
   "cell_type": "markdown",
   "id": "f14d6c25-b931-4332-9166-013a69175ced",
   "metadata": {},
   "source": [
    "$SSR = \\frac{S^2_{(xy)}}{S_{(xx)}} = \\frac{70^2}{20} = 245$\n",
    "\n",
    "$SSE = SST - SSR = 302 - 245 = 57$"
   ]
  },
  {
   "cell_type": "markdown",
   "id": "a9bebad9-499f-46b6-918e-d7de3b863dc5",
   "metadata": {},
   "source": [
    "|요인|제곱합(SS).|자유도(df)|평균제곱(MS)|$F_0$|\n",
    "|:--:|:--:|:--:|:--:|:--:|\n",
    "|회귀| 245|1| 245| 34.39|\n",
    "|잔차|57|8|7.125||\n",
    "|계| 302|"
   ]
  },
  {
   "cell_type": "markdown",
   "id": "855a1e17-66c8-4097-b453-31509d0c155a",
   "metadata": {},
   "source": [
    "`-` 가설 : $H_0 : \\beta_1 = 0 \\text{ vs. } H_1 : \\beta_1 = 0$\n",
    "\n",
    "`-` 기각역 : $F_0 > F_{\\alpha}(1,8) = 5.32$\n",
    "\n",
    "`-` 결론: $F_0$값이 기각역에 속하므로 귀무가설을 기각할 수 있다. 즉 유의수준 $5$%에서 회귀직선이 유의하다고 할 수 있다."
   ]
  },
  {
   "cell_type": "code",
   "execution_count": 14,
   "id": "d6e1b9d6-8200-47c2-9cf7-68ac8930974e",
   "metadata": {},
   "outputs": [
    {
     "data": {
      "text/html": [
       "5.32"
      ],
      "text/latex": [
       "5.32"
      ],
      "text/markdown": [
       "5.32"
      ],
      "text/plain": [
       "[1] 5.32"
      ]
     },
     "metadata": {},
     "output_type": "display_data"
    }
   ],
   "source": [
    "round(qf(0.95,1,8),2)"
   ]
  },
  {
   "cell_type": "markdown",
   "id": "7872a038-577c-4d0c-9904-dee9b8faaada",
   "metadata": {},
   "source": [
    "## (4)"
   ]
  },
  {
   "cell_type": "markdown",
   "id": "90171638-45b6-41a9-a10f-bbbf6ba57207",
   "metadata": {},
   "source": [
    "오차항의 분산 $\\sigma^2$에 대한 추정치를 구하여라"
   ]
  },
  {
   "cell_type": "markdown",
   "id": "3ff2bb87-5a45-464a-828e-4840d7362c23",
   "metadata": {},
   "source": [
    "**answer**"
   ]
  },
  {
   "cell_type": "markdown",
   "id": "7d098f92-7950-4a7a-98b2-d6eea666c7f5",
   "metadata": {},
   "source": [
    "$\\hat{\\sigma}^2 = MSE = 7.125$"
   ]
  },
  {
   "cell_type": "markdown",
   "id": "f10c8e73-b67d-4cc4-878e-850c1856d31a",
   "metadata": {},
   "source": [
    "## (5)"
   ]
  },
  {
   "cell_type": "markdown",
   "id": "ca655234-3fc3-43a7-af54-afa8f762488f",
   "metadata": {},
   "source": [
    "표본상관계수를 구하시오."
   ]
  },
  {
   "cell_type": "markdown",
   "id": "90dfc6d2-5ce4-4e68-9c50-4bd57dea5996",
   "metadata": {},
   "source": [
    "**answer**"
   ]
  },
  {
   "cell_type": "markdown",
   "id": "8a220703-3c64-4c81-ad10-dcaaed8f5a03",
   "metadata": {},
   "source": [
    "$r = \\frac{S_{(xy)}}{\\sqrt{S_{(xx)}S_{(yy)}}} = \\frac{70}{\\sqrt{20 \\times 302}} = 0.90$"
   ]
  },
  {
   "cell_type": "markdown",
   "id": "55cab3f0-54be-4d41-9fb4-a43a6ab6e0f9",
   "metadata": {},
   "source": [
    "## (6)"
   ]
  },
  {
   "cell_type": "markdown",
   "id": "e6baba2c-2a73-4385-9eb9-5766d5d729fd",
   "metadata": {},
   "source": [
    "결정계수를 구하고, 결정계수의 의미를 설명하시오"
   ]
  },
  {
   "cell_type": "markdown",
   "id": "95ada942-56bf-43c7-ac2b-7402e765ca7f",
   "metadata": {},
   "source": [
    "**answer**"
   ]
  },
  {
   "cell_type": "markdown",
   "id": "c5c90abe-c5d1-4061-a167-68a5ab02eb6f",
   "metadata": {},
   "source": [
    "$R^2 = \\frac{SSR}{SST} = \\frac{245}{302} = 0.81$\n",
    "\n",
    "회귀모형이 반응변수의 총변동의 $81$%를 설명하고 있다."
   ]
  },
  {
   "cell_type": "markdown",
   "id": "ba27d20e-ba69-4298-ac8c-fac5171929a5",
   "metadata": {},
   "source": [
    "## (7)"
   ]
  },
  {
   "cell_type": "markdown",
   "id": "17a436e6-4049-448f-8643-9155ac783c9b",
   "metadata": {},
   "source": [
    "다음의 가설검정을 유의수준 $\\alpha = 0.05$에서 수행하시오. \n",
    "\n",
    "$$H_0 : \\beta_1 = 2 \\text{ vs. } H_1 : \\beta_1 >2$$"
   ]
  },
  {
   "cell_type": "markdown",
   "id": "d9692246-6bb0-439d-8fb6-a64a510a9d15",
   "metadata": {},
   "source": [
    "**answer**"
   ]
  },
  {
   "cell_type": "markdown",
   "id": "0f3f95dd-27ff-4f87-a75a-9fd7dc296491",
   "metadata": {},
   "source": [
    "`-` 검정통계량 : $T = \\frac{\\hat{\\beta}_1 - \\beta^0_1}{\\hat{s.e.} (\\hat{\\beta}_1)} = \\frac{\\hat{\\beta}_1 - 2}{\\hat{s.e.}(\\hat{\\beta}_1)} \\sim_{H_0} t(8)$\n",
    "\n",
    "`-` $\\hat{s.e.}(\\hat{\\beta}_1) = \\sqrt{\\frac{MSE}{S_{(xx)}}} = \\sqrt{\\frac{7.125}{20}} = 0.597$\n",
    "\n",
    "`-` 검정통계량 관측값: $t_0 = \\frac{3.5-2}{0.597} = 2.513$\n",
    "\n",
    "`-` 기각역 : $t_0 > t_{0.05}(8) = 1.86$\n",
    "\n",
    "`-` 결론 : $t_0$값이 기각역에 속하므로 귀무가설을 기각할 수 있다. 즉 유의수준 $5$%에서 $\\beta_1$이 $2$보다 크다고 할 수 있다."
   ]
  },
  {
   "cell_type": "code",
   "execution_count": 16,
   "id": "e4f1bc0c-fbc1-449b-a8c3-be96fdcafcaa",
   "metadata": {},
   "outputs": [
    {
     "data": {
      "text/html": [
       "1.86"
      ],
      "text/latex": [
       "1.86"
      ],
      "text/markdown": [
       "1.86"
      ],
      "text/plain": [
       "[1] 1.86"
      ]
     },
     "metadata": {},
     "output_type": "display_data"
    }
   ],
   "source": [
    "round(qt(0.95,8),2) # 단측검정"
   ]
  },
  {
   "cell_type": "markdown",
   "id": "015fd945-f4e0-4acd-b6e2-295448392d74",
   "metadata": {},
   "source": [
    "## (8)"
   ]
  },
  {
   "cell_type": "markdown",
   "id": "9aeb334e-1ee2-4b2f-a33f-e4e704d622ff",
   "metadata": {},
   "source": [
    "$3.5$kg의 비료를 사용했을 때 평균 감자 수확량과 하나의 개별 $y$값의 $90$% 신뢰구간을 각각 구하시오"
   ]
  },
  {
   "cell_type": "markdown",
   "id": "31eb627c-70b6-466a-9b08-7263241fdb67",
   "metadata": {},
   "source": [
    "**answer**"
   ]
  },
  {
   "cell_type": "markdown",
   "id": "b606f787-2972-4868-9439-ed2dd6b89f3b",
   "metadata": {},
   "source": [
    "`-` $\\hat{\\mu}_0 = \\hat{y}_0 = 18.5 + 3.5 x = 18.5 + 3.5 \\times 3.5 = 30.75(kg)$\n",
    "\n",
    "`-` $\\hat{s.e.}(E(\\hat{y|x = 3.5})) = \\sqrt{(\\frac{1}{n} + \\frac{(x_0 - \\bar{x})^2}{S_{(xx)}})\\hat{\\sigma}^2} = \\sqrt{(\\frac{1}{10} + \\frac{(3.5-3)^2}{20}) \\times 7.125} = 0.895$\n",
    "\n",
    "`-` $\\hat{s.e.}(\\hat{y}_0) = \\sqrt{(1 + \\frac{1}{n} + \\frac{(x_0 - \\bar{x})^2}{S_{(xx)}})\\hat{\\sigma^2}} = \\sqrt{(1 + \\frac{1}{10} + \\frac{(3.5-3)^2}{20}) \\times 7.125} = 2.815$\n",
    "\n",
    "`-` 평균감자수확량의 $90$% 신뢰구간\n",
    "\n",
    "$$\\hat{\\mu}_0 \\pm t_{0.1/2}(8)\\hat{s.e.}(E(\\hat{y|x = 3.5})) = 30.75 \\pm 1.86 \\times 0.895 = (29.085, 32.415)$$\n",
    "\n",
    "`-` 개별 감자수확량의 $90$% 신뢰구간\n",
    "\n",
    "$$\\hat{\\mu}_0 \\pm t_{0.1/2})(8) \\hat{s.e.}(\\hat{y}_0) = 30.75 \\pm 1.86 \\times 2.815 = (25.514, 35.986)$$"
   ]
  },
  {
   "cell_type": "code",
   "execution_count": 20,
   "id": "e42b4e15-7886-40dd-9035-c1c4a317fb35",
   "metadata": {},
   "outputs": [
    {
     "data": {
      "text/html": [
       "1.86"
      ],
      "text/latex": [
       "1.86"
      ],
      "text/markdown": [
       "1.86"
      ],
      "text/plain": [
       "[1] 1.86"
      ]
     },
     "metadata": {},
     "output_type": "display_data"
    }
   ],
   "source": [
    "round(qt(0.95,8),2)"
   ]
  },
  {
   "cell_type": "markdown",
   "id": "50c42d59-e4dd-4398-822e-49fba1ae29f4",
   "metadata": {},
   "source": [
    "# 4."
   ]
  },
  {
   "cell_type": "markdown",
   "id": "a9f2753c-6e21-4a6e-a81f-e501ce72e892",
   "metadata": {},
   "source": [
    "3번 문제에 대하여 선형회귀모형이 타당한가를 유의수준 $\\alpha = 0.05$를 사용하여 적합결여검정을 수행하려고 한다. 다음 물음에 답하시오"
   ]
  },
  {
   "cell_type": "markdown",
   "id": "bfba258f-5202-429d-80b5-9fa09d0f0e1c",
   "metadata": {},
   "source": [
    "## (1)"
   ]
  },
  {
   "cell_type": "markdown",
   "id": "b9524fd9-a314-4338-99e5-1508a9741faf",
   "metadata": {},
   "source": [
    "적합결여검정을 수행하기 위한 가설을 적으시오."
   ]
  },
  {
   "cell_type": "markdown",
   "id": "1d5cfd31-865a-4914-845b-73aadbde9f2c",
   "metadata": {},
   "source": [
    "**answer**"
   ]
  },
  {
   "cell_type": "markdown",
   "id": "141eabcf-98aa-46ba-bafe-f5188a193c89",
   "metadata": {},
   "source": [
    "$H_0 : E(y|x) = \\beta_0 + \\beta_1 x \\text{ vs. } H_1 : E(y|x) \\neq \\beta_0 + \\beta_1 x$"
   ]
  },
  {
   "cell_type": "markdown",
   "id": "2bab4c72-8aac-41d0-90f3-85ae0e3f54dc",
   "metadata": {},
   "source": [
    "## (2)"
   ]
  },
  {
   "cell_type": "markdown",
   "id": "349e5bef-2302-475e-b40d-82f86adacf7b",
   "metadata": {},
   "source": [
    "가설검정을 위한 검정통계량은 무엇인가? 귀무가설이 사실이라고 가정할 때 검정통계량의 분포는 무엇인가?(증명 필요없음)"
   ]
  },
  {
   "cell_type": "markdown",
   "id": "24173d64-e49b-4c2f-aa4d-549dfb8b2616",
   "metadata": {},
   "source": [
    "**answer**"
   ]
  },
  {
   "cell_type": "markdown",
   "id": "0cdf133f-4503-4786-8e6d-ff1ad6258201",
   "metadata": {},
   "source": [
    "$F = \\frac{SSLF/(k-2)}{SSPE/(n-k)} \\sim_{H_0}, F(k-2,n-k)$\n",
    "\n",
    "`-` $SSPE = \\sum^k_{i=1} \\sum^{n_i}_{j=1} (y_{ij} - \\bar{y}_{i} )^2$\n",
    "\n",
    "`-` $SSLF = \\sum^k_{i=1}n_i (\\hat{y_i} - \\bar{y}_i)^2 = SSE - SSPE$\n",
    "\n",
    "`-` $\\bar{y}_i = \\sum^{n_i}_{j=1} y_{ij}/n_i$"
   ]
  },
  {
   "cell_type": "markdown",
   "id": "23f2ffe5-d4c2-45c9-b3c1-759acc746e01",
   "metadata": {},
   "source": [
    "## (3)"
   ]
  },
  {
   "cell_type": "markdown",
   "id": "11d78c42-ea24-40fd-9c43-513985d85880",
   "metadata": {},
   "source": [
    " (1)에 대한 가설 검정을 수행하시오"
   ]
  },
  {
   "cell_type": "markdown",
   "id": "9c55a410-908c-4f37-8ff7-0605948fde08",
   "metadata": {},
   "source": [
    "**answer**"
   ]
  },
  {
   "cell_type": "markdown",
   "id": "a6e52c03-4c4e-4106-b402-c9474b28b7a5",
   "metadata": {},
   "source": [
    "`-` $SSPE = (1.5^2 + \\dots + (-1)^2) = 15$\n",
    "\n",
    "`-` $SSLF = SSE - SSPE = 57-15=42$\n",
    "\n",
    "`-` 검정통계량의 관측값 : $F_0 = \\frac{42/3}{15/5} = \\frac{14}{3} = 4.67$ \n",
    "\n",
    "- $ k-2 = 5-2 = 3, n-k = 10-5 = 5$\n",
    "\n",
    "`-` 기각역 : $F_0 > F_{0.05}(3,5) = 5.41$\n",
    "\n",
    "`-` 결론: 검정통계량의 관측값이 기각역에 속하지 않기 떄문에 귀무가설을 기각할 수 없다. 즉, 유의수준 $5$%에서 회귀모형은 적절하지 않다고 할 수 있다."
   ]
  },
  {
   "cell_type": "code",
   "execution_count": 23,
   "id": "b5740a5e-57b3-459b-93d7-06858147f01f",
   "metadata": {},
   "outputs": [
    {
     "data": {
      "text/html": [
       "5.41"
      ],
      "text/latex": [
       "5.41"
      ],
      "text/markdown": [
       "5.41"
      ],
      "text/plain": [
       "[1] 5.41"
      ]
     },
     "metadata": {},
     "output_type": "display_data"
    }
   ],
   "source": [
    "round(qf(0.95,3,5),2)"
   ]
  },
  {
   "cell_type": "markdown",
   "id": "9f5c12d8-db9b-46f9-bb09-441db4043f72",
   "metadata": {},
   "source": [
    "# 5."
   ]
  },
  {
   "cell_type": "markdown",
   "id": "bfa74c35-c11c-4ffc-bc2e-c7a73bde6502",
   "metadata": {},
   "source": [
    "다음의 직선회귀모형\n",
    "\n",
    "$$y_i = \\beta_0 + \\beta_1 x_i + \\epsilon_i, i=1,2,\\dots, n$$\n",
    "\n",
    "$$\\epsilon_i \\sim N(0,kx_i),(k:\\text{ 상수 } , \\epsilon_i : \\text{ 서로 독립})$$\n",
    "\n",
    "에서 가중회귀직선을 구하려고 한다. 다음 물음에 답하여라"
   ]
  },
  {
   "cell_type": "markdown",
   "id": "a8e89ce9-eba1-47c1-8b5f-95f256de79ec",
   "metadata": {},
   "source": [
    "## (1)"
   ]
  },
  {
   "cell_type": "markdown",
   "id": "c39f511e-a43c-42ef-8cf2-1a97c837c62b",
   "metadata": {},
   "source": [
    "가중회귀최소추정량($WLSE$)을 구하기 위한 가중오차제곱합($Q$)를 정의하여라."
   ]
  },
  {
   "cell_type": "markdown",
   "id": "32f1c239-27ca-46d2-a8db-6ca89511cb4e",
   "metadata": {},
   "source": [
    "**answer**"
   ]
  },
  {
   "cell_type": "markdown",
   "id": "4343b81b-b395-4d59-b2d0-5a685c15030d",
   "metadata": {},
   "source": [
    "$Q = \\sum^n_{i=1} w_i \\{ y_i - (\\beta_0 + \\beta_1 x_i) \\}^2$\n",
    "\n",
    "Quadratic Form"
   ]
  },
  {
   "cell_type": "markdown",
   "id": "80c8fc66-a5d6-4369-94ff-1b7cf9412596",
   "metadata": {},
   "source": [
    "## (2)"
   ]
  },
  {
   "cell_type": "markdown",
   "id": "8c2fc4b6-a5d4-409f-a72a-a4485f3790d0",
   "metadata": {},
   "source": [
    "가중오차제곱합을 가장 작게 하는 WLSE를 구하여라."
   ]
  },
  {
   "cell_type": "markdown",
   "id": "fcea376e-7270-43a0-8b86-b3a9863f3394",
   "metadata": {},
   "source": [
    "**answer**"
   ]
  },
  {
   "cell_type": "markdown",
   "id": "70544daf-41b7-4256-8b3a-54191bfecbc7",
   "metadata": {},
   "source": [
    "가중최소제곱추정량(WLSE) : $(\\hat{\\beta}_0,\\hat{\\beta}_1) = argmin_{\\beta_0,\\beta_1 \\in R} \\sum^n_{i=1}w_i \\{ y_i - (\\beta_0 + \\beta_1 x_i)\\}^2$\n",
    "\n",
    "$\\hat{\\beta}_1 = \\frac{\\sum w_i (x_i - \\bar{x}_w)(y_i - \\bar{y}_w)}{\\sum w_i(x_i - \\bar{x}_w)^2}$\n",
    "\n",
    "$\\hat{\\beta}_0 = \\bar{y}_w - \\hat{\\beta_1} \\bar{x}_w$\n",
    "\n",
    "단, $\\bar{x}_w = \\frac{\\sum w_i x_i}{\\sum w_i}, \\bar{y}_w = \\frac{\\sum w_i y_i}{\\sum w_i}$"
   ]
  },
  {
   "cell_type": "code",
   "execution_count": null,
   "id": "97c93910-062a-47de-bdae-788b807877ef",
   "metadata": {},
   "outputs": [],
   "source": []
  }
 ],
 "metadata": {
  "kernelspec": {
   "display_name": "R",
   "language": "R",
   "name": "ir"
  },
  "language_info": {
   "codemirror_mode": "r",
   "file_extension": ".r",
   "mimetype": "text/x-r-source",
   "name": "R",
   "pygments_lexer": "r",
   "version": "4.1.2"
  }
 },
 "nbformat": 4,
 "nbformat_minor": 5
}
