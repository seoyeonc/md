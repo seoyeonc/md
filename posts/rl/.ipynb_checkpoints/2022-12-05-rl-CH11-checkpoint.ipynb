{
 "cells": [
  {
   "cell_type": "raw",
   "id": "35cc7840-fcf1-4db9-b398-2f287e9d8ed6",
   "metadata": {
    "id": "cac470df-29e7-4148-9bbd-d8b9a32fa570",
    "tags": []
   },
   "source": [
    "---\n",
    "title: \"고급회귀분석 실습 CH11\"\n",
    "author: \"SEOYEON CHOI\"\n",
    "date: \"2022-12-05\"\n",
    "categories:\n",
    "  - Advanced Regression Analysis\n",
    "---"
   ]
  },
  {
   "cell_type": "markdown",
   "id": "862d71aa-80ee-4336-97fa-134e63a48383",
   "metadata": {},
   "source": [
    "chapter 11 변수선택"
   ]
  },
  {
   "cell_type": "markdown",
   "id": "a9ea4901-cc19-4f8a-a9a6-7172294b6fad",
   "metadata": {},
   "source": [
    "#  변수선택"
   ]
  },
  {
   "cell_type": "code",
   "execution_count": 1,
   "id": "7eb477b2-0e3a-436d-a3b6-257f56877067",
   "metadata": {},
   "outputs": [],
   "source": [
    "dt <- data.frame(\n",
    "  \n",
    "  x1 = c(7,1,11,11,7,11,3,1,2,21,1,11,10),\n",
    "  x2 = c(26,29,56,31,52,55,71,31,54,47,40,66,68),\n",
    "  x3 = c(6,15,8,8,6,9,17,22,18,4,23,9,8),\n",
    "  x4 = c(60,52,20,47,33,22,6,44,22,26,34,12,12),\n",
    "  y  = c(78.5,74.3,104.3,87.6,95.9,109.2,102.7,72.5,93.1,115.9,83.8,113.3,109.4)\n",
    ")"
   ]
  },
  {
   "cell_type": "markdown",
   "id": "0e9dcd42-e9a2-49f5-8a1c-865c99fdd11a",
   "metadata": {},
   "source": [
    "산점도"
   ]
  },
  {
   "cell_type": "code",
   "execution_count": 2,
   "id": "e2959a2c-5472-4057-87ae-eaea230ab762",
   "metadata": {},
   "outputs": [
    {
     "data": {
      "image/png": "[encoded data removed]",
      "text/plain": [
       "plot without title"
      ]
     },
     "metadata": {
      "image/png": {
       "height": 420,
       "width": 420
      }
     },
     "output_type": "display_data"
    }
   ],
   "source": [
    "pairs(dt, pch=16)"
   ]
  },
  {
   "cell_type": "markdown",
   "id": "10df0392-5987-4df8-a4ea-b56468f45882",
   "metadata": {},
   "source": [
    "x2/x4 음의 상관관계 보임 등 확인"
   ]
  },
  {
   "cell_type": "markdown",
   "id": "76b889fe-cac9-4bdc-91fa-b13de06d1773",
   "metadata": {},
   "source": [
    "상관게수"
   ]
  },
  {
   "cell_type": "code",
   "execution_count": 3,
   "id": "268c1a07-c058-4ee3-b3f5-5d89871e0011",
   "metadata": {},
   "outputs": [
    {
     "data": {
      "text/html": [
       "<table class=\"dataframe\">\n",
       "<caption>A matrix: 5 × 5 of type dbl</caption>\n",
       "<thead>\n",
       "\t<tr><th></th><th scope=col>x1</th><th scope=col>x2</th><th scope=col>x3</th><th scope=col>x4</th><th scope=col>y</th></tr>\n",
       "</thead>\n",
       "<tbody>\n",
       "\t<tr><th scope=row>x1</th><td> 1.0000000</td><td> 0.2285795</td><td>-0.8241338</td><td>-0.2454451</td><td> 0.7307175</td></tr>\n",
       "\t<tr><th scope=row>x2</th><td> 0.2285795</td><td> 1.0000000</td><td>-0.1392424</td><td>-0.9729550</td><td> 0.8162526</td></tr>\n",
       "\t<tr><th scope=row>x3</th><td>-0.8241338</td><td>-0.1392424</td><td> 1.0000000</td><td> 0.0295370</td><td>-0.5346707</td></tr>\n",
       "\t<tr><th scope=row>x4</th><td>-0.2454451</td><td>-0.9729550</td><td> 0.0295370</td><td> 1.0000000</td><td>-0.8213050</td></tr>\n",
       "\t<tr><th scope=row>y</th><td> 0.7307175</td><td> 0.8162526</td><td>-0.5346707</td><td>-0.8213050</td><td> 1.0000000</td></tr>\n",
       "</tbody>\n",
       "</table>\n"
      ],
      "text/latex": [
       "A matrix: 5 × 5 of type dbl\n",
       "\\begin{tabular}{r|lllll}\n",
       "  & x1 & x2 & x3 & x4 & y\\\\\n",
       "\\hline\n",
       "\tx1 &  1.0000000 &  0.2285795 & -0.8241338 & -0.2454451 &  0.7307175\\\\\n",
       "\tx2 &  0.2285795 &  1.0000000 & -0.1392424 & -0.9729550 &  0.8162526\\\\\n",
       "\tx3 & -0.8241338 & -0.1392424 &  1.0000000 &  0.0295370 & -0.5346707\\\\\n",
       "\tx4 & -0.2454451 & -0.9729550 &  0.0295370 &  1.0000000 & -0.8213050\\\\\n",
       "\ty &  0.7307175 &  0.8162526 & -0.5346707 & -0.8213050 &  1.0000000\\\\\n",
       "\\end{tabular}\n"
      ],
      "text/markdown": [
       "\n",
       "A matrix: 5 × 5 of type dbl\n",
       "\n",
       "| <!--/--> | x1 | x2 | x3 | x4 | y |\n",
       "|---|---|---|---|---|---|\n",
       "| x1 |  1.0000000 |  0.2285795 | -0.8241338 | -0.2454451 |  0.7307175 |\n",
       "| x2 |  0.2285795 |  1.0000000 | -0.1392424 | -0.9729550 |  0.8162526 |\n",
       "| x3 | -0.8241338 | -0.1392424 |  1.0000000 |  0.0295370 | -0.5346707 |\n",
       "| x4 | -0.2454451 | -0.9729550 |  0.0295370 |  1.0000000 | -0.8213050 |\n",
       "| y |  0.7307175 |  0.8162526 | -0.5346707 | -0.8213050 |  1.0000000 |\n",
       "\n"
      ],
      "text/plain": [
       "   x1         x2         x3         x4         y         \n",
       "x1  1.0000000  0.2285795 -0.8241338 -0.2454451  0.7307175\n",
       "x2  0.2285795  1.0000000 -0.1392424 -0.9729550  0.8162526\n",
       "x3 -0.8241338 -0.1392424  1.0000000  0.0295370 -0.5346707\n",
       "x4 -0.2454451 -0.9729550  0.0295370  1.0000000 -0.8213050\n",
       "y   0.7307175  0.8162526 -0.5346707 -0.8213050  1.0000000"
      ]
     },
     "metadata": {},
     "output_type": "display_data"
    }
   ],
   "source": [
    "cor(dt)"
   ]
  },
  {
   "cell_type": "markdown",
   "id": "e9487f75-cc54-417a-ab3f-be8b1d9c394c",
   "metadata": {},
   "source": [
    "x1/x3 cor 크고\n",
    "\n",
    "y와의 상관계수 중 x4가 가장 큼"
   ]
  },
  {
   "cell_type": "markdown",
   "id": "59a98829-ecb3-4f43-8796-15197d729714",
   "metadata": {},
   "source": [
    "Full model"
   ]
  },
  {
   "cell_type": "code",
   "execution_count": 4,
   "id": "7e61d023-a34c-46d7-89bd-41627cead0fe",
   "metadata": {},
   "outputs": [],
   "source": [
    "m <- lm(y~., dt)  ##FM"
   ]
  },
  {
   "cell_type": "code",
   "execution_count": 5,
   "id": "a0061c92-a501-41a5-9a8c-35bd19146007",
   "metadata": {},
   "outputs": [
    {
     "data": {
      "text/plain": [
       "\n",
       "Call:\n",
       "lm(formula = y ~ ., data = dt)\n",
       "\n",
       "Residuals:\n",
       "    Min      1Q  Median      3Q     Max \n",
       "-3.1750 -1.6709  0.2508  1.3783  3.9254 \n",
       "\n",
       "Coefficients:\n",
       "            Estimate Std. Error t value Pr(>|t|)  \n",
       "(Intercept)  62.4054    70.0710   0.891   0.3991  \n",
       "x1            1.5511     0.7448   2.083   0.0708 .\n",
       "x2            0.5102     0.7238   0.705   0.5009  \n",
       "x3            0.1019     0.7547   0.135   0.8959  \n",
       "x4           -0.1441     0.7091  -0.203   0.8441  \n",
       "---\n",
       "Signif. codes:  0 ‘***’ 0.001 ‘**’ 0.01 ‘*’ 0.05 ‘.’ 0.1 ‘ ’ 1\n",
       "\n",
       "Residual standard error: 2.446 on 8 degrees of freedom\n",
       "Multiple R-squared:  0.9824,\tAdjusted R-squared:  0.9736 \n",
       "F-statistic: 111.5 on 4 and 8 DF,  p-value: 4.756e-07\n"
      ]
     },
     "metadata": {},
     "output_type": "display_data"
    }
   ],
   "source": [
    "summary(m)"
   ]
  },
  {
   "cell_type": "markdown",
   "id": "cfa9551a-7d11-43e4-a2eb-1c6b6d865bac",
   "metadata": {},
   "source": [
    "x1만 유의함, 나머지는 유의하지 않음\n",
    "\n",
    "모형이 복잡해지면 분산이 커져서 유의미하지 않다는 결과 나올 수도\n",
    "\n",
    "아니면 선형변수간 상관관계가 높을때 (모형은 유의하지만 변수가 유의하지 않음-> 다중공선성 존재, 변수선택과정 필요\n",
    "\n",
    "t value squre = F value -> 가장 작은 거 찾았더니 x3, x3이 가장 유의하지 않음 -> 제거"
   ]
  },
  {
   "cell_type": "code",
   "execution_count": 6,
   "id": "7b9c6c5d-dae4-46f2-bcdd-d2bb8b520985",
   "metadata": {},
   "outputs": [
    {
     "data": {
      "text/html": [
       "<table class=\"dataframe\">\n",
       "<caption>A anova: 5 × 5</caption>\n",
       "<thead>\n",
       "\t<tr><th></th><th scope=col>Df</th><th scope=col>Sum Sq</th><th scope=col>Mean Sq</th><th scope=col>F value</th><th scope=col>Pr(&gt;F)</th></tr>\n",
       "\t<tr><th></th><th scope=col>&lt;int&gt;</th><th scope=col>&lt;dbl&gt;</th><th scope=col>&lt;dbl&gt;</th><th scope=col>&lt;dbl&gt;</th><th scope=col>&lt;dbl&gt;</th></tr>\n",
       "</thead>\n",
       "<tbody>\n",
       "\t<tr><th scope=row>x1</th><td>1</td><td>1450.0763281</td><td>1450.0763281</td><td>242.36791816</td><td>2.887559e-07</td></tr>\n",
       "\t<tr><th scope=row>x2</th><td>1</td><td>1207.7822656</td><td>1207.7822656</td><td>201.87052753</td><td>5.863323e-07</td></tr>\n",
       "\t<tr><th scope=row>x3</th><td>1</td><td>   9.7938691</td><td>   9.7938691</td><td>  1.63696188</td><td>2.366003e-01</td></tr>\n",
       "\t<tr><th scope=row>x4</th><td>1</td><td>   0.2469747</td><td>   0.2469747</td><td>  0.04127972</td><td>8.440715e-01</td></tr>\n",
       "\t<tr><th scope=row>Residuals</th><td>8</td><td>  47.8636394</td><td>   5.9829549</td><td>          NA</td><td>          NA</td></tr>\n",
       "</tbody>\n",
       "</table>\n"
      ],
      "text/latex": [
       "A anova: 5 × 5\n",
       "\\begin{tabular}{r|lllll}\n",
       "  & Df & Sum Sq & Mean Sq & F value & Pr(>F)\\\\\n",
       "  & <int> & <dbl> & <dbl> & <dbl> & <dbl>\\\\\n",
       "\\hline\n",
       "\tx1 & 1 & 1450.0763281 & 1450.0763281 & 242.36791816 & 2.887559e-07\\\\\n",
       "\tx2 & 1 & 1207.7822656 & 1207.7822656 & 201.87052753 & 5.863323e-07\\\\\n",
       "\tx3 & 1 &    9.7938691 &    9.7938691 &   1.63696188 & 2.366003e-01\\\\\n",
       "\tx4 & 1 &    0.2469747 &    0.2469747 &   0.04127972 & 8.440715e-01\\\\\n",
       "\tResiduals & 8 &   47.8636394 &    5.9829549 &           NA &           NA\\\\\n",
       "\\end{tabular}\n"
      ],
      "text/markdown": [
       "\n",
       "A anova: 5 × 5\n",
       "\n",
       "| <!--/--> | Df &lt;int&gt; | Sum Sq &lt;dbl&gt; | Mean Sq &lt;dbl&gt; | F value &lt;dbl&gt; | Pr(&gt;F) &lt;dbl&gt; |\n",
       "|---|---|---|---|---|---|\n",
       "| x1 | 1 | 1450.0763281 | 1450.0763281 | 242.36791816 | 2.887559e-07 |\n",
       "| x2 | 1 | 1207.7822656 | 1207.7822656 | 201.87052753 | 5.863323e-07 |\n",
       "| x3 | 1 |    9.7938691 |    9.7938691 |   1.63696188 | 2.366003e-01 |\n",
       "| x4 | 1 |    0.2469747 |    0.2469747 |   0.04127972 | 8.440715e-01 |\n",
       "| Residuals | 8 |   47.8636394 |    5.9829549 |           NA |           NA |\n",
       "\n"
      ],
      "text/plain": [
       "          Df Sum Sq       Mean Sq      F value      Pr(>F)      \n",
       "x1        1  1450.0763281 1450.0763281 242.36791816 2.887559e-07\n",
       "x2        1  1207.7822656 1207.7822656 201.87052753 5.863323e-07\n",
       "x3        1     9.7938691    9.7938691   1.63696188 2.366003e-01\n",
       "x4        1     0.2469747    0.2469747   0.04127972 8.440715e-01\n",
       "Residuals 8    47.8636394    5.9829549           NA           NA"
      ]
     },
     "metadata": {},
     "output_type": "display_data"
    }
   ],
   "source": [
    "anova(m)"
   ]
  },
  {
   "cell_type": "markdown",
   "id": "c4110842-b2e4-485e-badb-2c1156edf5eb",
   "metadata": {},
   "source": [
    "### 후진제거법"
   ]
  },
  {
   "cell_type": "code",
   "execution_count": 7,
   "id": "a789179b-eb29-4215-8d39-737790a3985f",
   "metadata": {},
   "outputs": [
    {
     "data": {
      "text/plain": [
       "\n",
       "Call:\n",
       "lm(formula = y ~ ., data = dt)\n",
       "\n",
       "Residuals:\n",
       "    Min      1Q  Median      3Q     Max \n",
       "-3.1750 -1.6709  0.2508  1.3783  3.9254 \n",
       "\n",
       "Coefficients:\n",
       "            Estimate Std. Error t value Pr(>|t|)  \n",
       "(Intercept)  62.4054    70.0710   0.891   0.3991  \n",
       "x1            1.5511     0.7448   2.083   0.0708 .\n",
       "x2            0.5102     0.7238   0.705   0.5009  \n",
       "x3            0.1019     0.7547   0.135   0.8959  \n",
       "x4           -0.1441     0.7091  -0.203   0.8441  \n",
       "---\n",
       "Signif. codes:  0 ‘***’ 0.001 ‘**’ 0.01 ‘*’ 0.05 ‘.’ 0.1 ‘ ’ 1\n",
       "\n",
       "Residual standard error: 2.446 on 8 degrees of freedom\n",
       "Multiple R-squared:  0.9824,\tAdjusted R-squared:  0.9736 \n",
       "F-statistic: 111.5 on 4 and 8 DF,  p-value: 4.756e-07\n"
      ]
     },
     "metadata": {},
     "output_type": "display_data"
    }
   ],
   "source": [
    "summary(m) #x3 제거"
   ]
  },
  {
   "cell_type": "code",
   "execution_count": 8,
   "id": "19fd6332-ed24-4674-96be-153e187455fb",
   "metadata": {},
   "outputs": [
    {
     "data": {
      "text/html": [
       "<table class=\"dataframe\">\n",
       "<caption>A anova: 5 × 6</caption>\n",
       "<thead>\n",
       "\t<tr><th></th><th scope=col>Df</th><th scope=col>Sum of Sq</th><th scope=col>RSS</th><th scope=col>AIC</th><th scope=col>F value</th><th scope=col>Pr(&gt;F)</th></tr>\n",
       "\t<tr><th></th><th scope=col>&lt;dbl&gt;</th><th scope=col>&lt;dbl&gt;</th><th scope=col>&lt;dbl&gt;</th><th scope=col>&lt;dbl&gt;</th><th scope=col>&lt;dbl&gt;</th><th scope=col>&lt;dbl&gt;</th></tr>\n",
       "</thead>\n",
       "<tbody>\n",
       "\t<tr><th scope=row>&lt;none&gt;</th><td>NA</td><td>        NA</td><td>47.86364</td><td>26.94429</td><td>        NA</td><td>        NA</td></tr>\n",
       "\t<tr><th scope=row>x1</th><td> 1</td><td>25.9509114</td><td>73.81455</td><td>30.57588</td><td>4.33747400</td><td>0.07082169</td></tr>\n",
       "\t<tr><th scope=row>x2</th><td> 1</td><td> 2.9724782</td><td>50.83612</td><td>25.72755</td><td>0.49682444</td><td>0.50090110</td></tr>\n",
       "\t<tr><th scope=row>x3</th><td> 1</td><td> 0.1090900</td><td>47.97273</td><td>24.97388</td><td>0.01823347</td><td>0.89592269</td></tr>\n",
       "\t<tr><th scope=row>x4</th><td> 1</td><td> 0.2469747</td><td>48.11061</td><td>25.01120</td><td>0.04127972</td><td>0.84407147</td></tr>\n",
       "</tbody>\n",
       "</table>\n"
      ],
      "text/latex": [
       "A anova: 5 × 6\n",
       "\\begin{tabular}{r|llllll}\n",
       "  & Df & Sum of Sq & RSS & AIC & F value & Pr(>F)\\\\\n",
       "  & <dbl> & <dbl> & <dbl> & <dbl> & <dbl> & <dbl>\\\\\n",
       "\\hline\n",
       "\t<none> & NA &         NA & 47.86364 & 26.94429 &         NA &         NA\\\\\n",
       "\tx1 &  1 & 25.9509114 & 73.81455 & 30.57588 & 4.33747400 & 0.07082169\\\\\n",
       "\tx2 &  1 &  2.9724782 & 50.83612 & 25.72755 & 0.49682444 & 0.50090110\\\\\n",
       "\tx3 &  1 &  0.1090900 & 47.97273 & 24.97388 & 0.01823347 & 0.89592269\\\\\n",
       "\tx4 &  1 &  0.2469747 & 48.11061 & 25.01120 & 0.04127972 & 0.84407147\\\\\n",
       "\\end{tabular}\n"
      ],
      "text/markdown": [
       "\n",
       "A anova: 5 × 6\n",
       "\n",
       "| <!--/--> | Df &lt;dbl&gt; | Sum of Sq &lt;dbl&gt; | RSS &lt;dbl&gt; | AIC &lt;dbl&gt; | F value &lt;dbl&gt; | Pr(&gt;F) &lt;dbl&gt; |\n",
       "|---|---|---|---|---|---|---|\n",
       "| &lt;none&gt; | NA |         NA | 47.86364 | 26.94429 |         NA |         NA |\n",
       "| x1 |  1 | 25.9509114 | 73.81455 | 30.57588 | 4.33747400 | 0.07082169 |\n",
       "| x2 |  1 |  2.9724782 | 50.83612 | 25.72755 | 0.49682444 | 0.50090110 |\n",
       "| x3 |  1 |  0.1090900 | 47.97273 | 24.97388 | 0.01823347 | 0.89592269 |\n",
       "| x4 |  1 |  0.2469747 | 48.11061 | 25.01120 | 0.04127972 | 0.84407147 |\n",
       "\n"
      ],
      "text/plain": [
       "       Df Sum of Sq  RSS      AIC      F value    Pr(>F)    \n",
       "<none> NA         NA 47.86364 26.94429         NA         NA\n",
       "x1      1 25.9509114 73.81455 30.57588 4.33747400 0.07082169\n",
       "x2      1  2.9724782 50.83612 25.72755 0.49682444 0.50090110\n",
       "x3      1  0.1090900 47.97273 24.97388 0.01823347 0.89592269\n",
       "x4      1  0.2469747 48.11061 25.01120 0.04127972 0.84407147"
      ]
     },
     "metadata": {},
     "output_type": "display_data"
    }
   ],
   "source": [
    "drop1(m, test = \"F\")"
   ]
  },
  {
   "cell_type": "markdown",
   "id": "791cebea-705c-4d04-9434-d22c31dbfa6e",
   "metadata": {},
   "source": [
    "각 값은 해당 변수가 없을떄의 결과임\n",
    "\n",
    "RSS는 SSE임\n",
    "- 47.86364 모두 포함할 떄의 SSE,\n",
    "- 각 줄은 해당 변수가 없을 때의 SSE값임(차이가 클수록 의미있는 변수)\n",
    "\n",
    "AIC\n",
    "\n",
    "F value 부분 f 검정의 f 값."
   ]
  },
  {
   "cell_type": "code",
   "execution_count": 9,
   "id": "d3d312e3-7340-4fd1-be1e-e270681ae962",
   "metadata": {},
   "outputs": [],
   "source": [
    "m1 <- update(m, ~ . -x3)"
   ]
  },
  {
   "cell_type": "code",
   "execution_count": 10,
   "id": "063201b2-9ce1-47cf-be86-ab6e64b43219",
   "metadata": {},
   "outputs": [
    {
     "data": {
      "text/plain": [
       "\n",
       "Call:\n",
       "lm(formula = y ~ x1 + x2 + x4, data = dt)\n",
       "\n",
       "Residuals:\n",
       "    Min      1Q  Median      3Q     Max \n",
       "-3.0919 -1.8016  0.2562  1.2818  3.8982 \n",
       "\n",
       "Coefficients:\n",
       "            Estimate Std. Error t value Pr(>|t|)    \n",
       "(Intercept)  71.6483    14.1424   5.066 0.000675 ***\n",
       "x1            1.4519     0.1170  12.410 5.78e-07 ***\n",
       "x2            0.4161     0.1856   2.242 0.051687 .  \n",
       "x4           -0.2365     0.1733  -1.365 0.205395    \n",
       "---\n",
       "Signif. codes:  0 ‘***’ 0.001 ‘**’ 0.01 ‘*’ 0.05 ‘.’ 0.1 ‘ ’ 1\n",
       "\n",
       "Residual standard error: 2.309 on 9 degrees of freedom\n",
       "Multiple R-squared:  0.9823,\tAdjusted R-squared:  0.9764 \n",
       "F-statistic: 166.8 on 3 and 9 DF,  p-value: 3.323e-08\n"
      ]
     },
     "metadata": {},
     "output_type": "display_data"
    }
   ],
   "source": [
    "summary(m1)  #x4 제거"
   ]
  },
  {
   "cell_type": "markdown",
   "id": "37783f90-002c-4e61-9568-f8061c7d694a",
   "metadata": {},
   "source": [
    "부분 F 검정, t value 가장 작은 것은 x4임\n",
    "\n",
    "alpha_B = 0.05라 놓고 p값중 이보다 크거나 작은 거 찾기"
   ]
  },
  {
   "cell_type": "code",
   "execution_count": 11,
   "id": "4452f15b-f1c2-4248-842b-0bfed075d4b6",
   "metadata": {},
   "outputs": [
    {
     "data": {
      "text/html": [
       "<table class=\"dataframe\">\n",
       "<caption>A anova: 4 × 6</caption>\n",
       "<thead>\n",
       "\t<tr><th></th><th scope=col>Df</th><th scope=col>Sum of Sq</th><th scope=col>RSS</th><th scope=col>AIC</th><th scope=col>F value</th><th scope=col>Pr(&gt;F)</th></tr>\n",
       "\t<tr><th></th><th scope=col>&lt;dbl&gt;</th><th scope=col>&lt;dbl&gt;</th><th scope=col>&lt;dbl&gt;</th><th scope=col>&lt;dbl&gt;</th><th scope=col>&lt;dbl&gt;</th><th scope=col>&lt;dbl&gt;</th></tr>\n",
       "</thead>\n",
       "<tbody>\n",
       "\t<tr><th scope=row>&lt;none&gt;</th><td>NA</td><td>        NA</td><td> 47.97273</td><td>24.97388</td><td>        NA</td><td>          NA</td></tr>\n",
       "\t<tr><th scope=row>x1</th><td> 1</td><td>820.907402</td><td>868.88013</td><td>60.62933</td><td>154.007635</td><td>5.780764e-07</td></tr>\n",
       "\t<tr><th scope=row>x2</th><td> 1</td><td> 26.789383</td><td> 74.76211</td><td>28.74170</td><td>  5.025865</td><td>5.168735e-02</td></tr>\n",
       "\t<tr><th scope=row>x4</th><td> 1</td><td>  9.931754</td><td> 57.90448</td><td>25.41999</td><td>  1.863262</td><td>2.053954e-01</td></tr>\n",
       "</tbody>\n",
       "</table>\n"
      ],
      "text/latex": [
       "A anova: 4 × 6\n",
       "\\begin{tabular}{r|llllll}\n",
       "  & Df & Sum of Sq & RSS & AIC & F value & Pr(>F)\\\\\n",
       "  & <dbl> & <dbl> & <dbl> & <dbl> & <dbl> & <dbl>\\\\\n",
       "\\hline\n",
       "\t<none> & NA &         NA &  47.97273 & 24.97388 &         NA &           NA\\\\\n",
       "\tx1 &  1 & 820.907402 & 868.88013 & 60.62933 & 154.007635 & 5.780764e-07\\\\\n",
       "\tx2 &  1 &  26.789383 &  74.76211 & 28.74170 &   5.025865 & 5.168735e-02\\\\\n",
       "\tx4 &  1 &   9.931754 &  57.90448 & 25.41999 &   1.863262 & 2.053954e-01\\\\\n",
       "\\end{tabular}\n"
      ],
      "text/markdown": [
       "\n",
       "A anova: 4 × 6\n",
       "\n",
       "| <!--/--> | Df &lt;dbl&gt; | Sum of Sq &lt;dbl&gt; | RSS &lt;dbl&gt; | AIC &lt;dbl&gt; | F value &lt;dbl&gt; | Pr(&gt;F) &lt;dbl&gt; |\n",
       "|---|---|---|---|---|---|---|\n",
       "| &lt;none&gt; | NA |         NA |  47.97273 | 24.97388 |         NA |           NA |\n",
       "| x1 |  1 | 820.907402 | 868.88013 | 60.62933 | 154.007635 | 5.780764e-07 |\n",
       "| x2 |  1 |  26.789383 |  74.76211 | 28.74170 |   5.025865 | 5.168735e-02 |\n",
       "| x4 |  1 |   9.931754 |  57.90448 | 25.41999 |   1.863262 | 2.053954e-01 |\n",
       "\n"
      ],
      "text/plain": [
       "       Df Sum of Sq  RSS       AIC      F value    Pr(>F)      \n",
       "<none> NA         NA  47.97273 24.97388         NA           NA\n",
       "x1      1 820.907402 868.88013 60.62933 154.007635 5.780764e-07\n",
       "x2      1  26.789383  74.76211 28.74170   5.025865 5.168735e-02\n",
       "x4      1   9.931754  57.90448 25.41999   1.863262 2.053954e-01"
      ]
     },
     "metadata": {},
     "output_type": "display_data"
    }
   ],
   "source": [
    "drop1(m1, test = \"F\")"
   ]
  },
  {
   "cell_type": "code",
   "execution_count": 12,
   "id": "326d1ff1-e180-4f24-b166-b32c1a60635d",
   "metadata": {},
   "outputs": [],
   "source": [
    "m2 <- update(m1, ~ . -x4)"
   ]
  },
  {
   "cell_type": "code",
   "execution_count": 13,
   "id": "8863eb79-4b56-4aca-afd8-edc73f5faf44",
   "metadata": {},
   "outputs": [
    {
     "data": {
      "text/plain": [
       "\n",
       "Call:\n",
       "lm(formula = y ~ x1 + x2, data = dt)\n",
       "\n",
       "Residuals:\n",
       "   Min     1Q Median     3Q    Max \n",
       "-2.893 -1.574 -1.302  1.363  4.048 \n",
       "\n",
       "Coefficients:\n",
       "            Estimate Std. Error t value Pr(>|t|)    \n",
       "(Intercept) 52.57735    2.28617   23.00 5.46e-10 ***\n",
       "x1           1.46831    0.12130   12.11 2.69e-07 ***\n",
       "x2           0.66225    0.04585   14.44 5.03e-08 ***\n",
       "---\n",
       "Signif. codes:  0 ‘***’ 0.001 ‘**’ 0.01 ‘*’ 0.05 ‘.’ 0.1 ‘ ’ 1\n",
       "\n",
       "Residual standard error: 2.406 on 10 degrees of freedom\n",
       "Multiple R-squared:  0.9787,\tAdjusted R-squared:  0.9744 \n",
       "F-statistic: 229.5 on 2 and 10 DF,  p-value: 4.407e-09\n"
      ]
     },
     "metadata": {},
     "output_type": "display_data"
    }
   ],
   "source": [
    "summary(m2)  #x4 제거"
   ]
  },
  {
   "cell_type": "markdown",
   "id": "24c09336-3ea7-4be3-9d97-9b7dbb695a1b",
   "metadata": {},
   "source": [
    "t value 보니 x1이 가장 작지만 유의확률 작음 제거 불가, 과정 멈추기"
   ]
  },
  {
   "cell_type": "code",
   "execution_count": 14,
   "id": "4800284e-5980-4ea2-a62b-1cf6fcfbb443",
   "metadata": {},
   "outputs": [
    {
     "data": {
      "text/html": [
       "<table class=\"dataframe\">\n",
       "<caption>A anova: 3 × 6</caption>\n",
       "<thead>\n",
       "\t<tr><th></th><th scope=col>Df</th><th scope=col>Sum of Sq</th><th scope=col>RSS</th><th scope=col>AIC</th><th scope=col>F value</th><th scope=col>Pr(&gt;F)</th></tr>\n",
       "\t<tr><th></th><th scope=col>&lt;dbl&gt;</th><th scope=col>&lt;dbl&gt;</th><th scope=col>&lt;dbl&gt;</th><th scope=col>&lt;dbl&gt;</th><th scope=col>&lt;dbl&gt;</th><th scope=col>&lt;dbl&gt;</th></tr>\n",
       "</thead>\n",
       "<tbody>\n",
       "\t<tr><th scope=row>&lt;none&gt;</th><td>NA</td><td>       NA</td><td>  57.90448</td><td>25.41999</td><td>      NA</td><td>          NA</td></tr>\n",
       "\t<tr><th scope=row>x1</th><td> 1</td><td> 848.4319</td><td> 906.33634</td><td>59.17799</td><td>146.5227</td><td>2.692212e-07</td></tr>\n",
       "\t<tr><th scope=row>x2</th><td> 1</td><td>1207.7823</td><td>1265.68675</td><td>63.51947</td><td>208.5818</td><td>5.028960e-08</td></tr>\n",
       "</tbody>\n",
       "</table>\n"
      ],
      "text/latex": [
       "A anova: 3 × 6\n",
       "\\begin{tabular}{r|llllll}\n",
       "  & Df & Sum of Sq & RSS & AIC & F value & Pr(>F)\\\\\n",
       "  & <dbl> & <dbl> & <dbl> & <dbl> & <dbl> & <dbl>\\\\\n",
       "\\hline\n",
       "\t<none> & NA &        NA &   57.90448 & 25.41999 &       NA &           NA\\\\\n",
       "\tx1 &  1 &  848.4319 &  906.33634 & 59.17799 & 146.5227 & 2.692212e-07\\\\\n",
       "\tx2 &  1 & 1207.7823 & 1265.68675 & 63.51947 & 208.5818 & 5.028960e-08\\\\\n",
       "\\end{tabular}\n"
      ],
      "text/markdown": [
       "\n",
       "A anova: 3 × 6\n",
       "\n",
       "| <!--/--> | Df &lt;dbl&gt; | Sum of Sq &lt;dbl&gt; | RSS &lt;dbl&gt; | AIC &lt;dbl&gt; | F value &lt;dbl&gt; | Pr(&gt;F) &lt;dbl&gt; |\n",
       "|---|---|---|---|---|---|---|\n",
       "| &lt;none&gt; | NA |        NA |   57.90448 | 25.41999 |       NA |           NA |\n",
       "| x1 |  1 |  848.4319 |  906.33634 | 59.17799 | 146.5227 | 2.692212e-07 |\n",
       "| x2 |  1 | 1207.7823 | 1265.68675 | 63.51947 | 208.5818 | 5.028960e-08 |\n",
       "\n"
      ],
      "text/plain": [
       "       Df Sum of Sq RSS        AIC      F value  Pr(>F)      \n",
       "<none> NA        NA   57.90448 25.41999       NA           NA\n",
       "x1      1  848.4319  906.33634 59.17799 146.5227 2.692212e-07\n",
       "x2      1 1207.7823 1265.68675 63.51947 208.5818 5.028960e-08"
      ]
     },
     "metadata": {},
     "output_type": "display_data"
    }
   ],
   "source": [
    "drop1(m2, test = \"F\")"
   ]
  },
  {
   "cell_type": "code",
   "execution_count": 15,
   "id": "df150edb-abe1-47b0-ba11-6e811f7a6d35",
   "metadata": {},
   "outputs": [],
   "source": [
    "##### 전진선택법 \n",
    "m0 = lm(y ~ 1, data = dt)"
   ]
  },
  {
   "cell_type": "code",
   "execution_count": 16,
   "id": "6c1be6ef-fe08-4c1d-8152-0a89c21c0e66",
   "metadata": {},
   "outputs": [
    {
     "data": {
      "text/html": [
       "<table class=\"dataframe\">\n",
       "<caption>A anova: 5 × 6</caption>\n",
       "<thead>\n",
       "\t<tr><th></th><th scope=col>Df</th><th scope=col>Sum of Sq</th><th scope=col>RSS</th><th scope=col>AIC</th><th scope=col>F value</th><th scope=col>Pr(&gt;F)</th></tr>\n",
       "\t<tr><th></th><th scope=col>&lt;dbl&gt;</th><th scope=col>&lt;dbl&gt;</th><th scope=col>&lt;dbl&gt;</th><th scope=col>&lt;dbl&gt;</th><th scope=col>&lt;dbl&gt;</th><th scope=col>&lt;dbl&gt;</th></tr>\n",
       "</thead>\n",
       "<tbody>\n",
       "\t<tr><th scope=row>&lt;none&gt;</th><td>NA</td><td>       NA</td><td>2715.7631</td><td>71.44443</td><td>       NA</td><td>          NA</td></tr>\n",
       "\t<tr><th scope=row>x1</th><td> 1</td><td>1450.0763</td><td>1265.6867</td><td>63.51947</td><td>12.602518</td><td>0.0045520446</td></tr>\n",
       "\t<tr><th scope=row>x2</th><td> 1</td><td>1809.4267</td><td> 906.3363</td><td>59.17799</td><td>21.960605</td><td>0.0006648249</td></tr>\n",
       "\t<tr><th scope=row>x3</th><td> 1</td><td> 776.3626</td><td>1939.4005</td><td>69.06740</td><td> 4.403417</td><td>0.0597623242</td></tr>\n",
       "\t<tr><th scope=row>x4</th><td> 1</td><td>1831.8962</td><td> 883.8669</td><td>58.85164</td><td>22.798520</td><td>0.0005762318</td></tr>\n",
       "</tbody>\n",
       "</table>\n"
      ],
      "text/latex": [
       "A anova: 5 × 6\n",
       "\\begin{tabular}{r|llllll}\n",
       "  & Df & Sum of Sq & RSS & AIC & F value & Pr(>F)\\\\\n",
       "  & <dbl> & <dbl> & <dbl> & <dbl> & <dbl> & <dbl>\\\\\n",
       "\\hline\n",
       "\t<none> & NA &        NA & 2715.7631 & 71.44443 &        NA &           NA\\\\\n",
       "\tx1 &  1 & 1450.0763 & 1265.6867 & 63.51947 & 12.602518 & 0.0045520446\\\\\n",
       "\tx2 &  1 & 1809.4267 &  906.3363 & 59.17799 & 21.960605 & 0.0006648249\\\\\n",
       "\tx3 &  1 &  776.3626 & 1939.4005 & 69.06740 &  4.403417 & 0.0597623242\\\\\n",
       "\tx4 &  1 & 1831.8962 &  883.8669 & 58.85164 & 22.798520 & 0.0005762318\\\\\n",
       "\\end{tabular}\n"
      ],
      "text/markdown": [
       "\n",
       "A anova: 5 × 6\n",
       "\n",
       "| <!--/--> | Df &lt;dbl&gt; | Sum of Sq &lt;dbl&gt; | RSS &lt;dbl&gt; | AIC &lt;dbl&gt; | F value &lt;dbl&gt; | Pr(&gt;F) &lt;dbl&gt; |\n",
       "|---|---|---|---|---|---|---|\n",
       "| &lt;none&gt; | NA |        NA | 2715.7631 | 71.44443 |        NA |           NA |\n",
       "| x1 |  1 | 1450.0763 | 1265.6867 | 63.51947 | 12.602518 | 0.0045520446 |\n",
       "| x2 |  1 | 1809.4267 |  906.3363 | 59.17799 | 21.960605 | 0.0006648249 |\n",
       "| x3 |  1 |  776.3626 | 1939.4005 | 69.06740 |  4.403417 | 0.0597623242 |\n",
       "| x4 |  1 | 1831.8962 |  883.8669 | 58.85164 | 22.798520 | 0.0005762318 |\n",
       "\n"
      ],
      "text/plain": [
       "       Df Sum of Sq RSS       AIC      F value   Pr(>F)      \n",
       "<none> NA        NA 2715.7631 71.44443        NA           NA\n",
       "x1      1 1450.0763 1265.6867 63.51947 12.602518 0.0045520446\n",
       "x2      1 1809.4267  906.3363 59.17799 21.960605 0.0006648249\n",
       "x3      1  776.3626 1939.4005 69.06740  4.403417 0.0597623242\n",
       "x4      1 1831.8962  883.8669 58.85164 22.798520 0.0005762318"
      ]
     },
     "metadata": {},
     "output_type": "display_data"
    }
   ],
   "source": [
    "add1(m0, \n",
    "     scope = y ~  x1 + x2 + x3+ x4,\n",
    "     test = \"F\")  ## x4추가"
   ]
  },
  {
   "cell_type": "markdown",
   "id": "68a92e75-586c-415a-8a65-34b9b80f51db",
   "metadata": {},
   "source": [
    "절편만 있는 모형에서 시작 \n",
    "\n",
    "RSS는 SST로 시작(설명 변수 없는 SSE니까) 사실 SSE\n",
    "\n",
    "x4의 f value가장 큼"
   ]
  },
  {
   "cell_type": "code",
   "execution_count": 17,
   "id": "1b2ef8cf-5249-4cc8-8b8a-2e28cd3d5b18",
   "metadata": {},
   "outputs": [],
   "source": [
    "m1 <- update(m0, ~ . +x4)"
   ]
  },
  {
   "cell_type": "code",
   "execution_count": 18,
   "id": "1ea0e7ef-46ab-489f-ae2f-b1679c0bf5eb",
   "metadata": {},
   "outputs": [
    {
     "data": {
      "text/plain": [
       "\n",
       "Call:\n",
       "lm(formula = y ~ x4, data = dt)\n",
       "\n",
       "Residuals:\n",
       "    Min      1Q  Median      3Q     Max \n",
       "-12.589  -8.228   1.495   4.726  17.524 \n",
       "\n",
       "Coefficients:\n",
       "            Estimate Std. Error t value Pr(>|t|)    \n",
       "(Intercept) 117.5679     5.2622  22.342 1.62e-10 ***\n",
       "x4           -0.7382     0.1546  -4.775 0.000576 ***\n",
       "---\n",
       "Signif. codes:  0 ‘***’ 0.001 ‘**’ 0.01 ‘*’ 0.05 ‘.’ 0.1 ‘ ’ 1\n",
       "\n",
       "Residual standard error: 8.964 on 11 degrees of freedom\n",
       "Multiple R-squared:  0.6745,\tAdjusted R-squared:  0.645 \n",
       "F-statistic:  22.8 on 1 and 11 DF,  p-value: 0.0005762\n"
      ]
     },
     "metadata": {},
     "output_type": "display_data"
    }
   ],
   "source": [
    "summary(m1)"
   ]
  },
  {
   "cell_type": "code",
   "execution_count": 19,
   "id": "be125f51-be24-4813-96ed-13d49241dbb1",
   "metadata": {},
   "outputs": [
    {
     "data": {
      "text/html": [
       "<table class=\"dataframe\">\n",
       "<caption>A anova: 4 × 6</caption>\n",
       "<thead>\n",
       "\t<tr><th></th><th scope=col>Df</th><th scope=col>Sum of Sq</th><th scope=col>RSS</th><th scope=col>AIC</th><th scope=col>F value</th><th scope=col>Pr(&gt;F)</th></tr>\n",
       "\t<tr><th></th><th scope=col>&lt;dbl&gt;</th><th scope=col>&lt;dbl&gt;</th><th scope=col>&lt;dbl&gt;</th><th scope=col>&lt;dbl&gt;</th><th scope=col>&lt;dbl&gt;</th><th scope=col>&lt;dbl&gt;</th></tr>\n",
       "</thead>\n",
       "<tbody>\n",
       "\t<tr><th scope=row>&lt;none&gt;</th><td>NA</td><td>       NA</td><td>883.86692</td><td>58.85164</td><td>         NA</td><td>          NA</td></tr>\n",
       "\t<tr><th scope=row>x1</th><td> 1</td><td>809.10480</td><td> 74.76211</td><td>28.74170</td><td>108.2239093</td><td>1.105281e-06</td></tr>\n",
       "\t<tr><th scope=row>x2</th><td> 1</td><td> 14.98679</td><td>868.88013</td><td>60.62933</td><td>  0.1724839</td><td>6.866842e-01</td></tr>\n",
       "\t<tr><th scope=row>x3</th><td> 1</td><td>708.12891</td><td>175.73800</td><td>39.85258</td><td> 40.2945802</td><td>8.375467e-05</td></tr>\n",
       "</tbody>\n",
       "</table>\n"
      ],
      "text/latex": [
       "A anova: 4 × 6\n",
       "\\begin{tabular}{r|llllll}\n",
       "  & Df & Sum of Sq & RSS & AIC & F value & Pr(>F)\\\\\n",
       "  & <dbl> & <dbl> & <dbl> & <dbl> & <dbl> & <dbl>\\\\\n",
       "\\hline\n",
       "\t<none> & NA &        NA & 883.86692 & 58.85164 &          NA &           NA\\\\\n",
       "\tx1 &  1 & 809.10480 &  74.76211 & 28.74170 & 108.2239093 & 1.105281e-06\\\\\n",
       "\tx2 &  1 &  14.98679 & 868.88013 & 60.62933 &   0.1724839 & 6.866842e-01\\\\\n",
       "\tx3 &  1 & 708.12891 & 175.73800 & 39.85258 &  40.2945802 & 8.375467e-05\\\\\n",
       "\\end{tabular}\n"
      ],
      "text/markdown": [
       "\n",
       "A anova: 4 × 6\n",
       "\n",
       "| <!--/--> | Df &lt;dbl&gt; | Sum of Sq &lt;dbl&gt; | RSS &lt;dbl&gt; | AIC &lt;dbl&gt; | F value &lt;dbl&gt; | Pr(&gt;F) &lt;dbl&gt; |\n",
       "|---|---|---|---|---|---|---|\n",
       "| &lt;none&gt; | NA |        NA | 883.86692 | 58.85164 |          NA |           NA |\n",
       "| x1 |  1 | 809.10480 |  74.76211 | 28.74170 | 108.2239093 | 1.105281e-06 |\n",
       "| x2 |  1 |  14.98679 | 868.88013 | 60.62933 |   0.1724839 | 6.866842e-01 |\n",
       "| x3 |  1 | 708.12891 | 175.73800 | 39.85258 |  40.2945802 | 8.375467e-05 |\n",
       "\n"
      ],
      "text/plain": [
       "       Df Sum of Sq RSS       AIC      F value     Pr(>F)      \n",
       "<none> NA        NA 883.86692 58.85164          NA           NA\n",
       "x1      1 809.10480  74.76211 28.74170 108.2239093 1.105281e-06\n",
       "x2      1  14.98679 868.88013 60.62933   0.1724839 6.866842e-01\n",
       "x3      1 708.12891 175.73800 39.85258  40.2945802 8.375467e-05"
      ]
     },
     "metadata": {},
     "output_type": "display_data"
    }
   ],
   "source": [
    "add1(m1, \n",
    "     scope = y ~  x1 + x2 + x3+ x4,\n",
    "     test = \"F\")  ## x1추가"
   ]
  },
  {
   "cell_type": "code",
   "execution_count": 20,
   "id": "0190c479-f3b1-4284-bdd6-798ee493bcce",
   "metadata": {},
   "outputs": [],
   "source": [
    "m2 <- update(m1, ~ . +x1)"
   ]
  },
  {
   "cell_type": "code",
   "execution_count": 21,
   "id": "4dc455d6-166e-4df3-b4ef-15bb4fbd5982",
   "metadata": {},
   "outputs": [
    {
     "data": {
      "text/plain": [
       "\n",
       "Call:\n",
       "lm(formula = y ~ x4 + x1, data = dt)\n",
       "\n",
       "Residuals:\n",
       "    Min      1Q  Median      3Q     Max \n",
       "-5.0234 -1.4737  0.1371  1.7305  3.7701 \n",
       "\n",
       "Coefficients:\n",
       "             Estimate Std. Error t value Pr(>|t|)    \n",
       "(Intercept) 103.09738    2.12398   48.54 3.32e-13 ***\n",
       "x4           -0.61395    0.04864  -12.62 1.81e-07 ***\n",
       "x1            1.43996    0.13842   10.40 1.11e-06 ***\n",
       "---\n",
       "Signif. codes:  0 ‘***’ 0.001 ‘**’ 0.01 ‘*’ 0.05 ‘.’ 0.1 ‘ ’ 1\n",
       "\n",
       "Residual standard error: 2.734 on 10 degrees of freedom\n",
       "Multiple R-squared:  0.9725,\tAdjusted R-squared:  0.967 \n",
       "F-statistic: 176.6 on 2 and 10 DF,  p-value: 1.581e-08\n"
      ]
     },
     "metadata": {},
     "output_type": "display_data"
    }
   ],
   "source": [
    "summary(m2)"
   ]
  },
  {
   "cell_type": "code",
   "execution_count": 22,
   "id": "8f2842b9-62c6-4acd-9cf7-9f5c94ae29e2",
   "metadata": {},
   "outputs": [
    {
     "data": {
      "text/html": [
       "<table class=\"dataframe\">\n",
       "<caption>A anova: 3 × 6</caption>\n",
       "<thead>\n",
       "\t<tr><th></th><th scope=col>Df</th><th scope=col>Sum of Sq</th><th scope=col>RSS</th><th scope=col>AIC</th><th scope=col>F value</th><th scope=col>Pr(&gt;F)</th></tr>\n",
       "\t<tr><th></th><th scope=col>&lt;dbl&gt;</th><th scope=col>&lt;dbl&gt;</th><th scope=col>&lt;dbl&gt;</th><th scope=col>&lt;dbl&gt;</th><th scope=col>&lt;dbl&gt;</th><th scope=col>&lt;dbl&gt;</th></tr>\n",
       "</thead>\n",
       "<tbody>\n",
       "\t<tr><th scope=row>&lt;none&gt;</th><td>NA</td><td>      NA</td><td>74.76211</td><td>28.74170</td><td>      NA</td><td>        NA</td></tr>\n",
       "\t<tr><th scope=row>x2</th><td> 1</td><td>26.78938</td><td>47.97273</td><td>24.97388</td><td>5.025865</td><td>0.05168735</td></tr>\n",
       "\t<tr><th scope=row>x3</th><td> 1</td><td>23.92599</td><td>50.83612</td><td>25.72755</td><td>4.235846</td><td>0.06969226</td></tr>\n",
       "</tbody>\n",
       "</table>\n"
      ],
      "text/latex": [
       "A anova: 3 × 6\n",
       "\\begin{tabular}{r|llllll}\n",
       "  & Df & Sum of Sq & RSS & AIC & F value & Pr(>F)\\\\\n",
       "  & <dbl> & <dbl> & <dbl> & <dbl> & <dbl> & <dbl>\\\\\n",
       "\\hline\n",
       "\t<none> & NA &       NA & 74.76211 & 28.74170 &       NA &         NA\\\\\n",
       "\tx2 &  1 & 26.78938 & 47.97273 & 24.97388 & 5.025865 & 0.05168735\\\\\n",
       "\tx3 &  1 & 23.92599 & 50.83612 & 25.72755 & 4.235846 & 0.06969226\\\\\n",
       "\\end{tabular}\n"
      ],
      "text/markdown": [
       "\n",
       "A anova: 3 × 6\n",
       "\n",
       "| <!--/--> | Df &lt;dbl&gt; | Sum of Sq &lt;dbl&gt; | RSS &lt;dbl&gt; | AIC &lt;dbl&gt; | F value &lt;dbl&gt; | Pr(&gt;F) &lt;dbl&gt; |\n",
       "|---|---|---|---|---|---|---|\n",
       "| &lt;none&gt; | NA |       NA | 74.76211 | 28.74170 |       NA |         NA |\n",
       "| x2 |  1 | 26.78938 | 47.97273 | 24.97388 | 5.025865 | 0.05168735 |\n",
       "| x3 |  1 | 23.92599 | 50.83612 | 25.72755 | 4.235846 | 0.06969226 |\n",
       "\n"
      ],
      "text/plain": [
       "       Df Sum of Sq RSS      AIC      F value  Pr(>F)    \n",
       "<none> NA       NA  74.76211 28.74170       NA         NA\n",
       "x2      1 26.78938  47.97273 24.97388 5.025865 0.05168735\n",
       "x3      1 23.92599  50.83612 25.72755 4.235846 0.06969226"
      ]
     },
     "metadata": {},
     "output_type": "display_data"
    }
   ],
   "source": [
    "add1(m2, \n",
    "     scope = y ~  x1 + x2 + x3+ x4,\n",
    "     test = \"F\")  ## stop"
   ]
  },
  {
   "cell_type": "markdown",
   "id": "d1f36e41-8855-4e15-bdac-faa118cb680a",
   "metadata": {},
   "source": [
    "모두 0.05보다 p값이 큼, 멈추자"
   ]
  },
  {
   "cell_type": "markdown",
   "id": "2dbd57e0-4af7-41ba-9407-7dd52cce724c",
   "metadata": {},
   "source": [
    "## 단계적선택법"
   ]
  },
  {
   "cell_type": "code",
   "execution_count": 23,
   "id": "fc131d62-d7e7-45a6-b702-b40bdea7b8dc",
   "metadata": {},
   "outputs": [],
   "source": [
    "m0 = lm(y ~ 1, data = dt)"
   ]
  },
  {
   "cell_type": "code",
   "execution_count": 24,
   "id": "2cff8f96-5b28-4df0-ae83-ce336b12d038",
   "metadata": {},
   "outputs": [
    {
     "data": {
      "text/html": [
       "<table class=\"dataframe\">\n",
       "<caption>A anova: 5 × 6</caption>\n",
       "<thead>\n",
       "\t<tr><th></th><th scope=col>Df</th><th scope=col>Sum of Sq</th><th scope=col>RSS</th><th scope=col>AIC</th><th scope=col>F value</th><th scope=col>Pr(&gt;F)</th></tr>\n",
       "\t<tr><th></th><th scope=col>&lt;dbl&gt;</th><th scope=col>&lt;dbl&gt;</th><th scope=col>&lt;dbl&gt;</th><th scope=col>&lt;dbl&gt;</th><th scope=col>&lt;dbl&gt;</th><th scope=col>&lt;dbl&gt;</th></tr>\n",
       "</thead>\n",
       "<tbody>\n",
       "\t<tr><th scope=row>&lt;none&gt;</th><td>NA</td><td>       NA</td><td>2715.7631</td><td>71.44443</td><td>       NA</td><td>          NA</td></tr>\n",
       "\t<tr><th scope=row>x1</th><td> 1</td><td>1450.0763</td><td>1265.6867</td><td>63.51947</td><td>12.602518</td><td>0.0045520446</td></tr>\n",
       "\t<tr><th scope=row>x2</th><td> 1</td><td>1809.4267</td><td> 906.3363</td><td>59.17799</td><td>21.960605</td><td>0.0006648249</td></tr>\n",
       "\t<tr><th scope=row>x3</th><td> 1</td><td> 776.3626</td><td>1939.4005</td><td>69.06740</td><td> 4.403417</td><td>0.0597623242</td></tr>\n",
       "\t<tr><th scope=row>x4</th><td> 1</td><td>1831.8962</td><td> 883.8669</td><td>58.85164</td><td>22.798520</td><td>0.0005762318</td></tr>\n",
       "</tbody>\n",
       "</table>\n"
      ],
      "text/latex": [
       "A anova: 5 × 6\n",
       "\\begin{tabular}{r|llllll}\n",
       "  & Df & Sum of Sq & RSS & AIC & F value & Pr(>F)\\\\\n",
       "  & <dbl> & <dbl> & <dbl> & <dbl> & <dbl> & <dbl>\\\\\n",
       "\\hline\n",
       "\t<none> & NA &        NA & 2715.7631 & 71.44443 &        NA &           NA\\\\\n",
       "\tx1 &  1 & 1450.0763 & 1265.6867 & 63.51947 & 12.602518 & 0.0045520446\\\\\n",
       "\tx2 &  1 & 1809.4267 &  906.3363 & 59.17799 & 21.960605 & 0.0006648249\\\\\n",
       "\tx3 &  1 &  776.3626 & 1939.4005 & 69.06740 &  4.403417 & 0.0597623242\\\\\n",
       "\tx4 &  1 & 1831.8962 &  883.8669 & 58.85164 & 22.798520 & 0.0005762318\\\\\n",
       "\\end{tabular}\n"
      ],
      "text/markdown": [
       "\n",
       "A anova: 5 × 6\n",
       "\n",
       "| <!--/--> | Df &lt;dbl&gt; | Sum of Sq &lt;dbl&gt; | RSS &lt;dbl&gt; | AIC &lt;dbl&gt; | F value &lt;dbl&gt; | Pr(&gt;F) &lt;dbl&gt; |\n",
       "|---|---|---|---|---|---|---|\n",
       "| &lt;none&gt; | NA |        NA | 2715.7631 | 71.44443 |        NA |           NA |\n",
       "| x1 |  1 | 1450.0763 | 1265.6867 | 63.51947 | 12.602518 | 0.0045520446 |\n",
       "| x2 |  1 | 1809.4267 |  906.3363 | 59.17799 | 21.960605 | 0.0006648249 |\n",
       "| x3 |  1 |  776.3626 | 1939.4005 | 69.06740 |  4.403417 | 0.0597623242 |\n",
       "| x4 |  1 | 1831.8962 |  883.8669 | 58.85164 | 22.798520 | 0.0005762318 |\n",
       "\n"
      ],
      "text/plain": [
       "       Df Sum of Sq RSS       AIC      F value   Pr(>F)      \n",
       "<none> NA        NA 2715.7631 71.44443        NA           NA\n",
       "x1      1 1450.0763 1265.6867 63.51947 12.602518 0.0045520446\n",
       "x2      1 1809.4267  906.3363 59.17799 21.960605 0.0006648249\n",
       "x3      1  776.3626 1939.4005 69.06740  4.403417 0.0597623242\n",
       "x4      1 1831.8962  883.8669 58.85164 22.798520 0.0005762318"
      ]
     },
     "metadata": {},
     "output_type": "display_data"
    }
   ],
   "source": [
    "add1(m0, \n",
    "     scope = y ~  x1 + x2 + x3+ x4,\n",
    "     test = \"F\")  ## x4추가"
   ]
  },
  {
   "cell_type": "code",
   "execution_count": 25,
   "id": "6007c801-50a4-4edb-b203-731cea3f908e",
   "metadata": {},
   "outputs": [],
   "source": [
    "m1 <- update(m0, ~ . +x4)"
   ]
  },
  {
   "cell_type": "code",
   "execution_count": 26,
   "id": "b31e1cc1-2267-40a3-8bc7-3a1c69f39ae5",
   "metadata": {},
   "outputs": [
    {
     "data": {
      "text/plain": [
       "\n",
       "Call:\n",
       "lm(formula = y ~ x4, data = dt)\n",
       "\n",
       "Residuals:\n",
       "    Min      1Q  Median      3Q     Max \n",
       "-12.589  -8.228   1.495   4.726  17.524 \n",
       "\n",
       "Coefficients:\n",
       "            Estimate Std. Error t value Pr(>|t|)    \n",
       "(Intercept) 117.5679     5.2622  22.342 1.62e-10 ***\n",
       "x4           -0.7382     0.1546  -4.775 0.000576 ***\n",
       "---\n",
       "Signif. codes:  0 ‘***’ 0.001 ‘**’ 0.01 ‘*’ 0.05 ‘.’ 0.1 ‘ ’ 1\n",
       "\n",
       "Residual standard error: 8.964 on 11 degrees of freedom\n",
       "Multiple R-squared:  0.6745,\tAdjusted R-squared:  0.645 \n",
       "F-statistic:  22.8 on 1 and 11 DF,  p-value: 0.0005762\n"
      ]
     },
     "metadata": {},
     "output_type": "display_data"
    }
   ],
   "source": [
    "summary(m1)"
   ]
  },
  {
   "cell_type": "code",
   "execution_count": 27,
   "id": "c3845402-2630-44b7-9656-0b8db87f77b6",
   "metadata": {},
   "outputs": [
    {
     "data": {
      "text/html": [
       "<table class=\"dataframe\">\n",
       "<caption>A anova: 4 × 6</caption>\n",
       "<thead>\n",
       "\t<tr><th></th><th scope=col>Df</th><th scope=col>Sum of Sq</th><th scope=col>RSS</th><th scope=col>AIC</th><th scope=col>F value</th><th scope=col>Pr(&gt;F)</th></tr>\n",
       "\t<tr><th></th><th scope=col>&lt;dbl&gt;</th><th scope=col>&lt;dbl&gt;</th><th scope=col>&lt;dbl&gt;</th><th scope=col>&lt;dbl&gt;</th><th scope=col>&lt;dbl&gt;</th><th scope=col>&lt;dbl&gt;</th></tr>\n",
       "</thead>\n",
       "<tbody>\n",
       "\t<tr><th scope=row>&lt;none&gt;</th><td>NA</td><td>       NA</td><td>883.86692</td><td>58.85164</td><td>         NA</td><td>          NA</td></tr>\n",
       "\t<tr><th scope=row>x1</th><td> 1</td><td>809.10480</td><td> 74.76211</td><td>28.74170</td><td>108.2239093</td><td>1.105281e-06</td></tr>\n",
       "\t<tr><th scope=row>x2</th><td> 1</td><td> 14.98679</td><td>868.88013</td><td>60.62933</td><td>  0.1724839</td><td>6.866842e-01</td></tr>\n",
       "\t<tr><th scope=row>x3</th><td> 1</td><td>708.12891</td><td>175.73800</td><td>39.85258</td><td> 40.2945802</td><td>8.375467e-05</td></tr>\n",
       "</tbody>\n",
       "</table>\n"
      ],
      "text/latex": [
       "A anova: 4 × 6\n",
       "\\begin{tabular}{r|llllll}\n",
       "  & Df & Sum of Sq & RSS & AIC & F value & Pr(>F)\\\\\n",
       "  & <dbl> & <dbl> & <dbl> & <dbl> & <dbl> & <dbl>\\\\\n",
       "\\hline\n",
       "\t<none> & NA &        NA & 883.86692 & 58.85164 &          NA &           NA\\\\\n",
       "\tx1 &  1 & 809.10480 &  74.76211 & 28.74170 & 108.2239093 & 1.105281e-06\\\\\n",
       "\tx2 &  1 &  14.98679 & 868.88013 & 60.62933 &   0.1724839 & 6.866842e-01\\\\\n",
       "\tx3 &  1 & 708.12891 & 175.73800 & 39.85258 &  40.2945802 & 8.375467e-05\\\\\n",
       "\\end{tabular}\n"
      ],
      "text/markdown": [
       "\n",
       "A anova: 4 × 6\n",
       "\n",
       "| <!--/--> | Df &lt;dbl&gt; | Sum of Sq &lt;dbl&gt; | RSS &lt;dbl&gt; | AIC &lt;dbl&gt; | F value &lt;dbl&gt; | Pr(&gt;F) &lt;dbl&gt; |\n",
       "|---|---|---|---|---|---|---|\n",
       "| &lt;none&gt; | NA |        NA | 883.86692 | 58.85164 |          NA |           NA |\n",
       "| x1 |  1 | 809.10480 |  74.76211 | 28.74170 | 108.2239093 | 1.105281e-06 |\n",
       "| x2 |  1 |  14.98679 | 868.88013 | 60.62933 |   0.1724839 | 6.866842e-01 |\n",
       "| x3 |  1 | 708.12891 | 175.73800 | 39.85258 |  40.2945802 | 8.375467e-05 |\n",
       "\n"
      ],
      "text/plain": [
       "       Df Sum of Sq RSS       AIC      F value     Pr(>F)      \n",
       "<none> NA        NA 883.86692 58.85164          NA           NA\n",
       "x1      1 809.10480  74.76211 28.74170 108.2239093 1.105281e-06\n",
       "x2      1  14.98679 868.88013 60.62933   0.1724839 6.866842e-01\n",
       "x3      1 708.12891 175.73800 39.85258  40.2945802 8.375467e-05"
      ]
     },
     "metadata": {},
     "output_type": "display_data"
    }
   ],
   "source": [
    "add1(m1, \n",
    "     scope = y ~  x1 + x2 + x3+ x4,\n",
    "     test = \"F\")  ## x1추가"
   ]
  },
  {
   "cell_type": "code",
   "execution_count": 28,
   "id": "b1f52e16-6a48-4dd7-9d97-fc7549bb8600",
   "metadata": {},
   "outputs": [],
   "source": [
    "m2 <- update(m1, ~ . +x1)"
   ]
  },
  {
   "cell_type": "code",
   "execution_count": 29,
   "id": "32abef03-100d-44cf-a8f6-9b2d0a8dbb28",
   "metadata": {},
   "outputs": [
    {
     "data": {
      "text/plain": [
       "\n",
       "Call:\n",
       "lm(formula = y ~ x4 + x1, data = dt)\n",
       "\n",
       "Residuals:\n",
       "    Min      1Q  Median      3Q     Max \n",
       "-5.0234 -1.4737  0.1371  1.7305  3.7701 \n",
       "\n",
       "Coefficients:\n",
       "             Estimate Std. Error t value Pr(>|t|)    \n",
       "(Intercept) 103.09738    2.12398   48.54 3.32e-13 ***\n",
       "x4           -0.61395    0.04864  -12.62 1.81e-07 ***\n",
       "x1            1.43996    0.13842   10.40 1.11e-06 ***\n",
       "---\n",
       "Signif. codes:  0 ‘***’ 0.001 ‘**’ 0.01 ‘*’ 0.05 ‘.’ 0.1 ‘ ’ 1\n",
       "\n",
       "Residual standard error: 2.734 on 10 degrees of freedom\n",
       "Multiple R-squared:  0.9725,\tAdjusted R-squared:  0.967 \n",
       "F-statistic: 176.6 on 2 and 10 DF,  p-value: 1.581e-08\n"
      ]
     },
     "metadata": {},
     "output_type": "display_data"
    }
   ],
   "source": [
    "summary(m2)  #제거 없음"
   ]
  },
  {
   "cell_type": "code",
   "execution_count": 30,
   "id": "b0ed1c7d-ad2b-4592-83dc-52d1dbc09184",
   "metadata": {},
   "outputs": [
    {
     "data": {
      "text/html": [
       "<table class=\"dataframe\">\n",
       "<caption>A anova: 3 × 6</caption>\n",
       "<thead>\n",
       "\t<tr><th></th><th scope=col>Df</th><th scope=col>Sum of Sq</th><th scope=col>RSS</th><th scope=col>AIC</th><th scope=col>F value</th><th scope=col>Pr(&gt;F)</th></tr>\n",
       "\t<tr><th></th><th scope=col>&lt;dbl&gt;</th><th scope=col>&lt;dbl&gt;</th><th scope=col>&lt;dbl&gt;</th><th scope=col>&lt;dbl&gt;</th><th scope=col>&lt;dbl&gt;</th><th scope=col>&lt;dbl&gt;</th></tr>\n",
       "</thead>\n",
       "<tbody>\n",
       "\t<tr><th scope=row>&lt;none&gt;</th><td>NA</td><td>      NA</td><td>74.76211</td><td>28.74170</td><td>      NA</td><td>        NA</td></tr>\n",
       "\t<tr><th scope=row>x2</th><td> 1</td><td>26.78938</td><td>47.97273</td><td>24.97388</td><td>5.025865</td><td>0.05168735</td></tr>\n",
       "\t<tr><th scope=row>x3</th><td> 1</td><td>23.92599</td><td>50.83612</td><td>25.72755</td><td>4.235846</td><td>0.06969226</td></tr>\n",
       "</tbody>\n",
       "</table>\n"
      ],
      "text/latex": [
       "A anova: 3 × 6\n",
       "\\begin{tabular}{r|llllll}\n",
       "  & Df & Sum of Sq & RSS & AIC & F value & Pr(>F)\\\\\n",
       "  & <dbl> & <dbl> & <dbl> & <dbl> & <dbl> & <dbl>\\\\\n",
       "\\hline\n",
       "\t<none> & NA &       NA & 74.76211 & 28.74170 &       NA &         NA\\\\\n",
       "\tx2 &  1 & 26.78938 & 47.97273 & 24.97388 & 5.025865 & 0.05168735\\\\\n",
       "\tx3 &  1 & 23.92599 & 50.83612 & 25.72755 & 4.235846 & 0.06969226\\\\\n",
       "\\end{tabular}\n"
      ],
      "text/markdown": [
       "\n",
       "A anova: 3 × 6\n",
       "\n",
       "| <!--/--> | Df &lt;dbl&gt; | Sum of Sq &lt;dbl&gt; | RSS &lt;dbl&gt; | AIC &lt;dbl&gt; | F value &lt;dbl&gt; | Pr(&gt;F) &lt;dbl&gt; |\n",
       "|---|---|---|---|---|---|---|\n",
       "| &lt;none&gt; | NA |       NA | 74.76211 | 28.74170 |       NA |         NA |\n",
       "| x2 |  1 | 26.78938 | 47.97273 | 24.97388 | 5.025865 | 0.05168735 |\n",
       "| x3 |  1 | 23.92599 | 50.83612 | 25.72755 | 4.235846 | 0.06969226 |\n",
       "\n"
      ],
      "text/plain": [
       "       Df Sum of Sq RSS      AIC      F value  Pr(>F)    \n",
       "<none> NA       NA  74.76211 28.74170       NA         NA\n",
       "x2      1 26.78938  47.97273 24.97388 5.025865 0.05168735\n",
       "x3      1 23.92599  50.83612 25.72755 4.235846 0.06969226"
      ]
     },
     "metadata": {},
     "output_type": "display_data"
    }
   ],
   "source": [
    "add1(m2, \n",
    "     scope = y ~  x1 + x2 + x3+ x4,\n",
    "     test = \"F\")  ## x2추가"
   ]
  },
  {
   "cell_type": "code",
   "execution_count": 31,
   "id": "84b15965-848e-403d-b6c0-cec9d924b872",
   "metadata": {},
   "outputs": [],
   "source": [
    "m3 <- update(m2, ~ . +x2)"
   ]
  },
  {
   "cell_type": "code",
   "execution_count": 32,
   "id": "e2aecfb9-e2fc-43d5-bedd-533b655e1c56",
   "metadata": {},
   "outputs": [
    {
     "data": {
      "text/plain": [
       "\n",
       "Call:\n",
       "lm(formula = y ~ x4 + x1 + x2, data = dt)\n",
       "\n",
       "Residuals:\n",
       "    Min      1Q  Median      3Q     Max \n",
       "-3.0919 -1.8016  0.2562  1.2818  3.8982 \n",
       "\n",
       "Coefficients:\n",
       "            Estimate Std. Error t value Pr(>|t|)    \n",
       "(Intercept)  71.6483    14.1424   5.066 0.000675 ***\n",
       "x4           -0.2365     0.1733  -1.365 0.205395    \n",
       "x1            1.4519     0.1170  12.410 5.78e-07 ***\n",
       "x2            0.4161     0.1856   2.242 0.051687 .  \n",
       "---\n",
       "Signif. codes:  0 ‘***’ 0.001 ‘**’ 0.01 ‘*’ 0.05 ‘.’ 0.1 ‘ ’ 1\n",
       "\n",
       "Residual standard error: 2.309 on 9 degrees of freedom\n",
       "Multiple R-squared:  0.9823,\tAdjusted R-squared:  0.9764 \n",
       "F-statistic: 166.8 on 3 and 9 DF,  p-value: 3.323e-08\n"
      ]
     },
     "metadata": {},
     "output_type": "display_data"
    }
   ],
   "source": [
    "summary(m3)  #x4 제거"
   ]
  },
  {
   "cell_type": "code",
   "execution_count": 33,
   "id": "1bc035e5-b353-43af-8acd-0205bd49684d",
   "metadata": {},
   "outputs": [],
   "source": [
    "m4 <- update(m3, ~ . -x4)"
   ]
  },
  {
   "cell_type": "code",
   "execution_count": 34,
   "id": "42b35b9c-ec98-4242-99ca-56f04ed9399e",
   "metadata": {},
   "outputs": [
    {
     "data": {
      "text/html": [
       "<table class=\"dataframe\">\n",
       "<caption>A anova: 3 × 6</caption>\n",
       "<thead>\n",
       "\t<tr><th></th><th scope=col>Df</th><th scope=col>Sum of Sq</th><th scope=col>RSS</th><th scope=col>AIC</th><th scope=col>F value</th><th scope=col>Pr(&gt;F)</th></tr>\n",
       "\t<tr><th></th><th scope=col>&lt;dbl&gt;</th><th scope=col>&lt;dbl&gt;</th><th scope=col>&lt;dbl&gt;</th><th scope=col>&lt;dbl&gt;</th><th scope=col>&lt;dbl&gt;</th><th scope=col>&lt;dbl&gt;</th></tr>\n",
       "</thead>\n",
       "<tbody>\n",
       "\t<tr><th scope=row>&lt;none&gt;</th><td>NA</td><td>      NA</td><td>57.90448</td><td>25.41999</td><td>      NA</td><td>       NA</td></tr>\n",
       "\t<tr><th scope=row>x3</th><td> 1</td><td>9.793869</td><td>48.11061</td><td>25.01120</td><td>1.832128</td><td>0.2088895</td></tr>\n",
       "\t<tr><th scope=row>x4</th><td> 1</td><td>9.931754</td><td>47.97273</td><td>24.97388</td><td>1.863262</td><td>0.2053954</td></tr>\n",
       "</tbody>\n",
       "</table>\n"
      ],
      "text/latex": [
       "A anova: 3 × 6\n",
       "\\begin{tabular}{r|llllll}\n",
       "  & Df & Sum of Sq & RSS & AIC & F value & Pr(>F)\\\\\n",
       "  & <dbl> & <dbl> & <dbl> & <dbl> & <dbl> & <dbl>\\\\\n",
       "\\hline\n",
       "\t<none> & NA &       NA & 57.90448 & 25.41999 &       NA &        NA\\\\\n",
       "\tx3 &  1 & 9.793869 & 48.11061 & 25.01120 & 1.832128 & 0.2088895\\\\\n",
       "\tx4 &  1 & 9.931754 & 47.97273 & 24.97388 & 1.863262 & 0.2053954\\\\\n",
       "\\end{tabular}\n"
      ],
      "text/markdown": [
       "\n",
       "A anova: 3 × 6\n",
       "\n",
       "| <!--/--> | Df &lt;dbl&gt; | Sum of Sq &lt;dbl&gt; | RSS &lt;dbl&gt; | AIC &lt;dbl&gt; | F value &lt;dbl&gt; | Pr(&gt;F) &lt;dbl&gt; |\n",
       "|---|---|---|---|---|---|---|\n",
       "| &lt;none&gt; | NA |       NA | 57.90448 | 25.41999 |       NA |        NA |\n",
       "| x3 |  1 | 9.793869 | 48.11061 | 25.01120 | 1.832128 | 0.2088895 |\n",
       "| x4 |  1 | 9.931754 | 47.97273 | 24.97388 | 1.863262 | 0.2053954 |\n",
       "\n"
      ],
      "text/plain": [
       "       Df Sum of Sq RSS      AIC      F value  Pr(>F)   \n",
       "<none> NA       NA  57.90448 25.41999       NA        NA\n",
       "x3      1 9.793869  48.11061 25.01120 1.832128 0.2088895\n",
       "x4      1 9.931754  47.97273 24.97388 1.863262 0.2053954"
      ]
     },
     "metadata": {},
     "output_type": "display_data"
    }
   ],
   "source": [
    "add1(m4, \n",
    "     scope = y ~  x1 + x2 + x3+ x4,\n",
    "     test = \"F\") #stop"
   ]
  },
  {
   "cell_type": "code",
   "execution_count": 35,
   "id": "805a696f-9d60-455f-b09d-281c49ea75cf",
   "metadata": {},
   "outputs": [],
   "source": [
    "#install.packages(\"leaps\")"
   ]
  },
  {
   "cell_type": "code",
   "execution_count": 36,
   "id": "7b79044b-59a1-4a49-b605-eaf24e5f2492",
   "metadata": {},
   "outputs": [],
   "source": [
    "library(leaps)"
   ]
  },
  {
   "cell_type": "code",
   "execution_count": 37,
   "id": "5fd5f1a5-6844-4589-8bd1-664f761ad97a",
   "metadata": {},
   "outputs": [],
   "source": [
    "fit<-regsubsets(y~., data=dt, nbest=1,nvmax=4,\n",
    "                # method=c(\"exhaustive\",\"backward\", \n",
    "                #          \"forward\", \"seqrep\")\n",
    "                method='forward',\n",
    "                )"
   ]
  },
  {
   "cell_type": "markdown",
   "id": "889817a9-f103-4e79-8114-b35d5dcfeb90",
   "metadata": {},
   "source": [
    "full model, nbest = 1개만 추가 nvmax 최대 4개 포함 가능"
   ]
  },
  {
   "cell_type": "code",
   "execution_count": 38,
   "id": "052f39ed-5666-4954-8d48-39dd0d43364f",
   "metadata": {},
   "outputs": [],
   "source": [
    "a <- summary(fit)"
   ]
  },
  {
   "cell_type": "code",
   "execution_count": 39,
   "id": "cf7dcff1-960d-4d9e-b694-738089bcc1e2",
   "metadata": {},
   "outputs": [
    {
     "name": "stdout",
     "output_type": "stream",
     "text": [
      "List of 8\n",
      " $ which : logi [1:4, 1:5] TRUE TRUE TRUE TRUE FALSE TRUE ...\n",
      "  ..- attr(*, \"dimnames\")=List of 2\n",
      "  .. ..$ : chr [1:4] \"1\" \"2\" \"3\" \"4\"\n",
      "  .. ..$ : chr [1:5] \"(Intercept)\" \"x1\" \"x2\" \"x3\" ...\n",
      " $ rsq   : num [1:4] 0.675 0.972 0.982 0.982\n",
      " $ rss   : num [1:4] 883.9 74.8 48 47.9\n",
      " $ adjr2 : num [1:4] 0.645 0.967 0.976 0.974\n",
      " $ cp    : num [1:4] 138.73 5.5 3.02 5\n",
      " $ bic   : num [1:4] -9.46 -39.01 -42.21 -39.68\n",
      " $ outmat: chr [1:4, 1:4] \" \" \"*\" \"*\" \"*\" ...\n",
      "  ..- attr(*, \"dimnames\")=List of 2\n",
      "  .. ..$ : chr [1:4] \"1  ( 1 )\" \"2  ( 1 )\" \"3  ( 1 )\" \"4  ( 1 )\"\n",
      "  .. ..$ : chr [1:4] \"x1\" \"x2\" \"x3\" \"x4\"\n",
      " $ obj   :List of 28\n",
      "  ..$ np       : int 5\n",
      "  ..$ nrbar    : int 10\n",
      "  ..$ d        : num [1:5] 13 3362 390.2 154.7 10.5\n",
      "  ..$ rbar     : num [1:10] 30 7.4615 48.1538 11.7692 -0.0863 ...\n",
      "  ..$ thetab   : num [1:5] 95.423 -0.738 1.44 0.416 0.102\n",
      "  ..$ first    : int 2\n",
      "  ..$ last     : int 5\n",
      "  ..$ vorder   : int [1:5] 1 5 2 3 4\n",
      "  ..$ tol      : num [1:5] 1.80e-09 9.67e-08 2.36e-08 1.19e-07 3.72e-08\n",
      "  ..$ rss      : num [1:5] 2715.8 883.9 74.8 48 47.9\n",
      "  ..$ bound    : num [1:5] 2715.8 1265.7 57.9 48.1 47.9\n",
      "  ..$ nvmax    : int 5\n",
      "  ..$ ress     : num [1:5, 1] 2715.8 883.9 74.8 48 47.9\n",
      "  ..$ ir       : int 5\n",
      "  ..$ nbest    : num 1\n",
      "  ..$ lopt     : int [1:15, 1] 1 1 5 1 5 2 1 5 2 3 ...\n",
      "  ..$ il       : int 15\n",
      "  ..$ ier      : int 0\n",
      "  ..$ xnames   : chr [1:5] \"(Intercept)\" \"x1\" \"x2\" \"x3\" ...\n",
      "  ..$ method   : chr \"forward\"\n",
      "  ..$ force.in : Named logi [1:5] TRUE FALSE FALSE FALSE FALSE\n",
      "  .. ..- attr(*, \"names\")= chr [1:5] \"\" \"x1\" \"x2\" \"x3\" ...\n",
      "  ..$ force.out: Named logi [1:5] FALSE FALSE FALSE FALSE FALSE\n",
      "  .. ..- attr(*, \"names\")= chr [1:5] \"\" \"x1\" \"x2\" \"x3\" ...\n",
      "  ..$ sserr    : num 47.9\n",
      "  ..$ intercept: logi TRUE\n",
      "  ..$ lindep   : logi [1:5] FALSE FALSE FALSE FALSE FALSE\n",
      "  ..$ nullrss  : num 2716\n",
      "  ..$ nn       : int 13\n",
      "  ..$ call     : language regsubsets.formula(y ~ ., data = dt, nbest = 1, nvmax = 4, method = \"forward\",      )\n",
      "  ..- attr(*, \"class\")= chr \"regsubsets\"\n",
      " - attr(*, \"class\")= chr \"summary.regsubsets\"\n"
     ]
    }
   ],
   "source": [
    "str(a)"
   ]
  },
  {
   "cell_type": "code",
   "execution_count": 40,
   "id": "01b29e52-56a1-46e2-9187-041ebac27a0d",
   "metadata": {},
   "outputs": [
    {
     "data": {
      "text/html": [
       "<table class=\"dataframe\">\n",
       "<caption>A matrix: 4 × 10 of type dbl</caption>\n",
       "<thead>\n",
       "\t<tr><th></th><th scope=col>(Intercept)</th><th scope=col>x1</th><th scope=col>x2</th><th scope=col>x3</th><th scope=col>x4</th><th scope=col>rss</th><th scope=col>rsq</th><th scope=col>adjr2</th><th scope=col>cp</th><th scope=col>bic</th></tr>\n",
       "</thead>\n",
       "<tbody>\n",
       "\t<tr><th scope=row>1</th><td>1</td><td>0</td><td>0</td><td>0</td><td>1</td><td>883.867</td><td>0.675</td><td>0.645</td><td>138.731</td><td> -9.463</td></tr>\n",
       "\t<tr><th scope=row>2</th><td>1</td><td>1</td><td>0</td><td>0</td><td>1</td><td> 74.762</td><td>0.972</td><td>0.967</td><td>  5.496</td><td>-39.008</td></tr>\n",
       "\t<tr><th scope=row>3</th><td>1</td><td>1</td><td>1</td><td>0</td><td>1</td><td> 47.973</td><td>0.982</td><td>0.976</td><td>  3.018</td><td>-42.211</td></tr>\n",
       "\t<tr><th scope=row>4</th><td>1</td><td>1</td><td>1</td><td>1</td><td>1</td><td> 47.864</td><td>0.982</td><td>0.974</td><td>  5.000</td><td>-39.675</td></tr>\n",
       "</tbody>\n",
       "</table>\n"
      ],
      "text/latex": [
       "A matrix: 4 × 10 of type dbl\n",
       "\\begin{tabular}{r|llllllllll}\n",
       "  & (Intercept) & x1 & x2 & x3 & x4 & rss & rsq & adjr2 & cp & bic\\\\\n",
       "\\hline\n",
       "\t1 & 1 & 0 & 0 & 0 & 1 & 883.867 & 0.675 & 0.645 & 138.731 &  -9.463\\\\\n",
       "\t2 & 1 & 1 & 0 & 0 & 1 &  74.762 & 0.972 & 0.967 &   5.496 & -39.008\\\\\n",
       "\t3 & 1 & 1 & 1 & 0 & 1 &  47.973 & 0.982 & 0.976 &   3.018 & -42.211\\\\\n",
       "\t4 & 1 & 1 & 1 & 1 & 1 &  47.864 & 0.982 & 0.974 &   5.000 & -39.675\\\\\n",
       "\\end{tabular}\n"
      ],
      "text/markdown": [
       "\n",
       "A matrix: 4 × 10 of type dbl\n",
       "\n",
       "| <!--/--> | (Intercept) | x1 | x2 | x3 | x4 | rss | rsq | adjr2 | cp | bic |\n",
       "|---|---|---|---|---|---|---|---|---|---|---|\n",
       "| 1 | 1 | 0 | 0 | 0 | 1 | 883.867 | 0.675 | 0.645 | 138.731 |  -9.463 |\n",
       "| 2 | 1 | 1 | 0 | 0 | 1 |  74.762 | 0.972 | 0.967 |   5.496 | -39.008 |\n",
       "| 3 | 1 | 1 | 1 | 0 | 1 |  47.973 | 0.982 | 0.976 |   3.018 | -42.211 |\n",
       "| 4 | 1 | 1 | 1 | 1 | 1 |  47.864 | 0.982 | 0.974 |   5.000 | -39.675 |\n",
       "\n"
      ],
      "text/plain": [
       "  (Intercept) x1 x2 x3 x4 rss     rsq   adjr2 cp      bic    \n",
       "1 1           0  0  0  1  883.867 0.675 0.645 138.731  -9.463\n",
       "2 1           1  0  0  1   74.762 0.972 0.967   5.496 -39.008\n",
       "3 1           1  1  0  1   47.973 0.982 0.976   3.018 -42.211\n",
       "4 1           1  1  1  1   47.864 0.982 0.974   5.000 -39.675"
      ]
     },
     "metadata": {},
     "output_type": "display_data"
    }
   ],
   "source": [
    "with(summary(fit),\n",
    "     round(cbind(which,rss,rsq,adjr2, cp, bic),3))"
   ]
  },
  {
   "cell_type": "markdown",
   "id": "8c59cfb6-3cdc-4213-9140-7c3d68d73bc9",
   "metadata": {},
   "source": [
    "설명변수 하나 썼을때, 2개 썼을때,,, 선택되는 변수들\n",
    "\n",
    "설명변수2개.3개일때 Radj별로 차이 없어서 BIC 기준으로 2번째 꺼 선택\n",
    "\n",
    "cp <= p+1(각 줄의 cp가 2,3,4,5보다 커야 함) -> 2번째꺼 선택!"
   ]
  },
  {
   "cell_type": "markdown",
   "id": "ed0f7411-752e-45df-b590-4692f7bf3074",
   "metadata": {},
   "source": [
    "step- r 기본 함수"
   ]
  },
  {
   "cell_type": "markdown",
   "id": "01654b3f-6d76-417d-9246-a47b0d9452ef",
   "metadata": {},
   "source": [
    "m은 꼭 full model로 적어주기"
   ]
  },
  {
   "cell_type": "code",
   "execution_count": 41,
   "id": "69c24940-4d46-4db6-82d2-5c9cd59de978",
   "metadata": {},
   "outputs": [
    {
     "name": "stdout",
     "output_type": "stream",
     "text": [
      "Start:  AIC=26.94\n",
      "y ~ x1 + x2 + x3 + x4\n",
      "\n",
      "       Df Sum of Sq    RSS    AIC\n",
      "- x3    1    0.1091 47.973 24.974\n",
      "- x4    1    0.2470 48.111 25.011\n",
      "- x2    1    2.9725 50.836 25.728\n",
      "<none>              47.864 26.944\n",
      "- x1    1   25.9509 73.815 30.576\n",
      "\n",
      "Step:  AIC=24.97\n",
      "y ~ x1 + x2 + x4\n",
      "\n",
      "       Df Sum of Sq    RSS    AIC\n",
      "<none>               47.97 24.974\n",
      "- x4    1      9.93  57.90 25.420\n",
      "- x2    1     26.79  74.76 28.742\n",
      "- x1    1    820.91 868.88 60.629\n"
     ]
    }
   ],
   "source": [
    "###Backward - AIC\n",
    "model_back = step(m, direction = \"backward\")"
   ]
  },
  {
   "cell_type": "markdown",
   "id": "3d91b123-d12f-442e-8dc4-53f562205e01",
   "metadata": {},
   "source": [
    "AIC 가장 작게하는 모형 기준으로 정렬되어 있음\n",
    "\n",
    "24.97 가장 작아 최종 모형 결정됌"
   ]
  },
  {
   "cell_type": "code",
   "execution_count": 42,
   "id": "f0e1e2f5-cb68-458c-9cd9-5ab6fefb90a6",
   "metadata": {},
   "outputs": [
    {
     "data": {
      "text/plain": [
       "\n",
       "Call:\n",
       "lm(formula = y ~ x1 + x2 + x4, data = dt)\n",
       "\n",
       "Residuals:\n",
       "    Min      1Q  Median      3Q     Max \n",
       "-3.0919 -1.8016  0.2562  1.2818  3.8982 \n",
       "\n",
       "Coefficients:\n",
       "            Estimate Std. Error t value Pr(>|t|)    \n",
       "(Intercept)  71.6483    14.1424   5.066 0.000675 ***\n",
       "x1            1.4519     0.1170  12.410 5.78e-07 ***\n",
       "x2            0.4161     0.1856   2.242 0.051687 .  \n",
       "x4           -0.2365     0.1733  -1.365 0.205395    \n",
       "---\n",
       "Signif. codes:  0 ‘***’ 0.001 ‘**’ 0.01 ‘*’ 0.05 ‘.’ 0.1 ‘ ’ 1\n",
       "\n",
       "Residual standard error: 2.309 on 9 degrees of freedom\n",
       "Multiple R-squared:  0.9823,\tAdjusted R-squared:  0.9764 \n",
       "F-statistic: 166.8 on 3 and 9 DF,  p-value: 3.323e-08\n"
      ]
     },
     "metadata": {},
     "output_type": "display_data"
    }
   ],
   "source": [
    "summary(model_back)"
   ]
  },
  {
   "cell_type": "code",
   "execution_count": 43,
   "id": "3fb8e842-f90c-49fd-aff3-d4190d91363f",
   "metadata": {},
   "outputs": [
    {
     "name": "stdout",
     "output_type": "stream",
     "text": [
      "Start:  AIC=71.44\n",
      "y ~ 1\n",
      "\n",
      "       Df Sum of Sq     RSS    AIC\n",
      "+ x4    1   1831.90  883.87 58.852\n",
      "+ x2    1   1809.43  906.34 59.178\n",
      "+ x1    1   1450.08 1265.69 63.519\n",
      "+ x3    1    776.36 1939.40 69.067\n",
      "<none>              2715.76 71.444\n",
      "\n",
      "Step:  AIC=58.85\n",
      "y ~ x4\n",
      "\n",
      "       Df Sum of Sq    RSS    AIC\n",
      "+ x1    1    809.10  74.76 28.742\n",
      "+ x3    1    708.13 175.74 39.853\n",
      "<none>              883.87 58.852\n",
      "+ x2    1     14.99 868.88 60.629\n",
      "\n",
      "Step:  AIC=28.74\n",
      "y ~ x4 + x1\n",
      "\n",
      "       Df Sum of Sq    RSS    AIC\n",
      "+ x2    1    26.789 47.973 24.974\n",
      "+ x3    1    23.926 50.836 25.728\n",
      "<none>              74.762 28.742\n",
      "\n",
      "Step:  AIC=24.97\n",
      "y ~ x4 + x1 + x2\n",
      "\n",
      "       Df Sum of Sq    RSS    AIC\n",
      "<none>              47.973 24.974\n",
      "+ x3    1   0.10909 47.864 26.944\n"
     ]
    }
   ],
   "source": [
    "###Forward - AIC\n",
    "model_forward = step(\n",
    "  m0, \n",
    "  scope = y ~  x1 + x2 + x3+ x4, \n",
    "  direction = \"forward\")"
   ]
  },
  {
   "cell_type": "markdown",
   "id": "67384c53-db51-485f-ab17-357540cd7043",
   "metadata": {},
   "source": [
    "정해진 식에서 설명변수만 추가하고"
   ]
  },
  {
   "cell_type": "code",
   "execution_count": 44,
   "id": "abdb674a-693f-40b0-8d19-7929dba3f4e1",
   "metadata": {},
   "outputs": [
    {
     "data": {
      "text/plain": [
       "\n",
       "Call:\n",
       "lm(formula = y ~ x4 + x1 + x2, data = dt)\n",
       "\n",
       "Residuals:\n",
       "    Min      1Q  Median      3Q     Max \n",
       "-3.0919 -1.8016  0.2562  1.2818  3.8982 \n",
       "\n",
       "Coefficients:\n",
       "            Estimate Std. Error t value Pr(>|t|)    \n",
       "(Intercept)  71.6483    14.1424   5.066 0.000675 ***\n",
       "x4           -0.2365     0.1733  -1.365 0.205395    \n",
       "x1            1.4519     0.1170  12.410 5.78e-07 ***\n",
       "x2            0.4161     0.1856   2.242 0.051687 .  \n",
       "---\n",
       "Signif. codes:  0 ‘***’ 0.001 ‘**’ 0.01 ‘*’ 0.05 ‘.’ 0.1 ‘ ’ 1\n",
       "\n",
       "Residual standard error: 2.309 on 9 degrees of freedom\n",
       "Multiple R-squared:  0.9823,\tAdjusted R-squared:  0.9764 \n",
       "F-statistic: 166.8 on 3 and 9 DF,  p-value: 3.323e-08\n"
      ]
     },
     "metadata": {},
     "output_type": "display_data"
    }
   ],
   "source": [
    "summary(model_forward)"
   ]
  },
  {
   "cell_type": "code",
   "execution_count": 45,
   "id": "4a1e48d2-9f06-4187-aad2-31c587e30a33",
   "metadata": {},
   "outputs": [
    {
     "name": "stdout",
     "output_type": "stream",
     "text": [
      "Start:  AIC=71.44\n",
      "y ~ 1\n",
      "\n",
      "       Df Sum of Sq     RSS    AIC\n",
      "+ x4    1   1831.90  883.87 58.852\n",
      "+ x2    1   1809.43  906.34 59.178\n",
      "+ x1    1   1450.08 1265.69 63.519\n",
      "+ x3    1    776.36 1939.40 69.067\n",
      "<none>              2715.76 71.444\n",
      "\n",
      "Step:  AIC=58.85\n",
      "y ~ x4\n",
      "\n",
      "       Df Sum of Sq     RSS    AIC\n",
      "+ x1    1    809.10   74.76 28.742\n",
      "+ x3    1    708.13  175.74 39.853\n",
      "<none>               883.87 58.852\n",
      "+ x2    1     14.99  868.88 60.629\n",
      "- x4    1   1831.90 2715.76 71.444\n",
      "\n",
      "Step:  AIC=28.74\n",
      "y ~ x4 + x1\n",
      "\n",
      "       Df Sum of Sq     RSS    AIC\n",
      "+ x2    1     26.79   47.97 24.974\n",
      "+ x3    1     23.93   50.84 25.728\n",
      "<none>                74.76 28.742\n",
      "- x1    1    809.10  883.87 58.852\n",
      "- x4    1   1190.92 1265.69 63.519\n",
      "\n",
      "Step:  AIC=24.97\n",
      "y ~ x4 + x1 + x2\n",
      "\n",
      "       Df Sum of Sq    RSS    AIC\n",
      "<none>               47.97 24.974\n",
      "- x4    1      9.93  57.90 25.420\n",
      "+ x3    1      0.11  47.86 26.944\n",
      "- x2    1     26.79  74.76 28.742\n",
      "- x1    1    820.91 868.88 60.629\n"
     ]
    }
   ],
   "source": [
    "###Step - AIC\n",
    "model_step = step(\n",
    "  m0, \n",
    "  scope =  y ~  x1 + x2 + x3+ x4, \n",
    "  direction = \"both\")"
   ]
  },
  {
   "cell_type": "code",
   "execution_count": 46,
   "id": "8b52e02f-1101-4e2b-ac7d-2568f7bae115",
   "metadata": {},
   "outputs": [
    {
     "data": {
      "text/plain": [
       "\n",
       "Call:\n",
       "lm(formula = y ~ x4 + x1 + x2, data = dt)\n",
       "\n",
       "Residuals:\n",
       "    Min      1Q  Median      3Q     Max \n",
       "-3.0919 -1.8016  0.2562  1.2818  3.8982 \n",
       "\n",
       "Coefficients:\n",
       "            Estimate Std. Error t value Pr(>|t|)    \n",
       "(Intercept)  71.6483    14.1424   5.066 0.000675 ***\n",
       "x4           -0.2365     0.1733  -1.365 0.205395    \n",
       "x1            1.4519     0.1170  12.410 5.78e-07 ***\n",
       "x2            0.4161     0.1856   2.242 0.051687 .  \n",
       "---\n",
       "Signif. codes:  0 ‘***’ 0.001 ‘**’ 0.01 ‘*’ 0.05 ‘.’ 0.1 ‘ ’ 1\n",
       "\n",
       "Residual standard error: 2.309 on 9 degrees of freedom\n",
       "Multiple R-squared:  0.9823,\tAdjusted R-squared:  0.9764 \n",
       "F-statistic: 166.8 on 3 and 9 DF,  p-value: 3.323e-08\n"
      ]
     },
     "metadata": {},
     "output_type": "display_data"
    }
   ],
   "source": [
    "summary(model_step)"
   ]
  },
  {
   "cell_type": "code",
   "execution_count": 47,
   "id": "822b8e5e-9f8c-4688-bef3-9e8e31ab6ffd",
   "metadata": {},
   "outputs": [
    {
     "name": "stdout",
     "output_type": "stream",
     "text": [
      "'data.frame':\t32 obs. of  11 variables:\n",
      " $ mpg : num  21 21 22.8 21.4 18.7 18.1 14.3 24.4 22.8 19.2 ...\n",
      " $ cyl : num  6 6 4 6 8 6 8 4 4 6 ...\n",
      " $ disp: num  160 160 108 258 360 ...\n",
      " $ hp  : num  110 110 93 110 175 105 245 62 95 123 ...\n",
      " $ drat: num  3.9 3.9 3.85 3.08 3.15 2.76 3.21 3.69 3.92 3.92 ...\n",
      " $ wt  : num  2.62 2.88 2.32 3.21 3.44 ...\n",
      " $ qsec: num  16.5 17 18.6 19.4 17 ...\n",
      " $ vs  : num  0 0 1 1 0 1 0 1 1 1 ...\n",
      " $ am  : num  1 1 1 0 0 0 0 0 0 0 ...\n",
      " $ gear: num  4 4 4 3 3 3 3 4 4 4 ...\n",
      " $ carb: num  4 4 1 1 2 1 4 2 2 4 ...\n"
     ]
    }
   ],
   "source": [
    "str(mtcars)"
   ]
  },
  {
   "cell_type": "code",
   "execution_count": 48,
   "id": "fdbd55a7-5801-483e-86c7-2a5b12f14fa7",
   "metadata": {},
   "outputs": [
    {
     "data": {
      "text/html": [
       "<table class=\"dataframe\">\n",
       "<caption>A matrix: 11 × 11 of type dbl</caption>\n",
       "<thead>\n",
       "\t<tr><th></th><th scope=col>mpg</th><th scope=col>cyl</th><th scope=col>disp</th><th scope=col>hp</th><th scope=col>drat</th><th scope=col>wt</th><th scope=col>qsec</th><th scope=col>vs</th><th scope=col>am</th><th scope=col>gear</th><th scope=col>carb</th></tr>\n",
       "</thead>\n",
       "<tbody>\n",
       "\t<tr><th scope=row>mpg</th><td> 1.00</td><td>-0.85</td><td>-0.85</td><td>-0.78</td><td> 0.68</td><td>-0.87</td><td> 0.42</td><td> 0.66</td><td> 0.60</td><td> 0.48</td><td>-0.55</td></tr>\n",
       "\t<tr><th scope=row>cyl</th><td>-0.85</td><td> 1.00</td><td> 0.90</td><td> 0.83</td><td>-0.70</td><td> 0.78</td><td>-0.59</td><td>-0.81</td><td>-0.52</td><td>-0.49</td><td> 0.53</td></tr>\n",
       "\t<tr><th scope=row>disp</th><td>-0.85</td><td> 0.90</td><td> 1.00</td><td> 0.79</td><td>-0.71</td><td> 0.89</td><td>-0.43</td><td>-0.71</td><td>-0.59</td><td>-0.56</td><td> 0.39</td></tr>\n",
       "\t<tr><th scope=row>hp</th><td>-0.78</td><td> 0.83</td><td> 0.79</td><td> 1.00</td><td>-0.45</td><td> 0.66</td><td>-0.71</td><td>-0.72</td><td>-0.24</td><td>-0.13</td><td> 0.75</td></tr>\n",
       "\t<tr><th scope=row>drat</th><td> 0.68</td><td>-0.70</td><td>-0.71</td><td>-0.45</td><td> 1.00</td><td>-0.71</td><td> 0.09</td><td> 0.44</td><td> 0.71</td><td> 0.70</td><td>-0.09</td></tr>\n",
       "\t<tr><th scope=row>wt</th><td>-0.87</td><td> 0.78</td><td> 0.89</td><td> 0.66</td><td>-0.71</td><td> 1.00</td><td>-0.17</td><td>-0.55</td><td>-0.69</td><td>-0.58</td><td> 0.43</td></tr>\n",
       "\t<tr><th scope=row>qsec</th><td> 0.42</td><td>-0.59</td><td>-0.43</td><td>-0.71</td><td> 0.09</td><td>-0.17</td><td> 1.00</td><td> 0.74</td><td>-0.23</td><td>-0.21</td><td>-0.66</td></tr>\n",
       "\t<tr><th scope=row>vs</th><td> 0.66</td><td>-0.81</td><td>-0.71</td><td>-0.72</td><td> 0.44</td><td>-0.55</td><td> 0.74</td><td> 1.00</td><td> 0.17</td><td> 0.21</td><td>-0.57</td></tr>\n",
       "\t<tr><th scope=row>am</th><td> 0.60</td><td>-0.52</td><td>-0.59</td><td>-0.24</td><td> 0.71</td><td>-0.69</td><td>-0.23</td><td> 0.17</td><td> 1.00</td><td> 0.79</td><td> 0.06</td></tr>\n",
       "\t<tr><th scope=row>gear</th><td> 0.48</td><td>-0.49</td><td>-0.56</td><td>-0.13</td><td> 0.70</td><td>-0.58</td><td>-0.21</td><td> 0.21</td><td> 0.79</td><td> 1.00</td><td> 0.27</td></tr>\n",
       "\t<tr><th scope=row>carb</th><td>-0.55</td><td> 0.53</td><td> 0.39</td><td> 0.75</td><td>-0.09</td><td> 0.43</td><td>-0.66</td><td>-0.57</td><td> 0.06</td><td> 0.27</td><td> 1.00</td></tr>\n",
       "</tbody>\n",
       "</table>\n"
      ],
      "text/latex": [
       "A matrix: 11 × 11 of type dbl\n",
       "\\begin{tabular}{r|lllllllllll}\n",
       "  & mpg & cyl & disp & hp & drat & wt & qsec & vs & am & gear & carb\\\\\n",
       "\\hline\n",
       "\tmpg &  1.00 & -0.85 & -0.85 & -0.78 &  0.68 & -0.87 &  0.42 &  0.66 &  0.60 &  0.48 & -0.55\\\\\n",
       "\tcyl & -0.85 &  1.00 &  0.90 &  0.83 & -0.70 &  0.78 & -0.59 & -0.81 & -0.52 & -0.49 &  0.53\\\\\n",
       "\tdisp & -0.85 &  0.90 &  1.00 &  0.79 & -0.71 &  0.89 & -0.43 & -0.71 & -0.59 & -0.56 &  0.39\\\\\n",
       "\thp & -0.78 &  0.83 &  0.79 &  1.00 & -0.45 &  0.66 & -0.71 & -0.72 & -0.24 & -0.13 &  0.75\\\\\n",
       "\tdrat &  0.68 & -0.70 & -0.71 & -0.45 &  1.00 & -0.71 &  0.09 &  0.44 &  0.71 &  0.70 & -0.09\\\\\n",
       "\twt & -0.87 &  0.78 &  0.89 &  0.66 & -0.71 &  1.00 & -0.17 & -0.55 & -0.69 & -0.58 &  0.43\\\\\n",
       "\tqsec &  0.42 & -0.59 & -0.43 & -0.71 &  0.09 & -0.17 &  1.00 &  0.74 & -0.23 & -0.21 & -0.66\\\\\n",
       "\tvs &  0.66 & -0.81 & -0.71 & -0.72 &  0.44 & -0.55 &  0.74 &  1.00 &  0.17 &  0.21 & -0.57\\\\\n",
       "\tam &  0.60 & -0.52 & -0.59 & -0.24 &  0.71 & -0.69 & -0.23 &  0.17 &  1.00 &  0.79 &  0.06\\\\\n",
       "\tgear &  0.48 & -0.49 & -0.56 & -0.13 &  0.70 & -0.58 & -0.21 &  0.21 &  0.79 &  1.00 &  0.27\\\\\n",
       "\tcarb & -0.55 &  0.53 &  0.39 &  0.75 & -0.09 &  0.43 & -0.66 & -0.57 &  0.06 &  0.27 &  1.00\\\\\n",
       "\\end{tabular}\n"
      ],
      "text/markdown": [
       "\n",
       "A matrix: 11 × 11 of type dbl\n",
       "\n",
       "| <!--/--> | mpg | cyl | disp | hp | drat | wt | qsec | vs | am | gear | carb |\n",
       "|---|---|---|---|---|---|---|---|---|---|---|---|\n",
       "| mpg |  1.00 | -0.85 | -0.85 | -0.78 |  0.68 | -0.87 |  0.42 |  0.66 |  0.60 |  0.48 | -0.55 |\n",
       "| cyl | -0.85 |  1.00 |  0.90 |  0.83 | -0.70 |  0.78 | -0.59 | -0.81 | -0.52 | -0.49 |  0.53 |\n",
       "| disp | -0.85 |  0.90 |  1.00 |  0.79 | -0.71 |  0.89 | -0.43 | -0.71 | -0.59 | -0.56 |  0.39 |\n",
       "| hp | -0.78 |  0.83 |  0.79 |  1.00 | -0.45 |  0.66 | -0.71 | -0.72 | -0.24 | -0.13 |  0.75 |\n",
       "| drat |  0.68 | -0.70 | -0.71 | -0.45 |  1.00 | -0.71 |  0.09 |  0.44 |  0.71 |  0.70 | -0.09 |\n",
       "| wt | -0.87 |  0.78 |  0.89 |  0.66 | -0.71 |  1.00 | -0.17 | -0.55 | -0.69 | -0.58 |  0.43 |\n",
       "| qsec |  0.42 | -0.59 | -0.43 | -0.71 |  0.09 | -0.17 |  1.00 |  0.74 | -0.23 | -0.21 | -0.66 |\n",
       "| vs |  0.66 | -0.81 | -0.71 | -0.72 |  0.44 | -0.55 |  0.74 |  1.00 |  0.17 |  0.21 | -0.57 |\n",
       "| am |  0.60 | -0.52 | -0.59 | -0.24 |  0.71 | -0.69 | -0.23 |  0.17 |  1.00 |  0.79 |  0.06 |\n",
       "| gear |  0.48 | -0.49 | -0.56 | -0.13 |  0.70 | -0.58 | -0.21 |  0.21 |  0.79 |  1.00 |  0.27 |\n",
       "| carb | -0.55 |  0.53 |  0.39 |  0.75 | -0.09 |  0.43 | -0.66 | -0.57 |  0.06 |  0.27 |  1.00 |\n",
       "\n"
      ],
      "text/plain": [
       "     mpg   cyl   disp  hp    drat  wt    qsec  vs    am    gear  carb \n",
       "mpg   1.00 -0.85 -0.85 -0.78  0.68 -0.87  0.42  0.66  0.60  0.48 -0.55\n",
       "cyl  -0.85  1.00  0.90  0.83 -0.70  0.78 -0.59 -0.81 -0.52 -0.49  0.53\n",
       "disp -0.85  0.90  1.00  0.79 -0.71  0.89 -0.43 -0.71 -0.59 -0.56  0.39\n",
       "hp   -0.78  0.83  0.79  1.00 -0.45  0.66 -0.71 -0.72 -0.24 -0.13  0.75\n",
       "drat  0.68 -0.70 -0.71 -0.45  1.00 -0.71  0.09  0.44  0.71  0.70 -0.09\n",
       "wt   -0.87  0.78  0.89  0.66 -0.71  1.00 -0.17 -0.55 -0.69 -0.58  0.43\n",
       "qsec  0.42 -0.59 -0.43 -0.71  0.09 -0.17  1.00  0.74 -0.23 -0.21 -0.66\n",
       "vs    0.66 -0.81 -0.71 -0.72  0.44 -0.55  0.74  1.00  0.17  0.21 -0.57\n",
       "am    0.60 -0.52 -0.59 -0.24  0.71 -0.69 -0.23  0.17  1.00  0.79  0.06\n",
       "gear  0.48 -0.49 -0.56 -0.13  0.70 -0.58 -0.21  0.21  0.79  1.00  0.27\n",
       "carb -0.55  0.53  0.39  0.75 -0.09  0.43 -0.66 -0.57  0.06  0.27  1.00"
      ]
     },
     "metadata": {},
     "output_type": "display_data"
    }
   ],
   "source": [
    "round(cor(mtcars),2)"
   ]
  },
  {
   "cell_type": "code",
   "execution_count": 49,
   "id": "fb0ec6d4-f7d5-4887-9a57-44cf4cb711f8",
   "metadata": {},
   "outputs": [],
   "source": [
    "m_full <- lm(mpg~., mtcars)"
   ]
  },
  {
   "cell_type": "code",
   "execution_count": 50,
   "id": "47cb008e-9696-4f76-ab5c-b2415d1e4584",
   "metadata": {},
   "outputs": [
    {
     "data": {
      "text/plain": [
       "\n",
       "Call:\n",
       "lm(formula = mpg ~ ., data = mtcars)\n",
       "\n",
       "Residuals:\n",
       "    Min      1Q  Median      3Q     Max \n",
       "-3.4506 -1.6044 -0.1196  1.2193  4.6271 \n",
       "\n",
       "Coefficients:\n",
       "            Estimate Std. Error t value Pr(>|t|)  \n",
       "(Intercept) 12.30337   18.71788   0.657   0.5181  \n",
       "cyl         -0.11144    1.04502  -0.107   0.9161  \n",
       "disp         0.01334    0.01786   0.747   0.4635  \n",
       "hp          -0.02148    0.02177  -0.987   0.3350  \n",
       "drat         0.78711    1.63537   0.481   0.6353  \n",
       "wt          -3.71530    1.89441  -1.961   0.0633 .\n",
       "qsec         0.82104    0.73084   1.123   0.2739  \n",
       "vs           0.31776    2.10451   0.151   0.8814  \n",
       "am           2.52023    2.05665   1.225   0.2340  \n",
       "gear         0.65541    1.49326   0.439   0.6652  \n",
       "carb        -0.19942    0.82875  -0.241   0.8122  \n",
       "---\n",
       "Signif. codes:  0 ‘***’ 0.001 ‘**’ 0.01 ‘*’ 0.05 ‘.’ 0.1 ‘ ’ 1\n",
       "\n",
       "Residual standard error: 2.65 on 21 degrees of freedom\n",
       "Multiple R-squared:  0.869,\tAdjusted R-squared:  0.8066 \n",
       "F-statistic: 13.93 on 10 and 21 DF,  p-value: 3.793e-07\n"
      ]
     },
     "metadata": {},
     "output_type": "display_data"
    }
   ],
   "source": [
    "summary(m_full)"
   ]
  },
  {
   "cell_type": "code",
   "execution_count": 51,
   "id": "fc780657-303d-41ff-abdc-ccf8e462c087",
   "metadata": {},
   "outputs": [],
   "source": [
    "fit<-regsubsets(mpg~., data=mtcars, nbest=1,nvmax=9,\n",
    "                # method=c(\"exhaustive\",\"backward\", \"forward\", \"seqrep\")\n",
    "                method='exhaustive',\n",
    ")"
   ]
  },
  {
   "cell_type": "code",
   "execution_count": 52,
   "id": "9805d130-f21e-426f-b0ea-65090a631cbe",
   "metadata": {},
   "outputs": [
    {
     "data": {
      "text/plain": [
       "Subset selection object\n",
       "Call: regsubsets.formula(mpg ~ ., data = mtcars, nbest = 1, nvmax = 9, \n",
       "    method = \"exhaustive\", )\n",
       "10 Variables  (and intercept)\n",
       "     Forced in Forced out\n",
       "cyl      FALSE      FALSE\n",
       "disp     FALSE      FALSE\n",
       "hp       FALSE      FALSE\n",
       "drat     FALSE      FALSE\n",
       "wt       FALSE      FALSE\n",
       "qsec     FALSE      FALSE\n",
       "vs       FALSE      FALSE\n",
       "am       FALSE      FALSE\n",
       "gear     FALSE      FALSE\n",
       "carb     FALSE      FALSE\n",
       "1 subsets of each size up to 9\n",
       "Selection Algorithm: exhaustive\n",
       "         cyl disp hp  drat wt  qsec vs  am  gear carb\n",
       "1  ( 1 ) \" \" \" \"  \" \" \" \"  \"*\" \" \"  \" \" \" \" \" \"  \" \" \n",
       "2  ( 1 ) \"*\" \" \"  \" \" \" \"  \"*\" \" \"  \" \" \" \" \" \"  \" \" \n",
       "3  ( 1 ) \" \" \" \"  \" \" \" \"  \"*\" \"*\"  \" \" \"*\" \" \"  \" \" \n",
       "4  ( 1 ) \" \" \" \"  \"*\" \" \"  \"*\" \"*\"  \" \" \"*\" \" \"  \" \" \n",
       "5  ( 1 ) \" \" \"*\"  \"*\" \" \"  \"*\" \"*\"  \" \" \"*\" \" \"  \" \" \n",
       "6  ( 1 ) \" \" \"*\"  \"*\" \"*\"  \"*\" \"*\"  \" \" \"*\" \" \"  \" \" \n",
       "7  ( 1 ) \" \" \"*\"  \"*\" \"*\"  \"*\" \"*\"  \" \" \"*\" \"*\"  \" \" \n",
       "8  ( 1 ) \" \" \"*\"  \"*\" \"*\"  \"*\" \"*\"  \" \" \"*\" \"*\"  \"*\" \n",
       "9  ( 1 ) \" \" \"*\"  \"*\" \"*\"  \"*\" \"*\"  \"*\" \"*\" \"*\"  \"*\" "
      ]
     },
     "metadata": {},
     "output_type": "display_data"
    }
   ],
   "source": [
    "summary(fit)"
   ]
  },
  {
   "cell_type": "code",
   "execution_count": 53,
   "id": "3bf143bf-048b-4aae-ac6b-6a4c9370d437",
   "metadata": {},
   "outputs": [
    {
     "data": {
      "text/html": [
       "<table class=\"dataframe\">\n",
       "<caption>A matrix: 9 × 16 of type dbl</caption>\n",
       "<thead>\n",
       "\t<tr><th></th><th scope=col>(Intercept)</th><th scope=col>cyl</th><th scope=col>disp</th><th scope=col>hp</th><th scope=col>drat</th><th scope=col>wt</th><th scope=col>qsec</th><th scope=col>vs</th><th scope=col>am</th><th scope=col>gear</th><th scope=col>carb</th><th scope=col>rss</th><th scope=col>rsq</th><th scope=col>adjr2</th><th scope=col>cp</th><th scope=col>bic</th></tr>\n",
       "</thead>\n",
       "<tbody>\n",
       "\t<tr><th scope=row>1</th><td>1</td><td>0</td><td>0</td><td>0</td><td>0</td><td>1</td><td>0</td><td>0</td><td>0</td><td>0</td><td>0</td><td>278.322</td><td>0.753</td><td>0.745</td><td>11.627</td><td>-37.795</td></tr>\n",
       "\t<tr><th scope=row>2</th><td>1</td><td>1</td><td>0</td><td>0</td><td>0</td><td>1</td><td>0</td><td>0</td><td>0</td><td>0</td><td>0</td><td>191.172</td><td>0.830</td><td>0.819</td><td> 1.219</td><td>-46.348</td></tr>\n",
       "\t<tr><th scope=row>3</th><td>1</td><td>0</td><td>0</td><td>0</td><td>0</td><td>1</td><td>1</td><td>0</td><td>1</td><td>0</td><td>0</td><td>169.286</td><td>0.850</td><td>0.834</td><td> 0.103</td><td>-46.773</td></tr>\n",
       "\t<tr><th scope=row>4</th><td>1</td><td>0</td><td>0</td><td>1</td><td>0</td><td>1</td><td>1</td><td>0</td><td>1</td><td>0</td><td>0</td><td>160.066</td><td>0.858</td><td>0.837</td><td> 0.790</td><td>-45.099</td></tr>\n",
       "\t<tr><th scope=row>5</th><td>1</td><td>0</td><td>1</td><td>1</td><td>0</td><td>1</td><td>1</td><td>0</td><td>1</td><td>0</td><td>0</td><td>153.438</td><td>0.864</td><td>0.838</td><td> 1.846</td><td>-42.987</td></tr>\n",
       "\t<tr><th scope=row>6</th><td>1</td><td>0</td><td>1</td><td>1</td><td>1</td><td>1</td><td>1</td><td>0</td><td>1</td><td>0</td><td>0</td><td>150.093</td><td>0.867</td><td>0.835</td><td> 3.370</td><td>-40.227</td></tr>\n",
       "\t<tr><th scope=row>7</th><td>1</td><td>0</td><td>1</td><td>1</td><td>1</td><td>1</td><td>1</td><td>0</td><td>1</td><td>1</td><td>0</td><td>148.528</td><td>0.868</td><td>0.830</td><td> 5.147</td><td>-37.096</td></tr>\n",
       "\t<tr><th scope=row>8</th><td>1</td><td>0</td><td>1</td><td>1</td><td>1</td><td>1</td><td>1</td><td>0</td><td>1</td><td>1</td><td>1</td><td>147.843</td><td>0.869</td><td>0.823</td><td> 7.050</td><td>-33.779</td></tr>\n",
       "\t<tr><th scope=row>9</th><td>1</td><td>0</td><td>1</td><td>1</td><td>1</td><td>1</td><td>1</td><td>1</td><td>1</td><td>1</td><td>1</td><td>147.574</td><td>0.869</td><td>0.815</td><td> 9.011</td><td>-30.371</td></tr>\n",
       "</tbody>\n",
       "</table>\n"
      ],
      "text/latex": [
       "A matrix: 9 × 16 of type dbl\n",
       "\\begin{tabular}{r|llllllllllllllll}\n",
       "  & (Intercept) & cyl & disp & hp & drat & wt & qsec & vs & am & gear & carb & rss & rsq & adjr2 & cp & bic\\\\\n",
       "\\hline\n",
       "\t1 & 1 & 0 & 0 & 0 & 0 & 1 & 0 & 0 & 0 & 0 & 0 & 278.322 & 0.753 & 0.745 & 11.627 & -37.795\\\\\n",
       "\t2 & 1 & 1 & 0 & 0 & 0 & 1 & 0 & 0 & 0 & 0 & 0 & 191.172 & 0.830 & 0.819 &  1.219 & -46.348\\\\\n",
       "\t3 & 1 & 0 & 0 & 0 & 0 & 1 & 1 & 0 & 1 & 0 & 0 & 169.286 & 0.850 & 0.834 &  0.103 & -46.773\\\\\n",
       "\t4 & 1 & 0 & 0 & 1 & 0 & 1 & 1 & 0 & 1 & 0 & 0 & 160.066 & 0.858 & 0.837 &  0.790 & -45.099\\\\\n",
       "\t5 & 1 & 0 & 1 & 1 & 0 & 1 & 1 & 0 & 1 & 0 & 0 & 153.438 & 0.864 & 0.838 &  1.846 & -42.987\\\\\n",
       "\t6 & 1 & 0 & 1 & 1 & 1 & 1 & 1 & 0 & 1 & 0 & 0 & 150.093 & 0.867 & 0.835 &  3.370 & -40.227\\\\\n",
       "\t7 & 1 & 0 & 1 & 1 & 1 & 1 & 1 & 0 & 1 & 1 & 0 & 148.528 & 0.868 & 0.830 &  5.147 & -37.096\\\\\n",
       "\t8 & 1 & 0 & 1 & 1 & 1 & 1 & 1 & 0 & 1 & 1 & 1 & 147.843 & 0.869 & 0.823 &  7.050 & -33.779\\\\\n",
       "\t9 & 1 & 0 & 1 & 1 & 1 & 1 & 1 & 1 & 1 & 1 & 1 & 147.574 & 0.869 & 0.815 &  9.011 & -30.371\\\\\n",
       "\\end{tabular}\n"
      ],
      "text/markdown": [
       "\n",
       "A matrix: 9 × 16 of type dbl\n",
       "\n",
       "| <!--/--> | (Intercept) | cyl | disp | hp | drat | wt | qsec | vs | am | gear | carb | rss | rsq | adjr2 | cp | bic |\n",
       "|---|---|---|---|---|---|---|---|---|---|---|---|---|---|---|---|---|\n",
       "| 1 | 1 | 0 | 0 | 0 | 0 | 1 | 0 | 0 | 0 | 0 | 0 | 278.322 | 0.753 | 0.745 | 11.627 | -37.795 |\n",
       "| 2 | 1 | 1 | 0 | 0 | 0 | 1 | 0 | 0 | 0 | 0 | 0 | 191.172 | 0.830 | 0.819 |  1.219 | -46.348 |\n",
       "| 3 | 1 | 0 | 0 | 0 | 0 | 1 | 1 | 0 | 1 | 0 | 0 | 169.286 | 0.850 | 0.834 |  0.103 | -46.773 |\n",
       "| 4 | 1 | 0 | 0 | 1 | 0 | 1 | 1 | 0 | 1 | 0 | 0 | 160.066 | 0.858 | 0.837 |  0.790 | -45.099 |\n",
       "| 5 | 1 | 0 | 1 | 1 | 0 | 1 | 1 | 0 | 1 | 0 | 0 | 153.438 | 0.864 | 0.838 |  1.846 | -42.987 |\n",
       "| 6 | 1 | 0 | 1 | 1 | 1 | 1 | 1 | 0 | 1 | 0 | 0 | 150.093 | 0.867 | 0.835 |  3.370 | -40.227 |\n",
       "| 7 | 1 | 0 | 1 | 1 | 1 | 1 | 1 | 0 | 1 | 1 | 0 | 148.528 | 0.868 | 0.830 |  5.147 | -37.096 |\n",
       "| 8 | 1 | 0 | 1 | 1 | 1 | 1 | 1 | 0 | 1 | 1 | 1 | 147.843 | 0.869 | 0.823 |  7.050 | -33.779 |\n",
       "| 9 | 1 | 0 | 1 | 1 | 1 | 1 | 1 | 1 | 1 | 1 | 1 | 147.574 | 0.869 | 0.815 |  9.011 | -30.371 |\n",
       "\n"
      ],
      "text/plain": [
       "  (Intercept) cyl disp hp drat wt qsec vs am gear carb rss     rsq   adjr2\n",
       "1 1           0   0    0  0    1  0    0  0  0    0    278.322 0.753 0.745\n",
       "2 1           1   0    0  0    1  0    0  0  0    0    191.172 0.830 0.819\n",
       "3 1           0   0    0  0    1  1    0  1  0    0    169.286 0.850 0.834\n",
       "4 1           0   0    1  0    1  1    0  1  0    0    160.066 0.858 0.837\n",
       "5 1           0   1    1  0    1  1    0  1  0    0    153.438 0.864 0.838\n",
       "6 1           0   1    1  1    1  1    0  1  0    0    150.093 0.867 0.835\n",
       "7 1           0   1    1  1    1  1    0  1  1    0    148.528 0.868 0.830\n",
       "8 1           0   1    1  1    1  1    0  1  1    1    147.843 0.869 0.823\n",
       "9 1           0   1    1  1    1  1    1  1  1    1    147.574 0.869 0.815\n",
       "  cp     bic    \n",
       "1 11.627 -37.795\n",
       "2  1.219 -46.348\n",
       "3  0.103 -46.773\n",
       "4  0.790 -45.099\n",
       "5  1.846 -42.987\n",
       "6  3.370 -40.227\n",
       "7  5.147 -37.096\n",
       "8  7.050 -33.779\n",
       "9  9.011 -30.371"
      ]
     },
     "metadata": {},
     "output_type": "display_data"
    }
   ],
   "source": [
    "with(summary(fit),\n",
    "     round(cbind(which,rss,rsq,adjr2, cp, bic),3))"
   ]
  },
  {
   "cell_type": "markdown",
   "id": "29441286-1e0a-4d3c-a43b-3b240908e272",
   "metadata": {},
   "source": [
    "BIC -46.773가 가장 큼 절댓값으로"
   ]
  },
  {
   "cell_type": "code",
   "execution_count": 54,
   "id": "bebb03da-c2ef-463e-905f-cf247c87cac1",
   "metadata": {},
   "outputs": [],
   "source": [
    "fit_4 <- lm(mpg~hp+wt+qsec+am, mtcars)"
   ]
  },
  {
   "cell_type": "code",
   "execution_count": 55,
   "id": "7b9b0f40-3e37-4a61-8275-07d04d7185e1",
   "metadata": {},
   "outputs": [
    {
     "data": {
      "text/plain": [
       "\n",
       "Call:\n",
       "lm(formula = mpg ~ hp + wt + qsec + am, data = mtcars)\n",
       "\n",
       "Residuals:\n",
       "    Min      1Q  Median      3Q     Max \n",
       "-3.4975 -1.5902 -0.1122  1.1795  4.5404 \n",
       "\n",
       "Coefficients:\n",
       "            Estimate Std. Error t value Pr(>|t|)   \n",
       "(Intercept) 17.44019    9.31887   1.871  0.07215 . \n",
       "hp          -0.01765    0.01415  -1.247  0.22309   \n",
       "wt          -3.23810    0.88990  -3.639  0.00114 **\n",
       "qsec         0.81060    0.43887   1.847  0.07573 . \n",
       "am           2.92550    1.39715   2.094  0.04579 * \n",
       "---\n",
       "Signif. codes:  0 ‘***’ 0.001 ‘**’ 0.01 ‘*’ 0.05 ‘.’ 0.1 ‘ ’ 1\n",
       "\n",
       "Residual standard error: 2.435 on 27 degrees of freedom\n",
       "Multiple R-squared:  0.8579,\tAdjusted R-squared:  0.8368 \n",
       "F-statistic: 40.74 on 4 and 27 DF,  p-value: 4.589e-11\n"
      ]
     },
     "metadata": {},
     "output_type": "display_data"
    }
   ],
   "source": [
    "summary(fit_4)"
   ]
  }
 ],
 "metadata": {
  "kernelspec": {
   "display_name": "R",
   "language": "R",
   "name": "ir"
  },
  "language_info": {
   "codemirror_mode": "r",
   "file_extension": ".r",
   "mimetype": "text/x-r-source",
   "name": "R",
   "pygments_lexer": "r",
   "version": "4.1.2"
  }
 },
 "nbformat": 4,
 "nbformat_minor": 5
}
