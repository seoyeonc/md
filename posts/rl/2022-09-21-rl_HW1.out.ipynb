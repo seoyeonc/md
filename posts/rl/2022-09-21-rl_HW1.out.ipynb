{
  "cells": [
    {
      "cell_type": "markdown",
      "metadata": {},
      "source": [
        "# Regression HW 1\n",
        "\n",
        "SEOYEON CHOI  \n",
        "2022-09-21\n",
        "\n",
        "고급회귀분석 과제, CH03, CH04\n",
        "\n",
        "------------------------------------------------------------------------\n",
        "\n",
        "과제1\n",
        "\n",
        "**풀이** :\n",
        "\n",
        "R 이용하지 않고 직접 계산. (R로 단순 계산은 해도 됨)\n",
        "\n",
        "모든 문제에는 풀이가 있어야 함.\n",
        "\n",
        "풀이 없이 답만 있는 경우 ’0’점 처리.\n",
        "\n",
        "-   제출 기한 : 10월 03일\n",
        "\n",
        "**제출 방법** :\n",
        "\n",
        "직접 제출 (607호) 또는 스캔, 사진, tex 작업, 문서 작업 등 후 pdf로 변환\n",
        "후 제출\n",
        "\n",
        "pdf 아닌 경우 미제출 처리\n",
        "\n",
        "------------------------------------------------------------------------\n",
        "\n",
        "# 1.\n",
        "\n",
        "원점을 지나는 회귀모형은 다음과 같이 정의할 수 있다.\n",
        "$$y_i =β_1x_i +ε_i, ε_i ∼_{i.i.d.} N(0,σ^2), i=1,...,n$$ 오차제곱합을\n",
        "정의하고 $β_1$ 의 최소제곱추정량 ($\\hat{β}_1$)을 구하여라.\n",
        "\n",
        "**Answer**\n",
        "\n",
        "$SSE = \\sum(y_i - \\hat{y_i})^2 = \\sum(y_i - \\hat{\\beta_1}x_i)^2$\n",
        "\n",
        "$SSE' = 0 = \\sum(-x_i)2(y_i - \\hat{\\beta_1}x_i )$\n",
        "\n",
        "$\\sum(-x_iy_i) + \\sum(x_i^2\\hat{\\beta_1}) = 0$\n",
        "\n",
        "$\\hat{\\beta_1} = \\frac{\\sum(x_iy_i)}{\\sum(x_i^2)}$\n",
        "\n",
        "# 2.\n",
        "\n",
        "자동차의 무게가 무거우면 이를 움직이는 데 더 많은 연료가 소모된다는 것은\n",
        "알려진 사실이다. 자동차의 무게와 자동차를 1km 움직이는 데 필요한\n",
        "에너지량과의 함수관계를 정확히 판단하기 위하여 A 자동차회사는 다음의\n",
        "자료를 실험을 통하여 얻었다. 실험 비용이 많이 드는 관계로 9번만\n",
        "실험하였다.\n",
        "\n",
        "| 무게 X(단위: 1,000kg) | 에너지소모량 Y(단위: 1,000btu) |\n",
        "|:---------------------:|:------------------------------:|\n",
        "|          0.9          |              2.0               |\n",
        "|          1.3          |              2.6               |\n",
        "|          2.1          |              4.3               |\n",
        "|          2.5          |              5.8               |\n",
        "|          2.4          |              5.1               |\n",
        "|          1.7          |              3.2               |\n",
        "|          0.7          |              1.8               |\n",
        "|          1.2          |              2.3               |\n",
        "|          1.6          |              3.0               |\n",
        "\n",
        "## (1)\n",
        "\n",
        "이 데이터의 산점도를 그리시오."
      ],
      "id": "8891a734-1200-4942-9abc-239b9345779a"
    },
    {
      "cell_type": "code",
      "execution_count": 83,
      "metadata": {},
      "outputs": [
        {
          "output_type": "display_data",
          "metadata": {},
          "data": {}
        }
      ],
      "source": [
        "dt <- data.frame(x = c(0.9,1.3,2.1,2.5,2.4,1.7,0.7,1.2,1.6),\n",
        "                 y = c(2.0,2.6,4.3,5.8,5.1,3.2,1.8,2.3,3.0))\n",
        "dt"
      ],
      "id": "9f8db68c-0bd5-43bc-b19d-4e8b81d32aa0"
    },
    {
      "cell_type": "markdown",
      "metadata": {},
      "source": [
        "**Answer**"
      ],
      "id": "3f5a4a2a-fb16-41e2-bff3-b3beb95cb577"
    },
    {
      "cell_type": "code",
      "execution_count": 84,
      "metadata": {},
      "outputs": [
        {
          "output_type": "display_data",
          "metadata": {},
          "data": {
            "image/png": "[encoded data removed]"
          }
        }
      ],
      "source": [
        "plot(y~x, \n",
        "     data = dt,\n",
        "     xlab = \"무게\",\n",
        "     ylab = \"에너지소모량\",\n",
        "     pch  = 16,\n",
        "     cex  = 1,\n",
        "     col  = \"darkorange\")"
      ],
      "id": "3ecb3ee3-26d8-48e7-8fb9-0635dd06ed55"
    },
    {
      "cell_type": "markdown",
      "metadata": {},
      "source": [
        "-   양의 상관관계가 있어보인다.\n",
        "-   무게가 커질수록 에너지소모량도 큰 경향이 보이기 때문이다.\n",
        "-   우상향의 모양이라, 단순상관선형 적용해보면 되겠다.\n",
        "\n",
        "## (2)\n",
        "\n",
        "최소제곱법의 의한 회귀직선을 적합시키시오.\n",
        "\n",
        "**Answer**"
      ],
      "id": "44aaafa6-8507-4dbe-a486-0d050bb463c0"
    },
    {
      "cell_type": "code",
      "execution_count": 85,
      "metadata": {},
      "outputs": [],
      "source": [
        "dt1 <- data.frame(\n",
        "  i = 1:nrow(dt),\n",
        "  x = dt$x,\n",
        "  y = dt$y,\n",
        "  x_barx = dt$x - mean(dt$x),\n",
        "  y_bary = dt$y - mean(dt$y)) "
      ],
      "id": "551c516b-e6ec-4263-a089-375e13d5320f"
    },
    {
      "cell_type": "markdown",
      "metadata": {},
      "source": [
        "-   $S_{xx}, S_{yy},S_{xy}$를 구해주기 위해\n",
        "    $x_i - \\bar{x}, y_i - \\bar{y}$를 구했다."
      ],
      "id": "7bc6fb4d-d29f-4159-85f0-ed8a5b636f75"
    },
    {
      "cell_type": "code",
      "execution_count": 86,
      "metadata": {},
      "outputs": [],
      "source": [
        "dt1$x_barx2 <- dt1$x_barx^2\n",
        "dt1$y_bary2 <- dt1$y_bary^2\n",
        "dt1$xy <-dt1$x_barx * dt1$y_bary"
      ],
      "id": "51970fdc-5efe-43a0-b259-34a340d990aa"
    },
    {
      "cell_type": "markdown",
      "metadata": {},
      "source": [
        "-   $S_{xx}, S_{yy},S_{xy}$를 구해주었다."
      ],
      "id": "d55706a1-b093-4c4f-a358-9c8298e67cbd"
    },
    {
      "cell_type": "code",
      "execution_count": 87,
      "metadata": {},
      "outputs": [
        {
          "output_type": "display_data",
          "metadata": {},
          "data": {}
        }
      ],
      "source": [
        "dt1"
      ],
      "id": "7ce76acd-c0c9-4ac1-9dc2-08f5d3021f00"
    },
    {
      "cell_type": "markdown",
      "metadata": {},
      "source": [
        "-   반올림 해주었다."
      ],
      "id": "3c14ff43-baa8-4680-b19a-d667d9cba2a0"
    },
    {
      "cell_type": "code",
      "execution_count": 88,
      "metadata": {},
      "outputs": [
        {
          "output_type": "display_data",
          "metadata": {},
          "data": {
            "text/html": [
              "<style>\n",
              ".dl-inline {width: auto; margin:0; padding: 0}\n",
              ".dl-inline>dt, .dl-inline>dd {float: none; width: auto; display: inline-block}\n",
              ".dl-inline>dt::after {content: \":\\0020\"; padding-right: .5ex}\n",
              ".dl-inline>dt:not(:first-of-type) {padding-left: .5ex}\n",
              "</style><dl class=dl-inline><dt>i</dt><dd>45</dd><dt>x</dt><dd>14.4</dd><dt>y</dt><dd>30.1</dd><dt>x_barx</dt><dd>0</dd><dt>y_bary</dt><dd>0</dd><dt>x_barx2</dt><dd>3.26</dd><dt>y_bary2</dt><dd>16.002</dd><dt>xy</dt><dd>7.05</dd></dl>"
            ]
          }
        }
      ],
      "source": [
        "round(colSums(dt1),3)"
      ],
      "id": "f5f9b8aa-32bf-460a-895c-065e37809634"
    },
    {
      "cell_type": "markdown",
      "metadata": {},
      "source": [
        "$\\hat{\\beta_1} = \\frac{S_{xy}}{S_{xx}}$\n",
        "\n",
        "$\\hat{\\beta_0} = \\bar{y} - \\hat{\\beta_1}\\bar{x}$"
      ],
      "id": "f9cee246-b9ef-4302-8773-1e02769a6e39"
    },
    {
      "cell_type": "code",
      "execution_count": 89,
      "metadata": {},
      "outputs": [],
      "source": [
        "beta1 <- as.numeric(colSums(dt1)[8]/colSums(dt1)[6])\n",
        "beta0 <- mean(dt$y) - beta1 *  mean(dt$x)"
      ],
      "id": "2886869d-b90f-416c-9afd-82aac9e1d693"
    },
    {
      "cell_type": "code",
      "execution_count": 90,
      "metadata": {},
      "outputs": [
        {
          "output_type": "stream",
          "name": "stdout",
          "text": [
            "hat beta0 =  -0.1156783hat beta1 =  2.162577"
          ]
        }
      ],
      "source": [
        "cat(\"hat beta0 = \", beta0)\n",
        "cat(\"hat beta1 = \", beta1)"
      ],
      "id": "30771b6b-c9aa-428c-909d-d5a33af8757a"
    },
    {
      "cell_type": "markdown",
      "metadata": {},
      "source": [
        "-   $\\hat{y} = -0.1156783 + 2.162577x$의 모형으로 적합되었다."
      ],
      "id": "48d77e5f-2103-4b05-aeda-c06e1c9afac4"
    },
    {
      "cell_type": "code",
      "execution_count": 108,
      "metadata": {},
      "outputs": [
        {
          "output_type": "display_data",
          "metadata": {},
          "data": {
            "text/plain": [
              "\n",
              "Call:\n",
              "lm(formula = y ~ x, data = dt)\n",
              "\n",
              "Coefficients:\n",
              "(Intercept)            x  \n",
              "    -0.1157       2.1626  "
            ]
          }
        }
      ],
      "source": [
        "lm(y~x,dt)"
      ],
      "id": "31d293bb-5f74-44b3-8b89-0078b8032263"
    },
    {
      "cell_type": "markdown",
      "metadata": {},
      "source": [
        "## (3)\n",
        "\n",
        "데이터의 산점도를 그리고 추정한 회귀직선을 (1)에서 그린 산점도 위에\n",
        "그리시오.\n",
        "\n",
        "**Answer**"
      ],
      "id": "631a608c-9da0-4809-99d6-3420e1b61629"
    },
    {
      "cell_type": "code",
      "execution_count": 92,
      "metadata": {},
      "outputs": [
        {
          "output_type": "display_data",
          "metadata": {},
          "data": {
            "image/png": "[encoded data removed]"
          }
        }
      ],
      "source": [
        "plot(y~x, \n",
        "     data = dt,\n",
        "     xlab = \"무게\",\n",
        "     ylab = \"에너지소모량\",\n",
        "     pch  = 16,\n",
        "     cex  = 1,\n",
        "     col  = \"darkorange\")\n",
        "par(new=TRUE)\n",
        "plot(-0.1156783 +  2.162577*x~x,\n",
        "     data = dt,\n",
        "     xlab = \"\",\n",
        "     ylab = \"\",\n",
        "     pch  = 16,\n",
        "     cex  = 1,type='l',\n",
        "     col  = \"blue\")"
      ],
      "id": "40de8adb-e60f-4878-8297-05d800d26c9e"
    },
    {
      "cell_type": "markdown",
      "metadata": {},
      "source": [
        "-   추정한 회귀직선을 그려보니 오차가 클 것처럼 y와 $\\hat{y}$가 떨어진\n",
        "    값이 많아보인다.\n",
        "\n",
        "## (4)\n",
        "\n",
        "결정계수와 상관계수를 구하시오.\n",
        "\n",
        "$r_{xy} = \\frac{S_{xy}}{\\sqrt{S_{xx}S_{yy}}}$"
      ],
      "id": "025b0286-dd43-4f9c-88ad-720a1ef2199b"
    },
    {
      "cell_type": "code",
      "execution_count": 93,
      "metadata": {},
      "outputs": [
        {
          "output_type": "display_data",
          "metadata": {},
          "data": {
            "text/html": [
              "<strong>xy:</strong> 0.976090685311348"
            ]
          }
        }
      ],
      "source": [
        "rxy = colSums(dt1)[8]/sqrt(colSums(dt1)[6]*colSums(dt1)[7])\n",
        "rxy"
      ],
      "id": "e41eb12e-33f9-4bd2-98b6-907dd349aab6"
    },
    {
      "cell_type": "markdown",
      "metadata": {},
      "source": [
        "-   상관계수는 약 98% 로, $x,y$간 높은 양의 상관관계가 있었다.\n",
        "\n",
        "$R^2 = \\frac{SSR}{SST} = r^2$"
      ],
      "id": "dda1752a-579c-44c6-9036-ba5e29effe57"
    },
    {
      "cell_type": "code",
      "execution_count": 94,
      "metadata": {},
      "outputs": [],
      "source": [
        "SST = sum((dt$y - mean(dt$y))^2)"
      ],
      "id": "0deb2abd-47fd-4008-9f84-97d873e1a4c2"
    },
    {
      "cell_type": "code",
      "execution_count": 95,
      "metadata": {},
      "outputs": [],
      "source": [
        "SSR = sum( ( (-0.1156783 +  2.162577*dt$x)-mean(dt$y) )^2 )"
      ],
      "id": "0f984477-2fdb-4650-8ed4-af0337538c7f"
    },
    {
      "cell_type": "code",
      "execution_count": 96,
      "metadata": {},
      "outputs": [],
      "source": [
        "SSE = sum( ( dt$y-(-0.1156783 +  2.162577*dt$x))^2 )"
      ],
      "id": "11158f27-daea-4877-860c-3c096aaf4c4f"
    },
    {
      "cell_type": "code",
      "execution_count": 97,
      "metadata": {},
      "outputs": [
        {
          "output_type": "stream",
          "name": "stdout",
          "text": [
            "SST =  16.00222\n",
            "SSR =  15.24617\n",
            "SSE =  0.7560566"
          ]
        }
      ],
      "source": [
        "cat(\"SST = \", SST)\n",
        "cat(\"\\nSSR = \", SSR)\n",
        "cat(\"\\nSSE = \", SSE)"
      ],
      "id": "7431e5c5-b4f1-4211-b5fd-6b884ce70f6f"
    },
    {
      "cell_type": "code",
      "execution_count": 98,
      "metadata": {},
      "outputs": [
        {
          "output_type": "display_data",
          "metadata": {},
          "data": {
            "text/html": [
              "0.95275330164195"
            ]
          }
        }
      ],
      "source": [
        "SSR/SST"
      ],
      "id": "80c22763-858c-4b19-b73c-96949420e645"
    },
    {
      "cell_type": "code",
      "execution_count": 99,
      "metadata": {},
      "outputs": [
        {
          "output_type": "display_data",
          "metadata": {},
          "data": {
            "text/html": [
              "<strong>xy:</strong> 0.952753025951577"
            ]
          }
        }
      ],
      "source": [
        "rxy**2"
      ],
      "id": "fb397c6e-5caa-4237-a12a-260c223691d8"
    },
    {
      "cell_type": "markdown",
      "metadata": {},
      "source": [
        "-   결정계수는 약 95%로, 설명력도 높은 편이라고 말할 수 있지만,\n",
        "    결정계수는 다른 모델과 비교할때 언급되는 것이 적절하다.\n",
        "\n",
        "## (5)\n",
        "\n",
        "분산분석표를 작성하고 회귀직선의 유의 여부를 검정하시오 (유의수준\n",
        "$α = 0.05$ 사용)."
      ],
      "id": "f4829894-db91-484d-935c-f41e1ae69eaf"
    },
    {
      "cell_type": "code",
      "execution_count": 100,
      "metadata": {},
      "outputs": [],
      "source": [
        "MSR = SSR/1\n",
        "MSE = SSE/7"
      ],
      "id": "148ddfed-b439-4bb4-95ea-64681b63ec18"
    },
    {
      "cell_type": "code",
      "execution_count": 101,
      "metadata": {},
      "outputs": [
        {
          "output_type": "stream",
          "name": "stdout",
          "text": [
            "MSR =  15.24617\n",
            "MSE =  0.1080081"
          ]
        }
      ],
      "source": [
        "cat(\"MSR = \", MSR)\n",
        "cat(\"\\nMSE = \", MSE)"
      ],
      "id": "1ea29aca-0431-4d46-99ec-46150c77a32e"
    },
    {
      "cell_type": "code",
      "execution_count": 102,
      "metadata": {},
      "outputs": [],
      "source": [
        "Fvalue = MSR/MSE"
      ],
      "id": "fd1109ad-c43c-4206-b69c-48cfb7003694"
    },
    {
      "cell_type": "code",
      "execution_count": 103,
      "metadata": {},
      "outputs": [
        {
          "output_type": "stream",
          "name": "stdout",
          "text": [
            "F value =  141.1577"
          ]
        }
      ],
      "source": [
        "cat(\"F value = \",Fvalue)"
      ],
      "id": "86cb5350-ca14-4c9c-a927-7dda3d4b4b1b"
    },
    {
      "cell_type": "code",
      "execution_count": 104,
      "metadata": {},
      "outputs": [
        {
          "output_type": "stream",
          "name": "stdout",
          "text": [
            "p value =  1.614709e-07"
          ]
        }
      ],
      "source": [
        "cat(\"p value = \",df(Fvalue,1,7))"
      ],
      "id": "87bc9df9-ee32-4c71-a218-d2ed614e9b80"
    },
    {
      "cell_type": "markdown",
      "metadata": {},
      "source": [
        "|           | df  | sum of square | mean of square | F value  |   p value    |\n",
        "|:---------:|:---:|:-------------:|:--------------:|:--------:|:------------:|\n",
        "|     x     |  1  |   15.24617    |    15.24617    | 141.1584 | 1.614672e-07 |\n",
        "| Residuals |  7  |   0.7560522   |   0.1080075    |          |              |\n",
        "\n",
        "-   F값은 141.1584, p value는 1.614672e-07가 나왔다.\n",
        "-   유의수준 5%에서 모형이 유의하다는 것을 알 수 있었다."
      ],
      "id": "c93306f2-b07a-4fd7-8035-c0a8e1face83"
    },
    {
      "cell_type": "code",
      "execution_count": 109,
      "metadata": {},
      "outputs": [
        {
          "output_type": "display_data",
          "metadata": {},
          "data": {}
        }
      ],
      "source": [
        "anova(lm(y~x,dt))"
      ],
      "id": "fe417cf7-78a8-4022-aeb6-038b29a41bbb"
    },
    {
      "cell_type": "markdown",
      "metadata": {},
      "source": [
        "## (6)\n",
        "\n",
        "$\\beta_0,\\beta_1$ 에 대한 90% 신뢰구간을 구하시오.\n",
        "\n",
        "**Answer**\n",
        "\n",
        "$$\\hat{\\beta_0} \\pm t_{(\\alpha/2,n-2)}\\hat{\\sigma} \\sqrt{\\frac{1}{n} + \\frac{\\bar{x}^2}{S_{xx}}}$$"
      ],
      "id": "2c66bf87-8f3b-4c21-803f-e98fcd9d03bb"
    },
    {
      "cell_type": "code",
      "execution_count": 22,
      "metadata": {},
      "outputs": [
        {
          "output_type": "stream",
          "name": "stdout",
          "text": [
            "Beta0 confidence level -0.8514415 ~ 0.620085"
          ]
        }
      ],
      "source": [
        "cat(\"Beta0 confidence level\",beta0 + qt(0.025, 7) * sqrt((MSE)*(1/9 + mean(dt$x)^2/sum((dt$x - mean(dt$x))^2))),\"~\",beta0 + qt(0.975, 7) * sqrt((MSE)*(1/9 + mean(dt$x)^2/sum((dt$x - mean(dt$x))^2))))"
      ],
      "id": "01cb1400-b2d8-4971-93d3-f960aa034845"
    },
    {
      "cell_type": "markdown",
      "metadata": {},
      "source": [
        "$$\\hat{\\beta_1} \\pm t_{(\\alpha/2,n-2)} \\sqrt{\\frac{MSE}{S_{xx}}}$$"
      ],
      "id": "3970223a-4561-4775-abd3-9d1871d11969"
    },
    {
      "cell_type": "code",
      "execution_count": 23,
      "metadata": {},
      "outputs": [
        {
          "output_type": "stream",
          "name": "stdout",
          "text": [
            "Beta1 confidence level 1.732168 ~ 2.592986"
          ]
        }
      ],
      "source": [
        "cat(\"Beta1 confidence level\",beta1 + qt(0.025, 7) * sqrt((MSE)/sum((dt$x - mean(dt$x))^2)),'~',beta1 + qt(0.975, 7) * sqrt((MSE)/sum((dt$x - mean(dt$x))^2)))"
      ],
      "id": "ba68a834-8949-43e2-911e-48cdc3887753"
    },
    {
      "cell_type": "markdown",
      "metadata": {},
      "source": [
        "-   $\\beta_0$의 신뢰구간은 0을 포함하였다.($H_0 : \\beta_0=0$ 채택)\n",
        "-   $\\beta_1$의 신뢰구간은 0을 포함하지 않았다.($H_0 : \\beta_1=0$ 기각)\n",
        "-   신뢰구간으로 신뢰구간에 0이 포함된 $\\beta_1$ 계수만 유의미하다는\n",
        "    것을 알 수 있다.\n",
        "\n",
        "## (7)\n",
        "\n",
        "$H_0 :\\beta_1 =1$ vs. $H_1 :\\beta_1 \\ne 1$의 가설검정을 유의수준\n",
        "$α=0.1$에서 수행하시오.\n",
        "\n",
        "$$\\text{t value} = \\frac{\\hat{\\beta_1} - 1}{s.e(\\hat{\\beta_1})}$$"
      ],
      "id": "4cdce0ff-632b-4684-9496-18714cbeacaf"
    },
    {
      "cell_type": "code",
      "execution_count": 24,
      "metadata": {},
      "outputs": [],
      "source": [
        "Tvalue = (beta1 - 1)/(sqrt((MSE/sum((dt$x - mean(dt$x))^2))))"
      ],
      "id": "5c0a62d3-87c4-4db4-b63c-7ec7620c0d9f"
    },
    {
      "cell_type": "code",
      "execution_count": 25,
      "metadata": {},
      "outputs": [
        {
          "output_type": "display_data",
          "metadata": {},
          "data": {
            "text/html": [
              "6.3870789106442"
            ]
          }
        }
      ],
      "source": [
        "Tvalue"
      ],
      "id": "3a1aaf54-32ff-4881-a596-042d8b0129bb"
    },
    {
      "cell_type": "code",
      "execution_count": 26,
      "metadata": {},
      "outputs": [
        {
          "output_type": "display_data",
          "metadata": {},
          "data": {
            "text/html": [
              "-6.3870789106442"
            ]
          }
        }
      ],
      "source": [
        "-Tvalue"
      ],
      "id": "a33bf7bd-eb40-40e2-bd55-33dec51c4f47"
    },
    {
      "cell_type": "code",
      "execution_count": 27,
      "metadata": {},
      "outputs": [
        {
          "output_type": "display_data",
          "metadata": {},
          "data": {
            "text/html": [
              "1.89457860509001"
            ]
          }
        }
      ],
      "source": [
        "qt(0.95,7)"
      ],
      "id": "e966fde3-a152-4a4d-8abf-7f25f54a8bf1"
    },
    {
      "cell_type": "code",
      "execution_count": 28,
      "metadata": {},
      "outputs": [
        {
          "output_type": "display_data",
          "metadata": {},
          "data": {
            "text/html": [
              "-1.89457860509001"
            ]
          }
        }
      ],
      "source": [
        "qt(0.05,7)"
      ],
      "id": "597d1ecc-0980-482c-8f0c-54bbce5b1ae5"
    },
    {
      "cell_type": "markdown",
      "metadata": {},
      "source": [
        "-   구힌 t value = 6.39가 유의수준 $\\alpha = 0.1$ 에서의 t value =\n",
        "    1.89보다 크기 때문에 유의하다는 결과가 나와 귀무가설을 기각한다.\n",
        "-   따라서 $\\beta_1$은 1이 아니다.\n",
        "\n",
        "figure로 표현"
      ],
      "id": "3a1fefff-8048-4fbd-b091-d1bd3ac2e28e"
    },
    {
      "cell_type": "code",
      "execution_count": 29,
      "metadata": {},
      "outputs": [
        {
          "output_type": "display_data",
          "metadata": {},
          "data": {
            "image/png": "[encoded data removed]"
          }
        }
      ],
      "source": [
        "par(mfrow=c(1,1))\n",
        "basic <- seq(-3,3,by=0.01)\n",
        "plot(basic,dt(basic,df=7),type=\"l\",xlim=c(-8,8))\n",
        "abline(v=Tvalue,col=\"red\",lty=2)\n",
        "abline(v=qt(0.95,7),col=\"blue\",lty=2)\n",
        "text(x=Tvalue, y=c(0.2), labels=c(\"tvalue\\n6.39\"), pos=4, col=\"black\")\n",
        "text(x=qt(0.95,7), y=c(0.2), labels=c(\"t(0.05,7)\\n1.89\"), pos=4, col=\"black\")\n",
        "abline(v=-Tvalue,col=\"red\",lty=2)\n",
        "abline(v=qt(0.05,7),col=\"blue\",lty=2)"
      ],
      "id": "17859afc-a1d0-4b5c-823f-476ce00d8129"
    },
    {
      "cell_type": "markdown",
      "metadata": {},
      "source": [
        "## (8)\n",
        "\n",
        "무게가 3,000kg 이 되는 차량의 평균 에너지 소모량을 예측하시오. 이것은\n",
        "무게가 1,000kg이 되는 차량의 에너지 소모량의 몇 배인가?\n",
        "\n",
        "$$\\hat{\\mu}_0 = \\hat{\\beta_0} + \\hat{\\beta_1} x_0$$"
      ],
      "id": "60dd0f9e-ebcc-496b-b794-fdfed78688a0"
    },
    {
      "cell_type": "code",
      "execution_count": 30,
      "metadata": {},
      "outputs": [
        {
          "output_type": "stream",
          "name": "stdout",
          "text": [
            "평균 에너지 소모량 =  6.372052"
          ]
        }
      ],
      "source": [
        "cat(\"평균 에너지 소모량 = \",beta0 + beta1 * 3)"
      ],
      "id": "12611203-7348-447b-acc6-ca6f616e06ba"
    },
    {
      "cell_type": "code",
      "execution_count": 31,
      "metadata": {},
      "outputs": [
        {
          "output_type": "stream",
          "name": "stdout",
          "text": [
            "무게가 3,000kg 이 되는 차량의 평균 에너지 소모량을 예측해보니 무게가 1,000kg이 되는 차량의 에너지 소모량의 3.113028 배 였다."
          ]
        }
      ],
      "source": [
        "cat(\"무게가 3,000kg 이 되는 차량의 평균 에너지 소모량을 예측해보니 무게가 1,000kg이 되는 차량의 에너지 소모량의\",(beta0 + beta1 * 3)/(beta0 + beta1 * 1),\"배 였다.\")"
      ],
      "id": "9f0882dd-1ef6-45ad-acb4-fd087545cb43"
    },
    {
      "cell_type": "markdown",
      "metadata": {},
      "source": [
        "## (9)\n",
        "\n",
        "무게가 3,000kg 이 되는 차량의 평균 에너지 소모량과 하나의 개별 $y$ 값의\n",
        "90% 신뢰구간을 각각 구하시오.\n",
        "\n",
        "**Answer**"
      ],
      "id": "7f4451fc-2fdc-4106-a7e1-3c85a49a7039"
    },
    {
      "cell_type": "code",
      "execution_count": 32,
      "metadata": {},
      "outputs": [
        {
          "output_type": "stream",
          "name": "stdout",
          "text": [
            "무게가 3,000kg 이 되는 차량의 평균 에너지 소모량은 6.372052 이다."
          ]
        }
      ],
      "source": [
        "cat(\"무게가 3,000kg 이 되는 차량의 평균 에너지 소모량은\",beta0 + beta1 * 3,\"이다.\")"
      ],
      "id": "01b2dee9-b98a-4ded-b2af-a3959670f5be"
    },
    {
      "cell_type": "markdown",
      "metadata": {},
      "source": [
        "$$\\hat{Var(\\hat{\\mu}_0}) = \\sigma (\\frac{1}{n} + \\frac{(x_0 - \\bar{x})^2}{S_{xx}})$$"
      ],
      "id": "4c7e7f19-0004-4def-a96b-f2ecd2f48e5f"
    },
    {
      "cell_type": "code",
      "execution_count": 33,
      "metadata": {},
      "outputs": [],
      "source": [
        "sigma = MSE"
      ],
      "id": "e15b3d71-1f8c-4700-bfac-27d77741d21f"
    },
    {
      "cell_type": "code",
      "execution_count": 34,
      "metadata": {},
      "outputs": [
        {
          "output_type": "display_data",
          "metadata": {},
          "data": {
            "text/html": [
              "1.6"
            ]
          }
        }
      ],
      "source": [
        "mean(dt$x)"
      ],
      "id": "1f69dfdc-74e7-4a89-82b6-f209dc14aed7"
    },
    {
      "cell_type": "markdown",
      "metadata": {},
      "source": [
        "$S_{xx}$"
      ],
      "id": "fa7c262c-03e8-4db9-a091-b840aa2c6bd2"
    },
    {
      "cell_type": "code",
      "execution_count": 35,
      "metadata": {},
      "outputs": [
        {
          "output_type": "display_data",
          "metadata": {},
          "data": {
            "text/html": [
              "3.26"
            ]
          }
        }
      ],
      "source": [
        "sum((dt$x - mean(dt$x))^2)"
      ],
      "id": "248d99c9-e5bc-4577-bb4e-c587ed085d4a"
    },
    {
      "cell_type": "code",
      "execution_count": 36,
      "metadata": {},
      "outputs": [
        {
          "output_type": "display_data",
          "metadata": {},
          "data": {
            "text/html": [
              "<strong>x_barx2:</strong> 3.26"
            ]
          }
        }
      ],
      "source": [
        "colSums(dt1)[6]"
      ],
      "id": "074438d7-fd47-4f5a-ab1c-3b642575b7c6"
    },
    {
      "cell_type": "markdown",
      "metadata": {},
      "source": [
        "$\\hat{Var(\\hat{\\mu_0})}$"
      ],
      "id": "f245b118-0551-4ee5-a7b7-abeb424c89d9"
    },
    {
      "cell_type": "code",
      "execution_count": 37,
      "metadata": {},
      "outputs": [
        {
          "output_type": "display_data",
          "metadata": {},
          "data": {
            "text/html": [
              "0.234106948837031"
            ]
          }
        }
      ],
      "source": [
        "sqrt(sigma)*(1/9 + (3-1.6)^2/3.26)"
      ],
      "id": "aed6b53c-394d-4430-afe3-0f38dd59a981"
    },
    {
      "cell_type": "code",
      "execution_count": 38,
      "metadata": {},
      "outputs": [
        {
          "output_type": "stream",
          "name": "stdout",
          "text": [
            "hat var(hat mu zero) =  0.2341069"
          ]
        }
      ],
      "source": [
        "cat(\"hat var(hat mu zero) = \",sqrt(sigma)*(1/9 + (3-1.6)^2/3.26))"
      ],
      "id": "8fffe119-f353-4496-a8a3-f91171d9e9f2"
    },
    {
      "cell_type": "markdown",
      "metadata": {},
      "source": [
        "$\\hat{\\sigma}_{\\hat{\\mu_0}}$"
      ],
      "id": "28ddca26-a777-42d2-b80b-e304d6209c7c"
    },
    {
      "cell_type": "code",
      "execution_count": 39,
      "metadata": {},
      "outputs": [
        {
          "output_type": "display_data",
          "metadata": {},
          "data": {
            "text/html": [
              "0.483845997024912"
            ]
          }
        }
      ],
      "source": [
        "sqrt(sqrt(sigma)*(1/9 + (3-1.6)^2/3.26))"
      ],
      "id": "9c418d07-414d-4e83-b3ed-64a341eb333a"
    },
    {
      "cell_type": "code",
      "execution_count": 40,
      "metadata": {},
      "outputs": [
        {
          "output_type": "stream",
          "name": "stdout",
          "text": [
            "hat sigma(hat mu zero) =  0.483846"
          ]
        }
      ],
      "source": [
        "cat(\"hat sigma(hat mu zero) = \", sqrt(sqrt(sigma)*(1/9 + (3-1.6)^2/3.26)))"
      ],
      "id": "6b4eadd6-03e7-41f7-94a2-99994f9fce4f"
    },
    {
      "cell_type": "markdown",
      "metadata": {},
      "source": [
        "$\\hat{\\mu_0} \\pm t_{(\\alpha/2,(n-2))}\\hat{\\sigma_{\\hat{\\mu_0}}}$"
      ],
      "id": "6df967e0-f608-4230-8461-749ff8384ea5"
    },
    {
      "cell_type": "code",
      "execution_count": 41,
      "metadata": {},
      "outputs": [
        {
          "output_type": "display_data",
          "metadata": {},
          "data": {
            "text/html": [
              "7.28873627412184"
            ]
          }
        }
      ],
      "source": [
        "6.372052 + qt(0.95,7)*sqrt(sqrt(sigma)*(1/9 + (3-1.6)^2/3.26))"
      ],
      "id": "dddf45d1-05f9-453c-9507-81df076a7587"
    },
    {
      "cell_type": "code",
      "execution_count": 42,
      "metadata": {},
      "outputs": [
        {
          "output_type": "display_data",
          "metadata": {},
          "data": {
            "text/html": [
              "5.45536772587816"
            ]
          }
        }
      ],
      "source": [
        "6.372052 - qt(0.95,7)*sqrt(sqrt(sigma)*(1/9 + (3-1.6)^2/3.26))"
      ],
      "id": "6253e314-a2e5-4bbb-9f94-3ecc5fea28a2"
    },
    {
      "cell_type": "code",
      "execution_count": 43,
      "metadata": {},
      "outputs": [
        {
          "output_type": "stream",
          "name": "stdout",
          "text": [
            "개별 y값의 90% 신뢰구간은 ( 5.455369 ~ 7.288735 ) 이다."
          ]
        }
      ],
      "source": [
        "cat(\"개별 y값의 90% 신뢰구간은 (\",5.4553690631157,\"~\",7.2887349368843,\") 이다.\")"
      ],
      "id": "17c3a6eb-0a62-444e-8ec7-7c727dc8a3f9"
    },
    {
      "cell_type": "markdown",
      "metadata": {},
      "source": [
        "## (10)\n",
        "\n",
        "잔차 $e_i = y_i − \\hat{y}_i$ 를 구하고 잔차의 합이 0 임을 확인하시오.\n",
        "\n",
        "**Answer**"
      ],
      "id": "e83441f0-ef8b-49de-a235-141ed1d17218"
    },
    {
      "cell_type": "code",
      "execution_count": 44,
      "metadata": {},
      "outputs": [],
      "source": [
        "epsilon = dt$y - (beta0 + beta1*dt$x)"
      ],
      "id": "263b5c0f-55e5-4397-9f87-f473d0a7cc1c"
    },
    {
      "cell_type": "code",
      "execution_count": 45,
      "metadata": {},
      "outputs": [
        {
          "output_type": "display_data",
          "metadata": {},
          "data": {
            "text/html": [
              "<style>\n",
              ".list-inline {list-style: none; margin:0; padding: 0}\n",
              ".list-inline>li {display: inline-block}\n",
              ".list-inline>li:not(:last-child)::after {content: \"\\00b7\"; padding: 0 .5ex}\n",
              "</style>\n",
              "<ol class=list-inline><li>0.169359236537151</li><li>-0.0956714383094752</li><li>-0.125732788002726</li><li>0.509236537150648</li><li>0.0254942058623033</li><li>-0.3607021131561</li><li>0.401874573960464</li><li>-0.179413769597819</li><li>-0.344444444444445</li></ol>"
            ]
          }
        }
      ],
      "source": [
        "epsilon"
      ],
      "id": "d4214c8f-e2fc-4f27-81bc-73c4c6593291"
    },
    {
      "cell_type": "code",
      "execution_count": 46,
      "metadata": {},
      "outputs": [
        {
          "output_type": "stream",
          "name": "stdout",
          "text": [
            "잔차의 합 =  8.881784e-16"
          ]
        }
      ],
      "source": [
        "cat(\"잔차의 합 = \",sum(epsilon))"
      ],
      "id": "7ef653da-1893-4586-9342-342470e563a7"
    },
    {
      "cell_type": "markdown",
      "metadata": {},
      "source": [
        "합이 0인 것을 확인했다.\n",
        "\n",
        "## (11)\n",
        "\n",
        "잔차들의 $x_i$ 에 대한 가중합, $\\sum x_ie_i$ 를 구하시오."
      ],
      "id": "f6a768f3-a399-4146-97ed-f53106973931"
    },
    {
      "cell_type": "code",
      "execution_count": 47,
      "metadata": {},
      "outputs": [
        {
          "output_type": "display_data",
          "metadata": {},
          "data": {
            "text/html": [
              "9.99200722162641e-16"
            ]
          }
        }
      ],
      "source": [
        "sum(dt$x * epsilon)"
      ],
      "id": "0709e5ae-d48f-4ac5-9bd3-a8ec0387f656"
    },
    {
      "cell_type": "markdown",
      "metadata": {},
      "source": [
        "잔차들의 $x_i$ 에 대한 가중합, $\\sum x_ie_i$이 0인 것을 확인했다.\n",
        "\n",
        "## (12)\n",
        "\n",
        "잔차들의 $\\hat{y}$에 대한 가중합 $\\sum \\hat{y}_ie_i$, 를 구하시오."
      ],
      "id": "7c02656c-16b6-46b0-8f31-a0cc1d34593d"
    },
    {
      "cell_type": "code",
      "execution_count": 48,
      "metadata": {},
      "outputs": [
        {
          "output_type": "display_data",
          "metadata": {},
          "data": {
            "text/html": [
              "1.74860126378462e-15"
            ]
          }
        }
      ],
      "source": [
        "sum((beta0 + beta1*dt$x)*epsilon)"
      ],
      "id": "41718459-f330-4ec8-a953-02674c172dcc"
    },
    {
      "cell_type": "markdown",
      "metadata": {},
      "source": [
        "잔차들의 $\\hat{y}$에 대한 가중합 $\\sum \\hat{y}_ie_i$이 0인 것을\n",
        "확인했다.\n",
        "\n",
        "## (13)\n",
        "\n",
        "원점을 지나는 회귀직선을 구하시오.\n",
        "\n",
        "**Answer**\n",
        "\n",
        "$\\hat{\\beta_1} = \\frac{\\sum(x_iy_i)}{\\sum(x_i^2)}$"
      ],
      "id": "e777e94d-44d0-4dac-aa3d-f176e289e95a"
    },
    {
      "cell_type": "code",
      "execution_count": 49,
      "metadata": {},
      "outputs": [
        {
          "output_type": "display_data",
          "metadata": {},
          "data": {
            "text/html": [
              "2.09923954372624"
            ]
          }
        }
      ],
      "source": [
        "sum(dt$x * dt$y)/sum((dt$x^2))"
      ],
      "id": "86771a7b-62c3-4858-bc60-cdb94b21f42c"
    },
    {
      "cell_type": "code",
      "execution_count": 50,
      "metadata": {},
      "outputs": [],
      "source": [
        "beta1_0 <- sum(dt$x * dt$y)/sum((dt$x^2))"
      ],
      "id": "1e00fe99-1e9e-47f3-b98f-033096aaef38"
    },
    {
      "cell_type": "code",
      "execution_count": 51,
      "metadata": {},
      "outputs": [
        {
          "output_type": "stream",
          "name": "stdout",
          "text": [
            "hat beta1_0 =  2.09924"
          ]
        }
      ],
      "source": [
        "cat(\"hat beta1_0 = \", beta1_0)"
      ],
      "id": "b3156a50-cf55-4338-bd22-364f0b1871eb"
    },
    {
      "cell_type": "markdown",
      "metadata": {},
      "source": [
        "-   원점을 지나는 회귀직선은 $\\hat{y} = 2.09924x$의 모형으로 적합되었다.\n",
        "\n",
        "## (14)\n",
        "\n",
        "위 회귀직선에서 회귀계수(기울기)의 90% 신뢰구간을 구하시오.\n",
        "\n",
        "**Answer**\n",
        "\n",
        "$$\\hat{\\beta_1} \\pm t_{(\\alpha/2,n-1)}\\frac{\\hat{\\sigma}}{\\sqrt{S_{xx}}}$$"
      ],
      "id": "e99d0e1e-412c-4162-b2f9-9502c7b84b44"
    },
    {
      "cell_type": "code",
      "execution_count": 52,
      "metadata": {},
      "outputs": [
        {
          "output_type": "display_data",
          "metadata": {},
          "data": {
            "text/html": [
              "<strong>x_barx2:</strong> 3.26"
            ]
          }
        }
      ],
      "source": [
        "colSums(dt1)[6]"
      ],
      "id": "5d1e2b83-f24b-48f7-886f-26269bab482c"
    },
    {
      "cell_type": "code",
      "execution_count": 53,
      "metadata": {},
      "outputs": [],
      "source": [
        "SSR_0 = sum( ( (2.09924*dt$x) )^2 )"
      ],
      "id": "f91c64b8-a672-4d9e-a005-0ef8a9deb09b"
    },
    {
      "cell_type": "code",
      "execution_count": 54,
      "metadata": {},
      "outputs": [],
      "source": [
        "SSE_0 = sum((dt$y - 2.09924*dt$x)^2)"
      ],
      "id": "69c8c32c-b367-4516-86c3-33fc9d62a60c"
    },
    {
      "cell_type": "code",
      "execution_count": 55,
      "metadata": {},
      "outputs": [],
      "source": [
        "SST_0 = sum(dt$y^2)"
      ],
      "id": "dfc0125c-8ebb-421c-8c75-9373616ed4c4"
    },
    {
      "cell_type": "code",
      "execution_count": 56,
      "metadata": {},
      "outputs": [],
      "source": [
        "MSE_0 = SSE_0/8"
      ],
      "id": "69f07592-e871-4838-bbf8-21bb2c8537ca"
    },
    {
      "cell_type": "code",
      "execution_count": 57,
      "metadata": {},
      "outputs": [],
      "source": [
        "MSR_0 = SSR_0/1"
      ],
      "id": "793cd412-92dd-49e0-bf8c-9cb03b641949"
    },
    {
      "cell_type": "code",
      "execution_count": 58,
      "metadata": {},
      "outputs": [],
      "source": [
        "sigma_0 = sqrt(MSE_0)"
      ],
      "id": "c48ebd58-c165-4a03-9ade-15966e107cfb"
    },
    {
      "cell_type": "code",
      "execution_count": 59,
      "metadata": {},
      "outputs": [
        {
          "output_type": "display_data",
          "metadata": {},
          "data": {
            "text/html": [
              "2.41896448320474"
            ]
          }
        }
      ],
      "source": [
        "beta1_0 + qt(0.95,8) * sigma_0/sqrt(3.26)"
      ],
      "id": "c92c13a8-14f0-4e0e-9968-1e1b033fcef9"
    },
    {
      "cell_type": "code",
      "execution_count": 60,
      "metadata": {},
      "outputs": [
        {
          "output_type": "display_data",
          "metadata": {},
          "data": {
            "text/html": [
              "1.77951460424773"
            ]
          }
        }
      ],
      "source": [
        "beta1_0 - qt(0.95,8) * sigma_0/sqrt(3.26)"
      ],
      "id": "dc4ff775-7df3-487b-9c78-d57e6a7a9183"
    },
    {
      "cell_type": "code",
      "execution_count": 61,
      "metadata": {},
      "outputs": [
        {
          "output_type": "stream",
          "name": "stdout",
          "text": [
            "원점을 지나는 회귀직선에서 회귀계수(기울기)의 90% 신뢰구간은 ( 1.779515 ~ 2.418964 )이다."
          ]
        }
      ],
      "source": [
        "cat(\"원점을 지나는 회귀직선에서 회귀계수(기울기)의 90% 신뢰구간은 (\",beta1_0 - qt(0.95,8) * sigma_0/sqrt(3.26),\"~\",beta1_0 + qt(0.95,8) * sigma_0/sqrt(3.26),\")이다.\")"
      ],
      "id": "11144cb5-6dbd-4260-8882-98b03ff62945"
    },
    {
      "cell_type": "markdown",
      "metadata": {},
      "source": [
        "-   $\\beta_1$의 신뢰구간은 0을 포함하지 않았다.($H_0 : \\beta_1=0$ 기각)\n",
        "-   신뢰구간으로 신뢰구간에 0이 포함된 $\\beta_1$ 계수가 유의미하다는\n",
        "    것을 알 수 있다.\n",
        "\n",
        "## (15)\n",
        "\n",
        "원점을 지나는 회귀직선의 결정계수를 구하시오.\n",
        "\n",
        "**Answer**\n",
        "\n",
        "$R^2 = \\frac{SSR}{SST} = r^2$"
      ],
      "id": "311c483f-082e-4929-b1d4-f44ef1bde27e"
    },
    {
      "cell_type": "code",
      "execution_count": 62,
      "metadata": {},
      "outputs": [
        {
          "output_type": "display_data",
          "metadata": {},
          "data": {
            "text/html": [
              "0.993392179573841"
            ]
          }
        }
      ],
      "source": [
        "SSR_0/SST_0"
      ],
      "id": "cdc4dfe0-6220-48ab-a22d-ca0754ca3486"
    },
    {
      "cell_type": "code",
      "execution_count": 63,
      "metadata": {},
      "outputs": [
        {
          "output_type": "stream",
          "name": "stdout",
          "text": [
            "원점을 지나는 회귀직선의 결정계수는  0.9933922 로 약 0.99 % 였다."
          ]
        }
      ],
      "source": [
        "cat(\"원점을 지나는 회귀직선의 결정계수는 \", SSR_0/SST_0,\"로 약\",round(SSR_0/SST_0,2),\"% 였다.\")"
      ],
      "id": "9f9a2d19-882e-452e-ae16-628072278426"
    },
    {
      "cell_type": "markdown",
      "metadata": {},
      "source": [
        "## (16)\n",
        "\n",
        "원점을 포함한 회귀직선과 포함하지 않은 회귀직선의 결과를 비교하여라.\n",
        "\n",
        "**Answer**"
      ],
      "id": "b6a70870-ed38-445e-a95f-b7848f6d07fd"
    },
    {
      "cell_type": "code",
      "execution_count": 64,
      "metadata": {},
      "outputs": [
        {
          "output_type": "stream",
          "name": "stdout",
          "text": [
            "원점을 포함하지 않는 회귀직선의 결정계수는  0.9527533 로, 원점을 포함하는 회귀직선의 결정계수인  0.9933922 보다 작다."
          ]
        }
      ],
      "source": [
        "cat(\"원점을 포함하지 않는 회귀직선의 결정계수는 \",SSR/SST,\"로, 원점을 포함하는 회귀직선의 결정계수인 \",SSR_0/SST_0,\"보다 작다.\")"
      ],
      "id": "dcd21555-9572-4ae8-bf2c-23133b3ebfc2"
    },
    {
      "cell_type": "code",
      "execution_count": 65,
      "metadata": {},
      "outputs": [
        {
          "output_type": "stream",
          "name": "stdout",
          "text": [
            "원점을 포함하지 않는 회귀직선의 평균재곱오차는  0.1080081 이며, 원점을 포함하는 회귀직선의 평균제곱오차는  0.0963731 이다. 원점을 포함하는 모형의 오차가 조금 더 작았다."
          ]
        }
      ],
      "source": [
        "cat(\"원점을 포함하지 않는 회귀직선의 평균재곱오차는 \",MSE,\"이며, 원점을 포함하는 회귀직선의 평균제곱오차는 \",MSE_0,\"이다. 원점을 포함하는 모형의 오차가 조금 더 작았다.\")"
      ],
      "id": "59aaf742-9eaf-4b0e-a9d1-0059ba5a18cc"
    },
    {
      "cell_type": "code",
      "execution_count": 66,
      "metadata": {},
      "outputs": [],
      "source": [
        "Fvalue = MSR/MSE"
      ],
      "id": "22b1231d-210c-499e-8817-a36703987ad5"
    },
    {
      "cell_type": "code",
      "execution_count": 67,
      "metadata": {},
      "outputs": [],
      "source": [
        "Fvalue_0 = MSR_0 / MSE_0"
      ],
      "id": "654651f0-fcf5-4b29-a622-30444c698265"
    },
    {
      "cell_type": "code",
      "execution_count": 68,
      "metadata": {},
      "outputs": [
        {
          "output_type": "stream",
          "name": "stdout",
          "text": [
            "원점을 포함하지 않는 회귀직선의 F 값은  141.1577 로, 원점을 포함하는 회귀직선의 F 값인  1202.608 보다 작다. 따라서 원점을 포함한 모델이 회귀모형애 의해 설명되는 부분이 더 크며, 오차항에 기인된 부분이 더 작다."
          ]
        }
      ],
      "source": [
        "cat(\"원점을 포함하지 않는 회귀직선의 F 값은 \",Fvalue,\"로, 원점을 포함하는 회귀직선의 F 값인 \",Fvalue_0,\"보다 작다. 따라서 원점을 포함한 모델이 회귀모형애 의해 설명되는 부분이 더 크며, 오차항에 기인된 부분이 더 작다.\")"
      ],
      "id": "99214098-9575-4ca1-9142-c2d9e15346bf"
    },
    {
      "cell_type": "code",
      "execution_count": 69,
      "metadata": {},
      "outputs": [
        {
          "output_type": "stream",
          "name": "stdout",
          "text": [
            "원점을 포함하지 않는 회귀직선의 p value 는  1.614709e-07 로, 원점을 포함하는 회귀직선의 p value인 1.728622e-12 과 같이 p value이 충분히 작아 두 모형이 모두 유의함을 알 수 있었다."
          ]
        }
      ],
      "source": [
        "cat(\"원점을 포함하지 않는 회귀직선의 p value 는 \",df(Fvalue,1,7),\"로, 원점을 포함하는 회귀직선의 p value인\",df(Fvalue_0,1,8),\"과 같이 p value이 충분히 작아 두 모형이 모두 유의함을 알 수 있었다.\")"
      ],
      "id": "07a62866-9036-40c6-9ecb-43d1dce7a9fe"
    },
    {
      "cell_type": "code",
      "execution_count": 70,
      "metadata": {},
      "outputs": [
        {
          "output_type": "display_data",
          "metadata": {},
          "data": {
            "image/png": "[encoded data removed]"
          }
        },
        {
          "output_type": "display_data",
          "metadata": {},
          "data": {
            "image/png": "[encoded data removed]"
          }
        }
      ],
      "source": [
        "plot(beta0 + beta1*x~x,\n",
        "     data = dt,\n",
        "     xlab = \"원점을 지나지 않는 모형\",\n",
        "     ylab = \"\",\n",
        "     pch  = 16,\n",
        "     cex  = 1,type='l',\n",
        "     col  = \"blue\")\n",
        "plot(beta1_0*x~x,\n",
        "     data = dt,\n",
        "     xlab = \"원점을 지나는 모형\",\n",
        "     ylab = \"\",\n",
        "     pch  = 16,\n",
        "     cex  = 1,type='l',\n",
        "     col  = \"red\")"
      ],
      "id": "0e67a6a2-fe1c-4b7b-af28-a163cff057d7"
    },
    {
      "cell_type": "markdown",
      "metadata": {},
      "source": [
        "-   선형성 만족"
      ],
      "id": "4feb1f94-466d-49ee-8547-a5b4d7929b3a"
    },
    {
      "cell_type": "code",
      "execution_count": 71,
      "metadata": {},
      "outputs": [],
      "source": [
        "epsilon = dt$y - beta0 + beta1*dt$x\n",
        "epsilon_0 = dt$y - beta1_0*dt$x"
      ],
      "id": "cf923c43-bf30-4476-8c07-e5e055d076ad"
    },
    {
      "cell_type": "code",
      "execution_count": 72,
      "metadata": {},
      "outputs": [
        {
          "output_type": "display_data",
          "metadata": {},
          "data": {
            "image/png": "[encoded data removed]"
          }
        },
        {
          "output_type": "display_data",
          "metadata": {},
          "data": {
            "image/png": "[encoded data removed]"
          }
        }
      ],
      "source": [
        "plot(epsilon,\n",
        "     xlab = \"원점을 지나지 않는 모형\",\n",
        "     ylab = \"\",\n",
        "     pch  = 16,\n",
        "     cex  = 1,\n",
        "     col  = \"blue\")\n",
        "plot(epsilon_0,\n",
        "     xlab = \"원점을 지나는 모형\",\n",
        "     ylab = \"\",\n",
        "     pch  = 16,\n",
        "     cex  = 1,\n",
        "     col  = \"red\")"
      ],
      "id": "c1691d32-9726-47aa-8776-f7ad8b67a5d1"
    },
    {
      "cell_type": "markdown",
      "metadata": {},
      "source": [
        "-   원점을 지나지 않는 모형이 한쪽 부호에 머무는 경향이\n",
        "    있어보인다.(독립성을 만족하지 않을 수 있다.)\n",
        "-   원점을 지나는 모형은 그러한 경향이 없고, 등분산성을 만족하는 것처럼\n",
        "    보인다."
      ],
      "id": "9b5a25c3-2be6-4226-8faa-a439be419719"
    },
    {
      "cell_type": "code",
      "execution_count": 73,
      "metadata": {},
      "outputs": [
        {
          "output_type": "display_data",
          "metadata": {},
          "data": {
            "text/plain": [
              "\n",
              "    Shapiro-Wilk normality test\n",
              "\n",
              "data:  beta0 + beta1 * dt$x\n",
              "W = 0.95279, p-value = 0.7207"
            ]
          }
        }
      ],
      "source": [
        "shapiro.test(beta0 + beta1*dt$x)"
      ],
      "id": "9987029e-27e0-4db9-b214-d7e059b0f67b"
    },
    {
      "cell_type": "code",
      "execution_count": 74,
      "metadata": {},
      "outputs": [
        {
          "output_type": "display_data",
          "metadata": {},
          "data": {
            "text/plain": [
              "\n",
              "    Shapiro-Wilk normality test\n",
              "\n",
              "data:  beta1_0 * dt$x\n",
              "W = 0.95279, p-value = 0.7207"
            ]
          }
        }
      ],
      "source": [
        "shapiro.test(beta1_0*dt$x)"
      ],
      "id": "943885bb-94c3-4150-904a-e8779f919ec8"
    },
    {
      "cell_type": "markdown",
      "metadata": {},
      "source": [
        "-   두 모형 모두 정규성 가정을 만족했다.\n",
        "\n",
        "ANOVA table 비교\n",
        "\n",
        "| y=beta0+beta1x | df  | sum of square | mean of square | F value  |   p value    |\n",
        "|:--------------:|:---:|:-------------:|:--------------:|:--------:|:------------:|\n",
        "|       x        |  1  |   15.24617    |    15.24617    | 141.1584 | 1.614672e-07 |\n",
        "|   Residuals    |  7  |   0.7560522   |   0.1080075    |          |              |\n",
        "\n",
        "| y=beta1x  | df  |  sum of square  | mean of square  |     F value      |   p value    |\n",
        "|:---------:|:---:|:---------------:|:---------------:|:----------------:|:------------:|\n",
        "|     x     |  1  | 115.89906559088 | 115.89906559088 | 1202.60806139735 | 1.728622e-12 |\n",
        "| Residuals |  8  |  0.77098479088  |  0.09637309886  |                  |              |\n",
        "\n",
        "# 3.\n",
        "\n",
        "(강의노트 CH04, p9) 다음이 성립함을 증명하시오.\n",
        "\n",
        "$$\\hat{\\beta}_0 \\sim N\\big( \\beta_0 , \\sigma^2\\big( \\frac{1}{n} + \\frac{\\bar{x}^2}{S_{(xx)}} \\big) \\big)$$\n",
        "\n",
        "**Answer**\n",
        "\n",
        "$\\hat{\\beta_0}$\n",
        "\n",
        "$= \\bar{y} - \\hat{\\beta_1} \\bar{x} = \\bar{y} - \\frac{S_{xy}}{S_{xx}}\\bar{x}$\n",
        "\n",
        "$= \\bar{y} - \\frac{\\sum(x_i - \\bar{x})(y_i - \\bar{y})}{S_{xx}}\\bar{x}$\n",
        "\n",
        "$= \\bar{y} - \\sum\\frac{(x_i-\\bar{x})y_i\\bar{x}-(x_i - \\bar{x})\\bar{y}\\bar{x}}{S_{xx}}$\n",
        "\n",
        "$= \\bar{y} - \\sum\\frac{(x_i - \\bar{x})}{S_{xx}}y_i\\bar{x} - \\frac{\\bar{x}\\bar{y}}{S_{xx}}\\sum(x_i - \\bar{x})$\n",
        "\n",
        "$= \\bar{y} - \\sum\\frac{(s_i - \\bar{x})}{S_{xx}}y_i\\bar{x}$\n",
        "\n",
        "$\\approx \\bar{y} - \\sum a_iy_i\\bar{x}$\n",
        "\n",
        "$E(\\hat{\\beta_0})$\n",
        "\n",
        "$=\\bar{y} - \\bar{x}\\sum a_i E(y_i)$\n",
        "\n",
        "$=\\bar{y} - \\bar{x}\\sum a_i (\\beta_0 + \\beta_1 x_i)$\n",
        "\n",
        "$=\\bar{y} - (\\beta_0\\bar{x}\\sum a_i + \\beta_1 \\bar{x} \\sum a_i x_i)$\n",
        "\n",
        "$=\\bar{y} - \\beta_1\\bar{x} = \\beta_0$\n",
        "\n",
        "$\\star \\sum a_i = \\sum\\frac{x_i - \\bar{x}}{S_{xx}} = \\frac{1}{S_{xx}}\\sum(x_i-\\bar{x} )= 0$\n",
        "\n",
        "$\\star \\sum a_i x_i = \\sum\\frac{(x_i - \\bar{x})x_i}{S_{xx}}= \\frac{1}{S_{xx}} \\sum(x_i - \\bar{x})(x_i - \\bar{x} + \\bar{x}) = \\frac{1}{S_{xx}} \\sum(x_i - \\bar{x})^2 + \\frac{\\bar{x}}{S_{xx}} \\sum(x_i - \\bar{x}) = \\frac{1}{S_{xx}} \\sum(x_i - \\bar{x})^2 = 1$\n",
        "\n",
        "$Var(\\hat{\\beta_0})$\n",
        "\n",
        "$=Var(\\bar{y} - \\bar{x}\\sum a_i x_i)$\n",
        "\n",
        "$=Var(\\frac{y_i}{n} - \\bar{x}\\sum a_i y_i)$\n",
        "\n",
        "$=\\frac{\\sigma^2}{n} - \\bar{x}^2\\sigma^2\\sum a_i^2$\n",
        "\n",
        "$= \\frac{\\sigma^2}{n} - \\frac{\\bar{x}^2\\sigma^2}{S_{xx}}$\n",
        "\n",
        "$= \\sigma^2(\\frac{1}{n} - \\frac{\\bar{x}^2}{S_{xx}})$\n",
        "\n",
        "$\\star \\sum a_i^2 = \\sum\\frac{(x_i - \\bar{x})^2}{S_{xx}^2} = \\frac{1}{S_{xx}^2}\\sum(x_i - \\bar{x})^2 = \\frac{1}{S_{xx}}$"
      ],
      "id": "e2546c51-ebd1-4220-b658-d2b45fd70877"
    }
  ],
  "nbformat": 4,
  "nbformat_minor": 5,
  "metadata": {
    "kernelspec": {
      "name": "ir",
      "display_name": "R",
      "language": "R"
    },
    "language_info": {
      "name": "R",
      "codemirror_mode": "r",
      "file_extension": ".r",
      "mimetype": "text/x-r-source",
      "pygments_lexer": "r",
      "version": "4.1.2"
    }
  }
}