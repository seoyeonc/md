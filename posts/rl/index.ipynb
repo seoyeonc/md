{
  "cells": [
    {
      "cell_type": "markdown",
      "metadata": {},
      "source": [
        "# Advanced Regression Analysis\n",
        "\n",
        "SEOYEON CHOI  \n",
        "2022-09-01\n",
        "\n",
        "Those are posts of Advanced Regression Analysis."
      ],
      "id": "8c5772ab-1888-446f-82cc-0a3af0b930d4"
    }
  ],
  "nbformat": 4,
  "nbformat_minor": 5,
  "metadata": {
    "kernelspec": {
      "display_name": "Python 3",
      "language": "python",
      "name": "python3"
    }
  }
}