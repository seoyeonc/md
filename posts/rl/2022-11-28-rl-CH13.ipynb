{
 "cells": [
  {
   "cell_type": "raw",
   "id": "ef084c7b-be51-4b4b-863c-93936a4b40b0",
   "metadata": {
    "id": "cac470df-29e7-4148-9bbd-d8b9a32fa570",
    "tags": []
   },
   "source": [
    "---\n",
    "title: \"고급회귀분석 실습 CH13\"\n",
    "author: \"SEOYEON CHOI\"\n",
    "date: \"2022-11-28\"\n",
    "categories:\n",
    "  - Advanced Regression Analysis\n",
    "---"
   ]
  },
  {
   "cell_type": "markdown",
   "id": "a9983b93-5fca-4867-9246-13d214a5f56c",
   "metadata": {},
   "source": [
    "chapter 13"
   ]
  },
  {
   "cell_type": "markdown",
   "id": "5132c91b-4921-4f2e-b494-f6610f7e73f7",
   "metadata": {},
   "source": [
    "# 가변수"
   ]
  },
  {
   "cell_type": "code",
   "execution_count": 1,
   "id": "a220df0d-ee61-434b-bd04-7d1aef029688",
   "metadata": {},
   "outputs": [],
   "source": [
    "library(ggplot2)"
   ]
  },
  {
   "cell_type": "markdown",
   "id": "3c4d7dbd-2dfe-4d9b-b289-5a829fde5f1d",
   "metadata": {},
   "source": [
    "## Example"
   ]
  },
  {
   "cell_type": "code",
   "execution_count": 2,
   "id": "a8687525-d408-46d7-9c76-41d04a7ba11a",
   "metadata": {},
   "outputs": [],
   "source": [
    "dt <- data.frame(\n",
    "  y = c(17,26,21,30,22,1,12,19,4,16,\n",
    "        28,15,11,38,31,21,20,13,30,14),\n",
    "  x1 = c(151,92,175,31,104,277,210,120,290,238,\n",
    "         164,272,295,68,85,224,166,305,124,246),\n",
    "  x2 = factor(rep(c(0,1), each=10))\n",
    ")"
   ]
  },
  {
   "cell_type": "markdown",
   "id": "1640513f-bed8-4e45-aa52-b9f9f06d498e",
   "metadata": {},
   "source": [
    "할 수 있는 경우의 수\n",
    "1. \n",
    "```R\n",
    "x2 = factor(rep(c('M','F'), each=10))\n",
    "```\n",
    "- character로 넣어도 factor로 인식한다.\n",
    "- 조심할 점 **알파벳 순으로 숫자가 부여된다.**\n",
    "- 따라서 F는 0, M은 1로 부여되었다.\n",
    "    - 참고: 강의록은 F는 1, M은 0으로 부여되어 결과가 다름\n",
    "    - 해석의 결과가 다르진 않지만 어떻게 해석하느냐가 달라짐\n",
    "\n",
    "2. \n",
    "```R\n",
    "x2 = factor(rep(c(0,1), each=10))\n",
    "```\n",
    "- M은 0, F는 1-> 강의록과 같음"
   ]
  },
  {
   "cell_type": "code",
   "execution_count": 3,
   "id": "df4c5a11-b2f7-4e5b-a4bb-d03b39e410e7",
   "metadata": {},
   "outputs": [
    {
     "data": {
      "text/html": [
       "<table class=\"dataframe\">\n",
       "<caption>A data.frame: 6 × 3</caption>\n",
       "<thead>\n",
       "\t<tr><th></th><th scope=col>y</th><th scope=col>x1</th><th scope=col>x2</th></tr>\n",
       "\t<tr><th></th><th scope=col>&lt;dbl&gt;</th><th scope=col>&lt;dbl&gt;</th><th scope=col>&lt;fct&gt;</th></tr>\n",
       "</thead>\n",
       "<tbody>\n",
       "\t<tr><th scope=row>1</th><td>17</td><td>151</td><td>0</td></tr>\n",
       "\t<tr><th scope=row>2</th><td>26</td><td> 92</td><td>0</td></tr>\n",
       "\t<tr><th scope=row>3</th><td>21</td><td>175</td><td>0</td></tr>\n",
       "\t<tr><th scope=row>4</th><td>30</td><td> 31</td><td>0</td></tr>\n",
       "\t<tr><th scope=row>5</th><td>22</td><td>104</td><td>0</td></tr>\n",
       "\t<tr><th scope=row>6</th><td> 1</td><td>277</td><td>0</td></tr>\n",
       "</tbody>\n",
       "</table>\n"
      ],
      "text/latex": [
       "A data.frame: 6 × 3\n",
       "\\begin{tabular}{r|lll}\n",
       "  & y & x1 & x2\\\\\n",
       "  & <dbl> & <dbl> & <fct>\\\\\n",
       "\\hline\n",
       "\t1 & 17 & 151 & 0\\\\\n",
       "\t2 & 26 &  92 & 0\\\\\n",
       "\t3 & 21 & 175 & 0\\\\\n",
       "\t4 & 30 &  31 & 0\\\\\n",
       "\t5 & 22 & 104 & 0\\\\\n",
       "\t6 &  1 & 277 & 0\\\\\n",
       "\\end{tabular}\n"
      ],
      "text/markdown": [
       "\n",
       "A data.frame: 6 × 3\n",
       "\n",
       "| <!--/--> | y &lt;dbl&gt; | x1 &lt;dbl&gt; | x2 &lt;fct&gt; |\n",
       "|---|---|---|---|\n",
       "| 1 | 17 | 151 | 0 |\n",
       "| 2 | 26 |  92 | 0 |\n",
       "| 3 | 21 | 175 | 0 |\n",
       "| 4 | 30 |  31 | 0 |\n",
       "| 5 | 22 | 104 | 0 |\n",
       "| 6 |  1 | 277 | 0 |\n",
       "\n"
      ],
      "text/plain": [
       "  y  x1  x2\n",
       "1 17 151 0 \n",
       "2 26  92 0 \n",
       "3 21 175 0 \n",
       "4 30  31 0 \n",
       "5 22 104 0 \n",
       "6  1 277 0 "
      ]
     },
     "metadata": {},
     "output_type": "display_data"
    }
   ],
   "source": [
    "head(dt)"
   ]
  },
  {
   "cell_type": "code",
   "execution_count": 4,
   "id": "24b71253-ed4f-4185-8822-4301ef78319e",
   "metadata": {},
   "outputs": [
    {
     "data": {
      "text/html": [
       "<table class=\"dataframe\">\n",
       "<caption>A matrix: 2 × 1 of type dbl</caption>\n",
       "<thead>\n",
       "\t<tr><th></th><th scope=col>1</th></tr>\n",
       "</thead>\n",
       "<tbody>\n",
       "\t<tr><th scope=row>0</th><td>0</td></tr>\n",
       "\t<tr><th scope=row>1</th><td>1</td></tr>\n",
       "</tbody>\n",
       "</table>\n"
      ],
      "text/latex": [
       "A matrix: 2 × 1 of type dbl\n",
       "\\begin{tabular}{r|l}\n",
       "  & 1\\\\\n",
       "\\hline\n",
       "\t0 & 0\\\\\n",
       "\t1 & 1\\\\\n",
       "\\end{tabular}\n"
      ],
      "text/markdown": [
       "\n",
       "A matrix: 2 × 1 of type dbl\n",
       "\n",
       "| <!--/--> | 1 |\n",
       "|---|---|\n",
       "| 0 | 0 |\n",
       "| 1 | 1 |\n",
       "\n"
      ],
      "text/plain": [
       "  1\n",
       "0 0\n",
       "1 1"
      ]
     },
     "metadata": {},
     "output_type": "display_data"
    }
   ],
   "source": [
    "contrasts(factor(dt$x2))"
   ]
  },
  {
   "cell_type": "markdown",
   "id": "cb603232-6fe8-4dac-b0dc-f6f42323d56e",
   "metadata": {},
   "source": [
    "잘 부여되었나 확인 필요\n",
    "- **chracter일때는 이 함수를 사용해도 의미가 없어서 factor로 바꿔서 해줘야 한다.**"
   ]
  },
  {
   "cell_type": "code",
   "execution_count": 5,
   "id": "d935a0ab-f5b7-49ca-b6a1-da46ffb38e6f",
   "metadata": {},
   "outputs": [],
   "source": [
    "m <- lm(y~x1+x2, dt)"
   ]
  },
  {
   "cell_type": "code",
   "execution_count": 6,
   "id": "c3351b08-f83f-4b6a-9684-9ecbbed0ad3f",
   "metadata": {},
   "outputs": [
    {
     "data": {
      "text/plain": [
       "\n",
       "Call:\n",
       "lm(formula = y ~ x1 + x2, data = dt)\n",
       "\n",
       "Residuals:\n",
       "    Min      1Q  Median      3Q     Max \n",
       "-5.0165 -1.7450 -0.6055  1.8803  6.1835 \n",
       "\n",
       "Coefficients:\n",
       "             Estimate Std. Error t value Pr(>|t|)    \n",
       "(Intercept) 33.834912   1.758659  19.239 5.64e-13 ***\n",
       "x1          -0.100918   0.008621 -11.707 1.47e-09 ***\n",
       "x21          7.933953   1.414702   5.608 3.13e-05 ***\n",
       "---\n",
       "Signif. codes:  0 ‘***’ 0.001 ‘**’ 0.01 ‘*’ 0.05 ‘.’ 0.1 ‘ ’ 1\n",
       "\n",
       "Residual standard error: 3.123 on 17 degrees of freedom\n",
       "Multiple R-squared:  0.8991,\tAdjusted R-squared:  0.8872 \n",
       "F-statistic: 75.72 on 2 and 17 DF,  p-value: 3.42e-09\n"
      ]
     },
     "metadata": {},
     "output_type": "display_data"
    }
   ],
   "source": [
    "summary(m)"
   ]
  },
  {
   "cell_type": "markdown",
   "id": "6d4d7c12-143c-4b8a-b5db-f4bb95f3e14c",
   "metadata": {},
   "source": [
    "**1.**\n",
    "\n",
    "```R\n",
    "x2 = factor(rep(c('M','F'), each=10))\n",
    "```\n",
    "로 입력한 경우 \n",
    "\n",
    "$y = \\beta_0 + \\beta_1x_1 + \\beta_2x_2$\n",
    "\n",
    "$x_2 = 0$,  F\n",
    "\n",
    "$x_2 = 1$,  M\n",
    "\n",
    "$x_2$는 0 아니면 1 인 지수함수\n",
    "\n",
    "$E(y|M) : \\beta_0 + \\beta_1x_1 + \\beta_2 = (\\beta_0 + \\beta_2) + \\beta_1x_1$\n",
    "\n",
    "$E(y|F) : \\beta_0 + \\beta_1x_1$"
   ]
  },
  {
   "cell_type": "markdown",
   "id": "be10ddfd-58e7-432a-8bd8-4ce15f528ed6",
   "metadata": {},
   "source": [
    "**2.**\n",
    "\n",
    "```R\n",
    "x2 = factor(rep(c(0,1), each=10))\n",
    "```\n",
    "로 입력한 경우 \n",
    "\n",
    "$y = \\beta_0 + \\beta_1x_1 + \\beta_2x_2$\n",
    "\n",
    "$x_2 = 0$,  M\n",
    "\n",
    "$x_2 = 1$,  F\n",
    "\n",
    "$E(y|M) : \\beta_0 + \\beta_1x_1$\n",
    "\n",
    "$E(y|F) : \\beta_0 + \\beta_1x_1+ \\beta_2 = (\\beta_0 + \\beta_2) + \\beta_1x_1$"
   ]
  },
  {
   "cell_type": "code",
   "execution_count": 7,
   "id": "aa482a0d-3513-4fef-9a9a-8f41aec5297a",
   "metadata": {},
   "outputs": [
    {
     "data": {
      "image/png": "[encoded data removed]",
      "text/plain": [
       "plot without title"
      ]
     },
     "metadata": {
      "image/png": {
       "height": 420,
       "width": 420
      }
     },
     "output_type": "display_data"
    }
   ],
   "source": [
    "ggplot(dt, aes(x1, y, col=x2)) + \n",
    "  geom_point() + \n",
    "  theme_bw() +\n",
    "  guides(col=guide_legend(title=\"성별\")) +\n",
    "  scale_color_manual(labels = c(\"남자\", \"여자\"), \n",
    "                     values = c(\"darkorange\", \"steelblue\"))"
   ]
  },
  {
   "cell_type": "code",
   "execution_count": 8,
   "id": "a1a397a9-fca2-44b1-bfd2-2bd933261526",
   "metadata": {},
   "outputs": [],
   "source": [
    "m <- lm(y~x1+x2, dt)"
   ]
  },
  {
   "cell_type": "code",
   "execution_count": 9,
   "id": "914824df-0f52-41ed-ba3c-3145953554e8",
   "metadata": {},
   "outputs": [
    {
     "data": {
      "text/plain": [
       "\n",
       "Call:\n",
       "lm(formula = y ~ x1 + x2, data = dt)\n",
       "\n",
       "Residuals:\n",
       "    Min      1Q  Median      3Q     Max \n",
       "-5.0165 -1.7450 -0.6055  1.8803  6.1835 \n",
       "\n",
       "Coefficients:\n",
       "             Estimate Std. Error t value Pr(>|t|)    \n",
       "(Intercept) 33.834912   1.758659  19.239 5.64e-13 ***\n",
       "x1          -0.100918   0.008621 -11.707 1.47e-09 ***\n",
       "x21          7.933953   1.414702   5.608 3.13e-05 ***\n",
       "---\n",
       "Signif. codes:  0 ‘***’ 0.001 ‘**’ 0.01 ‘*’ 0.05 ‘.’ 0.1 ‘ ’ 1\n",
       "\n",
       "Residual standard error: 3.123 on 17 degrees of freedom\n",
       "Multiple R-squared:  0.8991,\tAdjusted R-squared:  0.8872 \n",
       "F-statistic: 75.72 on 2 and 17 DF,  p-value: 3.42e-09\n"
      ]
     },
     "metadata": {},
     "output_type": "display_data"
    }
   ],
   "source": [
    "summary(m)"
   ]
  },
  {
   "cell_type": "markdown",
   "id": "6323d4dc-f0e4-48c8-8c9c-ae496e9b99fa",
   "metadata": {},
   "source": [
    "$\\beta_2$가 유의함을 확인함(3.13e-05)\n",
    "- 남성과 여성이 차이가 있다."
   ]
  },
  {
   "cell_type": "code",
   "execution_count": 10,
   "id": "a18a403e-700e-4d35-96b2-0665d749e71e",
   "metadata": {},
   "outputs": [
    {
     "data": {
      "image/png": "[encoded data removed]",
      "text/plain": [
       "plot without title"
      ]
     },
     "metadata": {
      "image/png": {
       "height": 420,
       "width": 420
      }
     },
     "output_type": "display_data"
    }
   ],
   "source": [
    "ggplot(dt, aes(x1, y, col=x2)) + \n",
    "  geom_point() + \n",
    "  theme_bw() + \n",
    "  geom_abline(slope = coef(m)[2], intercept = coef(m)[1], col= 'darkorange')+\n",
    "  geom_abline(slope = coef(m)[2], intercept = coef(m)[1]+coef(m)[3], col= 'steelblue')+\n",
    "  guides(col=guide_legend(title=\"성별\")) +\n",
    "  scale_color_manual(labels = c(\"남자\", \"여자\"), values = c(\"darkorange\", \"steelblue\"))"
   ]
  },
  {
   "cell_type": "markdown",
   "id": "9a328928-7777-4580-93d1-7f12341db33b",
   "metadata": {},
   "source": [
    "기울기 차이 고려 안해서 기울기는 같을 것"
   ]
  },
  {
   "cell_type": "markdown",
   "id": "adf44bb8-0e22-4849-a091-950445ff26f5",
   "metadata": {},
   "source": [
    "### 교호작용 "
   ]
  },
  {
   "cell_type": "code",
   "execution_count": 11,
   "id": "496c30e4-d4c7-41af-978e-36220312e011",
   "metadata": {},
   "outputs": [],
   "source": [
    "m1 <- lm(y~x1*x2, dt)"
   ]
  },
  {
   "cell_type": "markdown",
   "id": "795d8630-210c-49be-aed0-4eb5df03592b",
   "metadata": {},
   "source": [
    "곱하기로 교호작용 표현"
   ]
  },
  {
   "cell_type": "code",
   "execution_count": 12,
   "id": "f2dc8d5b-c33d-46af-b6b3-e11cd6b280c0",
   "metadata": {},
   "outputs": [
    {
     "data": {
      "text/plain": [
       "\n",
       "Call:\n",
       "lm(formula = y ~ x1 * x2, data = dt)\n",
       "\n",
       "Residuals:\n",
       "    Min      1Q  Median      3Q     Max \n",
       "-5.0463 -1.7591 -0.6232  1.9311  6.1102 \n",
       "\n",
       "Coefficients:\n",
       "             Estimate Std. Error t value Pr(>|t|)    \n",
       "(Intercept) 33.656104   2.365392  14.229 1.68e-10 ***\n",
       "x1          -0.099858   0.012650  -7.894 6.59e-07 ***\n",
       "x21          8.313516   3.541379   2.348   0.0321 *  \n",
       "x1:x21      -0.002089   0.017766  -0.118   0.9078    \n",
       "---\n",
       "Signif. codes:  0 ‘***’ 0.001 ‘**’ 0.01 ‘*’ 0.05 ‘.’ 0.1 ‘ ’ 1\n",
       "\n",
       "Residual standard error: 3.218 on 16 degrees of freedom\n",
       "Multiple R-squared:  0.8992,\tAdjusted R-squared:  0.8803 \n",
       "F-statistic: 47.56 on 3 and 16 DF,  p-value: 3.405e-08\n"
      ]
     },
     "metadata": {},
     "output_type": "display_data"
    }
   ],
   "source": [
    "summary(m1)"
   ]
  },
  {
   "cell_type": "markdown",
   "id": "9c3a64f1-1785-4317-824c-26da1e2657a2",
   "metadata": {},
   "source": [
    "$y = \\beta_0 + \\beta_1x_1 + \\beta_2x_2 + \\beta_3x_1x_2$\n",
    "- 성별, 성적, 성별*성적\n",
    "\n",
    "$M : x_2=0 \\to E(y|M) = \\beta_0+\\beta_1x_1$\n",
    "\n",
    "$F : x_2=1 \\to E(y|F) = \\beta_0 + \\beta_1x_1 + \\beta_2 + \\beta_3x_1 = (\\beta_0+\\beta_2) + (\\beta_1+\\beta_3)x_1$\n",
    "\n",
    "- 식으로 봤을 때 절편, 기울기 모두 차이가 난다.\n",
    "- 절편 차이는 유의하다.\n",
    "- 기울기 차이는 거의 없다.\n",
    "- 교호작용은 없는 것으로 확인."
   ]
  },
  {
   "cell_type": "code",
   "execution_count": 38,
   "id": "4c1f2fee-59ee-4f84-bbed-3cc6db23c73e",
   "metadata": {},
   "outputs": [
    {
     "data": {
      "image/png": "[encoded data removed]",
      "text/plain": [
       "plot without title"
      ]
     },
     "metadata": {
      "image/png": {
       "height": 420,
       "width": 420
      }
     },
     "output_type": "display_data"
    }
   ],
   "source": [
    "ggplot(dt, aes(x1, y, col=x2)) + \n",
    "  geom_point() + \n",
    "  theme_bw() + \n",
    "  geom_abline(slope = coef(m1)[2], intercept = coef(m1)[1], col= 'darkorange')+\n",
    "  geom_abline(slope = coef(m1)[2]+coef(m1)[4], intercept = coef(m1)[1]+coef(m1)[3], col= 'steelblue')+\n",
    "  guides(col=guide_legend(title=\"성별\")) +\n",
    "  scale_color_manual(labels = c(\"남자\", \"여자\"), values = c(\"darkorange\", \"steelblue\"))"
   ]
  },
  {
   "cell_type": "markdown",
   "id": "5e6276a5-b623-4a88-a9d8-52a5b20f1a7c",
   "metadata": {},
   "source": [
    "### 책 예제"
   ]
  },
  {
   "cell_type": "code",
   "execution_count": 39,
   "id": "1f1f8687-1f1c-44df-aa66-44b1e84ad506",
   "metadata": {},
   "outputs": [],
   "source": [
    "library(ISLR)"
   ]
  },
  {
   "cell_type": "code",
   "execution_count": 40,
   "id": "2b1e8ee0-ed49-4f3d-ad21-379f0f1a0735",
   "metadata": {},
   "outputs": [
    {
     "data": {
      "text/html": [
       "<table class=\"dataframe\">\n",
       "<caption>A data.frame: 6 × 11</caption>\n",
       "<thead>\n",
       "\t<tr><th></th><th scope=col>Sales</th><th scope=col>CompPrice</th><th scope=col>Income</th><th scope=col>Advertising</th><th scope=col>Population</th><th scope=col>Price</th><th scope=col>ShelveLoc</th><th scope=col>Age</th><th scope=col>Education</th><th scope=col>Urban</th><th scope=col>US</th></tr>\n",
       "\t<tr><th></th><th scope=col>&lt;dbl&gt;</th><th scope=col>&lt;dbl&gt;</th><th scope=col>&lt;dbl&gt;</th><th scope=col>&lt;dbl&gt;</th><th scope=col>&lt;dbl&gt;</th><th scope=col>&lt;dbl&gt;</th><th scope=col>&lt;fct&gt;</th><th scope=col>&lt;dbl&gt;</th><th scope=col>&lt;dbl&gt;</th><th scope=col>&lt;fct&gt;</th><th scope=col>&lt;fct&gt;</th></tr>\n",
       "</thead>\n",
       "<tbody>\n",
       "\t<tr><th scope=row>1</th><td> 9.50</td><td>138</td><td> 73</td><td>11</td><td>276</td><td>120</td><td>Bad   </td><td>42</td><td>17</td><td>Yes</td><td>Yes</td></tr>\n",
       "\t<tr><th scope=row>2</th><td>11.22</td><td>111</td><td> 48</td><td>16</td><td>260</td><td> 83</td><td>Good  </td><td>65</td><td>10</td><td>Yes</td><td>Yes</td></tr>\n",
       "\t<tr><th scope=row>3</th><td>10.06</td><td>113</td><td> 35</td><td>10</td><td>269</td><td> 80</td><td>Medium</td><td>59</td><td>12</td><td>Yes</td><td>Yes</td></tr>\n",
       "\t<tr><th scope=row>4</th><td> 7.40</td><td>117</td><td>100</td><td> 4</td><td>466</td><td> 97</td><td>Medium</td><td>55</td><td>14</td><td>Yes</td><td>Yes</td></tr>\n",
       "\t<tr><th scope=row>5</th><td> 4.15</td><td>141</td><td> 64</td><td> 3</td><td>340</td><td>128</td><td>Bad   </td><td>38</td><td>13</td><td>Yes</td><td>No </td></tr>\n",
       "\t<tr><th scope=row>6</th><td>10.81</td><td>124</td><td>113</td><td>13</td><td>501</td><td> 72</td><td>Bad   </td><td>78</td><td>16</td><td>No </td><td>Yes</td></tr>\n",
       "</tbody>\n",
       "</table>\n"
      ],
      "text/latex": [
       "A data.frame: 6 × 11\n",
       "\\begin{tabular}{r|lllllllllll}\n",
       "  & Sales & CompPrice & Income & Advertising & Population & Price & ShelveLoc & Age & Education & Urban & US\\\\\n",
       "  & <dbl> & <dbl> & <dbl> & <dbl> & <dbl> & <dbl> & <fct> & <dbl> & <dbl> & <fct> & <fct>\\\\\n",
       "\\hline\n",
       "\t1 &  9.50 & 138 &  73 & 11 & 276 & 120 & Bad    & 42 & 17 & Yes & Yes\\\\\n",
       "\t2 & 11.22 & 111 &  48 & 16 & 260 &  83 & Good   & 65 & 10 & Yes & Yes\\\\\n",
       "\t3 & 10.06 & 113 &  35 & 10 & 269 &  80 & Medium & 59 & 12 & Yes & Yes\\\\\n",
       "\t4 &  7.40 & 117 & 100 &  4 & 466 &  97 & Medium & 55 & 14 & Yes & Yes\\\\\n",
       "\t5 &  4.15 & 141 &  64 &  3 & 340 & 128 & Bad    & 38 & 13 & Yes & No \\\\\n",
       "\t6 & 10.81 & 124 & 113 & 13 & 501 &  72 & Bad    & 78 & 16 & No  & Yes\\\\\n",
       "\\end{tabular}\n"
      ],
      "text/markdown": [
       "\n",
       "A data.frame: 6 × 11\n",
       "\n",
       "| <!--/--> | Sales &lt;dbl&gt; | CompPrice &lt;dbl&gt; | Income &lt;dbl&gt; | Advertising &lt;dbl&gt; | Population &lt;dbl&gt; | Price &lt;dbl&gt; | ShelveLoc &lt;fct&gt; | Age &lt;dbl&gt; | Education &lt;dbl&gt; | Urban &lt;fct&gt; | US &lt;fct&gt; |\n",
       "|---|---|---|---|---|---|---|---|---|---|---|---|\n",
       "| 1 |  9.50 | 138 |  73 | 11 | 276 | 120 | Bad    | 42 | 17 | Yes | Yes |\n",
       "| 2 | 11.22 | 111 |  48 | 16 | 260 |  83 | Good   | 65 | 10 | Yes | Yes |\n",
       "| 3 | 10.06 | 113 |  35 | 10 | 269 |  80 | Medium | 59 | 12 | Yes | Yes |\n",
       "| 4 |  7.40 | 117 | 100 |  4 | 466 |  97 | Medium | 55 | 14 | Yes | Yes |\n",
       "| 5 |  4.15 | 141 |  64 |  3 | 340 | 128 | Bad    | 38 | 13 | Yes | No  |\n",
       "| 6 | 10.81 | 124 | 113 | 13 | 501 |  72 | Bad    | 78 | 16 | No  | Yes |\n",
       "\n"
      ],
      "text/plain": [
       "  Sales CompPrice Income Advertising Population Price ShelveLoc Age Education\n",
       "1  9.50 138        73    11          276        120   Bad       42  17       \n",
       "2 11.22 111        48    16          260         83   Good      65  10       \n",
       "3 10.06 113        35    10          269         80   Medium    59  12       \n",
       "4  7.40 117       100     4          466         97   Medium    55  14       \n",
       "5  4.15 141        64     3          340        128   Bad       38  13       \n",
       "6 10.81 124       113    13          501         72   Bad       78  16       \n",
       "  Urban US \n",
       "1 Yes   Yes\n",
       "2 Yes   Yes\n",
       "3 Yes   Yes\n",
       "4 Yes   Yes\n",
       "5 Yes   No \n",
       "6 No    Yes"
      ]
     },
     "metadata": {},
     "output_type": "display_data"
    }
   ],
   "source": [
    "head(Carseats)"
   ]
  },
  {
   "cell_type": "code",
   "execution_count": 41,
   "id": "ff3127e2-766e-4e81-ab7f-1b69796d2ff6",
   "metadata": {},
   "outputs": [
    {
     "data": {
      "text/html": [
       "<style>\n",
       ".list-inline {list-style: none; margin:0; padding: 0}\n",
       ".list-inline>li {display: inline-block}\n",
       ".list-inline>li:not(:last-child)::after {content: \"\\00b7\"; padding: 0 .5ex}\n",
       "</style>\n",
       "<ol class=list-inline><li>400</li><li>11</li></ol>\n"
      ],
      "text/latex": [
       "\\begin{enumerate*}\n",
       "\\item 400\n",
       "\\item 11\n",
       "\\end{enumerate*}\n"
      ],
      "text/markdown": [
       "1. 400\n",
       "2. 11\n",
       "\n",
       "\n"
      ],
      "text/plain": [
       "[1] 400  11"
      ]
     },
     "metadata": {},
     "output_type": "display_data"
    }
   ],
   "source": [
    "dim(Carseats)"
   ]
  },
  {
   "cell_type": "markdown",
   "id": "c167fc3a-c07c-4686-980e-02f51f198a59",
   "metadata": {},
   "source": [
    "• Sales : 판매량 (단위: 1,000)\n",
    "\n",
    "• Price : 각 지점에서의 카시트 가격\n",
    "\n",
    "• ShelveLoc : 진열대의 등급 (Bad, Medium, Good)\n",
    "\n",
    "• Urban :도시 여부 (Yes, No)\n",
    "\n",
    "• US: 미국 여부 (Yes, No)\n",
    "\n",
    "$\\to$ 세 개의 범주형 자료, 가변수 4개(3-2,2-1,2-1)"
   ]
  },
  {
   "cell_type": "code",
   "execution_count": 42,
   "id": "a7da2025-d3bd-4b70-ac1b-c5470becba53",
   "metadata": {},
   "outputs": [],
   "source": [
    "fit <- lm(fit<-lm(Sales~Price+ShelveLoc+US, \n",
    "                  data=Carseats))"
   ]
  },
  {
   "cell_type": "code",
   "execution_count": 43,
   "id": "31ba1239-fb5f-4fbc-9e85-7c1f9d5a2310",
   "metadata": {},
   "outputs": [
    {
     "data": {
      "text/plain": [
       "\n",
       "Call:\n",
       "lm(formula = fit <- lm(Sales ~ Price + ShelveLoc + US, data = Carseats))\n",
       "\n",
       "Residuals:\n",
       "    Min      1Q  Median      3Q     Max \n",
       "-5.1720 -1.2587 -0.0056  1.2815  4.7462 \n",
       "\n",
       "Coefficients:\n",
       "                 Estimate Std. Error t value Pr(>|t|)    \n",
       "(Intercept)     11.476347   0.498083  23.041  < 2e-16 ***\n",
       "Price           -0.057825   0.003938 -14.683  < 2e-16 ***\n",
       "ShelveLocGood    4.827167   0.277294  17.408  < 2e-16 ***\n",
       "ShelveLocMedium  1.893360   0.227486   8.323 1.42e-15 ***\n",
       "USYes            1.013071   0.195034   5.194 3.30e-07 ***\n",
       "---\n",
       "Signif. codes:  0 ‘***’ 0.001 ‘**’ 0.01 ‘*’ 0.05 ‘.’ 0.1 ‘ ’ 1\n",
       "\n",
       "Residual standard error: 1.857 on 395 degrees of freedom\n",
       "Multiple R-squared:  0.5718,\tAdjusted R-squared:  0.5675 \n",
       "F-statistic: 131.9 on 4 and 395 DF,  p-value: < 2.2e-16\n"
      ]
     },
     "metadata": {},
     "output_type": "display_data"
    }
   ],
   "source": [
    "summary(fit)"
   ]
  },
  {
   "cell_type": "code",
   "execution_count": 44,
   "id": "5a999dc4-3e5d-4391-b282-ac270d80158a",
   "metadata": {},
   "outputs": [
    {
     "data": {
      "text/html": [
       "<table class=\"dataframe\">\n",
       "<caption>A matrix: 3 × 2 of type dbl</caption>\n",
       "<thead>\n",
       "\t<tr><th></th><th scope=col>Good</th><th scope=col>Medium</th></tr>\n",
       "</thead>\n",
       "<tbody>\n",
       "\t<tr><th scope=row>Bad</th><td>0</td><td>0</td></tr>\n",
       "\t<tr><th scope=row>Good</th><td>1</td><td>0</td></tr>\n",
       "\t<tr><th scope=row>Medium</th><td>0</td><td>1</td></tr>\n",
       "</tbody>\n",
       "</table>\n"
      ],
      "text/latex": [
       "A matrix: 3 × 2 of type dbl\n",
       "\\begin{tabular}{r|ll}\n",
       "  & Good & Medium\\\\\n",
       "\\hline\n",
       "\tBad & 0 & 0\\\\\n",
       "\tGood & 1 & 0\\\\\n",
       "\tMedium & 0 & 1\\\\\n",
       "\\end{tabular}\n"
      ],
      "text/markdown": [
       "\n",
       "A matrix: 3 × 2 of type dbl\n",
       "\n",
       "| <!--/--> | Good | Medium |\n",
       "|---|---|---|\n",
       "| Bad | 0 | 0 |\n",
       "| Good | 1 | 0 |\n",
       "| Medium | 0 | 1 |\n",
       "\n"
      ],
      "text/plain": [
       "       Good Medium\n",
       "Bad    0    0     \n",
       "Good   1    0     \n",
       "Medium 0    1     "
      ]
     },
     "metadata": {},
     "output_type": "display_data"
    }
   ],
   "source": [
    "contrasts(Carseats$ShelveLoc)"
   ]
  },
  {
   "cell_type": "markdown",
   "id": "93f89ea8-9dce-43c9-b4c4-9a55356f6b5b",
   "metadata": {},
   "source": [
    "알파벳 순으로 부여된 것 확인"
   ]
  },
  {
   "cell_type": "markdown",
   "id": "ce8951b7-39ec-4fc1-8393-4dda4ee1947b",
   "metadata": {},
   "source": [
    "$y= \\beta_0 + \\beta_1x_1 + \\beta_2x_2 + \\beta_3x_3 + \\beta_4x_4 + \\beta_5x_5$"
   ]
  },
  {
   "cell_type": "code",
   "execution_count": 45,
   "id": "71f3449f-a64e-42fe-8185-99da9be9a0c8",
   "metadata": {},
   "outputs": [],
   "source": [
    "library(car)"
   ]
  },
  {
   "cell_type": "markdown",
   "id": "78aab00d-844f-4b36-bd9d-9551ca2b118f",
   "metadata": {},
   "source": [
    "$H_0 : \\beta_2 = \\beta_3 = 0$\n",
    "\n",
    "$\\beta_2 = 0, \\beta_3 = 0$"
   ]
  },
  {
   "cell_type": "code",
   "execution_count": 48,
   "id": "9973cfde-5043-4a85-8a31-55869e51273a",
   "metadata": {},
   "outputs": [],
   "source": [
    "C<-rbind(c(0,0,1,0,0,0),\n",
    "         c(0,0,0,1,0,0))"
   ]
  },
  {
   "cell_type": "code",
   "execution_count": 49,
   "id": "4212afe5-52d3-43fe-9434-8279c75e3bba",
   "metadata": {},
   "outputs": [
    {
     "ename": "ERROR",
     "evalue": "Error in L %*% b: non-conformable arguments\n",
     "output_type": "error",
     "traceback": [
      "Error in L %*% b: non-conformable arguments\nTraceback:\n",
      "1. linearHypothesis(fit, C)",
      "2. linearHypothesis.lm(fit, C)",
      "3. linearHypothesis.default(model, hypothesis.matrix, rhs = rhs, \n .     test = test, vcov. = vcov., singular.ok = singular.ok, ...)"
     ]
    }
   ],
   "source": [
    "linearHypothesis(fit, C)"
   ]
  },
  {
   "cell_type": "markdown",
   "id": "5553f64f-3838-4ee1-9a12-fa239c196ca5",
   "metadata": {},
   "source": [
    "유의미한 결과 확인"
   ]
  },
  {
   "cell_type": "markdown",
   "id": "63ad8b80-a8b0-49fb-b71e-309697116fdf",
   "metadata": {},
   "source": [
    "### 구간별 회귀분석"
   ]
  },
  {
   "cell_type": "code",
   "execution_count": 50,
   "id": "9779213c-896c-4798-a949-944ef1555cb4",
   "metadata": {},
   "outputs": [],
   "source": [
    "dt <- data.frame(\n",
    "  y = c(377,249,355,475,139,452,440,257),\n",
    "  x1 = c(480,720,570,300,800,400,340,650)\n",
    ")"
   ]
  },
  {
   "cell_type": "code",
   "execution_count": 51,
   "id": "6d0f086b-73de-4008-88f1-7ba7e2e6e10f",
   "metadata": {},
   "outputs": [],
   "source": [
    "dt$x2 = sapply(dt$x1, function(x) max(0, x-500))"
   ]
  },
  {
   "cell_type": "code",
   "execution_count": 52,
   "id": "36578a76-82d0-42eb-beab-3c1feb7eb93b",
   "metadata": {},
   "outputs": [],
   "source": [
    "m <- lm(y ~ x1+x2, dt)"
   ]
  },
  {
   "cell_type": "code",
   "execution_count": 53,
   "id": "de011af5-4fb3-4ae8-9939-b82822c8393d",
   "metadata": {},
   "outputs": [
    {
     "data": {
      "text/plain": [
       "\n",
       "Call:\n",
       "lm(formula = y ~ x1 + x2, data = dt)\n",
       "\n",
       "Residuals:\n",
       "      1       2       3       4       5       6       7       8 \n",
       "-22.765  29.765  18.068   4.068 -17.463  20.605 -15.117 -17.160 \n",
       "\n",
       "Coefficients:\n",
       "            Estimate Std. Error t value Pr(>|t|)    \n",
       "(Intercept) 589.5447    60.4213   9.757 0.000192 ***\n",
       "x1           -0.3954     0.1492  -2.650 0.045432 *  \n",
       "x2           -0.3893     0.2310  -1.685 0.152774    \n",
       "---\n",
       "Signif. codes:  0 ‘***’ 0.001 ‘**’ 0.01 ‘*’ 0.05 ‘.’ 0.1 ‘ ’ 1\n",
       "\n",
       "Residual standard error: 24.49 on 5 degrees of freedom\n",
       "Multiple R-squared:  0.9693,\tAdjusted R-squared:  0.9571 \n",
       "F-statistic: 79.06 on 2 and 5 DF,  p-value: 0.0001645\n"
      ]
     },
     "metadata": {},
     "output_type": "display_data"
    }
   ],
   "source": [
    "summary(m)"
   ]
  },
  {
   "cell_type": "code",
   "execution_count": 54,
   "id": "e9c90161-3da3-400b-8685-8e6d84ae5dbd",
   "metadata": {},
   "outputs": [],
   "source": [
    "dt2 <- rbind(dt[,2:3], c(500,0))"
   ]
  },
  {
   "cell_type": "code",
   "execution_count": 55,
   "id": "e05a291b-3376-40f2-be75-63808ae5b9c6",
   "metadata": {},
   "outputs": [],
   "source": [
    "dt2$y <- predict(m, newdata = dt2)"
   ]
  },
  {
   "cell_type": "markdown",
   "id": "34300084-47b6-4f83-904c-3344a3858901",
   "metadata": {},
   "source": [
    "**this is the predicted line of multiple linear regression**"
   ]
  },
  {
   "cell_type": "code",
   "execution_count": 56,
   "id": "c28f7ca1-10f3-4bbd-8e85-ef192fcc733b",
   "metadata": {},
   "outputs": [
    {
     "data": {
      "image/png": "[encoded data removed]",
      "text/plain": [
       "plot without title"
      ]
     },
     "metadata": {
      "image/png": {
       "height": 420,
       "width": 420
      }
     },
     "output_type": "display_data"
    }
   ],
   "source": [
    "ggplot(data = dt, aes(x = x1, y = y)) + \n",
    "  geom_point(color='steelblue') +\n",
    "  geom_line(color='darkorange',data = dt2, aes(x=x1, y=y))+\n",
    "  geom_vline(xintercept = 500, lty=2, col='red')+\n",
    "  theme_bw()"
   ]
  }
 ],
 "metadata": {
  "kernelspec": {
   "display_name": "R",
   "language": "R",
   "name": "ir"
  },
  "language_info": {
   "codemirror_mode": "r",
   "file_extension": ".r",
   "mimetype": "text/x-r-source",
   "name": "R",
   "pygments_lexer": "r",
   "version": "4.1.2"
  }
 },
 "nbformat": 4,
 "nbformat_minor": 5
}
