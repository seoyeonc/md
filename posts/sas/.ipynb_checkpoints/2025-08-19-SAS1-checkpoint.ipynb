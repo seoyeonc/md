{
 "cells": [
  {
   "cell_type": "raw",
   "id": "0e0d3387-3f77-4867-a20a-5c6ed0a9769c",
   "metadata": {
    "id": "cac470df-29e7-4148-9bbd-d8b9a32fa570",
    "tags": []
   },
   "source": [
    "---\n",
    "title: \"SAS Advanced Certificate\"\n",
    "author: \"SEOYEON CHOI\"\n",
    "date: \"2025-08-19\"\n",
    "---"
   ]
  },
  {
   "cell_type": "markdown",
   "id": "925ae660-0d53-423c-a856-fba5c645b671",
   "metadata": {},
   "source": [
    "# Website"
   ]
  },
  {
   "cell_type": "markdown",
   "id": "9bf5cd97-012e-48ee-9619-e2d47f0624fb",
   "metadata": {},
   "source": [
    "- [SAS® OnlineTutor 9.1: Advanced Programming](https://sas.1or9.com/fru3oq9fam/59267/paths.htm)\n",
    "- [SAS practice exam](https://www.sas.com/ko_kr/certification/resources/sas-practice-exams.html)\n",
    "- [논문 사이트](https://www.lexjansen.com/cgi-bin/saspapers_query.php)\n",
    "- [Practice exam](https://www.itexams.com/info/A00-212)"
   ]
  },
  {
   "cell_type": "markdown",
   "id": "9eae0aaa-1f42-47ba-ad6c-0da68b0963d2",
   "metadata": {},
   "source": [
    "# 시험 기본"
   ]
  },
  {
   "cell_type": "markdown",
   "id": "e0388946-5201-4755-ab1b-f4af20c8cd7b",
   "metadata": {},
   "source": [
    "## 시험 구조"
   ]
  },
  {
   "cell_type": "markdown",
   "id": "9a7f707e-067c-4e04-9ea0-51489b1ea590",
   "metadata": {},
   "source": [
    "Performance Based Exam (즉, 문제는 이론 + 코드 기반 실습)\n",
    "\n",
    "출제 영역\n",
    "- SQL (35%)\n",
    "- Macro (35%)\n",
    "- Advanced Techniques (30%)"
   ]
  },
  {
   "cell_type": "markdown",
   "id": "b2235515-e1a4-43e7-bf3d-7f874380e15f",
   "metadata": {},
   "source": [
    "### 1. Accessing Data Using SQL (35%)"
   ]
  },
  {
   "cell_type": "markdown",
   "id": "1d17ec04-ee29-46b9-a389-63834560026d",
   "metadata": {},
   "source": [
    "- 기본 SELECT: SELECT, FROM, WHERE, ORDER BY\n",
    "- 새 변수 생성: AS, 계산열, CASE WHEN\n",
    "- 조인: INNER, LEFT, RIGHT, FULL (COALESCE 함수 포함)\n",
    "- Set operators: UNION, OUTER UNION, EXCEPT, INTERSECT\n",
    "- 집계: AVG, COUNT, MAX, MIN, SUM, GROUP BY, HAVING\n",
    "- 중복 제거: DISTINCT\n",
    "- 서브쿼리, 인라인 뷰 활용\n",
    "- SAS 확장 기능:\n",
    "    - Dataset options (KEEP=, DROP=, RENAME=, OBS=)\n",
    "    - Invocation options (INOBS=, OUTOBS=, NOPRINT, NUMBER)\n",
    "    - Functions (SCAN, SUBSTR, LENGTH)\n",
    "    - Dictionary tables (DICTIONARY.COLUMNS 등)\n",
    "    - CALCULATED 키워드"
   ]
  },
  {
   "cell_type": "markdown",
   "id": "83ecad23-3756-4afa-a09c-c9216b7a2985",
   "metadata": {},
   "source": [
    "### 2. Macro Processing (35%)"
   ]
  },
  {
   "cell_type": "markdown",
   "id": "6e4b6b6c-4b39-476c-b558-47b039e4c622",
   "metadata": {},
   "source": [
    "매크로 변수\n",
    "- 생성: %LET, INTO:, CALL SYMPUTX\n",
    "- Scope 제어: %GLOBAL, %LOCAL, SYMPUTX 옵션\n",
    "- 이름 구분자(.) 활용\n",
    "- 매크로 프로그램\n",
    "- 정의/호출: %MACRO … %MEND\n",
    "\n",
    "파라미터 유무 호출\n",
    "- 조건문: %IF-%THEN-%ELSE\n",
    "- 반복문: %DO-%END\n",
    "- AUTOCALL facility (재사용 가능한 매크로 저장/호출)\n",
    "\n",
    "매크로 함수\n",
    "- 기본: %SCAN, %SUBSTR, %UPCASE\n",
    "- Quoting: %STR, %NRSTR\n",
    "- Evaluation: %SYSEVALF\n",
    "- %SYSFUNC → DATA step 함수 호출\n",
    "\n",
    "디버깅\n",
    "- MLOGIC, MPRINT, SYMBOLGEN\n",
    "- %PUT 로그 확인\n",
    "\n",
    "데이터 기반 매크로\n",
    "- && 간접 참조\n",
    "\n",
    "Dictionary table 기반 매크로\n",
    "- 반복적 매크로 호출 생성"
   ]
  },
  {
   "cell_type": "markdown",
   "id": "0d3f03a2-08fd-418c-8b43-2670927b7d2d",
   "metadata": {},
   "source": [
    "### 3. Advanced Techniques (30%)"
   ]
  },
  {
   "cell_type": "markdown",
   "id": "51f25a60-5a00-4b98-9027-b9c23ad58f9b",
   "metadata": {
    "tags": []
   },
   "source": [
    "배열 (Array)\n",
    "- 문자형/숫자형 배열\n",
    "- DIM 함수\n",
    "- Temporary array\n",
    "- Dataset 값으로 초기화\n",
    "\n",
    "Hash Object\n",
    "- 선언: DECLARE HASH, DECLARE HITER\n",
    "- 주요 메서드: DEFINEKEY, DEFINEDATA, DEFINEDONE, FIND, ADD, OUTPUT\n",
    "- Iterator: FIRST, NEXT, LAST, PREV\n",
    "- 활용: Lookup table, 정렬, 순회\n",
    "\n",
    "Utility Procedures\n",
    "- PROC FORMAT – PICTURE 문 (숫자/날짜 포맷 정의, 옵션: round, default, prefix 등)\n",
    "- PROC FCMP – 사용자 정의 함수 (단일/다중 인자, 조건문 처리, CMPLIB= 옵션으로 호출)\n",
    "\n",
    "고급 함수\n",
    "- FINDC, FINDW, COUNT, COUNTC, COUNTW\n",
    "- LAG\n",
    "- Regex 함수 (PRX)\n",
    "- 메타문자: () [] {} * + ? . | ^ $ \\d \\D \\s \\S \\w \\W\n",
    "- 함수: PRXMATCH, PRXPARSE, PRXCHANGE"
   ]
  },
  {
   "cell_type": "markdown",
   "id": "75a48f57-47bb-4d27-8063-cc66a48ed9de",
   "metadata": {},
   "source": [
    "# 공식 문제"
   ]
  },
  {
   "cell_type": "markdown",
   "id": "a846fbdd-1610-4767-aa31-2822b0c7b7a3",
   "metadata": {},
   "source": [
    "## Question 1"
   ]
  },
  {
   "cell_type": "markdown",
   "id": "d0d7b90a-ba0f-4d2d-b91e-aa998253ab20",
   "metadata": {},
   "source": [
    "> array"
   ]
  },
  {
   "cell_type": "markdown",
   "id": "aff1d82f-a81b-4703-9323-44656b45bb46",
   "metadata": {},
   "source": [
    "Open a new programming window to create ACT01.sas in c:\\cert\\programs. \n",
    "\n",
    "Write a SAS program that will: \n",
    "- Create output data set work.ACT01 using sashelp.pricedata as input. \n",
    "- Use an array to increase the values of the price1 through price17 variables by 10%. \n",
    "\n",
    "Run your program and troubleshoot as necessary. When you are finished with the project: \n",
    "1. Ensure that you have saved your program as ACT01.sas in c:\\cert\\programs. \n",
    "2. From the score.sas program, call the scoreit macro using ACT01 as the parameter: %scoreit(ACT01). \n",
    "\n",
    "What is the value for Response in the SAS log? ___ \n",
    "\n",
    "Correct Solution: All price values for all price1-through price17 will be increased by 10%. For example, price2 in observation 5 will now be 126.50. Arrays and do loops would be used in the program. "
   ]
  },
  {
   "cell_type": "markdown",
   "id": "f80b2704-8c38-46d0-9888-015ed3abc196",
   "metadata": {},
   "source": [
    "```sas\n",
    "\n",
    "data work.atc01; \n",
    "set sashelp.pricedata; \n",
    "\n",
    "    array prices {*} price1-price17; \n",
    "    do i = 1 to dim(prices); \n",
    "    prices[i] = prices[i] * 1.10; \n",
    "\n",
    "    end; \n",
    "drop i; \n",
    "run;\n",
    "\n",
    "```"
   ]
  },
  {
   "cell_type": "markdown",
   "id": "a3cda1d3-6b82-4203-977f-f32205fce709",
   "metadata": {},
   "source": [
    "## Question 2"
   ]
  },
  {
   "cell_type": "markdown",
   "id": "94e8803a-8abd-47bc-9338-7506e135dfa1",
   "metadata": {},
   "source": [
    "> symputx"
   ]
  },
  {
   "cell_type": "markdown",
   "id": "edef1973-82fa-4ade-aac2-fa1de8c99cbd",
   "metadata": {},
   "source": [
    "Open a new programming window to create MAC01.sas in c:\\cert\\programs. \n",
    "\n",
    "Write a DATA step that reads only the first observation of the sashelp.cars data set and stores the value of the Make variable in a macro variable named CarMaker. \n",
    "\n",
    "The macro variable must be defined from within the DATA Step. \n",
    "\n",
    "Run your program and troubleshoot as necessary. \n",
    "\n",
    "When you are finished with the project: \n",
    "1. Ensure that you have saved your program as MAC01.sas in c:\\cert\\programs. \n",
    "2. From the score.sas program, call the scoreit macro using MAC01 as the parameter: %scoreit(MAC01). \n",
    "\n",
    "What is the value for Response in the SAS log? __ \n",
    "\n",
    "Correct Solution: The CarMaker macro variable will have a value of Acura. \n",
    "\n",
    "The program will include a symputx routine."
   ]
  },
  {
   "cell_type": "markdown",
   "id": "be18f993-ab8e-44fd-8add-13dbb883c87a",
   "metadata": {},
   "source": [
    "```sas\n",
    "\n",
    "data _null_; \n",
    "set sashelp.cars; \n",
    "    \n",
    "    if _n_ = 1 then call symputx('Carmaker'.Make); \n",
    "    \n",
    "run;\n",
    "\n",
    "```"
   ]
  },
  {
   "cell_type": "markdown",
   "id": "468fdf89-cb41-4add-a6ed-3dad50c42b51",
   "metadata": {},
   "source": [
    "## Question 3"
   ]
  },
  {
   "cell_type": "markdown",
   "id": "0295516d-1437-4b87-8326-92c515caf1cf",
   "metadata": {},
   "source": [
    "> proc sql, mean(), group by"
   ]
  },
  {
   "cell_type": "markdown",
   "id": "41a0f058-b3e5-45a1-bba5-4bf4a07cf586",
   "metadata": {},
   "source": [
    "Open a new programming window to create SQL01.sas in c:\\cert\\programs. \n",
    "\n",
    "Write an SQL query that will: \n",
    "- Create output data set work.SQL01 using sashelp.cars as input. \n",
    "- Compute the average MPG_City for each group of Make. \n",
    "\n",
    "Name the calculated variable AvgCityMPG. \n",
    "- The output data should have 2 columns, Make and AvgCityMPG. \n",
    "\n",
    "Run your program and troubleshoot as necessary. \n",
    "\n",
    "When you are finished with the project: \n",
    "1. Ensure that you have saved your program as SQL01.sas in c:\\cert\\programs. \n",
    "2. From the score.sas program, call the scoreit macro using SQL01 as the parameter: %scoreit(SQL01). \n",
    "\n",
    "What is the value for Response in the SAS log? __ \n",
    "\n",
    "Correct Solution: An SQL query with a group by clause will be written. \n",
    "\n",
    "The AvgCityMPG for MAKE=MINI will be 26.5. "
   ]
  },
  {
   "cell_type": "markdown",
   "id": "73efe862-4553-4b6f-a850-4aad7fc9f038",
   "metadata": {},
   "source": [
    "```sas\n",
    "\n",
    "proc sql; \n",
    "    create table work.SQL01 as \n",
    "    select Make, mean(MPG_City) as AvgCityMPG \n",
    "    from sashelp.cars \n",
    "    group by Make; \n",
    "quit;\n",
    "\n",
    "```"
   ]
  },
  {
   "cell_type": "markdown",
   "id": "85368692-8635-43dc-9311-7791bffd9dd3",
   "metadata": {},
   "source": [
    "# Proc sql"
   ]
  },
  {
   "cell_type": "markdown",
   "id": "d97d3c26-0e49-4265-819f-c41323137e0e",
   "metadata": {},
   "source": [
    "## case 조건 사용법"
   ]
  },
  {
   "cell_type": "markdown",
   "id": "91750098-160e-48c5-9da4-01f9a326a2ab",
   "metadata": {},
   "source": [
    "```sas\n",
    "proc sql;\n",
    "   select FirstName, LastName, State, CreditScore,\n",
    "          case Married\n",
    "             when \"M\" then \"Married\"\n",
    "             when \"D\" then \"Divorced\"\n",
    "             when \"S\" then \"Single\"\n",
    "             when \"W\" then \"Widowed\"\n",
    "             else \"Unknown\"\n",
    "          end as Category\n",
    "   from sq.customer (obs=1000);\n",
    "quit;\n",
    "```"
   ]
  },
  {
   "cell_type": "markdown",
   "id": "ab65a98d-d6cc-44ab-b175-aa98de178ee3",
   "metadata": {},
   "source": [
    "## Operators 연산자"
   ]
  },
  {
   "cell_type": "markdown",
   "id": "29456065-46e4-4285-86a7-3f97875c990f",
   "metadata": {},
   "source": [
    "| 연산자                | 중복 처리   | 컬럼 매칭   | 특징 |\n",
    "|-----------------------|-------------|-------------|------|\n",
    "| **UNION**             | 중복 제거   | 위치 기반   | 두 SELECT 결과 합침 (DISTINCT 효과, 자동 정렬) |\n",
    "| **UNION ALL**         | 중복 유지   | 위치 기반   | 두 SELECT 결과 합침 (중복 포함, 빠름) |\n",
    "| **OUTER UNION**       | 중복 유지   | 위치 기반   | 컬럼 개수가 달라도 합칠 수 있음, 없는 값은 NULL/결측 |\n",
    "| **OUTER UNION CORR**  | 중복 유지   | 이름 기반   | 컬럼 이름 기준으로 매칭, 없는 값은 NULL/결측 |\n",
    "| **EXCEPT**            | 중복 제거   | 위치 기반   | 첫 번째 SELECT 결과에서 두 번째 SELECT 결과를 제외 |\n",
    "| **INTERSECT**         | 중복 제거   | 위치 기반   | 두 SELECT 결과의 공통 행만 반환 |\n"
   ]
  },
  {
   "cell_type": "markdown",
   "id": "8f581fd3-ab68-4986-8440-095c824de165",
   "metadata": {},
   "source": [
    "## group by 사용 하고 안 하고의 차이"
   ]
  },
  {
   "cell_type": "markdown",
   "id": "fc74305e-f774-429d-bdcf-49f4140a8376",
   "metadata": {},
   "source": [
    "- **GROUP BY 없음** → 각 행(row) 그대로 출력  \n",
    "- **GROUP BY 있음** → 지정한 그룹별로 요약(평균, 합계 등 집계 함수 결과)만 출력"
   ]
  },
  {
   "cell_type": "markdown",
   "id": "f6230cd9-6d32-41a1-b6f3-69152581fb5d",
   "metadata": {},
   "source": [
    "1. GROUP BY 사용하지 않은 경우 (원본 그대로)"
   ]
  },
  {
   "cell_type": "markdown",
   "id": "9f9683b1-b1ed-4e09-96e4-a79a24cb3088",
   "metadata": {},
   "source": [
    "| Make   | MPG_City |\n",
    "|--------|----------|\n",
    "| Toyota | 20       |\n",
    "| Toyota | 22       |\n",
    "| Toyota | 25       |\n",
    "| Ford   | 15       |\n",
    "| Ford   | 18       |\n",
    "| Honda  | 30       |"
   ]
  },
  {
   "cell_type": "markdown",
   "id": "639870e1-24b7-4c40-8845-45b6a2b27cc8",
   "metadata": {},
   "source": [
    "2. GROUP BY 사용한 경우 (Make별 평균)"
   ]
  },
  {
   "cell_type": "markdown",
   "id": "5a4e0c17-65e7-4a5b-9ff0-f33ea3e5db87",
   "metadata": {},
   "source": [
    "| Make   | AvgCityMPG |\n",
    "|--------|------------|\n",
    "| Ford   | 16.5       |\n",
    "| Honda  | 30.0       |\n",
    "| Toyota | 22.3       |"
   ]
  },
  {
   "cell_type": "markdown",
   "id": "834ede08-9640-48df-b058-2856d8daff85",
   "metadata": {},
   "source": [
    "## subquery "
   ]
  },
  {
   "cell_type": "markdown",
   "id": "06c464a5-214f-4154-9611-1c11ba7a50d1",
   "metadata": {},
   "source": [
    "- `in`사용\n",
    "    - sashelp.class에서 나이가 sashelp.class에서 가장 많은 나이들 중 하나인 학생을 출력하시오."
   ]
  },
  {
   "cell_type": "markdown",
   "id": "5c6663b6-5528-41bf-b3dd-04eb8efe4942",
   "metadata": {},
   "source": [
    "```sas\n",
    "proc sql;\n",
    "   select Name, Age\n",
    "   from sashelp.class\n",
    "   where Age in (select max(Age) from sashelp.class);\n",
    "quit;\n",
    "```"
   ]
  },
  {
   "cell_type": "markdown",
   "id": "ec91bfb6-9ecb-41c5-b2ff-31788e4d033e",
   "metadata": {},
   "source": [
    "- 인라인 뷰 \n",
    "    - sashelp.class에서 나이별 평균 몸무게를 계산한 후, 평균이 100 이상인 나이 그룹만 출력하시오."
   ]
  },
  {
   "cell_type": "markdown",
   "id": "ba4ca7e5-db0a-4bdf-a808-09c8d318e4e9",
   "metadata": {},
   "source": [
    "```sas\n",
    "proc sql;\n",
    "   select *\n",
    "   from (\n",
    "      select Age, avg(Weight) as AvgWeight\n",
    "      from sashelp.class\n",
    "      group by Age\n",
    "   ) as sub\n",
    "   where AvgWeight >= 100;\n",
    "quit;\n",
    "```"
   ]
  },
  {
   "cell_type": "markdown",
   "id": "5f8d9726-6e59-4349-816d-a1d2054732a3",
   "metadata": {},
   "source": [
    "# Macro"
   ]
  },
  {
   "cell_type": "markdown",
   "id": "542d6cb7-574d-4c29-a08a-16165ff98175",
   "metadata": {},
   "source": [
    "## do while"
   ]
  },
  {
   "cell_type": "markdown",
   "id": "651a4616-89bf-4e31-bf6a-7b787605f05b",
   "metadata": {},
   "source": [
    "- 모두 매크로 코드로 x초기값1.25로 지정하고 do until이나 do while로 2보다 작은 값에 댜해서만 x log기록 후 0.25씩 늘려가는 매크로\n",
    "    - `%sysevalf` 입력!"
   ]
  },
  {
   "cell_type": "markdown",
   "id": "f189e4ef-327f-4867-a24a-3a31c0f0dfa4",
   "metadata": {},
   "source": [
    "```sas\n",
    "\n",
    "%macro loopx;\n",
    "   %let x=1.25;   /* 초기값 */\n",
    "\n",
    "   %do %while(&x < 2);\n",
    "      %put NOTE: x=&x;\n",
    "\n",
    "      /* x = x + 0.25 */\n",
    "      %let x = %sysevalf(&x + 0.25);\n",
    "   %end;\n",
    "%mend;\n",
    "\n",
    "%loopx\n",
    "\n",
    "\n",
    "```"
   ]
  },
  {
   "cell_type": "markdown",
   "id": "cae54611-1c74-4111-a549-633bc6b8549d",
   "metadata": {},
   "source": [
    "## macro 변수 저장"
   ]
  },
  {
   "cell_type": "markdown",
   "id": "92c367ca-23ea-4598-800e-72a38e61b538",
   "metadata": {},
   "source": [
    "- sashelp.class에서 나이가 16인 학생들의 이름을 매크로 변수 student_list에 공백으로 구분해 저장하시오."
   ]
  },
  {
   "cell_type": "markdown",
   "id": "24ea2b70-0c92-4073-98c7-28ae42c2470b",
   "metadata": {},
   "source": [
    "```sas\n",
    "proc sql noprint;\n",
    "   select Name into :student_list separated by ' '\n",
    "   from sashelp.class\n",
    "   where Age=16;\n",
    "quit;\n",
    "\n",
    "%put &=student_list;\n",
    "```"
   ]
  },
  {
   "cell_type": "markdown",
   "id": "5e50e49d-5c20-4c89-87cd-6261cb4484a0",
   "metadata": {},
   "source": [
    "## symputx"
   ]
  },
  {
   "cell_type": "markdown",
   "id": "ab42fef8-77ce-4c37-9a68-be8dc31f5ab3",
   "metadata": {},
   "source": [
    "- 다음 코드에서 maxage라는 매크로 변수를 생성하시오.\n"
   ]
  },
  {
   "cell_type": "markdown",
   "id": "13e39ab4-7c38-4567-b207-1cea0ab2a203",
   "metadata": {},
   "source": [
    "```sas\n",
    "data _null_;\n",
    "   set sashelp.class end=last;\n",
    "   retain maxage 0;\n",
    "   if Age > maxage then maxage=Age;\n",
    "   if last then call symputx('maxage', maxage);\n",
    "run;\n",
    "\n",
    "%put &=maxage;\n",
    "```"
   ]
  },
  {
   "cell_type": "markdown",
   "id": "65d2f31e-f680-45b7-9fa2-daa3b1e2f205",
   "metadata": {},
   "source": [
    "## 간접참조&&"
   ]
  },
  {
   "cell_type": "markdown",
   "id": "e31d73d4-0f24-4a1d-8c45-9ac7dff708d7",
   "metadata": {},
   "source": [
    "- 아래와 같은 매크로 변수들이 있을 때, `var1=Height, var2=Weight, var3=Age`. 루프를 이용해 차례대로 변수명을 출력하시오.\n",
    "    - `&&var&i → &var1 → Height`, 두 번 풀려서 최종적으로 변수명이 나옴"
   ]
  },
  {
   "cell_type": "markdown",
   "id": "86ba331c-38ca-4455-a4a7-0eb60c5a602e",
   "metadata": {},
   "source": [
    "```sas\n",
    "%let var1=Height;\n",
    "%let var2=Weight;\n",
    "%let var3=Age;\n",
    "\n",
    "%macro show;\n",
    "   %do i=1 %to 3;\n",
    "      %put &&var&i;\n",
    "   %end;\n",
    "%mend;\n",
    "\n",
    "%show\n",
    "```"
   ]
  },
  {
   "cell_type": "markdown",
   "id": "f7dfea11",
   "metadata": {},
   "source": [
    "## 매크로 지우는 코드"
   ]
  },
  {
   "cell_type": "markdown",
   "id": "8ad1fa61",
   "metadata": {},
   "source": [
    "```sas\n",
    "%symdel &vars;\n",
    "```"
   ]
  },
  {
   "cell_type": "markdown",
   "id": "62dfad41-27da-4b03-aba1-2f13da3a71a9",
   "metadata": {},
   "source": [
    "## %SUBSTR"
   ]
  },
  {
   "cell_type": "markdown",
   "id": "a0dab7bf-982b-4599-926f-4ee3b5dd350f",
   "metadata": {},
   "source": [
    "- 매크로 변수 name=Alexander에서 앞 4글자만 추출하여 매크로 변수 shortname을 만드시오.\n",
    "    - `%SUBSTR(string, position, length)`\n",
    "    - 결과: Alex"
   ]
  },
  {
   "cell_type": "markdown",
   "id": "8689693b-6653-4c15-acbd-9c1b9f3374d1",
   "metadata": {},
   "source": [
    "```sas\n",
    "%let name=Alexander;\n",
    "%let shortname=%substr(&name,1,4);\n",
    "%put &=shortname;\n",
    "```"
   ]
  },
  {
   "cell_type": "markdown",
   "id": "16b9f0a9-f1d8-4fc8-a0d5-6e60fcfd838c",
   "metadata": {},
   "source": [
    "## %put"
   ]
  },
  {
   "cell_type": "markdown",
   "id": "69a18803-4a15-4474-92f8-2ef0d634d683",
   "metadata": {},
   "source": [
    "- % put error:쓰고 log에 print 안 되게 한느 법"
   ]
  },
  {
   "cell_type": "markdown",
   "id": "e2020bf5-2742-4fed-9ef7-3e5c6c5020ed",
   "metadata": {},
   "source": [
    "```sas\n",
    "%macro name;\n",
    "    options nonotes;\n",
    "    %put error: this is error.\n",
    "%name;\n",
    "```"
   ]
  },
  {
   "cell_type": "markdown",
   "id": "24111581-65ab-4399-9e95-aa4539d63b34",
   "metadata": {},
   "source": [
    "- _USER_ 키워드는 사용자가 만든 모든 매크로 변수(전역 + 지역)를 로그에 보여줍니다."
   ]
  },
  {
   "cell_type": "markdown",
   "id": "15ed9124-ac46-4b1c-b46c-5501fd18dd0f",
   "metadata": {},
   "source": [
    "```sas\n",
    "%let global1=AAA;\n",
    "\n",
    "%macro demo;\n",
    "   %let local1=BBB;\n",
    "   %global global2;\n",
    "   %let global2=CCC;\n",
    "\n",
    "   %put ---- Inside macro ----;\n",
    "   %put _USER_;\n",
    "%mend;\n",
    "\n",
    "%demo\n",
    "\n",
    "%put ---- After macro ----;\n",
    "%put _USER_;\n",
    "```"
   ]
  },
  {
   "cell_type": "markdown",
   "id": "17b0e48e-ed43-4d45-b920-5dac1c61e8a6",
   "metadata": {},
   "source": [
    "- log 결과"
   ]
  },
  {
   "cell_type": "markdown",
   "id": "e0b9b39c-9272-4d97-93de-6f3eaa78c56c",
   "metadata": {},
   "source": [
    "```sas\n",
    "GLOBAL GLOBAL1 AAA\n",
    "GLOBAL GLOBAL2 CCC\n",
    "LOCAL  LOCAL1 BBB\n",
    "\n",
    "---- After macro ----\n",
    "GLOBAL GLOBAL1 AAA\n",
    "GLOBAL GLOBAL2 CCC\n",
    "```"
   ]
  },
  {
   "cell_type": "markdown",
   "id": "dfed1079-df5f-4ab4-bfad-98a42ad84851",
   "metadata": {},
   "source": [
    "- `%put _ALL_`; → 자동변수 + 사용자 변수 + 시스템 변수 전부 다\n",
    "- `%put _AUTOMATIC_`; → 자동으로 제공되는 시스템 매크로 변수만\n",
    "- `%put _GLOBAL_`; → 글로벌 변수만\n",
    "- `%put _LOCAL_`; → 매크로 실행 중일 때만 로컬 변수만"
   ]
  },
  {
   "cell_type": "markdown",
   "id": "9b091b90-fe65-412a-8fc4-7522b137dab3",
   "metadata": {},
   "source": [
    "```sas\n",
    "proc sql noprint;\n",
    "    select name\n",
    "    into :namelist separated by ','\n",
    "    into :n1 - :n5\n",
    "    into :avg_h, :avg_w\n",
    "    from sashelp.class\n",
    "    where sex='F';\n",
    "quit;\n",
    "```"
   ]
  },
  {
   "cell_type": "markdown",
   "id": "f5716f00",
   "metadata": {},
   "source": [
    "## minoperator\n"
   ]
  },
  {
   "cell_type": "markdown",
   "id": "e0bb6164",
   "metadata": {},
   "source": [
    "- minoperator는 in을 쓸 수 있게 해줌"
   ]
  },
  {
   "cell_type": "markdown",
   "id": "9857e0fb",
   "metadata": {},
   "source": [
    "```sas\n",
    "%macro avgfuel(loc) / minoperator;\n",
    "%else %if &loc in ASIA EUROPE %then %do;\n",
    "```"
   ]
  },
  {
   "cell_type": "markdown",
   "id": "4bd4a655-ae79-4eac-9fc2-aa8793596c4c",
   "metadata": {},
   "source": [
    "## mprint mlogic symbolgen;"
   ]
  },
  {
   "cell_type": "markdown",
   "id": "e7f92ff5-ef9b-4a5f-9bb2-097464eeeadd",
   "metadata": {},
   "source": [
    "MPRINT → 매크로가 실제로 실행할 SAS 코드(매크로 해석 후의 코드)를 로그에 보여줌\n",
    "\n",
    "MLOGIC → 매크로 실행 과정(분기, 반복, 호출/종료 등)을 단계별로 로그에 보여줌\n",
    "\n",
    "SYMBOLGEN → 매크로 변수 치환 과정(&변수)을 로그에 보여줌"
   ]
  },
  {
   "cell_type": "markdown",
   "id": "249dd1c0-cd63-4dc1-9bcf-da970e784fb5",
   "metadata": {},
   "source": [
    "```sas\n",
    "options mprint mlogic symbolgen;\n",
    "```"
   ]
  },
  {
   "cell_type": "markdown",
   "id": "ad354fe5-a24c-4fd5-a729-6ec809d3ad7b",
   "metadata": {},
   "source": [
    "## put vs putlog"
   ]
  },
  {
   "cell_type": "markdown",
   "id": "fc7b89f3-caa5-4dec-a0cb-5b4946cdf488",
   "metadata": {},
   "source": [
    "- put\n",
    "    - %LET → 매크로 변수 name 생성 (Seoyeon)\n",
    "    - %PUT → 매크로 실행 시점에 로그에 문자열 출력\n",
    "    - 결과 (로그):"
   ]
  },
  {
   "cell_type": "markdown",
   "id": "27680f78-74bf-4f2f-b9c8-c56fc7af936f",
   "metadata": {},
   "source": [
    "```sas\n",
    "%let name=Mike;\n",
    "%put Hello, &name.;\n",
    "```"
   ]
  },
  {
   "cell_type": "markdown",
   "id": "ddbc734f-c5e3-4102-a4c8-233cfd1101e1",
   "metadata": {},
   "source": [
    "결과: Hellp, Mike"
   ]
  },
  {
   "cell_type": "markdown",
   "id": "43772fc8-2e88-45a4-af77-4a7fc81156b5",
   "metadata": {},
   "source": [
    "- put log\n",
    "    - DATA step 실행 중, putlog 문이 SAS 로그에 메시지 기록\n",
    "    - \"현재 값은 \" → 문자열 그대로 출력\n",
    "    - x= y= → 변수 이름과 값 함께 출력\n",
    "    - 결과 (로그):"
   ]
  },
  {
   "cell_type": "markdown",
   "id": "893df951-256c-468f-9543-6e12e39d123c",
   "metadata": {},
   "source": [
    "```sas\n",
    "data _null_;\n",
    "   x = 10;\n",
    "   y = 20;\n",
    "   putlog \"현재 값은 \" x= y=;\n",
    "run;\n",
    "```"
   ]
  },
  {
   "cell_type": "markdown",
   "id": "626bd741-c20a-483e-9ea2-2c5886aad539",
   "metadata": {},
   "source": [
    "결과: 현재 값은 x=10 y=20"
   ]
  },
  {
   "cell_type": "markdown",
   "id": "d8c91353-4659-4195-8934-061e6261840a",
   "metadata": {},
   "source": [
    "## 오늘 날짜 표현 방법"
   ]
  },
  {
   "cell_type": "markdown",
   "id": "fe10867b-37be-4c00-9270-10562a8c4c60",
   "metadata": {},
   "source": [
    "- 방법 1: `%SYSFUNC + date()`\n",
    "    - date() 함수 → 현재 날짜 (SAS 일련번호, 1960/01/01 기준)\n",
    "    - date9. 포맷 → 26AUG2025 형태"
   ]
  },
  {
   "cell_type": "markdown",
   "id": "cd804821-5001-4957-bdfc-71fed52df20b",
   "metadata": {},
   "source": [
    "```sas\n",
    "%let today=%sysfunc(date(), date9.);\n",
    "%put &=today;\n",
    "```"
   ]
  },
  {
   "cell_type": "markdown",
   "id": "a43e30cb-c848-442a-b436-0d394209b36c",
   "metadata": {},
   "source": [
    "- 방법 2: `%SYSFUNC + today()`\n",
    "    - today() 함수도 현재 날짜 반환 (date()와 동일)\n",
    "    - 다른 포맷 사용 가능 (yymmdd10. → 2025-08-26)"
   ]
  },
  {
   "cell_type": "markdown",
   "id": "48437ed0-886c-4c31-8feb-3e5454766824",
   "metadata": {},
   "source": [
    "```sas\n",
    "%let today=%sysfunc(today(), yymmdd10.);\n",
    "%put &=today;\n",
    "```"
   ]
  },
  {
   "cell_type": "markdown",
   "id": "2db47e73-c456-47a6-b8f0-d55894fcf171",
   "metadata": {},
   "source": [
    "- 방법 3: `datetime()`\n",
    "    - 현재 날짜+시간 출력 (26AUG2025:15:30:45)"
   ]
  },
  {
   "cell_type": "markdown",
   "id": "9ac8a545-7975-4d5d-ac32-ad27693819cb",
   "metadata": {},
   "source": [
    "```sas\n",
    "%let now=%sysfunc(datetime(), datetime20.);\n",
    "%put &=now;\n",
    "```"
   ]
  },
  {
   "cell_type": "markdown",
   "id": "8a79e79d-a501-42ff-8c93-db61160f37bd",
   "metadata": {},
   "source": [
    "- 방법 4: `%sysfunc(today(), worddate.)`\n",
    "    - 결과: 26 August 2025 (가독성 좋은 문자열)"
   ]
  },
  {
   "cell_type": "markdown",
   "id": "b010543b-1092-43ac-80e0-09bd168604cd",
   "metadata": {},
   "source": [
    "```sas\n",
    "%let today=%sysfunc(today(), worddate.);\n",
    "%put &=today;\n",
    "```"
   ]
  },
  {
   "cell_type": "markdown",
   "id": "4f1c6823-3cf7-4d17-b5d9-3fd2a99642f8",
   "metadata": {},
   "source": [
    "- 방법 5: `%sysfunc(today(), weekdate.)`\n",
    "    - 결과: Tuesday, August 26, 2025"
   ]
  },
  {
   "cell_type": "markdown",
   "id": "39013175-2cca-43c9-a82e-ef9b790542fb",
   "metadata": {},
   "source": [
    "```sas\n",
    "%let today=%sysfunc(today(), weekdate.);\n",
    "%put &=today;\n",
    "```"
   ]
  },
  {
   "cell_type": "markdown",
   "id": "9e71ecc8-b2af-4721-9ee0-b898c5fccc8b",
   "metadata": {},
   "source": [
    "- 방법 6: 시스템 매크로 변수 활용 `(&sysdate9, &sysdatetime)`\n",
    "    - SAS 자동 제공 시스템 매크로 변수 사용\n",
    "    - 형식은 고정되어 있음"
   ]
  },
  {
   "cell_type": "markdown",
   "id": "159b559b-30fe-4730-985b-3ee15ae97bec",
   "metadata": {},
   "source": [
    "```sas\n",
    "%put &=sysdate9;      /* 26AUG2025 */\n",
    "%put &=sysdate;       /* 26AUG25   */\n",
    "%put &=sysdatetime;   /* 26AUG25:15:30:45 */\n",
    "```"
   ]
  },
  {
   "cell_type": "markdown",
   "id": "abafd196-5f25-4d8c-9125-b21f4b60139f",
   "metadata": {},
   "source": [
    "# Advanced Tech"
   ]
  },
  {
   "cell_type": "markdown",
   "id": "1c22468e-61fe-40da-8659-c71a98ac72e1",
   "metadata": {},
   "source": [
    "## Array"
   ]
  },
  {
   "cell_type": "markdown",
   "id": "12de18b8-c9c4-4a7a-b657-e12c0b7f29a9",
   "metadata": {},
   "source": [
    "- 이렇게 하면 7,8,9 이렇게 3개 가져옴"
   ]
  },
  {
   "cell_type": "markdown",
   "id": "28bae27d-9a29-4f98-b49b-d3759aac72c3",
   "metadata": {},
   "source": [
    "```sas\n",
    "array Farenht [7:9] Temp7-Temp9;\n",
    "array Celsius [7:9] TempC7-TempC9;\n",
    "```"
   ]
  },
  {
   "cell_type": "markdown",
   "id": "55e36d99-64a8-40c6-a377-a8549070f023",
   "metadata": {},
   "source": [
    "- 또는 이렇게 해서 한 번에 4개 나열"
   ]
  },
  {
   "cell_type": "markdown",
   "id": "99f0080d-a4fa-4510-b582-382e0b976116",
   "metadata": {},
   "source": [
    "```sas\n",
    "array Status[4] $ 5 StatusQ1-StatusQ4;\n",
    "```"
   ]
  },
  {
   "cell_type": "markdown",
   "id": "89f955dd-7abd-4464-b437-86abda442914",
   "metadata": {},
   "source": [
    "- 2행 3열로 나타남"
   ]
  },
  {
   "cell_type": "markdown",
   "id": "cd8ab5b8-ec81-49cc-80b8-8e40338b0c88",
   "metadata": {},
   "source": [
    "```sas\n",
    "array Avg [2013:2014,3] (40.9, 40.7, 38.6, 42.5, 42.6, 45.4): \n",
    "```"
   ]
  },
  {
   "cell_type": "markdown",
   "id": "3f1eedc3-c585-4937-b80f-785a53459290",
   "metadata": {},
   "source": [
    "- _N_ = 1일 때만 작동 → 즉, 한 번의 데이터 스텝 실행 중에 array_data의 두 줄 모두 처리함.\n",
    "- set array_data는 두 번 호출되며 각 줄을 Row=1, Row=2로 저장\n",
    "- 배열의 메모리 배치 순서: TwoD[1,1] → TwoD[1,2] → TwoD[1,3] → TwoD[2,1] → TwoD[2,2] → TwoD[2,3]\n",
    "\n",
    "Row=1 → OneD = Jack, Mary, Sally\n",
    "- TwoD[1,1] = Jack\n",
    "- TwoD[1,2] = Mary\n",
    "- TwoD[1,3] = Sally\n",
    "\n",
    "Row=2 → OneD = Christy, John, Marty\n",
    "- TwoD[2,1] = Christy\n",
    "- TwoD[2,2] = John\n",
    "- TwoD[2,3] = Marty"
   ]
  },
  {
   "cell_type": "markdown",
   "id": "1727bd23-a620-42cd-92a3-b0db2a5b9004",
   "metadata": {},
   "source": [
    "```sas\n",
    "data new_data(drop=Row Column);\n",
    "  array TwoD[2,3] $;           /* 2행 3열 문자형 배열 선언 */\n",
    "  retain TwoD1-TwoD6;          /* 배열 값을 유지 */\n",
    "  \n",
    "  if _N_ = 1 then do Row = 1 to 2;   /* 최초 실행 시 2개의 행 처리 */\n",
    "    set array_data;                 /* 한 줄씩 읽음 */\n",
    "    \n",
    "    array OneD[3] Name1-Name3;      /* Name1~Name3을 1차원 배열로 묶음 */\n",
    "    \n",
    "    do Column = 1 to 3;\n",
    "      TwoD[Row, Column] = OneD[Column];   /* 값을 2차원 배열에 저장 */\n",
    "    end;\n",
    "  end;\n",
    "run;\n",
    "```"
   ]
  },
  {
   "cell_type": "markdown",
   "id": "11475c3e-d411-43d1-bd2a-9390781edf48",
   "metadata": {},
   "source": [
    "## Hash object"
   ]
  },
  {
   "cell_type": "markdown",
   "id": "2fba4a92",
   "metadata": {},
   "source": [
    "```sas\n",
    "object-name.definekey ()\n",
    "object-name.definedata ()\n",
    "object-name.definedone ()\n",
    "\n",
    "object-name.find() 찾으면 > 0\n",
    "object-name.add ()\n",
    "object-name.output ()\n",
    "```"
   ]
  },
  {
   "cell_type": "markdown",
   "id": "5ee2dcf6-0f18-413f-a7d5-a70d292dd9e0",
   "metadata": {},
   "source": [
    "hash 데이터셋 output하는 법"
   ]
  },
  {
   "cell_type": "markdown",
   "id": "41349b4a-77a9-4d39-8a8d-ca42ab2e43c9",
   "metadata": {},
   "source": [
    "```sas\n",
    "data example1;\n",
    "    if _n_=1 then do;\n",
    "        declare hash h(dataset:\"sashelp.class\");\n",
    "        h.defineKey(\"name\");             /* 키 */\n",
    "        h.defineData(\"age\",\"height\",\"weight\"); /* 데이터 */\n",
    "        h.defineDone();\n",
    "    end;\n",
    "    set sashelp.class(keep=name);        /* 왼쪽 데이터 */\n",
    "    rc = h.find();                       /* 키로 찾기 */\n",
    "    if rc=0 then output;                 /* 매칭된 경우 출력 */\n",
    "    drop rc;\n",
    "run;\n",
    "```"
   ]
  },
  {
   "cell_type": "markdown",
   "id": "f64baf22",
   "metadata": {},
   "source": [
    "```sas\n",
    "data work.StateCityPopulation; \n",
    "    if _N_=1 then do; \n",
    "        if 0 then set pg3.population.usstates; \n",
    "        declare hash States(dataset:'pg3.population_usstates'); \n",
    "        States.definekey('StateName'); \n",
    "        States.definedata('Capital', 'StatePop2017'); \n",
    "        States.definedone(); \n",
    "        end; \n",
    "    set pg3.population uscities; \n",
    "    StateName=stnamel(StateCode): \n",
    "    RC=States. find(key:StateName); \n",
    "    *(해시 객체 States에서 주 이름(StateName)을 키로 검색해서 해당 Capital과 StatePop2017 값을 찾아서 자동으로 변수에 바인딩합니다 성공 시 RC = 0);\n",
    "        if RC ne 0 then call missing(Capital, StatePop2017);\n",
    "        *(해시에서 값을 찾지 못했을 경우, Capital과 StatePop2017 값을 명시적으로 결측 처리합니다.)\n",
    "        PctPop«CityPop2017/StatePop2017; \n",
    "        format StatePop2017 comma14. PctPop percent8.1; \n",
    "        (해당하는 거만 데이터셋 만들어지게 하려면)\n",
    "            if RC = 0 then do;  /* 🔍 lookup 성공한 경우에만 */\n",
    "                PctPop = CityPop2017 / StatePop2017;\n",
    "                format StatePop2017 comma14. PctPop percent8.1;\n",
    "                output;           /* ✅ 해당 행만 데이터셋에 저장 */\n",
    "        end;\n",
    "    ()\n",
    "run;\n",
    "```"
   ]
  },
  {
   "cell_type": "markdown",
   "id": "0f4f2842",
   "metadata": {},
   "source": [
    "## PROC FCMP"
   ]
  },
  {
   "cell_type": "markdown",
   "id": "279eb804",
   "metadata": {},
   "source": [
    "```sas\n",
    "\n",
    "\n",
    "PROC FCMP OUTLIB=libref.table.package;\n",
    "FUNCTION function-name(arguments) <$> <length>;\n",
    "...programming statements...\n",
    "RETURN(expression);\n",
    "ENDSUB;\n",
    "RUN;\n",
    "```"
   ]
  },
  {
   "cell_type": "markdown",
   "id": "91ee766d",
   "metadata": {},
   "source": [
    "```sas\n",
    "proc fcmp outlib-pg3. funcs.weather;\n",
    "function FtoC (TempF) ;\n",
    "TempC=round ( (TempF-32) *5/9,.01) ;\n",
    "return (TempC) ;\n",
    "endsub;\n",
    "run;\n",
    "*function불러와야 쓸 수 있음;\n",
    "options cmplib=pg3.funcs;\n",
    "\n",
    "```"
   ]
  },
  {
   "cell_type": "markdown",
   "id": "f9b0b493-b5d2-43a8-9697-0777a5285e09",
   "metadata": {},
   "source": [
    "- 에시\n",
    "    - 두 수 중 큰 값을 반환하는 함수 mymax를 정의하고 호출하시오."
   ]
  },
  {
   "cell_type": "markdown",
   "id": "cff3bfca-349a-4545-88ae-cc9762a0175b",
   "metadata": {},
   "source": [
    "```sas\n",
    "proc fcmp outlib=work.funcs.math;\n",
    "   function mymax(x,y);\n",
    "      if x>y then return(x);\n",
    "      else return(y);\n",
    "   endsub;\n",
    "run;\n",
    "\n",
    "options cmplib=work.funcs;\n",
    "data ex8;\n",
    "   result=mymax(10,20);\n",
    "   put result=;\n",
    "run;\n",
    "```"
   ]
  },
  {
   "cell_type": "markdown",
   "id": "53c78f8a",
   "metadata": {},
   "source": [
    "## lag"
   ]
  },
  {
   "cell_type": "markdown",
   "id": "dd0c4dfc",
   "metadata": {},
   "source": [
    "lag1, lag2 있는 데이터 두 번 돌리면 아래처럼 이상하게 나타남(원래 데이터 10 20 30 40)\n",
    "\n",
    "큐를 초기화하거나 lag 대신 retain+by 등으로 대체 고려"
   ]
  },
  {
   "cell_type": "markdown",
   "id": "d89de3b8-b3dd-4b65-be64-93f9a760076d",
   "metadata": {},
   "source": [
    "```sas\n",
    "data test;\n",
    "   input x;\n",
    "   lag1_x = lag1(x);\n",
    "   lag2_x = lag2(x);\n",
    "   datalines;\n",
    "10\n",
    "20\n",
    "30\n",
    "40\n",
    ";\n",
    "run;\n",
    "\n",
    "proc print data=test; run;\n",
    "```"
   ]
  },
  {
   "cell_type": "markdown",
   "id": "7087f036",
   "metadata": {},
   "source": [
    "- 첫 번째 DATA step(정상 동작):"
   ]
  },
  {
   "cell_type": "markdown",
   "id": "502753d2",
   "metadata": {},
   "source": [
    "| x  | l1  | l2  |\n",
    "|----|-----|-----|\n",
    "| 10 | .   | .   |\n",
    "| 20 | 10  | .   |\n",
    "| 30 | 20  | 10  |\n",
    "| 40 | 30  | 20  |"
   ]
  },
  {
   "cell_type": "markdown",
   "id": "cdda6e22",
   "metadata": {},
   "source": [
    "- 두 번째 DATA step:"
   ]
  },
  {
   "cell_type": "markdown",
   "id": "81d17662",
   "metadata": {},
   "source": [
    "| x  | l1   | l2   |\n",
    "|----|------|------|\n",
    "| 10 | 40❗ | 30❗ |\n",
    "| 20 | 10   | 40   |\n",
    "| 30 | 20   | 10   |\n",
    "| 40 | 30   | 20   |\n"
   ]
  },
  {
   "cell_type": "markdown",
   "id": "f32144c7",
   "metadata": {},
   "source": [
    "## 정규표현식"
   ]
  },
  {
   "cell_type": "markdown",
   "id": "2edf8111-cdca-4898-8815-6a375a88ca6e",
   "metadata": {},
   "source": [
    "| 패턴    | 설명                                   |\n",
    "|---------|----------------------------------------|\n",
    "| .       | 아무 문자 하나 (줄바꿈 제외)            |\n",
    "| \\d      | 숫자 (digit, 0-9)                      |\n",
    "| \\w      | 알파벳/숫자/언더스코어                 |\n",
    "| \\s      | 공백 문자 (space, tab 등)              |\n",
    "| ^       | 문자열의 시작                          |\n",
    "| $       | 문자열의 끝                            |\n",
    "| +       | 1개 이상 반복                          |\n",
    "| *       | 0개 이상 반복                          |\n",
    "| ?       | 0개 또는 1개                           |\n",
    "| [abc]   | a, b, 또는 c 중 하나                   |\n",
    "| [^abc]  | a, b, c 이외의 문자                    |\n",
    "| (abc)   | 그룹                                   |\n"
   ]
  },
  {
   "cell_type": "markdown",
   "id": "6881e115",
   "metadata": {
    "vscode": {
     "languageId": "raw"
    }
   },
   "source": [
    "1. `prxparse` → 정규식 패턴 컴파일"
   ]
  },
  {
   "cell_type": "markdown",
   "id": "c20658e4",
   "metadata": {},
   "source": [
    "- prxparse('/\\d+/') → \"숫자 1개 이상\" 정규식 생성\n",
    "- \"abc123xyz\"에서 숫자는 4번째 위치 → pos=4"
   ]
  },
  {
   "cell_type": "markdown",
   "id": "8129437c",
   "metadata": {
    "vscode": {
     "languageId": "raw"
    }
   },
   "source": [
    "```sas\n",
    "data _null_;\n",
    "   retain regex;\n",
    "   if _n_ = 1 then regex = prxparse('/\\d+/');  /* 숫자 찾기 */\n",
    "   str = \"abc123xyz\";\n",
    "   pos = prxmatch(regex, str);\n",
    "   put pos=;\n",
    "run;\n",
    "```"
   ]
  },
  {
   "cell_type": "markdown",
   "id": "da910411",
   "metadata": {},
   "source": [
    "2. `prxmatch` → 문자열에 패턴 매칭 (첫 번째 위치)"
   ]
  },
  {
   "cell_type": "markdown",
   "id": "d0238e91",
   "metadata": {},
   "source": [
    "- \"cat\"은 \"my cat is here\"에서 4번째 → pos1=4\n",
    "- \"dog only\"에는 없음 → pos2=0"
   ]
  },
  {
   "cell_type": "markdown",
   "id": "8d6849cf",
   "metadata": {
    "vscode": {
     "languageId": "raw"
    }
   },
   "source": [
    "\n",
    "```sas\n",
    "data _null_;\n",
    "   regex = prxparse('/cat/');\n",
    "   str1 = \"my cat is here\";\n",
    "   str2 = \"dog only\";\n",
    "   pos1 = prxmatch(regex, str1);\n",
    "   pos2 = prxmatch(regex, str2);\n",
    "   put pos1= pos2=;\n",
    "run;\n",
    "```"
   ]
  },
  {
   "cell_type": "markdown",
   "id": "8cc6e88a",
   "metadata": {
    "vscode": {
     "languageId": "raw"
    }
   },
   "source": [
    "3. `prxchange` → 정규식 치환"
   ]
  },
  {
   "cell_type": "markdown",
   "id": "de694710",
   "metadata": {},
   "source": [
    "- 정규식 (\\d{4})-(\\d{2})-(\\d{2}) → 연도-월-일 캡처\n",
    "- $3/$2/$1 → 일/월/연도로 재배치\n",
    "- 결과: 17/08/2025"
   ]
  },
  {
   "cell_type": "markdown",
   "id": "ba93e95f",
   "metadata": {},
   "source": [
    "```sas\n",
    "data _null_;\n",
    "   str = \"2025-08-17\";\n",
    "   /* yyyy-mm-dd → dd/mm/yyyy 변환 */\n",
    "   new = prxchange('s/(\\d{4})-(\\d{2})-(\\d{2})/$3\\/$2\\/$1/', -1, str);\n",
    "   put new=;\n",
    "run;\n",
    "```"
   ]
  },
  {
   "cell_type": "markdown",
   "id": "5b313848",
   "metadata": {
    "vscode": {
     "languageId": "raw"
    }
   },
   "source": [
    "4. `prxsubstr` → 매치 위치와 길이 반환"
   ]
  },
  {
   "cell_type": "markdown",
   "id": "78d3c7ff",
   "metadata": {},
   "source": [
    "- 첫 숫자 시작 = 14번째 (pos=14)\n",
    "- 길이 = 5 (len=5)\n",
    "- matched=12345"
   ]
  },
  {
   "cell_type": "markdown",
   "id": "af78ec0f",
   "metadata": {},
   "source": [
    "```sas\n",
    "data _null_;\n",
    "   regex = prxparse('/\\d+/');  /* 숫자 찾기 */\n",
    "   str = \"Order number 12345 confirmed\";\n",
    "   call prxsubstr(regex, str, pos, len);\n",
    "   matched = substr(str, pos, len);\n",
    "   put pos= len= matched=;\n",
    "run;\n",
    "```"
   ]
  },
  {
   "cell_type": "markdown",
   "id": "be0b811c",
   "metadata": {},
   "source": [
    "5. `prxnext` → 여러 매치 순회"
   ]
  },
  {
   "cell_type": "markdown",
   "id": "79c979a7",
   "metadata": {},
   "source": [
    "- prxnext는 여러 개의 매치를 순차적으로 반환할 때 사용."
   ]
  },
  {
   "cell_type": "markdown",
   "id": "ae687982-0e26-48ca-a6ee-dc4c9c9130b2",
   "metadata": {},
   "source": [
    "```sas\n",
    "data _null_;\n",
    "   regex = prxparse('/\\d+/');  /* 숫자 찾기 */\n",
    "   str = \"a1 b22 c333\";\n",
    "   start = 1;\n",
    "   stop = length(str);\n",
    "\n",
    "   do while (prxnext(regex, start, stop, str, pos, len) > 0);\n",
    "      match = substr(str, pos, len);\n",
    "      put match=;\n",
    "   end;\n",
    "run;\n",
    "```"
   ]
  },
  {
   "cell_type": "markdown",
   "id": "09adcfe7",
   "metadata": {},
   "source": [
    "## Format"
   ]
  },
  {
   "cell_type": "markdown",
   "id": "400f5b9d",
   "metadata": {},
   "source": [
    " 코드   | 설명                                   | 예시 값       |\n",
    "|--------|----------------------------------------|---------------|\n",
    "| %A     | 요일 이름 (전체)                       | Wednesday     |\n",
    "| %a     | 요일 이름 (앞 3글자)                   | Wed           |\n",
    "| %d     | 월 중 일자 (1~31, 한 자리 가능)        | 2             |\n",
    "| %0d    | 월 중 일자 (2자리, 0 채움)             | 02            |\n",
    "| %B     | 월 이름 (전체)                         | January       |\n",
    "| %3B    | 월 이름 (앞 3글자)                     | Jan           |\n",
    "| %m     | 월 번호 (1~12, 한 자리 가능)           | 1             |\n",
    "| %0m    | 월 번호 (2자리, 0 채움)                | 01            |\n",
    "| %Y     | 연도 (4자리)                           | 2019          |\n",
    "| %Oy    | 연도 (2자리)                           | 19            |\n",
    "| %H/%OH | 시 (24시간제, 한 자리 또는 두 자리)    | 21            |\n",
    "| %I/%OI | 시 (12시간제, 한 자리 또는 두 자리)    | 9 또는 09     |\n",
    "| %M/%OM | 분 (한 자리 또는 두 자리)              | 13            |\n",
    "| %S/%OS | 초 (한 자리 또는 두 자리)              | 5 또는 05     |\n",
    "| %p     | 오전/오후 표시 (AM/PM)                 | PM            |\n"
   ]
  },
  {
   "cell_type": "markdown",
   "id": "e3ee6e70",
   "metadata": {},
   "source": [
    "```sas\n",
    "proc format;\n",
    "    picture MyDate (default=15)\n",
    "    low-high = '%a-%d-%3B-¿y'\n",
    "    (datatype=date) ;\n",
    "    picture MyTime (default=14)\n",
    "    low-high\n",
    "    'H:%OH M:%OM S:%OS'\n",
    "    (datatype=time) ;\n",
    "run;\n",
    "```"
   ]
  },
  {
   "cell_type": "markdown",
   "id": "c8f0092f",
   "metadata": {},
   "source": [
    "## Count, Find"
   ]
  },
  {
   "cell_type": "markdown",
   "id": "fcce26c3",
   "metadata": {},
   "source": [
    "```sas\n",
    "count(txt, 'apple'); -> cnt = 2\n",
    "txt = 'apple pie and pineapple';\n",
    "  cnt = countw(txt); -> cnt = 4\n",
    "```"
   ]
  },
  {
   "cell_type": "markdown",
   "id": "a0f6ce59",
   "metadata": {},
   "source": [
    "```sas\n",
    " str = \"catalog\";\n",
    "  pos = find(str, \"cat\");  /* 결과: 1 */\n",
    "pos = findw(str, \"cat\");  /* 결과: 0 */\n",
    "```"
   ]
  },
  {
   "cell_type": "markdown",
   "id": "59bab260",
   "metadata": {},
   "source": []
  }
 ],
 "metadata": {
  "kernelspec": {
   "display_name": "Python 3",
   "language": "python",
   "name": "python3"
  },
  "language_info": {
   "codemirror_mode": {
    "name": "ipython",
    "version": 3
   },
   "file_extension": ".py",
   "mimetype": "text/x-python",
   "name": "python",
   "nbconvert_exporter": "python",
   "pygments_lexer": "ipython3",
   "version": "3.8.0"
  }
 },
 "nbformat": 4,
 "nbformat_minor": 5
}
