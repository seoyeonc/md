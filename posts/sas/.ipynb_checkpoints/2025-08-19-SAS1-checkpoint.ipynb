{
 "cells": [
  {
   "cell_type": "raw",
   "id": "0e0d3387-3f77-4867-a20a-5c6ed0a9769c",
   "metadata": {
    "id": "cac470df-29e7-4148-9bbd-d8b9a32fa570",
    "tags": []
   },
   "source": [
    "---\n",
    "title: \"SAS Advanced Certificate\"\n",
    "author: \"SEOYEON CHOI\"\n",
    "date: \"2025-08-19\"\n",
    "---"
   ]
  },
  {
   "cell_type": "markdown",
   "id": "75a48f57-47bb-4d27-8063-cc66a48ed9de",
   "metadata": {},
   "source": [
    "# 공식 문제"
   ]
  },
  {
   "cell_type": "markdown",
   "id": "a846fbdd-1610-4767-aa31-2822b0c7b7a3",
   "metadata": {},
   "source": [
    "## Question 1"
   ]
  },
  {
   "cell_type": "markdown",
   "id": "d0d7b90a-ba0f-4d2d-b91e-aa998253ab20",
   "metadata": {},
   "source": [
    "> array"
   ]
  },
  {
   "cell_type": "markdown",
   "id": "aff1d82f-a81b-4703-9323-44656b45bb46",
   "metadata": {},
   "source": [
    "Open a new programming window to create ACT01.sas in c:\\cert\\programs. \n",
    "\n",
    "Write a SAS program that will: \n",
    "- Create output data set work.ACT01 using sashelp.pricedata as input. \n",
    "- Use an array to increase the values of the price1 through price17 variables by 10%. \n",
    "\n",
    "Run your program and troubleshoot as necessary. When you are finished with the project: \n",
    "1. Ensure that you have saved your program as ACT01.sas in c:\\cert\\programs. \n",
    "2. From the score.sas program, call the scoreit macro using ACT01 as the parameter: %scoreit(ACT01). \n",
    "\n",
    "What is the value for Response in the SAS log? ___ \n",
    "\n",
    "Correct Solution: All price values for all price1-through price17 will be increased by 10%. For example, price2 in observation 5 will now be 126.50. Arrays and do loops would be used in the program. "
   ]
  },
  {
   "cell_type": "markdown",
   "id": "f80b2704-8c38-46d0-9888-015ed3abc196",
   "metadata": {},
   "source": [
    "```sas\n",
    "\n",
    "data work.atc01; \n",
    "set sashelp.pricedata; \n",
    "\n",
    "    array prices {*} price1-price17; \n",
    "    do i = 1 to dim(prices); \n",
    "    prices[i] = prices[i] * 1.10; \n",
    "\n",
    "    end; \n",
    "drop i; \n",
    "run;\n",
    "\n",
    "```"
   ]
  },
  {
   "cell_type": "markdown",
   "id": "a3cda1d3-6b82-4203-977f-f32205fce709",
   "metadata": {},
   "source": [
    "## Question 2"
   ]
  },
  {
   "cell_type": "markdown",
   "id": "94e8803a-8abd-47bc-9338-7506e135dfa1",
   "metadata": {},
   "source": [
    "> symputx"
   ]
  },
  {
   "cell_type": "markdown",
   "id": "edef1973-82fa-4ade-aac2-fa1de8c99cbd",
   "metadata": {},
   "source": [
    "Open a new programming window to create MAC01.sas in c:\\cert\\programs. \n",
    "\n",
    "Write a DATA step that reads only the first observation of the sashelp.cars data set and stores the value of the Make variable in a macro variable named CarMaker. \n",
    "\n",
    "The macro variable must be defined from within the DATA Step. \n",
    "\n",
    "Run your program and troubleshoot as necessary. \n",
    "\n",
    "When you are finished with the project: \n",
    "1. Ensure that you have saved your program as MAC01.sas in c:\\cert\\programs. \n",
    "2. From the score.sas program, call the scoreit macro using MAC01 as the parameter: %scoreit(MAC01). \n",
    "\n",
    "What is the value for Response in the SAS log? __ \n",
    "\n",
    "Correct Solution: The CarMaker macro variable will have a value of Acura. \n",
    "\n",
    "The program will include a symputx routine."
   ]
  },
  {
   "cell_type": "markdown",
   "id": "be18f993-ab8e-44fd-8add-13dbb883c87a",
   "metadata": {},
   "source": [
    "```sas\n",
    "\n",
    "data _null_; \n",
    "set sashelp.cars; \n",
    "    \n",
    "    if _n_ = 1 then call symputx('Carmaker'.Make); \n",
    "    \n",
    "run;\n",
    "\n",
    "```"
   ]
  },
  {
   "cell_type": "markdown",
   "id": "468fdf89-cb41-4add-a6ed-3dad50c42b51",
   "metadata": {},
   "source": [
    "## Question 3"
   ]
  },
  {
   "cell_type": "markdown",
   "id": "0295516d-1437-4b87-8326-92c515caf1cf",
   "metadata": {},
   "source": [
    "> proc sql, mean(), group by"
   ]
  },
  {
   "cell_type": "markdown",
   "id": "41a0f058-b3e5-45a1-bba5-4bf4a07cf586",
   "metadata": {},
   "source": [
    "Open a new programming window to create SQL01.sas in c:\\cert\\programs. \n",
    "\n",
    "Write an SQL query that will: \n",
    "- Create output data set work.SQL01 using sashelp.cars as input. \n",
    "- Compute the average MPG_City for each group of Make. \n",
    "\n",
    "Name the calculated variable AvgCityMPG. \n",
    "- The output data should have 2 columns, Make and AvgCityMPG. \n",
    "\n",
    "Run your program and troubleshoot as necessary. \n",
    "\n",
    "When you are finished with the project: \n",
    "1. Ensure that you have saved your program as SQL01.sas in c:\\cert\\programs. \n",
    "2. From the score.sas program, call the scoreit macro using SQL01 as the parameter: %scoreit(SQL01). \n",
    "\n",
    "What is the value for Response in the SAS log? __ \n",
    "\n",
    "Correct Solution: An SQL query with a group by clause will be written. \n",
    "\n",
    "The AvgCityMPG for MAKE=MINI will be 26.5. "
   ]
  },
  {
   "cell_type": "markdown",
   "id": "73efe862-4553-4b6f-a850-4aad7fc9f038",
   "metadata": {},
   "source": [
    "```sas\n",
    "\n",
    "proc sql; \n",
    "    create table work.SQL01 as \n",
    "    select Make, mean(MPG_City) as AvgCityMPG \n",
    "    from sashelp.cars \n",
    "    group by Make; \n",
    "quit;\n",
    "\n",
    "```"
   ]
  },
  {
   "cell_type": "markdown",
   "id": "5f8d9726-6e59-4349-816d-a1d2054732a3",
   "metadata": {},
   "source": [
    "# Macro"
   ]
  },
  {
   "cell_type": "markdown",
   "id": "651a4616-89bf-4e31-bf6a-7b787605f05b",
   "metadata": {},
   "source": [
    "- 모두 매크로 코드로 x초기값1.25로 지정하고 do until이나 do while로 2보다 작은 값에 댜해서만 x log기록 후 0.25씩 늘려가는 매크로"
   ]
  },
  {
   "cell_type": "markdown",
   "id": "f189e4ef-327f-4867-a24a-3a31c0f0dfa4",
   "metadata": {},
   "source": [
    "```sas\n",
    "\n",
    "%macro loopx;\n",
    "   %let x=1.25;   /* 초기값 */\n",
    "\n",
    "   %do %while(&x < 2);\n",
    "      %put NOTE: x=&x;\n",
    "\n",
    "      /* x = x + 0.25 */\n",
    "      %let x = %sysevalf(&x + 0.25);\n",
    "   %end;\n",
    "%mend;\n",
    "\n",
    "%loopx\n",
    "\n",
    "\n",
    "```"
   ]
  },
  {
   "cell_type": "markdown",
   "id": "16b9f0a9-f1d8-4fc8-a0d5-6e60fcfd838c",
   "metadata": {},
   "source": [
    "## %put"
   ]
  },
  {
   "cell_type": "markdown",
   "id": "69a18803-4a15-4474-92f8-2ef0d634d683",
   "metadata": {},
   "source": [
    "- % put error:쓰고 log에 print 안 되게 한느 법"
   ]
  },
  {
   "cell_type": "markdown",
   "id": "e2020bf5-2742-4fed-9ef7-3e5c6c5020ed",
   "metadata": {},
   "source": [
    "```sas\n",
    "%macro name;\n",
    "    options nonotes;\n",
    "    %put error: this is error.\n",
    "%name;\n",
    "```"
   ]
  },
  {
   "cell_type": "markdown",
   "id": "24111581-65ab-4399-9e95-aa4539d63b34",
   "metadata": {},
   "source": [
    "- _USER_ 키워드는 사용자가 만든 모든 매크로 변수(전역 + 지역)를 로그에 보여줍니다."
   ]
  },
  {
   "cell_type": "markdown",
   "id": "15ed9124-ac46-4b1c-b46c-5501fd18dd0f",
   "metadata": {},
   "source": [
    "```sas\n",
    "%let global1=AAA;\n",
    "\n",
    "%macro demo;\n",
    "   %let local1=BBB;\n",
    "   %global global2;\n",
    "   %let global2=CCC;\n",
    "\n",
    "   %put ---- Inside macro ----;\n",
    "   %put _USER_;\n",
    "%mend;\n",
    "\n",
    "%demo\n",
    "\n",
    "%put ---- After macro ----;\n",
    "%put _USER_;\n",
    "```"
   ]
  },
  {
   "cell_type": "markdown",
   "id": "17b0e48e-ed43-4d45-b920-5dac1c61e8a6",
   "metadata": {},
   "source": [
    "- log 결과"
   ]
  },
  {
   "cell_type": "markdown",
   "id": "e0b9b39c-9272-4d97-93de-6f3eaa78c56c",
   "metadata": {},
   "source": [
    "```sas\n",
    "GLOBAL GLOBAL1 AAA\n",
    "GLOBAL GLOBAL2 CCC\n",
    "LOCAL  LOCAL1 BBB\n",
    "\n",
    "---- After macro ----\n",
    "GLOBAL GLOBAL1 AAA\n",
    "GLOBAL GLOBAL2 CCC\n",
    "```"
   ]
  },
  {
   "cell_type": "markdown",
   "id": "dfed1079-df5f-4ab4-bfad-98a42ad84851",
   "metadata": {},
   "source": [
    "- `%put _ALL_`; → 자동변수 + 사용자 변수 + 시스템 변수 전부 다\n",
    "- `%put _AUTOMATIC_`; → 자동으로 제공되는 시스템 매크로 변수만\n",
    "- `%put _GLOBAL_`; → 글로벌 변수만\n",
    "- `%put _LOCAL_`; → 매크로 실행 중일 때만 로컬 변수만"
   ]
  },
  {
   "cell_type": "markdown",
   "id": "9b091b90-fe65-412a-8fc4-7522b137dab3",
   "metadata": {},
   "source": [
    "```sas\n",
    "proc sql noprint;\n",
    "    select name\n",
    "    into :namelist separated by ','\n",
    "    into :n1 - :n5\n",
    "    into :avg_h, :avg_w\n",
    "    from sashelp.class\n",
    "    where sex='F';\n",
    "quit;\n",
    "```"
   ]
  },
  {
   "cell_type": "markdown",
   "id": "1c22468e-61fe-40da-8659-c71a98ac72e1",
   "metadata": {},
   "source": [
    "# Array"
   ]
  },
  {
   "cell_type": "markdown",
   "id": "12de18b8-c9c4-4a7a-b657-e12c0b7f29a9",
   "metadata": {},
   "source": [
    "- 이렇게 하면 7,8,9 이렇게 3개 가져옴"
   ]
  },
  {
   "cell_type": "markdown",
   "id": "28bae27d-9a29-4f98-b49b-d3759aac72c3",
   "metadata": {},
   "source": [
    "```sas\n",
    "array Farenht [7:9] Temp7-Temp9;\n",
    "array Celsius [7:9] TempC7-TempC9;\n",
    "```"
   ]
  },
  {
   "cell_type": "markdown",
   "id": "55e36d99-64a8-40c6-a377-a8549070f023",
   "metadata": {},
   "source": [
    "- 또는 이렇게 해서 한 번에 4개 나열"
   ]
  },
  {
   "cell_type": "markdown",
   "id": "99f0080d-a4fa-4510-b582-382e0b976116",
   "metadata": {},
   "source": [
    "```sas\n",
    "array Status[4] $ 5 StatusQ1-StatusQ4;\n",
    "```"
   ]
  },
  {
   "cell_type": "markdown",
   "id": "89f955dd-7abd-4464-b437-86abda442914",
   "metadata": {},
   "source": [
    "- 2행 3열로 나타남"
   ]
  },
  {
   "cell_type": "markdown",
   "id": "cd8ab5b8-ec81-49cc-80b8-8e40338b0c88",
   "metadata": {},
   "source": [
    "```sas\n",
    "array Avg [2013:2014,3] (40.9, 40.7, 38.6, 42.5, 42.6, 45.4): \n",
    "```"
   ]
  },
  {
   "cell_type": "markdown",
   "id": "3f1eedc3-c585-4937-b80f-785a53459290",
   "metadata": {},
   "source": [
    "- _N_ = 1일 때만 작동 → 즉, 한 번의 데이터 스텝 실행 중에 array_data의 두 줄 모두 처리함.\n",
    "- set array_data는 두 번 호출되며 각 줄을 Row=1, Row=2로 저장\n",
    "- 배열의 메모리 배치 순서: TwoD[1,1] → TwoD[1,2] → TwoD[1,3] → TwoD[2,1] → TwoD[2,2] → TwoD[2,3]\n",
    "\n",
    "Row=1 → OneD = Jack, Mary, Sally\n",
    "- TwoD[1,1] = Jack\n",
    "- TwoD[1,2] = Mary\n",
    "- TwoD[1,3] = Sally\n",
    "\n",
    "Row=2 → OneD = Christy, John, Marty\n",
    "- TwoD[2,1] = Christy\n",
    "- TwoD[2,2] = John\n",
    "- TwoD[2,3] = Marty"
   ]
  },
  {
   "cell_type": "markdown",
   "id": "1727bd23-a620-42cd-92a3-b0db2a5b9004",
   "metadata": {},
   "source": [
    "```sas\n",
    "data new_data(drop=Row Column);\n",
    "  array TwoD[2,3] $;           /* 2행 3열 문자형 배열 선언 */\n",
    "  retain TwoD1-TwoD6;          /* 배열 값을 유지 */\n",
    "  \n",
    "  if _N_ = 1 then do Row = 1 to 2;   /* 최초 실행 시 2개의 행 처리 */\n",
    "    set array_data;                 /* 한 줄씩 읽음 */\n",
    "    \n",
    "    array OneD[3] Name1-Name3;      /* Name1~Name3을 1차원 배열로 묶음 */\n",
    "    \n",
    "    do Column = 1 to 3;\n",
    "      TwoD[Row, Column] = OneD[Column];   /* 값을 2차원 배열에 저장 */\n",
    "    end;\n",
    "  end;\n",
    "run;\n",
    "```"
   ]
  },
  {
   "cell_type": "markdown",
   "id": "2749fada-de4d-4ffa-b3d5-da9933e8dbd7",
   "metadata": {},
   "source": []
  },
  {
   "cell_type": "markdown",
   "id": "11475c3e-d411-43d1-bd2a-9390781edf48",
   "metadata": {},
   "source": [
    "# Hash object"
   ]
  },
  {
   "cell_type": "markdown",
   "id": "5ee2dcf6-0f18-413f-a7d5-a70d292dd9e0",
   "metadata": {},
   "source": [
    "hash 데이터셋 output하는 법"
   ]
  },
  {
   "cell_type": "markdown",
   "id": "41349b4a-77a9-4d39-8a8d-ca42ab2e43c9",
   "metadata": {},
   "source": [
    "```sas\n",
    "data example1;\n",
    "    if _n_=1 then do;\n",
    "        declare hash h(dataset:\"sashelp.class\");\n",
    "        h.defineKey(\"name\");             /* 키 */\n",
    "        h.defineData(\"age\",\"height\",\"weight\"); /* 데이터 */\n",
    "        h.defineDone();\n",
    "    end;\n",
    "    set sashelp.class(keep=name);        /* 왼쪽 데이터 */\n",
    "    rc = h.find();                       /* 키로 찾기 */\n",
    "    if rc=0 then output;                 /* 매칭된 경우 출력 */\n",
    "    drop rc;\n",
    "run;\n",
    "```"
   ]
  },
  {
   "cell_type": "code",
   "execution_count": null,
   "id": "7e9cc17d-8bed-4c9c-90b4-a2a10f1fbef3",
   "metadata": {},
   "outputs": [],
   "source": [
    "Array, Hash Object, PROC FCMP\n",
    "hash a에서  dataset하고 output 두 가지 방법\n",
    "join하면서 열 추가하는법\n",
    "\n",
    "do while do until\n",
    "mprint mlogic\n",
    "join\n",
    "do \n"
   ]
  },
  {
   "cell_type": "code",
   "execution_count": null,
   "id": "2edf8111-cdca-4898-8815-6a375a88ca6e",
   "metadata": {},
   "outputs": [],
   "source": [
    "패턴\t설명\n",
    ".\t아무 문자 하나\n",
    "\\d\t숫자 (digit)\n",
    "\\w\t알파벳/숫자/언더스코어\n",
    "\\s\t공백 문자\n",
    "^\t문자열의 시작\n",
    "$\t문자열의 끝\n",
    "+\t1개 이상 반복\n",
    "*\t0개 이상 반복\n",
    "?\t0개 또는 1개\n",
    "[abc]\ta, b, 또는 c 중 하나\n",
    "[^abc]\ta, b, c 이외의 문자\n",
    "(abc)\t그룹\n"
   ]
  },
  {
   "cell_type": "markdown",
   "id": "ae687982-0e26-48ca-a6ee-dc4c9c9130b2",
   "metadata": {},
   "source": [
    "prsparse\n",
    "prxmatch\n",
    "prxchange\n",
    "prxsubstr\n",
    "prxnext\n",
    "callprxdebug(1)-> 로그에 표현할것인지"
   ]
  },
  {
   "cell_type": "code",
   "execution_count": null,
   "id": "554f04b7-0870-4bd7-ab45-d0e15faeeaee",
   "metadata": {},
   "outputs": [],
   "source": [
    "\n",
    "\n",
    "subquery 사용법\n",
    "\n",
    "group by 사용 하고 안 하고의 차이\n",
    "%macro avgfuel(loc) / minoperator;\n",
    "%else %if &loc in ASIA EUROPE %then %do;\n",
    "minoperator는 in을 쓸 수 있게 해줌\n",
    "매크로 지우는 코드\n",
    "%symdel &vars;\n",
    "%put vs putlog\n",
    "￼\n",
    "lag1, lag2 있는 데이터 두 번 돌리면 아래처럼 이상하게 나타남(원래 데이터 10 20 30 40)\n",
    "큐를 초기화하거나 lag 대신 retain+by 등으로 대체 고려\\\n",
    "￼\n",
    "count(txt, 'apple'); -> cnt = 2\n",
    "txt = 'apple pie and pineapple';\n",
    "  cnt = countw(txt); -> cnt = 4\n",
    " str = \"catalog\";\n",
    "  pos = find(str, \"cat\");  /* 결과: 1 */\n",
    "pos = findw(str, \"cat\");  /* 결과: 0 */\n",
    "\n",
    "\n",
    "\n",
    "\n",
    "\n",
    "object-name.definekey ()\n",
    "object-name.definedata ()\n",
    "object-name.definedone ()\n",
    "\n",
    "object-name.find() 찾으면 > 0\n",
    "object-name.add ()\n",
    "object-name.output ()\n",
    "기본\n",
    "length StateName $ 20 Capital $ 14 StatePop2017 8;\n",
    "if _N_ = 1 then do;\n",
    "declare hash States (dataset: 'pg3.population_usstates') population_usstates');\n",
    "States .definekey ('StateName');\n",
    "States definedata ('Capital', 'StatePop2017') ;\n",
    "States. definedone () ;\n",
    "call missing (StateName, Capital, StatePop2017) ;(이전 데이터나 값이 변수에 남아있지 않게 되고 해시 조회 실패 시에도 오염된 값이 남지 않으며 예측 가능한 결과를 보장합니다.)\n",
    "end;\n",
    "\n",
    "data work.StateCityPopulation; \n",
    "if _N_=1 then do; \n",
    "if 0 then set pg3.population.usstates; \n",
    "declare hash States(dataset:'pg3.population_usstates'); \n",
    "States.definekey('StateName'); \n",
    "States.definedata('Capital', 'StatePop2017'); \n",
    "States.definedone(); \n",
    "end; \n",
    "set pg3.population uscities; \n",
    "StateName=stnamel(StateCode): \n",
    "RC=States. find(key:StateName); (해시 객체 States에서 주 이름(StateName)을 키로 검색해서 해당 Capital과 StatePop2017 값을 찾아서 자동으로 변수에 바인딩합니다 성공 시 RC = 0)\n",
    "if RC ne 0 then call missing(Capital, StatePop2017);(해시에서 값을 찾지 못했을 경우, Capital과 StatePop2017 값을 명시적으로 결측 처리합니다.)\n",
    "PctPop«CityPop2017/StatePop2017; \n",
    "format StatePop2017 comma14. PctPop percent8.1; \n",
    "(해당하는 거만 데이터셋 만들어지게 하려면) ",
    "if RC = 0 then do;  /* 🔍 lookup 성공한 경우에만 */\n",
    "    PctPop = CityPop2017 / StatePop2017;\n",
    "    format StatePop2017 comma14. PctPop percent8.1;\n",
    "    output;           /* ✅ 해당 행만 데이터셋에 저장 */\n",
    "  end;\n",
    "()\n",
    "run;\n",
    "\n",
    "\n",
    "\n",
    "%A\tWeekday name (full)\tWednesday\n",
    "%a\tWeekday name (first three letters)\tWed\n",
    "%d\tDay of month (one or two digits)\t2\n",
    "%0d\tDay of month (two digits)\t02\n",
    "%B\tMonth name (full)\tJanuary\n",
    "%3B\tMonth name (first three letters)\tJan\n",
    "%m\tMonth number (one or two digits)\t1\n",
    "%0m\tMonth number (two digits)\t01\n",
    "%Y\tYear (four digits)\t2019\n",
    "%Oy\tYear (two digits)\t19\n",
    "\n",
    "응H or 응OH\tHour, 24-hour clock (one or two digits)\t21\n",
    "응I or 응OI\tHour, 12-hour clock (one or two digits)\t9 or 09\n",
    "%M or % OM\tMinute (one or two digits)\t13\n",
    "%S or %OS\tSecond (one or two digits)\t5 or 05\n",
    "%p\tAM or PM\tPM\n",
    "\n",
    "format 기본\n",
    "proc format;\n",
    "picture MyDate (default=15)\n",
    "low-high = '%a-%d-%3B-¿y'\n",
    "(datatype=date) ;\n",
    "picture MyTime (default=14)\n",
    "low-high\n",
    "'H:%OH M:%OM S:%OS'\n",
    "(datatype=time) ;\n",
    "run;\n",
    "\n",
    "\n",
    "PROC FCMP OUTLIB=libref.table.package;\n",
    "FUNCTION function-name(arguments) <$> <length>;\n",
    "...programming statements...\n",
    "RETURN(expression);\n",
    "ENDSUB;\n",
    "RUN;\n",
    "\n",
    "proc fcmp outlib-pg3. funcs.weather;\n",
    "function FtoC (TempF) ;\n",
    "TempC=round ( (TempF-32) *5/9,.01) ;\n",
    "return (TempC) ;\n",
    "endsub;\n",
    "run;\n",
    "function불러와야 쓸 수 있음\n",
    "options cmplib=pg3.funcs;"
   ]
  }
 ],
 "metadata": {
  "kernelspec": {
   "display_name": "Python 3",
   "language": "python",
   "name": "python3"
  },
  "language_info": {
   "codemirror_mode": {
    "name": "ipython",
    "version": 3
   },
   "file_extension": ".py",
   "mimetype": "text/x-python",
   "name": "python",
   "nbconvert_exporter": "python",
   "pygments_lexer": "ipython3",
   "version": "3.8.0"
  }
 },
 "nbformat": 4,
 "nbformat_minor": 5
}
