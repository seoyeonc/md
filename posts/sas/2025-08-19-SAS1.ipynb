{
 "cells": [
  {
   "cell_type": "raw",
   "id": "0e0d3387-3f77-4867-a20a-5c6ed0a9769c",
   "metadata": {
    "id": "cac470df-29e7-4148-9bbd-d8b9a32fa570",
    "tags": []
   },
   "source": [
    "---\n",
    "title: \"SAS Advanced Certificate\"\n",
    "author: \"SEOYEON CHOI\"\n",
    "date: \"2025-08-19\"\n",
    "---"
   ]
  },
  {
   "cell_type": "markdown",
   "id": "925ae660-0d53-423c-a856-fba5c645b671",
   "metadata": {},
   "source": [
    "# Website"
   ]
  },
  {
   "cell_type": "markdown",
   "id": "9bf5cd97-012e-48ee-9619-e2d47f0624fb",
   "metadata": {},
   "source": [
    "- [SAS® OnlineTutor 9.1: Advanced Programming](https://sas.1or9.com/fru3oq9fam/59267/paths.htm)\n",
    "- [SAS practice exam](https://www.sas.com/ko_kr/certification/resources/sas-practice-exams.html)\n",
    "- [논문 사이트](https://www.lexjansen.com/cgi-bin/saspapers_query.php)\n",
    "- [Practice exam](https://www.itexams.com/info/A00-212)"
   ]
  },
  {
   "cell_type": "markdown",
   "id": "9eae0aaa-1f42-47ba-ad6c-0da68b0963d2",
   "metadata": {},
   "source": [
    "# 시험 기본"
   ]
  },
  {
   "cell_type": "markdown",
   "id": "e0388946-5201-4755-ab1b-f4af20c8cd7b",
   "metadata": {},
   "source": [
    "## 시험 구조"
   ]
  },
  {
   "cell_type": "markdown",
   "id": "9a7f707e-067c-4e04-9ea0-51489b1ea590",
   "metadata": {},
   "source": [
    "Performance Based Exam (즉, 문제는 이론 + 코드 기반 실습)\n",
    "\n",
    "출제 영역\n",
    "- SQL (35%)\n",
    "- Macro (35%)\n",
    "- Advanced Techniques (30%)"
   ]
  },
  {
   "cell_type": "markdown",
   "id": "b2235515-e1a4-43e7-bf3d-7f874380e15f",
   "metadata": {},
   "source": [
    "### 1. Accessing Data Using SQL (35%)"
   ]
  },
  {
   "cell_type": "markdown",
   "id": "1d17ec04-ee29-46b9-a389-63834560026d",
   "metadata": {},
   "source": [
    "- 기본 SELECT: SELECT, FROM, WHERE, ORDER BY\n",
    "- 새 변수 생성: AS, 계산열, CASE WHEN\n",
    "- 조인: INNER, LEFT, RIGHT, FULL (COALESCE 함수 포함)\n",
    "- Set operators: UNION, OUTER UNION, EXCEPT, INTERSECT\n",
    "- 집계: AVG, COUNT, MAX, MIN, SUM, GROUP BY, HAVING\n",
    "- 중복 제거: DISTINCT\n",
    "- 서브쿼리, 인라인 뷰 활용\n",
    "- SAS 확장 기능:\n",
    "    - Dataset options (KEEP=, DROP=, RENAME=, OBS=)\n",
    "    - Invocation options (INOBS=, OUTOBS=, NOPRINT, NUMBER)\n",
    "    - Functions (SCAN, SUBSTR, LENGTH)\n",
    "    - Dictionary tables (DICTIONARY.COLUMNS 등)\n",
    "    - CALCULATED 키워드"
   ]
  },
  {
   "cell_type": "markdown",
   "id": "83ecad23-3756-4afa-a09c-c9216b7a2985",
   "metadata": {},
   "source": [
    "### 2. Macro Processing (35%)"
   ]
  },
  {
   "cell_type": "markdown",
   "id": "6e4b6b6c-4b39-476c-b558-47b039e4c622",
   "metadata": {},
   "source": [
    "매크로 변수\n",
    "- 생성: %LET, INTO:, CALL SYMPUTX\n",
    "- Scope 제어: %GLOBAL, %LOCAL, SYMPUTX 옵션\n",
    "- 이름 구분자(.) 활용\n",
    "- 매크로 프로그램\n",
    "- 정의/호출: %MACRO … %MEND\n",
    "\n",
    "파라미터 유무 호출\n",
    "- 조건문: %IF-%THEN-%ELSE\n",
    "- 반복문: %DO-%END\n",
    "- AUTOCALL facility (재사용 가능한 매크로 저장/호출)\n",
    "\n",
    "매크로 함수\n",
    "- 기본: %SCAN, %SUBSTR, %UPCASE\n",
    "- Quoting: %STR, %NRSTR\n",
    "- Evaluation: %SYSEVALF\n",
    "- %SYSFUNC → DATA step 함수 호출\n",
    "\n",
    "디버깅\n",
    "- MLOGIC, MPRINT, SYMBOLGEN\n",
    "- %PUT 로그 확인\n",
    "\n",
    "데이터 기반 매크로\n",
    "- && 간접 참조\n",
    "\n",
    "Dictionary table 기반 매크로\n",
    "- 반복적 매크로 호출 생성"
   ]
  },
  {
   "cell_type": "markdown",
   "id": "0d3f03a2-08fd-418c-8b43-2670927b7d2d",
   "metadata": {},
   "source": [
    "### 3. Advanced Techniques (30%)"
   ]
  },
  {
   "cell_type": "markdown",
   "id": "51f25a60-5a00-4b98-9027-b9c23ad58f9b",
   "metadata": {
    "tags": []
   },
   "source": [
    "배열 (Array)\n",
    "- 문자형/숫자형 배열\n",
    "- DIM 함수\n",
    "- Temporary array\n",
    "- Dataset 값으로 초기화\n",
    "\n",
    "Hash Object\n",
    "- 선언: DECLARE HASH, DECLARE HITER\n",
    "- 주요 메서드: DEFINEKEY, DEFINEDATA, DEFINEDONE, FIND, ADD, OUTPUT\n",
    "- Iterator: FIRST, NEXT, LAST, PREV\n",
    "- 활용: Lookup table, 정렬, 순회\n",
    "\n",
    "Utility Procedures\n",
    "- PROC FORMAT – PICTURE 문 (숫자/날짜 포맷 정의, 옵션: round, default, prefix 등)\n",
    "- PROC FCMP – 사용자 정의 함수 (단일/다중 인자, 조건문 처리, CMPLIB= 옵션으로 호출)\n",
    "\n",
    "고급 함수\n",
    "- FINDC, FINDW, COUNT, COUNTC, COUNTW\n",
    "- LAG\n",
    "- Regex 함수 (PRX)\n",
    "- 메타문자: () [] {} * + ? . | ^ $ \\d \\D \\s \\S \\w \\W\n",
    "- 함수: PRXMATCH, PRXPARSE, PRXCHANGE"
   ]
  },
  {
   "cell_type": "markdown",
   "id": "75a48f57-47bb-4d27-8063-cc66a48ed9de",
   "metadata": {},
   "source": [
    "# 공식 문제"
   ]
  },
  {
   "cell_type": "markdown",
   "id": "a846fbdd-1610-4767-aa31-2822b0c7b7a3",
   "metadata": {},
   "source": [
    "## Question 1"
   ]
  },
  {
   "cell_type": "markdown",
   "id": "d0d7b90a-ba0f-4d2d-b91e-aa998253ab20",
   "metadata": {},
   "source": [
    "> array"
   ]
  },
  {
   "cell_type": "markdown",
   "id": "aff1d82f-a81b-4703-9323-44656b45bb46",
   "metadata": {},
   "source": [
    "Open a new programming window to create ACT01.sas in c:\\cert\\programs. \n",
    "\n",
    "Write a SAS program that will: \n",
    "- Create output data set work.ACT01 using sashelp.pricedata as input. \n",
    "- Use an array to increase the values of the price1 through price17 variables by 10%. \n",
    "\n",
    "Run your program and troubleshoot as necessary. When you are finished with the project: \n",
    "1. Ensure that you have saved your program as ACT01.sas in c:\\cert\\programs. \n",
    "2. From the score.sas program, call the scoreit macro using ACT01 as the parameter: %scoreit(ACT01). \n",
    "\n",
    "What is the value for Response in the SAS log? ___ \n",
    "\n",
    "Correct Solution: All price values for all price1-through price17 will be increased by 10%. For example, price2 in observation 5 will now be 126.50. Arrays and do loops would be used in the program. "
   ]
  },
  {
   "cell_type": "markdown",
   "id": "f80b2704-8c38-46d0-9888-015ed3abc196",
   "metadata": {},
   "source": [
    "```sas\n",
    "\n",
    "data work.atc01; \n",
    "set sashelp.pricedata; \n",
    "\n",
    "    array prices {*} price1-price17; \n",
    "    do i = 1 to dim(prices); \n",
    "    prices[i] = prices[i] * 1.10; \n",
    "\n",
    "    end; \n",
    "drop i; \n",
    "run;\n",
    "\n",
    "```"
   ]
  },
  {
   "cell_type": "markdown",
   "id": "a3cda1d3-6b82-4203-977f-f32205fce709",
   "metadata": {},
   "source": [
    "## Question 2"
   ]
  },
  {
   "cell_type": "markdown",
   "id": "94e8803a-8abd-47bc-9338-7506e135dfa1",
   "metadata": {},
   "source": [
    "> symputx"
   ]
  },
  {
   "cell_type": "markdown",
   "id": "edef1973-82fa-4ade-aac2-fa1de8c99cbd",
   "metadata": {},
   "source": [
    "Open a new programming window to create MAC01.sas in c:\\cert\\programs. \n",
    "\n",
    "Write a DATA step that reads only the first observation of the sashelp.cars data set and stores the value of the Make variable in a macro variable named CarMaker. \n",
    "\n",
    "The macro variable must be defined from within the DATA Step. \n",
    "\n",
    "Run your program and troubleshoot as necessary. \n",
    "\n",
    "When you are finished with the project: \n",
    "1. Ensure that you have saved your program as MAC01.sas in c:\\cert\\programs. \n",
    "2. From the score.sas program, call the scoreit macro using MAC01 as the parameter: %scoreit(MAC01). \n",
    "\n",
    "What is the value for Response in the SAS log? __ \n",
    "\n",
    "Correct Solution: The CarMaker macro variable will have a value of Acura. \n",
    "\n",
    "The program will include a symputx routine."
   ]
  },
  {
   "cell_type": "markdown",
   "id": "be18f993-ab8e-44fd-8add-13dbb883c87a",
   "metadata": {},
   "source": [
    "```sas\n",
    "\n",
    "data _null_; \n",
    "set sashelp.cars; \n",
    "    \n",
    "    if _n_ = 1 then call symputx('Carmaker'.Make); \n",
    "    \n",
    "run;\n",
    "\n",
    "```"
   ]
  },
  {
   "cell_type": "markdown",
   "id": "468fdf89-cb41-4add-a6ed-3dad50c42b51",
   "metadata": {},
   "source": [
    "## Question 3"
   ]
  },
  {
   "cell_type": "markdown",
   "id": "0295516d-1437-4b87-8326-92c515caf1cf",
   "metadata": {},
   "source": [
    "> proc sql, mean(), group by"
   ]
  },
  {
   "cell_type": "markdown",
   "id": "41a0f058-b3e5-45a1-bba5-4bf4a07cf586",
   "metadata": {},
   "source": [
    "Open a new programming window to create SQL01.sas in c:\\cert\\programs. \n",
    "\n",
    "Write an SQL query that will: \n",
    "- Create output data set work.SQL01 using sashelp.cars as input. \n",
    "- Compute the average MPG_City for each group of Make. \n",
    "\n",
    "Name the calculated variable AvgCityMPG. \n",
    "- The output data should have 2 columns, Make and AvgCityMPG. \n",
    "\n",
    "Run your program and troubleshoot as necessary. \n",
    "\n",
    "When you are finished with the project: \n",
    "1. Ensure that you have saved your program as SQL01.sas in c:\\cert\\programs. \n",
    "2. From the score.sas program, call the scoreit macro using SQL01 as the parameter: %scoreit(SQL01). \n",
    "\n",
    "What is the value for Response in the SAS log? __ \n",
    "\n",
    "Correct Solution: An SQL query with a group by clause will be written. \n",
    "\n",
    "The AvgCityMPG for MAKE=MINI will be 26.5. "
   ]
  },
  {
   "cell_type": "markdown",
   "id": "73efe862-4553-4b6f-a850-4aad7fc9f038",
   "metadata": {},
   "source": [
    "```sas\n",
    "\n",
    "proc sql; \n",
    "    create table work.SQL01 as \n",
    "    select Make, mean(MPG_City) as AvgCityMPG \n",
    "    from sashelp.cars \n",
    "    group by Make; \n",
    "quit;\n",
    "\n",
    "```"
   ]
  },
  {
   "cell_type": "markdown",
   "id": "85368692-8635-43dc-9311-7791bffd9dd3",
   "metadata": {
    "toc-hr-collapsed": true
   },
   "source": [
    "# Proc sql"
   ]
  },
  {
   "cell_type": "markdown",
   "id": "55be66f3-dbc8-44e1-abeb-737c701b3c39",
   "metadata": {},
   "source": [
    "## 기본 SELECT: SELECT, FROM, WHERE, ORDER BY"
   ]
  },
  {
   "cell_type": "markdown",
   "id": "2b876b23-82db-48ee-adf2-9858679dba2b",
   "metadata": {},
   "source": [
    "```sas\n",
    "proc sql;\n",
    "   select id, \n",
    "          name, \n",
    "          salary * 12 as Annual_Salary\n",
    "   from employees\n",
    "   where department = 'HR' and salary > 40000\n",
    "   order by Annual_Salary desc;\n",
    "quit;\n",
    "```"
   ]
  },
  {
   "cell_type": "markdown",
   "id": "3f1fe1a8-aa2b-4256-8ecc-e4f3a50bfc78",
   "metadata": {},
   "source": [
    "-> id, name, Annual_Salary만 출력, employees 테이블에서 HR 부서 & 급여 > 40000인 직원만 뽑음, 연봉 높은 사람 순으로 정렬, "
   ]
  },
  {
   "cell_type": "markdown",
   "id": "4eff9e8c-3446-48de-8f3f-118eeefcc82b",
   "metadata": {},
   "source": [
    "- `FROM employees`→ employees 테이블에서 데이터를 불러옴.\n",
    "- `SELECT id, name salary * 12 as Annual_Salary`→ 계산 열(연봉) 생성, AS로 새 이름 부여\n",
    "- `WHERE department = 'HR' and salary > 40000`→ 부서가 HR이고, 월급이 40,000 초과인 직원만 필터링.\n",
    "- `ORDER BY Annual_Salary desc` → 연봉(Annual_Salary) 기준 내림차순 정렬."
   ]
  },
  {
   "cell_type": "markdown",
   "id": "b6dfed25-3ed7-4836-8d17-30430695bff7",
   "metadata": {},
   "source": [
    "## 새 변수 생성: AS, 계산열, CASE WHEN"
   ]
  },
  {
   "cell_type": "markdown",
   "id": "fdcaf541-8e5a-49c6-a31e-97fe3fb3bbe8",
   "metadata": {},
   "source": [
    "1. AS (Alias, 별칭); 새 변수를 만들거나, 기존 변수에 별칭(alias)을 부여할 때 사용."
   ]
  },
  {
   "cell_type": "markdown",
   "id": "39d733f1-4cad-48d7-a8ba-05db5f906c4c",
   "metadata": {
    "tags": []
   },
   "source": [
    "- AS 키워드는 출력 시 컬럼명 변경 + 새 변수 생성 역할."
   ]
  },
  {
   "cell_type": "markdown",
   "id": "5d0ecd0e-c5a3-4375-9159-640e200c082f",
   "metadata": {},
   "source": [
    "```sas\n",
    "proc sql;\n",
    "   select id,\n",
    "          salary * 12 as Annual_Salary\n",
    "   from employees;\n",
    "quit;\n",
    "```"
   ]
  },
  {
   "cell_type": "markdown",
   "id": "85f13ae7-9b8b-4171-b100-11a535a9f757",
   "metadata": {},
   "source": [
    "-> salary * 12 계산 열을 만들고, 새 변수 이름은 Annual_Salary."
   ]
  },
  {
   "cell_type": "markdown",
   "id": "ffe49955-9493-4653-9c76-4217bcf39355",
   "metadata": {},
   "source": [
    "2. 계산 열 (Computed Column); 기존 컬럼을 이용해 계산된 새로운 컬럼을 만듦."
   ]
  },
  {
   "cell_type": "markdown",
   "id": "5ecdabeb-994d-46f8-9275-4ccfe39cdf76",
   "metadata": {},
   "source": [
    "- AS와 함께 쓰임."
   ]
  },
  {
   "cell_type": "markdown",
   "id": "4a34435f-c3e6-4234-a83e-8f338523a30f",
   "metadata": {},
   "source": [
    "```sas\n",
    "proc sql;\n",
    "   select id,\n",
    "          weight / (height*height) as BMI\n",
    "   from health;\n",
    "quit;\n",
    "```"
   ]
  },
  {
   "cell_type": "markdown",
   "id": "b6b2a579-c5aa-4728-8e81-1156c8324eab",
   "metadata": {},
   "source": [
    "-> weight와 height를 활용해서 BMI라는 계산 열 생성."
   ]
  },
  {
   "cell_type": "markdown",
   "id": "c433b9bc-6de2-44a2-bcf3-3f097689abf2",
   "metadata": {},
   "source": [
    "`-` 특징\n",
    "- SELECT 문에서만 존재 (원본 데이터셋에는 추가되지 않음).\n",
    "- 다른 계산열에 재사용 가능 (단, 순서상 앞에서 정의한 계산 열은 뒤에서 사용 가능)."
   ]
  },
  {
   "cell_type": "markdown",
   "id": "b28c07bf-cc6f-45f9-9609-6b6a8a53d20d",
   "metadata": {},
   "source": [
    "```sas\n",
    "proc sql;\n",
    "   select id,\n",
    "          salary * 12 as Annual_Salary,\n",
    "          calculated Annual_Salary * 0.1 as Tax\n",
    "   from employees;\n",
    "quit;\n",
    "```"
   ]
  },
  {
   "cell_type": "markdown",
   "id": "c6ecc3c8-0c41-4987-b3c5-f8580ccada62",
   "metadata": {},
   "source": [
    "-> CALCULATED 키워드: 이미 SELECT 안에서 만든 계산 열 재사용."
   ]
  },
  {
   "cell_type": "markdown",
   "id": "9bd46032-98dd-46c1-8a34-82d165128b35",
   "metadata": {},
   "source": [
    "3. CASE WHEN; 조건문을 사용하여 새로운 변수를 생성."
   ]
  },
  {
   "cell_type": "markdown",
   "id": "1aa99c5c-69c9-48d9-a5c2-7598ad46300b",
   "metadata": {},
   "source": [
    "- IF THEN ELSE와 비슷한 역할을 SQL에서 수행."
   ]
  },
  {
   "cell_type": "markdown",
   "id": "c7745927-8efe-418f-a05f-ff4abbdccbe0",
   "metadata": {},
   "source": [
    "```sas\n",
    "proc sql;\n",
    "   select id,\n",
    "          case \n",
    "             when score >= 90 then 'A'\n",
    "             when score >= 80 then 'B'\n",
    "             when score >= 70 then 'C'\n",
    "             else 'F'\n",
    "          end as Grade\n",
    "   from exam;\n",
    "quit;\n",
    "```"
   ]
  },
  {
   "cell_type": "markdown",
   "id": "00776f8c-fb40-4fa2-9c28-4b53b9a5d132",
   "metadata": {},
   "source": [
    "-> 점수를 등급으로 변환하여 새 변수 Grade 생성."
   ]
  },
  {
   "cell_type": "markdown",
   "id": "21bc0727-56b2-4eab-bae6-e8a85b14ba80",
   "metadata": {},
   "source": [
    "`-` 특징:\n",
    "- END로 닫아야 함.\n",
    "- 반드시 AS 새변수명으로 이름 부여.\n",
    "- 문자형/숫자형 혼합 불가 (모두 같은 타입이어야 함)."
   ]
  },
  {
   "cell_type": "markdown",
   "id": "e39f50fd-d11e-4cb6-a12e-a8b28d2c12b7",
   "metadata": {},
   "source": [
    "## 조인: INNER, LEFT, RIGHT, FULL (COALESCE 함수 포함)"
   ]
  },
  {
   "cell_type": "markdown",
   "id": "30a9f1d3-0b02-4b69-aac7-f3373858eefd",
   "metadata": {},
   "source": [
    "1. INNER JOIN; 두 테이블에 모두 존재하는 공통 키 값만 결과에 포함."
   ]
  },
  {
   "cell_type": "markdown",
   "id": "6e711e70-9b16-4ca0-9ef6-eb03e33a1254",
   "metadata": {},
   "source": [
    "- 매칭되지 않는 행은 제외됨."
   ]
  },
  {
   "cell_type": "markdown",
   "id": "c067c4ab-8f66-4814-a232-dc2e69e1bc46",
   "metadata": {},
   "source": [
    "```sas\n",
    "proc sql;\n",
    "   select a.id, a.name, b.score\n",
    "   from tableA as a\n",
    "        inner join tableB as b\n",
    "        on a.id = b.id;\n",
    "quit;\n",
    "```"
   ]
  },
  {
   "cell_type": "markdown",
   "id": "ce75ba19-ab7d-406a-9fc8-73512881b919",
   "metadata": {},
   "source": [
    "-> tableA와 tableB에 동시에 존재하는 id 값만 결과에 출력됨."
   ]
  },
  {
   "cell_type": "markdown",
   "id": "d8d66cbf-a507-4304-86ec-8b36d698fca5",
   "metadata": {},
   "source": [
    "2. LEFT JOIN; 왼쪽 테이블(A)의 모든 행을 결과에 포함."
   ]
  },
  {
   "cell_type": "markdown",
   "id": "a3c2867c-2db6-4fd2-b90d-8d87ecb08288",
   "metadata": {},
   "source": [
    "- 오른쪽 테이블(B)에 매칭되는 값이 없으면 NULL로 표시."
   ]
  },
  {
   "cell_type": "markdown",
   "id": "7aa059fc-d241-4a87-a7e0-3184dcc7d162",
   "metadata": {},
   "source": [
    "```sas\n",
    "proc sql;\n",
    "   select a.id, a.name, b.score\n",
    "   from tableA as a\n",
    "        left join tableB as b\n",
    "        on a.id = b.id;\n",
    "quit;\n",
    "```"
   ]
  },
  {
   "cell_type": "markdown",
   "id": "58b9d844-10e5-4e1e-9e8c-bf70d2eab417",
   "metadata": {},
   "source": [
    "-> tableA의 모든 id가 나오고, 매칭 안 되는 경우 score는 NULL."
   ]
  },
  {
   "cell_type": "markdown",
   "id": "f5f11aeb-bc84-4e7a-ac5e-cf381da2f07c",
   "metadata": {},
   "source": [
    "3. RIGHT JOIN; 오른쪽 테이블(B)의 모든 행을 결과에 포함."
   ]
  },
  {
   "cell_type": "markdown",
   "id": "4122d0b9-c792-4c82-9b50-331e97d48e13",
   "metadata": {},
   "source": [
    "- 왼쪽(A)에 매칭되는 값이 없으면 NULL."
   ]
  },
  {
   "cell_type": "markdown",
   "id": "94101bbb-e2b5-4899-9ef9-fbf74636122e",
   "metadata": {},
   "source": [
    "```sas\n",
    "proc sql;\n",
    "   select a.id, a.name, b.score\n",
    "   from tableA as a\n",
    "        right join tableB as b\n",
    "        on a.id = b.id;\n",
    "quit;\n",
    "```"
   ]
  },
  {
   "cell_type": "markdown",
   "id": "eb25835c-5c87-4499-a193-534ed1f1770d",
   "metadata": {},
   "source": [
    "-> tableB의 모든 id가 나오고, 매칭 안 되는 경우 name은 NULL."
   ]
  },
  {
   "cell_type": "markdown",
   "id": "e724bec9-5971-4a58-b701-fba5b80d0dcc",
   "metadata": {},
   "source": [
    "4. FULL JOIN; 두 테이블(A, B) 모두의 모든 행을 결과에 포함."
   ]
  },
  {
   "cell_type": "markdown",
   "id": "1e540f75-5847-454b-a680-4f1f7d253a8f",
   "metadata": {},
   "source": [
    "- 매칭이 없는 경우 NULL 값 채워짐."
   ]
  },
  {
   "cell_type": "markdown",
   "id": "699f97d0-bf98-4d62-b3b1-c968121e0560",
   "metadata": {},
   "source": [
    "```sas\n",
    "proc sql;\n",
    "   select a.id, a.name, b.score\n",
    "   from tableA as a\n",
    "        full join tableB as b\n",
    "        on a.id = b.id;\n",
    "quit;\n",
    "```"
   ]
  },
  {
   "cell_type": "markdown",
   "id": "5e5d43fc-6a09-499d-9a66-d6d455b5ec57",
   "metadata": {},
   "source": [
    "-> tableA와 tableB의 전체 id가 포함되며, 없는 부분은 NULL."
   ]
  },
  {
   "cell_type": "markdown",
   "id": "d2692311-ab03-4e6d-a1b0-2ab09266dcdb",
   "metadata": {},
   "source": [
    "5. COALESCE 함수; NULL 값을 처리하기 위해 사용. 여러 인수 중 처음으로 NULL이 아닌 값을 반환."
   ]
  },
  {
   "cell_type": "markdown",
   "id": "cec6c32a-dda1-4bce-9248-15de94b9b292",
   "metadata": {},
   "source": [
    "- FULL JOIN 시 특히 자주 사용됨."
   ]
  },
  {
   "cell_type": "markdown",
   "id": "b5083f78-94ca-43ad-95cf-6591763ac387",
   "metadata": {},
   "source": [
    "```sas\n",
    "proc sql;\n",
    "   select coalesce(a.id, b.id) as id,\n",
    "          a.name,\n",
    "          b.score\n",
    "   from tableA as a\n",
    "        full join tableB as b\n",
    "        on a.id = b.id;\n",
    "quit;\n",
    "```"
   ]
  },
  {
   "cell_type": "markdown",
   "id": "8977ca31-d487-4195-a52b-689f4d1ced99",
   "metadata": {},
   "source": [
    "-> a.id가 없으면 b.id를 대신 사용. 즉, 두 테이블을 FULL JOIN 할 때 키를 깔끔하게 하나로 합칠 수 있음."
   ]
  },
  {
   "cell_type": "markdown",
   "id": "ab65a98d-d6cc-44ab-b175-aa98de178ee3",
   "metadata": {},
   "source": [
    "## Set operators: UNION, OUTER UNION, EXCEPT, INTERSECT"
   ]
  },
  {
   "cell_type": "markdown",
   "id": "29456065-46e4-4285-86a7-3f97875c990f",
   "metadata": {},
   "source": [
    "| 연산자                | 중복 처리   | 컬럼 매칭   | 특징 |\n",
    "|-----------------------|-------------|-------------|------|\n",
    "| **UNION**             | 중복 제거   | 위치 기반   | 두 SELECT 결과 합침 (DISTINCT 효과, 자동 정렬) |\n",
    "| **UNION ALL**         | 중복 유지   | 위치 기반   | 두 SELECT 결과 합침 (중복 포함, 빠름) |\n",
    "| **OUTER UNION**       | 중복 유지   | 위치 기반   | 컬럼 개수가 달라도 합칠 수 있음, 없는 값은 NULL/결측 |\n",
    "| **OUTER UNION CORR**  | 중복 유지   | 이름 기반   | 컬럼 이름 기준으로 매칭, 없는 값은 NULL/결측 |\n",
    "| **EXCEPT**            | 중복 제거   | 위치 기반   | 첫 번째 SELECT 결과에서 두 번째 SELECT 결과를 제외 |\n",
    "| **INTERSECT**         | 중복 제거   | 위치 기반   | 두 SELECT 결과의 공통 행만 반환 |\n"
   ]
  },
  {
   "cell_type": "markdown",
   "id": "b552ae9e-5696-40db-b2e5-4763f6d71131",
   "metadata": {},
   "source": [
    "1. UNION; 두 쿼리 결과를 합침. (중복은 자동 제거)"
   ]
  },
  {
   "cell_type": "markdown",
   "id": "e3c7724b-374f-4e03-8456-e5f69def9bea",
   "metadata": {},
   "source": [
    "- UNION ALL을 쓰면 중복까지 포함.\n",
    "- 각 SELECT 절의 컬럼 개수, 타입, 순서가 같아야 함."
   ]
  },
  {
   "cell_type": "markdown",
   "id": "5d2f64e4-a100-4075-9eae-90a4407f6dbf",
   "metadata": {},
   "source": [
    "```sas\n",
    "proc sql;\n",
    "   select id, name from tableA\n",
    "   union\n",
    "   select id, name from tableB;\n",
    "quit;\n",
    "```"
   ]
  },
  {
   "cell_type": "markdown",
   "id": "ad025b0d-4073-4b48-9ec7-c569bac1b0ba",
   "metadata": {},
   "source": [
    "-> tableA와 tableB의 행을 합치되, 중복은 제거."
   ]
  },
  {
   "cell_type": "markdown",
   "id": "607a233e-a6a2-4b61-97e3-3f3729b4fc8b",
   "metadata": {},
   "source": [
    "2. OUTER UNION; 두 테이블을 세로 + 가로 방향으로 합치는 개념."
   ]
  },
  {
   "cell_type": "markdown",
   "id": "bd9c9051-a182-41b1-86f6-6ab5cebc79b0",
   "metadata": {},
   "source": [
    "- 공통 변수가 있으면 맞춰서 붙이고, 없는 변수는 NULL로 채움.\n",
    "- 즉, 변수 구조가 달라도 가능."
   ]
  },
  {
   "cell_type": "markdown",
   "id": "376a2522-906e-4bf2-acf7-2c6439e8d0f9",
   "metadata": {},
   "source": [
    "```sas\n",
    "proc sql;\n",
    "   select id, name from tableA\n",
    "   outer union corr\n",
    "   select id, score from tableB;\n",
    "quit;\n",
    "```"
   ]
  },
  {
   "cell_type": "markdown",
   "id": "74df95b8-86c6-4333-a7b5-97cc50b204c2",
   "metadata": {},
   "source": [
    "-> CORR 옵션: 같은 이름의 컬럼만 정렬해서 붙이고, 없는 값은 NULL."
   ]
  },
  {
   "cell_type": "markdown",
   "id": "e1e439f6-b25e-4caa-a275-eacfcf81a602",
   "metadata": {},
   "source": [
    "3. EXCEPT; 첫 번째 SELECT 결과에서 두 번째 SELECT 결과를 뺀 것."
   ]
  },
  {
   "cell_type": "markdown",
   "id": "8a9ca5c2-08eb-40ba-a928-6cf3c060be3c",
   "metadata": {},
   "source": [
    "- 중복은 제거됨."
   ]
  },
  {
   "cell_type": "markdown",
   "id": "b40ebb3d-06be-4967-8201-c7936969eb2f",
   "metadata": {},
   "source": [
    "```sas\n",
    "proc sql;\n",
    "   select id from tableA\n",
    "   except\n",
    "   select id from tableB;\n",
    "quit;\n",
    "```"
   ]
  },
  {
   "cell_type": "markdown",
   "id": "f89a4571-35e8-4b67-8eeb-174a0287eadc",
   "metadata": {},
   "source": [
    "-> tableA에는 있지만 tableB에는 없는 id만 출력."
   ]
  },
  {
   "cell_type": "markdown",
   "id": "60b56d48-9eba-435f-9042-7e279e6943aa",
   "metadata": {},
   "source": [
    "4. INTERSECT; 두 SELECT 결과에서 공통으로 존재하는 행만 반환."
   ]
  },
  {
   "cell_type": "markdown",
   "id": "62eee5b4-d35b-442e-abb4-7fa1e0bcc62b",
   "metadata": {},
   "source": [
    "- 중복은 제거됨."
   ]
  },
  {
   "cell_type": "markdown",
   "id": "a39fc51f-4ebc-43ea-9b92-c41e3c8fb767",
   "metadata": {},
   "source": [
    "```sas\n",
    "proc sql;\n",
    "   select id from tableA\n",
    "   intersect\n",
    "   select id from tableB;\n",
    "quit;\n",
    "```"
   ]
  },
  {
   "cell_type": "markdown",
   "id": "beef5759-2c17-4b5a-b977-2ffce8e2910e",
   "metadata": {
    "tags": []
   },
   "source": [
    "-> 두 테이블에 모두 존재하는 id만 출력."
   ]
  },
  {
   "cell_type": "markdown",
   "id": "0aeadc99-437a-4023-95e6-70384633f310",
   "metadata": {},
   "source": [
    "## 집계: AVG, COUNT, MAX, MIN, SUM, GROUP BY, HAVING"
   ]
  },
  {
   "cell_type": "markdown",
   "id": "f7fb7926-42cc-4390-ba00-4d9ea617d78b",
   "metadata": {},
   "source": [
    "1. 집계 함수 (Aggregate Functions)"
   ]
  },
  {
   "cell_type": "markdown",
   "id": "40f697d1-42fb-4a6d-afc7-079715ea507b",
   "metadata": {},
   "source": [
    "| 함수           | 설명           | 예시                                                       |\n",
    "| ------------ | ------------ | -------------------------------------------------------- |\n",
    "| **AVG( )**   | 평균           | `avg(salary)`                                            |\n",
    "| **COUNT( )** | 개수 (NULL 제외) | `count(*)` → 전체 행 개수<br>`count(var)` → var이 NULL 아닌 행 개수 |\n",
    "| **MAX( )**   | 최댓값          | `max(salary)`                                            |\n",
    "| **MIN( )**   | 최솟값          | `min(salary)`                                            |\n",
    "| **SUM( )**   | 합계           | `sum(salary)`                                            |\n"
   ]
  },
  {
   "cell_type": "markdown",
   "id": "366e963c-51f6-4d62-bef1-a1d6fe5e56ce",
   "metadata": {},
   "source": [
    "2. GROUP BY"
   ]
  },
  {
   "cell_type": "markdown",
   "id": "52d80e9c-d2aa-403e-be35-adde36d20b7b",
   "metadata": {},
   "source": [
    "- 특정 컬럼을 기준으로 데이터를 그룹화해서 집계 수행.\n",
    "- SELECT 절에는 그룹 변수 + 집계 함수만 올 수 있음."
   ]
  },
  {
   "cell_type": "markdown",
   "id": "8c9617a5-8105-4b7f-84c0-ec862833b6d7",
   "metadata": {},
   "source": [
    "```sas\n",
    "proc sql;\n",
    "   select department, avg(salary) as Avg_Salary\n",
    "   from employees\n",
    "   group by department;\n",
    "quit;\n",
    "```"
   ]
  },
  {
   "cell_type": "markdown",
   "id": "4ecfad25-7909-4e5c-8e4d-4b20792fb127",
   "metadata": {},
   "source": [
    "-> 부서별 평균 급여 계산."
   ]
  },
  {
   "cell_type": "markdown",
   "id": "c56fed7d-53e4-4449-b3bb-4cb85cca37ce",
   "metadata": {},
   "source": [
    "3. HAVING"
   ]
  },
  {
   "cell_type": "markdown",
   "id": "0d88f3a3-c3ef-40bd-984c-7e5d8fdf39f8",
   "metadata": {},
   "source": [
    "- WHERE와 비슷하지만 집계된 결과에 조건을 걸 때 사용.\n",
    "- WHERE은 개별 행(row)에 조건, HAVING은 그룹화된 결과에 조건."
   ]
  },
  {
   "cell_type": "markdown",
   "id": "50db2cc2-4f32-422f-8d71-e2b6e8b3414b",
   "metadata": {},
   "source": [
    "```sas\n",
    "proc sql;\n",
    "   select department, avg(salary) as Avg_Salary\n",
    "   from employees\n",
    "   group by department\n",
    "   having avg(salary) > 50000;\n",
    "quit;\n",
    "```"
   ]
  },
  {
   "cell_type": "markdown",
   "id": "9d6efa9f-a4ae-4ec5-a504-177abdd5ff20",
   "metadata": {},
   "source": [
    "-> 평균 급여가 50,000 초과인 부서만 출력."
   ]
  },
  {
   "cell_type": "markdown",
   "id": "4516bd90-cc99-4829-b82d-752876f3c40b",
   "metadata": {},
   "source": [
    "4. WHERE vs HAVING 차이"
   ]
  },
  {
   "cell_type": "markdown",
   "id": "455d2972-8c56-4690-a7a6-27134d318ff2",
   "metadata": {},
   "source": [
    "- `WHERE`: 집계하기 전에 데이터 필터링\n",
    "- `HAVING`: 집계한 후 그룹 결과 필터링"
   ]
  },
  {
   "cell_type": "markdown",
   "id": "650e1610-0c54-4bc0-b10a-8f8ad1efd6e8",
   "metadata": {},
   "source": [
    "```sas\n",
    "proc sql;\n",
    "   /* WHERE 사용 */\n",
    "   select department, avg(salary) as Avg_Salary\n",
    "   from employees\n",
    "   where salary > 30000\n",
    "   group by department;\n",
    "\n",
    "   /* HAVING 사용 */\n",
    "   select department, avg(salary) as Avg_Salary\n",
    "   from employees\n",
    "   group by department\n",
    "   having avg(salary) > 50000;\n",
    "quit;\n",
    "```"
   ]
  },
  {
   "cell_type": "markdown",
   "id": "8f581fd3-ab68-4986-8440-095c824de165",
   "metadata": {},
   "source": [
    "### group by 사용 하고 안 하고의 차이"
   ]
  },
  {
   "cell_type": "markdown",
   "id": "fc74305e-f774-429d-bdcf-49f4140a8376",
   "metadata": {},
   "source": [
    "- **GROUP BY 없음** → 각 행(row) 그대로 출력  \n",
    "- **GROUP BY 있음** → 지정한 그룹별로 요약(평균, 합계 등 집계 함수 결과)만 출력"
   ]
  },
  {
   "cell_type": "markdown",
   "id": "f6230cd9-6d32-41a1-b6f3-69152581fb5d",
   "metadata": {},
   "source": [
    "1. GROUP BY 사용하지 않은 경우 (원본 그대로)"
   ]
  },
  {
   "cell_type": "markdown",
   "id": "9f9683b1-b1ed-4e09-96e4-a79a24cb3088",
   "metadata": {},
   "source": [
    "| Make   | MPG_City |\n",
    "|--------|----------|\n",
    "| Toyota | 20       |\n",
    "| Toyota | 22       |\n",
    "| Toyota | 25       |\n",
    "| Ford   | 15       |\n",
    "| Ford   | 18       |\n",
    "| Honda  | 30       |"
   ]
  },
  {
   "cell_type": "markdown",
   "id": "639870e1-24b7-4c40-8845-45b6a2b27cc8",
   "metadata": {},
   "source": [
    "2. GROUP BY 사용한 경우 (Make별 평균)"
   ]
  },
  {
   "cell_type": "markdown",
   "id": "5a4e0c17-65e7-4a5b-9ff0-f33ea3e5db87",
   "metadata": {},
   "source": [
    "| Make   | AvgCityMPG |\n",
    "|--------|------------|\n",
    "| Ford   | 16.5       |\n",
    "| Honda  | 30.0       |\n",
    "| Toyota | 22.3       |"
   ]
  },
  {
   "cell_type": "markdown",
   "id": "8eee945e-4df0-4938-a3a9-126305a0755c",
   "metadata": {},
   "source": [
    "## 중복 제거: DISTINCT"
   ]
  },
  {
   "cell_type": "markdown",
   "id": "5f7885b8-57cd-4e50-9971-04b929d5db28",
   "metadata": {},
   "source": [
    "1. DISTINCT 기본"
   ]
  },
  {
   "cell_type": "markdown",
   "id": "eaf74829-4719-46ba-977d-ea38b2f625b7",
   "metadata": {},
   "source": [
    "- SELECT 절에서 사용.\n",
    "- 결과에서 중복된 행(row)을 제거.\n",
    "- 모든 컬럼 조합이 동일하면 한 번만 남음."
   ]
  },
  {
   "cell_type": "markdown",
   "id": "0ec33d1d-dfc5-45ac-9954-d94d547ad4f4",
   "metadata": {},
   "source": [
    "```sas\n",
    "proc sql;\n",
    "   select distinct department\n",
    "   from employees;\n",
    "quit;\n",
    "```"
   ]
  },
  {
   "cell_type": "markdown",
   "id": "837e48e1-52fe-47bc-ba66-10e7131b5f26",
   "metadata": {},
   "source": [
    "-> 부서 이름(department)이 중복 없이 한 번씩만 출력."
   ]
  },
  {
   "cell_type": "markdown",
   "id": "7c8b20cf-58de-4759-aa31-21ca0787ab8d",
   "metadata": {},
   "source": [
    "2. 여러 컬럼과 함께 사용"
   ]
  },
  {
   "cell_type": "markdown",
   "id": "246c96ea-42c2-4a8f-aee0-e2f66677727b",
   "metadata": {},
   "source": [
    "- 여러 변수 조합이 동일하면 중복 제거."
   ]
  },
  {
   "cell_type": "markdown",
   "id": "2ad6a74c-99b5-4057-9c98-709b551061d7",
   "metadata": {},
   "source": [
    "```sas\n",
    "proc sql;\n",
    "   select distinct department, job_title\n",
    "   from employees;\n",
    "quit;\n",
    "```"
   ]
  },
  {
   "cell_type": "markdown",
   "id": "257015cd-68b8-4715-b368-66dbcd4ae170",
   "metadata": {},
   "source": [
    "-> (department, job_title) 조합이 같은 경우 한 줄만 출력."
   ]
  },
  {
   "cell_type": "markdown",
   "id": "b10a762d-8db7-4e7b-87c0-ead48edfb735",
   "metadata": {},
   "source": [
    "3. COUNT(DISTINCT …)"
   ]
  },
  {
   "cell_type": "markdown",
   "id": "e41f0196-f5a6-42f5-bf59-e3e17e89ec2d",
   "metadata": {},
   "source": [
    "- 특정 변수의 고유값 개수 세기.\n",
    "- SAS PROC SQL은 COUNT(DISTINCT col) 지원."
   ]
  },
  {
   "cell_type": "markdown",
   "id": "0ff4028b-d74c-4868-9f91-fb5e762ce80d",
   "metadata": {},
   "source": [
    "```sas\n",
    "proc sql;\n",
    "   select count(distinct department) as Dept_N\n",
    "   from employees;\n",
    "quit;\n",
    "```"
   ]
  },
  {
   "cell_type": "markdown",
   "id": "92283377-65ee-4313-9007-6e3601635f33",
   "metadata": {},
   "source": [
    "-> department의 고유 개수 출력."
   ]
  },
  {
   "cell_type": "markdown",
   "id": "7534af98-a5b0-4517-afb9-97404d2f19be",
   "metadata": {},
   "source": [
    "4. DISTINCT와 GROUP BY 차이"
   ]
  },
  {
   "cell_type": "markdown",
   "id": "269cd516-c96a-47c6-bc87-63249e8bc363",
   "metadata": {},
   "source": [
    "- `DISTINCT`: 단순히 중복 제거 → 전체 결과를 unique set으로 만듦.\n",
    "- `GROUP BY`: 그룹별 집계 수행 → 집계함수와 함께 사용."
   ]
  },
  {
   "cell_type": "markdown",
   "id": "63588ce1-1073-4012-8c38-5b801943071d",
   "metadata": {},
   "source": [
    "```sas\n",
    "/* DISTINCT */\n",
    "proc sql;\n",
    "   select distinct department\n",
    "   from employees;\n",
    "quit;\n",
    "\n",
    "/* GROUP BY */\n",
    "proc sql;\n",
    "   select department, avg(salary) as Avg_Sal\n",
    "   from employees\n",
    "   group by department;\n",
    "quit;\n",
    "```"
   ]
  },
  {
   "cell_type": "markdown",
   "id": "96e542b9-e87b-4135-b072-adf158317006",
   "metadata": {},
   "source": [
    "-> DISTINCT: 그냥 고유 부서 목록, GROUP BY: 부서별 평균 급여"
   ]
  },
  {
   "cell_type": "markdown",
   "id": "caefd66c-16fd-460e-8013-c01c8ade08cb",
   "metadata": {},
   "source": [
    "## 서브쿼리, 인라인 뷰 활용"
   ]
  },
  {
   "cell_type": "markdown",
   "id": "834ede08-9640-48df-b058-2856d8daff85",
   "metadata": {},
   "source": [
    "1. 서브쿼리 (Subquery)"
   ]
  },
  {
   "cell_type": "markdown",
   "id": "aa9867f6-f3b9-4edb-89cc-bc14ecac2245",
   "metadata": {},
   "source": [
    "- 다른 SQL문 안에 포함된 하위 SELECT문. 보통 WHERE, HAVING, SELECT 절에서 많이 사용됨."
   ]
  },
  {
   "cell_type": "markdown",
   "id": "98ba72e3-1e0d-4335-998e-1b670e24f4b3",
   "metadata": {},
   "source": [
    "(1) 단일 값 서브쿼리; 서브쿼리가 하나의 값을 반환."
   ]
  },
  {
   "cell_type": "markdown",
   "id": "c0889414-3b02-49ff-962c-f3cc39b3d40a",
   "metadata": {},
   "source": [
    "```sas\n",
    "proc sql;\n",
    "   select id, name, salary\n",
    "   from employees\n",
    "   where salary > (select avg(salary) from employees);\n",
    "quit;\n",
    "```"
   ]
  },
  {
   "cell_type": "markdown",
   "id": "010b75f8-cc57-490d-8c52-7be44a503995",
   "metadata": {},
   "source": [
    "-> 직원 급여가 전체 평균 급여보다 큰 행만 선택."
   ]
  },
  {
   "cell_type": "markdown",
   "id": "115aacab-3325-4c10-981b-289b4a7a9a7d",
   "metadata": {},
   "source": [
    "(2) 다중 값 서브쿼리 (IN, EXISTS); 서브쿼리가 여러 행을 반환."
   ]
  },
  {
   "cell_type": "markdown",
   "id": "d5d5d399-a0e6-44f5-8d82-bf97eb16655c",
   "metadata": {},
   "source": [
    "```sas\n",
    "proc sql;\n",
    "   select id, name\n",
    "   from employees\n",
    "   where department in (select department from departments where region = 'EU');\n",
    "quit;\n",
    "```"
   ]
  },
  {
   "cell_type": "markdown",
   "id": "312a4647-0808-4901-8beb-7fc3e07a2b95",
   "metadata": {},
   "source": [
    "-> 유럽(EU) 지역 부서에 속한 직원만 선택."
   ]
  },
  {
   "cell_type": "markdown",
   "id": "dafb796a-3fc5-4e3b-8a85-44dab4e95740",
   "metadata": {},
   "source": [
    "(3) 상관 서브쿼리 (Correlated Subquery); 서브쿼리가 바깥 쿼리의 컬럼과 연결됨."
   ]
  },
  {
   "cell_type": "markdown",
   "id": "1ed92902-e1ea-4412-bc44-11f851528966",
   "metadata": {},
   "source": [
    "```sas\n",
    "proc sql;\n",
    "   select e1.id, e1.salary\n",
    "   from employees e1\n",
    "   where salary > (select avg(e2.salary) \n",
    "                   from employees e2\n",
    "                   where e1.department = e2.department);\n",
    "quit;\n",
    "```"
   ]
  },
  {
   "cell_type": "markdown",
   "id": "12f5a4c0-0d41-4c06-98ee-4b0f79008b9f",
   "metadata": {},
   "source": [
    "-> 각 부서 평균 급여보다 급여가 높은 직원 선택."
   ]
  },
  {
   "cell_type": "markdown",
   "id": "ff6e286b-f138-448a-8fc2-e7292a4d3e47",
   "metadata": {},
   "source": [
    "2. 인라인 뷰 (Inline View); FROM 절 안에 들어가는 서브쿼리 (일시적 테이블처럼 사용)."
   ]
  },
  {
   "cell_type": "markdown",
   "id": "9d97cee7-ebf2-4ced-90f3-6562cafd2c00",
   "metadata": {},
   "source": [
    "```sas\n",
    "proc sql;\n",
    "   select department, Avg_Sal\n",
    "   from (select department, avg(salary) as Avg_Sal\n",
    "         from employees\n",
    "         group by department) as dept_avg\n",
    "   where Avg_Sal > 50000;\n",
    "quit;\n",
    "```"
   ]
  },
  {
   "cell_type": "markdown",
   "id": "37e948b2-fb9d-41f2-bdf1-6d6557742626",
   "metadata": {},
   "source": [
    "-> 먼저 부서별 평균 급여(dept_avg)를 만든 후, 평균이 50,000 초과인 부서만 선택."
   ]
  },
  {
   "cell_type": "markdown",
   "id": "a1a2e6b8-fe43-4927-b48d-3e36d339371e",
   "metadata": {},
   "source": [
    "## SAS 확장 기능:"
   ]
  },
  {
   "cell_type": "markdown",
   "id": "ce9d927f-a040-4751-bbff-83d51cc45870",
   "metadata": {},
   "source": [
    "### Dataset options (KEEP=, DROP=, RENAME=, OBS=)"
   ]
  },
  {
   "cell_type": "markdown",
   "id": "06f78626-7665-4709-ad0b-ec066f30d779",
   "metadata": {},
   "source": [
    "| 옵션          | 역할              | 예시                           |\n",
    "| ----------- | --------------- | ---------------------------- |\n",
    "| **KEEP=**   | 지정한 변수만 불러오기/저장 | `(keep=id name salary)`      |\n",
    "| **DROP=**   | 지정한 변수 제외       | `(drop=phone)`               |\n",
    "| **RENAME=** | 변수명 변경          | `(rename=(dept=Department))` |\n",
    "| **OBS=**    | 행 개수 제한         | `(obs=10)`                   |\n"
   ]
  },
  {
   "cell_type": "markdown",
   "id": "05414032-0b52-49b1-b5aa-e75364f33de9",
   "metadata": {},
   "source": [
    "1. KEEP=; 데이터셋에서 필요한 변수만 선택"
   ]
  },
  {
   "cell_type": "markdown",
   "id": "b00c7b71-7636-4238-be9f-5472b93b6b00",
   "metadata": {},
   "source": [
    "- 입력 시: 읽을 때 해당 변수만 불러옴\n",
    "- 출력 시: 결과 데이터셋에 해당 변수만 남김"
   ]
  },
  {
   "cell_type": "markdown",
   "id": "a7836fc5-5364-493f-a429-be1703f20390",
   "metadata": {},
   "source": [
    "```sas\n",
    "data emp_keep;\n",
    "   set employees(keep=id name salary);\n",
    "run;\n",
    "```"
   ]
  },
  {
   "cell_type": "markdown",
   "id": "723492ad-bed1-4ce8-8879-5b5755012b77",
   "metadata": {},
   "source": [
    "-> employees에서 id, name, salary만 가져와서 새 데이터셋 생성"
   ]
  },
  {
   "cell_type": "markdown",
   "id": "14a9226a-d2c0-40d8-a787-88ae1421d29d",
   "metadata": {},
   "source": [
    "2. DROP=; 데이터셋에서 제외할 변수 지정"
   ]
  },
  {
   "cell_type": "markdown",
   "id": "ad7c2b52-50bf-4b3b-885b-985055c979a1",
   "metadata": {},
   "source": [
    "- 입력 시: 불필요한 변수는 불러오지 않음\n",
    "- 출력 시: 결과 데이터셋에서 제외됨"
   ]
  },
  {
   "cell_type": "markdown",
   "id": "8664d3cd-993c-40c4-b6cc-a6ebb8693d95",
   "metadata": {},
   "source": [
    "```sas\n",
    "data emp_drop;\n",
    "   set employees(drop=address phone);\n",
    "run;\n",
    "```"
   ]
  },
  {
   "cell_type": "markdown",
   "id": "eaefb28c-a246-4f81-a86e-690f3cc02a90",
   "metadata": {},
   "source": [
    "-> employees에서 address, phone 제외하고 나머지 변수 저장"
   ]
  },
  {
   "cell_type": "markdown",
   "id": "221e182b-7bee-4af4-a7a5-86c0681671fd",
   "metadata": {},
   "source": [
    "3. RENAME=; 변수 이름 변경"
   ]
  },
  {
   "cell_type": "markdown",
   "id": "0a4cd83b-e08b-41a2-a806-5816bf3e73d8",
   "metadata": {},
   "source": [
    "```sas\n",
    "data emp_rename;\n",
    "   set employees(rename=(salary=Monthly_Salary dept=Department));\n",
    "run;\n",
    "```"
   ]
  },
  {
   "cell_type": "markdown",
   "id": "c53608d4-bb42-4518-8cad-a412770b59ce",
   "metadata": {},
   "source": [
    "-> salary → Monthly_Salary, dept → Department로 변경"
   ]
  },
  {
   "cell_type": "markdown",
   "id": "c9713bf5-c442-4a5b-b545-cf3dd9ae6c2b",
   "metadata": {},
   "source": [
    "4. OBS=; 읽어올 관측치 개수 제한"
   ]
  },
  {
   "cell_type": "markdown",
   "id": "3c45a7d3-7fb2-4941-a307-ec134ec5fa2f",
   "metadata": {},
   "source": [
    "- 보통 테스트나 샘플링할 때 사용"
   ]
  },
  {
   "cell_type": "markdown",
   "id": "11376ccf-dc1d-46e4-8b9c-eb02e6fa323b",
   "metadata": {},
   "source": [
    "```sas\n",
    "data emp_obs;\n",
    "   set employees(obs=10);\n",
    "run;\n",
    "```"
   ]
  },
  {
   "cell_type": "markdown",
   "id": "df93a73d-ad85-45f3-9b12-59525ab9354a",
   "metadata": {},
   "source": [
    "-> employees에서 앞의 10개 행만 불러옴"
   ]
  },
  {
   "cell_type": "markdown",
   "id": "a28eb400-81c0-41c2-a191-af98c15dc77c",
   "metadata": {},
   "source": [
    "5. 함께 사용 예시"
   ]
  },
  {
   "cell_type": "markdown",
   "id": "c630dad0-9f58-4b9d-a151-0e50c141d398",
   "metadata": {},
   "source": [
    "```sas\n",
    "data emp_final;\n",
    "   set employees(keep=id name salary dept \n",
    "                 drop=phone \n",
    "                 rename=(dept=Department) \n",
    "                 obs=5);\n",
    "run;\n",
    "```"
   ]
  },
  {
   "cell_type": "markdown",
   "id": "47e10f2c-e603-4c59-af43-223ae3f866f6",
   "metadata": {},
   "source": [
    "- `obs=5` → 처음 5개 행만 읽음\n",
    "- `keep=id name salary dept` → 필요한 변수만 선택\n",
    "- `drop=phone` → phone 제외 (이미 keep에 없으므로 영향 없음)\n",
    "- `rename=dept`→Department 적용"
   ]
  },
  {
   "cell_type": "markdown",
   "id": "4de662e7-6357-42e1-b2f3-024b3f5e2900",
   "metadata": {},
   "source": [
    "### Invocation options (INOBS=, OUTOBS=, NOPRINT, NUMBER)"
   ]
  },
  {
   "cell_type": "markdown",
   "id": "2920f7cb-f446-4adb-8764-13c2d326bb4d",
   "metadata": {},
   "source": [
    "| 옵션          | 역할             | 예시                   | 특징                             |\n",
    "| ----------- | -------------- | -------------------- | ------------------------------ |\n",
    "| **INOBS=**  | 입력 데이터 행 개수 제한 | `proc sql inobs=10;` | 데이터 읽을 때 앞에서 10행만 사용           |\n",
    "| **OUTOBS=** | 출력 행 개수 제한     | `proc sql outobs=5;` | 실행은 전체 대상으로 하지만 결과는 5행만 표시     |\n",
    "| **NOPRINT** | 결과 출력 생략       | `proc sql noprint;`  | 로그/결과창에 출력 안 됨, 테이블 생성용에 자주 사용 |\n",
    "| **NUMBER**  | 결과에 행 번호 표시    | `proc sql number;`   | 결과창에서 행 번호 확인 가능               |\n"
   ]
  },
  {
   "cell_type": "markdown",
   "id": "0d52b849-9f2f-4454-824f-b0e13d3b994a",
   "metadata": {},
   "source": [
    "1. INOBS=; 입력 행 제한 (읽을 때 앞에서부터 지정한 행 개수만 사용)"
   ]
  },
  {
   "cell_type": "markdown",
   "id": "10e9b011-2e86-485f-972b-3747aacededa",
   "metadata": {},
   "source": [
    "```sas\n",
    "proc sql inobs=10;\n",
    "   select * from employees;\n",
    "quit;\n",
    "```"
   ]
  },
  {
   "cell_type": "markdown",
   "id": "ad3aa330-837b-4491-9dc6-9c8cf425341a",
   "metadata": {},
   "source": [
    "-> employees에서 앞의 10개 행만 읽어서 SQL 실행."
   ]
  },
  {
   "cell_type": "markdown",
   "id": "b9b45abd-7335-4d16-bf8c-32e5749ba2d8",
   "metadata": {},
   "source": [
    "2. OUTOBS=; 출력 행 제한 (결과로 보여주는 행 개수 제한)"
   ]
  },
  {
   "cell_type": "markdown",
   "id": "49bba44a-f923-4232-ad8c-66a621056b59",
   "metadata": {},
   "source": [
    "```sas\n",
    "proc sql outobs=5;\n",
    "   select * from employees;\n",
    "quit;\n",
    "```"
   ]
  },
  {
   "cell_type": "markdown",
   "id": "57b40a2d-14da-43f0-bc07-407681368e89",
   "metadata": {},
   "source": [
    "-> employees 전체를 읽지만, 결과는 앞의 5개 행만 출력."
   ]
  },
  {
   "cell_type": "markdown",
   "id": "7caa55da-99da-4811-9e62-245eaa98ed18",
   "metadata": {},
   "source": [
    "3. NOPRINT; SQL 실행은 하지만 결과 테이블은 출력하지 않음."
   ]
  },
  {
   "cell_type": "markdown",
   "id": "0470612f-982b-4cfd-a1cc-06f5a414e6d2",
   "metadata": {},
   "source": [
    "- 보통 CREATE TABLE이나 INSERT INTO 같은 결과 저장용 쿼리에서 사용."
   ]
  },
  {
   "cell_type": "markdown",
   "id": "06e18e2c-f066-4725-9722-9b0ec33e6d5e",
   "metadata": {},
   "source": [
    "```sas\n",
    "proc sql noprint;\n",
    "   create table emp_summary as\n",
    "   select department, avg(salary) as Avg_Sal\n",
    "   from employees\n",
    "   group by department;\n",
    "quit;\n",
    "```"
   ]
  },
  {
   "cell_type": "markdown",
   "id": "2f29294e-f7bf-4d2d-a092-2456a4e14490",
   "metadata": {},
   "source": [
    "-> 테이블은 생성되지만 로그/출력 창에는 결과 안 뜸."
   ]
  },
  {
   "cell_type": "markdown",
   "id": "aa777074-0b81-42e0-90b9-4006071a668e",
   "metadata": {},
   "source": [
    "4. NUMBER; 결과 출력 시, 각 행 왼쪽에 행 번호를 붙여줌."
   ]
  },
  {
   "cell_type": "markdown",
   "id": "911d73f6-1ccc-48f6-8bc5-b6a85642112a",
   "metadata": {},
   "source": [
    "```sas\n",
    "proc sql number;\n",
    "   select id, name, salary\n",
    "   from employees;\n",
    "quit;\n",
    "```"
   ]
  },
  {
   "cell_type": "markdown",
   "id": "b928f60c-1c0b-4ca4-b248-1c5a709f1b5a",
   "metadata": {},
   "source": [
    "-> 결과창에 1, 2, 3… 번호가 붙어서 출력됨."
   ]
  },
  {
   "cell_type": "markdown",
   "id": "999b7835-114e-4fa9-8e2e-f36bd2b5951e",
   "metadata": {},
   "source": [
    "### Functions (SCAN, SUBSTR, LENGTH)"
   ]
  },
  {
   "cell_type": "markdown",
   "id": "0ca4f3d8-af77-4d59-b319-d466edf62512",
   "metadata": {},
   "source": [
    "| 함수         | 역할                   | 예시                     | 결과      |\n",
    "| ---------- | -------------------- | ---------------------- | ------- |\n",
    "| **SCAN**   | 구분자로 나눈 n번째 단어 추출    | `scan(\"a,b,c\",2,\",\")`  | `\"b\"`   |\n",
    "| **SUBSTR** | 문자열에서 특정 위치 부분 추출/수정 | `substr(\"ABCDEF\",2,3)` | `\"BCD\"` |\n",
    "| **LENGTH** | 문자열 길이 반환            | `length(\"Hello\")`      | `5`     |\n"
   ]
  },
  {
   "cell_type": "markdown",
   "id": "6676be83-2220-41ac-9f82-e231cdaae098",
   "metadata": {},
   "source": [
    "1. SCAN; 문자열에서 단어 단위로 추출"
   ]
  },
  {
   "cell_type": "markdown",
   "id": "bd8c5299-0350-4522-8843-7e0c36cf434e",
   "metadata": {},
   "source": [
    "`scan(string, n <, delimiters>)`"
   ]
  },
  {
   "cell_type": "markdown",
   "id": "773bc316-77c5-4531-859b-aa635760a0b3",
   "metadata": {},
   "source": [
    "- string: 문자 변수\n",
    "- n: 몇 번째 단어를 추출할지\n",
    "- delimiters: 구분자 (기본은 공백, , 등 지정 가능)"
   ]
  },
  {
   "cell_type": "markdown",
   "id": "5e99ae64-53a1-4185-b73c-230c802c0327",
   "metadata": {},
   "source": [
    "```sas\n",
    "data _null_;\n",
    "   x = \"SAS Advanced Certification\";\n",
    "   word1 = scan(x,1);   /* SAS */\n",
    "   word2 = scan(x,2);   /* Advanced */\n",
    "   word3 = scan(x,3);   /* Certification */\n",
    "   put word1= word2= word3=;\n",
    "run;\n",
    "```"
   ]
  },
  {
   "cell_type": "markdown",
   "id": "f277f2d1-8254-43d9-aebe-5f74fae5c9cc",
   "metadata": {},
   "source": [
    "-> 시험에서는 이메일 주소에서 @ 앞부분 추출 같은 문제가 자주 나옴."
   ]
  },
  {
   "cell_type": "markdown",
   "id": "da2b1aaf-2551-4f90-9749-01e33116c610",
   "metadata": {},
   "source": [
    "- `scan(\"user@test.com\", 1, \"@\")`  → \"user\"\n",
    "- `scan(\"user@test.com\", 2, \"@\")`  → \"test.com\""
   ]
  },
  {
   "cell_type": "markdown",
   "id": "94813b7b-1947-4c6b-95be-fb8731a971b3",
   "metadata": {},
   "source": [
    "2. SUBSTR; 문자열에서 일정 위치부터 지정 길이만큼 잘라내기"
   ]
  },
  {
   "cell_type": "markdown",
   "id": "a72de398-2cdc-45a4-aafe-5adc2bbb6a43",
   "metadata": {},
   "source": [
    "`substr(string, start <, length>)`"
   ]
  },
  {
   "cell_type": "markdown",
   "id": "6941eb38-dc3c-45a1-9569-6a5f6bc4e8ab",
   "metadata": {},
   "source": [
    "- start: 시작 위치 (1부터 시작)\n",
    "- length: 잘라낼 문자 수 (생략하면 끝까지)"
   ]
  },
  {
   "cell_type": "markdown",
   "id": "9eba94b6-0062-4084-b5cf-79ec350841f3",
   "metadata": {},
   "source": [
    "```sas\n",
    "data _null_;\n",
    "   x = \"ABCDEFG\";\n",
    "   y1 = substr(x,2,3);  /* BCD */\n",
    "   y2 = substr(x,5);    /* EFG */\n",
    "   put y1= y2=;\n",
    "run;\n",
    "```"
   ]
  },
  {
   "cell_type": "markdown",
   "id": "223effba-86a0-49be-84a5-340ad5586c50",
   "metadata": {},
   "source": [
    "- 주의: SUBSTR 함수는 할당문 좌변에 올 수 있음 → 문자열 일부 수정 가능!"
   ]
  },
  {
   "cell_type": "markdown",
   "id": "d2c3ded2-b396-4463-8327-aa34688161cd",
   "metadata": {},
   "source": [
    "```sas\n",
    "data _null_;\n",
    "   x = \"12345\";\n",
    "   substr(x,2,2) = \"AB\";   /* x = 1AB45 */\n",
    "   put x=;\n",
    "run;\n",
    "```"
   ]
  },
  {
   "cell_type": "markdown",
   "id": "a1cbe13f-2d5f-4869-b7bb-ee36e19ee3c3",
   "metadata": {},
   "source": [
    "3. LENGTH; 문자열의 길이(문자 개수) 반환"
   ]
  },
  {
   "cell_type": "markdown",
   "id": "635003b6-b9b4-4ef6-90fc-aa09ec3841cf",
   "metadata": {},
   "source": [
    "`length(string)`"
   ]
  },
  {
   "cell_type": "markdown",
   "id": "fdb81dca-e5ec-4149-9a0c-a3a2206f0f8f",
   "metadata": {},
   "source": [
    "```sas\n",
    "data _null_;\n",
    "   x = \"Hello\";\n",
    "   len = length(x);   /* 5 */\n",
    "   put len=;\n",
    "run;\n",
    "```"
   ]
  },
  {
   "cell_type": "markdown",
   "id": "3102dbcd-1dbd-48b7-89d1-eafbf9b3a724",
   "metadata": {},
   "source": [
    "- LENGTH는 공백도 포함\n",
    "- LENGTHN = 문자열 길이, NULL → 0\n",
    "- LENGTHC = 문자 변수의 메모리 길이 반환 (실제 저장 공간)"
   ]
  },
  {
   "cell_type": "markdown",
   "id": "9fd0ef2e-2ff5-44a4-a4cc-dd7624c3e47e",
   "metadata": {},
   "source": [
    "### Dictionary tables (DICTIONARY.COLUMNS 등)"
   ]
  },
  {
   "cell_type": "markdown",
   "id": "c24ebb02-ac77-4666-a079-8e399597e9ee",
   "metadata": {},
   "source": [
    "| Dictionary Table | SASHELP 뷰 | 주요 정보            |\n",
    "| ---------------- | --------- | ---------------- |\n",
    "| COLUMNS          | VCOLUMN   | 변수명, 타입, 길이 등    |\n",
    "| TABLES           | VTABLE    | 데이터셋 행 수, 생성·수정일 |\n",
    "| LIBNAMES         | VLIBNAM   | 라이브러리 경로, 엔진     |\n",
    "| MEMBERS          | VMEMBER   | 라이브러리 내 멤버       |\n",
    "| OPTIONS          | VOPTION   | 시스템 옵션           |\n",
    "| MACROS           | VMACRO    | 매크로 변수           |\n",
    "| INDEXES          | VINDEX    | 인덱스 정보           |"
   ]
  },
  {
   "cell_type": "markdown",
   "id": "108339b2-1b0f-4dcb-bdef-32f40096a595",
   "metadata": {},
   "source": [
    "1. Dictionary Tables란?"
   ]
  },
  {
   "cell_type": "markdown",
   "id": "be8ce7c1-ef48-4e79-958d-dc1dcce287fb",
   "metadata": {},
   "source": [
    "- SAS 세션에서 사용할 수 있는 메타데이터 테이블\n",
    "- 라이브러리, 데이터셋, 변수, 인덱스, 포맷, 옵션 등에 대한 정보를 담고 있음\n",
    "- 조회할 때는 PROC SQL 사용"
   ]
  },
  {
   "cell_type": "markdown",
   "id": "23e6cf0b-1f1e-4407-b242-adfb5ffb0094",
   "metadata": {},
   "source": [
    "- 특징\n",
    "    - DICTIONARY. 라이브러리로 직접 접근 가능\n",
    "    - 같은 내용을 SASHELP. 뷰로도 조회 가능 (SASHELP.VCOLUMN 등)"
   ]
  },
  {
   "cell_type": "markdown",
   "id": "8d47082f-6e93-4de9-911e-c35d9566c7e7",
   "metadata": {},
   "source": [
    "2. 주요 Dictionary Tables"
   ]
  },
  {
   "cell_type": "markdown",
   "id": "2a25db6c-fd37-43a8-b8a8-f4baed28d9c5",
   "metadata": {},
   "source": [
    "| 테이블 이름                  | 내용                          |\n",
    "| ----------------------- | --------------------------- |\n",
    "| **DICTIONARY.COLUMNS**  | 데이터셋의 변수 정보 (이름, 타입, 길이 등)  |\n",
    "| **DICTIONARY.TABLES**   | 라이브러리 내 테이블 정보 (행 수, 수정일 등) |\n",
    "| **DICTIONARY.LIBNAMES** | 현재 할당된 라이브러리 정보             |\n",
    "| **DICTIONARY.MEMBERS**  | 모든 SAS 라이브러리의 멤버(데이터셋, 뷰 등) |\n",
    "| **DICTIONARY.INDEXES**  | 인덱스 정보                      |\n",
    "| **DICTIONARY.OPTIONS**  | 현재 세션의 시스템 옵션 값             |\n",
    "| **DICTIONARY.MACROS**   | 매크로 변수 정보                   |\n",
    "| **DICTIONARY.ENGINES**  | 라이브러리 엔진 정보                 |"
   ]
  },
  {
   "cell_type": "markdown",
   "id": "5414057c-827a-445e-b23d-3f1f915fbd5f",
   "metadata": {},
   "source": [
    "3. 활용 예시"
   ]
  },
  {
   "cell_type": "markdown",
   "id": "40e2a5a8-3751-4c8d-997e-c86547f5cfa5",
   "metadata": {},
   "source": [
    "(1) 컬럼(변수) 정보 조회"
   ]
  },
  {
   "cell_type": "markdown",
   "id": "8530c206-3572-4e08-b066-4286315fbc99",
   "metadata": {},
   "source": [
    "```sas\n",
    "proc sql;\n",
    "   select libname, memname, name, type, length\n",
    "   from dictionary.columns\n",
    "   where libname='WORK' and memname='EMPLOYEES';\n",
    "quit;\n",
    "```"
   ]
  },
  {
   "cell_type": "markdown",
   "id": "f357826e-61d4-4a1f-acc1-63c140e58f94",
   "metadata": {},
   "source": [
    "-> WORK 라이브러리의 EMPLOYEES 데이터셋 변수 정보 조회"
   ]
  },
  {
   "cell_type": "markdown",
   "id": "211bfa81-8d40-4e35-9fa1-269e35fe7b2f",
   "metadata": {},
   "source": [
    "(2) 데이터셋(테이블) 정보 조회"
   ]
  },
  {
   "cell_type": "markdown",
   "id": "e31cef49-4a7b-47a5-a50c-c8666566419a",
   "metadata": {},
   "source": [
    "```sas\n",
    "proc sql;\n",
    "   select libname, memname, nobs, crdate, modate\n",
    "   from dictionary.tables\n",
    "   where libname='WORK';\n",
    "quit;\n",
    "```"
   ]
  },
  {
   "cell_type": "markdown",
   "id": "4b9ff612-1340-4257-9179-d95defb1ab79",
   "metadata": {},
   "source": [
    "-> WORK 라이브러리에 있는 모든 데이터셋의 행 수, 생성일, 수정일 확인"
   ]
  },
  {
   "cell_type": "markdown",
   "id": "b133ec61-d0b4-43f7-ba20-3c5eafa425d3",
   "metadata": {},
   "source": [
    "(3) 라이브러리 정보 확인"
   ]
  },
  {
   "cell_type": "markdown",
   "id": "c1ffdbfe-c641-4c27-ac95-6256ec2e6e9e",
   "metadata": {},
   "source": [
    "```sas\n",
    "proc sql;\n",
    "   select libname, path, engine\n",
    "   from dictionary.libnames;\n",
    "quit;\n",
    "```"
   ]
  },
  {
   "cell_type": "markdown",
   "id": "69c16294-ab85-4f27-9b61-9186707f3d77",
   "metadata": {},
   "source": [
    "-> 라이브러리 위치 및 엔진 확인"
   ]
  },
  {
   "cell_type": "markdown",
   "id": "61e8bcd8-5359-4554-b574-c94ba331c05f",
   "metadata": {},
   "source": [
    "### CALCULATED 키워드"
   ]
  },
  {
   "cell_type": "markdown",
   "id": "b2019ce9-0bf4-4c40-b3b7-1522bdd53079",
   "metadata": {},
   "source": [
    "- 같은 SELECT 절 안에서 이미 생성한 계산 열(computed column)을 재사용할 때 사용.\n",
    "- 없으면 SAS는 \"변수가 없다\"는 에러를 냄."
   ]
  },
  {
   "cell_type": "markdown",
   "id": "8e668190-e1b0-4693-8885-31132bea6131",
   "metadata": {},
   "source": [
    "```sas\n",
    "proc sql;\n",
    "   select salary * 12 as Annual_Salary,\n",
    "          calculated Annual_Salary * 0.1 as Tax\n",
    "   from employees;\n",
    "quit;\n",
    "```"
   ]
  },
  {
   "cell_type": "markdown",
   "id": "abfd9148-0fc4-4ed0-8e28-9529e9404cf9",
   "metadata": {},
   "source": [
    "- Annual_Salary는 salary * 12로 계산된 열.\n",
    "- Tax 계산할 때 CALCULATED Annual_Salary를 불러와야 함.\n",
    "- 그냥 Annual_Salary * 0.1 쓰면 에러 발생."
   ]
  },
  {
   "cell_type": "markdown",
   "id": "45b8fd09-f4a4-4385-bdec-df2666ee45ca",
   "metadata": {},
   "source": [
    "- `*` 순서 중요\n",
    "- `*` CALCULATED는 앞에서 정의한 계산 열만 사용 가능\n",
    "- `*` 뒤에 정의한 건 사용할 수 없음"
   ]
  },
  {
   "cell_type": "markdown",
   "id": "5f8d9726-6e59-4349-816d-a1d2054732a3",
   "metadata": {
    "tags": [],
    "toc-hr-collapsed": true
   },
   "source": [
    "# Macro"
   ]
  },
  {
   "cell_type": "markdown",
   "id": "8816dd0f-f5c5-4acc-b2e4-2f5e8f418e18",
   "metadata": {},
   "source": [
    "## 생성: %LET, INTO:, CALL SYMPUTX"
   ]
  },
  {
   "cell_type": "markdown",
   "id": "60b8fedb-2729-4535-95d9-f7fbd370adff",
   "metadata": {},
   "source": [
    "| 방법               | 사용 위치     | 생성 범위          | 용도              |\n",
    "| ---------------- | --------- | -------------- | --------------- |\n",
    "| **%LET**         | 매크로 언어 직접 | 전역             | 고정 상수/문자 할당     |\n",
    "| **INTO:**        | PROC SQL  | 전역             | SQL 결과 → 매크로 변수 |\n",
    "| **CALL SYMPUTX** | DATA step | 기본 전역 (지역도 가능) | 데이터 값 → 매크로 변수  |\n"
   ]
  },
  {
   "cell_type": "markdown",
   "id": "936b4e1a-8eaf-4406-8084-e4694507c76a",
   "metadata": {},
   "source": [
    "1. %LET; 전역 매크로 변수를 생성"
   ]
  },
  {
   "cell_type": "markdown",
   "id": "e7495553-d99f-4c03-929d-e2c8577b1e04",
   "metadata": {},
   "source": [
    "- 간단히 상수 값이나 문자열을 할당할 때 사용"
   ]
  },
  {
   "cell_type": "markdown",
   "id": "23c27f8c-5d3e-4175-b14a-9ba4a6ec81a5",
   "metadata": {},
   "source": [
    "```sas\n",
    "%let today = 2025-09-06;\n",
    "%put &=today;\n",
    "```"
   ]
  },
  {
   "cell_type": "markdown",
   "id": "091e5ada-6ae0-4d30-b11f-a79bad68be0d",
   "metadata": {},
   "source": [
    "- 항상 전역 변수(global)\n",
    "- 문자/숫자 상관없이 문자열처럼 저장\n",
    "- 공백 포함 시 따옴표 사용 필요 (%let name=\"My Name\";)"
   ]
  },
  {
   "cell_type": "markdown",
   "id": "f0a53a5a-43e2-4522-80be-f5b71f5bf45d",
   "metadata": {},
   "source": [
    "2. INTO:; PROC SQL 안에서 결과를 매크로 변수로 저장"
   ]
  },
  {
   "cell_type": "markdown",
   "id": "53805869-0f90-4284-bd7b-99ef78552277",
   "metadata": {},
   "source": [
    "(1) 단일 값 저장"
   ]
  },
  {
   "cell_type": "markdown",
   "id": "022d9f0b-36f7-48e4-b13f-d510cc5356a2",
   "metadata": {},
   "source": [
    "```sas\n",
    "proc sql noprint;\n",
    "   select avg(salary)\n",
    "   into :avg_sal\n",
    "   from employees;\n",
    "quit;\n",
    "\n",
    "%put &=avg_sal;\n",
    "```"
   ]
  },
  {
   "cell_type": "markdown",
   "id": "826bf822-86a9-42a7-873b-4fbbd8afe4f4",
   "metadata": {},
   "source": [
    "-> 평균 급여를 &avg_sal 매크로 변수에 저장"
   ]
  },
  {
   "cell_type": "markdown",
   "id": "9277092c-b6c3-4668-82d6-4390d0ce007a",
   "metadata": {},
   "source": [
    "(2) 여러 값 저장"
   ]
  },
  {
   "cell_type": "markdown",
   "id": "cb703700-c303-40b8-8fee-220eefc24e80",
   "metadata": {},
   "source": [
    "공백 구분:"
   ]
  },
  {
   "cell_type": "markdown",
   "id": "e49944cb-7657-4232-89b7-931498ba304d",
   "metadata": {},
   "source": [
    "```sas\n",
    "proc sql noprint;\n",
    "   select name\n",
    "   into :namelist separated by ' '\n",
    "   from employees;\n",
    "quit;\n",
    "\n",
    "%put &=namelist;\n",
    "```"
   ]
  },
  {
   "cell_type": "markdown",
   "id": "912505a8-f6af-4c41-8a29-f0b7f2b6c69f",
   "metadata": {},
   "source": [
    "-> Alice Bob Carol 이런 식으로 저장"
   ]
  },
  {
   "cell_type": "markdown",
   "id": "3209b79b-1ace-4419-af8c-e95cb6bdc6e8",
   "metadata": {},
   "source": [
    "- 여러 개 매크로 변수에 순서대로 할당:"
   ]
  },
  {
   "cell_type": "markdown",
   "id": "55eb8750-7cd2-4c56-a9d3-7cbe46da82c1",
   "metadata": {},
   "source": [
    "```sas\n",
    "proc sql noprint;\n",
    "   select name\n",
    "   into :name1-:name3\n",
    "   from employees;\n",
    "quit;\n",
    "\n",
    "%put &name1 &name2 &name3;\n",
    "```"
   ]
  },
  {
   "cell_type": "markdown",
   "id": "0692b779-4c43-485b-8303-a4a618d6dc8a",
   "metadata": {},
   "source": [
    "3. CALL SYMPUTX; DATA step에서 매크로 변수 생성"
   ]
  },
  {
   "cell_type": "markdown",
   "id": "4af23eb4-7e6a-4238-8abc-4645a8f2a3ea",
   "metadata": {},
   "source": [
    "```sas\n",
    "data _null_;\n",
    "   set employees;\n",
    "   call symputx('empname', name);\n",
    "run;\n",
    "\n",
    "%put &=empname;\n",
    "```"
   ]
  },
  {
   "cell_type": "markdown",
   "id": "a559dd88-c2a0-48d1-a1c6-787ea55559a5",
   "metadata": {},
   "source": [
    "-> 마지막 관측치의 name 값이 &empname에 저장"
   ]
  },
  {
   "cell_type": "markdown",
   "id": "704d9df6-8e0c-423a-a8ad-cf5aba129e57",
   "metadata": {},
   "source": [
    "- 행 단위 반복 가능 → 관측치별 매크로 변수 만들 수 있음\n",
    "- SYMPUTX는 공백 제거하고, 자동으로 문자/숫자 처리\n",
    "- SYMPUT보다 SYMPUTX를 쓰는 게 권장됨"
   ]
  },
  {
   "cell_type": "markdown",
   "id": "ab42fef8-77ce-4c37-9a68-be8dc31f5ab3",
   "metadata": {},
   "source": [
    "- 다음 코드에서 maxage라는 매크로 변수를 생성하시오.\n"
   ]
  },
  {
   "cell_type": "markdown",
   "id": "13e39ab4-7c38-4567-b207-1cea0ab2a203",
   "metadata": {},
   "source": [
    "```sas\n",
    "data _null_;\n",
    "   set sashelp.class end=last;\n",
    "   retain maxage 0;\n",
    "   if Age > maxage then maxage=Age;\n",
    "   if last then call symputx('maxage', maxage);\n",
    "run;\n",
    "\n",
    "%put &=maxage;\n",
    "```"
   ]
  },
  {
   "cell_type": "markdown",
   "id": "c8abab30-af8f-42e2-9b56-3b57205560cb",
   "metadata": {},
   "source": [
    "## Scope 제어: %GLOBAL, %LOCAL, SYMPUTX 옵션"
   ]
  },
  {
   "cell_type": "markdown",
   "id": "56c7af5b-19b6-449d-875d-ba57c49529f7",
   "metadata": {},
   "source": [
    "| 방법               | 생성 범위          | 특징                                      |\n",
    "| ---------------- | -------------- | --------------------------------------- |\n",
    "| **%GLOBAL**      | 전역             | 항상 전역 매크로 변수 생성 (세션 전체에서 유효)            |\n",
    "| **%LOCAL**       | 지역             | 매크로 안에서만 사용, 매크로 종료 시 삭제                |\n",
    "| **CALL SYMPUTX** | 기본 전역, 옵션으로 제어 | `'G'` 전역, `'L'` 지역 / 기본은 실행 환경 따라 자동 결정 |\n"
   ]
  },
  {
   "cell_type": "markdown",
   "id": "1fdca982-d63c-487f-8660-68f6d3bed84b",
   "metadata": {},
   "source": [
    "1. 매크로 변수 스코프 개념"
   ]
  },
  {
   "cell_type": "markdown",
   "id": "86ce001a-367b-4b98-93ab-9ec0ab6b1c97",
   "metadata": {},
   "source": [
    "- `전역(Global)`: SAS 세션 내내 유지, 모든 매크로에서 접근 가능\n",
    "- `지역(Local)`: 특정 매크로 실행 중에만 존재, 매크로 종료 시 자동 삭제"
   ]
  },
  {
   "cell_type": "markdown",
   "id": "caa2e57b-502f-4c66-8684-ebe3d26678e1",
   "metadata": {},
   "source": [
    "2. %GLOBAL"
   ]
  },
  {
   "cell_type": "markdown",
   "id": "d6810347-8374-4cf7-9d94-500fbcba938a",
   "metadata": {},
   "source": [
    "- 전역 매크로 변수를 명시적으로 선언\n",
    "- 매크로 외부·내부 어디서든 사용 가능"
   ]
  },
  {
   "cell_type": "markdown",
   "id": "72050573-1ff1-4e8f-8e1e-64cb1ab28e6e",
   "metadata": {},
   "source": [
    "```sas\n",
    "%global gvar;\n",
    "%let gvar = 100;\n",
    "%put &=gvar;   /* 100 */\n",
    "```"
   ]
  },
  {
   "cell_type": "markdown",
   "id": "f7d2eb6b-b07f-442b-a59d-43dc2d9a8c01",
   "metadata": {},
   "source": [
    "-> 이미 존재하는 전역 변수면 값은 유지, 없으면 새로 생성"
   ]
  },
  {
   "cell_type": "markdown",
   "id": "771677bb-7d6e-4e97-80ef-45189e456ddb",
   "metadata": {},
   "source": [
    "3. %LOCAL"
   ]
  },
  {
   "cell_type": "markdown",
   "id": "a77e8721-c808-4970-911a-da764b064fb6",
   "metadata": {},
   "source": [
    "- 지역 매크로 변수 선언 (해당 매크로 안에서만 유효)"
   ]
  },
  {
   "cell_type": "markdown",
   "id": "2086de14-3f77-4974-be26-ee0789087766",
   "metadata": {},
   "source": [
    "```sas\n",
    "%macro test;\n",
    "   %local lvar;\n",
    "   %let lvar = 200;\n",
    "   %put &=lvar;   /* 200 */\n",
    "%mend;\n",
    "%test;\n",
    "%put &=lvar;   /* WARNING: macro variable not resolved */\n",
    "```"
   ]
  },
  {
   "cell_type": "markdown",
   "id": "325f7f40-3dc7-4b54-b420-dd8ef2f95d17",
   "metadata": {},
   "source": [
    "-> 매크로 종료 시 자동 소멸"
   ]
  },
  {
   "cell_type": "markdown",
   "id": "eb598a95-857e-4d13-8525-d52bf31d0bc3",
   "metadata": {},
   "source": [
    "4. CALL SYMPUTX 옵션"
   ]
  },
  {
   "cell_type": "markdown",
   "id": "3a499635-da63-41ba-9e3b-7821f894a30b",
   "metadata": {},
   "source": [
    "- DATA step에서 매크로 변수 생성 시 스코프 제어 가능"
   ]
  },
  {
   "cell_type": "markdown",
   "id": "6f6adb3a-47a4-41d8-ae1d-657475e1c111",
   "metadata": {},
   "source": [
    "```sas\n",
    "%macro demo;\n",
    "   data _null_;\n",
    "      x = 300;\n",
    "      call symputx('mvar', x, 'L'); /* Local */\n",
    "   run;\n",
    "   %put Local var = &mvar;\n",
    "%mend;\n",
    "%demo;\n",
    "```"
   ]
  },
  {
   "cell_type": "markdown",
   "id": "1f0cc61b-ab68-4cc1-8c00-9e52b23475f2",
   "metadata": {},
   "source": [
    "- 세 번째 인수(스코프 지정):\n",
    "    - 'G' → 전역(Global) 매크로 변수 생성\n",
    "    - 'L' → 지역(Local) 매크로 변수 생성\n",
    "- 생략 시:\n",
    "    - 매크로 실행 중이면 지역(local)\n",
    "    - 아니면 전역(global)"
   ]
  },
  {
   "cell_type": "markdown",
   "id": "fd4aacf2-cd79-41e5-8a6d-8c0cdcf4831c",
   "metadata": {},
   "source": [
    "## 이름 구분자(.) 활용"
   ]
  },
  {
   "cell_type": "markdown",
   "id": "c9e5428a-6c68-4434-b158-bc6a64db8e50",
   "metadata": {},
   "source": [
    "1. 기본 예시"
   ]
  },
  {
   "cell_type": "markdown",
   "id": "22efdf0c-c130-4108-97f5-86d39c03f119",
   "metadata": {},
   "source": [
    "```sas\n",
    "%let var = name;\n",
    "\n",
    "%put &var1;    /* 매크로 변수 var1 찾음 → 정의 안 되어 있으면 경고 */\n",
    "%put &var.1;   /* 매크로 변수 var 찾고, 뒤에 \"1\" 붙임 → name1 */\n",
    "```"
   ]
  },
  {
   "cell_type": "markdown",
   "id": "245db50b-9a00-4578-b876-3ea729a651ad",
   "metadata": {},
   "source": [
    "- &var1 은 var1이라는 매크로 변수를 찾음.\n",
    "- &var.1 은 var 매크로 변수의 값(name) + 1 = name1"
   ]
  },
  {
   "cell_type": "markdown",
   "id": "a44e7653-db19-4aa0-bf36-187949e86f76",
   "metadata": {},
   "source": [
    "2. 문자열 연결할 때"
   ]
  },
  {
   "cell_type": "markdown",
   "id": "2610f3bd-3691-4882-9a49-e2541ac84459",
   "metadata": {},
   "source": [
    "```sas\n",
    "%let month = Jan;\n",
    "\n",
    "%put &month.Sales;   /* 매크로 변수 monthSalses 찾으려 함 → 에러 */\n",
    "%put &month.Sales;   /* month → Jan + Sales → JanSales */\n",
    "```"
   ]
  },
  {
   "cell_type": "markdown",
   "id": "816e2f37-8427-4485-81fe-50525c3a1069",
   "metadata": {},
   "source": [
    "-> &month.Sales 처럼 구분자 붙여야 원하는 결과 나옴."
   ]
  },
  {
   "cell_type": "markdown",
   "id": "3481d16b-c5a1-4215-bf89-6c9bf4dd9d62",
   "metadata": {},
   "source": [
    "3. 루프에서 자주 쓰임"
   ]
  },
  {
   "cell_type": "markdown",
   "id": "af00a5da-7e20-4c5f-b467-ee1e3bbe0e7b",
   "metadata": {},
   "source": [
    "```sas\n",
    "%macro loop;\n",
    "   %do i=1 %to 3;\n",
    "      %let var&i = value&i;\n",
    "      %put &&var&i;    /* && → &var1, &var2 ... */\n",
    "   %end;\n",
    "%mend;\n",
    "%loop;\n",
    "```"
   ]
  },
  {
   "cell_type": "markdown",
   "id": "bb9638b4-a970-4049-b607-3f1c5e6dda01",
   "metadata": {},
   "source": [
    "- 이때도 &var.&i 혹은 &var&i 로 처리해야 함.\n",
    "- .을 붙이면 매크로 변수명과 루프 인덱스 구분이 확실해짐."
   ]
  },
  {
   "cell_type": "markdown",
   "id": "fa11ddf4-63f1-4dc1-a514-1d5694331b00",
   "metadata": {},
   "source": [
    "## 매크로 프로그램"
   ]
  },
  {
   "cell_type": "markdown",
   "id": "3e4a02a1-33a9-408f-ac53-72d7217a9326",
   "metadata": {},
   "source": [
    "### 정의/호출: %MACRO … %MEND"
   ]
  },
  {
   "cell_type": "markdown",
   "id": "a33fe50f-52ad-497f-913f-9b1d7f64550e",
   "metadata": {},
   "source": [
    "```sas\n",
    "%macro 매크로이름(매개변수);\n",
    "   /* 매크로 코드 */\n",
    "%mend 매크로이름;\n",
    "```"
   ]
  },
  {
   "cell_type": "markdown",
   "id": "87ccf77c-ec98-4ac5-8152-15231fe8bc22",
   "metadata": {},
   "source": [
    "- %macro ~ %mend 사이에 매크로 프로그램 코드 작성\n",
    "- 호출할 때는 %매크로이름(인수) 형태로 실행"
   ]
  },
  {
   "cell_type": "markdown",
   "id": "b2782d7c-6476-4282-918b-9a21c8d6a612",
   "metadata": {},
   "source": [
    "1. 매크로 프로그램 생성과 호출"
   ]
  },
  {
   "cell_type": "markdown",
   "id": "5c86ab85-de3d-4ccb-b5fb-32840c618df4",
   "metadata": {},
   "source": [
    "(1) 매개변수 없는 매크로"
   ]
  },
  {
   "cell_type": "markdown",
   "id": "12f5891c-64c9-485e-9c52-91071800c49a",
   "metadata": {},
   "source": [
    "```sas\n",
    "%macro hello;\n",
    "   %put Hello, SAS Macro!;\n",
    "%mend hello;\n",
    "\n",
    "%hello;\n",
    "```"
   ]
  },
  {
   "cell_type": "markdown",
   "id": "6f8add43-589f-4b53-84a0-52dbbd89dcf2",
   "metadata": {},
   "source": [
    "- %hello; 실행 시 로그에 Hello, SAS Macro! 출력"
   ]
  },
  {
   "cell_type": "markdown",
   "id": "b8567d71-cecd-4333-a071-cb8b7f8e66d8",
   "metadata": {},
   "source": [
    "(2) 매개변수 있는 매크로"
   ]
  },
  {
   "cell_type": "markdown",
   "id": "ebd0a616-2476-4ee3-b424-00561715c18c",
   "metadata": {},
   "source": [
    "```sas\n",
    "%macro greet(name);\n",
    "   %put Hello, &name!;\n",
    "%mend greet;\n",
    "\n",
    "%greet(Name);\n",
    "```"
   ]
  },
  {
   "cell_type": "markdown",
   "id": "b598ec20-3646-44ba-afce-579350775a95",
   "metadata": {},
   "source": [
    "%greet(Name); 실행 시 Hello, Name! 출력"
   ]
  },
  {
   "cell_type": "markdown",
   "id": "10e5f392-1075-4e4e-bc6e-ee8b1b01ebae",
   "metadata": {},
   "source": [
    "### 파라미터 유무 호출"
   ]
  },
  {
   "cell_type": "markdown",
   "id": "a69a75ae-0383-4281-8d38-74ffa4db8f33",
   "metadata": {},
   "source": [
    "2. 매개변수의 종류"
   ]
  },
  {
   "cell_type": "markdown",
   "id": "03172f40-9990-46e0-891b-7e1ffdf7cd21",
   "metadata": {},
   "source": [
    "- 위치 매개변수(Positional parameter)"
   ]
  },
  {
   "cell_type": "markdown",
   "id": "f31d350f-ee8f-4916-96aa-d157c37fefad",
   "metadata": {},
   "source": [
    "```sas\n",
    "%macro report(dept, year);\n",
    "   %put Department=&dept, Year=&year;\n",
    "%mend;\n",
    "%report(HR, 2025);\n",
    "```"
   ]
  },
  {
   "cell_type": "markdown",
   "id": "c436af8f-03e4-4219-aa64-49ed35bf253d",
   "metadata": {},
   "source": [
    "- 키워드 매개변수(Keyword parameter); 기본값 지정 가능"
   ]
  },
  {
   "cell_type": "markdown",
   "id": "5d7e19b4-69ad-4593-9126-9d7b847a22a9",
   "metadata": {},
   "source": [
    "```sas\n",
    "%macro report(dept=Sales, year=2025);\n",
    "   %put Department=&dept, Year=&year;\n",
    "%mend;\n",
    "%report();                /* Sales, 2025 */\n",
    "%report(dept=HR, year=2024); /* HR, 2024 */\n",
    "```"
   ]
  },
  {
   "cell_type": "markdown",
   "id": "e3e45428-e12c-432a-9797-6685c3654537",
   "metadata": {},
   "source": [
    "3. 조건문과 반복문"
   ]
  },
  {
   "cell_type": "markdown",
   "id": "a5e4d989-c40f-4bf3-b0ac-e22eb5bd9957",
   "metadata": {},
   "source": [
    "### 조건문: %IF-%THEN-%ELSE"
   ]
  },
  {
   "cell_type": "markdown",
   "id": "349eb944-3f4f-4063-803e-17e71c76f0ea",
   "metadata": {},
   "source": [
    "(1) 조건문 %IF … %THEN … %ELSE"
   ]
  },
  {
   "cell_type": "markdown",
   "id": "3f6b1e12-3cf3-43de-b9f1-4ee60cd26a90",
   "metadata": {},
   "source": [
    "```sas\n",
    "%macro check(num);\n",
    "   %if &num > 0 %then %put Positive;\n",
    "   %else %put Non-positive;\n",
    "%mend;\n",
    "%check(10);\n",
    "```"
   ]
  },
  {
   "cell_type": "markdown",
   "id": "2efb4afa-4ff6-47f4-a09d-51f809fb088d",
   "metadata": {},
   "source": [
    "### 반복문: %DO-%END"
   ]
  },
  {
   "cell_type": "markdown",
   "id": "0388005e-0e7a-4de4-9c15-6c732c4a249a",
   "metadata": {},
   "source": [
    "(2) 반복문 %DO ~ %END"
   ]
  },
  {
   "cell_type": "markdown",
   "id": "cc884bbb-4f16-42f9-a4d5-faf9e6b4be5a",
   "metadata": {},
   "source": [
    "```sas\n",
    "%macro loop(n);\n",
    "   %do i=1 %to &n;\n",
    "      %put Iteration &i;\n",
    "   %end;\n",
    "%mend;\n",
    "%loop(3);\n",
    "```"
   ]
  },
  {
   "cell_type": "markdown",
   "id": "80111ed3-bf9c-4c60-b948-bde2f381df04",
   "metadata": {},
   "source": [
    "4. 매크로 프로그램 활용 예시"
   ]
  },
  {
   "cell_type": "markdown",
   "id": "ba6daeee-473a-4f18-a15c-fa57badbd62b",
   "metadata": {},
   "source": [
    "```sas\n",
    "%macro summary(dataset, var);\n",
    "   proc sql;\n",
    "      select mean(&var), max(&var), min(&var)\n",
    "      from &dataset;\n",
    "   quit;\n",
    "%mend;\n",
    "\n",
    "%summary(sashelp.class, height);\n",
    "```"
   ]
  },
  {
   "cell_type": "markdown",
   "id": "2fef122c-0125-4055-a47a-827916633760",
   "metadata": {},
   "source": [
    "- sashelp.class 데이터에서 height 변수의 평균, 최댓값, 최솟값 출력"
   ]
  },
  {
   "cell_type": "markdown",
   "id": "614fa22c-8626-4a4e-abeb-54c2af167e39",
   "metadata": {},
   "source": [
    "### AUTOCALL facility (재사용 가능한 매크로 저장/호출)"
   ]
  },
  {
   "cell_type": "markdown",
   "id": "292b3b91-820a-42d9-91bc-29adc3af6cfe",
   "metadata": {},
   "source": [
    "```sas\n",
    "/* AUTOCALL 세팅 */\n",
    "options mautosource\n",
    "        sasautos = (\"c:\\cert\\programs\" \"!sasroot\\core\\sasmacro\");\n",
    "\n",
    "/* c:\\cert\\programs\\greet.sas 파일 내용:\n",
    "   %macro greet(name);\n",
    "      %put Hello, &name!;\n",
    "   %mend;\n",
    "*/\n",
    "\n",
    "/* 호출 */\n",
    "%greet(Max);\n",
    "```"
   ]
  },
  {
   "cell_type": "markdown",
   "id": "875ef663-2a93-4ad4-8a61-6cb5e329e644",
   "metadata": {},
   "source": [
    "- `Hello, Max!`"
   ]
  },
  {
   "cell_type": "markdown",
   "id": "c09611a4-0d45-4e71-9087-e2b0065cad48",
   "metadata": {},
   "source": [
    "## 매크로 함수"
   ]
  },
  {
   "cell_type": "markdown",
   "id": "5e69c13d-e85c-4b34-afd4-c83fa0d8a367",
   "metadata": {},
   "source": [
    "### 기본: %SCAN, %SUBSTR, %UPCASE"
   ]
  },
  {
   "cell_type": "markdown",
   "id": "0e1fdbbe-658d-4b59-8f95-091abcbf6542",
   "metadata": {},
   "source": [
    "| 함수          | 역할             | 예시                                | 결과       |\n",
    "| ----------- | -------------- | --------------------------------- | -------- |\n",
    "| **%SCAN**   | 구분자로 n번째 단어 추출 | `%scan(red,blue,green,2,%str(,))` | `blue`   |\n",
    "| **%SUBSTR** | 문자열 부분 추출      | `%substr(Advanced,1,3)`           | `Adv`    |\n",
    "| **%UPCASE** | 대문자 변환         | `%upcase(London)`                 | `LONDON` |\n"
   ]
  },
  {
   "cell_type": "markdown",
   "id": "fc97c610-6d6e-4957-ae07-31a7a1f79e0d",
   "metadata": {},
   "source": [
    "1. %SCAN; 문자열에서 단어 단위 추출 (매크로 함수 버전)"
   ]
  },
  {
   "cell_type": "markdown",
   "id": "bc230d56-1fb7-4088-973b-8d655be1863d",
   "metadata": {},
   "source": [
    "```sas\n",
    "%let str = red,blue,green;\n",
    "\n",
    "%put %scan(&str,1,%str(,));   /* red   */\n",
    "%put %scan(&str,2,%str(,));   /* blue  */\n",
    "%put %scan(&str,3,%str(,));   /* green */\n",
    "```"
   ]
  },
  {
   "cell_type": "markdown",
   "id": "6b9bfd6b-2f28-47c2-88db-bfc742ed20fa",
   "metadata": {},
   "source": [
    "- 데이터 함수 SCAN과 유사하지만 매크로 처리 단계에서 실행\n",
    "- 구분자(delimiters) 지정 가능 (%str(,) 처럼 특수문자 처리 필요)"
   ]
  },
  {
   "cell_type": "markdown",
   "id": "84966928-57bc-444c-a0c2-1170eea6993d",
   "metadata": {},
   "source": [
    "2. %SUBSTR; 문자열의 특정 위치 부분 추출"
   ]
  },
  {
   "cell_type": "markdown",
   "id": "0e8f1ecc-3451-40dd-a963-ebe11b9d43e8",
   "metadata": {},
   "source": [
    "```sas\n",
    "%let word = Advanced;\n",
    "\n",
    "%put %substr(&word,1,3);   /* Adv */\n",
    "%put %substr(&word,5);     /* nced (길이 생략 시 끝까지) */\n",
    "```"
   ]
  },
  {
   "cell_type": "markdown",
   "id": "222f3675-d673-470b-b6fa-c9d3b48eeb67",
   "metadata": {},
   "source": [
    "- 데이터 함수 SUBSTR와 달리 매크로 함수는 수정 불가, 추출 전용\n",
    "- 시작 위치는 1부터 시작"
   ]
  },
  {
   "cell_type": "markdown",
   "id": "5829a565-113f-4d0a-8e88-8381b7bfb3e9",
   "metadata": {},
   "source": [
    "- 매크로 변수 name=Alexander에서 앞 4글자만 추출하여 매크로 변수 shortname을 만드시오.\n",
    "    - `%SUBSTR(string, position, length)`\n",
    "    - 결과: Alex"
   ]
  },
  {
   "cell_type": "markdown",
   "id": "c7830f98-7f9d-4b8a-9e02-7056d704ee6b",
   "metadata": {},
   "source": [
    "```sas\n",
    "%let name=Alexander;\n",
    "%let shortname=%substr(&name,1,4);\n",
    "%put &=shortname;\n",
    "```"
   ]
  },
  {
   "cell_type": "markdown",
   "id": "2c507dcf-65bb-4d4c-aa87-5c1dc925b9c5",
   "metadata": {},
   "source": [
    "3. %UPCASE; 문자열을 모두 대문자로 변환"
   ]
  },
  {
   "cell_type": "markdown",
   "id": "8294e98f-c215-48e9-8ac5-6fc75f57e83b",
   "metadata": {},
   "source": [
    "```sas\n",
    "%let city = London;\n",
    "\n",
    "%put %upcase(&city);   /* LONDON */\n",
    "```"
   ]
  },
  {
   "cell_type": "markdown",
   "id": "54034297-58d7-40ea-9d23-a7c28c528d06",
   "metadata": {},
   "source": [
    "- 데이터 함수 UPCASE와 동일한 기능을 매크로 환경에서 수행\n",
    "- 시험에서는 주로 비교 시 대소문자 무시 처리 용도로 등장"
   ]
  },
  {
   "cell_type": "markdown",
   "id": "aab4614f-7d81-492a-b889-1cb06aa10814",
   "metadata": {},
   "source": [
    "### Quoting: %STR, %NRSTR"
   ]
  },
  {
   "cell_type": "markdown",
   "id": "012a2389-322d-48fa-bbed-5dc8aa926d5f",
   "metadata": {},
   "source": [
    "- 매크로 언어에서 특수문자, 공백, 예약어를 “그대로 문자로 취급”하게 해줌.\n",
    "- SAS는 기본적으로 , ; ' \" ( ) 같은 문자를 코드 구분자로 해석하려고 하는데, quoting을 쓰면 문자 그대로 저장 가능."
   ]
  },
  {
   "cell_type": "markdown",
   "id": "08ab7231-dccc-45ac-aae8-c2b232d2b021",
   "metadata": {},
   "source": [
    "| 함수         | 역할                               | 처리 가능한 문자     | 예시                    | 결과                     |\n",
    "| ---------- | -------------------------------- | ------------- | --------------------- | ---------------------- |\n",
    "| **%STR**   | 특수문자/공백을 문자열로 저장                 | 공백, `, ; ( )` | `%str(New York)`      | `New York`             |\n",
    "| **%NRSTR** | `%`, `&` 같은 매크로 trigger까지 문자로 저장 | 위 + `%`, `&`  | `%nrstr(%put Hello;)` | `%put Hello;` (실행 안 됨) |\n"
   ]
  },
  {
   "cell_type": "markdown",
   "id": "b0cbc201-60a0-4ca1-bfcd-56fcb2411e1b",
   "metadata": {},
   "source": [
    "1. %STR; 특수문자나 공백을 매크로 상수로 저장할 때 사용."
   ]
  },
  {
   "cell_type": "markdown",
   "id": "356999c4-1ef7-426a-841d-79dc3178f043",
   "metadata": {},
   "source": [
    "```sas\n",
    "%let city = %str(New York);\n",
    "%put &=city;   /* New York */\n",
    "```"
   ]
  },
  {
   "cell_type": "markdown",
   "id": "d0417441-54ad-465d-99c0-aafee6eb65ee",
   "metadata": {},
   "source": [
    "- 공백, 세미콜론(;), 괄호, 쉼표(,) 같은 구분 문자를 문자 그대로 저장\n",
    "- ) & % 같은 매크로 trigger 문자는 처리 못함"
   ]
  },
  {
   "cell_type": "markdown",
   "id": "25261a3b-fa9d-44ab-b438-7fdfa670e5c5",
   "metadata": {},
   "source": [
    "2. %NRSTR; %STR과 동일하지만, 매크로 trigger 문자(&, %)도 문자 그대로 저장"
   ]
  },
  {
   "cell_type": "markdown",
   "id": "6bbf45aa-5962-47b7-9eb8-0f70bd067d52",
   "metadata": {},
   "source": [
    "```sas\n",
    "%let code = %nrstr(%put Hello;);\n",
    "%put &=code;   /* %put Hello; */\n",
    "```"
   ]
  },
  {
   "cell_type": "markdown",
   "id": "84fe0781-8df5-4f14-b05a-6428cd4d3a0f",
   "metadata": {},
   "source": [
    "- % %put, &macrovar 같은 것까지 문자 그대로 저장 → 실행 안 됨\n",
    "- 보통 매크로 디버깅, 코드 조각 저장 등에 쓰임"
   ]
  },
  {
   "cell_type": "markdown",
   "id": "283ce844-b1f1-412e-a9ca-3c8d7c66d88c",
   "metadata": {
    "tags": []
   },
   "source": [
    "```sas\n",
    "/* %STR */\n",
    "%let msg1 = %str(Hello; World);\n",
    "%put &=msg1;     /* Hello; World */\n",
    "\n",
    "/* %NRSTR */\n",
    "%let msg2 = %nrstr(%put Hello;);\n",
    "%put &=msg2;     /* %put Hello;  (실행 안 됨, 문자열로 저장됨) */\n",
    "```"
   ]
  },
  {
   "cell_type": "markdown",
   "id": "491fe668-60c6-4ccf-afd1-eff3b9636f25",
   "metadata": {},
   "source": [
    "### Evaluation: %SYSEVALF"
   ]
  },
  {
   "cell_type": "markdown",
   "id": "93cad537-157d-4b6a-98fa-1cb4bd9a2526",
   "metadata": {},
   "source": [
    "- 매크로 환경에서 산술 계산을 할 때 사용\n",
    "- 특히 소수점(부동소수점) 계산이 필요할 때 반드시 필요"
   ]
  },
  {
   "cell_type": "markdown",
   "id": "8e7b1626-de23-45fa-8d69-62faff4155e9",
   "metadata": {},
   "source": [
    "| 함수                       | 특징        | 예시                       | 결과  |\n",
    "| ------------------------ | --------- | ------------------------ | --- |\n",
    "| `%EVAL`                  | 정수 계산만 가능 | `%eval(5/2)`             | 2   |\n",
    "| `%SYSEVALF`              | 실수 계산 가능  | `%sysevalf(5/2)`         | 2.5 |\n",
    "| `%SYSEVALF(...,BOOLEAN)` | 조건식 판정    | `%sysevalf(5>3,boolean)` | 1   |\n"
   ]
  },
  {
   "cell_type": "markdown",
   "id": "49aba885-1722-42c3-8167-cd4d3acad4e9",
   "metadata": {},
   "source": [
    "```sas\n",
    "%put %sysevalf(3.2 + 4.8);   /* 8.0 */\n",
    "%put %sysevalf(10/3);        /* 3.33333 */\n",
    "```"
   ]
  },
  {
   "cell_type": "markdown",
   "id": "20bd4e6f-30f4-4ec0-ba7f-fe9cca266511",
   "metadata": {},
   "source": [
    "- 매크로 변수 계산도 가능"
   ]
  },
  {
   "cell_type": "markdown",
   "id": "bb79e5da-6810-4644-8506-7cc5354280a8",
   "metadata": {},
   "source": [
    "```sas\n",
    "%let a = 5;\n",
    "%let b = 2;\n",
    "\n",
    "%let result = %sysevalf(&a / &b);\n",
    "%put &=result;   /* 2.5 */\n",
    "```"
   ]
  },
  {
   "cell_type": "markdown",
   "id": "3bedb905-0d37-46a6-853d-279960ba5bd2",
   "metadata": {},
   "source": [
    "- 옵션"
   ]
  },
  {
   "cell_type": "markdown",
   "id": "1804bae4-cf7e-44b7-a357-e0094129c147",
   "metadata": {},
   "source": [
    "`%SYSEVALF(expression <,conversion-type>)`\n",
    "- conversion-type: 계산 결과를 어떻게 반환할지 결정"
   ]
  },
  {
   "cell_type": "markdown",
   "id": "1d095796-bb1c-4d76-9689-82641e201542",
   "metadata": {},
   "source": [
    "| 옵션          | 설명              | 예시                           |\n",
    "| ----------- | --------------- | ---------------------------- |\n",
    "| **BOOLEAN** | 0/1 반환 (조건식 판정) | `%sysevalf(5>3,boolean)` → 1 |\n",
    "| **CEIL**    | 올림              | `%sysevalf(3.2,ceil)` → 4    |\n",
    "| **FLOOR**   | 내림              | `%sysevalf(3.8,floor)` → 3   |\n",
    "| **INTEGER** | 정수 변환 (소수 버림)   | `%sysevalf(3.8,integer)` → 3 |\n"
   ]
  },
  {
   "cell_type": "markdown",
   "id": "d1a0d51b-7a76-4c8f-afd7-980314b0c551",
   "metadata": {},
   "source": [
    "- `%EVAL` → 정수 연산만 가능 (소수점 불가)\n",
    "- `%SYSEVALF` → 부동소수점 연산 가능"
   ]
  },
  {
   "cell_type": "markdown",
   "id": "29f12c71-9249-457a-b497-bb94b11e9473",
   "metadata": {},
   "source": [
    "```sas\n",
    "%put %eval(5/2);        /* 2 */\n",
    "%put %sysevalf(5/2);    /* 2.5 */\n",
    "```"
   ]
  },
  {
   "cell_type": "markdown",
   "id": "542d6cb7-574d-4c29-a08a-16165ff98175",
   "metadata": {},
   "source": [
    "#### 관련 문제"
   ]
  },
  {
   "cell_type": "markdown",
   "id": "651a4616-89bf-4e31-bf6a-7b787605f05b",
   "metadata": {},
   "source": [
    "- 모두 매크로 코드로 x초기값1.25로 지정하고 do until이나 do while로 2보다 작은 값에 댜해서만 x log기록 후 0.25씩 늘려가는 매크로\n",
    "    - `%sysevalf` 입력!"
   ]
  },
  {
   "cell_type": "markdown",
   "id": "f189e4ef-327f-4867-a24a-3a31c0f0dfa4",
   "metadata": {},
   "source": [
    "```sas\n",
    "\n",
    "%macro loopx;\n",
    "   %let x=1.25;   /* 초기값 */\n",
    "\n",
    "   %do %while(&x < 2);\n",
    "      %put NOTE: x=&x;\n",
    "\n",
    "      /* x = x + 0.25 */\n",
    "      %let x = %sysevalf(&x + 0.25);\n",
    "   %end;\n",
    "%mend;\n",
    "\n",
    "%loopx\n",
    "\n",
    "\n",
    "```"
   ]
  },
  {
   "cell_type": "markdown",
   "id": "23f40856-ad44-4645-8d88-88ba645bea49",
   "metadata": {},
   "source": [
    "### %SYSFUNC → DATA step 함수 호출"
   ]
  },
  {
   "cell_type": "markdown",
   "id": "95afca2b-5da4-4c9c-8319-4a305da5c9d7",
   "metadata": {},
   "source": [
    "- 매크로 환경에서 DATA step 함수를 호출할 수 있게 해줌\n",
    "- 즉, 매크로 코드에서도 숫자, 문자 처리 함수를 직접 활용 가능"
   ]
  },
  {
   "cell_type": "markdown",
   "id": "a4c23b21-7cd4-44d7-a9e6-c9bcd014faad",
   "metadata": {},
   "source": [
    "| 구분    | 예시                                         | 결과          |\n",
    "| ----- | ------------------------------------------ | ----------- |\n",
    "| 숫자 함수 | `%sysfunc(mean(5,10,15))`                  | 10          |\n",
    "| 날짜 함수 | `%sysfunc(today(),date9.)`                 | `06SEP2025` |\n",
    "| 문자 함수 | `%sysfunc(upcase(seoyeon))`                | `SEOYEON`   |\n",
    "| 중첩 사용 | `%sysfunc(upcase(%sysfunc(reverse(abc))))` | `CBA`       |\n"
   ]
  },
  {
   "cell_type": "markdown",
   "id": "49d88f58-246c-43f0-a459-440855a25ddc",
   "metadata": {},
   "source": [
    "`%sysfunc(function-name <(arguments)> <,format>)`"
   ]
  },
  {
   "cell_type": "markdown",
   "id": "00ac88d6-eafa-4f6d-955f-de5620cf2138",
   "metadata": {},
   "source": [
    "- function-name : DATA step 함수 이름\n",
    "- arguments : 함수 인자\n",
    "- format : 결과를 출력할 때 적용할 SAS 포맷(선택 사항)"
   ]
  },
  {
   "cell_type": "markdown",
   "id": "1529b5f3-bee6-4af1-86f6-ea73b23fa1d7",
   "metadata": {},
   "source": [
    "(1) 숫자 함수 호출"
   ]
  },
  {
   "cell_type": "markdown",
   "id": "6a7459c9-0eba-446f-b5df-9c9581ce8e21",
   "metadata": {},
   "source": [
    "```sas\n",
    "%put %sysfunc(mean(5,10,15));     /* 10 */\n",
    "%put %sysfunc(round(3.14159,0.01)); /* 3.14 */\n",
    "```"
   ]
  },
  {
   "cell_type": "markdown",
   "id": "225673b5-d527-4c0b-89d5-b3175c0534fa",
   "metadata": {},
   "source": [
    "(2) 날짜 함수 호출"
   ]
  },
  {
   "cell_type": "markdown",
   "id": "f729f78e-d363-4a37-a880-adbcfc62465c",
   "metadata": {},
   "source": [
    "```sas\n",
    "%put %sysfunc(today(),date9.);   /* 06SEP2025 */\n",
    "%put %sysfunc(time(),time8.);    /* 14:35:12 같은 형식 */\n",
    "```"
   ]
  },
  {
   "cell_type": "markdown",
   "id": "360c35b8-0dcc-4c96-8a64-d07e75d77a00",
   "metadata": {},
   "source": [
    "- 포맷을 뒤에 붙이면 사람이 읽기 쉽게 출력 가능"
   ]
  },
  {
   "cell_type": "markdown",
   "id": "863ff98d-19ca-48ad-93c1-3464f46c72df",
   "metadata": {},
   "source": [
    "(3) 문자 함수 호출"
   ]
  },
  {
   "cell_type": "markdown",
   "id": "01e09792-02f4-4199-9a2b-70ede7c3e445",
   "metadata": {},
   "source": [
    "```sas\n",
    "%let text = seoyeon;\n",
    "%put %sysfunc(upcase(&text));   /* SEOYEON */\n",
    "%put %sysfunc(reverse(&text));  /* noeyoes */\n",
    "```"
   ]
  },
  {
   "cell_type": "markdown",
   "id": "e6cfa968-e7f2-43aa-bdd9-dfc9237075aa",
   "metadata": {},
   "source": [
    "- 고급 사용 – 매크로 변수에 저장"
   ]
  },
  {
   "cell_type": "markdown",
   "id": "a9d447c3-70c3-4db9-a5e8-89cda9b25590",
   "metadata": {},
   "source": [
    "```sas\n",
    "%let curdate = %sysfunc(today(),yymmddn8.);\n",
    "%put &=curdate;   /* 20250906 */\n",
    "```"
   ]
  },
  {
   "cell_type": "markdown",
   "id": "6c7e884a-b285-4785-a865-4c3109d8dc12",
   "metadata": {},
   "source": [
    "-> 오늘 날짜를 YYYYMMDD 형태로 매크로 변수에 저장"
   ]
  },
  {
   "cell_type": "markdown",
   "id": "97c8dcaf-19bd-4f2d-9f52-fe7daa1a7010",
   "metadata": {},
   "source": [
    "#### macro 변수 저장"
   ]
  },
  {
   "cell_type": "markdown",
   "id": "8491f901-2a84-4055-adef-a229cae8dff7",
   "metadata": {},
   "source": [
    "- sashelp.class에서 나이가 16인 학생들의 이름을 매크로 변수 student_list에 공백으로 구분해 저장하시오."
   ]
  },
  {
   "cell_type": "markdown",
   "id": "c6dbb9f4-1e94-4db8-b378-d791d1ca6cf7",
   "metadata": {},
   "source": [
    "```sas\n",
    "proc sql noprint;\n",
    "   select Name into :student_list separated by ' '\n",
    "   from sashelp.class\n",
    "   where Age=16;\n",
    "quit;\n",
    "\n",
    "%put &=student_list;\n",
    "```"
   ]
  },
  {
   "cell_type": "markdown",
   "id": "e07a6ffa-4cb7-4b83-a29e-a3cf7385d260",
   "metadata": {},
   "source": [
    "#### 매크로 지우는 코드"
   ]
  },
  {
   "cell_type": "markdown",
   "id": "6dd47f08-a118-4ab2-b3f6-6566fe250e60",
   "metadata": {},
   "source": [
    "```sas\n",
    "%symdel &vars;\n",
    "```"
   ]
  },
  {
   "cell_type": "markdown",
   "id": "2bf2d054-27e4-458d-8bb6-4153fed969b0",
   "metadata": {},
   "source": [
    "## 디버깅"
   ]
  },
  {
   "cell_type": "markdown",
   "id": "4e591169-f302-448d-8d9a-04693b3f33f4",
   "metadata": {},
   "source": [
    "### MLOGIC, MPRINT, SYMBOLGEN"
   ]
  },
  {
   "cell_type": "markdown",
   "id": "a9ace50b-5274-4820-8c2e-21841da325fc",
   "metadata": {},
   "source": [
    "| 옵션            | 역할                 | 로그에 출력되는 내용           | 예시                         |\n",
    "| ------------- | ------------------ | --------------------- | -------------------------- |\n",
    "| **MLOGIC**    | 매크로 실행 흐름 표시       | 매크로 시작/끝, `%IF` 조건 평가 | `%if`가 TRUE/FALSE로 나오는지 확인 |\n",
    "| **MPRINT**    | 매크로가 생성한 SAS 코드 표시 | 실제 실행된 DATA/PROC 구문   | 확장된 코드 확인                  |\n",
    "| **SYMBOLGEN** | 매크로 변수 치환 과정 표시    | `&var` → 값            | 매크로 변수 값 확인                |\n"
   ]
  },
  {
   "cell_type": "markdown",
   "id": "3e317212-1817-4f3f-96bb-9dba37261a6c",
   "metadata": {},
   "source": [
    "1. MLOGIC"
   ]
  },
  {
   "cell_type": "markdown",
   "id": "dbe9da09-2692-4280-a412-3131412c196f",
   "metadata": {},
   "source": [
    "- 매크로 실행 시, 매크로의 논리 흐름(logic)을 로그에 출력\n",
    "- 어떤 매크로가 호출됐는지, %IF 조건이 어떻게 평가됐는지 보여줌"
   ]
  },
  {
   "cell_type": "markdown",
   "id": "051cbf93-1e2d-4a52-8953-a23817c6a51e",
   "metadata": {},
   "source": [
    "```sas\n",
    "options mlogic;\n",
    "\n",
    "%macro test(x);\n",
    "   %if &x > 10 %then %put Greater than 10;\n",
    "   %else %put 10 or less;\n",
    "%mend;\n",
    "\n",
    "%test(5);\n",
    "```"
   ]
  },
  {
   "cell_type": "markdown",
   "id": "ff7fb928-838a-485b-b897-67322ddd7ab1",
   "metadata": {},
   "source": [
    "- log"
   ]
  },
  {
   "cell_type": "markdown",
   "id": "fe919a93-a680-461e-a8c7-20806845acd4",
   "metadata": {},
   "source": [
    "```sas\n",
    "MLOGIC(TEST):  Beginning execution.\n",
    "MLOGIC(TEST):  %IF condition &x > 10 is FALSE\n",
    "MLOGIC(TEST):  Ending execution.\n",
    "```"
   ]
  },
  {
   "cell_type": "markdown",
   "id": "6ae3b55f-e04e-4fe9-88e1-758f1252955b",
   "metadata": {},
   "source": [
    "2. MPRINT"
   ]
  },
  {
   "cell_type": "markdown",
   "id": "ac076bed-767f-44a0-9325-a14bac07d5c5",
   "metadata": {},
   "source": [
    "- 매크로 실행 시, 실제로 실행된 SAS 코드를 로그에 출력\n",
    "- 매크로가 어떤 DATA/PROC 구문으로 확장(expand)되는지 확인 가능"
   ]
  },
  {
   "cell_type": "markdown",
   "id": "ce561dae-0b86-4f87-b644-8a99e7cdf040",
   "metadata": {},
   "source": [
    "```sas\n",
    "options mprint;\n",
    "\n",
    "%macro step;\n",
    "   proc print data=sashelp.class(obs=5);\n",
    "   run;\n",
    "%mend;\n",
    "\n",
    "%step;\n",
    "```"
   ]
  },
  {
   "cell_type": "markdown",
   "id": "6e41d9e1-9b31-42cd-85af-f63aefaa7e29",
   "metadata": {},
   "source": [
    "- log"
   ]
  },
  {
   "cell_type": "markdown",
   "id": "dc5974c5-7b14-45d1-9f65-f9fb39c033da",
   "metadata": {},
   "source": [
    "```sas\n",
    "MPRINT(STEP):   proc print data=sashelp.class(obs=5);\n",
    "MPRINT(STEP):   run;\n",
    "```"
   ]
  },
  {
   "cell_type": "markdown",
   "id": "4bce9069-1766-4bb3-af51-ebfb5f7194b0",
   "metadata": {},
   "source": [
    "3. SYMBOLGEN"
   ]
  },
  {
   "cell_type": "markdown",
   "id": "b2bb47b3-cc1b-449c-aa44-ac266a7ac6bf",
   "metadata": {},
   "source": [
    "- 매크로 변수 치환 과정을 로그에 출력\n",
    "- 어떤 값으로 변환되는지 확인 가능"
   ]
  },
  {
   "cell_type": "markdown",
   "id": "a23db4a8-7a80-496c-9c9d-28ee494c2c15",
   "metadata": {},
   "source": [
    "```sas\n",
    "options symbolgen;\n",
    "\n",
    "%let name = Name;\n",
    "%put Hello, &name;\n",
    "```"
   ]
  },
  {
   "cell_type": "markdown",
   "id": "559c0d57-a623-4a51-bed2-b52aa334ee6b",
   "metadata": {},
   "source": [
    "- log"
   ]
  },
  {
   "cell_type": "markdown",
   "id": "ef8043bd-6211-4b4e-bcf2-3ce2b5839ee6",
   "metadata": {},
   "source": [
    "```sas\n",
    "SYMBOLGEN:  Macro variable NAME resolves to Name\n",
    "```"
   ]
  },
  {
   "cell_type": "markdown",
   "id": "d9c305cd-f46c-4344-8e53-f625cddbb65a",
   "metadata": {},
   "source": [
    "### %PUT 로그 확인"
   ]
  },
  {
   "cell_type": "markdown",
   "id": "b2399f7b-9351-4241-b26c-5f5b30cace2d",
   "metadata": {},
   "source": [
    "- 매크로 코드에서 메시지를 SAS 로그에 출력\n",
    "- 주로 디버깅, 매크로 변수 값 확인에 사용"
   ]
  },
  {
   "cell_type": "markdown",
   "id": "965f2a5f-45b2-449c-bab8-2d39082e6aee",
   "metadata": {},
   "source": [
    "| 사용법            | 설명           | 예시                  | 결과          |\n",
    "| -------------- | ------------ | ------------------- | ----------- |\n",
    "| `%put &var;`   | 매크로 변수 값 출력  | `%put &city;`       | London      |\n",
    "| `%put &=var;`  | 변수명=값 출력     | `%put &=city;`      | CITY=London |\n",
    "| `%put NOTE:` 등 | 로그 메시지 레벨 지정 | `%put NOTE: Hello;` | NOTE: Hello |\n",
    "| `%put _all_;`  | 모든 매크로 변수 표시 | `%put _all_;`       | 전역/자동 변수 목록 |\n"
   ]
  },
  {
   "cell_type": "markdown",
   "id": "0762cf63-d711-4758-aefc-39a93608a917",
   "metadata": {},
   "source": [
    "```sas\n",
    "%let name = Name;\n",
    "%put Hello, &name;\n",
    "```"
   ]
  },
  {
   "cell_type": "markdown",
   "id": "1ee80a7f-8caa-4610-9afb-6ab0bf4ecce3",
   "metadata": {},
   "source": [
    "- log"
   ]
  },
  {
   "cell_type": "markdown",
   "id": "42b5745c-2bcf-41b6-b7e9-a6b9c57d0587",
   "metadata": {},
   "source": [
    "```sas\n",
    "Hello, Name\n",
    "```"
   ]
  },
  {
   "cell_type": "markdown",
   "id": "85012155-b559-45c0-91a4-4da070257789",
   "metadata": {},
   "source": [
    "1. 매크로 변수 값 확인"
   ]
  },
  {
   "cell_type": "markdown",
   "id": "36b75c0a-6102-4764-a0ac-22fcca7dd454",
   "metadata": {},
   "source": [
    "```sas\n",
    "%let city = London;\n",
    "%put &=city;\n",
    "```"
   ]
  },
  {
   "cell_type": "markdown",
   "id": "478ae514-590d-4b02-be5e-39dfbd4f688f",
   "metadata": {},
   "source": [
    "- log"
   ]
  },
  {
   "cell_type": "markdown",
   "id": "86e4aa33-3313-4e83-b28f-9b71c3ea1ad0",
   "metadata": {},
   "source": [
    "```sas\n",
    "CITY=London\n",
    "```"
   ]
  },
  {
   "cell_type": "markdown",
   "id": "9e0cdb4b-a006-4917-a0f7-9d306c8c6ca9",
   "metadata": {},
   "source": [
    "-> &=변수명 형태로 쓰면 변수명=값 형태로 깔끔하게 출력됨"
   ]
  },
  {
   "cell_type": "markdown",
   "id": "78d91f8a-b231-41be-b515-8a4983f00356",
   "metadata": {},
   "source": [
    "2. 사용자 정의 메시지"
   ]
  },
  {
   "cell_type": "markdown",
   "id": "7d6c4ef9-b839-486c-9d0b-3f113fab8435",
   "metadata": {},
   "source": [
    "```sas\n",
    "%put NOTE: Macro started!;\n",
    "%put WARNING: Check input dataset;\n",
    "%put ERROR: Something went wrong;\n",
    "```"
   ]
  },
  {
   "cell_type": "markdown",
   "id": "af6a52a1-9370-4b11-ad57-39be84cccb4f",
   "metadata": {},
   "source": [
    "- log"
   ]
  },
  {
   "cell_type": "markdown",
   "id": "1bf5e0ef-f286-4d1c-bd2d-313a0a303c30",
   "metadata": {},
   "source": [
    "```sas\n",
    "NOTE: Macro started!\n",
    "WARNING: Check input dataset\n",
    "ERROR: Something went wrong\n",
    "```"
   ]
  },
  {
   "cell_type": "markdown",
   "id": "71a37d23-be4f-4e81-b4e1-9132df0e89ed",
   "metadata": {},
   "source": [
    "-> 실제 SAS 로그의 NOTE / WARNING / ERROR 스타일로 표시됨"
   ]
  },
  {
   "cell_type": "markdown",
   "id": "f534d175-ef2a-4282-adaf-40489581e131",
   "metadata": {},
   "source": [
    "3. 시스템 매크로 변수 출력"
   ]
  },
  {
   "cell_type": "markdown",
   "id": "375fc070-1c07-4285-80f6-bcdb3e9b764a",
   "metadata": {},
   "source": [
    "```sas\n",
    "%put _automatic_;   /* 자동 생성된 매크로 변수 */\n",
    "%put _user_;        /* 사용자가 만든 매크로 변수 */\n",
    "%put _all_;         /* 모든 매크로 변수 */\n",
    "```"
   ]
  },
  {
   "cell_type": "markdown",
   "id": "e0144902-c92c-4b86-af24-1c98fcce2272",
   "metadata": {},
   "source": [
    "```sas\n",
    "GLOBAL CITY London\n",
    "AUTOMATIC SYSDATE9 06SEP2025\n",
    "```"
   ]
  },
  {
   "cell_type": "markdown",
   "id": "c5cec8ed-c70a-442d-b079-a9777e4b0744",
   "metadata": {},
   "source": [
    "4. 디버깅 활용"
   ]
  },
  {
   "cell_type": "markdown",
   "id": "5e852f2c-7c0d-41f4-897e-b8ba3f7ba563",
   "metadata": {},
   "source": [
    "- 보통 MLOGIC, MPRINT, SYMBOLGEN 옵션과 같이 %PUT을 넣어 매크로 변수 값이 제대로 넘어오는지 확인"
   ]
  },
  {
   "cell_type": "markdown",
   "id": "336cb496-5493-47c0-9306-3b7a27626107",
   "metadata": {},
   "source": [
    "```sas\n",
    "%macro demo(x);\n",
    "   %put NOTE: Parameter X = &x;\n",
    "%mend;\n",
    "\n",
    "%demo(100);\n",
    "```"
   ]
  },
  {
   "cell_type": "markdown",
   "id": "78c62601-43b2-4ae5-8eeb-16b29ced8f14",
   "metadata": {},
   "source": [
    "- log"
   ]
  },
  {
   "cell_type": "markdown",
   "id": "8fd03028-5b96-457a-b3b7-7cc5c8dad452",
   "metadata": {},
   "source": [
    "```sas\n",
    "NOTE: Parameter X = 100\n",
    "```"
   ]
  },
  {
   "cell_type": "markdown",
   "id": "a215f433-4831-4658-acd8-07290320e46d",
   "metadata": {},
   "source": [
    "#### put vs putlog"
   ]
  },
  {
   "cell_type": "markdown",
   "id": "b5011a40-803d-4f23-9b6b-76180d85deea",
   "metadata": {},
   "source": [
    "- put\n",
    "    - %LET → 매크로 변수 name 생성 (Seoyeon)\n",
    "    - %PUT → 매크로 실행 시점에 로그에 문자열 출력\n",
    "    - 결과 (로그):"
   ]
  },
  {
   "cell_type": "markdown",
   "id": "a8deca01-bf7c-4dbb-b9d6-65ee4914aab6",
   "metadata": {},
   "source": [
    "```sas\n",
    "%let name=Mike;\n",
    "%put Hello, &name.;\n",
    "```"
   ]
  },
  {
   "cell_type": "markdown",
   "id": "64dd1034-79e1-46e1-9aa8-9be333245210",
   "metadata": {},
   "source": [
    "결과: Hellp, Mike"
   ]
  },
  {
   "cell_type": "markdown",
   "id": "8fbfd879-0d95-45f5-bac5-da408d5ff703",
   "metadata": {},
   "source": [
    "- put log\n",
    "    - DATA step 실행 중, putlog 문이 SAS 로그에 메시지 기록\n",
    "    - \"현재 값은 \" → 문자열 그대로 출력\n",
    "    - x= y= → 변수 이름과 값 함께 출력\n",
    "    - 결과 (로그):"
   ]
  },
  {
   "cell_type": "markdown",
   "id": "182567ec-a5a0-4002-912d-7d55128a7a15",
   "metadata": {},
   "source": [
    "```sas\n",
    "data _null_;\n",
    "   x = 10;\n",
    "   y = 20;\n",
    "   putlog \"현재 값은 \" x= y=;\n",
    "run;\n",
    "```"
   ]
  },
  {
   "cell_type": "markdown",
   "id": "22681819-79ae-4817-8a99-8b94414cbfb1",
   "metadata": {},
   "source": [
    "결과: 현재 값은 x=10 y=20"
   ]
  },
  {
   "cell_type": "markdown",
   "id": "9f8f08db-98fa-4c2c-9169-383941f33c9e",
   "metadata": {},
   "source": [
    "#### %put"
   ]
  },
  {
   "cell_type": "markdown",
   "id": "7449179d-eb3e-4b48-91bb-cb795796d962",
   "metadata": {},
   "source": [
    "- % put error:쓰고 log에 print 안 되게 한느 법"
   ]
  },
  {
   "cell_type": "markdown",
   "id": "d372c753-a85a-47e5-aba1-d5e656c87e6e",
   "metadata": {},
   "source": [
    "```sas\n",
    "%macro name;\n",
    "    options nonotes;\n",
    "    %put error: this is error.\n",
    "%name;\n",
    "```"
   ]
  },
  {
   "cell_type": "markdown",
   "id": "b6eccf88-b671-45f5-b8a5-0a9d104a1c60",
   "metadata": {},
   "source": [
    "- _USER_ 키워드는 사용자가 만든 모든 매크로 변수(전역 + 지역)를 로그에 보여줍니다."
   ]
  },
  {
   "cell_type": "markdown",
   "id": "336de893-e0d2-447f-898d-1f10676c2866",
   "metadata": {},
   "source": [
    "```sas\n",
    "%let global1=AAA;\n",
    "\n",
    "%macro demo;\n",
    "   %let local1=BBB;\n",
    "   %global global2;\n",
    "   %let global2=CCC;\n",
    "\n",
    "   %put ---- Inside macro ----;\n",
    "   %put _USER_;\n",
    "%mend;\n",
    "\n",
    "%demo\n",
    "\n",
    "%put ---- After macro ----;\n",
    "%put _USER_;\n",
    "```"
   ]
  },
  {
   "cell_type": "markdown",
   "id": "a9a072f8-5735-466d-b359-9391e01489d9",
   "metadata": {},
   "source": [
    "- log 결과"
   ]
  },
  {
   "cell_type": "markdown",
   "id": "600e09d3-ed59-4d9d-bdd0-613c38df4396",
   "metadata": {},
   "source": [
    "```sas\n",
    "GLOBAL GLOBAL1 AAA\n",
    "GLOBAL GLOBAL2 CCC\n",
    "LOCAL  LOCAL1 BBB\n",
    "\n",
    "---- After macro ----\n",
    "GLOBAL GLOBAL1 AAA\n",
    "GLOBAL GLOBAL2 CCC\n",
    "```"
   ]
  },
  {
   "cell_type": "markdown",
   "id": "8cd79da3-1d0e-4745-8661-49c4ce56392b",
   "metadata": {},
   "source": [
    "- `%put _ALL_`; → 자동변수 + 사용자 변수 + 시스템 변수 전부 다\n",
    "- `%put _AUTOMATIC_`; → 자동으로 제공되는 시스템 매크로 변수만\n",
    "- `%put _GLOBAL_`; → 글로벌 변수만\n",
    "- `%put _LOCAL_`; → 매크로 실행 중일 때만 로컬 변수만"
   ]
  },
  {
   "cell_type": "markdown",
   "id": "0a2d3b92-df79-4254-9e71-f4bebfa1fa40",
   "metadata": {},
   "source": [
    "```sas\n",
    "proc sql noprint;\n",
    "    select name\n",
    "    into :namelist separated by ','\n",
    "    into :n1 - :n5\n",
    "    into :avg_h, :avg_w\n",
    "    from sashelp.class\n",
    "    where sex='F';\n",
    "quit;\n",
    "```"
   ]
  },
  {
   "cell_type": "markdown",
   "id": "4578b674-6180-48f2-87ce-4f97dc36771b",
   "metadata": {},
   "source": [
    "## 데이터 기반 매크로"
   ]
  },
  {
   "cell_type": "markdown",
   "id": "bd82de3d-69b6-434b-af66-09f91797d62a",
   "metadata": {},
   "source": [
    "### 간접참조&&"
   ]
  },
  {
   "cell_type": "markdown",
   "id": "6642046a-7cb5-4121-891a-05a39c0c0a5d",
   "metadata": {},
   "source": [
    "- 매크로 변수 이름을 다른 매크로 변수 값으로부터 동적으로 만들어서 참조하는 것.\n",
    "- && 조합은 치환 과정에서 단계적으로 풀리면서 최종 매크로 변수로 변환됨."
   ]
  },
  {
   "cell_type": "markdown",
   "id": "418f0818-f90d-4449-8f79-e040d38cc659",
   "metadata": {},
   "source": [
    "- 아래와 같은 매크로 변수들이 있을 때, `var1=Height, var2=Weight, var3=Age`. 루프를 이용해 차례대로 변수명을 출력하시오.\n",
    "    - `&&var&i → &var1 → Height`, 두 번 풀려서 최종적으로 변수명이 나옴"
   ]
  },
  {
   "cell_type": "markdown",
   "id": "efcfb05c-a5a7-4255-9861-ff316a2b1553",
   "metadata": {},
   "source": [
    "```sas\n",
    "%let var1=Height;\n",
    "%let var2=Weight;\n",
    "%let var3=Age;\n",
    "\n",
    "%macro show;\n",
    "   %do i=1 %to 3;\n",
    "      %put &&var&i;\n",
    "   %end;\n",
    "%mend;\n",
    "\n",
    "%show\n",
    "```"
   ]
  },
  {
   "cell_type": "markdown",
   "id": "61b9cdad-4cbc-440f-8498-c892a9d9b382",
   "metadata": {},
   "source": [
    "## Dictionary table 기반 매크로"
   ]
  },
  {
   "cell_type": "markdown",
   "id": "04c186ad-70e3-4a01-8dcf-ea1a36f525f9",
   "metadata": {},
   "source": [
    "### 반복적 매크로 호출 생성"
   ]
  },
  {
   "cell_type": "markdown",
   "id": "526ac6e3-e595-4a8a-a5ee-f7c2192c9b8b",
   "metadata": {},
   "source": [
    "1. 간단한 반복문으로 매크로 호출"
   ]
  },
  {
   "cell_type": "markdown",
   "id": "83e2144a-20c0-45aa-9f7c-46b628a51aea",
   "metadata": {},
   "source": [
    "```sas\n",
    "%macro call_loop;\n",
    "   %do i=1 %to 3;\n",
    "      %put This is loop number &i;\n",
    "   %end;\n",
    "%mend;\n",
    "\n",
    "%call_loop;\n",
    "```"
   ]
  },
  {
   "cell_type": "markdown",
   "id": "ba772266-0284-42a6-af5a-a3a1b2afff22",
   "metadata": {},
   "source": [
    "- log"
   ]
  },
  {
   "cell_type": "markdown",
   "id": "038f3928-8792-4c16-9738-b6f607fb79b8",
   "metadata": {},
   "source": [
    "```sas\n",
    "This is loop number 1\n",
    "This is loop number 2\n",
    "This is loop number 3\n",
    "```"
   ]
  },
  {
   "cell_type": "markdown",
   "id": "d4ece222-955b-4c18-850e-961afa7c8e86",
   "metadata": {},
   "source": [
    "2. 매크로 변수 리스트 기반 반복 호출"
   ]
  },
  {
   "cell_type": "markdown",
   "id": "6f316753-f34c-4172-a5bc-f45495a5ff86",
   "metadata": {},
   "source": [
    "```sas\n",
    "%let city1=Seoul;\n",
    "%let city2=London;\n",
    "%let city3=Paris;\n",
    "\n",
    "%macro city_loop;\n",
    "   %do i=1 %to 3;\n",
    "      %put City: &&city&i;\n",
    "   %end;\n",
    "%mend;\n",
    "\n",
    "%city_loop;\n",
    "```"
   ]
  },
  {
   "cell_type": "markdown",
   "id": "de8d1c74-4dae-47e7-b9db-89ef72499da9",
   "metadata": {},
   "source": [
    "```sas\n",
    "City: Seoul\n",
    "City: London\n",
    "City: Paris\n",
    "```"
   ]
  },
  {
   "cell_type": "markdown",
   "id": "882216a8-69bc-4817-aceb-f5ebc8d4c464",
   "metadata": {},
   "source": [
    "-> 여기서 간접참조(&&) 활용됨 → &&city&i → &city1, &city2, &city3"
   ]
  },
  {
   "cell_type": "markdown",
   "id": "eb800e13-613f-4997-8f91-79fab988a91e",
   "metadata": {},
   "source": [
    "3. SQL INTO: 이용해서 매크로 호출 생성"
   ]
  },
  {
   "cell_type": "markdown",
   "id": "7e4260d8-1a57-4706-b825-4f1a777f987d",
   "metadata": {},
   "source": [
    "- 데이터셋 값으로 반복 호출할 수도 있음."
   ]
  },
  {
   "cell_type": "markdown",
   "id": "b16edc71-f0db-4300-9636-3665340f96f3",
   "metadata": {},
   "source": [
    "```sas\n",
    "proc sql noprint;\n",
    "   select name\n",
    "   into :namelist separated by ' '\n",
    "   from sashelp.class(obs=3);\n",
    "quit;\n",
    "\n",
    "%macro run_names;\n",
    "   %let n=%sysfunc(countw(&namelist));\n",
    "   %do i=1 %to &n;\n",
    "      %let one=%scan(&namelist,&i);\n",
    "      %put Student: &one;\n",
    "   %end;\n",
    "%mend;\n",
    "\n",
    "%run_names;\n",
    "```"
   ]
  },
  {
   "cell_type": "markdown",
   "id": "0844477e-3603-4342-9ef7-042902bcd4ba",
   "metadata": {},
   "source": [
    "```sas\n",
    "Student: Alfred\n",
    "Student: Alice\n",
    "Student: Barbara\n",
    "```"
   ]
  },
  {
   "cell_type": "markdown",
   "id": "43330ab0-bb91-46c9-804f-384a91ac4fff",
   "metadata": {},
   "source": [
    "4. 매크로 호출 자체를 반복적으로 생성"
   ]
  },
  {
   "cell_type": "markdown",
   "id": "73551ee9-182c-469b-a2c4-6a9d873f3234",
   "metadata": {},
   "source": [
    "- 예를 들어 proc print를 여러 데이터셋에 대해 자동 실행:"
   ]
  },
  {
   "cell_type": "markdown",
   "id": "617c289a-7d84-444b-9ac0-82e6df9364c2",
   "metadata": {},
   "source": [
    "```sas\n",
    "%macro print_multi(dsnlist);\n",
    "   %let n=%sysfunc(countw(&dsnlist));\n",
    "   %do i=1 %to &n;\n",
    "      %let one=%scan(&dsnlist,&i);\n",
    "      proc print data=&one(obs=3);\n",
    "      run;\n",
    "   %end;\n",
    "%mend;\n",
    "\n",
    "%print_multi(sashelp.class sashelp.cars sashelp.iris);\n",
    "```"
   ]
  },
  {
   "cell_type": "markdown",
   "id": "b8c0a62e-6b6b-474a-9d33-72cdea90ed77",
   "metadata": {},
   "source": [
    "-> 3개 데이터셋 각각에 대해 proc print 실행"
   ]
  },
  {
   "cell_type": "markdown",
   "id": "f5716f00",
   "metadata": {},
   "source": [
    "## minoperator\n"
   ]
  },
  {
   "cell_type": "markdown",
   "id": "e0bb6164",
   "metadata": {},
   "source": [
    "- minoperator는 in을 쓸 수 있게 해줌"
   ]
  },
  {
   "cell_type": "markdown",
   "id": "9857e0fb",
   "metadata": {},
   "source": [
    "```sas\n",
    "%macro avgfuel(loc) / minoperator;\n",
    "%else %if &loc in ASIA EUROPE %then %do;\n",
    "```"
   ]
  },
  {
   "cell_type": "markdown",
   "id": "d8c91353-4659-4195-8934-061e6261840a",
   "metadata": {},
   "source": [
    "## 오늘 날짜 표현 방법"
   ]
  },
  {
   "cell_type": "markdown",
   "id": "fe10867b-37be-4c00-9270-10562a8c4c60",
   "metadata": {},
   "source": [
    "- 방법 1: `%SYSFUNC + date()`\n",
    "    - date() 함수 → 현재 날짜 (SAS 일련번호, 1960/01/01 기준)\n",
    "    - date9. 포맷 → 26AUG2025 형태"
   ]
  },
  {
   "cell_type": "markdown",
   "id": "cd804821-5001-4957-bdfc-71fed52df20b",
   "metadata": {},
   "source": [
    "```sas\n",
    "%let today=%sysfunc(date(), date9.);\n",
    "%put &=today;\n",
    "```"
   ]
  },
  {
   "cell_type": "markdown",
   "id": "a43e30cb-c848-442a-b436-0d394209b36c",
   "metadata": {},
   "source": [
    "- 방법 2: `%SYSFUNC + today()`\n",
    "    - today() 함수도 현재 날짜 반환 (date()와 동일)\n",
    "    - 다른 포맷 사용 가능 (yymmdd10. → 2025-08-26)"
   ]
  },
  {
   "cell_type": "markdown",
   "id": "48437ed0-886c-4c31-8feb-3e5454766824",
   "metadata": {},
   "source": [
    "```sas\n",
    "%let today=%sysfunc(today(), yymmdd10.);\n",
    "%put &=today;\n",
    "```"
   ]
  },
  {
   "cell_type": "markdown",
   "id": "2db47e73-c456-47a6-b8f0-d55894fcf171",
   "metadata": {},
   "source": [
    "- 방법 3: `datetime()`\n",
    "    - 현재 날짜+시간 출력 (26AUG2025:15:30:45)"
   ]
  },
  {
   "cell_type": "markdown",
   "id": "9ac8a545-7975-4d5d-ac32-ad27693819cb",
   "metadata": {},
   "source": [
    "```sas\n",
    "%let now=%sysfunc(datetime(), datetime20.);\n",
    "%put &=now;\n",
    "```"
   ]
  },
  {
   "cell_type": "markdown",
   "id": "8a79e79d-a501-42ff-8c93-db61160f37bd",
   "metadata": {},
   "source": [
    "- 방법 4: `%sysfunc(today(), worddate.)`\n",
    "    - 결과: 26 August 2025 (가독성 좋은 문자열)"
   ]
  },
  {
   "cell_type": "markdown",
   "id": "b010543b-1092-43ac-80e0-09bd168604cd",
   "metadata": {},
   "source": [
    "```sas\n",
    "%let today=%sysfunc(today(), worddate.);\n",
    "%put &=today;\n",
    "```"
   ]
  },
  {
   "cell_type": "markdown",
   "id": "4f1c6823-3cf7-4d17-b5d9-3fd2a99642f8",
   "metadata": {},
   "source": [
    "- 방법 5: `%sysfunc(today(), weekdate.)`\n",
    "    - 결과: Tuesday, August 26, 2025"
   ]
  },
  {
   "cell_type": "markdown",
   "id": "39013175-2cca-43c9-a82e-ef9b790542fb",
   "metadata": {},
   "source": [
    "```sas\n",
    "%let today=%sysfunc(today(), weekdate.);\n",
    "%put &=today;\n",
    "```"
   ]
  },
  {
   "cell_type": "markdown",
   "id": "9e71ecc8-b2af-4721-9ee0-b898c5fccc8b",
   "metadata": {},
   "source": [
    "- 방법 6: 시스템 매크로 변수 활용 `(&sysdate9, &sysdatetime)`\n",
    "    - SAS 자동 제공 시스템 매크로 변수 사용\n",
    "    - 형식은 고정되어 있음"
   ]
  },
  {
   "cell_type": "markdown",
   "id": "159b559b-30fe-4730-985b-3ee15ae97bec",
   "metadata": {},
   "source": [
    "```sas\n",
    "%put &=sysdate9;      /* 26AUG2025 */\n",
    "%put &=sysdate;       /* 26AUG25   */\n",
    "%put &=sysdatetime;   /* 26AUG25:15:30:45 */\n",
    "```"
   ]
  },
  {
   "cell_type": "markdown",
   "id": "abafd196-5f25-4d8c-9125-b21f4b60139f",
   "metadata": {},
   "source": [
    "# Advanced Tech"
   ]
  },
  {
   "cell_type": "markdown",
   "id": "1c22468e-61fe-40da-8659-c71a98ac72e1",
   "metadata": {},
   "source": [
    "## 배열 (Array)"
   ]
  },
  {
   "cell_type": "markdown",
   "id": "852649c8-9d44-45d5-a38f-2caef1a2c516",
   "metadata": {},
   "source": [
    "| 항목                  | 설명                   | 예시                                |\n",
    "| ------------------- | -------------------- | --------------------------------- |\n",
    "| **문자형/숫자형 배열**      | `$` 기호 여부로 문자/숫자형 구분 | `array names[3] $ name1-name3;`   |\n",
    "| **DIM 함수**          | 배열 길이 반환             | `dim(scores)`                     |\n",
    "| **Temporary array** | 변수와 연결 안 됨, 메모리에만 존재 | `array temp[3] _temporary_;`      |\n",
    "| **Dataset 값 초기화**   | 데이터셋 값이나 직접 값으로 초기화  | `array nums[5] (10 20 30 40 50);` |\n"
   ]
  },
  {
   "cell_type": "markdown",
   "id": "96f7a16c-65c9-4304-97a9-b2dbeba62d1f",
   "metadata": {},
   "source": [
    "### 문자형/숫자형 배열"
   ]
  },
  {
   "cell_type": "markdown",
   "id": "eec5cb2e-9e35-4e90-9187-d1660490bd9f",
   "metadata": {},
   "source": [
    "숫자형 배열 (기본)"
   ]
  },
  {
   "cell_type": "markdown",
   "id": "0d1afad9-3003-44f5-9052-42b0d22d7263",
   "metadata": {},
   "source": [
    "```sas\n",
    "data example;\n",
    "   array scores[3] score1-score3;\n",
    "   input score1-score3;\n",
    "   datalines;\n",
    "10 20 30\n",
    ";\n",
    "run;\n",
    "```"
   ]
  },
  {
   "cell_type": "markdown",
   "id": "c994c1bc-d363-4100-95eb-6d09c921b19b",
   "metadata": {},
   "source": [
    "-> score1, score2, score3가 배열 scores[1], scores[2], scores[3]로 참조 가능"
   ]
  },
  {
   "cell_type": "markdown",
   "id": "a8258952-f9c3-4103-8793-0940cac89e08",
   "metadata": {},
   "source": [
    "문자형 배열"
   ]
  },
  {
   "cell_type": "markdown",
   "id": "8355180a-7e4c-451f-ba7e-eb61878fd1ea",
   "metadata": {},
   "source": [
    "- array 선언 시 $ 기호로 문자형 선언"
   ]
  },
  {
   "cell_type": "markdown",
   "id": "6eadac6d-5887-48f2-8e54-0f30b3236485",
   "metadata": {},
   "source": [
    "```sas\n",
    "data example;\n",
    "   array names[3] $ name1-name3;\n",
    "   input name1 $ name2 $ name3 $;\n",
    "   datalines;\n",
    "Kim Lee Park\n",
    ";\n",
    "run;\n",
    "```"
   ]
  },
  {
   "cell_type": "markdown",
   "id": "a77fa6cc-4131-4f09-a81b-71f9cefbf0f0",
   "metadata": {},
   "source": [
    "-> names[1] = Kim, names[2] = Lee, names[3] = Park"
   ]
  },
  {
   "cell_type": "markdown",
   "id": "7cb2c4b5-0c01-4578-b29d-7b34619cdab1",
   "metadata": {},
   "source": [
    "### DIM 함수"
   ]
  },
  {
   "cell_type": "markdown",
   "id": "5485a9de-b9c8-4d96-947f-da2bf37ef1fc",
   "metadata": {},
   "source": [
    "배열의 크기(요소 개수) 반환"
   ]
  },
  {
   "cell_type": "markdown",
   "id": "bcab5910-d59c-41a5-82d9-0baec08e88d1",
   "metadata": {},
   "source": [
    "```sas\n",
    "data example;\n",
    "   array nums[5] (1 2 3 4 5);\n",
    "   do i=1 to dim(nums);\n",
    "      put nums[i]=;\n",
    "   end;\n",
    "run;\n",
    "```"
   ]
  },
  {
   "cell_type": "markdown",
   "id": "85469d48-ac2b-4178-be33-b3195db9c7e0",
   "metadata": {},
   "source": [
    "- DIM(arrayname) → 배열 길이\n",
    "- LBOUND / HBOUND도 있음 (배열 시작/끝 인덱스)"
   ]
  },
  {
   "cell_type": "markdown",
   "id": "cfc040d1-ed8c-4486-8af2-b362de2a9b66",
   "metadata": {},
   "source": [
    "### Temporary array"
   ]
  },
  {
   "cell_type": "markdown",
   "id": "bc3a6107-4bb5-4d40-ac1b-07df74b7d9cc",
   "metadata": {},
   "source": [
    "데이터셋 변수와 연결되지 않고, 프로그램 실행 중에만 존재하는 배열 (메모리에서만 사용)"
   ]
  },
  {
   "cell_type": "markdown",
   "id": "1f9fcdb0-733e-421c-a35b-55f618f84d27",
   "metadata": {},
   "source": [
    "```sas\n",
    "data temp_array;\n",
    "   array temp[3] _temporary_;\n",
    "   do i=1 to 3;\n",
    "      temp[i] = i*10;\n",
    "      put temp[i]=;\n",
    "   end;\n",
    "run;\n",
    "```"
   ]
  },
  {
   "cell_type": "markdown",
   "id": "0ec2d261-d360-4a34-96ef-06d6a4b24348",
   "metadata": {},
   "source": [
    "- 실제 데이터셋에는 저장되지 않음\n",
    "- 반복 계산용, lookup table 용도로 활용"
   ]
  },
  {
   "cell_type": "markdown",
   "id": "0fda82eb-7e22-402e-8440-8c145bda8f54",
   "metadata": {},
   "source": [
    "### Dataset 값으로 초기화"
   ]
  },
  {
   "cell_type": "markdown",
   "id": "5de5f868-548c-4f3a-9634-944d6de78f7b",
   "metadata": {},
   "source": [
    "배열을 데이터셋 값으로 채움 (array + set)"
   ]
  },
  {
   "cell_type": "markdown",
   "id": "7897fe08-2898-43ad-af3a-e664c9e4c526",
   "metadata": {},
   "source": [
    "```sas\n",
    "data init_array;\n",
    "   set scores_dataset;  /* dataset의 값 읽어오기 */\n",
    "   array scores[3] score1-score3;\n",
    "   do i=1 to dim(scores);\n",
    "      put scores[i]=;\n",
    "   end;\n",
    "run;\n",
    "```"
   ]
  },
  {
   "cell_type": "markdown",
   "id": "64f69762-3827-4422-9d5f-e66f821a9d5b",
   "metadata": {},
   "source": [
    "또는 DATA step 안에서 직접 초기화"
   ]
  },
  {
   "cell_type": "markdown",
   "id": "4c695d5f-dc15-40da-afa1-8d3cc962eb65",
   "metadata": {},
   "source": [
    "```sas\n",
    "data init_array;\n",
    "array nums[5] (10 20 30 40 50);\n",
    "   do i=1 to dim(nums);\n",
    "      put nums[i]=;\n",
    "   end;\n",
    "run;\n",
    "```"
   ]
  },
  {
   "cell_type": "markdown",
   "id": "5034d702-97ac-4d40-a28e-06a5bed3470d",
   "metadata": {},
   "source": [
    "### 시험에서"
   ]
  },
  {
   "cell_type": "markdown",
   "id": "12de18b8-c9c4-4a7a-b657-e12c0b7f29a9",
   "metadata": {},
   "source": [
    "- 이렇게 하면 7,8,9 이렇게 3개 가져옴"
   ]
  },
  {
   "cell_type": "markdown",
   "id": "28bae27d-9a29-4f98-b49b-d3759aac72c3",
   "metadata": {},
   "source": [
    "```sas\n",
    "array Farenht [7:9] Temp7-Temp9;\n",
    "array Celsius [7:9] TempC7-TempC9;\n",
    "```"
   ]
  },
  {
   "cell_type": "markdown",
   "id": "55e36d99-64a8-40c6-a377-a8549070f023",
   "metadata": {},
   "source": [
    "- 또는 이렇게 해서 한 번에 4개 나열"
   ]
  },
  {
   "cell_type": "markdown",
   "id": "99f0080d-a4fa-4510-b582-382e0b976116",
   "metadata": {},
   "source": [
    "```sas\n",
    "array Status[4] $ 5 StatusQ1-StatusQ4;\n",
    "```"
   ]
  },
  {
   "cell_type": "markdown",
   "id": "89f955dd-7abd-4464-b437-86abda442914",
   "metadata": {},
   "source": [
    "- 2행 3열로 나타남"
   ]
  },
  {
   "cell_type": "markdown",
   "id": "cd8ab5b8-ec81-49cc-80b8-8e40338b0c88",
   "metadata": {},
   "source": [
    "```sas\n",
    "array Avg [2013:2014,3] (40.9, 40.7, 38.6, 42.5, 42.6, 45.4): \n",
    "```"
   ]
  },
  {
   "cell_type": "markdown",
   "id": "3f1eedc3-c585-4937-b80f-785a53459290",
   "metadata": {},
   "source": [
    "- _N_ = 1일 때만 작동 → 즉, 한 번의 데이터 스텝 실행 중에 array_data의 두 줄 모두 처리함.\n",
    "- set array_data는 두 번 호출되며 각 줄을 Row=1, Row=2로 저장\n",
    "- 배열의 메모리 배치 순서: TwoD[1,1] → TwoD[1,2] → TwoD[1,3] → TwoD[2,1] → TwoD[2,2] → TwoD[2,3]\n",
    "\n",
    "Row=1 → OneD = Jack, Mary, Sally\n",
    "- TwoD[1,1] = Jack\n",
    "- TwoD[1,2] = Mary\n",
    "- TwoD[1,3] = Sally\n",
    "\n",
    "Row=2 → OneD = Christy, John, Marty\n",
    "- TwoD[2,1] = Christy\n",
    "- TwoD[2,2] = John\n",
    "- TwoD[2,3] = Marty"
   ]
  },
  {
   "cell_type": "markdown",
   "id": "1727bd23-a620-42cd-92a3-b0db2a5b9004",
   "metadata": {},
   "source": [
    "```sas\n",
    "data new_data(drop=Row Column);\n",
    "  array TwoD[2,3] $;           /* 2행 3열 문자형 배열 선언 */\n",
    "  retain TwoD1-TwoD6;          /* 배열 값을 유지 */\n",
    "  \n",
    "  if _N_ = 1 then do Row = 1 to 2;   /* 최초 실행 시 2개의 행 처리 */\n",
    "    set array_data;                 /* 한 줄씩 읽음 */\n",
    "    \n",
    "    array OneD[3] Name1-Name3;      /* Name1~Name3을 1차원 배열로 묶음 */\n",
    "    \n",
    "    do Column = 1 to 3;\n",
    "      TwoD[Row, Column] = OneD[Column];   /* 값을 2차원 배열에 저장 */\n",
    "    end;\n",
    "  end;\n",
    "run;\n",
    "```"
   ]
  },
  {
   "cell_type": "markdown",
   "id": "11475c3e-d411-43d1-bd2a-9390781edf48",
   "metadata": {},
   "source": [
    "## Hash object"
   ]
  },
  {
   "cell_type": "markdown",
   "id": "65bdee50-2ce6-4643-8e4e-8040c9bb9c2e",
   "metadata": {},
   "source": [
    "| 구분           | 키워드 / 메서드                                                        | 설명                       |\n",
    "| ------------ | ---------------------------------------------------------------- | ------------------------ |\n",
    "| **선언**       | `declare hash h`, `declare hiter hi(\"h\")`                        | 해시 객체, 반복자 생성            |\n",
    "| **주요 메서드**   | `defineKey`, `defineData`, `defineDone`, `find`, `add`, `output` | key–data 구조 정의, 검색/추가/출력 |\n",
    "| **Iterator** | `first`, `next`, `last`, `prev`                                  | key 순서로 순회               |\n",
    "| **활용**       | Lookup table, 정렬, 순회                                             | merge 대체, 빠른 검색, 정렬 처리   |\n"
   ]
  },
  {
   "cell_type": "markdown",
   "id": "01309da1-7462-4c3d-90c9-d1177ba9075d",
   "metadata": {},
   "source": [
    "### 선언: DECLARE HASH, DECLARE HITER"
   ]
  },
  {
   "cell_type": "markdown",
   "id": "19d7a6ac-6094-4504-ae11-ec93be1c592e",
   "metadata": {},
   "source": [
    "- Hash 객체 생성"
   ]
  },
  {
   "cell_type": "markdown",
   "id": "c19c7e17-e689-42c4-b2f6-014452758e74",
   "metadata": {},
   "source": [
    "```sas\n",
    "declare hash h(dataset:\"mydata\");\n",
    "```"
   ]
  },
  {
   "cell_type": "markdown",
   "id": "042ff4f7-9cb1-4d4d-9505-fb78c0d7c7de",
   "metadata": {},
   "source": [
    "- Iterator 생성 (순회용)"
   ]
  },
  {
   "cell_type": "markdown",
   "id": "5fcee95f-40ed-43ff-920d-908a18f1eba3",
   "metadata": {},
   "source": [
    "```sas\n",
    "declare hiter hi(\"h\");\n",
    "```"
   ]
  },
  {
   "cell_type": "markdown",
   "id": "b2b73d82-b574-48f3-972d-ca056248106a",
   "metadata": {},
   "source": [
    "-> h는 해시 객체 이름, hi는 반복자(iterator)"
   ]
  },
  {
   "cell_type": "markdown",
   "id": "dba483ef-5f94-4b1e-8a33-a2390a542587",
   "metadata": {},
   "source": [
    "### 주요 메서드: DEFINEKEY, DEFINEDATA, DEFINEDONE, FIND, ADD, OUTPUT"
   ]
  },
  {
   "cell_type": "markdown",
   "id": "6f08f27a-47f0-4124-8352-8d0451330ba2",
   "metadata": {},
   "source": [
    "| 메서드            | 설명                  |\n",
    "| -------------- | ------------------- |\n",
    "| **defineKey**  | 해시의 key 지정 (중복 불가)  |\n",
    "| **defineData** | 저장할 데이터 변수 지정       |\n",
    "| **defineDone** | 선언 종료 (필수)          |\n",
    "| **find**       | key 값으로 검색          |\n",
    "| **add**        | 새로운 key–data 쌍 추가   |\n",
    "| **output**     | 해시 객체 내용을 데이터셋으로 출력 |\n"
   ]
  },
  {
   "cell_type": "markdown",
   "id": "e43a896d-3ced-4295-a6d9-86aa0ca59f5a",
   "metadata": {},
   "source": [
    "```sas\n",
    "if _N_=1 then do;\n",
    "   declare hash h();\n",
    "   h.defineKey(\"id\");\n",
    "   h.defineData(\"name\",\"age\");\n",
    "   h.defineDone();\n",
    "end;\n",
    "\n",
    "rc = h.add();   /* 현재 PDV 값으로 추가 */\n",
    "rc = h.find();  /* key 값으로 검색 */\n",
    "```"
   ]
  },
  {
   "cell_type": "markdown",
   "id": "2f1ab225-7306-427c-9b4e-f20d8ff7e0c8",
   "metadata": {},
   "source": [
    "### Iterator: FIRST, NEXT, LAST, PREV"
   ]
  },
  {
   "cell_type": "markdown",
   "id": "523b0dcd-4559-4b75-82e4-c71db86aafd7",
   "metadata": {},
   "source": [
    "| 메서드         | 설명           |\n",
    "| ----------- | ------------ |\n",
    "| **first()** | 첫 번째 key로 이동 |\n",
    "| **next()**  | 다음 key로 이동   |\n",
    "| **last()**  | 마지막 key로 이동  |\n",
    "| **prev()**  | 이전 key로 이동   |\n"
   ]
  },
  {
   "cell_type": "markdown",
   "id": "86030038-2e4b-4625-abfd-ea9fd75528cb",
   "metadata": {},
   "source": [
    "```sas\n",
    "if _N_=1 then do;\n",
    "   declare hiter hi(\"h\");\n",
    "end;\n",
    "\n",
    "rc = hi.first();\n",
    "do while (rc=0);\n",
    "   put id= name= age=;\n",
    "   rc = hi.next();\n",
    "end;\n",
    "```"
   ]
  },
  {
   "cell_type": "markdown",
   "id": "68554448-8541-4035-8b23-6b6c3671ac24",
   "metadata": {},
   "source": [
    "### 활용: Lookup table, 정렬, 순회"
   ]
  },
  {
   "cell_type": "markdown",
   "id": "7f515813-77eb-489f-b9ef-16d0d8622645",
   "metadata": {},
   "source": [
    "- Lookup Table\n",
    "    - 작은 데이터셋을 메모리에 로딩 후 key 기반 검색 (데이터 step merge 대신 고속 검색)\n",
    "- 정렬(Sort)\n",
    "    - key 순서로 정렬된 순회 가능 (hiter.first(), hiter.next())\n",
    "- 순회(Iteration)\n",
    "    - 전체 key–data 쌍을 순회하며 처리"
   ]
  },
  {
   "cell_type": "markdown",
   "id": "5ee2dcf6-0f18-413f-a7d5-a70d292dd9e0",
   "metadata": {},
   "source": [
    "### hash 데이터셋 output하는 법"
   ]
  },
  {
   "cell_type": "markdown",
   "id": "0b0fa4ca-1195-4ce8-9191-3c031485450e",
   "metadata": {},
   "source": [
    "`-`"
   ]
  },
  {
   "cell_type": "markdown",
   "id": "41349b4a-77a9-4d39-8a8d-ca42ab2e43c9",
   "metadata": {},
   "source": [
    "```sas\n",
    "data example1;\n",
    "    if _n_=1 then do;\n",
    "        declare hash h(dataset:\"sashelp.class\");\n",
    "        h.defineKey(\"name\");             /* 키 */\n",
    "        h.defineData(\"age\",\"height\",\"weight\"); /* 데이터 */\n",
    "        h.defineDone();\n",
    "    end;\n",
    "    set sashelp.class(keep=name);        /* 왼쪽 데이터 */\n",
    "    rc = h.find();                       /* 키로 찾기 */\n",
    "    if rc=0 then output;                 /* 매칭된 경우 출력 */\n",
    "    drop rc;\n",
    "run;\n",
    "```"
   ]
  },
  {
   "cell_type": "markdown",
   "id": "7f22603f-7369-4b6d-a835-5876e8f2ddb6",
   "metadata": {},
   "source": [
    "`-`"
   ]
  },
  {
   "cell_type": "markdown",
   "id": "f64baf22",
   "metadata": {},
   "source": [
    "```sas\n",
    "data work.StateCityPopulation; \n",
    "    if _N_=1 then do; \n",
    "        if 0 then set pg3.population.usstates; \n",
    "        declare hash States(dataset:'pg3.population_usstates'); \n",
    "        States.definekey('StateName'); \n",
    "        States.definedata('Capital', 'StatePop2017'); \n",
    "        States.definedone(); \n",
    "        end; \n",
    "    set pg3.population uscities; \n",
    "    StateName=stnamel(StateCode): \n",
    "    RC=States. find(key:StateName); \n",
    "    *(해시 객체 States에서 주 이름(StateName)을 키로 검색해서 해당 Capital과 StatePop2017 값을 찾아서 자동으로 변수에 바인딩합니다 성공 시 RC = 0);\n",
    "        if RC ne 0 then call missing(Capital, StatePop2017);\n",
    "        *(해시에서 값을 찾지 못했을 경우, Capital과 StatePop2017 값을 명시적으로 결측 처리합니다.)\n",
    "        PctPop«CityPop2017/StatePop2017; \n",
    "        format StatePop2017 comma14. PctPop percent8.1; \n",
    "        (해당하는 거만 데이터셋 만들어지게 하려면)\n",
    "            if RC = 0 then do;  /* 🔍 lookup 성공한 경우에만 */\n",
    "                PctPop = CityPop2017 / StatePop2017;\n",
    "                format StatePop2017 comma14. PctPop percent8.1;\n",
    "                output;           /* ✅ 해당 행만 데이터셋에 저장 */\n",
    "        end;\n",
    "    ()\n",
    "run;\n",
    "```"
   ]
  },
  {
   "cell_type": "markdown",
   "id": "9f156cf6-7da7-4f03-88b5-248bbce15464",
   "metadata": {},
   "source": [
    "### hiter"
   ]
  },
  {
   "cell_type": "markdown",
   "id": "ef975481-830d-40f4-8d44-4c00767b8887",
   "metadata": {},
   "source": [
    "```sas\n",
    "data test;\n",
    "   input id name $ age;\n",
    "   datalines;\n",
    "1 Alice 14\n",
    "2 Bob 15\n",
    "3 Carol 13\n",
    ";\n",
    "run;\n",
    "\n",
    "data _null_;\n",
    "   if _N_ = 1 then do;\n",
    "      declare hash h(dataset:\"test\");\n",
    "      h.definekey(\"id\");\n",
    "      h.definedata(\"id\",\"name\",\"age\");\n",
    "      h.definedone();\n",
    "\n",
    "      declare hiter hi(\"h\");\n",
    "   end;\n",
    "\n",
    "   rc = hi.first();\n",
    "   do while (rc = 0);\n",
    "      putlog id= name= age=;\n",
    "      rc = hi.next();\n",
    "   end;\n",
    "run;\n",
    "\n",
    "```"
   ]
  },
  {
   "cell_type": "markdown",
   "id": "9bf2f480-baea-493c-be2c-b3c1b15b4536",
   "metadata": {},
   "source": [
    "- `hiter`는 iterator로, 순회하면서 데이터 검색한다.\n",
    "- `hi.first()`로 첫번째 정해놓고,\n",
    "- `do while`로 rc가 0이 나올때까지 rc 검색"
   ]
  },
  {
   "cell_type": "markdown",
   "id": "881a99eb-2c55-4222-96ae-fa469ccc146a",
   "metadata": {},
   "source": [
    "| 구분         | `find`                      | `hiter`                    |\n",
    "| ---------- | --------------------------- | -------------------------- |\n",
    "| 방식         | key 값 직접 지정                 | 모든 key 순회                  |\n",
    "| 반환 범위      | 단일 key                      | 전체 key                     |\n",
    "| 사용 목적      | lookup / join               | 전체 탐색 / 조건 필터링             |\n",
    "| output 가능? | 가능 (`if rc=0 then output;`) | 가능 (`output;` inside loop) |"
   ]
  },
  {
   "cell_type": "markdown",
   "id": "e2d0b3ce-99d1-4ca8-b835-effd92e8155d",
   "metadata": {},
   "source": [
    "## Utility Procedures"
   ]
  },
  {
   "cell_type": "markdown",
   "id": "8b12e71d-b4ac-400e-9d27-39ab5d299df6",
   "metadata": {},
   "source": [
    "| 기능                        | 문법/옵션                                           | 설명          | 예시                                 |\n",
    "| ------------------------- | ----------------------------------------------- | ----------- | ---------------------------------- |\n",
    "| **PROC FORMAT – PICTURE** | `round`, `default=`, `prefix=`, `datatype=date` | 숫자/날짜 포맷 정의 | `$000,000,009`, `%Y-%0m-%0d`       |\n",
    "| **PROC FCMP – 함수**        | `function … endsub;`                            | 사용자 정의 함수   | `function myadd(x,y) return(x+y);` |\n",
    "| **PROC FCMP 호출**          | `options cmplib=…`                              | 함수 등록 후 호출  | `x=myadd(10,20)`                   |\n"
   ]
  },
  {
   "cell_type": "markdown",
   "id": "13b604fb-f9a5-456a-8fa3-3e3f3f00ee58",
   "metadata": {},
   "source": [
    "### PROC FORMAT – PICTURE 문 (숫자/날짜 포맷 정의, 옵션: round, default, prefix 등)"
   ]
  },
  {
   "cell_type": "markdown",
   "id": "2ae4ac88-9094-4cb4-9a7a-4bf65b6aff74",
   "metadata": {},
   "source": [
    "- PICTURE 문은 숫자/날짜를 원하는 출력 형태로 사용자 정의 포맷 가능.\n",
    "- VALUE와 달리 범주(label) 지정이 아니라, 숫자·날짜 표시 스타일을 직접 정의."
   ]
  },
  {
   "cell_type": "markdown",
   "id": "a4a67964-3feb-4429-b94f-29cd5582e6bf",
   "metadata": {},
   "source": [
    " 코드   | 설명                                   | 예시 값       |\n",
    "|--------|----------------------------------------|---------------|\n",
    "| %A     | 요일 이름 (전체)                       | Wednesday     |\n",
    "| %a     | 요일 이름 (앞 3글자)                   | Wed           |\n",
    "| %d     | 월 중 일자 (1~31, 한 자리 가능)        | 2             |\n",
    "| %0d    | 월 중 일자 (2자리, 0 채움)             | 02            |\n",
    "| %B     | 월 이름 (전체)                         | January       |\n",
    "| %3B    | 월 이름 (앞 3글자)                     | Jan           |\n",
    "| %m     | 월 번호 (1~12, 한 자리 가능)           | 1             |\n",
    "| %0m    | 월 번호 (2자리, 0 채움)                | 01            |\n",
    "| %Y     | 연도 (4자리)                           | 2019          |\n",
    "| %Oy    | 연도 (2자리)                           | 19            |\n",
    "| %H/%OH | 시 (24시간제, 한 자리 또는 두 자리)    | 21            |\n",
    "| %I/%OI | 시 (12시간제, 한 자리 또는 두 자리)    | 9 또는 09     |\n",
    "| %M/%OM | 분 (한 자리 또는 두 자리)              | 13            |\n",
    "| %S/%OS | 초 (한 자리 또는 두 자리)              | 5 또는 05     |\n",
    "| %p     | 오전/오후 표시 (AM/PM)                 | PM            |\n"
   ]
  },
  {
   "cell_type": "markdown",
   "id": "db6bd0a9-7378-47d7-b09b-401dc8a85c0e",
   "metadata": {},
   "source": [
    "- 기본"
   ]
  },
  {
   "cell_type": "markdown",
   "id": "b2479bab-2477-4c61-966e-fc606b4bd0f8",
   "metadata": {},
   "source": [
    "```sas\n",
    "proc format;\n",
    "   picture format-name\n",
    "           low-high = 'template'\n",
    "           (옵션들);\n",
    "run;\n",
    "```"
   ]
  },
  {
   "cell_type": "markdown",
   "id": "eb95071a-184a-4888-9091-8aa1d0ca20da",
   "metadata": {},
   "source": [
    "- template : 출력할 형태 정의 (9은 숫자 자리 표시, 0은 강제로 0 채움)\n",
    "    - round → 반올림\n",
    "    - default=n → 출력 자릿수 기본값 지정\n",
    "    - prefix='문자' → 출력값 앞에 문자 붙임"
   ]
  },
  {
   "cell_type": "markdown",
   "id": "26cce700-0620-49c3-a57f-3738d96f686d",
   "metadata": {},
   "source": [
    "- 숫자 포맷"
   ]
  },
  {
   "cell_type": "markdown",
   "id": "551d5e76-0315-4361-b81b-2d4badf693e7",
   "metadata": {},
   "source": [
    "```sas\n",
    "proc format;\n",
    "   picture myfmt\n",
    "       low-high = '000,000,009' (prefix='$');\n",
    "run;\n",
    "\n",
    "data _null_;\n",
    "   x=12345;\n",
    "   put x=myfmt.;\n",
    "run;\n",
    "```"
   ]
  },
  {
   "cell_type": "markdown",
   "id": "651a9e64-52ed-41db-b26f-9bc9064457e3",
   "metadata": {},
   "source": [
    "- 결과"
   ]
  },
  {
   "cell_type": "markdown",
   "id": "f685e413-3871-4cd1-b91b-c446165ef9da",
   "metadata": {},
   "source": [
    "$000,012,345"
   ]
  },
  {
   "cell_type": "markdown",
   "id": "d704cd70-cae2-48fc-a504-a143dd81933e",
   "metadata": {},
   "source": [
    "- 날짜 포맷 예시"
   ]
  },
  {
   "cell_type": "markdown",
   "id": "5b0e37c2-1261-4df9-921a-6d627e2389fc",
   "metadata": {},
   "source": [
    "```sas\n",
    "proc format;\n",
    "   picture mydate\n",
    "       low-high = '%Y-%0m-%0d' (datatype=date);\n",
    "run;\n",
    "\n",
    "data _null_;\n",
    "   x = '06SEP2025'd;\n",
    "   put x=mydate.;\n",
    "run;\n",
    "```"
   ]
  },
  {
   "cell_type": "markdown",
   "id": "6fe35cc0-ec90-492f-9adb-7c2cfd685269",
   "metadata": {},
   "source": [
    "- 결과"
   ]
  },
  {
   "cell_type": "markdown",
   "id": "fce3e229-f5de-47b0-a91a-9463863d6765",
   "metadata": {},
   "source": [
    "2025-09-06"
   ]
  },
  {
   "cell_type": "markdown",
   "id": "58678f61-6e73-434a-9956-f0e0917751ba",
   "metadata": {},
   "source": [
    "#### 시험에서"
   ]
  },
  {
   "cell_type": "markdown",
   "id": "f03f4744-fa03-48d1-8051-22a24c570eb7",
   "metadata": {},
   "source": [
    "```sas\n",
    "proc format;\n",
    "    picture MyDate (default=15)\n",
    "    low-high = '%a-%d-%3B-¿y'\n",
    "    (datatype=date) ;\n",
    "    picture MyTime (default=14)\n",
    "    low-high\n",
    "    'H:%OH M:%OM S:%OS'\n",
    "    (datatype=time) ;\n",
    "run;\n",
    "```"
   ]
  },
  {
   "cell_type": "markdown",
   "id": "7c62577b-745a-496b-a13e-ad89fc28f22c",
   "metadata": {},
   "source": [
    "### PROC FCMP – 사용자 정의 함수 (단일/다중 인자, 조건문 처리, CMPLIB= 옵션으로 호출)"
   ]
  },
  {
   "cell_type": "markdown",
   "id": "33866538-fc0b-4130-8ed7-5c3a63e443f7",
   "metadata": {},
   "source": [
    "- 사용자 정의 함수(Function) 또는 서브루틴 작성 가능.\n",
    "- 만든 함수는 CMPLIB= 시스템 옵션으로 등록 후 호출 가능."
   ]
  },
  {
   "cell_type": "markdown",
   "id": "4cc0720a-53c8-49e5-876e-bd00f8fc9939",
   "metadata": {},
   "source": [
    "- 기본"
   ]
  },
  {
   "cell_type": "markdown",
   "id": "1fdc963a-aacc-4deb-a3db-76a2c55ed0b9",
   "metadata": {},
   "source": [
    "```sas\n",
    "proc fcmp outlib=work.funcs.mycat;\n",
    "   function myadd(x,y);\n",
    "      return(x+y);\n",
    "   endsub;\n",
    "run;\n",
    "```"
   ]
  },
  {
   "cell_type": "markdown",
   "id": "72cf672a-b5aa-40c9-9f36-05594414936b",
   "metadata": {},
   "source": [
    "- outlib= : 라이브러리.저장데이터셋.카테고리\n",
    "- function : 사용자 정의 함수 선언\n",
    "- endsub; : 함수 종료"
   ]
  },
  {
   "cell_type": "markdown",
   "id": "04748ade-1ee8-4cb4-8078-980e7f2db81d",
   "metadata": {},
   "source": [
    "- 다중 인자 + 조건문 처리"
   ]
  },
  {
   "cell_type": "markdown",
   "id": "e111008f-3deb-4042-a358-b8eea383613b",
   "metadata": {},
   "source": [
    "```sas\n",
    "proc fcmp outlib=work.funcs.mycat;\n",
    "   function mygrade(score);\n",
    "      if score >= 90 then return('A');\n",
    "      else if score >= 80 then return('B');\n",
    "      else return('F');\n",
    "   endsub;\n",
    "run;\n",
    "```"
   ]
  },
  {
   "cell_type": "markdown",
   "id": "51f69ed4-09d1-4407-b730-64042cb77312",
   "metadata": {},
   "source": [
    "- CMPLIB= 옵션으로 호출"
   ]
  },
  {
   "cell_type": "markdown",
   "id": "806dc058-66b5-4d05-a901-59c753539f79",
   "metadata": {},
   "source": [
    "```sas\n",
    "options cmplib=work.funcs;\n",
    "\n",
    "data _null_;\n",
    "   x = myadd(10,20);\n",
    "   g = mygrade(85);\n",
    "   put x= g=;\n",
    "run;\n",
    "```"
   ]
  },
  {
   "cell_type": "markdown",
   "id": "075686b4-1276-4274-b4d8-20ac0790596c",
   "metadata": {},
   "source": [
    "- 결과"
   ]
  },
  {
   "cell_type": "markdown",
   "id": "5ecb823a-5337-4e8f-b4da-0e35ead31cac",
   "metadata": {},
   "source": [
    "x=30 g=B"
   ]
  },
  {
   "cell_type": "markdown",
   "id": "f75b9852-97c2-48f5-82c0-c5cbd8ab52c2",
   "metadata": {},
   "source": [
    "#### 시험에서"
   ]
  },
  {
   "cell_type": "markdown",
   "id": "bb2327ca-563a-436e-aba4-6cbf5ef2e4ef",
   "metadata": {},
   "source": [
    "```sas\n",
    "\n",
    "\n",
    "PROC FCMP OUTLIB=libref.table.package;\n",
    "FUNCTION function-name(arguments) <$> <length>;\n",
    "...programming statements...\n",
    "RETURN(expression);\n",
    "ENDSUB;\n",
    "RUN;\n",
    "```"
   ]
  },
  {
   "cell_type": "markdown",
   "id": "2a6fdf5c-43c1-497c-8d84-e0560156996f",
   "metadata": {},
   "source": [
    "```sas\n",
    "proc fcmp outlib-pg3. funcs.weather;\n",
    "function FtoC (TempF) ;\n",
    "TempC=round ( (TempF-32) *5/9,.01) ;\n",
    "return (TempC) ;\n",
    "endsub;\n",
    "run;\n",
    "*function불러와야 쓸 수 있음;\n",
    "options cmplib=pg3.funcs;\n",
    "\n",
    "```"
   ]
  },
  {
   "cell_type": "markdown",
   "id": "1b5cff8e-cecd-436f-b4b3-9546c3c0b7cf",
   "metadata": {},
   "source": [
    "- 예시\n",
    "    - 두 수 중 큰 값을 반환하는 함수 mymax를 정의하고 호출하시오."
   ]
  },
  {
   "cell_type": "markdown",
   "id": "0abe117d-8009-4dbd-b978-58289426eab6",
   "metadata": {},
   "source": [
    "```sas\n",
    "proc fcmp outlib=work.funcs.math;\n",
    "   function mymax(x,y);\n",
    "      if x>y then return(x);\n",
    "      else return(y);\n",
    "   endsub;\n",
    "run;\n",
    "\n",
    "options cmplib=work.funcs;\n",
    "data ex8;\n",
    "   result=mymax(10,20);\n",
    "   put result=;\n",
    "run;\n",
    "```"
   ]
  },
  {
   "cell_type": "markdown",
   "id": "ccd62bbd-7caa-4beb-b7bb-b7d924c66c98",
   "metadata": {},
   "source": [
    "## 고급 함수"
   ]
  },
  {
   "cell_type": "markdown",
   "id": "a2f14d2c-9916-429b-bae9-4607997539fb",
   "metadata": {
    "tags": []
   },
   "source": [
    "### FINDC, FINDW, COUNT, COUNTC, COUNTW"
   ]
  },
  {
   "cell_type": "markdown",
   "id": "46e8fe35-cbcf-4985-abdd-e21b6dfd4bf1",
   "metadata": {},
   "source": [
    "| 함수         | 설명                        | 예시                               | 결과 |\n",
    "| ---------- | ------------------------- | -------------------------------- | -- |\n",
    "| **FINDC**  | 문자열에서 특정 문자(집합)의 위치 반환    | `findc(\"abc123\",\"123\")`          | 4  |\n",
    "| **FINDW**  | 문자열에서 단어 위치 반환 (구분자 기반)   | `findw(\"cat dog pig\",\"dog\",\" \")` | 2  |\n",
    "| **COUNT**  | 특정 문자열이 포함된 횟수 (중첩 포함 가능) | `count(\"banana\",\"ana\")`          | 2  |\n",
    "| **COUNTC** | 특정 문자(집합)가 나타나는 횟수        | `countc(\"banana\",\"a\")`           | 3  |\n",
    "| **COUNTW** | 단어 개수 (구분자 기준)            | `countw(\"cat dog pig\")`          | 3  |\n"
   ]
  },
  {
   "cell_type": "markdown",
   "id": "99c8ef9e-2668-426a-bf14-72a0738a7f98",
   "metadata": {
    "tags": []
   },
   "source": [
    "### LAG"
   ]
  },
  {
   "cell_type": "markdown",
   "id": "188187b3-5ffb-4a21-a08e-cd3b1a4fd51c",
   "metadata": {},
   "source": [
    "시계열 데이터에서 이전 관측값 가져오기"
   ]
  },
  {
   "cell_type": "markdown",
   "id": "8bb6c73e-7c0f-425f-acec-f14ddacfcc0e",
   "metadata": {},
   "source": [
    "lag1, lag2 있는 데이터 두 번 돌리면 아래처럼 이상하게 나타남(원래 데이터 10 20 30 40)\n",
    "\n",
    "큐를 초기화하거나 lag 대신 retain+by 등으로 대체 고려"
   ]
  },
  {
   "cell_type": "markdown",
   "id": "a71ae492-658b-4995-b28a-22c8a4cb258d",
   "metadata": {},
   "source": [
    "```sas\n",
    "data test;\n",
    "   input x;\n",
    "   lag1_x = lag1(x);\n",
    "   lag2_x = lag2(x);\n",
    "   datalines;\n",
    "10\n",
    "20\n",
    "30\n",
    "40\n",
    ";\n",
    "run;\n",
    "\n",
    "proc print data=test; run;\n",
    "```"
   ]
  },
  {
   "cell_type": "markdown",
   "id": "2040d28f-0072-4465-811c-d85ed79fef9a",
   "metadata": {},
   "source": [
    "- 첫 번째 DATA step(정상 동작):"
   ]
  },
  {
   "cell_type": "markdown",
   "id": "e774de36-d05f-406d-96d8-7cff57c373ce",
   "metadata": {},
   "source": [
    "| x  | l1  | l2  |\n",
    "|----|-----|-----|\n",
    "| 10 | .   | .   |\n",
    "| 20 | 10  | .   |\n",
    "| 30 | 20  | 10  |\n",
    "| 40 | 30  | 20  |"
   ]
  },
  {
   "cell_type": "markdown",
   "id": "f1434939-6bfb-4873-a9b8-56b78a3de98a",
   "metadata": {},
   "source": [
    "- 두 번째 DATA step:"
   ]
  },
  {
   "cell_type": "markdown",
   "id": "9d182836-1647-47b5-b64d-671ff5b35ae6",
   "metadata": {},
   "source": [
    "| x  | l1   | l2   |\n",
    "|----|------|------|\n",
    "| 10 | 40❗ | 30❗ |\n",
    "| 20 | 10   | 40   |\n",
    "| 30 | 20   | 10   |\n",
    "| 40 | 30   | 20   |\n"
   ]
  },
  {
   "cell_type": "markdown",
   "id": "1e0be0dd-62c6-483f-85ab-e2fdec208a97",
   "metadata": {
    "tags": []
   },
   "source": [
    "### Regex 함수 (PRX)"
   ]
  },
  {
   "cell_type": "markdown",
   "id": "19693bec-cb3f-4a2f-beda-ae97a0fb6d86",
   "metadata": {
    "tags": []
   },
   "source": [
    "#### 메타문자: () [] {} * + ? . | ^ $ \\d \\D \\s \\S \\w \\W"
   ]
  },
  {
   "cell_type": "markdown",
   "id": "2edf8111-cdca-4898-8815-6a375a88ca6e",
   "metadata": {},
   "source": [
    "| 패턴    | 설명                                   |\n",
    "|---------|----------------------------------------|\n",
    "| .       | 아무 문자 하나 (줄바꿈 제외)            |\n",
    "| \\d      | 숫자 (digit, 0-9)                      |\n",
    "| \\w      | 알파벳/숫자/언더스코어                 |\n",
    "| \\s      | 공백 문자 (space, tab 등)              |\n",
    "| ^       | 문자열의 시작                          |\n",
    "| $       | 문자열의 끝                            |\n",
    "| +       | 1개 이상 반복                          |\n",
    "| *       | 0개 이상 반복                          |\n",
    "| ?       | 0개 또는 1개                           |\n",
    "| [abc]   | a, b, 또는 c 중 하나                   |\n",
    "| [^abc]  | a, b, c 이외의 문자                    |\n",
    "| (abc)   | 그룹                                   |\n"
   ]
  },
  {
   "cell_type": "markdown",
   "id": "7b147f25-7787-4b00-a60d-d1f321ef18fb",
   "metadata": {
    "tags": []
   },
   "source": [
    "#### 함수: PRXMATCH, PRXPARSE, PRXCHANGE"
   ]
  },
  {
   "cell_type": "markdown",
   "id": "346fb7af-fd94-4007-b57f-d1f0ae3293d9",
   "metadata": {},
   "source": [
    "| 함수            | 설명                     | 예시                                     | 결과        |\n",
    "| ------------- | ---------------------- | -------------------------------------- | --------- |\n",
    "| **PRXPARSE**  | 정규식 패턴을 컴파일 (패턴 ID 반환) | `pattern=prxparse('/cat/');`           | 패턴 ID     |\n",
    "| **PRXMATCH**  | 문자열에서 정규식 매칭 위치 반환     | `prxmatch('/dog/',\"my dog\")`           | 4         |\n",
    "| **PRXCHANGE** | 정규식 기반 치환              | `prxchange('s/dog/cat/',-1,\"dog dog\")` | `cat cat` |\n"
   ]
  },
  {
   "cell_type": "markdown",
   "id": "f32144c7",
   "metadata": {},
   "source": [
    "#### 시험에서"
   ]
  },
  {
   "cell_type": "markdown",
   "id": "6881e115",
   "metadata": {
    "vscode": {
     "languageId": "raw"
    }
   },
   "source": [
    "1. `prxparse` → 정규식 패턴 컴파일"
   ]
  },
  {
   "cell_type": "markdown",
   "id": "c20658e4",
   "metadata": {},
   "source": [
    "- prxparse('/\\d+/') → \"숫자 1개 이상\" 정규식 생성\n",
    "- \"abc123xyz\"에서 숫자는 4번째 위치 → pos=4"
   ]
  },
  {
   "cell_type": "markdown",
   "id": "8129437c",
   "metadata": {
    "vscode": {
     "languageId": "raw"
    }
   },
   "source": [
    "```sas\n",
    "data _null_;\n",
    "   retain regex;\n",
    "   if _n_ = 1 then regex = prxparse('/\\d+/');  /* 숫자 찾기 */\n",
    "   str = \"abc123xyz\";\n",
    "   pos = prxmatch(regex, str);\n",
    "   put pos=;\n",
    "run;\n",
    "```"
   ]
  },
  {
   "cell_type": "markdown",
   "id": "da910411",
   "metadata": {},
   "source": [
    "2. `prxmatch` → 문자열에 패턴 매칭 (첫 번째 위치)"
   ]
  },
  {
   "cell_type": "markdown",
   "id": "d0238e91",
   "metadata": {},
   "source": [
    "- \"cat\"은 \"my cat is here\"에서 4번째 → pos1=4\n",
    "- \"dog only\"에는 없음 → pos2=0"
   ]
  },
  {
   "cell_type": "markdown",
   "id": "8d6849cf",
   "metadata": {
    "vscode": {
     "languageId": "raw"
    }
   },
   "source": [
    "\n",
    "```sas\n",
    "data _null_;\n",
    "   regex = prxparse('/cat/');\n",
    "   str1 = \"my cat is here\";\n",
    "   str2 = \"dog only\";\n",
    "   pos1 = prxmatch(regex, str1);\n",
    "   pos2 = prxmatch(regex, str2);\n",
    "   put pos1= pos2=;\n",
    "run;\n",
    "```"
   ]
  },
  {
   "cell_type": "markdown",
   "id": "8cc6e88a",
   "metadata": {
    "vscode": {
     "languageId": "raw"
    }
   },
   "source": [
    "3. `prxchange` → 정규식 치환"
   ]
  },
  {
   "cell_type": "markdown",
   "id": "de694710",
   "metadata": {},
   "source": [
    "- 정규식 (\\d{4})-(\\d{2})-(\\d{2}) → 연도-월-일 캡처\n",
    "- $3/$2/$1 → 일/월/연도로 재배치\n",
    "- 결과: 17/08/2025"
   ]
  },
  {
   "cell_type": "markdown",
   "id": "ba93e95f",
   "metadata": {},
   "source": [
    "```sas\n",
    "data _null_;\n",
    "   str = \"2025-08-17\";\n",
    "   /* yyyy-mm-dd → dd/mm/yyyy 변환 */\n",
    "   new = prxchange('s/(\\d{4})-(\\d{2})-(\\d{2})/$3\\/$2\\/$1/', -1, str);\n",
    "   put new=;\n",
    "run;\n",
    "```"
   ]
  },
  {
   "cell_type": "markdown",
   "id": "5b313848",
   "metadata": {
    "vscode": {
     "languageId": "raw"
    }
   },
   "source": [
    "4. `prxsubstr` → 매치 위치와 길이 반환"
   ]
  },
  {
   "cell_type": "markdown",
   "id": "78d3c7ff",
   "metadata": {},
   "source": [
    "- 첫 숫자 시작 = 14번째 (pos=14)\n",
    "- 길이 = 5 (len=5)\n",
    "- matched=12345"
   ]
  },
  {
   "cell_type": "markdown",
   "id": "af78ec0f",
   "metadata": {},
   "source": [
    "```sas\n",
    "data _null_;\n",
    "   regex = prxparse('/\\d+/');  /* 숫자 찾기 */\n",
    "   str = \"Order number 12345 confirmed\";\n",
    "   call prxsubstr(regex, str, pos, len);\n",
    "   matched = substr(str, pos, len);\n",
    "   put pos= len= matched=;\n",
    "run;\n",
    "```"
   ]
  },
  {
   "cell_type": "markdown",
   "id": "be0b811c",
   "metadata": {},
   "source": [
    "5. `prxnext` → 여러 매치 순회"
   ]
  },
  {
   "cell_type": "markdown",
   "id": "79c979a7",
   "metadata": {},
   "source": [
    "- prxnext는 여러 개의 매치를 순차적으로 반환할 때 사용."
   ]
  },
  {
   "cell_type": "markdown",
   "id": "ae687982-0e26-48ca-a6ee-dc4c9c9130b2",
   "metadata": {},
   "source": [
    "```sas\n",
    "data _null_;\n",
    "   regex = prxparse('/\\d+/');  /* 숫자 찾기 */\n",
    "   str = \"a1 b22 c333\";\n",
    "   start = 1;\n",
    "   stop = length(str);\n",
    "\n",
    "   do while (prxnext(regex, start, stop, str, pos, len) > 0);\n",
    "      match = substr(str, pos, len);\n",
    "      put match=;\n",
    "   end;\n",
    "run;\n",
    "```"
   ]
  },
  {
   "cell_type": "markdown",
   "id": "59bab260",
   "metadata": {},
   "source": []
  }
 ],
 "metadata": {
  "kernelspec": {
   "display_name": "Python 3",
   "language": "python",
   "name": "python3"
  },
  "language_info": {
   "codemirror_mode": {
    "name": "ipython",
    "version": 3
   },
   "file_extension": ".py",
   "mimetype": "text/x-python",
   "name": "python",
   "nbconvert_exporter": "python",
   "pygments_lexer": "ipython3",
   "version": "3.8.0"
  }
 },
 "nbformat": 4,
 "nbformat_minor": 5
}
