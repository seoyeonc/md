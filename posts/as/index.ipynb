{
  "cells": [
    {
      "cell_type": "markdown",
      "metadata": {},
      "source": [
        "# Special Topics in Applied Statistics\n",
        "\n",
        "SEOYEON CHOI  \n",
        "2023-07-30\n",
        "\n",
        "Let’s study Special Topics in Applied Statistics."
      ],
      "id": "57fca790-8b2b-49bf-a30e-f2f24b341463"
    }
  ],
  "nbformat": 4,
  "nbformat_minor": 5,
  "metadata": {
    "kernelspec": {
      "display_name": "Python 3",
      "language": "python",
      "name": "python3"
    }
  }
}