{
  "cells": [
    {
      "cell_type": "markdown",
      "metadata": {},
      "source": [
        "# Special Topics in Applied Statistics\n",
        "\n",
        "SEOYEON CHOI  \n",
        "2023-07-30\n",
        "\n",
        "Let’s study Special Topics in Applied Statistics."
      ],
      "id": "655d2f9b-2c40-4b52-8ebb-52dfe9c383e5"
    }
  ],
  "nbformat": 4,
  "nbformat_minor": 5,
  "metadata": {
    "kernelspec": {
      "display_name": "Python 3",
      "language": "python",
      "name": "python3"
    }
  }
}