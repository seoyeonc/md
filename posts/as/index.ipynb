{
  "cells": [
    {
      "cell_type": "markdown",
      "metadata": {},
      "source": [
        "# Special Topics in Applied Statistics\n",
        "\n",
        "SEOYEON CHOI  \n",
        "2023-07-30\n",
        "\n",
        "Let’s study Special Topics in Applied Statistics."
      ],
      "id": "9c88424e-7683-42d4-a87e-413a915b0796"
    }
  ],
  "nbformat": 4,
  "nbformat_minor": 5,
  "metadata": {
    "kernelspec": {
      "display_name": "Python 3",
      "language": "python",
      "name": "python3"
    }
  }
}