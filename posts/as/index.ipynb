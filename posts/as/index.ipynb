{
  "cells": [
    {
      "cell_type": "markdown",
      "metadata": {},
      "source": [
        "# Special Topics in Applied Statistics\n",
        "\n",
        "SEOYEON CHOI  \n",
        "2023-07-30\n",
        "\n",
        "Let’s study Special Topics in Applied Statistics."
      ],
      "id": "1c6cca79-19a6-417f-b3d5-7de7f8fc54bc"
    }
  ],
  "nbformat": 4,
  "nbformat_minor": 5,
  "metadata": {
    "kernelspec": {
      "display_name": "Python 3",
      "language": "python",
      "name": "python3"
    }
  }
}