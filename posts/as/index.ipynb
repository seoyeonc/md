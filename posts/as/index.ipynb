{
  "cells": [
    {
      "cell_type": "markdown",
      "metadata": {},
      "source": [
        "# Special Topics in Applied Statistics\n",
        "\n",
        "SEOYEON CHOI  \n",
        "2023-07-30\n",
        "\n",
        "Let’s study Special Topics in Applied Statistics."
      ],
      "id": "085038ec-8f65-4a15-b04c-ec04f24891af"
    }
  ],
  "nbformat": 4,
  "nbformat_minor": 5,
  "metadata": {
    "kernelspec": {
      "display_name": "Python 3",
      "language": "python",
      "name": "python3"
    }
  }
}