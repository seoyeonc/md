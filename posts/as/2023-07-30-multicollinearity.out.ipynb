{
  "cells": [
    {
      "cell_type": "markdown",
      "metadata": {},
      "source": [
        "# Multicollinearity\n",
        "\n",
        "SEOYEON CHOI  \n",
        "2023-07-30\n",
        "\n",
        "# Import"
      ],
      "id": "4568cda1-9ac7-481b-8fdb-a4a374bbba1a"
    },
    {
      "cell_type": "code",
      "execution_count": 2,
      "metadata": {},
      "outputs": [],
      "source": [
        "library(MASS) #lm.ridge\n",
        "library(car) #vif\n",
        "library(glmnet) #Ridge, Lasso"
      ],
      "id": "1140ab33-dc4a-4d86-9876-d51df6b80101"
    },
    {
      "cell_type": "markdown",
      "metadata": {},
      "source": [
        "완전한 다중공선성 (perfect multicollinearity) 완전한 다중공선성을 갖는\n",
        "데이터 생성"
      ],
      "id": "fc72904e-0d05-48a0-9c9a-a53602ec6e10"
    },
    {
      "cell_type": "code",
      "execution_count": 3,
      "metadata": {},
      "outputs": [],
      "source": [
        "gen_perfect_collin_data = function(num_samples = 100) {\n",
        "    x1 = rnorm(n = num_samples, mean = 80, sd = 10)\n",
        "    x2 = rnorm(n = num_samples, mean = 70, sd = 5)\n",
        "    x3 = 2 * x1 + 4 * x2 + 3\n",
        "    y = 3 + x1 + x2 + rnorm(n = num_samples, mean = 0, sd = 1)\n",
        "    data.frame(y, x1, x2, x3) }"
      ],
      "id": "be5e2725-ea0e-482f-8f16-2256e961451b"
    },
    {
      "cell_type": "code",
      "execution_count": 4,
      "metadata": {},
      "outputs": [
        {
          "output_type": "display_data",
          "metadata": {},
          "data": {}
        }
      ],
      "source": [
        "set.seed(42)\n",
        "perfect_collin_data = gen_perfect_collin_data()\n",
        "head(perfect_collin_data)"
      ],
      "id": "2d25f6d2-7706-4728-ad26-dbc9396ea035"
    },
    {
      "cell_type": "code",
      "execution_count": 5,
      "metadata": {},
      "outputs": [
        {
          "output_type": "display_data",
          "metadata": {},
          "data": {}
        }
      ],
      "source": [
        "round(cor(perfect_collin_data),4)"
      ],
      "id": "8476878c-f8c1-418f-85e8-ee816d94660c"
    },
    {
      "cell_type": "markdown",
      "metadata": {},
      "source": [
        "-   x3이 x1과 y에 영향을 주는것처럼 보임"
      ],
      "id": "f74803d7-fbe0-4b4f-925d-51a7c204ac15"
    },
    {
      "cell_type": "code",
      "execution_count": 6,
      "metadata": {},
      "outputs": [
        {
          "output_type": "display_data",
          "metadata": {},
          "data": {
            "text/plain": [
              "\n",
              "Call:\n",
              "lm(formula = y ~ x1 + x2 + x3, data = perfect_collin_data)\n",
              "\n",
              "Residuals:\n",
              "     Min       1Q   Median       3Q      Max \n",
              "-2.57662 -0.66188 -0.08253  0.63706  2.52057 \n",
              "\n",
              "Coefficients: (1 not defined because of singularities)\n",
              "            Estimate Std. Error t value Pr(>|t|)    \n",
              "(Intercept) 2.957336   1.735165   1.704   0.0915 .  \n",
              "x1          0.985629   0.009788 100.702   <2e-16 ***\n",
              "x2          1.017059   0.022545  45.112   <2e-16 ***\n",
              "x3                NA         NA      NA       NA    \n",
              "---\n",
              "Signif. codes:  0 '***' 0.001 '**' 0.01 '*' 0.05 '.' 0.1 ' ' 1\n",
              "\n",
              "Residual standard error: 1.014 on 97 degrees of freedom\n",
              "Multiple R-squared:  0.9923,    Adjusted R-squared:  0.9921 \n",
              "F-statistic:  6236 on 2 and 97 DF,  p-value: < 2.2e-16"
            ]
          }
        }
      ],
      "source": [
        "perfect_collin_fit = lm(y ~ x1 + x2 + x3, data = perfect_collin_data)\n",
        "summary(perfect_collin_fit)"
      ],
      "id": "a0f87c96-cf14-4f70-b2bd-8dbd9eb7abf6"
    },
    {
      "cell_type": "markdown",
      "metadata": {},
      "source": [
        "-   x3을 아예 추정하지 않아버림. 완벽한 다중공선성이 있는 경우."
      ],
      "id": "3ba7075c-3d7c-49b4-963a-571c1b08a1dc"
    },
    {
      "cell_type": "code",
      "execution_count": 7,
      "metadata": {},
      "outputs": [],
      "source": [
        "fit1 = lm(y ~ x1 + x2, data = perfect_collin_data)\n",
        "fit2 = lm(y ~ x1 + x3, data = perfect_collin_data)\n",
        "fit3 = lm(y ~ x2 + x3, data = perfect_collin_data)"
      ],
      "id": "40594d07-ae60-42cd-b9b6-5757cd8d3e4f"
    },
    {
      "cell_type": "code",
      "execution_count": 8,
      "metadata": {},
      "outputs": [
        {
          "output_type": "display_data",
          "metadata": {},
          "data": {
            "text/plain": [
              "\n",
              "Call:\n",
              "lm(formula = y ~ x1 + x2, data = perfect_collin_data)\n",
              "\n",
              "Residuals:\n",
              "     Min       1Q   Median       3Q      Max \n",
              "-2.57662 -0.66188 -0.08253  0.63706  2.52057 \n",
              "\n",
              "Coefficients:\n",
              "            Estimate Std. Error t value Pr(>|t|)    \n",
              "(Intercept) 2.957336   1.735165   1.704   0.0915 .  \n",
              "x1          0.985629   0.009788 100.702   <2e-16 ***\n",
              "x2          1.017059   0.022545  45.112   <2e-16 ***\n",
              "---\n",
              "Signif. codes:  0 '***' 0.001 '**' 0.01 '*' 0.05 '.' 0.1 ' ' 1\n",
              "\n",
              "Residual standard error: 1.014 on 97 degrees of freedom\n",
              "Multiple R-squared:  0.9923,    Adjusted R-squared:  0.9921 \n",
              "F-statistic:  6236 on 2 and 97 DF,  p-value: < 2.2e-16"
            ]
          }
        }
      ],
      "source": [
        "summary(fit1)"
      ],
      "id": "c4fb8e48-5170-437e-9708-3668461582cc"
    },
    {
      "cell_type": "code",
      "execution_count": 9,
      "metadata": {},
      "outputs": [
        {
          "output_type": "display_data",
          "metadata": {},
          "data": {
            "text/plain": [
              "\n",
              "Call:\n",
              "lm(formula = y ~ x1 + x3, data = perfect_collin_data)\n",
              "\n",
              "Residuals:\n",
              "     Min       1Q   Median       3Q      Max \n",
              "-2.57662 -0.66188 -0.08253  0.63706  2.52057 \n",
              "\n",
              "Coefficients:\n",
              "            Estimate Std. Error t value Pr(>|t|)    \n",
              "(Intercept) 2.194542   1.750225   1.254    0.213    \n",
              "x1          0.477100   0.015158  31.475   <2e-16 ***\n",
              "x3          0.254265   0.005636  45.112   <2e-16 ***\n",
              "---\n",
              "Signif. codes:  0 '***' 0.001 '**' 0.01 '*' 0.05 '.' 0.1 ' ' 1\n",
              "\n",
              "Residual standard error: 1.014 on 97 degrees of freedom\n",
              "Multiple R-squared:  0.9923,    Adjusted R-squared:  0.9921 \n",
              "F-statistic:  6236 on 2 and 97 DF,  p-value: < 2.2e-16"
            ]
          }
        }
      ],
      "source": [
        "summary(fit2)"
      ],
      "id": "7f969b5f-ada8-4736-aa3b-a3f8c648d44e"
    },
    {
      "cell_type": "code",
      "execution_count": 10,
      "metadata": {},
      "outputs": [
        {
          "output_type": "display_data",
          "metadata": {},
          "data": {
            "text/plain": [
              "\n",
              "Call:\n",
              "lm(formula = y ~ x2 + x3, data = perfect_collin_data)\n",
              "\n",
              "Residuals:\n",
              "     Min       1Q   Median       3Q      Max \n",
              "-2.57662 -0.66188 -0.08253  0.63706  2.52057 \n",
              "\n",
              "Coefficients:\n",
              "             Estimate Std. Error t value Pr(>|t|)    \n",
              "(Intercept)  1.478892   1.741452   0.849    0.398    \n",
              "x2          -0.954200   0.030316 -31.475   <2e-16 ***\n",
              "x3           0.492815   0.004894 100.702   <2e-16 ***\n",
              "---\n",
              "Signif. codes:  0 '***' 0.001 '**' 0.01 '*' 0.05 '.' 0.1 ' ' 1\n",
              "\n",
              "Residual standard error: 1.014 on 97 degrees of freedom\n",
              "Multiple R-squared:  0.9923,    Adjusted R-squared:  0.9921 \n",
              "F-statistic:  6236 on 2 and 97 DF,  p-value: < 2.2e-16"
            ]
          }
        }
      ],
      "source": [
        "summary(fit3)"
      ],
      "id": "3b80a02e-0592-4e93-8797-0d0d4d09ee5b"
    },
    {
      "cell_type": "markdown",
      "metadata": {},
      "source": [
        "-   fit1, fit2, fit3 의 r square가 같음\n",
        "-   coeffi가 달라지는 건 당연히…한 설명변수가 설명하던 내용을 다른\n",
        "    설명변수가 가져갔기 때문에"
      ],
      "id": "f2f4c73b-0a06-459e-a5bf-c7fdafdff94c"
    },
    {
      "cell_type": "code",
      "execution_count": 11,
      "metadata": {},
      "outputs": [
        {
          "output_type": "display_data",
          "metadata": {},
          "data": {
            "text/html": [
              "TRUE"
            ]
          }
        }
      ],
      "source": [
        "all.equal(fitted(fit1), fitted(fit2))"
      ],
      "id": "6320b7a5-40c7-44c3-bdf9-d714ee926c0b"
    },
    {
      "cell_type": "code",
      "execution_count": 12,
      "metadata": {},
      "outputs": [
        {
          "output_type": "display_data",
          "metadata": {},
          "data": {
            "text/html": [
              "TRUE"
            ]
          }
        }
      ],
      "source": [
        "all.equal(fitted(fit2), fitted(fit3))"
      ],
      "id": "8212edec-164a-44a4-af8d-09c8c488bcc8"
    },
    {
      "cell_type": "markdown",
      "metadata": {},
      "source": [
        "-   모형이 같다는 결과"
      ],
      "id": "659f8db1-7b46-4a0d-940d-b3ccbe7e3440"
    },
    {
      "cell_type": "code",
      "execution_count": 13,
      "metadata": {},
      "outputs": [
        {
          "output_type": "display_data",
          "metadata": {},
          "data": {
            "text/html": [
              "<style>\n",
              ".dl-inline {width: auto; margin:0; padding: 0}\n",
              ".dl-inline>dt, .dl-inline>dd {float: none; width: auto; display: inline-block}\n",
              ".dl-inline>dt::after {content: \":\\0020\"; padding-right: .5ex}\n",
              ".dl-inline>dt:not(:first-of-type) {padding-left: .5ex}\n",
              "</style><dl class=dl-inline><dt>(Intercept)</dt><dd>2.95733574182584</dd><dt>x1</dt><dd>0.985629075384885</dd><dt>x2</dt><dd>1.01705863569559</dd></dl>"
            ]
          }
        }
      ],
      "source": [
        "coef(fit1)"
      ],
      "id": "1884df52-52c8-47fe-bd8d-997151459c75"
    },
    {
      "cell_type": "code",
      "execution_count": 14,
      "metadata": {},
      "outputs": [
        {
          "output_type": "display_data",
          "metadata": {},
          "data": {
            "text/html": [
              "<style>\n",
              ".dl-inline {width: auto; margin:0; padding: 0}\n",
              ".dl-inline>dt, .dl-inline>dd {float: none; width: auto; display: inline-block}\n",
              ".dl-inline>dt::after {content: \":\\0020\"; padding-right: .5ex}\n",
              ".dl-inline>dt:not(:first-of-type) {padding-left: .5ex}\n",
              "</style><dl class=dl-inline><dt>(Intercept)</dt><dd>2.19454176505438</dd><dt>x1</dt><dd>0.477099757537093</dd><dt>x3</dt><dd>0.254264658923896</dd></dl>"
            ]
          }
        }
      ],
      "source": [
        "coef(fit2)"
      ],
      "id": "510b168c-d083-4929-bd9e-2a01af70ff21"
    },
    {
      "cell_type": "code",
      "execution_count": 15,
      "metadata": {},
      "outputs": [
        {
          "output_type": "display_data",
          "metadata": {},
          "data": {
            "text/html": [
              "<style>\n",
              ".dl-inline {width: auto; margin:0; padding: 0}\n",
              ".dl-inline>dt, .dl-inline>dd {float: none; width: auto; display: inline-block}\n",
              ".dl-inline>dt::after {content: \":\\0020\"; padding-right: .5ex}\n",
              ".dl-inline>dt:not(:first-of-type) {padding-left: .5ex}\n",
              "</style><dl class=dl-inline><dt>(Intercept)</dt><dd>1.47889212874875</dd><dt>x2</dt><dd>-0.954199515074185</dd><dt>x3</dt><dd>0.492814537692442</dd></dl>"
            ]
          }
        }
      ],
      "source": [
        "coef(fit3)"
      ],
      "id": "e727f41b-4244-4efe-9995-871b81c7e800"
    },
    {
      "cell_type": "markdown",
      "metadata": {},
      "source": [
        "# 완전에 가까운 다중공선성 (approximate multicollinearity)\n",
        "\n",
        "## 완전에 가까운 다중공선성을 갖는 데이터 생성"
      ],
      "id": "858d9b05-5c0b-4206-9cd6-de6a76edc2e6"
    },
    {
      "cell_type": "code",
      "execution_count": 16,
      "metadata": {},
      "outputs": [],
      "source": [
        "gen_almost_collin_data = function(num_samples = 100) {\n",
        "    x1 = rnorm(n = num_samples, mean = 0, sd = 2)\n",
        "    x2 = rnorm(n = num_samples, mean = 0, sd = 3)\n",
        "    x3 = 3*x1 + 1*x2 + rnorm(num_samples, mean=0, sd=0.5)\n",
        "    y = 3 + x1 + x2 + rnorm(n = num_samples, mean = 0, sd = 1) \n",
        "    data.frame(y, x1, x2, x3)\n",
        "}"
      ],
      "id": "833a1e1b-b703-4b5c-899b-6829b2fc9224"
    },
    {
      "cell_type": "markdown",
      "metadata": {},
      "source": [
        "-   x3 가 완벽히 상관되어 있지 않고 어느 정도만 상관관계가 있게 만든\n",
        "    시물레이션 데이터"
      ],
      "id": "ae15bb67-7374-4b42-bb0a-4bdca46fb062"
    },
    {
      "cell_type": "code",
      "execution_count": 17,
      "metadata": {},
      "outputs": [
        {
          "output_type": "display_data",
          "metadata": {},
          "data": {}
        }
      ],
      "source": [
        "set.seed(42)\n",
        "almost_collin_data = gen_almost_collin_data()\n",
        "head(almost_collin_data)"
      ],
      "id": "b6e3a56d-59c6-40c3-b9b7-0c7102698998"
    },
    {
      "cell_type": "code",
      "execution_count": 18,
      "metadata": {},
      "outputs": [
        {
          "output_type": "display_data",
          "metadata": {},
          "data": {}
        }
      ],
      "source": [
        "round(cor(almost_collin_data),3)"
      ],
      "id": "4bcdaeec-3736-4e53-a140-1d2a266ff027"
    },
    {
      "cell_type": "code",
      "execution_count": 19,
      "metadata": {},
      "outputs": [
        {
          "output_type": "display_data",
          "metadata": {},
          "data": {
            "text/plain": [
              "\n",
              "Call:\n",
              "lm(formula = y ~ ., data = almost_collin_data)\n",
              "\n",
              "Residuals:\n",
              "    Min      1Q  Median      3Q     Max \n",
              "-1.7944 -0.5867 -0.1038  0.6188  2.3280 \n",
              "\n",
              "Coefficients:\n",
              "            Estimate Std. Error t value Pr(>|t|)    \n",
              "(Intercept)  3.03150    0.08914  34.007  < 2e-16 ***\n",
              "x1           1.21854    0.52829   2.307   0.0232 *  \n",
              "x2           1.06616    0.18314   5.821 7.71e-08 ***\n",
              "x3          -0.06322    0.17765  -0.356   0.7227    \n",
              "---\n",
              "Signif. codes:  0 '***' 0.001 '**' 0.01 '*' 0.05 '.' 0.1 ' ' 1\n",
              "\n",
              "Residual standard error: 0.8867 on 96 degrees of freedom\n",
              "Multiple R-squared:  0.9419,    Adjusted R-squared:  0.9401 \n",
              "F-statistic:   519 on 3 and 96 DF,  p-value: < 2.2e-16"
            ]
          }
        }
      ],
      "source": [
        "m <- lm(y~., almost_collin_data)\n",
        "summary(m)"
      ],
      "id": "231d28c1-f12b-4afb-b341-3a1e7616e018"
    },
    {
      "cell_type": "code",
      "execution_count": 20,
      "metadata": {},
      "outputs": [
        {
          "output_type": "display_data",
          "metadata": {},
          "data": {
            "text/html": [
              "<style>\n",
              ".dl-inline {width: auto; margin:0; padding: 0}\n",
              ".dl-inline>dt, .dl-inline>dd {float: none; width: auto; display: inline-block}\n",
              ".dl-inline>dt::after {content: \":\\0020\"; padding-right: .5ex}\n",
              ".dl-inline>dt:not(:first-of-type) {padding-left: .5ex}\n",
              "</style><dl class=dl-inline><dt>x1</dt><dd>152.42683903062</dd><dt>x2</dt><dd>31.0734919101687</dd><dt>x3</dt><dd>186.719994280611</dd></dl>"
            ]
          }
        }
      ],
      "source": [
        "vif(m)\n",
        "## x1 x2 x3 ## 152.42684 31.07349 186.71999"
      ],
      "id": "c8adb1f6-839f-4d29-b86a-6637fc6d2645"
    },
    {
      "cell_type": "markdown",
      "metadata": {},
      "source": [
        "-   다중공선성 vif값이 10을 훨씬 넘음\n",
        "\n",
        "-   되게 불안정\n",
        "\n",
        "-   car package가 설치가 되지 않아.."
      ],
      "id": "7b1c5ff0-9dbe-49c5-b931-06940ab76aa4"
    },
    {
      "cell_type": "code",
      "execution_count": 21,
      "metadata": {},
      "outputs": [
        {
          "output_type": "display_data",
          "metadata": {},
          "data": {
            "text/plain": [
              "\n",
              "Call:\n",
              "lm(formula = y + noise ~ ., data = almost_collin_data)\n",
              "\n",
              "Residuals:\n",
              "    Min      1Q  Median      3Q     Max \n",
              "-2.0962 -0.6998 -0.0891  0.7726  2.8462 \n",
              "\n",
              "Coefficients:\n",
              "            Estimate Std. Error t value Pr(>|t|)    \n",
              "(Intercept)   3.0403     0.1020  29.815  < 2e-16 ***\n",
              "x1            0.9894     0.6043   1.637    0.105    \n",
              "x2            0.9898     0.2095   4.725 7.88e-06 ***\n",
              "x3            0.0158     0.2032   0.078    0.938    \n",
              "---\n",
              "Signif. codes:  0 '***' 0.001 '**' 0.01 '*' 0.05 '.' 0.1 ' ' 1\n",
              "\n",
              "Residual standard error: 1.014 on 96 degrees of freedom\n",
              "Multiple R-squared:  0.9259,    Adjusted R-squared:  0.9236 \n",
              "F-statistic:   400 on 3 and 96 DF,  p-value: < 2.2e-16"
            ]
          }
        }
      ],
      "source": [
        "set.seed(1000)\n",
        "noise <- rnorm(n = 100, mean = 0, sd =0.5)\n",
        "m_noise <- lm(y+noise~., almost_collin_data)\n",
        "summary(m_noise)"
      ],
      "id": "ae23fcc1-de85-4ed2-b090-8e0fc337559a"
    },
    {
      "cell_type": "markdown",
      "metadata": {},
      "source": [
        "-   y 에 noise 살짝 줘보기"
      ],
      "id": "eb2d365c-423d-43ed-9dd0-490e741d0931"
    },
    {
      "cell_type": "code",
      "execution_count": 22,
      "metadata": {},
      "outputs": [
        {
          "output_type": "display_data",
          "metadata": {},
          "data": {
            "text/html": [
              "<style>\n",
              ".dl-inline {width: auto; margin:0; padding: 0}\n",
              ".dl-inline>dt, .dl-inline>dd {float: none; width: auto; display: inline-block}\n",
              ".dl-inline>dt::after {content: \":\\0020\"; padding-right: .5ex}\n",
              ".dl-inline>dt:not(:first-of-type) {padding-left: .5ex}\n",
              "</style><dl class=dl-inline><dt>(Intercept)</dt><dd>3.032</dd><dt>x1</dt><dd>1.219</dd><dt>x2</dt><dd>1.066</dd><dt>x3</dt><dd>-0.063</dd></dl>"
            ]
          }
        }
      ],
      "source": [
        "round(coef(m),3)"
      ],
      "id": "9fa59b42-8bea-4b8c-9b02-c460476a30df"
    },
    {
      "cell_type": "code",
      "execution_count": 23,
      "metadata": {},
      "outputs": [
        {
          "output_type": "display_data",
          "metadata": {},
          "data": {
            "text/html": [
              "<style>\n",
              ".dl-inline {width: auto; margin:0; padding: 0}\n",
              ".dl-inline>dt, .dl-inline>dd {float: none; width: auto; display: inline-block}\n",
              ".dl-inline>dt::after {content: \":\\0020\"; padding-right: .5ex}\n",
              ".dl-inline>dt:not(:first-of-type) {padding-left: .5ex}\n",
              "</style><dl class=dl-inline><dt>(Intercept)</dt><dd>3.04</dd><dt>x1</dt><dd>0.989</dd><dt>x2</dt><dd>0.99</dd><dt>x3</dt><dd>0.016</dd></dl>"
            ]
          }
        }
      ],
      "source": [
        "round(coef(m_noise),3)"
      ],
      "id": "39018d97-4ad6-4eed-b15e-2ad3fcf5c394"
    },
    {
      "cell_type": "markdown",
      "metadata": {},
      "source": [
        "## 다중공선성이 없는 경우 비교"
      ],
      "id": "f726ec03-6155-4497-9ccc-072008fba836"
    },
    {
      "cell_type": "code",
      "execution_count": 24,
      "metadata": {},
      "outputs": [],
      "source": [
        "m1 <- lm(y~x1+x2, almost_collin_data)\n",
        "m1_noise <- lm(y+noise~x1+x2, almost_collin_data)"
      ],
      "id": "98b5de5b-ee0b-436a-a8f4-0855c8a19c07"
    },
    {
      "cell_type": "code",
      "execution_count": 28,
      "metadata": {},
      "outputs": [
        {
          "output_type": "display_data",
          "metadata": {},
          "data": {
            "text/html": [
              "<style>\n",
              ".dl-inline {width: auto; margin:0; padding: 0}\n",
              ".dl-inline>dt, .dl-inline>dd {float: none; width: auto; display: inline-block}\n",
              ".dl-inline>dt::after {content: \":\\0020\"; padding-right: .5ex}\n",
              ".dl-inline>dt:not(:first-of-type) {padding-left: .5ex}\n",
              "</style><dl class=dl-inline><dt>x1</dt><dd>1.00097938645275</dd><dt>x2</dt><dd>1.00097938645275</dd></dl>"
            ]
          }
        }
      ],
      "source": [
        "vif(m1)"
      ],
      "id": "6759b586-71a5-4c4d-94f3-7b5d102e9c56"
    },
    {
      "cell_type": "code",
      "execution_count": 29,
      "metadata": {},
      "outputs": [
        {
          "output_type": "display_data",
          "metadata": {},
          "data": {
            "text/html": [
              "<style>\n",
              ".dl-inline {width: auto; margin:0; padding: 0}\n",
              ".dl-inline>dt, .dl-inline>dd {float: none; width: auto; display: inline-block}\n",
              ".dl-inline>dt::after {content: \":\\0020\"; padding-right: .5ex}\n",
              ".dl-inline>dt:not(:first-of-type) {padding-left: .5ex}\n",
              "</style><dl class=dl-inline><dt>(Intercept)</dt><dd>3.031</dd><dt>x1</dt><dd>1.031</dd><dt>x2</dt><dd>1.002</dd></dl>"
            ]
          }
        }
      ],
      "source": [
        "round(coef(m1),3)"
      ],
      "id": "fd6d58ef-d513-4cc6-8d53-483d98c3cd4b"
    },
    {
      "cell_type": "code",
      "execution_count": 30,
      "metadata": {},
      "outputs": [
        {
          "output_type": "display_data",
          "metadata": {},
          "data": {
            "text/html": [
              "<style>\n",
              ".dl-inline {width: auto; margin:0; padding: 0}\n",
              ".dl-inline>dt, .dl-inline>dd {float: none; width: auto; display: inline-block}\n",
              ".dl-inline>dt::after {content: \":\\0020\"; padding-right: .5ex}\n",
              ".dl-inline>dt:not(:first-of-type) {padding-left: .5ex}\n",
              "</style><dl class=dl-inline><dt>(Intercept)</dt><dd>3.04</dd><dt>x1</dt><dd>1.036</dd><dt>x2</dt><dd>1.006</dd></dl>"
            ]
          }
        }
      ],
      "source": [
        "round(coef(m1_noise),3)"
      ],
      "id": "bade6d54-8991-4009-8664-c46c732f120a"
    },
    {
      "cell_type": "markdown",
      "metadata": {},
      "source": [
        "noise 주니 비교적 안정적으로 보임\n",
        "\n",
        "$$VIF = \\frac{1}{1-R^2_j}$$"
      ],
      "id": "6e2ef0dc-2f2d-403b-b175-d2f8f05a574b"
    },
    {
      "cell_type": "code",
      "execution_count": 31,
      "metadata": {},
      "outputs": [
        {
          "output_type": "display_data",
          "metadata": {},
          "data": {
            "text/html": [
              "186.719994280622"
            ]
          }
        }
      ],
      "source": [
        "m_sub <- lm(x3~x1+x2,almost_collin_data)\n",
        "c33 <- 1/(1-summary(m_sub)$r.sq);c33 ##vif"
      ],
      "id": "43f0e7ff-bcc5-4356-a12f-be8881d2b09f"
    },
    {
      "cell_type": "code",
      "execution_count": 33,
      "metadata": {},
      "outputs": [
        {
          "output_type": "display_data",
          "metadata": {},
          "data": {
            "text/html": [
              "<style>\n",
              ".dl-inline {width: auto; margin:0; padding: 0}\n",
              ".dl-inline>dt, .dl-inline>dd {float: none; width: auto; display: inline-block}\n",
              ".dl-inline>dt::after {content: \":\\0020\"; padding-right: .5ex}\n",
              ".dl-inline>dt:not(:first-of-type) {padding-left: .5ex}\n",
              "</style><dl class=dl-inline><dt>x1</dt><dd>152.42683903062</dd><dt>x2</dt><dd>31.0734919101687</dd><dt>x3</dt><dd>186.719994280611</dd></dl>"
            ]
          }
        }
      ],
      "source": [
        "vif(m)"
      ],
      "id": "9a978de2-2ada-4e81-b654-707f0c6fe65c"
    },
    {
      "cell_type": "markdown",
      "metadata": {},
      "source": [
        "## 실제 데이터 분석"
      ],
      "id": "bc24ebb7-23aa-4fb9-b0dc-a5d188def414"
    },
    {
      "cell_type": "code",
      "execution_count": 34,
      "metadata": {},
      "outputs": [
        {
          "output_type": "display_data",
          "metadata": {},
          "data": {
            "text/html": [
              "<style>\n",
              ".list-inline {list-style: none; margin:0; padding: 0}\n",
              ".list-inline>li {display: inline-block}\n",
              ".list-inline>li:not(:last-child)::after {content: \"\\00b7\"; padding: 0 .5ex}\n",
              "</style>\n",
              "<ol class=list-inline><li>32</li><li>11</li></ol>"
            ]
          }
        }
      ],
      "source": [
        "dt <- data.frame(scale(mtcars))\n",
        "dim(dt)"
      ],
      "id": "43a4c7a8-a09d-4316-9ec0-4b2260a9d17a"
    },
    {
      "cell_type": "code",
      "execution_count": 35,
      "metadata": {},
      "outputs": [
        {
          "output_type": "display_data",
          "metadata": {},
          "data": {}
        }
      ],
      "source": [
        "head(dt)"
      ],
      "id": "a198f590-7a33-4345-b759-7fbd04d9ed5f"
    },
    {
      "cell_type": "markdown",
      "metadata": {},
      "source": [
        "\\[, 1\\] mpg Miles/(US) gallon\n",
        "\n",
        "\\[, 2\\] cyl Number of cylinders\n",
        "\n",
        "\\[, 3\\] disp Displacement (cu.in.)\n",
        "\n",
        "\\[, 4\\] hp Gross horsepower\n",
        "\n",
        "\\[, 5\\] drat Rear axle ratio\n",
        "\n",
        "\\[, 6\\] wt Weight (1000 lbs)\n",
        "\n",
        "\\[, 7\\] qsec 1/4 mile time\n",
        "\n",
        "\\[, 8\\] vs Engine (0 = V-shaped, 1 = straight)\n",
        "\n",
        "\\[, 9\\] am Transmission (0 = automatic, 1 = manual)\n",
        "\n",
        "\\[,10\\] gear Number of forward gears\n",
        "\n",
        "\\[,11\\] carb Number of carburetors"
      ],
      "id": "89216176-bbcf-47eb-bbd5-4d0abe138c2c"
    },
    {
      "cell_type": "code",
      "execution_count": 36,
      "metadata": {},
      "outputs": [
        {
          "output_type": "display_data",
          "metadata": {},
          "data": {
            "image/png": "[encoded data removed]"
          }
        }
      ],
      "source": [
        "pairs(dt)"
      ],
      "id": "6e83e044-666f-4713-8078-10248e2b9284"
    },
    {
      "cell_type": "code",
      "execution_count": 37,
      "metadata": {},
      "outputs": [
        {
          "output_type": "display_data",
          "metadata": {},
          "data": {}
        }
      ],
      "source": [
        "round(cor(dt),2)"
      ],
      "id": "c6b254cd-dc0e-4f8d-a74b-4849b5073b98"
    },
    {
      "cell_type": "code",
      "execution_count": 38,
      "metadata": {},
      "outputs": [
        {
          "output_type": "display_data",
          "metadata": {},
          "data": {
            "text/plain": [
              "\n",
              "Call:\n",
              "lm(formula = mpg ~ ., data = dt)\n",
              "\n",
              "Residuals:\n",
              "     Min       1Q   Median       3Q      Max \n",
              "-0.57254 -0.26620 -0.01985  0.20230  0.76773 \n",
              "\n",
              "Coefficients:\n",
              "              Estimate Std. Error t value Pr(>|t|)  \n",
              "(Intercept) -1.613e-17  7.773e-02   0.000   1.0000  \n",
              "cyl         -3.302e-02  3.097e-01  -0.107   0.9161  \n",
              "disp         2.742e-01  3.672e-01   0.747   0.4635  \n",
              "hp          -2.444e-01  2.476e-01  -0.987   0.3350  \n",
              "drat         6.983e-02  1.451e-01   0.481   0.6353  \n",
              "wt          -6.032e-01  3.076e-01  -1.961   0.0633 .\n",
              "qsec         2.434e-01  2.167e-01   1.123   0.2739  \n",
              "vs           2.657e-02  1.760e-01   0.151   0.8814  \n",
              "am           2.087e-01  1.703e-01   1.225   0.2340  \n",
              "gear         8.023e-02  1.828e-01   0.439   0.6652  \n",
              "carb        -5.344e-02  2.221e-01  -0.241   0.8122  \n",
              "---\n",
              "Signif. codes:  0 '***' 0.001 '**' 0.01 '*' 0.05 '.' 0.1 ' ' 1\n",
              "\n",
              "Residual standard error: 0.4397 on 21 degrees of freedom\n",
              "Multiple R-squared:  0.869, Adjusted R-squared:  0.8066 \n",
              "F-statistic: 13.93 on 10 and 21 DF,  p-value: 3.793e-07"
            ]
          }
        }
      ],
      "source": [
        "cars_fit_lm <- lm(mpg~., dt)\n",
        "summary(cars_fit_lm)"
      ],
      "id": "fe4ff7cb-e6d8-43dd-8b72-4f33a89cf7d5"
    },
    {
      "cell_type": "markdown",
      "metadata": {},
      "source": [
        "$H_0: \\beta_1 = \\beta_2 = \\dots = 0$ 모형은 유의하게 나왔는데 각 변수는\n",
        "모두 유의하지 않게 나옴.."
      ],
      "id": "01146266-fc80-423e-8375-9023cecb5fa1"
    },
    {
      "cell_type": "code",
      "execution_count": 40,
      "metadata": {},
      "outputs": [
        {
          "output_type": "display_data",
          "metadata": {},
          "data": {
            "text/html": [
              "<style>\n",
              ".dl-inline {width: auto; margin:0; padding: 0}\n",
              ".dl-inline>dt, .dl-inline>dd {float: none; width: auto; display: inline-block}\n",
              ".dl-inline>dt::after {content: \":\\0020\"; padding-right: .5ex}\n",
              ".dl-inline>dt:not(:first-of-type) {padding-left: .5ex}\n",
              "</style><dl class=dl-inline><dt>cyl</dt><dd>15.3738334034422</dd><dt>disp</dt><dd>21.6202410289589</dd><dt>hp</dt><dd>9.83203684435906</dd><dt>drat</dt><dd>3.37462000831475</dd><dt>wt</dt><dd>15.1648869639871</dd><dt>qsec</dt><dd>7.5279582252911</dd><dt>vs</dt><dd>4.96587346648472</dd><dt>am</dt><dd>4.64848745550015</dd><dt>gear</dt><dd>5.35745210594065</dd><dt>carb</dt><dd>7.90874675118444</dd></dl>"
            ]
          }
        }
      ],
      "source": [
        "vif(cars_fit_lm)"
      ],
      "id": "11e706fb-0a14-4cd9-a23f-63636db3ac0e"
    },
    {
      "cell_type": "markdown",
      "metadata": {},
      "source": [
        "# 능형회귀 (Ridge Regression)\n",
        "\n",
        "## lm.ridge 함수 이용"
      ],
      "id": "b8574b62-9ddd-4aaa-9483-9fc81b721421"
    },
    {
      "cell_type": "code",
      "execution_count": 41,
      "metadata": {},
      "outputs": [],
      "source": [
        "rfit <- lm.ridge(mpg~., dt, lambda=seq(0.01,20,0.1))"
      ],
      "id": "0c5df7fa-adad-4b9c-aeef-fe4e11cf9c58"
    },
    {
      "cell_type": "code",
      "execution_count": 42,
      "metadata": {},
      "outputs": [
        {
          "output_type": "stream",
          "name": "stdout",
          "text": [
            "modified HKB estimator is 2.58585 \n",
            "modified L-W estimator is 1.837435 \n",
            "smallest value of GCV  at 14.91 "
          ]
        }
      ],
      "source": [
        "select(rfit)"
      ],
      "id": "97b6959d-5ccc-4d2c-ac5f-027e83cc2686"
    },
    {
      "cell_type": "markdown",
      "metadata": {},
      "source": [
        "-   람다값 추천 GCV Generated Cross Validation mse를 가장 작게 하는\n",
        "    람다값"
      ],
      "id": "82e71d1e-f97b-4396-9e0a-aa9c60ccc328"
    },
    {
      "cell_type": "code",
      "execution_count": 43,
      "metadata": {},
      "outputs": [
        {
          "output_type": "display_data",
          "metadata": {},
          "data": {
            "text/html": [
              "<style>\n",
              ".dl-inline {width: auto; margin:0; padding: 0}\n",
              ".dl-inline>dt, .dl-inline>dd {float: none; width: auto; display: inline-block}\n",
              ".dl-inline>dt::after {content: \":\\0020\"; padding-right: .5ex}\n",
              ".dl-inline>dt:not(:first-of-type) {padding-left: .5ex}\n",
              "</style><dl class=dl-inline><dt>cyl</dt><dd>-0.032</dd><dt>disp</dt><dd>0.185</dd><dt>hp</dt><dd>-0.211</dd><dt>drat</dt><dd>0.074</dd><dt>wt</dt><dd>-0.52</dd><dt>qsec</dt><dd>0.207</dd><dt>vs</dt><dd>0.027</dd><dt>am</dt><dd>0.201</dd><dt>gear</dt><dd>0.082</dd><dt>carb</dt><dd>-0.093</dd></dl>"
            ]
          }
        }
      ],
      "source": [
        "round(rfit$coef[,rfit$lam=='0.21'],3)"
      ],
      "id": "2bcb981a-711f-4291-86fe-b879c85fdb26"
    },
    {
      "cell_type": "markdown",
      "metadata": {},
      "source": [
        "$\\sum \\hat{\\beta_j}^2, \\lambda = 0.21$"
      ],
      "id": "940231f8-5347-440e-820b-89f134231b52"
    },
    {
      "cell_type": "code",
      "execution_count": 44,
      "metadata": {},
      "outputs": [
        {
          "output_type": "display_data",
          "metadata": {},
          "data": {
            "text/html": [
              "<style>\n",
              ".dl-inline {width: auto; margin:0; padding: 0}\n",
              ".dl-inline>dt, .dl-inline>dd {float: none; width: auto; display: inline-block}\n",
              ".dl-inline>dt::after {content: \":\\0020\"; padding-right: .5ex}\n",
              ".dl-inline>dt:not(:first-of-type) {padding-left: .5ex}\n",
              "</style><dl class=dl-inline><dt>cyl</dt><dd>-0.078</dd><dt>disp</dt><dd>-0.049</dd><dt>hp</dt><dd>-0.144</dd><dt>drat</dt><dd>0.086</dd><dt>wt</dt><dd>-0.291</dd><dt>qsec</dt><dd>0.085</dd><dt>vs</dt><dd>0.041</dd><dt>am</dt><dd>0.169</dd><dt>gear</dt><dd>0.075</dd><dt>carb</dt><dd>-0.175</dd></dl>"
            ]
          }
        }
      ],
      "source": [
        "round(rfit$coef[,rfit$lam=='3.21'],3)"
      ],
      "id": "80757c46-cff6-4c67-9e7f-ed78468ad456"
    },
    {
      "cell_type": "markdown",
      "metadata": {},
      "source": [
        "$\\sum \\hat{\\beta_j}^2, \\lambda = 3.21$"
      ],
      "id": "7e9b5c12-96c3-4660-934d-25266959fb2e"
    },
    {
      "cell_type": "code",
      "execution_count": 45,
      "metadata": {},
      "outputs": [
        {
          "output_type": "display_data",
          "metadata": {},
          "data": {
            "text/html": [
              "<style>\n",
              ".dl-inline {width: auto; margin:0; padding: 0}\n",
              ".dl-inline>dt, .dl-inline>dd {float: none; width: auto; display: inline-block}\n",
              ".dl-inline>dt::after {content: \":\\0020\"; padding-right: .5ex}\n",
              ".dl-inline>dt:not(:first-of-type) {padding-left: .5ex}\n",
              "</style><dl class=dl-inline><dt>cyl</dt><dd>-0.109</dd><dt>disp</dt><dd>-0.107</dd><dt>hp</dt><dd>-0.13</dd><dt>drat</dt><dd>0.092</dd><dt>wt</dt><dd>-0.197</dd><dt>qsec</dt><dd>0.047</dd><dt>vs</dt><dd>0.063</dd><dt>am</dt><dd>0.132</dd><dt>gear</dt><dd>0.066</dd><dt>carb</dt><dd>-0.144</dd></dl>"
            ]
          }
        }
      ],
      "source": [
        "round(rfit$coef[,rfit$lam=='14.91'],3)"
      ],
      "id": "4e4cc382-85e2-4864-b4ac-23b7aa3fc77f"
    },
    {
      "cell_type": "markdown",
      "metadata": {},
      "source": [
        "$\\sum \\hat{\\beta_j}^2, \\lambda = 14.91$"
      ],
      "id": "b9bd913f-a173-46d0-bf3c-1c6570fdcfd9"
    },
    {
      "cell_type": "code",
      "execution_count": 46,
      "metadata": {},
      "outputs": [
        {
          "output_type": "display_data",
          "metadata": {},
          "data": {
            "text/html": [
              "0.455670466366229"
            ]
          }
        }
      ],
      "source": [
        "sum(rfit$coef[,rfit$lam=='0.21']^2)"
      ],
      "id": "886bde91-4cb6-4684-b5f2-ae66e78293d7"
    },
    {
      "cell_type": "code",
      "execution_count": 47,
      "metadata": {},
      "outputs": [
        {
          "output_type": "display_data",
          "metadata": {},
          "data": {
            "text/html": [
              "0.195026451544005"
            ]
          }
        }
      ],
      "source": [
        "sum(rfit$coef[,rfit$lam=='3.21']^2)"
      ],
      "id": "09ebaabc-6175-4584-8660-fc2727583be6"
    },
    {
      "cell_type": "code",
      "execution_count": 48,
      "metadata": {},
      "outputs": [
        {
          "output_type": "display_data",
          "metadata": {},
          "data": {
            "text/html": [
              "0.135989355255868"
            ]
          }
        }
      ],
      "source": [
        "sum(rfit$coef[,rfit$lam=='14.91']^2)"
      ],
      "id": "43e8d0b0-3d47-4663-bd92-e332e58ae668"
    },
    {
      "cell_type": "code",
      "execution_count": 49,
      "metadata": {},
      "outputs": [
        {
          "output_type": "display_data",
          "metadata": {},
          "data": {
            "image/png": "[encoded data removed]"
          }
        }
      ],
      "source": [
        "# graphics.off()\n",
        "matplot(rfit$lambda, t(rfit$coef), type='l',\n",
        "xlab=expression(lambda),\n",
        "ylab=expression(bold(beta)(lambda)), lwd=2) \n",
        "abline(h=0, col=\"grey\", lty=2)\n",
        "abline(v=14.91, col=\"black\", lty=2)"
      ],
      "id": "e043b4a6-00e0-498e-bb03-8f5fd60e2e1b"
    },
    {
      "cell_type": "markdown",
      "metadata": {},
      "source": [
        "## glmnet 함수 이용\n",
        "\n",
        "-   설명변수만 사용 상수항 없이"
      ],
      "id": "6438a627-7ef1-4475-a071-4741cd1d35ef"
    },
    {
      "cell_type": "code",
      "execution_count": 50,
      "metadata": {},
      "outputs": [
        {
          "output_type": "display_data",
          "metadata": {},
          "data": {}
        }
      ],
      "source": [
        "X <- model.matrix(mpg~., dt)[,-1]\n",
        "y <- dt$mpg\n",
        "head(X)"
      ],
      "id": "35194fe6-dbf9-48c3-8533-e00396fea1b9"
    },
    {
      "cell_type": "code",
      "execution_count": 51,
      "metadata": {},
      "outputs": [
        {
          "output_type": "display_data",
          "metadata": {},
          "data": {
            "text/html": [
              "<style>\n",
              ".list-inline {list-style: none; margin:0; padding: 0}\n",
              ".list-inline>li {display: inline-block}\n",
              ".list-inline>li:not(:last-child)::after {content: \"\\00b7\"; padding: 0 .5ex}\n",
              "</style>\n",
              "<ol class=list-inline><li>0.150884824647657</li><li>0.150884824647657</li><li>0.449543446630647</li><li>0.217253407310543</li><li>-0.230734525663942</li><li>-0.330287399658272</li></ol>"
            ]
          }
        }
      ],
      "source": [
        "head(y)"
      ],
      "id": "9236cad8-ed94-4b19-9e68-3de08f1be27f"
    },
    {
      "cell_type": "code",
      "execution_count": 56,
      "metadata": {},
      "outputs": [],
      "source": [
        "ridge.fit<-glmnet(X,y,alpha=0, lambda=seq(0.01,20,0.1)) ##ridge : alpha=0 plot(ridge.fit, label=TRUE)"
      ],
      "id": "f9f8c53f-6cb0-418d-bc11-9fb88556e8bc"
    },
    {
      "cell_type": "markdown",
      "metadata": {},
      "source": [
        "-   $\\sum \\hat{\\beta}^2 \\le t$ Ridge, $\\sum |\\hat{\\beta}| \\le t$ Rasso\n",
        "-   $(1-\\alpha)\\sum \\hat{\\beta}^2 + \\alpha \\sum |\\hat{\\beta}| \\le t$\n",
        "-   alpha=0 $\\to$ Ridge 쓰겠다.\n",
        "-   alpha=0 $\\to$ Rasso 쓰겠다.\n",
        "-   alpha=0.5 $\\to$ Ridge, Rasso 반절씩 쓰겠다."
      ],
      "id": "fd355305-25fe-4ee2-86ce-14d6a271025f"
    },
    {
      "cell_type": "code",
      "execution_count": 59,
      "metadata": {},
      "outputs": [
        {
          "output_type": "stream",
          "name": "stderr",
          "text": [
            "Warning message:\n",
            "\"Option grouped=FALSE enforced in cv.glmnet, since < 3 observations per fold\""
          ]
        }
      ],
      "source": [
        "cv.fit<-cv.glmnet(X,y,alpha=0,nfolds=length(y))\n",
        "## Warning: Option grouped=FALSE enforced in cv.glmnet, since < 3 observations per ## fold"
      ],
      "id": "5abf76ee-a194-40da-9fc4-267bc319e117"
    },
    {
      "cell_type": "markdown",
      "metadata": {},
      "source": [
        "-   cross validation"
      ],
      "id": "d9c9dbd3-1e5f-41c1-a2ca-0059ade785a6"
    },
    {
      "cell_type": "code",
      "execution_count": 62,
      "metadata": {},
      "outputs": [
        {
          "output_type": "display_data",
          "metadata": {},
          "data": {
            "text/plain": [
              "\n",
              "Call:  cv.glmnet(x = X, y = y, nfolds = 10, alpha = 0) \n",
              "\n",
              "Measure: Mean-Squared Error \n",
              "\n",
              "    Lambda Index Measure      SE Nonzero\n",
              "min 0.4558    82  0.2002 0.04900      10\n",
              "1se 1.8399    67  0.2444 0.07153      10"
            ]
          }
        }
      ],
      "source": [
        "cv.fit"
      ],
      "id": "27e004a1-a18a-4cfb-91ae-0a286cb3164f"
    },
    {
      "cell_type": "code",
      "execution_count": 63,
      "metadata": {},
      "outputs": [
        {
          "output_type": "display_data",
          "metadata": {},
          "data": {
            "image/png": "[encoded data removed]"
          }
        }
      ],
      "source": [
        "plot(cv.fit)\n",
        "abline(h=0, col=\"grey\", lty=2)"
      ],
      "id": "7b8c402f-fe34-460a-b29a-84e5c6d2a364"
    },
    {
      "cell_type": "code",
      "execution_count": 64,
      "metadata": {},
      "outputs": [
        {
          "output_type": "display_data",
          "metadata": {},
          "data": {
            "text/plain": [
              "\n",
              "Call:  cv.glmnet(x = X, y = y, nfolds = 10, alpha = 0) \n",
              "\n",
              "Measure: Mean-Squared Error \n",
              "\n",
              "    Lambda Index Measure     SE Nonzero\n",
              "min 0.4558    82  0.2165 0.0638      10\n",
              "1se 2.2161    65  0.2756 0.1059      10"
            ]
          }
        }
      ],
      "source": [
        "cv.fit<-cv.glmnet(X,y,alpha=0,nfolds=10)\n",
        "cv.fit"
      ],
      "id": "57abe47c-a499-4fe6-a363-674b18be73b5"
    },
    {
      "cell_type": "code",
      "execution_count": 65,
      "metadata": {},
      "outputs": [
        {
          "output_type": "display_data",
          "metadata": {},
          "data": {
            "image/png": "[encoded data removed]"
          }
        }
      ],
      "source": [
        "plot(cv.fit)"
      ],
      "id": "17c34b43-2607-49ff-abc0-617f4581cc87"
    },
    {
      "cell_type": "code",
      "execution_count": 67,
      "metadata": {},
      "outputs": [
        {
          "output_type": "display_data",
          "metadata": {},
          "data": {
            "text/html": [
              "0.455751230036319"
            ]
          }
        }
      ],
      "source": [
        "lam<-cv.fit$lambda.min;lam"
      ],
      "id": "444ad0ec-b0e5-4b41-a1d5-0109079f09d2"
    },
    {
      "cell_type": "code",
      "execution_count": 69,
      "metadata": {},
      "outputs": [
        {
          "output_type": "display_data",
          "metadata": {},
          "data": {
            "text/html": [
              "-0.785808166499264"
            ]
          }
        }
      ],
      "source": [
        "log(lam)"
      ],
      "id": "2a5df3c1-8f8a-48ae-b1e7-1e8a435debe5"
    },
    {
      "cell_type": "code",
      "execution_count": 70,
      "metadata": {},
      "outputs": [
        {
          "output_type": "display_data",
          "metadata": {},
          "data": {
            "text/plain": [
              "11 x 1 sparse Matrix of class \"dgCMatrix\"\n",
              "                       s1\n",
              "(Intercept)  8.341243e-17\n",
              "cyl         -1.103002e-01\n",
              "disp        -1.078123e-01\n",
              "hp          -1.318526e-01\n",
              "drat         9.325727e-02\n",
              "wt          -2.004586e-01\n",
              "qsec         4.817170e-02\n",
              "vs           6.442374e-02\n",
              "am           1.345790e-01\n",
              "gear         6.679685e-02\n",
              "carb        -1.470291e-01"
            ]
          }
        }
      ],
      "source": [
        "predict(ridge.fit,type=\"coefficients\",s=lam)"
      ],
      "id": "0455beaa-2fc3-434c-a430-51c4082bf0cc"
    },
    {
      "cell_type": "markdown",
      "metadata": {},
      "source": [
        "-   $\\hat{y}$구하고 싶으면 type을 `response`로 바꾸면 됌\n",
        "\n",
        "## Lasso"
      ],
      "id": "ff4249b2-d97d-497f-8104-a02cb29c2ee2"
    },
    {
      "cell_type": "code",
      "execution_count": 71,
      "metadata": {},
      "outputs": [],
      "source": [
        "lasso.fit<-glmnet(X,y,alpha=1, lambda=seq(0.01,20,0.1)) ##lasso : alpha=1 plot(lasso.fit, label=TRUE)"
      ],
      "id": "6fabf79d-a581-429c-9ee9-8396585cfb77"
    },
    {
      "cell_type": "code",
      "execution_count": 72,
      "metadata": {},
      "outputs": [
        {
          "output_type": "display_data",
          "metadata": {},
          "data": {
            "text/plain": [
              "\n",
              "Call:  cv.glmnet(x = X, y = y, nfolds = 10, alpha = 1) \n",
              "\n",
              "Measure: Mean-Squared Error \n",
              "\n",
              "    Lambda Index Measure      SE Nonzero\n",
              "min 0.1211    22  0.2420 0.07897       3\n",
              "1se 0.2796    13  0.3144 0.12750       3"
            ]
          }
        }
      ],
      "source": [
        "cv.lasso.fit<-cv.glmnet(X,y,alpha=1,nfolds=10)\n",
        "cv.lasso.fit"
      ],
      "id": "06035b2c-ce7b-4b7d-a46f-055580abc678"
    },
    {
      "cell_type": "code",
      "execution_count": 73,
      "metadata": {
        "tags": []
      },
      "outputs": [
        {
          "output_type": "display_data",
          "metadata": {},
          "data": {
            "image/png": "[encoded data removed]"
          }
        }
      ],
      "source": [
        "plot(cv.lasso.fit)"
      ],
      "id": "7a4329f3-a378-445f-90e1-53d8d8f202b9"
    }
  ],
  "nbformat": 4,
  "nbformat_minor": 5,
  "metadata": {
    "kernelspec": {
      "name": "r",
      "display_name": "R",
      "language": "R"
    },
    "language_info": {
      "name": "R",
      "codemirror_mode": "r",
      "file_extension": ".r",
      "mimetype": "text/x-r-source",
      "pygments_lexer": "r",
      "version": "4.0.2"
    }
  }
}