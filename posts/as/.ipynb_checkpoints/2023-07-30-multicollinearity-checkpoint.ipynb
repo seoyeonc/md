{
 "cells": [
  {
   "cell_type": "raw",
   "id": "8913210b-4351-401c-b3c7-5c598c3cc2b0",
   "metadata": {
    "id": "cac470df-29e7-4148-9bbd-d8b9a32fa570",
    "tags": []
   },
   "source": [
    "---\n",
    "title: \"Multicollinearity\"\n",
    "author: \"SEOYEON CHOI\"\n",
    "date: \"2023-07-30\"\n",
    "categories:\n",
    "  - Special Topics in Applied Statistics\n",
    "---"
   ]
  },
  {
   "cell_type": "markdown",
   "id": "bf71f23f-e709-41a2-999a-ab5b0a94ca1c",
   "metadata": {},
   "source": [
    "# Import"
   ]
  },
  {
   "cell_type": "code",
   "execution_count": 2,
   "id": "1140ab33-dc4a-4d86-9876-d51df6b80101",
   "metadata": {},
   "outputs": [
    {
     "ename": "ERROR",
     "evalue": "Error in library(car): there is no package called ‘car’\n",
     "output_type": "error",
     "traceback": [
      "Error in library(car): there is no package called ‘car’\nTraceback:\n",
      "1. library(car)"
     ]
    }
   ],
   "source": [
    "library(MASS) #lm.ridge\n",
    "library(car) #vif\n",
    "library(glmnet) #Ridge, Lasso"
   ]
  },
  {
   "cell_type": "markdown",
   "id": "f61edac7-7e29-4312-9b2a-c0469b5ceac0",
   "metadata": {},
   "source": [
    "완전한 다중공선성 (perfect multicollinearity) 완전한 다중공선성을 갖는 데이터 생성"
   ]
  },
  {
   "cell_type": "code",
   "execution_count": 3,
   "id": "be5e2725-ea0e-482f-8f16-2256e961451b",
   "metadata": {},
   "outputs": [],
   "source": [
    "gen_perfect_collin_data = function(num_samples = 100) {\n",
    "    x1 = rnorm(n = num_samples, mean = 80, sd = 10)\n",
    "    x2 = rnorm(n = num_samples, mean = 70, sd = 5)\n",
    "    x3 = 2 * x1 + 4 * x2 + 3\n",
    "    y = 3 + x1 + x2 + rnorm(n = num_samples, mean = 0, sd = 1)\n",
    "    data.frame(y, x1, x2, x3) }"
   ]
  },
  {
   "cell_type": "code",
   "execution_count": 4,
   "id": "2d25f6d2-7706-4728-ad26-dbc9396ea035",
   "metadata": {},
   "outputs": [
    {
     "data": {
      "text/html": [
       "<table class=\"dataframe\">\n",
       "<caption>A data.frame: 6 × 4</caption>\n",
       "<thead>\n",
       "\t<tr><th></th><th scope=col>y</th><th scope=col>x1</th><th scope=col>x2</th><th scope=col>x3</th></tr>\n",
       "\t<tr><th></th><th scope=col>&lt;dbl&gt;</th><th scope=col>&lt;dbl&gt;</th><th scope=col>&lt;dbl&gt;</th><th scope=col>&lt;dbl&gt;</th></tr>\n",
       "</thead>\n",
       "<tbody>\n",
       "\t<tr><th scope=row>1</th><td>170.7135</td><td>93.70958</td><td>76.00483</td><td>494.4385</td></tr>\n",
       "\t<tr><th scope=row>2</th><td>152.9106</td><td>74.35302</td><td>75.22376</td><td>452.6011</td></tr>\n",
       "\t<tr><th scope=row>3</th><td>152.7866</td><td>83.63128</td><td>64.98396</td><td>430.1984</td></tr>\n",
       "\t<tr><th scope=row>4</th><td>170.6306</td><td>86.32863</td><td>79.24241</td><td>492.6269</td></tr>\n",
       "\t<tr><th scope=row>5</th><td>152.3320</td><td>84.04268</td><td>66.66613</td><td>437.7499</td></tr>\n",
       "\t<tr><th scope=row>6</th><td>151.3155</td><td>78.93875</td><td>70.52757</td><td>442.9878</td></tr>\n",
       "</tbody>\n",
       "</table>\n"
      ],
      "text/latex": [
       "A data.frame: 6 × 4\n",
       "\\begin{tabular}{r|llll}\n",
       "  & y & x1 & x2 & x3\\\\\n",
       "  & <dbl> & <dbl> & <dbl> & <dbl>\\\\\n",
       "\\hline\n",
       "\t1 & 170.7135 & 93.70958 & 76.00483 & 494.4385\\\\\n",
       "\t2 & 152.9106 & 74.35302 & 75.22376 & 452.6011\\\\\n",
       "\t3 & 152.7866 & 83.63128 & 64.98396 & 430.1984\\\\\n",
       "\t4 & 170.6306 & 86.32863 & 79.24241 & 492.6269\\\\\n",
       "\t5 & 152.3320 & 84.04268 & 66.66613 & 437.7499\\\\\n",
       "\t6 & 151.3155 & 78.93875 & 70.52757 & 442.9878\\\\\n",
       "\\end{tabular}\n"
      ],
      "text/markdown": [
       "\n",
       "A data.frame: 6 × 4\n",
       "\n",
       "| <!--/--> | y &lt;dbl&gt; | x1 &lt;dbl&gt; | x2 &lt;dbl&gt; | x3 &lt;dbl&gt; |\n",
       "|---|---|---|---|---|\n",
       "| 1 | 170.7135 | 93.70958 | 76.00483 | 494.4385 |\n",
       "| 2 | 152.9106 | 74.35302 | 75.22376 | 452.6011 |\n",
       "| 3 | 152.7866 | 83.63128 | 64.98396 | 430.1984 |\n",
       "| 4 | 170.6306 | 86.32863 | 79.24241 | 492.6269 |\n",
       "| 5 | 152.3320 | 84.04268 | 66.66613 | 437.7499 |\n",
       "| 6 | 151.3155 | 78.93875 | 70.52757 | 442.9878 |\n",
       "\n"
      ],
      "text/plain": [
       "  y        x1       x2       x3      \n",
       "1 170.7135 93.70958 76.00483 494.4385\n",
       "2 152.9106 74.35302 75.22376 452.6011\n",
       "3 152.7866 83.63128 64.98396 430.1984\n",
       "4 170.6306 86.32863 79.24241 492.6269\n",
       "5 152.3320 84.04268 66.66613 437.7499\n",
       "6 151.3155 78.93875 70.52757 442.9878"
      ]
     },
     "metadata": {},
     "output_type": "display_data"
    }
   ],
   "source": [
    "set.seed(42)\n",
    "perfect_collin_data = gen_perfect_collin_data()\n",
    "head(perfect_collin_data)"
   ]
  },
  {
   "cell_type": "code",
   "execution_count": 5,
   "id": "8476878c-f8c1-418f-85e8-ee816d94660c",
   "metadata": {},
   "outputs": [
    {
     "data": {
      "text/html": [
       "<table class=\"dataframe\">\n",
       "<caption>A matrix: 4 × 4 of type dbl</caption>\n",
       "<thead>\n",
       "\t<tr><th></th><th scope=col>y</th><th scope=col>x1</th><th scope=col>x2</th><th scope=col>x3</th></tr>\n",
       "</thead>\n",
       "<tbody>\n",
       "\t<tr><th scope=row>y</th><td>1.0000</td><td>0.9112</td><td>0.4307</td><td>0.9558</td></tr>\n",
       "\t<tr><th scope=row>x1</th><td>0.9112</td><td>1.0000</td><td>0.0313</td><td>0.7639</td></tr>\n",
       "\t<tr><th scope=row>x2</th><td>0.4307</td><td>0.0313</td><td>1.0000</td><td>0.6690</td></tr>\n",
       "\t<tr><th scope=row>x3</th><td>0.9558</td><td>0.7639</td><td>0.6690</td><td>1.0000</td></tr>\n",
       "</tbody>\n",
       "</table>\n"
      ],
      "text/latex": [
       "A matrix: 4 × 4 of type dbl\n",
       "\\begin{tabular}{r|llll}\n",
       "  & y & x1 & x2 & x3\\\\\n",
       "\\hline\n",
       "\ty & 1.0000 & 0.9112 & 0.4307 & 0.9558\\\\\n",
       "\tx1 & 0.9112 & 1.0000 & 0.0313 & 0.7639\\\\\n",
       "\tx2 & 0.4307 & 0.0313 & 1.0000 & 0.6690\\\\\n",
       "\tx3 & 0.9558 & 0.7639 & 0.6690 & 1.0000\\\\\n",
       "\\end{tabular}\n"
      ],
      "text/markdown": [
       "\n",
       "A matrix: 4 × 4 of type dbl\n",
       "\n",
       "| <!--/--> | y | x1 | x2 | x3 |\n",
       "|---|---|---|---|---|\n",
       "| y | 1.0000 | 0.9112 | 0.4307 | 0.9558 |\n",
       "| x1 | 0.9112 | 1.0000 | 0.0313 | 0.7639 |\n",
       "| x2 | 0.4307 | 0.0313 | 1.0000 | 0.6690 |\n",
       "| x3 | 0.9558 | 0.7639 | 0.6690 | 1.0000 |\n",
       "\n"
      ],
      "text/plain": [
       "   y      x1     x2     x3    \n",
       "y  1.0000 0.9112 0.4307 0.9558\n",
       "x1 0.9112 1.0000 0.0313 0.7639\n",
       "x2 0.4307 0.0313 1.0000 0.6690\n",
       "x3 0.9558 0.7639 0.6690 1.0000"
      ]
     },
     "metadata": {},
     "output_type": "display_data"
    }
   ],
   "source": [
    "round(cor(perfect_collin_data),4)"
   ]
  },
  {
   "cell_type": "markdown",
   "id": "622e9358-fc7d-49fc-a8c5-26d14fb3e7cf",
   "metadata": {},
   "source": [
    "- x3이 x1과 y에 영향을 주는것처럼 보임"
   ]
  },
  {
   "cell_type": "code",
   "execution_count": 6,
   "id": "a0f87c96-cf14-4f70-b2bd-8dbd9eb7abf6",
   "metadata": {},
   "outputs": [
    {
     "data": {
      "text/plain": [
       "\n",
       "Call:\n",
       "lm(formula = y ~ x1 + x2 + x3, data = perfect_collin_data)\n",
       "\n",
       "Residuals:\n",
       "     Min       1Q   Median       3Q      Max \n",
       "-2.57662 -0.66188 -0.08253  0.63706  2.52057 \n",
       "\n",
       "Coefficients: (1 not defined because of singularities)\n",
       "            Estimate Std. Error t value Pr(>|t|)    \n",
       "(Intercept) 2.957336   1.735165   1.704   0.0915 .  \n",
       "x1          0.985629   0.009788 100.702   <2e-16 ***\n",
       "x2          1.017059   0.022545  45.112   <2e-16 ***\n",
       "x3                NA         NA      NA       NA    \n",
       "---\n",
       "Signif. codes:  0 ‘***’ 0.001 ‘**’ 0.01 ‘*’ 0.05 ‘.’ 0.1 ‘ ’ 1\n",
       "\n",
       "Residual standard error: 1.014 on 97 degrees of freedom\n",
       "Multiple R-squared:  0.9923,\tAdjusted R-squared:  0.9921 \n",
       "F-statistic:  6236 on 2 and 97 DF,  p-value: < 2.2e-16\n"
      ]
     },
     "metadata": {},
     "output_type": "display_data"
    }
   ],
   "source": [
    "perfect_collin_fit = lm(y ~ x1 + x2 + x3, data = perfect_collin_data)\n",
    "summary(perfect_collin_fit)"
   ]
  },
  {
   "cell_type": "markdown",
   "id": "b5580e74-0925-4532-bb7d-fe08650e90a6",
   "metadata": {},
   "source": [
    "- x3을 아예 추정하지 않아버림. 완벽한 다중공선성이 있는 경우."
   ]
  },
  {
   "cell_type": "code",
   "execution_count": 7,
   "id": "40594d07-ae60-42cd-b9b6-5757cd8d3e4f",
   "metadata": {},
   "outputs": [],
   "source": [
    "fit1 = lm(y ~ x1 + x2, data = perfect_collin_data)\n",
    "fit2 = lm(y ~ x1 + x3, data = perfect_collin_data)\n",
    "fit3 = lm(y ~ x2 + x3, data = perfect_collin_data)"
   ]
  },
  {
   "cell_type": "code",
   "execution_count": 8,
   "id": "c4fb8e48-5170-437e-9708-3668461582cc",
   "metadata": {},
   "outputs": [
    {
     "data": {
      "text/plain": [
       "\n",
       "Call:\n",
       "lm(formula = y ~ x1 + x2, data = perfect_collin_data)\n",
       "\n",
       "Residuals:\n",
       "     Min       1Q   Median       3Q      Max \n",
       "-2.57662 -0.66188 -0.08253  0.63706  2.52057 \n",
       "\n",
       "Coefficients:\n",
       "            Estimate Std. Error t value Pr(>|t|)    \n",
       "(Intercept) 2.957336   1.735165   1.704   0.0915 .  \n",
       "x1          0.985629   0.009788 100.702   <2e-16 ***\n",
       "x2          1.017059   0.022545  45.112   <2e-16 ***\n",
       "---\n",
       "Signif. codes:  0 ‘***’ 0.001 ‘**’ 0.01 ‘*’ 0.05 ‘.’ 0.1 ‘ ’ 1\n",
       "\n",
       "Residual standard error: 1.014 on 97 degrees of freedom\n",
       "Multiple R-squared:  0.9923,\tAdjusted R-squared:  0.9921 \n",
       "F-statistic:  6236 on 2 and 97 DF,  p-value: < 2.2e-16\n"
      ]
     },
     "metadata": {},
     "output_type": "display_data"
    }
   ],
   "source": [
    "summary(fit1)"
   ]
  },
  {
   "cell_type": "code",
   "execution_count": 9,
   "id": "7f969b5f-ada8-4736-aa3b-a3f8c648d44e",
   "metadata": {},
   "outputs": [
    {
     "data": {
      "text/plain": [
       "\n",
       "Call:\n",
       "lm(formula = y ~ x1 + x3, data = perfect_collin_data)\n",
       "\n",
       "Residuals:\n",
       "     Min       1Q   Median       3Q      Max \n",
       "-2.57662 -0.66188 -0.08253  0.63706  2.52057 \n",
       "\n",
       "Coefficients:\n",
       "            Estimate Std. Error t value Pr(>|t|)    \n",
       "(Intercept) 2.194542   1.750225   1.254    0.213    \n",
       "x1          0.477100   0.015158  31.475   <2e-16 ***\n",
       "x3          0.254265   0.005636  45.112   <2e-16 ***\n",
       "---\n",
       "Signif. codes:  0 ‘***’ 0.001 ‘**’ 0.01 ‘*’ 0.05 ‘.’ 0.1 ‘ ’ 1\n",
       "\n",
       "Residual standard error: 1.014 on 97 degrees of freedom\n",
       "Multiple R-squared:  0.9923,\tAdjusted R-squared:  0.9921 \n",
       "F-statistic:  6236 on 2 and 97 DF,  p-value: < 2.2e-16\n"
      ]
     },
     "metadata": {},
     "output_type": "display_data"
    }
   ],
   "source": [
    "summary(fit2)"
   ]
  },
  {
   "cell_type": "code",
   "execution_count": 10,
   "id": "3b80a02e-0592-4e93-8797-0d0d4d09ee5b",
   "metadata": {},
   "outputs": [
    {
     "data": {
      "text/plain": [
       "\n",
       "Call:\n",
       "lm(formula = y ~ x2 + x3, data = perfect_collin_data)\n",
       "\n",
       "Residuals:\n",
       "     Min       1Q   Median       3Q      Max \n",
       "-2.57662 -0.66188 -0.08253  0.63706  2.52057 \n",
       "\n",
       "Coefficients:\n",
       "             Estimate Std. Error t value Pr(>|t|)    \n",
       "(Intercept)  1.478892   1.741452   0.849    0.398    \n",
       "x2          -0.954200   0.030316 -31.475   <2e-16 ***\n",
       "x3           0.492815   0.004894 100.702   <2e-16 ***\n",
       "---\n",
       "Signif. codes:  0 ‘***’ 0.001 ‘**’ 0.01 ‘*’ 0.05 ‘.’ 0.1 ‘ ’ 1\n",
       "\n",
       "Residual standard error: 1.014 on 97 degrees of freedom\n",
       "Multiple R-squared:  0.9923,\tAdjusted R-squared:  0.9921 \n",
       "F-statistic:  6236 on 2 and 97 DF,  p-value: < 2.2e-16\n"
      ]
     },
     "metadata": {},
     "output_type": "display_data"
    }
   ],
   "source": [
    "summary(fit3)"
   ]
  },
  {
   "cell_type": "markdown",
   "id": "5e89446f-f99d-4df1-9acc-fa8c101d2445",
   "metadata": {},
   "source": [
    "- fit1, fit2, fit3 의 r square가 같음\n",
    "- coeffi가 달라지는 건 당연히...한 설명변수가 설명하던 내용을 다른 설명변수가 가져갔기 때문에"
   ]
  },
  {
   "cell_type": "code",
   "execution_count": 11,
   "id": "6320b7a5-40c7-44c3-bdf9-d714ee926c0b",
   "metadata": {},
   "outputs": [
    {
     "data": {
      "text/html": [
       "TRUE"
      ],
      "text/latex": [
       "TRUE"
      ],
      "text/markdown": [
       "TRUE"
      ],
      "text/plain": [
       "[1] TRUE"
      ]
     },
     "metadata": {},
     "output_type": "display_data"
    }
   ],
   "source": [
    "all.equal(fitted(fit1), fitted(fit2))"
   ]
  },
  {
   "cell_type": "code",
   "execution_count": 12,
   "id": "8212edec-164a-44a4-af8d-09c8c488bcc8",
   "metadata": {},
   "outputs": [
    {
     "data": {
      "text/html": [
       "TRUE"
      ],
      "text/latex": [
       "TRUE"
      ],
      "text/markdown": [
       "TRUE"
      ],
      "text/plain": [
       "[1] TRUE"
      ]
     },
     "metadata": {},
     "output_type": "display_data"
    }
   ],
   "source": [
    "all.equal(fitted(fit2), fitted(fit3))"
   ]
  },
  {
   "cell_type": "markdown",
   "id": "28bd206f-d248-4b27-81b4-82a41b193b13",
   "metadata": {},
   "source": [
    "- 모형이 같다는 결과"
   ]
  },
  {
   "cell_type": "code",
   "execution_count": 13,
   "id": "1884df52-52c8-47fe-bd8d-997151459c75",
   "metadata": {},
   "outputs": [
    {
     "data": {
      "text/html": [
       "<style>\n",
       ".dl-inline {width: auto; margin:0; padding: 0}\n",
       ".dl-inline>dt, .dl-inline>dd {float: none; width: auto; display: inline-block}\n",
       ".dl-inline>dt::after {content: \":\\0020\"; padding-right: .5ex}\n",
       ".dl-inline>dt:not(:first-of-type) {padding-left: .5ex}\n",
       "</style><dl class=dl-inline><dt>(Intercept)</dt><dd>2.95733574182584</dd><dt>x1</dt><dd>0.985629075384885</dd><dt>x2</dt><dd>1.01705863569559</dd></dl>\n"
      ],
      "text/latex": [
       "\\begin{description*}\n",
       "\\item[(Intercept)] 2.95733574182584\n",
       "\\item[x1] 0.985629075384885\n",
       "\\item[x2] 1.01705863569559\n",
       "\\end{description*}\n"
      ],
      "text/markdown": [
       "(Intercept)\n",
       ":   2.95733574182584x1\n",
       ":   0.985629075384885x2\n",
       ":   1.01705863569559\n",
       "\n"
      ],
      "text/plain": [
       "(Intercept)          x1          x2 \n",
       "  2.9573357   0.9856291   1.0170586 "
      ]
     },
     "metadata": {},
     "output_type": "display_data"
    }
   ],
   "source": [
    "coef(fit1)"
   ]
  },
  {
   "cell_type": "code",
   "execution_count": 14,
   "id": "510b168c-d083-4929-bd9e-2a01af70ff21",
   "metadata": {},
   "outputs": [
    {
     "data": {
      "text/html": [
       "<style>\n",
       ".dl-inline {width: auto; margin:0; padding: 0}\n",
       ".dl-inline>dt, .dl-inline>dd {float: none; width: auto; display: inline-block}\n",
       ".dl-inline>dt::after {content: \":\\0020\"; padding-right: .5ex}\n",
       ".dl-inline>dt:not(:first-of-type) {padding-left: .5ex}\n",
       "</style><dl class=dl-inline><dt>(Intercept)</dt><dd>2.19454176505438</dd><dt>x1</dt><dd>0.477099757537093</dd><dt>x3</dt><dd>0.254264658923896</dd></dl>\n"
      ],
      "text/latex": [
       "\\begin{description*}\n",
       "\\item[(Intercept)] 2.19454176505438\n",
       "\\item[x1] 0.477099757537093\n",
       "\\item[x3] 0.254264658923896\n",
       "\\end{description*}\n"
      ],
      "text/markdown": [
       "(Intercept)\n",
       ":   2.19454176505438x1\n",
       ":   0.477099757537093x3\n",
       ":   0.254264658923896\n",
       "\n"
      ],
      "text/plain": [
       "(Intercept)          x1          x3 \n",
       "  2.1945418   0.4770998   0.2542647 "
      ]
     },
     "metadata": {},
     "output_type": "display_data"
    }
   ],
   "source": [
    "coef(fit2)"
   ]
  },
  {
   "cell_type": "code",
   "execution_count": 15,
   "id": "e727f41b-4244-4efe-9995-871b81c7e800",
   "metadata": {},
   "outputs": [
    {
     "data": {
      "text/html": [
       "<style>\n",
       ".dl-inline {width: auto; margin:0; padding: 0}\n",
       ".dl-inline>dt, .dl-inline>dd {float: none; width: auto; display: inline-block}\n",
       ".dl-inline>dt::after {content: \":\\0020\"; padding-right: .5ex}\n",
       ".dl-inline>dt:not(:first-of-type) {padding-left: .5ex}\n",
       "</style><dl class=dl-inline><dt>(Intercept)</dt><dd>1.47889212874875</dd><dt>x2</dt><dd>-0.954199515074185</dd><dt>x3</dt><dd>0.492814537692442</dd></dl>\n"
      ],
      "text/latex": [
       "\\begin{description*}\n",
       "\\item[(Intercept)] 1.47889212874875\n",
       "\\item[x2] -0.954199515074185\n",
       "\\item[x3] 0.492814537692442\n",
       "\\end{description*}\n"
      ],
      "text/markdown": [
       "(Intercept)\n",
       ":   1.47889212874875x2\n",
       ":   -0.954199515074185x3\n",
       ":   0.492814537692442\n",
       "\n"
      ],
      "text/plain": [
       "(Intercept)          x2          x3 \n",
       "  1.4788921  -0.9541995   0.4928145 "
      ]
     },
     "metadata": {},
     "output_type": "display_data"
    }
   ],
   "source": [
    "coef(fit3)"
   ]
  },
  {
   "cell_type": "markdown",
   "id": "9404989f-eea0-4634-a808-673b156874b0",
   "metadata": {},
   "source": [
    "# 완전에 가까운 다중공선성 (approximate multicollinearity) \n",
    "\n",
    "## 완전에 가까운 다중공선성을 갖는 데이터 생성"
   ]
  },
  {
   "cell_type": "code",
   "execution_count": 16,
   "id": "833a1e1b-b703-4b5c-899b-6829b2fc9224",
   "metadata": {},
   "outputs": [],
   "source": [
    "gen_almost_collin_data = function(num_samples = 100) {\n",
    "    x1 = rnorm(n = num_samples, mean = 0, sd = 2)\n",
    "    x2 = rnorm(n = num_samples, mean = 0, sd = 3)\n",
    "    x3 = 3*x1 + 1*x2 + rnorm(num_samples, mean=0, sd=0.5)\n",
    "    y = 3 + x1 + x2 + rnorm(n = num_samples, mean = 0, sd = 1) \n",
    "    data.frame(y, x1, x2, x3)\n",
    "}"
   ]
  },
  {
   "cell_type": "markdown",
   "id": "2bbd0bb4-0acd-400d-b105-5061d5a4f9c1",
   "metadata": {},
   "source": [
    "- x3 가 완벽히 상관되어 있지 않고 어느 정도만 상관관계가 있게 만든 시물레이션 데이터"
   ]
  },
  {
   "cell_type": "code",
   "execution_count": 17,
   "id": "b6e3a56d-59c6-40c3-b9b7-0c7102698998",
   "metadata": {},
   "outputs": [
    {
     "data": {
      "text/html": [
       "<table class=\"dataframe\">\n",
       "<caption>A data.frame: 6 × 4</caption>\n",
       "<thead>\n",
       "\t<tr><th></th><th scope=col>y</th><th scope=col>x1</th><th scope=col>x2</th><th scope=col>x3</th></tr>\n",
       "\t<tr><th></th><th scope=col>&lt;dbl&gt;</th><th scope=col>&lt;dbl&gt;</th><th scope=col>&lt;dbl&gt;</th><th scope=col>&lt;dbl&gt;</th></tr>\n",
       "</thead>\n",
       "<tbody>\n",
       "\t<tr><th scope=row>1</th><td> 9.3401923</td><td> 2.7419169</td><td> 3.6028961</td><td>10.82818219</td></tr>\n",
       "\t<tr><th scope=row>2</th><td> 5.7650991</td><td>-1.1293963</td><td> 3.1342533</td><td>-0.08704717</td></tr>\n",
       "\t<tr><th scope=row>3</th><td> 0.7556218</td><td> 0.7262568</td><td>-3.0096259</td><td>-0.24519291</td></tr>\n",
       "\t<tr><th scope=row>4</th><td>10.5462431</td><td> 1.2657252</td><td> 5.5454457</td><td>10.37239096</td></tr>\n",
       "\t<tr><th scope=row>5</th><td> 1.6617438</td><td> 0.8085366</td><td>-2.0003202</td><td>-0.26314109</td></tr>\n",
       "\t<tr><th scope=row>6</th><td> 3.0464051</td><td>-0.2122490</td><td> 0.3165414</td><td>-0.89563344</td></tr>\n",
       "</tbody>\n",
       "</table>\n"
      ],
      "text/latex": [
       "A data.frame: 6 × 4\n",
       "\\begin{tabular}{r|llll}\n",
       "  & y & x1 & x2 & x3\\\\\n",
       "  & <dbl> & <dbl> & <dbl> & <dbl>\\\\\n",
       "\\hline\n",
       "\t1 &  9.3401923 &  2.7419169 &  3.6028961 & 10.82818219\\\\\n",
       "\t2 &  5.7650991 & -1.1293963 &  3.1342533 & -0.08704717\\\\\n",
       "\t3 &  0.7556218 &  0.7262568 & -3.0096259 & -0.24519291\\\\\n",
       "\t4 & 10.5462431 &  1.2657252 &  5.5454457 & 10.37239096\\\\\n",
       "\t5 &  1.6617438 &  0.8085366 & -2.0003202 & -0.26314109\\\\\n",
       "\t6 &  3.0464051 & -0.2122490 &  0.3165414 & -0.89563344\\\\\n",
       "\\end{tabular}\n"
      ],
      "text/markdown": [
       "\n",
       "A data.frame: 6 × 4\n",
       "\n",
       "| <!--/--> | y &lt;dbl&gt; | x1 &lt;dbl&gt; | x2 &lt;dbl&gt; | x3 &lt;dbl&gt; |\n",
       "|---|---|---|---|---|\n",
       "| 1 |  9.3401923 |  2.7419169 |  3.6028961 | 10.82818219 |\n",
       "| 2 |  5.7650991 | -1.1293963 |  3.1342533 | -0.08704717 |\n",
       "| 3 |  0.7556218 |  0.7262568 | -3.0096259 | -0.24519291 |\n",
       "| 4 | 10.5462431 |  1.2657252 |  5.5454457 | 10.37239096 |\n",
       "| 5 |  1.6617438 |  0.8085366 | -2.0003202 | -0.26314109 |\n",
       "| 6 |  3.0464051 | -0.2122490 |  0.3165414 | -0.89563344 |\n",
       "\n"
      ],
      "text/plain": [
       "  y          x1         x2         x3         \n",
       "1  9.3401923  2.7419169  3.6028961 10.82818219\n",
       "2  5.7650991 -1.1293963  3.1342533 -0.08704717\n",
       "3  0.7556218  0.7262568 -3.0096259 -0.24519291\n",
       "4 10.5462431  1.2657252  5.5454457 10.37239096\n",
       "5  1.6617438  0.8085366 -2.0003202 -0.26314109\n",
       "6  3.0464051 -0.2122490  0.3165414 -0.89563344"
      ]
     },
     "metadata": {},
     "output_type": "display_data"
    }
   ],
   "source": [
    "set.seed(42)\n",
    "almost_collin_data = gen_almost_collin_data()\n",
    "head(almost_collin_data)"
   ]
  },
  {
   "cell_type": "code",
   "execution_count": 18,
   "id": "4bcdaeec-3736-4e53-a140-1d2a266ff027",
   "metadata": {},
   "outputs": [
    {
     "data": {
      "text/html": [
       "<table class=\"dataframe\">\n",
       "<caption>A matrix: 4 × 4 of type dbl</caption>\n",
       "<thead>\n",
       "\t<tr><th></th><th scope=col>y</th><th scope=col>x1</th><th scope=col>x2</th><th scope=col>x3</th></tr>\n",
       "</thead>\n",
       "<tbody>\n",
       "\t<tr><th scope=row>y</th><td>1.000</td><td>0.616</td><td>0.769</td><td>0.863</td></tr>\n",
       "\t<tr><th scope=row>x1</th><td>0.616</td><td>1.000</td><td>0.031</td><td>0.913</td></tr>\n",
       "\t<tr><th scope=row>x2</th><td>0.769</td><td>0.031</td><td>1.000</td><td>0.429</td></tr>\n",
       "\t<tr><th scope=row>x3</th><td>0.863</td><td>0.913</td><td>0.429</td><td>1.000</td></tr>\n",
       "</tbody>\n",
       "</table>\n"
      ],
      "text/latex": [
       "A matrix: 4 × 4 of type dbl\n",
       "\\begin{tabular}{r|llll}\n",
       "  & y & x1 & x2 & x3\\\\\n",
       "\\hline\n",
       "\ty & 1.000 & 0.616 & 0.769 & 0.863\\\\\n",
       "\tx1 & 0.616 & 1.000 & 0.031 & 0.913\\\\\n",
       "\tx2 & 0.769 & 0.031 & 1.000 & 0.429\\\\\n",
       "\tx3 & 0.863 & 0.913 & 0.429 & 1.000\\\\\n",
       "\\end{tabular}\n"
      ],
      "text/markdown": [
       "\n",
       "A matrix: 4 × 4 of type dbl\n",
       "\n",
       "| <!--/--> | y | x1 | x2 | x3 |\n",
       "|---|---|---|---|---|\n",
       "| y | 1.000 | 0.616 | 0.769 | 0.863 |\n",
       "| x1 | 0.616 | 1.000 | 0.031 | 0.913 |\n",
       "| x2 | 0.769 | 0.031 | 1.000 | 0.429 |\n",
       "| x3 | 0.863 | 0.913 | 0.429 | 1.000 |\n",
       "\n"
      ],
      "text/plain": [
       "   y     x1    x2    x3   \n",
       "y  1.000 0.616 0.769 0.863\n",
       "x1 0.616 1.000 0.031 0.913\n",
       "x2 0.769 0.031 1.000 0.429\n",
       "x3 0.863 0.913 0.429 1.000"
      ]
     },
     "metadata": {},
     "output_type": "display_data"
    }
   ],
   "source": [
    "round(cor(almost_collin_data),3)"
   ]
  },
  {
   "cell_type": "code",
   "execution_count": 19,
   "id": "231d28c1-f12b-4afb-b341-3a1e7616e018",
   "metadata": {},
   "outputs": [
    {
     "data": {
      "text/plain": [
       "\n",
       "Call:\n",
       "lm(formula = y ~ ., data = almost_collin_data)\n",
       "\n",
       "Residuals:\n",
       "    Min      1Q  Median      3Q     Max \n",
       "-1.7944 -0.5867 -0.1038  0.6188  2.3280 \n",
       "\n",
       "Coefficients:\n",
       "            Estimate Std. Error t value Pr(>|t|)    \n",
       "(Intercept)  3.03150    0.08914  34.007  < 2e-16 ***\n",
       "x1           1.21854    0.52829   2.307   0.0232 *  \n",
       "x2           1.06616    0.18314   5.821 7.71e-08 ***\n",
       "x3          -0.06322    0.17765  -0.356   0.7227    \n",
       "---\n",
       "Signif. codes:  0 ‘***’ 0.001 ‘**’ 0.01 ‘*’ 0.05 ‘.’ 0.1 ‘ ’ 1\n",
       "\n",
       "Residual standard error: 0.8867 on 96 degrees of freedom\n",
       "Multiple R-squared:  0.9419,\tAdjusted R-squared:  0.9401 \n",
       "F-statistic:   519 on 3 and 96 DF,  p-value: < 2.2e-16\n"
      ]
     },
     "metadata": {},
     "output_type": "display_data"
    }
   ],
   "source": [
    "m <- lm(y~., almost_collin_data)\n",
    "summary(m)"
   ]
  },
  {
   "cell_type": "code",
   "execution_count": null,
   "id": "c8adb1f6-839f-4d29-b86a-6637fc6d2645",
   "metadata": {},
   "outputs": [],
   "source": [
    "vif(m)\n",
    "## x1 x2 x3 ## 152.42684 31.07349 186.71999"
   ]
  },
  {
   "cell_type": "markdown",
   "id": "e565566e-da59-400b-8e23-dca0797b7a81",
   "metadata": {},
   "source": [
    "- 다중공선성 vif값이 10을 훨씬 넘음\n",
    "- 되게 불안정"
   ]
  },
  {
   "cell_type": "markdown",
   "id": "ae05557e-f865-4d0e-92b9-753abaf4324e",
   "metadata": {},
   "source": [
    "- car package가 설치가 되지 않아.."
   ]
  },
  {
   "cell_type": "code",
   "execution_count": 21,
   "id": "ae23fcc1-de85-4ed2-b090-8e0fc337559a",
   "metadata": {},
   "outputs": [
    {
     "data": {
      "text/plain": [
       "\n",
       "Call:\n",
       "lm(formula = y + noise ~ ., data = almost_collin_data)\n",
       "\n",
       "Residuals:\n",
       "    Min      1Q  Median      3Q     Max \n",
       "-2.0962 -0.6998 -0.0891  0.7726  2.8462 \n",
       "\n",
       "Coefficients:\n",
       "            Estimate Std. Error t value Pr(>|t|)    \n",
       "(Intercept)   3.0403     0.1020  29.815  < 2e-16 ***\n",
       "x1            0.9894     0.6043   1.637    0.105    \n",
       "x2            0.9898     0.2095   4.725 7.88e-06 ***\n",
       "x3            0.0158     0.2032   0.078    0.938    \n",
       "---\n",
       "Signif. codes:  0 ‘***’ 0.001 ‘**’ 0.01 ‘*’ 0.05 ‘.’ 0.1 ‘ ’ 1\n",
       "\n",
       "Residual standard error: 1.014 on 96 degrees of freedom\n",
       "Multiple R-squared:  0.9259,\tAdjusted R-squared:  0.9236 \n",
       "F-statistic:   400 on 3 and 96 DF,  p-value: < 2.2e-16\n"
      ]
     },
     "metadata": {},
     "output_type": "display_data"
    }
   ],
   "source": [
    "set.seed(1000)\n",
    "noise <- rnorm(n = 100, mean = 0, sd =0.5)\n",
    "m_noise <- lm(y+noise~., almost_collin_data)\n",
    "summary(m_noise)"
   ]
  },
  {
   "cell_type": "markdown",
   "id": "17f5d132-867a-4683-b349-d26d5defdcd4",
   "metadata": {},
   "source": [
    "- y 에 noise 살짝 줘보기"
   ]
  },
  {
   "cell_type": "code",
   "execution_count": 22,
   "id": "9fa59b42-8bea-4b8c-9b02-c460476a30df",
   "metadata": {},
   "outputs": [
    {
     "data": {
      "text/html": [
       "<style>\n",
       ".dl-inline {width: auto; margin:0; padding: 0}\n",
       ".dl-inline>dt, .dl-inline>dd {float: none; width: auto; display: inline-block}\n",
       ".dl-inline>dt::after {content: \":\\0020\"; padding-right: .5ex}\n",
       ".dl-inline>dt:not(:first-of-type) {padding-left: .5ex}\n",
       "</style><dl class=dl-inline><dt>(Intercept)</dt><dd>3.032</dd><dt>x1</dt><dd>1.219</dd><dt>x2</dt><dd>1.066</dd><dt>x3</dt><dd>-0.063</dd></dl>\n"
      ],
      "text/latex": [
       "\\begin{description*}\n",
       "\\item[(Intercept)] 3.032\n",
       "\\item[x1] 1.219\n",
       "\\item[x2] 1.066\n",
       "\\item[x3] -0.063\n",
       "\\end{description*}\n"
      ],
      "text/markdown": [
       "(Intercept)\n",
       ":   3.032x1\n",
       ":   1.219x2\n",
       ":   1.066x3\n",
       ":   -0.063\n",
       "\n"
      ],
      "text/plain": [
       "(Intercept)          x1          x2          x3 \n",
       "      3.032       1.219       1.066      -0.063 "
      ]
     },
     "metadata": {},
     "output_type": "display_data"
    }
   ],
   "source": [
    "round(coef(m),3)"
   ]
  },
  {
   "cell_type": "code",
   "execution_count": 24,
   "id": "39018d97-4ad6-4eed-b15e-2ad3fcf5c394",
   "metadata": {},
   "outputs": [
    {
     "data": {
      "text/html": [
       "<style>\n",
       ".dl-inline {width: auto; margin:0; padding: 0}\n",
       ".dl-inline>dt, .dl-inline>dd {float: none; width: auto; display: inline-block}\n",
       ".dl-inline>dt::after {content: \":\\0020\"; padding-right: .5ex}\n",
       ".dl-inline>dt:not(:first-of-type) {padding-left: .5ex}\n",
       "</style><dl class=dl-inline><dt>(Intercept)</dt><dd>3.04</dd><dt>x1</dt><dd>0.989</dd><dt>x2</dt><dd>0.99</dd><dt>x3</dt><dd>0.016</dd></dl>\n"
      ],
      "text/latex": [
       "\\begin{description*}\n",
       "\\item[(Intercept)] 3.04\n",
       "\\item[x1] 0.989\n",
       "\\item[x2] 0.99\n",
       "\\item[x3] 0.016\n",
       "\\end{description*}\n"
      ],
      "text/markdown": [
       "(Intercept)\n",
       ":   3.04x1\n",
       ":   0.989x2\n",
       ":   0.99x3\n",
       ":   0.016\n",
       "\n"
      ],
      "text/plain": [
       "(Intercept)          x1          x2          x3 \n",
       "      3.040       0.989       0.990       0.016 "
      ]
     },
     "metadata": {},
     "output_type": "display_data"
    }
   ],
   "source": [
    "round(coef(m_noise),3)"
   ]
  },
  {
   "cell_type": "markdown",
   "id": "b46d39a6-15a2-43fc-a171-78ec9a30df34",
   "metadata": {},
   "source": [
    "## 다중공선성이 없는 경우 비교"
   ]
  },
  {
   "cell_type": "code",
   "execution_count": 25,
   "id": "98b5de5b-ee0b-436a-a8f4-0855c8a19c07",
   "metadata": {},
   "outputs": [],
   "source": [
    "m1 <- lm(y~x1+x2, almost_collin_data)\n",
    "m1_noise <- lm(y+noise~x1+x2, almost_collin_data)"
   ]
  },
  {
   "cell_type": "code",
   "execution_count": null,
   "id": "6759b586-71a5-4c4d-94f3-7b5d102e9c56",
   "metadata": {},
   "outputs": [],
   "source": [
    "vif(m1)\n",
    "## x1 x2 ## 1.000979 1.000979"
   ]
  },
  {
   "cell_type": "code",
   "execution_count": 27,
   "id": "fd6d58ef-d513-4cc6-8d53-483d98c3cd4b",
   "metadata": {},
   "outputs": [
    {
     "data": {
      "text/html": [
       "<style>\n",
       ".dl-inline {width: auto; margin:0; padding: 0}\n",
       ".dl-inline>dt, .dl-inline>dd {float: none; width: auto; display: inline-block}\n",
       ".dl-inline>dt::after {content: \":\\0020\"; padding-right: .5ex}\n",
       ".dl-inline>dt:not(:first-of-type) {padding-left: .5ex}\n",
       "</style><dl class=dl-inline><dt>(Intercept)</dt><dd>3.031</dd><dt>x1</dt><dd>1.031</dd><dt>x2</dt><dd>1.002</dd></dl>\n"
      ],
      "text/latex": [
       "\\begin{description*}\n",
       "\\item[(Intercept)] 3.031\n",
       "\\item[x1] 1.031\n",
       "\\item[x2] 1.002\n",
       "\\end{description*}\n"
      ],
      "text/markdown": [
       "(Intercept)\n",
       ":   3.031x1\n",
       ":   1.031x2\n",
       ":   1.002\n",
       "\n"
      ],
      "text/plain": [
       "(Intercept)          x1          x2 \n",
       "      3.031       1.031       1.002 "
      ]
     },
     "metadata": {},
     "output_type": "display_data"
    }
   ],
   "source": [
    "round(coef(m1),3)"
   ]
  },
  {
   "cell_type": "code",
   "execution_count": 28,
   "id": "bade6d54-8991-4009-8664-c46c732f120a",
   "metadata": {},
   "outputs": [
    {
     "data": {
      "text/html": [
       "<style>\n",
       ".dl-inline {width: auto; margin:0; padding: 0}\n",
       ".dl-inline>dt, .dl-inline>dd {float: none; width: auto; display: inline-block}\n",
       ".dl-inline>dt::after {content: \":\\0020\"; padding-right: .5ex}\n",
       ".dl-inline>dt:not(:first-of-type) {padding-left: .5ex}\n",
       "</style><dl class=dl-inline><dt>(Intercept)</dt><dd>3.04</dd><dt>x1</dt><dd>1.036</dd><dt>x2</dt><dd>1.006</dd></dl>\n"
      ],
      "text/latex": [
       "\\begin{description*}\n",
       "\\item[(Intercept)] 3.04\n",
       "\\item[x1] 1.036\n",
       "\\item[x2] 1.006\n",
       "\\end{description*}\n"
      ],
      "text/markdown": [
       "(Intercept)\n",
       ":   3.04x1\n",
       ":   1.036x2\n",
       ":   1.006\n",
       "\n"
      ],
      "text/plain": [
       "(Intercept)          x1          x2 \n",
       "      3.040       1.036       1.006 "
      ]
     },
     "metadata": {},
     "output_type": "display_data"
    }
   ],
   "source": [
    "round(coef(m1_noise),3)"
   ]
  },
  {
   "cell_type": "markdown",
   "id": "8e4bc832-3a78-47ca-a309-b155a9396ff8",
   "metadata": {},
   "source": [
    "noise 주니 비교적 안정적으로 보임"
   ]
  },
  {
   "cell_type": "markdown",
   "id": "825d38cd-329d-4d79-9443-290096d6b5da",
   "metadata": {},
   "source": [
    "$$VIF = \\frac{1}{1-R^2_j}$$"
   ]
  },
  {
   "cell_type": "code",
   "execution_count": 29,
   "id": "43f0e7ff-bcc5-4356-a12f-be8881d2b09f",
   "metadata": {},
   "outputs": [
    {
     "data": {
      "text/html": [
       "186.719994280622"
      ],
      "text/latex": [
       "186.719994280622"
      ],
      "text/markdown": [
       "186.719994280622"
      ],
      "text/plain": [
       "[1] 186.72"
      ]
     },
     "metadata": {},
     "output_type": "display_data"
    }
   ],
   "source": [
    "m_sub <- lm(x3~x1+x2,almost_collin_data)\n",
    "c33 <- 1/(1-summary(m_sub)$r.sq);c33 ##vif"
   ]
  },
  {
   "cell_type": "code",
   "execution_count": null,
   "id": "9a978de2-2ada-4e81-b654-707f0c6fe65c",
   "metadata": {},
   "outputs": [],
   "source": [
    "vif(m)\n",
    "## [1] 186.72\n",
    "## x1 x2 x3 \n",
    "## 152.42684 31.07349 186.71999"
   ]
  },
  {
   "cell_type": "markdown",
   "id": "541ec269-ef86-4eb6-a693-8d7824a02123",
   "metadata": {},
   "source": [
    "## 실제 데이터 분석"
   ]
  },
  {
   "cell_type": "code",
   "execution_count": 32,
   "id": "43a4c7a8-a09d-4316-9ec0-4b2260a9d17a",
   "metadata": {},
   "outputs": [
    {
     "data": {
      "text/html": [
       "<style>\n",
       ".list-inline {list-style: none; margin:0; padding: 0}\n",
       ".list-inline>li {display: inline-block}\n",
       ".list-inline>li:not(:last-child)::after {content: \"\\00b7\"; padding: 0 .5ex}\n",
       "</style>\n",
       "<ol class=list-inline><li>32</li><li>11</li></ol>\n"
      ],
      "text/latex": [
       "\\begin{enumerate*}\n",
       "\\item 32\n",
       "\\item 11\n",
       "\\end{enumerate*}\n"
      ],
      "text/markdown": [
       "1. 32\n",
       "2. 11\n",
       "\n",
       "\n"
      ],
      "text/plain": [
       "[1] 32 11"
      ]
     },
     "metadata": {},
     "output_type": "display_data"
    }
   ],
   "source": [
    "dt <- data.frame(scale(mtcars))\n",
    "dim(dt)"
   ]
  },
  {
   "cell_type": "code",
   "execution_count": 33,
   "id": "a198f590-7a33-4345-b759-7fbd04d9ed5f",
   "metadata": {},
   "outputs": [
    {
     "data": {
      "text/html": [
       "<table class=\"dataframe\">\n",
       "<caption>A data.frame: 6 × 11</caption>\n",
       "<thead>\n",
       "\t<tr><th></th><th scope=col>mpg</th><th scope=col>cyl</th><th scope=col>disp</th><th scope=col>hp</th><th scope=col>drat</th><th scope=col>wt</th><th scope=col>qsec</th><th scope=col>vs</th><th scope=col>am</th><th scope=col>gear</th><th scope=col>carb</th></tr>\n",
       "\t<tr><th></th><th scope=col>&lt;dbl&gt;</th><th scope=col>&lt;dbl&gt;</th><th scope=col>&lt;dbl&gt;</th><th scope=col>&lt;dbl&gt;</th><th scope=col>&lt;dbl&gt;</th><th scope=col>&lt;dbl&gt;</th><th scope=col>&lt;dbl&gt;</th><th scope=col>&lt;dbl&gt;</th><th scope=col>&lt;dbl&gt;</th><th scope=col>&lt;dbl&gt;</th><th scope=col>&lt;dbl&gt;</th></tr>\n",
       "</thead>\n",
       "<tbody>\n",
       "\t<tr><th scope=row>Mazda RX4</th><td> 0.1508848</td><td>-0.1049878</td><td>-0.57061982</td><td>-0.5350928</td><td> 0.5675137</td><td>-0.610399567</td><td>-0.7771651</td><td>-0.8680278</td><td> 1.1899014</td><td> 0.4235542</td><td> 0.7352031</td></tr>\n",
       "\t<tr><th scope=row>Mazda RX4 Wag</th><td> 0.1508848</td><td>-0.1049878</td><td>-0.57061982</td><td>-0.5350928</td><td> 0.5675137</td><td>-0.349785269</td><td>-0.4637808</td><td>-0.8680278</td><td> 1.1899014</td><td> 0.4235542</td><td> 0.7352031</td></tr>\n",
       "\t<tr><th scope=row>Datsun 710</th><td> 0.4495434</td><td>-1.2248578</td><td>-0.99018209</td><td>-0.7830405</td><td> 0.4739996</td><td>-0.917004624</td><td> 0.4260068</td><td> 1.1160357</td><td> 1.1899014</td><td> 0.4235542</td><td>-1.1221521</td></tr>\n",
       "\t<tr><th scope=row>Hornet 4 Drive</th><td> 0.2172534</td><td>-0.1049878</td><td> 0.22009369</td><td>-0.5350928</td><td>-0.9661175</td><td>-0.002299538</td><td> 0.8904872</td><td> 1.1160357</td><td>-0.8141431</td><td>-0.9318192</td><td>-1.1221521</td></tr>\n",
       "\t<tr><th scope=row>Hornet Sportabout</th><td>-0.2307345</td><td> 1.0148821</td><td> 1.04308123</td><td> 0.4129422</td><td>-0.8351978</td><td> 0.227654255</td><td>-0.4637808</td><td>-0.8680278</td><td>-0.8141431</td><td>-0.9318192</td><td>-0.5030337</td></tr>\n",
       "\t<tr><th scope=row>Valiant</th><td>-0.3302874</td><td>-0.1049878</td><td>-0.04616698</td><td>-0.6080186</td><td>-1.5646078</td><td> 0.248094592</td><td> 1.3269868</td><td> 1.1160357</td><td>-0.8141431</td><td>-0.9318192</td><td>-1.1221521</td></tr>\n",
       "</tbody>\n",
       "</table>\n"
      ],
      "text/latex": [
       "A data.frame: 6 × 11\n",
       "\\begin{tabular}{r|lllllllllll}\n",
       "  & mpg & cyl & disp & hp & drat & wt & qsec & vs & am & gear & carb\\\\\n",
       "  & <dbl> & <dbl> & <dbl> & <dbl> & <dbl> & <dbl> & <dbl> & <dbl> & <dbl> & <dbl> & <dbl>\\\\\n",
       "\\hline\n",
       "\tMazda RX4 &  0.1508848 & -0.1049878 & -0.57061982 & -0.5350928 &  0.5675137 & -0.610399567 & -0.7771651 & -0.8680278 &  1.1899014 &  0.4235542 &  0.7352031\\\\\n",
       "\tMazda RX4 Wag &  0.1508848 & -0.1049878 & -0.57061982 & -0.5350928 &  0.5675137 & -0.349785269 & -0.4637808 & -0.8680278 &  1.1899014 &  0.4235542 &  0.7352031\\\\\n",
       "\tDatsun 710 &  0.4495434 & -1.2248578 & -0.99018209 & -0.7830405 &  0.4739996 & -0.917004624 &  0.4260068 &  1.1160357 &  1.1899014 &  0.4235542 & -1.1221521\\\\\n",
       "\tHornet 4 Drive &  0.2172534 & -0.1049878 &  0.22009369 & -0.5350928 & -0.9661175 & -0.002299538 &  0.8904872 &  1.1160357 & -0.8141431 & -0.9318192 & -1.1221521\\\\\n",
       "\tHornet Sportabout & -0.2307345 &  1.0148821 &  1.04308123 &  0.4129422 & -0.8351978 &  0.227654255 & -0.4637808 & -0.8680278 & -0.8141431 & -0.9318192 & -0.5030337\\\\\n",
       "\tValiant & -0.3302874 & -0.1049878 & -0.04616698 & -0.6080186 & -1.5646078 &  0.248094592 &  1.3269868 &  1.1160357 & -0.8141431 & -0.9318192 & -1.1221521\\\\\n",
       "\\end{tabular}\n"
      ],
      "text/markdown": [
       "\n",
       "A data.frame: 6 × 11\n",
       "\n",
       "| <!--/--> | mpg &lt;dbl&gt; | cyl &lt;dbl&gt; | disp &lt;dbl&gt; | hp &lt;dbl&gt; | drat &lt;dbl&gt; | wt &lt;dbl&gt; | qsec &lt;dbl&gt; | vs &lt;dbl&gt; | am &lt;dbl&gt; | gear &lt;dbl&gt; | carb &lt;dbl&gt; |\n",
       "|---|---|---|---|---|---|---|---|---|---|---|---|\n",
       "| Mazda RX4 |  0.1508848 | -0.1049878 | -0.57061982 | -0.5350928 |  0.5675137 | -0.610399567 | -0.7771651 | -0.8680278 |  1.1899014 |  0.4235542 |  0.7352031 |\n",
       "| Mazda RX4 Wag |  0.1508848 | -0.1049878 | -0.57061982 | -0.5350928 |  0.5675137 | -0.349785269 | -0.4637808 | -0.8680278 |  1.1899014 |  0.4235542 |  0.7352031 |\n",
       "| Datsun 710 |  0.4495434 | -1.2248578 | -0.99018209 | -0.7830405 |  0.4739996 | -0.917004624 |  0.4260068 |  1.1160357 |  1.1899014 |  0.4235542 | -1.1221521 |\n",
       "| Hornet 4 Drive |  0.2172534 | -0.1049878 |  0.22009369 | -0.5350928 | -0.9661175 | -0.002299538 |  0.8904872 |  1.1160357 | -0.8141431 | -0.9318192 | -1.1221521 |\n",
       "| Hornet Sportabout | -0.2307345 |  1.0148821 |  1.04308123 |  0.4129422 | -0.8351978 |  0.227654255 | -0.4637808 | -0.8680278 | -0.8141431 | -0.9318192 | -0.5030337 |\n",
       "| Valiant | -0.3302874 | -0.1049878 | -0.04616698 | -0.6080186 | -1.5646078 |  0.248094592 |  1.3269868 |  1.1160357 | -0.8141431 | -0.9318192 | -1.1221521 |\n",
       "\n"
      ],
      "text/plain": [
       "                  mpg        cyl        disp        hp         drat      \n",
       "Mazda RX4          0.1508848 -0.1049878 -0.57061982 -0.5350928  0.5675137\n",
       "Mazda RX4 Wag      0.1508848 -0.1049878 -0.57061982 -0.5350928  0.5675137\n",
       "Datsun 710         0.4495434 -1.2248578 -0.99018209 -0.7830405  0.4739996\n",
       "Hornet 4 Drive     0.2172534 -0.1049878  0.22009369 -0.5350928 -0.9661175\n",
       "Hornet Sportabout -0.2307345  1.0148821  1.04308123  0.4129422 -0.8351978\n",
       "Valiant           -0.3302874 -0.1049878 -0.04616698 -0.6080186 -1.5646078\n",
       "                  wt           qsec       vs         am         gear      \n",
       "Mazda RX4         -0.610399567 -0.7771651 -0.8680278  1.1899014  0.4235542\n",
       "Mazda RX4 Wag     -0.349785269 -0.4637808 -0.8680278  1.1899014  0.4235542\n",
       "Datsun 710        -0.917004624  0.4260068  1.1160357  1.1899014  0.4235542\n",
       "Hornet 4 Drive    -0.002299538  0.8904872  1.1160357 -0.8141431 -0.9318192\n",
       "Hornet Sportabout  0.227654255 -0.4637808 -0.8680278 -0.8141431 -0.9318192\n",
       "Valiant            0.248094592  1.3269868  1.1160357 -0.8141431 -0.9318192\n",
       "                  carb      \n",
       "Mazda RX4          0.7352031\n",
       "Mazda RX4 Wag      0.7352031\n",
       "Datsun 710        -1.1221521\n",
       "Hornet 4 Drive    -1.1221521\n",
       "Hornet Sportabout -0.5030337\n",
       "Valiant           -1.1221521"
      ]
     },
     "metadata": {},
     "output_type": "display_data"
    }
   ],
   "source": [
    "head(dt)"
   ]
  },
  {
   "cell_type": "markdown",
   "id": "0971cc42-f7ae-4888-b6c8-5317721708f3",
   "metadata": {},
   "source": [
    "[, 1] mpg Miles/(US) gallon\n",
    "\n",
    "[, 2] cyl Number of cylinders\n",
    "\n",
    "[, 3] disp Displacement (cu.in.)\n",
    "\n",
    "[, 4] hp Gross horsepower\n",
    "\n",
    "[, 5] drat Rear axle ratio\n",
    "\n",
    "[, 6] wt Weight (1000 lbs)\n",
    "\n",
    "[, 7] qsec 1/4 mile time\n",
    "\n",
    "[, 8] vs Engine (0 = V-shaped, 1 = straight)\n",
    "\n",
    "[, 9] am Transmission (0 = automatic, 1 = manual)\n",
    "\n",
    "[,10] gear Number of forward gears\n",
    "\n",
    "[,11] carb Number of carburetors"
   ]
  },
  {
   "cell_type": "code",
   "execution_count": 34,
   "id": "6e83e044-666f-4713-8078-10248e2b9284",
   "metadata": {},
   "outputs": [
    {
     "data": {
      "image/png": "[encoded data removed]",
      "text/plain": [
       "plot without title"
      ]
     },
     "metadata": {
      "image/png": {
       "height": 420,
       "width": 420
      }
     },
     "output_type": "display_data"
    }
   ],
   "source": [
    "pairs(dt)"
   ]
  },
  {
   "cell_type": "code",
   "execution_count": 35,
   "id": "c6b254cd-dc0e-4f8d-a74b-4849b5073b98",
   "metadata": {},
   "outputs": [
    {
     "data": {
      "text/html": [
       "<table class=\"dataframe\">\n",
       "<caption>A matrix: 11 × 11 of type dbl</caption>\n",
       "<thead>\n",
       "\t<tr><th></th><th scope=col>mpg</th><th scope=col>cyl</th><th scope=col>disp</th><th scope=col>hp</th><th scope=col>drat</th><th scope=col>wt</th><th scope=col>qsec</th><th scope=col>vs</th><th scope=col>am</th><th scope=col>gear</th><th scope=col>carb</th></tr>\n",
       "</thead>\n",
       "<tbody>\n",
       "\t<tr><th scope=row>mpg</th><td> 1.00</td><td>-0.85</td><td>-0.85</td><td>-0.78</td><td> 0.68</td><td>-0.87</td><td> 0.42</td><td> 0.66</td><td> 0.60</td><td> 0.48</td><td>-0.55</td></tr>\n",
       "\t<tr><th scope=row>cyl</th><td>-0.85</td><td> 1.00</td><td> 0.90</td><td> 0.83</td><td>-0.70</td><td> 0.78</td><td>-0.59</td><td>-0.81</td><td>-0.52</td><td>-0.49</td><td> 0.53</td></tr>\n",
       "\t<tr><th scope=row>disp</th><td>-0.85</td><td> 0.90</td><td> 1.00</td><td> 0.79</td><td>-0.71</td><td> 0.89</td><td>-0.43</td><td>-0.71</td><td>-0.59</td><td>-0.56</td><td> 0.39</td></tr>\n",
       "\t<tr><th scope=row>hp</th><td>-0.78</td><td> 0.83</td><td> 0.79</td><td> 1.00</td><td>-0.45</td><td> 0.66</td><td>-0.71</td><td>-0.72</td><td>-0.24</td><td>-0.13</td><td> 0.75</td></tr>\n",
       "\t<tr><th scope=row>drat</th><td> 0.68</td><td>-0.70</td><td>-0.71</td><td>-0.45</td><td> 1.00</td><td>-0.71</td><td> 0.09</td><td> 0.44</td><td> 0.71</td><td> 0.70</td><td>-0.09</td></tr>\n",
       "\t<tr><th scope=row>wt</th><td>-0.87</td><td> 0.78</td><td> 0.89</td><td> 0.66</td><td>-0.71</td><td> 1.00</td><td>-0.17</td><td>-0.55</td><td>-0.69</td><td>-0.58</td><td> 0.43</td></tr>\n",
       "\t<tr><th scope=row>qsec</th><td> 0.42</td><td>-0.59</td><td>-0.43</td><td>-0.71</td><td> 0.09</td><td>-0.17</td><td> 1.00</td><td> 0.74</td><td>-0.23</td><td>-0.21</td><td>-0.66</td></tr>\n",
       "\t<tr><th scope=row>vs</th><td> 0.66</td><td>-0.81</td><td>-0.71</td><td>-0.72</td><td> 0.44</td><td>-0.55</td><td> 0.74</td><td> 1.00</td><td> 0.17</td><td> 0.21</td><td>-0.57</td></tr>\n",
       "\t<tr><th scope=row>am</th><td> 0.60</td><td>-0.52</td><td>-0.59</td><td>-0.24</td><td> 0.71</td><td>-0.69</td><td>-0.23</td><td> 0.17</td><td> 1.00</td><td> 0.79</td><td> 0.06</td></tr>\n",
       "\t<tr><th scope=row>gear</th><td> 0.48</td><td>-0.49</td><td>-0.56</td><td>-0.13</td><td> 0.70</td><td>-0.58</td><td>-0.21</td><td> 0.21</td><td> 0.79</td><td> 1.00</td><td> 0.27</td></tr>\n",
       "\t<tr><th scope=row>carb</th><td>-0.55</td><td> 0.53</td><td> 0.39</td><td> 0.75</td><td>-0.09</td><td> 0.43</td><td>-0.66</td><td>-0.57</td><td> 0.06</td><td> 0.27</td><td> 1.00</td></tr>\n",
       "</tbody>\n",
       "</table>\n"
      ],
      "text/latex": [
       "A matrix: 11 × 11 of type dbl\n",
       "\\begin{tabular}{r|lllllllllll}\n",
       "  & mpg & cyl & disp & hp & drat & wt & qsec & vs & am & gear & carb\\\\\n",
       "\\hline\n",
       "\tmpg &  1.00 & -0.85 & -0.85 & -0.78 &  0.68 & -0.87 &  0.42 &  0.66 &  0.60 &  0.48 & -0.55\\\\\n",
       "\tcyl & -0.85 &  1.00 &  0.90 &  0.83 & -0.70 &  0.78 & -0.59 & -0.81 & -0.52 & -0.49 &  0.53\\\\\n",
       "\tdisp & -0.85 &  0.90 &  1.00 &  0.79 & -0.71 &  0.89 & -0.43 & -0.71 & -0.59 & -0.56 &  0.39\\\\\n",
       "\thp & -0.78 &  0.83 &  0.79 &  1.00 & -0.45 &  0.66 & -0.71 & -0.72 & -0.24 & -0.13 &  0.75\\\\\n",
       "\tdrat &  0.68 & -0.70 & -0.71 & -0.45 &  1.00 & -0.71 &  0.09 &  0.44 &  0.71 &  0.70 & -0.09\\\\\n",
       "\twt & -0.87 &  0.78 &  0.89 &  0.66 & -0.71 &  1.00 & -0.17 & -0.55 & -0.69 & -0.58 &  0.43\\\\\n",
       "\tqsec &  0.42 & -0.59 & -0.43 & -0.71 &  0.09 & -0.17 &  1.00 &  0.74 & -0.23 & -0.21 & -0.66\\\\\n",
       "\tvs &  0.66 & -0.81 & -0.71 & -0.72 &  0.44 & -0.55 &  0.74 &  1.00 &  0.17 &  0.21 & -0.57\\\\\n",
       "\tam &  0.60 & -0.52 & -0.59 & -0.24 &  0.71 & -0.69 & -0.23 &  0.17 &  1.00 &  0.79 &  0.06\\\\\n",
       "\tgear &  0.48 & -0.49 & -0.56 & -0.13 &  0.70 & -0.58 & -0.21 &  0.21 &  0.79 &  1.00 &  0.27\\\\\n",
       "\tcarb & -0.55 &  0.53 &  0.39 &  0.75 & -0.09 &  0.43 & -0.66 & -0.57 &  0.06 &  0.27 &  1.00\\\\\n",
       "\\end{tabular}\n"
      ],
      "text/markdown": [
       "\n",
       "A matrix: 11 × 11 of type dbl\n",
       "\n",
       "| <!--/--> | mpg | cyl | disp | hp | drat | wt | qsec | vs | am | gear | carb |\n",
       "|---|---|---|---|---|---|---|---|---|---|---|---|\n",
       "| mpg |  1.00 | -0.85 | -0.85 | -0.78 |  0.68 | -0.87 |  0.42 |  0.66 |  0.60 |  0.48 | -0.55 |\n",
       "| cyl | -0.85 |  1.00 |  0.90 |  0.83 | -0.70 |  0.78 | -0.59 | -0.81 | -0.52 | -0.49 |  0.53 |\n",
       "| disp | -0.85 |  0.90 |  1.00 |  0.79 | -0.71 |  0.89 | -0.43 | -0.71 | -0.59 | -0.56 |  0.39 |\n",
       "| hp | -0.78 |  0.83 |  0.79 |  1.00 | -0.45 |  0.66 | -0.71 | -0.72 | -0.24 | -0.13 |  0.75 |\n",
       "| drat |  0.68 | -0.70 | -0.71 | -0.45 |  1.00 | -0.71 |  0.09 |  0.44 |  0.71 |  0.70 | -0.09 |\n",
       "| wt | -0.87 |  0.78 |  0.89 |  0.66 | -0.71 |  1.00 | -0.17 | -0.55 | -0.69 | -0.58 |  0.43 |\n",
       "| qsec |  0.42 | -0.59 | -0.43 | -0.71 |  0.09 | -0.17 |  1.00 |  0.74 | -0.23 | -0.21 | -0.66 |\n",
       "| vs |  0.66 | -0.81 | -0.71 | -0.72 |  0.44 | -0.55 |  0.74 |  1.00 |  0.17 |  0.21 | -0.57 |\n",
       "| am |  0.60 | -0.52 | -0.59 | -0.24 |  0.71 | -0.69 | -0.23 |  0.17 |  1.00 |  0.79 |  0.06 |\n",
       "| gear |  0.48 | -0.49 | -0.56 | -0.13 |  0.70 | -0.58 | -0.21 |  0.21 |  0.79 |  1.00 |  0.27 |\n",
       "| carb | -0.55 |  0.53 |  0.39 |  0.75 | -0.09 |  0.43 | -0.66 | -0.57 |  0.06 |  0.27 |  1.00 |\n",
       "\n"
      ],
      "text/plain": [
       "     mpg   cyl   disp  hp    drat  wt    qsec  vs    am    gear  carb \n",
       "mpg   1.00 -0.85 -0.85 -0.78  0.68 -0.87  0.42  0.66  0.60  0.48 -0.55\n",
       "cyl  -0.85  1.00  0.90  0.83 -0.70  0.78 -0.59 -0.81 -0.52 -0.49  0.53\n",
       "disp -0.85  0.90  1.00  0.79 -0.71  0.89 -0.43 -0.71 -0.59 -0.56  0.39\n",
       "hp   -0.78  0.83  0.79  1.00 -0.45  0.66 -0.71 -0.72 -0.24 -0.13  0.75\n",
       "drat  0.68 -0.70 -0.71 -0.45  1.00 -0.71  0.09  0.44  0.71  0.70 -0.09\n",
       "wt   -0.87  0.78  0.89  0.66 -0.71  1.00 -0.17 -0.55 -0.69 -0.58  0.43\n",
       "qsec  0.42 -0.59 -0.43 -0.71  0.09 -0.17  1.00  0.74 -0.23 -0.21 -0.66\n",
       "vs    0.66 -0.81 -0.71 -0.72  0.44 -0.55  0.74  1.00  0.17  0.21 -0.57\n",
       "am    0.60 -0.52 -0.59 -0.24  0.71 -0.69 -0.23  0.17  1.00  0.79  0.06\n",
       "gear  0.48 -0.49 -0.56 -0.13  0.70 -0.58 -0.21  0.21  0.79  1.00  0.27\n",
       "carb -0.55  0.53  0.39  0.75 -0.09  0.43 -0.66 -0.57  0.06  0.27  1.00"
      ]
     },
     "metadata": {},
     "output_type": "display_data"
    }
   ],
   "source": [
    "round(cor(dt),2)"
   ]
  },
  {
   "cell_type": "code",
   "execution_count": 36,
   "id": "fe4ff7cb-e6d8-43dd-8b72-4f33a89cf7d5",
   "metadata": {},
   "outputs": [
    {
     "data": {
      "text/plain": [
       "\n",
       "Call:\n",
       "lm(formula = mpg ~ ., data = dt)\n",
       "\n",
       "Residuals:\n",
       "     Min       1Q   Median       3Q      Max \n",
       "-0.57254 -0.26620 -0.01985  0.20230  0.76773 \n",
       "\n",
       "Coefficients:\n",
       "              Estimate Std. Error t value Pr(>|t|)  \n",
       "(Intercept) -1.613e-17  7.773e-02   0.000   1.0000  \n",
       "cyl         -3.302e-02  3.097e-01  -0.107   0.9161  \n",
       "disp         2.742e-01  3.672e-01   0.747   0.4635  \n",
       "hp          -2.444e-01  2.476e-01  -0.987   0.3350  \n",
       "drat         6.983e-02  1.451e-01   0.481   0.6353  \n",
       "wt          -6.032e-01  3.076e-01  -1.961   0.0633 .\n",
       "qsec         2.434e-01  2.167e-01   1.123   0.2739  \n",
       "vs           2.657e-02  1.760e-01   0.151   0.8814  \n",
       "am           2.087e-01  1.703e-01   1.225   0.2340  \n",
       "gear         8.023e-02  1.828e-01   0.439   0.6652  \n",
       "carb        -5.344e-02  2.221e-01  -0.241   0.8122  \n",
       "---\n",
       "Signif. codes:  0 ‘***’ 0.001 ‘**’ 0.01 ‘*’ 0.05 ‘.’ 0.1 ‘ ’ 1\n",
       "\n",
       "Residual standard error: 0.4397 on 21 degrees of freedom\n",
       "Multiple R-squared:  0.869,\tAdjusted R-squared:  0.8066 \n",
       "F-statistic: 13.93 on 10 and 21 DF,  p-value: 3.793e-07\n"
      ]
     },
     "metadata": {},
     "output_type": "display_data"
    }
   ],
   "source": [
    "cars_fit_lm <- lm(mpg~., dt)\n",
    "summary(cars_fit_lm)"
   ]
  },
  {
   "cell_type": "markdown",
   "id": "078a9e6f-8ac8-4cf2-aea6-008efc329204",
   "metadata": {},
   "source": [
    "$H_0: \\beta_1 = \\beta_2 = \\dots = 0$ 모형은 유의하게 나왔는데 각 변수는 모두 유의하지 않게 나옴.."
   ]
  },
  {
   "cell_type": "code",
   "execution_count": null,
   "id": "11e706fb-0a14-4cd9-a23f-63636db3ac0e",
   "metadata": {},
   "outputs": [],
   "source": [
    "vif(cars_fit_lm)\n",
    " ## cyl disp hp drat wt qsec vs am ## 15.373833 21.620241 9.832037 3.374620 15.164887 7.527958 4.965873 4.648487 ## gear carb\n",
    "## 5.357452 7.908747"
   ]
  },
  {
   "cell_type": "markdown",
   "id": "107991c5-313c-4eb3-bd2d-1be7aa133e27",
   "metadata": {},
   "source": [
    "# 능형회귀 (Ridge Regression) \n",
    "\n",
    "## lm.ridge 함수 이용"
   ]
  },
  {
   "cell_type": "code",
   "execution_count": 38,
   "id": "0c5df7fa-adad-4b9c-aeef-fe4e11cf9c58",
   "metadata": {},
   "outputs": [],
   "source": [
    "rfit <- lm.ridge(mpg~., dt, lambda=seq(0.01,20,0.1))"
   ]
  },
  {
   "cell_type": "code",
   "execution_count": 39,
   "id": "97b6959d-5ccc-4d2c-ac5f-027e83cc2686",
   "metadata": {},
   "outputs": [
    {
     "name": "stdout",
     "output_type": "stream",
     "text": [
      "modified HKB estimator is 2.58585 \n",
      "modified L-W estimator is 1.837435 \n",
      "smallest value of GCV  at 14.91 \n"
     ]
    }
   ],
   "source": [
    "select(rfit)"
   ]
  },
  {
   "cell_type": "markdown",
   "id": "57bf1001-3717-47c0-be45-ba99fea25b9c",
   "metadata": {},
   "source": [
    "- 람다값 추천 GCV Generated Cross Validation mse를 가장 작게 하는 람다값"
   ]
  },
  {
   "cell_type": "code",
   "execution_count": 40,
   "id": "2bcb981a-711f-4291-86fe-b879c85fdb26",
   "metadata": {},
   "outputs": [
    {
     "data": {
      "text/html": [
       "<style>\n",
       ".dl-inline {width: auto; margin:0; padding: 0}\n",
       ".dl-inline>dt, .dl-inline>dd {float: none; width: auto; display: inline-block}\n",
       ".dl-inline>dt::after {content: \":\\0020\"; padding-right: .5ex}\n",
       ".dl-inline>dt:not(:first-of-type) {padding-left: .5ex}\n",
       "</style><dl class=dl-inline><dt>cyl</dt><dd>-0.032</dd><dt>disp</dt><dd>0.185</dd><dt>hp</dt><dd>-0.211</dd><dt>drat</dt><dd>0.074</dd><dt>wt</dt><dd>-0.52</dd><dt>qsec</dt><dd>0.207</dd><dt>vs</dt><dd>0.027</dd><dt>am</dt><dd>0.201</dd><dt>gear</dt><dd>0.082</dd><dt>carb</dt><dd>-0.093</dd></dl>\n"
      ],
      "text/latex": [
       "\\begin{description*}\n",
       "\\item[cyl] -0.032\n",
       "\\item[disp] 0.185\n",
       "\\item[hp] -0.211\n",
       "\\item[drat] 0.074\n",
       "\\item[wt] -0.52\n",
       "\\item[qsec] 0.207\n",
       "\\item[vs] 0.027\n",
       "\\item[am] 0.201\n",
       "\\item[gear] 0.082\n",
       "\\item[carb] -0.093\n",
       "\\end{description*}\n"
      ],
      "text/markdown": [
       "cyl\n",
       ":   -0.032disp\n",
       ":   0.185hp\n",
       ":   -0.211drat\n",
       ":   0.074wt\n",
       ":   -0.52qsec\n",
       ":   0.207vs\n",
       ":   0.027am\n",
       ":   0.201gear\n",
       ":   0.082carb\n",
       ":   -0.093\n",
       "\n"
      ],
      "text/plain": [
       "   cyl   disp     hp   drat     wt   qsec     vs     am   gear   carb \n",
       "-0.032  0.185 -0.211  0.074 -0.520  0.207  0.027  0.201  0.082 -0.093 "
      ]
     },
     "metadata": {},
     "output_type": "display_data"
    }
   ],
   "source": [
    "round(rfit$coef[,rfit$lam=='0.21'],3)"
   ]
  },
  {
   "cell_type": "markdown",
   "id": "23d9a19b-b0c7-4c37-ade0-fa10fe48934b",
   "metadata": {},
   "source": [
    "$\\sum \\hat{\\beta_j}^2, \\lambda = 0.21$"
   ]
  },
  {
   "cell_type": "code",
   "execution_count": 41,
   "id": "80757c46-cff6-4c67-9e7f-ed78468ad456",
   "metadata": {},
   "outputs": [
    {
     "data": {
      "text/html": [
       "<style>\n",
       ".dl-inline {width: auto; margin:0; padding: 0}\n",
       ".dl-inline>dt, .dl-inline>dd {float: none; width: auto; display: inline-block}\n",
       ".dl-inline>dt::after {content: \":\\0020\"; padding-right: .5ex}\n",
       ".dl-inline>dt:not(:first-of-type) {padding-left: .5ex}\n",
       "</style><dl class=dl-inline><dt>cyl</dt><dd>-0.078</dd><dt>disp</dt><dd>-0.049</dd><dt>hp</dt><dd>-0.144</dd><dt>drat</dt><dd>0.086</dd><dt>wt</dt><dd>-0.291</dd><dt>qsec</dt><dd>0.085</dd><dt>vs</dt><dd>0.041</dd><dt>am</dt><dd>0.169</dd><dt>gear</dt><dd>0.075</dd><dt>carb</dt><dd>-0.175</dd></dl>\n"
      ],
      "text/latex": [
       "\\begin{description*}\n",
       "\\item[cyl] -0.078\n",
       "\\item[disp] -0.049\n",
       "\\item[hp] -0.144\n",
       "\\item[drat] 0.086\n",
       "\\item[wt] -0.291\n",
       "\\item[qsec] 0.085\n",
       "\\item[vs] 0.041\n",
       "\\item[am] 0.169\n",
       "\\item[gear] 0.075\n",
       "\\item[carb] -0.175\n",
       "\\end{description*}\n"
      ],
      "text/markdown": [
       "cyl\n",
       ":   -0.078disp\n",
       ":   -0.049hp\n",
       ":   -0.144drat\n",
       ":   0.086wt\n",
       ":   -0.291qsec\n",
       ":   0.085vs\n",
       ":   0.041am\n",
       ":   0.169gear\n",
       ":   0.075carb\n",
       ":   -0.175\n",
       "\n"
      ],
      "text/plain": [
       "   cyl   disp     hp   drat     wt   qsec     vs     am   gear   carb \n",
       "-0.078 -0.049 -0.144  0.086 -0.291  0.085  0.041  0.169  0.075 -0.175 "
      ]
     },
     "metadata": {},
     "output_type": "display_data"
    }
   ],
   "source": [
    "round(rfit$coef[,rfit$lam=='3.21'],3)"
   ]
  },
  {
   "cell_type": "markdown",
   "id": "77873eca-d06e-473d-b997-e1d0d573f725",
   "metadata": {},
   "source": [
    "$\\sum \\hat{\\beta_j}^2, \\lambda = 3.21$"
   ]
  },
  {
   "cell_type": "code",
   "execution_count": 42,
   "id": "4e4cc382-85e2-4864-b4ac-23b7aa3fc77f",
   "metadata": {},
   "outputs": [
    {
     "data": {
      "text/html": [
       "<style>\n",
       ".dl-inline {width: auto; margin:0; padding: 0}\n",
       ".dl-inline>dt, .dl-inline>dd {float: none; width: auto; display: inline-block}\n",
       ".dl-inline>dt::after {content: \":\\0020\"; padding-right: .5ex}\n",
       ".dl-inline>dt:not(:first-of-type) {padding-left: .5ex}\n",
       "</style><dl class=dl-inline><dt>cyl</dt><dd>-0.109</dd><dt>disp</dt><dd>-0.107</dd><dt>hp</dt><dd>-0.13</dd><dt>drat</dt><dd>0.092</dd><dt>wt</dt><dd>-0.197</dd><dt>qsec</dt><dd>0.047</dd><dt>vs</dt><dd>0.063</dd><dt>am</dt><dd>0.132</dd><dt>gear</dt><dd>0.066</dd><dt>carb</dt><dd>-0.144</dd></dl>\n"
      ],
      "text/latex": [
       "\\begin{description*}\n",
       "\\item[cyl] -0.109\n",
       "\\item[disp] -0.107\n",
       "\\item[hp] -0.13\n",
       "\\item[drat] 0.092\n",
       "\\item[wt] -0.197\n",
       "\\item[qsec] 0.047\n",
       "\\item[vs] 0.063\n",
       "\\item[am] 0.132\n",
       "\\item[gear] 0.066\n",
       "\\item[carb] -0.144\n",
       "\\end{description*}\n"
      ],
      "text/markdown": [
       "cyl\n",
       ":   -0.109disp\n",
       ":   -0.107hp\n",
       ":   -0.13drat\n",
       ":   0.092wt\n",
       ":   -0.197qsec\n",
       ":   0.047vs\n",
       ":   0.063am\n",
       ":   0.132gear\n",
       ":   0.066carb\n",
       ":   -0.144\n",
       "\n"
      ],
      "text/plain": [
       "   cyl   disp     hp   drat     wt   qsec     vs     am   gear   carb \n",
       "-0.109 -0.107 -0.130  0.092 -0.197  0.047  0.063  0.132  0.066 -0.144 "
      ]
     },
     "metadata": {},
     "output_type": "display_data"
    }
   ],
   "source": [
    "round(rfit$coef[,rfit$lam=='14.91'],3)"
   ]
  },
  {
   "cell_type": "markdown",
   "id": "f21145ed-a341-4e11-815d-d1577bc0b1fd",
   "metadata": {},
   "source": [
    "$\\sum \\hat{\\beta_j}^2, \\lambda = 14.91$"
   ]
  },
  {
   "cell_type": "code",
   "execution_count": 43,
   "id": "886bde91-4cb6-4684-b5f2-ae66e78293d7",
   "metadata": {},
   "outputs": [
    {
     "data": {
      "text/html": [
       "0.455670466366229"
      ],
      "text/latex": [
       "0.455670466366229"
      ],
      "text/markdown": [
       "0.455670466366229"
      ],
      "text/plain": [
       "[1] 0.4556705"
      ]
     },
     "metadata": {},
     "output_type": "display_data"
    }
   ],
   "source": [
    "sum(rfit$coef[,rfit$lam=='0.21']^2)"
   ]
  },
  {
   "cell_type": "code",
   "execution_count": 44,
   "id": "09ebaabc-6175-4584-8660-fc2727583be6",
   "metadata": {},
   "outputs": [
    {
     "data": {
      "text/html": [
       "0.195026451544005"
      ],
      "text/latex": [
       "0.195026451544005"
      ],
      "text/markdown": [
       "0.195026451544005"
      ],
      "text/plain": [
       "[1] 0.1950265"
      ]
     },
     "metadata": {},
     "output_type": "display_data"
    }
   ],
   "source": [
    "sum(rfit$coef[,rfit$lam=='3.21']^2)"
   ]
  },
  {
   "cell_type": "code",
   "execution_count": 45,
   "id": "43e8d0b0-3d47-4663-bd92-e332e58ae668",
   "metadata": {},
   "outputs": [
    {
     "data": {
      "text/html": [
       "0.135989355255868"
      ],
      "text/latex": [
       "0.135989355255868"
      ],
      "text/markdown": [
       "0.135989355255868"
      ],
      "text/plain": [
       "[1] 0.1359894"
      ]
     },
     "metadata": {},
     "output_type": "display_data"
    }
   ],
   "source": [
    "sum(rfit$coef[,rfit$lam=='14.91']^2)"
   ]
  },
  {
   "cell_type": "code",
   "execution_count": 46,
   "id": "e043b4a6-00e0-498e-bb03-8f5fd60e2e1b",
   "metadata": {},
   "outputs": [
    {
     "data": {
      "image/png": "[encoded data removed]",
      "text/plain": [
       "plot without title"
      ]
     },
     "metadata": {
      "image/png": {
       "height": 420,
       "width": 420
      }
     },
     "output_type": "display_data"
    }
   ],
   "source": [
    "# graphics.off()\n",
    "matplot(rfit$lambda, t(rfit$coef), type='l',\n",
    "xlab=expression(lambda),\n",
    "ylab=expression(bold(beta)(lambda)), lwd=2) \n",
    "abline(h=0, col=\"grey\", lty=2)\n",
    "abline(v=14.91, col=\"black\", lty=2)"
   ]
  },
  {
   "cell_type": "markdown",
   "id": "d50749a9-79e1-496d-8e3d-98610889060b",
   "metadata": {},
   "source": [
    "## glmnet 함수 이용"
   ]
  },
  {
   "cell_type": "markdown",
   "id": "190b96b2-5377-431b-98c8-ed0f62d24940",
   "metadata": {},
   "source": [
    "- 설명변수만 사용 상수항 없이"
   ]
  },
  {
   "cell_type": "code",
   "execution_count": 47,
   "id": "35194fe6-dbf9-48c3-8533-e00396fea1b9",
   "metadata": {},
   "outputs": [
    {
     "data": {
      "text/html": [
       "<table class=\"dataframe\">\n",
       "<caption>A matrix: 6 × 10 of type dbl</caption>\n",
       "<thead>\n",
       "\t<tr><th></th><th scope=col>cyl</th><th scope=col>disp</th><th scope=col>hp</th><th scope=col>drat</th><th scope=col>wt</th><th scope=col>qsec</th><th scope=col>vs</th><th scope=col>am</th><th scope=col>gear</th><th scope=col>carb</th></tr>\n",
       "</thead>\n",
       "<tbody>\n",
       "\t<tr><th scope=row>Mazda RX4</th><td>-0.1049878</td><td>-0.57061982</td><td>-0.5350928</td><td> 0.5675137</td><td>-0.610399567</td><td>-0.7771651</td><td>-0.8680278</td><td> 1.1899014</td><td> 0.4235542</td><td> 0.7352031</td></tr>\n",
       "\t<tr><th scope=row>Mazda RX4 Wag</th><td>-0.1049878</td><td>-0.57061982</td><td>-0.5350928</td><td> 0.5675137</td><td>-0.349785269</td><td>-0.4637808</td><td>-0.8680278</td><td> 1.1899014</td><td> 0.4235542</td><td> 0.7352031</td></tr>\n",
       "\t<tr><th scope=row>Datsun 710</th><td>-1.2248578</td><td>-0.99018209</td><td>-0.7830405</td><td> 0.4739996</td><td>-0.917004624</td><td> 0.4260068</td><td> 1.1160357</td><td> 1.1899014</td><td> 0.4235542</td><td>-1.1221521</td></tr>\n",
       "\t<tr><th scope=row>Hornet 4 Drive</th><td>-0.1049878</td><td> 0.22009369</td><td>-0.5350928</td><td>-0.9661175</td><td>-0.002299538</td><td> 0.8904872</td><td> 1.1160357</td><td>-0.8141431</td><td>-0.9318192</td><td>-1.1221521</td></tr>\n",
       "\t<tr><th scope=row>Hornet Sportabout</th><td> 1.0148821</td><td> 1.04308123</td><td> 0.4129422</td><td>-0.8351978</td><td> 0.227654255</td><td>-0.4637808</td><td>-0.8680278</td><td>-0.8141431</td><td>-0.9318192</td><td>-0.5030337</td></tr>\n",
       "\t<tr><th scope=row>Valiant</th><td>-0.1049878</td><td>-0.04616698</td><td>-0.6080186</td><td>-1.5646078</td><td> 0.248094592</td><td> 1.3269868</td><td> 1.1160357</td><td>-0.8141431</td><td>-0.9318192</td><td>-1.1221521</td></tr>\n",
       "</tbody>\n",
       "</table>\n"
      ],
      "text/latex": [
       "A matrix: 6 × 10 of type dbl\n",
       "\\begin{tabular}{r|llllllllll}\n",
       "  & cyl & disp & hp & drat & wt & qsec & vs & am & gear & carb\\\\\n",
       "\\hline\n",
       "\tMazda RX4 & -0.1049878 & -0.57061982 & -0.5350928 &  0.5675137 & -0.610399567 & -0.7771651 & -0.8680278 &  1.1899014 &  0.4235542 &  0.7352031\\\\\n",
       "\tMazda RX4 Wag & -0.1049878 & -0.57061982 & -0.5350928 &  0.5675137 & -0.349785269 & -0.4637808 & -0.8680278 &  1.1899014 &  0.4235542 &  0.7352031\\\\\n",
       "\tDatsun 710 & -1.2248578 & -0.99018209 & -0.7830405 &  0.4739996 & -0.917004624 &  0.4260068 &  1.1160357 &  1.1899014 &  0.4235542 & -1.1221521\\\\\n",
       "\tHornet 4 Drive & -0.1049878 &  0.22009369 & -0.5350928 & -0.9661175 & -0.002299538 &  0.8904872 &  1.1160357 & -0.8141431 & -0.9318192 & -1.1221521\\\\\n",
       "\tHornet Sportabout &  1.0148821 &  1.04308123 &  0.4129422 & -0.8351978 &  0.227654255 & -0.4637808 & -0.8680278 & -0.8141431 & -0.9318192 & -0.5030337\\\\\n",
       "\tValiant & -0.1049878 & -0.04616698 & -0.6080186 & -1.5646078 &  0.248094592 &  1.3269868 &  1.1160357 & -0.8141431 & -0.9318192 & -1.1221521\\\\\n",
       "\\end{tabular}\n"
      ],
      "text/markdown": [
       "\n",
       "A matrix: 6 × 10 of type dbl\n",
       "\n",
       "| <!--/--> | cyl | disp | hp | drat | wt | qsec | vs | am | gear | carb |\n",
       "|---|---|---|---|---|---|---|---|---|---|---|\n",
       "| Mazda RX4 | -0.1049878 | -0.57061982 | -0.5350928 |  0.5675137 | -0.610399567 | -0.7771651 | -0.8680278 |  1.1899014 |  0.4235542 |  0.7352031 |\n",
       "| Mazda RX4 Wag | -0.1049878 | -0.57061982 | -0.5350928 |  0.5675137 | -0.349785269 | -0.4637808 | -0.8680278 |  1.1899014 |  0.4235542 |  0.7352031 |\n",
       "| Datsun 710 | -1.2248578 | -0.99018209 | -0.7830405 |  0.4739996 | -0.917004624 |  0.4260068 |  1.1160357 |  1.1899014 |  0.4235542 | -1.1221521 |\n",
       "| Hornet 4 Drive | -0.1049878 |  0.22009369 | -0.5350928 | -0.9661175 | -0.002299538 |  0.8904872 |  1.1160357 | -0.8141431 | -0.9318192 | -1.1221521 |\n",
       "| Hornet Sportabout |  1.0148821 |  1.04308123 |  0.4129422 | -0.8351978 |  0.227654255 | -0.4637808 | -0.8680278 | -0.8141431 | -0.9318192 | -0.5030337 |\n",
       "| Valiant | -0.1049878 | -0.04616698 | -0.6080186 | -1.5646078 |  0.248094592 |  1.3269868 |  1.1160357 | -0.8141431 | -0.9318192 | -1.1221521 |\n",
       "\n"
      ],
      "text/plain": [
       "                  cyl        disp        hp         drat       wt          \n",
       "Mazda RX4         -0.1049878 -0.57061982 -0.5350928  0.5675137 -0.610399567\n",
       "Mazda RX4 Wag     -0.1049878 -0.57061982 -0.5350928  0.5675137 -0.349785269\n",
       "Datsun 710        -1.2248578 -0.99018209 -0.7830405  0.4739996 -0.917004624\n",
       "Hornet 4 Drive    -0.1049878  0.22009369 -0.5350928 -0.9661175 -0.002299538\n",
       "Hornet Sportabout  1.0148821  1.04308123  0.4129422 -0.8351978  0.227654255\n",
       "Valiant           -0.1049878 -0.04616698 -0.6080186 -1.5646078  0.248094592\n",
       "                  qsec       vs         am         gear       carb      \n",
       "Mazda RX4         -0.7771651 -0.8680278  1.1899014  0.4235542  0.7352031\n",
       "Mazda RX4 Wag     -0.4637808 -0.8680278  1.1899014  0.4235542  0.7352031\n",
       "Datsun 710         0.4260068  1.1160357  1.1899014  0.4235542 -1.1221521\n",
       "Hornet 4 Drive     0.8904872  1.1160357 -0.8141431 -0.9318192 -1.1221521\n",
       "Hornet Sportabout -0.4637808 -0.8680278 -0.8141431 -0.9318192 -0.5030337\n",
       "Valiant            1.3269868  1.1160357 -0.8141431 -0.9318192 -1.1221521"
      ]
     },
     "metadata": {},
     "output_type": "display_data"
    }
   ],
   "source": [
    "X <- model.matrix(mpg~., dt)[,-1]\n",
    "y <- dt$mpg\n",
    "head(X)"
   ]
  },
  {
   "cell_type": "code",
   "execution_count": 48,
   "id": "9236cad8-ed94-4b19-9e68-3de08f1be27f",
   "metadata": {},
   "outputs": [
    {
     "data": {
      "text/html": [
       "<style>\n",
       ".list-inline {list-style: none; margin:0; padding: 0}\n",
       ".list-inline>li {display: inline-block}\n",
       ".list-inline>li:not(:last-child)::after {content: \"\\00b7\"; padding: 0 .5ex}\n",
       "</style>\n",
       "<ol class=list-inline><li>0.150884824647657</li><li>0.150884824647657</li><li>0.449543446630647</li><li>0.217253407310543</li><li>-0.230734525663942</li><li>-0.330287399658272</li></ol>\n"
      ],
      "text/latex": [
       "\\begin{enumerate*}\n",
       "\\item 0.150884824647657\n",
       "\\item 0.150884824647657\n",
       "\\item 0.449543446630647\n",
       "\\item 0.217253407310543\n",
       "\\item -0.230734525663942\n",
       "\\item -0.330287399658272\n",
       "\\end{enumerate*}\n"
      ],
      "text/markdown": [
       "1. 0.150884824647657\n",
       "2. 0.150884824647657\n",
       "3. 0.449543446630647\n",
       "4. 0.217253407310543\n",
       "5. -0.230734525663942\n",
       "6. -0.330287399658272\n",
       "\n",
       "\n"
      ],
      "text/plain": [
       "[1]  0.1508848  0.1508848  0.4495434  0.2172534 -0.2307345 -0.3302874"
      ]
     },
     "metadata": {},
     "output_type": "display_data"
    }
   ],
   "source": [
    "head(y)"
   ]
  },
  {
   "cell_type": "code",
   "execution_count": null,
   "id": "f9f8c53f-6cb0-418d-bc11-9fb88556e8bc",
   "metadata": {},
   "outputs": [],
   "source": [
    "ridge.fit<-glmnet(X,y,alpha=0, lambda=seq(0.01,20,0.1)) ##ridge : alpha=0 plot(ridge.fit, label=TRUE)"
   ]
  },
  {
   "cell_type": "code",
   "execution_count": null,
   "id": "b643c36f-4c39-4f7d-af82-9ac5f0e139cd",
   "metadata": {},
   "outputs": [],
   "source": [
    "abline(h=0, col=\"grey\", lty=2)"
   ]
  },
  {
   "cell_type": "markdown",
   "id": "1f65240d-2387-4025-9fac-a1926842ef3a",
   "metadata": {},
   "source": [
    "- $\\sum \\hat{\\beta}^2 \\le t$ Ridge, $\\sum |\\hat{\\beta}| \\le t$ Rasso\n",
    "- $(1-\\alpha)\\sum \\hat{\\beta}^2 + \\alpha \\sum |\\hat{\\beta}| \\le t$\n",
    "- alpha=0 $\\to$ Ridge 쓰겠다.\n",
    "- alpha=0 $\\to$ Rasso 쓰겠다.\n",
    "- alpha=0.5 $\\to$ Ridge, Rasso 반절씩 쓰겠다."
   ]
  },
  {
   "cell_type": "code",
   "execution_count": null,
   "id": "5abf76ee-a194-40da-9fc4-267bc319e117",
   "metadata": {},
   "outputs": [],
   "source": [
    "cv.fit<-cv.glmnet(X,y,alpha=0,nfolds=length(y))\n",
    "## Warning: Option grouped=FALSE enforced in cv.glmnet, since < 3 observations per ## fold"
   ]
  },
  {
   "cell_type": "markdown",
   "id": "59a92e55-9c49-4131-afdc-7df78a4c7972",
   "metadata": {},
   "source": [
    "- cross validation"
   ]
  },
  {
   "cell_type": "code",
   "execution_count": null,
   "id": "27e004a1-a18a-4cfb-91ae-0a286cb3164f",
   "metadata": {},
   "outputs": [],
   "source": [
    "cv.fit\n",
    " ##\n",
    "## Call: cv.glmnet(x = X, y = y, nfolds = length(y), alpha = 0) ##\n",
    "## Measure: Mean-Squared Error ##\n",
    "## Lambda Index Measure SE Nonzero\n",
    "## min 0.4558 82 0.2020 0.05006 10\n",
    "## 1se 1.8399 67 0.2465 0.07432 10"
   ]
  },
  {
   "cell_type": "code",
   "execution_count": null,
   "id": "57abe47c-a499-4fe6-a363-674b18be73b5",
   "metadata": {},
   "outputs": [],
   "source": [
    "plot(cv.fit)\n",
    "cv.fit<-cv.glmnet(X,y,alpha=0,nfolds=10)\n",
    "cv.fit\n",
    "##\n",
    "## Call: cv.glmnet(x = X, y = y, nfolds = 10, alpha = 0) ##\n",
    "## Measure: Mean-Squared Error ##\n",
    "## Lambda Index Measure SE Nonzero\n",
    "## min 0.5002 81 0.2169 0.05967 10\n",
    "## 1se 2.2161 65 0.2764 0.10178 10"
   ]
  },
  {
   "cell_type": "code",
   "execution_count": null,
   "id": "17c34b43-2607-49ff-abc0-617f4581cc87",
   "metadata": {},
   "outputs": [],
   "source": [
    "plot(cv.fit)"
   ]
  },
  {
   "cell_type": "code",
   "execution_count": null,
   "id": "444ad0ec-b0e5-4b41-a1d5-0109079f09d2",
   "metadata": {},
   "outputs": [],
   "source": [
    "lam<-cv.fit$lambda.min;lam\n",
    "## [1] 0.5001864"
   ]
  },
  {
   "cell_type": "code",
   "execution_count": null,
   "id": "2a5df3c1-8f8a-48ae-b1e7-1e8a435debe5",
   "metadata": {},
   "outputs": [],
   "source": [
    "log(lam)\n",
    "## [1] -0.6927744"
   ]
  },
  {
   "cell_type": "code",
   "execution_count": null,
   "id": "0455beaa-2fc3-434c-a430-51c4082bf0cc",
   "metadata": {},
   "outputs": [],
   "source": [
    "predict(ridge.fit,type=\"coefficients\",s=lam)"
   ]
  },
  {
   "cell_type": "markdown",
   "id": "a089dd0a-2bc0-4ed9-a9a9-6151f1464573",
   "metadata": {},
   "source": [
    "## Lasso"
   ]
  },
  {
   "cell_type": "code",
   "execution_count": null,
   "id": "6fabf79d-a581-429c-9ee9-8396585cfb77",
   "metadata": {},
   "outputs": [],
   "source": [
    "lasso.fit<-glmnet(X,y,alpha=1, lambda=seq(0.01,20,0.1)) ##lasso : alpha=1 plot(lasso.fit, label=TRUE)\n",
    " ## Warning in regularize.values(x, y, ties, missing(ties), na.rm = na.rm): 고유한 ## 'x'값들로 범위를 축소합니다"
   ]
  },
  {
   "cell_type": "code",
   "execution_count": null,
   "id": "06035b2c-ce7b-4b7d-a46f-055580abc678",
   "metadata": {},
   "outputs": [],
   "source": [
    "cv.lasso.fit<-cv.glmnet(X,y,alpha=1,nfolds=10)\n",
    "cv.lasso.fit\n",
    " ##\n",
    "## Call: cv.glmnet(x = X, y = y, nfolds = 10, alpha = 1) ##\n",
    "## Measure: Mean-Squared Error ##\n",
    "## Lambda Index Measure SE Nonzero\n",
    "## min 0.1005 24 0.2252 0.05178 5\n",
    "## 1se 0.2322 15 0.2697 0.07727 3"
   ]
  },
  {
   "cell_type": "code",
   "execution_count": null,
   "id": "7a4329f3-a378-445f-90e1-53d8d8f202b9",
   "metadata": {
    "tags": []
   },
   "outputs": [],
   "source": [
    "plot(cv.lasso.fit)"
   ]
  }
 ],
 "metadata": {
  "kernelspec": {
   "display_name": "R",
   "language": "R",
   "name": "ir"
  },
  "language_info": {
   "codemirror_mode": "r",
   "file_extension": ".r",
   "mimetype": "text/x-r-source",
   "name": "R",
   "pygments_lexer": "r",
   "version": "4.3.0"
  }
 },
 "nbformat": 4,
 "nbformat_minor": 5
}
