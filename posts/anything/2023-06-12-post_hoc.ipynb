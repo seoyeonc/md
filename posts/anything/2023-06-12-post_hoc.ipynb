{
 "cells": [
  {
   "cell_type": "raw",
   "id": "49215524-e011-4c1b-8402-49638e06c20e",
   "metadata": {},
   "source": [
    "---\n",
    "title: \"Post Hoc Tests\"\n",
    "author: \"SEOYEON CHOI\"\n",
    "date: \"2023-06-12\"\n",
    "categories:\n",
    "  - The Bonferroni correction\n",
    "  - Fisher's Least Significant Difference\n",
    "  - Tuckey's Honestly Significant Difference\n",
    "  - Scheffe's method\n",
    "---"
   ]
  },
  {
   "cell_type": "markdown",
   "id": "11f502e7-be5d-436f-bd9c-20b8187c0b23",
   "metadata": {},
   "source": [
    "> Post Hoc Tests"
   ]
  },
  {
   "cell_type": "markdown",
   "id": "2c774bf6-60d9-4138-9ca6-c3fccd23cf99",
   "metadata": {},
   "source": [
    "Ref: [Post Hoc Tests](https://alanarnholt.github.io/PDS-Bookdown2/post-hoc-tests-1.html), https://mindscale.kr/course/basic-stat-r/post-hoc/#_2"
   ]
  },
  {
   "cell_type": "markdown",
   "id": "471f3234-f23d-4f00-9405-45d34c906dea",
   "metadata": {},
   "source": [
    "실무 진행하면서 이해한 바대로 explanation: \n",
    "\n",
    "분산분석 후 세 그룹 이상의 그룹에서 차이가 존재한다면 t test를 여러번 하게 되면 제 1종 오류가 기존에 정한 값보다 커지는 문제가 생긴다. (표본의 크기가 다를 경우) 본페로니 검정 후 p값 3배(세 그룹이라면, 즉 그룹 수대로 배수) 해주기"
   ]
  },
  {
   "cell_type": "markdown",
   "id": "5f0f3939-3869-4d7a-9acb-24b7098add3a",
   "metadata": {},
   "source": [
    "**FWER**\n",
    "\n",
    "Familywise Error Rate, 여러 개의 가설 검정 진해 시 적어도 하나의 가설에서 1종 오류가 발생할 가능성"
   ]
  },
  {
   "cell_type": "markdown",
   "id": "30a4422b-d706-496d-8432-8916971c7f0b",
   "metadata": {},
   "source": [
    "# Import"
   ]
  },
  {
   "cell_type": "code",
   "execution_count": 20,
   "id": "dbd0807b-0afb-402a-a18d-7000a23f2902",
   "metadata": {},
   "outputs": [],
   "source": [
    "library(DescTools)"
   ]
  },
  {
   "cell_type": "markdown",
   "id": "07a3acb3-c407-4977-967a-7f2f9419419f",
   "metadata": {},
   "source": [
    "대표적인 사후분석 방법"
   ]
  },
  {
   "cell_type": "markdown",
   "id": "bd349575-b1b7-4050-bfdb-8fd7eb2638c0",
   "metadata": {},
   "source": [
    "- 본페로니 교정\n",
    "- 피셔의 LSD\n",
    "- 투키의 HSD\n",
    "- 셰페의 방법"
   ]
  },
  {
   "cell_type": "markdown",
   "id": "14760993-8637-4863-a586-c086a6f61d3d",
   "metadata": {},
   "source": [
    "분산분석"
   ]
  },
  {
   "cell_type": "code",
   "execution_count": 21,
   "id": "0ab00696-d8fb-4775-883f-e982ee132b6d",
   "metadata": {},
   "outputs": [],
   "source": [
    "m = aov(weight ~ group, data = PlantGrowth)"
   ]
  },
  {
   "cell_type": "code",
   "execution_count": 22,
   "id": "af3eee59-29e6-4411-b5ca-1ee558977318",
   "metadata": {},
   "outputs": [
    {
     "data": {
      "text/plain": [
       "            Df Sum Sq Mean Sq F value Pr(>F)  \n",
       "group        2  3.766  1.8832   4.846 0.0159 *\n",
       "Residuals   27 10.492  0.3886                 \n",
       "---\n",
       "Signif. codes:  0 '***' 0.001 '**' 0.01 '*' 0.05 '.' 0.1 ' ' 1"
      ]
     },
     "metadata": {},
     "output_type": "display_data"
    }
   ],
   "source": [
    "summary(m)"
   ]
  },
  {
   "cell_type": "markdown",
   "id": "64b8be58-c8ba-4a1b-95d5-fad50edd1755",
   "metadata": {},
   "source": [
    "# Fisher's Least Significant Difference"
   ]
  },
  {
   "cell_type": "markdown",
   "id": "d1598210-c1eb-4d30-9d63-6ab13dfe541e",
   "metadata": {},
   "source": [
    "- 피셔의 LSD ;최소한의 유의한 차이\n",
    "- FWER 높음"
   ]
  },
  {
   "cell_type": "code",
   "execution_count": 24,
   "id": "d5a0a904-22a5-40b3-9d89-f1e49291d9a4",
   "metadata": {},
   "outputs": [
    {
     "data": {
      "text/plain": [
       "\n",
       "  Posthoc multiple comparisons of means : Fisher LSD \n",
       "    95% family-wise confidence level\n",
       "\n",
       "$group\n",
       "            diff      lwr.ci    upr.ci   pval    \n",
       "trt1-ctrl -0.371 -0.94301261 0.2010126 0.1944    \n",
       "trt2-ctrl  0.494 -0.07801261 1.0660126 0.0877 .  \n",
       "trt2-trt1  0.865  0.29298739 1.4370126 0.0045 ** \n",
       "\n",
       "---\n",
       "Signif. codes:  0 '***' 0.001 '**' 0.01 '*' 0.05 '.' 0.1 ' ' 1\n"
      ]
     },
     "metadata": {},
     "output_type": "display_data"
    }
   ],
   "source": [
    "PostHocTest(m, method='lsd')"
   ]
  },
  {
   "cell_type": "markdown",
   "id": "12a854d7-af47-4d33-b5b6-6b2a40c4e624",
   "metadata": {},
   "source": [
    "마지막인 `trt2-trt1` 차이만 p-값이 0.05보다 작아 통계적으로 유의한 차이가 있다고 할 수 있다."
   ]
  },
  {
   "cell_type": "markdown",
   "id": "6123c974-d5b9-4243-ad6e-26b3d143c1ae",
   "metadata": {},
   "source": [
    "# Bonferroni correction"
   ]
  },
  {
   "cell_type": "markdown",
   "id": "7ee79119-e82c-4c13-bd4f-1e39781a1358",
   "metadata": {},
   "source": [
    "- 모든 집단을 짝지어서 t-test 진행\n",
    "- 짝지어 비교를 3번하면 p값을 3배해야 한다.\n",
    "- FWER 중간"
   ]
  },
  {
   "cell_type": "code",
   "execution_count": 25,
   "id": "401b1165-6c46-482e-b396-96e0d50a3101",
   "metadata": {},
   "outputs": [
    {
     "data": {
      "text/plain": [
       "\n",
       "  Posthoc multiple comparisons of means : Bonferroni \n",
       "    95% family-wise confidence level\n",
       "\n",
       "$group\n",
       "            diff     lwr.ci    upr.ci   pval    \n",
       "trt1-ctrl -0.371 -1.0825786 0.3405786 0.5832    \n",
       "trt2-ctrl  0.494 -0.2175786 1.2055786 0.2630    \n",
       "trt2-trt1  0.865  0.1534214 1.5765786 0.0134 *  \n",
       "\n",
       "---\n",
       "Signif. codes:  0 '***' 0.001 '**' 0.01 '*' 0.05 '.' 0.1 ' ' 1\n"
      ]
     },
     "metadata": {},
     "output_type": "display_data"
    }
   ],
   "source": [
    "PostHocTest(m, method='bonferroni')"
   ]
  },
  {
   "cell_type": "markdown",
   "id": "10b58f2e-b0f1-4009-a158-54d4043dc6b5",
   "metadata": {},
   "source": [
    "- `trt2-trt1`만 유의한 차이를 가지고 있다,\n",
    "- 피셔의 LSD와 다른 점은 p값이 세 배가 되었다는 것이다.\n",
    "- 즉 데이터에 따라 피셔의 LSD에서는 유의하지만 본페로니 교정에서는 유의하지 않을 수 있다."
   ]
  },
  {
   "cell_type": "markdown",
   "id": "1526992d-d13b-4cae-9b4b-82b0919c15e5",
   "metadata": {},
   "source": [
    "# Tuckey's Honestly Significant Difference"
   ]
  },
  {
   "cell_type": "markdown",
   "id": "d31788e2-6507-4c5e-bc9d-8dc6e2bc7afd",
   "metadata": {},
   "source": [
    "- 진정으로 유의미한 차이\n",
    "- FWER 중간"
   ]
  },
  {
   "cell_type": "code",
   "execution_count": 27,
   "id": "a0546ae6-9942-4872-b977-445a674a3312",
   "metadata": {},
   "outputs": [
    {
     "data": {
      "text/plain": [
       "\n",
       "  Posthoc multiple comparisons of means : Tukey HSD \n",
       "    95% family-wise confidence level\n",
       "\n",
       "$group\n",
       "            diff     lwr.ci    upr.ci   pval    \n",
       "trt1-ctrl -0.371 -1.0622161 0.3202161 0.3909    \n",
       "trt2-ctrl  0.494 -0.1972161 1.1852161 0.1980    \n",
       "trt2-trt1  0.865  0.1737839 1.5562161 0.0120 *  \n",
       "\n",
       "---\n",
       "Signif. codes:  0 '***' 0.001 '**' 0.01 '*' 0.05 '.' 0.1 ' ' 1\n"
      ]
     },
     "metadata": {},
     "output_type": "display_data"
    }
   ],
   "source": [
    "PostHocTest(m, method='hsd')"
   ]
  },
  {
   "cell_type": "markdown",
   "id": "05499ecd-a4f6-4776-a51c-b291fdf1fc82",
   "metadata": {},
   "source": [
    "`trt2-trt1`차이가 유의미하다는 결과가 나왔다."
   ]
  },
  {
   "cell_type": "markdown",
   "id": "3f1c8c1e-fa4f-4fde-b6a2-d4adcc20785e",
   "metadata": {},
   "source": [
    "# Scheffe's method"
   ]
  },
  {
   "cell_type": "markdown",
   "id": "c2a61f38-c2d9-4a0e-8293-548a011fc81d",
   "metadata": {},
   "source": [
    "- 보수적인 결과라 2종 오류의 가능성이 존재한다.\n",
    "- FWER 가장 낮음"
   ]
  },
  {
   "cell_type": "code",
   "execution_count": 29,
   "id": "0027101e-de44-44d9-82a5-697dc1e2d28e",
   "metadata": {},
   "outputs": [
    {
     "data": {
      "text/plain": [
       "\n",
       "  Posthoc multiple comparisons of means: Scheffe Test \n",
       "    95% family-wise confidence level\n",
       "\n",
       "$group\n",
       "            diff     lwr.ci    upr.ci   pval    \n",
       "trt1-ctrl -0.371 -1.0930531 0.3510531 0.4241    \n",
       "trt2-ctrl  0.494 -0.2280531 1.2160531 0.2265    \n",
       "trt2-trt1  0.865  0.1429469 1.5870531 0.0163 *  \n",
       "\n",
       "---\n",
       "Signif. codes:  0 '***' 0.001 '**' 0.01 '*' 0.05 '.' 0.1 ' ' 1\n"
      ]
     },
     "metadata": {},
     "output_type": "display_data"
    }
   ],
   "source": [
    "PostHocTest(m, method='scheffe')"
   ]
  },
  {
   "cell_type": "markdown",
   "id": "c8b76736-459a-44c3-95f2-6e14af7a4e5e",
   "metadata": {},
   "source": [
    "`trt2-trt1` 차이가 유의하다는 결과가 나왔다."
   ]
  },
  {
   "cell_type": "code",
   "execution_count": null,
   "id": "d03316a2-c502-42d5-89fd-2c828e2bdf1f",
   "metadata": {},
   "outputs": [],
   "source": []
  }
 ],
 "metadata": {
  "kernelspec": {
   "display_name": "R",
   "language": "R",
   "name": "r"
  },
  "language_info": {
   "codemirror_mode": "r",
   "file_extension": ".r",
   "mimetype": "text/x-r-source",
   "name": "R",
   "pygments_lexer": "r",
   "version": "4.0.2"
  }
 },
 "nbformat": 4,
 "nbformat_minor": 5
}
