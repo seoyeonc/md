{
 "cells": [
  {
   "cell_type": "raw",
   "id": "b9cce92c-bcc0-4411-a1ad-1f8267699a3a",
   "metadata": {},
   "source": [
    "---\n",
    "title: \"Steady State\"\n",
    "author: \"SEOYEON CHOI\"\n",
    "date: \"2023-06-12\"\n",
    "categories:\n",
    "  - Pharmacokinetic Analysis\n",
    "---"
   ]
  },
  {
   "cell_type": "markdown",
   "id": "0f74183a-e4c4-48c1-b4e7-fe61e2e0a906",
   "metadata": {},
   "source": [
    "> Pharmacokinetic Analysis"
   ]
  },
  {
   "cell_type": "markdown",
   "id": "ea117a29-ea0d-453c-b066-0e55ff717a11",
   "metadata": {},
   "source": [
    "Ref: [FDA](https://www.fda.gov/media/70115/download)"
   ]
  },
  {
   "cell_type": "markdown",
   "id": "97a865bb-b6ff-47dd-b356-21c869fe84e3",
   "metadata": {},
   "source": [
    "# Import"
   ]
  },
  {
   "cell_type": "code",
   "execution_count": 6,
   "id": "08cc70ec-c207-47a5-9f54-de1d1f761419",
   "metadata": {},
   "outputs": [],
   "source": [
    "import numpy as np\n",
    "import scipy.stats as stats\n",
    "import matplotlib.pyplot as plt"
   ]
  },
  {
   "cell_type": "markdown",
   "id": "b270d881-d224-4c45-b3a3-c90da1347a2b",
   "metadata": {},
   "source": [
    "> When conducting a steady-state investigation, data on the minimum drug concentrations \n",
    "(trough values) observed during a single dosing interval (CMIN) should also be collected \r\n",
    "Generally, three successive CMIN values should be provided to verify that steady-sta e\r\n",
    "conditions have been achieved. Although CMIN most frequently occurs immediat ly\r\n",
    "prior to the next successive dose, situations do occur with CMIN observed subsequen  to\r\n",
    "dosing. To determine a steady state concentration, the CMIN values should be regr ssed\r\n",
    "over time and the resultant slope should be tested for its difference from zero. "
   ]
  },
  {
   "cell_type": "markdown",
   "id": "6ba0f486-8954-42c1-a327-371b94352e31",
   "metadata": {},
   "source": [
    "약동학 분석에서 반복 투여 디자인의 경우 항정상태가 확인되어야 하는데, 투약 0h 전 3 time points를 확인하는 것을 기본으로 한다."
   ]
  },
  {
   "cell_type": "markdown",
   "id": "13f02d80-6b87-49a0-8148-87b7dccffc13",
   "metadata": {},
   "source": [
    "# 용어 설명"
   ]
  },
  {
   "cell_type": "markdown",
   "id": "3ce3003c-44db-4322-b3ca-1a91a17b08d3",
   "metadata": {},
   "source": [
    "Tau : 약물 투여 간격\n",
    "\n",
    "ex) 1일 2회 투여 = tau는 12\n",
    "\n",
    "ex) 5일간 1일 1회 투여 = tau는 24"
   ]
  },
  {
   "cell_type": "markdown",
   "id": "e3537602-387c-438c-93dc-e3e008499f0f",
   "metadata": {},
   "source": [
    "# The condition of Steady State"
   ]
  },
  {
   "cell_type": "markdown",
   "id": "14dd1990-6184-482f-8cef-bbf1e7b31ca6",
   "metadata": {},
   "source": [
    "[FDA guide](https://www.fda.gov/media/70115/download)"
   ]
  },
  {
   "cell_type": "markdown",
   "id": "f73b5164-2154-472f-b789-d0deaf346eda",
   "metadata": {},
   "source": [
    "> When conducting a steady-state investigation, data on the minimum drug concentrations \n",
    "(trough values) observed during a single dosing interval (CMIN) should also be collected \r\n",
    "Generally, three successive CMIN values should be provided to verify that steady-sta e\r\n",
    "conditions have been achieved. Although CMIN most frequently occurs immediat ly\r\n",
    "prior to the next successive dose, situations do occur with CMIN observed subsequen  to\r\n",
    "dosing. To determine a steady state concentration, the CMIN values should be regr ssed\r\n",
    "over time and the resultant slope should be tested for its difference from zero. "
   ]
  },
  {
   "cell_type": "markdown",
   "id": "94d9e98c-b012-4480-8cc3-2f20ba39ba48",
   "metadata": {},
   "source": [
    "# 항정상태가 아닌 경우"
   ]
  },
  {
   "cell_type": "code",
   "execution_count": 31,
   "id": "b5f6bd38-7e90-45df-bb65-368c81d1af89",
   "metadata": {},
   "outputs": [],
   "source": [
    "# CMIN 값들\n",
    "cmin_values = [2.1, 2.3, 2.2]  # 예시로 세 개의 CMIN 값 사용"
   ]
  },
  {
   "cell_type": "code",
   "execution_count": 32,
   "id": "1ea20be2-0a7b-45c0-9fef-0e8698bf553c",
   "metadata": {},
   "outputs": [],
   "source": [
    "# 시간 (예: 0시간, 12시간, 24시간)\n",
    "time_values = [0, 12, 24]"
   ]
  },
  {
   "cell_type": "code",
   "execution_count": 33,
   "id": "e2d2bc8d-ae7a-44b8-8d14-c3ccb7b07c39",
   "metadata": {},
   "outputs": [],
   "source": [
    "# 회귀 분석\n",
    "slope, intercept, r_value, p_value, std_err = stats.linregress(time_values, cmin_values)"
   ]
  },
  {
   "cell_type": "code",
   "execution_count": 34,
   "id": "e69c470b-e21d-4149-83e9-4990df590d0a",
   "metadata": {},
   "outputs": [
    {
     "name": "stdout",
     "output_type": "stream",
     "text": [
      "회귀 분석 결과:\n",
      "기울기: 0.00416666666666667\n",
      "절편: 2.1500000000000004\n",
      "상관 계수: 0.5000000000000011\n",
      "p-value: 0.6666666666666659\n",
      "표준 오차: 0.007216878364870306\n"
     ]
    }
   ],
   "source": [
    "# 결과 출력\n",
    "print(\"회귀 분석 결과:\")\n",
    "print(\"기울기:\", slope)\n",
    "print(\"절편:\", intercept)\n",
    "print(\"상관 계수:\", r_value)\n",
    "print(\"p-value:\", p_value)\n",
    "print(\"표준 오차:\", std_err)"
   ]
  },
  {
   "cell_type": "code",
   "execution_count": 35,
   "id": "bd9f51d9-968f-4efd-aca8-7ea0e8eb9c43",
   "metadata": {},
   "outputs": [
    {
     "name": "stdout",
     "output_type": "stream",
     "text": [
      "기울기가 0과 유의미한 차이가 없음. 일정 상태 조건이 충족되지 않음.\n"
     ]
    }
   ],
   "source": [
    "# 기울기가 0과 유의미한 차이가 있는지 확인\n",
    "alpha = 0.05  # 유의 수준\n",
    "if p_value < alpha:\n",
    "    print(\"기울기가 0과 유의미한 차이가 있음. 일정 상태 조건이 충족됨.\")\n",
    "else:\n",
    "    print(\"기울기가 0과 유의미한 차이가 없음. 일정 상태 조건이 충족되지 않음.\")"
   ]
  },
  {
   "cell_type": "code",
   "execution_count": 36,
   "id": "63db66c9-c723-4d54-830e-c0b24aeb1c9c",
   "metadata": {},
   "outputs": [
    {
     "data": {
      "text/plain": [
       "<matplotlib.legend.Legend at 0x24f36a173d0>"
      ]
     },
     "execution_count": 36,
     "metadata": {},
     "output_type": "execute_result"
    },
    {
     "data": {
      "image/png": "[encoded data removed]",
      "text/plain": [
       "<Figure size 640x480 with 1 Axes>"
      ]
     },
     "metadata": {},
     "output_type": "display_data"
    }
   ],
   "source": [
    "# 그래프 그리기\n",
    "plt.scatter(time_values, cmin_values, color='blue', label='CMIN')\n",
    "plt.plot(time_values, intercept + slope * np.array(time_values), color='red', label='Regression Line')\n",
    "plt.xlabel('Time')\n",
    "plt.ylabel('CMIN')\n",
    "plt.title('CMIN over Time')\n",
    "plt.legend()"
   ]
  },
  {
   "cell_type": "markdown",
   "id": "cc577f48-3dad-4c3f-964b-cae77e69e019",
   "metadata": {},
   "source": [
    "# 항정상태인 경우"
   ]
  },
  {
   "cell_type": "code",
   "execution_count": 24,
   "id": "faae85fc-5ca8-4355-bbf0-e254c9dc6983",
   "metadata": {},
   "outputs": [],
   "source": [
    "# CMIN 값들\n",
    "cmin_values = [2.1, 2.2, 2.1] "
   ]
  },
  {
   "cell_type": "code",
   "execution_count": 25,
   "id": "4a52432f-af7e-44a1-9723-1bffb918d0f9",
   "metadata": {},
   "outputs": [],
   "source": [
    "# 시간 (예: 0시간, 12시간, 24시간)\n",
    "time_values = [0, 12, 24]"
   ]
  },
  {
   "cell_type": "code",
   "execution_count": 26,
   "id": "c5214db5-ca78-4338-a624-8ff6f6e45840",
   "metadata": {},
   "outputs": [],
   "source": [
    "# 회귀 분석\n",
    "slope, intercept, r_value, p_value, std_err = stats.linregress(time_values, cmin_values)"
   ]
  },
  {
   "cell_type": "code",
   "execution_count": 27,
   "id": "55d63d71-c516-43e3-b681-1ec95cfc31b3",
   "metadata": {},
   "outputs": [
    {
     "name": "stdout",
     "output_type": "stream",
     "text": [
      "회귀 분석 결과:\n",
      "기울기: 0.0\n",
      "절편: 2.1333333333333333\n",
      "상관 계수: 0.0\n",
      "p-value: 1.0\n",
      "표준 오차: 0.0048112522432468855\n"
     ]
    }
   ],
   "source": [
    "# 결과 출력\n",
    "print(\"회귀 분석 결과:\")\n",
    "print(\"기울기:\", slope)\n",
    "print(\"절편:\", intercept)\n",
    "print(\"상관 계수:\", r_value)\n",
    "print(\"p-value:\", p_value)\n",
    "print(\"표준 오차:\", std_err)"
   ]
  },
  {
   "cell_type": "code",
   "execution_count": 28,
   "id": "c89e25a8-5f45-4545-aba4-2863bb467248",
   "metadata": {},
   "outputs": [
    {
     "name": "stdout",
     "output_type": "stream",
     "text": [
      "기울기가 0과 유의미한 차이가 없음. 일정 상태 조건이 충족되지 않음.\n"
     ]
    }
   ],
   "source": [
    "# 기울기가 0과 유의미한 차이가 있는지 확인\n",
    "alpha = 0.05  # 유의 수준\n",
    "if p_value < alpha:\n",
    "    print(\"기울기가 0과 유의미한 차이가 있음. 일정 상태 조건이 충족됨.\")\n",
    "else:\n",
    "    print(\"기울기가 0과 유의미한 차이가 없음. 일정 상태 조건이 충족되지 않음.\")"
   ]
  },
  {
   "cell_type": "code",
   "execution_count": 30,
   "id": "323cde99-ddb3-439e-a9c4-a1c6f6aa3b33",
   "metadata": {},
   "outputs": [
    {
     "data": {
      "text/plain": [
       "<matplotlib.legend.Legend at 0x24f378a2490>"
      ]
     },
     "execution_count": 30,
     "metadata": {},
     "output_type": "execute_result"
    },
    {
     "data": {
      "image/png": "[encoded data removed]",
      "text/plain": [
       "<Figure size 640x480 with 1 Axes>"
      ]
     },
     "metadata": {},
     "output_type": "display_data"
    }
   ],
   "source": [
    "# 그래프 그리기\n",
    "plt.scatter(time_values, cmin_values, color='blue', label='CMIN')\n",
    "plt.plot(time_values, intercept + slope * np.array(time_values), color='red', label='Regression Line')\n",
    "plt.xlabel('Time')\n",
    "plt.ylabel('CMIN')\n",
    "plt.title('CMIN over Time')\n",
    "plt.legend()"
   ]
  },
  {
   "cell_type": "markdown",
   "id": "9820ad38-ed7f-42d8-8d1f-f4bf79320c21",
   "metadata": {},
   "source": [
    "## Winnonlin Guide"
   ]
  },
  {
   "cell_type": "markdown",
   "id": "56a762ed-a5fb-44d5-af7a-736d780e7d96",
   "metadata": {},
   "source": [
    "[윈놀린 가이드 참고](https://onlinehelp.certara.com/phoenix/8.3/responsive_html5_!MasterPage!/WinNonlin%20User%27s%20Guide.pdf)하여 용어 정리"
   ]
  },
  {
   "cell_type": "markdown",
   "id": "70153faa-9f94-4aeb-8608-552132eca3e2",
   "metadata": {},
   "source": [
    "`Tmin`: Time of minimum observed concentration. For steady-state data, based on observations col-lected during the dosing interval (i.e., after the dosing time, but no later than dosing time plus Tau, where Tau is the dosing interval). If the minimum observed concentration is not unique, then the first minimum is used. \r\n",
    "- Tmin은 항정상태에서 최소 혈중 농도가 기록된 time을 의미함\r\n"
   ]
  },
  {
   "cell_type": "markdown",
   "id": "96607b43-a5f3-4ae1-8ba2-87998560bee7",
   "metadata": {},
   "source": [
    "`Cmin`: Minimum observed concentration occurring at time Tmin as defined above.\n",
    "\n",
    "$\\star$ Cmin은 측정방법이 한정되지 않는다.\n",
    "\n",
    "1. 항정상태에서 최소 농도(윈놀린에서는 이 값이 고유하지 않을 시 첫 번째 최소 농도를 기준으로 본다)\n",
    "\n",
    "- 즉, 반복투여가 끝난 후에 기록된 최소 혈중 농도\n",
    "\n",
    "2. tau 마지막 시점에서의 농도\n",
    "\n",
    "FDA 정의\n",
    "\n",
    "- The minimum concentration\n",
    "\n",
    "[EMA 정의](https://www.ema.europa.eu/en/documents/scientific-guideline/guideline-pharmacokinetic-clinical-evaluation-modified-release-dosage-forms_en.pdf)\n",
    "\n",
    "- Cmin,ss : Minimum plasma concentration at steady state "
   ]
  },
  {
   "cell_type": "code",
   "execution_count": null,
   "id": "130d6859-df53-4967-b9d4-863b1f744c44",
   "metadata": {},
   "outputs": [],
   "source": []
  }
 ],
 "metadata": {
  "kernelspec": {
   "display_name": "Python 3 (ipykernel)",
   "language": "python",
   "name": "python3"
  },
  "language_info": {
   "codemirror_mode": {
    "name": "ipython",
    "version": 3
   },
   "file_extension": ".py",
   "mimetype": "text/x-python",
   "name": "python",
   "nbconvert_exporter": "python",
   "pygments_lexer": "ipython3",
   "version": "3.11.3"
  }
 },
 "nbformat": 4,
 "nbformat_minor": 5
}
