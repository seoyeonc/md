{
  "cells": [
    {
      "cell_type": "markdown",
      "metadata": {},
      "source": [
        "# Anything\n",
        "\n",
        "SEOYEON CHOI  \n",
        "2023-04-17\n",
        "\n",
        "Study of any subject"
      ],
      "id": "55cbbdba-ccf7-4abd-8c98-1d1247de22e2"
    }
  ],
  "nbformat": 4,
  "nbformat_minor": 5,
  "metadata": {
    "kernelspec": {
      "display_name": "Python 3",
      "language": "python",
      "name": "python3"
    }
  }
}