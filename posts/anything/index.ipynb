{
  "cells": [
    {
      "cell_type": "markdown",
      "metadata": {},
      "source": [
        "# Anything\n",
        "\n",
        "SEOYEON CHOI  \n",
        "2023-04-17\n",
        "\n",
        "Study of any subject"
      ],
      "id": "d665ff00-aeb6-49f3-83bb-2f2f45bf3586"
    }
  ],
  "nbformat": 4,
  "nbformat_minor": 5,
  "metadata": {
    "kernelspec": {
      "display_name": "Python 3",
      "language": "python",
      "name": "python3"
    }
  }
}