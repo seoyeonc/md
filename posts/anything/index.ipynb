{
  "cells": [
    {
      "cell_type": "markdown",
      "metadata": {},
      "source": [
        "# Anything\n",
        "\n",
        "SEOYEON CHOI  \n",
        "2023-04-17\n",
        "\n",
        "Study of any subject"
      ],
      "id": "f678e603-5bbc-4bf2-a199-35218e95a2b1"
    }
  ],
  "nbformat": 4,
  "nbformat_minor": 5,
  "metadata": {
    "kernelspec": {
      "display_name": "Python 3",
      "language": "python",
      "name": "python3"
    }
  }
}