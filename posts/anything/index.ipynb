{
  "cells": [
    {
      "cell_type": "markdown",
      "metadata": {},
      "source": [
        "# Anything\n",
        "\n",
        "SEOYEON CHOI  \n",
        "2023-04-17\n",
        "\n",
        "Study of any subject"
      ],
      "id": "a30a248b-30e4-49ed-9a18-b9559ed57843"
    }
  ],
  "nbformat": 4,
  "nbformat_minor": 5,
  "metadata": {
    "kernelspec": {
      "display_name": "Python 3",
      "language": "python",
      "name": "python3"
    }
  }
}