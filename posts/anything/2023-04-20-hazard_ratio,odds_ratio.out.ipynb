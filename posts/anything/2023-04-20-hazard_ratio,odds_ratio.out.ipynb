{
  "cells": [
    {
      "cell_type": "markdown",
      "metadata": {},
      "source": [
        "# Hazard ratio, Odds ratio\n",
        "\n",
        "SEOYEON CHOI  \n",
        "2023-04-20\n",
        "\n",
        "> Hazard ratio, Odds ratio\n",
        "\n",
        "# 로지스틱 회귀분석\n",
        "\n",
        "$$log(\\frac{p}{1-p}) = \\beta_0 + \\beta_1 x_1 + \\dots + \\beta_k x_k$$"
      ],
      "id": "d52e26a1-9a19-4a0f-80d0-b219e69f2a7c"
    },
    {
      "cell_type": "code",
      "execution_count": 3,
      "metadata": {},
      "outputs": [
        {
          "output_type": "stream",
          "name": "stderr",
          "text": [
            "Warning message:\n",
            "“glm.fit: algorithm did not converge”"
          ]
        }
      ],
      "source": [
        "# 예제 데이터 생성\n",
        "set.seed(123)\n",
        "n <- 200\n",
        "exam1 <- round(rnorm(n, mean = 70, sd = 10))\n",
        "exam2 <- round(rnorm(n, mean = 75, sd = 8))\n",
        "exam3 <- round(rnorm(n, mean = 80, sd = 6))\n",
        "pass <- rbinom(n, 1, plogis(0.3 + 0.1 * exam1 + 0.2 * exam2 + 0.3 * exam3))\n",
        "\n",
        "data <- data.frame(exam1, exam2, exam3, pass)\n",
        "\n",
        "# 로지스틱 회귀분석 모델 학습\n",
        "model <- glm(pass ~ exam1 + exam2 + exam3, data = data, family = binomial)"
      ],
      "id": "0b5cccca-5742-4a46-a75a-9c7b95743d7f"
    },
    {
      "cell_type": "markdown",
      "metadata": {},
      "source": [
        "family = binomial에서 이항분포의 개념"
      ],
      "id": "9a2413d7-997c-461f-9fc7-f235ab892b00"
    },
    {
      "cell_type": "code",
      "execution_count": 4,
      "metadata": {},
      "outputs": [
        {
          "output_type": "display_data",
          "metadata": {},
          "data": {
            "text/plain": [
              "\n",
              "Call:\n",
              "glm(formula = pass ~ exam1 + exam2 + exam3, family = binomial, \n",
              "    data = data)\n",
              "\n",
              "Deviance Residuals: \n",
              "      Min         1Q     Median         3Q        Max  \n",
              "2.409e-06  2.409e-06  2.409e-06  2.409e-06  2.409e-06  \n",
              "\n",
              "Coefficients:\n",
              "              Estimate Std. Error z value Pr(>|z|)\n",
              "(Intercept)  2.657e+01  4.810e+05       0        1\n",
              "exam1       -3.384e-11  2.676e+03       0        1\n",
              "exam2        2.952e-10  3.178e+03       0        1\n",
              "exam3        2.546e-10  4.359e+03       0        1\n",
              "\n",
              "(Dispersion parameter for binomial family taken to be 1)\n",
              "\n",
              "    Null deviance: 0.0000e+00  on 199  degrees of freedom\n",
              "Residual deviance: 1.1603e-09  on 196  degrees of freedom\n",
              "AIC: 8\n",
              "\n",
              "Number of Fisher Scoring iterations: 25"
            ]
          }
        }
      ],
      "source": [
        "# 모델 요약 정보 출력\n",
        "summary(model)"
      ],
      "id": "2ea28f16-00a2-43de-b5a7-cdc93a93c5a4"
    },
    {
      "cell_type": "code",
      "execution_count": 5,
      "metadata": {},
      "outputs": [
        {
          "output_type": "display_data",
          "metadata": {},
          "data": {}
        }
      ],
      "source": [
        "# 각 독립변수의 회귀계수와 p-value 출력\n",
        "coef(summary(model))"
      ],
      "id": "af8f3640-90b9-4801-8b46-c65f54166bb8"
    },
    {
      "cell_type": "code",
      "execution_count": 6,
      "metadata": {},
      "outputs": [],
      "source": [
        "# 새로운 데이터에 대한 예측값 계산\n",
        "new_data <- data.frame(exam1 = c(65, 80), exam2 = c(70, 85), exam3 = c(75, 90))\n",
        "pred <- predict(model, newdata = new_data, type = \"response\")"
      ],
      "id": "a535d5de-9e81-4e19-aec2-7253fc6d9d90"
    },
    {
      "cell_type": "code",
      "execution_count": 7,
      "metadata": {},
      "outputs": [
        {
          "output_type": "stream",
          "name": "stdout",
          "text": [
            "1 2 \n",
            "1 1 "
          ]
        }
      ],
      "source": [
        "# 예측 결과 출력\n",
        "print(pred)"
      ],
      "id": "63d54f8b-3912-4ac4-877e-401923269d29"
    },
    {
      "cell_type": "markdown",
      "metadata": {},
      "source": [
        "# 로지스틱 함수와 오즈비\n",
        "\n",
        "$$P(Y=1|X) = \\frac{e^{\\beta_0 + \\beta_1 X}}{1 + e^{\\beta_0 + \\beta_1 X}}$$\n",
        "\n",
        "$P(Y=1|X) = P$\n",
        "\n",
        "라고 할때,\n",
        "\n",
        "$ln(\\frac{p}{1-p}) = \\beta_0 + \\beta_1 X$\n",
        "\n",
        "odds = $\\frac{p}{1-p}$"
      ],
      "id": "a7d3b4cc-0d68-4bfa-9478-8a2a28b4513f"
    },
    {
      "cell_type": "code",
      "execution_count": 11,
      "metadata": {},
      "outputs": [
        {
          "output_type": "display_data",
          "metadata": {},
          "data": {
            "text/html": [
              "<strong>exam1:</strong> -3.38414654242419e-11"
            ]
          }
        }
      ],
      "source": [
        "# exam1 변수의 계수 출력\n",
        "coef(model)[\"exam1\"]"
      ],
      "id": "38083903-fb54-4e5c-ab3f-ecf3a20ac9c4"
    },
    {
      "cell_type": "code",
      "execution_count": 12,
      "metadata": {},
      "outputs": [
        {
          "output_type": "display_data",
          "metadata": {},
          "data": {
            "text/html": [
              "<strong>exam1:</strong> 0.999999999966159"
            ]
          }
        }
      ],
      "source": [
        "# 오즈비 계산\n",
        "odds_ratio <- exp(coef(model)[\"exam1\"])\n",
        "odds_ratio"
      ],
      "id": "14693636-1d6d-4722-969b-4c011fd4531e"
    },
    {
      "cell_type": "markdown",
      "metadata": {},
      "source": [
        "# 위험비\n",
        "\n",
        "$$HR = \\frac{\\lambda_1(t)}{\\lambda_0(t)} = \\exp(\\beta_1 X_1 + \\beta_2 X_2 + \\dots + \\beta_k X_k)$$\n",
        "\n",
        "$\\lambda_1(t)$: 치료군의 위험도\n",
        "\n",
        "$\\lambda_0(t)$는 대조군의 위험도\n",
        "\n",
        "위험비는 치료군 대 대조군의 위험도 비율\n",
        "\n",
        "1보다 크면 치료군의 위험이 높겠고,\n",
        "\n",
        "1보다 작으면 대조군의 위험이 높겠고."
      ],
      "id": "ad6c0be4-449e-4dc6-a7c4-6201d0e15130"
    },
    {
      "cell_type": "code",
      "execution_count": 32,
      "metadata": {},
      "outputs": [
        {
          "output_type": "stream",
          "name": "stderr",
          "text": [
            "Warning message in data(lung):\n",
            "“data set ‘lung’ not found”"
          ]
        }
      ],
      "source": [
        "# 데이터 로딩\n",
        "data(lung)\n",
        "\n",
        "# Cox 모형 적합\n",
        "library(survival)\n",
        "fit <- coxph(Surv(time, status) ~ age + sex + ph.ecog + ph.karno + pat.karno + meal.cal + wt.loss, data = lung)"
      ],
      "id": "31b69201-e02d-4d59-83d5-57b03981c52e"
    },
    {
      "cell_type": "code",
      "execution_count": 34,
      "metadata": {},
      "outputs": [
        {
          "output_type": "display_data",
          "metadata": {},
          "data": {
            "text/html": [
              "<style>\n",
              ".dl-inline {width: auto; margin:0; padding: 0}\n",
              ".dl-inline>dt, .dl-inline>dd {float: none; width: auto; display: inline-block}\n",
              ".dl-inline>dt::after {content: \":\\0020\"; padding-right: .5ex}\n",
              ".dl-inline>dt:not(:first-of-type) {padding-left: .5ex}\n",
              "</style><dl class=dl-inline><dt>age</dt><dd>1.0107060959455</dd><dt>sex</dt><dd>0.576458374699102</dd><dt>ph.ecog</dt><dd>2.08376570435143</dd><dt>ph.karno</dt><dd>1.02270907640951</dd><dt>pat.karno</dt><dd>0.987660215984953</dd><dt>meal.cal</dt><dd>1.00003329080755</dd><dt>wt.loss</dt><dd>0.985771582300398</dd></dl>"
            ]
          }
        }
      ],
      "source": [
        "# Hazard Ratio 계산\n",
        "exp(coef(fit))"
      ],
      "id": "179af6a9-73a2-4124-925b-10ece2e8dcf0"
    }
  ],
  "nbformat": 4,
  "nbformat_minor": 5,
  "metadata": {
    "kernelspec": {
      "name": "ir",
      "display_name": "R",
      "language": "R"
    },
    "language_info": {
      "name": "R",
      "codemirror_mode": "r",
      "file_extension": ".r",
      "mimetype": "text/x-r-source",
      "pygments_lexer": "r",
      "version": "4.1.2"
    }
  }
}