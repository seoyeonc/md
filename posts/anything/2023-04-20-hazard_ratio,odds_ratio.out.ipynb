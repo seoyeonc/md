{
  "cells": [
    {
      "cell_type": "markdown",
      "metadata": {},
      "source": [
        "# Hazard ratio, Odds ratio\n",
        "\n",
        "SEOYEON CHOI  \n",
        "4/20/23\n",
        "\n",
        "> Hazard ratio, Odds ratio\n",
        "\n",
        "# 로지스틱 회귀분석\n",
        "\n",
        "$$log(\\frac{p}{1-p}) = \\beta_0 + \\beta_1 x_1 + \\dots + \\beta_k x_k$$"
      ],
      "id": "b87e0c72-9a46-459b-9dbb-0398937ce649"
    },
    {
      "cell_type": "code",
      "execution_count": 3,
      "metadata": {},
      "outputs": [
        {
          "output_type": "stream",
          "name": "stderr",
          "text": [
            "Warning message:\n",
            "“glm.fit: algorithm did not converge”"
          ]
        }
      ],
      "source": [
        "# 예제 데이터 생성\n",
        "set.seed(123)\n",
        "n <- 200\n",
        "exam1 <- round(rnorm(n, mean = 70, sd = 10))\n",
        "exam2 <- round(rnorm(n, mean = 75, sd = 8))\n",
        "exam3 <- round(rnorm(n, mean = 80, sd = 6))\n",
        "pass <- rbinom(n, 1, plogis(0.3 + 0.1 * exam1 + 0.2 * exam2 + 0.3 * exam3))\n",
        "\n",
        "data <- data.frame(exam1, exam2, exam3, pass)\n",
        "\n",
        "# 로지스틱 회귀분석 모델 학습\n",
        "model <- glm(pass ~ exam1 + exam2 + exam3, data = data, family = binomial)"
      ],
      "id": "777fd65d-bd21-438e-adb4-e7c1df044932"
    },
    {
      "cell_type": "markdown",
      "metadata": {},
      "source": [
        "family = binomial에서 이항분포의 개념"
      ],
      "id": "b72c0148-b7fb-4518-95c6-4aaade7d54dd"
    },
    {
      "cell_type": "code",
      "execution_count": 4,
      "metadata": {},
      "outputs": [
        {
          "output_type": "display_data",
          "metadata": {},
          "data": {
            "text/plain": [
              "\n",
              "Call:\n",
              "glm(formula = pass ~ exam1 + exam2 + exam3, family = binomial, \n",
              "    data = data)\n",
              "\n",
              "Deviance Residuals: \n",
              "      Min         1Q     Median         3Q        Max  \n",
              "2.409e-06  2.409e-06  2.409e-06  2.409e-06  2.409e-06  \n",
              "\n",
              "Coefficients:\n",
              "              Estimate Std. Error z value Pr(>|z|)\n",
              "(Intercept)  2.657e+01  4.810e+05       0        1\n",
              "exam1       -3.384e-11  2.676e+03       0        1\n",
              "exam2        2.952e-10  3.178e+03       0        1\n",
              "exam3        2.546e-10  4.359e+03       0        1\n",
              "\n",
              "(Dispersion parameter for binomial family taken to be 1)\n",
              "\n",
              "    Null deviance: 0.0000e+00  on 199  degrees of freedom\n",
              "Residual deviance: 1.1603e-09  on 196  degrees of freedom\n",
              "AIC: 8\n",
              "\n",
              "Number of Fisher Scoring iterations: 25"
            ]
          }
        }
      ],
      "source": [
        "# 모델 요약 정보 출력\n",
        "summary(model)"
      ],
      "id": "d8d67864-7eaa-4f80-aa41-d94396b5be99"
    },
    {
      "cell_type": "code",
      "execution_count": 5,
      "metadata": {},
      "outputs": [
        {
          "output_type": "display_data",
          "metadata": {},
          "data": {
            "text/html": [
              "<table class=\"dataframe\">\n",
              "<caption>A matrix: 4 × 4 of type dbl</caption>\n",
              "<thead>\n",
              "    <tr><th></th><th scope=col>Estimate</th><th scope=col>Std. Error</th><th scope=col>z value</th><th scope=col>Pr(&gt;|z|)</th></tr>\n",
              "</thead>\n",
              "<tbody>\n",
              "    <tr><th scope=row>(Intercept)</th><td> 2.656607e+01</td><td>480958.636</td><td> 5.523566e-05</td><td>0.9999559</td></tr>\n",
              "    <tr><th scope=row>exam1</th><td>-3.384147e-11</td><td>  2676.045</td><td>-1.264607e-14</td><td>1.0000000</td></tr>\n",
              "    <tr><th scope=row>exam2</th><td> 2.951540e-10</td><td>  3178.418</td><td> 9.286192e-14</td><td>1.0000000</td></tr>\n",
              "    <tr><th scope=row>exam3</th><td> 2.546355e-10</td><td>  4359.366</td><td> 5.841114e-14</td><td>1.0000000</td></tr>\n",
              "</tbody>\n",
              "</table>"
            ]
          }
        }
      ],
      "source": [
        "# 각 독립변수의 회귀계수와 p-value 출력\n",
        "coef(summary(model))"
      ],
      "id": "9b4576bd-562a-4a6d-879f-8a62cdc06377"
    },
    {
      "cell_type": "code",
      "execution_count": 6,
      "metadata": {},
      "outputs": [],
      "source": [
        "# 새로운 데이터에 대한 예측값 계산\n",
        "new_data <- data.frame(exam1 = c(65, 80), exam2 = c(70, 85), exam3 = c(75, 90))\n",
        "pred <- predict(model, newdata = new_data, type = \"response\")"
      ],
      "id": "5c852383-95b4-4f44-9e07-9d8e508fb9a9"
    },
    {
      "cell_type": "code",
      "execution_count": 7,
      "metadata": {},
      "outputs": [
        {
          "output_type": "stream",
          "name": "stdout",
          "text": [
            "1 2 \n",
            "1 1 "
          ]
        }
      ],
      "source": [
        "# 예측 결과 출력\n",
        "print(pred)"
      ],
      "id": "eabda7b0-24c0-41e9-a791-252d90ea26c9"
    },
    {
      "cell_type": "markdown",
      "metadata": {},
      "source": [
        "# 로지스틱 함수와 오즈비\n",
        "\n",
        "$$P(Y=1|X) = \\frac{e^{\\beta_0 + \\beta_1 X}}{1 + e^{\\beta_0 + \\beta_1 X}}$$\n",
        "\n",
        "$P(Y=1|X) = P$\n",
        "\n",
        "라고 할때,\n",
        "\n",
        "$ln(\\frac{p}{1-p}) = \\beta_0 + \\beta_1 X$\n",
        "\n",
        "odds = $\\frac{p}{1-p}$"
      ],
      "id": "cd89888b-7ed6-46b2-9f53-690fc6c49ee1"
    },
    {
      "cell_type": "code",
      "execution_count": 11,
      "metadata": {},
      "outputs": [
        {
          "output_type": "display_data",
          "metadata": {},
          "data": {
            "text/html": [
              "<strong>exam1:</strong> -3.38414654242419e-11"
            ]
          }
        }
      ],
      "source": [
        "# exam1 변수의 계수 출력\n",
        "coef(model)[\"exam1\"]"
      ],
      "id": "66c57786-467c-474b-af9f-68400af05c73"
    },
    {
      "cell_type": "code",
      "execution_count": 12,
      "metadata": {},
      "outputs": [
        {
          "output_type": "display_data",
          "metadata": {},
          "data": {
            "text/html": [
              "<strong>exam1:</strong> 0.999999999966159"
            ]
          }
        }
      ],
      "source": [
        "# 오즈비 계산\n",
        "odds_ratio <- exp(coef(model)[\"exam1\"])\n",
        "odds_ratio"
      ],
      "id": "d14ca5d7-c159-4699-9f02-98d7e88301f8"
    },
    {
      "cell_type": "markdown",
      "metadata": {},
      "source": [
        "# 위험비\n",
        "\n",
        "$$HR = \\frac{\\lambda_1(t)}{\\lambda_0(t)} = \\exp(\\beta_1 X_1 + \\beta_2 X_2 + \\dots + \\beta_k X_k)$$\n",
        "\n",
        "$\\lambda_1(t)$: 치료군의 위험도\n",
        "\n",
        "$\\lambda_0(t)$는 대조군의 위험도\n",
        "\n",
        "위험비는 치료군 대 대조군의 위험도 비율\n",
        "\n",
        "1보다 크면 치료군의 위험이 높겠고,\n",
        "\n",
        "1보다 작으면 대조군의 위험이 높겠고."
      ],
      "id": "c0b9dac0-aa4b-487b-bd7d-510788e98ace"
    },
    {
      "cell_type": "code",
      "execution_count": 32,
      "metadata": {},
      "outputs": [
        {
          "output_type": "stream",
          "name": "stderr",
          "text": [
            "Warning message in data(lung):\n",
            "“data set ‘lung’ not found”"
          ]
        }
      ],
      "source": [
        "# 데이터 로딩\n",
        "data(lung)\n",
        "\n",
        "# Cox 모형 적합\n",
        "library(survival)\n",
        "fit <- coxph(Surv(time, status) ~ age + sex + ph.ecog + ph.karno + pat.karno + meal.cal + wt.loss, data = lung)"
      ],
      "id": "01ef400c-d01b-4fee-b58d-96b5cfac9924"
    },
    {
      "cell_type": "code",
      "execution_count": 34,
      "metadata": {},
      "outputs": [
        {
          "output_type": "display_data",
          "metadata": {},
          "data": {
            "text/html": [
              "<style>\n",
              ".dl-inline {width: auto; margin:0; padding: 0}\n",
              ".dl-inline>dt, .dl-inline>dd {float: none; width: auto; display: inline-block}\n",
              ".dl-inline>dt::after {content: \":\\0020\"; padding-right: .5ex}\n",
              ".dl-inline>dt:not(:first-of-type) {padding-left: .5ex}\n",
              "</style><dl class=dl-inline><dt>age</dt><dd>1.0107060959455</dd><dt>sex</dt><dd>0.576458374699102</dd><dt>ph.ecog</dt><dd>2.08376570435143</dd><dt>ph.karno</dt><dd>1.02270907640951</dd><dt>pat.karno</dt><dd>0.987660215984953</dd><dt>meal.cal</dt><dd>1.00003329080755</dd><dt>wt.loss</dt><dd>0.985771582300398</dd></dl>"
            ]
          }
        }
      ],
      "source": [
        "# Hazard Ratio 계산\n",
        "exp(coef(fit))"
      ],
      "id": "d5924f84-76e2-43e6-91da-9d431f6dd4f3"
    }
  ],
  "nbformat": 4,
  "nbformat_minor": 5,
  "metadata": {
    "kernelspec": {
      "name": "ir",
      "display_name": "R",
      "language": "R"
    },
    "language_info": {
      "name": "R",
      "codemirror_mode": "r",
      "file_extension": ".r",
      "mimetype": "text/x-r-source",
      "pygments_lexer": "r",
      "version": "4.1.2"
    }
  }
}