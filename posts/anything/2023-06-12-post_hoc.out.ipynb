{
  "cells": [
    {
      "cell_type": "markdown",
      "metadata": {},
      "source": [
        "# Post Hoc Tests\n",
        "\n",
        "SEOYEON CHOI  \n",
        "2023-06-12\n",
        "\n",
        "> Post Hoc Tests\n",
        "\n",
        "Ref: [Post Hoc\n",
        "Tests](https://alanarnholt.github.io/PDS-Bookdown2/post-hoc-tests-1.html),\n",
        "https://mindscale.kr/course/basic-stat-r/post-hoc/#\\_2\n",
        "\n",
        "실무 진행하면서 이해한 바대로 explanation:\n",
        "\n",
        "분산분석 후 세 그룹 이상의 그룹에서 차이가 존재한다면 t test를 여러번\n",
        "하게 되면 제 1종 오류가 기존에 정한 값보다 커지는 문제가 생긴다. (표본의\n",
        "크기가 다를 경우) 본페로니 검정 후 p값 3배(세 그룹이라면, 즉 그룹 수대로\n",
        "배수) 해주기\n",
        "\n",
        "**FWER**\n",
        "\n",
        "Familywise Error Rate, 여러 개의 가설 검정 진해 시 적어도 하나의\n",
        "가설에서 1종 오류가 발생할 가능성\n",
        "\n",
        "# Import"
      ],
      "id": "843ce6b8-97fe-4136-b8a6-f61e339a2f0b"
    },
    {
      "cell_type": "code",
      "execution_count": 20,
      "metadata": {},
      "outputs": [],
      "source": [
        "library(DescTools)"
      ],
      "id": "dbd0807b-0afb-402a-a18d-7000a23f2902"
    },
    {
      "cell_type": "markdown",
      "metadata": {},
      "source": [
        "대표적인 사후분석 방법\n",
        "\n",
        "-   본페로니 교정\n",
        "-   피셔의 LSD\n",
        "-   투키의 HSD\n",
        "-   셰페의 방법\n",
        "\n",
        "분산분석"
      ],
      "id": "1008c11c-b19a-49eb-94f5-10609b78b0bf"
    },
    {
      "cell_type": "code",
      "execution_count": 21,
      "metadata": {},
      "outputs": [],
      "source": [
        "m = aov(weight ~ group, data = PlantGrowth)"
      ],
      "id": "0ab00696-d8fb-4775-883f-e982ee132b6d"
    },
    {
      "cell_type": "code",
      "execution_count": 22,
      "metadata": {},
      "outputs": [
        {
          "output_type": "display_data",
          "metadata": {},
          "data": {
            "text/plain": [
              "            Df Sum Sq Mean Sq F value Pr(>F)  \n",
              "group        2  3.766  1.8832   4.846 0.0159 *\n",
              "Residuals   27 10.492  0.3886                 \n",
              "---\n",
              "Signif. codes:  0 '***' 0.001 '**' 0.01 '*' 0.05 '.' 0.1 ' ' 1"
            ]
          }
        }
      ],
      "source": [
        "summary(m)"
      ],
      "id": "af3eee59-29e6-4411-b5ca-1ee558977318"
    },
    {
      "cell_type": "markdown",
      "metadata": {},
      "source": [
        "# Fisher’s Least Significant Difference\n",
        "\n",
        "-   피셔의 LSD ;최소한의 유의한 차이\n",
        "-   FWER 높음"
      ],
      "id": "28e4c4ca-5b78-4684-a5c7-903ee975885c"
    },
    {
      "cell_type": "code",
      "execution_count": 24,
      "metadata": {},
      "outputs": [
        {
          "output_type": "display_data",
          "metadata": {},
          "data": {
            "text/plain": [
              "\n",
              "  Posthoc multiple comparisons of means : Fisher LSD \n",
              "    95% family-wise confidence level\n",
              "\n",
              "$group\n",
              "            diff      lwr.ci    upr.ci   pval    \n",
              "trt1-ctrl -0.371 -0.94301261 0.2010126 0.1944    \n",
              "trt2-ctrl  0.494 -0.07801261 1.0660126 0.0877 .  \n",
              "trt2-trt1  0.865  0.29298739 1.4370126 0.0045 ** \n",
              "\n",
              "---\n",
              "Signif. codes:  0 '***' 0.001 '**' 0.01 '*' 0.05 '.' 0.1 ' ' 1"
            ]
          }
        }
      ],
      "source": [
        "PostHocTest(m, method='lsd')"
      ],
      "id": "d5a0a904-22a5-40b3-9d89-f1e49291d9a4"
    },
    {
      "cell_type": "markdown",
      "metadata": {},
      "source": [
        "마지막인 `trt2-trt1` 차이만 p-값이 0.05보다 작아 통계적으로 유의한\n",
        "차이가 있다고 할 수 있다.\n",
        "\n",
        "# Bonferroni correction\n",
        "\n",
        "-   모든 집단을 짝지어서 t-test 진행\n",
        "-   짝지어 비교를 3번하면 p값을 3배해야 한다.\n",
        "-   FWER 중간"
      ],
      "id": "37e07fad-9d0e-4a09-b94f-df7da1198bbd"
    },
    {
      "cell_type": "code",
      "execution_count": 25,
      "metadata": {},
      "outputs": [
        {
          "output_type": "display_data",
          "metadata": {},
          "data": {
            "text/plain": [
              "\n",
              "  Posthoc multiple comparisons of means : Bonferroni \n",
              "    95% family-wise confidence level\n",
              "\n",
              "$group\n",
              "            diff     lwr.ci    upr.ci   pval    \n",
              "trt1-ctrl -0.371 -1.0825786 0.3405786 0.5832    \n",
              "trt2-ctrl  0.494 -0.2175786 1.2055786 0.2630    \n",
              "trt2-trt1  0.865  0.1534214 1.5765786 0.0134 *  \n",
              "\n",
              "---\n",
              "Signif. codes:  0 '***' 0.001 '**' 0.01 '*' 0.05 '.' 0.1 ' ' 1"
            ]
          }
        }
      ],
      "source": [
        "PostHocTest(m, method='bonferroni')"
      ],
      "id": "401b1165-6c46-482e-b396-96e0d50a3101"
    },
    {
      "cell_type": "markdown",
      "metadata": {},
      "source": [
        "-   `trt2-trt1`만 유의한 차이를 가지고 있다,\n",
        "-   피셔의 LSD와 다른 점은 p값이 세 배가 되었다는 것이다.\n",
        "-   즉 데이터에 따라 피셔의 LSD에서는 유의하지만 본페로니 교정에서는\n",
        "    유의하지 않을 수 있다.\n",
        "\n",
        "# Tuckey’s Honestly Significant Difference\n",
        "\n",
        "-   진정으로 유의미한 차이\n",
        "-   FWER 중간"
      ],
      "id": "4ce4e4a1-1ae4-4f7d-b52a-d49149055d25"
    },
    {
      "cell_type": "code",
      "execution_count": 27,
      "metadata": {},
      "outputs": [
        {
          "output_type": "display_data",
          "metadata": {},
          "data": {
            "text/plain": [
              "\n",
              "  Posthoc multiple comparisons of means : Tukey HSD \n",
              "    95% family-wise confidence level\n",
              "\n",
              "$group\n",
              "            diff     lwr.ci    upr.ci   pval    \n",
              "trt1-ctrl -0.371 -1.0622161 0.3202161 0.3909    \n",
              "trt2-ctrl  0.494 -0.1972161 1.1852161 0.1980    \n",
              "trt2-trt1  0.865  0.1737839 1.5562161 0.0120 *  \n",
              "\n",
              "---\n",
              "Signif. codes:  0 '***' 0.001 '**' 0.01 '*' 0.05 '.' 0.1 ' ' 1"
            ]
          }
        }
      ],
      "source": [
        "PostHocTest(m, method='hsd')"
      ],
      "id": "a0546ae6-9942-4872-b977-445a674a3312"
    },
    {
      "cell_type": "markdown",
      "metadata": {},
      "source": [
        "`trt2-trt1`차이가 유의미하다는 결과가 나왔다.\n",
        "\n",
        "# Scheffe’s method\n",
        "\n",
        "-   보수적인 결과라 2종 오류의 가능성이 존재한다.\n",
        "-   FWER 가장 낮음"
      ],
      "id": "f72aef57-517a-4e16-af49-4cf23cfa7fa1"
    },
    {
      "cell_type": "code",
      "execution_count": 29,
      "metadata": {},
      "outputs": [
        {
          "output_type": "display_data",
          "metadata": {},
          "data": {
            "text/plain": [
              "\n",
              "  Posthoc multiple comparisons of means: Scheffe Test \n",
              "    95% family-wise confidence level\n",
              "\n",
              "$group\n",
              "            diff     lwr.ci    upr.ci   pval    \n",
              "trt1-ctrl -0.371 -1.0930531 0.3510531 0.4241    \n",
              "trt2-ctrl  0.494 -0.2280531 1.2160531 0.2265    \n",
              "trt2-trt1  0.865  0.1429469 1.5870531 0.0163 *  \n",
              "\n",
              "---\n",
              "Signif. codes:  0 '***' 0.001 '**' 0.01 '*' 0.05 '.' 0.1 ' ' 1"
            ]
          }
        }
      ],
      "source": [
        "PostHocTest(m, method='scheffe')"
      ],
      "id": "0027101e-de44-44d9-82a5-697dc1e2d28e"
    },
    {
      "cell_type": "markdown",
      "metadata": {},
      "source": [
        "`trt2-trt1` 차이가 유의하다는 결과가 나왔다."
      ],
      "id": "f4785ac3-e3e3-413e-a7b9-12d9c0cad79e"
    }
  ],
  "nbformat": 4,
  "nbformat_minor": 5,
  "metadata": {
    "kernelspec": {
      "name": "r",
      "display_name": "R",
      "language": "R"
    },
    "language_info": {
      "name": "R",
      "codemirror_mode": "r",
      "file_extension": ".r",
      "mimetype": "text/x-r-source",
      "pygments_lexer": "r",
      "version": "4.0.2"
    }
  }
}