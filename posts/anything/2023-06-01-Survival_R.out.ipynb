{
  "cells": [
    {
      "cell_type": "markdown",
      "metadata": {},
      "source": [
        "# Survival Analysis Tutorial with R\n",
        "\n",
        "SEOYEON CHOI  \n",
        "2023-06-01\n",
        "\n",
        "## Import"
      ],
      "id": "af9367a9-9c31-4b7f-8a32-5453574b7e3f"
    },
    {
      "cell_type": "code",
      "execution_count": 4,
      "metadata": {},
      "outputs": [],
      "source": [
        "library(survival)\n",
        "library(survminer)\n",
        "library(epitools)\n",
        "\n",
        "library(tidyverse)\n",
        "library(ggplot2)"
      ],
      "id": "cell-2"
    },
    {
      "cell_type": "markdown",
      "metadata": {},
      "source": [
        "# Odds Ratio"
      ],
      "id": "735ab16a-8e86-4786-b8d1-a7499df96ebf"
    },
    {
      "cell_type": "code",
      "execution_count": 5,
      "metadata": {},
      "outputs": [
        {
          "output_type": "display_data",
          "metadata": {},
          "data": {}
        }
      ],
      "source": [
        "head(lung) # survival package에 있는 lung 데이터 사용"
      ],
      "id": "cell-4"
    },
    {
      "cell_type": "markdown",
      "metadata": {},
      "source": [
        "## 독립변수가 범주형변수일때\n",
        "\n",
        "ref : (odds ratio\\](https://en.wikipedia.org/wiki/Odds_ratio)\n",
        "\n",
        "A의 성공 확률 = $\\frac{P(A)}{1-P(A)}$\n",
        "\n",
        "B의 성공 확률 = $\\frac{P(B)}{1-P(B)}$\n",
        "\n",
        "Odds Ratio = A의 성공 확률 / B의 성공 확률\n",
        "\n",
        "= $\\frac{\\frac{P(A)}{1-P(A)}}{\\frac{P(B)}{1-P(B)}}$\n",
        "\n",
        "해석\n",
        "\n",
        "-   1보다 클 경우\n",
        "    -   A집단의 성공할 확률이 B 집단이 성공할 확률보다 높다.\n",
        "-   1보다 작을 경우\n",
        "    -   A집단의 성공할 확률이 B 집단이 성공할 확률보다 낮다.\n",
        "-   1일 경우\n",
        "    -   A집단의 성공할 확률이 B 집단이 성공할 확률보다 같다.\n",
        "\n",
        "> **Tip**\n",
        ">\n",
        "> 어떤 확률을 기준으로 하느냐에 따라 해석은 달라진다.\n",
        ">\n",
        "> ex) 어떤 검사 값이 정상이 나올 확률\n",
        ">\n",
        "> -   1보다 클 경우\n",
        ">     -   A집단의 정상일 확률이 B 집단이 정상일 확률보다 높다.\n",
        "> -   1보다 작을 경우\n",
        ">     -   A집단의 정상일 확률이 B 집단이 정상일 확률보다 낮다.\n",
        "> -   1일 경우\n",
        ">     -   A집단의 정상일 확률이 B 집단이 정상일 확률보다 같다."
      ],
      "id": "aaa15772-bb21-4103-80ad-7b5b82b3ec06"
    },
    {
      "cell_type": "code",
      "execution_count": 43,
      "metadata": {},
      "outputs": [
        {
          "output_type": "display_data",
          "metadata": {},
          "data": {}
        }
      ],
      "source": [
        "tmp <- lung %>% mutate(tmp = ifelse(ph.karno < 70, 1, 0));head(tmp)"
      ],
      "id": "cell-9"
    },
    {
      "cell_type": "code",
      "execution_count": 7,
      "metadata": {},
      "outputs": [
        {
          "output_type": "display_data",
          "metadata": {},
          "data": {
            "text/plain": [
              "   tmp\n",
              "sex   0   1\n",
              "  1 122  15\n",
              "  2  80  10"
            ]
          }
        }
      ],
      "source": [
        "tmp %>% select(sex, tmp) %>% table()"
      ],
      "id": "cell-10"
    },
    {
      "cell_type": "markdown",
      "metadata": {},
      "source": [
        "위의 표에서 tmp 가 0인 것이 성공, 1인 것이 실패로 보고, A집단이 성별 =\n",
        "1, B집단이 성별 = 2로 본다면 오즈비는 아래와 같이 계산된다."
      ],
      "id": "f7b71579-b66d-4da6-bd62-630cf8f58c25"
    },
    {
      "cell_type": "code",
      "execution_count": 8,
      "metadata": {},
      "outputs": [
        {
          "output_type": "display_data",
          "metadata": {},
          "data": {
            "text/html": [
              "8.13333333333333"
            ]
          }
        }
      ],
      "source": [
        "# A의 성공 확률\n",
        "(122/137)/(15/137)\n",
        "# = (122/137)/((137-122)/137)"
      ],
      "id": "cell-12"
    },
    {
      "cell_type": "code",
      "execution_count": 9,
      "metadata": {},
      "outputs": [
        {
          "output_type": "display_data",
          "metadata": {},
          "data": {
            "text/html": [
              "8"
            ]
          }
        }
      ],
      "source": [
        "# B의 성공 확률\n",
        "(80/90)/(10/90)\n",
        "# = (80/90)/((80-10)/90)"
      ],
      "id": "cell-13"
    },
    {
      "cell_type": "code",
      "execution_count": 10,
      "metadata": {},
      "outputs": [
        {
          "output_type": "display_data",
          "metadata": {},
          "data": {
            "text/html": [
              "1.01666666666667"
            ]
          }
        }
      ],
      "source": [
        "# 오즈비\n",
        "((122/137)/(15/137))/((80/90)/(10/90))"
      ],
      "id": "cell-14"
    },
    {
      "cell_type": "code",
      "execution_count": 11,
      "metadata": {},
      "outputs": [
        {
          "output_type": "display_data",
          "metadata": {},
          "data": {
            "text/html": [
              "\n",
              "</dd>\n",
              "    <dt>$correction</dt>\n",
              "        <dd>FALSE</dd>\n",
              "</dl>"
            ]
          }
        }
      ],
      "source": [
        "rst <- oddsratio.wald(tmp %>% select(sex, tmp) %>% table())\n",
        "rst"
      ],
      "id": "cell-15"
    },
    {
      "cell_type": "code",
      "execution_count": 12,
      "metadata": {},
      "outputs": [
        {
          "output_type": "display_data",
          "metadata": {},
          "data": {}
        }
      ],
      "source": [
        "rst$data"
      ],
      "id": "cell-16"
    },
    {
      "cell_type": "code",
      "execution_count": 13,
      "metadata": {},
      "outputs": [
        {
          "output_type": "display_data",
          "metadata": {},
          "data": {}
        }
      ],
      "source": [
        "rst$measure # Odds Ratio"
      ],
      "id": "cell-17"
    },
    {
      "cell_type": "markdown",
      "metadata": {},
      "source": [
        "1보다 크게 나왔으니까 sex=1인 집단이 성공할 활률이 sex=2인 집단이 성공할\n",
        "확률보다 높다."
      ],
      "id": "6bc4b854-69cc-40a4-b6b7-9307b14fcec9"
    },
    {
      "cell_type": "code",
      "execution_count": 14,
      "metadata": {},
      "outputs": [
        {
          "output_type": "display_data",
          "metadata": {},
          "data": {}
        }
      ],
      "source": [
        "rst$p.value # fisher or chi-square test result"
      ],
      "id": "cell-19"
    },
    {
      "cell_type": "markdown",
      "metadata": {},
      "source": [
        "p값이 0.05보다 높게 나와 오즈비가 유의하지 않다는 것을 알 수 있다."
      ],
      "id": "b0f7577f-75d9-4345-8314-39afb782f4e4"
    },
    {
      "cell_type": "code",
      "execution_count": 15,
      "metadata": {},
      "outputs": [
        {
          "output_type": "display_data",
          "metadata": {},
          "data": {
            "text/html": [
              "FALSE"
            ]
          }
        }
      ],
      "source": [
        "rst$correction # correction "
      ],
      "id": "cell-21"
    },
    {
      "cell_type": "markdown",
      "metadata": {},
      "source": [
        "## 독립변수가 연속형변수일때\n",
        "\n",
        "독립변수를 연속형 변수로, 종속변수를 이산형(0 또는 1)`binomial`으로\n",
        "지정한 일반화 선형 모형을 사용할 것이다.\n",
        "\n",
        "> **Tip**\n",
        ">\n",
        "> 물론 아래 방식은 독립변수가 범주형 변수일때도 사용 가능하다.\n",
        ">\n",
        "> 하지만 독립변수가 연속형 변수일때 독립변수가 범주형일때 사용한\n",
        "> 방법으로는 사용이 불가능하다."
      ],
      "id": "7376e84a-dfb4-4adc-ac66-8edf917231d7"
    },
    {
      "cell_type": "code",
      "execution_count": 16,
      "metadata": {},
      "outputs": [
        {
          "output_type": "display_data",
          "metadata": {},
          "data": {
            "text/plain": [
              "\n",
              "Call:\n",
              "glm(formula = tmp ~ wt.loss, family = binomial, data = tmp)\n",
              "\n",
              "Deviance Residuals: \n",
              "    Min       1Q   Median       3Q      Max  \n",
              "-0.5488  -0.4825  -0.4708  -0.4651   2.1864  \n",
              "\n",
              "Coefficients:\n",
              "             Estimate Std. Error z value Pr(>|z|)    \n",
              "(Intercept) -2.169588   0.279940  -7.750 9.18e-15 ***\n",
              "wt.loss      0.005184   0.016325   0.318    0.751    \n",
              "---\n",
              "Signif. codes:  0 '***' 0.001 '**' 0.01 '*' 0.05 '.' 0.1 ' ' 1\n",
              "\n",
              "(Dispersion parameter for binomial family taken to be 1)\n",
              "\n",
              "    Null deviance: 146.04  on 213  degrees of freedom\n",
              "Residual deviance: 145.94  on 212  degrees of freedom\n",
              "  (14 observations deleted due to missingness)\n",
              "AIC: 149.94\n",
              "\n",
              "Number of Fisher Scoring iterations: 4"
            ]
          }
        }
      ],
      "source": [
        "model <- glm(tmp ~ wt.loss, data = tmp, family = binomial)\n",
        "summary(model)"
      ],
      "id": "cell-25"
    },
    {
      "cell_type": "code",
      "execution_count": 17,
      "metadata": {},
      "outputs": [
        {
          "output_type": "stream",
          "name": "stderr",
          "text": [
            "Waiting for profiling to be done...\n",
            "\n",
            "Waiting for profiling to be done...\n"
          ]
        },
        {
          "output_type": "display_data",
          "metadata": {},
          "data": {
            "text/html": [
              "<dl>\n",
              "    <dt>$odds_ratio</dt>\n",
              "        <dd>1.00519779379364</dd>\n",
              "    <dt>$ci_lower</dt>\n",
              "        <dd><strong>2.5 %:</strong> 0.971395088673715</dd>\n",
              "    <dt>$ci_upper</dt>\n",
              "        <dd><strong>97.5 %:</strong> 1.03624397215135</dd>\n",
              "</dl>"
            ]
          }
        }
      ],
      "source": [
        "odds_ratio <- exp(coef(model))[[2]] # 오즈비\n",
        "ci_lower <- exp(confint(model))[2,][1] # 95% 신뢰구간 하한\n",
        "ci_upper <- exp(confint(model))[2,][2] # 95% 신뢰구간 상한\n",
        "list(odds_ratio=odds_ratio,ci_lower=ci_lower,ci_upper=ci_upper)"
      ],
      "id": "cell-26"
    },
    {
      "cell_type": "markdown",
      "metadata": {},
      "source": [
        "## Odds Ratio Plot\n",
        "\n",
        "Data Ref:\n",
        "[stackoverflow](https://stackoverflow.com/questions/47085514/simple-way-to-visualise-odds-ratios-in-r)\n",
        "\n",
        "and Odds plot code made by me"
      ],
      "id": "573b3438-ed3d-4215-99bd-ad68676e046c"
    },
    {
      "cell_type": "code",
      "execution_count": 44,
      "metadata": {},
      "outputs": [],
      "source": [
        "boxLabels = c(\"Package recommendation\", \"Breeder’s recommendations\", \"Vet’s \n",
        "recommendation\", \"Measuring cup\", \"Weigh on scales\", \"Certain number of \n",
        "cans\", \"Ad lib feeding\", \"Adjusted for body weight\")"
      ],
      "id": "cell-29"
    },
    {
      "cell_type": "code",
      "execution_count": 47,
      "metadata": {},
      "outputs": [],
      "source": [
        "df <- data.frame(yAxis = length(boxLabels):1, \n",
        "                 boxOdds = log(c(0.9410685, \n",
        "                                 0.6121181, 1.1232907, 1.2222137, 0.4712629, 0.9376822, 1.0010816, \n",
        "                                 0.7121452)), \n",
        "                 boxCILow = c(-0.1789719, -0.8468693,-0.00109809, 0.09021224,\n",
        "                              -1.0183040, -0.2014975, -0.1001832,-0.4695449), \n",
        "                 boxCIHigh = c(0.05633076, -0.1566818, 0.2326694, 0.3104405, \n",
        "                               -0.4999281, 0.07093752, 0.1018351, -0.2113544))"
      ],
      "id": "cell-30"
    },
    {
      "cell_type": "code",
      "execution_count": 48,
      "metadata": {},
      "outputs": [
        {
          "output_type": "display_data",
          "metadata": {},
          "data": {
            "image/png": "[encoded data removed]"
          }
        }
      ],
      "source": [
        "ggplot(data = df,\n",
        "       mapping = aes(y = forcats::fct_rev(f = forcats::fct_inorder(f = boxLabels)))) +\n",
        "  geom_point(aes(x = boxOdds),size = 1.5, color = \"black\")+\n",
        "  geom_errorbarh(aes(xmax = boxCIHigh, xmin = boxCILow), size = .5, height = .2, color = \"gray50\") +\n",
        "  theme_classic()+\n",
        "  geom_vline(xintercept = 1) + # 오즈비는 1을 기준으로 보기 때문에 1의 수직선을 그려줘야 한다.\n",
        "  theme(panel.grid.minor = element_blank()) +\n",
        "  labs(x = \"\",  y = \"\", title = \"Odds ratio plot\") + \n",
        "  scale_y_discrete(labels = boxLabels)"
      ],
      "id": "cell-31"
    },
    {
      "cell_type": "markdown",
      "metadata": {},
      "source": [
        "``` r\n",
        "# the method of save ggplot file\n",
        "# You can allocate path\n",
        "ggsave(file= paste0(path,\"name.png\", sep=''), width=15, height=8, units = c(\"cm\"))\n",
        "```\n",
        "\n",
        "# Hazard Ratio"
      ],
      "id": "44539ad0-31b9-463d-ae61-f7ef4d3469a6"
    },
    {
      "cell_type": "code",
      "execution_count": 20,
      "metadata": {},
      "outputs": [
        {
          "output_type": "display_data",
          "metadata": {},
          "data": {}
        }
      ],
      "source": [
        "head(ovarian) # survival 패키지에 내장된 데이터 사용"
      ],
      "id": "cell-34"
    },
    {
      "cell_type": "markdown",
      "metadata": {},
      "source": [
        "데이터 설명\n",
        "\n",
        "-   futime: survival or censoring time\n",
        "-   fustat: censoring status\n",
        "-   age: in years\n",
        "-   resid.ds: residual disease present (1=no,2=yes)\n",
        "-   rx: treatment group\n",
        "-   ecog.ps: ECOG performance status (1 is better, see reference)\n",
        "\n",
        "간단한 모형 설정\n",
        "\n",
        "-   Surv()에 시간 `time`과 사건 `event`를 지정해주고 다변량 변수로서\n",
        "    rx와 age를 지정해주었다."
      ],
      "id": "fbf116d5-5071-4cc5-a50c-25b339c39e92"
    },
    {
      "cell_type": "code",
      "execution_count": 22,
      "metadata": {},
      "outputs": [
        {
          "output_type": "display_data",
          "metadata": {},
          "data": {
            "text/plain": [
              "Call:\n",
              "coxph(formula = Surv(time = futime, event = fustat) ~ as.factor(rx) + \n",
              "    age, data = ovarian)\n",
              "\n",
              "  n= 26, number of events= 12 \n",
              "\n",
              "                   coef exp(coef) se(coef)      z Pr(>|z|)   \n",
              "as.factor(rx)2 -0.80397   0.44755  0.63205 -1.272  0.20337   \n",
              "age             0.14733   1.15873  0.04615  3.193  0.00141 **\n",
              "---\n",
              "Signif. codes:  0 '***' 0.001 '**' 0.01 '*' 0.05 '.' 0.1 ' ' 1\n",
              "\n",
              "               exp(coef) exp(-coef) lower .95 upper .95\n",
              "as.factor(rx)2    0.4475      2.234    0.1297     1.545\n",
              "age               1.1587      0.863    1.0585     1.268\n",
              "\n",
              "Concordance= 0.798  (se = 0.076 )\n",
              "Likelihood ratio test= 15.89  on 2 df,   p=4e-04\n",
              "Wald test            = 13.47  on 2 df,   p=0.001\n",
              "Score (logrank) test = 18.56  on 2 df,   p=9e-05"
            ]
          }
        }
      ],
      "source": [
        "summary(coxph(Surv(time = futime, event = fustat) ~ as.factor(rx) + age, data=ovarian))"
      ],
      "id": "cell-37"
    },
    {
      "cell_type": "markdown",
      "metadata": {},
      "source": [
        "> **Note**\n",
        ">\n",
        "> `as.factor`는 R에서 R의 변수로서 인식하도록 변환해준 것이라 보면 된다.\n",
        "\n",
        "### 단변량을 여러개 한 번에 보고 싶을때\n",
        "\n",
        "> **Note**\n",
        ">\n",
        "> 물론 다변량으로 확장 가능한 코드이다."
      ],
      "id": "262300d2-a6da-4f87-baa7-7b40c346be2d"
    },
    {
      "cell_type": "code",
      "execution_count": 23,
      "metadata": {},
      "outputs": [],
      "source": [
        "cova <- c(\"resid.ds\",\"rx\",\"age\") # 보고 싶은 단변량 변수명을 입력한다."
      ],
      "id": "cell-41"
    },
    {
      "cell_type": "code",
      "execution_count": 24,
      "metadata": {},
      "outputs": [
        {
          "output_type": "display_data",
          "metadata": {},
          "data": {
            "text/plain": [
              "[[1]]\n",
              "Surv(time = futime, event = fustat) ~ resid.ds\n",
              "<environment: 0x000000002f8ff350>\n",
              "\n",
              "[[2]]\n",
              "Surv(time = futime, event = fustat) ~ rx\n",
              "<environment: 0x000000002f9020f0>\n",
              "\n",
              "[[3]]\n",
              "Surv(time = futime, event = fustat) ~ age\n",
              "<environment: 0x000000002519fd00>"
            ]
          }
        }
      ],
      "source": [
        "univ <- lapply(cova, function(x) as.formula(paste('Surv(time = futime, event = fustat)~', x)))\n",
        "univ\n",
        "# 아래의 리스트를 생성\n",
        "# Surv(time = futime, event = fustat) ~ resid.ds\n",
        "# Surv(time = futime, event = fustat) ~ rx\n",
        "# Surv(time = futime, event = fustat) ~ age"
      ],
      "id": "cell-42"
    },
    {
      "cell_type": "markdown",
      "metadata": {},
      "source": [
        "> **Tip**\n",
        ">\n",
        "> `lapply`\n",
        ">\n",
        "> -   리스트 또는 벡터와 같은 객체에 함수를 적용하는 데 사용"
      ],
      "id": "3062643b-5378-44aa-8758-98a46797e641"
    },
    {
      "cell_type": "code",
      "execution_count": 25,
      "metadata": {},
      "outputs": [],
      "source": [
        "univ_rst <- lapply(univ, function(x) {\n",
        "  model <- coxph(x, data = ovarian)\n",
        "  summary <- summary(model)\n",
        "  HR <- summary$coef[2]  # Hazard ratio\n",
        "  CI_lower <- summary$conf.int[,\"lower .95\"]  # Lower bound of confidence interval\n",
        "  CI_upper <- summary$conf.int[,\"upper .95\"]  # Upper bound of confidence interval\n",
        "  p_value <- summary$wald[\"pvalue\"]  # P-value\n",
        "  tab <- c(HR, CI_lower, CI_upper)\n",
        "  names(tab) <- c(\"HR\", \"lower\", \"upper\")\n",
        "  return(tab)\n",
        "})"
      ],
      "id": "cell-44"
    },
    {
      "cell_type": "markdown",
      "metadata": {},
      "source": [
        "콕스 비례 모형\n",
        "\n",
        "-   생존 분석에서 쓰이는 통계 모형\n",
        "-   준모수적 방법 이용하여 생존함수 추정\n",
        "-   기본 가정: 비례위험은 시간에 상관없이 어떤 변수의 위험비가 항상\n",
        "    일정하다.\n",
        "\n",
        "ref: [콕스 비례\n",
        "모형](https://ko.wikipedia.org/wiki/%EB%B9%84%EB%A1%80%EC%9C%84%ED%97%98%EB%AA%A8%ED%98%95)"
      ],
      "id": "df498421-945f-431f-a3c0-6bed1794130e"
    },
    {
      "cell_type": "code",
      "execution_count": 26,
      "metadata": {},
      "outputs": [
        {
          "output_type": "display_data",
          "metadata": {},
          "data": {
            "text/html": [
              "<ol>\n",
              "    <li><style>\n",
              ".dl-inline {width: auto; margin:0; padding: 0}\n",
              ".dl-inline>dt, .dl-inline>dd {float: none; width: auto; display: inline-block}\n",
              ".dl-inline>dt::after {content: \":\\0020\"; padding-right: .5ex}\n",
              ".dl-inline>dt:not(:first-of-type) {padding-left: .5ex}\n",
              "</style><dl class=dl-inline><dt>HR</dt><dd>3.35070358052788</dd><dt>lower</dt><dd>0.896998922171813</dd><dt>upper</dt><dd>12.5164191472818</dd></dl>\n",
              "</li>\n",
              "    <li><style>\n",
              ".dl-inline {width: auto; margin:0; padding: 0}\n",
              ".dl-inline>dt, .dl-inline>dd {float: none; width: auto; display: inline-block}\n",
              ".dl-inline>dt::after {content: \":\\0020\"; padding-right: .5ex}\n",
              ".dl-inline>dt:not(:first-of-type) {padding-left: .5ex}\n",
              "</style><dl class=dl-inline><dt>HR</dt><dd>0.550801907277936</dd><dt>lower</dt><dd>0.17432073353539</dd><dt>upper</dt><dd>1.74037095248581</dd></dl>\n",
              "</li>\n",
              "    <li><style>\n",
              ".dl-inline {width: auto; margin:0; padding: 0}\n",
              ".dl-inline>dt, .dl-inline>dd {float: none; width: auto; display: inline-block}\n",
              ".dl-inline>dt::after {content: \":\\0020\"; padding-right: .5ex}\n",
              ".dl-inline>dt:not(:first-of-type) {padding-left: .5ex}\n",
              "</style><dl class=dl-inline><dt>HR</dt><dd>1.17541333170913</dd><dt>lower</dt><dd>1.0662320711259</dd><dt>upper</dt><dd>1.29577466085843</dd></dl>\n",
              "</li>\n",
              "</ol>"
            ]
          }
        }
      ],
      "source": [
        "univ_rst # 리스트별로 Hazard Rtio, 95% 신뢰구간을 구했다."
      ],
      "id": "cell-47"
    },
    {
      "cell_type": "code",
      "execution_count": 27,
      "metadata": {},
      "outputs": [
        {
          "output_type": "display_data",
          "metadata": {},
          "data": {}
        }
      ],
      "source": [
        "tab <- data.frame(t(data.frame(univ_rst, check.names = FALSE)))\n",
        "# check.names = FALSE는 유효한 변수명인지 확인하지 말라는 옵션, 기본은 TRUE다.\n",
        "tab"
      ],
      "id": "cell-48"
    },
    {
      "cell_type": "markdown",
      "metadata": {},
      "source": [
        "## Hazard Ratio Plot"
      ],
      "id": "a0b65af3-8ce2-4f21-b4d5-aeeba5af3180"
    },
    {
      "cell_type": "code",
      "execution_count": 28,
      "metadata": {},
      "outputs": [],
      "source": [
        "df <- data.frame(yAxis = length(cova):1, # 그래프에 그려지는 변수의 순서를 지정해주기 위함\n",
        "                 boxhz = tab$HR,\n",
        "                 boxCILow = tab$lower,\n",
        "                 boxCIHigh = tab$upper)"
      ],
      "id": "cell-50"
    },
    {
      "cell_type": "code",
      "execution_count": 29,
      "metadata": {},
      "outputs": [
        {
          "output_type": "display_data",
          "metadata": {},
          "data": {
            "image/png": "[encoded data removed]"
          }
        }
      ],
      "source": [
        "ggplot(data = df,\n",
        "       mapping = aes(y = forcats::fct_rev(f = forcats::fct_inorder(f = cova)))) +\n",
        "  geom_point(aes(x = boxhz), size = 1.5, color = \"black\")+\n",
        "  geom_errorbarh(aes(xmax = boxCIHigh, xmin = boxCILow), size = .5, height = .2, color = \"gray50\") +\n",
        "  theme_classic()+\n",
        "  geom_vline(xintercept = 1) +\n",
        "  theme(panel.grid.minor = element_blank()) +\n",
        "  labs(x = \"\",  y = \"\", title = \"Hazard ratio plot\")  +\n",
        "  scale_y_discrete(labels = rev(c('residual disease present (1=no,2=yes)',\n",
        "                                  'treatment group',\n",
        "                                  'in years')))"
      ],
      "id": "cell-51"
    },
    {
      "cell_type": "markdown",
      "metadata": {},
      "source": [
        "# Survival Analysis\n",
        "\n",
        "카플란-마이어 생존분석\n",
        "\n",
        "-   시간에 따른 생존 비율 추정\n",
        "-   비모수적 분석방법"
      ],
      "id": "fc5e4446-3207-4e81-a1cf-ce56d84287b2"
    },
    {
      "cell_type": "code",
      "execution_count": 30,
      "metadata": {},
      "outputs": [
        {
          "output_type": "display_data",
          "metadata": {},
          "data": {
            "text/plain": [
              "  [1]  306   455  1010+  210   883  1022+  310   361   218   166   170   654 \n",
              " [13]  728    71   567   144   613   707    61    88   301    81   624   371 \n",
              " [25]  394   520   574   118   390    12   473    26   533   107    53   122 \n",
              " [37]  814   965+   93   731   460   153   433   145   583    95   303   519 \n",
              " [49]  643   765   735   189    53   246   689    65     5   132   687   345 \n",
              " [61]  444   223   175    60   163    65   208   821+  428   230   840+  305 \n",
              " [73]   11   132   226   426   705   363    11   176   791    95   196+  167 \n",
              " [85]  806+  284   641   147   740+  163   655   239    88   245   588+   30 \n",
              " [97]  179   310   477   166   559+  450   364   107   177   156   529+   11 \n",
              "[109]  429   351    15   181   283   201   524    13   212   524   288   363 \n",
              "[121]  442   199   550    54   558   207    92    60   551+  543+  293   202 \n",
              "[133]  353   511+  267   511+  371   387   457   337   201   404+  222    62 \n",
              "[145]  458+  356+  353   163    31   340   229   444+  315+  182   156   329 \n",
              "[157]  364+  291   179   376+  384+  268   292+  142   413+  266+  194   320 \n",
              "[169]  181   285   301+  348   197   382+  303+  296+  180   186   145   269+\n",
              "[181]  300+  284+  350   272+  292+  332+  285   259+  110   286   270    81 \n",
              "[193]  131   225+  269   225+  243+  279+  276+  135    79    59   240+  202+\n",
              "[205]  235+  105   224+  239   237+  173+  252+  221+  185+   92+   13   222+\n",
              "[217]  192+  183   211+  175+  197+  203+  116   188+  191+  105+  174+  177+"
            ]
          }
        }
      ],
      "source": [
        "Surv(time = lung$time, event = lung$status)"
      ],
      "id": "cell-54"
    },
    {
      "cell_type": "code",
      "execution_count": 31,
      "metadata": {},
      "outputs": [
        {
          "output_type": "display_data",
          "metadata": {},
          "data": {
            "image/png": "[encoded data removed]"
          }
        }
      ],
      "source": [
        "plot(Surv(time = lung$time, event = lung$status))"
      ],
      "id": "cell-55"
    },
    {
      "cell_type": "markdown",
      "metadata": {},
      "source": [
        "## Log-Rank Test\n",
        "\n",
        "-   카플란-마이어 생존분석에서 나온 생존 함수가 유의하게 다른지 검정하는\n",
        "    방법\n",
        "-   서로 다른 두 집단의 생존률(사건 발생률)을 비교하는 비모수적 가설\n",
        "    검정법\n",
        "-   `survdiff`는 집단 간의 생존함수를 비교하기 위해 사용\n",
        "-   p값이 0.05보다 작을 경우 생존 곡선 간에 차이가 있는 것으로 본다."
      ],
      "id": "ef1b3e55-2e61-47b0-b8dd-55ae61b86f19"
    },
    {
      "cell_type": "code",
      "execution_count": 32,
      "metadata": {},
      "outputs": [
        {
          "output_type": "display_data",
          "metadata": {},
          "data": {
            "text/plain": [
              "Call:\n",
              "survdiff(formula = Surv(time = time, event = status) ~ sex, data = lung)\n",
              "\n",
              "        N Observed Expected (O-E)^2/E (O-E)^2/V\n",
              "sex=1 138      112     91.6      4.55      10.3\n",
              "sex=2  90       53     73.4      5.68      10.3\n",
              "\n",
              " Chisq= 10.3  on 1 degrees of freedom, p= 0.001 "
            ]
          }
        }
      ],
      "source": [
        "survdiff(Surv(time = time, event = status) ~ sex, data=lung) # lung 데이터에서 성별에 따른 생존곡선 차이 비교"
      ],
      "id": "cell-58"
    },
    {
      "cell_type": "markdown",
      "metadata": {},
      "source": [
        "p 값이 0.0001로 나와 생존 곡선 간에 차이가 있다는 것을 알 수 있다.\n",
        "\n",
        "## Survival plot\n",
        "\n",
        "Ref : [ggkm](https://gist.github.com/araastat/9927677)"
      ],
      "id": "4fd0b5f1-42c7-459a-8216-ebfe7199fbf2"
    },
    {
      "cell_type": "code",
      "execution_count": 33,
      "metadata": {},
      "outputs": [],
      "source": [
        "ggkm <- function(sfit, returns = FALSE,\n",
        "xlabs = \"Time\", ylabs = \"survival probability\",\n",
        "ystratalabs = NULL, ystrataname = NULL,\n",
        "timeby = 100, main = \"Kaplan-Meier Plot\",\n",
        "pval = TRUE, ...) {\n",
        "require(plyr)\n",
        "require(ggplot2)\n",
        "require(survival)\n",
        "require(gridExtra)\n",
        "if(is.null(ystratalabs)) {\n",
        "   ystratalabs <- as.character(levels(summary(sfit)$strata))\n",
        "}\n",
        "m <- max(nchar(ystratalabs))\n",
        "if(is.null(ystrataname)) ystrataname <- \"Strata\"\n",
        "times <- seq(0, max(sfit$time), by = timeby)\n",
        ".df <- data.frame(time = sfit$time, n.risk = sfit$n.risk,\n",
        "    n.event = sfit$n.event, surv = sfit$surv, strata = summary(sfit, censored = T)$strata,\n",
        "    upper = sfit$upper, lower = sfit$lower)\n",
        "levels(.df$strata) <- ystratalabs\n",
        "zeros <- data.frame(time = 0, surv = 1, strata = factor(ystratalabs, levels=levels(.df$strata)),\n",
        "    upper = 1, lower = 1)\n",
        ".df <- rbind.fill(zeros, .df)\n",
        "d <- length(levels(.df$strata))\n",
        "p <- ggplot(.df, aes(time, surv, group = strata)) +\n",
        "    geom_step(aes(linetype = strata), size = 0.7) +\n",
        "    theme_bw() +\n",
        "    theme(axis.title.x = element_text(vjust = 0.5)) +\n",
        "    scale_x_continuous(xlabs, breaks = times, limits = c(0, max(sfit$time))) +\n",
        "    scale_y_continuous(ylabs, limits = c(0, 1)) +\n",
        "    theme(panel.grid.minor = element_blank()) +\n",
        "    theme(legend.position = c(ifelse(m < 10, .28, .35), ifelse(d < 4, .25, .35))) +\n",
        "    theme(legend.key = element_rect(colour = NA)) +\n",
        "    labs(linetype = ystrataname) +\n",
        "    theme(plot.margin = unit(c(0, 1, .5, ifelse(m < 10, 1.5, 2.5)), \"lines\")) +\n",
        "    ggtitle(main)\n",
        " \n",
        "if(pval) {\n",
        "    sdiff <- survdiff(eval(sfit$call$formula), data = eval(sfit$call$data))\n",
        "    pval <- pchisq(sdiff$chisq, length(sdiff$n)-1, lower.tail = FALSE)\n",
        "    pvaltxt <- ifelse(pval < 0.0001, \"p < 0.0001\", paste(\"p =\", sprintf(\"%.4f\", pval) ))\n",
        "    p <- p + annotate(\"text\", x = 0.6 * max(sfit$time), y = 0.1, label = pvaltxt)\n",
        "}\n",
        "## Plotting the graphs\n",
        "    print(p)\n",
        "    if(returns) return(p)\n",
        "   \n",
        "}"
      ],
      "id": "cell-62"
    },
    {
      "cell_type": "markdown",
      "metadata": {},
      "source": [
        "사용법"
      ],
      "id": "804c69c5-43f2-4638-8eaf-fa443f811fdf"
    },
    {
      "cell_type": "code",
      "execution_count": 34,
      "metadata": {},
      "outputs": [],
      "source": [
        "labs=paste(\"성별\",c(\"Male\",\"Female\"))  # legend 항목 지정 test-ref 순\n",
        "strataname=paste(\"Sex\") # legend 명 지정"
      ],
      "id": "cell-64"
    },
    {
      "cell_type": "code",
      "execution_count": 35,
      "metadata": {},
      "outputs": [],
      "source": [
        "lung$temp=ifelse(lung$sex==2,0,1) # Ref 지정, Ref=0, Test-Ref 순으로 그래프가 그려짐\n",
        "# 여기서는 여성(sex=2)를 ref로 지정해주었다."
      ],
      "id": "cell-65"
    },
    {
      "cell_type": "markdown",
      "metadata": {},
      "source": [
        "> **Note**\n",
        ">\n",
        "> 변수에 ref가 지정되지 않으면 결과 해석에 혼동이 있을 수 있으니 ref\n",
        "> 지정이 필요"
      ],
      "id": "b6e9fd47-3841-4ad8-ad9c-ede2a7be8ae0"
    },
    {
      "cell_type": "code",
      "execution_count": 36,
      "metadata": {},
      "outputs": [
        {
          "output_type": "display_data",
          "metadata": {},
          "data": {
            "text/plain": [
              "Call: survfit(formula = Surv(time = time, event = status) ~ temp, data = lung)\n",
              "\n",
              "         n events median 0.95LCL 0.95UCL\n",
              "temp=0  90     53    426     348     550\n",
              "temp=1 138    112    270     212     310"
            ]
          }
        }
      ],
      "source": [
        "fit=survfit(Surv(time = time, event = status)~temp ,data=lung)\n",
        "\n",
        "fit"
      ],
      "id": "cell-67"
    },
    {
      "cell_type": "code",
      "execution_count": 39,
      "metadata": {},
      "outputs": [
        {
          "output_type": "display_data",
          "metadata": {},
          "data": {
            "image/png": "[encoded data removed]"
          }
        }
      ],
      "source": [
        "ggkm(fit,timeby=500,ystratalabs=labs,ystrataname=strataname, main = 'Survival', ylab='Event')"
      ],
      "id": "cell-68"
    },
    {
      "cell_type": "markdown",
      "metadata": {},
      "source": [
        "> **Warning**\n",
        ">\n",
        "> 여러개 그룹에 대하여 생존 분석을 시행하고자 할때 log rank test 해석에\n",
        "> 주의하여야 한다.\n",
        ">\n",
        "> 해당 결과에 대한 대립가설은 그룹 중 하나라도 다른 생존곡선이\n",
        "> 존재한다라는 의미가 되기 때문에 각 집단별로 비교해보고 차이가 유의한\n",
        "> 그룹들을 찾는 것이 낫다.\n",
        "\n",
        "참고로, 아래와 같이 `summary` 해주면 단변량의 항목별로 시간별로 볼 수\n",
        "있다.\n",
        "\n",
        "또한, 가장 마지막 값 저장하기 위해 아래 코드 사용 가능\n",
        "\n",
        "``` r\n",
        "sink('summary.txt')\n",
        "summary(fit) \n",
        "sink()\n",
        "```"
      ],
      "id": "66122b47-9c50-406b-b923-8cba836909af"
    },
    {
      "cell_type": "code",
      "execution_count": 40,
      "metadata": {},
      "outputs": [
        {
          "output_type": "display_data",
          "metadata": {},
          "data": {
            "text/plain": [
              "Call: survfit(formula = Surv(time = time, event = status) ~ temp, data = lung)\n",
              "\n",
              "                temp=0 \n",
              " time n.risk n.event survival std.err lower 95% CI upper 95% CI\n",
              "    5     90       1   0.9889  0.0110       0.9675        1.000\n",
              "   60     89       1   0.9778  0.0155       0.9478        1.000\n",
              "   61     88       1   0.9667  0.0189       0.9303        1.000\n",
              "   62     87       1   0.9556  0.0217       0.9139        0.999\n",
              "   79     86       1   0.9444  0.0241       0.8983        0.993\n",
              "   81     85       1   0.9333  0.0263       0.8832        0.986\n",
              "   95     83       1   0.9221  0.0283       0.8683        0.979\n",
              "  107     81       1   0.9107  0.0301       0.8535        0.972\n",
              "  122     80       1   0.8993  0.0318       0.8390        0.964\n",
              "  145     79       2   0.8766  0.0349       0.8108        0.948\n",
              "  153     77       1   0.8652  0.0362       0.7970        0.939\n",
              "  166     76       1   0.8538  0.0375       0.7834        0.931\n",
              "  167     75       1   0.8424  0.0387       0.7699        0.922\n",
              "  182     71       1   0.8305  0.0399       0.7559        0.913\n",
              "  186     70       1   0.8187  0.0411       0.7420        0.903\n",
              "  194     68       1   0.8066  0.0422       0.7280        0.894\n",
              "  199     67       1   0.7946  0.0432       0.7142        0.884\n",
              "  201     66       2   0.7705  0.0452       0.6869        0.864\n",
              "  208     62       1   0.7581  0.0461       0.6729        0.854\n",
              "  226     59       1   0.7452  0.0471       0.6584        0.843\n",
              "  239     57       1   0.7322  0.0480       0.6438        0.833\n",
              "  245     54       1   0.7186  0.0490       0.6287        0.821\n",
              "  268     51       1   0.7045  0.0501       0.6129        0.810\n",
              "  285     47       1   0.6895  0.0512       0.5962        0.798\n",
              "  293     45       1   0.6742  0.0523       0.5791        0.785\n",
              "  305     43       1   0.6585  0.0534       0.5618        0.772\n",
              "  310     42       1   0.6428  0.0544       0.5447        0.759\n",
              "  340     39       1   0.6264  0.0554       0.5267        0.745\n",
              "  345     38       1   0.6099  0.0563       0.5089        0.731\n",
              "  348     37       1   0.5934  0.0572       0.4913        0.717\n",
              "  350     36       1   0.5769  0.0579       0.4739        0.702\n",
              "  351     35       1   0.5604  0.0586       0.4566        0.688\n",
              "  361     33       1   0.5434  0.0592       0.4390        0.673\n",
              "  363     32       1   0.5265  0.0597       0.4215        0.658\n",
              "  371     30       1   0.5089  0.0603       0.4035        0.642\n",
              "  426     26       1   0.4893  0.0610       0.3832        0.625\n",
              "  433     25       1   0.4698  0.0617       0.3632        0.608\n",
              "  444     24       1   0.4502  0.0621       0.3435        0.590\n",
              "  450     23       1   0.4306  0.0624       0.3241        0.572\n",
              "  473     22       1   0.4110  0.0626       0.3050        0.554\n",
              "  520     19       1   0.3894  0.0629       0.2837        0.534\n",
              "  524     18       1   0.3678  0.0630       0.2628        0.515\n",
              "  550     15       1   0.3433  0.0634       0.2390        0.493\n",
              "  641     11       1   0.3121  0.0649       0.2076        0.469\n",
              "  654     10       1   0.2808  0.0655       0.1778        0.443\n",
              "  687      9       1   0.2496  0.0652       0.1496        0.417\n",
              "  705      8       1   0.2184  0.0641       0.1229        0.388\n",
              "  728      7       1   0.1872  0.0621       0.0978        0.359\n",
              "  731      6       1   0.1560  0.0590       0.0743        0.328\n",
              "  735      5       1   0.1248  0.0549       0.0527        0.295\n",
              "  765      3       1   0.0832  0.0499       0.0257        0.270\n",
              "\n",
              "                temp=1 \n",
              " time n.risk n.event survival std.err lower 95% CI upper 95% CI\n",
              "   11    138       3   0.9783  0.0124       0.9542        1.000\n",
              "   12    135       1   0.9710  0.0143       0.9434        0.999\n",
              "   13    134       2   0.9565  0.0174       0.9231        0.991\n",
              "   15    132       1   0.9493  0.0187       0.9134        0.987\n",
              "   26    131       1   0.9420  0.0199       0.9038        0.982\n",
              "   30    130       1   0.9348  0.0210       0.8945        0.977\n",
              "   31    129       1   0.9275  0.0221       0.8853        0.972\n",
              "   53    128       2   0.9130  0.0240       0.8672        0.961\n",
              "   54    126       1   0.9058  0.0249       0.8583        0.956\n",
              "   59    125       1   0.8986  0.0257       0.8496        0.950\n",
              "   60    124       1   0.8913  0.0265       0.8409        0.945\n",
              "   65    123       2   0.8768  0.0280       0.8237        0.933\n",
              "   71    121       1   0.8696  0.0287       0.8152        0.928\n",
              "   81    120       1   0.8623  0.0293       0.8067        0.922\n",
              "   88    119       2   0.8478  0.0306       0.7900        0.910\n",
              "   92    117       1   0.8406  0.0312       0.7817        0.904\n",
              "   93    116       1   0.8333  0.0317       0.7734        0.898\n",
              "   95    115       1   0.8261  0.0323       0.7652        0.892\n",
              "  105    114       1   0.8188  0.0328       0.7570        0.886\n",
              "  107    113       1   0.8116  0.0333       0.7489        0.880\n",
              "  110    112       1   0.8043  0.0338       0.7408        0.873\n",
              "  116    111       1   0.7971  0.0342       0.7328        0.867\n",
              "  118    110       1   0.7899  0.0347       0.7247        0.861\n",
              "  131    109       1   0.7826  0.0351       0.7167        0.855\n",
              "  132    108       2   0.7681  0.0359       0.7008        0.842\n",
              "  135    106       1   0.7609  0.0363       0.6929        0.835\n",
              "  142    105       1   0.7536  0.0367       0.6851        0.829\n",
              "  144    104       1   0.7464  0.0370       0.6772        0.823\n",
              "  147    103       1   0.7391  0.0374       0.6694        0.816\n",
              "  156    102       2   0.7246  0.0380       0.6538        0.803\n",
              "  163    100       3   0.7029  0.0389       0.6306        0.783\n",
              "  166     97       1   0.6957  0.0392       0.6230        0.777\n",
              "  170     96       1   0.6884  0.0394       0.6153        0.770\n",
              "  175     94       1   0.6811  0.0397       0.6076        0.763\n",
              "  176     93       1   0.6738  0.0399       0.5999        0.757\n",
              "  177     92       1   0.6664  0.0402       0.5922        0.750\n",
              "  179     91       2   0.6518  0.0406       0.5769        0.736\n",
              "  180     89       1   0.6445  0.0408       0.5693        0.730\n",
              "  181     88       2   0.6298  0.0412       0.5541        0.716\n",
              "  183     86       1   0.6225  0.0413       0.5466        0.709\n",
              "  189     83       1   0.6150  0.0415       0.5388        0.702\n",
              "  197     80       1   0.6073  0.0417       0.5309        0.695\n",
              "  202     78       1   0.5995  0.0419       0.5228        0.687\n",
              "  207     77       1   0.5917  0.0420       0.5148        0.680\n",
              "  210     76       1   0.5839  0.0422       0.5068        0.673\n",
              "  212     75       1   0.5762  0.0424       0.4988        0.665\n",
              "  218     74       1   0.5684  0.0425       0.4909        0.658\n",
              "  222     72       1   0.5605  0.0426       0.4829        0.651\n",
              "  223     70       1   0.5525  0.0428       0.4747        0.643\n",
              "  229     67       1   0.5442  0.0429       0.4663        0.635\n",
              "  230     66       1   0.5360  0.0431       0.4579        0.627\n",
              "  239     64       1   0.5276  0.0432       0.4494        0.619\n",
              "  246     63       1   0.5192  0.0433       0.4409        0.611\n",
              "  267     61       1   0.5107  0.0434       0.4323        0.603\n",
              "  269     60       1   0.5022  0.0435       0.4238        0.595\n",
              "  270     59       1   0.4937  0.0436       0.4152        0.587\n",
              "  283     57       1   0.4850  0.0437       0.4065        0.579\n",
              "  284     56       1   0.4764  0.0438       0.3979        0.570\n",
              "  285     54       1   0.4676  0.0438       0.3891        0.562\n",
              "  286     53       1   0.4587  0.0439       0.3803        0.553\n",
              "  288     52       1   0.4499  0.0439       0.3716        0.545\n",
              "  291     51       1   0.4411  0.0439       0.3629        0.536\n",
              "  301     48       1   0.4319  0.0440       0.3538        0.527\n",
              "  303     46       1   0.4225  0.0440       0.3445        0.518\n",
              "  306     44       1   0.4129  0.0440       0.3350        0.509\n",
              "  310     43       1   0.4033  0.0441       0.3256        0.500\n",
              "  320     42       1   0.3937  0.0440       0.3162        0.490\n",
              "  329     41       1   0.3841  0.0440       0.3069        0.481\n",
              "  337     40       1   0.3745  0.0439       0.2976        0.471\n",
              "  353     39       2   0.3553  0.0437       0.2791        0.452\n",
              "  363     37       1   0.3457  0.0436       0.2700        0.443\n",
              "  364     36       1   0.3361  0.0434       0.2609        0.433\n",
              "  371     35       1   0.3265  0.0432       0.2519        0.423\n",
              "  387     34       1   0.3169  0.0430       0.2429        0.413\n",
              "  390     33       1   0.3073  0.0428       0.2339        0.404\n",
              "  394     32       1   0.2977  0.0425       0.2250        0.394\n",
              "  428     29       1   0.2874  0.0423       0.2155        0.383\n",
              "  429     28       1   0.2771  0.0420       0.2060        0.373\n",
              "  442     27       1   0.2669  0.0417       0.1965        0.362\n",
              "  455     25       1   0.2562  0.0413       0.1868        0.351\n",
              "  457     24       1   0.2455  0.0410       0.1770        0.341\n",
              "  460     22       1   0.2344  0.0406       0.1669        0.329\n",
              "  477     21       1   0.2232  0.0402       0.1569        0.318\n",
              "  519     20       1   0.2121  0.0397       0.1469        0.306\n",
              "  524     19       1   0.2009  0.0391       0.1371        0.294\n",
              "  533     18       1   0.1897  0.0385       0.1275        0.282\n",
              "  558     17       1   0.1786  0.0378       0.1179        0.270\n",
              "  567     16       1   0.1674  0.0371       0.1085        0.258\n",
              "  574     15       1   0.1562  0.0362       0.0992        0.246\n",
              "  583     14       1   0.1451  0.0353       0.0900        0.234\n",
              "  613     13       1   0.1339  0.0343       0.0810        0.221\n",
              "  624     12       1   0.1228  0.0332       0.0722        0.209\n",
              "  643     11       1   0.1116  0.0320       0.0636        0.196\n",
              "  655     10       1   0.1004  0.0307       0.0552        0.183\n",
              "  689      9       1   0.0893  0.0293       0.0470        0.170\n",
              "  707      8       1   0.0781  0.0276       0.0390        0.156\n",
              "  791      7       1   0.0670  0.0259       0.0314        0.143\n",
              "  814      5       1   0.0536  0.0239       0.0223        0.128\n",
              "  883      3       1   0.0357  0.0216       0.0109        0.117"
            ]
          }
        }
      ],
      "source": [
        "summary(fit)"
      ],
      "id": "cell-72"
    },
    {
      "cell_type": "markdown",
      "metadata": {},
      "source": [
        "# Appendix\n",
        "\n",
        "-   아래는 오즈비(Odds Ratio), 위험비(Hazard Ratio), 생존분석(Survival\n",
        "    Analysis) 함수 구현한 것이다. 반복 사용할때 유용하겠지!\n",
        "\n",
        "-   p값 정리 function"
      ],
      "id": "4ca3e3a6-1389-428c-ae6d-eb2f7817f9cd"
    },
    {
      "cell_type": "code",
      "execution_count": 50,
      "metadata": {},
      "outputs": [],
      "source": [
        "pfunc<- function(p_value){\n",
        "  if (p_value <= 0.0001) {\n",
        "    print(\"<.0001\")\n",
        "  } else if (p_value >= 1) {\n",
        "    print(\">.9999\")\n",
        "  }\n",
        "  else {\n",
        "    print(sprintf(\"%.4f\", p_value))\n",
        "  }\n",
        "}"
      ],
      "id": "cell-76"
    },
    {
      "cell_type": "markdown",
      "metadata": {},
      "source": [
        "사용법"
      ],
      "id": "8dce4b50-bb1c-430a-abcf-ebc16868a841"
    },
    {
      "cell_type": "code",
      "execution_count": 51,
      "metadata": {},
      "outputs": [
        {
          "output_type": "stream",
          "name": "stdout",
          "text": [
            "[1] \"<.0001\""
          ]
        }
      ],
      "source": [
        "pfunc(0)"
      ],
      "id": "cell-78"
    },
    {
      "cell_type": "code",
      "execution_count": 52,
      "metadata": {},
      "outputs": [
        {
          "output_type": "stream",
          "name": "stdout",
          "text": [
            "[1] \"<.0001\""
          ]
        }
      ],
      "source": [
        "pfunc(0.0001)"
      ],
      "id": "cell-79"
    },
    {
      "cell_type": "code",
      "execution_count": 53,
      "metadata": {},
      "outputs": [
        {
          "output_type": "stream",
          "name": "stdout",
          "text": [
            "[1] \"0.3165\""
          ]
        }
      ],
      "source": [
        "pfunc(0.3164889)"
      ],
      "id": "cell-80"
    },
    {
      "cell_type": "code",
      "execution_count": 54,
      "metadata": {},
      "outputs": [
        {
          "output_type": "stream",
          "name": "stdout",
          "text": [
            "[1] \">.9999\""
          ]
        }
      ],
      "source": [
        "pfunc(1.5)"
      ],
      "id": "cell-81"
    },
    {
      "cell_type": "markdown",
      "metadata": {},
      "source": [
        "-   오즈비 function 범주형일 때"
      ],
      "id": "dbb90faf-22b6-4988-9a31-bbf178508786"
    },
    {
      "cell_type": "code",
      "execution_count": 55,
      "metadata": {},
      "outputs": [],
      "source": [
        "oddsfunc <- function(model){\n",
        "  odds_ratio <- round(exp(coef(model)),2)[2]\n",
        "  confint_odds_ratio <- exp(confint(model))\n",
        "  confint_odds_ratio <- round(data.frame(lower = confint_odds_ratio[, 1], upper = confint_odds_ratio[, 2])[2,],2)\n",
        "  odds <- paste(odds_ratio[1],'(',confint_odds_ratio[1],'-',confint_odds_ratio[2],')')\n",
        "  return(odds)\n",
        "}\n",
        "\n",
        "\n",
        "chis_fisher_test <- function(df, cond1, cond2){\n",
        "  tst <- matrix(c(df %>% filter(cond1 == 1 & cond2 == 1) %>% nrow(),\n",
        "                  df %>% filter(cond1 == 1 & cond2 == 0) %>% nrow(),\n",
        "                  df %>% filter(cond1 == 0 & cond2 == 1) %>% nrow(),\n",
        "                  df %>% filter(cond1 == 0 & cond2 == 0) %>% nrow()),\n",
        "                ncol=2)\n",
        "  per <- matrix(round((tst[,1]/(tst[,1]+tst[,2]))*100,0),ncol=1)\n",
        "  if (min(tst) < 5) {\n",
        "    chi <- pfunc(round(fisher.test(tst)$p.value,4))\n",
        "  } else {\n",
        "    chi <- pfunc(round(chisq.test(tst)$p.value,4))\n",
        "  }\n",
        "  \n",
        "  model <- glm(cond1 ~ cond2, data = df, family = binomial)\n",
        "  list(test = tst, sum = rbind(sum(tst[1,]),sum(tst[2,])), \n",
        "       per = per, p_value = rbind(chi,''),\n",
        "       oddsratio = rbind(oddsfunc(model),''))\n",
        "}"
      ],
      "id": "cell-83"
    },
    {
      "cell_type": "markdown",
      "metadata": {},
      "source": [
        "사용법"
      ],
      "id": "00d01f04-8689-476a-bccd-41b31add4ecd"
    },
    {
      "cell_type": "code",
      "execution_count": 57,
      "metadata": {},
      "outputs": [
        {
          "output_type": "display_data",
          "metadata": {},
          "data": {}
        }
      ],
      "source": [
        "tmp_1 <- lung %>% mutate(tmp01 = ifelse(ph.karno < 70, 1, 0),\n",
        "                       tmp02 = ifelse(status == 1, 1, 0));head(tmp_1)"
      ],
      "id": "cell-85"
    },
    {
      "cell_type": "markdown",
      "metadata": {},
      "source": [
        "일단 범주형으로 만들어 주고(있으면 안 만들어도 되겠지)"
      ],
      "id": "31ada3d9-c07c-40e9-8aef-d4f52521ded1"
    },
    {
      "cell_type": "code",
      "execution_count": 58,
      "metadata": {},
      "outputs": [
        {
          "output_type": "stream",
          "name": "stdout",
          "text": [
            "[1] \"0.2361\""
          ]
        },
        {
          "output_type": "stream",
          "name": "stderr",
          "text": [
            "Waiting for profiling to be done...\n"
          ]
        },
        {
          "output_type": "display_data",
          "metadata": {},
          "data": {
            "text/html": [
              "\n",
              "</dd>\n",
              "</dl>"
            ]
          }
        }
      ],
      "source": [
        "chis_fisher_test(tmp_1,tmp_1$tmp01,tmp_1$tmp02)"
      ],
      "id": "cell-87"
    },
    {
      "cell_type": "markdown",
      "metadata": {},
      "source": [
        "-   Survival Analysis 전체 생존 기간에 대하여 볼때, 변수 별도 보지 않고\n",
        "    event랑 time만 볼때"
      ],
      "id": "be17270b-bc65-40ab-81dc-8b7404c9cc9a"
    },
    {
      "cell_type": "code",
      "execution_count": 59,
      "metadata": {},
      "outputs": [],
      "source": [
        "surv_func <- function(df, date_col, event_col){\n",
        "  df_temp <- df[complete.cases(df[, c(date_col, event_col)]), ]\n",
        "  date_temp <- df_temp[, date_col] / 365.25\n",
        "  surv_temp <- Surv(time = date_temp, event = as.numeric(df_temp[, event_col]))\n",
        "  result1_temp<-coxph(surv_temp~1, data=df_temp)\n",
        "  result2_temp <- summary(survfit(surv_temp ~ 1, data = df_temp))\n",
        "  summary(result1_temp)\n",
        "  list(cbind(round(result2_temp$surv[length(result2_temp$surv)],3),\n",
        "             paste('(',round(result2_temp$lower[length(result2_temp$lower)],3),'-',\n",
        "                   round(result2_temp$upper[length(result2_temp$upper)],3),')')),\"cox\"=result1_temp)\n",
        "}"
      ],
      "id": "cell-89"
    },
    {
      "cell_type": "markdown",
      "metadata": {},
      "source": [
        "사용법"
      ],
      "id": "d45ed341-d4c9-4742-83fb-317e10080549"
    },
    {
      "cell_type": "code",
      "execution_count": 60,
      "metadata": {},
      "outputs": [
        {
          "output_type": "display_data",
          "metadata": {},
          "data": {
            "text/plain": [
              "[[1]]\n",
              "     [,1]   [,2]               \n",
              "[1,] \"0.05\" \"( 0.021 - 0.123 )\"\n",
              "\n",
              "$cox\n",
              "Call:  coxph(formula = surv_temp ~ 1, data = df_temp)\n",
              "\n",
              "Null model\n",
              "  log likelihood= -749.9098 \n",
              "  n= 228 "
            ]
          }
        }
      ],
      "source": [
        "surv_func(tmp_1,\"time\",\"status\")"
      ],
      "id": "cell-91"
    },
    {
      "cell_type": "markdown",
      "metadata": {},
      "source": [
        "-   Survival Analysis 단변량(다변량 확장 가능)에 대해 Survival\n",
        "    probability와 95% 신뢰구간, Log rank Test 수행"
      ],
      "id": "7bf6511d-4c27-4aba-884e-ae8503b93daf"
    },
    {
      "cell_type": "code",
      "execution_count": 61,
      "metadata": {},
      "outputs": [],
      "source": [
        "surv_func_each <- function(df, date_col, event_col, cova_col) {\n",
        "  df_temp <- df[complete.cases(df[, c(date_col, event_col, cova_col)]), ]\n",
        "  date_temp <- df_temp[, date_col] / 365.25\n",
        "  surv_temp <- Surv(time = date_temp, event = as.numeric(df_temp[, event_col]))\n",
        "  coxph_fit <- coxph(as.formula(paste(\"surv_temp ~\", cova_col)), data = df_temp)\n",
        "  result_temp <- summary(survfit(surv_temp ~ df_temp[, cova_col], data = df_temp))\n",
        "  # p_val <- pfunc(round(summary(coxph_fit)$coefficients[paste(cova_col), \"Pr(>|z|)\"],4))\n",
        "  nor <- survdiff(surv_temp ~ df_temp[, cova_col], data = df_temp)\n",
        "  nor_p <- pfunc(round((1 - pchisq(nor$chisq, length(nor$n) - 1)),4))\n",
        "  list(\"surv\" = result_temp, \"nor_p\" = nor_p,\"coxph_fit\"=coxph_fit)\n",
        "}\n",
        "\n",
        "surv_log_p <-function(df,date_col,event_col,cova_col){\n",
        "  \n",
        "  df_temp <- surv_func_each(df,date_col,event_col,cova_col)\n",
        "  filename <- paste(path4,cova_col,\"_\",\".txt\", sep='')\n",
        "  \n",
        "  sink(filename)\n",
        "  print(df_temp$surv) #데이터 결과 txt로 저장\n",
        "  sink()\n",
        "  \n",
        "  lines <- readLines(filename)\n",
        "  index <- which(grepl( \"  time n.risk n.event survival std.err lower 95% CI upper 95% CI\", lines))\n",
        "  line1 <- strsplit(lines[index - 3][2], \"\\\\s+\")[[1]]\n",
        "  line2 <- strsplit(tail(lines, n = 2)[1], \"\\\\s+\")[[1]]\n",
        "  out <- rbind(cbind(line2[5],paste('(',line2[7],'-',line2[8],')'),df_temp$nor_p),\n",
        "               cbind(line1[5],paste('(',line1[7],'-',line1[8],')'),''))\n",
        "  colnames(out) <- c(\"Survival\",\"95% CI\",\"Log rank test\")\n",
        "  list(data.frame(out), df_temp$coxph_fit, df_temp$nor_p)\n",
        "}"
      ],
      "id": "cell-93"
    },
    {
      "cell_type": "markdown",
      "metadata": {},
      "source": [
        "사용법(저장하고 해야해서 문법 구현만)\n",
        "\n",
        "``` r\n",
        "surv_log_p(tmp_1,\"time\",\"status\",\"tmp01\")\n",
        "```\n",
        "\n",
        "-   만든 Survival plot"
      ],
      "id": "5514badd-6214-4f6b-9ee5-a3a9335f649a"
    },
    {
      "cell_type": "code",
      "execution_count": 62,
      "metadata": {},
      "outputs": [],
      "source": [
        "surv_figure <-function(df,df2){\n",
        "  ggsurvplot(survfit(df2), data = df,\n",
        "             title = labs(title=''),\n",
        "             # risk.table =TRUE,\n",
        "             # risk.table.fontsize = 3,\n",
        "             tables.height=0.15,\n",
        "             palette = c(\"black\"),\n",
        "             xlab = \"Years\",\n",
        "             # ylab = name1,\n",
        "             tables.theme = theme_cleantable(),\n",
        "             fun = 'pct',\n",
        "             conf.int = FALSE,\n",
        "             break.x.by = 1,\n",
        "             # surv.scale=\"percent\",\n",
        "             censor= FALSE,\n",
        "             # xlim = c(0,13),\n",
        "             font.title = c(9, \"black\"),\n",
        "             font.x = c(9, \"black\"),\n",
        "             font.y = c(9, \"black\"),\n",
        "             font.tickslab = c(9, \"plain\", \"black\"),\n",
        "             font.legend = c(9,\"bold\"),\n",
        "             # legend = c(0.2, 0.4),\n",
        "             legend.title = element_blank(),\n",
        "             legend = \"none\")\n",
        "  # return(ggsave(file= paste0(path,name2,\".png\", sep=''), width=15, height=8, units = c(\"cm\")))\n",
        "  # 위는 저장하는 거라 path 지정해서 저장하면 된다.\n",
        "}"
      ],
      "id": "cell-97"
    },
    {
      "cell_type": "markdown",
      "metadata": {},
      "source": [
        "사용법"
      ],
      "id": "701aaa1a-4ec5-4a18-9562-ecc3e95c45b1"
    },
    {
      "cell_type": "code",
      "execution_count": 63,
      "metadata": {},
      "outputs": [
        {
          "output_type": "display_data",
          "metadata": {},
          "data": {
            "image/png": "[encoded data removed]"
          }
        }
      ],
      "source": [
        "surv_figure(tmp,surv_func(tmp_1,\"time\",\"status\")[[2]])"
      ],
      "id": "cell-99"
    },
    {
      "cell_type": "markdown",
      "metadata": {},
      "source": [
        "참고"
      ],
      "id": "bda6eaa1-cd9a-4a9e-a198-e2bf187d6430"
    },
    {
      "cell_type": "code",
      "execution_count": 64,
      "metadata": {},
      "outputs": [
        {
          "output_type": "display_data",
          "metadata": {},
          "data": {
            "text/plain": [
              "Call:  coxph(formula = surv_temp ~ 1, data = df_temp)\n",
              "\n",
              "Null model\n",
              "  log likelihood= -749.9098 \n",
              "  n= 228 "
            ]
          }
        }
      ],
      "source": [
        "surv_func(tmp_1,\"time\",\"status\")[[2]]"
      ],
      "id": "cell-101"
    }
  ],
  "nbformat": 4,
  "nbformat_minor": 5,
  "metadata": {
    "kernelspec": {
      "name": "r",
      "display_name": "R",
      "language": "R"
    },
    "language_info": {
      "name": "R",
      "codemirror_mode": "r",
      "file_extension": ".r",
      "mimetype": "text/x-r-source",
      "pygments_lexer": "r",
      "version": "4.0.2"
    }
  }
}