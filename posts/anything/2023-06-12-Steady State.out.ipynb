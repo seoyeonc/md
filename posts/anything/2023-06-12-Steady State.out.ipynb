{
  "cells": [
    {
      "cell_type": "markdown",
      "metadata": {},
      "source": [
        "# Steady State\n",
        "\n",
        "SEOYEON CHOI  \n",
        "2023-06-12\n",
        "\n",
        "> Pharmacokinetic Analysis\n",
        "\n",
        "Ref: [FDA](https://www.fda.gov/media/70115/download)\n",
        "\n",
        "# Import"
      ],
      "id": "cfe073cf-6401-4d35-98ce-efde78908406"
    },
    {
      "cell_type": "code",
      "execution_count": 6,
      "metadata": {},
      "outputs": [],
      "source": [
        "import numpy as np\n",
        "import scipy.stats as stats\n",
        "import matplotlib.pyplot as plt"
      ],
      "id": "08cc70ec-c207-47a5-9f54-de1d1f761419"
    },
    {
      "cell_type": "markdown",
      "metadata": {},
      "source": [
        "> When conducting a steady-state investigation, data on the minimum drug\n",
        "> concentrations (trough values) observed during a single dosing\n",
        "> interval (CMIN) should also be collected Generally, three successive\n",
        "> CMIN values should be provided to verify that steady-sta e conditions\n",
        "> have been achieved. Although CMIN most frequently occurs immediat ly\n",
        "> prior to the next successive dose, situations do occur with CMIN\n",
        "> observed subsequen to dosing. To determine a steady state\n",
        "> concentration, the CMIN values should be regr ssed over time and the\n",
        "> resultant slope should be tested for its difference from zero.\n",
        "\n",
        "약동학 분석에서 반복 투여 디자인의 경우 항정상태가 확인되어야 하는데,\n",
        "투약 0h 전 3 time points를 확인하는 것을 기본으로 한다.\n",
        "\n",
        "# 용어 설명\n",
        "\n",
        "Tau : 약물 투여 간격\n",
        "\n",
        "ex) 1일 2회 투여 = tau는 12\n",
        "\n",
        "ex) 5일간 1일 1회 투여 = tau는 24\n",
        "\n",
        "# The condition of Steady State\n",
        "\n",
        "[FDA guide](https://www.fda.gov/media/70115/download)\n",
        "\n",
        "> When conducting a steady-state investigation, data on the minimum drug\n",
        "> concentrations (trough values) observed during a single dosing\n",
        "> interval (CMIN) should also be collected Generally, three successive\n",
        "> CMIN values should be provided to verify that steady-sta e conditions\n",
        "> have been achieved. Although CMIN most frequently occurs immediat ly\n",
        "> prior to the next successive dose, situations do occur with CMIN\n",
        "> observed subsequen to dosing. To determine a steady state\n",
        "> concentration, the CMIN values should be regr ssed over time and the\n",
        "> resultant slope should be tested for its difference from zero.\n",
        "\n",
        "# 항정상태가 아닌 경우"
      ],
      "id": "cbefaac6-1737-424c-90eb-9c425d336870"
    },
    {
      "cell_type": "code",
      "execution_count": 31,
      "metadata": {},
      "outputs": [],
      "source": [
        "# CMIN 값들\n",
        "cmin_values = [2.1, 2.3, 2.2]  # 예시로 세 개의 CMIN 값 사용"
      ],
      "id": "b5f6bd38-7e90-45df-bb65-368c81d1af89"
    },
    {
      "cell_type": "code",
      "execution_count": 32,
      "metadata": {},
      "outputs": [],
      "source": [
        "# 시간 (예: 0시간, 12시간, 24시간)\n",
        "time_values = [0, 12, 24]"
      ],
      "id": "1ea20be2-0a7b-45c0-9fef-0e8698bf553c"
    },
    {
      "cell_type": "code",
      "execution_count": 33,
      "metadata": {},
      "outputs": [],
      "source": [
        "# 회귀 분석\n",
        "slope, intercept, r_value, p_value, std_err = stats.linregress(time_values, cmin_values)"
      ],
      "id": "e2d2bc8d-ae7a-44b8-8d14-c3ccb7b07c39"
    },
    {
      "cell_type": "code",
      "execution_count": 34,
      "metadata": {},
      "outputs": [
        {
          "output_type": "stream",
          "name": "stdout",
          "text": [
            "회귀 분석 결과:\n",
            "기울기: 0.00416666666666667\n",
            "절편: 2.1500000000000004\n",
            "상관 계수: 0.5000000000000011\n",
            "p-value: 0.6666666666666659\n",
            "표준 오차: 0.007216878364870306"
          ]
        }
      ],
      "source": [
        "# 결과 출력\n",
        "print(\"회귀 분석 결과:\")\n",
        "print(\"기울기:\", slope)\n",
        "print(\"절편:\", intercept)\n",
        "print(\"상관 계수:\", r_value)\n",
        "print(\"p-value:\", p_value)\n",
        "print(\"표준 오차:\", std_err)"
      ],
      "id": "e69c470b-e21d-4149-83e9-4990df590d0a"
    },
    {
      "cell_type": "code",
      "execution_count": 35,
      "metadata": {},
      "outputs": [
        {
          "output_type": "stream",
          "name": "stdout",
          "text": [
            "기울기가 0과 유의미한 차이가 없음. 일정 상태 조건이 충족되지 않음."
          ]
        }
      ],
      "source": [
        "# 기울기가 0과 유의미한 차이가 있는지 확인\n",
        "alpha = 0.05  # 유의 수준\n",
        "if p_value < alpha:\n",
        "    print(\"기울기가 0과 유의미한 차이가 있음. 일정 상태 조건이 충족됨.\")\n",
        "else:\n",
        "    print(\"기울기가 0과 유의미한 차이가 없음. 일정 상태 조건이 충족되지 않음.\")"
      ],
      "id": "bd9f51d9-968f-4efd-aca8-7ea0e8eb9c43"
    },
    {
      "cell_type": "code",
      "execution_count": 36,
      "metadata": {},
      "outputs": [
        {
          "output_type": "display_data",
          "metadata": {},
          "data": {
            "text/plain": [
              "<matplotlib.legend.Legend at 0x24f36a173d0>"
            ]
          }
        },
        {
          "output_type": "display_data",
          "metadata": {},
          "data": {
            "image/png": "[encoded data removed]"
          }
        }
      ],
      "source": [
        "# 그래프 그리기\n",
        "plt.scatter(time_values, cmin_values, color='blue', label='CMIN')\n",
        "plt.plot(time_values, intercept + slope * np.array(time_values), color='red', label='Regression Line')\n",
        "plt.xlabel('Time')\n",
        "plt.ylabel('CMIN')\n",
        "plt.title('CMIN over Time')\n",
        "plt.legend()"
      ],
      "id": "63db66c9-c723-4d54-830e-c0b24aeb1c9c"
    },
    {
      "cell_type": "markdown",
      "metadata": {},
      "source": [
        "# 항정상태인 경우"
      ],
      "id": "72781756-6c89-453d-b014-80d45db5bb54"
    },
    {
      "cell_type": "code",
      "execution_count": 24,
      "metadata": {},
      "outputs": [],
      "source": [
        "# CMIN 값들\n",
        "cmin_values = [2.1, 2.2, 2.1] "
      ],
      "id": "faae85fc-5ca8-4355-bbf0-e254c9dc6983"
    },
    {
      "cell_type": "code",
      "execution_count": 25,
      "metadata": {},
      "outputs": [],
      "source": [
        "# 시간 (예: 0시간, 12시간, 24시간)\n",
        "time_values = [0, 12, 24]"
      ],
      "id": "4a52432f-af7e-44a1-9723-1bffb918d0f9"
    },
    {
      "cell_type": "code",
      "execution_count": 26,
      "metadata": {},
      "outputs": [],
      "source": [
        "# 회귀 분석\n",
        "slope, intercept, r_value, p_value, std_err = stats.linregress(time_values, cmin_values)"
      ],
      "id": "c5214db5-ca78-4338-a624-8ff6f6e45840"
    },
    {
      "cell_type": "code",
      "execution_count": 27,
      "metadata": {},
      "outputs": [
        {
          "output_type": "stream",
          "name": "stdout",
          "text": [
            "회귀 분석 결과:\n",
            "기울기: 0.0\n",
            "절편: 2.1333333333333333\n",
            "상관 계수: 0.0\n",
            "p-value: 1.0\n",
            "표준 오차: 0.0048112522432468855"
          ]
        }
      ],
      "source": [
        "# 결과 출력\n",
        "print(\"회귀 분석 결과:\")\n",
        "print(\"기울기:\", slope)\n",
        "print(\"절편:\", intercept)\n",
        "print(\"상관 계수:\", r_value)\n",
        "print(\"p-value:\", p_value)\n",
        "print(\"표준 오차:\", std_err)"
      ],
      "id": "55d63d71-c516-43e3-b681-1ec95cfc31b3"
    },
    {
      "cell_type": "code",
      "execution_count": 28,
      "metadata": {},
      "outputs": [
        {
          "output_type": "stream",
          "name": "stdout",
          "text": [
            "기울기가 0과 유의미한 차이가 없음. 일정 상태 조건이 충족되지 않음."
          ]
        }
      ],
      "source": [
        "# 기울기가 0과 유의미한 차이가 있는지 확인\n",
        "alpha = 0.05  # 유의 수준\n",
        "if p_value < alpha:\n",
        "    print(\"기울기가 0과 유의미한 차이가 있음. 일정 상태 조건이 충족됨.\")\n",
        "else:\n",
        "    print(\"기울기가 0과 유의미한 차이가 없음. 일정 상태 조건이 충족되지 않음.\")"
      ],
      "id": "c89e25a8-5f45-4545-aba4-2863bb467248"
    },
    {
      "cell_type": "code",
      "execution_count": 30,
      "metadata": {},
      "outputs": [
        {
          "output_type": "display_data",
          "metadata": {},
          "data": {
            "text/plain": [
              "<matplotlib.legend.Legend at 0x24f378a2490>"
            ]
          }
        },
        {
          "output_type": "display_data",
          "metadata": {},
          "data": {
            "image/png": "[encoded data removed]"
          }
        }
      ],
      "source": [
        "# 그래프 그리기\n",
        "plt.scatter(time_values, cmin_values, color='blue', label='CMIN')\n",
        "plt.plot(time_values, intercept + slope * np.array(time_values), color='red', label='Regression Line')\n",
        "plt.xlabel('Time')\n",
        "plt.ylabel('CMIN')\n",
        "plt.title('CMIN over Time')\n",
        "plt.legend()"
      ],
      "id": "323cde99-ddb3-439e-a9c4-a1c6f6aa3b33"
    },
    {
      "cell_type": "markdown",
      "metadata": {},
      "source": [
        "## Winnonlin Guide\n",
        "\n",
        "[윈놀린 가이드\n",
        "참고](https://onlinehelp.certara.com/phoenix/8.3/responsive_html5_!MasterPage!/WinNonlin%20User%27s%20Guide.pdf)하여\n",
        "용어 정리\n",
        "\n",
        "`Tmin`: Time of minimum observed concentration. For steady-state data,\n",
        "based on observations col-lected during the dosing interval (i.e., after\n",
        "the dosing time, but no later than dosing time plus Tau, where Tau is\n",
        "the dosing interval). If the minimum observed concentration is not\n",
        "unique, then the first minimum is used. - Tmin은 항정상태에서 최소 혈중\n",
        "농도가 기록된 time을 의미함\n",
        "\n",
        "`Cmin`: Minimum observed concentration occurring at time Tmin as defined\n",
        "above.\n",
        "\n",
        "$\\star$ Cmin은 측정방법이 한정되지 않는다.\n",
        "\n",
        "1.  항정상태에서 최소 농도(윈놀린에서는 이 값이 고유하지 않을 시 첫 번째\n",
        "    최소 농도를 기준으로 본다)\n",
        "\n",
        "-   즉, 반복투여가 끝난 후에 기록된 최소 혈중 농도\n",
        "\n",
        "1.  tau 마지막 시점에서의 농도\n",
        "\n",
        "FDA 정의\n",
        "\n",
        "-   The minimum concentration\n",
        "\n",
        "[EMA\n",
        "정의](https://www.ema.europa.eu/en/documents/scientific-guideline/guideline-pharmacokinetic-clinical-evaluation-modified-release-dosage-forms_en.pdf)\n",
        "\n",
        "-   Cmin,ss : Minimum plasma concentration at steady state"
      ],
      "id": "5b79ca38-90cc-4e1d-bcd3-210de5e96135"
    }
  ],
  "nbformat": 4,
  "nbformat_minor": 5,
  "metadata": {
    "kernelspec": {
      "name": "python3",
      "display_name": "Python 3 (ipykernel)",
      "language": "python"
    },
    "language_info": {
      "name": "python",
      "codemirror_mode": {
        "name": "ipython",
        "version": "3"
      },
      "file_extension": ".py",
      "mimetype": "text/x-python",
      "nbconvert_exporter": "python",
      "pygments_lexer": "ipython3",
      "version": "3.11.3"
    }
  }
}