{
 "cells": [
  {
   "cell_type": "raw",
   "id": "ec6c9cff-e936-4312-be6b-aec6948a0d5f",
   "metadata": {
    "id": "cac470df-29e7-4148-9bbd-d8b9a32fa570",
    "tags": []
   },
   "source": [
    "---\n",
    "title: \"Hazard ratio, Odds ratio\"\n",
    "author: \"SEOYEON CHOI\"\n",
    "date: \"2023-04-20\"\n",
    "categories:\n",
    "  - Survival Analysis\n",
    "---"
   ]
  },
  {
   "cell_type": "markdown",
   "id": "1a3a0337-13ac-488c-84ce-35898b067d30",
   "metadata": {
    "tags": []
   },
   "source": [
    "> Hazard ratio, Odds ratio"
   ]
  },
  {
   "cell_type": "markdown",
   "id": "70eedb7a-703a-42fe-a692-d89a2568e919",
   "metadata": {},
   "source": [
    "# 로지스틱 회귀분석"
   ]
  },
  {
   "cell_type": "markdown",
   "id": "d7cc7220-12ea-4e23-a950-eb28720ecee3",
   "metadata": {},
   "source": [
    "$$log(\\frac{p}{1-p}) = \\beta_0 + \\beta_1 x_1 + \\dots + \\beta_k x_k$$"
   ]
  },
  {
   "cell_type": "code",
   "execution_count": 3,
   "id": "0b5cccca-5742-4a46-a75a-9c7b95743d7f",
   "metadata": {},
   "outputs": [
    {
     "name": "stderr",
     "output_type": "stream",
     "text": [
      "Warning message:\n",
      "“glm.fit: algorithm did not converge”\n"
     ]
    }
   ],
   "source": [
    "# 예제 데이터 생성\n",
    "set.seed(123)\n",
    "n <- 200\n",
    "exam1 <- round(rnorm(n, mean = 70, sd = 10))\n",
    "exam2 <- round(rnorm(n, mean = 75, sd = 8))\n",
    "exam3 <- round(rnorm(n, mean = 80, sd = 6))\n",
    "pass <- rbinom(n, 1, plogis(0.3 + 0.1 * exam1 + 0.2 * exam2 + 0.3 * exam3))\n",
    "\n",
    "data <- data.frame(exam1, exam2, exam3, pass)\n",
    "\n",
    "# 로지스틱 회귀분석 모델 학습\n",
    "model <- glm(pass ~ exam1 + exam2 + exam3, data = data, family = binomial)"
   ]
  },
  {
   "cell_type": "markdown",
   "id": "9b33f00e-c833-4213-aed3-63b7de181719",
   "metadata": {},
   "source": [
    "family = binomial에서 이항분포의 개념"
   ]
  },
  {
   "cell_type": "code",
   "execution_count": 4,
   "id": "2ea28f16-00a2-43de-b5a7-cdc93a93c5a4",
   "metadata": {},
   "outputs": [
    {
     "data": {
      "text/plain": [
       "\n",
       "Call:\n",
       "glm(formula = pass ~ exam1 + exam2 + exam3, family = binomial, \n",
       "    data = data)\n",
       "\n",
       "Deviance Residuals: \n",
       "      Min         1Q     Median         3Q        Max  \n",
       "2.409e-06  2.409e-06  2.409e-06  2.409e-06  2.409e-06  \n",
       "\n",
       "Coefficients:\n",
       "              Estimate Std. Error z value Pr(>|z|)\n",
       "(Intercept)  2.657e+01  4.810e+05       0        1\n",
       "exam1       -3.384e-11  2.676e+03       0        1\n",
       "exam2        2.952e-10  3.178e+03       0        1\n",
       "exam3        2.546e-10  4.359e+03       0        1\n",
       "\n",
       "(Dispersion parameter for binomial family taken to be 1)\n",
       "\n",
       "    Null deviance: 0.0000e+00  on 199  degrees of freedom\n",
       "Residual deviance: 1.1603e-09  on 196  degrees of freedom\n",
       "AIC: 8\n",
       "\n",
       "Number of Fisher Scoring iterations: 25\n"
      ]
     },
     "metadata": {},
     "output_type": "display_data"
    }
   ],
   "source": [
    "# 모델 요약 정보 출력\n",
    "summary(model)"
   ]
  },
  {
   "cell_type": "code",
   "execution_count": 5,
   "id": "af8f3640-90b9-4801-8b46-c65f54166bb8",
   "metadata": {},
   "outputs": [
    {
     "data": {
      "text/html": [
       "<table class=\"dataframe\">\n",
       "<caption>A matrix: 4 × 4 of type dbl</caption>\n",
       "<thead>\n",
       "\t<tr><th></th><th scope=col>Estimate</th><th scope=col>Std. Error</th><th scope=col>z value</th><th scope=col>Pr(&gt;|z|)</th></tr>\n",
       "</thead>\n",
       "<tbody>\n",
       "\t<tr><th scope=row>(Intercept)</th><td> 2.656607e+01</td><td>480958.636</td><td> 5.523566e-05</td><td>0.9999559</td></tr>\n",
       "\t<tr><th scope=row>exam1</th><td>-3.384147e-11</td><td>  2676.045</td><td>-1.264607e-14</td><td>1.0000000</td></tr>\n",
       "\t<tr><th scope=row>exam2</th><td> 2.951540e-10</td><td>  3178.418</td><td> 9.286192e-14</td><td>1.0000000</td></tr>\n",
       "\t<tr><th scope=row>exam3</th><td> 2.546355e-10</td><td>  4359.366</td><td> 5.841114e-14</td><td>1.0000000</td></tr>\n",
       "</tbody>\n",
       "</table>\n"
      ],
      "text/latex": [
       "A matrix: 4 × 4 of type dbl\n",
       "\\begin{tabular}{r|llll}\n",
       "  & Estimate & Std. Error & z value & Pr(>\\textbar{}z\\textbar{})\\\\\n",
       "\\hline\n",
       "\t(Intercept) &  2.656607e+01 & 480958.636 &  5.523566e-05 & 0.9999559\\\\\n",
       "\texam1 & -3.384147e-11 &   2676.045 & -1.264607e-14 & 1.0000000\\\\\n",
       "\texam2 &  2.951540e-10 &   3178.418 &  9.286192e-14 & 1.0000000\\\\\n",
       "\texam3 &  2.546355e-10 &   4359.366 &  5.841114e-14 & 1.0000000\\\\\n",
       "\\end{tabular}\n"
      ],
      "text/markdown": [
       "\n",
       "A matrix: 4 × 4 of type dbl\n",
       "\n",
       "| <!--/--> | Estimate | Std. Error | z value | Pr(&gt;|z|) |\n",
       "|---|---|---|---|---|\n",
       "| (Intercept) |  2.656607e+01 | 480958.636 |  5.523566e-05 | 0.9999559 |\n",
       "| exam1 | -3.384147e-11 |   2676.045 | -1.264607e-14 | 1.0000000 |\n",
       "| exam2 |  2.951540e-10 |   3178.418 |  9.286192e-14 | 1.0000000 |\n",
       "| exam3 |  2.546355e-10 |   4359.366 |  5.841114e-14 | 1.0000000 |\n",
       "\n"
      ],
      "text/plain": [
       "            Estimate      Std. Error z value       Pr(>|z|) \n",
       "(Intercept)  2.656607e+01 480958.636  5.523566e-05 0.9999559\n",
       "exam1       -3.384147e-11   2676.045 -1.264607e-14 1.0000000\n",
       "exam2        2.951540e-10   3178.418  9.286192e-14 1.0000000\n",
       "exam3        2.546355e-10   4359.366  5.841114e-14 1.0000000"
      ]
     },
     "metadata": {},
     "output_type": "display_data"
    }
   ],
   "source": [
    "# 각 독립변수의 회귀계수와 p-value 출력\n",
    "coef(summary(model))"
   ]
  },
  {
   "cell_type": "code",
   "execution_count": 6,
   "id": "a535d5de-9e81-4e19-aec2-7253fc6d9d90",
   "metadata": {},
   "outputs": [],
   "source": [
    "# 새로운 데이터에 대한 예측값 계산\n",
    "new_data <- data.frame(exam1 = c(65, 80), exam2 = c(70, 85), exam3 = c(75, 90))\n",
    "pred <- predict(model, newdata = new_data, type = \"response\")"
   ]
  },
  {
   "cell_type": "code",
   "execution_count": 7,
   "id": "63d54f8b-3912-4ac4-877e-401923269d29",
   "metadata": {},
   "outputs": [
    {
     "name": "stdout",
     "output_type": "stream",
     "text": [
      "1 2 \n",
      "1 1 \n"
     ]
    }
   ],
   "source": [
    "# 예측 결과 출력\n",
    "print(pred)"
   ]
  },
  {
   "cell_type": "markdown",
   "id": "3d9ca9d4-792c-4be2-80ec-06d0fb4283c9",
   "metadata": {},
   "source": [
    "# 로지스틱 함수와 오즈비"
   ]
  },
  {
   "cell_type": "markdown",
   "id": "d61b78e8-8f14-4510-84a6-250c0b8b96d8",
   "metadata": {},
   "source": [
    "$$P(Y=1|X) = \\frac{e^{\\beta_0 + \\beta_1 X}}{1 + e^{\\beta_0 + \\beta_1 X}}$$"
   ]
  },
  {
   "cell_type": "markdown",
   "id": "44ba7ca8-a555-48ac-bc6d-a503fd172e76",
   "metadata": {},
   "source": [
    "$P(Y=1|X) = P$"
   ]
  },
  {
   "cell_type": "markdown",
   "id": "895145a2-22cb-4877-b0a0-0875a16d9341",
   "metadata": {},
   "source": [
    "라고 할때,"
   ]
  },
  {
   "cell_type": "markdown",
   "id": "62ac998f-6e53-41db-8189-5c07faef0dee",
   "metadata": {},
   "source": [
    "$ln(\\frac{p}{1-p}) = \\beta_0 + \\beta_1 X$"
   ]
  },
  {
   "cell_type": "markdown",
   "id": "3673288d-9ae0-4a21-b934-88c7f1644851",
   "metadata": {},
   "source": [
    "odds = $\\frac{p}{1-p}$"
   ]
  },
  {
   "cell_type": "code",
   "execution_count": 11,
   "id": "38083903-fb54-4e5c-ab3f-ecf3a20ac9c4",
   "metadata": {},
   "outputs": [
    {
     "data": {
      "text/html": [
       "<strong>exam1:</strong> -3.38414654242419e-11"
      ],
      "text/latex": [
       "\\textbf{exam1:} -3.38414654242419e-11"
      ],
      "text/markdown": [
       "**exam1:** -3.38414654242419e-11"
      ],
      "text/plain": [
       "        exam1 \n",
       "-3.384147e-11 "
      ]
     },
     "metadata": {},
     "output_type": "display_data"
    }
   ],
   "source": [
    "# exam1 변수의 계수 출력\n",
    "coef(model)[\"exam1\"]"
   ]
  },
  {
   "cell_type": "code",
   "execution_count": 12,
   "id": "14693636-1d6d-4722-969b-4c011fd4531e",
   "metadata": {},
   "outputs": [
    {
     "data": {
      "text/html": [
       "<strong>exam1:</strong> 0.999999999966159"
      ],
      "text/latex": [
       "\\textbf{exam1:} 0.999999999966159"
      ],
      "text/markdown": [
       "**exam1:** 0.999999999966159"
      ],
      "text/plain": [
       "exam1 \n",
       "    1 "
      ]
     },
     "metadata": {},
     "output_type": "display_data"
    }
   ],
   "source": [
    "# 오즈비 계산\n",
    "odds_ratio <- exp(coef(model)[\"exam1\"])\n",
    "odds_ratio"
   ]
  },
  {
   "cell_type": "markdown",
   "id": "563c44fb-9c81-4a07-b66a-1c3eeb5539b0",
   "metadata": {},
   "source": [
    "# 위험비"
   ]
  },
  {
   "cell_type": "markdown",
   "id": "a227967d-1ec9-4984-aad4-90a9110a4bc1",
   "metadata": {},
   "source": [
    "$$HR = \\frac{\\lambda_1(t)}{\\lambda_0(t)} = \\exp(\\beta_1 X_1 + \\beta_2 X_2 + \\dots + \\beta_k X_k)$$"
   ]
  },
  {
   "cell_type": "markdown",
   "id": "8a565bd8-35f1-46aa-8a55-6ab5bfc3fe77",
   "metadata": {},
   "source": [
    "$\\lambda_1(t)$: 치료군의 위험도\n",
    "\n",
    "$\\lambda_0(t)$는 대조군의 위험도\n",
    "\n",
    "위험비는 치료군 대 대조군의 위험도 비율\n",
    "\n",
    "1보다 크면 치료군의 위험이 높겠고,\n",
    "\n",
    "1보다 작으면 대조군의 위험이 높겠고."
   ]
  },
  {
   "cell_type": "code",
   "execution_count": 32,
   "id": "31b69201-e02d-4d59-83d5-57b03981c52e",
   "metadata": {},
   "outputs": [
    {
     "name": "stderr",
     "output_type": "stream",
     "text": [
      "Warning message in data(lung):\n",
      "“data set ‘lung’ not found”\n"
     ]
    }
   ],
   "source": [
    "# 데이터 로딩\n",
    "data(lung)\n",
    "\n",
    "# Cox 모형 적합\n",
    "library(survival)\n",
    "fit <- coxph(Surv(time, status) ~ age + sex + ph.ecog + ph.karno + pat.karno + meal.cal + wt.loss, data = lung)"
   ]
  },
  {
   "cell_type": "code",
   "execution_count": 34,
   "id": "179af6a9-73a2-4124-925b-10ece2e8dcf0",
   "metadata": {},
   "outputs": [
    {
     "data": {
      "text/html": [
       "<style>\n",
       ".dl-inline {width: auto; margin:0; padding: 0}\n",
       ".dl-inline>dt, .dl-inline>dd {float: none; width: auto; display: inline-block}\n",
       ".dl-inline>dt::after {content: \":\\0020\"; padding-right: .5ex}\n",
       ".dl-inline>dt:not(:first-of-type) {padding-left: .5ex}\n",
       "</style><dl class=dl-inline><dt>age</dt><dd>1.0107060959455</dd><dt>sex</dt><dd>0.576458374699102</dd><dt>ph.ecog</dt><dd>2.08376570435143</dd><dt>ph.karno</dt><dd>1.02270907640951</dd><dt>pat.karno</dt><dd>0.987660215984953</dd><dt>meal.cal</dt><dd>1.00003329080755</dd><dt>wt.loss</dt><dd>0.985771582300398</dd></dl>\n"
      ],
      "text/latex": [
       "\\begin{description*}\n",
       "\\item[age] 1.0107060959455\n",
       "\\item[sex] 0.576458374699102\n",
       "\\item[ph.ecog] 2.08376570435143\n",
       "\\item[ph.karno] 1.02270907640951\n",
       "\\item[pat.karno] 0.987660215984953\n",
       "\\item[meal.cal] 1.00003329080755\n",
       "\\item[wt.loss] 0.985771582300398\n",
       "\\end{description*}\n"
      ],
      "text/markdown": [
       "age\n",
       ":   1.0107060959455sex\n",
       ":   0.576458374699102ph.ecog\n",
       ":   2.08376570435143ph.karno\n",
       ":   1.02270907640951pat.karno\n",
       ":   0.987660215984953meal.cal\n",
       ":   1.00003329080755wt.loss\n",
       ":   0.985771582300398\n",
       "\n"
      ],
      "text/plain": [
       "      age       sex   ph.ecog  ph.karno pat.karno  meal.cal   wt.loss \n",
       "1.0107061 0.5764584 2.0837657 1.0227091 0.9876602 1.0000333 0.9857716 "
      ]
     },
     "metadata": {},
     "output_type": "display_data"
    }
   ],
   "source": [
    "# Hazard Ratio 계산\n",
    "exp(coef(fit))"
   ]
  },
  {
   "cell_type": "code",
   "execution_count": null,
   "id": "ff2c573c-02e2-492b-96e3-ca2a14e44e19",
   "metadata": {},
   "outputs": [],
   "source": []
  },
  {
   "cell_type": "code",
   "execution_count": null,
   "id": "87431af0-9f85-4fb2-9856-3fe1f143d8ed",
   "metadata": {},
   "outputs": [],
   "source": []
  }
 ],
 "metadata": {
  "kernelspec": {
   "display_name": "R",
   "language": "R",
   "name": "ir"
  },
  "language_info": {
   "codemirror_mode": "r",
   "file_extension": ".r",
   "mimetype": "text/x-r-source",
   "name": "R",
   "pygments_lexer": "r",
   "version": "4.1.2"
  }
 },
 "nbformat": 4,
 "nbformat_minor": 5
}
