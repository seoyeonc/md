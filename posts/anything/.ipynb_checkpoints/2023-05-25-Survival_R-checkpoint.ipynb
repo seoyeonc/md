{
 "cells": [
  {
   "cell_type": "raw",
   "metadata": {},
   "source": [
    "---\n",
    "title: \"Survival Analysis Tutorial with R\"\n",
    "author: \"SEOYEON CHOI\"\n",
    "date: \"2023-05-25\"\n",
    "categories:\n",
    "  - Suvival\n",
    "  - Hazard Ratio\n",
    "  - Odds Ratio\n",
    "---"
   ]
  },
  {
   "cell_type": "code",
   "execution_count": 10,
   "metadata": {},
   "outputs": [
    {
     "ename": "ERROR",
     "evalue": "Error in library(survminer): there is no package called ‘survminer’\n",
     "output_type": "error",
     "traceback": [
      "Error in library(survminer): there is no package called ‘survminer’\nTraceback:\n",
      "1. library(survminer)"
     ]
    }
   ],
   "source": [
    "library(survival)\n",
    "library(survminer)\n",
    "library(epitools)\n",
    "\n",
    "library(tidyverse)\n",
    "library(ggplot2)\n",
    "library(dplyr)"
   ]
  },
  {
   "cell_type": "markdown",
   "metadata": {},
   "source": [
    "# Odds Ratio"
   ]
  },
  {
   "cell_type": "code",
   "execution_count": 7,
   "metadata": {},
   "outputs": [
    {
     "data": {
      "text/html": [
       "<table class=\"dataframe\">\n",
       "<caption>A data.frame: 6 × 10</caption>\n",
       "<thead>\n",
       "\t<tr><th></th><th scope=col>inst</th><th scope=col>time</th><th scope=col>status</th><th scope=col>age</th><th scope=col>sex</th><th scope=col>ph.ecog</th><th scope=col>ph.karno</th><th scope=col>pat.karno</th><th scope=col>meal.cal</th><th scope=col>wt.loss</th></tr>\n",
       "\t<tr><th></th><th scope=col>&lt;dbl&gt;</th><th scope=col>&lt;dbl&gt;</th><th scope=col>&lt;dbl&gt;</th><th scope=col>&lt;dbl&gt;</th><th scope=col>&lt;dbl&gt;</th><th scope=col>&lt;dbl&gt;</th><th scope=col>&lt;dbl&gt;</th><th scope=col>&lt;dbl&gt;</th><th scope=col>&lt;dbl&gt;</th><th scope=col>&lt;dbl&gt;</th></tr>\n",
       "</thead>\n",
       "<tbody>\n",
       "\t<tr><th scope=row>1</th><td> 3</td><td> 306</td><td>2</td><td>74</td><td>1</td><td>1</td><td> 90</td><td>100</td><td>1175</td><td>NA</td></tr>\n",
       "\t<tr><th scope=row>2</th><td> 3</td><td> 455</td><td>2</td><td>68</td><td>1</td><td>0</td><td> 90</td><td> 90</td><td>1225</td><td>15</td></tr>\n",
       "\t<tr><th scope=row>3</th><td> 3</td><td>1010</td><td>1</td><td>56</td><td>1</td><td>0</td><td> 90</td><td> 90</td><td>  NA</td><td>15</td></tr>\n",
       "\t<tr><th scope=row>4</th><td> 5</td><td> 210</td><td>2</td><td>57</td><td>1</td><td>1</td><td> 90</td><td> 60</td><td>1150</td><td>11</td></tr>\n",
       "\t<tr><th scope=row>5</th><td> 1</td><td> 883</td><td>2</td><td>60</td><td>1</td><td>0</td><td>100</td><td> 90</td><td>  NA</td><td> 0</td></tr>\n",
       "\t<tr><th scope=row>6</th><td>12</td><td>1022</td><td>1</td><td>74</td><td>1</td><td>1</td><td> 50</td><td> 80</td><td> 513</td><td> 0</td></tr>\n",
       "</tbody>\n",
       "</table>\n"
      ],
      "text/latex": [
       "A data.frame: 6 × 10\n",
       "\\begin{tabular}{r|llllllllll}\n",
       "  & inst & time & status & age & sex & ph.ecog & ph.karno & pat.karno & meal.cal & wt.loss\\\\\n",
       "  & <dbl> & <dbl> & <dbl> & <dbl> & <dbl> & <dbl> & <dbl> & <dbl> & <dbl> & <dbl>\\\\\n",
       "\\hline\n",
       "\t1 &  3 &  306 & 2 & 74 & 1 & 1 &  90 & 100 & 1175 & NA\\\\\n",
       "\t2 &  3 &  455 & 2 & 68 & 1 & 0 &  90 &  90 & 1225 & 15\\\\\n",
       "\t3 &  3 & 1010 & 1 & 56 & 1 & 0 &  90 &  90 &   NA & 15\\\\\n",
       "\t4 &  5 &  210 & 2 & 57 & 1 & 1 &  90 &  60 & 1150 & 11\\\\\n",
       "\t5 &  1 &  883 & 2 & 60 & 1 & 0 & 100 &  90 &   NA &  0\\\\\n",
       "\t6 & 12 & 1022 & 1 & 74 & 1 & 1 &  50 &  80 &  513 &  0\\\\\n",
       "\\end{tabular}\n"
      ],
      "text/markdown": [
       "\n",
       "A data.frame: 6 × 10\n",
       "\n",
       "| <!--/--> | inst &lt;dbl&gt; | time &lt;dbl&gt; | status &lt;dbl&gt; | age &lt;dbl&gt; | sex &lt;dbl&gt; | ph.ecog &lt;dbl&gt; | ph.karno &lt;dbl&gt; | pat.karno &lt;dbl&gt; | meal.cal &lt;dbl&gt; | wt.loss &lt;dbl&gt; |\n",
       "|---|---|---|---|---|---|---|---|---|---|---|\n",
       "| 1 |  3 |  306 | 2 | 74 | 1 | 1 |  90 | 100 | 1175 | NA |\n",
       "| 2 |  3 |  455 | 2 | 68 | 1 | 0 |  90 |  90 | 1225 | 15 |\n",
       "| 3 |  3 | 1010 | 1 | 56 | 1 | 0 |  90 |  90 |   NA | 15 |\n",
       "| 4 |  5 |  210 | 2 | 57 | 1 | 1 |  90 |  60 | 1150 | 11 |\n",
       "| 5 |  1 |  883 | 2 | 60 | 1 | 0 | 100 |  90 |   NA |  0 |\n",
       "| 6 | 12 | 1022 | 1 | 74 | 1 | 1 |  50 |  80 |  513 |  0 |\n",
       "\n"
      ],
      "text/plain": [
       "  inst time status age sex ph.ecog ph.karno pat.karno meal.cal wt.loss\n",
       "1  3    306 2      74  1   1        90      100       1175     NA     \n",
       "2  3    455 2      68  1   0        90       90       1225     15     \n",
       "3  3   1010 1      56  1   0        90       90         NA     15     \n",
       "4  5    210 2      57  1   1        90       60       1150     11     \n",
       "5  1    883 2      60  1   0       100       90         NA      0     \n",
       "6 12   1022 1      74  1   1        50       80        513      0     "
      ]
     },
     "metadata": {},
     "output_type": "display_data"
    }
   ],
   "source": [
    "head(lung) # survival package에 있는 lung 데이터 사용"
   ]
  },
  {
   "cell_type": "markdown",
   "metadata": {},
   "source": [
    "## 독립변수가 범주형변수일때"
   ]
  },
  {
   "cell_type": "markdown",
   "metadata": {},
   "source": [
    "ref : (odds ratio](https://en.wikipedia.org/wiki/Odds_ratio)"
   ]
  },
  {
   "cell_type": "markdown",
   "metadata": {},
   "source": [
    "A의 성공 확률 = $\\frac{P(A)}{1-P(A)}$\n",
    "\n",
    "B의 성공 확률 = $\\frac{P(B)}{1-P(B)}$\n",
    "\n",
    "Odds Ratio = A의 성공 확률 / B의 성공 확률\n",
    "\n",
    "= $\\frac{\\frac{P(A)}{1-P(A)}}{\\frac{P(B)}{1-P(B)}}$\n",
    "\n",
    "해석\n",
    "\n",
    "- 1보다 클 경우\n",
    "    - A집단의 성공할 확률이 B 집단이 성공할 확률보다 높다.\n",
    "- 1보다 작을 경우\n",
    "    - A집단의 성공할 확률이 B 집단이 성공할 확률보다 낮다.\n",
    "- 1일 경우\n",
    "    - A집단의 성공할 확률이 B 집단이 성공할 확률보다 같다."
   ]
  },
  {
   "cell_type": "code",
   "execution_count": 14,
   "metadata": {},
   "outputs": [],
   "source": [
    "tmp = lung"
   ]
  },
  {
   "cell_type": "code",
   "execution_count": 18,
   "metadata": {},
   "outputs": [],
   "source": [
    "tmp$tmp <- ifelse(lung$ph.karno < 70, 1, 0)"
   ]
  },
  {
   "cell_type": "code",
   "execution_count": 19,
   "metadata": {},
   "outputs": [
    {
     "data": {
      "text/html": [
       "<table class=\"dataframe\">\n",
       "<caption>A data.frame: 6 × 11</caption>\n",
       "<thead>\n",
       "\t<tr><th></th><th scope=col>inst</th><th scope=col>time</th><th scope=col>status</th><th scope=col>age</th><th scope=col>sex</th><th scope=col>ph.ecog</th><th scope=col>ph.karno</th><th scope=col>pat.karno</th><th scope=col>meal.cal</th><th scope=col>wt.loss</th><th scope=col>tmp</th></tr>\n",
       "\t<tr><th></th><th scope=col>&lt;dbl&gt;</th><th scope=col>&lt;dbl&gt;</th><th scope=col>&lt;dbl&gt;</th><th scope=col>&lt;dbl&gt;</th><th scope=col>&lt;dbl&gt;</th><th scope=col>&lt;dbl&gt;</th><th scope=col>&lt;dbl&gt;</th><th scope=col>&lt;dbl&gt;</th><th scope=col>&lt;dbl&gt;</th><th scope=col>&lt;dbl&gt;</th><th scope=col>&lt;dbl&gt;</th></tr>\n",
       "</thead>\n",
       "<tbody>\n",
       "\t<tr><th scope=row>1</th><td> 3</td><td> 306</td><td>2</td><td>74</td><td>1</td><td>1</td><td> 90</td><td>100</td><td>1175</td><td>NA</td><td>0</td></tr>\n",
       "\t<tr><th scope=row>2</th><td> 3</td><td> 455</td><td>2</td><td>68</td><td>1</td><td>0</td><td> 90</td><td> 90</td><td>1225</td><td>15</td><td>0</td></tr>\n",
       "\t<tr><th scope=row>3</th><td> 3</td><td>1010</td><td>1</td><td>56</td><td>1</td><td>0</td><td> 90</td><td> 90</td><td>  NA</td><td>15</td><td>0</td></tr>\n",
       "\t<tr><th scope=row>4</th><td> 5</td><td> 210</td><td>2</td><td>57</td><td>1</td><td>1</td><td> 90</td><td> 60</td><td>1150</td><td>11</td><td>0</td></tr>\n",
       "\t<tr><th scope=row>5</th><td> 1</td><td> 883</td><td>2</td><td>60</td><td>1</td><td>0</td><td>100</td><td> 90</td><td>  NA</td><td> 0</td><td>0</td></tr>\n",
       "\t<tr><th scope=row>6</th><td>12</td><td>1022</td><td>1</td><td>74</td><td>1</td><td>1</td><td> 50</td><td> 80</td><td> 513</td><td> 0</td><td>1</td></tr>\n",
       "</tbody>\n",
       "</table>\n"
      ],
      "text/latex": [
       "A data.frame: 6 × 11\n",
       "\\begin{tabular}{r|lllllllllll}\n",
       "  & inst & time & status & age & sex & ph.ecog & ph.karno & pat.karno & meal.cal & wt.loss & tmp\\\\\n",
       "  & <dbl> & <dbl> & <dbl> & <dbl> & <dbl> & <dbl> & <dbl> & <dbl> & <dbl> & <dbl> & <dbl>\\\\\n",
       "\\hline\n",
       "\t1 &  3 &  306 & 2 & 74 & 1 & 1 &  90 & 100 & 1175 & NA & 0\\\\\n",
       "\t2 &  3 &  455 & 2 & 68 & 1 & 0 &  90 &  90 & 1225 & 15 & 0\\\\\n",
       "\t3 &  3 & 1010 & 1 & 56 & 1 & 0 &  90 &  90 &   NA & 15 & 0\\\\\n",
       "\t4 &  5 &  210 & 2 & 57 & 1 & 1 &  90 &  60 & 1150 & 11 & 0\\\\\n",
       "\t5 &  1 &  883 & 2 & 60 & 1 & 0 & 100 &  90 &   NA &  0 & 0\\\\\n",
       "\t6 & 12 & 1022 & 1 & 74 & 1 & 1 &  50 &  80 &  513 &  0 & 1\\\\\n",
       "\\end{tabular}\n"
      ],
      "text/markdown": [
       "\n",
       "A data.frame: 6 × 11\n",
       "\n",
       "| <!--/--> | inst &lt;dbl&gt; | time &lt;dbl&gt; | status &lt;dbl&gt; | age &lt;dbl&gt; | sex &lt;dbl&gt; | ph.ecog &lt;dbl&gt; | ph.karno &lt;dbl&gt; | pat.karno &lt;dbl&gt; | meal.cal &lt;dbl&gt; | wt.loss &lt;dbl&gt; | tmp &lt;dbl&gt; |\n",
       "|---|---|---|---|---|---|---|---|---|---|---|---|\n",
       "| 1 |  3 |  306 | 2 | 74 | 1 | 1 |  90 | 100 | 1175 | NA | 0 |\n",
       "| 2 |  3 |  455 | 2 | 68 | 1 | 0 |  90 |  90 | 1225 | 15 | 0 |\n",
       "| 3 |  3 | 1010 | 1 | 56 | 1 | 0 |  90 |  90 |   NA | 15 | 0 |\n",
       "| 4 |  5 |  210 | 2 | 57 | 1 | 1 |  90 |  60 | 1150 | 11 | 0 |\n",
       "| 5 |  1 |  883 | 2 | 60 | 1 | 0 | 100 |  90 |   NA |  0 | 0 |\n",
       "| 6 | 12 | 1022 | 1 | 74 | 1 | 1 |  50 |  80 |  513 |  0 | 1 |\n",
       "\n"
      ],
      "text/plain": [
       "  inst time status age sex ph.ecog ph.karno pat.karno meal.cal wt.loss tmp\n",
       "1  3    306 2      74  1   1        90      100       1175     NA      0  \n",
       "2  3    455 2      68  1   0        90       90       1225     15      0  \n",
       "3  3   1010 1      56  1   0        90       90         NA     15      0  \n",
       "4  5    210 2      57  1   1        90       60       1150     11      0  \n",
       "5  1    883 2      60  1   0       100       90         NA      0      0  \n",
       "6 12   1022 1      74  1   1        50       80        513      0      1  "
      ]
     },
     "metadata": {},
     "output_type": "display_data"
    }
   ],
   "source": [
    "head(tmp)"
   ]
  },
  {
   "cell_type": "code",
   "execution_count": 20,
   "metadata": {},
   "outputs": [
    {
     "data": {
      "text/plain": [
       "   \n",
       "      0   1\n",
       "  1 122  15\n",
       "  2  80  10"
      ]
     },
     "metadata": {},
     "output_type": "display_data"
    }
   ],
   "source": [
    "table(tmp$sex, tmp$tmp)"
   ]
  },
  {
   "cell_type": "markdown",
   "metadata": {},
   "source": [
    "위의 표에서 tmp 가 0인 것이 성공, 1인 것이 실패로 보고, A집단이 성별 = 1, B집단이 성별 = 2로 본다면 오즈비는 아래와 같이 계산된다."
   ]
  },
  {
   "cell_type": "code",
   "execution_count": 21,
   "metadata": {},
   "outputs": [
    {
     "data": {
      "text/html": [
       "8.13333333333333"
      ],
      "text/latex": [
       "8.13333333333333"
      ],
      "text/markdown": [
       "8.13333333333333"
      ],
      "text/plain": [
       "[1] 8.133333"
      ]
     },
     "metadata": {},
     "output_type": "display_data"
    }
   ],
   "source": [
    "# A의 성공 확률\n",
    "(122/137)/(15/137)\n",
    "# = (122/137)/((137-122)/137)"
   ]
  },
  {
   "cell_type": "code",
   "execution_count": 22,
   "metadata": {},
   "outputs": [
    {
     "data": {
      "text/html": [
       "8"
      ],
      "text/latex": [
       "8"
      ],
      "text/markdown": [
       "8"
      ],
      "text/plain": [
       "[1] 8"
      ]
     },
     "metadata": {},
     "output_type": "display_data"
    }
   ],
   "source": [
    "# B의 성공 확률\n",
    "(80/90)/(10/90)\n",
    "# = (80/90)/((80-10)/90)"
   ]
  },
  {
   "cell_type": "code",
   "execution_count": 23,
   "metadata": {},
   "outputs": [
    {
     "data": {
      "text/html": [
       "1.01666666666667"
      ],
      "text/latex": [
       "1.01666666666667"
      ],
      "text/markdown": [
       "1.01666666666667"
      ],
      "text/plain": [
       "[1] 1.016667"
      ]
     },
     "metadata": {},
     "output_type": "display_data"
    }
   ],
   "source": [
    "# 오즈비\n",
    "((122/137)/(15/137))/((80/90)/(10/90))"
   ]
  },
  {
   "cell_type": "code",
   "execution_count": 24,
   "metadata": {},
   "outputs": [
    {
     "ename": "ERROR",
     "evalue": "Error in oddsratio.wald(table(tmp$sex, tmp$tmp)): could not find function \"oddsratio.wald\"\n",
     "output_type": "error",
     "traceback": [
      "Error in oddsratio.wald(table(tmp$sex, tmp$tmp)): could not find function \"oddsratio.wald\"\nTraceback:\n"
     ]
    }
   ],
   "source": [
    "rst <- oddsratio.wald(table(tmp$sex, tmp$tmp))\n",
    "rst"
   ]
  },
  {
   "cell_type": "code",
   "execution_count": 25,
   "metadata": {},
   "outputs": [
    {
     "ename": "ERROR",
     "evalue": "Error in eval(expr, envir, enclos): object 'rst' not found\n",
     "output_type": "error",
     "traceback": [
      "Error in eval(expr, envir, enclos): object 'rst' not found\nTraceback:\n"
     ]
    }
   ],
   "source": [
    "rst$data"
   ]
  },
  {
   "cell_type": "code",
   "execution_count": 26,
   "metadata": {},
   "outputs": [
    {
     "ename": "ERROR",
     "evalue": "Error in eval(expr, envir, enclos): object 'rst' not found\n",
     "output_type": "error",
     "traceback": [
      "Error in eval(expr, envir, enclos): object 'rst' not found\nTraceback:\n"
     ]
    }
   ],
   "source": [
    "rst$measure # Odds Ratio"
   ]
  },
  {
   "cell_type": "markdown",
   "metadata": {},
   "source": [
    "1보다 크게 나왔으니까 sex=1인 집단이 성공할 활률이 sex=2인 집단이 성공할 확률보다 높다."
   ]
  },
  {
   "cell_type": "code",
   "execution_count": null,
   "metadata": {},
   "outputs": [],
   "source": [
    "rst$p.value # fisher or chi-square test result"
   ]
  },
  {
   "cell_type": "markdown",
   "metadata": {},
   "source": [
    "p값이 0.05보다 높게 나와 오즈비가 유의하지 않다는 것을 알 수 있다."
   ]
  },
  {
   "cell_type": "code",
   "execution_count": null,
   "metadata": {},
   "outputs": [],
   "source": [
    "rst$correction # correction "
   ]
  },
  {
   "cell_type": "markdown",
   "metadata": {},
   "source": [
    "## 독립변수가 연속형변수일때"
   ]
  },
  {
   "cell_type": "markdown",
   "metadata": {},
   "source": [
    "독립변수를 연속형 변수로, 종속변수를 이산형(0 또는 1)`binomial`으로 지정한 일반화 선형 모형을 사용할 것이다.\n"
   ]
  },
  {
   "cell_type": "markdown",
   "metadata": {},
   "source": [
    "::: {.callout-tip}\n",
    "물론 아래 방식은 독립변수가 범주형 변수일때도 사용 가능하다.\n",
    "\n",
    "하지만 독립변수가 연속형 변수일때 독립변수가 범주형일때 사용한 방법으로는 사용이 불가능하다.\n",
    ":::"
   ]
  },
  {
   "cell_type": "code",
   "execution_count": null,
   "metadata": {},
   "outputs": [],
   "source": [
    "model <- glm(tmp ~ wt.loss, data = tmp, family = binomial)\n",
    "summary(model)"
   ]
  },
  {
   "cell_type": "code",
   "execution_count": null,
   "metadata": {},
   "outputs": [],
   "source": [
    "odds_ratio <- exp(coef(model))[[2]] # 오즈비\n",
    "ci_lower <- exp(confint(model))[2,][1] # 95% 신뢰구간 하한\n",
    "ci_upper <- exp(confint(model))[2,][2] # 95% 신뢰구간 상한\n",
    "list(odds_ratio=odds_ratio,ci_lower=ci_lower,ci_upper=ci_upper)"
   ]
  },
  {
   "cell_type": "markdown",
   "metadata": {},
   "source": [
    "## Odds Ratio Plot"
   ]
  },
  {
   "cell_type": "markdown",
   "metadata": {},
   "source": [
    "Data Ref: [stackoverflow](https://stackoverflow.com/questions/47085514/simple-way-to-visualise-odds-ratios-in-r)\n",
    "\n",
    "and Odds plot code made by me"
   ]
  },
  {
   "cell_type": "code",
   "execution_count": null,
   "metadata": {},
   "outputs": [],
   "source": [
    "df <- data.frame(yAxis = length(boxLabels):1, \n",
    "                 boxOdds = log(c(0.9410685, \n",
    "                                 0.6121181, 1.1232907, 1.2222137, 0.4712629, 0.9376822, 1.0010816, \n",
    "                                 0.7121452)), \n",
    "                 boxCILow = c(-0.1789719, -0.8468693,-0.00109809, 0.09021224,\n",
    "                              -1.0183040, -0.2014975, -0.1001832,-0.4695449), \n",
    "                 boxCIHigh = c(0.05633076, -0.1566818, 0.2326694, 0.3104405, \n",
    "                               -0.4999281, 0.07093752, 0.1018351, -0.2113544)"
   ]
  },
  {
   "cell_type": "code",
   "execution_count": null,
   "metadata": {},
   "outputs": [],
   "source": [
    "ggplot(data = df,\n",
    "       mapping = aes(y = forcats::fct_rev(f = forcats::fct_inorder(f = boxLabels)))) +\n",
    "  geom_point(aes(x = boxOdds),size = 1.5, color = \"black\")+\n",
    "  geom_errorbarh(aes(xmax = boxCIHigh, xmin = boxCILow), size = .5, height = .2, color = \"gray50\") +\n",
    "  theme_classic()+\n",
    "  geom_vline(xintercept = 1) + # 오즈비는 1을 기준으로 보기 때문에 1의 수직선을 그려줘야 한다.\n",
    "  theme(panel.grid.minor = element_blank()) +\n",
    "  labs(x = \"\",  y = \"\", title = \"Odds ratio plot\") + \n",
    "  scale_y_discrete(labels = boxLabels)"
   ]
  },
  {
   "cell_type": "markdown",
   "metadata": {},
   "source": [
    "``` R\n",
    "# the method of save ggplot file\n",
    "# You can allocate path\n",
    "ggsave(file= paste0(path,\"name.png\", sep=''), width=15, height=8, units = c(\"cm\"))\n",
    "````"
   ]
  },
  {
   "cell_type": "markdown",
   "metadata": {},
   "source": [
    "# Hazard Ratio"
   ]
  },
  {
   "cell_type": "code",
   "execution_count": null,
   "metadata": {},
   "outputs": [],
   "source": [
    "head(ovarian) # survival 패키지에 내장된 데이터 사용"
   ]
  },
  {
   "cell_type": "markdown",
   "metadata": {},
   "source": [
    "데이터 설명\n",
    "\n",
    "- futime:\tsurvival or censoring time\n",
    "- fustat:\tcensoring status\n",
    "- age:\tin years\n",
    "- resid.ds:\tresidual disease present (1=no,2=yes)\n",
    "- rx:\ttreatment group\n",
    "- ecog.ps:\tECOG performance status (1 is better, see reference)"
   ]
  },
  {
   "cell_type": "markdown",
   "metadata": {},
   "source": [
    "간단한 모형 설정\n",
    "\n",
    "- Surv()에 시간 `time`과  사건 `event`를 지정해주고 다변량 변수로서 rx와 age를 지정해주었다."
   ]
  },
  {
   "cell_type": "code",
   "execution_count": null,
   "metadata": {},
   "outputs": [],
   "source": [
    "summary(coxph(Surv(time = futime, event = fustat) ~ as.factor(rx) + age, data=ovarian))"
   ]
  },
  {
   "cell_type": "markdown",
   "metadata": {},
   "source": [
    "::: {.callout-note}\n",
    "`as.factor`는 R에서 R의 변수로서 인식하도록 변환해준 것이라 보면 된다.\n",
    ":::"
   ]
  },
  {
   "cell_type": "markdown",
   "metadata": {},
   "source": [
    "### 단변량을 여러개 한 번에 보고 싶을때"
   ]
  },
  {
   "cell_type": "markdown",
   "metadata": {},
   "source": [
    "::: {.callout-note}\n",
    "물론 다변량으로 확장 가능한 코드이다.\n",
    ":::"
   ]
  },
  {
   "cell_type": "code",
   "execution_count": null,
   "metadata": {},
   "outputs": [],
   "source": [
    "cova <- c(\"resid.ds\",\"rx\",\"age\") # 보고 싶은 단변량 변수명을 입력한다."
   ]
  },
  {
   "cell_type": "code",
   "execution_count": null,
   "metadata": {},
   "outputs": [],
   "source": [
    "univ <- lapply(cova, function(x) as.formula(paste('Surv(time = futime, event = fustat)~', x)))\n",
    "univ\n",
    "# 아래의 리스트를 생성\n",
    "# Surv(time = futime, event = fustat) ~ resid.ds\n",
    "# Surv(time = futime, event = fustat) ~ rx\n",
    "# Surv(time = futime, event = fustat) ~ age"
   ]
  },
  {
   "cell_type": "markdown",
   "metadata": {},
   "source": [
    "::: {.callout-tip}\n",
    "`lapply`\n",
    "\n",
    "- 리스트 또는 벡터와 같은 객체에 함수를 적용하는 데 사용\n",
    ":::"
   ]
  },
  {
   "cell_type": "code",
   "execution_count": null,
   "metadata": {},
   "outputs": [],
   "source": [
    "univ_rst <- lapply(univ, function(x) {\n",
    "  model <- coxph(x, data = ovarian)\n",
    "  summary <- summary(model)\n",
    "  HR <- summary$coef[2]  # Hazard ratio\n",
    "  CI_lower <- summary$conf.int[,\"lower .95\"]  # Lower bound of confidence interval\n",
    "  CI_upper <- summary$conf.int[,\"upper .95\"]  # Upper bound of confidence interval\n",
    "  p_value <- summary$wald[\"pvalue\"]  # P-value\n",
    "  tab <- c(HR, CI_lower, CI_upper)\n",
    "  names(tab) <- c(\"HR\", \"lower\", \"upper\")\n",
    "  return(tab)\n",
    "})"
   ]
  },
  {
   "cell_type": "markdown",
   "metadata": {},
   "source": [
    "콕스 비례 모형\n",
    "\n",
    "- 생존 분석에서 쓰이는 통계 모형\n",
    "- 준모수적 방법 이용하여 생존함수 추정\n",
    "- 기본 가정: 비례위험은 시간에 상관없이 어떤 변수의 위험비가 항상 일정하다."
   ]
  },
  {
   "cell_type": "markdown",
   "metadata": {},
   "source": [
    "ref: [콕스 비례 모형](https://ko.wikipedia.org/wiki/%EB%B9%84%EB%A1%80%EC%9C%84%ED%97%98%EB%AA%A8%ED%98%95)"
   ]
  },
  {
   "cell_type": "code",
   "execution_count": null,
   "metadata": {},
   "outputs": [],
   "source": [
    "univ_rst # 리스트별로 Hazard Rtio, 95% 신뢰구간을 구했다."
   ]
  },
  {
   "cell_type": "code",
   "execution_count": null,
   "metadata": {},
   "outputs": [],
   "source": [
    "tab <- data.frame(t(data.frame(univ_rst, check.names = FALSE)))\n",
    "# check.names = FALSE는 유효한 변수명인지 확인하지 말라는 옵션, 기본은 TRUE다.\n",
    "tab"
   ]
  },
  {
   "cell_type": "markdown",
   "metadata": {},
   "source": [
    "## Hazard Ratio Plot"
   ]
  },
  {
   "cell_type": "code",
   "execution_count": null,
   "metadata": {},
   "outputs": [],
   "source": [
    "df <- data.frame(yAxis = length(cova):1, # 그래프에 그려지는 변수의 순서를 지정해주기 위함\n",
    "                 boxhz = tab$HR,\n",
    "                 boxCILow = tab$lower,\n",
    "                 boxCIHigh = tab$upper)"
   ]
  },
  {
   "cell_type": "code",
   "execution_count": null,
   "metadata": {},
   "outputs": [],
   "source": [
    "ggplot(data = df,\n",
    "       mapping = aes(y = forcats::fct_rev(f = forcats::fct_inorder(f = cova)))) +\n",
    "  geom_point(aes(x = boxhz), size = 1.5, color = \"black\")+\n",
    "  geom_errorbarh(aes(xmax = boxCIHigh, xmin = boxCILow), size = .5, height = .2, color = \"gray50\") +\n",
    "  theme_classic()+\n",
    "  geom_vline(xintercept = 1) +\n",
    "  theme(panel.grid.minor = element_blank()) +\n",
    "  labs(x = \"\",  y = \"\", title = \"Hazard ratio plot\")  +\n",
    "  scale_y_discrete(labels = rev(c('residual disease present (1=no,2=yes)',\n",
    "                                  'treatment group',\n",
    "                                  'in years')))"
   ]
  },
  {
   "cell_type": "markdown",
   "metadata": {},
   "source": [
    "# Survival Analysis"
   ]
  },
  {
   "cell_type": "markdown",
   "metadata": {},
   "source": [
    "카플란-마이어 생존분석\n",
    "\n",
    "- 시간에 따른 생존 비율 추정\n",
    "- 비모수적 분석방법"
   ]
  },
  {
   "cell_type": "code",
   "execution_count": null,
   "metadata": {},
   "outputs": [],
   "source": [
    "Surv(time = lung$time, event = lung$status)"
   ]
  },
  {
   "cell_type": "code",
   "execution_count": null,
   "metadata": {},
   "outputs": [],
   "source": [
    "plot(Surv(time = lung$time, event = lung$status))"
   ]
  },
  {
   "cell_type": "markdown",
   "metadata": {},
   "source": [
    "## Log-Rank Test"
   ]
  },
  {
   "cell_type": "markdown",
   "metadata": {},
   "source": [
    "- 카플란-마이어 생존분석에서 나온 생존 함수가 유의하게 다른지 검정하는 방법\n",
    "- 서로 다른 두 집단의 생존률(사건 발생률)을 비교하는 비모수적 가설 검정법\n",
    "- `survdiff`는 집단 간의 생존함수를 비교하기 위해 사용\n",
    "- p값이 0.05보다 작을 경우 생존 곡선 간에 차이가 있는 것으로 본다."
   ]
  },
  {
   "cell_type": "code",
   "execution_count": null,
   "metadata": {},
   "outputs": [],
   "source": [
    "survdiff(Surv(time = time, event = status) ~ sex, data=lung) # lung 데이터에서 성별에 따른 생존곡선 차이 비교"
   ]
  },
  {
   "cell_type": "markdown",
   "metadata": {},
   "source": [
    "p 값이 0.0001로 나와 생존 곡선 간에 차이가 있다는 것을 알 수 있다."
   ]
  },
  {
   "cell_type": "markdown",
   "metadata": {},
   "source": [
    "## Survival plot"
   ]
  },
  {
   "cell_type": "markdown",
   "metadata": {},
   "source": [
    "Ref : [ggkm](https://gist.github.com/araastat/9927677)"
   ]
  },
  {
   "cell_type": "code",
   "execution_count": null,
   "metadata": {},
   "outputs": [],
   "source": [
    "ggkm <- function(sfit, returns = FALSE,\n",
    "xlabs = \"Time\", ylabs = \"survival probability\",\n",
    "ystratalabs = NULL, ystrataname = NULL,\n",
    "timeby = 100, main = \"Kaplan-Meier Plot\",\n",
    "pval = TRUE, ...) {\n",
    "require(plyr)\n",
    "require(ggplot2)\n",
    "require(survival)\n",
    "require(gridExtra)\n",
    "if(is.null(ystratalabs)) {\n",
    "   ystratalabs <- as.character(levels(summary(sfit)$strata))\n",
    "}\n",
    "m <- max(nchar(ystratalabs))\n",
    "if(is.null(ystrataname)) ystrataname <- \"Strata\"\n",
    "times <- seq(0, max(sfit$time), by = timeby)\n",
    ".df <- data.frame(time = sfit$time, n.risk = sfit$n.risk,\n",
    "    n.event = sfit$n.event, surv = sfit$surv, strata = summary(sfit, censored = T)$strata,\n",
    "    upper = sfit$upper, lower = sfit$lower)\n",
    "levels(.df$strata) <- ystratalabs\n",
    "zeros <- data.frame(time = 0, surv = 1, strata = factor(ystratalabs, levels=levels(.df$strata)),\n",
    "    upper = 1, lower = 1)\n",
    ".df <- rbind.fill(zeros, .df)\n",
    "d <- length(levels(.df$strata))\n",
    "p <- ggplot(.df, aes(time, surv, group = strata)) +\n",
    "    geom_step(aes(linetype = strata), size = 0.7) +\n",
    "    theme_bw() +\n",
    "    theme(axis.title.x = element_text(vjust = 0.5)) +\n",
    "    scale_x_continuous(xlabs, breaks = times, limits = c(0, max(sfit$time))) +\n",
    "    scale_y_continuous(ylabs, limits = c(0, 1)) +\n",
    "    theme(panel.grid.minor = element_blank()) +\n",
    "    theme(legend.position = c(ifelse(m < 10, .28, .35), ifelse(d < 4, .25, .35))) +\n",
    "    theme(legend.key = element_rect(colour = NA)) +\n",
    "    labs(linetype = ystrataname) +\n",
    "    theme(plot.margin = unit(c(0, 1, .5, ifelse(m < 10, 1.5, 2.5)), \"lines\")) +\n",
    "    ggtitle(main)\n",
    " \n",
    "if(pval) {\n",
    "    sdiff <- survdiff(eval(sfit$call$formula), data = eval(sfit$call$data))\n",
    "    pval <- pchisq(sdiff$chisq, length(sdiff$n)-1, lower.tail = FALSE)\n",
    "    pvaltxt <- ifelse(pval < 0.0001, \"p < 0.0001\", paste(\"p =\", sprintf(\"%.4f\", pval) ))\n",
    "    p <- p + annotate(\"text\", x = 0.6 * max(sfit$time), y = 0.1, label = pvaltxt)\n",
    "}\n",
    "## Plotting the graphs\n",
    "    print(p)\n",
    "    if(returns) return(p)\n",
    "   \n",
    "}"
   ]
  },
  {
   "cell_type": "markdown",
   "metadata": {},
   "source": [
    "사용법"
   ]
  },
  {
   "cell_type": "code",
   "execution_count": null,
   "metadata": {},
   "outputs": [],
   "source": [
    "labs=paste(\"성별\",c(\"Male\",\"Female\"))  # legend 항목 지정 test-ref 순\n",
    "strataname=paste(\"Sex\") # legend 명 지정"
   ]
  },
  {
   "cell_type": "code",
   "execution_count": null,
   "metadata": {},
   "outputs": [],
   "source": [
    "lung$temp=ifelse(lung$sex==2,0,1) # Ref 지정, Ref=0, Test-Ref 순으로 그래프가 그려짐\n",
    "# 여기서는 여성(sex=2)를 ref로 지정해주었다."
   ]
  },
  {
   "cell_type": "markdown",
   "metadata": {},
   "source": [
    "::: {.callout-note}\n",
    "변수에 ref가 지정되지 않으면 결과 해석에 혼동이 있을 수 있으니 ref 지정이 필요\n",
    ":::"
   ]
  },
  {
   "cell_type": "code",
   "execution_count": null,
   "metadata": {},
   "outputs": [],
   "source": [
    "fit=survfit(Surv(time = time, event = status)~temp ,data=lung)\n",
    "\n",
    "fit"
   ]
  },
  {
   "cell_type": "code",
   "execution_count": null,
   "metadata": {},
   "outputs": [],
   "source": [
    "ggkm(fit,timeby=500,ystratalabs=labs,ystrataname=strataname, main = 'Survival', ylab='Event')"
   ]
  },
  {
   "cell_type": "markdown",
   "metadata": {},
   "source": [
    "참고로, 아래와 같이 `summary` 해주면 단변량의 항목별로 시간별로 볼 수 있다."
   ]
  },
  {
   "cell_type": "code",
   "execution_count": null,
   "metadata": {},
   "outputs": [],
   "source": [
    "summary(fit)"
   ]
  },
  {
   "cell_type": "markdown",
   "metadata": {},
   "source": []
  },
  {
   "cell_type": "markdown",
   "metadata": {},
   "source": []
  },
  {
   "cell_type": "markdown",
   "metadata": {},
   "source": []
  },
  {
   "cell_type": "markdown",
   "metadata": {},
   "source": []
  },
  {
   "cell_type": "markdown",
   "metadata": {},
   "source": []
  },
  {
   "cell_type": "markdown",
   "metadata": {},
   "source": []
  },
  {
   "cell_type": "markdown",
   "metadata": {},
   "source": []
  },
  {
   "cell_type": "markdown",
   "metadata": {},
   "source": []
  },
  {
   "cell_type": "markdown",
   "metadata": {},
   "source": []
  }
 ],
 "metadata": {
  "kernelspec": {
   "display_name": "R",
   "language": "R",
   "name": "ir"
  },
  "language_info": {
   "codemirror_mode": "r",
   "file_extension": ".r",
   "mimetype": "text/x-r-source",
   "name": "R",
   "pygments_lexer": "r",
   "version": "4.3.0"
  }
 },
 "nbformat": 4,
 "nbformat_minor": 4
}
