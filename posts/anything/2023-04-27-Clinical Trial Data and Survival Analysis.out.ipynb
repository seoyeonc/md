{
  "cells": [
    {
      "cell_type": "markdown",
      "metadata": {},
      "source": [
        "# Clinical Trial Data and Survival Analysis\n",
        "\n",
        "SEOYEON CHOI  \n",
        "2023-04-27\n",
        "\n",
        "> Clinical Trial Data and Survival Analysis\n",
        "\n",
        "# Cox 회귀모형\\[@배종성2006임상시험자료와\\]\n",
        "\n",
        "Cox(1972)는 위험함수에 의한 비례위험모형(proportional hazard model)을\n",
        "제안하였다. 이는 준모수적(semiparametric)방법으로, 생존시간의 분포에\n",
        "대한 가정을 하지 않을 뿐만 아니라, 시간에 따라 변하는 공변량(time\n",
        "dependent variable)이 있는 경우에도 적용가능하기 때문에 생존분석에서\n",
        "자주 사용되고 있다.\n",
        "\n",
        "p개의 공변량을 가진 cox 회귀모형\n",
        "\n",
        "$$h(t) = h_0(t)exp(\\beta_1 x_1 + \\dots + \\beta_p x_p)$$\n",
        "\n",
        "$h_0(t)$는 모든 공변량 값들이 0일 때의 baseline haxart\n",
        "function(기저위험함수)\n",
        "\n",
        "비례위험모형이란 시간에 대해 두 개체 간 위험률(아래)이 일정, 즉 상수 값\n",
        "산출\n",
        "\n",
        "$\\frac{h(t|x_1)}{h(t|x_2)} = \\frac{exp(\\beta' x_1}{exp(\\beta' x_2}$\n",
        "\n",
        "비례위험 가정 만족 시, 개체 간 생존 시간 분포 곡선은 평행, 모형에서\n",
        "만족해야 함\n",
        "\n",
        "모든 개체에서 기저 위험인 $h_0(t)$는 공통으로 가지고 있지만\n",
        "상대위험(relative risk)인 $exp(\\beta'x)$는 각 개체들의 상대적 위험도를\n",
        "나타냄\n",
        "\n",
        "$exp(\\beta'x)$를 통해 모수 $\\beta_j$의 해석이 이뤄지고, 이 $\\beta_j$는\n",
        "공변량 $x_j$의 한 단위 증가에 따른 상대위험 정도를 나타냄\n",
        "\n",
        "생존확률을 그림으로 나타내었을때 기저위험baseline hazard 가 다를때, 즉\n",
        "곡선이 평행라지 않는다면 cox의 회귀분석의 비례위험모형 가정에 위배되어\n",
        "그룹별로 층화된 모형 고려해야 함."
      ],
      "id": "67730f9c-f341-4ab3-820c-8eeb23f661a9"
    }
  ],
  "nbformat": 4,
  "nbformat_minor": 5,
  "metadata": {
    "kernelspec": {
      "name": "python3",
      "display_name": "Python 3",
      "language": "python"
    },
    "language_info": {
      "name": "python",
      "codemirror_mode": {
        "name": "ipython",
        "version": "3"
      },
      "file_extension": ".py",
      "mimetype": "text/x-python",
      "nbconvert_exporter": "python",
      "pygments_lexer": "ipython3",
      "version": "3.8.0"
    }
  }
}