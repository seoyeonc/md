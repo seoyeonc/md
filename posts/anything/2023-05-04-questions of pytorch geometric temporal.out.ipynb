{
  "cells": [
    {
      "cell_type": "markdown",
      "metadata": {},
      "source": [
        "# Questions of PyTorch Geometric Temporal\n",
        "\n",
        "SEOYEON CHOI  \n",
        "5/4/23\n",
        "\n",
        "> PyTorch Geometric Temporal\n",
        "\n",
        "# PyTorch Geometric Temporal: Spatiotemporal Signal Processing with Neural Machine Learning Models\n",
        "\n",
        "Reference: [Paper](https://arxiv.org/pdf/2104.07788.pdf),\n",
        "[Website](https://pytorch-geometric-temporal.readthedocs.io/en/latest/notes/introduction.html?highlight=web#web-traffic-prediction)\n",
        "\n",
        "## Applications\n",
        "\n",
        "### Epidemiological Forecasting"
      ],
      "id": "6e6f36bc-ad71-417b-ab73-14b518275be3"
    },
    {
      "cell_type": "code",
      "execution_count": 1,
      "metadata": {},
      "outputs": [],
      "source": [
        "from torch_geometric_temporal.dataset import ChickenpoxDatasetLoader\n",
        "from torch_geometric_temporal.signal import temporal_signal_split\n",
        "\n",
        "loader = ChickenpoxDatasetLoader()\n",
        "\n",
        "dataset = loader.get_dataset()\n",
        "\n",
        "train_dataset, test_dataset = temporal_signal_split(dataset, train_ratio=0.2)"
      ],
      "id": "da3b5654-e02a-4825-bafe-98aac95e63db"
    },
    {
      "cell_type": "code",
      "execution_count": 2,
      "metadata": {},
      "outputs": [],
      "source": [
        "import torch\n",
        "import torch.nn.functional as F\n",
        "from torch_geometric_temporal.nn.recurrent import DCRNN\n",
        "\n",
        "class RecurrentGCN(torch.nn.Module):\n",
        "    def __init__(self, node_features):\n",
        "        super(RecurrentGCN, self).__init__()\n",
        "        self.recurrent = DCRNN(node_features, 32, 1)\n",
        "        self.linear = torch.nn.Linear(32, 1)\n",
        "\n",
        "    def forward(self, x, edge_index, edge_weight):\n",
        "        h = self.recurrent(x, edge_index, edge_weight)\n",
        "        h = F.relu(h)\n",
        "        h = self.linear(h)\n",
        "        return h"
      ],
      "id": "d24c67ef-b1c9-4244-867a-e89a86ba75d8"
    },
    {
      "cell_type": "code",
      "execution_count": 3,
      "metadata": {},
      "outputs": [
        {
          "output_type": "stream",
          "name": "stderr",
          "text": [
            "100%|██████████| 200/200 [02:40<00:00,  1.24it/s]"
          ]
        },
        {
          "output_type": "stream",
          "name": "stdout",
          "text": [
            "torch.Size([20, 1]) torch.Size([20]) torch.Size([20, 20])"
          ]
        },
        {
          "output_type": "stream",
          "name": "stderr",
          "text": []
        }
      ],
      "source": [
        "from tqdm import tqdm\n",
        "\n",
        "model = RecurrentGCN(node_features = 4)\n",
        "\n",
        "optimizer = torch.optim.Adam(model.parameters(), lr=0.01)\n",
        "\n",
        "model.train()\n",
        "\n",
        "for epoch in tqdm(range(200)):\n",
        "    cost = 0\n",
        "    for time, snapshot in enumerate(train_dataset):\n",
        "        y_hat = model(snapshot.x, snapshot.edge_index, snapshot.edge_attr)\n",
        "        cost = cost + torch.mean((y_hat-snapshot.y)**2)\n",
        "    cost = cost / (time+1)\n",
        "    cost.backward()\n",
        "    optimizer.step()\n",
        "    optimizer.zero_grad()\n",
        "    \n",
        "    \n",
        "###########################################################\n",
        "# I added this to check the shape.\n",
        "print(y_hat.shape,snapshot.y.shape,(y_hat-snapshot.y).shape)"
      ],
      "id": "3cdebb39-81cf-4143-bef3-d626714461d5"
    },
    {
      "cell_type": "code",
      "execution_count": 4,
      "metadata": {},
      "outputs": [
        {
          "output_type": "stream",
          "name": "stdout",
          "text": [
            "MSE: 1.0247"
          ]
        }
      ],
      "source": [
        "model.eval()\n",
        "cost = 0\n",
        "for time, snapshot in enumerate(test_dataset):\n",
        "    y_hat = model(snapshot.x, snapshot.edge_index, snapshot.edge_attr)\n",
        "    cost = cost + torch.mean((y_hat-snapshot.y)**2)\n",
        "cost = cost / (time+1)\n",
        "cost = cost.item()\n",
        "print(\"MSE: {:.4f}\".format(cost))\n",
        "# >>> MSE: 1.0232"
      ],
      "id": "5dc5a4f0-2393-4131-90b4-a51193b1b78f"
    },
    {
      "cell_type": "markdown",
      "metadata": {},
      "source": [
        "------------------------------------------------------------------------\n",
        "\n",
        "#### Shape Check (1)"
      ],
      "id": "08537494-c07e-4c40-a5a6-12719ebb5560"
    },
    {
      "cell_type": "code",
      "execution_count": 5,
      "metadata": {},
      "outputs": [],
      "source": [
        "a = torch.randn(20, 1)"
      ],
      "id": "145bf68a-a9d0-4ef1-a7c1-a571c95f086a"
    },
    {
      "cell_type": "code",
      "execution_count": 6,
      "metadata": {},
      "outputs": [],
      "source": [
        "b = torch.randn(20)"
      ],
      "id": "f652485f-f4e5-430a-b32b-3aae52f3d1df"
    },
    {
      "cell_type": "code",
      "execution_count": 7,
      "metadata": {},
      "outputs": [],
      "source": [
        "c = a-b"
      ],
      "id": "8603f04d-d05f-411a-a727-afc07ab4937b"
    },
    {
      "cell_type": "code",
      "execution_count": 8,
      "metadata": {},
      "outputs": [
        {
          "output_type": "stream",
          "name": "stdout",
          "text": [
            "torch.Size([20, 1]) torch.Size([20]) torch.Size([20, 20])"
          ]
        }
      ],
      "source": [
        "print(a.size(),b.size(),c.size())"
      ],
      "id": "ab087c5b-a830-4acd-936b-419f64c22d1f"
    },
    {
      "cell_type": "markdown",
      "metadata": {},
      "source": [
        "------------------------------------------------------------------------\n",
        "\n",
        "#### Doesn’t it have to ‘y_hat’ be the same shape as snapshot.y?\n",
        "\n",
        "-   If we want to compare the y_hat from the model with the values y,\n",
        "    the same shape is appropriate to evaluate."
      ],
      "id": "a0c58795-8919-4080-acec-fafc07eac498"
    },
    {
      "cell_type": "code",
      "execution_count": 9,
      "metadata": {},
      "outputs": [
        {
          "output_type": "stream",
          "name": "stderr",
          "text": [
            "100%|██████████| 200/200 [01:27<00:00,  2.30it/s]"
          ]
        },
        {
          "output_type": "stream",
          "name": "stdout",
          "text": [
            "torch.Size([20]) torch.Size([20]) torch.Size([20])"
          ]
        },
        {
          "output_type": "stream",
          "name": "stderr",
          "text": []
        }
      ],
      "source": [
        "from tqdm import tqdm\n",
        "\n",
        "model = RecurrentGCN(node_features = 4)\n",
        "\n",
        "optimizer = torch.optim.Adam(model.parameters(), lr=0.01)\n",
        "\n",
        "model.train()\n",
        "\n",
        "for epoch in tqdm(range(200)):\n",
        "    cost = 0\n",
        "    for time, snapshot in enumerate(train_dataset):\n",
        "        y_hat = model(snapshot.x, snapshot.edge_index, snapshot.edge_attr).reshape(-1)\n",
        "        cost = cost + torch.mean((y_hat-snapshot.y)**2)\n",
        "    cost = cost / (time+1)\n",
        "    cost.backward()\n",
        "    optimizer.step()\n",
        "    optimizer.zero_grad()\n",
        "    \n",
        "    \n",
        "###########################################################\n",
        "# I added this to check the shape.\n",
        "print(y_hat.shape,snapshot.y.shape,(y_hat-snapshot.y).shape)"
      ],
      "id": "2fdc5f3a-84ad-4d18-a3a2-72b6e6818452"
    },
    {
      "cell_type": "code",
      "execution_count": 10,
      "metadata": {},
      "outputs": [
        {
          "output_type": "stream",
          "name": "stdout",
          "text": [
            "MSE: 1.2844"
          ]
        }
      ],
      "source": [
        "model.eval()\n",
        "cost = 0\n",
        "for time, snapshot in enumerate(test_dataset):\n",
        "    y_hat = model(snapshot.x, snapshot.edge_index, snapshot.edge_attr)\n",
        "    cost = cost + torch.mean((y_hat-snapshot.y)**2)\n",
        "cost = cost / (time+1)\n",
        "cost = cost.item()\n",
        "print(\"MSE: {:.4f}\".format(cost))\n",
        "# >>> MSE: 1.0232"
      ],
      "id": "52d8c3d7-27ad-4220-b22a-382235f28948"
    },
    {
      "cell_type": "markdown",
      "metadata": {},
      "source": [
        "------------------------------------------------------------------------\n",
        "\n",
        "#### Shape Check (2)"
      ],
      "id": "ec0d6e63-9f89-4ab8-9fd1-3cf4dfa73252"
    },
    {
      "cell_type": "code",
      "execution_count": 26,
      "metadata": {},
      "outputs": [],
      "source": [
        "a = torch.randn(20, 1).reshape(-1)"
      ],
      "id": "f443fb6a-039d-4381-aa9a-33aeae040487"
    },
    {
      "cell_type": "code",
      "execution_count": 27,
      "metadata": {},
      "outputs": [],
      "source": [
        "b = torch.randn(20)"
      ],
      "id": "91ccc1c0-1b26-4198-9bf7-e043f54fe678"
    },
    {
      "cell_type": "code",
      "execution_count": 28,
      "metadata": {},
      "outputs": [],
      "source": [
        "c = a-b"
      ],
      "id": "a3a6f270-e003-479f-a70c-284f8ae1dd5e"
    },
    {
      "cell_type": "code",
      "execution_count": 29,
      "metadata": {},
      "outputs": [
        {
          "output_type": "stream",
          "name": "stdout",
          "text": [
            "torch.Size([20]) torch.Size([20]) torch.Size([20])"
          ]
        }
      ],
      "source": [
        "print(a.size(),b.size(),c.size())"
      ],
      "id": "5c1f5f6f-129f-44bf-8602-9f1b80ea044f"
    },
    {
      "cell_type": "markdown",
      "metadata": {},
      "source": [
        "------------------------------------------------------------------------\n",
        "\n",
        "## Web Traffic Prediction"
      ],
      "id": "bb2c22a7-619b-49dc-beb6-f760d0138027"
    },
    {
      "cell_type": "code",
      "execution_count": 11,
      "metadata": {},
      "outputs": [],
      "source": [
        "from torch_geometric_temporal.dataset import WikiMathsDatasetLoader\n",
        "from torch_geometric_temporal.signal import temporal_signal_split\n",
        "\n",
        "loader = WikiMathsDatasetLoader()\n",
        "\n",
        "dataset = loader.get_dataset(lags=14)\n",
        "\n",
        "train_dataset, test_dataset = temporal_signal_split(dataset, train_ratio=0.5)"
      ],
      "id": "293cf2e2-860c-4dea-9538-0747ab69b4e8"
    },
    {
      "cell_type": "code",
      "execution_count": 12,
      "metadata": {},
      "outputs": [],
      "source": [
        "import torch\n",
        "import torch.nn.functional as F\n",
        "from torch_geometric_temporal.nn.recurrent import GConvGRU\n",
        "\n",
        "class RecurrentGCN(torch.nn.Module):\n",
        "    def __init__(self, node_features, filters):\n",
        "        super(RecurrentGCN, self).__init__()\n",
        "        self.recurrent = GConvGRU(node_features, filters, 2)\n",
        "        self.linear = torch.nn.Linear(filters, 1)\n",
        "\n",
        "    def forward(self, x, edge_index, edge_weight):\n",
        "        h = self.recurrent(x, edge_index, edge_weight)\n",
        "        h = F.relu(h)\n",
        "        h = self.linear(h)\n",
        "        return h"
      ],
      "id": "e458230e-210c-40f5-abf9-6dbbc04a2abc"
    },
    {
      "cell_type": "code",
      "execution_count": 13,
      "metadata": {},
      "outputs": [
        {
          "output_type": "stream",
          "name": "stderr",
          "text": [
            "100%|██████████| 50/50 [31:26<00:00, 37.73s/it]"
          ]
        },
        {
          "output_type": "stream",
          "name": "stdout",
          "text": [
            "torch.Size([1068, 1]) torch.Size([1068]) torch.Size([1068, 1068])"
          ]
        },
        {
          "output_type": "stream",
          "name": "stderr",
          "text": []
        }
      ],
      "source": [
        "from tqdm import tqdm\n",
        "\n",
        "model = RecurrentGCN(node_features=14, filters=32)\n",
        "\n",
        "optimizer = torch.optim.Adam(model.parameters(), lr=0.01)\n",
        "\n",
        "model.train()\n",
        "\n",
        "for epoch in tqdm(range(50)):\n",
        "    for time, snapshot in enumerate(train_dataset):\n",
        "        y_hat = model(snapshot.x, snapshot.edge_index, snapshot.edge_attr)\n",
        "        cost = torch.mean((y_hat-snapshot.y)**2)\n",
        "        cost.backward()\n",
        "        optimizer.step()\n",
        "        optimizer.zero_grad()\n",
        "    \n",
        "    \n",
        "###########################################################\n",
        "# I added this to check the shape.\n",
        "print(y_hat.shape,snapshot.y.shape,(y_hat-snapshot.y).shape)"
      ],
      "id": "777ad28d-49bb-4133-b13a-76e5ca0ddd49"
    },
    {
      "cell_type": "code",
      "execution_count": 14,
      "metadata": {},
      "outputs": [
        {
          "output_type": "stream",
          "name": "stdout",
          "text": [
            "MSE: 0.7939"
          ]
        }
      ],
      "source": [
        "model.eval()\n",
        "cost = 0\n",
        "for time, snapshot in enumerate(test_dataset):\n",
        "    y_hat = model(snapshot.x, snapshot.edge_index, snapshot.edge_attr)\n",
        "    cost = cost + torch.mean((y_hat-snapshot.y)**2)\n",
        "cost = cost / (time+1)\n",
        "cost = cost.item()\n",
        "print(\"MSE: {:.4f}\".format(cost))\n",
        "# >>> MSE: 0.7760"
      ],
      "id": "3c3e7fcf-8616-411a-8b8e-852bed40e5f6"
    },
    {
      "cell_type": "markdown",
      "metadata": {},
      "source": [
        "------------------------------------------------------------------------\n",
        "\n",
        "#### Shape Check (1)"
      ],
      "id": "75c1771b-5928-4717-b0f7-620880ea8adf"
    },
    {
      "cell_type": "code",
      "execution_count": 20,
      "metadata": {},
      "outputs": [],
      "source": [
        "a = torch.randn(1068, 1)"
      ],
      "id": "118fd46b-86c0-4599-92f5-c4885b808093"
    },
    {
      "cell_type": "code",
      "execution_count": 21,
      "metadata": {},
      "outputs": [],
      "source": [
        "b = torch.randn(1068)"
      ],
      "id": "db4395f8-634e-4aa8-aba2-6a34e873bb56"
    },
    {
      "cell_type": "code",
      "execution_count": 22,
      "metadata": {},
      "outputs": [],
      "source": [
        "c = a-b"
      ],
      "id": "eb60dba3-7e83-457e-80b9-9fb8af889011"
    },
    {
      "cell_type": "code",
      "execution_count": 23,
      "metadata": {},
      "outputs": [
        {
          "output_type": "stream",
          "name": "stdout",
          "text": [
            "torch.Size([1068, 1]) torch.Size([1068]) torch.Size([1068, 1068])"
          ]
        }
      ],
      "source": [
        "print(a.size(),b.size(),c.size())"
      ],
      "id": "6eeca366-cebf-4922-be66-7ff135eaea11"
    },
    {
      "cell_type": "markdown",
      "metadata": {},
      "source": [
        "------------------------------------------------------------------------\n",
        "\n",
        "#### If the code changes the shape of y_hat?"
      ],
      "id": "134e8a48-5b15-4662-a0eb-0b529be6a4fe"
    },
    {
      "cell_type": "code",
      "execution_count": 24,
      "metadata": {},
      "outputs": [
        {
          "output_type": "stream",
          "name": "stderr",
          "text": [
            "100%|██████████| 50/50 [36:39<00:00, 43.99s/it]"
          ]
        },
        {
          "output_type": "stream",
          "name": "stdout",
          "text": [
            "torch.Size([1068, 1]) torch.Size([1068]) torch.Size([1068, 1068])"
          ]
        },
        {
          "output_type": "stream",
          "name": "stderr",
          "text": []
        }
      ],
      "source": [
        "from tqdm import tqdm\n",
        "\n",
        "model = RecurrentGCN(node_features=14, filters=32)\n",
        "\n",
        "optimizer = torch.optim.Adam(model.parameters(), lr=0.01)\n",
        "\n",
        "model.train()\n",
        "\n",
        "for epoch in tqdm(range(50)):\n",
        "    for time, snapshot in enumerate(train_dataset):\n",
        "        y_hat = model(snapshot.x, snapshot.edge_index, snapshot.edge_attr)\n",
        "        cost = torch.mean((y_hat-snapshot.y)**2)\n",
        "        cost.backward()\n",
        "        optimizer.step()\n",
        "        optimizer.zero_grad()\n",
        "    \n",
        "    \n",
        "###########################################################\n",
        "# I added this to check the shape.\n",
        "print(y_hat.shape,snapshot.y.shape,(y_hat-snapshot.y).shape)"
      ],
      "id": "299ff179-bc02-43d0-9a5d-3bef769b7ae2"
    },
    {
      "cell_type": "code",
      "execution_count": 25,
      "metadata": {},
      "outputs": [
        {
          "output_type": "stream",
          "name": "stdout",
          "text": [
            "MSE: 0.7807"
          ]
        }
      ],
      "source": [
        "model.eval()\n",
        "cost = 0\n",
        "for time, snapshot in enumerate(test_dataset):\n",
        "    y_hat = model(snapshot.x, snapshot.edge_index, snapshot.edge_attr)\n",
        "    cost = cost + torch.mean((y_hat-snapshot.y)**2)\n",
        "cost = cost / (time+1)\n",
        "cost = cost.item()\n",
        "print(\"MSE: {:.4f}\".format(cost))\n",
        "# >>> MSE: 0.7760"
      ],
      "id": "6633b08a-6598-4921-b707-5a58347b4a47"
    },
    {
      "cell_type": "markdown",
      "metadata": {},
      "source": [
        "------------------------------------------------------------------------\n",
        "\n",
        "#### Shape Check (2)"
      ],
      "id": "79cd137c-5417-4401-a6bf-b35c922d0341"
    },
    {
      "cell_type": "code",
      "execution_count": 30,
      "metadata": {},
      "outputs": [],
      "source": [
        "a = torch.randn(1068, 1).reshape(-1)"
      ],
      "id": "d9867349-853e-4515-9fb9-801c3aafc051"
    },
    {
      "cell_type": "code",
      "execution_count": 31,
      "metadata": {},
      "outputs": [],
      "source": [
        "b = torch.randn(1068)"
      ],
      "id": "e00dba18-8940-4ccc-a189-bced58bc424d"
    },
    {
      "cell_type": "code",
      "execution_count": 32,
      "metadata": {},
      "outputs": [],
      "source": [
        "c = a-b"
      ],
      "id": "8e7ba500-a4b3-4a1c-abd4-2bb15bd60155"
    },
    {
      "cell_type": "code",
      "execution_count": 33,
      "metadata": {},
      "outputs": [
        {
          "output_type": "stream",
          "name": "stdout",
          "text": [
            "torch.Size([1068]) torch.Size([1068]) torch.Size([1068])"
          ]
        }
      ],
      "source": [
        "print(a.size(),b.size(),c.size())"
      ],
      "id": "b1bdc994-7a95-4cb5-b27e-ca611a345802"
    },
    {
      "cell_type": "markdown",
      "metadata": {},
      "source": [
        "------------------------------------------------------------------------\n",
        "\n",
        "### References\n",
        "\n",
        "@inproceedings{rozemberczki2021pytorch, author = {Benedek Rozemberczki\n",
        "and Paul Scherer and Yixuan He and George Panagopoulos and Alexander\n",
        "Riedel and Maria Astefanoaei and Oliver Kiss and Ferenc Beres and and\n",
        "Guzman Lopez and Nicolas Collignon and Rik Sarkar}, title = {{PyTorch\n",
        "Geometric Temporal: Spatiotemporal Signal Processing with Neural Machine\n",
        "Learning Models}}, year = {2021}, booktitle={Proceedings of the 30th ACM\n",
        "International Conference on Information and Knowledge Management}, pages\n",
        "= {4564–4573}, }"
      ],
      "id": "85fd3501-b311-4cac-b3af-7167d1bc638e"
    }
  ],
  "nbformat": 4,
  "nbformat_minor": 5,
  "metadata": {
    "kernelspec": {
      "name": "python3",
      "display_name": "Python 3 (ipykernel)",
      "language": "python"
    },
    "language_info": {
      "name": "python",
      "codemirror_mode": {
        "name": "ipython",
        "version": "3"
      },
      "file_extension": ".py",
      "mimetype": "text/x-python",
      "nbconvert_exporter": "python",
      "pygments_lexer": "ipython3",
      "version": "3.8.12"
    }
  }
}